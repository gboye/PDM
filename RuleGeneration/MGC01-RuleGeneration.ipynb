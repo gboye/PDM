{
 "cells": [
  {
   "cell_type": "markdown",
   "metadata": {},
   "source": [
    "# Génération des règles pour une série d'échantillons"
   ]
  },
  {
   "cell_type": "markdown",
   "metadata": {},
   "source": [
    "## Importations\n",
    "- codecs pour les encodages\n",
    "- pandas et numpy pour les calculs sur tableaux\n",
    "- matplotlib pour les graphiques\n",
    "- itertools pour les itérateurs sophistiqués (paires sur liste, ...)"
   ]
  },
  {
   "cell_type": "code",
   "execution_count": 160,
   "metadata": {
    "collapsed": true
   },
   "outputs": [],
   "source": [
    "# -*- coding: utf8 -*-\n",
    "import codecs,glob,re,pickle,features,time\n",
    "import pandas as pd\n",
    "import numpy as np\n",
    "import matplotlib.pyplot as plt\n",
    "import itertools as it\n",
    "debug=True\n",
    "from __future__ import print_function"
   ]
  },
  {
   "cell_type": "code",
   "execution_count": 154,
   "metadata": {
    "collapsed": true
   },
   "outputs": [],
   "source": [
    "from ipywidgets import FloatProgress\n",
    "from IPython.display import display"
   ]
  },
  {
   "cell_type": "markdown",
   "metadata": {},
   "source": [
    "### Primitives pour les combinatoires \n",
    "- arrangements\n",
    "- combinaisons"
   ]
  },
  {
   "cell_type": "code",
   "execution_count": 96,
   "metadata": {
    "collapsed": true
   },
   "outputs": [],
   "source": [
    "import math\n",
    "def rAn(r,n):\n",
    "    f = math.factorial\n",
    "    return f(n) / f(n-r)\n",
    "def rCn(r,n):\n",
    "    f = math.factorial\n",
    "    return f(n) / f(r) / f(n-r)"
   ]
  },
  {
   "cell_type": "markdown",
   "metadata": {},
   "source": [
    "### Préparation des matrices de traits"
   ]
  },
  {
   "cell_type": "code",
   "execution_count": 97,
   "metadata": {
    "collapsed": true
   },
   "outputs": [],
   "source": [
    "features.add_config('../bdlexique.ini')\n",
    "fs=features.FeatureSystem('phonemes')"
   ]
  },
  {
   "cell_type": "code",
   "execution_count": 98,
   "metadata": {},
   "outputs": [
    {
     "name": "stdout",
     "output_type": "stream",
     "text": [
      "p [u'p'] ;\n",
      "t [u't'] ;\n",
      "k [u'k'] ;\n",
      "b [u'b'] ;\n",
      "d [u'd'] ;\n",
      "g [u'g'] ;\n",
      "f [u'f'] ;\n",
      "s [u's'] ;\n",
      "S [u'S'] ;\n",
      "v [u'v'] ;\n",
      "z [u'z'] ;\n",
      "Z [u'Z'] ;\n",
      "m [u'm'] ;\n",
      "n [u'n'] ;\n",
      "J [u'J'] ;\n",
      "N [u'N'] ;\n",
      "j [u'j'] ;\n",
      "l [u'l'] ;\n",
      "r [u'r'] ;\n",
      "w [u'w'] ;\n",
      "H [u'H'] ;\n",
      "i [u'i'] ;\n",
      "y [u'y'] ;\n",
      "E [u'E'] ;\n",
      "e [u'e'] ;\n",
      "9 [u'9'] ;\n",
      "2 [u'2'] ;\n",
      "6 [u'6'] ;\n",
      "a [u'a'] ;\n",
      "u [u'u'] ;\n",
      "O [u'O'] ;\n",
      "o [u'o'] ;\n",
      "ê [u'\\xea'] ;\n",
      "û [u'\\xfb'] ;\n",
      "â [u'\\xe2'] ;\n",
      "ô [u'\\xf4'] ;\n"
     ]
    }
   ],
   "source": [
    "validPhonemes=list(fs.supremum.concept.extent)\n",
    "for phoneme in validPhonemes:\n",
    "    print (phoneme, [phoneme], \";\")"
   ]
  },
  {
   "cell_type": "markdown",
   "metadata": {},
   "source": [
    "### Préparation des neutralisations\n",
    "- -N pour Nord\n",
    "- -S pour Sud\n",
    "- -X sans neutralisation"
   ]
  },
  {
   "cell_type": "code",
   "execution_count": 99,
   "metadata": {
    "collapsed": true
   },
   "outputs": [],
   "source": [
    "phonologicalMap=\"-S\""
   ]
  },
  {
   "cell_type": "code",
   "execution_count": 100,
   "metadata": {
    "collapsed": true
   },
   "outputs": [],
   "source": [
    "neutralisationsNORD=(u\"6û\",u\"9ê\")\n",
    "neutralisationsSUD=(u\"e2o\",u\"E9O\")\n",
    "if phonologicalMap==\"-N\":\n",
    "    neutralisations=neutralisationsNORD\n",
    "elif phonologicalMap==\"-S\":\n",
    "    neutralisations=neutralisationsSUD\n",
    "else:\n",
    "    neutralisations=(u\"\",u\"\")\n",
    "    phonologicalMap=(\"-X\")\n",
    "bdlexiqueIn = unicode(u\"èò\"+neutralisations[0])\n",
    "bdlexiqueNum = [ord(char) for char in bdlexiqueIn]\n",
    "neutreOut = unicode(u\"EO\"+neutralisations[1])\n",
    "neutralise = dict(zip(bdlexiqueNum, neutreOut))"
   ]
  },
  {
   "cell_type": "code",
   "execution_count": 101,
   "metadata": {
    "collapsed": true
   },
   "outputs": [],
   "source": [
    "def recoder(chaine,table=neutralise):\n",
    "    if type(chaine)==str:\n",
    "        temp=unicode(chaine.decode('utf8')).translate(table)\n",
    "        result=temp.encode('utf8')\n",
    "    elif type(chaine)==unicode:\n",
    "        result=chaine.translate(table)\n",
    "    else:\n",
    "        result=chaine\n",
    "    return result"
   ]
  },
  {
   "cell_type": "markdown",
   "metadata": {},
   "source": [
    "# Lecture de l'échantillon"
   ]
  },
  {
   "cell_type": "markdown",
   "metadata": {},
   "source": [
    "### Lecture du lexique\n",
    "- nomLexique pour le fichier\n",
    "- names pour les noms de colonnes\n",
    "- élimination des lignes dupliquées éventuelles (p.e. dépendre)"
   ]
  },
  {
   "cell_type": "code",
   "execution_count": 102,
   "metadata": {
    "collapsed": true
   },
   "outputs": [],
   "source": [
    "filePrefix=\"/Users/gilles/Box Sync/2015-Data/FlexionAdjectifs/\""
   ]
  },
  {
   "cell_type": "raw",
   "metadata": {
    "collapsed": true
   },
   "source": [
    "casesPrincipales= [\n",
    "        'inf', 'pi1S', 'pi2S', 'pi3S', 'pi1P', 'pi2P', 'pi3P', 'ii1S',\n",
    "        'ii2S', 'ii3S', 'ii1P', 'ii2P', 'ii3P', \n",
    "        'fi1S', 'fi2S', 'fi3S', 'fi1P', 'fi2P',\n",
    "        'fi3P', 'pI2S', 'pI1P', 'pI2P', 'ps1S', 'ps2S', 'ps3S', 'ps1P',\n",
    "        'ps2P', 'ps3P', \n",
    "        'pc1S', 'pc2S', 'pc3S', 'pc1P', 'pc2P', 'pc3P', 'pP',\n",
    "        'ppMS', 'ppMP', 'ppFS', 'ppFP'\n",
    "            ]\n",
    "casesSecondaires= [\n",
    "       'ai1S', 'ai2S', 'ai3S', 'ai1P', 'ai2P', 'ai3P', 'is1S', 'is2S', 'is3S', 'is1P', 'is2P', 'is3P'\n",
    "            ]\n",
    "casesTotales=casesPrincipales+casesSecondaires\n",
    "listeCases=casesTotales"
   ]
  },
  {
   "cell_type": "markdown",
   "metadata": {},
   "source": [
    "# Préparation du calcul des analogies"
   ]
  },
  {
   "cell_type": "markdown",
   "metadata": {},
   "source": [
    "### Calcul de la différence entre deux formes"
   ]
  },
  {
   "cell_type": "code",
   "execution_count": 103,
   "metadata": {
    "collapsed": true
   },
   "outputs": [],
   "source": [
    "def diff(mot1,mot2):\n",
    "    result=[]\n",
    "    diff1=\"\"\n",
    "    diff2=\"\"\n",
    "    same=\"\"\n",
    "    vide=\".\"\n",
    "    lmax=max(len(mot1),len(mot2))\n",
    "    lmin=min(len(mot1),len(mot2))\n",
    "    for index in range(lmax):\n",
    "        if index < lmin:\n",
    "            if mot1[index]!=mot2[index]:\n",
    "                diff1+=mot1[index]\n",
    "                diff2+=mot2[index]\n",
    "                same+=vide\n",
    "            else:\n",
    "                same+=mot1[index]\n",
    "                diff1+=vide\n",
    "                diff2+=vide\n",
    "        elif index < len(mot1):\n",
    "            diff1+=mot1[index]\n",
    "        elif index < len(mot2):\n",
    "            diff2+=mot2[index]\n",
    "    diff1=diff1.lstrip(\".\")\n",
    "    diff2=diff2.lstrip(\".\")\n",
    "#    return (same,diff1,diff2,diff1+\"_\"+diff2)\n",
    "    return (diff1+\"-\"+diff2)"
   ]
  },
  {
   "cell_type": "markdown",
   "metadata": {},
   "source": [
    "### Accumulation des paires appartenant à un patron"
   ]
  },
  {
   "cell_type": "code",
   "execution_count": 104,
   "metadata": {
    "collapsed": true
   },
   "outputs": [],
   "source": [
    "def rowDiff(row, patrons):\n",
    "    result=diff(row[0],row[1])\n",
    "    if not result in patrons:\n",
    "        patrons[result]=(formesPatron(),formesPatron())\n",
    "    patrons[result][0].ajouterFormes(row[0])\n",
    "    patrons[result][1].ajouterFormes(row[1])\n",
    "    return (result[0],result[1])"
   ]
  },
  {
   "cell_type": "markdown",
   "metadata": {},
   "source": [
    "### Transformation d'un patron en RegExp"
   ]
  },
  {
   "cell_type": "code",
   "execution_count": 105,
   "metadata": {
    "collapsed": true
   },
   "outputs": [],
   "source": [
    "def patron2regexp(morceaux):\n",
    "    result=\"^\"\n",
    "    for morceau in morceaux:\n",
    "        if morceau==\"*\":\n",
    "            result+=\"(.*)\"\n",
    "        elif len(morceau)>1:\n",
    "            result+=\"([\"+morceau+\"])\"\n",
    "        else:\n",
    "            result+=morceau\n",
    "    result+=\"$\"\n",
    "    result=result.replace(\")(\",\"\")\n",
    "    return result"
   ]
  },
  {
   "cell_type": "markdown",
   "metadata": {},
   "source": [
    "### Substitution de sortie \n",
    "???"
   ]
  },
  {
   "cell_type": "code",
   "execution_count": 106,
   "metadata": {
    "collapsed": true
   },
   "outputs": [],
   "source": [
    "def remplacementSortie(sortie):\n",
    "    n=1\n",
    "    nsortie=\"\"\n",
    "    for lettre in sortie:\n",
    "        if lettre==\".\":\n",
    "            nsortie+=\"\\g<%d>\"%n\n",
    "            n+=1\n",
    "        else:\n",
    "            nsortie+=lettre\n",
    "    return nsortie"
   ]
  },
  {
   "cell_type": "markdown",
   "metadata": {},
   "source": [
    "## Classes pour la gestion des analogies\n",
    "- formesPatron pour la généralisation minimale d'un patron à partir des paires correspondantes\n",
    " - dans un sens donné\n",
    "- pairePatrons pour les paires de formes correspondant à chaque patron\n",
    " - dans les deux sens"
   ]
  },
  {
   "cell_type": "code",
   "execution_count": 107,
   "metadata": {
    "collapsed": true
   },
   "outputs": [],
   "source": [
    "class formesPatron:\n",
    "    '''\n",
    "    Accumulateur de formes correspondant à un patron pour calcul de la Généralisation Minimale (cf. MGL)\n",
    "    '''\n",
    "    def __init__(self):\n",
    "        self.formes=[]\n",
    "\n",
    "#    def __repr__(self):\n",
    "#        return ','.join(self.calculerGM())\n",
    "        \n",
    "    def ajouterForme(self,forme):\n",
    "        self.formes.append(forme)\n",
    "        \n",
    "    def calculerGM(self):\n",
    "        minLongueur=len(min(self.formes, key=len))\n",
    "        maxLongueur=len(max(self.formes, key=len))\n",
    "        if debug: print (minLongueur, maxLongueur)\n",
    "        positions=[]\n",
    "        if maxLongueur>minLongueur:\n",
    "            positions.append(\"*\")\n",
    "        for i in xrange(minLongueur, 0, -1):\n",
    "            phonemes=set([x[-i] for x in self.formes])\n",
    "            if debug: print (phonemes)\n",
    "            if \".\" in phonemes:\n",
    "                positions.append(\".\")\n",
    "            else:\n",
    "                positions.append(u\"\".join(fs.lattice[phonemes].extent))\n",
    "        return patron2regexp(positions)\n",
    "\n",
    "class pairePatrons:\n",
    "    '''\n",
    "    Accumulateur de triplets (f1,f2,patron) correspondant à une paire pour calcul des Généralisations Minimales (cf. MGL)\n",
    "    '''\n",
    "    def __init__(self,case1,case2):\n",
    "        self.patrons1={}\n",
    "        self.patrons2={}\n",
    "        self.case1=case1\n",
    "        self.case2=case2\n",
    "\n",
    "#    def __repr__(self):\n",
    "#        return ','.join(self.calculerGM())\n",
    "        \n",
    "    def ajouterFormes(self,forme1,forme2,patron):\n",
    "#        print (forme1,forme2,patron, file=logfile)\n",
    "        patron12=patron\n",
    "        (pat1,pat2)=patron.split(\"-\")\n",
    "        patron21=pat2+\"-\"+pat1\n",
    "#        print (patron12,patron21, file=logfile)\n",
    "        if not patron12 in self.patrons1:\n",
    "            if debug: print (forme1,forme2,patron12)\n",
    "            self.patrons1[patron12]=formesPatron()\n",
    "        self.patrons1[patron12].ajouterForme(forme1)\n",
    "        if not patron21 in self.patrons2:\n",
    "            self.patrons2[patron21]=formesPatron()\n",
    "        self.patrons2[patron21].ajouterForme(forme2)\n",
    "        \n",
    "        \n",
    "    def calculerGM(self):\n",
    "        resultat1={}\n",
    "        for patron in self.patrons1:\n",
    "            if debug: print (\"patron1\", patron)\n",
    "            resultat1[patron]=self.patrons1[patron].calculerGM()\n",
    "        resultat2={}\n",
    "        for patron in self.patrons2:\n",
    "            if debug: print (\"patron2\", patron)\n",
    "            resultat2[patron]=self.patrons2[patron].calculerGM()\n",
    "        return (resultat1,resultat2) "
   ]
  },
  {
   "cell_type": "markdown",
   "metadata": {},
   "source": [
    "# Classe pour la gestion des patrons, des classes et des transformations\n",
    "- paireClasses pour ajouter des règles de transformation pour une paire de case et calculer les classes\n",
    " - ajouterPatron (orienté 1 ou 2) pour placer une règle avec son contexte dans classesPaire\n",
    " - ajouterPaire pour placer une paire de formes dans classesPaire\n",
    " - calculerClasses pour obtenir les classes (dans les deux sens)\n",
    "- classesPaire pour ajouter des paires de formes correspondant\n",
    " - ajouterPatron pour stocker une règle et son contexte\n",
    " - ajouterPaire pour stocker une paire et mettre à jour les classes correspondantes\n",
    " - sortirForme pour obtenir la distribution pour un input donné"
   ]
  },
  {
   "cell_type": "code",
   "execution_count": 108,
   "metadata": {
    "collapsed": true
   },
   "outputs": [],
   "source": [
    "class paireClasses:\n",
    "    def __init__(self,case1,case2):\n",
    "        self.case1=case1\n",
    "        self.case2=case2\n",
    "        self.nom=case1+\"-\"+case2\n",
    "        self.classes1=classesPaire(case1,case2)\n",
    "        self.classes2=classesPaire(case2,case1)\n",
    "\n",
    "    def ajouterPatron(self,n,patron,motif):\n",
    "        if n==1:\n",
    "            self.classes1.ajouterPatron(patron,motif)\n",
    "        elif n==2:\n",
    "            self.classes2.ajouterPatron(patron,motif)\n",
    "        else:\n",
    "            print (\"le numéro de forme n'est pas dans [1,2]\",n)# file=logfile)\n",
    "\n",
    "    def ajouterPaire(self,forme1,forme2):\n",
    "        self.classes1.ajouterPaire(forme1,forme2)\n",
    "        self.classes2.ajouterPaire(forme2,forme1)\n",
    "        \n",
    "    def calculerClasses(self):\n",
    "        return(self.classes1,self.classes2)\n",
    "\n",
    "    \n",
    "class classesPaire:\n",
    "    '''\n",
    "    Gestion des patrons, des classes et des transformations\n",
    "    \n",
    "    ajouterPatron : ajoute un patron et son motif associé (MGL)\n",
    "    ajouterPaire : ajoute une paire de formes, calcule la classe de la forme1 et la règle sélectionnée\n",
    "    sortirForme : calcule les formes de sortie correspondant à la forme1 avec leurs coefficients respectifs\n",
    "    '''\n",
    "    def __init__(self,case1,case2):\n",
    "        self.case1=case1\n",
    "        self.case2=case2\n",
    "        self.nom=case1+\"-\"+case2\n",
    "        self.classe={}\n",
    "        self.nbClasse={}\n",
    "        self.patrons={}\n",
    "        self.entree={}\n",
    "        self.sortie={}\n",
    "    \n",
    "    def ajouterPatron(self,patron,motif):\n",
    "        self.patrons[patron]=motif\n",
    "        (entree,sortie)=patron.split(\"-\")\n",
    "        self.entree[patron]=entree.replace(u\".\",u\"(.)\")\n",
    "        self.sortie[patron]=remplacementSortie(sortie)\n",
    "    \n",
    "    def ajouterPaire(self,forme1,forme2):\n",
    "        '''\n",
    "        on calcule la classe de la paire idClasseForme et la règle sélectionnée\n",
    "        on incrémente le compteur de la classe et celui de la règle sélectionnée à l'intérieur de la classe\n",
    "        '''\n",
    "        classeForme=[]\n",
    "        regleForme=\"\"\n",
    "        for patron in self.patrons:\n",
    "            if re.match(self.patrons[patron],forme1):\n",
    "                classeForme.append(patron)\n",
    "                '''\n",
    "                le +\"$\" permet de forcer l'alignement à droite pour les transformations suffixales\n",
    "                '''\n",
    "                if forme2==re.sub(self.entree[patron]+\"$\",self.sortie[patron],forme1):\n",
    "                    regleForme=patron\n",
    "        idClasseForme=\", \".join(classeForme)\n",
    "        if not idClasseForme in self.classe:\n",
    "            self.classe[idClasseForme]={}\n",
    "            self.nbClasse[idClasseForme]=0\n",
    "        if not regleForme in self.classe[idClasseForme]:\n",
    "            self.classe[idClasseForme][regleForme]=0\n",
    "        self.nbClasse[idClasseForme]+=1\n",
    "        self.classe[idClasseForme][regleForme]+=1\n",
    "\n",
    "    def sortirForme(self,forme):\n",
    "        classeForme=[]\n",
    "        sortieForme={}\n",
    "        forme=recoder(forme)\n",
    "        for patron in self.patrons:\n",
    "            if re.match(self.patrons[patron],forme):\n",
    "                classeForme.append(patron)\n",
    "        if classeForme:\n",
    "            idClasseForme=\", \".join(classeForme)\n",
    "            if idClasseForme in self.nbClasse:\n",
    "                nTotal=self.nbClasse[idClasseForme]\n",
    "                for patron in self.classe[idClasseForme]:\n",
    "                    sortie=re.sub(self.entree[patron]+\"$\",self.sortie[patron],forme)\n",
    "                    sortieForme[sortie]=float(self.classe[idClasseForme][patron])/nTotal\n",
    "            else:\n",
    "                print (forme)#, file=logfile)\n",
    "                print (\"pas de classe\",idClasseForme)#, file=logfile)\n",
    "                print (\"%.2f par forme de sortie\" % (float(1)/len(classeForme)))#, file=logfile)\n",
    "                nTotal=len(classeForme)\n",
    "                for patron in classeForme:\n",
    "                    sortie=re.sub(self.entree[patron]+\"$\",self.sortie[patron],forme)\n",
    "                    sortieForme[sortie]=float(1)/nTotal\n",
    "        else:\n",
    "            print (forme)#, file=logfile) \n",
    "            print (\"pas de patron\")#, file=logfile)\n",
    "        return sortieForme\n",
    "        "
   ]
  },
  {
   "cell_type": "markdown",
   "metadata": {},
   "source": [
    "## Appliquer la formule de calcul des différences entre chaines à chaque ligne\n",
    "\n",
    ">si il y a au moins une ligne\n",
    "\n",
    ">>on applique la différence à la ligne\n",
    "\n",
    ">>on calcule les deux patrons par suppression des points initiaux\n",
    "\n",
    ">>on renvoie le groupement par patrons (1&2)\n",
    "\n",
    ">sinon\n",
    "\n",
    ">>on renvoie le paradigme vide d'origine"
   ]
  },
  {
   "cell_type": "raw",
   "metadata": {},
   "source": [
    "def OLDrapports(paradigme):\n",
    "    (case1,case2,lexeme)= paradigme.columns.values.tolist()\n",
    "    patrons=pairePatrons(case1,case2)\n",
    "    if len(paradigme)>0:\n",
    "#        for index, row in paradigme.iterrows():\n",
    "#            patrons.ajouterFormes(row[0],row[1],diff(row[0],row[1]))\n",
    "        paradigme.apply(lambda x: patrons.ajouterFormes(x[case1],x[case2],diff(x[case1],x[case2])), axis=1)\n",
    "        (regles1,regles2)=patrons.calculerGM()\n",
    "    return patrons.calculerGM()"
   ]
  },
  {
   "cell_type": "code",
   "execution_count": 109,
   "metadata": {
    "collapsed": true
   },
   "outputs": [],
   "source": [
    "def rapports(paradigme):\n",
    "    if len(paradigme.columns.values.tolist())==2:\n",
    "        (case1,lexeme)= paradigme.columns.values.tolist()\n",
    "        case2=case1\n",
    "    else:\n",
    "        (case1,case2,lexeme)= paradigme.columns.values.tolist()\n",
    "    patrons=pairePatrons(case1,case2)\n",
    "    classes=paireClasses(case1,case2)\n",
    "    if len(paradigme)>0:\n",
    "        paradigme.apply(lambda x: patrons.ajouterFormes(x[case1],x[case2],diff(x[case1],x[case2])), axis=1)\n",
    "        (regles1,regles2)=patrons.calculerGM()\n",
    "        for regle in regles1:\n",
    "            classes.ajouterPatron(1,regle,regles1[regle])\n",
    "        for regle in regles2:\n",
    "            classes.ajouterPatron(2,regle,regles2[regle])\n",
    "        paradigme.apply(lambda x: classes.ajouterPaire(x[case1],x[case2]), axis=1)\n",
    "    (classes1,classes2)=classes.calculerClasses()\n",
    "    return (classes1,classes2)"
   ]
  },
  {
   "cell_type": "markdown",
   "metadata": {},
   "source": [
    "### Dédoubler les lignes avec des surabondances dans *colonne*\n",
    ">identifier une ligne avec surabondance\n",
    "\n",
    ">>ajouter les lignes correspondant à chaque valeur\n",
    "\n",
    ">>ajouter le numéro de la ligne initiale dans les lignes à supprimer\n",
    "\n",
    ">supprimer les lignes avec surabondance\n",
    "\n",
    "NB : il faut préparer le tableau pour avoir une indexation qui permette l'ajout des valeurs individuelles et la suppression des lignes de surabondances"
   ]
  },
  {
   "cell_type": "code",
   "execution_count": 110,
   "metadata": {
    "collapsed": true
   },
   "outputs": [],
   "source": [
    "def splitCellMates(df,colonne):\n",
    "    '''\n",
    "    Calcul d'une dataframe sans surabondance par dédoublement des valeurs\n",
    "    '''\n",
    "    test=df.reset_index()\n",
    "    del test[\"index\"]\n",
    "    splitIndexes=[]\n",
    "    for index,ligne in test.iterrows():\n",
    "        if \",\" in ligne[colonne]:\n",
    "            valeurs=set(ligne[colonne].split(\",\"))\n",
    "            nouvelleLigne=ligne\n",
    "            for valeur in valeurs:\n",
    "                nouvelleLigne[colonne]=valeur\n",
    "                test=test.append(nouvelleLigne,ignore_index=True)\n",
    "            splitIndexes.append(index)\n",
    "    if splitIndexes:\n",
    "        test=test.drop(test.index[splitIndexes])\n",
    "    return test\n"
   ]
  },
  {
   "cell_type": "markdown",
   "metadata": {},
   "source": [
    "## Calculer les rapports entre formes pour chaque paire\n",
    "\n",
    ">on fait la liste des cases de *paradigmes*\n",
    "\n",
    ">pour chaque paire du tableau principal\n",
    "\n",
    ">>si la paire fait partie des cases de *paradigmes*\n",
    "\n",
    ">>>on calcule le rapport\n",
    "\n",
    ">>sinon\n",
    "\n",
    ">>>on signale que qu'une des cases n'est pas représentée"
   ]
  },
  {
   "cell_type": "code",
   "execution_count": 111,
   "metadata": {
    "collapsed": true
   },
   "outputs": [],
   "source": [
    "def evaluerEchantillon(paradigmes):\n",
    "    result={}\n",
    "    colonnes=paradigmes.columns.values.tolist()\n",
    "    for n,paire in enumerate(it.combinations_with_replacement(sampleCases,2)):\n",
    "#        progressBar.value=n\n",
    "        if debug: print (paire)#, file=logfile)\n",
    "        if debug: print (\"-\".join(paire),end=\", \")\n",
    "        paireListe=list(paire)\n",
    "        paireListe.append(\"lexeme\")\n",
    "        if paire[0] in colonnes and paire[1] in colonnes:\n",
    "            paradigmePaire=paradigmes[paireListe].dropna(thresh=3, axis=0).reindex()\n",
    "            if paire[0]==paire[1]:\n",
    "                paireListe[1]=\"TEMP\"\n",
    "                paradigmePaire.columns=paireListe\n",
    "            paradigmePaire=splitCellMates(splitCellMates(paradigmePaire,paireListe[0]),paireListe[1])\n",
    "            if debug: print (paradigmePaire)\n",
    "            result[paire]=rapports(paradigmePaire)\n",
    "        else:\n",
    "            result[paire]=(\"missing pair\", paire)\n",
    "    return result"
   ]
  },
  {
   "cell_type": "markdown",
   "metadata": {},
   "source": [
    "### Normalisation de la phono et vérification des diérèses"
   ]
  },
  {
   "cell_type": "code",
   "execution_count": 112,
   "metadata": {
    "collapsed": true
   },
   "outputs": [],
   "source": [
    "dierese={\"j\":\"ij\", \"w\":\"uw\",\"H\":\"yH\",\"i\":\"ij\",\"u\":\"uw\",\"y\":\"yH\"}\n",
    "def checkFrench(prononciation):\n",
    "    result=recoder(prononciation)\n",
    "    m=re.match(ur\"^.*([^ieèEaOouy926êôâ])[jwH]$\",result)\n",
    "    if m:\n",
    "        print (\"pb avec un glide final\", prononciation)\n",
    "    m=re.match(ur\"(.*[ptkbdgfsSvzZ][rl])([jwH])(.*)\",result)\n",
    "    if m:\n",
    "        n=re.search(ur\"[ptkbdgfsSvzZ][rl](wa|Hi|wê)\",result)\n",
    "        if not n:\n",
    "            glide=m.group(2)\n",
    "            result=m.group(1)+dierese[glide]+m.group(3)\n",
    "    m=re.match(ur\"(.*)([iuy])([ieEaOouy].*)\",result)\n",
    "    if m:\n",
    "        glide=m.group(2)\n",
    "        result=m.group(1)+dierese[glide]+m.group(3)\n",
    "    return result"
   ]
  },
  {
   "cell_type": "markdown",
   "metadata": {},
   "source": [
    "## Lecture et transformation d'un lexique/échantillon en paradigme"
   ]
  },
  {
   "cell_type": "code",
   "execution_count": 113,
   "metadata": {
    "collapsed": true
   },
   "outputs": [],
   "source": [
    "def lireLexique(nomLexique):\n",
    "    with open(nomLexique, 'rb') as input:\n",
    "        lexique=pickle.load(input)\n",
    "        lexique[\"phono\"]=lexique[\"phono\"].apply(checkFrench)\n",
    "    return lexique"
   ]
  },
  {
   "cell_type": "code",
   "execution_count": 114,
   "metadata": {
    "collapsed": true
   },
   "outputs": [],
   "source": [
    "def lexique2Paradigmes(lexique):\n",
    "    return pd.pivot_table(lexique, values='phono', index=['lexeme'], columns=['case'], aggfunc=lambda x: \",\".join(x)).reset_index().reindex()"
   ]
  },
  {
   "cell_type": "markdown",
   "metadata": {},
   "source": [
    "### Boucle de calcul des analogies pour l'échantillon"
   ]
  },
  {
   "cell_type": "code",
   "execution_count": 133,
   "metadata": {
    "collapsed": true
   },
   "outputs": [],
   "source": [
    "#%%time\n",
    "debug=False\n",
    "debug1=True\n",
    "\n",
    "listeEchantillons=glob.glob(filePrefix+\"Longitudinal-*MSP.pkl\")"
   ]
  },
  {
   "cell_type": "raw",
   "metadata": {},
   "source": [
    "nomLexique=listeEchantillons[0]\n",
    "lexique=lireLexique(nomLexique)\n",
    "paradigmes=lexique2Paradigmes(lexique)"
   ]
  },
  {
   "cell_type": "raw",
   "metadata": {},
   "source": [
    "#paradigmes=pd.read_csv(nomLexique,sep=\";\",encoding=\"utf8\")    \n",
    "\n",
    "#del paradigmes[u\"Unnamed: 0\"]\n",
    "sampleCases=paradigmes.columns.tolist()\n",
    "sampleCases.remove(u\"lexeme\")    \n",
    "sampleCases"
   ]
  },
  {
   "cell_type": "raw",
   "metadata": {},
   "source": [
    "#logfile_name=nomLexique.replace(\".pkl\",\".log\")\n",
    "#logfile = codecs.open(logfile_name,mode='w',encoding=\"utf8\")"
   ]
  },
  {
   "cell_type": "markdown",
   "metadata": {},
   "source": [
    "### Générer les classes de transformation à partir d'un lexique/tirage"
   ]
  },
  {
   "cell_type": "code",
   "execution_count": 139,
   "metadata": {
    "collapsed": true
   },
   "outputs": [],
   "source": [
    "def genererClassesFinales(lexique):\n",
    "    paradigmes=lexique2Paradigmes(lexique)\n",
    "    sampleCases=paradigmes.columns.tolist()\n",
    "    sampleCases.remove(u\"lexeme\")    \n",
    "    resultats=evaluerEchantillon(paradigmes)\n",
    "    classesFinales={}\n",
    "    for resultat in resultats:\n",
    "        classesFinales[resultat]=resultats[resultat][0]\n",
    "        classesFinales[(resultat[1],resultat[0])]=resultats[resultat][1]\n",
    "    return classesFinales"
   ]
  },
  {
   "cell_type": "markdown",
   "metadata": {},
   "source": [
    "## Générer les classes pour une liste d'échantillon"
   ]
  },
  {
   "cell_type": "raw",
   "metadata": {},
   "source": [
    "print (rCn(2,len(sampleCases)))\n",
    "#progressBar = FloatProgress(min=0, max=rCn(2,len(sampleCases)))\n",
    "progressBar = FloatProgress(min=0, max=100)\n",
    "display(progressBar)\n",
    "time.sleep(10)"
   ]
  },
  {
   "cell_type": "code",
   "execution_count": 134,
   "metadata": {},
   "outputs": [
    {
     "name": "stdout",
     "output_type": "stream",
     "text": [
      "/Users/gilles/Box Sync/2015-Data/FlexionAdjectifs/Longitudinal-00-T10000-F2994-MSP.pkl, /Users/gilles/Box Sync/2015-Data/FlexionAdjectifs/Longitudinal-01-T20000-F4568-MSP.pkl, /Users/gilles/Box Sync/2015-Data/FlexionAdjectifs/Longitudinal-02-T30000-F5701-MSP.pkl, /Users/gilles/Box Sync/2015-Data/FlexionAdjectifs/Longitudinal-03-T40000-F6652-MSP.pkl, /Users/gilles/Box Sync/2015-Data/FlexionAdjectifs/Longitudinal-04-T50000-F7385-MSP.pkl, /Users/gilles/Box Sync/2015-Data/FlexionAdjectifs/Longitudinal-05-T60000-F8040-MSP.pkl, /Users/gilles/Box Sync/2015-Data/FlexionAdjectifs/Longitudinal-06-T70000-F8568-MSP.pkl, /Users/gilles/Box Sync/2015-Data/FlexionAdjectifs/Longitudinal-07-T80000-F9081-MSP.pkl, /Users/gilles/Box Sync/2015-Data/FlexionAdjectifs/Longitudinal-08-T90000-F9561-MSP.pkl, /Users/gilles/Box Sync/2015-Data/FlexionAdjectifs/Longitudinal-09-T100000-F9974-MSP.pkl, /Users/gilles/Box Sync/2015-Data/FlexionAdjectifs/Longitudinal-10-T200000-F12719-MSP.pkl, /Users/gilles/Box Sync/2015-Data/FlexionAdjectifs/Longitudinal-11-T300000-F14300-MSP.pkl, /Users/gilles/Box Sync/2015-Data/FlexionAdjectifs/Longitudinal-12-T400000-F15326-MSP.pkl, /Users/gilles/Box Sync/2015-Data/FlexionAdjectifs/Longitudinal-13-T500000-F16117-MSP.pkl, /Users/gilles/Box Sync/2015-Data/FlexionAdjectifs/Longitudinal-14-T600000-F16725-MSP.pkl, /Users/gilles/Box Sync/2015-Data/FlexionAdjectifs/Longitudinal-15-T700000-F17209-MSP.pkl, /Users/gilles/Box Sync/2015-Data/FlexionAdjectifs/Longitudinal-16-T800000-F17602-MSP.pkl, /Users/gilles/Box Sync/2015-Data/FlexionAdjectifs/Longitudinal-17-T900000-F17925-MSP.pkl, /Users/gilles/Box Sync/2015-Data/FlexionAdjectifs/Longitudinal-18-T1000000-F18210-MSP.pkl, /Users/gilles/Box Sync/2015-Data/FlexionAdjectifs/Longitudinal-19-T2000000-F19654-MSP.pkl, /Users/gilles/Box Sync/2015-Data/FlexionAdjectifs/Longitudinal-20-T3000000-F20160-MSP.pkl, /Users/gilles/Box Sync/2015-Data/FlexionAdjectifs/Longitudinal-21-T4000000-F20440-MSP.pkl, /Users/gilles/Box Sync/2015-Data/FlexionAdjectifs/Longitudinal-22-T5000000-F20590-MSP.pkl, /Users/gilles/Box Sync/2015-Data/FlexionAdjectifs/Longitudinal-23-T6000000-F20701-MSP.pkl, /Users/gilles/Box Sync/2015-Data/FlexionAdjectifs/Longitudinal-24-T7000000-F20791-MSP.pkl, /Users/gilles/Box Sync/2015-Data/FlexionAdjectifs/Longitudinal-25-T8000000-F20865-MSP.pkl, /Users/gilles/Box Sync/2015-Data/FlexionAdjectifs/Longitudinal-26-T9000000-F20927-MSP.pkl, /Users/gilles/Box Sync/2015-Data/FlexionAdjectifs/Longitudinal-27-T10000000-F20973-MSP.pkl, "
     ]
    }
   ],
   "source": [
    "for nomEchantillon in listeEchantillons:\n",
    "    print (nomEchantillon,end=\", \")\n",
    "    lexique=lireLexique(nomEchantillon)\n",
    "    classesFinales=genererClassesFinales(lexique)\n",
    "    with open(nomEchantillon.replace(\".pkl\",'-Regles.pkl'), 'wb') as output:\n",
    "       pickle.dump(classesFinales, output, pickle.HIGHEST_PROTOCOL)"
   ]
  },
  {
   "cell_type": "markdown",
   "metadata": {},
   "source": [
    "# TESTS"
   ]
  },
  {
   "cell_type": "code",
   "execution_count": 148,
   "metadata": {},
   "outputs": [
    {
     "name": "stdout",
     "output_type": "stream",
     "text": [
      "fini 1.0\n"
     ]
    }
   ],
   "source": [
    "sorties=classesFinales[(\"fs\",\"fs\")].sortirForme(u\"fini\")\n",
    "for element in sorties:\n",
    "    print (element,sorties[element])"
   ]
  },
  {
   "cell_type": "code",
   "execution_count": 151,
   "metadata": {},
   "outputs": [
    {
     "data": {
      "text/plain": [
       "{'-': u'^(.*[ptkbdgfsSvzZmnJNjlrwHiyEe926auOo\\xea\\xfb\\xe2\\xf4])$'}"
      ]
     },
     "execution_count": 151,
     "metadata": {},
     "output_type": "execute_result"
    }
   ],
   "source": [
    "classesFinales[(\"mp\",\"mp\")].patrons"
   ]
  },
  {
   "cell_type": "code",
   "execution_count": 119,
   "metadata": {},
   "outputs": [
    {
     "data": {
      "text/plain": [
       "{(u'fp', u'fp'): <__main__.classesPaire instance at 0x116d54098>,\n",
       " (u'fp', u'mp'): <__main__.classesPaire instance at 0x116b0e248>,\n",
       " (u'fp', u'ms'): <__main__.classesPaire instance at 0x116a22bd8>,\n",
       " (u'mp', u'fp'): <__main__.classesPaire instance at 0x116b0e680>,\n",
       " (u'mp', u'mp'): <__main__.classesPaire instance at 0x116a22638>,\n",
       " (u'mp', u'ms'): <__main__.classesPaire instance at 0x116a1fb00>,\n",
       " (u'ms', u'fp'): <__main__.classesPaire instance at 0x116a22a70>,\n",
       " (u'ms', u'mp'): <__main__.classesPaire instance at 0x116a1ff80>,\n",
       " (u'ms', u'ms'): <__main__.classesPaire instance at 0x116da7830>}"
      ]
     },
     "execution_count": 119,
     "metadata": {},
     "output_type": "execute_result"
    }
   ],
   "source": [
    "classesFinales"
   ]
  },
  {
   "cell_type": "code",
   "execution_count": null,
   "metadata": {
    "collapsed": true
   },
   "outputs": [],
   "source": [
    "fs.lattice[u\"N\"]"
   ]
  },
  {
   "cell_type": "code",
   "execution_count": null,
   "metadata": {
    "collapsed": true
   },
   "outputs": [],
   "source": [
    "fs.lattice[phonemes[:19]]"
   ]
  },
  {
   "cell_type": "code",
   "execution_count": null,
   "metadata": {
    "collapsed": true
   },
   "outputs": [],
   "source": [
    "phonemes=[u'j', u'2', u'6', u'9', u'\\xf4', u'E', u'H', u'J', u'O', u'N', u'S', u'b', u'Z', u'a', u'\\xe2', u'd', u'g', u'f', u'i', u'\\xe8', u'k', u'\\xea', u'm', u'l', u'o', u'n', u'p', u's', u'r', u'u', u't', u'w', u'v', u'y', u'\\xfb', u'z']\n",
    "len(phonemes)"
   ]
  },
  {
   "cell_type": "code",
   "execution_count": 34,
   "metadata": {
    "collapsed": true
   },
   "outputs": [],
   "source": [
    "#logfile.close()"
   ]
  },
  {
   "cell_type": "code",
   "execution_count": null,
   "metadata": {
    "collapsed": true
   },
   "outputs": [],
   "source": [
    "lexique.loc[len(lexique)]=[u\"pourri\",u\"fs\",u\"puʁit\",0.001,0,1,u\"purit\"]"
   ]
  },
  {
   "cell_type": "code",
   "execution_count": 141,
   "metadata": {
    "collapsed": true
   },
   "outputs": [],
   "source": [
    "classesFinales=genererClassesFinales(lexique)"
   ]
  }
 ],
 "metadata": {
  "kernelspec": {
   "display_name": "Python 2",
   "language": "python",
   "name": "python2"
  },
  "language_info": {
   "codemirror_mode": {
    "name": "ipython",
    "version": 2
   },
   "file_extension": ".py",
   "mimetype": "text/x-python",
   "name": "python",
   "nbconvert_exporter": "python",
   "pygments_lexer": "ipython2",
   "version": "2.7.11"
  }
 },
 "nbformat": 4,
 "nbformat_minor": 1
}
