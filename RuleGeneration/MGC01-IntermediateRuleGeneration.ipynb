{
 "cells": [
  {
   "cell_type": "markdown",
   "metadata": {},
   "source": [
    "# Génération des règles pour une série d'échantillons"
   ]
  },
  {
   "cell_type": "markdown",
   "metadata": {},
   "source": [
    "## Importations\n",
    "- codecs pour les encodages\n",
    "- pandas et numpy pour les calculs sur tableaux\n",
    "- matplotlib pour les graphiques\n",
    "- itertools pour les itérateurs sophistiqués (paires sur liste, ...)"
   ]
  },
  {
   "cell_type": "code",
   "execution_count": 152,
   "metadata": {
    "collapsed": true
   },
   "outputs": [],
   "source": [
    "# -*- coding: utf8 -*-\n",
    "import codecs,glob,re,pickle,features,time\n",
    "import pandas as pd\n",
    "import numpy as np\n",
    "import matplotlib.pyplot as plt\n",
    "import itertools as it\n",
    "debug=False\n",
    "realRun=False\n",
    "from __future__ import print_function"
   ]
  },
  {
   "cell_type": "code",
   "execution_count": 153,
   "metadata": {
    "collapsed": true
   },
   "outputs": [],
   "source": [
    "from ipywidgets import FloatProgress\n",
    "from IPython.display import display"
   ]
  },
  {
   "cell_type": "markdown",
   "metadata": {},
   "source": [
    "### Primitives pour les combinatoires \n",
    "- arrangements\n",
    "- combinaisons"
   ]
  },
  {
   "cell_type": "code",
   "execution_count": 154,
   "metadata": {
    "collapsed": true
   },
   "outputs": [],
   "source": [
    "import math\n",
    "def rAn(r,n):\n",
    "    f = math.factorial\n",
    "    return f(n) / f(n-r)\n",
    "def rCn(r,n):\n",
    "    f = math.factorial\n",
    "    return f(n) / f(r) / f(n-r)"
   ]
  },
  {
   "cell_type": "markdown",
   "metadata": {},
   "source": [
    "### Préparation des matrices de traits"
   ]
  },
  {
   "cell_type": "code",
   "execution_count": 155,
   "metadata": {
    "collapsed": true
   },
   "outputs": [],
   "source": [
    "features.add_config('../german.ini')\n",
    "fs=features.FeatureSystem('phonemes')"
   ]
  },
  {
   "cell_type": "code",
   "execution_count": 156,
   "metadata": {},
   "outputs": [
    {
     "name": "stdout",
     "output_type": "stream",
     "text": [
      "p [u'p'] ;\n",
      "t [u't'] ;\n",
      "k [u'k'] ;\n",
      "b [u'b'] ;\n",
      "d [u'd'] ;\n",
      "g [u'g'] ;\n",
      "f [u'f'] ;\n",
      "s [u's'] ;\n",
      "S [u'S'] ;\n",
      "v [u'v'] ;\n",
      "z [u'z'] ;\n",
      "Z [u'Z'] ;\n",
      "m [u'm'] ;\n",
      "n [u'n'] ;\n",
      "J [u'J'] ;\n",
      "x [u'x'] ;\n",
      "ç [u'\\xe7'] ;\n",
      "N [u'N'] ;\n",
      "h [u'h'] ;\n",
      "j [u'j'] ;\n",
      "l [u'l'] ;\n",
      "r [u'r'] ;\n",
      "w [u'w'] ;\n",
      "H [u'H'] ;\n",
      "i [u'i'] ;\n",
      "y [u'y'] ;\n",
      "E [u'E'] ;\n",
      "e [u'e'] ;\n",
      "9 [u'9'] ;\n",
      "2 [u'2'] ;\n",
      "6 [u'6'] ;\n",
      "a [u'a'] ;\n",
      "u [u'u'] ;\n",
      "O [u'O'] ;\n",
      "o [u'o'] ;\n",
      "ê [u'\\xea'] ;\n",
      "û [u'\\xfb'] ;\n",
      "â [u'\\xe2'] ;\n",
      "ô [u'\\xf4'] ;\n"
     ]
    }
   ],
   "source": [
    "validPhonemes=list(fs.supremum.concept.extent)\n",
    "for phoneme in validPhonemes:\n",
    "    print (phoneme, [phoneme], \";\")"
   ]
  },
  {
   "cell_type": "markdown",
   "metadata": {},
   "source": [
    "### Préparation des neutralisations\n",
    "- -N pour Nord\n",
    "- -S pour Sud\n",
    "- -X sans neutralisation"
   ]
  },
  {
   "cell_type": "code",
   "execution_count": 157,
   "metadata": {
    "collapsed": true
   },
   "outputs": [],
   "source": [
    "phonologicalMap=\"-X\""
   ]
  },
  {
   "cell_type": "code",
   "execution_count": 158,
   "metadata": {
    "collapsed": true
   },
   "outputs": [],
   "source": [
    "neutralisationsNORD=(u\"6û\",u\"9ê\")\n",
    "neutralisationsSUD=(u\"e2o\",u\"E9O\")\n",
    "if phonologicalMap==\"-N\":\n",
    "    neutralisations=neutralisationsNORD\n",
    "elif phonologicalMap==\"-S\":\n",
    "    neutralisations=neutralisationsSUD\n",
    "else:\n",
    "    neutralisations=(u\"\",u\"\")\n",
    "    phonologicalMap=(\"-X\")\n",
    "bdlexiqueIn = unicode(u\"èò\"+neutralisations[0])\n",
    "bdlexiqueNum = [ord(char) for char in bdlexiqueIn]\n",
    "neutreOut = unicode(u\"EO\"+neutralisations[1])\n",
    "neutralise = dict(zip(bdlexiqueNum, neutreOut))"
   ]
  },
  {
   "cell_type": "code",
   "execution_count": 159,
   "metadata": {
    "collapsed": true
   },
   "outputs": [],
   "source": [
    "def recoder(chaine,table=neutralise):\n",
    "    if type(chaine)==str:\n",
    "        temp=unicode(chaine.decode('utf8')).translate(table)\n",
    "        result=temp.encode('utf8')\n",
    "    elif type(chaine)==unicode:\n",
    "        result=chaine.translate(table)\n",
    "    else:\n",
    "        result=chaine\n",
    "    return result"
   ]
  },
  {
   "cell_type": "markdown",
   "metadata": {},
   "source": [
    "# Lecture de l'échantillon"
   ]
  },
  {
   "cell_type": "markdown",
   "metadata": {},
   "source": [
    "### Lecture du lexique\n",
    "- nomLexique pour le fichier\n",
    "- names pour les noms de colonnes\n",
    "- élimination des lignes dupliquées éventuelles (p.e. dépendre)"
   ]
  },
  {
   "cell_type": "code",
   "execution_count": 160,
   "metadata": {
    "collapsed": true
   },
   "outputs": [],
   "source": [
    "filePrefix=\"/Users/gilles/Box Sync/2015-Data/FlexionAdjectifs/\"\n",
    "filePrefix=\"/Users/gilles/Box Sync/2015-Data/German/\""
   ]
  },
  {
   "cell_type": "raw",
   "metadata": {
    "collapsed": true
   },
   "source": [
    "casesPrincipales= [\n",
    "        'inf', 'pi1S', 'pi2S', 'pi3S', 'pi1P', 'pi2P', 'pi3P', 'ii1S',\n",
    "        'ii2S', 'ii3S', 'ii1P', 'ii2P', 'ii3P', \n",
    "        'fi1S', 'fi2S', 'fi3S', 'fi1P', 'fi2P',\n",
    "        'fi3P', 'pI2S', 'pI1P', 'pI2P', 'ps1S', 'ps2S', 'ps3S', 'ps1P',\n",
    "        'ps2P', 'ps3P', \n",
    "        'pc1S', 'pc2S', 'pc3S', 'pc1P', 'pc2P', 'pc3P', 'pP',\n",
    "        'ppMS', 'ppMP', 'ppFS', 'ppFP'\n",
    "            ]\n",
    "casesSecondaires= [\n",
    "       'ai1S', 'ai2S', 'ai3S', 'ai1P', 'ai2P', 'ai3P', 'is1S', 'is2S', 'is3S', 'is1P', 'is2P', 'is3P'\n",
    "            ]\n",
    "casesTotales=casesPrincipales+casesSecondaires\n",
    "listeCases=casesTotales"
   ]
  },
  {
   "cell_type": "markdown",
   "metadata": {},
   "source": [
    "# Préparation du calcul des analogies"
   ]
  },
  {
   "cell_type": "code",
   "execution_count": 161,
   "metadata": {
    "collapsed": true
   },
   "outputs": [],
   "source": [
    "def powerset(iterable):\n",
    "    \"powerset([1,2,3]) --> () (1,) (2,) (3,) (1,2) (1,3) (2,3) (1,2,3)\"\n",
    "    s = list(iterable)\n",
    "    return list(it.chain.from_iterable(it.combinations(s, r) for r in range(1,len(s)+1)))"
   ]
  },
  {
   "cell_type": "markdown",
   "metadata": {},
   "source": [
    "### Calcul de la différence entre deux formes"
   ]
  },
  {
   "cell_type": "code",
   "execution_count": 162,
   "metadata": {
    "collapsed": true
   },
   "outputs": [],
   "source": [
    "def diff(mot1,mot2):\n",
    "    result=[]\n",
    "    diff1=\"\"\n",
    "    diff2=\"\"\n",
    "    same=\"\"\n",
    "    vide=\".\"\n",
    "    lmax=max(len(mot1),len(mot2))\n",
    "    lmin=min(len(mot1),len(mot2))\n",
    "    for index in range(lmax):\n",
    "        if index < lmin:\n",
    "            if mot1[index]!=mot2[index]:\n",
    "                diff1+=mot1[index]\n",
    "                diff2+=mot2[index]\n",
    "                same+=vide\n",
    "            else:\n",
    "                same+=mot1[index]\n",
    "                diff1+=vide\n",
    "                diff2+=vide\n",
    "        elif index < len(mot1):\n",
    "            diff1+=mot1[index]\n",
    "        elif index < len(mot2):\n",
    "            diff2+=mot2[index]\n",
    "    diff1=diff1.lstrip(\".\")\n",
    "    diff2=diff2.lstrip(\".\")\n",
    "#    return (same,diff1,diff2,diff1+\"_\"+diff2)\n",
    "    return (diff1+\"-\"+diff2)"
   ]
  },
  {
   "cell_type": "markdown",
   "metadata": {},
   "source": [
    "### Accumulation des paires appartenant à un patron"
   ]
  },
  {
   "cell_type": "code",
   "execution_count": 163,
   "metadata": {
    "collapsed": true
   },
   "outputs": [],
   "source": [
    "def rowDiff(row, patrons):\n",
    "    result=diff(row[0],row[1])\n",
    "    if not result in patrons:\n",
    "        patrons[result]=(formesPatron(),formesPatron())\n",
    "    patrons[result][0].ajouterFormes(row[0])\n",
    "    patrons[result][1].ajouterFormes(row[1])\n",
    "    return (result[0],result[1])"
   ]
  },
  {
   "cell_type": "markdown",
   "metadata": {},
   "source": [
    "### Transformation d'un patron en RegExp"
   ]
  },
  {
   "cell_type": "code",
   "execution_count": 164,
   "metadata": {
    "collapsed": true
   },
   "outputs": [],
   "source": [
    "def patron2regexp(morceaux):\n",
    "    result=\"^\"\n",
    "    for morceau in morceaux:\n",
    "        if morceau==\"*\":\n",
    "            result+=\"(.*)\"\n",
    "        elif len(morceau)>1:\n",
    "            result+=\"([\"+morceau+\"])\"\n",
    "        else:\n",
    "            result+=morceau\n",
    "    result+=\"$\"\n",
    "    result=result.replace(\")(\",\"\")\n",
    "    return result"
   ]
  },
  {
   "cell_type": "markdown",
   "metadata": {},
   "source": [
    "### Substitution de sortie \n",
    "???"
   ]
  },
  {
   "cell_type": "code",
   "execution_count": 165,
   "metadata": {
    "collapsed": true
   },
   "outputs": [],
   "source": [
    "def remplacementSortie(sortie):\n",
    "    n=1\n",
    "    nsortie=\"\"\n",
    "    for lettre in sortie:\n",
    "        if lettre==\".\":\n",
    "            nsortie+=\"\\g<%d>\"%n\n",
    "            n+=1\n",
    "        else:\n",
    "            nsortie+=lettre\n",
    "    return nsortie"
   ]
  },
  {
   "cell_type": "markdown",
   "metadata": {},
   "source": [
    "## Classes pour la gestion des analogies\n",
    "- formesPatron pour la généralisation minimale d'un patron à partir des paires correspondantes\n",
    " - dans un sens donné\n",
    "- pairePatrons pour les paires de formes correspondant à chaque patron\n",
    " - dans les deux sens"
   ]
  },
  {
   "cell_type": "code",
   "execution_count": 166,
   "metadata": {
    "collapsed": true
   },
   "outputs": [],
   "source": [
    "class formesPatron:\n",
    "    '''\n",
    "    Accumulateur de formes correspondant à un patron pour calcul de la Généralisation Minimale (cf. MGL)\n",
    "    '''\n",
    "    def __init__(self):\n",
    "        self.formes=[]\n",
    "\n",
    "#    def __repr__(self):\n",
    "#        return ','.join(self.calculerGM())\n",
    "        \n",
    "    def ajouterForme(self,forme):\n",
    "        self.formes.append(forme)\n",
    "        \n",
    "    def calculerGM(self,formes):\n",
    "        minLongueur=len(min(formes, key=len))\n",
    "        maxLongueur=len(max(formes, key=len))\n",
    "        if debug: print (minLongueur, maxLongueur)\n",
    "        positions=[]\n",
    "        if maxLongueur>minLongueur:\n",
    "            positions.append(\"*\")\n",
    "        for i in xrange(minLongueur, 0, -1):\n",
    "            phonemes=set([x[-i] for x in formes])\n",
    "            if debug: print (\"phonemes\",\"\".join(phonemes))\n",
    "            if \".\" in phonemes:\n",
    "                positions.append(\".\")\n",
    "            else:\n",
    "                positions.append(u\"\".join(fs.lattice[phonemes].extent))\n",
    "        return patron2regexp(positions)\n",
    "\n",
    "    def calculerIGM(self):\n",
    "        patrons=[]\n",
    "        combinaisons=powerset(self.formes)\n",
    "        if debug1: print (len(combinaisons))\n",
    "        for listFormes in combinaisons:\n",
    "            if debug1: print (\".\",end=\"\")\n",
    "            patrons.append(self.calculerGM(listFormes))\n",
    "        if debug1: print (patrons)\n",
    "        return patrons\n",
    "   \n",
    "    \n",
    "class pairePatrons:\n",
    "    '''\n",
    "    Accumulateur de triplets (f1,f2,patron) correspondant à une paire pour calcul des Généralisations Minimales (cf. MGL)\n",
    "    '''\n",
    "    def __init__(self,case1,case2,entrees):\n",
    "        self.patrons1={}\n",
    "        self.patrons2={}\n",
    "        self.case1=case1\n",
    "        self.case2=case2\n",
    "        self.entrees1=entrees[case1].tolist()\n",
    "        self.entrees2=entrees[case2].tolist()\n",
    "        if debug1: print (\"pairePatrons: entrees\", self.entrees1,self.entrees2)\n",
    "\n",
    "#    def __repr__(self):\n",
    "#        return ','.join(self.calculerGM())\n",
    "        \n",
    "    def ajouterFormes(self,forme1,forme2,patron):\n",
    "        if debug1: print(\"ajouterFormes\",forme1,forme2,patron)\n",
    "#        print (forme1,forme2,patron, file=logfile)\n",
    "        patron12=patron\n",
    "        (pat1,pat2)=patron.split(\"-\")\n",
    "        patron21=pat2+\"-\"+pat1\n",
    "#        print (patron12,patron21, file=logfile)\n",
    "        if not patron12 in self.patrons1:\n",
    "            if debug: print (forme1,forme2,patron12)\n",
    "            self.patrons1[patron12]=formesPatron()\n",
    "        self.patrons1[patron12].ajouterForme(forme1)\n",
    "        if not patron21 in self.patrons2:\n",
    "            self.patrons2[patron21]=formesPatron()\n",
    "        self.patrons2[patron21].ajouterForme(forme2)\n",
    "        \n",
    "        \n",
    "    def calculerGM(self):\n",
    "        resultat1={}\n",
    "        for patron in self.patrons1:\n",
    "            if debug: print (\"patron1\", patron)\n",
    "            resultat1[patron]=self.patrons1[patron].calculerIGM()\n",
    "        resultat2={}\n",
    "        for patron in self.patrons2:\n",
    "            if debug: print (\"patron2\", patron)\n",
    "            resultat2[patron]=self.patrons2[patron].calculerIGM()\n",
    "        return (resultat1,resultat2) "
   ]
  },
  {
   "cell_type": "markdown",
   "metadata": {},
   "source": [
    "# Classe pour la gestion des patrons, des classes et des transformations\n",
    "- paireClasses pour ajouter des règles de transformation pour une paire de case et calculer les classes\n",
    " - ajouterPatron (orienté 1 ou 2) pour placer une règle avec son contexte dans classesPaire\n",
    " - ajouterPaire pour placer une paire de formes dans classesPaire\n",
    " - calculerClasses pour obtenir les classes (dans les deux sens)\n",
    "- classesPaire pour ajouter des paires de formes correspondant\n",
    " - ajouterPatron pour stocker une règle et son contexte\n",
    " - ajouterPaire pour stocker une paire et mettre à jour les classes correspondantes\n",
    " - sortirForme pour obtenir la distribution pour un input donné"
   ]
  },
  {
   "cell_type": "code",
   "execution_count": 167,
   "metadata": {
    "collapsed": true
   },
   "outputs": [],
   "source": [
    "class paireClasses:\n",
    "    def __init__(self,case1,case2):\n",
    "        self.case1=case1\n",
    "        self.case2=case2\n",
    "        self.nom=case1+\"-\"+case2\n",
    "        self.classes1=classesPaire(case1,case2)\n",
    "        self.classes2=classesPaire(case2,case1)\n",
    "\n",
    "    def ajouterPatron(self,n,patron,motif):\n",
    "        if n==1:\n",
    "            self.classes1.ajouterPatron(patron,motif)\n",
    "        elif n==2:\n",
    "            self.classes2.ajouterPatron(patron,motif)\n",
    "        else:\n",
    "            print (\"le numéro de forme n'est pas dans [1,2]\",n)# file=logfile)\n",
    "\n",
    "    def ajouterPaire(self,forme1,forme2):\n",
    "        self.classes1.ajouterPaire(forme1,forme2)\n",
    "        self.classes2.ajouterPaire(forme2,forme1)\n",
    "        \n",
    "    def calculerClasses(self):\n",
    "        return(self.classes1,self.classes2)\n",
    "\n",
    "    \n",
    "class classesPaire:\n",
    "    '''\n",
    "    Gestion des patrons, des classes et des transformations\n",
    "    \n",
    "    ajouterPatron : ajoute un patron et son motif associé (MGL)\n",
    "    ajouterPaire : ajoute une paire de formes, calcule la classe de la forme1 et la règle sélectionnée\n",
    "    sortirForme : calcule les formes de sortie correspondant à la forme1 avec leurs coefficients respectifs\n",
    "    '''\n",
    "    def __init__(self,case1,case2):\n",
    "        self.case1=case1\n",
    "        self.case2=case2\n",
    "        self.nom=case1+\"-\"+case2\n",
    "        self.classe={}\n",
    "        self.nbClasse={}\n",
    "        self.patrons={}\n",
    "        self.entree={}\n",
    "        self.sortie={}\n",
    "    \n",
    "    def ajouterPatron(self,patron,motif):\n",
    "        self.patrons[patron]=motif\n",
    "        (entree,sortie)=patron.split(\"-\")\n",
    "        self.entree[patron]=entree.replace(u\".\",u\"(.)\")\n",
    "        self.sortie[patron]=remplacementSortie(sortie)\n",
    "    \n",
    "    def ajouterPaire(self,forme1,forme2):\n",
    "        '''\n",
    "        on calcule la classe de la paire idClasseForme et la règle sélectionnée\n",
    "        on incrémente le compteur de la classe et celui de la règle sélectionnée à l'intérieur de la classe\n",
    "        '''\n",
    "        classeForme=[]\n",
    "        regleForme=\"\"\n",
    "        for patron in self.patrons:\n",
    "            if re.match(self.patrons[patron],forme1):\n",
    "                classeForme.append(patron)\n",
    "                '''\n",
    "                le +\"$\" permet de forcer l'alignement à droite pour les transformations suffixales\n",
    "                '''\n",
    "                if forme2==re.sub(self.entree[patron]+\"$\",self.sortie[patron],forme1):\n",
    "                    regleForme=patron\n",
    "        idClasseForme=\", \".join(classeForme)\n",
    "        if not idClasseForme in self.classe:\n",
    "            self.classe[idClasseForme]={}\n",
    "            self.nbClasse[idClasseForme]=0\n",
    "        if not regleForme in self.classe[idClasseForme]:\n",
    "            self.classe[idClasseForme][regleForme]=0\n",
    "        self.nbClasse[idClasseForme]+=1\n",
    "        self.classe[idClasseForme][regleForme]+=1\n",
    "\n",
    "    def sortirForme(self,forme):\n",
    "        classeForme=[]\n",
    "        sortieForme={}\n",
    "        forme=recoder(forme)\n",
    "        for patron in self.patrons:\n",
    "            if re.match(self.patrons[patron],forme):\n",
    "                classeForme.append(patron)\n",
    "        if classeForme:\n",
    "            idClasseForme=\", \".join(classeForme)\n",
    "            if idClasseForme in self.nbClasse:\n",
    "                nTotal=self.nbClasse[idClasseForme]\n",
    "                for patron in self.classe[idClasseForme]:\n",
    "                    sortie=re.sub(self.entree[patron]+\"$\",self.sortie[patron],forme)\n",
    "                    sortieForme[sortie]=float(self.classe[idClasseForme][patron])/nTotal\n",
    "            else:\n",
    "                print (forme)#, file=logfile)\n",
    "                print (\"pas de classe\",idClasseForme)#, file=logfile)\n",
    "                print (\"%.2f par forme de sortie\" % (float(1)/len(classeForme)))#, file=logfile)\n",
    "                nTotal=len(classeForme)\n",
    "                for patron in classeForme:\n",
    "                    sortie=re.sub(self.entree[patron]+\"$\",self.sortie[patron],forme)\n",
    "                    sortieForme[sortie]=float(1)/nTotal\n",
    "        else:\n",
    "            print (forme)#, file=logfile) \n",
    "            print (\"pas de patron\")#, file=logfile)\n",
    "        return sortieForme\n",
    "        "
   ]
  },
  {
   "cell_type": "markdown",
   "metadata": {},
   "source": [
    "## Appliquer la formule de calcul des différences entre chaines à chaque ligne\n",
    "\n",
    ">si il y a au moins une ligne\n",
    "\n",
    ">>on applique la différence à la ligne\n",
    "\n",
    ">>on calcule les deux patrons par suppression des points initiaux\n",
    "\n",
    ">>on renvoie le groupement par patrons (1&2)\n",
    "\n",
    ">sinon\n",
    "\n",
    ">>on renvoie le paradigme vide d'origine"
   ]
  },
  {
   "cell_type": "raw",
   "metadata": {},
   "source": [
    "def OLDrapports(paradigme):\n",
    "    (case1,case2,lexeme)= paradigme.columns.values.tolist()\n",
    "    patrons=pairePatrons(case1,case2)\n",
    "    if len(paradigme)>0:\n",
    "#        for index, row in paradigme.iterrows():\n",
    "#            patrons.ajouterFormes(row[0],row[1],diff(row[0],row[1]))\n",
    "        paradigme.apply(lambda x: patrons.ajouterFormes(x[case1],x[case2],diff(x[case1],x[case2])), axis=1)\n",
    "        (regles1,regles2)=patrons.calculerGM()\n",
    "    return patrons.calculerGM()"
   ]
  },
  {
   "cell_type": "code",
   "execution_count": 168,
   "metadata": {
    "collapsed": true
   },
   "outputs": [],
   "source": [
    "def rapports(paradigme):\n",
    "    if len(paradigme.columns.values.tolist())==2:\n",
    "        (case1,lexeme)= paradigme.columns.values.tolist()\n",
    "        case2=case1\n",
    "    else:\n",
    "        (case1,case2,lexeme)= paradigme.columns.values.tolist()\n",
    "    patrons=pairePatrons(case1,case2,paradigme)\n",
    "    classes=paireClasses(case1,case2)\n",
    "    if len(paradigme)>0:\n",
    "        if debug1: print (\"début rapport\")\n",
    "        paradigme.apply(lambda x: patrons.ajouterFormes(x[case1],x[case2],diff(x[case1],x[case2])), axis=1)\n",
    "        (regles1,regles2)=patrons.calculerGM()\n",
    "        for regle in regles1:\n",
    "            classes.ajouterPatron(1,regle,regles1[regle])\n",
    "        for regle in regles2:\n",
    "            classes.ajouterPatron(2,regle,regles2[regle])\n",
    "        paradigme.apply(lambda x: classes.ajouterPaire(x[case1],x[case2]), axis=1)\n",
    "    (classes1,classes2)=classes.calculerClasses()\n",
    "    return (classes1,classes2)"
   ]
  },
  {
   "cell_type": "markdown",
   "metadata": {},
   "source": [
    "### Dédoubler les lignes avec des surabondances dans *colonne*\n",
    ">identifier une ligne avec surabondance\n",
    "\n",
    ">>ajouter les lignes correspondant à chaque valeur\n",
    "\n",
    ">>ajouter le numéro de la ligne initiale dans les lignes à supprimer\n",
    "\n",
    ">supprimer les lignes avec surabondance\n",
    "\n",
    "NB : il faut préparer le tableau pour avoir une indexation qui permette l'ajout des valeurs individuelles et la suppression des lignes de surabondances"
   ]
  },
  {
   "cell_type": "code",
   "execution_count": 169,
   "metadata": {
    "collapsed": true
   },
   "outputs": [],
   "source": [
    "def splitCellMates(df,colonne):\n",
    "    '''\n",
    "    Calcul d'une dataframe sans surabondance par dédoublement des valeurs\n",
    "    '''\n",
    "    test=df.reset_index()\n",
    "    del test[\"index\"]\n",
    "    splitIndexes=[]\n",
    "    for index,ligne in test.iterrows():\n",
    "        if \",\" in ligne[colonne]:\n",
    "            valeurs=set(ligne[colonne].split(\",\"))\n",
    "            nouvelleLigne=ligne\n",
    "            for valeur in valeurs:\n",
    "                nouvelleLigne[colonne]=valeur\n",
    "                test=test.append(nouvelleLigne,ignore_index=True)\n",
    "            splitIndexes.append(index)\n",
    "    if splitIndexes:\n",
    "        test=test.drop(test.index[splitIndexes])\n",
    "    return test\n"
   ]
  },
  {
   "cell_type": "markdown",
   "metadata": {},
   "source": [
    "## Calculer les rapports entre formes pour chaque paire\n",
    "\n",
    ">on fait la liste des cases de *paradigmes*\n",
    "\n",
    ">pour chaque paire du tableau principal\n",
    "\n",
    ">>si la paire fait partie des cases de *paradigmes*\n",
    "\n",
    ">>>on calcule le rapport\n",
    "\n",
    ">>sinon\n",
    "\n",
    ">>>on signale que qu'une des cases n'est pas représentée"
   ]
  },
  {
   "cell_type": "code",
   "execution_count": 170,
   "metadata": {
    "collapsed": true
   },
   "outputs": [],
   "source": [
    "def evaluerEchantillon(paradigmes):\n",
    "    result={}\n",
    "    colonnes=paradigmes.columns.values.tolist()\n",
    "    for n,paire in enumerate(it.combinations_with_replacement(sampleCases,2)):\n",
    "#        progressBar.value=n\n",
    "        if debug: print (paire)#, file=logfile)\n",
    "        if debug1: print (\"-\".join(paire),end=\", \")\n",
    "        paireListe=list(paire)\n",
    "        paireListe.append(\"lexeme\")\n",
    "        if paire[0] in colonnes and paire[1] in colonnes:\n",
    "            paradigmePaire=paradigmes[paireListe].dropna(thresh=3, axis=0).reindex()\n",
    "            if paire[0]==paire[1]:\n",
    "                paireListe[1]=\"TEMP\"\n",
    "                paradigmePaire.columns=paireListe\n",
    "            paradigmePaire=splitCellMates(splitCellMates(paradigmePaire,paireListe[0]),paireListe[1])\n",
    "            if debug1: print (paradigmePaire)\n",
    "            result[paire]=rapports(paradigmePaire)\n",
    "        else:\n",
    "            result[paire]=(\"missing pair\", paire)\n",
    "    return result"
   ]
  },
  {
   "cell_type": "markdown",
   "metadata": {},
   "source": [
    "### Normalisation de la phono et vérification des diérèses"
   ]
  },
  {
   "cell_type": "code",
   "execution_count": 171,
   "metadata": {
    "collapsed": true
   },
   "outputs": [],
   "source": [
    "dierese={\"j\":\"ij\", \"w\":\"uw\",\"H\":\"yH\",\"i\":\"ij\",\"u\":\"uw\",\"y\":\"yH\"}\n",
    "def checkFrench(prononciation):\n",
    "    result=recoder(prononciation)\n",
    "    m=re.match(ur\"^.*([^ieèEaOouy926êôâ])[jwH]$\",result)\n",
    "    if m:\n",
    "        print (\"pb avec un glide final\", prononciation)\n",
    "    m=re.match(ur\"(.*[ptkbdgfsSvzZ][rl])([jwH])(.*)\",result)\n",
    "    if m:\n",
    "        n=re.search(ur\"[ptkbdgfsSvzZ][rl](wa|Hi|wê)\",result)\n",
    "        if not n:\n",
    "            glide=m.group(2)\n",
    "            result=m.group(1)+dierese[glide]+m.group(3)\n",
    "    m=re.match(ur\"(.*)([iuy])([ieEaOouy].*)\",result)\n",
    "    if m:\n",
    "        glide=m.group(2)\n",
    "        result=m.group(1)+dierese[glide]+m.group(3)\n",
    "    return result"
   ]
  },
  {
   "cell_type": "markdown",
   "metadata": {},
   "source": [
    "## Lecture et transformation d'un lexique/échantillon en paradigme"
   ]
  },
  {
   "cell_type": "code",
   "execution_count": 172,
   "metadata": {
    "collapsed": true
   },
   "outputs": [],
   "source": [
    "def lireLexique(nomLexique):\n",
    "    with open(nomLexique, 'rb') as input:\n",
    "        lexique=pickle.load(input)\n",
    "        lexique[\"phono\"]=lexique[\"phono\"].apply(checkFrench)\n",
    "    return lexique"
   ]
  },
  {
   "cell_type": "code",
   "execution_count": 173,
   "metadata": {
    "collapsed": true
   },
   "outputs": [],
   "source": [
    "def lexique2Paradigmes(lexique):\n",
    "    return pd.pivot_table(lexique, values='phono', index=['lexeme'], columns=['case'], aggfunc=lambda x: \",\".join(x)).reset_index().reindex()"
   ]
  },
  {
   "cell_type": "markdown",
   "metadata": {},
   "source": [
    "### Boucle de calcul des analogies pour l'échantillon"
   ]
  },
  {
   "cell_type": "code",
   "execution_count": 174,
   "metadata": {
    "collapsed": true
   },
   "outputs": [],
   "source": [
    "#%%time\n",
    "debug=False\n",
    "debug1=True\n",
    "\n",
    "listeEchantillons=glob.glob(filePrefix+\"Longitudinal-*MSP.pkl\")\n",
    "listeEchantillons=glob.glob(filePrefix+\"German*OMP.pkl\")\n",
    "#listeEchantillons=glob.glob(filePrefix+\"German*MSP.pkl\")"
   ]
  },
  {
   "cell_type": "raw",
   "metadata": {},
   "source": [
    "nomLexique=listeEchantillons[0]\n",
    "lexique=lireLexique(nomLexique)\n",
    "paradigmes=lexique2Paradigmes(lexique)"
   ]
  },
  {
   "cell_type": "raw",
   "metadata": {},
   "source": [
    "#paradigmes=pd.read_csv(nomLexique,sep=\";\",encoding=\"utf8\")    \n",
    "\n",
    "#del paradigmes[u\"Unnamed: 0\"]\n",
    "sampleCases=paradigmes.columns.tolist()\n",
    "sampleCases.remove(u\"lexeme\")    \n",
    "sampleCases"
   ]
  },
  {
   "cell_type": "raw",
   "metadata": {},
   "source": [
    "#logfile_name=nomLexique.replace(\".pkl\",\".log\")\n",
    "#logfile = codecs.open(logfile_name,mode='w',encoding=\"utf8\")"
   ]
  },
  {
   "cell_type": "markdown",
   "metadata": {},
   "source": [
    "### Générer les classes de transformation à partir d'un lexique/tirage"
   ]
  },
  {
   "cell_type": "code",
   "execution_count": null,
   "metadata": {
    "collapsed": true
   },
   "outputs": [],
   "source": [
    "def genererClassesFinales(lexique):\n",
    "    paradigmes=lexique2Paradigmes(lexique)\n",
    "    sampleCases=paradigmes.columns.tolist()\n",
    "    sampleCases.remove(u\"lexeme\")    \n",
    "    resultats=evaluerEchantillon(paradigmes)\n",
    "    classesFinales={}\n",
    "    for resultat in resultats:\n",
    "        classesFinales[resultat]=resultats[resultat][0]\n",
    "        classesFinales[(resultat[1],resultat[0])]=resultats[resultat][1]\n",
    "    return classesFinales"
   ]
  },
  {
   "cell_type": "markdown",
   "metadata": {},
   "source": [
    "## Générer les classes pour une liste d'échantillon"
   ]
  },
  {
   "cell_type": "raw",
   "metadata": {},
   "source": [
    "print (rCn(2,len(sampleCases)))\n",
    "#progressBar = FloatProgress(min=0, max=rCn(2,len(sampleCases)))\n",
    "progressBar = FloatProgress(min=0, max=100)\n",
    "display(progressBar)\n",
    "time.sleep(10)"
   ]
  },
  {
   "cell_type": "code",
   "execution_count": null,
   "metadata": {},
   "outputs": [
    {
     "name": "stdout",
     "output_type": "stream",
     "text": [
      "/Users/gilles/Box Sync/2015-Data/German/German-V-X-OMP.pkl, [u'VxINDxPRSx1xPL', u'VxCONDxPSTxPFVx1xSG', u'VxOPTxPRSx2xPL', u'VxINDxPSTxPFVx2xSG', u'VxINDxPSTxPFVx2xPL', u'VxINDxPSTxPFVx1xPL', u'VxINDxPRSx2xSG', u'VxCONDxPSTxPFVx1xPL', u'VxOPTxPRSx2xSG', u'VxPRS', u'VxINDxPRSx1xSG', u'VxINDxPRSx2xPL', u'VxPST', u'VxCONDxPSTxPFVx2xSG', u'VxINDxPRSx3xSG', u'VxCONDxPSTxPFVx2xPL', u'VxINDxPSTxPFVx1xSG']\n",
      "VxINDxPRSx1xPL-VxINDxPRSx1xPL,         VxINDxPRSx1xPL               TEMP lexeme\n",
      "0             gedeihen           gedeihen     10\n",
      "1           untersuxen         untersuxen  10003\n",
      "2               kremen             kremen  10005\n",
      "3           entSEdigen         entSEdigen  10007\n",
      "4               horçen             horçen  10019\n",
      "5               leiden             leiden  10023\n",
      "6          follzijehen        follzijehen  10041\n",
      "7         reifizijeren       reifizijeren  10042\n",
      "8           ferbijeten         ferbijeten  10044\n",
      "9           garnijeren         garnijeren  10053\n",
      "10            bevahren           bevahren  10076\n",
      "11          ferstopfen         ferstopfen  10082\n",
      "12              jobben             jobben   1012\n",
      "13             glEnzen            glEnzen  10126\n",
      "14        ybervEltigen       ybervEltigen   1014\n",
      "15               veben              veben  10147\n",
      "16         ztornijeren        ztornijeren  10156\n",
      "17        zirkulijeren       zirkulijeren  10169\n",
      "18            bereçnen           bereçnen   1017\n",
      "19               neken              neken  10178\n",
      "20               fygen              fygen  10198\n",
      "21      kontaminijeren     kontaminijeren  10226\n",
      "22              zkypen             zkypen  10231\n",
      "23             bringen            bringen  10239\n",
      "24               Sulen              Sulen  10247\n",
      "25              vahren             vahren  10269\n",
      "26          pekzijeren         pekzijeren  10276\n",
      "27           ferfangen          ferfangen  10310\n",
      "28             bersten            bersten  10312\n",
      "29          durçkEmmen         durçkEmmen  10323\n",
      "..                 ...                ...    ...\n",
      "918       kasernijeren       kasernijeren   9668\n",
      "919        avansijeren        avansijeren   9677\n",
      "920        ybertreiben        ybertreiben   9682\n",
      "921           bereuwen           bereuwen   9691\n",
      "922           erfassen           erfassen   9692\n",
      "923             hehlen             hehlen   9693\n",
      "924            zijegen            zijegen   9708\n",
      "925        Sraffijeren        Sraffijeren   9712\n",
      "926        revidijeren        revidijeren   9731\n",
      "927  materijalisijeren  materijalisijeren   9732\n",
      "928       vijederholen       vijederholen   9745\n",
      "929             reimen             reimen   9781\n",
      "930        ferteidigen        ferteidigen   9792\n",
      "931            trauwen            trauwen   9796\n",
      "932         reagijeren         reagijeren   9819\n",
      "933          entfolgen          entfolgen   9822\n",
      "934            Sneijen            Sneijen   9833\n",
      "935            bersten            bersten   9838\n",
      "936           arbeiten           arbeiten    986\n",
      "937           erreiçen           erreiçen   9860\n",
      "938            trotten            trotten   9863\n",
      "939     konsolidijeren     konsolidijeren   9883\n",
      "940     menstruwijeren     menstruwijeren   9919\n",
      "941         maskijeren         maskijeren   9922\n",
      "942           gelingen           gelingen   9937\n",
      "943             virken             virken   9957\n",
      "944             kliken             kliken   9967\n",
      "945         pekzijeren         pekzijeren   9969\n",
      "946           er2ffnen           er2ffnen   9973\n",
      "947            trEnken            trEnken   9997\n",
      "\n",
      "[948 rows x 3 columns]\n",
      "pairePatrons: entrees [u'gedeihen', u'untersuxen', u'kremen', u'entSEdigen', u'hor\\xe7en', u'leiden', u'follzijehen', u'reifizijeren', u'ferbijeten', u'garnijeren', u'bevahren', u'ferstopfen', u'jobben', u'glEnzen', u'ybervEltigen', u'veben', u'ztornijeren', u'zirkulijeren', u'bere\\xe7nen', u'neken', u'fygen', u'kontaminijeren', u'zkypen', u'bringen', u'Sulen', u'vahren', u'pekzijeren', u'ferfangen', u'bersten', u'dur\\xe7kEmmen', u'ybergehen', u'formijeren', u'fergehen', u'entnehmen', u'berussen', u'zahlen', u'benetzen', u'foppen', u'ztoken', u'ybervinden', u'benennen', u'ben2tigen', u'ztriken', u'ferstummen', u'ratifizijeren', u'internijeren', u'dehydrijeren', u'tragen', u'degustijeren', u'besetzen', u'zpyren', u'e\\xe7auffijeren', u'ferifizijeren', u'amysijeren', u'gestatten', u'limitijeren', u'fungijeren', u'zpitzen', u'entstammen', u'debattijeren', u'benehmen', u're\\xe7tfertigen', u'enthErten', u'dynken', u'byken', u'verben', u'dissozijijeren', u'gev2hnen', u'dynken', u'kompleksijeren', u'kEmmen', u'konfigurijeren', u'helfen', u'ferabreden', u'harnen', u'ferbynden', u'ermE\\xe7tigen', u'gebrauxen', u'duzen', u'instrumentalisijeren', u'pupsen', u'bannen', u'ztauwen', u'Snauben', u'marodijeren', u'paraphrasijeren', u'ferbrauxen', u'beanspruxen', u'nEhren', u'unterlegen', u'merken', u'dynsten', u'lygen', u'entfolgen', u'reduzijeren', u'SEnden', u'fersteken', u'entfolgen', u'aluminijeren', u'imprEgnijeren', u'indoktrinijeren', u'duken', u'zingen', u'kuwantisijeren', u'zementijeren', u'kreiSen', u'empfangen', u'Sneijen', u'lauSen', u'brauxen', u'gijessen', u'formen', u'zimsen', u'plantSen', u'zehen', u'gruppijeren', u'kr2sen', u'poxen', u'entspringen', u'velken', u'ferbyssen', u'zvingen', u'fersetzen', u'bekEmpfen', u'zpuken', u'pissen', u'fraternisijeren', u'modifizijeren', u'ztiken', u'zoomen', u'kEmpfen', u'ernten', u'komponijeren', u'beten', u'zpenden', u'prozessijeren', u'interkulturalisijeren', u'zortijeren', u'moppen', u'halbijeren', u'improvisijeren', u'erstellen', u'korrigijeren', u'ztr2men', u'zuspendijenijeren', u'treiben', u'patrouwillijeren', u'programmijeren', u'ferminen', u'ferhelfen', u'bleiben', u'beissen', u'dokumentijeren', u'vohnen', u'intervijeven', u'Si\\xe7ten', u'helfen', u'kritisijeren', u'appellijeren', u'ferflijegen', u'hEuten', u'kollidijeren', u'genygen', u'homogenisijeren', u'merken', u'dematerijalisijeren', u'fluxen', u'plEdijeren', u'philosophijeren', u'ztibitzen', u'rennen', u'dokumentijeren', u'nummerijeren', u'ryhren', u'Smijeren', u'irritijeren', u'prEgen', u'erkunden', u'pensijonijeren', u'bekuwemen', u'reformijeren', u'ferspre\\xe7en', u'ferdrijessen', u'bereiten', u'ferfallen', u'patentijeren', u'rezitijeren', u'mobilisijeren', u'entSuldigen', u'entfErben', u'ferbyssen', u'purgijeren', u'zeufzen', u'rasen', u'fergraulen', u'faulenzen', u'falten', u'arrangijeren', u'toppen', u'rufen', u'pusten', u'unterstrei\\xe7en', u'vaxen', u'ferzehren', u'tarnen', u'destabilisijeren', u'ferSmelzen', u'reprEsentijeren', u'zenken', u'reiten', u'entteeren', u'divergijeren', u'bryten', u'dekompilijeren', u'farijijeren', u'moderijeren', u'bereuwen', u'entkriminalisijeren', u'tEuSen', u'ferglyhen', u'Svimmen', u'erSallen', u'zerfallen', u'untersuxen', u'prostituwijeren', u'fragen', u'beSeissen', u'erbringen', u'kremen', u'zoufflijeren', u'klemmen', u'organisijeren', u'befallen', u'transferijeren', u'zpotten', u'dyrfen', u'Sreijen', u'initijalisijeren', u'ztandardisijeren', u'ernten', u'zinnijeren', u'erverben', u'konvertijeren', u'entstammen', u'fersEumen', u'fernehmen', u'nummerijeren', u'heizen', u'blokijeren', u'Sreiben', u'fersorgen', u'pipettijeren', u'unterSlagen', u'Sonen', u'Smijeden', u'2len', u'demotivijeren', u'usurpijeren', u'rysten', u'zpazijeren', u'improvisijeren', u'fluten', u'fluktuwijeren', u'knaken', u'ztreiken', u'kEmpfen', u'l2sen', u'begrenzen', u'kuwetSen', u'ferabSijeden', u'pikniken', u'unternehmen', u'optimijeren', u'treten', u'glyhen', u'brennen', u'trennen', u'dyrfen', u'duSen', u'protestijeren', u'umarmen', u'drEngen', u'ferglei\\xe7en', u'geizen', u'Siken', u'ztossen', u'integrijeren', u'raufen', u'missbrauxen', u'kompromittijeren', u'gevEhren', u'erden', u'ringen', u'ergeben', u'aalen', u'ertrinken', u'fiken', u'entspre\\xe7en', u'gefrijeren', u'ebben', u'ervErmen', u'dyngen', u'erteilen', u'hassen', u'provozijeren', u'ztrahlen', u'Smerzen', u'krallen', u'r2sten', u'zeugen', u'Sreiben', u'vyten', u'dotijeren', u'bezijehen', u'referenzijeren', u'multiplizijeren', u'prognostizijeren', u'immigrijeren', u'belaufen', u'bepissen', u'flensen', u'vaSen', u'plissijeren', u'Smijeden', u'heparinisijeren', u'zolidarisijeren', u'duzen', u'nEhren', u'mutmassen', u'Sreiten', u'erSijessen', u'beheizen', u'gebEren', u'Sveigen', u'zerfetzen', u'modifizijeren', u'zijelen', u'rauxen', u'gijessen', u'beerdigen', u'byrsten', u'ferzEhlen', u'koventrisijeren', u'goutijeren', u'beSEdigen', u'ztauben', u'bauwen', u'fl2ten', u'robben', u'kolorijeren', u'knutSen', u'paralysijeren', u'drohen', u'ztytzen', u'listen', u'entnehmen', u'ztigmatisijeren', u'Syren', u'zteinigen', u'entSeiden', u'tapezijeren', u'Sveigen', u'Subsen', u'horten', u'erstaunen', u'akzeptijeren', u'fusijonijeren', u'bezahlen', u'Svimmen', u'bedenken', u'entlehnen', u'binden', u'bevahrheiten', u'graben', u'erden', u'lutSen', u'prokrastinijeren', u'freuwen', u'graphitijeren', u'ferdummen', u'buxstabijeren', u'nijesen', u'bugsijeren', u'lullen', u'fijepen', u'hassen', u'rammen', u'komponijeren', u'brillijeren', u'hehlen', u'greifen', u'bekrEnzen', u'abalijenijeren', u'produzijeren', u'gevErtigen', u'boomen', u'fervehren', u'ferm2gen', u'kreiSen', u'berufen', u'loben', u'fersuxen', u'glEtten', u'enthaupten', u'nerven', u'fervenden', u'klaffen', u'fertragen', u'kl2nen', u'Sulden', u'ztippen', u'huSen', u'desertijeren', u'digerijeren', u'paken', u'russen', u'zpijonijeren', u'marodijeren', u'zijehen', u'ferpressen', u'bestrafen', u'foulen', u'impfen', u'rekrutijeren', u'plantSen', u'SvErmen', u'rauxen', u'ferbeissen', u'drohen', u'mahlen', u'ferbinden', u'grollen', u'beSEftigen', u'erSeinen', u'fleuxen', u'prijorisijeren', u'buxen', u'Snorren', u'zpEhen', u'instanzijijeren', u'revan\\xe7ijeren', u'kontaminijeren', u'denken', u'vyrzen', u'Seinen', u'beSi\\xe7ten', u'akkumulijeren', u'dementijeren', u'zpre\\xe7en', u'mutijeren', u'formijeren', u'fotographijeren', u'entdeken', u'foulen', u'konsolidijeren', u'industrijalisijeren', u'bivakijeren', u'reprEsentijeren', u'blan\\xe7ijeren', u'testen', u'belegen', u'dolmetSen', u'unterSeiden', u'bekehren', u'instrumentalisijeren', u'zerren', u'ferurteilen', u'fabulijeren', u'kiffen', u'ybergehen', u'ekstemporijeren', u'zermatSen', u'kalkulijeren', u'absolvijeren', u'pharyngalisijeren', u'bergen', u'protegijeren', u'kollatijonijeren', u'funktijonalisijeren', u'bepissen', u'Sneiden', u'kondensijeren', u'trygen', u'legalisijeren', u'absolvijeren', u'glei\\xe7en', u'husten', u'ferfErben', u'Snappen', u'riskijeren', u'fersehen', u'fragmentijeren', u'kleiden', u'kuwalmen', u'koventrijeren', u'Slei\\xe7en', u'glupSen', u'zynden', u'zEttigen', u'erybrigen', u'ferdrehen', u'eksplodijeren', u'ferjyngen', u'poxen', u'Sreiten', u'zentrifugijeren', u'bemyhen', u'ryken', u'amputijeren', u'gev2hnen', u'lErmen', u'ferkaken', u'ferabrei\\xe7en', u'ferstellen', u'genehmigen', u'fersenden', u'fotographijeren', u'reglementijeren', u'belegen', u'bekrEnzen', u'Srumpfen', u'beherrSen', u'zpezifizijeren', u'hallen', u'besprengen', u'fyllen', u'ztytzen', u'massakrijeren', u'urteilen', u'kompostijeren', u'heizen', u'Si\\xe7ten', u'zpylen', u'befallen', u'ztampfen', u'druken', u'erregen', u'ztreifen', u'zpuken', u'Sreijen', u'bezeugen', u'impfen', u'denaturijeren', u'prahlen', u'ervaxen', u'Sveben', u'listen', u'zEttigen', u'ferSmutzen', u'fergraben', u'ze\\xe7en', u'leihen', u'kultivijeren', u'zausen', u'ferklagen', u'beri\\xe7ten', u'zijelen', u'Serzen', u'paaren', u'kooperijeren', u'betraxten', u'degustijeren', u'ervEgen', u'ferbringen', u'erstatten', u'treten', u'erbringen', u'ergijessen', u'ferzei\\xe7nen', u'trEnken', u'man2vrijeren', u'programmijeren', u'fer2ffentli\\xe7en', u'Sleifen', u'vyrgen', u'beSEftigen', u'abandonnijeren', u'ferdE\\xe7tigen', u'platzijeren', u'beantragen', u'entlassen', u'revolutijonijeren', u'diskreditijeren', u'fe\\xe7ten', u'paginijeren', u'ferfErben', u'yberveisen', u'guken', u'ferm2gen', u'annullijeren', u'touxijeren', u'kaufen', u'entvei\\xe7en', u'bereden', u'ferrosten', u'mobilisijeren', u'vinden', u'beglykvynSen', u'ferdrehen', u'domestizijeren', u'lai\\xe7en', u'fysilijeren', u'ztellen', u'erledigen', u'ferifizijeren', u'infizijeren', u'zedimentijeren', u'zpazijeren', u'zpuken', u'legen', u'motivijeren', u'ferzehren', u'zerst2ren', u'dimmen', u'parametrisijeren', u'beleuxten', u'vyhlen', u'reformijeren', u'transportijeren', u'Siffen', u'aalen', u'rauSen', u'klappen', u'yberzeugen', u'fergessen', u'l2Sen', u'firtuwalisijeren', u'gebEren', u'fersyssen', u'benaxri\\xe7tigen', u'organisijeren', u'zoken', u'Sleifen', u'zanktijonijeren', u'krepijeren', u'fulkanisijeren', u'gevinnen', u'induzijeren', u'beerdigen', u'asetylijeren', u'belohnen', u'dampfen', u'ztrapazijeren', u'glEnzen', u'renommijeren', u'zerren', u'galoppijeren', u'beSEdigen', u'radijeren', u'beleuxten', u'varten', u'ferteidigen', u'tippen', u'g2nnen', u'troknen', u'ferselbststEndigen', u'befrijedigen', u'renovijeren', u'handhaben', u'nennen', u'gelingen', u'zpryhen', u'pikniken', u'baden', u'gelijeren', u'beveisen', u'umgeben', u'felarisijeren', u'ferpfli\\xe7ten', u'beSimpfen', u'fertreiben', u'ferlangen', u'ferzEhlen', u'frappijeren', u'thematisijeren', u'zoken', u'naSen', u'zurfen', u'beSijessen', u'zymbolisijeren', u'beste\\xe7en', u'erhalten', u'Sanghaijen', u'rennen', u'ereignen', u'atmen', u'ekstrudijeren', u'heiraten', u'kuwellen', u'hauwen', u'bestimmen', u'mynden', u'yberdenken', u'faszinijeren', u'man2vrijeren', u'glasijeren', u'radijeren', u'erfriSen', u'fersuxen', u'karren', u'muffen', u'falidijeren', u'byrsten', u'dealen', u'zautijeren', u'beherrSen', u'protokollijeren', u'pfeifen', u'Sleppen', u'zagen', u'kollatijonijeren', u'hyperventilijeren', u'massijeren', u'ferkaken', u'annullijeren', u'bestrafen', u'thematisijeren', u'trauwen', u'nazifizijeren', u'entheiligen', u'marinijeren', u'proben', u'hellen', u'zpijelen', u'zubtrahijeren', u'S2pfen', u'kommen', u'reiten', u'grinsen', u'funzen', u'graben', u'ferni\\xe7ten', u'bytzen', u'genijessen', u'ztagnijeren', u'erstiken', u'bringen', u'fererben', u'kyhlen', u'erfinden', u'unterjoxen', u'bedeuten', u'E\\xe7ten', u'emp2ren', u'vissen', u'zerkuwetSen', u'gerben', u'kiken', u'erkunden', u'Smeissen', u'vEhlen', u'beteiligen', u'mEhen', u'klagen', u'verfen', u'kriminalisijeren', u'fereinfaxen', u'ferdi\\xe7ten', u'deaktivijeren', u'feilen', u'beunruhigen', u'Slyrfen', u'hydrolysijeren', u'yberdenken', u'induzijeren', u'dimmen', u'deklarijeren', u'pflegen', u'argumentijeren', u'gevinnen', u'eilen', u'begynstigen', u'Syren', u'bromijeren', u'Sassen', u'arbeiten', u'regenerijeren', u'gijessen', u'ballen', u'ervEgen', u'argumentijeren', u'yberSEtzen', u'entthronen', u'tasten', u'gelijeren', u'ondulijeren', u'prokrastinijeren', u'protegijeren', u'ferzeihen', u'ferlernen', u'internatijonalisijeren', u'behalten', u'tyrannisijeren', u'nivellijeren', u'ergrauwen', u'ztErken', u'benytzen', u'ybertreiben', u'raffinijeren', u'bryllen', u'kartographijeren', u'beverben', u'ferjagen', u'ferunglyken', u'identifizijeren', u'ztutzen', u'paxten', u're\\xe7nen', u'begynstigen', u'koten', u'retten', u'enthaupten', u'torpedijeren', u'fervitteren', u'guken', u'bestiken', u'lygen', u'aktuwalisijeren', u'bedanken', u'mokijeren', u'Sauwen', u'impfen', u'umarbeiten', u'digerijeren', u'fasten', u'implementijeren', u'internatijonalisijeren', u'dirigijeren', u'plagijijeren', u'Sveben', u'fergiften', u'ferstopfen', u'kreuzen', u'terrorisijeren', u'filtrijeren', u'vissen', u'kooperijeren', u'beSreiben', u'zpezijalisijeren', u'muffen', u'zijehen', u'kopulijeren', u'erS2pfen', u'beeintrE\\xe7tigen', u'notijeren', u'fallen', u'ztagnijeren', u'bohren', u'erm2gli\\xe7en', u'putzen', u'bre\\xe7en', u'flambijeren', u'fygen', u'befyr\\xe7ten', u'blaffen', u'arretijeren', u'aasen', u'begreifen', u'lygen', u'veken', u'prokrastinijeren', u'privilegijeren', u'Svelen', u'entreissen', u'fermuten', u'fehlen', u'kuwarzen', u'putSen', u'plissijeren', u'bevaxen', u'fiken', u'ordnen', u'ergijessen', u'dynken', u'bersten', u'balkanisijeren', u'dramatisijeren', u'gravijeren', u'pekzijeren', u'implizijeren', u'ztoppen', u'kuwadrijeren', u'glorifizijeren', u'defenestrijeren', u'ferSiken', u'entkommen', u'grinsen', u'translozijeren', u'fervaisen', u'grausen', u'vohnen', u'kuwatSen', u'desensibilisijeren', u'zorgen', u'ferspijelen', u'restaurijeren', u'interessijeren', u'zpenden', u'respektijeren', u'zeugen', u'geh2ren', u'raffinijeren', u'ergEnzen', u'leiten', u'flijessen', u'formatijeren', u'laufen', u'erbringen', u'boomen', u'ze\\xe7en', u'bugsijeren', u'beenden', u'zpringen', u'urgijeren', u'ferloben', u'legalisijeren', u'ervirtSaften', u'doublijeren', u'kasernijeren', u'avansijeren', u'ybertreiben', u'bereuwen', u'erfassen', u'hehlen', u'zijegen', u'Sraffijeren', u'revidijeren', u'materijalisijeren', u'vijederholen', u'reimen', u'ferteidigen', u'trauwen', u'reagijeren', u'entfolgen', u'Sneijen', u'bersten', u'arbeiten', u'errei\\xe7en', u'trotten', u'konsolidijeren', u'menstruwijeren', u'maskijeren', u'gelingen', u'virken', u'kliken', u'pekzijeren', u'er2ffnen', u'trEnken'] [u'gedeihen', u'untersuxen', u'kremen', u'entSEdigen', u'hor\\xe7en', u'leiden', u'follzijehen', u'reifizijeren', u'ferbijeten', u'garnijeren', u'bevahren', u'ferstopfen', u'jobben', u'glEnzen', u'ybervEltigen', u'veben', u'ztornijeren', u'zirkulijeren', u'bere\\xe7nen', u'neken', u'fygen', u'kontaminijeren', u'zkypen', u'bringen', u'Sulen', u'vahren', u'pekzijeren', u'ferfangen', u'bersten', u'dur\\xe7kEmmen', u'ybergehen', u'formijeren', u'fergehen', u'entnehmen', u'berussen', u'zahlen', u'benetzen', u'foppen', u'ztoken', u'ybervinden', u'benennen', u'ben2tigen', u'ztriken', u'ferstummen', u'ratifizijeren', u'internijeren', u'dehydrijeren', u'tragen', u'degustijeren', u'besetzen', u'zpyren', u'e\\xe7auffijeren', u'ferifizijeren', u'amysijeren', u'gestatten', u'limitijeren', u'fungijeren', u'zpitzen', u'entstammen', u'debattijeren', u'benehmen', u're\\xe7tfertigen', u'enthErten', u'dynken', u'byken', u'verben', u'dissozijijeren', u'gev2hnen', u'dynken', u'kompleksijeren', u'kEmmen', u'konfigurijeren', u'helfen', u'ferabreden', u'harnen', u'ferbynden', u'ermE\\xe7tigen', u'gebrauxen', u'duzen', u'instrumentalisijeren', u'pupsen', u'bannen', u'ztauwen', u'Snauben', u'marodijeren', u'paraphrasijeren', u'ferbrauxen', u'beanspruxen', u'nEhren', u'unterlegen', u'merken', u'dynsten', u'lygen', u'entfolgen', u'reduzijeren', u'SEnden', u'fersteken', u'entfolgen', u'aluminijeren', u'imprEgnijeren', u'indoktrinijeren', u'duken', u'zingen', u'kuwantisijeren', u'zementijeren', u'kreiSen', u'empfangen', u'Sneijen', u'lauSen', u'brauxen', u'gijessen', u'formen', u'zimsen', u'plantSen', u'zehen', u'gruppijeren', u'kr2sen', u'poxen', u'entspringen', u'velken', u'ferbyssen', u'zvingen', u'fersetzen', u'bekEmpfen', u'zpuken', u'pissen', u'fraternisijeren', u'modifizijeren', u'ztiken', u'zoomen', u'kEmpfen', u'ernten', u'komponijeren', u'beten', u'zpenden', u'prozessijeren', u'interkulturalisijeren', u'zortijeren', u'moppen', u'halbijeren', u'improvisijeren', u'erstellen', u'korrigijeren', u'ztr2men', u'zuspendijenijeren', u'treiben', u'patrouwillijeren', u'programmijeren', u'ferminen', u'ferhelfen', u'bleiben', u'beissen', u'dokumentijeren', u'vohnen', u'intervijeven', u'Si\\xe7ten', u'helfen', u'kritisijeren', u'appellijeren', u'ferflijegen', u'hEuten', u'kollidijeren', u'genygen', u'homogenisijeren', u'merken', u'dematerijalisijeren', u'fluxen', u'plEdijeren', u'philosophijeren', u'ztibitzen', u'rennen', u'dokumentijeren', u'nummerijeren', u'ryhren', u'Smijeren', u'irritijeren', u'prEgen', u'erkunden', u'pensijonijeren', u'bekuwemen', u'reformijeren', u'ferspre\\xe7en', u'ferdrijessen', u'bereiten', u'ferfallen', u'patentijeren', u'rezitijeren', u'mobilisijeren', u'entSuldigen', u'entfErben', u'ferbyssen', u'purgijeren', u'zeufzen', u'rasen', u'fergraulen', u'faulenzen', u'falten', u'arrangijeren', u'toppen', u'rufen', u'pusten', u'unterstrei\\xe7en', u'vaxen', u'ferzehren', u'tarnen', u'destabilisijeren', u'ferSmelzen', u'reprEsentijeren', u'zenken', u'reiten', u'entteeren', u'divergijeren', u'bryten', u'dekompilijeren', u'farijijeren', u'moderijeren', u'bereuwen', u'entkriminalisijeren', u'tEuSen', u'ferglyhen', u'Svimmen', u'erSallen', u'zerfallen', u'untersuxen', u'prostituwijeren', u'fragen', u'beSeissen', u'erbringen', u'kremen', u'zoufflijeren', u'klemmen', u'organisijeren', u'befallen', u'transferijeren', u'zpotten', u'dyrfen', u'Sreijen', u'initijalisijeren', u'ztandardisijeren', u'ernten', u'zinnijeren', u'erverben', u'konvertijeren', u'entstammen', u'fersEumen', u'fernehmen', u'nummerijeren', u'heizen', u'blokijeren', u'Sreiben', u'fersorgen', u'pipettijeren', u'unterSlagen', u'Sonen', u'Smijeden', u'2len', u'demotivijeren', u'usurpijeren', u'rysten', u'zpazijeren', u'improvisijeren', u'fluten', u'fluktuwijeren', u'knaken', u'ztreiken', u'kEmpfen', u'l2sen', u'begrenzen', u'kuwetSen', u'ferabSijeden', u'pikniken', u'unternehmen', u'optimijeren', u'treten', u'glyhen', u'brennen', u'trennen', u'dyrfen', u'duSen', u'protestijeren', u'umarmen', u'drEngen', u'ferglei\\xe7en', u'geizen', u'Siken', u'ztossen', u'integrijeren', u'raufen', u'missbrauxen', u'kompromittijeren', u'gevEhren', u'erden', u'ringen', u'ergeben', u'aalen', u'ertrinken', u'fiken', u'entspre\\xe7en', u'gefrijeren', u'ebben', u'ervErmen', u'dyngen', u'erteilen', u'hassen', u'provozijeren', u'ztrahlen', u'Smerzen', u'krallen', u'r2sten', u'zeugen', u'Sreiben', u'vyten', u'dotijeren', u'bezijehen', u'referenzijeren', u'multiplizijeren', u'prognostizijeren', u'immigrijeren', u'belaufen', u'bepissen', u'flensen', u'vaSen', u'plissijeren', u'Smijeden', u'heparinisijeren', u'zolidarisijeren', u'duzen', u'nEhren', u'mutmassen', u'Sreiten', u'erSijessen', u'beheizen', u'gebEren', u'Sveigen', u'zerfetzen', u'modifizijeren', u'zijelen', u'rauxen', u'gijessen', u'beerdigen', u'byrsten', u'ferzEhlen', u'koventrisijeren', u'goutijeren', u'beSEdigen', u'ztauben', u'bauwen', u'fl2ten', u'robben', u'kolorijeren', u'knutSen', u'paralysijeren', u'drohen', u'ztytzen', u'listen', u'entnehmen', u'ztigmatisijeren', u'Syren', u'zteinigen', u'entSeiden', u'tapezijeren', u'Sveigen', u'Subsen', u'horten', u'erstaunen', u'akzeptijeren', u'fusijonijeren', u'bezahlen', u'Svimmen', u'bedenken', u'entlehnen', u'binden', u'bevahrheiten', u'graben', u'erden', u'lutSen', u'prokrastinijeren', u'freuwen', u'graphitijeren', u'ferdummen', u'buxstabijeren', u'nijesen', u'bugsijeren', u'lullen', u'fijepen', u'hassen', u'rammen', u'komponijeren', u'brillijeren', u'hehlen', u'greifen', u'bekrEnzen', u'abalijenijeren', u'produzijeren', u'gevErtigen', u'boomen', u'fervehren', u'ferm2gen', u'kreiSen', u'berufen', u'loben', u'fersuxen', u'glEtten', u'enthaupten', u'nerven', u'fervenden', u'klaffen', u'fertragen', u'kl2nen', u'Sulden', u'ztippen', u'huSen', u'desertijeren', u'digerijeren', u'paken', u'russen', u'zpijonijeren', u'marodijeren', u'zijehen', u'ferpressen', u'bestrafen', u'foulen', u'impfen', u'rekrutijeren', u'plantSen', u'SvErmen', u'rauxen', u'ferbeissen', u'drohen', u'mahlen', u'ferbinden', u'grollen', u'beSEftigen', u'erSeinen', u'fleuxen', u'prijorisijeren', u'buxen', u'Snorren', u'zpEhen', u'instanzijijeren', u'revan\\xe7ijeren', u'kontaminijeren', u'denken', u'vyrzen', u'Seinen', u'beSi\\xe7ten', u'akkumulijeren', u'dementijeren', u'zpre\\xe7en', u'mutijeren', u'formijeren', u'fotographijeren', u'entdeken', u'foulen', u'konsolidijeren', u'industrijalisijeren', u'bivakijeren', u'reprEsentijeren', u'blan\\xe7ijeren', u'testen', u'belegen', u'dolmetSen', u'unterSeiden', u'bekehren', u'instrumentalisijeren', u'zerren', u'ferurteilen', u'fabulijeren', u'kiffen', u'ybergehen', u'ekstemporijeren', u'zermatSen', u'kalkulijeren', u'absolvijeren', u'pharyngalisijeren', u'bergen', u'protegijeren', u'kollatijonijeren', u'funktijonalisijeren', u'bepissen', u'Sneiden', u'kondensijeren', u'trygen', u'legalisijeren', u'absolvijeren', u'glei\\xe7en', u'husten', u'ferfErben', u'Snappen', u'riskijeren', u'fersehen', u'fragmentijeren', u'kleiden', u'kuwalmen', u'koventrijeren', u'Slei\\xe7en', u'glupSen', u'zynden', u'zEttigen', u'erybrigen', u'ferdrehen', u'eksplodijeren', u'ferjyngen', u'poxen', u'Sreiten', u'zentrifugijeren', u'bemyhen', u'ryken', u'amputijeren', u'gev2hnen', u'lErmen', u'ferkaken', u'ferabrei\\xe7en', u'ferstellen', u'genehmigen', u'fersenden', u'fotographijeren', u'reglementijeren', u'belegen', u'bekrEnzen', u'Srumpfen', u'beherrSen', u'zpezifizijeren', u'hallen', u'besprengen', u'fyllen', u'ztytzen', u'massakrijeren', u'urteilen', u'kompostijeren', u'heizen', u'Si\\xe7ten', u'zpylen', u'befallen', u'ztampfen', u'druken', u'erregen', u'ztreifen', u'zpuken', u'Sreijen', u'bezeugen', u'impfen', u'denaturijeren', u'prahlen', u'ervaxen', u'Sveben', u'listen', u'zEttigen', u'ferSmutzen', u'fergraben', u'ze\\xe7en', u'leihen', u'kultivijeren', u'zausen', u'ferklagen', u'beri\\xe7ten', u'zijelen', u'Serzen', u'paaren', u'kooperijeren', u'betraxten', u'degustijeren', u'ervEgen', u'ferbringen', u'erstatten', u'treten', u'erbringen', u'ergijessen', u'ferzei\\xe7nen', u'trEnken', u'man2vrijeren', u'programmijeren', u'fer2ffentli\\xe7en', u'Sleifen', u'vyrgen', u'beSEftigen', u'abandonnijeren', u'ferdE\\xe7tigen', u'platzijeren', u'beantragen', u'entlassen', u'revolutijonijeren', u'diskreditijeren', u'fe\\xe7ten', u'paginijeren', u'ferfErben', u'yberveisen', u'guken', u'ferm2gen', u'annullijeren', u'touxijeren', u'kaufen', u'entvei\\xe7en', u'bereden', u'ferrosten', u'mobilisijeren', u'vinden', u'beglykvynSen', u'ferdrehen', u'domestizijeren', u'lai\\xe7en', u'fysilijeren', u'ztellen', u'erledigen', u'ferifizijeren', u'infizijeren', u'zedimentijeren', u'zpazijeren', u'zpuken', u'legen', u'motivijeren', u'ferzehren', u'zerst2ren', u'dimmen', u'parametrisijeren', u'beleuxten', u'vyhlen', u'reformijeren', u'transportijeren', u'Siffen', u'aalen', u'rauSen', u'klappen', u'yberzeugen', u'fergessen', u'l2Sen', u'firtuwalisijeren', u'gebEren', u'fersyssen', u'benaxri\\xe7tigen', u'organisijeren', u'zoken', u'Sleifen', u'zanktijonijeren', u'krepijeren', u'fulkanisijeren', u'gevinnen', u'induzijeren', u'beerdigen', u'asetylijeren', u'belohnen', u'dampfen', u'ztrapazijeren', u'glEnzen', u'renommijeren', u'zerren', u'galoppijeren', u'beSEdigen', u'radijeren', u'beleuxten', u'varten', u'ferteidigen', u'tippen', u'g2nnen', u'troknen', u'ferselbststEndigen', u'befrijedigen', u'renovijeren', u'handhaben', u'nennen', u'gelingen', u'zpryhen', u'pikniken', u'baden', u'gelijeren', u'beveisen', u'umgeben', u'felarisijeren', u'ferpfli\\xe7ten', u'beSimpfen', u'fertreiben', u'ferlangen', u'ferzEhlen', u'frappijeren', u'thematisijeren', u'zoken', u'naSen', u'zurfen', u'beSijessen', u'zymbolisijeren', u'beste\\xe7en', u'erhalten', u'Sanghaijen', u'rennen', u'ereignen', u'atmen', u'ekstrudijeren', u'heiraten', u'kuwellen', u'hauwen', u'bestimmen', u'mynden', u'yberdenken', u'faszinijeren', u'man2vrijeren', u'glasijeren', u'radijeren', u'erfriSen', u'fersuxen', u'karren', u'muffen', u'falidijeren', u'byrsten', u'dealen', u'zautijeren', u'beherrSen', u'protokollijeren', u'pfeifen', u'Sleppen', u'zagen', u'kollatijonijeren', u'hyperventilijeren', u'massijeren', u'ferkaken', u'annullijeren', u'bestrafen', u'thematisijeren', u'trauwen', u'nazifizijeren', u'entheiligen', u'marinijeren', u'proben', u'hellen', u'zpijelen', u'zubtrahijeren', u'S2pfen', u'kommen', u'reiten', u'grinsen', u'funzen', u'graben', u'ferni\\xe7ten', u'bytzen', u'genijessen', u'ztagnijeren', u'erstiken', u'bringen', u'fererben', u'kyhlen', u'erfinden', u'unterjoxen', u'bedeuten', u'E\\xe7ten', u'emp2ren', u'vissen', u'zerkuwetSen', u'gerben', u'kiken', u'erkunden', u'Smeissen', u'vEhlen', u'beteiligen', u'mEhen', u'klagen', u'verfen', u'kriminalisijeren', u'fereinfaxen', u'ferdi\\xe7ten', u'deaktivijeren', u'feilen', u'beunruhigen', u'Slyrfen', u'hydrolysijeren', u'yberdenken', u'induzijeren', u'dimmen', u'deklarijeren', u'pflegen', u'argumentijeren', u'gevinnen', u'eilen', u'begynstigen', u'Syren', u'bromijeren', u'Sassen', u'arbeiten', u'regenerijeren', u'gijessen', u'ballen', u'ervEgen', u'argumentijeren', u'yberSEtzen', u'entthronen', u'tasten', u'gelijeren', u'ondulijeren', u'prokrastinijeren', u'protegijeren', u'ferzeihen', u'ferlernen', u'internatijonalisijeren', u'behalten', u'tyrannisijeren', u'nivellijeren', u'ergrauwen', u'ztErken', u'benytzen', u'ybertreiben', u'raffinijeren', u'bryllen', u'kartographijeren', u'beverben', u'ferjagen', u'ferunglyken', u'identifizijeren', u'ztutzen', u'paxten', u're\\xe7nen', u'begynstigen', u'koten', u'retten', u'enthaupten', u'torpedijeren', u'fervitteren', u'guken', u'bestiken', u'lygen', u'aktuwalisijeren', u'bedanken', u'mokijeren', u'Sauwen', u'impfen', u'umarbeiten', u'digerijeren', u'fasten', u'implementijeren', u'internatijonalisijeren', u'dirigijeren', u'plagijijeren', u'Sveben', u'fergiften', u'ferstopfen', u'kreuzen', u'terrorisijeren', u'filtrijeren', u'vissen', u'kooperijeren', u'beSreiben', u'zpezijalisijeren', u'muffen', u'zijehen', u'kopulijeren', u'erS2pfen', u'beeintrE\\xe7tigen', u'notijeren', u'fallen', u'ztagnijeren', u'bohren', u'erm2gli\\xe7en', u'putzen', u'bre\\xe7en', u'flambijeren', u'fygen', u'befyr\\xe7ten', u'blaffen', u'arretijeren', u'aasen', u'begreifen', u'lygen', u'veken', u'prokrastinijeren', u'privilegijeren', u'Svelen', u'entreissen', u'fermuten', u'fehlen', u'kuwarzen', u'putSen', u'plissijeren', u'bevaxen', u'fiken', u'ordnen', u'ergijessen', u'dynken', u'bersten', u'balkanisijeren', u'dramatisijeren', u'gravijeren', u'pekzijeren', u'implizijeren', u'ztoppen', u'kuwadrijeren', u'glorifizijeren', u'defenestrijeren', u'ferSiken', u'entkommen', u'grinsen', u'translozijeren', u'fervaisen', u'grausen', u'vohnen', u'kuwatSen', u'desensibilisijeren', u'zorgen', u'ferspijelen', u'restaurijeren', u'interessijeren', u'zpenden', u'respektijeren', u'zeugen', u'geh2ren', u'raffinijeren', u'ergEnzen', u'leiten', u'flijessen', u'formatijeren', u'laufen', u'erbringen', u'boomen', u'ze\\xe7en', u'bugsijeren', u'beenden', u'zpringen', u'urgijeren', u'ferloben', u'legalisijeren', u'ervirtSaften', u'doublijeren', u'kasernijeren', u'avansijeren', u'ybertreiben', u'bereuwen', u'erfassen', u'hehlen', u'zijegen', u'Sraffijeren', u'revidijeren', u'materijalisijeren', u'vijederholen', u'reimen', u'ferteidigen', u'trauwen', u'reagijeren', u'entfolgen', u'Sneijen', u'bersten', u'arbeiten', u'errei\\xe7en', u'trotten', u'konsolidijeren', u'menstruwijeren', u'maskijeren', u'gelingen', u'virken', u'kliken', u'pekzijeren', u'er2ffnen', u'trEnken']\n",
      "début rapport\n",
      "ajouterFormes gedeihen gedeihen -\n",
      "ajouterFormes untersuxen untersuxen -\n",
      "ajouterFormes kremen kremen -\n",
      "ajouterFormes entSEdigen entSEdigen -\n",
      "ajouterFormes horçen horçen -\n",
      "ajouterFormes leiden leiden -\n",
      "ajouterFormes follzijehen follzijehen -\n",
      "ajouterFormes reifizijeren reifizijeren -\n",
      "ajouterFormes ferbijeten ferbijeten -\n",
      "ajouterFormes garnijeren garnijeren -\n",
      "ajouterFormes bevahren bevahren -\n",
      "ajouterFormes ferstopfen ferstopfen -\n",
      "ajouterFormes jobben jobben -\n",
      "ajouterFormes glEnzen glEnzen -\n",
      "ajouterFormes ybervEltigen ybervEltigen -\n",
      "ajouterFormes veben veben -\n",
      "ajouterFormes ztornijeren ztornijeren -\n",
      "ajouterFormes zirkulijeren zirkulijeren -\n",
      "ajouterFormes bereçnen bereçnen -\n",
      "ajouterFormes neken neken -\n",
      "ajouterFormes fygen fygen -\n",
      "ajouterFormes kontaminijeren kontaminijeren -\n",
      "ajouterFormes zkypen zkypen -\n",
      "ajouterFormes bringen bringen -\n",
      "ajouterFormes Sulen Sulen -\n",
      "ajouterFormes vahren vahren -\n",
      "ajouterFormes pekzijeren pekzijeren -\n",
      "ajouterFormes ferfangen ferfangen -\n",
      "ajouterFormes bersten bersten -\n",
      "ajouterFormes durçkEmmen durçkEmmen -\n",
      "ajouterFormes ybergehen ybergehen -\n",
      "ajouterFormes formijeren formijeren -\n",
      "ajouterFormes fergehen fergehen -\n",
      "ajouterFormes entnehmen entnehmen -\n",
      "ajouterFormes berussen berussen -\n",
      "ajouterFormes zahlen zahlen -\n",
      "ajouterFormes benetzen benetzen -\n",
      "ajouterFormes foppen foppen -\n",
      "ajouterFormes ztoken ztoken -\n",
      "ajouterFormes ybervinden ybervinden -\n",
      "ajouterFormes benennen benennen -\n",
      "ajouterFormes ben2tigen ben2tigen -\n",
      "ajouterFormes ztriken ztriken -\n",
      "ajouterFormes ferstummen ferstummen -\n",
      "ajouterFormes ratifizijeren ratifizijeren -\n",
      "ajouterFormes internijeren internijeren -\n",
      "ajouterFormes dehydrijeren dehydrijeren -\n",
      "ajouterFormes tragen tragen -\n",
      "ajouterFormes degustijeren degustijeren -\n",
      "ajouterFormes besetzen besetzen -\n",
      "ajouterFormes zpyren zpyren -\n",
      "ajouterFormes eçauffijeren eçauffijeren -\n",
      "ajouterFormes ferifizijeren ferifizijeren -\n",
      "ajouterFormes amysijeren amysijeren -\n",
      "ajouterFormes gestatten gestatten -\n",
      "ajouterFormes limitijeren limitijeren -\n",
      "ajouterFormes fungijeren fungijeren -\n",
      "ajouterFormes zpitzen zpitzen -\n",
      "ajouterFormes entstammen entstammen -\n",
      "ajouterFormes debattijeren debattijeren -\n",
      "ajouterFormes benehmen benehmen -\n",
      "ajouterFormes reçtfertigen reçtfertigen -\n",
      "ajouterFormes enthErten enthErten -\n",
      "ajouterFormes dynken dynken -\n",
      "ajouterFormes byken byken -\n",
      "ajouterFormes verben verben -\n",
      "ajouterFormes dissozijijeren dissozijijeren -\n",
      "ajouterFormes gev2hnen gev2hnen -\n",
      "ajouterFormes dynken dynken -\n",
      "ajouterFormes kompleksijeren kompleksijeren -\n",
      "ajouterFormes kEmmen kEmmen -\n",
      "ajouterFormes konfigurijeren konfigurijeren -\n",
      "ajouterFormes helfen helfen -\n",
      "ajouterFormes ferabreden ferabreden -\n",
      "ajouterFormes harnen harnen -\n",
      "ajouterFormes ferbynden ferbynden -\n",
      "ajouterFormes ermEçtigen ermEçtigen -\n",
      "ajouterFormes gebrauxen gebrauxen -\n",
      "ajouterFormes duzen duzen -\n",
      "ajouterFormes instrumentalisijeren instrumentalisijeren -\n",
      "ajouterFormes pupsen pupsen -\n",
      "ajouterFormes bannen bannen -\n",
      "ajouterFormes ztauwen ztauwen -\n",
      "ajouterFormes Snauben Snauben -\n",
      "ajouterFormes marodijeren marodijeren -\n",
      "ajouterFormes paraphrasijeren paraphrasijeren -\n",
      "ajouterFormes ferbrauxen ferbrauxen -\n",
      "ajouterFormes beanspruxen beanspruxen -\n",
      "ajouterFormes nEhren nEhren -\n",
      "ajouterFormes unterlegen unterlegen -\n",
      "ajouterFormes merken merken -\n",
      "ajouterFormes dynsten dynsten -\n",
      "ajouterFormes lygen lygen -\n",
      "ajouterFormes entfolgen entfolgen -\n",
      "ajouterFormes reduzijeren reduzijeren -\n",
      "ajouterFormes SEnden SEnden -\n",
      "ajouterFormes fersteken fersteken -\n",
      "ajouterFormes entfolgen entfolgen -\n",
      "ajouterFormes aluminijeren aluminijeren -\n",
      "ajouterFormes imprEgnijeren imprEgnijeren -\n",
      "ajouterFormes indoktrinijeren indoktrinijeren -\n",
      "ajouterFormes duken duken -\n",
      "ajouterFormes zingen zingen -\n",
      "ajouterFormes kuwantisijeren kuwantisijeren -\n",
      "ajouterFormes zementijeren zementijeren -\n",
      "ajouterFormes kreiSen kreiSen -\n",
      "ajouterFormes empfangen empfangen -\n",
      "ajouterFormes Sneijen Sneijen -\n",
      "ajouterFormes lauSen lauSen -\n",
      "ajouterFormes brauxen brauxen -\n",
      "ajouterFormes gijessen gijessen -\n",
      "ajouterFormes formen formen -\n",
      "ajouterFormes zimsen zimsen -\n",
      "ajouterFormes plantSen plantSen -\n",
      "ajouterFormes zehen zehen -\n",
      "ajouterFormes gruppijeren gruppijeren -\n",
      "ajouterFormes kr2sen kr2sen -\n",
      "ajouterFormes poxen poxen -\n",
      "ajouterFormes entspringen entspringen -\n",
      "ajouterFormes velken velken -\n",
      "ajouterFormes ferbyssen ferbyssen -\n",
      "ajouterFormes zvingen zvingen -\n",
      "ajouterFormes fersetzen fersetzen -\n",
      "ajouterFormes bekEmpfen bekEmpfen -\n",
      "ajouterFormes zpuken zpuken -\n",
      "ajouterFormes pissen pissen -\n",
      "ajouterFormes fraternisijeren fraternisijeren -\n",
      "ajouterFormes modifizijeren modifizijeren -\n",
      "ajouterFormes ztiken ztiken -\n",
      "ajouterFormes zoomen zoomen -\n",
      "ajouterFormes kEmpfen kEmpfen -\n",
      "ajouterFormes ernten ernten -\n",
      "ajouterFormes komponijeren komponijeren -\n",
      "ajouterFormes beten beten -\n",
      "ajouterFormes zpenden zpenden -\n",
      "ajouterFormes prozessijeren prozessijeren -\n",
      "ajouterFormes interkulturalisijeren interkulturalisijeren -\n",
      "ajouterFormes zortijeren zortijeren -\n",
      "ajouterFormes moppen moppen -\n",
      "ajouterFormes halbijeren halbijeren -\n",
      "ajouterFormes improvisijeren improvisijeren -\n",
      "ajouterFormes erstellen erstellen -\n",
      "ajouterFormes korrigijeren korrigijeren -\n",
      "ajouterFormes ztr2men ztr2men -\n",
      "ajouterFormes zuspendijenijeren zuspendijenijeren -\n",
      "ajouterFormes treiben treiben -\n",
      "ajouterFormes patrouwillijeren patrouwillijeren -\n",
      "ajouterFormes programmijeren programmijeren -\n",
      "ajouterFormes ferminen ferminen -\n",
      "ajouterFormes ferhelfen ferhelfen -\n",
      "ajouterFormes bleiben bleiben -\n",
      "ajouterFormes beissen beissen -\n",
      "ajouterFormes dokumentijeren dokumentijeren -\n",
      "ajouterFormes vohnen vohnen -\n",
      "ajouterFormes intervijeven intervijeven -\n",
      "ajouterFormes Siçten Siçten -\n",
      "ajouterFormes helfen helfen -\n",
      "ajouterFormes kritisijeren kritisijeren -\n",
      "ajouterFormes appellijeren appellijeren -\n",
      "ajouterFormes ferflijegen ferflijegen -\n",
      "ajouterFormes hEuten hEuten -\n",
      "ajouterFormes kollidijeren kollidijeren -\n",
      "ajouterFormes genygen genygen -\n",
      "ajouterFormes homogenisijeren homogenisijeren -\n",
      "ajouterFormes merken merken -\n",
      "ajouterFormes dematerijalisijeren dematerijalisijeren -\n",
      "ajouterFormes fluxen fluxen -\n",
      "ajouterFormes plEdijeren plEdijeren -\n",
      "ajouterFormes philosophijeren philosophijeren -\n",
      "ajouterFormes ztibitzen ztibitzen -\n",
      "ajouterFormes rennen rennen -\n",
      "ajouterFormes dokumentijeren dokumentijeren -\n",
      "ajouterFormes nummerijeren nummerijeren -\n",
      "ajouterFormes ryhren ryhren -\n",
      "ajouterFormes Smijeren Smijeren -\n",
      "ajouterFormes irritijeren irritijeren -\n",
      "ajouterFormes prEgen prEgen -\n",
      "ajouterFormes erkunden erkunden -\n",
      "ajouterFormes pensijonijeren pensijonijeren -\n",
      "ajouterFormes bekuwemen bekuwemen -\n",
      "ajouterFormes reformijeren reformijeren -\n",
      "ajouterFormes ferspreçen ferspreçen -\n",
      "ajouterFormes ferdrijessen ferdrijessen -\n",
      "ajouterFormes bereiten bereiten -\n",
      "ajouterFormes ferfallen ferfallen -\n",
      "ajouterFormes patentijeren patentijeren -\n",
      "ajouterFormes rezitijeren rezitijeren -\n",
      "ajouterFormes mobilisijeren mobilisijeren -\n",
      "ajouterFormes entSuldigen entSuldigen -\n",
      "ajouterFormes entfErben entfErben -\n",
      "ajouterFormes ferbyssen ferbyssen -\n",
      "ajouterFormes purgijeren purgijeren -\n",
      "ajouterFormes zeufzen zeufzen -\n",
      "ajouterFormes rasen rasen -\n",
      "ajouterFormes fergraulen fergraulen -\n",
      "ajouterFormes faulenzen faulenzen -\n"
     ]
    },
    {
     "name": "stdout",
     "output_type": "stream",
     "text": [
      "ajouterFormes falten falten -\n",
      "ajouterFormes arrangijeren arrangijeren -\n",
      "ajouterFormes toppen toppen -\n",
      "ajouterFormes rufen rufen -\n",
      "ajouterFormes pusten pusten -\n",
      "ajouterFormes unterstreiçen unterstreiçen -\n",
      "ajouterFormes vaxen vaxen -\n",
      "ajouterFormes ferzehren ferzehren -\n",
      "ajouterFormes tarnen tarnen -\n",
      "ajouterFormes destabilisijeren destabilisijeren -\n",
      "ajouterFormes ferSmelzen ferSmelzen -\n",
      "ajouterFormes reprEsentijeren reprEsentijeren -\n",
      "ajouterFormes zenken zenken -\n",
      "ajouterFormes reiten reiten -\n",
      "ajouterFormes entteeren entteeren -\n",
      "ajouterFormes divergijeren divergijeren -\n",
      "ajouterFormes bryten bryten -\n",
      "ajouterFormes dekompilijeren dekompilijeren -\n",
      "ajouterFormes farijijeren farijijeren -\n",
      "ajouterFormes moderijeren moderijeren -\n",
      "ajouterFormes bereuwen bereuwen -\n",
      "ajouterFormes entkriminalisijeren entkriminalisijeren -\n",
      "ajouterFormes tEuSen tEuSen -\n",
      "ajouterFormes ferglyhen ferglyhen -\n",
      "ajouterFormes Svimmen Svimmen -\n",
      "ajouterFormes erSallen erSallen -\n",
      "ajouterFormes zerfallen zerfallen -\n",
      "ajouterFormes untersuxen untersuxen -\n",
      "ajouterFormes prostituwijeren prostituwijeren -\n",
      "ajouterFormes fragen fragen -\n",
      "ajouterFormes beSeissen beSeissen -\n",
      "ajouterFormes erbringen erbringen -\n",
      "ajouterFormes kremen kremen -\n",
      "ajouterFormes zoufflijeren zoufflijeren -\n",
      "ajouterFormes klemmen klemmen -\n",
      "ajouterFormes organisijeren organisijeren -\n",
      "ajouterFormes befallen befallen -\n",
      "ajouterFormes transferijeren transferijeren -\n",
      "ajouterFormes zpotten zpotten -\n",
      "ajouterFormes dyrfen dyrfen -\n",
      "ajouterFormes Sreijen Sreijen -\n",
      "ajouterFormes initijalisijeren initijalisijeren -\n",
      "ajouterFormes ztandardisijeren ztandardisijeren -\n",
      "ajouterFormes ernten ernten -\n",
      "ajouterFormes zinnijeren zinnijeren -\n",
      "ajouterFormes erverben erverben -\n",
      "ajouterFormes konvertijeren konvertijeren -\n",
      "ajouterFormes entstammen entstammen -\n",
      "ajouterFormes fersEumen fersEumen -\n",
      "ajouterFormes fernehmen fernehmen -\n",
      "ajouterFormes nummerijeren nummerijeren -\n",
      "ajouterFormes heizen heizen -\n",
      "ajouterFormes blokijeren blokijeren -\n",
      "ajouterFormes Sreiben Sreiben -\n",
      "ajouterFormes fersorgen fersorgen -\n",
      "ajouterFormes pipettijeren pipettijeren -\n",
      "ajouterFormes unterSlagen unterSlagen -\n",
      "ajouterFormes Sonen Sonen -\n",
      "ajouterFormes Smijeden Smijeden -\n",
      "ajouterFormes 2len 2len -\n",
      "ajouterFormes demotivijeren demotivijeren -\n",
      "ajouterFormes usurpijeren usurpijeren -\n",
      "ajouterFormes rysten rysten -\n",
      "ajouterFormes zpazijeren zpazijeren -\n",
      "ajouterFormes improvisijeren improvisijeren -\n",
      "ajouterFormes fluten fluten -\n",
      "ajouterFormes fluktuwijeren fluktuwijeren -\n",
      "ajouterFormes knaken knaken -\n",
      "ajouterFormes ztreiken ztreiken -\n",
      "ajouterFormes kEmpfen kEmpfen -\n",
      "ajouterFormes l2sen l2sen -\n",
      "ajouterFormes begrenzen begrenzen -\n",
      "ajouterFormes kuwetSen kuwetSen -\n",
      "ajouterFormes ferabSijeden ferabSijeden -\n",
      "ajouterFormes pikniken pikniken -\n",
      "ajouterFormes unternehmen unternehmen -\n",
      "ajouterFormes optimijeren optimijeren -\n",
      "ajouterFormes treten treten -\n",
      "ajouterFormes glyhen glyhen -\n",
      "ajouterFormes brennen brennen -\n",
      "ajouterFormes trennen trennen -\n",
      "ajouterFormes dyrfen dyrfen -\n",
      "ajouterFormes duSen duSen -\n",
      "ajouterFormes protestijeren protestijeren -\n",
      "ajouterFormes umarmen umarmen -\n",
      "ajouterFormes drEngen drEngen -\n",
      "ajouterFormes fergleiçen fergleiçen -\n",
      "ajouterFormes geizen geizen -\n",
      "ajouterFormes Siken Siken -\n",
      "ajouterFormes ztossen ztossen -\n",
      "ajouterFormes integrijeren integrijeren -\n",
      "ajouterFormes raufen raufen -\n",
      "ajouterFormes missbrauxen missbrauxen -\n",
      "ajouterFormes kompromittijeren kompromittijeren -\n",
      "ajouterFormes gevEhren gevEhren -\n",
      "ajouterFormes erden erden -\n",
      "ajouterFormes ringen ringen -\n",
      "ajouterFormes ergeben ergeben -\n",
      "ajouterFormes aalen aalen -\n",
      "ajouterFormes ertrinken ertrinken -\n",
      "ajouterFormes fiken fiken -\n",
      "ajouterFormes entspreçen entspreçen -\n",
      "ajouterFormes gefrijeren gefrijeren -\n",
      "ajouterFormes ebben ebben -\n",
      "ajouterFormes ervErmen ervErmen -\n",
      "ajouterFormes dyngen dyngen -\n",
      "ajouterFormes erteilen erteilen -\n",
      "ajouterFormes hassen hassen -\n",
      "ajouterFormes provozijeren provozijeren -\n",
      "ajouterFormes ztrahlen ztrahlen -\n",
      "ajouterFormes Smerzen Smerzen -\n",
      "ajouterFormes krallen krallen -\n",
      "ajouterFormes r2sten r2sten -\n",
      "ajouterFormes zeugen zeugen -\n",
      "ajouterFormes Sreiben Sreiben -\n",
      "ajouterFormes vyten vyten -\n",
      "ajouterFormes dotijeren dotijeren -\n",
      "ajouterFormes bezijehen bezijehen -\n",
      "ajouterFormes referenzijeren referenzijeren -\n",
      "ajouterFormes multiplizijeren multiplizijeren -\n",
      "ajouterFormes prognostizijeren prognostizijeren -\n",
      "ajouterFormes immigrijeren immigrijeren -\n",
      "ajouterFormes belaufen belaufen -\n",
      "ajouterFormes bepissen bepissen -\n",
      "ajouterFormes flensen flensen -\n",
      "ajouterFormes vaSen vaSen -\n",
      "ajouterFormes plissijeren plissijeren -\n",
      "ajouterFormes Smijeden Smijeden -\n",
      "ajouterFormes heparinisijeren heparinisijeren -\n",
      "ajouterFormes zolidarisijeren zolidarisijeren -\n",
      "ajouterFormes duzen duzen -\n",
      "ajouterFormes nEhren nEhren -\n",
      "ajouterFormes mutmassen mutmassen -\n",
      "ajouterFormes Sreiten Sreiten -\n",
      "ajouterFormes erSijessen erSijessen -\n",
      "ajouterFormes beheizen beheizen -\n",
      "ajouterFormes gebEren gebEren -\n",
      "ajouterFormes Sveigen Sveigen -\n",
      "ajouterFormes zerfetzen zerfetzen -\n",
      "ajouterFormes modifizijeren modifizijeren -\n",
      "ajouterFormes zijelen zijelen -\n",
      "ajouterFormes rauxen rauxen -\n",
      "ajouterFormes gijessen gijessen -\n",
      "ajouterFormes beerdigen beerdigen -\n",
      "ajouterFormes byrsten byrsten -\n",
      "ajouterFormes ferzEhlen ferzEhlen -\n",
      "ajouterFormes koventrisijeren koventrisijeren -\n",
      "ajouterFormes goutijeren goutijeren -\n",
      "ajouterFormes beSEdigen beSEdigen -\n",
      "ajouterFormes ztauben ztauben -\n",
      "ajouterFormes bauwen bauwen -\n",
      "ajouterFormes fl2ten fl2ten -\n",
      "ajouterFormes robben robben -\n",
      "ajouterFormes kolorijeren kolorijeren -\n",
      "ajouterFormes knutSen knutSen -\n",
      "ajouterFormes paralysijeren paralysijeren -\n",
      "ajouterFormes drohen drohen -\n",
      "ajouterFormes ztytzen ztytzen -\n",
      "ajouterFormes listen listen -\n",
      "ajouterFormes entnehmen entnehmen -\n",
      "ajouterFormes ztigmatisijeren ztigmatisijeren -\n",
      "ajouterFormes Syren Syren -\n",
      "ajouterFormes zteinigen zteinigen -\n",
      "ajouterFormes entSeiden entSeiden -\n",
      "ajouterFormes tapezijeren tapezijeren -\n",
      "ajouterFormes Sveigen Sveigen -\n",
      "ajouterFormes Subsen Subsen -\n",
      "ajouterFormes horten horten -\n",
      "ajouterFormes erstaunen erstaunen -\n",
      "ajouterFormes akzeptijeren akzeptijeren -\n",
      "ajouterFormes fusijonijeren fusijonijeren -\n",
      "ajouterFormes bezahlen bezahlen -\n",
      "ajouterFormes Svimmen Svimmen -\n",
      "ajouterFormes bedenken bedenken -\n",
      "ajouterFormes entlehnen entlehnen -\n",
      "ajouterFormes binden binden -\n",
      "ajouterFormes bevahrheiten bevahrheiten -\n",
      "ajouterFormes graben graben -\n",
      "ajouterFormes erden erden -\n",
      "ajouterFormes lutSen lutSen -\n",
      "ajouterFormes prokrastinijeren prokrastinijeren -\n",
      "ajouterFormes freuwen freuwen -\n",
      "ajouterFormes graphitijeren graphitijeren -\n",
      "ajouterFormes ferdummen ferdummen -\n",
      "ajouterFormes buxstabijeren buxstabijeren -\n",
      "ajouterFormes nijesen nijesen -\n",
      "ajouterFormes bugsijeren bugsijeren -\n",
      "ajouterFormes lullen lullen -\n",
      "ajouterFormes fijepen fijepen -\n",
      "ajouterFormes hassen hassen -\n",
      "ajouterFormes rammen rammen -\n",
      "ajouterFormes komponijeren komponijeren -\n",
      "ajouterFormes brillijeren brillijeren -\n",
      "ajouterFormes hehlen hehlen -\n",
      "ajouterFormes greifen greifen -\n",
      "ajouterFormes bekrEnzen bekrEnzen -\n",
      "ajouterFormes abalijenijeren abalijenijeren -\n",
      "ajouterFormes produzijeren produzijeren -\n",
      "ajouterFormes gevErtigen gevErtigen -\n",
      "ajouterFormes boomen boomen -\n",
      "ajouterFormes fervehren fervehren -\n",
      "ajouterFormes ferm2gen ferm2gen -\n",
      "ajouterFormes kreiSen kreiSen -\n",
      "ajouterFormes berufen berufen -\n",
      "ajouterFormes loben loben -\n",
      "ajouterFormes fersuxen fersuxen -\n",
      "ajouterFormes glEtten glEtten -\n",
      "ajouterFormes enthaupten enthaupten -\n",
      "ajouterFormes nerven nerven -\n",
      "ajouterFormes fervenden fervenden -\n",
      "ajouterFormes klaffen klaffen -\n",
      "ajouterFormes fertragen fertragen -\n",
      "ajouterFormes kl2nen kl2nen -\n",
      "ajouterFormes Sulden Sulden -\n",
      "ajouterFormes ztippen ztippen -\n",
      "ajouterFormes huSen huSen -\n",
      "ajouterFormes desertijeren desertijeren -\n",
      "ajouterFormes digerijeren digerijeren -\n",
      "ajouterFormes paken paken -\n",
      "ajouterFormes russen russen -\n",
      "ajouterFormes zpijonijeren zpijonijeren -\n",
      "ajouterFormes marodijeren marodijeren -\n",
      "ajouterFormes zijehen zijehen -\n",
      "ajouterFormes ferpressen ferpressen -\n",
      "ajouterFormes bestrafen bestrafen -\n",
      "ajouterFormes foulen foulen -\n",
      "ajouterFormes impfen impfen -\n",
      "ajouterFormes rekrutijeren rekrutijeren -\n",
      "ajouterFormes plantSen plantSen -\n",
      "ajouterFormes SvErmen SvErmen -\n",
      "ajouterFormes rauxen rauxen -\n",
      "ajouterFormes ferbeissen ferbeissen -\n",
      "ajouterFormes drohen drohen -\n",
      "ajouterFormes mahlen mahlen -\n",
      "ajouterFormes ferbinden ferbinden -\n",
      "ajouterFormes grollen grollen -\n",
      "ajouterFormes beSEftigen beSEftigen -\n",
      "ajouterFormes erSeinen erSeinen -\n",
      "ajouterFormes fleuxen fleuxen -\n",
      "ajouterFormes prijorisijeren prijorisijeren -\n",
      "ajouterFormes buxen buxen -\n",
      "ajouterFormes Snorren Snorren -\n",
      "ajouterFormes zpEhen zpEhen -\n",
      "ajouterFormes instanzijijeren instanzijijeren -\n",
      "ajouterFormes revançijeren revançijeren -\n",
      "ajouterFormes kontaminijeren kontaminijeren -\n",
      "ajouterFormes denken denken -\n",
      "ajouterFormes vyrzen vyrzen -\n",
      "ajouterFormes Seinen Seinen -\n",
      "ajouterFormes beSiçten beSiçten -\n",
      "ajouterFormes akkumulijeren akkumulijeren -\n",
      "ajouterFormes dementijeren dementijeren -\n",
      "ajouterFormes zpreçen zpreçen -\n",
      "ajouterFormes mutijeren mutijeren -\n",
      "ajouterFormes formijeren formijeren -\n",
      "ajouterFormes fotographijeren fotographijeren -\n",
      "ajouterFormes entdeken entdeken -\n",
      "ajouterFormes foulen foulen -\n",
      "ajouterFormes konsolidijeren konsolidijeren -\n",
      "ajouterFormes industrijalisijeren industrijalisijeren -\n",
      "ajouterFormes bivakijeren bivakijeren -\n",
      "ajouterFormes reprEsentijeren reprEsentijeren -\n",
      "ajouterFormes blançijeren blançijeren -\n",
      "ajouterFormes testen testen -\n",
      "ajouterFormes belegen belegen -\n",
      "ajouterFormes dolmetSen dolmetSen -\n",
      "ajouterFormes unterSeiden unterSeiden -\n",
      "ajouterFormes bekehren bekehren -\n",
      "ajouterFormes instrumentalisijeren instrumentalisijeren -\n",
      "ajouterFormes zerren zerren -\n",
      "ajouterFormes ferurteilen ferurteilen -\n",
      "ajouterFormes fabulijeren fabulijeren -\n",
      "ajouterFormes kiffen kiffen -\n",
      "ajouterFormes ybergehen ybergehen -\n",
      "ajouterFormes ekstemporijeren ekstemporijeren -\n",
      "ajouterFormes zermatSen zermatSen -\n",
      "ajouterFormes kalkulijeren kalkulijeren -\n",
      "ajouterFormes absolvijeren absolvijeren -\n",
      "ajouterFormes pharyngalisijeren pharyngalisijeren -\n",
      "ajouterFormes bergen bergen -\n",
      "ajouterFormes protegijeren protegijeren -\n",
      "ajouterFormes kollatijonijeren kollatijonijeren -\n",
      "ajouterFormes funktijonalisijeren funktijonalisijeren -\n",
      "ajouterFormes bepissen bepissen -\n",
      "ajouterFormes Sneiden Sneiden -\n",
      "ajouterFormes kondensijeren kondensijeren -\n",
      "ajouterFormes trygen trygen -\n",
      "ajouterFormes legalisijeren legalisijeren -\n",
      "ajouterFormes absolvijeren absolvijeren -\n",
      "ajouterFormes gleiçen gleiçen -\n",
      "ajouterFormes husten husten -\n",
      "ajouterFormes ferfErben ferfErben -\n",
      "ajouterFormes Snappen Snappen -\n",
      "ajouterFormes riskijeren riskijeren -\n",
      "ajouterFormes fersehen fersehen -\n",
      "ajouterFormes fragmentijeren fragmentijeren -\n",
      "ajouterFormes kleiden kleiden -\n",
      "ajouterFormes kuwalmen kuwalmen -\n",
      "ajouterFormes koventrijeren koventrijeren -\n",
      "ajouterFormes Sleiçen Sleiçen -\n",
      "ajouterFormes glupSen glupSen -\n",
      "ajouterFormes zynden zynden -\n",
      "ajouterFormes zEttigen zEttigen -\n",
      "ajouterFormes erybrigen erybrigen -\n",
      "ajouterFormes ferdrehen ferdrehen -\n",
      "ajouterFormes eksplodijeren eksplodijeren -\n",
      "ajouterFormes ferjyngen ferjyngen -\n",
      "ajouterFormes poxen poxen -\n",
      "ajouterFormes Sreiten Sreiten -\n",
      "ajouterFormes zentrifugijeren zentrifugijeren -\n",
      "ajouterFormes bemyhen bemyhen -\n",
      "ajouterFormes ryken ryken -\n",
      "ajouterFormes amputijeren amputijeren -\n",
      "ajouterFormes gev2hnen gev2hnen -\n",
      "ajouterFormes lErmen lErmen -\n",
      "ajouterFormes ferkaken ferkaken -\n",
      "ajouterFormes ferabreiçen ferabreiçen -\n",
      "ajouterFormes ferstellen ferstellen -\n",
      "ajouterFormes genehmigen genehmigen -\n",
      "ajouterFormes fersenden fersenden -\n",
      "ajouterFormes fotographijeren fotographijeren -\n",
      "ajouterFormes reglementijeren reglementijeren -\n",
      "ajouterFormes belegen belegen -\n",
      "ajouterFormes bekrEnzen bekrEnzen -\n",
      "ajouterFormes Srumpfen Srumpfen -\n",
      "ajouterFormes beherrSen beherrSen -\n",
      "ajouterFormes zpezifizijeren zpezifizijeren -\n",
      "ajouterFormes hallen hallen -\n",
      "ajouterFormes besprengen besprengen -\n",
      "ajouterFormes fyllen fyllen -\n",
      "ajouterFormes ztytzen ztytzen -\n",
      "ajouterFormes massakrijeren massakrijeren -\n",
      "ajouterFormes urteilen urteilen -\n",
      "ajouterFormes kompostijeren kompostijeren -\n",
      "ajouterFormes heizen heizen -\n",
      "ajouterFormes Siçten Siçten -\n",
      "ajouterFormes zpylen zpylen -\n",
      "ajouterFormes befallen befallen -\n",
      "ajouterFormes ztampfen ztampfen -\n",
      "ajouterFormes druken druken -\n",
      "ajouterFormes erregen erregen -\n",
      "ajouterFormes ztreifen ztreifen -\n"
     ]
    }
   ],
   "source": [
    "for nomEchantillon in listeEchantillons:\n",
    "    print (nomEchantillon,end=\", \")\n",
    "    lexique=lireLexique(nomEchantillon)\n",
    "    sampleCases=lexique.case.unique().tolist()\n",
    "    print (sampleCases)\n",
    "    classesFinales=genererClassesFinales(lexique)\n",
    "    if realRun:\n",
    "        with open(nomEchantillon.replace(\".pkl\",'-Regles.pkl'), 'wb') as output:\n",
    "           pickle.dump(classesFinales, output, pickle.HIGHEST_PROTOCOL)"
   ]
  },
  {
   "cell_type": "markdown",
   "metadata": {},
   "source": [
    "# TESTS"
   ]
  },
  {
   "cell_type": "code",
   "execution_count": null,
   "metadata": {},
   "outputs": [],
   "source": [
    "sorties=classesFinales[(u'VxINDxPSTxPFVx2xSG', u'VxINDxPRSx2xPL')].sortirForme(u\"beleitest\")\n",
    "for element in sorties:\n",
    "    print (element,sorties[element])"
   ]
  },
  {
   "cell_type": "code",
   "execution_count": null,
   "metadata": {},
   "outputs": [],
   "source": [
    "classesFinales[(u'VxPRS', u'VxINDxPRSx3xSG')].nbClasse"
   ]
  },
  {
   "cell_type": "code",
   "execution_count": null,
   "metadata": {
    "collapsed": true
   },
   "outputs": [],
   "source": [
    "classesFinales[(u'VxPRS', u'VxINDxPRSx3xSG')].patrons"
   ]
  },
  {
   "cell_type": "code",
   "execution_count": null,
   "metadata": {},
   "outputs": [],
   "source": [
    "classesFinales.keys()"
   ]
  },
  {
   "cell_type": "code",
   "execution_count": null,
   "metadata": {
    "collapsed": true
   },
   "outputs": [],
   "source": [
    "fs.lattice[u\"N\"]"
   ]
  },
  {
   "cell_type": "code",
   "execution_count": null,
   "metadata": {
    "collapsed": true
   },
   "outputs": [],
   "source": [
    "fs.lattice[phonemes[:19]]"
   ]
  },
  {
   "cell_type": "code",
   "execution_count": null,
   "metadata": {
    "collapsed": true
   },
   "outputs": [],
   "source": [
    "phonemes=[u'j', u'2', u'6', u'9', u'\\xf4', u'E', u'H', u'J', u'O', u'N', u'S', u'b', u'Z', u'a', u'\\xe2', u'd', u'g', u'f', u'i', u'\\xe8', u'k', u'\\xea', u'm', u'l', u'o', u'n', u'p', u's', u'r', u'u', u't', u'w', u'v', u'y', u'\\xfb', u'z']\n",
    "len(phonemes)"
   ]
  },
  {
   "cell_type": "code",
   "execution_count": null,
   "metadata": {
    "collapsed": true
   },
   "outputs": [],
   "source": [
    "paradigmes=lexique2Paradigmes(lexique)"
   ]
  },
  {
   "cell_type": "code",
   "execution_count": null,
   "metadata": {
    "scrolled": true
   },
   "outputs": [],
   "source": [
    "paradigmes"
   ]
  },
  {
   "cell_type": "code",
   "execution_count": null,
   "metadata": {},
   "outputs": [],
   "source": [
    "pdParadigmes=paradigmes[[\"VxINDxPRSx1xSG\",\"VxINDxPRSx3xSG\"]].dropna(thresh=2, axis=0).reindex()"
   ]
  },
  {
   "cell_type": "code",
   "execution_count": null,
   "metadata": {
    "collapsed": true
   },
   "outputs": [],
   "source": [
    "pdParadigmes[\"VxINDxPRSx1xSG\"].tolist()"
   ]
  },
  {
   "cell_type": "code",
   "execution_count": null,
   "metadata": {
    "collapsed": true
   },
   "outputs": [],
   "source": [
    "lexique.loc[len(lexique)]=[u\"pourri\",u\"fs\",u\"puʁit\",0.001,0,1,u\"purit\"]"
   ]
  },
  {
   "cell_type": "code",
   "execution_count": null,
   "metadata": {
    "collapsed": true
   },
   "outputs": [],
   "source": [
    "classesFinales=genererClassesFinales(lexique)"
   ]
  }
 ],
 "metadata": {
  "kernelspec": {
   "display_name": "Python 2",
   "language": "python",
   "name": "python2"
  },
  "language_info": {
   "codemirror_mode": {
    "name": "ipython",
    "version": 2
   },
   "file_extension": ".py",
   "mimetype": "text/x-python",
   "name": "python",
   "nbconvert_exporter": "python",
   "pygments_lexer": "ipython2",
   "version": "2.7.11"
  }
 },
 "nbformat": 4,
 "nbformat_minor": 1
}
