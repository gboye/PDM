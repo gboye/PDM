{
 "cells": [
  {
   "cell_type": "markdown",
   "metadata": {},
   "source": [
    "# Test de comparaisons"
   ]
  },
  {
   "cell_type": "code",
   "execution_count": 1,
   "metadata": {
    "collapsed": true
   },
   "outputs": [],
   "source": [
    "# -*- coding: utf8 -*-\n",
    "import codecs,glob,re,pickle,features,time\n",
    "import pandas as pd\n",
    "import itertools as it"
   ]
  },
  {
   "cell_type": "code",
   "execution_count": 2,
   "metadata": {
    "collapsed": true
   },
   "outputs": [],
   "source": [
    "import math\n",
    "def rAn(r,n):\n",
    "    f = math.factorial\n",
    "    return f(n) / f(n-r)\n",
    "def rCn(r,n):\n",
    "    f = math.factorial\n",
    "    return f(n) / f(r) / f(n-r)"
   ]
  },
  {
   "cell_type": "code",
   "execution_count": 21,
   "metadata": {
    "collapsed": true
   },
   "outputs": [],
   "source": [
    "features.add_config('../bdlexique.ini')\n",
    "fs=features.FeatureSystem('phonemes')\n",
    "phonologicalMap=\"-X\""
   ]
  },
  {
   "cell_type": "code",
   "execution_count": 22,
   "metadata": {
    "collapsed": true
   },
   "outputs": [],
   "source": [
    "filePrefix=\"/Users/gilles/Box Sync/2015-Data/FlexionAdjectifs/\""
   ]
  },
  {
   "cell_type": "code",
   "execution_count": 23,
   "metadata": {
    "collapsed": true
   },
   "outputs": [],
   "source": [
    "neutralisationsNORD=(u\"6û\",u\"9ê\")\n",
    "neutralisationsSUD=(u\"e2o\",u\"E9O\")\n",
    "if phonologicalMap==\"-N\":\n",
    "    neutralisations=neutralisationsNORD\n",
    "elif phonologicalMap==\"-S\":\n",
    "    neutralisations=neutralisationsSUD\n",
    "else:\n",
    "    neutralisations=(u\"\",u\"\")\n",
    "    phonologicalMap=(\"-X\")\n",
    "bdlexiqueIn = unicode(u\"èò\"+neutralisations[0])\n",
    "bdlexiqueNum = [ord(char) for char in bdlexiqueIn]\n",
    "neutreOut = unicode(u\"EO\"+neutralisations[1])\n",
    "neutralise = dict(zip(bdlexiqueNum, neutreOut))"
   ]
  },
  {
   "cell_type": "code",
   "execution_count": 24,
   "metadata": {
    "collapsed": true
   },
   "outputs": [],
   "source": [
    "def recoder(chaine,table=neutralise):\n",
    "    if type(chaine)==str:\n",
    "        temp=unicode(chaine.decode('utf8')).translate(table)\n",
    "        result=temp.encode('utf8')\n",
    "    elif type(chaine)==unicode:\n",
    "        result=chaine.translate(table)\n",
    "    else:\n",
    "        result=chaine\n",
    "    return result"
   ]
  },
  {
   "cell_type": "code",
   "execution_count": 7,
   "metadata": {
    "collapsed": true
   },
   "outputs": [],
   "source": [
    "def diff(mot1,mot2):\n",
    "    result=[]\n",
    "    diff1=\"\"\n",
    "    diff2=\"\"\n",
    "    same=\"\"\n",
    "    vide=\".\"\n",
    "    lmax=max(len(mot1),len(mot2))\n",
    "    lmin=min(len(mot1),len(mot2))\n",
    "    for index in range(lmax):\n",
    "        if index < lmin:\n",
    "            if mot1[index]!=mot2[index]:\n",
    "                diff1+=mot1[index]\n",
    "                diff2+=mot2[index]\n",
    "                same+=vide\n",
    "            else:\n",
    "                same+=mot1[index]\n",
    "                diff1+=vide\n",
    "                diff2+=vide\n",
    "        elif index < len(mot1):\n",
    "            diff1+=mot1[index]\n",
    "        elif index < len(mot2):\n",
    "            diff2+=mot2[index]\n",
    "    diff1=diff1.lstrip(\".\")\n",
    "    diff2=diff2.lstrip(\".\")\n",
    "#    return (same,diff1,diff2,diff1+\"_\"+diff2)\n",
    "    return (diff1+\"-\"+diff2)"
   ]
  },
  {
   "cell_type": "code",
   "execution_count": 8,
   "metadata": {
    "collapsed": true
   },
   "outputs": [],
   "source": [
    "def rowDiff(row, patrons):\n",
    "    result=diff(row[0],row[1])\n",
    "    if not result in patrons:\n",
    "        patrons[result]=(formesPatron(),formesPatron())\n",
    "    patrons[result][0].ajouterFormes(row[0])\n",
    "    patrons[result][1].ajouterFormes(row[1])\n",
    "    return (result[0],result[1])"
   ]
  },
  {
   "cell_type": "code",
   "execution_count": 371,
   "metadata": {
    "collapsed": true
   },
   "outputs": [],
   "source": [
    "def patron2regexp(morceaux):\n",
    "    result=\"^\"\n",
    "    for morceau in morceaux:\n",
    "        if morceau==\"*\" or morceau==\".*\":\n",
    "            result+=\"(.*)\"\n",
    "        elif len(morceau)>1:\n",
    "            result+=\"([\"+morceau+\"])\"\n",
    "        else:\n",
    "            result+=morceau\n",
    "    result+=\"$\"\n",
    "    result=result.replace(\")(\",\"\")\n",
    "    return result"
   ]
  },
  {
   "cell_type": "code",
   "execution_count": 29,
   "metadata": {
    "collapsed": true
   },
   "outputs": [],
   "source": [
    "def remplacementSortie(sortie):\n",
    "    n=1\n",
    "    nsortie=\"\"\n",
    "    for lettre in sortie:\n",
    "        if lettre==\".\":\n",
    "            nsortie+=\"\\g<%d>\"%n\n",
    "            n+=1\n",
    "        else:\n",
    "            nsortie+=lettre\n",
    "    return nsortie"
   ]
  },
  {
   "cell_type": "code",
   "execution_count": 18,
   "metadata": {
    "collapsed": true
   },
   "outputs": [],
   "source": [
    "class formesPatron:\n",
    "    '''\n",
    "    Accumulateur de formes correspondant à un patron pour calcul de la Généralisation Minimale (cf. MGL)\n",
    "    '''\n",
    "    def __init__(self):\n",
    "        self.formes=[]\n",
    "\n",
    "#    def __repr__(self):\n",
    "#        return ','.join(self.calculerGM())\n",
    "        \n",
    "    def ajouterForme(self,forme):\n",
    "        self.formes.append(forme)\n",
    "        \n",
    "    def calculerGM(self):\n",
    "        minLongueur=len(min(self.formes, key=len))\n",
    "        maxLongueur=len(max(self.formes, key=len))\n",
    "        if debug: print (minLongueur, maxLongueur)\n",
    "        positions=[]\n",
    "        if maxLongueur>minLongueur:\n",
    "            positions.append(\"*\")\n",
    "        for i in xrange(minLongueur, 0, -1):\n",
    "            phonemes=set([x[-i] for x in self.formes])\n",
    "            if debug1: print \"phonemes\",\"\".join(phonemes)\n",
    "            if \".\" in phonemes:\n",
    "                positions.append(\".\")\n",
    "            else:\n",
    "                positions.append(u\"\".join(fs.lattice[phonemes].extent))\n",
    "        return patron2regexp(positions)\n",
    "\n",
    "class pairePatrons:\n",
    "    '''\n",
    "    Accumulateur de triplets (f1,f2,patron) correspondant à une paire pour calcul des Généralisations Minimales (cf. MGL)\n",
    "    '''\n",
    "    def __init__(self,case1,case2):\n",
    "        self.patrons1={}\n",
    "        self.patrons2={}\n",
    "        self.case1=case1\n",
    "        self.case2=case2\n",
    "\n",
    "#    def __repr__(self):\n",
    "#        return ','.join(self.calculerGM())\n",
    "        \n",
    "    def ajouterFormes(self,forme1,forme2,patron):\n",
    "#        print (forme1,forme2,patron, file=logfile)\n",
    "        patron12=patron\n",
    "        (pat1,pat2)=patron.split(\"-\")\n",
    "        patron21=pat2+\"-\"+pat1\n",
    "#        print (patron12,patron21, file=logfile)\n",
    "        if not patron12 in self.patrons1:\n",
    "            if debug: print (forme1,forme2,patron12)\n",
    "            self.patrons1[patron12]=formesPatron()\n",
    "        self.patrons1[patron12].ajouterForme(forme1)\n",
    "        if not patron21 in self.patrons2:\n",
    "            self.patrons2[patron21]=formesPatron()\n",
    "        self.patrons2[patron21].ajouterForme(forme2)\n",
    "        \n",
    "        \n",
    "    def calculerGM(self):\n",
    "        resultat1={}\n",
    "        for patron in self.patrons1:\n",
    "            if debug: print (\"patron1\", patron)\n",
    "            resultat1[patron]=self.patrons1[patron].calculerGM()\n",
    "        resultat2={}\n",
    "        for patron in self.patrons2:\n",
    "            if debug: print (\"patron2\", patron)\n",
    "            resultat2[patron]=self.patrons2[patron].calculerGM()\n",
    "        return (resultat1,resultat2) "
   ]
  },
  {
   "cell_type": "code",
   "execution_count": 11,
   "metadata": {
    "collapsed": true
   },
   "outputs": [],
   "source": [
    "class paireClasses:\n",
    "    def __init__(self,case1,case2):\n",
    "        self.case1=case1\n",
    "        self.case2=case2\n",
    "        self.nom=case1+\"-\"+case2\n",
    "        self.classes1=classesPaire(case1,case2)\n",
    "        self.classes2=classesPaire(case2,case1)\n",
    "\n",
    "    def ajouterPatron(self,n,patron,motif):\n",
    "        if n==1:\n",
    "            self.classes1.ajouterPatron(patron,motif)\n",
    "        elif n==2:\n",
    "            self.classes2.ajouterPatron(patron,motif)\n",
    "        else:\n",
    "            print (\"le numéro de forme n'est pas dans [1,2]\",n)# file=logfile)\n",
    "\n",
    "    def ajouterPaire(self,forme1,forme2):\n",
    "        self.classes1.ajouterPaire(forme1,forme2)\n",
    "        self.classes2.ajouterPaire(forme2,forme1)\n",
    "        \n",
    "    def calculerClasses(self):\n",
    "        return(self.classes1,self.classes2)\n",
    "\n",
    "    \n",
    "class classesPaire:\n",
    "    '''\n",
    "    Gestion des patrons, des classes et des transformations\n",
    "    \n",
    "    ajouterPatron : ajoute un patron et son motif associé (MGL)\n",
    "    ajouterPaire : ajoute une paire de formes, calcule la classe de la forme1 et la règle sélectionnée\n",
    "    sortirForme : calcule les formes de sortie correspondant à la forme1 avec leurs coefficients respectifs\n",
    "    '''\n",
    "    def __init__(self,case1,case2):\n",
    "        self.case1=case1\n",
    "        self.case2=case2\n",
    "        self.nom=case1+\"-\"+case2\n",
    "        self.classe={}\n",
    "        self.nbClasse={}\n",
    "        self.patrons={}\n",
    "        self.entree={}\n",
    "        self.sortie={}\n",
    "    \n",
    "    def ajouterPatron(self,patron,motif):\n",
    "        self.patrons[patron]=motif\n",
    "        (entree,sortie)=patron.split(\"-\")\n",
    "        self.entree[patron]=entree.replace(u\".\",u\"(.)\")\n",
    "        self.sortie[patron]=remplacementSortie(sortie)\n",
    "    \n",
    "    def ajouterPaire(self,forme1,forme2):\n",
    "        '''\n",
    "        on calcule la classe de la paire idClasseForme et la règle sélectionnée\n",
    "        on incrémente le compteur de la classe et celui de la règle sélectionnée à l'intérieur de la classe\n",
    "        '''\n",
    "        classeForme=[]\n",
    "        regleForme=\"\"\n",
    "        for patron in self.patrons:\n",
    "            if re.match(self.patrons[patron],forme1):\n",
    "                classeForme.append(patron)\n",
    "                '''\n",
    "                le +\"$\" permet de forcer l'alignement à droite pour les transformations suffixales\n",
    "                '''\n",
    "                if forme2==re.sub(self.entree[patron]+\"$\",self.sortie[patron],forme1):\n",
    "                    regleForme=patron\n",
    "        idClasseForme=\", \".join(classeForme)\n",
    "        if not idClasseForme in self.classe:\n",
    "            self.classe[idClasseForme]={}\n",
    "            self.nbClasse[idClasseForme]=0\n",
    "        if not regleForme in self.classe[idClasseForme]:\n",
    "            self.classe[idClasseForme][regleForme]=0\n",
    "        self.nbClasse[idClasseForme]+=1\n",
    "        self.classe[idClasseForme][regleForme]+=1\n",
    "\n",
    "    def sortirForme(self,forme):\n",
    "        classeForme=[]\n",
    "        sortieForme={}\n",
    "        forme=recoder(forme)\n",
    "        for patron in self.patrons:\n",
    "            if re.match(self.patrons[patron],forme):\n",
    "                classeForme.append(patron)\n",
    "        if classeForme:\n",
    "            idClasseForme=\", \".join(classeForme)\n",
    "            if idClasseForme in self.nbClasse:\n",
    "                nTotal=self.nbClasse[idClasseForme]\n",
    "                for patron in self.classe[idClasseForme]:\n",
    "                    sortie=re.sub(self.entree[patron]+\"$\",self.sortie[patron],forme)\n",
    "                    sortieForme[sortie]=float(self.classe[idClasseForme][patron])/nTotal\n",
    "            else:\n",
    "                print (forme)#, file=logfile)\n",
    "                print (\"pas de classe\",idClasseForme)#, file=logfile)\n",
    "                print (\"%.2f par forme de sortie\" % (float(1)/len(classeForme)))#, file=logfile)\n",
    "                nTotal=len(classeForme)\n",
    "                for patron in classeForme:\n",
    "                    sortie=re.sub(self.entree[patron]+\"$\",self.sortie[patron],forme)\n",
    "                    sortieForme[sortie]=float(1)/nTotal\n",
    "        else:\n",
    "            print (forme)#, file=logfile) \n",
    "            print (\"pas de patron\")#, file=logfile)\n",
    "        return sortieForme\n",
    "        "
   ]
  },
  {
   "cell_type": "code",
   "execution_count": 25,
   "metadata": {
    "collapsed": true
   },
   "outputs": [],
   "source": [
    "def lireLexique(nomLexique):\n",
    "    with open(nomLexique, 'rb') as input:\n",
    "        lexique=pickle.load(input)\n",
    "        lexique[\"phono\"]=lexique[\"phono\"].apply(recoder)\n",
    "    return lexique"
   ]
  },
  {
   "cell_type": "code",
   "execution_count": 13,
   "metadata": {
    "collapsed": true
   },
   "outputs": [],
   "source": [
    "def lexique2Paradigmes(lexique):\n",
    "    return pd.pivot_table(lexique, values='phono', index=['lexeme'], columns=['case'], aggfunc=lambda x: \",\".join(x)).reset_index().reindex()"
   ]
  },
  {
   "cell_type": "code",
   "execution_count": 14,
   "metadata": {
    "collapsed": true
   },
   "outputs": [],
   "source": [
    "def rapports(paradigme):\n",
    "    if len(paradigme.columns.values.tolist())==2:\n",
    "        (case1,lexeme)= paradigme.columns.values.tolist()\n",
    "        case2=case1\n",
    "    else:\n",
    "        (case1,case2,lexeme)= paradigme.columns.values.tolist()\n",
    "    patrons=pairePatrons(case1,case2)\n",
    "    classes=paireClasses(case1,case2)\n",
    "    if len(paradigme)>0:\n",
    "        paradigme.apply(lambda x: patrons.ajouterFormes(x[case1],x[case2],diff(x[case1],x[case2])), axis=1)\n",
    "        (regles1,regles2)=patrons.calculerGM()\n",
    "        for regle in regles1:\n",
    "            classes.ajouterPatron(1,regle,regles1[regle])\n",
    "        for regle in regles2:\n",
    "            classes.ajouterPatron(2,regle,regles2[regle])\n",
    "        paradigme.apply(lambda x: classes.ajouterPaire(x[case1],x[case2]), axis=1)\n",
    "    (classes1,classes2)=classes.calculerClasses()\n",
    "    return (classes1,classes2)"
   ]
  },
  {
   "cell_type": "code",
   "execution_count": 26,
   "metadata": {
    "collapsed": true
   },
   "outputs": [],
   "source": [
    "listeEchantillons=glob.glob(filePrefix+\"Longitudinal-*MSP.pkl\")\n",
    "#listeEchantillons"
   ]
  },
  {
   "cell_type": "code",
   "execution_count": 27,
   "metadata": {},
   "outputs": [
    {
     "name": "stdout",
     "output_type": "stream",
     "text": [
      "[u'ms', u'mp', u'fs', u'fp']\n"
     ]
    }
   ],
   "source": [
    "nomEchantillon=listeEchantillons[0]\n",
    "lexique=lireLexique(nomEchantillon)\n",
    "sampleCases=lexique.case.unique().tolist()\n",
    "print (sampleCases)\n",
    "paradigmes=lexique2Paradigmes(lexique)"
   ]
  },
  {
   "cell_type": "code",
   "execution_count": 31,
   "metadata": {},
   "outputs": [
    {
     "name": "stdout",
     "output_type": "stream",
     "text": [
      "phonemes p\n",
      "phonemes r\n",
      "phonemes O\n",
      "phonemes t\n",
      "phonemes E\n",
      "phonemes k\n",
      "phonemes t\n",
      "phonemes 9\n",
      "phonemes r\n",
      "phonemes bf\n",
      "phonemes rl\n",
      "phonemes â\n",
      "phonemes agfmlnSruw\n",
      "phonemes aâEorô\n",
      "phonemes l\n",
      "phonemes ô\n",
      "phonemes f\n",
      "phonemes u\n",
      "phonemes s\n",
      "phonemes u\n",
      "phonemes 9EHOSZabdgikjmlnpsrtwvyz\n",
      "phonemes eikjlrtyE\n",
      "phonemes bO\n",
      "phonemes rm\n",
      "phonemes û\n",
      "phonemes Z\n",
      "phonemes â\n",
      "phonemes t\n",
      "phonemes i\n",
      "phonemes aâEiêoruô\n",
      "phonemes sj\n",
      "phonemes o\n",
      "phonemes r\n",
      "phonemes 6\n",
      "phonemes m\n",
      "phonemes i\n",
      "phonemes sb\n",
      "phonemes o\n",
      "phonemes rbO\n",
      "phonemes ruô\n",
      "phonemes dt\n",
      "phonemes 9\n",
      "phonemes r\n",
      "phonemes s\n",
      "phonemes E\n",
      "phonemes k\n",
      "phonemes gfmlnrtvz\n",
      "phonemes ê\n",
      "phonemes bEdkjmSlsrtv\n",
      "phonemes ê\n",
      "phonemes aHnsrtvz\n",
      "phonemes i9Eo\n",
      "phonemes f\n",
      "phonemes r\n",
      "phonemes O\n",
      "phonemes m\n",
      "phonemes â\n",
      "phonemes m\n",
      "phonemes E\n",
      "phonemes t\n",
      "phonemes r\n",
      "phonemes âEilOru6y\n",
      "phonemes âEimlnsrt\n",
      "phonemes Zj\n",
      "phonemes e\n",
      "phonemes pkbJf\n",
      "phonemes ô\n",
      "phonemes agfmlnSruw\n",
      "phonemes aâEorô\n",
      "phonemes d\n",
      "phonemes bEdkjmSlsrtv\n",
      "phonemes E\n",
      "phonemes n\n",
      "phonemes Z\n",
      "phonemes â\n",
      "phonemes t\n",
      "phonemes i\n",
      "phonemes j\n",
      "phonemes bf\n",
      "phonemes rl\n",
      "phonemes â\n",
      "phonemes S\n",
      "phonemes gfmlnrtvz\n",
      "phonemes i\n",
      "phonemes n\n",
      "phonemes bO\n",
      "phonemes rm\n",
      "phonemes y\n",
      "phonemes n\n",
      "phonemes pkbJf\n",
      "phonemes O\n",
      "phonemes n\n",
      "phonemes m\n",
      "phonemes E\n",
      "phonemes t\n",
      "phonemes r\n",
      "phonemes E\n",
      "phonemes s\n",
      "phonemes sb\n",
      "phonemes E\n",
      "phonemes l\n",
      "phonemes 9EHOSZabdgikjmlnpsrtwvyz\n",
      "phonemes eikjlrtyE\n",
      "phonemes âEilOru6y\n",
      "phonemes âEimlnsrt\n",
      "phonemes Zj\n",
      "phonemes E\n",
      "phonemes r\n",
      "phonemes p\n",
      "phonemes r\n",
      "phonemes O\n",
      "phonemes t\n",
      "phonemes E\n",
      "phonemes k\n",
      "phonemes t\n",
      "phonemes r\n",
      "phonemes i\n",
      "phonemes s\n",
      "phonemes rbO\n",
      "phonemes ruô\n",
      "phonemes dt\n",
      "phonemes 2\n",
      "phonemes z\n",
      "phonemes r\n",
      "phonemes O\n",
      "phonemes m\n",
      "phonemes a\n",
      "phonemes n\n",
      "phonemes r\n",
      "phonemes 6\n",
      "phonemes m\n",
      "phonemes i\n",
      "phonemes z\n",
      "phonemes aHnsrtvz\n",
      "phonemes i9Eo\n",
      "phonemes v\n",
      "phonemes s\n",
      "phonemes E\n",
      "phonemes S\n",
      "phonemes sj\n",
      "phonemes O\n",
      "phonemes t\n",
      "phonemes l\n",
      "phonemes ô\n",
      "phonemes g\n",
      "phonemes s\n",
      "phonemes u\n",
      "phonemes l\n",
      "phonemes aâEiêoruô\n",
      "phonemes t\n",
      "phonemes f\n",
      "phonemes O\n",
      "phonemes l\n"
     ]
    }
   ],
   "source": [
    "debug=0\n",
    "debug1=1\n",
    "paradigme=paradigmes[[\"ms\",\"fs\",\"lexeme\"]].dropna(thresh=3, axis=0).reindex()\n",
    "(r1,r2)=rapports(paradigme)"
   ]
  },
  {
   "cell_type": "code",
   "execution_count": 183,
   "metadata": {},
   "outputs": [
    {
     "data": {
      "text/plain": [
       "{'-': u'^(.*[ptkbdgfsSvzZmnJNjlrwHiyEe926auOo\\xea\\xfb\\xe2\\xf4][ptkbdgfsSvzZjlrwHiyEe926uOo])$',\n",
       " u'-Es': u'^mEtr$',\n",
       " u'-S': u'^([pbfv][lr])\\xe2$',\n",
       " u'-d': u'^(.*[ptkbdgfsSvzZmnJNjlrwHiyEe926auOo\\xea\\xfb\\xe2\\xf4][rEe926aOo\\xea\\xfb\\xe2\\xf4])$',\n",
       " u'-g': u'^l\\xf4$',\n",
       " u'-j': u'^Z\\xe2ti$',\n",
       " u'-l': u'^su$',\n",
       " u'-t': u'^(.*[jrwHiyEe926auOo\\xea\\xfb\\xe2\\xf4])$',\n",
       " u'-z': u'^r6mi$',\n",
       " u'9r-2z': u'^(.*[bvrE96O][rw6uOo\\xf4][td])9r$',\n",
       " u'9r-ris': u'^prOtEkt9r$',\n",
       " u'e-Er': u'^(.*[mnJjlrwHiyEe926auOo\\xea\\xfb\\xe2\\xf4][ptkbdgfsSvzZmnJNjlriEe6a\\xea\\xe2][Zj])e$',\n",
       " u'f-v': u'^(.*[ptkbdgfsSvzZmnJNjrwHE96aO\\xea\\xfb\\xe2\\xf4][iyEe926uOo])f$',\n",
       " u'k-S': u'^sEk$',\n",
       " u'o-El': u'^(.*[ptbdfsvz])o$',\n",
       " u'o-Ot': u'^(.*[fsvzj])o$',\n",
       " u'u-Ol': u'^fu$',\n",
       " u'\\xe2-an': u'^rOm\\xe2$',\n",
       " u'\\xea-En': u'^(.*[ptkbdgfsSvzZmnJNjlrE6\\xea])\\xea$',\n",
       " u'\\xea-in': u'^(.*[ptkbdgfsSvzZmnJNlr])\\xea$',\n",
       " u'\\xf4-On': u'^(.*[pkbgfvmJNr])\\xf4$',\n",
       " u'\\xfb-yn': u'^(.*[bE96O][mr])\\xfb$'}"
      ]
     },
     "execution_count": 183,
     "metadata": {},
     "output_type": "execute_result"
    }
   ],
   "source": [
    "r1.patrons"
   ]
  },
  {
   "cell_type": "code",
   "execution_count": 321,
   "metadata": {},
   "outputs": [
    {
     "name": "stdout",
     "output_type": "stream",
     "text": [
      "^(.*[mnJjlrwHiyEe926auOoêûâô][ptkbdgfsSvzZmnJNjlriEe6aêâ][Zj])e$\n",
      "pr6mje\n"
     ]
    }
   ],
   "source": [
    "rePatron=r1.patrons[\"e-Er\"]\n",
    "print rePatron\n",
    "m=re.match(rePatron,\"pr6mje\")\n",
    "if m:\n",
    "    print m.group()"
   ]
  },
  {
   "cell_type": "code",
   "execution_count": 322,
   "metadata": {},
   "outputs": [
    {
     "name": "stderr",
     "output_type": "stream",
     "text": [
      "/Users/gilles/anaconda/lib/python2.7/site-packages/ipykernel/__main__.py:1: UserWarning: This pattern has match groups. To actually get the groups, use str.extract.\n",
      "  if __name__ == '__main__':\n"
     ]
    }
   ],
   "source": [
    "matchPatron=paradigme.ms.str.contains(rePatron,regex=True,na=False)"
   ]
  },
  {
   "cell_type": "code",
   "execution_count": 324,
   "metadata": {
    "scrolled": true
   },
   "outputs": [
    {
     "name": "stdout",
     "output_type": "stream",
     "text": [
      "17 23 0.739130434783\n"
     ]
    }
   ],
   "source": [
    "pdMatch=paradigme[matchPatron]\n",
    "positiveExtension=pdMatch[pdMatch[\"ms\"].replace(\"e$\",\"Er\", regex=True)==pdMatch[\"fs\"]][[\"ms\"]]\n",
    "overExtension=pdMatch[pdMatch[\"ms\"].replace(\"e$\",\"Er\", regex=True)!=pdMatch[\"fs\"]][[\"ms\"]]\n",
    "reliability(rePatron,positiveExtension[\"ms\"],pdMatch[\"ms\"])"
   ]
  },
  {
   "cell_type": "code",
   "execution_count": 364,
   "metadata": {
    "collapsed": true
   },
   "outputs": [],
   "source": [
    "def regexPositions(regex):\n",
    "    m=re.match(ur\"^\\^\\((.*)\\)(.*)\\$$\",regex)\n",
    "    if m:\n",
    "        context=[e for e in re.split(ur\"\\[|\\]\",m.group(1)) if e!=\"\"]\n",
    "        fix=list(m.group(2))\n",
    "        return context+fix\n",
    "    else:\n",
    "        return list(regex)"
   ]
  },
  {
   "cell_type": "code",
   "execution_count": 393,
   "metadata": {},
   "outputs": [
    {
     "name": "stdout",
     "output_type": "stream",
     "text": [
      "^(.*[mnJjlrwHiyEe926auOoêûâô][ptkbdgfsSvzZmnJNjlriEe6aêâ][Zj])e$\n"
     ]
    }
   ],
   "source": [
    "positions=regexPositions(rePatron)\n",
    "print rePatron\n",
    "gReliability=reliability(rePatron,pdMatch[\"ms\"],paradigmes[\"ms\"])\n",
    "variations=[[] for v in range(len(positions))]\n",
    "for numPosition,regex in enumerate(positions):\n",
    "    if regex!=\".*\" and len(regex)>1:\n",
    "        principal=\"\".join(fs.lattice[regex].extent)\n",
    "        variations[numPosition].append(principal)\n",
    "        for neighbor in fs.lattice[regex].lower_neighbors:\n",
    "            lowNeighbor=\"\".join(neighbor.extent)\n",
    "            variations[numPosition].append(lowNeighbor)\n",
    "    else:\n",
    "        variations[numPosition].append(regex)"
   ]
  },
  {
   "cell_type": "code",
   "execution_count": null,
   "metadata": {
    "collapsed": true
   },
   "outputs": [],
   "source": [
    "vReliabilities={}\n",
    "for variation in it.product(*variations):\n",
    "    vReliability=reliability(patron2regexp(variation),pdMatch[\"ms\"],paradigmes[\"ms\"])\n",
    "    if vReliability>=gReliability:\n",
    "        print \"{0:.4f}\".format(vReliability),variation\n",
    "        vReliabilities[variation]=vReliability\n",
    "vReliabilities"
   ]
  },
  {
   "cell_type": "code",
   "execution_count": 527,
   "metadata": {},
   "outputs": [],
   "source": [
    "def comparerPosition(p1,p2):\n",
    "    if p1==\".*\":\n",
    "        if p2==\".*\":\n",
    "            return \"=\"\n",
    "        else:\n",
    "            return \">\"\n",
    "    elif p2==\".*\":\n",
    "        return \"<\"\n",
    "    else:\n",
    "        union=set(p1)|set(p2)\n",
    "        if set(p1)==set(p2):\n",
    "            return \"=\"\n",
    "        elif set(p1)==union:\n",
    "            return \">\"\n",
    "        elif set(p2)==union:\n",
    "            return \"<\"\n",
    "        else:\n",
    "            return u\"≠\"\n",
    "\n",
    "def definirAlignement(patron):\n",
    "    longueur=len(patron)\n",
    "    jokers=(0,0)\n",
    "    if patron[0]==\".*\" and patron[-1]==\".*\":\n",
    "        print \"patron, .*(___).*, alignement global\"\n",
    "        longueur=len(patron)-2\n",
    "        jokers=(1,1)\n",
    "    elif patron[0]==\".*\":\n",
    "        print \"patron, .*(___), alignement à droite\"\n",
    "        longueur=len(patron)-1\n",
    "        jokers=(1,0)\n",
    "    elif patron[-1]==\".*\":\n",
    "        print \"patron, (___).*, alignement à gauche\"\n",
    "        longueur=len(patron)-1\n",
    "        jokers=(0,1)\n",
    "    return (longueur, jokers)\n",
    "\n",
    "def definirComparaison(comparaison):\n",
    "    if u\"≠\" in comparaison:\n",
    "        return u\"≠\"\n",
    "    elif all([e==\"=\" for e in comparaison]):\n",
    "        return u\"=\"\n",
    "    elif all([e==\"=\" or e==\"<\" for e in comparaison]):\n",
    "        return \"<\"\n",
    "    elif all([e==\"=\" or e==\">\" for e in comparaison]):\n",
    "        return \">\"\n",
    "    else:\n",
    "        return u\"≠\"\n",
    "\n",
    "def comparerPatrons(p1,p2):\n",
    "    if p1==p2: return \"=\"\n",
    "    (longueurP1,jokersP1)=definirAlignement(p1)   \n",
    "    (longueurP2,jokersP2)=definirAlignement(p2)\n",
    "    jokers=(jokersP1[0]+jokersP2[0],jokersP1[1]+jokersP2[1])\n",
    "    if len(p1)!=len(p2):\n",
    "        if len(p1)<len(p2):\n",
    "            if jokersP1==(1,0):\n",
    "                return comparerPatrons(p1,p2[len(p2)-len(p1):])\n",
    "            elif jokersP1==(0,1):\n",
    "                return comparerPatrons(p1,p2[:len(p2)-len(p1)+1])\n",
    "            elif jokersP1==(1,1):\n",
    "                print \"pas d'alignement\"\n",
    "                return u\"X\"\n",
    "        elif len(p2)<len(p1):\n",
    "            if jokersP2==(1,0):\n",
    "                return comparerPatrons(p1[len(p1)-len(p2):],p2)\n",
    "            elif jokersP2==(0,1):\n",
    "                return comparerPatrons(p1[:len(p1)-len(p2)+1],p2)\n",
    "            elif jokersP2==(1,1):\n",
    "                print \"pas d'alignement\"\n",
    "                return u\"X\"\n",
    "\n",
    "        else:\n",
    "            return None\n",
    "    else:\n",
    "        print jokers\n",
    "        comparaison12=[]\n",
    "        for l in range(len(p1)):\n",
    "            comparaison12.append(comparerPosition(p1[l],p2[l]))\n",
    "        print comparaison12\n",
    "        return definirComparaison(comparaison12)\n",
    "'''\n",
    "        if jokers==(2,2):\n",
    "            for \n",
    "            return u\"≠\"\n",
    "        elif jokers==(0,0):\n",
    "            comparaison12=[]\n",
    "            print longueurP1\n",
    "            for l in range(longueurP1):\n",
    "                comparaison12.append(comparerPosition(p1[l],p2[l]))\n",
    "            return definirComparaison(comparaison12)\n",
    "        elif jokers==(1,1)\n",
    "'''            \n",
    "    \n",
    "class ReliabilityLattice():\n",
    "    ''''''\n",
    "    def __init__(self):\n",
    "        self.lattice={}\n",
    "        \n",
    "    def addReliability(patron,reliability):\n",
    "        for element in self.lattice:\n",
    "            print element"
   ]
  },
  {
   "cell_type": "code",
   "execution_count": 530,
   "metadata": {},
   "outputs": [
    {
     "name": "stdout",
     "output_type": "stream",
     "text": [
      "patron, .*(___), alignement à droite\n",
      "(1, 0)\n",
      "['<', '<']\n",
      "<\n"
     ]
    }
   ],
   "source": [
    "print comparerPatrons([u\"ai\",u\"bdg\"],[\".*\",u\"bdgptk\"])"
   ]
  },
  {
   "cell_type": "code",
   "execution_count": 198,
   "metadata": {},
   "outputs": [
    {
     "name": "stdout",
     "output_type": "stream",
     "text": [
      "(u'-low', u'-nas')\n"
     ]
    }
   ],
   "source": [
    "setP1=u\"ptkbdgfsSvzZjlrwHiyEe926uOo\"\n",
    "#setP1=u\"jrwHiyEe926auOoêûâô\"\n",
    "P1= fs.lattice[setP1].extent\n",
    "print fs.lattice[setP1].intent"
   ]
  },
  {
   "cell_type": "code",
   "execution_count": 199,
   "metadata": {},
   "outputs": [
    {
     "name": "stdout",
     "output_type": "stream",
     "text": [
      "(u'+son', u'-ant', u'-cor', u'-lat', u'+cont', u'+voice')\n"
     ]
    }
   ],
   "source": [
    "setI1=\"\".join(overExtension[\"ms\"].str[-1].unique().tolist())\n",
    "I1= fs.lattice[setI1].extent\n",
    "print fs.lattice[setI1].intent"
   ]
  },
  {
   "cell_type": "code",
   "execution_count": 207,
   "metadata": {},
   "outputs": [
    {
     "name": "stdout",
     "output_type": "stream",
     "text": [
      "nbIntrudersTotal 14\n"
     ]
    }
   ],
   "source": [
    "intersect=\"\".join(list(set(P1) & set(I1)))\n",
    "intruders=\"\".join(list(fs.lattice[intersect].extent))\n",
    "nbIntrudersTotal=len(intruders)\n",
    "print \"nbIntrudersTotal\", nbIntrudersTotal"
   ]
  },
  {
   "cell_type": "code",
   "execution_count": 209,
   "metadata": {},
   "outputs": [
    {
     "name": "stdout",
     "output_type": "stream",
     "text": [
      "8 intruders\n",
      "(u'-low', u'-ATR', u'-nas')\n",
      "ptkbdgfsSvzZjlrwHE96O\n",
      "6 intruders\n",
      "(u'-low', u'-round', u'-nas')\n",
      "ptkbdgfsSvzZjlriEe6\n",
      "8 intruders\n",
      "(u'-back', u'-low', u'-nas')\n",
      "ptbdfsvzjlHiyEe92\n",
      "8 intruders\n",
      "(u'-high', u'-low', u'-nas')\n",
      "ptbdfsvzlrEe926Oo\n"
     ]
    }
   ],
   "source": [
    "lowerNeighbors=fs.lattice[setP1].lower_neighbors\n",
    "for neighbor in lowerNeighbors:\n",
    "    goodNeighbor=True\n",
    "    nbIntruders=0\n",
    "    for intruder in intruders:\n",
    "        if intruder in neighbor.extent:\n",
    "            goodNeighbor=False\n",
    "            nbIntruders+=1\n",
    "    if goodNeighbor:\n",
    "        print \"no intruders\"\n",
    "        print neighbor.intent\n",
    "        print \"\".join(neighbor.extent)            \n",
    "    elif nbIntruders<nbIntrudersTotal:\n",
    "        print \"%d intruders\"%nbIntruders\n",
    "        print neighbor.intent\n",
    "        print \"\".join(neighbor.extent)\n",
    "        "
   ]
  },
  {
   "cell_type": "code",
   "execution_count": 214,
   "metadata": {
    "collapsed": true
   },
   "outputs": [],
   "source": [
    "overLen=overExtension[\"ms\"].str.len().min()"
   ]
  },
  {
   "cell_type": "code",
   "execution_count": 215,
   "metadata": {},
   "outputs": [
    {
     "ename": "IndentationError",
     "evalue": "expected an indented block (<ipython-input-215-9541159eba54>, line 5)",
     "output_type": "error",
     "traceback": [
      "\u001b[0;36m  File \u001b[0;32m\"<ipython-input-215-9541159eba54>\"\u001b[0;36m, line \u001b[0;32m5\u001b[0m\n\u001b[0;31m    \u001b[0m\n\u001b[0m    ^\u001b[0m\n\u001b[0;31mIndentationError\u001b[0m\u001b[0;31m:\u001b[0m expected an indented block\n"
     ]
    }
   ],
   "source": [
    "def getPhonemes(position,dfCol):\n",
    "    setPosition=\"\".join(dfCol.str[-position].unique().tolist())\n",
    "\n",
    "def getIntruders():\n",
    "    "
   ]
  },
  {
   "cell_type": "code",
   "execution_count": 287,
   "metadata": {},
   "outputs": [
    {
     "data": {
      "text/plain": [
       "pandas.core.series.Series"
      ]
     },
     "execution_count": 287,
     "metadata": {},
     "output_type": "execute_result"
    }
   ],
   "source": [
    "type(pdMatch[\"ms\"])\n",
    "    "
   ]
  },
  {
   "cell_type": "code",
   "execution_count": 378,
   "metadata": {
    "collapsed": true
   },
   "outputs": [],
   "source": [
    "def dropParentheses(regex):\n",
    "    result=re.sub(ur\"\\((.*)\\)\",ur\"\\1\",regex)\n",
    "    if \"(\" in result or \")\" in result:\n",
    "        print \"pb de parenthèses\"\n",
    "    else:\n",
    "        return result\n",
    "\n",
    "def reliability(regex,dfPositives,dfTargets):\n",
    "    regex=dropParentheses(regex)\n",
    "    positives=dfPositives.dropna().reindex()\n",
    "    targets=dfTargets.dropna().reindex()\n",
    "    nbTargets=targets[targets.str.match(regex)].count()\n",
    "    nbPositives=positives[positives.str.match(regex)].count()\n",
    "    result=float(nbPositives)/nbTargets\n",
    "    if debug: print nbPositives,nbTargets,result\n",
    "    return result"
   ]
  },
  {
   "cell_type": "code",
   "execution_count": 314,
   "metadata": {},
   "outputs": [
    {
     "name": "stdout",
     "output_type": "stream",
     "text": [
      "353 904 0.390486725664\n"
     ]
    }
   ],
   "source": [
    "reliability(rePatron,pdMatch[\"ms\"],paradigmes[\"ms\"])"
   ]
  },
  {
   "cell_type": "code",
   "execution_count": 315,
   "metadata": {},
   "outputs": [
    {
     "name": "stdout",
     "output_type": "stream",
     "text": [
      "pb de parenthèses\n",
      "None\n"
     ]
    }
   ],
   "source": [
    "print dropParentheses(ur\"^(test[^a])[^)].*\")"
   ]
  }
 ],
 "metadata": {
  "kernelspec": {
   "display_name": "Python 2",
   "language": "python",
   "name": "python2"
  },
  "language_info": {
   "codemirror_mode": {
    "name": "ipython",
    "version": 2
   },
   "file_extension": ".py",
   "mimetype": "text/x-python",
   "name": "python",
   "nbconvert_exporter": "python",
   "pygments_lexer": "ipython2",
   "version": "2.7.11"
  }
 },
 "nbformat": 4,
 "nbformat_minor": 1
}
