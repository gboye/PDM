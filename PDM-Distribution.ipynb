{
 "metadata": {
  "name": "",
  "signature": "sha256:5aa7ea1c056ae9356456f95dba9609aacade78a7f51451709771a547e49e5c3d"
 },
 "nbformat": 3,
 "nbformat_minor": 0,
 "worksheets": [
  {
   "cells": [
    {
     "cell_type": "markdown",
     "metadata": {},
     "source": [
      "#G\u00e9n\u00e9ration de paradigme\n",
      "\u00c0 partir d'un remplissage de paradigme, calculer la g\u00e9n\u00e9ration suivante du remplissage"
     ]
    },
    {
     "cell_type": "markdown",
     "metadata": {},
     "source": [
      "##Donn\u00e9es\n",
      "\n",
      "- paradigme\n",
      "- r\u00e8gles"
     ]
    },
    {
     "cell_type": "code",
     "collapsed": false,
     "input": [
      "# inParadigme={\"inf\":[\"lave\"], \"prs3\":[], \"partpst\":[], \"imparf3\":[]}\n",
      "# inParadigme={'imparf3': ['lavE'], 'inf': [], 'partpst': ['lave'], 'prs3': ['lav']}\n",
      "inParadigme={'imparf3': [], 'inf': ['finir'], 'partpst': [], 'prs3': []}\n",
      "outParadigme={\"inf\":[], \"prs3\":[], \"partpst\":[], \"imparf3\":[]}\n",
      "regles={\"inf\":{\"prs3\":[(\"e\",\"\"),(\"ir\",\"i\")],\"partpst\":[(\"e\",\"e\"),(\"ir\",\"i\")],\"imparf3\":[(\"e\",\"E\"),(\"ir\",\"isE\")]}, \n",
      "        \"prs3\":{\"inf\":[(\"\",\"e\"),(\"i\",\"ir\")], \"partpst\":[(\"\",\"e\"),(\"i\",\"i\")], \"imparf3\":[(\"\",\"E\"),(\"i\",\"isE\")]},\n",
      "        \"partpst\":{\"inf\":[(\"e\",\"e\")],\"prs3\":[(\"e\",\"\")],\"imparf3\":[(\"e\",\"E\")]}, \n",
      "        \"imparf3\":{\"inf\":[(\"E\",\"e\")],\"prs3\":[(\"E\",\"\")],\"partpst\":[(\"E\",\"e\")]}, \n",
      "        }\n",
      "distributions={}"
     ],
     "language": "python",
     "metadata": {},
     "outputs": [],
     "prompt_number": 6
    },
    {
     "cell_type": "code",
     "collapsed": false,
     "input": [
      "def appliquerRegle(inForme,regle):\n",
      "    if len(regle[0])!=0 and inForme.endswith(regle[0]):\n",
      "        result=inForme[:-len(regle[0])]+regle[1]\n",
      "    elif inForme.endswith(regle[0]):\n",
      "        result=inForme+regle[1]\n",
      "    return result"
     ],
     "language": "python",
     "metadata": {},
     "outputs": [],
     "prompt_number": 7
    },
    {
     "cell_type": "code",
     "collapsed": false,
     "input": [
      "def genererParadigme(inParadigme):\n",
      "    def distribuerForme(inForme):\n",
      "        result=[]\n",
      "        for regle in regles[inCase][outCase]:\n",
      "            if inForme.endswith(regle[0]):\n",
      "                outForme=appliquerRegle(inForme,regle)\n",
      "                result.append(outForme)\n",
      "        return result\n",
      "    for inCase in inParadigme:\n",
      "        if inParadigme[inCase]:\n",
      "            autresCases=[i for i in inParadigme.keys() if i!=inCase]\n",
      "#            print autresCases\n",
      "            for outCase in autresCases:\n",
      "                if not outCase in distributions:\n",
      "                    distributions[outCase]={}\n",
      "                if not inCase in distributions[outCase]:\n",
      "                    distributions[outCase][inCase]={}\n",
      "                for forme in inParadigme[inCase]:\n",
      "                    distributions[outCase][inCase][forme]=distribuerForme(forme)\n",
      "#                print\n",
      "#        else:\n",
      "#            print \"no inForme\"\n",
      "#            print\n",
      "#    print distributions\n",
      "    for distribution in distributions:\n",
      "        outFormes=set()\n",
      "        for inCase in distributions[distribution]:\n",
      "#            print inCase,\n",
      "            for inForme in distributions[distribution][inCase]:\n",
      "#                print inForme,\n",
      "                for outForme in distributions[distribution][inCase][inForme]:\n",
      "#                    print outForme\n",
      "                    outFormes.add(outForme)\n",
      "        outParadigme[distribution]=list(outFormes)\n",
      "    return outParadigme"
     ],
     "language": "python",
     "metadata": {},
     "outputs": [],
     "prompt_number": 8
    },
    {
     "cell_type": "code",
     "collapsed": false,
     "input": [
      "print \"#\", inParadigme"
     ],
     "language": "python",
     "metadata": {},
     "outputs": [
      {
       "output_type": "stream",
       "stream": "stdout",
       "text": [
        "# {'prs3': [], 'inf': ['finir'], 'imparf3': [], 'partpst': []}\n"
       ]
      }
     ],
     "prompt_number": 9
    },
    {
     "cell_type": "code",
     "collapsed": false,
     "input": [
      "outParadigme=inParadigme\n",
      "for i in range(5):\n",
      "    genererParadigme(outParadigme)\n",
      "    print i, outParadigme\n",
      "    "
     ],
     "language": "python",
     "metadata": {},
     "outputs": [
      {
       "output_type": "stream",
       "stream": "stdout",
       "text": [
        "0 {'prs3': ['fini'], 'inf': ['finir'], 'imparf3': ['finisE'], 'partpst': ['fini']}\n",
        "1 {'prs3': ['fini', 'finis'], 'inf': ['finir', 'finie', 'finise'], 'imparf3': ['finiE', 'finisE'], 'partpst': ['fini', 'finie', 'finise']}\n",
        "2 {'prs3': ['fini', 'finis'], 'inf': ['finir', 'finie', 'finise'], 'imparf3': ['finiE', 'finisE'], 'partpst': ['fini', 'finie', 'finise']}\n",
        "3 {'prs3': ['fini', 'finis'], 'inf': ['finir', 'finie', 'finise'], 'imparf3': ['finiE', 'finisE'], 'partpst': ['fini', 'finie', 'finise']}\n",
        "4 {'prs3': ['fini', 'finis'], 'inf': ['finir', 'finie', 'finise'], 'imparf3': ['finiE', 'finisE'], 'partpst': ['fini', 'finie', 'finise']}\n"
       ]
      }
     ],
     "prompt_number": 10
    },
    {
     "cell_type": "code",
     "collapsed": false,
     "input": [],
     "language": "python",
     "metadata": {},
     "outputs": [],
     "prompt_number": 10
    }
   ],
   "metadata": {}
  }
 ]
}