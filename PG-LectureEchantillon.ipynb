{
 "cells": [
  {
   "cell_type": "markdown",
   "metadata": {},
   "source": [
    "# Lecture des échantillons \n"
   ]
  },
  {
   "cell_type": "code",
   "execution_count": 2,
   "metadata": {
    "collapsed": true
   },
   "outputs": [],
   "source": [
    "# -*- coding: utf8 -*-\n",
    "import pandas as pd\n",
    "import pickle, glob\n",
    "import itertools as it\n",
    "import networkx as nx"
   ]
  },
  {
   "cell_type": "code",
   "execution_count": 33,
   "metadata": {
    "collapsed": true
   },
   "outputs": [],
   "source": [
    "debug=False\n",
    "noDiff=False"
   ]
  },
  {
   "cell_type": "code",
   "execution_count": 4,
   "metadata": {
    "collapsed": false
   },
   "outputs": [
    {
     "name": "stdout",
     "output_type": "stream",
     "text": [
      "Populating the interactive namespace from numpy and matplotlib\n"
     ]
    }
   ],
   "source": [
    "pylab inline"
   ]
  },
  {
   "cell_type": "code",
   "execution_count": 5,
   "metadata": {
    "collapsed": false
   },
   "outputs": [],
   "source": [
    "def lireLexique(nomLexique):\n",
    "    with open(nomLexique, 'rb') as input:\n",
    "        lexique=pickle.load(input)\n",
    "    return lexique"
   ]
  },
  {
   "cell_type": "code",
   "execution_count": 6,
   "metadata": {
    "collapsed": true
   },
   "outputs": [],
   "source": [
    "listeTirages=glob.glob(\"/Users/gilles/Box Sync/2015-Data/*-Tirage.pkl\")\n",
    "listeVHF=[u\"être\",\"avoir\",\"faire\",\"dire\",\"pouvoir\",\"aller\",\"voir\",\"savoir\",\"vouloir\",\"venir\"]"
   ]
  },
  {
   "cell_type": "code",
   "execution_count": 7,
   "metadata": {
    "collapsed": true
   },
   "outputs": [],
   "source": [
    "coulMF=[\"orange\",\"brown\",\"yellow\",\"lime\",\n",
    "          \"green\",\"teal\",\"lightgray\",\"pink\",\"cyan\",\"magenta\"]\n",
    "coulMT=[\"blue\",\"darkgray\",\"purple\",\"red\",\"olive\",\"violet\"]\n",
    "couleurCase={\n",
    "    \"pi2S\":\"orange\",\"pi3S\":\"orange\",\n",
    "    \"ii1S\":\"brown\",\"ii2S\":\"brown\",\"ii3S\":\"brown\",\"ii3P\":\"brown\",\n",
    "    \"fi1S\":\"yellow\",\"fi2P\":\"yellow\",\n",
    "    \"pc1S\":\"yellow\",\"pc2S\":\"yellow\",\"pc3S\":\"yellow\",\"pc3P\":\"yellow\",\n",
    "    \"fi2S\":\"lime\",\"fi3S\":\"lime\",\n",
    "    \"fi1P\":\"green\",\"fi3P\":\"green\",\n",
    "    \"ps1S\":\"teal\",\"ps2S\":\"teal\",\"ps3S\":\"teal\",\"ps3P\":\"teal\",\n",
    "    \"ai2S\":\"lightgray\",\"ai3S\":\"lightgray\",\"is3S\":\"lightgray\",\n",
    "    \"is1S\":\"pink\",\"is2S\":\"pink\",\"is3P\":\"pink\",\n",
    "    \"ppMS\":\"cyan\",\"ppMP\":\"cyan\",\n",
    "    \"ppFS\":\"magenta\",\"ppFP\":\"magenta\"\n",
    "            }\n",
    "listLimites=[2,8,32,128,512]\n",
    "listLimCoul=[\"red\",\"pink\",\"orange\",\"green\",\"teal\",\"white\"]"
   ]
  },
  {
   "cell_type": "code",
   "execution_count": 8,
   "metadata": {
    "collapsed": false
   },
   "outputs": [],
   "source": [
    "def tiragesNom(nom):\n",
    "    result=[tirage for tirage in listeTirages if nom in tirage]\n",
    "    return result"
   ]
  },
  {
   "cell_type": "code",
   "execution_count": 9,
   "metadata": {
    "collapsed": false
   },
   "outputs": [],
   "source": [
    "def nbFormesEchantillons(nom):\n",
    "    print nom\n",
    "    for tirage in tiragesNom(nom):\n",
    "        sample=lireLexique(tirage)\n",
    "        print sample[sample[\"tir1\"]>0][\"tir1\"].count(),\n",
    "        print sample[sample[\"tir1\"]>0][\"tir1\"].sum(),\n",
    "        print tirage"
   ]
  },
  {
   "cell_type": "code",
   "execution_count": 10,
   "metadata": {
    "collapsed": false
   },
   "outputs": [],
   "source": [
    "listeTirages200=tiragesNom(\"200Mo\")\n",
    "listeTirages20=tiragesNom(\"20Mo\")\n",
    "#len(listeTirages200)\n",
    "listeTirages1=tiragesNom(\"1Mo\")\n",
    "listeTirages50k=tiragesNom(\"50Ko\")\n",
    "listeTirages100k=tiragesNom(\"100Ko\")\n"
   ]
  },
  {
   "cell_type": "markdown",
   "metadata": {
    "collapsed": false
   },
   "source": [
    "tailleLexique=[]\n",
    "nomLexique0=listeTirages200.pop(0)\n",
    "nomLexique0=listeTirages1.pop(0)\n",
    "lexique=lireLexique(nomLexique0)\n",
    "taille=lexique[lexique[\"tir1\"]>0][\"tir1\"].count()\n",
    "print taille, lexique[lexique[\"tir1\"]>0][\"tir1\"].sum()\n",
    "tailleLexique.append(taille)"
   ]
  },
  {
   "cell_type": "code",
   "execution_count": 11,
   "metadata": {
    "collapsed": true
   },
   "outputs": [],
   "source": [
    "def findFormNumbers(paradigme):\n",
    "    dictNumbers={}\n",
    "    cases=[c for c in paradigmes.columns.tolist() if c!=\"lexeme\"]\n",
    "    for case in cases:\n",
    "        dictNumbers[case]=paradigme[case].count()\n",
    "    return dictNumbers"
   ]
  },
  {
   "cell_type": "code",
   "execution_count": 12,
   "metadata": {
    "collapsed": false
   },
   "outputs": [],
   "source": [
    "def reduceTrad(el,traductions):\n",
    "    if traductions[el]==el:\n",
    "        return el\n",
    "    else:\n",
    "        return reduceTrad(traductions[el],traductions)\n",
    "    \n",
    "def defParadigme(paradigmes):\n",
    "    syncretisms=[]\n",
    "    cases=[c for c in paradigmes.columns.tolist() if c!=\"lexeme\"]\n",
    "    for (c1,c2) in it.combinations(cases, 2):\n",
    "        c1Val=paradigmes[c1].notnull()\n",
    "        c2Val=paradigmes[c2].notnull()\n",
    "        c1Sur=paradigmes[c1].str.contains(\",\")\n",
    "        c2Sur=paradigmes[c2].str.contains(\",\")\n",
    "        l1=len(paradigmes[paradigmes[c1].notnull()])\n",
    "        l2=len(paradigmes[paradigmes[c2].notnull()])\n",
    "        paire=paradigmes[c1Val & c2Val & (paradigmes[c1]!=paradigmes[c2])][[c1,c2]]\n",
    "        lenDiff=len(paire[~paire[c1].str.contains(\",\") & ~paire[c2].str.contains(\",\")])\n",
    "        if lenDiff>0:\n",
    "            if debug:\n",
    "                print u\"%s ≠ %s\"%(c1,c2)\n",
    "                print \"différence\",lenDiff\n",
    "                if lenDiff<12:\n",
    "                    print paire\n",
    "        else:\n",
    "            surAbondant=paire[paire[c1].str.contains(\",\") | paire[c2].str.contains(\",\")]\n",
    "#            print \"--------------------------------\"\n",
    "            if len(surAbondant)==0:\n",
    "#                print u\"%s = %s\"%(c1,c2) \n",
    "                syncretisms.append(u\"%s = %s\"%(c1,c2))\n",
    "            else:\n",
    "                compatible=True\n",
    "                for index,row in surAbondant.iterrows():\n",
    "                    if \",\" in row[c1]:\n",
    "                        if \",\" in row[c2]:\n",
    "                            if row[c1]!=row[c2]:\n",
    "                                compatible=False\n",
    "                        else:\n",
    "                            if not row[c2] in row[c1].split(\",\"):\n",
    "                                compatible=False\n",
    "                    else:\n",
    "                        if not row[c1] in row[c2].split(\",\"):\n",
    "                            compatible=False\n",
    "                if compatible:\n",
    "#                    print u\"%s = %s\"%(c1,c2)\n",
    "                    syncretisms.append(u\"%s = %s\"%(c1,c2))\n",
    "                else:\n",
    "                    print u\"%s ≠ %s\"%(c1,c2)\n",
    "                    print surAbondant\n",
    "\n",
    "    reductionParadigme={c:c for c in cases}\n",
    "    for syncretism in syncretisms:\n",
    "        c1,c2=syncretism.split(\" = \")\n",
    "        removeC=max(c1,c2)\n",
    "        keyC=min(c1,c2)\n",
    "        if removeC in reductionParadigme:\n",
    "            if keyC in reductionParadigme:\n",
    "                key=min(reductionParadigme[keyC],reductionParadigme[removeC])\n",
    "            else:\n",
    "                key=min(keyC,reductionParadigme[removeC])\n",
    "        else:\n",
    "            if keyC in reductionParadigme:\n",
    "                key=reductionParadigme[keyC]\n",
    "            else:\n",
    "                key=keyC\n",
    "        reductionParadigme[removeC]=key\n",
    "        reductionParadigme[keyC]=key\n",
    "\n",
    "    for el in reductionParadigme:\n",
    "        reductionParadigme[el]=reduceTrad(el,reductionParadigme)\n",
    "\n",
    "    paradigmeReduit = {}\n",
    "    for k, v in reductionParadigme.iteritems():\n",
    "        paradigmeReduit[v] = paradigmeReduit.get(v, [])\n",
    "        paradigmeReduit[v].append(k)\n",
    "    print \"syncrétismes\",len(paradigmeReduit), sorted(paradigmeReduit.keys())\n",
    "    print paradigmeReduit"
   ]
  },
  {
   "cell_type": "code",
   "execution_count": 13,
   "metadata": {
    "collapsed": true
   },
   "outputs": [],
   "source": [
    "def findClique(cliques):\n",
    "    pNodes=set()\n",
    "\n",
    "    sCliques=sorted(cliques, key=len, reverse=True)\n",
    "\n",
    "    cliqueFound=sorted(sCliques[0])\n",
    "    pNodes=pNodes|set(sCliques[0])\n",
    "\n",
    "    removeCliques=[]\n",
    "    for clique in sCliques:\n",
    "        sClique=set(clique)\n",
    "#        print \"sClique\",sClique\n",
    "        if set.intersection(pNodes,sClique):\n",
    "#            print \"intersection\",set.intersection(pNodes,sClique)\n",
    "            removeCliques.append(clique)\n",
    "    for clique in removeCliques:\n",
    "        sCliques.remove(clique)\n",
    "#    print pCliques\n",
    "#    print sCliques\n",
    "    return (cliqueFound,sCliques)"
   ]
  },
  {
   "cell_type": "code",
   "execution_count": 29,
   "metadata": {
    "collapsed": false
   },
   "outputs": [],
   "source": [
    "def findPartition(syncretismes):\n",
    "    g=nx.Graph()\n",
    "    for node in list(lexique[lexique[\"tir1\"]>0][\"case\"].unique()):\n",
    "        g.add_node(node)\n",
    "    for syncretisme in syncretismes:\n",
    "        c1,c2=syncretisme.split(\" = \")\n",
    "        g.add_edge(c1,c2)\n",
    "    cliques.extend(list(nx.find_cliques(g)))\n",
    "    sCliques=sorted(cliques, key=len, reverse=True)\n",
    "    foundCliques=[]\n",
    "    while sCliques:\n",
    "        foundClique,sCliques=findClique(sCliques)\n",
    "        foundCliques.append(foundClique)\n",
    "    foundNodes=set(n for l in foundCliques for n in l )\n",
    "    missingNodes=[[n] for n in g.nodes() if not n in foundNodes]\n",
    "    partition=foundCliques+missingNodes\n",
    "    dictPartition={l[0]:l for l in partition}\n",
    "    return dictPartition"
   ]
  },
  {
   "cell_type": "code",
   "execution_count": 15,
   "metadata": {
    "collapsed": false
   },
   "outputs": [],
   "source": [
    "def drawPartition(dictPartition):\n",
    "    g=nx.DiGraph()\n",
    "    g.add_node(\"paradigme\",color=\"red\")\n",
    "    for numMorphome,morphome in enumerate(dictPartition):\n",
    "        g.add_node(\"M%02d\"%numMorphome,color=\"blue\")\n",
    "        g.add_edge(\"paradigme\",\"M%02d\"%numMorphome)\n",
    "        for case in dictPartition[morphome]:\n",
    "            g.add_edge(\"M%02d\"%numMorphome,case)\n",
    "    graphs.append(g)"
   ]
  },
  {
   "cell_type": "code",
   "execution_count": 16,
   "metadata": {
    "collapsed": false
   },
   "outputs": [],
   "source": [
    "def findColours(dictPartition,debug=False):\n",
    "    def assignColour(listMorphome,morphColour):\n",
    "        for m in listMorphome:\n",
    "            if not m in dictColours:\n",
    "                dictColours[m]=morphColour\n",
    "            else:\n",
    "                print \"conflit sur %s entre %s et %s\"%(m,dictColours[m],morphColour)\n",
    "\n",
    "    dictColours={}\n",
    "    iCoul=0\n",
    "    for morphome in dictPartition:\n",
    "        listMorphome=dictPartition[morphome]\n",
    "        lenMorphome=len(listMorphome)\n",
    "        if lenMorphome>1:\n",
    "            if debug: print lenMorphome,listMorphome,\n",
    "            if morphome in couleurCase:\n",
    "                if debug: print couleurCase[morphome]\n",
    "                morphColour=couleurCase[morphome]\n",
    "            else:\n",
    "                noCoul=True\n",
    "                for el in listMorphome:\n",
    "                    if el in couleurCase:\n",
    "                        if debug: print couleurCase[el]\n",
    "                        morphColour=couleurCase[el]\n",
    "                        noCoul=False\n",
    "                        break\n",
    "                if noCoul:\n",
    "                    if debug: print \"autre\",coulMT[iCoul]\n",
    "                    morphColour=coulMT[iCoul]\n",
    "                    iCoul+=1\n",
    "        else:\n",
    "            morphColour=\"white\"\n",
    "        assignColour(listMorphome,morphColour)\n",
    "    return dictColours"
   ]
  },
  {
   "cell_type": "code",
   "execution_count": 17,
   "metadata": {
    "collapsed": true
   },
   "outputs": [],
   "source": [
    "def makeTabular(dictColours,title=\"\",coulLim=False):\n",
    "    tabular=[]\n",
    "    def makeLine6(tenseCode):\n",
    "        line=[]\n",
    "        for person in [per+nb for nb in [\"S\",\"P\"] for per in [\"1\",\"2\",\"3\"]]:\n",
    "            case=tenseCode+person\n",
    "            if case in dictColours:\n",
    "                line.append(r\"\\cellcolor{%s}%s\"%(dictColours[case],case))\n",
    "            else:\n",
    "                line.append(r\"\\cellcolor{%s}%s\"%(\"black\",case))\n",
    "        return r\" & \".join(line)+r\"\\\\\"\n",
    "\n",
    "    def makeLine3(tenseCode):\n",
    "        line=[]\n",
    "        for person in [per+nb for nb in [\"S\",\"P\"] for per in [\"1\",\"2\",\"3\"]]:\n",
    "            if person in [\"2S\",\"1P\",\"2P\"]:\n",
    "                case=tenseCode+person\n",
    "                line.append(r\"\\cellcolor{%s}%s\"%(dictColours[case],case))\n",
    "            else:\n",
    "                line.append(r\"---\")\n",
    "        return r\" & \".join(line)+r\"\\\\\"\n",
    "    \n",
    "    def makeLineNF():\n",
    "        line=[]\n",
    "        for case in [\"inf\",\"pP\",\"ppMS\",\"ppMP\",\"ppFS\",\"ppFP\"]:\n",
    "            line.append(r\"\\cellcolor{%s}%s\"%(dictColours[case],case))\n",
    "        return r\" & \".join(line)+r\"\\\\\"\n",
    "    \n",
    "    def makeLineCoulLim():\n",
    "        line=[]\n",
    "        for numLimite,limite in enumerate(listLimites):\n",
    "            line.append(r\"\\hline\")\n",
    "            line.append(r\"\\hline\")\n",
    "            line.append(r\"\\cellcolor{%s}%s\"%(listLimCoul[numLimite],\"$<$\"+str(limite)))\n",
    "        return r\" & \".join(line)+r\"\\\\\"\n",
    "        \n",
    "    top=[\n",
    "        r\"\\begin{center}\",\n",
    "        r\"\\begin{tabular}{cccccc}\",\n",
    "        r\"\\hline\"\n",
    "        ]\n",
    "    bottom=[\n",
    "        r\"\\hline\",\n",
    "        r\"\\end{tabular}\\\\\",\n",
    "        title,\n",
    "        r\"\\end{center}\",\n",
    "        r\"\\bigskip\",\n",
    "        r\"\"\n",
    "        ]\n",
    "    tabular.append(\"\\n\".join(top))\n",
    "    for tenseCode in [\"pi\",\"ii\",\"fi\",\"pc\", \"ps\",\"ai\", \"is\"]:\n",
    "        tabular.append(makeLine6(tenseCode))\n",
    "    tabular.append(makeLine3(\"pI\"))\n",
    "    tabular.append(makeLineNF())\n",
    "    if coulLim:\n",
    "        tabular.append(makeLineCoulLim())\n",
    "    tabular.append(\"\\n\".join(bottom))\n",
    "    print \"\\n\".join(tabular)"
   ]
  },
  {
   "cell_type": "code",
   "execution_count": 23,
   "metadata": {
    "collapsed": false
   },
   "outputs": [],
   "source": [
    "def defParadigme(paradigmes,debug=False):\n",
    "#    syncretisms=[]\n",
    "\n",
    "    cases=[c for c in paradigmes.columns.tolist() if c!=\"lexeme\"]\n",
    "    if debug: print \"%d cases :\"%len(cases),\", \".join(cases)\n",
    "    for (c1,c2) in it.combinations(cases, 2):\n",
    "        c1Val=paradigmes[c1].notnull()\n",
    "        c2Val=paradigmes[c2].notnull()\n",
    "        c1Sur=paradigmes[c1].str.contains(\",\")\n",
    "        c2Sur=paradigmes[c2].str.contains(\",\")\n",
    "        l1=len(paradigmes[paradigmes[c1].notnull()])\n",
    "        l2=len(paradigmes[paradigmes[c2].notnull()])\n",
    "        egalPaire=paradigmes[c1Val & c2Val & (paradigmes[c1]==paradigmes[c2])][[c1,c2]]\n",
    "        diffPaire=paradigmes[c1Val & c2Val & (paradigmes[c1]!=paradigmes[c2])][[c1,c2]]\n",
    "        lenDiff=len(diffPaire[~diffPaire[c1].str.contains(\",\") & ~diffPaire[c2].str.contains(\",\")])\n",
    "        if lenDiff>0:\n",
    "            if debug:\n",
    "                print u\"%s ≠ %s\"%(c1,c2)\n",
    "                print \"différence\",lenDiff\n",
    "                if lenDiff<12:\n",
    "                    print diffPaire\n",
    "        else:\n",
    "            surAbondant=diffPaire[diffPaire[c1].str.contains(\",\") | diffPaire[c2].str.contains(\",\")]\n",
    "#            print \"--------------------------------\"\n",
    "#            print surAbondant\n",
    "            if len(surAbondant)==0:\n",
    "                if len(egalPaire)>0 or noDiff:\n",
    "                    if debug: print u\"%s = %s\"%(c1,c2), len(egalPaire)\n",
    "                    syncretisms.append(u\"%s = %s\"%(c1,c2))\n",
    "            else:\n",
    "                compatible=True\n",
    "                egalCount=0\n",
    "                for index,row in surAbondant.iterrows():\n",
    "#                    print index,row[c1],row[c2]\n",
    "                    if \",\" in row[c1]:\n",
    "                        if \",\" in row[c2]:\n",
    "                            setC1=set(row[c1].split(\",\"))\n",
    "                            setC2=set(row[c2].split(\",\"))\n",
    "                            print setC1&setC2\n",
    "                            if not setC1&setC2:\n",
    "                                compatible=False\n",
    "                            else:\n",
    "                                egalCount+=1\n",
    "                        else:\n",
    "                            if not row[c2] in row[c1].split(\",\"):\n",
    "                                compatible=False\n",
    "                            else:\n",
    "                                egalCount+=1\n",
    "                    else:\n",
    "                        if not row[c1] in row[c2].split(\",\"):\n",
    "                            compatible=False\n",
    "                        else:\n",
    "                            egalCount+=1\n",
    "                if compatible:\n",
    "                    if debug: print u\"%s = %s\"%(c1,c2), len(egalPaire), egalCount\n",
    "                    syncretisms.append(u\"%s = %s\"%(c1,c2))\n",
    "                else:\n",
    "                    if debug: print u\"%s ≠ %s\"%(c1,c2)\n",
    "                    if debug: print surAbondant\n",
    "    dictPartition=findPartition(syncretisms)\n",
    "    itemizeLines.append(\"%d morphomes\"%len(dictPartition))\n",
    "    for key in sorted(dictPartition):\n",
    "        if debug: print \"%s: %s,\" % (key, dictPartition[key]),\n",
    "    if debug: print\n",
    "    drawPartition(dictPartition)\n",
    "    return(dictPartition)\n",
    "    "
   ]
  },
  {
   "cell_type": "raw",
   "metadata": {
    "collapsed": false
   },
   "source": [
    "def pivotLexique(lexique,debug=False):\n",
    "    paradigmes=pd.pivot_table(lexique[lexique[\"tir1\"]>0], values='phono', index=['lexeme'], columns=['case'], aggfunc=lambda x: \",\".join(x)).reset_index().reindex()\n",
    "    return defParadigme(paradigmes,debug)"
   ]
  },
  {
   "cell_type": "code",
   "execution_count": 19,
   "metadata": {
    "collapsed": true
   },
   "outputs": [],
   "source": [
    "def makeItemize(itemizeLines):\n",
    "    lines=[]\n",
    "    lines.append(r\"\\begin{itemize}\")\n",
    "    for line in itemizeLines:\n",
    "        lines.append(r\"\\item \"+line)\n",
    "    lines.append(r\"\\end{itemize}\")\n",
    "    return \"\\n\".join(lines)"
   ]
  },
  {
   "cell_type": "code",
   "execution_count": 20,
   "metadata": {
    "collapsed": true
   },
   "outputs": [],
   "source": [
    "def findNumberColour(dictNumbers):\n",
    "    result={}\n",
    "    for case in dictNumbers:\n",
    "        if dictNumbers[case]<listLimites[0]:\n",
    "            result[case]=listLimCoul[0]\n",
    "        elif dictNumbers[case]<listLimites[1]:\n",
    "            result[case]=listLimCoul[1]\n",
    "        elif dictNumbers[case]<listLimites[2]:\n",
    "            result[case]=listLimCoul[2]\n",
    "        elif dictNumbers[case]<listLimites[3]:\n",
    "            result[case]=listLimCoul[3]\n",
    "        elif dictNumbers[case]<listLimites[4]:\n",
    "            result[case]=listLimCoul[4]\n",
    "        else:\n",
    "            result[case]=listLimCoul[5]\n",
    "    return result"
   ]
  },
  {
   "cell_type": "code",
   "execution_count": 34,
   "metadata": {
    "collapsed": false,
    "scrolled": true
   },
   "outputs": [
    {
     "name": "stdout",
     "output_type": "stream",
     "text": [
      "MGC-170330-00-100Ko-Tirage.pkl\n",
      "\\begin{itemize}\n",
      "\\item 2444 formes\n",
      "\\item 5000 tirages\n",
      "\\item 29 morphomes\n",
      "\\end{itemize}\n",
      "\\begin{center}\n",
      "\\begin{tabular}{cccccc}\n",
      "\\hline\n",
      "\\cellcolor{white}pi1S & \\cellcolor{orange}pi2S & \\cellcolor{orange}pi3S & \\cellcolor{blue}pi1P & \\cellcolor{white}pi2P & \\cellcolor{white}pi3P\\\\\n",
      "\\cellcolor{brown}ii1S & \\cellcolor{brown}ii2S & \\cellcolor{brown}ii3S & \\cellcolor{white}ii1P & \\cellcolor{white}ii2P & \\cellcolor{brown}ii3P\\\\\n",
      "\\cellcolor{yellow}fi1S & \\cellcolor{lime}fi2S & \\cellcolor{lime}fi3S & \\cellcolor{white}fi1P & \\cellcolor{white}fi2P & \\cellcolor{white}fi3P\\\\\n",
      "\\cellcolor{yellow}pc1S & \\cellcolor{yellow}pc2S & \\cellcolor{yellow}pc3S & \\cellcolor{white}pc1P & \\cellcolor{white}pc2P & \\cellcolor{yellow}pc3P\\\\\n",
      "\\cellcolor{teal}ps1S & \\cellcolor{teal}ps2S & \\cellcolor{teal}ps3S & \\cellcolor{white}ps1P & \\cellcolor{white}ps2P & \\cellcolor{teal}ps3P\\\\\n",
      "\\cellcolor{white}ai1S & \\cellcolor{lightgray}ai2S & \\cellcolor{lightgray}ai3S & \\cellcolor{white}ai1P & \\cellcolor{black}ai2P & \\cellcolor{white}ai3P\\\\\n",
      "\\cellcolor{black}is1S & \\cellcolor{black}is2S & \\cellcolor{white}is3S & \\cellcolor{black}is1P & \\cellcolor{black}is2P & \\cellcolor{black}is3P\\\\\n",
      "--- & \\cellcolor{white}pI2S & --- & \\cellcolor{blue}pI1P & \\cellcolor{white}pI2P & ---\\\\\n",
      "\\cellcolor{white}inf & \\cellcolor{white}pP & \\cellcolor{cyan}ppMS & \\cellcolor{cyan}ppMP & \\cellcolor{magenta}ppFS & \\cellcolor{magenta}ppFP\\\\\n",
      "\\hline\n",
      "\\end{tabular}\\\\\n",
      "Morphomes\n",
      "\\end{center}\n",
      "\\bigskip\n",
      "\n",
      "\\begin{center}\n",
      "\\begin{tabular}{cccccc}\n",
      "\\hline\n",
      "\\cellcolor{teal}pi1S & \\cellcolor{green}pi2S & \\cellcolor{teal}pi3S & \\cellcolor{orange}pi1P & \\cellcolor{green}pi2P & \\cellcolor{green}pi3P\\\\\n",
      "\\cellcolor{green}ii1S & \\cellcolor{green}ii2S & \\cellcolor{teal}ii3S & \\cellcolor{orange}ii1P & \\cellcolor{pink}ii2P & \\cellcolor{green}ii3P\\\\\n",
      "\\cellcolor{orange}fi1S & \\cellcolor{orange}fi2S & \\cellcolor{green}fi3S & \\cellcolor{pink}fi1P & \\cellcolor{orange}fi2P & \\cellcolor{orange}fi3P\\\\\n",
      "\\cellcolor{orange}pc1S & \\cellcolor{orange}pc2S & \\cellcolor{orange}pc3S & \\cellcolor{pink}pc1P & \\cellcolor{pink}pc2P & \\cellcolor{orange}pc3P\\\\\n",
      "\\cellcolor{green}ps1S & \\cellcolor{orange}ps2S & \\cellcolor{green}ps3S & \\cellcolor{red}ps1P & \\cellcolor{pink}ps2P & \\cellcolor{orange}ps3P\\\\\n",
      "\\cellcolor{orange}ai1S & \\cellcolor{pink}ai2S & \\cellcolor{green}ai3S & \\cellcolor{pink}ai1P & \\cellcolor{black}ai2P & \\cellcolor{orange}ai3P\\\\\n",
      "\\cellcolor{black}is1S & \\cellcolor{black}is2S & \\cellcolor{pink}is3S & \\cellcolor{black}is1P & \\cellcolor{black}is2P & \\cellcolor{black}is3P\\\\\n",
      "--- & \\cellcolor{teal}pI2S & --- & \\cellcolor{orange}pI1P & \\cellcolor{green}pI2P & ---\\\\\n",
      "\\cellcolor{teal}inf & \\cellcolor{green}pP & \\cellcolor{teal}ppMS & \\cellcolor{green}ppMP & \\cellcolor{green}ppFS & \\cellcolor{orange}ppFP\\\\\n",
      "\\hline & \\hline & \\cellcolor{red}$<$2 & \\hline & \\hline & \\cellcolor{pink}$<$8 & \\hline & \\hline & \\cellcolor{orange}$<$32 & \\hline & \\hline & \\cellcolor{green}$<$128 & \\hline & \\hline & \\cellcolor{teal}$<$512\\\\\n",
      "\\hline\n",
      "\\end{tabular}\\\\\n",
      "Nombre de formes\n",
      "\\end{center}\n",
      "\\bigskip\n",
      "\n"
     ]
    }
   ],
   "source": [
    "graphs=[]\n",
    "for nomLexique in sorted(listeTirages100k)[0:1]:\n",
    "    lexique=lireLexique(nomLexique)\n",
    "    taille=lexique[lexique[\"tir1\"]>0][\"tir1\"].count()\n",
    "    itemizeLines=[]\n",
    "    print (nomLexique.split(\"/\")[-1])\n",
    "    itemizeLines.append(\"%d formes\"%taille)\n",
    "    itemizeLines.append(\"%d tirages\"%lexique[lexique[\"tir1\"]>0][\"tir1\"].sum())\n",
    "    paradigmes=pd.pivot_table(lexique[lexique[\"tir1\"]>0], values='phono', index=['lexeme'], columns=['case'], aggfunc=lambda x: \",\".join(x)).reset_index().reindex()\n",
    "    dictNumbers=findFormNumbers(paradigmes)\n",
    "    dictFormNumbers=findNumberColour(dictNumbers)\n",
    "\n",
    "    syncretisms=[]\n",
    "    cliques=[]\n",
    "\n",
    "    dictPartition=defParadigme(paradigmes)\n",
    "    dictColours=findColours(dictPartition)\n",
    "    print makeItemize(itemizeLines)\n",
    "    makeTabular(dictColours,title=\"Morphomes\")\n",
    "    makeTabular(dictFormNumbers,title=\"Nombre de formes\",coulLim=True)"
   ]
  },
  {
   "cell_type": "raw",
   "metadata": {
    "collapsed": false
   },
   "source": [
    "try:\n",
    "    import pygraphviz\n",
    "    from networkx.drawing.nx_agraph import write_dot\n",
    "    print(\"using package pygraphviz\")\n",
    "except ImportError:\n",
    "    try:\n",
    "        import pydotplus\n",
    "        from networkx.drawing.nx_pydot import write_dot\n",
    "        print(\"using package pydotplus\")\n",
    "    except ImportError:\n",
    "        print()\n",
    "        print(\"Both pygraphviz and pydotplus were not found \")\n",
    "        print(\"see http://networkx.github.io/documentation\"\n",
    "              \"/latest/reference/drawing.html for info\")\n",
    "        print()\n",
    "        raise\n"
   ]
  },
  {
   "cell_type": "raw",
   "metadata": {
    "collapsed": false
   },
   "source": [
    "G=graphs[0]\n",
    "#pos = \n",
    "#nx.draw(G,pos=nx.layout.fruchterman_reingold_layout(G,scale=20))\n",
    "for numG,G in enumerate(graphs):\n",
    "    write_dot(G,\"test%02d.dot\"%numG)"
   ]
  },
  {
   "cell_type": "code",
   "execution_count": 26,
   "metadata": {
    "collapsed": false
   },
   "outputs": [
    {
     "data": {
      "text/plain": [
       "{u'ai1P': [u'ai1P', u'fi1P', u'ii2P'],\n",
       " u'ai1S': [u'ai1S'],\n",
       " u'ai2S': [u'ai2S', u'fi2P'],\n",
       " u'ai3P': [u'ai3P'],\n",
       " u'ai3S': [u'ai3S'],\n",
       " u'fi1S': [u'fi1S', u'pc1S', u'pc2S', u'pc3P', u'pc3S', u'ps1P'],\n",
       " u'fi2S': [u'fi2S'],\n",
       " u'fi3P': [u'fi3P'],\n",
       " u'fi3S': [u'fi3S'],\n",
       " u'ii1P': [u'ii1P', u'is3S', u'ppFP'],\n",
       " u'ii1S': [u'ii1S', u'ii2S', u'ii3P', u'ii3S'],\n",
       " u'inf': [u'inf'],\n",
       " u'pI1P': [u'pI1P'],\n",
       " u'pI2P': [u'pI2P'],\n",
       " u'pI2S': [u'pI2S'],\n",
       " u'pP': [u'pP'],\n",
       " u'pc1P': [u'pc1P'],\n",
       " u'pc2P': [u'pc2P'],\n",
       " u'pi1P': [u'pi1P'],\n",
       " u'pi1S': [u'pi1S'],\n",
       " u'pi2P': [u'pi2P'],\n",
       " u'pi2S': [u'pi2S'],\n",
       " u'pi3P': [u'pi3P'],\n",
       " u'pi3S': [u'pi3S'],\n",
       " u'ppFS': [u'ppFS'],\n",
       " u'ppMP': [u'ppMP'],\n",
       " u'ppMS': [u'ppMS'],\n",
       " u'ps1S': [u'ps1S', u'ps2S', u'ps3P', u'ps3S'],\n",
       " u'ps2P': [u'ps2P']}"
      ]
     },
     "execution_count": 26,
     "metadata": {},
     "output_type": "execute_result"
    }
   ],
   "source": [
    "dictPartition"
   ]
  },
  {
   "cell_type": "code",
   "execution_count": 35,
   "metadata": {
    "collapsed": false
   },
   "outputs": [
    {
     "data": {
      "text/plain": [
       "[[u'ii1P'],\n",
       " [u'pP'],\n",
       " [u'inf'],\n",
       " [u'ai3P'],\n",
       " [u'ai1P'],\n",
       " [u'pi2P'],\n",
       " [u'ps1P'],\n",
       " [u'pI2S'],\n",
       " [u'fi2P'],\n",
       " [u'pI2P'],\n",
       " [u'ps2P'],\n",
       " [u'pc2P'],\n",
       " [u'ii2P'],\n",
       " [u'pi1S'],\n",
       " [u'pc1P'],\n",
       " [u'fi3P'],\n",
       " [u'fi1P'],\n",
       " [u'ai3S', u'ai2S'],\n",
       " [u'ai3S', u'is3S'],\n",
       " [u'ps3P', u'pi3P'],\n",
       " [u'pi2S', u'pi3S'],\n",
       " [u'ai1S', u'ai2S'],\n",
       " [u'ppFS', u'ppFP'],\n",
       " [u'ppFP', u'ppMP'],\n",
       " [u'fi2S', u'fi3S'],\n",
       " [u'ai2S', u'ppMP'],\n",
       " [u'pi1P', u'pI1P'],\n",
       " [u'ppMS', u'ppMP'],\n",
       " [u'ii1S', u'ii3S', u'ii3P', u'ii2S'],\n",
       " [u'ps3P', u'ps3S', u'ps2S', u'ps1S'],\n",
       " [u'pc2S', u'pc3S', u'pc3P', u'fi1S', u'pc1S']]"
      ]
     },
     "execution_count": 35,
     "metadata": {},
     "output_type": "execute_result"
    }
   ],
   "source": [
    "sorted(cliques,key=len)"
   ]
  },
  {
   "cell_type": "code",
   "execution_count": null,
   "metadata": {
    "collapsed": true
   },
   "outputs": [],
   "source": []
  }
 ],
 "metadata": {
  "kernelspec": {
   "display_name": "Python 2",
   "language": "python",
   "name": "python2"
  },
  "language_info": {
   "codemirror_mode": {
    "name": "ipython",
    "version": 2
   },
   "file_extension": ".py",
   "mimetype": "text/x-python",
   "name": "python",
   "nbconvert_exporter": "python",
   "pygments_lexer": "ipython2",
   "version": "2.7.11"
  }
 },
 "nbformat": 4,
 "nbformat_minor": 0
}
