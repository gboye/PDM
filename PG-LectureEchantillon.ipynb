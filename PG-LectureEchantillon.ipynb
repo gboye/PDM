{
 "cells": [
  {
   "cell_type": "markdown",
   "metadata": {},
   "source": [
    "# Lecture des échantillons \n"
   ]
  },
  {
   "cell_type": "code",
   "execution_count": 11,
   "metadata": {
    "collapsed": true
   },
   "outputs": [],
   "source": [
    "# -*- coding: utf8 -*-\n",
    "import pandas as pd\n",
    "import pickle, glob\n",
    "import itertools as it"
   ]
  },
  {
   "cell_type": "code",
   "execution_count": 12,
   "metadata": {
    "collapsed": true
   },
   "outputs": [],
   "source": [
    "debug=False"
   ]
  },
  {
   "cell_type": "code",
   "execution_count": 13,
   "metadata": {
    "collapsed": false
   },
   "outputs": [],
   "source": [
    "def lireLexique(nomLexique):\n",
    "    with open(nomLexique, 'rb') as input:\n",
    "        lexique=pickle.load(input)\n",
    "    return lexique"
   ]
  },
  {
   "cell_type": "code",
   "execution_count": 14,
   "metadata": {
    "collapsed": true
   },
   "outputs": [],
   "source": [
    "listeTirages=glob.glob(\"/Users/gilles/Box Sync/2015-Data/*-Tirage.pkl\")\n",
    "listeVHF=[u\"être\",\"avoir\",\"faire\",\"dire\",\"pouvoir\",\"aller\",\"voir\",\"savoir\",\"vouloir\",\"venir\"]"
   ]
  },
  {
   "cell_type": "code",
   "execution_count": 15,
   "metadata": {
    "collapsed": false
   },
   "outputs": [],
   "source": [
    "def tiragesNom(nom):\n",
    "    result=[tirage for tirage in listeTirages if nom in tirage]\n",
    "    return result"
   ]
  },
  {
   "cell_type": "code",
   "execution_count": 16,
   "metadata": {
    "collapsed": false
   },
   "outputs": [],
   "source": [
    "def nbFormesEchantillons(nom):\n",
    "    print nom\n",
    "    for tirage in tiragesNom(nom):\n",
    "        sample=lireLexique(tirage)\n",
    "        print sample[sample[\"tir1\"]>0][\"tir1\"].count(),\n",
    "        print sample[sample[\"tir1\"]>0][\"tir1\"].sum(),\n",
    "        print tirage"
   ]
  },
  {
   "cell_type": "code",
   "execution_count": 17,
   "metadata": {
    "collapsed": false
   },
   "outputs": [],
   "source": [
    "listeTirages200=tiragesNom(\"200Mo\")\n",
    "listeTirages20=tiragesNom(\"20Mo\")\n",
    "#len(listeTirages200)\n",
    "listeTirages1=tiragesNom(\"1Mo\")\n",
    "listeTirages50k=tiragesNom(\"50Ko\")\n",
    "listeTirages100k=tiragesNom(\"100Ko\")\n"
   ]
  },
  {
   "cell_type": "markdown",
   "metadata": {
    "collapsed": false
   },
   "source": [
    "tailleLexique=[]\n",
    "nomLexique0=listeTirages200.pop(0)\n",
    "nomLexique0=listeTirages1.pop(0)\n",
    "lexique=lireLexique(nomLexique0)\n",
    "taille=lexique[lexique[\"tir1\"]>0][\"tir1\"].count()\n",
    "print taille, lexique[lexique[\"tir1\"]>0][\"tir1\"].sum()\n",
    "tailleLexique.append(taille)"
   ]
  },
  {
   "cell_type": "code",
   "execution_count": 24,
   "metadata": {
    "collapsed": false
   },
   "outputs": [],
   "source": [
    "def reduceTrad(el,traductions):\n",
    "    if traductions[el]==el:\n",
    "        return el\n",
    "    else:\n",
    "        return reduceTrad(traductions[el],traductions)\n",
    "    \n",
    "def defParadigme(paradigmes):\n",
    "    syncretisms=[]\n",
    "    cases=[c for c in paradigmes.columns.tolist() if c!=\"lexeme\"]\n",
    "    for (c1,c2) in it.combinations(cases, 2):\n",
    "        c1Val=paradigmes[c1].notnull()\n",
    "        c2Val=paradigmes[c2].notnull()\n",
    "        c1Sur=paradigmes[c1].str.contains(\",\")\n",
    "        c2Sur=paradigmes[c2].str.contains(\",\")\n",
    "        l1=len(paradigmes[paradigmes[c1].notnull()])\n",
    "        l2=len(paradigmes[paradigmes[c2].notnull()])\n",
    "        paire=paradigmes[c1Val & c2Val & (paradigmes[c1]!=paradigmes[c2])][[c1,c2]]\n",
    "        lenDiff=len(paire[~paire[c1].str.contains(\",\") & ~paire[c2].str.contains(\",\")])\n",
    "        if lenDiff>0:\n",
    "            if debug:\n",
    "                print u\"%s ≠ %s\"%(c1,c2)\n",
    "                print \"différence\",lenDiff\n",
    "                if lenDiff<12:\n",
    "                    print paire\n",
    "        else:\n",
    "            surAbondant=paire[paire[c1].str.contains(\",\") | paire[c2].str.contains(\",\")]\n",
    "#            print \"--------------------------------\"\n",
    "            if len(surAbondant)==0:\n",
    "#                print u\"%s = %s\"%(c1,c2) \n",
    "                syncretisms.append(u\"%s = %s\"%(c1,c2))\n",
    "            else:\n",
    "                compatible=True\n",
    "                for index,row in surAbondant.iterrows():\n",
    "                    if \",\" in row[c1]:\n",
    "                        if \",\" in row[c2]:\n",
    "                            if row[c1]!=row[c2]:\n",
    "                                compatible=False\n",
    "                        else:\n",
    "                            if not row[c2] in row[c1].split(\",\"):\n",
    "                                compatible=False\n",
    "                    else:\n",
    "                        if not row[c1] in row[c2].split(\",\"):\n",
    "                            compatible=False\n",
    "                if compatible:\n",
    "#                    print u\"%s = %s\"%(c1,c2)\n",
    "                    syncretisms.append(u\"%s = %s\"%(c1,c2))\n",
    "                else:\n",
    "                    print u\"%s ≠ %s\"%(c1,c2)\n",
    "                    print surAbondant\n",
    "\n",
    "    reductionParadigme={c:c for c in cases}\n",
    "    for syncretism in syncretisms:\n",
    "        c1,c2=syncretism.split(\" = \")\n",
    "        removeC=max(c1,c2)\n",
    "        keyC=min(c1,c2)\n",
    "        if removeC in reductionParadigme:\n",
    "            if keyC in reductionParadigme:\n",
    "                key=min(reductionParadigme[keyC],reductionParadigme[removeC])\n",
    "            else:\n",
    "                key=min(keyC,reductionParadigme[removeC])\n",
    "        else:\n",
    "            if keyC in reductionParadigme:\n",
    "                key=reductionParadigme[keyC]\n",
    "            else:\n",
    "                key=keyC\n",
    "        reductionParadigme[removeC]=key\n",
    "        reductionParadigme[keyC]=key\n",
    "\n",
    "    for el in reductionParadigme:\n",
    "        reductionParadigme[el]=reduceTrad(el,reductionParadigme)\n",
    "\n",
    "    paradigmeReduit = {}\n",
    "    for k, v in reductionParadigme.iteritems():\n",
    "        paradigmeReduit[v] = paradigmeReduit.get(v, [])\n",
    "        paradigmeReduit[v].append(k)\n",
    "    print \"syncrétismes\",len(paradigmeReduit), sorted(paradigmeReduit.keys())\n",
    "    print paradigmeReduit"
   ]
  },
  {
   "cell_type": "code",
   "execution_count": 19,
   "metadata": {
    "collapsed": false
   },
   "outputs": [],
   "source": [
    "def pivotLexique(lexique):\n",
    "    paradigmes=pd.pivot_table(lexique[lexique[\"tir1\"]>0], values='phono', index=['lexeme'], columns=['case'], aggfunc=lambda x: \",\".join(x)).reset_index().reindex()\n",
    "    defParadigme(paradigmes)"
   ]
  },
  {
   "cell_type": "code",
   "execution_count": 25,
   "metadata": {
    "collapsed": false
   },
   "outputs": [
    {
     "name": "stdout",
     "output_type": "stream",
     "text": [
      "/Users/gilles/Box Sync/2015-Data/MGC-170330-00-100Ko-Tirage.pkl\n",
      "2444 5000\n",
      "syncrétismes 4 [u'ai1P', u'inf', u'pI2P', u'pI2S']\n",
      "{u'ai1P': [u'ii1P', u'ii1S', u'pP', u'ai3S', u'ai3P', u'is3S', u'ps3S', u'ii3S', u'ai1P', u'ii3P', u'pi2S', u'ai1S', u'pi2P', u'ppFS', u'ppFP', u'ps1P', u'ps3P', u'ps1S', u'fi2P', u'fi2S', u'ps2P', u'ps2S', u'ai2S', u'pc2P', u'pc2S', u'ii2P', u'pi1S', u'pi1P', u'ii2S', u'pi3P', u'pi3S', u'ppMS', u'pc3S', u'pc3P', u'pc1P', u'pc1S', u'fi3S', u'fi3P', u'ppMP', u'fi1P', u'fi1S', u'pI1P'], u'inf': [u'inf'], u'pI2S': [u'pI2S'], u'pI2P': [u'pI2P']}\n",
      "/Users/gilles/Box Sync/2015-Data/MGC-170330-01-100Ko-Tirage.pkl\n",
      "4049 10000\n",
      "syncrétismes 10 [u'ai1P', u'fi2P', u'inf', u'pI2P', u'pI2S', u'pi1P', u'pi1S', u'pi2S', u'pi3P', u'pi3S']\n",
      "{u'pi1P': [u'pi1P'], u'pI2S': [u'pI2S'], u'pi1S': [u'pi1S'], u'ai1P': [u'ii1P', u'ii1S', u'pP', u'ai3S', u'ai3P', u'is3P', u'is3S', u'ps3S', u'ii3S', u'ai1P', u'ii3P', u'ai1S', u'pi2P', u'ppFS', u'ppFP', u'ps1P', u'ps3P', u'ps1S', u'fi2S', u'ps2P', u'ps2S', u'ai2S', u'pc2P', u'pc2S', u'ii2P', u'ii2S', u'ppMS', u'pc3S', u'pc3P', u'pc1P', u'pc1S', u'fi3S', u'fi3P', u'ppMP', u'fi1P', u'fi1S', u'pI1P'], u'inf': [u'inf'], u'pi3S': [u'pi3S'], u'pi2S': [u'pi2S'], u'fi2P': [u'fi2P'], u'pi3P': [u'pi3P'], u'pI2P': [u'pI2P']}\n",
      "/Users/gilles/Box Sync/2015-Data/MGC-170330-02-100Ko-Tirage.pkl\n",
      "5270 15000\n",
      "syncrétismes 19 [u'ai1P', u'ai3P', u'fi1S', u'fi2P', u'fi2S', u'ii1P', u'ii1S', u'ii2P', u'inf', u'pI1P', u'pI2P', u'pI2S', u'pi1P', u'pi1S', u'pi2P', u'pi2S', u'pi3P', u'pi3S', u'ps1S']\n",
      "{u'ii1P': [u'ii1P'], u'ii1S': [u'ii1S', u'ii3S', u'ii3P', u'ii2S'], u'pi1P': [u'pi1P'], u'pi3P': [u'pi3P'], u'pi1S': [u'pi1S'], u'pI2P': [u'pI2P'], u'pI2S': [u'pI2S'], u'pI1P': [u'pI1P'], u'ai3P': [u'ai3P'], u'pi3S': [u'pi3S'], u'fi1S': [u'pc2S', u'pc3S', u'pc3P', u'pc1S', u'fi1S'], u'ii2P': [u'ii2P'], u'ai1P': [u'pP', u'ai3S', u'is3P', u'is3S', u'ai1P', u'ai1S', u'ppFS', u'ppFP', u'ps1P', u'ps2P', u'ai2S', u'pc2P', u'ppMS', u'pc1P', u'fi3P', u'ppMP', u'fi1P'], u'inf': [u'inf'], u'pi2P': [u'pi2P'], u'pi2S': [u'pi2S'], u'fi2P': [u'fi2P'], u'fi2S': [u'fi2S', u'fi3S'], u'ps1S': [u'ps3S', u'ps3P', u'ps1S', u'ps2S']}\n",
      "/Users/gilles/Box Sync/2015-Data/MGC-170330-03-100Ko-Tirage.pkl\n",
      "6408 20000\n",
      "syncrétismes 20 [u'ai1P', u'ai3P', u'fi1P', u'fi1S', u'fi2P', u'fi2S', u'ii1P', u'ii1S', u'ii2P', u'inf', u'pI1P', u'pI2P', u'pI2S', u'pc2P', u'pi1P', u'pi1S', u'pi2P', u'pi2S', u'pi3P', u'ps1S']\n",
      "{u'ii1P': [u'ii1P'], u'ii1S': [u'ii1S', u'ii3S', u'ii3P', u'ii2S'], u'pi1P': [u'pi1P'], u'pi3P': [u'pi3P'], u'pi1S': [u'pi1S'], u'pI2P': [u'pI2P'], u'pI2S': [u'pI2S'], u'pI1P': [u'pI1P'], u'ai3P': [u'ai3P'], u'fi1P': [u'fi3P', u'fi1P'], u'pc2P': [u'pc2P'], u'fi1S': [u'pc2S', u'pc3S', u'pc3P', u'pc1S', u'fi1S'], u'ii2P': [u'ii2P'], u'ai1P': [u'pP', u'ai3S', u'is3P', u'is3S', u'ai1P', u'ai1S', u'ppFS', u'ppFP', u'ps1P', u'ps2P', u'ai2S', u'ppMS', u'pc1P', u'ppMP'], u'inf': [u'inf'], u'pi2P': [u'pi2P'], u'pi2S': [u'pi2S', u'pi3S'], u'fi2P': [u'fi2P'], u'fi2S': [u'fi2S', u'fi3S'], u'ps1S': [u'ps3S', u'ps3P', u'ps1S', u'ps2S']}\n",
      "/Users/gilles/Box Sync/2015-Data/MGC-170330-04-100Ko-Tirage.pkl\n",
      "7442 25000\n",
      "syncrétismes 14 [u'ai1P', u'fi1S', u'fi2P', u'fi2S', u'ii1S', u'ii2P', u'inf', u'pI1P', u'pI2S', u'pi1P', u'pi1S', u'pi2S', u'pi3P', u'ps1S']\n",
      "{u'pI1P': [u'pI1P'], u'ii1S': [u'ii1S', u'ii3S', u'ii3P', u'ii2S'], u'pi1P': [u'pi1P'], u'pi3P': [u'pi3P'], u'pi1S': [u'pi1S'], u'pi2S': [u'pi2S', u'pi3S'], u'fi1S': [u'pc2S', u'pc3S', u'pc3P', u'pc1S', u'fi1S'], u'ii2P': [u'ii2P'], u'ai1P': [u'ii1P', u'pP', u'ai3S', u'ai3P', u'is3P', u'is3S', u'ps3S', u'ai1P', u'ai1S', u'pi2P', u'ppFS', u'ppFP', u'ps1P', u'ps3P', u'pI2P', u'ps2P', u'ps2S', u'ai2P', u'ai2S', u'pc2P', u'ppMS', u'pc1P', u'fi3P', u'ppMP', u'fi1P'], u'inf': [u'inf'], u'pI2S': [u'pI2S'], u'fi2P': [u'fi2P'], u'fi2S': [u'fi2S', u'fi3S'], u'ps1S': [u'ps1S']}\n",
      "/Users/gilles/Box Sync/2015-Data/MGC-170330-05-100Ko-Tirage.pkl\n",
      "8363 30000\n",
      "syncrétismes 14 [u'ai1P', u'fi1S', u'fi2P', u'fi2S', u'ii1S', u'ii2P', u'inf', u'pI1P', u'pI2S', u'pi1P', u'pi1S', u'pi2S', u'pi3P', u'ps1S']\n",
      "{u'pI1P': [u'pI1P'], u'ii1S': [u'ii1S', u'ii3S', u'ii3P', u'ii2S'], u'pi1P': [u'pi1P'], u'pi3P': [u'pi3P'], u'pi1S': [u'pi1S'], u'pi2S': [u'pi2S', u'pi3S'], u'fi1S': [u'pc2S', u'pc3S', u'pc3P', u'pc1S', u'fi1S'], u'ii2P': [u'ii2P'], u'ai1P': [u'ii1P', u'pP', u'ai3S', u'ai3P', u'is3P', u'is3S', u'ps3S', u'ai1P', u'ai1S', u'pi2P', u'ppFS', u'ppFP', u'ps1P', u'ps3P', u'pI2P', u'ps2P', u'ps2S', u'ai2P', u'ai2S', u'pc2P', u'ppMS', u'pc1P', u'fi3P', u'ppMP', u'fi1P'], u'inf': [u'inf'], u'pI2S': [u'pI2S'], u'fi2P': [u'fi2P'], u'fi2S': [u'fi2S', u'fi3S'], u'ps1S': [u'ps1S']}\n",
      "/Users/gilles/Box Sync/2015-Data/MGC-170330-06-100Ko-Tirage.pkl\n",
      "9213 35000\n",
      "syncrétismes 13 [u'ai1P', u'fi1P', u'fi1S', u'fi2P', u'fi2S', u'ii1S', u'ii2P', u'inf', u'pi1P', u'pi1S', u'pi2S', u'pi3P', u'ps1S']\n",
      "{u'ii1S': [u'ii1S', u'ii3S', u'ii3P', u'ii2S'], u'pi1P': [u'pi1P'], u'pi1S': [u'pi1S'], u'pi3P': [u'pi3P'], u'fi1P': [u'fi3P', u'fi1P'], u'fi1S': [u'pc2S', u'pc3S', u'pc3P', u'pc1S', u'fi1S'], u'ii2P': [u'ii2P'], u'ai1P': [u'ii1P', u'pP', u'ai3S', u'ai3P', u'is3P', u'is3S', u'ps3S', u'ai1P', u'ai1S', u'pi2P', u'ppFS', u'ppFP', u'is2S', u'ps3P', u'pI2S', u'pI2P', u'ps2P', u'ps2S', u'ps1P', u'ai2P', u'ai2S', u'pc2P', u'ppMS', u'pc1P', u'ppMP', u'pI1P'], u'inf': [u'inf'], u'pi2S': [u'pi2S', u'pi3S'], u'fi2P': [u'fi2P'], u'fi2S': [u'fi2S', u'fi3S'], u'ps1S': [u'ps1S']}\n",
      "/Users/gilles/Box Sync/2015-Data/MGC-170330-07-100Ko-Tirage.pkl\n",
      "9965 40000\n",
      "syncrétismes 13 [u'ai1P', u'fi1P', u'fi1S', u'fi2P', u'fi2S', u'ii1S', u'ii2P', u'inf', u'pi1P', u'pi1S', u'pi2S', u'pi3P', u'ps1S']\n",
      "{u'ii1S': [u'ii1S', u'ii3S', u'ii3P', u'ii2S'], u'pi1P': [u'pi1P'], u'pi1S': [u'pi1S'], u'pi3P': [u'pi3P'], u'fi1P': [u'fi3P', u'fi1P'], u'fi1S': [u'pc2S', u'pc3S', u'pc3P', u'pc1S', u'fi1S'], u'ii2P': [u'ii2P'], u'ai1P': [u'ii1P', u'pP', u'ai3S', u'ai3P', u'is3P', u'is3S', u'ai1P', u'ai1S', u'pi2P', u'ppFS', u'ppFP', u'is2S', u'pI2S', u'pI2P', u'ps2P', u'ps1P', u'ai2P', u'ai2S', u'pc2P', u'ppMS', u'pc1P', u'ppMP', u'pI1P'], u'inf': [u'inf'], u'pi2S': [u'pi2S', u'pi3S'], u'fi2P': [u'fi2P'], u'fi2S': [u'fi2S', u'fi3S'], u'ps1S': [u'ps3S', u'ps3P', u'ps1S', u'ps2S']}\n",
      "/Users/gilles/Box Sync/2015-Data/MGC-170330-08-100Ko-Tirage.pkl\n",
      "10712 45000\n",
      "syncrétismes 5 [u'ai1P', u'fi1S', u'inf', u'pi1S', u'pi3P']\n",
      "{u'ai1P': [u'ii1P', u'ii1S', u'pP', u'ai3S', u'ai3P', u'is3P', u'is3S', u'ps3S', u'ii3S', u'ai1P', u'ii3P', u'pi2S', u'ai1S', u'pi2P', u'ppFS', u'ppFP', u'is2S', u'ps3P', u'ps1S', u'pI2S', u'fi2P', u'fi2S', u'pI2P', u'ps2P', u'ps2S', u'ps1P', u'ai2P', u'ai2S', u'pc2P', u'pc2S', u'ii2P', u'pi1P', u'ii2S', u'pi3S', u'ppMS', u'pc3S', u'pc3P', u'pc1P', u'is1P', u'fi3S', u'fi3P', u'ppMP', u'fi1P', u'pc1S', u'pI1P'], u'inf': [u'inf'], u'fi1S': [u'fi1S'], u'pi3P': [u'pi3P'], u'pi1S': [u'pi1S']}\n",
      "/Users/gilles/Box Sync/2015-Data/MGC-170330-09-100Ko-Tirage.pkl\n",
      "11416 50000\n",
      "syncrétismes 7 [u'ai1P', u'ai3P', u'fi1S', u'inf', u'pP', u'pi1S', u'pi3P']\n",
      "{u'pP': [u'pP'], u'fi1S': [u'fi1S'], u'ai3P': [u'ai3P'], u'pi1S': [u'pi1S'], u'ai1P': [u'ii1P', u'ii1S', u'ai3S', u'is3P', u'is3S', u'ps3S', u'ii3S', u'ai1P', u'ii3P', u'pi2S', u'ai1S', u'pi2P', u'ppFS', u'ppFP', u'is2S', u'ps3P', u'ps1S', u'pI2S', u'fi2P', u'fi2S', u'pI2P', u'ps2P', u'ps2S', u'ps1P', u'ai2P', u'ai2S', u'pc2P', u'pc2S', u'ii2P', u'pi1P', u'ii2S', u'pi3S', u'ppMS', u'pc3S', u'pc3P', u'pc1P', u'is1P', u'fi3S', u'fi3P', u'ppMP', u'fi1P', u'pc1S', u'pI1P'], u'inf': [u'inf'], u'pi3P': [u'pi3P']}\n",
      "/Users/gilles/Box Sync/2015-Data/MGC-170330-10-100Ko-Tirage.pkl\n",
      "12051 55000\n",
      "syncrétismes 7 [u'ai1P', u'ai3P', u'fi1S', u'inf', u'pP', u'pi1S', u'pi3P']\n",
      "{u'pP': [u'pP'], u'fi1S': [u'fi1S'], u'ai3P': [u'ai3P'], u'pi1S': [u'pi1S'], u'ai1P': [u'ii1P', u'ii1S', u'pc1P', u'ai3S', u'is3P', u'is3S', u'ps3S', u'ii3S', u'ai1P', u'ii3P', u'pi2S', u'ai1S', u'pi2P', u'ppFS', u'ppFP', u'is2S', u'ps3P', u'ps1S', u'pI2S', u'fi2P', u'fi2S', u'pI2P', u'ps2P', u'ps2S', u'ps1P', u'ai2P', u'ai2S', u'pc2P', u'pc2S', u'ii2P', u'pi1P', u'ii2S', u'pi3S', u'ppMS', u'pc3S', u'pc3P', u'is1S', u'is1P', u'fi3S', u'fi3P', u'ppMP', u'fi1P', u'pc1S', u'pI1P'], u'inf': [u'inf'], u'pi3P': [u'pi3P']}\n",
      "/Users/gilles/Box Sync/2015-Data/MGC-170330-11-100Ko-Tirage.pkl\n",
      "12638 60000\n",
      "syncrétismes 7 [u'ai1P', u'ai3P', u'fi1S', u'inf', u'pP', u'pi1S', u'pi3P']\n",
      "{u'pP': [u'pP'], u'fi1S': [u'fi1S'], u'ai3P': [u'ai3P'], u'pi1S': [u'pi1S'], u'ai1P': [u'ii1P', u'ii1S', u'pc1P', u'ai3S', u'is3P', u'is3S', u'ps3S', u'ii3S', u'ai1P', u'ii3P', u'pi2S', u'ai1S', u'pi2P', u'ppFS', u'ppFP', u'is2S', u'ps3P', u'ps1S', u'pI2S', u'fi2P', u'fi2S', u'pI2P', u'ps2P', u'ps2S', u'ps1P', u'ai2P', u'ai2S', u'pc2P', u'pc2S', u'ii2P', u'pi1P', u'ii2S', u'pi3S', u'ppMS', u'pc3S', u'pc3P', u'is1S', u'is1P', u'fi3S', u'fi3P', u'ppMP', u'fi1P', u'pc1S', u'pI1P'], u'inf': [u'inf'], u'pi3P': [u'pi3P']}\n",
      "/Users/gilles/Box Sync/2015-Data/MGC-170330-12-100Ko-Tirage.pkl\n",
      "13229 65000\n",
      "syncrétismes 7 [u'ai1P', u'ai3P', u'fi1S', u'inf', u'pP', u'pi1S', u'pi3P']\n",
      "{u'pP': [u'pP'], u'fi1S': [u'fi1S'], u'ai3P': [u'ai3P'], u'pi1S': [u'pi1S'], u'ai1P': [u'ii1P', u'ii1S', u'pc1P', u'ai3S', u'is3P', u'is3S', u'ps3S', u'ii3S', u'ai1P', u'ii3P', u'pi2S', u'ai1S', u'pi2P', u'ppFS', u'ppFP', u'is2S', u'ps3P', u'ps1S', u'pI2S', u'fi2P', u'fi2S', u'pI2P', u'ps2P', u'ps2S', u'ps1P', u'ai2P', u'ai2S', u'pc2P', u'pc2S', u'ii2P', u'pi1P', u'ii2S', u'pi3S', u'ppMS', u'pc3S', u'pc3P', u'is1S', u'is1P', u'fi3S', u'fi3P', u'ppMP', u'fi1P', u'pc1S', u'pI1P'], u'inf': [u'inf'], u'pi3P': [u'pi3P']}\n",
      "/Users/gilles/Box Sync/2015-Data/MGC-170330-13-100Ko-Tirage.pkl\n",
      "13771 70000\n",
      "syncrétismes 7 [u'ai1P', u'ai3P', u'fi1S', u'inf', u'pP', u'pi1S', u'pi3P']\n",
      "{u'pP': [u'pP'], u'fi1S': [u'fi1S'], u'ai3P': [u'ai3P'], u'pi1S': [u'pi1S'], u'ai1P': [u'ii1P', u'ii1S', u'pc1P', u'ai3S', u'is3P', u'is3S', u'ps3S', u'ii3S', u'ai1P', u'ii3P', u'pi2S', u'ai1S', u'pi2P', u'ppFS', u'ppFP', u'is2S', u'ps3P', u'ps1S', u'pI2S', u'fi2P', u'fi2S', u'pI2P', u'ps2P', u'ps2S', u'ps1P', u'ai2P', u'ai2S', u'pc2P', u'pc2S', u'ii2P', u'pi1P', u'ii2S', u'pi3S', u'ppMS', u'pc3S', u'pc3P', u'is1S', u'is1P', u'fi3S', u'fi3P', u'ppMP', u'fi1P', u'pc1S', u'pI1P'], u'inf': [u'inf'], u'pi3P': [u'pi3P']}\n",
      "/Users/gilles/Box Sync/2015-Data/MGC-170330-14-100Ko-Tirage.pkl\n",
      "14287 75000\n",
      "syncrétismes 8 [u'ai1P', u'ai3P', u'fi1S', u'inf', u'pP', u'pi1S', u'pi2S', u'pi3P']\n",
      "{u'pP': [u'pP'], u'pi3P': [u'pi3P'], u'fi1S': [u'fi1S'], u'ai3P': [u'ai3P'], u'pi1S': [u'pi1S'], u'ai1P': [u'ii1P', u'ii1S', u'pc1P', u'ai3S', u'is3P', u'is3S', u'ps3S', u'ii3S', u'ai1P', u'ii3P', u'ai1S', u'pi2P', u'ppFS', u'ppFP', u'is2S', u'ps3P', u'ps1S', u'pI2S', u'fi2P', u'fi2S', u'pI2P', u'ps2P', u'ps2S', u'ps1P', u'ai2P', u'ai2S', u'pc2P', u'pc2S', u'ii2P', u'pi1P', u'ii2S', u'ppMS', u'pc3S', u'pc3P', u'is1S', u'is1P', u'fi3S', u'fi3P', u'ppMP', u'fi1P', u'pc1S', u'pI1P'], u'inf': [u'inf'], u'pi2S': [u'pi2S', u'pi3S']}\n",
      "/Users/gilles/Box Sync/2015-Data/MGC-170330-15-100Ko-Tirage.pkl\n",
      "14810 80000\n",
      "syncrétismes 8 [u'ai1P', u'ai3P', u'fi1S', u'inf', u'pP', u'pi1S', u'pi2S', u'pi3P']\n",
      "{u'pP': [u'pP'], u'pi3P': [u'pi3P'], u'fi1S': [u'fi1S'], u'ai3P': [u'ai3P'], u'pi1S': [u'pi1S'], u'ai1P': [u'ii1P', u'ii1S', u'pc1P', u'ai3S', u'is3P', u'is3S', u'ps3S', u'ii3S', u'ai1P', u'ii3P', u'ai1S', u'pi2P', u'ppFS', u'ppFP', u'is2S', u'ps3P', u'ps1S', u'pI2S', u'fi2P', u'fi2S', u'pI2P', u'ps2P', u'ps2S', u'ps1P', u'ai2P', u'ai2S', u'pc2P', u'pc2S', u'ii2P', u'pi1P', u'ii2S', u'ppMS', u'pc3S', u'pc3P', u'is1S', u'is1P', u'fi3S', u'fi3P', u'ppMP', u'fi1P', u'pc1S', u'pI1P'], u'inf': [u'inf'], u'pi2S': [u'pi2S', u'pi3S']}\n",
      "/Users/gilles/Box Sync/2015-Data/MGC-170330-16-100Ko-Tirage.pkl\n",
      "15344 85000\n",
      "syncrétismes 8 [u'ai1P', u'ai3P', u'fi1S', u'inf', u'pP', u'pi1S', u'pi2S', u'pi3P']\n",
      "{u'pP': [u'pP'], u'pi3P': [u'pi3P'], u'fi1S': [u'fi1S'], u'ai3P': [u'ai3P'], u'pi1S': [u'pi1S'], u'ai1P': [u'ii1P', u'ii1S', u'pc1P', u'ai3S', u'is3P', u'is3S', u'ps3S', u'ii3S', u'ai1P', u'ii3P', u'ai1S', u'pi2P', u'ppFS', u'ppFP', u'is2S', u'ps3P', u'ps1S', u'pI2S', u'fi2P', u'fi2S', u'pI2P', u'ps2P', u'ps2S', u'ps1P', u'ai2P', u'ai2S', u'pc2P', u'pc2S', u'ii2P', u'pi1P', u'ii2S', u'ppMS', u'pc3S', u'pc3P', u'is1S', u'is1P', u'fi3S', u'fi3P', u'ppMP', u'fi1P', u'pc1S', u'pI1P'], u'inf': [u'inf'], u'pi2S': [u'pi2S', u'pi3S']}\n",
      "/Users/gilles/Box Sync/2015-Data/MGC-170330-17-100Ko-Tirage.pkl\n",
      "15836 90000\n",
      "syncrétismes 8 [u'ai1P', u'ai3P', u'fi1S', u'inf', u'pP', u'pi1S', u'pi2S', u'pi3P']\n",
      "{u'pP': [u'pP'], u'pi3P': [u'pi3P'], u'fi1S': [u'fi1S'], u'ai3P': [u'ai3P'], u'pi1S': [u'pi1S'], u'ai1P': [u'ii1P', u'ii1S', u'pc1P', u'ai3S', u'is3P', u'is3S', u'ps3S', u'ii3S', u'ai1P', u'ii3P', u'ai1S', u'pi2P', u'ppFS', u'ppFP', u'is2S', u'ps3P', u'ps1S', u'pI2S', u'fi2P', u'fi2S', u'pI2P', u'ps2P', u'ps2S', u'ps1P', u'ai2P', u'ai2S', u'pc2P', u'pc2S', u'ii2P', u'pi1P', u'ii2S', u'ppMS', u'pc3S', u'pc3P', u'is1S', u'is1P', u'fi3S', u'fi3P', u'ppMP', u'fi1P', u'pc1S', u'pI1P'], u'inf': [u'inf'], u'pi2S': [u'pi2S', u'pi3S']}\n",
      "/Users/gilles/Box Sync/2015-Data/MGC-170330-18-100Ko-Tirage.pkl\n",
      "16295 95000\n",
      "syncrétismes 8 [u'ai1P', u'ai3P', u'fi1S', u'inf', u'pP', u'pi1S', u'pi2S', u'pi3P']\n",
      "{u'pP': [u'pP'], u'pi3P': [u'pi3P'], u'fi1S': [u'fi1S'], u'ai3P': [u'ai3P'], u'pi1S': [u'pi1S'], u'ai1P': [u'ii1P', u'ii1S', u'pc1P', u'ai3S', u'is3P', u'is3S', u'ps3S', u'ii3S', u'ai1P', u'ii3P', u'ai1S', u'pi2P', u'ppFS', u'ppFP', u'is2S', u'ps3P', u'ps1S', u'pI2S', u'fi2P', u'fi2S', u'pI2P', u'ps2P', u'ps2S', u'ps1P', u'ai2P', u'ai2S', u'pc2P', u'pc2S', u'ii2P', u'pi1P', u'ii2S', u'ppMS', u'pc3S', u'pc3P', u'is1S', u'is1P', u'fi3S', u'fi3P', u'ppMP', u'fi1P', u'pc1S', u'pI1P'], u'inf': [u'inf'], u'pi2S': [u'pi2S', u'pi3S']}\n",
      "/Users/gilles/Box Sync/2015-Data/MGC-170330-19-100Ko-Tirage.pkl\n",
      "16727 100000\n",
      "syncrétismes 9 [u'ai1P', u'ai3P', u'fi1S', u'fi3P', u'inf', u'pP', u'pi1S', u'pi2S', u'pi3P']\n",
      "{u'pP': [u'pP'], u'pi3P': [u'pi3P'], u'fi1S': [u'fi1S'], u'fi3P': [u'fi3P'], u'ai3P': [u'ai3P'], u'pi1S': [u'pi1S'], u'ai1P': [u'ii1P', u'ii1S', u'pc1P', u'ai3S', u'is3P', u'is3S', u'ps3S', u'ii3S', u'ai1P', u'ii3P', u'ai1S', u'pi2P', u'ppFS', u'ppFP', u'is2S', u'ps3P', u'ps1S', u'pI2S', u'fi2P', u'fi2S', u'pI2P', u'ps2P', u'ps2S', u'ps1P', u'ai2P', u'ai2S', u'pc2P', u'pc2S', u'ii2P', u'pi1P', u'ii2S', u'ppMS', u'pc3S', u'pc3P', u'is1S', u'is1P', u'fi3S', u'ppMP', u'fi1P', u'pc1S', u'pI1P'], u'inf': [u'inf'], u'pi2S': [u'pi2S', u'pi3S']}\n"
     ]
    }
   ],
   "source": [
    "for nomLexique in sorted(listeTirages100k):\n",
    "    lexique=lireLexique(nomLexique)\n",
    "    taille=lexique[lexique[\"tir1\"]>0][\"tir1\"].count()\n",
    "    print nomLexique\n",
    "    print taille, lexique[lexique[\"tir1\"]>0][\"tir1\"].sum()\n",
    "    pivotLexique(lexique)"
   ]
  },
  {
   "cell_type": "code",
   "execution_count": null,
   "metadata": {
    "collapsed": false
   },
   "outputs": [],
   "source": []
  }
 ],
 "metadata": {
  "kernelspec": {
   "display_name": "Python 2",
   "language": "python",
   "name": "python2"
  },
  "language_info": {
   "codemirror_mode": {
    "name": "ipython",
    "version": 2
   },
   "file_extension": ".py",
   "mimetype": "text/x-python",
   "name": "python",
   "nbconvert_exporter": "python",
   "pygments_lexer": "ipython2",
   "version": "2.7.11"
  }
 },
 "nbformat": 4,
 "nbformat_minor": 0
}
