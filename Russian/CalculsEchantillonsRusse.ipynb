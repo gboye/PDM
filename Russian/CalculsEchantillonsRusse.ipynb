{
 "cells": [
  {
   "cell_type": "markdown",
   "metadata": {},
   "source": [
    "# Paradigmes complets dans les échantillons de russe\n",
    "Le but est de trouver le nombre de paradigmes complets en fonction de la taille de l'échantillon"
   ]
  },
  {
   "cell_type": "code",
   "execution_count": 65,
   "metadata": {
    "collapsed": true
   },
   "outputs": [],
   "source": [
    "# -*- coding: utf8 -*-\n",
    "import pandas as pd\n",
    "import pickle, glob"
   ]
  },
  {
   "cell_type": "code",
   "execution_count": 66,
   "metadata": {
    "collapsed": true
   },
   "outputs": [],
   "source": [
    "million=1000000\n",
    "nbMillions=1\n",
    "echantillons=\"%dMo\"%nbMillions\n",
    "tiragesJour=7500\n",
    "joursAn=365"
   ]
  },
  {
   "cell_type": "code",
   "execution_count": 67,
   "metadata": {
    "collapsed": false
   },
   "outputs": [],
   "source": [
    "def lireLexique(nomLexique):\n",
    "    with open(nomLexique, 'rb') as input:\n",
    "        lexique=pickle.load(input)\n",
    "    return lexique"
   ]
  },
  {
   "cell_type": "code",
   "execution_count": 68,
   "metadata": {
    "collapsed": true
   },
   "outputs": [],
   "source": [
    "listeTiragesFichiers=glob.glob(\"/Users/gilles/ownCloud/Recherche/Boye/Russian-Data/*-Tirage.pkl\")"
   ]
  },
  {
   "cell_type": "code",
   "execution_count": 69,
   "metadata": {
    "collapsed": false
   },
   "outputs": [],
   "source": [
    "def tiragesNom(nom):\n",
    "    result=[tirage for tirage in listeTiragesFichiers if nom in tirage]\n",
    "    return result"
   ]
  },
  {
   "cell_type": "code",
   "execution_count": 70,
   "metadata": {
    "collapsed": false
   },
   "outputs": [],
   "source": [
    "def nbFormesEchantillons(nom):\n",
    "    print nom\n",
    "    for tirage in tiragesNom(nom):\n",
    "        sample=lireLexique(tirage)\n",
    "        print sample[sample[\"tir1\"]>0][\"tir1\"].count(),\n",
    "        print sample[sample[\"tir1\"]>0][\"tir1\"].sum(),\n",
    "        print tirage"
   ]
  },
  {
   "cell_type": "code",
   "execution_count": 71,
   "metadata": {
    "collapsed": true
   },
   "outputs": [],
   "source": [
    "def completeParadigm(row):\n",
    "    return row.min()"
   ]
  },
  {
   "cell_type": "code",
   "execution_count": 72,
   "metadata": {
    "collapsed": false
   },
   "outputs": [
    {
     "data": {
      "text/plain": [
       "50"
      ]
     },
     "execution_count": 72,
     "metadata": {},
     "output_type": "execute_result"
    }
   ],
   "source": [
    "listeTirages=tiragesNom(echantillons)\n",
    "len(listeTirages)"
   ]
  },
  {
   "cell_type": "code",
   "execution_count": 79,
   "metadata": {
    "collapsed": true
   },
   "outputs": [],
   "source": [
    "def compteParadigmesComplets(lexique,returnParadigmes=False):\n",
    "    paradigmes=pd.pivot_table(lexique,values=\"tir1\",columns=[\"case\"],index=[\"Gloss\"],aggfunc=sum)\n",
    "    paradigmes[\"min\"]=paradigmes.apply(completeParadigm,axis=1)\n",
    "    if returnParadigmes:\n",
    "        return paradigmes[paradigmes[\"min\"]>0]\n",
    "    else:\n",
    "        return len(paradigmes[paradigmes[\"min\"]>0])"
   ]
  },
  {
   "cell_type": "code",
   "execution_count": 74,
   "metadata": {
    "collapsed": false
   },
   "outputs": [
    {
     "name": "stdout",
     "output_type": "stream",
     "text": [
      "nbMTirages 1 années 0 nbFormes 34936 nbParadigmesComplets 0\n"
     ]
    }
   ],
   "source": [
    "tailleLexique=[]\n",
    "nbParadigmes=[]\n",
    "nomLexique0=listeTirages.pop(0)\n",
    "lexique=lireLexique(nomLexique0)\n",
    "taille=lexique[lexique[\"tir1\"]>0][\"tir1\"].count()\n",
    "nbParadigmesComplets=compteParadigmesComplets(lexique)\n",
    "print \"nbMTirages\",nbMillions,\"années\",nbMillions*million/tiragesJour/joursAn,\"nbFormes\",taille, \"nbParadigmesComplets\",nbParadigmesComplets\n",
    "tailleLexique.append(taille)\n",
    "nbParadigmes.append(nbParadigmesComplets)"
   ]
  },
  {
   "cell_type": "code",
   "execution_count": 75,
   "metadata": {
    "collapsed": false
   },
   "outputs": [
    {
     "name": "stdout",
     "output_type": "stream",
     "text": [
      "nbMTirages 2 années 0 nbFormes 35414 nbParadigmesComplets 0\n",
      "nbMTirages 3 années 1 nbFormes 35663 nbParadigmesComplets 0\n",
      "nbMTirages 4 années 1 nbFormes 35885 nbParadigmesComplets 1\n",
      "nbMTirages 5 années 1 nbFormes 36117 nbParadigmesComplets 1\n",
      "nbMTirages 6 années 2 nbFormes 36312 nbParadigmesComplets 1\n",
      "nbMTirages 7 années 2 nbFormes 36535 nbParadigmesComplets 3\n",
      "nbMTirages 8 années 2 nbFormes 36725 nbParadigmesComplets 4\n",
      "nbMTirages 9 années 3 nbFormes 36934 nbParadigmesComplets 4\n",
      "nbMTirages 10 années 3 nbFormes 37120 nbParadigmesComplets 4\n",
      "nbMTirages 11 années 4 nbFormes 37321 nbParadigmesComplets 4\n",
      "nbMTirages 12 années 4 nbFormes 37506 nbParadigmesComplets 7\n",
      "nbMTirages 13 années 4 nbFormes 37684 nbParadigmesComplets 7\n",
      "nbMTirages 14 années 5 nbFormes 37871 nbParadigmesComplets 8\n",
      "nbMTirages 15 années 5 nbFormes 38073 nbParadigmesComplets 9\n",
      "nbMTirages 16 années 5 nbFormes 38246 nbParadigmesComplets 11\n",
      "nbMTirages 17 années 6 nbFormes 38422 nbParadigmesComplets 13\n",
      "nbMTirages 18 années 6 nbFormes 38576 nbParadigmesComplets 14\n",
      "nbMTirages 19 années 6 nbFormes 38768 nbParadigmesComplets 15\n",
      "nbMTirages 20 années 7 nbFormes 38954 nbParadigmesComplets 16\n",
      "nbMTirages 21 années 7 nbFormes 39131 nbParadigmesComplets 18\n",
      "nbMTirages 22 années 8 nbFormes 39309 nbParadigmesComplets 19\n",
      "nbMTirages 23 années 8 nbFormes 39488 nbParadigmesComplets 20\n",
      "nbMTirages 24 années 8 nbFormes 39655 nbParadigmesComplets 20\n",
      "nbMTirages 25 années 9 nbFormes 39814 nbParadigmesComplets 21\n",
      "nbMTirages 26 années 9 nbFormes 39968 nbParadigmesComplets 21\n",
      "nbMTirages 27 années 9 nbFormes 40126 nbParadigmesComplets 21\n",
      "nbMTirages 28 années 10 nbFormes 40294 nbParadigmesComplets 22\n",
      "nbMTirages 29 années 10 nbFormes 40440 nbParadigmesComplets 25\n",
      "nbMTirages 30 années 10 nbFormes 40594 nbParadigmesComplets 28\n",
      "nbMTirages 31 années 11 nbFormes 40756 nbParadigmesComplets 29\n",
      "nbMTirages 32 années 11 nbFormes 40900 nbParadigmesComplets 31\n",
      "nbMTirages 33 années 12 nbFormes 41058 nbParadigmesComplets 35\n",
      "nbMTirages 34 années 12 nbFormes 41211 nbParadigmesComplets 39\n",
      "nbMTirages 35 années 12 nbFormes 41346 nbParadigmesComplets 42\n",
      "nbMTirages 36 années 13 nbFormes 41504 nbParadigmesComplets 42\n",
      "nbMTirages 37 années 13 nbFormes 41646 nbParadigmesComplets 45\n",
      "nbMTirages 38 années 13 nbFormes 41782 nbParadigmesComplets 47\n",
      "nbMTirages 39 années 14 nbFormes 41916 nbParadigmesComplets 50\n",
      "nbMTirages 40 années 14 nbFormes 42045 nbParadigmesComplets 52\n",
      "nbMTirages 41 années 14 nbFormes 42190 nbParadigmesComplets 55\n",
      "nbMTirages 42 années 15 nbFormes 42328 nbParadigmesComplets 57\n",
      "nbMTirages 43 années 15 nbFormes 42470 nbParadigmesComplets 59\n",
      "nbMTirages 44 années 16 nbFormes 42610 nbParadigmesComplets 60\n",
      "nbMTirages 45 années 16 nbFormes 42732 nbParadigmesComplets 64\n",
      "nbMTirages 46 années 16 nbFormes 42850 nbParadigmesComplets 68\n",
      "nbMTirages 47 années 17 nbFormes 42962 nbParadigmesComplets 70\n",
      "nbMTirages 48 années 17 nbFormes 43077 nbParadigmesComplets 73\n",
      "nbMTirages 49 années 17 nbFormes 43190 nbParadigmesComplets 73\n",
      "nbMTirages 50 années 18 nbFormes 43293 nbParadigmesComplets 74\n"
     ]
    }
   ],
   "source": [
    "for numero,tirage in enumerate(listeTirages):\n",
    "#    print tirage\n",
    "    ajout=lireLexique(tirage)\n",
    "    lexique[\"tir1\"]=lexique[\"tir1\"]+ajout[\"tir1\"]\n",
    "    taille=lexique[lexique[\"tir1\"]>0][\"tir1\"].count()\n",
    "    nbParadigmesComplets=compteParadigmesComplets(lexique)\n",
    "    print \"nbMTirages\",nbMillions*(numero+2),\"années\",nbMillions*(numero+2)*million/tiragesJour/joursAn,\"nbFormes\",taille, \"nbParadigmesComplets\",nbParadigmesComplets\n",
    "    tailleLexique.append(taille)\n",
    "    nbParadigmes.append(nbParadigmesComplets)"
   ]
  },
  {
   "cell_type": "code",
   "execution_count": 89,
   "metadata": {
    "collapsed": false
   },
   "outputs": [
    {
     "name": "stdout",
     "output_type": "stream",
     "text": [
      "year, person, eye, hand / arm, thing, relation, force, word, question, problem, method, means, day, business, condition, region, child, task, country, house, leader, interest, measure, percent, machine, possibility, expense, organ, characteristic, process, placing, place, cell, rouble, door, school, service, specialist, structure, substance, supply, system, ton, view, aspect, window, woman, boot, side, neighbour, parent, institution, effort, element, event, deputy, demand, forest, form, frame, hour, illness, kids, lads, organisation, knowledge, leg, foot, lip, mass, material, bird, minute, model, money, economy, action\n"
     ]
    }
   ],
   "source": [
    "compteParadigmesComplets(lexique,True).sort_values(by=\"min\",ascending=False)[\"min\"]\n",
    "print \", \".join(compteParadigmesComplets(lexique,True).sort_values(by=\"min\",ascending=False).index.tolist())"
   ]
  }
 ],
 "metadata": {
  "kernelspec": {
   "display_name": "Python 2",
   "language": "python",
   "name": "python2"
  },
  "language_info": {
   "codemirror_mode": {
    "name": "ipython",
    "version": 2
   },
   "file_extension": ".py",
   "mimetype": "text/x-python",
   "name": "python",
   "nbconvert_exporter": "python",
   "pygments_lexer": "ipython2",
   "version": "2.7.11"
  }
 },
 "nbformat": 4,
 "nbformat_minor": 0
}
