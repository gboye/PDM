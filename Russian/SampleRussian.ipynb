{
 "cells": [
  {
   "cell_type": "code",
   "execution_count": 108,
   "metadata": {
    "collapsed": true
   },
   "outputs": [],
   "source": [
    "import pandas as pd\n",
    "import random, pickle"
   ]
  },
  {
   "cell_type": "markdown",
   "metadata": {},
   "source": [
    "- display permet d'afficher des objets à la demande sans passer par print"
   ]
  },
  {
   "cell_type": "code",
   "execution_count": 109,
   "metadata": {
    "collapsed": true
   },
   "outputs": [],
   "source": [
    "from IPython.display import display"
   ]
  },
  {
   "cell_type": "markdown",
   "metadata": {},
   "source": [
    "Conversion de nombre en pourcentage pour la lisibilité"
   ]
  },
  {
   "cell_type": "code",
   "execution_count": 110,
   "metadata": {
    "collapsed": true
   },
   "outputs": [],
   "source": [
    "from numbers import Number\n",
    "\n",
    "def as_percent(v, precision='0.2'):  \n",
    "    \"\"\"Convert number to percentage string.\"\"\"\n",
    "    if isinstance(v, Number):\n",
    "        return \"{{:{}%}}\".format(precision).format(v)\n",
    "    else:\n",
    "        raise TypeError(\"Numeric type required\")"
   ]
  },
  {
   "cell_type": "markdown",
   "metadata": {},
   "source": [
    "- définir les constantes\n",
    "  - *million*, *debug*\n",
    "  - facteurs de correction des fréquences :\n",
    "    - *cFreqForme* => fréquence de la forme individuelle\n",
    "    - *cFreqCases* => fréquence du lexème (Sg ou Pl)\n",
    "    - *cFreqNull* => fréquence minimale"
   ]
  },
  {
   "cell_type": "code",
   "execution_count": 111,
   "metadata": {
    "collapsed": true
   },
   "outputs": [],
   "source": [
    "million=1000000\n",
    "debug=False\n",
    "cFreqForme=1000000\n",
    "cFreqCases=1000\n",
    "cFreqNull=1"
   ]
  },
  {
   "cell_type": "markdown",
   "metadata": {},
   "source": [
    "- définir \n",
    " - la taille des échantillons *nbMillions*\n",
    " - le nombre d'échantillons *nbSamples*\n",
    " - la référence du tirage"
   ]
  },
  {
   "cell_type": "code",
   "execution_count": 112,
   "metadata": {
    "collapsed": true
   },
   "outputs": [],
   "source": [
    "nbMillions=1\n",
    "nbSamples=50\n",
    "tiragePrefix=\"MGC-160804-1\"\n",
    "echantillon=\"-%dMo\"%nbMillions"
   ]
  },
  {
   "cell_type": "markdown",
   "metadata": {},
   "source": [
    "- choisir le type de fréquences à utiliser\n",
    " - fréquences brutes\n",
    " - fréquences ajustées\n",
    "- choisir le jeu de cases à sélectionner\n",
    " - sans les formes rares : noSecondForms=True (pas de Ref to Nom, Nom2, Acc2, Inst2)\n",
    " - avec les formes rares : noSecondForms=True (avec toutes les cases de Uppsala)"
   ]
  },
  {
   "cell_type": "code",
   "execution_count": 113,
   "metadata": {
    "collapsed": true
   },
   "outputs": [],
   "source": [
    "freqsBrutes=False\n",
    "noSecondForms=True"
   ]
  },
  {
   "cell_type": "markdown",
   "metadata": {},
   "source": [
    "- lire le tableau de Uppsala dans un DataFrame\n",
    "- renommer le Inst2Pl pour éliminer l'espace final en trop"
   ]
  },
  {
   "cell_type": "code",
   "execution_count": 114,
   "metadata": {
    "collapsed": false,
    "scrolled": false
   },
   "outputs": [
    {
     "data": {
      "text/html": [
       "<div>\n",
       "<table border=\"1\" class=\"dataframe\">\n",
       "  <thead>\n",
       "    <tr style=\"text-align: right;\">\n",
       "      <th></th>\n",
       "      <th></th>\n",
       "      <th>Frequency</th>\n",
       "    </tr>\n",
       "    <tr>\n",
       "      <th>NM class</th>\n",
       "      <th>Animacy</th>\n",
       "      <th></th>\n",
       "    </tr>\n",
       "  </thead>\n",
       "  <tbody>\n",
       "    <tr>\n",
       "      <th>DITJA</th>\n",
       "      <th>6</th>\n",
       "      <td>1</td>\n",
       "    </tr>\n",
       "    <tr>\n",
       "      <th rowspan=\"7\" valign=\"top\">I</th>\n",
       "      <th>3</th>\n",
       "      <td>17</td>\n",
       "    </tr>\n",
       "    <tr>\n",
       "      <th>4</th>\n",
       "      <td>4</td>\n",
       "    </tr>\n",
       "    <tr>\n",
       "      <th>5</th>\n",
       "      <td>422</td>\n",
       "    </tr>\n",
       "    <tr>\n",
       "      <th>6</th>\n",
       "      <td>15</td>\n",
       "    </tr>\n",
       "    <tr>\n",
       "      <th>7</th>\n",
       "      <td>60</td>\n",
       "    </tr>\n",
       "    <tr>\n",
       "      <th>8</th>\n",
       "      <td>1199</td>\n",
       "    </tr>\n",
       "    <tr>\n",
       "      <th>9</th>\n",
       "      <td>565</td>\n",
       "    </tr>\n",
       "    <tr>\n",
       "      <th rowspan=\"7\" valign=\"top\">II</th>\n",
       "      <th>3</th>\n",
       "      <td>24</td>\n",
       "    </tr>\n",
       "    <tr>\n",
       "      <th>4</th>\n",
       "      <td>1</td>\n",
       "    </tr>\n",
       "    <tr>\n",
       "      <th>5</th>\n",
       "      <td>71</td>\n",
       "    </tr>\n",
       "    <tr>\n",
       "      <th>6</th>\n",
       "      <td>8</td>\n",
       "    </tr>\n",
       "    <tr>\n",
       "      <th>7</th>\n",
       "      <td>36</td>\n",
       "    </tr>\n",
       "    <tr>\n",
       "      <th>8</th>\n",
       "      <td>838</td>\n",
       "    </tr>\n",
       "    <tr>\n",
       "      <th>9</th>\n",
       "      <td>633</td>\n",
       "    </tr>\n",
       "    <tr>\n",
       "      <th rowspan=\"5\" valign=\"top\">III</th>\n",
       "      <th>3</th>\n",
       "      <td>3</td>\n",
       "    </tr>\n",
       "    <tr>\n",
       "      <th>5</th>\n",
       "      <td>3</td>\n",
       "    </tr>\n",
       "    <tr>\n",
       "      <th>7</th>\n",
       "      <td>5</td>\n",
       "    </tr>\n",
       "    <tr>\n",
       "      <th>8</th>\n",
       "      <td>106</td>\n",
       "    </tr>\n",
       "    <tr>\n",
       "      <th>9</th>\n",
       "      <td>353</td>\n",
       "    </tr>\n",
       "    <tr>\n",
       "      <th rowspan=\"5\" valign=\"top\">IV</th>\n",
       "      <th>3</th>\n",
       "      <td>1</td>\n",
       "    </tr>\n",
       "    <tr>\n",
       "      <th>5</th>\n",
       "      <td>1</td>\n",
       "    </tr>\n",
       "    <tr>\n",
       "      <th>7</th>\n",
       "      <td>1</td>\n",
       "    </tr>\n",
       "    <tr>\n",
       "      <th>8</th>\n",
       "      <td>235</td>\n",
       "    </tr>\n",
       "    <tr>\n",
       "      <th>9</th>\n",
       "      <td>770</td>\n",
       "    </tr>\n",
       "    <tr>\n",
       "      <th rowspan=\"3\" valign=\"top\">Indeclinable</th>\n",
       "      <th>5</th>\n",
       "      <td>1</td>\n",
       "    </tr>\n",
       "    <tr>\n",
       "      <th>8</th>\n",
       "      <td>13</td>\n",
       "    </tr>\n",
       "    <tr>\n",
       "      <th>9</th>\n",
       "      <td>1</td>\n",
       "    </tr>\n",
       "    <tr>\n",
       "      <th rowspan=\"2\" valign=\"top\">ON_STEM</th>\n",
       "      <th>8</th>\n",
       "      <td>7</td>\n",
       "    </tr>\n",
       "    <tr>\n",
       "      <th>9</th>\n",
       "      <td>2</td>\n",
       "    </tr>\n",
       "    <tr>\n",
       "      <th rowspan=\"3\" valign=\"top\">PLURALIA</th>\n",
       "      <th>6</th>\n",
       "      <td>4</td>\n",
       "    </tr>\n",
       "    <tr>\n",
       "      <th>8</th>\n",
       "      <td>35</td>\n",
       "    </tr>\n",
       "    <tr>\n",
       "      <th>9</th>\n",
       "      <td>8</td>\n",
       "    </tr>\n",
       "    <tr>\n",
       "      <th>PLURALIA_I</th>\n",
       "      <th>8</th>\n",
       "      <td>1</td>\n",
       "    </tr>\n",
       "    <tr>\n",
       "      <th>PLURALIA_IV</th>\n",
       "      <th>8</th>\n",
       "      <td>3</td>\n",
       "    </tr>\n",
       "  </tbody>\n",
       "</table>\n",
       "</div>"
      ],
      "text/plain": [
       "                      Frequency\n",
       "NM class     Animacy           \n",
       "DITJA        6                1\n",
       "I            3               17\n",
       "             4                4\n",
       "             5              422\n",
       "             6               15\n",
       "             7               60\n",
       "             8             1199\n",
       "             9              565\n",
       "II           3               24\n",
       "             4                1\n",
       "             5               71\n",
       "             6                8\n",
       "             7               36\n",
       "             8              838\n",
       "             9              633\n",
       "III          3                3\n",
       "             5                3\n",
       "             7                5\n",
       "             8              106\n",
       "             9              353\n",
       "IV           3                1\n",
       "             5                1\n",
       "             7                1\n",
       "             8              235\n",
       "             9              770\n",
       "Indeclinable 5                1\n",
       "             8               13\n",
       "             9                1\n",
       "ON_STEM      8                7\n",
       "             9                2\n",
       "PLURALIA     6                4\n",
       "             8               35\n",
       "             9                8\n",
       "PLURALIA_I   8                1\n",
       "PLURALIA_IV  8                3"
      ]
     },
     "execution_count": 114,
     "metadata": {},
     "output_type": "execute_result"
    }
   ],
   "source": [
    "pdRussianFreqs=pd.read_csv(\"/Users/gilles/ownCloud/Recherche/Boye/Russian-Data/Uppsala-Nouns.csv\",sep=\",\",encoding=\"utf8\")\n",
    "pdRussianFreqs=pdRussianFreqs.rename(columns = {'Inst2Pl ':'Inst2Pl'})\n",
    "pdRussianFreqs.groupby(by=[\"NM class\",\"Animacy\"])[[\"Frequency\"]].count()"
   ]
  },
  {
   "cell_type": "markdown",
   "metadata": {},
   "source": [
    "- lister les colonnes\n",
    " - *lstTitres* : toutes les colonnes\n",
    " - *lstCases* : toutes les cases\n",
    " - *lstCasesMarginales*: les cases exceptionnelles\n",
    "   - Ref to NOM\n",
    "   - CAS2 sauf Loc2Sg\n",
    " - *lstCasesPrincipales*: les cases centrales"
   ]
  },
  {
   "cell_type": "code",
   "execution_count": 115,
   "metadata": {
    "collapsed": false
   },
   "outputs": [],
   "source": [
    "lstTitres=pdRussianFreqs.columns.tolist()\n",
    "if debug: print lstTitres\n",
    "\n",
    "lstCasesAll=lstTitres[6:-4]\n",
    "if debug: print  len(lstCasesAll), lstCasesAll\n",
    "\n",
    "if debug: print pdRussianFreqs[lstCasesAll].sum()\n",
    "\n",
    "lstCasesMarginales=[case for case in lstCasesAll \n",
    "                    if \"Ref\" in case \n",
    "                    or case==\"Vocative\" \n",
    "                    or (\"2\" in case and case!=\"Loc2Sg\")]\n",
    "if debug: print lstCasesMarginales\n",
    "\n",
    "lstCasesPrincipales=list(set(lstCasesAll)-set(lstCasesMarginales))\n",
    "if debug: print lstCasesPrincipales\n",
    "\n",
    "if noSecondForms:\n",
    "    lstCases=lstCasesPrincipales\n",
    "else:\n",
    "    lstCases=lstCasesAll\n",
    "\n",
    "if debug: print \"cases considérées :\",lstCases"
   ]
  },
  {
   "cell_type": "markdown",
   "metadata": {},
   "source": [
    "### Calculer la fréquence ajustée\n",
    "- séparer les singuliers des pluriels qui ont chacun une fréquence pour le lexème\n",
    "- la fréquence ajustée est calculée avec trois termes :\n",
    "  1. fréquence de la forme\\*facteur forme\n",
    "  1. fréquence du lexème (Sg ou Pl)\\*fréquence case\\*facteur lexème\n",
    "  1. constante de fréquence minimale"
   ]
  },
  {
   "cell_type": "code",
   "execution_count": 116,
   "metadata": {
    "collapsed": true
   },
   "outputs": [],
   "source": [
    "def freqsAdjust(row):\n",
    "#    case=row[\"case\"].strip()\n",
    "    if case.endswith(\"Sg\") or case.endswith(\"Sg2\") or case==\"Vocative\":\n",
    "        lexFreq=row[\"Sg\"]\n",
    "    elif case.endswith(\"Pl\") or case.endswith(\"Pl2\"):\n",
    "        lexFreq=row[\"Pl\"]\n",
    "    else:\n",
    "        print \"PB avec l'identité de la case :\", [row[\"case\"]]\n",
    "    freqAdjusted=cFreqForme*row[\"rawFreq\"]+cFreqCases*caseFreq[case]*lexFreq+cFreqNull\n",
    "    return int(freqAdjusted)"
   ]
  },
  {
   "cell_type": "markdown",
   "metadata": {},
   "source": [
    "### Calcul des fréquences de cases\n",
    "- *caseFreqs* note le nombre d'occurrences de chaque case (pd.Series)\n",
    "- *casesOcc* note le nombre d'occurrences totales (int)\n",
    "- *caseFreq* note la fréquence de chaque case (dict)\n"
   ]
  },
  {
   "cell_type": "code",
   "execution_count": 117,
   "metadata": {
    "collapsed": false
   },
   "outputs": [],
   "source": [
    "caseFreqs=pd.DataFrame(pdRussianFreqs[lstCases].sum(),columns=[\"caseOcc\"])\n",
    "#caseFreqs"
   ]
  },
  {
   "cell_type": "code",
   "execution_count": 118,
   "metadata": {
    "collapsed": false
   },
   "outputs": [],
   "source": [
    "casesOcc=caseFreqs[\"caseOcc\"].sum()\n",
    "caseFreqs[\"caseFreq\"]=caseFreqs[\"caseOcc\"]/casesOcc\n",
    "caseFreq=caseFreqs[\"caseFreq\"].to_dict()\n",
    "#caseFreq"
   ]
  },
  {
   "cell_type": "markdown",
   "metadata": {},
   "source": [
    "- faire la liste des cases pour Sg et pour Pl pour gérer les fréquences de lexème séparément"
   ]
  },
  {
   "cell_type": "code",
   "execution_count": 119,
   "metadata": {
    "collapsed": false
   },
   "outputs": [
    {
     "name": "stdout",
     "output_type": "stream",
     "text": [
      "[u'InstSg', u'AccSg', u'Loc2Sg', u'LocSg', u'GenSg', u'DatSg', u'NomSg'] [u'AccPl', u'LocPl', u'InstPl', u'NomPl', u'DatPl', u'GenPl']\n"
     ]
    }
   ],
   "source": [
    "lstCasesSg=[case for case in lstCases if not \"Pl\" in case]\n",
    "lstCasesPl=[case for case in lstCases if \"Pl\" in case]\n",
    "print lstCasesSg,lstCasesPl"
   ]
  },
  {
   "cell_type": "markdown",
   "metadata": {},
   "source": [
    "- calculer les fréquences de cases séparément pour Sg et Pl"
   ]
  },
  {
   "cell_type": "code",
   "execution_count": 120,
   "metadata": {
    "collapsed": false
   },
   "outputs": [
    {
     "data": {
      "text/plain": [
       "{u'AccPl': 0.016452140630305274,\n",
       " u'AccSg': 0.069078709179117084,\n",
       " u'DatPl': 0.050297867086458621,\n",
       " u'DatSg': 0.05479592575607637,\n",
       " u'GenPl': 0.37091397351606631,\n",
       " u'GenSg': 0.28840119717120033,\n",
       " u'InstPl': 0.090255270549742264,\n",
       " u'InstSg': 0.094470324153411694,\n",
       " u'Loc2Sg': 0.0077478216794187923,\n",
       " u'LocPl': 0.087292033212951814,\n",
       " u'LocSg': 0.11800946151432502,\n",
       " u'NomPl': 0.3847887150044757,\n",
       " u'NomSg': 0.36749656054645075}"
      ]
     },
     "execution_count": 120,
     "metadata": {},
     "output_type": "execute_result"
    }
   ],
   "source": [
    "casesOccSg=caseFreqs[caseFreqs.index.isin(lstCasesSg)][\"caseOcc\"].sum()\n",
    "casesOccPl=caseFreqs[caseFreqs.index.isin(lstCasesPl)][\"caseOcc\"].sum()\n",
    "caseFreqs.loc[caseFreqs.index.isin(lstCasesSg),\"caseFreq\"]=caseFreqs[\"caseOcc\"]/casesOccSg\n",
    "caseFreqs.loc[caseFreqs.index.isin(lstCasesPl),\"caseFreq\"]=caseFreqs[\"caseOcc\"]/casesOccPl\n",
    "#caseFreqs[caseFreqs[lstCasesPl]][\"caseFreq\"]=caseFreqs[\"caseOcc\"]/casesOccPl\n",
    "caseFreq=caseFreqs[\"caseFreq\"].to_dict()\n",
    "caseFreq"
   ]
  },
  {
   "cell_type": "code",
   "execution_count": 121,
   "metadata": {
    "collapsed": false
   },
   "outputs": [
    {
     "name": "stdout",
     "output_type": "stream",
     "text": [
      "Proportion des cas au Sg\n"
     ]
    },
    {
     "data": {
      "text/html": [
       "<div>\n",
       "<table border=\"1\" class=\"dataframe\">\n",
       "  <thead>\n",
       "    <tr style=\"text-align: right;\">\n",
       "      <th></th>\n",
       "      <th>caseOcc</th>\n",
       "      <th>caseFreq</th>\n",
       "      <th>case%</th>\n",
       "    </tr>\n",
       "  </thead>\n",
       "  <tbody>\n",
       "    <tr>\n",
       "      <th>NomSg</th>\n",
       "      <td>60903</td>\n",
       "      <td>0.367497</td>\n",
       "      <td>36.75%</td>\n",
       "    </tr>\n",
       "    <tr>\n",
       "      <th>GenSg</th>\n",
       "      <td>47795</td>\n",
       "      <td>0.288401</td>\n",
       "      <td>28.84%</td>\n",
       "    </tr>\n",
       "    <tr>\n",
       "      <th>LocSg</th>\n",
       "      <td>19557</td>\n",
       "      <td>0.118009</td>\n",
       "      <td>11.80%</td>\n",
       "    </tr>\n",
       "    <tr>\n",
       "      <th>InstSg</th>\n",
       "      <td>15656</td>\n",
       "      <td>0.094470</td>\n",
       "      <td>9.45%</td>\n",
       "    </tr>\n",
       "    <tr>\n",
       "      <th>AccSg</th>\n",
       "      <td>11448</td>\n",
       "      <td>0.069079</td>\n",
       "      <td>6.91%</td>\n",
       "    </tr>\n",
       "    <tr>\n",
       "      <th>DatSg</th>\n",
       "      <td>9081</td>\n",
       "      <td>0.054796</td>\n",
       "      <td>5.48%</td>\n",
       "    </tr>\n",
       "    <tr>\n",
       "      <th>Loc2Sg</th>\n",
       "      <td>1284</td>\n",
       "      <td>0.007748</td>\n",
       "      <td>0.77%</td>\n",
       "    </tr>\n",
       "  </tbody>\n",
       "</table>\n",
       "</div>"
      ],
      "text/plain": [
       "        caseOcc  caseFreq   case%\n",
       "NomSg     60903  0.367497  36.75%\n",
       "GenSg     47795  0.288401  28.84%\n",
       "LocSg     19557  0.118009  11.80%\n",
       "InstSg    15656  0.094470   9.45%\n",
       "AccSg     11448  0.069079   6.91%\n",
       "DatSg      9081  0.054796   5.48%\n",
       "Loc2Sg     1284  0.007748   0.77%"
      ]
     },
     "metadata": {},
     "output_type": "display_data"
    },
    {
     "name": "stdout",
     "output_type": "stream",
     "text": [
      "\n",
      "Proportion des cas au Pl\n"
     ]
    },
    {
     "data": {
      "text/html": [
       "<div>\n",
       "<table border=\"1\" class=\"dataframe\">\n",
       "  <thead>\n",
       "    <tr style=\"text-align: right;\">\n",
       "      <th></th>\n",
       "      <th>caseOcc</th>\n",
       "      <th>caseFreq</th>\n",
       "      <th>case%</th>\n",
       "    </tr>\n",
       "  </thead>\n",
       "  <tbody>\n",
       "    <tr>\n",
       "      <th>NomPl</th>\n",
       "      <td>24932</td>\n",
       "      <td>0.384789</td>\n",
       "      <td>38.48%</td>\n",
       "    </tr>\n",
       "    <tr>\n",
       "      <th>GenPl</th>\n",
       "      <td>24033</td>\n",
       "      <td>0.370914</td>\n",
       "      <td>37.09%</td>\n",
       "    </tr>\n",
       "    <tr>\n",
       "      <th>InstPl</th>\n",
       "      <td>5848</td>\n",
       "      <td>0.090255</td>\n",
       "      <td>9.03%</td>\n",
       "    </tr>\n",
       "    <tr>\n",
       "      <th>LocPl</th>\n",
       "      <td>5656</td>\n",
       "      <td>0.087292</td>\n",
       "      <td>8.73%</td>\n",
       "    </tr>\n",
       "    <tr>\n",
       "      <th>DatPl</th>\n",
       "      <td>3259</td>\n",
       "      <td>0.050298</td>\n",
       "      <td>5.03%</td>\n",
       "    </tr>\n",
       "    <tr>\n",
       "      <th>AccPl</th>\n",
       "      <td>1066</td>\n",
       "      <td>0.016452</td>\n",
       "      <td>1.65%</td>\n",
       "    </tr>\n",
       "  </tbody>\n",
       "</table>\n",
       "</div>"
      ],
      "text/plain": [
       "        caseOcc  caseFreq   case%\n",
       "NomPl     24932  0.384789  38.48%\n",
       "GenPl     24033  0.370914  37.09%\n",
       "InstPl     5848  0.090255   9.03%\n",
       "LocPl      5656  0.087292   8.73%\n",
       "DatPl      3259  0.050298   5.03%\n",
       "AccPl      1066  0.016452   1.65%"
      ]
     },
     "metadata": {},
     "output_type": "display_data"
    }
   ],
   "source": [
    "caseFreqs[\"case%\"]=caseFreqs[\"caseFreq\"].apply(as_percent)\n",
    "print \"Proportion des cas au Sg\"\n",
    "display(caseFreqs[caseFreqs.index.isin(lstCasesSg)].sort_values(by=\"caseFreq\",ascending=False))\n",
    "print\n",
    "print \"Proportion des cas au Pl\"\n",
    "display(caseFreqs[caseFreqs.index.isin(lstCasesPl)].sort_values(by=\"caseFreq\",ascending=False))"
   ]
  },
  {
   "cell_type": "markdown",
   "metadata": {},
   "source": [
    "## Mettre le tableau en forme de lexique\n",
    "- décroiser le tableau en liste de formes\n",
    "- ajouter une colonne avec la fréquence ajustée\n",
    "- calculer les fréquences cumulées et le max pour le tirage aléatoire"
   ]
  },
  {
   "cell_type": "markdown",
   "metadata": {},
   "source": [
    "### Formater le tableau\n",
    "  - décroiser le tableau\n",
    "  - renommer les colonnes => case, rawFreq"
   ]
  },
  {
   "cell_type": "code",
   "execution_count": 122,
   "metadata": {
    "collapsed": false
   },
   "outputs": [],
   "source": [
    "lexique=pd.melt(pdRussianFreqs[[\"Gloss\"]+lstCases+[\"Sg\",\"Pl\"]],id_vars=[\"Gloss\",\"Sg\",\"Pl\"])\n",
    "lexique=lexique.rename(columns = {'variable':'case',\"value\":\"rawFreq\"})"
   ]
  },
  {
   "cell_type": "code",
   "execution_count": 123,
   "metadata": {
    "collapsed": false
   },
   "outputs": [],
   "source": [
    "lexique=pd.melt(pdRussianFreqs[[\"Gloss\",\"NM class\",\"Animacy\"]+lstCases+[\"Sg\",\"Pl\"]],id_vars=[\"Gloss\",\"NM class\",\"Animacy\",\"Sg\",\"Pl\"])\n",
    "lexique=lexique.rename(columns = {'variable':'case',\"value\":\"rawFreq\"})"
   ]
  },
  {
   "cell_type": "markdown",
   "metadata": {},
   "source": [
    "### Ajouter les fréquences ajustées\n"
   ]
  },
  {
   "cell_type": "code",
   "execution_count": 124,
   "metadata": {
    "collapsed": false,
    "scrolled": true
   },
   "outputs": [],
   "source": [
    "lexique[\"adjFreq\"]=lexique.apply(freqsAdjust,axis=1)\n",
    "#lexique"
   ]
  },
  {
   "cell_type": "markdown",
   "metadata": {},
   "source": [
    "### Ajouter les fréquences fréquences cumulées\n",
    "- fréquences cumulées\n",
    "- max\n"
   ]
  },
  {
   "cell_type": "code",
   "execution_count": 125,
   "metadata": {
    "collapsed": false
   },
   "outputs": [
    {
     "data": {
      "text/plain": [
       "231310848615"
      ]
     },
     "execution_count": 125,
     "metadata": {},
     "output_type": "execute_result"
    }
   ],
   "source": [
    "if freqsBrutes:\n",
    "    lexique[\"freqcum\"]=lexique.rawFreq.cumsum()\n",
    "else:\n",
    "    lexique[\"freqcum\"]=lexique.adjFreq.cumsum()\n",
    "nbOccurrences=lexique.freqcum.max()\n",
    "nbOccurrences"
   ]
  },
  {
   "cell_type": "markdown",
   "metadata": {},
   "source": [
    "### Incrémentation des formes choisies par le tirage\n",
    "- tri du tirage\n",
    "- identification de la forme courante\n",
    "  - incrémentation de la forme courante"
   ]
  },
  {
   "cell_type": "code",
   "execution_count": 126,
   "metadata": {
    "collapsed": true
   },
   "outputs": [],
   "source": [
    "def tirage2triage(tirage):    \n",
    "    triage=sorted(tirage)\n",
    "#    print triage[0:10]\n",
    "    freqTop=0\n",
    "    indexMin=0\n",
    "    tirs={}\n",
    "\n",
    "    for num,tir in enumerate(triage[:]):\n",
    "        if tir > freqTop:\n",
    "            indexMin=lexique[lexique[\"freqcum\"]>=tir].iloc[0].name\n",
    "            freqTop=lexique.ix[indexMin,'freqcum']\n",
    "            tirs[indexMin]=0\n",
    "        tirs[indexMin] += 1\n",
    "        if debug and num%500000==0:\n",
    "            print num,\n",
    "    print\n",
    "    for indexNum in tirs:\n",
    "        lexique.ix[indexNum,'tir1']+=tirs[indexNum]"
   ]
  },
  {
   "cell_type": "markdown",
   "metadata": {},
   "source": [
    "- on ajoute 1 à l'élément aléatoire pour ne pas démarrer avec un élément de fréquence nulle."
   ]
  },
  {
   "cell_type": "code",
   "execution_count": 127,
   "metadata": {
    "collapsed": false
   },
   "outputs": [],
   "source": [
    "def creationSample(numero):\n",
    "    lexique[\"tir1\"]=0\n",
    "    tirage=[]\n",
    "    for n in range(nbMillions*million):\n",
    "        tirage.append(random.randrange(nbOccurrences)+1)\n",
    "    tirage2triage(tirage)\n",
    "    with open(\"/Users/gilles/ownCloud/Recherche/Boye/Russian-Data/\"+tiragePrefix+echantillon+\"-%d\"%numero+'-Tirage.pkl', 'wb') as output:\n",
    "        pickle.dump(lexique, output, pickle.HIGHEST_PROTOCOL)\n",
    "    with open(\"/Users/gilles/ownCloud/Recherche/Boye/Russian-Data/\"+tiragePrefix+echantillon+\"-%d\"%numero+'-Nums.pkl', 'wb') as output:\n",
    "        pickle.dump(tirage, output, pickle.HIGHEST_PROTOCOL)"
   ]
  },
  {
   "cell_type": "code",
   "execution_count": 128,
   "metadata": {
    "collapsed": false
   },
   "outputs": [
    {
     "name": "stdout",
     "output_type": "stream",
     "text": [
      "Numéro : 0\n",
      "\n",
      "Numéro : 1\n",
      "\n",
      "Numéro : 2\n",
      "\n",
      "Numéro : 3\n",
      "\n",
      "Numéro : 4\n",
      "\n",
      "Numéro : 5\n",
      "\n",
      "Numéro : 6\n",
      "\n",
      "Numéro : 7\n",
      "\n",
      "Numéro : 8\n",
      "\n",
      "Numéro : 9\n",
      "\n",
      "Numéro : 10\n",
      "\n",
      "Numéro : 11\n",
      "\n",
      "Numéro : 12\n",
      "\n",
      "Numéro : 13\n",
      "\n",
      "Numéro : 14\n",
      "\n",
      "Numéro : 15\n",
      "\n",
      "Numéro : 16\n",
      "\n",
      "Numéro : 17\n",
      "\n",
      "Numéro : 18\n",
      "\n",
      "Numéro : 19\n",
      "\n",
      "Numéro : 20\n",
      "\n",
      "Numéro : 21\n",
      "\n",
      "Numéro : 22\n",
      "\n",
      "Numéro : 23\n",
      "\n",
      "Numéro : 24\n",
      "\n",
      "Numéro : 25\n",
      "\n",
      "Numéro : 26\n",
      "\n",
      "Numéro : 27\n",
      "\n",
      "Numéro : 28\n",
      "\n",
      "Numéro : 29\n",
      "\n",
      "Numéro : 30\n",
      "\n",
      "Numéro : 31\n",
      "\n",
      "Numéro : 32\n",
      "\n",
      "Numéro : 33\n",
      "\n",
      "Numéro : 34\n",
      "\n",
      "Numéro : 35\n",
      "\n",
      "Numéro : 36\n",
      "\n",
      "Numéro : 37\n",
      "\n",
      "Numéro : 38\n",
      "\n",
      "Numéro : 39\n",
      "\n",
      "Numéro : 40\n",
      "\n",
      "Numéro : 41\n",
      "\n",
      "Numéro : 42\n",
      "\n",
      "Numéro : 43\n",
      "\n",
      "Numéro : 44\n",
      "\n",
      "Numéro : 45\n",
      "\n",
      "Numéro : 46\n",
      "\n",
      "Numéro : 47\n",
      "\n",
      "Numéro : 48\n",
      "\n",
      "Numéro : 49\n",
      "\n"
     ]
    }
   ],
   "source": [
    "for sample in range(nbSamples):\n",
    "    print \"Numéro :\",sample\n",
    "    creationSample(sample)"
   ]
  },
  {
   "cell_type": "code",
   "execution_count": null,
   "metadata": {
    "collapsed": true
   },
   "outputs": [],
   "source": []
  }
 ],
 "metadata": {
  "kernelspec": {
   "display_name": "Python 2",
   "language": "python",
   "name": "python2"
  },
  "language_info": {
   "codemirror_mode": {
    "name": "ipython",
    "version": 2
   },
   "file_extension": ".py",
   "mimetype": "text/x-python",
   "name": "python",
   "nbconvert_exporter": "python",
   "pygments_lexer": "ipython2",
   "version": "2.7.11"
  }
 },
 "nbformat": 4,
 "nbformat_minor": 0
}
