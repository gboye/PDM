{
 "cells": [
  {
   "cell_type": "markdown",
   "metadata": {},
   "source": [
    "# Paradigmes complets dans les échantillons de russe\n",
    "Le but est de trouver le nombre de paradigmes complets en fonction de la taille de l'échantillon"
   ]
  },
  {
   "cell_type": "code",
   "execution_count": 442,
   "metadata": {
    "collapsed": true
   },
   "outputs": [],
   "source": [
    "# -*- coding: utf8 -*-\n",
    "import pandas as pd\n",
    "import pickle, glob"
   ]
  },
  {
   "cell_type": "markdown",
   "metadata": {},
   "source": [
    "- display permet d'afficher des objets à la demande sans passer par print"
   ]
  },
  {
   "cell_type": "code",
   "execution_count": 443,
   "metadata": {
    "collapsed": true
   },
   "outputs": [],
   "source": [
    "from IPython.display import display\n",
    "debug=False"
   ]
  },
  {
   "cell_type": "code",
   "execution_count": 444,
   "metadata": {
    "collapsed": true
   },
   "outputs": [],
   "source": [
    "million=1000000\n",
    "nbMillions=1\n",
    "tailleEchantillons=\"%dMo\"%nbMillions\n",
    "echantillons=\"160804-1\"\n",
    "tiragesJour=5000\n",
    "joursAn=365"
   ]
  },
  {
   "cell_type": "code",
   "execution_count": 445,
   "metadata": {
    "collapsed": false
   },
   "outputs": [],
   "source": [
    "def lireLexique(nomLexique):\n",
    "    with open(nomLexique, 'rb') as input:\n",
    "        lexique=pickle.load(input)\n",
    "    return lexique"
   ]
  },
  {
   "cell_type": "code",
   "execution_count": 446,
   "metadata": {
    "collapsed": true
   },
   "outputs": [],
   "source": [
    "listeTiragesFichiers=glob.glob(\"/Users/gilles/ownCloud/Recherche/Boye/Russian-Data/*-Tirage.pkl\")"
   ]
  },
  {
   "cell_type": "code",
   "execution_count": 447,
   "metadata": {
    "collapsed": false
   },
   "outputs": [],
   "source": [
    "def tiragesNom(nom):\n",
    "    result=[tirage for tirage in listeTiragesFichiers if nom in tirage]\n",
    "    return result"
   ]
  },
  {
   "cell_type": "code",
   "execution_count": 448,
   "metadata": {
    "collapsed": false
   },
   "outputs": [],
   "source": [
    "def nbFormesEchantillons(nom):\n",
    "    print nom\n",
    "    for tirage in tiragesNom(nom):\n",
    "        sample=lireLexique(tirage)\n",
    "        print sample[sample[\"tir1\"]>0][\"tir1\"].count(),\n",
    "        print sample[sample[\"tir1\"]>0][\"tir1\"].sum(),\n",
    "        print tirage"
   ]
  },
  {
   "cell_type": "code",
   "execution_count": 449,
   "metadata": {
    "collapsed": false
   },
   "outputs": [],
   "source": [
    "def exemplairesClasse(row):\n",
    "    return row.sum()"
   ]
  },
  {
   "cell_type": "code",
   "execution_count": 450,
   "metadata": {
    "collapsed": true
   },
   "outputs": [],
   "source": [
    "def completeParadigm(row):\n",
    "    return row.min()"
   ]
  },
  {
   "cell_type": "code",
   "execution_count": 451,
   "metadata": {
    "collapsed": false
   },
   "outputs": [
    {
     "data": {
      "text/plain": [
       "50"
      ]
     },
     "execution_count": 451,
     "metadata": {},
     "output_type": "execute_result"
    }
   ],
   "source": [
    "listeTirages=tiragesNom(echantillons)\n",
    "len(listeTirages)"
   ]
  },
  {
   "cell_type": "code",
   "execution_count": 452,
   "metadata": {
    "collapsed": true
   },
   "outputs": [],
   "source": [
    "def compteParadigmesComplets(lexique,returnParadigmes=False):\n",
    "    paradigmes=pd.pivot_table(lexique,values=\"tir1\",columns=[\"case\"],index=[\"Gloss\",\"NM class\",\"Animacy\"],aggfunc=sum)\n",
    "    paradigmes[\"min\"]=paradigmes.apply(completeParadigm,axis=1)\n",
    "    nbClasses=paradigmes[[\"min\"]].unstack(level=0)\n",
    "    nbClasses[\"nbExemplaires\"]=nbClasses.apply(exemplairesClasse,axis=1)\n",
    "    if returnParadigmes:\n",
    "        return (paradigmes[paradigmes[\"min\"]>0],nbClasses[nbClasses[\"nbExemplaires\"]>0])\n",
    "    else:  \n",
    "        return (len(paradigmes[paradigmes[\"min\"]>0]), len(nbClasses[nbClasses[\"nbExemplaires\"]>0]))"
   ]
  },
  {
   "cell_type": "code",
   "execution_count": 453,
   "metadata": {
    "collapsed": true
   },
   "outputs": [],
   "source": [
    "lstTirAgesParadigmes=[]"
   ]
  },
  {
   "cell_type": "code",
   "execution_count": 454,
   "metadata": {
    "collapsed": false
   },
   "outputs": [],
   "source": [
    "nomLexique0=listeTirages.pop(0)\n",
    "lexique=lireLexique(nomLexique0)\n",
    "tirage=1\n",
    "age=float(\"%3.1f\"%(float(nbMillions)*million/tiragesJour/joursAn))\n",
    "taille=lexique[lexique[\"tir1\"]>0][\"tir1\"].count()\n",
    "nbParadigmesComplets,nbClassesCompletes=compteParadigmesComplets(lexique)\n",
    "#print \"nbMTirages\",nbMillions*tirage,\"années\",nbMillions*million/tiragesJour/joursAn,\"nbFormes\",taille, \"nbParadigmesComplets\",nbParadigmesComplets\n",
    "if debug: print \" \".join([\"%dM tirages,\"%(nbMillions),\n",
    "       \"%3.1f années,\"%age,\"nbFormes %d,\"%taille, \n",
    "       \"Paradigmes complets %d,\"%nbParadigmesComplets,\n",
    "       \"Classes complètes %d\"%nbClassesCompletes])  \n",
    "lstTirAgesParadigmes.append([nbMillions*tirage,\n",
    "                             age,taille,\n",
    "                             nbParadigmesComplets,nbClassesCompletes])"
   ]
  },
  {
   "cell_type": "code",
   "execution_count": 455,
   "metadata": {
    "collapsed": false
   },
   "outputs": [],
   "source": [
    "for numero,tirage in enumerate(listeTirages):\n",
    "#    print tirage\n",
    "    ajout=lireLexique(tirage)\n",
    "    lexique[\"tir1\"]=lexique[\"tir1\"]+ajout[\"tir1\"]\n",
    "    age=float(\"%3.1f\"%(float(nbMillions)*(numero+2)*million/tiragesJour/joursAn))\n",
    "    taille=lexique[lexique[\"tir1\"]>0][\"tir1\"].count()\n",
    "    nbParadigmesComplets,nbClassesCompletes=compteParadigmesComplets(lexique)\n",
    "    if debug: print \" \".join([\"%dM de tirages,\"%(nbMillions*(numero+2)),\n",
    "           \"%3.1f année(s),\"%age,\"nbFormes %d,\"%taille, \n",
    "           \"Paradigmes complets %d,\"%nbParadigmesComplets,\n",
    "           \"Classes complètes %d\"%nbClassesCompletes])           \n",
    "    lstTirAgesParadigmes.append([nbMillions*(numero+2),\n",
    "                                 age,taille,\n",
    "                                 nbParadigmesComplets,nbClassesCompletes])"
   ]
  },
  {
   "cell_type": "code",
   "execution_count": 456,
   "metadata": {
    "collapsed": false
   },
   "outputs": [],
   "source": [
    "#print \", \".join(compteParadigmesComplets(lexique,True).sort_values(by=\"min\",ascending=False).index.tolist())"
   ]
  },
  {
   "cell_type": "code",
   "execution_count": 457,
   "metadata": {
    "collapsed": true
   },
   "outputs": [],
   "source": [
    "dfTirAgesParadigmes=pd.DataFrame(lstTirAgesParadigmes,columns=[\"tirages\",\"age\",\"formes\",\"paradigmes\",\"classes\"])"
   ]
  },
  {
   "cell_type": "code",
   "execution_count": 458,
   "metadata": {
    "collapsed": true
   },
   "outputs": [],
   "source": [
    "import matplotlib.pyplot as plt\n",
    "%matplotlib inline"
   ]
  },
  {
   "cell_type": "code",
   "execution_count": 459,
   "metadata": {
    "collapsed": false
   },
   "outputs": [
    {
     "data": {
      "text/html": [
       "<div>\n",
       "<table border=\"1\" class=\"dataframe\">\n",
       "  <thead>\n",
       "    <tr style=\"text-align: right;\">\n",
       "      <th></th>\n",
       "      <th>tirages</th>\n",
       "      <th>age</th>\n",
       "      <th>formes</th>\n",
       "      <th>paradigmes</th>\n",
       "      <th>classes</th>\n",
       "    </tr>\n",
       "  </thead>\n",
       "  <tbody>\n",
       "    <tr>\n",
       "      <th>0</th>\n",
       "      <td>1</td>\n",
       "      <td>0.5</td>\n",
       "      <td>30214</td>\n",
       "      <td>20</td>\n",
       "      <td>10</td>\n",
       "    </tr>\n",
       "    <tr>\n",
       "      <th>1</th>\n",
       "      <td>2</td>\n",
       "      <td>1.1</td>\n",
       "      <td>31402</td>\n",
       "      <td>56</td>\n",
       "      <td>13</td>\n",
       "    </tr>\n",
       "    <tr>\n",
       "      <th>2</th>\n",
       "      <td>3</td>\n",
       "      <td>1.6</td>\n",
       "      <td>32352</td>\n",
       "      <td>100</td>\n",
       "      <td>13</td>\n",
       "    </tr>\n",
       "    <tr>\n",
       "      <th>3</th>\n",
       "      <td>4</td>\n",
       "      <td>2.2</td>\n",
       "      <td>33240</td>\n",
       "      <td>135</td>\n",
       "      <td>15</td>\n",
       "    </tr>\n",
       "    <tr>\n",
       "      <th>4</th>\n",
       "      <td>5</td>\n",
       "      <td>2.7</td>\n",
       "      <td>34016</td>\n",
       "      <td>176</td>\n",
       "      <td>17</td>\n",
       "    </tr>\n",
       "    <tr>\n",
       "      <th>5</th>\n",
       "      <td>6</td>\n",
       "      <td>3.3</td>\n",
       "      <td>34780</td>\n",
       "      <td>222</td>\n",
       "      <td>18</td>\n",
       "    </tr>\n",
       "    <tr>\n",
       "      <th>6</th>\n",
       "      <td>7</td>\n",
       "      <td>3.8</td>\n",
       "      <td>35514</td>\n",
       "      <td>246</td>\n",
       "      <td>19</td>\n",
       "    </tr>\n",
       "    <tr>\n",
       "      <th>7</th>\n",
       "      <td>8</td>\n",
       "      <td>4.4</td>\n",
       "      <td>36190</td>\n",
       "      <td>282</td>\n",
       "      <td>19</td>\n",
       "    </tr>\n",
       "    <tr>\n",
       "      <th>8</th>\n",
       "      <td>9</td>\n",
       "      <td>4.9</td>\n",
       "      <td>36811</td>\n",
       "      <td>306</td>\n",
       "      <td>19</td>\n",
       "    </tr>\n",
       "    <tr>\n",
       "      <th>9</th>\n",
       "      <td>10</td>\n",
       "      <td>5.5</td>\n",
       "      <td>37464</td>\n",
       "      <td>344</td>\n",
       "      <td>20</td>\n",
       "    </tr>\n",
       "    <tr>\n",
       "      <th>10</th>\n",
       "      <td>11</td>\n",
       "      <td>6.0</td>\n",
       "      <td>38096</td>\n",
       "      <td>372</td>\n",
       "      <td>20</td>\n",
       "    </tr>\n",
       "    <tr>\n",
       "      <th>11</th>\n",
       "      <td>12</td>\n",
       "      <td>6.6</td>\n",
       "      <td>38667</td>\n",
       "      <td>410</td>\n",
       "      <td>20</td>\n",
       "    </tr>\n",
       "    <tr>\n",
       "      <th>12</th>\n",
       "      <td>13</td>\n",
       "      <td>7.1</td>\n",
       "      <td>39191</td>\n",
       "      <td>441</td>\n",
       "      <td>21</td>\n",
       "    </tr>\n",
       "    <tr>\n",
       "      <th>13</th>\n",
       "      <td>14</td>\n",
       "      <td>7.7</td>\n",
       "      <td>39784</td>\n",
       "      <td>479</td>\n",
       "      <td>21</td>\n",
       "    </tr>\n",
       "    <tr>\n",
       "      <th>14</th>\n",
       "      <td>15</td>\n",
       "      <td>8.2</td>\n",
       "      <td>40250</td>\n",
       "      <td>510</td>\n",
       "      <td>21</td>\n",
       "    </tr>\n",
       "    <tr>\n",
       "      <th>15</th>\n",
       "      <td>16</td>\n",
       "      <td>8.8</td>\n",
       "      <td>40711</td>\n",
       "      <td>545</td>\n",
       "      <td>21</td>\n",
       "    </tr>\n",
       "    <tr>\n",
       "      <th>16</th>\n",
       "      <td>17</td>\n",
       "      <td>9.3</td>\n",
       "      <td>41166</td>\n",
       "      <td>574</td>\n",
       "      <td>21</td>\n",
       "    </tr>\n",
       "    <tr>\n",
       "      <th>17</th>\n",
       "      <td>18</td>\n",
       "      <td>9.9</td>\n",
       "      <td>41608</td>\n",
       "      <td>609</td>\n",
       "      <td>21</td>\n",
       "    </tr>\n",
       "    <tr>\n",
       "      <th>18</th>\n",
       "      <td>19</td>\n",
       "      <td>10.4</td>\n",
       "      <td>42007</td>\n",
       "      <td>635</td>\n",
       "      <td>21</td>\n",
       "    </tr>\n",
       "    <tr>\n",
       "      <th>19</th>\n",
       "      <td>20</td>\n",
       "      <td>11.0</td>\n",
       "      <td>42413</td>\n",
       "      <td>660</td>\n",
       "      <td>21</td>\n",
       "    </tr>\n",
       "    <tr>\n",
       "      <th>20</th>\n",
       "      <td>21</td>\n",
       "      <td>11.5</td>\n",
       "      <td>42822</td>\n",
       "      <td>690</td>\n",
       "      <td>22</td>\n",
       "    </tr>\n",
       "    <tr>\n",
       "      <th>21</th>\n",
       "      <td>22</td>\n",
       "      <td>12.1</td>\n",
       "      <td>43195</td>\n",
       "      <td>714</td>\n",
       "      <td>22</td>\n",
       "    </tr>\n",
       "    <tr>\n",
       "      <th>22</th>\n",
       "      <td>23</td>\n",
       "      <td>12.6</td>\n",
       "      <td>43551</td>\n",
       "      <td>733</td>\n",
       "      <td>22</td>\n",
       "    </tr>\n",
       "    <tr>\n",
       "      <th>23</th>\n",
       "      <td>24</td>\n",
       "      <td>13.2</td>\n",
       "      <td>43950</td>\n",
       "      <td>761</td>\n",
       "      <td>22</td>\n",
       "    </tr>\n",
       "    <tr>\n",
       "      <th>24</th>\n",
       "      <td>25</td>\n",
       "      <td>13.7</td>\n",
       "      <td>44331</td>\n",
       "      <td>791</td>\n",
       "      <td>22</td>\n",
       "    </tr>\n",
       "    <tr>\n",
       "      <th>25</th>\n",
       "      <td>26</td>\n",
       "      <td>14.2</td>\n",
       "      <td>44665</td>\n",
       "      <td>807</td>\n",
       "      <td>22</td>\n",
       "    </tr>\n",
       "    <tr>\n",
       "      <th>26</th>\n",
       "      <td>27</td>\n",
       "      <td>14.8</td>\n",
       "      <td>44992</td>\n",
       "      <td>828</td>\n",
       "      <td>22</td>\n",
       "    </tr>\n",
       "    <tr>\n",
       "      <th>27</th>\n",
       "      <td>28</td>\n",
       "      <td>15.3</td>\n",
       "      <td>45331</td>\n",
       "      <td>857</td>\n",
       "      <td>22</td>\n",
       "    </tr>\n",
       "    <tr>\n",
       "      <th>28</th>\n",
       "      <td>29</td>\n",
       "      <td>15.9</td>\n",
       "      <td>45654</td>\n",
       "      <td>881</td>\n",
       "      <td>22</td>\n",
       "    </tr>\n",
       "    <tr>\n",
       "      <th>29</th>\n",
       "      <td>30</td>\n",
       "      <td>16.4</td>\n",
       "      <td>45987</td>\n",
       "      <td>904</td>\n",
       "      <td>22</td>\n",
       "    </tr>\n",
       "    <tr>\n",
       "      <th>30</th>\n",
       "      <td>31</td>\n",
       "      <td>17.0</td>\n",
       "      <td>46279</td>\n",
       "      <td>925</td>\n",
       "      <td>22</td>\n",
       "    </tr>\n",
       "    <tr>\n",
       "      <th>31</th>\n",
       "      <td>32</td>\n",
       "      <td>17.5</td>\n",
       "      <td>46597</td>\n",
       "      <td>946</td>\n",
       "      <td>22</td>\n",
       "    </tr>\n",
       "    <tr>\n",
       "      <th>32</th>\n",
       "      <td>33</td>\n",
       "      <td>18.1</td>\n",
       "      <td>46875</td>\n",
       "      <td>961</td>\n",
       "      <td>22</td>\n",
       "    </tr>\n",
       "    <tr>\n",
       "      <th>33</th>\n",
       "      <td>34</td>\n",
       "      <td>18.6</td>\n",
       "      <td>47163</td>\n",
       "      <td>983</td>\n",
       "      <td>22</td>\n",
       "    </tr>\n",
       "    <tr>\n",
       "      <th>34</th>\n",
       "      <td>35</td>\n",
       "      <td>19.2</td>\n",
       "      <td>47428</td>\n",
       "      <td>1000</td>\n",
       "      <td>22</td>\n",
       "    </tr>\n",
       "    <tr>\n",
       "      <th>35</th>\n",
       "      <td>36</td>\n",
       "      <td>19.7</td>\n",
       "      <td>47696</td>\n",
       "      <td>1032</td>\n",
       "      <td>22</td>\n",
       "    </tr>\n",
       "    <tr>\n",
       "      <th>36</th>\n",
       "      <td>37</td>\n",
       "      <td>20.3</td>\n",
       "      <td>47974</td>\n",
       "      <td>1059</td>\n",
       "      <td>23</td>\n",
       "    </tr>\n",
       "    <tr>\n",
       "      <th>37</th>\n",
       "      <td>38</td>\n",
       "      <td>20.8</td>\n",
       "      <td>48222</td>\n",
       "      <td>1077</td>\n",
       "      <td>23</td>\n",
       "    </tr>\n",
       "    <tr>\n",
       "      <th>38</th>\n",
       "      <td>39</td>\n",
       "      <td>21.4</td>\n",
       "      <td>48459</td>\n",
       "      <td>1095</td>\n",
       "      <td>23</td>\n",
       "    </tr>\n",
       "    <tr>\n",
       "      <th>39</th>\n",
       "      <td>40</td>\n",
       "      <td>21.9</td>\n",
       "      <td>48691</td>\n",
       "      <td>1117</td>\n",
       "      <td>24</td>\n",
       "    </tr>\n",
       "    <tr>\n",
       "      <th>40</th>\n",
       "      <td>41</td>\n",
       "      <td>22.5</td>\n",
       "      <td>48928</td>\n",
       "      <td>1141</td>\n",
       "      <td>24</td>\n",
       "    </tr>\n",
       "    <tr>\n",
       "      <th>41</th>\n",
       "      <td>42</td>\n",
       "      <td>23.0</td>\n",
       "      <td>49178</td>\n",
       "      <td>1165</td>\n",
       "      <td>24</td>\n",
       "    </tr>\n",
       "    <tr>\n",
       "      <th>42</th>\n",
       "      <td>43</td>\n",
       "      <td>23.6</td>\n",
       "      <td>49400</td>\n",
       "      <td>1179</td>\n",
       "      <td>24</td>\n",
       "    </tr>\n",
       "    <tr>\n",
       "      <th>43</th>\n",
       "      <td>44</td>\n",
       "      <td>24.1</td>\n",
       "      <td>49640</td>\n",
       "      <td>1201</td>\n",
       "      <td>24</td>\n",
       "    </tr>\n",
       "    <tr>\n",
       "      <th>44</th>\n",
       "      <td>45</td>\n",
       "      <td>24.7</td>\n",
       "      <td>49866</td>\n",
       "      <td>1223</td>\n",
       "      <td>25</td>\n",
       "    </tr>\n",
       "    <tr>\n",
       "      <th>45</th>\n",
       "      <td>46</td>\n",
       "      <td>25.2</td>\n",
       "      <td>50078</td>\n",
       "      <td>1243</td>\n",
       "      <td>25</td>\n",
       "    </tr>\n",
       "    <tr>\n",
       "      <th>46</th>\n",
       "      <td>47</td>\n",
       "      <td>25.8</td>\n",
       "      <td>50320</td>\n",
       "      <td>1264</td>\n",
       "      <td>25</td>\n",
       "    </tr>\n",
       "    <tr>\n",
       "      <th>47</th>\n",
       "      <td>48</td>\n",
       "      <td>26.3</td>\n",
       "      <td>50540</td>\n",
       "      <td>1289</td>\n",
       "      <td>25</td>\n",
       "    </tr>\n",
       "    <tr>\n",
       "      <th>48</th>\n",
       "      <td>49</td>\n",
       "      <td>26.8</td>\n",
       "      <td>50743</td>\n",
       "      <td>1304</td>\n",
       "      <td>25</td>\n",
       "    </tr>\n",
       "    <tr>\n",
       "      <th>49</th>\n",
       "      <td>50</td>\n",
       "      <td>27.4</td>\n",
       "      <td>50954</td>\n",
       "      <td>1323</td>\n",
       "      <td>25</td>\n",
       "    </tr>\n",
       "  </tbody>\n",
       "</table>\n",
       "</div>"
      ],
      "text/plain": [
       "    tirages   age  formes  paradigmes  classes\n",
       "0         1   0.5   30214          20       10\n",
       "1         2   1.1   31402          56       13\n",
       "2         3   1.6   32352         100       13\n",
       "3         4   2.2   33240         135       15\n",
       "4         5   2.7   34016         176       17\n",
       "5         6   3.3   34780         222       18\n",
       "6         7   3.8   35514         246       19\n",
       "7         8   4.4   36190         282       19\n",
       "8         9   4.9   36811         306       19\n",
       "9        10   5.5   37464         344       20\n",
       "10       11   6.0   38096         372       20\n",
       "11       12   6.6   38667         410       20\n",
       "12       13   7.1   39191         441       21\n",
       "13       14   7.7   39784         479       21\n",
       "14       15   8.2   40250         510       21\n",
       "15       16   8.8   40711         545       21\n",
       "16       17   9.3   41166         574       21\n",
       "17       18   9.9   41608         609       21\n",
       "18       19  10.4   42007         635       21\n",
       "19       20  11.0   42413         660       21\n",
       "20       21  11.5   42822         690       22\n",
       "21       22  12.1   43195         714       22\n",
       "22       23  12.6   43551         733       22\n",
       "23       24  13.2   43950         761       22\n",
       "24       25  13.7   44331         791       22\n",
       "25       26  14.2   44665         807       22\n",
       "26       27  14.8   44992         828       22\n",
       "27       28  15.3   45331         857       22\n",
       "28       29  15.9   45654         881       22\n",
       "29       30  16.4   45987         904       22\n",
       "30       31  17.0   46279         925       22\n",
       "31       32  17.5   46597         946       22\n",
       "32       33  18.1   46875         961       22\n",
       "33       34  18.6   47163         983       22\n",
       "34       35  19.2   47428        1000       22\n",
       "35       36  19.7   47696        1032       22\n",
       "36       37  20.3   47974        1059       23\n",
       "37       38  20.8   48222        1077       23\n",
       "38       39  21.4   48459        1095       23\n",
       "39       40  21.9   48691        1117       24\n",
       "40       41  22.5   48928        1141       24\n",
       "41       42  23.0   49178        1165       24\n",
       "42       43  23.6   49400        1179       24\n",
       "43       44  24.1   49640        1201       24\n",
       "44       45  24.7   49866        1223       25\n",
       "45       46  25.2   50078        1243       25\n",
       "46       47  25.8   50320        1264       25\n",
       "47       48  26.3   50540        1289       25\n",
       "48       49  26.8   50743        1304       25\n",
       "49       50  27.4   50954        1323       25"
      ]
     },
     "execution_count": 459,
     "metadata": {},
     "output_type": "execute_result"
    }
   ],
   "source": [
    "dfTirAgesParadigmes"
   ]
  },
  {
   "cell_type": "code",
   "execution_count": 463,
   "metadata": {
    "collapsed": false
   },
   "outputs": [
    {
     "data": {
      "image/png": "[encoded data removed]",
      "text/plain": [
       "<matplotlib.figure.Figure at 0x10bf63d90>"
      ]
     },
     "metadata": {},
     "output_type": "display_data"
    }
   ],
   "source": [
    "#dfTirAgesParadigmes.plot(x=\"age\",y=[\"paradigmes\",\"formes\"])\n",
    "dfTirAgesParadigmes.interpolate(method=\"cubic\").plot(x=\"age\",y=[\"paradigmes\"])\n",
    "plt.xlim(0,30)\n",
    "plt.ylim(0,1500)\n",
    "plt.show()"
   ]
  },
  {
   "cell_type": "code",
   "execution_count": 464,
   "metadata": {
    "collapsed": false
   },
   "outputs": [
    {
     "data": {
      "text/plain": [
       "(0, 30)"
      ]
     },
     "execution_count": 464,
     "metadata": {},
     "output_type": "execute_result"
    },
    {
     "data": {
      "image/png": "[encoded data removed]",
      "text/plain": [
       "<matplotlib.figure.Figure at 0x10be8abd0>"
      ]
     },
     "metadata": {},
     "output_type": "display_data"
    }
   ],
   "source": [
    "dfTirAgesParadigmes.interpolate(method=\"cubic\").plot(x=\"age\",y=[\"classes\"])\n",
    "plt.ylim(0,30)\n",
    "plt.xlim(0,30)"
   ]
  },
  {
   "cell_type": "code",
   "execution_count": null,
   "metadata": {
    "collapsed": true
   },
   "outputs": [],
   "source": []
  }
 ],
 "metadata": {
  "kernelspec": {
   "display_name": "Python 2",
   "language": "python",
   "name": "python2"
  },
  "language_info": {
   "codemirror_mode": {
    "name": "ipython",
    "version": 2
   },
   "file_extension": ".py",
   "mimetype": "text/x-python",
   "name": "python",
   "nbconvert_exporter": "python",
   "pygments_lexer": "ipython2",
   "version": "2.7.11"
  }
 },
 "nbformat": 4,
 "nbformat_minor": 0
}
