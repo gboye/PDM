{
 "cells": [
  {
   "cell_type": "code",
   "execution_count": 1,
   "metadata": {
    "collapsed": true
   },
   "outputs": [],
   "source": [
    "import pandas as pd\n",
    "import random, pickle"
   ]
  },
  {
   "cell_type": "markdown",
   "metadata": {},
   "source": [
    "- définir les constantes\n",
    "  - *million*, *debug*\n",
    "  - facteurs de correction des fréquences :\n",
    "    - *cFreqForme* => fréquence de la forme individuelle\n",
    "    - *cFreqCases* => fréquence du lexème (Sg ou Pl)\n",
    "    - *cFreqNull* => fréquence minimale"
   ]
  },
  {
   "cell_type": "code",
   "execution_count": 2,
   "metadata": {
    "collapsed": true
   },
   "outputs": [],
   "source": [
    "million=1000000\n",
    "debug=False\n",
    "cFreqForme=1000000\n",
    "cFreqCases=1000\n",
    "cFreqNull=1"
   ]
  },
  {
   "cell_type": "markdown",
   "metadata": {},
   "source": [
    "- définir \n",
    " - la taille des échantillons *nbMillions*\n",
    " - le nombre d'échantillons *nbSamples*\n",
    " - la référence du tirage"
   ]
  },
  {
   "cell_type": "code",
   "execution_count": 3,
   "metadata": {
    "collapsed": true
   },
   "outputs": [],
   "source": [
    "nbMillions=25\n",
    "nbSamples=20\n",
    "tiragePrefix=\"MGC-160731-1\"\n",
    "echantillon=\"-%dMo\"%nbMillions"
   ]
  },
  {
   "cell_type": "markdown",
   "metadata": {},
   "source": [
    "- choisir le type de fréquences à utiliser\n",
    " - fréquences brutes\n",
    " - fréquences ajustées"
   ]
  },
  {
   "cell_type": "code",
   "execution_count": 4,
   "metadata": {
    "collapsed": true
   },
   "outputs": [],
   "source": [
    "freqsBrutes=False"
   ]
  },
  {
   "cell_type": "markdown",
   "metadata": {},
   "source": [
    "- lire le tableau de Uppsala dans un DataFrame\n",
    "- renommer le Inst2Pl pour éliminer l'espace final en trop"
   ]
  },
  {
   "cell_type": "code",
   "execution_count": 5,
   "metadata": {
    "collapsed": false,
    "scrolled": false
   },
   "outputs": [],
   "source": [
    "pdRussianFreqs=pd.read_csv(\"/Users/gilles/ownCloud/Recherche/Boye/Russian-Data/Uppsala-Nouns.csv\",sep=\",\",encoding=\"utf8\")\n",
    "pdRussianFreqs=pdRussianFreqs.rename(columns = {'Inst2Pl ':'Inst2Pl'})\n",
    "#pdRussianFreqs"
   ]
  },
  {
   "cell_type": "markdown",
   "metadata": {},
   "source": [
    "- lister les colonnes\n",
    " - *lstTitres* : toutes les colonnes\n",
    " - *lstCases* : toutes les cases\n",
    " - *lstCasesMarginales*: les cases exceptionnelles\n",
    " - *lstCasesPrincipales*: les cases centrales"
   ]
  },
  {
   "cell_type": "code",
   "execution_count": 6,
   "metadata": {
    "collapsed": false
   },
   "outputs": [],
   "source": [
    "lstTitres=pdRussianFreqs.columns.tolist()\n",
    "if debug: print lstTitres\n",
    "\n",
    "lstCases=lstTitres[6:-4]\n",
    "if debug: print  len(lstCases), lstCases\n",
    "\n",
    "if debug: print pdRussianFreqs[lstCases].sum()\n",
    "\n",
    "lstCasesMarginales=lstCases[2:3]+lstCases[4:5]+lstCases[7:8]+lstCases[9:11]+lstCases[12:13]+lstCases[14:16]+lstCases[17:18]+lstCases[20:21]\n",
    "if debug: print lstCasesMarginales\n",
    "\n",
    "lstCasesPrincipales=list(set(lstCases)-set(lstCasesMarginales))\n",
    "if debug: print lstCasesPrincipales"
   ]
  },
  {
   "cell_type": "markdown",
   "metadata": {},
   "source": [
    "### Calculer la fréquence ajustée\n",
    "- séparer les singuliers des pluriels qui ont chacun une fréquence pour le lexème\n",
    "- la fréquence ajustée est calculée avec trois termes :\n",
    "  1. fréquence de la forme\\*facteur forme\n",
    "  1. fréquence du lexème (Sg ou Pl)\\*fréquence case\\*facteur lexème\n",
    "  1. constante de fréquence minimale"
   ]
  },
  {
   "cell_type": "code",
   "execution_count": 7,
   "metadata": {
    "collapsed": true
   },
   "outputs": [],
   "source": [
    "def freqsAdjust(row):\n",
    "#    case=row[\"case\"].strip()\n",
    "    if case.endswith(\"Sg\") or case.endswith(\"Sg2\") or case==\"Vocative\":\n",
    "        lexFreq=row[\"Sg\"]\n",
    "    elif case.endswith(\"Pl\") or case.endswith(\"Pl2\"):\n",
    "        lexFreq=row[\"Pl\"]\n",
    "    else:\n",
    "        print \"PB avec l'identité de la case :\", [row[\"case\"]]\n",
    "    freqAdjusted=cFreqForme*row[\"rawFreq\"]+cFreqCases*caseFreq[case]*lexFreq+cFreqNull\n",
    "    return int(freqAdjusted)"
   ]
  },
  {
   "cell_type": "markdown",
   "metadata": {},
   "source": [
    "### Calcul des fréquences de cases\n",
    "- *caseFreqs* note le nombre d'occurrences de chaque case (pd.Series)\n",
    "- *casesOcc* note le nombre d'occurrences totales (int)\n",
    "- *caseFreq* note la fréquence de chaque case (dict)\n"
   ]
  },
  {
   "cell_type": "code",
   "execution_count": 8,
   "metadata": {
    "collapsed": false
   },
   "outputs": [],
   "source": [
    "caseFreqs=pd.DataFrame(pdRussianFreqs[lstCases].sum(),columns=[\"caseOcc\"])\n",
    "#caseFreqs"
   ]
  },
  {
   "cell_type": "code",
   "execution_count": 9,
   "metadata": {
    "collapsed": false
   },
   "outputs": [],
   "source": [
    "casesOcc=caseFreqs[\"caseOcc\"].sum()\n",
    "caseFreqs[\"caseFreq\"]=caseFreqs[\"caseOcc\"]/casesOcc\n",
    "caseFreq=caseFreqs[\"caseFreq\"].to_dict()\n",
    "#caseFreq"
   ]
  },
  {
   "cell_type": "markdown",
   "metadata": {},
   "source": [
    "- faire la liste des cases pour Sg et pour Pl pour gérer les fréquences de lexème séparément"
   ]
  },
  {
   "cell_type": "code",
   "execution_count": 10,
   "metadata": {
    "collapsed": false
   },
   "outputs": [
    {
     "name": "stdout",
     "output_type": "stream",
     "text": [
      "[u'NomSg', u'AccSg', u'Ref to NomSg', u'GenSg', u'Gen2Sg', u'DatSg', u'InstSg', u'InstSg2', u'LocSg', u'Loc2Sg', u'Vocative'] [u'NomPl', u'Nom2Pl', u'AccPl', u'Ref to Nom1Pl', u'Acc2Pl', u'GenPl', u'Gen2Pl', u'DatPl', u'InstPl', 'Inst2Pl', u'LocPl']\n"
     ]
    }
   ],
   "source": [
    "lstCasesSg=[case for case in lstCases if not \"Pl\" in case]\n",
    "lstCasesPl=[case for case in lstCases if \"Pl\" in case]\n",
    "print lstCasesSg,lstCasesPl"
   ]
  },
  {
   "cell_type": "markdown",
   "metadata": {},
   "source": [
    "- calculer les fréquences de cases séparément pour Sg et Pl"
   ]
  },
  {
   "cell_type": "code",
   "execution_count": 11,
   "metadata": {
    "collapsed": false
   },
   "outputs": [
    {
     "data": {
      "text/plain": [
       "{u'Acc2Pl': 7.381054309797611e-05,\n",
       " u'AccPl': 0.015736407788488508,\n",
       " u'AccSg': 0.067703990206341033,\n",
       " u'DatPl': 0.04810971199126083,\n",
       " u'DatSg': 0.053705445061476502,\n",
       " u'Gen2Pl': 0.0038824345669535437,\n",
       " u'Gen2Sg': 0.0010704421931645464,\n",
       " u'GenPl': 0.35477775645473197,\n",
       " u'GenSg': 0.2826617934933674,\n",
       " 'Inst2Pl': 0.00036905271548988059,\n",
       " u'InstPl': 0.086328811207392858,\n",
       " u'InstSg': 0.092590292686100223,\n",
       " u'InstSg2': 0.00024838990117630362,\n",
       " u'Loc2Sg': 0.0075936341216755673,\n",
       " u'LocPl': 0.083494486352430577,\n",
       " u'LocSg': 0.11566098326916595,\n",
       " u'Nom2Pl': 0.00053143591030542807,\n",
       " u'NomPl': 0.36804889210374808,\n",
       " u'NomSg': 0.36018309884143851,\n",
       " u'Ref to Nom1Pl': 0.038647200366100296,\n",
       " u'Ref to NomSg': 0.018558274045029542,\n",
       " u'Vocative': 2.3656181064409866e-05}"
      ]
     },
     "execution_count": 11,
     "metadata": {},
     "output_type": "execute_result"
    }
   ],
   "source": [
    "casesOccSg=caseFreqs[caseFreqs.index.isin(lstCasesSg)][\"caseOcc\"].sum()\n",
    "casesOccPl=caseFreqs[caseFreqs.index.isin(lstCasesPl)][\"caseOcc\"].sum()\n",
    "caseFreqs.loc[caseFreqs.index.isin(lstCasesSg),\"caseFreq\"]=caseFreqs[\"caseOcc\"]/casesOccSg\n",
    "caseFreqs.loc[caseFreqs.index.isin(lstCasesPl),\"caseFreq\"]=caseFreqs[\"caseOcc\"]/casesOccPl\n",
    "#caseFreqs[caseFreqs[lstCasesPl]][\"caseFreq\"]=caseFreqs[\"caseOcc\"]/casesOccPl\n",
    "caseFreq=caseFreqs[\"caseFreq\"].to_dict()\n",
    "caseFreq"
   ]
  },
  {
   "cell_type": "markdown",
   "metadata": {},
   "source": [
    "## Mettre le tableau en forme de lexique\n",
    "- décroiser le tableau en liste de formes\n",
    "- ajouter une colonne avec la fréquence ajustée\n",
    "- calculer les fréquences cumulées et le max pour le tirage aléatoire"
   ]
  },
  {
   "cell_type": "markdown",
   "metadata": {},
   "source": [
    "### Formater le tableau\n",
    "  - décroiser le tableau\n",
    "  - renommer les colonnes => case, rawFreq"
   ]
  },
  {
   "cell_type": "code",
   "execution_count": 12,
   "metadata": {
    "collapsed": false
   },
   "outputs": [],
   "source": [
    "lexique=pd.melt(pdRussianFreqs[[\"Gloss\"]+lstCases+[\"Sg\",\"Pl\"]],id_vars=[\"Gloss\",\"Sg\",\"Pl\"])\n",
    "lexique=lexique.rename(columns = {'variable':'case',\"value\":\"rawFreq\"})"
   ]
  },
  {
   "cell_type": "markdown",
   "metadata": {},
   "source": [
    "### Ajouter les fréquences ajustées\n"
   ]
  },
  {
   "cell_type": "code",
   "execution_count": 13,
   "metadata": {
    "collapsed": false,
    "scrolled": true
   },
   "outputs": [],
   "source": [
    "lexique[\"adjFreq\"]=lexique.apply(freqsAdjust,axis=1)\n",
    "#lexique"
   ]
  },
  {
   "cell_type": "markdown",
   "metadata": {},
   "source": [
    "### Ajouter les fréquences fréquences cumulées\n",
    "- fréquences cumulées\n",
    "- max\n"
   ]
  },
  {
   "cell_type": "code",
   "execution_count": 14,
   "metadata": {
    "collapsed": false
   },
   "outputs": [
    {
     "data": {
      "text/plain": [
       "236949648034"
      ]
     },
     "execution_count": 14,
     "metadata": {},
     "output_type": "execute_result"
    }
   ],
   "source": [
    "if freqsBrutes:\n",
    "    lexique[\"freqcum\"]=lexique.rawFreq.cumsum()\n",
    "else:\n",
    "    lexique[\"freqcum\"]=lexique.adjFreq.cumsum()\n",
    "nbOccurrences=lexique.freqcum.max()\n",
    "nbOccurrences"
   ]
  },
  {
   "cell_type": "markdown",
   "metadata": {},
   "source": [
    "### Incrémentation des formes choisies par le tirage\n",
    "- tri du tirage\n",
    "- identification de la forme courante\n",
    "  - incrémentation de la forme courante"
   ]
  },
  {
   "cell_type": "code",
   "execution_count": 15,
   "metadata": {
    "collapsed": true
   },
   "outputs": [],
   "source": [
    "def tirage2triage(tirage):    \n",
    "    triage=sorted(tirage)\n",
    "#    print triage[0:10]\n",
    "    freqTop=0\n",
    "    indexMin=0\n",
    "    tirs={}\n",
    "\n",
    "    for num,tir in enumerate(triage[:]):\n",
    "        if tir > freqTop:\n",
    "            indexMin=lexique[lexique[\"freqcum\"]>=tir].iloc[0].name\n",
    "            freqTop=lexique.ix[indexMin,'freqcum']\n",
    "            tirs[indexMin]=0\n",
    "        tirs[indexMin] += 1\n",
    "        if num%500000==0:\n",
    "            print num,\n",
    "    print\n",
    "    for indexNum in tirs:\n",
    "        lexique.ix[indexNum,'tir1']+=tirs[indexNum]"
   ]
  },
  {
   "cell_type": "markdown",
   "metadata": {},
   "source": [
    "- on ajoute 1 à l'élément aléatoire pour ne pas démarrer avec un élément de fréquence nulle."
   ]
  },
  {
   "cell_type": "code",
   "execution_count": 16,
   "metadata": {
    "collapsed": false
   },
   "outputs": [],
   "source": [
    "def creationSample(numero):\n",
    "    lexique[\"tir1\"]=0\n",
    "    tirage=[]\n",
    "    for n in range(nbMillions*million):\n",
    "        tirage.append(random.randrange(nbOccurrences)+1)\n",
    "    tirage2triage(tirage)\n",
    "    with open(\"/Users/gilles/ownCloud/Recherche/Boye/Russian-Data/\"+tiragePrefix+echantillon+\"-%d\"%numero+'-Tirage.pkl', 'wb') as output:\n",
    "        pickle.dump(lexique, output, pickle.HIGHEST_PROTOCOL)\n",
    "    with open(\"/Users/gilles/ownCloud/Recherche/Boye/Russian-Data/\"+tiragePrefix+echantillon+\"-%d\"%numero+'-Nums.pkl', 'wb') as output:\n",
    "        pickle.dump(tirage, output, pickle.HIGHEST_PROTOCOL)"
   ]
  },
  {
   "cell_type": "code",
   "execution_count": 17,
   "metadata": {
    "collapsed": false
   },
   "outputs": [
    {
     "name": "stdout",
     "output_type": "stream",
     "text": [
      "0 500000 1000000 1500000 2000000 2500000 3000000 3500000 4000000 4500000 5000000 5500000 6000000 6500000 7000000 7500000 8000000 8500000 9000000 9500000 10000000 10500000 11000000 11500000 12000000 12500000 13000000 13500000 14000000 14500000 15000000 15500000 16000000 16500000 17000000 17500000 18000000 18500000 19000000 19500000 20000000 20500000 21000000 21500000 22000000 22500000 23000000 23500000 24000000 24500000\n",
      "0 500000 1000000 1500000 2000000 2500000 3000000 3500000 4000000 4500000 5000000 5500000 6000000 6500000 7000000 7500000 8000000 8500000 9000000 9500000 10000000 10500000 11000000 11500000 12000000 12500000 13000000 13500000 14000000 14500000 15000000 15500000 16000000 16500000 17000000 17500000 18000000 18500000 19000000 19500000 20000000 20500000 21000000 21500000 22000000 22500000 23000000 23500000 24000000 24500000\n",
      "0 500000 1000000 1500000 2000000 2500000 3000000 3500000 4000000 4500000 5000000 5500000 6000000 6500000 7000000 7500000 8000000 8500000 9000000 9500000 10000000 10500000 11000000 11500000 12000000 12500000 13000000 13500000 14000000 14500000 15000000 15500000 16000000 16500000 17000000 17500000 18000000 18500000 19000000 19500000 20000000 20500000 21000000 21500000 22000000 22500000 23000000 23500000 24000000 24500000\n",
      "0 500000 1000000 1500000 2000000 2500000 3000000 3500000 4000000 4500000 5000000 5500000 6000000 6500000 7000000 7500000 8000000 8500000 9000000 9500000 10000000 10500000 11000000 11500000 12000000 12500000 13000000 13500000 14000000 14500000 15000000 15500000 16000000 16500000 17000000 17500000 18000000 18500000 19000000 19500000 20000000 20500000 21000000 21500000 22000000 22500000 23000000 23500000 24000000 24500000\n",
      "0 500000 1000000 1500000 2000000 2500000 3000000 3500000 4000000 4500000 5000000 5500000 6000000 6500000 7000000 7500000 8000000 8500000 9000000 9500000 10000000 10500000 11000000 11500000 12000000 12500000 13000000 13500000 14000000 14500000 15000000 15500000 16000000 16500000 17000000 17500000 18000000 18500000 19000000 19500000 20000000 20500000 21000000 21500000 22000000 22500000 23000000 23500000 24000000 24500000\n",
      "0 500000 1000000 1500000 2000000 2500000 3000000 3500000 4000000 4500000 5000000 5500000 6000000 6500000 7000000 7500000 8000000 8500000 9000000 9500000 10000000 10500000 11000000 11500000 12000000 12500000 13000000 13500000 14000000 14500000 15000000 15500000 16000000 16500000 17000000 17500000 18000000 18500000 19000000 19500000 20000000 20500000 21000000 21500000 22000000 22500000 23000000 23500000 24000000 24500000\n",
      "0 500000 1000000 1500000 2000000 2500000 3000000 3500000 4000000 4500000 5000000 5500000 6000000 6500000 7000000 7500000 8000000 8500000 9000000 9500000 10000000 10500000 11000000 11500000 12000000 12500000 13000000 13500000 14000000 14500000 15000000 15500000 16000000 16500000 17000000 17500000 18000000 18500000 19000000 19500000 20000000 20500000 21000000 21500000 22000000 22500000 23000000 23500000 24000000 24500000\n",
      "0 500000 1000000 1500000 2000000 2500000 3000000 3500000 4000000 4500000 5000000 5500000 6000000 6500000 7000000 7500000 8000000 8500000 9000000 9500000 10000000 10500000 11000000 11500000 12000000 12500000 13000000 13500000 14000000 14500000 15000000 15500000 16000000 16500000 17000000 17500000 18000000 18500000 19000000 19500000 20000000 20500000 21000000 21500000 22000000 22500000 23000000 23500000 24000000 24500000\n",
      "0 500000 1000000 1500000 2000000 2500000 3000000 3500000 4000000 4500000 5000000 5500000 6000000 6500000 7000000 7500000 8000000 8500000 9000000 9500000 10000000 10500000 11000000 11500000 12000000 12500000 13000000 13500000 14000000 14500000 15000000 15500000 16000000 16500000 17000000 17500000 18000000 18500000 19000000 19500000 20000000 20500000 21000000 21500000 22000000 22500000 23000000 23500000 24000000 24500000\n",
      "0 500000 1000000 1500000 2000000 2500000 3000000 3500000 4000000 4500000 5000000 5500000 6000000 6500000 7000000 7500000 8000000 8500000 9000000 9500000 10000000 10500000 11000000 11500000 12000000 12500000 13000000 13500000 14000000 14500000 15000000 15500000 16000000 16500000 17000000 17500000 18000000 18500000 19000000 19500000 20000000 20500000 21000000 21500000 22000000 22500000 23000000 23500000 24000000 24500000\n",
      "0 500000 1000000 1500000 2000000 2500000 3000000 3500000 4000000 4500000 5000000 5500000 6000000 6500000 7000000 7500000 8000000 8500000 9000000 9500000 10000000 10500000 11000000 11500000 12000000 12500000 13000000 13500000 14000000 14500000 15000000 15500000 16000000 16500000 17000000 17500000 18000000 18500000 19000000 19500000 20000000 20500000 21000000 21500000 22000000 22500000 23000000 23500000 24000000 24500000\n",
      "0 500000 1000000 1500000 2000000 2500000 3000000 3500000 4000000 4500000 5000000 5500000 6000000 6500000 7000000 7500000 8000000 8500000 9000000 9500000 10000000 10500000 11000000 11500000 12000000 12500000 13000000 13500000 14000000 14500000 15000000 15500000 16000000 16500000 17000000 17500000 18000000 18500000 19000000 19500000 20000000 20500000 21000000 21500000 22000000 22500000 23000000 23500000 24000000 24500000\n",
      "0 500000 1000000 1500000 2000000 2500000 3000000 3500000 4000000 4500000 5000000 5500000 6000000 6500000 7000000 7500000 8000000 8500000 9000000 9500000 10000000 10500000 11000000 11500000 12000000 12500000 13000000 13500000 14000000 14500000 15000000 15500000 16000000 16500000 17000000 17500000 18000000 18500000 19000000 19500000 20000000 20500000 21000000 21500000 22000000 22500000 23000000 23500000 24000000 24500000\n",
      "0 500000 1000000 1500000 2000000 2500000 3000000 3500000 4000000 4500000 5000000 5500000 6000000 6500000 7000000 7500000 8000000 8500000 9000000 9500000 10000000 10500000 11000000 11500000 12000000 12500000 13000000 13500000 14000000 14500000 15000000 15500000 16000000 16500000 17000000 17500000 18000000 18500000 19000000 19500000 20000000 20500000 21000000 21500000 22000000 22500000 23000000 23500000 24000000 24500000\n",
      "0 500000 1000000 1500000 2000000 2500000 3000000 3500000 4000000 4500000 5000000 5500000 6000000 6500000 7000000 7500000 8000000 8500000 9000000 9500000 10000000 10500000 11000000 11500000 12000000 12500000 13000000 13500000 14000000 14500000 15000000 15500000 16000000 16500000 17000000 17500000 18000000 18500000 19000000 19500000 20000000 20500000 21000000 21500000 22000000 22500000 23000000 23500000 24000000 24500000\n",
      "0 500000 1000000 1500000 2000000 2500000 3000000 3500000 4000000 4500000 5000000 5500000 6000000 6500000 7000000 7500000 8000000 8500000 9000000 9500000 10000000 10500000 11000000 11500000 12000000 12500000 13000000 13500000 14000000 14500000 15000000 15500000 16000000 16500000 17000000 17500000 18000000 18500000 19000000 19500000 20000000 20500000 21000000 21500000 22000000 22500000 23000000 23500000 24000000 24500000\n",
      "0 500000 1000000 1500000 2000000 2500000 3000000 3500000 4000000 4500000 5000000 5500000 6000000 6500000 7000000 7500000 8000000 8500000 9000000 9500000 10000000 10500000 11000000 11500000 12000000 12500000 13000000 13500000 14000000 14500000 15000000 15500000 16000000 16500000 17000000 17500000 18000000 18500000 19000000 19500000 20000000 20500000 21000000 21500000 22000000 22500000 23000000 23500000 24000000 24500000\n",
      "0 500000 1000000 1500000 2000000 2500000 3000000 3500000 4000000 4500000 5000000 5500000 6000000 6500000 7000000 7500000 8000000 8500000 9000000 9500000 10000000 10500000 11000000 11500000 12000000 12500000 13000000 13500000 14000000 14500000 15000000 15500000 16000000 16500000 17000000 17500000 18000000 18500000 19000000 19500000 20000000 20500000 21000000 21500000 22000000 22500000 23000000 23500000 24000000 24500000\n",
      "0 500000 1000000 1500000 2000000 2500000 3000000 3500000 4000000 4500000 5000000 5500000 6000000 6500000 7000000 7500000 8000000 8500000 9000000 9500000 10000000 10500000 11000000 11500000 12000000 12500000 13000000 13500000 14000000 14500000 15000000 15500000 16000000 16500000 17000000 17500000 18000000 18500000 19000000 19500000 20000000 20500000 21000000 21500000 22000000 22500000 23000000 23500000 24000000 24500000\n",
      "0 500000 1000000 1500000 2000000 2500000 3000000 3500000 4000000 4500000 5000000 5500000 6000000 6500000 7000000 7500000 8000000 8500000 9000000 9500000 10000000 10500000 11000000 11500000 12000000 12500000 13000000 13500000 14000000 14500000 15000000 15500000 16000000 16500000 17000000 17500000 18000000 18500000 19000000 19500000 20000000 20500000 21000000 21500000 22000000 22500000 23000000 23500000 24000000 24500000\n"
     ]
    }
   ],
   "source": [
    "for sample in range(nbSamples):\n",
    "    creationSample(sample)"
   ]
  },
  {
   "cell_type": "raw",
   "metadata": {
    "collapsed": false
   },
   "source": [
    "%%time\n",
    "tirage=[]\n",
    "for n in range(nbMillions*million):\n",
    "    tirage.append(random.randrange(nbOccurrences)+1)\n",
    "#print tirage"
   ]
  },
  {
   "cell_type": "raw",
   "metadata": {
    "collapsed": false,
    "scrolled": true
   },
   "source": [
    "lexique[\"tir1\"]=0\n",
    "#lexique"
   ]
  },
  {
   "cell_type": "raw",
   "metadata": {
    "collapsed": false
   },
   "source": [
    "%time tirage2triage(tirage)"
   ]
  },
  {
   "cell_type": "raw",
   "metadata": {
    "collapsed": false
   },
   "source": [
    "lexique[lexique[\"tir1\"]>0].sort_values(by=[\"adjFreq\"],ascending=False)#.sum()#[\"tir1\"].max()"
   ]
  },
  {
   "cell_type": "raw",
   "metadata": {
    "collapsed": false
   },
   "source": [
    "with open(\"/Users/gilles/ownCloud/Recherche/Boye/Russian-Data/\"+tiragePrefix+echantillon+'-Tirage.pkl', 'wb') as output:\n",
    "    pickle.dump(lexique, output, pickle.HIGHEST_PROTOCOL)"
   ]
  },
  {
   "cell_type": "raw",
   "metadata": {
    "collapsed": true
   },
   "source": [
    "with open(\"/Users/gilles/ownCloud/Recherche/Boye/Russian-Data/\"+tiragePrefix+echantillon+'-Nums.pkl', 'wb') as output:\n",
    "    pickle.dump(tirage, output, pickle.HIGHEST_PROTOCOL)"
   ]
  },
  {
   "cell_type": "code",
   "execution_count": null,
   "metadata": {
    "collapsed": true
   },
   "outputs": [],
   "source": []
  }
 ],
 "metadata": {
  "kernelspec": {
   "display_name": "Python 2",
   "language": "python",
   "name": "python2"
  },
  "language_info": {
   "codemirror_mode": {
    "name": "ipython",
    "version": 2
   },
   "file_extension": ".py",
   "mimetype": "text/x-python",
   "name": "python",
   "nbconvert_exporter": "python",
   "pygments_lexer": "ipython2",
   "version": "2.7.11"
  }
 },
 "nbformat": 4,
 "nbformat_minor": 0
}
