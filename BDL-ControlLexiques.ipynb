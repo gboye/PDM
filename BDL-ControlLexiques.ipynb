{
 "cells": [
  {
   "cell_type": "markdown",
   "metadata": {},
   "source": [
    "##Importations\n",
    "- codecs pour les encodages\n",
    "- pandas et numpy pour les calculs sur tableaux\n",
    "- matplotlib pour les graphiques\n",
    "- itertools pour les itérateurs sophistiqués (paires sur liste, ...)"
   ]
  },
  {
   "cell_type": "code",
   "execution_count": 27,
   "metadata": {
    "collapsed": false
   },
   "outputs": [],
   "source": [
    "# -*- coding: utf8 -*-\n",
    "import codecs\n",
    "import re\n",
    "import csv\n",
    "import numpy as np\n",
    "import matplotlib.pyplot as plt\n",
    "import itertools as it\n",
    "debug=0"
   ]
  },
  {
   "cell_type": "markdown",
   "metadata": {},
   "source": [
    "#Préparation du lexique"
   ]
  },
  {
   "cell_type": "markdown",
   "metadata": {},
   "source": [
    "###Lecture des lexiques"
   ]
  },
  {
   "cell_type": "code",
   "execution_count": 28,
   "metadata": {
    "collapsed": false
   },
   "outputs": [
    {
     "name": "stdout",
     "output_type": "stream",
     "text": [
      "a N Mj  a 8136 5865 8136 5865\n",
      "à p   à 1219040 1920905 1219040 1920905\n",
      "abaca N MS  abaca 1 0 1 0\n",
      "abacas N MP  abaca *** *** *** ***\n",
      "abacule N MS  abacule *** *** *** ***\n"
     ]
    }
   ],
   "source": [
    "nomLexique=\"/Users/gilles/Copy/Python/phonemisation/bdlexique-PDM.txt\"\n",
    "with codecs.open(nomLexique, 'r',encoding='utf8') as infile:\n",
    "    bdlexique=infile.readlines()\n",
    "for ligne in bdlexique[:5]:\n",
    "    (ortho,phono,ext,cs,ms,vs,lexeme,L23,lemmeFrantext,lemmeFilms,formeFrantext,formeFilms)=ligne.strip().split(\";\")\n",
    "    print ortho,cs,ms,vs,lexeme,lemmeFrantext,lemmeFilms,formeFrantext,formeFilms"
   ]
  },
  {
   "cell_type": "code",
   "execution_count": 29,
   "metadata": {
    "collapsed": false
   },
   "outputs": [],
   "source": [
    "nomLexiqueOrg=\"/Users/gilles/Copy/Python/phonemisation/Lexique380-UTF8.txt\"\n",
    "verbes={}\n",
    "ppFormes={}\n",
    "vlemmes={}\n",
    "noms={}\n",
    "nlemmes={}\n",
    "adjectifs={}\n",
    "adjFormes={}\n",
    "alemmes={}\n",
    "with codecs.open(nomLexiqueOrg, 'r',encoding='utf8') as infile:\n",
    "    lexiqueorg=infile.readlines()\n",
    "for ligne in lexiqueorg[1:]:\n",
    "    morceaux=ligne.strip().split(\"\\t\")\n",
    "    (ortho,phon,lemme,cgram,genre,nombre,freqlemfilms2,freqlemlivres,freqfilms2,freqlivres,infover)=morceaux[:11]\n",
    "    freqlemfilms2=str(int(100*float(freqlemfilms2)))\n",
    "    freqlemlivres=str(int(100*float(freqlemlivres)))\n",
    "    freqfilms2=str(int(100*float(freqfilms2)))\n",
    "    freqlivres=str(int(100*float(freqlivres)))\n",
    "    if cgram==\"NOM\":\n",
    "        vs=genre.upper()+nombre.upper()\n",
    "        nom=\";\".join([ortho,lemme,vs])\n",
    "        noms[nom]=(freqlemfilms2,freqlemlivres,freqfilms2,freqlivres)\n",
    "        if not lemme in nlemmes:\n",
    "            nlemmes[lemme]=(freqlemfilms2,freqlemlivres)\n",
    "#        print nom, noms[nom]\n",
    "    elif cgram==\"ADJ\":\n",
    "        vs=genre.upper()+nombre.upper()\n",
    "        adjectif=\";\".join([ortho,lemme,vs])\n",
    "        adjectifs[adjectif]=(freqlemfilms2,freqlemlivres,freqfilms2,freqlivres)\n",
    "        if not ortho in adjFormes:\n",
    "            adjFormes[ortho]=[]\n",
    "        adjFormes[ortho].append((ortho,lemme,genre,nombre,freqlemfilms2,freqlemlivres,freqfilms2,freqlivres))\n",
    "        if not lemme in alemmes:\n",
    "            alemmes[lemme]=(freqlemfilms2,freqlemlivres)\n",
    "#        print adjectif, adjectifs[adjectif]\n",
    "    elif cgram==\"VER\":\n",
    "#        print ortho,lemme,genre,nombre,infover\n",
    "        if infover==\"ind:pre:2p;inf;\":\n",
    "            infover=\"inf;\"\n",
    "        tams=infover.rstrip(\";\").split(\";\")\n",
    "        for tam in tams:\n",
    "            morceaux=tam.split(\":\")\n",
    "#            print morceaux\n",
    "            if len(morceaux)==3:\n",
    "                if morceaux[0]==\"imp\":\n",
    "                    mode=\"I\"\n",
    "                else:\n",
    "                    mode=morceaux[0][0]\n",
    "                if morceaux[1]==\"pas\":\n",
    "                    temps=\"a\"\n",
    "                else:\n",
    "                    temps=morceaux[1][0]\n",
    "                infotam=temps+mode+morceaux[2].upper()\n",
    "            elif len(morceaux)==2:\n",
    "                if morceaux[1]==\"pre\":\n",
    "                    infotam=morceaux[0][0]+\"P\"\n",
    "                elif morceaux[1]==\"pas\":\n",
    "                    infotam=\"pp\"+genre.upper()+nombre.upper()\n",
    "                    if not ortho in ppFormes:\n",
    "                        ppFormes[ortho]=((ortho,lemme,genre,nombre,freqlemfilms2,freqlemlivres,freqfilms2,freqlivres))\n",
    "            elif len(morceaux)==1:\n",
    "                infotam=morceaux[0]\n",
    "            verbe=\";\".join([ortho,lemme,infotam])\n",
    " #           print verbe\n",
    "            verbes[verbe]=(freqlemfilms2,freqlemlivres,freqfilms2,freqlivres)\n",
    "            if not lemme in vlemmes:\n",
    "                vlemmes[lemme]=(freqlemfilms2,freqlemlivres)\n",
    "#            print verbe, verbes[verbe]"
   ]
  },
  {
   "cell_type": "code",
   "execution_count": 34,
   "metadata": {
    "collapsed": false,
    "scrolled": true
   },
   "outputs": [
    {
     "name": "stdout",
     "output_type": "stream",
     "text": [
      "couvert;couvrir;ppMS ('8829', '13351', '1462', '2689')\n",
      "couvert couvrir m s 8829 13351 1462 2689\n",
      "couvert couvert m s 422 1493 194 797\n",
      "\n"
     ]
    }
   ],
   "source": [
    "for pp in ppFormes.keys()[:250]:\n",
    "    (Vortho,Vlemme,Vgenre,Vnombre,Vfreqlemfilms2,Vfreqlemlivres,Vfreqfilms2,Vfreqlivres)=ppFormes[pp]\n",
    "    if Vortho in adjFormes and Vlemme==\"couvrir\":\n",
    "        verbe=\";\".join([Vortho,Vlemme,\"pp\"+Vgenre.upper()+Vnombre.upper()])\n",
    "        print verbe, verbes[verbe]\n",
    "        print Vortho,Vlemme,Vgenre,Vnombre,Vfreqlemfilms2,Vfreqlemlivres,Vfreqfilms2,Vfreqlivres\n",
    "        for element in adjFormes[Vortho]:\n",
    "            (Aortho,Alemme,Agenre,Anombre,Afreqlemfilms2,Afreqlemlivres,Afreqfilms2,Afreqlivres)=element\n",
    "            print Aortho,Alemme,Agenre,Anombre,Afreqlemfilms2,Afreqlemlivres,Afreqfilms2,Afreqlivres\n",
    "        print"
   ]
  },
  {
   "cell_type": "code",
   "execution_count": null,
   "metadata": {
    "collapsed": true
   },
   "outputs": [],
   "source": []
  }
 ],
 "metadata": {
  "kernelspec": {
   "display_name": "Python 2",
   "language": "python",
   "name": "python2"
  },
  "language_info": {
   "codemirror_mode": {
    "name": "ipython",
    "version": 2
   },
   "file_extension": ".py",
   "mimetype": "text/x-python",
   "name": "python",
   "nbconvert_exporter": "python",
   "pygments_lexer": "ipython2",
   "version": "2.7.10"
  }
 },
 "nbformat": 4,
 "nbformat_minor": 0
}
