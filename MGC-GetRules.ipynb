{
 "cells": [
  {
   "cell_type": "markdown",
   "metadata": {},
   "source": [
    "## Importations\n",
    "- codecs pour les encodages\n",
    "- pandas et numpy pour les calculs sur tableaux\n",
    "- matplotlib pour les graphiques\n",
    "- itertools pour les itérateurs sophistiqués (paires sur liste, ...)"
   ]
  },
  {
   "cell_type": "code",
   "execution_count": 1,
   "metadata": {
    "collapsed": true
   },
   "outputs": [],
   "source": [
    "# -*- coding: utf8 -*-\n",
    "import codecs\n",
    "import features\n",
    "import re\n",
    "import pandas as pd\n",
    "import numpy as np\n",
    "import matplotlib.pyplot as plt\n",
    "import itertools as it\n",
    "import pickle\n",
    "#%pylab inline\n",
    "#pd.options.display.mpl_style = 'default'\n",
    "debug=False"
   ]
  },
  {
   "cell_type": "markdown",
   "metadata": {},
   "source": [
    "### Préparation des matrices de traits"
   ]
  },
  {
   "cell_type": "code",
   "execution_count": 2,
   "metadata": {
    "collapsed": true
   },
   "outputs": [],
   "source": [
    "features.add_config('bdlexique.ini')\n",
    "fs=features.FeatureSystem('phonemes')"
   ]
  },
  {
   "cell_type": "code",
   "execution_count": 64,
   "metadata": {
    "collapsed": true
   },
   "outputs": [],
   "source": [
    "rep=\"/Users/gilles/ownCloud/Recherche/Boye/HDR/Data/Longitudinales/\"\n",
    "sample=\"Longitudinal-55-T1100000-F41134-X-\"\n",
    "fPMS=\"paradigmes.csv\"\n",
    "fPMO=\"Morphomes-paradigmes.csv\"\n",
    "fRulesPMS=\"Regles.pkl\"\n",
    "fRulesPMO=\"Morphomes-Regles.pkl\""
   ]
  },
  {
   "cell_type": "markdown",
   "metadata": {},
   "source": [
    "### Préparation des cases du paradigme"
   ]
  },
  {
   "cell_type": "code",
   "execution_count": 65,
   "metadata": {
    "collapsed": true
   },
   "outputs": [],
   "source": [
    "casesPrincipales= [\n",
    "        'inf', 'pi1S', 'pi2S', 'pi3S', 'pi1P', 'pi2P', 'pi3P', 'ii1S',\n",
    "        'ii2S', 'ii3S', 'ii1P', 'ii2P', 'ii3P', \n",
    "        'fi1S', 'fi2S', 'fi3S', 'fi1P', 'fi2P',\n",
    "        'fi3P', 'pI2S', 'pI1P', 'pI2P', 'ps1S', 'ps2S', 'ps3S', 'ps1P',\n",
    "        'ps2P', 'ps3P', \n",
    "        'pc1S', 'pc2S', 'pc3S', 'pc1P', 'pc2P', 'pc3P', 'pP',\n",
    "        'ppMS', 'ppMP', 'ppFS', 'ppFP'\n",
    "            ]\n",
    "casesSecondaires= [\n",
    "       'ai1S', 'ai2S', 'ai3S', 'ai1P', 'ai2P', 'ai3P', 'is1S', 'is2S', 'is3S', 'is1P', 'is2P', 'is3P'\n",
    "            ]\n",
    "casesTotales=casesPrincipales+casesSecondaires\n",
    "listeCases=casesTotales"
   ]
  },
  {
   "cell_type": "markdown",
   "metadata": {},
   "source": [
    "# Préparation du calcul des analogies"
   ]
  },
  {
   "cell_type": "markdown",
   "metadata": {},
   "source": [
    "### Calcul de la différence entre deux formes"
   ]
  },
  {
   "cell_type": "code",
   "execution_count": 66,
   "metadata": {
    "collapsed": true
   },
   "outputs": [],
   "source": [
    "def diff(mot1,mot2):\n",
    "    result=[]\n",
    "    diff1=\"\"\n",
    "    diff2=\"\"\n",
    "    same=\"\"\n",
    "    vide=\".\"\n",
    "    lmax=max(len(mot1),len(mot2))\n",
    "    lmin=min(len(mot1),len(mot2))\n",
    "    for index in range(lmax):\n",
    "        if index < lmin:\n",
    "            if mot1[index]!=mot2[index]:\n",
    "                diff1+=mot1[index]\n",
    "                diff2+=mot2[index]\n",
    "                same+=vide\n",
    "            else:\n",
    "                same+=mot1[index]\n",
    "                diff1+=vide\n",
    "                diff2+=vide\n",
    "        elif index < len(mot1):\n",
    "            diff1+=mot1[index]\n",
    "        elif index < len(mot2):\n",
    "            diff2+=mot2[index]\n",
    "    diff1=diff1.lstrip(\".\")\n",
    "    diff2=diff2.lstrip(\".\")\n",
    "#    return (same,diff1,diff2,diff1+\"_\"+diff2)\n",
    "    return (diff1+\"-\"+diff2)"
   ]
  },
  {
   "cell_type": "markdown",
   "metadata": {},
   "source": [
    "### Accumulation des paires appartenant à un patron"
   ]
  },
  {
   "cell_type": "code",
   "execution_count": 67,
   "metadata": {
    "collapsed": true
   },
   "outputs": [],
   "source": [
    "def rowDiff(row, patrons):\n",
    "    result=diff(row[0],row[1])\n",
    "    if not result in patrons:\n",
    "        patrons[result]=(formesPatron(),formesPatron())\n",
    "    patrons[result][0].ajouterFormes(row[0])\n",
    "    patrons[result][1].ajouterFormes(row[1])\n",
    "    return (result[0],result[1])"
   ]
  },
  {
   "cell_type": "markdown",
   "metadata": {},
   "source": [
    "### Transformation d'un patron en RegExp"
   ]
  },
  {
   "cell_type": "code",
   "execution_count": 68,
   "metadata": {
    "collapsed": true
   },
   "outputs": [],
   "source": [
    "def patron2regexp(morceaux):\n",
    "    result=\"^\"\n",
    "    for morceau in morceaux:\n",
    "        if morceau==\"*\":\n",
    "            result+=\"(.*)\"\n",
    "        elif len(morceau)>1:\n",
    "            result+=\"([\"+morceau+\"])\"\n",
    "        else:\n",
    "            result+=morceau\n",
    "    result+=\"$\"\n",
    "    result=result.replace(\")(\",\"\")\n",
    "    return result"
   ]
  },
  {
   "cell_type": "markdown",
   "metadata": {},
   "source": [
    "### Substitution de sortie \n",
    "???"
   ]
  },
  {
   "cell_type": "code",
   "execution_count": 69,
   "metadata": {
    "collapsed": true
   },
   "outputs": [],
   "source": [
    "def remplacementSortie(sortie):\n",
    "    n=1\n",
    "    nsortie=\"\"\n",
    "    for lettre in sortie:\n",
    "        if lettre==\".\":\n",
    "            nsortie+=\"\\g<%d>\"%n\n",
    "            n+=1\n",
    "        else:\n",
    "            nsortie+=lettre\n",
    "    return nsortie"
   ]
  },
  {
   "cell_type": "code",
   "execution_count": 70,
   "metadata": {
    "collapsed": true
   },
   "outputs": [],
   "source": [
    "class formesPatron:\n",
    "    '''\n",
    "    Accumulateur de formes correspondant à un patron pour calcul de la Généralisation Minimale (cf. MGL)\n",
    "    '''\n",
    "    def __init__(self):\n",
    "        self.formes=[]\n",
    "\n",
    "#    def __repr__(self):\n",
    "#        return ','.join(self.calculerGM())\n",
    "        \n",
    "    def ajouterForme(self,forme):\n",
    "        self.formes.append(forme)\n",
    "        \n",
    "    def calculerGM(self):\n",
    "        minLongueur=len(min(self.formes, key=len))\n",
    "        maxLongueur=len(max(self.formes, key=len))\n",
    "        if debug: print minLongueur, maxLongueur\n",
    "        positions=[]\n",
    "        if maxLongueur>minLongueur:\n",
    "            positions.append(\"*\")\n",
    "        for i in xrange(minLongueur, 0, -1):\n",
    "            phonemes=set([x[-i] for x in self.formes])\n",
    "            if debug: print phonemes\n",
    "            if \".\" in phonemes:\n",
    "                positions.append(\".\")\n",
    "            else:\n",
    "                positions.append(\"\".join(fs.lattice[phonemes].extent))\n",
    "        return patron2regexp(positions)\n",
    "\n",
    "class pairePatrons:\n",
    "    '''\n",
    "    Accumulateur de triplets (f1,f2,patron) correspondant à une paire pour calcul des Généralisations Minimales (cf. MGL)\n",
    "    '''\n",
    "    def __init__(self,case1,case2):\n",
    "        self.patrons1={}\n",
    "        self.patrons2={}\n",
    "        self.case1=case1\n",
    "        self.case2=case2\n",
    "\n",
    "#    def __repr__(self):\n",
    "#        return ','.join(self.calculerGM())\n",
    "        \n",
    "    def ajouterFormes(self,forme1,forme2,patron):\n",
    "#        print forme1,forme2,patron\n",
    "        patron12=patron\n",
    "        (pat1,pat2)=patron.split(\"-\")\n",
    "        patron21=pat2+\"-\"+pat1\n",
    "#        print patron12,patron21\n",
    "        if not patron12 in self.patrons1:\n",
    "            self.patrons1[patron12]=formesPatron()\n",
    "        self.patrons1[patron12].ajouterForme(forme1)\n",
    "        if not patron21 in self.patrons2:\n",
    "            self.patrons2[patron21]=formesPatron()\n",
    "        self.patrons2[patron21].ajouterForme(forme2)\n",
    "        \n",
    "        \n",
    "    def calculerGM(self):\n",
    "        resultat1={}\n",
    "        for patron in self.patrons1:\n",
    "            if debug: print \"patron1\", patron\n",
    "            resultat1[patron]=self.patrons1[patron].calculerGM()\n",
    "        resultat2={}\n",
    "        for patron in self.patrons2:\n",
    "            if debug: print \"patron2\", patron\n",
    "            resultat2[patron]=self.patrons2[patron].calculerGM()\n",
    "        return (resultat1,resultat2) "
   ]
  },
  {
   "cell_type": "markdown",
   "metadata": {},
   "source": [
    "# Classe pour la gestion des patrons, des classes et des transformations"
   ]
  },
  {
   "cell_type": "code",
   "execution_count": 71,
   "metadata": {},
   "outputs": [],
   "source": [
    "class paireClasses:\n",
    "    def __init__(self,case1,case2):\n",
    "        self.case1=case1\n",
    "        self.case2=case2\n",
    "        self.nom=case1+\"-\"+case2\n",
    "        self.classes1=classesPaire(case1,case2)\n",
    "        self.classes2=classesPaire(case2,case1)\n",
    "\n",
    "    def ajouterPatron(self,n,patron,motif):\n",
    "        if n==1:\n",
    "            self.classes1.ajouterPatron(patron,motif)\n",
    "        elif n==2:\n",
    "            self.classes2.ajouterPatron(patron,motif)\n",
    "        else:\n",
    "            print \"le numéro de forme n'est pas dans [1,2]\",n\n",
    "\n",
    "    def ajouterPaire(self,forme1,forme2):\n",
    "        self.classes1.ajouterPaire(forme1,forme2)\n",
    "        self.classes2.ajouterPaire(forme2,forme1)\n",
    "        \n",
    "    def calculerClasses(self):\n",
    "        return(self.classes1,self.classes2)\n",
    "\n",
    "    \n",
    "class classesPaire:\n",
    "    '''\n",
    "    Gestion des patrons, des classes et des transformations\n",
    "    \n",
    "    ajouterPatron : ajoute un patron et son motif associé (MGL)\n",
    "    ajouterPaire : ajoute une paire de formes, calcule la classe de la forme1 et la règle sélectionnée\n",
    "    sortirForme : cacule les formes de sortie correspondant à la forme1 avec leurs coefficients respectifs\n",
    "    '''\n",
    "    def __init__(self,case1,case2):\n",
    "        self.case1=case1\n",
    "        self.case2=case2\n",
    "        self.nom=case1+\"-\"+case2\n",
    "        self.classe={}\n",
    "        self.nbClasse={}\n",
    "        self.patrons={}\n",
    "        self.entree={}\n",
    "        self.sortie={}\n",
    "    \n",
    "    def ajouterPatron(self,patron,motif):\n",
    "        self.patrons[patron]=motif\n",
    "        (entree,sortie)=patron.split(\"-\")\n",
    "        self.entree[patron]=entree.replace(u\".\",u\"(.)\")\n",
    "        self.sortie[patron]=remplacementSortie(sortie)\n",
    "    \n",
    "    def ajouterPaire(self,forme1,forme2):\n",
    "        '''\n",
    "        on calcule la classe de la paire idClasseForme et la règle sélectionnée\n",
    "        on incrémente le compteur de la classe et celui de la règle sélectionnée à l'intérieur de la classe\n",
    "        '''\n",
    "        classeForme=[]\n",
    "        regleForme=\"\"\n",
    "        for patron in self.patrons:\n",
    "            if re.match(self.patrons[patron],forme1):\n",
    "                classeForme.append(patron)\n",
    "                '''\n",
    "                le +\"$\" permet de forcer l'alignement à droite pour les transformations suffixales\n",
    "                '''\n",
    "                if forme2==re.sub(self.entree[patron]+\"$\",self.sortie[patron],forme1):\n",
    "                    regleForme=patron\n",
    "        idClasseForme=\", \".join(classeForme)\n",
    "        if not idClasseForme in self.classe:\n",
    "            self.classe[idClasseForme]={}\n",
    "            self.nbClasse[idClasseForme]=0\n",
    "        if not regleForme in self.classe[idClasseForme]:\n",
    "            self.classe[idClasseForme][regleForme]=0\n",
    "        self.nbClasse[idClasseForme]+=1\n",
    "        self.classe[idClasseForme][regleForme]+=1\n",
    "\n",
    "    def sortirForme(self,forme,contextFree=False):\n",
    "        classeForme=[]\n",
    "        sortieForme={}\n",
    "        for patron in self.patrons:\n",
    "            if contextFree:\n",
    "                filterF1=\".*\"+patron.split(\"-\")[0]+\"$\"\n",
    "            else:\n",
    "                filterF1=self.patrons[patron]\n",
    "            if re.match(filterF1,forme):\n",
    "                classeForme.append(patron)\n",
    "        if classeForme:\n",
    "            idClasseForme=\", \".join(classeForme)\n",
    "            if contextFree:\n",
    "                nbClasse=self.nbClasseCF\n",
    "                classe=self.classeCF\n",
    "            else:\n",
    "                nbClasse=self.nbClasse\n",
    "                classe=self.classe\n",
    "            if idClasseForme in nbClasse:\n",
    "                nTotal=nbClasse[idClasseForme]\n",
    "                for patron in classe[idClasseForme]:\n",
    "                    sortie=re.sub(self.entree[patron]+\"$\",self.sortie[patron],forme)\n",
    "                    sortieForme[sortie]=float(classe[idClasseForme][patron])/nTotal\n",
    "            else:\n",
    "#                if debug: \n",
    "#                    print (forme, file=logfile)\n",
    "#                    print (\"pas de classe\",idClasseForme, file=logfile)\n",
    "#                    print (\"%.2f par forme de sortie\" % (float(1)/len(classeForme)), file=logfile)\n",
    "                nTotal=len(classeForme)\n",
    "                for patron in classeForme:\n",
    "                    sortie=re.sub(self.entree[patron]+\"$\",self.sortie[patron],forme)\n",
    "                    sortieForme[sortie]=float(1)/nTotal\n",
    "#        else:\n",
    "#            if debug:\n",
    "#                print (forme, file=logfile) \n",
    "#                print (\"pas de patron\", file=logfile)\n",
    "        return sortieForme\n",
    "        "
   ]
  },
  {
   "cell_type": "markdown",
   "metadata": {},
   "source": [
    "## Appliquer la formule de calcul des différences entre chaines à chaque ligne\n",
    "\n",
    ">si il y a au moins une ligne\n",
    "\n",
    ">>on applique la différence à la ligne\n",
    "\n",
    ">>on calcule les deux patrons par suppression des points initiaux\n",
    "\n",
    ">>on renvoie le groupement par patrons (1&2)\n",
    "\n",
    ">sinon\n",
    "\n",
    ">>on renvoie le paradigme vide d'origine"
   ]
  },
  {
   "cell_type": "code",
   "execution_count": 72,
   "metadata": {
    "collapsed": true
   },
   "outputs": [],
   "source": [
    "def OLDrapports(paradigme):\n",
    "    (case1,case2,lexeme)= paradigme.columns.values.tolist()\n",
    "    patrons=pairePatrons(case1,case2)\n",
    "    if len(paradigme)>0:\n",
    "#        for index, row in paradigme.iterrows():\n",
    "#            patrons.ajouterFormes(row[0],row[1],diff(row[0],row[1]))\n",
    "        paradigme.apply(lambda x: patrons.ajouterFormes(x[case1],x[case2],diff(x[case1],x[case2])), axis=1)\n",
    "        (regles1,regles2)=patrons.calculerGM()\n",
    "    return patrons.calculerGM()"
   ]
  },
  {
   "cell_type": "code",
   "execution_count": 73,
   "metadata": {
    "collapsed": true
   },
   "outputs": [],
   "source": [
    "def rapports(paradigme):\n",
    "    if len(paradigme.columns.values.tolist())==2:\n",
    "        (case1,lexeme)= paradigme.columns.values.tolist()\n",
    "        case2=case1\n",
    "    else:\n",
    "        (case1,case2,lexeme)= paradigme.columns.values.tolist()\n",
    "    patrons=pairePatrons(case1,case2)\n",
    "    classes=paireClasses(case1,case2)\n",
    "    if len(paradigme)>0:\n",
    "        paradigme.apply(lambda x: patrons.ajouterFormes(x[case1],x[case2],diff(x[case1],x[case2])), axis=1)\n",
    "        (regles1,regles2)=patrons.calculerGM()\n",
    "        for regle in regles1:\n",
    "            classes.ajouterPatron(1,regle,regles1[regle])\n",
    "        for regle in regles2:\n",
    "            classes.ajouterPatron(2,regle,regles2[regle])\n",
    "        paradigme.apply(lambda x: classes.ajouterPaire(x[case1],x[case2]), axis=1)\n",
    "    (classes1,classes2)=classes.calculerClasses()\n",
    "    return (classes1,classes2)"
   ]
  },
  {
   "cell_type": "markdown",
   "metadata": {},
   "source": [
    "### Dédoubler les lignes avec des surabondances dans *colonne*\n",
    ">identifier une ligne avec surabondance\n",
    "\n",
    ">>ajouter les lignes correspondant à chaque valeur\n",
    "\n",
    ">>ajouter le numéro de la ligne initiale dans les lignes à supprimer\n",
    "\n",
    ">supprimer les lignes avec surabondance\n",
    "\n",
    "NB : il faut préparer le tableau pour avoir une indexation qui permette l'ajout des valeurs individuelles et la suppression des lignes de surabondances"
   ]
  },
  {
   "cell_type": "code",
   "execution_count": 74,
   "metadata": {
    "collapsed": true
   },
   "outputs": [],
   "source": [
    "def splitCellMates(df,colonne):\n",
    "    '''\n",
    "    Calcul d'une dataframe sans surabondance par dédoublement des valeurs\n",
    "    '''\n",
    "    test=df.reset_index()\n",
    "    del test[\"index\"]\n",
    "    splitIndexes=[]\n",
    "    for index,ligne in test.iterrows():\n",
    "        if \",\" in ligne[colonne]:\n",
    "            valeurs=set(ligne[colonne].split(\",\"))\n",
    "            nouvelleLigne=ligne\n",
    "            for valeur in valeurs:\n",
    "                nouvelleLigne[colonne]=valeur\n",
    "                test=test.append(nouvelleLigne,ignore_index=True)\n",
    "            splitIndexes.append(index)\n",
    "    if splitIndexes:\n",
    "        test=test.drop(test.index[splitIndexes])\n",
    "    return test\n"
   ]
  },
  {
   "cell_type": "code",
   "execution_count": 75,
   "metadata": {
    "collapsed": true
   },
   "outputs": [],
   "source": [
    "paradigmesPMS=pd.read_csv(rep+sample+fPMS,sep=\";\",encoding=\"utf8\")\n",
    "del paradigmesPMS[u\"Unnamed: 0\"]"
   ]
  },
  {
   "cell_type": "code",
   "execution_count": 76,
   "metadata": {
    "collapsed": true
   },
   "outputs": [],
   "source": [
    "with open(rep+sample+fRulesPMS, 'rb') as input:\n",
    "    rulesPMS = pickle.load(input)\n",
    "with open(rep+sample+fRulesPMO, 'rb') as input:\n",
    "    rulesPMO = pickle.load(input)\n"
   ]
  },
  {
   "cell_type": "code",
   "execution_count": 77,
   "metadata": {
    "collapsed": true,
    "scrolled": true
   },
   "outputs": [],
   "source": [
    "def generateForms(lexeme,paradigmes):\n",
    "    for forme in listeCases:\n",
    "        if not pd.isnull(paradigmes[paradigmes[\"lexeme\"]==lexeme][forme].iloc[0]):\n",
    "            depart=paradigmes[paradigmes[\"lexeme\"]==lexeme][forme].iloc[0]\n",
    "            print forme,depart\n",
    "            if depart!=\"nan\":\n",
    "                for case in listeCases:\n",
    "                    print case,\n",
    "                    if not isinstance(resultatsLecture[(forme, case)],str):\n",
    "                        print resultatsLecture[(forme, case)].sortirForme(depart),\n",
    "                print\n",
    "                print"
   ]
  },
  {
   "cell_type": "code",
   "execution_count": 78,
   "metadata": {
    "collapsed": true
   },
   "outputs": [],
   "source": [
    "#generateForms(u\"lever\",paradigmes)"
   ]
  },
  {
   "cell_type": "code",
   "execution_count": 79,
   "metadata": {
    "collapsed": true
   },
   "outputs": [],
   "source": [
    "def showPatterns(listePaires,rules=rulesPMS):\n",
    "    for resultat in listePaires:\n",
    "        print \"paire :\",resultat\n",
    "        for element in rules[resultat].patrons:\n",
    "            print \"\\t\"+element, rules[resultat].patrons[element]\n",
    "        print"
   ]
  },
  {
   "cell_type": "code",
   "execution_count": 19,
   "metadata": {},
   "outputs": [
    {
     "name": "stdout",
     "output_type": "stream",
     "text": [
      "paire : ('inf', 'ppMP')\n",
      "\tEtr-i ^(.*)mEtr$\n",
      "\tdr-zy ^kudr$\n",
      "\trir-Er ^(.*)uvrir$\n",
      "\t- ^(.*[ptkbdgfsSvzZmnJjlrwHiyEe926auOoêûâô][ptkbdgfsSvzZmnJjlrwHE96Oêûô])e$\n",
      "\tu.ir-O. ^murir$\n",
      "\tivr-Eky ^vivr$\n",
      "\twar-i ^aswar$\n",
      "\tr-y ^(.*[ptbdfsvzrE96O][jrwHiyEe926auOoêûâô][ptkbdg])r$\n",
      "\tavwar-y ^(.*)avwar$\n",
      "\t6vwar-y ^(.*[tdsz])6vwar$\n",
      "\tEtr-y ^(.*)kOnEtr$\n",
      "\tdr- ^(.*[ptkbdgjwH])êdr$\n",
      "\tâdr-i ^(.*)prâdr$\n",
      "\tEtr-e ^nEtr$\n",
      "\twar-y ^(.*[fsSvzZlr])war$\n",
      "\tr- ^(.*[ptkbdgfsSvzZmnJjlrwH][iEe])r$\n",
      "\tErir-i ^(.*[E96aOêûâô])kErir$\n",
      "\tr-i ^(.*)sHivr$\n",
      "\tuvwar-y ^Emuvwar$\n",
      "\tir-y ^(.*[ptbdfsvzmnlr])ir$\n",
      "\n"
     ]
    }
   ],
   "source": [
    "listePaires=[(\"inf\",\"ppMP\")]\n",
    "showPatterns(listePaires,rules=rulesPMS)"
   ]
  },
  {
   "cell_type": "code",
   "execution_count": null,
   "metadata": {
    "scrolled": true
   },
   "outputs": [],
   "source": []
  },
  {
   "cell_type": "code",
   "execution_count": 20,
   "metadata": {
    "collapsed": true,
    "scrolled": true
   },
   "outputs": [],
   "source": [
    "#paradigmes[paradigmes[\"lexeme\"]==u\"cuire\"].stack().value_counts(dropna=True).sum()\n",
    "#paradigmes[paradigmes[\"lexeme\"]==u\"dépendre\"].stack()"
   ]
  },
  {
   "cell_type": "code",
   "execution_count": 80,
   "metadata": {
    "collapsed": true
   },
   "outputs": [],
   "source": [
    "\"\"\"\n",
    "A dictionary difference calculator\n",
    "Originally posted as:\n",
    "http://stackoverflow.com/questions/1165352/fast-comparison-between-two-python-dictionary/1165552#1165552\n",
    "\"\"\"\n",
    "\n",
    "\n",
    "class DictDiffer(object):\n",
    "    # TODO: on changed() avoid returning duplicate keys.\n",
    "    # TODO:\n",
    "    \"\"\"\n",
    "        Compares two dictionaries, traversing nested dictionaries,\n",
    "        and provides four simple methods to access the differences between them:\n",
    "            changed(), removed(), added(), unchanged()\n",
    "         All four methods return a tuple of tuples of keys.\n",
    "         When a given key is a nested one, it returns a tuple containing\n",
    "         all the keys in the path to that key. For instance, given the sample above,\n",
    "         the second \"b\" dict bellow contains the new \"y\" key under \"x\" and this in turn under \"c\",\n",
    "         so it returns on tuple: ('c', ('x', 'y'))\n",
    "    \"\"\"\n",
    "\n",
    "    def __init__(self, current_dict, past_dict):\n",
    "        self._added,self._removed,self._changed,self._unchanged = self.diff_dicts(current_dict, past_dict)\n",
    "\n",
    "        for key in (self._changed + self._unchanged):\n",
    "#            print key, current_dict[key], past_dict[key]\n",
    "            if isinstance(current_dict[key], dict) and isinstance(past_dict[key], dict):\n",
    "                self._extend( key, self.__class__(current_dict[key], past_dict[key]) )\n",
    "\n",
    "    def diff_dicts(self, current_dict, past_dict):\n",
    "        \"\"\"\n",
    "        This is the original functionality for simple (not nested) dicts:\n",
    "            Compares current_dict and past_dict and returns\n",
    "            (added, removed, changed, unchanged) keys\n",
    "        \"\"\"\n",
    "        set_current, set_past = set(current_dict.keys()), set(past_dict.keys())\n",
    "        intersect = set_current.intersection(set_past)\n",
    "        added = list(set_current - intersect)\n",
    "        removed = list(set_past - intersect)\n",
    "        changed = list(o for o in intersect if past_dict[o] != current_dict[o])\n",
    "        unchanged = list(o for o in intersect if past_dict[o] == current_dict[o])\n",
    "        return added, removed, changed, unchanged\n",
    "\n",
    "    def _extend(self, parent, diff):\n",
    "        \"\"\"\n",
    "            Adds the given differences to the appropriate members.\n",
    "            Used with nested dicts.\n",
    "        \"\"\"\n",
    "        self._added += [tuple([parent, o]) for o in diff._added]\n",
    "        self._removed += [tuple([parent, o]) for o in diff._removed]\n",
    "        self._changed += [tuple([parent, o]) for o in diff._changed]\n",
    "        self._unchanged += [tuple([parent, o]) for o in diff._unchanged]\n",
    "\n",
    "    def added(self):\n",
    "        return tuple(self._added)\n",
    "    def removed(self):\n",
    "        return tuple(self._removed)\n",
    "    def changed(self):\n",
    "        return tuple(self._changed)\n",
    "    def unchanged(self):\n",
    "        return tuple(self._unchanged)\n"
   ]
  },
  {
   "cell_type": "code",
   "execution_count": 81,
   "metadata": {
    "collapsed": true
   },
   "outputs": [],
   "source": [
    "def showDifference(listePaires,rules1=rulesPMS,rules2=rulesPMO):\n",
    "    for resultat in listePaires:\n",
    "        print \"paire :\",resultat\n",
    "    #    print resultatsLecture[resultat].patrons\n",
    "    #    for element in resultatsLecture[resultat].patrons:\n",
    "    #        print \"\\t\"+element, resultatsLecture[resultat].patrons[element]\n",
    "    #    print\n",
    "        test=DictDiffer(rules1[resultat].patrons,rules2[resultat].patrons)\n",
    "        if test.added(): print \"added\",test.added()\n",
    "        if test.removed():\n",
    "            print \"missing\"\n",
    "            for element in test.removed():\n",
    "                print \"\\t\"+element,rules2[resultat].patrons[element]\n",
    "            print \"classe\"\n",
    "            print \"\\t\"+element,rules2[resultat].classe\n",
    "        if test.changed():\n",
    "            print \"overspecified\"\n",
    "            for element in test.changed():\n",
    "                print \"\\t\"+element,rules2[resultat].patrons[element]\n",
    "                print \"\\t\"+element,rules1[resultat].patrons[element]\n",
    "                print\n",
    "        if test.unchanged():\n",
    "            print \"optimal\"\n",
    "            print \"\\t\"+element,rules2[resultat].patrons[element]"
   ]
  },
  {
   "cell_type": "code",
   "execution_count": 23,
   "metadata": {
    "scrolled": true
   },
   "outputs": [
    {
     "name": "stdout",
     "output_type": "stream",
     "text": [
      "paire : ('inf', 'ppMP')\n",
      "missing\n",
      "\tudr-Oly ^rEzudr$\n",
      "\tEr-y ^dEplEr$\n",
      "\tOr-o ^klOr$\n",
      "\tr-e ^Etr$\n",
      "classe\n",
      "\tr-e {u'Etr-i': {u'Etr-i': 8}, u'Etr-e': {u'Etr-e': 1}, u'Etr-y': {u'Etr-y': 2}, u'war-i, war-y': {u'war-i': 1}, '-': {'-': 877}, u'6vwar-y, war-y': {u'6vwar-y': 7}, u'dr-': {u'dr-': 2}, u'\\xe2dr-i, r-y': {u'\\xe2dr-i': 7}, u'Etr-i, Etr-y': {u'Etr-i': 1}, u'Or-o': {u'Or-o': 1}, u'ir-y, r-, u.ir-O.': {u'u.ir-O.': 1}, u'ir-y, r-': {u'r-': 62, u'ir-y': 23}, u'ir-y, r-, Erir-i': {u'Erir-i': 2}, u'Etr-y, r-y': {u'Etr-y': 4}, u'r-y': {u'r-y': 31}, u'r-e': {u'r-e': 1}, u'ir-y, r-, rir-Er': {u'rir-Er': 6}, u'r-i': {u'r-i': 2}, u'dr-, r-y': {u'dr-': 5}, u'dr-zy': {u'dr-zy': 1}, u'ivr-Eky': {u'ivr-Eky': 2}, u'Er-y, r-': {u'Er-y': 1}, u'war-y': {u'war-y': 11}, u'uvwar-y, war-y': {u'uvwar-y': 2}, u'r-': {u'r-': 43}, u'r-y, udr-Oly': {u'udr-Oly': 1}, u'avwar-y, war-y': {u'avwar-y': 2}}\n",
      "overspecified\n",
      "\trir-Er ^(.*[uOo][fv])rir$\n",
      "\trir-Er ^(.*)uvrir$\n",
      "\n",
      "\tivr-Eky ^(.*)vivr$\n",
      "\tivr-Eky ^vivr$\n",
      "\n",
      "\tEtr-y ^(.*[pk][E96aO][mnr])Etr$\n",
      "\tEtr-y ^(.*)kOnEtr$\n",
      "\n",
      "\t6vwar-y ^(.*[tdszl])6vwar$\n",
      "\t6vwar-y ^(.*[tdsz])6vwar$\n",
      "\n",
      "\tdr- ^(.*[ptkbdgfsSvzZjlrwH])êdr$\n",
      "\tdr- ^(.*[ptkbdgjwH])êdr$\n",
      "\n",
      "\twar-y ^(.*[ptkbdgfsSvzZlr])war$\n",
      "\twar-y ^(.*[fsSvzZlr])war$\n",
      "\n",
      "\tr- ^(.*[ptkbdgfsSvzZmnJjlrwHE96aOêûâô][iyEe92])r$\n",
      "\tr- ^(.*[ptkbdgfsSvzZmnJjlrwH][iEe])r$\n",
      "\n",
      "\tuvwar-y ^(.*[pbm])uvwar$\n",
      "\tuvwar-y ^Emuvwar$\n",
      "\n",
      "optimal\n",
      "\tuvwar-y ^(.*[pbm])uvwar$\n",
      "paire : ('pi1S', 'pi2S')\n",
      "overspecified\n",
      "\t-j ^(.*[ptfs])E$\n",
      "\t-j ^pE$\n",
      "\n",
      "optimal\n",
      "\t-j ^(.*[ptfs])E$\n",
      "paire : ('pi2S', 'pi1P')\n",
      "overspecified\n",
      "\tê-EJô ^([kgjE6a][ptbdfsvzr])ê$\n",
      "\tê-EJô ^krê$\n",
      "\n",
      "\tE.-6.ô ^(.*[ptkbdgfsSvzZmnJlr])E([ptbdfsvzmnl])$\n",
      "\tE.-6.ô ^(.*[ptbdmnl])E([bdvzmnl])$\n",
      "\n",
      "\to.-O.ô ^(.*[fsSvzZjriEe6][fsSvzZjrwHiyEe926uOo])poz$\n",
      "\to.-O.ô ^(.*[fsvzr][y92uOo])poz$\n",
      "\n",
      "\ti-jô ^(.*[mrE6ê][jriEe6a][fsvzr])i$\n",
      "\ti-jô ^(.*[mr])E([fs])i$\n",
      "\n",
      "\t-sô ^(.*[jrwHiyEe926auOoêûâô][tdsSzZn][iEe])$\n",
      "\t-sô ^(.*[iyEe926auOo][dzZn][iEe])$\n",
      "\n",
      "optimal\n",
      "\t-sô ^(.*[jrwHiyEe926auOoêûâô][tdsSzZn][iEe])$\n",
      "paire : ('pi2S', 'inf')\n",
      "missing\n",
      "\t2-6vwar ^pl2$\n",
      "\te-Ee ^kre$\n",
      "\t2.-6.e ^kr2z$\n",
      "\t9.-6.ir ^(.*)k9j$\n",
      "\t9..-6..e ^av9gl$\n",
      "\t-kr ^vê$\n",
      "\t-jir ^bu$\n",
      "classe\n",
      "\t-jir {u'-dr, j\\xea-6nir': {u'j\\xea-6nir': 17}, u'-dr, -tr, -we': {u'-tr': 1, u'-dr': 1, u'-we': 4}, u'-dr, -kr': {u'-kr': 1}, u'E.-6.e, -e': {u'-e': 41, u'E.-6.e': 24}, u'-dr, -je, -vr, -tr, -r': {u'-je': 3, u'-vr': 2, u'-r': 17}, u'-e, 2.-6.e': {u'2.-6.e': 1}, u'-e, 9.-6.e': {u'9.-6.e': 3}, u'-dr, -e, -tir': {u'-e': 40, u'-dr': 3, u'-tir': 2}, u'-dr, -je, -tr, -r': {u'-tr': 7, u'-je': 7, u'-r': 17}, u'-dr, -e': {u'-e': 50, u'-dr': 1}, u'-dr, -je, -vr, -tr, -r, i-je': {u'i-je': 1, u'-vr': 2}, u'-e': {u'-e': 561}, u'-dr, -tr, -we, -jir': {u'-jir': 1}, u'-dr, -e, -ir': {u'-e': 3, u'-ir': 2}, u'-e, o.-O.e': {u'o.-O.e': 25}, u'-tr, -r, i-je': {u'i-je': 1, u'-r': 5}, u'-He, -dr, -tr, -r': {u'-He': 9, u'-r': 3}, u'-dr, -e, -vir, -tir': {u'-e': 1, u'-vir': 1}, u'-He, -tr, -r': {u'-He': 3}, u'-dr, -je, -tr, -r, wa-6vwar': {u'-je': 2, u'wa-6vwar': 5, u'-r': 1}, u'-tr, -r': {u'-tr': 11, u'-r': 2}, u'-dr, -tr, o-alwar': {u'o-alwar': 2}, u'-dr, -tr, -r': {u'-r': 1}, u'-dr, -je, -tr, -r, e-Ee': {u'e-Ee': 1}, u'2-6vwar, -dr, -tr, -r': {u'2-6vwar': 1}, u'-tr, -r, 2-uvwar': {u'2-uvwar': 1}, u'-dr, -je, -tr, -r, E-avwar': {u'E-avwar': 1}, u'-dr, -e, -tir, -ir': {u'-e': 1, u'-ir': 5}, u'-e, -tir': {u'-e': 11, u'-tir': 2}, u'-dr, -je, -tr, -r, i-je': {u'i-je': 24, u'-r': 46, u'-je': 9}, u'-dr': {u'-dr': 12}, u'-dr, -tir': {u'-dr': 20, u'-tir': 3}, u'-dr, -tr, -r, 2-uvwar': {u'2-uvwar': 1}, u'-dr, -pr': {u'-pr': 1}, u'-dr, -e, -tir, -mir': {u'-e': 1, u'-mir': 2}, u'je-war, -dr, -je, -tr, -r': {u'je-war': 1}, u'-dr, -je, -tr, -r, va-ale': {u'va-ale': 1}, u'-tir': {u'-tir': 1}, u'-dr, -e, 9.-6.ir': {u'9.-6.ir': 3}, u'-dr, -e, 9.-u.ir, -tir, 9.-6.e': {u'9.-u.ir': 1}, u'-vwar, -tr': {u'-vwar': 1}, u'-e, 9..-6..e': {u'9..-6..e': 1}, u'-tr, -we': {u'-we': 1}, u'-dr, -e, -tir, 9.-6.e': {u'9.-6.e': 2}, u'-tr, E-air': {u'-tr': 1, u'E-air': 1}, u'-dr, 2-ulwar, -tr, -r': {u'2-ulwar': 1}}\n",
      "overspecified\n",
      "\t-He ^(.*[ptbdmnl])y$\n",
      "\t-He ^(.*[tdn])y$\n",
      "\n",
      "\t-vr ^(.*[vjH])i$\n",
      "\t-vr ^(.*)vi$\n",
      "\n",
      "\t-r ^(.*[ptkbdgfsSvzZmnJjlrwHE96aOêûâô][iyEe92a])$\n",
      "\t-r ^(.*[ptkbdgfsSvzZmnJjlrwHE96aOêûâô][iEea])$\n",
      "\n",
      "\t2-uvwar ^(.*[pbm])2$\n",
      "\t2-uvwar ^p2$\n",
      "\n",
      "\to.-O.e ^(.*)o([ptkbdgfsSvzZlr])$\n",
      "\to.-O.e ^(.*)o([ptbdfsvzl])$\n",
      "\n",
      "\t-dr ^(.*[ptkbdgfsSvzZjlrwHiyEe926uOo][jrwHiyEe926auOoêûâô])$\n",
      "\t-dr ^(.*[ptkbdgfsSvzZjrwHE96O][jrwHiyEe926auOoêûâô])$\n",
      "\n",
      "\ti-je ^(.*[ptkbdgfsSvzZmnJlr])i$\n",
      "\ti-je ^(.*[ptkbdgfsSvzZmnJr])i$\n",
      "\n",
      "\to-alwar ^([fv])o$\n",
      "\to-alwar ^vo$\n",
      "\n",
      "\t-we ^(.*[ptkbdgfsSvzZmnJlr])u$\n",
      "\t-we ^Zu$\n",
      "\n",
      "\t9.-6.e ^(.*[bdgvzZmnJlr])9([mnlr])$\n",
      "\t9.-6.e ^(.*[pbE6][bdgvzZmnJlr])9([mnr])$\n",
      "\n",
      "\t-ir ^(.*[kgw6uOo][fvjrwHiyEe926uOo])r$\n",
      "\t-ir ^(.*[kgwu][vjrwHiyEe926uOo])r$\n",
      "\n",
      "optimal\n",
      "\t-ir ^(.*[kgw6uOo][fvjrwHiyEe926uOo])r$\n"
     ]
    }
   ],
   "source": [
    "listePaires=[(\"inf\",\"ppMP\"),(\"pi1S\",\"pi2S\"),(\"pi2S\",\"pi1P\"),(\"pi2S\",\"inf\")]\n",
    "showDifference(listePaires)"
   ]
  },
  {
   "cell_type": "code",
   "execution_count": 82,
   "metadata": {},
   "outputs": [],
   "source": [
    "cases=set([case for (case,autre) in rulesPMO.keys()])\n",
    "systemes=[r+\"-\"+c for r in [\"PMS\",\"PMO\"] for c in [\"AC\",\"SC\"]]"
   ]
  },
  {
   "cell_type": "code",
   "execution_count": 83,
   "metadata": {
    "collapsed": true
   },
   "outputs": [],
   "source": [
    "def printSortie(paire,forme,rules,context=False):\n",
    "    sorties=rules[paire].sortirForme(forme,contextFree=context)\n",
    "    return [s+\" : %2.2f\"%sorties[s] for s in sorties]\n"
   ]
  },
  {
   "cell_type": "code",
   "execution_count": 84,
   "metadata": {
    "collapsed": true
   },
   "outputs": [],
   "source": [
    "paire=(\"fi2S\",\"fi1P\")\n",
    "forme1=u\"abâdOn6ra\""
   ]
  },
  {
   "cell_type": "code",
   "execution_count": 53,
   "metadata": {},
   "outputs": [],
   "source": [
    "def printAlternatives(paire,forme1,lRules=systemes):\n",
    "    if \"PMS-AC\" in lRules:\n",
    "        print \"PMS avec contexte\\n\\t\",\n",
    "        print \"\\n\\t\".join(printSortie(paire,forme1,rulesPMS,context=False))\n",
    "    if \"PMS-SC\" in lRules:\n",
    "        print \"PMS sans contexte\\n\\t\",\n",
    "        print \"\\n\\t\".join(printSortie(paire,forme1,rulesPMS,context=True))\n",
    "    if \"PMO-AC\" in lRules:\n",
    "        print \"PMO avec contexte\\n\\t\",\n",
    "        print \"\\n\\t\".join(printSortie(paire,forme1,rulesPMO,context=False))\n",
    "    if \"PMO-SC\" in lRules:\n",
    "        print \"PMO sans contexte\\n\\t\",\n",
    "        print \"\\n\\t\".join(printSortie(paire,forme1,rulesPMO,context=True))"
   ]
  },
  {
   "cell_type": "code",
   "execution_count": 86,
   "metadata": {},
   "outputs": [
    {
     "name": "stdout",
     "output_type": "stream",
     "text": [
      "mOrdjô\n",
      "('ii1P', u'ii1P')\n",
      "PMS avec contexte\n",
      "\tmOrdjô : 1.00\n",
      "('ii1P', u'pP')\n",
      "PMS avec contexte\n",
      "\tmOrdâ : 1.00\n",
      "('ii1P', u'is1S')\n",
      "PMS avec contexte\n",
      "\t\n",
      "('ii1P', u'ii1S')\n",
      "PMS avec contexte\n",
      "\tmOrdE : 1.00\n",
      "('ii1P', u'ppMP')\n",
      "PMS avec contexte\n",
      "\tmOrdi : 0.33\n",
      "\tmOrdy : 0.33\n",
      "\tmOrde : 0.33\n",
      "('ii1P', u'ai1P')\n",
      "PMS avec contexte\n",
      "\tmOrdim : 0.34\n",
      "\tmOrdam : 0.66\n",
      "('ii1P', u'ai1S')\n",
      "PMS avec contexte\n",
      "\tmOrdi : 0.18\n",
      "\tmOrdE : 0.82\n",
      "('ii1P', u'pc1S')\n",
      "PMS avec contexte\n",
      "\tmOrdirE : 0.24\n",
      "\tmOrd6rE : 0.52\n",
      "\tmOrdrE : 0.24\n",
      "('ii1P', u'pi2S')\n",
      "PMS avec contexte\n",
      "\tmOr : 0.91\n",
      "\tmOrd : 0.09\n",
      "('ii1P', u'inf')\n",
      "PMS avec contexte\n",
      "\tmOrdr : 0.14\n",
      "\tmOrde : 0.80\n",
      "\tmOrdir : 0.07\n",
      "('ii1P', u'pi2P')\n",
      "PMS avec contexte\n",
      "\tmOrde : 1.00\n",
      "('ii1P', u'ppFP')\n",
      "PMS avec contexte\n",
      "\tmOrdi : 0.29\n",
      "\tmOrde : 0.71\n",
      "('ii1P', u'ps1P')\n",
      "PMS avec contexte\n",
      "\t\n",
      "('ii1P', u'is2P')\n",
      "PMS avec contexte\n",
      "\t\n",
      "('ii1P', u'ps1S')\n",
      "PMS avec contexte\n",
      "\tmOrd : 1.00\n",
      "('ii1P', u'pI2S')\n",
      "PMS avec contexte\n",
      "\tmOrd : 1.00\n",
      "('ii1P', u'fi2P')\n",
      "PMS avec contexte\n",
      "\tmOrdire : 0.22\n",
      "\tmOrd6re : 0.48\n",
      "\tmOrdre : 0.30\n",
      "('ii1P', u'fi2S')\n",
      "PMS avec contexte\n",
      "\tmOrd6ra : 0.44\n",
      "\tmOrdra : 0.25\n",
      "\tmOrdira : 0.31\n",
      "('ii1P', u'pI2P')\n",
      "PMS avec contexte\n",
      "\tmOrde : 1.00\n",
      "('ii1P', u'ps2P')\n",
      "PMS avec contexte\n",
      "\tmOrdje : 1.00\n",
      "('ii1P', u'ai2P')\n",
      "PMS avec contexte\n",
      "\t\n",
      "('ii1P', u'ai2S')\n",
      "PMS avec contexte\n",
      "\tmOrda : 1.00\n",
      "('ii1P', u'pc2P')\n",
      "PMS avec contexte\n",
      "\tmOrdirje : 0.33\n",
      "\tmOrd6rje : 0.67\n",
      "('ii1P', u'ii2P')\n",
      "PMS avec contexte\n",
      "\tmOrdje : 1.00\n",
      "('ii1P', u'pi1S')\n",
      "PMS avec contexte\n",
      "\tmOr : 0.77\n",
      "\tmOrd : 0.23\n",
      "('ii1P', u'pi1P')\n",
      "PMS avec contexte\n",
      "\tmOrdô : 1.00\n",
      "('ii1P', u'pi3P')\n",
      "PMS avec contexte\n",
      "\tmOrd : 1.00\n",
      "('ii1P', u'pc1P')\n",
      "PMS avec contexte\n",
      "\tmOrd6rjô : 1.00\n",
      "('ii1P', u'is1P')\n",
      "PMS avec contexte\n",
      "\t\n",
      "('ii1P', u'ai3P')\n",
      "PMS avec contexte\n",
      "\tmOrdir : 0.18\n",
      "\tmOrdEr : 0.82\n",
      "('ii1P', u'fi1P')\n",
      "PMS avec contexte\n",
      "\tmOrdirô : 0.26\n",
      "\tmOrdrô : 0.21\n",
      "\tmOrd6rô : 0.53\n",
      "('ii1P', u'fi1S')\n",
      "PMS avec contexte\n",
      "\tmOrdirE : 0.21\n",
      "\tmOrd6rE : 0.58\n",
      "\tmOrdrE : 0.21\n",
      "('ii1P', u'pI1P')\n",
      "PMS avec contexte\n",
      "\tmOrdô : 1.00\n"
     ]
    }
   ],
   "source": [
    "case1=\"ii1P\"\n",
    "forme1=u\"mOrdjô\"\n",
    "paires=[(case1,c) for c in cases]\n",
    "print forme1\n",
    "for paire in paires:\n",
    "    print paire\n",
    "    printAlternatives(paire,forme1,lRules=[\"PMS-AC\"])\n"
   ]
  },
  {
   "cell_type": "code",
   "execution_count": null,
   "metadata": {
    "collapsed": true
   },
   "outputs": [],
   "source": []
  }
 ],
 "metadata": {
  "kernelspec": {
   "display_name": "Python 2",
   "language": "python",
   "name": "python2"
  },
  "language_info": {
   "codemirror_mode": {
    "name": "ipython",
    "version": 2
   },
   "file_extension": ".py",
   "mimetype": "text/x-python",
   "name": "python",
   "nbconvert_exporter": "python",
   "pygments_lexer": "ipython2",
   "version": "2.7.11"
  }
 },
 "nbformat": 4,
 "nbformat_minor": 1
}
