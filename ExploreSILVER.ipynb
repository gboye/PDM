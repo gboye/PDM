{
 "cells": [
  {
   "cell_type": "code",
   "execution_count": 64,
   "metadata": {
    "collapsed": true
   },
   "outputs": [],
   "source": [
    "import pandas as pd\n",
    "import numpy as np\n",
    "import yaml\n",
    "debug=False\n",
    "from __future__ import print_function\n",
    "import datetime\n",
    "def dateheure():\n",
    "    return datetime.datetime.utcnow().strftime('%y%m%d%H%M')"
   ]
  },
  {
   "cell_type": "code",
   "execution_count": 2,
   "metadata": {
    "collapsed": true
   },
   "outputs": [],
   "source": [
    "sampleNumber=\"01-X\"\n",
    "samplePrefix=\"MGC-150815-extend-%s-paradigmes\"%sampleNumber\n",
    "analysisPrefix=\"MGC-150815-extend-%s\"%sampleNumber"
   ]
  },
  {
   "cell_type": "code",
   "execution_count": 5,
   "metadata": {
    "collapsed": true
   },
   "outputs": [],
   "source": [
    "SILVER=pd.read_csv(\"2015-Data/\"+analysisPrefix+'-Silver.csv',sep=\";\",encoding=\"utf8\")\n",
    "del SILVER[\"Unnamed: 0\"]"
   ]
  },
  {
   "cell_type": "code",
   "execution_count": 59,
   "metadata": {
    "collapsed": true
   },
   "outputs": [],
   "source": [
    "GOLD=pd.read_csv(\"2015-Data/\"+analysisPrefix+'-Gold.csv',sep=\";\",encoding=\"utf8\")\n",
    "del GOLD[\"Unnamed: 0\"]"
   ]
  },
  {
   "cell_type": "code",
   "execution_count": 47,
   "metadata": {
    "collapsed": false
   },
   "outputs": [],
   "source": [
    "paradigmeSILVER=SILVER.groupby(\"lexeme\").agg(lambda x: list(set(x.dropna().values))).reset_index()"
   ]
  },
  {
   "cell_type": "code",
   "execution_count": 57,
   "metadata": {
    "collapsed": false
   },
   "outputs": [],
   "source": [
    "sampleCases=paradigmeSILVER.columns.values.tolist()\n",
    "for element in [u\"lexeme\",u\"ajouts\",u\"score\"]:\n",
    "    sampleCases.remove(element)\n",
    "analyseCases=sampleCases"
   ]
  },
  {
   "cell_type": "code",
   "execution_count": 108,
   "metadata": {
    "collapsed": false
   },
   "outputs": [],
   "source": [
    "def compareGOLD(row):\n",
    "    global n\n",
    "#    if row[\"lexeme\"]==\"dodo\": \n",
    "#        debug=True\n",
    "#    else:\n",
    "#        debug=False\n",
    "    if n%250==0: print (n,end=\", \")\n",
    "    n+=1\n",
    "    ligne={k:\",\".join(row[k]) for k in row.keys() if not k in [\"lexeme\",\"score\",\"ajouts\"]}\n",
    "    if n<5: print (ligne)\n",
    "    lexeme=row[\"lexeme\"]\n",
    "    score=float(row[\"score\"][0])\n",
    "    ajouts=int(row[\"ajouts\"][0])\n",
    "    if not lexeme in conjugaisons:\n",
    "        conjugaisons[lexeme]={\"diff\":[],\"miss\":[],\"over\":[],\"overmiss\":[],\"ok\":[]}\n",
    "    if not lexeme in cliquesTypes:\n",
    "        cliquesTypes[lexeme]={\"diff\":[],\"miss\":[],\"over\":[],\"overmiss\":[],\"ok\":[]}\n",
    "    identiques=[]\n",
    "    differents=[]\n",
    "    missing=[]\n",
    "    over=[]\n",
    "    for case in analyseCases:\n",
    "        if debug:    \n",
    "            print (lexeme,case)\n",
    "            print (GOLD[GOLD[\"lexeme\"]==lexeme][case].item())\n",
    "            print ((GOLD[GOLD[\"lexeme\"]==lexeme][case].isnull().iloc[0]))\n",
    "#        if not case in row:\n",
    "        if not case in ligne:\n",
    "            if debug: print (\"not case\")\n",
    "            missing.append(u\"%s : Ø ≠ %s\" % (case,GOLD[GOLD[\"lexeme\"]==lexeme][case].item()))\n",
    "            lexical=False\n",
    "            if debug: print (\"absence\",case)\n",
    "#        elif case in row[row.isnull()] and not GOLD[GOLD[\"lexeme\"]==lexeme][case].isnull().iloc[0]:\n",
    "        elif ligne[case]==\"\" and not GOLD[GOLD[\"lexeme\"]==lexeme][case].isnull().iloc[0]:\n",
    "            if debug: print (\"not case\")\n",
    "            missing.append(u\"%s : Ø ≠ %s\" % (case,GOLD[GOLD[\"lexeme\"]==lexeme][case].item()))\n",
    "            lexical=False\n",
    "            if debug: print (\"CLIQUES +NaN\",case)\n",
    "#        elif not case in row[row.isnull()] and GOLD[GOLD[\"lexeme\"]==lexeme][case].isnull().iloc[0]:\n",
    "        elif ligne[case]!=\"\" and GOLD[GOLD[\"lexeme\"]==lexeme][case].isnull().iloc[0]:\n",
    "            if debug: print (\"not case\")\n",
    "#            over.append(u\"%s : %s ≠ Ø\" % (case,row[case]))\n",
    "            over.append(u\"%s : %s ≠ Ø\" % (case,ligne[case]))\n",
    "            lexical=False\n",
    "            if debug: print (\"GOLD -NaN\",case)            \n",
    "#        elif (row[case]==GOLD[GOLD[\"lexeme\"]==lexeme][case].item()):\n",
    "        elif (ligne[case]==GOLD[GOLD[\"lexeme\"]==lexeme][case].item()):\n",
    "            if debug: print (\"egal\")\n",
    "#            identiques.append(u\"%s : %s\" % (case,row[case]))\n",
    "            identiques.append(u\"%s : %s\" % (case,ligne[case]))\n",
    "            if debug: print (\"valeurs id\")\n",
    "#        elif (case in row[row.isnull()]) and (GOLD[GOLD[\"lexeme\"]==lexeme][case].isnull().iloc[0]):\n",
    "        elif ligne[case]==\"\" and (GOLD[GOLD[\"lexeme\"]==lexeme][case].isnull().iloc[0]):\n",
    "            if debug: print (\"NaNs\")\n",
    "            identiques.append(u\"%s : %s\" % (case,u\"ØØØ\"))\n",
    "            if debug: print (\"deux NaN\")\n",
    "        else:\n",
    "            if debug: print (\"else\")\n",
    "#            differents.append(u\"%s : %s ≠ %s\" % (case, row[case],GOLD[GOLD[\"lexeme\"]==lexeme][case].item()))\n",
    "            differents.append(u\"%s : %s ≠ %s\" % (case, ligne[case],GOLD[GOLD[\"lexeme\"]==lexeme][case].item()))\n",
    "            lexical=False\n",
    "            if debug: print (u\"différence\",case)\n",
    "    if differents:\n",
    "        conjugaisons[lexeme][\"diff\"].append(differents)\n",
    "        cliquesTypes[lexeme][\"diff\"].append((ligne,score,ajouts))\n",
    "        if debug: print (\"DIFF\",len(differents),\"=>\", len(identiques), len(identiques)-nombreElements[lexeme], end=saut)\n",
    "        if debug1: print (\", \".join(differents))\n",
    "    if missing and over:\n",
    "        conjugaisons[lexeme][\"overmiss\"].append(over+missing)\n",
    "        cliquesTypes[lexeme][\"overmiss\"].append((ligne,score,ajouts))\n",
    "        if debug: print (\"OVERMISS\", len(over), len(missing),\"=>\", len(identiques), len(identiques)-nombreElements[lexeme], end=saut)\n",
    "        if debug1: \n",
    "            print (\", \".join(missing))\n",
    "            print (\", \".join(over))\n",
    "    elif missing:\n",
    "        conjugaisons[lexeme][\"miss\"].append(missing)\n",
    "        cliquesTypes[lexeme][\"miss\"].append((ligne,score,ajouts))\n",
    "        if debug: print (\"MISS\", len(missing),\"=>\", len(identiques), len(identiques)-nombreElements[lexeme], end=saut)\n",
    "        if debug1: \n",
    "            print (\", \".join(missing))\n",
    "    elif over:\n",
    "        conjugaisons[lexeme][\"over\"].append(over)\n",
    "        cliquesTypes[lexeme][\"over\"].append((ligne,score,ajouts))\n",
    "        if debug: print (\"OVER\", len(over),\"=>\", len(identiques), len(identiques)-nombreElements[lexeme], end=saut)\n",
    "        if debug1: \n",
    "            print (\", \".join(over))\n",
    "    if identiques:\n",
    "        conjugaisons[lexeme][\"ok\"].append(identiques)\n",
    "        cliquesTypes[lexeme][\"ok\"].append((ligne,score,ajouts))\n",
    "        if debug: print (\"OK\", len(identiques), len(identiques)-nombreElements[lexeme],end=saut)\n",
    "        if debug1: print (\", \".join(identiques))\n",
    "#    print ()\n",
    "    return lexical"
   ]
  },
  {
   "cell_type": "code",
   "execution_count": 109,
   "metadata": {
    "collapsed": false
   },
   "outputs": [
    {
     "name": "stdout",
     "output_type": "stream",
     "text": [
      "ai1P, ai1S, ai2P, ai2S, ai3P, ai3S, fi1P, fi1S, fi2P, fi2S, fi3P, fi3S, ii1P, ii1S, ii2P, ii2S, ii3P, ii3S, inf, is1P, is1S, is2P, is2S, is3P, is3S, pI1P, pI2P, pI2S, pP, pc1P, pc1S, pc2P, pc2S, pc3P, pc3S, pi1P, pi1S, pi2P, pi2S, pi3P, pi3S, ppFP, ppFS, ppMP, ppMS, ps1P, ps1S, ps2P, ps2S, ps3P, ps3S\n",
      "0, {u'ii1P': u'abEsj\\xf4', u'ii1S': u'abEsE', u'pc1P': '', u'pP': u'abEs\\xe2', u'ai3S': u'abEsa', u'ai3P': u'abEsEr', u'is3P': '', u'is3S': '', u'ps3S': u'abEs', u'ii3S': u'abEsE', u'ai1P': '', u'inf': u'abEse', u'ii3P': u'abEsE', u'pi2S': u'abEs', u'ai1S': u'abEsE', u'pi2P': u'abEse', u'ppFS': u'abEse', u'ppFP': u'abEse', u'is2S': '', u'is2P': '', u'ps3P': u'abEs', u'ps1S': u'abEs', u'pI2S': u'abEs', u'fi2P': '', u'fi2S': u'abEs6ra', u'pI2P': '', u'ps2P': '', u'ps2S': u'abEs', u'ps1P': '', u'ai2P': '', u'ai2S': '', u'pc2P': '', u'pc2S': u'abEs6rE', u'ii2P': '', u'pi1S': u'abEs', u'pi1P': u'abEs\\xf4', u'ii2S': '', u'pi3P': u'abEs', u'pi3S': u'abEs', u'ppMS': u'abEse', u'pc3S': u'abEs6rE', u'pc3P': '', u'is1S': '', u'is1P': '', u'fi3S': u'abEs6ra', u'fi3P': u'abEs6r\\xf4', u'ppMP': u'abEse', u'fi1P': u'abEs6r\\xf4', u'fi1S': u'abEs6rE', u'pc1S': u'abEs6rE', u'pI1P': u'abEs\\xf4'}\n",
      "{u'ii1P': u'ab\\xe2dOnj\\xf4', u'ii1S': u'ab\\xe2dOnE', u'pc1P': '', u'pP': u'ab\\xe2dOn\\xe2', u'ai3S': u'ab\\xe2dOna', u'ai3P': u'ab\\xe2dOnEr', u'is3P': '', u'is3S': '', u'ps3S': u'ab\\xe2dOn', u'ii3S': u'ab\\xe2dOnE', u'ai1P': '', u'inf': u'ab\\xe2dOne', u'ii3P': u'ab\\xe2dOnE', u'pi2S': u'ab\\xe2dOn', u'ai1S': '', u'pi2P': u'ab\\xe2dOne', u'ppFS': u'ab\\xe2dOne', u'ppFP': u'ab\\xe2dOne', u'is2S': '', u'is2P': '', u'ps3P': u'ab\\xe2dOn', u'ps1S': u'ab\\xe2dOn', u'pI2S': u'ab\\xe2dOn', u'fi2P': '', u'fi2S': '', u'pI2P': u'ab\\xe2dOne', u'ps2P': '', u'ps2S': u'ab\\xe2dOn', u'ps1P': '', u'ai2P': '', u'ai2S': '', u'pc2P': '', u'pc2S': u'ab\\xe2dOn6rE', u'ii2P': u'ab\\xe2dOnje', u'pi1S': u'ab\\xe2dOn', u'pi1P': u'ab\\xe2dOn\\xf4', u'ii2S': u'ab\\xe2dOnE', u'pi3P': u'ab\\xe2dOn', u'pi3S': u'ab\\xe2dOn', u'ppMS': u'ab\\xe2dOne', u'pc3S': u'ab\\xe2dOn6rE', u'pc3P': '', u'is1S': '', u'is1P': '', u'fi3S': u'ab\\xe2dOn6ra', u'fi3P': '', u'ppMP': u'ab\\xe2dOne', u'fi1P': u'ab\\xe2dOn6r\\xf4', u'fi1S': u'ab\\xe2dOn6rE', u'pc1S': u'ab\\xe2dOn6rE', u'pI1P': ''}\n",
      "{u'ii1P': '', u'ii1S': '', u'pc1P': '', u'pP': '', u'ai3S': u'abazurdi', u'ai3P': u'abazurdir', u'is3P': '', u'is3S': '', u'ps3S': '', u'ii3S': '', u'ai1P': '', u'inf': u'abazurdir', u'ii3P': '', u'pi2S': u'abazurdi', u'ai1S': u'abazurdi', u'pi2P': '', u'ppFS': '', u'ppFP': '', u'is2S': '', u'is2P': '', u'ps3P': '', u'ps1S': '', u'pI2S': u'abazurdi', u'fi2P': u'abazurdire', u'fi2S': u'abazurdira', u'pI2P': '', u'ps2P': '', u'ps2S': '', u'ps1P': '', u'ai2P': '', u'ai2S': '', u'pc2P': '', u'pc2S': u'abazurdirE', u'ii2P': '', u'pi1S': u'abazurdi', u'pi1P': '', u'ii2S': '', u'pi3P': '', u'pi3S': u'abazurdi', u'ppMS': u'abazurdi', u'pc3S': u'abazurdirE', u'pc3P': '', u'is1S': '', u'is1P': '', u'fi3S': u'abazurdira', u'fi3P': u'abazurdir\\xf4', u'ppMP': u'abazurdi', u'fi1P': u'abazurdir\\xf4', u'fi1S': u'abazurdirE', u'pc1S': u'abazurdirE', u'pI1P': ''}\n",
      "{u'ii1P': '', u'ii1S': u'abatE', u'pc1P': '', u'pP': u'abat\\xe2', u'ai3S': u'abati', u'ai3P': u'abatir', u'is3P': '', u'is3S': '', u'ps3S': u'abat', u'ii3S': u'abatE', u'ai1P': '', u'inf': u'abatr', u'ii3P': u'abatE', u'pi2S': '', u'ai1S': '', u'pi2P': '', u'ppFS': u'abaty', u'ppFP': '', u'is2S': '', u'is2P': '', u'ps3P': '', u'ps1S': u'abat', u'pI2S': '', u'fi2P': '', u'fi2S': '', u'pI2P': u'abate', u'ps2P': '', u'ps2S': '', u'ps1P': '', u'ai2P': '', u'ai2S': '', u'pc2P': '', u'pc2S': '', u'ii2P': '', u'pi1S': '', u'pi1P': u'abat\\xf4', u'ii2S': '', u'pi3P': u'abat', u'pi3S': u'aba', u'ppMS': u'abaty', u'pc3S': '', u'pc3P': '', u'is1S': '', u'is1P': '', u'fi3S': '', u'fi3P': '', u'ppMP': u'abaty', u'fi1P': '', u'fi1S': '', u'pc1S': '', u'pI1P': ''}\n",
      "250, 500, 750, CPU times: user 1min 16s, sys: 155 ms, total: 1min 16s\n",
      "Wall time: 1min 17s\n"
     ]
    }
   ],
   "source": [
    "%%time\n",
    "debug=False\n",
    "debug1=False\n",
    "saut=\"\\n\"\n",
    "n=0\n",
    "conjugaisons={}\n",
    "cliquesTypes={}\n",
    "print (\", \".join(sampleCases))\n",
    "#paradigmesCLIQUES.apply(compareGOLD,axis=1)\n",
    "paradigmeSILVER.apply(compareGOLD,axis=1)"
   ]
  },
  {
   "cell_type": "code",
   "execution_count": 110,
   "metadata": {
    "collapsed": false,
    "scrolled": true
   },
   "outputs": [],
   "source": [
    "yaml.safe_dump(conjugaisons, file(\"2015-Data/\"+samplePrefix+dateheure()+\".yaml\",'w'), encoding='utf-8', allow_unicode=True)\n",
    "yaml.safe_dump(cliquesTypes, file(\"2015-Data/\"+samplePrefix+\"cliques-\"+dateheure()+\".yaml\",'w'), encoding='utf-8', allow_unicode=True)"
   ]
  },
  {
   "cell_type": "code",
   "execution_count": 111,
   "metadata": {
    "collapsed": false
   },
   "outputs": [
    {
     "data": {
      "text/plain": [
       "{'bon': 17831, 'mauvais': 1472}"
      ]
     },
     "execution_count": 111,
     "metadata": {},
     "output_type": "execute_result"
    }
   ],
   "source": [
    "precisions={\"bon\":0,\"mauvais\":0}\n",
    "for verbe in cliquesTypes:\n",
    "    if debug: print (verbe)\n",
    "    for cle in cliquesTypes[verbe]:\n",
    "        if debug: print (cle)\n",
    "        for element in cliquesTypes[verbe][cle]:\n",
    "            if debug: print (element[1],element[2])\n",
    "            if cle in [\"ok\"]:\n",
    "                precisions[\"bon\"]+=element[2]\n",
    "            elif cle in [\"diff\"]:\n",
    "                precisions[\"mauvais\"]+=element[2]\n",
    "precisions"
   ]
  },
  {
   "cell_type": "code",
   "execution_count": 112,
   "metadata": {
    "collapsed": false
   },
   "outputs": [
    {
     "data": {
      "text/plain": [
       "0.9237424234574937"
      ]
     },
     "execution_count": 112,
     "metadata": {},
     "output_type": "execute_result"
    }
   ],
   "source": [
    "float(precisions[\"bon\"])/(precisions[\"bon\"]+precisions[\"mauvais\"])"
   ]
  },
  {
   "cell_type": "code",
   "execution_count": 113,
   "metadata": {
    "collapsed": false
   },
   "outputs": [
    {
     "data": {
      "text/plain": [
       "{'bon': 22120, 'mauvais': 2341, 'total': 44508}"
      ]
     },
     "execution_count": 113,
     "metadata": {},
     "output_type": "execute_result"
    }
   ],
   "source": [
    "basesMesures={\"total\":0,\"bon\":0,\"mauvais\":0}\n",
    "for verbe in conjugaisons:\n",
    "    for cat in conjugaisons[verbe]:\n",
    "        if conjugaisons[verbe][cat]:\n",
    "#            print (verbe,cat,len(conjugaisons[verbe][cat][0]))\n",
    "            if cat==\"miss\":\n",
    "                basesMesures[\"total\"]+=len(conjugaisons[verbe][cat][0])\n",
    "            elif cat==\"ok\":\n",
    "                basesMesures[\"bon\"]+=len(conjugaisons[verbe][cat][0])\n",
    "                basesMesures[\"total\"]+=len(conjugaisons[verbe][cat][0])\n",
    "            elif cat==\"diff\":\n",
    "                basesMesures[\"mauvais\"]+=len(conjugaisons[verbe][cat][0])\n",
    "                basesMesures[\"total\"]+=len(conjugaisons[verbe][cat][0])\n",
    "            elif cat==\"overmiss\":\n",
    "                basesMesures[\"mauvais\"]+=len(conjugaisons[verbe][cat][0])\n",
    "                basesMesures[\"total\"]+=len(conjugaisons[verbe][cat][0])\n",
    "basesMesures"
   ]
  },
  {
   "cell_type": "code",
   "execution_count": 114,
   "metadata": {
    "collapsed": false
   },
   "outputs": [
    {
     "data": {
      "text/plain": [
       "0.904296635460529"
      ]
     },
     "execution_count": 114,
     "metadata": {},
     "output_type": "execute_result"
    }
   ],
   "source": [
    "precisionManip=float(basesMesures[\"bon\"])/(basesMesures[\"bon\"]+basesMesures[\"mauvais\"])\n",
    "precisionManip"
   ]
  },
  {
   "cell_type": "code",
   "execution_count": 115,
   "metadata": {
    "collapsed": false
   },
   "outputs": [
    {
     "data": {
      "text/plain": [
       "0.4969893052934304"
      ]
     },
     "execution_count": 115,
     "metadata": {},
     "output_type": "execute_result"
    }
   ],
   "source": [
    "rappelManip=float(basesMesures[\"bon\"])/(basesMesures[\"total\"])\n",
    "rappelManip"
   ]
  },
  {
   "cell_type": "code",
   "execution_count": null,
   "metadata": {
    "collapsed": true
   },
   "outputs": [],
   "source": []
  }
 ],
 "metadata": {
  "kernelspec": {
   "display_name": "Python 2",
   "language": "python",
   "name": "python2"
  },
  "language_info": {
   "codemirror_mode": {
    "name": "ipython",
    "version": 2
   },
   "file_extension": ".py",
   "mimetype": "text/x-python",
   "name": "python",
   "nbconvert_exporter": "python",
   "pygments_lexer": "ipython2",
   "version": "2.7.10"
  }
 },
 "nbformat": 4,
 "nbformat_minor": 0
}
