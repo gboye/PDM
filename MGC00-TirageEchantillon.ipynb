{
 "cells": [
  {
   "cell_type": "code",
   "execution_count": 1,
   "metadata": {
    "collapsed": true
   },
   "outputs": [],
   "source": [
    "# -*- coding: utf8 -*-\n",
    "import codecs\n",
    "import features\n",
    "import re\n",
    "import pandas as pd\n",
    "import numpy as np\n",
    "import matplotlib.pyplot as plt\n",
    "%matplotlib inline\n",
    "\n",
    "import itertools as it\n",
    "import pickle"
   ]
  },
  {
   "cell_type": "code",
   "execution_count": 2,
   "metadata": {
    "collapsed": true
   },
   "outputs": [],
   "source": [
    "import datetime\n",
    "def dateheure():\n",
    "    return datetime.datetime.utcnow().strftime('%y%m%d%H%M')"
   ]
  },
  {
   "cell_type": "markdown",
   "metadata": {},
   "source": [
    "typeEchantillon : \n",
    "- fixe pour utiliser tailleEchantillon\n",
    "- variable pour utiliser nombre,increment\n",
    "- total pour utiliser tout le lexique"
   ]
  },
  {
   "cell_type": "code",
   "execution_count": 3,
   "metadata": {
    "collapsed": false
   },
   "outputs": [],
   "source": [
    "filePrefix=\"MGC-160104\"\n",
    "lexiquePrefix=\"MGC-160104\"\n",
    "nbEchantillons=6\n",
    "tailleEchantillon=15000"
   ]
  },
  {
   "cell_type": "markdown",
   "metadata": {},
   "source": [
    "##Importations\n",
    "- codecs pour les encodages\n",
    "- pandas et numpy pour les calculs sur tableaux\n",
    "- matplotlib pour les graphiques\n",
    "- itertools pour les itérateurs sophistiqués (paires sur liste, ...)"
   ]
  },
  {
   "cell_type": "code",
   "execution_count": 4,
   "metadata": {
    "collapsed": false
   },
   "outputs": [],
   "source": [
    "debug=False"
   ]
  },
  {
   "cell_type": "code",
   "execution_count": 5,
   "metadata": {
    "collapsed": true
   },
   "outputs": [],
   "source": [
    "bdlexiqueIn = unicode(u\"èò\")\n",
    "bdlexiqueNum = [ord(char) for char in bdlexiqueIn]\n",
    "neutreOut = unicode(u\"EO\")\n",
    "neutralise = dict(zip(bdlexiqueNum, neutreOut))"
   ]
  },
  {
   "cell_type": "code",
   "execution_count": 6,
   "metadata": {
    "collapsed": true
   },
   "outputs": [],
   "source": [
    "def recoder(chaine,table=neutralise):\n",
    "    if type(chaine)==str:\n",
    "        temp=unicode(chaine.decode('utf8')).translate(table)\n",
    "        result=temp.encode('utf8')\n",
    "    elif type(chaine)==unicode:\n",
    "        result=chaine.translate(table)\n",
    "    return result"
   ]
  },
  {
   "cell_type": "code",
   "execution_count": null,
   "metadata": {
    "collapsed": false
   },
   "outputs": [],
   "source": [
    "with open(\"2015-Data/\"+lexiquePrefix+'-Verbes2.pkl', 'rb') as input:\n",
    "    verbes = pickle.load(input)\n",
    "\n",
    "verbes[\"phono\"]=verbes[\"phono\"].apply(lambda x: recoder(x))\n",
    "\n",
    "verbes[\"tirage\"]=0\n",
    "tirages={}\n",
    "minEchantillon=1"
   ]
  },
  {
   "cell_type": "code",
   "execution_count": 7,
   "metadata": {
    "collapsed": true
   },
   "outputs": [],
   "source": [
    "with open(\"2015-Data/\"+lexiquePrefix+'-Tirages.pkl', 'rb') as input:\n",
    "    verbes = pickle.load(input)\n",
    "minEchantillon=5"
   ]
  },
  {
   "cell_type": "code",
   "execution_count": 8,
   "metadata": {
    "collapsed": true
   },
   "outputs": [],
   "source": [
    "def tirerFormes(limite):\n",
    "    taille=len(verbes[verbes[\"tirage\"]>0])\n",
    "    while taille < limite:\n",
    "        tirage=np.random.choice(verbes.index,p=verbes[\"prob\"])\n",
    "        verbes.loc[tirage,\"tirage\"]+=1\n",
    "        taille=len(verbes[verbes[\"tirage\"]>0])\n",
    "        if taille%500==0:\n",
    "            if not taille in tirages:\n",
    "                tirages[taille]=verbes[verbes[\"tirage\"]>0][\"tirage\"].sum()\n",
    "                print \"nb tirages %d/%d\"%(len(verbes[verbes[\"tirage\"]>0]),verbes[verbes[\"tirage\"]>0][\"tirage\"].sum()),\n",
    "                print \"%4.2f\"%(float(verbes[verbes[\"tirage\"]>0][\"tirage\"].sum())/len(verbes[verbes[\"tirage\"]>0]))"
   ]
  },
  {
   "cell_type": "code",
   "execution_count": null,
   "metadata": {
    "collapsed": false,
    "scrolled": true
   },
   "outputs": [],
   "source": [
    "%%time\n",
    "for echantillon in range(minEchantillon,nbEchantillons+1):\n",
    "    tirerFormes(echantillon*tailleEchantillon)\n",
    "    extrait=verbes[verbes[\"tirage\"]>0]\n",
    "    echantillonPrefix=\"-%02d\"%echantillon\n",
    "    paradigmes=pd.pivot_table(extrait, values='phono', index=['lexeme'], columns=['case'], aggfunc=lambda x: \",\".join(x)).reset_index().reindex()\n",
    "    paradigmes.to_csv(path_or_buf=\"2015-Data/\"+filePrefix+echantillonPrefix+\"-paradigmesSuite.csv\",encoding=\"utf8\",sep=\";\")\n",
    "    extrait.to_csv(path_or_buf=\"2015-Data/\"+filePrefix+echantillonPrefix+\"-tirageSuite.csv\",encoding=\"utf8\",sep=\";\")"
   ]
  },
  {
   "cell_type": "code",
   "execution_count": null,
   "metadata": {
    "collapsed": true
   },
   "outputs": [],
   "source": [
    "verbes.sort_values(by=\"tirage\",ascending=False)"
   ]
  },
  {
   "cell_type": "code",
   "execution_count": 10,
   "metadata": {
    "collapsed": false
   },
   "outputs": [],
   "source": [
    "tirages={}"
   ]
  },
  {
   "cell_type": "code",
   "execution_count": null,
   "metadata": {
    "collapsed": true
   },
   "outputs": [],
   "source": [
    "#with open(\"2015-Data/\"+filePrefix+'-Tirages.pkl', 'wb') as output:\n",
    "#   pickle.dump(verbes, output, pickle.HIGHEST_PROTOCOL)"
   ]
  }
 ],
 "metadata": {
  "kernelspec": {
   "display_name": "Python 2",
   "language": "python",
   "name": "python2"
  },
  "language_info": {
   "codemirror_mode": {
    "name": "ipython",
    "version": 2
   },
   "file_extension": ".py",
   "mimetype": "text/x-python",
   "name": "python",
   "nbconvert_exporter": "python",
   "pygments_lexer": "ipython2",
   "version": "2.7.11"
  }
 },
 "nbformat": 4,
 "nbformat_minor": 0
}
