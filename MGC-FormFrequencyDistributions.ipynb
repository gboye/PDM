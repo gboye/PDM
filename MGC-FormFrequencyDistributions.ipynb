{
 "cells": [
  {
   "cell_type": "code",
   "execution_count": 1,
   "metadata": {
    "collapsed": true
   },
   "outputs": [],
   "source": [
    "# -*- coding: utf8 -*-\n",
    "import codecs\n",
    "import features\n",
    "import re\n",
    "import pandas as pd\n",
    "import numpy as np\n",
    "import matplotlib.pyplot as plt\n",
    "import itertools as it\n",
    "import pickle"
   ]
  },
  {
   "cell_type": "code",
   "execution_count": 2,
   "metadata": {
    "collapsed": true
   },
   "outputs": [],
   "source": [
    "import random"
   ]
  },
  {
   "cell_type": "code",
   "execution_count": 3,
   "metadata": {
    "collapsed": true
   },
   "outputs": [],
   "source": [
    "import datetime\n",
    "def dateheure():\n",
    "    return datetime.datetime.utcnow().strftime('%y%m%d%H%M')"
   ]
  },
  {
   "cell_type": "markdown",
   "metadata": {},
   "source": [
    "typeEchantillon : \n",
    "- fixe pour utiliser tailleEchantillon\n",
    "- variable pour utiliser nombre,increment\n",
    "- total pour utiliser tout le lexique"
   ]
  },
  {
   "cell_type": "code",
   "execution_count": 4,
   "metadata": {
    "collapsed": false
   },
   "outputs": [],
   "source": [
    "typeEchantillon=\"variable\"\n",
    "tailleEchantillon=15000\n",
    "nombre=10\n",
    "increment=15000\n",
    "freqForme=1000000\n",
    "if typeEchantillon==\"total\":\n",
    "    echantillonPrefix=\"-total-%s\" % (dateheure())\n",
    "elif typeEchantillon==\"fixe\":\n",
    "    echantillonPrefix=\"-%d-%s\" % (tailleEchantillon,dateheure())\n",
    "else:\n",
    "    echantillonPrefix=\"-extend\""
   ]
  },
  {
   "cell_type": "code",
   "execution_count": 5,
   "metadata": {
    "collapsed": false
   },
   "outputs": [],
   "source": [
    "nomLexique=\"/Users/gilles/Copy/Python/phonemisation/bdlexique-PDM-Resync.txt\"\n",
    "bdlexique=pd.read_csv(nomLexique,sep=\";\",names=[\"ortho\",\"phono\",\"ext\",\"cs\",\"ms\",\"vs\",\"lexeme\",\"L23\",\"lemmeFrantext\",\"lemmeFilms\",\"formeFrantext\",\"formeFilms\"],encoding=\"utf8\")\n",
    "bdlexique.loc[(bdlexique[\"ms\"]==\"ij\")&(bdlexique[\"cs\"].isin([\"V\",\"K\"])),\"ms\"]=\"MS\"\n",
    "bdlexique.drop_duplicates(inplace=True,subset=[\"phono\",\"ext\",\"cs\",\"ms\",\"vs\",\"lexeme\",\"lemmeFrantext\",\"lemmeFilms\",\"formeFrantext\",\"formeFilms\"])"
   ]
  },
  {
   "cell_type": "code",
   "execution_count": 6,
   "metadata": {
    "collapsed": false
   },
   "outputs": [],
   "source": [
    "#bdlexique[\"freq\"]=0.0\n",
    "filtreLFrantext=(bdlexique[\"lemmeFrantext\"]!=\"***\") \n",
    "filtreLFilms=(bdlexique[\"lemmeFilms\"]!=\"***\")\n",
    "filtreFFrantext=(bdlexique[\"formeFrantext\"]!=\"***\") \n",
    "filtreFFilms=(bdlexique[\"formeFilms\"]!=\"***\")\n",
    "#bdlexique.loc[filtreLFrantext|filtreLFilms,\"freq\"]=bdlexique[filtreLFrantext][\"lemmeFrantext\"].astype(float)+bdlexique[filtreLFilms][\"lemmeFilms\"].astype(float)\n",
    "bdlexique.loc[filtreFFrantext | filtreFFrantext,\"freq\"]=bdlexique[filtreFFrantext][\"formeFrantext\"].astype(float)+bdlexique[filtreFFilms][\"formeFilms\"].astype(float)"
   ]
  },
  {
   "cell_type": "code",
   "execution_count": 7,
   "metadata": {
    "collapsed": false
   },
   "outputs": [],
   "source": [
    "inutilesColonnes=[\"L23\",\"lemmeFrantext\",\"lemmeFilms\",\"formeFrantext\",\"formeFilms\"]\n",
    "for colonne in inutilesColonnes:\n",
    "    del bdlexique[colonne]"
   ]
  },
  {
   "cell_type": "code",
   "execution_count": 8,
   "metadata": {
    "collapsed": true
   },
   "outputs": [],
   "source": [
    "verbes=bdlexique[bdlexique[\"cs\"].isin([\"V\",\"K\"])].copy()"
   ]
  },
  {
   "cell_type": "code",
   "execution_count": 9,
   "metadata": {
    "collapsed": true
   },
   "outputs": [],
   "source": [
    "verbes.loc[verbes[\"ms\"]==\"ij\",\"ms\"]=\"MS\""
   ]
  },
  {
   "cell_type": "code",
   "execution_count": 10,
   "metadata": {
    "collapsed": true
   },
   "outputs": [],
   "source": [
    "verbes[\"prob\"]=verbes[\"freq\"]/verbes[\"freq\"].sum()"
   ]
  },
  {
   "cell_type": "code",
   "execution_count": 11,
   "metadata": {
    "collapsed": false
   },
   "outputs": [],
   "source": [
    "verbes[\"ms\"]=verbes[\"ms\"].fillna(\"\")\n",
    "verbes[\"vs\"]=verbes[\"vs\"].fillna(\"pp\")\n",
    "verbes[\"case\"]=verbes[\"vs\"]+verbes[\"ms\"]"
   ]
  },
  {
   "cell_type": "markdown",
   "metadata": {},
   "source": [
    "##Importations\n",
    "- codecs pour les encodages\n",
    "- pandas et numpy pour les calculs sur tableaux\n",
    "- matplotlib pour les graphiques\n",
    "- itertools pour les itérateurs sophistiqués (paires sur liste, ...)"
   ]
  },
  {
   "cell_type": "code",
   "execution_count": 12,
   "metadata": {
    "collapsed": false
   },
   "outputs": [],
   "source": [
    "#%pylab inline\n",
    "#pd.options.display.mpl_style = 'default'\n",
    "debug=False"
   ]
  },
  {
   "cell_type": "code",
   "execution_count": 13,
   "metadata": {
    "collapsed": true
   },
   "outputs": [],
   "source": [
    "bdlexiqueIn = unicode(u\"èò\")\n",
    "bdlexiqueNum = [ord(char) for char in bdlexiqueIn]\n",
    "neutreOut = unicode(u\"EO\")\n",
    "neutralise = dict(zip(bdlexiqueNum, neutreOut))"
   ]
  },
  {
   "cell_type": "code",
   "execution_count": 14,
   "metadata": {
    "collapsed": true
   },
   "outputs": [],
   "source": [
    "def recoder(chaine,table=neutralise):\n",
    "    if type(chaine)==str:\n",
    "        temp=unicode(chaine.decode('utf8')).translate(table)\n",
    "        result=temp.encode('utf8')\n",
    "    elif type(chaine)==unicode:\n",
    "        result=chaine.translate(table)\n",
    "    return result"
   ]
  },
  {
   "cell_type": "markdown",
   "metadata": {},
   "source": [
    "###Définition des cases\n",
    "- principales pour le paradigme courant\n",
    "- secondaires pour les cases rares\n",
    "- totales pour le tout"
   ]
  },
  {
   "cell_type": "code",
   "execution_count": 15,
   "metadata": {
    "collapsed": false
   },
   "outputs": [],
   "source": [
    "casesPrincipales= [\n",
    "        'inf', 'pi1S', 'pi2S', 'pi3S', 'pi1P', 'pi2P', 'pi3P', 'ii1S',\n",
    "        'ii2S', 'ii3S', 'ii1P', 'ii2P', 'ii3P', \n",
    "        'fi1S', 'fi2S', 'fi3S', 'fi1P', 'fi2P',\n",
    "        'fi3P', 'pI2S', 'pI1P', 'pI2P', 'ps1S', 'ps2S', 'ps3S', 'ps1P',\n",
    "        'ps2P', 'ps3P', \n",
    "        'pc1S', 'pc2S', 'pc3S', 'pc1P', 'pc2P', 'pc3P', 'pP',\n",
    "        'ppMS', 'ppMP', 'ppFS', 'ppFP'\n",
    "            ]\n",
    "casesSecondaires= [\n",
    "       'ai1S', 'ai2S', 'ai3S', 'ai1P', 'ai2P', 'ai3P', 'is1S', 'is2S', 'is3S', 'is1P', 'is2P', 'is3P'\n",
    "            ]\n",
    "casesTotales=casesPrincipales+casesSecondaires\n",
    "listeCases=casesTotales"
   ]
  },
  {
   "cell_type": "code",
   "execution_count": 16,
   "metadata": {
    "collapsed": false
   },
   "outputs": [],
   "source": [
    "#with open(\"2015-Data/\"+lexiquePrefix+'-Verbes.pkl', 'rb') as input:\n",
    "#    verbes = pickle.load(input)"
   ]
  },
  {
   "cell_type": "code",
   "execution_count": 17,
   "metadata": {
    "collapsed": true
   },
   "outputs": [],
   "source": [
    "verbes[\"phono\"]=verbes[\"phono\"].apply(lambda x: recoder(x))"
   ]
  },
  {
   "cell_type": "code",
   "execution_count": 18,
   "metadata": {
    "collapsed": false,
    "scrolled": true
   },
   "outputs": [],
   "source": [
    "paradigmes=pd.pivot_table(verbes, values='prob', index=['lexeme'], columns=['case'])"
   ]
  },
  {
   "cell_type": "code",
   "execution_count": 19,
   "metadata": {
    "collapsed": true
   },
   "outputs": [],
   "source": [
    "frequences=paradigmes.apply(lambda c: c / c.sum() * 100, axis=1)"
   ]
  },
  {
   "cell_type": "code",
   "execution_count": 20,
   "metadata": {
    "collapsed": false
   },
   "outputs": [],
   "source": [
    "frequences.to_csv(\"Frequences.csv\", sep='\\t', encoding='utf-8')"
   ]
  },
  {
   "cell_type": "code",
   "execution_count": 19,
   "metadata": {
    "collapsed": true
   },
   "outputs": [],
   "source": [
    "def cluster_rows(X, mu):\n",
    "    clusters  = {}\n",
    "    for x in X:\n",
    "        bestmukey = min([(i[0], np.linalg.norm(x-mu[i[0]])) \\\n",
    "                    for i in enumerate(mu)], key=lambda t:t[1])[0]\n",
    "        try:\n",
    "            clusters[bestmukey].append(x)\n",
    "        except KeyError:\n",
    "            clusters[bestmukey] = [x]\n",
    "    return clusters"
   ]
  },
  {
   "cell_type": "code",
   "execution_count": 20,
   "metadata": {
    "collapsed": false
   },
   "outputs": [],
   "source": [
    "def find_row_centers(X, K):\n",
    "    # Initialize to K random centers\n",
    "    oldmu = X.sample(n=K)\n",
    "    mu = X.sample(n=K)\n",
    "    print (oldmu,mu)\n",
    "    while not has_converged(mu, oldmu):\n",
    "        oldmu = mu\n",
    "        # Assign all points in X to clusters\n",
    "        clusters = cluster_rows(X, mu)\n",
    "        # Reevaluate centers\n",
    "        mu = reevaluate_centers(oldmu, clusters)\n",
    "    return(mu, clusters)"
   ]
  },
  {
   "cell_type": "code",
   "execution_count": null,
   "metadata": {
    "collapsed": false,
    "scrolled": true
   },
   "outputs": [],
   "source": [
    "result=find_centers(frequences.as_matrix(),50)"
   ]
  },
  {
   "cell_type": "code",
   "execution_count": 92,
   "metadata": {
    "collapsed": false,
    "scrolled": true
   },
   "outputs": [
    {
     "data": {
      "text/plain": [
       "<bound method DataFrame.reindex of case               ai1P      ai1S      ai2P      ai2S      ai3P       ai3S  \\\n",
       "lexeme                                                                       \n",
       "abaisser            NaN  0.512048       NaN       NaN  1.234940   7.951807   \n",
       "abandonner     0.071276  0.641483       NaN  0.036958  0.417096   2.510493   \n",
       "abasourdir          NaN       NaN       NaN       NaN       NaN        NaN   \n",
       "abattre             NaN  0.263081       NaN       NaN  0.954886   5.271363   \n",
       "abcéder             NaN       NaN       NaN       NaN       NaN        NaN   \n",
       "abdiquer            NaN  1.531729       NaN       NaN       NaN   4.376368   \n",
       "abecquer            NaN       NaN       NaN       NaN       NaN        NaN   \n",
       "aberrer             NaN       NaN       NaN       NaN       NaN        NaN   \n",
       "abhorrer            NaN       NaN       NaN       NaN       NaN        NaN   \n",
       "abjurer             NaN       NaN       NaN       NaN       NaN        NaN   \n",
       "ablater             NaN       NaN       NaN       NaN       NaN        NaN   \n",
       "ablatir             NaN       NaN       NaN       NaN       NaN        NaN   \n",
       "abloquer            NaN       NaN       NaN       NaN       NaN        NaN   \n",
       "abolir              NaN       NaN       NaN       NaN       NaN  10.736407   \n",
       "abonder             NaN  1.060606       NaN       NaN       NaN   4.090909   \n",
       "abonner             NaN  1.827676       NaN       NaN       NaN        NaN   \n",
       "abonnir             NaN       NaN       NaN       NaN       NaN        NaN   \n",
       "aborder        0.483005  1.091234       NaN       NaN  1.234347   7.423971   \n",
       "aborner             NaN       NaN       NaN       NaN       NaN        NaN   \n",
       "aboucher            NaN       NaN       NaN       NaN       NaN        NaN   \n",
       "abouler             NaN       NaN       NaN       NaN       NaN        NaN   \n",
       "abouter             NaN       NaN       NaN       NaN       NaN        NaN   \n",
       "aboutir        0.425403       NaN       NaN       NaN  2.066241  15.041021   \n",
       "aboyer              NaN       NaN       NaN       NaN  0.954401   5.019441   \n",
       "abraser             NaN       NaN       NaN       NaN       NaN        NaN   \n",
       "abreuver            NaN       NaN       NaN       NaN       NaN   2.702703   \n",
       "abricoter           NaN       NaN       NaN       NaN       NaN        NaN   \n",
       "abriter        0.022026  0.154185       NaN       NaN  0.154185   1.541850   \n",
       "abroger             NaN       NaN       NaN       NaN       NaN        NaN   \n",
       "abrutir             NaN       NaN       NaN       NaN       NaN   4.216444   \n",
       "...                 ...       ...       ...       ...       ...        ...   \n",
       "étreindre      0.261194       NaN       NaN       NaN  1.529851   7.164179   \n",
       "étrenner            NaN       NaN       NaN       NaN       NaN   3.932584   \n",
       "étriller            NaN       NaN       NaN       NaN       NaN  10.937500   \n",
       "étriper             NaN       NaN       NaN       NaN  0.588235        NaN   \n",
       "étriquer            NaN       NaN       NaN       NaN       NaN   5.185185   \n",
       "étrécir             NaN       NaN       NaN       NaN       NaN  25.000000   \n",
       "étrésillonner       NaN       NaN       NaN       NaN       NaN        NaN   \n",
       "étudier             NaN  0.269280       NaN       NaN  0.157080   1.009799   \n",
       "étuver              NaN       NaN       NaN       NaN       NaN        NaN   \n",
       "étêter              NaN       NaN       NaN       NaN       NaN  20.000000   \n",
       "évacuer             NaN  0.201381       NaN       NaN  0.230150   0.402762   \n",
       "évader              NaN       NaN       NaN       NaN  0.701139   0.262927   \n",
       "évaluer             NaN       NaN       NaN       NaN  0.407539   5.501783   \n",
       "évangéliser         NaN       NaN       NaN       NaN       NaN        NaN   \n",
       "évanouir            NaN       NaN       NaN       NaN  0.851286   8.321751   \n",
       "évaporer            NaN       NaN       NaN       NaN       NaN   1.837270   \n",
       "évaser              NaN       NaN       NaN       NaN       NaN        NaN   \n",
       "éveiller            NaN  1.077199       NaN       NaN  1.077199   6.093568   \n",
       "éventer             NaN  1.245552       NaN       NaN       NaN   3.558719   \n",
       "éventiller          NaN       NaN       NaN       NaN       NaN        NaN   \n",
       "éventrer            NaN       NaN       NaN       NaN       NaN   0.779510   \n",
       "évertuer            NaN       NaN       NaN       NaN       NaN   1.851852   \n",
       "évider              NaN       NaN       NaN       NaN       NaN   4.761905   \n",
       "évincer             NaN  3.535354       NaN       NaN       NaN        NaN   \n",
       "éviscérer           NaN       NaN       NaN       NaN       NaN        NaN   \n",
       "éviter         0.082747  0.310302       NaN       NaN  0.372362   2.081092   \n",
       "évoluer             NaN       NaN       NaN       NaN  1.511226   1.381693   \n",
       "évoquer        0.117145  0.568990       NaN       NaN  0.594093   2.953728   \n",
       "être           0.010444  0.044248  0.001607  0.044248  0.088432   0.719485   \n",
       "ôter                NaN  0.866905       NaN       NaN  0.344212  10.823559   \n",
       "\n",
       "case               fi1P      fi1S      fi2P      fi2S    ...           ppFP  \\\n",
       "lexeme                                                   ...                  \n",
       "abaisser            NaN  0.512048       NaN       NaN    ...       0.030120   \n",
       "abandonner     0.139912  0.739157  0.036958  0.131992    ...       1.048019   \n",
       "abasourdir          NaN       NaN       NaN       NaN    ...            NaN   \n",
       "abattre        0.107181  0.380006  0.253337  0.029231    ...       0.691806   \n",
       "abcéder             NaN       NaN       NaN       NaN    ...            NaN   \n",
       "abdiquer            NaN       NaN       NaN       NaN    ...            NaN   \n",
       "abecquer            NaN       NaN       NaN       NaN    ...            NaN   \n",
       "aberrer             NaN       NaN       NaN       NaN    ...            NaN   \n",
       "abhorrer            NaN       NaN       NaN       NaN    ...            NaN   \n",
       "abjurer             NaN       NaN       NaN       NaN    ...            NaN   \n",
       "ablater             NaN       NaN       NaN       NaN    ...            NaN   \n",
       "ablatir             NaN       NaN       NaN       NaN    ...            NaN   \n",
       "abloquer            NaN       NaN       NaN       NaN    ...            NaN   \n",
       "abolir              NaN       NaN       NaN  0.068823    ...       3.097041   \n",
       "abonder             NaN       NaN       NaN       NaN    ...            NaN   \n",
       "abonner             NaN       NaN       NaN       NaN    ...       0.261097   \n",
       "abonnir             NaN       NaN       NaN       NaN    ...            NaN   \n",
       "aborder        0.286225  0.393560       NaN       NaN    ...       0.447227   \n",
       "aborner             NaN       NaN       NaN       NaN    ...            NaN   \n",
       "aboucher            NaN       NaN       NaN       NaN    ...            NaN   \n",
       "abouler             NaN       NaN       NaN       NaN    ...            NaN   \n",
       "abouter             NaN       NaN       NaN       NaN    ...            NaN   \n",
       "aboutir        0.030386  0.212701       NaN  0.212701    ...            NaN   \n",
       "aboyer              NaN       NaN       NaN       NaN    ...            NaN   \n",
       "abraser             NaN       NaN       NaN       NaN    ...            NaN   \n",
       "abreuver            NaN       NaN       NaN       NaN    ...            NaN   \n",
       "abricoter           NaN       NaN       NaN       NaN    ...            NaN   \n",
       "abriter        0.066079       NaN       NaN       NaN    ...       1.718062   \n",
       "abroger             NaN       NaN       NaN       NaN    ...      13.084112   \n",
       "abrutir             NaN       NaN       NaN       NaN    ...       0.632467   \n",
       "...                 ...       ...       ...       ...    ...            ...   \n",
       "étreindre      0.261194       NaN       NaN       NaN    ...       0.261194   \n",
       "étrenner            NaN       NaN       NaN       NaN    ...            NaN   \n",
       "étriller            NaN       NaN  0.781250       NaN    ...            NaN   \n",
       "étriper             NaN  0.252101       NaN       NaN    ...            NaN   \n",
       "étriquer            NaN       NaN       NaN       NaN    ...       5.925926   \n",
       "étrécir             NaN       NaN       NaN       NaN    ...            NaN   \n",
       "étrésillonner       NaN       NaN       NaN       NaN    ...            NaN   \n",
       "étudier        0.224400  0.613359  0.149600  0.291720    ...       0.628319   \n",
       "étuver              NaN       NaN       NaN       NaN    ...            NaN   \n",
       "étêter              NaN       NaN       NaN       NaN    ...            NaN   \n",
       "évacuer        0.028769  0.201381  0.115075       NaN    ...       0.863061   \n",
       "évader              NaN  0.146071       NaN  0.233713    ...            NaN   \n",
       "évaluer             NaN       NaN  0.356597       NaN    ...       0.713194   \n",
       "évangéliser         NaN       NaN       NaN       NaN    ...            NaN   \n",
       "évanouir            NaN  0.191105  0.243224       NaN    ...       0.747047   \n",
       "évaporer            NaN       NaN       NaN       NaN    ...            NaN   \n",
       "évaser              NaN       NaN       NaN       NaN    ...       6.698565   \n",
       "éveiller            NaN  0.496357  0.095047  0.021122    ...       0.633647   \n",
       "éventer             NaN  1.245552       NaN       NaN    ...       1.423488   \n",
       "éventiller          NaN       NaN       NaN       NaN    ...            NaN   \n",
       "éventrer            NaN  0.111359  0.111359       NaN    ...       1.113586   \n",
       "évertuer            NaN       NaN       NaN       NaN    ...            NaN   \n",
       "évider              NaN       NaN       NaN       NaN    ...       4.761905   \n",
       "évincer             NaN       NaN       NaN       NaN    ...            NaN   \n",
       "éviscérer           NaN       NaN       NaN       NaN    ...            NaN   \n",
       "éviter         0.239967  0.239967  0.235830  0.186181    ...       0.128258   \n",
       "évoluer             NaN       NaN       NaN       NaN    ...            NaN   \n",
       "évoquer        0.075308  0.092043  0.008368       NaN    ...       0.368170   \n",
       "être           0.091434  0.380852  0.136358  0.218892    ...            NaN   \n",
       "ôter                NaN  0.203978  0.471698  0.395207    ...       0.293218   \n",
       "\n",
       "case                ppFS       ppMP        ppMS      ps1P       ps1S  \\\n",
       "lexeme                                                                 \n",
       "abaisser        1.325301   1.114458    6.295181       NaN        NaN   \n",
       "abandonner      4.487738   2.238589   12.270003       NaN        NaN   \n",
       "abasourdir     18.750000   7.670455   69.318182       NaN        NaN   \n",
       "abattre         4.501608   4.725714   18.425412       NaN   1.149761   \n",
       "abcéder              NaN        NaN         NaN       NaN        NaN   \n",
       "abdiquer        1.531729        NaN   23.194748       NaN        NaN   \n",
       "abecquer             NaN        NaN         NaN       NaN        NaN   \n",
       "aberrer              NaN        NaN         NaN       NaN        NaN   \n",
       "abhorrer        3.804348   3.804348   15.217391       NaN        NaN   \n",
       "abjurer              NaN        NaN    8.118812       NaN        NaN   \n",
       "ablater              NaN        NaN         NaN       NaN        NaN   \n",
       "ablatir              NaN        NaN         NaN       NaN        NaN   \n",
       "abloquer             NaN        NaN         NaN       NaN        NaN   \n",
       "abolir          4.129387   3.785272   17.343427       NaN        NaN   \n",
       "abonder              NaN        NaN         NaN       NaN        NaN   \n",
       "abonner        21.671018   7.832898   30.809399       NaN        NaN   \n",
       "abonnir              NaN        NaN         NaN       NaN        NaN   \n",
       "aborder         1.574240   1.198569    7.745975       NaN        NaN   \n",
       "aborner              NaN        NaN         NaN       NaN        NaN   \n",
       "aboucher        8.433735   8.433735    8.433735       NaN        NaN   \n",
       "abouler              NaN        NaN         NaN       NaN        NaN   \n",
       "abouter              NaN        NaN         NaN       NaN        NaN   \n",
       "aboutir              NaN        NaN         NaN       NaN   1.488909   \n",
       "aboyer               NaN        NaN         NaN       NaN        NaN   \n",
       "abraser              NaN        NaN  100.000000       NaN        NaN   \n",
       "abreuver        3.703704   3.103103    7.207207       NaN        NaN   \n",
       "abricoter            NaN        NaN         NaN       NaN        NaN   \n",
       "abriter         2.599119   2.422907    7.621145       NaN        NaN   \n",
       "abroger        26.168224  14.018692   10.280374       NaN        NaN   \n",
       "abrutir         2.810963  11.806044   24.666198       NaN        NaN   \n",
       "...                  ...        ...         ...       ...        ...   \n",
       "étreindre       0.970149   2.574627   16.156716       NaN   0.783582   \n",
       "étrenner        8.426966        NaN    5.056180       NaN        NaN   \n",
       "étriller        6.250000  10.937500   22.656250       NaN        NaN   \n",
       "étriper         0.672269   1.680672    2.773109       NaN  14.873950   \n",
       "étriquer       26.666667  10.370370   41.481481       NaN        NaN   \n",
       "étrécir        25.000000        NaN   25.000000       NaN        NaN   \n",
       "étrésillonner        NaN        NaN         NaN       NaN        NaN   \n",
       "étudier         0.845239   0.740519   17.787419       NaN        NaN   \n",
       "étuver               NaN        NaN   80.000000       NaN        NaN   \n",
       "étêter               NaN  40.000000   20.000000       NaN        NaN   \n",
       "évacuer         1.927503   5.149597   10.673188       NaN        NaN   \n",
       "évader          2.074204   2.395559   17.762197       NaN        NaN   \n",
       "évaluer         0.713194   0.916964    8.711156       NaN        NaN   \n",
       "évangéliser          NaN  18.918919    9.459459       NaN        NaN   \n",
       "évanouir       13.603197   4.725504   13.863794       NaN   0.555942   \n",
       "évaporer             NaN   6.692913   16.010499       NaN        NaN   \n",
       "évaser          7.655502   3.349282    6.698565       NaN        NaN   \n",
       "éveiller        4.879079   2.059352   13.243215       NaN        NaN   \n",
       "éventer         9.786477   1.245552    9.252669       NaN        NaN   \n",
       "éventiller           NaN        NaN         NaN       NaN        NaN   \n",
       "éventrer        3.563474   5.790646   25.167038       NaN        NaN   \n",
       "évertuer             NaN        NaN   10.052910       NaN        NaN   \n",
       "évider         12.500000   4.166667    4.761905       NaN        NaN   \n",
       "évincer         2.020202   6.565657   29.797980       NaN        NaN   \n",
       "éviscérer      14.285714  16.883117         NaN       NaN        NaN   \n",
       "éviter          0.566818   0.297890    4.418701       NaN        NaN   \n",
       "évoluer              NaN        NaN         NaN       NaN        NaN   \n",
       "évoquer         0.886955   1.121245    5.857250       NaN        NaN   \n",
       "être                 NaN        NaN         NaN  0.063761   0.517907   \n",
       "ôter            1.223865   0.229475   11.027537       NaN        NaN   \n",
       "\n",
       "case               ps2P      ps2S      ps3P       ps3S  \n",
       "lexeme                                                  \n",
       "abaisser            NaN       NaN       NaN        NaN  \n",
       "abandonner          NaN  1.127214  1.341042  10.448510  \n",
       "abasourdir          NaN       NaN       NaN        NaN  \n",
       "abattre             NaN  0.107181       NaN   1.149761  \n",
       "abcéder             NaN       NaN       NaN        NaN  \n",
       "abdiquer            NaN       NaN       NaN        NaN  \n",
       "abecquer            NaN       NaN       NaN        NaN  \n",
       "aberrer             NaN       NaN       NaN        NaN  \n",
       "abhorrer            NaN       NaN       NaN        NaN  \n",
       "abjurer             NaN       NaN       NaN        NaN  \n",
       "ablater             NaN       NaN       NaN        NaN  \n",
       "ablatir             NaN       NaN       NaN        NaN  \n",
       "abloquer            NaN       NaN       NaN        NaN  \n",
       "abolir              NaN       NaN       NaN        NaN  \n",
       "abonder             NaN       NaN       NaN        NaN  \n",
       "abonner             NaN       NaN       NaN        NaN  \n",
       "abonnir             NaN       NaN       NaN        NaN  \n",
       "aborder             NaN       NaN       NaN        NaN  \n",
       "aborner             NaN       NaN       NaN        NaN  \n",
       "aboucher            NaN       NaN       NaN        NaN  \n",
       "abouler             NaN       NaN       NaN        NaN  \n",
       "abouter             NaN       NaN       NaN        NaN  \n",
       "aboutir             NaN       NaN       NaN   1.488909  \n",
       "aboyer              NaN       NaN       NaN        NaN  \n",
       "abraser             NaN       NaN       NaN        NaN  \n",
       "abreuver            NaN       NaN       NaN        NaN  \n",
       "abricoter           NaN       NaN       NaN        NaN  \n",
       "abriter             NaN       NaN       NaN        NaN  \n",
       "abroger             NaN       NaN       NaN        NaN  \n",
       "abrutir             NaN       NaN       NaN        NaN  \n",
       "...                 ...       ...       ...        ...  \n",
       "étreindre           NaN       NaN  4.253731   0.783582  \n",
       "étrenner            NaN  6.179775       NaN        NaN  \n",
       "étriller            NaN       NaN       NaN        NaN  \n",
       "étriper             NaN       NaN       NaN  14.873950  \n",
       "étriquer            NaN       NaN       NaN        NaN  \n",
       "étrécir             NaN       NaN       NaN        NaN  \n",
       "étrésillonner       NaN       NaN       NaN        NaN  \n",
       "étudier             NaN       NaN       NaN        NaN  \n",
       "étuver              NaN       NaN       NaN        NaN  \n",
       "étêter              NaN       NaN       NaN        NaN  \n",
       "évacuer             NaN       NaN       NaN        NaN  \n",
       "évader              NaN       NaN       NaN   7.274321  \n",
       "évaluer             NaN       NaN       NaN        NaN  \n",
       "évangéliser         NaN       NaN       NaN        NaN  \n",
       "évanouir            NaN  0.121612       NaN   0.555942  \n",
       "évaporer            NaN       NaN       NaN        NaN  \n",
       "évaser              NaN       NaN       NaN        NaN  \n",
       "éveiller            NaN       NaN       NaN        NaN  \n",
       "éventer             NaN       NaN       NaN        NaN  \n",
       "éventiller          NaN       NaN       NaN        NaN  \n",
       "éventrer            NaN       NaN       NaN        NaN  \n",
       "évertuer            NaN       NaN       NaN        NaN  \n",
       "évider              NaN       NaN       NaN        NaN  \n",
       "évincer             NaN       NaN       NaN        NaN  \n",
       "éviscérer           NaN       NaN       NaN        NaN  \n",
       "éviter              NaN       NaN       NaN        NaN  \n",
       "évoluer             NaN       NaN       NaN        NaN  \n",
       "évoquer             NaN       NaN       NaN        NaN  \n",
       "être           0.253986  0.517907  0.140206   1.028859  \n",
       "ôter                NaN       NaN       NaN        NaN  \n",
       "\n",
       "[6561 rows x 51 columns]>"
      ]
     },
     "execution_count": 92,
     "metadata": {},
     "output_type": "execute_result"
    }
   ],
   "source": [
    "frequences.reindex"
   ]
  },
  {
   "cell_type": "code",
   "execution_count": null,
   "metadata": {
    "collapsed": true
   },
   "outputs": [],
   "source": []
  },
  {
   "cell_type": "code",
   "execution_count": null,
   "metadata": {
    "collapsed": true
   },
   "outputs": [],
   "source": []
  },
  {
   "cell_type": "code",
   "execution_count": null,
   "metadata": {
    "collapsed": true
   },
   "outputs": [],
   "source": []
  },
  {
   "cell_type": "code",
   "execution_count": 76,
   "metadata": {
    "collapsed": true
   },
   "outputs": [],
   "source": [
    "import numpy as np"
   ]
  },
  {
   "cell_type": "code",
   "execution_count": 28,
   "metadata": {
    "collapsed": true
   },
   "outputs": [],
   "source": [
    "def cluster_points(X, mu):\n",
    "    clusters  = {}\n",
    "    for x in X:\n",
    "        bestmukey = min([(i[0], np.linalg.norm(x-mu[i[0]])) \\\n",
    "                    for i in enumerate(mu)], key=lambda t:t[1])[0]\n",
    "        try:\n",
    "            clusters[bestmukey].append(x)\n",
    "        except KeyError:\n",
    "            clusters[bestmukey] = [x]\n",
    "    return clusters"
   ]
  },
  {
   "cell_type": "code",
   "execution_count": 27,
   "metadata": {
    "collapsed": true
   },
   "outputs": [],
   "source": [
    "def reevaluate_centers(mu, clusters):\n",
    "    newmu = []\n",
    "    keys = sorted(clusters.keys())\n",
    "    for k in keys:\n",
    "        newmu.append(np.mean(clusters[k], axis = 0))\n",
    "    return newmu"
   ]
  },
  {
   "cell_type": "code",
   "execution_count": 26,
   "metadata": {
    "collapsed": false
   },
   "outputs": [],
   "source": [
    "def has_converged(mu, oldmu):\n",
    "    return (set([tuple(a) for a in mu]) == set([tuple(a) for a in oldmu]))"
   ]
  },
  {
   "cell_type": "code",
   "execution_count": 22,
   "metadata": {
    "collapsed": false
   },
   "outputs": [],
   "source": [
    "def find_centers(X, K):\n",
    "    # Initialize to K random centers\n",
    "    oldmu = random.sample(X, K)\n",
    "    mu = random.sample(X, K)\n",
    "    while not has_converged(mu, oldmu):\n",
    "        oldmu = mu\n",
    "        # Assign all points in X to clusters\n",
    "        clusters = cluster_points(X, mu)\n",
    "        # Reevaluate centers\n",
    "        mu = reevaluate_centers(oldmu, clusters)\n",
    "    return(mu, clusters)"
   ]
  },
  {
   "cell_type": "code",
   "execution_count": 106,
   "metadata": {
    "collapsed": true
   },
   "outputs": [],
   "source": [
    "import random\n",
    "\n",
    "def init_board(N):\n",
    "    X = np.array([(random.uniform(-1, 1), random.uniform(-1, 1)) for i in range(N)])\n",
    "    return X"
   ]
  },
  {
   "cell_type": "code",
   "execution_count": 107,
   "metadata": {
    "collapsed": true
   },
   "outputs": [],
   "source": [
    "def init_board_gauss(N, k):\n",
    "    n = float(N)/k\n",
    "    X = []\n",
    "    for i in range(k):\n",
    "        c = (random.uniform(-1, 1), random.uniform(-1, 1))\n",
    "        s = random.uniform(0.05,0.5)\n",
    "        x = []\n",
    "        while len(x) < n:\n",
    "            a, b = np.array([np.random.normal(c[0], s), np.random.normal(c[1], s)])\n",
    "            # Continue drawing points from the distribution in the range [-1,1]\n",
    "            if abs(a) < 1 and abs(b) < 1:\n",
    "                x.append([a,b])\n",
    "        X.extend(x)\n",
    "    X = np.array(X)[:N]\n",
    "    return X"
   ]
  },
  {
   "cell_type": "code",
   "execution_count": 108,
   "metadata": {
    "collapsed": false
   },
   "outputs": [
    {
     "data": {
      "text/plain": [
       "([array([ 0.49297651,  0.4925374 ]),\n",
       "  array([ 0.78089445, -0.67627354]),\n",
       "  array([-0.12223114, -0.35034434])],\n",
       " {0: [array([ 0.07455231,  0.33434731]),\n",
       "   array([ 0.53533947,  0.08725311]),\n",
       "   array([ 0.19920577,  0.42042305]),\n",
       "   array([ 0.64337688,  0.53343532]),\n",
       "   array([ 0.72785551,  0.15983967]),\n",
       "   array([ 0.39886602,  0.63918934]),\n",
       "   array([ 0.84788409,  0.56267031]),\n",
       "   array([ 0.45734935,  0.69630411]),\n",
       "   array([ 0.26242485,  0.85873967]),\n",
       "   array([ 0.51728097,  0.65340105]),\n",
       "   array([ 0.40838142,  0.17369438]),\n",
       "   array([ 0.29185663,  0.40340913]),\n",
       "   array([ 0.48017888,  0.59712903]),\n",
       "   array([ 0.68610124,  0.79371683]),\n",
       "   array([ 0.24951292,  0.59590505]),\n",
       "   array([ 0.92383146,  0.5218242 ]),\n",
       "   array([-0.09903079,  0.45084126]),\n",
       "   array([-0.03888673,  0.37451001]),\n",
       "   array([ 0.20611222,  0.17166502]),\n",
       "   array([ 0.22749495,  0.66463889]),\n",
       "   array([ 0.07657076,  0.38637424]),\n",
       "   array([ 0.17383867,  0.80623367]),\n",
       "   array([ 0.37923708,  0.25016228]),\n",
       "   array([ 0.96278009,  0.82234554]),\n",
       "   array([ 0.83328365,  0.55714249]),\n",
       "   array([ 0.53779811,  0.55480258]),\n",
       "   array([ 0.65799087,  0.40685428]),\n",
       "   array([ 0.96329932,  0.82265982]),\n",
       "   array([ 0.49024204,  0.54795528]),\n",
       "   array([ 0.60864651,  0.53446281]),\n",
       "   array([ 0.58620913,  0.30262072]),\n",
       "   array([ 0.476693  ,  0.12548017]),\n",
       "   array([ 0.83676995,  0.09910546]),\n",
       "   array([ 0.8163417 ,  0.66519571]),\n",
       "   array([ 0.72731506,  0.66810334]),\n",
       "   array([ 0.31335011,  0.57128192]),\n",
       "   array([ 0.34355921,  0.40260272]),\n",
       "   array([ 0.41658126,  0.81559834]),\n",
       "   array([-0.2860342 ,  0.59307092]),\n",
       "   array([ 0.84978616,  0.47847614]),\n",
       "   array([ 0.54517543,  0.23647651]),\n",
       "   array([ 0.29902845,  0.36269592]),\n",
       "   array([ 0.41526231,  0.77401082]),\n",
       "   array([ 0.26835575,  0.13251659]),\n",
       "   array([ 0.18292365,  0.1963685 ]),\n",
       "   array([ 0.52706684,  0.80145631]),\n",
       "   array([ 0.82796876,  0.49664634]),\n",
       "   array([ 0.65806953,  0.69700519]),\n",
       "   array([ 0.71810417,  0.75576063]),\n",
       "   array([ 0.95042765,  0.90414614]),\n",
       "   array([ 0.30212216,  0.52943987]),\n",
       "   array([ 0.5150654 ,  0.01105147]),\n",
       "   array([ 0.35175387,  0.04026968]),\n",
       "   array([ 0.08055471,  0.39412723]),\n",
       "   array([ 0.93940768,  0.25930254]),\n",
       "   array([ 0.99186232,  0.89334921]),\n",
       "   array([ 0.12804595,  0.92598886]),\n",
       "   array([ 0.6117895 ,  0.01824322]),\n",
       "   array([ 0.35924691,  0.92749202]),\n",
       "   array([ 0.26294424,  0.33782874]),\n",
       "   array([ 0.72099322,  0.6864554 ]),\n",
       "   array([ 0.4998814 ,  0.39738611]),\n",
       "   array([ 0.62391529, -0.01219889]),\n",
       "   array([ 0.8005078 ,  0.45262228]),\n",
       "   array([ 0.47736787,  0.56499565]),\n",
       "   array([ 0.71466325,  0.62056708])],\n",
       "  1: [array([ 0.63635055, -0.10121221]),\n",
       "   array([ 0.37637806, -0.85125679]),\n",
       "   array([ 0.50390232, -0.41983429]),\n",
       "   array([ 0.76336279, -0.55086438]),\n",
       "   array([ 0.65890111, -0.6204143 ]),\n",
       "   array([ 0.93878738, -0.6108458 ]),\n",
       "   array([ 0.76996982, -0.5115782 ]),\n",
       "   array([ 0.82701286, -0.67871772]),\n",
       "   array([ 0.80764685, -0.58839507]),\n",
       "   array([ 0.71948669, -0.70052575]),\n",
       "   array([ 0.79342668, -0.67952509]),\n",
       "   array([ 0.84346498, -0.64622399]),\n",
       "   array([ 0.65436041, -0.67288402]),\n",
       "   array([ 0.78531728, -0.67338786]),\n",
       "   array([ 0.55330624, -0.72676011]),\n",
       "   array([ 0.74766311, -0.76143289]),\n",
       "   array([ 0.86413922, -0.7265777 ]),\n",
       "   array([ 0.75617598, -0.77560739]),\n",
       "   array([ 0.72137688, -0.77926142]),\n",
       "   array([ 0.85211578, -0.57613234]),\n",
       "   array([ 0.6815163 , -0.69585095]),\n",
       "   array([ 0.78866529, -0.78954951]),\n",
       "   array([ 0.91463131, -0.71042191]),\n",
       "   array([ 0.93431824, -0.72485854]),\n",
       "   array([ 0.92431828, -0.75347668]),\n",
       "   array([ 0.80427445, -0.70961961]),\n",
       "   array([ 0.99498616, -0.7979066 ]),\n",
       "   array([ 0.80020382, -0.84464197]),\n",
       "   array([ 0.78617053, -0.68932809]),\n",
       "   array([ 0.7750202 , -0.67365569]),\n",
       "   array([ 0.68529681, -0.62346576]),\n",
       "   array([ 0.73789266, -0.65350359]),\n",
       "   array([ 0.57250913, -0.67058134]),\n",
       "   array([ 0.74906104, -0.65131381]),\n",
       "   array([ 0.83080211, -0.8347408 ]),\n",
       "   array([ 0.90170025, -0.77332968]),\n",
       "   array([ 0.85038464, -0.63497951]),\n",
       "   array([ 0.68947917, -0.66375081]),\n",
       "   array([ 0.80754779, -0.78489015]),\n",
       "   array([ 0.83517644, -0.72720638]),\n",
       "   array([ 0.83336144, -0.74357582]),\n",
       "   array([ 0.70948565, -0.57269247]),\n",
       "   array([ 0.69304547, -0.69166382]),\n",
       "   array([ 0.86080919, -0.62932889]),\n",
       "   array([ 0.87004519, -0.69603796]),\n",
       "   array([ 0.7678809 , -0.47650373]),\n",
       "   array([ 0.7016713 , -0.83589889]),\n",
       "   array([ 0.84918365, -0.51512885]),\n",
       "   array([ 0.76429961, -0.71409555]),\n",
       "   array([ 0.79709407, -0.82231132]),\n",
       "   array([ 0.67786746, -0.70682194]),\n",
       "   array([ 0.75861775, -0.6311253 ]),\n",
       "   array([ 0.62454982, -0.6338929 ]),\n",
       "   array([ 0.87741352, -0.7488024 ]),\n",
       "   array([ 0.87210943, -0.79783932]),\n",
       "   array([ 0.77777284, -0.62705893]),\n",
       "   array([ 0.67829032, -0.70896046]),\n",
       "   array([ 0.84368855, -0.83615976]),\n",
       "   array([ 0.72562175, -0.64122764]),\n",
       "   array([ 0.93290816, -0.67853531]),\n",
       "   array([ 0.76877959, -0.65884355]),\n",
       "   array([ 0.81692173, -0.69658294]),\n",
       "   array([ 0.9179403 , -0.58111258]),\n",
       "   array([ 0.88028981, -0.74776296]),\n",
       "   array([ 0.7309895 , -0.67561138]),\n",
       "   array([ 0.92878246, -0.7491021 ]),\n",
       "   array([ 0.73398165, -0.43062793]),\n",
       "   array([ 0.93796976, -0.69666487]),\n",
       "   array([ 0.75072678, -0.65773842]),\n",
       "   array([ 0.79529377, -0.81727822]),\n",
       "   array([ 0.92901479, -0.53792625])],\n",
       "  2: [array([-0.54143979, -0.37311748]),\n",
       "   array([-0.24651052, -0.73379261]),\n",
       "   array([ 0.04513893, -0.49308665]),\n",
       "   array([-0.00573537, -0.45056098]),\n",
       "   array([-0.10887811, -0.21168273]),\n",
       "   array([-0.32611027,  0.06208375]),\n",
       "   array([-0.64979717, -0.33276123]),\n",
       "   array([-0.293186  , -0.75707492]),\n",
       "   array([-0.60484902, -0.27953471]),\n",
       "   array([ 0.20110317, -0.12378352]),\n",
       "   array([-0.84662546, -0.14636763]),\n",
       "   array([-0.29543105, -0.57682293]),\n",
       "   array([-0.4054042 , -0.43204338]),\n",
       "   array([-0.08059251, -0.27491497]),\n",
       "   array([ 0.13281162, -0.4561512 ]),\n",
       "   array([-0.23427509, -0.32343418]),\n",
       "   array([ 0.09125115, -0.12800076]),\n",
       "   array([ 0.27944129, -0.0594329 ]),\n",
       "   array([-0.02730521, -0.5555166 ]),\n",
       "   array([ 0.213652  , -0.30401055]),\n",
       "   array([-0.9433662 , -0.57846725]),\n",
       "   array([ 0.32816253, -0.38839576]),\n",
       "   array([-0.59523251, -0.30563423]),\n",
       "   array([-0.06473001, -0.60592487]),\n",
       "   array([ 0.33738536, -0.0689585 ]),\n",
       "   array([ 0.24240647, -0.27558988]),\n",
       "   array([ 0.14687245, -0.30593143]),\n",
       "   array([ 0.14229935, -0.3314963 ]),\n",
       "   array([ 0.19850789, -0.51798099]),\n",
       "   array([ 0.25189986, -0.61422129]),\n",
       "   array([-0.56438045, -0.60503237]),\n",
       "   array([-0.09962872, -0.53580174]),\n",
       "   array([-0.37962267, -0.58793202]),\n",
       "   array([-0.08181688, -0.15500008]),\n",
       "   array([ 0.14094024, -0.25510762]),\n",
       "   array([-0.24985896, -0.61748662]),\n",
       "   array([-0.15365671, -0.4955897 ]),\n",
       "   array([-0.23762205, -0.76541576]),\n",
       "   array([-0.0586871 , -0.61942727]),\n",
       "   array([-0.32465699,  0.15581558]),\n",
       "   array([ 0.03254501, -0.1617026 ]),\n",
       "   array([-0.00822379, -0.36533915]),\n",
       "   array([-0.36764718, -0.53370653]),\n",
       "   array([-0.31839655, -0.76733915]),\n",
       "   array([-0.39887308, -0.60806077]),\n",
       "   array([-0.53205442, -0.06872389]),\n",
       "   array([-0.39828608, -0.23095862]),\n",
       "   array([ 0.14142976, -0.4576277 ]),\n",
       "   array([-0.04953694,  0.02272214]),\n",
       "   array([ 0.05327156, -0.59118896]),\n",
       "   array([-0.09669886, -0.28901027]),\n",
       "   array([-0.1500175 , -0.40482543]),\n",
       "   array([ 0.34134785, -0.1432535 ]),\n",
       "   array([-0.06629995, -0.35140191]),\n",
       "   array([ 0.36887218, -0.2050941 ]),\n",
       "   array([-0.24164961,  0.12835568]),\n",
       "   array([-0.08221629, -0.24355831]),\n",
       "   array([-0.05234927, -0.07816803]),\n",
       "   array([-0.0997649, -0.5431692]),\n",
       "   array([-0.0981422 , -0.64216354]),\n",
       "   array([-0.37614904,  0.40396103]),\n",
       "   array([ 0.26349905, -0.26856459]),\n",
       "   array([ 0.10230539, -0.24929199])]})"
      ]
     },
     "execution_count": 108,
     "metadata": {},
     "output_type": "execute_result"
    }
   ],
   "source": [
    "X = init_board_gauss(200,3)\n",
    "find_centers(X, 3)"
   ]
  },
  {
   "cell_type": "code",
   "execution_count": null,
   "metadata": {
    "collapsed": true
   },
   "outputs": [],
   "source": []
  }
 ],
 "metadata": {
  "kernelspec": {
   "display_name": "Python 2",
   "language": "python",
   "name": "python2"
  },
  "language_info": {
   "codemirror_mode": {
    "name": "ipython",
    "version": 2
   },
   "file_extension": ".py",
   "mimetype": "text/x-python",
   "name": "python",
   "nbconvert_exporter": "python",
   "pygments_lexer": "ipython2",
   "version": "2.7.10"
  }
 },
 "nbformat": 4,
 "nbformat_minor": 0
}
