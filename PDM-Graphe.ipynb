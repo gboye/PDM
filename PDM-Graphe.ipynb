{
 "metadata": {
  "name": "",
  "signature": "sha256:9cecc3b559fb96e0ed3303eb95337751e0c33c5f83ad5d66ba23593385576716"
 },
 "nbformat": 3,
 "nbformat_minor": 0,
 "worksheets": [
  {
   "cells": [
    {
     "cell_type": "code",
     "collapsed": false,
     "input": [
      "%matplotlib inline"
     ],
     "language": "python",
     "metadata": {},
     "outputs": [],
     "prompt_number": 3
    },
    {
     "cell_type": "code",
     "collapsed": false,
     "input": [
      "import networkx as nx\n",
      "import matplotlib.pyplot as plt\n",
      "import PDM\n",
      "from PDM import *\n",
      "import pickle"
     ],
     "language": "python",
     "metadata": {},
     "outputs": [],
     "prompt_number": 4
    },
    {
     "cell_type": "code",
     "collapsed": false,
     "input": [
      "PDM.seuilDistribution=0.00"
     ],
     "language": "python",
     "metadata": {},
     "outputs": [],
     "prompt_number": 24
    },
    {
     "cell_type": "code",
     "collapsed": false,
     "input": [
      "with open('Regles.pkl', 'rb') as input:\n",
      "    PDM.analyse = pickle.load(input)\n",
      "with open('Classes.pkl', 'rb') as input:\n",
      "    PDM.classification = pickle.load(input)"
     ],
     "language": "python",
     "metadata": {},
     "outputs": [],
     "prompt_number": 6
    },
    {
     "cell_type": "code",
     "collapsed": false,
     "input": [
      "inf=Case(\"inf\")\n",
      "inf.addForm(FormeCoef(\"finir\",1))\n",
      "#inf.addForm(FormeCoef(\"finwar\",1))\n",
      "inf.addForm(FormeCoef(\"finir\",1))\n",
      "#inf.addForm(FormeCoef(\"finjE\",1))\n",
      "prs1=Case(\"prs.1\")\n",
      "prs1.addForm(FormeCoef(\"fini\",1))\n",
      "pst1=Case(\"pst.1\")\n",
      "pst1.addForm(FormeCoef(\"fini\",1))\n",
      "prspcp=Case(\"prs.pcp\")\n",
      "prspcp.addForm(FormeCoef(\"finis\u00e2\",1))\n"
     ],
     "language": "python",
     "metadata": {},
     "outputs": [],
     "prompt_number": 21
    },
    {
     "cell_type": "code",
     "collapsed": false,
     "input": [
      "lexical=Paradigme()\n",
      "#lexical.addEntrees(inf,prs1,pst1)\n",
      "#lexical.addEntrees(inf)\n",
      "#lexical.addEntrees(prs1,pst1)\n",
      "lexical.addEntrees(prs1,prspcp)\n",
      "lexical.calculerParadigme()"
     ],
     "language": "python",
     "metadata": {},
     "outputs": [],
     "prompt_number": 29
    },
    {
     "cell_type": "code",
     "collapsed": false,
     "input": [
      "cliques=list(nx.algorithms.clique.find_cliques(lexical.graphe))\n",
      "for clique in cliques:\n",
      "    print (len(clique),clique)\n",
      "    print ()\n",
      "    total=0\n",
      "    for node in sorted(clique):\n",
      "        poids=lexical.graphe.node[node][\"weight\"]\n",
      "        total+=poids\n",
      "        print(node,poids)\n",
      "    print (total/len(clique))\n",
      "    print ()"
     ],
     "language": "python",
     "metadata": {},
     "outputs": [
      {
       "output_type": "stream",
       "stream": "stdout",
       "text": [
        "(48, ['fut.5-finis6rE', 'cond.5-finis6rjE', 'ipf.4-finisj\\xc3\\xb4', 'pst.6-finisEr', 'sbjv.2-finis', 'fut.2-finis6ra', 'fut.3-finis6ra', 'pst.pcp-finisE', 'prs.5-finisE', 'sbjv.5-finisjE', 'cond.2-finis6rE', 'pst.sbj.3-finisa', 'prs.1-finis', 'pst.1-finisE', 'pst.sbj.5-finisasjE', 'pst.4-finisam', 'prs.pcp-finis\\xc3\\xa2', 'ipf.5-finisjE', 'ipf.3-finisE', 'imp.4-finis\\xc3\\xb4', 'fut.1-finis6rE', 'ipf.1-finisE', 'cond.6-finis6rE', 'ipf.2-finisE', 'sbjv.3-finis', 'sbjv.6-finis', 'prs.2-finis', 'fut.6-finis6r\\xc3\\xb4', 'ipf.6-finisE', 'prs.6-finis', 'sbjv.4-finisj\\xc3\\xb4', 'pst.sbj.2-finisas', 'pst.sbj.6-finisas', 'cond.3-finis6rE', 'pst.sbj.4-finisasj\\xc3\\xb4', 'inf-finisE', 'imp.5-finisE', 'prs.3-finis', 'pst.5-finisat', 'sbjv.1-finis', 'imp.2-finis', 'cond.1-finis6rE', 'cond.4-finis6rj\\xc3\\xb4', 'fut.4-finis6r\\xc3\\xb4', 'pst.2-finisa', 'prs.4-finis\\xc3\\xb4', 'pst.3-finisa', 'pst.sbj.1-finisas'])\n",
        "()\n",
        "('cond.1-finis6rE', 1.0)\n",
        "('cond.2-finis6rE', 1.0)\n",
        "('cond.3-finis6rE', 1.0)\n",
        "('cond.4-finis6rj\\xc3\\xb4', 1.0)\n",
        "('cond.5-finis6rjE', 1.0)\n",
        "('cond.6-finis6rE', 1.0)\n",
        "('fut.1-finis6rE', 1.0)\n",
        "('fut.2-finis6ra', 1.0)\n",
        "('fut.3-finis6ra', 1.0)\n",
        "('fut.4-finis6r\\xc3\\xb4', 1.0)\n",
        "('fut.5-finis6rE', 1.0)\n",
        "('fut.6-finis6r\\xc3\\xb4', 1.0)\n",
        "('imp.2-finis', 1.0)\n",
        "('imp.4-finis\\xc3\\xb4', 1.0)\n",
        "('imp.5-finisE', 1.0)\n",
        "('inf-finisE', 1.0)\n",
        "('ipf.1-finisE', 1.0)\n",
        "('ipf.2-finisE', 1.0)\n",
        "('ipf.3-finisE', 1.0)\n",
        "('ipf.4-finisj\\xc3\\xb4', 1.0)\n",
        "('ipf.5-finisjE', 1.0)\n",
        "('ipf.6-finisE', 1.0)\n",
        "('prs.1-finis', 1.0)\n",
        "('prs.2-finis', 1.0)\n",
        "('prs.3-finis', 1.0)\n",
        "('prs.4-finis\\xc3\\xb4', 1.0)\n",
        "('prs.5-finisE', 1.0)\n",
        "('prs.6-finis', 1.0)\n",
        "('prs.pcp-finis\\xc3\\xa2', 1.0)\n",
        "('pst.1-finisE', 1.0)\n",
        "('pst.2-finisa', 1.0)\n",
        "('pst.3-finisa', 1.0)\n",
        "('pst.4-finisam', 1.0)\n",
        "('pst.5-finisat', 1.0)\n",
        "('pst.6-finisEr', 1.0)\n",
        "('pst.pcp-finisE', 1.0)\n",
        "('pst.sbj.1-finisas', 1.0)\n",
        "('pst.sbj.2-finisas', 1.0)\n",
        "('pst.sbj.3-finisa', 1.0)\n",
        "('pst.sbj.4-finisasj\\xc3\\xb4', 1.0)\n",
        "('pst.sbj.5-finisasjE', 1.0)\n",
        "('pst.sbj.6-finisas', 1.0)\n",
        "('sbjv.1-finis', 1.0)\n",
        "('sbjv.2-finis', 1.0)\n",
        "('sbjv.3-finis', 1.0)\n",
        "('sbjv.4-finisj\\xc3\\xb4', 1.0)\n",
        "('sbjv.5-finisjE', 1.0)\n",
        "('sbjv.6-finis', 1.0)\n",
        "1.0\n",
        "()\n",
        "(16, ['prs.2-fini', 'prs.3-fini', 'prs.1-fini', 'imp.2-fini', 'cond.6-finidrE', 'cond.4-finidrij\\xc3\\xb4', 'fut.1-finidrE', 'fut.6-finidr\\xc3\\xb4', 'cond.5-finidrijE', 'cond.2-finidrE', 'cond.1-finidrE', 'fut.4-finidr\\xc3\\xb4', 'fut.5-finidrE', 'fut.2-finidra', 'fut.3-finidra', 'cond.3-finidrE'])\n",
        "()\n",
        "('cond.1-finidrE', 0.02)\n",
        "('cond.2-finidrE', 0.02)\n",
        "('cond.3-finidrE', 0.02)\n",
        "('cond.4-finidrij\\xc3\\xb4', 0.02)\n",
        "('cond.5-finidrijE', 0.02)\n",
        "('cond.6-finidrE', 0.02)\n",
        "('fut.1-finidrE', 0.02)\n",
        "('fut.2-finidra', 0.02)\n",
        "('fut.3-finidra', 0.02)\n",
        "('fut.4-finidr\\xc3\\xb4', 0.02)\n",
        "('fut.5-finidrE', 0.02)\n",
        "('fut.6-finidr\\xc3\\xb4', 0.02)\n",
        "('imp.2-fini', 1.0)\n",
        "('prs.1-fini', 1.0)\n",
        "('prs.2-fini', 1.0)\n",
        "('prs.3-fini', 1.0)\n",
        "0.265\n",
        "()\n",
        "(48, ['prs.2-fini', 'prs.3-fini', 'prs.1-fini', 'imp.2-fini', 'cond.3-finirE', 'cond.5-finirjE', 'fut.5-finirE', 'fut.2-finira', 'fut.4-finir\\xc3\\xb4', 'cond.1-finirE', 'cond.4-finirj\\xc3\\xb4', 'fut.1-finirE', 'fut.3-finira', 'fut.6-finir\\xc3\\xb4', 'cond.2-finirE', 'cond.6-finirE', 'pst.sbj.4-finjasj\\xc3\\xb4', 'inf-finjE', 'pst.6-finjEr', 'pst.sbj.5-finjasjE', 'pst.sbj.3-finja', 'sbjv.1-fini', 'sbjv.5-finjE', 'pst.5-finjat', 'ipf.1-finjE', 'pst.2-finja', 'prs.4-finj\\xc3\\xb4', 'pst.pcp-finjE', 'ipf.3-finjE', 'pst.sbj.1-finjas', 'sbjv.2-fini', 'prs.5-finjE', 'pst.3-finja', 'sbjv.3-fini', 'pst.1-finjE', 'imp.4-finj\\xc3\\xb4', 'ipf.4-finj\\xc3\\xb4', 'sbjv.4-finj\\xc3\\xb4', 'pst.sbj.6-finjas', 'ipf.2-finjE', 'pst.sbj.2-finjas', 'ipf.6-finjE', 'ipf.5-finjE', 'imp.5-finjE', 'sbjv.6-fini', 'prs.6-fini', 'pst.4-finjam', 'prs.pcp-finj\\xc3\\xa2'])\n",
        "()\n",
        "('cond.1-finirE', 0.98)\n",
        "('cond.2-finirE', 0.98)\n",
        "('cond.3-finirE', 0.98)\n",
        "('cond.4-finirj\\xc3\\xb4', 0.98)\n",
        "('cond.5-finirjE', 0.98)\n",
        "('cond.6-finirE', 0.98)\n",
        "('fut.1-finirE', 0.98)\n",
        "('fut.2-finira', 0.98)\n",
        "('fut.3-finira', 0.98)\n",
        "('fut.4-finir\\xc3\\xb4', 0.98)\n",
        "('fut.5-finirE', 0.98)\n",
        "('fut.6-finir\\xc3\\xb4', 0.98)\n",
        "('imp.2-fini', 1.0)\n",
        "('imp.4-finj\\xc3\\xb4', 0.2)\n",
        "('imp.5-finjE', 0.2)\n",
        "('inf-finjE', 0.52)\n",
        "('ipf.1-finjE', 0.2)\n",
        "('ipf.2-finjE', 0.2)\n",
        "('ipf.3-finjE', 0.2)\n",
        "('ipf.4-finj\\xc3\\xb4', 0.2)\n",
        "('ipf.5-finjE', 0.2)\n",
        "('ipf.6-finjE', 0.2)\n",
        "('prs.1-fini', 1.0)\n",
        "('prs.2-fini', 1.0)\n",
        "('prs.3-fini', 1.0)\n",
        "('prs.4-finj\\xc3\\xb4', 0.2)\n",
        "('prs.5-finjE', 0.2)\n",
        "('prs.6-fini', 0.16)\n",
        "('prs.pcp-finj\\xc3\\xa2', 0.2)\n",
        "('pst.1-finjE', 0.52)\n",
        "('pst.2-finja', 0.52)\n",
        "('pst.3-finja', 0.52)\n",
        "('pst.4-finjam', 0.52)\n",
        "('pst.5-finjat', 0.52)\n",
        "('pst.6-finjEr', 0.52)\n",
        "('pst.pcp-finjE', 0.51)\n",
        "('pst.sbj.1-finjas', 0.52)\n",
        "('pst.sbj.2-finjas', 0.52)\n",
        "('pst.sbj.3-finja', 0.52)\n",
        "('pst.sbj.4-finjasj\\xc3\\xb4', 0.52)\n",
        "('pst.sbj.5-finjasjE', 0.52)\n",
        "('pst.sbj.6-finjas', 0.52)\n",
        "('sbjv.1-fini', 0.16)\n",
        "('sbjv.2-fini', 0.16)\n",
        "('sbjv.3-fini', 0.16)\n",
        "('sbjv.4-finj\\xc3\\xb4', 0.2)\n",
        "('sbjv.5-finjE', 0.2)\n",
        "('sbjv.6-fini', 0.16)\n",
        "0.550625\n",
        "()\n",
        "(21, ['prs.2-fini', 'prs.3-fini', 'prs.1-fini', 'imp.2-fini', 'cond.3-finirE', 'cond.5-finirjE', 'fut.5-finirE', 'fut.2-finira', 'fut.4-finir\\xc3\\xb4', 'cond.1-finirE', 'cond.4-finirj\\xc3\\xb4', 'fut.1-finirE', 'fut.3-finira', 'fut.6-finir\\xc3\\xb4', 'cond.2-finirE', 'cond.6-finirE', 'inf-finir', 'ipf.4-finj\\xc3\\xb4', 'sbjv.5-finjE', 'ipf.5-finjE', 'sbjv.4-finj\\xc3\\xb4'])\n",
        "()\n",
        "('cond.1-finirE', 0.98)\n",
        "('cond.2-finirE', 0.98)\n",
        "('cond.3-finirE', 0.98)\n",
        "('cond.4-finirj\\xc3\\xb4', 0.98)\n",
        "('cond.5-finirjE', 0.98)\n",
        "('cond.6-finirE', 0.98)\n",
        "('fut.1-finirE', 0.98)\n",
        "('fut.2-finira', 0.98)\n",
        "('fut.3-finira', 0.98)\n",
        "('fut.4-finir\\xc3\\xb4', 0.98)\n",
        "('fut.5-finirE', 0.98)\n",
        "('fut.6-finir\\xc3\\xb4', 0.98)\n",
        "('imp.2-fini', 1.0)\n",
        "('inf-finir', 0.48)\n",
        "('ipf.4-finj\\xc3\\xb4', 0.2)\n",
        "('ipf.5-finjE', 0.2)\n",
        "('prs.1-fini', 1.0)\n",
        "('prs.2-fini', 1.0)\n",
        "('prs.3-fini', 1.0)\n",
        "('sbjv.4-finj\\xc3\\xb4', 0.2)\n",
        "('sbjv.5-finjE', 0.2)\n",
        "0.811428571429\n",
        "()\n",
        "(48, ['prs.2-fini', 'prs.3-fini', 'prs.1-fini', 'imp.2-fini', 'cond.3-finirE', 'cond.5-finirjE', 'fut.5-finirE', 'fut.2-finira', 'fut.4-finir\\xc3\\xb4', 'cond.1-finirE', 'cond.4-finirj\\xc3\\xb4', 'fut.1-finirE', 'fut.3-finira', 'fut.6-finir\\xc3\\xb4', 'cond.2-finirE', 'cond.6-finirE', 'inf-finir', 'ipf.4-finisj\\xc3\\xb4', 'sbjv.2-finis', 'pst.sbj.4-finisj\\xc3\\xb4', 'pst.sbj.2-finis', 'pst.3-fini', 'prs.5-finisE', 'pst.sbj.5-finisjE', 'pst.sbj.6-finis', 'pst.sbj.3-fini', 'sbjv.5-finisjE', 'ipf.1-finisE', 'prs.pcp-finis\\xc3\\xa2', 'pst.4-finim', 'pst.6-finir', 'sbjv.4-finisj\\xc3\\xb4', 'prs.4-finis\\xc3\\xb4', 'pst.1-fini', 'ipf.2-finisE', 'pst.sbj.1-finis', 'ipf.6-finisE', 'sbjv.3-finis', 'sbjv.6-finis', 'pst.2-fini', 'imp.5-finisE', 'sbjv.1-finis', 'pst.5-finit', 'ipf.5-finisjE', 'prs.6-finis', 'ipf.3-finisE', 'imp.4-finis\\xc3\\xb4', 'pst.pcp-fini'])\n",
        "()\n",
        "('cond.1-finirE', 0.98)\n",
        "('cond.2-finirE', 0.98)\n",
        "('cond.3-finirE', 0.98)\n",
        "('cond.4-finirj\\xc3\\xb4', 0.98)\n",
        "('cond.5-finirjE', 0.98)\n",
        "('cond.6-finirE', 0.98)\n",
        "('fut.1-finirE', 0.98)\n",
        "('fut.2-finira', 0.98)\n",
        "('fut.3-finira', 0.98)\n",
        "('fut.4-finir\\xc3\\xb4', 0.98)\n",
        "('fut.5-finirE', 0.98)\n",
        "('fut.6-finir\\xc3\\xb4', 0.98)\n",
        "('imp.2-fini', 1.0)\n",
        "('imp.4-finis\\xc3\\xb4', 1.0)\n",
        "('imp.5-finisE', 1.0)\n",
        "('inf-finir', 0.48)\n",
        "('ipf.1-finisE', 1.0)\n",
        "('ipf.2-finisE', 1.0)\n",
        "('ipf.3-finisE', 1.0)\n",
        "('ipf.4-finisj\\xc3\\xb4', 1.0)\n",
        "('ipf.5-finisjE', 1.0)\n",
        "('ipf.6-finisE', 1.0)\n",
        "('prs.1-fini', 1.0)\n",
        "('prs.2-fini', 1.0)\n",
        "('prs.3-fini', 1.0)\n",
        "('prs.4-finis\\xc3\\xb4', 1.0)\n",
        "('prs.5-finisE', 1.0)\n",
        "('prs.6-finis', 1.0)\n",
        "('prs.pcp-finis\\xc3\\xa2', 1.0)\n",
        "('pst.1-fini', 0.48)\n",
        "('pst.2-fini', 0.48)\n",
        "('pst.3-fini', 0.48)\n",
        "('pst.4-finim', 0.48)\n",
        "('pst.5-finit', 0.48)\n",
        "('pst.6-finir', 0.48)\n",
        "('pst.pcp-fini', 0.49)\n",
        "('pst.sbj.1-finis', 0.48)\n",
        "('pst.sbj.2-finis', 0.48)\n",
        "('pst.sbj.3-fini', 0.48)\n",
        "('pst.sbj.4-finisj\\xc3\\xb4', 0.48)\n",
        "('pst.sbj.5-finisjE', 0.48)\n",
        "('pst.sbj.6-finis', 0.48)\n",
        "('sbjv.1-finis', 1.0)\n",
        "('sbjv.2-finis', 1.0)\n",
        "('sbjv.3-finis', 1.0)\n",
        "('sbjv.4-finisj\\xc3\\xb4', 1.0)\n",
        "('sbjv.5-finisjE', 1.0)\n",
        "('sbjv.6-finis', 1.0)\n",
        "0.843541666667\n",
        "()\n"
       ]
      }
     ],
     "prompt_number": 30
    },
    {
     "cell_type": "code",
     "collapsed": false,
     "input": [
      "nx.write_dot(lexical.graphe,\"graphe.dot\")\n",
      "nx.write_dot(lexical.digraphe,\"digraphe.dot\")"
     ],
     "language": "python",
     "metadata": {},
     "outputs": [],
     "prompt_number": 8
    },
    {
     "cell_type": "code",
     "collapsed": false,
     "input": [
      "for n in range(len(cliques)):\n",
      "    print (n)\n",
      "    digraphe=verbe.digraphe.subgraph(cliques[n])\n",
      "    nx.write_dot(digraphe,\"clique%d.dot\"%n)"
     ],
     "language": "python",
     "metadata": {},
     "outputs": [
      {
       "output_type": "stream",
       "stream": "stdout",
       "text": [
        "0\n",
        "1"
       ]
      },
      {
       "output_type": "stream",
       "stream": "stdout",
       "text": [
        "\n",
        "2"
       ]
      },
      {
       "output_type": "stream",
       "stream": "stdout",
       "text": [
        "\n",
        "3"
       ]
      },
      {
       "output_type": "stream",
       "stream": "stdout",
       "text": [
        "\n",
        "4"
       ]
      },
      {
       "output_type": "stream",
       "stream": "stdout",
       "text": [
        "\n",
        "5"
       ]
      },
      {
       "output_type": "stream",
       "stream": "stdout",
       "text": [
        "\n",
        "6"
       ]
      },
      {
       "output_type": "stream",
       "stream": "stdout",
       "text": [
        "\n"
       ]
      }
     ],
     "prompt_number": 9
    },
    {
     "cell_type": "markdown",
     "metadata": {},
     "source": [
      "verbe=Paradigme()\n",
      "verbe.entrees=lexical.nouveau\n",
      "verbe.calculerParadigme()"
     ]
    },
    {
     "cell_type": "code",
     "collapsed": false,
     "input": [],
     "language": "python",
     "metadata": {},
     "outputs": []
    }
   ],
   "metadata": {}
  }
 ]
}