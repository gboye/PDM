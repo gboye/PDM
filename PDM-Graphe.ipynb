{
 "metadata": {
  "name": "",
  "signature": "sha256:560a1b952f61d2a3d1152c07dd4c8eff05af1434885dba18bbdb10364044993b"
 },
 "nbformat": 3,
 "nbformat_minor": 0,
 "worksheets": [
  {
   "cells": [
    {
     "cell_type": "code",
     "collapsed": false,
     "input": [
      "%matplotlib inline"
     ],
     "language": "python",
     "metadata": {},
     "outputs": [],
     "prompt_number": 1
    },
    {
     "cell_type": "code",
     "collapsed": false,
     "input": [
      "import networkx as nx\n",
      "import matplotlib.pyplot as plt\n",
      "import PDM\n",
      "from PDM import *\n",
      "import pickle"
     ],
     "language": "python",
     "metadata": {},
     "outputs": [],
     "prompt_number": 2
    },
    {
     "cell_type": "code",
     "collapsed": false,
     "input": [
      "with open('Regles.pkl', 'rb') as input:\n",
      "    PDM.analyse = pickle.load(input)\n",
      "with open('Classes.pkl', 'rb') as input:\n",
      "    PDM.classification = pickle.load(input)"
     ],
     "language": "python",
     "metadata": {},
     "outputs": [],
     "prompt_number": 3
    },
    {
     "cell_type": "code",
     "collapsed": false,
     "input": [
      "inf=Case(\"inf\")\n",
      "inf.addForm(FormeCoef(\"finir\",1))\n",
      "#inf.addForm(FormeCoef(\"finwar\",1))\n",
      "inf.addForm(FormeCoef(\"finir\",1))\n",
      "#inf.addForm(FormeCoef(\"finjE\",1))\n",
      "prs1=Case(\"prs.1\")\n",
      "prs1.addForm(FormeCoef(\"fini\",1))\n",
      "pst1=Case(\"pst.1\")\n",
      "pst1.addForm(FormeCoef(\"fini\",1))"
     ],
     "language": "python",
     "metadata": {},
     "outputs": [],
     "prompt_number": 4
    },
    {
     "cell_type": "code",
     "collapsed": false,
     "input": [
      "lexical=Paradigme()\n",
      "lexical.addEntrees(inf,prs1,pst1)\n",
      "#lexical"
     ],
     "language": "python",
     "metadata": {},
     "outputs": [],
     "prompt_number": 5
    },
    {
     "cell_type": "code",
     "collapsed": false,
     "input": [
      "lexical.calculerParadigme()\n",
      "verbe=Paradigme()\n",
      "verbe.entrees=lexical.nouveau\n",
      "verbe.calculerParadigme()"
     ],
     "language": "python",
     "metadata": {},
     "outputs": [],
     "prompt_number": 6
    },
    {
     "cell_type": "code",
     "collapsed": false,
     "input": [
      "cliques=list(nx.algorithms.clique.find_cliques(verbe.graphe))\n",
      "#cliques"
     ],
     "language": "python",
     "metadata": {},
     "outputs": [],
     "prompt_number": 7
    },
    {
     "cell_type": "code",
     "collapsed": false,
     "input": [
      "nx.write_dot(verbe.graphe,\"graphe.dot\")\n",
      "nx.write_dot(verbe.digraphe,\"digraphe.dot\")"
     ],
     "language": "python",
     "metadata": {},
     "outputs": [],
     "prompt_number": 8
    },
    {
     "cell_type": "code",
     "collapsed": false,
     "input": [
      "for n in range(len(cliques)):\n",
      "    print (n)\n",
      "    digraphe=verbe.digraphe.subgraph(cliques[n])\n",
      "    nx.write_dot(digraphe,\"clique%d.dot\"%n)"
     ],
     "language": "python",
     "metadata": {},
     "outputs": [
      {
       "output_type": "stream",
       "stream": "stdout",
       "text": [
        "0\n",
        "1"
       ]
      },
      {
       "output_type": "stream",
       "stream": "stdout",
       "text": [
        "\n",
        "2"
       ]
      },
      {
       "output_type": "stream",
       "stream": "stdout",
       "text": [
        "\n",
        "3"
       ]
      },
      {
       "output_type": "stream",
       "stream": "stdout",
       "text": [
        "\n",
        "4"
       ]
      },
      {
       "output_type": "stream",
       "stream": "stdout",
       "text": [
        "\n",
        "5"
       ]
      },
      {
       "output_type": "stream",
       "stream": "stdout",
       "text": [
        "\n",
        "6"
       ]
      },
      {
       "output_type": "stream",
       "stream": "stdout",
       "text": [
        "\n"
       ]
      }
     ],
     "prompt_number": 9
    },
    {
     "cell_type": "code",
     "collapsed": false,
     "input": [],
     "language": "python",
     "metadata": {},
     "outputs": []
    }
   ],
   "metadata": {}
  }
 ]
}