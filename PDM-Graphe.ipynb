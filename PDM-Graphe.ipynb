{
 "metadata": {
  "name": "",
  "signature": "sha256:21af4c35de128edd89b6ddbac11a35b0410d1bd89ff2e6b87f5d751f11bda2c3"
 },
 "nbformat": 3,
 "nbformat_minor": 0,
 "worksheets": [
  {
   "cells": [
    {
     "cell_type": "code",
     "collapsed": false,
     "input": [
      "%matplotlib inline"
     ],
     "language": "python",
     "metadata": {},
     "outputs": [],
     "prompt_number": 3
    },
    {
     "cell_type": "markdown",
     "metadata": {},
     "source": [
      "###Importation des modules"
     ]
    },
    {
     "cell_type": "code",
     "collapsed": false,
     "input": [
      "import networkx as nx\n",
      "import matplotlib.pyplot as plt\n",
      "import PDM\n",
      "from PDM import *\n",
      "import pickle"
     ],
     "language": "python",
     "metadata": {},
     "outputs": [],
     "prompt_number": 4
    },
    {
     "cell_type": "code",
     "collapsed": false,
     "input": [
      "PDM.seuilDistribution=0.00"
     ],
     "language": "python",
     "metadata": {},
     "outputs": [],
     "prompt_number": 3
    },
    {
     "cell_type": "code",
     "collapsed": false,
     "input": [
      "with open('Regles.pkl', 'rb') as input:\n",
      "    PDM.analyse = pickle.load(input)\n",
      "with open('Classes.pkl', 'rb') as input:\n",
      "    PDM.classification = pickle.load(input)"
     ],
     "language": "python",
     "metadata": {},
     "outputs": [],
     "prompt_number": 4
    },
    {
     "cell_type": "code",
     "collapsed": false,
     "input": [
      "def prettyClique(clique):\n",
      "    '''\n",
      "    remplir un dict tableau pour afficher un paradigme\n",
      "    '''\n",
      "    tableau={'NF':{}}\n",
      "    for element in sorted(clique):\n",
      "        case,forme=element.split(\"-\")\n",
      "        try:\n",
      "            temps,personne=case.split(\".\")\n",
      "            if personne in \"123456\":\n",
      "                if not temps in tableau:\n",
      "                    tableau[temps]={}\n",
      "                tableau[temps][personne]=forme\n",
      "            else:\n",
      "                tableau['NF'][temps]={personne:forme}\n",
      "        except:\n",
      "            tableau['NF'][case]=forme\n",
      "#    pretty(tableau)\n",
      "        \n",
      "        \n",
      "def faireCliques(lexeme):\n",
      "    cliques=list(nx.algorithms.clique.find_cliques(lexeme.graphe))\n",
      "    print len(cliques)\n",
      "    nMaxClique=0\n",
      "    for clique in sorted(cliques,key=lambda x: len(x),reverse=True):\n",
      "        if len(clique)>=nMaxClique:\n",
      "            nMaxClique=len(clique)\n",
      "            total=0\n",
      "            for node in sorted(clique):\n",
      "                poids=lexeme.graphe.node[node][\"weight\"]\n",
      "                total+=poids\n",
      "#                print(node,poids)\n",
      "            print (len(clique),clique[0])\n",
      "            print (sorted(clique))\n",
      "#            prettyClique(clique)\n",
      "            print (total/len(clique))\n",
      "            print ()\n",
      "    return cliques"
     ],
     "language": "python",
     "metadata": {},
     "outputs": [],
     "prompt_number": 25
    },
    {
     "cell_type": "code",
     "collapsed": false,
     "input": [
      "lexique={\n",
      "            \"finir-INF\":{\"inf\":\"finir\"},\n",
      "            \"finir-PRS3\":{\"prs.3\":\"fini\"},\n",
      "            \"finir-PRS4\":{\"prs.4\":\"finis\u00f4\"},\n",
      "            \"aboyer-PRS3\":{\"prs.3\":\"abwa\"},\n",
      "            \"aboyer-PRS4\":{\"prs.4\":\"abwaj\u00f4\"},\n",
      "         }\n",
      "for lexeme in lexique:\n",
      "    prefixeLexeme=lexeme+\"-\"\n",
      "    cases={}\n",
      "    for case in lexique[lexeme]:\n",
      "        cases[case]=Case(case)\n",
      "        cases[case].addForm(FormeCoef(lexique[lexeme][case],1))\n",
      "    print \",\".join(lexique[lexeme].keys())"
     ],
     "language": "python",
     "metadata": {},
     "outputs": [
      {
       "output_type": "stream",
       "stream": "stdout",
       "text": [
        "inf\n",
        "prs.4\n",
        "prs.3\n",
        "prs.3\n",
        "prs.4\n"
       ]
      }
     ],
     "prompt_number": 5
    },
    {
     "cell_type": "code",
     "collapsed": false,
     "input": [
      "inf=Case(\"inf\")\n",
      "#inf.addForm(FormeCoef(\"ka\u00eakaE\",1))\n",
      "prs1=Case(\"prs.1\")\n",
      "#prs1.addForm(FormeCoef(u\"r6pr\u00e2\",1))\n",
      "#prs1.addForm(FormeCoef(u\"E\",1))\n",
      "prs2=Case(\"prs.2\")\n",
      "#prs2.addForm(FormeCoef(\"abwa\",1))\n",
      "prs3=Case(\"prs.3\")\n",
      "#prs3.addForm(FormeCoef(\"fri\",1))\n",
      "prs4=Case(\"prs.4\")\n",
      "#prs4.addForm(FormeCoef(u\"ka\u00eaka\u00f4\",1))\n",
      "prs6=Case(\"prs.6\")\n",
      "#prs6.addForm(FormeCoef(\"prEn\",1))\n",
      "#prs6.addForm(FormeCoef(\"aswaj\",1))\n",
      "ipf1=Case(\"ipf.1\")\n",
      "#ipf1.addForm(FormeCoef(\"brEdisE\",1))\n",
      "pst1=Case(\"pst.1\")\n",
      "#pst1.addForm(FormeCoef(\"fini\",1))\n",
      "prspcp=Case(\"prs.pcp\")\n",
      "#prspcp.addForm(FormeCoef(\"finis\u00e2\",1))\n",
      "pstpcp=Case(\"pst.pcp\")\n",
      "#pstpcp.addForm(FormeCoef(\"fiSy\",1))\n",
      "\n",
      "lexical=Paradigme()\n",
      "#lexical.addEntrees(inf,prs1,pst1)\n",
      "lexical.addEntrees(prs1,prs2,prs3,prs4,prs6,ipf1,pst1,prspcp,pstpcp,inf)\n",
      "#lexical.addEntrees(prs1,pst1)\n",
      "#lexical.addEntrees(prs1,prspcp)"
     ],
     "language": "python",
     "metadata": {},
     "outputs": [],
     "prompt_number": 100
    },
    {
     "cell_type": "code",
     "collapsed": false,
     "input": [
      "lexical.calculerParadigme()\n",
      "cliques=faireCliques(lexical)"
     ],
     "language": "python",
     "metadata": {},
     "outputs": [
      {
       "output_type": "stream",
       "stream": "stdout",
       "text": [
        "1\n",
        "(1, u'prs.4-ka\\xeaka\\xf4')\n",
        "[u'prs.4-ka\\xeaka\\xf4']\n",
        "1.0\n",
        "()\n"
       ]
      }
     ],
     "prompt_number": 101
    },
    {
     "cell_type": "code",
     "collapsed": false,
     "input": [
      "nx.write_dot(lexical.graphe,lexeme+u\"graphe.dot\")\n",
      "nx.write_dot(lexical.digraphe,lexeme+u\"digraphe.dot\")\n",
      "for n in range(len(cliques)):\n",
      "    print (n)\n",
      "    digraphe=lexical.digraphe.subgraph(cliques[n])\n",
      "    nx.write_dot(digraphe,lexeme+u\"clique%d.dot\"%n)"
     ],
     "language": "python",
     "metadata": {},
     "outputs": [
      {
       "output_type": "stream",
       "stream": "stdout",
       "text": [
        "0\n"
       ]
      }
     ],
     "prompt_number": 93
    },
    {
     "cell_type": "code",
     "collapsed": false,
     "input": [
      "#lexical.getCoefNewForm(\"ipf.1\",\"finisE\")"
     ],
     "language": "python",
     "metadata": {},
     "outputs": [],
     "prompt_number": 30
    },
    {
     "cell_type": "code",
     "collapsed": false,
     "input": [
      "#lexical.digraphe.node[\"ipf.1-finisE\"]"
     ],
     "language": "python",
     "metadata": {},
     "outputs": [],
     "prompt_number": 31
    },
    {
     "cell_type": "code",
     "collapsed": false,
     "input": [
      "#lexical.intermediaires[\"ipf.1\"]"
     ],
     "language": "python",
     "metadata": {},
     "outputs": [],
     "prompt_number": 32
    },
    {
     "cell_type": "code",
     "collapsed": false,
     "input": [
      "#lexical.sorties"
     ],
     "language": "python",
     "metadata": {},
     "outputs": [],
     "prompt_number": 33
    },
    {
     "cell_type": "code",
     "collapsed": false,
     "input": [
      "\"prs.1.pcp\".strip(\"0123456789.\")"
     ],
     "language": "python",
     "metadata": {},
     "outputs": [
      {
       "metadata": {},
       "output_type": "pyout",
       "prompt_number": 34,
       "text": [
        "'prs.1.pcp'"
       ]
      }
     ],
     "prompt_number": 34
    },
    {
     "cell_type": "code",
     "collapsed": false,
     "input": [],
     "language": "python",
     "metadata": {},
     "outputs": [],
     "prompt_number": 34
    }
   ],
   "metadata": {}
  }
 ]
}