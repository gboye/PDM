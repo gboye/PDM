{
 "metadata": {
  "name": "",
  "signature": "sha256:191687123dec7b094281f8a8499f9dcacb262ba4121a6b6659b8e93467bce735"
 },
 "nbformat": 3,
 "nbformat_minor": 0,
 "worksheets": [
  {
   "cells": [
    {
     "cell_type": "code",
     "collapsed": false,
     "input": [
      "%matplotlib inline"
     ],
     "language": "python",
     "metadata": {},
     "outputs": [],
     "prompt_number": 1
    },
    {
     "cell_type": "markdown",
     "metadata": {},
     "source": [
      "###Importation des modules"
     ]
    },
    {
     "cell_type": "code",
     "collapsed": false,
     "input": [
      "import networkx as nx\n",
      "import matplotlib.pyplot as plt\n",
      "import PDM\n",
      "from PDM import *\n",
      "import pickle"
     ],
     "language": "python",
     "metadata": {},
     "outputs": [],
     "prompt_number": 2
    },
    {
     "cell_type": "code",
     "collapsed": false,
     "input": [
      "PDM.seuilDistribution=0.00"
     ],
     "language": "python",
     "metadata": {},
     "outputs": [],
     "prompt_number": 3
    },
    {
     "cell_type": "code",
     "collapsed": false,
     "input": [
      "with open('Regles.pkl', 'rb') as input:\n",
      "    PDM.analyse = pickle.load(input)\n",
      "with open('Classes.pkl', 'rb') as input:\n",
      "    PDM.classification = pickle.load(input)"
     ],
     "language": "python",
     "metadata": {},
     "outputs": [],
     "prompt_number": 4
    },
    {
     "cell_type": "code",
     "collapsed": false,
     "input": [
      "def prettyClique(clique):\n",
      "    '''\n",
      "    remplir un dict tableau pour afficher un paradigme\n",
      "    '''\n",
      "    tableau={'NF':{}}\n",
      "    for element in sorted(clique):\n",
      "        case,forme=element.split(\"-\")\n",
      "        try:\n",
      "            temps,personne=case.split(\".\")\n",
      "            if personne in \"123456\":\n",
      "                if not temps in tableau:\n",
      "                    tableau[temps]={}\n",
      "                tableau[temps][personne]=forme\n",
      "            else:\n",
      "                tableau['NF'][temps]={personne:forme}\n",
      "        except:\n",
      "            tableau['NF'][case]=forme\n",
      "#    pretty(tableau)\n",
      "        \n",
      "        \n",
      "def faireCliques(lexeme):\n",
      "    cliques=list(nx.algorithms.clique.find_cliques(lexeme.graphe))\n",
      "    print len(cliques)\n",
      "    nMaxClique=0\n",
      "    for clique in sorted(cliques,key=lambda x: len(x),reverse=True):\n",
      "        if len(clique)>=nMaxClique:\n",
      "            nMaxClique=len(clique)\n",
      "            total=0\n",
      "            for node in sorted(clique):\n",
      "                poids=lexeme.graphe.node[node][\"weight\"]\n",
      "                total+=poids\n",
      "#                print(node,poids)\n",
      "            print (len(clique),clique[0])\n",
      "            print (sorted(clique))\n",
      "#            prettyClique(clique)\n",
      "            print (total/len(clique))\n",
      "            print ()\n",
      "    return cliques"
     ],
     "language": "python",
     "metadata": {},
     "outputs": [],
     "prompt_number": 5
    },
    {
     "cell_type": "code",
     "collapsed": false,
     "input": [
      "lexeme=\"finir\"\n",
      "lexeme=lexeme+\"-\"\n",
      "lexique={\"finir\":{\"inf\":\"finir\"},\n",
      "         \"aboyer\":{\"prs.1\":\"abwa\"}}"
     ],
     "language": "python",
     "metadata": {},
     "outputs": [],
     "prompt_number": 10
    },
    {
     "cell_type": "code",
     "collapsed": false,
     "input": [
      "inf=Case(\"inf\")\n",
      "inf.addForm(FormeCoef(\"finir\",1))\n",
      "prs1=Case(\"prs.1\")\n",
      "#prs1.addForm(FormeCoef(u\"r6pr\u00e2\",1))\n",
      "#prs1.addForm(FormeCoef(u\"aswa\",1))\n",
      "prs2=Case(\"prs.2\")\n",
      "#prs2.addForm(FormeCoef(\"abwa\",1))\n",
      "prs3=Case(\"prs.3\")\n",
      "#prs3.addForm(FormeCoef(\"abwa\",1))\n",
      "prs4=Case(\"prs.4\")\n",
      "#prs4.addForm(FormeCoef(\"pr6n\u00f4\",1))\n",
      "prs6=Case(\"prs.6\")\n",
      "#prs6.addForm(FormeCoef(\"prEn\",1))\n",
      "#prs6.addForm(FormeCoef(\"aswaj\",1))\n",
      "ipf1=Case(\"ipf.1\")\n",
      "#ipf1.addForm(FormeCoef(\"brEdisE\",1))\n",
      "pst1=Case(\"pst.1\")\n",
      "#pst1.addForm(FormeCoef(\"fini\",1))\n",
      "prspcp=Case(\"prs.pcp\")\n",
      "#prspcp.addForm(FormeCoef(\"finis\u00e2\",1))\n",
      "\n",
      "lexical=Paradigme()\n",
      "#lexical.addEntrees(inf,prs1,pst1)\n",
      "lexical.addEntrees(prs1,prs2,prs3,prs6,ipf1,pst1,prspcp,inf)\n",
      "#lexical.addEntrees(prs1,pst1)\n",
      "#lexical.addEntrees(prs1,prspcp)"
     ],
     "language": "python",
     "metadata": {},
     "outputs": [],
     "prompt_number": 7
    },
    {
     "cell_type": "code",
     "collapsed": false,
     "input": [
      "lexical.calculerParadigme()\n",
      "cliques=faireCliques(lexical)"
     ],
     "language": "python",
     "metadata": {},
     "outputs": [
      {
       "output_type": "stream",
       "stream": "stdout",
       "text": [
        "4\n",
        "(48, 'inf-finir')\n",
        "[u'cond.1-finirE', u'cond.2-finirE', u'cond.3-finirE', u'cond.4-finirj\\xf4', u'cond.5-finirjE', u'cond.6-finirE', u'fut.1-finirE', u'fut.2-finira', u'fut.3-finira', u'fut.4-finir\\xf4', u'fut.5-finirE', u'fut.6-finir\\xf4', u'imp.2-fini', u'imp.4-finis\\xf4', u'imp.5-finisE', 'inf-finir', u'ipf.1-finisE', u'ipf.2-finisE', u'ipf.3-finisE', u'ipf.4-finisj\\xf4', u'ipf.5-finisjE', u'ipf.6-finisE', u'prs.1-fini', u'prs.2-fini', u'prs.3-fini', u'prs.4-finis\\xf4', u'prs.5-finisE', u'prs.6-finis', u'prs.pcp-finis\\xe2', u'pst.1-fini', u'pst.2-fini', u'pst.3-fini', u'pst.4-finim', u'pst.5-finit', u'pst.6-finir', u'pst.pcp-fini', u'pst.sbj.1-finis', u'pst.sbj.2-finis', u'pst.sbj.3-fini', u'pst.sbj.4-finisj\\xf4', u'pst.sbj.5-finisjE', u'pst.sbj.6-finis', u'sbjv.1-finis', u'sbjv.2-finis', u'sbjv.3-finis', u'sbjv.4-finisj\\xf4', u'sbjv.5-finisjE', u'sbjv.6-finis']\n",
        "0.896041666667\n",
        "()\n"
       ]
      }
     ],
     "prompt_number": 8
    },
    {
     "cell_type": "code",
     "collapsed": false,
     "input": [
      "nx.write_dot(lexical.graphe,lexeme+\"graphe.dot\")\n",
      "nx.write_dot(lexical.digraphe,lexeme+\"digraphe.dot\")\n",
      "for n in range(len(cliques)):\n",
      "    print (n)\n",
      "    digraphe=lexical.digraphe.subgraph(cliques[n])\n",
      "    nx.write_dot(digraphe,lexeme+\"clique%d.dot\"%n)"
     ],
     "language": "python",
     "metadata": {},
     "outputs": [
      {
       "output_type": "stream",
       "stream": "stdout",
       "text": [
        "0\n",
        "1"
       ]
      },
      {
       "output_type": "stream",
       "stream": "stdout",
       "text": [
        "\n",
        "2"
       ]
      },
      {
       "output_type": "stream",
       "stream": "stdout",
       "text": [
        "\n",
        "3"
       ]
      },
      {
       "output_type": "stream",
       "stream": "stdout",
       "text": [
        "\n"
       ]
      }
     ],
     "prompt_number": 11
    },
    {
     "cell_type": "code",
     "collapsed": false,
     "input": [
      "#lexical.getCoefNewForm(\"ipf.1\",\"finisE\")"
     ],
     "language": "python",
     "metadata": {},
     "outputs": []
    },
    {
     "cell_type": "code",
     "collapsed": false,
     "input": [
      "#lexical.digraphe.node[\"ipf.1-finisE\"]"
     ],
     "language": "python",
     "metadata": {},
     "outputs": []
    },
    {
     "cell_type": "code",
     "collapsed": false,
     "input": [
      "#lexical.intermediaires[\"ipf.1\"]"
     ],
     "language": "python",
     "metadata": {},
     "outputs": []
    },
    {
     "cell_type": "code",
     "collapsed": false,
     "input": [
      "#lexical.sorties"
     ],
     "language": "python",
     "metadata": {},
     "outputs": []
    },
    {
     "cell_type": "code",
     "collapsed": false,
     "input": [],
     "language": "python",
     "metadata": {},
     "outputs": []
    }
   ],
   "metadata": {}
  }
 ]
}