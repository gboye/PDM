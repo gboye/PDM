{
 "cells": [
  {
   "cell_type": "markdown",
   "metadata": {},
   "source": [
    "# Regroupement des échantillons de 200Mo\n",
    "Le but est d'obtenir un échantillon de plus de 1Go pour tracer l'évolution du lexique en fonction des tirages au delà de 200Mo"
   ]
  },
  {
   "cell_type": "code",
   "execution_count": 22,
   "metadata": {
    "collapsed": true
   },
   "outputs": [],
   "source": [
    "# -*- coding: utf8 -*-\n",
    "import pandas as pd\n",
    "import pickle, glob"
   ]
  },
  {
   "cell_type": "code",
   "execution_count": 23,
   "metadata": {
    "collapsed": false
   },
   "outputs": [],
   "source": [
    "def lireLexique(nomLexique):\n",
    "    with open(nomLexique, 'rb') as input:\n",
    "        lexique=pickle.load(input)\n",
    "    return lexique"
   ]
  },
  {
   "cell_type": "code",
   "execution_count": 24,
   "metadata": {
    "collapsed": true
   },
   "outputs": [],
   "source": [
    "listeTirages=glob.glob(\"/Users/gilles/ownCloud/Recherche/Boye/2015-Data/*-Tirage.pkl\")"
   ]
  },
  {
   "cell_type": "code",
   "execution_count": 25,
   "metadata": {
    "collapsed": false
   },
   "outputs": [],
   "source": [
    "def tiragesNom(nom):\n",
    "    result=[tirage for tirage in listeTirages if nom in tirage]\n",
    "    return result"
   ]
  },
  {
   "cell_type": "code",
   "execution_count": 26,
   "metadata": {
    "collapsed": false
   },
   "outputs": [],
   "source": [
    "listeTirages200=tiragesNom(\"200Mo\")\n",
    "#len(listeTirages200)"
   ]
  },
  {
   "cell_type": "code",
   "execution_count": 27,
   "metadata": {
    "collapsed": false
   },
   "outputs": [
    {
     "name": "stdout",
     "output_type": "stream",
     "text": [
      "74702\n"
     ]
    }
   ],
   "source": [
    "tailleLexique=[]\n",
    "nomLexique0=listeTirages200.pop(0)\n",
    "lexique=lireLexique(nomLexique0)\n",
    "taille=lexique[lexique[\"tir1\"]>0][\"tir1\"].count()\n",
    "print taille\n",
    "tailleLexique.append(taille)"
   ]
  },
  {
   "cell_type": "code",
   "execution_count": 28,
   "metadata": {
    "collapsed": false
   },
   "outputs": [
    {
     "name": "stdout",
     "output_type": "stream",
     "text": [
      "/Users/gilles/ownCloud/Recherche/Boye/2015-Data/MGC-160716-0-200Mo-Tirage.pkl\n",
      "76076\n",
      "/Users/gilles/ownCloud/Recherche/Boye/2015-Data/MGC-160716-1-200Mo-Tirage.pkl\n",
      "77351\n",
      "/Users/gilles/ownCloud/Recherche/Boye/2015-Data/MGC-160716-2-200Mo-Tirage.pkl\n",
      "78517\n",
      "/Users/gilles/ownCloud/Recherche/Boye/2015-Data/MGC-160717-0-200Mo-Tirage.pkl\n",
      "79565\n",
      "/Users/gilles/ownCloud/Recherche/Boye/2015-Data/MGC-160718-0-200Mo-Tirage.pkl\n",
      "80618\n",
      "/Users/gilles/ownCloud/Recherche/Boye/2015-Data/MGC-160719-0-200Mo-Tirage.pkl\n",
      "81578\n",
      "/Users/gilles/ownCloud/Recherche/Boye/2015-Data/MGC-160720-0-200Mo-Tirage.pkl\n",
      "82505\n"
     ]
    }
   ],
   "source": [
    "for tirage in listeTirages200:\n",
    "    print tirage\n",
    "    ajout=lireLexique(tirage)\n",
    "    lexique[\"tir1\"]=lexique[\"tir1\"]+ajout[\"tir1\"]\n",
    "    taille=lexique[lexique[\"tir1\"]>0][\"tir1\"].count()\n",
    "    print taille\n",
    "    tailleLexique.append(taille)    "
   ]
  },
  {
   "cell_type": "code",
   "execution_count": 29,
   "metadata": {
    "collapsed": false
   },
   "outputs": [
    {
     "data": {
      "text/plain": [
       "[74702, 76076, 77351, 78517, 79565, 80618, 81578, 82505]"
      ]
     },
     "execution_count": 29,
     "metadata": {},
     "output_type": "execute_result"
    }
   ],
   "source": [
    "tailleLexique"
   ]
  },
  {
   "cell_type": "code",
   "execution_count": 19,
   "metadata": {
    "collapsed": false
   },
   "outputs": [],
   "source": [
    "def nbFormesEchantillons(nom):\n",
    "    print nom\n",
    "    for tirage in tiragesNom(nom):\n",
    "        sample=lireLexique(tirage)\n",
    "        print sample[sample[\"tir1\"]>0][\"tir1\"].count(),\n",
    "        print sample[sample[\"tir1\"]>0][\"tir1\"].sum(),\n",
    "        print tirage"
   ]
  },
  {
   "cell_type": "code",
   "execution_count": 21,
   "metadata": {
    "collapsed": false
   },
   "outputs": [
    {
     "name": "stdout",
     "output_type": "stream",
     "text": [
      "2Mo\n",
      "62774 5000000 /Users/gilles/ownCloud/Recherche/Boye/2015-Data/MGC-160427-2Mo-5Mo-Tirage.pkl\n",
      "52254 2000000 /Users/gilles/ownCloud/Recherche/Boye/2015-Data/MGC-160427-2Mo-Tirage.pkl\n"
     ]
    }
   ],
   "source": [
    "nbFormesEchantillons(\"2Mo\")"
   ]
  }
 ],
 "metadata": {
  "kernelspec": {
   "display_name": "Python 2",
   "language": "python",
   "name": "python2"
  }
 },
 "nbformat": 4,
 "nbformat_minor": 0
}
