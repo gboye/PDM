{
 "metadata": {
  "name": "",
  "signature": "sha256:5a3d643c1baa45882e5c2d699fc81f523632b08f8b36096c137bf16b0eabbb93"
 },
 "nbformat": 3,
 "nbformat_minor": 0,
 "worksheets": [
  {
   "cells": [
    {
     "cell_type": "markdown",
     "metadata": {},
     "source": [
      "#G\u00e9n\u00e9ration de paradigme\n",
      "\u00c0 partir d'un remplissage de paradigme, calculer la g\u00e9n\u00e9ration suivante du remplissage"
     ]
    },
    {
     "cell_type": "code",
     "collapsed": false,
     "input": [
      "import copy\n",
      "import re"
     ],
     "language": "python",
     "metadata": {},
     "outputs": [],
     "prompt_number": 253
    },
    {
     "cell_type": "markdown",
     "metadata": {},
     "source": [
      "##Donn\u00e9es\n",
      "\n",
      "- paradigme : dict\n",
      " - le premier niveau d\u00e9fini les cases avec la liste des formes qui les occupent\n",
      " - le deuxi\u00e8me niveau donne les formes et leur proportion \u00e0 l'int\u00e9rieur de la case\n",
      "- r\u00e8gles"
     ]
    },
    {
     "cell_type": "code",
     "collapsed": false,
     "input": [
      "# inParadigme={\"inf\":[\"lave\"], \"prs3\":[], \"partpst\":[], \"imparf3\":[]}\n",
      "# inParadigme={'imparf3': ['lavE'], 'inf': [], 'partpst': ['lave'], 'prs3': ['lav']}\n",
      "inParadigme={'imparf3': [], 'inf': [('finir',1)], 'partpst': [], 'prs3': []}\n",
      "emptyParadigme={\"inf\":[], \"prs3\":[], \"partpst\":[], \"imparf3\":[]}\n",
      "regles={\"inf\":{\n",
      "                \"prs3\":[(\"e\",\"\"),(\"ir\",\"i\")],\n",
      "                \"partpst\":[(\"e\",\"e\"),(\"ir\",\"i\")],\n",
      "                \"imparf3\":[(\"e\",\"E\"),(\"ir\",\"isE\")]\n",
      "            }, \n",
      "        \"prs3\":{\n",
      "                \"inf\":[(\"\",\"e\"),(\"i\",\"ir\")], \n",
      "                \"partpst\":[(\"\",\"e\"),(\"i\",\"i\")], \n",
      "                \"imparf3\":[(\"\",\"E\"),(\"i\",\"isE\")]\n",
      "            },\n",
      "        \"partpst\":{\n",
      "                \"inf\":[(\"e\",\"e\"),(\"i\",\"ir\")],\n",
      "                \"prs3\":[(\"e\",\"\"),(\"i\",\"i\")],\n",
      "                \"imparf3\":[(\"e\",\"E\"),(\"i\",\"isE\")]\n",
      "            }, \n",
      "        \"imparf3\":{\n",
      "                \"inf\":[(\"E\",\"e\"),(\"isE\",\"ir\")],\n",
      "                \"prs3\":[(\"E\",\"\"),(\"isE\",\"i\")],\n",
      "                \"partpst\":[(\"E\",\"e\"),(\"isE\",\"i\")]}, \n",
      "        }\n",
      "distributions={}\n",
      "casePoids={\"inf\":1.0, \"prs3\":1.0, \"partpst\":1.0, \"imparf3\":1.0}"
     ],
     "language": "python",
     "metadata": {},
     "outputs": [],
     "prompt_number": 254
    },
    {
     "cell_type": "markdown",
     "metadata": {},
     "source": [
      "Essai d'interpr\u00e9tation d'une r\u00e8gle au format de sortie de PredSPE"
     ]
    },
    {
     "cell_type": "code",
     "collapsed": false,
     "input": [
      "exempleRegle=\"E --> [] / X[p,t,k,b,d,g,f,s,S,v,z,Z,m,n,J,j,l,r,w,H,i,y,E,6,u,o,\u00ea,\u00fb,\u00f4] ___ #   5237\"\n",
      "m=re.search(\"^(\\S+)\\s+-->\\s+(\\S+)\\s+/\\s+(\\S+)\\s+___\\s+(\\S+)\\s+.*$\",exempleRegle)\n",
      "a=m.group(1)\n",
      "if a==\"[]\":\n",
      "    a=\"\"\n",
      "b=m.group(2)\n",
      "if b==\"[]\":\n",
      "    b=\"\"\n",
      "c=\"\".join(m.group(3).split(\",\"))\n",
      "if c[0]==\"X\":\n",
      "    c=\"^.*\"+c[1:]\n",
      "if c[0]==\"#\":\n",
      "    c=\"^\"+c[1:]\n",
      "d=m.group(4)\n",
      "if d[-1]==\"X\":\n",
      "    d=d[:-1]+\".*$\"\n",
      "if d[-1]==\"#\":\n",
      "    d=d[:-1]+\"$\"\n",
      "c+a+d+\"==>\"+b"
     ],
     "language": "python",
     "metadata": {},
     "outputs": [
      {
       "metadata": {},
       "output_type": "pyout",
       "prompt_number": 269,
       "text": [
        "'^.*[ptkbdgfsSvzZmnJjlrwHiyE6uo\u00ea\u00fb\u00f4]E$==>'"
       ]
      }
     ],
     "prompt_number": 269
    },
    {
     "cell_type": "code",
     "collapsed": false,
     "input": [
      "def appliquerRegle(inForme,regle):\n",
      "    if len(regle[0])!=0 and inForme.endswith(regle[0]):\n",
      "        result=inForme[:-len(regle[0])]+regle[1]\n",
      "    elif inForme.endswith(regle[0]):\n",
      "        result=inForme+regle[1]\n",
      "    return result"
     ],
     "language": "python",
     "metadata": {},
     "outputs": [],
     "prompt_number": 256
    },
    {
     "cell_type": "markdown",
     "metadata": {},
     "source": [
      "###genererParadigme\n",
      "calcul la g\u00e9n\u00e9ration suivante du paradigme \u00e0 partir de l'\u00e9tat actuel et des r\u00e8gles de transformation\n",
      "\n",
      "chaque case renseign\u00e9e contribue \u00e0 sa propre conservation et \u00e0 la modification de toutes les autres\n",
      "\n",
      "- le poids de la case *casePoids* pond\u00e8re ses contributions\n",
      "- la distribution des formes dans les cases du nouveau paradigme est normalis\u00e9e \u00e0 partir de toutes les contributions pond\u00e9r\u00e9es."
     ]
    },
    {
     "cell_type": "code",
     "collapsed": false,
     "input": [
      "def genererParadigme(inParadigme):\n",
      "    distributions={}\n",
      "    resParadigme={\"inf\":[], \"prs3\":[], \"partpst\":[], \"imparf3\":[]}\n",
      "    \n",
      "    def distribuerForme(inForme):\n",
      "        outListe=[]\n",
      "        result=[]\n",
      "        nbRegles=0\n",
      "        for regle in regles[inCase][outCase]:\n",
      "            if inForme.endswith(regle[0]):\n",
      "                nbRegles+=1\n",
      "                outForme=appliquerRegle(inForme,regle)\n",
      "                outListe.append(outForme)\n",
      "        for element in outListe:\n",
      "            result.append((element,poids/nbRegles))\n",
      "        return result\n",
      "    \n",
      "    \n",
      "    for inCase in inParadigme:\n",
      "        if inParadigme[inCase]:\n",
      "#            print (inCase)\n",
      "            autresCases=[i for i in inParadigme.keys() if i!=inCase]\n",
      "            for outCase in autresCases:\n",
      "                if not outCase in distributions:\n",
      "                    distributions[outCase]={}\n",
      "                if not inCase in distributions[outCase]:\n",
      "                    distributions[outCase][inCase]={}\n",
      "                for forme,poids in inParadigme[inCase]:\n",
      "                    distributions[outCase][inCase][forme]=distribuerForme(forme)\n",
      "            if not inCase in distributions:\n",
      "                distributions[inCase]={}\n",
      "            if not inCase in distributions[inCase]:\n",
      "                distributions[inCase][inCase]={}\n",
      "            for forme,poids in inParadigme[inCase]:\n",
      "                distributions[inCase][inCase][forme]=[(forme,poids)]\n",
      "#    print (\"d\",distributions)\n",
      "    for distribution in distributions:\n",
      "#        print (distribution)\n",
      "        outDistribution={}\n",
      "        nbOutFormes=0\n",
      "        for inCase in distributions[distribution]:\n",
      "#            print (\"\\t\",inCase,end=\"\\n\")\n",
      "            for inForme in distributions[distribution][inCase]:\n",
      "#                print (\"\\t\\t\",inForme,end=\"\\t\")\n",
      "                for outForme in distributions[distribution][inCase][inForme]:\n",
      "#                    print (outForme,end=\"\\n\")\n",
      "                    if not outForme[0] in outDistribution:\n",
      "                        outDistribution[outForme[0]]=0\n",
      "#                    print (outForme[1],casePoids[inCase])\n",
      "                    outDistribution[outForme[0]]+=outForme[1]*casePoids[inCase]\n",
      "                    nbOutFormes+=outForme[1]*casePoids[inCase]\n",
      "#            print (\"\\t\\t\\t\",\"outDistribution\",outDistribution,end=\"\\n\")\n",
      "        vecteurDistribution=[]\n",
      "        for forme in outDistribution:\n",
      "            vecteurDistribution.append((forme,outDistribution[forme]/nbOutFormes))\n",
      "#        print (\"vecteur\",distribution,vecteurDistribution)\n",
      "        resParadigme[distribution]=vecteurDistribution\n",
      "    return resParadigme"
     ],
     "language": "python",
     "metadata": {},
     "outputs": [],
     "prompt_number": 257
    },
    {
     "cell_type": "code",
     "collapsed": false,
     "input": [
      "print (\"#\", inParadigme)"
     ],
     "language": "python",
     "metadata": {},
     "outputs": [
      {
       "output_type": "stream",
       "stream": "stdout",
       "text": [
        "# {'partpst': [], 'imparf3': [], 'inf': [('finir', 1)], 'prs3': []}\n"
       ]
      }
     ],
     "prompt_number": 258
    },
    {
     "cell_type": "code",
     "collapsed": false,
     "input": [
      "oldParadigme=inParadigme\n",
      "for i in range(15):\n",
      "    newParadigme=genererParadigme(oldParadigme)\n",
      "    print (i)\n",
      "    for element in newParadigme:\n",
      "            print (element,newParadigme[element])\n",
      "    print ()\n",
      "    oldParadigme=copy.deepcopy(newParadigme)\n",
      "#    oldParadigme=newParadigme"
     ],
     "language": "python",
     "metadata": {},
     "outputs": [
      {
       "output_type": "stream",
       "stream": "stdout",
       "text": [
        "0\n",
        "partpst [('fini', 1.0)]\n",
        "imparf3 [('finisE', 1.0)]\n",
        "inf [('finir', 1.0)]\n",
        "prs3 [('fini', 1.0)]\n",
        "\n",
        "1\n",
        "partpst [('finise', 0.125), ('finie', 0.125), ('fini', 0.75)]\n",
        "imparf3 [('finisE', 0.875), ('finiE', 0.125)]\n",
        "inf [('finise', 0.125), ('finie', 0.125), ('finir', 0.75)]\n",
        "prs3 [('finis', 0.125), ('fini', 0.875)]\n",
        "\n",
        "2\n",
        "partpst [('finise', 0.203125), ('finie', 0.203125), ('fini', 0.59375)]\n",
        "imparf3 [('finisE', 0.796875), ('finiE', 0.203125)]\n",
        "inf [('finise', 0.203125), ('finie', 0.203125), ('finir', 0.59375)]\n",
        "prs3 [('finis', 0.203125), ('fini', 0.796875)]\n",
        "\n",
        "3\n",
        "partpst [('finise', 0.251953125), ('finie', 0.251953125), ('fini', 0.49609375)]\n",
        "imparf3 [('finisE', 0.748046875), ('finiE', 0.251953125)]\n",
        "inf [('finise', 0.251953125), ('finie', 0.251953125), ('finir', 0.49609375)]\n",
        "prs3 [('finis', 0.251953125), ('fini', 0.748046875)]\n",
        "\n",
        "4\n",
        "partpst [('finise', 0.282470703125), ('finie', 0.282470703125), ('fini', 0.43505859375)]\n",
        "imparf3 [('finisE', 0.717529296875), ('finiE', 0.282470703125)]\n",
        "inf [('finise', 0.282470703125), ('finie', 0.282470703125), ('finir', 0.43505859375)]\n",
        "prs3 [('finis', 0.282470703125), ('fini', 0.717529296875)]\n",
        "\n",
        "5\n",
        "partpst [('finise', 0.301544189453125), ('finie', 0.301544189453125), ('fini', 0.39691162109375)]\n",
        "imparf3 [('finisE', 0.698455810546875), ('finiE', 0.301544189453125)]\n",
        "inf [('finise', 0.301544189453125), ('finie', 0.301544189453125), ('finir', 0.39691162109375)]\n",
        "prs3 [('finis', 0.301544189453125), ('fini', 0.698455810546875)]\n",
        "\n",
        "6\n",
        "partpst [('finise', 0.3134651184082031), ('finie', 0.3134651184082031), ('fini', 0.37306976318359375)]\n",
        "imparf3 [('finisE', 0.6865348815917969), ('finiE', 0.3134651184082031)]\n",
        "inf [('finise', 0.3134651184082031), ('finie', 0.3134651184082031), ('finir', 0.37306976318359375)]\n",
        "prs3 [('finis', 0.3134651184082031), ('fini', 0.6865348815917969)]\n",
        "\n",
        "7\n",
        "partpst [('finise', 0.32091569900512695), ('finie', 0.32091569900512695), ('fini', 0.3581686019897461)]\n",
        "imparf3 [('finisE', 0.679084300994873), ('finiE', 0.32091569900512695)]\n",
        "inf [('finise', 0.32091569900512695), ('finie', 0.32091569900512695), ('finir', 0.3581686019897461)]\n",
        "prs3 [('finis', 0.32091569900512695), ('fini', 0.679084300994873)]\n",
        "\n",
        "8\n",
        "partpst [('finise', 0.32557231187820435), ('finie', 0.32557231187820435), ('fini', 0.3488553762435913)]\n",
        "imparf3 [('finisE', 0.6744276881217957), ('finiE', 0.32557231187820435)]\n",
        "inf [('finise', 0.32557231187820435), ('finie', 0.32557231187820435), ('finir', 0.3488553762435913)]\n",
        "prs3 [('finis', 0.32557231187820435), ('fini', 0.6744276881217957)]\n",
        "\n",
        "9\n",
        "partpst [('finise', 0.3284826949238777), ('finie', 0.3284826949238777), ('fini', 0.34303461015224457)]\n",
        "imparf3 [('finisE', 0.6715173050761223), ('finiE', 0.3284826949238777)]\n",
        "inf [('finise', 0.3284826949238777), ('finie', 0.3284826949238777), ('finir', 0.34303461015224457)]\n",
        "prs3 [('finis', 0.3284826949238777), ('fini', 0.6715173050761223)]\n",
        "\n",
        "10\n",
        "partpst [('finise', 0.3303016843274236), ('finie', 0.3303016843274236), ('fini', 0.33939663134515285)]\n",
        "imparf3 [('finisE', 0.6696983156725764), ('finiE', 0.3303016843274236)]\n",
        "inf [('finise', 0.3303016843274236), ('finie', 0.3303016843274236), ('finir', 0.33939663134515285)]\n",
        "prs3 [('finis', 0.3303016843274236), ('fini', 0.6696983156725764)]\n",
        "\n",
        "11\n",
        "partpst [('finise', 0.33143855270463973), ('finie', 0.33143855270463973), ('fini', 0.33712289459072053)]\n",
        "imparf3 [('finisE', 0.6685614472953603), ('finiE', 0.33143855270463973)]\n",
        "inf [('finise', 0.33143855270463973), ('finie', 0.33143855270463973), ('finir', 0.33712289459072053)]\n",
        "prs3 [('finis', 0.33143855270463973), ('fini', 0.6685614472953603)]\n",
        "\n",
        "12\n",
        "partpst [('finise', 0.33214909544039983), ('finie', 0.33214909544039983), ('fini', 0.33570180911920033)]\n",
        "imparf3 [('finisE', 0.6678509045596002), ('finiE', 0.33214909544039983)]\n",
        "inf [('finise', 0.33214909544039983), ('finie', 0.33214909544039983), ('finir', 0.33570180911920033)]\n",
        "prs3 [('finis', 0.33214909544039983), ('fini', 0.6678509045596002)]\n",
        "\n",
        "13\n",
        "partpst [('finise', 0.3325931846502499), ('finie', 0.3325931846502499), ('fini', 0.3348136306995002)]\n",
        "imparf3 [('finisE', 0.6674068153497501), ('finiE', 0.3325931846502499)]\n",
        "inf [('finise', 0.3325931846502499), ('finie', 0.3325931846502499), ('finir', 0.3348136306995002)]\n",
        "prs3 [('finis', 0.3325931846502499), ('fini', 0.6674068153497501)]\n",
        "\n",
        "14\n",
        "partpst [('finise', 0.3328707404064062), ('finie', 0.3328707404064062), ('fini', 0.33425851918718763)]\n",
        "imparf3 [('finisE', 0.6671292595935938), ('finiE', 0.3328707404064062)]\n",
        "inf [('finise', 0.3328707404064062), ('finie', 0.3328707404064062), ('finir', 0.33425851918718763)]\n",
        "prs3 [('finis', 0.3328707404064062), ('fini', 0.6671292595935938)]\n",
        "\n"
       ]
      }
     ],
     "prompt_number": 259
    },
    {
     "cell_type": "code",
     "collapsed": false,
     "input": [],
     "language": "python",
     "metadata": {},
     "outputs": [],
     "prompt_number": 259
    }
   ],
   "metadata": {}
  }
 ]
}