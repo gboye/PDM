{
 "cells": [
  {
   "cell_type": "markdown",
   "metadata": {},
   "source": [
    "##Importations\n",
    "- codecs pour les encodages\n",
    "- pandas et numpy pour les calculs sur tableaux\n",
    "- matplotlib pour les graphiques\n",
    "- itertools pour les itérateurs sophistiqués (paires sur liste, ...)"
   ]
  },
  {
   "cell_type": "code",
   "execution_count": 56,
   "metadata": {
    "collapsed": false
   },
   "outputs": [],
   "source": [
    "# -*- coding: utf8 -*-\n",
    "import codecs\n",
    "import features\n",
    "import re\n",
    "import pandas as pd\n",
    "import numpy as np\n",
    "import matplotlib.pyplot as plt\n",
    "import itertools as it\n",
    "import pickle\n",
    "import networkx as nx\n",
    "#%pylab inline\n",
    "#pd.options.display.mpl_style = 'default'\n",
    "debug=False\n",
    "from __future__ import print_function"
   ]
  },
  {
   "cell_type": "markdown",
   "metadata": {},
   "source": [
    "###Préparation des matrices de traits"
   ]
  },
  {
   "cell_type": "code",
   "execution_count": 24,
   "metadata": {
    "collapsed": true
   },
   "outputs": [],
   "source": [
    "features.add_config('bdlexique.ini')\n",
    "fs=features.FeatureSystem('phonemes')"
   ]
  },
  {
   "cell_type": "code",
   "execution_count": 25,
   "metadata": {
    "collapsed": false
   },
   "outputs": [],
   "source": [
    "paradigmPrefix=\"MGC-150812-30000-1508120226-paradigmes\"\n",
    "paradigmFile=paradigmPrefix+\".csv\"\n",
    "analysisPrefix=\"MGC-150812-30000-1508120226-X\"\n",
    "logfile_name=analysisPrefix+paradigmPrefix+\".log\"\n",
    "logfile = codecs.open(logfile_name,mode='w',encoding=\"utf8\")"
   ]
  },
  {
   "cell_type": "markdown",
   "metadata": {},
   "source": [
    "###Préparation des cases du paradigme"
   ]
  },
  {
   "cell_type": "code",
   "execution_count": 26,
   "metadata": {
    "collapsed": true
   },
   "outputs": [],
   "source": [
    "casesPrincipales= [\n",
    "        'inf', 'pi1S', 'pi2S', 'pi3S', 'pi1P', 'pi2P', 'pi3P', 'ii1S',\n",
    "        'ii2S', 'ii3S', 'ii1P', 'ii2P', 'ii3P', \n",
    "        'fi1S', 'fi2S', 'fi3S', 'fi1P', 'fi2P',\n",
    "        'fi3P', 'pI2S', 'pI1P', 'pI2P', 'ps1S', 'ps2S', 'ps3S', 'ps1P',\n",
    "        'ps2P', 'ps3P', \n",
    "        'pc1S', 'pc2S', 'pc3S', 'pc1P', 'pc2P', 'pc3P', 'pP',\n",
    "        'ppMS', 'ppMP', 'ppFS', 'ppFP'\n",
    "            ]\n",
    "casesSecondaires= [\n",
    "       'ai1S', 'ai2S', 'ai3S', 'ai1P', 'ai2P', 'ai3P', 'is1S', 'is2S', 'is3S', 'is1P', 'is2P', 'is3P'\n",
    "            ]\n",
    "casesTotales=casesPrincipales+casesSecondaires\n",
    "listeCases=casesTotales"
   ]
  },
  {
   "cell_type": "markdown",
   "metadata": {},
   "source": [
    "#Préparation du calcul des analogies"
   ]
  },
  {
   "cell_type": "markdown",
   "metadata": {},
   "source": [
    "###Calcul de la différence entre deux formes"
   ]
  },
  {
   "cell_type": "code",
   "execution_count": 27,
   "metadata": {
    "collapsed": true
   },
   "outputs": [],
   "source": [
    "def diff(mot1,mot2):\n",
    "    result=[]\n",
    "    diff1=\"\"\n",
    "    diff2=\"\"\n",
    "    same=\"\"\n",
    "    vide=\".\"\n",
    "    lmax=max(len(mot1),len(mot2))\n",
    "    lmin=min(len(mot1),len(mot2))\n",
    "    for index in range(lmax):\n",
    "        if index < lmin:\n",
    "            if mot1[index]!=mot2[index]:\n",
    "                diff1+=mot1[index]\n",
    "                diff2+=mot2[index]\n",
    "                same+=vide\n",
    "            else:\n",
    "                same+=mot1[index]\n",
    "                diff1+=vide\n",
    "                diff2+=vide\n",
    "        elif index < len(mot1):\n",
    "            diff1+=mot1[index]\n",
    "        elif index < len(mot2):\n",
    "            diff2+=mot2[index]\n",
    "    diff1=diff1.lstrip(\".\")\n",
    "    diff2=diff2.lstrip(\".\")\n",
    "#    return (same,diff1,diff2,diff1+\"_\"+diff2)\n",
    "    return (diff1+\"-\"+diff2)"
   ]
  },
  {
   "cell_type": "markdown",
   "metadata": {},
   "source": [
    "###Accumulation des paires appartenant à un patron"
   ]
  },
  {
   "cell_type": "code",
   "execution_count": 28,
   "metadata": {
    "collapsed": false
   },
   "outputs": [],
   "source": [
    "def rowDiff(row, patrons):\n",
    "    result=diff(row[0],row[1])\n",
    "    if not result in patrons:\n",
    "        patrons[result]=(formesPatron(),formesPatron())\n",
    "    patrons[result][0].ajouterFormes(row[0])\n",
    "    patrons[result][1].ajouterFormes(row[1])\n",
    "    return (result[0],result[1])"
   ]
  },
  {
   "cell_type": "markdown",
   "metadata": {},
   "source": [
    "###Transformation d'un patron en RegExp"
   ]
  },
  {
   "cell_type": "code",
   "execution_count": 29,
   "metadata": {
    "collapsed": false
   },
   "outputs": [],
   "source": [
    "def patron2regexp(morceaux):\n",
    "    result=\"^\"\n",
    "    for morceau in morceaux:\n",
    "        if morceau==\"*\":\n",
    "            result+=\"(.*)\"\n",
    "        elif len(morceau)>1:\n",
    "            result+=\"([\"+morceau+\"])\"\n",
    "        else:\n",
    "            result+=morceau\n",
    "    result+=\"$\"\n",
    "    result=result.replace(\")(\",\"\")\n",
    "    return result"
   ]
  },
  {
   "cell_type": "markdown",
   "metadata": {},
   "source": [
    "###Substitution de sortie \n",
    "???"
   ]
  },
  {
   "cell_type": "code",
   "execution_count": 30,
   "metadata": {
    "collapsed": false
   },
   "outputs": [],
   "source": [
    "def remplacementSortie(sortie):\n",
    "    n=1\n",
    "    nsortie=\"\"\n",
    "    for lettre in sortie:\n",
    "        if lettre==\".\":\n",
    "            nsortie+=\"\\g<%d>\"%n\n",
    "            n+=1\n",
    "        else:\n",
    "            nsortie+=lettre\n",
    "    return nsortie"
   ]
  },
  {
   "cell_type": "code",
   "execution_count": 31,
   "metadata": {
    "collapsed": false
   },
   "outputs": [],
   "source": [
    "class formesPatron:\n",
    "    '''\n",
    "    Accumulateur de formes correspondant à un patron pour calcul de la Généralisation Minimale (cf. MGL)\n",
    "    '''\n",
    "    def __init__(self):\n",
    "        self.formes=[]\n",
    "\n",
    "#    def __repr__(self):\n",
    "#        return ','.join(self.calculerGM())\n",
    "        \n",
    "    def ajouterForme(self,forme):\n",
    "        self.formes.append(forme)\n",
    "        \n",
    "    def calculerGM(self):\n",
    "        minLongueur=len(min(self.formes, key=len))\n",
    "        maxLongueur=len(max(self.formes, key=len))\n",
    "        if debug: print (minLongueur, maxLongueur, file=logfile)\n",
    "        positions=[]\n",
    "        if maxLongueur>minLongueur:\n",
    "            positions.append(\"*\")\n",
    "        for i in xrange(minLongueur, 0, -1):\n",
    "            phonemes=set([x[-i] for x in self.formes])\n",
    "            if debug: print (phonemes, file=logfile)\n",
    "            if \".\" in phonemes:\n",
    "                positions.append(\".\")\n",
    "            else:\n",
    "                positions.append(\"\".join(fs.lattice[phonemes].extent))\n",
    "        return patron2regexp(positions)\n",
    "\n",
    "class pairePatrons:\n",
    "    '''\n",
    "    Accumulateur de triplets (f1,f2,patron) correspondant à une paire pour calcul des Généralisations Minimales (cf. MGL)\n",
    "    '''\n",
    "    def __init__(self,case1,case2):\n",
    "        self.patrons1={}\n",
    "        self.patrons2={}\n",
    "        self.case1=case1\n",
    "        self.case2=case2\n",
    "\n",
    "#    def __repr__(self):\n",
    "#        return ','.join(self.calculerGM())\n",
    "        \n",
    "    def ajouterFormes(self,forme1,forme2,patron):\n",
    "#        print (forme1,forme2,patron, file=logfile)\n",
    "        patron12=patron\n",
    "        (pat1,pat2)=patron.split(\"-\")\n",
    "        patron21=pat2+\"-\"+pat1\n",
    "#        print (patron12,patron21, file=logfile)\n",
    "        if not patron12 in self.patrons1:\n",
    "            self.patrons1[patron12]=formesPatron()\n",
    "        self.patrons1[patron12].ajouterForme(forme1)\n",
    "        if not patron21 in self.patrons2:\n",
    "            self.patrons2[patron21]=formesPatron()\n",
    "        self.patrons2[patron21].ajouterForme(forme2)\n",
    "        \n",
    "        \n",
    "    def calculerGM(self):\n",
    "        resultat1={}\n",
    "        for patron in self.patrons1:\n",
    "            if debug: print (\"patron1\", patron, file=logfile)\n",
    "            resultat1[patron]=self.patrons1[patron].calculerGM()\n",
    "        resultat2={}\n",
    "        for patron in self.patrons2:\n",
    "            if debug: print (\"patron2\", patron, file=logfile)\n",
    "            resultat2[patron]=self.patrons2[patron].calculerGM()\n",
    "        return (resultat1,resultat2) "
   ]
  },
  {
   "cell_type": "markdown",
   "metadata": {},
   "source": [
    "#Classe pour la gestion des patrons, des classes et des transformations"
   ]
  },
  {
   "cell_type": "code",
   "execution_count": 32,
   "metadata": {
    "collapsed": false
   },
   "outputs": [],
   "source": [
    "class paireClasses:\n",
    "    def __init__(self,case1,case2):\n",
    "        self.case1=case1\n",
    "        self.case2=case2\n",
    "        self.nom=case1+\"-\"+case2\n",
    "        self.classes1=classesPaire(case1,case2)\n",
    "        self.classes2=classesPaire(case2,case1)\n",
    "\n",
    "    def ajouterPatron(self,n,patron,motif):\n",
    "        if n==1:\n",
    "            self.classes1.ajouterPatron(patron,motif)\n",
    "        elif n==2:\n",
    "            self.classes2.ajouterPatron(patron,motif)\n",
    "        else:\n",
    "            print (\"le numéro de forme n'est pas dans [1,2]\",n,file=logfile)\n",
    "\n",
    "    def ajouterPaire(self,forme1,forme2):\n",
    "        self.classes1.ajouterPaire(forme1,forme2)\n",
    "        self.classes2.ajouterPaire(forme2,forme1)\n",
    "        \n",
    "    def calculerClasses(self):\n",
    "        return(self.classes1,self.classes2)\n",
    "\n",
    "    \n",
    "class classesPaire:\n",
    "    '''\n",
    "    Gestion des patrons, des classes et des transformations\n",
    "    \n",
    "    ajouterPatron : ajoute un patron et son motif associé (MGL)\n",
    "    ajouterPaire : ajoute une paire de formes, calcule la classe de la forme1 et la règle sélectionnée\n",
    "    sortirForme : cacule les formes de sortie correspondant à la forme1 avec leurs coefficients respectifs\n",
    "    '''\n",
    "    def __init__(self,case1,case2):\n",
    "        self.case1=case1\n",
    "        self.case2=case2\n",
    "        self.nom=case1+\"-\"+case2\n",
    "        self.classe={}\n",
    "        self.nbClasse={}\n",
    "        self.patrons={}\n",
    "        self.entree={}\n",
    "        self.sortie={}\n",
    "    \n",
    "    def ajouterPatron(self,patron,motif):\n",
    "        self.patrons[patron]=motif\n",
    "        (entree,sortie)=patron.split(\"-\")\n",
    "        self.entree[patron]=entree.replace(u\".\",u\"(.)\")\n",
    "        self.sortie[patron]=remplacementSortie(sortie)\n",
    "    \n",
    "    def ajouterPaire(self,forme1,forme2):\n",
    "        '''\n",
    "        on calcule la classe de la paire idClasseForme et la règle sélectionnée\n",
    "        on incrémente le compteur de la classe et celui de la règle sélectionnée à l'intérieur de la classe\n",
    "        '''\n",
    "        classeForme=[]\n",
    "        regleForme=\"\"\n",
    "        for patron in self.patrons:\n",
    "            if re.match(self.patrons[patron],forme1):\n",
    "                classeForme.append(patron)\n",
    "                '''\n",
    "                le +\"$\" permet de forcer l'alignement à droite pour les transformations suffixales\n",
    "                '''\n",
    "                if forme2==re.sub(self.entree[patron]+\"$\",self.sortie[patron],forme1):\n",
    "                    regleForme=patron\n",
    "        idClasseForme=\", \".join(classeForme)\n",
    "        if not idClasseForme in self.classe:\n",
    "            self.classe[idClasseForme]={}\n",
    "            self.nbClasse[idClasseForme]=0\n",
    "        if not regleForme in self.classe[idClasseForme]:\n",
    "            self.classe[idClasseForme][regleForme]=0\n",
    "        self.nbClasse[idClasseForme]+=1\n",
    "        self.classe[idClasseForme][regleForme]+=1\n",
    "\n",
    "    def sortirForme(self,forme):\n",
    "        classeForme=[]\n",
    "        sortieForme={}\n",
    "        for patron in self.patrons:\n",
    "            if re.match(self.patrons[patron],forme):\n",
    "                classeForme.append(patron)\n",
    "        if classeForme:\n",
    "            idClasseForme=\", \".join(classeForme)\n",
    "            if idClasseForme in self.nbClasse:\n",
    "                nTotal=self.nbClasse[idClasseForme]\n",
    "                for patron in self.classe[idClasseForme]:\n",
    "                    sortie=re.sub(self.entree[patron]+\"$\",self.sortie[patron],forme)\n",
    "                    sortieForme[sortie]=float(self.classe[idClasseForme][patron])/nTotal\n",
    "            else:\n",
    "                if debug:\n",
    "                    print (forme, file=logfile)\n",
    "                    print (\"pas de classe\",idClasseForme, file=logfile)\n",
    "                    print (\"%.2f par forme de sortie\" % (float(1)/len(classeForme)), file=logfile)\n",
    "                nTotal=len(classeForme)\n",
    "                for patron in classeForme:\n",
    "                    sortie=re.sub(self.entree[patron]+\"$\",self.sortie[patron],forme)\n",
    "                    sortieForme[sortie]=float(1)/nTotal\n",
    "        else:\n",
    "            print (forme, file=logfile) \n",
    "            print (\"pas de patron\", file=logfile)\n",
    "        return sortieForme\n",
    "        "
   ]
  },
  {
   "cell_type": "markdown",
   "metadata": {},
   "source": [
    "##Appliquer la formule de calcul des différences entre chaines à chaque ligne\n",
    "\n",
    ">si il y a au moins une ligne\n",
    "\n",
    ">>on applique la différence à la ligne\n",
    "\n",
    ">>on calcule les deux patrons par suppression des points initiaux\n",
    "\n",
    ">>on renvoie le groupement par patrons (1&2)\n",
    "\n",
    ">sinon\n",
    "\n",
    ">>on renvoie le paradigme vide d'origine"
   ]
  },
  {
   "cell_type": "code",
   "execution_count": 33,
   "metadata": {
    "collapsed": false
   },
   "outputs": [],
   "source": [
    "def OLDrapports(paradigme):\n",
    "    (case1,case2,lexeme)= paradigme.columns.values.tolist()\n",
    "    patrons=pairePatrons(case1,case2)\n",
    "    if len(paradigme)>0:\n",
    "#        for index, row in paradigme.iterrows():\n",
    "#            patrons.ajouterFormes(row[0],row[1],diff(row[0],row[1]))\n",
    "        paradigme.apply(lambda x: patrons.ajouterFormes(x[case1],x[case2],diff(x[case1],x[case2])), axis=1)\n",
    "        (regles1,regles2)=patrons.calculerGM()\n",
    "    return patrons.calculerGM()"
   ]
  },
  {
   "cell_type": "code",
   "execution_count": 34,
   "metadata": {
    "collapsed": false
   },
   "outputs": [],
   "source": [
    "def rapports(paradigme):\n",
    "    if len(paradigme.columns.values.tolist())==2:\n",
    "        (case1,lexeme)= paradigme.columns.values.tolist()\n",
    "        case2=case1\n",
    "    else:\n",
    "        (case1,case2,lexeme)= paradigme.columns.values.tolist()\n",
    "    patrons=pairePatrons(case1,case2)\n",
    "    classes=paireClasses(case1,case2)\n",
    "    if len(paradigme)>0:\n",
    "        paradigme.apply(lambda x: patrons.ajouterFormes(x[case1],x[case2],diff(x[case1],x[case2])), axis=1)\n",
    "        (regles1,regles2)=patrons.calculerGM()\n",
    "        for regle in regles1:\n",
    "            classes.ajouterPatron(1,regle,regles1[regle])\n",
    "        for regle in regles2:\n",
    "            classes.ajouterPatron(2,regle,regles2[regle])\n",
    "        paradigme.apply(lambda x: classes.ajouterPaire(x[case1],x[case2]), axis=1)\n",
    "    (classes1,classes2)=classes.calculerClasses()\n",
    "    return (classes1,classes2)"
   ]
  },
  {
   "cell_type": "markdown",
   "metadata": {},
   "source": [
    "###Dédoubler les lignes avec des surabondances dans *colonne*\n",
    ">identifier une ligne avec surabondance\n",
    "\n",
    ">>ajouter les lignes correspondant à chaque valeur\n",
    "\n",
    ">>ajouter le numéro de la ligne initiale dans les lignes à supprimer\n",
    "\n",
    ">supprimer les lignes avec surabondance\n",
    "\n",
    "NB : il faut préparer le tableau pour avoir une indexation qui permette l'ajout des valeurs individuelles et la suppression des lignes de surabondances"
   ]
  },
  {
   "cell_type": "code",
   "execution_count": 35,
   "metadata": {
    "collapsed": false
   },
   "outputs": [],
   "source": [
    "def splitCellMates(df,colonne):\n",
    "    '''\n",
    "    Calcul d'une dataframe sans surabondance par dédoublement des valeurs\n",
    "    '''\n",
    "    test=df.reset_index()\n",
    "    del test[\"index\"]\n",
    "    splitIndexes=[]\n",
    "    for index,ligne in test.iterrows():\n",
    "        if \",\" in ligne[colonne]:\n",
    "            valeurs=set(ligne[colonne].split(\",\"))\n",
    "            nouvelleLigne=ligne\n",
    "            for valeur in valeurs:\n",
    "                nouvelleLigne[colonne]=valeur\n",
    "                test=test.append(nouvelleLigne,ignore_index=True)\n",
    "            splitIndexes.append(index)\n",
    "    if splitIndexes:\n",
    "        test=test.drop(test.index[splitIndexes])\n",
    "    return test\n"
   ]
  },
  {
   "cell_type": "code",
   "execution_count": 36,
   "metadata": {
    "collapsed": false
   },
   "outputs": [],
   "source": [
    "paradigmes=pd.read_csv(paradigmFile,sep=\";\",encoding=\"utf8\")\n",
    "del paradigmes[u\"Unnamed: 0\"]"
   ]
  },
  {
   "cell_type": "code",
   "execution_count": 37,
   "metadata": {
    "collapsed": false,
    "scrolled": true
   },
   "outputs": [
    {
     "data": {
      "text/plain": [
       "33888"
      ]
     },
     "execution_count": 37,
     "metadata": {},
     "output_type": "execute_result"
    }
   ],
   "source": [
    "paradigmes.stack().value_counts(dropna=True).sum()"
   ]
  },
  {
   "cell_type": "code",
   "execution_count": 38,
   "metadata": {
    "collapsed": false
   },
   "outputs": [],
   "source": [
    "with open(analysisPrefix+'-Regles.pkl', 'rb') as input:\n",
    "    resultatsLecture = pickle.load(input)"
   ]
  },
  {
   "cell_type": "code",
   "execution_count": 39,
   "metadata": {
    "collapsed": false
   },
   "outputs": [],
   "source": [
    "class paradigmeDistribution:\n",
    "    '''\n",
    "    Gestion des distributions dans les cases du paradigme\n",
    "    '''\n",
    "\n",
    "    def __init__(self,lexeme):\n",
    "        self.lexeme=lexeme\n",
    "        self.formes={i:{} for i in listeCases}\n",
    "\n",
    "    def ajouterFormes(self,case,formes,coef=1.0):\n",
    "        for forme in formes:\n",
    "            if not forme in self.formes[case]:\n",
    "                self.formes[case][forme]=0\n",
    "            self.formes[case][forme]+=formes[forme]*coef\n",
    "            \n",
    "    def normaliserDistributions(self,caseListe=listeCases):\n",
    "        normalesDistributions={i:{} for i in caseListe}\n",
    "        for case in caseListe:\n",
    "            total=0\n",
    "            for element in self.formes[case]:\n",
    "                total+=self.formes[case][element]\n",
    "            for element in self.formes[case]:\n",
    "                normalesDistributions[case][element]=float(self.formes[case][element])/total\n",
    "        return normalesDistributions\n",
    "        "
   ]
  },
  {
   "cell_type": "code",
   "execution_count": 40,
   "metadata": {
    "collapsed": false,
    "scrolled": true
   },
   "outputs": [],
   "source": [
    "def generateForms(lexeme):\n",
    "    candidats=paradigmeDistribution(lexeme)\n",
    "    for forme in listeCases:\n",
    "        if not pd.isnull(paradigmes[paradigmes[\"lexeme\"]==lexeme][forme].iloc[0]):\n",
    "            depart=paradigmes[paradigmes[\"lexeme\"]==lexeme][forme].iloc[0]\n",
    "            if debug: print (forme,depart, file=logfile)\n",
    "            if depart!=\"nan\":\n",
    "                for case in listeCases:\n",
    "                    if debug: print (case, file=logfile)\n",
    "                    if not isinstance(resultatsLecture[(forme, case)],str):\n",
    "                        if \",\" in depart:\n",
    "                            departs=depart.split(\",\")\n",
    "                            coef=1.0/len(departs)\n",
    "                            for element in departs:\n",
    "                                candidats.ajouterFormes(case,resultatsLecture[(forme, case)].sortirForme(element),coef)\n",
    "                        else:\n",
    "                            candidats.ajouterFormes(case,resultatsLecture[(forme, case)].sortirForme(depart))\n",
    "                    else: print (\"str\", resultatsLecture[(forme, case)], file=logfile)\n",
    "    return candidats"
   ]
  },
  {
   "cell_type": "code",
   "execution_count": 116,
   "metadata": {
    "collapsed": true
   },
   "outputs": [],
   "source": [
    "def ajouterPoint(lexeme,forme,case):\n",
    "    pointName=\"%s-%s-%s\"%(lexeme,forme,case)\n",
    "#    if not pointName in digraphe.nodes():\n",
    "    digraphe.add_node(pointName)\n",
    "    graphe.add_node(pointName)\n",
    "    return pointName\n",
    "\n",
    "def ajouterFleche(depart,sortie,coef):\n",
    "    digraphe.add_edge(depart,sortie,weight=float(coef))\n",
    "    if digraphe.has_edge(sortie,depart):\n",
    "        coefGraphe=float(digraphe.edge[sortie][depart][\"weight\"]+coef)/2\n",
    "        graphe.add_edge(depart,sortie,weight=coefGraphe)"
   ]
  },
  {
   "cell_type": "code",
   "execution_count": 117,
   "metadata": {
    "collapsed": false
   },
   "outputs": [],
   "source": [
    "def generateParadigms(generation1):\n",
    "    lexeme=generation1.lexeme\n",
    "    distributionInitiale=generation1.normaliserDistributions()\n",
    "    candidats=paradigmeDistribution(lexeme)\n",
    "    for caseDepart in listeCases:\n",
    "        for formeDepart in distributionInitiale[caseDepart]:\n",
    "            if formeDepart:\n",
    "                pointDepart=ajouterPoint(lexeme,formeDepart,caseDepart)\n",
    "                coefDepart=distributionInitiale[caseDepart][formeDepart]\n",
    "                if debug: print (caseDepart,formeDepart, file=logfile)\n",
    "                for caseSortie in listeCases:\n",
    "                    distributionSortie=resultatsLecture[(caseDepart, caseSortie)].sortirForme(formeDepart)\n",
    "                    if distributionSortie:\n",
    "                        if debug: print (caseSortie,distributionSortie,distributionInitiale[caseDepart], file=logfile)\n",
    "                        candidats.ajouterFormes(caseSortie,distributionSortie,distributionInitiale[caseDepart][formeDepart])\n",
    "                        for formeSortie in distributionSortie:\n",
    "                            pointSortie=ajouterPoint(lexeme,formeSortie,caseSortie)\n",
    "                            coefSortie=distributionSortie[formeSortie]\n",
    "                            ajouterFleche(pointDepart,pointSortie,float(coefDepart*coefSortie))\n",
    "    return candidats"
   ]
  },
  {
   "cell_type": "code",
   "execution_count": 118,
   "metadata": {
    "collapsed": true
   },
   "outputs": [],
   "source": [
    "def generate(lexeme):\n",
    "    generation1=generateForms(lexeme)\n",
    "    generation2=generateParadigms(generation1)\n",
    "    return generation2"
   ]
  },
  {
   "cell_type": "code",
   "execution_count": 137,
   "metadata": {
    "collapsed": false,
    "scrolled": true
   },
   "outputs": [
    {
     "name": "stdout",
     "output_type": "stream",
     "text": [
      "CPU times: user 37.2 s, sys: 465 ms, total: 37.6 s\n",
      "Wall time: 38.1 s\n"
     ]
    }
   ],
   "source": [
    "%%time\n",
    "debug=True\n",
    "listeTest=[u\"manger\",u\"boire\",u\"dormir\",u\"aller\",u\"avoir\"]\n",
    "digraphe=nx.DiGraph()\n",
    "graphe=nx.Graph()\n",
    "for element in listeTest:\n",
    "    generate(element)"
   ]
  },
  {
   "cell_type": "code",
   "execution_count": 138,
   "metadata": {
    "collapsed": false,
    "scrolled": true
   },
   "outputs": [],
   "source": [
    "#nx.write_dot(digraphe,u\"digraphe.dot\")\n",
    "#nx.write_dot(graphe,u\"graphe.dot\")"
   ]
  },
  {
   "cell_type": "code",
   "execution_count": 139,
   "metadata": {
    "collapsed": true
   },
   "outputs": [],
   "source": [
    "cliques=list(nx.algorithms.clique.find_cliques(graphe))"
   ]
  },
  {
   "cell_type": "code",
   "execution_count": 147,
   "metadata": {
    "collapsed": false
   },
   "outputs": [
    {
     "name": "stdout",
     "output_type": "stream",
     "text": [
      "manger 35\n",
      "boire 34\n",
      "dormir 32\n",
      "aller 42\n",
      "avoir 46\n"
     ]
    }
   ],
   "source": [
    "for element in listeTest:\n",
    "    print (element,paradigmes[paradigmes[\"lexeme\"]==element].stack().value_counts(dropna=True).sum()-1)"
   ]
  },
  {
   "cell_type": "code",
   "execution_count": 134,
   "metadata": {
    "collapsed": false,
    "scrolled": true
   },
   "outputs": [
    {
     "name": "stdout",
     "output_type": "stream",
     "text": [
      "0 46\n",
      "avoir-a-pi2S, avoir-a-pi3S, avoir-y-ppMS, avoir-E-ps2S, avoir-ave-pi2P, avoir-y-ppMP, avoir-Orjô-pc1P, avoir-avjô-ii1P, avoir-OrE-pc3S, avoir-OrE-pc3P, avoir-ym-ai1P, avoir-y-is3S, avoir-OrE-pc1S, avoir-OrE-fi1S, avoir-ys-is3P, avoir-E-pI2S, avoir-y-ppFP, avoir-ys-is1S, avoir-avE-ii2S, avoir-yr-ai3P, avoir-avwar-inf, avoir-y-ai1S, avoir-ô-pi3P, avoir-Ora-fi3S, avoir-Ore-fi2P, avoir-Ejô-pI1P, avoir-Eje-pI2P, avoir-Orô-fi3P, avoir-Eje-ps2P, avoir-avE-ii3P, avoir-E-ps3S, avoir-avô-pi1P, avoir-E-ps3P, avoir-avE-ii3S, avoir-Ejâ-pP, avoir-avE-ii1S, avoir-E-ps1S, avoir-Orje-pc2P, avoir-OrE-pc2S, avoir-Ejô-ps1P, avoir-E-pi1S, avoir-y-ppFS, avoir-Orô-fi1P, avoir-Ora-fi2S, avoir-y-ai3S, avoir-avje-ii2P, \n",
      "1 42\n",
      "aller-alEr-ai3P, aller-alE-ai1S, aller-alE-ii2S, aller-ale-inf, aller-ala-ai3S, aller-ira-fi2S, aller-ire-fi2P, aller-irô-fi1P, aller-irô-fi3P, aller-alô-pi1P, aller-ale-ppFP, aller-ale-ppFS, aller-vE-pi1S, aller-alâ-pP, aller-alam-ai1P, aller-ira-fi3S, aller-irE-pc2S, aller-irE-fi1S, aller-irjô-pc1P, aller-alje-ii2P, aller-aj-ps2S, aller-ala-is3S, aller-va-pI2S, aller-alE-ii3P, aller-alE-ii3S, aller-aljô-ii1P, aller-irE-pc1S, aller-ale-pi2P, aller-irE-pc3S, aller-ale-pI2P, aller-irE-pc3P, aller-ale-ppMP, aller-ale-ppMS, aller-vô-pi3P, aller-aj-ps1S, aller-aj-ps3S, aller-aj-ps3P, aller-alE-ii1S, aller-va-pi3S, aller-irje-pc2P, aller-va-pi2S, aller-alô-pI1P, \n",
      "2 39\n",
      "manger-mâZ6rE-pc1S, manger-mâZ6rE-pc2S, manger-mâZ6rE-fi1S, manger-mâZ6ra-fi2S, manger-mâZ6rE-pc3S, manger-mâZE-ii1S, manger-mâZe-pi2P, manger-mâZE-ii3P, manger-mâZE-ii3S, manger-mâZjô-ii1P, manger-mâZ-pi1S, manger-mâZe-ppFP, manger-mâZe-pI2P, manger-mâZe-ppFS, manger-mâZ6ra-fi3S, manger-mâZ-pI2S, manger-mâZô-pi1P, manger-mâZâ-pP, manger-mâZe-inf, manger-mâZ-pi3S, manger-mâZ-pi3P, manger-mâZ-pi2S, manger-mâZje-ii2P, manger-mâZa-ai3S, manger-mâZe-ppMS, manger-mâZe-ppMP, manger-mâZ6rE-pc3P, manger-mâZ6rô-fi1P, manger-mâZ-ps2S, manger-mâZEr-ai3P, manger-mâZô-pI1P, manger-mâZ-ps3S, manger-mâZE-ai1S, manger-mâZE-ii2S, manger-mâZam-ai1P, manger-mâZ6rô-fi3P, manger-mâZ-ps3P, manger-mâZ6re-fi2P, manger-mâZ-ps1S, \n",
      "3 39\n",
      "manger-mâZ6rE-pc1S, manger-mâZ6rE-pc2S, manger-mâZ6rE-fi1S, manger-mâZ6ra-fi2S, manger-mâZ6rE-pc3S, manger-mâZE-ii1S, manger-mâZe-pi2P, manger-mâZE-ii3P, manger-mâZE-ii3S, manger-mâZjô-ii1P, manger-mâZ-pi1S, manger-mâZe-ppFP, manger-mâZe-pI2P, manger-mâZe-ppFS, manger-mâZ6ra-fi3S, manger-mâZ-pI2S, manger-mâZô-pi1P, manger-mâZâ-pP, manger-mâZe-inf, manger-mâZ-pi3S, manger-mâZ-pi3P, manger-mâZ-pi2S, manger-mâZje-ii2P, manger-mâZa-ai3S, manger-mâZe-ppMS, manger-mâZe-ppMP, manger-mâZ6rE-pc3P, manger-mâZ6rô-fi1P, manger-mâZ-ps2S, manger-mâZEr-ai3P, manger-mâZô-pI1P, manger-mâZ-ps3S, manger-mâZE-ai1S, manger-mâZE-ii2S, manger-mâZam-ai1P, manger-mâZ6rô-fi3P, manger-mâZ-ps3P, manger-mâZ6re-fi2P, manger-mâZ6rje-pc2P, \n",
      "4 36\n",
      "manger-mâZ6rE-pc1S, manger-mâZ6rE-pc2S, manger-mâZ6rE-fi1S, manger-mâZ6ra-fi2S, manger-mâZ6rE-pc3S, manger-mâZE-ii1S, manger-mâZe-pi2P, manger-mâZE-ii3P, manger-mâZE-ii3S, manger-mâZjô-ii1P, manger-mâZ-pi1S, manger-mâZe-ppFP, manger-mâZe-pI2P, manger-mâZe-ppFS, manger-mâZ6ra-fi3S, manger-mâZ-pI2S, manger-mâZô-pi1P, manger-mâZâ-pP, manger-mâZe-inf, manger-mâZ-pi3S, manger-mâZ-pi3P, manger-mâZ-pi2S, manger-mâZje-ii2P, manger-mâZa-ai3S, manger-mâZe-ppMS, manger-mâZe-ppMP, manger-mâZ6rE-pc3P, manger-mâZ6rô-fi1P, manger-mâZ-ps2S, manger-mâZEr-ai3P, manger-mâZô-pI1P, manger-mâZ-ps3S, manger-mâZE-ai1S, manger-mâZE-ii2S, manger-mâZam-ai1P, manger-mâZa-is3S, \n",
      "5 34\n",
      "boire-bwara-fi3S, boire-bwa-pi3S, boire-bwa-pi1S, boire-bwa-pi2S, boire-bwa-pI2S, boire-bwara-fi2S, boire-bwarE-fi1S, boire-bwarE-pc1S, boire-bwarE-pc3S, boire-bwarô-fi1P, boire-bwarE-pc3P, boire-bwar-inf, boire-bwarô-fi3P, boire-bwarE-pc2S, boire-bwav-pi3P, boire-byvâ-pP, boire-byvE-ii2S, boire-byve-pi2P, boire-byvjô-ii1P, boire-byvE-ii1S, boire-by-ai3S, boire-bware-fi2P, boire-byve-pI2P, boire-bwav-ps1S, boire-byvE-ii3S, boire-bwav-ps3S, boire-byvô-pi1P, boire-byvô-pI1P, boire-byvE-ii3P, boire-by-ppMP, boire-by-ai2S, boire-by-ppMS, boire-by-ai1S, boire-byr-ai3P, \n",
      "6 34\n",
      "manger-mâZ6rE-pc1S, manger-mâZ6rE-pc2S, manger-mâZ6rE-fi1S, manger-mâZ6ra-fi2S, manger-mâZ6rE-pc3S, manger-mâZE-ii1S, manger-mâZe-pi2P, manger-mâZE-ii3P, manger-mâZE-ii3S, manger-mâZjô-ii1P, manger-mâZ-pi1S, manger-mâZe-ppFP, manger-mâZe-pI2P, manger-mâZe-ppFS, manger-mâZ6ra-fi3S, manger-mâZ-pI2S, manger-mâZô-pi1P, manger-mâZâ-pP, manger-mâZe-inf, manger-mâZ-pi3S, manger-mâZ-pi3P, manger-mâZ-pi2S, manger-mâZje-ii2P, manger-mâZa-ai3S, manger-mâZe-ppMS, manger-mâZje-ps2P, manger-mâZ-ps2S, manger-mâZ-ps1S, manger-mâZ6rô-fi3P, manger-mâZ-ps3P, manger-mâZE-ai1S, manger-mâZ-ps3S, manger-mâZE-ii2S, manger-mâZô-pI1P, \n",
      "7 33\n",
      "dormir-dOrm6rjô-pc1P, dormir-dOrme-ppFS, dormir-dOrme-ppFP, dormir-dOrm6rje-pc2P, dormir-dOrma-is3S, dormir-dOrmE-ai1S, dormir-dOrme-ppMS, dormir-dOrmEr-ai3P, dormir-dOrme-ppMP, dormir-dOrme-inf, dormir-dOrma-ai3S, dormir-dOrm6rE-pc3P, dormir-dOrm6ra-fi3S, dormir-dOrm6rô-fi3P, dormir-dOrm6re-fi2P, dormir-dOrm6rE-pc2S, dormir-dOrm6rE-fi1S, dormir-dOrm6rE-pc3S, dormir-dOrm6rô-fi1P, dormir-dOrm-pi3P, dormir-dOrmô-pI1P, dormir-dOrmô-pi1P, dormir-dOrmE-ii3P, dormir-dOrmE-ii3S, dormir-dOrmE-ii2S, dormir-dOrme-pi2P, dormir-dOrmE-ii1S, dormir-dOrme-pI2P, dormir-dOrmâ-pP, dormir-dOrm-ps3P, dormir-dOrm-ps3S, dormir-dOrmje-ii2P, dormir-dOrm-ps2S, \n",
      "8 33\n",
      "dormir-dOrm6rjô-pc1P, dormir-dOrme-ppFS, dormir-dOrme-ppFP, dormir-dOrm6rje-pc2P, dormir-dOrma-is3S, dormir-dOrmE-ai1S, dormir-dOrme-ppMS, dormir-dOrmEr-ai3P, dormir-dOrme-ppMP, dormir-dOrme-inf, dormir-dOrma-ai3S, dormir-dOrm6rE-pc3P, dormir-dOrm6ra-fi3S, dormir-dOrm6rô-fi3P, dormir-dOrm6re-fi2P, dormir-dOrm6rE-pc2S, dormir-dOrm6rE-fi1S, dormir-dOrm6rE-pc3S, dormir-dOrm6rô-fi1P, dormir-dOrm-pi3P, dormir-dOrmô-pI1P, dormir-dOrmô-pi1P, dormir-dOrmE-ii3P, dormir-dOrmE-ii3S, dormir-dOrmE-ii2S, dormir-dOrme-pi2P, dormir-dOrmE-ii1S, dormir-dOrme-pI2P, dormir-dOrmâ-pP, dormir-dOrm-ps3P, dormir-dOrm-ps3S, dormir-dOrm6rE-pc1S, dormir-dOrm6ra-fi2S, \n",
      "9 33\n",
      "dormir-dOrm6rjô-pc1P, dormir-dOrme-ppFS, dormir-dOrme-ppFP, dormir-dOrm6rje-pc2P, dormir-dOrma-is3S, dormir-dOrmE-ai1S, dormir-dOrme-ppMS, dormir-dOrmEr-ai3P, dormir-dOrme-ppMP, dormir-dOrme-inf, dormir-dOrma-ai3S, dormir-dOrm6rE-pc3P, dormir-dOrm6ra-fi3S, dormir-dOrm6rô-fi3P, dormir-dOrm6re-fi2P, dormir-dOrm6rE-pc2S, dormir-dOrm6rE-fi1S, dormir-dOrm6rE-pc3S, dormir-dOrmje-ps2P, dormir-dOrm-pi3P, dormir-dOrmô-pI1P, dormir-dOrmô-pi1P, dormir-dOrmE-ii3P, dormir-dOrmE-ii3S, dormir-dOrmE-ii2S, dormir-dOrme-pi2P, dormir-dOrmE-ii1S, dormir-dOrme-pI2P, dormir-dOrmâ-pP, dormir-dOrm-ps3P, dormir-dOrm-ps3S, dormir-dOrmje-ii2P, dormir-dOrm-ps2S, \n",
      "10 33\n",
      "dormir-dOrm6rjô-pc1P, dormir-dOrme-ppFS, dormir-dOrme-ppFP, dormir-dOrm6rje-pc2P, dormir-dOrma-is3S, dormir-dOrmE-ai1S, dormir-dOrme-ppMS, dormir-dOrmEr-ai3P, dormir-dOrme-ppMP, dormir-dOrme-inf, dormir-dOrma-ai3S, dormir-dOrm6rE-pc3P, dormir-dOrm6ra-fi3S, dormir-dOrm6rô-fi3P, dormir-dOrm6re-fi2P, dormir-dOrm6rE-pc2S, dormir-dOrm6rE-fi1S, dormir-dOrm6rE-pc3S, dormir-dOrmje-ps2P, dormir-dOrm-pi3P, dormir-dOrmô-pI1P, dormir-dOrmô-pi1P, dormir-dOrmE-ii3P, dormir-dOrmE-ii3S, dormir-dOrmE-ii2S, dormir-dOrme-pi2P, dormir-dOrmE-ii1S, dormir-dOrme-pI2P, dormir-dOrmâ-pP, dormir-dOrm-ps3P, dormir-dOrm-ps3S, dormir-dOrm6rE-pc1S, dormir-dOrm6ra-fi2S, \n",
      "11 32\n",
      "manger-mâZ6rE-pc1S, manger-mâZ6rE-pc2S, manger-mâZ6rE-fi1S, manger-mâZ6ra-fi2S, manger-mâZ6rE-pc3S, manger-mâZE-ii1S, manger-mâZe-pi2P, manger-mâZE-ii3P, manger-mâZE-ii3S, manger-mâZjô-ii1P, manger-mâZ-pi1S, manger-mâZe-ppFP, manger-mâZe-pI2P, manger-mâZe-ppFS, manger-mâZ6ra-fi3S, manger-mâZ-pI2S, manger-mâZô-pi1P, manger-mâZâ-pP, manger-mâZe-inf, manger-mâZ-pi3S, manger-mâZ-pi3P, manger-mâZ-pi2S, manger-mâZje-ii2P, manger-mâZa-ai3S, manger-mâZe-ppMS, manger-mâZe-ppMP, manger-mâZ6rE-pc3P, manger-mâZ6rô-fi1P, manger-mâZ6rjô-pc1P, manger-mâZ6rje-pc2P, manger-mâZ6rô-fi3P, manger-mâZ6re-fi2P, \n",
      "12 32\n",
      "manger-mâZe-inf, manger-mâZ6rE-pc3S, manger-mâZE-ii1S, manger-mâZ6ra-fi3S, manger-mâZe-pi2P, manger-mâZE-ii3P, manger-mâZE-ii3S, manger-mâZjô-ii1P, manger-mâZ-pi1S, manger-mâZe-pI2P, manger-mâZ-pI2S, manger-mâZ6rE-pc2S, manger-mâZô-pi1P, manger-mâZ6ra-fi2S, manger-mâZâ-pP, manger-mâZ-pi3S, manger-mâZ-pi3P, manger-mâZ-pi2S, manger-mâZe-ppMS, manger-mâZje-ii2P, manger-mâZa-ai3S, manger-mâZ6rE-fi1S, manger-mâZas-is3P, manger-mâZe-ppMP, manger-mâZ6rE-pc3P, manger-mâZô-pI1P, manger-mâZ-ps2S, manger-mâZ-ps3S, manger-mâZE-ii2S, manger-mâZam-ai1P, manger-mâZ6re-fi2P, manger-mâZ6rô-fi3P, \n",
      "13 32\n",
      "dormir-dOr-pI2S, dormir-dOr-pi2S, dormir-dOr-pi3S, dormir-dOr-pi1S, dormir-dOrmô-pI1P, dormir-dOrmi-ai1S, dormir-dOrmira-fi2S, dormir-dOrmim-ai1P, dormir-dOrmi-is3S, dormir-dOrmje-ii2P, dormir-dOrmirE-fi1S, dormir-dOrmô-pi1P, dormir-dOrmi-ai2S, dormir-dOrm-pi3P, dormir-dOrmir-inf, dormir-dOrmE-ii3P, dormir-dOrmjô-ii1P, dormir-dOrmE-ii3S, dormir-dOrmE-ii2S, dormir-dOrmire-fi2P, dormir-dOrmE-ii1S, dormir-dOrmirE-pc2S, dormir-dOrme-pi2P, dormir-dOrmira-fi3S, dormir-dOrmirE-pc3S, dormir-dOrme-pI2P, dormir-dOrm-ps1S, dormir-dOrm-ps2S, dormir-dOrmâ-pP, dormir-dOrmirE-pc1S, dormir-dOrm-ps3P, dormir-dOrm-ps3S, \n",
      "14 31\n",
      "manger-mâZe-inf, manger-mâZ6rE-pc3S, manger-mâZE-ii1S, manger-mâZ6ra-fi3S, manger-mâZe-pi2P, manger-mâZE-ii3P, manger-mâZE-ii3S, manger-mâZjô-ii1P, manger-mâZ-pi1S, manger-mâZe-pI2P, manger-mâZ-pI2S, manger-mâZ6rE-pc2S, manger-mâZô-pi1P, manger-mâZ6ra-fi2S, manger-mâZâ-pP, manger-mâZ-pi3S, manger-mâZ-pi3P, manger-mâZ-pi2S, manger-mâZe-ppMS, manger-mâZje-ii2P, manger-mâZa-ai3S, manger-mâZ6rE-fi1S, manger-mâZas-is3P, manger-mâZe-ppMP, manger-mâZ6rE-pc3P, manger-mâZô-pI1P, manger-mâZ-ps2S, manger-mâZ-ps3S, manger-mâZE-ii2S, manger-mâZam-ai1P, manger-mâZa-is3S, \n",
      "15 30\n",
      "dormir-dOrm6rjô-pc1P, dormir-dOrme-ppFS, dormir-dOrme-ppFP, dormir-dOrm6rje-pc2P, dormir-dOrma-is3S, dormir-dOrmE-ai1S, dormir-dOrme-ppMS, dormir-dOrmEr-ai3P, dormir-dOrme-ppMP, dormir-dOrme-inf, dormir-dOrma-ai3S, dormir-dOrm6rE-pc3P, dormir-dOrm6ra-fi3S, dormir-dOrm6rô-fi3P, dormir-dOrmjô-ii1P, dormir-dOrmô-pI1P, dormir-dOrmô-pi1P, dormir-dOrmE-ii3P, dormir-dOrmE-ii3S, dormir-dOrmE-ii2S, dormir-dOrme-pi2P, dormir-dOrmE-ii1S, dormir-dOrme-pI2P, dormir-dOrmâ-pP, dormir-dOrm-pi3P, dormir-dOrm-ps3P, dormir-dOrm-ps3S, dormir-dOrm6rô-fi1P, dormir-dOrmje-ii2P, dormir-dOrm-ps2S, \n",
      "16 30\n",
      "dormir-dOrm6rjô-pc1P, dormir-dOrme-ppFS, dormir-dOrme-ppFP, dormir-dOrm6rje-pc2P, dormir-dOrma-is3S, dormir-dOrmE-ai1S, dormir-dOrme-ppMS, dormir-dOrmEr-ai3P, dormir-dOrme-ppMP, dormir-dOrme-inf, dormir-dOrma-ai3S, dormir-dOrm6rE-pc3P, dormir-dOrm6ra-fi3S, dormir-dOrm6rô-fi3P, dormir-dOrmjô-ii1P, dormir-dOrmô-pI1P, dormir-dOrmô-pi1P, dormir-dOrmE-ii3P, dormir-dOrmE-ii3S, dormir-dOrmE-ii2S, dormir-dOrme-pi2P, dormir-dOrmE-ii1S, dormir-dOrme-pI2P, dormir-dOrmâ-pP, dormir-dOrm-pi3P, dormir-dOrm-ps3P, dormir-dOrm-ps3S, dormir-dOrmje-ps2P, dormir-dOrmje-ii2P, dormir-dOrm-ps2S, \n",
      "17 30\n",
      "dormir-dOrme-ppMS, dormir-dOrme-ppFS, dormir-dOrma-is3S, dormir-dOrme-ppMP, dormir-dOrma-ai3S, dormir-dOrme-inf, dormir-dOrm6rE-pc3P, dormir-dOrme-ppFP, dormir-dOrmEr-ai3P, dormir-dOrmE-ai1S, dormir-dOrmam-ai1P, dormir-dOrm6rô-fi3P, dormir-dOrm6re-fi2P, dormir-dOrm6rE-pc2S, dormir-dOrm6rE-fi1S, dormir-dOrm6rE-pc3S, dormir-dOrm6rE-pc1S, dormir-dOrm6ra-fi2S, dormir-dOrm-pi3P, dormir-dOrmô-pI1P, dormir-dOrmô-pi1P, dormir-dOrmE-ii2S, dormir-dOrmE-ii3S, dormir-dOrmE-ii3P, dormir-dOrme-pi2P, dormir-dOrme-pI2P, dormir-dOrmâ-pP, dormir-dOrm-ps3P, dormir-dOrm-ps3S, dormir-dOrmE-ii1S, \n",
      "18 29\n",
      "dormir-dOrm6rjô-pc1P, dormir-dOrme-ppFS, dormir-dOrme-ppFP, dormir-dOrm6rje-pc2P, dormir-dOrma-is3S, dormir-dOrmE-ai1S, dormir-dOrme-ppMS, dormir-dOrmEr-ai3P, dormir-dOrme-ppMP, dormir-dOrme-inf, dormir-dOrma-ai3S, dormir-dOrm6rE-pc3P, dormir-dOrm6ra-fi3S, dormir-dOrm6rô-fi3P, dormir-dOrmjô-ii1P, dormir-dOrmô-pI1P, dormir-dOrmô-pi1P, dormir-dOrmE-ii3P, dormir-dOrmE-ii3S, dormir-dOrmE-ii2S, dormir-dOrme-pi2P, dormir-dOrmE-ii1S, dormir-dOrme-pI2P, dormir-dOrmâ-pP, dormir-dOrm-pi3P, dormir-dOrm-ps3P, dormir-dOrm-ps3S, dormir-dOrm6rô-fi1P, dormir-dOrm6rE-pc1S, \n",
      "19 29\n",
      "dormir-dOrm6rjô-pc1P, dormir-dOrme-ppFS, dormir-dOrme-ppFP, dormir-dOrm6rje-pc2P, dormir-dOrma-is3S, dormir-dOrmE-ai1S, dormir-dOrme-ppMS, dormir-dOrmEr-ai3P, dormir-dOrme-ppMP, dormir-dOrme-inf, dormir-dOrma-ai3S, dormir-dOrm6rE-pc3P, dormir-dOrm6ra-fi3S, dormir-dOrm6rô-fi3P, dormir-dOrmjô-ii1P, dormir-dOrmô-pI1P, dormir-dOrmô-pi1P, dormir-dOrmE-ii3P, dormir-dOrmE-ii3S, dormir-dOrmE-ii2S, dormir-dOrme-pi2P, dormir-dOrmE-ii1S, dormir-dOrme-pI2P, dormir-dOrmâ-pP, dormir-dOrm-pi3P, dormir-dOrm-ps3P, dormir-dOrm-ps3S, dormir-dOrmje-ps2P, dormir-dOrm6rE-pc1S, \n",
      "20 29\n",
      "dormir-dOrm6rjô-pc1P, dormir-dOrme-ppFS, dormir-dOrme-ppFP, dormir-dOrm6rje-pc2P, dormir-dOrma-is3S, dormir-dOrmE-ai1S, dormir-dOrme-ppMS, dormir-dOrmEr-ai3P, dormir-dOrme-ppMP, dormir-dOrme-inf, dormir-dOrma-ai3S, dormir-dOrm6rE-pc3P, dormir-dOrm-ps1S, dormir-dOrmô-pI1P, dormir-dOrmô-pi1P, dormir-dOrmE-ii3P, dormir-dOrmE-ii3S, dormir-dOrmje-ii2P, dormir-dOrmjô-ii1P, dormir-dOrmE-ii2S, dormir-dOrme-pi2P, dormir-dOrmE-ii1S, dormir-dOrme-pI2P, dormir-dOrm-ps2S, dormir-dOrmâ-pP, dormir-dOrm-pi3P, dormir-dOrm-ps3P, dormir-dOrm-ps3S, dormir-dOrm6rô-fi1P, \n",
      "21 29\n",
      "dormir-dOrm6rjô-pc1P, dormir-dOrme-ppFS, dormir-dOrme-ppFP, dormir-dOrm6rje-pc2P, dormir-dOrma-is3S, dormir-dOrmE-ai1S, dormir-dOrme-ppMS, dormir-dOrmEr-ai3P, dormir-dOrme-ppMP, dormir-dOrme-inf, dormir-dOrma-ai3S, dormir-dOrm6rE-pc3P, dormir-dOrm-ps1S, dormir-dOrmô-pI1P, dormir-dOrmô-pi1P, dormir-dOrmE-ii3P, dormir-dOrmE-ii3S, dormir-dOrmje-ii2P, dormir-dOrmjô-ii1P, dormir-dOrmE-ii2S, dormir-dOrme-pi2P, dormir-dOrmE-ii1S, dormir-dOrme-pI2P, dormir-dOrm-ps2S, dormir-dOrmâ-pP, dormir-dOrm-pi3P, dormir-dOrm-ps3P, dormir-dOrm-ps3S, dormir-dOrmje-ps2P, \n",
      "22 29\n",
      "dormir-dOrme-ppMS, dormir-dOrme-ppFS, dormir-dOrma-is3S, dormir-dOrme-ppMP, dormir-dOrma-ai3S, dormir-dOrme-inf, dormir-dOrm6rE-pc3P, dormir-dOrme-ppFP, dormir-dOrmEr-ai3P, dormir-dOrmE-ai1S, dormir-dOrmam-ai1P, dormir-dOrm6rô-fi3P, dormir-dOrm6re-fi2P, dormir-dOrm6rE-pc2S, dormir-dOrm6rE-fi1S, dormir-dOrm6rE-pc3S, dormir-dOrmje-ii2P, dormir-dOrm-pi3P, dormir-dOrmô-pI1P, dormir-dOrmô-pi1P, dormir-dOrmE-ii2S, dormir-dOrmE-ii3S, dormir-dOrmE-ii3P, dormir-dOrme-pi2P, dormir-dOrme-pI2P, dormir-dOrmâ-pP, dormir-dOrm-ps3P, dormir-dOrm-ps3S, dormir-dOrmE-ii1S, \n",
      "23 29\n",
      "dormir-dOrmEtrE-pc1S, dormir-dOrmi-ai1S, dormir-dOrmEtE-ii3S, dormir-dOrmi-is3S, dormir-dOrmEt-pi3P, dormir-dOrmEtr-inf, dormir-dOrmi-ai3S, dormir-dOrmEte-pI2P, dormir-dOrmEtâ-pP, dormir-dOrmiz-ppFS, dormir-dOrmEtra-fi3S, dormir-dOrmEte-pi2P, dormir-dOrmEt-ps3S, dormir-dOrmEtrE-pc2S, dormir-dOrmir-ai3P, dormir-dOrmEtrE-fi1S, dormir-dOrmEtra-fi2S, dormir-dOrmEtô-pI1P, dormir-dOrmEtô-pi1P, dormir-dOrmEtE-ii2S, dormir-dOrmEtE-ii3P, dormir-dOrmEt-ps2S, dormir-dOrmEtE-ii1S, dormir-dOrmEt-ps1S, dormir-dOrmEtrE-pc3S, dormir-dOrmEtre-fi2P, dormir-dOrmEtje-ii2P, dormir-dOrmEtrE-pc3P, dormir-dOrmEtrô-fi3P, \n",
      "24 28\n",
      "dormir-dOrme-ppMS, dormir-dOrme-ppFS, dormir-dOrma-is3S, dormir-dOrme-ppMP, dormir-dOrma-ai3S, dormir-dOrme-inf, dormir-dOrm6rE-pc3P, dormir-dOrmjô-ps1P, dormir-dOrmje-ps2P, dormir-dOrm6ra-fi3S, dormir-dOrm6rô-fi3P, dormir-dOrm6rE-pc2S, dormir-dOrm6rE-fi1S, dormir-dOrm6rE-pc3S, dormir-dOrm-pi3P, dormir-dOrmô-pI1P, dormir-dOrmô-pi1P, dormir-dOrmE-ii3P, dormir-dOrmE-ii3S, dormir-dOrmE-ii2S, dormir-dOrme-pI2P, dormir-dOrmE-ii1S, dormir-dOrm-ps3P, dormir-dOrme-pi2P, dormir-dOrmâ-pP, dormir-dOrm-ps3S, dormir-dOrmje-ii2P, dormir-dOrm-ps2S, \n",
      "25 28\n",
      "dormir-dOrme-ppMS, dormir-dOrme-ppFS, dormir-dOrma-is3S, dormir-dOrme-ppMP, dormir-dOrma-ai3S, dormir-dOrme-inf, dormir-dOrm6rE-pc3P, dormir-dOrmjô-ps1P, dormir-dOrmje-ps2P, dormir-dOrm6ra-fi3S, dormir-dOrm6rô-fi3P, dormir-dOrm6rE-pc2S, dormir-dOrm6rE-fi1S, dormir-dOrm6rE-pc3S, dormir-dOrm-pi3P, dormir-dOrmô-pI1P, dormir-dOrmô-pi1P, dormir-dOrmE-ii3P, dormir-dOrmE-ii3S, dormir-dOrmE-ii2S, dormir-dOrme-pI2P, dormir-dOrmE-ii1S, dormir-dOrm-ps3P, dormir-dOrme-pi2P, dormir-dOrmâ-pP, dormir-dOrm-ps3S, dormir-dOrm6rE-pc1S, dormir-dOrm6ra-fi2S, \n",
      "26 28\n",
      "dormir-dOrmEtrE-pc1S, dormir-dOrmi-ai1S, dormir-dOrmEtE-ii3S, dormir-dOrmi-is3S, dormir-dOrmEt-pi3P, dormir-dOrmEtr-inf, dormir-dOrmi-ai3S, dormir-dOrmEte-pI2P, dormir-dOrmEtâ-pP, dormir-dOrmiz-ppFS, dormir-dOrmEtra-fi3S, dormir-dOrmEte-pi2P, dormir-dOrmEt-ps3S, dormir-dOrmEtrE-pc2S, dormir-dOrmir-ai3P, dormir-dOrmEtrE-fi1S, dormir-dOrmEtra-fi2S, dormir-dOrmEtô-pI1P, dormir-dOrmEtô-pi1P, dormir-dOrmEtE-ii2S, dormir-dOrmEtE-ii3P, dormir-dOrmEt-ps2S, dormir-dOrmEtE-ii1S, dormir-dOrmEt-ps1S, dormir-dOrmEtrE-pc3S, dormir-dOrmEtre-fi2P, dormir-dOrmEtje-ii2P, dormir-dOrmiz-ppFP, \n",
      "27 26\n",
      "dormir-dOrme-ppMS, dormir-dOrme-ppFS, dormir-dOrma-is3S, dormir-dOrme-ppMP, dormir-dOrma-ai3S, dormir-dOrme-inf, dormir-dOrm6rE-pc3P, dormir-dOrme-ppFP, dormir-dOrmEr-ai3P, dormir-dOrmE-ai1S, dormir-dOrmam-ai1P, dormir-dOrm6rô-fi3P, dormir-dOrmjô-ii1P, dormir-dOrmô-pI1P, dormir-dOrmô-pi1P, dormir-dOrmE-ii3S, dormir-dOrmE-ii3P, dormir-dOrmE-ii2S, dormir-dOrme-pI2P, dormir-dOrmE-ii1S, dormir-dOrme-pi2P, dormir-dOrmâ-pP, dormir-dOrm-pi3P, dormir-dOrm-ps3P, dormir-dOrm-ps3S, dormir-dOrmje-ii2P, \n",
      "28 26\n",
      "dormir-dOrme-ppMS, dormir-dOrme-ppFS, dormir-dOrma-is3S, dormir-dOrme-ppMP, dormir-dOrma-ai3S, dormir-dOrme-inf, dormir-dOrm6rE-pc3P, dormir-dOrme-ppFP, dormir-dOrmEr-ai3P, dormir-dOrmE-ai1S, dormir-dOrmam-ai1P, dormir-dOrm6rô-fi3P, dormir-dOrmjô-ii1P, dormir-dOrmô-pI1P, dormir-dOrmô-pi1P, dormir-dOrmE-ii3S, dormir-dOrmE-ii3P, dormir-dOrmE-ii2S, dormir-dOrme-pI2P, dormir-dOrmE-ii1S, dormir-dOrme-pi2P, dormir-dOrmâ-pP, dormir-dOrm-pi3P, dormir-dOrm-ps3P, dormir-dOrm-ps3S, dormir-dOrm6rE-pc1S, \n",
      "29 26\n",
      "dormir-dOrme-ppMS, dormir-dOrme-ppFS, dormir-dOrma-is3S, dormir-dOrme-ppMP, dormir-dOrma-ai3S, dormir-dOrme-inf, dormir-dOrm6rE-pc3P, dormir-dOrme-ppFP, dormir-dOrmEr-ai3P, dormir-dOrmE-ai1S, dormir-dOrmam-ai1P, dormir-dOrm-ps1S, dormir-dOrmô-pI1P, dormir-dOrmô-pi1P, dormir-dOrmE-ii3P, dormir-dOrmE-ii2S, dormir-dOrmE-ii3S, dormir-dOrmjô-ii1P, dormir-dOrme-pi2P, dormir-dOrmE-ii1S, dormir-dOrmje-ii2P, dormir-dOrme-pI2P, dormir-dOrmâ-pP, dormir-dOrm-pi3P, dormir-dOrm-ps3P, dormir-dOrm-ps3S, \n",
      "30 26\n",
      "dormir-dOrme-ppMS, dormir-dOrme-ppFS, dormir-dOrma-is3S, dormir-dOrme-ppMP, dormir-dOrma-ai3S, dormir-dOrme-inf, dormir-dOrm6rE-pc3P, dormir-dOrmjô-ps1P, dormir-dOrmje-ps2P, dormir-dOrm6ra-fi3S, dormir-dOrm6rô-fi3P, dormir-dOrmjô-ii1P, dormir-dOrmô-pI1P, dormir-dOrmô-pi1P, dormir-dOrmE-ii3P, dormir-dOrmE-ii3S, dormir-dOrmE-ii2S, dormir-dOrme-pI2P, dormir-dOrmE-ii1S, dormir-dOrme-pi2P, dormir-dOrmâ-pP, dormir-dOrm-pi3P, dormir-dOrm-ps3P, dormir-dOrm-ps3S, dormir-dOrmje-ii2P, dormir-dOrm-ps2S, \n"
     ]
    }
   ],
   "source": [
    "seuilClique=25\n",
    "for n,clique in enumerate(sorted(cliques,key=lambda x: len(x),reverse=True)):\n",
    "    if len(clique)>seuilClique:\n",
    "        print (n, len(clique))\n",
    "        for element in clique:\n",
    "            print (element,end=', ')\n",
    "        print ()"
   ]
  },
  {
   "cell_type": "code",
   "execution_count": null,
   "metadata": {
    "collapsed": true
   },
   "outputs": [],
   "source": []
  }
 ],
 "metadata": {
  "kernelspec": {
   "display_name": "Python 2",
   "language": "python",
   "name": "python2"
  },
  "language_info": {
   "codemirror_mode": {
    "name": "ipython",
    "version": 2
   },
   "file_extension": ".py",
   "mimetype": "text/x-python",
   "name": "python",
   "nbconvert_exporter": "python",
   "pygments_lexer": "ipython2",
   "version": "2.7.10"
  }
 },
 "nbformat": 4,
 "nbformat_minor": 0
}
