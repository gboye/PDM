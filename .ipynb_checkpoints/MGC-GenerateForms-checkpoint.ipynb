{
 "cells": [
  {
   "cell_type": "markdown",
   "metadata": {},
   "source": [
    "##Importations\n",
    "- codecs pour les encodages\n",
    "- pandas et numpy pour les calculs sur tableaux\n",
    "- matplotlib pour les graphiques\n",
    "- itertools pour les itérateurs sophistiqués (paires sur liste, ...)"
   ]
  },
  {
   "cell_type": "code",
   "execution_count": 162,
   "metadata": {
    "collapsed": false
   },
   "outputs": [],
   "source": [
    "# -*- coding: utf8 -*-\n",
    "import codecs\n",
    "import features\n",
    "import re\n",
    "import pandas as pd\n",
    "import numpy as np\n",
    "import matplotlib.pyplot as plt\n",
    "import itertools as it\n",
    "import pickle\n",
    "import networkx as nx\n",
    "#%pylab inline\n",
    "#pd.options.display.mpl_style = 'default'\n",
    "debug=False\n",
    "from __future__ import print_function"
   ]
  },
  {
   "cell_type": "markdown",
   "metadata": {},
   "source": [
    "###Préparation des matrices de traits"
   ]
  },
  {
   "cell_type": "code",
   "execution_count": 163,
   "metadata": {
    "collapsed": true
   },
   "outputs": [],
   "source": [
    "features.add_config('bdlexique.ini')\n",
    "fs=features.FeatureSystem('phonemes')"
   ]
  },
  {
   "cell_type": "code",
   "execution_count": 164,
   "metadata": {
    "collapsed": false
   },
   "outputs": [],
   "source": [
    "paradigmPrefix=\"MGC-150812-3000-1508140124-paradigmes\"\n",
    "paradigmFile=paradigmPrefix+\".csv\"\n",
    "analysisPrefix=\"MGC-150805-total\"\n",
    "logfile_name=analysisPrefix+paradigmPrefix+\".log\"\n",
    "logfile = codecs.open(logfile_name,mode='w',encoding=\"utf8\")"
   ]
  },
  {
   "cell_type": "markdown",
   "metadata": {},
   "source": [
    "###Préparation des cases du paradigme"
   ]
  },
  {
   "cell_type": "code",
   "execution_count": 165,
   "metadata": {
    "collapsed": true
   },
   "outputs": [],
   "source": [
    "casesPrincipales= [\n",
    "        'inf', 'pi1S', 'pi2S', 'pi3S', 'pi1P', 'pi2P', 'pi3P', 'ii1S',\n",
    "        'ii2S', 'ii3S', 'ii1P', 'ii2P', 'ii3P', \n",
    "        'fi1S', 'fi2S', 'fi3S', 'fi1P', 'fi2P',\n",
    "        'fi3P', 'pI2S', 'pI1P', 'pI2P', 'ps1S', 'ps2S', 'ps3S', 'ps1P',\n",
    "        'ps2P', 'ps3P', \n",
    "        'pc1S', 'pc2S', 'pc3S', 'pc1P', 'pc2P', 'pc3P', 'pP',\n",
    "        'ppMS', 'ppMP', 'ppFS', 'ppFP'\n",
    "            ]\n",
    "casesSecondaires= [\n",
    "       'ai1S', 'ai2S', 'ai3S', 'ai1P', 'ai2P', 'ai3P', 'is1S', 'is2S', 'is3S', 'is1P', 'is2P', 'is3P'\n",
    "            ]\n",
    "casesTotales=casesPrincipales+casesSecondaires"
   ]
  },
  {
   "cell_type": "markdown",
   "metadata": {},
   "source": [
    "#Préparation du calcul des analogies"
   ]
  },
  {
   "cell_type": "markdown",
   "metadata": {},
   "source": [
    "###Calcul de la différence entre deux formes"
   ]
  },
  {
   "cell_type": "code",
   "execution_count": 166,
   "metadata": {
    "collapsed": true
   },
   "outputs": [],
   "source": [
    "def diff(mot1,mot2):\n",
    "    result=[]\n",
    "    diff1=\"\"\n",
    "    diff2=\"\"\n",
    "    same=\"\"\n",
    "    vide=\".\"\n",
    "    lmax=max(len(mot1),len(mot2))\n",
    "    lmin=min(len(mot1),len(mot2))\n",
    "    for index in range(lmax):\n",
    "        if index < lmin:\n",
    "            if mot1[index]!=mot2[index]:\n",
    "                diff1+=mot1[index]\n",
    "                diff2+=mot2[index]\n",
    "                same+=vide\n",
    "            else:\n",
    "                same+=mot1[index]\n",
    "                diff1+=vide\n",
    "                diff2+=vide\n",
    "        elif index < len(mot1):\n",
    "            diff1+=mot1[index]\n",
    "        elif index < len(mot2):\n",
    "            diff2+=mot2[index]\n",
    "    diff1=diff1.lstrip(\".\")\n",
    "    diff2=diff2.lstrip(\".\")\n",
    "#    return (same,diff1,diff2,diff1+\"_\"+diff2)\n",
    "    return (diff1+\"-\"+diff2)"
   ]
  },
  {
   "cell_type": "markdown",
   "metadata": {},
   "source": [
    "###Accumulation des paires appartenant à un patron"
   ]
  },
  {
   "cell_type": "code",
   "execution_count": 167,
   "metadata": {
    "collapsed": false
   },
   "outputs": [],
   "source": [
    "def rowDiff(row, patrons):\n",
    "    result=diff(row[0],row[1])\n",
    "    if not result in patrons:\n",
    "        patrons[result]=(formesPatron(),formesPatron())\n",
    "    patrons[result][0].ajouterFormes(row[0])\n",
    "    patrons[result][1].ajouterFormes(row[1])\n",
    "    return (result[0],result[1])"
   ]
  },
  {
   "cell_type": "markdown",
   "metadata": {},
   "source": [
    "###Transformation d'un patron en RegExp"
   ]
  },
  {
   "cell_type": "code",
   "execution_count": 168,
   "metadata": {
    "collapsed": false
   },
   "outputs": [],
   "source": [
    "def patron2regexp(morceaux):\n",
    "    result=\"^\"\n",
    "    for morceau in morceaux:\n",
    "        if morceau==\"*\":\n",
    "            result+=\"(.*)\"\n",
    "        elif len(morceau)>1:\n",
    "            result+=\"([\"+morceau+\"])\"\n",
    "        else:\n",
    "            result+=morceau\n",
    "    result+=\"$\"\n",
    "    result=result.replace(\")(\",\"\")\n",
    "    return result"
   ]
  },
  {
   "cell_type": "markdown",
   "metadata": {},
   "source": [
    "###Substitution de sortie \n",
    "???"
   ]
  },
  {
   "cell_type": "code",
   "execution_count": 169,
   "metadata": {
    "collapsed": false
   },
   "outputs": [],
   "source": [
    "def remplacementSortie(sortie):\n",
    "    n=1\n",
    "    nsortie=\"\"\n",
    "    for lettre in sortie:\n",
    "        if lettre==\".\":\n",
    "            nsortie+=\"\\g<%d>\"%n\n",
    "            n+=1\n",
    "        else:\n",
    "            nsortie+=lettre\n",
    "    return nsortie"
   ]
  },
  {
   "cell_type": "code",
   "execution_count": 170,
   "metadata": {
    "collapsed": false
   },
   "outputs": [],
   "source": [
    "class formesPatron:\n",
    "    '''\n",
    "    Accumulateur de formes correspondant à un patron pour calcul de la Généralisation Minimale (cf. MGL)\n",
    "    '''\n",
    "    def __init__(self):\n",
    "        self.formes=[]\n",
    "\n",
    "#    def __repr__(self):\n",
    "#        return ','.join(self.calculerGM())\n",
    "        \n",
    "    def ajouterForme(self,forme):\n",
    "        self.formes.append(forme)\n",
    "        \n",
    "    def calculerGM(self):\n",
    "        minLongueur=len(min(self.formes, key=len))\n",
    "        maxLongueur=len(max(self.formes, key=len))\n",
    "        if debug: print (minLongueur, maxLongueur, file=logfile)\n",
    "        positions=[]\n",
    "        if maxLongueur>minLongueur:\n",
    "            positions.append(\"*\")\n",
    "        for i in xrange(minLongueur, 0, -1):\n",
    "            phonemes=set([x[-i] for x in self.formes])\n",
    "            if debug: print (phonemes, file=logfile)\n",
    "            if \".\" in phonemes:\n",
    "                positions.append(\".\")\n",
    "            else:\n",
    "                positions.append(\"\".join(fs.lattice[phonemes].extent))\n",
    "        return patron2regexp(positions)\n",
    "\n",
    "class pairePatrons:\n",
    "    '''\n",
    "    Accumulateur de triplets (f1,f2,patron) correspondant à une paire pour calcul des Généralisations Minimales (cf. MGL)\n",
    "    '''\n",
    "    def __init__(self,case1,case2):\n",
    "        self.patrons1={}\n",
    "        self.patrons2={}\n",
    "        self.case1=case1\n",
    "        self.case2=case2\n",
    "\n",
    "#    def __repr__(self):\n",
    "#        return ','.join(self.calculerGM())\n",
    "        \n",
    "    def ajouterFormes(self,forme1,forme2,patron):\n",
    "#        print (forme1,forme2,patron, file=logfile)\n",
    "        patron12=patron\n",
    "        (pat1,pat2)=patron.split(\"-\")\n",
    "        patron21=pat2+\"-\"+pat1\n",
    "#        print (patron12,patron21, file=logfile)\n",
    "        if not patron12 in self.patrons1:\n",
    "            self.patrons1[patron12]=formesPatron()\n",
    "        self.patrons1[patron12].ajouterForme(forme1)\n",
    "        if not patron21 in self.patrons2:\n",
    "            self.patrons2[patron21]=formesPatron()\n",
    "        self.patrons2[patron21].ajouterForme(forme2)\n",
    "        \n",
    "        \n",
    "    def calculerGM(self):\n",
    "        resultat1={}\n",
    "        for patron in self.patrons1:\n",
    "            if debug: print (\"patron1\", patron, file=logfile)\n",
    "            resultat1[patron]=self.patrons1[patron].calculerGM()\n",
    "        resultat2={}\n",
    "        for patron in self.patrons2:\n",
    "            if debug: print (\"patron2\", patron, file=logfile)\n",
    "            resultat2[patron]=self.patrons2[patron].calculerGM()\n",
    "        return (resultat1,resultat2) "
   ]
  },
  {
   "cell_type": "markdown",
   "metadata": {},
   "source": [
    "#Classe pour la gestion des patrons, des classes et des transformations"
   ]
  },
  {
   "cell_type": "code",
   "execution_count": 171,
   "metadata": {
    "collapsed": false
   },
   "outputs": [],
   "source": [
    "class paireClasses:\n",
    "    def __init__(self,case1,case2):\n",
    "        self.case1=case1\n",
    "        self.case2=case2\n",
    "        self.nom=case1+\"-\"+case2\n",
    "        self.classes1=classesPaire(case1,case2)\n",
    "        self.classes2=classesPaire(case2,case1)\n",
    "\n",
    "    def ajouterPatron(self,n,patron,motif):\n",
    "        if n==1:\n",
    "            self.classes1.ajouterPatron(patron,motif)\n",
    "        elif n==2:\n",
    "            self.classes2.ajouterPatron(patron,motif)\n",
    "        else:\n",
    "            print (\"le numéro de forme n'est pas dans [1,2]\",n,file=logfile)\n",
    "\n",
    "    def ajouterPaire(self,forme1,forme2):\n",
    "        self.classes1.ajouterPaire(forme1,forme2)\n",
    "        self.classes2.ajouterPaire(forme2,forme1)\n",
    "        \n",
    "    def calculerClasses(self):\n",
    "        return(self.classes1,self.classes2)\n",
    "\n",
    "    \n",
    "class classesPaire:\n",
    "    '''\n",
    "    Gestion des patrons, des classes et des transformations\n",
    "    \n",
    "    ajouterPatron : ajoute un patron et son motif associé (MGL)\n",
    "    ajouterPaire : ajoute une paire de formes, calcule la classe de la forme1 et la règle sélectionnée\n",
    "    sortirForme : cacule les formes de sortie correspondant à la forme1 avec leurs coefficients respectifs\n",
    "    '''\n",
    "    def __init__(self,case1,case2):\n",
    "        self.case1=case1\n",
    "        self.case2=case2\n",
    "        self.nom=case1+\"-\"+case2\n",
    "        self.classe={}\n",
    "        self.nbClasse={}\n",
    "        self.patrons={}\n",
    "        self.entree={}\n",
    "        self.sortie={}\n",
    "    \n",
    "    def ajouterPatron(self,patron,motif):\n",
    "        self.patrons[patron]=motif\n",
    "        (entree,sortie)=patron.split(\"-\")\n",
    "        self.entree[patron]=entree.replace(u\".\",u\"(.)\")\n",
    "        self.sortie[patron]=remplacementSortie(sortie)\n",
    "    \n",
    "    def ajouterPaire(self,forme1,forme2):\n",
    "        '''\n",
    "        on calcule la classe de la paire idClasseForme et la règle sélectionnée\n",
    "        on incrémente le compteur de la classe et celui de la règle sélectionnée à l'intérieur de la classe\n",
    "        '''\n",
    "        classeForme=[]\n",
    "        regleForme=\"\"\n",
    "        for patron in self.patrons:\n",
    "            if re.match(self.patrons[patron],forme1):\n",
    "                classeForme.append(patron)\n",
    "                '''\n",
    "                le +\"$\" permet de forcer l'alignement à droite pour les transformations suffixales\n",
    "                '''\n",
    "                if forme2==re.sub(self.entree[patron]+\"$\",self.sortie[patron],forme1):\n",
    "                    regleForme=patron\n",
    "        idClasseForme=\", \".join(classeForme)\n",
    "        if not idClasseForme in self.classe:\n",
    "            self.classe[idClasseForme]={}\n",
    "            self.nbClasse[idClasseForme]=0\n",
    "        if not regleForme in self.classe[idClasseForme]:\n",
    "            self.classe[idClasseForme][regleForme]=0\n",
    "        self.nbClasse[idClasseForme]+=1\n",
    "        self.classe[idClasseForme][regleForme]+=1\n",
    "\n",
    "    def sortirForme(self,forme):\n",
    "        classeForme=[]\n",
    "        sortieForme={}\n",
    "        for patron in self.patrons:\n",
    "            if re.match(self.patrons[patron],forme):\n",
    "                classeForme.append(patron)\n",
    "        if classeForme:\n",
    "            idClasseForme=\", \".join(classeForme)\n",
    "            if idClasseForme in self.nbClasse:\n",
    "                nTotal=self.nbClasse[idClasseForme]\n",
    "                for patron in self.classe[idClasseForme]:\n",
    "                    sortie=re.sub(self.entree[patron]+\"$\",self.sortie[patron],forme)\n",
    "                    sortieForme[sortie]=float(self.classe[idClasseForme][patron])/nTotal\n",
    "            else:\n",
    "                if debug:\n",
    "                    print (forme, file=logfile)\n",
    "                    print (\"pas de classe\",idClasseForme, file=logfile)\n",
    "                    print (\"%.2f par forme de sortie\" % (float(1)/len(classeForme)), file=logfile)\n",
    "                nTotal=len(classeForme)\n",
    "                for patron in classeForme:\n",
    "                    sortie=re.sub(self.entree[patron]+\"$\",self.sortie[patron],forme)\n",
    "                    sortieForme[sortie]=float(1)/nTotal\n",
    "        else:\n",
    "            print (forme, file=logfile) \n",
    "            print (\"pas de patron\", file=logfile)\n",
    "        return sortieForme\n",
    "        "
   ]
  },
  {
   "cell_type": "markdown",
   "metadata": {},
   "source": [
    "##Appliquer la formule de calcul des différences entre chaines à chaque ligne\n",
    "\n",
    ">si il y a au moins une ligne\n",
    "\n",
    ">>on applique la différence à la ligne\n",
    "\n",
    ">>on calcule les deux patrons par suppression des points initiaux\n",
    "\n",
    ">>on renvoie le groupement par patrons (1&2)\n",
    "\n",
    ">sinon\n",
    "\n",
    ">>on renvoie le paradigme vide d'origine"
   ]
  },
  {
   "cell_type": "code",
   "execution_count": 172,
   "metadata": {
    "collapsed": false
   },
   "outputs": [],
   "source": [
    "def OLDrapports(paradigme):\n",
    "    (case1,case2,lexeme)= paradigme.columns.values.tolist()\n",
    "    patrons=pairePatrons(case1,case2)\n",
    "    if len(paradigme)>0:\n",
    "#        for index, row in paradigme.iterrows():\n",
    "#            patrons.ajouterFormes(row[0],row[1],diff(row[0],row[1]))\n",
    "        paradigme.apply(lambda x: patrons.ajouterFormes(x[case1],x[case2],diff(x[case1],x[case2])), axis=1)\n",
    "        (regles1,regles2)=patrons.calculerGM()\n",
    "    return patrons.calculerGM()"
   ]
  },
  {
   "cell_type": "code",
   "execution_count": 173,
   "metadata": {
    "collapsed": false
   },
   "outputs": [],
   "source": [
    "def rapports(paradigme):\n",
    "    if len(paradigme.columns.values.tolist())==2:\n",
    "        (case1,lexeme)= paradigme.columns.values.tolist()\n",
    "        case2=case1\n",
    "    else:\n",
    "        (case1,case2,lexeme)= paradigme.columns.values.tolist()\n",
    "    patrons=pairePatrons(case1,case2)\n",
    "    classes=paireClasses(case1,case2)\n",
    "    if len(paradigme)>0:\n",
    "        paradigme.apply(lambda x: patrons.ajouterFormes(x[case1],x[case2],diff(x[case1],x[case2])), axis=1)\n",
    "        (regles1,regles2)=patrons.calculerGM()\n",
    "        for regle in regles1:\n",
    "            classes.ajouterPatron(1,regle,regles1[regle])\n",
    "        for regle in regles2:\n",
    "            classes.ajouterPatron(2,regle,regles2[regle])\n",
    "        paradigme.apply(lambda x: classes.ajouterPaire(x[case1],x[case2]), axis=1)\n",
    "    (classes1,classes2)=classes.calculerClasses()\n",
    "    return (classes1,classes2)"
   ]
  },
  {
   "cell_type": "markdown",
   "metadata": {},
   "source": [
    "###Dédoubler les lignes avec des surabondances dans *colonne*\n",
    ">identifier une ligne avec surabondance\n",
    "\n",
    ">>ajouter les lignes correspondant à chaque valeur\n",
    "\n",
    ">>ajouter le numéro de la ligne initiale dans les lignes à supprimer\n",
    "\n",
    ">supprimer les lignes avec surabondance\n",
    "\n",
    "NB : il faut préparer le tableau pour avoir une indexation qui permette l'ajout des valeurs individuelles et la suppression des lignes de surabondances"
   ]
  },
  {
   "cell_type": "code",
   "execution_count": 174,
   "metadata": {
    "collapsed": false
   },
   "outputs": [],
   "source": [
    "def splitCellMates(df,colonne):\n",
    "    '''\n",
    "    Calcul d'une dataframe sans surabondance par dédoublement des valeurs\n",
    "    '''\n",
    "    test=df.reset_index()\n",
    "    del test[\"index\"]\n",
    "    splitIndexes=[]\n",
    "    for index,ligne in test.iterrows():\n",
    "        if \",\" in ligne[colonne]:\n",
    "            valeurs=set(ligne[colonne].split(\",\"))\n",
    "            nouvelleLigne=ligne\n",
    "            for valeur in valeurs:\n",
    "                nouvelleLigne[colonne]=valeur\n",
    "                test=test.append(nouvelleLigne,ignore_index=True)\n",
    "            splitIndexes.append(index)\n",
    "    if splitIndexes:\n",
    "        test=test.drop(test.index[splitIndexes])\n",
    "    return test\n"
   ]
  },
  {
   "cell_type": "code",
   "execution_count": 175,
   "metadata": {
    "collapsed": true
   },
   "outputs": [],
   "source": [
    "paradigmes=pd.read_csv(paradigmFile,sep=\";\",encoding=\"utf8\")\n",
    "del paradigmes[u\"Unnamed: 0\"]"
   ]
  },
  {
   "cell_type": "markdown",
   "metadata": {},
   "source": [
    "- listeCases pour la liste des cases effectivement représentées dans le corpus de départ "
   ]
  },
  {
   "cell_type": "code",
   "execution_count": 176,
   "metadata": {
    "collapsed": false
   },
   "outputs": [],
   "source": [
    "listeCases=list(paradigmes.columns)\n",
    "listeCases.remove(u\"lexeme\")"
   ]
  },
  {
   "cell_type": "code",
   "execution_count": 177,
   "metadata": {
    "collapsed": false,
    "scrolled": true
   },
   "outputs": [
    {
     "data": {
      "text/plain": [
       "4000"
      ]
     },
     "execution_count": 177,
     "metadata": {},
     "output_type": "execute_result"
    }
   ],
   "source": [
    "paradigmes.stack().value_counts(dropna=True).sum()"
   ]
  },
  {
   "cell_type": "code",
   "execution_count": 178,
   "metadata": {
    "collapsed": false
   },
   "outputs": [],
   "source": [
    "with open(analysisPrefix+'-Regles.pkl', 'rb') as input:\n",
    "    resultatsLecture = pickle.load(input)"
   ]
  },
  {
   "cell_type": "code",
   "execution_count": 179,
   "metadata": {
    "collapsed": false
   },
   "outputs": [],
   "source": [
    "class paradigmeDistribution:\n",
    "    '''\n",
    "    Gestion des distributions dans les cases du paradigme\n",
    "    '''\n",
    "\n",
    "    def __init__(self,lexeme):\n",
    "        self.lexeme=lexeme\n",
    "        self.formes={i:{} for i in casesTotales}\n",
    "\n",
    "    def ajouterFormes(self,case,formes,coef=1.0):\n",
    "        for forme in formes:\n",
    "            if not forme in self.formes[case]:\n",
    "                self.formes[case][forme]=0\n",
    "            self.formes[case][forme]+=formes[forme]*coef\n",
    "            \n",
    "    def normaliserDistributions(self,caseListe=casesTotales):\n",
    "        normalesDistributions={i:{} for i in caseListe}\n",
    "        for case in caseListe:\n",
    "            total=0\n",
    "            for element in self.formes[case]:\n",
    "                total+=self.formes[case][element]\n",
    "            for element in self.formes[case]:\n",
    "                normalesDistributions[case][element]=float(self.formes[case][element])/total\n",
    "        return normalesDistributions\n",
    "        "
   ]
  },
  {
   "cell_type": "code",
   "execution_count": 180,
   "metadata": {
    "collapsed": false,
    "scrolled": true
   },
   "outputs": [],
   "source": [
    "def generateForms(lexeme):\n",
    "    candidats=paradigmeDistribution(lexeme)\n",
    "    for forme in listeCases:\n",
    "        if not pd.isnull(paradigmes[paradigmes[\"lexeme\"]==lexeme][forme].iloc[0]):\n",
    "            depart=paradigmes[paradigmes[\"lexeme\"]==lexeme][forme].iloc[0]\n",
    "            if debug: print (forme,depart, file=logfile)\n",
    "            if depart!=\"nan\":\n",
    "                for case in casesTotales:\n",
    "                    if debug: print (case, file=logfile)\n",
    "                    if not isinstance(resultatsLecture[(forme, case)],str):\n",
    "                        if \",\" in depart:\n",
    "                            departs=depart.split(\",\")\n",
    "                            coef=1.0/len(departs)\n",
    "                            for element in departs:\n",
    "                                candidats.ajouterFormes(case,resultatsLecture[(forme, case)].sortirForme(element),coef)\n",
    "                        else:\n",
    "                            candidats.ajouterFormes(case,resultatsLecture[(forme, case)].sortirForme(depart))\n",
    "                    else: print (\"str\", resultatsLecture[(forme, case)], file=logfile)\n",
    "    return candidats"
   ]
  },
  {
   "cell_type": "code",
   "execution_count": 181,
   "metadata": {
    "collapsed": true
   },
   "outputs": [],
   "source": [
    "def ajouterPoint(lexeme,forme,case):\n",
    "    pointName=\"%s-%s-%s\"%(lexeme,forme,case)\n",
    "#    if not pointName in digraphe.nodes():\n",
    "    digraphe.add_node(pointName)\n",
    "    graphe.add_node(pointName)\n",
    "    return pointName\n",
    "\n",
    "def ajouterFleche(depart,sortie,coef):\n",
    "    digraphe.add_edge(depart,sortie,weight=float(coef))\n",
    "    if digraphe.has_edge(sortie,depart):\n",
    "        coefGraphe=float(digraphe.edge[sortie][depart][\"weight\"]+coef)/2\n",
    "        graphe.add_edge(depart,sortie,weight=coefGraphe)"
   ]
  },
  {
   "cell_type": "code",
   "execution_count": 182,
   "metadata": {
    "collapsed": false
   },
   "outputs": [],
   "source": [
    "def generateParadigms(generation1):\n",
    "    lexeme=generation1.lexeme\n",
    "    distributionInitiale=generation1.normaliserDistributions()\n",
    "    candidats=paradigmeDistribution(lexeme)\n",
    "    for caseDepart in casesTotales:\n",
    "        for formeDepart in distributionInitiale[caseDepart]:\n",
    "            if formeDepart:\n",
    "                pointDepart=ajouterPoint(lexeme,formeDepart,caseDepart)\n",
    "                coefDepart=distributionInitiale[caseDepart][formeDepart]\n",
    "                if debug: print (caseDepart,formeDepart, file=logfile)\n",
    "                for caseSortie in casesTotales:\n",
    "                    distributionSortie=resultatsLecture[(caseDepart, caseSortie)].sortirForme(formeDepart)\n",
    "                    if distributionSortie:\n",
    "                        if debug: print (caseSortie,distributionSortie,distributionInitiale[caseDepart], file=logfile)\n",
    "                        candidats.ajouterFormes(caseSortie,distributionSortie,distributionInitiale[caseDepart][formeDepart])\n",
    "                        for formeSortie in distributionSortie:\n",
    "                            pointSortie=ajouterPoint(lexeme,formeSortie,caseSortie)\n",
    "                            coefSortie=distributionSortie[formeSortie]\n",
    "                            ajouterFleche(pointDepart,pointSortie,float(coefDepart*coefSortie))\n",
    "    return candidats"
   ]
  },
  {
   "cell_type": "code",
   "execution_count": 183,
   "metadata": {
    "collapsed": true
   },
   "outputs": [],
   "source": [
    "def generate(lexeme):\n",
    "    print (\"génération 1\")\n",
    "    generation1=generateForms(lexeme)\n",
    "    print (\"génération 2\")\n",
    "    generation2=generateParadigms(generation1)\n",
    "    print (\"génération 3\")\n",
    "    return generation2"
   ]
  },
  {
   "cell_type": "code",
   "execution_count": 184,
   "metadata": {
    "collapsed": false,
    "scrolled": true
   },
   "outputs": [
    {
     "name": "stdout",
     "output_type": "stream",
     "text": [
      "génération 1\n",
      "génération 2\n",
      "génération 3\n",
      "génération 1\n",
      "génération 2\n",
      "génération 3\n",
      "génération 1\n",
      "génération 2\n",
      "génération 3\n",
      "génération 1\n",
      "génération 2\n",
      "génération 3\n",
      "génération 1\n",
      "génération 2\n",
      "génération 3\n",
      "CPU times: user 30 s, sys: 306 ms, total: 30.3 s\n",
      "Wall time: 30.4 s\n"
     ]
    }
   ],
   "source": [
    "%%time\n",
    "debug=True\n",
    "listeTest=[u\"manger\",u\"boire\",u\"dormir\",u\"aller\",u\"avoir\"]\n",
    "digraphe=nx.DiGraph()\n",
    "graphe=nx.Graph()\n",
    "for element in listeTest:\n",
    "    generate(element)"
   ]
  },
  {
   "cell_type": "code",
   "execution_count": 185,
   "metadata": {
    "collapsed": false,
    "scrolled": true
   },
   "outputs": [],
   "source": [
    "#nx.write_dot(digraphe,u\"digraphe.dot\")\n",
    "#nx.write_dot(graphe,u\"graphe.dot\")"
   ]
  },
  {
   "cell_type": "code",
   "execution_count": 186,
   "metadata": {
    "collapsed": true
   },
   "outputs": [],
   "source": [
    "cliques=list(nx.algorithms.clique.find_cliques(graphe))"
   ]
  },
  {
   "cell_type": "code",
   "execution_count": 187,
   "metadata": {
    "collapsed": false
   },
   "outputs": [
    {
     "name": "stdout",
     "output_type": "stream",
     "text": [
      "manger 6\n",
      "boire 4\n",
      "dormir 8\n",
      "aller 23\n",
      "avoir 25\n",
      "549  lexeme    manger\n",
      "     fi1S      mâZ6rè\n",
      "     inf         mâZe\n",
      "     pI2P        mâZe\n",
      "     pI2S         mâZ\n",
      "     pi3P         mâZ\n",
      "     ppMS        mâZe\n",
      "dtype: object\n",
      "108  lexeme    boire\n",
      "     inf        bwar\n",
      "     pc2S      bwarè\n",
      "     pi1P       byvô\n",
      "     ppMS         by\n",
      "dtype: object\n",
      "254  lexeme    dormir\n",
      "     ai3S       dOrmi\n",
      "     ii3P       dOrmè\n",
      "     inf       dOrmir\n",
      "     pI2P       dOrme\n",
      "     pi1S         dOr\n",
      "     pi2S         dOr\n",
      "     pi3S         dOr\n",
      "     ps3P        dOrm\n",
      "dtype: object\n",
      "39  lexeme    aller\n",
      "    ai3S        ala\n",
      "    fi2P        ire\n",
      "    fi3S        ira\n",
      "    ii1S        alè\n",
      "    ii2P       alje\n",
      "    ii2S        alè\n",
      "    ii3S        alè\n",
      "    inf         ale\n",
      "    pI1P        alô\n",
      "    pI2P        ale\n",
      "    pI2S         va\n",
      "    pc1P       irjô\n",
      "    pc3S        irè\n",
      "    pi1P        alô\n",
      "    pi1S         vè\n",
      "    pi2P        ale\n",
      "    pi2S         va\n",
      "    pi3P         vô\n",
      "    pi3S         va\n",
      "    ppFS        ale\n",
      "    ppMS        ale\n",
      "    ps1S         aj\n",
      "    ps3S         aj\n",
      "dtype: object\n",
      "89  lexeme    avoir\n",
      "    ai3S          y\n",
      "    fi1P        òrô\n",
      "    fi1S        òrè\n",
      "    fi2P        òre\n",
      "    fi2S        òra\n",
      "    fi3P        òrô\n",
      "    fi3S        òra\n",
      "    ii1P       avjô\n",
      "    ii1S        avè\n",
      "    ii2S        avè\n",
      "    ii3P        avè\n",
      "    ii3S        avè\n",
      "    inf       avwar\n",
      "    pI2P        èje\n",
      "    pI2S          è\n",
      "    pc1S        òrè\n",
      "    pi1P        avô\n",
      "    pi1S          è\n",
      "    pi2P        ave\n",
      "    pi2S          a\n",
      "    pi3P          ô\n",
      "    pi3S          a\n",
      "    ppMP          y\n",
      "    ppMS          y\n",
      "    ps2P        èje\n",
      "dtype: object\n"
     ]
    }
   ],
   "source": [
    "for element in listeTest:\n",
    "    print (element,paradigmes[paradigmes[\"lexeme\"]==element].stack().value_counts(dropna=True).sum()-1)\n",
    "for element in listeTest:\n",
    "    print (paradigmes[paradigmes[\"lexeme\"]==element].stack())"
   ]
  },
  {
   "cell_type": "markdown",
   "metadata": {},
   "source": [
    "##Faire un tableau XML pour la sortie des cliques"
   ]
  },
  {
   "cell_type": "code",
   "execution_count": 232,
   "metadata": {
    "collapsed": true
   },
   "outputs": [],
   "source": [
    "class tableauParadigme:\n",
    "    '''\n",
    "    Gestion des tableaux de flexion\n",
    "    '''\n",
    "\n",
    "    def __init__(self):\n",
    "        self.paradigme={}\n",
    "        self.lexeme=\"\"\n",
    "\n",
    "    def ajouterElement(self,element):\n",
    "        (lexeme,forme,taminfo)=element.split(\"-\")\n",
    "        if self.lexeme==\"\":\n",
    "            self.lexeme=lexeme\n",
    "        if self.lexeme==lexeme:\n",
    "            if len(taminfo)==4:\n",
    "                (tense,mode,pers,num)=taminfo\n",
    "            elif taminfo==\"inf\":\n",
    "                (tense,mode,pers,num)=(\"\",taminfo,\"\",\"\")\n",
    "                \n",
    "            elif taminfo==\"pP\":\n",
    "                (tense,mode,pers,num)=(\"p\",\"part\",\"\",\"\")\n",
    "            else:\n",
    "                print(\"erreur case\",element,file=logfile)\n",
    "            if not mode in self.paradigme:\n",
    "                self.paradigme[mode]={}\n",
    "            if not tense in self.paradigme[mode]:\n",
    "                self.paradigme[mode][tense]={}\n",
    "            if not pers+num in self.paradigme[mode][tense]:\n",
    "                self.paradigme[mode][tense][pers+num]=[]\n",
    "            self.paradigme[mode][tense][pers+num].append(forme)\n",
    "            \n",
    "      "
   ]
  },
  {
   "cell_type": "markdown",
   "metadata": {},
   "source": [
    "##Comparer la sortie des cliques avec le tableau de conjugaison normal"
   ]
  },
  {
   "cell_type": "code",
   "execution_count": 239,
   "metadata": {
    "collapsed": false
   },
   "outputs": [
    {
     "name": "stdout",
     "output_type": "stream",
     "text": [
      "0 51\n",
      "byvE, byvE, byvE, byvjô, byvje, byvE, \n",
      "bwa, bwa, bwa, byvô, byve, bwav, \n",
      "by, by, by, bym, byt, byr, \n",
      "bwarE, bwara, bwara, bwarô, bware, bwarô, \n",
      "bys, bys, by, bysjô, bysje, bys, \n",
      "bwav, bwav, bwav, byvjô, byvje, bwav, \n",
      "bwarE, bwarE, bwarE, bwarjô, bwarje, bwarE, \n",
      "bwa, byvô, byve, \n",
      "1 51\n",
      "avE, avE, avE, avjô, avje, avE, \n",
      "E, a, a, avô, ave, ô, \n",
      "y, y, y, ym, yt, yr, \n",
      "OrE, Ora, Ora, Orô, Ore, Orô, \n",
      "ys, ys, y, ysjô, ysje, ys, \n",
      "E, E, E, Ejô, Eje, E, \n",
      "OrE, OrE, OrE, Orjô, Orje, OrE, \n",
      "E, Ejô, Eje, \n",
      "2 51\n",
      "avE, avE, avE, avjô, avje, avE, \n",
      "av, av, av, avô, ave, av, \n",
      "avE, ava, ava, avam, avat, avEr, \n",
      "av6rE, av6ra, av6ra, av6rô, av6re, av6rô, \n",
      "avas, avas, ava, avasjô, avasje, avas, \n",
      "av, av, av, avjô, avje, av, \n",
      "av6rE, av6rE, av6rE, av6rjô, av6rje, av6rE, \n",
      "av, avô, ave, \n",
      "3 51\n",
      "alE, ala, ala, alam, alat, alEr, \n",
      "alE, alE, alE, aljô, alje, alE, \n",
      "al6rE, al6ra, al6ra, al6rô, al6re, al6rô, \n",
      "al, al, al, alô, ale, al, \n",
      "alas, alas, ala, alasjô, alasje, alas, \n",
      "al, al, al, aljô, alje, al, \n",
      "al6rE, al6rE, al6rE, al6rjô, al6rje, al6rE, \n",
      "al, alô, ale, \n",
      "4 51\n",
      "alE, ala, ala, alam, alat, alEr, \n",
      "alE, alE, alE, aljô, alje, alE, \n",
      "irE, ira, ira, irô, ire, irô, \n",
      "vE, va, va, alô, ale, vô, \n",
      "alas, alas, ala, alasjô, alasje, alas, \n",
      "aj, aj, aj, aljô, alje, aj, \n",
      "irE, irE, irE, irjô, irje, irE, \n",
      "va, alô, ale, \n",
      "5 51\n",
      "mâZE, mâZa, mâZa, mâZam, mâZat, mâZEr, \n",
      "mâZE, mâZE, mâZE, mâZjô, mâZje, mâZE, \n",
      "mâZ, mâZ, mâZ, mâZô, mâZe, mâZ, \n",
      "mâZ6rE, mâZ6ra, mâZ6ra, mâZ6rô, mâZ6re, mâZ6rô, \n",
      "mâZas, mâZas, mâZa, mâZasjô, mâZasje, mâZas, \n",
      "mâZ, mâZ, mâZ, mâZjô, mâZje, mâZ, \n",
      "mâZ6rE, mâZ6rE, mâZ6rE, mâZ6rjô, mâZ6rje, mâZ6rE, \n",
      "mâZ, mâZô, mâZe, \n",
      "6 51\n",
      "ajE, ajE, ajE, ajô, aje, ajE, \n",
      "ajE, aja, aja, ajam, ajat, ajEr, \n",
      "aj, aj, aj, ajô, aje, aj, \n",
      "aj6rE, aj6ra, aj6ra, aj6rô, aj6re, aj6rô, \n",
      "ajas, ajas, aja, ajasjô, ajasje, ajas, \n",
      "aj, aj, aj, ajô, aje, aj, \n",
      "aj6rE, aj6rE, aj6rE, aj6rjô, aj6rje, aj6rE, \n",
      "aj, ajô, aje, \n",
      "7 51\n",
      "dOrmE, dOrmE, dOrmE, dOrmjô, dOrmje, dOrmE, \n",
      "dOrm, dOrm, dOrm, dOrmô, dOrme, dOrm, \n",
      "dOrmE, dOrma, dOrma, dOrmam, dOrmat, dOrmEr, \n",
      "dOrm6rE, dOrm6ra, dOrm6ra, dOrm6rô, dOrm6re, dOrm6rô, \n",
      "dOrmas, dOrmas, dOrma, dOrmasjô, dOrmasje, dOrmas, \n",
      "dOrm, dOrm, dOrm, dOrmjô, dOrmje, dOrm, \n",
      "dOrm6rE, dOrm6rE, dOrm6rE, dOrm6rjô, dOrm6rje, dOrm6rE, \n",
      "dOrm, dOrmô, dOrme, \n",
      "8 51\n",
      "dOrE, dOrE, dOrE, dOrjô, dOrje, dOrE, \n",
      "dOr, dOr, dOr, dOrô, dOre, dOr, \n",
      "dOrE, dOra, dOra, dOram, dOrat, dOrEr, \n",
      "dOr6rE, dOr6ra, dOr6ra, dOr6rô, dOr6re, dOr6rô, \n",
      "dOras, dOras, dOra, dOrasjô, dOrasje, dOras, \n",
      "dOr, dOr, dOr, dOrjô, dOrje, dOr, \n",
      "dOr6rE, dOr6rE, dOr6rE, dOr6rjô, dOr6rje, dOr6rE, \n",
      "dOr, dOrô, dOre, \n",
      "9 48\n",
      "dOrmi, dOrmi, dOrmi, dOrmim, dOrmit, dOrmir, \n",
      "dOr, dOr, dOr, dOrmô, dOrme, dOrm, \n",
      "dOrmE, dOrmE, dOrmE, dOrmjô, dOrmje, dOrmE, \n",
      "dOrmirE, dOrmira, dOrmira, dOrmirô, dOrmire, dOrmirô, \n",
      "dOrmis, dOrmis, dOrmi, dOrmisjô, dOrmisje, dOrmis, \n",
      "dOrm, dOrm, dOrm, dOrmjô, dOrmje, dOrm, \n",
      "dOrmirE, dOrmirE, dOrmirE, dOrmirjô, dOrmirje, dOrmirE, \n",
      "dOr, dOrmô, dOrme, \n",
      "10 47\n",
      "dOrmi, dOrmi, dOrmi, dOrmim, dOrmit, dOrmir, \n",
      "dOrmisE, dOrmisE, dOrmisE, dOrmisjô, dOrmisje, dOrmisE, \n"
     ]
    },
    {
     "ename": "KeyError",
     "evalue": "'1S'",
     "output_type": "error",
     "traceback": [
      "\u001b[0;31m---------------------------------------------------------------------------\u001b[0m",
      "\u001b[0;31mKeyError\u001b[0m                                  Traceback (most recent call last)",
      "\u001b[0;32m<ipython-input-239-7ebf5649d9bd>\u001b[0m in \u001b[0;36m<module>\u001b[0;34m()\u001b[0m\n\u001b[1;32m     13\u001b[0m                 \u001b[0;32melse\u001b[0m\u001b[0;34m:\u001b[0m\u001b[0;34m\u001b[0m\u001b[0m\n\u001b[1;32m     14\u001b[0m                     \u001b[0;32mfor\u001b[0m \u001b[0mpers\u001b[0m \u001b[0;32min\u001b[0m \u001b[0;34m[\u001b[0m\u001b[0mstr\u001b[0m\u001b[0;34m(\u001b[0m\u001b[0mi\u001b[0m\u001b[0;34m+\u001b[0m\u001b[0;36m1\u001b[0m\u001b[0;34m)\u001b[0m\u001b[0;34m+\u001b[0m\u001b[0;34m\"S\"\u001b[0m \u001b[0;32mfor\u001b[0m \u001b[0mi\u001b[0m \u001b[0;32min\u001b[0m \u001b[0mrange\u001b[0m\u001b[0;34m(\u001b[0m\u001b[0;36m3\u001b[0m\u001b[0;34m)\u001b[0m\u001b[0;34m]\u001b[0m\u001b[0;34m+\u001b[0m\u001b[0;34m[\u001b[0m\u001b[0mstr\u001b[0m\u001b[0;34m(\u001b[0m\u001b[0mi\u001b[0m\u001b[0;34m+\u001b[0m\u001b[0;36m1\u001b[0m\u001b[0;34m)\u001b[0m\u001b[0;34m+\u001b[0m\u001b[0;34m\"P\"\u001b[0m \u001b[0;32mfor\u001b[0m \u001b[0mi\u001b[0m \u001b[0;32min\u001b[0m \u001b[0mrange\u001b[0m\u001b[0;34m(\u001b[0m\u001b[0;36m3\u001b[0m\u001b[0;34m)\u001b[0m\u001b[0;34m]\u001b[0m\u001b[0;34m:\u001b[0m\u001b[0;34m\u001b[0m\u001b[0m\n\u001b[0;32m---> 15\u001b[0;31m                         \u001b[0;32mprint\u001b[0m \u001b[0;34m(\u001b[0m\u001b[0;34m\"-\"\u001b[0m\u001b[0;34m.\u001b[0m\u001b[0mjoin\u001b[0m\u001b[0;34m(\u001b[0m\u001b[0mtabParadigme\u001b[0m\u001b[0;34m.\u001b[0m\u001b[0mparadigme\u001b[0m\u001b[0;34m[\u001b[0m\u001b[0mmode\u001b[0m\u001b[0;34m]\u001b[0m\u001b[0;34m[\u001b[0m\u001b[0mtense\u001b[0m\u001b[0;34m]\u001b[0m\u001b[0;34m[\u001b[0m\u001b[0mpers\u001b[0m\u001b[0;34m]\u001b[0m\u001b[0;34m)\u001b[0m\u001b[0;34m,\u001b[0m \u001b[0mend\u001b[0m\u001b[0;34m=\u001b[0m\u001b[0;34m\", \"\u001b[0m\u001b[0;34m)\u001b[0m\u001b[0;34m\u001b[0m\u001b[0m\n\u001b[0m\u001b[1;32m     16\u001b[0m                 \u001b[0;32mprint\u001b[0m\u001b[0;34m(\u001b[0m\u001b[0;34m)\u001b[0m\u001b[0;34m\u001b[0m\u001b[0m\n",
      "\u001b[0;31mKeyError\u001b[0m: '1S'"
     ]
    }
   ],
   "source": [
    "seuilClique=25\n",
    "for n,clique in enumerate(sorted(cliques,key=lambda x: len(x),reverse=True)):\n",
    "    if len(clique)>seuilClique:\n",
    "        print (n, len(clique))\n",
    "        tabParadigme=tableauParadigme()\n",
    "        for element in clique:\n",
    "            tabParadigme.ajouterElement(element)\n",
    "        for mode in [\"i\",\"s\",\"c\",\"I\"]:\n",
    "            for tense in tabParadigme.paradigme[mode]:\n",
    "                if mode==\"I\":\n",
    "                    for pers in [\"2S\", \"1P\", \"2P\"]:\n",
    "                        print (\"-\".join(tabParadigme.paradigme[mode][tense][pers]), end=\", \")\n",
    "                else:\n",
    "                    for pers in [str(i+1)+\"S\" for i in range(3)]+[str(i+1)+\"P\" for i in range(3)]:\n",
    "                        print (\"-\".join(tabParadigme.paradigme[mode][tense][pers]), end=\", \")\n",
    "                print()"
   ]
  },
  {
   "cell_type": "code",
   "execution_count": null,
   "metadata": {
    "collapsed": true
   },
   "outputs": [],
   "source": []
  }
 ],
 "metadata": {
  "kernelspec": {
   "display_name": "Python 2",
   "language": "python",
   "name": "python2"
  },
  "language_info": {
   "codemirror_mode": {
    "name": "ipython",
    "version": 2
   },
   "file_extension": ".py",
   "mimetype": "text/x-python",
   "name": "python",
   "nbconvert_exporter": "python",
   "pygments_lexer": "ipython2",
   "version": "2.7.10"
  }
 },
 "nbformat": 4,
 "nbformat_minor": 0
}
