{
 "cells": [
  {
   "cell_type": "code",
   "execution_count": 71,
   "metadata": {
    "collapsed": true
   },
   "outputs": [],
   "source": [
    "import csv,pickle,codecs\n",
    "import pandas as pd"
   ]
  },
  {
   "cell_type": "code",
   "execution_count": 72,
   "metadata": {
    "collapsed": true
   },
   "outputs": [],
   "source": [
    "fusionSeries={\n",
    "    \"verbes\":\"2015-Data/MGC-160104-03-N-ext3\",\n",
    "    \"converts\":\"2015-Data/MGC-160104-derives2\",\n",
    "    \"sorties\":\"2015-Data/MGC-160104-03-N-ext3-derivations\"\n",
    "}\n",
    "sortieSeries={\n",
    "    \"BRASS\":\"-paradigmes\",\n",
    "    \"SILVER\":\"-Silver\" #,\n",
    "#    \"GOLD\"\n",
    "}\n",
    "\n",
    "phonologicalMap=\"-N\""
   ]
  },
  {
   "cell_type": "code",
   "execution_count": 73,
   "metadata": {
    "collapsed": false
   },
   "outputs": [],
   "source": [
    "with open('2015-Data/MGC-160104-Derives2.pkl', 'rb') as input:\n",
    "    derives = pickle.load(input)"
   ]
  },
  {
   "cell_type": "code",
   "execution_count": 74,
   "metadata": {
    "collapsed": false,
    "scrolled": true
   },
   "outputs": [],
   "source": [
    "baseDerives=derives.set_index(\"lexeme\")[\"base\"].to_dict()\n",
    "#baseDerives"
   ]
  },
  {
   "cell_type": "code",
   "execution_count": 75,
   "metadata": {
    "collapsed": true
   },
   "outputs": [],
   "source": [
    "neutralisationsNORD=(u\"6û\",u\"9ê\")\n",
    "neutralisationsSUD=(u\"e2o\",u\"E9O\")\n",
    "if phonologicalMap==\"-N\":\n",
    "    neutralisations=neutralisationsNORD\n",
    "elif phonologicalMap==\"-S\":\n",
    "    neutralisations=neutralisationsSUD\n",
    "else:\n",
    "    neutralisations=(u\"\",u\"\")\n",
    "    phonologicalMap=(\"-X\")\n",
    "bdlexiqueIn = unicode(u\"èò\"+neutralisations[0])\n",
    "bdlexiqueNum = [ord(char) for char in bdlexiqueIn]\n",
    "neutreOut = unicode(u\"EO\"+neutralisations[1])\n",
    "neutralise = dict(zip(bdlexiqueNum, neutreOut))"
   ]
  },
  {
   "cell_type": "code",
   "execution_count": 76,
   "metadata": {
    "collapsed": true
   },
   "outputs": [],
   "source": [
    "def recoder(chaine,table=neutralise):\n",
    "    if type(chaine)==str:\n",
    "        temp=unicode(chaine.decode('utf8')).translate(table)\n",
    "        result=temp.encode('utf8')\n",
    "    elif type(chaine)==unicode:\n",
    "        result=chaine.translate(table)\n",
    "    else:\n",
    "        result=chaine\n",
    "    return result"
   ]
  },
  {
   "cell_type": "code",
   "execution_count": 77,
   "metadata": {
    "collapsed": false
   },
   "outputs": [],
   "source": [
    "entrees={}\n",
    "for element in sortieSeries:\n",
    "    entrees[element]={}\n",
    "    for entree in fusionSeries:\n",
    "        if entree!=\"sorties\":\n",
    "            entrees[element][entree]=pd.read_csv(fusionSeries[entree]+sortieSeries[element]+\".csv\",sep=\";\",encoding=\"utf8\")\n",
    "            del entrees[element][entree][u\"Unnamed: 0\"]\n",
    "            if \"score\" in entrees[element][entree].columns.tolist():\n",
    "                del entrees[element][entree][u\"score\"]\n",
    "                del entrees[element][entree][u\"ajouts\"]\n",
    "            if \"FS\" in entrees[element][entree].columns.tolist():\n",
    "                entrees[element][entree][\"FS\"]=entrees[element][entree][\"FS\"].apply(lambda x: recoder(x))\n",
    "                entrees[element][entree][\"FP\"]=entrees[element][entree][\"FP\"].apply(lambda x: recoder(x))\n",
    "    listBases=entrees[element][\"verbes\"][\"lexeme\"].tolist()\n",
    "    for derive in baseDerives:\n",
    "        if baseDerives[derive] in listBases:\n",
    "            if entrees[element][\"converts\"][entrees[element][\"converts\"][\"lexeme\"]==derive][\"FS\"].values:\n",
    "                entrees[element][\"verbes\"].loc[entrees[element][\"verbes\"][\"lexeme\"]==baseDerives[derive],\"FS\"]=entrees[element][\"converts\"][entrees[element][\"converts\"][\"lexeme\"]==derive][\"FS\"].values[0]\n",
    "            if entrees[element][\"converts\"][entrees[element][\"converts\"][\"lexeme\"]==derive][\"FP\"].values:\n",
    "                entrees[element][\"verbes\"].loc[entrees[element][\"verbes\"][\"lexeme\"]==baseDerives[derive],\"FP\"]=entrees[element][\"converts\"][entrees[element][\"converts\"][\"lexeme\"]==derive][\"FP\"].values[0]\n",
    "    for entree in fusionSeries:\n",
    "        if entree!=\"sorties\":\n",
    "            entrees[element][entree].to_csv(path_or_buf=fusionSeries[\"sorties\"]+\"-\"+element+\".csv\",encoding=\"utf8\",sep=\";\")\n"
   ]
  }
 ],
 "metadata": {
  "kernelspec": {
   "display_name": "Python 2",
   "language": "python",
   "name": "python2"
  },
  "language_info": {
   "codemirror_mode": {
    "name": "ipython",
    "version": 2
   },
   "file_extension": ".py",
   "mimetype": "text/x-python",
   "name": "python",
   "nbconvert_exporter": "python",
   "pygments_lexer": "ipython2",
   "version": "2.7.11"
  }
 },
 "nbformat": 4,
 "nbformat_minor": 0
}
