{
 "cells": [
  {
   "cell_type": "markdown",
   "metadata": {},
   "source": [
    "# Resynchronisation BDLex-Lexique V2\n",
    "- Division des fréquences pour les homophones"
   ]
  },
  {
   "cell_type": "markdown",
   "metadata": {},
   "source": [
    "## Importations\n",
    "- codecs pour les encodages\n",
    "- pandas et numpy pour les calculs sur tableaux\n",
    "- matplotlib pour les graphiques\n",
    "- itertools pour les itérateurs sophistiqués (paires sur liste, ...)"
   ]
  },
  {
   "cell_type": "code",
   "execution_count": 44,
   "metadata": {
    "collapsed": false
   },
   "outputs": [],
   "source": [
    "# -*- coding: utf8 -*-\n",
    "import codecs\n",
    "import re\n",
    "import csv\n",
    "import numpy as np\n",
    "import matplotlib.pyplot as plt\n",
    "import itertools as it\n",
    "debug=0"
   ]
  },
  {
   "cell_type": "markdown",
   "metadata": {},
   "source": [
    "#Préparation du lexique"
   ]
  },
  {
   "cell_type": "markdown",
   "metadata": {},
   "source": [
    "###Lecture des lexiques"
   ]
  },
  {
   "cell_type": "code",
   "execution_count": 45,
   "metadata": {
    "collapsed": false
   },
   "outputs": [
    {
     "name": "stdout",
     "output_type": "stream",
     "text": [
      "a N Mj  a 8136 5865 8136 5865\n",
      "à p   à 1219040 1920905 1219040 1920905\n",
      "abaca N MS  abaca 1 0 1 0\n",
      "abacas N MP  abaca *** *** *** ***\n",
      "abacule N MS  abacule *** *** *** ***\n"
     ]
    }
   ],
   "source": [
    "nomLexique=\"/Users/gilles/Copy/Python/phonemisation/bdlexique-PDM.txt\"\n",
    "with codecs.open(nomLexique, 'r',encoding='utf8') as infile:\n",
    "    bdlexique=infile.readlines()\n",
    "for ligne in bdlexique[:5]:\n",
    "    (ortho,phono,ext,cs,ms,vs,lexeme,L23,lemmeFrantext,lemmeFilms,formeFrantext,formeFilms)=ligne.strip().split(\";\")\n",
    "    print ortho,cs,ms,vs,lexeme,lemmeFrantext,lemmeFilms,formeFrantext,formeFilms"
   ]
  },
  {
   "cell_type": "code",
   "execution_count": 46,
   "metadata": {
    "collapsed": false
   },
   "outputs": [],
   "source": [
    "nomLexiqueOrg=\"/Users/gilles/Copy/Python/phonemisation/Lexique380-UTF8.txt\"\n",
    "verbes={}\n",
    "vlemmes={}\n",
    "noms={}\n",
    "nlemmes={}\n",
    "adjectifs={}\n",
    "alemmes={}\n",
    "with codecs.open(nomLexiqueOrg, 'r',encoding='utf8') as infile:\n",
    "    lexiqueorg=infile.readlines()\n",
    "for ligne in lexiqueorg[1:]:\n",
    "    morceaux=ligne.strip().split(\"\\t\")\n",
    "    (ortho,phon,lemme,cgram,genre,nombre,freqlemfilms2,freqlemlivres,freqfilms2,freqlivres,infover)=morceaux[:11]\n",
    "    freqlemfilms2=str(int(100*float(freqlemfilms2)))\n",
    "    freqlemlivres=str(int(100*float(freqlemlivres)))\n",
    "    freqfilms2=str(int(100*float(freqfilms2)))\n",
    "    freqlivres=str(int(100*float(freqlivres)))\n",
    "    if cgram==\"NOM\":\n",
    "        vs=genre.upper()+nombre.upper()\n",
    "        nom=\";\".join([ortho,lemme,vs])\n",
    "        noms[nom]=(freqlemfilms2,freqlemlivres,freqfilms2,freqlivres)\n",
    "        if not lemme in nlemmes:\n",
    "            nlemmes[lemme]=(freqlemfilms2,freqlemlivres)\n",
    "#        print nom, noms[nom]\n",
    "    elif cgram==\"ADJ\":\n",
    "        vs=genre.upper()+nombre.upper()\n",
    "        adjectif=\";\".join([ortho,lemme,vs])\n",
    "        adjectifs[adjectif]=(freqlemfilms2,freqlemlivres,freqfilms2,freqlivres)\n",
    "        if not lemme in alemmes:\n",
    "            alemmes[lemme]=(freqlemfilms2,freqlemlivres)\n",
    "#        print adjectif, adjectifs[adjectif]\n",
    "    elif cgram==\"VER\":\n",
    "#        print ortho,lemme,genre,nombre,infover\n",
    "        if infover==\"ind:pre:2p;inf;\":\n",
    "            infover=\"inf;\"\n",
    "        tams=infover.rstrip(\";\").split(\";\")\n",
    "        freqfilms2=str(int(float(freqfilms2)/len(tams)))\n",
    "        freqlivres=str(int(float(freqlivres)/len(tams)))\n",
    "        for tam in tams:\n",
    "            morceaux=tam.split(\":\")\n",
    "#            print morceaux\n",
    "            if len(morceaux)==3:\n",
    "                if morceaux[0]==\"imp\":\n",
    "                    mode=\"I\"\n",
    "                else:\n",
    "                    mode=morceaux[0][0]\n",
    "                if morceaux[1]==\"pas\":\n",
    "                    temps=\"a\"\n",
    "                else:\n",
    "                    temps=morceaux[1][0]\n",
    "                infotam=temps+mode+morceaux[2].upper()\n",
    "            elif len(morceaux)==2:\n",
    "                if morceaux[1]==\"pre\":\n",
    "                    infotam=morceaux[0][0]+\"P\"\n",
    "                elif morceaux[1]==\"pas\":\n",
    "                    infotam=\"pp\"+genre.upper()+nombre.upper()\n",
    "            elif len(morceaux)==1:\n",
    "                infotam=morceaux[0]\n",
    "            verbe=\";\".join([ortho,lemme,infotam])\n",
    " #           print verbe\n",
    "            verbes[verbe]=(freqlemfilms2,freqlemlivres,freqfilms2,freqlivres)\n",
    "            if not lemme in vlemmes:\n",
    "                vlemmes[lemme]=(freqlemfilms2,freqlemlivres)\n",
    "#            print verbe, verbes[verbe]"
   ]
  },
  {
   "cell_type": "code",
   "execution_count": 47,
   "metadata": {
    "collapsed": false,
    "scrolled": true
   },
   "outputs": [],
   "source": [
    "resync=[]\n",
    "for ligne in bdlexique[:]:\n",
    "    nouvelleLigne=ligne.strip()\n",
    "    try :\n",
    "        (ortho,phono,ext,cs,ms,vs,lexeme,L23,lemmeFrantext,lemmeFilms,formeFrantext,formeFilms)=ligne.strip().split(\";\")\n",
    "    except ValueError:\n",
    "        print ligne\n",
    "#    print ortho, lexeme, lemmeFrantext,lemmeFilms,formeFrantext,formeFilms\n",
    "    if lexeme[-1] in \"1234\":\n",
    "        lexeme=lexeme[:-1]\n",
    "    if lexeme in [u\"XXX\"]: \n",
    "        debug=1\n",
    "    else:\n",
    "        debug=0\n",
    "    if cs in [\"V\",\"K\"]:\n",
    "        if cs==\"K\": #Si la catégorie est K, il s'agit d'un adjectif/participe\n",
    "            vs=\"pp\"\n",
    "            if not ms in [\"MS\", \"MP\", \"FS\", \"FP\"]:      #Si l'adjectif/participe est invariable (ij) mettre ms à MS\n",
    "                ms=\"MS\"\n",
    "        verbe=\";\".join([ortho,lexeme,vs+ms])\n",
    "        if verbe in verbes:\n",
    "            if lemmeFrantext!=verbes[verbe][0] and lemmeFilms!=verbes[verbe][1] and formeFrantext!=verbes[verbe][2] and formeFilms!=verbes[verbe][3]:\n",
    "                if debug: print \"different\"\n",
    "                if debug: print verbe, verbes[verbe]\n",
    "            nouvelleLigne=\";\".join([ortho,phono,ext,cs,ms,vs,lexeme,L23,verbes[verbe][0],verbes[verbe][1],verbes[verbe][2],verbes[verbe][3]])\n",
    "        elif lexeme in vlemmes:\n",
    "            if debug: print vlemmes[lexeme]\n",
    "            nouvelleLigne=\";\".join([ortho,phono,ext,cs,ms,vs,lexeme,L23,vlemmes[lexeme][0],vlemmes[lexeme][1],\"***\",\"***\"])\n",
    "        else:\n",
    "            nouvelleLigne=\";\".join([ortho,phono,ext,cs,ms,vs,lexeme,L23,\"***\",\"***\",\"***\",\"***\"])\n",
    "    elif cs in [\"G\",\"H\",\"I\",\"J\"]:\n",
    "        adjectif=\";\".join([ortho,lexeme,ms])\n",
    "        if adjectif in adjectifs:\n",
    "#            print adjectifs[adjectif]\n",
    "            nouvelleLigne=\";\".join([ortho,phono,ext,cs,ms,vs,lexeme,L23,adjectifs[adjectif][0],adjectifs[adjectif][1],adjectifs[adjectif][2],adjectifs[adjectif][3]])\n",
    "        elif lexeme in alemmes:\n",
    "#            print alemmes[lexeme]\n",
    "            nouvelleLigne=\";\".join([ortho,phono,ext,cs,ms,vs,lexeme,L23,alemmes[lexeme][0],alemmes[lexeme][1],formeFrantext,formeFilms])\n",
    "    elif cs in [\"N\"]:\n",
    "        nom=\";\".join([ortho,lexeme,ms])\n",
    "        if nom in noms:\n",
    "#            print noms[nom]\n",
    "            nouvelleLigne=\";\".join([ortho,phono,ext,cs,ms,vs,lexeme,L23,noms[nom][0],noms[nom][1],noms[nom][2],noms[nom][3]])\n",
    "        elif lexeme in nlemmes:\n",
    "#            print nlemmes[lexeme]\n",
    "            nouvelleLigne=\";\".join([ortho,phono,ext,cs,ms,vs,lexeme,L23,nlemmes[lexeme][0],nlemmes[lexeme][1],formeFrantext,formeFilms])\n",
    "    if debug: print [ortho, nouvelleLigne]\n",
    "    resync.append(nouvelleLigne)\n",
    "    "
   ]
  },
  {
   "cell_type": "code",
   "execution_count": 48,
   "metadata": {
    "collapsed": true
   },
   "outputs": [],
   "source": [
    "nomLexiqueResync=nomLexique.split(\".\")[0]+\"-Resync2.txt\"\n",
    "resync=sorted([x.rstrip(\"\\n\")+\"\\n\" for x in set(resync)])\n",
    "with codecs.open(nomLexiqueResync, 'w',encoding='utf8') as outfile:\n",
    "    outfile.writelines(resync)"
   ]
  },
  {
   "cell_type": "code",
   "execution_count": 49,
   "metadata": {
    "collapsed": false
   },
   "outputs": [
    {
     "data": {
      "text/plain": [
       "('3223650', '1508547', '104122', '81899')"
      ]
     },
     "execution_count": 49,
     "metadata": {},
     "output_type": "execute_result"
    }
   ],
   "source": [
    "verbes[u\"été;être;ppMS\"]"
   ]
  },
  {
   "cell_type": "code",
   "execution_count": 50,
   "metadata": {
    "collapsed": false
   },
   "outputs": [
    {
     "data": {
      "text/plain": [
       "[u'\\xe9tuv\\xe9es;\\xe8tyve;z\";K;FP;pp;\\xe9tuver;L23;1;34;***;***\\n',\n",
       " u'\\xe9tuv\\xe9es;\\xe8tyve;z\";N;FP;;\\xe9tuv\\xe9e;;5;14;***;***\\n',\n",
       " u'\\xe9tuv\\xe9s;\\xe8tyve;z\";K;MP;pp;\\xe9tuver;L23;1;34;***;***\\n',\n",
       " u'\\xe9tymologie;\\xe8tim\\xf2l\\xf2Zi;;N;FS;;\\xe9tymologie;L23;9;108;9;95\\n',\n",
       " u'\\xe9tymologies;\\xe8tim\\xf2l\\xf2Zi;z\";N;FP;;\\xe9tymologie;L23;9;108;0;14\\n',\n",
       " u'\\xe9tymologique;\\xe8tim\\xf2l\\xf2Zik;@;J;FS;;\\xe9tymologique;;0;54;0;47\\n',\n",
       " u'\\xe9tymologique;\\xe8tim\\xf2l\\xf2Zik;@;J;MS;;\\xe9tymologique;;0;54;0;47\\n',\n",
       " u'\\xe9tymologiquement;\\xe8tim\\xf2l\\xf2Zik6m\\xe2;t\";A;;Ma;\\xe9tymologiquement;;1;14;1;14\\n',\n",
       " u'\\xe9tymologiques;\\xe8tim\\xf2l\\xf2Zik;@z\";J;FP;;\\xe9tymologique;;0;54;0;7\\n',\n",
       " u'\\xe9tymologiques;\\xe8tim\\xf2l\\xf2Zik;@z\";J;MP;;\\xe9tymologique;;0;54;0;7\\n',\n",
       " u'\\xe9tymologiste;\\xe8tim\\xf2l\\xf2Zist;@;N;FS;;\\xe9tymologiste;;0;14;0;14\\n',\n",
       " u'\\xe9tymologiste;\\xe8tim\\xf2l\\xf2Zist;@;N;MS;;\\xe9tymologiste;;0;14;0;14\\n',\n",
       " u'\\xe9tymologistes;\\xe8tim\\xf2l\\xf2Zist;@z\";N;FP;;\\xe9tymologiste;;0;14;***;***\\n',\n",
       " u'\\xe9tymologistes;\\xe8tim\\xf2l\\xf2Zist;@z\";N;MP;;\\xe9tymologiste;;0;14;***;***\\n',\n",
       " u'\\xe9tymon;\\xe8tim\\xf4;;N;MS;;\\xe9tymon;;***;***;***;***\\n',\n",
       " u'\\xe9tymons;\\xe8tim\\xf4;z\";N;MP;;\\xe9tymon;;***;***;***;***\\n',\n",
       " u'\\xe9t\\xe9;\\xe8te;;K;MS;pp;\\xeatre;L23;3223650;1508547;104122;81899\\n',\n",
       " u'\\xe9t\\xe9;\\xe8te;;N;MS;;\\xe9t\\xe9;L23;6727;12547;6180;12155\\n',\n",
       " u'\\xe9t\\xe9s;\\xe8te;z\";N;MP;;\\xe9t\\xe9;L23;6727;12547;547;392\\n',\n",
       " u'\\xe9t\\xe9sien;\\xe8t\\xe8zj\\xea;;J;MS;;\\xe9t\\xe9sien;L23;***;***;***;***\\n',\n",
       " u'\\xe9t\\xe9siens;\\xe8t\\xe8zj\\xea;z\";J;MP;;\\xe9t\\xe9sien;L23;***;***;***;***\\n',\n",
       " u'\\xe9t\\xeata;\\xe8t\\xe8ta;;V;3S;ai;\\xe9t\\xeater;L23;0;34;0;7\\n',\n",
       " u'\\xe9t\\xeatage;\\xe8t\\xe8taZ;@;N;MS;;\\xe9t\\xeatage;;***;***;***;***\\n',\n",
       " u'\\xe9t\\xeatages;\\xe8t\\xe8taZ;@z\";N;MP;;\\xe9t\\xeatage;;***;***;***;***\\n',\n",
       " u'\\xe9t\\xeatai;\\xe8t\\xe8t\\xe8;;V;1S;ai;\\xe9t\\xeater;L23;0;34;***;***\\n',\n",
       " u'\\xe9t\\xeataient;\\xe8t\\xe8t\\xe8;t\";V;3P;ii;\\xe9t\\xeater;L23;0;34;***;***\\n',\n",
       " u'\\xe9t\\xeatais;\\xe8t\\xe8t\\xe8;z\";V;1S;ii;\\xe9t\\xeater;L23;0;34;***;***\\n',\n",
       " u'\\xe9t\\xeatais;\\xe8t\\xe8t\\xe8;z\";V;2S;ii;\\xe9t\\xeater;L23;0;34;***;***\\n',\n",
       " u'\\xe9t\\xeatait;\\xe8t\\xe8t\\xe8;t\";V;3S;ii;\\xe9t\\xeater;L23;0;34;0;7\\n',\n",
       " u'\\xe9t\\xeatant;\\xe8t\\xe8t\\xe2;t\";V;;pP;\\xe9t\\xeater;L23;0;34;***;***\\n',\n",
       " u'\\xe9t\\xeatas;\\xe8t\\xe8ta;z\";V;2S;ai;\\xe9t\\xeater;L23;0;34;***;***\\n',\n",
       " u'\\xe9t\\xeatasse;\\xe8t\\xe8tas;@;V;1S;is;\\xe9t\\xeater;L23;0;34;***;***\\n',\n",
       " u'\\xe9t\\xeatassent;\\xe8t\\xe8tas;@t\";V;3P;is;\\xe9t\\xeater;L23;0;34;***;***\\n',\n",
       " u'\\xe9t\\xeatasses;\\xe8t\\xe8tas;@;V;2S;is;\\xe9t\\xeater;L23;0;34;***;***\\n',\n",
       " u'\\xe9t\\xeatassiez;\\xe8t\\xe8tasje;z\";V;2P;is;\\xe9t\\xeater;L23;0;34;***;***\\n',\n",
       " u'\\xe9t\\xeatassions;\\xe8t\\xe8tasj\\xf4;z\";V;1P;is;\\xe9t\\xeater;L23;0;34;***;***\\n',\n",
       " u'\\xe9t\\xeate;\\xe8tEt;@;V;1S;pi;\\xe9t\\xeater;L23;0;34;***;***\\n',\n",
       " u'\\xe9t\\xeate;\\xe8tEt;@;V;1S;ps;\\xe9t\\xeater;L23;0;34;***;***\\n',\n",
       " u'\\xe9t\\xeate;\\xe8tEt;@;V;2S;pI;\\xe9t\\xeater;L23;0;34;***;***\\n',\n",
       " u'\\xe9t\\xeate;\\xe8tEt;@;V;3S;pi;\\xe9t\\xeater;L23;0;34;***;***\\n',\n",
       " u'\\xe9t\\xeate;\\xe8tEt;@;V;3S;ps;\\xe9t\\xeater;L23;0;34;***;***\\n',\n",
       " u'\\xe9t\\xeatement;\\xe8t\\xe8t6m\\xe2;;N;MS;;\\xe9t\\xeatement;;***;***;***;***\\n',\n",
       " u'\\xe9t\\xeatements;\\xe8t\\xe8t6m\\xe2;z\";N;MP;;\\xe9t\\xeatement;;***;***;***;***\\n',\n",
       " u'\\xe9t\\xeatent;\\xe8tEt;@t\";V;3P;pi;\\xe9t\\xeater;L23;0;34;***;***\\n',\n",
       " u'\\xe9t\\xeatent;\\xe8tEt;@t\";V;3P;ps;\\xe9t\\xeater;L23;0;34;***;***\\n',\n",
       " u'\\xe9t\\xeater;\\xe8t\\xe8te;R\";V;;inf;\\xe9t\\xeater;L23;0;34;***;***\\n',\n",
       " u'\\xe9t\\xeatera;\\xe8t\\xe8t6ra;;V;3S;fi;\\xe9t\\xeater;L23;0;34;***;***\\n',\n",
       " u'\\xe9t\\xeaterai;\\xe8t\\xe8t6r\\xe8;;V;1S;fi;\\xe9t\\xeater;L23;0;34;***;***\\n',\n",
       " u'\\xe9t\\xeateraient;\\xe8t\\xe8t6r\\xe8;t\";V;3P;pc;\\xe9t\\xeater;L23;0;34;***;***\\n',\n",
       " u'\\xe9t\\xeaterais;\\xe8t\\xe8t6r\\xe8;z\";V;1S;pc;\\xe9t\\xeater;L23;0;34;***;***\\n',\n",
       " u'\\xe9t\\xeaterais;\\xe8t\\xe8t6r\\xe8;z\";V;2S;pc;\\xe9t\\xeater;L23;0;34;***;***\\n',\n",
       " u'\\xe9t\\xeaterait;\\xe8t\\xe8t6r\\xe8;t\";V;3S;pc;\\xe9t\\xeater;L23;0;34;***;***\\n',\n",
       " u'\\xe9t\\xeateras;\\xe8t\\xe8t6ra;z\";V;2S;fi;\\xe9t\\xeater;L23;0;34;***;***\\n',\n",
       " u'\\xe9t\\xeaterez;\\xe8t\\xe8t6re;z\";V;2P;fi;\\xe9t\\xeater;L23;0;34;***;***\\n',\n",
       " u'\\xe9t\\xeateriez;\\xe8t\\xe8t6rje;z\";V;2P;pc;\\xe9t\\xeater;L23;0;34;***;***\\n',\n",
       " u'\\xe9t\\xeaterions;\\xe8t\\xe8t6rj\\xf4;z\";V;1P;pc;\\xe9t\\xeater;L23;0;34;***;***\\n',\n",
       " u'\\xe9t\\xeaterons;\\xe8t\\xe8t6r\\xf4;z\";V;1P;fi;\\xe9t\\xeater;L23;0;34;***;***\\n',\n",
       " u'\\xe9t\\xeateront;\\xe8t\\xe8t6r\\xf4;t\";V;3P;fi;\\xe9t\\xeater;L23;0;34;***;***\\n',\n",
       " u'\\xe9t\\xeates;\\xe8tEt;@;V;2S;pi;\\xe9t\\xeater;L23;0;34;***;***\\n',\n",
       " u'\\xe9t\\xeates;\\xe8tEt;@;V;2S;ps;\\xe9t\\xeater;L23;0;34;***;***\\n',\n",
       " u'\\xe9t\\xeatez;\\xe8t\\xe8te;z\";V;2P;pI;\\xe9t\\xeater;L23;0;34;***;***\\n',\n",
       " u'\\xe9t\\xeatez;\\xe8t\\xe8te;z\";V;2P;pi;\\xe9t\\xeater;L23;0;34;***;***\\n',\n",
       " u'\\xe9t\\xeatiez;\\xe8t\\xe8tje;z\";V;2P;ii;\\xe9t\\xeater;L23;0;34;***;***\\n',\n",
       " u'\\xe9t\\xeatiez;\\xe8t\\xe8tje;z\";V;2P;ps;\\xe9t\\xeater;L23;0;34;***;***\\n',\n",
       " u'\\xe9t\\xeations;\\xe8t\\xe8tj\\xf4;z\";V;1P;ii;\\xe9t\\xeater;L23;0;34;***;***\\n',\n",
       " u'\\xe9t\\xeations;\\xe8t\\xe8tj\\xf4;z\";V;1P;ps;\\xe9t\\xeater;L23;0;34;***;***\\n',\n",
       " u'\\xe9t\\xeatons;\\xe8t\\xe8t\\xf4;z\";V;1P;pI;\\xe9t\\xeater;L23;0;34;***;***\\n',\n",
       " u'\\xe9t\\xeatons;\\xe8t\\xe8t\\xf4;z\";V;1P;pi;\\xe9t\\xeater;L23;0;34;***;***\\n',\n",
       " u'\\xe9t\\xeat\\xe2mes;\\xe8t\\xe8tam;@z\";V;1P;ai;\\xe9t\\xeater;L23;0;34;***;***\\n',\n",
       " u'\\xe9t\\xeat\\xe2t;\\xe8t\\xe8ta;t\";V;3S;is;\\xe9t\\xeater;L23;0;34;***;***\\n',\n",
       " u'\\xe9t\\xeat\\xe2tes;\\xe8t\\xe8tat;@z\";V;2P;ai;\\xe9t\\xeater;L23;0;34;***;***\\n',\n",
       " u'\\xe9t\\xeat\\xe8rent;\\xe8t\\xe8tEr;@t\";V;3P;ai;\\xe9t\\xeater;L23;0;34;***;***\\n',\n",
       " u'\\xe9t\\xeat\\xe9;\\xe8t\\xe8te;;K;MS;pp;\\xe9t\\xeater;L23;0;34;0;7\\n',\n",
       " u'\\xe9t\\xeat\\xe9e;\\xe8t\\xe8te;;K;FS;pp;\\xe9t\\xeater;L23;0;34;***;***\\n',\n",
       " u'\\xe9t\\xeat\\xe9es;\\xe8t\\xe8te;z\";K;FP;pp;\\xe9t\\xeater;L23;0;34;***;***\\n',\n",
       " u'\\xe9t\\xeat\\xe9s;\\xe8t\\xe8te;z\";K;MP;pp;\\xe9t\\xeater;L23;0;34;0;14\\n',\n",
       " u'\\xe9vacua;\\xe8vakya;;V;3S;ai;\\xe9vacuer;L23;1761;980;0;14\\n',\n",
       " u'\\xe9vacuai;\\xe8vaky\\xe8;;V;1S;ai;\\xe9vacuer;L23;1761;980;0;7\\n',\n",
       " u'\\xe9vacuaient;\\xe8vaky\\xe8;t\";V;3P;ii;\\xe9vacuer;L23;1761;980;2;20\\n',\n",
       " u'\\xe9vacuais;\\xe8vaky\\xe8;z\";V;1S;ii;\\xe9vacuer;L23;1761;980;0;7\\n',\n",
       " u'\\xe9vacuais;\\xe8vaky\\xe8;z\";V;2S;ii;\\xe9vacuer;L23;1761;980;***;***\\n',\n",
       " u'\\xe9vacuait;\\xe8vaky\\xe8;t\";V;3S;ii;\\xe9vacuer;L23;1761;980;4;61\\n',\n",
       " u'\\xe9vacuant;\\xe8vaky\\xe2;t\";V;;pP;\\xe9vacuer;L23;1761;980;4;7\\n',\n",
       " u'\\xe9vacuas;\\xe8vakya;z\";V;2S;ai;\\xe9vacuer;L23;1761;980;***;***\\n',\n",
       " u'\\xe9vacuasse;\\xe8vakyas;@;V;1S;is;\\xe9vacuer;L23;1761;980;***;***\\n',\n",
       " u'\\xe9vacuassent;\\xe8vakyas;@t\";V;3P;is;\\xe9vacuer;L23;1761;980;***;***\\n',\n",
       " u'\\xe9vacuasses;\\xe8vakyas;@;V;2S;is;\\xe9vacuer;L23;1761;980;***;***\\n',\n",
       " u'\\xe9vacuassiez;\\xe8vakyasje;z\";V;2P;is;\\xe9vacuer;L23;1761;980;***;***\\n',\n",
       " u'\\xe9vacuassions;\\xe8vakyasj\\xf4;z\";V;1P;is;\\xe9vacuer;L23;1761;980;***;***\\n',\n",
       " u'\\xe9vacuateur;\\xe8vakyat9r;;M;MS;;\\xe9vacuateur;;***;***;***;***\\n',\n",
       " u'\\xe9vacuateurs;\\xe8vakyat9r;z\";M;MP;;\\xe9vacuateur;;***;***;***;***\\n',\n",
       " u'\\xe9vacuation;\\xe8vakyasj\\xf4;;N;FS;;\\xe9vacuation;;630;338;608;324\\n',\n",
       " u'\\xe9vacuations;\\xe8vakyasj\\xf4;z\";N;FP;;\\xe9vacuation;;630;338;22;14\\n',\n",
       " u'\\xe9vacuatrice;\\xe8vakyatris;@;M;FS;;\\xe9vacuateur;;***;***;***;***\\n',\n",
       " u'\\xe9vacuatrices;\\xe8vakyatris;@z\";M;FP;;\\xe9vacuateur;;***;***;***;***\\n',\n",
       " u'\\xe9vacue;\\xe8vaky;;V;1S;pi;\\xe9vacuer;L23;1761;980;65;29\\n',\n",
       " u'\\xe9vacue;\\xe8vaky;;V;1S;ps;\\xe9vacuer;L23;1761;980;***;***\\n',\n",
       " u'\\xe9vacue;\\xe8vaky;;V;2S;pI;\\xe9vacuer;L23;1761;980;65;29\\n',\n",
       " u'\\xe9vacue;\\xe8vaky;;V;3S;pi;\\xe9vacuer;L23;1761;980;65;29\\n',\n",
       " u'\\xe9vacue;\\xe8vaky;;V;3S;ps;\\xe9vacuer;L23;1761;980;***;***\\n']"
      ]
     },
     "execution_count": 50,
     "metadata": {},
     "output_type": "execute_result"
    }
   ],
   "source": [
    "resync[436300:436400]"
   ]
  }
 ],
 "metadata": {
  "kernelspec": {
   "display_name": "Python 2",
   "language": "python",
   "name": "python2"
  },
  "language_info": {
   "codemirror_mode": {
    "name": "ipython",
    "version": 2
   },
   "file_extension": ".py",
   "mimetype": "text/x-python",
   "name": "python",
   "nbconvert_exporter": "python",
   "pygments_lexer": "ipython2",
   "version": "2.7.11"
  }
 },
 "nbformat": 4,
 "nbformat_minor": 0
}
