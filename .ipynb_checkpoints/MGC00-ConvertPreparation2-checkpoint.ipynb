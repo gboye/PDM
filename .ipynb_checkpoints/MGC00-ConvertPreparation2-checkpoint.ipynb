{
 "cells": [
  {
   "cell_type": "code",
   "execution_count": 2,
   "metadata": {
    "collapsed": true
   },
   "outputs": [],
   "source": [
    "# -*- coding: utf8 -*-"
   ]
  },
  {
   "cell_type": "markdown",
   "metadata": {},
   "source": [
    "## Importations\n",
    "- codecs pour les encodages\n",
    "- pandas et numpy pour les calculs sur tableaux\n",
    "- matplotlib pour les graphiques\n",
    "- itertools pour les itérateurs sophistiqués (paires sur liste, ...)"
   ]
  },
  {
   "cell_type": "code",
   "execution_count": 6,
   "metadata": {
    "collapsed": true
   },
   "outputs": [],
   "source": [
    "import pandas as pd\n",
    "import pickle\n",
    "import random as rd\n",
    "import itertools as it\n",
    "import numpy as np"
   ]
  },
  {
   "cell_type": "markdown",
   "metadata": {},
   "source": [
    "# Préparation du tableau de tirage des Dérivés"
   ]
  },
  {
   "cell_type": "code",
   "execution_count": 26,
   "metadata": {
    "collapsed": false
   },
   "outputs": [],
   "source": [
    "with open(\"2015-Data/MGC-160104-DerivesComplets.pkl\",\"rb\") as input:\n",
    "    baseDerives=pickle.load(input)\n",
    "baseDerives.rename(columns={\"FS\":\"Lex-FS\",\"FP\":\"Lex-FP\",\"base\":\"lexeme\"},inplace=True)"
   ]
  },
  {
   "cell_type": "code",
   "execution_count": 27,
   "metadata": {
    "collapsed": false
   },
   "outputs": [],
   "source": [
    "indexDerives=list(it.product(range(len(baseDerives)),[\"FS\",\"FP\"]))\n",
    "indexTirage=rd.sample(indexDerives,150)"
   ]
  },
  {
   "cell_type": "code",
   "execution_count": 28,
   "metadata": {
    "collapsed": true
   },
   "outputs": [],
   "source": [
    "for (num,case) in indexTirage:\n",
    "    baseDerives.loc[num,case]=baseDerives.loc[num,\"Lex-\"+case]"
   ]
  },
  {
   "cell_type": "code",
   "execution_count": 29,
   "metadata": {
    "collapsed": false
   },
   "outputs": [],
   "source": [
    "extrait=baseDerives[~((baseDerives[\"FS\"].isnull())&(baseDerives[\"FP\"].isnull()))]"
   ]
  },
  {
   "cell_type": "code",
   "execution_count": 30,
   "metadata": {
    "collapsed": true
   },
   "outputs": [],
   "source": [
    "with open(\"2015-Data/MGC-160215-DerivesExtraits.pkl\", \"wb\") as output:\n",
    "   pickle.dump(extrait, output, pickle.HIGHEST_PROTOCOL)"
   ]
  },
  {
   "cell_type": "code",
   "execution_count": 32,
   "metadata": {
    "collapsed": false
   },
   "outputs": [],
   "source": [
    "extrait[[\"lexeme\",\"FS\",\"FP\"]].to_csv(path_or_buf=\"2015-Data/MGC-160215-DerivesExtraits.csv\",encoding=\"utf8\",sep=\";\")"
   ]
  }
 ],
 "metadata": {
  "kernelspec": {
   "display_name": "Python 2",
   "language": "python",
   "name": "python2"
  },
  "language_info": {
   "codemirror_mode": {
    "name": "ipython",
    "version": 2
   },
   "file_extension": ".py",
   "mimetype": "text/x-python",
   "name": "python",
   "nbconvert_exporter": "python",
   "pygments_lexer": "ipython2",
   "version": "2.7.11"
  }
 },
 "nbformat": 4,
 "nbformat_minor": 0
}
