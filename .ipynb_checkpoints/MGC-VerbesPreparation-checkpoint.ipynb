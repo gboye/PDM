{
 "cells": [
  {
   "cell_type": "markdown",
   "metadata": {},
   "source": [
    "typeEchantillon : \n",
    "- fixe pour utiliser tailleEchantillon\n",
    "- variable pour utiliser nombre,increment,nombreInitial\n",
    "- total pour utiliser tout le lexique"
   ]
  },
  {
   "cell_type": "code",
   "execution_count": 1,
   "metadata": {
    "collapsed": false
   },
   "outputs": [],
   "source": [
    "typeEchantillon=\"fixe\"\n",
    "tailleEchantillon=30000\n",
    "nombre=1000\n",
    "increment=250\n",
    "nombreInitial=20\n",
    "freqForme=1000000"
   ]
  },
  {
   "cell_type": "code",
   "execution_count": 2,
   "metadata": {
    "collapsed": false
   },
   "outputs": [],
   "source": [
    "filePrefix=\"MGC-150809\""
   ]
  },
  {
   "cell_type": "markdown",
   "metadata": {},
   "source": [
    "##Importations\n",
    "- codecs pour les encodages\n",
    "- pandas et numpy pour les calculs sur tableaux\n",
    "- matplotlib pour les graphiques\n",
    "- itertools pour les itérateurs sophistiqués (paires sur liste, ...)"
   ]
  },
  {
   "cell_type": "code",
   "execution_count": 3,
   "metadata": {
    "collapsed": true
   },
   "outputs": [],
   "source": [
    "# -*- coding: utf8 -*-\n",
    "import codecs\n",
    "import features\n",
    "import re\n",
    "import pandas as pd\n",
    "import numpy as np\n",
    "import matplotlib.pyplot as plt\n",
    "import itertools as it\n",
    "import pickle\n",
    "import datetime"
   ]
  },
  {
   "cell_type": "code",
   "execution_count": 4,
   "metadata": {
    "collapsed": false
   },
   "outputs": [],
   "source": [
    "def dateheure():\n",
    "    return datetime.datetime.utcnow().strftime('%y%m%d%H%M')"
   ]
  },
  {
   "cell_type": "code",
   "execution_count": 5,
   "metadata": {
    "collapsed": false
   },
   "outputs": [],
   "source": [
    "#%pylab inline\n",
    "#pd.options.display.mpl_style = 'default'\n",
    "debug=False"
   ]
  },
  {
   "cell_type": "markdown",
   "metadata": {},
   "source": [
    "###Préparation des matrices de traits"
   ]
  },
  {
   "cell_type": "code",
   "execution_count": 42,
   "metadata": {
    "collapsed": false
   },
   "outputs": [],
   "source": [
    "features.add_config('bdlexique.ini')\n",
    "fs=features.FeatureSystem('phonemes')\n",
    "#fs.supremum.concept.extent"
   ]
  },
  {
   "cell_type": "code",
   "execution_count": 43,
   "metadata": {
    "collapsed": false
   },
   "outputs": [],
   "source": [
    "bdlexiqueIn = unicode(u\"èò\")\n",
    "bdlexiqueNum = [ord(char) for char in bdlexiqueIn]\n",
    "neutreOut = unicode(u\"EO\")\n",
    "neutralise = dict(zip(bdlexiqueNum, neutreOut))"
   ]
  },
  {
   "cell_type": "code",
   "execution_count": 44,
   "metadata": {
    "collapsed": false
   },
   "outputs": [],
   "source": [
    "def recoder(chaine,table=neutralise):\n",
    "    if type(chaine)==str:\n",
    "        temp=unicode(chaine.decode('utf8')).translate(table)\n",
    "        result=temp.encode('utf8')\n",
    "    elif type(chaine)==unicode:\n",
    "        result=chaine.translate(table)\n",
    "    return result"
   ]
  },
  {
   "cell_type": "markdown",
   "metadata": {},
   "source": [
    "#Préparation du tableau de VERBES"
   ]
  },
  {
   "cell_type": "markdown",
   "metadata": {},
   "source": [
    "###Lecture du lexique\n",
    "- nomLexique pour le fichier\n",
    "- names pour les noms de colonnes\n",
    "- élimination des lignes dupliquées éventuelles (p.e. dépendre)"
   ]
  },
  {
   "cell_type": "code",
   "execution_count": 45,
   "metadata": {
    "collapsed": false
   },
   "outputs": [],
   "source": [
    "nomLexique=\"/Users/gilles/Copy/Python/phonemisation/bdlexique-PDM-Resync.txt\"\n",
    "bdlexique=pd.read_csv(nomLexique,sep=\";\",names=[\"ortho\",\"phono\",\"ext\",\"cs\",\"ms\",\"vs\",\"lexeme\",\"L23\",\"lemmeFrantext\",\"lemmeFilms\",\"formeFrantext\",\"formeFilms\"],encoding=\"utf8\")\n",
    "bdlexique.loc[(bdlexique[\"ms\"]==\"ij\")&(bdlexique[\"cs\"].isin([\"V\",\"K\"])),\"ms\"]=\"MS\"\n",
    "bdlexique.drop_duplicates(inplace=True,subset=[\"phono\",\"ext\",\"cs\",\"ms\",\"vs\",\"lexeme\",\"lemmeFrantext\",\"lemmeFilms\",\"formeFrantext\",\"formeFilms\"])"
   ]
  },
  {
   "cell_type": "markdown",
   "metadata": {},
   "source": [
    "###Définition des cases\n",
    "- principales pour le paradigme courant\n",
    "- secondaires pour les cases rares\n",
    "- totales pour le tout"
   ]
  },
  {
   "cell_type": "code",
   "execution_count": 46,
   "metadata": {
    "collapsed": false
   },
   "outputs": [],
   "source": [
    "casesPrincipales= [\n",
    "        'inf', 'pi1S', 'pi2S', 'pi3S', 'pi1P', 'pi2P', 'pi3P', 'ii1S',\n",
    "        'ii2S', 'ii3S', 'ii1P', 'ii2P', 'ii3P', \n",
    "        'fi1S', 'fi2S', 'fi3S', 'fi1P', 'fi2P',\n",
    "        'fi3P', 'pI2S', 'pI1P', 'pI2P', 'ps1S', 'ps2S', 'ps3S', 'ps1P',\n",
    "        'ps2P', 'ps3P', \n",
    "        'pc1S', 'pc2S', 'pc3S', 'pc1P', 'pc2P', 'pc3P', 'pP',\n",
    "        'ppMS', 'ppMP', 'ppFS', 'ppFP'\n",
    "            ]\n",
    "casesSecondaires= [\n",
    "       'ai1S', 'ai2S', 'ai3S', 'ai1P', 'ai2P', 'ai3P', 'is1S', 'is2S', 'is3S', 'is1P', 'is2P', 'is3P'\n",
    "            ]\n",
    "casesTotales=casesPrincipales+casesSecondaires\n",
    "listeCases=casesTotales"
   ]
  },
  {
   "cell_type": "markdown",
   "metadata": {},
   "source": [
    "###Création de la colonne de fréquence *freq*\n",
    "- fréquence forme : 1000000x(formeFrantext+formeFilms)\n",
    "- fréquence lexeme : lemmeFrantext+lemmeFilms\n",
    "- fréquence inexistante : .01"
   ]
  },
  {
   "cell_type": "code",
   "execution_count": 47,
   "metadata": {
    "collapsed": false
   },
   "outputs": [],
   "source": [
    "bdlexique[\"freq\"]=1.0/100\n",
    "filtreLFrantext=(bdlexique[\"lemmeFrantext\"]!=\"***\") \n",
    "filtreLFilms=(bdlexique[\"lemmeFilms\"]!=\"***\")\n",
    "filtreFFrantext=(bdlexique[\"formeFrantext\"]!=\"***\") \n",
    "filtreFFilms=(bdlexique[\"formeFilms\"]!=\"***\")\n",
    "bdlexique.loc[filtreLFrantext|filtreLFilms,\"freq\"]=bdlexique[filtreLFrantext][\"lemmeFrantext\"].astype(float)+bdlexique[filtreLFilms][\"lemmeFilms\"].astype(float)\n",
    "bdlexique.loc[filtreFFrantext | filtreFFrantext,\"freq\"]=bdlexique[filtreFFrantext][\"formeFrantext\"].astype(float)*freqForme+bdlexique[filtreFFilms][\"formeFilms\"].astype(float)*freqForme"
   ]
  },
  {
   "cell_type": "markdown",
   "metadata": {},
   "source": [
    "###Elimination des colonnes inutiles\n",
    "- indicateur L23\n",
    "- fréquences brutes"
   ]
  },
  {
   "cell_type": "code",
   "execution_count": 48,
   "metadata": {
    "collapsed": false
   },
   "outputs": [],
   "source": [
    "inutilesColonnes=[\"L23\",\"lemmeFrantext\",\"lemmeFilms\",\"formeFrantext\",\"formeFilms\"]\n",
    "for colonne in inutilesColonnes:\n",
    "    del bdlexique[colonne]"
   ]
  },
  {
   "cell_type": "markdown",
   "metadata": {},
   "source": [
    "###Extraction des formes verbales dans une structure *verbes*"
   ]
  },
  {
   "cell_type": "code",
   "execution_count": 49,
   "metadata": {
    "collapsed": false
   },
   "outputs": [],
   "source": [
    "verbes=bdlexique[bdlexique[\"cs\"].isin([\"V\",\"K\"])].copy()"
   ]
  },
  {
   "cell_type": "code",
   "execution_count": 26,
   "metadata": {
    "collapsed": false
   },
   "outputs": [
    {
     "data": {
      "text/html": [
       "<div>\n",
       "<table border=\"1\" class=\"dataframe\">\n",
       "  <thead>\n",
       "    <tr style=\"text-align: right;\">\n",
       "      <th></th>\n",
       "      <th>ortho</th>\n",
       "      <th>phono</th>\n",
       "      <th>ext</th>\n",
       "      <th>cs</th>\n",
       "      <th>ms</th>\n",
       "      <th>vs</th>\n",
       "      <th>lexeme</th>\n",
       "      <th>freq</th>\n",
       "    </tr>\n",
       "  </thead>\n",
       "  <tbody>\n",
       "    <tr>\n",
       "      <th>133628</th>\n",
       "      <td>dépendu</td>\n",
       "      <td>dEpâdy</td>\n",
       "      <td>NaN</td>\n",
       "      <td>K</td>\n",
       "      <td>MS</td>\n",
       "      <td>NaN</td>\n",
       "      <td>dépendre</td>\n",
       "      <td>9682</td>\n",
       "    </tr>\n",
       "    <tr>\n",
       "      <th>133630</th>\n",
       "      <td>dépendue</td>\n",
       "      <td>dEpâdy</td>\n",
       "      <td>NaN</td>\n",
       "      <td>K</td>\n",
       "      <td>FS</td>\n",
       "      <td>NaN</td>\n",
       "      <td>dépendre</td>\n",
       "      <td>9682</td>\n",
       "    </tr>\n",
       "    <tr>\n",
       "      <th>133631</th>\n",
       "      <td>dépendues</td>\n",
       "      <td>dEpâdy</td>\n",
       "      <td>z\"</td>\n",
       "      <td>K</td>\n",
       "      <td>FP</td>\n",
       "      <td>NaN</td>\n",
       "      <td>dépendre</td>\n",
       "      <td>9682</td>\n",
       "    </tr>\n",
       "    <tr>\n",
       "      <th>133632</th>\n",
       "      <td>dépendus</td>\n",
       "      <td>dEpâdy</td>\n",
       "      <td>z\"</td>\n",
       "      <td>K</td>\n",
       "      <td>MP</td>\n",
       "      <td>NaN</td>\n",
       "      <td>dépendre</td>\n",
       "      <td>9682</td>\n",
       "    </tr>\n",
       "  </tbody>\n",
       "</table>\n",
       "</div>"
      ],
      "text/plain": [
       "            ortho   phono  ext cs  ms   vs    lexeme  freq\n",
       "133628    dépendu  dEpâdy  NaN  K  MS  NaN  dépendre  9682\n",
       "133630   dépendue  dEpâdy  NaN  K  FS  NaN  dépendre  9682\n",
       "133631  dépendues  dEpâdy   z\"  K  FP  NaN  dépendre  9682\n",
       "133632   dépendus  dEpâdy   z\"  K  MP  NaN  dépendre  9682"
      ]
     },
     "execution_count": 26,
     "metadata": {},
     "output_type": "execute_result"
    }
   ],
   "source": [
    "verbes[\"phono\"]=verbes[\"phono\"].apply(lambda x: recoder(x))\n",
    "verbes[(verbes[\"cs\"]==\"K\") & (verbes[\"lexeme\"]==u\"dépendre\")]"
   ]
  },
  {
   "cell_type": "code",
   "execution_count": 27,
   "metadata": {
    "collapsed": true
   },
   "outputs": [],
   "source": [
    "verbes.loc[verbes[\"ms\"]==\"ij\",\"ms\"]=\"MS\""
   ]
  },
  {
   "cell_type": "code",
   "execution_count": 28,
   "metadata": {
    "collapsed": false
   },
   "outputs": [
    {
     "data": {
      "text/html": [
       "<div>\n",
       "<table border=\"1\" class=\"dataframe\">\n",
       "  <thead>\n",
       "    <tr style=\"text-align: right;\">\n",
       "      <th></th>\n",
       "      <th>ortho</th>\n",
       "      <th>phono</th>\n",
       "      <th>ext</th>\n",
       "      <th>cs</th>\n",
       "      <th>ms</th>\n",
       "      <th>vs</th>\n",
       "      <th>lexeme</th>\n",
       "      <th>freq</th>\n",
       "    </tr>\n",
       "  </thead>\n",
       "  <tbody>\n",
       "    <tr>\n",
       "      <th>133628</th>\n",
       "      <td>dépendu</td>\n",
       "      <td>dEpâdy</td>\n",
       "      <td>NaN</td>\n",
       "      <td>K</td>\n",
       "      <td>MS</td>\n",
       "      <td>NaN</td>\n",
       "      <td>dépendre</td>\n",
       "      <td>9682</td>\n",
       "    </tr>\n",
       "    <tr>\n",
       "      <th>133630</th>\n",
       "      <td>dépendue</td>\n",
       "      <td>dEpâdy</td>\n",
       "      <td>NaN</td>\n",
       "      <td>K</td>\n",
       "      <td>FS</td>\n",
       "      <td>NaN</td>\n",
       "      <td>dépendre</td>\n",
       "      <td>9682</td>\n",
       "    </tr>\n",
       "    <tr>\n",
       "      <th>133631</th>\n",
       "      <td>dépendues</td>\n",
       "      <td>dEpâdy</td>\n",
       "      <td>z\"</td>\n",
       "      <td>K</td>\n",
       "      <td>FP</td>\n",
       "      <td>NaN</td>\n",
       "      <td>dépendre</td>\n",
       "      <td>9682</td>\n",
       "    </tr>\n",
       "    <tr>\n",
       "      <th>133632</th>\n",
       "      <td>dépendus</td>\n",
       "      <td>dEpâdy</td>\n",
       "      <td>z\"</td>\n",
       "      <td>K</td>\n",
       "      <td>MP</td>\n",
       "      <td>NaN</td>\n",
       "      <td>dépendre</td>\n",
       "      <td>9682</td>\n",
       "    </tr>\n",
       "  </tbody>\n",
       "</table>\n",
       "</div>"
      ],
      "text/plain": [
       "            ortho   phono  ext cs  ms   vs    lexeme  freq\n",
       "133628    dépendu  dEpâdy  NaN  K  MS  NaN  dépendre  9682\n",
       "133630   dépendue  dEpâdy  NaN  K  FS  NaN  dépendre  9682\n",
       "133631  dépendues  dEpâdy   z\"  K  FP  NaN  dépendre  9682\n",
       "133632   dépendus  dEpâdy   z\"  K  MP  NaN  dépendre  9682"
      ]
     },
     "execution_count": 28,
     "metadata": {},
     "output_type": "execute_result"
    }
   ],
   "source": [
    "verbes[(verbes[\"cs\"]==\"K\") & (verbes[\"lexeme\"]==u\"dépendre\")]"
   ]
  },
  {
   "cell_type": "markdown",
   "metadata": {},
   "source": [
    "###Ajout d'une colonne *prob* pour la fréquence relative"
   ]
  },
  {
   "cell_type": "code",
   "execution_count": 29,
   "metadata": {
    "collapsed": false
   },
   "outputs": [],
   "source": [
    "verbes[\"prob\"]=verbes[\"freq\"]/verbes[\"freq\"].sum()"
   ]
  },
  {
   "cell_type": "markdown",
   "metadata": {},
   "source": [
    "###Ajout d'une colonne *case*\n",
    "- remplir les *ms* vides pour permettre la concaténation sans erreur\n",
    "- remplir les *vs* vides des participes passés par \"pp\" pour permettre l'identification de la case\n",
    "- *case* est la concaténation de *vs* et *ms*"
   ]
  },
  {
   "cell_type": "code",
   "execution_count": 30,
   "metadata": {
    "collapsed": false
   },
   "outputs": [],
   "source": [
    "verbes[\"ms\"]=verbes[\"ms\"].fillna(\"\")\n",
    "verbes[\"vs\"]=verbes[\"vs\"].fillna(\"pp\")\n",
    "verbes[\"case\"]=verbes[\"vs\"]+verbes[\"ms\"]"
   ]
  },
  {
   "cell_type": "markdown",
   "metadata": {},
   "source": [
    "#Echantillonage"
   ]
  },
  {
   "cell_type": "markdown",
   "metadata": {},
   "source": [
    "##Assembler les échantillons correspondant à une étape n"
   ]
  },
  {
   "cell_type": "code",
   "execution_count": 31,
   "metadata": {
    "collapsed": false
   },
   "outputs": [],
   "source": [
    "def assemblerExtrait(nombre):\n",
    "    return verbes.ix[np.sort(np.concatenate(tirages[0:nombre]))]"
   ]
  },
  {
   "cell_type": "markdown",
   "metadata": {},
   "source": [
    "###Tirage incrémental des formes disponibles\n",
    "- increment : taille de chaque tirage\n",
    "- nombre : nombre de tirages\n",
    "\n",
    "np.random.choice donne une liste d'index de formes tirées dans l'ordre du tirage\n",
    "\n",
    "on découpe la liste en morceaux de la taille de l'incrément"
   ]
  },
  {
   "cell_type": "code",
   "execution_count": 32,
   "metadata": {
    "collapsed": false
   },
   "outputs": [],
   "source": [
    "if typeEchantillon==\"variable\":\n",
    "    tirage=np.random.choice(verbes.index,size=nombre*increment,p=verbes[\"prob\"],replace=False)\n",
    "    tirages=[tirage[increment*x:increment*(x+1)] for x in range(len(tirage)/increment+(len(tirage)%increment!=0))]\n",
    "    extrait=assemblerExtrait(nombreInitial)\n",
    "elif typeEchantillon==\"fixe\":\n",
    "    tirage=np.random.choice(verbes.index,size=tailleEchantillon,p=verbes[\"prob\"],replace=False)\n",
    "    extrait=verbes.ix[np.sort(tirage)]\n",
    "elif typeEchantillon==\"total\":\n",
    "    extrait=verbes"
   ]
  },
  {
   "cell_type": "code",
   "execution_count": 33,
   "metadata": {
    "collapsed": false
   },
   "outputs": [],
   "source": [
    "#extrait=assemblerExtrait(nEchantillons)"
   ]
  },
  {
   "cell_type": "code",
   "execution_count": 34,
   "metadata": {
    "collapsed": true
   },
   "outputs": [],
   "source": [
    "paradigmes=pd.pivot_table(extrait, values='phono', index=['lexeme'], columns=['case'], aggfunc=lambda x: \",\".join(x)).reset_index().reindex()"
   ]
  },
  {
   "cell_type": "code",
   "execution_count": 67,
   "metadata": {
    "collapsed": false
   },
   "outputs": [],
   "source": [
    "paradigmes.to_csv(path_or_buf=filePrefix+typeEchantillon+\"-paradigmes.csv\",encoding=\"utf8\",sep=\";\")"
   ]
  },
  {
   "cell_type": "code",
   "execution_count": null,
   "metadata": {
    "collapsed": true
   },
   "outputs": [],
   "source": []
  }
 ],
 "metadata": {
  "kernelspec": {
   "display_name": "Python 2",
   "language": "python",
   "name": "python2"
  },
  "language_info": {
   "codemirror_mode": {
    "name": "ipython",
    "version": 2
   },
   "file_extension": ".py",
   "mimetype": "text/x-python",
   "name": "python",
   "nbconvert_exporter": "python",
   "pygments_lexer": "ipython2",
   "version": "2.7.10"
  }
 },
 "nbformat": 4,
 "nbformat_minor": 0
}
