{
 "metadata": {
  "name": "",
  "signature": "sha256:cf4f91581e94b0ea557ee4c8875495dcfa9ee5c825f42f1c7c80ff8da3a89184"
 },
 "nbformat": 3,
 "nbformat_minor": 0,
 "worksheets": [
  {
   "cells": [
    {
     "cell_type": "code",
     "collapsed": false,
     "input": [
      "import features, re"
     ],
     "language": "python",
     "metadata": {},
     "outputs": [],
     "prompt_number": 1
    },
    {
     "cell_type": "code",
     "collapsed": false,
     "input": [
      "features.add_config('bdlexique.ini')\n",
      "fs=features.FeatureSystem('phonemes')"
     ],
     "language": "python",
     "metadata": {},
     "outputs": [],
     "prompt_number": 2
    },
    {
     "cell_type": "code",
     "collapsed": false,
     "input": [
      "print fs.context.properties\n",
      "print fs.context.objects"
     ],
     "language": "python",
     "metadata": {},
     "outputs": [
      {
       "output_type": "stream",
       "stream": "stdout",
       "text": [
        "(u'+son', u'-son', u'+syl', u'-syl', u'+cons', u'-cons', u'+ant', u'-ant', u'+cor', u'-cor', u'+back', u'-back', u'+high', u'-high', u'+low', u'-low', u'+round', u'-round', u'+ATR', u'-ATR', u'+nas', u'-nas', u'+lat', u'-lat', u'+cont', u'-cont', u'+voice', u'-voice', u'+strid', u'-strid')\n",
        "(u'p', u't', u'k', u'b', u'd', u'g', u'f', u's', u'S', u'v', u'z', u'Z', u'm', u'n', u'J', u'j', u'l', u'r', u'w', u'H', u'i', u'y', u'E', u'e', u'9', u'2', u'6', u'a', u'u', u'O', u'o', u'\\xea', u'\\xfb', u'\\xe2', u'\\xf4')\n"
       ]
      }
     ],
     "prompt_number": 3
    },
    {
     "cell_type": "code",
     "collapsed": false,
     "input": [
      "def classeNaturelle(liste):\n",
      "    return list(fs.context.extension(fs.context.intension(liste)))"
     ],
     "language": "python",
     "metadata": {},
     "outputs": [],
     "prompt_number": 4
    },
    {
     "cell_type": "code",
     "collapsed": false,
     "input": [
      "paires=[(u\"sul6vj\u00f4\",u\"sulEv\"),(u\"s6mj\u00f4\",u\"sEm\"),(u\"dep6sj\u00f4\",u\"depEs\"),(u\"lavj\u00f4\",u\"lav\"),(u\"p\u00e2sj\u00f4\",u\"p\u00e2s\")]"
     ],
     "language": "python",
     "metadata": {},
     "outputs": [],
     "prompt_number": 12
    },
    {
     "cell_type": "code",
     "collapsed": false,
     "input": [
      "for index, lettre in enumerate(mot1):\n",
      "    if index < len(mot2):\n",
      "        if lettre!=mot2[index]:\n",
      "            liste=[lettre,mot2[index]]\n",
      "            print fs.context.intension(liste)\n",
      "            print classeNaturelle(liste)\n",
      "        else:\n",
      "            print lettre\n",
      "    else:\n",
      "        print lettre"
     ],
     "language": "python",
     "metadata": {},
     "outputs": [
      {
       "ename": "NameError",
       "evalue": "name 'mot1' is not defined",
       "output_type": "pyerr",
       "traceback": [
        "\u001b[0;31m---------------------------------------------------------------------------\u001b[0m\n\u001b[0;31mNameError\u001b[0m                                 Traceback (most recent call last)",
        "\u001b[0;32m<ipython-input-6-35df53e5837f>\u001b[0m in \u001b[0;36m<module>\u001b[0;34m()\u001b[0m\n\u001b[0;32m----> 1\u001b[0;31m \u001b[0;32mfor\u001b[0m \u001b[0mindex\u001b[0m\u001b[0;34m,\u001b[0m \u001b[0mlettre\u001b[0m \u001b[0;32min\u001b[0m \u001b[0menumerate\u001b[0m\u001b[0;34m(\u001b[0m\u001b[0mmot1\u001b[0m\u001b[0;34m)\u001b[0m\u001b[0;34m:\u001b[0m\u001b[0;34m\u001b[0m\u001b[0m\n\u001b[0m\u001b[1;32m      2\u001b[0m     \u001b[0;32mif\u001b[0m \u001b[0mindex\u001b[0m \u001b[0;34m<\u001b[0m \u001b[0mlen\u001b[0m\u001b[0;34m(\u001b[0m\u001b[0mmot2\u001b[0m\u001b[0;34m)\u001b[0m\u001b[0;34m:\u001b[0m\u001b[0;34m\u001b[0m\u001b[0m\n\u001b[1;32m      3\u001b[0m         \u001b[0;32mif\u001b[0m \u001b[0mlettre\u001b[0m\u001b[0;34m!=\u001b[0m\u001b[0mmot2\u001b[0m\u001b[0;34m[\u001b[0m\u001b[0mindex\u001b[0m\u001b[0;34m]\u001b[0m\u001b[0;34m:\u001b[0m\u001b[0;34m\u001b[0m\u001b[0m\n\u001b[1;32m      4\u001b[0m             \u001b[0mliste\u001b[0m\u001b[0;34m=\u001b[0m\u001b[0;34m[\u001b[0m\u001b[0mlettre\u001b[0m\u001b[0;34m,\u001b[0m\u001b[0mmot2\u001b[0m\u001b[0;34m[\u001b[0m\u001b[0mindex\u001b[0m\u001b[0;34m]\u001b[0m\u001b[0;34m]\u001b[0m\u001b[0;34m\u001b[0m\u001b[0m\n\u001b[1;32m      5\u001b[0m             \u001b[0;32mprint\u001b[0m \u001b[0mfs\u001b[0m\u001b[0;34m.\u001b[0m\u001b[0mcontext\u001b[0m\u001b[0;34m.\u001b[0m\u001b[0mintension\u001b[0m\u001b[0;34m(\u001b[0m\u001b[0mliste\u001b[0m\u001b[0;34m)\u001b[0m\u001b[0;34m\u001b[0m\u001b[0m\n",
        "\u001b[0;31mNameError\u001b[0m: name 'mot1' is not defined"
       ]
      }
     ],
     "prompt_number": 6
    },
    {
     "cell_type": "code",
     "collapsed": false,
     "input": [
      "def diff(mot1,mot2):\n",
      "    result=[]\n",
      "    diff1=\"\"\n",
      "    diff2=\"\"\n",
      "    same=\"\"\n",
      "    vide=\".\"\n",
      "    lmax=max(len(mot1),len(mot2))\n",
      "    lmin=min(len(mot1),len(mot2))\n",
      "    for index in range(lmax):\n",
      "        if index < lmin:\n",
      "            if mot1[index]!=mot2[index]:\n",
      "                diff1+=mot1[index]\n",
      "                diff2+=mot2[index]\n",
      "                same+=vide\n",
      "            else:\n",
      "                same+=mot1[index]\n",
      "                diff1+=vide\n",
      "                diff2+=vide\n",
      "        elif index < len(mot1):\n",
      "            diff1+=mot1[index]\n",
      "        elif index < len(mot2):\n",
      "            diff2+=mot2[index]\n",
      "    diff1=diff1.lstrip(\".\")\n",
      "    diff2=diff2.lstrip(\".\")\n",
      "    return (same,diff1,diff2,diff1+\"_\"+diff2)\n"
     ],
     "language": "python",
     "metadata": {},
     "outputs": [],
     "prompt_number": 7
    },
    {
     "cell_type": "code",
     "collapsed": false,
     "input": [
      "#%%timeit\n",
      "patrons={}\n",
      "for paire in paires:\n",
      "    (mot1,mot2)=paire\n",
      "    (same, diff1, diff2, patron)=diff(mot1,mot2)\n",
      "    if not patron in patrons:\n",
      "        patrons[patron]=[]\n",
      "    patrons[patron].append(same)"
     ],
     "language": "python",
     "metadata": {},
     "outputs": [],
     "prompt_number": 10
    },
    {
     "cell_type": "code",
     "collapsed": false,
     "input": [
      "sames=patrons[u'6.j\\xf4_E.']\n",
      "sames"
     ],
     "language": "python",
     "metadata": {},
     "outputs": [
      {
       "metadata": {},
       "output_type": "pyout",
       "prompt_number": 11,
       "text": [
        "[u'sul.v', u's.m', u'dep.s']"
       ]
      }
     ],
     "prompt_number": 11
    },
    {
     "cell_type": "code",
     "collapsed": false,
     "input": [
      "fs.lattice[[x[-1] for x in sames]].extent"
     ],
     "language": "python",
     "metadata": {},
     "outputs": [
      {
       "metadata": {},
       "output_type": "pyout",
       "prompt_number": 12,
       "text": [
        "(u'p', u't', u'b', u'd', u'f', u's', u'v', u'z', u'm', u'n')"
       ]
      }
     ],
     "prompt_number": 12
    },
    {
     "cell_type": "code",
     "collapsed": false,
     "input": [
      "fs.lattice[['m', 'v', 't','a']].intent"
     ],
     "language": "python",
     "metadata": {},
     "outputs": [
      {
       "metadata": {},
       "output_type": "pyout",
       "prompt_number": 13,
       "text": [
        "(u'-back', u'-high', u'-round', u'-ATR', u'-lat')"
       ]
      }
     ],
     "prompt_number": 13
    },
    {
     "cell_type": "markdown",
     "metadata": {},
     "source": [
      "###Embryon de classe pour calculer les patrons"
     ]
    },
    {
     "cell_type": "code",
     "collapsed": false,
     "input": [
      "def diff(mot1,mot2):\n",
      "    result=[]\n",
      "    diff1=\"\"\n",
      "    diff2=\"\"\n",
      "    same=\"\"\n",
      "    vide=\".\"\n",
      "    lmax=max(len(mot1),len(mot2))\n",
      "    lmin=min(len(mot1),len(mot2))\n",
      "    for index in range(lmax):\n",
      "        if index < lmin:\n",
      "            if mot1[index]!=mot2[index]:\n",
      "                diff1+=mot1[index]\n",
      "                diff2+=mot2[index]\n",
      "                same+=vide\n",
      "            else:\n",
      "                same+=mot1[index]\n",
      "                diff1+=vide\n",
      "                diff2+=vide\n",
      "        elif index < len(mot1):\n",
      "            diff1+=mot1[index]\n",
      "        elif index < len(mot2):\n",
      "            diff2+=mot2[index]\n",
      "    diff1=diff1.lstrip(\".\")\n",
      "    diff2=diff2.lstrip(\".\")\n",
      "    return (diff1+\"-\"+diff2)"
     ],
     "language": "python",
     "metadata": {},
     "outputs": [],
     "prompt_number": 14
    },
    {
     "cell_type": "code",
     "collapsed": false,
     "input": [
      "class formesPatron:\n",
      "    '''\n",
      "    Accumulateur de formes correspondant \u00e0 un patron pour calcul de la G\u00e9n\u00e9ralisation Minimale (cf. MGL)\n",
      "    '''\n",
      "    def __init__(self):\n",
      "        self.formes=[]\n",
      "\n",
      "#    def __repr__(self):\n",
      "#        return ','.join(self.calculerGM())\n",
      "        \n",
      "    def ajouterForme(self,forme):\n",
      "        self.formes.append(forme)\n",
      "        \n",
      "    def calculerGM(self):\n",
      "        minLongueur=len(min(self.formes, key=len))\n",
      "        maxLongueur=len(max(self.formes, key=len))\n",
      "#        print minLongueur, maxLongueur\n",
      "        positions=[]\n",
      "        if maxLongueur>minLongueur:\n",
      "            positions.append(\"*\")\n",
      "        for i in xrange(minLongueur, 0, -1):\n",
      "            phonemes=[x[-i] for x in self.formes]\n",
      "#            print phonemes\n",
      "            if \".\" in phonemes:\n",
      "                positions.append(\".\")\n",
      "            else:\n",
      "                positions.append(\"\".join(fs.lattice[phonemes].extent))\n",
      "        return positions\n",
      "\n",
      "class pairePatrons:\n",
      "    '''\n",
      "    Accumulateur de triplets (f1,f2,patron) correspondant \u00e0 une paire pour calcul des G\u00e9n\u00e9ralisations Minimales (cf. MGL)\n",
      "    '''\n",
      "    def __init__(self,nom=\"\"):\n",
      "        self.patrons1={}\n",
      "        self.patrons2={}\n",
      "        self.nom=nom\n",
      "\n",
      "#    def __repr__(self):\n",
      "#        return ','.join(self.calculerGM())\n",
      "        \n",
      "    def ajouterFormes(self,forme1,forme2,patron):\n",
      "        patron12=patron\n",
      "        (pat1,pat2)=patron.split(\"-\")\n",
      "        patron21=pat2+\"-\"+pat1\n",
      "        if not patron12 in self.patrons1:\n",
      "            self.patrons1[patron12]=formesPatron()\n",
      "        self.patrons1[patron12].ajouterForme(forme1)\n",
      "        if not patron21 in self.patrons2:\n",
      "            self.patrons2[patron21]=formesPatron()\n",
      "        self.patrons2[patron21].ajouterForme(forme2)\n",
      "        \n",
      "        \n",
      "    def calculerGM(self):\n",
      "        resultat1={}\n",
      "        for patron in self.patrons1:\n",
      "            resultat1[patron]=self.patrons1[patron].calculerGM()\n",
      "        resultat2={}\n",
      "        for patron in self.patrons2:\n",
      "            resultat2[patron]=self.patrons2[patron].calculerGM()\n",
      "        return (resultat1,resultat2) "
     ],
     "language": "python",
     "metadata": {},
     "outputs": [],
     "prompt_number": 10
    },
    {
     "cell_type": "code",
     "collapsed": false,
     "input": [
      "test=pairePatrons()\n",
      "for paire in paires:\n",
      "    test.ajouterFormes(paire[0],paire[1], diff(*paire))\n",
      "struct=test.calculerGM()"
     ],
     "language": "python",
     "metadata": {},
     "outputs": [],
     "prompt_number": 15
    },
    {
     "cell_type": "code",
     "collapsed": false,
     "input": [
      "def patron2regexp(morceaux):\n",
      "    result=\"^\"\n",
      "    for morceau in morceaux:\n",
      "        if morceau==\"*\":\n",
      "            result+=\"(.*)\"\n",
      "        elif len(morceau)>1:\n",
      "            result+=\"([\"+morceau+\"])\"\n",
      "        else:\n",
      "            result+=morceau\n",
      "    result+=\"$\"\n",
      "    result=result.replace(\")(\",\"\")\n",
      "    return result"
     ],
     "language": "python",
     "metadata": {},
     "outputs": [],
     "prompt_number": 33
    },
    {
     "cell_type": "markdown",
     "metadata": {},
     "source": [
      "#Embryon de transformation des formes\n",
      "##Pr\u00e9paration des donn\u00e9es\n",
      "- *forme* \u00e0 tranformer\n",
      "- *patron* \u00e0 utiliser pour la transformation\n",
      "- *filtre* \u00e0 utiliser pour contr\u00f4ler le rapport entre la forme et le patron\n"
     ]
    },
    {
     "cell_type": "code",
     "collapsed": false,
     "input": [
      "forme=u\"\u00e2p6z\u00f4\"\n",
      "patron=u'6.\\xf4-E.'\n",
      "patronRegexp=re.compile(u'^(.*)6([ptkbdgfsSvzZmnJjlrwHiyEe926uOo\\xea\\xfb\\xf4])\\xf4$')\n",
      "patronRegexp"
     ],
     "language": "python",
     "metadata": {},
     "outputs": [
      {
       "metadata": {},
       "output_type": "pyout",
       "prompt_number": 157,
       "text": [
        "re.compile(ur'^(.*)6([ptkbdgfsSvzZmnJjlrwHiyEe926uOo\\xea\\xfb\\xf4])\\xf4$')"
       ]
      }
     ],
     "prompt_number": 157
    },
    {
     "cell_type": "code",
     "collapsed": false,
     "input": [
      "m=patronRegexp.match(forme)\n",
      "if m:\n",
      "    (entree,sortie)=patron.split(\"-\")\n",
      "    entree=entree.replace(\".\",\"(.)\")\n",
      "    n=1\n",
      "    nsortie=\"\"\n",
      "    for lettre in sortie:\n",
      "        if lettre==\".\":\n",
      "            nsortie+=\"\\g<%d>\"%n\n",
      "            n+=1\n",
      "        else:\n",
      "            nsortie+=lettre\n",
      "    print entree,nsortie\n",
      "    print re.sub(entree,nsortie,forme)"
     ],
     "language": "python",
     "metadata": {},
     "outputs": [
      {
       "output_type": "stream",
       "stream": "stdout",
       "text": [
        "6(.)\u00f4 E\\g<1>\n",
        "\u00e2pEz\n"
       ]
      }
     ],
     "prompt_number": 158
    },
    {
     "cell_type": "code",
     "collapsed": false,
     "input": [
      "matchPatron(struct[0][patron],forme)"
     ],
     "language": "python",
     "metadata": {},
     "outputs": [
      {
       "ename": "AttributeError",
       "evalue": "'list' object has no attribute 'split'",
       "output_type": "pyerr",
       "traceback": [
        "\u001b[0;31m---------------------------------------------------------------------------\u001b[0m\n\u001b[0;31mAttributeError\u001b[0m                            Traceback (most recent call last)",
        "\u001b[0;32m<ipython-input-134-bf99fca9e426>\u001b[0m in \u001b[0;36m<module>\u001b[0;34m()\u001b[0m\n\u001b[0;32m----> 1\u001b[0;31m \u001b[0mmatchPatron\u001b[0m\u001b[0;34m(\u001b[0m\u001b[0mstruct\u001b[0m\u001b[0;34m[\u001b[0m\u001b[0;36m0\u001b[0m\u001b[0;34m]\u001b[0m\u001b[0;34m[\u001b[0m\u001b[0mpatron\u001b[0m\u001b[0;34m]\u001b[0m\u001b[0;34m,\u001b[0m\u001b[0mforme\u001b[0m\u001b[0;34m)\u001b[0m\u001b[0;34m\u001b[0m\u001b[0m\n\u001b[0m",
        "\u001b[0;32m<ipython-input-131-601323be82da>\u001b[0m in \u001b[0;36mmatchPatron\u001b[0;34m(patron, forme)\u001b[0m\n\u001b[1;32m      3\u001b[0m     \u001b[0mm\u001b[0m\u001b[0;34m=\u001b[0m\u001b[0mre\u001b[0m\u001b[0;34m.\u001b[0m\u001b[0mmatch\u001b[0m\u001b[0;34m(\u001b[0m\u001b[0mpatronRegexp\u001b[0m\u001b[0;34m,\u001b[0m\u001b[0mforme\u001b[0m\u001b[0;34m)\u001b[0m\u001b[0;34m\u001b[0m\u001b[0m\n\u001b[1;32m      4\u001b[0m     \u001b[0;32mif\u001b[0m \u001b[0mm\u001b[0m\u001b[0;34m:\u001b[0m\u001b[0;34m\u001b[0m\u001b[0m\n\u001b[0;32m----> 5\u001b[0;31m         \u001b[0;34m(\u001b[0m\u001b[0mentree\u001b[0m\u001b[0;34m,\u001b[0m\u001b[0msortie\u001b[0m\u001b[0;34m)\u001b[0m\u001b[0;34m=\u001b[0m\u001b[0mpatron\u001b[0m\u001b[0;34m.\u001b[0m\u001b[0msplit\u001b[0m\u001b[0;34m(\u001b[0m\u001b[0;34m\"-\"\u001b[0m\u001b[0;34m)\u001b[0m\u001b[0;34m\u001b[0m\u001b[0m\n\u001b[0m\u001b[1;32m      6\u001b[0m         \u001b[0mentree\u001b[0m\u001b[0;34m=\u001b[0m\u001b[0mentree\u001b[0m\u001b[0;34m.\u001b[0m\u001b[0mreplace\u001b[0m\u001b[0;34m(\u001b[0m\u001b[0;34m\".\"\u001b[0m\u001b[0;34m,\u001b[0m\u001b[0;34m\"(.)\"\u001b[0m\u001b[0;34m)\u001b[0m\u001b[0;34m\u001b[0m\u001b[0m\n\u001b[1;32m      7\u001b[0m         \u001b[0mn\u001b[0m\u001b[0;34m=\u001b[0m\u001b[0;36m1\u001b[0m\u001b[0;34m\u001b[0m\u001b[0m\n",
        "\u001b[0;31mAttributeError\u001b[0m: 'list' object has no attribute 'split'"
       ]
      }
     ],
     "prompt_number": 134
    }
   ],
   "metadata": {}
  }
 ]
}