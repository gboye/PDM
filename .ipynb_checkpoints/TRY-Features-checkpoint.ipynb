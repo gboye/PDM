{
 "metadata": {
  "name": "",
  "signature": "sha256:98de3359b72f3520cdeae7208c156b699c37ae4b1bba8ed0e0c8235c1902858b"
 },
 "nbformat": 3,
 "nbformat_minor": 0,
 "worksheets": [
  {
   "cells": [
    {
     "cell_type": "code",
     "collapsed": false,
     "input": [
      "import features, re"
     ],
     "language": "python",
     "metadata": {},
     "outputs": [],
     "prompt_number": 10
    },
    {
     "cell_type": "code",
     "collapsed": false,
     "input": [
      "features.add_config('bdlexique.ini')"
     ],
     "language": "python",
     "metadata": {},
     "outputs": [],
     "prompt_number": 11
    },
    {
     "cell_type": "code",
     "collapsed": false,
     "input": [
      "fs=features.FeatureSystem('phonemes')"
     ],
     "language": "python",
     "metadata": {},
     "outputs": [],
     "prompt_number": 12
    },
    {
     "cell_type": "code",
     "collapsed": false,
     "input": [
      "print fs.context.properties"
     ],
     "language": "python",
     "metadata": {},
     "outputs": [
      {
       "output_type": "stream",
       "stream": "stdout",
       "text": [
        "(u'+son', u'-son', u'+syl', u'-syl', u'+cons', u'-cons', u'+ant', u'-ant', u'+cor', u'-cor', u'+back', u'-back', u'+high', u'-high', u'+low', u'-low', u'+round', u'-round', u'+ATR', u'-ATR', u'+nas', u'-nas', u'+lat', u'-lat', u'+cont', u'-cont', u'+voice', u'-voice', u'+strid', u'-strid')\n"
       ]
      }
     ],
     "prompt_number": 13
    },
    {
     "cell_type": "code",
     "collapsed": false,
     "input": [
      "def classeNaturelle(liste):\n",
      "    return list(fs.context.extension(fs.context.intension(liste)))"
     ],
     "language": "python",
     "metadata": {},
     "outputs": [],
     "prompt_number": 14
    },
    {
     "cell_type": "code",
     "collapsed": false,
     "input": [
      "paires=[(u\"sul6vj\u00f4\",u\"sulEv\"),(u\"s6mj\u00f4\",u\"sEm\"),(u\"dep6sj\u00f4\",u\"depEs\")]"
     ],
     "language": "python",
     "metadata": {},
     "outputs": [],
     "prompt_number": 86
    },
    {
     "cell_type": "code",
     "collapsed": false,
     "input": [
      "for index, lettre in enumerate(mot1):\n",
      "    if index < len(mot2):\n",
      "        if lettre!=mot2[index]:\n",
      "            liste=[lettre,mot2[index]]\n",
      "            print fs.context.intension(liste)\n",
      "            print classeNaturelle(liste)\n",
      "        else:\n",
      "            print lettre\n",
      "    else:\n",
      "        print lettre"
     ],
     "language": "python",
     "metadata": {},
     "outputs": [
      {
       "output_type": "stream",
       "stream": "stdout",
       "text": [
        "d\n",
        "e\n",
        "p\n",
        "(u'+son', u'+syl', u'-cons', u'-ant', u'-cor', u'-high', u'-low', u'-round', u'-ATR', u'-nas', u'-lat', u'+cont', u'+voice', u'-strid')\n",
        "[u'E', u'6']\n",
        "s\n",
        "j\n",
        "\ufffd\n",
        "\ufffd\n"
       ]
      }
     ],
     "prompt_number": 87
    },
    {
     "cell_type": "code",
     "collapsed": false,
     "input": [
      "def diff(mot1,mot2):\n",
      "    result=[]\n",
      "    diff1=\"\"\n",
      "    diff2=\"\"\n",
      "    same=\"\"\n",
      "    vide=\".\"\n",
      "    lmax=max(len(mot1),len(mot2))\n",
      "    lmin=min(len(mot1),len(mot2))\n",
      "    for index in range(lmax):\n",
      "        if index < lmin:\n",
      "            if mot1[index]!=mot2[index]:\n",
      "                diff1+=mot1[index]\n",
      "                diff2+=mot2[index]\n",
      "                same+=vide\n",
      "            else:\n",
      "                same+=mot1[index]\n",
      "                diff1+=vide\n",
      "                diff2+=vide\n",
      "        elif index < len(mot1):\n",
      "            diff1+=mot1[index]\n",
      "        elif index < len(mot2):\n",
      "            diff2+=mot2[index]\n",
      "    diff1=diff1.lstrip(\".\")\n",
      "    diff2=diff2.lstrip(\".\")\n",
      "    return (same,diff1,diff2,diff1+\"_\"+diff2)\n"
     ],
     "language": "python",
     "metadata": {},
     "outputs": [],
     "prompt_number": 25
    },
    {
     "cell_type": "code",
     "collapsed": false,
     "input": [
      "#%%timeit\n",
      "patrons={}\n",
      "for paire in paires:\n",
      "    (mot1,mot2)=paire\n",
      "    (same, diff1, diff2, patron)=diff(mot1,mot2)\n",
      "    if not patron in patrons:\n",
      "        patrons[patron]=[]\n",
      "    patrons[patron].append(same)"
     ],
     "language": "python",
     "metadata": {},
     "outputs": [],
     "prompt_number": 88
    },
    {
     "cell_type": "code",
     "collapsed": false,
     "input": [
      "sames=patrons[u'6.j\\xf4_E.']\n",
      "sames"
     ],
     "language": "python",
     "metadata": {},
     "outputs": [
      {
       "metadata": {},
       "output_type": "pyout",
       "prompt_number": 89,
       "text": [
        "[u'sul.v', u's.m', u'dep.s']"
       ]
      }
     ],
     "prompt_number": 89
    },
    {
     "cell_type": "code",
     "collapsed": false,
     "input": [
      "fs.lattice[[x[-1] for x in sames]].extent"
     ],
     "language": "python",
     "metadata": {},
     "outputs": [
      {
       "metadata": {},
       "output_type": "pyout",
       "prompt_number": 90,
       "text": [
        "(u'p', u't', u'b', u'd', u'f', u's', u'v', u'z', u'm', u'n')"
       ]
      }
     ],
     "prompt_number": 90
    },
    {
     "cell_type": "code",
     "collapsed": false,
     "input": [
      "for patron in patrons:\n",
      "    print patron\n",
      "    minLongueur=min(patrons[patron])\n",
      "    positions={}\n",
      "    for i in range(minLongueur):\n",
      "        if not i in position:\n",
      "            position[i]=[]\n",
      "        position[i]\n",
      "        "
     ],
     "language": "python",
     "metadata": {},
     "outputs": [
      {
       "output_type": "stream",
       "stream": "stdout",
       "text": [
        "6.j\u00f4_E.\n"
       ]
      },
      {
       "ename": "TypeError",
       "evalue": "range() integer end argument expected, got unicode.",
       "output_type": "pyerr",
       "traceback": [
        "\u001b[0;31m---------------------------------------------------------------------------\u001b[0m\n\u001b[0;31mTypeError\u001b[0m                                 Traceback (most recent call last)",
        "\u001b[0;32m<ipython-input-91-41f2f3fb34f1>\u001b[0m in \u001b[0;36m<module>\u001b[0;34m()\u001b[0m\n\u001b[1;32m      3\u001b[0m     \u001b[0mminLongueur\u001b[0m\u001b[0;34m=\u001b[0m\u001b[0mmin\u001b[0m\u001b[0;34m(\u001b[0m\u001b[0mpatrons\u001b[0m\u001b[0;34m[\u001b[0m\u001b[0mpatron\u001b[0m\u001b[0;34m]\u001b[0m\u001b[0;34m)\u001b[0m\u001b[0;34m\u001b[0m\u001b[0m\n\u001b[1;32m      4\u001b[0m     \u001b[0mpositions\u001b[0m\u001b[0;34m=\u001b[0m\u001b[0;34m{\u001b[0m\u001b[0;34m}\u001b[0m\u001b[0;34m\u001b[0m\u001b[0m\n\u001b[0;32m----> 5\u001b[0;31m     \u001b[0;32mfor\u001b[0m \u001b[0mi\u001b[0m \u001b[0;32min\u001b[0m \u001b[0mrange\u001b[0m\u001b[0;34m(\u001b[0m\u001b[0mminLongueur\u001b[0m\u001b[0;34m)\u001b[0m\u001b[0;34m:\u001b[0m\u001b[0;34m\u001b[0m\u001b[0m\n\u001b[0m\u001b[1;32m      6\u001b[0m         \u001b[0;32mif\u001b[0m \u001b[0;32mnot\u001b[0m \u001b[0mi\u001b[0m \u001b[0;32min\u001b[0m \u001b[0mposition\u001b[0m\u001b[0;34m:\u001b[0m\u001b[0;34m\u001b[0m\u001b[0m\n\u001b[1;32m      7\u001b[0m             \u001b[0mposition\u001b[0m\u001b[0;34m[\u001b[0m\u001b[0mi\u001b[0m\u001b[0;34m]\u001b[0m\u001b[0;34m=\u001b[0m\u001b[0;34m[\u001b[0m\u001b[0;34m]\u001b[0m\u001b[0;34m\u001b[0m\u001b[0m\n",
        "\u001b[0;31mTypeError\u001b[0m: range() integer end argument expected, got unicode."
       ]
      }
     ],
     "prompt_number": 91
    },
    {
     "cell_type": "code",
     "collapsed": false,
     "input": [
      "fs.lattice[['m', 'v', 't','a']].intent"
     ],
     "language": "python",
     "metadata": {},
     "outputs": [
      {
       "metadata": {},
       "output_type": "pyout",
       "prompt_number": 92,
       "text": [
        "(u'-back', u'-high', u'-round', u'-ATR', u'-lat')"
       ]
      }
     ],
     "prompt_number": 92
    },
    {
     "cell_type": "markdown",
     "metadata": {},
     "source": [
      "###Embryon de classe pour calculer les patrons"
     ]
    },
    {
     "cell_type": "code",
     "collapsed": false,
     "input": [
      "class formesPatron:\n",
      "    '''\n",
      "    Accumulateur de formes correspondant \u00e0 un patron pour calcul de la G\u00e9n\u00e9ralisation Minimale (cf. MGL)\n",
      "    '''\n",
      "    def __init__(self):\n",
      "        self.formes=[]\n",
      "\n",
      "    def ajouterFormes(self,*formes):\n",
      "        self.formes.extend(formes)\n",
      "        print self.formes\n",
      "        \n",
      "    def calculerGM(self):\n",
      "        print self.formes\n",
      "        minForme=min(self.formes, key=len)\n",
      "        minLongueur=len(minForme)\n",
      "        print minForme, minLongueur\n",
      "        positions=[]\n",
      "        for i in range(minLongueur):\n",
      "            phonemes=[x[-i-1] for x in sames]\n",
      "            if \".\" in phonemes:\n",
      "                positions.append(\".\")\n",
      "            else:\n",
      "                positions.append(fs.lattice[phonemes])\n",
      "        return positions"
     ],
     "language": "python",
     "metadata": {},
     "outputs": [],
     "prompt_number": 96
    },
    {
     "cell_type": "code",
     "collapsed": false,
     "input": [
      "test=formesPatron()\n",
      "test.ajouterFormes(*sames)\n",
      "test.calculerGM()"
     ],
     "language": "python",
     "metadata": {},
     "outputs": [
      {
       "output_type": "stream",
       "stream": "stdout",
       "text": [
        "[u'sul.v', u's.m', u'dep.s']\n",
        "[u'sul.v', u's.m', u'dep.s']\n",
        "s.m 3\n"
       ]
      },
      {
       "metadata": {},
       "output_type": "pyout",
       "prompt_number": 97,
       "text": [
        "[<Concept {p, t, b, d, f, s, v, z, m, n} <-> [-syl +cons +ant -back -high -low -round -ATR -lat]>,\n",
        " '.',\n",
        " <Concept {p, t, b, d, f, s, v, z, l} <-> [-syl +cons +ant -back -high -low -round -ATR -nas]>]"
       ]
      }
     ],
     "prompt_number": 97
    },
    {
     "cell_type": "code",
     "collapsed": false,
     "input": [
      "len(min(sames))"
     ],
     "language": "python",
     "metadata": {},
     "outputs": [
      {
       "metadata": {},
       "output_type": "pyout",
       "prompt_number": 95,
       "text": [
        "5"
       ]
      }
     ],
     "prompt_number": 95
    },
    {
     "cell_type": "code",
     "collapsed": false,
     "input": [],
     "language": "python",
     "metadata": {},
     "outputs": []
    }
   ],
   "metadata": {}
  }
 ]
}