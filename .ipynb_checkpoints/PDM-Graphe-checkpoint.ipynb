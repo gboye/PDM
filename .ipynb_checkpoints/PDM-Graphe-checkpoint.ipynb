{
 "metadata": {
  "name": "",
  "signature": "sha256:41928b397a42ac52f54671793dde2357a5c840dcaf13c0c55c4ceab45343eaef"
 },
 "nbformat": 3,
 "nbformat_minor": 0,
 "worksheets": [
  {
   "cells": [
    {
     "cell_type": "code",
     "collapsed": false,
     "input": [
      "# -*- coding: utf-8 -*-"
     ],
     "language": "python",
     "metadata": {},
     "outputs": [],
     "prompt_number": 1
    },
    {
     "cell_type": "code",
     "collapsed": false,
     "input": [
      "%matplotlib inline"
     ],
     "language": "python",
     "metadata": {},
     "outputs": [],
     "prompt_number": 2
    },
    {
     "cell_type": "markdown",
     "metadata": {},
     "source": [
      "###Importation des modules"
     ]
    },
    {
     "cell_type": "code",
     "collapsed": false,
     "input": [
      "import networkx as nx\n",
      "import matplotlib.pyplot as plt\n",
      "import PDM\n",
      "from PDM import *\n",
      "import pickle\n",
      "from lxml.html import builder as E\n",
      "import string\n",
      "#from collections import OrderedDict"
     ],
     "language": "python",
     "metadata": {},
     "outputs": [],
     "prompt_number": 3
    },
    {
     "cell_type": "code",
     "collapsed": false,
     "input": [
      "PDM.seuilDistribution=0.00"
     ],
     "language": "python",
     "metadata": {},
     "outputs": [],
     "prompt_number": 4
    },
    {
     "cell_type": "code",
     "collapsed": false,
     "input": [
      "with open('Regles.pkl', 'rb') as input:\n",
      "    PDM.analyse = pickle.load(input)\n",
      "with open('Classes.pkl', 'rb') as input:\n",
      "    PDM.classification = pickle.load(input)"
     ],
     "language": "python",
     "metadata": {},
     "outputs": [],
     "prompt_number": 5
    },
    {
     "cell_type": "code",
     "collapsed": false,
     "input": [
      "bdlexIn=[u\"S\",u\"J\",u\"E\",u\"\u00ea\",u\"\u00e2\",u\"\u00f4\"]\n",
      "ipaOut=[u\"\u0283\",u\"\u0272\",u\"e\",u\"\u025b\u0303\",u\"\u0251\u0303\",u\"\u0254\u0303\"]\n",
      "def recoder(chaine):\n",
      "    if isinstance(chaine,str):\n",
      "        chaine=chaine.decode(\"utf8\")\n",
      "    for n,element in enumerate(bdlexIn):\n",
      "        chaine=chaine.replace(element,ipaOut[n])\n",
      "    return chaine\n",
      "print recoder(u\"finis\u00e2 finis\u00f4 p\u00eat\u00e2\")"
     ],
     "language": "python",
     "metadata": {},
     "outputs": [
      {
       "output_type": "stream",
       "stream": "stdout",
       "text": [
        "finis\u0251\u0303 finis\u0254\u0303 p\u025b\u0303t\u0251\u0303\n"
       ]
      }
     ],
     "prompt_number": 6
    },
    {
     "cell_type": "code",
     "collapsed": false,
     "input": [
      "def html_table(table):\n",
      "    htmlTable=[]\n",
      "    htmlTable.append('<table border=\"1\"><tbody>')\n",
      "    for ligne in table:\n",
      "        htmlTable.append('  <tr>')\n",
      "        for element in ligne:\n",
      "            htmlTable.append('    <td>%s</td>'%element)\n",
      "        htmlTable.append('  </tr>')\n",
      "    htmlTable.append('<tbody></table>')\n",
      "    return \"\\n\".join(htmlTable)\n",
      "    \n",
      "class ConjugaisonTableau:\n",
      "    def __init__(self,nom,liste):\n",
      "        self.nom=nom\n",
      "        self.finies=[]\n",
      "        self.nonfinies=[]\n",
      "        tradPersonnesFinies={\"1\":\"1SG\",\"2\":\"2SG\",\"3\":\"3SG\",\"4\":\"1PL\",\"5\":\"2PL\",\"6\":\"3PL\"}\n",
      "#        personnesFinies=tradPersonnesFinies.keys()\n",
      "        personnesFinies=[\"1\",\"2\",\"3\",\"4\",\"5\",\"6\"]\n",
      "        enteteFinies=[\"temps\"]\n",
      "        for personne in personnesFinies:\n",
      "            enteteFinies.append(tradPersonnesFinies[personne])\n",
      "        self.finies.append(enteteFinies)\n",
      "#        self.tableau.append(enteteTableau)\n",
      "        tradTempsFinies={\"prs\":\"present\",\"ipf\":\"imperfective\",\"pst\":\"past\",\"fut\":\"future\",\n",
      "                     \"sbjv\":\"present subj.\",\"pst.sbj\":\"imperfective subj.\",\n",
      "                     \"cond\":\"conditional\",\n",
      "                     \"imp\":\"imperative\"}\n",
      "        tempsFinies=tradTempsFinies.keys()\n",
      "        tradNonFinies={\"inf\":\"infinitive\",\"prs.pcp\":\"present part.\",\"pst.pcp\":\"past part.\"}\n",
      "        nonFinies=tradNonFinies.keys()\n",
      "        enteteNonFinies=tradNonFinies.values()\n",
      "        tempTableau=[]\n",
      "        for temps in tempsFinies:\n",
      "            ligne=[]\n",
      "            for personne in personnesFinies:\n",
      "                ligne.append(\"\")\n",
      "            tempTableau.append(ligne)\n",
      "        for element in liste:\n",
      "            case,forme=element.split(\"-\")\n",
      "            if case[-1] in \"123456\":\n",
      "#                print case\n",
      "                temps,personne=case.rsplit(\".\",1)\n",
      "                numTemps=tempsFinies.index(temps)\n",
      "                numPers=personnesFinies.index(personne)\n",
      "                tempTableau[numTemps][numPers]=forme\n",
      "            else:\n",
      "                self.nonfinies.append([case,forme])\n",
      "        for n,ligne in enumerate(tempTableau):\n",
      "#            print n,ligne,[tempsFinies[n]]+ligne\n",
      "            self.finies.append([tradTempsFinies[tempsFinies[n]]]+ligne)\n",
      "            \n",
      "            \n",
      "def prettyClique(clique):\n",
      "    '''\n",
      "    remplir un dict tableau pour afficher un paradigme\n",
      "    '''\n",
      "    tableau={'NF':{}}\n",
      "    for element in sorted(clique):\n",
      "        case,forme=element.split(\"-\")\n",
      "        try:\n",
      "            temps,personne=case.split(\".\")\n",
      "            if personne in \"123456\":\n",
      "                if not temps in tableau:\n",
      "                    tableau[temps]={}\n",
      "                tableau[temps][personne]=forme\n",
      "            else:\n",
      "                tableau['NF'][temps]={personne:forme}\n",
      "        except:\n",
      "            tableau['NF'][case]=forme\n",
      "#    pretty(tableau)\n",
      "        \n",
      "def prettyDict(d, indent=0):\n",
      "   for key, value in d.iteritems():\n",
      "      print '\\t' * indent + str(key)\n",
      "      if isinstance(value, dict):\n",
      "         prettyDict(value, indent+1)\n",
      "      elif isinstance(value, list):\n",
      "        for element in value:\n",
      "            print '\\t' * (indent+1) + (element)\n",
      "        print\n",
      "      else:\n",
      "         print '\\t' * (indent+1) + str(value)    \n",
      "                \n",
      "def faireCliques(lexical):\n",
      "    dataCliques={}\n",
      "    cliques=list(nx.algorithms.clique.find_cliques(lexical.graphe))\n",
      "    dataCliques[\"nb\"]=len(cliques)\n",
      "    nMaxClique=0\n",
      "    tableaux=[]\n",
      "    for n,clique in enumerate(sorted(cliques,key=lambda x: len(x),reverse=True)):\n",
      "        total=0\n",
      "        for node in sorted(clique):\n",
      "            poids=lexical.graphe.node[node][\"weight\"]\n",
      "            total+=poids\n",
      "#        dataCliques[n]={\"taille\":len(clique),\"repr\u00e9sentant\":clique[0],\"clique\":sorted(clique)}\n",
      "        conjugaison=ConjugaisonTableau(\"test\",sorted(clique))\n",
      "        tableFinies=html_table(conjugaison.finies)\n",
      "        tableNonFinies=html_table(conjugaison.nonfinies)\n",
      "        tables=([lexeme.encode('utf8'),len(clique),total/len(clique)],tableFinies,tableNonFinies)\n",
      "        tableaux.append(tables)\n",
      "        if len(clique)>=nMaxClique:\n",
      "            nMaxClique=len(clique)\n",
      "            total=0\n",
      "            for node in sorted(clique):\n",
      "                poids=lexical.graphe.node[node][\"weight\"]\n",
      "                total+=poids\n",
      "#                print(node,poids)\n",
      "#            print (len(clique),clique[0])\n",
      "#            print (sorted(clique))\n",
      "#            prettyClique(clique)\n",
      "#            print (total/len(clique))\n",
      "#            print ()\n",
      "    return (cliques, tableaux)"
     ],
     "language": "python",
     "metadata": {},
     "outputs": [],
     "prompt_number": 7
    },
    {
     "cell_type": "code",
     "collapsed": false,
     "input": [
      "def faireGraphes(lexical):\n",
      "    lexical.calculerParadigme()\n",
      "    (cliques,tableaux)=faireCliques(lexical)   \n",
      "    nx.write_dot(lexical.graphe,prefixeLexeme+u\"graphe.dot\")\n",
      "    nx.write_dot(lexical.digraphe,prefixeLexeme+u\"digraphe.dot\")\n",
      "    for n in range(len(cliques)):\n",
      "#        print (n)\n",
      "        digraphe=lexical.digraphe.subgraph(cliques[n])\n",
      "        nx.write_dot(digraphe,prefixeLexeme+u\"clique%d.dot\"%n)\n",
      "    with open(prefixeLexeme+\"Cliques.html\", 'w') as output:\n",
      "        output.write('<html><head><meta http-equiv=\"Content-Type\" content=\"text/html; charset=utf-8\" /></head><body>')\n",
      "        for table in tableaux:\n",
      "            output.write(\"<center><b>\")\n",
      "            for element in table[0]:\n",
      "                output.write(str(element)+\"\\n\")\n",
      "            output.write(\"</b>\")\n",
      "            output.write(table[1].encode('utf8'))\n",
      "            output.write((table[2]+\"\\n\").encode('utf8'))\n",
      "            output.write(\"</center><br/><br/>\")\n",
      "        output.write(\"</body></html>\")"
     ],
     "language": "python",
     "metadata": {},
     "outputs": [],
     "prompt_number": 8
    },
    {
     "cell_type": "code",
     "collapsed": false,
     "input": [
      "lexique={\n",
      "#            \"finir-INF\":{\"inf\":\"finir\"},\n",
      "#            \"finir-PRS3\":{\"prs.3\":\"fini\"},\n",
      "#            \"finir-PRS4\":{\"prs.4\":\"finis\u00f4\"},\n",
      "#            \"aboyer-INF\":{\"inf\":\"abwajE\"},\n",
      "#            \"aboyer-PRS3\":{\"prs.3\":\"abwa\"},\n",
      "#            \"aboyer-PRS4\":{\"prs.4\":\"abwaj\u00f4\"},\n",
      "#            \"balayer-PRS4\":{\"prs.4\":\"balEj\u00f4\"},\n",
      "#            \"avoir-PRS1\":{\"prs.1\":\"E\"},\n",
      "#            \"suivre-PRS1\":{\"prs.1\":\"sHi\"},\n",
      "#            \"bougre-INF\":{\"inf\":\"bugr\"},\n",
      "#            \"jitre-INF\":{\"inf\":\"Zitr\"},\n",
      "#            \"clore-INF\":{\"inf\":\"klor\"},\n",
      "#            \"courir-INF\":{\"inf\":\"kurir\"},\n",
      "#            \"distraire-INF\":{\"inf\":\"distrEr\"},\n",
      "#            \"fiche-PSTPCP\":{\"pst.pcp\":\"fiSy\"},\n",
      "#            \"frire-PRS3\":{\"prs.3\":\"fri\"},\n",
      "            \"courir-FUT3\":{\"fut.3\":\"kurra\"},\n",
      "            \"battre-FUT3\":{\"fut.3\":\"batra\"},\n",
      "            \"peindre-FUT3\":{\"fut.3\":\"p\u00eandra\"},\n",
      "         }\n",
      "for lexeme in lexique:\n",
      "    lexical=Paradigme()\n",
      "    prefixeLexeme=lexeme+\"-\"\n",
      "    print lexeme\n",
      "    cases={}\n",
      "    for case in lexique[lexeme]:\n",
      "        cases[case]=Case(case)\n",
      "        cases[case].addForm(FormeCoef(lexique[lexeme][case].decode('utf8'),1))\n",
      "    for case in cases:\n",
      "        lexical.addEntree(cases[case])\n",
      "    faireGraphes(lexical)"
     ],
     "language": "python",
     "metadata": {},
     "outputs": [
      {
       "output_type": "stream",
       "stream": "stdout",
       "text": [
        "courir-FUT3\n",
        "peindre-FUT3"
       ]
      },
      {
       "output_type": "stream",
       "stream": "stdout",
       "text": [
        "\n",
        "battre-FUT3"
       ]
      },
      {
       "output_type": "stream",
       "stream": "stdout",
       "text": [
        "\n"
       ]
      }
     ],
     "prompt_number": 9
    },
    {
     "cell_type": "code",
     "collapsed": false,
     "input": [],
     "language": "python",
     "metadata": {},
     "outputs": [],
     "prompt_number": 9
    },
    {
     "cell_type": "code",
     "collapsed": false,
     "input": [],
     "language": "python",
     "metadata": {},
     "outputs": [],
     "prompt_number": 9
    }
   ],
   "metadata": {}
  }
 ]
}