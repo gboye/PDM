{
 "metadata": {
  "name": "",
  "signature": "sha256:4db29f8b81183aa160e1fa105c6b305eca76a195a518b52f8632b67785b76a5c"
 },
 "nbformat": 3,
 "nbformat_minor": 0,
 "worksheets": [
  {
   "cells": [
    {
     "cell_type": "code",
     "collapsed": false,
     "input": [
      "%matplotlib inline"
     ],
     "language": "python",
     "metadata": {},
     "outputs": [],
     "prompt_number": 1
    },
    {
     "cell_type": "markdown",
     "metadata": {},
     "source": [
      "###Importation des modules"
     ]
    },
    {
     "cell_type": "code",
     "collapsed": false,
     "input": [
      "import networkx as nx\n",
      "import matplotlib.pyplot as plt\n",
      "import PDM\n",
      "from PDM import *\n",
      "import pickle"
     ],
     "language": "python",
     "metadata": {},
     "outputs": [],
     "prompt_number": 2
    },
    {
     "cell_type": "code",
     "collapsed": false,
     "input": [
      "PDM.seuilDistribution=0.00"
     ],
     "language": "python",
     "metadata": {},
     "outputs": [],
     "prompt_number": 3
    },
    {
     "cell_type": "code",
     "collapsed": false,
     "input": [
      "with open('Regles.pkl', 'rb') as input:\n",
      "    PDM.analyse = pickle.load(input)\n",
      "with open('Classes.pkl', 'rb') as input:\n",
      "    PDM.classification = pickle.load(input)"
     ],
     "language": "python",
     "metadata": {},
     "outputs": [],
     "prompt_number": 4
    },
    {
     "cell_type": "code",
     "collapsed": false,
     "input": [
      "def prettyClique(clique):\n",
      "    '''\n",
      "    remplir un dict tableau pour afficher un paradigme\n",
      "    '''\n",
      "    tableau={'NF':{}}\n",
      "    for element in sorted(clique):\n",
      "        case,forme=element.split(\"-\")\n",
      "        try:\n",
      "            temps,personne=case.split(\".\")\n",
      "            if personne in \"123456\":\n",
      "                if not temps in tableau:\n",
      "                    tableau[temps]={}\n",
      "                tableau[temps][personne]=forme\n",
      "            else:\n",
      "                tableau['NF'][temps]={personne:forme}\n",
      "        except:\n",
      "            tableau['NF'][case]=forme\n",
      "#    pretty(tableau)\n",
      "        \n",
      "        \n",
      "def faireCliques(lexeme):\n",
      "    cliques=list(nx.algorithms.clique.find_cliques(lexeme.graphe))\n",
      "    print len(cliques)\n",
      "    nMaxClique=0\n",
      "    for clique in sorted(cliques,key=lambda x: len(x),reverse=True):\n",
      "        if len(clique)>=nMaxClique:\n",
      "            nMaxClique=len(clique)\n",
      "            total=0\n",
      "            for node in sorted(clique):\n",
      "                poids=lexeme.graphe.node[node][\"weight\"]\n",
      "                total+=poids\n",
      "#                print(node,poids)\n",
      "            print (len(clique),clique[0])\n",
      "            print (sorted(clique))\n",
      "#            prettyClique(clique)\n",
      "            print (total/len(clique))\n",
      "            print ()\n",
      "    return cliques"
     ],
     "language": "python",
     "metadata": {},
     "outputs": [],
     "prompt_number": 5
    },
    {
     "cell_type": "markdown",
     "metadata": {},
     "source": [
      "infinitifs=[\"lavE\",\"\u00e2vwajE\",\"finir\",\"air\",\"alE\"]\n",
      "infinitifs=[\"t6nir\",\"akErir\",\"s\u00e2tir\",\"vEtir\",\"kuvrir\"]\n",
      "infinitifs=[\"k6jir\",\"asajir\",\"fajir\",\"bujir\",\"dormir\"]\n",
      "infinitifs=[\"kurir\",\"murir\",\"sErvir\",\"fHir\",\"wir\"]\n",
      "infinitifs=[\"r6s6vwar\",\"vwar\",\"purvwar\",\"savwar\",\"d6vwar\"]\n",
      "infinitifs=[\"puvwar\",\"muvwar\",\"pl6vwar\",\"falwar\",\"valwar\"]\n",
      "infinitifs=[\"vulwar\",\"aswar\",\"swar\",\"syrswar\",\"Swar\"]\n",
      "infinitifs=[\"r\u00e2dr\",\"pr\u00e2dr\",\"batr\",\"mEtr\",\"p\u00eadr\"]\n",
      "for infinitif in infinitifs:\n",
      "    inf=Case(\"inf\")\n",
      "    inf.addForm(FormeCoef(infinitif,1))\n",
      "    verbe=Paradigme()\n",
      "    verbe.addEntrees(inf)\n",
      "    verbe.calculerParadigme()\n",
      "    faireCliques(verbe)"
     ]
    },
    {
     "cell_type": "markdown",
     "metadata": {},
     "source": [
      "presents=[\"lavE\",\"\u00e2vwajE\",\"finir\",\"air\",\"alE\"]\n",
      "presents=[\"t6nir\",\"akErir\",\"s\u00e2tir\",\"vEtir\",\"kuvrir\"]\n",
      "presents=[\"k6jir\",\"asajir\",\"fajir\",\"bujir\",\"dormir\"]\n",
      "presents=[\"kurir\",\"murir\",\"sErvir\",\"fHir\",\"wir\"]\n",
      "presents=[\"r6s6vwar\",\"vwar\",\"purvwar\",\"savwar\",\"d6vwar\"]\n",
      "presents=[\"p6\",\"m6\",\"pl6\",\"fo\",\"vo\"]\n",
      "#presents=[\"v6\",\"asjE\",\"sjE\",\"syrswa\",\"Swa\"]\n",
      "#presents=[\"r\u00e2\",\"pr\u00e2\",\"ba\",\"mE\",\"p\u00ea\"]\n",
      "for present in presents:\n",
      "    prs3=Case(\"prs.3\")\n",
      "    prs3.addForm(FormeCoef(present,1))\n",
      "    verbe=Paradigme()\n",
      "    verbe.addEntrees(prs3)\n",
      "    verbe.calculerParadigme()\n",
      "    faireCliques(verbe)"
     ]
    },
    {
     "cell_type": "markdown",
     "metadata": {},
     "source": [
      "inf=Case(\"inf\")\n",
      "inf.addForm(FormeCoef(\"finir\",1))\n",
      "#inf.addForm(FormeCoef(\"finjE\",1))\n",
      "prs1=Case(\"prs.1\")\n",
      "prs1.addForm(FormeCoef(\"brEdi\",1))\n",
      "ipf1=Case(\"ipf.1\")\n",
      "ipf1.addForm(FormeCoef(\"brEdisE\",1))\n",
      "pst1=Case(\"pst.1\")\n",
      "pst1.addForm(FormeCoef(\"fini\",1))\n",
      "prspcp=Case(\"prs.pcp\")\n",
      "prspcp.addForm(FormeCoef(\"finis\u00e2\",1))\n",
      "\n",
      "lexical=Paradigme()\n",
      "#lexical.addEntrees(inf,prs1,pst1)\n",
      "lexical.addEntrees(ipf1)\n",
      "#lexical.addEntrees(prs1,pst1)\n",
      "#lexical.addEntrees(prs1,prspcp)\n",
      "lexical.calculerParadigme()\n",
      "faireCliques(lexical)"
     ]
    },
    {
     "cell_type": "code",
     "collapsed": false,
     "input": [
      "inf=Case(\"inf\")\n",
      "#inf.addForm(FormeCoef(\"finir\",1))\n",
      "prs1=Case(\"prs.1\")\n",
      "prs1.addForm(FormeCoef(\"pr\u00e2\",1))\n",
      "prs2=Case(\"prs.2\")\n",
      "#prs2.addForm(FormeCoef(\"abwa\",1))\n",
      "prs3=Case(\"prs.3\")\n",
      "#prs3.addForm(FormeCoef(\"abwa\",1))\n",
      "prs4=Case(\"prs.4\")\n",
      "#prs4.addForm(FormeCoef(\"pr6n\u00f4\",1))\n",
      "prs6=Case(\"prs.6\")\n",
      "#prs6.addForm(FormeCoef(\"prEn\",1))\n",
      "#prs1.addForm(FormeCoef(\"asjE\",1))\n",
      "ipf1=Case(\"ipf.1\")\n",
      "#ipf1.addForm(FormeCoef(\"brEdisE\",1))\n",
      "pst1=Case(\"pst.1\")\n",
      "#pst1.addForm(FormeCoef(\"fini\",1))\n",
      "prspcp=Case(\"prs.pcp\")\n",
      "#prspcp.addForm(FormeCoef(\"finis\u00e2\",1))\n",
      "\n",
      "lexical=Paradigme()\n",
      "#lexical.addEntrees(inf,prs1,pst1)\n",
      "lexical.addEntrees(prs1,prs2,prs3,prs6,ipf1,pst1,prspcp,inf)\n",
      "#lexical.addEntrees(prs1,pst1)\n",
      "#lexical.addEntrees(prs1,prspcp)"
     ],
     "language": "python",
     "metadata": {},
     "outputs": [],
     "prompt_number": 33
    },
    {
     "cell_type": "code",
     "collapsed": false,
     "input": [
      "lexical.intermediaires=lexical.entrees.copy()\n",
      "lexical.calculSorties(lexical.entrees)"
     ],
     "language": "python",
     "metadata": {},
     "outputs": [
      {
       "output_type": "stream",
       "stream": "stdout",
       "text": [
        "{} False prs.6 []\n",
        "{} False prs.2 []\n",
        "{} False prs.3 []\n",
        "nomCase imp.2 not in intermediaires\n",
        "nomCase fut.1 not in intermediaires\n",
        "nomCase fut.1 not in intermediaires\n",
        "nomCase fut.2 not in intermediaires\n",
        "nomCase fut.2 not in intermediaires\n",
        "nomCase fut.3 not in intermediaires\n",
        "nomCase fut.3 not in intermediaires\n",
        "nomCase fut.4 not in intermediaires\n",
        "nomCase fut.4 not in intermediaires\n",
        "nomCase fut.5 not in intermediaires\n",
        "nomCase fut.5 not in intermediaires\n",
        "nomCase fut.6 not in intermediaires\n",
        "nomCase fut.6 not in intermediaires\n",
        "nomCase cond.1 not in intermediaires\n",
        "nomCase cond.1 not in intermediaires\n",
        "nomCase cond.2 not in intermediaires\n",
        "nomCase cond.2 not in intermediaires\n",
        "nomCase cond.3 not in intermediaires\n",
        "nomCase cond.3 not in intermediaires\n",
        "nomCase cond.4 not in intermediaires\n",
        "nomCase cond.4 not in intermediaires\n",
        "nomCase cond.5 not in intermediaires"
       ]
      },
      {
       "output_type": "stream",
       "stream": "stdout",
       "text": [
        "\n",
        "nomCase cond.5 not in intermediaires\n",
        "nomCase cond.6 not in intermediaires\n",
        "nomCase cond.6 not in intermediaires\n",
        "{} False ipf.1 []\n",
        "{} False prs.pcp []\n",
        "{} False inf []\n",
        "{} False pst.1 []\n"
       ]
      }
     ],
     "prompt_number": 7
    },
    {
     "cell_type": "code",
     "collapsed": false,
     "input": [
      "lexical.calculNouveau()"
     ],
     "language": "python",
     "metadata": {},
     "outputs": [],
     "prompt_number": 9
    },
    {
     "cell_type": "code",
     "collapsed": false,
     "input": [
      "lexical.nouveau"
     ],
     "language": "python",
     "metadata": {},
     "outputs": [
      {
       "metadata": {},
       "output_type": "pyout",
       "prompt_number": 10,
       "text": [
        "{'cond.1': [(\"pr\u00e2tirE\",0.1),(\"pr\u00e2drE\",0.9)],\n",
        " 'cond.2': [(\"pr\u00e2tirE\",0.1),(\"pr\u00e2drE\",0.9)],\n",
        " 'cond.3': [(\"pr\u00e2tirE\",0.1),(\"pr\u00e2drE\",0.9)],\n",
        " 'cond.4': [(\"pr\u00e2drij\u00f4\",0.9),(\"pr\u00e2tirj\u00f4\",0.1)],\n",
        " 'cond.5': [(\"pr\u00e2tirjE\",0.1),(\"pr\u00e2drijE\",0.9)],\n",
        " 'cond.6': [(\"pr\u00e2tirE\",0.1),(\"pr\u00e2drE\",0.9)],\n",
        " 'fut.1': [(\"pr\u00e2tirE\",0.1),(\"pr\u00e2drE\",0.9)],\n",
        " 'fut.2': [(\"pr\u00e2tira\",0.1),(\"pr\u00e2dra\",0.9)],\n",
        " 'fut.3': [(\"pr\u00e2tira\",0.1),(\"pr\u00e2dra\",0.9)],\n",
        " 'fut.4': [(\"pr\u00e2tir\u00f4\",0.1),(\"pr\u00e2dr\u00f4\",0.9)],\n",
        " 'fut.5': [(\"pr\u00e2tirE\",0.1),(\"pr\u00e2drE\",0.9)],\n",
        " 'fut.6': [(\"pr\u00e2tir\u00f4\",0.1),(\"pr\u00e2dr\u00f4\",0.9)],\n",
        " 'imp.2': [(\"pr\u00e2\",1)],\n",
        " 'inf': [(\"pr\u00e2tir\",0.15),(\"pr\u00e2dr\",0.85)],\n",
        " 'prs.1': [(\"pr\u00e2\",1)],\n",
        " 'prs.2': [(\"pr\u00e2\",1)],\n",
        " 'prs.3': [(\"pr\u00e2\",1)]}"
       ]
      }
     ],
     "prompt_number": 10
    },
    {
     "cell_type": "code",
     "collapsed": false,
     "input": [
      "lexical.calculerParadigme()\n",
      "cliques=faireCliques(lexical)"
     ],
     "language": "python",
     "metadata": {},
     "outputs": []
    },
    {
     "cell_type": "code",
     "collapsed": false,
     "input": [
      "nx.write_dot(lexical.graphe,\"graphe.dot\")\n",
      "nx.write_dot(lexical.digraphe,\"digraphe.dot\")"
     ],
     "language": "python",
     "metadata": {},
     "outputs": []
    },
    {
     "cell_type": "markdown",
     "metadata": {},
     "source": [
      "for n in range(len(cliques)):\n",
      "    print (n)\n",
      "    digraphe=lexical.digraphe.subgraph(cliques[n])\n",
      "    nx.write_dot(digraphe,\"clique%d.dot\"%n)"
     ]
    },
    {
     "cell_type": "code",
     "collapsed": false,
     "input": [
      "#lexical.getCoefNewForm(\"ipf.1\",\"finisE\")"
     ],
     "language": "python",
     "metadata": {},
     "outputs": []
    },
    {
     "cell_type": "code",
     "collapsed": false,
     "input": [
      "#lexical.digraphe.node[\"ipf.1-finisE\"]"
     ],
     "language": "python",
     "metadata": {},
     "outputs": []
    },
    {
     "cell_type": "code",
     "collapsed": false,
     "input": [
      "#lexical.intermediaires[\"ipf.1\"]"
     ],
     "language": "python",
     "metadata": {},
     "outputs": []
    },
    {
     "cell_type": "code",
     "collapsed": false,
     "input": [
      "#lexical.sorties"
     ],
     "language": "python",
     "metadata": {},
     "outputs": []
    },
    {
     "cell_type": "code",
     "collapsed": false,
     "input": [
      "modifierForme(u\"r6pr\u00e2\",1635)"
     ],
     "language": "python",
     "metadata": {},
     "outputs": []
    },
    {
     "cell_type": "code",
     "collapsed": false,
     "input": [
      "lexical.sorties"
     ],
     "language": "python",
     "metadata": {},
     "outputs": []
    },
    {
     "cell_type": "code",
     "collapsed": false,
     "input": [
      "PDM.analyse.pairesCase[\"prs.1\"]"
     ],
     "language": "python",
     "metadata": {},
     "outputs": []
    },
    {
     "cell_type": "code",
     "collapsed": false,
     "input": [
      "paire=Paire(\"prs.1\",\"prs.2\")"
     ],
     "language": "python",
     "metadata": {},
     "outputs": []
    },
    {
     "cell_type": "code",
     "collapsed": false,
     "input": [
      "for numRegle in PDM.analyse.reglesPaire[paire]:\n",
      "    print numRegle, modifierForme(\"pr\u00e2\",numRegle)"
     ],
     "language": "python",
     "metadata": {},
     "outputs": []
    },
    {
     "cell_type": "code",
     "collapsed": false,
     "input": [
      "modifierForme(\"pr\u00e2\",1623)"
     ],
     "language": "python",
     "metadata": {},
     "outputs": []
    },
    {
     "cell_type": "code",
     "collapsed": false,
     "input": [
      "inCase=\"prs.1\"\n",
      "for formeCoef in lexical[inCase].numValeurs():\n",
      "    forme=formeCoef.forme\n",
      "    for outCase in PDM.analyse.pairesCase[inCase]:\n",
      "        paire=Paire(inCase,outCase)\n",
      "        formeSorties=FormeClasse(forme)\n",
      "        for numRegle in PDM.analyse.reglesPaire[paire]:\n",
      "            (entree,sortie)=modifierForme(forme,numRegle)\n",
      "            if sortie!=\"\":\n",
      "                print formeSorties\n",
      "                formeSorties.addRule(RegleDist(numRegle,1,sortie,entree),force=True)\n",
      "                print formeSorties\n",
      "                formeSorties.addRule(RegleDist(numRegle,1,sortie,entree),force=True)\n",
      "                print formeSorties\n",
      "        print paire,formeSorties\n",
      "        if formeSorties in PDM.classification.classes[paire]:\n",
      "            numClasse=PDM.classification.classes[paire].index(formeSorties)\n",
      "            for numRegle in formeSorties.reglesDist:\n",
      "                formeSorties.reglesDist[numRegle].dist=PDM.classification.classes[paire][numClasse].reglesDist[numRegle].dist\n",
      "            lexical.addSortie(paire,formeSorties)\n",
      "            if verbose: print(\"\\t\\t\\tformeSorties\",paire,formeSorties)\n",
      "        else:\n",
      "            if verbose: print (\"formeSorties\",formeSorties.getRules())\n",
      "            if verbose: print (\"classes\", classification.classes[paire])\n",
      "            if verbose: print (\"pas de classe\", paire, formeSorties)\n",
      "        "
     ],
     "language": "python",
     "metadata": {},
     "outputs": [
      {
       "output_type": "stream",
       "stream": "stdout",
       "text": [
        "prs.1=>ipf.1 pr\u00e2 : [1511 (0 pr\u00e2tE), 1503 (0 pr6nE)]\n",
        "prs.1=>ipf.2 pr\u00e2 : [1511 (0 pr\u00e2tE), 1503 (0 pr6nE)]\n",
        "prs.1=>ipf.3 pr\u00e2 : [1511 (0 pr\u00e2tE), 1503 (0 pr6nE)]\n",
        "prs.1=>ipf.4 pr\u00e2 : [1556 (0 pr\u00e2tj\u00f4), 1539 (0 pr\u00e2j\u00f4), 1548 (0 pr6nj\u00f4)]\n",
        "prs.1=>ipf.5 pr\u00e2 : [1584 (0 pr\u00e2jE), 1592 (0 pr6njE), 1599 (0 pr\u00e2tjE)]\n",
        "prs.1=>ipf.6 pr\u00e2 : [1511 (0 pr\u00e2tE), 1503 (0 pr6nE)]\n",
        "prs.1=>prs.2 pr\u00e2 : [1623 (1 pr\u00e2)]\n",
        "nomCase prs.1 not in intermediaires\n",
        "nomCase prs.2 not in intermediaires\n",
        "prs.1=>prs.3 pr\u00e2 : [1623 (1 pr\u00e2)]\n",
        "nomCase prs.1 not in intermediaires\n",
        "nomCase prs.3 not in intermediaires\n",
        "prs.1=>prs.4 pr\u00e2 : [1642 (0 pr\u00e2t\u00f4), 1635 (0 pr6n\u00f4)]\n",
        "prs.1=>prs.5 pr\u00e2 : [1511 (0 pr\u00e2tE), 1503 (0 pr6nE)]\n",
        "prs.1=>prs.6 pr\u00e2 : [1671 (0 prEn), 1677 (0 pr\u00e2t), 1623 (0 pr\u00e2)]\n",
        "prs.1=>imp.2 pr\u00e2 : [1623 (1 pr\u00e2)]\n",
        "nomCase prs.1 not in intermediaires\n",
        "nomCase imp.2 not in intermediaires\n",
        "prs.1=>imp.4 pr\u00e2 : [1642 (0 pr\u00e2t\u00f4), 1635 (0 pr6n\u00f4)]\n",
        "prs.1=>imp.5 pr\u00e2 : [1511 (0 pr\u00e2tE), 1503 (0 pr6nE)]\n",
        "prs.1=>sbjv.1 pr\u00e2 : [1671 (0 prEn), 1677 (0 pr\u00e2t), 1623 (0 pr\u00e2)]\n",
        "prs.1=>sbjv.2 pr\u00e2 : [1671 (0 prEn), 1677 (0 pr\u00e2t), 1623 (0 pr\u00e2)]\n",
        "prs.1=>sbjv.3 pr\u00e2 : [1671 (0 prEn), 1677 (0 pr\u00e2t), 1623 (0 pr\u00e2)]\n",
        "prs.1=>sbjv.4 pr\u00e2 : [1556 (0 pr\u00e2tj\u00f4), 1539 (0 pr\u00e2j\u00f4), 1548 (0 pr6nj\u00f4)]\n",
        "prs.1=>sbjv.5 pr\u00e2 : [1584 (0 pr\u00e2jE), 1592 (0 pr6njE), 1599 (0 pr\u00e2tjE)]\n",
        "prs.1=>sbjv.6 pr\u00e2 : [1671 (0 prEn), 1677 (0 pr\u00e2t), 1623 (0 pr\u00e2)]\n",
        "prs.1=>fut.1 pr\u00e2 : [1717 (0 pr\u00e2tirE), 1711 (0 pr\u00e2drE)]\n",
        "nomCase prs.1 not in intermediaires\n",
        "nomCase fut.1 not in intermediaires\n",
        "nomCase fut.1 not in intermediaires\n",
        "prs.1=>fut.2 pr\u00e2 : [1744 (0 pr\u00e2tira), 1738 (0 pr\u00e2dra)]\n",
        "nomCase prs.1 not in intermediaires\n",
        "nomCase fut.2 not in intermediaires\n",
        "nomCase fut.2 not in intermediaires\n",
        "prs.1=>fut.3 pr\u00e2 : [1744 (0 pr\u00e2tira), 1738 (0 pr\u00e2dra)]\n",
        "nomCase prs.1 not in intermediaires\n",
        "nomCase fut.3 not in intermediaires\n",
        "nomCase fut.3 not in intermediaires\n",
        "prs.1=>fut.4 pr\u00e2 : [1772 (0 pr\u00e2tir\u00f4), 1766 (0 pr\u00e2dr\u00f4)]\n",
        "nomCase prs.1 not in intermediaires\n",
        "nomCase fut.4 not in intermediaires\n",
        "nomCase fut.4 not in intermediaires\n",
        "prs.1=>fut.5 pr\u00e2 : [1717 (0 pr\u00e2tirE), 1711 (0 pr\u00e2drE)]\n",
        "nomCase prs.1 not in intermediaires\n",
        "nomCase fut.5 not in intermediaires\n",
        "nomCase fut.5 not in intermediaires\n",
        "prs.1=>fut.6 pr\u00e2 : [1772 (0 pr\u00e2tir\u00f4), 1766 (0 pr\u00e2dr\u00f4)]\n",
        "nomCase prs.1 not in intermediaires\n",
        "nomCase fut.6 not in intermediaires\n",
        "nomCase fut.6 not in intermediaires\n",
        "prs.1=>cond.1 pr\u00e2 : [1717 (0 pr\u00e2tirE), 1711 (0 pr\u00e2drE)]\n",
        "nomCase prs.1 not in intermediaires\n",
        "nomCase cond.1 not in intermediaires\n",
        "nomCase cond.1 not in intermediaires\n",
        "prs.1=>cond.2 pr\u00e2 : [1717 (0 pr\u00e2tirE), 1711 (0 pr\u00e2drE)]\n",
        "nomCase prs.1 not in intermediaires\n",
        "nomCase cond.2 not in intermediaires\n",
        "nomCase cond.2 not in intermediaires\n",
        "prs.1=>cond.3 pr\u00e2 : [1717 (0 pr\u00e2tirE), 1711 (0 pr\u00e2drE)]\n",
        "nomCase prs.1 not in intermediaires\n",
        "nomCase cond.3 not in intermediaires\n",
        "nomCase cond.3 not in intermediaires\n",
        "prs.1=>cond.4 pr\u00e2 : [1793 (0 pr\u00e2drij\u00f4), 1799 (0 pr\u00e2tirj\u00f4)]\n",
        "nomCase prs.1 not in intermediaires\n",
        "nomCase cond.4 not in intermediaires\n",
        "nomCase cond.4 not in intermediaires\n",
        "prs.1=>cond.5 pr\u00e2 : [1825 (0 pr\u00e2tirjE), 1819 (0 pr\u00e2drijE)]\n",
        "nomCase prs.1 not in intermediaires\n",
        "nomCase cond.5 not in intermediaires\n",
        "nomCase cond.5 not in intermediaires\n",
        "prs.1=>cond.6 pr\u00e2 : [1717 (0 pr\u00e2tirE), 1711 (0 pr\u00e2drE)]\n",
        "nomCase prs.1 not in intermediaires\n",
        "nomCase cond.6 not in intermediaires\n",
        "nomCase cond.6 not in intermediaires\n",
        "prs.1=>pst.1 pr\u00e2 : [1848 (0 pri), 1856 (0 pr\u00e2ti)]\n",
        "prs.1=>pst.2 pr\u00e2 : [1848 (0 pri), 1856 (0 pr\u00e2ti)]\n",
        "prs.1=>pst.3 pr\u00e2 : [1848 (0 pri), 1856 (0 pr\u00e2ti)]\n",
        "prs.1=>pst.4 pr\u00e2 : [1904 (0 prim), 1914 (0 pr\u00e2tim)]\n",
        "prs.1=>pst.5 pr\u00e2 : [1954 (0 prit), 1964 (0 pr\u00e2tit)]\n",
        "prs.1=>pst.6 pr\u00e2 : [2004 (0 prir), 2014 (0 pr\u00e2tir)]\n",
        "prs.1=>pst.sbj.1 pr\u00e2 : [2064 (0 pr\u00e2tis), 2054 (0 pris)]\n",
        "prs.1=>pst.sbj.2 pr\u00e2 : [2064 (0 pr\u00e2tis), 2054 (0 pris)]\n",
        "prs.1=>pst.sbj.3 pr\u00e2 : [1848 (0 pri), 1856 (0 pr\u00e2ti)]\n",
        "prs.1=>pst.sbj.4 pr\u00e2 : [2112 (0 pr\u00e2tisj\u00f4), 2102 (0 prisj\u00f4)]\n",
        "prs.1=>pst.sbj.5 pr\u00e2 : [2160 (0 pr\u00e2tisjE), 2150 (0 prisjE)]\n",
        "prs.1=>pst.sbj.6 pr\u00e2 : [2064 (0 pr\u00e2tis), 2054 (0 pris)]\n",
        "prs.1=>inf pr\u00e2 : [2014 (0 pr\u00e2tir), 2190 (0 pr\u00e2dr)]\n",
        "nomCase prs.1 not in intermediaires"
       ]
      },
      {
       "output_type": "stream",
       "stream": "stdout",
       "text": [
        "\n",
        "nomCase inf not in intermediaires\n",
        "nomCase inf not in intermediaires\n",
        "prs.1=>prs.pcp pr\u00e2 : [2219 (0 pr6n\u00e2), 2227 (0 pr\u00e2t\u00e2)]\n",
        "prs.1=>pst.pcp pr\u00e2 : [1848 (0 pri), 2259 (0 pr\u00e2ti)]\n"
       ]
      }
     ],
     "prompt_number": 34
    },
    {
     "cell_type": "code",
     "collapsed": false,
     "input": [
      "lexical.sorties"
     ],
     "language": "python",
     "metadata": {},
     "outputs": [
      {
       "metadata": {},
       "output_type": "pyout",
       "prompt_number": 23,
       "text": [
        "{'cond.1': {prs.1=>cond.1: [pr\u00e2 : [1717 (0.1 pr\u00e2tirE), 1711 (0.9 pr\u00e2drE)]]},\n",
        " 'cond.2': {prs.1=>cond.2: [pr\u00e2 : [1717 (0.1 pr\u00e2tirE), 1711 (0.9 pr\u00e2drE)]]},\n",
        " 'cond.3': {prs.1=>cond.3: [pr\u00e2 : [1717 (0.1 pr\u00e2tirE), 1711 (0.9 pr\u00e2drE)]]},\n",
        " 'cond.4': {prs.1=>cond.4: [pr\u00e2 : [1793 (0.9 pr\u00e2drij\u00f4), 1799 (0.1 pr\u00e2tirj\u00f4)]]},\n",
        " 'cond.5': {prs.1=>cond.5: [pr\u00e2 : [1825 (0.1 pr\u00e2tirjE), 1819 (0.9 pr\u00e2drijE)]]},\n",
        " 'cond.6': {prs.1=>cond.6: [pr\u00e2 : [1717 (0.1 pr\u00e2tirE), 1711 (0.9 pr\u00e2drE)]]},\n",
        " 'fut.1': {prs.1=>fut.1: [pr\u00e2 : [1717 (0.1 pr\u00e2tirE), 1711 (0.9 pr\u00e2drE)]]},\n",
        " 'fut.2': {prs.1=>fut.2: [pr\u00e2 : [1744 (0.1 pr\u00e2tira), 1738 (0.9 pr\u00e2dra)]]},\n",
        " 'fut.3': {prs.1=>fut.3: [pr\u00e2 : [1744 (0.1 pr\u00e2tira), 1738 (0.9 pr\u00e2dra)]]},\n",
        " 'fut.4': {prs.1=>fut.4: [pr\u00e2 : [1772 (0.1 pr\u00e2tir\u00f4), 1766 (0.9 pr\u00e2dr\u00f4)]]},\n",
        " 'fut.5': {prs.1=>fut.5: [pr\u00e2 : [1717 (0.1 pr\u00e2tirE), 1711 (0.9 pr\u00e2drE)]]},\n",
        " 'fut.6': {prs.1=>fut.6: [pr\u00e2 : [1772 (0.1 pr\u00e2tir\u00f4), 1766 (0.9 pr\u00e2dr\u00f4)]]},\n",
        " 'imp.2': {prs.1=>imp.2: [pr\u00e2 : [1623 (1 pr\u00e2)]]},\n",
        " 'inf': {prs.1=>inf: [pr\u00e2 : [2014 (0.15 pr\u00e2tir), 2190 (0.85 pr\u00e2dr)]]},\n",
        " 'prs.2': {prs.1=>prs.2: [pr\u00e2 : [1623 (1 pr\u00e2)]]},\n",
        " 'prs.3': {prs.1=>prs.3: [pr\u00e2 : [1623 (1 pr\u00e2)]]}}"
       ]
      }
     ],
     "prompt_number": 23
    },
    {
     "cell_type": "code",
     "collapsed": false,
     "input": [
      "case=Case(\"prs.4\")\n",
      "for vecteur in lexical.sorties[\"prs.4\"]:\n",
      "    print \"vecteur\",vecteur,vecteur.entree\n",
      "    for fc in lexical.sorties[\"prs.4\"][vecteur]:\n",
      "        print \"fc\",fc\n",
      "        for rd in fc.numRulesDist():\n",
      "            print \"rd\",rd, rd.sortie,rd.dist,rd.nom, lexical.getCoefNewForm(vecteur.entree, rd.nom)\n",
      "            if rd.dist!=0:\n",
      "                case.addForm(FormeCoef(rd.sortie,rd.dist*lexical.getCoefNewForm(vecteur.entree, rd.nom)))\n",
      "print \"case\",case\n",
      "nouvelleCase=Case(\"prs.4\")\n",
      "nouvelleCase.addForms(case.numValeurs())\n",
      "print nouvelleCase"
     ],
     "language": "python",
     "metadata": {},
     "outputs": [
      {
       "ename": "KeyError",
       "evalue": "'prs.4'",
       "output_type": "pyerr",
       "traceback": [
        "\u001b[0;31m---------------------------------------------------------------------------\u001b[0m\n\u001b[0;31mKeyError\u001b[0m                                  Traceback (most recent call last)",
        "\u001b[0;32m<ipython-input-14-a185ef56a632>\u001b[0m in \u001b[0;36m<module>\u001b[0;34m()\u001b[0m\n\u001b[1;32m      1\u001b[0m \u001b[0mcase\u001b[0m\u001b[0;34m=\u001b[0m\u001b[0mCase\u001b[0m\u001b[0;34m(\u001b[0m\u001b[0;34m\"prs.4\"\u001b[0m\u001b[0;34m)\u001b[0m\u001b[0;34m\u001b[0m\u001b[0m\n\u001b[0;32m----> 2\u001b[0;31m \u001b[0;32mfor\u001b[0m \u001b[0mvecteur\u001b[0m \u001b[0;32min\u001b[0m \u001b[0mlexical\u001b[0m\u001b[0;34m.\u001b[0m\u001b[0msorties\u001b[0m\u001b[0;34m[\u001b[0m\u001b[0;34m\"prs.4\"\u001b[0m\u001b[0;34m]\u001b[0m\u001b[0;34m:\u001b[0m\u001b[0;34m\u001b[0m\u001b[0m\n\u001b[0m\u001b[1;32m      3\u001b[0m     \u001b[0;32mprint\u001b[0m \u001b[0;34m\"vecteur\"\u001b[0m\u001b[0;34m,\u001b[0m\u001b[0mvecteur\u001b[0m\u001b[0;34m,\u001b[0m\u001b[0mvecteur\u001b[0m\u001b[0;34m.\u001b[0m\u001b[0mentree\u001b[0m\u001b[0;34m\u001b[0m\u001b[0m\n\u001b[1;32m      4\u001b[0m     \u001b[0;32mfor\u001b[0m \u001b[0mfc\u001b[0m \u001b[0;32min\u001b[0m \u001b[0mlexical\u001b[0m\u001b[0;34m.\u001b[0m\u001b[0msorties\u001b[0m\u001b[0;34m[\u001b[0m\u001b[0;34m\"prs.4\"\u001b[0m\u001b[0;34m]\u001b[0m\u001b[0;34m[\u001b[0m\u001b[0mvecteur\u001b[0m\u001b[0;34m]\u001b[0m\u001b[0;34m:\u001b[0m\u001b[0;34m\u001b[0m\u001b[0m\n\u001b[1;32m      5\u001b[0m         \u001b[0;32mprint\u001b[0m \u001b[0;34m\"fc\"\u001b[0m\u001b[0;34m,\u001b[0m\u001b[0mfc\u001b[0m\u001b[0;34m\u001b[0m\u001b[0m\n",
        "\u001b[0;31mKeyError\u001b[0m: 'prs.4'"
       ]
      }
     ],
     "prompt_number": 14
    },
    {
     "cell_type": "code",
     "collapsed": false,
     "input": [
      "lexical.nouveau"
     ],
     "language": "python",
     "metadata": {},
     "outputs": [
      {
       "metadata": {},
       "output_type": "pyout",
       "prompt_number": 13,
       "text": [
        "{'cond.1': [(\"pr\u00e2tirE\",0.1),(\"pr\u00e2drE\",0.9)],\n",
        " 'cond.2': [(\"pr\u00e2tirE\",0.1),(\"pr\u00e2drE\",0.9)],\n",
        " 'cond.3': [(\"pr\u00e2tirE\",0.1),(\"pr\u00e2drE\",0.9)],\n",
        " 'cond.4': [(\"pr\u00e2drij\u00f4\",0.9),(\"pr\u00e2tirj\u00f4\",0.1)],\n",
        " 'cond.5': [(\"pr\u00e2tirjE\",0.1),(\"pr\u00e2drijE\",0.9)],\n",
        " 'cond.6': [(\"pr\u00e2tirE\",0.1),(\"pr\u00e2drE\",0.9)],\n",
        " 'fut.1': [(\"pr\u00e2tirE\",0.1),(\"pr\u00e2drE\",0.9)],\n",
        " 'fut.2': [(\"pr\u00e2tira\",0.1),(\"pr\u00e2dra\",0.9)],\n",
        " 'fut.3': [(\"pr\u00e2tira\",0.1),(\"pr\u00e2dra\",0.9)],\n",
        " 'fut.4': [(\"pr\u00e2tir\u00f4\",0.1),(\"pr\u00e2dr\u00f4\",0.9)],\n",
        " 'fut.5': [(\"pr\u00e2tirE\",0.1),(\"pr\u00e2drE\",0.9)],\n",
        " 'fut.6': [(\"pr\u00e2tir\u00f4\",0.1),(\"pr\u00e2dr\u00f4\",0.9)],\n",
        " 'imp.2': [(\"pr\u00e2\",1)],\n",
        " 'inf': [(\"pr\u00e2tir\",0.15),(\"pr\u00e2dr\",0.85)],\n",
        " 'prs.1': [(\"pr\u00e2\",1)],\n",
        " 'prs.2': [(\"pr\u00e2\",1)],\n",
        " 'prs.3': [(\"pr\u00e2\",1)]}"
       ]
      }
     ],
     "prompt_number": 13
    },
    {
     "cell_type": "code",
     "collapsed": false,
     "input": [],
     "language": "python",
     "metadata": {},
     "outputs": [],
     "prompt_number": 19
    }
   ],
   "metadata": {}
  }
 ]
}