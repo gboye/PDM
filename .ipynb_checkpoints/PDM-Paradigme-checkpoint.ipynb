{
 "metadata": {
  "name": "",
  "signature": "sha256:2fa809823ff03949986ea70f9bec704f6fc3daeef58f1bfc19f636667b7d2502"
 },
 "nbformat": 3,
 "nbformat_minor": 0,
 "worksheets": [
  {
   "cells": [
    {
     "cell_type": "code",
     "collapsed": false,
     "input": [
      "from PDM import *\n",
      "import PDM \n",
      "import pickle\n",
      "import warnings"
     ],
     "language": "python",
     "metadata": {},
     "outputs": [],
     "prompt_number": 1
    },
    {
     "cell_type": "code",
     "collapsed": false,
     "input": [
      "PDM.seuilDistribution=0.01\n",
      "verbose=False"
     ],
     "language": "python",
     "metadata": {},
     "outputs": [],
     "prompt_number": 2
    },
    {
     "cell_type": "code",
     "collapsed": false,
     "input": [
      "analyse=Regles()\n",
      "classification=Classes()"
     ],
     "language": "python",
     "metadata": {},
     "outputs": [],
     "prompt_number": 3
    },
    {
     "cell_type": "code",
     "collapsed": false,
     "input": [
      "with open('Regles.pkl', 'rb') as input:\n",
      "    analyse = pickle.load(input)\n",
      "with open('Classes.pkl', 'rb') as input:\n",
      "    classification = pickle.load(input)"
     ],
     "language": "python",
     "metadata": {},
     "outputs": [],
     "prompt_number": 4
    },
    {
     "cell_type": "markdown",
     "metadata": {},
     "source": [
      "#D\u00e9finition de la repr\u00e9sentation lexicale\n",
      "\n",
      "- Cr\u00e9ation des cases\n",
      " - Ajout des formes\n",
      "- Cr\u00e9ation du paradigme\n",
      " - Ajout des cases"
     ]
    },
    {
     "cell_type": "code",
     "collapsed": false,
     "input": [
      "inf=Case(\"inf\")\n",
      "inf.addForm(FormeCoef(\"finir\",1))\n",
      "prs1=Case(\"prs.1\")\n",
      "prs1.addForm(FormeCoef(\"fini\",1))\n",
      "pst1=Case(\"pst.1\")\n",
      "pst1.addForm(FormeCoef(\"fini\",1))"
     ],
     "language": "python",
     "metadata": {},
     "outputs": [],
     "prompt_number": 5
    },
    {
     "cell_type": "code",
     "collapsed": false,
     "input": [
      "lexical=Paradigme()\n",
      "lexical.addEntrees(inf,prs1,pst1)\n",
      "lexical"
     ],
     "language": "python",
     "metadata": {},
     "outputs": [
      {
       "metadata": {},
       "output_type": "pyout",
       "prompt_number": 6,
       "text": [
        "entrees : {pst.1 : [(\"fini\",1)], inf : [(\"finir\",1)], prs.1 : [(\"fini\",1)]} \n",
        "sorties : {}"
       ]
      }
     ],
     "prompt_number": 6
    },
    {
     "cell_type": "code",
     "collapsed": false,
     "input": [
      "def modifierForme(forme,numRegle):\n",
      "    patron=analyse.regles[numRegle].patron\n",
      "    mod=analyse.regles[numRegle].mod\n",
      "\n",
      "    m=re.search(patron,forme)\n",
      "    if m:\n",
      "        sortie=m.group(1)+mod+m.group(2)\n",
      "        return(forme,sortie)\n",
      "    else:\n",
      "        return (forme,\"\")"
     ],
     "language": "python",
     "metadata": {},
     "outputs": [],
     "prompt_number": 7
    },
    {
     "cell_type": "code",
     "collapsed": false,
     "input": [
      "def calculerParadigme(lexeme):\n",
      "    verbe=Paradigme()\n",
      "    verbe.entrees=lexeme.nouveau\n",
      "    for inCase in verbe.entrees:\n",
      "        for fc in verbe.entrees[inCase]:\n",
      "            forme=fc.forme\n",
      "            for outCase in analyse.pairesCase[inCase]:\n",
      "                paire=Paire(inCase,outCase)\n",
      "                formeSorties=FormeClasse(forme)\n",
      "                for numRegle in analyse.reglesPaire[paire]:\n",
      "                    (entree,sortie)=modifierForme(forme,numRegle)\n",
      "                    if sortie!=\"\":\n",
      "                        formeSorties.addRule(RegleDist(numRegle,1,sortie,entree),True)\n",
      "                if formeSorties in classification.classes[paire]:\n",
      "                    numClasse=classification.classes[paire].index(formeSorties)\n",
      "                    for numRegle in formeSorties.reglesDist:\n",
      "                        formeSorties.reglesDist[numRegle].dist=classification.classes[paire][numClasse].reglesDist[numRegle].dist\n",
      "                    verbe.addSortie(paire,formeSorties)\n",
      "                    for rd in formeSorties.numRulesDist():\n",
      "                        if rd.dist!=0:\n",
      "                            verbe.addSupporter(paire,rd)\n",
      "                else:\n",
      "                    print (\"formeSorties\",formeSorties)\n",
      "                    print (\"classes\", classification.classes[paire])\n",
      "                    if verbose:\n",
      "                        print (\"pas de classe\", paire, formeSorties)\n",
      "    for nomCase in verbe.sorties:\n",
      "        case=Case(nomCase)\n",
      "        for vecteur in verbe.sorties[nomCase]:\n",
      "            for fc in verbe.sorties[nomCase][vecteur]:\n",
      "                for rd in fc.numRulesDist():\n",
      "#                    print (rd)\n",
      "                    if rd.dist!=0:\n",
      "                        case.addForm(FormeCoef(rd.sortie,rd.dist))\n",
      "        verbe.nouveau[nomCase]=case\n",
      "    return verbe\n",
      "            "
     ],
     "language": "python",
     "metadata": {},
     "outputs": [],
     "prompt_number": 8
    },
    {
     "cell_type": "code",
     "collapsed": false,
     "input": [
      "def etayage(verbe, nb):\n",
      "    for outCase in verbe.supporters:\n",
      "        print (outCase)\n",
      "        for forme in verbe.supporters[outCase]:\n",
      "            nbCases=len(verbe.supporters[outCase][forme])\n",
      "            if nbCases>nb:\n",
      "                print (\"\\t\",forme,nbCases)\n",
      "                if verbose:\n",
      "                    for inCase in verbe.supporters[outCase][forme]:\n",
      "                        print (\"\\t\\t\",inCase,verbe.supporters[outCase][forme][inCase].reglesDist)\n"
     ],
     "language": "python",
     "metadata": {},
     "outputs": [],
     "prompt_number": 9
    },
    {
     "cell_type": "code",
     "collapsed": false,
     "input": [
      "verbe=Paradigme()\n",
      "verbe.nouveau=lexical.entrees\n",
      "print (verbe)\n",
      "for i in range(2):\n",
      "    verbe=calculerParadigme(verbe)    "
     ],
     "language": "python",
     "metadata": {},
     "outputs": [
      {
       "output_type": "stream",
       "stream": "stdout",
       "text": [
        "entrees : {} \n",
        "sorties : {}\n"
       ]
      }
     ],
     "prompt_number": 10
    },
    {
     "cell_type": "markdown",
     "metadata": {},
     "source": [
      "for nomCase in verbe.sorties:\n",
      "    case=Case(nomCase)\n",
      "    for vecteur in verbe.sorties[nomCase]:\n",
      "        for element in verbe.sorties[nomCase][vecteur].numRulesDist():\n",
      "            case.addForm(FormeCoef(element.sortie,element.dist))\n",
      "    verbe.nouveau[nomCase]=case"
     ]
    },
    {
     "cell_type": "code",
     "collapsed": false,
     "input": [
      "verbe.nouveau"
     ],
     "language": "python",
     "metadata": {},
     "outputs": [
      {
       "metadata": {},
       "output_type": "pyout",
       "prompt_number": 13,
       "text": [
        "{}"
       ]
      }
     ],
     "prompt_number": 13
    },
    {
     "cell_type": "code",
     "collapsed": false,
     "input": [
      "etayage(verbe,2)"
     ],
     "language": "python",
     "metadata": {},
     "outputs": [],
     "prompt_number": 12
    },
    {
     "cell_type": "code",
     "collapsed": false,
     "input": [],
     "language": "python",
     "metadata": {},
     "outputs": [],
     "prompt_number": 12
    }
   ],
   "metadata": {}
  }
 ]
}