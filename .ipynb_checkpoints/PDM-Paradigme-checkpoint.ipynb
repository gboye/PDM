{
 "metadata": {
  "name": "",
  "signature": "sha256:49936c358f2f3e51833c409435f7a19ba0ba25e5cadffdc05f3df8f890b54653"
 },
 "nbformat": 3,
 "nbformat_minor": 0,
 "worksheets": [
  {
   "cells": [
    {
     "cell_type": "code",
     "collapsed": false,
     "input": [
      "from PDM import *\n",
      "import PDM \n",
      "import pickle"
     ],
     "language": "python",
     "metadata": {},
     "outputs": [],
     "prompt_number": 17
    },
    {
     "cell_type": "code",
     "collapsed": false,
     "input": [
      "PDM.seuilDistribution=0.1"
     ],
     "language": "python",
     "metadata": {},
     "outputs": [],
     "prompt_number": 18
    },
    {
     "cell_type": "code",
     "collapsed": false,
     "input": [
      "analyse=Regles()\n",
      "classification=Classes()"
     ],
     "language": "python",
     "metadata": {},
     "outputs": [],
     "prompt_number": 19
    },
    {
     "cell_type": "code",
     "collapsed": false,
     "input": [
      "with open('Regles.pkl', 'rb') as input:\n",
      "    analyse = pickle.load(input)\n",
      "with open('Classes.pkl', 'rb') as input:\n",
      "    classification = pickle.load(input)"
     ],
     "language": "python",
     "metadata": {},
     "outputs": [],
     "prompt_number": 20
    },
    {
     "cell_type": "markdown",
     "metadata": {},
     "source": [
      "#D\u00e9finition de la repr\u00e9sentation lexicale\n",
      "\n",
      "- Cr\u00e9ation des cases\n",
      " - Ajout des formes\n",
      "- Cr\u00e9ation du paradigme\n",
      " - Ajout des cases"
     ]
    },
    {
     "cell_type": "code",
     "collapsed": false,
     "input": [
      "inf=Case(\"inf\")\n",
      "inf.addForm(FormeCoef(\"finir\",1))\n",
      "prs1=Case(\"prs.1\")\n",
      "prs1.addForm(FormeCoef(\"fini\",1))\n",
      "pst1=Case(\"pst.1\")\n",
      "pst1.addForm(FormeCoef(\"fini\",1))"
     ],
     "language": "python",
     "metadata": {},
     "outputs": [],
     "prompt_number": 21
    },
    {
     "cell_type": "code",
     "collapsed": false,
     "input": [
      "verbe=Paradigme()\n",
      "verbe.addEntrees(inf,prs1,pst1)\n",
      "verbe"
     ],
     "language": "python",
     "metadata": {},
     "outputs": [
      {
       "metadata": {},
       "output_type": "pyout",
       "prompt_number": 22,
       "text": [
        "entrees : {inf : [(\"finir\",1)], prs.1 : [(\"fini\",1)], pst.1 : [(\"fini\",1)]} \n",
        "sorties : {}"
       ]
      }
     ],
     "prompt_number": 22
    },
    {
     "cell_type": "code",
     "collapsed": false,
     "input": [
      "def modifierForme(forme,numRegle):\n",
      "    patron=analyse.regles[numRegle].patron\n",
      "    mod=analyse.regles[numRegle].mod\n",
      "\n",
      "    m=re.search(patron,forme)\n",
      "    if m:\n",
      "        sortie=m.group(1)+mod+m.group(2)\n",
      "        return(forme,sortie)\n",
      "    else:\n",
      "        return (forme,\"\")"
     ],
     "language": "python",
     "metadata": {},
     "outputs": [],
     "prompt_number": 23
    },
    {
     "cell_type": "code",
     "collapsed": false,
     "input": [
      "for inCase in verbe.entrees:\n",
      "    for fc in verbe.entrees[inCase]:\n",
      "        forme=fc.forme\n",
      "        for outCase in analyse.pairesCase[inCase]:\n",
      "            paire=Paire(inCase,outCase)\n",
      "            formeSorties=FormeClasse(forme)\n",
      "            for numRegle in analyse.reglesPaire[paire]:\n",
      "                (entree,sortie)=modifierForme(forme,numRegle)\n",
      "                if sortie!=\"\":\n",
      "                    formeSorties.addRule(RegleDist(numRegle,1,sortie,entree))\n",
      "            if formeSorties in classification.classes[paire]:\n",
      "                numClasse=classification.classes[paire].index(formeSorties)\n",
      "                for numRegle in formeSorties.reglesDist:\n",
      "                    formeSorties.reglesDist[numRegle].dist=classification.classes[paire][numClasse].reglesDist[numRegle].dist\n",
      "                verbe.addSortie(paire,formeSorties)\n",
      "                for rd in formeSorties.numRulesDist():\n",
      "                    if rd.dist!=0:\n",
      "                        verbe.addSupporter(paire,rd)\n",
      "            else:\n",
      "                print (\"pas de classe\")\n",
      "            "
     ],
     "language": "python",
     "metadata": {},
     "outputs": [],
     "prompt_number": 24
    },
    {
     "cell_type": "code",
     "collapsed": false,
     "input": [
      "for outCase in verbe.supporters:\n",
      "    for forme in verbe.supporters[outCase]:\n",
      "        print (outCase,forme,verbe.supporters[outCase][forme])"
     ],
     "language": "python",
     "metadata": {},
     "outputs": []
    },
    {
     "cell_type": "code",
     "collapsed": false,
     "input": [
      "nomCase=\"ipf.4\"\n",
      "case=Case(nomCase)\n",
      "for vecteur in verbe.sorties[nomCase]:\n",
      "    for element in verbe.sorties[\"ipf.4\"][vecteur].numRulesDist():\n",
      "        case.addForm(FormeCoef(element.sortie,element.dist))"
     ],
     "language": "python",
     "metadata": {},
     "outputs": [],
     "prompt_number": 33
    },
    {
     "cell_type": "code",
     "collapsed": false,
     "input": [],
     "language": "python",
     "metadata": {},
     "outputs": []
    },
    {
     "cell_type": "code",
     "collapsed": false,
     "input": [],
     "language": "python",
     "metadata": {},
     "outputs": []
    }
   ],
   "metadata": {}
  }
 ]
}