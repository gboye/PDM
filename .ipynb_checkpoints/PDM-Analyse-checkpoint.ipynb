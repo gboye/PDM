{
 "metadata": {
  "name": "",
  "signature": "sha256:28295a4ab3995b7fb670db701ff5527146be023fd887b8443566223bbd509723"
 },
 "nbformat": 3,
 "nbformat_minor": 0,
 "worksheets": [
  {
   "cells": [
    {
     "cell_type": "code",
     "collapsed": false,
     "input": [
      "from PDM import Paire, Classes, Regles, PaireClasses, FormeClasse, RegleDist, formaterRegle\n",
      "import re\n",
      "import pickle"
     ],
     "language": "python",
     "metadata": {},
     "outputs": [],
     "prompt_number": 23
    },
    {
     "cell_type": "markdown",
     "metadata": {},
     "source": [
      "##Interface avec la sortie de PredSPE\n",
      "\n",
      "###Lecture des r\u00e8gles\n",
      "- On ouvre le fichier de r\u00e8gles PredSPE\n",
      "- On initialise les drapeaux *zoneRegles*, *zoneClasses* et *zoneClasse*\n",
      " - *zoneRegles* est vrai quand la ligne courante est une r\u00e8gle\n",
      "  - True apr\u00e8s *debutRegles* (\"Inferring rules\")\n",
      "- Les r\u00e8gles sont transform\u00e9es en expression r\u00e9guli\u00e8res.\n",
      "- *analyse* contient la liste des r\u00e8gles\n",
      " - c'est un objet du type Regles\n",
      "- *classification* contient les num\u00e9ros des r\u00e8gles utilis\u00e9es pour chaque paire de cases\n",
      " - c'est un objet du type Classes"
     ]
    },
    {
     "cell_type": "code",
     "collapsed": false,
     "input": [
      "analyse=Regles()\n",
      "classification=Classes()\n",
      "\n",
      "debutRegles=\"Inferring rules\"\n",
      "debutBloc=\"*****\"\n",
      "finRegles=\"done.\" # aussi \u00e0 la fin de la phonologie\n",
      "finClasses=\"conditional entropy for\"\n",
      "debutClasse=\"class\"\n",
      "finClasse=\"local conditional entropy\"\n",
      "\n",
      "def lirePredSPE(nomFichier):\n",
      "    try:\n",
      "        fichierPredSPE=open(nomFichier,\"r\")\n",
      "    except IOError:\n",
      "        print ('I could not open the file', nomFichier)\n",
      "        sys.exit()\n",
      "        \n",
      "    zoneRegles=False\n",
      "    zoneClasses=False\n",
      "    zoneClasse=False\n",
      "    \n",
      "    for line in fichierPredSPE:\n",
      "        line=line.strip()\n",
      "        m=re.search(\"^\\s*(\\S+)\\s+==>\\s+(\\S+)\\s*$\",line)\n",
      "        if m:\n",
      "            inCase=m.group(1)\n",
      "            outCase=m.group(2)\n",
      "        if debutBloc in line:\n",
      "            zoneRegles=False\n",
      "            zoneClasses=False\n",
      "        if finRegles in line:\n",
      "            zoneRegles=False\n",
      "        if finClasses in line:\n",
      "            zoneClasses=False        \n",
      "            paireCase=\"\"\n",
      "            classification.addPaireClasses(Paire(inCase,outCase),paireClasses)\n",
      "        if zoneRegles:\n",
      "            analyse.addRegle(Paire(inCase,outCase),line)\n",
      "            paireClasses=PaireClasses(Paire(inCase,outCase))\n",
      "        if zoneClasses:\n",
      "            if finClasse in line:\n",
      "                zoneClasse=False\n",
      "                formeClasse.nom=formeClasse.getRules()\n",
      "                paireClasses.addFormeClasse(formeClasse)\n",
      "            if zoneClasse:\n",
      "                (inPatron, mod, reste)=formaterRegle(line)\n",
      "                n=re.search(\"^.*\u2014(.+)%(?:\\s\\(([^,]*),.*|)$\",reste)\n",
      "                if n:\n",
      "                    if n.group(2):\n",
      "                        exemple=n.group(2)\n",
      "                    else:\n",
      "                        exemple=\"\"\n",
      "                    formeClasse.addRule(RegleDist(analyse.getNumRegle(inPatron,mod),float(n.group(1)),exemple,True))\n",
      "                else:\n",
      "                    warnings.warn(\"NO DISTRIBUTION IN %s\"%reste)\n",
      "            if debutClasse in line:\n",
      "                zoneClasse=True\n",
      "                formeClasse=FormeClasse()\n",
      "        if debutRegles in line:\n",
      "            zoneRegles=True\n",
      "        if finRegles in line:\n",
      "            zoneClasses=True\n"
     ],
     "language": "python",
     "metadata": {},
     "outputs": [],
     "prompt_number": 24
    },
    {
     "cell_type": "markdown",
     "metadata": {},
     "source": [
      "###Boucle principale\n",
      "On lit le fichier de r\u00e8gles PredSPE et on remplit les r\u00e8gles dans *analyse* et les classes dans *classification*"
     ]
    },
    {
     "cell_type": "code",
     "collapsed": false,
     "input": [
      "lirePredSPE(\"./PDM-AllRules-140821.txt\")\n",
      "# lirePredSPE(\"./PDM-Rules.txt\")"
     ],
     "language": "python",
     "metadata": {},
     "outputs": [],
     "prompt_number": 25
    },
    {
     "cell_type": "markdown",
     "metadata": {},
     "source": [
      "###Sauver les r\u00e8gles et les classes\n",
      "Pickle permet de sauver un objet dans un fichier\n",
      "\n",
      "- Regles.pkl pour les r\u00e8gles\n",
      "- Classes.pkl pour les classes"
     ]
    },
    {
     "cell_type": "code",
     "collapsed": false,
     "input": [
      "with open('Regles.pkl', 'wb') as output:\n",
      "    pickle.dump(analyse, output, pickle.HIGHEST_PROTOCOL)\n"
     ],
     "language": "python",
     "metadata": {},
     "outputs": [],
     "prompt_number": 26
    },
    {
     "cell_type": "code",
     "collapsed": false,
     "input": [
      "with open('Classes.pkl', 'wb') as output:\n",
      "    pickle.dump(classification, output, pickle.HIGHEST_PROTOCOL)\n"
     ],
     "language": "python",
     "metadata": {},
     "outputs": [],
     "prompt_number": 27
    },
    {
     "cell_type": "code",
     "collapsed": false,
     "input": [
      "analyse=Regles()\n",
      "classification=Classes()"
     ],
     "language": "python",
     "metadata": {},
     "outputs": [],
     "prompt_number": 30
    },
    {
     "cell_type": "code",
     "collapsed": false,
     "input": [
      "with open('Regles.pkl', 'rb') as input:\n",
      "    analyse = pickle.load(input)\n",
      "with open('Classes.pkl', 'rb') as input:\n",
      "    classification = pickle.load(input)\n"
     ],
     "language": "python",
     "metadata": {},
     "outputs": [
      {
       "ename": "AttributeError",
       "evalue": "'module' object has no attribute 'ModifForme'",
       "output_type": "pyerr",
       "traceback": [
        "\u001b[0;31m---------------------------------------------------------------------------\u001b[0m\n\u001b[0;31mAttributeError\u001b[0m                            Traceback (most recent call last)",
        "\u001b[0;32m<ipython-input-36-3162d36f8c62>\u001b[0m in \u001b[0;36m<module>\u001b[0;34m()\u001b[0m\n\u001b[1;32m      1\u001b[0m \u001b[0;32mwith\u001b[0m \u001b[0mopen\u001b[0m\u001b[0;34m(\u001b[0m\u001b[0;34m'Regles.pkl'\u001b[0m\u001b[0;34m,\u001b[0m \u001b[0;34m'rb'\u001b[0m\u001b[0;34m)\u001b[0m \u001b[0;32mas\u001b[0m \u001b[0minput\u001b[0m\u001b[0;34m:\u001b[0m\u001b[0;34m\u001b[0m\u001b[0m\n\u001b[0;32m----> 2\u001b[0;31m     \u001b[0manalyse\u001b[0m \u001b[0;34m=\u001b[0m \u001b[0mpickle\u001b[0m\u001b[0;34m.\u001b[0m\u001b[0mload\u001b[0m\u001b[0;34m(\u001b[0m\u001b[0minput\u001b[0m\u001b[0;34m)\u001b[0m\u001b[0;34m\u001b[0m\u001b[0m\n\u001b[0m\u001b[1;32m      3\u001b[0m \u001b[0;32mwith\u001b[0m \u001b[0mopen\u001b[0m\u001b[0;34m(\u001b[0m\u001b[0;34m'Classes.pkl'\u001b[0m\u001b[0;34m,\u001b[0m \u001b[0;34m'rb'\u001b[0m\u001b[0;34m)\u001b[0m \u001b[0;32mas\u001b[0m \u001b[0minput\u001b[0m\u001b[0;34m:\u001b[0m\u001b[0;34m\u001b[0m\u001b[0m\n\u001b[1;32m      4\u001b[0m     \u001b[0mclassification\u001b[0m \u001b[0;34m=\u001b[0m \u001b[0mpickle\u001b[0m\u001b[0;34m.\u001b[0m\u001b[0mload\u001b[0m\u001b[0;34m(\u001b[0m\u001b[0minput\u001b[0m\u001b[0;34m)\u001b[0m\u001b[0;34m\u001b[0m\u001b[0m\n",
        "\u001b[0;31mAttributeError\u001b[0m: 'module' object has no attribute 'ModifForme'"
       ]
      }
     ],
     "prompt_number": 36
    },
    {
     "cell_type": "code",
     "collapsed": false,
     "input": [
      "analyse.regles[:10]"
     ],
     "language": "python",
     "metadata": {},
     "outputs": [
      {
       "metadata": {},
       "output_type": "pyout",
       "prompt_number": 33,
       "text": [
        "[E --> [] / X[p,t,k,b,d,g,f,s,S,v,z,Z,m,n,J,j,l,r,w,H,i,y,E,6,u,o,\u00ea,\u00fb,\u00f4] ___ #\t,\n",
        " sE --> [] / X[i,E,a] ___ #\t,\n",
        " tE --> [] / X[r,E,a,\u00ea,\u00e2] ___ #\t,\n",
        " 6lE --> El / X[p,t,k,b,d,g,f,s,S,v,z,Z,m,n,J,r] ___ #\t,\n",
        " ErE --> jEr / X[E,6,a,o,\u00ea,\u00fb,\u00e2,\u00f4]k ___ #\t,\n",
        " dE --> [] / X[p,t,b,d,f,s,v,z,r,E,6,o][r,o,\u00e2,\u00f4] ___ #\t,\n",
        " jE --> [] / X[p,t,k,b,d,g,f,s,S,v,z,Z,j,l,r,w,H][i,y,E,6,a,u,o] ___ #\t,\n",
        " jE --> i / X[p,t,k,b,d,g,f,s,S,v,z,Z,m,n,J,l,r] ___ #\t,\n",
        " 6vE --> wa / X[t,d,s,z] ___ #\t,\n",
        " 6sE --> Es / X[d,l][E,a][p,b,m] ___ #\t]"
       ]
      }
     ],
     "prompt_number": 33
    },
    {
     "cell_type": "code",
     "collapsed": false,
     "input": [
      "classification.classes[Paire(\"prs.3\",\"ipf.3\")]"
     ],
     "language": "python",
     "metadata": {},
     "outputs": [
      {
       "metadata": {},
       "output_type": "pyout",
       "prompt_number": 35,
       "text": [
        "[65-66-70-80 : [65 (0.07 recro\u00eetre), 66 (0.18 rebattre), 70 (0.75 larmoyer), 80 (0)],\n",
        " 64-69-70-74-91 : [64 (0), 69 (0), 70 (0), 74 (0), 91 (1 pr\u00e9valoir)],\n",
        " 64-66-69-78-80 : [64 (0.69 essorer), 66 (0.06 ressortir), 69 (0.11 distordre), 78 (0.14 redormir), 80 (0)],\n",
        " 64-89 : [64 (0.2 essaimer), 89 (0.8 sursemer)],\n",
        " 64-79 : [64 (0.44 ent\u00eater), 79 (0.56 jarreter)],\n",
        " 65-66-70-80-99 : [65 (0), 66 (0), 70 (0), 80 (0), 99 (1 boire)],\n",
        " 64-65-70-71-74-80 : [64 (0), 65 (0.47 saurir), 70 (0.04 rapatrier), 71 (0.44 colorier), 74 (0.03 relire), 80 (0.03 proscrire)],\n",
        " 64 : [64 (1 revoler)],\n",
        " 64-65-66-80 : [64 (0.05 d\u00e9lin\u00e9er), 65 (0.23 reconna\u00eetre), 66 (0.73 permettre), 80 (0)],\n",
        " 64-65-66-70-74-80 : [64 (0.54 r\u00e9er), 65 (0.26 r\u00e9appara\u00eetre), 66 (0.09 v\u00eatir), 70 (0), 74 (0.11 taire), 80 (0)],\n",
        " 64-87 : [64 (0), 87 (1 mouvoir)],\n",
        " 64-80 : [64 (1 vriller), 80 (0)],\n",
        " 64-65-66-70-74-80-98 : [64 (0), 65 (0), 66 (0), 70 (0), 74 (0), 80 (0), 98 (1 rasseoir_2)],\n",
        " 64-65-66-70-74-75-80 : [64 (0), 65 (0), 66 (0), 70 (0), 74 (0), 75 (1 faire), 80 (0)],\n",
        " 66-69 : [66 (0.15 ressentir), 69 (0.85 m\u00e9vendre)],\n",
        " 64-88 : [64 (0.59 peiner), 88 (0.41 mener)],\n",
        " 64-66-82-101 : [64 (0), 66 (0), 82 (0), 101 (1 vaincre)],\n",
        " 64-70-74 : [64 (0.94 rabrouer), 70 (0.03 bouillir), 74 (0.03 coudre)],\n",
        " 64-66-69-80-96 : [64 (0.5 lis\u00e9rer), 66 (0), 69 (0), 80 (0), 96 (0.5 liserer)],\n",
        " 64-66-68-69-80 : [64 (0), 66 (0), 68 (1 enqu\u00e9rir), 69 (0), 80 (0)],\n",
        " 64-66-76 : [64 (0), 66 (0), 76 (1 rejoindre)],\n",
        " 64-70-74-94 : [64 (0), 70 (0), 74 (0), 94 (1 vouloir)],\n",
        " 64-65-66-70-74-80-93 : [64 (0), 65 (0), 66 (0), 70 (0), 74 (0), 80 (0), 93 (1 savoir)],\n",
        " 64-66-82 : [64 (0), 66 (0), 82 (1 r\u00e9treindre)],\n",
        " 64-69 : [64 (0), 69 (1 refondre)],\n",
        " 65-66-80 : [65 (0), 66 (0), 80 (1 avoir)],\n",
        " 64-67 : [64 (0.25 rebeller), 67 (0.75 d\u00e9ficeler)],\n",
        " 64-83 : [64 (0.07 r\u00eaver), 83 (0.93 crever)],\n",
        " 64-66-69-80-84 : [64 (0), 66 (0), 69 (0), 80 (0), 84 (1 mourir)],\n",
        " 64-73 : [64 (0), 73 (1 d\u00e9pecer)],\n",
        " 64-90 : [64 (0), 90 (1 \u00e9moudre)],\n",
        " 65-66-70-72-80 : [65 (0), 66 (0), 70 (0.69 rasseoir), 72 (0.31 entrapercevoir), 80 (0)],\n",
        " 64-65-71-80 : [64 (0), 65 (0.8 honnir), 71 (0.2 calomnier), 80 (0)],\n",
        " 64-81 : [64 (0), 81 (1 dompter)],\n",
        " 64-66-85 : [64 (0), 66 (0), 85 (1 maintenir)],\n",
        " 66-69-86 : [66 (0), 69 (0), 86 (1 surprendre)],\n",
        " 64-65-80 : [64 (0), 65 (1 r\u00e9jouir), 80 (0)],\n",
        " 64-65-66-80-97 : [64 (0), 65 (0), 66 (0.5 \u00eatre), 80 (0), 97 (0.5 ha\u00efr)],\n",
        " 64-95 : [64 (0.2 apaiser), 95 (0.8 peser)],\n",
        " 64-70-74-103 : [64 (0), 70 (0), 74 (0), 103 (1 r\u00e9soudre)],\n",
        " 64-66-69-80 : [64 (0.97 mani\u00e9rer), 66 (0), 69 (0.02 reperdre), 80 (0.01 resservir)],\n",
        " 64-69-77 : [64 (0), 69 (0), 77 (1 interrompre)],\n",
        " 65-66-70-80-102 : [65 (0), 66 (0), 70 (0), 80 (0), 102 (1 ou\u00efr)],\n",
        " 64-66-80 : [64 (0.99 ajourer), 66 (0.01 repartir), 80 (0)],\n",
        " 64-105 : [64 (0.5 rec\u00e9per), 105 (0.5 receper)],\n",
        " 65-66-70-80-100 : [65 (0), 66 (0), 70 (0), 80 (0), 100 (1 aller)],\n",
        " 64-65-66-80-92 : [64 (0), 65 (0), 66 (0), 80 (0), 92 (1 entre-ha\u00efr)],\n",
        " 66 : [66 (1 d\u00e9mentir)],\n",
        " 64-65-70-74-80 : [64 (0), 65 (0.13 amu\u00efr), 70 (0.17 ressuyer), 74 (0.66 retraduire), 80 (0.04 suivre)],\n",
        " 64-66-69-80-104 : [64 (0), 66 (0), 69 (0), 80 (0), 104 (1 sevrer)]]"
       ]
      }
     ],
     "prompt_number": 35
    },
    {
     "cell_type": "code",
     "collapsed": false,
     "input": [],
     "language": "python",
     "metadata": {},
     "outputs": []
    }
   ],
   "metadata": {}
  }
 ]
}