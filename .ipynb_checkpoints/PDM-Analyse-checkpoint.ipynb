{
 "metadata": {
  "name": "",
  "signature": "sha256:4b284a2257117ae782d89d0167b8cb3ea0b799da65bd5278bdb9eac2c574b3ba"
 },
 "nbformat": 3,
 "nbformat_minor": 0,
 "worksheets": [
  {
   "cells": [
    {
     "cell_type": "code",
     "collapsed": false,
     "input": [
      "from PDM import *\n",
      "import re\n",
      "import pickle"
     ],
     "language": "python",
     "metadata": {},
     "outputs": [],
     "prompt_number": 1
    },
    {
     "cell_type": "markdown",
     "metadata": {},
     "source": [
      "##Interface avec la sortie de PredSPE\n",
      "\n",
      "###Lecture des r\u00e8gles\n",
      "- On ouvre le fichier de r\u00e8gles PredSPE\n",
      "- On initialise les drapeaux *zoneRegles*, *zoneClasses* et *zoneClasse*\n",
      " - *zoneRegles* est vrai quand la ligne courante est une r\u00e8gle\n",
      "  - True apr\u00e8s *debutRegles* (\"Inferring rules\")\n",
      "- Les r\u00e8gles sont transform\u00e9es en expression r\u00e9guli\u00e8res.\n",
      "- *analyse* contient la liste des r\u00e8gles\n",
      " - c'est un objet du type Regles\n",
      "- *classification* contient les num\u00e9ros des r\u00e8gles utilis\u00e9es pour chaque paire de cases\n",
      " - c'est un objet du type Classes"
     ]
    },
    {
     "cell_type": "code",
     "collapsed": false,
     "input": [
      "analyse=Regles()\n",
      "classification=Classes()\n",
      "\n",
      "debutRegles=\"Inferring rules\"\n",
      "debutBloc=\"*****\"\n",
      "finRegles=\"done.\" # aussi \u00e0 la fin de la phonologie\n",
      "finClasses=\"conditional entropy for\"\n",
      "debutClasse=\"class\"\n",
      "finClasse=\"local conditional entropy\"\n",
      "\n",
      "def lirePredSPE(nomFichier):\n",
      "    try:\n",
      "        fichierPredSPE=open(nomFichier,\"r\")\n",
      "    except IOError:\n",
      "        print ('I could not open the file', nomFichier)\n",
      "        sys.exit()\n",
      "        \n",
      "    zoneRegles=False\n",
      "    zoneClasses=False\n",
      "    zoneClasse=False\n",
      "    \n",
      "    inCase=\"\"\n",
      "    outCase=\"\"\n",
      "    \n",
      "    for line in fichierPredSPE:\n",
      "        line=line.strip()\n",
      "        try:\n",
      "            (inCase,outCase)=parserPaire(line)\n",
      "        except:\n",
      "            pass\n",
      "        if debutBloc in line:\n",
      "            zoneRegles=False\n",
      "            zoneClasses=False\n",
      "        if finRegles in line:\n",
      "            zoneRegles=False\n",
      "        if finClasses in line:\n",
      "            zoneClasses=False        \n",
      "            paireCase=\"\"\n",
      "            classification.addPaireClasses(Paire(inCase,outCase),paireClasses)\n",
      "        if zoneRegles:\n",
      "            analyse.addRegle(Paire(inCase,outCase),line)\n",
      "            paireClasses=PaireClasses(Paire(inCase,outCase))\n",
      "        if zoneClasses:\n",
      "            if finClasse in line:\n",
      "                zoneClasse=False\n",
      "                formeClasse.nom=formeClasse.getRules()\n",
      "                paireClasses.addFormeClasse(formeClasse)\n",
      "            if zoneClasse:\n",
      "                (inPatron, mod, reste)=parserRegle(line)\n",
      "                n=re.search(\"^.*\u2014(.+)%(?:\\s\\(([^,]*),.*|)$\",reste)\n",
      "                if n:\n",
      "                    if n.group(2):\n",
      "                        exemple=n.group(2)\n",
      "                    else:\n",
      "                        exemple=\"\"\n",
      "                    formeClasse.addRule(RegleDist(analyse.getNumRegle(inPatron,mod),float(n.group(1)),exemple,True))\n",
      "                else:\n",
      "                    warnings.warn(\"NO DISTRIBUTION IN %s\"%reste)\n",
      "            if debutClasse in line:\n",
      "                zoneClasse=True\n",
      "                formeClasse=FormeClasse()\n",
      "        if debutRegles in line:\n",
      "            zoneRegles=True\n",
      "        if finRegles in line:\n",
      "            zoneClasses=True"
     ],
     "language": "python",
     "metadata": {},
     "outputs": [],
     "prompt_number": 2
    },
    {
     "cell_type": "markdown",
     "metadata": {},
     "source": [
      "###Boucle principale\n",
      "On lit le fichier de r\u00e8gles PredSPE et on remplit les r\u00e8gles dans *analyse* et les classes dans *classification*"
     ]
    },
    {
     "cell_type": "code",
     "collapsed": false,
     "input": [
      "# lirePredSPE(\"./PDM-AllRules-140821.txt\")\n",
      "# lirePredSPE(\"./PDM-Rules.txt\")"
     ],
     "language": "python",
     "metadata": {},
     "outputs": [],
     "prompt_number": 3
    },
    {
     "cell_type": "markdown",
     "metadata": {},
     "source": [
      "###Sauver les r\u00e8gles et les classes\n",
      "Pickle permet de sauver un objet dans un fichier\n",
      "\n",
      "- Regles.pkl pour les r\u00e8gles\n",
      "- Classes.pkl pour les classes"
     ]
    },
    {
     "cell_type": "code",
     "collapsed": false,
     "input": [
      "# with open('Regles.pkl', 'wb') as output:\n",
      "#    pickle.dump(analyse, output, pickle.HIGHEST_PROTOCOL)\n"
     ],
     "language": "python",
     "metadata": {},
     "outputs": [],
     "prompt_number": 4
    },
    {
     "cell_type": "code",
     "collapsed": false,
     "input": [
      "# with open('Classes.pkl', 'wb') as output:\n",
      "#     pickle.dump(classification, output, pickle.HIGHEST_PROTOCOL)\n"
     ],
     "language": "python",
     "metadata": {},
     "outputs": [],
     "prompt_number": 5
    },
    {
     "cell_type": "code",
     "collapsed": false,
     "input": [
      "analyse=Regles()\n",
      "classification=Classes()"
     ],
     "language": "python",
     "metadata": {},
     "outputs": [],
     "prompt_number": 6
    },
    {
     "cell_type": "code",
     "collapsed": false,
     "input": [
      "with open('Regles.pkl', 'rb') as input:\n",
      "    analyse = pickle.load(input)\n",
      "with open('Classes.pkl', 'rb') as input:\n",
      "    classification = pickle.load(input)\n"
     ],
     "language": "python",
     "metadata": {},
     "outputs": [],
     "prompt_number": 7
    },
    {
     "cell_type": "code",
     "collapsed": false,
     "input": [
      "analyse.regles[:10]"
     ],
     "language": "python",
     "metadata": {},
     "outputs": [
      {
       "metadata": {},
       "output_type": "pyout",
       "prompt_number": 8,
       "text": [
        "[[] --> [] / X[p,t,k,b,d,g,f,s,S,v,z,Z,m,n,J,j,l,r,w,H,i,y,E,6,u,o,\u00ea,\u00fb,\u00f4]E ___ #\t,\n",
        " E --> ij\u00f4 / X[p,t,k,b,d,g,f,s,S,v,z,Z][l,r] ___ #\t,\n",
        " E --> j\u00f4 / X[p,t,k,b,d,g,f,s,S,v,z,Z,m,n,J,j,l,r,w,H,i,y,E,6,u,o,\u00ea,\u00fb,\u00f4] ___ #\t,\n",
        " E --> \u00f4 / X[J,j] ___ #\t,\n",
        " E --> ijE / X[p,t,k,b,d,g,f,s,S,v,z,Z][l,r] ___ #\t,\n",
        " E --> jE / X[p,t,k,b,d,g,f,s,S,v,z,Z,m,n,J,j,l,r,w,H,i,y,E,6,u,o,\u00ea,\u00fb,\u00f4] ___ #\t,\n",
        " [] --> [] / X[J,j]E ___ #\t,\n",
        " E --> [] / X[p,t,k,b,d,g,f,s,S,v,z,Z,m,n,J,j,l,r,w,H,i,y,E,6,u,o,\u00ea,\u00fb,\u00f4] ___ #\t,\n",
        " 6zE --> Ez / Xp ___ #\t,\n",
        " 6nE --> En / X[p,t,b,d,f,s,v,z,m,n,l,r] ___ #\t]"
       ]
      }
     ],
     "prompt_number": 8
    },
    {
     "cell_type": "code",
     "collapsed": false,
     "input": [
      "classification.classes[Paire(\"prs.3\",\"ipf.3\")]"
     ],
     "language": "python",
     "metadata": {},
     "outputs": [
      {
       "metadata": {},
       "output_type": "pyout",
       "prompt_number": 9,
       "text": [
        "[1494-1497-1498-1502-1529-2269-2270 : [1494 (0), 1497 (0), 1498 (0), 1502 (0), 2269 (0), 2270 (0), 1529 (1 rasseoir_2)],\n",
        " 1494-1497-1500-1502-1525 : [1494 (0), 1497 (0), 1500 (0), 1502 (0), 1525 (1 valoir)],\n",
        " 1494-1497-1498-1502-2269 : [1494 (0), 1497 (0.66 r\u00e9duire), 1498 (0.13 jaillir), 1502 (0.17 ennuyer), 2269 (0.04 poursuivre)],\n",
        " 1494-1528 : [1494 (0), 1528 (1 mouvoir)],\n",
        " 1494-1498-2269-2270 : [1494 (0.05 d\u00e9lin\u00e9er), 1498 (0.23 conna\u00eetre), 2269 (0), 2270 (0.73 admettre)],\n",
        " 1500-1503-2270 : [1500 (0), 1503 (1 reprendre), 2270 (0)],\n",
        " 1498-1502-1522-2269-2270 : [1498 (0), 1502 (0.69 jointoyer), 2269 (0), 2270 (0), 1522 (0.31 redevoir)],\n",
        " 1498-1502-1516-2269-2270 : [1498 (0), 1502 (0), 2269 (0), 2270 (0), 1516 (1 boire)],\n",
        " 1494-1506-2270 : [1494 (0), 1506 (1 \u00e9treindre), 2270 (0)],\n",
        " 1494-1496 : [1494 (0.59 emp\u00eaner), 1496 (0.41 d\u00e9sengrener)],\n",
        " 1494-1506-1534-2270 : [1494 (0), 1506 (0), 2270 (0), 1534 (1 convaincre)],\n",
        " 1494-1497-1502 : [1494 (0.94 \u00e9cobuer), 1497 (0.03 coudre), 1502 (0.03 rebouillir)],\n",
        " 1494-1500-1509-2269-2270 : [1494 (0), 1500 (0), 2269 (0), 1509 (1 sevrer), 2270 (0)],\n",
        " 1498-1502-2269-2270-2271 : [1498 (0), 1502 (0), 2269 (0), 2270 (0), 2271 (1 aller)],\n",
        " 1494-1512 : [1494 (0.07 r\u00eaver), 1512 (0.93 enlever)],\n",
        " 1494-1497-1498-1502-1505-2269-2270 : [1494 (0), 1497 (0), 1498 (0), 1502 (0), 1505 (1 d\u00e9faire), 2269 (0), 2270 (0)],\n",
        " 1494-1500-1519-2269-2270 : [1494 (0), 1500 (0), 2269 (0), 2270 (0), 1519 (1 requ\u00e9rir)],\n",
        " 1494-1523 : [1494 (0.5 rec\u00e9per), 1523 (0.5 receper)],\n",
        " 1494-1495 : [1494 (0.2 apaiser), 1495 (0.8 soupeser)],\n",
        " 1494-1497-1502-1535 : [1494 (0), 1497 (0), 1502 (0), 1535 (1 r\u00e9soudre)],\n",
        " 1494-1500 : [1494 (0), 1500 (1 pondre)],\n",
        " 1494-1500-2269-2270 : [1494 (0.97 terrer), 1500 (0.02 remordre), 2269 (0.01 desservir), 2270 (0)],\n",
        " 1494-1504 : [1494 (0.44 secr\u00e9ter), 1504 (0.56 racheter)],\n",
        " 1494-1500-1517-2269-2270 : [1494 (0), 1500 (0), 2269 (0), 2270 (0), 1517 (1 mourir)],\n",
        " 1494-1497-1498-1502-2269-2270 : [1494 (0.54 gr\u00e9er), 1497 (0.11 plaire), 1498 (0.26 compara\u00eetre), 1502 (0), 2269 (0), 2270 (0.09 v\u00eatir)],\n",
        " 1494-1498-2269 : [1494 (0), 1498 (1 rouir), 2269 (0)],\n",
        " 1498-1502-1536-2269-2270 : [1498 (0), 1502 (0), 2269 (0), 2270 (0), 1536 (1 ou\u00efr)],\n",
        " 1498-1502-2269-2270 : [1498 (0.07 accro\u00eetre), 1502 (0.75 \u00e9ployer), 2269 (0), 2270 (0.18 combattre)],\n",
        " 1494-1500-1518-2269-2270 : [1494 (0.69 abhorrer), 1500 (0.11 retordre), 2269 (0), 2270 (0.06 sortir), 1518 (0.14 endormir)],\n",
        " 1494-2269 : [1494 (1 toussailler), 2269 (0)],\n",
        " 1494-1500-1527-2269-2270 : [1494 (0.5 lis\u00e9rer), 1500 (0), 2269 (0), 2270 (0), 1527 (0.5 liserer)],\n",
        " 1494-1526 : [1494 (0.2 essaimer), 1526 (0.8 ressemer)],\n",
        " 1494-1500-1520 : [1494 (0), 1500 (0), 1520 (1 corrompre)],\n",
        " 1494-2269-2270 : [1494 (0.99 \u00e9purer), 2269 (0), 2270 (0.01 partir)],\n",
        " 1494-1513 : [1494 (0), 1513 (1 moudre)],\n",
        " 1498-2269-2270 : [1498 (0), 2269 (1 avoir), 2270 (0)],\n",
        " 1494-1497-1498-1502-1530-2269-2270 : [1494 (0), 1497 (0), 1498 (0), 1502 (0), 2269 (0), 2270 (0), 1530 (1 savoir)],\n",
        " 1494-1515-2270 : [1494 (0), 2270 (0), 1515 (1 enjoindre)],\n",
        " 1494-1497-1498-1499-1502-2269 : [1494 (0), 1497 (0.03 suffire), 1498 (0.47 d\u00e9semplir), 1499 (0.44 scarifier), 1502 (0.04 rire), 2269 (0.03 proscrire)],\n",
        " 1494-1498-1521-2269-2270 : [1494 (0), 1498 (0), 2269 (0), 2270 (0), 1521 (1 entre-ha\u00efr)],\n",
        " 1494-1498-1499-2269 : [1494 (0), 1498 (0.8 raffermir), 1499 (0.2 excommunier), 2269 (0)],\n",
        " 1494-1498-1531-2269-2270 : [1494 (0), 1498 (0), 2269 (0), 2270 (0.5 \u00eatre), 1531 (0.5 ha\u00efr)],\n",
        " 1494-1501 : [1494 (0.25 v\u00ealer), 1501 (0.75 ficeler)],\n",
        " 1494-1497-1502-1510 : [1494 (0), 1497 (0), 1502 (0), 1510 (1 revouloir)],\n",
        " 1494-1524 : [1494 (0), 1524 (1 clamecer)],\n",
        " 1494 : [1494 (1 frusquer)],\n",
        " 2270 : [2270 (1 d\u00e9mentir)],\n",
        " 1494-1507-2270 : [1494 (0), 1507 (1 entretenir), 2270 (0)],\n",
        " 1500-2270 : [1500 (0.85 pendre), 2270 (0.15 ressentir)],\n",
        " 1494-1532 : [1494 (0), 1532 (1 dompter)]]"
       ]
      }
     ],
     "prompt_number": 9
    },
    {
     "cell_type": "code",
     "collapsed": false,
     "input": [],
     "language": "python",
     "metadata": {},
     "outputs": [],
     "prompt_number": 9
    }
   ],
   "metadata": {}
  }
 ]
}