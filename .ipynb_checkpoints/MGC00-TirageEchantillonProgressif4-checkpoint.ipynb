{
 "cells": [
  {
   "cell_type": "code",
   "execution_count": 26,
   "metadata": {
    "collapsed": false
   },
   "outputs": [],
   "source": [
    "# -*- coding: utf8 -*-\n",
    "import pandas as pd\n",
    "import pickle, random\n",
    "import yaml"
   ]
  },
  {
   "cell_type": "code",
   "execution_count": 27,
   "metadata": {
    "collapsed": false
   },
   "outputs": [],
   "source": [
    "millier=1000\n",
    "nbMilliers=100\n",
    "nTiles=20\n",
    "lexiquePrefix=\"MGC-160104\"\n",
    "tiragePrefix=\"MGC-170330-\"\n",
    "echantillon=\"-%dKo\"%nbMilliers\n",
    "cumul=True"
   ]
  },
  {
   "cell_type": "code",
   "execution_count": 28,
   "metadata": {
    "collapsed": false
   },
   "outputs": [],
   "source": [
    "with open(\"/Users/gilles/Box Sync/2015-Data/\"+lexiquePrefix+'-Verbes2.pkl', 'rb') as input:\n",
    "    lexique = pickle.load(input)"
   ]
  },
  {
   "cell_type": "code",
   "execution_count": 29,
   "metadata": {
    "collapsed": true
   },
   "outputs": [],
   "source": [
    "lexique[\"freqcum\"]= (lexique[\"freq\"].cumsum()*1000).astype(int)"
   ]
  },
  {
   "cell_type": "code",
   "execution_count": 30,
   "metadata": {
    "collapsed": true
   },
   "outputs": [],
   "source": [
    "rangeTop=lexique[\"freqcum\"].max()"
   ]
  },
  {
   "cell_type": "code",
   "execution_count": 31,
   "metadata": {
    "collapsed": false
   },
   "outputs": [],
   "source": [
    "del lexique[\"ext\"]\n",
    "del lexique[\"cs\"]\n",
    "del lexique[\"ms\"]\n",
    "del lexique[\"vs\"]\n",
    "del lexique[\"prob\"]"
   ]
  },
  {
   "cell_type": "code",
   "execution_count": 32,
   "metadata": {
    "collapsed": false
   },
   "outputs": [
    {
     "name": "stdout",
     "output_type": "stream",
     "text": [
      "CPU times: user 223 ms, sys: 44.2 ms, total: 267 ms\n",
      "Wall time: 236 ms\n"
     ]
    }
   ],
   "source": [
    "%%time\n",
    "tirage=[]\n",
    "for n in range(nbMilliers*millier):\n",
    "    tirage.append(random.randrange(rangeTop))"
   ]
  },
  {
   "cell_type": "raw",
   "metadata": {
    "collapsed": true
   },
   "source": [
    "with open(\"/Users/gilles/Box Sync/2015-Data/\"+tiragePrefix+echantillon+'-Liste.pkl', 'w') as output:\n",
    "    pickle.dump(tirage, output, pickle.HIGHEST_PROTOCOL)"
   ]
  },
  {
   "cell_type": "code",
   "execution_count": 33,
   "metadata": {
    "collapsed": false
   },
   "outputs": [],
   "source": [
    "lexique[\"tir1\"]=0"
   ]
  },
  {
   "cell_type": "code",
   "execution_count": 34,
   "metadata": {
    "collapsed": false
   },
   "outputs": [
    {
     "name": "stdout",
     "output_type": "stream",
     "text": [
      "CPU times: user 4 µs, sys: 0 ns, total: 4 µs\n",
      "Wall time: 5.96 µs\n"
     ]
    }
   ],
   "source": [
    "%%time\n",
    "def tirage2triage(tirage,cumul=True):    \n",
    "    triage=sorted(tirage)\n",
    "    freqTop=0\n",
    "    indexMin=0\n",
    "    tirs={}\n",
    "\n",
    "    for num,tir in enumerate(triage[:]):\n",
    "        if tir > freqTop:\n",
    "            indexMin=lexique[lexique[\"freqcum\"]>=tir][0:1].index.astype(int)[0]\n",
    "            freqTop=lexique.ix[indexMin,'freqcum']\n",
    "            tirs[indexMin]=0\n",
    "        tirs[indexMin] += 1\n",
    "        if num%500000==0:\n",
    "            print num,\n",
    "    print\n",
    "    if cumul:\n",
    "        for indexNum in tirs:\n",
    "            lexique.ix[indexNum,'tir1']+=tirs[indexNum]\n",
    "    else:\n",
    "        lexique['tir1']=0\n",
    "        for indexNum in tirs:\n",
    "            lexique.ix[indexNum,'tir1']=tirs[indexNum]\n",
    "        "
   ]
  },
  {
   "cell_type": "code",
   "execution_count": 35,
   "metadata": {
    "collapsed": false
   },
   "outputs": [
    {
     "name": "stdout",
     "output_type": "stream",
     "text": [
      "5000\n"
     ]
    }
   ],
   "source": [
    "portion=(nbMilliers*millier)//nTiles\n",
    "print portion"
   ]
  },
  {
   "cell_type": "code",
   "execution_count": 36,
   "metadata": {
    "collapsed": false,
    "scrolled": true
   },
   "outputs": [
    {
     "name": "stdout",
     "output_type": "stream",
     "text": [
      "0\n",
      "CPU times: user 45.3 s, sys: 7.06 s, total: 52.3 s\n",
      "Wall time: 52.4 s\n",
      "\n",
      "nTile 0\n",
      "5000\n",
      "2444\n",
      "0\n",
      "CPU times: user 44.9 s, sys: 5.73 s, total: 50.7 s\n",
      "Wall time: 50.9 s\n",
      "\n",
      "nTile 1\n",
      "10000\n",
      "4049\n",
      "0\n",
      "CPU times: user 43.6 s, sys: 6.84 s, total: 50.5 s\n",
      "Wall time: 50.6 s\n",
      "\n",
      "nTile 2\n",
      "15000\n",
      "5270\n",
      "0\n",
      "CPU times: user 46.4 s, sys: 6.08 s, total: 52.5 s\n",
      "Wall time: 52.8 s\n",
      "\n",
      "nTile 3\n",
      "20000\n",
      "6408\n",
      "0\n",
      "CPU times: user 46.7 s, sys: 6 s, total: 52.7 s\n",
      "Wall time: 52.9 s\n",
      "\n",
      "nTile 4\n",
      "25000\n",
      "7442\n",
      "0\n",
      "CPU times: user 46.5 s, sys: 5.89 s, total: 52.4 s\n",
      "Wall time: 52.6 s\n",
      "\n",
      "nTile 5\n",
      "30000\n",
      "8363\n",
      "0\n",
      "CPU times: user 46.7 s, sys: 5.98 s, total: 52.7 s\n",
      "Wall time: 52.9 s\n",
      "\n",
      "nTile 6\n",
      "35000\n",
      "9213\n",
      "0\n",
      "CPU times: user 44.4 s, sys: 5.77 s, total: 50.1 s\n",
      "Wall time: 50.4 s\n",
      "\n",
      "nTile 7\n",
      "40000\n",
      "9965\n",
      "0\n",
      "CPU times: user 47.5 s, sys: 5.94 s, total: 53.5 s\n",
      "Wall time: 53.8 s\n",
      "\n",
      "nTile 8\n",
      "45000\n",
      "10712\n",
      "0\n",
      "CPU times: user 48.3 s, sys: 6.17 s, total: 54.4 s\n",
      "Wall time: 55.3 s\n",
      "\n",
      "nTile 9\n",
      "50000\n",
      "11416\n",
      "0\n",
      "CPU times: user 45.3 s, sys: 5.84 s, total: 51.1 s\n",
      "Wall time: 51.2 s\n",
      "\n",
      "nTile 10\n",
      "55000\n",
      "12051\n",
      "0\n",
      "CPU times: user 44.3 s, sys: 6.73 s, total: 51 s\n",
      "Wall time: 51 s\n",
      "\n",
      "nTile 11\n",
      "60000\n",
      "12638\n",
      "0\n",
      "CPU times: user 45.9 s, sys: 5.71 s, total: 51.7 s\n",
      "Wall time: 51.9 s\n",
      "\n",
      "nTile 12\n",
      "65000\n",
      "13229\n",
      "0\n",
      "CPU times: user 45.1 s, sys: 5.69 s, total: 50.8 s\n",
      "Wall time: 50.8 s\n",
      "\n",
      "nTile 13\n",
      "70000\n",
      "13771\n",
      "0\n",
      "CPU times: user 44.4 s, sys: 6.75 s, total: 51.2 s\n",
      "Wall time: 51.3 s\n",
      "\n",
      "nTile 14\n",
      "75000\n",
      "14287\n",
      "0\n",
      "CPU times: user 44.9 s, sys: 6.83 s, total: 51.7 s\n",
      "Wall time: 51.8 s\n",
      "\n",
      "nTile 15\n",
      "80000\n",
      "14810\n",
      "0\n",
      "CPU times: user 44.7 s, sys: 5.67 s, total: 50.4 s\n",
      "Wall time: 50.5 s\n",
      "\n",
      "nTile 16\n",
      "85000\n",
      "15344\n",
      "0\n",
      "CPU times: user 43.9 s, sys: 5.59 s, total: 49.5 s\n",
      "Wall time: 49.5 s\n",
      "\n",
      "nTile 17\n",
      "90000\n",
      "15836\n",
      "0\n",
      "CPU times: user 44.7 s, sys: 5.58 s, total: 50.3 s\n",
      "Wall time: 50.4 s\n",
      "\n",
      "nTile 18\n",
      "95000\n",
      "16295\n",
      "0\n",
      "CPU times: user 44.1 s, sys: 5.83 s, total: 49.9 s\n",
      "Wall time: 50 s\n",
      "\n",
      "nTile 19\n",
      "100000\n",
      "16727\n"
     ]
    }
   ],
   "source": [
    "for nTile in range(nTiles):\n",
    "    %time tirage2triage(tirage[nTile*portion:(nTile+1)*portion],cumul)\n",
    "    print\n",
    "    print \"nTile\",nTile\n",
    "    print lexique[lexique[\"tir1\"]!=0][\"tir1\"].sum()\n",
    "    print lexique[lexique[\"tir1\"]!=0][\"tir1\"].count()\n",
    "    with open(\"/Users/gilles/Box Sync/2015-Data/\"+tiragePrefix+\"%02d\"%(nTile)+echantillon+'-Tirage.pkl', 'wb') as output:\n",
    "        pickle.dump(lexique, output, pickle.HIGHEST_PROTOCOL)"
   ]
  },
  {
   "cell_type": "code",
   "execution_count": null,
   "metadata": {
    "collapsed": true
   },
   "outputs": [],
   "source": []
  }
 ],
 "metadata": {
  "kernelspec": {
   "display_name": "Python 2",
   "language": "python",
   "name": "python2"
  },
  "language_info": {
   "codemirror_mode": {
    "name": "ipython",
    "version": 2
   },
   "file_extension": ".py",
   "mimetype": "text/x-python",
   "name": "python",
   "nbconvert_exporter": "python",
   "pygments_lexer": "ipython2",
   "version": "2.7.11"
  }
 },
 "nbformat": 4,
 "nbformat_minor": 0
}
