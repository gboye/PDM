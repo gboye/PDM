{
 "cells": [
  {
   "cell_type": "markdown",
   "metadata": {},
   "source": [
    "##Importations\n",
    "- codecs pour les encodages\n",
    "- pandas et numpy pour les calculs sur tableaux\n",
    "- matplotlib pour les graphiques\n",
    "- itertools pour les itérateurs sophistiqués (paires sur liste, ...)"
   ]
  },
  {
   "cell_type": "code",
   "execution_count": 25,
   "metadata": {
    "collapsed": false
   },
   "outputs": [],
   "source": [
    "# -*- coding: utf8 -*-\n",
    "import codecs\n",
    "import features\n",
    "import re\n",
    "import pandas as pd\n",
    "import numpy as np\n",
    "import matplotlib.pyplot as plt\n",
    "import itertools as it\n",
    "import pickle\n",
    "#%pylab inline\n",
    "#pd.options.display.mpl_style = 'default'\n",
    "debug=False"
   ]
  },
  {
   "cell_type": "markdown",
   "metadata": {},
   "source": [
    "###Préparation des matrices de traits"
   ]
  },
  {
   "cell_type": "code",
   "execution_count": 26,
   "metadata": {
    "collapsed": true
   },
   "outputs": [],
   "source": [
    "features.add_config('bdlexique.ini')\n",
    "fs=features.FeatureSystem('phonemes')"
   ]
  },
  {
   "cell_type": "code",
   "execution_count": 27,
   "metadata": {
    "collapsed": false
   },
   "outputs": [],
   "source": [
    "paradigmFile=\"MGC-150805-paradigmes.csv\"\n",
    "analysisPrefix=\"MGC-150805-total\"\n",
    "partialPrefix=\"MGC-150812-30000-1508120226-S\""
   ]
  },
  {
   "cell_type": "markdown",
   "metadata": {},
   "source": [
    "###Préparation des cases du paradigme"
   ]
  },
  {
   "cell_type": "code",
   "execution_count": 28,
   "metadata": {
    "collapsed": true
   },
   "outputs": [],
   "source": [
    "casesPrincipales= [\n",
    "        'inf', 'pi1S', 'pi2S', 'pi3S', 'pi1P', 'pi2P', 'pi3P', 'ii1S',\n",
    "        'ii2S', 'ii3S', 'ii1P', 'ii2P', 'ii3P', \n",
    "        'fi1S', 'fi2S', 'fi3S', 'fi1P', 'fi2P',\n",
    "        'fi3P', 'pI2S', 'pI1P', 'pI2P', 'ps1S', 'ps2S', 'ps3S', 'ps1P',\n",
    "        'ps2P', 'ps3P', \n",
    "        'pc1S', 'pc2S', 'pc3S', 'pc1P', 'pc2P', 'pc3P', 'pP',\n",
    "        'ppMS', 'ppMP', 'ppFS', 'ppFP'\n",
    "            ]\n",
    "casesSecondaires= [\n",
    "       'ai1S', 'ai2S', 'ai3S', 'ai1P', 'ai2P', 'ai3P', 'is1S', 'is2S', 'is3S', 'is1P', 'is2P', 'is3P'\n",
    "            ]\n",
    "casesTotales=casesPrincipales+casesSecondaires\n",
    "listeCases=casesTotales"
   ]
  },
  {
   "cell_type": "markdown",
   "metadata": {},
   "source": [
    "#Préparation du calcul des analogies"
   ]
  },
  {
   "cell_type": "markdown",
   "metadata": {},
   "source": [
    "###Calcul de la différence entre deux formes"
   ]
  },
  {
   "cell_type": "code",
   "execution_count": 29,
   "metadata": {
    "collapsed": true
   },
   "outputs": [],
   "source": [
    "def diff(mot1,mot2):\n",
    "    result=[]\n",
    "    diff1=\"\"\n",
    "    diff2=\"\"\n",
    "    same=\"\"\n",
    "    vide=\".\"\n",
    "    lmax=max(len(mot1),len(mot2))\n",
    "    lmin=min(len(mot1),len(mot2))\n",
    "    for index in range(lmax):\n",
    "        if index < lmin:\n",
    "            if mot1[index]!=mot2[index]:\n",
    "                diff1+=mot1[index]\n",
    "                diff2+=mot2[index]\n",
    "                same+=vide\n",
    "            else:\n",
    "                same+=mot1[index]\n",
    "                diff1+=vide\n",
    "                diff2+=vide\n",
    "        elif index < len(mot1):\n",
    "            diff1+=mot1[index]\n",
    "        elif index < len(mot2):\n",
    "            diff2+=mot2[index]\n",
    "    diff1=diff1.lstrip(\".\")\n",
    "    diff2=diff2.lstrip(\".\")\n",
    "#    return (same,diff1,diff2,diff1+\"_\"+diff2)\n",
    "    return (diff1+\"-\"+diff2)"
   ]
  },
  {
   "cell_type": "markdown",
   "metadata": {},
   "source": [
    "###Accumulation des paires appartenant à un patron"
   ]
  },
  {
   "cell_type": "code",
   "execution_count": 30,
   "metadata": {
    "collapsed": false
   },
   "outputs": [],
   "source": [
    "def rowDiff(row, patrons):\n",
    "    result=diff(row[0],row[1])\n",
    "    if not result in patrons:\n",
    "        patrons[result]=(formesPatron(),formesPatron())\n",
    "    patrons[result][0].ajouterFormes(row[0])\n",
    "    patrons[result][1].ajouterFormes(row[1])\n",
    "    return (result[0],result[1])"
   ]
  },
  {
   "cell_type": "markdown",
   "metadata": {},
   "source": [
    "###Transformation d'un patron en RegExp"
   ]
  },
  {
   "cell_type": "code",
   "execution_count": 31,
   "metadata": {
    "collapsed": false
   },
   "outputs": [],
   "source": [
    "def patron2regexp(morceaux):\n",
    "    result=\"^\"\n",
    "    for morceau in morceaux:\n",
    "        if morceau==\"*\":\n",
    "            result+=\"(.*)\"\n",
    "        elif len(morceau)>1:\n",
    "            result+=\"([\"+morceau+\"])\"\n",
    "        else:\n",
    "            result+=morceau\n",
    "    result+=\"$\"\n",
    "    result=result.replace(\")(\",\"\")\n",
    "    return result"
   ]
  },
  {
   "cell_type": "markdown",
   "metadata": {},
   "source": [
    "###Substitution de sortie \n",
    "???"
   ]
  },
  {
   "cell_type": "code",
   "execution_count": 32,
   "metadata": {
    "collapsed": false
   },
   "outputs": [],
   "source": [
    "def remplacementSortie(sortie):\n",
    "    n=1\n",
    "    nsortie=\"\"\n",
    "    for lettre in sortie:\n",
    "        if lettre==\".\":\n",
    "            nsortie+=\"\\g<%d>\"%n\n",
    "            n+=1\n",
    "        else:\n",
    "            nsortie+=lettre\n",
    "    return nsortie"
   ]
  },
  {
   "cell_type": "code",
   "execution_count": 33,
   "metadata": {
    "collapsed": false
   },
   "outputs": [],
   "source": [
    "class formesPatron:\n",
    "    '''\n",
    "    Accumulateur de formes correspondant à un patron pour calcul de la Généralisation Minimale (cf. MGL)\n",
    "    '''\n",
    "    def __init__(self):\n",
    "        self.formes=[]\n",
    "\n",
    "#    def __repr__(self):\n",
    "#        return ','.join(self.calculerGM())\n",
    "        \n",
    "    def ajouterForme(self,forme):\n",
    "        self.formes.append(forme)\n",
    "        \n",
    "    def calculerGM(self):\n",
    "        minLongueur=len(min(self.formes, key=len))\n",
    "        maxLongueur=len(max(self.formes, key=len))\n",
    "        if debug: print minLongueur, maxLongueur\n",
    "        positions=[]\n",
    "        if maxLongueur>minLongueur:\n",
    "            positions.append(\"*\")\n",
    "        for i in xrange(minLongueur, 0, -1):\n",
    "            phonemes=set([x[-i] for x in self.formes])\n",
    "            if debug: print phonemes\n",
    "            if \".\" in phonemes:\n",
    "                positions.append(\".\")\n",
    "            else:\n",
    "                positions.append(\"\".join(fs.lattice[phonemes].extent))\n",
    "        return patron2regexp(positions)\n",
    "\n",
    "class pairePatrons:\n",
    "    '''\n",
    "    Accumulateur de triplets (f1,f2,patron) correspondant à une paire pour calcul des Généralisations Minimales (cf. MGL)\n",
    "    '''\n",
    "    def __init__(self,case1,case2):\n",
    "        self.patrons1={}\n",
    "        self.patrons2={}\n",
    "        self.case1=case1\n",
    "        self.case2=case2\n",
    "\n",
    "#    def __repr__(self):\n",
    "#        return ','.join(self.calculerGM())\n",
    "        \n",
    "    def ajouterFormes(self,forme1,forme2,patron):\n",
    "#        print forme1,forme2,patron\n",
    "        patron12=patron\n",
    "        (pat1,pat2)=patron.split(\"-\")\n",
    "        patron21=pat2+\"-\"+pat1\n",
    "#        print patron12,patron21\n",
    "        if not patron12 in self.patrons1:\n",
    "            self.patrons1[patron12]=formesPatron()\n",
    "        self.patrons1[patron12].ajouterForme(forme1)\n",
    "        if not patron21 in self.patrons2:\n",
    "            self.patrons2[patron21]=formesPatron()\n",
    "        self.patrons2[patron21].ajouterForme(forme2)\n",
    "        \n",
    "        \n",
    "    def calculerGM(self):\n",
    "        resultat1={}\n",
    "        for patron in self.patrons1:\n",
    "            if debug: print \"patron1\", patron\n",
    "            resultat1[patron]=self.patrons1[patron].calculerGM()\n",
    "        resultat2={}\n",
    "        for patron in self.patrons2:\n",
    "            if debug: print \"patron2\", patron\n",
    "            resultat2[patron]=self.patrons2[patron].calculerGM()\n",
    "        return (resultat1,resultat2) "
   ]
  },
  {
   "cell_type": "markdown",
   "metadata": {},
   "source": [
    "#Classe pour la gestion des patrons, des classes et des transformations"
   ]
  },
  {
   "cell_type": "code",
   "execution_count": 34,
   "metadata": {
    "collapsed": false
   },
   "outputs": [],
   "source": [
    "class paireClasses:\n",
    "    def __init__(self,case1,case2):\n",
    "        self.case1=case1\n",
    "        self.case2=case2\n",
    "        self.nom=case1+\"-\"+case2\n",
    "        self.classes1=classesPaire(case1,case2)\n",
    "        self.classes2=classesPaire(case2,case1)\n",
    "\n",
    "    def ajouterPatron(self,n,patron,motif):\n",
    "        if n==1:\n",
    "            self.classes1.ajouterPatron(patron,motif)\n",
    "        elif n==2:\n",
    "            self.classes2.ajouterPatron(patron,motif)\n",
    "        else:\n",
    "            print \"le numéro de forme n'est pas dans [1,2]\",n\n",
    "\n",
    "    def ajouterPaire(self,forme1,forme2):\n",
    "        self.classes1.ajouterPaire(forme1,forme2)\n",
    "        self.classes2.ajouterPaire(forme2,forme1)\n",
    "        \n",
    "    def calculerClasses(self):\n",
    "        return(self.classes1,self.classes2)\n",
    "\n",
    "    \n",
    "class classesPaire:\n",
    "    '''\n",
    "    Gestion des patrons, des classes et des transformations\n",
    "    \n",
    "    ajouterPatron : ajoute un patron et son motif associé (MGL)\n",
    "    ajouterPaire : ajoute une paire de formes, calcule la classe de la forme1 et la règle sélectionnée\n",
    "    sortirForme : cacule les formes de sortie correspondant à la forme1 avec leurs coefficients respectifs\n",
    "    '''\n",
    "    def __init__(self,case1,case2):\n",
    "        self.case1=case1\n",
    "        self.case2=case2\n",
    "        self.nom=case1+\"-\"+case2\n",
    "        self.classe={}\n",
    "        self.nbClasse={}\n",
    "        self.patrons={}\n",
    "        self.entree={}\n",
    "        self.sortie={}\n",
    "    \n",
    "    def ajouterPatron(self,patron,motif):\n",
    "        self.patrons[patron]=motif\n",
    "        (entree,sortie)=patron.split(\"-\")\n",
    "        self.entree[patron]=entree.replace(u\".\",u\"(.)\")\n",
    "        self.sortie[patron]=remplacementSortie(sortie)\n",
    "    \n",
    "    def ajouterPaire(self,forme1,forme2):\n",
    "        '''\n",
    "        on calcule la classe de la paire idClasseForme et la règle sélectionnée\n",
    "        on incrémente le compteur de la classe et celui de la règle sélectionnée à l'intérieur de la classe\n",
    "        '''\n",
    "        classeForme=[]\n",
    "        regleForme=\"\"\n",
    "        for patron in self.patrons:\n",
    "            if re.match(self.patrons[patron],forme1):\n",
    "                classeForme.append(patron)\n",
    "                '''\n",
    "                le +\"$\" permet de forcer l'alignement à droite pour les transformations suffixales\n",
    "                '''\n",
    "                if forme2==re.sub(self.entree[patron]+\"$\",self.sortie[patron],forme1):\n",
    "                    regleForme=patron\n",
    "        idClasseForme=\", \".join(classeForme)\n",
    "        if not idClasseForme in self.classe:\n",
    "            self.classe[idClasseForme]={}\n",
    "            self.nbClasse[idClasseForme]=0\n",
    "        if not regleForme in self.classe[idClasseForme]:\n",
    "            self.classe[idClasseForme][regleForme]=0\n",
    "        self.nbClasse[idClasseForme]+=1\n",
    "        self.classe[idClasseForme][regleForme]+=1\n",
    "\n",
    "    def sortirForme(self,forme):\n",
    "        classeForme=[]\n",
    "        sortieForme={}\n",
    "        for patron in self.patrons:\n",
    "            if re.match(self.patrons[patron],forme):\n",
    "                classeForme.append(patron)\n",
    "        if classeForme:\n",
    "            idClasseForme=\", \".join(classeForme)\n",
    "            if idClasseForme in self.nbClasse:\n",
    "                nTotal=self.nbClasse[idClasseForme]\n",
    "                for patron in self.classe[idClasseForme]:\n",
    "                    sortie=re.sub(self.entree[patron]+\"$\",self.sortie[patron],forme)\n",
    "                    sortieForme[sortie]=float(self.classe[idClasseForme][patron])/nTotal\n",
    "            else:\n",
    "                print forme,\n",
    "                print \"pas de classe\",idClasseForme,\n",
    "                print \"%.2f par forme de sortie\" % (float(1)/len(classeForme))\n",
    "                nTotal=len(classeForme)\n",
    "                for patron in classeForme:\n",
    "                    sortie=re.sub(self.entree[patron]+\"$\",self.sortie[patron],forme)\n",
    "                    sortieForme[sortie]=float(1)/nTotal\n",
    "        else:\n",
    "            print forme, \n",
    "            print \"pas de patron\"\n",
    "        return sortieForme\n",
    "        "
   ]
  },
  {
   "cell_type": "markdown",
   "metadata": {},
   "source": [
    "##Appliquer la formule de calcul des différences entre chaines à chaque ligne\n",
    "\n",
    ">si il y a au moins une ligne\n",
    "\n",
    ">>on applique la différence à la ligne\n",
    "\n",
    ">>on calcule les deux patrons par suppression des points initiaux\n",
    "\n",
    ">>on renvoie le groupement par patrons (1&2)\n",
    "\n",
    ">sinon\n",
    "\n",
    ">>on renvoie le paradigme vide d'origine"
   ]
  },
  {
   "cell_type": "code",
   "execution_count": 35,
   "metadata": {
    "collapsed": false
   },
   "outputs": [],
   "source": [
    "def OLDrapports(paradigme):\n",
    "    (case1,case2,lexeme)= paradigme.columns.values.tolist()\n",
    "    patrons=pairePatrons(case1,case2)\n",
    "    if len(paradigme)>0:\n",
    "#        for index, row in paradigme.iterrows():\n",
    "#            patrons.ajouterFormes(row[0],row[1],diff(row[0],row[1]))\n",
    "        paradigme.apply(lambda x: patrons.ajouterFormes(x[case1],x[case2],diff(x[case1],x[case2])), axis=1)\n",
    "        (regles1,regles2)=patrons.calculerGM()\n",
    "    return patrons.calculerGM()"
   ]
  },
  {
   "cell_type": "code",
   "execution_count": 36,
   "metadata": {
    "collapsed": false
   },
   "outputs": [],
   "source": [
    "def rapports(paradigme):\n",
    "    if len(paradigme.columns.values.tolist())==2:\n",
    "        (case1,lexeme)= paradigme.columns.values.tolist()\n",
    "        case2=case1\n",
    "    else:\n",
    "        (case1,case2,lexeme)= paradigme.columns.values.tolist()\n",
    "    patrons=pairePatrons(case1,case2)\n",
    "    classes=paireClasses(case1,case2)\n",
    "    if len(paradigme)>0:\n",
    "        paradigme.apply(lambda x: patrons.ajouterFormes(x[case1],x[case2],diff(x[case1],x[case2])), axis=1)\n",
    "        (regles1,regles2)=patrons.calculerGM()\n",
    "        for regle in regles1:\n",
    "            classes.ajouterPatron(1,regle,regles1[regle])\n",
    "        for regle in regles2:\n",
    "            classes.ajouterPatron(2,regle,regles2[regle])\n",
    "        paradigme.apply(lambda x: classes.ajouterPaire(x[case1],x[case2]), axis=1)\n",
    "    (classes1,classes2)=classes.calculerClasses()\n",
    "    return (classes1,classes2)"
   ]
  },
  {
   "cell_type": "markdown",
   "metadata": {},
   "source": [
    "###Dédoubler les lignes avec des surabondances dans *colonne*\n",
    ">identifier une ligne avec surabondance\n",
    "\n",
    ">>ajouter les lignes correspondant à chaque valeur\n",
    "\n",
    ">>ajouter le numéro de la ligne initiale dans les lignes à supprimer\n",
    "\n",
    ">supprimer les lignes avec surabondance\n",
    "\n",
    "NB : il faut préparer le tableau pour avoir une indexation qui permette l'ajout des valeurs individuelles et la suppression des lignes de surabondances"
   ]
  },
  {
   "cell_type": "code",
   "execution_count": 37,
   "metadata": {
    "collapsed": false
   },
   "outputs": [],
   "source": [
    "def splitCellMates(df,colonne):\n",
    "    '''\n",
    "    Calcul d'une dataframe sans surabondance par dédoublement des valeurs\n",
    "    '''\n",
    "    test=df.reset_index()\n",
    "    del test[\"index\"]\n",
    "    splitIndexes=[]\n",
    "    for index,ligne in test.iterrows():\n",
    "        if \",\" in ligne[colonne]:\n",
    "            valeurs=set(ligne[colonne].split(\",\"))\n",
    "            nouvelleLigne=ligne\n",
    "            for valeur in valeurs:\n",
    "                nouvelleLigne[colonne]=valeur\n",
    "                test=test.append(nouvelleLigne,ignore_index=True)\n",
    "            splitIndexes.append(index)\n",
    "    if splitIndexes:\n",
    "        test=test.drop(test.index[splitIndexes])\n",
    "    return test\n"
   ]
  },
  {
   "cell_type": "code",
   "execution_count": 38,
   "metadata": {
    "collapsed": false
   },
   "outputs": [],
   "source": [
    "paradigmes=pd.read_csv(paradigmFile,sep=\";\",encoding=\"utf8\")\n",
    "del paradigmes[u\"Unnamed: 0\"]"
   ]
  },
  {
   "cell_type": "code",
   "execution_count": 39,
   "metadata": {
    "collapsed": false
   },
   "outputs": [],
   "source": [
    "with open(analysisPrefix+'-Regles.pkl', 'rb') as input:\n",
    "    resultatsLecture = pickle.load(input)\n",
    "with open(partialPrefix+'-Regles.pkl', 'rb') as input:\n",
    "    resultatsPartiels = pickle.load(input)"
   ]
  },
  {
   "cell_type": "code",
   "execution_count": 40,
   "metadata": {
    "collapsed": false,
    "scrolled": true
   },
   "outputs": [],
   "source": [
    "def generateForms(lexeme,paradigmes):\n",
    "    for forme in listeCases:\n",
    "        if not pd.isnull(paradigmes[paradigmes[\"lexeme\"]==lexeme][forme].iloc[0]):\n",
    "            depart=paradigmes[paradigmes[\"lexeme\"]==lexeme][forme].iloc[0]\n",
    "            print forme,depart\n",
    "            if depart!=\"nan\":\n",
    "                for case in listeCases:\n",
    "                    print case,\n",
    "                    if not isinstance(resultatsLecture[(forme, case)],str):\n",
    "                        print resultatsLecture[(forme, case)].sortirForme(depart),\n",
    "                print\n",
    "                print"
   ]
  },
  {
   "cell_type": "code",
   "execution_count": 41,
   "metadata": {
    "collapsed": false
   },
   "outputs": [],
   "source": [
    "#generateForms(u\"lever\",paradigmes)"
   ]
  },
  {
   "cell_type": "code",
   "execution_count": 42,
   "metadata": {
    "collapsed": false
   },
   "outputs": [],
   "source": [
    "def showPatterns(listePaires):\n",
    "    for resultat in listePaires:\n",
    "        print \"paire :\",resultat\n",
    "        for element in resultatsPartiels[resultat].patrons:\n",
    "            print \"\\t\"+element, resultatsPartiels[resultat].patrons[element]\n",
    "        print"
   ]
  },
  {
   "cell_type": "code",
   "execution_count": 43,
   "metadata": {
    "collapsed": false
   },
   "outputs": [
    {
     "name": "stdout",
     "output_type": "stream",
     "text": [
      "paire : ('inf', 'ppMS')\n",
      "\tdr-zy ^(.*)kudr$\n",
      "\trir-Er ^(.*[uOo][fv])rir$\n",
      "\ttr- ^(.*)nEtr$\n",
      "\tu.ir-O. ^murir$\n",
      "\tivr-Eky ^(.*)vivr$\n",
      "\t- ^(.*[ptkbdgfsSvzZmnJjlrwHiyEe926auOoêûâô][ptkbdgfsSvzZmnJjlrwHiyEe926uOoêûô])E$\n",
      "\tr-y ^(.*[ptbdfsvzrE96O][jrwHiyEe926auOoêûâô][ptkbdg])r$\n",
      "\tavwar-y ^(.*)avwar$\n",
      "\t6vwar-y ^(.*[tdsz])6vwar$\n",
      "\tEtr-y ^(.*[pk][E96aO][mnr])Etr$\n",
      "\tudr-Oly ^rEzudr$\n",
      "\tEr-y ^tEr$\n",
      "\tdr- ^(.*[ptkbdgfsSvzZjlrwH])êdr$\n",
      "\twatr-y ^akrwatr$\n",
      "\tr- ^(.*[ptkbdgfsSvzZmnJjlrwHiyEe926auOoêûâô][iyEe92])r$\n",
      "\twar-y ^(.*[bdvzlr])war$\n",
      "\tr-i ^(.*)sHivr$\n",
      "\tir-y ^(.*[ptbdfsvzmnlr])ir$\n",
      "\tuvwar-y ^(.*)muvwar$\n",
      "\ti.-j. ^([pk][lr])iE$\n",
      "\n"
     ]
    }
   ],
   "source": [
    "listePaires=[(\"inf\",\"ppMS\")]\n",
    "showPatterns(listePaires)"
   ]
  },
  {
   "cell_type": "code",
   "execution_count": 44,
   "metadata": {
    "collapsed": false,
    "scrolled": true
   },
   "outputs": [
    {
     "data": {
      "text/plain": [
       "333819"
      ]
     },
     "execution_count": 44,
     "metadata": {},
     "output_type": "execute_result"
    }
   ],
   "source": [
    "paradigmes.stack().value_counts(dropna=True).sum()"
   ]
  },
  {
   "cell_type": "code",
   "execution_count": 45,
   "metadata": {
    "collapsed": false,
    "scrolled": true
   },
   "outputs": [],
   "source": [
    "#paradigmes[paradigmes[\"lexeme\"]==u\"cuire\"].stack().value_counts(dropna=True).sum()\n",
    "#paradigmes[paradigmes[\"lexeme\"]==u\"dépendre\"].stack()"
   ]
  },
  {
   "cell_type": "code",
   "execution_count": 46,
   "metadata": {
    "collapsed": false
   },
   "outputs": [],
   "source": [
    "\"\"\"\n",
    "A dictionary difference calculator\n",
    "Originally posted as:\n",
    "http://stackoverflow.com/questions/1165352/fast-comparison-between-two-python-dictionary/1165552#1165552\n",
    "\"\"\"\n",
    "\n",
    "\n",
    "class DictDiffer(object):\n",
    "    # TODO: on changed() avoid returning duplicate keys.\n",
    "    # TODO:\n",
    "    \"\"\"\n",
    "        Compares two dictionaries, traversing nested dictionaries,\n",
    "        and provides four simple methods to access the differences between them:\n",
    "            changed(), removed(), added(), unchanged()\n",
    "         All four methods return a tuple of tuples of keys.\n",
    "         When a given key is a nested one, it returns a tuple containing\n",
    "         all the keys in the path to that key. For instance, given the sample above,\n",
    "         the second \"b\" dict bellow contains the new \"y\" key under \"x\" and this in turn under \"c\",\n",
    "         so it returns on tuple: ('c', ('x', 'y'))\n",
    "    \"\"\"\n",
    "\n",
    "    def __init__(self, current_dict, past_dict):\n",
    "        self._added,self._removed,self._changed,self._unchanged = self.diff_dicts(current_dict, past_dict)\n",
    "\n",
    "        for key in (self._changed + self._unchanged):\n",
    "#            print key, current_dict[key], past_dict[key]\n",
    "            if isinstance(current_dict[key], dict) and isinstance(past_dict[key], dict):\n",
    "                self._extend( key, self.__class__(current_dict[key], past_dict[key]) )\n",
    "\n",
    "    def diff_dicts(self, current_dict, past_dict):\n",
    "        \"\"\"\n",
    "        This is the original functionality for simple (not nested) dicts:\n",
    "            Compares current_dict and past_dict and returns\n",
    "            (added, removed, changed, unchanged) keys\n",
    "        \"\"\"\n",
    "        set_current, set_past = set(current_dict.keys()), set(past_dict.keys())\n",
    "        intersect = set_current.intersection(set_past)\n",
    "        added = list(set_current - intersect)\n",
    "        removed = list(set_past - intersect)\n",
    "        changed = list(o for o in intersect if past_dict[o] != current_dict[o])\n",
    "        unchanged = list(o for o in intersect if past_dict[o] == current_dict[o])\n",
    "        return added, removed, changed, unchanged\n",
    "\n",
    "    def _extend(self, parent, diff):\n",
    "        \"\"\"\n",
    "            Adds the given differences to the appropriate members.\n",
    "            Used with nested dicts.\n",
    "        \"\"\"\n",
    "        self._added += [tuple([parent, o]) for o in diff._added]\n",
    "        self._removed += [tuple([parent, o]) for o in diff._removed]\n",
    "        self._changed += [tuple([parent, o]) for o in diff._changed]\n",
    "        self._unchanged += [tuple([parent, o]) for o in diff._unchanged]\n",
    "\n",
    "    def added(self):\n",
    "        return tuple(self._added)\n",
    "    def removed(self):\n",
    "        return tuple(self._removed)\n",
    "    def changed(self):\n",
    "        return tuple(self._changed)\n",
    "    def unchanged(self):\n",
    "        return tuple(self._unchanged)\n"
   ]
  },
  {
   "cell_type": "code",
   "execution_count": 47,
   "metadata": {
    "collapsed": false
   },
   "outputs": [],
   "source": [
    "def showDifference(listePaires):\n",
    "    for resultat in listePaires:\n",
    "        print \"paire :\",resultat\n",
    "    #    print resultatsLecture[resultat].patrons\n",
    "    #    for element in resultatsLecture[resultat].patrons:\n",
    "    #        print \"\\t\"+element, resultatsLecture[resultat].patrons[element]\n",
    "    #    print\n",
    "        test=DictDiffer(resultatsPartiels[resultat].patrons,resultatsLecture[resultat].patrons)\n",
    "        if test.added(): print \"added\",test.added()\n",
    "        if test.removed():\n",
    "            print \"missing\"\n",
    "            for element in test.removed():\n",
    "                print \"\\t\"+element,resultatsLecture[resultat].patrons[element]\n",
    "            print \"classe\"\n",
    "            print \"\\t\"+element,resultatsLecture[resultat].classe\n",
    "        if test.changed():\n",
    "            print \"overspecified\"\n",
    "            for element in test.changed():\n",
    "                print \"\\t\"+element,resultatsLecture[resultat].patrons[element]\n",
    "                print \"\\t\"+element,resultatsPartiels[resultat].patrons[element]\n",
    "                print\n",
    "        if test.unchanged():\n",
    "            print \"optimal\"\n",
    "            print \"\\t\"+element,resultatsLecture[resultat].patrons[element]"
   ]
  },
  {
   "cell_type": "code",
   "execution_count": 48,
   "metadata": {
    "collapsed": false,
    "scrolled": true
   },
   "outputs": [
    {
     "name": "stdout",
     "output_type": "stream",
     "text": [
      "paire : ('inf', 'ppMS')\n",
      "added (u'tr-',)\n",
      "missing\n",
      "\tEtr-i ^(.*)mEtr$\n",
      "\tdr-ly ^(.*)mudr$\n",
      "\twar-i ^(.*[rE6a])swar$\n",
      "\tr-e ^Etr$\n",
      "\tEtr-e ^(.*)nEtr$\n",
      "\tre- ^kurbatyre$\n",
      "\tErir-i ^(.*[E96aOêûâô])kErir$\n",
      "\tksir-si ^Oksir$\n",
      "\te-â ^tOne$\n",
      "\tOr-o ^(.*)klOr$\n",
      "\te-y ^fiSe$\n",
      "\tâdr-i ^(.*)prâdr$\n",
      "classe\n",
      "\tâdr-i {u'Etr-i': {u'Etr-i': 10}, u'Etr-e': {u'Etr-e': 1}, u'ir-y, r-, Erir-i': {u'Erir-i': 5}, u'ir-y, r-, rir-Er': {u'r-': 1, u'rir-Er': 10}, u'dr-, r-y, udr-Oly': {u'udr-Oly': 1}, u'dr-, dr-zy': {u'dr-zy': 3}, u'r-y, \\xe2dr-i': {u'\\xe2dr-i': 12}, u'dr-ly': {u'dr-ly': 3}, u'war-i, war-y': {u'war-i': 3}, u'-, re-': {'-': 1, u're-': 1}, '-': {'-': 5766}, u'6vwar-y, war-y': {u'6vwar-y': 11}, u'dr-': {u'dr-': 9}, u'Etr-i, Etr-y': {u'Etr-i': 6}, u'Or-o': {u'Or-o': 5}, u'ir-y, r-, u.ir-O.': {u'u.ir-O.': 1}, u'ir-y, r-': {u'r-': 323, u'ir-y': 43}, u'-, e-y': {u'e-y': 1, '-': 1}, u'r-y': {u'r-y': 56}, u'ir-y, ksir-si, r-': {u'ksir-si': 1}, u'watr-y': {u'watr-y': 4}, u'r-e': {u'r-e': 1}, u'-, e-\\xe2': {u'e-\\xe2': 1}, u'r-i': {u'r-i': 3}, u'dr-, r-y': {u'r-y': 12, u'dr-': 22}, u'Etr-y, r-y': {u'Etr-y': 9}, u'ivr-Eky': {u'ivr-Eky': 3}, u'Er-y, r-': {u'Er-y': 4}, u'Etr-e, Etr-y': {u'Etr-y': 3, u'Etr-e': 1}, u'war-y': {u'war-y': 19}, u'-, i.-j.': {u'i.-j.': 4}, u'uvwar-y, war-y': {u'uvwar-y': 4}, u'r-': {u'r-': 126}, u'avwar-y, war-y': {u'avwar-y': 2}}\n",
      "overspecified\n",
      "\t- ^(.*[ptkbdgfsSvzZmnJjlrwHiyEe926uOoêûô])e$\n",
      "\t- ^(.*[ptkbdgfsSvzZmnJjlrwHiyEe926auOoêûâô][ptkbdgfsSvzZmnJjlrwHiyEe926uOoêûô])E$\n",
      "\n",
      "\t6vwar-y ^(.*[tdszl])6vwar$\n",
      "\t6vwar-y ^(.*[tdsz])6vwar$\n",
      "\n",
      "\tEtr-y ^(.*[pkbgfvr][E96aO][ptbdfsvzmnr])Etr$\n",
      "\tEtr-y ^(.*[pk][E96aO][mnr])Etr$\n",
      "\n",
      "\tEr-y ^(.*[tdl])Er$\n",
      "\tEr-y ^tEr$\n",
      "\n",
      "\tdr- ^(.*[ptkbdgfsSvzZjlrwH][iyEe926uOoêûô])dr$\n",
      "\tdr- ^(.*[ptkbdgfsSvzZjlrwH])êdr$\n",
      "\n",
      "\twatr-y ^(.*)krwatr$\n",
      "\twatr-y ^akrwatr$\n",
      "\n",
      "\twar-y ^(.*[ptkbdgfsSvzZlr])war$\n",
      "\twar-y ^(.*[bdvzlr])war$\n",
      "\n",
      "\tuvwar-y ^(.*[pbm])uvwar$\n",
      "\tuvwar-y ^(.*)muvwar$\n",
      "\n",
      "\ti.-j. ^([ptk][lr])ie$\n",
      "\ti.-j. ^([pk][lr])iE$\n",
      "\n",
      "optimal\n",
      "\ti.-j. ^([ptk][lr])ie$\n",
      "paire : ('pi3S', 'pi2S')\n",
      "added (u'wa-jE', u'jE-wa')\n",
      "missing\n",
      "\tti- ^(.*)sOrti$\n",
      "\t-ti ^r6sOr$\n",
      "\tje-wa ^(.*)asje$\n",
      "\twa-je ^(.*)aswa$\n",
      "classe\n",
      "\twa-je {u'ti-, -': {u'ti-': 2, '-': 5}, u'-, -j': {'-': 89, u'-j': 34}, u'-, wa-je': {u'wa-je': 2, '-': 2}, '-': {'-': 6346}, u'-, j-': {u'j-': 34, '-': 53}, u'-, -ti': {u'-ti': 1, '-': 1}, u'-, je-wa': {'-': 2, u'je-wa': 2}}\n",
      "overspecified\n",
      "\tj- ^(.*[ptkbdgfsSvzZmnJlr])Ej$\n",
      "\tj- ^(.*[ptfs])Ej$\n",
      "\n",
      "\t-j ^(.*[ptkbdgfsSvzZmnJlr])E$\n",
      "\t-j ^(.*[ptfs])E$\n",
      "\n",
      "optimal\n",
      "\t-j ^(.*[ptkbdgfsSvzZmnJlr])E$\n",
      "paire : ('pi3S', 'pi1P')\n",
      "added (u'9-uv\\xf4', u'jE-Ej\\xf4', u'9-ul\\xf4')\n",
      "missing\n",
      "\to..-O..ô ^(.*[ptkbdgfsSvzZ])o([ptfs][ptbdfsvzr])$\n",
      "\tv.-n.lô ^âva$\n",
      "\t-pô ^(.*)rô$\n",
      "\t-tisô ^r6sOr$\n",
      "\tje-Ejô ^(.*)asje$\n",
      "\t2-uvô ^(.*[pbm])2$\n",
      "\twa-Ojô ^wa$\n",
      "\t-lô ^(.*)mu$\n",
      "\tE..-6..ô ^sEvr$\n",
      "\te-Eô ^(.*[ptkbdgfsSvzZmnJlr])e$\n",
      "\t9..-6..ô ^(.*)9([pkbgfvmJr][ptbdfsvzlr])$\n",
      "\t2.-6.ô ^(.*[ptkbdgfsSvzZmnJjr])2([tdsznl])$\n",
      "\t2..-6..ô ^(.*[pbfvm])2([ptkbdg][lr])$\n",
      "\tje-wajô ^(.*)asje$\n",
      "\to.-O.ô ^(.*)o([ptkbdgfsSvzZmnJlr])$\n",
      "\to-ajô ^fo$\n",
      "\t2-ulô ^(.*)v2$\n",
      "\tpt-tô ^(.*[dz][âô])pt$\n",
      "\tu-Olvô ^([bdvzrE6a][bjiEe][sz])u$\n",
      "\tE-aisô ^(.*)E$\n",
      "\tjEr-Erô ^(.*[E96aOêûâô])kjEr$\n",
      "\to-alô ^(.*)vo$\n",
      "\t-kô ^(.*)vê$\n",
      "\ti-ô ^(.*)sOrti$\n",
      "\to...-O...ô ^klostr$\n",
      "classe\n",
      "\to...-O...ô {u'o..-O..\\xf4, -v\\xf4, -t\\xf4, -\\xf4, -d\\xf4': {u'o..-O..\\xf4': 3}, u'-v\\xf4, -t\\xf4, -\\xf4, 9.-6.\\xf4': {u'9.-6.\\xf4': 7}, u'E.-6.\\xf4, -\\xf4': {u'-\\xf4': 227, u'E.-6.\\xf4': 195}, u'-z\\xf4, -v\\xf4, -t\\xf4, -j\\xf4, -\\xf4, e-E\\xf4, -s\\xf4': {u'e-E\\xf4': 15}, u'-z\\xf4, E-ais\\xf4, -v\\xf4, -t\\xf4, -j\\xf4, -\\xf4, -s\\xf4, E-6z\\xf4': {u'E-6z\\xf4': 9}, u'E-ais\\xf4, -v\\xf4, -t\\xf4, -j\\xf4, -\\xf4, -s\\xf4': {u'-j\\xf4': 1, u'-s\\xf4': 5, u'-t\\xf4': 16}, u'\\xea-EJ\\xf4, -\\xf4': {u'\\xea-EJ\\xf4': 2}, u'wa-6v\\xf4, -v\\xf4, -j\\xf4, wa-Ej\\xf4, -s\\xf4': {u'-j\\xf4': 2, u'wa-Ej\\xf4': 2}, u'-v\\xf4, -t\\xf4, -\\xf4, 9..-6..\\xf4, -d\\xf4': {u'9..-6..\\xf4': 2}, u'-v\\xf4, -t\\xf4, -j\\xf4, -\\xf4, e-E\\xf4, -s\\xf4': {u'e-E\\xf4': 1}, u'-\\xf4, o.-O.\\xf4': {u'o.-O.\\xf4': 144}, u'-z\\xf4, -v\\xf4, -j\\xf4, -\\xf4, e-E\\xf4, -s\\xf4': {u'e-E\\xf4': 4}, u'-t\\xf4, -d\\xf4': {u'-d\\xf4': 29, u'-t\\xf4': 5}, u'-v\\xf4, -j\\xf4, -s\\xf4': {u'-j\\xf4': 47, u'-s\\xf4': 4}, u'-z\\xf4, -v\\xf4, -t\\xf4, -j\\xf4, -\\xf4, i-\\xf4, i-j\\xf4, -s\\xf4': {u'-s\\xf4': 5, u'i-\\xf4': 2}, u'-z\\xf4, E-ais\\xf4, -v\\xf4, -t\\xf4, -j\\xf4, -\\xf4, -s\\xf4': {u'-j\\xf4': 31, u'-z\\xf4': 1, u'-s\\xf4': 10, u'-t\\xf4': 3}, u'-z\\xf4, -v\\xf4, -t\\xf4, -j\\xf4, -\\xf4, i-j\\xf4, -s\\xf4': {u'i-j\\xf4': 227, u'-\\xf4': 12, u'-s\\xf4': 199, u'-v\\xf4': 15, u'-z\\xf4': 11}, u'v.-n.l\\xf4, -v\\xf4, -t\\xf4, -j\\xf4, -s\\xf4': {u'v.-n.l\\xf4': 1}, u'-v\\xf4': {u'-v\\xf4': 1}, u'-z\\xf4, -t\\xf4, -j\\xf4, -\\xf4': {u'-j\\xf4': 3, u'-\\xf4': 57, u'-t\\xf4': 2}, u'-m\\xf4, -v\\xf4, -t\\xf4, -\\xf4, -d\\xf4': {u'-\\xf4': 25, u'-d\\xf4': 4, u'-t\\xf4': 1, u'-m\\xf4': 5}, u'\\xe2-6n\\xf4, -t\\xf4, -d\\xf4': {u'\\xe2-6n\\xf4': 12}, u'-z\\xf4, -t\\xf4, -j\\xf4, -\\xf4, o-aj\\xf4': {u'o-aj\\xf4': 1}, u'-z\\xf4, -t\\xf4, -j\\xf4, -\\xf4, o-al\\xf4': {u'o-al\\xf4': 4}, u'-t\\xf4': {u'-t\\xf4': 2}, u'-\\xf4': {u'-\\xf4': 3885}, u'E-ais\\xf4, -v\\xf4, -t\\xf4, -\\xf4, -s\\xf4': {u'E-ais\\xf4': 1}, u'-z\\xf4, 2-uv\\xf4, -t\\xf4, -j\\xf4, -\\xf4': {u'2-uv\\xf4': 1}, u'-\\xf4, 2.-6.\\xf4': {u'2.-6.\\xf4': 13}, u'E.-6.\\xf4, -v\\xf4, -t\\xf4, -\\xf4, -d\\xf4': {u'-\\xf4': 120, u'E.-6.\\xf4': 1, u'-d\\xf4': 2, u'-v\\xf4': 3}, u'-z\\xf4, -t\\xf4, -j\\xf4, -\\xf4, u-Olv\\xf4': {u'u-Olv\\xf4': 3}, u'-\\xf4, j\\xea-6n\\xf4': {u'j\\xea-6n\\xf4': 27}, u'-v\\xf4, -t\\xf4, -\\xf4, -d\\xf4, 9.-6.\\xf4': {u'9.-6.\\xf4': 11}, u'E.-6.\\xf4, -v\\xf4, -t\\xf4, -\\xf4, -d\\xf4, jEr-Er\\xf4': {u'jEr-Er\\xf4': 5}, u'-v\\xf4, -t\\xf4, -\\xf4, -d\\xf4, o...-O...\\xf4': {u'o...-O...\\xf4': 1}, u'-v\\xf4, -\\xf4': {u'-\\xf4': 298}, u'-\\xf4, 9..-6..\\xf4': {u'-\\xf4': 3, u'9..-6..\\xf4': 8}, u'-t\\xf4, -j\\xf4, -\\xf4, -l\\xf4': {u'-l\\xf4': 3}, u'-v\\xf4, -t\\xf4, -\\xf4, 9.-u.\\xf4, -d\\xf4, 9.-6.\\xf4': {u'9.-u.\\xf4': 1}, u'-v\\xf4, -j\\xf4, wa-yv\\xf4, -s\\xf4': {u'wa-yv\\xf4': 1}, u'-v\\xf4, -t\\xf4, -\\xf4, -s\\xf4': {u'-s\\xf4': 3}, u'\\xea-EJ\\xf4, -t\\xf4, -\\xf4': {u'\\xea-EJ\\xf4': 20}, u'-\\xf4, 2..-6..\\xf4': {u'2..-6..\\xf4': 2}, u'-v\\xf4, -t\\xf4, -j\\xf4, -s\\xf4': {u'-t\\xf4': 11}, u'-z\\xf4, je-Ej\\xf4, -v\\xf4, -j\\xf4, -\\xf4, je-waj\\xf4, -s\\xf4': {u'je-Ej\\xf4': 2, u'je-waj\\xf4': 2}, u'-z\\xf4, -v\\xf4, -j\\xf4, -\\xf4, -s\\xf4': {u'-z\\xf4': 31, u'-\\xf4': 5, u'-s\\xf4': 1, u'-v\\xf4': 2, u'-j\\xf4': 3}, u'-z\\xf4, -j\\xf4, -\\xf4': {u'-z\\xf4': 3, u'-\\xf4': 46}, u'wa-6v\\xf4, -v\\xf4, -j\\xf4, -s\\xf4': {u'-j\\xf4': 18, u'wa-6v\\xf4': 9}, u'-t\\xf4, -\\xf4, -d\\xf4': {u'-d\\xf4': 12}, u'-z\\xf4, -t\\xf4, -j\\xf4, -\\xf4, 2-ul\\xf4': {u'2-ul\\xf4': 2}, u'-t\\xf4, -j\\xf4, -\\xf4': {u'-\\xf4': 18}, u'-v\\xf4, -j\\xf4, wa-Oj\\xf4, -s\\xf4': {u'wa-Oj\\xf4': 1}, u'o..-O..\\xf4, -\\xf4': {u'o..-O..\\xf4': 1}, u'-v\\xf4, -t\\xf4, -\\xf4': {u'-\\xf4': 162, u'-t\\xf4': 3}, u'-v\\xf4, -t\\xf4, -\\xf4, i-j\\xf4, -s\\xf4': {u'i-j\\xf4': 1, u'-s\\xf4': 3}, u'E-ais\\xf4, -v\\xf4, -\\xf4, E-sOm': {u'E-sOm': 1, u'E-ais\\xf4': 1}, u'-p\\xf4, -t\\xf4, -\\xf4, -d\\xf4': {u'-p\\xf4': 3}, u'-\\xf4, pt-t\\xf4': {u'pt-t\\xf4': 2}, u'-m\\xf4, -tis\\xf4, -v\\xf4, -t\\xf4, -\\xf4, -d\\xf4': {u'-tis\\xf4': 1, u'-t\\xf4': 1}, u'-v\\xf4, -t\\xf4, -\\xf4, -d\\xf4, 2..-6..\\xf4': {u'2..-6..\\xf4': 2}, u'\\xea-EJ\\xf4, -t\\xf4, -\\xf4, -k\\xf4': {u'-k\\xf4': 2}, u'2-uv\\xf4, -t\\xf4, -j\\xf4, -\\xf4': {u'2-uv\\xf4': 2}, u'-z\\xf4, E-ais\\xf4, -v\\xf4, -j\\xf4, -\\xf4, -s\\xf4': {u'-z\\xf4': 3, u'-j\\xf4': 9}, u'-v\\xf4, -t\\xf4, -j\\xf4, va-al\\xf4, -s\\xf4': {u'va-al\\xf4': 1}, u'-z\\xf4, -v\\xf4, -j\\xf4, -\\xf4, i-j\\xf4, -s\\xf4': {u'i-j\\xf4': 27, u'-\\xf4': 10, u'-s\\xf4': 71, u'-z\\xf4': 5}, u'-\\xf4, \\xea-aJ\\xf4': {u'\\xea-aJ\\xf4': 6}, u'-v\\xf4, -\\xf4, -s\\xf4': {u'-s\\xf4': 10}, u'-v\\xf4, -t\\xf4, -\\xf4, -d\\xf4': {u'-\\xf4': 174, u'-d\\xf4': 3}, u'-z\\xf4, E-ais\\xf4, -v\\xf4, -t\\xf4, -j\\xf4, -\\xf4, E-av\\xf4, -s\\xf4': {u'E-av\\xf4': 1}, u'-v\\xf4, -t\\xf4, -j\\xf4, -\\xf4, i-j\\xf4, -s\\xf4': {u'i-j\\xf4': 11, u'-s\\xf4': 43}, u'-v\\xf4, -t\\xf4, -\\xf4, E..-6..\\xf4, -d\\xf4': {u'E..-6..\\xf4': 1}, u'-\\xf4, 9.-6.\\xf4': {u'9.-6.\\xf4': 7}}\n",
      "overspecified\n",
      "\t-zô ^(.*[ptkbdgfsSvzZjlrwH][iyEe926uOo])$\n",
      "\t-zô ^(.*[bdvzjlH])i$\n",
      "\n",
      "\t-mô ^(.*[ptbdfsvz])Or$\n",
      "\t-mô ^dOr$\n",
      "\n",
      "\tê-EJô ^(.*[ptkbdgfsSvzZlr])ê$\n",
      "\tê-EJô ^krê$\n",
      "\n",
      "\tE.-6.ô ^(.*[ptkbdgfsSvzZmnJjlr])E([ptbdfsvzmnlr])$\n",
      "\tE.-6.ô ^(.*[ptkbdgfsSvzZmnJlr])E([ptbdfsvzmnl])$\n",
      "\n",
      "\t-jô ^(.*[ptkbdgfsSvzZmnJjlrwH][iyEe926auOo])$\n",
      "\t-jô ^(.*[ptkbdgfsSvzZjrwH][iEea])$\n",
      "\n",
      "\t-vô ^(.*[jriEe6a])$\n",
      "\t-vô ^(.*[iEea])$\n",
      "\n",
      "\t-tô ^(.*[ptbdfsvzmnrE96aOêûâô][jrwHiyEe926auOoêûâô])$\n",
      "\t-tô ^(.*[ptbdfsvzmnrE96aOêûâô][rE6aêâ])$\n",
      "\n",
      "\t-ô ^(.*[ptkbdgfsSvzZmnJjlrwHiyEe926uOoêûô])$\n",
      "\t-ô ^(.*[ptkbdgfsSvzZmnJjlrwHiyEe926auOoêûâô][ptkbdgfsSvzZmnJjlrwHiyEe926uOoêûô])$\n",
      "\n",
      "\twa-Ejô ^(.*)aswa$\n",
      "\twa-Ejô ^aswa$\n",
      "\n",
      "\ti-jô ^(.*[ptkbdgfsSvzZmnJjlrE6ê])i$\n",
      "\ti-jô ^(.*[jrwHiyEe926auOoêûâô][ptkbdgfsSvzZr])i$\n",
      "\n",
      "\t-dô ^(.*[ptbdfsvzrE96O][r6Oâô])$\n",
      "\t-dô ^(.*[ptbdfsvzrE6][r6â])$\n",
      "\n",
      "\t9.-6.ô ^(.*[ptkbdgfsSvzZmnJlr])9([ptkbdgfsSvzZmnJjlr])$\n",
      "\t9.-6.ô ^(.*[kgSZr])9([bdvzmnj])$\n",
      "\n",
      "\t-sô ^(.*[ptkbdgfsSvzZmnJjlrwHiyEe926auOoêûâô][iEea])$\n",
      "\t-sô ^(.*[bdgvzZmnJjrwHiyEe926auOoêûâô][ptkbdgfsSvzZmnJjrwHiyEe926uOoêûô][iEe])$\n",
      "\n",
      "optimal\n",
      "\t-sô ^(.*[ptkbdgfsSvzZmnJjlrwHiyEe926auOoêûâô][iEea])$\n",
      "paire : ('pi3S', 'inf')\n",
      "added (u'-E', u'-jE', u'va-alE', u'9-uvwar', u'pt-tE', u'9-ulwar', u'9-6vwar', u'jE-war', u'9..-6..E', u'E.-6.E', u'i-jE', u'O-alwar', u'9.-6.E')\n",
      "missing\n",
      "\to-ajir ^fo$\n",
      "\t2-6vwar ^(.*)pl2$\n",
      "\tje-war ^(.*)sje$\n",
      "\tE.-6.e ^(.*[ptkbdgfsSvzZmnJjlr])E([ptbdfsvzmnlr])$\n",
      "\to..-O..e ^(.*[ptkbdgfsSvzZ])o([ptfs][ptbdfsvzr])$\n",
      "\to-alwar ^(.*[fsSvzZ])o$\n",
      "\t2-ulwar ^(.*)v2$\n",
      "\tv.-n.le ^âva$\n",
      "\t-e ^(.*[ptkbdgfsSvzZmnJjlrwHiyEe926uOoêûô])$\n",
      "\t-je ^(.*[ptkbdgfsSvzZmnJjlrwH][Ea])$\n",
      "\te-Ee ^(.*[ptkbdgfsSvzZmnJlr])e$\n",
      "\tE..-6..e ^sEvr$\n",
      "\t2.-6.e ^(.*[ptkbdgfsSvzZmnJjr])2([tdsznl])$\n",
      "\t9..-6..e ^(.*)9([pkbgfvmJr][ptbdfsvzlr])$\n",
      "\to-Or ^(.*)klo$\n",
      "\ta-ir ^wa$\n",
      "\tva-ale ^va$\n",
      "\tpt-te ^(.*[dz][âô])pt$\n",
      "\t2-uvwar ^(.*[pbm])2$\n",
      "\to.-O.e ^(.*)o([ptkbdgfsSvzZmnJlr])$\n",
      "\ti-Ezir ^Zi$\n",
      "\ti-je ^(.*[ptkbdgfsSvzZmnJjlrE6ê])i$\n",
      "\t2..-6..e ^(.*[pbfvm])2([ptkbdg][lr])$\n",
      "\to...-O...e ^klostr$\n",
      "\t9.-6.e ^(.*[ptkbdgfsSvzZmnJlr])9([ptkbdgfsSvzZmnJjlr])$\n",
      "classe\n",
      "\t9.-6.e {u'-e, E..-6..e, -dr, -tir, -ir': {u'E..-6..e': 1}, u'-je, -tr, -r, -dr': {u'-tr': 4, u'-je': 38, u'-r': 12}, u'-e, -tr, -r, -dr': {u'-e': 74, u'-r': 14}, u'2-6vwar, -e, -tr, -r, -dr': {u'2-6vwar': 2}, u'E.-6.e, -e': {u'-e': 228, u'E.-6.e': 195}, u'-e, -dr, 9.-6.ir, 9.-6.e, -ir': {u'9.-6.ir': 3}, u'-e, -dr, -ir': {u'-e': 285, u'-dr': 1, u'-ir': 8}, u'-e, -dr, o..-O..e, -tir': {u'o..-O..e': 1}, u'-e, -tr, -dr, -jir': {u'-e': 2, u'-jir': 3}, u'-e, -dr, -tir, 9.-6.e, -ir': {u'9.-6.e': 4}, u'-e, -tr, -r, -dr, e-Ee': {u'e-Ee': 20}, u'-e, -tr, -dr': {u'-dr': 9, u'-e': 41, u'-tr': 2}, u'-e, 9.-6.e': {u'9.-6.e': 7}, u'-e, 2..-6..e': {u'2..-6..e': 2}, u'-e, -tr, -r, E-air, -dr, -tir': {u'E-air': 1}, u'-e, -dr, 2..-6..e, -tir': {u'2..-6..e': 2}, u'2.-6.e, -e': {u'2.-6.e': 13}, u'-e, -tr, o-Or, -dr': {u'o-Or': 5}, u'je-war, -e, -tr, -r, -dr': {u'je-war': 4}, u'E.-6.e, -e, jEr-Erir, -dr, -tir, -ir': {u'jEr-Erir': 5}, u'-e, -dr, -tir, -ir': {u'-e': 29, u'-ir': 10}, u'-dr, -tir': {u'-dr': 41, u'-tir': 7}, u'-e, -dr, -tir': {u'-e': 135, u'-dr': 23}, u'-e, -tr, E-air': {u'-tr': 1, u'E-air': 1}, u'-e, -dr, -tir, -kr': {u'-kr': 2}, u'-je, -tr, -r, -dr, -tir': {u'-tr': 11}, u'-e, -tir, -ir': {u'-e': 27, u'-tir': 3}, u'E.-6.e, -e, -dr, -tir, -ir': {u'-e': 85, u'-dr': 2, u'E.-6.e': 1}, u'-e, -tr, -dr, o-alwar': {u'o-alwar': 5}, u'-e, -vr, -tr, -r, -dr': {u'-e': 5, u'-vr': 3, u'-r': 36}, u'-e, -vr, -tr, -r, -dr, i-je': {u'i-je': 6, u'-vr': 3, u'-r': 12}, u'2-ulwar, -e, -tr, -r, -dr': {u'2-ulwar': 2}, u'E.-6.e, -e, -dr, -tir': {u'-e': 20}, u'-pr, -e, -dr': {u'-pr': 3}, u'-e': {u'-e': 3914}, u'-e, pt-te': {u'pt-te': 2}, u'-e, -dr, -tir, o...-O...e': {u'o...-O...e': 1}, u'-e, -dr, -tir, -mir, -ir': {u'-e': 25, u'-dr': 4, u'-mir': 5, u'-tir': 2}, u'-e, -tr, -r, 2-uvwar, -dr': {u'2-uvwar': 3}, u'-e, o..-O..e': {u'o..-O..e': 1}, u'-e, -je, -tr, -r, E-air, -dr, -tir': {u'-tr': 31, u'-je': 25, u'-tir': 3, u'-r': 18}, u'-e, -tir': {u'-e': 8}, u'-e, -dr, 9.-6.e, -ir': {u'9.-6.e': 4}, u'-e, -je, -tr, -r, E-air, E-avwar, -dr, -tir': {u'E-avwar': 1}, u'-e, -tr, -r, -dr, i-je': {u'-e': 22, u'i-je': 258, u'-r': 341}, u'-je, -tr, -r, a-ir, -dr': {u'a-ir': 1}, u'-je, -tr, -r, wa-6vwar, -dr': {u'-je': 17, u'wa-6vwar': 9, u'-r': 3}, u'-e, 9..-6..e, -dr, -tir, -ir': {u'9..-6..e': 2}, u'-e, -dr, -tir, 9.-6.e': {u'9.-6.e': 7}, u'-e, j\\xea-6nir, -dr': {u'j\\xea-6nir': 28}, u'-e, 9.-u.ir, -dr, -tir, 9.-6.e': {u'9.-u.ir': 1}, u'-e, -tr': {u'-e': 2}, u'-e, -tr, -r': {u'-r': 3}, u'E.-6.e, -vir, -e, -dr, -tir, -ir': {u'-e': 15, u'-vir': 3}, u'-e, 9..-6..e': {u'-e': 3, u'9..-6..e': 8}, u'-e, -dr': {u'-dr': 21, u'-e': 58}, u'i-Ezir, -e, -tr, -r, -dr, i-je': {u'i-Ezir': 1}, u'-e, -ir': {u'-e': 55, u'-ir': 4}, u'-je, -tr, -r, va-ale, -dr, -tir': {u'va-ale': 1}, u'-e, -je, -tr, -r, E-air, -dr': {u'-je': 9, u'-r': 3}, u'-e, -dr, o..-O..e, -tir, -ir': {u'o..-O..e': 2}, u'v.-n.le, -je, -tr, -r, -dr, -tir': {u'v.-n.le': 1}, u'o-ajir, -e, -tr, -dr, o-alwar': {u'o-alwar': 1, u'o-ajir': 1}, u'-e, o.-O.e': {u'o.-O.e': 144}, u'-vwar, -tr': {u'-vwar': 1}}\n",
      "overspecified\n",
      "\tE-air ^(.*)E$\n",
      "\tE-air ^E$\n",
      "\n",
      "\t-dr ^(.*[ptkbdgfsSvzZmnJjlrwHiyEe926uOoêûô][jrwHiyEe926auOoêûâô])$\n",
      "\t-dr ^(.*[ptkbdgfsSvzZjlrwHiyEe926uOo][jrwHiyEe926auOoêûâô])$\n",
      "\n",
      "\t-mir ^(.*[ptbdfsvz])Or$\n",
      "\t-mir ^(.*)dOr$\n",
      "\n",
      "\t-r ^(.*[ptkbdgfsSvzZmnJjlrwHiyEe926auOoêûâô][iyEe92a])$\n",
      "\t-r ^(.*[ptkbdgfsSvzZmnJjlrwHiyEe926auOoêûâô][iyEe926auOo])$\n",
      "\n",
      "\t-jir ^(.*)bu$\n",
      "\t-jir ^bu$\n",
      "\n",
      "optimal\n",
      "\t-jir ^(.*)bu$\n"
     ]
    }
   ],
   "source": [
    "listePaires=[(\"inf\",\"ppMS\"),(\"pi3S\",\"pi2S\"),(\"pi3S\",\"pi1P\"),(\"pi3S\",\"inf\")]\n",
    "showDifference(listePaires)"
   ]
  },
  {
   "cell_type": "code",
   "execution_count": null,
   "metadata": {
    "collapsed": true
   },
   "outputs": [],
   "source": []
  },
  {
   "cell_type": "code",
   "execution_count": null,
   "metadata": {
    "collapsed": true
   },
   "outputs": [],
   "source": []
  }
 ],
 "metadata": {
  "kernelspec": {
   "display_name": "Python 2",
   "language": "python",
   "name": "python2"
  },
  "language_info": {
   "codemirror_mode": {
    "name": "ipython",
    "version": 2
   },
   "file_extension": ".py",
   "mimetype": "text/x-python",
   "name": "python",
   "nbconvert_exporter": "python",
   "pygments_lexer": "ipython2",
   "version": "2.7.10"
  }
 },
 "nbformat": 4,
 "nbformat_minor": 0
}
