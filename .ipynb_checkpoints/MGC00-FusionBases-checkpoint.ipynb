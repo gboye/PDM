{
 "cells": [
  {
   "cell_type": "code",
   "execution_count": 30,
   "metadata": {
    "collapsed": true
   },
   "outputs": [],
   "source": [
    "import csv,pickle,codecs\n",
    "import pandas as pd"
   ]
  },
  {
   "cell_type": "code",
   "execution_count": 31,
   "metadata": {
    "collapsed": true
   },
   "outputs": [],
   "source": [
    "nomVerbes=\"2015-Data/MGC-160104-03-N-paradigmes.csv\"\n",
    "nomBases=\"2015-Data/MGC-160104-01-N-basesDerives3.csv\"\n",
    "nomSortie=\"2015-Data/MGC-160104-03-N-ext3-paradigmes.csv\""
   ]
  },
  {
   "cell_type": "code",
   "execution_count": 32,
   "metadata": {
    "collapsed": false,
    "scrolled": true
   },
   "outputs": [],
   "source": [
    "verbes=pd.read_csv(nomVerbes,sep=\";\",encoding=\"utf8\")\n",
    "del verbes[\"Unnamed: 0\"]\n",
    "bases=pd.read_csv(nomBases,sep=\";\",encoding=\"utf8\")\n",
    "del bases[\"Unnamed: 0\"]\n",
    "#bases"
   ]
  },
  {
   "cell_type": "code",
   "execution_count": 33,
   "metadata": {
    "collapsed": true
   },
   "outputs": [],
   "source": [
    "setVerbes=set(verbes[\"lexeme\"].tolist())\n",
    "setBases=set(bases[\"lexeme\"].tolist())\n",
    "basesManquantes=setBases-setVerbes\n",
    "basePresentes=setBases&setVerbes"
   ]
  },
  {
   "cell_type": "code",
   "execution_count": 34,
   "metadata": {
    "collapsed": false
   },
   "outputs": [
    {
     "data": {
      "text/html": [
       "<div>\n",
       "<table border=\"1\" class=\"dataframe\">\n",
       "  <thead>\n",
       "    <tr style=\"text-align: right;\">\n",
       "      <th></th>\n",
       "      <th>lexeme</th>\n",
       "      <th>inf</th>\n",
       "      <th>pi3S</th>\n",
       "      <th>ppMS</th>\n",
       "    </tr>\n",
       "  </thead>\n",
       "  <tbody>\n",
       "    <tr>\n",
       "      <th>0</th>\n",
       "      <td>absoudre</td>\n",
       "      <td>absudr</td>\n",
       "      <td>absu</td>\n",
       "      <td>absu</td>\n",
       "    </tr>\n",
       "  </tbody>\n",
       "</table>\n",
       "</div>"
      ],
      "text/plain": [
       "     lexeme     inf  pi3S  ppMS\n",
       "0  absoudre  absudr  absu  absu"
      ]
     },
     "execution_count": 34,
     "metadata": {},
     "output_type": "execute_result"
    }
   ],
   "source": [
    "verbesManquants=bases[bases[\"lexeme\"].isin(basesManquantes)]\n",
    "verbesPresents=bases[bases[\"lexeme\"].isin(basePresentes)]\n",
    "verbesPresents[verbesPresents[\"lexeme\"]==\"absoudre\"]"
   ]
  },
  {
   "cell_type": "code",
   "execution_count": 35,
   "metadata": {
    "collapsed": false
   },
   "outputs": [
    {
     "name": "stdout",
     "output_type": "stream",
     "text": [
      "      lexeme  case     phono\n",
      "153  saillir   inf     sajir\n",
      "348  saillir  pi3S  saj,saji\n",
      "543  saillir  ppMS      saji\n"
     ]
    }
   ],
   "source": [
    "basesLex=pd.melt(bases, id_vars=['lexeme'], var_name='case',value_name=\"phono\").dropna()\n",
    "print basesLex[basesLex[\"lexeme\"]==\"saillir\"]\n",
    "verbesLex=pd.melt(verbes, id_vars=['lexeme'], var_name='case',value_name=\"phono\").dropna()\n",
    "#verbesLex[verbesLex[\"lexeme\"]==\"asseoir\"]\n",
    "verbesLex=verbesLex.append(basesLex,ignore_index=True)\n",
    "verbesLex=verbesLex.drop_duplicates()"
   ]
  },
  {
   "cell_type": "code",
   "execution_count": 36,
   "metadata": {
    "collapsed": false,
    "scrolled": true
   },
   "outputs": [],
   "source": [
    "paradigmes=pd.pivot_table(verbesLex, values='phono', index=['lexeme'], columns=['case'], aggfunc=lambda x: \",\".join(x)).reset_index().reindex()"
   ]
  },
  {
   "cell_type": "code",
   "execution_count": 37,
   "metadata": {
    "collapsed": false
   },
   "outputs": [
    {
     "data": {
      "text/html": [
       "<div>\n",
       "<table border=\"1\" class=\"dataframe\">\n",
       "  <thead>\n",
       "    <tr style=\"text-align: right;\">\n",
       "      <th>case</th>\n",
       "      <th>lexeme</th>\n",
       "      <th>ai1P</th>\n",
       "      <th>ai1S</th>\n",
       "      <th>ai2P</th>\n",
       "      <th>ai2S</th>\n",
       "      <th>ai3P</th>\n",
       "      <th>ai3S</th>\n",
       "      <th>fi1P</th>\n",
       "      <th>fi1S</th>\n",
       "      <th>fi2P</th>\n",
       "      <th>...</th>\n",
       "      <th>ppFP</th>\n",
       "      <th>ppFS</th>\n",
       "      <th>ppMP</th>\n",
       "      <th>ppMS</th>\n",
       "      <th>ps1P</th>\n",
       "      <th>ps1S</th>\n",
       "      <th>ps2P</th>\n",
       "      <th>ps2S</th>\n",
       "      <th>ps3P</th>\n",
       "      <th>ps3S</th>\n",
       "    </tr>\n",
       "  </thead>\n",
       "  <tbody>\n",
       "    <tr>\n",
       "      <th>31</th>\n",
       "      <td>accalmir</td>\n",
       "      <td>NaN</td>\n",
       "      <td>NaN</td>\n",
       "      <td>NaN</td>\n",
       "      <td>NaN</td>\n",
       "      <td>NaN</td>\n",
       "      <td>NaN</td>\n",
       "      <td>NaN</td>\n",
       "      <td>NaN</td>\n",
       "      <td>NaN</td>\n",
       "      <td>...</td>\n",
       "      <td>NaN</td>\n",
       "      <td>NaN</td>\n",
       "      <td>NaN</td>\n",
       "      <td>akalmi</td>\n",
       "      <td>NaN</td>\n",
       "      <td>NaN</td>\n",
       "      <td>NaN</td>\n",
       "      <td>NaN</td>\n",
       "      <td>NaN</td>\n",
       "      <td>NaN</td>\n",
       "    </tr>\n",
       "  </tbody>\n",
       "</table>\n",
       "<p>1 rows × 52 columns</p>\n",
       "</div>"
      ],
      "text/plain": [
       "case    lexeme ai1P ai1S ai2P ai2S ai3P ai3S fi1P fi1S fi2P ...  ppFP ppFS  \\\n",
       "31    accalmir  NaN  NaN  NaN  NaN  NaN  NaN  NaN  NaN  NaN ...   NaN  NaN   \n",
       "\n",
       "case ppMP    ppMS ps1P ps1S ps2P ps2S ps3P ps3S  \n",
       "31    NaN  akalmi  NaN  NaN  NaN  NaN  NaN  NaN  \n",
       "\n",
       "[1 rows x 52 columns]"
      ]
     },
     "execution_count": 37,
     "metadata": {},
     "output_type": "execute_result"
    }
   ],
   "source": [
    "paradigmes[paradigmes[\"lexeme\"]==\"accalmir\"]"
   ]
  },
  {
   "cell_type": "code",
   "execution_count": 38,
   "metadata": {
    "collapsed": false,
    "scrolled": true
   },
   "outputs": [],
   "source": [
    "#paradigmes=paradigmes.append(verbesManquants, ignore_index=True)\n",
    "#paradigmes"
   ]
  },
  {
   "cell_type": "code",
   "execution_count": 39,
   "metadata": {
    "collapsed": false
   },
   "outputs": [],
   "source": [
    "paradigmes.to_csv(nomSortie,sep=\";\",encoding=\"utf8\")"
   ]
  },
  {
   "cell_type": "code",
   "execution_count": null,
   "metadata": {
    "collapsed": true
   },
   "outputs": [],
   "source": []
  }
 ],
 "metadata": {
  "kernelspec": {
   "display_name": "Python 2",
   "language": "python",
   "name": "python2"
  },
  "language_info": {
   "codemirror_mode": {
    "name": "ipython",
    "version": 2
   },
   "file_extension": ".py",
   "mimetype": "text/x-python",
   "name": "python",
   "nbconvert_exporter": "python",
   "pygments_lexer": "ipython2",
   "version": "2.7.11"
  }
 },
 "nbformat": 4,
 "nbformat_minor": 0
}
