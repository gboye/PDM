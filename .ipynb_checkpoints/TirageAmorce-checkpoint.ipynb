{
 "metadata": {
  "name": "",
  "signature": "sha256:29f986a9f9f698eaa8209f356d9c873849c18c6271ac02a4d82fcecbd2083e5a"
 },
 "nbformat": 3,
 "nbformat_minor": 0,
 "worksheets": [
  {
   "cells": [
    {
     "cell_type": "markdown",
     "metadata": {},
     "source": [
      "##Importations\n",
      "- codecs pour les encodages\n",
      "- pandas et numpy pour les calculs sur tableaux\n",
      "- matplotlib pour les graphiques\n",
      "- itertools pour les it\u00e9rateurs sophistiqu\u00e9s (paires sur liste, ...)"
     ]
    },
    {
     "cell_type": "code",
     "collapsed": false,
     "input": [
      "# -*- coding: utf8 -*-\n",
      "import codecs\n",
      "import features\n",
      "import re\n",
      "import pandas as pd\n",
      "import numpy as np\n",
      "import matplotlib.pyplot as plt\n",
      "import itertools as it\n",
      "#%pylab inline\n",
      "#pd.options.display.mpl_style = 'default'\n",
      "debug=False"
     ],
     "language": "python",
     "metadata": {},
     "outputs": [],
     "prompt_number": 1
    },
    {
     "cell_type": "markdown",
     "metadata": {},
     "source": [
      "###Pr\u00e9paration des matrices de traits"
     ]
    },
    {
     "cell_type": "code",
     "collapsed": false,
     "input": [
      "features.add_config('bdlexique.ini')\n",
      "fs=features.FeatureSystem('phonemes')\n",
      "#fs.supremum.concept.extent"
     ],
     "language": "python",
     "metadata": {},
     "outputs": [],
     "prompt_number": 2
    },
    {
     "cell_type": "code",
     "collapsed": false,
     "input": [
      "bdlexiqueIn = unicode(u\"\u00e8\u00f2\")\n",
      "bdlexiqueNum = [ord(char) for char in bdlexiqueIn]\n",
      "neutreOut = unicode(u\"EO\")\n",
      "neutralise = dict(zip(bdlexiqueNum, neutreOut))"
     ],
     "language": "python",
     "metadata": {},
     "outputs": [],
     "prompt_number": 3
    },
    {
     "cell_type": "code",
     "collapsed": false,
     "input": [
      "def recoder(chaine,table=neutralise):\n",
      "    if type(chaine)==str:\n",
      "        temp=unicode(chaine.decode('utf8')).translate(table)\n",
      "        result=temp.encode('utf8')\n",
      "    elif type(chaine)==unicode:\n",
      "        result=chaine.translate(table)\n",
      "    return result"
     ],
     "language": "python",
     "metadata": {},
     "outputs": [],
     "prompt_number": 4
    },
    {
     "cell_type": "markdown",
     "metadata": {},
     "source": [
      "#Pr\u00e9paration du tableau de VERBES"
     ]
    },
    {
     "cell_type": "markdown",
     "metadata": {},
     "source": [
      "###Lecture du lexique"
     ]
    },
    {
     "cell_type": "code",
     "collapsed": false,
     "input": [
      "nomLexique=\"/Users/gilles/Copy/Python/phonemisation/bdlexique-PDM.txt\"\n",
      "bdlexique=pd.read_csv(nomLexique,sep=\";\",names=[\"ortho\",\"phono\",\"ext\",\"cs\",\"ms\",\"vs\",\"lexeme\",\"L23\",\"lemmeFrantext\",\"lemmeFilms\",\"formeFrantext\",\"formeFilms\"],encoding=\"utf8\")"
     ],
     "language": "python",
     "metadata": {},
     "outputs": [],
     "prompt_number": 5
    },
    {
     "cell_type": "markdown",
     "metadata": {},
     "source": [
      "###D\u00e9finition des cases\n",
      "- principales pour le paradigme courant\n",
      "- secondaires pour les cases rares\n",
      "- totales pour le tout"
     ]
    },
    {
     "cell_type": "code",
     "collapsed": false,
     "input": [
      "casesPrincipales= [\n",
      "        'inf', 'pi1S', 'pi2S', 'pi3S', 'pi1P', 'pi2P', 'pi3P', 'ii1S',\n",
      "        'ii2S', 'ii3S', 'ii1P', 'ii2P', 'ii3P', \n",
      "        'fi1S', 'fi2S', 'fi3S', 'fi1P', 'fi2P',\n",
      "        'fi3P', 'pI2S', 'pI1P', 'pI2P', 'ps1S', 'ps2S', 'ps3S', 'ps1P',\n",
      "        'ps2P', 'ps3P', \n",
      "        'pc1S', 'pc2S', 'pc3S', 'pc1P', 'pc2P', 'pc3P', 'pP'\n",
      "            ]\n",
      "casesSecondaires= [\n",
      "       'ai1S', 'ai2S', 'ai3S', 'ai1P', 'ai2P', 'ai3P', 'is1S', 'is2S', 'is3S', 'is1P', 'is2P', 'is3P'\n",
      "            ]\n",
      "casesTotales=casesPrincipales+casesSecondaires"
     ],
     "language": "python",
     "metadata": {},
     "outputs": [],
     "prompt_number": 6
    },
    {
     "cell_type": "markdown",
     "metadata": {},
     "source": [
      "###Cr\u00e9ation de la colonne de fr\u00e9quence *freq*\n",
      "- fr\u00e9quence positive : 10.f\n",
      "- fr\u00e9quence nulle : 5\n",
      "- fr\u00e9quence inexistante : 1"
     ]
    },
    {
     "cell_type": "code",
     "collapsed": false,
     "input": [
      "bdlexique[\"freq\"]=bdlexique[bdlexique[\"formeFrantext\"]!=\"***\"][\"formeFrantext\"].astype(float)*10\n",
      "bdlexique.loc[bdlexique[\"formeFrantext\"]==\"0\",\"freq\"]=5\n",
      "bdlexique.loc[bdlexique[\"formeFrantext\"]==\"***\",\"freq\"]=1"
     ],
     "language": "python",
     "metadata": {},
     "outputs": [],
     "prompt_number": 7
    },
    {
     "cell_type": "markdown",
     "metadata": {},
     "source": [
      "###Elimination des colonnes inutiles\n",
      "- indicateur L23\n",
      "- fr\u00e9quences brutes"
     ]
    },
    {
     "cell_type": "code",
     "collapsed": false,
     "input": [
      "inutilesColonnes=[\"L23\",\"lemmeFrantext\",\"lemmeFilms\",\"formeFrantext\",\"formeFilms\"]\n",
      "for colonne in inutilesColonnes:\n",
      "    del bdlexique[colonne]"
     ],
     "language": "python",
     "metadata": {},
     "outputs": [],
     "prompt_number": 8
    },
    {
     "cell_type": "markdown",
     "metadata": {},
     "source": [
      "###Extraction des formes verbales dans une structure *verbes*"
     ]
    },
    {
     "cell_type": "code",
     "collapsed": false,
     "input": [
      "verbes=bdlexique[bdlexique[\"cs\"]==\"V\"].copy()"
     ],
     "language": "python",
     "metadata": {},
     "outputs": [],
     "prompt_number": 9
    },
    {
     "cell_type": "code",
     "collapsed": false,
     "input": [
      "verbes[\"phono\"]=verbes[\"phono\"].apply(lambda x: recoder(x))"
     ],
     "language": "python",
     "metadata": {},
     "outputs": [],
     "prompt_number": 10
    },
    {
     "cell_type": "code",
     "collapsed": false,
     "input": [
      "#verbes[\"phono\"]\n",
      "print recoder(u\"tOt\u00f2t\u00e8tE\")"
     ],
     "language": "python",
     "metadata": {},
     "outputs": [
      {
       "output_type": "stream",
       "stream": "stdout",
       "text": [
        "tOtOtEtE\n"
       ]
      }
     ],
     "prompt_number": 11
    },
    {
     "cell_type": "markdown",
     "metadata": {},
     "source": [
      "###Ajout d'une colonne *prob* pour la fr\u00e9quence relative"
     ]
    },
    {
     "cell_type": "code",
     "collapsed": false,
     "input": [
      "verbes[\"prob\"]=verbes[\"freq\"]/verbes[\"freq\"].sum()"
     ],
     "language": "python",
     "metadata": {},
     "outputs": [],
     "prompt_number": 12
    },
    {
     "cell_type": "markdown",
     "metadata": {},
     "source": [
      "###Ajout d'une colonne *case*\n",
      "- remplir les *ms* vide pour permettre la concat\u00e9nation sans erreur\n",
      "- *case* est la concat\u00e9nation de *vs* et *ms*"
     ]
    },
    {
     "cell_type": "code",
     "collapsed": false,
     "input": [
      "verbes[\"ms\"]=verbes[\"ms\"].fillna(\"\")\n",
      "verbes[\"case\"]=verbes[\"vs\"]+verbes[\"ms\"]"
     ],
     "language": "python",
     "metadata": {},
     "outputs": [],
     "prompt_number": 13
    },
    {
     "cell_type": "markdown",
     "metadata": {},
     "source": [
      "#Echantillonage"
     ]
    },
    {
     "cell_type": "markdown",
     "metadata": {},
     "source": [
      "##Tirage incr\u00e9mental des formes disponibles\n",
      "- increment : taille de chaque tirage\n",
      "- nombre : nombre de tirages\n",
      "\n",
      "np.random.choice donne une liste d'index de formes tir\u00e9es dans l'ordre du tirage\n",
      "\n",
      "on d\u00e9coupe la liste en morceaux de la taille de l'incr\u00e9ment"
     ]
    },
    {
     "cell_type": "code",
     "collapsed": false,
     "input": [
      "nombre=200\n",
      "increment=250\n",
      "tirage=np.random.choice(verbes.index,size=nombre*increment,p=verbes[\"prob\"],replace=False)\n",
      "tirages=[tirage[increment*x:increment*(x+1)] for x in range(len(tirage)/increment+(len(tirage)%increment!=0))]"
     ],
     "language": "python",
     "metadata": {},
     "outputs": [],
     "prompt_number": 39
    },
    {
     "cell_type": "markdown",
     "metadata": {},
     "source": [
      "##Boucle sur les \u00e9chantillons successifs\n",
      "- extrait contient les index des formes du lot\n",
      "- paradigmes contient la table des formes du lot"
     ]
    },
    {
     "cell_type": "code",
     "collapsed": false,
     "input": [
      "'''\n",
      "lot=[]\n",
      "tailles={}\n",
      "for n in range(4):\n",
      "    lot.extend(tirages[n])\n",
      "    extrait=verbes.ix[np.sort(lot)]\n",
      "    paradigmes=pd.pivot_table(extrait, values='phono', index=['lexeme'], columns=['case'], aggfunc=lambda x: x)\n",
      "    if n%25==0:\n",
      "        tailles[n]=paradigmes.count()\n",
      "'''"
     ],
     "language": "python",
     "metadata": {},
     "outputs": [
      {
       "metadata": {},
       "output_type": "pyout",
       "prompt_number": 15,
       "text": [
        "\"\\nlot=[]\\ntailles={}\\nfor n in range(4):\\n    lot.extend(tirages[n])\\n    extrait=verbes.ix[np.sort(lot)]\\n    paradigmes=pd.pivot_table(extrait, values='phono', index=['lexeme'], columns=['case'], aggfunc=lambda x: x)\\n    if n%25==0:\\n        tailles[n]=paradigmes.count()\\n\""
       ]
      }
     ],
     "prompt_number": 15
    },
    {
     "cell_type": "markdown",
     "metadata": {},
     "source": [
      "##Assembler les \u00e9chantillons correspondant \u00e0 une \u00e9tape n"
     ]
    },
    {
     "cell_type": "code",
     "collapsed": false,
     "input": [
      "def assemblerExtrait(nombre):\n",
      "    return verbes.ix[np.sort(np.concatenate(tirages[0:nombre]))]"
     ],
     "language": "python",
     "metadata": {},
     "outputs": [],
     "prompt_number": 16
    },
    {
     "cell_type": "code",
     "collapsed": false,
     "input": [
      "extrait=assemblerExtrait(120)\n",
      "paradigmes=pd.pivot_table(extrait, values='phono', index=['lexeme'], columns=['case'], aggfunc=lambda x: \",\".join(x)).reset_index().reindex()"
     ],
     "language": "python",
     "metadata": {},
     "outputs": [],
     "prompt_number": 47
    },
    {
     "cell_type": "code",
     "collapsed": false,
     "input": [
      "def diff(mot1,mot2):\n",
      "    result=[]\n",
      "    diff1=\"\"\n",
      "    diff2=\"\"\n",
      "    same=\"\"\n",
      "    vide=\".\"\n",
      "    lmax=max(len(mot1),len(mot2))\n",
      "    lmin=min(len(mot1),len(mot2))\n",
      "    for index in range(lmax):\n",
      "        if index < lmin:\n",
      "            if mot1[index]!=mot2[index]:\n",
      "                diff1+=mot1[index]\n",
      "                diff2+=mot2[index]\n",
      "                same+=vide\n",
      "            else:\n",
      "                same+=mot1[index]\n",
      "                diff1+=vide\n",
      "                diff2+=vide\n",
      "        elif index < len(mot1):\n",
      "            diff1+=mot1[index]\n",
      "        elif index < len(mot2):\n",
      "            diff2+=mot2[index]\n",
      "    diff1=diff1.lstrip(\".\")\n",
      "    diff2=diff2.lstrip(\".\")\n",
      "#    return (same,diff1,diff2,diff1+\"_\"+diff2)\n",
      "    return (diff1+\"-\"+diff2)\n",
      "\n",
      "def rowDiff(row, patrons):\n",
      "    result=diff(row[0],row[1])\n",
      "    if not result in patrons:\n",
      "        patrons[result]=(formesPatron(),formesPatron())\n",
      "    patrons[result][0].ajouterFormes(row[0])\n",
      "    patrons[result][1].ajouterFormes(row[1])\n",
      "    return (result[0],result[1])\n"
     ],
     "language": "python",
     "metadata": {},
     "outputs": [],
     "prompt_number": 48
    },
    {
     "cell_type": "code",
     "collapsed": false,
     "input": [
      "class formesPatron:\n",
      "    '''\n",
      "    Accumulateur de formes correspondant \u00e0 un patron pour calcul de la G\u00e9n\u00e9ralisation Minimale (cf. MGL)\n",
      "    '''\n",
      "    def __init__(self):\n",
      "        self.formes=[]\n",
      "\n",
      "#    def __repr__(self):\n",
      "#        return ','.join(self.calculerGM())\n",
      "        \n",
      "    def ajouterForme(self,forme):\n",
      "        self.formes.append(forme)\n",
      "        \n",
      "    def calculerGM(self):\n",
      "        minLongueur=len(min(self.formes, key=len))\n",
      "        maxLongueur=len(max(self.formes, key=len))\n",
      "        if debug: print minLongueur, maxLongueur\n",
      "        positions=[]\n",
      "        if maxLongueur>minLongueur:\n",
      "            positions.append(\"*\")\n",
      "        for i in xrange(minLongueur, 0, -1):\n",
      "            phonemes=set([x[-i] for x in self.formes])\n",
      "            if debug: print phonemes\n",
      "            if \".\" in phonemes:\n",
      "                positions.append(\".\")\n",
      "            else:\n",
      "                positions.append(\"\".join(fs.lattice[phonemes].extent))\n",
      "        return positions\n",
      "\n",
      "class pairePatrons:\n",
      "    '''\n",
      "    Accumulateur de triplets (f1,f2,patron) correspondant \u00e0 une paire pour calcul des G\u00e9n\u00e9ralisations Minimales (cf. MGL)\n",
      "    '''\n",
      "    def __init__(self,nom=\"\"):\n",
      "        self.patrons1={}\n",
      "        self.patrons2={}\n",
      "        self.nom=nom\n",
      "\n",
      "#    def __repr__(self):\n",
      "#        return ','.join(self.calculerGM())\n",
      "        \n",
      "    def ajouterFormes(self,forme1,forme2,patron):\n",
      "        patron12=patron\n",
      "        (pat1,pat2)=patron.split(\"-\")\n",
      "        patron21=pat2+\"-\"+pat1\n",
      "        if not patron12 in self.patrons1:\n",
      "            self.patrons1[patron12]=formesPatron()\n",
      "        self.patrons1[patron12].ajouterForme(forme1)\n",
      "        if not patron21 in self.patrons2:\n",
      "            self.patrons2[patron21]=formesPatron()\n",
      "        self.patrons2[patron21].ajouterForme(forme2)\n",
      "        \n",
      "        \n",
      "    def calculerGM(self):\n",
      "        resultat1={}\n",
      "        for patron in self.patrons1:\n",
      "            if debug: print \"patron1\", patron\n",
      "            resultat1[patron]=self.patrons1[patron].calculerGM()\n",
      "        resultat2={}\n",
      "        for patron in self.patrons2:\n",
      "            if debug: print \"patron2\", patron\n",
      "            resultat2[patron]=self.patrons2[patron].calculerGM()\n",
      "        return (resultat1,resultat2) "
     ],
     "language": "python",
     "metadata": {},
     "outputs": [],
     "prompt_number": 49
    },
    {
     "cell_type": "markdown",
     "metadata": {},
     "source": [
      "##Appliquer la formule de calcul des diff\u00e9rences entre chaines \u00e0 chaque ligne\n",
      "\n",
      ">si il y a au moins une ligne\n",
      "\n",
      ">>on applique la diff\u00e9rence \u00e0 la ligne\n",
      "\n",
      ">>on calcule les deux patrons par suppression des points initiaux\n",
      "\n",
      ">>on renvoie le groupement par patrons (1&2)\n",
      "\n",
      ">sinon\n",
      "\n",
      ">>on renvoie le paradigme vide d'origine"
     ]
    },
    {
     "cell_type": "code",
     "collapsed": false,
     "input": [
      "def rapports(paradigme):\n",
      "#    global debug\n",
      "#    if debug: print \"paradigme\", paradigme.columns.values, len(paradigme)\n",
      "    patrons=pairePatrons()\n",
      "    if len(paradigme)>0:\n",
      "        for index, row in paradigme.iterrows():\n",
      "            patrons.ajouterFormes(row[0],row[1],diff(row[0],row[1]))\n",
      "#    if \"fi1S\" in paradigme.columns.values:\n",
      "#        debug=True\n",
      "#    else:\n",
      "#        debug=False\n",
      "    return patrons.calculerGM()"
     ],
     "language": "python",
     "metadata": {},
     "outputs": [],
     "prompt_number": 50
    },
    {
     "cell_type": "markdown",
     "metadata": {},
     "source": [
      "###D\u00e9doubler les lignes avec des surabondances dans *colonne*\n",
      ">identifier une ligne avec surabondance\n",
      "\n",
      ">>ajouter les lignes correspondant \u00e0 chaque valeur\n",
      "\n",
      ">>ajouter le num\u00e9ro de la ligne initiale dans les lignes \u00e0 supprimer\n",
      "\n",
      ">supprimer les lignes avec surabondance\n",
      "\n",
      "NB : il faut pr\u00e9parer le tableau pour avoir une indexation qui permette l'ajout des valeurs individuelles et la suppression des lignes de surabondances"
     ]
    },
    {
     "cell_type": "code",
     "collapsed": false,
     "input": [
      "def splitCellMates(df,colonne):\n",
      "    '''\n",
      "    Calcul d'une dataframe sans surabondance par d\u00e9doublement des valeurs\n",
      "    '''\n",
      "    test=df.reset_index()\n",
      "    del test[\"index\"]\n",
      "    splitIndexes=[]\n",
      "    for index,ligne in test.iterrows():\n",
      "        if \",\" in ligne[colonne]:\n",
      "            valeurs=set(ligne[colonne].split(\",\"))\n",
      "            nouvelleLigne=ligne\n",
      "            for valeur in valeurs:\n",
      "                nouvelleLigne[colonne]=valeur\n",
      "                test=test.append(nouvelleLigne,ignore_index=True)\n",
      "            splitIndexes.append(index)\n",
      "    if splitIndexes:\n",
      "        test=test.drop(test.index[splitIndexes])\n",
      "    return test\n"
     ],
     "language": "python",
     "metadata": {},
     "outputs": [],
     "prompt_number": 51
    },
    {
     "cell_type": "markdown",
     "metadata": {},
     "source": [
      "##Calculer les rapports entre formes pour chaque paire\n",
      "\n",
      ">on fait la liste des cases de *paradigmes*\n",
      "\n",
      ">pour chaque paire du tableau principal\n",
      "\n",
      ">>si la paire fait partie des cases de *paradigmes*\n",
      "\n",
      ">>>on calcule le rapport\n",
      "\n",
      ">>sinon\n",
      "\n",
      ">>>on signale que qu'une des cases n'est pas repr\u00e9sent\u00e9e"
     ]
    },
    {
     "cell_type": "code",
     "collapsed": false,
     "input": [
      "def evaluerEchantillon(paradigmes):\n",
      "    result={}\n",
      "    colonnes=paradigmes.columns.values.tolist()\n",
      "    for paire in it.combinations(casesPrincipales,2):\n",
      "        paireListe=list(paire)\n",
      "        print paireListe,\n",
      "        paireListe.append(\"lexeme\")\n",
      "        if paire[0] in colonnes and paire[1] in colonnes:\n",
      "            paradigmePaire=paradigmes[paireListe].dropna(thresh=3, axis=0).reindex()\n",
      "            paradigmePaire=splitCellMates(splitCellMates(paradigmePaire,paire[0]),paire[1])\n",
      "            result[paire]=rapports(paradigmePaire)\n",
      "        else:\n",
      "            result[paire]=(\"missing pair\", paire)\n",
      "    return result"
     ],
     "language": "python",
     "metadata": {},
     "outputs": [],
     "prompt_number": 52
    },
    {
     "cell_type": "markdown",
     "metadata": {},
     "source": [
      "###Boucle de calcul des analogies pour l'\u00e9chantillon"
     ]
    },
    {
     "cell_type": "code",
     "collapsed": false,
     "input": [
      "%%time\n",
      "debug=False\n",
      "resultats=evaluerEchantillon(paradigmes)"
     ],
     "language": "python",
     "metadata": {},
     "outputs": [
      {
       "output_type": "stream",
       "stream": "stdout",
       "text": [
        "['inf', 'pi1S'] "
       ]
      },
      {
       "output_type": "stream",
       "stream": "stdout",
       "text": [
        "['inf', 'pi2S'] "
       ]
      },
      {
       "output_type": "stream",
       "stream": "stdout",
       "text": [
        "['inf', 'pi3S'] "
       ]
      },
      {
       "output_type": "stream",
       "stream": "stdout",
       "text": [
        "['inf', 'pi1P'] "
       ]
      },
      {
       "output_type": "stream",
       "stream": "stdout",
       "text": [
        "['inf', 'pi2P'] "
       ]
      },
      {
       "output_type": "stream",
       "stream": "stdout",
       "text": [
        "['inf', 'pi3P'] "
       ]
      },
      {
       "output_type": "stream",
       "stream": "stdout",
       "text": [
        "['inf', 'ii1S'] "
       ]
      },
      {
       "output_type": "stream",
       "stream": "stdout",
       "text": [
        "['inf', 'ii2S'] "
       ]
      },
      {
       "output_type": "stream",
       "stream": "stdout",
       "text": [
        "['inf', 'ii3S'] "
       ]
      },
      {
       "output_type": "stream",
       "stream": "stdout",
       "text": [
        "['inf', 'ii1P'] ['inf', 'ii2P'] "
       ]
      },
      {
       "output_type": "stream",
       "stream": "stdout",
       "text": [
        "['inf', 'ii3P'] "
       ]
      },
      {
       "output_type": "stream",
       "stream": "stdout",
       "text": [
        "['inf', 'fi1S'] "
       ]
      },
      {
       "output_type": "stream",
       "stream": "stdout",
       "text": [
        "['inf', 'fi2S'] "
       ]
      },
      {
       "output_type": "stream",
       "stream": "stdout",
       "text": [
        "['inf', 'fi3S'] "
       ]
      },
      {
       "output_type": "stream",
       "stream": "stdout",
       "text": [
        "['inf', 'fi1P'] "
       ]
      },
      {
       "output_type": "stream",
       "stream": "stdout",
       "text": [
        "['inf', 'fi2P'] "
       ]
      },
      {
       "output_type": "stream",
       "stream": "stdout",
       "text": [
        "['inf', 'fi3P'] "
       ]
      },
      {
       "output_type": "stream",
       "stream": "stdout",
       "text": [
        "['inf', 'pI2S'] "
       ]
      },
      {
       "output_type": "stream",
       "stream": "stdout",
       "text": [
        "['inf', 'pI1P'] "
       ]
      },
      {
       "output_type": "stream",
       "stream": "stdout",
       "text": [
        "['inf', 'pI2P'] "
       ]
      },
      {
       "output_type": "stream",
       "stream": "stdout",
       "text": [
        "['inf', 'ps1S'] "
       ]
      },
      {
       "output_type": "stream",
       "stream": "stdout",
       "text": [
        "['inf', 'ps2S'] "
       ]
      },
      {
       "output_type": "stream",
       "stream": "stdout",
       "text": [
        "['inf', 'ps3S'] "
       ]
      },
      {
       "output_type": "stream",
       "stream": "stdout",
       "text": [
        "['inf', 'ps1P'] ['inf', 'ps2P'] "
       ]
      },
      {
       "output_type": "stream",
       "stream": "stdout",
       "text": [
        "['inf', 'ps3P'] "
       ]
      },
      {
       "output_type": "stream",
       "stream": "stdout",
       "text": [
        "['inf', 'pc1S'] "
       ]
      },
      {
       "output_type": "stream",
       "stream": "stdout",
       "text": [
        "['inf', 'pc2S'] "
       ]
      },
      {
       "output_type": "stream",
       "stream": "stdout",
       "text": [
        "['inf', 'pc3S'] "
       ]
      },
      {
       "output_type": "stream",
       "stream": "stdout",
       "text": [
        "['inf', 'pc1P'] ['inf', 'pc2P'] ['inf', 'pc3P'] "
       ]
      },
      {
       "output_type": "stream",
       "stream": "stdout",
       "text": [
        "['inf', 'pP'] "
       ]
      },
      {
       "output_type": "stream",
       "stream": "stdout",
       "text": [
        "['pi1S', 'pi2S'] "
       ]
      },
      {
       "output_type": "stream",
       "stream": "stdout",
       "text": [
        "['pi1S', 'pi3S'] "
       ]
      },
      {
       "output_type": "stream",
       "stream": "stdout",
       "text": [
        "['pi1S', 'pi1P'] "
       ]
      },
      {
       "output_type": "stream",
       "stream": "stdout",
       "text": [
        "['pi1S', 'pi2P'] "
       ]
      },
      {
       "output_type": "stream",
       "stream": "stdout",
       "text": [
        "['pi1S', 'pi3P'] "
       ]
      },
      {
       "output_type": "stream",
       "stream": "stdout",
       "text": [
        "['pi1S', 'ii1S'] "
       ]
      },
      {
       "output_type": "stream",
       "stream": "stdout",
       "text": [
        "['pi1S', 'ii2S'] "
       ]
      },
      {
       "output_type": "stream",
       "stream": "stdout",
       "text": [
        "['pi1S', 'ii3S'] "
       ]
      },
      {
       "output_type": "stream",
       "stream": "stdout",
       "text": [
        "['pi1S', 'ii1P'] ['pi1S', 'ii2P'] "
       ]
      },
      {
       "output_type": "stream",
       "stream": "stdout",
       "text": [
        "['pi1S', 'ii3P'] "
       ]
      },
      {
       "output_type": "stream",
       "stream": "stdout",
       "text": [
        "['pi1S', 'fi1S'] "
       ]
      },
      {
       "output_type": "stream",
       "stream": "stdout",
       "text": [
        "['pi1S', 'fi2S'] "
       ]
      },
      {
       "output_type": "stream",
       "stream": "stdout",
       "text": [
        "['pi1S', 'fi3S'] "
       ]
      },
      {
       "output_type": "stream",
       "stream": "stdout",
       "text": [
        "['pi1S', 'fi1P'] "
       ]
      },
      {
       "output_type": "stream",
       "stream": "stdout",
       "text": [
        "['pi1S', 'fi2P'] "
       ]
      },
      {
       "output_type": "stream",
       "stream": "stdout",
       "text": [
        "['pi1S', 'fi3P'] "
       ]
      },
      {
       "output_type": "stream",
       "stream": "stdout",
       "text": [
        "['pi1S', 'pI2S'] "
       ]
      },
      {
       "output_type": "stream",
       "stream": "stdout",
       "text": [
        "['pi1S', 'pI1P'] "
       ]
      },
      {
       "output_type": "stream",
       "stream": "stdout",
       "text": [
        "['pi1S', 'pI2P'] "
       ]
      },
      {
       "output_type": "stream",
       "stream": "stdout",
       "text": [
        "['pi1S', 'ps1S'] "
       ]
      },
      {
       "output_type": "stream",
       "stream": "stdout",
       "text": [
        "['pi1S', 'ps2S'] "
       ]
      },
      {
       "output_type": "stream",
       "stream": "stdout",
       "text": [
        "['pi1S', 'ps3S'] "
       ]
      },
      {
       "output_type": "stream",
       "stream": "stdout",
       "text": [
        "['pi1S', 'ps1P'] ['pi1S', 'ps2P'] "
       ]
      },
      {
       "output_type": "stream",
       "stream": "stdout",
       "text": [
        "['pi1S', 'ps3P'] "
       ]
      },
      {
       "output_type": "stream",
       "stream": "stdout",
       "text": [
        "['pi1S', 'pc1S'] "
       ]
      },
      {
       "output_type": "stream",
       "stream": "stdout",
       "text": [
        "['pi1S', 'pc2S'] "
       ]
      },
      {
       "output_type": "stream",
       "stream": "stdout",
       "text": [
        "['pi1S', 'pc3S'] "
       ]
      },
      {
       "output_type": "stream",
       "stream": "stdout",
       "text": [
        "['pi1S', 'pc1P'] ['pi1S', 'pc2P'] ['pi1S', 'pc3P'] "
       ]
      },
      {
       "output_type": "stream",
       "stream": "stdout",
       "text": [
        "['pi1S', 'pP'] "
       ]
      },
      {
       "output_type": "stream",
       "stream": "stdout",
       "text": [
        "['pi2S', 'pi3S'] "
       ]
      },
      {
       "output_type": "stream",
       "stream": "stdout",
       "text": [
        "['pi2S', 'pi1P'] "
       ]
      },
      {
       "output_type": "stream",
       "stream": "stdout",
       "text": [
        "['pi2S', 'pi2P'] "
       ]
      },
      {
       "output_type": "stream",
       "stream": "stdout",
       "text": [
        "['pi2S', 'pi3P'] "
       ]
      },
      {
       "output_type": "stream",
       "stream": "stdout",
       "text": [
        "['pi2S', 'ii1S'] "
       ]
      },
      {
       "output_type": "stream",
       "stream": "stdout",
       "text": [
        "['pi2S', 'ii2S'] "
       ]
      },
      {
       "output_type": "stream",
       "stream": "stdout",
       "text": [
        "['pi2S', 'ii3S'] "
       ]
      },
      {
       "output_type": "stream",
       "stream": "stdout",
       "text": [
        "['pi2S', 'ii1P'] ['pi2S', 'ii2P'] "
       ]
      },
      {
       "output_type": "stream",
       "stream": "stdout",
       "text": [
        "['pi2S', 'ii3P'] "
       ]
      },
      {
       "output_type": "stream",
       "stream": "stdout",
       "text": [
        "['pi2S', 'fi1S'] "
       ]
      },
      {
       "output_type": "stream",
       "stream": "stdout",
       "text": [
        "['pi2S', 'fi2S'] "
       ]
      },
      {
       "output_type": "stream",
       "stream": "stdout",
       "text": [
        "['pi2S', 'fi3S'] "
       ]
      },
      {
       "output_type": "stream",
       "stream": "stdout",
       "text": [
        "['pi2S', 'fi1P'] ['pi2S', 'fi2P'] "
       ]
      },
      {
       "output_type": "stream",
       "stream": "stdout",
       "text": [
        "['pi2S', 'fi3P'] "
       ]
      },
      {
       "output_type": "stream",
       "stream": "stdout",
       "text": [
        "['pi2S', 'pI2S'] "
       ]
      },
      {
       "output_type": "stream",
       "stream": "stdout",
       "text": [
        "['pi2S', 'pI1P'] "
       ]
      },
      {
       "output_type": "stream",
       "stream": "stdout",
       "text": [
        "['pi2S', 'pI2P'] "
       ]
      },
      {
       "output_type": "stream",
       "stream": "stdout",
       "text": [
        "['pi2S', 'ps1S'] "
       ]
      },
      {
       "output_type": "stream",
       "stream": "stdout",
       "text": [
        "['pi2S', 'ps2S'] "
       ]
      },
      {
       "output_type": "stream",
       "stream": "stdout",
       "text": [
        "['pi2S', 'ps3S'] "
       ]
      },
      {
       "output_type": "stream",
       "stream": "stdout",
       "text": [
        "['pi2S', 'ps1P'] ['pi2S', 'ps2P'] "
       ]
      },
      {
       "output_type": "stream",
       "stream": "stdout",
       "text": [
        "['pi2S', 'ps3P'] "
       ]
      },
      {
       "output_type": "stream",
       "stream": "stdout",
       "text": [
        "['pi2S', 'pc1S'] "
       ]
      },
      {
       "output_type": "stream",
       "stream": "stdout",
       "text": [
        "['pi2S', 'pc2S'] "
       ]
      },
      {
       "output_type": "stream",
       "stream": "stdout",
       "text": [
        "['pi2S', 'pc3S'] "
       ]
      },
      {
       "output_type": "stream",
       "stream": "stdout",
       "text": [
        "['pi2S', 'pc1P'] ['pi2S', 'pc2P'] ['pi2S', 'pc3P'] "
       ]
      },
      {
       "output_type": "stream",
       "stream": "stdout",
       "text": [
        "['pi2S', 'pP'] "
       ]
      },
      {
       "output_type": "stream",
       "stream": "stdout",
       "text": [
        "['pi3S', 'pi1P'] "
       ]
      },
      {
       "output_type": "stream",
       "stream": "stdout",
       "text": [
        "['pi3S', 'pi2P'] "
       ]
      },
      {
       "output_type": "stream",
       "stream": "stdout",
       "text": [
        "['pi3S', 'pi3P'] "
       ]
      },
      {
       "output_type": "stream",
       "stream": "stdout",
       "text": [
        "['pi3S', 'ii1S'] "
       ]
      },
      {
       "output_type": "stream",
       "stream": "stdout",
       "text": [
        "['pi3S', 'ii2S'] "
       ]
      },
      {
       "output_type": "stream",
       "stream": "stdout",
       "text": [
        "['pi3S', 'ii3S'] "
       ]
      },
      {
       "output_type": "stream",
       "stream": "stdout",
       "text": [
        "['pi3S', 'ii1P'] ['pi3S', 'ii2P'] "
       ]
      },
      {
       "output_type": "stream",
       "stream": "stdout",
       "text": [
        "['pi3S', 'ii3P'] "
       ]
      },
      {
       "output_type": "stream",
       "stream": "stdout",
       "text": [
        "['pi3S', 'fi1S'] "
       ]
      },
      {
       "output_type": "stream",
       "stream": "stdout",
       "text": [
        "['pi3S', 'fi2S'] "
       ]
      },
      {
       "output_type": "stream",
       "stream": "stdout",
       "text": [
        "['pi3S', 'fi3S'] "
       ]
      },
      {
       "output_type": "stream",
       "stream": "stdout",
       "text": [
        "['pi3S', 'fi1P'] "
       ]
      },
      {
       "output_type": "stream",
       "stream": "stdout",
       "text": [
        "['pi3S', 'fi2P'] "
       ]
      },
      {
       "output_type": "stream",
       "stream": "stdout",
       "text": [
        "['pi3S', 'fi3P'] "
       ]
      },
      {
       "output_type": "stream",
       "stream": "stdout",
       "text": [
        "['pi3S', 'pI2S'] "
       ]
      },
      {
       "output_type": "stream",
       "stream": "stdout",
       "text": [
        "['pi3S', 'pI1P'] "
       ]
      },
      {
       "output_type": "stream",
       "stream": "stdout",
       "text": [
        "['pi3S', 'pI2P'] "
       ]
      },
      {
       "output_type": "stream",
       "stream": "stdout",
       "text": [
        "['pi3S', 'ps1S'] "
       ]
      },
      {
       "output_type": "stream",
       "stream": "stdout",
       "text": [
        "['pi3S', 'ps2S'] "
       ]
      },
      {
       "output_type": "stream",
       "stream": "stdout",
       "text": [
        "['pi3S', 'ps3S'] "
       ]
      },
      {
       "output_type": "stream",
       "stream": "stdout",
       "text": [
        "['pi3S', 'ps1P'] ['pi3S', 'ps2P'] "
       ]
      },
      {
       "output_type": "stream",
       "stream": "stdout",
       "text": [
        "['pi3S', 'ps3P'] "
       ]
      },
      {
       "output_type": "stream",
       "stream": "stdout",
       "text": [
        "['pi3S', 'pc1S'] "
       ]
      },
      {
       "output_type": "stream",
       "stream": "stdout",
       "text": [
        "['pi3S', 'pc2S'] "
       ]
      },
      {
       "output_type": "stream",
       "stream": "stdout",
       "text": [
        "['pi3S', 'pc3S'] "
       ]
      },
      {
       "output_type": "stream",
       "stream": "stdout",
       "text": [
        "['pi3S', 'pc1P'] ['pi3S', 'pc2P'] ['pi3S', 'pc3P'] "
       ]
      },
      {
       "output_type": "stream",
       "stream": "stdout",
       "text": [
        "['pi3S', 'pP'] "
       ]
      },
      {
       "output_type": "stream",
       "stream": "stdout",
       "text": [
        "['pi1P', 'pi2P'] "
       ]
      },
      {
       "output_type": "stream",
       "stream": "stdout",
       "text": [
        "['pi1P', 'pi3P'] "
       ]
      },
      {
       "output_type": "stream",
       "stream": "stdout",
       "text": [
        "['pi1P', 'ii1S'] "
       ]
      },
      {
       "output_type": "stream",
       "stream": "stdout",
       "text": [
        "['pi1P', 'ii2S'] "
       ]
      },
      {
       "output_type": "stream",
       "stream": "stdout",
       "text": [
        "['pi1P', 'ii3S'] "
       ]
      },
      {
       "output_type": "stream",
       "stream": "stdout",
       "text": [
        "['pi1P', 'ii1P'] ['pi1P', 'ii2P'] "
       ]
      },
      {
       "output_type": "stream",
       "stream": "stdout",
       "text": [
        "['pi1P', 'ii3P'] "
       ]
      },
      {
       "output_type": "stream",
       "stream": "stdout",
       "text": [
        "['pi1P', 'fi1S'] "
       ]
      },
      {
       "output_type": "stream",
       "stream": "stdout",
       "text": [
        "['pi1P', 'fi2S'] ['pi1P', 'fi3S'] "
       ]
      },
      {
       "output_type": "stream",
       "stream": "stdout",
       "text": [
        "['pi1P', 'fi1P'] ['pi1P', 'fi2P'] "
       ]
      },
      {
       "output_type": "stream",
       "stream": "stdout",
       "text": [
        "['pi1P', 'fi3P'] "
       ]
      },
      {
       "output_type": "stream",
       "stream": "stdout",
       "text": [
        "['pi1P', 'pI2S'] "
       ]
      },
      {
       "output_type": "stream",
       "stream": "stdout",
       "text": [
        "['pi1P', 'pI1P'] "
       ]
      },
      {
       "output_type": "stream",
       "stream": "stdout",
       "text": [
        "['pi1P', 'pI2P'] "
       ]
      },
      {
       "output_type": "stream",
       "stream": "stdout",
       "text": [
        "['pi1P', 'ps1S'] "
       ]
      },
      {
       "output_type": "stream",
       "stream": "stdout",
       "text": [
        "['pi1P', 'ps2S'] "
       ]
      },
      {
       "output_type": "stream",
       "stream": "stdout",
       "text": [
        "['pi1P', 'ps3S'] "
       ]
      },
      {
       "output_type": "stream",
       "stream": "stdout",
       "text": [
        "['pi1P', 'ps1P'] ['pi1P', 'ps2P'] "
       ]
      },
      {
       "output_type": "stream",
       "stream": "stdout",
       "text": [
        "['pi1P', 'ps3P'] "
       ]
      },
      {
       "output_type": "stream",
       "stream": "stdout",
       "text": [
        "['pi1P', 'pc1S'] "
       ]
      },
      {
       "output_type": "stream",
       "stream": "stdout",
       "text": [
        "['pi1P', 'pc2S'] "
       ]
      },
      {
       "output_type": "stream",
       "stream": "stdout",
       "text": [
        "['pi1P', 'pc3S'] "
       ]
      },
      {
       "output_type": "stream",
       "stream": "stdout",
       "text": [
        "['pi1P', 'pc1P'] ['pi1P', 'pc2P'] ['pi1P', 'pc3P'] "
       ]
      },
      {
       "output_type": "stream",
       "stream": "stdout",
       "text": [
        "['pi1P', 'pP'] "
       ]
      },
      {
       "output_type": "stream",
       "stream": "stdout",
       "text": [
        "['pi2P', 'pi3P'] "
       ]
      },
      {
       "output_type": "stream",
       "stream": "stdout",
       "text": [
        "['pi2P', 'ii1S'] "
       ]
      },
      {
       "output_type": "stream",
       "stream": "stdout",
       "text": [
        "['pi2P', 'ii2S'] "
       ]
      },
      {
       "output_type": "stream",
       "stream": "stdout",
       "text": [
        "['pi2P', 'ii3S'] "
       ]
      },
      {
       "output_type": "stream",
       "stream": "stdout",
       "text": [
        "['pi2P', 'ii1P'] ['pi2P', 'ii2P'] "
       ]
      },
      {
       "output_type": "stream",
       "stream": "stdout",
       "text": [
        "['pi2P', 'ii3P'] "
       ]
      },
      {
       "output_type": "stream",
       "stream": "stdout",
       "text": [
        "['pi2P', 'fi1S'] "
       ]
      },
      {
       "output_type": "stream",
       "stream": "stdout",
       "text": [
        "['pi2P', 'fi2S'] "
       ]
      },
      {
       "output_type": "stream",
       "stream": "stdout",
       "text": [
        "['pi2P', 'fi3S'] "
       ]
      },
      {
       "output_type": "stream",
       "stream": "stdout",
       "text": [
        "['pi2P', 'fi1P'] "
       ]
      },
      {
       "output_type": "stream",
       "stream": "stdout",
       "text": [
        "['pi2P', 'fi2P'] "
       ]
      },
      {
       "output_type": "stream",
       "stream": "stdout",
       "text": [
        "['pi2P', 'fi3P'] "
       ]
      },
      {
       "output_type": "stream",
       "stream": "stdout",
       "text": [
        "['pi2P', 'pI2S'] "
       ]
      },
      {
       "output_type": "stream",
       "stream": "stdout",
       "text": [
        "['pi2P', 'pI1P'] "
       ]
      },
      {
       "output_type": "stream",
       "stream": "stdout",
       "text": [
        "['pi2P', 'pI2P'] "
       ]
      },
      {
       "output_type": "stream",
       "stream": "stdout",
       "text": [
        "['pi2P', 'ps1S'] "
       ]
      },
      {
       "output_type": "stream",
       "stream": "stdout",
       "text": [
        "['pi2P', 'ps2S'] "
       ]
      },
      {
       "output_type": "stream",
       "stream": "stdout",
       "text": [
        "['pi2P', 'ps3S'] "
       ]
      },
      {
       "output_type": "stream",
       "stream": "stdout",
       "text": [
        "['pi2P', 'ps1P'] ['pi2P', 'ps2P'] "
       ]
      },
      {
       "output_type": "stream",
       "stream": "stdout",
       "text": [
        "['pi2P', 'ps3P'] "
       ]
      },
      {
       "output_type": "stream",
       "stream": "stdout",
       "text": [
        "['pi2P', 'pc1S'] "
       ]
      },
      {
       "output_type": "stream",
       "stream": "stdout",
       "text": [
        "['pi2P', 'pc2S'] "
       ]
      },
      {
       "output_type": "stream",
       "stream": "stdout",
       "text": [
        "['pi2P', 'pc3S'] "
       ]
      },
      {
       "output_type": "stream",
       "stream": "stdout",
       "text": [
        "['pi2P', 'pc1P'] ['pi2P', 'pc2P'] ['pi2P', 'pc3P'] "
       ]
      },
      {
       "output_type": "stream",
       "stream": "stdout",
       "text": [
        "['pi2P', 'pP'] "
       ]
      },
      {
       "output_type": "stream",
       "stream": "stdout",
       "text": [
        "['pi3P', 'ii1S'] "
       ]
      },
      {
       "output_type": "stream",
       "stream": "stdout",
       "text": [
        "['pi3P', 'ii2S'] "
       ]
      },
      {
       "output_type": "stream",
       "stream": "stdout",
       "text": [
        "['pi3P', 'ii3S'] "
       ]
      },
      {
       "output_type": "stream",
       "stream": "stdout",
       "text": [
        "['pi3P', 'ii1P'] ['pi3P', 'ii2P'] "
       ]
      },
      {
       "output_type": "stream",
       "stream": "stdout",
       "text": [
        "['pi3P', 'ii3P'] "
       ]
      },
      {
       "output_type": "stream",
       "stream": "stdout",
       "text": [
        "['pi3P', 'fi1S'] "
       ]
      },
      {
       "output_type": "stream",
       "stream": "stdout",
       "text": [
        "['pi3P', 'fi2S'] "
       ]
      },
      {
       "output_type": "stream",
       "stream": "stdout",
       "text": [
        "['pi3P', 'fi3S'] "
       ]
      },
      {
       "output_type": "stream",
       "stream": "stdout",
       "text": [
        "['pi3P', 'fi1P'] "
       ]
      },
      {
       "output_type": "stream",
       "stream": "stdout",
       "text": [
        "['pi3P', 'fi2P'] "
       ]
      },
      {
       "output_type": "stream",
       "stream": "stdout",
       "text": [
        "['pi3P', 'fi3P'] "
       ]
      },
      {
       "output_type": "stream",
       "stream": "stdout",
       "text": [
        "['pi3P', 'pI2S'] "
       ]
      },
      {
       "output_type": "stream",
       "stream": "stdout",
       "text": [
        "['pi3P', 'pI1P'] "
       ]
      },
      {
       "output_type": "stream",
       "stream": "stdout",
       "text": [
        "['pi3P', 'pI2P'] "
       ]
      },
      {
       "output_type": "stream",
       "stream": "stdout",
       "text": [
        "['pi3P', 'ps1S'] "
       ]
      },
      {
       "output_type": "stream",
       "stream": "stdout",
       "text": [
        "['pi3P', 'ps2S'] "
       ]
      },
      {
       "output_type": "stream",
       "stream": "stdout",
       "text": [
        "['pi3P', 'ps3S'] "
       ]
      },
      {
       "output_type": "stream",
       "stream": "stdout",
       "text": [
        "['pi3P', 'ps1P'] ['pi3P', 'ps2P'] "
       ]
      },
      {
       "output_type": "stream",
       "stream": "stdout",
       "text": [
        "['pi3P', 'ps3P'] "
       ]
      },
      {
       "output_type": "stream",
       "stream": "stdout",
       "text": [
        "['pi3P', 'pc1S'] "
       ]
      },
      {
       "output_type": "stream",
       "stream": "stdout",
       "text": [
        "['pi3P', 'pc2S'] "
       ]
      },
      {
       "output_type": "stream",
       "stream": "stdout",
       "text": [
        "['pi3P', 'pc3S'] "
       ]
      },
      {
       "output_type": "stream",
       "stream": "stdout",
       "text": [
        "['pi3P', 'pc1P'] ['pi3P', 'pc2P'] ['pi3P', 'pc3P'] "
       ]
      },
      {
       "output_type": "stream",
       "stream": "stdout",
       "text": [
        "['pi3P', 'pP'] "
       ]
      },
      {
       "output_type": "stream",
       "stream": "stdout",
       "text": [
        "['ii1S', 'ii2S'] "
       ]
      },
      {
       "output_type": "stream",
       "stream": "stdout",
       "text": [
        "['ii1S', 'ii3S'] "
       ]
      },
      {
       "output_type": "stream",
       "stream": "stdout",
       "text": [
        "['ii1S', 'ii1P'] ['ii1S', 'ii2P'] "
       ]
      },
      {
       "output_type": "stream",
       "stream": "stdout",
       "text": [
        "['ii1S', 'ii3P'] "
       ]
      },
      {
       "output_type": "stream",
       "stream": "stdout",
       "text": [
        "['ii1S', 'fi1S'] "
       ]
      },
      {
       "output_type": "stream",
       "stream": "stdout",
       "text": [
        "['ii1S', 'fi2S'] ['ii1S', 'fi3S'] "
       ]
      },
      {
       "output_type": "stream",
       "stream": "stdout",
       "text": [
        "['ii1S', 'fi1P'] ['ii1S', 'fi2P'] "
       ]
      },
      {
       "output_type": "stream",
       "stream": "stdout",
       "text": [
        "['ii1S', 'fi3P'] ['ii1S', 'pI2S'] "
       ]
      },
      {
       "output_type": "stream",
       "stream": "stdout",
       "text": [
        "['ii1S', 'pI1P'] "
       ]
      },
      {
       "output_type": "stream",
       "stream": "stdout",
       "text": [
        "['ii1S', 'pI2P'] "
       ]
      },
      {
       "output_type": "stream",
       "stream": "stdout",
       "text": [
        "['ii1S', 'ps1S'] "
       ]
      },
      {
       "output_type": "stream",
       "stream": "stdout",
       "text": [
        "['ii1S', 'ps2S'] "
       ]
      },
      {
       "output_type": "stream",
       "stream": "stdout",
       "text": [
        "['ii1S', 'ps3S'] "
       ]
      },
      {
       "output_type": "stream",
       "stream": "stdout",
       "text": [
        "['ii1S', 'ps1P'] ['ii1S', 'ps2P'] "
       ]
      },
      {
       "output_type": "stream",
       "stream": "stdout",
       "text": [
        "['ii1S', 'ps3P'] "
       ]
      },
      {
       "output_type": "stream",
       "stream": "stdout",
       "text": [
        "['ii1S', 'pc1S'] "
       ]
      },
      {
       "output_type": "stream",
       "stream": "stdout",
       "text": [
        "['ii1S', 'pc2S'] "
       ]
      },
      {
       "output_type": "stream",
       "stream": "stdout",
       "text": [
        "['ii1S', 'pc3S'] "
       ]
      },
      {
       "output_type": "stream",
       "stream": "stdout",
       "text": [
        "['ii1S', 'pc1P'] ['ii1S', 'pc2P'] ['ii1S', 'pc3P'] "
       ]
      },
      {
       "output_type": "stream",
       "stream": "stdout",
       "text": [
        "['ii1S', 'pP'] "
       ]
      },
      {
       "output_type": "stream",
       "stream": "stdout",
       "text": [
        "['ii2S', 'ii3S'] "
       ]
      },
      {
       "output_type": "stream",
       "stream": "stdout",
       "text": [
        "['ii2S', 'ii1P'] ['ii2S', 'ii2P'] "
       ]
      },
      {
       "output_type": "stream",
       "stream": "stdout",
       "text": [
        "['ii2S', 'ii3P'] "
       ]
      },
      {
       "output_type": "stream",
       "stream": "stdout",
       "text": [
        "['ii2S', 'fi1S'] "
       ]
      },
      {
       "output_type": "stream",
       "stream": "stdout",
       "text": [
        "['ii2S', 'fi2S'] ['ii2S', 'fi3S'] "
       ]
      },
      {
       "output_type": "stream",
       "stream": "stdout",
       "text": [
        "['ii2S', 'fi1P'] ['ii2S', 'fi2P'] "
       ]
      },
      {
       "output_type": "stream",
       "stream": "stdout",
       "text": [
        "['ii2S', 'fi3P'] ['ii2S', 'pI2S'] "
       ]
      },
      {
       "output_type": "stream",
       "stream": "stdout",
       "text": [
        "['ii2S', 'pI1P'] "
       ]
      },
      {
       "output_type": "stream",
       "stream": "stdout",
       "text": [
        "['ii2S', 'pI2P'] "
       ]
      },
      {
       "output_type": "stream",
       "stream": "stdout",
       "text": [
        "['ii2S', 'ps1S'] "
       ]
      },
      {
       "output_type": "stream",
       "stream": "stdout",
       "text": [
        "['ii2S', 'ps2S'] "
       ]
      },
      {
       "output_type": "stream",
       "stream": "stdout",
       "text": [
        "['ii2S', 'ps3S'] "
       ]
      },
      {
       "output_type": "stream",
       "stream": "stdout",
       "text": [
        "['ii2S', 'ps1P'] ['ii2S', 'ps2P'] "
       ]
      },
      {
       "output_type": "stream",
       "stream": "stdout",
       "text": [
        "['ii2S', 'ps3P'] "
       ]
      },
      {
       "output_type": "stream",
       "stream": "stdout",
       "text": [
        "['ii2S', 'pc1S'] "
       ]
      },
      {
       "output_type": "stream",
       "stream": "stdout",
       "text": [
        "['ii2S', 'pc2S'] "
       ]
      },
      {
       "output_type": "stream",
       "stream": "stdout",
       "text": [
        "['ii2S', 'pc3S'] "
       ]
      },
      {
       "output_type": "stream",
       "stream": "stdout",
       "text": [
        "['ii2S', 'pc1P'] ['ii2S', 'pc2P'] ['ii2S', 'pc3P'] "
       ]
      },
      {
       "output_type": "stream",
       "stream": "stdout",
       "text": [
        "['ii2S', 'pP'] "
       ]
      },
      {
       "output_type": "stream",
       "stream": "stdout",
       "text": [
        "['ii3S', 'ii1P'] ['ii3S', 'ii2P'] "
       ]
      },
      {
       "output_type": "stream",
       "stream": "stdout",
       "text": [
        "['ii3S', 'ii3P'] "
       ]
      },
      {
       "output_type": "stream",
       "stream": "stdout",
       "text": [
        "['ii3S', 'fi1S'] "
       ]
      },
      {
       "output_type": "stream",
       "stream": "stdout",
       "text": [
        "['ii3S', 'fi2S'] "
       ]
      },
      {
       "output_type": "stream",
       "stream": "stdout",
       "text": [
        "['ii3S', 'fi3S'] "
       ]
      },
      {
       "output_type": "stream",
       "stream": "stdout",
       "text": [
        "['ii3S', 'fi1P'] ['ii3S', 'fi2P'] "
       ]
      },
      {
       "output_type": "stream",
       "stream": "stdout",
       "text": [
        "['ii3S', 'fi3P'] "
       ]
      },
      {
       "output_type": "stream",
       "stream": "stdout",
       "text": [
        "['ii3S', 'pI2S'] "
       ]
      },
      {
       "output_type": "stream",
       "stream": "stdout",
       "text": [
        "['ii3S', 'pI1P'] "
       ]
      },
      {
       "output_type": "stream",
       "stream": "stdout",
       "text": [
        "['ii3S', 'pI2P'] "
       ]
      },
      {
       "output_type": "stream",
       "stream": "stdout",
       "text": [
        "['ii3S', 'ps1S'] "
       ]
      },
      {
       "output_type": "stream",
       "stream": "stdout",
       "text": [
        "['ii3S', 'ps2S'] "
       ]
      },
      {
       "output_type": "stream",
       "stream": "stdout",
       "text": [
        "['ii3S', 'ps3S'] "
       ]
      },
      {
       "output_type": "stream",
       "stream": "stdout",
       "text": [
        "['ii3S', 'ps1P'] ['ii3S', 'ps2P'] "
       ]
      },
      {
       "output_type": "stream",
       "stream": "stdout",
       "text": [
        "['ii3S', 'ps3P'] "
       ]
      },
      {
       "output_type": "stream",
       "stream": "stdout",
       "text": [
        "['ii3S', 'pc1S'] "
       ]
      },
      {
       "output_type": "stream",
       "stream": "stdout",
       "text": [
        "['ii3S', 'pc2S'] "
       ]
      },
      {
       "output_type": "stream",
       "stream": "stdout",
       "text": [
        "['ii3S', 'pc3S'] "
       ]
      },
      {
       "output_type": "stream",
       "stream": "stdout",
       "text": [
        "['ii3S', 'pc1P'] ['ii3S', 'pc2P'] ['ii3S', 'pc3P'] "
       ]
      },
      {
       "output_type": "stream",
       "stream": "stdout",
       "text": [
        "['ii3S', 'pP'] "
       ]
      },
      {
       "output_type": "stream",
       "stream": "stdout",
       "text": [
        "['ii1P', 'ii2P'] ['ii1P', 'ii3P'] ['ii1P', 'fi1S'] "
       ]
      },
      {
       "output_type": "stream",
       "stream": "stdout",
       "text": [
        "['ii1P', 'fi2S'] ['ii1P', 'fi3S'] "
       ]
      },
      {
       "output_type": "stream",
       "stream": "stdout",
       "text": [
        "['ii1P', 'fi1P'] ['ii1P', 'fi2P'] ['ii1P', 'fi3P'] "
       ]
      },
      {
       "output_type": "stream",
       "stream": "stdout",
       "text": [
        "['ii1P', 'pI2S'] ['ii1P', 'pI1P'] "
       ]
      },
      {
       "output_type": "stream",
       "stream": "stdout",
       "text": [
        "['ii1P', 'pI2P'] ['ii1P', 'ps1S'] "
       ]
      },
      {
       "output_type": "stream",
       "stream": "stdout",
       "text": [
        "['ii1P', 'ps2S'] ['ii1P', 'ps3S'] "
       ]
      },
      {
       "output_type": "stream",
       "stream": "stdout",
       "text": [
        "['ii1P', 'ps1P'] ['ii1P', 'ps2P'] "
       ]
      },
      {
       "output_type": "stream",
       "stream": "stdout",
       "text": [
        "['ii1P', 'ps3P'] ['ii1P', 'pc1S'] "
       ]
      },
      {
       "output_type": "stream",
       "stream": "stdout",
       "text": [
        "['ii1P', 'pc2S'] ['ii1P', 'pc3S'] "
       ]
      },
      {
       "output_type": "stream",
       "stream": "stdout",
       "text": [
        "['ii1P', 'pc1P'] ['ii1P', 'pc2P'] ['ii1P', 'pc3P'] ['ii1P', 'pP'] "
       ]
      },
      {
       "output_type": "stream",
       "stream": "stdout",
       "text": [
        "['ii2P', 'ii3P'] ['ii2P', 'fi1S'] "
       ]
      },
      {
       "output_type": "stream",
       "stream": "stdout",
       "text": [
        "['ii2P', 'fi2S'] ['ii2P', 'fi3S'] "
       ]
      },
      {
       "output_type": "stream",
       "stream": "stdout",
       "text": [
        "['ii2P', 'fi1P'] ['ii2P', 'fi2P'] "
       ]
      },
      {
       "output_type": "stream",
       "stream": "stdout",
       "text": [
        "['ii2P', 'fi3P'] ['ii2P', 'pI2S'] "
       ]
      },
      {
       "output_type": "stream",
       "stream": "stdout",
       "text": [
        "['ii2P', 'pI1P'] ['ii2P', 'pI2P'] "
       ]
      },
      {
       "output_type": "stream",
       "stream": "stdout",
       "text": [
        "['ii2P', 'ps1S'] "
       ]
      },
      {
       "output_type": "stream",
       "stream": "stdout",
       "text": [
        "['ii2P', 'ps2S'] "
       ]
      },
      {
       "output_type": "stream",
       "stream": "stdout",
       "text": [
        "['ii2P', 'ps3S'] "
       ]
      },
      {
       "output_type": "stream",
       "stream": "stdout",
       "text": [
        "['ii2P', 'ps1P'] ['ii2P', 'ps2P'] "
       ]
      },
      {
       "output_type": "stream",
       "stream": "stdout",
       "text": [
        "['ii2P', 'ps3P'] "
       ]
      },
      {
       "output_type": "stream",
       "stream": "stdout",
       "text": [
        "['ii2P', 'pc1S'] ['ii2P', 'pc2S'] "
       ]
      },
      {
       "output_type": "stream",
       "stream": "stdout",
       "text": [
        "['ii2P', 'pc3S'] ['ii2P', 'pc1P'] "
       ]
      },
      {
       "output_type": "stream",
       "stream": "stdout",
       "text": [
        "['ii2P', 'pc2P'] ['ii2P', 'pc3P'] ['ii2P', 'pP'] "
       ]
      },
      {
       "output_type": "stream",
       "stream": "stdout",
       "text": [
        "['ii3P', 'fi1S'] "
       ]
      },
      {
       "output_type": "stream",
       "stream": "stdout",
       "text": [
        "['ii3P', 'fi2S'] ['ii3P', 'fi3S'] "
       ]
      },
      {
       "output_type": "stream",
       "stream": "stdout",
       "text": [
        "['ii3P', 'fi1P'] ['ii3P', 'fi2P'] "
       ]
      },
      {
       "output_type": "stream",
       "stream": "stdout",
       "text": [
        "['ii3P', 'fi3P'] ['ii3P', 'pI2S'] "
       ]
      },
      {
       "output_type": "stream",
       "stream": "stdout",
       "text": [
        "['ii3P', 'pI1P'] "
       ]
      },
      {
       "output_type": "stream",
       "stream": "stdout",
       "text": [
        "['ii3P', 'pI2P'] "
       ]
      },
      {
       "output_type": "stream",
       "stream": "stdout",
       "text": [
        "['ii3P', 'ps1S'] "
       ]
      },
      {
       "output_type": "stream",
       "stream": "stdout",
       "text": [
        "['ii3P', 'ps2S'] "
       ]
      },
      {
       "output_type": "stream",
       "stream": "stdout",
       "text": [
        "['ii3P', 'ps3S'] "
       ]
      },
      {
       "output_type": "stream",
       "stream": "stdout",
       "text": [
        "['ii3P', 'ps1P'] ['ii3P', 'ps2P'] "
       ]
      },
      {
       "output_type": "stream",
       "stream": "stdout",
       "text": [
        "['ii3P', 'ps3P'] "
       ]
      },
      {
       "output_type": "stream",
       "stream": "stdout",
       "text": [
        "['ii3P', 'pc1S'] ['ii3P', 'pc2S'] "
       ]
      },
      {
       "output_type": "stream",
       "stream": "stdout",
       "text": [
        "['ii3P', 'pc3S'] ['ii3P', 'pc1P'] "
       ]
      },
      {
       "output_type": "stream",
       "stream": "stdout",
       "text": [
        "['ii3P', 'pc2P'] ['ii3P', 'pc3P'] ['ii3P', 'pP'] "
       ]
      },
      {
       "output_type": "stream",
       "stream": "stdout",
       "text": [
        "['fi1S', 'fi2S'] ['fi1S', 'fi3S'] "
       ]
      },
      {
       "output_type": "stream",
       "stream": "stdout",
       "text": [
        "['fi1S', 'fi1P'] ['fi1S', 'fi2P'] "
       ]
      },
      {
       "output_type": "stream",
       "stream": "stdout",
       "text": [
        "['fi1S', 'fi3P'] "
       ]
      },
      {
       "output_type": "stream",
       "stream": "stdout",
       "text": [
        "['fi1S', 'pI2S'] "
       ]
      },
      {
       "output_type": "stream",
       "stream": "stdout",
       "text": [
        "['fi1S', 'pI1P'] "
       ]
      },
      {
       "output_type": "stream",
       "stream": "stdout",
       "text": [
        "['fi1S', 'pI2P'] "
       ]
      },
      {
       "output_type": "stream",
       "stream": "stdout",
       "text": [
        "['fi1S', 'ps1S'] "
       ]
      },
      {
       "output_type": "stream",
       "stream": "stdout",
       "text": [
        "['fi1S', 'ps2S'] "
       ]
      },
      {
       "output_type": "stream",
       "stream": "stdout",
       "text": [
        "['fi1S', 'ps3S'] "
       ]
      },
      {
       "output_type": "stream",
       "stream": "stdout",
       "text": [
        "['fi1S', 'ps1P'] ['fi1S', 'ps2P'] "
       ]
      },
      {
       "output_type": "stream",
       "stream": "stdout",
       "text": [
        "['fi1S', 'ps3P'] "
       ]
      },
      {
       "output_type": "stream",
       "stream": "stdout",
       "text": [
        "['fi1S', 'pc1S'] ['fi1S', 'pc2S'] "
       ]
      },
      {
       "output_type": "stream",
       "stream": "stdout",
       "text": [
        "['fi1S', 'pc3S'] "
       ]
      },
      {
       "output_type": "stream",
       "stream": "stdout",
       "text": [
        "['fi1S', 'pc1P'] ['fi1S', 'pc2P'] ['fi1S', 'pc3P'] ['fi1S', 'pP'] "
       ]
      },
      {
       "output_type": "stream",
       "stream": "stdout",
       "text": [
        "['fi2S', 'fi3S'] ['fi2S', 'fi1P'] "
       ]
      },
      {
       "output_type": "stream",
       "stream": "stdout",
       "text": [
        "['fi2S', 'fi2P'] ['fi2S', 'fi3P'] "
       ]
      },
      {
       "output_type": "stream",
       "stream": "stdout",
       "text": [
        "['fi2S', 'pI2S'] "
       ]
      },
      {
       "output_type": "stream",
       "stream": "stdout",
       "text": [
        "['fi2S', 'pI1P'] ['fi2S', 'pI2P'] "
       ]
      },
      {
       "output_type": "stream",
       "stream": "stdout",
       "text": [
        "['fi2S', 'ps1S'] "
       ]
      },
      {
       "output_type": "stream",
       "stream": "stdout",
       "text": [
        "['fi2S', 'ps2S'] "
       ]
      },
      {
       "output_type": "stream",
       "stream": "stdout",
       "text": [
        "['fi2S', 'ps3S'] "
       ]
      },
      {
       "output_type": "stream",
       "stream": "stdout",
       "text": [
        "['fi2S', 'ps1P'] ['fi2S', 'ps2P'] "
       ]
      },
      {
       "output_type": "stream",
       "stream": "stdout",
       "text": [
        "['fi2S', 'ps3P'] "
       ]
      },
      {
       "output_type": "stream",
       "stream": "stdout",
       "text": [
        "['fi2S', 'pc1S'] ['fi2S', 'pc2S'] "
       ]
      },
      {
       "output_type": "stream",
       "stream": "stdout",
       "text": [
        "['fi2S', 'pc3S'] ['fi2S', 'pc1P'] ['fi2S', 'pc2P'] "
       ]
      },
      {
       "output_type": "stream",
       "stream": "stdout",
       "text": [
        "['fi2S', 'pc3P'] ['fi2S', 'pP'] "
       ]
      },
      {
       "output_type": "stream",
       "stream": "stdout",
       "text": [
        "['fi3S', 'fi1P'] ['fi3S', 'fi2P'] "
       ]
      },
      {
       "output_type": "stream",
       "stream": "stdout",
       "text": [
        "['fi3S', 'fi3P'] "
       ]
      },
      {
       "output_type": "stream",
       "stream": "stdout",
       "text": [
        "['fi3S', 'pI2S'] "
       ]
      },
      {
       "output_type": "stream",
       "stream": "stdout",
       "text": [
        "['fi3S', 'pI1P'] "
       ]
      },
      {
       "output_type": "stream",
       "stream": "stdout",
       "text": [
        "['fi3S', 'pI2P'] "
       ]
      },
      {
       "output_type": "stream",
       "stream": "stdout",
       "text": [
        "['fi3S', 'ps1S'] "
       ]
      },
      {
       "output_type": "stream",
       "stream": "stdout",
       "text": [
        "['fi3S', 'ps2S'] "
       ]
      },
      {
       "output_type": "stream",
       "stream": "stdout",
       "text": [
        "['fi3S', 'ps3S'] "
       ]
      },
      {
       "output_type": "stream",
       "stream": "stdout",
       "text": [
        "['fi3S', 'ps1P'] ['fi3S', 'ps2P'] "
       ]
      },
      {
       "output_type": "stream",
       "stream": "stdout",
       "text": [
        "['fi3S', 'ps3P'] "
       ]
      },
      {
       "output_type": "stream",
       "stream": "stdout",
       "text": [
        "['fi3S', 'pc1S'] "
       ]
      },
      {
       "output_type": "stream",
       "stream": "stdout",
       "text": [
        "['fi3S', 'pc2S'] "
       ]
      },
      {
       "output_type": "stream",
       "stream": "stdout",
       "text": [
        "['fi3S', 'pc3S'] "
       ]
      },
      {
       "output_type": "stream",
       "stream": "stdout",
       "text": [
        "['fi3S', 'pc1P'] ['fi3S', 'pc2P'] ['fi3S', 'pc3P'] "
       ]
      },
      {
       "output_type": "stream",
       "stream": "stdout",
       "text": [
        "['fi3S', 'pP'] "
       ]
      },
      {
       "output_type": "stream",
       "stream": "stdout",
       "text": [
        "['fi1P', 'fi2P'] ['fi1P', 'fi3P'] "
       ]
      },
      {
       "output_type": "stream",
       "stream": "stdout",
       "text": [
        "['fi1P', 'pI2S'] "
       ]
      },
      {
       "output_type": "stream",
       "stream": "stdout",
       "text": [
        "['fi1P', 'pI1P'] ['fi1P', 'pI2P'] "
       ]
      },
      {
       "output_type": "stream",
       "stream": "stdout",
       "text": [
        "['fi1P', 'ps1S'] "
       ]
      },
      {
       "output_type": "stream",
       "stream": "stdout",
       "text": [
        "['fi1P', 'ps2S'] ['fi1P', 'ps3S'] "
       ]
      },
      {
       "output_type": "stream",
       "stream": "stdout",
       "text": [
        "['fi1P', 'ps1P'] ['fi1P', 'ps2P'] "
       ]
      },
      {
       "output_type": "stream",
       "stream": "stdout",
       "text": [
        "['fi1P', 'ps3P'] "
       ]
      },
      {
       "output_type": "stream",
       "stream": "stdout",
       "text": [
        "['fi1P', 'pc1S'] ['fi1P', 'pc2S'] "
       ]
      },
      {
       "output_type": "stream",
       "stream": "stdout",
       "text": [
        "['fi1P', 'pc3S'] ['fi1P', 'pc1P'] ['fi1P', 'pc2P'] "
       ]
      },
      {
       "output_type": "stream",
       "stream": "stdout",
       "text": [
        "['fi1P', 'pc3P'] ['fi1P', 'pP'] "
       ]
      },
      {
       "output_type": "stream",
       "stream": "stdout",
       "text": [
        "['fi2P', 'fi3P'] ['fi2P', 'pI2S'] "
       ]
      },
      {
       "output_type": "stream",
       "stream": "stdout",
       "text": [
        "['fi2P', 'pI1P'] ['fi2P', 'pI2P'] "
       ]
      },
      {
       "output_type": "stream",
       "stream": "stdout",
       "text": [
        "['fi2P', 'ps1S'] "
       ]
      },
      {
       "output_type": "stream",
       "stream": "stdout",
       "text": [
        "['fi2P', 'ps2S'] ['fi2P', 'ps3S'] "
       ]
      },
      {
       "output_type": "stream",
       "stream": "stdout",
       "text": [
        "['fi2P', 'ps1P'] ['fi2P', 'ps2P'] "
       ]
      },
      {
       "output_type": "stream",
       "stream": "stdout",
       "text": [
        "['fi2P', 'ps3P'] "
       ]
      },
      {
       "output_type": "stream",
       "stream": "stdout",
       "text": [
        "['fi2P', 'pc1S'] ['fi2P', 'pc2S'] "
       ]
      },
      {
       "output_type": "stream",
       "stream": "stdout",
       "text": [
        "['fi2P', 'pc3S'] ['fi2P', 'pc1P'] ['fi2P', 'pc2P'] "
       ]
      },
      {
       "output_type": "stream",
       "stream": "stdout",
       "text": [
        "['fi2P', 'pc3P'] ['fi2P', 'pP'] "
       ]
      },
      {
       "output_type": "stream",
       "stream": "stdout",
       "text": [
        "['fi3P', 'pI2S'] "
       ]
      },
      {
       "output_type": "stream",
       "stream": "stdout",
       "text": [
        "['fi3P', 'pI1P'] "
       ]
      },
      {
       "output_type": "stream",
       "stream": "stdout",
       "text": [
        "['fi3P', 'pI2P'] "
       ]
      },
      {
       "output_type": "stream",
       "stream": "stdout",
       "text": [
        "['fi3P', 'ps1S'] "
       ]
      },
      {
       "output_type": "stream",
       "stream": "stdout",
       "text": [
        "['fi3P', 'ps2S'] "
       ]
      },
      {
       "output_type": "stream",
       "stream": "stdout",
       "text": [
        "['fi3P', 'ps3S'] "
       ]
      },
      {
       "output_type": "stream",
       "stream": "stdout",
       "text": [
        "['fi3P', 'ps1P'] ['fi3P', 'ps2P'] "
       ]
      },
      {
       "output_type": "stream",
       "stream": "stdout",
       "text": [
        "['fi3P', 'ps3P'] "
       ]
      },
      {
       "output_type": "stream",
       "stream": "stdout",
       "text": [
        "['fi3P', 'pc1S'] ['fi3P', 'pc2S'] "
       ]
      },
      {
       "output_type": "stream",
       "stream": "stdout",
       "text": [
        "['fi3P', 'pc3S'] "
       ]
      },
      {
       "output_type": "stream",
       "stream": "stdout",
       "text": [
        "['fi3P', 'pc1P'] ['fi3P', 'pc2P'] ['fi3P', 'pc3P'] ['fi3P', 'pP'] "
       ]
      },
      {
       "output_type": "stream",
       "stream": "stdout",
       "text": [
        "['pI2S', 'pI1P'] "
       ]
      },
      {
       "output_type": "stream",
       "stream": "stdout",
       "text": [
        "['pI2S', 'pI2P'] "
       ]
      },
      {
       "output_type": "stream",
       "stream": "stdout",
       "text": [
        "['pI2S', 'ps1S'] "
       ]
      },
      {
       "output_type": "stream",
       "stream": "stdout",
       "text": [
        "['pI2S', 'ps2S'] "
       ]
      },
      {
       "output_type": "stream",
       "stream": "stdout",
       "text": [
        "['pI2S', 'ps3S'] "
       ]
      },
      {
       "output_type": "stream",
       "stream": "stdout",
       "text": [
        "['pI2S', 'ps1P'] ['pI2S', 'ps2P'] "
       ]
      },
      {
       "output_type": "stream",
       "stream": "stdout",
       "text": [
        "['pI2S', 'ps3P'] "
       ]
      },
      {
       "output_type": "stream",
       "stream": "stdout",
       "text": [
        "['pI2S', 'pc1S'] "
       ]
      },
      {
       "output_type": "stream",
       "stream": "stdout",
       "text": [
        "['pI2S', 'pc2S'] "
       ]
      },
      {
       "output_type": "stream",
       "stream": "stdout",
       "text": [
        "['pI2S', 'pc3S'] "
       ]
      },
      {
       "output_type": "stream",
       "stream": "stdout",
       "text": [
        "['pI2S', 'pc1P'] ['pI2S', 'pc2P'] "
       ]
      },
      {
       "output_type": "stream",
       "stream": "stdout",
       "text": [
        "['pI2S', 'pc3P'] ['pI2S', 'pP'] "
       ]
      },
      {
       "output_type": "stream",
       "stream": "stdout",
       "text": [
        "['pI1P', 'pI2P'] "
       ]
      },
      {
       "output_type": "stream",
       "stream": "stdout",
       "text": [
        "['pI1P', 'ps1S'] "
       ]
      },
      {
       "output_type": "stream",
       "stream": "stdout",
       "text": [
        "['pI1P', 'ps2S'] "
       ]
      },
      {
       "output_type": "stream",
       "stream": "stdout",
       "text": [
        "['pI1P', 'ps3S'] "
       ]
      },
      {
       "output_type": "stream",
       "stream": "stdout",
       "text": [
        "['pI1P', 'ps1P'] ['pI1P', 'ps2P'] "
       ]
      },
      {
       "output_type": "stream",
       "stream": "stdout",
       "text": [
        "['pI1P', 'ps3P'] "
       ]
      },
      {
       "output_type": "stream",
       "stream": "stdout",
       "text": [
        "['pI1P', 'pc1S'] "
       ]
      },
      {
       "output_type": "stream",
       "stream": "stdout",
       "text": [
        "['pI1P', 'pc2S'] "
       ]
      },
      {
       "output_type": "stream",
       "stream": "stdout",
       "text": [
        "['pI1P', 'pc3S'] "
       ]
      },
      {
       "output_type": "stream",
       "stream": "stdout",
       "text": [
        "['pI1P', 'pc1P'] ['pI1P', 'pc2P'] ['pI1P', 'pc3P'] "
       ]
      },
      {
       "output_type": "stream",
       "stream": "stdout",
       "text": [
        "['pI1P', 'pP'] "
       ]
      },
      {
       "output_type": "stream",
       "stream": "stdout",
       "text": [
        "['pI2P', 'ps1S'] "
       ]
      },
      {
       "output_type": "stream",
       "stream": "stdout",
       "text": [
        "['pI2P', 'ps2S'] "
       ]
      },
      {
       "output_type": "stream",
       "stream": "stdout",
       "text": [
        "['pI2P', 'ps3S'] "
       ]
      },
      {
       "output_type": "stream",
       "stream": "stdout",
       "text": [
        "['pI2P', 'ps1P'] ['pI2P', 'ps2P'] "
       ]
      },
      {
       "output_type": "stream",
       "stream": "stdout",
       "text": [
        "['pI2P', 'ps3P'] "
       ]
      },
      {
       "output_type": "stream",
       "stream": "stdout",
       "text": [
        "['pI2P', 'pc1S'] "
       ]
      },
      {
       "output_type": "stream",
       "stream": "stdout",
       "text": [
        "['pI2P', 'pc2S'] "
       ]
      },
      {
       "output_type": "stream",
       "stream": "stdout",
       "text": [
        "['pI2P', 'pc3S'] "
       ]
      },
      {
       "output_type": "stream",
       "stream": "stdout",
       "text": [
        "['pI2P', 'pc1P'] ['pI2P', 'pc2P'] "
       ]
      },
      {
       "output_type": "stream",
       "stream": "stdout",
       "text": [
        "['pI2P', 'pc3P'] ['pI2P', 'pP'] "
       ]
      },
      {
       "output_type": "stream",
       "stream": "stdout",
       "text": [
        "['ps1S', 'ps2S'] "
       ]
      },
      {
       "output_type": "stream",
       "stream": "stdout",
       "text": [
        "['ps1S', 'ps3S'] "
       ]
      },
      {
       "output_type": "stream",
       "stream": "stdout",
       "text": [
        "['ps1S', 'ps1P'] ['ps1S', 'ps2P'] "
       ]
      },
      {
       "output_type": "stream",
       "stream": "stdout",
       "text": [
        "['ps1S', 'ps3P'] "
       ]
      },
      {
       "output_type": "stream",
       "stream": "stdout",
       "text": [
        "['ps1S', 'pc1S'] "
       ]
      },
      {
       "output_type": "stream",
       "stream": "stdout",
       "text": [
        "['ps1S', 'pc2S'] "
       ]
      },
      {
       "output_type": "stream",
       "stream": "stdout",
       "text": [
        "['ps1S', 'pc3S'] "
       ]
      },
      {
       "output_type": "stream",
       "stream": "stdout",
       "text": [
        "['ps1S', 'pc1P'] ['ps1S', 'pc2P'] ['ps1S', 'pc3P'] "
       ]
      },
      {
       "output_type": "stream",
       "stream": "stdout",
       "text": [
        "['ps1S', 'pP'] "
       ]
      },
      {
       "output_type": "stream",
       "stream": "stdout",
       "text": [
        "['ps2S', 'ps3S'] "
       ]
      },
      {
       "output_type": "stream",
       "stream": "stdout",
       "text": [
        "['ps2S', 'ps1P'] ['ps2S', 'ps2P'] "
       ]
      },
      {
       "output_type": "stream",
       "stream": "stdout",
       "text": [
        "['ps2S', 'ps3P'] "
       ]
      },
      {
       "output_type": "stream",
       "stream": "stdout",
       "text": [
        "['ps2S', 'pc1S'] "
       ]
      },
      {
       "output_type": "stream",
       "stream": "stdout",
       "text": [
        "['ps2S', 'pc2S'] "
       ]
      },
      {
       "output_type": "stream",
       "stream": "stdout",
       "text": [
        "['ps2S', 'pc3S'] "
       ]
      },
      {
       "output_type": "stream",
       "stream": "stdout",
       "text": [
        "['ps2S', 'pc1P'] ['ps2S', 'pc2P'] ['ps2S', 'pc3P'] "
       ]
      },
      {
       "output_type": "stream",
       "stream": "stdout",
       "text": [
        "['ps2S', 'pP'] "
       ]
      },
      {
       "output_type": "stream",
       "stream": "stdout",
       "text": [
        "['ps3S', 'ps1P'] ['ps3S', 'ps2P'] "
       ]
      },
      {
       "output_type": "stream",
       "stream": "stdout",
       "text": [
        "['ps3S', 'ps3P'] "
       ]
      },
      {
       "output_type": "stream",
       "stream": "stdout",
       "text": [
        "['ps3S', 'pc1S'] "
       ]
      },
      {
       "output_type": "stream",
       "stream": "stdout",
       "text": [
        "['ps3S', 'pc2S'] "
       ]
      },
      {
       "output_type": "stream",
       "stream": "stdout",
       "text": [
        "['ps3S', 'pc3S'] "
       ]
      },
      {
       "output_type": "stream",
       "stream": "stdout",
       "text": [
        "['ps3S', 'pc1P'] ['ps3S', 'pc2P'] ['ps3S', 'pc3P'] "
       ]
      },
      {
       "output_type": "stream",
       "stream": "stdout",
       "text": [
        "['ps3S', 'pP'] "
       ]
      },
      {
       "output_type": "stream",
       "stream": "stdout",
       "text": [
        "['ps1P', 'ps2P'] ['ps1P', 'ps3P'] "
       ]
      },
      {
       "output_type": "stream",
       "stream": "stdout",
       "text": [
        "['ps1P', 'pc1S'] ['ps1P', 'pc2S'] "
       ]
      },
      {
       "output_type": "stream",
       "stream": "stdout",
       "text": [
        "['ps1P', 'pc3S'] ['ps1P', 'pc1P'] ['ps1P', 'pc2P'] "
       ]
      },
      {
       "output_type": "stream",
       "stream": "stdout",
       "text": [
        "['ps1P', 'pc3P'] ['ps1P', 'pP'] ['ps2P', 'ps3P'] "
       ]
      },
      {
       "output_type": "stream",
       "stream": "stdout",
       "text": [
        "['ps2P', 'pc1S'] ['ps2P', 'pc2S'] "
       ]
      },
      {
       "output_type": "stream",
       "stream": "stdout",
       "text": [
        "['ps2P', 'pc3S'] ['ps2P', 'pc1P'] "
       ]
      },
      {
       "output_type": "stream",
       "stream": "stdout",
       "text": [
        "['ps2P', 'pc2P'] ['ps2P', 'pc3P'] ['ps2P', 'pP'] "
       ]
      },
      {
       "output_type": "stream",
       "stream": "stdout",
       "text": [
        "['ps3P', 'pc1S'] "
       ]
      },
      {
       "output_type": "stream",
       "stream": "stdout",
       "text": [
        "['ps3P', 'pc2S'] "
       ]
      },
      {
       "output_type": "stream",
       "stream": "stdout",
       "text": [
        "['ps3P', 'pc3S'] "
       ]
      },
      {
       "output_type": "stream",
       "stream": "stdout",
       "text": [
        "['ps3P', 'pc1P'] ['ps3P', 'pc2P'] ['ps3P', 'pc3P'] "
       ]
      },
      {
       "output_type": "stream",
       "stream": "stdout",
       "text": [
        "['ps3P', 'pP'] "
       ]
      },
      {
       "output_type": "stream",
       "stream": "stdout",
       "text": [
        "['pc1S', 'pc2S'] ['pc1S', 'pc3S'] "
       ]
      },
      {
       "output_type": "stream",
       "stream": "stdout",
       "text": [
        "['pc1S', 'pc1P'] ['pc1S', 'pc2P'] ['pc1S', 'pc3P'] "
       ]
      },
      {
       "output_type": "stream",
       "stream": "stdout",
       "text": [
        "['pc1S', 'pP'] "
       ]
      },
      {
       "output_type": "stream",
       "stream": "stdout",
       "text": [
        "['pc2S', 'pc3S'] ['pc2S', 'pc1P'] "
       ]
      },
      {
       "output_type": "stream",
       "stream": "stdout",
       "text": [
        "['pc2S', 'pc2P'] ['pc2S', 'pc3P'] ['pc2S', 'pP'] "
       ]
      },
      {
       "output_type": "stream",
       "stream": "stdout",
       "text": [
        "['pc3S', 'pc1P'] ['pc3S', 'pc2P'] ['pc3S', 'pc3P'] "
       ]
      },
      {
       "output_type": "stream",
       "stream": "stdout",
       "text": [
        "['pc3S', 'pP'] "
       ]
      },
      {
       "output_type": "stream",
       "stream": "stdout",
       "text": [
        "['pc1P', 'pc2P'] ['pc1P', 'pc3P'] ['pc1P', 'pP'] ['pc2P', 'pc3P'] ['pc2P', 'pP'] "
       ]
      },
      {
       "output_type": "stream",
       "stream": "stdout",
       "text": [
        "['pc3P', 'pP']CPU times: user 48.3 s, sys: 231 ms, total: 48.5 s\n",
        "Wall time: 48.5 s\n",
        "\n"
       ]
      }
     ],
     "prompt_number": 53
    },
    {
     "cell_type": "code",
     "collapsed": false,
     "input": [
      "resultats[('inf', 'pi1P')][0]"
     ],
     "language": "python",
     "metadata": {},
     "outputs": [
      {
       "metadata": {},
       "output_type": "pyout",
       "prompt_number": 38,
       "text": [
        "{u'E.e-6.\\xf4': [u'a', u's', u'E', u'n', u'e'],\n",
        " u'E.ir-i.\\xf4': [u'Z', u'E', u'z', u'i', u'r'],\n",
        " u'Er-6z\\xf4': ['*', u'f', u'E', u'r'],\n",
        " u'Etr-sOm': [u'E', u't', u'r'],\n",
        " u'dr-l\\xf4': ['*', u'm', u'u', u'd', u'r'],\n",
        " u'dr-z\\xf4': ['*', u'k', u'u', u'd', u'r'],\n",
        " u'e-\\xf4': ['*', u'ptkbdgfsSvzZmnJjlrwHiyEe926uOo\\xea\\xfb\\xf4', u'e'],\n",
        " u'ir-j\\xf4': ['*', u'r', u'i', u'r'],\n",
        " u'ir-\\xf4': ['*',\n",
        "  u'ptkbdgfsSvzZmnJjrwHiyEe926auOo\\xea\\xfb\\xe2\\xf4',\n",
        "  u'fvjrwHiyEe926auOo\\xea\\xfb\\xe2\\xf4',\n",
        "  u'ptkbdgfsSvzZmnJjr',\n",
        "  u'i',\n",
        "  u'r'],\n",
        " u'r-j\\xf4': ['*', u'jrwH', u'iEea', u'r'],\n",
        " u'r-s\\xf4': ['*',\n",
        "  u'ptkbdgfsSvzZmnJjlrwHiyEe926auOo\\xea\\xfb\\xe2\\xf4',\n",
        "  u'i',\n",
        "  u'r'],\n",
        " u'r-v\\xf4': ['*', u'fsvzE', u'k', u'r', u'i', u'r'],\n",
        " u'r-z\\xf4': ['*', u'ptbdfsvzjlH', u'iEe', u'r'],\n",
        " u'r-\\xf4': ['*',\n",
        "  u'ptkbdgfsSvzZmnJjrwHE96O\\xea\\xfb\\xf4',\n",
        "  u'mnJjlrwHiyEe926auOo\\xea\\xfb\\xe2\\xf4',\n",
        "  u'ptkbdgfsSvzZjrwHiyEe926uOo',\n",
        "  u'r'],\n",
        " u'tr-s\\xf4': ['*', u'ptkbdgfsSvzZmnJjrwH', u'Ea', u't', u'r'],\n",
        " u'udr-Olv\\xf4': [u'bdvzrE6a', u'bjiEe', u'sz', u'u', u'd', u'r'],\n",
        " u'war-Ej\\xf4': ['*', u'a', u's', u'w', u'a', u'r'],\n",
        " u'war-yv\\xf4': [u'b', u'w', u'a', u'r'],\n",
        " u'war-\\xf4': ['*', u'iyEe926auOo', u'vzl', u'w', u'a', u'r'],\n",
        " u'wir-Oj\\xf4': [u'w', u'i', u'r'],\n",
        " u'\\xe2dr-6n\\xf4': ['*', u'p', u'r', u'\\xe2', u'd', u'r'],\n",
        " u'\\xeadr-EJ\\xf4': ['*', u'ptkbdgfsSvzZlr', u'\\xea', u'd', u'r'],\n",
        " u'\\xeadr-aJ\\xf4': ['*', u'Z', u'w', u'\\xea', u'd', u'r']}"
       ]
      }
     ],
     "prompt_number": 38
    },
    {
     "cell_type": "code",
     "collapsed": false,
     "input": [
      "colonnes=paradigmes.columns.values.tolist()\n",
      "result={}\n",
      "paire=('inf','fi1S')\n",
      "paireListe=list(paire)\n",
      "print paireListe\n",
      "paireListe.append(\"lexeme\")\n",
      "if paire[0] in colonnes and paire[1] in colonnes:\n",
      "    paradigmePaire=paradigmes[paireListe].dropna(thresh=3, axis=0).reindex()\n",
      "    paradigmePaire=splitCellMates(splitCellMates(paradigmePaire,paire[0]),paire[1])\n",
      "    result[paire]=rapports(paradigmePaire)\n",
      "else:\n",
      "    result[paire]=(\"missing pair\", paire)"
     ],
     "language": "python",
     "metadata": {},
     "outputs": [
      {
       "output_type": "stream",
       "stream": "stdout",
       "text": [
        "['inf', 'fi1S']\n",
        "patron1 -E\n",
        "3 6\n",
        "set([u'r', u'\\xe2', u'd'])\n",
        "set([u'i', u'd'])\n",
        "set([u'r'])\n",
        "patron1 vwar-rE\n",
        "6 6\n",
        "set([u'p'])\n",
        "set([u'u'])\n",
        "set([u'v'])\n",
        "set([u'w'])\n",
        "set([u'a'])\n",
        "set([u'r'])\n",
        "patron1 6ni.-j\u00ead.E\n",
        "5 5\n",
        "set([u'v'])\n",
        "set([u'6'])\n",
        "set([u'n'])\n",
        "set([u'i'])\n",
        "set([u'r'])\n",
        "patron1 E.-6.E\n",
        "3 3\n",
        "set([u'f'])\n",
        "set([u'E'])\n",
        "set([u'r'])\n",
        "patron1 ale-irE\n",
        "3 3\n",
        "set([u'a'])\n",
        "set([u'l'])\n",
        "set([u'e'])\n",
        "patron1 Et.-s6.E\n",
        "3 3\n",
        "set([u'E'])\n",
        "set([u't'])\n",
        "set([u'r'])\n",
        "patron2 E-\n",
        "4 7\n",
        "set([u'r', u'\\xe2', u'd'])\n",
        "set([u'i', u'd'])\n",
        "set([u'r'])\n",
        "set([u'E'])\n",
        "patron2 irE-ale\n",
        "3 3\n",
        "set([u'i'])\n",
        "set([u'r'])\n",
        "set([u'E'])\n",
        "patron2 6.E-E.\n",
        "4 4\n",
        "set([u'f'])\n",
        "set([u'6'])\n",
        "set([u'r'])\n",
        "set([u'E'])\n",
        "patron2 j\u00ead.E-6ni.\n",
        "6 6\n",
        "set([u'v'])\n",
        "set([u'j'])\n",
        "set([u'\\xea'])\n",
        "set([u'd'])\n",
        "set([u'r'])\n",
        "set([u'E'])\n",
        "patron2 s6.E-Et.\n",
        "4 4\n",
        "set([u's'])\n",
        "set([u'6'])\n",
        "set([u'r'])\n",
        "set([u'E'])\n",
        "patron2 rE-vwar\n",
        "4 4\n",
        "set([u'p'])\n",
        "set([u'u'])\n",
        "set([u'r'])\n",
        "set([u'E'])\n"
       ]
      }
     ],
     "prompt_number": 25
    },
    {
     "cell_type": "code",
     "collapsed": false,
     "input": [],
     "language": "python",
     "metadata": {},
     "outputs": [
      {
       "output_type": "stream",
       "stream": "stdout",
       "text": [
        "\u00e2\u00ea\u00fb\u00f4\n"
       ]
      }
     ],
     "prompt_number": 154
    },
    {
     "cell_type": "code",
     "collapsed": false,
     "input": [
      "echantillonVerbes=[\"chanter\",\"manger\",\"asseoir\",\"avoir\",\"prendre\",\"dormir\"]\n",
      "extrait=verbes[verbes[\"lexeme\"].isin(echantillonVerbes)]"
     ],
     "language": "python",
     "metadata": {},
     "outputs": []
    },
    {
     "cell_type": "markdown",
     "metadata": {},
     "source": [
      "###Initialisation pour l'\u00e9chantillon complet"
     ]
    },
    {
     "cell_type": "code",
     "collapsed": false,
     "input": [
      "extrait=verbes"
     ],
     "language": "python",
     "metadata": {},
     "outputs": [],
     "prompt_number": 26
    },
    {
     "cell_type": "code",
     "collapsed": false,
     "input": [
      "paradigmes"
     ],
     "language": "python",
     "metadata": {},
     "outputs": [
      {
       "html": [
        "<div style=\"max-height:1000px;max-width:1500px;overflow:auto;\">\n",
        "<table border=\"1\" class=\"dataframe\">\n",
        "  <thead>\n",
        "    <tr style=\"text-align: right;\">\n",
        "      <th>case</th>\n",
        "      <th>lexeme</th>\n",
        "      <th>ai1S</th>\n",
        "      <th>ai2S</th>\n",
        "      <th>ai3S</th>\n",
        "      <th>fi1P</th>\n",
        "      <th>fi1S</th>\n",
        "      <th>fi2P</th>\n",
        "      <th>fi2S</th>\n",
        "      <th>fi3P</th>\n",
        "      <th>fi3S</th>\n",
        "      <th>...</th>\n",
        "      <th>pi1S</th>\n",
        "      <th>pi2P</th>\n",
        "      <th>pi2S</th>\n",
        "      <th>pi3P</th>\n",
        "      <th>pi3S</th>\n",
        "      <th>ps1S</th>\n",
        "      <th>ps2P</th>\n",
        "      <th>ps2S</th>\n",
        "      <th>ps3P</th>\n",
        "      <th>ps3S</th>\n",
        "    </tr>\n",
        "  </thead>\n",
        "  <tbody>\n",
        "    <tr>\n",
        "      <th>0  </th>\n",
        "      <td>  abandonner</td>\n",
        "      <td> NaN</td>\n",
        "      <td> NaN</td>\n",
        "      <td> NaN</td>\n",
        "      <td> NaN</td>\n",
        "      <td>    NaN</td>\n",
        "      <td>  NaN</td>\n",
        "      <td>  NaN</td>\n",
        "      <td>    NaN</td>\n",
        "      <td>  NaN</td>\n",
        "      <td>...</td>\n",
        "      <td>    NaN</td>\n",
        "      <td>   NaN</td>\n",
        "      <td>  NaN</td>\n",
        "      <td>    NaN</td>\n",
        "      <td>    NaN</td>\n",
        "      <td>    NaN</td>\n",
        "      <td>   NaN</td>\n",
        "      <td>    NaN</td>\n",
        "      <td>  NaN</td>\n",
        "      <td> ab\u00e2dOn</td>\n",
        "    </tr>\n",
        "    <tr>\n",
        "      <th>1  </th>\n",
        "      <td>     abattre</td>\n",
        "      <td> NaN</td>\n",
        "      <td> NaN</td>\n",
        "      <td> NaN</td>\n",
        "      <td> NaN</td>\n",
        "      <td>    NaN</td>\n",
        "      <td>  NaN</td>\n",
        "      <td>  NaN</td>\n",
        "      <td>    NaN</td>\n",
        "      <td>  NaN</td>\n",
        "      <td>...</td>\n",
        "      <td>    NaN</td>\n",
        "      <td>   NaN</td>\n",
        "      <td>  NaN</td>\n",
        "      <td>    NaN</td>\n",
        "      <td>    NaN</td>\n",
        "      <td>    NaN</td>\n",
        "      <td>   NaN</td>\n",
        "      <td>    NaN</td>\n",
        "      <td>  NaN</td>\n",
        "      <td>    NaN</td>\n",
        "    </tr>\n",
        "    <tr>\n",
        "      <th>2  </th>\n",
        "      <td>     aborder</td>\n",
        "      <td> NaN</td>\n",
        "      <td> NaN</td>\n",
        "      <td> NaN</td>\n",
        "      <td> NaN</td>\n",
        "      <td>    NaN</td>\n",
        "      <td>  NaN</td>\n",
        "      <td>  NaN</td>\n",
        "      <td>    NaN</td>\n",
        "      <td>  NaN</td>\n",
        "      <td>...</td>\n",
        "      <td>    NaN</td>\n",
        "      <td>   NaN</td>\n",
        "      <td>  NaN</td>\n",
        "      <td>    NaN</td>\n",
        "      <td>    NaN</td>\n",
        "      <td>    NaN</td>\n",
        "      <td>   NaN</td>\n",
        "      <td>    NaN</td>\n",
        "      <td>  NaN</td>\n",
        "      <td>    NaN</td>\n",
        "    </tr>\n",
        "    <tr>\n",
        "      <th>3  </th>\n",
        "      <td>      ab\u00eemer</td>\n",
        "      <td> NaN</td>\n",
        "      <td> NaN</td>\n",
        "      <td> NaN</td>\n",
        "      <td> NaN</td>\n",
        "      <td>    NaN</td>\n",
        "      <td>  NaN</td>\n",
        "      <td>  NaN</td>\n",
        "      <td>    NaN</td>\n",
        "      <td>  NaN</td>\n",
        "      <td>...</td>\n",
        "      <td>    NaN</td>\n",
        "      <td>   NaN</td>\n",
        "      <td>  NaN</td>\n",
        "      <td>    NaN</td>\n",
        "      <td>    NaN</td>\n",
        "      <td>    NaN</td>\n",
        "      <td>   NaN</td>\n",
        "      <td>    NaN</td>\n",
        "      <td>  NaN</td>\n",
        "      <td>    NaN</td>\n",
        "    </tr>\n",
        "    <tr>\n",
        "      <th>4  </th>\n",
        "      <td>    accabler</td>\n",
        "      <td> NaN</td>\n",
        "      <td> NaN</td>\n",
        "      <td> NaN</td>\n",
        "      <td> NaN</td>\n",
        "      <td>    NaN</td>\n",
        "      <td>  NaN</td>\n",
        "      <td>  NaN</td>\n",
        "      <td>    NaN</td>\n",
        "      <td>  NaN</td>\n",
        "      <td>...</td>\n",
        "      <td>    NaN</td>\n",
        "      <td>   NaN</td>\n",
        "      <td>  NaN</td>\n",
        "      <td>    NaN</td>\n",
        "      <td>    NaN</td>\n",
        "      <td>    NaN</td>\n",
        "      <td>   NaN</td>\n",
        "      <td>    NaN</td>\n",
        "      <td>  NaN</td>\n",
        "      <td>    NaN</td>\n",
        "    </tr>\n",
        "    <tr>\n",
        "      <th>5  </th>\n",
        "      <td>    accepter</td>\n",
        "      <td> NaN</td>\n",
        "      <td> NaN</td>\n",
        "      <td> NaN</td>\n",
        "      <td> NaN</td>\n",
        "      <td>    NaN</td>\n",
        "      <td>  NaN</td>\n",
        "      <td>  NaN</td>\n",
        "      <td>    NaN</td>\n",
        "      <td>  NaN</td>\n",
        "      <td>...</td>\n",
        "      <td>    NaN</td>\n",
        "      <td>   NaN</td>\n",
        "      <td>  NaN</td>\n",
        "      <td>    NaN</td>\n",
        "      <td> aksEpt</td>\n",
        "      <td> aksEpt</td>\n",
        "      <td>   NaN</td>\n",
        "      <td>    NaN</td>\n",
        "      <td>  NaN</td>\n",
        "      <td> aksEpt</td>\n",
        "    </tr>\n",
        "    <tr>\n",
        "      <th>6  </th>\n",
        "      <td> accompagner</td>\n",
        "      <td> NaN</td>\n",
        "      <td> NaN</td>\n",
        "      <td> NaN</td>\n",
        "      <td> NaN</td>\n",
        "      <td>    NaN</td>\n",
        "      <td>  NaN</td>\n",
        "      <td>  NaN</td>\n",
        "      <td>    NaN</td>\n",
        "      <td>  NaN</td>\n",
        "      <td>...</td>\n",
        "      <td> ak\u00f4paJ</td>\n",
        "      <td>   NaN</td>\n",
        "      <td>  NaN</td>\n",
        "      <td>    NaN</td>\n",
        "      <td>    NaN</td>\n",
        "      <td> ak\u00f4paJ</td>\n",
        "      <td>   NaN</td>\n",
        "      <td>    NaN</td>\n",
        "      <td>  NaN</td>\n",
        "      <td> ak\u00f4paJ</td>\n",
        "    </tr>\n",
        "    <tr>\n",
        "      <th>7  </th>\n",
        "      <td>    accorder</td>\n",
        "      <td> NaN</td>\n",
        "      <td> NaN</td>\n",
        "      <td> NaN</td>\n",
        "      <td> NaN</td>\n",
        "      <td>    NaN</td>\n",
        "      <td>  NaN</td>\n",
        "      <td>  NaN</td>\n",
        "      <td>    NaN</td>\n",
        "      <td>  NaN</td>\n",
        "      <td>...</td>\n",
        "      <td>  akOrd</td>\n",
        "      <td>   NaN</td>\n",
        "      <td>  NaN</td>\n",
        "      <td>    NaN</td>\n",
        "      <td>  akOrd</td>\n",
        "      <td>    NaN</td>\n",
        "      <td>   NaN</td>\n",
        "      <td>    NaN</td>\n",
        "      <td>  NaN</td>\n",
        "      <td>    NaN</td>\n",
        "    </tr>\n",
        "    <tr>\n",
        "      <th>8  </th>\n",
        "      <td>     accuser</td>\n",
        "      <td> NaN</td>\n",
        "      <td> NaN</td>\n",
        "      <td> NaN</td>\n",
        "      <td> NaN</td>\n",
        "      <td>    NaN</td>\n",
        "      <td>  NaN</td>\n",
        "      <td>  NaN</td>\n",
        "      <td>    NaN</td>\n",
        "      <td>  NaN</td>\n",
        "      <td>...</td>\n",
        "      <td>    NaN</td>\n",
        "      <td>   NaN</td>\n",
        "      <td>  NaN</td>\n",
        "      <td>    NaN</td>\n",
        "      <td>    NaN</td>\n",
        "      <td>    NaN</td>\n",
        "      <td>   NaN</td>\n",
        "      <td>    NaN</td>\n",
        "      <td>  NaN</td>\n",
        "      <td>   akyz</td>\n",
        "    </tr>\n",
        "    <tr>\n",
        "      <th>9  </th>\n",
        "      <td>     acheter</td>\n",
        "      <td> NaN</td>\n",
        "      <td> NaN</td>\n",
        "      <td> NaN</td>\n",
        "      <td> NaN</td>\n",
        "      <td>    NaN</td>\n",
        "      <td>  NaN</td>\n",
        "      <td>  NaN</td>\n",
        "      <td>    NaN</td>\n",
        "      <td>  NaN</td>\n",
        "      <td>...</td>\n",
        "      <td>    NaN</td>\n",
        "      <td>   NaN</td>\n",
        "      <td>  NaN</td>\n",
        "      <td>    NaN</td>\n",
        "      <td>    NaN</td>\n",
        "      <td>   aSEt</td>\n",
        "      <td>   NaN</td>\n",
        "      <td>    NaN</td>\n",
        "      <td>  NaN</td>\n",
        "      <td>    NaN</td>\n",
        "    </tr>\n",
        "    <tr>\n",
        "      <th>10 </th>\n",
        "      <td>     achever</td>\n",
        "      <td> NaN</td>\n",
        "      <td> NaN</td>\n",
        "      <td> NaN</td>\n",
        "      <td> NaN</td>\n",
        "      <td>    NaN</td>\n",
        "      <td>  NaN</td>\n",
        "      <td>  NaN</td>\n",
        "      <td>    NaN</td>\n",
        "      <td>  NaN</td>\n",
        "      <td>...</td>\n",
        "      <td>    NaN</td>\n",
        "      <td>   NaN</td>\n",
        "      <td>  NaN</td>\n",
        "      <td>    NaN</td>\n",
        "      <td>    NaN</td>\n",
        "      <td>    NaN</td>\n",
        "      <td>   NaN</td>\n",
        "      <td>    NaN</td>\n",
        "      <td>  NaN</td>\n",
        "      <td>    NaN</td>\n",
        "    </tr>\n",
        "    <tr>\n",
        "      <th>11 </th>\n",
        "      <td>     admirer</td>\n",
        "      <td> NaN</td>\n",
        "      <td> NaN</td>\n",
        "      <td> NaN</td>\n",
        "      <td> NaN</td>\n",
        "      <td>    NaN</td>\n",
        "      <td>  NaN</td>\n",
        "      <td>  NaN</td>\n",
        "      <td>    NaN</td>\n",
        "      <td>  NaN</td>\n",
        "      <td>...</td>\n",
        "      <td>  admir</td>\n",
        "      <td>   NaN</td>\n",
        "      <td>  NaN</td>\n",
        "      <td>    NaN</td>\n",
        "      <td>    NaN</td>\n",
        "      <td>    NaN</td>\n",
        "      <td>   NaN</td>\n",
        "      <td>    NaN</td>\n",
        "      <td>  NaN</td>\n",
        "      <td>    NaN</td>\n",
        "    </tr>\n",
        "    <tr>\n",
        "      <th>12 </th>\n",
        "      <td>     adonner</td>\n",
        "      <td> NaN</td>\n",
        "      <td> NaN</td>\n",
        "      <td> NaN</td>\n",
        "      <td> NaN</td>\n",
        "      <td>    NaN</td>\n",
        "      <td>  NaN</td>\n",
        "      <td>  NaN</td>\n",
        "      <td>    NaN</td>\n",
        "      <td>  NaN</td>\n",
        "      <td>...</td>\n",
        "      <td>    NaN</td>\n",
        "      <td>   NaN</td>\n",
        "      <td>  NaN</td>\n",
        "      <td>    NaN</td>\n",
        "      <td>    NaN</td>\n",
        "      <td>    NaN</td>\n",
        "      <td>   NaN</td>\n",
        "      <td>    NaN</td>\n",
        "      <td> adOn</td>\n",
        "      <td>    NaN</td>\n",
        "    </tr>\n",
        "    <tr>\n",
        "      <th>13 </th>\n",
        "      <td>      adorer</td>\n",
        "      <td> NaN</td>\n",
        "      <td> NaN</td>\n",
        "      <td> NaN</td>\n",
        "      <td> NaN</td>\n",
        "      <td>    NaN</td>\n",
        "      <td>  NaN</td>\n",
        "      <td>  NaN</td>\n",
        "      <td>    NaN</td>\n",
        "      <td>  NaN</td>\n",
        "      <td>...</td>\n",
        "      <td>   adOr</td>\n",
        "      <td>   NaN</td>\n",
        "      <td>  NaN</td>\n",
        "      <td>    NaN</td>\n",
        "      <td>   adOr</td>\n",
        "      <td>   adOr</td>\n",
        "      <td>   NaN</td>\n",
        "      <td>    NaN</td>\n",
        "      <td>  NaN</td>\n",
        "      <td>   adOr</td>\n",
        "    </tr>\n",
        "    <tr>\n",
        "      <th>14 </th>\n",
        "      <td>    adresser</td>\n",
        "      <td> NaN</td>\n",
        "      <td> NaN</td>\n",
        "      <td> NaN</td>\n",
        "      <td> NaN</td>\n",
        "      <td>    NaN</td>\n",
        "      <td>  NaN</td>\n",
        "      <td>  NaN</td>\n",
        "      <td>    NaN</td>\n",
        "      <td>  NaN</td>\n",
        "      <td>...</td>\n",
        "      <td>    NaN</td>\n",
        "      <td>   NaN</td>\n",
        "      <td>  NaN</td>\n",
        "      <td>    NaN</td>\n",
        "      <td>    NaN</td>\n",
        "      <td>    NaN</td>\n",
        "      <td>   NaN</td>\n",
        "      <td>    NaN</td>\n",
        "      <td>  NaN</td>\n",
        "      <td>    NaN</td>\n",
        "    </tr>\n",
        "    <tr>\n",
        "      <th>15 </th>\n",
        "      <td>        agir</td>\n",
        "      <td> NaN</td>\n",
        "      <td> NaN</td>\n",
        "      <td> aZi</td>\n",
        "      <td> NaN</td>\n",
        "      <td>    NaN</td>\n",
        "      <td>  NaN</td>\n",
        "      <td>  NaN</td>\n",
        "      <td>    NaN</td>\n",
        "      <td>  NaN</td>\n",
        "      <td>...</td>\n",
        "      <td>    NaN</td>\n",
        "      <td>   NaN</td>\n",
        "      <td>  NaN</td>\n",
        "      <td>    NaN</td>\n",
        "      <td>    NaN</td>\n",
        "      <td>    NaN</td>\n",
        "      <td>   NaN</td>\n",
        "      <td>    NaN</td>\n",
        "      <td>  NaN</td>\n",
        "      <td>    NaN</td>\n",
        "    </tr>\n",
        "    <tr>\n",
        "      <th>16 </th>\n",
        "      <td>    agoniser</td>\n",
        "      <td> NaN</td>\n",
        "      <td> NaN</td>\n",
        "      <td> NaN</td>\n",
        "      <td> NaN</td>\n",
        "      <td>    NaN</td>\n",
        "      <td>  NaN</td>\n",
        "      <td>  NaN</td>\n",
        "      <td>    NaN</td>\n",
        "      <td>  NaN</td>\n",
        "      <td>...</td>\n",
        "      <td>    NaN</td>\n",
        "      <td>   NaN</td>\n",
        "      <td>  NaN</td>\n",
        "      <td>    NaN</td>\n",
        "      <td>    NaN</td>\n",
        "      <td>    NaN</td>\n",
        "      <td>   NaN</td>\n",
        "      <td>    NaN</td>\n",
        "      <td>  NaN</td>\n",
        "      <td>    NaN</td>\n",
        "    </tr>\n",
        "    <tr>\n",
        "      <th>17 </th>\n",
        "      <td>       aider</td>\n",
        "      <td> NaN</td>\n",
        "      <td> NaN</td>\n",
        "      <td> NaN</td>\n",
        "      <td> NaN</td>\n",
        "      <td>    NaN</td>\n",
        "      <td>  NaN</td>\n",
        "      <td>  NaN</td>\n",
        "      <td>    NaN</td>\n",
        "      <td>  NaN</td>\n",
        "      <td>...</td>\n",
        "      <td>     Ed</td>\n",
        "      <td>   NaN</td>\n",
        "      <td>  NaN</td>\n",
        "      <td>     Ed</td>\n",
        "      <td>     Ed</td>\n",
        "      <td>     Ed</td>\n",
        "      <td>   NaN</td>\n",
        "      <td>     Ed</td>\n",
        "      <td>  NaN</td>\n",
        "      <td>     Ed</td>\n",
        "    </tr>\n",
        "    <tr>\n",
        "      <th>18 </th>\n",
        "      <td>       aimer</td>\n",
        "      <td> NaN</td>\n",
        "      <td> NaN</td>\n",
        "      <td> NaN</td>\n",
        "      <td> NaN</td>\n",
        "      <td>    NaN</td>\n",
        "      <td>  NaN</td>\n",
        "      <td>  NaN</td>\n",
        "      <td>    NaN</td>\n",
        "      <td>  NaN</td>\n",
        "      <td>...</td>\n",
        "      <td>     Em</td>\n",
        "      <td>   Eme</td>\n",
        "      <td>   Em</td>\n",
        "      <td>    NaN</td>\n",
        "      <td>     Em</td>\n",
        "      <td>     Em</td>\n",
        "      <td>   NaN</td>\n",
        "      <td>    NaN</td>\n",
        "      <td>  NaN</td>\n",
        "      <td>     Em</td>\n",
        "    </tr>\n",
        "    <tr>\n",
        "      <th>19 </th>\n",
        "      <td>     ajouter</td>\n",
        "      <td> NaN</td>\n",
        "      <td> NaN</td>\n",
        "      <td> NaN</td>\n",
        "      <td> NaN</td>\n",
        "      <td>    NaN</td>\n",
        "      <td>  NaN</td>\n",
        "      <td>  NaN</td>\n",
        "      <td>    NaN</td>\n",
        "      <td>  NaN</td>\n",
        "      <td>...</td>\n",
        "      <td>    NaN</td>\n",
        "      <td>   NaN</td>\n",
        "      <td>  NaN</td>\n",
        "      <td>    NaN</td>\n",
        "      <td>    NaN</td>\n",
        "      <td>    NaN</td>\n",
        "      <td>   NaN</td>\n",
        "      <td>    NaN</td>\n",
        "      <td>  NaN</td>\n",
        "      <td>   aZut</td>\n",
        "    </tr>\n",
        "    <tr>\n",
        "      <th>20 </th>\n",
        "      <td>       aller</td>\n",
        "      <td> NaN</td>\n",
        "      <td> NaN</td>\n",
        "      <td> NaN</td>\n",
        "      <td> NaN</td>\n",
        "      <td>    irE</td>\n",
        "      <td>  NaN</td>\n",
        "      <td>  NaN</td>\n",
        "      <td>    NaN</td>\n",
        "      <td>  ira</td>\n",
        "      <td>...</td>\n",
        "      <td>     vE</td>\n",
        "      <td>   ale</td>\n",
        "      <td>   va</td>\n",
        "      <td>     v\u00f4</td>\n",
        "      <td>     va</td>\n",
        "      <td>     aj</td>\n",
        "      <td>   NaN</td>\n",
        "      <td>     aj</td>\n",
        "      <td>  NaN</td>\n",
        "      <td>     aj</td>\n",
        "    </tr>\n",
        "    <tr>\n",
        "      <th>21 </th>\n",
        "      <td>    allonger</td>\n",
        "      <td> NaN</td>\n",
        "      <td> NaN</td>\n",
        "      <td> NaN</td>\n",
        "      <td> NaN</td>\n",
        "      <td>    NaN</td>\n",
        "      <td>  NaN</td>\n",
        "      <td>  NaN</td>\n",
        "      <td>    NaN</td>\n",
        "      <td>  NaN</td>\n",
        "      <td>...</td>\n",
        "      <td>    NaN</td>\n",
        "      <td>   NaN</td>\n",
        "      <td>  NaN</td>\n",
        "      <td>    NaN</td>\n",
        "      <td>    NaN</td>\n",
        "      <td>   al\u00f4Z</td>\n",
        "      <td>   NaN</td>\n",
        "      <td>    NaN</td>\n",
        "      <td>  NaN</td>\n",
        "      <td>    NaN</td>\n",
        "    </tr>\n",
        "    <tr>\n",
        "      <th>22 </th>\n",
        "      <td>      amener</td>\n",
        "      <td> NaN</td>\n",
        "      <td> NaN</td>\n",
        "      <td> NaN</td>\n",
        "      <td> NaN</td>\n",
        "      <td>    NaN</td>\n",
        "      <td>  NaN</td>\n",
        "      <td>  NaN</td>\n",
        "      <td>    NaN</td>\n",
        "      <td>  NaN</td>\n",
        "      <td>...</td>\n",
        "      <td>    NaN</td>\n",
        "      <td>   NaN</td>\n",
        "      <td>  NaN</td>\n",
        "      <td>    NaN</td>\n",
        "      <td>    NaN</td>\n",
        "      <td>    NaN</td>\n",
        "      <td>   NaN</td>\n",
        "      <td>    NaN</td>\n",
        "      <td>  NaN</td>\n",
        "      <td>    NaN</td>\n",
        "    </tr>\n",
        "    <tr>\n",
        "      <th>23 </th>\n",
        "      <td>      amuser</td>\n",
        "      <td> NaN</td>\n",
        "      <td> NaN</td>\n",
        "      <td> NaN</td>\n",
        "      <td> NaN</td>\n",
        "      <td>    NaN</td>\n",
        "      <td>  NaN</td>\n",
        "      <td>  NaN</td>\n",
        "      <td>    NaN</td>\n",
        "      <td>  NaN</td>\n",
        "      <td>...</td>\n",
        "      <td>   amyz</td>\n",
        "      <td>   NaN</td>\n",
        "      <td>  NaN</td>\n",
        "      <td>    NaN</td>\n",
        "      <td>    NaN</td>\n",
        "      <td>    NaN</td>\n",
        "      <td>   NaN</td>\n",
        "      <td>    NaN</td>\n",
        "      <td>  NaN</td>\n",
        "      <td>   amyz</td>\n",
        "    </tr>\n",
        "    <tr>\n",
        "      <th>24 </th>\n",
        "      <td>   angoisser</td>\n",
        "      <td> NaN</td>\n",
        "      <td> NaN</td>\n",
        "      <td> NaN</td>\n",
        "      <td> NaN</td>\n",
        "      <td>    NaN</td>\n",
        "      <td>  NaN</td>\n",
        "      <td>  NaN</td>\n",
        "      <td>    NaN</td>\n",
        "      <td>  NaN</td>\n",
        "      <td>...</td>\n",
        "      <td>    NaN</td>\n",
        "      <td>   NaN</td>\n",
        "      <td>  NaN</td>\n",
        "      <td>    NaN</td>\n",
        "      <td>    NaN</td>\n",
        "      <td>    NaN</td>\n",
        "      <td>   NaN</td>\n",
        "      <td>    NaN</td>\n",
        "      <td>  NaN</td>\n",
        "      <td>    NaN</td>\n",
        "    </tr>\n",
        "    <tr>\n",
        "      <th>25 </th>\n",
        "      <td>    annoncer</td>\n",
        "      <td> NaN</td>\n",
        "      <td> NaN</td>\n",
        "      <td> NaN</td>\n",
        "      <td> NaN</td>\n",
        "      <td>    NaN</td>\n",
        "      <td>  NaN</td>\n",
        "      <td>  NaN</td>\n",
        "      <td>    NaN</td>\n",
        "      <td>  NaN</td>\n",
        "      <td>...</td>\n",
        "      <td>    NaN</td>\n",
        "      <td>   NaN</td>\n",
        "      <td>  NaN</td>\n",
        "      <td>    NaN</td>\n",
        "      <td>    NaN</td>\n",
        "      <td>    NaN</td>\n",
        "      <td>   NaN</td>\n",
        "      <td>    NaN</td>\n",
        "      <td>  NaN</td>\n",
        "      <td>    NaN</td>\n",
        "    </tr>\n",
        "    <tr>\n",
        "      <th>26 </th>\n",
        "      <td>     annuler</td>\n",
        "      <td> NaN</td>\n",
        "      <td> NaN</td>\n",
        "      <td> NaN</td>\n",
        "      <td> NaN</td>\n",
        "      <td>    NaN</td>\n",
        "      <td>  NaN</td>\n",
        "      <td>  NaN</td>\n",
        "      <td>    NaN</td>\n",
        "      <td>  NaN</td>\n",
        "      <td>...</td>\n",
        "      <td>    NaN</td>\n",
        "      <td>   NaN</td>\n",
        "      <td>  NaN</td>\n",
        "      <td>    NaN</td>\n",
        "      <td>   anyl</td>\n",
        "      <td>    NaN</td>\n",
        "      <td>   NaN</td>\n",
        "      <td>    NaN</td>\n",
        "      <td>  NaN</td>\n",
        "      <td>    NaN</td>\n",
        "    </tr>\n",
        "    <tr>\n",
        "      <th>27 </th>\n",
        "      <td>  appara\u00eetre</td>\n",
        "      <td> NaN</td>\n",
        "      <td> NaN</td>\n",
        "      <td> NaN</td>\n",
        "      <td> NaN</td>\n",
        "      <td>    NaN</td>\n",
        "      <td>  NaN</td>\n",
        "      <td>  NaN</td>\n",
        "      <td>    NaN</td>\n",
        "      <td>  NaN</td>\n",
        "      <td>...</td>\n",
        "      <td>    NaN</td>\n",
        "      <td>   NaN</td>\n",
        "      <td>  NaN</td>\n",
        "      <td>    NaN</td>\n",
        "      <td>    NaN</td>\n",
        "      <td>    NaN</td>\n",
        "      <td>   NaN</td>\n",
        "      <td>    NaN</td>\n",
        "      <td>  NaN</td>\n",
        "      <td>    NaN</td>\n",
        "    </tr>\n",
        "    <tr>\n",
        "      <th>28 </th>\n",
        "      <td>  appartenir</td>\n",
        "      <td> NaN</td>\n",
        "      <td> NaN</td>\n",
        "      <td> NaN</td>\n",
        "      <td> NaN</td>\n",
        "      <td>    NaN</td>\n",
        "      <td>  NaN</td>\n",
        "      <td>  NaN</td>\n",
        "      <td>    NaN</td>\n",
        "      <td>  NaN</td>\n",
        "      <td>...</td>\n",
        "      <td>    NaN</td>\n",
        "      <td>   NaN</td>\n",
        "      <td>  NaN</td>\n",
        "      <td>    NaN</td>\n",
        "      <td>    NaN</td>\n",
        "      <td>    NaN</td>\n",
        "      <td>   NaN</td>\n",
        "      <td>    NaN</td>\n",
        "      <td>  NaN</td>\n",
        "      <td>    NaN</td>\n",
        "    </tr>\n",
        "    <tr>\n",
        "      <th>29 </th>\n",
        "      <td>     appeler</td>\n",
        "      <td> NaN</td>\n",
        "      <td> NaN</td>\n",
        "      <td> NaN</td>\n",
        "      <td> NaN</td>\n",
        "      <td>    NaN</td>\n",
        "      <td>  NaN</td>\n",
        "      <td>  NaN</td>\n",
        "      <td>    NaN</td>\n",
        "      <td>  NaN</td>\n",
        "      <td>...</td>\n",
        "      <td>   apEl</td>\n",
        "      <td> ap6le</td>\n",
        "      <td> apEl</td>\n",
        "      <td>    NaN</td>\n",
        "      <td>   apEl</td>\n",
        "      <td>   apEl</td>\n",
        "      <td>   NaN</td>\n",
        "      <td>    NaN</td>\n",
        "      <td>  NaN</td>\n",
        "      <td>   apEl</td>\n",
        "    </tr>\n",
        "    <tr>\n",
        "      <th>...</th>\n",
        "      <td>...</td>\n",
        "      <td>...</td>\n",
        "      <td>...</td>\n",
        "      <td>...</td>\n",
        "      <td>...</td>\n",
        "      <td>...</td>\n",
        "      <td>...</td>\n",
        "      <td>...</td>\n",
        "      <td>...</td>\n",
        "      <td>...</td>\n",
        "      <td>...</td>\n",
        "      <td>...</td>\n",
        "      <td>...</td>\n",
        "      <td>...</td>\n",
        "      <td>...</td>\n",
        "      <td>...</td>\n",
        "      <td>...</td>\n",
        "      <td>...</td>\n",
        "      <td>...</td>\n",
        "      <td>...</td>\n",
        "      <td>...</td>\n",
        "    </tr>\n",
        "    <tr>\n",
        "      <th>472</th>\n",
        "      <td>      vendre</td>\n",
        "      <td> NaN</td>\n",
        "      <td> NaN</td>\n",
        "      <td> NaN</td>\n",
        "      <td> NaN</td>\n",
        "      <td>    NaN</td>\n",
        "      <td>  NaN</td>\n",
        "      <td>  NaN</td>\n",
        "      <td>    NaN</td>\n",
        "      <td>  NaN</td>\n",
        "      <td>...</td>\n",
        "      <td>    NaN</td>\n",
        "      <td>   NaN</td>\n",
        "      <td>  NaN</td>\n",
        "      <td>    NaN</td>\n",
        "      <td>     v\u00e2</td>\n",
        "      <td>    NaN</td>\n",
        "      <td>   NaN</td>\n",
        "      <td>    NaN</td>\n",
        "      <td>  NaN</td>\n",
        "      <td>    NaN</td>\n",
        "    </tr>\n",
        "    <tr>\n",
        "      <th>473</th>\n",
        "      <td>      venger</td>\n",
        "      <td> NaN</td>\n",
        "      <td> NaN</td>\n",
        "      <td> NaN</td>\n",
        "      <td> NaN</td>\n",
        "      <td>    NaN</td>\n",
        "      <td>  NaN</td>\n",
        "      <td>  NaN</td>\n",
        "      <td>    NaN</td>\n",
        "      <td>  NaN</td>\n",
        "      <td>...</td>\n",
        "      <td>    NaN</td>\n",
        "      <td>   NaN</td>\n",
        "      <td>  NaN</td>\n",
        "      <td>    NaN</td>\n",
        "      <td>    NaN</td>\n",
        "      <td>    NaN</td>\n",
        "      <td>   NaN</td>\n",
        "      <td>    NaN</td>\n",
        "      <td>  NaN</td>\n",
        "      <td>    NaN</td>\n",
        "    </tr>\n",
        "    <tr>\n",
        "      <th>474</th>\n",
        "      <td>       venir</td>\n",
        "      <td> NaN</td>\n",
        "      <td> NaN</td>\n",
        "      <td> NaN</td>\n",
        "      <td> NaN</td>\n",
        "      <td> vj\u00eadrE</td>\n",
        "      <td>  NaN</td>\n",
        "      <td>  NaN</td>\n",
        "      <td> vj\u00eadr\u00f4</td>\n",
        "      <td>  NaN</td>\n",
        "      <td>...</td>\n",
        "      <td>    vj\u00ea</td>\n",
        "      <td>  v6ne</td>\n",
        "      <td>  vj\u00ea</td>\n",
        "      <td>    NaN</td>\n",
        "      <td>    vj\u00ea</td>\n",
        "      <td>   vjEn</td>\n",
        "      <td>   NaN</td>\n",
        "      <td>    NaN</td>\n",
        "      <td> vjEn</td>\n",
        "      <td>    NaN</td>\n",
        "    </tr>\n",
        "    <tr>\n",
        "      <th>475</th>\n",
        "      <td>       virer</td>\n",
        "      <td> NaN</td>\n",
        "      <td> NaN</td>\n",
        "      <td> NaN</td>\n",
        "      <td> NaN</td>\n",
        "      <td>    NaN</td>\n",
        "      <td>  NaN</td>\n",
        "      <td>  NaN</td>\n",
        "      <td>    NaN</td>\n",
        "      <td>  NaN</td>\n",
        "      <td>...</td>\n",
        "      <td>    NaN</td>\n",
        "      <td>   NaN</td>\n",
        "      <td>  NaN</td>\n",
        "      <td>    NaN</td>\n",
        "      <td>    NaN</td>\n",
        "      <td>    vir</td>\n",
        "      <td>   NaN</td>\n",
        "      <td>    NaN</td>\n",
        "      <td>  NaN</td>\n",
        "      <td>    NaN</td>\n",
        "    </tr>\n",
        "    <tr>\n",
        "      <th>476</th>\n",
        "      <td>       viser</td>\n",
        "      <td> NaN</td>\n",
        "      <td> NaN</td>\n",
        "      <td> NaN</td>\n",
        "      <td> NaN</td>\n",
        "      <td>    NaN</td>\n",
        "      <td>  NaN</td>\n",
        "      <td>  NaN</td>\n",
        "      <td>    NaN</td>\n",
        "      <td>  NaN</td>\n",
        "      <td>...</td>\n",
        "      <td>    NaN</td>\n",
        "      <td>   NaN</td>\n",
        "      <td>  NaN</td>\n",
        "      <td>    NaN</td>\n",
        "      <td>    NaN</td>\n",
        "      <td>    NaN</td>\n",
        "      <td>   NaN</td>\n",
        "      <td>    NaN</td>\n",
        "      <td>  NaN</td>\n",
        "      <td>    viz</td>\n",
        "    </tr>\n",
        "    <tr>\n",
        "      <th>477</th>\n",
        "      <td>       vivre</td>\n",
        "      <td> NaN</td>\n",
        "      <td> NaN</td>\n",
        "      <td> NaN</td>\n",
        "      <td> NaN</td>\n",
        "      <td>    NaN</td>\n",
        "      <td>  NaN</td>\n",
        "      <td>  NaN</td>\n",
        "      <td>    NaN</td>\n",
        "      <td>  NaN</td>\n",
        "      <td>...</td>\n",
        "      <td>    NaN</td>\n",
        "      <td>  vive</td>\n",
        "      <td>   vi</td>\n",
        "      <td>    NaN</td>\n",
        "      <td>    NaN</td>\n",
        "      <td>    NaN</td>\n",
        "      <td>   NaN</td>\n",
        "      <td>    viv</td>\n",
        "      <td>  viv</td>\n",
        "      <td>    NaN</td>\n",
        "    </tr>\n",
        "    <tr>\n",
        "      <th>478</th>\n",
        "      <td>        voir</td>\n",
        "      <td> NaN</td>\n",
        "      <td> NaN</td>\n",
        "      <td> NaN</td>\n",
        "      <td> NaN</td>\n",
        "      <td>    NaN</td>\n",
        "      <td> vEre</td>\n",
        "      <td>  NaN</td>\n",
        "      <td>    NaN</td>\n",
        "      <td>  NaN</td>\n",
        "      <td>...</td>\n",
        "      <td>    vwa</td>\n",
        "      <td> vwaje</td>\n",
        "      <td>  vwa</td>\n",
        "      <td>    NaN</td>\n",
        "      <td>    vwa</td>\n",
        "      <td>    NaN</td>\n",
        "      <td>   NaN</td>\n",
        "      <td>    NaN</td>\n",
        "      <td>  NaN</td>\n",
        "      <td>    vwa</td>\n",
        "    </tr>\n",
        "    <tr>\n",
        "      <th>479</th>\n",
        "      <td>       voler</td>\n",
        "      <td> NaN</td>\n",
        "      <td> NaN</td>\n",
        "      <td> NaN</td>\n",
        "      <td> NaN</td>\n",
        "      <td>    NaN</td>\n",
        "      <td>  NaN</td>\n",
        "      <td>  NaN</td>\n",
        "      <td>    NaN</td>\n",
        "      <td>  NaN</td>\n",
        "      <td>...</td>\n",
        "      <td>    NaN</td>\n",
        "      <td>   NaN</td>\n",
        "      <td>  NaN</td>\n",
        "      <td>    NaN</td>\n",
        "      <td>    vOl</td>\n",
        "      <td>    NaN</td>\n",
        "      <td>   NaN</td>\n",
        "      <td>    NaN</td>\n",
        "      <td>  NaN</td>\n",
        "      <td>    vOl</td>\n",
        "    </tr>\n",
        "    <tr>\n",
        "      <th>480</th>\n",
        "      <td>     vouloir</td>\n",
        "      <td> NaN</td>\n",
        "      <td> NaN</td>\n",
        "      <td> NaN</td>\n",
        "      <td> NaN</td>\n",
        "      <td>    NaN</td>\n",
        "      <td>  NaN</td>\n",
        "      <td>  NaN</td>\n",
        "      <td>    NaN</td>\n",
        "      <td>  NaN</td>\n",
        "      <td>...</td>\n",
        "      <td>     v2</td>\n",
        "      <td>  vule</td>\n",
        "      <td>   v2</td>\n",
        "      <td>    v9l</td>\n",
        "      <td>     v2</td>\n",
        "      <td>    NaN</td>\n",
        "      <td>   NaN</td>\n",
        "      <td>    NaN</td>\n",
        "      <td>  NaN</td>\n",
        "      <td>    v9j</td>\n",
        "    </tr>\n",
        "    <tr>\n",
        "      <th>481</th>\n",
        "      <td>     voyager</td>\n",
        "      <td> NaN</td>\n",
        "      <td> NaN</td>\n",
        "      <td> NaN</td>\n",
        "      <td> NaN</td>\n",
        "      <td>    NaN</td>\n",
        "      <td>  NaN</td>\n",
        "      <td>  NaN</td>\n",
        "      <td>    NaN</td>\n",
        "      <td>  NaN</td>\n",
        "      <td>...</td>\n",
        "      <td>    NaN</td>\n",
        "      <td>   NaN</td>\n",
        "      <td>  NaN</td>\n",
        "      <td> vwajaZ</td>\n",
        "      <td>    NaN</td>\n",
        "      <td>    NaN</td>\n",
        "      <td>   NaN</td>\n",
        "      <td>    NaN</td>\n",
        "      <td>  NaN</td>\n",
        "      <td>    NaN</td>\n",
        "    </tr>\n",
        "    <tr>\n",
        "      <th>482</th>\n",
        "      <td>    v\u00e9rifier</td>\n",
        "      <td> NaN</td>\n",
        "      <td> NaN</td>\n",
        "      <td> NaN</td>\n",
        "      <td> NaN</td>\n",
        "      <td>    NaN</td>\n",
        "      <td>  NaN</td>\n",
        "      <td>  NaN</td>\n",
        "      <td>    NaN</td>\n",
        "      <td>  NaN</td>\n",
        "      <td>...</td>\n",
        "      <td>    NaN</td>\n",
        "      <td>   NaN</td>\n",
        "      <td>  NaN</td>\n",
        "      <td>    NaN</td>\n",
        "      <td>    NaN</td>\n",
        "      <td>    NaN</td>\n",
        "      <td>   NaN</td>\n",
        "      <td>    NaN</td>\n",
        "      <td>  NaN</td>\n",
        "      <td>    NaN</td>\n",
        "    </tr>\n",
        "    <tr>\n",
        "      <th>483</th>\n",
        "      <td>    \u00e9chapper</td>\n",
        "      <td> NaN</td>\n",
        "      <td> NaN</td>\n",
        "      <td> NaN</td>\n",
        "      <td> NaN</td>\n",
        "      <td>    NaN</td>\n",
        "      <td>  NaN</td>\n",
        "      <td>  NaN</td>\n",
        "      <td>    NaN</td>\n",
        "      <td>  NaN</td>\n",
        "      <td>...</td>\n",
        "      <td>    NaN</td>\n",
        "      <td>   NaN</td>\n",
        "      <td>  NaN</td>\n",
        "      <td>    NaN</td>\n",
        "      <td>    NaN</td>\n",
        "      <td>    NaN</td>\n",
        "      <td>   NaN</td>\n",
        "      <td>    NaN</td>\n",
        "      <td>  NaN</td>\n",
        "      <td>    NaN</td>\n",
        "    </tr>\n",
        "    <tr>\n",
        "      <th>484</th>\n",
        "      <td>     \u00e9chouer</td>\n",
        "      <td> NaN</td>\n",
        "      <td> NaN</td>\n",
        "      <td> NaN</td>\n",
        "      <td> NaN</td>\n",
        "      <td>    NaN</td>\n",
        "      <td>  NaN</td>\n",
        "      <td>  NaN</td>\n",
        "      <td>    NaN</td>\n",
        "      <td>  NaN</td>\n",
        "      <td>...</td>\n",
        "      <td>    ESu</td>\n",
        "      <td>   NaN</td>\n",
        "      <td>  NaN</td>\n",
        "      <td>    NaN</td>\n",
        "      <td>    NaN</td>\n",
        "      <td>    ESu</td>\n",
        "      <td>   NaN</td>\n",
        "      <td>    NaN</td>\n",
        "      <td>  NaN</td>\n",
        "      <td>    NaN</td>\n",
        "    </tr>\n",
        "    <tr>\n",
        "      <th>485</th>\n",
        "      <td>    \u00e9clairer</td>\n",
        "      <td> NaN</td>\n",
        "      <td> NaN</td>\n",
        "      <td> NaN</td>\n",
        "      <td> NaN</td>\n",
        "      <td>    NaN</td>\n",
        "      <td>  NaN</td>\n",
        "      <td>  NaN</td>\n",
        "      <td>    NaN</td>\n",
        "      <td>  NaN</td>\n",
        "      <td>...</td>\n",
        "      <td>    NaN</td>\n",
        "      <td>   NaN</td>\n",
        "      <td>  NaN</td>\n",
        "      <td>    NaN</td>\n",
        "      <td>    NaN</td>\n",
        "      <td>  EklEr</td>\n",
        "      <td>   NaN</td>\n",
        "      <td>    NaN</td>\n",
        "      <td>  NaN</td>\n",
        "      <td>    NaN</td>\n",
        "    </tr>\n",
        "    <tr>\n",
        "      <th>486</th>\n",
        "      <td>     \u00e9clater</td>\n",
        "      <td> NaN</td>\n",
        "      <td> NaN</td>\n",
        "      <td> NaN</td>\n",
        "      <td> NaN</td>\n",
        "      <td>    NaN</td>\n",
        "      <td>  NaN</td>\n",
        "      <td>  NaN</td>\n",
        "      <td>    NaN</td>\n",
        "      <td>  NaN</td>\n",
        "      <td>...</td>\n",
        "      <td>    NaN</td>\n",
        "      <td>   NaN</td>\n",
        "      <td>  NaN</td>\n",
        "      <td>    NaN</td>\n",
        "      <td>    NaN</td>\n",
        "      <td>  Eklat</td>\n",
        "      <td>   NaN</td>\n",
        "      <td>    NaN</td>\n",
        "      <td>  NaN</td>\n",
        "      <td>    NaN</td>\n",
        "    </tr>\n",
        "    <tr>\n",
        "      <th>487</th>\n",
        "      <td>     \u00e9couter</td>\n",
        "      <td> NaN</td>\n",
        "      <td> NaN</td>\n",
        "      <td> NaN</td>\n",
        "      <td> NaN</td>\n",
        "      <td>    NaN</td>\n",
        "      <td>  NaN</td>\n",
        "      <td>  NaN</td>\n",
        "      <td>    NaN</td>\n",
        "      <td>  NaN</td>\n",
        "      <td>...</td>\n",
        "      <td>   Ekut</td>\n",
        "      <td>   NaN</td>\n",
        "      <td>  NaN</td>\n",
        "      <td>    NaN</td>\n",
        "      <td>   Ekut</td>\n",
        "      <td>   Ekut</td>\n",
        "      <td>   NaN</td>\n",
        "      <td>    NaN</td>\n",
        "      <td>  NaN</td>\n",
        "      <td>    NaN</td>\n",
        "    </tr>\n",
        "    <tr>\n",
        "      <th>488</th>\n",
        "      <td>     \u00e9craser</td>\n",
        "      <td> NaN</td>\n",
        "      <td> NaN</td>\n",
        "      <td> NaN</td>\n",
        "      <td> NaN</td>\n",
        "      <td>    NaN</td>\n",
        "      <td>  NaN</td>\n",
        "      <td>  NaN</td>\n",
        "      <td>    NaN</td>\n",
        "      <td>  NaN</td>\n",
        "      <td>...</td>\n",
        "      <td>    NaN</td>\n",
        "      <td>   NaN</td>\n",
        "      <td>  NaN</td>\n",
        "      <td>    NaN</td>\n",
        "      <td>    NaN</td>\n",
        "      <td>    NaN</td>\n",
        "      <td>   NaN</td>\n",
        "      <td>    NaN</td>\n",
        "      <td>  NaN</td>\n",
        "      <td>  Ekraz</td>\n",
        "    </tr>\n",
        "    <tr>\n",
        "      <th>489</th>\n",
        "      <td>      \u00e9crire</td>\n",
        "      <td> NaN</td>\n",
        "      <td> NaN</td>\n",
        "      <td> NaN</td>\n",
        "      <td> NaN</td>\n",
        "      <td>    NaN</td>\n",
        "      <td>  NaN</td>\n",
        "      <td>  NaN</td>\n",
        "      <td>    NaN</td>\n",
        "      <td>  NaN</td>\n",
        "      <td>...</td>\n",
        "      <td>    NaN</td>\n",
        "      <td>   NaN</td>\n",
        "      <td> Ekri</td>\n",
        "      <td>    NaN</td>\n",
        "      <td>   Ekri</td>\n",
        "      <td>    NaN</td>\n",
        "      <td>   NaN</td>\n",
        "      <td>    NaN</td>\n",
        "      <td>  NaN</td>\n",
        "      <td>    NaN</td>\n",
        "    </tr>\n",
        "    <tr>\n",
        "      <th>490</th>\n",
        "      <td>    \u00e9loigner</td>\n",
        "      <td> NaN</td>\n",
        "      <td> NaN</td>\n",
        "      <td> NaN</td>\n",
        "      <td> NaN</td>\n",
        "      <td>    NaN</td>\n",
        "      <td>  NaN</td>\n",
        "      <td>  NaN</td>\n",
        "      <td>    NaN</td>\n",
        "      <td>  NaN</td>\n",
        "      <td>...</td>\n",
        "      <td>    NaN</td>\n",
        "      <td>   NaN</td>\n",
        "      <td>  NaN</td>\n",
        "      <td>    NaN</td>\n",
        "      <td>    NaN</td>\n",
        "      <td>    NaN</td>\n",
        "      <td>   NaN</td>\n",
        "      <td>    NaN</td>\n",
        "      <td>  NaN</td>\n",
        "      <td>    NaN</td>\n",
        "    </tr>\n",
        "    <tr>\n",
        "      <th>491</th>\n",
        "      <td>     \u00e9nerver</td>\n",
        "      <td> NaN</td>\n",
        "      <td> NaN</td>\n",
        "      <td> NaN</td>\n",
        "      <td> NaN</td>\n",
        "      <td>    NaN</td>\n",
        "      <td>  NaN</td>\n",
        "      <td>  NaN</td>\n",
        "      <td>    NaN</td>\n",
        "      <td>  NaN</td>\n",
        "      <td>...</td>\n",
        "      <td>    NaN</td>\n",
        "      <td>   NaN</td>\n",
        "      <td>  NaN</td>\n",
        "      <td>    NaN</td>\n",
        "      <td>  EnErv</td>\n",
        "      <td>  EnErv</td>\n",
        "      <td>   NaN</td>\n",
        "      <td>    NaN</td>\n",
        "      <td>  NaN</td>\n",
        "      <td>    NaN</td>\n",
        "    </tr>\n",
        "    <tr>\n",
        "      <th>492</th>\n",
        "      <td>    \u00e9pingler</td>\n",
        "      <td> NaN</td>\n",
        "      <td> NaN</td>\n",
        "      <td> NaN</td>\n",
        "      <td> NaN</td>\n",
        "      <td>    NaN</td>\n",
        "      <td>  NaN</td>\n",
        "      <td>  NaN</td>\n",
        "      <td>    NaN</td>\n",
        "      <td>  NaN</td>\n",
        "      <td>...</td>\n",
        "      <td>    NaN</td>\n",
        "      <td>   NaN</td>\n",
        "      <td>  NaN</td>\n",
        "      <td>    NaN</td>\n",
        "      <td>    NaN</td>\n",
        "      <td>    NaN</td>\n",
        "      <td>   NaN</td>\n",
        "      <td>    NaN</td>\n",
        "      <td>  NaN</td>\n",
        "      <td>    NaN</td>\n",
        "    </tr>\n",
        "    <tr>\n",
        "      <th>493</th>\n",
        "      <td>     \u00e9pouser</td>\n",
        "      <td> NaN</td>\n",
        "      <td> NaN</td>\n",
        "      <td> NaN</td>\n",
        "      <td> NaN</td>\n",
        "      <td>    NaN</td>\n",
        "      <td>  NaN</td>\n",
        "      <td>  NaN</td>\n",
        "      <td>    NaN</td>\n",
        "      <td>  NaN</td>\n",
        "      <td>...</td>\n",
        "      <td>    NaN</td>\n",
        "      <td>   NaN</td>\n",
        "      <td>  NaN</td>\n",
        "      <td>    NaN</td>\n",
        "      <td>    NaN</td>\n",
        "      <td>    NaN</td>\n",
        "      <td>   NaN</td>\n",
        "      <td>    NaN</td>\n",
        "      <td>  NaN</td>\n",
        "      <td>    NaN</td>\n",
        "    </tr>\n",
        "    <tr>\n",
        "      <th>494</th>\n",
        "      <td>    \u00e9prouver</td>\n",
        "      <td> NaN</td>\n",
        "      <td> NaN</td>\n",
        "      <td> NaN</td>\n",
        "      <td> NaN</td>\n",
        "      <td>    NaN</td>\n",
        "      <td>  NaN</td>\n",
        "      <td>  NaN</td>\n",
        "      <td>    NaN</td>\n",
        "      <td>  NaN</td>\n",
        "      <td>...</td>\n",
        "      <td>    NaN</td>\n",
        "      <td>   NaN</td>\n",
        "      <td>  NaN</td>\n",
        "      <td>    NaN</td>\n",
        "      <td>  Epruv</td>\n",
        "      <td>    NaN</td>\n",
        "      <td>   NaN</td>\n",
        "      <td>    NaN</td>\n",
        "      <td>  NaN</td>\n",
        "      <td>    NaN</td>\n",
        "    </tr>\n",
        "    <tr>\n",
        "      <th>495</th>\n",
        "      <td>    \u00e9teindre</td>\n",
        "      <td> NaN</td>\n",
        "      <td> NaN</td>\n",
        "      <td> NaN</td>\n",
        "      <td> NaN</td>\n",
        "      <td>    NaN</td>\n",
        "      <td>  NaN</td>\n",
        "      <td>  NaN</td>\n",
        "      <td>    NaN</td>\n",
        "      <td>  NaN</td>\n",
        "      <td>...</td>\n",
        "      <td>    NaN</td>\n",
        "      <td>   NaN</td>\n",
        "      <td>  NaN</td>\n",
        "      <td>    NaN</td>\n",
        "      <td>    NaN</td>\n",
        "      <td>    NaN</td>\n",
        "      <td>   NaN</td>\n",
        "      <td>    NaN</td>\n",
        "      <td>  NaN</td>\n",
        "      <td>    NaN</td>\n",
        "    </tr>\n",
        "    <tr>\n",
        "      <th>496</th>\n",
        "      <td>    \u00e9ternuer</td>\n",
        "      <td> NaN</td>\n",
        "      <td> NaN</td>\n",
        "      <td> NaN</td>\n",
        "      <td> NaN</td>\n",
        "      <td>    NaN</td>\n",
        "      <td>  NaN</td>\n",
        "      <td>  NaN</td>\n",
        "      <td>    NaN</td>\n",
        "      <td>  NaN</td>\n",
        "      <td>...</td>\n",
        "      <td>    NaN</td>\n",
        "      <td>   NaN</td>\n",
        "      <td>  NaN</td>\n",
        "      <td>    NaN</td>\n",
        "      <td>    NaN</td>\n",
        "      <td>    NaN</td>\n",
        "      <td>   NaN</td>\n",
        "      <td> EtErny</td>\n",
        "      <td>  NaN</td>\n",
        "      <td>    NaN</td>\n",
        "    </tr>\n",
        "    <tr>\n",
        "      <th>497</th>\n",
        "      <td>     \u00e9tonner</td>\n",
        "      <td> NaN</td>\n",
        "      <td> NaN</td>\n",
        "      <td> NaN</td>\n",
        "      <td> NaN</td>\n",
        "      <td>    NaN</td>\n",
        "      <td>  NaN</td>\n",
        "      <td>  NaN</td>\n",
        "      <td>    NaN</td>\n",
        "      <td>  NaN</td>\n",
        "      <td>...</td>\n",
        "      <td>    NaN</td>\n",
        "      <td>   NaN</td>\n",
        "      <td>  NaN</td>\n",
        "      <td>    NaN</td>\n",
        "      <td>    NaN</td>\n",
        "      <td>    NaN</td>\n",
        "      <td>   NaN</td>\n",
        "      <td>    NaN</td>\n",
        "      <td>  NaN</td>\n",
        "      <td>    NaN</td>\n",
        "    </tr>\n",
        "    <tr>\n",
        "      <th>498</th>\n",
        "      <td>    \u00e9touffer</td>\n",
        "      <td> NaN</td>\n",
        "      <td> NaN</td>\n",
        "      <td> NaN</td>\n",
        "      <td> NaN</td>\n",
        "      <td>    NaN</td>\n",
        "      <td>  NaN</td>\n",
        "      <td>  NaN</td>\n",
        "      <td>    NaN</td>\n",
        "      <td>  NaN</td>\n",
        "      <td>...</td>\n",
        "      <td>    NaN</td>\n",
        "      <td>   NaN</td>\n",
        "      <td>  NaN</td>\n",
        "      <td>    NaN</td>\n",
        "      <td>    NaN</td>\n",
        "      <td>    NaN</td>\n",
        "      <td>   NaN</td>\n",
        "      <td>    NaN</td>\n",
        "      <td>  NaN</td>\n",
        "      <td>    NaN</td>\n",
        "    </tr>\n",
        "    <tr>\n",
        "      <th>499</th>\n",
        "      <td>   \u00e9trangler</td>\n",
        "      <td> NaN</td>\n",
        "      <td> NaN</td>\n",
        "      <td> NaN</td>\n",
        "      <td> NaN</td>\n",
        "      <td>    NaN</td>\n",
        "      <td>  NaN</td>\n",
        "      <td>  NaN</td>\n",
        "      <td>    NaN</td>\n",
        "      <td>  NaN</td>\n",
        "      <td>...</td>\n",
        "      <td>    NaN</td>\n",
        "      <td>   NaN</td>\n",
        "      <td>  NaN</td>\n",
        "      <td>    NaN</td>\n",
        "      <td>    NaN</td>\n",
        "      <td> Etr\u00e2gl</td>\n",
        "      <td>   NaN</td>\n",
        "      <td>    NaN</td>\n",
        "      <td>  NaN</td>\n",
        "      <td>    NaN</td>\n",
        "    </tr>\n",
        "    <tr>\n",
        "      <th>500</th>\n",
        "      <td>      \u00e9viter</td>\n",
        "      <td> NaN</td>\n",
        "      <td> NaN</td>\n",
        "      <td> NaN</td>\n",
        "      <td> NaN</td>\n",
        "      <td>    NaN</td>\n",
        "      <td>  NaN</td>\n",
        "      <td>  NaN</td>\n",
        "      <td>    NaN</td>\n",
        "      <td>  NaN</td>\n",
        "      <td>...</td>\n",
        "      <td>   Evit</td>\n",
        "      <td>   NaN</td>\n",
        "      <td>  NaN</td>\n",
        "      <td>    NaN</td>\n",
        "      <td>    NaN</td>\n",
        "      <td>    NaN</td>\n",
        "      <td>   NaN</td>\n",
        "      <td>    NaN</td>\n",
        "      <td>  NaN</td>\n",
        "      <td>    NaN</td>\n",
        "    </tr>\n",
        "    <tr>\n",
        "      <th>501</th>\n",
        "      <td>        \u00eatre</td>\n",
        "      <td> NaN</td>\n",
        "      <td> NaN</td>\n",
        "      <td> NaN</td>\n",
        "      <td> NaN</td>\n",
        "      <td>   s6rE</td>\n",
        "      <td> s6re</td>\n",
        "      <td> s6ra</td>\n",
        "      <td>    NaN</td>\n",
        "      <td> s6ra</td>\n",
        "      <td>...</td>\n",
        "      <td>    sHi</td>\n",
        "      <td>    Et</td>\n",
        "      <td>    E</td>\n",
        "      <td>     s\u00f4</td>\n",
        "      <td>      E</td>\n",
        "      <td>    swa</td>\n",
        "      <td> swaje</td>\n",
        "      <td>    swa</td>\n",
        "      <td>  swa</td>\n",
        "      <td>    swa</td>\n",
        "    </tr>\n",
        "  </tbody>\n",
        "</table>\n",
        "<p>502 rows \u00d7 39 columns</p>\n",
        "</div>"
       ],
       "metadata": {},
       "output_type": "pyout",
       "prompt_number": 27,
       "text": [
        "case       lexeme ai1S ai2S ai3S fi1P    fi1S  fi2P  fi2S    fi3P  fi3S  \\\n",
        "0      abandonner  NaN  NaN  NaN  NaN     NaN   NaN   NaN     NaN   NaN   \n",
        "1         abattre  NaN  NaN  NaN  NaN     NaN   NaN   NaN     NaN   NaN   \n",
        "2         aborder  NaN  NaN  NaN  NaN     NaN   NaN   NaN     NaN   NaN   \n",
        "3          ab\u00eemer  NaN  NaN  NaN  NaN     NaN   NaN   NaN     NaN   NaN   \n",
        "4        accabler  NaN  NaN  NaN  NaN     NaN   NaN   NaN     NaN   NaN   \n",
        "5        accepter  NaN  NaN  NaN  NaN     NaN   NaN   NaN     NaN   NaN   \n",
        "6     accompagner  NaN  NaN  NaN  NaN     NaN   NaN   NaN     NaN   NaN   \n",
        "7        accorder  NaN  NaN  NaN  NaN     NaN   NaN   NaN     NaN   NaN   \n",
        "8         accuser  NaN  NaN  NaN  NaN     NaN   NaN   NaN     NaN   NaN   \n",
        "9         acheter  NaN  NaN  NaN  NaN     NaN   NaN   NaN     NaN   NaN   \n",
        "10        achever  NaN  NaN  NaN  NaN     NaN   NaN   NaN     NaN   NaN   \n",
        "11        admirer  NaN  NaN  NaN  NaN     NaN   NaN   NaN     NaN   NaN   \n",
        "12        adonner  NaN  NaN  NaN  NaN     NaN   NaN   NaN     NaN   NaN   \n",
        "13         adorer  NaN  NaN  NaN  NaN     NaN   NaN   NaN     NaN   NaN   \n",
        "14       adresser  NaN  NaN  NaN  NaN     NaN   NaN   NaN     NaN   NaN   \n",
        "15           agir  NaN  NaN  aZi  NaN     NaN   NaN   NaN     NaN   NaN   \n",
        "16       agoniser  NaN  NaN  NaN  NaN     NaN   NaN   NaN     NaN   NaN   \n",
        "17          aider  NaN  NaN  NaN  NaN     NaN   NaN   NaN     NaN   NaN   \n",
        "18          aimer  NaN  NaN  NaN  NaN     NaN   NaN   NaN     NaN   NaN   \n",
        "19        ajouter  NaN  NaN  NaN  NaN     NaN   NaN   NaN     NaN   NaN   \n",
        "20          aller  NaN  NaN  NaN  NaN     irE   NaN   NaN     NaN   ira   \n",
        "21       allonger  NaN  NaN  NaN  NaN     NaN   NaN   NaN     NaN   NaN   \n",
        "22         amener  NaN  NaN  NaN  NaN     NaN   NaN   NaN     NaN   NaN   \n",
        "23         amuser  NaN  NaN  NaN  NaN     NaN   NaN   NaN     NaN   NaN   \n",
        "24      angoisser  NaN  NaN  NaN  NaN     NaN   NaN   NaN     NaN   NaN   \n",
        "25       annoncer  NaN  NaN  NaN  NaN     NaN   NaN   NaN     NaN   NaN   \n",
        "26        annuler  NaN  NaN  NaN  NaN     NaN   NaN   NaN     NaN   NaN   \n",
        "27     appara\u00eetre  NaN  NaN  NaN  NaN     NaN   NaN   NaN     NaN   NaN   \n",
        "28     appartenir  NaN  NaN  NaN  NaN     NaN   NaN   NaN     NaN   NaN   \n",
        "29        appeler  NaN  NaN  NaN  NaN     NaN   NaN   NaN     NaN   NaN   \n",
        "..            ...  ...  ...  ...  ...     ...   ...   ...     ...   ...   \n",
        "472        vendre  NaN  NaN  NaN  NaN     NaN   NaN   NaN     NaN   NaN   \n",
        "473        venger  NaN  NaN  NaN  NaN     NaN   NaN   NaN     NaN   NaN   \n",
        "474         venir  NaN  NaN  NaN  NaN  vj\u00eadrE   NaN   NaN  vj\u00eadr\u00f4   NaN   \n",
        "475         virer  NaN  NaN  NaN  NaN     NaN   NaN   NaN     NaN   NaN   \n",
        "476         viser  NaN  NaN  NaN  NaN     NaN   NaN   NaN     NaN   NaN   \n",
        "477         vivre  NaN  NaN  NaN  NaN     NaN   NaN   NaN     NaN   NaN   \n",
        "478          voir  NaN  NaN  NaN  NaN     NaN  vEre   NaN     NaN   NaN   \n",
        "479         voler  NaN  NaN  NaN  NaN     NaN   NaN   NaN     NaN   NaN   \n",
        "480       vouloir  NaN  NaN  NaN  NaN     NaN   NaN   NaN     NaN   NaN   \n",
        "481       voyager  NaN  NaN  NaN  NaN     NaN   NaN   NaN     NaN   NaN   \n",
        "482      v\u00e9rifier  NaN  NaN  NaN  NaN     NaN   NaN   NaN     NaN   NaN   \n",
        "483      \u00e9chapper  NaN  NaN  NaN  NaN     NaN   NaN   NaN     NaN   NaN   \n",
        "484       \u00e9chouer  NaN  NaN  NaN  NaN     NaN   NaN   NaN     NaN   NaN   \n",
        "485      \u00e9clairer  NaN  NaN  NaN  NaN     NaN   NaN   NaN     NaN   NaN   \n",
        "486       \u00e9clater  NaN  NaN  NaN  NaN     NaN   NaN   NaN     NaN   NaN   \n",
        "487       \u00e9couter  NaN  NaN  NaN  NaN     NaN   NaN   NaN     NaN   NaN   \n",
        "488       \u00e9craser  NaN  NaN  NaN  NaN     NaN   NaN   NaN     NaN   NaN   \n",
        "489        \u00e9crire  NaN  NaN  NaN  NaN     NaN   NaN   NaN     NaN   NaN   \n",
        "490      \u00e9loigner  NaN  NaN  NaN  NaN     NaN   NaN   NaN     NaN   NaN   \n",
        "491       \u00e9nerver  NaN  NaN  NaN  NaN     NaN   NaN   NaN     NaN   NaN   \n",
        "492      \u00e9pingler  NaN  NaN  NaN  NaN     NaN   NaN   NaN     NaN   NaN   \n",
        "493       \u00e9pouser  NaN  NaN  NaN  NaN     NaN   NaN   NaN     NaN   NaN   \n",
        "494      \u00e9prouver  NaN  NaN  NaN  NaN     NaN   NaN   NaN     NaN   NaN   \n",
        "495      \u00e9teindre  NaN  NaN  NaN  NaN     NaN   NaN   NaN     NaN   NaN   \n",
        "496      \u00e9ternuer  NaN  NaN  NaN  NaN     NaN   NaN   NaN     NaN   NaN   \n",
        "497       \u00e9tonner  NaN  NaN  NaN  NaN     NaN   NaN   NaN     NaN   NaN   \n",
        "498      \u00e9touffer  NaN  NaN  NaN  NaN     NaN   NaN   NaN     NaN   NaN   \n",
        "499     \u00e9trangler  NaN  NaN  NaN  NaN     NaN   NaN   NaN     NaN   NaN   \n",
        "500        \u00e9viter  NaN  NaN  NaN  NaN     NaN   NaN   NaN     NaN   NaN   \n",
        "501          \u00eatre  NaN  NaN  NaN  NaN    s6rE  s6re  s6ra     NaN  s6ra   \n",
        "\n",
        "case   ...      pi1S   pi2P  pi2S    pi3P    pi3S    ps1S   ps2P    ps2S  \\\n",
        "0      ...       NaN    NaN   NaN     NaN     NaN     NaN    NaN     NaN   \n",
        "1      ...       NaN    NaN   NaN     NaN     NaN     NaN    NaN     NaN   \n",
        "2      ...       NaN    NaN   NaN     NaN     NaN     NaN    NaN     NaN   \n",
        "3      ...       NaN    NaN   NaN     NaN     NaN     NaN    NaN     NaN   \n",
        "4      ...       NaN    NaN   NaN     NaN     NaN     NaN    NaN     NaN   \n",
        "5      ...       NaN    NaN   NaN     NaN  aksEpt  aksEpt    NaN     NaN   \n",
        "6      ...    ak\u00f4paJ    NaN   NaN     NaN     NaN  ak\u00f4paJ    NaN     NaN   \n",
        "7      ...     akOrd    NaN   NaN     NaN   akOrd     NaN    NaN     NaN   \n",
        "8      ...       NaN    NaN   NaN     NaN     NaN     NaN    NaN     NaN   \n",
        "9      ...       NaN    NaN   NaN     NaN     NaN    aSEt    NaN     NaN   \n",
        "10     ...       NaN    NaN   NaN     NaN     NaN     NaN    NaN     NaN   \n",
        "11     ...     admir    NaN   NaN     NaN     NaN     NaN    NaN     NaN   \n",
        "12     ...       NaN    NaN   NaN     NaN     NaN     NaN    NaN     NaN   \n",
        "13     ...      adOr    NaN   NaN     NaN    adOr    adOr    NaN     NaN   \n",
        "14     ...       NaN    NaN   NaN     NaN     NaN     NaN    NaN     NaN   \n",
        "15     ...       NaN    NaN   NaN     NaN     NaN     NaN    NaN     NaN   \n",
        "16     ...       NaN    NaN   NaN     NaN     NaN     NaN    NaN     NaN   \n",
        "17     ...        Ed    NaN   NaN      Ed      Ed      Ed    NaN      Ed   \n",
        "18     ...        Em    Eme    Em     NaN      Em      Em    NaN     NaN   \n",
        "19     ...       NaN    NaN   NaN     NaN     NaN     NaN    NaN     NaN   \n",
        "20     ...        vE    ale    va      v\u00f4      va      aj    NaN      aj   \n",
        "21     ...       NaN    NaN   NaN     NaN     NaN    al\u00f4Z    NaN     NaN   \n",
        "22     ...       NaN    NaN   NaN     NaN     NaN     NaN    NaN     NaN   \n",
        "23     ...      amyz    NaN   NaN     NaN     NaN     NaN    NaN     NaN   \n",
        "24     ...       NaN    NaN   NaN     NaN     NaN     NaN    NaN     NaN   \n",
        "25     ...       NaN    NaN   NaN     NaN     NaN     NaN    NaN     NaN   \n",
        "26     ...       NaN    NaN   NaN     NaN    anyl     NaN    NaN     NaN   \n",
        "27     ...       NaN    NaN   NaN     NaN     NaN     NaN    NaN     NaN   \n",
        "28     ...       NaN    NaN   NaN     NaN     NaN     NaN    NaN     NaN   \n",
        "29     ...      apEl  ap6le  apEl     NaN    apEl    apEl    NaN     NaN   \n",
        "..     ...       ...    ...   ...     ...     ...     ...    ...     ...   \n",
        "472    ...       NaN    NaN   NaN     NaN      v\u00e2     NaN    NaN     NaN   \n",
        "473    ...       NaN    NaN   NaN     NaN     NaN     NaN    NaN     NaN   \n",
        "474    ...       vj\u00ea   v6ne   vj\u00ea     NaN     vj\u00ea    vjEn    NaN     NaN   \n",
        "475    ...       NaN    NaN   NaN     NaN     NaN     vir    NaN     NaN   \n",
        "476    ...       NaN    NaN   NaN     NaN     NaN     NaN    NaN     NaN   \n",
        "477    ...       NaN   vive    vi     NaN     NaN     NaN    NaN     viv   \n",
        "478    ...       vwa  vwaje   vwa     NaN     vwa     NaN    NaN     NaN   \n",
        "479    ...       NaN    NaN   NaN     NaN     vOl     NaN    NaN     NaN   \n",
        "480    ...        v2   vule    v2     v9l      v2     NaN    NaN     NaN   \n",
        "481    ...       NaN    NaN   NaN  vwajaZ     NaN     NaN    NaN     NaN   \n",
        "482    ...       NaN    NaN   NaN     NaN     NaN     NaN    NaN     NaN   \n",
        "483    ...       NaN    NaN   NaN     NaN     NaN     NaN    NaN     NaN   \n",
        "484    ...       ESu    NaN   NaN     NaN     NaN     ESu    NaN     NaN   \n",
        "485    ...       NaN    NaN   NaN     NaN     NaN   EklEr    NaN     NaN   \n",
        "486    ...       NaN    NaN   NaN     NaN     NaN   Eklat    NaN     NaN   \n",
        "487    ...      Ekut    NaN   NaN     NaN    Ekut    Ekut    NaN     NaN   \n",
        "488    ...       NaN    NaN   NaN     NaN     NaN     NaN    NaN     NaN   \n",
        "489    ...       NaN    NaN  Ekri     NaN    Ekri     NaN    NaN     NaN   \n",
        "490    ...       NaN    NaN   NaN     NaN     NaN     NaN    NaN     NaN   \n",
        "491    ...       NaN    NaN   NaN     NaN   EnErv   EnErv    NaN     NaN   \n",
        "492    ...       NaN    NaN   NaN     NaN     NaN     NaN    NaN     NaN   \n",
        "493    ...       NaN    NaN   NaN     NaN     NaN     NaN    NaN     NaN   \n",
        "494    ...       NaN    NaN   NaN     NaN   Epruv     NaN    NaN     NaN   \n",
        "495    ...       NaN    NaN   NaN     NaN     NaN     NaN    NaN     NaN   \n",
        "496    ...       NaN    NaN   NaN     NaN     NaN     NaN    NaN  EtErny   \n",
        "497    ...       NaN    NaN   NaN     NaN     NaN     NaN    NaN     NaN   \n",
        "498    ...       NaN    NaN   NaN     NaN     NaN     NaN    NaN     NaN   \n",
        "499    ...       NaN    NaN   NaN     NaN     NaN  Etr\u00e2gl    NaN     NaN   \n",
        "500    ...      Evit    NaN   NaN     NaN     NaN     NaN    NaN     NaN   \n",
        "501    ...       sHi     Et     E      s\u00f4       E     swa  swaje     swa   \n",
        "\n",
        "case  ps3P    ps3S  \n",
        "0      NaN  ab\u00e2dOn  \n",
        "1      NaN     NaN  \n",
        "2      NaN     NaN  \n",
        "3      NaN     NaN  \n",
        "4      NaN     NaN  \n",
        "5      NaN  aksEpt  \n",
        "6      NaN  ak\u00f4paJ  \n",
        "7      NaN     NaN  \n",
        "8      NaN    akyz  \n",
        "9      NaN     NaN  \n",
        "10     NaN     NaN  \n",
        "11     NaN     NaN  \n",
        "12    adOn     NaN  \n",
        "13     NaN    adOr  \n",
        "14     NaN     NaN  \n",
        "15     NaN     NaN  \n",
        "16     NaN     NaN  \n",
        "17     NaN      Ed  \n",
        "18     NaN      Em  \n",
        "19     NaN    aZut  \n",
        "20     NaN      aj  \n",
        "21     NaN     NaN  \n",
        "22     NaN     NaN  \n",
        "23     NaN    amyz  \n",
        "24     NaN     NaN  \n",
        "25     NaN     NaN  \n",
        "26     NaN     NaN  \n",
        "27     NaN     NaN  \n",
        "28     NaN     NaN  \n",
        "29     NaN    apEl  \n",
        "..     ...     ...  \n",
        "472    NaN     NaN  \n",
        "473    NaN     NaN  \n",
        "474   vjEn     NaN  \n",
        "475    NaN     NaN  \n",
        "476    NaN     viz  \n",
        "477    viv     NaN  \n",
        "478    NaN     vwa  \n",
        "479    NaN     vOl  \n",
        "480    NaN     v9j  \n",
        "481    NaN     NaN  \n",
        "482    NaN     NaN  \n",
        "483    NaN     NaN  \n",
        "484    NaN     NaN  \n",
        "485    NaN     NaN  \n",
        "486    NaN     NaN  \n",
        "487    NaN     NaN  \n",
        "488    NaN   Ekraz  \n",
        "489    NaN     NaN  \n",
        "490    NaN     NaN  \n",
        "491    NaN     NaN  \n",
        "492    NaN     NaN  \n",
        "493    NaN     NaN  \n",
        "494    NaN     NaN  \n",
        "495    NaN     NaN  \n",
        "496    NaN     NaN  \n",
        "497    NaN     NaN  \n",
        "498    NaN     NaN  \n",
        "499    NaN     NaN  \n",
        "500    NaN     NaN  \n",
        "501    swa     swa  \n",
        "\n",
        "[502 rows x 39 columns]"
       ]
      }
     ],
     "prompt_number": 27
    },
    {
     "cell_type": "code",
     "collapsed": false,
     "input": [
      "paradigmes=pd.pivot_table(extrait, values='phono', index=['lexeme'], columns=['case'], aggfunc=lambda x: \",\".join(x)).reset_index().reindex()"
     ],
     "language": "python",
     "metadata": {},
     "outputs": [],
     "prompt_number": 28
    },
    {
     "cell_type": "code",
     "collapsed": false,
     "input": [
      "paire=(\"pi1S\",\"pI2S\")\n",
      "paireListe=list(paire)\n",
      "paireListe.append(\"lexeme\")\n",
      "paradigmePaire=paradigmes[paireListe].dropna(thresh=3, axis=0).reindex()\n",
      "paradigmePaire=splitCellMates(splitCellMates(paradigmePaire,paire[0]),paire[1])\n",
      "paradigmePaire[\"rapports\"]=paradigmePaire.apply(rowDiff, axis=1)\n",
      "paradigmePaire[\"patron1\"]=paradigmePaire[\"rapports\"].apply(lambda x: x[0].lstrip(\".\"))\n",
      "paradigmePaire[\"patron2\"]=paradigmePaire[\"rapports\"].apply(lambda x: x[1].lstrip(\".\"))\n",
      "print paradigmePaire\n",
      "paradigmePaire.groupby([\"patron1\",\"patron2\"])[[\"lexeme\",\"patron1\",\"patron2\"]].apply(lambda x: \", \".join(x[\"lexeme\"]))"
     ],
     "language": "python",
     "metadata": {},
     "outputs": [
      {
       "output_type": "stream",
       "stream": "stdout",
       "text": [
        "case      pi1S      pI2S       lexeme              rapports patron1 patron2\n",
        "0         abEs      abEs     abaisser          (...., ....)                \n",
        "1       ab\u00e2d\u00f2n    ab\u00e2d\u00f2n   abandonner      (......, ......)                \n",
        "2     abazurdi  abazurdi   abasourdir  (........, ........)                \n",
        "3          aba       aba      abattre            (..., ...)                \n",
        "4        absEd     absEd      abc\u00e9der        (....., .....)                \n",
        "5        abdik     abdik     abdiquer        (....., .....)                \n",
        "6         abEk      abEk     abecquer          (...., ....)                \n",
        "7         abEr      abEr      aberrer          (...., ....)                \n",
        "8         abOr      abOr     abhorrer          (...., ....)                \n",
        "9        abZyr     abZyr      abjurer        (....., .....)                \n",
        "10       ablat     ablat      ablater        (....., .....)                \n",
        "11      ablati    ablati      ablatir      (......, ......)                \n",
        "12       ablOk     ablOk     abloquer        (....., .....)                \n",
        "13       ab\u00f2li     ab\u00f2li       abolir        (....., .....)                \n",
        "14        ab\u00f4d      ab\u00f4d      abonder          (...., ....)                \n",
        "15        ab\u00f2n      ab\u00f2n      abonner          (...., ....)                \n",
        "16       ab\u00f2ni     ab\u00f2ni      abonnir        (....., .....)                \n",
        "17       abOrd     abOrd      aborder        (....., .....)                \n",
        "18       abOrn     abOrn      aborner        (....., .....)                \n",
        "19        abuS      abuS     aboucher          (...., ....)                \n",
        "20        abul      abul      abouler          (...., ....)                \n",
        "21        abut      abut      abouter          (...., ....)                \n",
        "22       abuti     abuti      aboutir        (....., .....)                \n",
        "23        abwa      abwa       aboyer          (...., ....)                \n",
        "24       abraz     abraz      abraser        (....., .....)                \n",
        "25       abr9v     abr9v     abreuver        (....., .....)                \n",
        "26     abrikOt   abrikOt    abricoter    (......., .......)                \n",
        "27       abrit     abrit      abriter        (....., .....)                \n",
        "28       abrOZ     abrOZ      abroger        (....., .....)                \n",
        "29      abryti    abryti      abrutir      (......, ......)                \n",
        "...        ...       ...          ...                   ...     ...     ...\n",
        "6468  \u00e8v\u00e2Z\u00e8liz  \u00e8v\u00e2Z\u00e8liz  \u00e9vang\u00e9liser  (........, ........)                \n",
        "6469    \u00e8vanui    \u00e8vanui     \u00e9vanouir      (......, ......)                \n",
        "6470    \u00e8vapOr    \u00e8vapOr     \u00e9vaporer      (......, ......)                \n",
        "6471      \u00e8vaz      \u00e8vaz       \u00e9vaser          (...., ....)                \n",
        "6472      \u00e8vEj      \u00e8vEj     \u00e9veiller          (...., ....)                \n",
        "6473      \u00e8v\u00e2t      \u00e8v\u00e2t      \u00e9venter          (...., ....)                \n",
        "6474    \u00e8v\u00e2tij    \u00e8v\u00e2tij   \u00e9ventiller      (......, ......)                \n",
        "6475     \u00e8v\u00e2tr     \u00e8v\u00e2tr     \u00e9ventrer        (....., .....)                \n",
        "6476    \u00e8vErty    \u00e8vErty     \u00e9vertuer      (......, ......)                \n",
        "6477      \u00e8vid      \u00e8vid       \u00e9vider          (...., ....)                \n",
        "6478      \u00e8v\u00eas      \u00e8v\u00eas      \u00e9vincer          (...., ....)                \n",
        "6479    \u00e8visEr    \u00e8visEr    \u00e9visc\u00e9rer      (......, ......)                \n",
        "6480      \u00e8vit      \u00e8vit       \u00e9viter          (...., ....)                \n",
        "6481     \u00e8v\u00f2ly     \u00e8v\u00f2ly      \u00e9voluer        (....., .....)                \n",
        "6482      \u00e8vOk      \u00e8vOk      \u00e9voquer          (...., ....)                \n",
        "6483       sHi       swa         \u00eatre            (.Hi, .wa)      Hi      wa\n",
        "6484        ot        ot         \u00f4ter              (.., ..)                \n",
        "6492        v2       v9j      vouloir             (.2, .9j)       2      9j\n",
        "6493        v2        v2      vouloir              (.., ..)                \n",
        "6494      aswa      aswa      asseoir          (...., ....)                \n",
        "6495      aswa      asje      asseoir          (..wa, ..je)      wa      je\n",
        "6496      asje      aswa      asseoir          (..je, ..wa)      je      wa\n",
        "6497      asje      asje      asseoir          (...., ....)                \n",
        "6498      d\u00e8p\u00e2      d\u00e8p\u00e2     d\u00e9pendre          (...., ....)                \n",
        "6499     \u00eapOrt     \u00eapOrt     importer        (....., .....)                \n",
        "6500      sup\u00e8      sup\u00e8   sous-payer          (...., ....)                \n",
        "6501      sup\u00e8     supEj   sous-payer         (...\u00e8, ...Ej)       \u00e8      Ej\n",
        "6502     supEj      sup\u00e8   sous-payer         (...Ej, ...\u00e8)      Ej       \u00e8\n",
        "6503     supEj     supEj   sous-payer        (....., .....)                \n",
        "6504      tEst      tEst       tester          (...., ....)                \n",
        "\n",
        "[6497 rows x 6 columns]\n"
       ]
      },
      {
       "metadata": {},
       "output_type": "pyout",
       "prompt_number": 103,
       "text": [
        "patron1  patron2\n",
        "                    abaisser, abandonner, abasourdir, abattre, abc...\n",
        "2        9j                                                   vouloir\n",
        "Ej       \u00e8                                                 sous-payer\n",
        "Hi       wa                                                      \u00eatre\n",
        "je       wa                                                   asseoir\n",
        "wa       je                                                   asseoir\n",
        "\u00e2v\u00e8      vat\u00e2                                                en aller\n",
        "\u00e8        Ej                                                sous-payer\n",
        "         a                                                      aller\n",
        "         aS                                                    savoir\n",
        "dtype: object"
       ]
      }
     ],
     "prompt_number": 103
    },
    {
     "cell_type": "code",
     "collapsed": false,
     "input": [
      "paire=(\"pi1S\",\"pI2S\")\n",
      "paireListe=list(paire)\n",
      "paireListe.append(\"lexeme\")\n",
      "paradigmePaire=paradigmes[paireListe].dropna(thresh=3, axis=0).reset_index().reindex()\n",
      "paradigmePaire"
     ],
     "language": "python",
     "metadata": {},
     "outputs": [
      {
       "html": [
        "<div style=\"max-height:1000px;max-width:1500px;overflow:auto;\">\n",
        "<table border=\"1\" class=\"dataframe\">\n",
        "  <thead>\n",
        "    <tr style=\"text-align: right;\">\n",
        "      <th>case</th>\n",
        "      <th>index</th>\n",
        "      <th>pi1S</th>\n",
        "      <th>pI2S</th>\n",
        "      <th>lexeme</th>\n",
        "    </tr>\n",
        "  </thead>\n",
        "  <tbody>\n",
        "    <tr>\n",
        "      <th>0 </th>\n",
        "      <td>   0</td>\n",
        "      <td>      ab\u00e2d\u00f2n</td>\n",
        "      <td>      ab\u00e2d\u00f2n</td>\n",
        "      <td> abandonner</td>\n",
        "    </tr>\n",
        "    <tr>\n",
        "      <th>1 </th>\n",
        "      <td>  11</td>\n",
        "      <td>        adOr</td>\n",
        "      <td>        adOr</td>\n",
        "      <td>     adorer</td>\n",
        "    </tr>\n",
        "    <tr>\n",
        "      <th>2 </th>\n",
        "      <td>  17</td>\n",
        "      <td>          Em</td>\n",
        "      <td>          Em</td>\n",
        "      <td>      aimer</td>\n",
        "    </tr>\n",
        "    <tr>\n",
        "      <th>3 </th>\n",
        "      <td>  18</td>\n",
        "      <td>          v\u00e8</td>\n",
        "      <td>          va</td>\n",
        "      <td>      aller</td>\n",
        "    </tr>\n",
        "    <tr>\n",
        "      <th>4 </th>\n",
        "      <td>  26</td>\n",
        "      <td>        apEl</td>\n",
        "      <td>        apEl</td>\n",
        "      <td>    appeler</td>\n",
        "    </tr>\n",
        "    <tr>\n",
        "      <th>5 </th>\n",
        "      <td>  31</td>\n",
        "      <td>      apr\u00e8si</td>\n",
        "      <td>      apr\u00e8si</td>\n",
        "      <td>  appr\u00e9cier</td>\n",
        "    </tr>\n",
        "    <tr>\n",
        "      <th>6 </th>\n",
        "      <td>  34</td>\n",
        "      <td>        ariv</td>\n",
        "      <td>        ariv</td>\n",
        "      <td>    arriver</td>\n",
        "    </tr>\n",
        "    <tr>\n",
        "      <th>7 </th>\n",
        "      <td>  36</td>\n",
        "      <td>        arEt</td>\n",
        "      <td>        arEt</td>\n",
        "      <td>    arr\u00eater</td>\n",
        "    </tr>\n",
        "    <tr>\n",
        "      <th>8 </th>\n",
        "      <td>  42</td>\n",
        "      <td>         at\u00e2</td>\n",
        "      <td>         at\u00e2</td>\n",
        "      <td>   attendre</td>\n",
        "    </tr>\n",
        "    <tr>\n",
        "      <th>9 </th>\n",
        "      <td>  45</td>\n",
        "      <td>        av\u00e2s</td>\n",
        "      <td>        av\u00e2s</td>\n",
        "      <td>    avancer</td>\n",
        "    </tr>\n",
        "    <tr>\n",
        "      <th>10</th>\n",
        "      <td>  47</td>\n",
        "      <td>           \u00e8</td>\n",
        "      <td>           \u00e8</td>\n",
        "      <td>      avoir</td>\n",
        "    </tr>\n",
        "    <tr>\n",
        "      <th>11</th>\n",
        "      <td>  78</td>\n",
        "      <td>        SErS</td>\n",
        "      <td>        SErS</td>\n",
        "      <td>   chercher</td>\n",
        "    </tr>\n",
        "    <tr>\n",
        "      <th>12</th>\n",
        "      <td>  92</td>\n",
        "      <td>       k\u00f4pr\u00e2</td>\n",
        "      <td>       k\u00f4pr\u00e2</td>\n",
        "      <td> comprendre</td>\n",
        "    </tr>\n",
        "    <tr>\n",
        "      <th>13</th>\n",
        "      <td> 100</td>\n",
        "      <td>        k\u00f2n\u00e8</td>\n",
        "      <td>        k\u00f2n\u00e8</td>\n",
        "      <td>  conna\u00eetre</td>\n",
        "    </tr>\n",
        "    <tr>\n",
        "      <th>14</th>\n",
        "      <td> 109</td>\n",
        "      <td>      k\u00f4tiny</td>\n",
        "      <td>      k\u00f4tiny</td>\n",
        "      <td>  continuer</td>\n",
        "    </tr>\n",
        "    <tr>\n",
        "      <th>15</th>\n",
        "      <td> 123</td>\n",
        "      <td>        krwa</td>\n",
        "      <td>        krwa</td>\n",
        "      <td>     croire</td>\n",
        "    </tr>\n",
        "    <tr>\n",
        "      <th>16</th>\n",
        "      <td> 130</td>\n",
        "      <td>       d6m\u00e2d</td>\n",
        "      <td>       d6m\u00e2d</td>\n",
        "      <td>   demander</td>\n",
        "    </tr>\n",
        "    <tr>\n",
        "      <th>17</th>\n",
        "      <td> 134</td>\n",
        "      <td>         dwa</td>\n",
        "      <td>         dwa</td>\n",
        "      <td>     devoir</td>\n",
        "    </tr>\n",
        "    <tr>\n",
        "      <th>18</th>\n",
        "      <td> 135</td>\n",
        "      <td>          di</td>\n",
        "      <td>          di</td>\n",
        "      <td>       dire</td>\n",
        "    </tr>\n",
        "    <tr>\n",
        "      <th>19</th>\n",
        "      <td> 139</td>\n",
        "      <td>         d\u00f2n</td>\n",
        "      <td>         d\u00f2n</td>\n",
        "      <td>     donner</td>\n",
        "    </tr>\n",
        "    <tr>\n",
        "      <th>20</th>\n",
        "      <td> 165</td>\n",
        "      <td>       d\u00e8pES</td>\n",
        "      <td>       d\u00e8pES</td>\n",
        "      <td>   d\u00e9p\u00eacher</td>\n",
        "    </tr>\n",
        "    <tr>\n",
        "      <th>21</th>\n",
        "      <td> 194</td>\n",
        "      <td>       EspEr</td>\n",
        "      <td>       EspEr</td>\n",
        "      <td>    esp\u00e9rer</td>\n",
        "    </tr>\n",
        "    <tr>\n",
        "      <th>22</th>\n",
        "      <td> 197</td>\n",
        "      <td>      Ekskyz</td>\n",
        "      <td>      Ekskyz</td>\n",
        "      <td>    excuser</td>\n",
        "    </tr>\n",
        "    <tr>\n",
        "      <th>23</th>\n",
        "      <td> 204</td>\n",
        "      <td>          f\u00e8</td>\n",
        "      <td>          f\u00e8</td>\n",
        "      <td>      faire</td>\n",
        "    </tr>\n",
        "    <tr>\n",
        "      <th>24</th>\n",
        "      <td> 247</td>\n",
        "      <td> \u00eapOrt,\u00eapOrt</td>\n",
        "      <td> \u00eapOrt,\u00eapOrt</td>\n",
        "      <td>   importer</td>\n",
        "    </tr>\n",
        "    <tr>\n",
        "      <th>25</th>\n",
        "      <td> 262</td>\n",
        "      <td>         lEs</td>\n",
        "      <td>         lEs</td>\n",
        "      <td>    laisser</td>\n",
        "    </tr>\n",
        "    <tr>\n",
        "      <th>26</th>\n",
        "      <td> 266</td>\n",
        "      <td>         lEv</td>\n",
        "      <td>         lEv</td>\n",
        "      <td>      lever</td>\n",
        "    </tr>\n",
        "    <tr>\n",
        "      <th>27</th>\n",
        "      <td> 268</td>\n",
        "      <td>          li</td>\n",
        "      <td>          li</td>\n",
        "      <td>       lire</td>\n",
        "    </tr>\n",
        "    <tr>\n",
        "      <th>28</th>\n",
        "      <td> 273</td>\n",
        "      <td>         m\u00e2Z</td>\n",
        "      <td>         m\u00e2Z</td>\n",
        "      <td>     manger</td>\n",
        "    </tr>\n",
        "    <tr>\n",
        "      <th>29</th>\n",
        "      <td> 276</td>\n",
        "      <td>        marS</td>\n",
        "      <td>        marS</td>\n",
        "      <td>    marcher</td>\n",
        "    </tr>\n",
        "    <tr>\n",
        "      <th>30</th>\n",
        "      <td> 279</td>\n",
        "      <td>          m\u00e8</td>\n",
        "      <td>          m\u00e8</td>\n",
        "      <td>     mettre</td>\n",
        "    </tr>\n",
        "    <tr>\n",
        "      <th>31</th>\n",
        "      <td> 280</td>\n",
        "      <td>         m\u00f4t</td>\n",
        "      <td>         m\u00f4t</td>\n",
        "      <td>     monter</td>\n",
        "    </tr>\n",
        "    <tr>\n",
        "      <th>32</th>\n",
        "      <td> 281</td>\n",
        "      <td>        m\u00f4tr</td>\n",
        "      <td>        m\u00f4tr</td>\n",
        "      <td>    montrer</td>\n",
        "    </tr>\n",
        "    <tr>\n",
        "      <th>33</th>\n",
        "      <td> 295</td>\n",
        "      <td>        \u00f2kyp</td>\n",
        "      <td>        \u00f2kyp</td>\n",
        "      <td>    occuper</td>\n",
        "    </tr>\n",
        "    <tr>\n",
        "      <th>34</th>\n",
        "      <td> 300</td>\n",
        "      <td>        ubli</td>\n",
        "      <td>        ubli</td>\n",
        "      <td>    oublier</td>\n",
        "    </tr>\n",
        "    <tr>\n",
        "      <th>35</th>\n",
        "      <td> 307</td>\n",
        "      <td>        parl</td>\n",
        "      <td>        parl</td>\n",
        "      <td>     parler</td>\n",
        "    </tr>\n",
        "    <tr>\n",
        "      <th>36</th>\n",
        "      <td> 310</td>\n",
        "      <td>         pas</td>\n",
        "      <td>         pas</td>\n",
        "      <td>     passer</td>\n",
        "    </tr>\n",
        "    <tr>\n",
        "      <th>37</th>\n",
        "      <td> 313</td>\n",
        "      <td>         p\u00e2s</td>\n",
        "      <td>         p\u00e2s</td>\n",
        "      <td>     penser</td>\n",
        "    </tr>\n",
        "    <tr>\n",
        "      <th>38</th>\n",
        "      <td> 323</td>\n",
        "      <td>        pl9r</td>\n",
        "      <td>        pl9r</td>\n",
        "      <td>    pleurer</td>\n",
        "    </tr>\n",
        "    <tr>\n",
        "      <th>39</th>\n",
        "      <td> 326</td>\n",
        "      <td>        pOrt</td>\n",
        "      <td>        pOrt</td>\n",
        "      <td>     porter</td>\n",
        "    </tr>\n",
        "    <tr>\n",
        "      <th>40</th>\n",
        "      <td> 334</td>\n",
        "      <td>         pr\u00e2</td>\n",
        "      <td>         pr\u00e2</td>\n",
        "      <td>    prendre</td>\n",
        "    </tr>\n",
        "    <tr>\n",
        "      <th>41</th>\n",
        "      <td> 335</td>\n",
        "      <td>         pri</td>\n",
        "      <td>         pri</td>\n",
        "      <td>      prier</td>\n",
        "    </tr>\n",
        "    <tr>\n",
        "      <th>42</th>\n",
        "      <td> 361</td>\n",
        "      <td>       rapEl</td>\n",
        "      <td>       rapEl</td>\n",
        "      <td>   rappeler</td>\n",
        "    </tr>\n",
        "    <tr>\n",
        "      <th>43</th>\n",
        "      <td> 375</td>\n",
        "      <td>      r6gard</td>\n",
        "      <td>      r6gard</td>\n",
        "      <td>   regarder</td>\n",
        "    </tr>\n",
        "    <tr>\n",
        "      <th>44</th>\n",
        "      <td> 393</td>\n",
        "      <td>        rEst</td>\n",
        "      <td>        rEst</td>\n",
        "      <td>     rester</td>\n",
        "    </tr>\n",
        "    <tr>\n",
        "      <th>45</th>\n",
        "      <td> 397</td>\n",
        "      <td>      r6truv</td>\n",
        "      <td>      r6truv</td>\n",
        "      <td>  retrouver</td>\n",
        "    </tr>\n",
        "    <tr>\n",
        "      <th>46</th>\n",
        "      <td> 431</td>\n",
        "      <td>          s\u00e2</td>\n",
        "      <td>          s\u00e2</td>\n",
        "      <td>     sentir</td>\n",
        "    </tr>\n",
        "    <tr>\n",
        "      <th>47</th>\n",
        "      <td> 437</td>\n",
        "      <td>         sOr</td>\n",
        "      <td>         sOr</td>\n",
        "      <td>     sortir</td>\n",
        "    </tr>\n",
        "    <tr>\n",
        "      <th>48</th>\n",
        "      <td> 440</td>\n",
        "      <td>       suvj\u00ea</td>\n",
        "      <td>       suvj\u00ea</td>\n",
        "      <td>   souvenir</td>\n",
        "    </tr>\n",
        "    <tr>\n",
        "      <th>49</th>\n",
        "      <td> 446</td>\n",
        "      <td>         sHi</td>\n",
        "      <td>         sHi</td>\n",
        "      <td>     suivre</td>\n",
        "    </tr>\n",
        "    <tr>\n",
        "      <th>50</th>\n",
        "      <td> 455</td>\n",
        "      <td>         tj\u00ea</td>\n",
        "      <td>         tj\u00ea</td>\n",
        "      <td>      tenir</td>\n",
        "    </tr>\n",
        "    <tr>\n",
        "      <th>51</th>\n",
        "      <td> 465</td>\n",
        "      <td>      travaj</td>\n",
        "      <td>      travaj</td>\n",
        "      <td> travailler</td>\n",
        "    </tr>\n",
        "    <tr>\n",
        "      <th>52</th>\n",
        "      <td> 469</td>\n",
        "      <td>        truv</td>\n",
        "      <td>        truv</td>\n",
        "      <td>    trouver</td>\n",
        "    </tr>\n",
        "    <tr>\n",
        "      <th>53</th>\n",
        "      <td> 470</td>\n",
        "      <td>          ty</td>\n",
        "      <td>          ty</td>\n",
        "      <td>       tuer</td>\n",
        "    </tr>\n",
        "    <tr>\n",
        "      <th>54</th>\n",
        "      <td> 475</td>\n",
        "      <td>         vj\u00ea</td>\n",
        "      <td>         vj\u00ea</td>\n",
        "      <td>      venir</td>\n",
        "    </tr>\n",
        "    <tr>\n",
        "      <th>55</th>\n",
        "      <td> 481</td>\n",
        "      <td>         vwa</td>\n",
        "      <td>         vwa</td>\n",
        "      <td>       voir</td>\n",
        "    </tr>\n",
        "    <tr>\n",
        "      <th>56</th>\n",
        "      <td> 484</td>\n",
        "      <td>          v2</td>\n",
        "      <td>          v2</td>\n",
        "      <td>    vouloir</td>\n",
        "    </tr>\n",
        "  </tbody>\n",
        "</table>\n",
        "</div>"
       ],
       "metadata": {},
       "output_type": "pyout",
       "prompt_number": 72,
       "text": [
        "case  index         pi1S         pI2S      lexeme\n",
        "0         0       ab\u00e2d\u00f2n       ab\u00e2d\u00f2n  abandonner\n",
        "1        11         adOr         adOr      adorer\n",
        "2        17           Em           Em       aimer\n",
        "3        18           v\u00e8           va       aller\n",
        "4        26         apEl         apEl     appeler\n",
        "5        31       apr\u00e8si       apr\u00e8si   appr\u00e9cier\n",
        "6        34         ariv         ariv     arriver\n",
        "7        36         arEt         arEt     arr\u00eater\n",
        "8        42          at\u00e2          at\u00e2    attendre\n",
        "9        45         av\u00e2s         av\u00e2s     avancer\n",
        "10       47            \u00e8            \u00e8       avoir\n",
        "11       78         SErS         SErS    chercher\n",
        "12       92        k\u00f4pr\u00e2        k\u00f4pr\u00e2  comprendre\n",
        "13      100         k\u00f2n\u00e8         k\u00f2n\u00e8   conna\u00eetre\n",
        "14      109       k\u00f4tiny       k\u00f4tiny   continuer\n",
        "15      123         krwa         krwa      croire\n",
        "16      130        d6m\u00e2d        d6m\u00e2d    demander\n",
        "17      134          dwa          dwa      devoir\n",
        "18      135           di           di        dire\n",
        "19      139          d\u00f2n          d\u00f2n      donner\n",
        "20      165        d\u00e8pES        d\u00e8pES    d\u00e9p\u00eacher\n",
        "21      194        EspEr        EspEr     esp\u00e9rer\n",
        "22      197       Ekskyz       Ekskyz     excuser\n",
        "23      204           f\u00e8           f\u00e8       faire\n",
        "24      247  \u00eapOrt,\u00eapOrt  \u00eapOrt,\u00eapOrt    importer\n",
        "25      262          lEs          lEs     laisser\n",
        "26      266          lEv          lEv       lever\n",
        "27      268           li           li        lire\n",
        "28      273          m\u00e2Z          m\u00e2Z      manger\n",
        "29      276         marS         marS     marcher\n",
        "30      279           m\u00e8           m\u00e8      mettre\n",
        "31      280          m\u00f4t          m\u00f4t      monter\n",
        "32      281         m\u00f4tr         m\u00f4tr     montrer\n",
        "33      295         \u00f2kyp         \u00f2kyp     occuper\n",
        "34      300         ubli         ubli     oublier\n",
        "35      307         parl         parl      parler\n",
        "36      310          pas          pas      passer\n",
        "37      313          p\u00e2s          p\u00e2s      penser\n",
        "38      323         pl9r         pl9r     pleurer\n",
        "39      326         pOrt         pOrt      porter\n",
        "40      334          pr\u00e2          pr\u00e2     prendre\n",
        "41      335          pri          pri       prier\n",
        "42      361        rapEl        rapEl    rappeler\n",
        "43      375       r6gard       r6gard    regarder\n",
        "44      393         rEst         rEst      rester\n",
        "45      397       r6truv       r6truv   retrouver\n",
        "46      431           s\u00e2           s\u00e2      sentir\n",
        "47      437          sOr          sOr      sortir\n",
        "48      440        suvj\u00ea        suvj\u00ea    souvenir\n",
        "49      446          sHi          sHi      suivre\n",
        "50      455          tj\u00ea          tj\u00ea       tenir\n",
        "51      465       travaj       travaj  travailler\n",
        "52      469         truv         truv     trouver\n",
        "53      470           ty           ty        tuer\n",
        "54      475          vj\u00ea          vj\u00ea       venir\n",
        "55      481          vwa          vwa        voir\n",
        "56      484           v2           v2     vouloir"
       ]
      }
     ],
     "prompt_number": 72
    },
    {
     "cell_type": "code",
     "collapsed": false,
     "input": [
      "paradigmePaire=splitCellMates(paradigmePaire,paire[0])\n",
      "paradigmePaire"
     ],
     "language": "python",
     "metadata": {},
     "outputs": [
      {
       "html": [
        "<div style=\"max-height:1000px;max-width:1500px;overflow:auto;\">\n",
        "<table border=\"1\" class=\"dataframe\">\n",
        "  <thead>\n",
        "    <tr style=\"text-align: right;\">\n",
        "      <th>case</th>\n",
        "      <th>index</th>\n",
        "      <th>pi1S</th>\n",
        "      <th>pI2S</th>\n",
        "      <th>lexeme</th>\n",
        "    </tr>\n",
        "  </thead>\n",
        "  <tbody>\n",
        "    <tr>\n",
        "      <th>0 </th>\n",
        "      <td>   0</td>\n",
        "      <td> ab\u00e2d\u00f2n</td>\n",
        "      <td>      ab\u00e2d\u00f2n</td>\n",
        "      <td> abandonner</td>\n",
        "    </tr>\n",
        "    <tr>\n",
        "      <th>1 </th>\n",
        "      <td>  11</td>\n",
        "      <td>   adOr</td>\n",
        "      <td>        adOr</td>\n",
        "      <td>     adorer</td>\n",
        "    </tr>\n",
        "    <tr>\n",
        "      <th>2 </th>\n",
        "      <td>  17</td>\n",
        "      <td>     Em</td>\n",
        "      <td>          Em</td>\n",
        "      <td>      aimer</td>\n",
        "    </tr>\n",
        "    <tr>\n",
        "      <th>3 </th>\n",
        "      <td>  18</td>\n",
        "      <td>     v\u00e8</td>\n",
        "      <td>          va</td>\n",
        "      <td>      aller</td>\n",
        "    </tr>\n",
        "    <tr>\n",
        "      <th>4 </th>\n",
        "      <td>  26</td>\n",
        "      <td>   apEl</td>\n",
        "      <td>        apEl</td>\n",
        "      <td>    appeler</td>\n",
        "    </tr>\n",
        "    <tr>\n",
        "      <th>5 </th>\n",
        "      <td>  31</td>\n",
        "      <td> apr\u00e8si</td>\n",
        "      <td>      apr\u00e8si</td>\n",
        "      <td>  appr\u00e9cier</td>\n",
        "    </tr>\n",
        "    <tr>\n",
        "      <th>6 </th>\n",
        "      <td>  34</td>\n",
        "      <td>   ariv</td>\n",
        "      <td>        ariv</td>\n",
        "      <td>    arriver</td>\n",
        "    </tr>\n",
        "    <tr>\n",
        "      <th>7 </th>\n",
        "      <td>  36</td>\n",
        "      <td>   arEt</td>\n",
        "      <td>        arEt</td>\n",
        "      <td>    arr\u00eater</td>\n",
        "    </tr>\n",
        "    <tr>\n",
        "      <th>8 </th>\n",
        "      <td>  42</td>\n",
        "      <td>    at\u00e2</td>\n",
        "      <td>         at\u00e2</td>\n",
        "      <td>   attendre</td>\n",
        "    </tr>\n",
        "    <tr>\n",
        "      <th>9 </th>\n",
        "      <td>  45</td>\n",
        "      <td>   av\u00e2s</td>\n",
        "      <td>        av\u00e2s</td>\n",
        "      <td>    avancer</td>\n",
        "    </tr>\n",
        "    <tr>\n",
        "      <th>10</th>\n",
        "      <td>  47</td>\n",
        "      <td>      \u00e8</td>\n",
        "      <td>           \u00e8</td>\n",
        "      <td>      avoir</td>\n",
        "    </tr>\n",
        "    <tr>\n",
        "      <th>11</th>\n",
        "      <td>  78</td>\n",
        "      <td>   SErS</td>\n",
        "      <td>        SErS</td>\n",
        "      <td>   chercher</td>\n",
        "    </tr>\n",
        "    <tr>\n",
        "      <th>12</th>\n",
        "      <td>  92</td>\n",
        "      <td>  k\u00f4pr\u00e2</td>\n",
        "      <td>       k\u00f4pr\u00e2</td>\n",
        "      <td> comprendre</td>\n",
        "    </tr>\n",
        "    <tr>\n",
        "      <th>13</th>\n",
        "      <td> 100</td>\n",
        "      <td>   k\u00f2n\u00e8</td>\n",
        "      <td>        k\u00f2n\u00e8</td>\n",
        "      <td>  conna\u00eetre</td>\n",
        "    </tr>\n",
        "    <tr>\n",
        "      <th>14</th>\n",
        "      <td> 109</td>\n",
        "      <td> k\u00f4tiny</td>\n",
        "      <td>      k\u00f4tiny</td>\n",
        "      <td>  continuer</td>\n",
        "    </tr>\n",
        "    <tr>\n",
        "      <th>15</th>\n",
        "      <td> 123</td>\n",
        "      <td>   krwa</td>\n",
        "      <td>        krwa</td>\n",
        "      <td>     croire</td>\n",
        "    </tr>\n",
        "    <tr>\n",
        "      <th>16</th>\n",
        "      <td> 130</td>\n",
        "      <td>  d6m\u00e2d</td>\n",
        "      <td>       d6m\u00e2d</td>\n",
        "      <td>   demander</td>\n",
        "    </tr>\n",
        "    <tr>\n",
        "      <th>17</th>\n",
        "      <td> 134</td>\n",
        "      <td>    dwa</td>\n",
        "      <td>         dwa</td>\n",
        "      <td>     devoir</td>\n",
        "    </tr>\n",
        "    <tr>\n",
        "      <th>18</th>\n",
        "      <td> 135</td>\n",
        "      <td>     di</td>\n",
        "      <td>          di</td>\n",
        "      <td>       dire</td>\n",
        "    </tr>\n",
        "    <tr>\n",
        "      <th>19</th>\n",
        "      <td> 139</td>\n",
        "      <td>    d\u00f2n</td>\n",
        "      <td>         d\u00f2n</td>\n",
        "      <td>     donner</td>\n",
        "    </tr>\n",
        "    <tr>\n",
        "      <th>20</th>\n",
        "      <td> 165</td>\n",
        "      <td>  d\u00e8pES</td>\n",
        "      <td>       d\u00e8pES</td>\n",
        "      <td>   d\u00e9p\u00eacher</td>\n",
        "    </tr>\n",
        "    <tr>\n",
        "      <th>21</th>\n",
        "      <td> 194</td>\n",
        "      <td>  EspEr</td>\n",
        "      <td>       EspEr</td>\n",
        "      <td>    esp\u00e9rer</td>\n",
        "    </tr>\n",
        "    <tr>\n",
        "      <th>22</th>\n",
        "      <td> 197</td>\n",
        "      <td> Ekskyz</td>\n",
        "      <td>      Ekskyz</td>\n",
        "      <td>    excuser</td>\n",
        "    </tr>\n",
        "    <tr>\n",
        "      <th>23</th>\n",
        "      <td> 204</td>\n",
        "      <td>     f\u00e8</td>\n",
        "      <td>          f\u00e8</td>\n",
        "      <td>      faire</td>\n",
        "    </tr>\n",
        "    <tr>\n",
        "      <th>25</th>\n",
        "      <td> 262</td>\n",
        "      <td>    lEs</td>\n",
        "      <td>         lEs</td>\n",
        "      <td>    laisser</td>\n",
        "    </tr>\n",
        "    <tr>\n",
        "      <th>26</th>\n",
        "      <td> 266</td>\n",
        "      <td>    lEv</td>\n",
        "      <td>         lEv</td>\n",
        "      <td>      lever</td>\n",
        "    </tr>\n",
        "    <tr>\n",
        "      <th>27</th>\n",
        "      <td> 268</td>\n",
        "      <td>     li</td>\n",
        "      <td>          li</td>\n",
        "      <td>       lire</td>\n",
        "    </tr>\n",
        "    <tr>\n",
        "      <th>28</th>\n",
        "      <td> 273</td>\n",
        "      <td>    m\u00e2Z</td>\n",
        "      <td>         m\u00e2Z</td>\n",
        "      <td>     manger</td>\n",
        "    </tr>\n",
        "    <tr>\n",
        "      <th>29</th>\n",
        "      <td> 276</td>\n",
        "      <td>   marS</td>\n",
        "      <td>        marS</td>\n",
        "      <td>    marcher</td>\n",
        "    </tr>\n",
        "    <tr>\n",
        "      <th>30</th>\n",
        "      <td> 279</td>\n",
        "      <td>     m\u00e8</td>\n",
        "      <td>          m\u00e8</td>\n",
        "      <td>     mettre</td>\n",
        "    </tr>\n",
        "    <tr>\n",
        "      <th>31</th>\n",
        "      <td> 280</td>\n",
        "      <td>    m\u00f4t</td>\n",
        "      <td>         m\u00f4t</td>\n",
        "      <td>     monter</td>\n",
        "    </tr>\n",
        "    <tr>\n",
        "      <th>32</th>\n",
        "      <td> 281</td>\n",
        "      <td>   m\u00f4tr</td>\n",
        "      <td>        m\u00f4tr</td>\n",
        "      <td>    montrer</td>\n",
        "    </tr>\n",
        "    <tr>\n",
        "      <th>33</th>\n",
        "      <td> 295</td>\n",
        "      <td>   \u00f2kyp</td>\n",
        "      <td>        \u00f2kyp</td>\n",
        "      <td>    occuper</td>\n",
        "    </tr>\n",
        "    <tr>\n",
        "      <th>34</th>\n",
        "      <td> 300</td>\n",
        "      <td>   ubli</td>\n",
        "      <td>        ubli</td>\n",
        "      <td>    oublier</td>\n",
        "    </tr>\n",
        "    <tr>\n",
        "      <th>35</th>\n",
        "      <td> 307</td>\n",
        "      <td>   parl</td>\n",
        "      <td>        parl</td>\n",
        "      <td>     parler</td>\n",
        "    </tr>\n",
        "    <tr>\n",
        "      <th>36</th>\n",
        "      <td> 310</td>\n",
        "      <td>    pas</td>\n",
        "      <td>         pas</td>\n",
        "      <td>     passer</td>\n",
        "    </tr>\n",
        "    <tr>\n",
        "      <th>37</th>\n",
        "      <td> 313</td>\n",
        "      <td>    p\u00e2s</td>\n",
        "      <td>         p\u00e2s</td>\n",
        "      <td>     penser</td>\n",
        "    </tr>\n",
        "    <tr>\n",
        "      <th>38</th>\n",
        "      <td> 323</td>\n",
        "      <td>   pl9r</td>\n",
        "      <td>        pl9r</td>\n",
        "      <td>    pleurer</td>\n",
        "    </tr>\n",
        "    <tr>\n",
        "      <th>39</th>\n",
        "      <td> 326</td>\n",
        "      <td>   pOrt</td>\n",
        "      <td>        pOrt</td>\n",
        "      <td>     porter</td>\n",
        "    </tr>\n",
        "    <tr>\n",
        "      <th>40</th>\n",
        "      <td> 334</td>\n",
        "      <td>    pr\u00e2</td>\n",
        "      <td>         pr\u00e2</td>\n",
        "      <td>    prendre</td>\n",
        "    </tr>\n",
        "    <tr>\n",
        "      <th>41</th>\n",
        "      <td> 335</td>\n",
        "      <td>    pri</td>\n",
        "      <td>         pri</td>\n",
        "      <td>      prier</td>\n",
        "    </tr>\n",
        "    <tr>\n",
        "      <th>42</th>\n",
        "      <td> 361</td>\n",
        "      <td>  rapEl</td>\n",
        "      <td>       rapEl</td>\n",
        "      <td>   rappeler</td>\n",
        "    </tr>\n",
        "    <tr>\n",
        "      <th>43</th>\n",
        "      <td> 375</td>\n",
        "      <td> r6gard</td>\n",
        "      <td>      r6gard</td>\n",
        "      <td>   regarder</td>\n",
        "    </tr>\n",
        "    <tr>\n",
        "      <th>44</th>\n",
        "      <td> 393</td>\n",
        "      <td>   rEst</td>\n",
        "      <td>        rEst</td>\n",
        "      <td>     rester</td>\n",
        "    </tr>\n",
        "    <tr>\n",
        "      <th>45</th>\n",
        "      <td> 397</td>\n",
        "      <td> r6truv</td>\n",
        "      <td>      r6truv</td>\n",
        "      <td>  retrouver</td>\n",
        "    </tr>\n",
        "    <tr>\n",
        "      <th>46</th>\n",
        "      <td> 431</td>\n",
        "      <td>     s\u00e2</td>\n",
        "      <td>          s\u00e2</td>\n",
        "      <td>     sentir</td>\n",
        "    </tr>\n",
        "    <tr>\n",
        "      <th>47</th>\n",
        "      <td> 437</td>\n",
        "      <td>    sOr</td>\n",
        "      <td>         sOr</td>\n",
        "      <td>     sortir</td>\n",
        "    </tr>\n",
        "    <tr>\n",
        "      <th>48</th>\n",
        "      <td> 440</td>\n",
        "      <td>  suvj\u00ea</td>\n",
        "      <td>       suvj\u00ea</td>\n",
        "      <td>   souvenir</td>\n",
        "    </tr>\n",
        "    <tr>\n",
        "      <th>49</th>\n",
        "      <td> 446</td>\n",
        "      <td>    sHi</td>\n",
        "      <td>         sHi</td>\n",
        "      <td>     suivre</td>\n",
        "    </tr>\n",
        "    <tr>\n",
        "      <th>50</th>\n",
        "      <td> 455</td>\n",
        "      <td>    tj\u00ea</td>\n",
        "      <td>         tj\u00ea</td>\n",
        "      <td>      tenir</td>\n",
        "    </tr>\n",
        "    <tr>\n",
        "      <th>51</th>\n",
        "      <td> 465</td>\n",
        "      <td> travaj</td>\n",
        "      <td>      travaj</td>\n",
        "      <td> travailler</td>\n",
        "    </tr>\n",
        "    <tr>\n",
        "      <th>52</th>\n",
        "      <td> 469</td>\n",
        "      <td>   truv</td>\n",
        "      <td>        truv</td>\n",
        "      <td>    trouver</td>\n",
        "    </tr>\n",
        "    <tr>\n",
        "      <th>53</th>\n",
        "      <td> 470</td>\n",
        "      <td>     ty</td>\n",
        "      <td>          ty</td>\n",
        "      <td>       tuer</td>\n",
        "    </tr>\n",
        "    <tr>\n",
        "      <th>54</th>\n",
        "      <td> 475</td>\n",
        "      <td>    vj\u00ea</td>\n",
        "      <td>         vj\u00ea</td>\n",
        "      <td>      venir</td>\n",
        "    </tr>\n",
        "    <tr>\n",
        "      <th>55</th>\n",
        "      <td> 481</td>\n",
        "      <td>    vwa</td>\n",
        "      <td>         vwa</td>\n",
        "      <td>       voir</td>\n",
        "    </tr>\n",
        "    <tr>\n",
        "      <th>56</th>\n",
        "      <td> 484</td>\n",
        "      <td>     v2</td>\n",
        "      <td>          v2</td>\n",
        "      <td>    vouloir</td>\n",
        "    </tr>\n",
        "    <tr>\n",
        "      <th>57</th>\n",
        "      <td> 247</td>\n",
        "      <td>  \u00eapOrt</td>\n",
        "      <td> \u00eapOrt,\u00eapOrt</td>\n",
        "      <td>   importer</td>\n",
        "    </tr>\n",
        "  </tbody>\n",
        "</table>\n",
        "</div>"
       ],
       "metadata": {},
       "output_type": "pyout",
       "prompt_number": 74,
       "text": [
        "case  index    pi1S         pI2S      lexeme\n",
        "0         0  ab\u00e2d\u00f2n       ab\u00e2d\u00f2n  abandonner\n",
        "1        11    adOr         adOr      adorer\n",
        "2        17      Em           Em       aimer\n",
        "3        18      v\u00e8           va       aller\n",
        "4        26    apEl         apEl     appeler\n",
        "5        31  apr\u00e8si       apr\u00e8si   appr\u00e9cier\n",
        "6        34    ariv         ariv     arriver\n",
        "7        36    arEt         arEt     arr\u00eater\n",
        "8        42     at\u00e2          at\u00e2    attendre\n",
        "9        45    av\u00e2s         av\u00e2s     avancer\n",
        "10       47       \u00e8            \u00e8       avoir\n",
        "11       78    SErS         SErS    chercher\n",
        "12       92   k\u00f4pr\u00e2        k\u00f4pr\u00e2  comprendre\n",
        "13      100    k\u00f2n\u00e8         k\u00f2n\u00e8   conna\u00eetre\n",
        "14      109  k\u00f4tiny       k\u00f4tiny   continuer\n",
        "15      123    krwa         krwa      croire\n",
        "16      130   d6m\u00e2d        d6m\u00e2d    demander\n",
        "17      134     dwa          dwa      devoir\n",
        "18      135      di           di        dire\n",
        "19      139     d\u00f2n          d\u00f2n      donner\n",
        "20      165   d\u00e8pES        d\u00e8pES    d\u00e9p\u00eacher\n",
        "21      194   EspEr        EspEr     esp\u00e9rer\n",
        "22      197  Ekskyz       Ekskyz     excuser\n",
        "23      204      f\u00e8           f\u00e8       faire\n",
        "25      262     lEs          lEs     laisser\n",
        "26      266     lEv          lEv       lever\n",
        "27      268      li           li        lire\n",
        "28      273     m\u00e2Z          m\u00e2Z      manger\n",
        "29      276    marS         marS     marcher\n",
        "30      279      m\u00e8           m\u00e8      mettre\n",
        "31      280     m\u00f4t          m\u00f4t      monter\n",
        "32      281    m\u00f4tr         m\u00f4tr     montrer\n",
        "33      295    \u00f2kyp         \u00f2kyp     occuper\n",
        "34      300    ubli         ubli     oublier\n",
        "35      307    parl         parl      parler\n",
        "36      310     pas          pas      passer\n",
        "37      313     p\u00e2s          p\u00e2s      penser\n",
        "38      323    pl9r         pl9r     pleurer\n",
        "39      326    pOrt         pOrt      porter\n",
        "40      334     pr\u00e2          pr\u00e2     prendre\n",
        "41      335     pri          pri       prier\n",
        "42      361   rapEl        rapEl    rappeler\n",
        "43      375  r6gard       r6gard    regarder\n",
        "44      393    rEst         rEst      rester\n",
        "45      397  r6truv       r6truv   retrouver\n",
        "46      431      s\u00e2           s\u00e2      sentir\n",
        "47      437     sOr          sOr      sortir\n",
        "48      440   suvj\u00ea        suvj\u00ea    souvenir\n",
        "49      446     sHi          sHi      suivre\n",
        "50      455     tj\u00ea          tj\u00ea       tenir\n",
        "51      465  travaj       travaj  travailler\n",
        "52      469    truv         truv     trouver\n",
        "53      470      ty           ty        tuer\n",
        "54      475     vj\u00ea          vj\u00ea       venir\n",
        "55      481     vwa          vwa        voir\n",
        "56      484      v2           v2     vouloir\n",
        "57      247   \u00eapOrt  \u00eapOrt,\u00eapOrt    importer"
       ]
      }
     ],
     "prompt_number": 74
    },
    {
     "cell_type": "code",
     "collapsed": false,
     "input": [
      "for name, group in paradigmePaire.groupby([\"patron1\",\"patron2\"]):#[[\"lexeme\",\"patron1\",\"patron2\"]].apply(lambda x: \", \".join(x[\"lexeme\"])):\n",
      "    print name\n",
      "    for element in group:\n",
      "        print group[element]"
     ],
     "language": "python",
     "metadata": {},
     "outputs": [
      {
       "output_type": "stream",
       "stream": "stdout",
       "text": [
        "case pi1S  fi1P   lexeme    rapports patron1 patron2\n",
        "47      \u00e8   \u00f2r\u00f4    avoir    (\u00e8, \u00f2r\u00f4)       \u00e8     \u00f2r\u00f4\n",
        "332    p2  pur\u00f4  pouvoir  (.2, .ur\u00f4)       2     ur\u00f4\n",
        "(u'2', u'ur\\xf4')\n",
        "332    p2\n",
        "Name: pi1S, dtype: object\n",
        "332    pur\u00f4\n",
        "Name: fi1P, dtype: object\n",
        "332    pouvoir\n",
        "Name: lexeme, dtype: object\n",
        "332    (.2, .ur\u00f4)\n",
        "Name: rapports, dtype: object\n",
        "332    2\n",
        "Name: patron1, dtype: object\n",
        "332    ur\u00f4\n",
        "Name: patron2, dtype: object\n",
        "(u'\\xe8', u'\\xf2r\\xf4')\n",
        "47    \u00e8\n",
        "Name: pi1S, dtype: object\n",
        "47    \u00f2r\u00f4\n",
        "Name: fi1P, dtype: object\n",
        "47    avoir\n",
        "Name: lexeme, dtype: object\n",
        "47    (\u00e8, \u00f2r\u00f4)\n",
        "Name: rapports, dtype: object\n",
        "47    \u00e8\n",
        "Name: patron1, dtype: object\n",
        "47    \u00f2r\u00f4\n",
        "Name: patron2, dtype: object\n"
       ]
      }
     ],
     "prompt_number": 43
    },
    {
     "cell_type": "code",
     "collapsed": false,
     "input": [
      "test=paradigmes[[\"lexeme\",\"pi1S\",\"pi3S\"]].dropna(thresh=2, axis=0).reindex()\n",
      "test"
     ],
     "language": "python",
     "metadata": {},
     "outputs": []
    },
    {
     "cell_type": "code",
     "collapsed": false,
     "input": [
      "test=splitCellMates(test,\"pi1S\")\n",
      "splitCellMates(test,\"pi3S\")"
     ],
     "language": "python",
     "metadata": {},
     "outputs": []
    },
    {
     "cell_type": "code",
     "collapsed": false,
     "input": [],
     "language": "python",
     "metadata": {},
     "outputs": []
    },
    {
     "cell_type": "code",
     "collapsed": false,
     "input": [],
     "language": "python",
     "metadata": {},
     "outputs": []
    },
    {
     "cell_type": "code",
     "collapsed": false,
     "input": [],
     "language": "python",
     "metadata": {},
     "outputs": []
    },
    {
     "cell_type": "code",
     "collapsed": false,
     "input": [],
     "language": "python",
     "metadata": {},
     "outputs": []
    },
    {
     "cell_type": "code",
     "collapsed": false,
     "input": [],
     "language": "python",
     "metadata": {},
     "outputs": []
    },
    {
     "cell_type": "code",
     "collapsed": false,
     "input": [],
     "language": "python",
     "metadata": {},
     "outputs": []
    },
    {
     "cell_type": "code",
     "collapsed": false,
     "input": [],
     "language": "python",
     "metadata": {},
     "outputs": []
    },
    {
     "cell_type": "code",
     "collapsed": false,
     "input": [],
     "language": "python",
     "metadata": {},
     "outputs": []
    },
    {
     "cell_type": "code",
     "collapsed": false,
     "input": [],
     "language": "python",
     "metadata": {},
     "outputs": []
    },
    {
     "cell_type": "markdown",
     "metadata": {},
     "source": [
      "##Tirages pour les statistiques de remplissage des paradigmes"
     ]
    },
    {
     "cell_type": "code",
     "collapsed": false,
     "input": [
      "manquantesMoyenne={}\n",
      "annexesMoyenne={}\n",
      "%%time\n",
      "nbTirages=250\n",
      "echantillonTailles=[250*x for x in range(2,10)]\n",
      "\n",
      "def remplissageParadigmes(nbTirages,echantillonTailles)\n",
      "    for echantillonTaille in echantillonTailles:\n",
      "        nbManquantes=0\n",
      "        nbAnnexes=0\n",
      "        for n in range(nbTirages):\n",
      "            tirage=np.random.choice(verbes.index,size=echantillonTaille,p=verbes[\"prob\"],replace=False)\n",
      "            extrait=verbes.ix[np.sort(tirage)]\n",
      "            paradigmes=pd.pivot_table(extrait, values='phono', index=['lexeme'], columns=['case'], aggfunc=lambda x: x)\n",
      "            paradigmes.count()\n",
      "            manquantes=[case for case in casesPrincipales if not case in extrait[extrait[\"lexeme\"].isin(casesPrincipales)][\"case\"].unique()]\n",
      "            annexes=[case for case in casesSecondaires if not case in extrait[extrait[\"lexeme\"].isin(casesSecondaires)][\"case\"].unique()]\n",
      "            if manquantes :\n",
      "                nbManquantes+=1\n",
      "            if annexes:\n",
      "                nbAnnexes+=1\n",
      "        manquantesMoyenne[echantillonTaille]=100*float(nbManquantes)/nbTirages\n",
      "        annexesMoyenne[echantillonTaille]=100*float(nbAnnexes)/nbTirages"
     ],
     "language": "python",
     "metadata": {},
     "outputs": []
    },
    {
     "cell_type": "code",
     "collapsed": false,
     "input": [
      "paradigmes=pd.pivot_table(extrait, values='phono', index=['lexeme'], columns=['case'], aggfunc=lambda x: x)\n",
      "paradigmes"
     ],
     "language": "python",
     "metadata": {},
     "outputs": []
    },
    {
     "cell_type": "code",
     "collapsed": false,
     "input": [
      "tirage.dtype"
     ],
     "language": "python",
     "metadata": {},
     "outputs": []
    },
    {
     "cell_type": "code",
     "collapsed": false,
     "input": [
      "tirages=[]\n",
      "increment=250\n",
      "resteVerbes=verbes\n",
      "resteVerbes.index\n",
      "for i in range(32):\n",
      "    tirage=np.random.choice(resteVerbes.index,size=increment,p=resteVerbes[\"prob\"],replace=False)\n",
      "    print tirage\n",
      "    resteVerbes.drop(resteVerbes.index[tirage])\n",
      "    print resteVerbes.count()\n",
      "    tirages.append(tirage)"
     ],
     "language": "python",
     "metadata": {},
     "outputs": []
    },
    {
     "cell_type": "code",
     "collapsed": false,
     "input": [
      "formes=[]\n",
      "for tirage in tirages:\n",
      "    formes.extend(tirage)\n",
      "extrait=verbes.ix[np.sort(formes)]"
     ],
     "language": "python",
     "metadata": {},
     "outputs": []
    },
    {
     "cell_type": "code",
     "collapsed": false,
     "input": [
      "paradigmes=pd.pivot_table(extrait, values='phono', index=['lexeme'], columns=['case'], aggfunc=lambda x: x)"
     ],
     "language": "python",
     "metadata": {},
     "outputs": []
    },
    {
     "cell_type": "code",
     "collapsed": false,
     "input": [
      "resteVerbes.index"
     ],
     "language": "python",
     "metadata": {},
     "outputs": []
    },
    {
     "cell_type": "code",
     "collapsed": false,
     "input": [
      "%%time\n",
      "nbTirages=250\n",
      "echantillonTailles=[250*x for x in range(2,10)]\n",
      "\n",
      "for echantillonTaille in echantillonTailles:\n",
      "    nbManquantes=0\n",
      "    nbAnnexes=0\n",
      "    for n in range(nbTirages):\n",
      "        tirage=np.random.choice(verbes.index,size=echantillonTaille,p=verbes[\"prob\"],replace=False)\n",
      "        extrait=verbes.ix[np.sort(tirage)]\n",
      "        formes=extrait.groupby([\"lexeme\"])[\"case\"].count()\n",
      "        liste=formes[formes>1].index\n",
      "        manquantes=[case for case in casesPrincipales if not case in extrait[extrait[\"lexeme\"].isin(liste)][\"case\"].unique()]\n",
      "        annexes=[case for case in casesSecondaires if not case in extrait[extrait[\"lexeme\"].isin(liste)][\"case\"].unique()]\n",
      "        if manquantes :\n",
      "            nbManquantes+=1\n",
      "        if annexes:\n",
      "            nbAnnexes+=1\n",
      "    manquantesMoyenne[echantillonTaille]=100*float(nbManquantes)/nbTirages\n",
      "    annexesMoyenne[echantillonTaille]=100*float(nbAnnexes)/nbTirages"
     ],
     "language": "python",
     "metadata": {},
     "outputs": []
    },
    {
     "cell_type": "code",
     "collapsed": false,
     "input": [
      "courbeSecondaires=pd.Series(annexesMoyenne)\n",
      "courbePrincipales=pd.Series(manquantesMoyenne)"
     ],
     "language": "python",
     "metadata": {},
     "outputs": []
    },
    {
     "cell_type": "code",
     "collapsed": false,
     "input": [
      "courbePrincipales.plot()\n",
      "courbeSecondaires.plot()"
     ],
     "language": "python",
     "metadata": {},
     "outputs": []
    },
    {
     "cell_type": "code",
     "collapsed": false,
     "input": [
      "formes[formes>1]"
     ],
     "language": "python",
     "metadata": {},
     "outputs": []
    },
    {
     "cell_type": "code",
     "collapsed": false,
     "input": [
      "tirageCases=extrait[extrait[\"lexeme\"].isin(liste)].groupby([\"lexeme\"])[\"case\"].apply(lambda x: list(x)).copy()\n",
      "#tirageCases[\"paires\"]=tirageCases[\"cases\"].apply(lambda x: [(y,z) for (y,z) in it.product(x,x) if y!=z])"
     ],
     "language": "python",
     "metadata": {},
     "outputs": []
    },
    {
     "cell_type": "code",
     "collapsed": false,
     "input": [
      "nbPaires={}\n",
      "for paire in produitPrincipal:\n",
      "#    print paire\n",
      "    for index,row in tirageCases.iteritems():\n",
      "#        print row\n",
      "        if paire[0] in row and paire[1] in row:\n",
      "            if not paire in nbPaires:\n",
      "                nbPaires[paire]=0\n",
      "            nbPaires[paire]+=1"
     ],
     "language": "python",
     "metadata": {},
     "outputs": []
    },
    {
     "cell_type": "code",
     "collapsed": false,
     "input": [
      "nbPairesSuffisantes=pd.Series()\n",
      "for seuil in range(10):\n",
      "    pairesManquantes=produitPrincipal[:]\n",
      "    for paire in nbPaires:\n",
      "        if nbPaires[paire]>seuil:\n",
      "            pairesManquantes.remove(paire)\n",
      "    nbPairesSuffisantes.loc[seuil]=len(produitPrincipal)-len(pairesManquantes)"
     ],
     "language": "python",
     "metadata": {},
     "outputs": []
    }
   ],
   "metadata": {}
  }
 ]
}