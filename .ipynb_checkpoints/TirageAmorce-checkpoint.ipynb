{
 "metadata": {
  "name": "",
  "signature": "sha256:2848515b0fd64d56e81c19161e6ef5b7568162b7d241e63c067e59fa5c54bc29"
 },
 "nbformat": 3,
 "nbformat_minor": 0,
 "worksheets": [
  {
   "cells": [
    {
     "cell_type": "markdown",
     "metadata": {},
     "source": [
      "##Importations\n",
      "- codecs pour les encodages\n",
      "- pandas et numpy pour les calculs sur tableaux\n",
      "- matplotlib pour les graphiques\n",
      "- itertools pour les it\u00e9rateurs sophistiqu\u00e9s (paires sur liste, ...)"
     ]
    },
    {
     "cell_type": "code",
     "collapsed": false,
     "input": [
      "# -*- coding: utf8 -*-\n",
      "import codecs\n",
      "import features\n",
      "import re\n",
      "import pandas as pd\n",
      "import numpy as np\n",
      "import matplotlib.pyplot as plt\n",
      "import itertools as it\n",
      "#%pylab inline\n",
      "#pd.options.display.mpl_style = 'default'\n",
      "debug=False"
     ],
     "language": "python",
     "metadata": {},
     "outputs": [],
     "prompt_number": 1
    },
    {
     "cell_type": "markdown",
     "metadata": {},
     "source": [
      "###Pr\u00e9paration des matrices de traits"
     ]
    },
    {
     "cell_type": "code",
     "collapsed": false,
     "input": [
      "features.add_config('bdlexique.ini')\n",
      "fs=features.FeatureSystem('phonemes')\n",
      "#fs.supremum.concept.extent"
     ],
     "language": "python",
     "metadata": {},
     "outputs": [],
     "prompt_number": 2
    },
    {
     "cell_type": "code",
     "collapsed": false,
     "input": [
      "bdlexiqueIn = unicode(u\"\u00e8\u00f2\")\n",
      "bdlexiqueNum = [ord(char) for char in bdlexiqueIn]\n",
      "neutreOut = unicode(u\"EO\")\n",
      "neutralise = dict(zip(bdlexiqueNum, neutreOut))"
     ],
     "language": "python",
     "metadata": {},
     "outputs": [],
     "prompt_number": 3
    },
    {
     "cell_type": "code",
     "collapsed": false,
     "input": [
      "def recoder(chaine,table=neutralise):\n",
      "    if type(chaine)==str:\n",
      "        temp=unicode(chaine.decode('utf8')).translate(table)\n",
      "        result=temp.encode('utf8')\n",
      "    elif type(chaine)==unicode:\n",
      "        result=chaine.translate(table)\n",
      "    return result"
     ],
     "language": "python",
     "metadata": {},
     "outputs": [],
     "prompt_number": 4
    },
    {
     "cell_type": "markdown",
     "metadata": {},
     "source": [
      "#Pr\u00e9paration du tableau de VERBES"
     ]
    },
    {
     "cell_type": "markdown",
     "metadata": {},
     "source": [
      "###Lecture du lexique"
     ]
    },
    {
     "cell_type": "code",
     "collapsed": false,
     "input": [
      "nomLexique=\"/Users/gilles/Copy/Python/phonemisation/bdlexique-PDM.txt\"\n",
      "bdlexique=pd.read_csv(nomLexique,sep=\";\",names=[\"ortho\",\"phono\",\"ext\",\"cs\",\"ms\",\"vs\",\"lexeme\",\"L23\",\"lemmeFrantext\",\"lemmeFilms\",\"formeFrantext\",\"formeFilms\"],encoding=\"utf8\")"
     ],
     "language": "python",
     "metadata": {},
     "outputs": [],
     "prompt_number": 5
    },
    {
     "cell_type": "markdown",
     "metadata": {},
     "source": [
      "###D\u00e9finition des cases\n",
      "- principales pour le paradigme courant\n",
      "- secondaires pour les cases rares\n",
      "- totales pour le tout"
     ]
    },
    {
     "cell_type": "code",
     "collapsed": false,
     "input": [
      "casesPrincipales= [\n",
      "        'inf', 'pi1S', 'pi2S', 'pi3S', 'pi1P', 'pi2P', 'pi3P', 'ii1S',\n",
      "        'ii2S', 'ii3S', 'ii1P', 'ii2P', 'ii3P', \n",
      "        'fi1S', 'fi2S', 'fi3S', 'fi1P', 'fi2P',\n",
      "        'fi3P', 'pI2S', 'pI1P', 'pI2P', 'ps1S', 'ps2S', 'ps3S', 'ps1P',\n",
      "        'ps2P', 'ps3P', \n",
      "        'pc1S', 'pc2S', 'pc3S', 'pc1P', 'pc2P', 'pc3P', 'pP'\n",
      "            ]\n",
      "casesSecondaires= [\n",
      "       'ai1S', 'ai2S', 'ai3S', 'ai1P', 'ai2P', 'ai3P', 'is1S', 'is2S', 'is3S', 'is1P', 'is2P', 'is3P'\n",
      "            ]\n",
      "casesTotales=casesPrincipales+casesSecondaires"
     ],
     "language": "python",
     "metadata": {},
     "outputs": [],
     "prompt_number": 6
    },
    {
     "cell_type": "markdown",
     "metadata": {},
     "source": [
      "###Cr\u00e9ation de la colonne de fr\u00e9quence *freq*\n",
      "- fr\u00e9quence positive : 10.f\n",
      "- fr\u00e9quence nulle : 5\n",
      "- fr\u00e9quence inexistante : 1"
     ]
    },
    {
     "cell_type": "code",
     "collapsed": false,
     "input": [
      "bdlexique[\"freq\"]=bdlexique[bdlexique[\"formeFrantext\"]!=\"***\"][\"formeFrantext\"].astype(float)*10\n",
      "bdlexique.loc[bdlexique[\"formeFrantext\"]==\"0\",\"freq\"]=5\n",
      "bdlexique.loc[bdlexique[\"formeFrantext\"]==\"***\",\"freq\"]=1"
     ],
     "language": "python",
     "metadata": {},
     "outputs": [],
     "prompt_number": 7
    },
    {
     "cell_type": "markdown",
     "metadata": {},
     "source": [
      "###Elimination des colonnes inutiles\n",
      "- indicateur L23\n",
      "- fr\u00e9quences brutes"
     ]
    },
    {
     "cell_type": "code",
     "collapsed": false,
     "input": [
      "inutilesColonnes=[\"L23\",\"lemmeFrantext\",\"lemmeFilms\",\"formeFrantext\",\"formeFilms\"]\n",
      "for colonne in inutilesColonnes:\n",
      "    del bdlexique[colonne]"
     ],
     "language": "python",
     "metadata": {},
     "outputs": [],
     "prompt_number": 8
    },
    {
     "cell_type": "markdown",
     "metadata": {},
     "source": [
      "###Extraction des formes verbales dans une structure *verbes*"
     ]
    },
    {
     "cell_type": "code",
     "collapsed": false,
     "input": [
      "verbes=bdlexique[bdlexique[\"cs\"]==\"V\"].copy()"
     ],
     "language": "python",
     "metadata": {},
     "outputs": [],
     "prompt_number": 9
    },
    {
     "cell_type": "code",
     "collapsed": false,
     "input": [
      "verbes[\"phono\"]=verbes[\"phono\"].apply(lambda x: recoder(x))"
     ],
     "language": "python",
     "metadata": {},
     "outputs": [],
     "prompt_number": 10
    },
    {
     "cell_type": "code",
     "collapsed": false,
     "input": [
      "#verbes[\"phono\"]\n",
      "print recoder(u\"tOt\u00f2t\u00e8tE\")"
     ],
     "language": "python",
     "metadata": {},
     "outputs": [
      {
       "output_type": "stream",
       "stream": "stdout",
       "text": [
        "tOtOtEtE\n"
       ]
      }
     ],
     "prompt_number": 11
    },
    {
     "cell_type": "markdown",
     "metadata": {},
     "source": [
      "###Ajout d'une colonne *prob* pour la fr\u00e9quence relative"
     ]
    },
    {
     "cell_type": "code",
     "collapsed": false,
     "input": [
      "verbes[\"prob\"]=verbes[\"freq\"]/verbes[\"freq\"].sum()"
     ],
     "language": "python",
     "metadata": {},
     "outputs": [],
     "prompt_number": 12
    },
    {
     "cell_type": "markdown",
     "metadata": {},
     "source": [
      "###Ajout d'une colonne *case*\n",
      "- remplir les *ms* vide pour permettre la concat\u00e9nation sans erreur\n",
      "- *case* est la concat\u00e9nation de *vs* et *ms*"
     ]
    },
    {
     "cell_type": "code",
     "collapsed": false,
     "input": [
      "verbes[\"ms\"]=verbes[\"ms\"].fillna(\"\")\n",
      "verbes[\"case\"]=verbes[\"vs\"]+verbes[\"ms\"]"
     ],
     "language": "python",
     "metadata": {},
     "outputs": [],
     "prompt_number": 13
    },
    {
     "cell_type": "markdown",
     "metadata": {},
     "source": [
      "#Echantillonage"
     ]
    },
    {
     "cell_type": "markdown",
     "metadata": {},
     "source": [
      "##Tirage incr\u00e9mental des formes disponibles\n",
      "- increment : taille de chaque tirage\n",
      "- nombre : nombre de tirages\n",
      "\n",
      "np.random.choice donne une liste d'index de formes tir\u00e9es dans l'ordre du tirage\n",
      "\n",
      "on d\u00e9coupe la liste en morceaux de la taille de l'incr\u00e9ment"
     ]
    },
    {
     "cell_type": "code",
     "collapsed": false,
     "input": [
      "nombre=1000\n",
      "increment=250\n",
      "tirage=np.random.choice(verbes.index,size=nombre*increment,p=verbes[\"prob\"],replace=False)\n",
      "tirages=[tirage[increment*x:increment*(x+1)] for x in range(len(tirage)/increment+(len(tirage)%increment!=0))]"
     ],
     "language": "python",
     "metadata": {},
     "outputs": [],
     "prompt_number": 14
    },
    {
     "cell_type": "markdown",
     "metadata": {},
     "source": [
      "##Boucle sur les \u00e9chantillons successifs\n",
      "- extrait contient les index des formes du lot\n",
      "- paradigmes contient la table des formes du lot"
     ]
    },
    {
     "cell_type": "code",
     "collapsed": false,
     "input": [
      "'''\n",
      "lot=[]\n",
      "tailles={}\n",
      "for n in range(4):\n",
      "    lot.extend(tirages[n])\n",
      "    extrait=verbes.ix[np.sort(lot)]\n",
      "    paradigmes=pd.pivot_table(extrait, values='phono', index=['lexeme'], columns=['case'], aggfunc=lambda x: x)\n",
      "    if n%25==0:\n",
      "        tailles[n]=paradigmes.count()\n",
      "'''"
     ],
     "language": "python",
     "metadata": {},
     "outputs": [
      {
       "metadata": {},
       "output_type": "pyout",
       "prompt_number": 15,
       "text": [
        "\"\\nlot=[]\\ntailles={}\\nfor n in range(4):\\n    lot.extend(tirages[n])\\n    extrait=verbes.ix[np.sort(lot)]\\n    paradigmes=pd.pivot_table(extrait, values='phono', index=['lexeme'], columns=['case'], aggfunc=lambda x: x)\\n    if n%25==0:\\n        tailles[n]=paradigmes.count()\\n\""
       ]
      }
     ],
     "prompt_number": 15
    },
    {
     "cell_type": "markdown",
     "metadata": {},
     "source": [
      "##Assembler les \u00e9chantillons correspondant \u00e0 une \u00e9tape n"
     ]
    },
    {
     "cell_type": "code",
     "collapsed": false,
     "input": [
      "def assemblerExtrait(nombre):\n",
      "    return verbes.ix[np.sort(np.concatenate(tirages[0:nombre]))]"
     ],
     "language": "python",
     "metadata": {},
     "outputs": [],
     "prompt_number": 16
    },
    {
     "cell_type": "code",
     "collapsed": false,
     "input": [
      "extrait=assemblerExtrait(200)\n",
      "paradigmes=pd.pivot_table(extrait, values='phono', index=['lexeme'], columns=['case'], aggfunc=lambda x: \",\".join(x)).reset_index().reindex()"
     ],
     "language": "python",
     "metadata": {},
     "outputs": [],
     "prompt_number": 17
    },
    {
     "cell_type": "code",
     "collapsed": false,
     "input": [
      "def diff(mot1,mot2):\n",
      "    result=[]\n",
      "    diff1=\"\"\n",
      "    diff2=\"\"\n",
      "    same=\"\"\n",
      "    vide=\".\"\n",
      "    lmax=max(len(mot1),len(mot2))\n",
      "    lmin=min(len(mot1),len(mot2))\n",
      "    for index in range(lmax):\n",
      "        if index < lmin:\n",
      "            if mot1[index]!=mot2[index]:\n",
      "                diff1+=mot1[index]\n",
      "                diff2+=mot2[index]\n",
      "                same+=vide\n",
      "            else:\n",
      "                same+=mot1[index]\n",
      "                diff1+=vide\n",
      "                diff2+=vide\n",
      "        elif index < len(mot1):\n",
      "            diff1+=mot1[index]\n",
      "        elif index < len(mot2):\n",
      "            diff2+=mot2[index]\n",
      "    diff1=diff1.lstrip(\".\")\n",
      "    diff2=diff2.lstrip(\".\")\n",
      "#    return (same,diff1,diff2,diff1+\"_\"+diff2)\n",
      "    return (diff1+\"-\"+diff2)\n",
      "\n",
      "def rowDiff(row, patrons):\n",
      "    result=diff(row[0],row[1])\n",
      "    if not result in patrons:\n",
      "        patrons[result]=(formesPatron(),formesPatron())\n",
      "    patrons[result][0].ajouterFormes(row[0])\n",
      "    patrons[result][1].ajouterFormes(row[1])\n",
      "    return (result[0],result[1])\n"
     ],
     "language": "python",
     "metadata": {},
     "outputs": [],
     "prompt_number": 18
    },
    {
     "cell_type": "code",
     "collapsed": false,
     "input": [
      "def patron2regexp(morceaux):\n",
      "    result=\"^\"\n",
      "    for morceau in morceaux:\n",
      "        if morceau==\"*\":\n",
      "            result+=\"(.*)\"\n",
      "        elif len(morceau)>1:\n",
      "            result+=\"([\"+morceau+\"])\"\n",
      "        else:\n",
      "            result+=morceau\n",
      "    result+=\"$\"\n",
      "    result=result.replace(\")(\",\"\")\n",
      "    return result"
     ],
     "language": "python",
     "metadata": {},
     "outputs": [],
     "prompt_number": 19
    },
    {
     "cell_type": "code",
     "collapsed": false,
     "input": [
      "class formesPatron:\n",
      "    '''\n",
      "    Accumulateur de formes correspondant \u00e0 un patron pour calcul de la G\u00e9n\u00e9ralisation Minimale (cf. MGL)\n",
      "    '''\n",
      "    def __init__(self):\n",
      "        self.formes=[]\n",
      "\n",
      "#    def __repr__(self):\n",
      "#        return ','.join(self.calculerGM())\n",
      "        \n",
      "    def ajouterForme(self,forme):\n",
      "        self.formes.append(forme)\n",
      "        \n",
      "    def calculerGM(self):\n",
      "        minLongueur=len(min(self.formes, key=len))\n",
      "        maxLongueur=len(max(self.formes, key=len))\n",
      "        if debug: print minLongueur, maxLongueur\n",
      "        positions=[]\n",
      "        if maxLongueur>minLongueur:\n",
      "            positions.append(\"*\")\n",
      "        for i in xrange(minLongueur, 0, -1):\n",
      "            phonemes=set([x[-i] for x in self.formes])\n",
      "            if debug: print phonemes\n",
      "            if \".\" in phonemes:\n",
      "                positions.append(\".\")\n",
      "            else:\n",
      "                positions.append(\"\".join(fs.lattice[phonemes].extent))\n",
      "        return patron2regexp(positions)\n",
      "\n",
      "class pairePatrons:\n",
      "    '''\n",
      "    Accumulateur de triplets (f1,f2,patron) correspondant \u00e0 une paire pour calcul des G\u00e9n\u00e9ralisations Minimales (cf. MGL)\n",
      "    '''\n",
      "    def __init__(self,nom=\"\"):\n",
      "        self.patrons1={}\n",
      "        self.patrons2={}\n",
      "        self.nom=nom\n",
      "\n",
      "#    def __repr__(self):\n",
      "#        return ','.join(self.calculerGM())\n",
      "        \n",
      "    def ajouterFormes(self,forme1,forme2,patron):\n",
      "        patron12=patron\n",
      "        (pat1,pat2)=patron.split(\"-\")\n",
      "        patron21=pat2+\"-\"+pat1\n",
      "        if not patron12 in self.patrons1:\n",
      "            self.patrons1[patron12]=formesPatron()\n",
      "        self.patrons1[patron12].ajouterForme(forme1)\n",
      "        if not patron21 in self.patrons2:\n",
      "            self.patrons2[patron21]=formesPatron()\n",
      "        self.patrons2[patron21].ajouterForme(forme2)\n",
      "        \n",
      "        \n",
      "    def calculerGM(self):\n",
      "        resultat1={}\n",
      "        for patron in self.patrons1:\n",
      "            if debug: print \"patron1\", patron\n",
      "            resultat1[patron]=self.patrons1[patron].calculerGM()\n",
      "        resultat2={}\n",
      "        for patron in self.patrons2:\n",
      "            if debug: print \"patron2\", patron\n",
      "            resultat2[patron]=self.patrons2[patron].calculerGM()\n",
      "        return (resultat1,resultat2) "
     ],
     "language": "python",
     "metadata": {},
     "outputs": [],
     "prompt_number": 20
    },
    {
     "cell_type": "markdown",
     "metadata": {},
     "source": [
      "##Appliquer la formule de calcul des diff\u00e9rences entre chaines \u00e0 chaque ligne\n",
      "\n",
      ">si il y a au moins une ligne\n",
      "\n",
      ">>on applique la diff\u00e9rence \u00e0 la ligne\n",
      "\n",
      ">>on calcule les deux patrons par suppression des points initiaux\n",
      "\n",
      ">>on renvoie le groupement par patrons (1&2)\n",
      "\n",
      ">sinon\n",
      "\n",
      ">>on renvoie le paradigme vide d'origine"
     ]
    },
    {
     "cell_type": "code",
     "collapsed": false,
     "input": [
      "def rapports(paradigme):\n",
      "#    global debug\n",
      "#    if debug: print \"paradigme\", paradigme.columns.values, len(paradigme)\n",
      "    patrons=pairePatrons()\n",
      "    if len(paradigme)>0:\n",
      "        for index, row in paradigme.iterrows():\n",
      "            patrons.ajouterFormes(row[0],row[1],diff(row[0],row[1]))\n",
      "#    if \"fi1S\" in paradigme.columns.values:\n",
      "#        debug=True\n",
      "#    else:\n",
      "#        debug=False\n",
      "    return patrons.calculerGM()"
     ],
     "language": "python",
     "metadata": {},
     "outputs": [],
     "prompt_number": 21
    },
    {
     "cell_type": "markdown",
     "metadata": {},
     "source": [
      "###D\u00e9doubler les lignes avec des surabondances dans *colonne*\n",
      ">identifier une ligne avec surabondance\n",
      "\n",
      ">>ajouter les lignes correspondant \u00e0 chaque valeur\n",
      "\n",
      ">>ajouter le num\u00e9ro de la ligne initiale dans les lignes \u00e0 supprimer\n",
      "\n",
      ">supprimer les lignes avec surabondance\n",
      "\n",
      "NB : il faut pr\u00e9parer le tableau pour avoir une indexation qui permette l'ajout des valeurs individuelles et la suppression des lignes de surabondances"
     ]
    },
    {
     "cell_type": "code",
     "collapsed": false,
     "input": [
      "def splitCellMates(df,colonne):\n",
      "    '''\n",
      "    Calcul d'une dataframe sans surabondance par d\u00e9doublement des valeurs\n",
      "    '''\n",
      "    test=df.reset_index()\n",
      "    del test[\"index\"]\n",
      "    splitIndexes=[]\n",
      "    for index,ligne in test.iterrows():\n",
      "        if \",\" in ligne[colonne]:\n",
      "            valeurs=set(ligne[colonne].split(\",\"))\n",
      "            nouvelleLigne=ligne\n",
      "            for valeur in valeurs:\n",
      "                nouvelleLigne[colonne]=valeur\n",
      "                test=test.append(nouvelleLigne,ignore_index=True)\n",
      "            splitIndexes.append(index)\n",
      "    if splitIndexes:\n",
      "        test=test.drop(test.index[splitIndexes])\n",
      "    return test\n"
     ],
     "language": "python",
     "metadata": {},
     "outputs": [],
     "prompt_number": 22
    },
    {
     "cell_type": "markdown",
     "metadata": {},
     "source": [
      "##Calculer les rapports entre formes pour chaque paire\n",
      "\n",
      ">on fait la liste des cases de *paradigmes*\n",
      "\n",
      ">pour chaque paire du tableau principal\n",
      "\n",
      ">>si la paire fait partie des cases de *paradigmes*\n",
      "\n",
      ">>>on calcule le rapport\n",
      "\n",
      ">>sinon\n",
      "\n",
      ">>>on signale que qu'une des cases n'est pas repr\u00e9sent\u00e9e"
     ]
    },
    {
     "cell_type": "code",
     "collapsed": false,
     "input": [
      "def evaluerEchantillon(paradigmes):\n",
      "    result={}\n",
      "    colonnes=paradigmes.columns.values.tolist()\n",
      "    for paire in it.combinations(casesPrincipales,2):\n",
      "        paireListe=list(paire)\n",
      "        print paireListe,\n",
      "        paireListe.append(\"lexeme\")\n",
      "        if paire[0] in colonnes and paire[1] in colonnes:\n",
      "            paradigmePaire=paradigmes[paireListe].dropna(thresh=3, axis=0).reindex()\n",
      "            paradigmePaire=splitCellMates(splitCellMates(paradigmePaire,paire[0]),paire[1])\n",
      "            result[paire]=rapports(paradigmePaire)\n",
      "        else:\n",
      "            result[paire]=(\"missing pair\", paire)\n",
      "    return result"
     ],
     "language": "python",
     "metadata": {},
     "outputs": [],
     "prompt_number": 23
    },
    {
     "cell_type": "markdown",
     "metadata": {},
     "source": [
      "###Boucle de calcul des analogies pour l'\u00e9chantillon"
     ]
    },
    {
     "cell_type": "code",
     "collapsed": false,
     "input": [
      "%%time\n",
      "debug=False\n",
      "resultats=evaluerEchantillon(paradigmes)"
     ],
     "language": "python",
     "metadata": {},
     "outputs": [
      {
       "output_type": "stream",
       "stream": "stdout",
       "text": [
        "['inf', 'pi1S'] "
       ]
      },
      {
       "output_type": "stream",
       "stream": "stdout",
       "text": [
        "['inf', 'pi2S'] "
       ]
      },
      {
       "output_type": "stream",
       "stream": "stdout",
       "text": [
        "['inf', 'pi3S'] "
       ]
      },
      {
       "output_type": "stream",
       "stream": "stdout",
       "text": [
        "['inf', 'pi1P'] "
       ]
      },
      {
       "output_type": "stream",
       "stream": "stdout",
       "text": [
        "['inf', 'pi2P'] "
       ]
      },
      {
       "output_type": "stream",
       "stream": "stdout",
       "text": [
        "['inf', 'pi3P'] "
       ]
      },
      {
       "output_type": "stream",
       "stream": "stdout",
       "text": [
        "['inf', 'ii1S'] "
       ]
      },
      {
       "output_type": "stream",
       "stream": "stdout",
       "text": [
        "['inf', 'ii2S'] "
       ]
      },
      {
       "output_type": "stream",
       "stream": "stdout",
       "text": [
        "['inf', 'ii3S'] "
       ]
      },
      {
       "output_type": "stream",
       "stream": "stdout",
       "text": [
        "['inf', 'ii1P'] "
       ]
      },
      {
       "output_type": "stream",
       "stream": "stdout",
       "text": [
        "['inf', 'ii2P'] "
       ]
      },
      {
       "output_type": "stream",
       "stream": "stdout",
       "text": [
        "['inf', 'ii3P'] "
       ]
      },
      {
       "output_type": "stream",
       "stream": "stdout",
       "text": [
        "['inf', 'fi1S'] "
       ]
      },
      {
       "output_type": "stream",
       "stream": "stdout",
       "text": [
        "['inf', 'fi2S'] "
       ]
      },
      {
       "output_type": "stream",
       "stream": "stdout",
       "text": [
        "['inf', 'fi3S'] "
       ]
      },
      {
       "output_type": "stream",
       "stream": "stdout",
       "text": [
        "['inf', 'fi1P'] "
       ]
      },
      {
       "output_type": "stream",
       "stream": "stdout",
       "text": [
        "['inf', 'fi2P'] "
       ]
      },
      {
       "output_type": "stream",
       "stream": "stdout",
       "text": [
        "['inf', 'fi3P'] "
       ]
      },
      {
       "output_type": "stream",
       "stream": "stdout",
       "text": [
        "['inf', 'pI2S'] "
       ]
      },
      {
       "output_type": "stream",
       "stream": "stdout",
       "text": [
        "['inf', 'pI1P'] "
       ]
      },
      {
       "output_type": "stream",
       "stream": "stdout",
       "text": [
        "['inf', 'pI2P'] "
       ]
      },
      {
       "output_type": "stream",
       "stream": "stdout",
       "text": [
        "['inf', 'ps1S'] "
       ]
      },
      {
       "output_type": "stream",
       "stream": "stdout",
       "text": [
        "['inf', 'ps2S'] "
       ]
      },
      {
       "output_type": "stream",
       "stream": "stdout",
       "text": [
        "['inf', 'ps3S'] "
       ]
      },
      {
       "output_type": "stream",
       "stream": "stdout",
       "text": [
        "['inf', 'ps1P'] "
       ]
      },
      {
       "output_type": "stream",
       "stream": "stdout",
       "text": [
        "['inf', 'ps2P'] "
       ]
      },
      {
       "output_type": "stream",
       "stream": "stdout",
       "text": [
        "['inf', 'ps3P'] "
       ]
      },
      {
       "output_type": "stream",
       "stream": "stdout",
       "text": [
        "['inf', 'pc1S'] "
       ]
      },
      {
       "output_type": "stream",
       "stream": "stdout",
       "text": [
        "['inf', 'pc2S'] "
       ]
      },
      {
       "output_type": "stream",
       "stream": "stdout",
       "text": [
        "['inf', 'pc3S'] "
       ]
      },
      {
       "output_type": "stream",
       "stream": "stdout",
       "text": [
        "['inf', 'pc1P'] ['inf', 'pc2P'] "
       ]
      },
      {
       "output_type": "stream",
       "stream": "stdout",
       "text": [
        "['inf', 'pc3P'] "
       ]
      },
      {
       "output_type": "stream",
       "stream": "stdout",
       "text": [
        "['inf', 'pP'] "
       ]
      },
      {
       "output_type": "stream",
       "stream": "stdout",
       "text": [
        "['pi1S', 'pi2S'] "
       ]
      },
      {
       "output_type": "stream",
       "stream": "stdout",
       "text": [
        "['pi1S', 'pi3S'] "
       ]
      },
      {
       "output_type": "stream",
       "stream": "stdout",
       "text": [
        "['pi1S', 'pi1P'] "
       ]
      },
      {
       "output_type": "stream",
       "stream": "stdout",
       "text": [
        "['pi1S', 'pi2P'] "
       ]
      },
      {
       "output_type": "stream",
       "stream": "stdout",
       "text": [
        "['pi1S', 'pi3P'] "
       ]
      },
      {
       "output_type": "stream",
       "stream": "stdout",
       "text": [
        "['pi1S', 'ii1S'] "
       ]
      },
      {
       "output_type": "stream",
       "stream": "stdout",
       "text": [
        "['pi1S', 'ii2S'] "
       ]
      },
      {
       "output_type": "stream",
       "stream": "stdout",
       "text": [
        "['pi1S', 'ii3S'] "
       ]
      },
      {
       "output_type": "stream",
       "stream": "stdout",
       "text": [
        "['pi1S', 'ii1P'] "
       ]
      },
      {
       "output_type": "stream",
       "stream": "stdout",
       "text": [
        "['pi1S', 'ii2P'] "
       ]
      },
      {
       "output_type": "stream",
       "stream": "stdout",
       "text": [
        "['pi1S', 'ii3P'] "
       ]
      },
      {
       "output_type": "stream",
       "stream": "stdout",
       "text": [
        "['pi1S', 'fi1S'] "
       ]
      },
      {
       "output_type": "stream",
       "stream": "stdout",
       "text": [
        "['pi1S', 'fi2S'] "
       ]
      },
      {
       "output_type": "stream",
       "stream": "stdout",
       "text": [
        "['pi1S', 'fi3S'] "
       ]
      },
      {
       "output_type": "stream",
       "stream": "stdout",
       "text": [
        "['pi1S', 'fi1P'] "
       ]
      },
      {
       "output_type": "stream",
       "stream": "stdout",
       "text": [
        "['pi1S', 'fi2P'] "
       ]
      },
      {
       "output_type": "stream",
       "stream": "stdout",
       "text": [
        "['pi1S', 'fi3P'] "
       ]
      },
      {
       "output_type": "stream",
       "stream": "stdout",
       "text": [
        "['pi1S', 'pI2S'] "
       ]
      },
      {
       "output_type": "stream",
       "stream": "stdout",
       "text": [
        "['pi1S', 'pI1P'] "
       ]
      },
      {
       "output_type": "stream",
       "stream": "stdout",
       "text": [
        "['pi1S', 'pI2P'] "
       ]
      },
      {
       "output_type": "stream",
       "stream": "stdout",
       "text": [
        "['pi1S', 'ps1S'] "
       ]
      },
      {
       "output_type": "stream",
       "stream": "stdout",
       "text": [
        "['pi1S', 'ps2S'] "
       ]
      },
      {
       "output_type": "stream",
       "stream": "stdout",
       "text": [
        "['pi1S', 'ps3S'] "
       ]
      },
      {
       "output_type": "stream",
       "stream": "stdout",
       "text": [
        "['pi1S', 'ps1P'] "
       ]
      },
      {
       "output_type": "stream",
       "stream": "stdout",
       "text": [
        "['pi1S', 'ps2P'] "
       ]
      },
      {
       "output_type": "stream",
       "stream": "stdout",
       "text": [
        "['pi1S', 'ps3P'] "
       ]
      },
      {
       "output_type": "stream",
       "stream": "stdout",
       "text": [
        "['pi1S', 'pc1S'] "
       ]
      },
      {
       "output_type": "stream",
       "stream": "stdout",
       "text": [
        "['pi1S', 'pc2S'] "
       ]
      },
      {
       "output_type": "stream",
       "stream": "stdout",
       "text": [
        "['pi1S', 'pc3S'] "
       ]
      },
      {
       "output_type": "stream",
       "stream": "stdout",
       "text": [
        "['pi1S', 'pc1P'] ['pi1S', 'pc2P'] "
       ]
      },
      {
       "output_type": "stream",
       "stream": "stdout",
       "text": [
        "['pi1S', 'pc3P'] "
       ]
      },
      {
       "output_type": "stream",
       "stream": "stdout",
       "text": [
        "['pi1S', 'pP'] "
       ]
      },
      {
       "output_type": "stream",
       "stream": "stdout",
       "text": [
        "['pi2S', 'pi3S'] "
       ]
      },
      {
       "output_type": "stream",
       "stream": "stdout",
       "text": [
        "['pi2S', 'pi1P'] "
       ]
      },
      {
       "output_type": "stream",
       "stream": "stdout",
       "text": [
        "['pi2S', 'pi2P'] "
       ]
      },
      {
       "output_type": "stream",
       "stream": "stdout",
       "text": [
        "['pi2S', 'pi3P'] "
       ]
      },
      {
       "output_type": "stream",
       "stream": "stdout",
       "text": [
        "['pi2S', 'ii1S'] "
       ]
      },
      {
       "output_type": "stream",
       "stream": "stdout",
       "text": [
        "['pi2S', 'ii2S'] "
       ]
      },
      {
       "output_type": "stream",
       "stream": "stdout",
       "text": [
        "['pi2S', 'ii3S'] "
       ]
      },
      {
       "output_type": "stream",
       "stream": "stdout",
       "text": [
        "['pi2S', 'ii1P'] "
       ]
      },
      {
       "output_type": "stream",
       "stream": "stdout",
       "text": [
        "['pi2S', 'ii2P'] "
       ]
      },
      {
       "output_type": "stream",
       "stream": "stdout",
       "text": [
        "['pi2S', 'ii3P'] "
       ]
      },
      {
       "output_type": "stream",
       "stream": "stdout",
       "text": [
        "['pi2S', 'fi1S'] "
       ]
      },
      {
       "output_type": "stream",
       "stream": "stdout",
       "text": [
        "['pi2S', 'fi2S'] "
       ]
      },
      {
       "output_type": "stream",
       "stream": "stdout",
       "text": [
        "['pi2S', 'fi3S'] "
       ]
      },
      {
       "output_type": "stream",
       "stream": "stdout",
       "text": [
        "['pi2S', 'fi1P'] "
       ]
      },
      {
       "output_type": "stream",
       "stream": "stdout",
       "text": [
        "['pi2S', 'fi2P'] "
       ]
      },
      {
       "output_type": "stream",
       "stream": "stdout",
       "text": [
        "['pi2S', 'fi3P'] "
       ]
      },
      {
       "output_type": "stream",
       "stream": "stdout",
       "text": [
        "['pi2S', 'pI2S'] "
       ]
      },
      {
       "output_type": "stream",
       "stream": "stdout",
       "text": [
        "['pi2S', 'pI1P'] "
       ]
      },
      {
       "output_type": "stream",
       "stream": "stdout",
       "text": [
        "['pi2S', 'pI2P'] "
       ]
      },
      {
       "output_type": "stream",
       "stream": "stdout",
       "text": [
        "['pi2S', 'ps1S'] "
       ]
      },
      {
       "output_type": "stream",
       "stream": "stdout",
       "text": [
        "['pi2S', 'ps2S'] "
       ]
      },
      {
       "output_type": "stream",
       "stream": "stdout",
       "text": [
        "['pi2S', 'ps3S'] "
       ]
      },
      {
       "output_type": "stream",
       "stream": "stdout",
       "text": [
        "['pi2S', 'ps1P'] "
       ]
      },
      {
       "output_type": "stream",
       "stream": "stdout",
       "text": [
        "['pi2S', 'ps2P'] "
       ]
      },
      {
       "output_type": "stream",
       "stream": "stdout",
       "text": [
        "['pi2S', 'ps3P'] "
       ]
      },
      {
       "output_type": "stream",
       "stream": "stdout",
       "text": [
        "['pi2S', 'pc1S'] "
       ]
      },
      {
       "output_type": "stream",
       "stream": "stdout",
       "text": [
        "['pi2S', 'pc2S'] "
       ]
      },
      {
       "output_type": "stream",
       "stream": "stdout",
       "text": [
        "['pi2S', 'pc3S'] "
       ]
      },
      {
       "output_type": "stream",
       "stream": "stdout",
       "text": [
        "['pi2S', 'pc1P'] ['pi2S', 'pc2P'] "
       ]
      },
      {
       "output_type": "stream",
       "stream": "stdout",
       "text": [
        "['pi2S', 'pc3P'] "
       ]
      },
      {
       "output_type": "stream",
       "stream": "stdout",
       "text": [
        "['pi2S', 'pP'] "
       ]
      },
      {
       "output_type": "stream",
       "stream": "stdout",
       "text": [
        "['pi3S', 'pi1P'] "
       ]
      },
      {
       "output_type": "stream",
       "stream": "stdout",
       "text": [
        "['pi3S', 'pi2P'] "
       ]
      },
      {
       "output_type": "stream",
       "stream": "stdout",
       "text": [
        "['pi3S', 'pi3P'] "
       ]
      },
      {
       "output_type": "stream",
       "stream": "stdout",
       "text": [
        "['pi3S', 'ii1S'] "
       ]
      },
      {
       "output_type": "stream",
       "stream": "stdout",
       "text": [
        "['pi3S', 'ii2S'] "
       ]
      },
      {
       "output_type": "stream",
       "stream": "stdout",
       "text": [
        "['pi3S', 'ii3S'] "
       ]
      },
      {
       "output_type": "stream",
       "stream": "stdout",
       "text": [
        "['pi3S', 'ii1P'] "
       ]
      },
      {
       "output_type": "stream",
       "stream": "stdout",
       "text": [
        "['pi3S', 'ii2P'] "
       ]
      },
      {
       "output_type": "stream",
       "stream": "stdout",
       "text": [
        "['pi3S', 'ii3P'] "
       ]
      },
      {
       "output_type": "stream",
       "stream": "stdout",
       "text": [
        "['pi3S', 'fi1S'] "
       ]
      },
      {
       "output_type": "stream",
       "stream": "stdout",
       "text": [
        "['pi3S', 'fi2S'] "
       ]
      },
      {
       "output_type": "stream",
       "stream": "stdout",
       "text": [
        "['pi3S', 'fi3S'] "
       ]
      },
      {
       "output_type": "stream",
       "stream": "stdout",
       "text": [
        "['pi3S', 'fi1P'] "
       ]
      },
      {
       "output_type": "stream",
       "stream": "stdout",
       "text": [
        "['pi3S', 'fi2P'] "
       ]
      },
      {
       "output_type": "stream",
       "stream": "stdout",
       "text": [
        "['pi3S', 'fi3P'] "
       ]
      },
      {
       "output_type": "stream",
       "stream": "stdout",
       "text": [
        "['pi3S', 'pI2S'] "
       ]
      },
      {
       "output_type": "stream",
       "stream": "stdout",
       "text": [
        "['pi3S', 'pI1P'] "
       ]
      },
      {
       "output_type": "stream",
       "stream": "stdout",
       "text": [
        "['pi3S', 'pI2P'] "
       ]
      },
      {
       "output_type": "stream",
       "stream": "stdout",
       "text": [
        "['pi3S', 'ps1S'] "
       ]
      },
      {
       "output_type": "stream",
       "stream": "stdout",
       "text": [
        "['pi3S', 'ps2S'] "
       ]
      },
      {
       "output_type": "stream",
       "stream": "stdout",
       "text": [
        "['pi3S', 'ps3S'] "
       ]
      },
      {
       "output_type": "stream",
       "stream": "stdout",
       "text": [
        "['pi3S', 'ps1P'] "
       ]
      },
      {
       "output_type": "stream",
       "stream": "stdout",
       "text": [
        "['pi3S', 'ps2P'] "
       ]
      },
      {
       "output_type": "stream",
       "stream": "stdout",
       "text": [
        "['pi3S', 'ps3P'] "
       ]
      },
      {
       "output_type": "stream",
       "stream": "stdout",
       "text": [
        "['pi3S', 'pc1S'] "
       ]
      },
      {
       "output_type": "stream",
       "stream": "stdout",
       "text": [
        "['pi3S', 'pc2S'] "
       ]
      },
      {
       "output_type": "stream",
       "stream": "stdout",
       "text": [
        "['pi3S', 'pc3S'] "
       ]
      },
      {
       "output_type": "stream",
       "stream": "stdout",
       "text": [
        "['pi3S', 'pc1P'] ['pi3S', 'pc2P'] "
       ]
      },
      {
       "output_type": "stream",
       "stream": "stdout",
       "text": [
        "['pi3S', 'pc3P'] "
       ]
      },
      {
       "output_type": "stream",
       "stream": "stdout",
       "text": [
        "['pi3S', 'pP'] "
       ]
      },
      {
       "output_type": "stream",
       "stream": "stdout",
       "text": [
        "['pi1P', 'pi2P'] "
       ]
      },
      {
       "output_type": "stream",
       "stream": "stdout",
       "text": [
        "['pi1P', 'pi3P'] "
       ]
      },
      {
       "output_type": "stream",
       "stream": "stdout",
       "text": [
        "['pi1P', 'ii1S'] "
       ]
      },
      {
       "output_type": "stream",
       "stream": "stdout",
       "text": [
        "['pi1P', 'ii2S'] "
       ]
      },
      {
       "output_type": "stream",
       "stream": "stdout",
       "text": [
        "['pi1P', 'ii3S'] "
       ]
      },
      {
       "output_type": "stream",
       "stream": "stdout",
       "text": [
        "['pi1P', 'ii1P'] "
       ]
      },
      {
       "output_type": "stream",
       "stream": "stdout",
       "text": [
        "['pi1P', 'ii2P'] "
       ]
      },
      {
       "output_type": "stream",
       "stream": "stdout",
       "text": [
        "['pi1P', 'ii3P'] "
       ]
      },
      {
       "output_type": "stream",
       "stream": "stdout",
       "text": [
        "['pi1P', 'fi1S'] "
       ]
      },
      {
       "output_type": "stream",
       "stream": "stdout",
       "text": [
        "['pi1P', 'fi2S'] "
       ]
      },
      {
       "output_type": "stream",
       "stream": "stdout",
       "text": [
        "['pi1P', 'fi3S'] "
       ]
      },
      {
       "output_type": "stream",
       "stream": "stdout",
       "text": [
        "['pi1P', 'fi1P'] "
       ]
      },
      {
       "output_type": "stream",
       "stream": "stdout",
       "text": [
        "['pi1P', 'fi2P'] "
       ]
      },
      {
       "output_type": "stream",
       "stream": "stdout",
       "text": [
        "['pi1P', 'fi3P'] "
       ]
      },
      {
       "output_type": "stream",
       "stream": "stdout",
       "text": [
        "['pi1P', 'pI2S'] "
       ]
      },
      {
       "output_type": "stream",
       "stream": "stdout",
       "text": [
        "['pi1P', 'pI1P'] "
       ]
      },
      {
       "output_type": "stream",
       "stream": "stdout",
       "text": [
        "['pi1P', 'pI2P'] "
       ]
      },
      {
       "output_type": "stream",
       "stream": "stdout",
       "text": [
        "['pi1P', 'ps1S'] "
       ]
      },
      {
       "output_type": "stream",
       "stream": "stdout",
       "text": [
        "['pi1P', 'ps2S'] "
       ]
      },
      {
       "output_type": "stream",
       "stream": "stdout",
       "text": [
        "['pi1P', 'ps3S'] "
       ]
      },
      {
       "output_type": "stream",
       "stream": "stdout",
       "text": [
        "['pi1P', 'ps1P'] "
       ]
      },
      {
       "output_type": "stream",
       "stream": "stdout",
       "text": [
        "['pi1P', 'ps2P'] "
       ]
      },
      {
       "output_type": "stream",
       "stream": "stdout",
       "text": [
        "['pi1P', 'ps3P'] "
       ]
      },
      {
       "output_type": "stream",
       "stream": "stdout",
       "text": [
        "['pi1P', 'pc1S'] "
       ]
      },
      {
       "output_type": "stream",
       "stream": "stdout",
       "text": [
        "['pi1P', 'pc2S'] "
       ]
      },
      {
       "output_type": "stream",
       "stream": "stdout",
       "text": [
        "['pi1P', 'pc3S'] "
       ]
      },
      {
       "output_type": "stream",
       "stream": "stdout",
       "text": [
        "['pi1P', 'pc1P'] ['pi1P', 'pc2P'] "
       ]
      },
      {
       "output_type": "stream",
       "stream": "stdout",
       "text": [
        "['pi1P', 'pc3P'] "
       ]
      },
      {
       "output_type": "stream",
       "stream": "stdout",
       "text": [
        "['pi1P', 'pP'] "
       ]
      },
      {
       "output_type": "stream",
       "stream": "stdout",
       "text": [
        "['pi2P', 'pi3P'] "
       ]
      },
      {
       "output_type": "stream",
       "stream": "stdout",
       "text": [
        "['pi2P', 'ii1S'] "
       ]
      },
      {
       "output_type": "stream",
       "stream": "stdout",
       "text": [
        "['pi2P', 'ii2S'] "
       ]
      },
      {
       "output_type": "stream",
       "stream": "stdout",
       "text": [
        "['pi2P', 'ii3S'] "
       ]
      },
      {
       "output_type": "stream",
       "stream": "stdout",
       "text": [
        "['pi2P', 'ii1P'] "
       ]
      },
      {
       "output_type": "stream",
       "stream": "stdout",
       "text": [
        "['pi2P', 'ii2P'] "
       ]
      },
      {
       "output_type": "stream",
       "stream": "stdout",
       "text": [
        "['pi2P', 'ii3P'] "
       ]
      },
      {
       "output_type": "stream",
       "stream": "stdout",
       "text": [
        "['pi2P', 'fi1S'] "
       ]
      },
      {
       "output_type": "stream",
       "stream": "stdout",
       "text": [
        "['pi2P', 'fi2S'] "
       ]
      },
      {
       "output_type": "stream",
       "stream": "stdout",
       "text": [
        "['pi2P', 'fi3S'] "
       ]
      },
      {
       "output_type": "stream",
       "stream": "stdout",
       "text": [
        "['pi2P', 'fi1P'] "
       ]
      },
      {
       "output_type": "stream",
       "stream": "stdout",
       "text": [
        "['pi2P', 'fi2P'] "
       ]
      },
      {
       "output_type": "stream",
       "stream": "stdout",
       "text": [
        "['pi2P', 'fi3P'] "
       ]
      },
      {
       "output_type": "stream",
       "stream": "stdout",
       "text": [
        "['pi2P', 'pI2S'] "
       ]
      },
      {
       "output_type": "stream",
       "stream": "stdout",
       "text": [
        "['pi2P', 'pI1P'] "
       ]
      },
      {
       "output_type": "stream",
       "stream": "stdout",
       "text": [
        "['pi2P', 'pI2P'] "
       ]
      },
      {
       "output_type": "stream",
       "stream": "stdout",
       "text": [
        "['pi2P', 'ps1S'] "
       ]
      },
      {
       "output_type": "stream",
       "stream": "stdout",
       "text": [
        "['pi2P', 'ps2S'] "
       ]
      },
      {
       "output_type": "stream",
       "stream": "stdout",
       "text": [
        "['pi2P', 'ps3S'] "
       ]
      },
      {
       "output_type": "stream",
       "stream": "stdout",
       "text": [
        "['pi2P', 'ps1P'] "
       ]
      },
      {
       "output_type": "stream",
       "stream": "stdout",
       "text": [
        "['pi2P', 'ps2P'] "
       ]
      },
      {
       "output_type": "stream",
       "stream": "stdout",
       "text": [
        "['pi2P', 'ps3P'] "
       ]
      },
      {
       "output_type": "stream",
       "stream": "stdout",
       "text": [
        "['pi2P', 'pc1S'] "
       ]
      },
      {
       "output_type": "stream",
       "stream": "stdout",
       "text": [
        "['pi2P', 'pc2S'] "
       ]
      },
      {
       "output_type": "stream",
       "stream": "stdout",
       "text": [
        "['pi2P', 'pc3S'] "
       ]
      },
      {
       "output_type": "stream",
       "stream": "stdout",
       "text": [
        "['pi2P', 'pc1P'] ['pi2P', 'pc2P'] "
       ]
      },
      {
       "output_type": "stream",
       "stream": "stdout",
       "text": [
        "['pi2P', 'pc3P'] "
       ]
      },
      {
       "output_type": "stream",
       "stream": "stdout",
       "text": [
        "['pi2P', 'pP'] "
       ]
      },
      {
       "output_type": "stream",
       "stream": "stdout",
       "text": [
        "['pi3P', 'ii1S'] "
       ]
      },
      {
       "output_type": "stream",
       "stream": "stdout",
       "text": [
        "['pi3P', 'ii2S'] "
       ]
      },
      {
       "output_type": "stream",
       "stream": "stdout",
       "text": [
        "['pi3P', 'ii3S'] "
       ]
      },
      {
       "output_type": "stream",
       "stream": "stdout",
       "text": [
        "['pi3P', 'ii1P'] "
       ]
      },
      {
       "output_type": "stream",
       "stream": "stdout",
       "text": [
        "['pi3P', 'ii2P'] "
       ]
      },
      {
       "output_type": "stream",
       "stream": "stdout",
       "text": [
        "['pi3P', 'ii3P'] "
       ]
      },
      {
       "output_type": "stream",
       "stream": "stdout",
       "text": [
        "['pi3P', 'fi1S'] "
       ]
      },
      {
       "output_type": "stream",
       "stream": "stdout",
       "text": [
        "['pi3P', 'fi2S'] "
       ]
      },
      {
       "output_type": "stream",
       "stream": "stdout",
       "text": [
        "['pi3P', 'fi3S'] "
       ]
      },
      {
       "output_type": "stream",
       "stream": "stdout",
       "text": [
        "['pi3P', 'fi1P'] "
       ]
      },
      {
       "output_type": "stream",
       "stream": "stdout",
       "text": [
        "['pi3P', 'fi2P'] "
       ]
      },
      {
       "output_type": "stream",
       "stream": "stdout",
       "text": [
        "['pi3P', 'fi3P'] "
       ]
      },
      {
       "output_type": "stream",
       "stream": "stdout",
       "text": [
        "['pi3P', 'pI2S'] "
       ]
      },
      {
       "output_type": "stream",
       "stream": "stdout",
       "text": [
        "['pi3P', 'pI1P'] "
       ]
      },
      {
       "output_type": "stream",
       "stream": "stdout",
       "text": [
        "['pi3P', 'pI2P'] "
       ]
      },
      {
       "output_type": "stream",
       "stream": "stdout",
       "text": [
        "['pi3P', 'ps1S'] "
       ]
      },
      {
       "output_type": "stream",
       "stream": "stdout",
       "text": [
        "['pi3P', 'ps2S'] "
       ]
      },
      {
       "output_type": "stream",
       "stream": "stdout",
       "text": [
        "['pi3P', 'ps3S'] "
       ]
      },
      {
       "output_type": "stream",
       "stream": "stdout",
       "text": [
        "['pi3P', 'ps1P'] "
       ]
      },
      {
       "output_type": "stream",
       "stream": "stdout",
       "text": [
        "['pi3P', 'ps2P'] "
       ]
      },
      {
       "output_type": "stream",
       "stream": "stdout",
       "text": [
        "['pi3P', 'ps3P'] "
       ]
      },
      {
       "output_type": "stream",
       "stream": "stdout",
       "text": [
        "['pi3P', 'pc1S'] "
       ]
      },
      {
       "output_type": "stream",
       "stream": "stdout",
       "text": [
        "['pi3P', 'pc2S'] "
       ]
      },
      {
       "output_type": "stream",
       "stream": "stdout",
       "text": [
        "['pi3P', 'pc3S'] "
       ]
      },
      {
       "output_type": "stream",
       "stream": "stdout",
       "text": [
        "['pi3P', 'pc1P'] ['pi3P', 'pc2P'] "
       ]
      },
      {
       "output_type": "stream",
       "stream": "stdout",
       "text": [
        "['pi3P', 'pc3P'] "
       ]
      },
      {
       "output_type": "stream",
       "stream": "stdout",
       "text": [
        "['pi3P', 'pP'] "
       ]
      },
      {
       "output_type": "stream",
       "stream": "stdout",
       "text": [
        "['ii1S', 'ii2S'] "
       ]
      },
      {
       "output_type": "stream",
       "stream": "stdout",
       "text": [
        "['ii1S', 'ii3S'] "
       ]
      },
      {
       "output_type": "stream",
       "stream": "stdout",
       "text": [
        "['ii1S', 'ii1P'] "
       ]
      },
      {
       "output_type": "stream",
       "stream": "stdout",
       "text": [
        "['ii1S', 'ii2P'] "
       ]
      },
      {
       "output_type": "stream",
       "stream": "stdout",
       "text": [
        "['ii1S', 'ii3P'] "
       ]
      },
      {
       "output_type": "stream",
       "stream": "stdout",
       "text": [
        "['ii1S', 'fi1S'] "
       ]
      },
      {
       "output_type": "stream",
       "stream": "stdout",
       "text": [
        "['ii1S', 'fi2S'] "
       ]
      },
      {
       "output_type": "stream",
       "stream": "stdout",
       "text": [
        "['ii1S', 'fi3S'] "
       ]
      },
      {
       "output_type": "stream",
       "stream": "stdout",
       "text": [
        "['ii1S', 'fi1P'] "
       ]
      },
      {
       "output_type": "stream",
       "stream": "stdout",
       "text": [
        "['ii1S', 'fi2P'] "
       ]
      },
      {
       "output_type": "stream",
       "stream": "stdout",
       "text": [
        "['ii1S', 'fi3P'] "
       ]
      },
      {
       "output_type": "stream",
       "stream": "stdout",
       "text": [
        "['ii1S', 'pI2S'] "
       ]
      },
      {
       "output_type": "stream",
       "stream": "stdout",
       "text": [
        "['ii1S', 'pI1P'] "
       ]
      },
      {
       "output_type": "stream",
       "stream": "stdout",
       "text": [
        "['ii1S', 'pI2P'] "
       ]
      },
      {
       "output_type": "stream",
       "stream": "stdout",
       "text": [
        "['ii1S', 'ps1S'] "
       ]
      },
      {
       "output_type": "stream",
       "stream": "stdout",
       "text": [
        "['ii1S', 'ps2S'] "
       ]
      },
      {
       "output_type": "stream",
       "stream": "stdout",
       "text": [
        "['ii1S', 'ps3S'] "
       ]
      },
      {
       "output_type": "stream",
       "stream": "stdout",
       "text": [
        "['ii1S', 'ps1P'] "
       ]
      },
      {
       "output_type": "stream",
       "stream": "stdout",
       "text": [
        "['ii1S', 'ps2P'] "
       ]
      },
      {
       "output_type": "stream",
       "stream": "stdout",
       "text": [
        "['ii1S', 'ps3P'] "
       ]
      },
      {
       "output_type": "stream",
       "stream": "stdout",
       "text": [
        "['ii1S', 'pc1S'] "
       ]
      },
      {
       "output_type": "stream",
       "stream": "stdout",
       "text": [
        "['ii1S', 'pc2S'] "
       ]
      },
      {
       "output_type": "stream",
       "stream": "stdout",
       "text": [
        "['ii1S', 'pc3S'] "
       ]
      },
      {
       "output_type": "stream",
       "stream": "stdout",
       "text": [
        "['ii1S', 'pc1P'] ['ii1S', 'pc2P'] "
       ]
      },
      {
       "output_type": "stream",
       "stream": "stdout",
       "text": [
        "['ii1S', 'pc3P'] "
       ]
      },
      {
       "output_type": "stream",
       "stream": "stdout",
       "text": [
        "['ii1S', 'pP'] "
       ]
      },
      {
       "output_type": "stream",
       "stream": "stdout",
       "text": [
        "['ii2S', 'ii3S'] "
       ]
      },
      {
       "output_type": "stream",
       "stream": "stdout",
       "text": [
        "['ii2S', 'ii1P'] "
       ]
      },
      {
       "output_type": "stream",
       "stream": "stdout",
       "text": [
        "['ii2S', 'ii2P'] "
       ]
      },
      {
       "output_type": "stream",
       "stream": "stdout",
       "text": [
        "['ii2S', 'ii3P'] "
       ]
      },
      {
       "output_type": "stream",
       "stream": "stdout",
       "text": [
        "['ii2S', 'fi1S'] "
       ]
      },
      {
       "output_type": "stream",
       "stream": "stdout",
       "text": [
        "['ii2S', 'fi2S'] "
       ]
      },
      {
       "output_type": "stream",
       "stream": "stdout",
       "text": [
        "['ii2S', 'fi3S'] "
       ]
      },
      {
       "output_type": "stream",
       "stream": "stdout",
       "text": [
        "['ii2S', 'fi1P'] "
       ]
      },
      {
       "output_type": "stream",
       "stream": "stdout",
       "text": [
        "['ii2S', 'fi2P'] "
       ]
      },
      {
       "output_type": "stream",
       "stream": "stdout",
       "text": [
        "['ii2S', 'fi3P'] "
       ]
      },
      {
       "output_type": "stream",
       "stream": "stdout",
       "text": [
        "['ii2S', 'pI2S'] "
       ]
      },
      {
       "output_type": "stream",
       "stream": "stdout",
       "text": [
        "['ii2S', 'pI1P'] "
       ]
      },
      {
       "output_type": "stream",
       "stream": "stdout",
       "text": [
        "['ii2S', 'pI2P'] "
       ]
      },
      {
       "output_type": "stream",
       "stream": "stdout",
       "text": [
        "['ii2S', 'ps1S'] "
       ]
      },
      {
       "output_type": "stream",
       "stream": "stdout",
       "text": [
        "['ii2S', 'ps2S'] "
       ]
      },
      {
       "output_type": "stream",
       "stream": "stdout",
       "text": [
        "['ii2S', 'ps3S'] "
       ]
      },
      {
       "output_type": "stream",
       "stream": "stdout",
       "text": [
        "['ii2S', 'ps1P'] "
       ]
      },
      {
       "output_type": "stream",
       "stream": "stdout",
       "text": [
        "['ii2S', 'ps2P'] "
       ]
      },
      {
       "output_type": "stream",
       "stream": "stdout",
       "text": [
        "['ii2S', 'ps3P'] "
       ]
      },
      {
       "output_type": "stream",
       "stream": "stdout",
       "text": [
        "['ii2S', 'pc1S'] "
       ]
      },
      {
       "output_type": "stream",
       "stream": "stdout",
       "text": [
        "['ii2S', 'pc2S'] "
       ]
      },
      {
       "output_type": "stream",
       "stream": "stdout",
       "text": [
        "['ii2S', 'pc3S'] "
       ]
      },
      {
       "output_type": "stream",
       "stream": "stdout",
       "text": [
        "['ii2S', 'pc1P'] ['ii2S', 'pc2P'] "
       ]
      },
      {
       "output_type": "stream",
       "stream": "stdout",
       "text": [
        "['ii2S', 'pc3P'] "
       ]
      },
      {
       "output_type": "stream",
       "stream": "stdout",
       "text": [
        "['ii2S', 'pP'] "
       ]
      },
      {
       "output_type": "stream",
       "stream": "stdout",
       "text": [
        "['ii3S', 'ii1P'] "
       ]
      },
      {
       "output_type": "stream",
       "stream": "stdout",
       "text": [
        "['ii3S', 'ii2P'] "
       ]
      },
      {
       "output_type": "stream",
       "stream": "stdout",
       "text": [
        "['ii3S', 'ii3P'] "
       ]
      },
      {
       "output_type": "stream",
       "stream": "stdout",
       "text": [
        "['ii3S', 'fi1S'] "
       ]
      },
      {
       "output_type": "stream",
       "stream": "stdout",
       "text": [
        "['ii3S', 'fi2S'] "
       ]
      },
      {
       "output_type": "stream",
       "stream": "stdout",
       "text": [
        "['ii3S', 'fi3S'] "
       ]
      },
      {
       "output_type": "stream",
       "stream": "stdout",
       "text": [
        "['ii3S', 'fi1P'] "
       ]
      },
      {
       "output_type": "stream",
       "stream": "stdout",
       "text": [
        "['ii3S', 'fi2P'] "
       ]
      },
      {
       "output_type": "stream",
       "stream": "stdout",
       "text": [
        "['ii3S', 'fi3P'] "
       ]
      },
      {
       "output_type": "stream",
       "stream": "stdout",
       "text": [
        "['ii3S', 'pI2S'] "
       ]
      },
      {
       "output_type": "stream",
       "stream": "stdout",
       "text": [
        "['ii3S', 'pI1P'] "
       ]
      },
      {
       "output_type": "stream",
       "stream": "stdout",
       "text": [
        "['ii3S', 'pI2P'] "
       ]
      },
      {
       "output_type": "stream",
       "stream": "stdout",
       "text": [
        "['ii3S', 'ps1S'] "
       ]
      },
      {
       "output_type": "stream",
       "stream": "stdout",
       "text": [
        "['ii3S', 'ps2S'] "
       ]
      },
      {
       "output_type": "stream",
       "stream": "stdout",
       "text": [
        "['ii3S', 'ps3S'] "
       ]
      },
      {
       "output_type": "stream",
       "stream": "stdout",
       "text": [
        "['ii3S', 'ps1P'] "
       ]
      },
      {
       "output_type": "stream",
       "stream": "stdout",
       "text": [
        "['ii3S', 'ps2P'] "
       ]
      },
      {
       "output_type": "stream",
       "stream": "stdout",
       "text": [
        "['ii3S', 'ps3P'] "
       ]
      },
      {
       "output_type": "stream",
       "stream": "stdout",
       "text": [
        "['ii3S', 'pc1S'] "
       ]
      },
      {
       "output_type": "stream",
       "stream": "stdout",
       "text": [
        "['ii3S', 'pc2S'] "
       ]
      },
      {
       "output_type": "stream",
       "stream": "stdout",
       "text": [
        "['ii3S', 'pc3S'] "
       ]
      },
      {
       "output_type": "stream",
       "stream": "stdout",
       "text": [
        "['ii3S', 'pc1P'] ['ii3S', 'pc2P'] "
       ]
      },
      {
       "output_type": "stream",
       "stream": "stdout",
       "text": [
        "['ii3S', 'pc3P'] "
       ]
      },
      {
       "output_type": "stream",
       "stream": "stdout",
       "text": [
        "['ii3S', 'pP'] "
       ]
      },
      {
       "output_type": "stream",
       "stream": "stdout",
       "text": [
        "['ii1P', 'ii2P'] "
       ]
      },
      {
       "output_type": "stream",
       "stream": "stdout",
       "text": [
        "['ii1P', 'ii3P'] "
       ]
      },
      {
       "output_type": "stream",
       "stream": "stdout",
       "text": [
        "['ii1P', 'fi1S'] "
       ]
      },
      {
       "output_type": "stream",
       "stream": "stdout",
       "text": [
        "['ii1P', 'fi2S'] "
       ]
      },
      {
       "output_type": "stream",
       "stream": "stdout",
       "text": [
        "['ii1P', 'fi3S'] "
       ]
      },
      {
       "output_type": "stream",
       "stream": "stdout",
       "text": [
        "['ii1P', 'fi1P'] "
       ]
      },
      {
       "output_type": "stream",
       "stream": "stdout",
       "text": [
        "['ii1P', 'fi2P'] "
       ]
      },
      {
       "output_type": "stream",
       "stream": "stdout",
       "text": [
        "['ii1P', 'fi3P'] "
       ]
      },
      {
       "output_type": "stream",
       "stream": "stdout",
       "text": [
        "['ii1P', 'pI2S'] "
       ]
      },
      {
       "output_type": "stream",
       "stream": "stdout",
       "text": [
        "['ii1P', 'pI1P'] "
       ]
      },
      {
       "output_type": "stream",
       "stream": "stdout",
       "text": [
        "['ii1P', 'pI2P'] "
       ]
      },
      {
       "output_type": "stream",
       "stream": "stdout",
       "text": [
        "['ii1P', 'ps1S'] "
       ]
      },
      {
       "output_type": "stream",
       "stream": "stdout",
       "text": [
        "['ii1P', 'ps2S'] "
       ]
      },
      {
       "output_type": "stream",
       "stream": "stdout",
       "text": [
        "['ii1P', 'ps3S'] "
       ]
      },
      {
       "output_type": "stream",
       "stream": "stdout",
       "text": [
        "['ii1P', 'ps1P'] "
       ]
      },
      {
       "output_type": "stream",
       "stream": "stdout",
       "text": [
        "['ii1P', 'ps2P'] "
       ]
      },
      {
       "output_type": "stream",
       "stream": "stdout",
       "text": [
        "['ii1P', 'ps3P'] "
       ]
      },
      {
       "output_type": "stream",
       "stream": "stdout",
       "text": [
        "['ii1P', 'pc1S'] "
       ]
      },
      {
       "output_type": "stream",
       "stream": "stdout",
       "text": [
        "['ii1P', 'pc2S'] "
       ]
      },
      {
       "output_type": "stream",
       "stream": "stdout",
       "text": [
        "['ii1P', 'pc3S'] "
       ]
      },
      {
       "output_type": "stream",
       "stream": "stdout",
       "text": [
        "['ii1P', 'pc1P'] ['ii1P', 'pc2P'] "
       ]
      },
      {
       "output_type": "stream",
       "stream": "stdout",
       "text": [
        "['ii1P', 'pc3P'] ['ii1P', 'pP'] "
       ]
      },
      {
       "output_type": "stream",
       "stream": "stdout",
       "text": [
        "['ii2P', 'ii3P'] "
       ]
      },
      {
       "output_type": "stream",
       "stream": "stdout",
       "text": [
        "['ii2P', 'fi1S'] "
       ]
      },
      {
       "output_type": "stream",
       "stream": "stdout",
       "text": [
        "['ii2P', 'fi2S'] "
       ]
      },
      {
       "output_type": "stream",
       "stream": "stdout",
       "text": [
        "['ii2P', 'fi3S'] "
       ]
      },
      {
       "output_type": "stream",
       "stream": "stdout",
       "text": [
        "['ii2P', 'fi1P'] "
       ]
      },
      {
       "output_type": "stream",
       "stream": "stdout",
       "text": [
        "['ii2P', 'fi2P'] "
       ]
      },
      {
       "output_type": "stream",
       "stream": "stdout",
       "text": [
        "['ii2P', 'fi3P'] "
       ]
      },
      {
       "output_type": "stream",
       "stream": "stdout",
       "text": [
        "['ii2P', 'pI2S'] "
       ]
      },
      {
       "output_type": "stream",
       "stream": "stdout",
       "text": [
        "['ii2P', 'pI1P'] "
       ]
      },
      {
       "output_type": "stream",
       "stream": "stdout",
       "text": [
        "['ii2P', 'pI2P'] "
       ]
      },
      {
       "output_type": "stream",
       "stream": "stdout",
       "text": [
        "['ii2P', 'ps1S'] "
       ]
      },
      {
       "output_type": "stream",
       "stream": "stdout",
       "text": [
        "['ii2P', 'ps2S'] "
       ]
      },
      {
       "output_type": "stream",
       "stream": "stdout",
       "text": [
        "['ii2P', 'ps3S'] "
       ]
      },
      {
       "output_type": "stream",
       "stream": "stdout",
       "text": [
        "['ii2P', 'ps1P'] "
       ]
      },
      {
       "output_type": "stream",
       "stream": "stdout",
       "text": [
        "['ii2P', 'ps2P'] "
       ]
      },
      {
       "output_type": "stream",
       "stream": "stdout",
       "text": [
        "['ii2P', 'ps3P'] "
       ]
      },
      {
       "output_type": "stream",
       "stream": "stdout",
       "text": [
        "['ii2P', 'pc1S'] "
       ]
      },
      {
       "output_type": "stream",
       "stream": "stdout",
       "text": [
        "['ii2P', 'pc2S'] "
       ]
      },
      {
       "output_type": "stream",
       "stream": "stdout",
       "text": [
        "['ii2P', 'pc3S'] "
       ]
      },
      {
       "output_type": "stream",
       "stream": "stdout",
       "text": [
        "['ii2P', 'pc1P'] ['ii2P', 'pc2P'] "
       ]
      },
      {
       "output_type": "stream",
       "stream": "stdout",
       "text": [
        "['ii2P', 'pc3P'] "
       ]
      },
      {
       "output_type": "stream",
       "stream": "stdout",
       "text": [
        "['ii2P', 'pP'] "
       ]
      },
      {
       "output_type": "stream",
       "stream": "stdout",
       "text": [
        "['ii3P', 'fi1S'] "
       ]
      },
      {
       "output_type": "stream",
       "stream": "stdout",
       "text": [
        "['ii3P', 'fi2S'] "
       ]
      },
      {
       "output_type": "stream",
       "stream": "stdout",
       "text": [
        "['ii3P', 'fi3S'] "
       ]
      },
      {
       "output_type": "stream",
       "stream": "stdout",
       "text": [
        "['ii3P', 'fi1P'] "
       ]
      },
      {
       "output_type": "stream",
       "stream": "stdout",
       "text": [
        "['ii3P', 'fi2P'] "
       ]
      },
      {
       "output_type": "stream",
       "stream": "stdout",
       "text": [
        "['ii3P', 'fi3P'] "
       ]
      },
      {
       "output_type": "stream",
       "stream": "stdout",
       "text": [
        "['ii3P', 'pI2S'] "
       ]
      },
      {
       "output_type": "stream",
       "stream": "stdout",
       "text": [
        "['ii3P', 'pI1P'] "
       ]
      },
      {
       "output_type": "stream",
       "stream": "stdout",
       "text": [
        "['ii3P', 'pI2P'] "
       ]
      },
      {
       "output_type": "stream",
       "stream": "stdout",
       "text": [
        "['ii3P', 'ps1S'] "
       ]
      },
      {
       "output_type": "stream",
       "stream": "stdout",
       "text": [
        "['ii3P', 'ps2S'] "
       ]
      },
      {
       "output_type": "stream",
       "stream": "stdout",
       "text": [
        "['ii3P', 'ps3S'] "
       ]
      },
      {
       "output_type": "stream",
       "stream": "stdout",
       "text": [
        "['ii3P', 'ps1P'] "
       ]
      },
      {
       "output_type": "stream",
       "stream": "stdout",
       "text": [
        "['ii3P', 'ps2P'] "
       ]
      },
      {
       "output_type": "stream",
       "stream": "stdout",
       "text": [
        "['ii3P', 'ps3P'] "
       ]
      },
      {
       "output_type": "stream",
       "stream": "stdout",
       "text": [
        "['ii3P', 'pc1S'] "
       ]
      },
      {
       "output_type": "stream",
       "stream": "stdout",
       "text": [
        "['ii3P', 'pc2S'] "
       ]
      },
      {
       "output_type": "stream",
       "stream": "stdout",
       "text": [
        "['ii3P', 'pc3S'] "
       ]
      },
      {
       "output_type": "stream",
       "stream": "stdout",
       "text": [
        "['ii3P', 'pc1P'] ['ii3P', 'pc2P'] "
       ]
      },
      {
       "output_type": "stream",
       "stream": "stdout",
       "text": [
        "['ii3P', 'pc3P'] "
       ]
      },
      {
       "output_type": "stream",
       "stream": "stdout",
       "text": [
        "['ii3P', 'pP'] "
       ]
      },
      {
       "output_type": "stream",
       "stream": "stdout",
       "text": [
        "['fi1S', 'fi2S'] "
       ]
      },
      {
       "output_type": "stream",
       "stream": "stdout",
       "text": [
        "['fi1S', 'fi3S'] "
       ]
      },
      {
       "output_type": "stream",
       "stream": "stdout",
       "text": [
        "['fi1S', 'fi1P'] "
       ]
      },
      {
       "output_type": "stream",
       "stream": "stdout",
       "text": [
        "['fi1S', 'fi2P'] "
       ]
      },
      {
       "output_type": "stream",
       "stream": "stdout",
       "text": [
        "['fi1S', 'fi3P'] "
       ]
      },
      {
       "output_type": "stream",
       "stream": "stdout",
       "text": [
        "['fi1S', 'pI2S'] "
       ]
      },
      {
       "output_type": "stream",
       "stream": "stdout",
       "text": [
        "['fi1S', 'pI1P'] "
       ]
      },
      {
       "output_type": "stream",
       "stream": "stdout",
       "text": [
        "['fi1S', 'pI2P'] "
       ]
      },
      {
       "output_type": "stream",
       "stream": "stdout",
       "text": [
        "['fi1S', 'ps1S'] "
       ]
      },
      {
       "output_type": "stream",
       "stream": "stdout",
       "text": [
        "['fi1S', 'ps2S'] "
       ]
      },
      {
       "output_type": "stream",
       "stream": "stdout",
       "text": [
        "['fi1S', 'ps3S'] "
       ]
      },
      {
       "output_type": "stream",
       "stream": "stdout",
       "text": [
        "['fi1S', 'ps1P'] "
       ]
      },
      {
       "output_type": "stream",
       "stream": "stdout",
       "text": [
        "['fi1S', 'ps2P'] "
       ]
      },
      {
       "output_type": "stream",
       "stream": "stdout",
       "text": [
        "['fi1S', 'ps3P'] "
       ]
      },
      {
       "output_type": "stream",
       "stream": "stdout",
       "text": [
        "['fi1S', 'pc1S'] "
       ]
      },
      {
       "output_type": "stream",
       "stream": "stdout",
       "text": [
        "['fi1S', 'pc2S'] "
       ]
      },
      {
       "output_type": "stream",
       "stream": "stdout",
       "text": [
        "['fi1S', 'pc3S'] "
       ]
      },
      {
       "output_type": "stream",
       "stream": "stdout",
       "text": [
        "['fi1S', 'pc1P'] ['fi1S', 'pc2P'] "
       ]
      },
      {
       "output_type": "stream",
       "stream": "stdout",
       "text": [
        "['fi1S', 'pc3P'] "
       ]
      },
      {
       "output_type": "stream",
       "stream": "stdout",
       "text": [
        "['fi1S', 'pP'] "
       ]
      },
      {
       "output_type": "stream",
       "stream": "stdout",
       "text": [
        "['fi2S', 'fi3S'] "
       ]
      },
      {
       "output_type": "stream",
       "stream": "stdout",
       "text": [
        "['fi2S', 'fi1P'] "
       ]
      },
      {
       "output_type": "stream",
       "stream": "stdout",
       "text": [
        "['fi2S', 'fi2P'] "
       ]
      },
      {
       "output_type": "stream",
       "stream": "stdout",
       "text": [
        "['fi2S', 'fi3P'] "
       ]
      },
      {
       "output_type": "stream",
       "stream": "stdout",
       "text": [
        "['fi2S', 'pI2S'] "
       ]
      },
      {
       "output_type": "stream",
       "stream": "stdout",
       "text": [
        "['fi2S', 'pI1P'] "
       ]
      },
      {
       "output_type": "stream",
       "stream": "stdout",
       "text": [
        "['fi2S', 'pI2P'] "
       ]
      },
      {
       "output_type": "stream",
       "stream": "stdout",
       "text": [
        "['fi2S', 'ps1S'] "
       ]
      },
      {
       "output_type": "stream",
       "stream": "stdout",
       "text": [
        "['fi2S', 'ps2S'] "
       ]
      },
      {
       "output_type": "stream",
       "stream": "stdout",
       "text": [
        "['fi2S', 'ps3S'] "
       ]
      },
      {
       "output_type": "stream",
       "stream": "stdout",
       "text": [
        "['fi2S', 'ps1P'] "
       ]
      },
      {
       "output_type": "stream",
       "stream": "stdout",
       "text": [
        "['fi2S', 'ps2P'] "
       ]
      },
      {
       "output_type": "stream",
       "stream": "stdout",
       "text": [
        "['fi2S', 'ps3P'] "
       ]
      },
      {
       "output_type": "stream",
       "stream": "stdout",
       "text": [
        "['fi2S', 'pc1S'] "
       ]
      },
      {
       "output_type": "stream",
       "stream": "stdout",
       "text": [
        "['fi2S', 'pc2S'] "
       ]
      },
      {
       "output_type": "stream",
       "stream": "stdout",
       "text": [
        "['fi2S', 'pc3S'] "
       ]
      },
      {
       "output_type": "stream",
       "stream": "stdout",
       "text": [
        "['fi2S', 'pc1P'] ['fi2S', 'pc2P'] "
       ]
      },
      {
       "output_type": "stream",
       "stream": "stdout",
       "text": [
        "['fi2S', 'pc3P'] ['fi2S', 'pP'] "
       ]
      },
      {
       "output_type": "stream",
       "stream": "stdout",
       "text": [
        "['fi3S', 'fi1P'] "
       ]
      },
      {
       "output_type": "stream",
       "stream": "stdout",
       "text": [
        "['fi3S', 'fi2P'] "
       ]
      },
      {
       "output_type": "stream",
       "stream": "stdout",
       "text": [
        "['fi3S', 'fi3P'] "
       ]
      },
      {
       "output_type": "stream",
       "stream": "stdout",
       "text": [
        "['fi3S', 'pI2S'] "
       ]
      },
      {
       "output_type": "stream",
       "stream": "stdout",
       "text": [
        "['fi3S', 'pI1P'] "
       ]
      },
      {
       "output_type": "stream",
       "stream": "stdout",
       "text": [
        "['fi3S', 'pI2P'] "
       ]
      },
      {
       "output_type": "stream",
       "stream": "stdout",
       "text": [
        "['fi3S', 'ps1S'] "
       ]
      },
      {
       "output_type": "stream",
       "stream": "stdout",
       "text": [
        "['fi3S', 'ps2S'] "
       ]
      },
      {
       "output_type": "stream",
       "stream": "stdout",
       "text": [
        "['fi3S', 'ps3S'] "
       ]
      },
      {
       "output_type": "stream",
       "stream": "stdout",
       "text": [
        "['fi3S', 'ps1P'] "
       ]
      },
      {
       "output_type": "stream",
       "stream": "stdout",
       "text": [
        "['fi3S', 'ps2P'] "
       ]
      },
      {
       "output_type": "stream",
       "stream": "stdout",
       "text": [
        "['fi3S', 'ps3P'] "
       ]
      },
      {
       "output_type": "stream",
       "stream": "stdout",
       "text": [
        "['fi3S', 'pc1S'] "
       ]
      },
      {
       "output_type": "stream",
       "stream": "stdout",
       "text": [
        "['fi3S', 'pc2S'] "
       ]
      },
      {
       "output_type": "stream",
       "stream": "stdout",
       "text": [
        "['fi3S', 'pc3S'] "
       ]
      },
      {
       "output_type": "stream",
       "stream": "stdout",
       "text": [
        "['fi3S', 'pc1P'] ['fi3S', 'pc2P'] "
       ]
      },
      {
       "output_type": "stream",
       "stream": "stdout",
       "text": [
        "['fi3S', 'pc3P'] "
       ]
      },
      {
       "output_type": "stream",
       "stream": "stdout",
       "text": [
        "['fi3S', 'pP'] "
       ]
      },
      {
       "output_type": "stream",
       "stream": "stdout",
       "text": [
        "['fi1P', 'fi2P'] "
       ]
      },
      {
       "output_type": "stream",
       "stream": "stdout",
       "text": [
        "['fi1P', 'fi3P'] "
       ]
      },
      {
       "output_type": "stream",
       "stream": "stdout",
       "text": [
        "['fi1P', 'pI2S'] "
       ]
      },
      {
       "output_type": "stream",
       "stream": "stdout",
       "text": [
        "['fi1P', 'pI1P'] "
       ]
      },
      {
       "output_type": "stream",
       "stream": "stdout",
       "text": [
        "['fi1P', 'pI2P'] "
       ]
      },
      {
       "output_type": "stream",
       "stream": "stdout",
       "text": [
        "['fi1P', 'ps1S'] "
       ]
      },
      {
       "output_type": "stream",
       "stream": "stdout",
       "text": [
        "['fi1P', 'ps2S'] "
       ]
      },
      {
       "output_type": "stream",
       "stream": "stdout",
       "text": [
        "['fi1P', 'ps3S'] "
       ]
      },
      {
       "output_type": "stream",
       "stream": "stdout",
       "text": [
        "['fi1P', 'ps1P'] "
       ]
      },
      {
       "output_type": "stream",
       "stream": "stdout",
       "text": [
        "['fi1P', 'ps2P'] "
       ]
      },
      {
       "output_type": "stream",
       "stream": "stdout",
       "text": [
        "['fi1P', 'ps3P'] "
       ]
      },
      {
       "output_type": "stream",
       "stream": "stdout",
       "text": [
        "['fi1P', 'pc1S'] "
       ]
      },
      {
       "output_type": "stream",
       "stream": "stdout",
       "text": [
        "['fi1P', 'pc2S'] "
       ]
      },
      {
       "output_type": "stream",
       "stream": "stdout",
       "text": [
        "['fi1P', 'pc3S'] "
       ]
      },
      {
       "output_type": "stream",
       "stream": "stdout",
       "text": [
        "['fi1P', 'pc1P'] ['fi1P', 'pc2P'] "
       ]
      },
      {
       "output_type": "stream",
       "stream": "stdout",
       "text": [
        "['fi1P', 'pc3P'] ['fi1P', 'pP'] "
       ]
      },
      {
       "output_type": "stream",
       "stream": "stdout",
       "text": [
        "['fi2P', 'fi3P'] "
       ]
      },
      {
       "output_type": "stream",
       "stream": "stdout",
       "text": [
        "['fi2P', 'pI2S'] "
       ]
      },
      {
       "output_type": "stream",
       "stream": "stdout",
       "text": [
        "['fi2P', 'pI1P'] "
       ]
      },
      {
       "output_type": "stream",
       "stream": "stdout",
       "text": [
        "['fi2P', 'pI2P'] "
       ]
      },
      {
       "output_type": "stream",
       "stream": "stdout",
       "text": [
        "['fi2P', 'ps1S'] "
       ]
      },
      {
       "output_type": "stream",
       "stream": "stdout",
       "text": [
        "['fi2P', 'ps2S'] "
       ]
      },
      {
       "output_type": "stream",
       "stream": "stdout",
       "text": [
        "['fi2P', 'ps3S'] "
       ]
      },
      {
       "output_type": "stream",
       "stream": "stdout",
       "text": [
        "['fi2P', 'ps1P'] "
       ]
      },
      {
       "output_type": "stream",
       "stream": "stdout",
       "text": [
        "['fi2P', 'ps2P'] "
       ]
      },
      {
       "output_type": "stream",
       "stream": "stdout",
       "text": [
        "['fi2P', 'ps3P'] "
       ]
      },
      {
       "output_type": "stream",
       "stream": "stdout",
       "text": [
        "['fi2P', 'pc1S'] "
       ]
      },
      {
       "output_type": "stream",
       "stream": "stdout",
       "text": [
        "['fi2P', 'pc2S'] "
       ]
      },
      {
       "output_type": "stream",
       "stream": "stdout",
       "text": [
        "['fi2P', 'pc3S'] "
       ]
      },
      {
       "output_type": "stream",
       "stream": "stdout",
       "text": [
        "['fi2P', 'pc1P'] ['fi2P', 'pc2P'] "
       ]
      },
      {
       "output_type": "stream",
       "stream": "stdout",
       "text": [
        "['fi2P', 'pc3P'] ['fi2P', 'pP'] "
       ]
      },
      {
       "output_type": "stream",
       "stream": "stdout",
       "text": [
        "['fi3P', 'pI2S'] "
       ]
      },
      {
       "output_type": "stream",
       "stream": "stdout",
       "text": [
        "['fi3P', 'pI1P'] "
       ]
      },
      {
       "output_type": "stream",
       "stream": "stdout",
       "text": [
        "['fi3P', 'pI2P'] "
       ]
      },
      {
       "output_type": "stream",
       "stream": "stdout",
       "text": [
        "['fi3P', 'ps1S'] "
       ]
      },
      {
       "output_type": "stream",
       "stream": "stdout",
       "text": [
        "['fi3P', 'ps2S'] "
       ]
      },
      {
       "output_type": "stream",
       "stream": "stdout",
       "text": [
        "['fi3P', 'ps3S'] "
       ]
      },
      {
       "output_type": "stream",
       "stream": "stdout",
       "text": [
        "['fi3P', 'ps1P'] "
       ]
      },
      {
       "output_type": "stream",
       "stream": "stdout",
       "text": [
        "['fi3P', 'ps2P'] "
       ]
      },
      {
       "output_type": "stream",
       "stream": "stdout",
       "text": [
        "['fi3P', 'ps3P'] "
       ]
      },
      {
       "output_type": "stream",
       "stream": "stdout",
       "text": [
        "['fi3P', 'pc1S'] "
       ]
      },
      {
       "output_type": "stream",
       "stream": "stdout",
       "text": [
        "['fi3P', 'pc2S'] "
       ]
      },
      {
       "output_type": "stream",
       "stream": "stdout",
       "text": [
        "['fi3P', 'pc3S'] "
       ]
      },
      {
       "output_type": "stream",
       "stream": "stdout",
       "text": [
        "['fi3P', 'pc1P'] ['fi3P', 'pc2P'] "
       ]
      },
      {
       "output_type": "stream",
       "stream": "stdout",
       "text": [
        "['fi3P', 'pc3P'] "
       ]
      },
      {
       "output_type": "stream",
       "stream": "stdout",
       "text": [
        "['fi3P', 'pP'] "
       ]
      },
      {
       "output_type": "stream",
       "stream": "stdout",
       "text": [
        "['pI2S', 'pI1P'] "
       ]
      },
      {
       "output_type": "stream",
       "stream": "stdout",
       "text": [
        "['pI2S', 'pI2P'] "
       ]
      },
      {
       "output_type": "stream",
       "stream": "stdout",
       "text": [
        "['pI2S', 'ps1S'] "
       ]
      },
      {
       "output_type": "stream",
       "stream": "stdout",
       "text": [
        "['pI2S', 'ps2S'] "
       ]
      },
      {
       "output_type": "stream",
       "stream": "stdout",
       "text": [
        "['pI2S', 'ps3S'] "
       ]
      },
      {
       "output_type": "stream",
       "stream": "stdout",
       "text": [
        "['pI2S', 'ps1P'] "
       ]
      },
      {
       "output_type": "stream",
       "stream": "stdout",
       "text": [
        "['pI2S', 'ps2P'] "
       ]
      },
      {
       "output_type": "stream",
       "stream": "stdout",
       "text": [
        "['pI2S', 'ps3P'] "
       ]
      },
      {
       "output_type": "stream",
       "stream": "stdout",
       "text": [
        "['pI2S', 'pc1S'] "
       ]
      },
      {
       "output_type": "stream",
       "stream": "stdout",
       "text": [
        "['pI2S', 'pc2S'] "
       ]
      },
      {
       "output_type": "stream",
       "stream": "stdout",
       "text": [
        "['pI2S', 'pc3S'] "
       ]
      },
      {
       "output_type": "stream",
       "stream": "stdout",
       "text": [
        "['pI2S', 'pc1P'] ['pI2S', 'pc2P'] "
       ]
      },
      {
       "output_type": "stream",
       "stream": "stdout",
       "text": [
        "['pI2S', 'pc3P'] "
       ]
      },
      {
       "output_type": "stream",
       "stream": "stdout",
       "text": [
        "['pI2S', 'pP'] "
       ]
      },
      {
       "output_type": "stream",
       "stream": "stdout",
       "text": [
        "['pI1P', 'pI2P'] "
       ]
      },
      {
       "output_type": "stream",
       "stream": "stdout",
       "text": [
        "['pI1P', 'ps1S'] "
       ]
      },
      {
       "output_type": "stream",
       "stream": "stdout",
       "text": [
        "['pI1P', 'ps2S'] "
       ]
      },
      {
       "output_type": "stream",
       "stream": "stdout",
       "text": [
        "['pI1P', 'ps3S'] "
       ]
      },
      {
       "output_type": "stream",
       "stream": "stdout",
       "text": [
        "['pI1P', 'ps1P'] "
       ]
      },
      {
       "output_type": "stream",
       "stream": "stdout",
       "text": [
        "['pI1P', 'ps2P'] "
       ]
      },
      {
       "output_type": "stream",
       "stream": "stdout",
       "text": [
        "['pI1P', 'ps3P'] "
       ]
      },
      {
       "output_type": "stream",
       "stream": "stdout",
       "text": [
        "['pI1P', 'pc1S'] "
       ]
      },
      {
       "output_type": "stream",
       "stream": "stdout",
       "text": [
        "['pI1P', 'pc2S'] "
       ]
      },
      {
       "output_type": "stream",
       "stream": "stdout",
       "text": [
        "['pI1P', 'pc3S'] "
       ]
      },
      {
       "output_type": "stream",
       "stream": "stdout",
       "text": [
        "['pI1P', 'pc1P'] ['pI1P', 'pc2P'] "
       ]
      },
      {
       "output_type": "stream",
       "stream": "stdout",
       "text": [
        "['pI1P', 'pc3P'] "
       ]
      },
      {
       "output_type": "stream",
       "stream": "stdout",
       "text": [
        "['pI1P', 'pP'] "
       ]
      },
      {
       "output_type": "stream",
       "stream": "stdout",
       "text": [
        "['pI2P', 'ps1S'] "
       ]
      },
      {
       "output_type": "stream",
       "stream": "stdout",
       "text": [
        "['pI2P', 'ps2S'] "
       ]
      },
      {
       "output_type": "stream",
       "stream": "stdout",
       "text": [
        "['pI2P', 'ps3S'] "
       ]
      },
      {
       "output_type": "stream",
       "stream": "stdout",
       "text": [
        "['pI2P', 'ps1P'] "
       ]
      },
      {
       "output_type": "stream",
       "stream": "stdout",
       "text": [
        "['pI2P', 'ps2P'] "
       ]
      },
      {
       "output_type": "stream",
       "stream": "stdout",
       "text": [
        "['pI2P', 'ps3P'] "
       ]
      },
      {
       "output_type": "stream",
       "stream": "stdout",
       "text": [
        "['pI2P', 'pc1S'] "
       ]
      },
      {
       "output_type": "stream",
       "stream": "stdout",
       "text": [
        "['pI2P', 'pc2S'] "
       ]
      },
      {
       "output_type": "stream",
       "stream": "stdout",
       "text": [
        "['pI2P', 'pc3S'] "
       ]
      },
      {
       "output_type": "stream",
       "stream": "stdout",
       "text": [
        "['pI2P', 'pc1P'] ['pI2P', 'pc2P'] "
       ]
      },
      {
       "output_type": "stream",
       "stream": "stdout",
       "text": [
        "['pI2P', 'pc3P'] "
       ]
      },
      {
       "output_type": "stream",
       "stream": "stdout",
       "text": [
        "['pI2P', 'pP'] "
       ]
      },
      {
       "output_type": "stream",
       "stream": "stdout",
       "text": [
        "['ps1S', 'ps2S'] "
       ]
      },
      {
       "output_type": "stream",
       "stream": "stdout",
       "text": [
        "['ps1S', 'ps3S'] "
       ]
      },
      {
       "output_type": "stream",
       "stream": "stdout",
       "text": [
        "['ps1S', 'ps1P'] "
       ]
      },
      {
       "output_type": "stream",
       "stream": "stdout",
       "text": [
        "['ps1S', 'ps2P'] "
       ]
      },
      {
       "output_type": "stream",
       "stream": "stdout",
       "text": [
        "['ps1S', 'ps3P'] "
       ]
      },
      {
       "output_type": "stream",
       "stream": "stdout",
       "text": [
        "['ps1S', 'pc1S'] "
       ]
      },
      {
       "output_type": "stream",
       "stream": "stdout",
       "text": [
        "['ps1S', 'pc2S'] "
       ]
      },
      {
       "output_type": "stream",
       "stream": "stdout",
       "text": [
        "['ps1S', 'pc3S'] "
       ]
      },
      {
       "output_type": "stream",
       "stream": "stdout",
       "text": [
        "['ps1S', 'pc1P'] ['ps1S', 'pc2P'] "
       ]
      },
      {
       "output_type": "stream",
       "stream": "stdout",
       "text": [
        "['ps1S', 'pc3P'] "
       ]
      },
      {
       "output_type": "stream",
       "stream": "stdout",
       "text": [
        "['ps1S', 'pP'] "
       ]
      },
      {
       "output_type": "stream",
       "stream": "stdout",
       "text": [
        "['ps2S', 'ps3S'] "
       ]
      },
      {
       "output_type": "stream",
       "stream": "stdout",
       "text": [
        "['ps2S', 'ps1P'] "
       ]
      },
      {
       "output_type": "stream",
       "stream": "stdout",
       "text": [
        "['ps2S', 'ps2P'] "
       ]
      },
      {
       "output_type": "stream",
       "stream": "stdout",
       "text": [
        "['ps2S', 'ps3P'] "
       ]
      },
      {
       "output_type": "stream",
       "stream": "stdout",
       "text": [
        "['ps2S', 'pc1S'] "
       ]
      },
      {
       "output_type": "stream",
       "stream": "stdout",
       "text": [
        "['ps2S', 'pc2S'] "
       ]
      },
      {
       "output_type": "stream",
       "stream": "stdout",
       "text": [
        "['ps2S', 'pc3S'] "
       ]
      },
      {
       "output_type": "stream",
       "stream": "stdout",
       "text": [
        "['ps2S', 'pc1P'] ['ps2S', 'pc2P'] "
       ]
      },
      {
       "output_type": "stream",
       "stream": "stdout",
       "text": [
        "['ps2S', 'pc3P'] "
       ]
      },
      {
       "output_type": "stream",
       "stream": "stdout",
       "text": [
        "['ps2S', 'pP'] "
       ]
      },
      {
       "output_type": "stream",
       "stream": "stdout",
       "text": [
        "['ps3S', 'ps1P'] "
       ]
      },
      {
       "output_type": "stream",
       "stream": "stdout",
       "text": [
        "['ps3S', 'ps2P'] "
       ]
      },
      {
       "output_type": "stream",
       "stream": "stdout",
       "text": [
        "['ps3S', 'ps3P'] "
       ]
      },
      {
       "output_type": "stream",
       "stream": "stdout",
       "text": [
        "['ps3S', 'pc1S'] "
       ]
      },
      {
       "output_type": "stream",
       "stream": "stdout",
       "text": [
        "['ps3S', 'pc2S'] "
       ]
      },
      {
       "output_type": "stream",
       "stream": "stdout",
       "text": [
        "['ps3S', 'pc3S'] "
       ]
      },
      {
       "output_type": "stream",
       "stream": "stdout",
       "text": [
        "['ps3S', 'pc1P'] ['ps3S', 'pc2P'] "
       ]
      },
      {
       "output_type": "stream",
       "stream": "stdout",
       "text": [
        "['ps3S', 'pc3P'] "
       ]
      },
      {
       "output_type": "stream",
       "stream": "stdout",
       "text": [
        "['ps3S', 'pP'] "
       ]
      },
      {
       "output_type": "stream",
       "stream": "stdout",
       "text": [
        "['ps1P', 'ps2P'] "
       ]
      },
      {
       "output_type": "stream",
       "stream": "stdout",
       "text": [
        "['ps1P', 'ps3P'] "
       ]
      },
      {
       "output_type": "stream",
       "stream": "stdout",
       "text": [
        "['ps1P', 'pc1S'] "
       ]
      },
      {
       "output_type": "stream",
       "stream": "stdout",
       "text": [
        "['ps1P', 'pc2S'] "
       ]
      },
      {
       "output_type": "stream",
       "stream": "stdout",
       "text": [
        "['ps1P', 'pc3S'] "
       ]
      },
      {
       "output_type": "stream",
       "stream": "stdout",
       "text": [
        "['ps1P', 'pc1P'] ['ps1P', 'pc2P'] "
       ]
      },
      {
       "output_type": "stream",
       "stream": "stdout",
       "text": [
        "['ps1P', 'pc3P'] ['ps1P', 'pP'] "
       ]
      },
      {
       "output_type": "stream",
       "stream": "stdout",
       "text": [
        "['ps2P', 'ps3P'] "
       ]
      },
      {
       "output_type": "stream",
       "stream": "stdout",
       "text": [
        "['ps2P', 'pc1S'] "
       ]
      },
      {
       "output_type": "stream",
       "stream": "stdout",
       "text": [
        "['ps2P', 'pc2S'] "
       ]
      },
      {
       "output_type": "stream",
       "stream": "stdout",
       "text": [
        "['ps2P', 'pc3S'] "
       ]
      },
      {
       "output_type": "stream",
       "stream": "stdout",
       "text": [
        "['ps2P', 'pc1P'] ['ps2P', 'pc2P'] "
       ]
      },
      {
       "output_type": "stream",
       "stream": "stdout",
       "text": [
        "['ps2P', 'pc3P'] "
       ]
      },
      {
       "output_type": "stream",
       "stream": "stdout",
       "text": [
        "['ps2P', 'pP'] "
       ]
      },
      {
       "output_type": "stream",
       "stream": "stdout",
       "text": [
        "['ps3P', 'pc1S'] "
       ]
      },
      {
       "output_type": "stream",
       "stream": "stdout",
       "text": [
        "['ps3P', 'pc2S'] "
       ]
      },
      {
       "output_type": "stream",
       "stream": "stdout",
       "text": [
        "['ps3P', 'pc3S'] "
       ]
      },
      {
       "output_type": "stream",
       "stream": "stdout",
       "text": [
        "['ps3P', 'pc1P'] ['ps3P', 'pc2P'] "
       ]
      },
      {
       "output_type": "stream",
       "stream": "stdout",
       "text": [
        "['ps3P', 'pc3P'] "
       ]
      },
      {
       "output_type": "stream",
       "stream": "stdout",
       "text": [
        "['ps3P', 'pP'] "
       ]
      },
      {
       "output_type": "stream",
       "stream": "stdout",
       "text": [
        "['pc1S', 'pc2S'] "
       ]
      },
      {
       "output_type": "stream",
       "stream": "stdout",
       "text": [
        "['pc1S', 'pc3S'] "
       ]
      },
      {
       "output_type": "stream",
       "stream": "stdout",
       "text": [
        "['pc1S', 'pc1P'] ['pc1S', 'pc2P'] "
       ]
      },
      {
       "output_type": "stream",
       "stream": "stdout",
       "text": [
        "['pc1S', 'pc3P'] ['pc1S', 'pP'] "
       ]
      },
      {
       "output_type": "stream",
       "stream": "stdout",
       "text": [
        "['pc2S', 'pc3S'] "
       ]
      },
      {
       "output_type": "stream",
       "stream": "stdout",
       "text": [
        "['pc2S', 'pc1P'] ['pc2S', 'pc2P'] "
       ]
      },
      {
       "output_type": "stream",
       "stream": "stdout",
       "text": [
        "['pc2S', 'pc3P'] ['pc2S', 'pP'] "
       ]
      },
      {
       "output_type": "stream",
       "stream": "stdout",
       "text": [
        "['pc3S', 'pc1P'] ['pc3S', 'pc2P'] "
       ]
      },
      {
       "output_type": "stream",
       "stream": "stdout",
       "text": [
        "['pc3S', 'pc3P'] "
       ]
      },
      {
       "output_type": "stream",
       "stream": "stdout",
       "text": [
        "['pc3S', 'pP'] "
       ]
      },
      {
       "output_type": "stream",
       "stream": "stdout",
       "text": [
        "['pc1P', 'pc2P'] ['pc1P', 'pc3P'] ['pc1P', 'pP'] "
       ]
      },
      {
       "output_type": "stream",
       "stream": "stdout",
       "text": [
        "['pc2P', 'pc3P'] ['pc2P', 'pP'] "
       ]
      },
      {
       "output_type": "stream",
       "stream": "stdout",
       "text": [
        "['pc3P', 'pP']CPU times: user 1min 31s, sys: 420 ms, total: 1min 31s"
       ]
      },
      {
       "output_type": "stream",
       "stream": "stdout",
       "text": [
        "\n",
        "Wall time: 1min 31s\n",
        "\n"
       ]
      }
     ],
     "prompt_number": 24
    },
    {
     "cell_type": "code",
     "collapsed": false,
     "input": [
      "resultats[('pi2S', 'pi3S')][1]"
     ],
     "language": "python",
     "metadata": {},
     "outputs": [
      {
       "metadata": {},
       "output_type": "pyout",
       "prompt_number": 29,
       "text": [
        "{'-': u'^(.*[ptkbdgfsSvzZmnJjlrwHiyEe926auOo\\xea\\xfb\\xe2\\xf4])$',\n",
        " u'je-wa': u'^asje$',\n",
        " u'wa-je': u'^aswa$'}"
       ]
      }
     ],
     "prompt_number": 29
    },
    {
     "cell_type": "code",
     "collapsed": false,
     "input": [
      "colonnes=paradigmes.columns.values.tolist()\n",
      "result={}\n",
      "paire=('inf','fi1S')\n",
      "paireListe=list(paire)\n",
      "print paireListe\n",
      "paireListe.append(\"lexeme\")\n",
      "if paire[0] in colonnes and paire[1] in colonnes:\n",
      "    paradigmePaire=paradigmes[paireListe].dropna(thresh=3, axis=0).reindex()\n",
      "    paradigmePaire=splitCellMates(splitCellMates(paradigmePaire,paire[0]),paire[1])\n",
      "    result[paire]=rapports(paradigmePaire)\n",
      "else:\n",
      "    result[paire]=(\"missing pair\", paire)"
     ],
     "language": "python",
     "metadata": {},
     "outputs": [
      {
       "output_type": "stream",
       "stream": "stdout",
       "text": [
        "['inf', 'fi1S']\n",
        "patron1 -E\n",
        "3 6\n",
        "set([u'r', u'\\xe2', u'd'])\n",
        "set([u'i', u'd'])\n",
        "set([u'r'])\n",
        "patron1 vwar-rE\n",
        "6 6\n",
        "set([u'p'])\n",
        "set([u'u'])\n",
        "set([u'v'])\n",
        "set([u'w'])\n",
        "set([u'a'])\n",
        "set([u'r'])\n",
        "patron1 6ni.-j\u00ead.E\n",
        "5 5\n",
        "set([u'v'])\n",
        "set([u'6'])\n",
        "set([u'n'])\n",
        "set([u'i'])\n",
        "set([u'r'])\n",
        "patron1 E.-6.E\n",
        "3 3\n",
        "set([u'f'])\n",
        "set([u'E'])\n",
        "set([u'r'])\n",
        "patron1 ale-irE\n",
        "3 3\n",
        "set([u'a'])\n",
        "set([u'l'])\n",
        "set([u'e'])\n",
        "patron1 Et.-s6.E\n",
        "3 3\n",
        "set([u'E'])\n",
        "set([u't'])\n",
        "set([u'r'])\n",
        "patron2 E-\n",
        "4 7\n",
        "set([u'r', u'\\xe2', u'd'])\n",
        "set([u'i', u'd'])\n",
        "set([u'r'])\n",
        "set([u'E'])\n",
        "patron2 irE-ale\n",
        "3 3\n",
        "set([u'i'])\n",
        "set([u'r'])\n",
        "set([u'E'])\n",
        "patron2 6.E-E.\n",
        "4 4\n",
        "set([u'f'])\n",
        "set([u'6'])\n",
        "set([u'r'])\n",
        "set([u'E'])\n",
        "patron2 j\u00ead.E-6ni.\n",
        "6 6\n",
        "set([u'v'])\n",
        "set([u'j'])\n",
        "set([u'\\xea'])\n",
        "set([u'd'])\n",
        "set([u'r'])\n",
        "set([u'E'])\n",
        "patron2 s6.E-Et.\n",
        "4 4\n",
        "set([u's'])\n",
        "set([u'6'])\n",
        "set([u'r'])\n",
        "set([u'E'])\n",
        "patron2 rE-vwar\n",
        "4 4\n",
        "set([u'p'])\n",
        "set([u'u'])\n",
        "set([u'r'])\n",
        "set([u'E'])\n"
       ]
      }
     ],
     "prompt_number": 25
    },
    {
     "cell_type": "code",
     "collapsed": false,
     "input": [],
     "language": "python",
     "metadata": {},
     "outputs": [
      {
       "output_type": "stream",
       "stream": "stdout",
       "text": [
        "\u00e2\u00ea\u00fb\u00f4\n"
       ]
      }
     ],
     "prompt_number": 154
    },
    {
     "cell_type": "code",
     "collapsed": false,
     "input": [
      "echantillonVerbes=[\"chanter\",\"manger\",\"asseoir\",\"avoir\",\"prendre\",\"dormir\"]\n",
      "extrait=verbes[verbes[\"lexeme\"].isin(echantillonVerbes)]"
     ],
     "language": "python",
     "metadata": {},
     "outputs": []
    },
    {
     "cell_type": "markdown",
     "metadata": {},
     "source": [
      "###Initialisation pour l'\u00e9chantillon complet"
     ]
    },
    {
     "cell_type": "code",
     "collapsed": false,
     "input": [
      "extrait=verbes"
     ],
     "language": "python",
     "metadata": {},
     "outputs": [],
     "prompt_number": 26
    },
    {
     "cell_type": "code",
     "collapsed": false,
     "input": [
      "paradigmes"
     ],
     "language": "python",
     "metadata": {},
     "outputs": [
      {
       "html": [
        "<div style=\"max-height:1000px;max-width:1500px;overflow:auto;\">\n",
        "<table border=\"1\" class=\"dataframe\">\n",
        "  <thead>\n",
        "    <tr style=\"text-align: right;\">\n",
        "      <th>case</th>\n",
        "      <th>lexeme</th>\n",
        "      <th>ai1P</th>\n",
        "      <th>ai1S</th>\n",
        "      <th>ai2P</th>\n",
        "      <th>ai2S</th>\n",
        "      <th>ai3P</th>\n",
        "      <th>ai3S</th>\n",
        "      <th>fi1P</th>\n",
        "      <th>fi1S</th>\n",
        "      <th>fi2P</th>\n",
        "      <th>...</th>\n",
        "      <th>pi2P</th>\n",
        "      <th>pi2S</th>\n",
        "      <th>pi3P</th>\n",
        "      <th>pi3S</th>\n",
        "      <th>ps1P</th>\n",
        "      <th>ps1S</th>\n",
        "      <th>ps2P</th>\n",
        "      <th>ps2S</th>\n",
        "      <th>ps3P</th>\n",
        "      <th>ps3S</th>\n",
        "    </tr>\n",
        "  </thead>\n",
        "  <tbody>\n",
        "    <tr>\n",
        "      <th>0   </th>\n",
        "      <td>    abaisser</td>\n",
        "      <td>       NaN</td>\n",
        "      <td>   abEsE</td>\n",
        "      <td>     NaN</td>\n",
        "      <td>      NaN</td>\n",
        "      <td>      NaN</td>\n",
        "      <td>     NaN</td>\n",
        "      <td>       NaN</td>\n",
        "      <td>   abEs6rE</td>\n",
        "      <td>       NaN</td>\n",
        "      <td>...</td>\n",
        "      <td>    abEse</td>\n",
        "      <td>     abEs</td>\n",
        "      <td>    abEs</td>\n",
        "      <td>   abEs</td>\n",
        "      <td>      NaN</td>\n",
        "      <td>    abEs</td>\n",
        "      <td>      NaN</td>\n",
        "      <td>    abEs</td>\n",
        "      <td>    abEs</td>\n",
        "      <td>    abEs</td>\n",
        "    </tr>\n",
        "    <tr>\n",
        "      <th>1   </th>\n",
        "      <td>  abandonner</td>\n",
        "      <td>       NaN</td>\n",
        "      <td> ab\u00e2dOnE</td>\n",
        "      <td>     NaN</td>\n",
        "      <td>      NaN</td>\n",
        "      <td> ab\u00e2dOnEr</td>\n",
        "      <td> ab\u00e2dOna</td>\n",
        "      <td> ab\u00e2dOn6r\u00f4</td>\n",
        "      <td> ab\u00e2dOn6rE</td>\n",
        "      <td> ab\u00e2dOn6re</td>\n",
        "      <td>...</td>\n",
        "      <td>  ab\u00e2dOne</td>\n",
        "      <td>   ab\u00e2dOn</td>\n",
        "      <td>  ab\u00e2dOn</td>\n",
        "      <td> ab\u00e2dOn</td>\n",
        "      <td> ab\u00e2dOnj\u00f4</td>\n",
        "      <td>  ab\u00e2dOn</td>\n",
        "      <td> ab\u00e2dOnje</td>\n",
        "      <td>  ab\u00e2dOn</td>\n",
        "      <td>  ab\u00e2dOn</td>\n",
        "      <td>  ab\u00e2dOn</td>\n",
        "    </tr>\n",
        "    <tr>\n",
        "      <th>2   </th>\n",
        "      <td>  abasourdir</td>\n",
        "      <td>       NaN</td>\n",
        "      <td>     NaN</td>\n",
        "      <td>     NaN</td>\n",
        "      <td> abazurdi</td>\n",
        "      <td>      NaN</td>\n",
        "      <td>     NaN</td>\n",
        "      <td>       NaN</td>\n",
        "      <td>       NaN</td>\n",
        "      <td>       NaN</td>\n",
        "      <td>...</td>\n",
        "      <td>      NaN</td>\n",
        "      <td> abazurdi</td>\n",
        "      <td>     NaN</td>\n",
        "      <td>    NaN</td>\n",
        "      <td>      NaN</td>\n",
        "      <td>     NaN</td>\n",
        "      <td>      NaN</td>\n",
        "      <td>     NaN</td>\n",
        "      <td>     NaN</td>\n",
        "      <td>     NaN</td>\n",
        "    </tr>\n",
        "    <tr>\n",
        "      <th>3   </th>\n",
        "      <td>     abattre</td>\n",
        "      <td>       NaN</td>\n",
        "      <td>     NaN</td>\n",
        "      <td>     NaN</td>\n",
        "      <td>      NaN</td>\n",
        "      <td>   abatir</td>\n",
        "      <td>   abati</td>\n",
        "      <td>       NaN</td>\n",
        "      <td>    abatrE</td>\n",
        "      <td>    abatre</td>\n",
        "      <td>...</td>\n",
        "      <td>    abate</td>\n",
        "      <td>      aba</td>\n",
        "      <td>    abat</td>\n",
        "      <td>    aba</td>\n",
        "      <td>      NaN</td>\n",
        "      <td>    abat</td>\n",
        "      <td>   abatje</td>\n",
        "      <td>    abat</td>\n",
        "      <td>    abat</td>\n",
        "      <td>    abat</td>\n",
        "    </tr>\n",
        "    <tr>\n",
        "      <th>4   </th>\n",
        "      <td>     abc\u00e9der</td>\n",
        "      <td>       NaN</td>\n",
        "      <td>     NaN</td>\n",
        "      <td>     NaN</td>\n",
        "      <td>      NaN</td>\n",
        "      <td>      NaN</td>\n",
        "      <td>     NaN</td>\n",
        "      <td>       NaN</td>\n",
        "      <td>       NaN</td>\n",
        "      <td>       NaN</td>\n",
        "      <td>...</td>\n",
        "      <td>      NaN</td>\n",
        "      <td>      NaN</td>\n",
        "      <td>     NaN</td>\n",
        "      <td>    NaN</td>\n",
        "      <td>      NaN</td>\n",
        "      <td>     NaN</td>\n",
        "      <td>      NaN</td>\n",
        "      <td>     NaN</td>\n",
        "      <td>     NaN</td>\n",
        "      <td>     NaN</td>\n",
        "    </tr>\n",
        "    <tr>\n",
        "      <th>5   </th>\n",
        "      <td>    abdiquer</td>\n",
        "      <td>       NaN</td>\n",
        "      <td>     NaN</td>\n",
        "      <td>     NaN</td>\n",
        "      <td>      NaN</td>\n",
        "      <td>      NaN</td>\n",
        "      <td>     NaN</td>\n",
        "      <td>       NaN</td>\n",
        "      <td>       NaN</td>\n",
        "      <td>       NaN</td>\n",
        "      <td>...</td>\n",
        "      <td>      NaN</td>\n",
        "      <td>      NaN</td>\n",
        "      <td>   abdik</td>\n",
        "      <td>  abdik</td>\n",
        "      <td>      NaN</td>\n",
        "      <td>   abdik</td>\n",
        "      <td>      NaN</td>\n",
        "      <td>     NaN</td>\n",
        "      <td>     NaN</td>\n",
        "      <td>   abdik</td>\n",
        "    </tr>\n",
        "    <tr>\n",
        "      <th>6   </th>\n",
        "      <td>     aberrer</td>\n",
        "      <td>       NaN</td>\n",
        "      <td>     NaN</td>\n",
        "      <td>     NaN</td>\n",
        "      <td>      NaN</td>\n",
        "      <td>      NaN</td>\n",
        "      <td>     NaN</td>\n",
        "      <td>       NaN</td>\n",
        "      <td>       NaN</td>\n",
        "      <td>       NaN</td>\n",
        "      <td>...</td>\n",
        "      <td>      NaN</td>\n",
        "      <td>      NaN</td>\n",
        "      <td>     NaN</td>\n",
        "      <td>   abEr</td>\n",
        "      <td>      NaN</td>\n",
        "      <td>     NaN</td>\n",
        "      <td>      NaN</td>\n",
        "      <td>     NaN</td>\n",
        "      <td>    abEr</td>\n",
        "      <td>     NaN</td>\n",
        "    </tr>\n",
        "    <tr>\n",
        "      <th>7   </th>\n",
        "      <td>    abhorrer</td>\n",
        "      <td>       NaN</td>\n",
        "      <td>     NaN</td>\n",
        "      <td>  abOrat</td>\n",
        "      <td>      NaN</td>\n",
        "      <td>      NaN</td>\n",
        "      <td>     NaN</td>\n",
        "      <td>       NaN</td>\n",
        "      <td>       NaN</td>\n",
        "      <td>       NaN</td>\n",
        "      <td>...</td>\n",
        "      <td>    abOre</td>\n",
        "      <td>      NaN</td>\n",
        "      <td>     NaN</td>\n",
        "      <td>   abOr</td>\n",
        "      <td>      NaN</td>\n",
        "      <td>    abOr</td>\n",
        "      <td>      NaN</td>\n",
        "      <td>     NaN</td>\n",
        "      <td>     NaN</td>\n",
        "      <td>    abOr</td>\n",
        "    </tr>\n",
        "    <tr>\n",
        "      <th>8   </th>\n",
        "      <td>     abjurer</td>\n",
        "      <td>       NaN</td>\n",
        "      <td>     NaN</td>\n",
        "      <td>     NaN</td>\n",
        "      <td>      NaN</td>\n",
        "      <td>      NaN</td>\n",
        "      <td>     NaN</td>\n",
        "      <td>       NaN</td>\n",
        "      <td>       NaN</td>\n",
        "      <td>  abZyr6re</td>\n",
        "      <td>...</td>\n",
        "      <td>   abZyre</td>\n",
        "      <td>      NaN</td>\n",
        "      <td>     NaN</td>\n",
        "      <td>  abZyr</td>\n",
        "      <td>      NaN</td>\n",
        "      <td>   abZyr</td>\n",
        "      <td>      NaN</td>\n",
        "      <td>     NaN</td>\n",
        "      <td>     NaN</td>\n",
        "      <td>   abZyr</td>\n",
        "    </tr>\n",
        "    <tr>\n",
        "      <th>9   </th>\n",
        "      <td>     ablater</td>\n",
        "      <td>       NaN</td>\n",
        "      <td>     NaN</td>\n",
        "      <td>     NaN</td>\n",
        "      <td>      NaN</td>\n",
        "      <td>      NaN</td>\n",
        "      <td>     NaN</td>\n",
        "      <td>       NaN</td>\n",
        "      <td>       NaN</td>\n",
        "      <td>       NaN</td>\n",
        "      <td>...</td>\n",
        "      <td>      NaN</td>\n",
        "      <td>      NaN</td>\n",
        "      <td>     NaN</td>\n",
        "      <td>    NaN</td>\n",
        "      <td>      NaN</td>\n",
        "      <td>     NaN</td>\n",
        "      <td>      NaN</td>\n",
        "      <td>     NaN</td>\n",
        "      <td>     NaN</td>\n",
        "      <td>     NaN</td>\n",
        "    </tr>\n",
        "    <tr>\n",
        "      <th>10  </th>\n",
        "      <td>      abolir</td>\n",
        "      <td>       NaN</td>\n",
        "      <td>   abOli</td>\n",
        "      <td>     NaN</td>\n",
        "      <td>    abOli</td>\n",
        "      <td>      NaN</td>\n",
        "      <td>   abOli</td>\n",
        "      <td>       NaN</td>\n",
        "      <td>       NaN</td>\n",
        "      <td>       NaN</td>\n",
        "      <td>...</td>\n",
        "      <td>      NaN</td>\n",
        "      <td>    abOli</td>\n",
        "      <td>     NaN</td>\n",
        "      <td>  abOli</td>\n",
        "      <td> abOlisj\u00f4</td>\n",
        "      <td>     NaN</td>\n",
        "      <td>      NaN</td>\n",
        "      <td>     NaN</td>\n",
        "      <td>     NaN</td>\n",
        "      <td>     NaN</td>\n",
        "    </tr>\n",
        "    <tr>\n",
        "      <th>11  </th>\n",
        "      <td>     abonder</td>\n",
        "      <td>       NaN</td>\n",
        "      <td>     NaN</td>\n",
        "      <td>     NaN</td>\n",
        "      <td>      NaN</td>\n",
        "      <td>      NaN</td>\n",
        "      <td>     NaN</td>\n",
        "      <td>       NaN</td>\n",
        "      <td>       NaN</td>\n",
        "      <td>       NaN</td>\n",
        "      <td>...</td>\n",
        "      <td>      NaN</td>\n",
        "      <td>      NaN</td>\n",
        "      <td>    ab\u00f4d</td>\n",
        "      <td>   ab\u00f4d</td>\n",
        "      <td>      NaN</td>\n",
        "      <td>    ab\u00f4d</td>\n",
        "      <td>      NaN</td>\n",
        "      <td>     NaN</td>\n",
        "      <td>    ab\u00f4d</td>\n",
        "      <td>    ab\u00f4d</td>\n",
        "    </tr>\n",
        "    <tr>\n",
        "      <th>12  </th>\n",
        "      <td>     abonner</td>\n",
        "      <td>       NaN</td>\n",
        "      <td>     NaN</td>\n",
        "      <td>     NaN</td>\n",
        "      <td>      NaN</td>\n",
        "      <td>      NaN</td>\n",
        "      <td>   abOna</td>\n",
        "      <td>       NaN</td>\n",
        "      <td>       NaN</td>\n",
        "      <td>       NaN</td>\n",
        "      <td>...</td>\n",
        "      <td>      NaN</td>\n",
        "      <td>      NaN</td>\n",
        "      <td>     NaN</td>\n",
        "      <td>   abOn</td>\n",
        "      <td>      NaN</td>\n",
        "      <td>    abOn</td>\n",
        "      <td>      NaN</td>\n",
        "      <td>     NaN</td>\n",
        "      <td>     NaN</td>\n",
        "      <td>    abOn</td>\n",
        "    </tr>\n",
        "    <tr>\n",
        "      <th>13  </th>\n",
        "      <td>     abonnir</td>\n",
        "      <td>       NaN</td>\n",
        "      <td>     NaN</td>\n",
        "      <td>     NaN</td>\n",
        "      <td>      NaN</td>\n",
        "      <td>      NaN</td>\n",
        "      <td>     NaN</td>\n",
        "      <td>       NaN</td>\n",
        "      <td>       NaN</td>\n",
        "      <td>       NaN</td>\n",
        "      <td>...</td>\n",
        "      <td>      NaN</td>\n",
        "      <td>      NaN</td>\n",
        "      <td>     NaN</td>\n",
        "      <td>    NaN</td>\n",
        "      <td>      NaN</td>\n",
        "      <td>     NaN</td>\n",
        "      <td>      NaN</td>\n",
        "      <td>     NaN</td>\n",
        "      <td>     NaN</td>\n",
        "      <td>     NaN</td>\n",
        "    </tr>\n",
        "    <tr>\n",
        "      <th>14  </th>\n",
        "      <td>     aborder</td>\n",
        "      <td>       NaN</td>\n",
        "      <td>     NaN</td>\n",
        "      <td>     NaN</td>\n",
        "      <td>      NaN</td>\n",
        "      <td>      NaN</td>\n",
        "      <td>  abOrda</td>\n",
        "      <td>  abOrd6r\u00f4</td>\n",
        "      <td>       NaN</td>\n",
        "      <td>       NaN</td>\n",
        "      <td>...</td>\n",
        "      <td>   abOrde</td>\n",
        "      <td>    abOrd</td>\n",
        "      <td>   abOrd</td>\n",
        "      <td>  abOrd</td>\n",
        "      <td>  abOrdj\u00f4</td>\n",
        "      <td>   abOrd</td>\n",
        "      <td>      NaN</td>\n",
        "      <td>   abOrd</td>\n",
        "      <td>   abOrd</td>\n",
        "      <td>   abOrd</td>\n",
        "    </tr>\n",
        "    <tr>\n",
        "      <th>15  </th>\n",
        "      <td>    aboucher</td>\n",
        "      <td>       NaN</td>\n",
        "      <td>     NaN</td>\n",
        "      <td>     NaN</td>\n",
        "      <td>      NaN</td>\n",
        "      <td>      NaN</td>\n",
        "      <td>     NaN</td>\n",
        "      <td>       NaN</td>\n",
        "      <td>       NaN</td>\n",
        "      <td>       NaN</td>\n",
        "      <td>...</td>\n",
        "      <td>      NaN</td>\n",
        "      <td>      NaN</td>\n",
        "      <td>     NaN</td>\n",
        "      <td>    NaN</td>\n",
        "      <td>      NaN</td>\n",
        "      <td>     NaN</td>\n",
        "      <td>      NaN</td>\n",
        "      <td>     NaN</td>\n",
        "      <td>     NaN</td>\n",
        "      <td>     NaN</td>\n",
        "    </tr>\n",
        "    <tr>\n",
        "      <th>16  </th>\n",
        "      <td>     abouler</td>\n",
        "      <td>       NaN</td>\n",
        "      <td>     NaN</td>\n",
        "      <td>     NaN</td>\n",
        "      <td>      NaN</td>\n",
        "      <td>      NaN</td>\n",
        "      <td>     NaN</td>\n",
        "      <td>       NaN</td>\n",
        "      <td>       NaN</td>\n",
        "      <td>       NaN</td>\n",
        "      <td>...</td>\n",
        "      <td>    abule</td>\n",
        "      <td>      NaN</td>\n",
        "      <td>     NaN</td>\n",
        "      <td>   abul</td>\n",
        "      <td>      NaN</td>\n",
        "      <td>    abul</td>\n",
        "      <td>      NaN</td>\n",
        "      <td>     NaN</td>\n",
        "      <td>     NaN</td>\n",
        "      <td>    abul</td>\n",
        "    </tr>\n",
        "    <tr>\n",
        "      <th>17  </th>\n",
        "      <td>     aboutir</td>\n",
        "      <td>       NaN</td>\n",
        "      <td>   abuti</td>\n",
        "      <td>     NaN</td>\n",
        "      <td>    abuti</td>\n",
        "      <td>      NaN</td>\n",
        "      <td>   abuti</td>\n",
        "      <td>       NaN</td>\n",
        "      <td>       NaN</td>\n",
        "      <td>       NaN</td>\n",
        "      <td>...</td>\n",
        "      <td>      NaN</td>\n",
        "      <td>    abuti</td>\n",
        "      <td>  abutis</td>\n",
        "      <td>  abuti</td>\n",
        "      <td>      NaN</td>\n",
        "      <td>     NaN</td>\n",
        "      <td>      NaN</td>\n",
        "      <td>     NaN</td>\n",
        "      <td>  abutis</td>\n",
        "      <td>  abutis</td>\n",
        "    </tr>\n",
        "    <tr>\n",
        "      <th>18  </th>\n",
        "      <td>      aboyer</td>\n",
        "      <td>       NaN</td>\n",
        "      <td>     NaN</td>\n",
        "      <td>     NaN</td>\n",
        "      <td>      NaN</td>\n",
        "      <td>      NaN</td>\n",
        "      <td>     NaN</td>\n",
        "      <td>       NaN</td>\n",
        "      <td>       NaN</td>\n",
        "      <td>       NaN</td>\n",
        "      <td>...</td>\n",
        "      <td>      NaN</td>\n",
        "      <td>     abwa</td>\n",
        "      <td>    abwa</td>\n",
        "      <td>   abwa</td>\n",
        "      <td>      NaN</td>\n",
        "      <td>    abwa</td>\n",
        "      <td>      NaN</td>\n",
        "      <td>    abwa</td>\n",
        "      <td>    abwa</td>\n",
        "      <td>    abwa</td>\n",
        "    </tr>\n",
        "    <tr>\n",
        "      <th>19  </th>\n",
        "      <td>     abraser</td>\n",
        "      <td>       NaN</td>\n",
        "      <td>     NaN</td>\n",
        "      <td>     NaN</td>\n",
        "      <td>   abraza</td>\n",
        "      <td>      NaN</td>\n",
        "      <td>     NaN</td>\n",
        "      <td>       NaN</td>\n",
        "      <td>       NaN</td>\n",
        "      <td>       NaN</td>\n",
        "      <td>...</td>\n",
        "      <td>      NaN</td>\n",
        "      <td>      NaN</td>\n",
        "      <td>     NaN</td>\n",
        "      <td>    NaN</td>\n",
        "      <td>      NaN</td>\n",
        "      <td>     NaN</td>\n",
        "      <td>      NaN</td>\n",
        "      <td>     NaN</td>\n",
        "      <td>     NaN</td>\n",
        "      <td>     NaN</td>\n",
        "    </tr>\n",
        "    <tr>\n",
        "      <th>20  </th>\n",
        "      <td>    abreuver</td>\n",
        "      <td>       NaN</td>\n",
        "      <td>     NaN</td>\n",
        "      <td>     NaN</td>\n",
        "      <td>      NaN</td>\n",
        "      <td>      NaN</td>\n",
        "      <td>     NaN</td>\n",
        "      <td>       NaN</td>\n",
        "      <td>       NaN</td>\n",
        "      <td>       NaN</td>\n",
        "      <td>...</td>\n",
        "      <td>      NaN</td>\n",
        "      <td>      NaN</td>\n",
        "      <td>   abr9v</td>\n",
        "      <td>  abr9v</td>\n",
        "      <td>      NaN</td>\n",
        "      <td>   abr9v</td>\n",
        "      <td>      NaN</td>\n",
        "      <td>     NaN</td>\n",
        "      <td>     NaN</td>\n",
        "      <td>   abr9v</td>\n",
        "    </tr>\n",
        "    <tr>\n",
        "      <th>21  </th>\n",
        "      <td>   abricoter</td>\n",
        "      <td> abrikOtam</td>\n",
        "      <td>     NaN</td>\n",
        "      <td>     NaN</td>\n",
        "      <td>      NaN</td>\n",
        "      <td>      NaN</td>\n",
        "      <td>     NaN</td>\n",
        "      <td>       NaN</td>\n",
        "      <td>       NaN</td>\n",
        "      <td>       NaN</td>\n",
        "      <td>...</td>\n",
        "      <td> abrikOte</td>\n",
        "      <td>      NaN</td>\n",
        "      <td> abrikOt</td>\n",
        "      <td>    NaN</td>\n",
        "      <td>      NaN</td>\n",
        "      <td>     NaN</td>\n",
        "      <td>      NaN</td>\n",
        "      <td>     NaN</td>\n",
        "      <td>     NaN</td>\n",
        "      <td>     NaN</td>\n",
        "    </tr>\n",
        "    <tr>\n",
        "      <th>22  </th>\n",
        "      <td>     abriter</td>\n",
        "      <td>       NaN</td>\n",
        "      <td>     NaN</td>\n",
        "      <td> abritat</td>\n",
        "      <td>      NaN</td>\n",
        "      <td>      NaN</td>\n",
        "      <td>     NaN</td>\n",
        "      <td>       NaN</td>\n",
        "      <td>       NaN</td>\n",
        "      <td>       NaN</td>\n",
        "      <td>...</td>\n",
        "      <td>   abrite</td>\n",
        "      <td>    abrit</td>\n",
        "      <td>   abrit</td>\n",
        "      <td>  abrit</td>\n",
        "      <td>      NaN</td>\n",
        "      <td>   abrit</td>\n",
        "      <td>      NaN</td>\n",
        "      <td>   abrit</td>\n",
        "      <td>   abrit</td>\n",
        "      <td>   abrit</td>\n",
        "    </tr>\n",
        "    <tr>\n",
        "      <th>23  </th>\n",
        "      <td>     abroger</td>\n",
        "      <td>       NaN</td>\n",
        "      <td>     NaN</td>\n",
        "      <td>     NaN</td>\n",
        "      <td>      NaN</td>\n",
        "      <td>      NaN</td>\n",
        "      <td>     NaN</td>\n",
        "      <td>       NaN</td>\n",
        "      <td>       NaN</td>\n",
        "      <td>       NaN</td>\n",
        "      <td>...</td>\n",
        "      <td>      NaN</td>\n",
        "      <td>      NaN</td>\n",
        "      <td>   abrOZ</td>\n",
        "      <td>    NaN</td>\n",
        "      <td>      NaN</td>\n",
        "      <td>     NaN</td>\n",
        "      <td>      NaN</td>\n",
        "      <td>     NaN</td>\n",
        "      <td>   abrOZ</td>\n",
        "      <td>     NaN</td>\n",
        "    </tr>\n",
        "    <tr>\n",
        "      <th>24  </th>\n",
        "      <td>     abrutir</td>\n",
        "      <td>       NaN</td>\n",
        "      <td>     NaN</td>\n",
        "      <td>     NaN</td>\n",
        "      <td>   abryti</td>\n",
        "      <td>      NaN</td>\n",
        "      <td>  abryti</td>\n",
        "      <td>       NaN</td>\n",
        "      <td>       NaN</td>\n",
        "      <td>       NaN</td>\n",
        "      <td>...</td>\n",
        "      <td>      NaN</td>\n",
        "      <td>   abryti</td>\n",
        "      <td> abrytis</td>\n",
        "      <td>    NaN</td>\n",
        "      <td>      NaN</td>\n",
        "      <td>     NaN</td>\n",
        "      <td>      NaN</td>\n",
        "      <td>     NaN</td>\n",
        "      <td> abrytis</td>\n",
        "      <td>     NaN</td>\n",
        "    </tr>\n",
        "    <tr>\n",
        "      <th>25  </th>\n",
        "      <td>     abr\u00e9ger</td>\n",
        "      <td>       NaN</td>\n",
        "      <td>     NaN</td>\n",
        "      <td> abrEZat</td>\n",
        "      <td>      NaN</td>\n",
        "      <td>      NaN</td>\n",
        "      <td>  abrEZa</td>\n",
        "      <td>       NaN</td>\n",
        "      <td>       NaN</td>\n",
        "      <td>       NaN</td>\n",
        "      <td>...</td>\n",
        "      <td>   abrEZe</td>\n",
        "      <td>      NaN</td>\n",
        "      <td>   abrEZ</td>\n",
        "      <td>  abrEZ</td>\n",
        "      <td>      NaN</td>\n",
        "      <td>   abrEZ</td>\n",
        "      <td>      NaN</td>\n",
        "      <td>     NaN</td>\n",
        "      <td>   abrEZ</td>\n",
        "      <td>   abrEZ</td>\n",
        "    </tr>\n",
        "    <tr>\n",
        "      <th>26  </th>\n",
        "      <td>    absenter</td>\n",
        "      <td>       NaN</td>\n",
        "      <td>     NaN</td>\n",
        "      <td>     NaN</td>\n",
        "      <td>      NaN</td>\n",
        "      <td>      NaN</td>\n",
        "      <td>     NaN</td>\n",
        "      <td>       NaN</td>\n",
        "      <td>       NaN</td>\n",
        "      <td>       NaN</td>\n",
        "      <td>...</td>\n",
        "      <td>      NaN</td>\n",
        "      <td>    abs\u00e2t</td>\n",
        "      <td>     NaN</td>\n",
        "      <td>  abs\u00e2t</td>\n",
        "      <td>      NaN</td>\n",
        "      <td>   abs\u00e2t</td>\n",
        "      <td>      NaN</td>\n",
        "      <td>   abs\u00e2t</td>\n",
        "      <td>     NaN</td>\n",
        "      <td>   abs\u00e2t</td>\n",
        "    </tr>\n",
        "    <tr>\n",
        "      <th>27  </th>\n",
        "      <td>    absorber</td>\n",
        "      <td>       NaN</td>\n",
        "      <td>     NaN</td>\n",
        "      <td>     NaN</td>\n",
        "      <td>      NaN</td>\n",
        "      <td>      NaN</td>\n",
        "      <td> absOrba</td>\n",
        "      <td>       NaN</td>\n",
        "      <td>       NaN</td>\n",
        "      <td>       NaN</td>\n",
        "      <td>...</td>\n",
        "      <td>  absOrbe</td>\n",
        "      <td>      NaN</td>\n",
        "      <td>  absOrb</td>\n",
        "      <td> absOrb</td>\n",
        "      <td>      NaN</td>\n",
        "      <td>  absOrb</td>\n",
        "      <td>      NaN</td>\n",
        "      <td>     NaN</td>\n",
        "      <td>  absOrb</td>\n",
        "      <td>  absOrb</td>\n",
        "    </tr>\n",
        "    <tr>\n",
        "      <th>28  </th>\n",
        "      <td>    absoudre</td>\n",
        "      <td>       NaN</td>\n",
        "      <td>     NaN</td>\n",
        "      <td>     NaN</td>\n",
        "      <td>      NaN</td>\n",
        "      <td>      NaN</td>\n",
        "      <td>     NaN</td>\n",
        "      <td>       NaN</td>\n",
        "      <td>   absudrE</td>\n",
        "      <td>       NaN</td>\n",
        "      <td>...</td>\n",
        "      <td>      NaN</td>\n",
        "      <td>     absu</td>\n",
        "      <td>     NaN</td>\n",
        "      <td>   absu</td>\n",
        "      <td>      NaN</td>\n",
        "      <td>  absOlv</td>\n",
        "      <td>      NaN</td>\n",
        "      <td>     NaN</td>\n",
        "      <td>     NaN</td>\n",
        "      <td>  absOlv</td>\n",
        "    </tr>\n",
        "    <tr>\n",
        "      <th>29  </th>\n",
        "      <td>    abstenir</td>\n",
        "      <td>       NaN</td>\n",
        "      <td>     NaN</td>\n",
        "      <td>     NaN</td>\n",
        "      <td>      NaN</td>\n",
        "      <td>      NaN</td>\n",
        "      <td>   abst\u00ea</td>\n",
        "      <td> abstj\u00eadr\u00f4</td>\n",
        "      <td>       NaN</td>\n",
        "      <td>       NaN</td>\n",
        "      <td>...</td>\n",
        "      <td>  abst6ne</td>\n",
        "      <td>   abstj\u00ea</td>\n",
        "      <td> abstjEn</td>\n",
        "      <td> abstj\u00ea</td>\n",
        "      <td> abst6nj\u00f4</td>\n",
        "      <td>     NaN</td>\n",
        "      <td>      NaN</td>\n",
        "      <td> abstjEn</td>\n",
        "      <td>     NaN</td>\n",
        "      <td>     NaN</td>\n",
        "    </tr>\n",
        "    <tr>\n",
        "      <th>...</th>\n",
        "      <td>...</td>\n",
        "      <td>...</td>\n",
        "      <td>...</td>\n",
        "      <td>...</td>\n",
        "      <td>...</td>\n",
        "      <td>...</td>\n",
        "      <td>...</td>\n",
        "      <td>...</td>\n",
        "      <td>...</td>\n",
        "      <td>...</td>\n",
        "      <td>...</td>\n",
        "      <td>...</td>\n",
        "      <td>...</td>\n",
        "      <td>...</td>\n",
        "      <td>...</td>\n",
        "      <td>...</td>\n",
        "      <td>...</td>\n",
        "      <td>...</td>\n",
        "      <td>...</td>\n",
        "      <td>...</td>\n",
        "      <td>...</td>\n",
        "    </tr>\n",
        "    <tr>\n",
        "      <th>5396</th>\n",
        "      <td>    \u00e9tourdir</td>\n",
        "      <td>       NaN</td>\n",
        "      <td>  Eturdi</td>\n",
        "      <td>     NaN</td>\n",
        "      <td>      NaN</td>\n",
        "      <td>      NaN</td>\n",
        "      <td>     NaN</td>\n",
        "      <td>       NaN</td>\n",
        "      <td>       NaN</td>\n",
        "      <td>       NaN</td>\n",
        "      <td>...</td>\n",
        "      <td> Eturdise</td>\n",
        "      <td>      NaN</td>\n",
        "      <td> Eturdis</td>\n",
        "      <td> Eturdi</td>\n",
        "      <td>      NaN</td>\n",
        "      <td>     NaN</td>\n",
        "      <td>      NaN</td>\n",
        "      <td>     NaN</td>\n",
        "      <td> Eturdis</td>\n",
        "      <td>     NaN</td>\n",
        "    </tr>\n",
        "    <tr>\n",
        "      <th>5397</th>\n",
        "      <td>   \u00e9trangler</td>\n",
        "      <td>       NaN</td>\n",
        "      <td>     NaN</td>\n",
        "      <td>     NaN</td>\n",
        "      <td>      NaN</td>\n",
        "      <td>      NaN</td>\n",
        "      <td>     NaN</td>\n",
        "      <td>       NaN</td>\n",
        "      <td> Etr\u00e2gl6rE</td>\n",
        "      <td>       NaN</td>\n",
        "      <td>...</td>\n",
        "      <td>  Etr\u00e2gle</td>\n",
        "      <td>   Etr\u00e2gl</td>\n",
        "      <td>  Etr\u00e2gl</td>\n",
        "      <td> Etr\u00e2gl</td>\n",
        "      <td>      NaN</td>\n",
        "      <td>  Etr\u00e2gl</td>\n",
        "      <td>      NaN</td>\n",
        "      <td>  Etr\u00e2gl</td>\n",
        "      <td>  Etr\u00e2gl</td>\n",
        "      <td>  Etr\u00e2gl</td>\n",
        "    </tr>\n",
        "    <tr>\n",
        "      <th>5398</th>\n",
        "      <td>   \u00e9treindre</td>\n",
        "      <td>       NaN</td>\n",
        "      <td>     NaN</td>\n",
        "      <td>     NaN</td>\n",
        "      <td>      NaN</td>\n",
        "      <td>      NaN</td>\n",
        "      <td>  EtrEJi</td>\n",
        "      <td>       NaN</td>\n",
        "      <td>       NaN</td>\n",
        "      <td>   Etr\u00eadre</td>\n",
        "      <td>...</td>\n",
        "      <td>      NaN</td>\n",
        "      <td>     Etr\u00ea</td>\n",
        "      <td>     NaN</td>\n",
        "      <td>   Etr\u00ea</td>\n",
        "      <td>      NaN</td>\n",
        "      <td>   EtrEJ</td>\n",
        "      <td>      NaN</td>\n",
        "      <td>     NaN</td>\n",
        "      <td>     NaN</td>\n",
        "      <td>   EtrEJ</td>\n",
        "    </tr>\n",
        "    <tr>\n",
        "      <th>5399</th>\n",
        "      <td>    \u00e9trenner</td>\n",
        "      <td>       NaN</td>\n",
        "      <td>     NaN</td>\n",
        "      <td>     NaN</td>\n",
        "      <td>      NaN</td>\n",
        "      <td>      NaN</td>\n",
        "      <td>     NaN</td>\n",
        "      <td>       NaN</td>\n",
        "      <td>       NaN</td>\n",
        "      <td>       NaN</td>\n",
        "      <td>...</td>\n",
        "      <td>      NaN</td>\n",
        "      <td>      NaN</td>\n",
        "      <td>   EtrEn</td>\n",
        "      <td>  EtrEn</td>\n",
        "      <td>      NaN</td>\n",
        "      <td>   EtrEn</td>\n",
        "      <td>      NaN</td>\n",
        "      <td>   EtrEn</td>\n",
        "      <td>     NaN</td>\n",
        "      <td>   EtrEn</td>\n",
        "    </tr>\n",
        "    <tr>\n",
        "      <th>5400</th>\n",
        "      <td>    \u00e9triller</td>\n",
        "      <td>       NaN</td>\n",
        "      <td>     NaN</td>\n",
        "      <td>     NaN</td>\n",
        "      <td>      NaN</td>\n",
        "      <td>      NaN</td>\n",
        "      <td>     NaN</td>\n",
        "      <td>       NaN</td>\n",
        "      <td>       NaN</td>\n",
        "      <td>       NaN</td>\n",
        "      <td>...</td>\n",
        "      <td>      NaN</td>\n",
        "      <td>      NaN</td>\n",
        "      <td>     NaN</td>\n",
        "      <td>    NaN</td>\n",
        "      <td>      NaN</td>\n",
        "      <td>   Etrij</td>\n",
        "      <td>      NaN</td>\n",
        "      <td>     NaN</td>\n",
        "      <td>     NaN</td>\n",
        "      <td>     NaN</td>\n",
        "    </tr>\n",
        "    <tr>\n",
        "      <th>5401</th>\n",
        "      <td>     \u00e9triper</td>\n",
        "      <td>       NaN</td>\n",
        "      <td>     NaN</td>\n",
        "      <td>     NaN</td>\n",
        "      <td>      NaN</td>\n",
        "      <td>      NaN</td>\n",
        "      <td>     NaN</td>\n",
        "      <td>       NaN</td>\n",
        "      <td>       NaN</td>\n",
        "      <td>       NaN</td>\n",
        "      <td>...</td>\n",
        "      <td>      NaN</td>\n",
        "      <td>      NaN</td>\n",
        "      <td>     NaN</td>\n",
        "      <td>  Etrip</td>\n",
        "      <td>      NaN</td>\n",
        "      <td>   Etrip</td>\n",
        "      <td>      NaN</td>\n",
        "      <td>     NaN</td>\n",
        "      <td>     NaN</td>\n",
        "      <td>   Etrip</td>\n",
        "    </tr>\n",
        "    <tr>\n",
        "      <th>5402</th>\n",
        "      <td>     \u00e9tr\u00e9cir</td>\n",
        "      <td>       NaN</td>\n",
        "      <td>     NaN</td>\n",
        "      <td>     NaN</td>\n",
        "      <td>      NaN</td>\n",
        "      <td>      NaN</td>\n",
        "      <td>     NaN</td>\n",
        "      <td>       NaN</td>\n",
        "      <td>       NaN</td>\n",
        "      <td>       NaN</td>\n",
        "      <td>...</td>\n",
        "      <td>      NaN</td>\n",
        "      <td>      NaN</td>\n",
        "      <td>     NaN</td>\n",
        "      <td>    NaN</td>\n",
        "      <td>      NaN</td>\n",
        "      <td> EtrEsis</td>\n",
        "      <td>      NaN</td>\n",
        "      <td>     NaN</td>\n",
        "      <td>     NaN</td>\n",
        "      <td>     NaN</td>\n",
        "    </tr>\n",
        "    <tr>\n",
        "      <th>5403</th>\n",
        "      <td>     \u00e9tudier</td>\n",
        "      <td>       NaN</td>\n",
        "      <td>     NaN</td>\n",
        "      <td>     NaN</td>\n",
        "      <td>      NaN</td>\n",
        "      <td>      NaN</td>\n",
        "      <td>  Etydja</td>\n",
        "      <td>   Etydir\u00f4</td>\n",
        "      <td>   EtydirE</td>\n",
        "      <td>       NaN</td>\n",
        "      <td>...</td>\n",
        "      <td>   Etydje</td>\n",
        "      <td>    Etydi</td>\n",
        "      <td>   Etydi</td>\n",
        "      <td>  Etydi</td>\n",
        "      <td>      NaN</td>\n",
        "      <td>   Etydi</td>\n",
        "      <td>      NaN</td>\n",
        "      <td>   Etydi</td>\n",
        "      <td>   Etydi</td>\n",
        "      <td>   Etydi</td>\n",
        "    </tr>\n",
        "    <tr>\n",
        "      <th>5404</th>\n",
        "      <td>      \u00e9tuver</td>\n",
        "      <td>       NaN</td>\n",
        "      <td>     NaN</td>\n",
        "      <td>     NaN</td>\n",
        "      <td>      NaN</td>\n",
        "      <td>      NaN</td>\n",
        "      <td>     NaN</td>\n",
        "      <td>       NaN</td>\n",
        "      <td>       NaN</td>\n",
        "      <td>       NaN</td>\n",
        "      <td>...</td>\n",
        "      <td>      NaN</td>\n",
        "      <td>      NaN</td>\n",
        "      <td>     NaN</td>\n",
        "      <td>    NaN</td>\n",
        "      <td>      NaN</td>\n",
        "      <td>     NaN</td>\n",
        "      <td>      NaN</td>\n",
        "      <td>     NaN</td>\n",
        "      <td>     NaN</td>\n",
        "      <td>     NaN</td>\n",
        "    </tr>\n",
        "    <tr>\n",
        "      <th>5405</th>\n",
        "      <td>      \u00e9t\u00eater</td>\n",
        "      <td>       NaN</td>\n",
        "      <td>     NaN</td>\n",
        "      <td>     NaN</td>\n",
        "      <td>      NaN</td>\n",
        "      <td>      NaN</td>\n",
        "      <td>     NaN</td>\n",
        "      <td>       NaN</td>\n",
        "      <td>       NaN</td>\n",
        "      <td>       NaN</td>\n",
        "      <td>...</td>\n",
        "      <td>      NaN</td>\n",
        "      <td>      NaN</td>\n",
        "      <td>     NaN</td>\n",
        "      <td>    NaN</td>\n",
        "      <td>      NaN</td>\n",
        "      <td>     NaN</td>\n",
        "      <td>      NaN</td>\n",
        "      <td>     NaN</td>\n",
        "      <td>     NaN</td>\n",
        "      <td>     NaN</td>\n",
        "    </tr>\n",
        "    <tr>\n",
        "      <th>5406</th>\n",
        "      <td>     \u00e9vacuer</td>\n",
        "      <td>       NaN</td>\n",
        "      <td>     NaN</td>\n",
        "      <td>     NaN</td>\n",
        "      <td>      NaN</td>\n",
        "      <td>      NaN</td>\n",
        "      <td>     NaN</td>\n",
        "      <td>       NaN</td>\n",
        "      <td>       NaN</td>\n",
        "      <td>   Evakyre</td>\n",
        "      <td>...</td>\n",
        "      <td>   Evakye</td>\n",
        "      <td>      NaN</td>\n",
        "      <td>   Evaky</td>\n",
        "      <td>  Evaky</td>\n",
        "      <td>      NaN</td>\n",
        "      <td>   Evaky</td>\n",
        "      <td>      NaN</td>\n",
        "      <td>     NaN</td>\n",
        "      <td>   Evaky</td>\n",
        "      <td>   Evaky</td>\n",
        "    </tr>\n",
        "    <tr>\n",
        "      <th>5407</th>\n",
        "      <td>      \u00e9vader</td>\n",
        "      <td>       NaN</td>\n",
        "      <td>   EvadE</td>\n",
        "      <td>     NaN</td>\n",
        "      <td>      NaN</td>\n",
        "      <td>   EvadEr</td>\n",
        "      <td>   Evada</td>\n",
        "      <td>       NaN</td>\n",
        "      <td>       NaN</td>\n",
        "      <td>       NaN</td>\n",
        "      <td>...</td>\n",
        "      <td>      NaN</td>\n",
        "      <td>     Evad</td>\n",
        "      <td>    Evad</td>\n",
        "      <td>   Evad</td>\n",
        "      <td>   Evadj\u00f4</td>\n",
        "      <td>    Evad</td>\n",
        "      <td>      NaN</td>\n",
        "      <td>    Evad</td>\n",
        "      <td>    Evad</td>\n",
        "      <td>    Evad</td>\n",
        "    </tr>\n",
        "    <tr>\n",
        "      <th>5408</th>\n",
        "      <td>     \u00e9valuer</td>\n",
        "      <td>       NaN</td>\n",
        "      <td>     NaN</td>\n",
        "      <td>     NaN</td>\n",
        "      <td>      NaN</td>\n",
        "      <td>      NaN</td>\n",
        "      <td>     NaN</td>\n",
        "      <td>       NaN</td>\n",
        "      <td>       NaN</td>\n",
        "      <td>       NaN</td>\n",
        "      <td>...</td>\n",
        "      <td>   Evalye</td>\n",
        "      <td>    Evaly</td>\n",
        "      <td>   Evaly</td>\n",
        "      <td>  Evaly</td>\n",
        "      <td>      NaN</td>\n",
        "      <td>   Evaly</td>\n",
        "      <td>      NaN</td>\n",
        "      <td>   Evaly</td>\n",
        "      <td>   Evaly</td>\n",
        "      <td>   Evaly</td>\n",
        "    </tr>\n",
        "    <tr>\n",
        "      <th>5409</th>\n",
        "      <td> \u00e9vang\u00e9liser</td>\n",
        "      <td>       NaN</td>\n",
        "      <td>     NaN</td>\n",
        "      <td>     NaN</td>\n",
        "      <td>      NaN</td>\n",
        "      <td>      NaN</td>\n",
        "      <td>     NaN</td>\n",
        "      <td>       NaN</td>\n",
        "      <td>       NaN</td>\n",
        "      <td>       NaN</td>\n",
        "      <td>...</td>\n",
        "      <td>      NaN</td>\n",
        "      <td>      NaN</td>\n",
        "      <td>     NaN</td>\n",
        "      <td>    NaN</td>\n",
        "      <td>      NaN</td>\n",
        "      <td>     NaN</td>\n",
        "      <td>      NaN</td>\n",
        "      <td>     NaN</td>\n",
        "      <td>     NaN</td>\n",
        "      <td>     NaN</td>\n",
        "    </tr>\n",
        "    <tr>\n",
        "      <th>5410</th>\n",
        "      <td>    \u00e9vanouir</td>\n",
        "      <td>       NaN</td>\n",
        "      <td>  Evanui</td>\n",
        "      <td>     NaN</td>\n",
        "      <td>   Evanui</td>\n",
        "      <td>      NaN</td>\n",
        "      <td>  Evanui</td>\n",
        "      <td>       NaN</td>\n",
        "      <td>       NaN</td>\n",
        "      <td>  Evanuire</td>\n",
        "      <td>...</td>\n",
        "      <td> Evanuise</td>\n",
        "      <td>   Evanui</td>\n",
        "      <td> Evanuis</td>\n",
        "      <td> Evanui</td>\n",
        "      <td>      NaN</td>\n",
        "      <td> Evanuis</td>\n",
        "      <td>      NaN</td>\n",
        "      <td>     NaN</td>\n",
        "      <td> Evanuis</td>\n",
        "      <td> Evanuis</td>\n",
        "    </tr>\n",
        "    <tr>\n",
        "      <th>5411</th>\n",
        "      <td>    \u00e9vaporer</td>\n",
        "      <td>       NaN</td>\n",
        "      <td>     NaN</td>\n",
        "      <td>     NaN</td>\n",
        "      <td>      NaN</td>\n",
        "      <td>      NaN</td>\n",
        "      <td>     NaN</td>\n",
        "      <td>       NaN</td>\n",
        "      <td>       NaN</td>\n",
        "      <td>       NaN</td>\n",
        "      <td>...</td>\n",
        "      <td>      NaN</td>\n",
        "      <td>      NaN</td>\n",
        "      <td>  EvapOr</td>\n",
        "      <td> EvapOr</td>\n",
        "      <td>      NaN</td>\n",
        "      <td>  EvapOr</td>\n",
        "      <td>      NaN</td>\n",
        "      <td>     NaN</td>\n",
        "      <td>  EvapOr</td>\n",
        "      <td>  EvapOr</td>\n",
        "    </tr>\n",
        "    <tr>\n",
        "      <th>5412</th>\n",
        "      <td>      \u00e9vaser</td>\n",
        "      <td>       NaN</td>\n",
        "      <td>     NaN</td>\n",
        "      <td>     NaN</td>\n",
        "      <td>      NaN</td>\n",
        "      <td>      NaN</td>\n",
        "      <td>     NaN</td>\n",
        "      <td>       NaN</td>\n",
        "      <td>       NaN</td>\n",
        "      <td>   Evaz6re</td>\n",
        "      <td>...</td>\n",
        "      <td>      NaN</td>\n",
        "      <td>      NaN</td>\n",
        "      <td>     NaN</td>\n",
        "      <td>    NaN</td>\n",
        "      <td>      NaN</td>\n",
        "      <td>     NaN</td>\n",
        "      <td>      NaN</td>\n",
        "      <td>     NaN</td>\n",
        "      <td>     NaN</td>\n",
        "      <td>     NaN</td>\n",
        "    </tr>\n",
        "    <tr>\n",
        "      <th>5413</th>\n",
        "      <td>    \u00e9veiller</td>\n",
        "      <td>       NaN</td>\n",
        "      <td>     NaN</td>\n",
        "      <td>     NaN</td>\n",
        "      <td>      NaN</td>\n",
        "      <td>   EvEjEr</td>\n",
        "      <td>   EvEja</td>\n",
        "      <td>       NaN</td>\n",
        "      <td>   EvEj6rE</td>\n",
        "      <td>   EvEj6re</td>\n",
        "      <td>...</td>\n",
        "      <td>    EvEje</td>\n",
        "      <td>     EvEj</td>\n",
        "      <td>    EvEj</td>\n",
        "      <td>   EvEj</td>\n",
        "      <td>      NaN</td>\n",
        "      <td>    EvEj</td>\n",
        "      <td>      NaN</td>\n",
        "      <td>     NaN</td>\n",
        "      <td>    EvEj</td>\n",
        "      <td>    EvEj</td>\n",
        "    </tr>\n",
        "    <tr>\n",
        "      <th>5414</th>\n",
        "      <td>     \u00e9venter</td>\n",
        "      <td>       NaN</td>\n",
        "      <td>     NaN</td>\n",
        "      <td>     NaN</td>\n",
        "      <td>      NaN</td>\n",
        "      <td>      NaN</td>\n",
        "      <td>     NaN</td>\n",
        "      <td>       NaN</td>\n",
        "      <td>       NaN</td>\n",
        "      <td>       NaN</td>\n",
        "      <td>...</td>\n",
        "      <td>      NaN</td>\n",
        "      <td>      NaN</td>\n",
        "      <td>     NaN</td>\n",
        "      <td>    NaN</td>\n",
        "      <td>      NaN</td>\n",
        "      <td>     NaN</td>\n",
        "      <td>      NaN</td>\n",
        "      <td>     NaN</td>\n",
        "      <td>     NaN</td>\n",
        "      <td>     NaN</td>\n",
        "    </tr>\n",
        "    <tr>\n",
        "      <th>5415</th>\n",
        "      <td>  \u00e9ventiller</td>\n",
        "      <td>       NaN</td>\n",
        "      <td>     NaN</td>\n",
        "      <td>     NaN</td>\n",
        "      <td>      NaN</td>\n",
        "      <td>      NaN</td>\n",
        "      <td>     NaN</td>\n",
        "      <td>       NaN</td>\n",
        "      <td>       NaN</td>\n",
        "      <td>       NaN</td>\n",
        "      <td>...</td>\n",
        "      <td>      NaN</td>\n",
        "      <td>      NaN</td>\n",
        "      <td>     NaN</td>\n",
        "      <td>    NaN</td>\n",
        "      <td>      NaN</td>\n",
        "      <td>     NaN</td>\n",
        "      <td>      NaN</td>\n",
        "      <td>     NaN</td>\n",
        "      <td>     NaN</td>\n",
        "      <td>     NaN</td>\n",
        "    </tr>\n",
        "    <tr>\n",
        "      <th>5416</th>\n",
        "      <td>    \u00e9ventrer</td>\n",
        "      <td>       NaN</td>\n",
        "      <td>     NaN</td>\n",
        "      <td>     NaN</td>\n",
        "      <td>      NaN</td>\n",
        "      <td>      NaN</td>\n",
        "      <td>     NaN</td>\n",
        "      <td>       NaN</td>\n",
        "      <td>       NaN</td>\n",
        "      <td>       NaN</td>\n",
        "      <td>...</td>\n",
        "      <td>   Ev\u00e2tre</td>\n",
        "      <td>      NaN</td>\n",
        "      <td>     NaN</td>\n",
        "      <td>  Ev\u00e2tr</td>\n",
        "      <td>      NaN</td>\n",
        "      <td>   Ev\u00e2tr</td>\n",
        "      <td>      NaN</td>\n",
        "      <td>     NaN</td>\n",
        "      <td>     NaN</td>\n",
        "      <td>   Ev\u00e2tr</td>\n",
        "    </tr>\n",
        "    <tr>\n",
        "      <th>5417</th>\n",
        "      <td>    \u00e9vertuer</td>\n",
        "      <td>       NaN</td>\n",
        "      <td>     NaN</td>\n",
        "      <td>     NaN</td>\n",
        "      <td>      NaN</td>\n",
        "      <td>      NaN</td>\n",
        "      <td>     NaN</td>\n",
        "      <td>       NaN</td>\n",
        "      <td>       NaN</td>\n",
        "      <td>       NaN</td>\n",
        "      <td>...</td>\n",
        "      <td>      NaN</td>\n",
        "      <td>      NaN</td>\n",
        "      <td>  EvErty</td>\n",
        "      <td> EvErty</td>\n",
        "      <td>      NaN</td>\n",
        "      <td>  EvErty</td>\n",
        "      <td>      NaN</td>\n",
        "      <td>     NaN</td>\n",
        "      <td>  EvErty</td>\n",
        "      <td>  EvErty</td>\n",
        "    </tr>\n",
        "    <tr>\n",
        "      <th>5418</th>\n",
        "      <td>      \u00e9vider</td>\n",
        "      <td>       NaN</td>\n",
        "      <td>     NaN</td>\n",
        "      <td>     NaN</td>\n",
        "      <td>      NaN</td>\n",
        "      <td>      NaN</td>\n",
        "      <td>     NaN</td>\n",
        "      <td>       NaN</td>\n",
        "      <td>       NaN</td>\n",
        "      <td>       NaN</td>\n",
        "      <td>...</td>\n",
        "      <td>      NaN</td>\n",
        "      <td>      NaN</td>\n",
        "      <td>    Evid</td>\n",
        "      <td>    NaN</td>\n",
        "      <td>      NaN</td>\n",
        "      <td>     NaN</td>\n",
        "      <td>   Evidje</td>\n",
        "      <td>     NaN</td>\n",
        "      <td>    Evid</td>\n",
        "      <td>     NaN</td>\n",
        "    </tr>\n",
        "    <tr>\n",
        "      <th>5419</th>\n",
        "      <td>     \u00e9vincer</td>\n",
        "      <td>       NaN</td>\n",
        "      <td>     NaN</td>\n",
        "      <td>     NaN</td>\n",
        "      <td>      NaN</td>\n",
        "      <td>      NaN</td>\n",
        "      <td>     NaN</td>\n",
        "      <td>       NaN</td>\n",
        "      <td>       NaN</td>\n",
        "      <td>       NaN</td>\n",
        "      <td>...</td>\n",
        "      <td>      NaN</td>\n",
        "      <td>     Ev\u00eas</td>\n",
        "      <td>     NaN</td>\n",
        "      <td>   Ev\u00eas</td>\n",
        "      <td>      NaN</td>\n",
        "      <td>     NaN</td>\n",
        "      <td>      NaN</td>\n",
        "      <td>     NaN</td>\n",
        "      <td>     NaN</td>\n",
        "      <td>     NaN</td>\n",
        "    </tr>\n",
        "    <tr>\n",
        "      <th>5420</th>\n",
        "      <td>   \u00e9visc\u00e9rer</td>\n",
        "      <td>       NaN</td>\n",
        "      <td>     NaN</td>\n",
        "      <td>     NaN</td>\n",
        "      <td>      NaN</td>\n",
        "      <td>      NaN</td>\n",
        "      <td>     NaN</td>\n",
        "      <td>       NaN</td>\n",
        "      <td>       NaN</td>\n",
        "      <td>       NaN</td>\n",
        "      <td>...</td>\n",
        "      <td>      NaN</td>\n",
        "      <td>      NaN</td>\n",
        "      <td>     NaN</td>\n",
        "      <td> EvisEr</td>\n",
        "      <td>      NaN</td>\n",
        "      <td>  EvisEr</td>\n",
        "      <td>      NaN</td>\n",
        "      <td>     NaN</td>\n",
        "      <td>     NaN</td>\n",
        "      <td>  EvisEr</td>\n",
        "    </tr>\n",
        "    <tr>\n",
        "      <th>5421</th>\n",
        "      <td>      \u00e9viter</td>\n",
        "      <td>       NaN</td>\n",
        "      <td>     NaN</td>\n",
        "      <td>     NaN</td>\n",
        "      <td>      NaN</td>\n",
        "      <td>      NaN</td>\n",
        "      <td>     NaN</td>\n",
        "      <td>   Evit6r\u00f4</td>\n",
        "      <td>   Evit6rE</td>\n",
        "      <td>   Evit6re</td>\n",
        "      <td>...</td>\n",
        "      <td>    Evite</td>\n",
        "      <td>     Evit</td>\n",
        "      <td>    Evit</td>\n",
        "      <td>   Evit</td>\n",
        "      <td>   Evitj\u00f4</td>\n",
        "      <td>    Evit</td>\n",
        "      <td>      NaN</td>\n",
        "      <td>    Evit</td>\n",
        "      <td>    Evit</td>\n",
        "      <td>    Evit</td>\n",
        "    </tr>\n",
        "    <tr>\n",
        "      <th>5422</th>\n",
        "      <td>     \u00e9voluer</td>\n",
        "      <td>       NaN</td>\n",
        "      <td>     NaN</td>\n",
        "      <td>     NaN</td>\n",
        "      <td>      NaN</td>\n",
        "      <td>  EvOlyEr</td>\n",
        "      <td>     NaN</td>\n",
        "      <td>       NaN</td>\n",
        "      <td>       NaN</td>\n",
        "      <td>       NaN</td>\n",
        "      <td>...</td>\n",
        "      <td>   EvOlye</td>\n",
        "      <td>      NaN</td>\n",
        "      <td>   EvOly</td>\n",
        "      <td>  EvOly</td>\n",
        "      <td>      NaN</td>\n",
        "      <td>   EvOly</td>\n",
        "      <td>      NaN</td>\n",
        "      <td>     NaN</td>\n",
        "      <td>   EvOly</td>\n",
        "      <td>   EvOly</td>\n",
        "    </tr>\n",
        "    <tr>\n",
        "      <th>5423</th>\n",
        "      <td>     \u00e9voquer</td>\n",
        "      <td>       NaN</td>\n",
        "      <td>     NaN</td>\n",
        "      <td>     NaN</td>\n",
        "      <td>      NaN</td>\n",
        "      <td>      NaN</td>\n",
        "      <td>   EvOka</td>\n",
        "      <td>       NaN</td>\n",
        "      <td>   EvOk6rE</td>\n",
        "      <td>       NaN</td>\n",
        "      <td>...</td>\n",
        "      <td>    EvOke</td>\n",
        "      <td>      NaN</td>\n",
        "      <td>    EvOk</td>\n",
        "      <td>   EvOk</td>\n",
        "      <td>   EvOkj\u00f4</td>\n",
        "      <td>    EvOk</td>\n",
        "      <td>   EvOkje</td>\n",
        "      <td>     NaN</td>\n",
        "      <td>    EvOk</td>\n",
        "      <td>    EvOk</td>\n",
        "    </tr>\n",
        "    <tr>\n",
        "      <th>5424</th>\n",
        "      <td>        \u00eatre</td>\n",
        "      <td>       fym</td>\n",
        "      <td>      fy</td>\n",
        "      <td>     fyt</td>\n",
        "      <td>       fy</td>\n",
        "      <td>      fyr</td>\n",
        "      <td>      fy</td>\n",
        "      <td>      s6r\u00f4</td>\n",
        "      <td>      s6rE</td>\n",
        "      <td>      s6re</td>\n",
        "      <td>...</td>\n",
        "      <td>       Et</td>\n",
        "      <td>        E</td>\n",
        "      <td>      s\u00f4</td>\n",
        "      <td>      E</td>\n",
        "      <td>    swaj\u00f4</td>\n",
        "      <td>     swa</td>\n",
        "      <td>    swaje</td>\n",
        "      <td>     swa</td>\n",
        "      <td>     swa</td>\n",
        "      <td>     swa</td>\n",
        "    </tr>\n",
        "    <tr>\n",
        "      <th>5425</th>\n",
        "      <td>        \u00f4ter</td>\n",
        "      <td>       NaN</td>\n",
        "      <td>     NaN</td>\n",
        "      <td>     NaN</td>\n",
        "      <td>      NaN</td>\n",
        "      <td>      NaN</td>\n",
        "      <td>     Ota</td>\n",
        "      <td>       NaN</td>\n",
        "      <td>     Ot6rE</td>\n",
        "      <td>     Ot6re</td>\n",
        "      <td>...</td>\n",
        "      <td>      Ote</td>\n",
        "      <td>       ot</td>\n",
        "      <td>      ot</td>\n",
        "      <td>     ot</td>\n",
        "      <td>      NaN</td>\n",
        "      <td>      ot</td>\n",
        "      <td>     Otje</td>\n",
        "      <td>      ot</td>\n",
        "      <td>      ot</td>\n",
        "      <td>      ot</td>\n",
        "    </tr>\n",
        "  </tbody>\n",
        "</table>\n",
        "<p>5426 rows \u00d7 48 columns</p>\n",
        "</div>"
       ],
       "metadata": {},
       "output_type": "pyout",
       "prompt_number": 81,
       "text": [
        "case       lexeme       ai1P     ai1S     ai2P      ai2S      ai3P     ai3S  \\\n",
        "0        abaisser        NaN    abEsE      NaN       NaN       NaN      NaN   \n",
        "1      abandonner        NaN  ab\u00e2dOnE      NaN       NaN  ab\u00e2dOnEr  ab\u00e2dOna   \n",
        "2      abasourdir        NaN      NaN      NaN  abazurdi       NaN      NaN   \n",
        "3         abattre        NaN      NaN      NaN       NaN    abatir    abati   \n",
        "4         abc\u00e9der        NaN      NaN      NaN       NaN       NaN      NaN   \n",
        "5        abdiquer        NaN      NaN      NaN       NaN       NaN      NaN   \n",
        "6         aberrer        NaN      NaN      NaN       NaN       NaN      NaN   \n",
        "7        abhorrer        NaN      NaN   abOrat       NaN       NaN      NaN   \n",
        "8         abjurer        NaN      NaN      NaN       NaN       NaN      NaN   \n",
        "9         ablater        NaN      NaN      NaN       NaN       NaN      NaN   \n",
        "10         abolir        NaN    abOli      NaN     abOli       NaN    abOli   \n",
        "11        abonder        NaN      NaN      NaN       NaN       NaN      NaN   \n",
        "12        abonner        NaN      NaN      NaN       NaN       NaN    abOna   \n",
        "13        abonnir        NaN      NaN      NaN       NaN       NaN      NaN   \n",
        "14        aborder        NaN      NaN      NaN       NaN       NaN   abOrda   \n",
        "15       aboucher        NaN      NaN      NaN       NaN       NaN      NaN   \n",
        "16        abouler        NaN      NaN      NaN       NaN       NaN      NaN   \n",
        "17        aboutir        NaN    abuti      NaN     abuti       NaN    abuti   \n",
        "18         aboyer        NaN      NaN      NaN       NaN       NaN      NaN   \n",
        "19        abraser        NaN      NaN      NaN    abraza       NaN      NaN   \n",
        "20       abreuver        NaN      NaN      NaN       NaN       NaN      NaN   \n",
        "21      abricoter  abrikOtam      NaN      NaN       NaN       NaN      NaN   \n",
        "22        abriter        NaN      NaN  abritat       NaN       NaN      NaN   \n",
        "23        abroger        NaN      NaN      NaN       NaN       NaN      NaN   \n",
        "24        abrutir        NaN      NaN      NaN    abryti       NaN   abryti   \n",
        "25        abr\u00e9ger        NaN      NaN  abrEZat       NaN       NaN   abrEZa   \n",
        "26       absenter        NaN      NaN      NaN       NaN       NaN      NaN   \n",
        "27       absorber        NaN      NaN      NaN       NaN       NaN  absOrba   \n",
        "28       absoudre        NaN      NaN      NaN       NaN       NaN      NaN   \n",
        "29       abstenir        NaN      NaN      NaN       NaN       NaN    abst\u00ea   \n",
        "...           ...        ...      ...      ...       ...       ...      ...   \n",
        "5396     \u00e9tourdir        NaN   Eturdi      NaN       NaN       NaN      NaN   \n",
        "5397    \u00e9trangler        NaN      NaN      NaN       NaN       NaN      NaN   \n",
        "5398    \u00e9treindre        NaN      NaN      NaN       NaN       NaN   EtrEJi   \n",
        "5399     \u00e9trenner        NaN      NaN      NaN       NaN       NaN      NaN   \n",
        "5400     \u00e9triller        NaN      NaN      NaN       NaN       NaN      NaN   \n",
        "5401      \u00e9triper        NaN      NaN      NaN       NaN       NaN      NaN   \n",
        "5402      \u00e9tr\u00e9cir        NaN      NaN      NaN       NaN       NaN      NaN   \n",
        "5403      \u00e9tudier        NaN      NaN      NaN       NaN       NaN   Etydja   \n",
        "5404       \u00e9tuver        NaN      NaN      NaN       NaN       NaN      NaN   \n",
        "5405       \u00e9t\u00eater        NaN      NaN      NaN       NaN       NaN      NaN   \n",
        "5406      \u00e9vacuer        NaN      NaN      NaN       NaN       NaN      NaN   \n",
        "5407       \u00e9vader        NaN    EvadE      NaN       NaN    EvadEr    Evada   \n",
        "5408      \u00e9valuer        NaN      NaN      NaN       NaN       NaN      NaN   \n",
        "5409  \u00e9vang\u00e9liser        NaN      NaN      NaN       NaN       NaN      NaN   \n",
        "5410     \u00e9vanouir        NaN   Evanui      NaN    Evanui       NaN   Evanui   \n",
        "5411     \u00e9vaporer        NaN      NaN      NaN       NaN       NaN      NaN   \n",
        "5412       \u00e9vaser        NaN      NaN      NaN       NaN       NaN      NaN   \n",
        "5413     \u00e9veiller        NaN      NaN      NaN       NaN    EvEjEr    EvEja   \n",
        "5414      \u00e9venter        NaN      NaN      NaN       NaN       NaN      NaN   \n",
        "5415   \u00e9ventiller        NaN      NaN      NaN       NaN       NaN      NaN   \n",
        "5416     \u00e9ventrer        NaN      NaN      NaN       NaN       NaN      NaN   \n",
        "5417     \u00e9vertuer        NaN      NaN      NaN       NaN       NaN      NaN   \n",
        "5418       \u00e9vider        NaN      NaN      NaN       NaN       NaN      NaN   \n",
        "5419      \u00e9vincer        NaN      NaN      NaN       NaN       NaN      NaN   \n",
        "5420    \u00e9visc\u00e9rer        NaN      NaN      NaN       NaN       NaN      NaN   \n",
        "5421       \u00e9viter        NaN      NaN      NaN       NaN       NaN      NaN   \n",
        "5422      \u00e9voluer        NaN      NaN      NaN       NaN   EvOlyEr      NaN   \n",
        "5423      \u00e9voquer        NaN      NaN      NaN       NaN       NaN    EvOka   \n",
        "5424         \u00eatre        fym       fy      fyt        fy       fyr       fy   \n",
        "5425         \u00f4ter        NaN      NaN      NaN       NaN       NaN      Ota   \n",
        "\n",
        "case       fi1P       fi1S       fi2P   ...         pi2P      pi2S     pi3P  \\\n",
        "0           NaN    abEs6rE        NaN   ...        abEse      abEs     abEs   \n",
        "1     ab\u00e2dOn6r\u00f4  ab\u00e2dOn6rE  ab\u00e2dOn6re   ...      ab\u00e2dOne    ab\u00e2dOn   ab\u00e2dOn   \n",
        "2           NaN        NaN        NaN   ...          NaN  abazurdi      NaN   \n",
        "3           NaN     abatrE     abatre   ...        abate       aba     abat   \n",
        "4           NaN        NaN        NaN   ...          NaN       NaN      NaN   \n",
        "5           NaN        NaN        NaN   ...          NaN       NaN    abdik   \n",
        "6           NaN        NaN        NaN   ...          NaN       NaN      NaN   \n",
        "7           NaN        NaN        NaN   ...        abOre       NaN      NaN   \n",
        "8           NaN        NaN   abZyr6re   ...       abZyre       NaN      NaN   \n",
        "9           NaN        NaN        NaN   ...          NaN       NaN      NaN   \n",
        "10          NaN        NaN        NaN   ...          NaN     abOli      NaN   \n",
        "11          NaN        NaN        NaN   ...          NaN       NaN     ab\u00f4d   \n",
        "12          NaN        NaN        NaN   ...          NaN       NaN      NaN   \n",
        "13          NaN        NaN        NaN   ...          NaN       NaN      NaN   \n",
        "14     abOrd6r\u00f4        NaN        NaN   ...       abOrde     abOrd    abOrd   \n",
        "15          NaN        NaN        NaN   ...          NaN       NaN      NaN   \n",
        "16          NaN        NaN        NaN   ...        abule       NaN      NaN   \n",
        "17          NaN        NaN        NaN   ...          NaN     abuti   abutis   \n",
        "18          NaN        NaN        NaN   ...          NaN      abwa     abwa   \n",
        "19          NaN        NaN        NaN   ...          NaN       NaN      NaN   \n",
        "20          NaN        NaN        NaN   ...          NaN       NaN    abr9v   \n",
        "21          NaN        NaN        NaN   ...     abrikOte       NaN  abrikOt   \n",
        "22          NaN        NaN        NaN   ...       abrite     abrit    abrit   \n",
        "23          NaN        NaN        NaN   ...          NaN       NaN    abrOZ   \n",
        "24          NaN        NaN        NaN   ...          NaN    abryti  abrytis   \n",
        "25          NaN        NaN        NaN   ...       abrEZe       NaN    abrEZ   \n",
        "26          NaN        NaN        NaN   ...          NaN     abs\u00e2t      NaN   \n",
        "27          NaN        NaN        NaN   ...      absOrbe       NaN   absOrb   \n",
        "28          NaN    absudrE        NaN   ...          NaN      absu      NaN   \n",
        "29    abstj\u00eadr\u00f4        NaN        NaN   ...      abst6ne    abstj\u00ea  abstjEn   \n",
        "...         ...        ...        ...   ...          ...       ...      ...   \n",
        "5396        NaN        NaN        NaN   ...     Eturdise       NaN  Eturdis   \n",
        "5397        NaN  Etr\u00e2gl6rE        NaN   ...      Etr\u00e2gle    Etr\u00e2gl   Etr\u00e2gl   \n",
        "5398        NaN        NaN    Etr\u00eadre   ...          NaN      Etr\u00ea      NaN   \n",
        "5399        NaN        NaN        NaN   ...          NaN       NaN    EtrEn   \n",
        "5400        NaN        NaN        NaN   ...          NaN       NaN      NaN   \n",
        "5401        NaN        NaN        NaN   ...          NaN       NaN      NaN   \n",
        "5402        NaN        NaN        NaN   ...          NaN       NaN      NaN   \n",
        "5403    Etydir\u00f4    EtydirE        NaN   ...       Etydje     Etydi    Etydi   \n",
        "5404        NaN        NaN        NaN   ...          NaN       NaN      NaN   \n",
        "5405        NaN        NaN        NaN   ...          NaN       NaN      NaN   \n",
        "5406        NaN        NaN    Evakyre   ...       Evakye       NaN    Evaky   \n",
        "5407        NaN        NaN        NaN   ...          NaN      Evad     Evad   \n",
        "5408        NaN        NaN        NaN   ...       Evalye     Evaly    Evaly   \n",
        "5409        NaN        NaN        NaN   ...          NaN       NaN      NaN   \n",
        "5410        NaN        NaN   Evanuire   ...     Evanuise    Evanui  Evanuis   \n",
        "5411        NaN        NaN        NaN   ...          NaN       NaN   EvapOr   \n",
        "5412        NaN        NaN    Evaz6re   ...          NaN       NaN      NaN   \n",
        "5413        NaN    EvEj6rE    EvEj6re   ...        EvEje      EvEj     EvEj   \n",
        "5414        NaN        NaN        NaN   ...          NaN       NaN      NaN   \n",
        "5415        NaN        NaN        NaN   ...          NaN       NaN      NaN   \n",
        "5416        NaN        NaN        NaN   ...       Ev\u00e2tre       NaN      NaN   \n",
        "5417        NaN        NaN        NaN   ...          NaN       NaN   EvErty   \n",
        "5418        NaN        NaN        NaN   ...          NaN       NaN     Evid   \n",
        "5419        NaN        NaN        NaN   ...          NaN      Ev\u00eas      NaN   \n",
        "5420        NaN        NaN        NaN   ...          NaN       NaN      NaN   \n",
        "5421    Evit6r\u00f4    Evit6rE    Evit6re   ...        Evite      Evit     Evit   \n",
        "5422        NaN        NaN        NaN   ...       EvOlye       NaN    EvOly   \n",
        "5423        NaN    EvOk6rE        NaN   ...        EvOke       NaN     EvOk   \n",
        "5424       s6r\u00f4       s6rE       s6re   ...           Et         E       s\u00f4   \n",
        "5425        NaN      Ot6rE      Ot6re   ...          Ote        ot       ot   \n",
        "\n",
        "case    pi3S      ps1P     ps1S      ps2P     ps2S     ps3P     ps3S  \n",
        "0       abEs       NaN     abEs       NaN     abEs     abEs     abEs  \n",
        "1     ab\u00e2dOn  ab\u00e2dOnj\u00f4   ab\u00e2dOn  ab\u00e2dOnje   ab\u00e2dOn   ab\u00e2dOn   ab\u00e2dOn  \n",
        "2        NaN       NaN      NaN       NaN      NaN      NaN      NaN  \n",
        "3        aba       NaN     abat    abatje     abat     abat     abat  \n",
        "4        NaN       NaN      NaN       NaN      NaN      NaN      NaN  \n",
        "5      abdik       NaN    abdik       NaN      NaN      NaN    abdik  \n",
        "6       abEr       NaN      NaN       NaN      NaN     abEr      NaN  \n",
        "7       abOr       NaN     abOr       NaN      NaN      NaN     abOr  \n",
        "8      abZyr       NaN    abZyr       NaN      NaN      NaN    abZyr  \n",
        "9        NaN       NaN      NaN       NaN      NaN      NaN      NaN  \n",
        "10     abOli  abOlisj\u00f4      NaN       NaN      NaN      NaN      NaN  \n",
        "11      ab\u00f4d       NaN     ab\u00f4d       NaN      NaN     ab\u00f4d     ab\u00f4d  \n",
        "12      abOn       NaN     abOn       NaN      NaN      NaN     abOn  \n",
        "13       NaN       NaN      NaN       NaN      NaN      NaN      NaN  \n",
        "14     abOrd   abOrdj\u00f4    abOrd       NaN    abOrd    abOrd    abOrd  \n",
        "15       NaN       NaN      NaN       NaN      NaN      NaN      NaN  \n",
        "16      abul       NaN     abul       NaN      NaN      NaN     abul  \n",
        "17     abuti       NaN      NaN       NaN      NaN   abutis   abutis  \n",
        "18      abwa       NaN     abwa       NaN     abwa     abwa     abwa  \n",
        "19       NaN       NaN      NaN       NaN      NaN      NaN      NaN  \n",
        "20     abr9v       NaN    abr9v       NaN      NaN      NaN    abr9v  \n",
        "21       NaN       NaN      NaN       NaN      NaN      NaN      NaN  \n",
        "22     abrit       NaN    abrit       NaN    abrit    abrit    abrit  \n",
        "23       NaN       NaN      NaN       NaN      NaN    abrOZ      NaN  \n",
        "24       NaN       NaN      NaN       NaN      NaN  abrytis      NaN  \n",
        "25     abrEZ       NaN    abrEZ       NaN      NaN    abrEZ    abrEZ  \n",
        "26     abs\u00e2t       NaN    abs\u00e2t       NaN    abs\u00e2t      NaN    abs\u00e2t  \n",
        "27    absOrb       NaN   absOrb       NaN      NaN   absOrb   absOrb  \n",
        "28      absu       NaN   absOlv       NaN      NaN      NaN   absOlv  \n",
        "29    abstj\u00ea  abst6nj\u00f4      NaN       NaN  abstjEn      NaN      NaN  \n",
        "...      ...       ...      ...       ...      ...      ...      ...  \n",
        "5396  Eturdi       NaN      NaN       NaN      NaN  Eturdis      NaN  \n",
        "5397  Etr\u00e2gl       NaN   Etr\u00e2gl       NaN   Etr\u00e2gl   Etr\u00e2gl   Etr\u00e2gl  \n",
        "5398    Etr\u00ea       NaN    EtrEJ       NaN      NaN      NaN    EtrEJ  \n",
        "5399   EtrEn       NaN    EtrEn       NaN    EtrEn      NaN    EtrEn  \n",
        "5400     NaN       NaN    Etrij       NaN      NaN      NaN      NaN  \n",
        "5401   Etrip       NaN    Etrip       NaN      NaN      NaN    Etrip  \n",
        "5402     NaN       NaN  EtrEsis       NaN      NaN      NaN      NaN  \n",
        "5403   Etydi       NaN    Etydi       NaN    Etydi    Etydi    Etydi  \n",
        "5404     NaN       NaN      NaN       NaN      NaN      NaN      NaN  \n",
        "5405     NaN       NaN      NaN       NaN      NaN      NaN      NaN  \n",
        "5406   Evaky       NaN    Evaky       NaN      NaN    Evaky    Evaky  \n",
        "5407    Evad    Evadj\u00f4     Evad       NaN     Evad     Evad     Evad  \n",
        "5408   Evaly       NaN    Evaly       NaN    Evaly    Evaly    Evaly  \n",
        "5409     NaN       NaN      NaN       NaN      NaN      NaN      NaN  \n",
        "5410  Evanui       NaN  Evanuis       NaN      NaN  Evanuis  Evanuis  \n",
        "5411  EvapOr       NaN   EvapOr       NaN      NaN   EvapOr   EvapOr  \n",
        "5412     NaN       NaN      NaN       NaN      NaN      NaN      NaN  \n",
        "5413    EvEj       NaN     EvEj       NaN      NaN     EvEj     EvEj  \n",
        "5414     NaN       NaN      NaN       NaN      NaN      NaN      NaN  \n",
        "5415     NaN       NaN      NaN       NaN      NaN      NaN      NaN  \n",
        "5416   Ev\u00e2tr       NaN    Ev\u00e2tr       NaN      NaN      NaN    Ev\u00e2tr  \n",
        "5417  EvErty       NaN   EvErty       NaN      NaN   EvErty   EvErty  \n",
        "5418     NaN       NaN      NaN    Evidje      NaN     Evid      NaN  \n",
        "5419    Ev\u00eas       NaN      NaN       NaN      NaN      NaN      NaN  \n",
        "5420  EvisEr       NaN   EvisEr       NaN      NaN      NaN   EvisEr  \n",
        "5421    Evit    Evitj\u00f4     Evit       NaN     Evit     Evit     Evit  \n",
        "5422   EvOly       NaN    EvOly       NaN      NaN    EvOly    EvOly  \n",
        "5423    EvOk    EvOkj\u00f4     EvOk    EvOkje      NaN     EvOk     EvOk  \n",
        "5424       E     swaj\u00f4      swa     swaje      swa      swa      swa  \n",
        "5425      ot       NaN       ot      Otje       ot       ot       ot  \n",
        "\n",
        "[5426 rows x 48 columns]"
       ]
      }
     ],
     "prompt_number": 81
    },
    {
     "cell_type": "code",
     "collapsed": false,
     "input": [
      "paradigmes[paradigmes[\"lexeme\"]==\"asseoir\"]"
     ],
     "language": "python",
     "metadata": {},
     "outputs": [
      {
       "html": [
        "<div style=\"max-height:1000px;max-width:1500px;overflow:auto;\">\n",
        "<table border=\"1\" class=\"dataframe\">\n",
        "  <thead>\n",
        "    <tr style=\"text-align: right;\">\n",
        "      <th>case</th>\n",
        "      <th>lexeme</th>\n",
        "      <th>ai1P</th>\n",
        "      <th>ai1S</th>\n",
        "      <th>ai2P</th>\n",
        "      <th>ai2S</th>\n",
        "      <th>ai3P</th>\n",
        "      <th>ai3S</th>\n",
        "      <th>fi1P</th>\n",
        "      <th>fi1S</th>\n",
        "      <th>fi2P</th>\n",
        "      <th>...</th>\n",
        "      <th>pi2P</th>\n",
        "      <th>pi2S</th>\n",
        "      <th>pi3P</th>\n",
        "      <th>pi3S</th>\n",
        "      <th>ps1P</th>\n",
        "      <th>ps1S</th>\n",
        "      <th>ps2P</th>\n",
        "      <th>ps2S</th>\n",
        "      <th>ps3P</th>\n",
        "      <th>ps3S</th>\n",
        "    </tr>\n",
        "  </thead>\n",
        "  <tbody>\n",
        "    <tr>\n",
        "      <th>332</th>\n",
        "      <td> asseoir</td>\n",
        "      <td> NaN</td>\n",
        "      <td> asi</td>\n",
        "      <td> NaN</td>\n",
        "      <td> asi</td>\n",
        "      <td> asir</td>\n",
        "      <td> asi</td>\n",
        "      <td> NaN</td>\n",
        "      <td> asjErE,aswarE</td>\n",
        "      <td> NaN</td>\n",
        "      <td>...</td>\n",
        "      <td> asEje,aswaje</td>\n",
        "      <td> asje,aswa</td>\n",
        "      <td> asEj,aswa</td>\n",
        "      <td> asje,aswa</td>\n",
        "      <td> asEj\u00f4</td>\n",
        "      <td> asEj,aswa</td>\n",
        "      <td> NaN</td>\n",
        "      <td> asEj,aswa</td>\n",
        "      <td> asEj,aswa</td>\n",
        "      <td> asEj,aswa</td>\n",
        "    </tr>\n",
        "  </tbody>\n",
        "</table>\n",
        "<p>1 rows \u00d7 48 columns</p>\n",
        "</div>"
       ],
       "metadata": {},
       "output_type": "pyout",
       "prompt_number": 28,
       "text": [
        "case   lexeme ai1P ai1S ai2P ai2S  ai3P ai3S fi1P           fi1S fi2P  \\\n",
        "332   asseoir  NaN  asi  NaN  asi  asir  asi  NaN  asjErE,aswarE  NaN   \n",
        "\n",
        "case    ...              pi2P       pi2S       pi3P       pi3S   ps1P  \\\n",
        "332     ...      asEje,aswaje  asje,aswa  asEj,aswa  asje,aswa  asEj\u00f4   \n",
        "\n",
        "case       ps1S ps2P       ps2S       ps3P       ps3S  \n",
        "332   asEj,aswa  NaN  asEj,aswa  asEj,aswa  asEj,aswa  \n",
        "\n",
        "[1 rows x 48 columns]"
       ]
      }
     ],
     "prompt_number": 28
    },
    {
     "cell_type": "code",
     "collapsed": false,
     "input": [
      "paire=(\"pi1S\",\"pI2S\")\n",
      "paireListe=list(paire)\n",
      "paireListe.append(\"lexeme\")\n",
      "paradigmePaire=paradigmes[paireListe].dropna(thresh=3, axis=0).reindex()\n",
      "paradigmePaire=splitCellMates(splitCellMates(paradigmePaire,paire[0]),paire[1])\n",
      "paradigmePaire[\"rapports\"]=paradigmePaire.apply(rowDiff, axis=1)\n",
      "paradigmePaire[\"patron1\"]=paradigmePaire[\"rapports\"].apply(lambda x: x[0].lstrip(\".\"))\n",
      "paradigmePaire[\"patron2\"]=paradigmePaire[\"rapports\"].apply(lambda x: x[1].lstrip(\".\"))\n",
      "print paradigmePaire\n",
      "paradigmePaire.groupby([\"patron1\",\"patron2\"])[[\"lexeme\",\"patron1\",\"patron2\"]].apply(lambda x: \", \".join(x[\"lexeme\"]))"
     ],
     "language": "python",
     "metadata": {},
     "outputs": [
      {
       "output_type": "stream",
       "stream": "stdout",
       "text": [
        "case      pi1S      pI2S       lexeme              rapports patron1 patron2\n",
        "0         abEs      abEs     abaisser          (...., ....)                \n",
        "1       ab\u00e2d\u00f2n    ab\u00e2d\u00f2n   abandonner      (......, ......)                \n",
        "2     abazurdi  abazurdi   abasourdir  (........, ........)                \n",
        "3          aba       aba      abattre            (..., ...)                \n",
        "4        absEd     absEd      abc\u00e9der        (....., .....)                \n",
        "5        abdik     abdik     abdiquer        (....., .....)                \n",
        "6         abEk      abEk     abecquer          (...., ....)                \n",
        "7         abEr      abEr      aberrer          (...., ....)                \n",
        "8         abOr      abOr     abhorrer          (...., ....)                \n",
        "9        abZyr     abZyr      abjurer        (....., .....)                \n",
        "10       ablat     ablat      ablater        (....., .....)                \n",
        "11      ablati    ablati      ablatir      (......, ......)                \n",
        "12       ablOk     ablOk     abloquer        (....., .....)                \n",
        "13       ab\u00f2li     ab\u00f2li       abolir        (....., .....)                \n",
        "14        ab\u00f4d      ab\u00f4d      abonder          (...., ....)                \n",
        "15        ab\u00f2n      ab\u00f2n      abonner          (...., ....)                \n",
        "16       ab\u00f2ni     ab\u00f2ni      abonnir        (....., .....)                \n",
        "17       abOrd     abOrd      aborder        (....., .....)                \n",
        "18       abOrn     abOrn      aborner        (....., .....)                \n",
        "19        abuS      abuS     aboucher          (...., ....)                \n",
        "20        abul      abul      abouler          (...., ....)                \n",
        "21        abut      abut      abouter          (...., ....)                \n",
        "22       abuti     abuti      aboutir        (....., .....)                \n",
        "23        abwa      abwa       aboyer          (...., ....)                \n",
        "24       abraz     abraz      abraser        (....., .....)                \n",
        "25       abr9v     abr9v     abreuver        (....., .....)                \n",
        "26     abrikOt   abrikOt    abricoter    (......., .......)                \n",
        "27       abrit     abrit      abriter        (....., .....)                \n",
        "28       abrOZ     abrOZ      abroger        (....., .....)                \n",
        "29      abryti    abryti      abrutir      (......, ......)                \n",
        "...        ...       ...          ...                   ...     ...     ...\n",
        "6468  \u00e8v\u00e2Z\u00e8liz  \u00e8v\u00e2Z\u00e8liz  \u00e9vang\u00e9liser  (........, ........)                \n",
        "6469    \u00e8vanui    \u00e8vanui     \u00e9vanouir      (......, ......)                \n",
        "6470    \u00e8vapOr    \u00e8vapOr     \u00e9vaporer      (......, ......)                \n",
        "6471      \u00e8vaz      \u00e8vaz       \u00e9vaser          (...., ....)                \n",
        "6472      \u00e8vEj      \u00e8vEj     \u00e9veiller          (...., ....)                \n",
        "6473      \u00e8v\u00e2t      \u00e8v\u00e2t      \u00e9venter          (...., ....)                \n",
        "6474    \u00e8v\u00e2tij    \u00e8v\u00e2tij   \u00e9ventiller      (......, ......)                \n",
        "6475     \u00e8v\u00e2tr     \u00e8v\u00e2tr     \u00e9ventrer        (....., .....)                \n",
        "6476    \u00e8vErty    \u00e8vErty     \u00e9vertuer      (......, ......)                \n",
        "6477      \u00e8vid      \u00e8vid       \u00e9vider          (...., ....)                \n",
        "6478      \u00e8v\u00eas      \u00e8v\u00eas      \u00e9vincer          (...., ....)                \n",
        "6479    \u00e8visEr    \u00e8visEr    \u00e9visc\u00e9rer      (......, ......)                \n",
        "6480      \u00e8vit      \u00e8vit       \u00e9viter          (...., ....)                \n",
        "6481     \u00e8v\u00f2ly     \u00e8v\u00f2ly      \u00e9voluer        (....., .....)                \n",
        "6482      \u00e8vOk      \u00e8vOk      \u00e9voquer          (...., ....)                \n",
        "6483       sHi       swa         \u00eatre            (.Hi, .wa)      Hi      wa\n",
        "6484        ot        ot         \u00f4ter              (.., ..)                \n",
        "6492        v2       v9j      vouloir             (.2, .9j)       2      9j\n",
        "6493        v2        v2      vouloir              (.., ..)                \n",
        "6494      aswa      aswa      asseoir          (...., ....)                \n",
        "6495      aswa      asje      asseoir          (..wa, ..je)      wa      je\n",
        "6496      asje      aswa      asseoir          (..je, ..wa)      je      wa\n",
        "6497      asje      asje      asseoir          (...., ....)                \n",
        "6498      d\u00e8p\u00e2      d\u00e8p\u00e2     d\u00e9pendre          (...., ....)                \n",
        "6499     \u00eapOrt     \u00eapOrt     importer        (....., .....)                \n",
        "6500      sup\u00e8      sup\u00e8   sous-payer          (...., ....)                \n",
        "6501      sup\u00e8     supEj   sous-payer         (...\u00e8, ...Ej)       \u00e8      Ej\n",
        "6502     supEj      sup\u00e8   sous-payer         (...Ej, ...\u00e8)      Ej       \u00e8\n",
        "6503     supEj     supEj   sous-payer        (....., .....)                \n",
        "6504      tEst      tEst       tester          (...., ....)                \n",
        "\n",
        "[6497 rows x 6 columns]\n"
       ]
      },
      {
       "metadata": {},
       "output_type": "pyout",
       "prompt_number": 103,
       "text": [
        "patron1  patron2\n",
        "                    abaisser, abandonner, abasourdir, abattre, abc...\n",
        "2        9j                                                   vouloir\n",
        "Ej       \u00e8                                                 sous-payer\n",
        "Hi       wa                                                      \u00eatre\n",
        "je       wa                                                   asseoir\n",
        "wa       je                                                   asseoir\n",
        "\u00e2v\u00e8      vat\u00e2                                                en aller\n",
        "\u00e8        Ej                                                sous-payer\n",
        "         a                                                      aller\n",
        "         aS                                                    savoir\n",
        "dtype: object"
       ]
      }
     ],
     "prompt_number": 103
    },
    {
     "cell_type": "code",
     "collapsed": false,
     "input": [
      "paire=(\"pi1S\",\"pI2S\")\n",
      "paireListe=list(paire)\n",
      "paireListe.append(\"lexeme\")\n",
      "paradigmePaire=paradigmes[paireListe].dropna(thresh=3, axis=0).reset_index().reindex()\n",
      "paradigmePaire"
     ],
     "language": "python",
     "metadata": {},
     "outputs": [
      {
       "html": [
        "<div style=\"max-height:1000px;max-width:1500px;overflow:auto;\">\n",
        "<table border=\"1\" class=\"dataframe\">\n",
        "  <thead>\n",
        "    <tr style=\"text-align: right;\">\n",
        "      <th>case</th>\n",
        "      <th>index</th>\n",
        "      <th>pi1S</th>\n",
        "      <th>pI2S</th>\n",
        "      <th>lexeme</th>\n",
        "    </tr>\n",
        "  </thead>\n",
        "  <tbody>\n",
        "    <tr>\n",
        "      <th>0 </th>\n",
        "      <td>   0</td>\n",
        "      <td>      ab\u00e2d\u00f2n</td>\n",
        "      <td>      ab\u00e2d\u00f2n</td>\n",
        "      <td> abandonner</td>\n",
        "    </tr>\n",
        "    <tr>\n",
        "      <th>1 </th>\n",
        "      <td>  11</td>\n",
        "      <td>        adOr</td>\n",
        "      <td>        adOr</td>\n",
        "      <td>     adorer</td>\n",
        "    </tr>\n",
        "    <tr>\n",
        "      <th>2 </th>\n",
        "      <td>  17</td>\n",
        "      <td>          Em</td>\n",
        "      <td>          Em</td>\n",
        "      <td>      aimer</td>\n",
        "    </tr>\n",
        "    <tr>\n",
        "      <th>3 </th>\n",
        "      <td>  18</td>\n",
        "      <td>          v\u00e8</td>\n",
        "      <td>          va</td>\n",
        "      <td>      aller</td>\n",
        "    </tr>\n",
        "    <tr>\n",
        "      <th>4 </th>\n",
        "      <td>  26</td>\n",
        "      <td>        apEl</td>\n",
        "      <td>        apEl</td>\n",
        "      <td>    appeler</td>\n",
        "    </tr>\n",
        "    <tr>\n",
        "      <th>5 </th>\n",
        "      <td>  31</td>\n",
        "      <td>      apr\u00e8si</td>\n",
        "      <td>      apr\u00e8si</td>\n",
        "      <td>  appr\u00e9cier</td>\n",
        "    </tr>\n",
        "    <tr>\n",
        "      <th>6 </th>\n",
        "      <td>  34</td>\n",
        "      <td>        ariv</td>\n",
        "      <td>        ariv</td>\n",
        "      <td>    arriver</td>\n",
        "    </tr>\n",
        "    <tr>\n",
        "      <th>7 </th>\n",
        "      <td>  36</td>\n",
        "      <td>        arEt</td>\n",
        "      <td>        arEt</td>\n",
        "      <td>    arr\u00eater</td>\n",
        "    </tr>\n",
        "    <tr>\n",
        "      <th>8 </th>\n",
        "      <td>  42</td>\n",
        "      <td>         at\u00e2</td>\n",
        "      <td>         at\u00e2</td>\n",
        "      <td>   attendre</td>\n",
        "    </tr>\n",
        "    <tr>\n",
        "      <th>9 </th>\n",
        "      <td>  45</td>\n",
        "      <td>        av\u00e2s</td>\n",
        "      <td>        av\u00e2s</td>\n",
        "      <td>    avancer</td>\n",
        "    </tr>\n",
        "    <tr>\n",
        "      <th>10</th>\n",
        "      <td>  47</td>\n",
        "      <td>           \u00e8</td>\n",
        "      <td>           \u00e8</td>\n",
        "      <td>      avoir</td>\n",
        "    </tr>\n",
        "    <tr>\n",
        "      <th>11</th>\n",
        "      <td>  78</td>\n",
        "      <td>        SErS</td>\n",
        "      <td>        SErS</td>\n",
        "      <td>   chercher</td>\n",
        "    </tr>\n",
        "    <tr>\n",
        "      <th>12</th>\n",
        "      <td>  92</td>\n",
        "      <td>       k\u00f4pr\u00e2</td>\n",
        "      <td>       k\u00f4pr\u00e2</td>\n",
        "      <td> comprendre</td>\n",
        "    </tr>\n",
        "    <tr>\n",
        "      <th>13</th>\n",
        "      <td> 100</td>\n",
        "      <td>        k\u00f2n\u00e8</td>\n",
        "      <td>        k\u00f2n\u00e8</td>\n",
        "      <td>  conna\u00eetre</td>\n",
        "    </tr>\n",
        "    <tr>\n",
        "      <th>14</th>\n",
        "      <td> 109</td>\n",
        "      <td>      k\u00f4tiny</td>\n",
        "      <td>      k\u00f4tiny</td>\n",
        "      <td>  continuer</td>\n",
        "    </tr>\n",
        "    <tr>\n",
        "      <th>15</th>\n",
        "      <td> 123</td>\n",
        "      <td>        krwa</td>\n",
        "      <td>        krwa</td>\n",
        "      <td>     croire</td>\n",
        "    </tr>\n",
        "    <tr>\n",
        "      <th>16</th>\n",
        "      <td> 130</td>\n",
        "      <td>       d6m\u00e2d</td>\n",
        "      <td>       d6m\u00e2d</td>\n",
        "      <td>   demander</td>\n",
        "    </tr>\n",
        "    <tr>\n",
        "      <th>17</th>\n",
        "      <td> 134</td>\n",
        "      <td>         dwa</td>\n",
        "      <td>         dwa</td>\n",
        "      <td>     devoir</td>\n",
        "    </tr>\n",
        "    <tr>\n",
        "      <th>18</th>\n",
        "      <td> 135</td>\n",
        "      <td>          di</td>\n",
        "      <td>          di</td>\n",
        "      <td>       dire</td>\n",
        "    </tr>\n",
        "    <tr>\n",
        "      <th>19</th>\n",
        "      <td> 139</td>\n",
        "      <td>         d\u00f2n</td>\n",
        "      <td>         d\u00f2n</td>\n",
        "      <td>     donner</td>\n",
        "    </tr>\n",
        "    <tr>\n",
        "      <th>20</th>\n",
        "      <td> 165</td>\n",
        "      <td>       d\u00e8pES</td>\n",
        "      <td>       d\u00e8pES</td>\n",
        "      <td>   d\u00e9p\u00eacher</td>\n",
        "    </tr>\n",
        "    <tr>\n",
        "      <th>21</th>\n",
        "      <td> 194</td>\n",
        "      <td>       EspEr</td>\n",
        "      <td>       EspEr</td>\n",
        "      <td>    esp\u00e9rer</td>\n",
        "    </tr>\n",
        "    <tr>\n",
        "      <th>22</th>\n",
        "      <td> 197</td>\n",
        "      <td>      Ekskyz</td>\n",
        "      <td>      Ekskyz</td>\n",
        "      <td>    excuser</td>\n",
        "    </tr>\n",
        "    <tr>\n",
        "      <th>23</th>\n",
        "      <td> 204</td>\n",
        "      <td>          f\u00e8</td>\n",
        "      <td>          f\u00e8</td>\n",
        "      <td>      faire</td>\n",
        "    </tr>\n",
        "    <tr>\n",
        "      <th>24</th>\n",
        "      <td> 247</td>\n",
        "      <td> \u00eapOrt,\u00eapOrt</td>\n",
        "      <td> \u00eapOrt,\u00eapOrt</td>\n",
        "      <td>   importer</td>\n",
        "    </tr>\n",
        "    <tr>\n",
        "      <th>25</th>\n",
        "      <td> 262</td>\n",
        "      <td>         lEs</td>\n",
        "      <td>         lEs</td>\n",
        "      <td>    laisser</td>\n",
        "    </tr>\n",
        "    <tr>\n",
        "      <th>26</th>\n",
        "      <td> 266</td>\n",
        "      <td>         lEv</td>\n",
        "      <td>         lEv</td>\n",
        "      <td>      lever</td>\n",
        "    </tr>\n",
        "    <tr>\n",
        "      <th>27</th>\n",
        "      <td> 268</td>\n",
        "      <td>          li</td>\n",
        "      <td>          li</td>\n",
        "      <td>       lire</td>\n",
        "    </tr>\n",
        "    <tr>\n",
        "      <th>28</th>\n",
        "      <td> 273</td>\n",
        "      <td>         m\u00e2Z</td>\n",
        "      <td>         m\u00e2Z</td>\n",
        "      <td>     manger</td>\n",
        "    </tr>\n",
        "    <tr>\n",
        "      <th>29</th>\n",
        "      <td> 276</td>\n",
        "      <td>        marS</td>\n",
        "      <td>        marS</td>\n",
        "      <td>    marcher</td>\n",
        "    </tr>\n",
        "    <tr>\n",
        "      <th>30</th>\n",
        "      <td> 279</td>\n",
        "      <td>          m\u00e8</td>\n",
        "      <td>          m\u00e8</td>\n",
        "      <td>     mettre</td>\n",
        "    </tr>\n",
        "    <tr>\n",
        "      <th>31</th>\n",
        "      <td> 280</td>\n",
        "      <td>         m\u00f4t</td>\n",
        "      <td>         m\u00f4t</td>\n",
        "      <td>     monter</td>\n",
        "    </tr>\n",
        "    <tr>\n",
        "      <th>32</th>\n",
        "      <td> 281</td>\n",
        "      <td>        m\u00f4tr</td>\n",
        "      <td>        m\u00f4tr</td>\n",
        "      <td>    montrer</td>\n",
        "    </tr>\n",
        "    <tr>\n",
        "      <th>33</th>\n",
        "      <td> 295</td>\n",
        "      <td>        \u00f2kyp</td>\n",
        "      <td>        \u00f2kyp</td>\n",
        "      <td>    occuper</td>\n",
        "    </tr>\n",
        "    <tr>\n",
        "      <th>34</th>\n",
        "      <td> 300</td>\n",
        "      <td>        ubli</td>\n",
        "      <td>        ubli</td>\n",
        "      <td>    oublier</td>\n",
        "    </tr>\n",
        "    <tr>\n",
        "      <th>35</th>\n",
        "      <td> 307</td>\n",
        "      <td>        parl</td>\n",
        "      <td>        parl</td>\n",
        "      <td>     parler</td>\n",
        "    </tr>\n",
        "    <tr>\n",
        "      <th>36</th>\n",
        "      <td> 310</td>\n",
        "      <td>         pas</td>\n",
        "      <td>         pas</td>\n",
        "      <td>     passer</td>\n",
        "    </tr>\n",
        "    <tr>\n",
        "      <th>37</th>\n",
        "      <td> 313</td>\n",
        "      <td>         p\u00e2s</td>\n",
        "      <td>         p\u00e2s</td>\n",
        "      <td>     penser</td>\n",
        "    </tr>\n",
        "    <tr>\n",
        "      <th>38</th>\n",
        "      <td> 323</td>\n",
        "      <td>        pl9r</td>\n",
        "      <td>        pl9r</td>\n",
        "      <td>    pleurer</td>\n",
        "    </tr>\n",
        "    <tr>\n",
        "      <th>39</th>\n",
        "      <td> 326</td>\n",
        "      <td>        pOrt</td>\n",
        "      <td>        pOrt</td>\n",
        "      <td>     porter</td>\n",
        "    </tr>\n",
        "    <tr>\n",
        "      <th>40</th>\n",
        "      <td> 334</td>\n",
        "      <td>         pr\u00e2</td>\n",
        "      <td>         pr\u00e2</td>\n",
        "      <td>    prendre</td>\n",
        "    </tr>\n",
        "    <tr>\n",
        "      <th>41</th>\n",
        "      <td> 335</td>\n",
        "      <td>         pri</td>\n",
        "      <td>         pri</td>\n",
        "      <td>      prier</td>\n",
        "    </tr>\n",
        "    <tr>\n",
        "      <th>42</th>\n",
        "      <td> 361</td>\n",
        "      <td>       rapEl</td>\n",
        "      <td>       rapEl</td>\n",
        "      <td>   rappeler</td>\n",
        "    </tr>\n",
        "    <tr>\n",
        "      <th>43</th>\n",
        "      <td> 375</td>\n",
        "      <td>      r6gard</td>\n",
        "      <td>      r6gard</td>\n",
        "      <td>   regarder</td>\n",
        "    </tr>\n",
        "    <tr>\n",
        "      <th>44</th>\n",
        "      <td> 393</td>\n",
        "      <td>        rEst</td>\n",
        "      <td>        rEst</td>\n",
        "      <td>     rester</td>\n",
        "    </tr>\n",
        "    <tr>\n",
        "      <th>45</th>\n",
        "      <td> 397</td>\n",
        "      <td>      r6truv</td>\n",
        "      <td>      r6truv</td>\n",
        "      <td>  retrouver</td>\n",
        "    </tr>\n",
        "    <tr>\n",
        "      <th>46</th>\n",
        "      <td> 431</td>\n",
        "      <td>          s\u00e2</td>\n",
        "      <td>          s\u00e2</td>\n",
        "      <td>     sentir</td>\n",
        "    </tr>\n",
        "    <tr>\n",
        "      <th>47</th>\n",
        "      <td> 437</td>\n",
        "      <td>         sOr</td>\n",
        "      <td>         sOr</td>\n",
        "      <td>     sortir</td>\n",
        "    </tr>\n",
        "    <tr>\n",
        "      <th>48</th>\n",
        "      <td> 440</td>\n",
        "      <td>       suvj\u00ea</td>\n",
        "      <td>       suvj\u00ea</td>\n",
        "      <td>   souvenir</td>\n",
        "    </tr>\n",
        "    <tr>\n",
        "      <th>49</th>\n",
        "      <td> 446</td>\n",
        "      <td>         sHi</td>\n",
        "      <td>         sHi</td>\n",
        "      <td>     suivre</td>\n",
        "    </tr>\n",
        "    <tr>\n",
        "      <th>50</th>\n",
        "      <td> 455</td>\n",
        "      <td>         tj\u00ea</td>\n",
        "      <td>         tj\u00ea</td>\n",
        "      <td>      tenir</td>\n",
        "    </tr>\n",
        "    <tr>\n",
        "      <th>51</th>\n",
        "      <td> 465</td>\n",
        "      <td>      travaj</td>\n",
        "      <td>      travaj</td>\n",
        "      <td> travailler</td>\n",
        "    </tr>\n",
        "    <tr>\n",
        "      <th>52</th>\n",
        "      <td> 469</td>\n",
        "      <td>        truv</td>\n",
        "      <td>        truv</td>\n",
        "      <td>    trouver</td>\n",
        "    </tr>\n",
        "    <tr>\n",
        "      <th>53</th>\n",
        "      <td> 470</td>\n",
        "      <td>          ty</td>\n",
        "      <td>          ty</td>\n",
        "      <td>       tuer</td>\n",
        "    </tr>\n",
        "    <tr>\n",
        "      <th>54</th>\n",
        "      <td> 475</td>\n",
        "      <td>         vj\u00ea</td>\n",
        "      <td>         vj\u00ea</td>\n",
        "      <td>      venir</td>\n",
        "    </tr>\n",
        "    <tr>\n",
        "      <th>55</th>\n",
        "      <td> 481</td>\n",
        "      <td>         vwa</td>\n",
        "      <td>         vwa</td>\n",
        "      <td>       voir</td>\n",
        "    </tr>\n",
        "    <tr>\n",
        "      <th>56</th>\n",
        "      <td> 484</td>\n",
        "      <td>          v2</td>\n",
        "      <td>          v2</td>\n",
        "      <td>    vouloir</td>\n",
        "    </tr>\n",
        "  </tbody>\n",
        "</table>\n",
        "</div>"
       ],
       "metadata": {},
       "output_type": "pyout",
       "prompt_number": 72,
       "text": [
        "case  index         pi1S         pI2S      lexeme\n",
        "0         0       ab\u00e2d\u00f2n       ab\u00e2d\u00f2n  abandonner\n",
        "1        11         adOr         adOr      adorer\n",
        "2        17           Em           Em       aimer\n",
        "3        18           v\u00e8           va       aller\n",
        "4        26         apEl         apEl     appeler\n",
        "5        31       apr\u00e8si       apr\u00e8si   appr\u00e9cier\n",
        "6        34         ariv         ariv     arriver\n",
        "7        36         arEt         arEt     arr\u00eater\n",
        "8        42          at\u00e2          at\u00e2    attendre\n",
        "9        45         av\u00e2s         av\u00e2s     avancer\n",
        "10       47            \u00e8            \u00e8       avoir\n",
        "11       78         SErS         SErS    chercher\n",
        "12       92        k\u00f4pr\u00e2        k\u00f4pr\u00e2  comprendre\n",
        "13      100         k\u00f2n\u00e8         k\u00f2n\u00e8   conna\u00eetre\n",
        "14      109       k\u00f4tiny       k\u00f4tiny   continuer\n",
        "15      123         krwa         krwa      croire\n",
        "16      130        d6m\u00e2d        d6m\u00e2d    demander\n",
        "17      134          dwa          dwa      devoir\n",
        "18      135           di           di        dire\n",
        "19      139          d\u00f2n          d\u00f2n      donner\n",
        "20      165        d\u00e8pES        d\u00e8pES    d\u00e9p\u00eacher\n",
        "21      194        EspEr        EspEr     esp\u00e9rer\n",
        "22      197       Ekskyz       Ekskyz     excuser\n",
        "23      204           f\u00e8           f\u00e8       faire\n",
        "24      247  \u00eapOrt,\u00eapOrt  \u00eapOrt,\u00eapOrt    importer\n",
        "25      262          lEs          lEs     laisser\n",
        "26      266          lEv          lEv       lever\n",
        "27      268           li           li        lire\n",
        "28      273          m\u00e2Z          m\u00e2Z      manger\n",
        "29      276         marS         marS     marcher\n",
        "30      279           m\u00e8           m\u00e8      mettre\n",
        "31      280          m\u00f4t          m\u00f4t      monter\n",
        "32      281         m\u00f4tr         m\u00f4tr     montrer\n",
        "33      295         \u00f2kyp         \u00f2kyp     occuper\n",
        "34      300         ubli         ubli     oublier\n",
        "35      307         parl         parl      parler\n",
        "36      310          pas          pas      passer\n",
        "37      313          p\u00e2s          p\u00e2s      penser\n",
        "38      323         pl9r         pl9r     pleurer\n",
        "39      326         pOrt         pOrt      porter\n",
        "40      334          pr\u00e2          pr\u00e2     prendre\n",
        "41      335          pri          pri       prier\n",
        "42      361        rapEl        rapEl    rappeler\n",
        "43      375       r6gard       r6gard    regarder\n",
        "44      393         rEst         rEst      rester\n",
        "45      397       r6truv       r6truv   retrouver\n",
        "46      431           s\u00e2           s\u00e2      sentir\n",
        "47      437          sOr          sOr      sortir\n",
        "48      440        suvj\u00ea        suvj\u00ea    souvenir\n",
        "49      446          sHi          sHi      suivre\n",
        "50      455          tj\u00ea          tj\u00ea       tenir\n",
        "51      465       travaj       travaj  travailler\n",
        "52      469         truv         truv     trouver\n",
        "53      470           ty           ty        tuer\n",
        "54      475          vj\u00ea          vj\u00ea       venir\n",
        "55      481          vwa          vwa        voir\n",
        "56      484           v2           v2     vouloir"
       ]
      }
     ],
     "prompt_number": 72
    },
    {
     "cell_type": "code",
     "collapsed": false,
     "input": [
      "paradigmePaire=splitCellMates(paradigmePaire,paire[0])\n",
      "paradigmePaire"
     ],
     "language": "python",
     "metadata": {},
     "outputs": [
      {
       "html": [
        "<div style=\"max-height:1000px;max-width:1500px;overflow:auto;\">\n",
        "<table border=\"1\" class=\"dataframe\">\n",
        "  <thead>\n",
        "    <tr style=\"text-align: right;\">\n",
        "      <th>case</th>\n",
        "      <th>index</th>\n",
        "      <th>pi1S</th>\n",
        "      <th>pI2S</th>\n",
        "      <th>lexeme</th>\n",
        "    </tr>\n",
        "  </thead>\n",
        "  <tbody>\n",
        "    <tr>\n",
        "      <th>0 </th>\n",
        "      <td>   0</td>\n",
        "      <td> ab\u00e2d\u00f2n</td>\n",
        "      <td>      ab\u00e2d\u00f2n</td>\n",
        "      <td> abandonner</td>\n",
        "    </tr>\n",
        "    <tr>\n",
        "      <th>1 </th>\n",
        "      <td>  11</td>\n",
        "      <td>   adOr</td>\n",
        "      <td>        adOr</td>\n",
        "      <td>     adorer</td>\n",
        "    </tr>\n",
        "    <tr>\n",
        "      <th>2 </th>\n",
        "      <td>  17</td>\n",
        "      <td>     Em</td>\n",
        "      <td>          Em</td>\n",
        "      <td>      aimer</td>\n",
        "    </tr>\n",
        "    <tr>\n",
        "      <th>3 </th>\n",
        "      <td>  18</td>\n",
        "      <td>     v\u00e8</td>\n",
        "      <td>          va</td>\n",
        "      <td>      aller</td>\n",
        "    </tr>\n",
        "    <tr>\n",
        "      <th>4 </th>\n",
        "      <td>  26</td>\n",
        "      <td>   apEl</td>\n",
        "      <td>        apEl</td>\n",
        "      <td>    appeler</td>\n",
        "    </tr>\n",
        "    <tr>\n",
        "      <th>5 </th>\n",
        "      <td>  31</td>\n",
        "      <td> apr\u00e8si</td>\n",
        "      <td>      apr\u00e8si</td>\n",
        "      <td>  appr\u00e9cier</td>\n",
        "    </tr>\n",
        "    <tr>\n",
        "      <th>6 </th>\n",
        "      <td>  34</td>\n",
        "      <td>   ariv</td>\n",
        "      <td>        ariv</td>\n",
        "      <td>    arriver</td>\n",
        "    </tr>\n",
        "    <tr>\n",
        "      <th>7 </th>\n",
        "      <td>  36</td>\n",
        "      <td>   arEt</td>\n",
        "      <td>        arEt</td>\n",
        "      <td>    arr\u00eater</td>\n",
        "    </tr>\n",
        "    <tr>\n",
        "      <th>8 </th>\n",
        "      <td>  42</td>\n",
        "      <td>    at\u00e2</td>\n",
        "      <td>         at\u00e2</td>\n",
        "      <td>   attendre</td>\n",
        "    </tr>\n",
        "    <tr>\n",
        "      <th>9 </th>\n",
        "      <td>  45</td>\n",
        "      <td>   av\u00e2s</td>\n",
        "      <td>        av\u00e2s</td>\n",
        "      <td>    avancer</td>\n",
        "    </tr>\n",
        "    <tr>\n",
        "      <th>10</th>\n",
        "      <td>  47</td>\n",
        "      <td>      \u00e8</td>\n",
        "      <td>           \u00e8</td>\n",
        "      <td>      avoir</td>\n",
        "    </tr>\n",
        "    <tr>\n",
        "      <th>11</th>\n",
        "      <td>  78</td>\n",
        "      <td>   SErS</td>\n",
        "      <td>        SErS</td>\n",
        "      <td>   chercher</td>\n",
        "    </tr>\n",
        "    <tr>\n",
        "      <th>12</th>\n",
        "      <td>  92</td>\n",
        "      <td>  k\u00f4pr\u00e2</td>\n",
        "      <td>       k\u00f4pr\u00e2</td>\n",
        "      <td> comprendre</td>\n",
        "    </tr>\n",
        "    <tr>\n",
        "      <th>13</th>\n",
        "      <td> 100</td>\n",
        "      <td>   k\u00f2n\u00e8</td>\n",
        "      <td>        k\u00f2n\u00e8</td>\n",
        "      <td>  conna\u00eetre</td>\n",
        "    </tr>\n",
        "    <tr>\n",
        "      <th>14</th>\n",
        "      <td> 109</td>\n",
        "      <td> k\u00f4tiny</td>\n",
        "      <td>      k\u00f4tiny</td>\n",
        "      <td>  continuer</td>\n",
        "    </tr>\n",
        "    <tr>\n",
        "      <th>15</th>\n",
        "      <td> 123</td>\n",
        "      <td>   krwa</td>\n",
        "      <td>        krwa</td>\n",
        "      <td>     croire</td>\n",
        "    </tr>\n",
        "    <tr>\n",
        "      <th>16</th>\n",
        "      <td> 130</td>\n",
        "      <td>  d6m\u00e2d</td>\n",
        "      <td>       d6m\u00e2d</td>\n",
        "      <td>   demander</td>\n",
        "    </tr>\n",
        "    <tr>\n",
        "      <th>17</th>\n",
        "      <td> 134</td>\n",
        "      <td>    dwa</td>\n",
        "      <td>         dwa</td>\n",
        "      <td>     devoir</td>\n",
        "    </tr>\n",
        "    <tr>\n",
        "      <th>18</th>\n",
        "      <td> 135</td>\n",
        "      <td>     di</td>\n",
        "      <td>          di</td>\n",
        "      <td>       dire</td>\n",
        "    </tr>\n",
        "    <tr>\n",
        "      <th>19</th>\n",
        "      <td> 139</td>\n",
        "      <td>    d\u00f2n</td>\n",
        "      <td>         d\u00f2n</td>\n",
        "      <td>     donner</td>\n",
        "    </tr>\n",
        "    <tr>\n",
        "      <th>20</th>\n",
        "      <td> 165</td>\n",
        "      <td>  d\u00e8pES</td>\n",
        "      <td>       d\u00e8pES</td>\n",
        "      <td>   d\u00e9p\u00eacher</td>\n",
        "    </tr>\n",
        "    <tr>\n",
        "      <th>21</th>\n",
        "      <td> 194</td>\n",
        "      <td>  EspEr</td>\n",
        "      <td>       EspEr</td>\n",
        "      <td>    esp\u00e9rer</td>\n",
        "    </tr>\n",
        "    <tr>\n",
        "      <th>22</th>\n",
        "      <td> 197</td>\n",
        "      <td> Ekskyz</td>\n",
        "      <td>      Ekskyz</td>\n",
        "      <td>    excuser</td>\n",
        "    </tr>\n",
        "    <tr>\n",
        "      <th>23</th>\n",
        "      <td> 204</td>\n",
        "      <td>     f\u00e8</td>\n",
        "      <td>          f\u00e8</td>\n",
        "      <td>      faire</td>\n",
        "    </tr>\n",
        "    <tr>\n",
        "      <th>25</th>\n",
        "      <td> 262</td>\n",
        "      <td>    lEs</td>\n",
        "      <td>         lEs</td>\n",
        "      <td>    laisser</td>\n",
        "    </tr>\n",
        "    <tr>\n",
        "      <th>26</th>\n",
        "      <td> 266</td>\n",
        "      <td>    lEv</td>\n",
        "      <td>         lEv</td>\n",
        "      <td>      lever</td>\n",
        "    </tr>\n",
        "    <tr>\n",
        "      <th>27</th>\n",
        "      <td> 268</td>\n",
        "      <td>     li</td>\n",
        "      <td>          li</td>\n",
        "      <td>       lire</td>\n",
        "    </tr>\n",
        "    <tr>\n",
        "      <th>28</th>\n",
        "      <td> 273</td>\n",
        "      <td>    m\u00e2Z</td>\n",
        "      <td>         m\u00e2Z</td>\n",
        "      <td>     manger</td>\n",
        "    </tr>\n",
        "    <tr>\n",
        "      <th>29</th>\n",
        "      <td> 276</td>\n",
        "      <td>   marS</td>\n",
        "      <td>        marS</td>\n",
        "      <td>    marcher</td>\n",
        "    </tr>\n",
        "    <tr>\n",
        "      <th>30</th>\n",
        "      <td> 279</td>\n",
        "      <td>     m\u00e8</td>\n",
        "      <td>          m\u00e8</td>\n",
        "      <td>     mettre</td>\n",
        "    </tr>\n",
        "    <tr>\n",
        "      <th>31</th>\n",
        "      <td> 280</td>\n",
        "      <td>    m\u00f4t</td>\n",
        "      <td>         m\u00f4t</td>\n",
        "      <td>     monter</td>\n",
        "    </tr>\n",
        "    <tr>\n",
        "      <th>32</th>\n",
        "      <td> 281</td>\n",
        "      <td>   m\u00f4tr</td>\n",
        "      <td>        m\u00f4tr</td>\n",
        "      <td>    montrer</td>\n",
        "    </tr>\n",
        "    <tr>\n",
        "      <th>33</th>\n",
        "      <td> 295</td>\n",
        "      <td>   \u00f2kyp</td>\n",
        "      <td>        \u00f2kyp</td>\n",
        "      <td>    occuper</td>\n",
        "    </tr>\n",
        "    <tr>\n",
        "      <th>34</th>\n",
        "      <td> 300</td>\n",
        "      <td>   ubli</td>\n",
        "      <td>        ubli</td>\n",
        "      <td>    oublier</td>\n",
        "    </tr>\n",
        "    <tr>\n",
        "      <th>35</th>\n",
        "      <td> 307</td>\n",
        "      <td>   parl</td>\n",
        "      <td>        parl</td>\n",
        "      <td>     parler</td>\n",
        "    </tr>\n",
        "    <tr>\n",
        "      <th>36</th>\n",
        "      <td> 310</td>\n",
        "      <td>    pas</td>\n",
        "      <td>         pas</td>\n",
        "      <td>     passer</td>\n",
        "    </tr>\n",
        "    <tr>\n",
        "      <th>37</th>\n",
        "      <td> 313</td>\n",
        "      <td>    p\u00e2s</td>\n",
        "      <td>         p\u00e2s</td>\n",
        "      <td>     penser</td>\n",
        "    </tr>\n",
        "    <tr>\n",
        "      <th>38</th>\n",
        "      <td> 323</td>\n",
        "      <td>   pl9r</td>\n",
        "      <td>        pl9r</td>\n",
        "      <td>    pleurer</td>\n",
        "    </tr>\n",
        "    <tr>\n",
        "      <th>39</th>\n",
        "      <td> 326</td>\n",
        "      <td>   pOrt</td>\n",
        "      <td>        pOrt</td>\n",
        "      <td>     porter</td>\n",
        "    </tr>\n",
        "    <tr>\n",
        "      <th>40</th>\n",
        "      <td> 334</td>\n",
        "      <td>    pr\u00e2</td>\n",
        "      <td>         pr\u00e2</td>\n",
        "      <td>    prendre</td>\n",
        "    </tr>\n",
        "    <tr>\n",
        "      <th>41</th>\n",
        "      <td> 335</td>\n",
        "      <td>    pri</td>\n",
        "      <td>         pri</td>\n",
        "      <td>      prier</td>\n",
        "    </tr>\n",
        "    <tr>\n",
        "      <th>42</th>\n",
        "      <td> 361</td>\n",
        "      <td>  rapEl</td>\n",
        "      <td>       rapEl</td>\n",
        "      <td>   rappeler</td>\n",
        "    </tr>\n",
        "    <tr>\n",
        "      <th>43</th>\n",
        "      <td> 375</td>\n",
        "      <td> r6gard</td>\n",
        "      <td>      r6gard</td>\n",
        "      <td>   regarder</td>\n",
        "    </tr>\n",
        "    <tr>\n",
        "      <th>44</th>\n",
        "      <td> 393</td>\n",
        "      <td>   rEst</td>\n",
        "      <td>        rEst</td>\n",
        "      <td>     rester</td>\n",
        "    </tr>\n",
        "    <tr>\n",
        "      <th>45</th>\n",
        "      <td> 397</td>\n",
        "      <td> r6truv</td>\n",
        "      <td>      r6truv</td>\n",
        "      <td>  retrouver</td>\n",
        "    </tr>\n",
        "    <tr>\n",
        "      <th>46</th>\n",
        "      <td> 431</td>\n",
        "      <td>     s\u00e2</td>\n",
        "      <td>          s\u00e2</td>\n",
        "      <td>     sentir</td>\n",
        "    </tr>\n",
        "    <tr>\n",
        "      <th>47</th>\n",
        "      <td> 437</td>\n",
        "      <td>    sOr</td>\n",
        "      <td>         sOr</td>\n",
        "      <td>     sortir</td>\n",
        "    </tr>\n",
        "    <tr>\n",
        "      <th>48</th>\n",
        "      <td> 440</td>\n",
        "      <td>  suvj\u00ea</td>\n",
        "      <td>       suvj\u00ea</td>\n",
        "      <td>   souvenir</td>\n",
        "    </tr>\n",
        "    <tr>\n",
        "      <th>49</th>\n",
        "      <td> 446</td>\n",
        "      <td>    sHi</td>\n",
        "      <td>         sHi</td>\n",
        "      <td>     suivre</td>\n",
        "    </tr>\n",
        "    <tr>\n",
        "      <th>50</th>\n",
        "      <td> 455</td>\n",
        "      <td>    tj\u00ea</td>\n",
        "      <td>         tj\u00ea</td>\n",
        "      <td>      tenir</td>\n",
        "    </tr>\n",
        "    <tr>\n",
        "      <th>51</th>\n",
        "      <td> 465</td>\n",
        "      <td> travaj</td>\n",
        "      <td>      travaj</td>\n",
        "      <td> travailler</td>\n",
        "    </tr>\n",
        "    <tr>\n",
        "      <th>52</th>\n",
        "      <td> 469</td>\n",
        "      <td>   truv</td>\n",
        "      <td>        truv</td>\n",
        "      <td>    trouver</td>\n",
        "    </tr>\n",
        "    <tr>\n",
        "      <th>53</th>\n",
        "      <td> 470</td>\n",
        "      <td>     ty</td>\n",
        "      <td>          ty</td>\n",
        "      <td>       tuer</td>\n",
        "    </tr>\n",
        "    <tr>\n",
        "      <th>54</th>\n",
        "      <td> 475</td>\n",
        "      <td>    vj\u00ea</td>\n",
        "      <td>         vj\u00ea</td>\n",
        "      <td>      venir</td>\n",
        "    </tr>\n",
        "    <tr>\n",
        "      <th>55</th>\n",
        "      <td> 481</td>\n",
        "      <td>    vwa</td>\n",
        "      <td>         vwa</td>\n",
        "      <td>       voir</td>\n",
        "    </tr>\n",
        "    <tr>\n",
        "      <th>56</th>\n",
        "      <td> 484</td>\n",
        "      <td>     v2</td>\n",
        "      <td>          v2</td>\n",
        "      <td>    vouloir</td>\n",
        "    </tr>\n",
        "    <tr>\n",
        "      <th>57</th>\n",
        "      <td> 247</td>\n",
        "      <td>  \u00eapOrt</td>\n",
        "      <td> \u00eapOrt,\u00eapOrt</td>\n",
        "      <td>   importer</td>\n",
        "    </tr>\n",
        "  </tbody>\n",
        "</table>\n",
        "</div>"
       ],
       "metadata": {},
       "output_type": "pyout",
       "prompt_number": 74,
       "text": [
        "case  index    pi1S         pI2S      lexeme\n",
        "0         0  ab\u00e2d\u00f2n       ab\u00e2d\u00f2n  abandonner\n",
        "1        11    adOr         adOr      adorer\n",
        "2        17      Em           Em       aimer\n",
        "3        18      v\u00e8           va       aller\n",
        "4        26    apEl         apEl     appeler\n",
        "5        31  apr\u00e8si       apr\u00e8si   appr\u00e9cier\n",
        "6        34    ariv         ariv     arriver\n",
        "7        36    arEt         arEt     arr\u00eater\n",
        "8        42     at\u00e2          at\u00e2    attendre\n",
        "9        45    av\u00e2s         av\u00e2s     avancer\n",
        "10       47       \u00e8            \u00e8       avoir\n",
        "11       78    SErS         SErS    chercher\n",
        "12       92   k\u00f4pr\u00e2        k\u00f4pr\u00e2  comprendre\n",
        "13      100    k\u00f2n\u00e8         k\u00f2n\u00e8   conna\u00eetre\n",
        "14      109  k\u00f4tiny       k\u00f4tiny   continuer\n",
        "15      123    krwa         krwa      croire\n",
        "16      130   d6m\u00e2d        d6m\u00e2d    demander\n",
        "17      134     dwa          dwa      devoir\n",
        "18      135      di           di        dire\n",
        "19      139     d\u00f2n          d\u00f2n      donner\n",
        "20      165   d\u00e8pES        d\u00e8pES    d\u00e9p\u00eacher\n",
        "21      194   EspEr        EspEr     esp\u00e9rer\n",
        "22      197  Ekskyz       Ekskyz     excuser\n",
        "23      204      f\u00e8           f\u00e8       faire\n",
        "25      262     lEs          lEs     laisser\n",
        "26      266     lEv          lEv       lever\n",
        "27      268      li           li        lire\n",
        "28      273     m\u00e2Z          m\u00e2Z      manger\n",
        "29      276    marS         marS     marcher\n",
        "30      279      m\u00e8           m\u00e8      mettre\n",
        "31      280     m\u00f4t          m\u00f4t      monter\n",
        "32      281    m\u00f4tr         m\u00f4tr     montrer\n",
        "33      295    \u00f2kyp         \u00f2kyp     occuper\n",
        "34      300    ubli         ubli     oublier\n",
        "35      307    parl         parl      parler\n",
        "36      310     pas          pas      passer\n",
        "37      313     p\u00e2s          p\u00e2s      penser\n",
        "38      323    pl9r         pl9r     pleurer\n",
        "39      326    pOrt         pOrt      porter\n",
        "40      334     pr\u00e2          pr\u00e2     prendre\n",
        "41      335     pri          pri       prier\n",
        "42      361   rapEl        rapEl    rappeler\n",
        "43      375  r6gard       r6gard    regarder\n",
        "44      393    rEst         rEst      rester\n",
        "45      397  r6truv       r6truv   retrouver\n",
        "46      431      s\u00e2           s\u00e2      sentir\n",
        "47      437     sOr          sOr      sortir\n",
        "48      440   suvj\u00ea        suvj\u00ea    souvenir\n",
        "49      446     sHi          sHi      suivre\n",
        "50      455     tj\u00ea          tj\u00ea       tenir\n",
        "51      465  travaj       travaj  travailler\n",
        "52      469    truv         truv     trouver\n",
        "53      470      ty           ty        tuer\n",
        "54      475     vj\u00ea          vj\u00ea       venir\n",
        "55      481     vwa          vwa        voir\n",
        "56      484      v2           v2     vouloir\n",
        "57      247   \u00eapOrt  \u00eapOrt,\u00eapOrt    importer"
       ]
      }
     ],
     "prompt_number": 74
    },
    {
     "cell_type": "code",
     "collapsed": false,
     "input": [
      "for name, group in paradigmePaire.groupby([\"patron1\",\"patron2\"]):#[[\"lexeme\",\"patron1\",\"patron2\"]].apply(lambda x: \", \".join(x[\"lexeme\"])):\n",
      "    print name\n",
      "    for element in group:\n",
      "        print group[element]"
     ],
     "language": "python",
     "metadata": {},
     "outputs": [
      {
       "output_type": "stream",
       "stream": "stdout",
       "text": [
        "case pi1S  fi1P   lexeme    rapports patron1 patron2\n",
        "47      \u00e8   \u00f2r\u00f4    avoir    (\u00e8, \u00f2r\u00f4)       \u00e8     \u00f2r\u00f4\n",
        "332    p2  pur\u00f4  pouvoir  (.2, .ur\u00f4)       2     ur\u00f4\n",
        "(u'2', u'ur\\xf4')\n",
        "332    p2\n",
        "Name: pi1S, dtype: object\n",
        "332    pur\u00f4\n",
        "Name: fi1P, dtype: object\n",
        "332    pouvoir\n",
        "Name: lexeme, dtype: object\n",
        "332    (.2, .ur\u00f4)\n",
        "Name: rapports, dtype: object\n",
        "332    2\n",
        "Name: patron1, dtype: object\n",
        "332    ur\u00f4\n",
        "Name: patron2, dtype: object\n",
        "(u'\\xe8', u'\\xf2r\\xf4')\n",
        "47    \u00e8\n",
        "Name: pi1S, dtype: object\n",
        "47    \u00f2r\u00f4\n",
        "Name: fi1P, dtype: object\n",
        "47    avoir\n",
        "Name: lexeme, dtype: object\n",
        "47    (\u00e8, \u00f2r\u00f4)\n",
        "Name: rapports, dtype: object\n",
        "47    \u00e8\n",
        "Name: patron1, dtype: object\n",
        "47    \u00f2r\u00f4\n",
        "Name: patron2, dtype: object\n"
       ]
      }
     ],
     "prompt_number": 43
    },
    {
     "cell_type": "code",
     "collapsed": false,
     "input": [
      "test=paradigmes[[\"lexeme\",\"pi1S\",\"pi3S\"]].dropna(thresh=2, axis=0).reindex()\n",
      "test"
     ],
     "language": "python",
     "metadata": {},
     "outputs": []
    },
    {
     "cell_type": "code",
     "collapsed": false,
     "input": [
      "test=splitCellMates(test,\"pi1S\")\n",
      "splitCellMates(test,\"pi3S\")"
     ],
     "language": "python",
     "metadata": {},
     "outputs": []
    },
    {
     "cell_type": "code",
     "collapsed": false,
     "input": [],
     "language": "python",
     "metadata": {},
     "outputs": []
    },
    {
     "cell_type": "code",
     "collapsed": false,
     "input": [],
     "language": "python",
     "metadata": {},
     "outputs": []
    },
    {
     "cell_type": "code",
     "collapsed": false,
     "input": [],
     "language": "python",
     "metadata": {},
     "outputs": []
    },
    {
     "cell_type": "code",
     "collapsed": false,
     "input": [],
     "language": "python",
     "metadata": {},
     "outputs": []
    },
    {
     "cell_type": "code",
     "collapsed": false,
     "input": [],
     "language": "python",
     "metadata": {},
     "outputs": []
    },
    {
     "cell_type": "code",
     "collapsed": false,
     "input": [],
     "language": "python",
     "metadata": {},
     "outputs": []
    },
    {
     "cell_type": "code",
     "collapsed": false,
     "input": [],
     "language": "python",
     "metadata": {},
     "outputs": []
    },
    {
     "cell_type": "code",
     "collapsed": false,
     "input": [],
     "language": "python",
     "metadata": {},
     "outputs": []
    },
    {
     "cell_type": "code",
     "collapsed": false,
     "input": [],
     "language": "python",
     "metadata": {},
     "outputs": []
    },
    {
     "cell_type": "markdown",
     "metadata": {},
     "source": [
      "##Tirages pour les statistiques de remplissage des paradigmes"
     ]
    },
    {
     "cell_type": "code",
     "collapsed": false,
     "input": [
      "manquantesMoyenne={}\n",
      "annexesMoyenne={}\n",
      "%%time\n",
      "nbTirages=250\n",
      "echantillonTailles=[250*x for x in range(2,10)]\n",
      "\n",
      "def remplissageParadigmes(nbTirages,echantillonTailles)\n",
      "    for echantillonTaille in echantillonTailles:\n",
      "        nbManquantes=0\n",
      "        nbAnnexes=0\n",
      "        for n in range(nbTirages):\n",
      "            tirage=np.random.choice(verbes.index,size=echantillonTaille,p=verbes[\"prob\"],replace=False)\n",
      "            extrait=verbes.ix[np.sort(tirage)]\n",
      "            paradigmes=pd.pivot_table(extrait, values='phono', index=['lexeme'], columns=['case'], aggfunc=lambda x: x)\n",
      "            paradigmes.count()\n",
      "            manquantes=[case for case in casesPrincipales if not case in extrait[extrait[\"lexeme\"].isin(casesPrincipales)][\"case\"].unique()]\n",
      "            annexes=[case for case in casesSecondaires if not case in extrait[extrait[\"lexeme\"].isin(casesSecondaires)][\"case\"].unique()]\n",
      "            if manquantes :\n",
      "                nbManquantes+=1\n",
      "            if annexes:\n",
      "                nbAnnexes+=1\n",
      "        manquantesMoyenne[echantillonTaille]=100*float(nbManquantes)/nbTirages\n",
      "        annexesMoyenne[echantillonTaille]=100*float(nbAnnexes)/nbTirages"
     ],
     "language": "python",
     "metadata": {},
     "outputs": []
    },
    {
     "cell_type": "code",
     "collapsed": false,
     "input": [
      "paradigmes=pd.pivot_table(extrait, values='phono', index=['lexeme'], columns=['case'], aggfunc=lambda x: x)\n",
      "paradigmes"
     ],
     "language": "python",
     "metadata": {},
     "outputs": []
    },
    {
     "cell_type": "code",
     "collapsed": false,
     "input": [
      "tirage.dtype"
     ],
     "language": "python",
     "metadata": {},
     "outputs": []
    },
    {
     "cell_type": "code",
     "collapsed": false,
     "input": [
      "tirages=[]\n",
      "increment=250\n",
      "resteVerbes=verbes\n",
      "resteVerbes.index\n",
      "for i in range(32):\n",
      "    tirage=np.random.choice(resteVerbes.index,size=increment,p=resteVerbes[\"prob\"],replace=False)\n",
      "    print tirage\n",
      "    resteVerbes.drop(resteVerbes.index[tirage])\n",
      "    print resteVerbes.count()\n",
      "    tirages.append(tirage)"
     ],
     "language": "python",
     "metadata": {},
     "outputs": []
    },
    {
     "cell_type": "code",
     "collapsed": false,
     "input": [
      "formes=[]\n",
      "for tirage in tirages:\n",
      "    formes.extend(tirage)\n",
      "extrait=verbes.ix[np.sort(formes)]"
     ],
     "language": "python",
     "metadata": {},
     "outputs": []
    },
    {
     "cell_type": "code",
     "collapsed": false,
     "input": [
      "paradigmes=pd.pivot_table(extrait, values='phono', index=['lexeme'], columns=['case'], aggfunc=lambda x: x)"
     ],
     "language": "python",
     "metadata": {},
     "outputs": []
    },
    {
     "cell_type": "code",
     "collapsed": false,
     "input": [
      "resteVerbes.index"
     ],
     "language": "python",
     "metadata": {},
     "outputs": []
    },
    {
     "cell_type": "code",
     "collapsed": false,
     "input": [
      "%%time\n",
      "nbTirages=250\n",
      "echantillonTailles=[250*x for x in range(2,10)]\n",
      "\n",
      "for echantillonTaille in echantillonTailles:\n",
      "    nbManquantes=0\n",
      "    nbAnnexes=0\n",
      "    for n in range(nbTirages):\n",
      "        tirage=np.random.choice(verbes.index,size=echantillonTaille,p=verbes[\"prob\"],replace=False)\n",
      "        extrait=verbes.ix[np.sort(tirage)]\n",
      "        formes=extrait.groupby([\"lexeme\"])[\"case\"].count()\n",
      "        liste=formes[formes>1].index\n",
      "        manquantes=[case for case in casesPrincipales if not case in extrait[extrait[\"lexeme\"].isin(liste)][\"case\"].unique()]\n",
      "        annexes=[case for case in casesSecondaires if not case in extrait[extrait[\"lexeme\"].isin(liste)][\"case\"].unique()]\n",
      "        if manquantes :\n",
      "            nbManquantes+=1\n",
      "        if annexes:\n",
      "            nbAnnexes+=1\n",
      "    manquantesMoyenne[echantillonTaille]=100*float(nbManquantes)/nbTirages\n",
      "    annexesMoyenne[echantillonTaille]=100*float(nbAnnexes)/nbTirages"
     ],
     "language": "python",
     "metadata": {},
     "outputs": []
    },
    {
     "cell_type": "code",
     "collapsed": false,
     "input": [
      "courbeSecondaires=pd.Series(annexesMoyenne)\n",
      "courbePrincipales=pd.Series(manquantesMoyenne)"
     ],
     "language": "python",
     "metadata": {},
     "outputs": []
    },
    {
     "cell_type": "code",
     "collapsed": false,
     "input": [
      "courbePrincipales.plot()\n",
      "courbeSecondaires.plot()"
     ],
     "language": "python",
     "metadata": {},
     "outputs": []
    },
    {
     "cell_type": "code",
     "collapsed": false,
     "input": [
      "formes[formes>1]"
     ],
     "language": "python",
     "metadata": {},
     "outputs": []
    },
    {
     "cell_type": "code",
     "collapsed": false,
     "input": [
      "tirageCases=extrait[extrait[\"lexeme\"].isin(liste)].groupby([\"lexeme\"])[\"case\"].apply(lambda x: list(x)).copy()\n",
      "#tirageCases[\"paires\"]=tirageCases[\"cases\"].apply(lambda x: [(y,z) for (y,z) in it.product(x,x) if y!=z])"
     ],
     "language": "python",
     "metadata": {},
     "outputs": []
    },
    {
     "cell_type": "code",
     "collapsed": false,
     "input": [
      "nbPaires={}\n",
      "for paire in produitPrincipal:\n",
      "#    print paire\n",
      "    for index,row in tirageCases.iteritems():\n",
      "#        print row\n",
      "        if paire[0] in row and paire[1] in row:\n",
      "            if not paire in nbPaires:\n",
      "                nbPaires[paire]=0\n",
      "            nbPaires[paire]+=1"
     ],
     "language": "python",
     "metadata": {},
     "outputs": []
    },
    {
     "cell_type": "code",
     "collapsed": false,
     "input": [
      "nbPairesSuffisantes=pd.Series()\n",
      "for seuil in range(10):\n",
      "    pairesManquantes=produitPrincipal[:]\n",
      "    for paire in nbPaires:\n",
      "        if nbPaires[paire]>seuil:\n",
      "            pairesManquantes.remove(paire)\n",
      "    nbPairesSuffisantes.loc[seuil]=len(produitPrincipal)-len(pairesManquantes)"
     ],
     "language": "python",
     "metadata": {},
     "outputs": []
    }
   ],
   "metadata": {}
  }
 ]
}