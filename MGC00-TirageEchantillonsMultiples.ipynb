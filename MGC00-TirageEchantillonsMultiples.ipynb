{
 "cells": [
  {
   "cell_type": "code",
   "execution_count": 1,
   "metadata": {
    "collapsed": true
   },
   "outputs": [],
   "source": [
    "# -*- coding: utf8 -*-\n",
    "import pandas as pd\n",
    "import pickle, random"
   ]
  },
  {
   "cell_type": "code",
   "execution_count": 2,
   "metadata": {
    "collapsed": true
   },
   "outputs": [],
   "source": [
    "million=1000000\n",
    "nbMillions=100\n",
    "nSamples=50\n",
    "lexiquePrefix=\"MGC-160104\"\n",
    "tiragePrefix=\"MGC-170507\"\n",
    "echantillon=\"-%dMo\"%nbMillions"
   ]
  },
  {
   "cell_type": "code",
   "execution_count": 3,
   "metadata": {
    "collapsed": true
   },
   "outputs": [],
   "source": [
    "with open(\"/Users/gilles/Box Sync/2015-Data/\"+lexiquePrefix+'-Verbes2.pkl', 'rb') as input:\n",
    "    lexiqueBase = pickle.load(input)"
   ]
  },
  {
   "cell_type": "code",
   "execution_count": null,
   "metadata": {
    "collapsed": true
   },
   "outputs": [],
   "source": [
    "lexiqueBase[\"freqcum\"]= (lexiqueBase[\"freq\"].cumsum()*1000).astype(int)"
   ]
  },
  {
   "cell_type": "code",
   "execution_count": null,
   "metadata": {
    "collapsed": true
   },
   "outputs": [],
   "source": [
    "rangeTop=lexiqueBase[\"freqcum\"].max()"
   ]
  },
  {
   "cell_type": "code",
   "execution_count": null,
   "metadata": {
    "collapsed": true
   },
   "outputs": [],
   "source": [
    "del lexiqueBase[\"ext\"]\n",
    "del lexiqueBase[\"cs\"]\n",
    "del lexiqueBase[\"ms\"]\n",
    "del lexiqueBase[\"vs\"]\n",
    "del lexiqueBase[\"prob\"]"
   ]
  },
  {
   "cell_type": "code",
   "execution_count": null,
   "metadata": {
    "collapsed": true
   },
   "outputs": [],
   "source": [
    "lexiqueBase[\"tir1\"]=0"
   ]
  },
  {
   "cell_type": "code",
   "execution_count": null,
   "metadata": {
    "collapsed": true
   },
   "outputs": [],
   "source": [
    "def tirageIndex():\n",
    "    tirage=[]\n",
    "    for n in range(nbMillions*million):\n",
    "        tirage.append(random.randrange(rangeTop))\n",
    "    return tirage"
   ]
  },
  {
   "cell_type": "code",
   "execution_count": null,
   "metadata": {},
   "outputs": [],
   "source": [
    "%%time\n",
    "def tirage2triage(tirage):    \n",
    "    triage=sorted(tirage)\n",
    "    freqTop=0\n",
    "    indexMin=0\n",
    "    tirs={}\n",
    "    lexique=lexiqueBase.copy()\n",
    "    lexique[\"tir1\"]=0\n",
    "    for num,tir in enumerate(triage[:]):\n",
    "        if tir > freqTop:\n",
    "            indexMin=lexique[lexique[\"freqcum\"]>=tir][0:1].index.astype(int)[0]\n",
    "            freqTop=lexique.ix[indexMin,'freqcum']\n",
    "            tirs[indexMin]=0\n",
    "        tirs[indexMin] += 1\n",
    "        if num%5000000==0:\n",
    "            print num,\n",
    "    print\n",
    "    for indexNum in tirs:\n",
    "        lexique.ix[indexNum,'tir1']+=tirs[indexNum]\n",
    "    return lexique"
   ]
  },
  {
   "cell_type": "code",
   "execution_count": null,
   "metadata": {
    "scrolled": true
   },
   "outputs": [],
   "source": [
    "for nSample in range(nSamples):\n",
    "    tirage=tirageIndex()\n",
    "    %time lexique=tirage2triage(tirage)\n",
    "    print\n",
    "    print \"nSample\",nSample\n",
    "    print lexique[lexique[\"tir1\"]!=0][\"tir1\"].sum()\n",
    "    print lexique[lexique[\"tir1\"]!=0][\"tir1\"].count()\n",
    "    with open(\"/Users/gilles/Box Sync/2015-Data/\"+tiragePrefix+\"-%2d\"%nSample+echantillon+'-Tirage.pkl', 'wb') as output:\n",
    "        pickle.dump(lexique, output, pickle.HIGHEST_PROTOCOL)\n",
    "#    lexiqueBase[\"tir1\"]+=lexique[\"tir1\"]\n",
    "#print lexiqueBase[lexiqueBase[\"tir1\"]!=0][\"tir1\"].sum()\n",
    "#print lexiqueBase[lexiqueBase[\"tir1\"]!=0][\"tir1\"].count()\n",
    "#with open(\"/Users/gilles/ownCloud/Recherche/Boye/2015-Data/\"+tiragePrefix+\"-%2d\"%nSamples+\"-Total\"+echantillon+'-Tirage.pkl', 'wb') as output:\n",
    "#    pickle.dump(lexiqueBase, output, pickle.HIGHEST_PROTOCOL)\n"
   ]
  }
 ],
 "metadata": {
  "kernelspec": {
   "display_name": "Python 2",
   "language": "python",
   "name": "python2"
  },
  "language_info": {
   "codemirror_mode": {
    "name": "ipython",
    "version": 2
   },
   "file_extension": ".py",
   "mimetype": "text/x-python",
   "name": "python",
   "nbconvert_exporter": "python",
   "pygments_lexer": "ipython2",
   "version": "2.7.11"
  }
 },
 "nbformat": 4,
 "nbformat_minor": 1
}
