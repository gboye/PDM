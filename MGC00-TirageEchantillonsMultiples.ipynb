{
 "cells": [
  {
   "cell_type": "code",
   "execution_count": 11,
   "metadata": {
    "collapsed": true
   },
   "outputs": [],
   "source": [
    "# -*- coding: utf8 -*-\n",
    "import pandas as pd\n",
    "import pickle, random"
   ]
  },
  {
   "cell_type": "code",
   "execution_count": 12,
   "metadata": {
    "collapsed": true
   },
   "outputs": [],
   "source": [
    "unite=1000\n",
    "nbUnites=10\n",
    "nSamples=10\n",
    "lexiquePrefix=\"MGC-160104\"\n",
    "lexiquePrefix=\"MGC-170716\"\n",
    "tiragePrefix=\"MGC-170717\"\n",
    "echantillon=\"-%dKo\"%nbUnites\n",
    "bdlexique=False"
   ]
  },
  {
   "cell_type": "code",
   "execution_count": 13,
   "metadata": {
    "collapsed": true
   },
   "outputs": [],
   "source": [
    "if bdlexique:\n",
    "    with open(\"/Users/gilles/Box Sync/2015-Data/\"+lexiquePrefix+'-Verbes2.pkl', 'rb') as input:\n",
    "        lexiqueBase = pickle.load(input)\n",
    "else:\n",
    "    with open(\"/Users/gilles/Box Sync/2015-Data/\"+lexiquePrefix+'-Adjectifs.pkl', 'rb') as input:\n",
    "        lexiqueBase = pickle.load(input)\n"
   ]
  },
  {
   "cell_type": "code",
   "execution_count": 14,
   "metadata": {
    "collapsed": true
   },
   "outputs": [],
   "source": [
    "lexiqueBase[\"freqcum\"]= (lexiqueBase[\"freq\"].cumsum()*1000).astype(int)"
   ]
  },
  {
   "cell_type": "code",
   "execution_count": 15,
   "metadata": {
    "collapsed": true
   },
   "outputs": [],
   "source": [
    "rangeTop=lexiqueBase[\"freqcum\"].max()"
   ]
  },
  {
   "cell_type": "code",
   "execution_count": 16,
   "metadata": {
    "collapsed": true
   },
   "outputs": [],
   "source": [
    "if bdlexique:\n",
    "    del lexiqueBase[\"ext\"]\n",
    "    del lexiqueBase[\"cs\"]\n",
    "    del lexiqueBase[\"ms\"]\n",
    "    del lexiqueBase[\"vs\"]\n",
    "    del lexiqueBase[\"prob\"]"
   ]
  },
  {
   "cell_type": "code",
   "execution_count": 17,
   "metadata": {
    "collapsed": true
   },
   "outputs": [],
   "source": [
    "lexiqueBase[\"tir1\"]=0"
   ]
  },
  {
   "cell_type": "code",
   "execution_count": 18,
   "metadata": {
    "collapsed": true
   },
   "outputs": [],
   "source": [
    "def tirageIndex():\n",
    "    tirage=[]\n",
    "    for n in range(nbUnites*unite):\n",
    "        tirage.append(random.randrange(rangeTop))\n",
    "    return tirage"
   ]
  },
  {
   "cell_type": "code",
   "execution_count": 19,
   "metadata": {},
   "outputs": [
    {
     "name": "stdout",
     "output_type": "stream",
     "text": [
      "CPU times: user 6 µs, sys: 1 µs, total: 7 µs\n",
      "Wall time: 11 µs\n"
     ]
    }
   ],
   "source": [
    "%%time\n",
    "def tirage2triage(tirage):    \n",
    "    triage=sorted(tirage)\n",
    "    freqTop=0\n",
    "    indexMin=0\n",
    "    tirs={}\n",
    "    lexique=lexiqueBase.copy()\n",
    "    lexique[\"tir1\"]=0\n",
    "    for num,tir in enumerate(triage[:]):\n",
    "        if tir > freqTop:\n",
    "            indexMin=lexique[lexique[\"freqcum\"]>=tir][0:1].index.astype(int)[0]\n",
    "            freqTop=lexique.ix[indexMin,'freqcum']\n",
    "            tirs[indexMin]=0\n",
    "        tirs[indexMin] += 1\n",
    "        if num%5000000==0:\n",
    "            print num,\n",
    "    print\n",
    "    for indexNum in tirs:\n",
    "        lexique.ix[indexNum,'tir1']+=tirs[indexNum]\n",
    "    return lexique"
   ]
  },
  {
   "cell_type": "code",
   "execution_count": 20,
   "metadata": {
    "scrolled": true
   },
   "outputs": [
    {
     "name": "stdout",
     "output_type": "stream",
     "text": [
      "0\n",
      "CPU times: user 11.9 s, sys: 146 ms, total: 12 s\n",
      "Wall time: 12.1 s\n",
      "\n",
      "nSample 0\n",
      "10000\n",
      "3068\n",
      "0\n",
      "CPU times: user 12.3 s, sys: 139 ms, total: 12.4 s\n",
      "Wall time: 12.5 s\n",
      "\n",
      "nSample 1\n",
      "10000\n",
      "3102\n",
      "0\n",
      "CPU times: user 12.7 s, sys: 327 ms, total: 13 s\n",
      "Wall time: 13.9 s\n",
      "\n",
      "nSample 2\n",
      "10000\n",
      "3019\n",
      "0\n",
      "CPU times: user 12.3 s, sys: 210 ms, total: 12.5 s\n",
      "Wall time: 12.9 s\n",
      "\n",
      "nSample 3\n",
      "10000\n",
      "2991\n",
      "0\n",
      "CPU times: user 12.1 s, sys: 148 ms, total: 12.2 s\n",
      "Wall time: 12.4 s\n",
      "\n",
      "nSample 4\n",
      "10000\n",
      "3107\n",
      "0\n",
      "CPU times: user 11.7 s, sys: 142 ms, total: 11.8 s\n",
      "Wall time: 12.1 s\n",
      "\n",
      "nSample 5\n",
      "10000\n",
      "3044\n",
      "0\n",
      "CPU times: user 11.5 s, sys: 138 ms, total: 11.7 s\n",
      "Wall time: 11.9 s\n",
      "\n",
      "nSample 6\n",
      "10000\n",
      "3013\n",
      "0\n",
      "CPU times: user 11.5 s, sys: 136 ms, total: 11.6 s\n",
      "Wall time: 11.8 s\n",
      "\n",
      "nSample 7\n",
      "10000\n",
      "3000\n",
      "0\n",
      "CPU times: user 11.4 s, sys: 131 ms, total: 11.6 s\n",
      "Wall time: 11.7 s\n",
      "\n",
      "nSample 8\n",
      "10000\n",
      "2985\n",
      "0\n",
      "CPU times: user 11.9 s, sys: 169 ms, total: 12.1 s\n",
      "Wall time: 12.3 s\n",
      "\n",
      "nSample 9\n",
      "10000\n",
      "2994\n"
     ]
    }
   ],
   "source": [
    "for nSample in range(nSamples):\n",
    "    tirage=tirageIndex()\n",
    "    %time lexique=tirage2triage(tirage)\n",
    "    print\n",
    "    print \"nSample\",nSample\n",
    "    print lexique[lexique[\"tir1\"]!=0][\"tir1\"].sum()\n",
    "    print lexique[lexique[\"tir1\"]!=0][\"tir1\"].count()\n",
    "    with open(\"/Users/gilles/Box Sync/2015-Data/\"+tiragePrefix+\"-%02d\"%nSample+echantillon+'-Tirage.pkl', 'wb') as output:\n",
    "        pickle.dump(lexique, output, pickle.HIGHEST_PROTOCOL)\n",
    "#    lexiqueBase[\"tir1\"]+=lexique[\"tir1\"]\n",
    "#print lexiqueBase[lexiqueBase[\"tir1\"]!=0][\"tir1\"].sum()\n",
    "#print lexiqueBase[lexiqueBase[\"tir1\"]!=0][\"tir1\"].count()\n",
    "#with open(\"/Users/gilles/ownCloud/Recherche/Boye/2015-Data/\"+tiragePrefix+\"-%2d\"%nSamples+\"-Total\"+echantillon+'-Tirage.pkl', 'wb') as output:\n",
    "#    pickle.dump(lexiqueBase, output, pickle.HIGHEST_PROTOCOL)\n"
   ]
  },
  {
   "cell_type": "code",
   "execution_count": null,
   "metadata": {
    "collapsed": true
   },
   "outputs": [],
   "source": []
  }
 ],
 "metadata": {
  "kernelspec": {
   "display_name": "Python 2",
   "language": "python",
   "name": "python2"
  },
  "language_info": {
   "codemirror_mode": {
    "name": "ipython",
    "version": 2
   },
   "file_extension": ".py",
   "mimetype": "text/x-python",
   "name": "python",
   "nbconvert_exporter": "python",
   "pygments_lexer": "ipython2",
   "version": "2.7.11"
  }
 },
 "nbformat": 4,
 "nbformat_minor": 1
}
