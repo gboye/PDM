{
 "cells": [
  {
   "cell_type": "code",
   "execution_count": 47,
   "metadata": {},
   "outputs": [],
   "source": [
    "# -*- coding: utf8 -*-\n",
    "import pandas as pd\n",
    "import pickle, random"
   ]
  },
  {
   "cell_type": "code",
   "execution_count": 48,
   "metadata": {
    "collapsed": true
   },
   "outputs": [],
   "source": [
    "unite=1000\n",
    "nbUnites=10\n",
    "nSamples=50\n",
    "prefix=\"MGC\"\n",
    "lexiquePrefix=\"MGC-160104\"\n",
    "lexiquePrefix=\"MGC-170716\"\n",
    "lexiquePrefix=\"MGC-171229\"\n",
    "dateStamp=\"-180107\"\n",
    "echantillon=\"-%dKo\"%nbUnites\n",
    "bdlexique=True"
   ]
  },
  {
   "cell_type": "code",
   "execution_count": 49,
   "metadata": {
    "collapsed": true
   },
   "outputs": [],
   "source": [
    "if bdlexique:\n",
    "    with open(\"/Volumes/gilles/Transfert/Copies-iMac-GB/2015-Data/\"+lexiquePrefix+'-Verbes3.pkl', 'rb') as input:\n",
    "        lexiqueBase = pickle.load(input)\n",
    "else:\n",
    "    with open(\"/Volumes/gilles/Transfert/Copies-iMac-GB/2015-Data/\"+lexiquePrefix+'-Adjectifs.pkl', 'rb') as input:\n",
    "        lexiqueBase = pickle.load(input)\n"
   ]
  },
  {
   "cell_type": "code",
   "execution_count": 50,
   "metadata": {
    "collapsed": true
   },
   "outputs": [],
   "source": [
    "lexiqueBase[\"freqcum\"]= (lexiqueBase[\"freq\"].cumsum()*1000).astype(int)"
   ]
  },
  {
   "cell_type": "code",
   "execution_count": 51,
   "metadata": {
    "collapsed": true
   },
   "outputs": [],
   "source": [
    "rangeTop=lexiqueBase[\"freqcum\"].max()"
   ]
  },
  {
   "cell_type": "code",
   "execution_count": 52,
   "metadata": {
    "collapsed": true
   },
   "outputs": [],
   "source": [
    "if bdlexique:\n",
    "    del lexiqueBase[\"ext\"]\n",
    "    del lexiqueBase[\"cs\"]\n",
    "    del lexiqueBase[\"ms\"]\n",
    "    del lexiqueBase[\"vs\"]\n",
    "    del lexiqueBase[\"prob\"]"
   ]
  },
  {
   "cell_type": "code",
   "execution_count": 53,
   "metadata": {
    "collapsed": true
   },
   "outputs": [],
   "source": [
    "lexiqueBase[\"tir1\"]=0"
   ]
  },
  {
   "cell_type": "code",
   "execution_count": 54,
   "metadata": {
    "collapsed": true
   },
   "outputs": [],
   "source": [
    "def tirageIndex():\n",
    "    tirage=[]\n",
    "    for n in range(nbUnites*unite):\n",
    "        tirage.append(random.randrange(rangeTop))\n",
    "    return tirage"
   ]
  },
  {
   "cell_type": "code",
   "execution_count": null,
   "metadata": {},
   "outputs": [
    {
     "name": "stdout",
     "output_type": "stream",
     "text": [
      "CPU times: user 6 µs, sys: 1e+03 ns, total: 7 µs\n",
      "Wall time: 9.06 µs\n"
     ]
    }
   ],
   "source": [
    "%%time\n",
    "def tirage2triage(tirage):    \n",
    "    triage=sorted(tirage)\n",
    "    freqTop=0\n",
    "    indexMin=0\n",
    "    tirs={}\n",
    "    lexique=lexiqueBase.copy()\n",
    "    lexique[\"tir1\"]=0\n",
    "    for num,tir in enumerate(triage[:]):\n",
    "        if tir > freqTop:\n",
    "            indexMin=lexique[lexique[\"freqcum\"]>=tir][0:1].index.astype(int)[0]\n",
    "            freqTop=lexique.ix[indexMin,'freqcum']\n",
    "            tirs[indexMin]=0\n",
    "        tirs[indexMin] += 1\n",
    "        if num%5000000==0:\n",
    "            print num,\n",
    "    print\n",
    "    for indexNum in tirs:\n",
    "        lexique.ix[indexNum,'tir1']+=tirs[indexNum]\n",
    "    return lexique"
   ]
  },
  {
   "cell_type": "code",
   "execution_count": null,
   "metadata": {
    "scrolled": true
   },
   "outputs": [
    {
     "name": "stdout",
     "output_type": "stream",
     "text": [
      "0\n",
      "CPU times: user 52.1 s, sys: 5.39 s, total: 57.5 s\n",
      "Wall time: 1min 44s\n",
      "\n",
      "nSample 0\n",
      "10000\n",
      "3644\n",
      "0\n",
      "CPU times: user 51.8 s, sys: 1.59 s, total: 53.4 s\n",
      "Wall time: 1min 37s\n",
      "\n",
      "nSample 1\n",
      "10000\n",
      "3724\n",
      "0\n",
      "CPU times: user 50.1 s, sys: 1.55 s, total: 51.6 s\n",
      "Wall time: 1min 34s\n",
      "\n",
      "nSample 2\n",
      "10000\n",
      "3608\n"
     ]
    }
   ],
   "source": [
    "for nSample in range(nSamples):\n",
    "    tirage=tirageIndex()\n",
    "    %time lexique=tirage2triage(tirage)\n",
    "    print\n",
    "    print \"nSample\",nSample\n",
    "    print lexique[lexique[\"tir1\"]!=0][\"tir1\"].sum()\n",
    "    print lexique[lexique[\"tir1\"]!=0][\"tir1\"].count()\n",
    "    with open(\"/Volumes/gilles/Transfert/Copies-iMac-GB/2015-Data/Samples/Verbes3/\"+prefix+echantillon+\"-%02d\"%nSample+dateStamp+'-Tirage.pkl', 'wb') as output:\n",
    "        pickle.dump(lexique, output, pickle.HIGHEST_PROTOCOL)\n",
    "#    lexiqueBase[\"tir1\"]+=lexique[\"tir1\"]\n",
    "#print lexiqueBase[lexiqueBase[\"tir1\"]!=0][\"tir1\"].sum()\n",
    "#print lexiqueBase[lexiqueBase[\"tir1\"]!=0][\"tir1\"].count()\n",
    "#with open(\"/Users/gilles/ownCloud/Recherche/Boye/2015-Data/\"+tiragePrefix+\"-%2d\"%nSamples+\"-Total\"+echantillon+'-Tirage.pkl', 'wb') as output:\n",
    "#    pickle.dump(lexiqueBase, output, pickle.HIGHEST_PROTOCOL)\n"
   ]
  },
  {
   "cell_type": "code",
   "execution_count": null,
   "metadata": {
    "collapsed": true
   },
   "outputs": [],
   "source": [
    "#\"/Users/gilles/Box Sync/2015-Data/\"+tiragePrefix+echantillon+\"-%02d\"%nSamples+'-Tirage.pkl'"
   ]
  },
  {
   "cell_type": "code",
   "execution_count": null,
   "metadata": {},
   "outputs": [],
   "source": [
    "import cellbell\n",
    "%ding"
   ]
  },
  {
   "cell_type": "code",
   "execution_count": null,
   "metadata": {
    "collapsed": true
   },
   "outputs": [],
   "source": []
  }
 ],
 "metadata": {
  "kernelspec": {
   "display_name": "Python 2",
   "language": "python",
   "name": "python2"
  },
  "language_info": {
   "codemirror_mode": {
    "name": "ipython",
    "version": 2
   },
   "file_extension": ".py",
   "mimetype": "text/x-python",
   "name": "python",
   "nbconvert_exporter": "python",
   "pygments_lexer": "ipython2",
   "version": "2.7.11"
  }
 },
 "nbformat": 4,
 "nbformat_minor": 1
}
