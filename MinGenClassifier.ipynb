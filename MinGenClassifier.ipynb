{
 "metadata": {
  "name": "",
  "signature": "sha256:a2a71d01600008645434c3ad96a3b0f7a2210f1b472732ee8778fee64a5a4ae7"
 },
 "nbformat": 3,
 "nbformat_minor": 0,
 "worksheets": [
  {
   "cells": [
    {
     "cell_type": "markdown",
     "metadata": {},
     "source": [
      "typeEchantillon : \n",
      "- fixe pour utiliser tailleEchantillon\n",
      "- variable pour utiliser nombre,increment,nombreInitial\n",
      "- total pour utiliser tout le lexique"
     ]
    },
    {
     "cell_type": "code",
     "collapsed": false,
     "input": [
      "typeEchantillon=\"total\"\n",
      "tailleEchantillon=30000\n",
      "nombre=1000\n",
      "increment=250\n",
      "nombreInitial=20"
     ],
     "language": "python",
     "metadata": {},
     "outputs": [],
     "prompt_number": 1
    },
    {
     "cell_type": "markdown",
     "metadata": {},
     "source": [
      "##Importations\n",
      "- codecs pour les encodages\n",
      "- pandas et numpy pour les calculs sur tableaux\n",
      "- matplotlib pour les graphiques\n",
      "- itertools pour les it\u00e9rateurs sophistiqu\u00e9s (paires sur liste, ...)"
     ]
    },
    {
     "cell_type": "code",
     "collapsed": false,
     "input": [
      "# -*- coding: utf8 -*-\n",
      "import codecs\n",
      "import features\n",
      "import re\n",
      "import pandas as pd\n",
      "import numpy as np\n",
      "import matplotlib.pyplot as plt\n",
      "import itertools as it\n",
      "import pickle\n",
      "#%pylab inline\n",
      "#pd.options.display.mpl_style = 'default'\n",
      "debug=False"
     ],
     "language": "python",
     "metadata": {},
     "outputs": [],
     "prompt_number": 2
    },
    {
     "cell_type": "markdown",
     "metadata": {},
     "source": [
      "###Pr\u00e9paration des matrices de traits"
     ]
    },
    {
     "cell_type": "code",
     "collapsed": false,
     "input": [
      "features.add_config('bdlexique.ini')\n",
      "fs=features.FeatureSystem('phonemes')\n",
      "#fs.supremum.concept.extent"
     ],
     "language": "python",
     "metadata": {},
     "outputs": [],
     "prompt_number": 3
    },
    {
     "cell_type": "code",
     "collapsed": false,
     "input": [
      "bdlexiqueIn = unicode(u\"\u00e8\u00f2\")\n",
      "bdlexiqueNum = [ord(char) for char in bdlexiqueIn]\n",
      "neutreOut = unicode(u\"EO\")\n",
      "neutralise = dict(zip(bdlexiqueNum, neutreOut))"
     ],
     "language": "python",
     "metadata": {},
     "outputs": [],
     "prompt_number": 4
    },
    {
     "cell_type": "code",
     "collapsed": false,
     "input": [
      "def recoder(chaine,table=neutralise):\n",
      "    if type(chaine)==str:\n",
      "        temp=unicode(chaine.decode('utf8')).translate(table)\n",
      "        result=temp.encode('utf8')\n",
      "    elif type(chaine)==unicode:\n",
      "        result=chaine.translate(table)\n",
      "    return result"
     ],
     "language": "python",
     "metadata": {},
     "outputs": [],
     "prompt_number": 5
    },
    {
     "cell_type": "code",
     "collapsed": false,
     "input": [
      "filePrefix=\"MGC-\""
     ],
     "language": "python",
     "metadata": {},
     "outputs": [],
     "prompt_number": 6
    },
    {
     "cell_type": "markdown",
     "metadata": {},
     "source": [
      "#Pr\u00e9paration du tableau de VERBES"
     ]
    },
    {
     "cell_type": "markdown",
     "metadata": {},
     "source": [
      "###Lecture du lexique"
     ]
    },
    {
     "cell_type": "code",
     "collapsed": false,
     "input": [
      "nomLexique=\"/Users/gilles/Copy/Python/phonemisation/bdlexique-PDM.txt\"\n",
      "bdlexique=pd.read_csv(nomLexique,sep=\";\",names=[\"ortho\",\"phono\",\"ext\",\"cs\",\"ms\",\"vs\",\"lexeme\",\"L23\",\"lemmeFrantext\",\"lemmeFilms\",\"formeFrantext\",\"formeFilms\"],encoding=\"utf8\")"
     ],
     "language": "python",
     "metadata": {},
     "outputs": [],
     "prompt_number": 7
    },
    {
     "cell_type": "markdown",
     "metadata": {},
     "source": [
      "###D\u00e9finition des cases\n",
      "- principales pour le paradigme courant\n",
      "- secondaires pour les cases rares\n",
      "- totales pour le tout"
     ]
    },
    {
     "cell_type": "code",
     "collapsed": false,
     "input": [
      "casesPrincipales= [\n",
      "        'inf', 'pi1S', 'pi2S', 'pi3S', 'pi1P', 'pi2P', 'pi3P', 'ii1S',\n",
      "        'ii2S', 'ii3S', 'ii1P', 'ii2P', 'ii3P', \n",
      "        'fi1S', 'fi2S', 'fi3S', 'fi1P', 'fi2P',\n",
      "        'fi3P', 'pI2S', 'pI1P', 'pI2P', 'ps1S', 'ps2S', 'ps3S', 'ps1P',\n",
      "        'ps2P', 'ps3P', \n",
      "        'pc1S', 'pc2S', 'pc3S', 'pc1P', 'pc2P', 'pc3P', 'pP'\n",
      "            ]\n",
      "casesSecondaires= [\n",
      "       'ai1S', 'ai2S', 'ai3S', 'ai1P', 'ai2P', 'ai3P', 'is1S', 'is2S', 'is3S', 'is1P', 'is2P', 'is3P'\n",
      "            ]\n",
      "casesTotales=casesPrincipales+casesSecondaires"
     ],
     "language": "python",
     "metadata": {},
     "outputs": [],
     "prompt_number": 8
    },
    {
     "cell_type": "markdown",
     "metadata": {},
     "source": [
      "###Cr\u00e9ation de la colonne de fr\u00e9quence *freq*\n",
      "- fr\u00e9quence positive : 10.f\n",
      "- fr\u00e9quence nulle : 5\n",
      "- fr\u00e9quence inexistante : 1"
     ]
    },
    {
     "cell_type": "code",
     "collapsed": false,
     "input": [
      "bdlexique[\"freq\"]=bdlexique[bdlexique[\"formeFrantext\"]!=\"***\"][\"formeFrantext\"].astype(float)*10\n",
      "bdlexique.loc[bdlexique[\"formeFrantext\"]==\"0\",\"freq\"]=5\n",
      "bdlexique.loc[bdlexique[\"formeFrantext\"]==\"***\",\"freq\"]=1"
     ],
     "language": "python",
     "metadata": {},
     "outputs": [],
     "prompt_number": 9
    },
    {
     "cell_type": "markdown",
     "metadata": {},
     "source": [
      "###Elimination des colonnes inutiles\n",
      "- indicateur L23\n",
      "- fr\u00e9quences brutes"
     ]
    },
    {
     "cell_type": "code",
     "collapsed": false,
     "input": [
      "inutilesColonnes=[\"L23\",\"lemmeFrantext\",\"lemmeFilms\",\"formeFrantext\",\"formeFilms\"]\n",
      "for colonne in inutilesColonnes:\n",
      "    del bdlexique[colonne]"
     ],
     "language": "python",
     "metadata": {},
     "outputs": [],
     "prompt_number": 10
    },
    {
     "cell_type": "markdown",
     "metadata": {},
     "source": [
      "###Extraction des formes verbales dans une structure *verbes*"
     ]
    },
    {
     "cell_type": "code",
     "collapsed": false,
     "input": [
      "verbes=bdlexique[bdlexique[\"cs\"]==\"V\"].copy()"
     ],
     "language": "python",
     "metadata": {},
     "outputs": [],
     "prompt_number": 11
    },
    {
     "cell_type": "code",
     "collapsed": false,
     "input": [
      "verbes[\"phono\"]=verbes[\"phono\"].apply(lambda x: recoder(x))"
     ],
     "language": "python",
     "metadata": {},
     "outputs": [],
     "prompt_number": 12
    },
    {
     "cell_type": "code",
     "collapsed": false,
     "input": [
      "#verbes[\"phono\"]\n",
      "print recoder(u\"tOt\u00f2t\u00e8tE\")"
     ],
     "language": "python",
     "metadata": {},
     "outputs": [
      {
       "output_type": "stream",
       "stream": "stdout",
       "text": [
        "tOtOtEtE\n"
       ]
      }
     ],
     "prompt_number": 13
    },
    {
     "cell_type": "markdown",
     "metadata": {},
     "source": [
      "###Ajout d'une colonne *prob* pour la fr\u00e9quence relative"
     ]
    },
    {
     "cell_type": "code",
     "collapsed": false,
     "input": [
      "verbes[\"prob\"]=verbes[\"freq\"]/verbes[\"freq\"].sum()"
     ],
     "language": "python",
     "metadata": {},
     "outputs": [],
     "prompt_number": 14
    },
    {
     "cell_type": "markdown",
     "metadata": {},
     "source": [
      "###Ajout d'une colonne *case*\n",
      "- remplir les *ms* vide pour permettre la concat\u00e9nation sans erreur\n",
      "- *case* est la concat\u00e9nation de *vs* et *ms*"
     ]
    },
    {
     "cell_type": "code",
     "collapsed": false,
     "input": [
      "verbes[\"ms\"]=verbes[\"ms\"].fillna(\"\")\n",
      "verbes[\"case\"]=verbes[\"vs\"]+verbes[\"ms\"]"
     ],
     "language": "python",
     "metadata": {},
     "outputs": [],
     "prompt_number": 15
    },
    {
     "cell_type": "markdown",
     "metadata": {},
     "source": [
      "#Echantillonage"
     ]
    },
    {
     "cell_type": "markdown",
     "metadata": {},
     "source": [
      "##Assembler les \u00e9chantillons correspondant \u00e0 une \u00e9tape n"
     ]
    },
    {
     "cell_type": "code",
     "collapsed": false,
     "input": [
      "def assemblerExtrait(nombre):\n",
      "    return verbes.ix[np.sort(np.concatenate(tirages[0:nombre]))]"
     ],
     "language": "python",
     "metadata": {},
     "outputs": [],
     "prompt_number": 16
    },
    {
     "cell_type": "markdown",
     "metadata": {},
     "source": [
      "###Tirage incr\u00e9mental des formes disponibles\n",
      "- increment : taille de chaque tirage\n",
      "- nombre : nombre de tirages\n",
      "\n",
      "np.random.choice donne une liste d'index de formes tir\u00e9es dans l'ordre du tirage\n",
      "\n",
      "on d\u00e9coupe la liste en morceaux de la taille de l'incr\u00e9ment"
     ]
    },
    {
     "cell_type": "code",
     "collapsed": false,
     "input": [
      "if typeEchantillon==\"variable\":\n",
      "    tirage=np.random.choice(verbes.index,size=nombre*increment,p=verbes[\"prob\"],replace=False)\n",
      "    tirages=[tirage[increment*x:increment*(x+1)] for x in range(len(tirage)/increment+(len(tirage)%increment!=0))]\n",
      "    extrait=assemblerExtrait(nombreInitial)\n",
      "elif typeEchantillon==\"fixe\":\n",
      "    tirage=np.random.choice(verbes.index,size=tailleEchantillon,p=verbes[\"prob\"],replace=False)\n",
      "    extrait=verbes.ix[np.sort(tirage)]\n",
      "elif typeEchantillon==\"total\":\n",
      "    extrait=verbes"
     ],
     "language": "python",
     "metadata": {},
     "outputs": [],
     "prompt_number": 17
    },
    {
     "cell_type": "code",
     "collapsed": false,
     "input": [
      "#extrait=assemblerExtrait(nEchantillons)"
     ],
     "language": "python",
     "metadata": {},
     "outputs": [],
     "prompt_number": 18
    },
    {
     "cell_type": "code",
     "collapsed": false,
     "input": [
      "paradigmes=pd.pivot_table(extrait, values='phono', index=['lexeme'], columns=['case'], aggfunc=lambda x: \",\".join(x)).reset_index().reindex()"
     ],
     "language": "python",
     "metadata": {},
     "outputs": [],
     "prompt_number": 19
    },
    {
     "cell_type": "code",
     "collapsed": false,
     "input": [
      "def diff(mot1,mot2):\n",
      "    result=[]\n",
      "    diff1=\"\"\n",
      "    diff2=\"\"\n",
      "    same=\"\"\n",
      "    vide=\".\"\n",
      "    lmax=max(len(mot1),len(mot2))\n",
      "    lmin=min(len(mot1),len(mot2))\n",
      "    for index in range(lmax):\n",
      "        if index < lmin:\n",
      "            if mot1[index]!=mot2[index]:\n",
      "                diff1+=mot1[index]\n",
      "                diff2+=mot2[index]\n",
      "                same+=vide\n",
      "            else:\n",
      "                same+=mot1[index]\n",
      "                diff1+=vide\n",
      "                diff2+=vide\n",
      "        elif index < len(mot1):\n",
      "            diff1+=mot1[index]\n",
      "        elif index < len(mot2):\n",
      "            diff2+=mot2[index]\n",
      "    diff1=diff1.lstrip(\".\")\n",
      "    diff2=diff2.lstrip(\".\")\n",
      "#    return (same,diff1,diff2,diff1+\"_\"+diff2)\n",
      "    return (diff1+\"-\"+diff2)\n",
      "\n",
      "def rowDiff(row, patrons):\n",
      "    result=diff(row[0],row[1])\n",
      "    if not result in patrons:\n",
      "        patrons[result]=(formesPatron(),formesPatron())\n",
      "    patrons[result][0].ajouterFormes(row[0])\n",
      "    patrons[result][1].ajouterFormes(row[1])\n",
      "    return (result[0],result[1])\n"
     ],
     "language": "python",
     "metadata": {},
     "outputs": [],
     "prompt_number": 20
    },
    {
     "cell_type": "code",
     "collapsed": false,
     "input": [
      "def patron2regexp(morceaux):\n",
      "    result=\"^\"\n",
      "    for morceau in morceaux:\n",
      "        if morceau==\"*\":\n",
      "            result+=\"(.*)\"\n",
      "        elif len(morceau)>1:\n",
      "            result+=\"([\"+morceau+\"])\"\n",
      "        else:\n",
      "            result+=morceau\n",
      "    result+=\"$\"\n",
      "    result=result.replace(\")(\",\"\")\n",
      "    return result"
     ],
     "language": "python",
     "metadata": {},
     "outputs": [],
     "prompt_number": 21
    },
    {
     "cell_type": "code",
     "collapsed": false,
     "input": [
      "def remplacementSortie(sortie):\n",
      "    n=1\n",
      "    nsortie=\"\"\n",
      "    for lettre in sortie:\n",
      "        if lettre==\".\":\n",
      "            nsortie+=\"\\g<%d>\"%n\n",
      "            n+=1\n",
      "        else:\n",
      "            nsortie+=lettre\n",
      "    return nsortie"
     ],
     "language": "python",
     "metadata": {},
     "outputs": [],
     "prompt_number": 22
    },
    {
     "cell_type": "code",
     "collapsed": false,
     "input": [
      "class formesPatron:\n",
      "    '''\n",
      "    Accumulateur de formes correspondant \u00e0 un patron pour calcul de la G\u00e9n\u00e9ralisation Minimale (cf. MGL)\n",
      "    '''\n",
      "    def __init__(self):\n",
      "        self.formes=[]\n",
      "\n",
      "#    def __repr__(self):\n",
      "#        return ','.join(self.calculerGM())\n",
      "        \n",
      "    def ajouterForme(self,forme):\n",
      "        self.formes.append(forme)\n",
      "        \n",
      "    def calculerGM(self):\n",
      "        minLongueur=len(min(self.formes, key=len))\n",
      "        maxLongueur=len(max(self.formes, key=len))\n",
      "        if debug: print minLongueur, maxLongueur\n",
      "        positions=[]\n",
      "        if maxLongueur>minLongueur:\n",
      "            positions.append(\"*\")\n",
      "        for i in xrange(minLongueur, 0, -1):\n",
      "            phonemes=set([x[-i] for x in self.formes])\n",
      "            if debug: print phonemes\n",
      "            if \".\" in phonemes:\n",
      "                positions.append(\".\")\n",
      "            else:\n",
      "                positions.append(\"\".join(fs.lattice[phonemes].extent))\n",
      "        return patron2regexp(positions)\n",
      "\n",
      "class pairePatrons:\n",
      "    '''\n",
      "    Accumulateur de triplets (f1,f2,patron) correspondant \u00e0 une paire pour calcul des G\u00e9n\u00e9ralisations Minimales (cf. MGL)\n",
      "    '''\n",
      "    def __init__(self,case1,case2):\n",
      "        self.patrons1={}\n",
      "        self.patrons2={}\n",
      "        self.case1=case1\n",
      "        self.case2=case2\n",
      "\n",
      "#    def __repr__(self):\n",
      "#        return ','.join(self.calculerGM())\n",
      "        \n",
      "    def ajouterFormes(self,forme1,forme2,patron):\n",
      "#        print forme1,forme2,patron\n",
      "        patron12=patron\n",
      "        (pat1,pat2)=patron.split(\"-\")\n",
      "        patron21=pat2+\"-\"+pat1\n",
      "#        print patron12,patron21\n",
      "        if not patron12 in self.patrons1:\n",
      "            self.patrons1[patron12]=formesPatron()\n",
      "        self.patrons1[patron12].ajouterForme(forme1)\n",
      "        if not patron21 in self.patrons2:\n",
      "            self.patrons2[patron21]=formesPatron()\n",
      "        self.patrons2[patron21].ajouterForme(forme2)\n",
      "        \n",
      "        \n",
      "    def calculerGM(self):\n",
      "        resultat1={}\n",
      "        for patron in self.patrons1:\n",
      "            if debug: print \"patron1\", patron\n",
      "            resultat1[patron]=self.patrons1[patron].calculerGM()\n",
      "        resultat2={}\n",
      "        for patron in self.patrons2:\n",
      "            if debug: print \"patron2\", patron\n",
      "            resultat2[patron]=self.patrons2[patron].calculerGM()\n",
      "        return (resultat1,resultat2) "
     ],
     "language": "python",
     "metadata": {},
     "outputs": [],
     "prompt_number": 23
    },
    {
     "cell_type": "markdown",
     "metadata": {},
     "source": [
      "#Classe pour la gestion des patrons, des classes et des transformations"
     ]
    },
    {
     "cell_type": "code",
     "collapsed": false,
     "input": [
      "class paireClasses:\n",
      "    def __init__(self,case1,case2):\n",
      "        self.case1=case1\n",
      "        self.case2=case2\n",
      "        self.nom=case1+\"-\"+case2\n",
      "        self.classes1=classesPaire(case1,case2)\n",
      "        self.classes2=classesPaire(case2,case1)\n",
      "\n",
      "    def ajouterPatron(self,n,patron,motif):\n",
      "        if n==1:\n",
      "            self.classes1.ajouterPatron(patron,motif)\n",
      "        elif n==2:\n",
      "            self.classes2.ajouterPatron(patron,motif)\n",
      "        else:\n",
      "            print \"le num\u00e9ro de forme n'est pas dans [1,2]\",n\n",
      "\n",
      "    def ajouterPaire(self,forme1,forme2):\n",
      "        self.classes1.ajouterPaire(forme1,forme2)\n",
      "        self.classes2.ajouterPaire(forme2,forme1)\n",
      "        \n",
      "    def calculerClasses(self):\n",
      "        return(self.classes1,self.classes2)\n",
      "\n",
      "    \n",
      "class classesPaire:\n",
      "    '''\n",
      "    Gestion des patrons, des classes et des transformations\n",
      "    \n",
      "    ajouterPatron : ajoute un patron et son motif associ\u00e9 (MGL)\n",
      "    ajouterPaire : ajoute une paire de formes, calcule la classe de la forme1 et la r\u00e8gle s\u00e9lectionn\u00e9e\n",
      "    sortirForme : cacule les formes de sortie correspondant \u00e0 la forme1 avec leurs coefficients respectifs\n",
      "    '''\n",
      "    def __init__(self,case1,case2):\n",
      "        self.case1=case1\n",
      "        self.case2=case2\n",
      "        self.nom=case1+\"-\"+case2\n",
      "        self.classe={}\n",
      "        self.nbClasse={}\n",
      "        self.patrons={}\n",
      "        self.entree={}\n",
      "        self.sortie={}\n",
      "    \n",
      "    def ajouterPatron(self,patron,motif):\n",
      "        self.patrons[patron]=motif\n",
      "        (entree,sortie)=patron.split(\"-\")\n",
      "        self.entree[patron]=entree.replace(u\".\",u\"(.)\")\n",
      "        self.sortie[patron]=remplacementSortie(sortie)\n",
      "    \n",
      "    def ajouterPaire(self,forme1,forme2):\n",
      "        '''\n",
      "        on calcule la classe de la paire idClasseForme et la r\u00e8gle s\u00e9lectionn\u00e9e\n",
      "        on incr\u00e9mente le compteur de la classe et celui de la r\u00e8gle s\u00e9lectionn\u00e9e \u00e0 l'int\u00e9rieur de la classe\n",
      "        '''\n",
      "        classeForme=[]\n",
      "        regleForme=\"\"\n",
      "        for patron in self.patrons:\n",
      "            if re.match(self.patrons[patron],forme1):\n",
      "                classeForme.append(patron)\n",
      "                '''\n",
      "                le +\"$\" permet de forcer l'alignement \u00e0 droite pour les transformations suffixales\n",
      "                '''\n",
      "                if forme2==re.sub(self.entree[patron]+\"$\",self.sortie[patron],forme1):\n",
      "                    regleForme=patron\n",
      "        idClasseForme=\", \".join(classeForme)\n",
      "        if not idClasseForme in self.classe:\n",
      "            self.classe[idClasseForme]={}\n",
      "            self.nbClasse[idClasseForme]=0\n",
      "        if not regleForme in self.classe[idClasseForme]:\n",
      "            self.classe[idClasseForme][regleForme]=0\n",
      "        self.nbClasse[idClasseForme]+=1\n",
      "        self.classe[idClasseForme][regleForme]+=1\n",
      "\n",
      "    def sortirForme(self,forme):\n",
      "        classeForme=[]\n",
      "        sortieForme={}\n",
      "        for patron in self.patrons:\n",
      "            if re.match(self.patrons[patron],forme):\n",
      "                classeForme.append(patron)\n",
      "        if classeForme:\n",
      "            idClasseForme=\", \".join(classeForme)\n",
      "            if idClasseForme in self.nbClasse:\n",
      "                nTotal=self.nbClasse[idClasseForme]\n",
      "                for patron in self.classe[idClasseForme]:\n",
      "                    sortie=re.sub(self.entree[patron]+\"$\",self.sortie[patron],forme)\n",
      "                    sortieForme[sortie]=float(self.classe[idClasseForme][patron])/nTotal\n",
      "            else:\n",
      "                print forme\n",
      "                print \"pas de classe\",idClasseForme\n",
      "                print \"%.2f par forme de sortie\" % (float(1)/len(classeForme))\n",
      "                nTotal=len(classeForme)\n",
      "                for patron in classeForme:\n",
      "                    sortie=re.sub(self.entree[patron]+\"$\",self.sortie[patron],forme)\n",
      "                    sortieForme[sortie]=float(1)/nTotal\n",
      "        else:\n",
      "            print forme\n",
      "            print \"pas de patron\"\n",
      "        return sortieForme\n",
      "        "
     ],
     "language": "python",
     "metadata": {},
     "outputs": [],
     "prompt_number": 24
    },
    {
     "cell_type": "markdown",
     "metadata": {},
     "source": [
      "##Appliquer la formule de calcul des diff\u00e9rences entre chaines \u00e0 chaque ligne\n",
      "\n",
      ">si il y a au moins une ligne\n",
      "\n",
      ">>on applique la diff\u00e9rence \u00e0 la ligne\n",
      "\n",
      ">>on calcule les deux patrons par suppression des points initiaux\n",
      "\n",
      ">>on renvoie le groupement par patrons (1&2)\n",
      "\n",
      ">sinon\n",
      "\n",
      ">>on renvoie le paradigme vide d'origine"
     ]
    },
    {
     "cell_type": "code",
     "collapsed": false,
     "input": [
      "def OLDrapports(paradigme):\n",
      "    (case1,case2,lexeme)= paradigme.columns.values.tolist()\n",
      "    patrons=pairePatrons(case1,case2)\n",
      "    if len(paradigme)>0:\n",
      "#        for index, row in paradigme.iterrows():\n",
      "#            patrons.ajouterFormes(row[0],row[1],diff(row[0],row[1]))\n",
      "        paradigme.apply(lambda x: patrons.ajouterFormes(x[case1],x[case2],diff(x[case1],x[case2])), axis=1)\n",
      "        (regles1,regles2)=patrons.calculerGM()\n",
      "    return patrons.calculerGM()"
     ],
     "language": "python",
     "metadata": {},
     "outputs": [],
     "prompt_number": 25
    },
    {
     "cell_type": "code",
     "collapsed": false,
     "input": [
      "def rapports(paradigme):\n",
      "    if len(paradigme.columns.values.tolist())==2:\n",
      "        (case1,lexeme)= paradigme.columns.values.tolist()\n",
      "        case2=case1\n",
      "    else:\n",
      "        (case1,case2,lexeme)= paradigme.columns.values.tolist()\n",
      "    patrons=pairePatrons(case1,case2)\n",
      "    classes=paireClasses(case1,case2)\n",
      "    if len(paradigme)>0:\n",
      "        paradigme.apply(lambda x: patrons.ajouterFormes(x[case1],x[case2],diff(x[case1],x[case2])), axis=1)\n",
      "        (regles1,regles2)=patrons.calculerGM()\n",
      "        for regle in regles1:\n",
      "            classes.ajouterPatron(1,regle,regles1[regle])\n",
      "        for regle in regles2:\n",
      "            classes.ajouterPatron(2,regle,regles2[regle])\n",
      "        paradigme.apply(lambda x: classes.ajouterPaire(x[case1],x[case2]), axis=1)\n",
      "    (classes1,classes2)=classes.calculerClasses()\n",
      "    return (classes1,classes2)"
     ],
     "language": "python",
     "metadata": {},
     "outputs": [],
     "prompt_number": 26
    },
    {
     "cell_type": "markdown",
     "metadata": {},
     "source": [
      "###D\u00e9doubler les lignes avec des surabondances dans *colonne*\n",
      ">identifier une ligne avec surabondance\n",
      "\n",
      ">>ajouter les lignes correspondant \u00e0 chaque valeur\n",
      "\n",
      ">>ajouter le num\u00e9ro de la ligne initiale dans les lignes \u00e0 supprimer\n",
      "\n",
      ">supprimer les lignes avec surabondance\n",
      "\n",
      "NB : il faut pr\u00e9parer le tableau pour avoir une indexation qui permette l'ajout des valeurs individuelles et la suppression des lignes de surabondances"
     ]
    },
    {
     "cell_type": "code",
     "collapsed": false,
     "input": [
      "def splitCellMates(df,colonne):\n",
      "    '''\n",
      "    Calcul d'une dataframe sans surabondance par d\u00e9doublement des valeurs\n",
      "    '''\n",
      "    test=df.reset_index()\n",
      "    del test[\"index\"]\n",
      "    splitIndexes=[]\n",
      "    for index,ligne in test.iterrows():\n",
      "        if \",\" in ligne[colonne]:\n",
      "            valeurs=set(ligne[colonne].split(\",\"))\n",
      "            nouvelleLigne=ligne\n",
      "            for valeur in valeurs:\n",
      "                nouvelleLigne[colonne]=valeur\n",
      "                test=test.append(nouvelleLigne,ignore_index=True)\n",
      "            splitIndexes.append(index)\n",
      "    if splitIndexes:\n",
      "        test=test.drop(test.index[splitIndexes])\n",
      "    return test\n"
     ],
     "language": "python",
     "metadata": {},
     "outputs": [],
     "prompt_number": 27
    },
    {
     "cell_type": "markdown",
     "metadata": {},
     "source": [
      "##Calculer les rapports entre formes pour chaque paire\n",
      "\n",
      ">on fait la liste des cases de *paradigmes*\n",
      "\n",
      ">pour chaque paire du tableau principal\n",
      "\n",
      ">>si la paire fait partie des cases de *paradigmes*\n",
      "\n",
      ">>>on calcule le rapport\n",
      "\n",
      ">>sinon\n",
      "\n",
      ">>>on signale que qu'une des cases n'est pas repr\u00e9sent\u00e9e"
     ]
    },
    {
     "cell_type": "code",
     "collapsed": false,
     "input": [
      "def evaluerEchantillon(paradigmes):\n",
      "    result={}\n",
      "    colonnes=paradigmes.columns.values.tolist()\n",
      "    for paire in it.combinations_with_replacement(casesPrincipales,2):\n",
      "        if debug: print paire\n",
      "#        if paire[0]==paire[1]:\n",
      "#            paireListe=[paire[0]]\n",
      "#        else:\n",
      "#            paireListe=list(paire)\n",
      "        paireListe=list(paire)\n",
      "        paireListe.append(\"lexeme\")\n",
      "        if paire[0] in colonnes and paire[1] in colonnes:\n",
      "            paradigmePaire=paradigmes[paireListe].dropna(thresh=3, axis=0).reindex()\n",
      "            if paire[0]==paire[1]:\n",
      "                paireListe[1]=\"TEMP\"\n",
      "                paradigmePaire.columns=paireListe\n",
      "            paradigmePaire=splitCellMates(splitCellMates(paradigmePaire,paireListe[0]),paireListe[1])\n",
      "            result[paire]=rapports(paradigmePaire)\n",
      "        else:\n",
      "            result[paire]=(\"missing pair\", paire)\n",
      "    return result"
     ],
     "language": "python",
     "metadata": {},
     "outputs": [],
     "prompt_number": 28
    },
    {
     "cell_type": "markdown",
     "metadata": {},
     "source": [
      "###Boucle de calcul des analogies pour l'\u00e9chantillon"
     ]
    },
    {
     "cell_type": "code",
     "collapsed": false,
     "input": [
      "%%time\n",
      "debug=False\n",
      "resultats=evaluerEchantillon(paradigmes)"
     ],
     "language": "python",
     "metadata": {},
     "outputs": [
      {
       "output_type": "stream",
       "stream": "stdout",
       "text": [
        "CPU times: user 31min 26s, sys: 4.35 s, total: 31min 30s\n",
        "Wall time: 31min 35s\n"
       ]
      }
     ],
     "prompt_number": 29
    },
    {
     "cell_type": "code",
     "collapsed": false,
     "input": [
      "classesFinales={}\n",
      "for resultat in resultats:\n",
      "    classesFinales[resultat]=resultats[resultat][0]\n",
      "    classesFinales[(resultat[1],resultat[0])]=resultats[resultat][1]"
     ],
     "language": "python",
     "metadata": {},
     "outputs": [],
     "prompt_number": 30
    },
    {
     "cell_type": "code",
     "collapsed": false,
     "input": [
      "with open(filePrefix+typeEchantillon+'-Regles.pkl', 'wb') as output:\n",
      "   pickle.dump(classesFinales, output, pickle.HIGHEST_PROTOCOL)"
     ],
     "language": "python",
     "metadata": {},
     "outputs": [],
     "prompt_number": 31
    },
    {
     "cell_type": "code",
     "collapsed": false,
     "input": [
      "classesFinales[('pi2S', 'pi3P')].sortirForme(\"aswa\")"
     ],
     "language": "python",
     "metadata": {},
     "outputs": [
      {
       "metadata": {},
       "output_type": "pyout",
       "prompt_number": 32,
       "text": [
        "{u'asEj': 0.5, 'aswa': 0.5}"
       ]
      }
     ],
     "prompt_number": 32
    },
    {
     "cell_type": "code",
     "collapsed": false,
     "input": [
      "with open(filePrefix+typeEchantillon+'-Regles.pkl', 'rb') as input:\n",
      "    resultatsLecture = pickle.load(input)"
     ],
     "language": "python",
     "metadata": {},
     "outputs": [],
     "prompt_number": 33
    },
    {
     "cell_type": "code",
     "collapsed": false,
     "input": [
      "resultatsLecture[('pP', 'inf')].sortirForme(u\"k\u00f4kur\u00e2\")"
     ],
     "language": "python",
     "metadata": {},
     "outputs": [
      {
       "metadata": {},
       "output_type": "pyout",
       "prompt_number": 34,
       "text": [
        "{u'k\\xf4kure': 0.9510910458991723,\n",
        " u'k\\xf4kurir': 0.01617757712565839,\n",
        " u'k\\xf4kurr': 0.0327313769751693}"
       ]
      }
     ],
     "prompt_number": 34
    },
    {
     "cell_type": "code",
     "collapsed": false,
     "input": [
      "paradigmes[paradigmes[\"lexeme\"]==\"asseoir\"]"
     ],
     "language": "python",
     "metadata": {},
     "outputs": [
      {
       "html": [
        "<div style=\"max-height:1000px;max-width:1500px;overflow:auto;\">\n",
        "<table border=\"1\" class=\"dataframe\">\n",
        "  <thead>\n",
        "    <tr style=\"text-align: right;\">\n",
        "      <th>case</th>\n",
        "      <th>lexeme</th>\n",
        "      <th>ai1P</th>\n",
        "      <th>ai1S</th>\n",
        "      <th>ai2P</th>\n",
        "      <th>ai2S</th>\n",
        "      <th>ai3P</th>\n",
        "      <th>ai3S</th>\n",
        "      <th>fi1P</th>\n",
        "      <th>fi1S</th>\n",
        "      <th>fi2P</th>\n",
        "      <th>...</th>\n",
        "      <th>pi2P</th>\n",
        "      <th>pi2S</th>\n",
        "      <th>pi3P</th>\n",
        "      <th>pi3S</th>\n",
        "      <th>ps1P</th>\n",
        "      <th>ps1S</th>\n",
        "      <th>ps2P</th>\n",
        "      <th>ps2S</th>\n",
        "      <th>ps3P</th>\n",
        "      <th>ps3S</th>\n",
        "    </tr>\n",
        "  </thead>\n",
        "  <tbody>\n",
        "    <tr>\n",
        "      <th>399</th>\n",
        "      <td> asseoir</td>\n",
        "      <td> asim</td>\n",
        "      <td> asi</td>\n",
        "      <td> asit</td>\n",
        "      <td> asi</td>\n",
        "      <td> asir</td>\n",
        "      <td> asi</td>\n",
        "      <td> asjEr\u00f4,aswar\u00f4</td>\n",
        "      <td> asjErE,aswarE</td>\n",
        "      <td> asjEre,asware</td>\n",
        "      <td>...</td>\n",
        "      <td> asEje,aswaje</td>\n",
        "      <td> asje,aswa</td>\n",
        "      <td> asEj,aswa</td>\n",
        "      <td> asje,aswa</td>\n",
        "      <td> asEj\u00f4,aswaj\u00f4</td>\n",
        "      <td> asEj,aswa</td>\n",
        "      <td> asEje,aswaje</td>\n",
        "      <td> asEj,aswa</td>\n",
        "      <td> asEj,aswa</td>\n",
        "      <td> asEj,aswa</td>\n",
        "    </tr>\n",
        "  </tbody>\n",
        "</table>\n",
        "<p>1 rows \u00d7 48 columns</p>\n",
        "</div>"
       ],
       "metadata": {},
       "output_type": "pyout",
       "prompt_number": 35,
       "text": [
        "case   lexeme  ai1P ai1S  ai2P ai2S  ai3P ai3S           fi1P           fi1S  \\\n",
        "399   asseoir  asim  asi  asit  asi  asir  asi  asjEr\u00f4,aswar\u00f4  asjErE,aswarE   \n",
        "\n",
        "case           fi2P    ...              pi2P       pi2S       pi3P       pi3S  \\\n",
        "399   asjEre,asware    ...      asEje,aswaje  asje,aswa  asEj,aswa  asje,aswa   \n",
        "\n",
        "case          ps1P       ps1S          ps2P       ps2S       ps3P       ps3S  \n",
        "399   asEj\u00f4,aswaj\u00f4  asEj,aswa  asEje,aswaje  asEj,aswa  asEj,aswa  asEj,aswa  \n",
        "\n",
        "[1 rows x 48 columns]"
       ]
      }
     ],
     "prompt_number": 35
    },
    {
     "cell_type": "code",
     "collapsed": false,
     "input": [],
     "language": "python",
     "metadata": {},
     "outputs": [],
     "prompt_number": 35
    }
   ],
   "metadata": {}
  }
 ]
}