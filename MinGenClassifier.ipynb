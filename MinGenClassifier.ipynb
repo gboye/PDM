{
 "metadata": {
  "name": "",
  "signature": "sha256:f7386d2b08dc67127078da041b437f897da22bab25dc93268bc3eeaf034afe85"
 },
 "nbformat": 3,
 "nbformat_minor": 0,
 "worksheets": [
  {
   "cells": [
    {
     "cell_type": "markdown",
     "metadata": {},
     "source": [
      "typeEchantillon : \n",
      "- fixe pour utiliser tailleEchantillon\n",
      "- variable pour utiliser nombre,increment,nombreInitial\n",
      "- total pour utiliser tout le lexique"
     ]
    },
    {
     "cell_type": "code",
     "collapsed": false,
     "input": [
      "typeEchantillon=\"total\"\n",
      "tailleEchantillon=30000\n",
      "nombre=1000\n",
      "increment=250\n",
      "nombreInitial=20"
     ],
     "language": "python",
     "metadata": {},
     "outputs": [],
     "prompt_number": 1
    },
    {
     "cell_type": "markdown",
     "metadata": {},
     "source": [
      "##Importations\n",
      "- codecs pour les encodages\n",
      "- pandas et numpy pour les calculs sur tableaux\n",
      "- matplotlib pour les graphiques\n",
      "- itertools pour les it\u00e9rateurs sophistiqu\u00e9s (paires sur liste, ...)"
     ]
    },
    {
     "cell_type": "code",
     "collapsed": false,
     "input": [
      "# -*- coding: utf8 -*-\n",
      "import codecs\n",
      "import features\n",
      "import re\n",
      "import pandas as pd\n",
      "import numpy as np\n",
      "import matplotlib.pyplot as plt\n",
      "import itertools as it\n",
      "import pickle\n",
      "#%pylab inline\n",
      "#pd.options.display.mpl_style = 'default'\n",
      "debug=False"
     ],
     "language": "python",
     "metadata": {},
     "outputs": [],
     "prompt_number": 2
    },
    {
     "cell_type": "markdown",
     "metadata": {},
     "source": [
      "###Pr\u00e9paration des matrices de traits"
     ]
    },
    {
     "cell_type": "code",
     "collapsed": false,
     "input": [
      "features.add_config('bdlexique.ini')\n",
      "fs=features.FeatureSystem('phonemes')\n",
      "#fs.supremum.concept.extent"
     ],
     "language": "python",
     "metadata": {},
     "outputs": [],
     "prompt_number": 3
    },
    {
     "cell_type": "code",
     "collapsed": false,
     "input": [
      "bdlexiqueIn = unicode(u\"\u00e8\u00f2\")\n",
      "bdlexiqueNum = [ord(char) for char in bdlexiqueIn]\n",
      "neutreOut = unicode(u\"EO\")\n",
      "neutralise = dict(zip(bdlexiqueNum, neutreOut))"
     ],
     "language": "python",
     "metadata": {},
     "outputs": [],
     "prompt_number": 4
    },
    {
     "cell_type": "code",
     "collapsed": false,
     "input": [
      "def recoder(chaine,table=neutralise):\n",
      "    if type(chaine)==str:\n",
      "        temp=unicode(chaine.decode('utf8')).translate(table)\n",
      "        result=temp.encode('utf8')\n",
      "    elif type(chaine)==unicode:\n",
      "        result=chaine.translate(table)\n",
      "    return result"
     ],
     "language": "python",
     "metadata": {},
     "outputs": [],
     "prompt_number": 5
    },
    {
     "cell_type": "code",
     "collapsed": false,
     "input": [
      "filePrefix=\"MGC-\""
     ],
     "language": "python",
     "metadata": {},
     "outputs": [],
     "prompt_number": 6
    },
    {
     "cell_type": "markdown",
     "metadata": {},
     "source": [
      "#Pr\u00e9paration du tableau de VERBES"
     ]
    },
    {
     "cell_type": "markdown",
     "metadata": {},
     "source": [
      "###Lecture du lexique"
     ]
    },
    {
     "cell_type": "code",
     "collapsed": false,
     "input": [
      "nomLexique=\"/Users/gilles/Copy/Python/phonemisation/bdlexique-PDM.txt\"\n",
      "bdlexique=pd.read_csv(nomLexique,sep=\";\",names=[\"ortho\",\"phono\",\"ext\",\"cs\",\"ms\",\"vs\",\"lexeme\",\"L23\",\"lemmeFrantext\",\"lemmeFilms\",\"formeFrantext\",\"formeFilms\"],encoding=\"utf8\")"
     ],
     "language": "python",
     "metadata": {},
     "outputs": [],
     "prompt_number": 7
    },
    {
     "cell_type": "markdown",
     "metadata": {},
     "source": [
      "###D\u00e9finition des cases\n",
      "- principales pour le paradigme courant\n",
      "- secondaires pour les cases rares\n",
      "- totales pour le tout"
     ]
    },
    {
     "cell_type": "code",
     "collapsed": false,
     "input": [
      "casesPrincipales= [\n",
      "        'inf', 'pi1S', 'pi2S', 'pi3S', 'pi1P', 'pi2P', 'pi3P', 'ii1S',\n",
      "        'ii2S', 'ii3S', 'ii1P', 'ii2P', 'ii3P', \n",
      "        'fi1S', 'fi2S', 'fi3S', 'fi1P', 'fi2P',\n",
      "        'fi3P', 'pI2S', 'pI1P', 'pI2P', 'ps1S', 'ps2S', 'ps3S', 'ps1P',\n",
      "        'ps2P', 'ps3P', \n",
      "        'pc1S', 'pc2S', 'pc3S', 'pc1P', 'pc2P', 'pc3P', 'pP'\n",
      "            ]\n",
      "casesSecondaires= [\n",
      "       'ai1S', 'ai2S', 'ai3S', 'ai1P', 'ai2P', 'ai3P', 'is1S', 'is2S', 'is3S', 'is1P', 'is2P', 'is3P'\n",
      "            ]\n",
      "casesTotales=casesPrincipales+casesSecondaires\n",
      "listeCases=casesTotales"
     ],
     "language": "python",
     "metadata": {},
     "outputs": [],
     "prompt_number": 8
    },
    {
     "cell_type": "markdown",
     "metadata": {},
     "source": [
      "###Cr\u00e9ation de la colonne de fr\u00e9quence *freq*\n",
      "- fr\u00e9quence positive : 10.f\n",
      "- fr\u00e9quence nulle : 5\n",
      "- fr\u00e9quence inexistante : 1"
     ]
    },
    {
     "cell_type": "code",
     "collapsed": false,
     "input": [
      "bdlexique[\"freq\"]=bdlexique[bdlexique[\"formeFrantext\"]!=\"***\"][\"formeFrantext\"].astype(float)*10\n",
      "bdlexique.loc[bdlexique[\"formeFrantext\"]==\"0\",\"freq\"]=5\n",
      "bdlexique.loc[bdlexique[\"formeFrantext\"]==\"***\",\"freq\"]=1"
     ],
     "language": "python",
     "metadata": {},
     "outputs": [],
     "prompt_number": 9
    },
    {
     "cell_type": "markdown",
     "metadata": {},
     "source": [
      "###Elimination des colonnes inutiles\n",
      "- indicateur L23\n",
      "- fr\u00e9quences brutes"
     ]
    },
    {
     "cell_type": "code",
     "collapsed": false,
     "input": [
      "inutilesColonnes=[\"L23\",\"lemmeFrantext\",\"lemmeFilms\",\"formeFrantext\",\"formeFilms\"]\n",
      "for colonne in inutilesColonnes:\n",
      "    del bdlexique[colonne]"
     ],
     "language": "python",
     "metadata": {},
     "outputs": [],
     "prompt_number": 10
    },
    {
     "cell_type": "markdown",
     "metadata": {},
     "source": [
      "###Extraction des formes verbales dans une structure *verbes*"
     ]
    },
    {
     "cell_type": "code",
     "collapsed": false,
     "input": [
      "verbes=bdlexique[bdlexique[\"cs\"]==\"V\"].copy()"
     ],
     "language": "python",
     "metadata": {},
     "outputs": [],
     "prompt_number": 11
    },
    {
     "cell_type": "code",
     "collapsed": false,
     "input": [
      "verbes[\"phono\"]=verbes[\"phono\"].apply(lambda x: recoder(x))"
     ],
     "language": "python",
     "metadata": {},
     "outputs": [],
     "prompt_number": 12
    },
    {
     "cell_type": "code",
     "collapsed": false,
     "input": [
      "#verbes[\"phono\"]\n",
      "print recoder(u\"tOt\u00f2t\u00e8tE\")"
     ],
     "language": "python",
     "metadata": {},
     "outputs": [
      {
       "output_type": "stream",
       "stream": "stdout",
       "text": [
        "tOtOtEtE\n"
       ]
      }
     ],
     "prompt_number": 13
    },
    {
     "cell_type": "markdown",
     "metadata": {},
     "source": [
      "###Ajout d'une colonne *prob* pour la fr\u00e9quence relative"
     ]
    },
    {
     "cell_type": "code",
     "collapsed": false,
     "input": [
      "verbes[\"prob\"]=verbes[\"freq\"]/verbes[\"freq\"].sum()"
     ],
     "language": "python",
     "metadata": {},
     "outputs": [],
     "prompt_number": 14
    },
    {
     "cell_type": "markdown",
     "metadata": {},
     "source": [
      "###Ajout d'une colonne *case*\n",
      "- remplir les *ms* vide pour permettre la concat\u00e9nation sans erreur\n",
      "- *case* est la concat\u00e9nation de *vs* et *ms*"
     ]
    },
    {
     "cell_type": "code",
     "collapsed": false,
     "input": [
      "verbes[\"ms\"]=verbes[\"ms\"].fillna(\"\")\n",
      "verbes[\"case\"]=verbes[\"vs\"]+verbes[\"ms\"]"
     ],
     "language": "python",
     "metadata": {},
     "outputs": [],
     "prompt_number": 15
    },
    {
     "cell_type": "markdown",
     "metadata": {},
     "source": [
      "#Echantillonage"
     ]
    },
    {
     "cell_type": "markdown",
     "metadata": {},
     "source": [
      "##Assembler les \u00e9chantillons correspondant \u00e0 une \u00e9tape n"
     ]
    },
    {
     "cell_type": "code",
     "collapsed": false,
     "input": [
      "def assemblerExtrait(nombre):\n",
      "    return verbes.ix[np.sort(np.concatenate(tirages[0:nombre]))]"
     ],
     "language": "python",
     "metadata": {},
     "outputs": [],
     "prompt_number": 16
    },
    {
     "cell_type": "markdown",
     "metadata": {},
     "source": [
      "###Tirage incr\u00e9mental des formes disponibles\n",
      "- increment : taille de chaque tirage\n",
      "- nombre : nombre de tirages\n",
      "\n",
      "np.random.choice donne une liste d'index de formes tir\u00e9es dans l'ordre du tirage\n",
      "\n",
      "on d\u00e9coupe la liste en morceaux de la taille de l'incr\u00e9ment"
     ]
    },
    {
     "cell_type": "code",
     "collapsed": false,
     "input": [
      "if typeEchantillon==\"variable\":\n",
      "    tirage=np.random.choice(verbes.index,size=nombre*increment,p=verbes[\"prob\"],replace=False)\n",
      "    tirages=[tirage[increment*x:increment*(x+1)] for x in range(len(tirage)/increment+(len(tirage)%increment!=0))]\n",
      "    extrait=assemblerExtrait(nombreInitial)\n",
      "elif typeEchantillon==\"fixe\":\n",
      "    tirage=np.random.choice(verbes.index,size=tailleEchantillon,p=verbes[\"prob\"],replace=False)\n",
      "    extrait=verbes.ix[np.sort(tirage)]\n",
      "elif typeEchantillon==\"total\":\n",
      "    extrait=verbes"
     ],
     "language": "python",
     "metadata": {},
     "outputs": [],
     "prompt_number": 17
    },
    {
     "cell_type": "code",
     "collapsed": false,
     "input": [
      "#extrait=assemblerExtrait(nEchantillons)"
     ],
     "language": "python",
     "metadata": {},
     "outputs": [],
     "prompt_number": 18
    },
    {
     "cell_type": "code",
     "collapsed": false,
     "input": [
      "paradigmes=pd.pivot_table(extrait, values='phono', index=['lexeme'], columns=['case'], aggfunc=lambda x: \",\".join(x)).reset_index().reindex()"
     ],
     "language": "python",
     "metadata": {},
     "outputs": [],
     "prompt_number": 19
    },
    {
     "cell_type": "code",
     "collapsed": false,
     "input": [
      "def diff(mot1,mot2):\n",
      "    result=[]\n",
      "    diff1=\"\"\n",
      "    diff2=\"\"\n",
      "    same=\"\"\n",
      "    vide=\".\"\n",
      "    lmax=max(len(mot1),len(mot2))\n",
      "    lmin=min(len(mot1),len(mot2))\n",
      "    for index in range(lmax):\n",
      "        if index < lmin:\n",
      "            if mot1[index]!=mot2[index]:\n",
      "                diff1+=mot1[index]\n",
      "                diff2+=mot2[index]\n",
      "                same+=vide\n",
      "            else:\n",
      "                same+=mot1[index]\n",
      "                diff1+=vide\n",
      "                diff2+=vide\n",
      "        elif index < len(mot1):\n",
      "            diff1+=mot1[index]\n",
      "        elif index < len(mot2):\n",
      "            diff2+=mot2[index]\n",
      "    diff1=diff1.lstrip(\".\")\n",
      "    diff2=diff2.lstrip(\".\")\n",
      "#    return (same,diff1,diff2,diff1+\"_\"+diff2)\n",
      "    return (diff1+\"-\"+diff2)\n",
      "\n",
      "def rowDiff(row, patrons):\n",
      "    result=diff(row[0],row[1])\n",
      "    if not result in patrons:\n",
      "        patrons[result]=(formesPatron(),formesPatron())\n",
      "    patrons[result][0].ajouterFormes(row[0])\n",
      "    patrons[result][1].ajouterFormes(row[1])\n",
      "    return (result[0],result[1])\n"
     ],
     "language": "python",
     "metadata": {},
     "outputs": [],
     "prompt_number": 20
    },
    {
     "cell_type": "code",
     "collapsed": false,
     "input": [
      "def patron2regexp(morceaux):\n",
      "    result=\"^\"\n",
      "    for morceau in morceaux:\n",
      "        if morceau==\"*\":\n",
      "            result+=\"(.*)\"\n",
      "        elif len(morceau)>1:\n",
      "            result+=\"([\"+morceau+\"])\"\n",
      "        else:\n",
      "            result+=morceau\n",
      "    result+=\"$\"\n",
      "    result=result.replace(\")(\",\"\")\n",
      "    return result"
     ],
     "language": "python",
     "metadata": {},
     "outputs": [],
     "prompt_number": 21
    },
    {
     "cell_type": "code",
     "collapsed": false,
     "input": [
      "def remplacementSortie(sortie):\n",
      "    n=1\n",
      "    nsortie=\"\"\n",
      "    for lettre in sortie:\n",
      "        if lettre==\".\":\n",
      "            nsortie+=\"\\g<%d>\"%n\n",
      "            n+=1\n",
      "        else:\n",
      "            nsortie+=lettre\n",
      "    return nsortie"
     ],
     "language": "python",
     "metadata": {},
     "outputs": [],
     "prompt_number": 22
    },
    {
     "cell_type": "code",
     "collapsed": false,
     "input": [
      "class formesPatron:\n",
      "    '''\n",
      "    Accumulateur de formes correspondant \u00e0 un patron pour calcul de la G\u00e9n\u00e9ralisation Minimale (cf. MGL)\n",
      "    '''\n",
      "    def __init__(self):\n",
      "        self.formes=[]\n",
      "\n",
      "#    def __repr__(self):\n",
      "#        return ','.join(self.calculerGM())\n",
      "        \n",
      "    def ajouterForme(self,forme):\n",
      "        self.formes.append(forme)\n",
      "        \n",
      "    def calculerGM(self):\n",
      "        minLongueur=len(min(self.formes, key=len))\n",
      "        maxLongueur=len(max(self.formes, key=len))\n",
      "        if debug: print minLongueur, maxLongueur\n",
      "        positions=[]\n",
      "        if maxLongueur>minLongueur:\n",
      "            positions.append(\"*\")\n",
      "        for i in xrange(minLongueur, 0, -1):\n",
      "            phonemes=set([x[-i] for x in self.formes])\n",
      "            if debug: print phonemes\n",
      "            if \".\" in phonemes:\n",
      "                positions.append(\".\")\n",
      "            else:\n",
      "                positions.append(\"\".join(fs.lattice[phonemes].extent))\n",
      "        return patron2regexp(positions)\n",
      "\n",
      "class pairePatrons:\n",
      "    '''\n",
      "    Accumulateur de triplets (f1,f2,patron) correspondant \u00e0 une paire pour calcul des G\u00e9n\u00e9ralisations Minimales (cf. MGL)\n",
      "    '''\n",
      "    def __init__(self,case1,case2):\n",
      "        self.patrons1={}\n",
      "        self.patrons2={}\n",
      "        self.case1=case1\n",
      "        self.case2=case2\n",
      "\n",
      "#    def __repr__(self):\n",
      "#        return ','.join(self.calculerGM())\n",
      "        \n",
      "    def ajouterFormes(self,forme1,forme2,patron):\n",
      "#        print forme1,forme2,patron\n",
      "        patron12=patron\n",
      "        (pat1,pat2)=patron.split(\"-\")\n",
      "        patron21=pat2+\"-\"+pat1\n",
      "#        print patron12,patron21\n",
      "        if not patron12 in self.patrons1:\n",
      "            self.patrons1[patron12]=formesPatron()\n",
      "        self.patrons1[patron12].ajouterForme(forme1)\n",
      "        if not patron21 in self.patrons2:\n",
      "            self.patrons2[patron21]=formesPatron()\n",
      "        self.patrons2[patron21].ajouterForme(forme2)\n",
      "        \n",
      "        \n",
      "    def calculerGM(self):\n",
      "        resultat1={}\n",
      "        for patron in self.patrons1:\n",
      "            if debug: print \"patron1\", patron\n",
      "            resultat1[patron]=self.patrons1[patron].calculerGM()\n",
      "        resultat2={}\n",
      "        for patron in self.patrons2:\n",
      "            if debug: print \"patron2\", patron\n",
      "            resultat2[patron]=self.patrons2[patron].calculerGM()\n",
      "        return (resultat1,resultat2) "
     ],
     "language": "python",
     "metadata": {},
     "outputs": [],
     "prompt_number": 23
    },
    {
     "cell_type": "markdown",
     "metadata": {},
     "source": [
      "#Classe pour la gestion des patrons, des classes et des transformations"
     ]
    },
    {
     "cell_type": "code",
     "collapsed": false,
     "input": [
      "class paireClasses:\n",
      "    def __init__(self,case1,case2):\n",
      "        self.case1=case1\n",
      "        self.case2=case2\n",
      "        self.nom=case1+\"-\"+case2\n",
      "        self.classes1=classesPaire(case1,case2)\n",
      "        self.classes2=classesPaire(case2,case1)\n",
      "\n",
      "    def ajouterPatron(self,n,patron,motif):\n",
      "        if n==1:\n",
      "            self.classes1.ajouterPatron(patron,motif)\n",
      "        elif n==2:\n",
      "            self.classes2.ajouterPatron(patron,motif)\n",
      "        else:\n",
      "            print \"le num\u00e9ro de forme n'est pas dans [1,2]\",n\n",
      "\n",
      "    def ajouterPaire(self,forme1,forme2):\n",
      "        self.classes1.ajouterPaire(forme1,forme2)\n",
      "        self.classes2.ajouterPaire(forme2,forme1)\n",
      "        \n",
      "    def calculerClasses(self):\n",
      "        return(self.classes1,self.classes2)\n",
      "\n",
      "    \n",
      "class classesPaire:\n",
      "    '''\n",
      "    Gestion des patrons, des classes et des transformations\n",
      "    \n",
      "    ajouterPatron : ajoute un patron et son motif associ\u00e9 (MGL)\n",
      "    ajouterPaire : ajoute une paire de formes, calcule la classe de la forme1 et la r\u00e8gle s\u00e9lectionn\u00e9e\n",
      "    sortirForme : cacule les formes de sortie correspondant \u00e0 la forme1 avec leurs coefficients respectifs\n",
      "    '''\n",
      "    def __init__(self,case1,case2):\n",
      "        self.case1=case1\n",
      "        self.case2=case2\n",
      "        self.nom=case1+\"-\"+case2\n",
      "        self.classe={}\n",
      "        self.nbClasse={}\n",
      "        self.patrons={}\n",
      "        self.entree={}\n",
      "        self.sortie={}\n",
      "    \n",
      "    def ajouterPatron(self,patron,motif):\n",
      "        self.patrons[patron]=motif\n",
      "        (entree,sortie)=patron.split(\"-\")\n",
      "        self.entree[patron]=entree.replace(u\".\",u\"(.)\")\n",
      "        self.sortie[patron]=remplacementSortie(sortie)\n",
      "    \n",
      "    def ajouterPaire(self,forme1,forme2):\n",
      "        '''\n",
      "        on calcule la classe de la paire idClasseForme et la r\u00e8gle s\u00e9lectionn\u00e9e\n",
      "        on incr\u00e9mente le compteur de la classe et celui de la r\u00e8gle s\u00e9lectionn\u00e9e \u00e0 l'int\u00e9rieur de la classe\n",
      "        '''\n",
      "        classeForme=[]\n",
      "        regleForme=\"\"\n",
      "        for patron in self.patrons:\n",
      "            if re.match(self.patrons[patron],forme1):\n",
      "                classeForme.append(patron)\n",
      "                '''\n",
      "                le +\"$\" permet de forcer l'alignement \u00e0 droite pour les transformations suffixales\n",
      "                '''\n",
      "                if forme2==re.sub(self.entree[patron]+\"$\",self.sortie[patron],forme1):\n",
      "                    regleForme=patron\n",
      "        idClasseForme=\", \".join(classeForme)\n",
      "        if not idClasseForme in self.classe:\n",
      "            self.classe[idClasseForme]={}\n",
      "            self.nbClasse[idClasseForme]=0\n",
      "        if not regleForme in self.classe[idClasseForme]:\n",
      "            self.classe[idClasseForme][regleForme]=0\n",
      "        self.nbClasse[idClasseForme]+=1\n",
      "        self.classe[idClasseForme][regleForme]+=1\n",
      "\n",
      "    def sortirForme(self,forme):\n",
      "        classeForme=[]\n",
      "        sortieForme={}\n",
      "        for patron in self.patrons:\n",
      "            if re.match(self.patrons[patron],forme):\n",
      "                classeForme.append(patron)\n",
      "        if classeForme:\n",
      "            idClasseForme=\", \".join(classeForme)\n",
      "            if idClasseForme in self.nbClasse:\n",
      "                nTotal=self.nbClasse[idClasseForme]\n",
      "                for patron in self.classe[idClasseForme]:\n",
      "                    sortie=re.sub(self.entree[patron]+\"$\",self.sortie[patron],forme)\n",
      "                    sortieForme[sortie]=float(self.classe[idClasseForme][patron])/nTotal\n",
      "            else:\n",
      "                print forme\n",
      "                print \"pas de classe\",idClasseForme\n",
      "                print \"%.2f par forme de sortie\" % (float(1)/len(classeForme))\n",
      "                nTotal=len(classeForme)\n",
      "                for patron in classeForme:\n",
      "                    sortie=re.sub(self.entree[patron]+\"$\",self.sortie[patron],forme)\n",
      "                    sortieForme[sortie]=float(1)/nTotal\n",
      "        else:\n",
      "            print forme\n",
      "            print \"pas de patron\"\n",
      "        return sortieForme\n",
      "        "
     ],
     "language": "python",
     "metadata": {},
     "outputs": [],
     "prompt_number": 24
    },
    {
     "cell_type": "markdown",
     "metadata": {},
     "source": [
      "##Appliquer la formule de calcul des diff\u00e9rences entre chaines \u00e0 chaque ligne\n",
      "\n",
      ">si il y a au moins une ligne\n",
      "\n",
      ">>on applique la diff\u00e9rence \u00e0 la ligne\n",
      "\n",
      ">>on calcule les deux patrons par suppression des points initiaux\n",
      "\n",
      ">>on renvoie le groupement par patrons (1&2)\n",
      "\n",
      ">sinon\n",
      "\n",
      ">>on renvoie le paradigme vide d'origine"
     ]
    },
    {
     "cell_type": "code",
     "collapsed": false,
     "input": [
      "def OLDrapports(paradigme):\n",
      "    (case1,case2,lexeme)= paradigme.columns.values.tolist()\n",
      "    patrons=pairePatrons(case1,case2)\n",
      "    if len(paradigme)>0:\n",
      "#        for index, row in paradigme.iterrows():\n",
      "#            patrons.ajouterFormes(row[0],row[1],diff(row[0],row[1]))\n",
      "        paradigme.apply(lambda x: patrons.ajouterFormes(x[case1],x[case2],diff(x[case1],x[case2])), axis=1)\n",
      "        (regles1,regles2)=patrons.calculerGM()\n",
      "    return patrons.calculerGM()"
     ],
     "language": "python",
     "metadata": {},
     "outputs": [],
     "prompt_number": 25
    },
    {
     "cell_type": "code",
     "collapsed": false,
     "input": [
      "def rapports(paradigme):\n",
      "    if len(paradigme.columns.values.tolist())==2:\n",
      "        (case1,lexeme)= paradigme.columns.values.tolist()\n",
      "        case2=case1\n",
      "    else:\n",
      "        (case1,case2,lexeme)= paradigme.columns.values.tolist()\n",
      "    patrons=pairePatrons(case1,case2)\n",
      "    classes=paireClasses(case1,case2)\n",
      "    if len(paradigme)>0:\n",
      "        paradigme.apply(lambda x: patrons.ajouterFormes(x[case1],x[case2],diff(x[case1],x[case2])), axis=1)\n",
      "        (regles1,regles2)=patrons.calculerGM()\n",
      "        for regle in regles1:\n",
      "            classes.ajouterPatron(1,regle,regles1[regle])\n",
      "        for regle in regles2:\n",
      "            classes.ajouterPatron(2,regle,regles2[regle])\n",
      "        paradigme.apply(lambda x: classes.ajouterPaire(x[case1],x[case2]), axis=1)\n",
      "    (classes1,classes2)=classes.calculerClasses()\n",
      "    return (classes1,classes2)"
     ],
     "language": "python",
     "metadata": {},
     "outputs": [],
     "prompt_number": 26
    },
    {
     "cell_type": "markdown",
     "metadata": {},
     "source": [
      "###D\u00e9doubler les lignes avec des surabondances dans *colonne*\n",
      ">identifier une ligne avec surabondance\n",
      "\n",
      ">>ajouter les lignes correspondant \u00e0 chaque valeur\n",
      "\n",
      ">>ajouter le num\u00e9ro de la ligne initiale dans les lignes \u00e0 supprimer\n",
      "\n",
      ">supprimer les lignes avec surabondance\n",
      "\n",
      "NB : il faut pr\u00e9parer le tableau pour avoir une indexation qui permette l'ajout des valeurs individuelles et la suppression des lignes de surabondances"
     ]
    },
    {
     "cell_type": "code",
     "collapsed": false,
     "input": [
      "def splitCellMates(df,colonne):\n",
      "    '''\n",
      "    Calcul d'une dataframe sans surabondance par d\u00e9doublement des valeurs\n",
      "    '''\n",
      "    test=df.reset_index()\n",
      "    del test[\"index\"]\n",
      "    splitIndexes=[]\n",
      "    for index,ligne in test.iterrows():\n",
      "        if \",\" in ligne[colonne]:\n",
      "            valeurs=set(ligne[colonne].split(\",\"))\n",
      "            nouvelleLigne=ligne\n",
      "            for valeur in valeurs:\n",
      "                nouvelleLigne[colonne]=valeur\n",
      "                test=test.append(nouvelleLigne,ignore_index=True)\n",
      "            splitIndexes.append(index)\n",
      "    if splitIndexes:\n",
      "        test=test.drop(test.index[splitIndexes])\n",
      "    return test\n"
     ],
     "language": "python",
     "metadata": {},
     "outputs": [],
     "prompt_number": 27
    },
    {
     "cell_type": "markdown",
     "metadata": {},
     "source": [
      "##Calculer les rapports entre formes pour chaque paire\n",
      "\n",
      ">on fait la liste des cases de *paradigmes*\n",
      "\n",
      ">pour chaque paire du tableau principal\n",
      "\n",
      ">>si la paire fait partie des cases de *paradigmes*\n",
      "\n",
      ">>>on calcule le rapport\n",
      "\n",
      ">>sinon\n",
      "\n",
      ">>>on signale que qu'une des cases n'est pas repr\u00e9sent\u00e9e"
     ]
    },
    {
     "cell_type": "code",
     "collapsed": false,
     "input": [
      "def evaluerEchantillon(paradigmes):\n",
      "    result={}\n",
      "    colonnes=paradigmes.columns.values.tolist()\n",
      "    for paire in it.combinations_with_replacement(listeCases,2):\n",
      "        if debug: print paire\n",
      "#        if paire[0]==paire[1]:\n",
      "#            paireListe=[paire[0]]\n",
      "#        else:\n",
      "#            paireListe=list(paire)\n",
      "        paireListe=list(paire)\n",
      "        paireListe.append(\"lexeme\")\n",
      "        if paire[0] in colonnes and paire[1] in colonnes:\n",
      "            paradigmePaire=paradigmes[paireListe].dropna(thresh=3, axis=0).reindex()\n",
      "            if paire[0]==paire[1]:\n",
      "                paireListe[1]=\"TEMP\"\n",
      "                paradigmePaire.columns=paireListe\n",
      "            paradigmePaire=splitCellMates(splitCellMates(paradigmePaire,paireListe[0]),paireListe[1])\n",
      "            result[paire]=rapports(paradigmePaire)\n",
      "        else:\n",
      "            result[paire]=(\"missing pair\", paire)\n",
      "    return result"
     ],
     "language": "python",
     "metadata": {},
     "outputs": [],
     "prompt_number": 28
    },
    {
     "cell_type": "markdown",
     "metadata": {},
     "source": [
      "###Boucle de calcul des analogies pour l'\u00e9chantillon"
     ]
    },
    {
     "cell_type": "code",
     "collapsed": false,
     "input": [
      "%%time\n",
      "debug=False\n",
      "resultats=evaluerEchantillon(paradigmes)"
     ],
     "language": "python",
     "metadata": {},
     "outputs": [
      {
       "output_type": "stream",
       "stream": "stdout",
       "text": [
        "CPU times: user 1h 35min 47s, sys: 13.5 s, total: 1h 36min\n",
        "Wall time: 1h 38min 42s\n"
       ]
      }
     ],
     "prompt_number": 29
    },
    {
     "cell_type": "code",
     "collapsed": false,
     "input": [
      "classesFinales={}\n",
      "for resultat in resultats:\n",
      "    classesFinales[resultat]=resultats[resultat][0]\n",
      "    classesFinales[(resultat[1],resultat[0])]=resultats[resultat][1]"
     ],
     "language": "python",
     "metadata": {},
     "outputs": [],
     "prompt_number": 30
    },
    {
     "cell_type": "code",
     "collapsed": false,
     "input": [
      "with open(filePrefix+typeEchantillon+'-Regles.pkl', 'wb') as output:\n",
      "   pickle.dump(classesFinales, output, pickle.HIGHEST_PROTOCOL)"
     ],
     "language": "python",
     "metadata": {},
     "outputs": [],
     "prompt_number": 31
    },
    {
     "cell_type": "code",
     "collapsed": false,
     "input": [
      "classesFinales[('pi2S', 'pi3P')].sortirForme(\"aswa\")"
     ],
     "language": "python",
     "metadata": {},
     "outputs": [
      {
       "metadata": {},
       "output_type": "pyout",
       "prompt_number": 32,
       "text": [
        "{u'asEj': 0.5, 'aswa': 0.5}"
       ]
      }
     ],
     "prompt_number": 32
    },
    {
     "cell_type": "code",
     "collapsed": false,
     "input": [
      "with open(filePrefix+typeEchantillon+'-Regles.pkl', 'rb') as input:\n",
      "    resultatsLecture = pickle.load(input)"
     ],
     "language": "python",
     "metadata": {},
     "outputs": [],
     "prompt_number": 33
    },
    {
     "cell_type": "code",
     "collapsed": false,
     "input": [
      "resultatsLecture[('ii1S', 'inf')].sortirForme(u\"kurisE\")"
     ],
     "language": "python",
     "metadata": {},
     "outputs": [
      {
       "metadata": {},
       "output_type": "pyout",
       "prompt_number": 34,
       "text": [
        "{u'kurir': 0.9107142857142857, u'kurise': 0.08928571428571429}"
       ]
      }
     ],
     "prompt_number": 34
    },
    {
     "cell_type": "code",
     "collapsed": false,
     "input": [
      "paradigmes[paradigmes[\"lexeme\"]==\"asseoir\"][\"fi1P\"].iloc[0]"
     ],
     "language": "python",
     "metadata": {},
     "outputs": [
      {
       "metadata": {},
       "output_type": "pyout",
       "prompt_number": 66,
       "text": [
        "u'asjEr\\xf4,aswar\\xf4'"
       ]
      }
     ],
     "prompt_number": 66
    },
    {
     "cell_type": "code",
     "collapsed": false,
     "input": [
      "%%time\n",
      "for forme in listeCases:\n",
      "    depart=paradigmes[paradigmes[\"lexeme\"]==\"manger\"][forme].iloc[0]\n",
      "    print forme,depart\n",
      "    for case in listeCases:\n",
      "        print case, resultatsLecture[(forme, case)].sortirForme(depart),\n",
      "    print"
     ],
     "language": "python",
     "metadata": {},
     "outputs": [
      {
       "output_type": "stream",
       "stream": "stdout",
       "text": [
        "inf m\u00e2Ze\n",
        "inf {u'm\\xe2Ze': 1.0} pi1S {u'm\\xe2Z': 1.0} pi2S {u'm\\xe2Z': 1.0} pi3S {u'm\\xe2Z': 1.0} pi1P {u'm\\xe2Z\\xf4': 1.0} pi2P {u'm\\xe2Ze': 1.0} pi3P {u'm\\xe2Z': 1.0} ii1S {u'm\\xe2ZE': 1.0} ii2S {u'm\\xe2ZE': 1.0} ii3S {u'm\\xe2ZE': 1.0} ii1P {u'm\\xe2Zj\\xf4': 1.0} ii2P {u'm\\xe2Zje': 1.0} ii3P {u'm\\xe2ZE': 1.0} fi1S {u'm\\xe2Z6rE': 1.0} fi2S {u'm\\xe2Z6ra': 1.0} fi3S {u'm\\xe2Z6ra': 1.0} fi1P {u'm\\xe2Z6r\\xf4': 1.0} fi2P {u'm\\xe2Z6re': 1.0} fi3P {u'm\\xe2Z6r\\xf4': 1.0} pI2S {u'm\\xe2Z': 1.0} pI1P {u'm\\xe2Z\\xf4': 1.0} pI2P {u'm\\xe2Ze': 1.0} ps1S {u'm\\xe2Z': 1.0} ps2S {u'm\\xe2Z': 1.0} ps3S {u'm\\xe2Z': 1.0} ps1P {u'm\\xe2Zj\\xf4': 1.0} ps2P {u'm\\xe2Zje': 1.0} ps3P {u'm\\xe2Z': 1.0} pc1S {u'm\\xe2Z6rE': 1.0} pc2S {u'm\\xe2Z6rE': 1.0} pc3S {u'm\\xe2Z6rE': 1.0} pc1P {u'm\\xe2Z6rj\\xf4': 1.0} pc2P {u'm\\xe2Z6rje': 1.0} pc3P {u'm\\xe2Z6rE': 1.0} pP {u'm\\xe2Z\\xe2': 1.0} ai1S {u'm\\xe2ZE': 1.0} ai2S {u'm\\xe2Za': 1.0} ai3S {u'm\\xe2Za': 1.0} ai1P {u'm\\xe2Zam': 1.0} ai2P {u'm\\xe2Zat': 1.0} ai3P {u'm\\xe2ZEr': 1.0} is1S {u'm\\xe2Zas': 1.0} is2S {u'm\\xe2Zas': 1.0} is3S {u'm\\xe2Za': 1.0} is1P {u'm\\xe2Zasj\\xf4': 1.0} is2P {u'm\\xe2Zasje': 1.0} is3P {u'm\\xe2Zas': 1.0}\n",
        "pi1S m\u00e2Z\n",
        "inf {u'm\\xe2Ze': 1.0} pi1S {u'm\\xe2Z': 1.0} pi2S {u'm\\xe2Z': 1.0} pi3S {u'm\\xe2Z': 1.0} pi1P {u'm\\xe2Z\\xf4': 1.0} pi2P {u'm\\xe2Ze': 1.0} pi3P {u'm\\xe2Z': 1.0} ii1S {u'm\\xe2ZE': 1.0} ii2S {u'm\\xe2ZE': 1.0} ii3S {u'm\\xe2ZE': 1.0} ii1P {u'm\\xe2Zj\\xf4': 1.0} ii2P {u'm\\xe2Zje': 1.0} ii3P {u'm\\xe2ZE': 1.0} fi1S {u'm\\xe2Z6rE': 1.0} fi2S {u'm\\xe2Z6ra': 1.0} fi3S {u'm\\xe2Z6ra': 1.0} fi1P {u'm\\xe2Z6r\\xf4': 1.0} fi2P {u'm\\xe2Z6re': 1.0} fi3P {u'm\\xe2Z6r\\xf4': 1.0} pI2S {u'm\\xe2Z': 1.0} pI1P {u'm\\xe2Z\\xf4': 1.0} pI2P {u'm\\xe2Ze': 1.0} ps1S {u'm\\xe2Z': 1.0} ps2S {u'm\\xe2Z': 1.0} ps3S {u'm\\xe2Z': 1.0} ps1P {u'm\\xe2Zj\\xf4': 1.0} ps2P {u'm\\xe2Zje': 1.0} ps3P {u'm\\xe2Z': 1.0} pc1S {u'm\\xe2Z6rE': 1.0} pc2S {u'm\\xe2Z6rE': 1.0} pc3S {u'm\\xe2Z6rE': 1.0} pc1P {u'm\\xe2Z6rj\\xf4': 1.0} pc2P {u'm\\xe2Z6rje': 1.0} pc3P {u'm\\xe2Z6rE': 1.0} pP {u'm\\xe2Z\\xe2': 1.0} ai1S "
       ]
      },
      {
       "output_type": "stream",
       "stream": "stdout",
       "text": [
        "{u'm\\xe2ZE': 1.0} ai2S {u'm\\xe2Za': 1.0} ai3S {u'm\\xe2Za': 1.0} ai1P {u'm\\xe2Zam': 1.0} ai2P {u'm\\xe2Zat': 1.0} ai3P {u'm\\xe2ZEr': 1.0} is1S {u'm\\xe2Zas': 1.0} is2S {u'm\\xe2Zas': 1.0} is3S {u'm\\xe2Za': 1.0} is1P {u'm\\xe2Zasj\\xf4': 1.0} is2P {u'm\\xe2Zasje': 1.0} is3P {u'm\\xe2Zas': 1.0}\n",
        "pi2S m\u00e2Z\n",
        "inf {u'm\\xe2Ze': 1.0} pi1S {u'm\\xe2Z': 1.0} pi2S {u'm\\xe2Z': 1.0} pi3S {u'm\\xe2Z': 1.0} pi1P {u'm\\xe2Z\\xf4': 1.0} pi2P {u'm\\xe2Ze': 1.0} pi3P {u'm\\xe2Z': 1.0} ii1S {u'm\\xe2ZE': 1.0} ii2S {u'm\\xe2ZE': 1.0} ii3S {u'm\\xe2ZE': 1.0} ii1P {u'm\\xe2Zj\\xf4': 1.0} ii2P {u'm\\xe2Zje': 1.0} ii3P {u'm\\xe2ZE': 1.0} fi1S {u'm\\xe2Z6rE': 1.0} fi2S {u'm\\xe2Z6ra': 1.0} fi3S {u'm\\xe2Z6ra': 1.0} fi1P {u'm\\xe2Z6r\\xf4': 1.0} fi2P {u'm\\xe2Z6re': 1.0} fi3P {u'm\\xe2Z6r\\xf4': 1.0} pI2S {u'm\\xe2Z': 1.0} pI1P {u'm\\xe2Z\\xf4': 1.0} pI2P {u'm\\xe2Ze': 1.0} ps1S {u'm\\xe2Z': 1.0} ps2S {u'm\\xe2Z': 1.0} ps3S {u'm\\xe2Z': 1.0} ps1P {u'm\\xe2Zj\\xf4': 1.0} ps2P {u'm\\xe2Zje': 1.0} ps3P {u'm\\xe2Z': 1.0} pc1S {u'm\\xe2Z6rE': 1.0} pc2S {u'm\\xe2Z6rE': 1.0} pc3S {u'm\\xe2Z6rE': 1.0} pc1P {u'm\\xe2Z6rj\\xf4': 1.0} pc2P {u'm\\xe2Z6rje': 1.0} pc3P {u'm\\xe2Z6rE': 1.0} pP {u'm\\xe2Z\\xe2': 1.0} ai1S {u'm\\xe2ZE': 1.0} ai2S {u'm\\xe2Za': 1.0} ai3S {u'm\\xe2Za': 1.0} ai1P {u'm\\xe2Zam': 1.0} ai2P {u'm\\xe2Zat': 1.0} ai3P {u'm\\xe2ZEr': 1.0} is1S {u'm\\xe2Zas': 1.0} is2S {u'm\\xe2Zas': 1.0} is3S {u'm\\xe2Za': 1.0} is1P {u'm\\xe2Zasj\\xf4': 1.0} is2P {u'm\\xe2Zasje': 1.0} is3P {u'm\\xe2Zas': 1.0}\n",
        "pi3S m\u00e2Z\n",
        "inf {u'm\\xe2Ze': 1.0} pi1S {u'm\\xe2Z': 1.0} pi2S {u'm\\xe2Z': 1.0} pi3S {u'm\\xe2Z': 1.0} pi1P {u'm\\xe2Z\\xf4': 1.0} pi2P {u'm\\xe2Ze': 1.0} pi3P {u'm\\xe2Z': 1.0} ii1S {u'm\\xe2ZE': 1.0} ii2S {u'm\\xe2ZE': 1.0} ii3S {u'm\\xe2ZE': 1.0} ii1P {u'm\\xe2Zj\\xf4': 1.0} ii2P {u'm\\xe2Zje': 1.0} ii3P {u'm\\xe2ZE': 1.0} fi1S {u'm\\xe2Z6rE': 1.0} fi2S {u'm\\xe2Z6ra': 1.0} fi3S {u'm\\xe2Z6ra': 1.0} fi1P {u'm\\xe2Z6r\\xf4': 1.0} fi2P {u'm\\xe2Z6re': 1.0} fi3P {u'm\\xe2Z6r\\xf4': 1.0} pI2S {u'm\\xe2Z': 1.0} pI1P {u'm\\xe2Z\\xf4': 1.0} pI2P {u'm\\xe2Ze': 1.0} ps1S {u'm\\xe2Z': 1.0} ps2S {u'm\\xe2Z': 1.0} ps3S {u'm\\xe2Z': 1.0} ps1P {u'm\\xe2Zj\\xf4': 1.0} ps2P {u'm\\xe2Zje': 1.0} ps3P {u'm\\xe2Z': 1.0} pc1S {u'm\\xe2Z6rE': 1.0} pc2S {u'm\\xe2Z6rE': 1.0} pc3S {u'm\\xe2Z6rE': 1.0} pc1P {u'm\\xe2Z6rj\\xf4': 1.0} pc2P {u'm\\xe2Z6rje': 1.0} pc3P {u'm\\xe2Z6rE': 1.0} pP {u'm\\xe2Z\\xe2': 1.0} ai1S {u'm\\xe2ZE': 1.0} ai2S {u'm\\xe2Za': 1.0} ai3S {u'm\\xe2Za': 1.0} ai1P {u'm\\xe2Zam': 1.0} ai2P {u'm\\xe2Zat': 1.0} ai3P {u'm\\xe2ZEr': 1.0} is1S {u'm\\xe2Zas': 1.0} is2S {u'm\\xe2Zas': 1.0} is3S {u'm\\xe2Za': 1.0} is1P {u'm\\xe2Zasj\\xf4': 1.0} is2P {u'm\\xe2Zasje': 1.0} is3P {u'm\\xe2Zas': 1.0}\n",
        "pi1P m\u00e2Z\u00f4\n",
        "inf {u'm\\xe2Zr': 0.03677758318739054, u'm\\xe2Zir': 0.017075306479859893, u'm\\xe2Ze': 0.9461471103327496} pi1S {u'm\\xe2Z': 1.0} pi2S {u'm\\xe2Z': 1.0} pi3S {u'm\\xe2Z': 1.0} pi1P {u'm\\xe2Z\\xf4': 1.0} pi2P {u'm\\xe2Ze': 1.0} pi3P {u'm\\xe2Z': 1.0} ii1S {u'm\\xe2ZE': 1.0} ii2S {u'm\\xe2ZE': 1.0} ii3S {u'm\\xe2ZE': 1.0} ii1P {u'm\\xe2Zj\\xf4': 1.0} ii2P {u'm\\xe2Zje': 1.0} ii3P {u'm\\xe2ZE': 1.0} fi1S {u'm\\xe2Z6rE': 0.9491142103279306, u'm\\xe2ZirE': 0.012438748586505842, u'm\\xe2ZrE': 0.038447041085563516} fi2S {u'm\\xe2Zra': 0.038447041085563516, u'm\\xe2Z6ra': 0.9491142103279306, u'm\\xe2Zira': 0.012438748586505842} fi3S {u'm\\xe2Zra': 0.038447041085563516, u'm\\xe2Z6ra': 0.9491142103279306, u'm\\xe2Zira': 0.012438748586505842} fi1P {u'm\\xe2Z6r\\xf4': 0.9491142103279306, u'm\\xe2Zir\\xf4': 0.012438748586505842, u'm\\xe2Zr\\xf4': 0.038447041085563516} fi2P {u'm\\xe2Z6re': 0.9491142103279306, u'm\\xe2Zire': 0.012438748586505842, u'm\\xe2Zre': 0.038447041085563516} fi3P {u'm\\xe2Z6r\\xf4': 0.9491142103279306, u'm\\xe2Zir\\xf4': 0.012438748586505842, u'm\\xe2Zr\\xf4': 0.038447041085563516} pI2S "
       ]
      },
      {
       "output_type": "stream",
       "stream": "stdout",
       "text": [
        "{u'm\\xe2Z': 1.0} pI1P {u'm\\xe2Z\\xf4': 1.0} pI2P {u'm\\xe2Ze': 1.0} ps1S {u'm\\xe2Z': 1.0} ps2S {u'm\\xe2Z': 1.0} ps3S {u'm\\xe2Z': 1.0} ps1P {u'm\\xe2Zj\\xf4': 1.0} ps2P {u'm\\xe2Zje': 1.0} ps3P {u'm\\xe2Z': 1.0} pc1S {u'm\\xe2Z6rE': 0.9491142103279306, u'm\\xe2ZirE': 0.012438748586505842, u'm\\xe2ZrE': 0.038447041085563516} pc2S {u'm\\xe2Z6rE': 0.9491142103279306, u'm\\xe2ZirE': 0.012438748586505842, u'm\\xe2ZrE': 0.038447041085563516} pc3S {u'm\\xe2Z6rE': 0.9491142103279306, u'm\\xe2ZirE': 0.012438748586505842, u'm\\xe2ZrE': 0.038447041085563516} pc1P {u'm\\xe2Z6rj\\xf4': 0.9485257371314343, u'm\\xe2Zri\\xf4': 0.04397801099450275, u'm\\xe2Zirj\\xf4': 0.0074962518740629685} pc2P {u'm\\xe2Z6rje': 0.9485257371314343, u'm\\xe2Zirje': 0.0074962518740629685, u'm\\xe2Zrie': 0.04397801099450275} pc3P {u'm\\xe2Z6rE': 0.9491142103279306, u'm\\xe2ZirE': 0.012438748586505842, u'm\\xe2ZrE': 0.038447041085563516} pP {u'm\\xe2Z\\xe2': 1.0} ai1S {u'm\\xe2Zi': 0.03668413530252501, u'm\\xe2ZE': 0.963315864697475} ai2S {u'm\\xe2Za': 0.963315864697475, u'm\\xe2Zi': 0.03668413530252501} ai3S {u'm\\xe2Za': 0.963315864697475, u'm\\xe2Zi': 0.03668413530252501} ai1P {u'm\\xe2Zam': 0.963315864697475, u'm\\xe2Zim': 0.03668413530252501} ai2P {u'm\\xe2Zit': 0.03668413530252501, u'm\\xe2Zat': 0.963315864697475} ai3P {u'm\\xe2ZEr': 0.963315864697475, u'm\\xe2Zir': 0.03668413530252501} is1S {u'm\\xe2Zis': 0.04370422867942358, u'm\\xe2Zas': 0.9562957713205764} is2S {u'm\\xe2Zis': 0.04370422867942358, u'm\\xe2Zas': 0.9562957713205764} is3S {u'm\\xe2Za': 0.9562957713205764, u'm\\xe2Zi': 0.04370422867942358} is1P {u'm\\xe2Zasj\\xf4': 0.9562957713205764, u'm\\xe2Zisj\\xf4': 0.04370422867942358} is2P {u'm\\xe2Zasje': 0.9562957713205764, u'm\\xe2Zisje': 0.04370422867942358} is3P {u'm\\xe2Zis': 0.04370422867942358, u'm\\xe2Zas': 0.9562957713205764}\n",
        "pi2P m\u00e2Ze\n",
        "inf m\u00e2Ze\n",
        "pas de classe -, e-ir, e-r\n",
        "0.33 par forme de sortie\n",
        "{u'm\\xe2Zr': 0.3333333333333333, u'm\\xe2Zir': 0.3333333333333333, u'm\\xe2Ze': 0.3333333333333333} pi1S {u'm\\xe2Z': 1.0} pi2S {u'm\\xe2Z': 1.0} pi3S {u'm\\xe2Z': 1.0} pi1P {u'm\\xe2Z\\xf4': 1.0} pi2P {u'm\\xe2Ze': 1.0} pi3P {u'm\\xe2Z': 1.0} ii1S {u'm\\xe2ZE': 1.0} ii2S {u'm\\xe2ZE': 1.0} ii3S {u'm\\xe2ZE': 1.0} ii1P {u'm\\xe2Zj\\xf4': 1.0} ii2P {u'm\\xe2Zje': 1.0} ii3P {u'm\\xe2ZE': 1.0} fi1S {u'm\\xe2Z6rE': 0.9491142103279306, u'm\\xe2ZirE': 0.012438748586505842, u'm\\xe2ZrE': 0.038447041085563516} fi2S {u'm\\xe2Zra': 0.038447041085563516, u'm\\xe2Z6ra': 0.9491142103279306, u'm\\xe2Zira': 0.012438748586505842} fi3S {u'm\\xe2Zra': 0.038447041085563516, u'm\\xe2Z6ra': 0.9491142103279306, u'm\\xe2Zira': 0.012438748586505842} fi1P {u'm\\xe2Z6r\\xf4': 0.9491142103279306, u'm\\xe2Zir\\xf4': 0.012438748586505842, u'm\\xe2Zr\\xf4': 0.038447041085563516} fi2P {u'm\\xe2Z6re': 0.9491142103279306, u'm\\xe2Zire': 0.012438748586505842, u'm\\xe2Zre': 0.038447041085563516} fi3P {u'm\\xe2Z6r\\xf4': 0.9491142103279306, u'm\\xe2Zir\\xf4': 0.012438748586505842, u'm\\xe2Zr\\xf4': 0.038447041085563516} pI2S {u'm\\xe2Z': 1.0} pI1P {u'm\\xe2Z\\xf4': 1.0} pI2P {u'm\\xe2Ze': 1.0} ps1S {u'm\\xe2Z': 1.0} ps2S {u'm\\xe2Z': 1.0} ps3S {u'm\\xe2Z': 1.0} ps1P {u'm\\xe2Zj\\xf4': 1.0} ps2P {u'm\\xe2Zje': 1.0} ps3P {u'm\\xe2Z': 1.0} pc1S {u'm\\xe2Z6rE': 0.9491142103279306, u'm\\xe2ZirE': 0.012438748586505842, u'm\\xe2ZrE': 0.038447041085563516} pc2S {u'm\\xe2Z6rE': 0.9491142103279306, u'm\\xe2ZirE': 0.012438748586505842, u'm\\xe2ZrE': 0.038447041085563516} pc3S {u'm\\xe2Z6rE': 0.9491142103279306, u'm\\xe2ZirE': 0.012438748586505842, u'm\\xe2ZrE': 0.038447041085563516} pc1P m\u00e2Ze\n",
        "pas de classe e-ri\u00f4, e-6rj\u00f4, e-irj\u00f4\n",
        "0.33 par forme de sortie\n",
        "{u'm\\xe2Zri\\xf4': 0.3333333333333333, u'm\\xe2Z6rj\\xf4': 0.3333333333333333, u'm\\xe2Zirj\\xf4': 0.3333333333333333} pc2P {u'm\\xe2Zrie': 0.04397801099450275, u'm\\xe2Zirje': 0.0074962518740629685, u'm\\xe2Z6rje': 0.9485257371314343} pc3P {u'm\\xe2Z6rE': 0.9491142103279306, u'm\\xe2ZirE': 0.012438748586505842, u'm\\xe2ZrE': 0.038447041085563516} pP {u'm\\xe2Z\\xe2': 1.0} ai1S {u'm\\xe2Zi': 0.040964419475655434, u'm\\xe2ZE': 0.9590355805243446} ai2S {u'm\\xe2Za': 0.9590355805243446, u'm\\xe2Zi': 0.040964419475655434} ai3S {u'm\\xe2Za': 0.9590355805243446, u'm\\xe2Zi': 0.040964419475655434} ai1P {u'm\\xe2Zam': 0.9590355805243446, u'm\\xe2Zim': 0.040964419475655434} ai2P {u'm\\xe2Zit': 0.040964419475655434, u'm\\xe2Zat': 0.9590355805243446} ai3P {u'm\\xe2ZEr': 0.9590355805243446, u'm\\xe2Zir': 0.040964419475655434} is1S {u'm\\xe2Zis': 0.043043275942298745, u'm\\xe2Zas': 0.9569567240577013} is2S {u'm\\xe2Zis': 0.043043275942298745, u'm\\xe2Zas': 0.9569567240577013} is3S {u'm\\xe2Za': 0.9569567240577013, u'm\\xe2Zi': 0.043043275942298745} is1P {u'm\\xe2Zasj\\xf4': 0.9569567240577013, u'm\\xe2Zisj\\xf4': 0.043043275942298745} is2P {u'm\\xe2Zasje': 0.9569567240577013, u'm\\xe2Zisje': 0.043043275942298745} is3P {u'm\\xe2Zis': 0.043043275942298745, u'm\\xe2Zas': 0.9569567240577013}\n",
        "pi3P m\u00e2Z\n",
        "inf {u'm\\xe2Zr': 0.030978934324659233, u'm\\xe2Zir': 0.012804626187525816, u'm\\xe2Ze': 0.956216439487815} pi1S {u'm\\xe2Z': 1.0} pi2S {u'm\\xe2Z': 1.0} pi3S {u'm\\xe2Z': 1.0} pi1P {u'm\\xe2Z\\xf4': 1.0} pi2P {u'm\\xe2Ze': 1.0} pi3P {u'm\\xe2Z': 1.0} ii1S {u'm\\xe2ZE': 1.0} ii2S {u'm\\xe2ZE': 1.0} ii3S {u'm\\xe2ZE': 1.0} ii1P {u'm\\xe2Zj\\xf4': 1.0} ii2P {u'm\\xe2Zje': 1.0} ii3P {u'm\\xe2ZE': 1.0} fi1S {u'm\\xe2Z6rE': 0.9518423932871215, u'm\\xe2ZirE': 0.012769062385990515, u'm\\xe2ZrE': 0.035388544326888} fi2S m\u00e2Z\n",
        "pas de classe -ira, -6ra, -ra\n",
        "0.33 par forme de sortie\n",
        "{u'm\\xe2Zra': 0.3333333333333333, u'm\\xe2Z6ra': 0.3333333333333333, u'm\\xe2Zira': 0.3333333333333333} fi3S m\u00e2Z\n",
        "pas de classe -ira, -6ra, -ra\n",
        "0.33 par forme de sortie\n",
        "{u'm\\xe2Zra': 0.3333333333333333, u'm\\xe2Z6ra': 0.3333333333333333, u'm\\xe2Zira': 0.3333333333333333} fi1P {u'm\\xe2Z6r\\xf4': 0.9518423932871215, u'm\\xe2Zir\\xf4': 0.012769062385990515, u'm\\xe2Zr\\xf4': 0.035388544326888} fi2P {u'm\\xe2Z6re': 0.9518423932871215, u'm\\xe2Zire': 0.012769062385990515, u'm\\xe2Zre': 0.035388544326888} fi3P {u'm\\xe2Z6r\\xf4': 0.9512195121951219, u'm\\xe2Zir\\xf4': 0.013105205678922462, u'm\\xe2Zr\\xf4': 0.03567528212595559} pI2S {u'm\\xe2Z': 1.0} pI1P {u'm\\xe2Z\\xf4': 1.0} pI2P {u'm\\xe2Ze': 1.0} ps1S {u'm\\xe2Z': 1.0} ps2S {u'm\\xe2Z': 1.0} ps3S {u'm\\xe2Z': 1.0} ps1P {u'm\\xe2Zj\\xf4': 1.0} ps2P {u'm\\xe2Zje': 1.0} ps3P {u'm\\xe2Z': 1.0} pc1S {u'm\\xe2Z6rE': 0.9518423932871215, u'm\\xe2ZirE': 0.012769062385990515, u'm\\xe2ZrE': 0.035388544326888} pc2S {u'm\\xe2Z6rE': 0.9518423932871215, u'm\\xe2ZirE': 0.012769062385990515, u'm\\xe2ZrE': 0.035388544326888} pc3S {u'm\\xe2Z6rE': 0.9512017479970867, u'm\\xe2ZirE': 0.013109978150036417, u'm\\xe2ZrE': 0.035688273852876914} pc1P {u'm\\xe2Zri\\xf4': 0.04501770359129995, u'm\\xe2Z6rj\\xf4': 0.947395042994436, u'm\\xe2Zirj\\xf4': 0.007587253414264037} pc2P {u'm\\xe2Zrie': 0.04501770359129995, u'm\\xe2Zirje': 0.007587253414264037, u'm\\xe2Z6rje': 0.947395042994436} pc3P {u'm\\xe2Z6rE': 0.9512017479970867, u'm\\xe2ZirE': 0.013109978150036417, u'm\\xe2ZrE': 0.035688273852876914} pP {u'm\\xe2Z\\xe2': 1.0} ai1S {u'm\\xe2Zi': 0.042321990277380615, u'm\\xe2ZE': 0.9576780097226194} ai2S m\u00e2Z\n",
        "pas de classe -i, -a\n",
        "0.50 par forme de sortie\n",
        "{u'm\\xe2Zi': 0.5, u'm\\xe2Za': 0.5} ai3S m\u00e2Z\n",
        "pas de classe -i, -a\n",
        "0.50 par forme de sortie\n",
        "{u'm\\xe2Zi': 0.5, u'm\\xe2Za': 0.5} ai1P {u'm\\xe2Zam': 0.9576780097226194, u'm\\xe2Zim': 0.042321990277380615} ai2P {u'm\\xe2Zit': 0.042321990277380615, u'm\\xe2Zat': 0.9576780097226194} ai3P {u'm\\xe2ZEr': 0.9572405929304447, u'm\\xe2Zir': 0.042759407069555305} is1S {u'm\\xe2Zis': 0.050679501698754244, u'm\\xe2Zas': 0.9493204983012458} is2S {u'm\\xe2Zis': 0.050679501698754244, u'm\\xe2Zas': 0.9493204983012458} is3S m\u00e2Z\n",
        "pas de classe -i, -a\n",
        "0.50 par forme de sortie\n",
        "{u'm\\xe2Zi': 0.5, u'm\\xe2Za': 0.5} is1P {u'm\\xe2Zasj\\xf4': 0.9493204983012458, u'm\\xe2Zisj\\xf4': 0.050679501698754244} is2P {u'm\\xe2Zasje': 0.9493204983012458, u'm\\xe2Zisje': 0.050679501698754244} is3P {u'm\\xe2Zis': 0.05108664973186565, u'm\\xe2Zas': 0.9489133502681344}\n",
        "ii1S m\u00e2ZE\n",
        "inf {u'm\\xe2Zr': 0.0343980343980344, u'm\\xe2Zir': 0.0171990171990172, u'm\\xe2Ze': 0.9484029484029484} pi1S {u'm\\xe2Z': 1.0} pi2S {u'm\\xe2Z': 1.0} pi3S {u'm\\xe2Z': 1.0} pi1P {u'm\\xe2Z\\xf4': 1.0} pi2P {u'm\\xe2Ze': 1.0} pi3P {u'm\\xe2Z': 1.0} ii1S {u'm\\xe2ZE': 1.0} ii2S {u'm\\xe2ZE': 1.0} ii3S {u'm\\xe2ZE': 1.0} ii1P {u'm\\xe2Zj\\xf4': 1.0} ii2P"
       ]
      },
      {
       "output_type": "stream",
       "stream": "stdout",
       "text": [
        " {u'm\\xe2Zje': 1.0} ii3P {u'm\\xe2ZE': 1.0} fi1S {u'm\\xe2Z6rE': 0.9482691559704395, u'm\\xe2ZirE': 0.012057565149747181, u'm\\xe2ZrE': 0.039673278879813305} fi2S m\u00e2ZE\n",
        "pas de classe E-ira, E-ra, E-6ra\n",
        "0.33 par forme de sortie\n",
        "{u'm\\xe2Zra': 0.3333333333333333, u'm\\xe2Z6ra': 0.3333333333333333, u'm\\xe2Zira': 0.3333333333333333} fi3S m\u00e2ZE\n",
        "pas de classe E-ira, E-ra, E-6ra\n",
        "0.33 par forme de sortie\n",
        "{u'm\\xe2Zra': 0.3333333333333333, u'm\\xe2Z6ra': 0.3333333333333333, u'm\\xe2Zira': 0.3333333333333333} fi1P m\u00e2ZE\n",
        "pas de classe E-ir\u00f4, E-r\u00f4, E-6r\u00f4\n",
        "0.33 par forme de sortie\n",
        "{u'm\\xe2Z6r\\xf4': 0.3333333333333333, u'm\\xe2Zir\\xf4': 0.3333333333333333, u'm\\xe2Zr\\xf4': 0.3333333333333333} fi2P {u'm\\xe2Z6re': 0.9482691559704395, u'm\\xe2Zire': 0.012057565149747181, u'm\\xe2Zre': 0.039673278879813305} fi3P m\u00e2ZE\n",
        "pas de classe E-ir\u00f4, E-r\u00f4, E-6r\u00f4\n",
        "0.33 par forme de sortie\n",
        "{u'm\\xe2Z6r\\xf4': 0.3333333333333333, u'm\\xe2Zir\\xf4': 0.3333333333333333, u'm\\xe2Zr\\xf4': 0.3333333333333333} pI2S {u'm\\xe2Z': 1.0} pI1P {u'm\\xe2Z\\xf4': 1.0} pI2P {u'm\\xe2Ze': 1.0} ps1S {u'm\\xe2Z': 1.0} ps2S {u'm\\xe2Z': 1.0} ps3S {u'm\\xe2Z': 1.0} ps1P {u'm\\xe2Zj\\xf4': 1.0} ps2P {u'm\\xe2Zje': 1.0} ps3P {u'm\\xe2Z': 1.0} pc1S {u'm\\xe2Z6rE': 0.9482691559704395, u'm\\xe2ZirE': 0.012057565149747181, u'm\\xe2ZrE': 0.039673278879813305} pc2S {u'm\\xe2Z6rE': 0.9482691559704395, u'm\\xe2ZirE': 0.012057565149747181, u'm\\xe2ZrE': 0.039673278879813305} pc3S {u'm\\xe2Z6rE': 0.9482691559704395, u'm\\xe2ZirE': 0.012057565149747181, u'm\\xe2ZrE': 0.039673278879813305} pc1P m\u00e2ZE\n",
        "pas de classe E-irj\u00f4, E-6rj\u00f4, E-ri\u00f4\n",
        "0.33 par forme de sortie\n",
        "{u'm\\xe2Z6rj\\xf4': 0.3333333333333333, u'm\\xe2Zri\\xf4': 0.3333333333333333, u'm\\xe2Zirj\\xf4': 0.3333333333333333} pc2P m\u00e2ZE\n",
        "pas de classe E-irje, E-6rje, E-rie\n",
        "0.33 par forme de sortie\n",
        "{u'm\\xe2Z6rje': 0.3333333333333333, u'm\\xe2Zirje': 0.3333333333333333, u'm\\xe2Zrie': 0.3333333333333333} pc3P {u'm\\xe2Z6rE': 0.9482691559704395, u'm\\xe2ZirE': 0.012057565149747181, u'm\\xe2ZrE': 0.039673278879813305} pP {u'm\\xe2Z\\xe2': 1.0} ai1S {u'm\\xe2Zi': 0.03638081738719584, u'm\\xe2ZE': 0.9636191826128041} ai2S {u'm\\xe2Za': 0.9636191826128041, u'm\\xe2Zi': 0.03638081738719584} ai3S {u'm\\xe2Za': 0.9636191826128041, u'm\\xe2Zi': 0.03638081738719584} ai1P {u'm\\xe2Zam': 0.9636191826128041, u'm\\xe2Zim': 0.03638081738719584} ai2P {u'm\\xe2Zit': 0.03638081738719584, u'm\\xe2Zat': 0.9636191826128041} ai3P {u'm\\xe2ZEr': 0.9636191826128041, u'm\\xe2Zir': 0.03638081738719584} is1S {u'm\\xe2Zis': 0.04334582942830365, u'm\\xe2Zas': 0.9566541705716963} is2S {u'm\\xe2Zis': 0.04334582942830365, u'm\\xe2Zas': 0.9566541705716963} is3S {u'm\\xe2Za': 0.9566541705716963, u'm\\xe2Zi': 0.04334582942830365} is1P {u'm\\xe2Zasj\\xf4': 0.9566541705716963, u'm\\xe2Zisj\\xf4': 0.04334582942830365} is2P {u'm\\xe2Zasje': 0.9566541705716963, u'm\\xe2Zisje': 0.04334582942830365} is3P {u'm\\xe2Zis': 0.04334582942830365, u'm\\xe2Zas': 0.9566541705716963}\n",
        "ii2S m\u00e2ZE\n",
        "inf {u'm\\xe2Zr': 0.0343980343980344, u'm\\xe2Zir': 0.0171990171990172, u'm\\xe2Ze': 0.9484029484029484} pi1S {u'm\\xe2Z': 1.0} pi2S {u'm\\xe2Z': 1.0} pi3S {u'm\\xe2Z': 1.0} pi1P {u'm\\xe2Z\\xf4': 1.0} pi2P {u'm\\xe2Ze': 1.0} pi3P {u'm\\xe2Z': 1.0} ii1S {u'm\\xe2ZE': 1.0} ii2S {u'm\\xe2ZE': 1.0} ii3S {u'm\\xe2ZE': 1.0} ii1P {u'm\\xe2Zj\\xf4': 1.0} ii2P {u'm\\xe2Zje': 1.0} ii3P {u'm\\xe2ZE': 1.0} fi1S {u'm\\xe2Z6rE': 0.9482691559704395, u'm\\xe2ZirE': 0.012057565149747181, u'm\\xe2ZrE': 0.039673278879813305} fi2S m\u00e2ZE\n",
        "pas de classe E-ira, E-ra, E-6ra\n",
        "0.33 par forme de sortie\n",
        "{u'm\\xe2Zra': 0.3333333333333333, u'm\\xe2Z6ra': 0.3333333333333333, u'm\\xe2Zira': 0.3333333333333333} fi3S m\u00e2ZE\n",
        "pas de classe E-ira, E-ra, E-6ra\n",
        "0.33 par forme de sortie\n",
        "{u'm\\xe2Zra': 0.3333333333333333, u'm\\xe2Z6ra': 0.3333333333333333, u'm\\xe2Zira': 0.3333333333333333} fi1P m\u00e2ZE\n",
        "pas de classe E-ir\u00f4, E-r\u00f4, E-6r\u00f4\n",
        "0.33 par forme de sortie\n",
        "{u'm\\xe2Z6r\\xf4': 0.3333333333333333, u'm\\xe2Zir\\xf4': 0.3333333333333333, u'm\\xe2Zr\\xf4': 0.3333333333333333} fi2P {u'm\\xe2Z6re': 0.9482691559704395, u'm\\xe2Zire': 0.012057565149747181, u'm\\xe2Zre': 0.039673278879813305} fi3P m\u00e2ZE\n",
        "pas de classe E-ir\u00f4, E-r\u00f4, E-6r\u00f4\n",
        "0.33 par forme de sortie\n",
        "{u'm\\xe2Z6r\\xf4': 0.3333333333333333, u'm\\xe2Zir\\xf4': 0.3333333333333333, u'm\\xe2Zr\\xf4': 0.3333333333333333} pI2S {u'm\\xe2Z': 1.0} pI1P {u'm\\xe2Z\\xf4': 1.0} pI2P {u'm\\xe2Ze': 1.0} ps1S {u'm\\xe2Z': 1.0} ps2S {u'm\\xe2Z': 1.0} ps3S {u'm\\xe2Z': 1.0} ps1P {u'm\\xe2Zj\\xf4': 1.0} ps2P {u'm\\xe2Zje': 1.0} ps3P {u'm\\xe2Z': 1.0} pc1S {u'm\\xe2Z6rE': 0.9482691559704395, u'm\\xe2ZirE': 0.012057565149747181, u'm\\xe2ZrE': 0.039673278879813305} pc2S {u'm\\xe2Z6rE': 0.9482691559704395, u'm\\xe2ZirE': 0.012057565149747181, u'm\\xe2ZrE': 0.039673278879813305} pc3S {u'm\\xe2Z6rE': 0.9482691559704395, u'm\\xe2ZirE': 0.012057565149747181, u'm\\xe2ZrE': 0.039673278879813305} pc1P m\u00e2ZE\n",
        "pas de classe E-irj\u00f4, E-6rj\u00f4, E-ri\u00f4\n",
        "0.33 par forme de sortie\n",
        "{u'm\\xe2Z6rj\\xf4': 0.3333333333333333, u'm\\xe2Zri\\xf4': 0.3333333333333333, u'm\\xe2Zirj\\xf4': 0.3333333333333333} pc2P m\u00e2ZE\n",
        "pas de classe E-irje, E-6rje, E-rie\n",
        "0.33 par forme de sortie\n",
        "{u'm\\xe2Z6rje': 0.3333333333333333, u'm\\xe2Zirje': 0.3333333333333333, u'm\\xe2Zrie': 0.3333333333333333} pc3P {u'm\\xe2Z6rE': 0.9482691559704395, u'm\\xe2ZirE': 0.012057565149747181, u'm\\xe2ZrE': 0.039673278879813305} pP {u'm\\xe2Z\\xe2': 1.0} ai1S {u'm\\xe2Zi': 0.03638081738719584, u'm\\xe2ZE': 0.9636191826128041} ai2S {u'm\\xe2Za': 0.9636191826128041, u'm\\xe2Zi': 0.03638081738719584} ai3S {u'm\\xe2Za': 0.9636191826128041, u'm\\xe2Zi': 0.03638081738719584} ai1P {u'm\\xe2Zam': 0.9636191826128041, u'm\\xe2Zim': 0.03638081738719584} ai2P {u'm\\xe2Zit': 0.03638081738719584, u'm\\xe2Zat': 0.9636191826128041} ai3P {u'm\\xe2ZEr': 0.9636191826128041, u'm\\xe2Zir': 0.03638081738719584} is1S {u'm\\xe2Zis': 0.04334582942830365, u'm\\xe2Zas': 0.9566541705716963} is2S {u'm\\xe2Zis': 0.04334582942830365, u'm\\xe2Zas': 0.9566541705716963} is3S {u'm\\xe2Za': 0.9566541705716963, u'm\\xe2Zi': 0.04334582942830365} is1P {u'm\\xe2Zasj\\xf4': 0.9566541705716963, u'm\\xe2Zisj\\xf4': 0.04334582942830365} is2P {u'm\\xe2Zasje': 0.9566541705716963, u'm\\xe2Zisje': 0.04334582942830365} is3P {u'm\\xe2Zis': 0.04334582942830365, u'm\\xe2Zas': 0.9566541705716963}\n",
        "ii3S m\u00e2ZE\n",
        "inf {u'm\\xe2Zr': 0.03480753480753481, u'm\\xe2Zir': 0.01760851760851761, u'm\\xe2Ze': 0.9475839475839476} pi1S {u'm\\xe2Z': 1.0} pi2S {u'm\\xe2Z': 1.0} pi3S {u'm\\xe2Z': 1.0} pi1P {u'm\\xe2Z\\xf4': 1.0} pi2P {u'm\\xe2Ze': 1.0} pi3P {u'm\\xe2Z': 1.0} ii1S {u'm\\xe2ZE': 1.0} ii2S {u'm\\xe2ZE': 1.0} ii3S {u'm\\xe2ZE': 1.0} ii1P {u'm\\xe2Zj\\xf4': 1.0} ii2P {u'm\\xe2Zje': 1.0} ii3P {u'm\\xe2ZE': 1.0} fi1S {u'm\\xe2Z6rE': 0.9482691559704395, u'm\\xe2ZirE': 0.012057565149747181, u'm\\xe2ZrE': 0.039673278879813305} fi2S m\u00e2ZE\n",
        "pas de classe E-ira, E-ra, E-6ra\n",
        "0.33 par forme de sortie\n",
        "{u'm\\xe2Zra': 0.3333333333333333, u'm\\xe2Z6ra': 0.3333333333333333, u'm\\xe2Zira': 0.3333333333333333} fi3S m\u00e2ZE\n",
        "pas de classe E-ira, E-ra, E-6ra\n",
        "0.33 par forme de sortie\n",
        "{u'm\\xe2Zra': 0.3333333333333333, u'm\\xe2Z6ra': 0.3333333333333333, u'm\\xe2Zira': 0.3333333333333333} fi1P m\u00e2ZE\n",
        "pas de classe E-ir\u00f4, E-r\u00f4, E-6r\u00f4\n",
        "0.33 par forme de sortie\n",
        "{u'm\\xe2Z6r\\xf4': 0.3333333333333333, u'm\\xe2Zir\\xf4': 0.3333333333333333, u'm\\xe2Zr\\xf4': 0.3333333333333333} fi2P {u'm\\xe2Z6re': 0.9482691559704395, u'm\\xe2Zire': 0.012057565149747181, u'm\\xe2Zre': 0.039673278879813305} fi3P m\u00e2ZE\n",
        "pas de classe E-ir\u00f4, E-r\u00f4, E-6r\u00f4\n",
        "0.33 par forme de sortie\n",
        "{u'm\\xe2Z6r\\xf4': 0.3333333333333333, u'm\\xe2Zir\\xf4': 0.3333333333333333, u'm\\xe2Zr\\xf4': 0.3333333333333333} pI2S {u'm\\xe2Z': 1.0} pI1P {u'm\\xe2Z\\xf4': 1.0} pI2P {u'm\\xe2Ze': 1.0} ps1S {u'm\\xe2Z': 1.0} ps2S {u'm\\xe2Z': 1.0} ps3S {u'm\\xe2Z': 1.0} ps1P {u'm\\xe2Zj\\xf4': 1.0} ps2P {u'm\\xe2Zje': 1.0} ps3P {u'm\\xe2Z': 1.0} pc1S {u'm\\xe2Z6rE': 0.9482691559704395, u'm\\xe2ZirE': 0.012057565149747181, u'm\\xe2ZrE': 0.039673278879813305} pc2S {u'm\\xe2Z6rE': 0.9482691559704395, u'm\\xe2ZirE': 0.012057565149747181, u'm\\xe2ZrE': 0.039673278879813305} pc3S {u'm\\xe2Z6rE': 0.948021722265322, u'm\\xe2ZirE': 0.012024825446082235, u'm\\xe2ZrE': 0.03995345228859581} pc1P m\u00e2ZE\n",
        "pas de classe E-irj\u00f4, E-6rj\u00f4, E-ri\u00f4\n",
        "0.33 par forme de sortie\n",
        "{u'm\\xe2Z6rj\\xf4': 0.3333333333333333, u'm\\xe2Zri\\xf4': 0.3333333333333333, u'm\\xe2Zirj\\xf4': 0.3333333333333333} pc2P m\u00e2ZE\n",
        "pas de classe E-irje, E-6rje, E-rie\n",
        "0.33 par forme de sortie\n",
        "{u'm\\xe2Z6rje': 0.3333333333333333, u'm\\xe2Zirje': 0.3333333333333333, u'm\\xe2Zrie': 0.3333333333333333} pc3P {u'm\\xe2Z6rE': 0.9479611650485437, u'm\\xe2ZirE': 0.012038834951456311, u'm\\xe2ZrE': 0.04} pP {u'm\\xe2Z\\xe2': 1.0} ai1S {u'm\\xe2Zi': 0.03638081738719584, u'm\\xe2ZE': 0.9636191826128041} ai2S {u'm\\xe2Za': 0.9636191826128041, u'm\\xe2Zi': 0.03638081738719584} ai3S {u'm\\xe2Za': 0.9632162225890121, u'm\\xe2Zi': 0.036783777410987976} ai1P {u'm\\xe2Zam': 0.9636191826128041, u'm\\xe2Zim': 0.03638081738719584} ai2P {u'm\\xe2Zit': 0.03638081738719584, u'm\\xe2Zat': 0.9636191826128041} ai3P {u'm\\xe2ZEr': 0.9631728045325779, u'm\\xe2Zir': 0.036827195467422094} is1S {u'm\\xe2Zis': 0.04334582942830365, u'm\\xe2Zas': 0.9566541705716963} is2S {u'm\\xe2Zis': 0.04334582942830365, u'm\\xe2Zas': 0.9566541705716963} is3S {u'm\\xe2Za': 0.956267539756782, u'm\\xe2Zi': 0.04373246024321796} is1P {u'm\\xe2Zasj\\xf4': 0.9566541705716963, u'm\\xe2Zisj\\xf4': 0.04334582942830365} is2P {u'm\\xe2Zasje': 0.9566541705716963, u'm\\xe2Zisje': 0.04334582942830365} is3P {u'm\\xe2Zis': 0.04378365722313276, u'm\\xe2Zas': 0.9562163427768673}\n",
        "ii1P m\u00e2Zj\u00f4\n",
        "inf m\u00e2Zj\u00f4\n",
        "pas de classe j\u00f4-r, j\u00f4-e\n",
        "0.50 par forme de sortie\n",
        "{u'm\\xe2Zr': 0.5, u'm\\xe2Ze': 0.5} pi1S {u'm\\xe2Z': 1.0} pi2S {u'm\\xe2Z': 1.0} pi3S {u'm\\xe2Z': 1.0} pi1P {u'm\\xe2Z\\xf4': 1.0} pi2P {u'm\\xe2Ze': 1.0} pi3P {u'm\\xe2Z': 1.0} ii1S {u'm\\xe2ZE': 1.0} ii2S {u'm\\xe2ZE': 1.0} ii3S {u'm\\xe2ZE': 1.0} ii1P {u'm\\xe2Zj\\xf4': 1.0} ii2P {u'm\\xe2Zje': 1.0} ii3P {u'm\\xe2ZE': 1.0} fi1S {u'm\\xe2Z6rE': 0.9886587771203156, u'm\\xe2ZrE': 0.011341222879684419} fi2S {u'm\\xe2Zra': 0.011341222879684419, u'm\\xe2Z6ra': 0.9886587771203156} fi3S {u'm\\xe2Zra': 0.011341222879684419, u'm\\xe2Z6ra': 0.9886587771203156} fi1P {u'm\\xe2Z6r\\xf4': 0.9886587771203156, u'm\\xe2Zr\\xf4': 0.011341222879684419} fi2P {u'm\\xe2Z6re': 0.9886587771203156, u'm\\xe2Zre': 0.011341222879684419} fi3P {u'm\\xe2Z6r\\xf4': 0.9886587771203156, u'm\\xe2Zr\\xf4': 0.011341222879684419} pI2S {u'm\\xe2Z': 1.0} pI1P {u'm\\xe2Z\\xf4': 1.0} pI2P {u'm\\xe2Ze': 1.0} ps1S {u'm\\xe2Z': 1.0} ps2S {u'm\\xe2Z': 1.0} ps3S {u'm\\xe2Z': 1.0} ps1P {u'm\\xe2Zj\\xf4': 1.0} ps2P {u'm\\xe2Zje': 1.0} ps3P {u'm\\xe2Z': 1.0} pc1S {u'm\\xe2Z6rE': 0.9886587771203156, u'm\\xe2ZrE': 0.011341222879684419} pc2S {u'm\\xe2Z6rE': 0.9886587771203156, u'm\\xe2ZrE': 0.011341222879684419} pc3S {u'm\\xe2Z6rE': 0.9886587771203156, u'm\\xe2ZrE': 0.011341222879684419} pc1P {u'm\\xe2Zri\\xf4': 0.015425888665325285, u'm\\xe2Z6rj\\xf4': 0.9845741113346748} pc2P {u'm\\xe2Zrie': 0.015425888665325285, u'm\\xe2Z6rje': 0.9845741113346748} pc3P {u'm\\xe2Z6rE': 0.9886587771203156, u'm\\xe2ZrE': 0.011341222879684419} pP {u'm\\xe2Z\\xe2': 1.0} ai1S {u'm\\xe2Zi': 0.03483404534998357, u'm\\xe2ZE': 0.9651659546500164} ai2S {u'm\\xe2Za': 0.9651659546500164, u'm\\xe2Zi': 0.03483404534998357} ai3S {u'm\\xe2Za': 0.9651659546500164, u'm\\xe2Zi': 0.03483404534998357} ai1P {u'm\\xe2Zam': 0.9651659546500164, u'm\\xe2Zim': 0.03483404534998357} ai2P {u'm\\xe2Zit': 0.03483404534998357, u'm\\xe2Zat': 0.9651659546500164} ai3P {u'm\\xe2ZEr': 0.9651659546500164, u'm\\xe2Zir': 0.03483404534998357} is1S {u'm\\xe2Zis': 0.044509421702404156, u'm\\xe2Zas': 0.9554905782975959} is2S {u'm\\xe2Zis': 0.044509421702404156, u'm\\xe2Zas': 0.9554905782975959} is3S {u'm\\xe2Za': 0.9554905782975959, u'm\\xe2Zi': 0.044509421702404156} is1P {u'm\\xe2Zasj\\xf4': 0.9554905782975959, u'm\\xe2Zisj\\xf4': 0.044509421702404156} is2P {u'm\\xe2Zasje': 0.9554905782975959, u'm\\xe2Zisje': 0.044509421702404156} is3P {u'm\\xe2Zis': 0.044509421702404156, u'm\\xe2Zas': 0.9554905782975959}\n",
        "ii2P"
       ]
      },
      {
       "output_type": "stream",
       "stream": "stdout",
       "text": [
        " m\u00e2Zje\n",
        "inf {u'm\\xe2Zr': 0.0035671819262782403, u'm\\xe2Ze': 0.9964328180737217} pi1S {u'm\\xe2Z': 1.0} pi2S {u'm\\xe2Z': 1.0} pi3S {u'm\\xe2Z': 1.0} pi1P {u'm\\xe2Z\\xf4': 1.0} pi2P {u'm\\xe2Ze': 1.0} pi3P {u'm\\xe2Z': 1.0} ii1S {u'm\\xe2ZE': 1.0} ii2S {u'm\\xe2ZE': 1.0} ii3S {u'm\\xe2ZE': 1.0} ii1P {u'm\\xe2Zj\\xf4': 1.0} ii2P {u'm\\xe2Zje': 1.0} ii3P {u'm\\xe2ZE': 1.0} fi1S {u'm\\xe2Z6rE': 0.9886587771203156, u'm\\xe2ZrE': 0.011341222879684419} fi2S {u'm\\xe2Zra': 0.011341222879684419, u'm\\xe2Z6ra': 0.9886587771203156} fi3S {u'm\\xe2Zra': 0.011341222879684419, u'm\\xe2Z6ra': 0.9886587771203156} fi1P {u'm\\xe2Z6r\\xf4': 0.9886587771203156, u'm\\xe2Zr\\xf4': 0.011341222879684419} fi2P {u'm\\xe2Z6re': 0.9886587771203156, u'm\\xe2Zre': 0.011341222879684419} fi3P {u'm\\xe2Z6r\\xf4': 0.9886587771203156, u'm\\xe2Zr\\xf4': 0.011341222879684419} pI2S {u'm\\xe2Z': 1.0} pI1P {u'm\\xe2Z\\xf4': 1.0} pI2P {u'm\\xe2Ze': 1.0} ps1S {u'm\\xe2Z': 1.0} ps2S {u'm\\xe2Z': 1.0} ps3S {u'm\\xe2Z': 1.0} ps1P {u'm\\xe2Zj\\xf4': 1.0} ps2P {u'm\\xe2Zje': 1.0} ps3P {u'm\\xe2Z': 1.0} pc1S {u'm\\xe2Z6rE': 0.9886587771203156, u'm\\xe2ZrE': 0.011341222879684419} pc2S {u'm\\xe2Z6rE': 0.9886587771203156, u'm\\xe2ZrE': 0.011341222879684419} pc3S {u'm\\xe2Z6rE': 0.9886587771203156, u'm\\xe2ZrE': 0.011341222879684419} pc1P {u'm\\xe2Z6rj\\xf4': 0.9845741113346748, u'm\\xe2Zri\\xf4': 0.015425888665325285} pc2P {u'm\\xe2Z6rje': 0.9845741113346748, u'm\\xe2Zrie': 0.015425888665325285} pc3P {u'm\\xe2Z6rE': 0.9886587771203156, u'm\\xe2ZrE': 0.011341222879684419} pP {u'm\\xe2Z\\xe2': 1.0} ai1S {u'm\\xe2Zi': 0.03483404534998357, u'm\\xe2ZE': 0.9651659546500164} ai2S {u'm\\xe2Za': 0.9651659546500164, u'm\\xe2Zi': 0.03483404534998357} ai3S {u'm\\xe2Za': 0.9651659546500164, u'm\\xe2Zi': 0.03483404534998357} ai1P {u'm\\xe2Zam': 0.9651659546500164, u'm\\xe2Zim': 0.03483404534998357} ai2P {u'm\\xe2Zit': 0.03483404534998357, u'm\\xe2Zat': 0.9651659546500164} ai3P {u'm\\xe2ZEr': 0.9651659546500164, u'm\\xe2Zir': 0.03483404534998357} is1S {u'm\\xe2Zis': 0.044509421702404156, u'm\\xe2Zas': 0.9554905782975959} is2S {u'm\\xe2Zis': 0.044509421702404156, u'm\\xe2Zas': 0.9554905782975959} is3S {u'm\\xe2Za': 0.9554905782975959, u'm\\xe2Zi': 0.044509421702404156} is1P {u'm\\xe2Zasj\\xf4': 0.9554905782975959, u'm\\xe2Zisj\\xf4': 0.044509421702404156} is2P {u'm\\xe2Zasje': 0.9554905782975959, u'm\\xe2Zisje': 0.044509421702404156} is3P {u'm\\xe2Zis': 0.044509421702404156, u'm\\xe2Zas': 0.9554905782975959}\n",
        "ii3P m\u00e2ZE\n",
        "inf {u'm\\xe2Zr': 0.034850348503485035, u'm\\xe2Zir': 0.017630176301763018, u'm\\xe2Ze': 0.947519475194752} pi1S {u'm\\xe2Z': 1.0} pi2S {u'm\\xe2Z': 1.0} pi3S {u'm\\xe2Z': 1.0} pi1P {u'm\\xe2Z\\xf4': 1.0} pi2P {u'm\\xe2Ze': 1.0} pi3P {u'm\\xe2Z': 1.0} ii1S {u'm\\xe2ZE': 1.0} ii2S {u'm\\xe2ZE': 1.0} ii3S {u'm\\xe2ZE': 1.0} ii1P {u'm\\xe2Zj\\xf4': 1.0} ii2P {u'm\\xe2Zje': 1.0} ii3P {u'm\\xe2ZE': 1.0} fi1S {u'm\\xe2Z6rE': 0.9482691559704395, u'm\\xe2ZirE': 0.012057565149747181, u'm\\xe2ZrE': 0.039673278879813305} fi2S m\u00e2ZE\n",
        "pas de classe E-ira, E-ra, E-6ra\n",
        "0.33 par forme de sortie\n",
        "{u'm\\xe2Zra': 0.3333333333333333, u'm\\xe2Z6ra': 0.3333333333333333, u'm\\xe2Zira': 0.3333333333333333} fi3S m\u00e2ZE\n",
        "pas de classe E-ira, E-ra, E-6ra\n",
        "0.33 par forme de sortie\n",
        "{u'm\\xe2Zra': 0.3333333333333333, u'm\\xe2Z6ra': 0.3333333333333333, u'm\\xe2Zira': 0.3333333333333333} fi1P m\u00e2ZE\n",
        "pas de classe E-ir\u00f4, E-r\u00f4, E-6r\u00f4\n",
        "0.33 par forme de sortie\n",
        "{u'm\\xe2Z6r\\xf4': 0.3333333333333333, u'm\\xe2Zir\\xf4': 0.3333333333333333, u'm\\xe2Zr\\xf4': 0.3333333333333333} fi2P {u'm\\xe2Z6re': 0.9482691559704395, u'm\\xe2Zire': 0.012057565149747181, u'm\\xe2Zre': 0.039673278879813305} fi3P m\u00e2ZE\n",
        "pas de classe E-ir\u00f4, E-r\u00f4, E-6r\u00f4\n",
        "0.33 par forme de sortie\n",
        "{u'm\\xe2Z6r\\xf4': 0.3333333333333333, u'm\\xe2Zir\\xf4': 0.3333333333333333, u'm\\xe2Zr\\xf4': 0.3333333333333333} pI2S {u'm\\xe2Z': 1.0} pI1P {u'm\\xe2Z\\xf4': 1.0} pI2P {u'm\\xe2Ze': 1.0} ps1S {u'm\\xe2Z': 1.0} ps2S {u'm\\xe2Z': 1.0} ps3S {u'm\\xe2Z': 1.0} ps1P {u'm\\xe2Zj\\xf4': 1.0} ps2P {u'm\\xe2Zje': 1.0} ps3P {u'm\\xe2Z': 1.0} pc1S {u'm\\xe2Z6rE': 0.9482691559704395, u'm\\xe2ZirE': 0.012057565149747181, u'm\\xe2ZrE': 0.039673278879813305} pc2S {u'm\\xe2Z6rE': 0.9482691559704395, u'm\\xe2ZirE': 0.012057565149747181, u'm\\xe2ZrE': 0.039673278879813305} pc3S {u'm\\xe2Z6rE': 0.9479611650485437, u'm\\xe2ZirE': 0.012038834951456311, u'm\\xe2ZrE': 0.04} pc1P m\u00e2ZE\n",
        "pas de classe E-irj\u00f4, E-6rj\u00f4, E-ri\u00f4\n",
        "0.33 par forme de sortie\n",
        "{u'm\\xe2Z6rj\\xf4': 0.3333333333333333, u'm\\xe2Zri\\xf4': 0.3333333333333333, u'm\\xe2Zirj\\xf4': 0.3333333333333333} pc2P m\u00e2ZE\n",
        "pas de classe E-irje, E-6rje, E-rie\n",
        "0.33 par forme de sortie\n",
        "{u'm\\xe2Z6rje': 0.3333333333333333, u'm\\xe2Zirje': 0.3333333333333333, u'm\\xe2Zrie': 0.3333333333333333} pc3P {u'm\\xe2Z6rE': 0.9479611650485437, u'm\\xe2ZirE': 0.012038834951456311, u'm\\xe2ZrE': 0.04} pP {u'm\\xe2Z\\xe2': 1.0} ai1S {u'm\\xe2Zi': 0.03638081738719584, u'm\\xe2ZE': 0.9636191826128041} ai2S {u'm\\xe2Za': 0.9636191826128041, u'm\\xe2Zi': 0.03638081738719584} ai3S {u'm\\xe2Za': 0.9631728045325779, u'm\\xe2Zi': 0.036827195467422094} ai1P {u'm\\xe2Zam': 0.9636191826128041, u'm\\xe2Zim': 0.03638081738719584} ai2P {u'm\\xe2Zit': 0.03638081738719584, u'm\\xe2Zat': 0.9636191826128041} ai3P {u'm\\xe2ZEr': 0.9631728045325779, u'm\\xe2Zir': 0.036827195467422094} is1S {u'm\\xe2Zis': 0.04334582942830365, u'm\\xe2Zas': 0.9566541705716963} is2S {u'm\\xe2Zis': 0.04334582942830365, u'm\\xe2Zas': 0.9566541705716963} is3S {u'm\\xe2Za': 0.9562163427768673, u'm\\xe2Zi': 0.04378365722313276} is1P {u'm\\xe2Zasj\\xf4': 0.9566541705716963, u'm\\xe2Zisj\\xf4': 0.04334582942830365} is2P {u'm\\xe2Zasje': 0.9566541705716963, u'm\\xe2Zisje': 0.04334582942830365} is3P {u'm\\xe2Zis': 0.04378365722313276, u'm\\xe2Zas': 0.9562163427768673}\n",
        "fi1S m\u00e2Z6rE\n",
        "inf m\u00e2Z6rE\n",
        "pas de classe E-, rE-e, 6rE-e\n",
        "0.33 par forme de sortie\n",
        "{u'm\\xe2Z6e': 0.3333333333333333, u'm\\xe2Z6r': 0.3333333333333333, u'm\\xe2Ze': 0.3333333333333333} pi1S {u'm\\xe2Z': 1.0} pi2S {u'm\\xe2Z': 1.0} pi3S {u'm\\xe2Z': 1.0} pi1P {u'm\\xe2Z\\xf4': 1.0} pi2P {u'm\\xe2Ze': 1.0} pi3P m\u00e2Z6rE\n",
        "pas de classe rE-, 6rE-\n",
        "0.50 par forme de sortie\n",
        "{u'm\\xe2Z6': 0.5, u'm\\xe2Z': 0.5} ii1S {u'm\\xe2ZE': 1.0} ii2S {u'm\\xe2ZE': 1.0} ii3S {u'm\\xe2ZE': 1.0} ii1P {u'm\\xe2Zj\\xf4': 1.0} ii2P {u'm\\xe2Zje': 1.0} ii3P {u'm\\xe2ZE': 1.0} fi1S {u'm\\xe2Z6rE': 1.0} fi2S {u'm\\xe2Z6ra': 1.0} fi3S {u'm\\xe2Z6ra': 1.0} fi1P {u'm\\xe2Z6r\\xf4': 1.0} fi2P {u'm\\xe2Z6re': 1.0} fi3P {u'm\\xe2Z6r\\xf4': 1.0} pI2S {u'm\\xe2Z': 1.0} pI1P {u'm\\xe2Z\\xf4': 1.0} pI2P {u'm\\xe2Ze': 1.0} ps1S m\u00e2Z6rE\n",
        "pas de classe rE-, 6rE-\n",
        "0.50 par forme de sortie\n",
        "{u'm\\xe2Z6': 0.5, u'm\\xe2Z': 0.5} ps2S m\u00e2Z6rE\n",
        "pas de classe rE-, 6rE-\n",
        "0.50 par forme de sortie\n",
        "{u'm\\xe2Z6': 0.5, u'm\\xe2Z': 0.5} ps3S m\u00e2Z6rE\n",
        "pas de classe rE-, 6rE-\n",
        "0.50 par forme de sortie\n",
        "{u'm\\xe2Z6': 0.5, u'm\\xe2Z': 0.5} ps1P {u'm\\xe2Zj\\xf4': 1.0} ps2P {u'm\\xe2Zje': 1.0} ps3P m\u00e2Z6rE\n",
        "pas de classe rE-, 6rE-\n",
        "0.50 par forme de sortie\n",
        "{u'm\\xe2Z6': 0.5, u'm\\xe2Z': 0.5} pc1S {u'm\\xe2Z6rE': 1.0} pc2S {u'm\\xe2Z6rE': 1.0} pc3S {u'm\\xe2Z6rE': 1.0} pc1P {u'm\\xe2Z6rj\\xf4': 1.0} pc2P {u'm\\xe2Z6rje': 1.0} pc3P {u'm\\xe2Z6rE': 1.0} pP {u'm\\xe2Z\\xe2': 1.0} ai1S "
       ]
      },
      {
       "output_type": "stream",
       "stream": "stdout",
       "text": [
        "{u'm\\xe2ZE': 1.0} ai2S {u'm\\xe2Za': 1.0} ai3S {u'm\\xe2Za': 1.0} ai1P {u'm\\xe2Zam': 1.0} ai2P {u'm\\xe2Zat': 1.0} ai3P {u'm\\xe2ZEr': 1.0} is1S {u'm\\xe2Zas': 1.0} is2S {u'm\\xe2Zas': 1.0} is3S {u'm\\xe2Za': 1.0} is1P {u'm\\xe2Zasj\\xf4': 1.0} is2P {u'm\\xe2Zasje': 1.0} is3P {u'm\\xe2Zas': 1.0}\n",
        "fi2S m\u00e2Z6ra\n",
        "inf m\u00e2Z6ra\n",
        "pas de classe a-, ra-e, 6ra-e\n",
        "0.33 par forme de sortie\n",
        "{u'm\\xe2Z6e': 0.3333333333333333, u'm\\xe2Z6r': 0.3333333333333333, u'm\\xe2Ze': 0.3333333333333333} pi1S {u'm\\xe2Z': 1.0} pi2S {u'm\\xe2Z': 1.0} pi3S {u'm\\xe2Z': 1.0} pi1P {u'm\\xe2Z\\xf4': 1.0} pi2P {u'm\\xe2Ze': 1.0} pi3P {u'm\\xe2Z': 1.0} ii1S {u'm\\xe2ZE': 1.0} ii2S {u'm\\xe2ZE': 1.0} ii3S {u'm\\xe2ZE': 1.0} ii1P {u'm\\xe2Zj\\xf4': 1.0} ii2P {u'm\\xe2Zje': 1.0} ii3P {u'm\\xe2ZE': 1.0} fi1S {u'm\\xe2Z6rE': 1.0} fi2S {u'm\\xe2Z6ra': 1.0} fi3S {u'm\\xe2Z6ra': 1.0} fi1P {u'm\\xe2Z6r\\xf4': 1.0} fi2P {u'm\\xe2Z6re': 1.0} fi3P {u'm\\xe2Z6r\\xf4': 1.0} pI2S {u'm\\xe2Z': 1.0} pI1P {u'm\\xe2Z\\xf4': 1.0} pI2P {u'm\\xe2Ze': 1.0} ps1S {u'm\\xe2Z': 1.0} ps2S {u'm\\xe2Z': 1.0} ps3S {u'm\\xe2Z': 1.0} ps1P {u'm\\xe2Zj\\xf4': 1.0} ps2P {u'm\\xe2Zje': 1.0} ps3P {u'm\\xe2Z': 1.0} pc1S {u'm\\xe2Z6rE': 1.0} pc2S {u'm\\xe2Z6rE': 1.0} pc3S {u'm\\xe2Z6rE': 1.0} pc1P {u'm\\xe2Z6rj\\xf4': 1.0} pc2P {u'm\\xe2Z6rje': 1.0} pc3P {u'm\\xe2Z6rE': 1.0} pP {u'm\\xe2Z\\xe2': 1.0} ai1S {u'm\\xe2ZE': 1.0} ai2S {u'm\\xe2Za': 1.0} ai3S {u'm\\xe2Za': 1.0} ai1P {u'm\\xe2Zam': 1.0} ai2P m\u00e2Z6ra\n",
        "pas de classe 6ra-at, ra-at\n",
        "0.50 par forme de sortie\n",
        "{u'm\\xe2Zat': 0.5, u'm\\xe2Z6at': 0.5} ai3P {u'm\\xe2ZEr': 1.0} is1S {u'm\\xe2Zas': 1.0} is2S {u'm\\xe2Zas': 1.0} is3S {u'm\\xe2Za': 1.0} is1P {u'm\\xe2Zasj\\xf4': 1.0} is2P {u'm\\xe2Zasje': 1.0} is3P {u'm\\xe2Zas': 1.0}\n",
        "fi3S m\u00e2Z6ra\n",
        "inf m\u00e2Z6ra\n",
        "pas de classe a-, ra-e, 6ra-e\n",
        "0.33 par forme de sortie\n",
        "{u'm\\xe2Z6e': 0.3333333333333333, u'm\\xe2Z6r': 0.3333333333333333, u'm\\xe2Ze': 0.3333333333333333} pi1S {u'm\\xe2Z': 1.0} pi2S {u'm\\xe2Z': 1.0} pi3S {u'm\\xe2Z': 1.0} pi1P {u'm\\xe2Z\\xf4': 1.0} pi2P {u'm\\xe2Ze': 1.0} pi3P {u'm\\xe2Z': 1.0} ii1S {u'm\\xe2ZE': 1.0} ii2S {u'm\\xe2ZE': 1.0} ii3S {u'm\\xe2ZE': 1.0} ii1P {u'm\\xe2Zj\\xf4': 1.0} ii2P {u'm\\xe2Zje': 1.0} ii3P {u'm\\xe2ZE': 1.0} fi1S {u'm\\xe2Z6rE': 1.0} fi2S {u'm\\xe2Z6ra': 1.0} fi3S {u'm\\xe2Z6ra': 1.0} fi1P {u'm\\xe2Z6r\\xf4': 1.0} fi2P {u'm\\xe2Z6re': 1.0} fi3P {u'm\\xe2Z6r\\xf4': 1.0} pI2S {u'm\\xe2Z': 1.0} pI1P {u'm\\xe2Z\\xf4': 1.0} pI2P {u'm\\xe2Ze': 1.0} ps1S {u'm\\xe2Z': 1.0} ps2S {u'm\\xe2Z': 1.0} ps3S {u'm\\xe2Z': 1.0} ps1P {u'm\\xe2Zj\\xf4': 1.0} ps2P {u'm\\xe2Zje': 1.0} ps3P {u'm\\xe2Z': 1.0} pc1S {u'm\\xe2Z6rE': 1.0} pc2S {u'm\\xe2Z6rE': 1.0} pc3S {u'm\\xe2Z6rE': 1.0} pc1P {u'm\\xe2Z6rj\\xf4': 1.0} pc2P {u'm\\xe2Z6rje': 1.0} pc3P {u'm\\xe2Z6rE': 1.0} pP {u'm\\xe2Z\\xe2': 1.0} ai1S {u'm\\xe2ZE': 1.0} ai2S {u'm\\xe2Za': 1.0} ai3S {u'm\\xe2Za': 1.0} ai1P {u'm\\xe2Zam': 1.0} ai2P m\u00e2Z6ra\n",
        "pas de classe 6ra-at, ra-at\n",
        "0.50 par forme de sortie\n",
        "{u'm\\xe2Zat': 0.5, u'm\\xe2Z6at': 0.5} ai3P {u'm\\xe2ZEr': 1.0} is1S {u'm\\xe2Zas': 1.0} is2S "
       ]
      },
      {
       "output_type": "stream",
       "stream": "stdout",
       "text": [
        "{u'm\\xe2Zas': 1.0} is3S {u'm\\xe2Za': 1.0} is1P {u'm\\xe2Zasj\\xf4': 1.0} is2P {u'm\\xe2Zasje': 1.0} is3P {u'm\\xe2Zas': 1.0}\n",
        "fi1P m\u00e2Z6r\u00f4\n",
        "inf {u'm\\xe2Ze': 1.0} pi1S {u'm\\xe2Z': 1.0} pi2S {u'm\\xe2Z': 1.0} pi3S {u'm\\xe2Z': 1.0} pi1P {u'm\\xe2Z\\xf4': 1.0} pi2P {u'm\\xe2Ze': 1.0} pi3P {u'm\\xe2Z': 1.0} ii1S {u'm\\xe2ZE': 1.0} ii2S {u'm\\xe2ZE': 1.0} ii3S {u'm\\xe2ZE': 1.0} ii1P {u'm\\xe2Zj\\xf4': 1.0} ii2P {u'm\\xe2Zje': 1.0} ii3P {u'm\\xe2ZE': 1.0} fi1S {u'm\\xe2Z6rE': 1.0} fi2S {u'm\\xe2Z6ra': 1.0} fi3S {u'm\\xe2Z6ra': 1.0} fi1P {u'm\\xe2Z6r\\xf4': 1.0} fi2P {u'm\\xe2Z6re': 1.0} fi3P {u'm\\xe2Z6r\\xf4': 1.0} pI2S {u'm\\xe2Z': 1.0} pI1P m\u00e2Z6r\u00f4\n",
        "pas de classe r\u00f4-\u00f4, 6r\u00f4-\u00f4\n",
        "0.50 par forme de sortie\n",
        "{u'm\\xe2Z6\\xf4': 0.5, u'm\\xe2Z\\xf4': 0.5} pI2P {u'm\\xe2Ze': 1.0} ps1S {u'm\\xe2Z': 1.0} ps2S {u'm\\xe2Z': 1.0} ps3S {u'm\\xe2Z': 1.0} ps1P {u'm\\xe2Zj\\xf4': 1.0} ps2P {u'm\\xe2Zje': 1.0} ps3P {u'm\\xe2Z': 1.0} pc1S {u'm\\xe2Z6rE': 1.0} pc2S {u'm\\xe2Z6rE': 1.0} pc3S {u'm\\xe2Z6rE': 1.0} pc1P {u'm\\xe2Z6rj\\xf4': 1.0} pc2P {u'm\\xe2Z6rje': 1.0} pc3P {u'm\\xe2Z6rE': 1.0} pP m\u00e2Z6r\u00f4\n",
        "pas de classe r\u00f4-\u00e2, 6r\u00f4-\u00e2\n",
        "0.50 par forme de sortie\n",
        "{u'm\\xe2Z\\xe2': 0.5, u'm\\xe2Z6\\xe2': 0.5} ai1S {u'm\\xe2ZE': 1.0} ai2S m\u00e2Z6r\u00f4\n",
        "pas de classe 6r\u00f4-a, r\u00f4-a\n",
        "0.50 par forme de sortie\n",
        "{u'm\\xe2Za': 0.5, u'm\\xe2Z6a': 0.5} ai3S m\u00e2Z6r\u00f4\n",
        "pas de classe 6r\u00f4-a, r\u00f4-a\n",
        "0.50 par forme de sortie\n",
        "{u'm\\xe2Za': 0.5, u'm\\xe2Z6a': 0.5} ai1P {u'm\\xe2Zam': 1.0} ai2P {u'm\\xe2Zat': 1.0} ai3P {u'm\\xe2ZEr': 1.0} is1S {u'm\\xe2Zas': 1.0} is2S {u'm\\xe2Zas': 1.0} is3S m\u00e2Z6r\u00f4\n",
        "pas de classe 6r\u00f4-a, r\u00f4-a\n",
        "0.50 par forme de sortie\n",
        "{u'm\\xe2Za': 0.5, u'm\\xe2Z6a': 0.5} is1P {u'm\\xe2Zasj\\xf4': 1.0} is2P {u'm\\xe2Zasje': 1.0} is3P {u'm\\xe2Zas': 1.0}\n",
        "fi2P m\u00e2Z6re\n",
        "inf m\u00e2Z6re\n",
        "pas de classe e-, re-e, 6re-e\n",
        "0.33 par forme de sortie\n",
        "{u'm\\xe2Z6e': 0.3333333333333333, u'm\\xe2Z6r': 0.3333333333333333, u'm\\xe2Ze': 0.3333333333333333} pi1S {u'm\\xe2Z': 1.0} pi2S {u'm\\xe2Z': 1.0} pi3S {u'm\\xe2Z': 1.0} pi1P m\u00e2Z6re\n",
        "pas de classe re-\u00f4, 6re-\u00f4\n",
        "0.50 par forme de sortie\n",
        "{u'm\\xe2Z6\\xf4': 0.5, u'm\\xe2Z\\xf4': 0.5} pi2P {u'm\\xe2Ze': 1.0} pi3P {u'm\\xe2Z': 1.0} ii1S {u'm\\xe2ZE': 1.0} ii2S {u'm\\xe2ZE': 1.0} ii3S {u'm\\xe2ZE': 1.0} ii1P {u'm\\xe2Zj\\xf4': 1.0} ii2P {u'm\\xe2Zje': 1.0} ii3P {u'm\\xe2ZE': 1.0} fi1S {u'm\\xe2Z6rE': 1.0} fi2S {u'm\\xe2Z6ra': 1.0} fi3S {u'm\\xe2Z6ra': 1.0} fi1P {u'm\\xe2Z6r\\xf4': 1.0} fi2P {u'm\\xe2Z6re': 1.0} fi3P {u'm\\xe2Z6r\\xf4': 1.0} pI2S {u'm\\xe2Z': 1.0} pI1P {u'm\\xe2Z\\xf4': 1.0} pI2P {u'm\\xe2Ze': 1.0} ps1S {u'm\\xe2Z': 1.0} ps2S {u'm\\xe2Z': 1.0} ps3S {u'm\\xe2Z': 1.0} ps1P {u'm\\xe2Zj\\xf4': 1.0} ps2P m\u00e2Z6re\n",
        "pas de classe r.-j., 6re-je\n",
        "0.50 par forme de sortie\n",
        "{u'm\\xe2Z6je': 0.5, u'm\\xe2Zje': 0.5} ps3P {u'm\\xe2Z': 1.0} pc1S {u'm\\xe2Z6rE': 1.0} pc2S {u'm\\xe2Z6rE': 1.0} pc3S {u'm\\xe2Z6rE': 1.0} pc1P {u'm\\xe2Z6rj\\xf4': 1.0} pc2P {u'm\\xe2Z6rje': 1.0} pc3P {u'm\\xe2Z6rE': 1.0} pP {u'm\\xe2Z\\xe2': 1.0} ai1S {u'm\\xe2ZE': 1.0} ai2S {u'm\\xe2Za': 1.0} ai3S {u'm\\xe2Za': 1.0} ai1P m\u00e2Z6re\n",
        "pas de classe 6re-am, re-am\n",
        "0.50 par forme de sortie\n",
        "{u'm\\xe2Zam': 0.5, u'm\\xe2Z6am': 0.5} ai2P {u'm\\xe2Zat': 1.0} ai3P {u'm\\xe2ZEr': 1.0} is1S {u'm\\xe2Zas': 1.0} is2S {u'm\\xe2Zas': 1.0} is3S {u'm\\xe2Za': 1.0} is1P {u'm\\xe2Zasj\\xf4': 1.0} is2P {u'm\\xe2Zasje': 1.0} is3P {u'm\\xe2Zas': 1.0}\n",
        "fi3P m\u00e2Z6r\u00f4\n",
        "inf {u'm\\xe2Ze': 1.0} pi1S "
       ]
      },
      {
       "output_type": "stream",
       "stream": "stdout",
       "text": [
        "{u'm\\xe2Z': 1.0} pi2S {u'm\\xe2Z': 1.0} pi3S {u'm\\xe2Z': 1.0} pi1P {u'm\\xe2Z\\xf4': 1.0} pi2P {u'm\\xe2Ze': 1.0} pi3P {u'm\\xe2Z': 1.0} ii1S {u'm\\xe2ZE': 1.0} ii2S {u'm\\xe2ZE': 1.0} ii3S {u'm\\xe2ZE': 1.0} ii1P {u'm\\xe2Zj\\xf4': 1.0} ii2P {u'm\\xe2Zje': 1.0} ii3P {u'm\\xe2ZE': 1.0} fi1S {u'm\\xe2Z6rE': 1.0} fi2S {u'm\\xe2Z6ra': 1.0} fi3S {u'm\\xe2Z6ra': 1.0} fi1P {u'm\\xe2Z6r\\xf4': 1.0} fi2P {u'm\\xe2Z6re': 1.0} fi3P {u'm\\xe2Z6r\\xf4': 1.0} pI2S {u'm\\xe2Z': 1.0} pI1P m\u00e2Z6r\u00f4\n",
        "pas de classe r\u00f4-\u00f4, 6r\u00f4-\u00f4\n",
        "0.50 par forme de sortie\n",
        "{u'm\\xe2Z6\\xf4': 0.5, u'm\\xe2Z\\xf4': 0.5} pI2P {u'm\\xe2Ze': 1.0} ps1S {u'm\\xe2Z': 1.0} ps2S {u'm\\xe2Z': 1.0} ps3S {u'm\\xe2Z': 1.0} ps1P {u'm\\xe2Zj\\xf4': 1.0} ps2P {u'm\\xe2Zje': 1.0} ps3P {u'm\\xe2Z': 1.0} pc1S {u'm\\xe2Z6rE': 1.0} pc2S {u'm\\xe2Z6rE': 1.0} pc3S {u'm\\xe2Z6rE': 1.0} pc1P {u'm\\xe2Z6rj\\xf4': 1.0} pc2P {u'm\\xe2Z6rje': 1.0} pc3P {u'm\\xe2Z6rE': 1.0} pP m\u00e2Z6r\u00f4\n",
        "pas de classe r\u00f4-\u00e2, 6r\u00f4-\u00e2\n",
        "0.50 par forme de sortie\n",
        "{u'm\\xe2Z\\xe2': 0.5, u'm\\xe2Z6\\xe2': 0.5} ai1S {u'm\\xe2ZE': 1.0} ai2S m\u00e2Z6r\u00f4\n",
        "pas de classe 6r\u00f4-a, r\u00f4-a\n",
        "0.50 par forme de sortie\n",
        "{u'm\\xe2Za': 0.5, u'm\\xe2Z6a': 0.5} ai3S m\u00e2Z6r\u00f4\n",
        "pas de classe 6r\u00f4-a, r\u00f4-a\n",
        "0.50 par forme de sortie\n",
        "{u'm\\xe2Za': 0.5, u'm\\xe2Z6a': 0.5} ai1P {u'm\\xe2Zam': 1.0} ai2P {u'm\\xe2Zat': 1.0} ai3P {u'm\\xe2ZEr': 1.0} is1S {u'm\\xe2Zas': 1.0} is2S {u'm\\xe2Zas': 1.0} is3S m\u00e2Z6r\u00f4\n",
        "pas de classe 6r\u00f4-a, r\u00f4-a\n",
        "0.50 par forme de sortie\n",
        "{u'm\\xe2Za': 0.5, u'm\\xe2Z6a': 0.5} is1P {u'm\\xe2Zasj\\xf4': 1.0} is2P {u'm\\xe2Zasje': 1.0} is3P {u'm\\xe2Zas': 1.0}\n",
        "pI2S m\u00e2Z\n",
        "inf {u'm\\xe2Ze': 1.0} pi1S {u'm\\xe2Z': 1.0} pi2S {u'm\\xe2Z': 1.0} pi3S {u'm\\xe2Z': 1.0} pi1P {u'm\\xe2Z\\xf4': 1.0} pi2P {u'm\\xe2Ze': 1.0} pi3P {u'm\\xe2Z': 1.0} ii1S {u'm\\xe2ZE': 1.0} ii2S {u'm\\xe2ZE': 1.0} ii3S {u'm\\xe2ZE': 1.0} ii1P {u'm\\xe2Zj\\xf4': 1.0} ii2P {u'm\\xe2Zje': 1.0} ii3P {u'm\\xe2ZE': 1.0} fi1S {u'm\\xe2Z6rE': 1.0} fi2S {u'm\\xe2Z6ra': 1.0} fi3S {u'm\\xe2Z6ra': 1.0} fi1P {u'm\\xe2Z6r\\xf4': 1.0} fi2P {u'm\\xe2Z6re': 1.0} fi3P {u'm\\xe2Z6r\\xf4': 1.0} pI2S {u'm\\xe2Z': 1.0} pI1P {u'm\\xe2Z\\xf4': 1.0} pI2P {u'm\\xe2Ze': 1.0} ps1S {u'm\\xe2Z': 1.0} ps2S {u'm\\xe2Z': 1.0} ps3S {u'm\\xe2Z': 1.0} ps1P {u'm\\xe2Zj\\xf4': 1.0} ps2P {u'm\\xe2Zje': 1.0} ps3P {u'm\\xe2Z': 1.0} pc1S {u'm\\xe2Z6rE': 1.0} pc2S {u'm\\xe2Z6rE': 1.0} pc3S {u'm\\xe2Z6rE': 1.0} pc1P {u'm\\xe2Z6rj\\xf4': 1.0} pc2P {u'm\\xe2Z6rje': 1.0} pc3P {u'm\\xe2Z6rE': 1.0} pP {u'm\\xe2Z\\xe2': 1.0} ai1S {u'm\\xe2ZE': 1.0} ai2S {u'm\\xe2Za': 1.0} ai3S {u'm\\xe2Za': 1.0} ai1P {u'm\\xe2Zam': 1.0} ai2P {u'm\\xe2Zat': 1.0} ai3P {u'm\\xe2ZEr': 1.0} is1S {u'm\\xe2Zas': 1.0} is2S {u'm\\xe2Zas': 1.0} is3S {u'm\\xe2Za': 1.0} is1P {u'm\\xe2Zasj\\xf4': 1.0} is2P {u'm\\xe2Zasje': 1.0} is3P {u'm\\xe2Zas': 1.0}\n",
        "pI1P m\u00e2Z\u00f4\n",
        "inf {u'm\\xe2Zr': 0.03445512820512821, u'm\\xe2Zir': 0.015224358974358974, u'm\\xe2Ze': 0.9503205128205128} pi1S {u'm\\xe2Z': 1.0} pi2S {u'm\\xe2Z': 1.0} pi3S {u'm\\xe2Z': 1.0} pi1P {u'm\\xe2Z\\xf4': 1.0} pi2P {u'm\\xe2Ze': 1.0} pi3P {u'm\\xe2Z': 1.0} ii1S {u'm\\xe2ZE': 1.0} ii2S {u'm\\xe2ZE': 1.0} ii3S {u'm\\xe2ZE': 1.0} ii1P {u'm\\xe2Zj\\xf4': 1.0} ii2P {u'm\\xe2Zje': 1.0} ii3P {u'm\\xe2ZE': 1.0} fi1S {u'm\\xe2Z6rE': 0.9487179487179487, u'm\\xe2ZirE': 0.012263099219620958, u'm\\xe2ZrE': 0.03901895206243032} fi2S {u'm\\xe2Zra': 0.03901895206243032, u'm\\xe2Z6ra': 0.9487179487179487, u'm\\xe2Zira': 0.012263099219620958} fi3S {u'm\\xe2Zra': 0.03901895206243032, u'm\\xe2Z6ra': 0.9487179487179487, u'm\\xe2Zira': 0.012263099219620958} fi1P {u'm\\xe2Z6r\\xf4': 0.9487179487179487, u'm\\xe2Zir\\xf4': 0.012263099219620958, u'm\\xe2Zr\\xf4': 0.03901895206243032} fi2P {u'm\\xe2Z6re': 0.9487179487179487, u'm\\xe2Zire': 0.012263099219620958, u'm\\xe2Zre': 0.03901895206243032} fi3P {u'm\\xe2Z6r\\xf4': 0.9487179487179487, u'm\\xe2Zir\\xf4': 0.012263099219620958, u'm\\xe2Zr\\xf4': 0.03901895206243032} pI2S {u'm\\xe2Z': 1.0} pI1P {u'm\\xe2Z\\xf4': 1.0} pI2P {u'm\\xe2Ze': 1.0} ps1S {u'm\\xe2Z': 1.0} ps2S {u'm\\xe2Z': 1.0} ps3S {u'm\\xe2Z': 1.0} ps1P {u'm\\xe2Zj\\xf4': 1.0} ps2P {u'm\\xe2Zje': 1.0} ps3P {u'm\\xe2Z': 1.0} pc1S {u'm\\xe2Z6rE': 0.9487179487179487, u'm\\xe2ZirE': 0.012263099219620958, u'm\\xe2ZrE': 0.03901895206243032} pc2S {u'm\\xe2Z6rE': 0.9487179487179487, u'm\\xe2ZirE': 0.012263099219620958, u'm\\xe2ZrE': 0.03901895206243032} pc3S {u'm\\xe2Z6rE': 0.9487179487179487, u'm\\xe2ZirE': 0.012263099219620958, u'm\\xe2ZrE': 0.03901895206243032} pc1P {u'm\\xe2Z6rj\\xf4': 0.9480137322216773, u'm\\xe2Zri\\xf4': 0.04462972045120157, u'm\\xe2Zirj\\xf4': 0.007356547327121138} pc2P {u'm\\xe2Z6rje': 0.9480137322216773, u'm\\xe2Zirje': 0.007356547327121138, u'm\\xe2Zrie': 0.04462972045120157} pc3P {u'm\\xe2Z6rE': 0.9487179487179487, u'm\\xe2ZirE': 0.012263099219620958, u'm\\xe2ZrE': 0.03901895206243032} pP {u'm\\xe2Z\\xe2': 1.0} ai1S {u'm\\xe2Zi': 0.03622159090909091, u'm\\xe2ZE': 0.9637784090909091} ai2S {u'm\\xe2Za': 0.9637784090909091, u'm\\xe2Zi': 0.03622159090909091} ai3S {u'm\\xe2Za': 0.9637784090909091, u'm\\xe2Zi': 0.03622159090909091} ai1P {u'm\\xe2Zam': 0.9637784090909091, u'm\\xe2Zim': 0.03622159090909091} ai2P {u'm\\xe2Zit': 0.03622159090909091, u'm\\xe2Zat': 0.9637784090909091} ai3P {u'm\\xe2ZEr': 0.9637784090909091, u'm\\xe2Zir': 0.03622159090909091} is1S {u'm\\xe2Zis': 0.04320262972528763, u'm\\xe2Zas': 0.9567973702747123} is2S {u'm\\xe2Zis': 0.04320262972528763, u'm\\xe2Zas': 0.9567973702747123} is3S {u'm\\xe2Za': 0.9567973702747123, u'm\\xe2Zi': 0.04320262972528763} is1P {u'm\\xe2Zasj\\xf4': 0.9567973702747123, u'm\\xe2Zisj\\xf4': 0.04320262972528763} is2P {u'm\\xe2Zasje': 0.9567973702747123, u'm\\xe2Zisje': 0.04320262972528763} is3P {u'm\\xe2Zis': 0.04320262972528763, u'm\\xe2Zas': 0.9567973702747123}\n",
        "pI2P m\u00e2Ze\n",
        "inf "
       ]
      },
      {
       "output_type": "stream",
       "stream": "stdout",
       "text": [
        "{u'm\\xe2Zr': 0.03445512820512821, u'm\\xe2Zir': 0.015224358974358974, u'm\\xe2Ze': 0.9503205128205128} pi1S {u'm\\xe2Z': 1.0} pi2S {u'm\\xe2Z': 1.0} pi3S {u'm\\xe2Z': 1.0} pi1P {u'm\\xe2Z\\xf4': 1.0} pi2P {u'm\\xe2Ze': 1.0} pi3P {u'm\\xe2Z': 1.0} ii1S {u'm\\xe2ZE': 1.0} ii2S {u'm\\xe2ZE': 1.0} ii3S {u'm\\xe2ZE': 1.0} ii1P {u'm\\xe2Zj\\xf4': 1.0} ii2P {u'm\\xe2Zje': 1.0} ii3P {u'm\\xe2ZE': 1.0} fi1S {u'm\\xe2Z6rE': 0.9487179487179487, u'm\\xe2ZirE': 0.012263099219620958, u'm\\xe2ZrE': 0.03901895206243032} fi2S {u'm\\xe2Zra': 0.03901895206243032, u'm\\xe2Z6ra': 0.9487179487179487, u'm\\xe2Zira': 0.012263099219620958} fi3S {u'm\\xe2Zra': 0.03901895206243032, u'm\\xe2Z6ra': 0.9487179487179487, u'm\\xe2Zira': 0.012263099219620958} fi1P {u'm\\xe2Z6r\\xf4': 0.9487179487179487, u'm\\xe2Zir\\xf4': 0.012263099219620958, u'm\\xe2Zr\\xf4': 0.03901895206243032} fi2P {u'm\\xe2Z6re': 0.9487179487179487, u'm\\xe2Zire': 0.012263099219620958, u'm\\xe2Zre': 0.03901895206243032} fi3P {u'm\\xe2Z6r\\xf4': 0.9487179487179487, u'm\\xe2Zir\\xf4': 0.012263099219620958, u'm\\xe2Zr\\xf4': 0.03901895206243032} pI2S {u'm\\xe2Z': 1.0} pI1P {u'm\\xe2Z\\xf4': 1.0} pI2P {u'm\\xe2Ze': 1.0} ps1S {u'm\\xe2Z': 1.0} ps2S {u'm\\xe2Z': 1.0} ps3S {u'm\\xe2Z': 1.0} ps1P {u'm\\xe2Zj\\xf4': 1.0} ps2P {u'm\\xe2Zje': 1.0} ps3P {u'm\\xe2Z': 1.0} pc1S {u'm\\xe2Z6rE': 0.9487179487179487, u'm\\xe2ZirE': 0.012263099219620958, u'm\\xe2ZrE': 0.03901895206243032} pc2S {u'm\\xe2Z6rE': 0.9487179487179487, u'm\\xe2ZirE': 0.012263099219620958, u'm\\xe2ZrE': 0.03901895206243032} pc3S {u'm\\xe2Z6rE': 0.9487179487179487, u'm\\xe2ZirE': 0.012263099219620958, u'm\\xe2ZrE': 0.03901895206243032} pc1P m\u00e2Ze\n",
        "pas de classe e-ri\u00f4, e-6rj\u00f4, e-irj\u00f4\n",
        "0.33 par forme de sortie\n",
        "{u'm\\xe2Zri\\xf4': 0.3333333333333333, u'm\\xe2Z6rj\\xf4': 0.3333333333333333, u'm\\xe2Zirj\\xf4': 0.3333333333333333} pc2P {u'm\\xe2Zrie': 0.04462972045120157, u'm\\xe2Zirje': 0.007356547327121138, u'm\\xe2Z6rje': 0.9480137322216773} pc3P {u'm\\xe2Z6rE': 0.9487179487179487, u'm\\xe2ZirE': 0.012263099219620958, u'm\\xe2ZrE': 0.03901895206243032} pP {u'm\\xe2Z\\xe2': 1.0} ai1S {u'm\\xe2Zi': 0.04048394602140531, u'm\\xe2ZE': 0.9595160539785947} ai2S {u'm\\xe2Za': 0.9595160539785947, u'm\\xe2Zi': 0.04048394602140531} ai3S {u'm\\xe2Za': 0.9595160539785947, u'm\\xe2Zi': 0.04048394602140531} ai1P {u'm\\xe2Zam': 0.9595160539785947, u'm\\xe2Zim': 0.04048394602140531} ai2P {u'm\\xe2Zit': 0.04048394602140531, u'm\\xe2Zat': 0.9595160539785947} ai3P {u'm\\xe2ZEr': 0.9595160539785947, u'm\\xe2Zir': 0.04048394602140531} is1S {u'm\\xe2Zis': 0.0425531914893617, u'm\\xe2Zas': 0.9574468085106383} is2S {u'm\\xe2Zis': 0.0425531914893617, u'm\\xe2Zas': 0.9574468085106383} is3S {u'm\\xe2Za': 0.9574468085106383, u'm\\xe2Zi': 0.0425531914893617} is1P {u'm\\xe2Zasj\\xf4': 0.9574468085106383, u'm\\xe2Zisj\\xf4': 0.0425531914893617} is2P {u'm\\xe2Zasje': 0.9574468085106383, u'm\\xe2Zisje': 0.0425531914893617} is3P {u'm\\xe2Zis': 0.0425531914893617, u'm\\xe2Zas': 0.9574468085106383}\n",
        "ps1S m\u00e2Z\n",
        "inf {u'm\\xe2Zr': 0.03110353642948445, u'm\\xe2Zir': 0.011077971878994461, u'm\\xe2Ze': 0.9578184916915211} pi1S {u'm\\xe2Z': 1.0} pi2S {u'm\\xe2Z': 1.0} pi3S {u'm\\xe2Z': 1.0} pi1P {u'm\\xe2Z\\xf4': 1.0} pi2P {u'm\\xe2Ze': 1.0} pi3P {u'm\\xe2Z': 1.0} ii1S {u'm\\xe2ZE': 1.0} ii2S {u'm\\xe2ZE': 1.0} ii3S {u'm\\xe2ZE': 1.0} ii1P {u'm\\xe2Zj\\xf4': 1.0} ii2P {u'm\\xe2Zje': 1.0} ii3P {u'm\\xe2ZE': 1.0} fi1S {u'm\\xe2Z6rE': 0.9520059992500938, u'm\\xe2ZirE': 0.011623547056617924, u'm\\xe2ZrE': 0.03637045369328834} fi2S m\u00e2Z\n",
        "pas de classe -6ra, -ira, -ra\n",
        "0.33 par forme de sortie\n",
        "{u'm\\xe2Zra': 0.3333333333333333, u'm\\xe2Z6ra': 0.3333333333333333, u'm\\xe2Zira': 0.3333333333333333} fi3S m\u00e2Z\n",
        "pas de classe -6ra, -ira, -ra\n",
        "0.33 par forme de sortie\n",
        "{u'm\\xe2Zra': 0.3333333333333333, u'm\\xe2Z6ra': 0.3333333333333333, u'm\\xe2Zira': 0.3333333333333333} fi1P {u'm\\xe2Z6r\\xf4': 0.9520059992500938, u'm\\xe2Zir\\xf4': 0.011623547056617924, u'm\\xe2Zr\\xf4': 0.03637045369328834} fi2P {u'm\\xe2Z6re': 0.9520059992500938, u'm\\xe2Zire': 0.011623547056617924, u'm\\xe2Zre': 0.03637045369328834} fi3P {u'm\\xe2Z6r\\xf4': 0.9520059992500938, u'm\\xe2Zir\\xf4': 0.011623547056617924, u'm\\xe2Zr\\xf4': 0.03637045369328834} pI2S {u'm\\xe2Z': 1.0} pI1P {u'm\\xe2Z\\xf4': 1.0} pI2P {u'm\\xe2Ze': 1.0} ps1S {u'm\\xe2Z': 1.0} ps2S {u'm\\xe2Z': 1.0} ps3S {u'm\\xe2Z': 1.0} ps1P {u'm\\xe2Zj\\xf4': 1.0} ps2P {u'm\\xe2Zje': 1.0} ps3P {u'm\\xe2Z': 1.0} pc1S {u'm\\xe2Z6rE': 0.9520059992500938, u'm\\xe2ZirE': 0.011623547056617924, u'm\\xe2ZrE': 0.03637045369328834} pc2S {u'm\\xe2Z6rE': 0.9520059992500938, u'm\\xe2ZirE': 0.011623547056617924, u'm\\xe2ZrE': 0.03637045369328834} pc3S {u'm\\xe2Z6rE': 0.9520059992500938, u'm\\xe2ZirE': 0.011623547056617924, u'm\\xe2ZrE': 0.03637045369328834} pc1P {u'm\\xe2Zri\\xf4': 0.04501770359129995, u'm\\xe2Z6rj\\xf4': 0.947395042994436, u'm\\xe2Zirj\\xf4': 0.007587253414264037} pc2P {u'm\\xe2Zrie': 0.04501770359129995, u'm\\xe2Zirje': 0.007587253414264037, u'm\\xe2Z6rje': 0.947395042994436} pc3P {u'm\\xe2Z6rE': 0.9520059992500938, u'm\\xe2ZirE': 0.011623547056617924, u'm\\xe2ZrE': 0.03637045369328834} pP {u'm\\xe2Z\\xe2': 1.0} ai1S {u'm\\xe2Zi': 0.04209295527623502, u'm\\xe2ZE': 0.957907044723765} ai2S m\u00e2Z\n",
        "pas de classe -i, -a\n",
        "0.50 par forme de sortie\n",
        "{u'm\\xe2Zi': 0.5, u'm\\xe2Za': 0.5} ai3S m\u00e2Z\n",
        "pas de classe -i, -a\n",
        "0.50 par forme de sortie\n",
        "{u'm\\xe2Zi': 0.5, u'm\\xe2Za': 0.5} ai1P {u'm\\xe2Zam': 0.957907044723765, u'm\\xe2Zim': 0.04209295527623502} ai2P {u'm\\xe2Zit': 0.04209295527623502, u'm\\xe2Zat': 0.957907044723765} ai3P {u'm\\xe2ZEr': 0.957907044723765, u'm\\xe2Zir': 0.04209295527623502} is1S {u'm\\xe2Zis': 0.05063657407407408, u'm\\xe2Zas': 0.9493634259259259} is2S {u'm\\xe2Zis': 0.05063657407407408, u'm\\xe2Zas': 0.9493634259259259} is3S m\u00e2Z\n",
        "pas de classe -i, -a\n",
        "0.50 par forme de sortie\n",
        "{u'm\\xe2Zi': 0.5, u'm\\xe2Za': 0.5} is1P {u'm\\xe2Zasj\\xf4': 0.9493634259259259, u'm\\xe2Zisj\\xf4': 0.05063657407407408} is2P {u'm\\xe2Zasje': 0.9493634259259259, u'm\\xe2Zisje': 0.05063657407407408} is3P {u'm\\xe2Zis': 0.05063657407407408, u'm\\xe2Zas': 0.9493634259259259}\n",
        "ps2S m\u00e2Z\n",
        "inf {u'm\\xe2Zr': 0.03110353642948445, u'm\\xe2Zir': 0.011077971878994461, u'm\\xe2Ze': 0.9578184916915211} pi1S {u'm\\xe2Z': 1.0} pi2S {u'm\\xe2Z': 1.0} pi3S {u'm\\xe2Z': 1.0} pi1P {u'm\\xe2Z\\xf4': 1.0} pi2P {u'm\\xe2Ze': 1.0} pi3P {u'm\\xe2Z': 1.0} ii1S {u'm\\xe2ZE': 1.0} ii2S {u'm\\xe2ZE': 1.0} ii3S {u'm\\xe2ZE': 1.0} ii1P {u'm\\xe2Zj\\xf4': 1.0} ii2P {u'm\\xe2Zje': 1.0} ii3P {u'm\\xe2ZE': 1.0} fi1S {u'm\\xe2Z6rE': 0.9520059992500938, u'm\\xe2ZirE': 0.011623547056617924, u'm\\xe2ZrE': 0.03637045369328834} fi2S m\u00e2Z\n",
        "pas de classe -6ra, -ira, -ra\n",
        "0.33 par forme de sortie\n",
        "{u'm\\xe2Zra': 0.3333333333333333, u'm\\xe2Z6ra': 0.3333333333333333, u'm\\xe2Zira': 0.3333333333333333} fi3S m\u00e2Z\n",
        "pas de classe -6ra, -ira, -ra\n",
        "0.33 par forme de sortie\n",
        "{u'm\\xe2Zra': 0.3333333333333333, u'm\\xe2Z6ra': 0.3333333333333333, u'm\\xe2Zira': 0.3333333333333333} fi1P {u'm\\xe2Z6r\\xf4': 0.9520059992500938, u'm\\xe2Zir\\xf4': 0.011623547056617924, u'm\\xe2Zr\\xf4': 0.03637045369328834} fi2P {u'm\\xe2Z6re': 0.9520059992500938, u'm\\xe2Zire': 0.011623547056617924, u'm\\xe2Zre': 0.03637045369328834} fi3P {u'm\\xe2Z6r\\xf4': 0.9520059992500938, u'm\\xe2Zir\\xf4': 0.011623547056617924, u'm\\xe2Zr\\xf4': 0.03637045369328834} pI2S {u'm\\xe2Z': 1.0} pI1P {u'm\\xe2Z\\xf4': 1.0} pI2P {u'm\\xe2Ze': 1.0} ps1S {u'm\\xe2Z': 1.0} ps2S {u'm\\xe2Z': 1.0} ps3S {u'm\\xe2Z': 1.0} ps1P {u'm\\xe2Zj\\xf4': 1.0} ps2P {u'm\\xe2Zje': 1.0} ps3P {u'm\\xe2Z': 1.0} pc1S {u'm\\xe2Z6rE': 0.9520059992500938, u'm\\xe2ZirE': 0.011623547056617924, u'm\\xe2ZrE': 0.03637045369328834} pc2S {u'm\\xe2Z6rE': 0.9520059992500938, u'm\\xe2ZirE': 0.011623547056617924, u'm\\xe2ZrE': 0.03637045369328834} pc3S {u'm\\xe2Z6rE': 0.9520059992500938, u'm\\xe2ZirE': 0.011623547056617924, u'm\\xe2ZrE': 0.03637045369328834} pc1P {u'm\\xe2Zri\\xf4': 0.04501770359129995, u'm\\xe2Z6rj\\xf4': 0.947395042994436, u'm\\xe2Zirj\\xf4': 0.007587253414264037} pc2P {u'm\\xe2Zrie': 0.04501770359129995, u'm\\xe2Zirje': 0.007587253414264037, u'm\\xe2Z6rje': 0.947395042994436} pc3P {u'm\\xe2Z6rE': 0.9520059992500938, u'm\\xe2ZirE': 0.011623547056617924, u'm\\xe2ZrE': 0.03637045369328834} pP {u'm\\xe2Z\\xe2': 1.0} ai1S {u'm\\xe2Zi': 0.04209295527623502, u'm\\xe2ZE': 0.957907044723765} ai2S m\u00e2Z\n",
        "pas de classe -i, -a\n",
        "0.50 par forme de sortie\n",
        "{u'm\\xe2Zi': 0.5, u'm\\xe2Za': 0.5} ai3S m\u00e2Z\n",
        "pas de classe -i, -a\n",
        "0.50 par forme de sortie\n",
        "{u'm\\xe2Zi': 0.5, u'm\\xe2Za': 0.5} ai1P {u'm\\xe2Zam': 0.957907044723765, u'm\\xe2Zim': 0.04209295527623502} ai2P {u'm\\xe2Zit': 0.04209295527623502, u'm\\xe2Zat': 0.957907044723765} ai3P {u'm\\xe2ZEr': 0.957907044723765, u'm\\xe2Zir': 0.04209295527623502} is1S {u'm\\xe2Zis': 0.05063657407407408, u'm\\xe2Zas': 0.9493634259259259} is2S {u'm\\xe2Zis': 0.05063657407407408, u'm\\xe2Zas': 0.9493634259259259} is3S m\u00e2Z\n",
        "pas de classe -i, -a\n",
        "0.50 par forme de sortie\n",
        "{u'm\\xe2Zi': 0.5, u'm\\xe2Za': 0.5} is1P {u'm\\xe2Zasj\\xf4': 0.9493634259259259, u'm\\xe2Zisj\\xf4': 0.05063657407407408} is2P {u'm\\xe2Zasje': 0.9493634259259259, u'm\\xe2Zisje': 0.05063657407407408} is3P {u'm\\xe2Zis': 0.05063657407407408, u'm\\xe2Zas': 0.9493634259259259}\n",
        "ps3S m\u00e2Z\n",
        "inf {u'm\\xe2Zr': 0.03143585386576041, u'm\\xe2Zir': 0.011045029736618521, u'm\\xe2Ze': 0.9575191163976211} pi1S {u'm\\xe2Z': 1.0} pi2S {u'm\\xe2Z': 1.0} pi3S {u'm\\xe2Z': 1.0} pi1P {u'm\\xe2Z\\xf4': 1.0} pi2P {u'm\\xe2Ze': 1.0} pi3P {u'm\\xe2Z': 1.0} ii1S {u'm\\xe2ZE': 1.0} ii2S {u'm\\xe2ZE': 1.0} ii3S {u'm\\xe2ZE': 1.0} ii1P {u'm\\xe2Zj\\xf4': 1.0} ii2P {u'm\\xe2Zje': 1.0} ii3P {u'm\\xe2ZE': 1.0} fi1S {u'm\\xe2Z6rE': 0.9520059992500938, u'm\\xe2ZirE': 0.011623547056617924, u'm\\xe2ZrE': 0.03637045369328834} fi2S m\u00e2Z\n",
        "pas de classe -6ra, -ira, -ra\n",
        "0.33 par forme de sortie\n",
        "{u'm\\xe2Zra': 0.3333333333333333, u'm\\xe2Z6ra': 0.3333333333333333, u'm\\xe2Zira': 0.3333333333333333} fi3S m\u00e2Z\n",
        "pas de classe -6ra, -ira, -ra\n",
        "0.33 par forme de sortie\n",
        "{u'm\\xe2Zra': 0.3333333333333333, u'm\\xe2Z6ra': 0.3333333333333333, u'm\\xe2Zira': 0.3333333333333333} fi1P {u'm\\xe2Z6r\\xf4': 0.9520059992500938, u'm\\xe2Zir\\xf4': 0.011623547056617924, u'm\\xe2Zr\\xf4': 0.03637045369328834} fi2P {u'm\\xe2Z6re': 0.9520059992500938, u'm\\xe2Zire': 0.011623547056617924, u'm\\xe2Zre': 0.03637045369328834} fi3P {u'm\\xe2Z6r\\xf4': 0.9517034818420067, u'm\\xe2Zir\\xf4': 0.011606140022463497, u'm\\xe2Zr\\xf4': 0.036690378135529764} pI2S {u'm\\xe2Z': 1.0} pI1P {u'm\\xe2Z\\xf4': 1.0} pI2P {u'm\\xe2Ze': 1.0} ps1S {u'm\\xe2Z': 1.0} ps2S {u'm\\xe2Z': 1.0} ps3S {u'm\\xe2Z': 1.0} ps1P {u'm\\xe2Zj\\xf4': 1.0} ps2P {u'm\\xe2Zje': 1.0} ps3P {u'm\\xe2Z': 1.0} pc1S {u'm\\xe2Z6rE': 0.9520059992500938, u'm\\xe2ZirE': 0.011623547056617924, u'm\\xe2ZrE': 0.03637045369328834} pc2S {u'm\\xe2Z6rE': 0.9520059992500938, u'm\\xe2ZirE': 0.011623547056617924, u'm\\xe2ZrE': 0.03637045369328834} pc3S {u'm\\xe2Z6rE': 0.9517576664173523, u'm\\xe2ZirE': 0.011593118922961856, u'm\\xe2ZrE': 0.03664921465968586} pc1P {u'm\\xe2Zri\\xf4': 0.04501770359129995, u'm\\xe2Z6rj\\xf4': 0.947395042994436, u'm\\xe2Zirj\\xf4': 0.007587253414264037} pc2P {u'm\\xe2Zrie': 0.04501770359129995, u'm\\xe2Zirje': 0.007587253414264037, u'm\\xe2Z6rje': 0.947395042994436} pc3P {u'm\\xe2Z6rE': 0.9517034818420067, u'm\\xe2ZirE': 0.011606140022463497, u'm\\xe2ZrE': 0.036690378135529764} pP {u'm\\xe2Z\\xe2': 1.0} ai1S {u'm\\xe2Zi': 0.04209295527623502, u'm\\xe2ZE': 0.957907044723765} ai2S m\u00e2Z\n",
        "pas de classe -i, -a\n",
        "0.50 par forme de sortie\n",
        "{u'm\\xe2Zi': 0.5, u'm\\xe2Za': 0.5} ai3S m\u00e2Z\n",
        "pas de classe -i, -a\n",
        "0.50 par forme de sortie\n",
        "{u'm\\xe2Zi': 0.5, u'm\\xe2Za': 0.5} ai1P {u'm\\xe2Zam': 0.957907044723765, u'm\\xe2Zim': 0.04209295527623502} ai2P {u'm\\xe2Zit': 0.04209295527623502, u'm\\xe2Zat': 0.957907044723765} ai3P {u'm\\xe2ZEr': 0.9577382687263188, u'm\\xe2Zir': 0.042261731273681144} is1S {u'm\\xe2Zis': 0.05063657407407408, u'm\\xe2Zas': 0.9493634259259259} is2S {u'm\\xe2Zis': 0.05063657407407408, u'm\\xe2Zas': 0.9493634259259259} is3S m\u00e2Z\n",
        "pas de classe -i, -a\n",
        "0.50 par forme de sortie\n",
        "{u'm\\xe2Zi': 0.5, u'm\\xe2Za': 0.5} is1P {u'm\\xe2Zasj\\xf4': 0.9493634259259259, u'm\\xe2Zisj\\xf4': 0.05063657407407408} is2P {u'm\\xe2Zasje': 0.9493634259259259, u'm\\xe2Zisje': 0.05063657407407408} is3P {u'm\\xe2Zis': 0.050778995960761686, u'm\\xe2Zas': 0.9492210040392384}\n",
        "ps1P"
       ]
      },
      {
       "output_type": "stream",
       "stream": "stdout",
       "text": [
        " m\u00e2Zj\u00f4\n",
        "inf m\u00e2Zj\u00f4\n",
        "pas de classe j\u00f4-r, j\u00f4-e\n",
        "0.50 par forme de sortie\n",
        "{u'm\\xe2Zr': 0.5, u'm\\xe2Ze': 0.5} pi1S {u'm\\xe2Z': 1.0} pi2S {u'm\\xe2Z': 1.0} pi3S {u'm\\xe2Z': 1.0} pi1P {u'm\\xe2Z\\xf4': 1.0} pi2P {u'm\\xe2Ze': 1.0} pi3P {u'm\\xe2Z': 1.0} ii1S {u'm\\xe2ZE': 1.0} ii2S {u'm\\xe2ZE': 1.0} ii3S {u'm\\xe2ZE': 1.0} ii1P {u'm\\xe2Zj\\xf4': 1.0} ii2P {u'm\\xe2Zje': 1.0} ii3P {u'm\\xe2ZE': 1.0} fi1S {u'm\\xe2Z6rE': 0.9870324189526185, u'm\\xe2ZrE': 0.012967581047381545} fi2S {u'm\\xe2Zra': 0.012967581047381545, u'm\\xe2Z6ra': 0.9870324189526185} fi3S {u'm\\xe2Zra': 0.012967581047381545, u'm\\xe2Z6ra': 0.9870324189526185} fi1P {u'm\\xe2Z6r\\xf4': 0.9870324189526185, u'm\\xe2Zr\\xf4': 0.012967581047381545} fi2P {u'm\\xe2Z6re': 0.9870324189526185, u'm\\xe2Zre': 0.012967581047381545} fi3P {u'm\\xe2Z6r\\xf4': 0.9870324189526185, u'm\\xe2Zr\\xf4': 0.012967581047381545} pI2S {u'm\\xe2Z': 1.0} pI1P {u'm\\xe2Z\\xf4': 1.0} pI2P {u'm\\xe2Ze': 1.0} ps1S {u'm\\xe2Z': 1.0} ps2S {u'm\\xe2Z': 1.0} ps3S {u'm\\xe2Z': 1.0} ps1P {u'm\\xe2Zj\\xf4': 1.0} ps2P {u'm\\xe2Zje': 1.0} ps3P {u'm\\xe2Z': 1.0} pc1S {u'm\\xe2Z6rE': 0.9870324189526185, u'm\\xe2ZrE': 0.012967581047381545} pc2S {u'm\\xe2Z6rE': 0.9870324189526185, u'm\\xe2ZrE': 0.012967581047381545} pc3S {u'm\\xe2Z6rE': 0.9870324189526185, u'm\\xe2ZrE': 0.012967581047381545} pc1P {u'm\\xe2Zri\\xf4': 0.01772324471710975, u'm\\xe2Z6rj\\xf4': 0.9822767552828903} pc2P {u'm\\xe2Zrie': 0.01772324471710975, u'm\\xe2Z6rje': 0.9822767552828903} pc3P {u'm\\xe2Z6rE': 0.9870324189526185, u'm\\xe2ZrE': 0.012967581047381545} pP {u'm\\xe2Z\\xe2': 1.0} ai1S {u'm\\xe2Zi': 0.034640522875816995, u'm\\xe2ZE': 0.965359477124183} ai2S {u'm\\xe2Za': 0.965359477124183, u'm\\xe2Zi': 0.034640522875816995} ai3S {u'm\\xe2Za': 0.965359477124183, u'm\\xe2Zi': 0.034640522875816995} ai1P {u'm\\xe2Zam': 0.965359477124183, u'm\\xe2Zim': 0.034640522875816995} ai2P {u'm\\xe2Zit': 0.034640522875816995, u'm\\xe2Zat': 0.965359477124183} ai3P {u'm\\xe2ZEr': 0.965359477124183, u'm\\xe2Zir': 0.034640522875816995} is1S {u'm\\xe2Zis': 0.04426494345718902, u'm\\xe2Zas': 0.955735056542811} is2S {u'm\\xe2Zis': 0.04426494345718902, u'm\\xe2Zas': 0.955735056542811} is3S {u'm\\xe2Za': 0.955735056542811, u'm\\xe2Zi': 0.04426494345718902} is1P {u'm\\xe2Zasj\\xf4': 0.955735056542811, u'm\\xe2Zisj\\xf4': 0.04426494345718902} is2P {u'm\\xe2Zasje': 0.955735056542811, u'm\\xe2Zisje': 0.04426494345718902} is3P {u'm\\xe2Zis': 0.04426494345718902, u'm\\xe2Zas': 0.955735056542811}\n",
        "ps2P m\u00e2Zje\n",
        "inf {u'm\\xe2Zr': 0.0023094688221709007, u'm\\xe2Ze': 0.9976905311778291} pi1S {u'm\\xe2Z': 1.0} pi2S {u'm\\xe2Z': 1.0} pi3S {u'm\\xe2Z': 1.0} pi1P {u'm\\xe2Z\\xf4': 1.0} pi2P {u'm\\xe2Ze': 1.0} pi3P {u'm\\xe2Z': 1.0} ii1S {u'm\\xe2ZE': 1.0} ii2S {u'm\\xe2ZE': 1.0} ii3S {u'm\\xe2ZE': 1.0} ii1P {u'm\\xe2Zj\\xf4': 1.0} ii2P {u'm\\xe2Zje': 1.0} ii3P {u'm\\xe2ZE': 1.0} fi1S m\u00e2Zje\n",
        "pas de classe je-6rE, je-rE\n",
        "0.50 par forme de sortie\n",
        "{u'm\\xe2Z6rE': 0.5, u'm\\xe2ZrE': 0.5} fi2S {u'm\\xe2Zra': 0.012967581047381545, u'm\\xe2Z6ra': 0.9870324189526185} fi3S {u'm\\xe2Zra': 0.012967581047381545, u'm\\xe2Z6ra': 0.9870324189526185} fi1P {u'm\\xe2Z6r\\xf4': 0.9870324189526185, u'm\\xe2Zr\\xf4': 0.012967581047381545} fi2P {u'm\\xe2Z6re': 0.9870324189526185, u'm\\xe2Zre': 0.012967581047381545} fi3P {u'm\\xe2Z6r\\xf4': 0.9870324189526185, u'm\\xe2Zr\\xf4': 0.012967581047381545} pI2S {u'm\\xe2Z': 1.0} pI1P {u'm\\xe2Z\\xf4': 1.0} pI2P {u'm\\xe2Ze': 1.0} ps1S {u'm\\xe2Z': 1.0} ps2S {u'm\\xe2Z': 1.0} ps3S {u'm\\xe2Z': 1.0} ps1P {u'm\\xe2Zj\\xf4': 1.0} ps2P {u'm\\xe2Zje': 1.0} ps3P {u'm\\xe2Z': 1.0} pc1S m\u00e2Zje\n",
        "pas de classe je-6rE, je-rE\n",
        "0.50 par forme de sortie\n",
        "{u'm\\xe2Z6rE': 0.5, u'm\\xe2ZrE': 0.5} pc2S m\u00e2Zje\n",
        "pas de classe je-6rE, je-rE\n",
        "0.50 par forme de sortie\n",
        "{u'm\\xe2Z6rE': 0.5, u'm\\xe2ZrE': 0.5} pc3S m\u00e2Zje\n",
        "pas de classe je-6rE, je-rE\n",
        "0.50 par forme de sortie\n",
        "{u'm\\xe2Z6rE': 0.5, u'm\\xe2ZrE': 0.5} pc1P {u'm\\xe2Z6rj\\xf4': 0.9822767552828903, u'm\\xe2Zri\\xf4': 0.01772324471710975} pc2P {u'm\\xe2Z6rje': 0.9822767552828903, u'm\\xe2Zrie': 0.01772324471710975} pc3P m\u00e2Zje\n",
        "pas de classe je-6rE, je-rE\n",
        "0.50 par forme de sortie\n",
        "{u'm\\xe2Z6rE': 0.5, u'm\\xe2ZrE': 0.5} pP {u'm\\xe2Z\\xe2': 1.0} ai1S {u'm\\xe2Zi': 0.034640522875816995, u'm\\xe2ZE': 0.965359477124183} ai2S {u'm\\xe2Za': 0.965359477124183, u'm\\xe2Zi': 0.034640522875816995} ai3S {u'm\\xe2Za': 0.965359477124183, u'm\\xe2Zi': 0.034640522875816995} ai1P {u'm\\xe2Zam': 0.965359477124183, u'm\\xe2Zim': 0.034640522875816995} ai2P {u'm\\xe2Zit': 0.034640522875816995, u'm\\xe2Zat': 0.965359477124183} ai3P {u'm\\xe2ZEr': 0.965359477124183, u'm\\xe2Zir': 0.034640522875816995} is1S {u'm\\xe2Zis': 0.04426494345718902, u'm\\xe2Zas': 0.955735056542811} is2S {u'm\\xe2Zis': 0.04426494345718902, u'm\\xe2Zas': 0.955735056542811} is3S {u'm\\xe2Za': 0.955735056542811, u'm\\xe2Zi': 0.04426494345718902} is1P {u'm\\xe2Zasj\\xf4': 0.955735056542811, u'm\\xe2Zisj\\xf4': 0.04426494345718902} is2P {u'm\\xe2Zasje': 0.955735056542811, u'm\\xe2Zisje': 0.04426494345718902} is3P {u'm\\xe2Zis': 0.04426494345718902, u'm\\xe2Zas': 0.955735056542811}\n",
        "ps3P m\u00e2Z\n",
        "inf {u'm\\xe2Zr': 0.031475967673330496, u'm\\xe2Zir': 0.01105912377711612, u'm\\xe2Ze': 0.9574649085495534} pi1S {u'm\\xe2Z': 1.0} pi2S {u'm\\xe2Z': 1.0} pi3S {u'm\\xe2Z': 1.0} pi1P {u'm\\xe2Z\\xf4': 1.0} pi2P {u'm\\xe2Ze': 1.0} pi3P {u'm\\xe2Z': 1.0} ii1S {u'm\\xe2ZE': 1.0} ii2S {u'm\\xe2ZE': 1.0} ii3S {u'm\\xe2ZE': 1.0} ii1P {u'm\\xe2Zj\\xf4': 1.0} ii2P {u'm\\xe2Zje': 1.0} ii3P {u'm\\xe2ZE': 1.0} fi1S {u'm\\xe2Z6rE': 0.9520059992500938, u'm\\xe2ZirE': 0.011623547056617924, u'm\\xe2ZrE': 0.03637045369328834} fi2S m\u00e2Z\n",
        "pas de classe -6ra, -ira, -ra\n",
        "0.33 par forme de sortie\n",
        "{u'm\\xe2Zra': 0.3333333333333333, u'm\\xe2Z6ra': 0.3333333333333333, u'm\\xe2Zira': 0.3333333333333333} fi3S m\u00e2Z\n",
        "pas de classe -6ra, -ira, -ra\n",
        "0.33 par forme de sortie\n",
        "{u'm\\xe2Zra': 0.3333333333333333, u'm\\xe2Z6ra': 0.3333333333333333, u'm\\xe2Zira': 0.3333333333333333} fi1P {u'm\\xe2Z6r\\xf4': 0.9520059992500938, u'm\\xe2Zir\\xf4': 0.011623547056617924, u'm\\xe2Zr\\xf4': 0.03637045369328834} fi2P {u'm\\xe2Z6re': 0.9520059992500938, u'm\\xe2Zire': 0.011623547056617924, u'm\\xe2Zre': 0.03637045369328834} fi3P {u'm\\xe2Z6r\\xf4': 0.9517034818420067, u'm\\xe2Zir\\xf4': 0.011606140022463497, u'm\\xe2Zr\\xf4': 0.036690378135529764} pI2S {u'm\\xe2Z': 1.0} pI1P {u'm\\xe2Z\\xf4': 1.0} pI2P {u'm\\xe2Ze': 1.0} ps1S {u'm\\xe2Z': 1.0} ps2S {u'm\\xe2Z': 1.0} ps3S {u'm\\xe2Z': 1.0} ps1P {u'm\\xe2Zj\\xf4': 1.0} ps2P {u'm\\xe2Zje': 1.0} ps3P {u'm\\xe2Z': 1.0} pc1S {u'm\\xe2Z6rE': 0.9520059992500938, u'm\\xe2ZirE': 0.011623547056617924, u'm\\xe2ZrE': 0.03637045369328834} pc2S {u'm\\xe2Z6rE': 0.9520059992500938, u'm\\xe2ZirE': 0.011623547056617924, u'm\\xe2ZrE': 0.03637045369328834} pc3S {u'm\\xe2Z6rE': 0.9517034818420067, u'm\\xe2ZirE': 0.011606140022463497, u'm\\xe2ZrE': 0.036690378135529764} pc1P {u'm\\xe2Zri\\xf4': 0.04501770359129995, u'm\\xe2Z6rj\\xf4': 0.947395042994436, u'm\\xe2Zirj\\xf4': 0.007587253414264037} pc2P {u'm\\xe2Zrie': 0.04501770359129995, u'm\\xe2Zirje': 0.007587253414264037, u'm\\xe2Z6rje': 0.947395042994436} pc3P {u'm\\xe2Z6rE': 0.9517034818420067, u'm\\xe2ZirE': 0.011606140022463497, u'm\\xe2ZrE': 0.036690378135529764} pP {u'm\\xe2Z\\xe2': 1.0} ai1S {u'm\\xe2Zi': 0.04209295527623502, u'm\\xe2ZE': 0.957907044723765} ai2S m\u00e2Z\n",
        "pas de classe -i, -a\n",
        "0.50 par forme de sortie\n",
        "{u'm\\xe2Zi': 0.5, u'm\\xe2Za': 0.5} ai3S m\u00e2Z\n",
        "pas de classe -i, -a\n",
        "0.50 par forme de sortie\n",
        "{u'm\\xe2Zi': 0.5, u'm\\xe2Za': 0.5} ai1P {u'm\\xe2Zam': 0.957907044723765, u'm\\xe2Zim': 0.04209295527623502} ai2P {u'm\\xe2Zit': 0.04209295527623502, u'm\\xe2Zat': 0.957907044723765} ai3P {u'm\\xe2ZEr': 0.9577382687263188, u'm\\xe2Zir': 0.042261731273681144} is1S {u'm\\xe2Zis': 0.05063657407407408, u'm\\xe2Zas': 0.9493634259259259} is2S {u'm\\xe2Zis': 0.05063657407407408, u'm\\xe2Zas': 0.9493634259259259} is3S m\u00e2Z\n",
        "pas de classe -i, -a\n",
        "0.50 par forme de sortie\n",
        "{u'm\\xe2Zi': 0.5, u'm\\xe2Za': 0.5} is1P {u'm\\xe2Zasj\\xf4': 0.9493634259259259, u'm\\xe2Zisj\\xf4': 0.05063657407407408} is2P {u'm\\xe2Zasje': 0.9493634259259259, u'm\\xe2Zisje': 0.05063657407407408} is3P "
       ]
      },
      {
       "output_type": "stream",
       "stream": "stdout",
       "text": [
        "{u'm\\xe2Zis': 0.050778995960761686, u'm\\xe2Zas': 0.9492210040392384}\n",
        "pc1S m\u00e2Z6rE\n",
        "inf m\u00e2Z6rE\n",
        "pas de classe E-, rE-e, 6rE-e\n",
        "0.33 par forme de sortie\n",
        "{u'm\\xe2Z6e': 0.3333333333333333, u'm\\xe2Z6r': 0.3333333333333333, u'm\\xe2Ze': 0.3333333333333333} pi1S {u'm\\xe2Z': 1.0} pi2S {u'm\\xe2Z': 1.0} pi3S {u'm\\xe2Z': 1.0} pi1P {u'm\\xe2Z\\xf4': 1.0} pi2P {u'm\\xe2Ze': 1.0} pi3P m\u00e2Z6rE\n",
        "pas de classe rE-, 6rE-\n",
        "0.50 par forme de sortie\n",
        "{u'm\\xe2Z6': 0.5, u'm\\xe2Z': 0.5} ii1S {u'm\\xe2ZE': 1.0} ii2S {u'm\\xe2ZE': 1.0} ii3S {u'm\\xe2ZE': 1.0} ii1P {u'm\\xe2Zj\\xf4': 1.0} ii2P {u'm\\xe2Zje': 1.0} ii3P {u'm\\xe2ZE': 1.0} fi1S {u'm\\xe2Z6rE': 1.0} fi2S {u'm\\xe2Z6ra': 1.0} fi3S {u'm\\xe2Z6ra': 1.0} fi1P {u'm\\xe2Z6r\\xf4': 1.0} fi2P {u'm\\xe2Z6re': 1.0} fi3P {u'm\\xe2Z6r\\xf4': 1.0} pI2S {u'm\\xe2Z': 1.0} pI1P {u'm\\xe2Z\\xf4': 1.0} pI2P {u'm\\xe2Ze': 1.0} ps1S m\u00e2Z6rE\n",
        "pas de classe rE-, 6rE-\n",
        "0.50 par forme de sortie\n",
        "{u'm\\xe2Z6': 0.5, u'm\\xe2Z': 0.5} ps2S m\u00e2Z6rE\n",
        "pas de classe rE-, 6rE-\n",
        "0.50 par forme de sortie\n",
        "{u'm\\xe2Z6': 0.5, u'm\\xe2Z': 0.5} ps3S m\u00e2Z6rE\n",
        "pas de classe rE-, 6rE-\n",
        "0.50 par forme de sortie\n",
        "{u'm\\xe2Z6': 0.5, u'm\\xe2Z': 0.5} ps1P {u'm\\xe2Zj\\xf4': 1.0} ps2P {u'm\\xe2Zje': 1.0} ps3P m\u00e2Z6rE\n",
        "pas de classe rE-, 6rE-\n",
        "0.50 par forme de sortie\n",
        "{u'm\\xe2Z6': 0.5, u'm\\xe2Z': 0.5} pc1S {u'm\\xe2Z6rE': 1.0} pc2S {u'm\\xe2Z6rE': 1.0} pc3S {u'm\\xe2Z6rE': 1.0} pc1P {u'm\\xe2Z6rj\\xf4': 1.0} pc2P {u'm\\xe2Z6rje': 1.0} pc3P {u'm\\xe2Z6rE': 1.0} pP {u'm\\xe2Z\\xe2': 1.0} ai1S {u'm\\xe2ZE': 1.0} ai2S {u'm\\xe2Za': 1.0} ai3S {u'm\\xe2Za': 1.0} ai1P {u'm\\xe2Zam': 1.0} ai2P {u'm\\xe2Zat': 1.0} ai3P {u'm\\xe2ZEr': 1.0} is1S {u'm\\xe2Zas': 1.0} is2S {u'm\\xe2Zas': 1.0} is3S {u'm\\xe2Za': 1.0} is1P {u'm\\xe2Zasj\\xf4': 1.0} is2P {u'm\\xe2Zasje': 1.0} is3P {u'm\\xe2Zas': 1.0}\n",
        "pc2S m\u00e2Z6rE\n",
        "inf m\u00e2Z6rE\n",
        "pas de classe E-, rE-e, 6rE-e\n",
        "0.33 par forme de sortie\n",
        "{u'm\\xe2Z6e': 0.3333333333333333, u'm\\xe2Z6r': 0.3333333333333333, u'm\\xe2Ze': 0.3333333333333333} pi1S {u'm\\xe2Z': 1.0} pi2S {u'm\\xe2Z': 1.0} pi3S {u'm\\xe2Z': 1.0} pi1P {u'm\\xe2Z\\xf4': 1.0} pi2P {u'm\\xe2Ze': 1.0} pi3P m\u00e2Z6rE\n",
        "pas de classe rE-, 6rE-\n",
        "0.50 par forme de sortie\n",
        "{u'm\\xe2Z6': 0.5, u'm\\xe2Z': 0.5} ii1S {u'm\\xe2ZE': 1.0} ii2S {u'm\\xe2ZE': 1.0} ii3S {u'm\\xe2ZE': 1.0} ii1P {u'm\\xe2Zj\\xf4': 1.0} ii2P {u'm\\xe2Zje': 1.0} ii3P {u'm\\xe2ZE': 1.0} fi1S {u'm\\xe2Z6rE': 1.0} fi2S {u'm\\xe2Z6ra': 1.0} fi3S {u'm\\xe2Z6ra': 1.0} fi1P {u'm\\xe2Z6r\\xf4': 1.0} fi2P {u'm\\xe2Z6re': 1.0} fi3P {u'm\\xe2Z6r\\xf4': 1.0} pI2S {u'm\\xe2Z': 1.0} pI1P {u'm\\xe2Z\\xf4': 1.0} pI2P {u'm\\xe2Ze': 1.0} ps1S m\u00e2Z6rE\n",
        "pas de classe rE-, 6rE-\n",
        "0.50 par forme de sortie\n",
        "{u'm\\xe2Z6': 0.5, u'm\\xe2Z': 0.5} ps2S m\u00e2Z6rE\n",
        "pas de classe rE-, 6rE-\n",
        "0.50 par forme de sortie\n",
        "{u'm\\xe2Z6': 0.5, u'm\\xe2Z': 0.5} ps3S m\u00e2Z6rE\n",
        "pas de classe rE-, 6rE-\n",
        "0.50 par forme de sortie\n",
        "{u'm\\xe2Z6': 0.5, u'm\\xe2Z': 0.5} ps1P {u'm\\xe2Zj\\xf4': 1.0} ps2P {u'm\\xe2Zje': 1.0} ps3P m\u00e2Z6rE\n",
        "pas de classe rE-, 6rE-\n",
        "0.50 par forme de sortie\n",
        "{u'm\\xe2Z6': 0.5, u'm\\xe2Z': 0.5} pc1S {u'm\\xe2Z6rE': 1.0} pc2S {u'm\\xe2Z6rE': 1.0} pc3S {u'm\\xe2Z6rE': 1.0} pc1P {u'm\\xe2Z6rj\\xf4': 1.0} pc2P {u'm\\xe2Z6rje': 1.0} pc3P {u'm\\xe2Z6rE': 1.0} pP {u'm\\xe2Z\\xe2': 1.0} ai1S {u'm\\xe2ZE': 1.0} ai2S {u'm\\xe2Za': 1.0} ai3S {u'm\\xe2Za': 1.0} ai1P {u'm\\xe2Zam': 1.0} ai2P {u'm\\xe2Zat': 1.0} ai3P {u'm\\xe2ZEr': 1.0} is1S {u'm\\xe2Zas': 1.0} is2S {u'm\\xe2Zas': 1.0} is3S {u'm\\xe2Za': 1.0} is1P {u'm\\xe2Zasj\\xf4': 1.0} is2P {u'm\\xe2Zasje': 1.0} is3P {u'm\\xe2Zas': 1.0}\n",
        "pc3S m\u00e2Z6rE\n",
        "inf m\u00e2Z6rE\n",
        "pas de classe E-, rE-e, 6rE-e\n",
        "0.33 par forme de sortie\n",
        "{u'm\\xe2Z6e': 0.3333333333333333, u'm\\xe2Z6r': 0.3333333333333333, u'm\\xe2Ze': 0.3333333333333333} pi1S "
       ]
      },
      {
       "output_type": "stream",
       "stream": "stdout",
       "text": [
        "{u'm\\xe2Z': 1.0} pi2S {u'm\\xe2Z': 1.0} pi3S {u'm\\xe2Z': 1.0} pi1P {u'm\\xe2Z\\xf4': 1.0} pi2P {u'm\\xe2Ze': 1.0} pi3P m\u00e2Z6rE\n",
        "pas de classe rE-, 6rE-\n",
        "0.50 par forme de sortie\n",
        "{u'm\\xe2Z6': 0.5, u'm\\xe2Z': 0.5} ii1S {u'm\\xe2ZE': 1.0} ii2S {u'm\\xe2ZE': 1.0} ii3S {u'm\\xe2ZE': 1.0} ii1P {u'm\\xe2Zj\\xf4': 1.0} ii2P {u'm\\xe2Zje': 1.0} ii3P {u'm\\xe2ZE': 1.0} fi1S {u'm\\xe2Z6rE': 1.0} fi2S {u'm\\xe2Z6ra': 1.0} fi3S {u'm\\xe2Z6ra': 1.0} fi1P {u'm\\xe2Z6r\\xf4': 1.0} fi2P {u'm\\xe2Z6re': 1.0} fi3P {u'm\\xe2Z6r\\xf4': 1.0} pI2S {u'm\\xe2Z': 1.0} pI1P {u'm\\xe2Z\\xf4': 1.0} pI2P {u'm\\xe2Ze': 1.0} ps1S m\u00e2Z6rE\n",
        "pas de classe rE-, 6rE-\n",
        "0.50 par forme de sortie\n",
        "{u'm\\xe2Z6': 0.5, u'm\\xe2Z': 0.5} ps2S m\u00e2Z6rE\n",
        "pas de classe rE-, 6rE-\n",
        "0.50 par forme de sortie\n",
        "{u'm\\xe2Z6': 0.5, u'm\\xe2Z': 0.5} ps3S m\u00e2Z6rE\n",
        "pas de classe rE-, 6rE-\n",
        "0.50 par forme de sortie\n",
        "{u'm\\xe2Z6': 0.5, u'm\\xe2Z': 0.5} ps1P {u'm\\xe2Zj\\xf4': 1.0} ps2P {u'm\\xe2Zje': 1.0} ps3P m\u00e2Z6rE\n",
        "pas de classe rE-, 6rE-\n",
        "0.50 par forme de sortie\n",
        "{u'm\\xe2Z6': 0.5, u'm\\xe2Z': 0.5} pc1S {u'm\\xe2Z6rE': 1.0} pc2S {u'm\\xe2Z6rE': 1.0} pc3S {u'm\\xe2Z6rE': 1.0} pc1P {u'm\\xe2Z6rj\\xf4': 1.0} pc2P {u'm\\xe2Z6rje': 1.0} pc3P {u'm\\xe2Z6rE': 1.0} pP {u'm\\xe2Z\\xe2': 1.0} ai1S {u'm\\xe2ZE': 1.0} ai2S {u'm\\xe2Za': 1.0} ai3S {u'm\\xe2Za': 1.0} ai1P {u'm\\xe2Zam': 1.0} ai2P {u'm\\xe2Zat': 1.0} ai3P {u'm\\xe2ZEr': 1.0} is1S {u'm\\xe2Zas': 1.0} is2S {u'm\\xe2Zas': 1.0} is3S {u'm\\xe2Za': 1.0} is1P {u'm\\xe2Zasj\\xf4': 1.0} is2P {u'm\\xe2Zasje': 1.0} is3P {u'm\\xe2Zas': 1.0}\n",
        "pc1P m\u00e2Z6rj\u00f4\n",
        "inf {u'm\\xe2Ze': 1.0} pi1S {u'm\\xe2Z': 1.0} pi2S {u'm\\xe2Z': 1.0} pi3S {u'm\\xe2Z': 1.0} pi1P {u'm\\xe2Z\\xf4': 1.0} pi2P {u'm\\xe2Ze': 1.0} pi3P {u'm\\xe2Z': 1.0} ii1S {u'm\\xe2ZE': 1.0} ii2S {u'm\\xe2ZE': 1.0} ii3S {u'm\\xe2ZE': 1.0} ii1P m\u00e2Z6rj\u00f4\n",
        "pas de classe rj\u00f4-j\u00f4, 6rj\u00f4-j\u00f4\n",
        "0.50 par forme de sortie\n",
        "{u'm\\xe2Z6j\\xf4': 0.5, u'm\\xe2Zj\\xf4': 0.5} ii2P {u'm\\xe2Zje': 1.0} ii3P {u'm\\xe2ZE': 1.0} fi1S {u'm\\xe2Z6rE': 1.0} fi2S {u'm\\xe2Z6ra': 1.0} fi3S {u'm\\xe2Z6ra': 1.0} fi1P {u'm\\xe2Z6r\\xf4': 1.0} fi2P {u'm\\xe2Z6re': 1.0} fi3P {u'm\\xe2Z6r\\xf4': 1.0} pI2S {u'm\\xe2Z': 1.0} pI1P m\u00e2Z6rj\u00f4\n",
        "pas de classe 6rj\u00f4-\u00f4, rj\u00f4-\u00f4\n",
        "0.50 par forme de sortie\n",
        "{u'm\\xe2Z6\\xf4': 0.5, u'm\\xe2Z\\xf4': 0.5} pI2P {u'm\\xe2Ze': 1.0} ps1S {u'm\\xe2Z': 1.0} ps2S {u'm\\xe2Z': 1.0} ps3S {u'm\\xe2Z': 1.0} ps1P m\u00e2Z6rj\u00f4\n",
        "pas de classe rj\u00f4-j\u00f4, 6rj\u00f4-j\u00f4\n",
        "0.50 par forme de sortie\n",
        "{u'm\\xe2Z6j\\xf4': 0.5, u'm\\xe2Zj\\xf4': 0.5} ps2P {u'm\\xe2Zje': 1.0} ps3P {u'm\\xe2Z': 1.0} pc1S {u'm\\xe2Z6rE': 1.0} pc2S {u'm\\xe2Z6rE': 1.0} pc3S {u'm\\xe2Z6rE': 1.0} pc1P {u'm\\xe2Z6rj\\xf4': 1.0} pc2P {u'm\\xe2Z6rje': 1.0} pc3P {u'm\\xe2Z6rE': 1.0} pP {u'm\\xe2Z\\xe2': 1.0} ai1S {u'm\\xe2ZE': 1.0} ai2S {u'm\\xe2Za': 1.0} ai3S {u'm\\xe2Za': 1.0} ai1P {u'm\\xe2Zam': 1.0} ai2P {u'm\\xe2Zat': 1.0} ai3P {u'm\\xe2ZEr': 1.0} is1S {u'm\\xe2Zas': 1.0} is2S {u'm\\xe2Zas': 1.0} is3S {u'm\\xe2Za': 1.0} is1P {u'm\\xe2Zasj\\xf4': 1.0} is2P {u'm\\xe2Zasje': 1.0} is3P {u'm\\xe2Zas': 1.0}\n",
        "pc2P m\u00e2Z6rje\n",
        "inf {u'm\\xe2Ze': 1.0} pi1S {u'm\\xe2Z': 1.0} pi2S "
       ]
      },
      {
       "output_type": "stream",
       "stream": "stdout",
       "text": [
        "{u'm\\xe2Z': 1.0} pi3S {u'm\\xe2Z': 1.0} pi1P {u'm\\xe2Z\\xf4': 1.0} pi2P {u'm\\xe2Ze': 1.0} pi3P {u'm\\xe2Z': 1.0} ii1S {u'm\\xe2ZE': 1.0} ii2S {u'm\\xe2ZE': 1.0} ii3S {u'm\\xe2ZE': 1.0} ii1P {u'm\\xe2Zj\\xf4': 1.0} ii2P {u'm\\xe2Zje': 1.0} ii3P {u'm\\xe2ZE': 1.0} fi1S {u'm\\xe2Z6rE': 1.0} fi2S {u'm\\xe2Z6ra': 1.0} fi3S {u'm\\xe2Z6ra': 1.0} fi1P {u'm\\xe2Z6r\\xf4': 1.0} fi2P {u'm\\xe2Z6re': 1.0} fi3P {u'm\\xe2Z6r\\xf4': 1.0} pI2S {u'm\\xe2Z': 1.0} pI1P {u'm\\xe2Z\\xf4': 1.0} pI2P {u'm\\xe2Ze': 1.0} ps1S {u'm\\xe2Z': 1.0} ps2S {u'm\\xe2Z': 1.0} ps3S {u'm\\xe2Z': 1.0} ps1P {u'm\\xe2Zj\\xf4': 1.0} ps2P {u'm\\xe2Zje': 1.0} ps3P {u'm\\xe2Z': 1.0} pc1S {u'm\\xe2Z6rE': 1.0} pc2S {u'm\\xe2Z6rE': 1.0} pc3S {u'm\\xe2Z6rE': 1.0} pc1P {u'm\\xe2Z6rj\\xf4': 1.0} pc2P {u'm\\xe2Z6rje': 1.0} pc3P {u'm\\xe2Z6rE': 1.0} pP {u'm\\xe2Z\\xe2': 1.0} ai1S {u'm\\xe2ZE': 1.0} ai2S {u'm\\xe2Za': 1.0} ai3S {u'm\\xe2Za': 1.0} ai1P {u'm\\xe2Zam': 1.0} ai2P {u'm\\xe2Zat': 1.0} ai3P {u'm\\xe2ZEr': 1.0} is1S {u'm\\xe2Zas': 1.0} is2S {u'm\\xe2Zas': 1.0} is3S {u'm\\xe2Za': 1.0} is1P {u'm\\xe2Zasj\\xf4': 1.0} is2P {u'm\\xe2Zasje': 1.0} is3P {u'm\\xe2Zas': 1.0}\n",
        "pc3P m\u00e2Z6rE\n",
        "inf m\u00e2Z6rE\n",
        "pas de classe E-, rE-e, 6rE-e\n",
        "0.33 par forme de sortie\n",
        "{u'm\\xe2Z6e': 0.3333333333333333, u'm\\xe2Z6r': 0.3333333333333333, u'm\\xe2Ze': 0.3333333333333333} pi1S {u'm\\xe2Z': 1.0} pi2S {u'm\\xe2Z': 1.0} pi3S {u'm\\xe2Z': 1.0} pi1P {u'm\\xe2Z\\xf4': 1.0} pi2P {u'm\\xe2Ze': 1.0} pi3P m\u00e2Z6rE\n",
        "pas de classe rE-, 6rE-\n",
        "0.50 par forme de sortie\n",
        "{u'm\\xe2Z6': 0.5, u'm\\xe2Z': 0.5} ii1S {u'm\\xe2ZE': 1.0} ii2S {u'm\\xe2ZE': 1.0} ii3S {u'm\\xe2ZE': 1.0} ii1P {u'm\\xe2Zj\\xf4': 1.0} ii2P {u'm\\xe2Zje': 1.0} ii3P {u'm\\xe2ZE': 1.0} fi1S {u'm\\xe2Z6rE': 1.0} fi2S {u'm\\xe2Z6ra': 1.0} fi3S {u'm\\xe2Z6ra': 1.0} fi1P {u'm\\xe2Z6r\\xf4': 1.0} fi2P {u'm\\xe2Z6re': 1.0} fi3P {u'm\\xe2Z6r\\xf4': 1.0} pI2S {u'm\\xe2Z': 1.0} pI1P {u'm\\xe2Z\\xf4': 1.0} pI2P {u'm\\xe2Ze': 1.0} ps1S m\u00e2Z6rE\n",
        "pas de classe rE-, 6rE-\n",
        "0.50 par forme de sortie\n",
        "{u'm\\xe2Z6': 0.5, u'm\\xe2Z': 0.5} ps2S m\u00e2Z6rE\n",
        "pas de classe rE-, 6rE-\n",
        "0.50 par forme de sortie\n",
        "{u'm\\xe2Z6': 0.5, u'm\\xe2Z': 0.5} ps3S m\u00e2Z6rE\n",
        "pas de classe rE-, 6rE-\n",
        "0.50 par forme de sortie\n",
        "{u'm\\xe2Z6': 0.5, u'm\\xe2Z': 0.5} ps1P {u'm\\xe2Zj\\xf4': 1.0} ps2P {u'm\\xe2Zje': 1.0} ps3P m\u00e2Z6rE\n",
        "pas de classe rE-, 6rE-\n",
        "0.50 par forme de sortie\n",
        "{u'm\\xe2Z6': 0.5, u'm\\xe2Z': 0.5} pc1S {u'm\\xe2Z6rE': 1.0} pc2S {u'm\\xe2Z6rE': 1.0} pc3S {u'm\\xe2Z6rE': 1.0} pc1P {u'm\\xe2Z6rj\\xf4': 1.0} pc2P {u'm\\xe2Z6rje': 1.0} pc3P {u'm\\xe2Z6rE': 1.0} pP {u'm\\xe2Z\\xe2': 1.0} ai1S {u'm\\xe2ZE': 1.0} ai2S {u'm\\xe2Za': 1.0} ai3S {u'm\\xe2Za': 1.0} ai1P {u'm\\xe2Zam': 1.0} ai2P {u'm\\xe2Zat': 1.0} ai3P {u'm\\xe2ZEr': 1.0} is1S {u'm\\xe2Zas': 1.0} is2S {u'm\\xe2Zas': 1.0} is3S {u'm\\xe2Za': 1.0} is1P {u'm\\xe2Zasj\\xf4': 1.0} is2P {u'm\\xe2Zasje': 1.0} is3P {u'm\\xe2Zas': 1.0}\n",
        "pP m\u00e2Z\u00e2\n",
        "inf {u'm\\xe2Zr': 0.0327313769751693, u'm\\xe2Zir': 0.01617757712565839, u'm\\xe2Ze': 0.9510910458991723} pi1S {u'm\\xe2Z': 1.0} pi2S {u'm\\xe2Z': 1.0} pi3S {u'm\\xe2Z': 1.0} pi1P {u'm\\xe2Z\\xf4': 1.0} pi2P {u'm\\xe2Ze': 1.0} pi3P {u'm\\xe2Z': 1.0} ii1S {u'm\\xe2ZE': 1.0} ii2S {u'm\\xe2ZE': 1.0} ii3S {u'm\\xe2ZE': 1.0} ii1P {u'm\\xe2Zj\\xf4': 1.0} ii2P {u'm\\xe2Zje': 1.0} ii3P {u'm\\xe2ZE': 1.0} fi1S {u'm\\xe2Z6rE': 0.9476584022038568, u'm\\xe2ZirE': 0.012199921290830381, u'm\\xe2ZrE': 0.04014167650531287} fi2S {u'm\\xe2Zra': 0.04014167650531287, u'm\\xe2Z6ra': 0.9476584022038568, u'm\\xe2Zira': 0.012199921290830381} fi3S {u'm\\xe2Zra': 0.04042386185243328, u'm\\xe2Z6ra': 0.9474097331240189, u'm\\xe2Zira': 0.01216640502354788} fi1P {u'm\\xe2Z6r\\xf4': 0.9476584022038568, u'm\\xe2Zir\\xf4': 0.012199921290830381, u'm\\xe2Zr\\xf4': 0.04014167650531287} fi2P {u'm\\xe2Z6re': 0.9476584022038568, u'm\\xe2Zire': 0.012199921290830381, u'm\\xe2Zre': 0.04014167650531287} fi3P {u'm\\xe2Z6r\\xf4': 0.9473477406679764, u'm\\xe2Zir\\xf4': 0.01218074656188605, u'm\\xe2Zr\\xf4': 0.040471512770137524} pI2S "
       ]
      },
      {
       "output_type": "stream",
       "stream": "stdout",
       "text": [
        "{u'm\\xe2Z': 1.0} pI1P {u'm\\xe2Z\\xf4': 1.0} pI2P {u'm\\xe2Ze': 1.0} ps1S {u'm\\xe2Z': 1.0} ps2S {u'm\\xe2Z': 1.0} ps3S {u'm\\xe2Z': 1.0} ps1P {u'm\\xe2Zj\\xf4': 1.0} ps2P {u'm\\xe2Zje': 1.0} ps3P {u'm\\xe2Z': 1.0} pc1S {u'm\\xe2Z6rE': 0.9476584022038568, u'm\\xe2ZirE': 0.012199921290830381, u'm\\xe2ZrE': 0.04014167650531287} pc2S {u'm\\xe2Z6rE': 0.9476584022038568, u'm\\xe2ZirE': 0.012199921290830381, u'm\\xe2ZrE': 0.04014167650531287} pc3S {u'm\\xe2Z6rE': 0.9474097331240189, u'm\\xe2ZirE': 0.01216640502354788, u'm\\xe2ZrE': 0.04042386185243328} pc1P m\u00e2Z\u00e2\n",
        "pas de classe \u00e2-ri\u00f4, \u00e2-irj\u00f4, \u00e2-6rj\u00f4\n",
        "0.33 par forme de sortie\n",
        "{u'm\\xe2Zri\\xf4': 0.3333333333333333, u'm\\xe2Z6rj\\xf4': 0.3333333333333333, u'm\\xe2Zirj\\xf4': 0.3333333333333333} pc2P {u'm\\xe2Zrie': 0.044647387113140535, u'm\\xe2Zirje': 0.0076103500761035, u'm\\xe2Z6rje': 0.9477422628107559} pc3P {u'm\\xe2Z6rE': 0.9473477406679764, u'm\\xe2ZirE': 0.01218074656188605, u'm\\xe2ZrE': 0.040471512770137524} pP {u'm\\xe2Z\\xe2': 1.0} ai1S {u'm\\xe2Zi': 0.03615872270486029, u'm\\xe2ZE': 0.9638412772951397} ai2S {u'm\\xe2Za': 0.9638412772951397, u'm\\xe2Zi': 0.03615872270486029} ai3S {u'm\\xe2Za': 0.9634403562221702, u'm\\xe2Zi': 0.03655964377782986} ai1P {u'm\\xe2Zam': 0.9638412772951397, u'm\\xe2Zim': 0.03615872270486029} ai2P {u'm\\xe2Zit': 0.03615872270486029, u'm\\xe2Zat': 0.9638412772951397} ai3P {u'm\\xe2ZEr': 0.9633974659784139, u'm\\xe2Zir': 0.03660253402158611} is1S {u'm\\xe2Zis': 0.043083372147182115, u'm\\xe2Zas': 0.9569166278528178} is2S {u'm\\xe2Zis': 0.043083372147182115, u'm\\xe2Zas': 0.9569166278528178} is3S {u'm\\xe2Za': 0.9565318456531846, u'm\\xe2Zi': 0.04346815434681543} is1P {u'm\\xe2Zasj\\xf4': 0.9569166278528178, u'm\\xe2Zisj\\xf4': 0.043083372147182115} is2P {u'm\\xe2Zasje': 0.9569166278528178, u'm\\xe2Zisje': 0.043083372147182115} is3P {u'm\\xe2Zis': 0.043518734000465444, u'm\\xe2Zas': 0.9564812659995345}\n",
        "ai1S m\u00e2ZE\n",
        "inf {u'm\\xe2Ze': 1.0} pi1S {u'm\\xe2Z': 1.0} pi2S {u'm\\xe2Z': 1.0} pi3S {u'm\\xe2Z': 1.0} pi1P {u'm\\xe2Z\\xf4': 1.0} pi2P {u'm\\xe2Ze': 1.0} pi3P {u'm\\xe2Z': 1.0} ii1S {u'm\\xe2ZE': 1.0} ii2S {u'm\\xe2ZE': 1.0} ii3S {u'm\\xe2ZE': 1.0} ii1P {u'm\\xe2Zj\\xf4': 1.0} ii2P {u'm\\xe2Zje': 1.0} ii3P {u'm\\xe2ZE': 1.0} fi1S {u'm\\xe2Z6rE': 1.0} fi2S {u'm\\xe2Z6ra': 1.0} fi3S {u'm\\xe2Z6ra': 1.0} fi1P {u'm\\xe2Z6r\\xf4': 1.0} fi2P {u'm\\xe2Z6re': 1.0} fi3P {u'm\\xe2Z6r\\xf4': 1.0} pI2S {u'm\\xe2Z': 1.0} pI1P {u'm\\xe2Z\\xf4': 1.0} pI2P {u'm\\xe2Ze': 1.0} ps1S {u'm\\xe2Z': 1.0} ps2S {u'm\\xe2Z': 1.0} ps3S {u'm\\xe2Z': 1.0} ps1P {u'm\\xe2Zj\\xf4': 1.0} ps2P {u'm\\xe2Zje': 1.0} ps3P {u'm\\xe2Z': 1.0} pc1S {u'm\\xe2Z6rE': 1.0} pc2S {u'm\\xe2Z6rE': 1.0} pc3S {u'm\\xe2Z6rE': 1.0} pc1P {u'm\\xe2Z6rj\\xf4': 1.0} pc2P {u'm\\xe2Z6rje': 1.0} pc3P {u'm\\xe2Z6rE': 1.0} pP {u'm\\xe2Z\\xe2': 1.0} ai1S {u'm\\xe2ZE': 1.0} ai2S m\u00e2ZE\n",
        "pas de classe E-a, -\n",
        "0.50 par forme de sortie\n",
        "{u'm\\xe2Za': 0.5, u'm\\xe2ZE': 0.5} ai3S m\u00e2ZE\n",
        "pas de classe E-a, -\n",
        "0.50 par forme de sortie\n",
        "{u'm\\xe2Za': 0.5, u'm\\xe2ZE': 0.5} ai1P {u'm\\xe2Zam': 1.0} ai2P {u'm\\xe2Zat': 1.0} ai3P {u'm\\xe2ZEr': 1.0} is1S {u'm\\xe2Zas': 1.0} is2S {u'm\\xe2Zas': 1.0} is3S m\u00e2ZE\n",
        "pas de classe E-a, -\n",
        "0.50 par forme de sortie\n",
        "{u'm\\xe2Za': 0.5, u'm\\xe2ZE': 0.5} is1P {u'm\\xe2Zasj\\xf4': 1.0} is2P {u'm\\xe2Zasje': 1.0} is3P {u'm\\xe2Zas': 1.0}\n",
        "ai2S m\u00e2Za\n",
        "inf {u'm\\xe2Ze': 1.0} pi1S {u'm\\xe2Z': 1.0} pi2S {u'm\\xe2Z': 1.0} pi3S {u'm\\xe2Z': 1.0} pi1P {u'm\\xe2Z\\xf4': 1.0} pi2P {u'm\\xe2Ze': 1.0} pi3P {u'm\\xe2Z': 1.0} ii1S {u'm\\xe2ZE': 1.0} ii2S {u'm\\xe2ZE': 1.0} ii3S {u'm\\xe2ZE': 1.0} ii1P {u'm\\xe2Zj\\xf4': 1.0} ii2P {u'm\\xe2Zje': 1.0} ii3P {u'm\\xe2ZE': 1.0} fi1S {u'm\\xe2Z6rE': 1.0} fi2S {u'm\\xe2Z6ra': 1.0} fi3S {u'm\\xe2Z6ra': 1.0} fi1P {u'm\\xe2Z6r\\xf4': 1.0} fi2P {u'm\\xe2Z6re': 1.0} fi3P {u'm\\xe2Z6r\\xf4': 1.0} pI2S {u'm\\xe2Z': 1.0} pI1P {u'm\\xe2Z\\xf4': 1.0} pI2P {u'm\\xe2Ze': 1.0} ps1S {u'm\\xe2Z': 1.0} ps2S {u'm\\xe2Z': 1.0} ps3S {u'm\\xe2Z': 1.0} ps1P {u'm\\xe2Zj\\xf4': 1.0} ps2P {u'm\\xe2Zje': 1.0} ps3P {u'm\\xe2Z': 1.0} pc1S {u'm\\xe2Z6rE': 1.0} pc2S {u'm\\xe2Z6rE': 1.0} pc3S {u'm\\xe2Z6rE': 1.0} pc1P {u'm\\xe2Z6rj\\xf4': 1.0} pc2P {u'm\\xe2Z6rje': 1.0} pc3P {u'm\\xe2Z6rE': 1.0} pP {u'm\\xe2Z\\xe2': 1.0} ai1S {u'm\\xe2ZE': 1.0} ai2S {u'm\\xe2Za': 1.0} ai3S {u'm\\xe2Za': 1.0} ai1P {u'm\\xe2Zam': 1.0} ai2P {u'm\\xe2Zat': 1.0} ai3P {u'm\\xe2ZEr': 1.0} is1S {u'm\\xe2Zas': 1.0} is2S {u'm\\xe2Zas': 1.0} is3S {u'm\\xe2Za': 1.0} is1P {u'm\\xe2Zasj\\xf4': 1.0} is2P {u'm\\xe2Zasje': 1.0} is3P {u'm\\xe2Zas': 1.0}\n",
        "ai3S"
       ]
      },
      {
       "output_type": "stream",
       "stream": "stdout",
       "text": [
        " m\u00e2Za\n",
        "inf {u'm\\xe2Ze': 1.0} pi1S {u'm\\xe2Z': 1.0} pi2S {u'm\\xe2Z': 1.0} pi3S {u'm\\xe2Z': 1.0} pi1P {u'm\\xe2Z\\xf4': 1.0} pi2P {u'm\\xe2Ze': 1.0} pi3P {u'm\\xe2Z': 1.0} ii1S {u'm\\xe2ZE': 1.0} ii2S {u'm\\xe2ZE': 1.0} ii3S {u'm\\xe2ZE': 1.0} ii1P {u'm\\xe2Zj\\xf4': 1.0} ii2P {u'm\\xe2Zje': 1.0} ii3P {u'm\\xe2ZE': 1.0} fi1S {u'm\\xe2Z6rE': 1.0} fi2S {u'm\\xe2Z6ra': 1.0} fi3S {u'm\\xe2Z6ra': 1.0} fi1P {u'm\\xe2Z6r\\xf4': 1.0} fi2P {u'm\\xe2Z6re': 1.0} fi3P {u'm\\xe2Z6r\\xf4': 1.0} pI2S {u'm\\xe2Z': 1.0} pI1P {u'm\\xe2Z\\xf4': 1.0} pI2P {u'm\\xe2Ze': 1.0} ps1S {u'm\\xe2Z': 1.0} ps2S {u'm\\xe2Z': 1.0} ps3S {u'm\\xe2Z': 1.0} ps1P {u'm\\xe2Zj\\xf4': 1.0} ps2P {u'm\\xe2Zje': 1.0} ps3P {u'm\\xe2Z': 1.0} pc1S {u'm\\xe2Z6rE': 1.0} pc2S {u'm\\xe2Z6rE': 1.0} pc3S {u'm\\xe2Z6rE': 1.0} pc1P {u'm\\xe2Z6rj\\xf4': 1.0} pc2P {u'm\\xe2Z6rje': 1.0} pc3P {u'm\\xe2Z6rE': 1.0} pP {u'm\\xe2Z\\xe2': 1.0} ai1S {u'm\\xe2ZE': 1.0} ai2S {u'm\\xe2Za': 1.0} ai3S {u'm\\xe2Za': 1.0} ai1P {u'm\\xe2Zam': 1.0} ai2P {u'm\\xe2Zat': 1.0} ai3P {u'm\\xe2ZEr': 1.0} is1S {u'm\\xe2Zas': 1.0} is2S {u'm\\xe2Zas': 1.0} is3S {u'm\\xe2Za': 1.0} is1P {u'm\\xe2Zasj\\xf4': 1.0} is2P {u'm\\xe2Zasje': 1.0} is3P {u'm\\xe2Zas': 1.0}\n",
        "ai1P m\u00e2Zam\n",
        "inf {u'm\\xe2Ze': 1.0} pi1S {u'm\\xe2Z': 1.0} pi2S {u'm\\xe2Z': 1.0} pi3S {u'm\\xe2Z': 1.0} pi1P {u'm\\xe2Z\\xf4': 1.0} pi2P {u'm\\xe2Ze': 1.0} pi3P {u'm\\xe2Z': 1.0} ii1S {u'm\\xe2ZE': 1.0} ii2S {u'm\\xe2ZE': 1.0} ii3S {u'm\\xe2ZE': 1.0} ii1P {u'm\\xe2Zj\\xf4': 1.0} ii2P {u'm\\xe2Zje': 1.0} ii3P {u'm\\xe2ZE': 1.0} fi1S {u'm\\xe2Z6rE': 1.0} fi2S {u'm\\xe2Z6ra': 1.0} fi3S {u'm\\xe2Z6ra': 1.0} fi1P {u'm\\xe2Z6r\\xf4': 1.0} fi2P {u'm\\xe2Z6re': 1.0} fi3P {u'm\\xe2Z6r\\xf4': 1.0} pI2S {u'm\\xe2Z': 1.0} pI1P {u'm\\xe2Z\\xf4': 1.0} pI2P {u'm\\xe2Ze': 1.0} ps1S {u'm\\xe2Z': 1.0} ps2S {u'm\\xe2Z': 1.0} ps3S {u'm\\xe2Z': 1.0} ps1P {u'm\\xe2Zj\\xf4': 1.0} ps2P {u'm\\xe2Zje': 1.0} ps3P {u'm\\xe2Z': 1.0} pc1S {u'm\\xe2Z6rE': 1.0} pc2S {u'm\\xe2Z6rE': 1.0} pc3S {u'm\\xe2Z6rE': 1.0} pc1P {u'm\\xe2Z6rj\\xf4': 1.0} pc2P {u'm\\xe2Z6rje': 1.0} pc3P {u'm\\xe2Z6rE': 1.0} pP {u'm\\xe2Z\\xe2': 1.0} ai1S {u'm\\xe2ZE': 1.0} ai2S {u'm\\xe2Za': 1.0} ai3S {u'm\\xe2Za': 1.0} ai1P {u'm\\xe2Zam': 1.0} ai2P {u'm\\xe2Zat': 1.0} ai3P {u'm\\xe2ZEr': 1.0} is1S {u'm\\xe2Zas': 1.0} is2S {u'm\\xe2Zas': 1.0} is3S {u'm\\xe2Za': 1.0} is1P {u'm\\xe2Zasj\\xf4': 1.0} is2P {u'm\\xe2Zasje': 1.0} is3P {u'm\\xe2Zas': 1.0}\n",
        "ai2P m\u00e2Zat\n",
        "inf {u'm\\xe2Ze': 1.0} pi1S "
       ]
      },
      {
       "output_type": "stream",
       "stream": "stdout",
       "text": [
        "{u'm\\xe2Z': 1.0} pi2S {u'm\\xe2Z': 1.0} pi3S {u'm\\xe2Z': 1.0} pi1P {u'm\\xe2Z\\xf4': 1.0} pi2P {u'm\\xe2Ze': 1.0} pi3P {u'm\\xe2Z': 1.0} ii1S {u'm\\xe2ZE': 1.0} ii2S {u'm\\xe2ZE': 1.0} ii3S {u'm\\xe2ZE': 1.0} ii1P {u'm\\xe2Zj\\xf4': 1.0} ii2P {u'm\\xe2Zje': 1.0} ii3P {u'm\\xe2ZE': 1.0} fi1S {u'm\\xe2Z6rE': 1.0} fi2S {u'm\\xe2Z6ra': 1.0} fi3S {u'm\\xe2Z6ra': 1.0} fi1P {u'm\\xe2Z6r\\xf4': 1.0} fi2P {u'm\\xe2Z6re': 1.0} fi3P {u'm\\xe2Z6r\\xf4': 1.0} pI2S {u'm\\xe2Z': 1.0} pI1P {u'm\\xe2Z\\xf4': 1.0} pI2P {u'm\\xe2Ze': 1.0} ps1S {u'm\\xe2Z': 1.0} ps2S {u'm\\xe2Z': 1.0} ps3S {u'm\\xe2Z': 1.0} ps1P {u'm\\xe2Zj\\xf4': 1.0} ps2P {u'm\\xe2Zje': 1.0} ps3P {u'm\\xe2Z': 1.0} pc1S {u'm\\xe2Z6rE': 1.0} pc2S {u'm\\xe2Z6rE': 1.0} pc3S {u'm\\xe2Z6rE': 1.0} pc1P {u'm\\xe2Z6rj\\xf4': 1.0} pc2P {u'm\\xe2Z6rje': 1.0} pc3P {u'm\\xe2Z6rE': 1.0} pP {u'm\\xe2Z\\xe2': 1.0} ai1S {u'm\\xe2ZE': 1.0} ai2S {u'm\\xe2Za': 1.0} ai3S {u'm\\xe2Za': 1.0} ai1P {u'm\\xe2Zam': 1.0} ai2P {u'm\\xe2Zat': 1.0} ai3P {u'm\\xe2ZEr': 1.0} is1S {u'm\\xe2Zas': 1.0} is2S {u'm\\xe2Zas': 1.0} is3S {u'm\\xe2Za': 1.0} is1P {u'm\\xe2Zasj\\xf4': 1.0} is2P {u'm\\xe2Zasje': 1.0} is3P {u'm\\xe2Zas': 1.0}\n",
        "ai3P m\u00e2ZEr\n",
        "inf {u'm\\xe2Ze': 1.0} pi1S {u'm\\xe2Z': 1.0} pi2S {u'm\\xe2Z': 1.0} pi3S {u'm\\xe2Z': 1.0} pi1P {u'm\\xe2Z\\xf4': 1.0} pi2P {u'm\\xe2Ze': 1.0} pi3P {u'm\\xe2Z': 1.0} ii1S {u'm\\xe2ZE': 1.0} ii2S {u'm\\xe2ZE': 1.0} ii3S {u'm\\xe2ZE': 1.0} ii1P {u'm\\xe2Zj\\xf4': 1.0} ii2P {u'm\\xe2Zje': 1.0} ii3P {u'm\\xe2ZE': 1.0} fi1S {u'm\\xe2Z6rE': 1.0} fi2S {u'm\\xe2Z6ra': 1.0} fi3S {u'm\\xe2Z6ra': 1.0} fi1P {u'm\\xe2Z6r\\xf4': 1.0} fi2P {u'm\\xe2Z6re': 1.0} fi3P {u'm\\xe2Z6r\\xf4': 1.0} pI2S {u'm\\xe2Z': 1.0} pI1P {u'm\\xe2Z\\xf4': 1.0} pI2P {u'm\\xe2Ze': 1.0} ps1S {u'm\\xe2Z': 1.0} ps2S {u'm\\xe2Z': 1.0} ps3S {u'm\\xe2Z': 1.0} ps1P {u'm\\xe2Zj\\xf4': 1.0} ps2P {u'm\\xe2Zje': 1.0} ps3P {u'm\\xe2Z': 1.0} pc1S {u'm\\xe2Z6rE': 1.0} pc2S {u'm\\xe2Z6rE': 1.0} pc3S {u'm\\xe2Z6rE': 1.0} pc1P {u'm\\xe2Z6rj\\xf4': 1.0} pc2P {u'm\\xe2Z6rje': 1.0} pc3P {u'm\\xe2Z6rE': 1.0} pP {u'm\\xe2Z\\xe2': 1.0} ai1S {u'm\\xe2ZE': 1.0} ai2S {u'm\\xe2Za': 1.0} ai3S {u'm\\xe2Za': 1.0} ai1P {u'm\\xe2Zam': 1.0} ai2P {u'm\\xe2Zat': 1.0} ai3P {u'm\\xe2ZEr': 1.0} is1S {u'm\\xe2Zas': 1.0} is2S {u'm\\xe2Zas': 1.0} is3S {u'm\\xe2Za': 1.0} is1P {u'm\\xe2Zasj\\xf4': 1.0} is2P {u'm\\xe2Zasje': 1.0} is3P {u'm\\xe2Zas': 1.0}\n",
        "is1S m\u00e2Zas\n",
        "inf {u'm\\xe2Ze': 1.0} pi1S {u'm\\xe2Z': 1.0} pi2S {u'm\\xe2Z': 1.0} pi3S {u'm\\xe2Z': 1.0} pi1P {u'm\\xe2Z\\xf4': 1.0} pi2P {u'm\\xe2Ze': 1.0} pi3P {u'm\\xe2Z': 1.0} ii1S {u'm\\xe2ZE': 1.0} ii2S {u'm\\xe2ZE': 1.0} ii3S "
       ]
      },
      {
       "output_type": "stream",
       "stream": "stdout",
       "text": [
        "{u'm\\xe2ZE': 1.0} ii1P {u'm\\xe2Zj\\xf4': 1.0} ii2P {u'm\\xe2Zje': 1.0} ii3P {u'm\\xe2ZE': 1.0} fi1S {u'm\\xe2Z6rE': 1.0} fi2S {u'm\\xe2Z6ra': 1.0} fi3S {u'm\\xe2Z6ra': 1.0} fi1P {u'm\\xe2Z6r\\xf4': 1.0} fi2P {u'm\\xe2Z6re': 1.0} fi3P {u'm\\xe2Z6r\\xf4': 1.0} pI2S {u'm\\xe2Z': 1.0} pI1P {u'm\\xe2Z\\xf4': 1.0} pI2P {u'm\\xe2Ze': 1.0} ps1S {u'm\\xe2Z': 1.0} ps2S {u'm\\xe2Z': 1.0} ps3S {u'm\\xe2Z': 1.0} ps1P {u'm\\xe2Zj\\xf4': 1.0} ps2P {u'm\\xe2Zje': 1.0} ps3P {u'm\\xe2Z': 1.0} pc1S {u'm\\xe2Z6rE': 1.0} pc2S {u'm\\xe2Z6rE': 1.0} pc3S {u'm\\xe2Z6rE': 1.0} pc1P {u'm\\xe2Z6rj\\xf4': 1.0} pc2P {u'm\\xe2Z6rje': 1.0} pc3P {u'm\\xe2Z6rE': 1.0} pP {u'm\\xe2Z\\xe2': 1.0} ai1S {u'm\\xe2ZE': 1.0} ai2S {u'm\\xe2Za': 1.0} ai3S {u'm\\xe2Za': 1.0} ai1P {u'm\\xe2Zam': 1.0} ai2P {u'm\\xe2Zat': 1.0} ai3P {u'm\\xe2ZEr': 1.0} is1S {u'm\\xe2Zas': 1.0} is2S {u'm\\xe2Zas': 1.0} is3S {u'm\\xe2Za': 1.0} is1P {u'm\\xe2Zasj\\xf4': 1.0} is2P {u'm\\xe2Zasje': 1.0} is3P {u'm\\xe2Zas': 1.0}\n",
        "is2S m\u00e2Zas\n",
        "inf {u'm\\xe2Ze': 1.0} pi1S {u'm\\xe2Z': 1.0} pi2S {u'm\\xe2Z': 1.0} pi3S {u'm\\xe2Z': 1.0} pi1P {u'm\\xe2Z\\xf4': 1.0} pi2P {u'm\\xe2Ze': 1.0} pi3P {u'm\\xe2Z': 1.0} ii1S {u'm\\xe2ZE': 1.0} ii2S {u'm\\xe2ZE': 1.0} ii3S {u'm\\xe2ZE': 1.0} ii1P {u'm\\xe2Zj\\xf4': 1.0} ii2P {u'm\\xe2Zje': 1.0} ii3P {u'm\\xe2ZE': 1.0} fi1S {u'm\\xe2Z6rE': 1.0} fi2S {u'm\\xe2Z6ra': 1.0} fi3S {u'm\\xe2Z6ra': 1.0} fi1P {u'm\\xe2Z6r\\xf4': 1.0} fi2P {u'm\\xe2Z6re': 1.0} fi3P {u'm\\xe2Z6r\\xf4': 1.0} pI2S {u'm\\xe2Z': 1.0} pI1P {u'm\\xe2Z\\xf4': 1.0} pI2P {u'm\\xe2Ze': 1.0} ps1S {u'm\\xe2Z': 1.0} ps2S {u'm\\xe2Z': 1.0} ps3S {u'm\\xe2Z': 1.0} ps1P {u'm\\xe2Zj\\xf4': 1.0} ps2P {u'm\\xe2Zje': 1.0} ps3P {u'm\\xe2Z': 1.0} pc1S {u'm\\xe2Z6rE': 1.0} pc2S {u'm\\xe2Z6rE': 1.0} pc3S {u'm\\xe2Z6rE': 1.0} pc1P {u'm\\xe2Z6rj\\xf4': 1.0} pc2P {u'm\\xe2Z6rje': 1.0} pc3P {u'm\\xe2Z6rE': 1.0} pP {u'm\\xe2Z\\xe2': 1.0} ai1S {u'm\\xe2ZE': 1.0} ai2S {u'm\\xe2Za': 1.0} ai3S {u'm\\xe2Za': 1.0} ai1P {u'm\\xe2Zam': 1.0} ai2P {u'm\\xe2Zat': 1.0} ai3P {u'm\\xe2ZEr': 1.0} is1S {u'm\\xe2Zas': 1.0} is2S {u'm\\xe2Zas': 1.0} is3S {u'm\\xe2Za': 1.0} is1P {u'm\\xe2Zasj\\xf4': 1.0} is2P {u'm\\xe2Zasje': 1.0} is3P {u'm\\xe2Zas': 1.0}\n",
        "is3S m\u00e2Za\n",
        "inf {u'm\\xe2Ze': 1.0} pi1S {u'm\\xe2Z': 1.0} pi2S {u'm\\xe2Z': 1.0} pi3S {u'm\\xe2Z': 1.0} pi1P {u'm\\xe2Z\\xf4': 1.0} pi2P {u'm\\xe2Ze': 1.0} pi3P {u'm\\xe2Z': 1.0} ii1S {u'm\\xe2ZE': 1.0} ii2S {u'm\\xe2ZE': 1.0} ii3S {u'm\\xe2ZE': 1.0} ii1P {u'm\\xe2Zj\\xf4': 1.0} ii2P {u'm\\xe2Zje': 1.0} ii3P {u'm\\xe2ZE': 1.0} fi1S {u'm\\xe2Z6rE': 1.0} fi2S "
       ]
      },
      {
       "output_type": "stream",
       "stream": "stdout",
       "text": [
        "{u'm\\xe2Z6ra': 1.0} fi3S {u'm\\xe2Z6ra': 1.0} fi1P {u'm\\xe2Z6r\\xf4': 1.0} fi2P {u'm\\xe2Z6re': 1.0} fi3P {u'm\\xe2Z6r\\xf4': 1.0} pI2S {u'm\\xe2Z': 1.0} pI1P {u'm\\xe2Z\\xf4': 1.0} pI2P {u'm\\xe2Ze': 1.0} ps1S {u'm\\xe2Z': 1.0} ps2S {u'm\\xe2Z': 1.0} ps3S {u'm\\xe2Z': 1.0} ps1P {u'm\\xe2Zj\\xf4': 1.0} ps2P {u'm\\xe2Zje': 1.0} ps3P {u'm\\xe2Z': 1.0} pc1S {u'm\\xe2Z6rE': 1.0} pc2S {u'm\\xe2Z6rE': 1.0} pc3S {u'm\\xe2Z6rE': 1.0} pc1P {u'm\\xe2Z6rj\\xf4': 1.0} pc2P {u'm\\xe2Z6rje': 1.0} pc3P {u'm\\xe2Z6rE': 1.0} pP {u'm\\xe2Z\\xe2': 1.0} ai1S {u'm\\xe2ZE': 1.0} ai2S {u'm\\xe2Za': 1.0} ai3S {u'm\\xe2Za': 1.0} ai1P {u'm\\xe2Zam': 1.0} ai2P {u'm\\xe2Zat': 1.0} ai3P {u'm\\xe2ZEr': 1.0} is1S {u'm\\xe2Zas': 1.0} is2S {u'm\\xe2Zas': 1.0} is3S {u'm\\xe2Za': 1.0} is1P {u'm\\xe2Zasj\\xf4': 1.0} is2P {u'm\\xe2Zasje': 1.0} is3P {u'm\\xe2Zas': 1.0}\n",
        "is1P m\u00e2Zasj\u00f4\n",
        "inf {u'm\\xe2Ze': 1.0} pi1S {u'm\\xe2Z': 1.0} pi2S {u'm\\xe2Z': 1.0} pi3S {u'm\\xe2Z': 1.0} pi1P {u'm\\xe2Z\\xf4': 1.0} pi2P {u'm\\xe2Ze': 1.0} pi3P {u'm\\xe2Z': 1.0} ii1S {u'm\\xe2ZE': 1.0} ii2S {u'm\\xe2ZE': 1.0} ii3S {u'm\\xe2ZE': 1.0} ii1P {u'm\\xe2Zj\\xf4': 1.0} ii2P {u'm\\xe2Zje': 1.0} ii3P {u'm\\xe2ZE': 1.0} fi1S {u'm\\xe2Z6rE': 1.0} fi2S {u'm\\xe2Z6ra': 1.0} fi3S {u'm\\xe2Z6ra': 1.0} fi1P {u'm\\xe2Z6r\\xf4': 1.0} fi2P {u'm\\xe2Z6re': 1.0} fi3P {u'm\\xe2Z6r\\xf4': 1.0} pI2S {u'm\\xe2Z': 1.0} pI1P {u'm\\xe2Z\\xf4': 1.0} pI2P {u'm\\xe2Ze': 1.0} ps1S {u'm\\xe2Z': 1.0} ps2S {u'm\\xe2Z': 1.0} ps3S {u'm\\xe2Z': 1.0} ps1P {u'm\\xe2Zj\\xf4': 1.0} ps2P {u'm\\xe2Zje': 1.0} ps3P {u'm\\xe2Z': 1.0} pc1S {u'm\\xe2Z6rE': 1.0} pc2S {u'm\\xe2Z6rE': 1.0} pc3S {u'm\\xe2Z6rE': 1.0} pc1P {u'm\\xe2Z6rj\\xf4': 1.0} pc2P {u'm\\xe2Z6rje': 1.0} pc3P {u'm\\xe2Z6rE': 1.0} pP {u'm\\xe2Z\\xe2': 1.0} ai1S {u'm\\xe2ZE': 1.0} ai2S {u'm\\xe2Za': 1.0} ai3S {u'm\\xe2Za': 1.0} ai1P {u'm\\xe2Zam': 1.0} ai2P {u'm\\xe2Zat': 1.0} ai3P {u'm\\xe2ZEr': 1.0} is1S {u'm\\xe2Zas': 1.0} is2S {u'm\\xe2Zas': 1.0} is3S {u'm\\xe2Za': 1.0} is1P {u'm\\xe2Zasj\\xf4': 1.0} is2P {u'm\\xe2Zasje': 1.0} is3P {u'm\\xe2Zas': 1.0}\n",
        "is2P m\u00e2Zasje\n",
        "inf {u'm\\xe2Ze': 1.0} pi1S {u'm\\xe2Z': 1.0} pi2S {u'm\\xe2Z': 1.0} pi3S {u'm\\xe2Z': 1.0} pi1P {u'm\\xe2Z\\xf4': 1.0} pi2P {u'm\\xe2Ze': 1.0} pi3P {u'm\\xe2Z': 1.0} ii1S {u'm\\xe2ZE': 1.0} ii2S {u'm\\xe2ZE': 1.0} ii3S {u'm\\xe2ZE': 1.0} ii1P {u'm\\xe2Zj\\xf4': 1.0} ii2P {u'm\\xe2Zje': 1.0} ii3P {u'm\\xe2ZE': 1.0} fi1S {u'm\\xe2Z6rE': 1.0} fi2S {u'm\\xe2Z6ra': 1.0} fi3S {u'm\\xe2Z6ra': 1.0} fi1P {u'm\\xe2Z6r\\xf4': 1.0} fi2P {u'm\\xe2Z6re': 1.0} fi3P {u'm\\xe2Z6r\\xf4': 1.0} pI2S "
       ]
      },
      {
       "output_type": "stream",
       "stream": "stdout",
       "text": [
        "{u'm\\xe2Z': 1.0} pI1P {u'm\\xe2Z\\xf4': 1.0} pI2P {u'm\\xe2Ze': 1.0} ps1S {u'm\\xe2Z': 1.0} ps2S {u'm\\xe2Z': 1.0} ps3S {u'm\\xe2Z': 1.0} ps1P {u'm\\xe2Zj\\xf4': 1.0} ps2P {u'm\\xe2Zje': 1.0} ps3P {u'm\\xe2Z': 1.0} pc1S {u'm\\xe2Z6rE': 1.0} pc2S {u'm\\xe2Z6rE': 1.0} pc3S {u'm\\xe2Z6rE': 1.0} pc1P {u'm\\xe2Z6rj\\xf4': 1.0} pc2P {u'm\\xe2Z6rje': 1.0} pc3P {u'm\\xe2Z6rE': 1.0} pP {u'm\\xe2Z\\xe2': 1.0} ai1S {u'm\\xe2ZE': 1.0} ai2S {u'm\\xe2Za': 1.0} ai3S {u'm\\xe2Za': 1.0} ai1P {u'm\\xe2Zam': 1.0} ai2P {u'm\\xe2Zat': 1.0} ai3P {u'm\\xe2ZEr': 1.0} is1S {u'm\\xe2Zas': 1.0} is2S {u'm\\xe2Zas': 1.0} is3S {u'm\\xe2Za': 1.0} is1P {u'm\\xe2Zasj\\xf4': 1.0} is2P {u'm\\xe2Zasje': 1.0} is3P {u'm\\xe2Zas': 1.0}\n",
        "is3P m\u00e2Zas\n",
        "inf {u'm\\xe2Ze': 1.0} pi1S {u'm\\xe2Z': 1.0} pi2S {u'm\\xe2Z': 1.0} pi3S {u'm\\xe2Z': 1.0} pi1P {u'm\\xe2Z\\xf4': 1.0} pi2P {u'm\\xe2Ze': 1.0} pi3P {u'm\\xe2Z': 1.0} ii1S {u'm\\xe2ZE': 1.0} ii2S {u'm\\xe2ZE': 1.0} ii3S {u'm\\xe2ZE': 1.0} ii1P {u'm\\xe2Zj\\xf4': 1.0} ii2P {u'm\\xe2Zje': 1.0} ii3P {u'm\\xe2ZE': 1.0} fi1S {u'm\\xe2Z6rE': 1.0} fi2S {u'm\\xe2Z6ra': 1.0} fi3S {u'm\\xe2Z6ra': 1.0} fi1P {u'm\\xe2Z6r\\xf4': 1.0} fi2P {u'm\\xe2Z6re': 1.0} fi3P {u'm\\xe2Z6r\\xf4': 1.0} pI2S {u'm\\xe2Z': 1.0} pI1P {u'm\\xe2Z\\xf4': 1.0} pI2P {u'm\\xe2Ze': 1.0} ps1S {u'm\\xe2Z': 1.0} ps2S {u'm\\xe2Z': 1.0} ps3S {u'm\\xe2Z': 1.0} ps1P {u'm\\xe2Zj\\xf4': 1.0} ps2P {u'm\\xe2Zje': 1.0} ps3P {u'm\\xe2Z': 1.0} pc1S {u'm\\xe2Z6rE': 1.0} pc2S {u'm\\xe2Z6rE': 1.0} pc3S {u'm\\xe2Z6rE': 1.0} pc1P {u'm\\xe2Z6rj\\xf4': 1.0} pc2P {u'm\\xe2Z6rje': 1.0} pc3P {u'm\\xe2Z6rE': 1.0} pP {u'm\\xe2Z\\xe2': 1.0} ai1S {u'm\\xe2ZE': 1.0} ai2S {u'm\\xe2Za': 1.0} ai3S {u'm\\xe2Za': 1.0} ai1P {u'm\\xe2Zam': 1.0} ai2P {u'm\\xe2Zat': 1.0} ai3P {u'm\\xe2ZEr': 1.0} is1S {u'm\\xe2Zas': 1.0} is2S {u'm\\xe2Zas': 1.0} is3S {u'm\\xe2Za': 1.0} is1P {u'm\\xe2Zasj\\xf4': 1.0} is2P {u'm\\xe2Zasje': 1.0} is3P {u'm\\xe2Zas': 1.0}\n",
        "CPU times: user 946 ms, sys: 9.26 ms, total: 955 ms\n",
        "Wall time: 950 ms\n"
       ]
      }
     ],
     "prompt_number": 73
    }
   ],
   "metadata": {}
  }
 ]
}