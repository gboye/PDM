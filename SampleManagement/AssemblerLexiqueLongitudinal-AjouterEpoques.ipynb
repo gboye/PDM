{
 "cells": [
  {
   "cell_type": "markdown",
   "metadata": {},
   "source": [
    "Ajouter un fichier Composition pour noter les échantillons utilisés"
   ]
  },
  {
   "cell_type": "code",
   "execution_count": 11,
   "metadata": {
    "collapsed": true
   },
   "outputs": [],
   "source": [
    "import pandas as pd\n",
    "import random as rd\n",
    "import datetime as dt\n",
    "import pickle,glob,re,yaml"
   ]
  },
  {
   "cell_type": "code",
   "execution_count": 12,
   "metadata": {
    "collapsed": true
   },
   "outputs": [],
   "source": [
    "cumule=True\n",
    "dateStamp=\"{:%y%m%d-%H%M}\".format(dt.datetime.now())\n",
    "#repNom=\"/Users/gilles/Box Sync/2015-Data/Samples/Adjectifs/\"\n",
    "repNom=\"/Volumes/gilles/Transfert/Copies-iMac-GB/2015-Data/Samples/Verbes3/180107/\"\n",
    "#repNomSortie=\"/Users/gilles/Box Sync/2015-Data/FlexionAdjectifs/\"\n",
    "repNomSortie=\"/Volumes/gilles/Transfert/Copies-iMac-GB/2015-Data/Longitudinales/\""
   ]
  },
  {
   "cell_type": "code",
   "execution_count": 13,
   "metadata": {
    "collapsed": true
   },
   "outputs": [],
   "source": [
    "with open(repNomSortie+\"Longitudinal-Composition.yaml\", 'r') as input:\n",
    "    composition = yaml.load(input)\n",
    "    "
   ]
  },
  {
   "cell_type": "code",
   "execution_count": 14,
   "metadata": {},
   "outputs": [
    {
     "data": {
      "text/plain": [
       "{'samples': {0: 'MGC-10Ko-36-T10000-F3663-Tirage.pkl',\n",
       "  1: 'MGC-10Ko-16-T10000-F3627-Tirage.pkl',\n",
       "  2: 'MGC-10Ko-49-T10000-F3614-Tirage.pkl',\n",
       "  3: 'MGC-10Ko-14-T10000-F3592-Tirage.pkl',\n",
       "  4: 'MGC-10Ko-09-T10000-F3598-Tirage.pkl',\n",
       "  5: 'MGC-10Ko-29-T10000-F3701-Tirage.pkl',\n",
       "  6: 'MGC-10Ko-28-T10000-F3590-Tirage.pkl',\n",
       "  7: 'MGC-10Ko-40-T10000-F3672-Tirage.pkl',\n",
       "  8: 'MGC-10Ko-32-T10000-F3594-Tirage.pkl',\n",
       "  9: 'MGC-10Ko-37-T10000-F3644-Tirage.pkl',\n",
       "  10: 'MGC-10Ko-27-T10000-F3594-Tirage.pkl',\n",
       "  11: 'MGC-10Ko-42-T10000-F3557-Tirage.pkl',\n",
       "  12: 'MGC-10Ko-46-T10000-F3640-Tirage.pkl',\n",
       "  13: 'MGC-10Ko-17-T10000-F3613-Tirage.pkl',\n",
       "  14: 'MGC-10Ko-10-T10000-F3647-Tirage.pkl',\n",
       "  15: 'MGC-10Ko-08-T10000-F3612-Tirage.pkl',\n",
       "  16: 'MGC-10Ko-07-T10000-F3626-Tirage.pkl',\n",
       "  17: 'MGC-10Ko-34-T10000-F3633-Tirage.pkl',\n",
       "  18: 'MGC-10Ko-43-T10000-F3561-Tirage.pkl',\n",
       "  19: 'MGC-10Ko-21-T10000-F3619-Tirage.pkl',\n",
       "  20: 'MGC-10Ko-15-T10000-F3669-Tirage.pkl',\n",
       "  21: 'MGC-10Ko-18-T10000-F3664-Tirage.pkl',\n",
       "  22: 'MGC-10Ko-47-T10000-F3698-Tirage.pkl',\n",
       "  23: 'MGC-10Ko-11-T10000-F3558-Tirage.pkl',\n",
       "  24: 'MGC-10Ko-00-T10000-F3634-Tirage.pkl',\n",
       "  25: 'MGC-10Ko-31-T10000-F3712-Tirage.pkl',\n",
       "  26: 'MGC-10Ko-01-T10000-F3686-Tirage.pkl',\n",
       "  27: 'MGC-10Ko-39-T10000-F3659-Tirage.pkl',\n",
       "  28: 'MGC-10Ko-26-T10000-F3590-Tirage.pkl',\n",
       "  29: 'MGC-10Ko-06-T10000-F3649-Tirage.pkl',\n",
       "  30: 'MGC-10Ko-20-T10000-F3569-Tirage.pkl',\n",
       "  31: 'MGC-10Ko-12-T10000-F3636-Tirage.pkl',\n",
       "  32: 'MGC-10Ko-19-T10000-F3696-Tirage.pkl',\n",
       "  33: 'MGC-10Ko-33-T10000-F3629-Tirage.pkl',\n",
       "  34: 'MGC-10Ko-05-T10000-F3618-Tirage.pkl',\n",
       "  35: 'MGC-10Ko-41-T10000-F3659-Tirage.pkl',\n",
       "  36: 'MGC-10Ko-30-T10000-F3625-Tirage.pkl',\n",
       "  37: 'MGC-10Ko-22-T10000-F3644-Tirage.pkl',\n",
       "  38: 'MGC-10Ko-13-T10000-F3592-Tirage.pkl',\n",
       "  39: 'MGC-10Ko-04-T10000-F3676-Tirage.pkl',\n",
       "  40: 'MGC-10Ko-23-T10000-F3595-Tirage.pkl',\n",
       "  41: 'MGC-10Ko-48-T10000-F3602-Tirage.pkl',\n",
       "  42: 'MGC-10Ko-02-T10000-F3700-Tirage.pkl',\n",
       "  43: 'MGC-10Ko-25-T10000-F3618-Tirage.pkl',\n",
       "  44: 'MGC-10Ko-35-T10000-F3742-Tirage.pkl',\n",
       "  45: 'MGC-10Ko-38-T10000-F3614-Tirage.pkl',\n",
       "  46: 'MGC-10Ko-03-T10000-F3606-Tirage.pkl',\n",
       "  47: 'MGC-10Ko-44-T10000-F3531-Tirage.pkl',\n",
       "  48: 'MGC-10Ko-24-T10000-F3604-Tirage.pkl',\n",
       "  49: 'MGC-10Ko-45-T10000-F3652-Tirage.pkl',\n",
       "  50: 'MGC-100Ko-16-T100000-F14845-Tirage.pkl',\n",
       "  51: 'MGC-100Ko-26-T100000-F14857-Tirage.pkl',\n",
       "  52: 'MGC-100Ko-15-T100000-F14718-Tirage.pkl',\n",
       "  53: 'MGC-100Ko-29-T100000-F14954-Tirage.pkl',\n",
       "  54: 'MGC-100Ko-38-T100000-F14871-Tirage.pkl',\n",
       "  55: 'MGC-100Ko-05-T100000-F14872-Tirage.pkl',\n",
       "  56: 'MGC-100Ko-68-T100000-F14798-Tirage.pkl',\n",
       "  57: 'MGC-100Ko-56-T100000-F14888-Tirage.pkl',\n",
       "  58: 'MGC-100Ko-74-T100000-F14748-Tirage.pkl',\n",
       "  59: 'MGC-100Ko-58-T100000-F14783-Tirage.pkl',\n",
       "  60: 'MGC-100Ko-83-T100000-F14709-Tirage.pkl',\n",
       "  61: 'MGC-100Ko-65-T100000-F14860-Tirage.pkl',\n",
       "  62: 'MGC-100Ko-60-T100000-F14947-Tirage.pkl',\n",
       "  63: 'MGC-100Ko-51-T100000-F14789-Tirage.pkl',\n",
       "  64: 'MGC-100Ko-87-T100000-F14873-Tirage.pkl',\n",
       "  65: 'MGC-100Ko-92-T100000-F14847-Tirage.pkl',\n",
       "  66: 'MGC-100Ko-82-T100000-F14882-Tirage.pkl',\n",
       "  67: 'MGC-100Ko-94-T100000-F14907-Tirage.pkl',\n",
       "  68: 'MGC-100Ko-91-T100000-F14928-Tirage.pkl',\n",
       "  69: 'MGC-100Ko-89-T100000-F14838-Tirage.pkl',\n",
       "  70: 'MGC-100Ko-69-T100000-F14711-Tirage.pkl',\n",
       "  71: 'MGC-100Ko-97-T100000-F14953-Tirage.pkl',\n",
       "  72: 'MGC-100Ko-50-T100000-F14919-Tirage.pkl',\n",
       "  73: 'MGC-100Ko-86-T100000-F14995-Tirage.pkl',\n",
       "  74: 'MGC-100Ko-64-T100000-F14975-Tirage.pkl',\n",
       "  75: 'MGC-100Ko-70-T100000-F14864-Tirage.pkl',\n",
       "  76: 'MGC-100Ko-88-T100000-F14873-Tirage.pkl',\n",
       "  77: 'MGC-100Ko-96-T100000-F14782-Tirage.pkl',\n",
       "  78: 'MGC-100Ko-52-T100000-F14835-Tirage.pkl',\n",
       "  79: 'MGC-100Ko-61-T100000-F14796-Tirage.pkl',\n",
       "  80: 'MGC-100Ko-57-T100000-F14858-Tirage.pkl',\n",
       "  81: 'MGC-100Ko-66-T100000-F14852-Tirage.pkl',\n",
       "  82: 'MGC-100Ko-81-T100000-F14854-Tirage.pkl',\n",
       "  83: 'MGC-100Ko-85-T100000-F14903-Tirage.pkl',\n",
       "  84: 'MGC-100Ko-59-T100000-F14816-Tirage.pkl',\n",
       "  85: 'MGC-100Ko-98-T100000-F14973-Tirage.pkl',\n",
       "  86: 'MGC-100Ko-55-T100000-F14807-Tirage.pkl',\n",
       "  87: 'MGC-100Ko-54-T100000-F14831-Tirage.pkl',\n",
       "  88: 'MGC-100Ko-79-T100000-F14813-Tirage.pkl',\n",
       "  89: 'MGC-100Ko-84-T100000-F14768-Tirage.pkl',\n",
       "  90: 'MGC-100Ko-73-T100000-F14846-Tirage.pkl',\n",
       "  91: 'MGC-100Ko-62-T100000-F14743-Tirage.pkl',\n",
       "  92: 'MGC-100Ko-72-T100000-F14857-Tirage.pkl',\n",
       "  93: 'MGC-100Ko-95-T100000-F14849-Tirage.pkl',\n",
       "  94: 'MGC-100Ko-63-T100000-F14874-Tirage.pkl',\n",
       "  95: 'MGC-1000Ko-82-T1000000-F39691-Tirage.pkl',\n",
       "  96: 'MGC-1000Ko-71-T1000000-F39667-Tirage.pkl',\n",
       "  97: 'MGC-1000Ko-80-T1000000-F39744-Tirage.pkl',\n",
       "  98: 'MGC-1000Ko-85-T1000000-F39746-Tirage.pkl',\n",
       "  99: 'MGC-1000Ko-93-T1000000-F39842-Tirage.pkl',\n",
       "  100: 'MGC-1000Ko-52-T1000000-F39883-Tirage.pkl',\n",
       "  101: 'MGC-1000Ko-97-T1000000-F39628-Tirage.pkl',\n",
       "  102: 'MGC-1000Ko-87-T1000000-F39933-Tirage.pkl',\n",
       "  103: 'MGC-1000Ko-51-T1000000-F39749-Tirage.pkl',\n",
       "  104: 'MGC-1000Ko-83-T1000000-F40015-Tirage.pkl',\n",
       "  105: 'MGC-1000Ko-69-T1000000-F39821-Tirage.pkl',\n",
       "  106: 'MGC-1000Ko-70-T1000000-F39741-Tirage.pkl',\n",
       "  107: 'MGC-1000Ko-77-T1000000-F39926-Tirage.pkl',\n",
       "  108: 'MGC-1000Ko-60-T1000000-F39774-Tirage.pkl',\n",
       "  109: 'MGC-1000Ko-81-T1000000-F39857-Tirage.pkl',\n",
       "  110: 'MGC-1000Ko-92-T1000000-F39817-Tirage.pkl',\n",
       "  111: 'MGC-1000Ko-61-T1000000-F39686-Tirage.pkl',\n",
       "  112: 'MGC-1000Ko-66-T1000000-F39734-Tirage.pkl',\n",
       "  113: 'MGC-1000Ko-95-T1000000-F39622-Tirage.pkl',\n",
       "  114: 'MGC-1000Ko-79-T1000000-F39740-Tirage.pkl'}}"
      ]
     },
     "execution_count": 14,
     "metadata": {},
     "output_type": "execute_result"
    }
   ],
   "source": [
    "composition"
   ]
  },
  {
   "cell_type": "code",
   "execution_count": 19,
   "metadata": {},
   "outputs": [
    {
     "data": {
      "text/plain": [
       "114"
      ]
     },
     "execution_count": 19,
     "metadata": {},
     "output_type": "execute_result"
    }
   ],
   "source": [
    "indexDepart=composition[\"samples\"].keys()[-1]\n",
    "indexDepart"
   ]
  },
  {
   "cell_type": "code",
   "execution_count": 20,
   "metadata": {
    "collapsed": true
   },
   "outputs": [],
   "source": [
    "tirageDepart=\"/Volumes/gilles/Transfert/Copies-iMac-GB/2015-Data/Longitudinales/Longitudinal-114-T25000000-F69523.pkl\""
   ]
  },
  {
   "cell_type": "code",
   "execution_count": 21,
   "metadata": {
    "collapsed": true
   },
   "outputs": [],
   "source": [
    "listeTirages=glob.glob(repNom+\"*-Tirage.pkl\")"
   ]
  },
  {
   "cell_type": "code",
   "execution_count": 22,
   "metadata": {
    "collapsed": true
   },
   "outputs": [],
   "source": [
    "def tiragesNom(nom):\n",
    "    result=[tirage for tirage in listeTirages if nom in tirage]\n",
    "    return result"
   ]
  },
  {
   "cell_type": "code",
   "execution_count": 25,
   "metadata": {
    "collapsed": true
   },
   "outputs": [],
   "source": [
    "compositionLongitudinale=[(\"1Ko\",10),(\"10Ko\",9),(\"100Ko\",9),(\"1Mo\",19)]\n",
    "compositionLongitudinale=[(\"10Mo\",20)]\n",
    "compositionLongitudinale=[(\"10Ko\",10),(\"100Ko\",9),(\"1Mo\",9)]\n",
    "compositionLongitudinale=[(\"1000Ko\",20)]\n",
    "compositionLongitudinale=[(\"1000Ko\",5),(\"10000Ko\",10)]"
   ]
  },
  {
   "cell_type": "code",
   "execution_count": 26,
   "metadata": {},
   "outputs": [
    {
     "data": {
      "text/plain": [
       "['/Volumes/gilles/Transfert/Copies-iMac-GB/2015-Data/Samples/Verbes3/180107/MGC-1000Ko-30-T1000000-F39799-Tirage.pkl',\n",
       " '/Volumes/gilles/Transfert/Copies-iMac-GB/2015-Data/Samples/Verbes3/180107/MGC-1000Ko-14-T1000000-F39942-Tirage.pkl',\n",
       " '/Volumes/gilles/Transfert/Copies-iMac-GB/2015-Data/Samples/Verbes3/180107/MGC-1000Ko-36-T1000000-F39761-Tirage.pkl',\n",
       " '/Volumes/gilles/Transfert/Copies-iMac-GB/2015-Data/Samples/Verbes3/180107/MGC-1000Ko-48-T1000000-F39818-Tirage.pkl',\n",
       " '/Volumes/gilles/Transfert/Copies-iMac-GB/2015-Data/Samples/Verbes3/180107/MGC-1000Ko-06-T1000000-F39843-Tirage.pkl',\n",
       " '/Volumes/gilles/Transfert/Copies-iMac-GB/2015-Data/Samples/Verbes3/180107/MGC-10000Ko-40-T10000000-F65229-Tirage.pkl',\n",
       " '/Volumes/gilles/Transfert/Copies-iMac-GB/2015-Data/Samples/Verbes3/180107/MGC-10000Ko-12-T10000000-F65223-Tirage.pkl',\n",
       " '/Volumes/gilles/Transfert/Copies-iMac-GB/2015-Data/Samples/Verbes3/180107/MGC-10000Ko-43-T10000000-F65092-Tirage.pkl',\n",
       " '/Volumes/gilles/Transfert/Copies-iMac-GB/2015-Data/Samples/Verbes3/180107/MGC-10000Ko-17-T10000000-F65176-Tirage.pkl',\n",
       " '/Volumes/gilles/Transfert/Copies-iMac-GB/2015-Data/Samples/Verbes3/180107/MGC-10000Ko-16-T10000000-F65129-Tirage.pkl',\n",
       " '/Volumes/gilles/Transfert/Copies-iMac-GB/2015-Data/Samples/Verbes3/180107/MGC-10000Ko-49-T10000000-F65068-Tirage.pkl',\n",
       " '/Volumes/gilles/Transfert/Copies-iMac-GB/2015-Data/Samples/Verbes3/180107/MGC-10000Ko-36-T10000000-F65064-Tirage.pkl',\n",
       " '/Volumes/gilles/Transfert/Copies-iMac-GB/2015-Data/Samples/Verbes3/180107/MGC-10000Ko-20-T10000000-F65164-Tirage.pkl',\n",
       " '/Volumes/gilles/Transfert/Copies-iMac-GB/2015-Data/Samples/Verbes3/180107/MGC-10000Ko-45-T10000000-F65113-Tirage.pkl',\n",
       " '/Volumes/gilles/Transfert/Copies-iMac-GB/2015-Data/Samples/Verbes3/180107/MGC-10000Ko-05-T10000000-F65135-Tirage.pkl']"
      ]
     },
     "execution_count": 26,
     "metadata": {},
     "output_type": "execute_result"
    }
   ],
   "source": [
    "serieLongitudinale=[]\n",
    "for serie,nbSerie in compositionLongitudinale:\n",
    "    for nom in rd.sample(tiragesNom(serie),nbSerie):\n",
    "        m=re.match(ur\"^.*-%s-(\\d{2})-T.*-F.*-Tirage.*\"%serie,nom)\n",
    "        if m:\n",
    "#            print m.group(1), nom\n",
    "            serieLongitudinale.append(nom)\n",
    "        else:\n",
    "            print \"mauvais nom de fichier\",nom\n",
    "serieLongitudinale"
   ]
  },
  {
   "cell_type": "code",
   "execution_count": 27,
   "metadata": {
    "collapsed": true
   },
   "outputs": [],
   "source": [
    "def lireLexique(nomLexique):\n",
    "    with open(nomLexique, 'rb') as input:\n",
    "        lexique=pickle.load(input)\n",
    "    return lexique"
   ]
  },
  {
   "cell_type": "code",
   "execution_count": 28,
   "metadata": {
    "collapsed": true
   },
   "outputs": [],
   "source": [
    "indexLexique=lireLexique(serieLongitudinale[0])\n",
    "indexLexique[\"tir1\"]=0\n",
    "nTirageDepart=0\n",
    "if tirageDepart:\n",
    "    lexique,cumulLexique=lireLexique(tirageDepart).align(indexLexique)\n",
    "    cumulLexique[\"tir1\"]=cumulLexique[\"tir1\"].fillna(value=0)+lexique[\"tir1\"].fillna(value=0)\n",
    "    nTirageDepart=int(tirageDepart.rsplit(\"/\")[-1].split(\"-\")[1])+1"
   ]
  },
  {
   "cell_type": "code",
   "execution_count": 29,
   "metadata": {},
   "outputs": [
    {
     "data": {
      "text/plain": [
       "25000000.0"
      ]
     },
     "execution_count": 29,
     "metadata": {},
     "output_type": "execute_result"
    }
   ],
   "source": [
    "cumulLexique[\"tir1\"].sum()"
   ]
  },
  {
   "cell_type": "code",
   "execution_count": 30,
   "metadata": {},
   "outputs": [
    {
     "data": {
      "text/plain": [
       "115"
      ]
     },
     "execution_count": 30,
     "metadata": {},
     "output_type": "execute_result"
    }
   ],
   "source": [
    "nTirageDepart"
   ]
  },
  {
   "cell_type": "code",
   "execution_count": 31,
   "metadata": {},
   "outputs": [
    {
     "name": "stdout",
     "output_type": "stream",
     "text": [
      "(26000000,328098),\n",
      "(26000000,69676),\n",
      "(27000000,328098),\n",
      "(27000000,69795),\n",
      "(28000000,328098),\n",
      "(28000000,69897),\n",
      "(29000000,328098),\n",
      "(29000000,70013),\n",
      "(30000000,328098),\n",
      "(30000000,70110),\n",
      "(40000000,328098),\n",
      "(40000000,70904),\n",
      "(50000000,328098),\n",
      "(50000000,71435),\n",
      "(60000000,328098),\n",
      "(60000000,71811),\n",
      "(70000000,328098),\n",
      "(70000000,72058),\n",
      "(80000000,328098),\n",
      "(80000000,72279),\n",
      "(90000000,328098),\n",
      "(90000000,72474),\n",
      "(100000000,328098),\n",
      "(100000000,72598),\n",
      "(110000000,328098),\n",
      "(110000000,72720),\n",
      "(120000000,328098),\n",
      "(120000000,72811),\n",
      "(130000000,328098),\n",
      "(130000000,72864),\n"
     ]
    },
    {
     "data": {
      "text/plain": [
       "{'samples': {0: 'MGC-10Ko-36-T10000-F3663-Tirage.pkl',\n",
       "  1: 'MGC-10Ko-16-T10000-F3627-Tirage.pkl',\n",
       "  2: 'MGC-10Ko-49-T10000-F3614-Tirage.pkl',\n",
       "  3: 'MGC-10Ko-14-T10000-F3592-Tirage.pkl',\n",
       "  4: 'MGC-10Ko-09-T10000-F3598-Tirage.pkl',\n",
       "  5: 'MGC-10Ko-29-T10000-F3701-Tirage.pkl',\n",
       "  6: 'MGC-10Ko-28-T10000-F3590-Tirage.pkl',\n",
       "  7: 'MGC-10Ko-40-T10000-F3672-Tirage.pkl',\n",
       "  8: 'MGC-10Ko-32-T10000-F3594-Tirage.pkl',\n",
       "  9: 'MGC-10Ko-37-T10000-F3644-Tirage.pkl',\n",
       "  10: 'MGC-10Ko-27-T10000-F3594-Tirage.pkl',\n",
       "  11: 'MGC-10Ko-42-T10000-F3557-Tirage.pkl',\n",
       "  12: 'MGC-10Ko-46-T10000-F3640-Tirage.pkl',\n",
       "  13: 'MGC-10Ko-17-T10000-F3613-Tirage.pkl',\n",
       "  14: 'MGC-10Ko-10-T10000-F3647-Tirage.pkl',\n",
       "  15: 'MGC-10Ko-08-T10000-F3612-Tirage.pkl',\n",
       "  16: 'MGC-10Ko-07-T10000-F3626-Tirage.pkl',\n",
       "  17: 'MGC-10Ko-34-T10000-F3633-Tirage.pkl',\n",
       "  18: 'MGC-10Ko-43-T10000-F3561-Tirage.pkl',\n",
       "  19: 'MGC-10Ko-21-T10000-F3619-Tirage.pkl',\n",
       "  20: 'MGC-10Ko-15-T10000-F3669-Tirage.pkl',\n",
       "  21: 'MGC-10Ko-18-T10000-F3664-Tirage.pkl',\n",
       "  22: 'MGC-10Ko-47-T10000-F3698-Tirage.pkl',\n",
       "  23: 'MGC-10Ko-11-T10000-F3558-Tirage.pkl',\n",
       "  24: 'MGC-10Ko-00-T10000-F3634-Tirage.pkl',\n",
       "  25: 'MGC-10Ko-31-T10000-F3712-Tirage.pkl',\n",
       "  26: 'MGC-10Ko-01-T10000-F3686-Tirage.pkl',\n",
       "  27: 'MGC-10Ko-39-T10000-F3659-Tirage.pkl',\n",
       "  28: 'MGC-10Ko-26-T10000-F3590-Tirage.pkl',\n",
       "  29: 'MGC-10Ko-06-T10000-F3649-Tirage.pkl',\n",
       "  30: 'MGC-10Ko-20-T10000-F3569-Tirage.pkl',\n",
       "  31: 'MGC-10Ko-12-T10000-F3636-Tirage.pkl',\n",
       "  32: 'MGC-10Ko-19-T10000-F3696-Tirage.pkl',\n",
       "  33: 'MGC-10Ko-33-T10000-F3629-Tirage.pkl',\n",
       "  34: 'MGC-10Ko-05-T10000-F3618-Tirage.pkl',\n",
       "  35: 'MGC-10Ko-41-T10000-F3659-Tirage.pkl',\n",
       "  36: 'MGC-10Ko-30-T10000-F3625-Tirage.pkl',\n",
       "  37: 'MGC-10Ko-22-T10000-F3644-Tirage.pkl',\n",
       "  38: 'MGC-10Ko-13-T10000-F3592-Tirage.pkl',\n",
       "  39: 'MGC-10Ko-04-T10000-F3676-Tirage.pkl',\n",
       "  40: 'MGC-10Ko-23-T10000-F3595-Tirage.pkl',\n",
       "  41: 'MGC-10Ko-48-T10000-F3602-Tirage.pkl',\n",
       "  42: 'MGC-10Ko-02-T10000-F3700-Tirage.pkl',\n",
       "  43: 'MGC-10Ko-25-T10000-F3618-Tirage.pkl',\n",
       "  44: 'MGC-10Ko-35-T10000-F3742-Tirage.pkl',\n",
       "  45: 'MGC-10Ko-38-T10000-F3614-Tirage.pkl',\n",
       "  46: 'MGC-10Ko-03-T10000-F3606-Tirage.pkl',\n",
       "  47: 'MGC-10Ko-44-T10000-F3531-Tirage.pkl',\n",
       "  48: 'MGC-10Ko-24-T10000-F3604-Tirage.pkl',\n",
       "  49: 'MGC-10Ko-45-T10000-F3652-Tirage.pkl',\n",
       "  50: 'MGC-100Ko-16-T100000-F14845-Tirage.pkl',\n",
       "  51: 'MGC-100Ko-26-T100000-F14857-Tirage.pkl',\n",
       "  52: 'MGC-100Ko-15-T100000-F14718-Tirage.pkl',\n",
       "  53: 'MGC-100Ko-29-T100000-F14954-Tirage.pkl',\n",
       "  54: 'MGC-100Ko-38-T100000-F14871-Tirage.pkl',\n",
       "  55: 'MGC-100Ko-05-T100000-F14872-Tirage.pkl',\n",
       "  56: 'MGC-100Ko-68-T100000-F14798-Tirage.pkl',\n",
       "  57: 'MGC-100Ko-56-T100000-F14888-Tirage.pkl',\n",
       "  58: 'MGC-100Ko-74-T100000-F14748-Tirage.pkl',\n",
       "  59: 'MGC-100Ko-58-T100000-F14783-Tirage.pkl',\n",
       "  60: 'MGC-100Ko-83-T100000-F14709-Tirage.pkl',\n",
       "  61: 'MGC-100Ko-65-T100000-F14860-Tirage.pkl',\n",
       "  62: 'MGC-100Ko-60-T100000-F14947-Tirage.pkl',\n",
       "  63: 'MGC-100Ko-51-T100000-F14789-Tirage.pkl',\n",
       "  64: 'MGC-100Ko-87-T100000-F14873-Tirage.pkl',\n",
       "  65: 'MGC-100Ko-92-T100000-F14847-Tirage.pkl',\n",
       "  66: 'MGC-100Ko-82-T100000-F14882-Tirage.pkl',\n",
       "  67: 'MGC-100Ko-94-T100000-F14907-Tirage.pkl',\n",
       "  68: 'MGC-100Ko-91-T100000-F14928-Tirage.pkl',\n",
       "  69: 'MGC-100Ko-89-T100000-F14838-Tirage.pkl',\n",
       "  70: 'MGC-100Ko-69-T100000-F14711-Tirage.pkl',\n",
       "  71: 'MGC-100Ko-97-T100000-F14953-Tirage.pkl',\n",
       "  72: 'MGC-100Ko-50-T100000-F14919-Tirage.pkl',\n",
       "  73: 'MGC-100Ko-86-T100000-F14995-Tirage.pkl',\n",
       "  74: 'MGC-100Ko-64-T100000-F14975-Tirage.pkl',\n",
       "  75: 'MGC-100Ko-70-T100000-F14864-Tirage.pkl',\n",
       "  76: 'MGC-100Ko-88-T100000-F14873-Tirage.pkl',\n",
       "  77: 'MGC-100Ko-96-T100000-F14782-Tirage.pkl',\n",
       "  78: 'MGC-100Ko-52-T100000-F14835-Tirage.pkl',\n",
       "  79: 'MGC-100Ko-61-T100000-F14796-Tirage.pkl',\n",
       "  80: 'MGC-100Ko-57-T100000-F14858-Tirage.pkl',\n",
       "  81: 'MGC-100Ko-66-T100000-F14852-Tirage.pkl',\n",
       "  82: 'MGC-100Ko-81-T100000-F14854-Tirage.pkl',\n",
       "  83: 'MGC-100Ko-85-T100000-F14903-Tirage.pkl',\n",
       "  84: 'MGC-100Ko-59-T100000-F14816-Tirage.pkl',\n",
       "  85: 'MGC-100Ko-98-T100000-F14973-Tirage.pkl',\n",
       "  86: 'MGC-100Ko-55-T100000-F14807-Tirage.pkl',\n",
       "  87: 'MGC-100Ko-54-T100000-F14831-Tirage.pkl',\n",
       "  88: 'MGC-100Ko-79-T100000-F14813-Tirage.pkl',\n",
       "  89: 'MGC-100Ko-84-T100000-F14768-Tirage.pkl',\n",
       "  90: 'MGC-100Ko-73-T100000-F14846-Tirage.pkl',\n",
       "  91: 'MGC-100Ko-62-T100000-F14743-Tirage.pkl',\n",
       "  92: 'MGC-100Ko-72-T100000-F14857-Tirage.pkl',\n",
       "  93: 'MGC-100Ko-95-T100000-F14849-Tirage.pkl',\n",
       "  94: 'MGC-100Ko-63-T100000-F14874-Tirage.pkl',\n",
       "  95: 'MGC-1000Ko-82-T1000000-F39691-Tirage.pkl',\n",
       "  96: 'MGC-1000Ko-71-T1000000-F39667-Tirage.pkl',\n",
       "  97: 'MGC-1000Ko-80-T1000000-F39744-Tirage.pkl',\n",
       "  98: 'MGC-1000Ko-85-T1000000-F39746-Tirage.pkl',\n",
       "  99: 'MGC-1000Ko-93-T1000000-F39842-Tirage.pkl',\n",
       "  100: 'MGC-1000Ko-52-T1000000-F39883-Tirage.pkl',\n",
       "  101: 'MGC-1000Ko-97-T1000000-F39628-Tirage.pkl',\n",
       "  102: 'MGC-1000Ko-87-T1000000-F39933-Tirage.pkl',\n",
       "  103: 'MGC-1000Ko-51-T1000000-F39749-Tirage.pkl',\n",
       "  104: 'MGC-1000Ko-83-T1000000-F40015-Tirage.pkl',\n",
       "  105: 'MGC-1000Ko-69-T1000000-F39821-Tirage.pkl',\n",
       "  106: 'MGC-1000Ko-70-T1000000-F39741-Tirage.pkl',\n",
       "  107: 'MGC-1000Ko-77-T1000000-F39926-Tirage.pkl',\n",
       "  108: 'MGC-1000Ko-60-T1000000-F39774-Tirage.pkl',\n",
       "  109: 'MGC-1000Ko-81-T1000000-F39857-Tirage.pkl',\n",
       "  110: 'MGC-1000Ko-92-T1000000-F39817-Tirage.pkl',\n",
       "  111: 'MGC-1000Ko-61-T1000000-F39686-Tirage.pkl',\n",
       "  112: 'MGC-1000Ko-66-T1000000-F39734-Tirage.pkl',\n",
       "  113: 'MGC-1000Ko-95-T1000000-F39622-Tirage.pkl',\n",
       "  114: 'MGC-1000Ko-79-T1000000-F39740-Tirage.pkl',\n",
       "  115: 'MGC-1000Ko-30-T1000000-F39799-Tirage.pkl',\n",
       "  116: 'MGC-1000Ko-14-T1000000-F39942-Tirage.pkl',\n",
       "  117: 'MGC-1000Ko-36-T1000000-F39761-Tirage.pkl',\n",
       "  118: 'MGC-1000Ko-48-T1000000-F39818-Tirage.pkl',\n",
       "  119: 'MGC-1000Ko-06-T1000000-F39843-Tirage.pkl',\n",
       "  120: 'MGC-10000Ko-40-T10000000-F65229-Tirage.pkl',\n",
       "  121: 'MGC-10000Ko-12-T10000000-F65223-Tirage.pkl',\n",
       "  122: 'MGC-10000Ko-43-T10000000-F65092-Tirage.pkl',\n",
       "  123: 'MGC-10000Ko-17-T10000000-F65176-Tirage.pkl',\n",
       "  124: 'MGC-10000Ko-16-T10000000-F65129-Tirage.pkl',\n",
       "  125: 'MGC-10000Ko-49-T10000000-F65068-Tirage.pkl',\n",
       "  126: 'MGC-10000Ko-36-T10000000-F65064-Tirage.pkl',\n",
       "  127: 'MGC-10000Ko-20-T10000000-F65164-Tirage.pkl',\n",
       "  128: 'MGC-10000Ko-45-T10000000-F65113-Tirage.pkl',\n",
       "  129: 'MGC-10000Ko-05-T10000000-F65135-Tirage.pkl'}}"
      ]
     },
     "execution_count": 31,
     "metadata": {},
     "output_type": "execute_result"
    }
   ],
   "source": [
    "timeStamp=dt.datetime.now().strftime(\"%y%m%d-%H%M\")\n",
    "for nTirage,tirage in enumerate(serieLongitudinale):\n",
    "    lexique=lireLexique(tirage)\n",
    "    if cumule:\n",
    "        cumulLexique[\"tir1\"]=cumulLexique[\"tir1\"]+lexique[\"tir1\"]\n",
    "    else:\n",
    "        cumulLexique[\"tir1\"]=lexique[\"tir1\"]\n",
    "    print \"(%d,%d),\"%(cumulLexique[\"tir1\"].sum(),cumulLexique[\"tir1\"].count())\n",
    "    lexique1=cumulLexique[cumulLexique[\"tir1\"]>0]\n",
    "    nbTokens=lexique1[\"tir1\"].sum()\n",
    "    nbTypes=lexique1[\"tir1\"].count()\n",
    "    print \"(%d,%d),\"%(nbTokens,nbTypes)\n",
    "    composition[\"samples\"][nTirage+nTirageDepart]=tirage.split(\"/\")[-1]\n",
    "    sortieNom=repNomSortie+\"Longitudinal-%02d-T%d-F%d.pkl\"%(nTirage+nTirageDepart,nbTokens,nbTypes)\n",
    "    with open(sortieNom,\"wb\") as output:\n",
    "        pickle.dump(lexique1, output, pickle.HIGHEST_PROTOCOL)\n",
    "composition"
   ]
  },
  {
   "cell_type": "code",
   "execution_count": 32,
   "metadata": {
    "collapsed": true
   },
   "outputs": [],
   "source": [
    "yaml.safe_dump(composition, file(repNomSortie+\"Composition-%s.yaml\"%dateStamp, 'w'), encoding='utf-8', allow_unicode=True)"
   ]
  },
  {
   "cell_type": "code",
   "execution_count": null,
   "metadata": {
    "collapsed": true
   },
   "outputs": [],
   "source": []
  }
 ],
 "metadata": {
  "kernelspec": {
   "display_name": "Python 2",
   "language": "python",
   "name": "python2"
  },
  "language_info": {
   "codemirror_mode": {
    "name": "ipython",
    "version": 2
   },
   "file_extension": ".py",
   "mimetype": "text/x-python",
   "name": "python",
   "nbconvert_exporter": "python",
   "pygments_lexer": "ipython2",
   "version": "2.7.11"
  }
 },
 "nbformat": 4,
 "nbformat_minor": 1
}
