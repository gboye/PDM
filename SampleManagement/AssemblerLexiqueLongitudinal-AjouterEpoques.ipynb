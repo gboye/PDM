{
 "cells": [
  {
   "cell_type": "markdown",
   "metadata": {},
   "source": [
    "Ajouter un fichier Composition pour noter les échantillons utilisés"
   ]
  },
  {
   "cell_type": "code",
   "execution_count": 25,
   "metadata": {},
   "outputs": [],
   "source": [
    "import pandas as pd\n",
    "import random as rd\n",
    "import datetime as dt\n",
    "import pickle,glob,re,yaml"
   ]
  },
  {
   "cell_type": "code",
   "execution_count": 26,
   "metadata": {},
   "outputs": [],
   "source": [
    "cumule=True\n",
    "dateStamp=\"{:%y%m%d-%H%M}\".format(dt.datetime.now())\n",
    "#repNom=\"/Users/gilles/Box Sync/2015-Data/Samples/Adjectifs/\"\n",
    "repNom=\"/Volumes/gilles/Transfert/Copies-iMac-GB/2015-Data/Samples/Verbes3Rnd/\"\n",
    "#repNomSortie=\"/Users/gilles/Box Sync/2015-Data/FlexionAdjectifs/\"\n",
    "repNomSortie=\"/Volumes/gilles/Transfert/Copies-iMac-GB/2015-Data/LongitudinalesRnd/\""
   ]
  },
  {
   "cell_type": "code",
   "execution_count": 27,
   "metadata": {},
   "outputs": [],
   "source": [
    "with open(repNomSortie+\"Longitudinal-Composition.yaml\", 'r') as input:\n",
    "    composition = yaml.load(input)\n",
    "    "
   ]
  },
  {
   "cell_type": "code",
   "execution_count": 28,
   "metadata": {},
   "outputs": [
    {
     "data": {
      "text/plain": [
       "{'samples': {0: 'MGC-1000Ko-30-T1000000-F29754-Tirage.pkl',\n",
       "  1: 'MGC-1000Ko-25-T1000000-F29871-Tirage.pkl',\n",
       "  2: 'MGC-1000Ko-40-T1000000-F29822-Tirage.pkl',\n",
       "  3: 'MGC-1000Ko-34-T1000000-F29725-Tirage.pkl',\n",
       "  4: 'MGC-1000Ko-04-T1000000-F29837-Tirage.pkl',\n",
       "  5: 'MGC-1000Ko-19-T1000000-F29883-Tirage.pkl',\n",
       "  6: 'MGC-1000Ko-07-T1000000-F29830-Tirage.pkl',\n",
       "  7: 'MGC-1000Ko-31-T1000000-F29812-Tirage.pkl',\n",
       "  8: 'MGC-1000Ko-00-T1000000-F29829-Tirage.pkl',\n",
       "  9: 'MGC-1000Ko-24-T1000000-F29750-Tirage.pkl',\n",
       "  10: 'MGC-10000Ko-44-T10000000-F56009-Tirage.pkl',\n",
       "  11: 'MGC-10000Ko-13-T10000000-F56043-Tirage.pkl',\n",
       "  12: 'MGC-10000Ko-11-T10000000-F55938-Tirage.pkl',\n",
       "  13: 'MGC-10000Ko-35-T10000000-F55896-Tirage.pkl',\n",
       "  14: 'MGC-10000Ko-18-T10000000-F56045-Tirage.pkl',\n",
       "  15: 'MGC-10000Ko-03-T10000000-F55999-Tirage.pkl',\n",
       "  16: 'MGC-10000Ko-41-T10000000-F55960-Tirage.pkl',\n",
       "  17: 'MGC-10000Ko-05-T10000000-F55876-Tirage.pkl',\n",
       "  18: 'MGC-10000Ko-31-T10000000-F56267-Tirage.pkl'}}"
      ]
     },
     "execution_count": 28,
     "metadata": {},
     "output_type": "execute_result"
    }
   ],
   "source": [
    "composition"
   ]
  },
  {
   "cell_type": "code",
   "execution_count": 29,
   "metadata": {},
   "outputs": [
    {
     "data": {
      "text/plain": [
       "18"
      ]
     },
     "execution_count": 29,
     "metadata": {},
     "output_type": "execute_result"
    }
   ],
   "source": [
    "indexDepart=composition[\"samples\"].keys()[-1]\n",
    "indexDepart"
   ]
  },
  {
   "cell_type": "code",
   "execution_count": 30,
   "metadata": {},
   "outputs": [],
   "source": [
    "tirageDepart=\"/Volumes/gilles/Transfert/Copies-iMac-GB/2015-Data/LongitudinalesRnd/Longitudinal-18-T100000000-F80233.pkl\""
   ]
  },
  {
   "cell_type": "code",
   "execution_count": 31,
   "metadata": {},
   "outputs": [
    {
     "data": {
      "text/plain": [
       "['/Volumes/gilles/Transfert/Copies-iMac-GB/2015-Data/Samples/Verbes3Rnd/MGC-10000Ko-48-T10000000-F56109-Tirage.pkl',\n",
       " '/Volumes/gilles/Transfert/Copies-iMac-GB/2015-Data/Samples/Verbes3Rnd/MGC-1000Ko-17-T1000000-F29729-Tirage.pkl',\n",
       " '/Volumes/gilles/Transfert/Copies-iMac-GB/2015-Data/Samples/Verbes3Rnd/MGC-10000Ko-42-T10000000-F55821-Tirage.pkl',\n",
       " '/Volumes/gilles/Transfert/Copies-iMac-GB/2015-Data/Samples/Verbes3Rnd/MGC-1000Ko-48-T1000000-F29699-Tirage.pkl',\n",
       " '/Volumes/gilles/Transfert/Copies-iMac-GB/2015-Data/Samples/Verbes3Rnd/MGC-1000Ko-21-T1000000-F29741-Tirage.pkl',\n",
       " '/Volumes/gilles/Transfert/Copies-iMac-GB/2015-Data/Samples/Verbes3Rnd/MGC-1000Ko-09-T1000000-F29825-Tirage.pkl',\n",
       " '/Volumes/gilles/Transfert/Copies-iMac-GB/2015-Data/Samples/Verbes3Rnd/MGC-1000Ko-37-T1000000-F29736-Tirage.pkl',\n",
       " '/Volumes/gilles/Transfert/Copies-iMac-GB/2015-Data/Samples/Verbes3Rnd/MGC-1000Ko-27-T1000000-F29709-Tirage.pkl',\n",
       " '/Volumes/gilles/Transfert/Copies-iMac-GB/2015-Data/Samples/Verbes3Rnd/MGC-10000Ko-07-T10000000-F55779-Tirage.pkl',\n",
       " '/Volumes/gilles/Transfert/Copies-iMac-GB/2015-Data/Samples/Verbes3Rnd/MGC-10000Ko-27-T10000000-F55979-Tirage.pkl',\n",
       " '/Volumes/gilles/Transfert/Copies-iMac-GB/2015-Data/Samples/Verbes3Rnd/MGC-10000Ko-05-T10000000-F55876-Tirage.pkl',\n",
       " '/Volumes/gilles/Transfert/Copies-iMac-GB/2015-Data/Samples/Verbes3Rnd/MGC-1000Ko-16-T1000000-F29864-Tirage.pkl',\n",
       " '/Volumes/gilles/Transfert/Copies-iMac-GB/2015-Data/Samples/Verbes3Rnd/MGC-1000Ko-41-T1000000-F29832-Tirage.pkl',\n",
       " '/Volumes/gilles/Transfert/Copies-iMac-GB/2015-Data/Samples/Verbes3Rnd/MGC-10000Ko-18-T10000000-F56045-Tirage.pkl',\n",
       " '/Volumes/gilles/Transfert/Copies-iMac-GB/2015-Data/Samples/Verbes3Rnd/MGC-10000Ko-44-T10000000-F56009-Tirage.pkl',\n",
       " '/Volumes/gilles/Transfert/Copies-iMac-GB/2015-Data/Samples/Verbes3Rnd/MGC-1000Ko-42-T1000000-F29787-Tirage.pkl',\n",
       " '/Volumes/gilles/Transfert/Copies-iMac-GB/2015-Data/Samples/Verbes3Rnd/MGC-10000Ko-22-T10000000-F55897-Tirage.pkl',\n",
       " '/Volumes/gilles/Transfert/Copies-iMac-GB/2015-Data/Samples/Verbes3Rnd/MGC-1000Ko-29-T1000000-F29675-Tirage.pkl',\n",
       " '/Volumes/gilles/Transfert/Copies-iMac-GB/2015-Data/Samples/Verbes3Rnd/MGC-1000Ko-13-T1000000-F29802-Tirage.pkl',\n",
       " '/Volumes/gilles/Transfert/Copies-iMac-GB/2015-Data/Samples/Verbes3Rnd/MGC-1000Ko-19-T1000000-F29883-Tirage.pkl',\n",
       " '/Volumes/gilles/Transfert/Copies-iMac-GB/2015-Data/Samples/Verbes3Rnd/MGC-1000Ko-23-T1000000-F29844-Tirage.pkl',\n",
       " '/Volumes/gilles/Transfert/Copies-iMac-GB/2015-Data/Samples/Verbes3Rnd/MGC-10000Ko-30-T10000000-F56051-Tirage.pkl',\n",
       " '/Volumes/gilles/Transfert/Copies-iMac-GB/2015-Data/Samples/Verbes3Rnd/MGC-10000Ko-31-T10000000-F56267-Tirage.pkl',\n",
       " '/Volumes/gilles/Transfert/Copies-iMac-GB/2015-Data/Samples/Verbes3Rnd/MGC-10000Ko-04-T10000000-F55902-Tirage.pkl',\n",
       " '/Volumes/gilles/Transfert/Copies-iMac-GB/2015-Data/Samples/Verbes3Rnd/MGC-10000Ko-34-T10000000-F55760-Tirage.pkl',\n",
       " '/Volumes/gilles/Transfert/Copies-iMac-GB/2015-Data/Samples/Verbes3Rnd/MGC-10000Ko-03-T10000000-F55999-Tirage.pkl',\n",
       " '/Volumes/gilles/Transfert/Copies-iMac-GB/2015-Data/Samples/Verbes3Rnd/MGC-10000Ko-26-T10000000-F56072-Tirage.pkl',\n",
       " '/Volumes/gilles/Transfert/Copies-iMac-GB/2015-Data/Samples/Verbes3Rnd/MGC-1000Ko-45-T1000000-F29772-Tirage.pkl',\n",
       " '/Volumes/gilles/Transfert/Copies-iMac-GB/2015-Data/Samples/Verbes3Rnd/MGC-1000Ko-28-T1000000-F29912-Tirage.pkl',\n",
       " '/Volumes/gilles/Transfert/Copies-iMac-GB/2015-Data/Samples/Verbes3Rnd/MGC-10000Ko-10-T10000000-F56199-Tirage.pkl',\n",
       " '/Volumes/gilles/Transfert/Copies-iMac-GB/2015-Data/Samples/Verbes3Rnd/MGC-10000Ko-21-T10000000-F55907-Tirage.pkl',\n",
       " '/Volumes/gilles/Transfert/Copies-iMac-GB/2015-Data/Samples/Verbes3Rnd/MGC-10000Ko-11-T10000000-F55938-Tirage.pkl',\n",
       " '/Volumes/gilles/Transfert/Copies-iMac-GB/2015-Data/Samples/Verbes3Rnd/MGC-1000Ko-40-T1000000-F29822-Tirage.pkl',\n",
       " '/Volumes/gilles/Transfert/Copies-iMac-GB/2015-Data/Samples/Verbes3Rnd/MGC-10000Ko-09-T10000000-F56111-Tirage.pkl',\n",
       " '/Volumes/gilles/Transfert/Copies-iMac-GB/2015-Data/Samples/Verbes3Rnd/MGC-10000Ko-33-T10000000-F55892-Tirage.pkl',\n",
       " '/Volumes/gilles/Transfert/Copies-iMac-GB/2015-Data/Samples/Verbes3Rnd/MGC-1000Ko-20-T1000000-F29828-Tirage.pkl',\n",
       " '/Volumes/gilles/Transfert/Copies-iMac-GB/2015-Data/Samples/Verbes3Rnd/MGC-1000Ko-34-T1000000-F29725-Tirage.pkl',\n",
       " '/Volumes/gilles/Transfert/Copies-iMac-GB/2015-Data/Samples/Verbes3Rnd/MGC-1000Ko-11-T1000000-F29647-Tirage.pkl',\n",
       " '/Volumes/gilles/Transfert/Copies-iMac-GB/2015-Data/Samples/Verbes3Rnd/MGC-10000Ko-46-T10000000-F56025-Tirage.pkl',\n",
       " '/Volumes/gilles/Transfert/Copies-iMac-GB/2015-Data/Samples/Verbes3Rnd/MGC-1000Ko-47-T1000000-F29804-Tirage.pkl',\n",
       " '/Volumes/gilles/Transfert/Copies-iMac-GB/2015-Data/Samples/Verbes3Rnd/MGC-1000Ko-22-T1000000-F29720-Tirage.pkl',\n",
       " '/Volumes/gilles/Transfert/Copies-iMac-GB/2015-Data/Samples/Verbes3Rnd/MGC-1000Ko-26-T1000000-F29723-Tirage.pkl',\n",
       " '/Volumes/gilles/Transfert/Copies-iMac-GB/2015-Data/Samples/Verbes3Rnd/MGC-1000Ko-15-T1000000-F29814-Tirage.pkl',\n",
       " '/Volumes/gilles/Transfert/Copies-iMac-GB/2015-Data/Samples/Verbes3Rnd/MGC-1000Ko-30-T1000000-F29754-Tirage.pkl',\n",
       " '/Volumes/gilles/Transfert/Copies-iMac-GB/2015-Data/Samples/Verbes3Rnd/MGC-1000Ko-36-T1000000-F29818-Tirage.pkl',\n",
       " '/Volumes/gilles/Transfert/Copies-iMac-GB/2015-Data/Samples/Verbes3Rnd/MGC-1000Ko-06-T1000000-F29716-Tirage.pkl',\n",
       " '/Volumes/gilles/Transfert/Copies-iMac-GB/2015-Data/Samples/Verbes3Rnd/MGC-10000Ko-32-T10000000-F56107-Tirage.pkl',\n",
       " '/Volumes/gilles/Transfert/Copies-iMac-GB/2015-Data/Samples/Verbes3Rnd/MGC-1000Ko-08-T1000000-F29900-Tirage.pkl',\n",
       " '/Volumes/gilles/Transfert/Copies-iMac-GB/2015-Data/Samples/Verbes3Rnd/MGC-10000Ko-01-T10000000-F56005-Tirage.pkl',\n",
       " '/Volumes/gilles/Transfert/Copies-iMac-GB/2015-Data/Samples/Verbes3Rnd/MGC-10000Ko-14-T10000000-F55784-Tirage.pkl',\n",
       " '/Volumes/gilles/Transfert/Copies-iMac-GB/2015-Data/Samples/Verbes3Rnd/MGC-10000Ko-45-T10000000-F55951-Tirage.pkl',\n",
       " '/Volumes/gilles/Transfert/Copies-iMac-GB/2015-Data/Samples/Verbes3Rnd/MGC-1000Ko-14-T1000000-F29793-Tirage.pkl',\n",
       " '/Volumes/gilles/Transfert/Copies-iMac-GB/2015-Data/Samples/Verbes3Rnd/MGC-1000Ko-24-T1000000-F29750-Tirage.pkl',\n",
       " '/Volumes/gilles/Transfert/Copies-iMac-GB/2015-Data/Samples/Verbes3Rnd/MGC-1000Ko-35-T1000000-F29742-Tirage.pkl',\n",
       " '/Volumes/gilles/Transfert/Copies-iMac-GB/2015-Data/Samples/Verbes3Rnd/MGC-10000Ko-13-T10000000-F56043-Tirage.pkl',\n",
       " '/Volumes/gilles/Transfert/Copies-iMac-GB/2015-Data/Samples/Verbes3Rnd/MGC-10000Ko-43-T10000000-F55961-Tirage.pkl',\n",
       " '/Volumes/gilles/Transfert/Copies-iMac-GB/2015-Data/Samples/Verbes3Rnd/MGC-10000Ko-16-T10000000-F55966-Tirage.pkl',\n",
       " '/Volumes/gilles/Transfert/Copies-iMac-GB/2015-Data/Samples/Verbes3Rnd/MGC-10000Ko-08-T10000000-F55767-Tirage.pkl',\n",
       " '/Volumes/gilles/Transfert/Copies-iMac-GB/2015-Data/Samples/Verbes3Rnd/MGC-1000Ko-05-T1000000-F29703-Tirage.pkl',\n",
       " '/Volumes/gilles/Transfert/Copies-iMac-GB/2015-Data/Samples/Verbes3Rnd/MGC-10000Ko-40-T10000000-F56007-Tirage.pkl',\n",
       " '/Volumes/gilles/Transfert/Copies-iMac-GB/2015-Data/Samples/Verbes3Rnd/MGC-10000Ko-23-T10000000-F56019-Tirage.pkl',\n",
       " '/Volumes/gilles/Transfert/Copies-iMac-GB/2015-Data/Samples/Verbes3Rnd/MGC-1000Ko-04-T1000000-F29837-Tirage.pkl',\n",
       " '/Volumes/gilles/Transfert/Copies-iMac-GB/2015-Data/Samples/Verbes3Rnd/MGC-1000Ko-33-T1000000-F29661-Tirage.pkl',\n",
       " '/Volumes/gilles/Transfert/Copies-iMac-GB/2015-Data/Samples/Verbes3Rnd/MGC-10000Ko-12-T10000000-F56084-Tirage.pkl',\n",
       " '/Volumes/gilles/Transfert/Copies-iMac-GB/2015-Data/Samples/Verbes3Rnd/MGC-1000Ko-02-T1000000-F29755-Tirage.pkl',\n",
       " '/Volumes/gilles/Transfert/Copies-iMac-GB/2015-Data/Samples/Verbes3Rnd/MGC-10000Ko-29-T10000000-F55993-Tirage.pkl',\n",
       " '/Volumes/gilles/Transfert/Copies-iMac-GB/2015-Data/Samples/Verbes3Rnd/MGC-1000Ko-03-T1000000-F29807-Tirage.pkl',\n",
       " '/Volumes/gilles/Transfert/Copies-iMac-GB/2015-Data/Samples/Verbes3Rnd/MGC-10000Ko-49-T10000000-F56033-Tirage.pkl',\n",
       " '/Volumes/gilles/Transfert/Copies-iMac-GB/2015-Data/Samples/Verbes3Rnd/MGC-10000Ko-17-T10000000-F56162-Tirage.pkl',\n",
       " '/Volumes/gilles/Transfert/Copies-iMac-GB/2015-Data/Samples/Verbes3Rnd/MGC-10000Ko-06-T10000000-F56013-Tirage.pkl',\n",
       " '/Volumes/gilles/Transfert/Copies-iMac-GB/2015-Data/Samples/Verbes3Rnd/MGC-10000Ko-35-T10000000-F55896-Tirage.pkl',\n",
       " '/Volumes/gilles/Transfert/Copies-iMac-GB/2015-Data/Samples/Verbes3Rnd/MGC-10000Ko-38-T10000000-F56119-Tirage.pkl',\n",
       " '/Volumes/gilles/Transfert/Copies-iMac-GB/2015-Data/Samples/Verbes3Rnd/MGC-10000Ko-28-T10000000-F55998-Tirage.pkl',\n",
       " '/Volumes/gilles/Transfert/Copies-iMac-GB/2015-Data/Samples/Verbes3Rnd/MGC-1000Ko-49-T1000000-F29728-Tirage.pkl',\n",
       " '/Volumes/gilles/Transfert/Copies-iMac-GB/2015-Data/Samples/Verbes3Rnd/MGC-1000Ko-12-T1000000-F29721-Tirage.pkl',\n",
       " '/Volumes/gilles/Transfert/Copies-iMac-GB/2015-Data/Samples/Verbes3Rnd/MGC-10000Ko-24-T10000000-F56022-Tirage.pkl',\n",
       " '/Volumes/gilles/Transfert/Copies-iMac-GB/2015-Data/Samples/Verbes3Rnd/MGC-1000Ko-18-T1000000-F29874-Tirage.pkl',\n",
       " '/Volumes/gilles/Transfert/Copies-iMac-GB/2015-Data/Samples/Verbes3Rnd/MGC-1000Ko-39-T1000000-F29764-Tirage.pkl',\n",
       " '/Volumes/gilles/Transfert/Copies-iMac-GB/2015-Data/Samples/Verbes3Rnd/MGC-1000Ko-43-T1000000-F29881-Tirage.pkl',\n",
       " '/Volumes/gilles/Transfert/Copies-iMac-GB/2015-Data/Samples/Verbes3Rnd/MGC-1000Ko-32-T1000000-F29816-Tirage.pkl',\n",
       " '/Volumes/gilles/Transfert/Copies-iMac-GB/2015-Data/Samples/Verbes3Rnd/MGC-1000Ko-46-T1000000-F29842-Tirage.pkl',\n",
       " '/Volumes/gilles/Transfert/Copies-iMac-GB/2015-Data/Samples/Verbes3Rnd/MGC-10000Ko-19-T10000000-F55983-Tirage.pkl',\n",
       " '/Volumes/gilles/Transfert/Copies-iMac-GB/2015-Data/Samples/Verbes3Rnd/MGC-10000Ko-47-T10000000-F56010-Tirage.pkl',\n",
       " '/Volumes/gilles/Transfert/Copies-iMac-GB/2015-Data/Samples/Verbes3Rnd/MGC-10000Ko-15-T10000000-F55902-Tirage.pkl',\n",
       " '/Volumes/gilles/Transfert/Copies-iMac-GB/2015-Data/Samples/Verbes3Rnd/MGC-10000Ko-39-T10000000-F55979-Tirage.pkl',\n",
       " '/Volumes/gilles/Transfert/Copies-iMac-GB/2015-Data/Samples/Verbes3Rnd/MGC-1000Ko-10-T1000000-F29807-Tirage.pkl',\n",
       " '/Volumes/gilles/Transfert/Copies-iMac-GB/2015-Data/Samples/Verbes3Rnd/MGC-10000Ko-25-T10000000-F56203-Tirage.pkl',\n",
       " '/Volumes/gilles/Transfert/Copies-iMac-GB/2015-Data/Samples/Verbes3Rnd/MGC-10000Ko-20-T10000000-F56041-Tirage.pkl',\n",
       " '/Volumes/gilles/Transfert/Copies-iMac-GB/2015-Data/Samples/Verbes3Rnd/MGC-10000Ko-41-T10000000-F55960-Tirage.pkl',\n",
       " '/Volumes/gilles/Transfert/Copies-iMac-GB/2015-Data/Samples/Verbes3Rnd/MGC-1000Ko-31-T1000000-F29812-Tirage.pkl',\n",
       " '/Volumes/gilles/Transfert/Copies-iMac-GB/2015-Data/Samples/Verbes3Rnd/MGC-10000Ko-37-T10000000-F56045-Tirage.pkl',\n",
       " '/Volumes/gilles/Transfert/Copies-iMac-GB/2015-Data/Samples/Verbes3Rnd/MGC-1000Ko-07-T1000000-F29830-Tirage.pkl',\n",
       " '/Volumes/gilles/Transfert/Copies-iMac-GB/2015-Data/Samples/Verbes3Rnd/MGC-10000Ko-00-T10000000-F55810-Tirage.pkl',\n",
       " '/Volumes/gilles/Transfert/Copies-iMac-GB/2015-Data/Samples/Verbes3Rnd/MGC-10000Ko-36-T10000000-F56069-Tirage.pkl',\n",
       " '/Volumes/gilles/Transfert/Copies-iMac-GB/2015-Data/Samples/Verbes3Rnd/MGC-1000Ko-01-T1000000-F29741-Tirage.pkl',\n",
       " '/Volumes/gilles/Transfert/Copies-iMac-GB/2015-Data/Samples/Verbes3Rnd/MGC-1000Ko-25-T1000000-F29871-Tirage.pkl',\n",
       " '/Volumes/gilles/Transfert/Copies-iMac-GB/2015-Data/Samples/Verbes3Rnd/MGC-1000Ko-38-T1000000-F29830-Tirage.pkl',\n",
       " '/Volumes/gilles/Transfert/Copies-iMac-GB/2015-Data/Samples/Verbes3Rnd/MGC-1000Ko-44-T1000000-F29858-Tirage.pkl',\n",
       " '/Volumes/gilles/Transfert/Copies-iMac-GB/2015-Data/Samples/Verbes3Rnd/MGC-10000Ko-02-T10000000-F56212-Tirage.pkl',\n",
       " '/Volumes/gilles/Transfert/Copies-iMac-GB/2015-Data/Samples/Verbes3Rnd/MGC-1000Ko-00-T1000000-F29829-Tirage.pkl']"
      ]
     },
     "execution_count": 31,
     "metadata": {},
     "output_type": "execute_result"
    }
   ],
   "source": [
    "listeTirages=glob.glob(repNom+\"*-Tirage.pkl\")\n",
    "listeTirages"
   ]
  },
  {
   "cell_type": "code",
   "execution_count": 32,
   "metadata": {},
   "outputs": [],
   "source": [
    "def tiragesNom(nom):\n",
    "    result=[tirage for tirage in listeTirages if nom in tirage]\n",
    "    return result"
   ]
  },
  {
   "cell_type": "code",
   "execution_count": 33,
   "metadata": {},
   "outputs": [],
   "source": [
    "compositionLongitudinale=[(\"1Ko\",10),(\"10Ko\",9),(\"100Ko\",9),(\"1Mo\",19)]\n",
    "compositionLongitudinale=[(\"10Mo\",20)]\n",
    "compositionLongitudinale=[(\"10Ko\",10),(\"100Ko\",9),(\"1Mo\",9)]\n",
    "compositionLongitudinale=[(\"1000Ko\",20)]\n",
    "compositionLongitudinale=[(\"1000Ko\",5),(\"10000Ko\",10)]\n",
    "compositionLongitudinale=[(\"10000Ko\",10)]"
   ]
  },
  {
   "cell_type": "code",
   "execution_count": 34,
   "metadata": {},
   "outputs": [
    {
     "data": {
      "text/plain": [
       "['/Volumes/gilles/Transfert/Copies-iMac-GB/2015-Data/Samples/Verbes3Rnd/MGC-10000Ko-45-T10000000-F55951-Tirage.pkl',\n",
       " '/Volumes/gilles/Transfert/Copies-iMac-GB/2015-Data/Samples/Verbes3Rnd/MGC-10000Ko-40-T10000000-F56007-Tirage.pkl',\n",
       " '/Volumes/gilles/Transfert/Copies-iMac-GB/2015-Data/Samples/Verbes3Rnd/MGC-10000Ko-24-T10000000-F56022-Tirage.pkl',\n",
       " '/Volumes/gilles/Transfert/Copies-iMac-GB/2015-Data/Samples/Verbes3Rnd/MGC-10000Ko-23-T10000000-F56019-Tirage.pkl',\n",
       " '/Volumes/gilles/Transfert/Copies-iMac-GB/2015-Data/Samples/Verbes3Rnd/MGC-10000Ko-11-T10000000-F55938-Tirage.pkl',\n",
       " '/Volumes/gilles/Transfert/Copies-iMac-GB/2015-Data/Samples/Verbes3Rnd/MGC-10000Ko-19-T10000000-F55983-Tirage.pkl',\n",
       " '/Volumes/gilles/Transfert/Copies-iMac-GB/2015-Data/Samples/Verbes3Rnd/MGC-10000Ko-33-T10000000-F55892-Tirage.pkl',\n",
       " '/Volumes/gilles/Transfert/Copies-iMac-GB/2015-Data/Samples/Verbes3Rnd/MGC-10000Ko-43-T10000000-F55961-Tirage.pkl',\n",
       " '/Volumes/gilles/Transfert/Copies-iMac-GB/2015-Data/Samples/Verbes3Rnd/MGC-10000Ko-47-T10000000-F56010-Tirage.pkl',\n",
       " '/Volumes/gilles/Transfert/Copies-iMac-GB/2015-Data/Samples/Verbes3Rnd/MGC-10000Ko-04-T10000000-F55902-Tirage.pkl']"
      ]
     },
     "execution_count": 34,
     "metadata": {},
     "output_type": "execute_result"
    }
   ],
   "source": [
    "serieLongitudinale=[]\n",
    "for serie,nbSerie in compositionLongitudinale:\n",
    "    for nom in rd.sample(tiragesNom(serie),nbSerie):\n",
    "        m=re.match(ur\"^.*-%s-(\\d{2})-T.*-F.*-Tirage.*\"%serie,nom)\n",
    "        if m:\n",
    "#            print m.group(1), nom\n",
    "            serieLongitudinale.append(nom)\n",
    "        else:\n",
    "            print \"mauvais nom de fichier\",nom\n",
    "serieLongitudinale"
   ]
  },
  {
   "cell_type": "code",
   "execution_count": 35,
   "metadata": {},
   "outputs": [],
   "source": [
    "def lireLexique(nomLexique):\n",
    "    with open(nomLexique, 'rb') as input:\n",
    "        lexique=pickle.load(input)\n",
    "    return lexique"
   ]
  },
  {
   "cell_type": "code",
   "execution_count": 36,
   "metadata": {},
   "outputs": [],
   "source": [
    "indexLexique=lireLexique(serieLongitudinale[0])\n",
    "indexLexique[\"tir1\"]=0\n",
    "nTirageDepart=0\n",
    "if tirageDepart:\n",
    "    lexique,cumulLexique=lireLexique(tirageDepart).align(indexLexique)\n",
    "    cumulLexique[\"tir1\"]=cumulLexique[\"tir1\"].fillna(value=0)+lexique[\"tir1\"].fillna(value=0)\n",
    "    nTirageDepart=int(tirageDepart.rsplit(\"/\")[-1].split(\"-\")[1])+1"
   ]
  },
  {
   "cell_type": "code",
   "execution_count": 37,
   "metadata": {},
   "outputs": [
    {
     "data": {
      "text/plain": [
       "100000000.0"
      ]
     },
     "execution_count": 37,
     "metadata": {},
     "output_type": "execute_result"
    }
   ],
   "source": [
    "cumulLexique[\"tir1\"].sum()"
   ]
  },
  {
   "cell_type": "code",
   "execution_count": 38,
   "metadata": {},
   "outputs": [
    {
     "data": {
      "text/plain": [
       "19"
      ]
     },
     "execution_count": 38,
     "metadata": {},
     "output_type": "execute_result"
    }
   ],
   "source": [
    "nTirageDepart"
   ]
  },
  {
   "cell_type": "code",
   "execution_count": 39,
   "metadata": {},
   "outputs": [
    {
     "name": "stdout",
     "output_type": "stream",
     "text": [
      "(110000000,328098),\n",
      "(110000000,81037),\n",
      "(120000000,328098),\n",
      "(120000000,81765),\n",
      "(130000000,328098),\n",
      "(130000000,82390),\n",
      "(140000000,328098),\n",
      "(140000000,83015),\n",
      "(150000000,328098),\n",
      "(150000000,83015),\n",
      "(160000000,328098),\n",
      "(160000000,83575),\n",
      "(170000000,328098),\n",
      "(170000000,84110),\n",
      "(180000000,328098),\n",
      "(180000000,84589),\n",
      "(190000000,328098),\n",
      "(190000000,85038),\n",
      "(200000000,328098),\n",
      "(200000000,85441),\n"
     ]
    },
    {
     "data": {
      "text/plain": [
       "{'samples': {0: 'MGC-1000Ko-30-T1000000-F29754-Tirage.pkl',\n",
       "  1: 'MGC-1000Ko-25-T1000000-F29871-Tirage.pkl',\n",
       "  2: 'MGC-1000Ko-40-T1000000-F29822-Tirage.pkl',\n",
       "  3: 'MGC-1000Ko-34-T1000000-F29725-Tirage.pkl',\n",
       "  4: 'MGC-1000Ko-04-T1000000-F29837-Tirage.pkl',\n",
       "  5: 'MGC-1000Ko-19-T1000000-F29883-Tirage.pkl',\n",
       "  6: 'MGC-1000Ko-07-T1000000-F29830-Tirage.pkl',\n",
       "  7: 'MGC-1000Ko-31-T1000000-F29812-Tirage.pkl',\n",
       "  8: 'MGC-1000Ko-00-T1000000-F29829-Tirage.pkl',\n",
       "  9: 'MGC-1000Ko-24-T1000000-F29750-Tirage.pkl',\n",
       "  10: 'MGC-10000Ko-44-T10000000-F56009-Tirage.pkl',\n",
       "  11: 'MGC-10000Ko-13-T10000000-F56043-Tirage.pkl',\n",
       "  12: 'MGC-10000Ko-11-T10000000-F55938-Tirage.pkl',\n",
       "  13: 'MGC-10000Ko-35-T10000000-F55896-Tirage.pkl',\n",
       "  14: 'MGC-10000Ko-18-T10000000-F56045-Tirage.pkl',\n",
       "  15: 'MGC-10000Ko-03-T10000000-F55999-Tirage.pkl',\n",
       "  16: 'MGC-10000Ko-41-T10000000-F55960-Tirage.pkl',\n",
       "  17: 'MGC-10000Ko-05-T10000000-F55876-Tirage.pkl',\n",
       "  18: 'MGC-10000Ko-31-T10000000-F56267-Tirage.pkl',\n",
       "  19: 'MGC-10000Ko-45-T10000000-F55951-Tirage.pkl',\n",
       "  20: 'MGC-10000Ko-40-T10000000-F56007-Tirage.pkl',\n",
       "  21: 'MGC-10000Ko-24-T10000000-F56022-Tirage.pkl',\n",
       "  22: 'MGC-10000Ko-23-T10000000-F56019-Tirage.pkl',\n",
       "  23: 'MGC-10000Ko-11-T10000000-F55938-Tirage.pkl',\n",
       "  24: 'MGC-10000Ko-19-T10000000-F55983-Tirage.pkl',\n",
       "  25: 'MGC-10000Ko-33-T10000000-F55892-Tirage.pkl',\n",
       "  26: 'MGC-10000Ko-43-T10000000-F55961-Tirage.pkl',\n",
       "  27: 'MGC-10000Ko-47-T10000000-F56010-Tirage.pkl',\n",
       "  28: 'MGC-10000Ko-04-T10000000-F55902-Tirage.pkl'}}"
      ]
     },
     "execution_count": 39,
     "metadata": {},
     "output_type": "execute_result"
    }
   ],
   "source": [
    "timeStamp=dt.datetime.now().strftime(\"%y%m%d-%H%M\")\n",
    "for nTirage,tirage in enumerate(serieLongitudinale):\n",
    "    lexique=lireLexique(tirage)\n",
    "    if cumule:\n",
    "        cumulLexique[\"tir1\"]=cumulLexique[\"tir1\"]+lexique[\"tir1\"]\n",
    "    else:\n",
    "        cumulLexique[\"tir1\"]=lexique[\"tir1\"]\n",
    "    print \"(%d,%d),\"%(cumulLexique[\"tir1\"].sum(),cumulLexique[\"tir1\"].count())\n",
    "    lexique1=cumulLexique[cumulLexique[\"tir1\"]>0]\n",
    "    nbTokens=lexique1[\"tir1\"].sum()\n",
    "    nbTypes=lexique1[\"tir1\"].count()\n",
    "    print \"(%d,%d),\"%(nbTokens,nbTypes)\n",
    "    composition[\"samples\"][nTirage+nTirageDepart]=tirage.split(\"/\")[-1]\n",
    "    sortieNom=repNomSortie+\"Longitudinal-%02d-T%d-F%d.pkl\"%(nTirage+nTirageDepart,nbTokens,nbTypes)\n",
    "    with open(sortieNom,\"wb\") as output:\n",
    "        pickle.dump(lexique1, output, pickle.HIGHEST_PROTOCOL)\n",
    "composition"
   ]
  },
  {
   "cell_type": "code",
   "execution_count": 40,
   "metadata": {},
   "outputs": [],
   "source": [
    "yaml.safe_dump(composition, file(repNomSortie+\"Composition-%s.yaml\"%dateStamp, 'w'), encoding='utf-8', allow_unicode=True)"
   ]
  },
  {
   "cell_type": "code",
   "execution_count": null,
   "metadata": {},
   "outputs": [],
   "source": []
  }
 ],
 "metadata": {
  "kernelspec": {
   "display_name": "Python 2",
   "language": "python",
   "name": "python2"
  },
  "language_info": {
   "codemirror_mode": {
    "name": "ipython",
    "version": 2
   },
   "file_extension": ".py",
   "mimetype": "text/x-python",
   "name": "python",
   "nbconvert_exporter": "python",
   "pygments_lexer": "ipython2",
   "version": "2.7.11"
  }
 },
 "nbformat": 4,
 "nbformat_minor": 1
}
