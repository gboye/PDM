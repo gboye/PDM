{
 "cells": [
  {
   "cell_type": "code",
   "execution_count": 68,
   "metadata": {
    "collapsed": true
   },
   "outputs": [],
   "source": [
    "import pandas as pd\n",
    "import random as rd\n",
    "import datetime as dt\n",
    "import pickle,glob,re"
   ]
  },
  {
   "cell_type": "code",
   "execution_count": 69,
   "metadata": {
    "collapsed": true
   },
   "outputs": [],
   "source": [
    "cumule=True\n",
    "#repNom=\"/Users/gilles/Box Sync/2015-Data/Samples/Adjectifs/\"\n",
    "repNom=\"/Volumes/gilles/Transfert/Copies-iMac-GB/2015-Data/Samples/Verbes3/\"\n",
    "#repNomSortie=\"/Users/gilles/Box Sync/2015-Data/FlexionAdjectifs/\"\n",
    "repNomSortie=\"/Volumes/gilles/Transfert/Copies-iMac-GB/2015-Data/Longitudinales/\"\n",
    "tirageDepart=\"/Volumes/gilles/Transfert/Copies-iMac-GB/2015-Data/Longitudinales/Longitudinal-49-T500000-F31170.pkl\""
   ]
  },
  {
   "cell_type": "code",
   "execution_count": 70,
   "metadata": {
    "collapsed": true
   },
   "outputs": [],
   "source": [
    "listeTirages=glob.glob(repNom+\"*-Tirage.pkl\")"
   ]
  },
  {
   "cell_type": "code",
   "execution_count": 71,
   "metadata": {
    "collapsed": true
   },
   "outputs": [],
   "source": [
    "def tiragesNom(nom):\n",
    "    result=[tirage for tirage in listeTirages if nom in tirage]\n",
    "    return result"
   ]
  },
  {
   "cell_type": "code",
   "execution_count": 72,
   "metadata": {
    "collapsed": true
   },
   "outputs": [],
   "source": [
    "compositionLongitudinale=[(\"1Ko\",10),(\"10Ko\",9),(\"100Ko\",9),(\"1Mo\",19)]\n",
    "compositionLongitudinale=[(\"10Mo\",20)]\n",
    "compositionLongitudinale=[(\"10Ko\",10),(\"100Ko\",9),(\"1Mo\",9)]\n",
    "compositionLongitudinale=[(\"100Ko\",6)]"
   ]
  },
  {
   "cell_type": "code",
   "execution_count": 73,
   "metadata": {},
   "outputs": [
    {
     "data": {
      "text/plain": [
       "['/Volumes/gilles/Transfert/Copies-iMac-GB/2015-Data/Samples/Verbes3/MGC-100Ko-16-T100000-F14845-Tirage.pkl',\n",
       " '/Volumes/gilles/Transfert/Copies-iMac-GB/2015-Data/Samples/Verbes3/MGC-100Ko-26-T100000-F14857-Tirage.pkl',\n",
       " '/Volumes/gilles/Transfert/Copies-iMac-GB/2015-Data/Samples/Verbes3/MGC-100Ko-15-T100000-F14718-Tirage.pkl',\n",
       " '/Volumes/gilles/Transfert/Copies-iMac-GB/2015-Data/Samples/Verbes3/MGC-100Ko-29-T100000-F14954-Tirage.pkl',\n",
       " '/Volumes/gilles/Transfert/Copies-iMac-GB/2015-Data/Samples/Verbes3/MGC-100Ko-38-T100000-F14871-Tirage.pkl',\n",
       " '/Volumes/gilles/Transfert/Copies-iMac-GB/2015-Data/Samples/Verbes3/MGC-100Ko-05-T100000-F14872-Tirage.pkl']"
      ]
     },
     "execution_count": 73,
     "metadata": {},
     "output_type": "execute_result"
    }
   ],
   "source": [
    "serieLongitudinale=[]\n",
    "for serie,nbSerie in compositionLongitudinale:\n",
    "    for nom in rd.sample(tiragesNom(serie),nbSerie):\n",
    "        m=re.match(ur\"^.*-%s-(\\d{2})-T.*-F.*-Tirage.*\"%serie,nom)\n",
    "        if m:\n",
    "#            print m.group(1), nom\n",
    "            serieLongitudinale.append(nom)\n",
    "        else:\n",
    "            print \"mauvais nom de fichier\",nom\n",
    "serieLongitudinale"
   ]
  },
  {
   "cell_type": "code",
   "execution_count": 74,
   "metadata": {
    "collapsed": true
   },
   "outputs": [],
   "source": [
    "def lireLexique(nomLexique):\n",
    "    with open(nomLexique, 'rb') as input:\n",
    "        lexique=pickle.load(input)\n",
    "    return lexique"
   ]
  },
  {
   "cell_type": "code",
   "execution_count": 79,
   "metadata": {
    "collapsed": true
   },
   "outputs": [],
   "source": [
    "indexLexique=lireLexique(serieLongitudinale[0])\n",
    "indexLexique[\"tir1\"]=0\n",
    "nTirageDepart=0\n",
    "if tirageDepart:\n",
    "    lexique,cumulLexique=lireLexique(tirageDepart).align(indexLexique)\n",
    "    cumulLexique[\"tir1\"]=cumulLexique[\"tir1\"].fillna(value=0)+lexique[\"tir1\"].fillna(value=0)\n",
    "    nTirageDepart=int(tirageDepart.rsplit(\"/\")[-1].split(\"-\")[1])+1"
   ]
  },
  {
   "cell_type": "code",
   "execution_count": 80,
   "metadata": {},
   "outputs": [
    {
     "data": {
      "text/plain": [
       "500000.0"
      ]
     },
     "execution_count": 80,
     "metadata": {},
     "output_type": "execute_result"
    }
   ],
   "source": [
    "cumulLexique[\"tir1\"].sum()"
   ]
  },
  {
   "cell_type": "code",
   "execution_count": 77,
   "metadata": {},
   "outputs": [
    {
     "data": {
      "text/plain": [
       "50"
      ]
     },
     "execution_count": 77,
     "metadata": {},
     "output_type": "execute_result"
    }
   ],
   "source": [
    "nTirageDepart"
   ]
  },
  {
   "cell_type": "code",
   "execution_count": 81,
   "metadata": {},
   "outputs": [
    {
     "name": "stdout",
     "output_type": "stream",
     "text": [
      "(600000,328098),\n",
      "(600000,33424),\n",
      "(700000,328098),\n",
      "(700000,35357),\n",
      "(800000,328098),\n",
      "(800000,36975),\n",
      "(900000,328098),\n",
      "(900000,38562),\n",
      "(1000000,328098),\n",
      "(1000000,39898),\n",
      "(1100000,328098),\n",
      "(1100000,41134),\n"
     ]
    }
   ],
   "source": [
    "timeStamp=dt.datetime.now().strftime(\"%y%m%d-%H%M\")\n",
    "for nTirage,tirage in enumerate(serieLongitudinale):\n",
    "    lexique=lireLexique(tirage)\n",
    "    if cumule:\n",
    "        cumulLexique[\"tir1\"]=cumulLexique[\"tir1\"]+lexique[\"tir1\"]\n",
    "    else:\n",
    "        cumulLexique[\"tir1\"]=lexique[\"tir1\"]\n",
    "    print \"(%d,%d),\"%(cumulLexique[\"tir1\"].sum(),cumulLexique[\"tir1\"].count())\n",
    "    lexique1=cumulLexique[cumulLexique[\"tir1\"]>0]\n",
    "    nbTokens=lexique1[\"tir1\"].sum()\n",
    "    nbTypes=lexique1[\"tir1\"].count()\n",
    "    print \"(%d,%d),\"%(nbTokens,nbTypes)\n",
    "    sortieNom=repNomSortie+\"Longitudinal-%02d-T%d-F%d.pkl\"%(nTirage+nTirageDepart,nbTokens,nbTypes)\n",
    "    with open(sortieNom,\"wb\") as output:\n",
    "        pickle.dump(lexique1, output, pickle.HIGHEST_PROTOCOL)"
   ]
  },
  {
   "cell_type": "code",
   "execution_count": null,
   "metadata": {
    "collapsed": true
   },
   "outputs": [],
   "source": []
  }
 ],
 "metadata": {
  "kernelspec": {
   "display_name": "Python 2",
   "language": "python",
   "name": "python2"
  },
  "language_info": {
   "codemirror_mode": {
    "name": "ipython",
    "version": 2
   },
   "file_extension": ".py",
   "mimetype": "text/x-python",
   "name": "python",
   "nbconvert_exporter": "python",
   "pygments_lexer": "ipython2",
   "version": "2.7.11"
  }
 },
 "nbformat": 4,
 "nbformat_minor": 1
}
