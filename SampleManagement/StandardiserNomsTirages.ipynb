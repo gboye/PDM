{
 "cells": [
  {
   "cell_type": "code",
   "execution_count": 11,
   "metadata": {
    "collapsed": true
   },
   "outputs": [],
   "source": [
    "import glob,re,os"
   ]
  },
  {
   "cell_type": "code",
   "execution_count": 24,
   "metadata": {
    "collapsed": true
   },
   "outputs": [],
   "source": [
    "listeTirages=glob.glob(\"/Users/gilles/Box Sync/2015-Data/FlexionAdjectifs/Longitudinal*.pkl\")"
   ]
  },
  {
   "cell_type": "code",
   "execution_count": 25,
   "metadata": {
    "collapsed": true
   },
   "outputs": [],
   "source": [
    "def tiragesNom(nom):\n",
    "    result=[tirage for tirage in listeTirages if nom in tirage]\n",
    "    return result"
   ]
  },
  {
   "cell_type": "code",
   "execution_count": 29,
   "metadata": {},
   "outputs": [
    {
     "data": {
      "text/plain": [
       "['/Users/gilles/Box Sync/2015-Data/FlexionAdjectifs/Longitudinal-00-T10000-F2994-170718-1253-S-170718-1318-Morphomes-Regles.pkl',\n",
       " '/Users/gilles/Box Sync/2015-Data/FlexionAdjectifs/Longitudinal-00-T10000-F2994-170718-1253-S-170718-1318-Morphomes.pkl',\n",
       " '/Users/gilles/Box Sync/2015-Data/FlexionAdjectifs/Longitudinal-00-T10000-F2994-170718-1253.pkl',\n",
       " '/Users/gilles/Box Sync/2015-Data/FlexionAdjectifs/Longitudinal-01-T20000-F4568-170718-1253-S-170718-1318-Morphomes.pkl',\n",
       " '/Users/gilles/Box Sync/2015-Data/FlexionAdjectifs/Longitudinal-01-T20000-F4568-170718-1253.pkl',\n",
       " '/Users/gilles/Box Sync/2015-Data/FlexionAdjectifs/Longitudinal-02-T30000-F5701-170718-1253-S-170718-1318-Morphomes.pkl',\n",
       " '/Users/gilles/Box Sync/2015-Data/FlexionAdjectifs/Longitudinal-02-T30000-F5701-170718-1253.pkl',\n",
       " '/Users/gilles/Box Sync/2015-Data/FlexionAdjectifs/Longitudinal-03-T40000-F6652-170718-1253-S-170718-1318-Morphomes.pkl',\n",
       " '/Users/gilles/Box Sync/2015-Data/FlexionAdjectifs/Longitudinal-03-T40000-F6652-170718-1253.pkl',\n",
       " '/Users/gilles/Box Sync/2015-Data/FlexionAdjectifs/Longitudinal-04-T50000-F7385-170718-1253-S-170718-1318-Morphomes.pkl',\n",
       " '/Users/gilles/Box Sync/2015-Data/FlexionAdjectifs/Longitudinal-04-T50000-F7385-170718-1253.pkl',\n",
       " '/Users/gilles/Box Sync/2015-Data/FlexionAdjectifs/Longitudinal-05-T60000-F8040-170718-1253-S-170718-1318-Morphomes.pkl',\n",
       " '/Users/gilles/Box Sync/2015-Data/FlexionAdjectifs/Longitudinal-05-T60000-F8040-170718-1253.pkl',\n",
       " '/Users/gilles/Box Sync/2015-Data/FlexionAdjectifs/Longitudinal-06-T70000-F8568-170718-1253-S-170718-1318-Morphomes.pkl',\n",
       " '/Users/gilles/Box Sync/2015-Data/FlexionAdjectifs/Longitudinal-06-T70000-F8568-170718-1253.pkl',\n",
       " '/Users/gilles/Box Sync/2015-Data/FlexionAdjectifs/Longitudinal-07-T80000-F9081-170718-1253-S-170718-1318-Morphomes.pkl',\n",
       " '/Users/gilles/Box Sync/2015-Data/FlexionAdjectifs/Longitudinal-07-T80000-F9081-170718-1253.pkl',\n",
       " '/Users/gilles/Box Sync/2015-Data/FlexionAdjectifs/Longitudinal-08-T90000-F9561-170718-1253-S-170718-1318-Morphomes.pkl',\n",
       " '/Users/gilles/Box Sync/2015-Data/FlexionAdjectifs/Longitudinal-08-T90000-F9561-170718-1253.pkl',\n",
       " '/Users/gilles/Box Sync/2015-Data/FlexionAdjectifs/Longitudinal-09-T100000-F9974-170718-1253-S-170718-1318-Morphomes.pkl',\n",
       " '/Users/gilles/Box Sync/2015-Data/FlexionAdjectifs/Longitudinal-09-T100000-F9974-170718-1253.pkl',\n",
       " '/Users/gilles/Box Sync/2015-Data/FlexionAdjectifs/Longitudinal-10-T200000-F12719-170718-1253-S-170718-1318-Morphomes.pkl',\n",
       " '/Users/gilles/Box Sync/2015-Data/FlexionAdjectifs/Longitudinal-10-T200000-F12719-170718-1253.pkl',\n",
       " '/Users/gilles/Box Sync/2015-Data/FlexionAdjectifs/Longitudinal-11-T300000-F14300-170718-1253-S-170718-1318-Morphomes.pkl',\n",
       " '/Users/gilles/Box Sync/2015-Data/FlexionAdjectifs/Longitudinal-11-T300000-F14300-170718-1253.pkl',\n",
       " '/Users/gilles/Box Sync/2015-Data/FlexionAdjectifs/Longitudinal-12-T400000-F15326-170718-1253-S-170718-1318-Morphomes.pkl',\n",
       " '/Users/gilles/Box Sync/2015-Data/FlexionAdjectifs/Longitudinal-12-T400000-F15326-170718-1253.pkl',\n",
       " '/Users/gilles/Box Sync/2015-Data/FlexionAdjectifs/Longitudinal-13-T500000-F16117-170718-1253-S-170718-1319-Morphomes.pkl',\n",
       " '/Users/gilles/Box Sync/2015-Data/FlexionAdjectifs/Longitudinal-13-T500000-F16117-170718-1253.pkl',\n",
       " '/Users/gilles/Box Sync/2015-Data/FlexionAdjectifs/Longitudinal-14-T600000-F16725-170718-1253-S-170718-1319-Morphomes.pkl',\n",
       " '/Users/gilles/Box Sync/2015-Data/FlexionAdjectifs/Longitudinal-14-T600000-F16725-170718-1253.pkl',\n",
       " '/Users/gilles/Box Sync/2015-Data/FlexionAdjectifs/Longitudinal-15-T700000-F17209-170718-1253-S-170718-1319-Morphomes.pkl',\n",
       " '/Users/gilles/Box Sync/2015-Data/FlexionAdjectifs/Longitudinal-15-T700000-F17209-170718-1253.pkl',\n",
       " '/Users/gilles/Box Sync/2015-Data/FlexionAdjectifs/Longitudinal-16-T800000-F17602-170718-1253-S-170718-1319-Morphomes.pkl',\n",
       " '/Users/gilles/Box Sync/2015-Data/FlexionAdjectifs/Longitudinal-16-T800000-F17602-170718-1253.pkl',\n",
       " '/Users/gilles/Box Sync/2015-Data/FlexionAdjectifs/Longitudinal-17-T900000-F17925-170718-1253-S-170718-1319-Morphomes.pkl',\n",
       " '/Users/gilles/Box Sync/2015-Data/FlexionAdjectifs/Longitudinal-17-T900000-F17925-170718-1253.pkl',\n",
       " '/Users/gilles/Box Sync/2015-Data/FlexionAdjectifs/Longitudinal-18-T1000000-F18210-170718-1253-S-170718-1319-Morphomes.pkl',\n",
       " '/Users/gilles/Box Sync/2015-Data/FlexionAdjectifs/Longitudinal-18-T1000000-F18210-170718-1253.pkl',\n",
       " '/Users/gilles/Box Sync/2015-Data/FlexionAdjectifs/Longitudinal-19-T2000000-F19654-170718-1253-S-170718-1319-Morphomes.pkl',\n",
       " '/Users/gilles/Box Sync/2015-Data/FlexionAdjectifs/Longitudinal-19-T2000000-F19654-170718-1253.pkl',\n",
       " '/Users/gilles/Box Sync/2015-Data/FlexionAdjectifs/Longitudinal-20-T3000000-F20160-170718-1253-S-170718-1319-Morphomes.pkl',\n",
       " '/Users/gilles/Box Sync/2015-Data/FlexionAdjectifs/Longitudinal-20-T3000000-F20160-170718-1253.pkl',\n",
       " '/Users/gilles/Box Sync/2015-Data/FlexionAdjectifs/Longitudinal-21-T4000000-F20440-170718-1253-S-170718-1319-Morphomes.pkl',\n",
       " '/Users/gilles/Box Sync/2015-Data/FlexionAdjectifs/Longitudinal-21-T4000000-F20440-170718-1253.pkl',\n",
       " '/Users/gilles/Box Sync/2015-Data/FlexionAdjectifs/Longitudinal-22-T5000000-F20590-170718-1253-S-170718-1319-Morphomes.pkl',\n",
       " '/Users/gilles/Box Sync/2015-Data/FlexionAdjectifs/Longitudinal-22-T5000000-F20590-170718-1253.pkl',\n",
       " '/Users/gilles/Box Sync/2015-Data/FlexionAdjectifs/Longitudinal-23-T6000000-F20701-170718-1253-S-170718-1319-Morphomes.pkl',\n",
       " '/Users/gilles/Box Sync/2015-Data/FlexionAdjectifs/Longitudinal-23-T6000000-F20701-170718-1253.pkl',\n",
       " '/Users/gilles/Box Sync/2015-Data/FlexionAdjectifs/Longitudinal-24-T7000000-F20791-170718-1253-S-170718-1319-Morphomes.pkl',\n",
       " '/Users/gilles/Box Sync/2015-Data/FlexionAdjectifs/Longitudinal-24-T7000000-F20791-170718-1253.pkl',\n",
       " '/Users/gilles/Box Sync/2015-Data/FlexionAdjectifs/Longitudinal-25-T8000000-F20865-170718-1253-S-170718-1319-Morphomes.pkl',\n",
       " '/Users/gilles/Box Sync/2015-Data/FlexionAdjectifs/Longitudinal-25-T8000000-F20865-170718-1253.pkl',\n",
       " '/Users/gilles/Box Sync/2015-Data/FlexionAdjectifs/Longitudinal-26-T9000000-F20927-170718-1253-S-170718-1319-Morphomes.pkl',\n",
       " '/Users/gilles/Box Sync/2015-Data/FlexionAdjectifs/Longitudinal-26-T9000000-F20927-170718-1253.pkl',\n",
       " '/Users/gilles/Box Sync/2015-Data/FlexionAdjectifs/Longitudinal-27-T10000000-F20973-170718-1253-S-170718-1319-Morphomes.pkl',\n",
       " '/Users/gilles/Box Sync/2015-Data/FlexionAdjectifs/Longitudinal-27-T10000000-F20973-170718-1253.pkl']"
      ]
     },
     "execution_count": 29,
     "metadata": {},
     "output_type": "execute_result"
    }
   ],
   "source": [
    "serie=u\"\"\n",
    "tiragesNom(serie)"
   ]
  },
  {
   "cell_type": "code",
   "execution_count": 15,
   "metadata": {},
   "outputs": [
    {
     "name": "stdout",
     "output_type": "stream",
     "text": [
      "/Users/gilles/Box Sync/2015-Data/MGC-170717-00-10Ko-Tirage.pkl\n",
      "/Users/gilles/Box Sync/2015-Data/MGC-10Ko-00-170717-Tirage.pkl\n",
      "\n",
      "/Users/gilles/Box Sync/2015-Data/MGC-170717-01-10Ko-Tirage.pkl\n",
      "/Users/gilles/Box Sync/2015-Data/MGC-10Ko-01-170717-Tirage.pkl\n",
      "\n",
      "/Users/gilles/Box Sync/2015-Data/MGC-170717-02-10Ko-Tirage.pkl\n",
      "/Users/gilles/Box Sync/2015-Data/MGC-10Ko-02-170717-Tirage.pkl\n",
      "\n",
      "/Users/gilles/Box Sync/2015-Data/MGC-170717-03-10Ko-Tirage.pkl\n",
      "/Users/gilles/Box Sync/2015-Data/MGC-10Ko-03-170717-Tirage.pkl\n",
      "\n",
      "/Users/gilles/Box Sync/2015-Data/MGC-170717-04-10Ko-Tirage.pkl\n",
      "/Users/gilles/Box Sync/2015-Data/MGC-10Ko-04-170717-Tirage.pkl\n",
      "\n",
      "/Users/gilles/Box Sync/2015-Data/MGC-170717-05-10Ko-Tirage.pkl\n",
      "/Users/gilles/Box Sync/2015-Data/MGC-10Ko-05-170717-Tirage.pkl\n",
      "\n",
      "/Users/gilles/Box Sync/2015-Data/MGC-170717-06-10Ko-Tirage.pkl\n",
      "/Users/gilles/Box Sync/2015-Data/MGC-10Ko-06-170717-Tirage.pkl\n",
      "\n",
      "/Users/gilles/Box Sync/2015-Data/MGC-170717-07-10Ko-Tirage.pkl\n",
      "/Users/gilles/Box Sync/2015-Data/MGC-10Ko-07-170717-Tirage.pkl\n",
      "\n",
      "/Users/gilles/Box Sync/2015-Data/MGC-170717-08-10Ko-Tirage.pkl\n",
      "/Users/gilles/Box Sync/2015-Data/MGC-10Ko-08-170717-Tirage.pkl\n",
      "\n",
      "/Users/gilles/Box Sync/2015-Data/MGC-170717-09-10Ko-Tirage.pkl\n",
      "/Users/gilles/Box Sync/2015-Data/MGC-10Ko-09-170717-Tirage.pkl\n",
      "\n"
     ]
    }
   ],
   "source": [
    "for ancienNom in tiragesNom(serie):\n",
    "    m=re.match(ur\"^(.*)(-\\d{6})(-\\d{2})(-%s)(-.*)\"%serie,ancienNom)\n",
    "    if m:\n",
    "        nouveauNom=m.group(1)+m.group(4)+m.group(3)+m.group(2)+m.group(5)\n",
    "        print ancienNom\n",
    "        print nouveauNom\n",
    "        print\n",
    "#        os.rename(ancienNom,nouveauNom)"
   ]
  },
  {
   "cell_type": "code",
   "execution_count": 34,
   "metadata": {},
   "outputs": [
    {
     "name": "stdout",
     "output_type": "stream",
     "text": [
      "/Users/gilles/Box Sync/2015-Data/FlexionAdjectifs/Longitudinal-00-T10000-F2994-170718-1253.pkl\n",
      "/Users/gilles/Box Sync/2015-Data/FlexionAdjectifs/Longitudinal-00-T10000-F2994-MSP.pkl\n",
      "\n",
      "/Users/gilles/Box Sync/2015-Data/FlexionAdjectifs/Longitudinal-01-T20000-F4568-170718-1253.pkl\n",
      "/Users/gilles/Box Sync/2015-Data/FlexionAdjectifs/Longitudinal-01-T20000-F4568-MSP.pkl\n",
      "\n",
      "/Users/gilles/Box Sync/2015-Data/FlexionAdjectifs/Longitudinal-02-T30000-F5701-170718-1253.pkl\n",
      "/Users/gilles/Box Sync/2015-Data/FlexionAdjectifs/Longitudinal-02-T30000-F5701-MSP.pkl\n",
      "\n",
      "/Users/gilles/Box Sync/2015-Data/FlexionAdjectifs/Longitudinal-03-T40000-F6652-170718-1253.pkl\n",
      "/Users/gilles/Box Sync/2015-Data/FlexionAdjectifs/Longitudinal-03-T40000-F6652-MSP.pkl\n",
      "\n",
      "/Users/gilles/Box Sync/2015-Data/FlexionAdjectifs/Longitudinal-04-T50000-F7385-170718-1253.pkl\n",
      "/Users/gilles/Box Sync/2015-Data/FlexionAdjectifs/Longitudinal-04-T50000-F7385-MSP.pkl\n",
      "\n",
      "/Users/gilles/Box Sync/2015-Data/FlexionAdjectifs/Longitudinal-05-T60000-F8040-170718-1253.pkl\n",
      "/Users/gilles/Box Sync/2015-Data/FlexionAdjectifs/Longitudinal-05-T60000-F8040-MSP.pkl\n",
      "\n",
      "/Users/gilles/Box Sync/2015-Data/FlexionAdjectifs/Longitudinal-06-T70000-F8568-170718-1253.pkl\n",
      "/Users/gilles/Box Sync/2015-Data/FlexionAdjectifs/Longitudinal-06-T70000-F8568-MSP.pkl\n",
      "\n",
      "/Users/gilles/Box Sync/2015-Data/FlexionAdjectifs/Longitudinal-07-T80000-F9081-170718-1253.pkl\n",
      "/Users/gilles/Box Sync/2015-Data/FlexionAdjectifs/Longitudinal-07-T80000-F9081-MSP.pkl\n",
      "\n",
      "/Users/gilles/Box Sync/2015-Data/FlexionAdjectifs/Longitudinal-08-T90000-F9561-170718-1253.pkl\n",
      "/Users/gilles/Box Sync/2015-Data/FlexionAdjectifs/Longitudinal-08-T90000-F9561-MSP.pkl\n",
      "\n",
      "/Users/gilles/Box Sync/2015-Data/FlexionAdjectifs/Longitudinal-09-T100000-F9974-170718-1253.pkl\n",
      "/Users/gilles/Box Sync/2015-Data/FlexionAdjectifs/Longitudinal-09-T100000-F9974-MSP.pkl\n",
      "\n",
      "/Users/gilles/Box Sync/2015-Data/FlexionAdjectifs/Longitudinal-10-T200000-F12719-170718-1253.pkl\n",
      "/Users/gilles/Box Sync/2015-Data/FlexionAdjectifs/Longitudinal-10-T200000-F12719-MSP.pkl\n",
      "\n",
      "/Users/gilles/Box Sync/2015-Data/FlexionAdjectifs/Longitudinal-11-T300000-F14300-170718-1253.pkl\n",
      "/Users/gilles/Box Sync/2015-Data/FlexionAdjectifs/Longitudinal-11-T300000-F14300-MSP.pkl\n",
      "\n",
      "/Users/gilles/Box Sync/2015-Data/FlexionAdjectifs/Longitudinal-12-T400000-F15326-170718-1253.pkl\n",
      "/Users/gilles/Box Sync/2015-Data/FlexionAdjectifs/Longitudinal-12-T400000-F15326-MSP.pkl\n",
      "\n",
      "/Users/gilles/Box Sync/2015-Data/FlexionAdjectifs/Longitudinal-13-T500000-F16117-170718-1253.pkl\n",
      "/Users/gilles/Box Sync/2015-Data/FlexionAdjectifs/Longitudinal-13-T500000-F16117-MSP.pkl\n",
      "\n",
      "/Users/gilles/Box Sync/2015-Data/FlexionAdjectifs/Longitudinal-14-T600000-F16725-170718-1253.pkl\n",
      "/Users/gilles/Box Sync/2015-Data/FlexionAdjectifs/Longitudinal-14-T600000-F16725-MSP.pkl\n",
      "\n",
      "/Users/gilles/Box Sync/2015-Data/FlexionAdjectifs/Longitudinal-15-T700000-F17209-170718-1253.pkl\n",
      "/Users/gilles/Box Sync/2015-Data/FlexionAdjectifs/Longitudinal-15-T700000-F17209-MSP.pkl\n",
      "\n",
      "/Users/gilles/Box Sync/2015-Data/FlexionAdjectifs/Longitudinal-16-T800000-F17602-170718-1253.pkl\n",
      "/Users/gilles/Box Sync/2015-Data/FlexionAdjectifs/Longitudinal-16-T800000-F17602-MSP.pkl\n",
      "\n",
      "/Users/gilles/Box Sync/2015-Data/FlexionAdjectifs/Longitudinal-17-T900000-F17925-170718-1253.pkl\n",
      "/Users/gilles/Box Sync/2015-Data/FlexionAdjectifs/Longitudinal-17-T900000-F17925-MSP.pkl\n",
      "\n",
      "/Users/gilles/Box Sync/2015-Data/FlexionAdjectifs/Longitudinal-18-T1000000-F18210-170718-1253.pkl\n",
      "/Users/gilles/Box Sync/2015-Data/FlexionAdjectifs/Longitudinal-18-T1000000-F18210-MSP.pkl\n",
      "\n",
      "/Users/gilles/Box Sync/2015-Data/FlexionAdjectifs/Longitudinal-19-T2000000-F19654-170718-1253.pkl\n",
      "/Users/gilles/Box Sync/2015-Data/FlexionAdjectifs/Longitudinal-19-T2000000-F19654-MSP.pkl\n",
      "\n",
      "/Users/gilles/Box Sync/2015-Data/FlexionAdjectifs/Longitudinal-20-T3000000-F20160-170718-1253.pkl\n",
      "/Users/gilles/Box Sync/2015-Data/FlexionAdjectifs/Longitudinal-20-T3000000-F20160-MSP.pkl\n",
      "\n",
      "/Users/gilles/Box Sync/2015-Data/FlexionAdjectifs/Longitudinal-21-T4000000-F20440-170718-1253.pkl\n",
      "/Users/gilles/Box Sync/2015-Data/FlexionAdjectifs/Longitudinal-21-T4000000-F20440-MSP.pkl\n",
      "\n",
      "/Users/gilles/Box Sync/2015-Data/FlexionAdjectifs/Longitudinal-22-T5000000-F20590-170718-1253.pkl\n",
      "/Users/gilles/Box Sync/2015-Data/FlexionAdjectifs/Longitudinal-22-T5000000-F20590-MSP.pkl\n",
      "\n",
      "/Users/gilles/Box Sync/2015-Data/FlexionAdjectifs/Longitudinal-23-T6000000-F20701-170718-1253.pkl\n",
      "/Users/gilles/Box Sync/2015-Data/FlexionAdjectifs/Longitudinal-23-T6000000-F20701-MSP.pkl\n",
      "\n",
      "/Users/gilles/Box Sync/2015-Data/FlexionAdjectifs/Longitudinal-24-T7000000-F20791-170718-1253.pkl\n",
      "/Users/gilles/Box Sync/2015-Data/FlexionAdjectifs/Longitudinal-24-T7000000-F20791-MSP.pkl\n",
      "\n",
      "/Users/gilles/Box Sync/2015-Data/FlexionAdjectifs/Longitudinal-25-T8000000-F20865-170718-1253.pkl\n",
      "/Users/gilles/Box Sync/2015-Data/FlexionAdjectifs/Longitudinal-25-T8000000-F20865-MSP.pkl\n",
      "\n",
      "/Users/gilles/Box Sync/2015-Data/FlexionAdjectifs/Longitudinal-26-T9000000-F20927-170718-1253.pkl\n",
      "/Users/gilles/Box Sync/2015-Data/FlexionAdjectifs/Longitudinal-26-T9000000-F20927-MSP.pkl\n",
      "\n",
      "/Users/gilles/Box Sync/2015-Data/FlexionAdjectifs/Longitudinal-27-T10000000-F20973-170718-1253.pkl\n",
      "/Users/gilles/Box Sync/2015-Data/FlexionAdjectifs/Longitudinal-27-T10000000-F20973-MSP.pkl\n",
      "\n"
     ]
    }
   ],
   "source": [
    "for ancienNom in tiragesNom(serie):\n",
    "    m=re.match(ur\"^(.*Longitudinal-\\d{2}-T\\d+-F\\d+)-\\d{6}-\\d{4}(.pkl)\",ancienNom)\n",
    "    if m:\n",
    "        nouveauNom=m.group(1)+\"-MSP\"+m.group(2)\n",
    "        print ancienNom\n",
    "        print nouveauNom\n",
    "        print\n",
    "        os.rename(ancienNom,nouveauNom)"
   ]
  },
  {
   "cell_type": "code",
   "execution_count": null,
   "metadata": {
    "collapsed": true
   },
   "outputs": [],
   "source": []
  }
 ],
 "metadata": {
  "kernelspec": {
   "display_name": "Python 2",
   "language": "python",
   "name": "python2"
  },
  "language_info": {
   "codemirror_mode": {
    "name": "ipython",
    "version": 2
   },
   "file_extension": ".py",
   "mimetype": "text/x-python",
   "name": "python",
   "nbconvert_exporter": "python",
   "pygments_lexer": "ipython2",
   "version": "2.7.11"
  }
 },
 "nbformat": 4,
 "nbformat_minor": 1
}
