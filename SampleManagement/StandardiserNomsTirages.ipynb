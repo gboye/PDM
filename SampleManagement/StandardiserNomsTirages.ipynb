{
 "cells": [
  {
   "cell_type": "code",
   "execution_count": 11,
   "metadata": {
    "collapsed": true
   },
   "outputs": [],
   "source": [
    "import glob,re,os"
   ]
  },
  {
   "cell_type": "code",
   "execution_count": 12,
   "metadata": {
    "collapsed": true
   },
   "outputs": [],
   "source": [
    "listeTirages=glob.glob(\"/Users/gilles/Box Sync/2015-Data/*-Tirage.pkl\")"
   ]
  },
  {
   "cell_type": "code",
   "execution_count": 13,
   "metadata": {
    "collapsed": true
   },
   "outputs": [],
   "source": [
    "def tiragesNom(nom):\n",
    "    result=[tirage for tirage in listeTirages if nom in tirage]\n",
    "    return result"
   ]
  },
  {
   "cell_type": "code",
   "execution_count": 14,
   "metadata": {},
   "outputs": [
    {
     "data": {
      "text/plain": [
       "['/Users/gilles/Box Sync/2015-Data/MGC-160427-10Mo-Tirage.pkl',\n",
       " '/Users/gilles/Box Sync/2015-Data/MGC-170506-10Mo-00-Tirage.pkl',\n",
       " '/Users/gilles/Box Sync/2015-Data/MGC-170506-10Mo-01-Tirage.pkl',\n",
       " '/Users/gilles/Box Sync/2015-Data/MGC-170506-10Mo-02-Tirage.pkl',\n",
       " '/Users/gilles/Box Sync/2015-Data/MGC-170506-10Mo-03-Tirage.pkl',\n",
       " '/Users/gilles/Box Sync/2015-Data/MGC-170506-10Mo-04-Tirage.pkl',\n",
       " '/Users/gilles/Box Sync/2015-Data/MGC-170506-10Mo-05-Tirage.pkl',\n",
       " '/Users/gilles/Box Sync/2015-Data/MGC-170506-10Mo-06-Tirage.pkl',\n",
       " '/Users/gilles/Box Sync/2015-Data/MGC-170506-10Mo-07-Tirage.pkl',\n",
       " '/Users/gilles/Box Sync/2015-Data/MGC-170506-10Mo-08-Tirage.pkl',\n",
       " '/Users/gilles/Box Sync/2015-Data/MGC-170506-10Mo-09-Tirage.pkl',\n",
       " '/Users/gilles/Box Sync/2015-Data/MGC-170506-10Mo-10-Tirage.pkl',\n",
       " '/Users/gilles/Box Sync/2015-Data/MGC-170506-10Mo-11-Tirage.pkl',\n",
       " '/Users/gilles/Box Sync/2015-Data/MGC-170506-10Mo-12-Tirage.pkl',\n",
       " '/Users/gilles/Box Sync/2015-Data/MGC-170506-10Mo-13-Tirage.pkl',\n",
       " '/Users/gilles/Box Sync/2015-Data/MGC-170506-10Mo-14-Tirage.pkl',\n",
       " '/Users/gilles/Box Sync/2015-Data/MGC-170506-10Mo-15-Tirage.pkl',\n",
       " '/Users/gilles/Box Sync/2015-Data/MGC-170506-10Mo-16-Tirage.pkl',\n",
       " '/Users/gilles/Box Sync/2015-Data/MGC-170506-10Mo-17-Tirage.pkl',\n",
       " '/Users/gilles/Box Sync/2015-Data/MGC-170506-10Mo-18-Tirage.pkl',\n",
       " '/Users/gilles/Box Sync/2015-Data/MGC-170506-10Mo-19-Tirage.pkl',\n",
       " '/Users/gilles/Box Sync/2015-Data/MGC-170506-10Mo-20-Tirage.pkl',\n",
       " '/Users/gilles/Box Sync/2015-Data/MGC-170506-10Mo-21-Tirage.pkl',\n",
       " '/Users/gilles/Box Sync/2015-Data/MGC-170506-10Mo-22-Tirage.pkl',\n",
       " '/Users/gilles/Box Sync/2015-Data/MGC-170506-10Mo-23-Tirage.pkl',\n",
       " '/Users/gilles/Box Sync/2015-Data/MGC-170506-10Mo-24-Tirage.pkl',\n",
       " '/Users/gilles/Box Sync/2015-Data/MGC-170506-10Mo-25-Tirage.pkl',\n",
       " '/Users/gilles/Box Sync/2015-Data/MGC-170506-10Mo-26-Tirage.pkl',\n",
       " '/Users/gilles/Box Sync/2015-Data/MGC-170506-10Mo-27-Tirage.pkl',\n",
       " '/Users/gilles/Box Sync/2015-Data/MGC-170506-10Mo-28-Tirage.pkl',\n",
       " '/Users/gilles/Box Sync/2015-Data/MGC-170506-10Mo-29-Tirage.pkl',\n",
       " '/Users/gilles/Box Sync/2015-Data/MGC-170506-10Mo-30-Tirage.pkl',\n",
       " '/Users/gilles/Box Sync/2015-Data/MGC-170506-10Mo-31-Tirage.pkl',\n",
       " '/Users/gilles/Box Sync/2015-Data/MGC-170506-10Mo-32-Tirage.pkl',\n",
       " '/Users/gilles/Box Sync/2015-Data/MGC-170506-33-10Mo-Tirage.pkl',\n",
       " '/Users/gilles/Box Sync/2015-Data/MGC-170506-34-10Mo-Tirage.pkl',\n",
       " '/Users/gilles/Box Sync/2015-Data/MGC-170506-35-10Mo-Tirage.pkl',\n",
       " '/Users/gilles/Box Sync/2015-Data/MGC-170506-36-10Mo-Tirage.pkl',\n",
       " '/Users/gilles/Box Sync/2015-Data/MGC-170506-37-10Mo-Tirage.pkl',\n",
       " '/Users/gilles/Box Sync/2015-Data/MGC-170506-38-10Mo-Tirage.pkl',\n",
       " '/Users/gilles/Box Sync/2015-Data/MGC-170506-39-10Mo-Tirage.pkl',\n",
       " '/Users/gilles/Box Sync/2015-Data/MGC-170506-40-10Mo-Tirage.pkl',\n",
       " '/Users/gilles/Box Sync/2015-Data/MGC-170506-41-10Mo-Tirage.pkl',\n",
       " '/Users/gilles/Box Sync/2015-Data/MGC-170506-42-10Mo-Tirage.pkl',\n",
       " '/Users/gilles/Box Sync/2015-Data/MGC-170506-43-10Mo-Tirage.pkl',\n",
       " '/Users/gilles/Box Sync/2015-Data/MGC-170506-44-10Mo-Tirage.pkl',\n",
       " '/Users/gilles/Box Sync/2015-Data/MGC-170506-45-10Mo-Tirage.pkl',\n",
       " '/Users/gilles/Box Sync/2015-Data/MGC-170506-46-10Mo-Tirage.pkl',\n",
       " '/Users/gilles/Box Sync/2015-Data/MGC-170506-47-10Mo-Tirage.pkl',\n",
       " '/Users/gilles/Box Sync/2015-Data/MGC-170506-48-10Mo-Tirage.pkl',\n",
       " '/Users/gilles/Box Sync/2015-Data/MGC-170506-49-10Mo-Tirage.pkl']"
      ]
     },
     "execution_count": 14,
     "metadata": {},
     "output_type": "execute_result"
    }
   ],
   "source": [
    "serie=u\"10Mo\"\n",
    "tiragesNom(serie)"
   ]
  },
  {
   "cell_type": "code",
   "execution_count": 15,
   "metadata": {},
   "outputs": [
    {
     "name": "stdout",
     "output_type": "stream",
     "text": [
      "/Users/gilles/Box Sync/2015-Data/MGC-170506-33-10Mo-Tirage.pkl\n",
      "/Users/gilles/Box Sync/2015-Data/MGC-170506-10Mo-33-Tirage.pkl\n",
      "\n",
      "/Users/gilles/Box Sync/2015-Data/MGC-170506-34-10Mo-Tirage.pkl\n",
      "/Users/gilles/Box Sync/2015-Data/MGC-170506-10Mo-34-Tirage.pkl\n",
      "\n",
      "/Users/gilles/Box Sync/2015-Data/MGC-170506-35-10Mo-Tirage.pkl\n",
      "/Users/gilles/Box Sync/2015-Data/MGC-170506-10Mo-35-Tirage.pkl\n",
      "\n",
      "/Users/gilles/Box Sync/2015-Data/MGC-170506-36-10Mo-Tirage.pkl\n",
      "/Users/gilles/Box Sync/2015-Data/MGC-170506-10Mo-36-Tirage.pkl\n",
      "\n",
      "/Users/gilles/Box Sync/2015-Data/MGC-170506-37-10Mo-Tirage.pkl\n",
      "/Users/gilles/Box Sync/2015-Data/MGC-170506-10Mo-37-Tirage.pkl\n",
      "\n",
      "/Users/gilles/Box Sync/2015-Data/MGC-170506-38-10Mo-Tirage.pkl\n",
      "/Users/gilles/Box Sync/2015-Data/MGC-170506-10Mo-38-Tirage.pkl\n",
      "\n",
      "/Users/gilles/Box Sync/2015-Data/MGC-170506-39-10Mo-Tirage.pkl\n",
      "/Users/gilles/Box Sync/2015-Data/MGC-170506-10Mo-39-Tirage.pkl\n",
      "\n",
      "/Users/gilles/Box Sync/2015-Data/MGC-170506-40-10Mo-Tirage.pkl\n",
      "/Users/gilles/Box Sync/2015-Data/MGC-170506-10Mo-40-Tirage.pkl\n",
      "\n",
      "/Users/gilles/Box Sync/2015-Data/MGC-170506-41-10Mo-Tirage.pkl\n",
      "/Users/gilles/Box Sync/2015-Data/MGC-170506-10Mo-41-Tirage.pkl\n",
      "\n",
      "/Users/gilles/Box Sync/2015-Data/MGC-170506-42-10Mo-Tirage.pkl\n",
      "/Users/gilles/Box Sync/2015-Data/MGC-170506-10Mo-42-Tirage.pkl\n",
      "\n",
      "/Users/gilles/Box Sync/2015-Data/MGC-170506-43-10Mo-Tirage.pkl\n",
      "/Users/gilles/Box Sync/2015-Data/MGC-170506-10Mo-43-Tirage.pkl\n",
      "\n",
      "/Users/gilles/Box Sync/2015-Data/MGC-170506-44-10Mo-Tirage.pkl\n",
      "/Users/gilles/Box Sync/2015-Data/MGC-170506-10Mo-44-Tirage.pkl\n",
      "\n",
      "/Users/gilles/Box Sync/2015-Data/MGC-170506-45-10Mo-Tirage.pkl\n",
      "/Users/gilles/Box Sync/2015-Data/MGC-170506-10Mo-45-Tirage.pkl\n",
      "\n",
      "/Users/gilles/Box Sync/2015-Data/MGC-170506-46-10Mo-Tirage.pkl\n",
      "/Users/gilles/Box Sync/2015-Data/MGC-170506-10Mo-46-Tirage.pkl\n",
      "\n",
      "/Users/gilles/Box Sync/2015-Data/MGC-170506-47-10Mo-Tirage.pkl\n",
      "/Users/gilles/Box Sync/2015-Data/MGC-170506-10Mo-47-Tirage.pkl\n",
      "\n",
      "/Users/gilles/Box Sync/2015-Data/MGC-170506-48-10Mo-Tirage.pkl\n",
      "/Users/gilles/Box Sync/2015-Data/MGC-170506-10Mo-48-Tirage.pkl\n",
      "\n",
      "/Users/gilles/Box Sync/2015-Data/MGC-170506-49-10Mo-Tirage.pkl\n",
      "/Users/gilles/Box Sync/2015-Data/MGC-170506-10Mo-49-Tirage.pkl\n",
      "\n"
     ]
    }
   ],
   "source": [
    "for ancienNom in tiragesNom(serie):\n",
    "    m=re.match(ur\"^(.*\\d{6})-(\\d{2})-%s-(.*)\"%serie,ancienNom)\n",
    "    if m:\n",
    "        nouveauNom=m.group(1)+\"-%s-\"%serie+m.group(2)+\"-\"+m.group(3)\n",
    "        print ancienNom\n",
    "        print nouveauNom\n",
    "        print\n",
    "        os.rename(ancienNom,nouveauNom)"
   ]
  },
  {
   "cell_type": "code",
   "execution_count": null,
   "metadata": {
    "collapsed": true
   },
   "outputs": [],
   "source": []
  }
 ],
 "metadata": {
  "kernelspec": {
   "display_name": "Python 2",
   "language": "python",
   "name": "python2"
  },
  "language_info": {
   "codemirror_mode": {
    "name": "ipython",
    "version": 2
   },
   "file_extension": ".py",
   "mimetype": "text/x-python",
   "name": "python",
   "nbconvert_exporter": "python",
   "pygments_lexer": "ipython2",
   "version": "2.7.11"
  }
 },
 "nbformat": 4,
 "nbformat_minor": 1
}
