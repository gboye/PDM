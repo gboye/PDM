{
 "cells": [
  {
   "cell_type": "code",
   "execution_count": 1,
   "metadata": {},
   "outputs": [],
   "source": [
    "import glob,re,os"
   ]
  },
  {
   "cell_type": "code",
   "execution_count": 2,
   "metadata": {},
   "outputs": [],
   "source": [
    "#listeTirages=glob.glob(\"/Users/gilles/Box Sync/2015-Data/FlexionAdjectifs/Longitudinal*.pkl\")\n",
    "#listeTirages=glob.glob(\"/Volumes/gilles/Transfert/Copies-iMac-GB/2015-Data/Longitudinales/GroupeSepare/Longitudinal*.csv\")\n",
    "#listeTirages=glob.glob(\"/Volumes/gilles/Transfert/Copies-iMac-GB/2015-Data/Longitudinales/Longitudinal*.pkl\")\n",
    "listeTirages=glob.glob(\"/Volumes/gilles/Transfert/Copies-iMac-GB/2015-Data/LongitudinalesRnd/Longitudinal*.pkl\")"
   ]
  },
  {
   "cell_type": "code",
   "execution_count": 3,
   "metadata": {},
   "outputs": [],
   "source": [
    "def tiragesNom(nom):\n",
    "    result=[tirage for tirage in listeTirages if nom in tirage]\n",
    "    return result"
   ]
  },
  {
   "cell_type": "code",
   "execution_count": 4,
   "metadata": {},
   "outputs": [
    {
     "data": {
      "text/plain": [
       "['/Volumes/gilles/Transfert/Copies-iMac-GB/2015-Data/LongitudinalesRnd/Longitudinal-04-T5000000-F47948.pkl',\n",
       " '/Volumes/gilles/Transfert/Copies-iMac-GB/2015-Data/LongitudinalesRnd/Longitudinal-03-T4000000-F45290-X-Morphomes.pkl',\n",
       " '/Volumes/gilles/Transfert/Copies-iMac-GB/2015-Data/LongitudinalesRnd/Longitudinal-26-T180000000-F84589.pkl',\n",
       " '/Volumes/gilles/Transfert/Copies-iMac-GB/2015-Data/LongitudinalesRnd/Longitudinal-06-T7000000-F51910.pkl',\n",
       " '/Volumes/gilles/Transfert/Copies-iMac-GB/2015-Data/LongitudinalesRnd/Longitudinal-28-T200000000-F85441.pkl',\n",
       " '/Volumes/gilles/Transfert/Copies-iMac-GB/2015-Data/LongitudinalesRnd/Longitudinal-05-T6000000-F50087-X-Morphomes-Regles.pkl',\n",
       " '/Volumes/gilles/Transfert/Copies-iMac-GB/2015-Data/LongitudinalesRnd/Longitudinal-01-T2000000-F37300.pkl',\n",
       " '/Volumes/gilles/Transfert/Copies-iMac-GB/2015-Data/LongitudinalesRnd/Longitudinal-23-T150000000-F83015-X-180731-1337-Morphomes.pkl',\n",
       " '/Volumes/gilles/Transfert/Copies-iMac-GB/2015-Data/LongitudinalesRnd/Longitudinal-04-T5000000-F47948-X-Regles.pkl',\n",
       " '/Volumes/gilles/Transfert/Copies-iMac-GB/2015-Data/LongitudinalesRnd/Longitudinal-06-T7000000-F51910-X-Morphomes-Regles.pkl',\n",
       " '/Volumes/gilles/Transfert/Copies-iMac-GB/2015-Data/LongitudinalesRnd/Longitudinal-01-T2000000-F37300-X-Morphomes.pkl',\n",
       " '/Volumes/gilles/Transfert/Copies-iMac-GB/2015-Data/LongitudinalesRnd/Longitudinal-01-T2000000-F37300-X-Morphomes-Regles.pkl',\n",
       " '/Volumes/gilles/Transfert/Copies-iMac-GB/2015-Data/LongitudinalesRnd/Longitudinal-08-T9000000-F54798-X-Regles.pkl',\n",
       " '/Volumes/gilles/Transfert/Copies-iMac-GB/2015-Data/LongitudinalesRnd/Longitudinal-20-T120000000-F81765-X-180731-1336-Morphomes.pkl',\n",
       " '/Volumes/gilles/Transfert/Copies-iMac-GB/2015-Data/LongitudinalesRnd/Longitudinal-27-T190000000-F85038-X-180731-1329-Morphomes.pkl',\n",
       " '/Volumes/gilles/Transfert/Copies-iMac-GB/2015-Data/LongitudinalesRnd/Longitudinal-13-T50000000-F73767-X-180731-1330-Morphomes.pkl',\n",
       " '/Volumes/gilles/Transfert/Copies-iMac-GB/2015-Data/LongitudinalesRnd/Longitudinal-22-T140000000-F83015.pkl',\n",
       " '/Volumes/gilles/Transfert/Copies-iMac-GB/2015-Data/LongitudinalesRnd/Longitudinal-21-T130000000-F82390-X-180731-1331-Morphomes.pkl',\n",
       " '/Volumes/gilles/Transfert/Copies-iMac-GB/2015-Data/LongitudinalesRnd/Longitudinal-14-T60000000-F75539.pkl',\n",
       " '/Volumes/gilles/Transfert/Copies-iMac-GB/2015-Data/LongitudinalesRnd/Longitudinal-25-T170000000-F84110-X-180731-1328-Morphomes.pkl',\n",
       " '/Volumes/gilles/Transfert/Copies-iMac-GB/2015-Data/LongitudinalesRnd/Longitudinal-25-T170000000-F84110.pkl',\n",
       " '/Volumes/gilles/Transfert/Copies-iMac-GB/2015-Data/LongitudinalesRnd/Longitudinal-07-T8000000-F53440.pkl',\n",
       " '/Volumes/gilles/Transfert/Copies-iMac-GB/2015-Data/LongitudinalesRnd/Longitudinal-09-T10000000-F56057-X-Regles.pkl',\n",
       " '/Volumes/gilles/Transfert/Copies-iMac-GB/2015-Data/LongitudinalesRnd/Longitudinal-00-T1000000-F29754.pkl',\n",
       " '/Volumes/gilles/Transfert/Copies-iMac-GB/2015-Data/LongitudinalesRnd/Longitudinal-04-T5000000-F47948-X-Morphomes-Regles.pkl',\n",
       " '/Volumes/gilles/Transfert/Copies-iMac-GB/2015-Data/LongitudinalesRnd/Longitudinal-02-T3000000-F41968.pkl',\n",
       " '/Volumes/gilles/Transfert/Copies-iMac-GB/2015-Data/LongitudinalesRnd/Longitudinal-07-T8000000-F53440-X-Morphomes.pkl',\n",
       " '/Volumes/gilles/Transfert/Copies-iMac-GB/2015-Data/LongitudinalesRnd/Longitudinal-27-T190000000-F85038.pkl',\n",
       " '/Volumes/gilles/Transfert/Copies-iMac-GB/2015-Data/LongitudinalesRnd/Longitudinal-24-T160000000-F83575-X-180731-1334-Morphomes.pkl',\n",
       " '/Volumes/gilles/Transfert/Copies-iMac-GB/2015-Data/LongitudinalesRnd/Longitudinal-03-T4000000-F45290.pkl',\n",
       " '/Volumes/gilles/Transfert/Copies-iMac-GB/2015-Data/LongitudinalesRnd/Longitudinal-06-T7000000-F51910-X-Regles.pkl',\n",
       " '/Volumes/gilles/Transfert/Copies-iMac-GB/2015-Data/LongitudinalesRnd/Longitudinal-01-T2000000-F37300-X-Regles.pkl',\n",
       " '/Volumes/gilles/Transfert/Copies-iMac-GB/2015-Data/LongitudinalesRnd/Longitudinal-00-T1000000-F29754-X-Morphomes-Regles.pkl',\n",
       " '/Volumes/gilles/Transfert/Copies-iMac-GB/2015-Data/LongitudinalesRnd/Longitudinal-05-T6000000-F50087-X-Regles.pkl',\n",
       " '/Volumes/gilles/Transfert/Copies-iMac-GB/2015-Data/LongitudinalesRnd/Longitudinal-03-T4000000-F45290-X-Regles.pkl',\n",
       " '/Volumes/gilles/Transfert/Copies-iMac-GB/2015-Data/LongitudinalesRnd/Longitudinal-15-T70000000-F77010-X-180731-1342-Morphomes.pkl',\n",
       " '/Volumes/gilles/Transfert/Copies-iMac-GB/2015-Data/LongitudinalesRnd/Longitudinal-13-T50000000-F73767.pkl',\n",
       " '/Volumes/gilles/Transfert/Copies-iMac-GB/2015-Data/LongitudinalesRnd/Longitudinal-09-T10000000-F56057-X-Morphomes-Regles.pkl',\n",
       " '/Volumes/gilles/Transfert/Copies-iMac-GB/2015-Data/LongitudinalesRnd/Longitudinal-21-T130000000-F82390.pkl',\n",
       " '/Volumes/gilles/Transfert/Copies-iMac-GB/2015-Data/LongitudinalesRnd/Longitudinal-11-T30000000-F68469-X-180731-1343-Morphomes.pkl',\n",
       " '/Volumes/gilles/Transfert/Copies-iMac-GB/2015-Data/LongitudinalesRnd/Longitudinal-17-T90000000-F79309.pkl',\n",
       " '/Volumes/gilles/Transfert/Copies-iMac-GB/2015-Data/LongitudinalesRnd/Longitudinal-24-T160000000-F83575.pkl',\n",
       " '/Volumes/gilles/Transfert/Copies-iMac-GB/2015-Data/LongitudinalesRnd/Longitudinal-02-T3000000-F41968-X-Morphomes.pkl',\n",
       " '/Volumes/gilles/Transfert/Copies-iMac-GB/2015-Data/LongitudinalesRnd/Longitudinal-19-T110000000-F81037.pkl',\n",
       " '/Volumes/gilles/Transfert/Copies-iMac-GB/2015-Data/LongitudinalesRnd/Longitudinal-18-T100000000-F80233-X-180731-1340-Morphomes.pkl',\n",
       " '/Volumes/gilles/Transfert/Copies-iMac-GB/2015-Data/LongitudinalesRnd/Longitudinal-00-T1000000-F29754-X-Morphomes.pkl',\n",
       " '/Volumes/gilles/Transfert/Copies-iMac-GB/2015-Data/LongitudinalesRnd/Longitudinal-19-T110000000-F81037-X-180731-1335-Morphomes.pkl',\n",
       " '/Volumes/gilles/Transfert/Copies-iMac-GB/2015-Data/LongitudinalesRnd/Longitudinal-09-T10000000-F56057-X-Morphomes.pkl',\n",
       " '/Volumes/gilles/Transfert/Copies-iMac-GB/2015-Data/LongitudinalesRnd/Longitudinal-06-T7000000-F51910-X-Morphomes.pkl',\n",
       " '/Volumes/gilles/Transfert/Copies-iMac-GB/2015-Data/LongitudinalesRnd/Longitudinal-22-T140000000-F83015-X-180731-1326-Morphomes.pkl',\n",
       " '/Volumes/gilles/Transfert/Copies-iMac-GB/2015-Data/LongitudinalesRnd/Longitudinal-20-T120000000-F81765.pkl',\n",
       " '/Volumes/gilles/Transfert/Copies-iMac-GB/2015-Data/LongitudinalesRnd/Longitudinal-07-T8000000-F53440-X-Regles.pkl',\n",
       " '/Volumes/gilles/Transfert/Copies-iMac-GB/2015-Data/LongitudinalesRnd/Longitudinal-16-T80000000-F78250-X-180731-1341-Morphomes.pkl',\n",
       " '/Volumes/gilles/Transfert/Copies-iMac-GB/2015-Data/LongitudinalesRnd/Longitudinal-12-T40000000-F71496-X-180731-1338-Morphomes.pkl',\n",
       " '/Volumes/gilles/Transfert/Copies-iMac-GB/2015-Data/LongitudinalesRnd/Longitudinal-26-T180000000-F84589-X-180731-1323-Morphomes.pkl',\n",
       " '/Volumes/gilles/Transfert/Copies-iMac-GB/2015-Data/LongitudinalesRnd/Longitudinal-23-T150000000-F83015.pkl',\n",
       " '/Volumes/gilles/Transfert/Copies-iMac-GB/2015-Data/LongitudinalesRnd/Longitudinal-02-T3000000-F41968-X-Regles.pkl',\n",
       " '/Volumes/gilles/Transfert/Copies-iMac-GB/2015-Data/LongitudinalesRnd/Longitudinal-08-T9000000-F54798-X-Morphomes.pkl',\n",
       " '/Volumes/gilles/Transfert/Copies-iMac-GB/2015-Data/LongitudinalesRnd/Longitudinal-07-T8000000-F53440-X-Morphomes-Regles.pkl',\n",
       " '/Volumes/gilles/Transfert/Copies-iMac-GB/2015-Data/LongitudinalesRnd/Longitudinal-12-T40000000-F71496.pkl',\n",
       " '/Volumes/gilles/Transfert/Copies-iMac-GB/2015-Data/LongitudinalesRnd/Longitudinal-10-T20000000-F64015.pkl',\n",
       " '/Volumes/gilles/Transfert/Copies-iMac-GB/2015-Data/LongitudinalesRnd/Longitudinal-08-T9000000-F54798.pkl',\n",
       " '/Volumes/gilles/Transfert/Copies-iMac-GB/2015-Data/LongitudinalesRnd/Longitudinal-20-T120000000-F81765-X-Regles.pkl',\n",
       " '/Volumes/gilles/Transfert/Copies-iMac-GB/2015-Data/LongitudinalesRnd/Longitudinal-28-T200000000-F85441-X-180731-1324-Morphomes.pkl',\n",
       " '/Volumes/gilles/Transfert/Copies-iMac-GB/2015-Data/LongitudinalesRnd/Longitudinal-18-T100000000-F80233.pkl',\n",
       " '/Volumes/gilles/Transfert/Copies-iMac-GB/2015-Data/LongitudinalesRnd/Longitudinal-09-T10000000-F56057.pkl',\n",
       " '/Volumes/gilles/Transfert/Copies-iMac-GB/2015-Data/LongitudinalesRnd/Longitudinal-10-T20000000-F64015-X-180731-1339-Morphomes.pkl',\n",
       " '/Volumes/gilles/Transfert/Copies-iMac-GB/2015-Data/LongitudinalesRnd/Longitudinal-05-T6000000-F50087-X-Morphomes.pkl',\n",
       " '/Volumes/gilles/Transfert/Copies-iMac-GB/2015-Data/LongitudinalesRnd/Longitudinal-05-T6000000-F50087.pkl',\n",
       " '/Volumes/gilles/Transfert/Copies-iMac-GB/2015-Data/LongitudinalesRnd/Longitudinal-17-T90000000-F79309-X-180731-1332-Morphomes.pkl',\n",
       " '/Volumes/gilles/Transfert/Copies-iMac-GB/2015-Data/LongitudinalesRnd/Longitudinal-03-T4000000-F45290-X-Morphomes-Regles.pkl',\n",
       " '/Volumes/gilles/Transfert/Copies-iMac-GB/2015-Data/LongitudinalesRnd/Longitudinal-04-T5000000-F47948-X-Morphomes.pkl',\n",
       " '/Volumes/gilles/Transfert/Copies-iMac-GB/2015-Data/LongitudinalesRnd/Longitudinal-02-T3000000-F41968-X-Morphomes-Regles.pkl',\n",
       " '/Volumes/gilles/Transfert/Copies-iMac-GB/2015-Data/LongitudinalesRnd/Longitudinal-14-T60000000-F75539-X-180731-1327-Morphomes.pkl',\n",
       " '/Volumes/gilles/Transfert/Copies-iMac-GB/2015-Data/LongitudinalesRnd/Longitudinal-16-T80000000-F78250.pkl',\n",
       " '/Volumes/gilles/Transfert/Copies-iMac-GB/2015-Data/LongitudinalesRnd/Longitudinal-08-T9000000-F54798-X-Morphomes-Regles.pkl',\n",
       " '/Volumes/gilles/Transfert/Copies-iMac-GB/2015-Data/LongitudinalesRnd/Longitudinal-15-T70000000-F77010.pkl',\n",
       " '/Volumes/gilles/Transfert/Copies-iMac-GB/2015-Data/LongitudinalesRnd/Longitudinal-11-T30000000-F68469.pkl',\n",
       " '/Volumes/gilles/Transfert/Copies-iMac-GB/2015-Data/LongitudinalesRnd/Longitudinal-00-T1000000-F29754-X-Regles.pkl']"
      ]
     },
     "execution_count": 4,
     "metadata": {},
     "output_type": "execute_result"
    }
   ],
   "source": [
    "serie=u\"\"\n",
    "tiragesNom(serie)"
   ]
  },
  {
   "cell_type": "code",
   "execution_count": 6,
   "metadata": {},
   "outputs": [
    {
     "name": "stdout",
     "output_type": "stream",
     "text": [
      "/Volumes/gilles/Transfert/Copies-iMac-GB/2015-Data/LongitudinalesRnd/Longitudinal-23-T150000000-F83015-X-180731-1337-Morphomes.pkl\n",
      "/Volumes/gilles/Transfert/Copies-iMac-GB/2015-Data/LongitudinalesRnd/Longitudinal-23-T150000000-F83015-X-Morphomes.pkl\n",
      "\n",
      "/Volumes/gilles/Transfert/Copies-iMac-GB/2015-Data/LongitudinalesRnd/Longitudinal-20-T120000000-F81765-X-180731-1336-Morphomes.pkl\n",
      "/Volumes/gilles/Transfert/Copies-iMac-GB/2015-Data/LongitudinalesRnd/Longitudinal-20-T120000000-F81765-X-Morphomes.pkl\n",
      "\n",
      "/Volumes/gilles/Transfert/Copies-iMac-GB/2015-Data/LongitudinalesRnd/Longitudinal-27-T190000000-F85038-X-180731-1329-Morphomes.pkl\n",
      "/Volumes/gilles/Transfert/Copies-iMac-GB/2015-Data/LongitudinalesRnd/Longitudinal-27-T190000000-F85038-X-Morphomes.pkl\n",
      "\n",
      "/Volumes/gilles/Transfert/Copies-iMac-GB/2015-Data/LongitudinalesRnd/Longitudinal-13-T50000000-F73767-X-180731-1330-Morphomes.pkl\n",
      "/Volumes/gilles/Transfert/Copies-iMac-GB/2015-Data/LongitudinalesRnd/Longitudinal-13-T50000000-F73767-X-Morphomes.pkl\n",
      "\n",
      "/Volumes/gilles/Transfert/Copies-iMac-GB/2015-Data/LongitudinalesRnd/Longitudinal-21-T130000000-F82390-X-180731-1331-Morphomes.pkl\n",
      "/Volumes/gilles/Transfert/Copies-iMac-GB/2015-Data/LongitudinalesRnd/Longitudinal-21-T130000000-F82390-X-Morphomes.pkl\n",
      "\n",
      "/Volumes/gilles/Transfert/Copies-iMac-GB/2015-Data/LongitudinalesRnd/Longitudinal-25-T170000000-F84110-X-180731-1328-Morphomes.pkl\n",
      "/Volumes/gilles/Transfert/Copies-iMac-GB/2015-Data/LongitudinalesRnd/Longitudinal-25-T170000000-F84110-X-Morphomes.pkl\n",
      "\n",
      "/Volumes/gilles/Transfert/Copies-iMac-GB/2015-Data/LongitudinalesRnd/Longitudinal-24-T160000000-F83575-X-180731-1334-Morphomes.pkl\n",
      "/Volumes/gilles/Transfert/Copies-iMac-GB/2015-Data/LongitudinalesRnd/Longitudinal-24-T160000000-F83575-X-Morphomes.pkl\n",
      "\n",
      "/Volumes/gilles/Transfert/Copies-iMac-GB/2015-Data/LongitudinalesRnd/Longitudinal-15-T70000000-F77010-X-180731-1342-Morphomes.pkl\n",
      "/Volumes/gilles/Transfert/Copies-iMac-GB/2015-Data/LongitudinalesRnd/Longitudinal-15-T70000000-F77010-X-Morphomes.pkl\n",
      "\n",
      "/Volumes/gilles/Transfert/Copies-iMac-GB/2015-Data/LongitudinalesRnd/Longitudinal-11-T30000000-F68469-X-180731-1343-Morphomes.pkl\n",
      "/Volumes/gilles/Transfert/Copies-iMac-GB/2015-Data/LongitudinalesRnd/Longitudinal-11-T30000000-F68469-X-Morphomes.pkl\n",
      "\n",
      "/Volumes/gilles/Transfert/Copies-iMac-GB/2015-Data/LongitudinalesRnd/Longitudinal-18-T100000000-F80233-X-180731-1340-Morphomes.pkl\n",
      "/Volumes/gilles/Transfert/Copies-iMac-GB/2015-Data/LongitudinalesRnd/Longitudinal-18-T100000000-F80233-X-Morphomes.pkl\n",
      "\n",
      "/Volumes/gilles/Transfert/Copies-iMac-GB/2015-Data/LongitudinalesRnd/Longitudinal-19-T110000000-F81037-X-180731-1335-Morphomes.pkl\n",
      "/Volumes/gilles/Transfert/Copies-iMac-GB/2015-Data/LongitudinalesRnd/Longitudinal-19-T110000000-F81037-X-Morphomes.pkl\n",
      "\n",
      "/Volumes/gilles/Transfert/Copies-iMac-GB/2015-Data/LongitudinalesRnd/Longitudinal-22-T140000000-F83015-X-180731-1326-Morphomes.pkl\n",
      "/Volumes/gilles/Transfert/Copies-iMac-GB/2015-Data/LongitudinalesRnd/Longitudinal-22-T140000000-F83015-X-Morphomes.pkl\n",
      "\n",
      "/Volumes/gilles/Transfert/Copies-iMac-GB/2015-Data/LongitudinalesRnd/Longitudinal-16-T80000000-F78250-X-180731-1341-Morphomes.pkl\n",
      "/Volumes/gilles/Transfert/Copies-iMac-GB/2015-Data/LongitudinalesRnd/Longitudinal-16-T80000000-F78250-X-Morphomes.pkl\n",
      "\n",
      "/Volumes/gilles/Transfert/Copies-iMac-GB/2015-Data/LongitudinalesRnd/Longitudinal-12-T40000000-F71496-X-180731-1338-Morphomes.pkl\n",
      "/Volumes/gilles/Transfert/Copies-iMac-GB/2015-Data/LongitudinalesRnd/Longitudinal-12-T40000000-F71496-X-Morphomes.pkl\n",
      "\n",
      "/Volumes/gilles/Transfert/Copies-iMac-GB/2015-Data/LongitudinalesRnd/Longitudinal-26-T180000000-F84589-X-180731-1323-Morphomes.pkl\n",
      "/Volumes/gilles/Transfert/Copies-iMac-GB/2015-Data/LongitudinalesRnd/Longitudinal-26-T180000000-F84589-X-Morphomes.pkl\n",
      "\n",
      "/Volumes/gilles/Transfert/Copies-iMac-GB/2015-Data/LongitudinalesRnd/Longitudinal-28-T200000000-F85441-X-180731-1324-Morphomes.pkl\n",
      "/Volumes/gilles/Transfert/Copies-iMac-GB/2015-Data/LongitudinalesRnd/Longitudinal-28-T200000000-F85441-X-Morphomes.pkl\n",
      "\n",
      "/Volumes/gilles/Transfert/Copies-iMac-GB/2015-Data/LongitudinalesRnd/Longitudinal-10-T20000000-F64015-X-180731-1339-Morphomes.pkl\n",
      "/Volumes/gilles/Transfert/Copies-iMac-GB/2015-Data/LongitudinalesRnd/Longitudinal-10-T20000000-F64015-X-Morphomes.pkl\n",
      "\n",
      "/Volumes/gilles/Transfert/Copies-iMac-GB/2015-Data/LongitudinalesRnd/Longitudinal-17-T90000000-F79309-X-180731-1332-Morphomes.pkl\n",
      "/Volumes/gilles/Transfert/Copies-iMac-GB/2015-Data/LongitudinalesRnd/Longitudinal-17-T90000000-F79309-X-Morphomes.pkl\n",
      "\n",
      "/Volumes/gilles/Transfert/Copies-iMac-GB/2015-Data/LongitudinalesRnd/Longitudinal-14-T60000000-F75539-X-180731-1327-Morphomes.pkl\n",
      "/Volumes/gilles/Transfert/Copies-iMac-GB/2015-Data/LongitudinalesRnd/Longitudinal-14-T60000000-F75539-X-Morphomes.pkl\n",
      "\n"
     ]
    }
   ],
   "source": [
    "for ancienNom in tiragesNom(serie):\n",
    "#    m=re.match(ur\"^(.*)(-\\d{6})(-\\d{2})(-%s)(-.*)\"%serie,ancienNom)\n",
    "#    print ancienNom\n",
    "    m=re.match(ur\"^(.*)-\\d{6}-\\d{4}-\\d{6}-\\d{4,6}(-.*)\",ancienNom) # renommer Groupe/Separe\n",
    "    m=re.match(ur\"^(.*)-\\d{6}-\\d{4}(.*)\",ancienNom) # renommer Longitunidal*.pkl\n",
    "    if m:\n",
    "        nouveauNom=m.group(1)+m.group(2)\n",
    "        print ancienNom\n",
    "        print nouveauNom\n",
    "        print\n",
    "        os.rename(ancienNom,nouveauNom)"
   ]
  },
  {
   "cell_type": "raw",
   "metadata": {},
   "source": [
    "for ancienNom in tiragesNom(serie):\n",
    "    m=re.match(ur\"^(.*Longitudinal-\\d{2}-T\\d+-F\\d+)-\\d{6}-\\d{4}(.pkl)\",ancienNom)\n",
    "    if m:\n",
    "        nouveauNom=m.group(1)+\"-MSP\"+m.group(2)\n",
    "        print ancienNom\n",
    "        print nouveauNom\n",
    "        print\n",
    "        os.rename(ancienNom,nouveauNom)"
   ]
  },
  {
   "cell_type": "code",
   "execution_count": null,
   "metadata": {
    "collapsed": true
   },
   "outputs": [],
   "source": []
  }
 ],
 "metadata": {
  "kernelspec": {
   "display_name": "Python 2",
   "language": "python",
   "name": "python2"
  },
  "language_info": {
   "codemirror_mode": {
    "name": "ipython",
    "version": 2
   },
   "file_extension": ".py",
   "mimetype": "text/x-python",
   "name": "python",
   "nbconvert_exporter": "python",
   "pygments_lexer": "ipython2",
   "version": "2.7.11"
  }
 },
 "nbformat": 4,
 "nbformat_minor": 1
}
