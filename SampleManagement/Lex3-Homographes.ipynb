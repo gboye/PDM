{
 "cells": [
  {
   "cell_type": "code",
   "execution_count": 1,
   "metadata": {
    "collapsed": true
   },
   "outputs": [],
   "source": [
    "# -*- coding: utf8 -*-"
   ]
  },
  {
   "cell_type": "code",
   "execution_count": 2,
   "metadata": {
    "collapsed": true
   },
   "outputs": [],
   "source": [
    "import pandas as pd\n",
    "import itertools as it\n",
    "import random as rd\n",
    "import numpy as np\n",
    "import matplotlib.pyplot as plt\n"
   ]
  },
  {
   "cell_type": "code",
   "execution_count": 4,
   "metadata": {
    "collapsed": true
   },
   "outputs": [],
   "source": [
    "repHDR=\"/Users/gilles/ownCloud/Recherche/Boye/HDR/Memoire/figs/\"\n"
   ]
  },
  {
   "cell_type": "code",
   "execution_count": 6,
   "metadata": {},
   "outputs": [],
   "source": [
    "nomRepertoire=\"/Volumes/gilles/Transfert/Copies-iMac-GB/Python/phonemisation/\"\n",
    "nomLexiqueOrg=nomRepertoire+\"Lexique380-UTF8.txt\"\n",
    "nomRepertoire=\"/Users/gilles/Dropbox/Travail/Recherche/BoKu/LingInfo/Lexique3/Lexique381/\"\n",
    "nomLexiqueOrg=nomRepertoire+\"Lexique381.csv\"\n",
    "Lexique3=pd.read_csv(nomLexiqueOrg,sep=\"\\t\")\n"
   ]
  },
  {
   "cell_type": "code",
   "execution_count": null,
   "metadata": {
    "collapsed": true
   },
   "outputs": [],
   "source": [
    "noms3=Lexique3[Lexique3[\"4_cgram\"]==\"NOM\"][[\"1_ortho\",\"3_lemme\",\"5_genre\",\"6_nombre\"]]"
   ]
  },
  {
   "cell_type": "code",
   "execution_count": 78,
   "metadata": {},
   "outputs": [
    {
     "data": {
      "text/plain": [
       "48287"
      ]
     },
     "execution_count": 78,
     "metadata": {},
     "output_type": "execute_result"
    }
   ],
   "source": [
    "nbNoms=len(noms3)\n",
    "nbNoms"
   ]
  },
  {
   "cell_type": "markdown",
   "metadata": {},
   "source": [
    "- nombre de lemmes de noms"
   ]
  },
  {
   "cell_type": "code",
   "execution_count": 118,
   "metadata": {},
   "outputs": [],
   "source": [
    "tableauMS=[]\n",
    "for g,n in it.product(\"mfx\",\"spx\"):\n",
    "    genre=(noms3[\"5_genre\"]==g)\n",
    "    nombre=(noms3[\"6_nombre\"]==n)\n",
    "    if g==\"x\":\n",
    "        genre=(noms3[\"5_genre\"].isnull())\n",
    "    if n==\"x\":\n",
    "        nombre=(noms3[\"6_nombre\"].isnull())\n",
    "    tableauMS.append((g,n, len(noms3[genre&nombre])))\n",
    "dfTableauMS=pd.DataFrame.from_records(tableauMS)\n",
    "dfMS=dfTableauMS.pivot(index=0, columns=1, values=2)\n",
    "del dfMS.index.name\n",
    "del dfMS.columns.name"
   ]
  },
  {
   "cell_type": "code",
   "execution_count": 122,
   "metadata": {},
   "outputs": [
    {
     "data": {
      "text/html": [
       "<div>\n",
       "<style scoped>\n",
       "    .dataframe tbody tr th:only-of-type {\n",
       "        vertical-align: middle;\n",
       "    }\n",
       "\n",
       "    .dataframe tbody tr th {\n",
       "        vertical-align: top;\n",
       "    }\n",
       "\n",
       "    .dataframe thead th {\n",
       "        text-align: right;\n",
       "    }\n",
       "</style>\n",
       "<table border=\"1\" class=\"dataframe\">\n",
       "  <thead>\n",
       "    <tr style=\"text-align: right;\">\n",
       "      <th></th>\n",
       "      <th>p</th>\n",
       "      <th>s</th>\n",
       "      <th>x</th>\n",
       "    </tr>\n",
       "  </thead>\n",
       "  <tbody>\n",
       "    <tr>\n",
       "      <th>f</th>\n",
       "      <td>7069</td>\n",
       "      <td>11787</td>\n",
       "      <td>69</td>\n",
       "    </tr>\n",
       "    <tr>\n",
       "      <th>m</th>\n",
       "      <td>9673</td>\n",
       "      <td>15352</td>\n",
       "      <td>1719</td>\n",
       "    </tr>\n",
       "    <tr>\n",
       "      <th>x</th>\n",
       "      <td>1110</td>\n",
       "      <td>1500</td>\n",
       "      <td>8</td>\n",
       "    </tr>\n",
       "  </tbody>\n",
       "</table>\n",
       "</div>"
      ],
      "text/plain": [
       "      p      s     x\n",
       "f  7069  11787    69\n",
       "m  9673  15352  1719\n",
       "x  1110   1500     8"
      ]
     },
     "execution_count": 122,
     "metadata": {},
     "output_type": "execute_result"
    }
   ],
   "source": [
    "dfMS"
   ]
  },
  {
   "cell_type": "code",
   "execution_count": 44,
   "metadata": {},
   "outputs": [
    {
     "name": "stdout",
     "output_type": "stream",
     "text": [
      "30541\n"
     ]
    }
   ],
   "source": [
    "noms3Lemmes=list(noms3.groupby(by=[\"3_lemme\",\"5_genre\"]))\n"
   ]
  },
  {
   "cell_type": "code",
   "execution_count": 62,
   "metadata": {},
   "outputs": [
    {
     "data": {
      "text/plain": [
       "(('brouille', 'f'),          1_ortho   3_lemme 5_genre 6_nombre\n",
       " 18129   brouille  brouille       f        s\n",
       " 18136  brouilles  brouille       f        p)"
      ]
     },
     "execution_count": 62,
     "metadata": {},
     "output_type": "execute_result"
    }
   ],
   "source": [
    "nbNomsLemmes=len(noms3Lemmes)\n",
    "noms3Lemmes[4000]"
   ]
  },
  {
   "cell_type": "code",
   "execution_count": 63,
   "metadata": {},
   "outputs": [
    {
     "name": "stdout",
     "output_type": "stream",
     "text": [
      "noms sans nombre 1796\n",
      "noms sans genre 2618\n"
     ]
    }
   ],
   "source": [
    "noms3SansNombre=noms3[noms3[\"6_nombre\"].isnull()]\n",
    "nbNomsSansNombre=len(noms3SansNombre)\n",
    "print \"noms sans nombre\",len(noms3SansNombre)\n",
    "noms3SansGenre=noms3[noms3[\"5_genre\"].isnull()]\n",
    "nbNomsSansGenre=len(noms3SansGenre)\n",
    "print \"noms sans genre\",len(noms3SansGenre)\n"
   ]
  },
  {
   "cell_type": "code",
   "execution_count": null,
   "metadata": {
    "collapsed": true
   },
   "outputs": [],
   "source": [
    "noms3Specifies=noms3[~noms3[[\"5_genre\",\"6_nombre\"]].isnull().any(axis=1)]\n",
    "noms3Homographes=noms3[noms3[[\"5_genre\",\"6_nombre\"]].isnull().any(axis=1)]"
   ]
  },
  {
   "cell_type": "code",
   "execution_count": 64,
   "metadata": {
    "collapsed": true
   },
   "outputs": [],
   "source": [
    "nbNomsSpecifies=len(noms3Specifies)\n",
    "nbNomsHomographes=len(noms3Homographes)"
   ]
  },
  {
   "cell_type": "code",
   "execution_count": 65,
   "metadata": {},
   "outputs": [
    {
     "name": "stdout",
     "output_type": "stream",
     "text": [
      "noms 48287\n",
      "noms spécifiés 43881\n",
      "noms ambigus 4406\n",
      "%% de noms ambigus 9.12460910804\n"
     ]
    }
   ],
   "source": [
    "print u\"noms\",nbNoms\n",
    "print u\"noms spécifiés\",nbNomsSpecifies\n",
    "print \"noms ambigus\",nbNomsHomographes\n",
    "print \"%% de noms ambigus\",nbNomsHomographes*1./nbNoms*100"
   ]
  },
  {
   "cell_type": "markdown",
   "metadata": {},
   "source": [
    "- 30541 noms (lemme, genre)\n",
    "    - 48287 formes\n",
    "    - 43881 formes spécifiées\n",
    "    - 4406 formes ambiguës : 9,12%\n",
    "        - 1796 formes sans nombre\n",
    "        - 2618 formes sans genre\n",
    "   "
   ]
  },
  {
   "cell_type": "code",
   "execution_count": 86,
   "metadata": {},
   "outputs": [],
   "source": [
    "noms3Masc=noms3[noms3[\"5_genre\"]==\"m\"]\n",
    "nbNomsMascSpec=len(noms3Masc)\n",
    "nbNomsMasc=nbNomsMascSpec+nbNomsSansGenre\n",
    "noms3Fem=noms3[noms3[\"5_genre\"]==\"f\"]\n",
    "nbNomsFemSpec=len(noms3Fem)\n",
    "nbNomsFem=nbNomsFemSpec+nbNomsSansGenre"
   ]
  },
  {
   "cell_type": "code",
   "execution_count": 79,
   "metadata": {},
   "outputs": [
    {
     "name": "stdout",
     "output_type": "stream",
     "text": [
      "0.0891628635652\n",
      "0.121524393074\n",
      "0.608072566115\n"
     ]
    }
   ],
   "source": [
    "print 1.0*nbNomsSansGenre/nbNomsMasc\n",
    "print 1.0*nbNomsSansGenre/nbNomsFem\n",
    "print 1.0*nbNomsMasc/nbNoms"
   ]
  },
  {
   "cell_type": "code",
   "execution_count": 74,
   "metadata": {
    "collapsed": true
   },
   "outputs": [],
   "source": [
    "noms3Sg=noms3[noms3[\"6_nombre\"]==\"s\"]\n",
    "nbNomsSgSpec=len(noms3Sg)\n",
    "nbNomsSg=nbNomsSgSpec+nbNomsSansNombre\n",
    "noms3Pl=noms3[noms3[\"6_nombre\"]==\"p\"]\n",
    "nbNomsPlSpec=len(noms3Pl)\n",
    "nbNomsPl=nbNomsPlSpec+nbNomsSansNombre\n"
   ]
  },
  {
   "cell_type": "code",
   "execution_count": 91,
   "metadata": {},
   "outputs": [
    {
     "name": "stdout",
     "output_type": "stream",
     "text": [
      "0.0590110070642\n",
      "0.0914087947883\n",
      "0.593099592023 0.630293867915\n",
      "0.369706132085 0.406900407977\n"
     ]
    }
   ],
   "source": [
    "print 1.0*nbNomsSansNombre/nbNomsSg\n",
    "print 1.0*nbNomsSansNombre/nbNomsPl\n",
    "print 1.0*nbNomsSgSpec/nbNoms,1.0*nbNomsSg/nbNoms\n",
    "print 1.0*nbNomsPlSpec/nbNoms,1.0*nbNomsPl/nbNoms"
   ]
  },
  {
   "cell_type": "code",
   "execution_count": 101,
   "metadata": {},
   "outputs": [
    {
     "name": "stdout",
     "output_type": "stream",
     "text": [
      "1719 69\n"
     ]
    }
   ],
   "source": [
    "noms3MascSansNombre=noms3SansNombre[(noms3SansNombre[\"5_genre\"]==\"m\")]\n",
    "nbNomsMascSansNombre=len(noms3MascSansNombre)\n",
    "noms3FemSansNombre=noms3SansNombre[(noms3SansNombre[\"5_genre\"]==\"f\")]\n",
    "nbNomsFemSansNombre=len(noms3FemSansNombre)\n",
    "print nbNomsMascSansNombre,nbNomsFemSansNombre"
   ]
  },
  {
   "cell_type": "code",
   "execution_count": 89,
   "metadata": {},
   "outputs": [
    {
     "name": "stdout",
     "output_type": "stream",
     "text": [
      "0.0585450582385\n",
      "0.00320289653252\n"
     ]
    }
   ],
   "source": [
    "print 1.0*nbNomsMascSansNombre/nbNomsMasc\n",
    "print 1.0*nbNomsFemSansNombre/nbNomsFem"
   ]
  },
  {
   "cell_type": "code",
   "execution_count": 97,
   "metadata": {},
   "outputs": [
    {
     "name": "stdout",
     "output_type": "stream",
     "text": [
      "0.694589877836\n"
     ]
    }
   ],
   "source": [
    "nbNomsMascSansNombreSXZ=len(noms3MascSansNombre[noms3MascSansNombre[\"1_ortho\"].str.contains(\"[sxz]$\")])\n",
    "print 1.0*nbNomsMascSansNombreSXZ/nbNomsMascSansNombre"
   ]
  },
  {
   "cell_type": "code",
   "execution_count": 103,
   "metadata": {},
   "outputs": [
    {
     "name": "stdout",
     "output_type": "stream",
     "text": [
      "1500 1110 2618\n"
     ]
    }
   ],
   "source": [
    "nbNomsSansGenreSgSpec=len(noms3SansGenre[noms3SansGenre[\"6_nombre\"]==\"s\"])\n",
    "nbNomsSansGenrePlSpec=len(noms3SansGenre[noms3SansGenre[\"6_nombre\"]==\"p\"])\n",
    "print nbNomsSansGenreSgSpec,nbNomsSansGenrePlSpec,nbNomsSansGenre"
   ]
  },
  {
   "cell_type": "code",
   "execution_count": 99,
   "metadata": {},
   "outputs": [
    {
     "data": {
      "text/plain": [
       "(69, 1719, 1796)"
      ]
     },
     "execution_count": 99,
     "metadata": {},
     "output_type": "execute_result"
    }
   ],
   "source": [
    "nbNomsFemSansNombre,nbNomsMascSansNombre,nbNomsSansNombre"
   ]
  }
 ],
 "metadata": {
  "kernelspec": {
   "display_name": "Python 2",
   "language": "python",
   "name": "python2"
  },
  "language_info": {
   "codemirror_mode": {
    "name": "ipython",
    "version": 2
   },
   "file_extension": ".py",
   "mimetype": "text/x-python",
   "name": "python",
   "nbconvert_exporter": "python",
   "pygments_lexer": "ipython2",
   "version": "2.7.11"
  }
 },
 "nbformat": 4,
 "nbformat_minor": 1
}
