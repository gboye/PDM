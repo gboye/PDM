{
 "cells": [
  {
   "cell_type": "code",
   "execution_count": 1,
   "metadata": {},
   "outputs": [],
   "source": [
    "import codecs,math\n",
    "import pandas as pd\n",
    "import numpy as np\n",
    "import matplotlib.pyplot as plt"
   ]
  },
  {
   "cell_type": "markdown",
   "metadata": {},
   "source": [
    "## Lecture de Lexique3\n",
    "1. lecture dans un DF *Lexique3*\n",
    "1. extraction des colonnes pertinentes *lex3*"
   ]
  },
  {
   "cell_type": "code",
   "execution_count": 2,
   "metadata": {},
   "outputs": [],
   "source": [
    "nomLexiqueOrg=\"/Users/gilles/ownCloud/Python/phonemisation/Lexique380-UTF8.txt\"\n",
    "nomRepertoire=\"/Volumes/gilles/Transfert/Copies-iMac-GB/Python/phonemisation/\"\n",
    "nomLexiqueOrg=nomRepertoire+\"Lexique380-UTF8.txt\"\n",
    "Lexique3=pd.read_csv(nomLexiqueOrg,sep=\"\\t\")"
   ]
  },
  {
   "cell_type": "code",
   "execution_count": 3,
   "metadata": {
    "scrolled": false
   },
   "outputs": [
    {
     "data": {
      "text/plain": [
       "Index([u'1_ortho', u'2_phon', u'3_lemme', u'4_cgram', u'5_genre', u'6_nombre',\n",
       "       u'7_freqlemfilms2', u'8_freqlemlivres', u'9_freqfilms2',\n",
       "       u'10_freqlivres', u'11_infover', u'12_nbhomogr', u'13_nbhomoph',\n",
       "       u'14_islem', u'15_nblettres', u'16_nbphons', u'17_cvcv', u'18_p_cvcv',\n",
       "       u'19_voisorth', u'20_voisphon', u'21_puorth', u'22_puphon', u'23_syll',\n",
       "       u'24_nbsyll', u'25_cv-cv', u'26_orthrenv', u'27_phonrenv',\n",
       "       u'28_orthosyll', u'29_cgramortho', u'30_deflem', u'31_defobs',\n",
       "       u'32_old20', u'33_pld20', u'34_morphoder', u'35_nbmorph'],\n",
       "      dtype='object')"
      ]
     },
     "execution_count": 3,
     "metadata": {},
     "output_type": "execute_result"
    }
   ],
   "source": [
    "Lexique3.columns"
   ]
  },
  {
   "cell_type": "code",
   "execution_count": 4,
   "metadata": {
    "scrolled": true
   },
   "outputs": [],
   "source": [
    "lex3=Lexique3[[\"1_ortho\",\"2_phon\",\"3_lemme\",\"4_cgram\",\"5_genre\",\"6_nombre\",\"7_freqlemfilms2\",\"8_freqlemlivres\",\"9_freqfilms2\",\"10_freqlivres\",\"11_infover\"]].copy()\n",
    "Lexique3=None"
   ]
  },
  {
   "cell_type": "code",
   "execution_count": 5,
   "metadata": {},
   "outputs": [
    {
     "data": {
      "text/html": [
       "<div>\n",
       "<table border=\"1\" class=\"dataframe\">\n",
       "  <thead>\n",
       "    <tr style=\"text-align: right;\">\n",
       "      <th></th>\n",
       "      <th>1_ortho</th>\n",
       "      <th>3_lemme</th>\n",
       "      <th>9_freqfilms2</th>\n",
       "    </tr>\n",
       "  </thead>\n",
       "  <tbody>\n",
       "    <tr>\n",
       "      <th>0</th>\n",
       "      <td>a</td>\n",
       "      <td>a</td>\n",
       "      <td>81.36</td>\n",
       "    </tr>\n",
       "    <tr>\n",
       "      <th>1</th>\n",
       "      <td>a</td>\n",
       "      <td>avoir</td>\n",
       "      <td>6350.91</td>\n",
       "    </tr>\n",
       "    <tr>\n",
       "      <th>2</th>\n",
       "      <td>a</td>\n",
       "      <td>avoir</td>\n",
       "      <td>5498.34</td>\n",
       "    </tr>\n",
       "    <tr>\n",
       "      <th>3</th>\n",
       "      <td>a capella</td>\n",
       "      <td>a capella</td>\n",
       "      <td>0.04</td>\n",
       "    </tr>\n",
       "    <tr>\n",
       "      <th>4</th>\n",
       "      <td>a cappella</td>\n",
       "      <td>a cappella</td>\n",
       "      <td>0.04</td>\n",
       "    </tr>\n",
       "  </tbody>\n",
       "</table>\n",
       "</div>"
      ],
      "text/plain": [
       "      1_ortho     3_lemme  9_freqfilms2\n",
       "0           a           a         81.36\n",
       "1           a       avoir       6350.91\n",
       "2           a       avoir       5498.34\n",
       "3   a capella   a capella          0.04\n",
       "4  a cappella  a cappella          0.04"
      ]
     },
     "execution_count": 5,
     "metadata": {},
     "output_type": "execute_result"
    }
   ],
   "source": [
    "lex3.loc[:,\"7_freqlemfilms2\"]=lex3.loc[:,\"7_freqlemfilms2\"].astype(float)\n",
    "lex3.loc[:,\"8_freqlemlivres\"]=lex3.loc[:,\"8_freqlemlivres\"].astype(float)\n",
    "lex3.loc[:,\"9_freqfilms2\"]=lex3.loc[:,\"9_freqfilms2\"].astype(float)\n",
    "lex3.loc[:,\"10_freqlivres\"]=lex3.loc[:,\"10_freqlivres\"].astype(float)\n",
    "lex3[[\"1_ortho\",\"3_lemme\",\"9_freqfilms2\"]].head()"
   ]
  },
  {
   "cell_type": "code",
   "execution_count": 9,
   "metadata": {},
   "outputs": [
    {
     "data": {
      "text/plain": [
       "0.21868152277204744"
      ]
     },
     "execution_count": 9,
     "metadata": {},
     "output_type": "execute_result"
    }
   ],
   "source": [
    "lex3[lex3[\"4_cgram\"]==\"VER\"][\"9_freqfilms2\"].sum()/(lex3[\"9_freqfilms2\"].sum())"
   ]
  },
  {
   "cell_type": "markdown",
   "metadata": {},
   "source": [
    "## Analyse de Lexique3"
   ]
  },
  {
   "cell_type": "markdown",
   "metadata": {},
   "source": [
    "#### Ajout du rang pour les formes"
   ]
  },
  {
   "cell_type": "code",
   "execution_count": 6,
   "metadata": {},
   "outputs": [
    {
     "data": {
      "text/html": [
       "<div>\n",
       "<table border=\"1\" class=\"dataframe\">\n",
       "  <thead>\n",
       "    <tr style=\"text-align: right;\">\n",
       "      <th></th>\n",
       "      <th>1_ortho</th>\n",
       "      <th>2_phon</th>\n",
       "      <th>3_lemme</th>\n",
       "      <th>4_cgram</th>\n",
       "      <th>5_genre</th>\n",
       "      <th>6_nombre</th>\n",
       "      <th>7_freqlemfilms2</th>\n",
       "      <th>8_freqlemlivres</th>\n",
       "      <th>9_freqfilms2</th>\n",
       "      <th>10_freqlivres</th>\n",
       "      <th>11_infover</th>\n",
       "      <th>rangFW</th>\n",
       "      <th>rangTW</th>\n",
       "    </tr>\n",
       "  </thead>\n",
       "  <tbody>\n",
       "    <tr>\n",
       "      <th>0</th>\n",
       "      <td>a</td>\n",
       "      <td>a</td>\n",
       "      <td>a</td>\n",
       "      <td>NOM</td>\n",
       "      <td>m</td>\n",
       "      <td>NaN</td>\n",
       "      <td>81.36</td>\n",
       "      <td>58.65</td>\n",
       "      <td>81.36</td>\n",
       "      <td>58.65</td>\n",
       "      <td>NaN</td>\n",
       "      <td>955.0</td>\n",
       "      <td>1297.5</td>\n",
       "    </tr>\n",
       "    <tr>\n",
       "      <th>1</th>\n",
       "      <td>a</td>\n",
       "      <td>a</td>\n",
       "      <td>avoir</td>\n",
       "      <td>AUX</td>\n",
       "      <td>NaN</td>\n",
       "      <td>NaN</td>\n",
       "      <td>18559.22</td>\n",
       "      <td>12800.81</td>\n",
       "      <td>6350.91</td>\n",
       "      <td>2926.69</td>\n",
       "      <td>ind:pre:3s;</td>\n",
       "      <td>22.0</td>\n",
       "      <td>46.0</td>\n",
       "    </tr>\n",
       "    <tr>\n",
       "      <th>2</th>\n",
       "      <td>a</td>\n",
       "      <td>a</td>\n",
       "      <td>avoir</td>\n",
       "      <td>VER</td>\n",
       "      <td>NaN</td>\n",
       "      <td>NaN</td>\n",
       "      <td>13572.40</td>\n",
       "      <td>6426.49</td>\n",
       "      <td>5498.34</td>\n",
       "      <td>1669.39</td>\n",
       "      <td>ind:pre:3s;</td>\n",
       "      <td>25.0</td>\n",
       "      <td>64.0</td>\n",
       "    </tr>\n",
       "    <tr>\n",
       "      <th>3</th>\n",
       "      <td>a capella</td>\n",
       "      <td>akapEla</td>\n",
       "      <td>a capella</td>\n",
       "      <td>ADV</td>\n",
       "      <td>NaN</td>\n",
       "      <td>NaN</td>\n",
       "      <td>0.04</td>\n",
       "      <td>0.07</td>\n",
       "      <td>0.04</td>\n",
       "      <td>0.07</td>\n",
       "      <td>NaN</td>\n",
       "      <td>77026.5</td>\n",
       "      <td>106149.5</td>\n",
       "    </tr>\n",
       "    <tr>\n",
       "      <th>4</th>\n",
       "      <td>a cappella</td>\n",
       "      <td>akapEla</td>\n",
       "      <td>a cappella</td>\n",
       "      <td>ADV</td>\n",
       "      <td>NaN</td>\n",
       "      <td>NaN</td>\n",
       "      <td>0.04</td>\n",
       "      <td>0.07</td>\n",
       "      <td>0.04</td>\n",
       "      <td>0.07</td>\n",
       "      <td>NaN</td>\n",
       "      <td>77026.5</td>\n",
       "      <td>106149.5</td>\n",
       "    </tr>\n",
       "  </tbody>\n",
       "</table>\n",
       "</div>"
      ],
      "text/plain": [
       "      1_ortho   2_phon     3_lemme 4_cgram 5_genre 6_nombre  7_freqlemfilms2  \\\n",
       "0           a        a           a     NOM       m      NaN            81.36   \n",
       "1           a        a       avoir     AUX     NaN      NaN         18559.22   \n",
       "2           a        a       avoir     VER     NaN      NaN         13572.40   \n",
       "3   a capella  akapEla   a capella     ADV     NaN      NaN             0.04   \n",
       "4  a cappella  akapEla  a cappella     ADV     NaN      NaN             0.04   \n",
       "\n",
       "   8_freqlemlivres  9_freqfilms2  10_freqlivres   11_infover   rangFW  \\\n",
       "0            58.65         81.36          58.65          NaN    955.0   \n",
       "1         12800.81       6350.91        2926.69  ind:pre:3s;     22.0   \n",
       "2          6426.49       5498.34        1669.39  ind:pre:3s;     25.0   \n",
       "3             0.07          0.04           0.07          NaN  77026.5   \n",
       "4             0.07          0.04           0.07          NaN  77026.5   \n",
       "\n",
       "     rangTW  \n",
       "0    1297.5  \n",
       "1      46.0  \n",
       "2      64.0  \n",
       "3  106149.5  \n",
       "4  106149.5  "
      ]
     },
     "execution_count": 6,
     "metadata": {},
     "output_type": "execute_result"
    }
   ],
   "source": [
    "lex3.loc[:,\"rangFW\"]=lex3.loc[:,\"9_freqfilms2\"].rank(ascending=False)\n",
    "lex3.loc[:,\"rangTW\"]=lex3.loc[:,\"10_freqlivres\"].rank(ascending=False)\n",
    "lex3.head()"
   ]
  },
  {
   "cell_type": "markdown",
   "metadata": {},
   "source": [
    "### Graphes Fréquence=f(Rang)"
   ]
  },
  {
   "cell_type": "code",
   "execution_count": null,
   "metadata": {},
   "outputs": [],
   "source": [
    "%matplotlib inline"
   ]
  },
  {
   "cell_type": "markdown",
   "metadata": {},
   "source": [
    "#### Choix du style de plot"
   ]
  },
  {
   "cell_type": "code",
   "execution_count": null,
   "metadata": {},
   "outputs": [],
   "source": [
    "import seaborn as sns\n",
    "sns.set_style(\"darkgrid\")\n",
    "sns.set_context(\"notebook\", font_scale=1.5, rc={\"lines.linewidth\": 2.5})\n",
    "sns.set_palette(\"hls\")\n",
    "#sns.palplot(sns.color_palette(\"hls\", 8))\n",
    "#sns.palplot(sns.color_palette(\"husl\", 8))"
   ]
  },
  {
   "cell_type": "markdown",
   "metadata": {},
   "source": [
    "#### Distribution de la fréquence des formes dans Films"
   ]
  },
  {
   "cell_type": "code",
   "execution_count": null,
   "metadata": {},
   "outputs": [],
   "source": [
    "ax=lex3.sort_values(\"rangFW\").set_index(\"rangFW\")[\"9_freqfilms2\"].plot()\n",
    "ax.set(xscale=\"log\",yscale=\"log\",xlabel=\"Rang\",ylabel=u\"Fréquence\",title=\"Formes dans Films\")\n",
    "None"
   ]
  },
  {
   "cell_type": "markdown",
   "metadata": {},
   "source": [
    "#### Distribution de la fréquence des formes dans Textes"
   ]
  },
  {
   "cell_type": "code",
   "execution_count": null,
   "metadata": {},
   "outputs": [],
   "source": [
    "ax=lex3.sort_values(\"rangTW\").set_index(\"rangTW\")[\"10_freqlivres\"].plot()\n",
    "ax.set(xscale=\"log\",yscale=\"log\",xlabel=\"Rang\",ylabel=u\"Fréquence\",title=\"Formes dans Textes\")\n",
    "None"
   ]
  },
  {
   "cell_type": "markdown",
   "metadata": {},
   "source": [
    "#### Extraction des fréquences de lexèmes"
   ]
  },
  {
   "cell_type": "code",
   "execution_count": null,
   "metadata": {},
   "outputs": [],
   "source": [
    "lex3Lemmes=lex3.drop_duplicates(subset=[\"3_lemme\",\"4_cgram\",\"7_freqlemfilms2\",\"8_freqlemlivres\"]).copy()\n",
    "lex3Lemmes.loc[:,\"rangFL\"]=lex3Lemmes.loc[:,\"7_freqlemfilms2\"].rank(ascending=False)\n",
    "lex3Lemmes.loc[:,\"rangTL\"]=lex3Lemmes.loc[:,\"8_freqlemlivres\"].rank(ascending=False)\n",
    "lex3Lemmes.head()"
   ]
  },
  {
   "cell_type": "markdown",
   "metadata": {},
   "source": [
    "#### Distribution de la fréquence des lexèmes dans Films"
   ]
  },
  {
   "cell_type": "code",
   "execution_count": null,
   "metadata": {},
   "outputs": [],
   "source": [
    "ax=lex3Lemmes.sort_values(\"rangFL\").set_index(\"rangFL\")[\"7_freqlemfilms2\"].plot()\n",
    "ax.set(xscale=\"log\",yscale=\"log\",xlabel=\"Rang\",ylabel=u\"Fréquence\",title=u\"Lexèmes dans Films\")\n",
    "None"
   ]
  },
  {
   "cell_type": "markdown",
   "metadata": {},
   "source": [
    "#### Distribution de la fréquence des lexèmes dans Textes"
   ]
  },
  {
   "cell_type": "code",
   "execution_count": null,
   "metadata": {},
   "outputs": [],
   "source": [
    "ax=lex3Lemmes.sort_values(\"rangTL\").set_index(\"rangTL\")[\"8_freqlemlivres\"].plot()\n",
    "ax.set(xscale=\"log\",yscale=\"log\",xlabel=\"Rang\",ylabel=u\"Fréquence\",title=u\"Lexèmes dans Textes\")\n",
    "None"
   ]
  },
  {
   "cell_type": "markdown",
   "metadata": {},
   "source": [
    "## Analyse de Verbes3"
   ]
  },
  {
   "cell_type": "markdown",
   "metadata": {},
   "source": [
    "### Extraction des verbes de Lexique3"
   ]
  },
  {
   "cell_type": "code",
   "execution_count": null,
   "metadata": {},
   "outputs": [],
   "source": [
    "lex3.rename(columns={'11_infover':'lex3_11_infover'}, inplace=True)"
   ]
  },
  {
   "cell_type": "code",
   "execution_count": null,
   "metadata": {},
   "outputs": [],
   "source": [
    "verb3=lex3[lex3[\"4_cgram\"]==\"VER\"]"
   ]
  },
  {
   "cell_type": "code",
   "execution_count": null,
   "metadata": {},
   "outputs": [],
   "source": [
    "verb3.loc[:,\"rangFWV\"]=verb3.loc[:,\"9_freqfilms2\"].rank(ascending=False)\n",
    "verb3.loc[:,\"rangTWV\"]=verb3.loc[:,\"10_freqlivres\"].rank(ascending=False)\n",
    "verb3.head()"
   ]
  },
  {
   "cell_type": "markdown",
   "metadata": {},
   "source": [
    "### Graphes Fréquence=f(Rang)"
   ]
  },
  {
   "cell_type": "code",
   "execution_count": null,
   "metadata": {},
   "outputs": [],
   "source": [
    "ax=verb3.sort_values(\"rangFWV\").set_index(\"rangFWV\")[\"9_freqfilms2\"].plot()\n",
    "ax.set(xscale=\"log\",yscale=\"log\",xlabel=\"Rang\",ylabel=u\"Fréquence\",title=\"Formes verbales dans Films\")\n",
    "None"
   ]
  },
  {
   "cell_type": "code",
   "execution_count": null,
   "metadata": {},
   "outputs": [],
   "source": [
    "ax=verb3.sort_values(\"rangTWV\").set_index(\"rangTWV\")[\"10_freqlivres\"].plot()\n",
    "ax.set(xscale=\"log\",yscale=\"log\",xlabel=\"Rang\",ylabel=u\"Fréquence\",title=\"Formes verbales dans Textes\")\n",
    "None"
   ]
  },
  {
   "cell_type": "markdown",
   "metadata": {},
   "source": [
    "#### Extraction des fréquences de lexèmes"
   ]
  },
  {
   "cell_type": "code",
   "execution_count": null,
   "metadata": {},
   "outputs": [],
   "source": [
    "verb3Lemmes=verb3.drop_duplicates(subset=[\"3_lemme\",\"4_cgram\",\"7_freqlemfilms2\",\"8_freqlemlivres\"]).copy()\n",
    "verb3Lemmes.loc[:,\"rangFLV\"]=verb3Lemmes.loc[:,\"7_freqlemfilms2\"].rank(ascending=False)\n",
    "verb3Lemmes.loc[:,\"rangTLV\"]=verb3Lemmes.loc[:,\"8_freqlemlivres\"].rank(ascending=False)\n",
    "verb3Lemmes.head()"
   ]
  },
  {
   "cell_type": "markdown",
   "metadata": {},
   "source": [
    "#### Distribution de la fréquence des lexèmes dans Films"
   ]
  },
  {
   "cell_type": "code",
   "execution_count": null,
   "metadata": {},
   "outputs": [],
   "source": [
    "ax=verb3Lemmes.sort_values(\"rangFLV\").set_index(\"rangFLV\")[\"7_freqlemfilms2\"].plot()\n",
    "ax.set(xscale=\"log\",yscale=\"log\",xlabel=\"Rang\",ylabel=u\"Fréquence\",title=u\"Lexèmes verbaux dans Films\")\n",
    "None"
   ]
  },
  {
   "cell_type": "code",
   "execution_count": null,
   "metadata": {},
   "outputs": [],
   "source": [
    "ax=verb3Lemmes.sort_values(\"rangTLV\").set_index(\"rangTLV\")[\"8_freqlemlivres\"].plot()\n",
    "ax.set(xscale=\"log\",yscale=\"log\",xlabel=\"Rang\",ylabel=u\"Fréquence\",title=u\"Lexèmes verbaux dans Textes\")\n",
    "None"
   ]
  },
  {
   "cell_type": "markdown",
   "metadata": {},
   "source": [
    "# TESTS \n",
    "## Examen de la distribution des échantillons"
   ]
  },
  {
   "cell_type": "code",
   "execution_count": null,
   "metadata": {},
   "outputs": [],
   "source": [
    "import pickle"
   ]
  },
  {
   "cell_type": "code",
   "execution_count": null,
   "metadata": {},
   "outputs": [],
   "source": [
    "nomSample=\"/Volumes/gilles/Transfert/Copies-iMac-GB/2015-Data/Longitudinales/Longitudinal-55-T1100000-F41134.pkl\""
   ]
  },
  {
   "cell_type": "code",
   "execution_count": null,
   "metadata": {},
   "outputs": [],
   "source": [
    "with open(nomSample,\"rb\") as input:\n",
    "    dfSample=pickle.load(input)\n",
    "dfSample[\"rang\"]=dfSample.tir1.rank(ascending=False)"
   ]
  },
  {
   "cell_type": "code",
   "execution_count": null,
   "metadata": {},
   "outputs": [],
   "source": [
    "ax=dfSample.sort_values(\"rang\").set_index(\"rang\")[\"tir1\"].plot()\n",
    "ax.set(xscale=\"log\",yscale=\"log\",xlabel=\"Rang\",ylabel=u\"Fréquence\",title=u\"Formes verbales\")\n",
    "None"
   ]
  },
  {
   "cell_type": "code",
   "execution_count": null,
   "metadata": {},
   "outputs": [],
   "source": [
    "lexemesSample=dfSample.groupby(\"lexeme\")[[\"tir1\"]].sum()\n",
    "lexemesSample[\"rang\"]=lexemesSample.tir1.rank(ascending=False)"
   ]
  },
  {
   "cell_type": "code",
   "execution_count": null,
   "metadata": {},
   "outputs": [],
   "source": [
    "ax=lexemesSample.sort_values(\"rang\").set_index(\"rang\")[\"tir1\"].plot()\n",
    "ax.set(xscale=\"log\",yscale=\"log\",xlabel=\"Rang\",ylabel=u\"Fréquence\",title=u\"Verbes\")\n",
    "None"
   ]
  },
  {
   "cell_type": "markdown",
   "metadata": {},
   "source": [
    "# Projet de thèse Gauvain"
   ]
  },
  {
   "cell_type": "code",
   "execution_count": null,
   "metadata": {},
   "outputs": [],
   "source": [
    "lex3[lex3[\"7_freqlemfilms2\"]>=.1].groupby(\"3_lemme\").count()"
   ]
  },
  {
   "cell_type": "code",
   "execution_count": null,
   "metadata": {},
   "outputs": [],
   "source": [
    "for seuil in [100, 10, 1, 0.1, 0.01]:\n",
    "    print \"seuil\",seuil\n",
    "    dfFilms=lex3[lex3[\"7_freqlemfilms2\"]>=seuil].groupby(\"3_lemme\")\n",
    "    countFilms=dfFilms.count()\n",
    "    print \"\\tFilms\"\n",
    "#    print \"\\tTextes\",lex3[(lex3[\"8_freqlemlivres\"]>=seuil)].groupby(\"3_lemme\").count().shape\n",
    "#    print \"\\tLex3\",lex3[(lex3[\"7_freqlemfilms2\"]>=seuil)|(lex3[\"8_freqlemlivres\"]>=seuil)].groupby(\"3_lemme\").count().shape"
   ]
  },
  {
   "cell_type": "code",
   "execution_count": null,
   "metadata": {},
   "outputs": [],
   "source": [
    "lex3.groupby(\"3_lemme\").count()"
   ]
  },
  {
   "cell_type": "code",
   "execution_count": 14,
   "metadata": {},
   "outputs": [
    {
     "data": {
      "text/plain": [
       "705"
      ]
     },
     "execution_count": 14,
     "metadata": {},
     "output_type": "execute_result"
    }
   ],
   "source": [
    "lex3[(lex3[\"7_freqlemfilms2\"]>100)].groupby(\"3_lemme\").count().shape[0]"
   ]
  },
  {
   "cell_type": "code",
   "execution_count": 15,
   "metadata": {},
   "outputs": [
    {
     "data": {
      "text/plain": [
       "3676"
      ]
     },
     "execution_count": 15,
     "metadata": {},
     "output_type": "execute_result"
    }
   ],
   "source": [
    "lex3[lex3[\"7_freqlemfilms2\"]>=10].groupby(\"3_lemme\").count().shape[0]"
   ]
  },
  {
   "cell_type": "code",
   "execution_count": 16,
   "metadata": {},
   "outputs": [
    {
     "data": {
      "text/plain": [
       "12486"
      ]
     },
     "execution_count": 16,
     "metadata": {},
     "output_type": "execute_result"
    }
   ],
   "source": [
    "lex3[lex3[\"7_freqlemfilms2\"]>=1].groupby(\"3_lemme\").count().shape[0]"
   ]
  },
  {
   "cell_type": "code",
   "execution_count": 7,
   "metadata": {},
   "outputs": [
    {
     "data": {
      "text/plain": [
       "26345"
      ]
     },
     "execution_count": 7,
     "metadata": {},
     "output_type": "execute_result"
    }
   ],
   "source": [
    "lex3[lex3[\"7_freqlemfilms2\"]>=0.1].groupby(\"3_lemme\").count().shape[0]"
   ]
  },
  {
   "cell_type": "code",
   "execution_count": 8,
   "metadata": {},
   "outputs": [
    {
     "data": {
      "text/plain": [
       "37630"
      ]
     },
     "execution_count": 8,
     "metadata": {},
     "output_type": "execute_result"
    }
   ],
   "source": [
    "lex3[lex3[\"7_freqlemfilms2\"]>=0.01].groupby(\"3_lemme\").count().shape[0]"
   ]
  },
  {
   "cell_type": "code",
   "execution_count": 9,
   "metadata": {},
   "outputs": [
    {
     "data": {
      "text/plain": [
       "806"
      ]
     },
     "execution_count": 9,
     "metadata": {},
     "output_type": "execute_result"
    }
   ],
   "source": [
    "lex3[(lex3[\"8_freqlemlivres\"]>100)].groupby(\"3_lemme\").count().shape[0]"
   ]
  },
  {
   "cell_type": "code",
   "execution_count": 10,
   "metadata": {},
   "outputs": [
    {
     "data": {
      "text/plain": [
       "5147"
      ]
     },
     "execution_count": 10,
     "metadata": {},
     "output_type": "execute_result"
    }
   ],
   "source": [
    "lex3[(lex3[\"8_freqlemlivres\"]>10)].groupby(\"3_lemme\").count().shape[0]"
   ]
  },
  {
   "cell_type": "code",
   "execution_count": 11,
   "metadata": {},
   "outputs": [
    {
     "data": {
      "text/plain": [
       "18070"
      ]
     },
     "execution_count": 11,
     "metadata": {},
     "output_type": "execute_result"
    }
   ],
   "source": [
    "lex3[(lex3[\"8_freqlemlivres\"]>1)].groupby(\"3_lemme\").count().shape[0]"
   ]
  },
  {
   "cell_type": "code",
   "execution_count": 12,
   "metadata": {},
   "outputs": [
    {
     "data": {
      "text/plain": [
       "32888"
      ]
     },
     "execution_count": 12,
     "metadata": {},
     "output_type": "execute_result"
    }
   ],
   "source": [
    "lex3[(lex3[\"8_freqlemlivres\"]>0.1)].groupby(\"3_lemme\").count().shape[0]"
   ]
  },
  {
   "cell_type": "code",
   "execution_count": 13,
   "metadata": {},
   "outputs": [
    {
     "data": {
      "text/plain": [
       "40120"
      ]
     },
     "execution_count": 13,
     "metadata": {},
     "output_type": "execute_result"
    }
   ],
   "source": [
    "lex3[(lex3[\"8_freqlemlivres\"]>0.01)].groupby(\"3_lemme\").count().shape[0]"
   ]
  },
  {
   "cell_type": "code",
   "execution_count": null,
   "metadata": {},
   "outputs": [],
   "source": []
  }
 ],
 "metadata": {
  "kernelspec": {
   "display_name": "Python 2",
   "language": "python",
   "name": "python2"
  },
  "language_info": {
   "codemirror_mode": {
    "name": "ipython",
    "version": 2
   },
   "file_extension": ".py",
   "mimetype": "text/x-python",
   "name": "python",
   "nbconvert_exporter": "python",
   "pygments_lexer": "ipython2",
   "version": "2.7.11"
  }
 },
 "nbformat": 4,
 "nbformat_minor": 2
}
