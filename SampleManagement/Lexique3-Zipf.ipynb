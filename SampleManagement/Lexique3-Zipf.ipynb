{
 "cells": [
  {
   "cell_type": "code",
   "execution_count": 1,
   "metadata": {},
   "outputs": [],
   "source": [
    "import codecs,math\n",
    "import pandas as pd\n",
    "import numpy as np\n",
    "import matplotlib.pyplot as plt"
   ]
  },
  {
   "cell_type": "markdown",
   "metadata": {},
   "source": [
    "## Lecture de Lexique3\n",
    "1. lecture dans un DF *Lexique3*\n",
    "1. extraction des colonnes pertinentes *lex3*"
   ]
  },
  {
   "cell_type": "code",
   "execution_count": 2,
   "metadata": {},
   "outputs": [],
   "source": [
    "nomLexiqueOrg=\"/Users/gilles/ownCloud/Python/phonemisation/Lexique380-UTF8.txt\"\n",
    "nomRepertoire=\"/Volumes/gilles/Transfert/Copies-iMac-GB/Python/phonemisation/\"\n",
    "nomLexiqueOrg=nomRepertoire+\"Lexique380-UTF8.txt\"\n",
    "Lexique3=pd.read_csv(nomLexiqueOrg,sep=\"\\t\")"
   ]
  },
  {
   "cell_type": "code",
   "execution_count": 3,
   "metadata": {
    "scrolled": false
   },
   "outputs": [
    {
     "data": {
      "text/plain": [
       "Index([u'1_ortho', u'2_phon', u'3_lemme', u'4_cgram', u'5_genre', u'6_nombre',\n",
       "       u'7_freqlemfilms2', u'8_freqlemlivres', u'9_freqfilms2',\n",
       "       u'10_freqlivres', u'11_infover', u'12_nbhomogr', u'13_nbhomoph',\n",
       "       u'14_islem', u'15_nblettres', u'16_nbphons', u'17_cvcv', u'18_p_cvcv',\n",
       "       u'19_voisorth', u'20_voisphon', u'21_puorth', u'22_puphon', u'23_syll',\n",
       "       u'24_nbsyll', u'25_cv-cv', u'26_orthrenv', u'27_phonrenv',\n",
       "       u'28_orthosyll', u'29_cgramortho', u'30_deflem', u'31_defobs',\n",
       "       u'32_old20', u'33_pld20', u'34_morphoder', u'35_nbmorph'],\n",
       "      dtype='object')"
      ]
     },
     "execution_count": 3,
     "metadata": {},
     "output_type": "execute_result"
    }
   ],
   "source": [
    "Lexique3.columns"
   ]
  },
  {
   "cell_type": "code",
   "execution_count": 4,
   "metadata": {
    "scrolled": true
   },
   "outputs": [],
   "source": [
    "lex3=Lexique3[[\"1_ortho\",\"2_phon\",\"3_lemme\",\"4_cgram\",\"5_genre\",\"6_nombre\",\"7_freqlemfilms2\",\"8_freqlemlivres\",\"9_freqfilms2\",\"10_freqlivres\",\"11_infover\"]].copy()\n",
    "Lexique3=None"
   ]
  },
  {
   "cell_type": "code",
   "execution_count": 5,
   "metadata": {},
   "outputs": [
    {
     "data": {
      "text/html": [
       "<div>\n",
       "<style scoped>\n",
       "    .dataframe tbody tr th:only-of-type {\n",
       "        vertical-align: middle;\n",
       "    }\n",
       "\n",
       "    .dataframe tbody tr th {\n",
       "        vertical-align: top;\n",
       "    }\n",
       "\n",
       "    .dataframe thead th {\n",
       "        text-align: right;\n",
       "    }\n",
       "</style>\n",
       "<table border=\"1\" class=\"dataframe\">\n",
       "  <thead>\n",
       "    <tr style=\"text-align: right;\">\n",
       "      <th></th>\n",
       "      <th>1_ortho</th>\n",
       "      <th>3_lemme</th>\n",
       "      <th>9_freqfilms2</th>\n",
       "    </tr>\n",
       "  </thead>\n",
       "  <tbody>\n",
       "    <tr>\n",
       "      <th>0</th>\n",
       "      <td>a</td>\n",
       "      <td>a</td>\n",
       "      <td>81.36</td>\n",
       "    </tr>\n",
       "    <tr>\n",
       "      <th>1</th>\n",
       "      <td>a</td>\n",
       "      <td>avoir</td>\n",
       "      <td>6350.91</td>\n",
       "    </tr>\n",
       "    <tr>\n",
       "      <th>2</th>\n",
       "      <td>a</td>\n",
       "      <td>avoir</td>\n",
       "      <td>5498.34</td>\n",
       "    </tr>\n",
       "    <tr>\n",
       "      <th>3</th>\n",
       "      <td>a capella</td>\n",
       "      <td>a capella</td>\n",
       "      <td>0.04</td>\n",
       "    </tr>\n",
       "    <tr>\n",
       "      <th>4</th>\n",
       "      <td>a cappella</td>\n",
       "      <td>a cappella</td>\n",
       "      <td>0.04</td>\n",
       "    </tr>\n",
       "  </tbody>\n",
       "</table>\n",
       "</div>"
      ],
      "text/plain": [
       "      1_ortho     3_lemme  9_freqfilms2\n",
       "0           a           a         81.36\n",
       "1           a       avoir       6350.91\n",
       "2           a       avoir       5498.34\n",
       "3   a capella   a capella          0.04\n",
       "4  a cappella  a cappella          0.04"
      ]
     },
     "execution_count": 5,
     "metadata": {},
     "output_type": "execute_result"
    }
   ],
   "source": [
    "lex3.loc[:,\"7_freqlemfilms2\"]=lex3.loc[:,\"7_freqlemfilms2\"].astype(float)\n",
    "lex3.loc[:,\"8_freqlemlivres\"]=lex3.loc[:,\"8_freqlemlivres\"].astype(float)\n",
    "lex3.loc[:,\"9_freqfilms2\"]=lex3.loc[:,\"9_freqfilms2\"].astype(float)\n",
    "lex3.loc[:,\"10_freqlivres\"]=lex3.loc[:,\"10_freqlivres\"].astype(float)\n",
    "lex3[[\"1_ortho\",\"3_lemme\",\"9_freqfilms2\"]].head()"
   ]
  },
  {
   "cell_type": "code",
   "execution_count": 6,
   "metadata": {},
   "outputs": [
    {
     "data": {
      "text/plain": [
       "0.21868152277211958"
      ]
     },
     "execution_count": 6,
     "metadata": {},
     "output_type": "execute_result"
    }
   ],
   "source": [
    "lex3[lex3[\"4_cgram\"]==\"VER\"][\"9_freqfilms2\"].sum()/(lex3[\"9_freqfilms2\"].sum())"
   ]
  },
  {
   "cell_type": "markdown",
   "metadata": {},
   "source": [
    "## Analyse de Lexique3"
   ]
  },
  {
   "cell_type": "markdown",
   "metadata": {},
   "source": [
    "#### Ajout du rang pour les formes"
   ]
  },
  {
   "cell_type": "code",
   "execution_count": 7,
   "metadata": {},
   "outputs": [
    {
     "data": {
      "text/html": [
       "<div>\n",
       "<style scoped>\n",
       "    .dataframe tbody tr th:only-of-type {\n",
       "        vertical-align: middle;\n",
       "    }\n",
       "\n",
       "    .dataframe tbody tr th {\n",
       "        vertical-align: top;\n",
       "    }\n",
       "\n",
       "    .dataframe thead th {\n",
       "        text-align: right;\n",
       "    }\n",
       "</style>\n",
       "<table border=\"1\" class=\"dataframe\">\n",
       "  <thead>\n",
       "    <tr style=\"text-align: right;\">\n",
       "      <th></th>\n",
       "      <th>1_ortho</th>\n",
       "      <th>2_phon</th>\n",
       "      <th>3_lemme</th>\n",
       "      <th>4_cgram</th>\n",
       "      <th>5_genre</th>\n",
       "      <th>6_nombre</th>\n",
       "      <th>7_freqlemfilms2</th>\n",
       "      <th>8_freqlemlivres</th>\n",
       "      <th>9_freqfilms2</th>\n",
       "      <th>10_freqlivres</th>\n",
       "      <th>11_infover</th>\n",
       "      <th>rangFW</th>\n",
       "      <th>rangTW</th>\n",
       "    </tr>\n",
       "  </thead>\n",
       "  <tbody>\n",
       "    <tr>\n",
       "      <th>0</th>\n",
       "      <td>a</td>\n",
       "      <td>a</td>\n",
       "      <td>a</td>\n",
       "      <td>NOM</td>\n",
       "      <td>m</td>\n",
       "      <td>NaN</td>\n",
       "      <td>81.36</td>\n",
       "      <td>58.65</td>\n",
       "      <td>81.36</td>\n",
       "      <td>58.65</td>\n",
       "      <td>NaN</td>\n",
       "      <td>955.0</td>\n",
       "      <td>1297.5</td>\n",
       "    </tr>\n",
       "    <tr>\n",
       "      <th>1</th>\n",
       "      <td>a</td>\n",
       "      <td>a</td>\n",
       "      <td>avoir</td>\n",
       "      <td>AUX</td>\n",
       "      <td>NaN</td>\n",
       "      <td>NaN</td>\n",
       "      <td>18559.22</td>\n",
       "      <td>12800.81</td>\n",
       "      <td>6350.91</td>\n",
       "      <td>2926.69</td>\n",
       "      <td>ind:pre:3s;</td>\n",
       "      <td>22.0</td>\n",
       "      <td>46.0</td>\n",
       "    </tr>\n",
       "    <tr>\n",
       "      <th>2</th>\n",
       "      <td>a</td>\n",
       "      <td>a</td>\n",
       "      <td>avoir</td>\n",
       "      <td>VER</td>\n",
       "      <td>NaN</td>\n",
       "      <td>NaN</td>\n",
       "      <td>13572.40</td>\n",
       "      <td>6426.49</td>\n",
       "      <td>5498.34</td>\n",
       "      <td>1669.39</td>\n",
       "      <td>ind:pre:3s;</td>\n",
       "      <td>25.0</td>\n",
       "      <td>64.0</td>\n",
       "    </tr>\n",
       "    <tr>\n",
       "      <th>3</th>\n",
       "      <td>a capella</td>\n",
       "      <td>akapEla</td>\n",
       "      <td>a capella</td>\n",
       "      <td>ADV</td>\n",
       "      <td>NaN</td>\n",
       "      <td>NaN</td>\n",
       "      <td>0.04</td>\n",
       "      <td>0.07</td>\n",
       "      <td>0.04</td>\n",
       "      <td>0.07</td>\n",
       "      <td>NaN</td>\n",
       "      <td>77026.5</td>\n",
       "      <td>106149.5</td>\n",
       "    </tr>\n",
       "    <tr>\n",
       "      <th>4</th>\n",
       "      <td>a cappella</td>\n",
       "      <td>akapEla</td>\n",
       "      <td>a cappella</td>\n",
       "      <td>ADV</td>\n",
       "      <td>NaN</td>\n",
       "      <td>NaN</td>\n",
       "      <td>0.04</td>\n",
       "      <td>0.07</td>\n",
       "      <td>0.04</td>\n",
       "      <td>0.07</td>\n",
       "      <td>NaN</td>\n",
       "      <td>77026.5</td>\n",
       "      <td>106149.5</td>\n",
       "    </tr>\n",
       "  </tbody>\n",
       "</table>\n",
       "</div>"
      ],
      "text/plain": [
       "      1_ortho   2_phon     3_lemme 4_cgram 5_genre 6_nombre  7_freqlemfilms2  \\\n",
       "0           a        a           a     NOM       m      NaN            81.36   \n",
       "1           a        a       avoir     AUX     NaN      NaN         18559.22   \n",
       "2           a        a       avoir     VER     NaN      NaN         13572.40   \n",
       "3   a capella  akapEla   a capella     ADV     NaN      NaN             0.04   \n",
       "4  a cappella  akapEla  a cappella     ADV     NaN      NaN             0.04   \n",
       "\n",
       "   8_freqlemlivres  9_freqfilms2  10_freqlivres   11_infover   rangFW  \\\n",
       "0            58.65         81.36          58.65          NaN    955.0   \n",
       "1         12800.81       6350.91        2926.69  ind:pre:3s;     22.0   \n",
       "2          6426.49       5498.34        1669.39  ind:pre:3s;     25.0   \n",
       "3             0.07          0.04           0.07          NaN  77026.5   \n",
       "4             0.07          0.04           0.07          NaN  77026.5   \n",
       "\n",
       "     rangTW  \n",
       "0    1297.5  \n",
       "1      46.0  \n",
       "2      64.0  \n",
       "3  106149.5  \n",
       "4  106149.5  "
      ]
     },
     "execution_count": 7,
     "metadata": {},
     "output_type": "execute_result"
    }
   ],
   "source": [
    "lex3.loc[:,\"rangFW\"]=lex3.loc[:,\"9_freqfilms2\"].rank(ascending=False)\n",
    "lex3.loc[:,\"rangTW\"]=lex3.loc[:,\"10_freqlivres\"].rank(ascending=False)\n",
    "lex3.head()"
   ]
  },
  {
   "cell_type": "markdown",
   "metadata": {},
   "source": [
    "### Graphes Fréquence=f(Rang)"
   ]
  },
  {
   "cell_type": "code",
   "execution_count": 8,
   "metadata": {},
   "outputs": [],
   "source": [
    "%matplotlib inline"
   ]
  },
  {
   "cell_type": "markdown",
   "metadata": {},
   "source": [
    "#### Choix du style de plot"
   ]
  },
  {
   "cell_type": "code",
   "execution_count": 9,
   "metadata": {},
   "outputs": [],
   "source": [
    "import seaborn as sns\n",
    "sns.set_style(\"darkgrid\")\n",
    "sns.set_context(\"notebook\", font_scale=1.5, rc={\"lines.linewidth\": 2.5})\n",
    "sns.set_palette(\"hls\")\n",
    "#sns.palplot(sns.color_palette(\"hls\", 8))\n",
    "#sns.palplot(sns.color_palette(\"husl\", 8))"
   ]
  },
  {
   "cell_type": "markdown",
   "metadata": {},
   "source": [
    "#### Distribution de la fréquence des formes dans Films"
   ]
  },
  {
   "cell_type": "code",
   "execution_count": 10,
   "metadata": {},
   "outputs": [
    {
     "data": {
      "image/png": "[encoded data removed]",
      "text/plain": [
       "<matplotlib.figure.Figure at 0x105712f50>"
      ]
     },
     "metadata": {},
     "output_type": "display_data"
    }
   ],
   "source": [
    "ax=lex3.sort_values(\"rangFW\").set_index(\"rangFW\")[\"9_freqfilms2\"].plot()\n",
    "ax.set(xscale=\"log\",yscale=\"log\",xlabel=\"Rang\",ylabel=u\"Fréquence\",title=\"Formes dans Films\")\n",
    "None"
   ]
  },
  {
   "cell_type": "markdown",
   "metadata": {},
   "source": [
    "#### Distribution de la fréquence des formes dans Textes"
   ]
  },
  {
   "cell_type": "code",
   "execution_count": 11,
   "metadata": {},
   "outputs": [
    {
     "data": {
      "image/png": "[encoded data removed]",
      "text/plain": [
       "<matplotlib.figure.Figure at 0x10db29090>"
      ]
     },
     "metadata": {},
     "output_type": "display_data"
    }
   ],
   "source": [
    "ax=lex3.sort_values(\"rangTW\").set_index(\"rangTW\")[\"10_freqlivres\"].plot()\n",
    "ax.set(xscale=\"log\",yscale=\"log\",xlabel=\"Rang\",ylabel=u\"Fréquence\",title=\"Formes dans Textes\")\n",
    "None"
   ]
  },
  {
   "cell_type": "markdown",
   "metadata": {},
   "source": [
    "#### Extraction des fréquences de lexèmes"
   ]
  },
  {
   "cell_type": "code",
   "execution_count": 12,
   "metadata": {},
   "outputs": [
    {
     "data": {
      "text/html": [
       "<div>\n",
       "<style scoped>\n",
       "    .dataframe tbody tr th:only-of-type {\n",
       "        vertical-align: middle;\n",
       "    }\n",
       "\n",
       "    .dataframe tbody tr th {\n",
       "        vertical-align: top;\n",
       "    }\n",
       "\n",
       "    .dataframe thead th {\n",
       "        text-align: right;\n",
       "    }\n",
       "</style>\n",
       "<table border=\"1\" class=\"dataframe\">\n",
       "  <thead>\n",
       "    <tr style=\"text-align: right;\">\n",
       "      <th></th>\n",
       "      <th>1_ortho</th>\n",
       "      <th>2_phon</th>\n",
       "      <th>3_lemme</th>\n",
       "      <th>4_cgram</th>\n",
       "      <th>5_genre</th>\n",
       "      <th>6_nombre</th>\n",
       "      <th>7_freqlemfilms2</th>\n",
       "      <th>8_freqlemlivres</th>\n",
       "      <th>9_freqfilms2</th>\n",
       "      <th>10_freqlivres</th>\n",
       "      <th>11_infover</th>\n",
       "      <th>rangFW</th>\n",
       "      <th>rangTW</th>\n",
       "      <th>rangFL</th>\n",
       "      <th>rangTL</th>\n",
       "    </tr>\n",
       "  </thead>\n",
       "  <tbody>\n",
       "    <tr>\n",
       "      <th>0</th>\n",
       "      <td>a</td>\n",
       "      <td>a</td>\n",
       "      <td>a</td>\n",
       "      <td>NOM</td>\n",
       "      <td>m</td>\n",
       "      <td>NaN</td>\n",
       "      <td>81.36</td>\n",
       "      <td>58.65</td>\n",
       "      <td>81.36</td>\n",
       "      <td>58.65</td>\n",
       "      <td>NaN</td>\n",
       "      <td>955.0</td>\n",
       "      <td>1297.5</td>\n",
       "      <td>876.0</td>\n",
       "      <td>1428.5</td>\n",
       "    </tr>\n",
       "    <tr>\n",
       "      <th>1</th>\n",
       "      <td>a</td>\n",
       "      <td>a</td>\n",
       "      <td>avoir</td>\n",
       "      <td>AUX</td>\n",
       "      <td>NaN</td>\n",
       "      <td>NaN</td>\n",
       "      <td>18559.22</td>\n",
       "      <td>12800.81</td>\n",
       "      <td>6350.91</td>\n",
       "      <td>2926.69</td>\n",
       "      <td>ind:pre:3s;</td>\n",
       "      <td>22.0</td>\n",
       "      <td>46.0</td>\n",
       "      <td>5.0</td>\n",
       "      <td>11.0</td>\n",
       "    </tr>\n",
       "    <tr>\n",
       "      <th>2</th>\n",
       "      <td>a</td>\n",
       "      <td>a</td>\n",
       "      <td>avoir</td>\n",
       "      <td>VER</td>\n",
       "      <td>NaN</td>\n",
       "      <td>NaN</td>\n",
       "      <td>13572.40</td>\n",
       "      <td>6426.49</td>\n",
       "      <td>5498.34</td>\n",
       "      <td>1669.39</td>\n",
       "      <td>ind:pre:3s;</td>\n",
       "      <td>25.0</td>\n",
       "      <td>64.0</td>\n",
       "      <td>11.0</td>\n",
       "      <td>26.0</td>\n",
       "    </tr>\n",
       "    <tr>\n",
       "      <th>3</th>\n",
       "      <td>a capella</td>\n",
       "      <td>akapEla</td>\n",
       "      <td>a capella</td>\n",
       "      <td>ADV</td>\n",
       "      <td>NaN</td>\n",
       "      <td>NaN</td>\n",
       "      <td>0.04</td>\n",
       "      <td>0.07</td>\n",
       "      <td>0.04</td>\n",
       "      <td>0.07</td>\n",
       "      <td>NaN</td>\n",
       "      <td>77026.5</td>\n",
       "      <td>106149.5</td>\n",
       "      <td>32164.5</td>\n",
       "      <td>39703.0</td>\n",
       "    </tr>\n",
       "    <tr>\n",
       "      <th>4</th>\n",
       "      <td>a cappella</td>\n",
       "      <td>akapEla</td>\n",
       "      <td>a cappella</td>\n",
       "      <td>ADV</td>\n",
       "      <td>NaN</td>\n",
       "      <td>NaN</td>\n",
       "      <td>0.04</td>\n",
       "      <td>0.07</td>\n",
       "      <td>0.04</td>\n",
       "      <td>0.07</td>\n",
       "      <td>NaN</td>\n",
       "      <td>77026.5</td>\n",
       "      <td>106149.5</td>\n",
       "      <td>32164.5</td>\n",
       "      <td>39703.0</td>\n",
       "    </tr>\n",
       "  </tbody>\n",
       "</table>\n",
       "</div>"
      ],
      "text/plain": [
       "      1_ortho   2_phon     3_lemme 4_cgram 5_genre 6_nombre  7_freqlemfilms2  \\\n",
       "0           a        a           a     NOM       m      NaN            81.36   \n",
       "1           a        a       avoir     AUX     NaN      NaN         18559.22   \n",
       "2           a        a       avoir     VER     NaN      NaN         13572.40   \n",
       "3   a capella  akapEla   a capella     ADV     NaN      NaN             0.04   \n",
       "4  a cappella  akapEla  a cappella     ADV     NaN      NaN             0.04   \n",
       "\n",
       "   8_freqlemlivres  9_freqfilms2  10_freqlivres   11_infover   rangFW  \\\n",
       "0            58.65         81.36          58.65          NaN    955.0   \n",
       "1         12800.81       6350.91        2926.69  ind:pre:3s;     22.0   \n",
       "2          6426.49       5498.34        1669.39  ind:pre:3s;     25.0   \n",
       "3             0.07          0.04           0.07          NaN  77026.5   \n",
       "4             0.07          0.04           0.07          NaN  77026.5   \n",
       "\n",
       "     rangTW   rangFL   rangTL  \n",
       "0    1297.5    876.0   1428.5  \n",
       "1      46.0      5.0     11.0  \n",
       "2      64.0     11.0     26.0  \n",
       "3  106149.5  32164.5  39703.0  \n",
       "4  106149.5  32164.5  39703.0  "
      ]
     },
     "execution_count": 12,
     "metadata": {},
     "output_type": "execute_result"
    }
   ],
   "source": [
    "lex3Lemmes=lex3.drop_duplicates(subset=[\"3_lemme\",\"4_cgram\",\"7_freqlemfilms2\",\"8_freqlemlivres\"]).copy()\n",
    "lex3Lemmes.loc[:,\"rangFL\"]=lex3Lemmes.loc[:,\"7_freqlemfilms2\"].rank(ascending=False)\n",
    "lex3Lemmes.loc[:,\"rangTL\"]=lex3Lemmes.loc[:,\"8_freqlemlivres\"].rank(ascending=False)\n",
    "lex3Lemmes.head()"
   ]
  },
  {
   "cell_type": "markdown",
   "metadata": {},
   "source": [
    "#### Distribution de la fréquence des lexèmes dans Films"
   ]
  },
  {
   "cell_type": "code",
   "execution_count": 13,
   "metadata": {},
   "outputs": [
    {
     "data": {
      "image/png": "[encoded data removed]",
      "text/plain": [
       "<matplotlib.figure.Figure at 0x10dd42510>"
      ]
     },
     "metadata": {},
     "output_type": "display_data"
    }
   ],
   "source": [
    "ax=lex3Lemmes.sort_values(\"rangFL\").set_index(\"rangFL\")[\"7_freqlemfilms2\"].plot()\n",
    "ax.set(xscale=\"log\",yscale=\"log\",xlabel=\"Rang\",ylabel=u\"Fréquence\",title=u\"Lexèmes dans Films\")\n",
    "None"
   ]
  },
  {
   "cell_type": "markdown",
   "metadata": {},
   "source": [
    "#### Distribution de la fréquence des lexèmes dans Textes"
   ]
  },
  {
   "cell_type": "code",
   "execution_count": 14,
   "metadata": {},
   "outputs": [
    {
     "data": {
      "image/png": "[encoded data removed]",
      "text/plain": [
       "<matplotlib.figure.Figure at 0x10aedfd90>"
      ]
     },
     "metadata": {},
     "output_type": "display_data"
    }
   ],
   "source": [
    "ax=lex3Lemmes.sort_values(\"rangTL\").set_index(\"rangTL\")[\"8_freqlemlivres\"].plot()\n",
    "ax.set(xscale=\"log\",yscale=\"log\",xlabel=\"Rang\",ylabel=u\"Fréquence\",title=u\"Lexèmes dans Textes\")\n",
    "None"
   ]
  },
  {
   "cell_type": "markdown",
   "metadata": {},
   "source": [
    "## Analyse de Verbes3"
   ]
  },
  {
   "cell_type": "markdown",
   "metadata": {},
   "source": [
    "### Extraction des verbes de Lexique3"
   ]
  },
  {
   "cell_type": "code",
   "execution_count": 15,
   "metadata": {},
   "outputs": [],
   "source": [
    "lex3.rename(columns={'11_infover':'lex3_11_infover'}, inplace=True)"
   ]
  },
  {
   "cell_type": "code",
   "execution_count": 16,
   "metadata": {},
   "outputs": [],
   "source": [
    "verb3=lex3[lex3[\"4_cgram\"]==\"VER\"]"
   ]
  },
  {
   "cell_type": "code",
   "execution_count": 17,
   "metadata": {},
   "outputs": [
    {
     "name": "stderr",
     "output_type": "stream",
     "text": [
      "/Users/gilles/anaconda/lib/python2.7/site-packages/pandas/core/indexing.py:362: SettingWithCopyWarning: \n",
      "A value is trying to be set on a copy of a slice from a DataFrame.\n",
      "Try using .loc[row_indexer,col_indexer] = value instead\n",
      "\n",
      "See the caveats in the documentation: http://pandas.pydata.org/pandas-docs/stable/indexing.html#indexing-view-versus-copy\n",
      "  self.obj[key] = _infer_fill_value(value)\n",
      "/Users/gilles/anaconda/lib/python2.7/site-packages/pandas/core/indexing.py:543: SettingWithCopyWarning: \n",
      "A value is trying to be set on a copy of a slice from a DataFrame.\n",
      "Try using .loc[row_indexer,col_indexer] = value instead\n",
      "\n",
      "See the caveats in the documentation: http://pandas.pydata.org/pandas-docs/stable/indexing.html#indexing-view-versus-copy\n",
      "  self.obj[item] = s\n"
     ]
    },
    {
     "data": {
      "text/html": [
       "<div>\n",
       "<style scoped>\n",
       "    .dataframe tbody tr th:only-of-type {\n",
       "        vertical-align: middle;\n",
       "    }\n",
       "\n",
       "    .dataframe tbody tr th {\n",
       "        vertical-align: top;\n",
       "    }\n",
       "\n",
       "    .dataframe thead th {\n",
       "        text-align: right;\n",
       "    }\n",
       "</style>\n",
       "<table border=\"1\" class=\"dataframe\">\n",
       "  <thead>\n",
       "    <tr style=\"text-align: right;\">\n",
       "      <th></th>\n",
       "      <th>1_ortho</th>\n",
       "      <th>2_phon</th>\n",
       "      <th>3_lemme</th>\n",
       "      <th>4_cgram</th>\n",
       "      <th>5_genre</th>\n",
       "      <th>6_nombre</th>\n",
       "      <th>7_freqlemfilms2</th>\n",
       "      <th>8_freqlemlivres</th>\n",
       "      <th>9_freqfilms2</th>\n",
       "      <th>10_freqlivres</th>\n",
       "      <th>lex3_11_infover</th>\n",
       "      <th>rangFW</th>\n",
       "      <th>rangTW</th>\n",
       "      <th>rangFWV</th>\n",
       "      <th>rangTWV</th>\n",
       "    </tr>\n",
       "  </thead>\n",
       "  <tbody>\n",
       "    <tr>\n",
       "      <th>2</th>\n",
       "      <td>a</td>\n",
       "      <td>a</td>\n",
       "      <td>avoir</td>\n",
       "      <td>VER</td>\n",
       "      <td>NaN</td>\n",
       "      <td>NaN</td>\n",
       "      <td>13572.40</td>\n",
       "      <td>6426.49</td>\n",
       "      <td>5498.34</td>\n",
       "      <td>1669.39</td>\n",
       "      <td>ind:pre:3s;</td>\n",
       "      <td>25.0</td>\n",
       "      <td>64.0</td>\n",
       "      <td>2.0</td>\n",
       "      <td>4.0</td>\n",
       "    </tr>\n",
       "    <tr>\n",
       "      <th>18</th>\n",
       "      <td>abaissa</td>\n",
       "      <td>abEsa</td>\n",
       "      <td>abaisser</td>\n",
       "      <td>VER</td>\n",
       "      <td>NaN</td>\n",
       "      <td>NaN</td>\n",
       "      <td>4.93</td>\n",
       "      <td>18.04</td>\n",
       "      <td>0.00</td>\n",
       "      <td>2.64</td>\n",
       "      <td>ind:pas:3s;</td>\n",
       "      <td>125749.0</td>\n",
       "      <td>18517.5</td>\n",
       "      <td>56608.5</td>\n",
       "      <td>6668.0</td>\n",
       "    </tr>\n",
       "    <tr>\n",
       "      <th>19</th>\n",
       "      <td>abaissai</td>\n",
       "      <td>abEsE</td>\n",
       "      <td>abaisser</td>\n",
       "      <td>VER</td>\n",
       "      <td>NaN</td>\n",
       "      <td>NaN</td>\n",
       "      <td>4.93</td>\n",
       "      <td>18.04</td>\n",
       "      <td>0.10</td>\n",
       "      <td>0.07</td>\n",
       "      <td>ind:pas:1s;</td>\n",
       "      <td>64548.5</td>\n",
       "      <td>106149.5</td>\n",
       "      <td>27087.5</td>\n",
       "      <td>47268.0</td>\n",
       "    </tr>\n",
       "    <tr>\n",
       "      <th>20</th>\n",
       "      <td>abaissaient</td>\n",
       "      <td>abEsE</td>\n",
       "      <td>abaisser</td>\n",
       "      <td>VER</td>\n",
       "      <td>NaN</td>\n",
       "      <td>NaN</td>\n",
       "      <td>4.93</td>\n",
       "      <td>18.04</td>\n",
       "      <td>0.00</td>\n",
       "      <td>0.41</td>\n",
       "      <td>ind:imp:3p;</td>\n",
       "      <td>125749.0</td>\n",
       "      <td>54431.0</td>\n",
       "      <td>56608.5</td>\n",
       "      <td>21840.0</td>\n",
       "    </tr>\n",
       "    <tr>\n",
       "      <th>21</th>\n",
       "      <td>abaissait</td>\n",
       "      <td>abEsE</td>\n",
       "      <td>abaisser</td>\n",
       "      <td>VER</td>\n",
       "      <td>NaN</td>\n",
       "      <td>NaN</td>\n",
       "      <td>4.93</td>\n",
       "      <td>18.04</td>\n",
       "      <td>0.02</td>\n",
       "      <td>2.50</td>\n",
       "      <td>ind:imp:3s;</td>\n",
       "      <td>88208.0</td>\n",
       "      <td>19202.0</td>\n",
       "      <td>38330.5</td>\n",
       "      <td>6954.0</td>\n",
       "    </tr>\n",
       "  </tbody>\n",
       "</table>\n",
       "</div>"
      ],
      "text/plain": [
       "        1_ortho 2_phon   3_lemme 4_cgram 5_genre 6_nombre  7_freqlemfilms2  \\\n",
       "2             a      a     avoir     VER     NaN      NaN         13572.40   \n",
       "18      abaissa  abEsa  abaisser     VER     NaN      NaN             4.93   \n",
       "19     abaissai  abEsE  abaisser     VER     NaN      NaN             4.93   \n",
       "20  abaissaient  abEsE  abaisser     VER     NaN      NaN             4.93   \n",
       "21    abaissait  abEsE  abaisser     VER     NaN      NaN             4.93   \n",
       "\n",
       "    8_freqlemlivres  9_freqfilms2  10_freqlivres lex3_11_infover    rangFW  \\\n",
       "2           6426.49       5498.34        1669.39     ind:pre:3s;      25.0   \n",
       "18            18.04          0.00           2.64     ind:pas:3s;  125749.0   \n",
       "19            18.04          0.10           0.07     ind:pas:1s;   64548.5   \n",
       "20            18.04          0.00           0.41     ind:imp:3p;  125749.0   \n",
       "21            18.04          0.02           2.50     ind:imp:3s;   88208.0   \n",
       "\n",
       "      rangTW  rangFWV  rangTWV  \n",
       "2       64.0      2.0      4.0  \n",
       "18   18517.5  56608.5   6668.0  \n",
       "19  106149.5  27087.5  47268.0  \n",
       "20   54431.0  56608.5  21840.0  \n",
       "21   19202.0  38330.5   6954.0  "
      ]
     },
     "execution_count": 17,
     "metadata": {},
     "output_type": "execute_result"
    }
   ],
   "source": [
    "verb3.loc[:,\"rangFWV\"]=verb3.loc[:,\"9_freqfilms2\"].rank(ascending=False)\n",
    "verb3.loc[:,\"rangTWV\"]=verb3.loc[:,\"10_freqlivres\"].rank(ascending=False)\n",
    "verb3.head()"
   ]
  },
  {
   "cell_type": "markdown",
   "metadata": {},
   "source": [
    "### Graphes Fréquence=f(Rang)"
   ]
  },
  {
   "cell_type": "code",
   "execution_count": 18,
   "metadata": {},
   "outputs": [
    {
     "data": {
      "image/png": "[encoded data removed]",
      "text/plain": [
       "<matplotlib.figure.Figure at 0x10d943610>"
      ]
     },
     "metadata": {},
     "output_type": "display_data"
    }
   ],
   "source": [
    "ax=verb3.sort_values(\"rangFWV\").set_index(\"rangFWV\")[\"9_freqfilms2\"].plot()\n",
    "ax.set(xscale=\"log\",yscale=\"log\",xlabel=\"Rang\",ylabel=u\"Fréquence\",title=\"Formes verbales dans Films\")\n",
    "None"
   ]
  },
  {
   "cell_type": "code",
   "execution_count": 19,
   "metadata": {},
   "outputs": [
    {
     "data": {
      "image/png": "[encoded data removed]",
      "text/plain": [
       "<matplotlib.figure.Figure at 0x10dd85110>"
      ]
     },
     "metadata": {},
     "output_type": "display_data"
    }
   ],
   "source": [
    "ax=verb3.sort_values(\"rangTWV\").set_index(\"rangTWV\")[\"10_freqlivres\"].plot()\n",
    "ax.set(xscale=\"log\",yscale=\"log\",xlabel=\"Rang\",ylabel=u\"Fréquence\",title=\"Formes verbales dans Textes\")\n",
    "None"
   ]
  },
  {
   "cell_type": "markdown",
   "metadata": {},
   "source": [
    "#### Extraction des fréquences de lexèmes"
   ]
  },
  {
   "cell_type": "code",
   "execution_count": 20,
   "metadata": {},
   "outputs": [
    {
     "data": {
      "text/html": [
       "<div>\n",
       "<style scoped>\n",
       "    .dataframe tbody tr th:only-of-type {\n",
       "        vertical-align: middle;\n",
       "    }\n",
       "\n",
       "    .dataframe tbody tr th {\n",
       "        vertical-align: top;\n",
       "    }\n",
       "\n",
       "    .dataframe thead th {\n",
       "        text-align: right;\n",
       "    }\n",
       "</style>\n",
       "<table border=\"1\" class=\"dataframe\">\n",
       "  <thead>\n",
       "    <tr style=\"text-align: right;\">\n",
       "      <th></th>\n",
       "      <th>1_ortho</th>\n",
       "      <th>2_phon</th>\n",
       "      <th>3_lemme</th>\n",
       "      <th>4_cgram</th>\n",
       "      <th>5_genre</th>\n",
       "      <th>6_nombre</th>\n",
       "      <th>7_freqlemfilms2</th>\n",
       "      <th>8_freqlemlivres</th>\n",
       "      <th>9_freqfilms2</th>\n",
       "      <th>10_freqlivres</th>\n",
       "      <th>lex3_11_infover</th>\n",
       "      <th>rangFW</th>\n",
       "      <th>rangTW</th>\n",
       "      <th>rangFWV</th>\n",
       "      <th>rangTWV</th>\n",
       "      <th>rangFLV</th>\n",
       "      <th>rangTLV</th>\n",
       "    </tr>\n",
       "  </thead>\n",
       "  <tbody>\n",
       "    <tr>\n",
       "      <th>2</th>\n",
       "      <td>a</td>\n",
       "      <td>a</td>\n",
       "      <td>avoir</td>\n",
       "      <td>VER</td>\n",
       "      <td>NaN</td>\n",
       "      <td>NaN</td>\n",
       "      <td>13572.40</td>\n",
       "      <td>6426.49</td>\n",
       "      <td>5498.34</td>\n",
       "      <td>1669.39</td>\n",
       "      <td>ind:pre:3s;</td>\n",
       "      <td>25.0</td>\n",
       "      <td>64.0</td>\n",
       "      <td>2.0</td>\n",
       "      <td>4.0</td>\n",
       "      <td>2.0</td>\n",
       "      <td>2.0</td>\n",
       "    </tr>\n",
       "    <tr>\n",
       "      <th>18</th>\n",
       "      <td>abaissa</td>\n",
       "      <td>abEsa</td>\n",
       "      <td>abaisser</td>\n",
       "      <td>VER</td>\n",
       "      <td>NaN</td>\n",
       "      <td>NaN</td>\n",
       "      <td>4.93</td>\n",
       "      <td>18.04</td>\n",
       "      <td>0.00</td>\n",
       "      <td>2.64</td>\n",
       "      <td>ind:pas:3s;</td>\n",
       "      <td>125749.0</td>\n",
       "      <td>18517.5</td>\n",
       "      <td>56608.5</td>\n",
       "      <td>6668.0</td>\n",
       "      <td>1295.0</td>\n",
       "      <td>915.0</td>\n",
       "    </tr>\n",
       "    <tr>\n",
       "      <th>51</th>\n",
       "      <td>abandonna</td>\n",
       "      <td>ab@dona</td>\n",
       "      <td>abandonner</td>\n",
       "      <td>VER</td>\n",
       "      <td>NaN</td>\n",
       "      <td>NaN</td>\n",
       "      <td>110.87</td>\n",
       "      <td>128.45</td>\n",
       "      <td>0.59</td>\n",
       "      <td>8.92</td>\n",
       "      <td>ind:pas:3s;</td>\n",
       "      <td>29868.5</td>\n",
       "      <td>7380.5</td>\n",
       "      <td>11369.0</td>\n",
       "      <td>2479.5</td>\n",
       "      <td>193.5</td>\n",
       "      <td>172.0</td>\n",
       "    </tr>\n",
       "    <tr>\n",
       "      <th>93</th>\n",
       "      <td>abasourdi</td>\n",
       "      <td>abazuRdi</td>\n",
       "      <td>abasourdir</td>\n",
       "      <td>VER</td>\n",
       "      <td>m</td>\n",
       "      <td>s</td>\n",
       "      <td>0.55</td>\n",
       "      <td>2.97</td>\n",
       "      <td>0.35</td>\n",
       "      <td>2.09</td>\n",
       "      <td>par:pas;</td>\n",
       "      <td>38527.0</td>\n",
       "      <td>21606.0</td>\n",
       "      <td>15094.0</td>\n",
       "      <td>7911.5</td>\n",
       "      <td>2959.0</td>\n",
       "      <td>2321.0</td>\n",
       "    </tr>\n",
       "    <tr>\n",
       "      <th>102</th>\n",
       "      <td>abat</td>\n",
       "      <td>aba</td>\n",
       "      <td>abattre</td>\n",
       "      <td>VER</td>\n",
       "      <td>NaN</td>\n",
       "      <td>NaN</td>\n",
       "      <td>43.47</td>\n",
       "      <td>50.61</td>\n",
       "      <td>2.15</td>\n",
       "      <td>4.93</td>\n",
       "      <td>ind:pre:3s;</td>\n",
       "      <td>14239.5</td>\n",
       "      <td>11671.5</td>\n",
       "      <td>5181.0</td>\n",
       "      <td>4056.0</td>\n",
       "      <td>381.0</td>\n",
       "      <td>440.0</td>\n",
       "    </tr>\n",
       "  </tbody>\n",
       "</table>\n",
       "</div>"
      ],
      "text/plain": [
       "       1_ortho    2_phon     3_lemme 4_cgram 5_genre 6_nombre  \\\n",
       "2            a         a       avoir     VER     NaN      NaN   \n",
       "18     abaissa     abEsa    abaisser     VER     NaN      NaN   \n",
       "51   abandonna   ab@dona  abandonner     VER     NaN      NaN   \n",
       "93   abasourdi  abazuRdi  abasourdir     VER       m        s   \n",
       "102       abat       aba     abattre     VER     NaN      NaN   \n",
       "\n",
       "     7_freqlemfilms2  8_freqlemlivres  9_freqfilms2  10_freqlivres  \\\n",
       "2           13572.40          6426.49       5498.34        1669.39   \n",
       "18              4.93            18.04          0.00           2.64   \n",
       "51            110.87           128.45          0.59           8.92   \n",
       "93              0.55             2.97          0.35           2.09   \n",
       "102            43.47            50.61          2.15           4.93   \n",
       "\n",
       "    lex3_11_infover    rangFW   rangTW  rangFWV  rangTWV  rangFLV  rangTLV  \n",
       "2       ind:pre:3s;      25.0     64.0      2.0      4.0      2.0      2.0  \n",
       "18      ind:pas:3s;  125749.0  18517.5  56608.5   6668.0   1295.0    915.0  \n",
       "51      ind:pas:3s;   29868.5   7380.5  11369.0   2479.5    193.5    172.0  \n",
       "93         par:pas;   38527.0  21606.0  15094.0   7911.5   2959.0   2321.0  \n",
       "102     ind:pre:3s;   14239.5  11671.5   5181.0   4056.0    381.0    440.0  "
      ]
     },
     "execution_count": 20,
     "metadata": {},
     "output_type": "execute_result"
    }
   ],
   "source": [
    "verb3Lemmes=verb3.drop_duplicates(subset=[\"3_lemme\",\"4_cgram\",\"7_freqlemfilms2\",\"8_freqlemlivres\"]).copy()\n",
    "verb3Lemmes.loc[:,\"rangFLV\"]=verb3Lemmes.loc[:,\"7_freqlemfilms2\"].rank(ascending=False)\n",
    "verb3Lemmes.loc[:,\"rangTLV\"]=verb3Lemmes.loc[:,\"8_freqlemlivres\"].rank(ascending=False)\n",
    "verb3Lemmes.head()"
   ]
  },
  {
   "cell_type": "markdown",
   "metadata": {},
   "source": [
    "#### Distribution de la fréquence des lexèmes dans Films"
   ]
  },
  {
   "cell_type": "code",
   "execution_count": 21,
   "metadata": {},
   "outputs": [
    {
     "data": {
      "image/png": "[encoded data removed]",
      "text/plain": [
       "<matplotlib.figure.Figure at 0x10a9263d0>"
      ]
     },
     "metadata": {},
     "output_type": "display_data"
    }
   ],
   "source": [
    "ax=verb3Lemmes.sort_values(\"rangFLV\").set_index(\"rangFLV\")[\"7_freqlemfilms2\"].plot()\n",
    "ax.set(xscale=\"log\",yscale=\"log\",xlabel=\"Rang\",ylabel=u\"Fréquence\",title=u\"Lexèmes verbaux dans Films\")\n",
    "None"
   ]
  },
  {
   "cell_type": "code",
   "execution_count": 22,
   "metadata": {},
   "outputs": [
    {
     "data": {
      "image/png": "[encoded data removed]",
      "text/plain": [
       "<matplotlib.figure.Figure at 0x10e705cd0>"
      ]
     },
     "metadata": {},
     "output_type": "display_data"
    }
   ],
   "source": [
    "ax=verb3Lemmes.sort_values(\"rangTLV\").set_index(\"rangTLV\")[\"8_freqlemlivres\"].plot()\n",
    "ax.set(xscale=\"log\",yscale=\"log\",xlabel=\"Rang\",ylabel=u\"Fréquence\",title=u\"Lexèmes verbaux dans Textes\")\n",
    "None"
   ]
  },
  {
   "cell_type": "code",
   "execution_count": 70,
   "metadata": {},
   "outputs": [],
   "source": [
    "pseudoZipfFilms=verb3Lemmes.sort_values(\"rangFLV\").set_index(\"rangFLV\")[[\"7_freqlemfilms2\"]]\n",
    "pseudoZipfLivres=verb3Lemmes.sort_values(\"rangTLV\").set_index(\"rangTLV\")[[\"8_freqlemlivres\"]]"
   ]
  },
  {
   "cell_type": "code",
   "execution_count": 71,
   "metadata": {},
   "outputs": [
    {
     "data": {
      "text/html": [
       "<div>\n",
       "<style scoped>\n",
       "    .dataframe tbody tr th:only-of-type {\n",
       "        vertical-align: middle;\n",
       "    }\n",
       "\n",
       "    .dataframe tbody tr th {\n",
       "        vertical-align: top;\n",
       "    }\n",
       "\n",
       "    .dataframe thead th {\n",
       "        text-align: right;\n",
       "    }\n",
       "</style>\n",
       "<table border=\"1\" class=\"dataframe\">\n",
       "  <thead>\n",
       "    <tr style=\"text-align: right;\">\n",
       "      <th></th>\n",
       "      <th>rangFLV</th>\n",
       "      <th>7_freqlemfilms2</th>\n",
       "    </tr>\n",
       "  </thead>\n",
       "  <tbody>\n",
       "    <tr>\n",
       "      <th>0</th>\n",
       "      <td>1.0</td>\n",
       "      <td>32236.50</td>\n",
       "    </tr>\n",
       "    <tr>\n",
       "      <th>1</th>\n",
       "      <td>2.0</td>\n",
       "      <td>13572.40</td>\n",
       "    </tr>\n",
       "    <tr>\n",
       "      <th>2</th>\n",
       "      <td>3.0</td>\n",
       "      <td>9992.77</td>\n",
       "    </tr>\n",
       "    <tr>\n",
       "      <th>3</th>\n",
       "      <td>4.0</td>\n",
       "      <td>8813.48</td>\n",
       "    </tr>\n",
       "    <tr>\n",
       "      <th>4</th>\n",
       "      <td>5.0</td>\n",
       "      <td>5946.15</td>\n",
       "    </tr>\n",
       "    <tr>\n",
       "      <th>5</th>\n",
       "      <td>6.0</td>\n",
       "      <td>5524.47</td>\n",
       "    </tr>\n",
       "    <tr>\n",
       "      <th>6</th>\n",
       "      <td>7.0</td>\n",
       "      <td>5249.30</td>\n",
       "    </tr>\n",
       "    <tr>\n",
       "      <th>7</th>\n",
       "      <td>8.0</td>\n",
       "      <td>4516.71</td>\n",
       "    </tr>\n",
       "    <tr>\n",
       "      <th>8</th>\n",
       "      <td>9.0</td>\n",
       "      <td>4119.43</td>\n",
       "    </tr>\n",
       "    <tr>\n",
       "      <th>9</th>\n",
       "      <td>10.0</td>\n",
       "      <td>3232.57</td>\n",
       "    </tr>\n",
       "    <tr>\n",
       "      <th>10</th>\n",
       "      <td>11.0</td>\n",
       "      <td>2763.82</td>\n",
       "    </tr>\n",
       "    <tr>\n",
       "      <th>11</th>\n",
       "      <td>12.0</td>\n",
       "      <td>2090.54</td>\n",
       "    </tr>\n",
       "    <tr>\n",
       "      <th>12</th>\n",
       "      <td>13.0</td>\n",
       "      <td>1970.55</td>\n",
       "    </tr>\n",
       "    <tr>\n",
       "      <th>13</th>\n",
       "      <td>14.0</td>\n",
       "      <td>1913.83</td>\n",
       "    </tr>\n",
       "    <tr>\n",
       "      <th>14</th>\n",
       "      <td>15.0</td>\n",
       "      <td>1711.99</td>\n",
       "    </tr>\n",
       "    <tr>\n",
       "      <th>15</th>\n",
       "      <td>16.0</td>\n",
       "      <td>1655.07</td>\n",
       "    </tr>\n",
       "    <tr>\n",
       "      <th>16</th>\n",
       "      <td>17.0</td>\n",
       "      <td>1653.76</td>\n",
       "    </tr>\n",
       "    <tr>\n",
       "      <th>17</th>\n",
       "      <td>18.0</td>\n",
       "      <td>1495.49</td>\n",
       "    </tr>\n",
       "    <tr>\n",
       "      <th>18</th>\n",
       "      <td>19.0</td>\n",
       "      <td>1485.47</td>\n",
       "    </tr>\n",
       "    <tr>\n",
       "      <th>19</th>\n",
       "      <td>20.0</td>\n",
       "      <td>1351.46</td>\n",
       "    </tr>\n",
       "    <tr>\n",
       "      <th>20</th>\n",
       "      <td>21.0</td>\n",
       "      <td>1335.49</td>\n",
       "    </tr>\n",
       "    <tr>\n",
       "      <th>21</th>\n",
       "      <td>22.0</td>\n",
       "      <td>1334.10</td>\n",
       "    </tr>\n",
       "    <tr>\n",
       "      <th>22</th>\n",
       "      <td>23.0</td>\n",
       "      <td>1252.42</td>\n",
       "    </tr>\n",
       "    <tr>\n",
       "      <th>23</th>\n",
       "      <td>24.0</td>\n",
       "      <td>1209.67</td>\n",
       "    </tr>\n",
       "    <tr>\n",
       "      <th>24</th>\n",
       "      <td>25.0</td>\n",
       "      <td>1197.29</td>\n",
       "    </tr>\n",
       "    <tr>\n",
       "      <th>25</th>\n",
       "      <td>26.0</td>\n",
       "      <td>1165.48</td>\n",
       "    </tr>\n",
       "    <tr>\n",
       "      <th>26</th>\n",
       "      <td>27.0</td>\n",
       "      <td>1111.97</td>\n",
       "    </tr>\n",
       "    <tr>\n",
       "      <th>27</th>\n",
       "      <td>28.0</td>\n",
       "      <td>1004.83</td>\n",
       "    </tr>\n",
       "    <tr>\n",
       "      <th>28</th>\n",
       "      <td>29.0</td>\n",
       "      <td>1003.56</td>\n",
       "    </tr>\n",
       "    <tr>\n",
       "      <th>29</th>\n",
       "      <td>30.0</td>\n",
       "      <td>993.79</td>\n",
       "    </tr>\n",
       "    <tr>\n",
       "      <th>...</th>\n",
       "      <td>...</td>\n",
       "      <td>...</td>\n",
       "    </tr>\n",
       "    <tr>\n",
       "      <th>1517</th>\n",
       "      <td>3446.0</td>\n",
       "      <td>0.30</td>\n",
       "    </tr>\n",
       "    <tr>\n",
       "      <th>1518</th>\n",
       "      <td>3469.0</td>\n",
       "      <td>0.29</td>\n",
       "    </tr>\n",
       "    <tr>\n",
       "      <th>1519</th>\n",
       "      <td>3497.5</td>\n",
       "      <td>0.28</td>\n",
       "    </tr>\n",
       "    <tr>\n",
       "      <th>1520</th>\n",
       "      <td>3529.5</td>\n",
       "      <td>0.27</td>\n",
       "    </tr>\n",
       "    <tr>\n",
       "      <th>1521</th>\n",
       "      <td>3554.0</td>\n",
       "      <td>0.26</td>\n",
       "    </tr>\n",
       "    <tr>\n",
       "      <th>1522</th>\n",
       "      <td>3577.5</td>\n",
       "      <td>0.25</td>\n",
       "    </tr>\n",
       "    <tr>\n",
       "      <th>1523</th>\n",
       "      <td>3603.0</td>\n",
       "      <td>0.24</td>\n",
       "    </tr>\n",
       "    <tr>\n",
       "      <th>1524</th>\n",
       "      <td>3638.0</td>\n",
       "      <td>0.23</td>\n",
       "    </tr>\n",
       "    <tr>\n",
       "      <th>1525</th>\n",
       "      <td>3680.0</td>\n",
       "      <td>0.22</td>\n",
       "    </tr>\n",
       "    <tr>\n",
       "      <th>1526</th>\n",
       "      <td>3713.0</td>\n",
       "      <td>0.21</td>\n",
       "    </tr>\n",
       "    <tr>\n",
       "      <th>1527</th>\n",
       "      <td>3754.0</td>\n",
       "      <td>0.20</td>\n",
       "    </tr>\n",
       "    <tr>\n",
       "      <th>1528</th>\n",
       "      <td>3798.0</td>\n",
       "      <td>0.19</td>\n",
       "    </tr>\n",
       "    <tr>\n",
       "      <th>1529</th>\n",
       "      <td>3829.0</td>\n",
       "      <td>0.18</td>\n",
       "    </tr>\n",
       "    <tr>\n",
       "      <th>1530</th>\n",
       "      <td>3872.5</td>\n",
       "      <td>0.17</td>\n",
       "    </tr>\n",
       "    <tr>\n",
       "      <th>1531</th>\n",
       "      <td>3926.5</td>\n",
       "      <td>0.16</td>\n",
       "    </tr>\n",
       "    <tr>\n",
       "      <th>1532</th>\n",
       "      <td>3960.0</td>\n",
       "      <td>0.15</td>\n",
       "    </tr>\n",
       "    <tr>\n",
       "      <th>1533</th>\n",
       "      <td>4011.0</td>\n",
       "      <td>0.14</td>\n",
       "    </tr>\n",
       "    <tr>\n",
       "      <th>1534</th>\n",
       "      <td>4073.0</td>\n",
       "      <td>0.13</td>\n",
       "    </tr>\n",
       "    <tr>\n",
       "      <th>1535</th>\n",
       "      <td>4116.5</td>\n",
       "      <td>0.12</td>\n",
       "    </tr>\n",
       "    <tr>\n",
       "      <th>1536</th>\n",
       "      <td>4162.0</td>\n",
       "      <td>0.11</td>\n",
       "    </tr>\n",
       "    <tr>\n",
       "      <th>1537</th>\n",
       "      <td>4216.5</td>\n",
       "      <td>0.10</td>\n",
       "    </tr>\n",
       "    <tr>\n",
       "      <th>1538</th>\n",
       "      <td>4272.5</td>\n",
       "      <td>0.09</td>\n",
       "    </tr>\n",
       "    <tr>\n",
       "      <th>1539</th>\n",
       "      <td>4308.5</td>\n",
       "      <td>0.08</td>\n",
       "    </tr>\n",
       "    <tr>\n",
       "      <th>1540</th>\n",
       "      <td>4351.0</td>\n",
       "      <td>0.07</td>\n",
       "    </tr>\n",
       "    <tr>\n",
       "      <th>1541</th>\n",
       "      <td>4406.5</td>\n",
       "      <td>0.06</td>\n",
       "    </tr>\n",
       "    <tr>\n",
       "      <th>1542</th>\n",
       "      <td>4461.5</td>\n",
       "      <td>0.05</td>\n",
       "    </tr>\n",
       "    <tr>\n",
       "      <th>1543</th>\n",
       "      <td>4545.0</td>\n",
       "      <td>0.04</td>\n",
       "    </tr>\n",
       "    <tr>\n",
       "      <th>1544</th>\n",
       "      <td>4669.5</td>\n",
       "      <td>0.03</td>\n",
       "    </tr>\n",
       "    <tr>\n",
       "      <th>1545</th>\n",
       "      <td>4832.5</td>\n",
       "      <td>0.02</td>\n",
       "    </tr>\n",
       "    <tr>\n",
       "      <th>1546</th>\n",
       "      <td>5140.5</td>\n",
       "      <td>0.01</td>\n",
       "    </tr>\n",
       "  </tbody>\n",
       "</table>\n",
       "<p>1547 rows × 2 columns</p>\n",
       "</div>"
      ],
      "text/plain": [
       "      rangFLV  7_freqlemfilms2\n",
       "0         1.0         32236.50\n",
       "1         2.0         13572.40\n",
       "2         3.0          9992.77\n",
       "3         4.0          8813.48\n",
       "4         5.0          5946.15\n",
       "5         6.0          5524.47\n",
       "6         7.0          5249.30\n",
       "7         8.0          4516.71\n",
       "8         9.0          4119.43\n",
       "9        10.0          3232.57\n",
       "10       11.0          2763.82\n",
       "11       12.0          2090.54\n",
       "12       13.0          1970.55\n",
       "13       14.0          1913.83\n",
       "14       15.0          1711.99\n",
       "15       16.0          1655.07\n",
       "16       17.0          1653.76\n",
       "17       18.0          1495.49\n",
       "18       19.0          1485.47\n",
       "19       20.0          1351.46\n",
       "20       21.0          1335.49\n",
       "21       22.0          1334.10\n",
       "22       23.0          1252.42\n",
       "23       24.0          1209.67\n",
       "24       25.0          1197.29\n",
       "25       26.0          1165.48\n",
       "26       27.0          1111.97\n",
       "27       28.0          1004.83\n",
       "28       29.0          1003.56\n",
       "29       30.0           993.79\n",
       "...       ...              ...\n",
       "1517   3446.0             0.30\n",
       "1518   3469.0             0.29\n",
       "1519   3497.5             0.28\n",
       "1520   3529.5             0.27\n",
       "1521   3554.0             0.26\n",
       "1522   3577.5             0.25\n",
       "1523   3603.0             0.24\n",
       "1524   3638.0             0.23\n",
       "1525   3680.0             0.22\n",
       "1526   3713.0             0.21\n",
       "1527   3754.0             0.20\n",
       "1528   3798.0             0.19\n",
       "1529   3829.0             0.18\n",
       "1530   3872.5             0.17\n",
       "1531   3926.5             0.16\n",
       "1532   3960.0             0.15\n",
       "1533   4011.0             0.14\n",
       "1534   4073.0             0.13\n",
       "1535   4116.5             0.12\n",
       "1536   4162.0             0.11\n",
       "1537   4216.5             0.10\n",
       "1538   4272.5             0.09\n",
       "1539   4308.5             0.08\n",
       "1540   4351.0             0.07\n",
       "1541   4406.5             0.06\n",
       "1542   4461.5             0.05\n",
       "1543   4545.0             0.04\n",
       "1544   4669.5             0.03\n",
       "1545   4832.5             0.02\n",
       "1546   5140.5             0.01\n",
       "\n",
       "[1547 rows x 2 columns]"
      ]
     },
     "execution_count": 71,
     "metadata": {},
     "output_type": "execute_result"
    }
   ],
   "source": [
    "pseudoZipfFilms=pseudoZipfFilms[pseudoZipfFilms[\"7_freqlemfilms2\"]>0]\n",
    "pseudoZipfFilms.drop_duplicates(inplace=True)\n",
    "pseudoZipfFilms.reset_index(inplace=True)\n",
    "pseudoZipfFilms"
   ]
  },
  {
   "cell_type": "code",
   "execution_count": 82,
   "metadata": {},
   "outputs": [],
   "source": [
    "pseudoZipfFilms[\"logFreq\"]=pseudoZipfFilms[\"7_freqlemfilms2\"].apply(math.log)\n",
    "pseudoZipfFilms[\"logRank\"]=pseudoZipfFilms[\"rangFLV\"].apply(math.log)\n",
    "coefs=[1.5,1.6,1.7,1.8,1.9]\n",
    "for c in coefs:\n",
    "    pseudoZipfFilms[c]=pseudoZipfFilms[\"logFreq\"]+c*pseudoZipfFilms[\"logRank\"]"
   ]
  },
  {
   "cell_type": "code",
   "execution_count": 83,
   "metadata": {},
   "outputs": [
    {
     "data": {
      "text/plain": [
       "<matplotlib.axes._subplots.AxesSubplot at 0x10a67bdd0>"
      ]
     },
     "execution_count": 83,
     "metadata": {},
     "output_type": "execute_result"
    },
    {
     "data": {
      "image/png": "[encoded data removed]",
      "text/plain": [
       "<matplotlib.figure.Figure at 0x10e7edd10>"
      ]
     },
     "metadata": {},
     "output_type": "display_data"
    }
   ],
   "source": [
    "pseudoZipfFilms[coefs].plot()"
   ]
  },
  {
   "cell_type": "markdown",
   "metadata": {},
   "source": [
    "# TESTS \n",
    "## Examen de la distribution des échantillons"
   ]
  },
  {
   "cell_type": "code",
   "execution_count": 23,
   "metadata": {},
   "outputs": [],
   "source": [
    "import pickle"
   ]
  },
  {
   "cell_type": "code",
   "execution_count": 24,
   "metadata": {},
   "outputs": [],
   "source": [
    "nomSample=\"/Volumes/gilles/Transfert/Copies-iMac-GB/2015-Data/Longitudinales/Longitudinal-55-T1100000-F41134.pkl\""
   ]
  },
  {
   "cell_type": "code",
   "execution_count": 26,
   "metadata": {},
   "outputs": [
    {
     "ename": "ImportError",
     "evalue": "No module named indexes.base",
     "output_type": "error",
     "traceback": [
      "\u001b[0;31m---------------------------------------------------------------------------\u001b[0m",
      "\u001b[0;31mImportError\u001b[0m                               Traceback (most recent call last)",
      "\u001b[0;32m<ipython-input-26-fdbaa7253abc>\u001b[0m in \u001b[0;36m<module>\u001b[0;34m()\u001b[0m\n\u001b[1;32m      1\u001b[0m \u001b[0;32mwith\u001b[0m \u001b[0mopen\u001b[0m\u001b[0;34m(\u001b[0m\u001b[0mnomSample\u001b[0m\u001b[0;34m,\u001b[0m\u001b[0;34m\"rb\"\u001b[0m\u001b[0;34m)\u001b[0m \u001b[0;32mas\u001b[0m \u001b[0minput\u001b[0m\u001b[0;34m:\u001b[0m\u001b[0;34m\u001b[0m\u001b[0m\n\u001b[0;32m----> 2\u001b[0;31m     \u001b[0mdfSample\u001b[0m\u001b[0;34m=\u001b[0m\u001b[0mpickle\u001b[0m\u001b[0;34m.\u001b[0m\u001b[0mload\u001b[0m\u001b[0;34m(\u001b[0m\u001b[0minput\u001b[0m\u001b[0;34m)\u001b[0m\u001b[0;34m\u001b[0m\u001b[0m\n\u001b[0m\u001b[1;32m      3\u001b[0m \u001b[0;34m\u001b[0m\u001b[0m\n",
      "\u001b[0;32m/Users/gilles/anaconda/lib/python2.7/pickle.pyc\u001b[0m in \u001b[0;36mload\u001b[0;34m(file)\u001b[0m\n\u001b[1;32m   1382\u001b[0m \u001b[0;34m\u001b[0m\u001b[0m\n\u001b[1;32m   1383\u001b[0m \u001b[0;32mdef\u001b[0m \u001b[0mload\u001b[0m\u001b[0;34m(\u001b[0m\u001b[0mfile\u001b[0m\u001b[0;34m)\u001b[0m\u001b[0;34m:\u001b[0m\u001b[0;34m\u001b[0m\u001b[0m\n\u001b[0;32m-> 1384\u001b[0;31m     \u001b[0;32mreturn\u001b[0m \u001b[0mUnpickler\u001b[0m\u001b[0;34m(\u001b[0m\u001b[0mfile\u001b[0m\u001b[0;34m)\u001b[0m\u001b[0;34m.\u001b[0m\u001b[0mload\u001b[0m\u001b[0;34m(\u001b[0m\u001b[0;34m)\u001b[0m\u001b[0;34m\u001b[0m\u001b[0m\n\u001b[0m\u001b[1;32m   1385\u001b[0m \u001b[0;34m\u001b[0m\u001b[0m\n\u001b[1;32m   1386\u001b[0m \u001b[0;32mdef\u001b[0m \u001b[0mloads\u001b[0m\u001b[0;34m(\u001b[0m\u001b[0mstr\u001b[0m\u001b[0;34m)\u001b[0m\u001b[0;34m:\u001b[0m\u001b[0;34m\u001b[0m\u001b[0m\n",
      "\u001b[0;32m/Users/gilles/anaconda/lib/python2.7/pickle.pyc\u001b[0m in \u001b[0;36mload\u001b[0;34m(self)\u001b[0m\n\u001b[1;32m    862\u001b[0m             \u001b[0;32mwhile\u001b[0m \u001b[0;36m1\u001b[0m\u001b[0;34m:\u001b[0m\u001b[0;34m\u001b[0m\u001b[0m\n\u001b[1;32m    863\u001b[0m                 \u001b[0mkey\u001b[0m \u001b[0;34m=\u001b[0m \u001b[0mread\u001b[0m\u001b[0;34m(\u001b[0m\u001b[0;36m1\u001b[0m\u001b[0;34m)\u001b[0m\u001b[0;34m\u001b[0m\u001b[0m\n\u001b[0;32m--> 864\u001b[0;31m                 \u001b[0mdispatch\u001b[0m\u001b[0;34m[\u001b[0m\u001b[0mkey\u001b[0m\u001b[0;34m]\u001b[0m\u001b[0;34m(\u001b[0m\u001b[0mself\u001b[0m\u001b[0;34m)\u001b[0m\u001b[0;34m\u001b[0m\u001b[0m\n\u001b[0m\u001b[1;32m    865\u001b[0m         \u001b[0;32mexcept\u001b[0m \u001b[0m_Stop\u001b[0m\u001b[0;34m,\u001b[0m \u001b[0mstopinst\u001b[0m\u001b[0;34m:\u001b[0m\u001b[0;34m\u001b[0m\u001b[0m\n\u001b[1;32m    866\u001b[0m             \u001b[0;32mreturn\u001b[0m \u001b[0mstopinst\u001b[0m\u001b[0;34m.\u001b[0m\u001b[0mvalue\u001b[0m\u001b[0;34m\u001b[0m\u001b[0m\n",
      "\u001b[0;32m/Users/gilles/anaconda/lib/python2.7/pickle.pyc\u001b[0m in \u001b[0;36mload_global\u001b[0;34m(self)\u001b[0m\n\u001b[1;32m   1094\u001b[0m         \u001b[0mmodule\u001b[0m \u001b[0;34m=\u001b[0m \u001b[0mself\u001b[0m\u001b[0;34m.\u001b[0m\u001b[0mreadline\u001b[0m\u001b[0;34m(\u001b[0m\u001b[0;34m)\u001b[0m\u001b[0;34m[\u001b[0m\u001b[0;34m:\u001b[0m\u001b[0;34m-\u001b[0m\u001b[0;36m1\u001b[0m\u001b[0;34m]\u001b[0m\u001b[0;34m\u001b[0m\u001b[0m\n\u001b[1;32m   1095\u001b[0m         \u001b[0mname\u001b[0m \u001b[0;34m=\u001b[0m \u001b[0mself\u001b[0m\u001b[0;34m.\u001b[0m\u001b[0mreadline\u001b[0m\u001b[0;34m(\u001b[0m\u001b[0;34m)\u001b[0m\u001b[0;34m[\u001b[0m\u001b[0;34m:\u001b[0m\u001b[0;34m-\u001b[0m\u001b[0;36m1\u001b[0m\u001b[0;34m]\u001b[0m\u001b[0;34m\u001b[0m\u001b[0m\n\u001b[0;32m-> 1096\u001b[0;31m         \u001b[0mklass\u001b[0m \u001b[0;34m=\u001b[0m \u001b[0mself\u001b[0m\u001b[0;34m.\u001b[0m\u001b[0mfind_class\u001b[0m\u001b[0;34m(\u001b[0m\u001b[0mmodule\u001b[0m\u001b[0;34m,\u001b[0m \u001b[0mname\u001b[0m\u001b[0;34m)\u001b[0m\u001b[0;34m\u001b[0m\u001b[0m\n\u001b[0m\u001b[1;32m   1097\u001b[0m         \u001b[0mself\u001b[0m\u001b[0;34m.\u001b[0m\u001b[0mappend\u001b[0m\u001b[0;34m(\u001b[0m\u001b[0mklass\u001b[0m\u001b[0;34m)\u001b[0m\u001b[0;34m\u001b[0m\u001b[0m\n\u001b[1;32m   1098\u001b[0m     \u001b[0mdispatch\u001b[0m\u001b[0;34m[\u001b[0m\u001b[0mGLOBAL\u001b[0m\u001b[0;34m]\u001b[0m \u001b[0;34m=\u001b[0m \u001b[0mload_global\u001b[0m\u001b[0;34m\u001b[0m\u001b[0m\n",
      "\u001b[0;32m/Users/gilles/anaconda/lib/python2.7/pickle.pyc\u001b[0m in \u001b[0;36mfind_class\u001b[0;34m(self, module, name)\u001b[0m\n\u001b[1;32m   1128\u001b[0m     \u001b[0;32mdef\u001b[0m \u001b[0mfind_class\u001b[0m\u001b[0;34m(\u001b[0m\u001b[0mself\u001b[0m\u001b[0;34m,\u001b[0m \u001b[0mmodule\u001b[0m\u001b[0;34m,\u001b[0m \u001b[0mname\u001b[0m\u001b[0;34m)\u001b[0m\u001b[0;34m:\u001b[0m\u001b[0;34m\u001b[0m\u001b[0m\n\u001b[1;32m   1129\u001b[0m         \u001b[0;31m# Subclasses may override this\u001b[0m\u001b[0;34m\u001b[0m\u001b[0;34m\u001b[0m\u001b[0m\n\u001b[0;32m-> 1130\u001b[0;31m         \u001b[0m__import__\u001b[0m\u001b[0;34m(\u001b[0m\u001b[0mmodule\u001b[0m\u001b[0;34m)\u001b[0m\u001b[0;34m\u001b[0m\u001b[0m\n\u001b[0m\u001b[1;32m   1131\u001b[0m         \u001b[0mmod\u001b[0m \u001b[0;34m=\u001b[0m \u001b[0msys\u001b[0m\u001b[0;34m.\u001b[0m\u001b[0mmodules\u001b[0m\u001b[0;34m[\u001b[0m\u001b[0mmodule\u001b[0m\u001b[0;34m]\u001b[0m\u001b[0;34m\u001b[0m\u001b[0m\n\u001b[1;32m   1132\u001b[0m         \u001b[0mklass\u001b[0m \u001b[0;34m=\u001b[0m \u001b[0mgetattr\u001b[0m\u001b[0;34m(\u001b[0m\u001b[0mmod\u001b[0m\u001b[0;34m,\u001b[0m \u001b[0mname\u001b[0m\u001b[0;34m)\u001b[0m\u001b[0;34m\u001b[0m\u001b[0m\n",
      "\u001b[0;31mImportError\u001b[0m: No module named indexes.base"
     ]
    }
   ],
   "source": [
    "with open(nomSample,\"rb\") as input:\n",
    "    dfSample=pickle.load(input)\n",
    "dfSample[\"rang\"]=dfSample.tir1.rank(ascending=False)"
   ]
  },
  {
   "cell_type": "code",
   "execution_count": null,
   "metadata": {},
   "outputs": [],
   "source": [
    "ax=dfSample.sort_values(\"rang\").set_index(\"rang\")[\"tir1\"].plot()\n",
    "ax.set(xscale=\"log\",yscale=\"log\",xlabel=\"Rang\",ylabel=u\"Fréquence\",title=u\"Formes verbales\")\n",
    "None"
   ]
  },
  {
   "cell_type": "code",
   "execution_count": null,
   "metadata": {},
   "outputs": [],
   "source": [
    "lexemesSample=dfSample.groupby(\"lexeme\")[[\"tir1\"]].sum()\n",
    "lexemesSample[\"rang\"]=lexemesSample.tir1.rank(ascending=False)"
   ]
  },
  {
   "cell_type": "code",
   "execution_count": null,
   "metadata": {},
   "outputs": [],
   "source": [
    "ax=lexemesSample.sort_values(\"rang\").set_index(\"rang\")[\"tir1\"].plot()\n",
    "ax.set(xscale=\"log\",yscale=\"log\",xlabel=\"Rang\",ylabel=u\"Fréquence\",title=u\"Verbes\")\n",
    "None"
   ]
  },
  {
   "cell_type": "markdown",
   "metadata": {},
   "source": [
    "# Projet de thèse Gauvain"
   ]
  },
  {
   "cell_type": "code",
   "execution_count": null,
   "metadata": {},
   "outputs": [],
   "source": [
    "lex3[lex3[\"7_freqlemfilms2\"]>=.1].groupby(\"3_lemme\").count()"
   ]
  },
  {
   "cell_type": "code",
   "execution_count": null,
   "metadata": {},
   "outputs": [],
   "source": [
    "for seuil in [100, 10, 1, 0.1, 0.01]:\n",
    "    print \"seuil\",seuil\n",
    "    dfFilms=lex3[lex3[\"7_freqlemfilms2\"]>=seuil].groupby(\"3_lemme\")\n",
    "    countFilms=dfFilms.count()\n",
    "    print \"\\tFilms\"\n",
    "#    print \"\\tTextes\",lex3[(lex3[\"8_freqlemlivres\"]>=seuil)].groupby(\"3_lemme\").count().shape\n",
    "#    print \"\\tLex3\",lex3[(lex3[\"7_freqlemfilms2\"]>=seuil)|(lex3[\"8_freqlemlivres\"]>=seuil)].groupby(\"3_lemme\").count().shape"
   ]
  },
  {
   "cell_type": "code",
   "execution_count": null,
   "metadata": {},
   "outputs": [],
   "source": [
    "lex3.groupby(\"3_lemme\").count()"
   ]
  },
  {
   "cell_type": "code",
   "execution_count": 14,
   "metadata": {},
   "outputs": [
    {
     "data": {
      "text/plain": [
       "705"
      ]
     },
     "execution_count": 14,
     "metadata": {},
     "output_type": "execute_result"
    }
   ],
   "source": [
    "lex3[(lex3[\"7_freqlemfilms2\"]>100)].groupby(\"3_lemme\").count().shape[0]"
   ]
  },
  {
   "cell_type": "code",
   "execution_count": 15,
   "metadata": {},
   "outputs": [
    {
     "data": {
      "text/plain": [
       "3676"
      ]
     },
     "execution_count": 15,
     "metadata": {},
     "output_type": "execute_result"
    }
   ],
   "source": [
    "lex3[lex3[\"7_freqlemfilms2\"]>=10].groupby(\"3_lemme\").count().shape[0]"
   ]
  },
  {
   "cell_type": "code",
   "execution_count": 16,
   "metadata": {},
   "outputs": [
    {
     "data": {
      "text/plain": [
       "12486"
      ]
     },
     "execution_count": 16,
     "metadata": {},
     "output_type": "execute_result"
    }
   ],
   "source": [
    "lex3[lex3[\"7_freqlemfilms2\"]>=1].groupby(\"3_lemme\").count().shape[0]"
   ]
  },
  {
   "cell_type": "code",
   "execution_count": 7,
   "metadata": {},
   "outputs": [
    {
     "data": {
      "text/plain": [
       "26345"
      ]
     },
     "execution_count": 7,
     "metadata": {},
     "output_type": "execute_result"
    }
   ],
   "source": [
    "lex3[lex3[\"7_freqlemfilms2\"]>=0.1].groupby(\"3_lemme\").count().shape[0]"
   ]
  },
  {
   "cell_type": "code",
   "execution_count": 8,
   "metadata": {},
   "outputs": [
    {
     "data": {
      "text/plain": [
       "37630"
      ]
     },
     "execution_count": 8,
     "metadata": {},
     "output_type": "execute_result"
    }
   ],
   "source": [
    "lex3[lex3[\"7_freqlemfilms2\"]>=0.01].groupby(\"3_lemme\").count().shape[0]"
   ]
  },
  {
   "cell_type": "code",
   "execution_count": 9,
   "metadata": {},
   "outputs": [
    {
     "data": {
      "text/plain": [
       "806"
      ]
     },
     "execution_count": 9,
     "metadata": {},
     "output_type": "execute_result"
    }
   ],
   "source": [
    "lex3[(lex3[\"8_freqlemlivres\"]>100)].groupby(\"3_lemme\").count().shape[0]"
   ]
  },
  {
   "cell_type": "code",
   "execution_count": 10,
   "metadata": {},
   "outputs": [
    {
     "data": {
      "text/plain": [
       "5147"
      ]
     },
     "execution_count": 10,
     "metadata": {},
     "output_type": "execute_result"
    }
   ],
   "source": [
    "lex3[(lex3[\"8_freqlemlivres\"]>10)].groupby(\"3_lemme\").count().shape[0]"
   ]
  },
  {
   "cell_type": "code",
   "execution_count": 11,
   "metadata": {},
   "outputs": [
    {
     "data": {
      "text/plain": [
       "18070"
      ]
     },
     "execution_count": 11,
     "metadata": {},
     "output_type": "execute_result"
    }
   ],
   "source": [
    "lex3[(lex3[\"8_freqlemlivres\"]>1)].groupby(\"3_lemme\").count().shape[0]"
   ]
  },
  {
   "cell_type": "code",
   "execution_count": 12,
   "metadata": {},
   "outputs": [
    {
     "data": {
      "text/plain": [
       "32888"
      ]
     },
     "execution_count": 12,
     "metadata": {},
     "output_type": "execute_result"
    }
   ],
   "source": [
    "lex3[(lex3[\"8_freqlemlivres\"]>0.1)].groupby(\"3_lemme\").count().shape[0]"
   ]
  },
  {
   "cell_type": "code",
   "execution_count": 13,
   "metadata": {},
   "outputs": [
    {
     "data": {
      "text/plain": [
       "40120"
      ]
     },
     "execution_count": 13,
     "metadata": {},
     "output_type": "execute_result"
    }
   ],
   "source": [
    "lex3[(lex3[\"8_freqlemlivres\"]>0.01)].groupby(\"3_lemme\").count().shape[0]"
   ]
  },
  {
   "cell_type": "code",
   "execution_count": null,
   "metadata": {},
   "outputs": [],
   "source": []
  }
 ],
 "metadata": {
  "kernelspec": {
   "display_name": "Python 2",
   "language": "python",
   "name": "python2"
  },
  "language_info": {
   "codemirror_mode": {
    "name": "ipython",
    "version": 2
   },
   "file_extension": ".py",
   "mimetype": "text/x-python",
   "name": "python",
   "nbconvert_exporter": "python",
   "pygments_lexer": "ipython2",
   "version": "2.7.15"
  }
 },
 "nbformat": 4,
 "nbformat_minor": 2
}
