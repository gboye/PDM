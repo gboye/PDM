{
 "cells": [
  {
   "cell_type": "code",
   "execution_count": 6,
   "metadata": {
    "collapsed": true
   },
   "outputs": [],
   "source": [
    "import pandas as pd\n",
    "import random as rd\n",
    "import datetime as dt\n",
    "import pickle,glob,re"
   ]
  },
  {
   "cell_type": "code",
   "execution_count": 7,
   "metadata": {
    "collapsed": true
   },
   "outputs": [],
   "source": [
    "cumule=True\n",
    "#repNom=\"/Users/gilles/Box Sync/2015-Data/Samples/Adjectifs/\"\n",
    "repNom=\"/Volumes/gilles/Transfert/Copies-iMac-GB/2015-Data/Samples/Verbes3/\"\n",
    "#repNomSortie=\"/Users/gilles/Box Sync/2015-Data/FlexionAdjectifs/\"\n",
    "repNomSortie=\"/Volumes/gilles/Transfert/Copies-iMac-GB/2015-Data/Longitudinales/\""
   ]
  },
  {
   "cell_type": "code",
   "execution_count": 8,
   "metadata": {
    "collapsed": true
   },
   "outputs": [],
   "source": [
    "listeTirages=glob.glob(repNom+\"*-Tirage.pkl\")"
   ]
  },
  {
   "cell_type": "code",
   "execution_count": 9,
   "metadata": {
    "collapsed": true
   },
   "outputs": [],
   "source": [
    "def tiragesNom(nom):\n",
    "    result=[tirage for tirage in listeTirages if nom in tirage]\n",
    "    return result"
   ]
  },
  {
   "cell_type": "code",
   "execution_count": 10,
   "metadata": {
    "collapsed": true
   },
   "outputs": [],
   "source": [
    "compositionLongitudinale=[(\"1Ko\",10),(\"10Ko\",9),(\"100Ko\",9),(\"1Mo\",19)]\n",
    "compositionLongitudinale=[(\"10Mo\",20)]\n",
    "compositionLongitudinale=[(\"10Ko\",10),(\"100Ko\",9),(\"1Mo\",9)]\n",
    "compositionLongitudinale=[(\"10Ko\",50)]"
   ]
  },
  {
   "cell_type": "code",
   "execution_count": 11,
   "metadata": {},
   "outputs": [
    {
     "data": {
      "text/plain": [
       "['/Volumes/gilles/Transfert/Copies-iMac-GB/2015-Data/Samples/Verbes3/MGC-10Ko-36-T10000-F3663-Tirage.pkl',\n",
       " '/Volumes/gilles/Transfert/Copies-iMac-GB/2015-Data/Samples/Verbes3/MGC-10Ko-16-T10000-F3627-Tirage.pkl',\n",
       " '/Volumes/gilles/Transfert/Copies-iMac-GB/2015-Data/Samples/Verbes3/MGC-10Ko-49-T10000-F3614-Tirage.pkl',\n",
       " '/Volumes/gilles/Transfert/Copies-iMac-GB/2015-Data/Samples/Verbes3/MGC-10Ko-14-T10000-F3592-Tirage.pkl',\n",
       " '/Volumes/gilles/Transfert/Copies-iMac-GB/2015-Data/Samples/Verbes3/MGC-10Ko-09-T10000-F3598-Tirage.pkl',\n",
       " '/Volumes/gilles/Transfert/Copies-iMac-GB/2015-Data/Samples/Verbes3/MGC-10Ko-29-T10000-F3701-Tirage.pkl',\n",
       " '/Volumes/gilles/Transfert/Copies-iMac-GB/2015-Data/Samples/Verbes3/MGC-10Ko-28-T10000-F3590-Tirage.pkl',\n",
       " '/Volumes/gilles/Transfert/Copies-iMac-GB/2015-Data/Samples/Verbes3/MGC-10Ko-40-T10000-F3672-Tirage.pkl',\n",
       " '/Volumes/gilles/Transfert/Copies-iMac-GB/2015-Data/Samples/Verbes3/MGC-10Ko-32-T10000-F3594-Tirage.pkl',\n",
       " '/Volumes/gilles/Transfert/Copies-iMac-GB/2015-Data/Samples/Verbes3/MGC-10Ko-37-T10000-F3644-Tirage.pkl',\n",
       " '/Volumes/gilles/Transfert/Copies-iMac-GB/2015-Data/Samples/Verbes3/MGC-10Ko-27-T10000-F3594-Tirage.pkl',\n",
       " '/Volumes/gilles/Transfert/Copies-iMac-GB/2015-Data/Samples/Verbes3/MGC-10Ko-42-T10000-F3557-Tirage.pkl',\n",
       " '/Volumes/gilles/Transfert/Copies-iMac-GB/2015-Data/Samples/Verbes3/MGC-10Ko-46-T10000-F3640-Tirage.pkl',\n",
       " '/Volumes/gilles/Transfert/Copies-iMac-GB/2015-Data/Samples/Verbes3/MGC-10Ko-17-T10000-F3613-Tirage.pkl',\n",
       " '/Volumes/gilles/Transfert/Copies-iMac-GB/2015-Data/Samples/Verbes3/MGC-10Ko-10-T10000-F3647-Tirage.pkl',\n",
       " '/Volumes/gilles/Transfert/Copies-iMac-GB/2015-Data/Samples/Verbes3/MGC-10Ko-08-T10000-F3612-Tirage.pkl',\n",
       " '/Volumes/gilles/Transfert/Copies-iMac-GB/2015-Data/Samples/Verbes3/MGC-10Ko-07-T10000-F3626-Tirage.pkl',\n",
       " '/Volumes/gilles/Transfert/Copies-iMac-GB/2015-Data/Samples/Verbes3/MGC-10Ko-34-T10000-F3633-Tirage.pkl',\n",
       " '/Volumes/gilles/Transfert/Copies-iMac-GB/2015-Data/Samples/Verbes3/MGC-10Ko-43-T10000-F3561-Tirage.pkl',\n",
       " '/Volumes/gilles/Transfert/Copies-iMac-GB/2015-Data/Samples/Verbes3/MGC-10Ko-21-T10000-F3619-Tirage.pkl',\n",
       " '/Volumes/gilles/Transfert/Copies-iMac-GB/2015-Data/Samples/Verbes3/MGC-10Ko-15-T10000-F3669-Tirage.pkl',\n",
       " '/Volumes/gilles/Transfert/Copies-iMac-GB/2015-Data/Samples/Verbes3/MGC-10Ko-18-T10000-F3664-Tirage.pkl',\n",
       " '/Volumes/gilles/Transfert/Copies-iMac-GB/2015-Data/Samples/Verbes3/MGC-10Ko-47-T10000-F3698-Tirage.pkl',\n",
       " '/Volumes/gilles/Transfert/Copies-iMac-GB/2015-Data/Samples/Verbes3/MGC-10Ko-11-T10000-F3558-Tirage.pkl',\n",
       " '/Volumes/gilles/Transfert/Copies-iMac-GB/2015-Data/Samples/Verbes3/MGC-10Ko-00-T10000-F3634-Tirage.pkl',\n",
       " '/Volumes/gilles/Transfert/Copies-iMac-GB/2015-Data/Samples/Verbes3/MGC-10Ko-31-T10000-F3712-Tirage.pkl',\n",
       " '/Volumes/gilles/Transfert/Copies-iMac-GB/2015-Data/Samples/Verbes3/MGC-10Ko-01-T10000-F3686-Tirage.pkl',\n",
       " '/Volumes/gilles/Transfert/Copies-iMac-GB/2015-Data/Samples/Verbes3/MGC-10Ko-39-T10000-F3659-Tirage.pkl',\n",
       " '/Volumes/gilles/Transfert/Copies-iMac-GB/2015-Data/Samples/Verbes3/MGC-10Ko-26-T10000-F3590-Tirage.pkl',\n",
       " '/Volumes/gilles/Transfert/Copies-iMac-GB/2015-Data/Samples/Verbes3/MGC-10Ko-06-T10000-F3649-Tirage.pkl',\n",
       " '/Volumes/gilles/Transfert/Copies-iMac-GB/2015-Data/Samples/Verbes3/MGC-10Ko-20-T10000-F3569-Tirage.pkl',\n",
       " '/Volumes/gilles/Transfert/Copies-iMac-GB/2015-Data/Samples/Verbes3/MGC-10Ko-12-T10000-F3636-Tirage.pkl',\n",
       " '/Volumes/gilles/Transfert/Copies-iMac-GB/2015-Data/Samples/Verbes3/MGC-10Ko-19-T10000-F3696-Tirage.pkl',\n",
       " '/Volumes/gilles/Transfert/Copies-iMac-GB/2015-Data/Samples/Verbes3/MGC-10Ko-33-T10000-F3629-Tirage.pkl',\n",
       " '/Volumes/gilles/Transfert/Copies-iMac-GB/2015-Data/Samples/Verbes3/MGC-10Ko-05-T10000-F3618-Tirage.pkl',\n",
       " '/Volumes/gilles/Transfert/Copies-iMac-GB/2015-Data/Samples/Verbes3/MGC-10Ko-41-T10000-F3659-Tirage.pkl',\n",
       " '/Volumes/gilles/Transfert/Copies-iMac-GB/2015-Data/Samples/Verbes3/MGC-10Ko-30-T10000-F3625-Tirage.pkl',\n",
       " '/Volumes/gilles/Transfert/Copies-iMac-GB/2015-Data/Samples/Verbes3/MGC-10Ko-22-T10000-F3644-Tirage.pkl',\n",
       " '/Volumes/gilles/Transfert/Copies-iMac-GB/2015-Data/Samples/Verbes3/MGC-10Ko-13-T10000-F3592-Tirage.pkl',\n",
       " '/Volumes/gilles/Transfert/Copies-iMac-GB/2015-Data/Samples/Verbes3/MGC-10Ko-04-T10000-F3676-Tirage.pkl',\n",
       " '/Volumes/gilles/Transfert/Copies-iMac-GB/2015-Data/Samples/Verbes3/MGC-10Ko-23-T10000-F3595-Tirage.pkl',\n",
       " '/Volumes/gilles/Transfert/Copies-iMac-GB/2015-Data/Samples/Verbes3/MGC-10Ko-48-T10000-F3602-Tirage.pkl',\n",
       " '/Volumes/gilles/Transfert/Copies-iMac-GB/2015-Data/Samples/Verbes3/MGC-10Ko-02-T10000-F3700-Tirage.pkl',\n",
       " '/Volumes/gilles/Transfert/Copies-iMac-GB/2015-Data/Samples/Verbes3/MGC-10Ko-25-T10000-F3618-Tirage.pkl',\n",
       " '/Volumes/gilles/Transfert/Copies-iMac-GB/2015-Data/Samples/Verbes3/MGC-10Ko-35-T10000-F3742-Tirage.pkl',\n",
       " '/Volumes/gilles/Transfert/Copies-iMac-GB/2015-Data/Samples/Verbes3/MGC-10Ko-38-T10000-F3614-Tirage.pkl',\n",
       " '/Volumes/gilles/Transfert/Copies-iMac-GB/2015-Data/Samples/Verbes3/MGC-10Ko-03-T10000-F3606-Tirage.pkl',\n",
       " '/Volumes/gilles/Transfert/Copies-iMac-GB/2015-Data/Samples/Verbes3/MGC-10Ko-44-T10000-F3531-Tirage.pkl',\n",
       " '/Volumes/gilles/Transfert/Copies-iMac-GB/2015-Data/Samples/Verbes3/MGC-10Ko-24-T10000-F3604-Tirage.pkl',\n",
       " '/Volumes/gilles/Transfert/Copies-iMac-GB/2015-Data/Samples/Verbes3/MGC-10Ko-45-T10000-F3652-Tirage.pkl']"
      ]
     },
     "execution_count": 11,
     "metadata": {},
     "output_type": "execute_result"
    }
   ],
   "source": [
    "serieLongitudinale=[]\n",
    "for serie,nbSerie in compositionLongitudinale:\n",
    "    for nom in rd.sample(tiragesNom(serie),nbSerie):\n",
    "        m=re.match(ur\"^.*-%s-(\\d{2})-T.*-F.*-Tirage.*\"%serie,nom)\n",
    "        if m:\n",
    "#            print m.group(1), nom\n",
    "            serieLongitudinale.append(nom)\n",
    "        else:\n",
    "            print \"mauvais nom de fichier\",nom\n",
    "serieLongitudinale"
   ]
  },
  {
   "cell_type": "code",
   "execution_count": 12,
   "metadata": {
    "collapsed": true
   },
   "outputs": [],
   "source": [
    "def lireLexique(nomLexique):\n",
    "    with open(nomLexique, 'rb') as input:\n",
    "        lexique=pickle.load(input)\n",
    "    return lexique"
   ]
  },
  {
   "cell_type": "code",
   "execution_count": 13,
   "metadata": {
    "collapsed": true
   },
   "outputs": [],
   "source": [
    "cumulLexique=lireLexique(serieLongitudinale[0])\n",
    "cumulLexique[\"tir1\"]=0"
   ]
  },
  {
   "cell_type": "code",
   "execution_count": 14,
   "metadata": {},
   "outputs": [
    {
     "name": "stdout",
     "output_type": "stream",
     "text": [
      "(10000,3663),\n",
      "(20000,5816),\n",
      "(30000,7497),\n",
      "(40000,8900),\n",
      "(50000,10082),\n",
      "(60000,11252),\n",
      "(70000,12207),\n",
      "(80000,13155),\n",
      "(90000,14038),\n",
      "(100000,14858),\n",
      "(110000,15616),\n",
      "(120000,16280),\n",
      "(130000,16948),\n",
      "(140000,17587),\n",
      "(150000,18240),\n",
      "(160000,18824),\n",
      "(170000,19369),\n",
      "(180000,19921),\n",
      "(190000,20415),\n",
      "(200000,20877),\n",
      "(210000,21393),\n",
      "(220000,21883),\n",
      "(230000,22343),\n",
      "(240000,22786),\n",
      "(250000,23208),\n",
      "(260000,23683),\n",
      "(270000,24099),\n",
      "(280000,24478),\n",
      "(290000,24873),\n",
      "(300000,25250),\n",
      "(310000,25601),\n",
      "(320000,25943),\n",
      "(330000,26307),\n",
      "(340000,26618),\n",
      "(350000,26970),\n",
      "(360000,27287),\n",
      "(370000,27613),\n",
      "(380000,27920),\n",
      "(390000,28222),\n",
      "(400000,28522),\n",
      "(410000,28780),\n",
      "(420000,29060),\n",
      "(430000,29345),\n",
      "(440000,29599),\n",
      "(450000,29888),\n",
      "(460000,30160),\n",
      "(470000,30425),\n",
      "(480000,30675),\n",
      "(490000,30909),\n",
      "(500000,31170),\n"
     ]
    }
   ],
   "source": [
    "timeStamp=dt.datetime.now().strftime(\"%y%m%d-%H%M\")\n",
    "for nTirage,tirage in enumerate(serieLongitudinale):\n",
    "    lexique=lireLexique(tirage)\n",
    "    if cumule:\n",
    "        cumulLexique[\"tir1\"]=cumulLexique[\"tir1\"]+lexique[\"tir1\"]\n",
    "    else:\n",
    "        cumulLexique[\"tir1\"]=lexique[\"tir1\"]\n",
    "    lexique1=cumulLexique[cumulLexique[\"tir1\"]>0]\n",
    "    nbTokens=lexique1[\"tir1\"].sum()\n",
    "    nbTypes=lexique1[\"tir1\"].count()\n",
    "    print \"(%d,%d),\"%(nbTokens,nbTypes)\n",
    "    sortieNom=repNomSortie+\"Longitudinal-%02d-T%d-F%d-%s.pkl\"%(nTirage,nbTokens,nbTypes,timeStamp)\n",
    "    with open(sortieNom,\"wb\") as output:\n",
    "        pickle.dump(lexique1, output, pickle.HIGHEST_PROTOCOL)"
   ]
  },
  {
   "cell_type": "code",
   "execution_count": null,
   "metadata": {
    "collapsed": true
   },
   "outputs": [],
   "source": []
  }
 ],
 "metadata": {
  "kernelspec": {
   "display_name": "Python 2",
   "language": "python",
   "name": "python2"
  },
  "language_info": {
   "codemirror_mode": {
    "name": "ipython",
    "version": 2
   },
   "file_extension": ".py",
   "mimetype": "text/x-python",
   "name": "python",
   "nbconvert_exporter": "python",
   "pygments_lexer": "ipython2",
   "version": "2.7.11"
  }
 },
 "nbformat": 4,
 "nbformat_minor": 1
}
