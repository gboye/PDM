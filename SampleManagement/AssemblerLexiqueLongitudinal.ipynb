{
 "cells": [
  {
   "cell_type": "code",
   "execution_count": 47,
   "metadata": {
    "collapsed": true
   },
   "outputs": [],
   "source": [
    "import pandas as pd\n",
    "import random as rd\n",
    "import datetime as dt\n",
    "import pickle,glob,re"
   ]
  },
  {
   "cell_type": "code",
   "execution_count": 48,
   "metadata": {
    "collapsed": true
   },
   "outputs": [],
   "source": [
    "cumule=True\n",
    "repNom=\"/Users/gilles/Box Sync/2015-Data/Samples/\"\n",
    "repNomSortie=\"/Users/gilles/Box Sync/2015-Data/DerivationParadigmes/\"\n",
    "repNomSortie=\"/Users/gilles/Box Sync/2015-Data/TEMP/\""
   ]
  },
  {
   "cell_type": "code",
   "execution_count": 49,
   "metadata": {
    "collapsed": true
   },
   "outputs": [],
   "source": [
    "listeTirages=glob.glob(repNom+\"*-Tirage.pkl\")"
   ]
  },
  {
   "cell_type": "code",
   "execution_count": 50,
   "metadata": {
    "collapsed": true
   },
   "outputs": [],
   "source": [
    "def tiragesNom(nom):\n",
    "    result=[tirage for tirage in listeTirages if nom in tirage]\n",
    "    return result"
   ]
  },
  {
   "cell_type": "code",
   "execution_count": 51,
   "metadata": {},
   "outputs": [],
   "source": [
    "compositionLongitudinale=[(\"1Ko\",10),(\"10Ko\",9),(\"100Ko\",9),(\"1Mo\",19)]\n",
    "compositionLongitudinale=[(\"10Mo\",20)]"
   ]
  },
  {
   "cell_type": "code",
   "execution_count": 52,
   "metadata": {},
   "outputs": [
    {
     "data": {
      "text/plain": [
       "['/Users/gilles/Box Sync/2015-Data/Samples/MGC-170506-10Mo-45-Tirage.pkl',\n",
       " '/Users/gilles/Box Sync/2015-Data/Samples/MGC-170506-10Mo-33-Tirage.pkl',\n",
       " '/Users/gilles/Box Sync/2015-Data/Samples/MGC-170506-10Mo-49-Tirage.pkl',\n",
       " '/Users/gilles/Box Sync/2015-Data/Samples/MGC-170506-10Mo-22-Tirage.pkl',\n",
       " '/Users/gilles/Box Sync/2015-Data/Samples/MGC-170506-10Mo-30-Tirage.pkl',\n",
       " '/Users/gilles/Box Sync/2015-Data/Samples/MGC-170506-10Mo-37-Tirage.pkl',\n",
       " '/Users/gilles/Box Sync/2015-Data/Samples/MGC-170506-10Mo-01-Tirage.pkl',\n",
       " '/Users/gilles/Box Sync/2015-Data/Samples/MGC-170506-10Mo-08-Tirage.pkl',\n",
       " '/Users/gilles/Box Sync/2015-Data/Samples/MGC-170506-10Mo-25-Tirage.pkl',\n",
       " '/Users/gilles/Box Sync/2015-Data/Samples/MGC-170506-10Mo-42-Tirage.pkl',\n",
       " '/Users/gilles/Box Sync/2015-Data/Samples/MGC-170506-10Mo-15-Tirage.pkl',\n",
       " '/Users/gilles/Box Sync/2015-Data/Samples/MGC-170506-10Mo-35-Tirage.pkl',\n",
       " '/Users/gilles/Box Sync/2015-Data/Samples/MGC-170506-10Mo-41-Tirage.pkl',\n",
       " '/Users/gilles/Box Sync/2015-Data/Samples/MGC-170506-10Mo-29-Tirage.pkl',\n",
       " '/Users/gilles/Box Sync/2015-Data/Samples/MGC-170506-10Mo-02-Tirage.pkl',\n",
       " '/Users/gilles/Box Sync/2015-Data/Samples/MGC-170506-10Mo-23-Tirage.pkl',\n",
       " '/Users/gilles/Box Sync/2015-Data/Samples/MGC-170506-10Mo-13-Tirage.pkl',\n",
       " '/Users/gilles/Box Sync/2015-Data/Samples/MGC-170506-10Mo-00-Tirage.pkl',\n",
       " '/Users/gilles/Box Sync/2015-Data/Samples/MGC-170506-10Mo-47-Tirage.pkl',\n",
       " '/Users/gilles/Box Sync/2015-Data/Samples/MGC-170506-10Mo-06-Tirage.pkl']"
      ]
     },
     "execution_count": 52,
     "metadata": {},
     "output_type": "execute_result"
    }
   ],
   "source": [
    "serieLongitudinale=[]\n",
    "for serie,nbSerie in compositionLongitudinale:\n",
    "    for nom in rd.sample(tiragesNom(serie),nbSerie):\n",
    "        m=re.match(ur\"^.*-\\d{6}-%s-(\\d{2})-.*\"%serie,nom)\n",
    "        if m:\n",
    "#            print m.group(1), nom\n",
    "            serieLongitudinale.append(nom)\n",
    "        else:\n",
    "            print \"mauvais nom de fichier\",nom\n",
    "serieLongitudinale"
   ]
  },
  {
   "cell_type": "code",
   "execution_count": 53,
   "metadata": {
    "collapsed": true
   },
   "outputs": [],
   "source": [
    "def lireLexique(nomLexique):\n",
    "    with open(nomLexique, 'rb') as input:\n",
    "        lexique=pickle.load(input)\n",
    "    return lexique"
   ]
  },
  {
   "cell_type": "code",
   "execution_count": 54,
   "metadata": {},
   "outputs": [],
   "source": [
    "cumulLexique=lireLexique(serieLongitudinale[0])\n",
    "cumulLexique[\"tir1\"]=0"
   ]
  },
  {
   "cell_type": "code",
   "execution_count": 55,
   "metadata": {},
   "outputs": [
    {
     "name": "stdout",
     "output_type": "stream",
     "text": [
      "(10000000,68060),\n",
      "(20000000,70812),\n",
      "(30000000,71822),\n",
      "(40000000,72390),\n",
      "(50000000,72811),\n",
      "(60000000,73109),\n",
      "(70000000,73339),\n",
      "(80000000,73519),\n",
      "(90000000,73680),\n",
      "(100000000,73821),\n",
      "(110000000,73937),\n",
      "(120000000,74049),\n",
      "(130000000,74148),\n",
      "(140000000,74247),\n",
      "(150000000,74351),\n",
      "(160000000,74420),\n",
      "(170000000,74512),\n",
      "(180000000,74621),\n",
      "(190000000,74685),\n",
      "(200000000,74749),\n"
     ]
    }
   ],
   "source": [
    "timeStamp=dt.datetime.now().strftime(\"%y%m%d-%H%M\")\n",
    "for nTirage,tirage in enumerate(serieLongitudinale):\n",
    "    lexique=lireLexique(tirage)\n",
    "    if cumule:\n",
    "        cumulLexique[\"tir1\"]=cumulLexique[\"tir1\"]+lexique[\"tir1\"]\n",
    "    else:\n",
    "        cumulLexique[\"tir1\"]=lexique[\"tir1\"]\n",
    "    lexique1=cumulLexique[cumulLexique[\"tir1\"]>0]\n",
    "    nbTokens=lexique1[\"tir1\"].sum()\n",
    "    nbTypes=lexique1[\"tir1\"].count()\n",
    "    print \"(%d,%d),\"%(nbTokens,nbTypes)\n",
    "    sortieNom=repNomSortie+\"Longitudinal-%02d-T%d-F%d-%s.pkl\"%(nTirage,nbTokens,nbTypes,timeStamp)\n",
    "    with open(sortieNom,\"wb\") as output:\n",
    "        pickle.dump(lexique1, output, pickle.HIGHEST_PROTOCOL)"
   ]
  },
  {
   "cell_type": "code",
   "execution_count": null,
   "metadata": {
    "collapsed": true
   },
   "outputs": [],
   "source": []
  }
 ],
 "metadata": {
  "kernelspec": {
   "display_name": "Python 2",
   "language": "python",
   "name": "python2"
  },
  "language_info": {
   "codemirror_mode": {
    "name": "ipython",
    "version": 2
   },
   "file_extension": ".py",
   "mimetype": "text/x-python",
   "name": "python",
   "nbconvert_exporter": "python",
   "pygments_lexer": "ipython2",
   "version": "2.7.11"
  }
 },
 "nbformat": 4,
 "nbformat_minor": 1
}
