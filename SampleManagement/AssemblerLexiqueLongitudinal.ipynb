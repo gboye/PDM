{
 "cells": [
  {
   "cell_type": "code",
   "execution_count": 1,
   "metadata": {
    "collapsed": true
   },
   "outputs": [],
   "source": [
    "import pandas as pd\n",
    "import random as rd\n",
    "import datetime as dt\n",
    "import pickle,glob,re"
   ]
  },
  {
   "cell_type": "code",
   "execution_count": 2,
   "metadata": {
    "collapsed": true
   },
   "outputs": [],
   "source": [
    "cumule=True\n",
    "repNom=\"/Users/gilles/Box Sync/2015-Data/Samples/Adjectifs/\"\n",
    "repNomSortie=\"/Users/gilles/Box Sync/2015-Data/FlexionAdjectifs/\"\n",
    "repNomSortie=\"/Users/gilles/Box Sync/2015-Data/TEMP/\""
   ]
  },
  {
   "cell_type": "code",
   "execution_count": 3,
   "metadata": {
    "collapsed": true
   },
   "outputs": [],
   "source": [
    "listeTirages=glob.glob(repNom+\"*-Tirage.pkl\")"
   ]
  },
  {
   "cell_type": "code",
   "execution_count": 4,
   "metadata": {
    "collapsed": true
   },
   "outputs": [],
   "source": [
    "def tiragesNom(nom):\n",
    "    result=[tirage for tirage in listeTirages if nom in tirage]\n",
    "    return result"
   ]
  },
  {
   "cell_type": "code",
   "execution_count": 5,
   "metadata": {
    "collapsed": true
   },
   "outputs": [],
   "source": [
    "compositionLongitudinale=[(\"1Ko\",10),(\"10Ko\",9),(\"100Ko\",9),(\"1Mo\",19)]\n",
    "compositionLongitudinale=[(\"10Mo\",20)]\n",
    "compositionLongitudinale=[(\"10Ko\",10),(\"100Ko\",9),(\"1Mo\",9)]"
   ]
  },
  {
   "cell_type": "code",
   "execution_count": 6,
   "metadata": {},
   "outputs": [
    {
     "data": {
      "text/plain": [
       "['/Users/gilles/Box Sync/2015-Data/Samples/Adjectifs/MGC-10Ko-09-T10000-F2994-Tirage.pkl',\n",
       " '/Users/gilles/Box Sync/2015-Data/Samples/Adjectifs/MGC-10Ko-03-T10000-F2991-Tirage.pkl',\n",
       " '/Users/gilles/Box Sync/2015-Data/Samples/Adjectifs/MGC-10Ko-08-T10000-F2985-Tirage.pkl',\n",
       " '/Users/gilles/Box Sync/2015-Data/Samples/Adjectifs/MGC-10Ko-01-T10000-F3102-Tirage.pkl',\n",
       " '/Users/gilles/Box Sync/2015-Data/Samples/Adjectifs/MGC-10Ko-07-T10000-F3000-Tirage.pkl',\n",
       " '/Users/gilles/Box Sync/2015-Data/Samples/Adjectifs/MGC-10Ko-05-T10000-F3044-Tirage.pkl',\n",
       " '/Users/gilles/Box Sync/2015-Data/Samples/Adjectifs/MGC-10Ko-06-T10000-F3013-Tirage.pkl',\n",
       " '/Users/gilles/Box Sync/2015-Data/Samples/Adjectifs/MGC-10Ko-02-T10000-F3019-Tirage.pkl',\n",
       " '/Users/gilles/Box Sync/2015-Data/Samples/Adjectifs/MGC-10Ko-04-T10000-F3107-Tirage.pkl',\n",
       " '/Users/gilles/Box Sync/2015-Data/Samples/Adjectifs/MGC-10Ko-00-T10000-F3068-Tirage.pkl',\n",
       " '/Users/gilles/Box Sync/2015-Data/Samples/Adjectifs/MGC-100Ko-04-T100000-F10012-Tirage.pkl',\n",
       " '/Users/gilles/Box Sync/2015-Data/Samples/Adjectifs/MGC-100Ko-07-T100000-F10095-Tirage.pkl',\n",
       " '/Users/gilles/Box Sync/2015-Data/Samples/Adjectifs/MGC-100Ko-09-T100000-F9958-Tirage.pkl',\n",
       " '/Users/gilles/Box Sync/2015-Data/Samples/Adjectifs/MGC-100Ko-06-T100000-F10073-Tirage.pkl',\n",
       " '/Users/gilles/Box Sync/2015-Data/Samples/Adjectifs/MGC-100Ko-00-T100000-F10047-Tirage.pkl',\n",
       " '/Users/gilles/Box Sync/2015-Data/Samples/Adjectifs/MGC-100Ko-02-T100000-F10053-Tirage.pkl',\n",
       " '/Users/gilles/Box Sync/2015-Data/Samples/Adjectifs/MGC-100Ko-03-T100000-F9950-Tirage.pkl',\n",
       " '/Users/gilles/Box Sync/2015-Data/Samples/Adjectifs/MGC-100Ko-01-T100000-F10028-Tirage.pkl',\n",
       " '/Users/gilles/Box Sync/2015-Data/Samples/Adjectifs/MGC-100Ko-08-T100000-F10028-Tirage.pkl',\n",
       " '/Users/gilles/Box Sync/2015-Data/Samples/Adjectifs/MGC-1Mo-09-T1000000-F18291-Tirage.pkl',\n",
       " '/Users/gilles/Box Sync/2015-Data/Samples/Adjectifs/MGC-1Mo-01-T1000000-F18266-Tirage.pkl',\n",
       " '/Users/gilles/Box Sync/2015-Data/Samples/Adjectifs/MGC-1Mo-08-T1000000-F18261-Tirage.pkl',\n",
       " '/Users/gilles/Box Sync/2015-Data/Samples/Adjectifs/MGC-1Mo-03-T1000000-F18299-Tirage.pkl',\n",
       " '/Users/gilles/Box Sync/2015-Data/Samples/Adjectifs/MGC-1Mo-06-T1000000-F18245-Tirage.pkl',\n",
       " '/Users/gilles/Box Sync/2015-Data/Samples/Adjectifs/MGC-1Mo-07-T1000000-F18214-Tirage.pkl',\n",
       " '/Users/gilles/Box Sync/2015-Data/Samples/Adjectifs/MGC-1Mo-04-T1000000-F18352-Tirage.pkl',\n",
       " '/Users/gilles/Box Sync/2015-Data/Samples/Adjectifs/MGC-1Mo-00-T1000000-F18251-Tirage.pkl',\n",
       " '/Users/gilles/Box Sync/2015-Data/Samples/Adjectifs/MGC-1Mo-05-T1000000-F18224-Tirage.pkl']"
      ]
     },
     "execution_count": 6,
     "metadata": {},
     "output_type": "execute_result"
    }
   ],
   "source": [
    "serieLongitudinale=[]\n",
    "for serie,nbSerie in compositionLongitudinale:\n",
    "    for nom in rd.sample(tiragesNom(serie),nbSerie):\n",
    "        m=re.match(ur\"^.*-%s-(\\d{2})-T.*-F.*-Tirage.*\"%serie,nom)\n",
    "        if m:\n",
    "#            print m.group(1), nom\n",
    "            serieLongitudinale.append(nom)\n",
    "        else:\n",
    "            print \"mauvais nom de fichier\",nom\n",
    "serieLongitudinale"
   ]
  },
  {
   "cell_type": "code",
   "execution_count": 7,
   "metadata": {
    "collapsed": true
   },
   "outputs": [],
   "source": [
    "def lireLexique(nomLexique):\n",
    "    with open(nomLexique, 'rb') as input:\n",
    "        lexique=pickle.load(input)\n",
    "    return lexique"
   ]
  },
  {
   "cell_type": "code",
   "execution_count": 8,
   "metadata": {
    "collapsed": true
   },
   "outputs": [],
   "source": [
    "cumulLexique=lireLexique(serieLongitudinale[0])\n",
    "cumulLexique[\"tir1\"]=0"
   ]
  },
  {
   "cell_type": "code",
   "execution_count": 9,
   "metadata": {},
   "outputs": [
    {
     "name": "stdout",
     "output_type": "stream",
     "text": [
      "(10000,2994),\n",
      "(20000,4568),\n",
      "(30000,5701),\n",
      "(40000,6652),\n",
      "(50000,7385),\n",
      "(60000,8040),\n",
      "(70000,8568),\n",
      "(80000,9081),\n",
      "(90000,9561),\n",
      "(100000,9974),\n",
      "(200000,12719),\n",
      "(300000,14300),\n",
      "(400000,15326),\n",
      "(500000,16117),\n",
      "(600000,16725),\n",
      "(700000,17209),\n",
      "(800000,17602),\n",
      "(900000,17925),\n",
      "(1000000,18210),\n",
      "(2000000,19654),\n",
      "(3000000,20160),\n",
      "(4000000,20440),\n",
      "(5000000,20590),\n",
      "(6000000,20701),\n",
      "(7000000,20791),\n",
      "(8000000,20865),\n",
      "(9000000,20927),\n",
      "(10000000,20973),\n"
     ]
    }
   ],
   "source": [
    "timeStamp=dt.datetime.now().strftime(\"%y%m%d-%H%M\")\n",
    "for nTirage,tirage in enumerate(serieLongitudinale):\n",
    "    lexique=lireLexique(tirage)\n",
    "    if cumule:\n",
    "        cumulLexique[\"tir1\"]=cumulLexique[\"tir1\"]+lexique[\"tir1\"]\n",
    "    else:\n",
    "        cumulLexique[\"tir1\"]=lexique[\"tir1\"]\n",
    "    lexique1=cumulLexique[cumulLexique[\"tir1\"]>0]\n",
    "    nbTokens=lexique1[\"tir1\"].sum()\n",
    "    nbTypes=lexique1[\"tir1\"].count()\n",
    "    print \"(%d,%d),\"%(nbTokens,nbTypes)\n",
    "    sortieNom=repNomSortie+\"Longitudinal-%02d-T%d-F%d-%s.pkl\"%(nTirage,nbTokens,nbTypes,timeStamp)\n",
    "    with open(sortieNom,\"wb\") as output:\n",
    "        pickle.dump(lexique1, output, pickle.HIGHEST_PROTOCOL)"
   ]
  },
  {
   "cell_type": "code",
   "execution_count": null,
   "metadata": {
    "collapsed": true
   },
   "outputs": [],
   "source": []
  }
 ],
 "metadata": {
  "kernelspec": {
   "display_name": "Python 2",
   "language": "python",
   "name": "python2"
  },
  "language_info": {
   "codemirror_mode": {
    "name": "ipython",
    "version": 2
   },
   "file_extension": ".py",
   "mimetype": "text/x-python",
   "name": "python",
   "nbconvert_exporter": "python",
   "pygments_lexer": "ipython2",
   "version": "2.7.11"
  }
 },
 "nbformat": 4,
 "nbformat_minor": 1
}
