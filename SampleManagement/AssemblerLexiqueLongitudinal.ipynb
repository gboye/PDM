{
 "cells": [
  {
   "cell_type": "code",
   "execution_count": 38,
   "metadata": {
    "collapsed": true
   },
   "outputs": [],
   "source": [
    "import pandas as pd\n",
    "import random as rd\n",
    "import pickle,glob,re"
   ]
  },
  {
   "cell_type": "code",
   "execution_count": 26,
   "metadata": {
    "collapsed": true
   },
   "outputs": [],
   "source": [
    "cumule=True"
   ]
  },
  {
   "cell_type": "code",
   "execution_count": 28,
   "metadata": {
    "collapsed": true
   },
   "outputs": [],
   "source": [
    "listeTirages=glob.glob(\"/Users/gilles/Box Sync/2015-Data/*-Tirage.pkl\")"
   ]
  },
  {
   "cell_type": "code",
   "execution_count": 27,
   "metadata": {
    "collapsed": true
   },
   "outputs": [],
   "source": [
    "def tiragesNom(nom):\n",
    "    result=[tirage for tirage in listeTirages if nom in tirage]\n",
    "    return result"
   ]
  },
  {
   "cell_type": "code",
   "execution_count": 29,
   "metadata": {},
   "outputs": [],
   "source": [
    "compositionLongitudinale={\"1Ko\":10,\"10Ko\":9,\"100Ko\":9,\"1Mo\":9}"
   ]
  },
  {
   "cell_type": "code",
   "execution_count": 44,
   "metadata": {},
   "outputs": [
    {
     "name": "stdout",
     "output_type": "stream",
     "text": [
      "mauvais nom de fichier /Users/gilles/Box Sync/2015-Data/MGC-170330-14-100Ko-Tirage.pkl\n",
      "mauvais nom de fichier /Users/gilles/Box Sync/2015-Data/MGC-170330-03-100Ko-Tirage.pkl\n",
      "mauvais nom de fichier /Users/gilles/Box Sync/2015-Data/MGC-170330-13-100Ko-Tirage.pkl\n",
      "mauvais nom de fichier /Users/gilles/Box Sync/2015-Data/MGC-170330-10-100Ko-Tirage.pkl\n",
      "mauvais nom de fichier /Users/gilles/Box Sync/2015-Data/MGC-170330-16-100Ko-Tirage.pkl\n",
      "mauvais nom de fichier /Users/gilles/Box Sync/2015-Data/MGC-170330-17-100Ko-Tirage.pkl\n",
      "mauvais nom de fichier /Users/gilles/Box Sync/2015-Data/MGC-170330-05-100Ko-Tirage.pkl\n",
      "mauvais nom de fichier /Users/gilles/Box Sync/2015-Data/MGC-170330-02-100Ko-Tirage.pkl\n",
      "mauvais nom de fichier /Users/gilles/Box Sync/2015-Data/MGC-170330-07-100Ko-Tirage.pkl\n"
     ]
    },
    {
     "data": {
      "text/plain": [
       "[('1Ko', '/Users/gilles/Box Sync/2015-Data/MGC-170506-1Ko-19-Tirage.pkl'),\n",
       " ('1Ko', '/Users/gilles/Box Sync/2015-Data/MGC-170506-1Ko-24-Tirage.pkl'),\n",
       " ('1Ko', '/Users/gilles/Box Sync/2015-Data/MGC-170506-1Ko-05-Tirage.pkl'),\n",
       " ('1Ko', '/Users/gilles/Box Sync/2015-Data/MGC-170506-1Ko-15-Tirage.pkl'),\n",
       " ('1Ko', '/Users/gilles/Box Sync/2015-Data/MGC-170506-1Ko-12-Tirage.pkl'),\n",
       " ('1Ko', '/Users/gilles/Box Sync/2015-Data/MGC-170506-1Ko-40-Tirage.pkl'),\n",
       " ('1Ko', '/Users/gilles/Box Sync/2015-Data/MGC-170330-1Ko-00-Tirage.pkl'),\n",
       " ('1Ko', '/Users/gilles/Box Sync/2015-Data/MGC-170506-1Ko-43-Tirage.pkl'),\n",
       " ('1Ko', '/Users/gilles/Box Sync/2015-Data/MGC-170506-1Ko-11-Tirage.pkl'),\n",
       " ('1Ko', '/Users/gilles/Box Sync/2015-Data/MGC-170506-1Ko-49-Tirage.pkl'),\n",
       " ('10Ko', '/Users/gilles/Box Sync/2015-Data/MGC-170506-10Ko-01-Tirage.pkl'),\n",
       " ('10Ko', '/Users/gilles/Box Sync/2015-Data/MGC-170506-10Ko-02-Tirage.pkl'),\n",
       " ('10Ko', '/Users/gilles/Box Sync/2015-Data/MGC-170506-10Ko-13-Tirage.pkl'),\n",
       " ('10Ko', '/Users/gilles/Box Sync/2015-Data/MGC-170506-10Ko-06-Tirage.pkl'),\n",
       " ('10Ko', '/Users/gilles/Box Sync/2015-Data/MGC-170506-10Ko-26-Tirage.pkl'),\n",
       " ('10Ko', '/Users/gilles/Box Sync/2015-Data/MGC-170506-10Ko-32-Tirage.pkl'),\n",
       " ('10Ko', '/Users/gilles/Box Sync/2015-Data/MGC-170506-10Ko-24-Tirage.pkl'),\n",
       " ('10Ko', '/Users/gilles/Box Sync/2015-Data/MGC-170506-10Ko-48-Tirage.pkl'),\n",
       " ('10Ko', '/Users/gilles/Box Sync/2015-Data/MGC-170506-10Ko-10-Tirage.pkl'),\n",
       " ('1Mo', '/Users/gilles/Box Sync/2015-Data/MGC-170504-1Mo-47-Tirage.pkl'),\n",
       " ('1Mo', '/Users/gilles/Box Sync/2015-Data/MGC-170504-1Mo-16-Tirage.pkl'),\n",
       " ('1Mo', '/Users/gilles/Box Sync/2015-Data/MGC-170504-1Mo-01-Tirage.pkl'),\n",
       " ('1Mo', '/Users/gilles/Box Sync/2015-Data/MGC-170504-1Mo-29-Tirage.pkl'),\n",
       " ('1Mo', '/Users/gilles/Box Sync/2015-Data/MGC-170504-1Mo-39-Tirage.pkl'),\n",
       " ('1Mo', '/Users/gilles/Box Sync/2015-Data/MGC-170504-1Mo-31-Tirage.pkl'),\n",
       " ('1Mo', '/Users/gilles/Box Sync/2015-Data/MGC-170504-1Mo-13-Tirage.pkl'),\n",
       " ('1Mo', '/Users/gilles/Box Sync/2015-Data/MGC-170504-1Mo-09-Tirage.pkl'),\n",
       " ('1Mo', '/Users/gilles/Box Sync/2015-Data/MGC-170504-1Mo-28-Tirage.pkl')]"
      ]
     },
     "execution_count": 44,
     "metadata": {},
     "output_type": "execute_result"
    }
   ],
   "source": [
    "serieLongitudinale=[]\n",
    "for serie in compositionLongitudinale:\n",
    "    for nom in rd.sample(tiragesNom(serie),compositionLongitudinale[serie]):\n",
    "        m=re.match(ur\"^.*-\\d{6}-%s-(\\d{2})-.*\"%serie,nom)\n",
    "        if m:\n",
    "#            print m.group(1), nom\n",
    "            serieLongitudinale.append((serie,nom))\n",
    "        else:\n",
    "            print \"mauvais nom de fichier\",nom\n",
    "serieLongitudinale"
   ]
  },
  {
   "cell_type": "code",
   "execution_count": 8,
   "metadata": {
    "collapsed": true
   },
   "outputs": [],
   "source": [
    "def lireLexique(nomLexique):\n",
    "    with open(nomLexique, 'rb') as input:\n",
    "        lexique=pickle.load(input)\n",
    "    return lexique"
   ]
  },
  {
   "cell_type": "code",
   "execution_count": 19,
   "metadata": {
    "collapsed": true
   },
   "outputs": [],
   "source": [
    "cumulLexique=lireLexique(listeLexiques[0])\n",
    "cumulLexique[\"tir1\"]=0"
   ]
  },
  {
   "cell_type": "code",
   "execution_count": 20,
   "metadata": {},
   "outputs": [
    {
     "name": "stdout",
     "output_type": "stream",
     "text": [
      "(1000000,43468),\n",
      "(2000000,52524),\n",
      "(3000000,57454),\n",
      "(4000000,60598),\n",
      "(5000000,62706),\n",
      "(6000000,64338),\n",
      "(7000000,65629),\n",
      "(8000000,66617),\n",
      "(9000000,67378),\n",
      "(10000000,67996),\n",
      "(11000000,68494),\n",
      "(12000000,68930),\n",
      "(13000000,69318),\n",
      "(14000000,69611),\n",
      "(15000000,69874),\n",
      "(16000000,70145),\n",
      "(17000000,70349),\n",
      "(18000000,70531),\n",
      "(19000000,70718),\n",
      "(20000000,70865),\n",
      "(21000000,70997),\n",
      "(22000000,71133),\n",
      "(23000000,71249),\n",
      "(24000000,71353),\n",
      "(25000000,71446),\n",
      "(26000000,71519),\n",
      "(27000000,71617),\n",
      "(28000000,71703),\n",
      "(29000000,71779),\n",
      "(30000000,71846),\n",
      "(31000000,71900),\n",
      "(32000000,71984),\n",
      "(33000000,72038),\n",
      "(34000000,72090),\n",
      "(35000000,72136),\n",
      "(36000000,72209),\n",
      "(37000000,72260),\n",
      "(38000000,72303),\n",
      "(39000000,72348),\n",
      "(40000000,72388),\n",
      "(41000000,72431),\n",
      "(42000000,72491),\n",
      "(43000000,72551),\n",
      "(44000000,72589),\n",
      "(45000000,72631),\n",
      "(46000000,72671),\n",
      "(47000000,72717),\n",
      "(48000000,72750),\n",
      "(49000000,72782),\n",
      "(50000000,72817),\n",
      "(51000000,72847),\n"
     ]
    }
   ],
   "source": [
    "for nTirage,tirage in enumerate(listeLexiques):\n",
    "    lexique=lireLexique(tirage)\n",
    "    if cumule:\n",
    "        cumulLexique[\"tir1\"]=cumulLexique[\"tir1\"]+lexique[\"tir1\"]\n",
    "    else:\n",
    "        cumulLexique[\"tir1\"]=lexique[\"tir1\"]\n",
    "    lexique1=cumulLexique[cumulLexique[\"tir1\"]>0]\n",
    "    nbTokens=lexique1[\"tir1\"].sum()\n",
    "    nbTypes=lexique1[\"tir1\"].count()\n",
    "    print \"(%d,%d),\"%(nbTokens,nbTypes)"
   ]
  },
  {
   "cell_type": "code",
   "execution_count": null,
   "metadata": {
    "collapsed": true
   },
   "outputs": [],
   "source": []
  }
 ],
 "metadata": {
  "kernelspec": {
   "display_name": "Python 2",
   "language": "python",
   "name": "python2"
  },
  "language_info": {
   "codemirror_mode": {
    "name": "ipython",
    "version": 2
   },
   "file_extension": ".py",
   "mimetype": "text/x-python",
   "name": "python",
   "nbconvert_exporter": "python",
   "pygments_lexer": "ipython2",
   "version": "2.7.11"
  }
 },
 "nbformat": 4,
 "nbformat_minor": 1
}
