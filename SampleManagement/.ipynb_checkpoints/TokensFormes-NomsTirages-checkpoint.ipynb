{
 "cells": [
  {
   "cell_type": "markdown",
   "metadata": {},
   "source": [
    "# Insérer le nombre de Tokens et de Formes dans le nom des fichiers Tirage"
   ]
  },
  {
   "cell_type": "code",
   "execution_count": 36,
   "metadata": {
    "collapsed": true
   },
   "outputs": [],
   "source": [
    "import glob,re,os,pickle"
   ]
  },
  {
   "cell_type": "code",
   "execution_count": 37,
   "metadata": {
    "collapsed": true
   },
   "outputs": [],
   "source": [
    "listeTirages=glob.glob(\"/Volumes/gilles/Transfert/Copies-iMac-GB/2015-Data/Samples/Verbes3/180107/*-Tirage.pkl\")"
   ]
  },
  {
   "cell_type": "code",
   "execution_count": 38,
   "metadata": {
    "collapsed": true
   },
   "outputs": [],
   "source": [
    "def tiragesNom(nom):\n",
    "    result=[tirage for tirage in listeTirages if nom in tirage]\n",
    "    return sorted(result)"
   ]
  },
  {
   "cell_type": "code",
   "execution_count": 39,
   "metadata": {},
   "outputs": [
    {
     "data": {
      "text/plain": [
       "['/Volumes/gilles/Transfert/Copies-iMac-GB/2015-Data/Samples/Verbes3/180107/MGC-100Ko-00-180107-Tirage.pkl',\n",
       " '/Volumes/gilles/Transfert/Copies-iMac-GB/2015-Data/Samples/Verbes3/180107/MGC-100Ko-01-180107-Tirage.pkl',\n",
       " '/Volumes/gilles/Transfert/Copies-iMac-GB/2015-Data/Samples/Verbes3/180107/MGC-100Ko-02-180107-Tirage.pkl',\n",
       " '/Volumes/gilles/Transfert/Copies-iMac-GB/2015-Data/Samples/Verbes3/180107/MGC-100Ko-03-180107-Tirage.pkl',\n",
       " '/Volumes/gilles/Transfert/Copies-iMac-GB/2015-Data/Samples/Verbes3/180107/MGC-100Ko-04-180107-Tirage.pkl',\n",
       " '/Volumes/gilles/Transfert/Copies-iMac-GB/2015-Data/Samples/Verbes3/180107/MGC-100Ko-05-180107-Tirage.pkl',\n",
       " '/Volumes/gilles/Transfert/Copies-iMac-GB/2015-Data/Samples/Verbes3/180107/MGC-100Ko-06-180107-Tirage.pkl',\n",
       " '/Volumes/gilles/Transfert/Copies-iMac-GB/2015-Data/Samples/Verbes3/180107/MGC-100Ko-07-180107-Tirage.pkl',\n",
       " '/Volumes/gilles/Transfert/Copies-iMac-GB/2015-Data/Samples/Verbes3/180107/MGC-100Ko-08-180107-Tirage.pkl',\n",
       " '/Volumes/gilles/Transfert/Copies-iMac-GB/2015-Data/Samples/Verbes3/180107/MGC-100Ko-09-180107-Tirage.pkl',\n",
       " '/Volumes/gilles/Transfert/Copies-iMac-GB/2015-Data/Samples/Verbes3/180107/MGC-100Ko-10-180107-Tirage.pkl',\n",
       " '/Volumes/gilles/Transfert/Copies-iMac-GB/2015-Data/Samples/Verbes3/180107/MGC-100Ko-11-180107-Tirage.pkl',\n",
       " '/Volumes/gilles/Transfert/Copies-iMac-GB/2015-Data/Samples/Verbes3/180107/MGC-100Ko-12-180107-Tirage.pkl',\n",
       " '/Volumes/gilles/Transfert/Copies-iMac-GB/2015-Data/Samples/Verbes3/180107/MGC-100Ko-13-180107-Tirage.pkl',\n",
       " '/Volumes/gilles/Transfert/Copies-iMac-GB/2015-Data/Samples/Verbes3/180107/MGC-100Ko-14-180107-Tirage.pkl',\n",
       " '/Volumes/gilles/Transfert/Copies-iMac-GB/2015-Data/Samples/Verbes3/180107/MGC-100Ko-15-180107-Tirage.pkl',\n",
       " '/Volumes/gilles/Transfert/Copies-iMac-GB/2015-Data/Samples/Verbes3/180107/MGC-100Ko-16-180107-Tirage.pkl',\n",
       " '/Volumes/gilles/Transfert/Copies-iMac-GB/2015-Data/Samples/Verbes3/180107/MGC-100Ko-17-180107-Tirage.pkl',\n",
       " '/Volumes/gilles/Transfert/Copies-iMac-GB/2015-Data/Samples/Verbes3/180107/MGC-100Ko-18-180107-Tirage.pkl',\n",
       " '/Volumes/gilles/Transfert/Copies-iMac-GB/2015-Data/Samples/Verbes3/180107/MGC-100Ko-19-180107-Tirage.pkl',\n",
       " '/Volumes/gilles/Transfert/Copies-iMac-GB/2015-Data/Samples/Verbes3/180107/MGC-100Ko-20-180107-Tirage.pkl',\n",
       " '/Volumes/gilles/Transfert/Copies-iMac-GB/2015-Data/Samples/Verbes3/180107/MGC-100Ko-21-180107-Tirage.pkl',\n",
       " '/Volumes/gilles/Transfert/Copies-iMac-GB/2015-Data/Samples/Verbes3/180107/MGC-100Ko-22-180107-Tirage.pkl',\n",
       " '/Volumes/gilles/Transfert/Copies-iMac-GB/2015-Data/Samples/Verbes3/180107/MGC-100Ko-23-180107-Tirage.pkl',\n",
       " '/Volumes/gilles/Transfert/Copies-iMac-GB/2015-Data/Samples/Verbes3/180107/MGC-100Ko-24-180107-Tirage.pkl',\n",
       " '/Volumes/gilles/Transfert/Copies-iMac-GB/2015-Data/Samples/Verbes3/180107/MGC-100Ko-25-180107-Tirage.pkl',\n",
       " '/Volumes/gilles/Transfert/Copies-iMac-GB/2015-Data/Samples/Verbes3/180107/MGC-100Ko-26-180107-Tirage.pkl',\n",
       " '/Volumes/gilles/Transfert/Copies-iMac-GB/2015-Data/Samples/Verbes3/180107/MGC-100Ko-27-180107-Tirage.pkl',\n",
       " '/Volumes/gilles/Transfert/Copies-iMac-GB/2015-Data/Samples/Verbes3/180107/MGC-100Ko-28-180107-Tirage.pkl',\n",
       " '/Volumes/gilles/Transfert/Copies-iMac-GB/2015-Data/Samples/Verbes3/180107/MGC-100Ko-29-180107-Tirage.pkl',\n",
       " '/Volumes/gilles/Transfert/Copies-iMac-GB/2015-Data/Samples/Verbes3/180107/MGC-100Ko-30-180107-Tirage.pkl',\n",
       " '/Volumes/gilles/Transfert/Copies-iMac-GB/2015-Data/Samples/Verbes3/180107/MGC-100Ko-31-180107-Tirage.pkl',\n",
       " '/Volumes/gilles/Transfert/Copies-iMac-GB/2015-Data/Samples/Verbes3/180107/MGC-100Ko-32-180107-Tirage.pkl',\n",
       " '/Volumes/gilles/Transfert/Copies-iMac-GB/2015-Data/Samples/Verbes3/180107/MGC-100Ko-33-180107-Tirage.pkl',\n",
       " '/Volumes/gilles/Transfert/Copies-iMac-GB/2015-Data/Samples/Verbes3/180107/MGC-100Ko-34-180107-Tirage.pkl',\n",
       " '/Volumes/gilles/Transfert/Copies-iMac-GB/2015-Data/Samples/Verbes3/180107/MGC-100Ko-35-180107-Tirage.pkl',\n",
       " '/Volumes/gilles/Transfert/Copies-iMac-GB/2015-Data/Samples/Verbes3/180107/MGC-100Ko-36-180107-Tirage.pkl',\n",
       " '/Volumes/gilles/Transfert/Copies-iMac-GB/2015-Data/Samples/Verbes3/180107/MGC-100Ko-37-180107-Tirage.pkl',\n",
       " '/Volumes/gilles/Transfert/Copies-iMac-GB/2015-Data/Samples/Verbes3/180107/MGC-100Ko-38-180107-Tirage.pkl',\n",
       " '/Volumes/gilles/Transfert/Copies-iMac-GB/2015-Data/Samples/Verbes3/180107/MGC-100Ko-39-180107-Tirage.pkl',\n",
       " '/Volumes/gilles/Transfert/Copies-iMac-GB/2015-Data/Samples/Verbes3/180107/MGC-100Ko-40-180107-Tirage.pkl',\n",
       " '/Volumes/gilles/Transfert/Copies-iMac-GB/2015-Data/Samples/Verbes3/180107/MGC-100Ko-41-180107-Tirage.pkl',\n",
       " '/Volumes/gilles/Transfert/Copies-iMac-GB/2015-Data/Samples/Verbes3/180107/MGC-100Ko-42-180107-Tirage.pkl',\n",
       " '/Volumes/gilles/Transfert/Copies-iMac-GB/2015-Data/Samples/Verbes3/180107/MGC-100Ko-43-180107-Tirage.pkl',\n",
       " '/Volumes/gilles/Transfert/Copies-iMac-GB/2015-Data/Samples/Verbes3/180107/MGC-100Ko-44-180107-Tirage.pkl',\n",
       " '/Volumes/gilles/Transfert/Copies-iMac-GB/2015-Data/Samples/Verbes3/180107/MGC-100Ko-45-180107-Tirage.pkl',\n",
       " '/Volumes/gilles/Transfert/Copies-iMac-GB/2015-Data/Samples/Verbes3/180107/MGC-100Ko-46-180107-Tirage.pkl',\n",
       " '/Volumes/gilles/Transfert/Copies-iMac-GB/2015-Data/Samples/Verbes3/180107/MGC-100Ko-47-180107-Tirage.pkl',\n",
       " '/Volumes/gilles/Transfert/Copies-iMac-GB/2015-Data/Samples/Verbes3/180107/MGC-100Ko-48-180107-Tirage.pkl',\n",
       " '/Volumes/gilles/Transfert/Copies-iMac-GB/2015-Data/Samples/Verbes3/180107/MGC-100Ko-49-180107-Tirage.pkl']"
      ]
     },
     "execution_count": 39,
     "metadata": {},
     "output_type": "execute_result"
    }
   ],
   "source": [
    "serie=u\"100Ko\"\n",
    "decalageNumeros=50\n",
    "tiragesNom(serie)"
   ]
  },
  {
   "cell_type": "code",
   "execution_count": 40,
   "metadata": {
    "collapsed": true
   },
   "outputs": [],
   "source": [
    "def lireTirage(nom):\n",
    "    with open(ancienNom,\"rb\") as input:\n",
    "        df=pickle.load(input)\n",
    "    return df"
   ]
  },
  {
   "cell_type": "code",
   "execution_count": 41,
   "metadata": {},
   "outputs": [
    {
     "name": "stdout",
     "output_type": "stream",
     "text": [
      "/Volumes/gilles/Transfert/Copies-iMac-GB/2015-Data/Samples/Verbes3/180107/MGC-100Ko-00-180107-Tirage.pkl\n",
      "/Volumes/gilles/Transfert/Copies-iMac-GB/2015-Data/Samples/Verbes3/180107/MGC-100Ko-50-T100000-F14919-Tirage.pkl\n",
      "\n",
      "/Volumes/gilles/Transfert/Copies-iMac-GB/2015-Data/Samples/Verbes3/180107/MGC-100Ko-01-180107-Tirage.pkl\n",
      "/Volumes/gilles/Transfert/Copies-iMac-GB/2015-Data/Samples/Verbes3/180107/MGC-100Ko-51-T100000-F14789-Tirage.pkl\n",
      "\n",
      "/Volumes/gilles/Transfert/Copies-iMac-GB/2015-Data/Samples/Verbes3/180107/MGC-100Ko-02-180107-Tirage.pkl\n",
      "/Volumes/gilles/Transfert/Copies-iMac-GB/2015-Data/Samples/Verbes3/180107/MGC-100Ko-52-T100000-F14835-Tirage.pkl\n",
      "\n",
      "/Volumes/gilles/Transfert/Copies-iMac-GB/2015-Data/Samples/Verbes3/180107/MGC-100Ko-03-180107-Tirage.pkl\n",
      "/Volumes/gilles/Transfert/Copies-iMac-GB/2015-Data/Samples/Verbes3/180107/MGC-100Ko-53-T100000-F14788-Tirage.pkl\n",
      "\n",
      "/Volumes/gilles/Transfert/Copies-iMac-GB/2015-Data/Samples/Verbes3/180107/MGC-100Ko-04-180107-Tirage.pkl\n",
      "/Volumes/gilles/Transfert/Copies-iMac-GB/2015-Data/Samples/Verbes3/180107/MGC-100Ko-54-T100000-F14831-Tirage.pkl\n",
      "\n",
      "/Volumes/gilles/Transfert/Copies-iMac-GB/2015-Data/Samples/Verbes3/180107/MGC-100Ko-05-180107-Tirage.pkl\n",
      "/Volumes/gilles/Transfert/Copies-iMac-GB/2015-Data/Samples/Verbes3/180107/MGC-100Ko-55-T100000-F14807-Tirage.pkl\n",
      "\n",
      "/Volumes/gilles/Transfert/Copies-iMac-GB/2015-Data/Samples/Verbes3/180107/MGC-100Ko-06-180107-Tirage.pkl\n",
      "/Volumes/gilles/Transfert/Copies-iMac-GB/2015-Data/Samples/Verbes3/180107/MGC-100Ko-56-T100000-F14888-Tirage.pkl\n",
      "\n",
      "/Volumes/gilles/Transfert/Copies-iMac-GB/2015-Data/Samples/Verbes3/180107/MGC-100Ko-07-180107-Tirage.pkl\n",
      "/Volumes/gilles/Transfert/Copies-iMac-GB/2015-Data/Samples/Verbes3/180107/MGC-100Ko-57-T100000-F14858-Tirage.pkl\n",
      "\n",
      "/Volumes/gilles/Transfert/Copies-iMac-GB/2015-Data/Samples/Verbes3/180107/MGC-100Ko-08-180107-Tirage.pkl\n",
      "/Volumes/gilles/Transfert/Copies-iMac-GB/2015-Data/Samples/Verbes3/180107/MGC-100Ko-58-T100000-F14783-Tirage.pkl\n",
      "\n",
      "/Volumes/gilles/Transfert/Copies-iMac-GB/2015-Data/Samples/Verbes3/180107/MGC-100Ko-09-180107-Tirage.pkl\n",
      "/Volumes/gilles/Transfert/Copies-iMac-GB/2015-Data/Samples/Verbes3/180107/MGC-100Ko-59-T100000-F14816-Tirage.pkl\n",
      "\n",
      "/Volumes/gilles/Transfert/Copies-iMac-GB/2015-Data/Samples/Verbes3/180107/MGC-100Ko-10-180107-Tirage.pkl\n",
      "/Volumes/gilles/Transfert/Copies-iMac-GB/2015-Data/Samples/Verbes3/180107/MGC-100Ko-60-T100000-F14947-Tirage.pkl\n",
      "\n",
      "/Volumes/gilles/Transfert/Copies-iMac-GB/2015-Data/Samples/Verbes3/180107/MGC-100Ko-11-180107-Tirage.pkl\n",
      "/Volumes/gilles/Transfert/Copies-iMac-GB/2015-Data/Samples/Verbes3/180107/MGC-100Ko-61-T100000-F14796-Tirage.pkl\n",
      "\n",
      "/Volumes/gilles/Transfert/Copies-iMac-GB/2015-Data/Samples/Verbes3/180107/MGC-100Ko-12-180107-Tirage.pkl\n",
      "/Volumes/gilles/Transfert/Copies-iMac-GB/2015-Data/Samples/Verbes3/180107/MGC-100Ko-62-T100000-F14743-Tirage.pkl\n",
      "\n",
      "/Volumes/gilles/Transfert/Copies-iMac-GB/2015-Data/Samples/Verbes3/180107/MGC-100Ko-13-180107-Tirage.pkl\n",
      "/Volumes/gilles/Transfert/Copies-iMac-GB/2015-Data/Samples/Verbes3/180107/MGC-100Ko-63-T100000-F14874-Tirage.pkl\n",
      "\n",
      "/Volumes/gilles/Transfert/Copies-iMac-GB/2015-Data/Samples/Verbes3/180107/MGC-100Ko-14-180107-Tirage.pkl\n",
      "/Volumes/gilles/Transfert/Copies-iMac-GB/2015-Data/Samples/Verbes3/180107/MGC-100Ko-64-T100000-F14975-Tirage.pkl\n",
      "\n",
      "/Volumes/gilles/Transfert/Copies-iMac-GB/2015-Data/Samples/Verbes3/180107/MGC-100Ko-15-180107-Tirage.pkl\n",
      "/Volumes/gilles/Transfert/Copies-iMac-GB/2015-Data/Samples/Verbes3/180107/MGC-100Ko-65-T100000-F14860-Tirage.pkl\n",
      "\n",
      "/Volumes/gilles/Transfert/Copies-iMac-GB/2015-Data/Samples/Verbes3/180107/MGC-100Ko-16-180107-Tirage.pkl\n",
      "/Volumes/gilles/Transfert/Copies-iMac-GB/2015-Data/Samples/Verbes3/180107/MGC-100Ko-66-T100000-F14852-Tirage.pkl\n",
      "\n",
      "/Volumes/gilles/Transfert/Copies-iMac-GB/2015-Data/Samples/Verbes3/180107/MGC-100Ko-17-180107-Tirage.pkl\n",
      "/Volumes/gilles/Transfert/Copies-iMac-GB/2015-Data/Samples/Verbes3/180107/MGC-100Ko-67-T100000-F14813-Tirage.pkl\n",
      "\n",
      "/Volumes/gilles/Transfert/Copies-iMac-GB/2015-Data/Samples/Verbes3/180107/MGC-100Ko-18-180107-Tirage.pkl\n",
      "/Volumes/gilles/Transfert/Copies-iMac-GB/2015-Data/Samples/Verbes3/180107/MGC-100Ko-68-T100000-F14798-Tirage.pkl\n",
      "\n",
      "/Volumes/gilles/Transfert/Copies-iMac-GB/2015-Data/Samples/Verbes3/180107/MGC-100Ko-19-180107-Tirage.pkl\n",
      "/Volumes/gilles/Transfert/Copies-iMac-GB/2015-Data/Samples/Verbes3/180107/MGC-100Ko-69-T100000-F14711-Tirage.pkl\n",
      "\n",
      "/Volumes/gilles/Transfert/Copies-iMac-GB/2015-Data/Samples/Verbes3/180107/MGC-100Ko-20-180107-Tirage.pkl\n",
      "/Volumes/gilles/Transfert/Copies-iMac-GB/2015-Data/Samples/Verbes3/180107/MGC-100Ko-70-T100000-F14864-Tirage.pkl\n",
      "\n",
      "/Volumes/gilles/Transfert/Copies-iMac-GB/2015-Data/Samples/Verbes3/180107/MGC-100Ko-21-180107-Tirage.pkl\n",
      "/Volumes/gilles/Transfert/Copies-iMac-GB/2015-Data/Samples/Verbes3/180107/MGC-100Ko-71-T100000-F14866-Tirage.pkl\n",
      "\n",
      "/Volumes/gilles/Transfert/Copies-iMac-GB/2015-Data/Samples/Verbes3/180107/MGC-100Ko-22-180107-Tirage.pkl\n",
      "/Volumes/gilles/Transfert/Copies-iMac-GB/2015-Data/Samples/Verbes3/180107/MGC-100Ko-72-T100000-F14857-Tirage.pkl\n",
      "\n",
      "/Volumes/gilles/Transfert/Copies-iMac-GB/2015-Data/Samples/Verbes3/180107/MGC-100Ko-23-180107-Tirage.pkl\n",
      "/Volumes/gilles/Transfert/Copies-iMac-GB/2015-Data/Samples/Verbes3/180107/MGC-100Ko-73-T100000-F14846-Tirage.pkl\n",
      "\n",
      "/Volumes/gilles/Transfert/Copies-iMac-GB/2015-Data/Samples/Verbes3/180107/MGC-100Ko-24-180107-Tirage.pkl\n",
      "/Volumes/gilles/Transfert/Copies-iMac-GB/2015-Data/Samples/Verbes3/180107/MGC-100Ko-74-T100000-F14748-Tirage.pkl\n",
      "\n",
      "/Volumes/gilles/Transfert/Copies-iMac-GB/2015-Data/Samples/Verbes3/180107/MGC-100Ko-25-180107-Tirage.pkl\n",
      "/Volumes/gilles/Transfert/Copies-iMac-GB/2015-Data/Samples/Verbes3/180107/MGC-100Ko-75-T100000-F14811-Tirage.pkl\n",
      "\n",
      "/Volumes/gilles/Transfert/Copies-iMac-GB/2015-Data/Samples/Verbes3/180107/MGC-100Ko-26-180107-Tirage.pkl\n",
      "/Volumes/gilles/Transfert/Copies-iMac-GB/2015-Data/Samples/Verbes3/180107/MGC-100Ko-76-T100000-F14973-Tirage.pkl\n",
      "\n",
      "/Volumes/gilles/Transfert/Copies-iMac-GB/2015-Data/Samples/Verbes3/180107/MGC-100Ko-27-180107-Tirage.pkl\n",
      "/Volumes/gilles/Transfert/Copies-iMac-GB/2015-Data/Samples/Verbes3/180107/MGC-100Ko-77-T100000-F14973-Tirage.pkl\n",
      "\n",
      "/Volumes/gilles/Transfert/Copies-iMac-GB/2015-Data/Samples/Verbes3/180107/MGC-100Ko-28-180107-Tirage.pkl\n",
      "/Volumes/gilles/Transfert/Copies-iMac-GB/2015-Data/Samples/Verbes3/180107/MGC-100Ko-78-T100000-F14964-Tirage.pkl\n",
      "\n",
      "/Volumes/gilles/Transfert/Copies-iMac-GB/2015-Data/Samples/Verbes3/180107/MGC-100Ko-29-180107-Tirage.pkl\n",
      "/Volumes/gilles/Transfert/Copies-iMac-GB/2015-Data/Samples/Verbes3/180107/MGC-100Ko-79-T100000-F14813-Tirage.pkl\n",
      "\n",
      "/Volumes/gilles/Transfert/Copies-iMac-GB/2015-Data/Samples/Verbes3/180107/MGC-100Ko-30-180107-Tirage.pkl\n",
      "/Volumes/gilles/Transfert/Copies-iMac-GB/2015-Data/Samples/Verbes3/180107/MGC-100Ko-80-T100000-F14785-Tirage.pkl\n",
      "\n",
      "/Volumes/gilles/Transfert/Copies-iMac-GB/2015-Data/Samples/Verbes3/180107/MGC-100Ko-31-180107-Tirage.pkl\n",
      "/Volumes/gilles/Transfert/Copies-iMac-GB/2015-Data/Samples/Verbes3/180107/MGC-100Ko-81-T100000-F14854-Tirage.pkl\n",
      "\n",
      "/Volumes/gilles/Transfert/Copies-iMac-GB/2015-Data/Samples/Verbes3/180107/MGC-100Ko-32-180107-Tirage.pkl\n",
      "/Volumes/gilles/Transfert/Copies-iMac-GB/2015-Data/Samples/Verbes3/180107/MGC-100Ko-82-T100000-F14882-Tirage.pkl\n",
      "\n",
      "/Volumes/gilles/Transfert/Copies-iMac-GB/2015-Data/Samples/Verbes3/180107/MGC-100Ko-33-180107-Tirage.pkl\n",
      "/Volumes/gilles/Transfert/Copies-iMac-GB/2015-Data/Samples/Verbes3/180107/MGC-100Ko-83-T100000-F14709-Tirage.pkl\n",
      "\n",
      "/Volumes/gilles/Transfert/Copies-iMac-GB/2015-Data/Samples/Verbes3/180107/MGC-100Ko-34-180107-Tirage.pkl\n",
      "/Volumes/gilles/Transfert/Copies-iMac-GB/2015-Data/Samples/Verbes3/180107/MGC-100Ko-84-T100000-F14768-Tirage.pkl\n",
      "\n",
      "/Volumes/gilles/Transfert/Copies-iMac-GB/2015-Data/Samples/Verbes3/180107/MGC-100Ko-35-180107-Tirage.pkl\n",
      "/Volumes/gilles/Transfert/Copies-iMac-GB/2015-Data/Samples/Verbes3/180107/MGC-100Ko-85-T100000-F14903-Tirage.pkl\n",
      "\n",
      "/Volumes/gilles/Transfert/Copies-iMac-GB/2015-Data/Samples/Verbes3/180107/MGC-100Ko-36-180107-Tirage.pkl\n",
      "/Volumes/gilles/Transfert/Copies-iMac-GB/2015-Data/Samples/Verbes3/180107/MGC-100Ko-86-T100000-F14995-Tirage.pkl\n",
      "\n",
      "/Volumes/gilles/Transfert/Copies-iMac-GB/2015-Data/Samples/Verbes3/180107/MGC-100Ko-37-180107-Tirage.pkl\n",
      "/Volumes/gilles/Transfert/Copies-iMac-GB/2015-Data/Samples/Verbes3/180107/MGC-100Ko-87-T100000-F14873-Tirage.pkl\n",
      "\n"
     ]
    },
    {
     "name": "stdout",
     "output_type": "stream",
     "text": [
      "/Volumes/gilles/Transfert/Copies-iMac-GB/2015-Data/Samples/Verbes3/180107/MGC-100Ko-38-180107-Tirage.pkl\n",
      "/Volumes/gilles/Transfert/Copies-iMac-GB/2015-Data/Samples/Verbes3/180107/MGC-100Ko-88-T100000-F14873-Tirage.pkl\n",
      "\n",
      "/Volumes/gilles/Transfert/Copies-iMac-GB/2015-Data/Samples/Verbes3/180107/MGC-100Ko-39-180107-Tirage.pkl\n",
      "/Volumes/gilles/Transfert/Copies-iMac-GB/2015-Data/Samples/Verbes3/180107/MGC-100Ko-89-T100000-F14838-Tirage.pkl\n",
      "\n",
      "/Volumes/gilles/Transfert/Copies-iMac-GB/2015-Data/Samples/Verbes3/180107/MGC-100Ko-40-180107-Tirage.pkl\n",
      "/Volumes/gilles/Transfert/Copies-iMac-GB/2015-Data/Samples/Verbes3/180107/MGC-100Ko-90-T100000-F14880-Tirage.pkl\n",
      "\n",
      "/Volumes/gilles/Transfert/Copies-iMac-GB/2015-Data/Samples/Verbes3/180107/MGC-100Ko-41-180107-Tirage.pkl\n",
      "/Volumes/gilles/Transfert/Copies-iMac-GB/2015-Data/Samples/Verbes3/180107/MGC-100Ko-91-T100000-F14928-Tirage.pkl\n",
      "\n",
      "/Volumes/gilles/Transfert/Copies-iMac-GB/2015-Data/Samples/Verbes3/180107/MGC-100Ko-42-180107-Tirage.pkl\n",
      "/Volumes/gilles/Transfert/Copies-iMac-GB/2015-Data/Samples/Verbes3/180107/MGC-100Ko-92-T100000-F14847-Tirage.pkl\n",
      "\n",
      "/Volumes/gilles/Transfert/Copies-iMac-GB/2015-Data/Samples/Verbes3/180107/MGC-100Ko-43-180107-Tirage.pkl\n",
      "/Volumes/gilles/Transfert/Copies-iMac-GB/2015-Data/Samples/Verbes3/180107/MGC-100Ko-93-T100000-F14827-Tirage.pkl\n",
      "\n",
      "/Volumes/gilles/Transfert/Copies-iMac-GB/2015-Data/Samples/Verbes3/180107/MGC-100Ko-44-180107-Tirage.pkl\n",
      "/Volumes/gilles/Transfert/Copies-iMac-GB/2015-Data/Samples/Verbes3/180107/MGC-100Ko-94-T100000-F14907-Tirage.pkl\n",
      "\n",
      "/Volumes/gilles/Transfert/Copies-iMac-GB/2015-Data/Samples/Verbes3/180107/MGC-100Ko-45-180107-Tirage.pkl\n",
      "/Volumes/gilles/Transfert/Copies-iMac-GB/2015-Data/Samples/Verbes3/180107/MGC-100Ko-95-T100000-F14849-Tirage.pkl\n",
      "\n",
      "/Volumes/gilles/Transfert/Copies-iMac-GB/2015-Data/Samples/Verbes3/180107/MGC-100Ko-46-180107-Tirage.pkl\n",
      "/Volumes/gilles/Transfert/Copies-iMac-GB/2015-Data/Samples/Verbes3/180107/MGC-100Ko-96-T100000-F14782-Tirage.pkl\n",
      "\n",
      "/Volumes/gilles/Transfert/Copies-iMac-GB/2015-Data/Samples/Verbes3/180107/MGC-100Ko-47-180107-Tirage.pkl\n",
      "/Volumes/gilles/Transfert/Copies-iMac-GB/2015-Data/Samples/Verbes3/180107/MGC-100Ko-97-T100000-F14953-Tirage.pkl\n",
      "\n",
      "/Volumes/gilles/Transfert/Copies-iMac-GB/2015-Data/Samples/Verbes3/180107/MGC-100Ko-48-180107-Tirage.pkl\n",
      "/Volumes/gilles/Transfert/Copies-iMac-GB/2015-Data/Samples/Verbes3/180107/MGC-100Ko-98-T100000-F14973-Tirage.pkl\n",
      "\n",
      "/Volumes/gilles/Transfert/Copies-iMac-GB/2015-Data/Samples/Verbes3/180107/MGC-100Ko-49-180107-Tirage.pkl\n",
      "/Volumes/gilles/Transfert/Copies-iMac-GB/2015-Data/Samples/Verbes3/180107/MGC-100Ko-99-T100000-F14845-Tirage.pkl\n",
      "\n"
     ]
    }
   ],
   "source": [
    "for ancienNom in tiragesNom(serie):\n",
    "    m=re.match(ur\"^(.*-%s-)(\\d{2})-\\d{6}(.*)\"%serie,ancienNom)\n",
    "    if m:\n",
    "        df=lireTirage(ancienNom)\n",
    "        nbFormes=df[df[\"tir1\"]>0][\"tir1\"].count()\n",
    "        nbTokens=df[df[\"tir1\"]>0][\"tir1\"].sum()\n",
    "        nouveauNom=m.group(1)+\"%02d\"%(int(m.group(2))+decalageNumeros)+\"-T%d\"%nbTokens+\"-F%d\"%nbFormes+m.group(3)\n",
    "        print ancienNom\n",
    "        print nouveauNom\n",
    "        print\n",
    "        os.rename(ancienNom,nouveauNom)"
   ]
  }
 ],
 "metadata": {
  "kernelspec": {
   "display_name": "Python 2",
   "language": "python",
   "name": "python2"
  },
  "language_info": {
   "codemirror_mode": {
    "name": "ipython",
    "version": 2
   },
   "file_extension": ".py",
   "mimetype": "text/x-python",
   "name": "python",
   "nbconvert_exporter": "python",
   "pygments_lexer": "ipython2",
   "version": "2.7.11"
  }
 },
 "nbformat": 4,
 "nbformat_minor": 1
}
