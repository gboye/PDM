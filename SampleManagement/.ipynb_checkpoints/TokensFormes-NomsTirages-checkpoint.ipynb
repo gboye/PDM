{
 "cells": [
  {
   "cell_type": "markdown",
   "metadata": {},
   "source": [
    "# Insérer le nombre de Tokens et de Formes dans le nom des fichiers Tirage"
   ]
  },
  {
   "cell_type": "code",
   "execution_count": 14,
   "metadata": {},
   "outputs": [],
   "source": [
    "import glob,re,os,pickle"
   ]
  },
  {
   "cell_type": "code",
   "execution_count": 15,
   "metadata": {},
   "outputs": [],
   "source": [
    "#listeTirages=glob.glob(\"/Volumes/gilles/Transfert/Copies-iMac-GB/2015-Data/Samples/Verbes3/180107/*-Tirage.pkl\")\n",
    "listeTirages=glob.glob(\"/Volumes/gilles/Transfert/Copies-iMac-GB/2015-Data/Samples/Verbes3Rnd/*-Tirage.pkl\")"
   ]
  },
  {
   "cell_type": "code",
   "execution_count": 16,
   "metadata": {},
   "outputs": [],
   "source": [
    "def tiragesNom(nom):\n",
    "    result=[tirage for tirage in listeTirages if nom in tirage]\n",
    "    return sorted(result)"
   ]
  },
  {
   "cell_type": "code",
   "execution_count": 17,
   "metadata": {},
   "outputs": [
    {
     "data": {
      "text/plain": [
       "['/Volumes/gilles/Transfert/Copies-iMac-GB/2015-Data/Samples/Verbes3Rnd/MGC-1000Ko-00-T1000000-F40011-Tirage.pkl',\n",
       " '/Volumes/gilles/Transfert/Copies-iMac-GB/2015-Data/Samples/Verbes3Rnd/MGC-1000Ko-01-T1000000-F39742-Tirage.pkl',\n",
       " '/Volumes/gilles/Transfert/Copies-iMac-GB/2015-Data/Samples/Verbes3Rnd/MGC-1000Ko-02-T1000000-F39867-Tirage.pkl',\n",
       " '/Volumes/gilles/Transfert/Copies-iMac-GB/2015-Data/Samples/Verbes3Rnd/MGC-1000Ko-03-T1000000-F39959-Tirage.pkl',\n",
       " '/Volumes/gilles/Transfert/Copies-iMac-GB/2015-Data/Samples/Verbes3Rnd/MGC-1000Ko-04-T1000000-F39953-Tirage.pkl',\n",
       " '/Volumes/gilles/Transfert/Copies-iMac-GB/2015-Data/Samples/Verbes3Rnd/MGC-1000Ko-05-T1000000-F39722-Tirage.pkl',\n",
       " '/Volumes/gilles/Transfert/Copies-iMac-GB/2015-Data/Samples/Verbes3Rnd/MGC-1000Ko-06-T1000000-F39871-Tirage.pkl',\n",
       " '/Volumes/gilles/Transfert/Copies-iMac-GB/2015-Data/Samples/Verbes3Rnd/MGC-1000Ko-07-T1000000-F39835-Tirage.pkl',\n",
       " '/Volumes/gilles/Transfert/Copies-iMac-GB/2015-Data/Samples/Verbes3Rnd/MGC-1000Ko-08-T1000000-F39825-Tirage.pkl',\n",
       " '/Volumes/gilles/Transfert/Copies-iMac-GB/2015-Data/Samples/Verbes3Rnd/MGC-1000Ko-09-T1000000-F39780-Tirage.pkl',\n",
       " '/Volumes/gilles/Transfert/Copies-iMac-GB/2015-Data/Samples/Verbes3Rnd/MGC-1000Ko-10-T1000000-F39786-Tirage.pkl',\n",
       " '/Volumes/gilles/Transfert/Copies-iMac-GB/2015-Data/Samples/Verbes3Rnd/MGC-1000Ko-11-T1000000-F39780-Tirage.pkl',\n",
       " '/Volumes/gilles/Transfert/Copies-iMac-GB/2015-Data/Samples/Verbes3Rnd/MGC-1000Ko-12-T1000000-F39839-Tirage.pkl',\n",
       " '/Volumes/gilles/Transfert/Copies-iMac-GB/2015-Data/Samples/Verbes3Rnd/MGC-1000Ko-13-T1000000-F39771-Tirage.pkl',\n",
       " '/Volumes/gilles/Transfert/Copies-iMac-GB/2015-Data/Samples/Verbes3Rnd/MGC-1000Ko-14-T1000000-F39801-Tirage.pkl',\n",
       " '/Volumes/gilles/Transfert/Copies-iMac-GB/2015-Data/Samples/Verbes3Rnd/MGC-1000Ko-15-T1000000-F39743-Tirage.pkl',\n",
       " '/Volumes/gilles/Transfert/Copies-iMac-GB/2015-Data/Samples/Verbes3Rnd/MGC-1000Ko-16-T1000000-F39768-Tirage.pkl',\n",
       " '/Volumes/gilles/Transfert/Copies-iMac-GB/2015-Data/Samples/Verbes3Rnd/MGC-1000Ko-17-180107-Tirage.pkl',\n",
       " '/Volumes/gilles/Transfert/Copies-iMac-GB/2015-Data/Samples/Verbes3Rnd/MGC-1000Ko-18-180107-Tirage.pkl',\n",
       " '/Volumes/gilles/Transfert/Copies-iMac-GB/2015-Data/Samples/Verbes3Rnd/MGC-1000Ko-19-180107-Tirage.pkl',\n",
       " '/Volumes/gilles/Transfert/Copies-iMac-GB/2015-Data/Samples/Verbes3Rnd/MGC-1000Ko-20-180107-Tirage.pkl',\n",
       " '/Volumes/gilles/Transfert/Copies-iMac-GB/2015-Data/Samples/Verbes3Rnd/MGC-1000Ko-21-180107-Tirage.pkl',\n",
       " '/Volumes/gilles/Transfert/Copies-iMac-GB/2015-Data/Samples/Verbes3Rnd/MGC-1000Ko-22-180107-Tirage.pkl',\n",
       " '/Volumes/gilles/Transfert/Copies-iMac-GB/2015-Data/Samples/Verbes3Rnd/MGC-1000Ko-23-180107-Tirage.pkl',\n",
       " '/Volumes/gilles/Transfert/Copies-iMac-GB/2015-Data/Samples/Verbes3Rnd/MGC-1000Ko-24-180107-Tirage.pkl',\n",
       " '/Volumes/gilles/Transfert/Copies-iMac-GB/2015-Data/Samples/Verbes3Rnd/MGC-1000Ko-25-180107-Tirage.pkl',\n",
       " '/Volumes/gilles/Transfert/Copies-iMac-GB/2015-Data/Samples/Verbes3Rnd/MGC-1000Ko-26-180107-Tirage.pkl',\n",
       " '/Volumes/gilles/Transfert/Copies-iMac-GB/2015-Data/Samples/Verbes3Rnd/MGC-1000Ko-27-180107-Tirage.pkl',\n",
       " '/Volumes/gilles/Transfert/Copies-iMac-GB/2015-Data/Samples/Verbes3Rnd/MGC-1000Ko-28-180107-Tirage.pkl',\n",
       " '/Volumes/gilles/Transfert/Copies-iMac-GB/2015-Data/Samples/Verbes3Rnd/MGC-1000Ko-29-180107-Tirage.pkl',\n",
       " '/Volumes/gilles/Transfert/Copies-iMac-GB/2015-Data/Samples/Verbes3Rnd/MGC-1000Ko-30-180107-Tirage.pkl',\n",
       " '/Volumes/gilles/Transfert/Copies-iMac-GB/2015-Data/Samples/Verbes3Rnd/MGC-1000Ko-31-180107-Tirage.pkl',\n",
       " '/Volumes/gilles/Transfert/Copies-iMac-GB/2015-Data/Samples/Verbes3Rnd/MGC-1000Ko-32-180107-Tirage.pkl',\n",
       " '/Volumes/gilles/Transfert/Copies-iMac-GB/2015-Data/Samples/Verbes3Rnd/MGC-1000Ko-33-180107-Tirage.pkl',\n",
       " '/Volumes/gilles/Transfert/Copies-iMac-GB/2015-Data/Samples/Verbes3Rnd/MGC-1000Ko-34-180107-Tirage.pkl',\n",
       " '/Volumes/gilles/Transfert/Copies-iMac-GB/2015-Data/Samples/Verbes3Rnd/MGC-1000Ko-35-180107-Tirage.pkl',\n",
       " '/Volumes/gilles/Transfert/Copies-iMac-GB/2015-Data/Samples/Verbes3Rnd/MGC-1000Ko-36-180107-Tirage.pkl',\n",
       " '/Volumes/gilles/Transfert/Copies-iMac-GB/2015-Data/Samples/Verbes3Rnd/MGC-1000Ko-37-180107-Tirage.pkl',\n",
       " '/Volumes/gilles/Transfert/Copies-iMac-GB/2015-Data/Samples/Verbes3Rnd/MGC-1000Ko-38-180107-Tirage.pkl',\n",
       " '/Volumes/gilles/Transfert/Copies-iMac-GB/2015-Data/Samples/Verbes3Rnd/MGC-1000Ko-39-180107-Tirage.pkl',\n",
       " '/Volumes/gilles/Transfert/Copies-iMac-GB/2015-Data/Samples/Verbes3Rnd/MGC-1000Ko-40-180107-Tirage.pkl',\n",
       " '/Volumes/gilles/Transfert/Copies-iMac-GB/2015-Data/Samples/Verbes3Rnd/MGC-1000Ko-41-180107-Tirage.pkl',\n",
       " '/Volumes/gilles/Transfert/Copies-iMac-GB/2015-Data/Samples/Verbes3Rnd/MGC-1000Ko-42-180107-Tirage.pkl',\n",
       " '/Volumes/gilles/Transfert/Copies-iMac-GB/2015-Data/Samples/Verbes3Rnd/MGC-1000Ko-43-180107-Tirage.pkl',\n",
       " '/Volumes/gilles/Transfert/Copies-iMac-GB/2015-Data/Samples/Verbes3Rnd/MGC-1000Ko-44-180107-Tirage.pkl',\n",
       " '/Volumes/gilles/Transfert/Copies-iMac-GB/2015-Data/Samples/Verbes3Rnd/MGC-1000Ko-45-180107-Tirage.pkl',\n",
       " '/Volumes/gilles/Transfert/Copies-iMac-GB/2015-Data/Samples/Verbes3Rnd/MGC-1000Ko-46-180107-Tirage.pkl',\n",
       " '/Volumes/gilles/Transfert/Copies-iMac-GB/2015-Data/Samples/Verbes3Rnd/MGC-1000Ko-47-180107-Tirage.pkl',\n",
       " '/Volumes/gilles/Transfert/Copies-iMac-GB/2015-Data/Samples/Verbes3Rnd/MGC-1000Ko-48-180107-Tirage.pkl',\n",
       " '/Volumes/gilles/Transfert/Copies-iMac-GB/2015-Data/Samples/Verbes3Rnd/MGC-1000Ko-49-180107-Tirage.pkl']"
      ]
     },
     "execution_count": 17,
     "metadata": {},
     "output_type": "execute_result"
    }
   ],
   "source": [
    "serie=u\"1000Ko\"\n",
    "decalageNumeros=0\n",
    "tiragesNom(serie)"
   ]
  },
  {
   "cell_type": "code",
   "execution_count": 18,
   "metadata": {},
   "outputs": [],
   "source": [
    "def lireTirage(nom):\n",
    "    with open(ancienNom,\"rb\") as input:\n",
    "        df=pickle.load(input)\n",
    "    return df"
   ]
  },
  {
   "cell_type": "code",
   "execution_count": 20,
   "metadata": {},
   "outputs": [
    {
     "name": "stdout",
     "output_type": "stream",
     "text": [
      "/Volumes/gilles/Transfert/Copies-iMac-GB/2015-Data/Samples/Verbes3Rnd/MGC-1000Ko-17-180107-Tirage.pkl\n",
      "/Volumes/gilles/Transfert/Copies-iMac-GB/2015-Data/Samples/Verbes3Rnd/MGC-1000Ko-17-T1000000-F39736-Tirage.pkl\n",
      "\n",
      "/Volumes/gilles/Transfert/Copies-iMac-GB/2015-Data/Samples/Verbes3Rnd/MGC-1000Ko-18-180107-Tirage.pkl\n",
      "/Volumes/gilles/Transfert/Copies-iMac-GB/2015-Data/Samples/Verbes3Rnd/MGC-1000Ko-18-T1000000-F39809-Tirage.pkl\n",
      "\n",
      "/Volumes/gilles/Transfert/Copies-iMac-GB/2015-Data/Samples/Verbes3Rnd/MGC-1000Ko-19-180107-Tirage.pkl\n",
      "/Volumes/gilles/Transfert/Copies-iMac-GB/2015-Data/Samples/Verbes3Rnd/MGC-1000Ko-19-T1000000-F39853-Tirage.pkl\n",
      "\n",
      "/Volumes/gilles/Transfert/Copies-iMac-GB/2015-Data/Samples/Verbes3Rnd/MGC-1000Ko-20-180107-Tirage.pkl\n",
      "/Volumes/gilles/Transfert/Copies-iMac-GB/2015-Data/Samples/Verbes3Rnd/MGC-1000Ko-20-T1000000-F39920-Tirage.pkl\n",
      "\n",
      "/Volumes/gilles/Transfert/Copies-iMac-GB/2015-Data/Samples/Verbes3Rnd/MGC-1000Ko-21-180107-Tirage.pkl\n",
      "/Volumes/gilles/Transfert/Copies-iMac-GB/2015-Data/Samples/Verbes3Rnd/MGC-1000Ko-21-T1000000-F39699-Tirage.pkl\n",
      "\n",
      "/Volumes/gilles/Transfert/Copies-iMac-GB/2015-Data/Samples/Verbes3Rnd/MGC-1000Ko-22-180107-Tirage.pkl\n",
      "/Volumes/gilles/Transfert/Copies-iMac-GB/2015-Data/Samples/Verbes3Rnd/MGC-1000Ko-22-T1000000-F40051-Tirage.pkl\n",
      "\n",
      "/Volumes/gilles/Transfert/Copies-iMac-GB/2015-Data/Samples/Verbes3Rnd/MGC-1000Ko-23-180107-Tirage.pkl\n",
      "/Volumes/gilles/Transfert/Copies-iMac-GB/2015-Data/Samples/Verbes3Rnd/MGC-1000Ko-23-T1000000-F39913-Tirage.pkl\n",
      "\n",
      "/Volumes/gilles/Transfert/Copies-iMac-GB/2015-Data/Samples/Verbes3Rnd/MGC-1000Ko-24-180107-Tirage.pkl\n",
      "/Volumes/gilles/Transfert/Copies-iMac-GB/2015-Data/Samples/Verbes3Rnd/MGC-1000Ko-24-T1000000-F39778-Tirage.pkl\n",
      "\n",
      "/Volumes/gilles/Transfert/Copies-iMac-GB/2015-Data/Samples/Verbes3Rnd/MGC-1000Ko-25-180107-Tirage.pkl\n",
      "/Volumes/gilles/Transfert/Copies-iMac-GB/2015-Data/Samples/Verbes3Rnd/MGC-1000Ko-25-T1000000-F39775-Tirage.pkl\n",
      "\n",
      "/Volumes/gilles/Transfert/Copies-iMac-GB/2015-Data/Samples/Verbes3Rnd/MGC-1000Ko-26-180107-Tirage.pkl\n",
      "/Volumes/gilles/Transfert/Copies-iMac-GB/2015-Data/Samples/Verbes3Rnd/MGC-1000Ko-26-T1000000-F39968-Tirage.pkl\n",
      "\n",
      "/Volumes/gilles/Transfert/Copies-iMac-GB/2015-Data/Samples/Verbes3Rnd/MGC-1000Ko-27-180107-Tirage.pkl\n",
      "/Volumes/gilles/Transfert/Copies-iMac-GB/2015-Data/Samples/Verbes3Rnd/MGC-1000Ko-27-T1000000-F39929-Tirage.pkl\n",
      "\n",
      "/Volumes/gilles/Transfert/Copies-iMac-GB/2015-Data/Samples/Verbes3Rnd/MGC-1000Ko-28-180107-Tirage.pkl\n",
      "/Volumes/gilles/Transfert/Copies-iMac-GB/2015-Data/Samples/Verbes3Rnd/MGC-1000Ko-28-T1000000-F39640-Tirage.pkl\n",
      "\n",
      "/Volumes/gilles/Transfert/Copies-iMac-GB/2015-Data/Samples/Verbes3Rnd/MGC-1000Ko-29-180107-Tirage.pkl\n",
      "/Volumes/gilles/Transfert/Copies-iMac-GB/2015-Data/Samples/Verbes3Rnd/MGC-1000Ko-29-T1000000-F39727-Tirage.pkl\n",
      "\n",
      "/Volumes/gilles/Transfert/Copies-iMac-GB/2015-Data/Samples/Verbes3Rnd/MGC-1000Ko-30-180107-Tirage.pkl\n",
      "/Volumes/gilles/Transfert/Copies-iMac-GB/2015-Data/Samples/Verbes3Rnd/MGC-1000Ko-30-T1000000-F39548-Tirage.pkl\n",
      "\n",
      "/Volumes/gilles/Transfert/Copies-iMac-GB/2015-Data/Samples/Verbes3Rnd/MGC-1000Ko-31-180107-Tirage.pkl\n",
      "/Volumes/gilles/Transfert/Copies-iMac-GB/2015-Data/Samples/Verbes3Rnd/MGC-1000Ko-31-T1000000-F39738-Tirage.pkl\n",
      "\n",
      "/Volumes/gilles/Transfert/Copies-iMac-GB/2015-Data/Samples/Verbes3Rnd/MGC-1000Ko-32-180107-Tirage.pkl\n",
      "/Volumes/gilles/Transfert/Copies-iMac-GB/2015-Data/Samples/Verbes3Rnd/MGC-1000Ko-32-T1000000-F39801-Tirage.pkl\n",
      "\n",
      "/Volumes/gilles/Transfert/Copies-iMac-GB/2015-Data/Samples/Verbes3Rnd/MGC-1000Ko-33-180107-Tirage.pkl\n",
      "/Volumes/gilles/Transfert/Copies-iMac-GB/2015-Data/Samples/Verbes3Rnd/MGC-1000Ko-33-T1000000-F39831-Tirage.pkl\n",
      "\n",
      "/Volumes/gilles/Transfert/Copies-iMac-GB/2015-Data/Samples/Verbes3Rnd/MGC-1000Ko-34-180107-Tirage.pkl\n",
      "/Volumes/gilles/Transfert/Copies-iMac-GB/2015-Data/Samples/Verbes3Rnd/MGC-1000Ko-34-T1000000-F39837-Tirage.pkl\n",
      "\n",
      "/Volumes/gilles/Transfert/Copies-iMac-GB/2015-Data/Samples/Verbes3Rnd/MGC-1000Ko-35-180107-Tirage.pkl\n",
      "/Volumes/gilles/Transfert/Copies-iMac-GB/2015-Data/Samples/Verbes3Rnd/MGC-1000Ko-35-T1000000-F39827-Tirage.pkl\n",
      "\n",
      "/Volumes/gilles/Transfert/Copies-iMac-GB/2015-Data/Samples/Verbes3Rnd/MGC-1000Ko-36-180107-Tirage.pkl\n",
      "/Volumes/gilles/Transfert/Copies-iMac-GB/2015-Data/Samples/Verbes3Rnd/MGC-1000Ko-36-T1000000-F39747-Tirage.pkl\n",
      "\n",
      "/Volumes/gilles/Transfert/Copies-iMac-GB/2015-Data/Samples/Verbes3Rnd/MGC-1000Ko-37-180107-Tirage.pkl\n",
      "/Volumes/gilles/Transfert/Copies-iMac-GB/2015-Data/Samples/Verbes3Rnd/MGC-1000Ko-37-T1000000-F39953-Tirage.pkl\n",
      "\n",
      "/Volumes/gilles/Transfert/Copies-iMac-GB/2015-Data/Samples/Verbes3Rnd/MGC-1000Ko-38-180107-Tirage.pkl\n",
      "/Volumes/gilles/Transfert/Copies-iMac-GB/2015-Data/Samples/Verbes3Rnd/MGC-1000Ko-38-T1000000-F39845-Tirage.pkl\n",
      "\n",
      "/Volumes/gilles/Transfert/Copies-iMac-GB/2015-Data/Samples/Verbes3Rnd/MGC-1000Ko-39-180107-Tirage.pkl\n",
      "/Volumes/gilles/Transfert/Copies-iMac-GB/2015-Data/Samples/Verbes3Rnd/MGC-1000Ko-39-T1000000-F39896-Tirage.pkl\n",
      "\n",
      "/Volumes/gilles/Transfert/Copies-iMac-GB/2015-Data/Samples/Verbes3Rnd/MGC-1000Ko-40-180107-Tirage.pkl\n",
      "/Volumes/gilles/Transfert/Copies-iMac-GB/2015-Data/Samples/Verbes3Rnd/MGC-1000Ko-40-T1000000-F39853-Tirage.pkl\n",
      "\n",
      "/Volumes/gilles/Transfert/Copies-iMac-GB/2015-Data/Samples/Verbes3Rnd/MGC-1000Ko-41-180107-Tirage.pkl\n",
      "/Volumes/gilles/Transfert/Copies-iMac-GB/2015-Data/Samples/Verbes3Rnd/MGC-1000Ko-41-T1000000-F39749-Tirage.pkl\n",
      "\n",
      "/Volumes/gilles/Transfert/Copies-iMac-GB/2015-Data/Samples/Verbes3Rnd/MGC-1000Ko-42-180107-Tirage.pkl\n",
      "/Volumes/gilles/Transfert/Copies-iMac-GB/2015-Data/Samples/Verbes3Rnd/MGC-1000Ko-42-T1000000-F39740-Tirage.pkl\n",
      "\n",
      "/Volumes/gilles/Transfert/Copies-iMac-GB/2015-Data/Samples/Verbes3Rnd/MGC-1000Ko-43-180107-Tirage.pkl\n",
      "/Volumes/gilles/Transfert/Copies-iMac-GB/2015-Data/Samples/Verbes3Rnd/MGC-1000Ko-43-T1000000-F39823-Tirage.pkl\n",
      "\n",
      "/Volumes/gilles/Transfert/Copies-iMac-GB/2015-Data/Samples/Verbes3Rnd/MGC-1000Ko-44-180107-Tirage.pkl\n",
      "/Volumes/gilles/Transfert/Copies-iMac-GB/2015-Data/Samples/Verbes3Rnd/MGC-1000Ko-44-T1000000-F39863-Tirage.pkl\n",
      "\n",
      "/Volumes/gilles/Transfert/Copies-iMac-GB/2015-Data/Samples/Verbes3Rnd/MGC-1000Ko-45-180107-Tirage.pkl\n",
      "/Volumes/gilles/Transfert/Copies-iMac-GB/2015-Data/Samples/Verbes3Rnd/MGC-1000Ko-45-T1000000-F39783-Tirage.pkl\n",
      "\n",
      "/Volumes/gilles/Transfert/Copies-iMac-GB/2015-Data/Samples/Verbes3Rnd/MGC-1000Ko-46-180107-Tirage.pkl\n",
      "/Volumes/gilles/Transfert/Copies-iMac-GB/2015-Data/Samples/Verbes3Rnd/MGC-1000Ko-46-T1000000-F39734-Tirage.pkl\n",
      "\n",
      "/Volumes/gilles/Transfert/Copies-iMac-GB/2015-Data/Samples/Verbes3Rnd/MGC-1000Ko-47-180107-Tirage.pkl\n",
      "/Volumes/gilles/Transfert/Copies-iMac-GB/2015-Data/Samples/Verbes3Rnd/MGC-1000Ko-47-T1000000-F39939-Tirage.pkl\n",
      "\n",
      "/Volumes/gilles/Transfert/Copies-iMac-GB/2015-Data/Samples/Verbes3Rnd/MGC-1000Ko-48-180107-Tirage.pkl\n",
      "/Volumes/gilles/Transfert/Copies-iMac-GB/2015-Data/Samples/Verbes3Rnd/MGC-1000Ko-48-T1000000-F39776-Tirage.pkl\n",
      "\n",
      "/Volumes/gilles/Transfert/Copies-iMac-GB/2015-Data/Samples/Verbes3Rnd/MGC-1000Ko-49-180107-Tirage.pkl\n",
      "/Volumes/gilles/Transfert/Copies-iMac-GB/2015-Data/Samples/Verbes3Rnd/MGC-1000Ko-49-T1000000-F39841-Tirage.pkl\n",
      "\n"
     ]
    }
   ],
   "source": [
    "for ancienNom in tiragesNom(serie):\n",
    "    m=re.match(ur\"^(.*-%s-)(\\d{2})-\\d{6}(.*)\"%serie,ancienNom)\n",
    "    if m:\n",
    "        df=lireTirage(ancienNom)\n",
    "        nbFormes=df[df[\"tir1\"]>0][\"tir1\"].count()\n",
    "        nbTokens=df[df[\"tir1\"]>0][\"tir1\"].sum()\n",
    "        nouveauNom=m.group(1)+\"%02d\"%(int(m.group(2))+decalageNumeros)+\"-T%d\"%nbTokens+\"-F%d\"%nbFormes+m.group(3)\n",
    "        print ancienNom\n",
    "        print nouveauNom\n",
    "        print\n",
    "        os.rename(ancienNom,nouveauNom)"
   ]
  },
  {
   "cell_type": "code",
   "execution_count": null,
   "metadata": {},
   "outputs": [],
   "source": []
  }
 ],
 "metadata": {
  "kernelspec": {
   "display_name": "Python 2",
   "language": "python",
   "name": "python2"
  },
  "language_info": {
   "codemirror_mode": {
    "name": "ipython",
    "version": 2
   },
   "file_extension": ".py",
   "mimetype": "text/x-python",
   "name": "python",
   "nbconvert_exporter": "python",
   "pygments_lexer": "ipython2",
   "version": "2.7.11"
  }
 },
 "nbformat": 4,
 "nbformat_minor": 1
}
