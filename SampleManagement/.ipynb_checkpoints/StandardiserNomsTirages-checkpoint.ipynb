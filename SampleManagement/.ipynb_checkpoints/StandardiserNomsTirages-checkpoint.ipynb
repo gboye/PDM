{
 "cells": [
  {
   "cell_type": "code",
   "execution_count": 7,
   "metadata": {},
   "outputs": [],
   "source": [
    "import glob,re,os"
   ]
  },
  {
   "cell_type": "code",
   "execution_count": 8,
   "metadata": {},
   "outputs": [],
   "source": [
    "#listeTirages=glob.glob(\"/Users/gilles/Box Sync/2015-Data/FlexionAdjectifs/Longitudinal*.pkl\")\n",
    "#listeTirages=glob.glob(\"/Volumes/gilles/Transfert/Copies-iMac-GB/2015-Data/Longitudinales/GroupeSepare/Longitudinal*.csv\")\n",
    "#listeTirages=glob.glob(\"/Volumes/gilles/Transfert/Copies-iMac-GB/2015-Data/Longitudinales/Longitudinal*.pkl\")\n",
    "listeTirages=glob.glob(\"/Volumes/gilles/Transfert/Copies-iMac-GB/2015-Data/LongitudinalesRnd/Longitudinal*.pkl\")"
   ]
  },
  {
   "cell_type": "code",
   "execution_count": 9,
   "metadata": {},
   "outputs": [],
   "source": [
    "def tiragesNom(nom):\n",
    "    result=[tirage for tirage in listeTirages if nom in tirage]\n",
    "    return result"
   ]
  },
  {
   "cell_type": "code",
   "execution_count": 11,
   "metadata": {},
   "outputs": [
    {
     "data": {
      "text/plain": [
       "['/Volumes/gilles/Transfert/Copies-iMac-GB/2015-Data/LongitudinalesRnd/Longitudinal-08-T9000000-F64573-X-180729-1052-Morphomes.pkl',\n",
       " '/Volumes/gilles/Transfert/Copies-iMac-GB/2015-Data/LongitudinalesRnd/Longitudinal-06-T7000000-F62499-X-180729-1049-Morphomes.pkl',\n",
       " '/Volumes/gilles/Transfert/Copies-iMac-GB/2015-Data/LongitudinalesRnd/Longitudinal-05-T6000000-F61192-X-180729-1057-Morphomes.pkl',\n",
       " '/Volumes/gilles/Transfert/Copies-iMac-GB/2015-Data/LongitudinalesRnd/Longitudinal-00-T1000000-F39953-X-180729-1050-Morphomes.pkl',\n",
       " '/Volumes/gilles/Transfert/Copies-iMac-GB/2015-Data/LongitudinalesRnd/Longitudinal-10-T20000000-F68769-X-180729-1047-Morphomes.pkl',\n",
       " '/Volumes/gilles/Transfert/Copies-iMac-GB/2015-Data/LongitudinalesRnd/Longitudinal-09-T10000000-F65267-X-180729-1052-Morphomes.pkl',\n",
       " '/Volumes/gilles/Transfert/Copies-iMac-GB/2015-Data/LongitudinalesRnd/Longitudinal-15-T70000000-F72063-X-180729-1053-Morphomes.pkl',\n",
       " '/Volumes/gilles/Transfert/Copies-iMac-GB/2015-Data/LongitudinalesRnd/Longitudinal-17-T90000000-F72440-X-180729-1048-Morphomes.pkl',\n",
       " '/Volumes/gilles/Transfert/Copies-iMac-GB/2015-Data/LongitudinalesRnd/Longitudinal-14-T60000000-F71789-X-180729-1058-Morphomes.pkl',\n",
       " '/Volumes/gilles/Transfert/Copies-iMac-GB/2015-Data/LongitudinalesRnd/Longitudinal-01-T2000000-F48752-X-180729-1051-Morphomes.pkl',\n",
       " '/Volumes/gilles/Transfert/Copies-iMac-GB/2015-Data/LongitudinalesRnd/Longitudinal-02-T3000000-F53667-X-180729-1101-Morphomes.pkl',\n",
       " '/Volumes/gilles/Transfert/Copies-iMac-GB/2015-Data/LongitudinalesRnd/Longitudinal-13-T50000000-F71424-X-180729-1054-Morphomes.pkl',\n",
       " '/Volumes/gilles/Transfert/Copies-iMac-GB/2015-Data/LongitudinalesRnd/Longitudinal-03-T4000000-F57028-X-180729-1102-Morphomes.pkl',\n",
       " '/Volumes/gilles/Transfert/Copies-iMac-GB/2015-Data/LongitudinalesRnd/Longitudinal-07-T8000000-F63596-X-180729-1102-Morphomes.pkl',\n",
       " '/Volumes/gilles/Transfert/Copies-iMac-GB/2015-Data/LongitudinalesRnd/Longitudinal-04-T5000000-F59387-X-180729-1056-Morphomes.pkl',\n",
       " '/Volumes/gilles/Transfert/Copies-iMac-GB/2015-Data/LongitudinalesRnd/Longitudinal-16-T80000000-F72274-X-180729-1059-Morphomes.pkl',\n",
       " '/Volumes/gilles/Transfert/Copies-iMac-GB/2015-Data/LongitudinalesRnd/Longitudinal-12-T40000000-F70879-X-180729-1100-Morphomes.pkl',\n",
       " '/Volumes/gilles/Transfert/Copies-iMac-GB/2015-Data/LongitudinalesRnd/Longitudinal-11-T30000000-F70132-X-180729-1049-Morphomes.pkl',\n",
       " '/Volumes/gilles/Transfert/Copies-iMac-GB/2015-Data/LongitudinalesRnd/Longitudinal-18-T100000000-F72584-X-180729-1055-Morphomes.pkl']"
      ]
     },
     "execution_count": 11,
     "metadata": {},
     "output_type": "execute_result"
    }
   ],
   "source": [
    "serie=u\"-X\"\n",
    "tiragesNom(serie)"
   ]
  },
  {
   "cell_type": "code",
   "execution_count": 13,
   "metadata": {},
   "outputs": [
    {
     "name": "stdout",
     "output_type": "stream",
     "text": [
      "/Volumes/gilles/Transfert/Copies-iMac-GB/2015-Data/LongitudinalesRnd/Longitudinal-08-T9000000-F64573-X-180729-1052-Morphomes.pkl\n",
      "/Volumes/gilles/Transfert/Copies-iMac-GB/2015-Data/LongitudinalesRnd/Longitudinal-08-T9000000-F64573-X-Morphomes.pkl\n",
      "\n",
      "/Volumes/gilles/Transfert/Copies-iMac-GB/2015-Data/LongitudinalesRnd/Longitudinal-06-T7000000-F62499-X-180729-1049-Morphomes.pkl\n",
      "/Volumes/gilles/Transfert/Copies-iMac-GB/2015-Data/LongitudinalesRnd/Longitudinal-06-T7000000-F62499-X-Morphomes.pkl\n",
      "\n",
      "/Volumes/gilles/Transfert/Copies-iMac-GB/2015-Data/LongitudinalesRnd/Longitudinal-05-T6000000-F61192-X-180729-1057-Morphomes.pkl\n",
      "/Volumes/gilles/Transfert/Copies-iMac-GB/2015-Data/LongitudinalesRnd/Longitudinal-05-T6000000-F61192-X-Morphomes.pkl\n",
      "\n",
      "/Volumes/gilles/Transfert/Copies-iMac-GB/2015-Data/LongitudinalesRnd/Longitudinal-00-T1000000-F39953-X-180729-1050-Morphomes.pkl\n",
      "/Volumes/gilles/Transfert/Copies-iMac-GB/2015-Data/LongitudinalesRnd/Longitudinal-00-T1000000-F39953-X-Morphomes.pkl\n",
      "\n",
      "/Volumes/gilles/Transfert/Copies-iMac-GB/2015-Data/LongitudinalesRnd/Longitudinal-10-T20000000-F68769-X-180729-1047-Morphomes.pkl\n",
      "/Volumes/gilles/Transfert/Copies-iMac-GB/2015-Data/LongitudinalesRnd/Longitudinal-10-T20000000-F68769-X-Morphomes.pkl\n",
      "\n",
      "/Volumes/gilles/Transfert/Copies-iMac-GB/2015-Data/LongitudinalesRnd/Longitudinal-09-T10000000-F65267-X-180729-1052-Morphomes.pkl\n",
      "/Volumes/gilles/Transfert/Copies-iMac-GB/2015-Data/LongitudinalesRnd/Longitudinal-09-T10000000-F65267-X-Morphomes.pkl\n",
      "\n",
      "/Volumes/gilles/Transfert/Copies-iMac-GB/2015-Data/LongitudinalesRnd/Longitudinal-15-T70000000-F72063-X-180729-1053-Morphomes.pkl\n",
      "/Volumes/gilles/Transfert/Copies-iMac-GB/2015-Data/LongitudinalesRnd/Longitudinal-15-T70000000-F72063-X-Morphomes.pkl\n",
      "\n",
      "/Volumes/gilles/Transfert/Copies-iMac-GB/2015-Data/LongitudinalesRnd/Longitudinal-17-T90000000-F72440-X-180729-1048-Morphomes.pkl\n",
      "/Volumes/gilles/Transfert/Copies-iMac-GB/2015-Data/LongitudinalesRnd/Longitudinal-17-T90000000-F72440-X-Morphomes.pkl\n",
      "\n",
      "/Volumes/gilles/Transfert/Copies-iMac-GB/2015-Data/LongitudinalesRnd/Longitudinal-14-T60000000-F71789-X-180729-1058-Morphomes.pkl\n",
      "/Volumes/gilles/Transfert/Copies-iMac-GB/2015-Data/LongitudinalesRnd/Longitudinal-14-T60000000-F71789-X-Morphomes.pkl\n",
      "\n",
      "/Volumes/gilles/Transfert/Copies-iMac-GB/2015-Data/LongitudinalesRnd/Longitudinal-01-T2000000-F48752-X-180729-1051-Morphomes.pkl\n",
      "/Volumes/gilles/Transfert/Copies-iMac-GB/2015-Data/LongitudinalesRnd/Longitudinal-01-T2000000-F48752-X-Morphomes.pkl\n",
      "\n",
      "/Volumes/gilles/Transfert/Copies-iMac-GB/2015-Data/LongitudinalesRnd/Longitudinal-02-T3000000-F53667-X-180729-1101-Morphomes.pkl\n",
      "/Volumes/gilles/Transfert/Copies-iMac-GB/2015-Data/LongitudinalesRnd/Longitudinal-02-T3000000-F53667-X-Morphomes.pkl\n",
      "\n",
      "/Volumes/gilles/Transfert/Copies-iMac-GB/2015-Data/LongitudinalesRnd/Longitudinal-13-T50000000-F71424-X-180729-1054-Morphomes.pkl\n",
      "/Volumes/gilles/Transfert/Copies-iMac-GB/2015-Data/LongitudinalesRnd/Longitudinal-13-T50000000-F71424-X-Morphomes.pkl\n",
      "\n",
      "/Volumes/gilles/Transfert/Copies-iMac-GB/2015-Data/LongitudinalesRnd/Longitudinal-03-T4000000-F57028-X-180729-1102-Morphomes.pkl\n",
      "/Volumes/gilles/Transfert/Copies-iMac-GB/2015-Data/LongitudinalesRnd/Longitudinal-03-T4000000-F57028-X-Morphomes.pkl\n",
      "\n",
      "/Volumes/gilles/Transfert/Copies-iMac-GB/2015-Data/LongitudinalesRnd/Longitudinal-07-T8000000-F63596-X-180729-1102-Morphomes.pkl\n",
      "/Volumes/gilles/Transfert/Copies-iMac-GB/2015-Data/LongitudinalesRnd/Longitudinal-07-T8000000-F63596-X-Morphomes.pkl\n",
      "\n",
      "/Volumes/gilles/Transfert/Copies-iMac-GB/2015-Data/LongitudinalesRnd/Longitudinal-04-T5000000-F59387-X-180729-1056-Morphomes.pkl\n",
      "/Volumes/gilles/Transfert/Copies-iMac-GB/2015-Data/LongitudinalesRnd/Longitudinal-04-T5000000-F59387-X-Morphomes.pkl\n",
      "\n",
      "/Volumes/gilles/Transfert/Copies-iMac-GB/2015-Data/LongitudinalesRnd/Longitudinal-16-T80000000-F72274-X-180729-1059-Morphomes.pkl\n",
      "/Volumes/gilles/Transfert/Copies-iMac-GB/2015-Data/LongitudinalesRnd/Longitudinal-16-T80000000-F72274-X-Morphomes.pkl\n",
      "\n",
      "/Volumes/gilles/Transfert/Copies-iMac-GB/2015-Data/LongitudinalesRnd/Longitudinal-12-T40000000-F70879-X-180729-1100-Morphomes.pkl\n",
      "/Volumes/gilles/Transfert/Copies-iMac-GB/2015-Data/LongitudinalesRnd/Longitudinal-12-T40000000-F70879-X-Morphomes.pkl\n",
      "\n",
      "/Volumes/gilles/Transfert/Copies-iMac-GB/2015-Data/LongitudinalesRnd/Longitudinal-11-T30000000-F70132-X-180729-1049-Morphomes.pkl\n",
      "/Volumes/gilles/Transfert/Copies-iMac-GB/2015-Data/LongitudinalesRnd/Longitudinal-11-T30000000-F70132-X-Morphomes.pkl\n",
      "\n",
      "/Volumes/gilles/Transfert/Copies-iMac-GB/2015-Data/LongitudinalesRnd/Longitudinal-18-T100000000-F72584-X-180729-1055-Morphomes.pkl\n",
      "/Volumes/gilles/Transfert/Copies-iMac-GB/2015-Data/LongitudinalesRnd/Longitudinal-18-T100000000-F72584-X-Morphomes.pkl\n",
      "\n"
     ]
    }
   ],
   "source": [
    "for ancienNom in tiragesNom(serie):\n",
    "#    m=re.match(ur\"^(.*)(-\\d{6})(-\\d{2})(-%s)(-.*)\"%serie,ancienNom)\n",
    "#    print ancienNom\n",
    "    m=re.match(ur\"^(.*)-\\d{6}-\\d{4}-\\d{6}-\\d{4,6}(-.*)\",ancienNom) # renommer Groupe/Separe\n",
    "    m=re.match(ur\"^(.*)-\\d{6}-\\d{4}(.*)\",ancienNom) # renommer Longitunidal*.pkl\n",
    "    if m:\n",
    "        nouveauNom=m.group(1)+m.group(2)\n",
    "        print ancienNom\n",
    "        print nouveauNom\n",
    "        print\n",
    "        os.rename(ancienNom,nouveauNom)"
   ]
  },
  {
   "cell_type": "raw",
   "metadata": {},
   "source": [
    "for ancienNom in tiragesNom(serie):\n",
    "    m=re.match(ur\"^(.*Longitudinal-\\d{2}-T\\d+-F\\d+)-\\d{6}-\\d{4}(.pkl)\",ancienNom)\n",
    "    if m:\n",
    "        nouveauNom=m.group(1)+\"-MSP\"+m.group(2)\n",
    "        print ancienNom\n",
    "        print nouveauNom\n",
    "        print\n",
    "        os.rename(ancienNom,nouveauNom)"
   ]
  },
  {
   "cell_type": "code",
   "execution_count": null,
   "metadata": {
    "collapsed": true
   },
   "outputs": [],
   "source": []
  }
 ],
 "metadata": {
  "kernelspec": {
   "display_name": "Python 2",
   "language": "python",
   "name": "python2"
  },
  "language_info": {
   "codemirror_mode": {
    "name": "ipython",
    "version": 2
   },
   "file_extension": ".py",
   "mimetype": "text/x-python",
   "name": "python",
   "nbconvert_exporter": "python",
   "pygments_lexer": "ipython2",
   "version": "2.7.11"
  }
 },
 "nbformat": 4,
 "nbformat_minor": 1
}
