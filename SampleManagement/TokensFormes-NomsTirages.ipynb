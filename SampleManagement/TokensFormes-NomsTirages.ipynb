{
 "cells": [
  {
   "cell_type": "markdown",
   "metadata": {},
   "source": [
    "# Insérer le nombre de Tokens et de Formes dans le nom des fichiers Tirage"
   ]
  },
  {
   "cell_type": "code",
   "execution_count": 1,
   "metadata": {
    "collapsed": true
   },
   "outputs": [],
   "source": [
    "import glob,re,os,pickle"
   ]
  },
  {
   "cell_type": "code",
   "execution_count": 2,
   "metadata": {
    "collapsed": true
   },
   "outputs": [],
   "source": [
    "listeTirages=glob.glob(\"/Volumes/gilles/Transfert/Copies-iMac-GB/2015-Data/Samples/Verbes3/180107/*-Tirage.pkl\")"
   ]
  },
  {
   "cell_type": "code",
   "execution_count": 3,
   "metadata": {
    "collapsed": true
   },
   "outputs": [],
   "source": [
    "def tiragesNom(nom):\n",
    "    result=[tirage for tirage in listeTirages if nom in tirage]\n",
    "    return sorted(result)"
   ]
  },
  {
   "cell_type": "code",
   "execution_count": 4,
   "metadata": {},
   "outputs": [
    {
     "data": {
      "text/plain": [
       "['/Volumes/gilles/Transfert/Copies-iMac-GB/2015-Data/Samples/Verbes3/180107/MGC-10000Ko-00-180107-Tirage.pkl',\n",
       " '/Volumes/gilles/Transfert/Copies-iMac-GB/2015-Data/Samples/Verbes3/180107/MGC-10000Ko-01-180107-Tirage.pkl',\n",
       " '/Volumes/gilles/Transfert/Copies-iMac-GB/2015-Data/Samples/Verbes3/180107/MGC-10000Ko-02-180107-Tirage.pkl',\n",
       " '/Volumes/gilles/Transfert/Copies-iMac-GB/2015-Data/Samples/Verbes3/180107/MGC-10000Ko-03-180107-Tirage.pkl',\n",
       " '/Volumes/gilles/Transfert/Copies-iMac-GB/2015-Data/Samples/Verbes3/180107/MGC-10000Ko-04-180107-Tirage.pkl',\n",
       " '/Volumes/gilles/Transfert/Copies-iMac-GB/2015-Data/Samples/Verbes3/180107/MGC-10000Ko-05-180107-Tirage.pkl',\n",
       " '/Volumes/gilles/Transfert/Copies-iMac-GB/2015-Data/Samples/Verbes3/180107/MGC-10000Ko-06-180107-Tirage.pkl',\n",
       " '/Volumes/gilles/Transfert/Copies-iMac-GB/2015-Data/Samples/Verbes3/180107/MGC-10000Ko-07-180107-Tirage.pkl',\n",
       " '/Volumes/gilles/Transfert/Copies-iMac-GB/2015-Data/Samples/Verbes3/180107/MGC-10000Ko-08-180107-Tirage.pkl',\n",
       " '/Volumes/gilles/Transfert/Copies-iMac-GB/2015-Data/Samples/Verbes3/180107/MGC-10000Ko-09-180107-Tirage.pkl',\n",
       " '/Volumes/gilles/Transfert/Copies-iMac-GB/2015-Data/Samples/Verbes3/180107/MGC-10000Ko-10-180107-Tirage.pkl',\n",
       " '/Volumes/gilles/Transfert/Copies-iMac-GB/2015-Data/Samples/Verbes3/180107/MGC-10000Ko-11-180107-Tirage.pkl',\n",
       " '/Volumes/gilles/Transfert/Copies-iMac-GB/2015-Data/Samples/Verbes3/180107/MGC-10000Ko-12-180107-Tirage.pkl',\n",
       " '/Volumes/gilles/Transfert/Copies-iMac-GB/2015-Data/Samples/Verbes3/180107/MGC-10000Ko-13-180107-Tirage.pkl',\n",
       " '/Volumes/gilles/Transfert/Copies-iMac-GB/2015-Data/Samples/Verbes3/180107/MGC-10000Ko-14-180107-Tirage.pkl',\n",
       " '/Volumes/gilles/Transfert/Copies-iMac-GB/2015-Data/Samples/Verbes3/180107/MGC-10000Ko-15-180107-Tirage.pkl',\n",
       " '/Volumes/gilles/Transfert/Copies-iMac-GB/2015-Data/Samples/Verbes3/180107/MGC-10000Ko-16-180107-Tirage.pkl',\n",
       " '/Volumes/gilles/Transfert/Copies-iMac-GB/2015-Data/Samples/Verbes3/180107/MGC-10000Ko-17-180107-Tirage.pkl',\n",
       " '/Volumes/gilles/Transfert/Copies-iMac-GB/2015-Data/Samples/Verbes3/180107/MGC-10000Ko-18-180107-Tirage.pkl',\n",
       " '/Volumes/gilles/Transfert/Copies-iMac-GB/2015-Data/Samples/Verbes3/180107/MGC-10000Ko-19-180107-Tirage.pkl',\n",
       " '/Volumes/gilles/Transfert/Copies-iMac-GB/2015-Data/Samples/Verbes3/180107/MGC-10000Ko-20-180107-Tirage.pkl',\n",
       " '/Volumes/gilles/Transfert/Copies-iMac-GB/2015-Data/Samples/Verbes3/180107/MGC-10000Ko-21-180107-Tirage.pkl',\n",
       " '/Volumes/gilles/Transfert/Copies-iMac-GB/2015-Data/Samples/Verbes3/180107/MGC-10000Ko-22-180107-Tirage.pkl',\n",
       " '/Volumes/gilles/Transfert/Copies-iMac-GB/2015-Data/Samples/Verbes3/180107/MGC-10000Ko-23-180107-Tirage.pkl',\n",
       " '/Volumes/gilles/Transfert/Copies-iMac-GB/2015-Data/Samples/Verbes3/180107/MGC-10000Ko-24-180107-Tirage.pkl',\n",
       " '/Volumes/gilles/Transfert/Copies-iMac-GB/2015-Data/Samples/Verbes3/180107/MGC-10000Ko-25-180107-Tirage.pkl',\n",
       " '/Volumes/gilles/Transfert/Copies-iMac-GB/2015-Data/Samples/Verbes3/180107/MGC-10000Ko-26-180107-Tirage.pkl',\n",
       " '/Volumes/gilles/Transfert/Copies-iMac-GB/2015-Data/Samples/Verbes3/180107/MGC-10000Ko-27-180107-Tirage.pkl',\n",
       " '/Volumes/gilles/Transfert/Copies-iMac-GB/2015-Data/Samples/Verbes3/180107/MGC-10000Ko-28-180107-Tirage.pkl',\n",
       " '/Volumes/gilles/Transfert/Copies-iMac-GB/2015-Data/Samples/Verbes3/180107/MGC-10000Ko-29-180107-Tirage.pkl',\n",
       " '/Volumes/gilles/Transfert/Copies-iMac-GB/2015-Data/Samples/Verbes3/180107/MGC-10000Ko-30-180107-Tirage.pkl',\n",
       " '/Volumes/gilles/Transfert/Copies-iMac-GB/2015-Data/Samples/Verbes3/180107/MGC-10000Ko-31-180107-Tirage.pkl',\n",
       " '/Volumes/gilles/Transfert/Copies-iMac-GB/2015-Data/Samples/Verbes3/180107/MGC-10000Ko-32-180107-Tirage.pkl',\n",
       " '/Volumes/gilles/Transfert/Copies-iMac-GB/2015-Data/Samples/Verbes3/180107/MGC-10000Ko-33-180107-Tirage.pkl',\n",
       " '/Volumes/gilles/Transfert/Copies-iMac-GB/2015-Data/Samples/Verbes3/180107/MGC-10000Ko-34-180107-Tirage.pkl',\n",
       " '/Volumes/gilles/Transfert/Copies-iMac-GB/2015-Data/Samples/Verbes3/180107/MGC-10000Ko-35-180107-Tirage.pkl',\n",
       " '/Volumes/gilles/Transfert/Copies-iMac-GB/2015-Data/Samples/Verbes3/180107/MGC-10000Ko-36-180107-Tirage.pkl',\n",
       " '/Volumes/gilles/Transfert/Copies-iMac-GB/2015-Data/Samples/Verbes3/180107/MGC-10000Ko-37-180107-Tirage.pkl',\n",
       " '/Volumes/gilles/Transfert/Copies-iMac-GB/2015-Data/Samples/Verbes3/180107/MGC-10000Ko-38-180107-Tirage.pkl',\n",
       " '/Volumes/gilles/Transfert/Copies-iMac-GB/2015-Data/Samples/Verbes3/180107/MGC-10000Ko-39-180107-Tirage.pkl',\n",
       " '/Volumes/gilles/Transfert/Copies-iMac-GB/2015-Data/Samples/Verbes3/180107/MGC-10000Ko-40-180107-Tirage.pkl',\n",
       " '/Volumes/gilles/Transfert/Copies-iMac-GB/2015-Data/Samples/Verbes3/180107/MGC-10000Ko-41-180107-Tirage.pkl',\n",
       " '/Volumes/gilles/Transfert/Copies-iMac-GB/2015-Data/Samples/Verbes3/180107/MGC-10000Ko-42-180107-Tirage.pkl',\n",
       " '/Volumes/gilles/Transfert/Copies-iMac-GB/2015-Data/Samples/Verbes3/180107/MGC-10000Ko-43-180107-Tirage.pkl',\n",
       " '/Volumes/gilles/Transfert/Copies-iMac-GB/2015-Data/Samples/Verbes3/180107/MGC-10000Ko-44-180107-Tirage.pkl',\n",
       " '/Volumes/gilles/Transfert/Copies-iMac-GB/2015-Data/Samples/Verbes3/180107/MGC-10000Ko-45-180107-Tirage.pkl',\n",
       " '/Volumes/gilles/Transfert/Copies-iMac-GB/2015-Data/Samples/Verbes3/180107/MGC-10000Ko-46-180107-Tirage.pkl',\n",
       " '/Volumes/gilles/Transfert/Copies-iMac-GB/2015-Data/Samples/Verbes3/180107/MGC-10000Ko-47-180107-Tirage.pkl',\n",
       " '/Volumes/gilles/Transfert/Copies-iMac-GB/2015-Data/Samples/Verbes3/180107/MGC-10000Ko-48-180107-Tirage.pkl',\n",
       " '/Volumes/gilles/Transfert/Copies-iMac-GB/2015-Data/Samples/Verbes3/180107/MGC-10000Ko-49-180107-Tirage.pkl']"
      ]
     },
     "execution_count": 4,
     "metadata": {},
     "output_type": "execute_result"
    }
   ],
   "source": [
    "serie=u\"10000Ko\"\n",
    "decalageNumeros=0\n",
    "tiragesNom(serie)"
   ]
  },
  {
   "cell_type": "code",
   "execution_count": 5,
   "metadata": {
    "collapsed": true
   },
   "outputs": [],
   "source": [
    "def lireTirage(nom):\n",
    "    with open(ancienNom,\"rb\") as input:\n",
    "        df=pickle.load(input)\n",
    "    return df"
   ]
  },
  {
   "cell_type": "code",
   "execution_count": 6,
   "metadata": {},
   "outputs": [
    {
     "name": "stdout",
     "output_type": "stream",
     "text": [
      "/Volumes/gilles/Transfert/Copies-iMac-GB/2015-Data/Samples/Verbes3/180107/MGC-10000Ko-00-180107-Tirage.pkl\n",
      "/Volumes/gilles/Transfert/Copies-iMac-GB/2015-Data/Samples/Verbes3/180107/MGC-10000Ko-00-T10000000-F65302-Tirage.pkl\n",
      "\n",
      "/Volumes/gilles/Transfert/Copies-iMac-GB/2015-Data/Samples/Verbes3/180107/MGC-10000Ko-01-180107-Tirage.pkl\n",
      "/Volumes/gilles/Transfert/Copies-iMac-GB/2015-Data/Samples/Verbes3/180107/MGC-10000Ko-01-T10000000-F65130-Tirage.pkl\n",
      "\n",
      "/Volumes/gilles/Transfert/Copies-iMac-GB/2015-Data/Samples/Verbes3/180107/MGC-10000Ko-02-180107-Tirage.pkl\n",
      "/Volumes/gilles/Transfert/Copies-iMac-GB/2015-Data/Samples/Verbes3/180107/MGC-10000Ko-02-T10000000-F65272-Tirage.pkl\n",
      "\n",
      "/Volumes/gilles/Transfert/Copies-iMac-GB/2015-Data/Samples/Verbes3/180107/MGC-10000Ko-03-180107-Tirage.pkl\n",
      "/Volumes/gilles/Transfert/Copies-iMac-GB/2015-Data/Samples/Verbes3/180107/MGC-10000Ko-03-T10000000-F65154-Tirage.pkl\n",
      "\n",
      "/Volumes/gilles/Transfert/Copies-iMac-GB/2015-Data/Samples/Verbes3/180107/MGC-10000Ko-04-180107-Tirage.pkl\n",
      "/Volumes/gilles/Transfert/Copies-iMac-GB/2015-Data/Samples/Verbes3/180107/MGC-10000Ko-04-T10000000-F65104-Tirage.pkl\n",
      "\n",
      "/Volumes/gilles/Transfert/Copies-iMac-GB/2015-Data/Samples/Verbes3/180107/MGC-10000Ko-05-180107-Tirage.pkl\n",
      "/Volumes/gilles/Transfert/Copies-iMac-GB/2015-Data/Samples/Verbes3/180107/MGC-10000Ko-05-T10000000-F65135-Tirage.pkl\n",
      "\n",
      "/Volumes/gilles/Transfert/Copies-iMac-GB/2015-Data/Samples/Verbes3/180107/MGC-10000Ko-06-180107-Tirage.pkl\n",
      "/Volumes/gilles/Transfert/Copies-iMac-GB/2015-Data/Samples/Verbes3/180107/MGC-10000Ko-06-T10000000-F65107-Tirage.pkl\n",
      "\n",
      "/Volumes/gilles/Transfert/Copies-iMac-GB/2015-Data/Samples/Verbes3/180107/MGC-10000Ko-07-180107-Tirage.pkl\n",
      "/Volumes/gilles/Transfert/Copies-iMac-GB/2015-Data/Samples/Verbes3/180107/MGC-10000Ko-07-T10000000-F65121-Tirage.pkl\n",
      "\n",
      "/Volumes/gilles/Transfert/Copies-iMac-GB/2015-Data/Samples/Verbes3/180107/MGC-10000Ko-08-180107-Tirage.pkl\n",
      "/Volumes/gilles/Transfert/Copies-iMac-GB/2015-Data/Samples/Verbes3/180107/MGC-10000Ko-08-T10000000-F65147-Tirage.pkl\n",
      "\n",
      "/Volumes/gilles/Transfert/Copies-iMac-GB/2015-Data/Samples/Verbes3/180107/MGC-10000Ko-09-180107-Tirage.pkl\n",
      "/Volumes/gilles/Transfert/Copies-iMac-GB/2015-Data/Samples/Verbes3/180107/MGC-10000Ko-09-T10000000-F65167-Tirage.pkl\n",
      "\n",
      "/Volumes/gilles/Transfert/Copies-iMac-GB/2015-Data/Samples/Verbes3/180107/MGC-10000Ko-10-180107-Tirage.pkl\n",
      "/Volumes/gilles/Transfert/Copies-iMac-GB/2015-Data/Samples/Verbes3/180107/MGC-10000Ko-10-T10000000-F65113-Tirage.pkl\n",
      "\n",
      "/Volumes/gilles/Transfert/Copies-iMac-GB/2015-Data/Samples/Verbes3/180107/MGC-10000Ko-11-180107-Tirage.pkl\n",
      "/Volumes/gilles/Transfert/Copies-iMac-GB/2015-Data/Samples/Verbes3/180107/MGC-10000Ko-11-T10000000-F65186-Tirage.pkl\n",
      "\n",
      "/Volumes/gilles/Transfert/Copies-iMac-GB/2015-Data/Samples/Verbes3/180107/MGC-10000Ko-12-180107-Tirage.pkl\n",
      "/Volumes/gilles/Transfert/Copies-iMac-GB/2015-Data/Samples/Verbes3/180107/MGC-10000Ko-12-T10000000-F65223-Tirage.pkl\n",
      "\n",
      "/Volumes/gilles/Transfert/Copies-iMac-GB/2015-Data/Samples/Verbes3/180107/MGC-10000Ko-13-180107-Tirage.pkl\n",
      "/Volumes/gilles/Transfert/Copies-iMac-GB/2015-Data/Samples/Verbes3/180107/MGC-10000Ko-13-T10000000-F65227-Tirage.pkl\n",
      "\n",
      "/Volumes/gilles/Transfert/Copies-iMac-GB/2015-Data/Samples/Verbes3/180107/MGC-10000Ko-14-180107-Tirage.pkl\n",
      "/Volumes/gilles/Transfert/Copies-iMac-GB/2015-Data/Samples/Verbes3/180107/MGC-10000Ko-14-T10000000-F65187-Tirage.pkl\n",
      "\n",
      "/Volumes/gilles/Transfert/Copies-iMac-GB/2015-Data/Samples/Verbes3/180107/MGC-10000Ko-15-180107-Tirage.pkl\n",
      "/Volumes/gilles/Transfert/Copies-iMac-GB/2015-Data/Samples/Verbes3/180107/MGC-10000Ko-15-T10000000-F65176-Tirage.pkl\n",
      "\n",
      "/Volumes/gilles/Transfert/Copies-iMac-GB/2015-Data/Samples/Verbes3/180107/MGC-10000Ko-16-180107-Tirage.pkl\n",
      "/Volumes/gilles/Transfert/Copies-iMac-GB/2015-Data/Samples/Verbes3/180107/MGC-10000Ko-16-T10000000-F65129-Tirage.pkl\n",
      "\n",
      "/Volumes/gilles/Transfert/Copies-iMac-GB/2015-Data/Samples/Verbes3/180107/MGC-10000Ko-17-180107-Tirage.pkl\n",
      "/Volumes/gilles/Transfert/Copies-iMac-GB/2015-Data/Samples/Verbes3/180107/MGC-10000Ko-17-T10000000-F65176-Tirage.pkl\n",
      "\n",
      "/Volumes/gilles/Transfert/Copies-iMac-GB/2015-Data/Samples/Verbes3/180107/MGC-10000Ko-18-180107-Tirage.pkl\n",
      "/Volumes/gilles/Transfert/Copies-iMac-GB/2015-Data/Samples/Verbes3/180107/MGC-10000Ko-18-T10000000-F65173-Tirage.pkl\n",
      "\n",
      "/Volumes/gilles/Transfert/Copies-iMac-GB/2015-Data/Samples/Verbes3/180107/MGC-10000Ko-19-180107-Tirage.pkl\n",
      "/Volumes/gilles/Transfert/Copies-iMac-GB/2015-Data/Samples/Verbes3/180107/MGC-10000Ko-19-T10000000-F65106-Tirage.pkl\n",
      "\n",
      "/Volumes/gilles/Transfert/Copies-iMac-GB/2015-Data/Samples/Verbes3/180107/MGC-10000Ko-20-180107-Tirage.pkl\n",
      "/Volumes/gilles/Transfert/Copies-iMac-GB/2015-Data/Samples/Verbes3/180107/MGC-10000Ko-20-T10000000-F65164-Tirage.pkl\n",
      "\n",
      "/Volumes/gilles/Transfert/Copies-iMac-GB/2015-Data/Samples/Verbes3/180107/MGC-10000Ko-21-180107-Tirage.pkl\n",
      "/Volumes/gilles/Transfert/Copies-iMac-GB/2015-Data/Samples/Verbes3/180107/MGC-10000Ko-21-T10000000-F65137-Tirage.pkl\n",
      "\n",
      "/Volumes/gilles/Transfert/Copies-iMac-GB/2015-Data/Samples/Verbes3/180107/MGC-10000Ko-22-180107-Tirage.pkl\n",
      "/Volumes/gilles/Transfert/Copies-iMac-GB/2015-Data/Samples/Verbes3/180107/MGC-10000Ko-22-T10000000-F65159-Tirage.pkl\n",
      "\n",
      "/Volumes/gilles/Transfert/Copies-iMac-GB/2015-Data/Samples/Verbes3/180107/MGC-10000Ko-23-180107-Tirage.pkl\n",
      "/Volumes/gilles/Transfert/Copies-iMac-GB/2015-Data/Samples/Verbes3/180107/MGC-10000Ko-23-T10000000-F65153-Tirage.pkl\n",
      "\n",
      "/Volumes/gilles/Transfert/Copies-iMac-GB/2015-Data/Samples/Verbes3/180107/MGC-10000Ko-24-180107-Tirage.pkl\n",
      "/Volumes/gilles/Transfert/Copies-iMac-GB/2015-Data/Samples/Verbes3/180107/MGC-10000Ko-24-T10000000-F65154-Tirage.pkl\n",
      "\n",
      "/Volumes/gilles/Transfert/Copies-iMac-GB/2015-Data/Samples/Verbes3/180107/MGC-10000Ko-25-180107-Tirage.pkl\n",
      "/Volumes/gilles/Transfert/Copies-iMac-GB/2015-Data/Samples/Verbes3/180107/MGC-10000Ko-25-T10000000-F65226-Tirage.pkl\n",
      "\n",
      "/Volumes/gilles/Transfert/Copies-iMac-GB/2015-Data/Samples/Verbes3/180107/MGC-10000Ko-26-180107-Tirage.pkl\n",
      "/Volumes/gilles/Transfert/Copies-iMac-GB/2015-Data/Samples/Verbes3/180107/MGC-10000Ko-26-T10000000-F65029-Tirage.pkl\n",
      "\n",
      "/Volumes/gilles/Transfert/Copies-iMac-GB/2015-Data/Samples/Verbes3/180107/MGC-10000Ko-27-180107-Tirage.pkl\n",
      "/Volumes/gilles/Transfert/Copies-iMac-GB/2015-Data/Samples/Verbes3/180107/MGC-10000Ko-27-T10000000-F65255-Tirage.pkl\n",
      "\n",
      "/Volumes/gilles/Transfert/Copies-iMac-GB/2015-Data/Samples/Verbes3/180107/MGC-10000Ko-28-180107-Tirage.pkl\n",
      "/Volumes/gilles/Transfert/Copies-iMac-GB/2015-Data/Samples/Verbes3/180107/MGC-10000Ko-28-T10000000-F65117-Tirage.pkl\n",
      "\n",
      "/Volumes/gilles/Transfert/Copies-iMac-GB/2015-Data/Samples/Verbes3/180107/MGC-10000Ko-29-180107-Tirage.pkl\n",
      "/Volumes/gilles/Transfert/Copies-iMac-GB/2015-Data/Samples/Verbes3/180107/MGC-10000Ko-29-T10000000-F65154-Tirage.pkl\n",
      "\n",
      "/Volumes/gilles/Transfert/Copies-iMac-GB/2015-Data/Samples/Verbes3/180107/MGC-10000Ko-30-180107-Tirage.pkl\n",
      "/Volumes/gilles/Transfert/Copies-iMac-GB/2015-Data/Samples/Verbes3/180107/MGC-10000Ko-30-T10000000-F65246-Tirage.pkl\n",
      "\n",
      "/Volumes/gilles/Transfert/Copies-iMac-GB/2015-Data/Samples/Verbes3/180107/MGC-10000Ko-31-180107-Tirage.pkl\n",
      "/Volumes/gilles/Transfert/Copies-iMac-GB/2015-Data/Samples/Verbes3/180107/MGC-10000Ko-31-T10000000-F65124-Tirage.pkl\n",
      "\n",
      "/Volumes/gilles/Transfert/Copies-iMac-GB/2015-Data/Samples/Verbes3/180107/MGC-10000Ko-32-180107-Tirage.pkl\n",
      "/Volumes/gilles/Transfert/Copies-iMac-GB/2015-Data/Samples/Verbes3/180107/MGC-10000Ko-32-T10000000-F65165-Tirage.pkl\n",
      "\n",
      "/Volumes/gilles/Transfert/Copies-iMac-GB/2015-Data/Samples/Verbes3/180107/MGC-10000Ko-33-180107-Tirage.pkl\n",
      "/Volumes/gilles/Transfert/Copies-iMac-GB/2015-Data/Samples/Verbes3/180107/MGC-10000Ko-33-T10000000-F65117-Tirage.pkl\n",
      "\n",
      "/Volumes/gilles/Transfert/Copies-iMac-GB/2015-Data/Samples/Verbes3/180107/MGC-10000Ko-34-180107-Tirage.pkl\n",
      "/Volumes/gilles/Transfert/Copies-iMac-GB/2015-Data/Samples/Verbes3/180107/MGC-10000Ko-34-T10000000-F65188-Tirage.pkl\n",
      "\n",
      "/Volumes/gilles/Transfert/Copies-iMac-GB/2015-Data/Samples/Verbes3/180107/MGC-10000Ko-35-180107-Tirage.pkl\n",
      "/Volumes/gilles/Transfert/Copies-iMac-GB/2015-Data/Samples/Verbes3/180107/MGC-10000Ko-35-T10000000-F65114-Tirage.pkl\n",
      "\n",
      "/Volumes/gilles/Transfert/Copies-iMac-GB/2015-Data/Samples/Verbes3/180107/MGC-10000Ko-36-180107-Tirage.pkl\n",
      "/Volumes/gilles/Transfert/Copies-iMac-GB/2015-Data/Samples/Verbes3/180107/MGC-10000Ko-36-T10000000-F65064-Tirage.pkl\n",
      "\n"
     ]
    },
    {
     "name": "stdout",
     "output_type": "stream",
     "text": [
      "/Volumes/gilles/Transfert/Copies-iMac-GB/2015-Data/Samples/Verbes3/180107/MGC-10000Ko-37-180107-Tirage.pkl\n",
      "/Volumes/gilles/Transfert/Copies-iMac-GB/2015-Data/Samples/Verbes3/180107/MGC-10000Ko-37-T10000000-F65192-Tirage.pkl\n",
      "\n",
      "/Volumes/gilles/Transfert/Copies-iMac-GB/2015-Data/Samples/Verbes3/180107/MGC-10000Ko-38-180107-Tirage.pkl\n",
      "/Volumes/gilles/Transfert/Copies-iMac-GB/2015-Data/Samples/Verbes3/180107/MGC-10000Ko-38-T10000000-F65196-Tirage.pkl\n",
      "\n",
      "/Volumes/gilles/Transfert/Copies-iMac-GB/2015-Data/Samples/Verbes3/180107/MGC-10000Ko-39-180107-Tirage.pkl\n",
      "/Volumes/gilles/Transfert/Copies-iMac-GB/2015-Data/Samples/Verbes3/180107/MGC-10000Ko-39-T10000000-F65209-Tirage.pkl\n",
      "\n",
      "/Volumes/gilles/Transfert/Copies-iMac-GB/2015-Data/Samples/Verbes3/180107/MGC-10000Ko-40-180107-Tirage.pkl\n",
      "/Volumes/gilles/Transfert/Copies-iMac-GB/2015-Data/Samples/Verbes3/180107/MGC-10000Ko-40-T10000000-F65229-Tirage.pkl\n",
      "\n",
      "/Volumes/gilles/Transfert/Copies-iMac-GB/2015-Data/Samples/Verbes3/180107/MGC-10000Ko-41-180107-Tirage.pkl\n",
      "/Volumes/gilles/Transfert/Copies-iMac-GB/2015-Data/Samples/Verbes3/180107/MGC-10000Ko-41-T10000000-F65208-Tirage.pkl\n",
      "\n",
      "/Volumes/gilles/Transfert/Copies-iMac-GB/2015-Data/Samples/Verbes3/180107/MGC-10000Ko-42-180107-Tirage.pkl\n",
      "/Volumes/gilles/Transfert/Copies-iMac-GB/2015-Data/Samples/Verbes3/180107/MGC-10000Ko-42-T10000000-F65216-Tirage.pkl\n",
      "\n",
      "/Volumes/gilles/Transfert/Copies-iMac-GB/2015-Data/Samples/Verbes3/180107/MGC-10000Ko-43-180107-Tirage.pkl\n",
      "/Volumes/gilles/Transfert/Copies-iMac-GB/2015-Data/Samples/Verbes3/180107/MGC-10000Ko-43-T10000000-F65092-Tirage.pkl\n",
      "\n",
      "/Volumes/gilles/Transfert/Copies-iMac-GB/2015-Data/Samples/Verbes3/180107/MGC-10000Ko-44-180107-Tirage.pkl\n",
      "/Volumes/gilles/Transfert/Copies-iMac-GB/2015-Data/Samples/Verbes3/180107/MGC-10000Ko-44-T10000000-F65193-Tirage.pkl\n",
      "\n",
      "/Volumes/gilles/Transfert/Copies-iMac-GB/2015-Data/Samples/Verbes3/180107/MGC-10000Ko-45-180107-Tirage.pkl\n",
      "/Volumes/gilles/Transfert/Copies-iMac-GB/2015-Data/Samples/Verbes3/180107/MGC-10000Ko-45-T10000000-F65113-Tirage.pkl\n",
      "\n",
      "/Volumes/gilles/Transfert/Copies-iMac-GB/2015-Data/Samples/Verbes3/180107/MGC-10000Ko-46-180107-Tirage.pkl\n",
      "/Volumes/gilles/Transfert/Copies-iMac-GB/2015-Data/Samples/Verbes3/180107/MGC-10000Ko-46-T10000000-F65175-Tirage.pkl\n",
      "\n",
      "/Volumes/gilles/Transfert/Copies-iMac-GB/2015-Data/Samples/Verbes3/180107/MGC-10000Ko-47-180107-Tirage.pkl\n",
      "/Volumes/gilles/Transfert/Copies-iMac-GB/2015-Data/Samples/Verbes3/180107/MGC-10000Ko-47-T10000000-F65201-Tirage.pkl\n",
      "\n",
      "/Volumes/gilles/Transfert/Copies-iMac-GB/2015-Data/Samples/Verbes3/180107/MGC-10000Ko-48-180107-Tirage.pkl\n",
      "/Volumes/gilles/Transfert/Copies-iMac-GB/2015-Data/Samples/Verbes3/180107/MGC-10000Ko-48-T10000000-F65135-Tirage.pkl\n",
      "\n",
      "/Volumes/gilles/Transfert/Copies-iMac-GB/2015-Data/Samples/Verbes3/180107/MGC-10000Ko-49-180107-Tirage.pkl\n",
      "/Volumes/gilles/Transfert/Copies-iMac-GB/2015-Data/Samples/Verbes3/180107/MGC-10000Ko-49-T10000000-F65068-Tirage.pkl\n",
      "\n"
     ]
    }
   ],
   "source": [
    "for ancienNom in tiragesNom(serie):\n",
    "    m=re.match(ur\"^(.*-%s-)(\\d{2})-\\d{6}(.*)\"%serie,ancienNom)\n",
    "    if m:\n",
    "        df=lireTirage(ancienNom)\n",
    "        nbFormes=df[df[\"tir1\"]>0][\"tir1\"].count()\n",
    "        nbTokens=df[df[\"tir1\"]>0][\"tir1\"].sum()\n",
    "        nouveauNom=m.group(1)+\"%02d\"%(int(m.group(2))+decalageNumeros)+\"-T%d\"%nbTokens+\"-F%d\"%nbFormes+m.group(3)\n",
    "        print ancienNom\n",
    "        print nouveauNom\n",
    "        print\n",
    "        os.rename(ancienNom,nouveauNom)"
   ]
  },
  {
   "cell_type": "code",
   "execution_count": null,
   "metadata": {
    "collapsed": true
   },
   "outputs": [],
   "source": []
  }
 ],
 "metadata": {
  "kernelspec": {
   "display_name": "Python 2",
   "language": "python",
   "name": "python2"
  },
  "language_info": {
   "codemirror_mode": {
    "name": "ipython",
    "version": 2
   },
   "file_extension": ".py",
   "mimetype": "text/x-python",
   "name": "python",
   "nbconvert_exporter": "python",
   "pygments_lexer": "ipython2",
   "version": "2.7.11"
  }
 },
 "nbformat": 4,
 "nbformat_minor": 1
}
