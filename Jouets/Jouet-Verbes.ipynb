{
 "cells": [
  {
   "cell_type": "code",
   "execution_count": 21,
   "metadata": {},
   "outputs": [],
   "source": [
    "import re,glob,datetime\n",
    "\n",
    "import pandas as pd\n",
    "import networkx as nx\n",
    "import itertools as it\n",
    "\n",
    "def dateheure(f=\"%y/%m/%d %H:%M\"):\n",
    "    return datetime.datetime.utcnow().strftime(f) # %y%m%d%H%M\n"
   ]
  },
  {
   "cell_type": "code",
   "execution_count": 23,
   "metadata": {},
   "outputs": [
    {
     "data": {
      "text/plain": [
       "u'/Users/gilles/ownCloud/Recherche/Boye/HDR/Data/Jouets/Jouet-200911-0205.csv'"
      ]
     },
     "execution_count": 23,
     "metadata": {},
     "output_type": "execute_result"
    }
   ],
   "source": [
    "repSamples=u\"/Users/gilles/pCloud Drive/FOD/GB/2015-Data/Samples/Verbes3/\"\n",
    "fileSample=u\"MGC-10Ko-02-T10000-F3700-Tirage.pkl\"\n",
    "dfSample=pd.read_pickle(repSamples+fileSample)\n",
    "repJouets=u\"/Users/gilles/ownCloud/Recherche/Boye/HDR/Data/Jouets/\"\n",
    "fileJouet=repJouets+\"Jouet-%s.csv\"%dateheure(\"%y%m%d-%H%M\")\n",
    "fileJouet"
   ]
  },
  {
   "cell_type": "markdown",
   "metadata": {},
   "source": [
    "# Extraction d'un sous-échantillon\n",
    "- choisir les *nbFormes* les plus fréquentes (indépendamment du tirage)\n",
    "- former les paradigmes\n",
    "- regrouper les colonnes en morphomes\n",
    "- choisir les *nbMorphomes* les plus fréquents\n",
    "- extraire les paradigmes des lexèmes qui ont au moins une des cases morphomiques remplie\n",
    "- extraire les paradigmes des lexèmes qui ont au moins une paire de cases morphomiques remplies\n",
    "\n",
    "=> *nbMorphomes* choisis  \n",
    "=> sous-échantillon, sous-échantillon avec paires"
   ]
  },
  {
   "cell_type": "code",
   "execution_count": 71,
   "metadata": {
    "scrolled": true
   },
   "outputs": [],
   "source": [
    "nbFormes=85\n",
    "nbSelCols=3\n",
    "df=dfSample.sort_values(\"freq\",ascending=False).head(nbFormes)"
   ]
  },
  {
   "cell_type": "code",
   "execution_count": 72,
   "metadata": {},
   "outputs": [],
   "source": [
    "dfPar=pd.pivot_table(df,values=\"phono\",columns=\"case\",aggfunc=\",\".join,index=\"lexeme\")"
   ]
  },
  {
   "cell_type": "code",
   "execution_count": 73,
   "metadata": {},
   "outputs": [],
   "source": [
    "parCols=dfPar.columns.tolist()\n",
    "# dfPar[\"ii1P\"]"
   ]
  },
  {
   "cell_type": "code",
   "execution_count": 74,
   "metadata": {},
   "outputs": [],
   "source": [
    "def compareCols(c1,c2,dfPar):\n",
    "    df=dfPar.copy()\n",
    "    nbEq=sum(df[c1]==df[c2])\n",
    "    df[\"c1\"]=df[c1]\n",
    "    df[\"c2\"]=df[c2]\n",
    "    df[\"c1c2\"]=df.pop(\"c1\").fillna(df.pop(\"c2\"))\n",
    "    df[\"c1\"]=df[c1]\n",
    "    df[\"c2\"]=df[c2]\n",
    "    df[\"c2c1\"]=df.pop(\"c2\").fillna(df.pop(\"c1\"))\n",
    "    return all(df[\"c1c2\"].dropna()==df[\"c2c1\"].dropna()),nbEq"
   ]
  },
  {
   "cell_type": "code",
   "execution_count": 75,
   "metadata": {},
   "outputs": [],
   "source": [
    "graphe=nx.Graph()\n",
    "for c1,c2 in it.combinations(parCols,2):\n",
    "    colEq,nbEq=compareCols(c1,c2,dfPar)\n",
    "    if colEq:\n",
    "        graphe.add_edge(c1,c2,weight=nbEq)"
   ]
  },
  {
   "cell_type": "code",
   "execution_count": 76,
   "metadata": {},
   "outputs": [],
   "source": [
    "def scoreClique(clique):\n",
    "    nbComb=0\n",
    "    score=0\n",
    "    for c1,c2 in it.combinations(clique,2):\n",
    "        nbComb+=1\n",
    "        score+=graphe[c1][c2][\"weight\"]\n",
    "    return score/float(nbComb)"
   ]
  },
  {
   "cell_type": "code",
   "execution_count": 77,
   "metadata": {},
   "outputs": [
    {
     "data": {
      "text/plain": [
       "[(8.0, [u'pi2S', u'pi3S']),\n",
       " (2.0, [u'ii3S', u'ii1S']),\n",
       " (0.0, [u'pi1S', u'fi3S']),\n",
       " (0.0, [u'pi1S', u'ps3S']),\n",
       " (0.0, [u'pi1P', u'ppMS']),\n",
       " (0.0, [u'pi1P', u'ai3S', u'ps3S']),\n",
       " (0.0, [u'pi1P', u'ai3S', u'ii1S']),\n",
       " (0.0, [u'pi1P', u'ai3S', u'fi3S']),\n",
       " (0.0, [u'pi1P', u'ai3S', u'pi3P']),\n",
       " (0.0, [u'pi1P', u'ai3S', u'pc3S'])]"
      ]
     },
     "execution_count": 77,
     "metadata": {},
     "output_type": "execute_result"
    }
   ],
   "source": [
    "cliques=list(nx.algorithms.clique.find_cliques(graphe))\n",
    "scoresCliques=[]\n",
    "for clique in cliques:\n",
    "    scoresCliques.append((scoreClique(clique),clique))\n",
    "scoresCliques=sorted(scoresCliques,key=lambda x: x[0],reverse=True)\n",
    "scoresCliques"
   ]
  },
  {
   "cell_type": "code",
   "execution_count": 78,
   "metadata": {},
   "outputs": [
    {
     "data": {
      "text/plain": [
       "[[u'pi2S', u'pi3S'], [u'ii3S', u'ii1S']]"
      ]
     },
     "execution_count": 78,
     "metadata": {},
     "output_type": "execute_result"
    }
   ],
   "source": [
    "morphomes=[]\n",
    "for score,clique in scoresCliques:\n",
    "    if score>=1:\n",
    "        cliqueInterMorphomes=set(clique)&set([c for m in morphomes for c in m])\n",
    "        if cliqueInterMorphomes==set():\n",
    "            morphomes.append((clique))\n",
    "        else:\n",
    "            if len(clique)-len(cliqueInterMorphomes)>2:\n",
    "                print \"maybe try a sub-clique\",clique,cliqueInterMorphomes\n",
    "morphomes"
   ]
  },
  {
   "cell_type": "code",
   "execution_count": 79,
   "metadata": {},
   "outputs": [],
   "source": [
    "msp2omp={}\n",
    "omp2msp={}\n",
    "morCols=parCols[:]\n",
    "for morphome in morphomes:\n",
    "    for case in morphome:\n",
    "        msp2omp[case]=morphome[0]\n",
    "        if morphome[0] not in omp2msp:\n",
    "            omp2msp[morphome[0]]=[]\n",
    "        omp2msp[morphome[0]].append(case)\n",
    "        morCols.remove(case)\n",
    "for case in morCols:\n",
    "    msp2omp[case]=case\n",
    "    omp2msp[case]=[case]"
   ]
  },
  {
   "cell_type": "code",
   "execution_count": 80,
   "metadata": {},
   "outputs": [],
   "source": [
    "def formes2Morphomes(df):\n",
    "    lDF=df.copy()\n",
    "    for c in msp2omp:\n",
    "        if c!=msp2omp[c]:\n",
    "            lDF[msp2omp[c]]=lDF.pop(msp2omp[c]).fillna(lDF.pop(c))\n",
    "    return lDF"
   ]
  },
  {
   "cell_type": "code",
   "execution_count": 81,
   "metadata": {},
   "outputs": [
    {
     "data": {
      "text/html": [
       "<div>\n",
       "<style scoped>\n",
       "    .dataframe tbody tr th:only-of-type {\n",
       "        vertical-align: middle;\n",
       "    }\n",
       "\n",
       "    .dataframe tbody tr th {\n",
       "        vertical-align: top;\n",
       "    }\n",
       "\n",
       "    .dataframe thead th {\n",
       "        text-align: right;\n",
       "    }\n",
       "</style>\n",
       "<table border=\"1\" class=\"dataframe\">\n",
       "  <thead>\n",
       "    <tr style=\"text-align: right;\">\n",
       "      <th>case</th>\n",
       "      <th>pi2S</th>\n",
       "      <th>inf</th>\n",
       "      <th>ppMS</th>\n",
       "    </tr>\n",
       "    <tr>\n",
       "      <th>lexeme</th>\n",
       "      <th></th>\n",
       "      <th></th>\n",
       "      <th></th>\n",
       "    </tr>\n",
       "  </thead>\n",
       "  <tbody>\n",
       "    <tr>\n",
       "      <th>aller</th>\n",
       "      <td>va</td>\n",
       "      <td>ale</td>\n",
       "      <td>NaN</td>\n",
       "    </tr>\n",
       "    <tr>\n",
       "      <th>avoir</th>\n",
       "      <td>a</td>\n",
       "      <td>avwar</td>\n",
       "      <td>y</td>\n",
       "    </tr>\n",
       "    <tr>\n",
       "      <th>devoir</th>\n",
       "      <td>dwa</td>\n",
       "      <td>NaN</td>\n",
       "      <td>dy</td>\n",
       "    </tr>\n",
       "    <tr>\n",
       "      <th>dire</th>\n",
       "      <td>di</td>\n",
       "      <td>dir</td>\n",
       "      <td>di</td>\n",
       "    </tr>\n",
       "    <tr>\n",
       "      <th>faire</th>\n",
       "      <td>fE</td>\n",
       "      <td>fEr</td>\n",
       "      <td>fE</td>\n",
       "    </tr>\n",
       "    <tr>\n",
       "      <th>passer</th>\n",
       "      <td>pas</td>\n",
       "      <td>pase</td>\n",
       "      <td>pase</td>\n",
       "    </tr>\n",
       "    <tr>\n",
       "      <th>pouvoir</th>\n",
       "      <td>p2</td>\n",
       "      <td>NaN</td>\n",
       "      <td>py</td>\n",
       "    </tr>\n",
       "    <tr>\n",
       "      <th>prendre</th>\n",
       "      <td>NaN</td>\n",
       "      <td>prâdr</td>\n",
       "      <td>pri</td>\n",
       "    </tr>\n",
       "    <tr>\n",
       "      <th>savoir</th>\n",
       "      <td>sE</td>\n",
       "      <td>savwar</td>\n",
       "      <td>NaN</td>\n",
       "    </tr>\n",
       "    <tr>\n",
       "      <th>trouver</th>\n",
       "      <td>NaN</td>\n",
       "      <td>truve</td>\n",
       "      <td>truve</td>\n",
       "    </tr>\n",
       "    <tr>\n",
       "      <th>venir</th>\n",
       "      <td>vjê</td>\n",
       "      <td>v6nir</td>\n",
       "      <td>NaN</td>\n",
       "    </tr>\n",
       "    <tr>\n",
       "      <th>voir</th>\n",
       "      <td>NaN</td>\n",
       "      <td>vwar</td>\n",
       "      <td>vy</td>\n",
       "    </tr>\n",
       "    <tr>\n",
       "      <th>être</th>\n",
       "      <td>E</td>\n",
       "      <td>Etr</td>\n",
       "      <td>Ete</td>\n",
       "    </tr>\n",
       "  </tbody>\n",
       "</table>\n",
       "</div>"
      ],
      "text/plain": [
       "case    pi2S     inf   ppMS\n",
       "lexeme                     \n",
       "aller     va     ale    NaN\n",
       "avoir      a   avwar      y\n",
       "devoir   dwa     NaN     dy\n",
       "dire      di     dir     di\n",
       "faire     fE     fEr     fE\n",
       "passer   pas    pase   pase\n",
       "pouvoir   p2     NaN     py\n",
       "prendre  NaN   prâdr    pri\n",
       "savoir    sE  savwar    NaN\n",
       "trouver  NaN   truve  truve\n",
       "venir    vjê   v6nir    NaN\n",
       "voir     NaN    vwar     vy\n",
       "être       E     Etr    Ete"
      ]
     },
     "execution_count": 81,
     "metadata": {},
     "output_type": "execute_result"
    }
   ],
   "source": [
    "dfMorPar=formes2Morphomes(dfPar)\n",
    "subCases=dfMorPar.count().sort_values(ascending=False).head(nbSelCols).index.tolist()\n",
    "dfMorPar[subCases].dropna(thresh=2)"
   ]
  },
  {
   "cell_type": "code",
   "execution_count": 232,
   "metadata": {},
   "outputs": [],
   "source": [
    "dfMorPar[subCases].to_csv(path_or_buf=fileJouet,sep=\";\",encoding=\"utf8\")"
   ]
  },
  {
   "cell_type": "code",
   "execution_count": 70,
   "metadata": {},
   "outputs": [
    {
     "data": {
      "text/html": [
       "<div>\n",
       "<style scoped>\n",
       "    .dataframe tbody tr th:only-of-type {\n",
       "        vertical-align: middle;\n",
       "    }\n",
       "\n",
       "    .dataframe tbody tr th {\n",
       "        vertical-align: top;\n",
       "    }\n",
       "\n",
       "    .dataframe thead th {\n",
       "        text-align: right;\n",
       "    }\n",
       "</style>\n",
       "<table border=\"1\" class=\"dataframe\">\n",
       "  <thead>\n",
       "    <tr style=\"text-align: right;\">\n",
       "      <th>case</th>\n",
       "      <th>pi2S</th>\n",
       "      <th>inf</th>\n",
       "      <th>pi1S</th>\n",
       "    </tr>\n",
       "    <tr>\n",
       "      <th>lexeme</th>\n",
       "      <th></th>\n",
       "      <th></th>\n",
       "      <th></th>\n",
       "    </tr>\n",
       "  </thead>\n",
       "  <tbody>\n",
       "    <tr>\n",
       "      <th>aimer</th>\n",
       "      <td>Em</td>\n",
       "      <td>NaN</td>\n",
       "      <td>NaN</td>\n",
       "    </tr>\n",
       "    <tr>\n",
       "      <th>aller</th>\n",
       "      <td>va</td>\n",
       "      <td>ale</td>\n",
       "      <td>vE</td>\n",
       "    </tr>\n",
       "    <tr>\n",
       "      <th>arriver</th>\n",
       "      <td>ariv</td>\n",
       "      <td>NaN</td>\n",
       "      <td>NaN</td>\n",
       "    </tr>\n",
       "    <tr>\n",
       "      <th>chercher</th>\n",
       "      <td>NaN</td>\n",
       "      <td>SErSe</td>\n",
       "      <td>NaN</td>\n",
       "    </tr>\n",
       "    <tr>\n",
       "      <th>parler</th>\n",
       "      <td>NaN</td>\n",
       "      <td>parle</td>\n",
       "      <td>NaN</td>\n",
       "    </tr>\n",
       "    <tr>\n",
       "      <th>passer</th>\n",
       "      <td>pas</td>\n",
       "      <td>pase</td>\n",
       "      <td>NaN</td>\n",
       "    </tr>\n",
       "    <tr>\n",
       "      <th>penser</th>\n",
       "      <td>pâs</td>\n",
       "      <td>NaN</td>\n",
       "      <td>NaN</td>\n",
       "    </tr>\n",
       "    <tr>\n",
       "      <th>regarder</th>\n",
       "      <td>r6gard</td>\n",
       "      <td>NaN</td>\n",
       "      <td>NaN</td>\n",
       "    </tr>\n",
       "    <tr>\n",
       "      <th>trouver</th>\n",
       "      <td>NaN</td>\n",
       "      <td>truve</td>\n",
       "      <td>NaN</td>\n",
       "    </tr>\n",
       "  </tbody>\n",
       "</table>\n",
       "</div>"
      ],
      "text/plain": [
       "case        pi2S    inf pi1S\n",
       "lexeme                      \n",
       "aimer         Em    NaN  NaN\n",
       "aller         va    ale   vE\n",
       "arriver     ariv    NaN  NaN\n",
       "chercher     NaN  SErSe  NaN\n",
       "parler       NaN  parle  NaN\n",
       "passer       pas   pase  NaN\n",
       "penser       pâs    NaN  NaN\n",
       "regarder  r6gard    NaN  NaN\n",
       "trouver      NaN  truve  NaN"
      ]
     },
     "execution_count": 70,
     "metadata": {},
     "output_type": "execute_result"
    }
   ],
   "source": [
    "dfMorPar[dfMorPar.index.str.contains(\"er$\")][subCases].dropna(thresh=1)"
   ]
  },
  {
   "cell_type": "code",
   "execution_count": null,
   "metadata": {},
   "outputs": [],
   "source": []
  }
 ],
 "metadata": {
  "kernelspec": {
   "display_name": "Python (py27)",
   "language": "python",
   "name": "py27"
  },
  "language_info": {
   "codemirror_mode": {
    "name": "ipython",
    "version": 2
   },
   "file_extension": ".py",
   "mimetype": "text/x-python",
   "name": "python",
   "nbconvert_exporter": "python",
   "pygments_lexer": "ipython2",
   "version": "2.7.16"
  }
 },
 "nbformat": 4,
 "nbformat_minor": 2
}
