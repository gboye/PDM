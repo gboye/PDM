{
 "cells": [
  {
   "cell_type": "code",
   "execution_count": 13,
   "metadata": {
    "collapsed": true
   },
   "outputs": [],
   "source": [
    "# -*- coding: utf8 -*-"
   ]
  },
  {
   "cell_type": "code",
   "execution_count": 14,
   "metadata": {
    "collapsed": false
   },
   "outputs": [],
   "source": [
    "debug=False\n",
    "\n",
    "filePrefix=\"MGC-160104\"\n",
    "nomLexique=\"/Users/gilles/Copy/Python/phonemisation/bdlexique-PDM-Resync2.txt\"\n",
    "\n",
    "freqForme=1000000"
   ]
  },
  {
   "cell_type": "markdown",
   "metadata": {},
   "source": [
    "##Importations\n",
    "- codecs pour les encodages\n",
    "- pandas et numpy pour les calculs sur tableaux\n",
    "- matplotlib pour les graphiques\n",
    "- itertools pour les itérateurs sophistiqués (paires sur liste, ...)"
   ]
  },
  {
   "cell_type": "code",
   "execution_count": 15,
   "metadata": {
    "collapsed": true
   },
   "outputs": [],
   "source": [
    "import pandas as pd\n",
    "import pickle"
   ]
  },
  {
   "cell_type": "markdown",
   "metadata": {},
   "source": [
    "#Préparation du tableau de VERBES"
   ]
  },
  {
   "cell_type": "markdown",
   "metadata": {},
   "source": [
    "###Lecture du lexique\n",
    "- nomLexique pour le fichier\n",
    "- names pour les noms de colonnes\n",
    "- élimination des lignes dupliquées éventuelles (p.e. dépendre)"
   ]
  },
  {
   "cell_type": "code",
   "execution_count": 16,
   "metadata": {
    "collapsed": false
   },
   "outputs": [],
   "source": [
    "bdlexique=pd.read_csv(nomLexique,sep=\";\",names=[\"ortho\",\"phono\",\"ext\",\"cs\",\"ms\",\"vs\",\"lexeme\",\"L23\",\"lemmeFrantext\",\"lemmeFilms\",\"formeFrantext\",\"formeFilms\"],encoding=\"utf8\")\n",
    "bdlexique.loc[(bdlexique[\"ms\"]==\"ij\")&(bdlexique[\"cs\"].isin([\"V\",\"K\"])),\"ms\"]=\"MS\"\n",
    "bdlexique.drop_duplicates(inplace=True,subset=[\"phono\",\"ext\",\"cs\",\"ms\",\"vs\",\"lexeme\",\"lemmeFrantext\",\"lemmeFilms\",\"formeFrantext\",\"formeFilms\"])"
   ]
  },
  {
   "cell_type": "markdown",
   "metadata": {},
   "source": [
    "### Création de la colonne de fréquence *freq*\n",
    "\n",
    "- fréquence forme : 1000000x(formeFrantext+formeFilms)\n",
    "- fréquence lexeme : lemmeFrantext+lemmeFilms\n",
    "- fréquence inexistante : .01"
   ]
  },
  {
   "cell_type": "code",
   "execution_count": 17,
   "metadata": {
    "collapsed": false
   },
   "outputs": [],
   "source": [
    "bdlexique[\"freq\"]=1.0/100\n",
    "filtreLFrantext=(bdlexique[\"lemmeFrantext\"]!=\"***\") \n",
    "filtreLFilms=(bdlexique[\"lemmeFilms\"]!=\"***\")\n",
    "filtreFFrantext=(bdlexique[\"formeFrantext\"]!=\"***\") \n",
    "filtreFFilms=(bdlexique[\"formeFilms\"]!=\"***\")\n",
    "bdlexique.loc[filtreLFrantext|filtreLFilms,\"freq\"]=bdlexique[filtreLFrantext][\"lemmeFrantext\"].astype(float)+bdlexique[filtreLFilms][\"lemmeFilms\"].astype(float)\n",
    "bdlexique.loc[filtreFFrantext | filtreFFrantext,\"freq\"]=bdlexique[filtreFFrantext][\"formeFrantext\"].astype(float)*freqForme+bdlexique[filtreFFilms][\"formeFilms\"].astype(float)*freqForme"
   ]
  },
  {
   "cell_type": "markdown",
   "metadata": {},
   "source": [
    "###Elimination des colonnes inutiles\n",
    "- indicateur L23\n",
    "- fréquences brutes"
   ]
  },
  {
   "cell_type": "code",
   "execution_count": 18,
   "metadata": {
    "collapsed": false
   },
   "outputs": [],
   "source": [
    "inutilesColonnes=[\"L23\",\"lemmeFrantext\",\"lemmeFilms\",\"formeFrantext\",\"formeFilms\"]\n",
    "for colonne in inutilesColonnes:\n",
    "    del bdlexique[colonne]"
   ]
  },
  {
   "cell_type": "markdown",
   "metadata": {},
   "source": [
    "###Extraction des formes verbales dans une structure *verbes*"
   ]
  },
  {
   "cell_type": "code",
   "execution_count": 19,
   "metadata": {
    "collapsed": false
   },
   "outputs": [],
   "source": [
    "verbes=bdlexique[bdlexique[\"cs\"].isin([\"V\",\"K\"])].copy()"
   ]
  },
  {
   "cell_type": "code",
   "execution_count": 20,
   "metadata": {
    "collapsed": true
   },
   "outputs": [],
   "source": [
    "verbes.loc[verbes[\"ms\"]==\"ij\",\"ms\"]=\"MS\""
   ]
  },
  {
   "cell_type": "markdown",
   "metadata": {},
   "source": [
    "###Ajout d'une colonne *prob* pour la fréquence relative"
   ]
  },
  {
   "cell_type": "code",
   "execution_count": 21,
   "metadata": {
    "collapsed": false
   },
   "outputs": [],
   "source": [
    "verbes[\"prob\"]=verbes[\"freq\"]/verbes[\"freq\"].sum()"
   ]
  },
  {
   "cell_type": "markdown",
   "metadata": {},
   "source": [
    "###Ajout d'une colonne *case*\n",
    "- remplir les *ms* vides pour permettre la concaténation sans erreur\n",
    "- remplir les *vs* vides des participes passés par \"pp\" pour permettre l'identification de la case\n",
    "- *case* est la concaténation de *vs* et *ms*"
   ]
  },
  {
   "cell_type": "code",
   "execution_count": 22,
   "metadata": {
    "collapsed": true
   },
   "outputs": [],
   "source": [
    "verbes[\"ms\"]=verbes[\"ms\"].fillna(\"\")\n",
    "verbes[\"vs\"]=verbes[\"vs\"].fillna(\"pp\")\n",
    "verbes[\"case\"]=verbes[\"vs\"]+verbes[\"ms\"]"
   ]
  },
  {
   "cell_type": "code",
   "execution_count": 23,
   "metadata": {
    "collapsed": true
   },
   "outputs": [],
   "source": [
    "bdlexiqueIn = unicode(u\"èò\")\n",
    "bdlexiqueNum = [ord(char) for char in bdlexiqueIn]\n",
    "neutreOut = unicode(u\"EO\")\n",
    "neutralise = dict(zip(bdlexiqueNum, neutreOut))\n",
    "\n",
    "def recoder(chaine,table=neutralise):\n",
    "    if type(chaine)==str:\n",
    "        temp=unicode(chaine.decode('utf8')).translate(table)\n",
    "        result=temp.encode('utf8')\n",
    "    elif type(chaine)==unicode:\n",
    "        result=chaine.translate(table)\n",
    "    else:\n",
    "        result=chaine\n",
    "    return result\n",
    "\n",
    "verbes[\"phono\"]=verbes[\"phono\"].apply(recoder)"
   ]
  },
  {
   "cell_type": "code",
   "execution_count": 24,
   "metadata": {
    "collapsed": false
   },
   "outputs": [],
   "source": [
    "with open(filePrefix+'-Verbes2.pkl', 'wb') as output:\n",
    "   pickle.dump(verbes, output, pickle.HIGHEST_PROTOCOL)"
   ]
  }
 ],
 "metadata": {
  "kernelspec": {
   "display_name": "Python 2",
   "language": "python",
   "name": "python2"
  },
  "language_info": {
   "codemirror_mode": {
    "name": "ipython",
    "version": 2
   },
   "file_extension": ".py",
   "mimetype": "text/x-python",
   "name": "python",
   "nbconvert_exporter": "python",
   "pygments_lexer": "ipython2",
   "version": "2.7.11"
  }
 },
 "nbformat": 4,
 "nbformat_minor": 0
}
