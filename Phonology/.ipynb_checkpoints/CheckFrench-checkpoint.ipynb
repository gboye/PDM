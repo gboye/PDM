{
 "cells": [
  {
   "cell_type": "code",
   "execution_count": 5,
   "metadata": {
    "collapsed": true
   },
   "outputs": [],
   "source": [
    "import codecs,re"
   ]
  },
  {
   "cell_type": "code",
   "execution_count": 1,
   "metadata": {
    "collapsed": true
   },
   "outputs": [],
   "source": [
    "nomLexique=\"/Users/gilles/Dropbox/Travail/Recherche/BoKu/LingInfo/BDLexique/bdlexique-gb-110217-utf8.txt\""
   ]
  },
  {
   "cell_type": "code",
   "execution_count": null,
   "metadata": {
    "collapsed": true
   },
   "outputs": [],
   "source": [
    "with codecs.open(nomLexique,\"r\",encoding=\"utf8\") as input:\n",
    "    lexiqueLines=input.readlines()"
   ]
  },
  {
   "cell_type": "code",
   "execution_count": 46,
   "metadata": {
    "collapsed": true
   },
   "outputs": [],
   "source": [
    "dierese={\"j\":\"ij\", \"w\":\"uw\",\"H\":\"yH\",\"i\":\"ij\",\"u\":\"uw\",\"y\":\"yH\"}\n",
    "correctionsGlides={}\n",
    "correctionsHiatus={}\n",
    "preGlideFinal=set()"
   ]
  },
  {
   "cell_type": "code",
   "execution_count": 49,
   "metadata": {
    "collapsed": false
   },
   "outputs": [
    {
     "data": {
      "text/plain": [
       "(0, 568, 2416)"
      ]
     },
     "execution_count": 49,
     "metadata": {},
     "output_type": "execute_result"
    }
   ],
   "source": [
    "for line in lexiqueLines:\n",
    "    line=line.strip()\n",
    "    champs=line.split(\";\")\n",
    "    phono=champs[1]\n",
    "    cat=champs[3]\n",
    "    m=re.match(r\"^.*([^ieEaOouy926êôâ])[jwH]$\",phono)\n",
    "    if m:\n",
    "        preGlideFinal.add(m.group(1))\n",
    "    m=re.match(r\"(.*[ptkbdgfsSvzZ][rl])([jwH])(.*)\",phono)\n",
    "    if m:\n",
    "        n=re.search(r\"[ptkbdgfsSvzZ][rl](wa|Hi|wê)\",phono)\n",
    "        if not n:\n",
    "            glide=m.group(2)\n",
    "            correctionsGlides[phono]=m.group(1)+dierese[glide]+m.group(3)\n",
    "    m=re.match(r\"(.*)([iuy])([ieEaOouy].*)\",phono)\n",
    "    if m:\n",
    "        glide=m.group(2)\n",
    "        correctionsHiatus[phono]=m.group(1)+dierese[glide]+m.group(3)\n",
    "len(preGlideFinal),len(correctionsGlides),len(correctionsHiatus)"
   ]
  }
 ],
 "metadata": {
  "kernelspec": {
   "display_name": "Python 2",
   "language": "python",
   "name": "python2"
  },
  "language_info": {
   "codemirror_mode": {
    "name": "ipython",
    "version": 2
   },
   "file_extension": ".py",
   "mimetype": "text/x-python",
   "name": "python",
   "nbconvert_exporter": "python",
   "pygments_lexer": "ipython2",
   "version": "2.7.11"
  }
 },
 "nbformat": 4,
 "nbformat_minor": 0
}
