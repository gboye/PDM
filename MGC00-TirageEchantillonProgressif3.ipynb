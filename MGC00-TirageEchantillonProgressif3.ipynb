{
 "cells": [
  {
   "cell_type": "code",
   "execution_count": 1,
   "metadata": {
    "collapsed": true
   },
   "outputs": [],
   "source": [
    "# -*- coding: utf8 -*-\n",
    "import pandas as pd\n",
    "import pickle, random\n",
    "import yaml"
   ]
  },
  {
   "cell_type": "code",
   "execution_count": 2,
   "metadata": {
    "collapsed": true
   },
   "outputs": [],
   "source": [
    "million=1000000\n",
    "nbMillions=200\n",
    "nTiles=1\n",
    "lexiquePrefix=\"MGC-160104\"\n",
    "tiragePrefix=\"MGC-160721-0\"\n",
    "echantillon=\"-%dMo\"%nbMillions"
   ]
  },
  {
   "cell_type": "code",
   "execution_count": 3,
   "metadata": {
    "collapsed": false
   },
   "outputs": [],
   "source": [
    "with open(\"/Users/gilles/ownCloud/Recherche/Boye/2015-Data/\"+lexiquePrefix+'-Verbes2.pkl', 'rb') as input:\n",
    "    lexique = pickle.load(input)"
   ]
  },
  {
   "cell_type": "code",
   "execution_count": 4,
   "metadata": {
    "collapsed": true
   },
   "outputs": [],
   "source": [
    "lexique[\"freqcum\"]= (lexique[\"freq\"].cumsum()*1000).astype(int)"
   ]
  },
  {
   "cell_type": "code",
   "execution_count": 5,
   "metadata": {
    "collapsed": true
   },
   "outputs": [],
   "source": [
    "rangeTop=lexique[\"freqcum\"].max()"
   ]
  },
  {
   "cell_type": "code",
   "execution_count": 6,
   "metadata": {
    "collapsed": false
   },
   "outputs": [],
   "source": [
    "del lexique[\"ext\"]\n",
    "del lexique[\"cs\"]\n",
    "del lexique[\"ms\"]\n",
    "del lexique[\"vs\"]\n",
    "del lexique[\"prob\"]"
   ]
  },
  {
   "cell_type": "code",
   "execution_count": 7,
   "metadata": {
    "collapsed": false
   },
   "outputs": [
    {
     "name": "stdout",
     "output_type": "stream",
     "text": [
      "CPU times: user 6min 35s, sys: 20.5 s, total: 6min 56s\n",
      "Wall time: 7min 49s\n"
     ]
    }
   ],
   "source": [
    "%%time\n",
    "tirage=[]\n",
    "for n in range(nbMillions*million):\n",
    "    tirage.append(random.randrange(rangeTop))"
   ]
  },
  {
   "cell_type": "raw",
   "metadata": {
    "collapsed": true
   },
   "source": [
    "with open(\"/Users/gilles/ownCloud/Recherche/Boye/2015-Data/\"+tiragePrefix+echantillon+'-Liste.pkl', 'w') as output:\n",
    "    pickle.dump(tirage, output, pickle.HIGHEST_PROTOCOL)"
   ]
  },
  {
   "cell_type": "code",
   "execution_count": 8,
   "metadata": {
    "collapsed": false
   },
   "outputs": [],
   "source": [
    "lexique[\"tir1\"]=0"
   ]
  },
  {
   "cell_type": "code",
   "execution_count": 9,
   "metadata": {
    "collapsed": false
   },
   "outputs": [
    {
     "name": "stdout",
     "output_type": "stream",
     "text": [
      "CPU times: user 2 µs, sys: 0 ns, total: 2 µs\n",
      "Wall time: 5.01 µs\n"
     ]
    }
   ],
   "source": [
    "%%time\n",
    "def tirage2triage(tirage):    \n",
    "    triage=sorted(tirage)\n",
    "    freqTop=0\n",
    "    indexMin=0\n",
    "    tirs={}\n",
    "\n",
    "    for num,tir in enumerate(triage[:]):\n",
    "        if tir > freqTop:\n",
    "            indexMin=lexique[lexique[\"freqcum\"]>=tir][0:1].index.astype(int)[0]\n",
    "            freqTop=lexique.ix[indexMin,'freqcum']\n",
    "            tirs[indexMin]=0\n",
    "        tirs[indexMin] += 1\n",
    "        if num%500000==0:\n",
    "            print num,\n",
    "    print\n",
    "    for indexNum in tirs:\n",
    "        lexique.ix[indexNum,'tir1']+=tirs[indexNum]"
   ]
  },
  {
   "cell_type": "code",
   "execution_count": null,
   "metadata": {
    "collapsed": false
   },
   "outputs": [
    {
     "name": "stdout",
     "output_type": "stream",
     "text": [
      "200000000\n"
     ]
    }
   ],
   "source": [
    "portion=(nbMillions*million)//nTiles\n",
    "print portion"
   ]
  },
  {
   "cell_type": "code",
   "execution_count": null,
   "metadata": {
    "collapsed": false,
    "scrolled": true
   },
   "outputs": [],
   "source": [
    "for nTile in range(nTiles):\n",
    "    %time tirage2triage(tirage[nTile*portion:(nTile+1)*portion])\n",
    "    print\n",
    "    print \"nTile\",nTile\n",
    "    print lexique[lexique[\"tir1\"]!=0][\"tir1\"].sum()\n",
    "    print lexique[lexique[\"tir1\"]!=0][\"tir1\"].count()\n",
    "    "
   ]
  },
  {
   "cell_type": "code",
   "execution_count": null,
   "metadata": {
    "collapsed": false
   },
   "outputs": [],
   "source": [
    "with open(\"/Users/gilles/ownCloud/Recherche/Boye/2015-Data/\"+tiragePrefix+echantillon+'-Tirage.pkl', 'wb') as output:\n",
    "    pickle.dump(lexique, output, pickle.HIGHEST_PROTOCOL)"
   ]
  },
  {
   "cell_type": "code",
   "execution_count": null,
   "metadata": {
    "collapsed": false
   },
   "outputs": [],
   "source": [
    "print lexique[lexique[\"tir1\"]!=0][\"tir1\"].sum()\n",
    "print lexique[lexique[\"tir1\"]!=0][\"tir1\"].count()"
   ]
  },
  {
   "cell_type": "code",
   "execution_count": null,
   "metadata": {
    "collapsed": false
   },
   "outputs": [],
   "source": []
  },
  {
   "cell_type": "code",
   "execution_count": null,
   "metadata": {
    "collapsed": true
   },
   "outputs": [],
   "source": []
  }
 ],
 "metadata": {
  "kernelspec": {
   "display_name": "Python 2",
   "language": "python",
   "name": "python2"
  },
  "language_info": {
   "codemirror_mode": {
    "name": "ipython",
    "version": 2
   },
   "file_extension": ".py",
   "mimetype": "text/x-python",
   "name": "python",
   "nbconvert_exporter": "python",
   "pygments_lexer": "ipython2",
   "version": "2.7.11"
  }
 },
 "nbformat": 4,
 "nbformat_minor": 0
}
