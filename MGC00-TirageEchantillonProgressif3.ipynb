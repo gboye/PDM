{
 "cells": [
  {
   "cell_type": "code",
   "execution_count": 1,
   "metadata": {
    "collapsed": true
   },
   "outputs": [],
   "source": [
    "# -*- coding: utf8 -*-\n",
    "import pandas as pd\n",
    "import pickle, random\n",
    "import yaml"
   ]
  },
  {
   "cell_type": "code",
   "execution_count": 2,
   "metadata": {
    "collapsed": true
   },
   "outputs": [],
   "source": [
    "million=1000000\n",
    "nbMillions=200\n",
    "nTiles=1\n",
    "lexiquePrefix=\"MGC-160104\"\n",
    "tiragePrefix=\"MGC-160716-2\"\n",
    "echantillon=\"-%dMo\"%nbMillions"
   ]
  },
  {
   "cell_type": "code",
   "execution_count": 3,
   "metadata": {
    "collapsed": false
   },
   "outputs": [],
   "source": [
    "with open(\"/Users/gilles/ownCloud/Recherche/Boye/2015-Data/\"+lexiquePrefix+'-Verbes2.pkl', 'rb') as input:\n",
    "    lexique = pickle.load(input)"
   ]
  },
  {
   "cell_type": "code",
   "execution_count": 4,
   "metadata": {
    "collapsed": true
   },
   "outputs": [],
   "source": [
    "lexique[\"freqcum\"]= (lexique[\"freq\"].cumsum()*1000).astype(int)"
   ]
  },
  {
   "cell_type": "code",
   "execution_count": 5,
   "metadata": {
    "collapsed": true
   },
   "outputs": [],
   "source": [
    "rangeTop=lexique[\"freqcum\"].max()"
   ]
  },
  {
   "cell_type": "code",
   "execution_count": 6,
   "metadata": {
    "collapsed": false
   },
   "outputs": [],
   "source": [
    "del lexique[\"ext\"]\n",
    "del lexique[\"cs\"]\n",
    "del lexique[\"ms\"]\n",
    "del lexique[\"vs\"]\n",
    "del lexique[\"prob\"]"
   ]
  },
  {
   "cell_type": "code",
   "execution_count": 7,
   "metadata": {
    "collapsed": false
   },
   "outputs": [
    {
     "name": "stdout",
     "output_type": "stream",
     "text": [
      "CPU times: user 6min 17s, sys: 15.8 s, total: 6min 33s\n",
      "Wall time: 7min 1s\n"
     ]
    }
   ],
   "source": [
    "%%time\n",
    "tirage=[]\n",
    "for n in range(nbMillions*million):\n",
    "    tirage.append(random.randrange(rangeTop))"
   ]
  },
  {
   "cell_type": "raw",
   "metadata": {
    "collapsed": true
   },
   "source": [
    "with open(\"/Users/gilles/ownCloud/Recherche/Boye/2015-Data/\"+tiragePrefix+echantillon+'-Liste.pkl', 'w') as output:\n",
    "    pickle.dump(tirage, output, pickle.HIGHEST_PROTOCOL)"
   ]
  },
  {
   "cell_type": "code",
   "execution_count": 8,
   "metadata": {
    "collapsed": false
   },
   "outputs": [],
   "source": [
    "lexique[\"tir1\"]=0"
   ]
  },
  {
   "cell_type": "code",
   "execution_count": 9,
   "metadata": {
    "collapsed": false
   },
   "outputs": [
    {
     "name": "stdout",
     "output_type": "stream",
     "text": [
      "CPU times: user 3 µs, sys: 0 ns, total: 3 µs\n",
      "Wall time: 5.01 µs\n"
     ]
    }
   ],
   "source": [
    "%%time\n",
    "def tirage2triage(tirage):    \n",
    "    triage=sorted(tirage)\n",
    "    freqTop=0\n",
    "    indexMin=0\n",
    "    tirs={}\n",
    "\n",
    "    for num,tir in enumerate(triage[:]):\n",
    "        if tir > freqTop:\n",
    "            indexMin=lexique[lexique[\"freqcum\"]>=tir][0:1].index.astype(int)[0]\n",
    "            freqTop=lexique.ix[indexMin,'freqcum']\n",
    "            tirs[indexMin]=0\n",
    "        tirs[indexMin] += 1\n",
    "        if num%500000==0:\n",
    "            print num,\n",
    "    print\n",
    "    for indexNum in tirs:\n",
    "        lexique.ix[indexNum,'tir1']+=tirs[indexNum]"
   ]
  },
  {
   "cell_type": "code",
   "execution_count": 10,
   "metadata": {
    "collapsed": false
   },
   "outputs": [
    {
     "name": "stdout",
     "output_type": "stream",
     "text": [
      "200000000\n"
     ]
    }
   ],
   "source": [
    "portion=(nbMillions*million)//nTiles\n",
    "print portion"
   ]
  },
  {
   "cell_type": "code",
   "execution_count": 11,
   "metadata": {
    "collapsed": false,
    "scrolled": true
   },
   "outputs": [
    {
     "name": "stdout",
     "output_type": "stream",
     "text": [
      "0 500000 1000000 1500000 2000000 2500000 3000000 3500000 4000000 4500000 5000000 5500000 6000000 6500000 7000000 7500000 8000000 8500000 9000000 9500000 10000000 10500000 11000000 11500000 12000000 12500000 13000000 13500000 14000000 14500000 15000000 15500000 16000000 16500000 17000000 17500000 18000000 18500000 19000000 19500000 20000000 20500000 21000000 21500000 22000000 22500000 23000000 23500000 24000000 24500000 25000000 25500000 26000000 26500000 27000000 27500000 28000000 28500000 29000000 29500000 30000000 30500000 31000000 31500000 32000000 32500000 33000000 33500000 34000000 34500000 35000000 35500000 36000000 36500000 37000000 37500000 38000000 38500000 39000000 39500000 40000000 40500000 41000000 41500000 42000000 42500000 43000000 43500000 44000000 44500000 45000000 45500000 46000000 46500000 47000000 47500000 48000000 48500000 49000000 49500000 50000000 50500000 51000000 51500000 52000000 52500000 53000000 53500000 54000000 54500000 55000000 55500000 56000000 56500000 57000000 57500000 58000000 58500000 59000000 59500000 60000000 60500000 61000000 61500000 62000000 62500000 63000000 63500000 64000000 64500000 65000000 65500000 66000000 66500000 67000000 67500000 68000000 68500000 69000000 69500000 70000000 70500000 71000000 71500000 72000000 72500000 73000000 73500000 74000000 74500000 75000000 75500000 76000000 76500000 77000000 77500000 78000000 78500000 79000000 79500000 80000000 80500000 81000000 81500000 82000000 82500000 83000000 83500000 84000000 84500000 85000000 85500000 86000000 86500000 87000000 87500000 88000000 88500000 89000000 89500000 90000000 90500000 91000000 91500000 92000000 92500000 93000000 93500000 94000000 94500000 95000000 95500000 96000000 96500000 97000000 97500000 98000000 98500000 99000000 99500000 100000000 100500000 101000000 101500000 102000000 102500000 103000000 103500000 104000000 104500000 105000000 105500000 106000000 106500000 107000000 107500000 108000000 108500000 109000000 109500000 110000000 110500000 111000000 111500000 112000000 112500000 113000000 113500000 114000000 114500000 115000000 115500000 116000000 116500000 117000000 117500000 118000000 118500000 119000000 119500000 120000000 120500000 121000000 121500000 122000000 122500000 123000000 123500000 124000000 124500000 125000000 125500000 126000000 126500000 127000000 127500000 128000000 128500000 129000000 129500000 130000000 130500000 131000000 131500000 132000000 132500000 133000000 133500000 134000000 134500000 135000000 135500000 136000000 136500000 137000000 137500000 138000000 138500000 139000000 139500000 140000000 140500000 141000000 141500000 142000000 142500000 143000000 143500000 144000000 144500000 145000000 145500000 146000000 146500000 147000000 147500000 148000000 148500000 149000000 149500000 150000000 150500000 151000000 151500000 152000000 152500000 153000000 153500000 154000000 154500000 155000000 155500000 156000000 156500000 157000000 157500000 158000000 158500000 159000000 159500000 160000000 160500000 161000000 161500000 162000000 162500000 163000000 163500000 164000000 164500000 165000000 165500000 166000000 166500000 167000000 167500000 168000000 168500000 169000000 169500000 170000000 170500000 171000000 171500000 172000000 172500000 173000000 173500000 174000000 174500000 175000000 175500000 176000000 176500000 177000000 177500000 178000000 178500000 179000000 179500000 180000000 180500000 181000000 181500000 182000000 182500000 183000000 183500000 184000000 184500000 185000000 185500000 186000000 186500000 187000000 187500000 188000000 188500000 189000000 189500000 190000000 190500000 191000000 191500000 192000000 192500000 193000000 193500000 194000000 194500000 195000000 195500000 196000000 196500000 197000000 197500000 198000000 198500000 199000000 199500000\n",
      "CPU times: user 34min 37s, sys: 38min 32s, total: 1h 13min 9s\n",
      "Wall time: 2h 14min 46s\n",
      "\n",
      "nTile 0\n",
      "200000000\n",
      "74741\n"
     ]
    }
   ],
   "source": [
    "for nTile in range(nTiles):\n",
    "    %time tirage2triage(tirage[nTile*portion:(nTile+1)*portion])\n",
    "    print\n",
    "    print \"nTile\",nTile\n",
    "    print lexique[lexique[\"tir1\"]!=0][\"tir1\"].sum()\n",
    "    print lexique[lexique[\"tir1\"]!=0][\"tir1\"].count()\n",
    "    "
   ]
  },
  {
   "cell_type": "code",
   "execution_count": 12,
   "metadata": {
    "collapsed": false
   },
   "outputs": [],
   "source": [
    "with open(\"/Users/gilles/ownCloud/Recherche/Boye/2015-Data/\"+tiragePrefix+echantillon+'-Tirage.pkl', 'wb') as output:\n",
    "    pickle.dump(lexique, output, pickle.HIGHEST_PROTOCOL)"
   ]
  },
  {
   "cell_type": "code",
   "execution_count": 13,
   "metadata": {
    "collapsed": false
   },
   "outputs": [
    {
     "name": "stdout",
     "output_type": "stream",
     "text": [
      "200000000\n",
      "74741\n"
     ]
    }
   ],
   "source": [
    "print lexique[lexique[\"tir1\"]!=0][\"tir1\"].sum()\n",
    "print lexique[lexique[\"tir1\"]!=0][\"tir1\"].count()"
   ]
  },
  {
   "cell_type": "code",
   "execution_count": null,
   "metadata": {
    "collapsed": false
   },
   "outputs": [],
   "source": []
  }
 ],
 "metadata": {
  "kernelspec": {
   "display_name": "Python 2",
   "language": "python",
   "name": "python2"
  },
  "language_info": {
   "codemirror_mode": {
    "name": "ipython",
    "version": 2
   },
   "file_extension": ".py",
   "mimetype": "text/x-python",
   "name": "python",
   "nbconvert_exporter": "python",
   "pygments_lexer": "ipython2",
   "version": "2.7.11"
  }
 },
 "nbformat": 4,
 "nbformat_minor": 0
}
