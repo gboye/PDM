{
 "cells": [
  {
   "cell_type": "code",
   "execution_count": 1,
   "metadata": {
    "collapsed": true
   },
   "outputs": [],
   "source": [
    "# -*- coding: utf8 -*-\n",
    "import pandas as pd\n",
    "import pickle, random\n",
    "import yaml"
   ]
  },
  {
   "cell_type": "code",
   "execution_count": 2,
   "metadata": {
    "collapsed": true
   },
   "outputs": [],
   "source": [
    "million=1000000\n",
    "nbMillions=200\n",
    "nTiles=10\n",
    "lexiquePrefix=\"MGC-160104\"\n",
    "tiragePrefix=\"MGC-160628\"\n",
    "echantillon=\"-%dMo\"%nbMillions"
   ]
  },
  {
   "cell_type": "code",
   "execution_count": 3,
   "metadata": {
    "collapsed": false
   },
   "outputs": [],
   "source": [
    "with open(\"/Users/gilles/ownCloud/Recherche/Boye/2015-Data/\"+lexiquePrefix+'-Verbes2.pkl', 'rb') as input:\n",
    "    lexique = pickle.load(input)"
   ]
  },
  {
   "cell_type": "code",
   "execution_count": 4,
   "metadata": {
    "collapsed": true
   },
   "outputs": [],
   "source": [
    "lexique[\"freqcum\"]= (lexique[\"freq\"].cumsum()*1000).astype(int)"
   ]
  },
  {
   "cell_type": "code",
   "execution_count": 5,
   "metadata": {
    "collapsed": true
   },
   "outputs": [],
   "source": [
    "rangeTop=lexique[\"freqcum\"].max()"
   ]
  },
  {
   "cell_type": "code",
   "execution_count": 6,
   "metadata": {
    "collapsed": false
   },
   "outputs": [],
   "source": [
    "del lexique[\"ext\"]\n",
    "del lexique[\"cs\"]\n",
    "del lexique[\"ms\"]\n",
    "del lexique[\"vs\"]\n",
    "del lexique[\"prob\"]"
   ]
  },
  {
   "cell_type": "code",
   "execution_count": 7,
   "metadata": {
    "collapsed": false
   },
   "outputs": [
    {
     "name": "stdout",
     "output_type": "stream",
     "text": [
      "CPU times: user 9min 53s, sys: 35.8 s, total: 10min 29s\n",
      "Wall time: 10min 59s\n"
     ]
    }
   ],
   "source": [
    "%%time\n",
    "tirage=[]\n",
    "for n in range(nbMillions*million):\n",
    "    tirage.append(random.randrange(rangeTop))"
   ]
  },
  {
   "cell_type": "code",
   "execution_count": 8,
   "metadata": {
    "collapsed": true
   },
   "outputs": [],
   "source": [
    "with open(\"/Users/gilles/ownCloud/Recherche/Boye/2015-Data/\"+tiragePrefix+echantillon+'-Liste.pkl', 'w') as output:\n",
    "    pickle.dump(tirage, output, pickle.HIGHEST_PROTOCOL)"
   ]
  },
  {
   "cell_type": "code",
   "execution_count": 9,
   "metadata": {
    "collapsed": false
   },
   "outputs": [],
   "source": [
    "lexique[\"tir1\"]=0"
   ]
  },
  {
   "cell_type": "code",
   "execution_count": 10,
   "metadata": {
    "collapsed": false
   },
   "outputs": [
    {
     "name": "stdout",
     "output_type": "stream",
     "text": [
      "CPU times: user 9 µs, sys: 14 µs, total: 23 µs\n",
      "Wall time: 57 µs\n"
     ]
    }
   ],
   "source": [
    "%%time\n",
    "def tirage2triage(tirage):    \n",
    "    triage=sorted(tirage)\n",
    "    freqTop=0\n",
    "    indexMin=0\n",
    "    tirs={}\n",
    "\n",
    "    for num,tir in enumerate(triage[:]):\n",
    "        if tir > freqTop:\n",
    "            indexMin=lexique[lexique[\"freqcum\"]>=tir][0:1].index.astype(int)[0]\n",
    "            freqTop=lexique.ix[indexMin,'freqcum']\n",
    "            tirs[indexMin]=0\n",
    "        tirs[indexMin] += 1\n",
    "        if num%500000==0:\n",
    "            print num,\n",
    "    for indexNum in tirs:\n",
    "        lexique.ix[indexNum,'tir1']+=tirs[indexNum]"
   ]
  },
  {
   "cell_type": "code",
   "execution_count": 11,
   "metadata": {
    "collapsed": false
   },
   "outputs": [
    {
     "name": "stdout",
     "output_type": "stream",
     "text": [
      "20000000\n"
     ]
    }
   ],
   "source": [
    "portion=(nbMillions*million)//nTiles\n",
    "print portion"
   ]
  },
  {
   "cell_type": "code",
   "execution_count": 12,
   "metadata": {
    "collapsed": false,
    "scrolled": true
   },
   "outputs": [
    {
     "name": "stdout",
     "output_type": "stream",
     "text": [
      "0 500000 1000000 1500000 2000000 2500000 3000000 3500000 4000000 4500000 5000000 5500000 6000000 6500000 7000000 7500000 8000000 8500000 9000000 9500000 10000000 10500000 11000000 11500000 12000000 12500000 13000000 13500000 14000000 14500000 15000000 15500000 16000000 16500000 17000000 17500000 18000000 18500000 19000000 19500000CPU times: user 26min 18s, sys: 4min 19s, total: 30min 37s\n",
      "Wall time: 30min 58s\n",
      "\n",
      "nTile 0\n",
      "20000000\n",
      "70819\n",
      "0 500000 1000000 1500000 2000000 2500000 3000000 3500000 4000000 4500000 5000000 5500000 6000000 6500000 7000000 7500000 8000000 8500000 9000000 9500000 10000000 10500000 11000000 11500000 12000000 12500000 13000000 13500000 14000000 14500000 15000000 15500000 16000000 16500000 17000000 17500000 18000000 18500000 19000000 19500000CPU times: user 25min 42s, sys: 4min, total: 29min 43s\n",
      "Wall time: 29min 49s\n",
      "\n",
      "nTile 1\n",
      "40000000\n",
      "72445\n",
      "0 500000 1000000 1500000 2000000 2500000 3000000 3500000 4000000 4500000 5000000 5500000 6000000 6500000 7000000 7500000 8000000 8500000 9000000 9500000 10000000 10500000 11000000 11500000 12000000 12500000 13000000 13500000 14000000 14500000 15000000 15500000 16000000 16500000 17000000 17500000 18000000 18500000 19000000 19500000CPU times: user 25min 41s, sys: 4min, total: 29min 42s\n",
      "Wall time: 29min 47s\n",
      "\n",
      "nTile 2\n",
      "60000000\n",
      "73137\n",
      "0 500000 1000000 1500000 2000000 2500000 3000000 3500000 4000000 4500000 5000000 5500000 6000000 6500000 7000000 7500000 8000000 8500000 9000000 9500000 10000000 10500000 11000000 11500000 12000000 12500000 13000000 13500000 14000000 14500000 15000000 15500000 16000000 16500000 17000000 17500000 18000000 18500000 19000000 19500000CPU times: user 27min 37s, sys: 4min 17s, total: 31min 55s\n",
      "Wall time: 2h 1min 37s\n",
      "\n",
      "nTile 3\n",
      "80000000\n",
      "73551\n",
      "0 500000 1000000 1500000 2000000 2500000 3000000 3500000 4000000 4500000 5000000 5500000 6000000 6500000 7000000 7500000 8000000 8500000 9000000 9500000 10000000 10500000 11000000 11500000 12000000 12500000 13000000 13500000 14000000 14500000 15000000 15500000 16000000 16500000 17000000 17500000 18000000 18500000 19000000 19500000CPU times: user 28min 36s, sys: 4min 25s, total: 33min 2s\n",
      "Wall time: 33min 53s\n",
      "\n",
      "nTile 4\n",
      "100000000\n",
      "73840\n",
      "0 500000 1000000 1500000 2000000 2500000 3000000 3500000 4000000 4500000 5000000 5500000 6000000 6500000 7000000 7500000 8000000 8500000 9000000 9500000 10000000 10500000 11000000 11500000 12000000 12500000 13000000 13500000 14000000 14500000 15000000 15500000 16000000 16500000 17000000 17500000 18000000 18500000 19000000 19500000CPU times: user 26min 33s, sys: 4min 9s, total: 30min 43s\n",
      "Wall time: 1h 24min 41s\n",
      "\n",
      "nTile 5\n",
      "120000000\n",
      "74070\n",
      "0 500000 1000000 1500000 2000000 2500000 3000000 3500000 4000000 4500000 5000000 5500000 6000000 6500000 7000000 7500000 8000000 8500000 9000000 9500000 10000000 10500000 11000000 11500000 12000000 12500000 13000000 13500000 14000000 14500000 15000000 15500000 16000000 16500000 17000000 17500000 18000000 18500000 19000000 19500000CPU times: user 25min 46s, sys: 4min 3s, total: 29min 49s\n",
      "Wall time: 46min 25s\n",
      "\n",
      "nTile 6\n",
      "140000000\n",
      "74242\n",
      "0 500000 1000000 1500000 2000000 2500000 3000000 3500000 4000000 4500000 5000000 5500000 6000000 6500000 7000000 7500000 8000000 8500000 9000000 9500000 10000000 10500000 11000000 11500000 12000000 12500000 13000000 13500000 14000000 14500000 15000000 15500000 16000000 16500000 17000000 17500000 18000000 18500000 19000000 19500000CPU times: user 26min 28s, sys: 4min 11s, total: 30min 39s\n",
      "Wall time: 2h 34min 48s\n",
      "\n",
      "nTile 7\n",
      "160000000\n",
      "74395\n",
      "0 500000 1000000 1500000 2000000 2500000 3000000 3500000 4000000 4500000 5000000 5500000 6000000 6500000 7000000 7500000 8000000 8500000 9000000 9500000 10000000 10500000 11000000 11500000 12000000 12500000 13000000 13500000 14000000 14500000 15000000 15500000 16000000 16500000 17000000 17500000 18000000 18500000 19000000 19500000CPU times: user 25min 40s, sys: 4min 6s, total: 29min 47s\n",
      "Wall time: 29min 53s\n",
      "\n",
      "nTile 8\n",
      "180000000\n",
      "74561\n",
      "0 500000 1000000 1500000 2000000 2500000 3000000 3500000 4000000 4500000 5000000 5500000 6000000 6500000 7000000 7500000 8000000 8500000 9000000 9500000 10000000 10500000 11000000 11500000 12000000 12500000 13000000 13500000 14000000 14500000 15000000 15500000 16000000 16500000 17000000 17500000 18000000 18500000 19000000 19500000CPU times: user 25min 36s, sys: 3min 59s, total: 29min 35s\n",
      "Wall time: 29min 42s\n",
      "\n",
      "nTile 9\n",
      "200000000\n",
      "74702\n"
     ]
    }
   ],
   "source": [
    "for nTile in range(nTiles):\n",
    "    %time tirage2triage(tirage[nTile*portion:(nTile+1)*portion])\n",
    "    print\n",
    "    print \"nTile\",nTile\n",
    "    print lexique[lexique[\"tir1\"]!=0][\"tir1\"].sum()\n",
    "    print lexique[lexique[\"tir1\"]!=0][\"tir1\"].count()\n",
    "    "
   ]
  },
  {
   "cell_type": "code",
   "execution_count": 13,
   "metadata": {
    "collapsed": false
   },
   "outputs": [],
   "source": [
    "with open(\"/Users/gilles/ownCloud/Recherche/Boye/2015-Data/\"+tiragePrefix+echantillon+'-Tirage.pkl', 'wb') as output:\n",
    "    pickle.dump(lexique, output, pickle.HIGHEST_PROTOCOL)"
   ]
  },
  {
   "cell_type": "code",
   "execution_count": null,
   "metadata": {
    "collapsed": false
   },
   "outputs": [],
   "source": [
    "print lexique[lexique[\"tir1\"]!=0][\"tir1\"].sum()\n",
    "print lexique[lexique[\"tir1\"]!=0][\"tir1\"].count()"
   ]
  },
  {
   "cell_type": "code",
   "execution_count": null,
   "metadata": {
    "collapsed": false
   },
   "outputs": [],
   "source": []
  }
 ],
 "metadata": {
  "kernelspec": {
   "display_name": "Python 2",
   "language": "python",
   "name": "python2"
  },
  "language_info": {
   "codemirror_mode": {
    "name": "ipython",
    "version": 2
   },
   "file_extension": ".py",
   "mimetype": "text/x-python",
   "name": "python",
   "nbconvert_exporter": "python",
   "pygments_lexer": "ipython2",
   "version": "2.7.11"
  }
 },
 "nbformat": 4,
 "nbformat_minor": 0
}
