{
 "cells": [
  {
   "cell_type": "code",
   "execution_count": 159,
   "metadata": {
    "collapsed": true
   },
   "outputs": [],
   "source": [
    "# -*- coding: utf8 -*-\n",
    "from __future__ import print_function\n",
    "import codecs,glob\n",
    "import features\n",
    "import re\n",
    "import pandas as pd\n",
    "import numpy as np\n",
    "import matplotlib.pyplot as plt\n",
    "import itertools as it\n",
    "import networkx as nx\n",
    "import pickle\n",
    "from math import *\n",
    "debug=False"
   ]
  },
  {
   "cell_type": "code",
   "execution_count": 160,
   "metadata": {
    "collapsed": true
   },
   "outputs": [],
   "source": [
    "echantillonNumeros=[\"00\"]\n",
    "phonologicalMap=\"-X\"\n",
    "casesType=\"-X-Morphomes\"\n",
    "casesType=\"-X\""
   ]
  },
  {
   "cell_type": "code",
   "execution_count": 161,
   "metadata": {
    "collapsed": true
   },
   "outputs": [],
   "source": [
    "filePrefix=\"/Volumes/gilles/Transfert/Copies-iMac-GB/2015-Data/Longitudinales/\"\n",
    "sampleFiles=glob.glob(filePrefix+\"Longitudinal*Regles.pkl\")"
   ]
  },
  {
   "cell_type": "code",
   "execution_count": 162,
   "metadata": {},
   "outputs": [],
   "source": [
    "features.add_config('../bdlexique.ini')\n",
    "fs=features.FeatureSystem('phonemes')\n",
    "validPhonemes=list(fs.supremum.concept.extent)"
   ]
  },
  {
   "cell_type": "code",
   "execution_count": 163,
   "metadata": {
    "collapsed": true
   },
   "outputs": [],
   "source": [
    "neutralisationsNORD=(u\"6û\",u\"9ê\")\n",
    "neutralisationsSUD=(u\"e2o\",u\"E9O\")\n",
    "if phonologicalMap==\"-N\":\n",
    "    neutralisations=neutralisationsNORD\n",
    "elif phonologicalMap==\"-S\":\n",
    "    neutralisations=neutralisationsSUD\n",
    "else:\n",
    "    neutralisations=(u\"\",u\"\")\n",
    "    phonologicalMap=(\"-X\")\n",
    "bdlexiqueIn = unicode(u\"èò\"+neutralisations[0])\n",
    "bdlexiqueNum = [ord(char) for char in bdlexiqueIn]\n",
    "neutreOut = unicode(u\"EO\"+neutralisations[1])\n",
    "neutralise = dict(zip(bdlexiqueNum, neutreOut))"
   ]
  },
  {
   "cell_type": "code",
   "execution_count": 164,
   "metadata": {
    "collapsed": true
   },
   "outputs": [],
   "source": [
    "def recoder(chaine,table=neutralise):\n",
    "    if type(chaine)==str:\n",
    "        temp=unicode(chaine.decode('utf8')).translate(table)\n",
    "        result=temp.encode('utf8')\n",
    "    elif type(chaine)==unicode:\n",
    "        result=chaine.translate(table)\n",
    "    else:\n",
    "        result=chaine\n",
    "    return result"
   ]
  },
  {
   "cell_type": "code",
   "execution_count": 165,
   "metadata": {
    "collapsed": true
   },
   "outputs": [],
   "source": [
    "dierese={\"j\":\"ij\", \"w\":\"uw\",\"H\":\"yH\",\"i\":\"ij\",\"u\":\"uw\",\"y\":\"yH\"}"
   ]
  },
  {
   "cell_type": "code",
   "execution_count": 166,
   "metadata": {
    "collapsed": true
   },
   "outputs": [],
   "source": [
    "def checkFrench(prononciation):\n",
    "    if prononciation:\n",
    "        result=recoder(prononciation)\n",
    "        m=re.match(ur\"^.*([^ieèEaOouy926êôâ])[jwH]$\",result)\n",
    "        if m:\n",
    "            print (\"pb avec un glide final\", prononciation)\n",
    "        m=re.match(ur\"(.*[ptkbdgfsSvzZ][rl])([jwH])(.*)\",result)\n",
    "        if m:\n",
    "            n=re.search(ur\"[ptkbdgfsSvzZ][rl](wa|Hi|wê)\",result)\n",
    "            if not n:\n",
    "                glide=m.group(2)\n",
    "                result=m.group(1)+dierese[glide]+m.group(3)\n",
    "        m=re.match(ur\"(.*)([iuy])([ieEaOouy].*)\",result)\n",
    "        if m:\n",
    "            glide=m.group(2)\n",
    "            result=m.group(1)+dierese[glide]+m.group(3)\n",
    "    else:\n",
    "        result=prononciation\n",
    "    return result"
   ]
  },
  {
   "cell_type": "code",
   "execution_count": 167,
   "metadata": {
    "collapsed": true
   },
   "outputs": [],
   "source": [
    "def remplacementSortie(sortie):\n",
    "    n=1\n",
    "    nsortie=\"\"\n",
    "    for lettre in sortie:\n",
    "        if lettre==\".\":\n",
    "            nsortie+=\"\\g<%d>\"%n\n",
    "            n+=1\n",
    "        else:\n",
    "            nsortie+=lettre\n",
    "    return nsortie"
   ]
  },
  {
   "cell_type": "code",
   "execution_count": 168,
   "metadata": {
    "collapsed": true
   },
   "outputs": [],
   "source": [
    "class formesPatron:\n",
    "    '''\n",
    "    Accumulateur de formes correspondant à un patron pour calcul de la Généralisation Minimale (cf. MGL)\n",
    "    '''\n",
    "    def __init__(self):\n",
    "        self.formes=[]\n",
    "\n",
    "#    def __repr__(self):\n",
    "#        return ','.join(self.calculerGM())\n",
    "        \n",
    "    def ajouterForme(self,forme):\n",
    "        self.formes.append(forme)\n",
    "        \n",
    "    def calculerGM(self):\n",
    "        minLongueur=len(min(self.formes, key=len))\n",
    "        maxLongueur=len(max(self.formes, key=len))\n",
    "        if debug: print (minLongueur, maxLongueur, file=logfile)\n",
    "        positions=[]\n",
    "        if maxLongueur>minLongueur:\n",
    "            positions.append(\"*\")\n",
    "        for i in xrange(minLongueur, 0, -1):\n",
    "            phonemes=set([x[-i] for x in self.formes])\n",
    "            if debug: print (phonemes, file=logfile)\n",
    "            if \".\" in phonemes:\n",
    "                positions.append(\".\")\n",
    "            else:\n",
    "                positions.append(\"\".join(fs.lattice[phonemes].extent))\n",
    "        return patron2regexp(positions)\n",
    "\n",
    "class pairePatrons:\n",
    "    '''\n",
    "    Accumulateur de triplets (f1,f2,patron) correspondant à une paire pour calcul des Généralisations Minimales (cf. MGL)\n",
    "    '''\n",
    "    def __init__(self,case1,case2):\n",
    "        self.patrons1={}\n",
    "        self.patrons2={}\n",
    "        self.case1=case1\n",
    "        self.case2=case2\n",
    "\n",
    "#    def __repr__(self):\n",
    "#        return ','.join(self.calculerGM())\n",
    "        \n",
    "    def ajouterFormes(self,forme1,forme2,patron):\n",
    "#        print (forme1,forme2,patron, file=logfile)\n",
    "        patron12=patron\n",
    "        (pat1,pat2)=patron.split(\"-\")\n",
    "        patron21=pat2+\"-\"+pat1\n",
    "#        print (patron12,patron21, file=logfile)\n",
    "        if not patron12 in self.patrons1:\n",
    "            self.patrons1[patron12]=formesPatron()\n",
    "        self.patrons1[patron12].ajouterForme(forme1)\n",
    "        if not patron21 in self.patrons2:\n",
    "            self.patrons2[patron21]=formesPatron()\n",
    "        self.patrons2[patron21].ajouterForme(forme2)\n",
    "        \n",
    "        \n",
    "    def calculerGM(self):\n",
    "        resultat1={}\n",
    "        for patron in self.patrons1:\n",
    "            if debug: print (\"patron1\", patron, file=logfile)\n",
    "            resultat1[patron]=self.patrons1[patron].calculerGM()\n",
    "        resultat2={}\n",
    "        for patron in self.patrons2:\n",
    "            if debug: print (\"patron2\", patron, file=logfile)\n",
    "            resultat2[patron]=self.patrons2[patron].calculerGM()\n",
    "        return (resultat1,resultat2) "
   ]
  },
  {
   "cell_type": "code",
   "execution_count": 169,
   "metadata": {
    "collapsed": true
   },
   "outputs": [],
   "source": [
    "class paireClasses:\n",
    "    def __init__(self,case1,case2):\n",
    "        self.case1=case1\n",
    "        self.case2=case2\n",
    "        self.nom=case1+\"-\"+case2\n",
    "        self.classes1=classesPaire(case1,case2)\n",
    "        self.classes2=classesPaire(case2,case1)\n",
    "\n",
    "    def ajouterPatron(self,n,patron,motif):\n",
    "        if n==1:\n",
    "            self.classes1.ajouterPatron(patron,motif)\n",
    "        elif n==2:\n",
    "            self.classes2.ajouterPatron(patron,motif)\n",
    "        else:\n",
    "            if debug: print (\"le numéro de forme n'est pas dans [1,2]\",n, file=logfile)\n",
    "\n",
    "    def ajouterPaire(self,forme1,forme2):\n",
    "        self.classes1.ajouterPaire(forme1,forme2)\n",
    "        self.classes2.ajouterPaire(forme2,forme1)\n",
    "        \n",
    "    def calculerClasses(self):\n",
    "        return(self.classes1,self.classes2)\n",
    "\n",
    "    \n",
    "class classesPaire:\n",
    "    '''\n",
    "    Gestion des patrons, des classes et des transformations\n",
    "    \n",
    "    ajouterPatron : ajoute un patron et son motif associé (MGL)\n",
    "    ajouterPaire : ajoute une paire de formes, calcule la classe de la forme1 et la règle sélectionnée\n",
    "    sortirForme : cacule les formes de sortie correspondant à la forme1 avec leurs coefficients respectifs\n",
    "    '''\n",
    "    def __init__(self,case1,case2):\n",
    "        self.case1=case1\n",
    "        self.case2=case2\n",
    "        self.nom=case1+\"-\"+case2\n",
    "        self.classe={}\n",
    "        self.nbClasse={}\n",
    "        self.patrons={}\n",
    "        self.entree={}\n",
    "        self.sortie={}\n",
    "        self.classeCF={}\n",
    "        self.nbClasseCF={}\n",
    "    \n",
    "    def ajouterPatron(self,patron,motif):\n",
    "        self.patrons[patron]=motif\n",
    "        (entree,sortie)=patron.split(\"-\")\n",
    "        self.entree[patron]=entree.replace(u\".\",u\"(.)\")\n",
    "        self.sortie[patron]=remplacementSortie(sortie)\n",
    "    \n",
    "    def ajouterPaire(self,forme1,forme2):\n",
    "        '''\n",
    "        on calcule la classe de la paire idClasseForme et la règle sélectionnée\n",
    "        on incrémente le compteur de la classe et celui de la règle sélectionnée à l'intérieur de la classe\n",
    "        '''\n",
    "        classeFormeCF=[]\n",
    "        regleFormeCF=\"\"\n",
    "        classeForme=[]\n",
    "        regleForme=\"\"\n",
    "        for patron in self.patrons:\n",
    "            filterF1=\".*\"+patron.split(\"-\")[0]+\"$\"\n",
    "            if re.match(filterF1,forme1):\n",
    "                classeFormeCF.append(patron)\n",
    "                if forme2==re.sub(self.entree[patron]+\"$\",self.sortie[patron],forme1):\n",
    "                    regleFormeCF=patron\n",
    "            filterF1=self.patrons[patron]\n",
    "            if re.match(filterF1,forme1):\n",
    "                classeForme.append(patron)\n",
    "                '''\n",
    "                le +\"$\" permet de forcer l'alignement à droite pour les transformations suffixales\n",
    "                '''\n",
    "                if forme2==re.sub(self.entree[patron]+\"$\",self.sortie[patron],forme1):\n",
    "                    regleForme=patron\n",
    "        idClasseFormeCF=\", \".join(classeFormeCF)\n",
    "        if not idClasseFormeCF in self.classeCF:\n",
    "            self.classeCF[idClasseFormeCF]={}\n",
    "            self.nbClasseCF[idClasseFormeCF]=0\n",
    "        if not regleFormeCF in self.classeCF[idClasseFormeCF]:\n",
    "            self.classeCF[idClasseFormeCF][regleFormeCF]=0\n",
    "        self.nbClasseCF[idClasseFormeCF]+=1\n",
    "        self.classeCF[idClasseFormeCF][regleFormeCF]+=1\n",
    "        \n",
    "        idClasseForme=\", \".join(classeForme)\n",
    "        if not idClasseForme in self.classe:\n",
    "            self.classe[idClasseForme]={}\n",
    "            self.nbClasse[idClasseForme]=0\n",
    "        if not regleForme in self.classe[idClasseForme]:\n",
    "            self.classe[idClasseForme][regleForme]=0\n",
    "        self.nbClasse[idClasseForme]+=1\n",
    "        self.classe[idClasseForme][regleForme]+=1\n",
    "\n",
    "    def sortirForme(self,forme,contextFree=False):\n",
    "        classeForme=[]\n",
    "        sortieForme={}\n",
    "        for patron in self.patrons:\n",
    "            if contextFree:\n",
    "                filterF1=\".*\"+patron.split(\"-\")[0]+\"$\"\n",
    "            else:\n",
    "                filterF1=self.patrons[patron]\n",
    "            if re.match(filterF1,forme):\n",
    "                classeForme.append(patron)\n",
    "        if classeForme:\n",
    "            idClasseForme=\", \".join(classeForme)\n",
    "            if contextFree:\n",
    "                nbClasse=self.nbClasseCF\n",
    "                classe=self.classeCF\n",
    "            else:\n",
    "                nbClasse=self.nbClasse\n",
    "                classe=self.classe\n",
    "            if idClasseForme in nbClasse:\n",
    "                nTotal=nbClasse[idClasseForme]\n",
    "                for patron in classe[idClasseForme]:\n",
    "                    sortie=re.sub(self.entree[patron]+\"$\",self.sortie[patron],forme)\n",
    "                    sortieForme[sortie]=float(classe[idClasseForme][patron])/nTotal\n",
    "            else:\n",
    "                if debug: \n",
    "                    print (forme, file=logfile)\n",
    "                    print (\"pas de classe\",idClasseForme, file=logfile)\n",
    "                    print (\"%.2f par forme de sortie\" % (float(1)/len(classeForme)), file=logfile)\n",
    "                nTotal=len(classeForme)\n",
    "                for patron in classeForme:\n",
    "                    sortie=re.sub(self.entree[patron]+\"$\",self.sortie[patron],forme)\n",
    "                    sortieForme[sortie]=float(1)/nTotal\n",
    "        else:\n",
    "            if debug:\n",
    "                print (forme, file=logfile) \n",
    "                print (\"pas de patron\", file=logfile)\n",
    "        return sortieForme\n",
    "        "
   ]
  },
  {
   "cell_type": "code",
   "execution_count": 170,
   "metadata": {
    "collapsed": true
   },
   "outputs": [],
   "source": [
    "def lireRegles(nomRegles):\n",
    "    with open(nomRegles, 'rb') as input:\n",
    "        regles=pickle.load(input)\n",
    "    return regles"
   ]
  },
  {
   "cell_type": "code",
   "execution_count": 171,
   "metadata": {
    "collapsed": true
   },
   "outputs": [],
   "source": [
    "def nomEchantillon(numero,casesType=\"-X\"):\n",
    "    candidats=set()\n",
    "    for sample in sampleFiles:\n",
    "        m=re.match(ur\"^.*/(Longitudinal-%s-T\\d+-F\\d+)%s-Regles\\.pkl\"%(numero,casesType),sample)\n",
    "        if m:\n",
    "            candidats.add(sample)\n",
    "    if len(candidats)==1:\n",
    "        return list(candidats)[0]\n",
    "    else:\n",
    "        print (\"PB pas de nom unique correspondant\",candidats)"
   ]
  },
  {
   "cell_type": "code",
   "execution_count": 201,
   "metadata": {},
   "outputs": [],
   "source": [
    "nomRegles=nomEchantillon(\"129\",\"-X-Morphomes\")\n",
    "regles=lireRegles(nomRegles)"
   ]
  },
  {
   "cell_type": "code",
   "execution_count": 202,
   "metadata": {
    "collapsed": true
   },
   "outputs": [],
   "source": [
    "def classeUnique(classe,debug=False):\n",
    "    if debug: print (classe)\n",
    "    unique=True\n",
    "    for  c in classe:\n",
    "        nbOut=0\n",
    "        for e in classe[c]:\n",
    "            if classe[c][e]!=0:\n",
    "                nbOut+=1\n",
    "        if nbOut!=1:\n",
    "            unique=False\n",
    "            break\n",
    "    return unique"
   ]
  },
  {
   "cell_type": "code",
   "execution_count": 203,
   "metadata": {},
   "outputs": [
    {
     "name": "stdout",
     "output_type": "stream",
     "text": [
      "{u'6rE-asj\\xf4': {u'6rE-asj\\xf4': 1}, u'6rE-j\\xf4': {u'6rE-j\\xf4': 21}, u'drE-lj\\xf4': {u'drE-lj\\xf4': 1}, u'OrE-Ej\\xf4': {u'OrE-Ej\\xf4': 1}, u'urE-Hisj\\xf4': {u'urE-Hisj\\xf4': 1}, u'rE-j\\xf4': {u'rE-j\\xf4': 4}, u'rE-j\\xf4, j\\xeadrE-6nj\\xf4': {u'j\\xeadrE-6nj\\xf4': 1}, u'6rE-waj\\xf4': {u'6rE-waj\\xf4': 1}, u'OrE-aSj\\xf4': {u'OrE-aSj\\xf4': 1}, u'irE-j\\xf4': {u'irE-j\\xf4': 1}}\n"
     ]
    },
    {
     "data": {
      "text/plain": [
       "True"
      ]
     },
     "execution_count": 203,
     "metadata": {},
     "output_type": "execute_result"
    }
   ],
   "source": [
    "classeUnique(regles[(\"fi1S\",\"ps1P\")].classe,True)"
   ]
  },
  {
   "cell_type": "markdown",
   "metadata": {},
   "source": [
    "# Espaces thématiques"
   ]
  },
  {
   "cell_type": "markdown",
   "metadata": {},
   "source": [
    "- Les paires de cases ayant une seule règle associée sont reliées\n",
    "- Les paires avec une entropie de 0 sont reliées"
   ]
  },
  {
   "cell_type": "code",
   "execution_count": 204,
   "metadata": {},
   "outputs": [],
   "source": [
    "def findClique(cliques,remElement=\"node\"):\n",
    "    pNodes=set()\n",
    "\n",
    "    sCliques=sorted(cliques, key=len, reverse=True)\n",
    "\n",
    "    cliqueFound=sorted(sCliques[0])\n",
    "    pNodes=pNodes|set(sCliques[0])\n",
    "\n",
    "    if remElement==\"clique\":\n",
    "        removeCliques=[]\n",
    "        for clique in sCliques:\n",
    "            sClique=set(clique)\n",
    "            if set.intersection(pNodes,sClique):\n",
    "                removeCliques.append(clique)\n",
    "        for clique in removeCliques:\n",
    "            sCliques.remove(clique)\n",
    "    elif remElement==\"node\":\n",
    "        newCliques=[]\n",
    "        for clique in sCliques:\n",
    "            sClique=set(clique)\n",
    "            diffClique=list(sClique-set.intersection(pNodes,sClique))\n",
    "            if diffClique:\n",
    "                newCliques.append(diffClique)               \n",
    "#            print \"sortie\",newCliques\n",
    "        sCliques=sorted(newCliques,key=len,reverse=True)\n",
    "    else:\n",
    "        print (\"remElement non prévu\")\n",
    "    return (cliqueFound,sCliques)"
   ]
  },
  {
   "cell_type": "code",
   "execution_count": 205,
   "metadata": {},
   "outputs": [],
   "source": [
    "circulationSS=nx.DiGraph()\n",
    "circulationNE=nx.DiGraph()\n",
    "for (cellIn,cellOut) in regles:\n",
    "    if len(regles[(cellIn,cellOut)].patrons)==1:\n",
    "        circulationSS.add_edge(cellIn,cellOut)\n",
    "    if classeUnique(regles[(cellIn,cellOut)].classe):\n",
    "        circulationNE.add_edge(cellIn,cellOut)"
   ]
  },
  {
   "cell_type": "code",
   "execution_count": 206,
   "metadata": {},
   "outputs": [
    {
     "data": {
      "text/plain": [
       "[[u'ai1P', u'ai2P', u'ai2S', u'is1P', u'is1S', u'is2P'],\n",
       " [u'ps1P', u'ps2P'],\n",
       " [u'ai1S', u'ai3P'],\n",
       " [u'ii1P'],\n",
       " [u'pP'],\n",
       " [u'ppFP'],\n",
       " [u'pc1P'],\n",
       " [u'pI1P'],\n",
       " [u'ppMP'],\n",
       " [u'ii2P'],\n",
       " [u'inf']]"
      ]
     },
     "execution_count": 206,
     "metadata": {},
     "output_type": "execute_result"
    }
   ],
   "source": [
    "espaceSS=nx.Graph()\n",
    "for (cellIn,cellOut) in circulationSS.edges():\n",
    "    if (cellOut,cellIn) in circulationSS.edges():\n",
    "        espaceSS.add_edge(cellIn,cellOut)\n",
    "#espace.edges()\n",
    "cliquesSS=list(nx.find_cliques(espaceSS))\n",
    "sCliquesSS=sorted(cliquesSS, key=len, reverse=True)\n",
    "foundCliquesSS=[]\n",
    "while sCliquesSS:\n",
    "    foundCliqueSS,sCliquesSS=findClique(sCliquesSS)\n",
    "    foundCliquesSS.append(foundCliqueSS)\n",
    "foundCliquesSS"
   ]
  },
  {
   "cell_type": "code",
   "execution_count": 214,
   "metadata": {},
   "outputs": [
    {
     "data": {
      "text/plain": [
       "[[u'ai1P', u'ai1S', u'ai2P', u'ai2S', u'ai3P', u'is1P', u'is1S', u'is2P'],\n",
       " [u'ii1P', u'ii2P', u'ps1P', u'ps2P'],\n",
       " [u'pI1P', u'pP'],\n",
       " [u'pc1P'],\n",
       " [u'ii1S'],\n",
       " [u'pi1P'],\n",
       " [u'pi2P'],\n",
       " [u'inf'],\n",
       " [u'pc3P'],\n",
       " [u'pi3P'],\n",
       " [u'pi2S'],\n",
       " [u'fi1P'],\n",
       " [u'pc2P'],\n",
       " [u'fi1S'],\n",
       " [u'pi1S'],\n",
       " [u'pi3S'],\n",
       " [u'pI2S'],\n",
       " [u'fi2P'],\n",
       " [u'fi2S'],\n",
       " [u'ps1S'],\n",
       " [u'ppMP'],\n",
       " [u'ppFP'],\n",
       " [u'pI2P']]"
      ]
     },
     "execution_count": 214,
     "metadata": {},
     "output_type": "execute_result"
    }
   ],
   "source": [
    "espaceNE=nx.Graph()\n",
    "for (cellIn,cellOut) in circulationNE.edges():\n",
    "    if (cellOut,cellIn) in circulationNE.edges():\n",
    "        espaceNE.add_edge(cellIn,cellOut)\n",
    "#espace.edges()\n",
    "cliquesNE=list(nx.find_cliques(espaceNE))\n",
    "sCliquesNE=sorted(cliquesNE, key=len, reverse=True)\n",
    "foundCliquesNE=[]\n",
    "while sCliquesNE:\n",
    "    foundCliqueNE,sCliquesNE=findClique(sCliquesNE)\n",
    "    foundCliquesNE.append(foundCliqueNE)\n",
    "foundCliquesNE"
   ]
  },
  {
   "cell_type": "code",
   "execution_count": 207,
   "metadata": {
    "collapsed": true
   },
   "outputs": [],
   "source": [
    "#https://stackoverflow.com/questions/9213797/graphviz-drawing-maximal-cliques\n",
    "\n",
    "def draw_circle_around_clique(clique,coords):\n",
    "    dist=0\n",
    "    temp_dist=0\n",
    "    center=[0 for i in range(2)]\n",
    "    color=colors.next()\n",
    "    for a in clique:\n",
    "        for b in clique:\n",
    "            temp_dist=(coords[a][0]-coords[b][0])**2+(coords[a][1]-coords[b][1])**2\n",
    "            if temp_dist>dist:\n",
    "                dist=temp_dist\n",
    "                for i in range(2):\n",
    "                    center[i]=(coords[a][i]+coords[b][i])/2\n",
    "    rad=dist**0.5/2\n",
    "    cir = plt.Circle((center[0],center[1]),   radius=rad*1.3,fill=False,color=color,hatch=hatches.next())\n",
    "    plt.gca().add_patch(cir)\n",
    "    plt.axis('scaled')\n",
    "    # return color of the circle, to use it as the color for vertices of the cliques\n",
    "    return color\n",
    "\n",
    "global colors, hatches\n",
    "#colors=it.cycle('bgrcmyk')# blue, green, red, ...\n",
    "colors=it.cycle('bgcmyk')# blue, green, red, ...\n",
    "hatches=it.cycle('/\\|-+*')\n"
   ]
  },
  {
   "cell_type": "code",
   "execution_count": 222,
   "metadata": {},
   "outputs": [
    {
     "name": "stdout",
     "output_type": "stream",
     "text": [
      "Clique to appear:  [u'ai1P', u'ai2P', u'ai2S', u'is1P', u'is1S', u'is2P']\n",
      "Clique to appear:  [u'ps1P', u'ps2P']\n",
      "Clique to appear:  [u'ai1S', u'ai3P']\n"
     ]
    },
    {
     "data": {
      "image/png": "[encoded data removed]",
      "text/plain": [
       "<matplotlib.figure.Figure at 0x150d32cb10>"
      ]
     },
     "metadata": {},
     "output_type": "display_data"
    }
   ],
   "source": [
    "E=espaceSS\n",
    "# remove \"len(clique)>2\" if you're interested in maxcliques with 2 edges\n",
    "cliques=[clique for clique in foundCliquesSS if len(clique)>1]\n",
    "nodes=[n for clique in cliques for n in clique]\n",
    "\n",
    "G=E.subgraph(nodes)\n",
    "coords=nx.shell_layout(G,scale=500)\n",
    "coords=nx.spring_layout(G,pos=coords,k=3000,scale=3)\n",
    "#print (coords)\n",
    "#nx.rescale_layout(coords,scale=3)\n",
    "\n",
    "#draw the graph\n",
    "nx.draw_networkx(G,pos=coords,node_size=1000)\n",
    "#labels={n:n for n in list(G.nodes)}\n",
    "#nx.draw_networkx_labels(G,coords,labels,font_size=10)\n",
    "for clique in cliques:\n",
    "    print (\"Clique to appear: \",clique)\n",
    "#    nx.draw_networkx_nodes(G,pos=coords,nodelist=clique,node_color=draw_circle_around_clique(clique,coords))\n",
    "    nx.draw_networkx_nodes(G,pos=coords,nodelist=clique,node_size=1000,node_color=colors.next())\n",
    "plt.show()"
   ]
  },
  {
   "cell_type": "code",
   "execution_count": 226,
   "metadata": {},
   "outputs": [
    {
     "name": "stdout",
     "output_type": "stream",
     "text": [
      "Clique to appear:  [u'ai1P', u'ai1S', u'ai2P', u'ai2S', u'ai3P', u'is1P', u'is1S', u'is2P']\n",
      "Clique to appear:  [u'ii1P', u'ii2P', u'ps1P', u'ps2P']\n",
      "Clique to appear:  [u'pI1P', u'pP']\n"
     ]
    },
    {
     "data": {
      "image/png": "[encoded data removed]",
      "text/plain": [
       "<matplotlib.figure.Figure at 0x1044265d0>"
      ]
     },
     "metadata": {},
     "output_type": "display_data"
    }
   ],
   "source": [
    "E=espaceNE\n",
    "# remove \"len(clique)>2\" if you're interested in maxcliques with 2 edges\n",
    "cliques=[clique for clique in foundCliquesNE if len(clique)>1]\n",
    "nodes=[n for clique in cliques for n in clique]\n",
    "\n",
    "G=E.subgraph(nodes)\n",
    "coords=nx.shell_layout(G,scale=10000)\n",
    "coords=nx.spring_layout(G,pos=coords,k=5000,scale=3)\n",
    "#print (coords)\n",
    "#nx.rescale_layout(coords,scale=3)\n",
    "\n",
    "#draw the graph\n",
    "nx.draw_networkx(G,pos=coords,node_size=1000)\n",
    "#labels={n:n for n in list(G.nodes)}\n",
    "#nx.draw_networkx_labels(G,coords,labels,font_size=10)\n",
    "for clique in cliques:\n",
    "    print (\"Clique to appear: \",clique)\n",
    "#    nx.draw_networkx_nodes(G,pos=coords,nodelist=clique,node_color=draw_circle_around_clique(clique,coords))\n",
    "    nx.draw_networkx_nodes(G,pos=coords,nodelist=clique,node_size=1000,node_color=colors.next())\n",
    "plt.show()"
   ]
  },
  {
   "cell_type": "code",
   "execution_count": 196,
   "metadata": {},
   "outputs": [
    {
     "data": {
      "text/plain": [
       "EdgeView([(u'is1S', u'ai3S'), (u'is1S', u'is2S'), (u'is1S', u'is2P'), (u'is1S', u'is1S'), (u'is1S', u'is1P'), (u'is1S', u'ai2P'), (u'is1S', u'ai2S'), (u'is1S', u'is3P'), (u'is1S', u'is3S'), (u'is1S', u'ai1P'), (u'ii1S', u'ii2S'), (u'ii1S', u'ii1S'), (u'ii1S', u'ii3P'), (u'ai3S', u'ai3S'), (u'ai3S', u'is2S'), (u'ai3S', u'is2P'), (u'ai3S', u'is1P'), (u'ai3S', u'ai2P'), (u'ai3S', u'ai2S'), (u'ai3S', u'is3P'), (u'ai3S', u'is3S'), (u'ai3S', u'ai1P'), (u'is3P', u'ai2P'), (u'is3P', u'is2S'), (u'is3P', u'is2P'), (u'is3P', u'is1P'), (u'is3P', u'ai2S'), (u'is3P', u'is3P'), (u'is3P', u'is3S'), (u'is3P', u'ai1P'), (u'is3S', u'is2S'), (u'is3S', u'is2P'), (u'is3S', u'is1P'), (u'is3S', u'ai2P'), (u'is3S', u'ai2S'), (u'is3S', u'is3S'), (u'is3S', u'ai1P'), (u'ai1P', u'ai2P'), (u'ai1P', u'is2S'), (u'ai1P', u'is2P'), (u'ai1P', u'is1P'), (u'ai1P', u'ai2S'), (u'ai1P', u'ai1P'), (u'ii3P', u'ii2S'), (u'ii3P', u'ii3P'), (u'ps1P', u'ps1P'), (u'ps1P', u'ps2P'), (u'is2S', u'is2S'), (u'is2S', u'is2P'), (u'is2S', u'is1P'), (u'is2S', u'ai2P'), (u'is2S', u'ai2S'), (u'is2P', u'ai2P'), (u'is2P', u'is2P'), (u'is2P', u'is1P'), (u'is2P', u'ai2S'), (u'ps2P', u'ps2P'), (u'ai2P', u'ai2P'), (u'ai2P', u'is1P'), (u'ai2P', u'ai2S'), (u'ai2S', u'is1P'), (u'ai2S', u'ai2S'), (u'ai1S', u'ai1S'), (u'ai1S', u'ai3P'), (u'ii2S', u'ii2S'), (u'is1P', u'is1P'), (u'ai3P', u'ai3P')])"
      ]
     },
     "execution_count": 196,
     "metadata": {},
     "output_type": "execute_result"
    }
   ],
   "source": [
    "G.edges()"
   ]
  },
  {
   "cell_type": "code",
   "execution_count": null,
   "metadata": {
    "collapsed": true
   },
   "outputs": [],
   "source": []
  },
  {
   "cell_type": "code",
   "execution_count": null,
   "metadata": {
    "collapsed": true
   },
   "outputs": [],
   "source": []
  }
 ],
 "metadata": {
  "kernelspec": {
   "display_name": "Python 2",
   "language": "python",
   "name": "python2"
  },
  "language_info": {
   "codemirror_mode": {
    "name": "ipython",
    "version": 2
   },
   "file_extension": ".py",
   "mimetype": "text/x-python",
   "name": "python",
   "nbconvert_exporter": "python",
   "pygments_lexer": "ipython2",
   "version": "2.7.11"
  }
 },
 "nbformat": 4,
 "nbformat_minor": 2
}
