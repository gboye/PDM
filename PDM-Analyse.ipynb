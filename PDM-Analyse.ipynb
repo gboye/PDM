{
 "metadata": {
  "name": "",
  "signature": "sha256:c3f80c95f965e874318651aaf87ccb79a559f8ddf0ccfb041822321ca415ef35"
 },
 "nbformat": 3,
 "nbformat_minor": 0,
 "worksheets": [
  {
   "cells": [
    {
     "cell_type": "code",
     "collapsed": false,
     "input": [
      "from PDM import *\n",
      "import re\n",
      "import pickle\n",
      "from __future__ import print_function"
     ],
     "language": "python",
     "metadata": {},
     "outputs": []
    },
    {
     "cell_type": "markdown",
     "metadata": {},
     "source": [
      "Le format PredSPE8 demande une adaptation pour les r\u00e8gles et pour la transformation des formes."
     ]
    },
    {
     "cell_type": "code",
     "collapsed": false,
     "input": [
      "filePrefix=\"/Users/gilles/Copy/Recherche/14-Lausanne/data/\"\n",
      "classFormat=\"^.*\u2014(.+)%(?:\\s\\(([^,]*),.*|)$\"\n",
      "#classFormat=\"^\\s*:\\s*(\\d+)\\s*(\\(([^,]*),.*\\)|)$\""
     ],
     "language": "python",
     "metadata": {},
     "outputs": []
    },
    {
     "cell_type": "markdown",
     "metadata": {},
     "source": [
      "##Interface avec la sortie de PredSPE\n",
      "\n",
      "###Lecture des r\u00e8gles\n",
      "- On ouvre le fichier de r\u00e8gles PredSPE\n",
      "- On initialise les drapeaux *zoneRegles*, *zoneClasses* et *zoneClasse*\n",
      " - *zoneRegles* est vrai quand la ligne courante est une r\u00e8gle\n",
      "  - True apr\u00e8s *debutRegles* (\"Inferring rules\")\n",
      "- Les r\u00e8gles sont transform\u00e9es en expression r\u00e9guli\u00e8res.\n",
      "- *analyse* contient la liste des r\u00e8gles\n",
      " - c'est un objet du type Regles\n",
      "- *classification* contient les num\u00e9ros des r\u00e8gles utilis\u00e9es pour chaque paire de cases\n",
      " - c'est un objet du type Classes"
     ]
    },
    {
     "cell_type": "code",
     "collapsed": false,
     "input": [
      "analyse=Regles()\n",
      "classification=Classes()\n",
      "\n",
      "debutRegles=\"Inferring rules\"\n",
      "debutBloc=\"*****\"\n",
      "finRegles=\"done.\" # aussi \u00e0 la fin de la phonologie\n",
      "finClasses=\"conditional entropy for\"\n",
      "debutClasse=\"class\"\n",
      "finClasse=\"local conditional entropy\"\n",
      "\n",
      "def lirePredSPE(nomFichier):\n",
      "    try:\n",
      "        fichierPredSPE=open(nomFichier,\"r\")\n",
      "    except IOError:\n",
      "        print ('I could not open the file', nomFichier)\n",
      "        sys.exit()\n",
      "        \n",
      "    zoneRegles=False\n",
      "    zoneClasses=False\n",
      "    zoneClasse=False\n",
      "    \n",
      "    inCase=\"\"\n",
      "    outCase=\"\"\n",
      "    \n",
      "    for line in fichierPredSPE:\n",
      "        line=line.strip()\n",
      "        try:\n",
      "            (inCase,outCase)=parserPaire(line)\n",
      "            print (Paire(inCase,outCase),end=\" \")\n",
      "        except:\n",
      "            pass\n",
      "        if debutBloc in line:\n",
      "            zoneRegles=False\n",
      "            zoneClasses=False\n",
      "        if finRegles in line:\n",
      "            zoneRegles=False\n",
      "        if finClasses in line:\n",
      "            zoneClasses=False        \n",
      "            paireCase=\"\"\n",
      "            classification.addPaireClasses(Paire(inCase,outCase),paireClasses)\n",
      "        if zoneRegles:\n",
      "            analyse.addRegle(Paire(inCase,outCase),line)\n",
      "            paireClasses=PaireClasses(Paire(inCase,outCase))\n",
      "        if zoneClasses:\n",
      "            if finClasse in line:\n",
      "                zoneClasse=False\n",
      "                formeClasse.nom=formeClasse.getRules()\n",
      "                paireClasses.addFormeClasse(formeClasse)\n",
      "            if zoneClasse:\n",
      "                (inPatron, mod, reste)=parserRegle(line)\n",
      "                n=re.search(classFormat,reste)\n",
      "                if n:\n",
      "                    if n.group(2):\n",
      "                        exemple=n.group(2)\n",
      "                    else:\n",
      "                        exemple=\"\"\n",
      "                    formeClasse.addRule(RegleDist(analyse.getNumRegle(inPatron,mod),float(n.group(1)),\"\",exemple,True))\n",
      "                else:\n",
      "                    warnings.warn(\"%s : NO DISTRIBUTION IN %s\"%(line,reste))\n",
      "            if debutClasse in line:\n",
      "                zoneClasse=True\n",
      "                formeClasse=FormeClasse()\n",
      "        if debutRegles in line:\n",
      "            zoneRegles=True\n",
      "        if finRegles in line:\n",
      "            zoneClasses=True"
     ],
     "language": "python",
     "metadata": {},
     "outputs": []
    },
    {
     "cell_type": "markdown",
     "metadata": {},
     "source": [
      "###Boucle principale\n",
      "On lit le fichier de r\u00e8gles PredSPE et on remplit les r\u00e8gles dans *analyse* et les classes dans *classification*"
     ]
    },
    {
     "cell_type": "code",
     "collapsed": false,
     "input": [
      "%time lirePredSPE(filePrefix+\"vlexique-20140730.predspe8.log\")\n",
      "#lirePredSPE(\"./PDM-Rules.txt\")"
     ],
     "language": "python",
     "metadata": {},
     "outputs": []
    },
    {
     "cell_type": "markdown",
     "metadata": {},
     "source": [
      "###Sauver les r\u00e8gles et les classes\n",
      "Pickle permet de sauver un objet dans un fichier\n",
      "\n",
      "- Regles.pkl pour les r\u00e8gles\n",
      "- Classes.pkl pour les classes"
     ]
    },
    {
     "cell_type": "code",
     "collapsed": false,
     "input": [
      "with open(filePrefix+'Regles.pkl', 'wb') as output:\n",
      "   pickle.dump(analyse, output, pickle.HIGHEST_PROTOCOL)\n"
     ],
     "language": "python",
     "metadata": {},
     "outputs": []
    },
    {
     "cell_type": "code",
     "collapsed": false,
     "input": [
      "with open(filePrefix+'Classes.pkl', 'wb') as output:\n",
      "    pickle.dump(classification, output, pickle.HIGHEST_PROTOCOL)\n"
     ],
     "language": "python",
     "metadata": {},
     "outputs": []
    },
    {
     "cell_type": "code",
     "collapsed": false,
     "input": [
      "analyse=Regles()\n",
      "classification=Classes()"
     ],
     "language": "python",
     "metadata": {},
     "outputs": []
    },
    {
     "cell_type": "code",
     "collapsed": false,
     "input": [
      "with open(filePrefix+'Regles.pkl', 'rb') as input:\n",
      "    analyse = pickle.load(input)\n",
      "with open(filePrefix+'Classes.pkl', 'rb') as input:\n",
      "    classification = pickle.load(input)\n"
     ],
     "language": "python",
     "metadata": {},
     "outputs": []
    },
    {
     "cell_type": "code",
     "collapsed": false,
     "input": [
      "analyse.regles[:100]"
     ],
     "language": "python",
     "metadata": {},
     "outputs": []
    },
    {
     "cell_type": "code",
     "collapsed": false,
     "input": [
      "classification.classes[Paire(\"prs.3.sg\",\"ipfv.3.sg\")]"
     ],
     "language": "python",
     "metadata": {},
     "outputs": []
    },
    {
     "cell_type": "code",
     "collapsed": false,
     "input": [],
     "language": "python",
     "metadata": {},
     "outputs": []
    }
   ],
   "metadata": {}
  }
 ]
}