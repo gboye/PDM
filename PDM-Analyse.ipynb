{
 "metadata": {
  "name": "",
  "signature": "sha256:4dbba84be55d294fdf60d00cf8169518c83260eb3fea2135525deb1388503de1"
 },
 "nbformat": 3,
 "nbformat_minor": 0,
 "worksheets": [
  {
   "cells": [
    {
     "cell_type": "code",
     "collapsed": false,
     "input": [
      "from PDM import *\n",
      "import re\n",
      "import pickle"
     ],
     "language": "python",
     "metadata": {},
     "outputs": [],
     "prompt_number": 4
    },
    {
     "cell_type": "markdown",
     "metadata": {},
     "source": [
      "##Interface avec la sortie de PredSPE\n",
      "\n",
      "###Lecture des r\u00e8gles\n",
      "- On ouvre le fichier de r\u00e8gles PredSPE\n",
      "- On initialise les drapeaux *zoneRegles*, *zoneClasses* et *zoneClasse*\n",
      " - *zoneRegles* est vrai quand la ligne courante est une r\u00e8gle\n",
      "  - True apr\u00e8s *debutRegles* (\"Inferring rules\")\n",
      "- Les r\u00e8gles sont transform\u00e9es en expression r\u00e9guli\u00e8res.\n",
      "- *analyse* contient la liste des r\u00e8gles\n",
      " - c'est un objet du type Regles\n",
      "- *classification* contient les num\u00e9ros des r\u00e8gles utilis\u00e9es pour chaque paire de cases\n",
      " - c'est un objet du type Classes"
     ]
    },
    {
     "cell_type": "code",
     "collapsed": false,
     "input": [
      "analyse=Regles()\n",
      "classification=Classes()\n",
      "\n",
      "debutRegles=\"Inferring rules\"\n",
      "debutBloc=\"*****\"\n",
      "finRegles=\"done.\" # aussi \u00e0 la fin de la phonologie\n",
      "finClasses=\"conditional entropy for\"\n",
      "debutClasse=\"class\"\n",
      "finClasse=\"local conditional entropy\"\n",
      "\n",
      "def lirePredSPE(nomFichier):\n",
      "    try:\n",
      "        fichierPredSPE=open(nomFichier,\"r\")\n",
      "    except IOError:\n",
      "        print ('I could not open the file', nomFichier)\n",
      "        sys.exit()\n",
      "        \n",
      "    zoneRegles=False\n",
      "    zoneClasses=False\n",
      "    zoneClasse=False\n",
      "    \n",
      "    inCase=\"\"\n",
      "    outCase=\"\"\n",
      "    \n",
      "    for line in fichierPredSPE:\n",
      "        line=line.strip()\n",
      "        try:\n",
      "            (inCase,outCase)=parserPaire(line)\n",
      "            print (Paire(inCase,outCase),end=\" \")\n",
      "        except:\n",
      "            pass\n",
      "        if debutBloc in line:\n",
      "            zoneRegles=False\n",
      "            zoneClasses=False\n",
      "        if finRegles in line:\n",
      "            zoneRegles=False\n",
      "        if finClasses in line:\n",
      "            zoneClasses=False        \n",
      "            paireCase=\"\"\n",
      "            classification.addPaireClasses(Paire(inCase,outCase),paireClasses)\n",
      "        if zoneRegles:\n",
      "            analyse.addRegle(Paire(inCase,outCase),line)\n",
      "            paireClasses=PaireClasses(Paire(inCase,outCase))\n",
      "        if zoneClasses:\n",
      "            if finClasse in line:\n",
      "                zoneClasse=False\n",
      "                formeClasse.nom=formeClasse.getRules()\n",
      "                paireClasses.addFormeClasse(formeClasse)\n",
      "            if zoneClasse:\n",
      "                (inPatron, mod, reste)=parserRegle(line)\n",
      "                n=re.search(\"^.*\u2014(.+)%(?:\\s\\(([^,]*),.*|)$\",reste)\n",
      "                if n:\n",
      "                    if n.group(2):\n",
      "                        exemple=n.group(2)\n",
      "                    else:\n",
      "                        exemple=\"\"\n",
      "                    formeClasse.addRule(RegleDist(analyse.getNumRegle(inPatron,mod),float(n.group(1)),\"\",exemple,True))\n",
      "                else:\n",
      "                    warnings.warn(\"NO DISTRIBUTION IN %s\"%reste)\n",
      "            if debutClasse in line:\n",
      "                zoneClasse=True\n",
      "                formeClasse=FormeClasse()\n",
      "        if debutRegles in line:\n",
      "            zoneRegles=True\n",
      "        if finRegles in line:\n",
      "            zoneClasses=True"
     ],
     "language": "python",
     "metadata": {},
     "outputs": [],
     "prompt_number": 5
    },
    {
     "cell_type": "markdown",
     "metadata": {},
     "source": [
      "###Boucle principale\n",
      "On lit le fichier de r\u00e8gles PredSPE et on remplit les r\u00e8gles dans *analyse* et les classes dans *classification*"
     ]
    },
    {
     "cell_type": "code",
     "collapsed": false,
     "input": [
      "%time lirePredSPE(\"./PDM-AllRules-140821.txt\")\n",
      "# lirePredSPE(\"./PDM-Rules.txt\")"
     ],
     "language": "python",
     "metadata": {},
     "outputs": [
      {
       "output_type": "stream",
       "stream": "stdout",
       "text": [
        "ipf.1=>ipf.2 ipf.1=>ipf.3 ipf.1=>ipf.4 ipf.1=>ipf.5 ipf.1=>ipf.6 ipf.1=>prs.1 ipf.1=>prs.2 ipf.1=>prs.3 ipf.1=>prs.4 ipf.1=>prs.5 ipf.1=>prs.6 ipf.1=>imp.2 ipf.1=>imp.4 ipf.1=>imp.5 ipf.1=>sbjv.1 ipf.1=>sbjv.2"
       ]
      },
      {
       "output_type": "stream",
       "stream": "stdout",
       "text": [
        " ipf.1=>sbjv.3 ipf.1=>sbjv.4 ipf.1=>sbjv.5 ipf.1=>sbjv.6 ipf.1=>fut.1 ipf.1=>fut.2"
       ]
      },
      {
       "output_type": "stream",
       "stream": "stdout",
       "text": [
        " ipf.1=>fut.3 ipf.1=>fut.4"
       ]
      },
      {
       "output_type": "stream",
       "stream": "stdout",
       "text": [
        " ipf.1=>fut.5 ipf.1=>fut.6"
       ]
      },
      {
       "output_type": "stream",
       "stream": "stdout",
       "text": [
        " ipf.1=>cond.1 ipf.1=>cond.2 ipf.1=>cond.3"
       ]
      },
      {
       "output_type": "stream",
       "stream": "stdout",
       "text": [
        " ipf.1=>cond.4 ipf.1=>cond.5"
       ]
      },
      {
       "output_type": "stream",
       "stream": "stdout",
       "text": [
        " ipf.1=>cond.6 ipf.1=>pst.1 ipf.1=>pst.2"
       ]
      },
      {
       "output_type": "stream",
       "stream": "stdout",
       "text": [
        " ipf.1=>pst.3 ipf.1=>pst.4 ipf.1=>pst.5"
       ]
      },
      {
       "output_type": "stream",
       "stream": "stdout",
       "text": [
        " ipf.1=>pst.6 ipf.1=>pst.sbj.1 ipf.1=>pst.sbj.2"
       ]
      },
      {
       "output_type": "stream",
       "stream": "stdout",
       "text": [
        " ipf.1=>pst.sbj.3 ipf.1=>pst.sbj.4 ipf.1=>pst.sbj.5"
       ]
      },
      {
       "output_type": "stream",
       "stream": "stdout",
       "text": [
        " ipf.1=>pst.sbj.6 ipf.1=>inf"
       ]
      },
      {
       "output_type": "stream",
       "stream": "stdout",
       "text": [
        " ipf.1=>prs.pcp ipf.1=>pst.pcp ipf.2=>ipf.1"
       ]
      },
      {
       "output_type": "stream",
       "stream": "stdout",
       "text": [
        " ipf.2=>ipf.3 ipf.2=>ipf.4 ipf.2=>ipf.5 ipf.2=>ipf.6 ipf.2=>prs.1 ipf.2=>prs.2 ipf.2=>prs.3 ipf.2=>prs.4 ipf.2=>prs.5 ipf.2=>prs.6 ipf.2=>imp.2 ipf.2=>imp.4 ipf.2=>imp.5 ipf.2=>sbjv.1 ipf.2=>sbjv.2 ipf.2=>sbjv.3"
       ]
      },
      {
       "output_type": "stream",
       "stream": "stdout",
       "text": [
        " ipf.2=>sbjv.4 ipf.2=>sbjv.5 ipf.2=>sbjv.6 ipf.2=>fut.1 ipf.2=>fut.2 ipf.2=>fut.3 ipf.2=>fut.4"
       ]
      },
      {
       "output_type": "stream",
       "stream": "stdout",
       "text": [
        " ipf.2=>fut.5 ipf.2=>fut.6 ipf.2=>cond.1"
       ]
      },
      {
       "output_type": "stream",
       "stream": "stdout",
       "text": [
        " ipf.2=>cond.2 ipf.2=>cond.3 ipf.2=>cond.4 ipf.2=>cond.5"
       ]
      },
      {
       "output_type": "stream",
       "stream": "stdout",
       "text": [
        " ipf.2=>cond.6 ipf.2=>pst.1"
       ]
      },
      {
       "output_type": "stream",
       "stream": "stdout",
       "text": [
        " ipf.2=>pst.2 ipf.2=>pst.3 ipf.2=>pst.4"
       ]
      },
      {
       "output_type": "stream",
       "stream": "stdout",
       "text": [
        " ipf.2=>pst.5 ipf.2=>pst.6 ipf.2=>pst.sbj.1"
       ]
      },
      {
       "output_type": "stream",
       "stream": "stdout",
       "text": [
        " ipf.2=>pst.sbj.2 ipf.2=>pst.sbj.3"
       ]
      },
      {
       "output_type": "stream",
       "stream": "stdout",
       "text": [
        " ipf.2=>pst.sbj.4 ipf.2=>pst.sbj.5"
       ]
      },
      {
       "output_type": "stream",
       "stream": "stdout",
       "text": [
        " ipf.2=>pst.sbj.6 ipf.2=>inf"
       ]
      },
      {
       "output_type": "stream",
       "stream": "stdout",
       "text": [
        " ipf.2=>prs.pcp ipf.2=>pst.pcp ipf.3=>ipf.1"
       ]
      },
      {
       "output_type": "stream",
       "stream": "stdout",
       "text": [
        " ipf.3=>ipf.2 ipf.3=>ipf.4 ipf.3=>ipf.5 ipf.3=>ipf.6 ipf.3=>prs.1 ipf.3=>prs.2 ipf.3=>prs.3 ipf.3=>prs.4 ipf.3=>prs.5 ipf.3=>prs.6 ipf.3=>imp.2 ipf.3=>imp.4 ipf.3=>imp.5 ipf.3=>sbjv.1 ipf.3=>sbjv.2 ipf.3=>sbjv.3"
       ]
      },
      {
       "output_type": "stream",
       "stream": "stdout",
       "text": [
        " ipf.3=>sbjv.4 ipf.3=>sbjv.5 ipf.3=>sbjv.6 ipf.3=>fut.1 ipf.3=>fut.2 ipf.3=>fut.3"
       ]
      },
      {
       "output_type": "stream",
       "stream": "stdout",
       "text": [
        " ipf.3=>fut.4 ipf.3=>fut.5"
       ]
      },
      {
       "output_type": "stream",
       "stream": "stdout",
       "text": [
        " ipf.3=>fut.6 ipf.3=>cond.1 ipf.3=>cond.2"
       ]
      },
      {
       "output_type": "stream",
       "stream": "stdout",
       "text": [
        " ipf.3=>cond.3 ipf.3=>cond.4 ipf.3=>cond.5"
       ]
      },
      {
       "output_type": "stream",
       "stream": "stdout",
       "text": [
        " ipf.3=>cond.6 ipf.3=>pst.1 ipf.3=>pst.2"
       ]
      },
      {
       "output_type": "stream",
       "stream": "stdout",
       "text": [
        " ipf.3=>pst.3 ipf.3=>pst.4 ipf.3=>pst.5"
       ]
      },
      {
       "output_type": "stream",
       "stream": "stdout",
       "text": [
        " ipf.3=>pst.6 ipf.3=>pst.sbj.1"
       ]
      },
      {
       "output_type": "stream",
       "stream": "stdout",
       "text": [
        " ipf.3=>pst.sbj.2 ipf.3=>pst.sbj.3"
       ]
      },
      {
       "output_type": "stream",
       "stream": "stdout",
       "text": [
        " ipf.3=>pst.sbj.4 ipf.3=>pst.sbj.5 ipf.3=>pst.sbj.6"
       ]
      },
      {
       "output_type": "stream",
       "stream": "stdout",
       "text": [
        " ipf.3=>inf ipf.3=>prs.pcp"
       ]
      },
      {
       "output_type": "stream",
       "stream": "stdout",
       "text": [
        " ipf.3=>pst.pcp ipf.4=>ipf.1 ipf.4=>ipf.2 ipf.4=>ipf.3 ipf.4=>ipf.5 ipf.4=>ipf.6 ipf.4=>prs.1 ipf.4=>prs.2"
       ]
      },
      {
       "output_type": "stream",
       "stream": "stdout",
       "text": [
        " ipf.4=>prs.3"
       ]
      },
      {
       "output_type": "stream",
       "stream": "stdout",
       "text": [
        " ipf.4=>prs.4"
       ]
      },
      {
       "output_type": "stream",
       "stream": "stdout",
       "text": [
        " ipf.4=>prs.5 ipf.4=>prs.6 ipf.4=>imp.2 ipf.4=>imp.4"
       ]
      },
      {
       "output_type": "stream",
       "stream": "stdout",
       "text": [
        " ipf.4=>imp.5 ipf.4=>sbjv.1 ipf.4=>sbjv.2 ipf.4=>sbjv.3"
       ]
      },
      {
       "output_type": "stream",
       "stream": "stdout",
       "text": [
        " ipf.4=>sbjv.4 ipf.4=>sbjv.5 ipf.4=>sbjv.6 ipf.4=>fut.1"
       ]
      },
      {
       "output_type": "stream",
       "stream": "stdout",
       "text": [
        " ipf.4=>fut.2"
       ]
      },
      {
       "output_type": "stream",
       "stream": "stdout",
       "text": [
        " ipf.4=>fut.3"
       ]
      },
      {
       "output_type": "stream",
       "stream": "stdout",
       "text": [
        " ipf.4=>fut.4"
       ]
      },
      {
       "output_type": "stream",
       "stream": "stdout",
       "text": [
        " ipf.4=>fut.5"
       ]
      },
      {
       "output_type": "stream",
       "stream": "stdout",
       "text": [
        " ipf.4=>fut.6"
       ]
      },
      {
       "output_type": "stream",
       "stream": "stdout",
       "text": [
        " ipf.4=>cond.1"
       ]
      },
      {
       "output_type": "stream",
       "stream": "stdout",
       "text": [
        " ipf.4=>cond.2"
       ]
      },
      {
       "output_type": "stream",
       "stream": "stdout",
       "text": [
        " ipf.4=>cond.3"
       ]
      },
      {
       "output_type": "stream",
       "stream": "stdout",
       "text": [
        " ipf.4=>cond.4"
       ]
      },
      {
       "output_type": "stream",
       "stream": "stdout",
       "text": [
        " ipf.4=>cond.5"
       ]
      },
      {
       "output_type": "stream",
       "stream": "stdout",
       "text": [
        " ipf.4=>cond.6"
       ]
      },
      {
       "output_type": "stream",
       "stream": "stdout",
       "text": [
        " ipf.4=>pst.1"
       ]
      },
      {
       "output_type": "stream",
       "stream": "stdout",
       "text": [
        " ipf.4=>pst.2"
       ]
      },
      {
       "output_type": "stream",
       "stream": "stdout",
       "text": [
        " ipf.4=>pst.3"
       ]
      },
      {
       "output_type": "stream",
       "stream": "stdout",
       "text": [
        " ipf.4=>pst.4"
       ]
      },
      {
       "output_type": "stream",
       "stream": "stdout",
       "text": [
        " ipf.4=>pst.5"
       ]
      },
      {
       "output_type": "stream",
       "stream": "stdout",
       "text": [
        " ipf.4=>pst.6"
       ]
      },
      {
       "output_type": "stream",
       "stream": "stdout",
       "text": [
        " ipf.4=>pst.sbj.1"
       ]
      },
      {
       "output_type": "stream",
       "stream": "stdout",
       "text": [
        " ipf.4=>pst.sbj.2"
       ]
      },
      {
       "output_type": "stream",
       "stream": "stdout",
       "text": [
        " ipf.4=>pst.sbj.3"
       ]
      },
      {
       "output_type": "stream",
       "stream": "stdout",
       "text": [
        " ipf.4=>pst.sbj.4"
       ]
      },
      {
       "output_type": "stream",
       "stream": "stdout",
       "text": [
        " ipf.4=>pst.sbj.5"
       ]
      },
      {
       "output_type": "stream",
       "stream": "stdout",
       "text": [
        " ipf.4=>pst.sbj.6"
       ]
      },
      {
       "output_type": "stream",
       "stream": "stdout",
       "text": [
        " ipf.4=>inf"
       ]
      },
      {
       "output_type": "stream",
       "stream": "stdout",
       "text": [
        " ipf.4=>prs.pcp"
       ]
      },
      {
       "output_type": "stream",
       "stream": "stdout",
       "text": [
        " ipf.4=>pst.pcp ipf.5=>ipf.1"
       ]
      },
      {
       "output_type": "stream",
       "stream": "stdout",
       "text": [
        " ipf.5=>ipf.2 ipf.5=>ipf.3 ipf.5=>ipf.4 ipf.5=>ipf.6 ipf.5=>prs.1 ipf.5=>prs.2"
       ]
      },
      {
       "output_type": "stream",
       "stream": "stdout",
       "text": [
        " ipf.5=>prs.3"
       ]
      },
      {
       "output_type": "stream",
       "stream": "stdout",
       "text": [
        " ipf.5=>prs.4"
       ]
      },
      {
       "output_type": "stream",
       "stream": "stdout",
       "text": [
        " ipf.5=>prs.5 ipf.5=>prs.6 ipf.5=>imp.2"
       ]
      },
      {
       "output_type": "stream",
       "stream": "stdout",
       "text": [
        " ipf.5=>imp.4"
       ]
      },
      {
       "output_type": "stream",
       "stream": "stdout",
       "text": [
        " ipf.5=>imp.5 ipf.5=>sbjv.1 ipf.5=>sbjv.2"
       ]
      },
      {
       "output_type": "stream",
       "stream": "stdout",
       "text": [
        " ipf.5=>sbjv.3"
       ]
      },
      {
       "output_type": "stream",
       "stream": "stdout",
       "text": [
        " ipf.5=>sbjv.4"
       ]
      },
      {
       "output_type": "stream",
       "stream": "stdout",
       "text": [
        " ipf.5=>sbjv.5 ipf.5=>sbjv.6 ipf.5=>fut.1"
       ]
      },
      {
       "output_type": "stream",
       "stream": "stdout",
       "text": [
        " ipf.5=>fut.2"
       ]
      },
      {
       "output_type": "stream",
       "stream": "stdout",
       "text": [
        " ipf.5=>fut.3"
       ]
      },
      {
       "output_type": "stream",
       "stream": "stdout",
       "text": [
        " ipf.5=>fut.4"
       ]
      },
      {
       "output_type": "stream",
       "stream": "stdout",
       "text": [
        " ipf.5=>fut.5"
       ]
      },
      {
       "output_type": "stream",
       "stream": "stdout",
       "text": [
        " ipf.5=>fut.6"
       ]
      },
      {
       "output_type": "stream",
       "stream": "stdout",
       "text": [
        " ipf.5=>cond.1"
       ]
      },
      {
       "output_type": "stream",
       "stream": "stdout",
       "text": [
        " ipf.5=>cond.2"
       ]
      },
      {
       "output_type": "stream",
       "stream": "stdout",
       "text": [
        " ipf.5=>cond.3"
       ]
      },
      {
       "output_type": "stream",
       "stream": "stdout",
       "text": [
        " ipf.5=>cond.4"
       ]
      },
      {
       "output_type": "stream",
       "stream": "stdout",
       "text": [
        " ipf.5=>cond.5"
       ]
      },
      {
       "output_type": "stream",
       "stream": "stdout",
       "text": [
        " ipf.5=>cond.6"
       ]
      },
      {
       "output_type": "stream",
       "stream": "stdout",
       "text": [
        " ipf.5=>pst.1"
       ]
      },
      {
       "output_type": "stream",
       "stream": "stdout",
       "text": [
        " ipf.5=>pst.2"
       ]
      },
      {
       "output_type": "stream",
       "stream": "stdout",
       "text": [
        " ipf.5=>pst.3"
       ]
      },
      {
       "output_type": "stream",
       "stream": "stdout",
       "text": [
        " ipf.5=>pst.4"
       ]
      },
      {
       "output_type": "stream",
       "stream": "stdout",
       "text": [
        " ipf.5=>pst.5"
       ]
      },
      {
       "output_type": "stream",
       "stream": "stdout",
       "text": [
        " ipf.5=>pst.6"
       ]
      },
      {
       "output_type": "stream",
       "stream": "stdout",
       "text": [
        " ipf.5=>pst.sbj.1"
       ]
      },
      {
       "output_type": "stream",
       "stream": "stdout",
       "text": [
        " ipf.5=>pst.sbj.2"
       ]
      },
      {
       "output_type": "stream",
       "stream": "stdout",
       "text": [
        " ipf.5=>pst.sbj.3"
       ]
      },
      {
       "output_type": "stream",
       "stream": "stdout",
       "text": [
        " ipf.5=>pst.sbj.4"
       ]
      },
      {
       "output_type": "stream",
       "stream": "stdout",
       "text": [
        " ipf.5=>pst.sbj.5"
       ]
      },
      {
       "output_type": "stream",
       "stream": "stdout",
       "text": [
        " ipf.5=>pst.sbj.6"
       ]
      },
      {
       "output_type": "stream",
       "stream": "stdout",
       "text": [
        " ipf.5=>inf"
       ]
      },
      {
       "output_type": "stream",
       "stream": "stdout",
       "text": [
        " ipf.5=>prs.pcp"
       ]
      },
      {
       "output_type": "stream",
       "stream": "stdout",
       "text": [
        " ipf.5=>pst.pcp ipf.6=>ipf.1"
       ]
      },
      {
       "output_type": "stream",
       "stream": "stdout",
       "text": [
        " ipf.6=>ipf.2 ipf.6=>ipf.3 ipf.6=>ipf.4 ipf.6=>ipf.5 ipf.6=>prs.1 ipf.6=>prs.2 ipf.6=>prs.3 ipf.6=>prs.4 ipf.6=>prs.5 ipf.6=>prs.6 ipf.6=>imp.2 ipf.6=>imp.4 ipf.6=>imp.5 ipf.6=>sbjv.1 ipf.6=>sbjv.2 ipf.6=>sbjv.3 ipf.6=>sbjv.4"
       ]
      },
      {
       "output_type": "stream",
       "stream": "stdout",
       "text": [
        " ipf.6=>sbjv.5 ipf.6=>sbjv.6 ipf.6=>fut.1 ipf.6=>fut.2 ipf.6=>fut.3 ipf.6=>fut.4"
       ]
      },
      {
       "output_type": "stream",
       "stream": "stdout",
       "text": [
        " ipf.6=>fut.5 ipf.6=>fut.6"
       ]
      },
      {
       "output_type": "stream",
       "stream": "stdout",
       "text": [
        " ipf.6=>cond.1 ipf.6=>cond.2"
       ]
      },
      {
       "output_type": "stream",
       "stream": "stdout",
       "text": [
        " ipf.6=>cond.3 ipf.6=>cond.4 ipf.6=>cond.5"
       ]
      },
      {
       "output_type": "stream",
       "stream": "stdout",
       "text": [
        " ipf.6=>cond.6 ipf.6=>pst.1"
       ]
      },
      {
       "output_type": "stream",
       "stream": "stdout",
       "text": [
        " ipf.6=>pst.2 ipf.6=>pst.3"
       ]
      },
      {
       "output_type": "stream",
       "stream": "stdout",
       "text": [
        " ipf.6=>pst.4 ipf.6=>pst.5 ipf.6=>pst.6"
       ]
      },
      {
       "output_type": "stream",
       "stream": "stdout",
       "text": [
        " ipf.6=>pst.sbj.1 ipf.6=>pst.sbj.2"
       ]
      },
      {
       "output_type": "stream",
       "stream": "stdout",
       "text": [
        " ipf.6=>pst.sbj.3 ipf.6=>pst.sbj.4"
       ]
      },
      {
       "output_type": "stream",
       "stream": "stdout",
       "text": [
        " ipf.6=>pst.sbj.5 ipf.6=>pst.sbj.6"
       ]
      },
      {
       "output_type": "stream",
       "stream": "stdout",
       "text": [
        " ipf.6=>inf ipf.6=>prs.pcp"
       ]
      },
      {
       "output_type": "stream",
       "stream": "stdout",
       "text": [
        " ipf.6=>pst.pcp prs.1=>ipf.1 prs.1=>ipf.2"
       ]
      },
      {
       "output_type": "stream",
       "stream": "stdout",
       "text": [
        " prs.1=>ipf.3"
       ]
      },
      {
       "output_type": "stream",
       "stream": "stdout",
       "text": [
        " prs.1=>ipf.4"
       ]
      },
      {
       "output_type": "stream",
       "stream": "stdout",
       "text": [
        " prs.1=>ipf.5"
       ]
      },
      {
       "output_type": "stream",
       "stream": "stdout",
       "text": [
        " prs.1=>ipf.6"
       ]
      },
      {
       "output_type": "stream",
       "stream": "stdout",
       "text": [
        " prs.1=>prs.2"
       ]
      },
      {
       "output_type": "stream",
       "stream": "stdout",
       "text": [
        " prs.1=>prs.3 prs.1=>prs.4 prs.1=>prs.5"
       ]
      },
      {
       "output_type": "stream",
       "stream": "stdout",
       "text": [
        " prs.1=>prs.6"
       ]
      },
      {
       "output_type": "stream",
       "stream": "stdout",
       "text": [
        " prs.1=>imp.2"
       ]
      },
      {
       "output_type": "stream",
       "stream": "stdout",
       "text": [
        " prs.1=>imp.4 prs.1=>imp.5"
       ]
      },
      {
       "output_type": "stream",
       "stream": "stdout",
       "text": [
        " prs.1=>sbjv.1"
       ]
      },
      {
       "output_type": "stream",
       "stream": "stdout",
       "text": [
        " prs.1=>sbjv.2"
       ]
      },
      {
       "output_type": "stream",
       "stream": "stdout",
       "text": [
        " prs.1=>sbjv.3"
       ]
      },
      {
       "output_type": "stream",
       "stream": "stdout",
       "text": [
        " prs.1=>sbjv.4"
       ]
      },
      {
       "output_type": "stream",
       "stream": "stdout",
       "text": [
        " prs.1=>sbjv.5"
       ]
      },
      {
       "output_type": "stream",
       "stream": "stdout",
       "text": [
        " prs.1=>sbjv.6"
       ]
      },
      {
       "output_type": "stream",
       "stream": "stdout",
       "text": [
        " prs.1=>fut.1"
       ]
      },
      {
       "output_type": "stream",
       "stream": "stdout",
       "text": [
        " prs.1=>fut.2"
       ]
      },
      {
       "output_type": "stream",
       "stream": "stdout",
       "text": [
        " prs.1=>fut.3"
       ]
      },
      {
       "output_type": "stream",
       "stream": "stdout",
       "text": [
        " prs.1=>fut.4"
       ]
      },
      {
       "output_type": "stream",
       "stream": "stdout",
       "text": [
        " prs.1=>fut.5"
       ]
      },
      {
       "output_type": "stream",
       "stream": "stdout",
       "text": [
        " prs.1=>fut.6"
       ]
      },
      {
       "output_type": "stream",
       "stream": "stdout",
       "text": [
        " prs.1=>cond.1"
       ]
      },
      {
       "output_type": "stream",
       "stream": "stdout",
       "text": [
        " prs.1=>cond.2"
       ]
      },
      {
       "output_type": "stream",
       "stream": "stdout",
       "text": [
        " prs.1=>cond.3"
       ]
      },
      {
       "output_type": "stream",
       "stream": "stdout",
       "text": [
        " prs.1=>cond.4"
       ]
      },
      {
       "output_type": "stream",
       "stream": "stdout",
       "text": [
        " prs.1=>cond.5"
       ]
      },
      {
       "output_type": "stream",
       "stream": "stdout",
       "text": [
        " prs.1=>cond.6"
       ]
      },
      {
       "output_type": "stream",
       "stream": "stdout",
       "text": [
        " prs.1=>pst.1"
       ]
      },
      {
       "output_type": "stream",
       "stream": "stdout",
       "text": [
        " prs.1=>pst.2"
       ]
      },
      {
       "output_type": "stream",
       "stream": "stdout",
       "text": [
        " prs.1=>pst.3"
       ]
      },
      {
       "output_type": "stream",
       "stream": "stdout",
       "text": [
        " prs.1=>pst.4"
       ]
      },
      {
       "output_type": "stream",
       "stream": "stdout",
       "text": [
        " prs.1=>pst.5"
       ]
      },
      {
       "output_type": "stream",
       "stream": "stdout",
       "text": [
        " prs.1=>pst.6"
       ]
      },
      {
       "output_type": "stream",
       "stream": "stdout",
       "text": [
        " prs.1=>pst.sbj.1"
       ]
      },
      {
       "output_type": "stream",
       "stream": "stdout",
       "text": [
        " prs.1=>pst.sbj.2"
       ]
      },
      {
       "output_type": "stream",
       "stream": "stdout",
       "text": [
        " prs.1=>pst.sbj.3"
       ]
      },
      {
       "output_type": "stream",
       "stream": "stdout",
       "text": [
        " prs.1=>pst.sbj.4"
       ]
      },
      {
       "output_type": "stream",
       "stream": "stdout",
       "text": [
        " prs.1=>pst.sbj.5"
       ]
      },
      {
       "output_type": "stream",
       "stream": "stdout",
       "text": [
        " prs.1=>pst.sbj.6"
       ]
      },
      {
       "output_type": "stream",
       "stream": "stdout",
       "text": [
        " prs.1=>inf"
       ]
      },
      {
       "output_type": "stream",
       "stream": "stdout",
       "text": [
        " prs.1=>prs.pcp"
       ]
      },
      {
       "output_type": "stream",
       "stream": "stdout",
       "text": [
        " prs.1=>pst.pcp"
       ]
      },
      {
       "output_type": "stream",
       "stream": "stdout",
       "text": [
        " prs.2=>ipf.1"
       ]
      },
      {
       "output_type": "stream",
       "stream": "stdout",
       "text": [
        " prs.2=>ipf.2"
       ]
      },
      {
       "output_type": "stream",
       "stream": "stdout",
       "text": [
        " prs.2=>ipf.3"
       ]
      },
      {
       "output_type": "stream",
       "stream": "stdout",
       "text": [
        " prs.2=>ipf.4"
       ]
      },
      {
       "output_type": "stream",
       "stream": "stdout",
       "text": [
        " prs.2=>ipf.5"
       ]
      },
      {
       "output_type": "stream",
       "stream": "stdout",
       "text": [
        " prs.2=>ipf.6"
       ]
      },
      {
       "output_type": "stream",
       "stream": "stdout",
       "text": [
        " prs.2=>prs.1"
       ]
      },
      {
       "output_type": "stream",
       "stream": "stdout",
       "text": [
        " prs.2=>prs.3 prs.2=>prs.4 prs.2=>prs.5"
       ]
      },
      {
       "output_type": "stream",
       "stream": "stdout",
       "text": [
        " prs.2=>prs.6"
       ]
      },
      {
       "output_type": "stream",
       "stream": "stdout",
       "text": [
        " prs.2=>imp.2"
       ]
      },
      {
       "output_type": "stream",
       "stream": "stdout",
       "text": [
        " prs.2=>imp.4 prs.2=>imp.5"
       ]
      },
      {
       "output_type": "stream",
       "stream": "stdout",
       "text": [
        " prs.2=>sbjv.1"
       ]
      },
      {
       "output_type": "stream",
       "stream": "stdout",
       "text": [
        " prs.2=>sbjv.2"
       ]
      },
      {
       "output_type": "stream",
       "stream": "stdout",
       "text": [
        " prs.2=>sbjv.3"
       ]
      },
      {
       "output_type": "stream",
       "stream": "stdout",
       "text": [
        " prs.2=>sbjv.4"
       ]
      },
      {
       "output_type": "stream",
       "stream": "stdout",
       "text": [
        " prs.2=>sbjv.5"
       ]
      },
      {
       "output_type": "stream",
       "stream": "stdout",
       "text": [
        " prs.2=>sbjv.6"
       ]
      },
      {
       "output_type": "stream",
       "stream": "stdout",
       "text": [
        " prs.2=>fut.1"
       ]
      },
      {
       "output_type": "stream",
       "stream": "stdout",
       "text": [
        " prs.2=>fut.2"
       ]
      },
      {
       "output_type": "stream",
       "stream": "stdout",
       "text": [
        " prs.2=>fut.3"
       ]
      },
      {
       "output_type": "stream",
       "stream": "stdout",
       "text": [
        " prs.2=>fut.4"
       ]
      },
      {
       "output_type": "stream",
       "stream": "stdout",
       "text": [
        " prs.2=>fut.5"
       ]
      },
      {
       "output_type": "stream",
       "stream": "stdout",
       "text": [
        " prs.2=>fut.6"
       ]
      },
      {
       "output_type": "stream",
       "stream": "stdout",
       "text": [
        " prs.2=>cond.1"
       ]
      },
      {
       "output_type": "stream",
       "stream": "stdout",
       "text": [
        " prs.2=>cond.2"
       ]
      },
      {
       "output_type": "stream",
       "stream": "stdout",
       "text": [
        " prs.2=>cond.3"
       ]
      },
      {
       "output_type": "stream",
       "stream": "stdout",
       "text": [
        " prs.2=>cond.4"
       ]
      },
      {
       "output_type": "stream",
       "stream": "stdout",
       "text": [
        " prs.2=>cond.5"
       ]
      },
      {
       "output_type": "stream",
       "stream": "stdout",
       "text": [
        " prs.2=>cond.6"
       ]
      },
      {
       "output_type": "stream",
       "stream": "stdout",
       "text": [
        " prs.2=>pst.1"
       ]
      },
      {
       "output_type": "stream",
       "stream": "stdout",
       "text": [
        " prs.2=>pst.2"
       ]
      },
      {
       "output_type": "stream",
       "stream": "stdout",
       "text": [
        " prs.2=>pst.3"
       ]
      },
      {
       "output_type": "stream",
       "stream": "stdout",
       "text": [
        " prs.2=>pst.4"
       ]
      },
      {
       "output_type": "stream",
       "stream": "stdout",
       "text": [
        " prs.2=>pst.5"
       ]
      },
      {
       "output_type": "stream",
       "stream": "stdout",
       "text": [
        " prs.2=>pst.6"
       ]
      },
      {
       "output_type": "stream",
       "stream": "stdout",
       "text": [
        " prs.2=>pst.sbj.1"
       ]
      },
      {
       "output_type": "stream",
       "stream": "stdout",
       "text": [
        " prs.2=>pst.sbj.2"
       ]
      },
      {
       "output_type": "stream",
       "stream": "stdout",
       "text": [
        " prs.2=>pst.sbj.3"
       ]
      },
      {
       "output_type": "stream",
       "stream": "stdout",
       "text": [
        " prs.2=>pst.sbj.4"
       ]
      },
      {
       "output_type": "stream",
       "stream": "stdout",
       "text": [
        " prs.2=>pst.sbj.5"
       ]
      },
      {
       "output_type": "stream",
       "stream": "stdout",
       "text": [
        " prs.2=>pst.sbj.6"
       ]
      },
      {
       "output_type": "stream",
       "stream": "stdout",
       "text": [
        " prs.2=>inf"
       ]
      },
      {
       "output_type": "stream",
       "stream": "stdout",
       "text": [
        " prs.2=>prs.pcp"
       ]
      },
      {
       "output_type": "stream",
       "stream": "stdout",
       "text": [
        " prs.2=>pst.pcp"
       ]
      },
      {
       "output_type": "stream",
       "stream": "stdout",
       "text": [
        " prs.3=>ipf.1"
       ]
      },
      {
       "output_type": "stream",
       "stream": "stdout",
       "text": [
        " prs.3=>ipf.2"
       ]
      },
      {
       "output_type": "stream",
       "stream": "stdout",
       "text": [
        " prs.3=>ipf.3"
       ]
      },
      {
       "output_type": "stream",
       "stream": "stdout",
       "text": [
        " prs.3=>ipf.4"
       ]
      },
      {
       "output_type": "stream",
       "stream": "stdout",
       "text": [
        " prs.3=>ipf.5"
       ]
      },
      {
       "output_type": "stream",
       "stream": "stdout",
       "text": [
        " prs.3=>ipf.6"
       ]
      },
      {
       "output_type": "stream",
       "stream": "stdout",
       "text": [
        " prs.3=>prs.1"
       ]
      },
      {
       "output_type": "stream",
       "stream": "stdout",
       "text": [
        " prs.3=>prs.2 prs.3=>prs.4 prs.3=>prs.5"
       ]
      },
      {
       "output_type": "stream",
       "stream": "stdout",
       "text": [
        " prs.3=>prs.6"
       ]
      },
      {
       "output_type": "stream",
       "stream": "stdout",
       "text": [
        " prs.3=>imp.2"
       ]
      },
      {
       "output_type": "stream",
       "stream": "stdout",
       "text": [
        " prs.3=>imp.4 prs.3=>imp.5"
       ]
      },
      {
       "output_type": "stream",
       "stream": "stdout",
       "text": [
        " prs.3=>sbjv.1"
       ]
      },
      {
       "output_type": "stream",
       "stream": "stdout",
       "text": [
        " prs.3=>sbjv.2"
       ]
      },
      {
       "output_type": "stream",
       "stream": "stdout",
       "text": [
        " prs.3=>sbjv.3"
       ]
      },
      {
       "output_type": "stream",
       "stream": "stdout",
       "text": [
        " prs.3=>sbjv.4"
       ]
      },
      {
       "output_type": "stream",
       "stream": "stdout",
       "text": [
        " prs.3=>sbjv.5"
       ]
      },
      {
       "output_type": "stream",
       "stream": "stdout",
       "text": [
        " prs.3=>sbjv.6"
       ]
      },
      {
       "output_type": "stream",
       "stream": "stdout",
       "text": [
        " prs.3=>fut.1"
       ]
      },
      {
       "output_type": "stream",
       "stream": "stdout",
       "text": [
        " prs.3=>fut.2"
       ]
      },
      {
       "output_type": "stream",
       "stream": "stdout",
       "text": [
        " prs.3=>fut.3"
       ]
      },
      {
       "output_type": "stream",
       "stream": "stdout",
       "text": [
        " prs.3=>fut.4"
       ]
      },
      {
       "output_type": "stream",
       "stream": "stdout",
       "text": [
        " prs.3=>fut.5"
       ]
      },
      {
       "output_type": "stream",
       "stream": "stdout",
       "text": [
        " prs.3=>fut.6"
       ]
      },
      {
       "output_type": "stream",
       "stream": "stdout",
       "text": [
        " prs.3=>cond.1"
       ]
      },
      {
       "output_type": "stream",
       "stream": "stdout",
       "text": [
        " prs.3=>cond.2"
       ]
      },
      {
       "output_type": "stream",
       "stream": "stdout",
       "text": [
        " prs.3=>cond.3"
       ]
      },
      {
       "output_type": "stream",
       "stream": "stdout",
       "text": [
        " prs.3=>cond.4"
       ]
      },
      {
       "output_type": "stream",
       "stream": "stdout",
       "text": [
        " prs.3=>cond.5"
       ]
      },
      {
       "output_type": "stream",
       "stream": "stdout",
       "text": [
        " prs.3=>cond.6"
       ]
      },
      {
       "output_type": "stream",
       "stream": "stdout",
       "text": [
        " prs.3=>pst.1"
       ]
      },
      {
       "output_type": "stream",
       "stream": "stdout",
       "text": [
        " prs.3=>pst.2"
       ]
      },
      {
       "output_type": "stream",
       "stream": "stdout",
       "text": [
        " prs.3=>pst.3"
       ]
      },
      {
       "output_type": "stream",
       "stream": "stdout",
       "text": [
        " prs.3=>pst.4"
       ]
      },
      {
       "output_type": "stream",
       "stream": "stdout",
       "text": [
        " prs.3=>pst.5"
       ]
      },
      {
       "output_type": "stream",
       "stream": "stdout",
       "text": [
        " prs.3=>pst.6"
       ]
      },
      {
       "output_type": "stream",
       "stream": "stdout",
       "text": [
        " prs.3=>pst.sbj.1"
       ]
      },
      {
       "output_type": "stream",
       "stream": "stdout",
       "text": [
        " prs.3=>pst.sbj.2"
       ]
      },
      {
       "output_type": "stream",
       "stream": "stdout",
       "text": [
        " prs.3=>pst.sbj.3"
       ]
      },
      {
       "output_type": "stream",
       "stream": "stdout",
       "text": [
        " prs.3=>pst.sbj.4"
       ]
      },
      {
       "output_type": "stream",
       "stream": "stdout",
       "text": [
        " prs.3=>pst.sbj.5"
       ]
      },
      {
       "output_type": "stream",
       "stream": "stdout",
       "text": [
        " prs.3=>pst.sbj.6"
       ]
      },
      {
       "output_type": "stream",
       "stream": "stdout",
       "text": [
        " prs.3=>inf"
       ]
      },
      {
       "output_type": "stream",
       "stream": "stdout",
       "text": [
        " prs.3=>prs.pcp"
       ]
      },
      {
       "output_type": "stream",
       "stream": "stdout",
       "text": [
        " prs.3=>pst.pcp"
       ]
      },
      {
       "output_type": "stream",
       "stream": "stdout",
       "text": [
        " prs.4=>ipf.1"
       ]
      },
      {
       "output_type": "stream",
       "stream": "stdout",
       "text": [
        " prs.4=>ipf.2 prs.4=>ipf.3 prs.4=>ipf.4 prs.4=>ipf.5 prs.4=>ipf.6 prs.4=>prs.1"
       ]
      },
      {
       "output_type": "stream",
       "stream": "stdout",
       "text": [
        " prs.4=>prs.2"
       ]
      },
      {
       "output_type": "stream",
       "stream": "stdout",
       "text": [
        " prs.4=>prs.3"
       ]
      },
      {
       "output_type": "stream",
       "stream": "stdout",
       "text": [
        " prs.4=>prs.5"
       ]
      },
      {
       "output_type": "stream",
       "stream": "stdout",
       "text": [
        " prs.4=>prs.6 prs.4=>imp.2"
       ]
      },
      {
       "output_type": "stream",
       "stream": "stdout",
       "text": [
        " prs.4=>imp.4"
       ]
      },
      {
       "output_type": "stream",
       "stream": "stdout",
       "text": [
        " prs.4=>imp.5 prs.4=>sbjv.1 prs.4=>sbjv.2"
       ]
      },
      {
       "output_type": "stream",
       "stream": "stdout",
       "text": [
        " prs.4=>sbjv.3"
       ]
      },
      {
       "output_type": "stream",
       "stream": "stdout",
       "text": [
        " prs.4=>sbjv.4"
       ]
      },
      {
       "output_type": "stream",
       "stream": "stdout",
       "text": [
        " prs.4=>sbjv.5 prs.4=>sbjv.6"
       ]
      },
      {
       "output_type": "stream",
       "stream": "stdout",
       "text": [
        " prs.4=>fut.1"
       ]
      },
      {
       "output_type": "stream",
       "stream": "stdout",
       "text": [
        " prs.4=>fut.2"
       ]
      },
      {
       "output_type": "stream",
       "stream": "stdout",
       "text": [
        " prs.4=>fut.3"
       ]
      },
      {
       "output_type": "stream",
       "stream": "stdout",
       "text": [
        " prs.4=>fut.4"
       ]
      },
      {
       "output_type": "stream",
       "stream": "stdout",
       "text": [
        " prs.4=>fut.5"
       ]
      },
      {
       "output_type": "stream",
       "stream": "stdout",
       "text": [
        " prs.4=>fut.6"
       ]
      },
      {
       "output_type": "stream",
       "stream": "stdout",
       "text": [
        " prs.4=>cond.1"
       ]
      },
      {
       "output_type": "stream",
       "stream": "stdout",
       "text": [
        " prs.4=>cond.2"
       ]
      },
      {
       "output_type": "stream",
       "stream": "stdout",
       "text": [
        " prs.4=>cond.3"
       ]
      },
      {
       "output_type": "stream",
       "stream": "stdout",
       "text": [
        " prs.4=>cond.4"
       ]
      },
      {
       "output_type": "stream",
       "stream": "stdout",
       "text": [
        " prs.4=>cond.5"
       ]
      },
      {
       "output_type": "stream",
       "stream": "stdout",
       "text": [
        " prs.4=>cond.6"
       ]
      },
      {
       "output_type": "stream",
       "stream": "stdout",
       "text": [
        " prs.4=>pst.1"
       ]
      },
      {
       "output_type": "stream",
       "stream": "stdout",
       "text": [
        " prs.4=>pst.2"
       ]
      },
      {
       "output_type": "stream",
       "stream": "stdout",
       "text": [
        " prs.4=>pst.3"
       ]
      },
      {
       "output_type": "stream",
       "stream": "stdout",
       "text": [
        " prs.4=>pst.4"
       ]
      },
      {
       "output_type": "stream",
       "stream": "stdout",
       "text": [
        " prs.4=>pst.5"
       ]
      },
      {
       "output_type": "stream",
       "stream": "stdout",
       "text": [
        " prs.4=>pst.6"
       ]
      },
      {
       "output_type": "stream",
       "stream": "stdout",
       "text": [
        " prs.4=>pst.sbj.1"
       ]
      },
      {
       "output_type": "stream",
       "stream": "stdout",
       "text": [
        " prs.4=>pst.sbj.2"
       ]
      },
      {
       "output_type": "stream",
       "stream": "stdout",
       "text": [
        " prs.4=>pst.sbj.3"
       ]
      },
      {
       "output_type": "stream",
       "stream": "stdout",
       "text": [
        " prs.4=>pst.sbj.4"
       ]
      },
      {
       "output_type": "stream",
       "stream": "stdout",
       "text": [
        " prs.4=>pst.sbj.5"
       ]
      },
      {
       "output_type": "stream",
       "stream": "stdout",
       "text": [
        " prs.4=>pst.sbj.6"
       ]
      },
      {
       "output_type": "stream",
       "stream": "stdout",
       "text": [
        " prs.4=>inf"
       ]
      },
      {
       "output_type": "stream",
       "stream": "stdout",
       "text": [
        " prs.4=>prs.pcp"
       ]
      },
      {
       "output_type": "stream",
       "stream": "stdout",
       "text": [
        " prs.4=>pst.pcp prs.5=>ipf.1"
       ]
      },
      {
       "output_type": "stream",
       "stream": "stdout",
       "text": [
        " prs.5=>ipf.2 prs.5=>ipf.3 prs.5=>ipf.4 prs.5=>ipf.5"
       ]
      },
      {
       "output_type": "stream",
       "stream": "stdout",
       "text": [
        " prs.5=>ipf.6 prs.5=>prs.1 prs.5=>prs.2 prs.5=>prs.3 prs.5=>prs.4"
       ]
      },
      {
       "output_type": "stream",
       "stream": "stdout",
       "text": [
        " prs.5=>prs.6 prs.5=>imp.2 prs.5=>imp.4 prs.5=>imp.5"
       ]
      },
      {
       "output_type": "stream",
       "stream": "stdout",
       "text": [
        " prs.5=>sbjv.1 prs.5=>sbjv.2 prs.5=>sbjv.3 prs.5=>sbjv.4"
       ]
      },
      {
       "output_type": "stream",
       "stream": "stdout",
       "text": [
        " prs.5=>sbjv.5 prs.5=>sbjv.6 prs.5=>fut.1 prs.5=>fut.2"
       ]
      },
      {
       "output_type": "stream",
       "stream": "stdout",
       "text": [
        " prs.5=>fut.3 prs.5=>fut.4"
       ]
      },
      {
       "output_type": "stream",
       "stream": "stdout",
       "text": [
        " prs.5=>fut.5 prs.5=>fut.6"
       ]
      },
      {
       "output_type": "stream",
       "stream": "stdout",
       "text": [
        " prs.5=>cond.1 prs.5=>cond.2"
       ]
      },
      {
       "output_type": "stream",
       "stream": "stdout",
       "text": [
        " prs.5=>cond.3 prs.5=>cond.4"
       ]
      },
      {
       "output_type": "stream",
       "stream": "stdout",
       "text": [
        " prs.5=>cond.5 prs.5=>cond.6"
       ]
      },
      {
       "output_type": "stream",
       "stream": "stdout",
       "text": [
        " prs.5=>pst.1 prs.5=>pst.2"
       ]
      },
      {
       "output_type": "stream",
       "stream": "stdout",
       "text": [
        " prs.5=>pst.3 prs.5=>pst.4"
       ]
      },
      {
       "output_type": "stream",
       "stream": "stdout",
       "text": [
        " prs.5=>pst.5 prs.5=>pst.6"
       ]
      },
      {
       "output_type": "stream",
       "stream": "stdout",
       "text": [
        " prs.5=>pst.sbj.1 prs.5=>pst.sbj.2"
       ]
      },
      {
       "output_type": "stream",
       "stream": "stdout",
       "text": [
        " prs.5=>pst.sbj.3 prs.5=>pst.sbj.4"
       ]
      },
      {
       "output_type": "stream",
       "stream": "stdout",
       "text": [
        " prs.5=>pst.sbj.5"
       ]
      },
      {
       "output_type": "stream",
       "stream": "stdout",
       "text": [
        " prs.5=>pst.sbj.6 prs.5=>inf"
       ]
      },
      {
       "output_type": "stream",
       "stream": "stdout",
       "text": [
        " prs.5=>prs.pcp"
       ]
      },
      {
       "output_type": "stream",
       "stream": "stdout",
       "text": [
        " prs.5=>pst.pcp prs.6=>ipf.1"
       ]
      },
      {
       "output_type": "stream",
       "stream": "stdout",
       "text": [
        " prs.6=>ipf.2"
       ]
      },
      {
       "output_type": "stream",
       "stream": "stdout",
       "text": [
        " prs.6=>ipf.3"
       ]
      },
      {
       "output_type": "stream",
       "stream": "stdout",
       "text": [
        " prs.6=>ipf.4"
       ]
      },
      {
       "output_type": "stream",
       "stream": "stdout",
       "text": [
        " prs.6=>ipf.5"
       ]
      },
      {
       "output_type": "stream",
       "stream": "stdout",
       "text": [
        " prs.6=>ipf.6"
       ]
      },
      {
       "output_type": "stream",
       "stream": "stdout",
       "text": [
        " prs.6=>prs.1"
       ]
      },
      {
       "output_type": "stream",
       "stream": "stdout",
       "text": [
        " prs.6=>prs.2"
       ]
      },
      {
       "output_type": "stream",
       "stream": "stdout",
       "text": [
        " prs.6=>prs.3"
       ]
      },
      {
       "output_type": "stream",
       "stream": "stdout",
       "text": [
        " prs.6=>prs.4"
       ]
      },
      {
       "output_type": "stream",
       "stream": "stdout",
       "text": [
        " prs.6=>prs.5"
       ]
      },
      {
       "output_type": "stream",
       "stream": "stdout",
       "text": [
        " prs.6=>imp.2"
       ]
      },
      {
       "output_type": "stream",
       "stream": "stdout",
       "text": [
        " prs.6=>imp.4"
       ]
      },
      {
       "output_type": "stream",
       "stream": "stdout",
       "text": [
        " prs.6=>imp.5"
       ]
      },
      {
       "output_type": "stream",
       "stream": "stdout",
       "text": [
        " prs.6=>sbjv.1"
       ]
      },
      {
       "output_type": "stream",
       "stream": "stdout",
       "text": [
        " prs.6=>sbjv.2 prs.6=>sbjv.3"
       ]
      },
      {
       "output_type": "stream",
       "stream": "stdout",
       "text": [
        " prs.6=>sbjv.4 prs.6=>sbjv.5"
       ]
      },
      {
       "output_type": "stream",
       "stream": "stdout",
       "text": [
        " prs.6=>sbjv.6"
       ]
      },
      {
       "output_type": "stream",
       "stream": "stdout",
       "text": [
        " prs.6=>fut.1 prs.6=>fut.2"
       ]
      },
      {
       "output_type": "stream",
       "stream": "stdout",
       "text": [
        " prs.6=>fut.3"
       ]
      },
      {
       "output_type": "stream",
       "stream": "stdout",
       "text": [
        " prs.6=>fut.4"
       ]
      },
      {
       "output_type": "stream",
       "stream": "stdout",
       "text": [
        " prs.6=>fut.5"
       ]
      },
      {
       "output_type": "stream",
       "stream": "stdout",
       "text": [
        " prs.6=>fut.6"
       ]
      },
      {
       "output_type": "stream",
       "stream": "stdout",
       "text": [
        " prs.6=>cond.1"
       ]
      },
      {
       "output_type": "stream",
       "stream": "stdout",
       "text": [
        " prs.6=>cond.2"
       ]
      },
      {
       "output_type": "stream",
       "stream": "stdout",
       "text": [
        " prs.6=>cond.3"
       ]
      },
      {
       "output_type": "stream",
       "stream": "stdout",
       "text": [
        " prs.6=>cond.4"
       ]
      },
      {
       "output_type": "stream",
       "stream": "stdout",
       "text": [
        " prs.6=>cond.5"
       ]
      },
      {
       "output_type": "stream",
       "stream": "stdout",
       "text": [
        " prs.6=>cond.6"
       ]
      },
      {
       "output_type": "stream",
       "stream": "stdout",
       "text": [
        " prs.6=>pst.1"
       ]
      },
      {
       "output_type": "stream",
       "stream": "stdout",
       "text": [
        " prs.6=>pst.2"
       ]
      },
      {
       "output_type": "stream",
       "stream": "stdout",
       "text": [
        " prs.6=>pst.3"
       ]
      },
      {
       "output_type": "stream",
       "stream": "stdout",
       "text": [
        " prs.6=>pst.4"
       ]
      },
      {
       "output_type": "stream",
       "stream": "stdout",
       "text": [
        " prs.6=>pst.5"
       ]
      },
      {
       "output_type": "stream",
       "stream": "stdout",
       "text": [
        " prs.6=>pst.6"
       ]
      },
      {
       "output_type": "stream",
       "stream": "stdout",
       "text": [
        " prs.6=>pst.sbj.1"
       ]
      },
      {
       "output_type": "stream",
       "stream": "stdout",
       "text": [
        " prs.6=>pst.sbj.2"
       ]
      },
      {
       "output_type": "stream",
       "stream": "stdout",
       "text": [
        " prs.6=>pst.sbj.3"
       ]
      },
      {
       "output_type": "stream",
       "stream": "stdout",
       "text": [
        " prs.6=>pst.sbj.4"
       ]
      },
      {
       "output_type": "stream",
       "stream": "stdout",
       "text": [
        " prs.6=>pst.sbj.5"
       ]
      },
      {
       "output_type": "stream",
       "stream": "stdout",
       "text": [
        " prs.6=>pst.sbj.6"
       ]
      },
      {
       "output_type": "stream",
       "stream": "stdout",
       "text": [
        " prs.6=>inf"
       ]
      },
      {
       "output_type": "stream",
       "stream": "stdout",
       "text": [
        " prs.6=>prs.pcp"
       ]
      },
      {
       "output_type": "stream",
       "stream": "stdout",
       "text": [
        " prs.6=>pst.pcp"
       ]
      },
      {
       "output_type": "stream",
       "stream": "stdout",
       "text": [
        " imp.2=>ipf.1"
       ]
      },
      {
       "output_type": "stream",
       "stream": "stdout",
       "text": [
        " imp.2=>ipf.2"
       ]
      },
      {
       "output_type": "stream",
       "stream": "stdout",
       "text": [
        " imp.2=>ipf.3"
       ]
      },
      {
       "output_type": "stream",
       "stream": "stdout",
       "text": [
        " imp.2=>ipf.4"
       ]
      },
      {
       "output_type": "stream",
       "stream": "stdout",
       "text": [
        " imp.2=>ipf.5"
       ]
      },
      {
       "output_type": "stream",
       "stream": "stdout",
       "text": [
        " imp.2=>ipf.6"
       ]
      },
      {
       "output_type": "stream",
       "stream": "stdout",
       "text": [
        " imp.2=>prs.1"
       ]
      },
      {
       "output_type": "stream",
       "stream": "stdout",
       "text": [
        " imp.2=>prs.2 imp.2=>prs.3 imp.2=>prs.4"
       ]
      },
      {
       "output_type": "stream",
       "stream": "stdout",
       "text": [
        " imp.2=>prs.5"
       ]
      },
      {
       "output_type": "stream",
       "stream": "stdout",
       "text": [
        " imp.2=>prs.6"
       ]
      },
      {
       "output_type": "stream",
       "stream": "stdout",
       "text": [
        " imp.2=>imp.4"
       ]
      },
      {
       "output_type": "stream",
       "stream": "stdout",
       "text": [
        " imp.2=>imp.5"
       ]
      },
      {
       "output_type": "stream",
       "stream": "stdout",
       "text": [
        " imp.2=>sbjv.1"
       ]
      },
      {
       "output_type": "stream",
       "stream": "stdout",
       "text": [
        " imp.2=>sbjv.2"
       ]
      },
      {
       "output_type": "stream",
       "stream": "stdout",
       "text": [
        " imp.2=>sbjv.3"
       ]
      },
      {
       "output_type": "stream",
       "stream": "stdout",
       "text": [
        " imp.2=>sbjv.4"
       ]
      },
      {
       "output_type": "stream",
       "stream": "stdout",
       "text": [
        " imp.2=>sbjv.5"
       ]
      },
      {
       "output_type": "stream",
       "stream": "stdout",
       "text": [
        " imp.2=>sbjv.6"
       ]
      },
      {
       "output_type": "stream",
       "stream": "stdout",
       "text": [
        " imp.2=>fut.1"
       ]
      },
      {
       "output_type": "stream",
       "stream": "stdout",
       "text": [
        " imp.2=>fut.2"
       ]
      },
      {
       "output_type": "stream",
       "stream": "stdout",
       "text": [
        " imp.2=>fut.3"
       ]
      },
      {
       "output_type": "stream",
       "stream": "stdout",
       "text": [
        " imp.2=>fut.4"
       ]
      },
      {
       "output_type": "stream",
       "stream": "stdout",
       "text": [
        " imp.2=>fut.5"
       ]
      },
      {
       "output_type": "stream",
       "stream": "stdout",
       "text": [
        " imp.2=>fut.6"
       ]
      },
      {
       "output_type": "stream",
       "stream": "stdout",
       "text": [
        " imp.2=>cond.1"
       ]
      },
      {
       "output_type": "stream",
       "stream": "stdout",
       "text": [
        " imp.2=>cond.2"
       ]
      },
      {
       "output_type": "stream",
       "stream": "stdout",
       "text": [
        " imp.2=>cond.3"
       ]
      },
      {
       "output_type": "stream",
       "stream": "stdout",
       "text": [
        " imp.2=>cond.4"
       ]
      },
      {
       "output_type": "stream",
       "stream": "stdout",
       "text": [
        " imp.2=>cond.5"
       ]
      },
      {
       "output_type": "stream",
       "stream": "stdout",
       "text": [
        " imp.2=>cond.6"
       ]
      },
      {
       "output_type": "stream",
       "stream": "stdout",
       "text": [
        " imp.2=>pst.1"
       ]
      },
      {
       "output_type": "stream",
       "stream": "stdout",
       "text": [
        " imp.2=>pst.2"
       ]
      },
      {
       "output_type": "stream",
       "stream": "stdout",
       "text": [
        " imp.2=>pst.3"
       ]
      },
      {
       "output_type": "stream",
       "stream": "stdout",
       "text": [
        " imp.2=>pst.4"
       ]
      },
      {
       "output_type": "stream",
       "stream": "stdout",
       "text": [
        " imp.2=>pst.5"
       ]
      },
      {
       "output_type": "stream",
       "stream": "stdout",
       "text": [
        " imp.2=>pst.6"
       ]
      },
      {
       "output_type": "stream",
       "stream": "stdout",
       "text": [
        " imp.2=>pst.sbj.1"
       ]
      },
      {
       "output_type": "stream",
       "stream": "stdout",
       "text": [
        " imp.2=>pst.sbj.2"
       ]
      },
      {
       "output_type": "stream",
       "stream": "stdout",
       "text": [
        " imp.2=>pst.sbj.3"
       ]
      },
      {
       "output_type": "stream",
       "stream": "stdout",
       "text": [
        " imp.2=>pst.sbj.4"
       ]
      },
      {
       "output_type": "stream",
       "stream": "stdout",
       "text": [
        " imp.2=>pst.sbj.5"
       ]
      },
      {
       "output_type": "stream",
       "stream": "stdout",
       "text": [
        " imp.2=>pst.sbj.6"
       ]
      },
      {
       "output_type": "stream",
       "stream": "stdout",
       "text": [
        " imp.2=>inf"
       ]
      },
      {
       "output_type": "stream",
       "stream": "stdout",
       "text": [
        " imp.2=>prs.pcp"
       ]
      },
      {
       "output_type": "stream",
       "stream": "stdout",
       "text": [
        " imp.2=>pst.pcp"
       ]
      },
      {
       "output_type": "stream",
       "stream": "stdout",
       "text": [
        " imp.4=>ipf.1"
       ]
      },
      {
       "output_type": "stream",
       "stream": "stdout",
       "text": [
        " imp.4=>ipf.2 imp.4=>ipf.3 imp.4=>ipf.4"
       ]
      },
      {
       "output_type": "stream",
       "stream": "stdout",
       "text": [
        " imp.4=>ipf.5 imp.4=>ipf.6"
       ]
      },
      {
       "output_type": "stream",
       "stream": "stdout",
       "text": [
        " imp.4=>prs.1 imp.4=>prs.2"
       ]
      },
      {
       "output_type": "stream",
       "stream": "stdout",
       "text": [
        " imp.4=>prs.3"
       ]
      },
      {
       "output_type": "stream",
       "stream": "stdout",
       "text": [
        " imp.4=>prs.4"
       ]
      },
      {
       "output_type": "stream",
       "stream": "stdout",
       "text": [
        " imp.4=>prs.5 imp.4=>prs.6"
       ]
      },
      {
       "output_type": "stream",
       "stream": "stdout",
       "text": [
        " imp.4=>imp.2"
       ]
      },
      {
       "output_type": "stream",
       "stream": "stdout",
       "text": [
        " imp.4=>imp.5"
       ]
      },
      {
       "output_type": "stream",
       "stream": "stdout",
       "text": [
        " imp.4=>sbjv.1 imp.4=>sbjv.2"
       ]
      },
      {
       "output_type": "stream",
       "stream": "stdout",
       "text": [
        " imp.4=>sbjv.3"
       ]
      },
      {
       "output_type": "stream",
       "stream": "stdout",
       "text": [
        " imp.4=>sbjv.4"
       ]
      },
      {
       "output_type": "stream",
       "stream": "stdout",
       "text": [
        " imp.4=>sbjv.5 imp.4=>sbjv.6 imp.4=>fut.1"
       ]
      },
      {
       "output_type": "stream",
       "stream": "stdout",
       "text": [
        " imp.4=>fut.2"
       ]
      },
      {
       "output_type": "stream",
       "stream": "stdout",
       "text": [
        " imp.4=>fut.3"
       ]
      },
      {
       "output_type": "stream",
       "stream": "stdout",
       "text": [
        " imp.4=>fut.4"
       ]
      },
      {
       "output_type": "stream",
       "stream": "stdout",
       "text": [
        " imp.4=>fut.5"
       ]
      },
      {
       "output_type": "stream",
       "stream": "stdout",
       "text": [
        " imp.4=>fut.6"
       ]
      },
      {
       "output_type": "stream",
       "stream": "stdout",
       "text": [
        " imp.4=>cond.1"
       ]
      },
      {
       "output_type": "stream",
       "stream": "stdout",
       "text": [
        " imp.4=>cond.2"
       ]
      },
      {
       "output_type": "stream",
       "stream": "stdout",
       "text": [
        " imp.4=>cond.3"
       ]
      },
      {
       "output_type": "stream",
       "stream": "stdout",
       "text": [
        " imp.4=>cond.4"
       ]
      },
      {
       "output_type": "stream",
       "stream": "stdout",
       "text": [
        " imp.4=>cond.5"
       ]
      },
      {
       "output_type": "stream",
       "stream": "stdout",
       "text": [
        " imp.4=>cond.6"
       ]
      },
      {
       "output_type": "stream",
       "stream": "stdout",
       "text": [
        " imp.4=>pst.1"
       ]
      },
      {
       "output_type": "stream",
       "stream": "stdout",
       "text": [
        " imp.4=>pst.2"
       ]
      },
      {
       "output_type": "stream",
       "stream": "stdout",
       "text": [
        " imp.4=>pst.3"
       ]
      },
      {
       "output_type": "stream",
       "stream": "stdout",
       "text": [
        " imp.4=>pst.4"
       ]
      },
      {
       "output_type": "stream",
       "stream": "stdout",
       "text": [
        " imp.4=>pst.5"
       ]
      },
      {
       "output_type": "stream",
       "stream": "stdout",
       "text": [
        " imp.4=>pst.6"
       ]
      },
      {
       "output_type": "stream",
       "stream": "stdout",
       "text": [
        " imp.4=>pst.sbj.1"
       ]
      },
      {
       "output_type": "stream",
       "stream": "stdout",
       "text": [
        " imp.4=>pst.sbj.2"
       ]
      },
      {
       "output_type": "stream",
       "stream": "stdout",
       "text": [
        " imp.4=>pst.sbj.3"
       ]
      },
      {
       "output_type": "stream",
       "stream": "stdout",
       "text": [
        " imp.4=>pst.sbj.4"
       ]
      },
      {
       "output_type": "stream",
       "stream": "stdout",
       "text": [
        " imp.4=>pst.sbj.5"
       ]
      },
      {
       "output_type": "stream",
       "stream": "stdout",
       "text": [
        " imp.4=>pst.sbj.6"
       ]
      },
      {
       "output_type": "stream",
       "stream": "stdout",
       "text": [
        " imp.4=>inf"
       ]
      },
      {
       "output_type": "stream",
       "stream": "stdout",
       "text": [
        " imp.4=>prs.pcp"
       ]
      },
      {
       "output_type": "stream",
       "stream": "stdout",
       "text": [
        " imp.4=>pst.pcp imp.5=>ipf.1"
       ]
      },
      {
       "output_type": "stream",
       "stream": "stdout",
       "text": [
        " imp.5=>ipf.2 imp.5=>ipf.3"
       ]
      },
      {
       "output_type": "stream",
       "stream": "stdout",
       "text": [
        " imp.5=>ipf.4 imp.5=>ipf.5"
       ]
      },
      {
       "output_type": "stream",
       "stream": "stdout",
       "text": [
        " imp.5=>ipf.6 imp.5=>prs.1"
       ]
      },
      {
       "output_type": "stream",
       "stream": "stdout",
       "text": [
        " imp.5=>prs.2 imp.5=>prs.3"
       ]
      },
      {
       "output_type": "stream",
       "stream": "stdout",
       "text": [
        " imp.5=>prs.4 imp.5=>prs.5"
       ]
      },
      {
       "output_type": "stream",
       "stream": "stdout",
       "text": [
        " imp.5=>prs.6 imp.5=>imp.2"
       ]
      },
      {
       "output_type": "stream",
       "stream": "stdout",
       "text": [
        " imp.5=>imp.4 imp.5=>sbjv.1 imp.5=>sbjv.2"
       ]
      },
      {
       "output_type": "stream",
       "stream": "stdout",
       "text": [
        " imp.5=>sbjv.3 imp.5=>sbjv.4 imp.5=>sbjv.5"
       ]
      },
      {
       "output_type": "stream",
       "stream": "stdout",
       "text": [
        " imp.5=>sbjv.6 imp.5=>fut.1 imp.5=>fut.2"
       ]
      },
      {
       "output_type": "stream",
       "stream": "stdout",
       "text": [
        " imp.5=>fut.3"
       ]
      },
      {
       "output_type": "stream",
       "stream": "stdout",
       "text": [
        " imp.5=>fut.4"
       ]
      },
      {
       "output_type": "stream",
       "stream": "stdout",
       "text": [
        " imp.5=>fut.5"
       ]
      },
      {
       "output_type": "stream",
       "stream": "stdout",
       "text": [
        " imp.5=>fut.6"
       ]
      },
      {
       "output_type": "stream",
       "stream": "stdout",
       "text": [
        " imp.5=>cond.1"
       ]
      },
      {
       "output_type": "stream",
       "stream": "stdout",
       "text": [
        " imp.5=>cond.2"
       ]
      },
      {
       "output_type": "stream",
       "stream": "stdout",
       "text": [
        " imp.5=>cond.3"
       ]
      },
      {
       "output_type": "stream",
       "stream": "stdout",
       "text": [
        " imp.5=>cond.4"
       ]
      },
      {
       "output_type": "stream",
       "stream": "stdout",
       "text": [
        " imp.5=>cond.5"
       ]
      },
      {
       "output_type": "stream",
       "stream": "stdout",
       "text": [
        " imp.5=>cond.6"
       ]
      },
      {
       "output_type": "stream",
       "stream": "stdout",
       "text": [
        " imp.5=>pst.1"
       ]
      },
      {
       "output_type": "stream",
       "stream": "stdout",
       "text": [
        " imp.5=>pst.2"
       ]
      },
      {
       "output_type": "stream",
       "stream": "stdout",
       "text": [
        " imp.5=>pst.3"
       ]
      },
      {
       "output_type": "stream",
       "stream": "stdout",
       "text": [
        " imp.5=>pst.4"
       ]
      },
      {
       "output_type": "stream",
       "stream": "stdout",
       "text": [
        " imp.5=>pst.5"
       ]
      },
      {
       "output_type": "stream",
       "stream": "stdout",
       "text": [
        " imp.5=>pst.6"
       ]
      },
      {
       "output_type": "stream",
       "stream": "stdout",
       "text": [
        " imp.5=>pst.sbj.1"
       ]
      },
      {
       "output_type": "stream",
       "stream": "stdout",
       "text": [
        " imp.5=>pst.sbj.2"
       ]
      },
      {
       "output_type": "stream",
       "stream": "stdout",
       "text": [
        " imp.5=>pst.sbj.3"
       ]
      },
      {
       "output_type": "stream",
       "stream": "stdout",
       "text": [
        " imp.5=>pst.sbj.4"
       ]
      },
      {
       "output_type": "stream",
       "stream": "stdout",
       "text": [
        " imp.5=>pst.sbj.5"
       ]
      },
      {
       "output_type": "stream",
       "stream": "stdout",
       "text": [
        " imp.5=>pst.sbj.6"
       ]
      },
      {
       "output_type": "stream",
       "stream": "stdout",
       "text": [
        " imp.5=>inf"
       ]
      },
      {
       "output_type": "stream",
       "stream": "stdout",
       "text": [
        " imp.5=>prs.pcp"
       ]
      },
      {
       "output_type": "stream",
       "stream": "stdout",
       "text": [
        " imp.5=>pst.pcp sbjv.1=>ipf.1"
       ]
      },
      {
       "output_type": "stream",
       "stream": "stdout",
       "text": [
        " sbjv.1=>ipf.2"
       ]
      },
      {
       "output_type": "stream",
       "stream": "stdout",
       "text": [
        " sbjv.1=>ipf.3"
       ]
      },
      {
       "output_type": "stream",
       "stream": "stdout",
       "text": [
        " sbjv.1=>ipf.4"
       ]
      },
      {
       "output_type": "stream",
       "stream": "stdout",
       "text": [
        " sbjv.1=>ipf.5"
       ]
      },
      {
       "output_type": "stream",
       "stream": "stdout",
       "text": [
        " sbjv.1=>ipf.6"
       ]
      },
      {
       "output_type": "stream",
       "stream": "stdout",
       "text": [
        " sbjv.1=>prs.1"
       ]
      },
      {
       "output_type": "stream",
       "stream": "stdout",
       "text": [
        " sbjv.1=>prs.2"
       ]
      },
      {
       "output_type": "stream",
       "stream": "stdout",
       "text": [
        " sbjv.1=>prs.3"
       ]
      },
      {
       "output_type": "stream",
       "stream": "stdout",
       "text": [
        " sbjv.1=>prs.4"
       ]
      },
      {
       "output_type": "stream",
       "stream": "stdout",
       "text": [
        " sbjv.1=>prs.5"
       ]
      },
      {
       "output_type": "stream",
       "stream": "stdout",
       "text": [
        " sbjv.1=>prs.6"
       ]
      },
      {
       "output_type": "stream",
       "stream": "stdout",
       "text": [
        " sbjv.1=>imp.2 sbjv.1=>imp.4"
       ]
      },
      {
       "output_type": "stream",
       "stream": "stdout",
       "text": [
        " sbjv.1=>imp.5"
       ]
      },
      {
       "output_type": "stream",
       "stream": "stdout",
       "text": [
        " sbjv.1=>sbjv.2"
       ]
      },
      {
       "output_type": "stream",
       "stream": "stdout",
       "text": [
        " sbjv.1=>sbjv.3 sbjv.1=>sbjv.4 sbjv.1=>sbjv.5"
       ]
      },
      {
       "output_type": "stream",
       "stream": "stdout",
       "text": [
        " sbjv.1=>sbjv.6"
       ]
      },
      {
       "output_type": "stream",
       "stream": "stdout",
       "text": [
        " sbjv.1=>fut.1 sbjv.1=>fut.2"
       ]
      },
      {
       "output_type": "stream",
       "stream": "stdout",
       "text": [
        " sbjv.1=>fut.3"
       ]
      },
      {
       "output_type": "stream",
       "stream": "stdout",
       "text": [
        " sbjv.1=>fut.4"
       ]
      },
      {
       "output_type": "stream",
       "stream": "stdout",
       "text": [
        " sbjv.1=>fut.5"
       ]
      },
      {
       "output_type": "stream",
       "stream": "stdout",
       "text": [
        " sbjv.1=>fut.6"
       ]
      },
      {
       "output_type": "stream",
       "stream": "stdout",
       "text": [
        " sbjv.1=>cond.1"
       ]
      },
      {
       "output_type": "stream",
       "stream": "stdout",
       "text": [
        " sbjv.1=>cond.2"
       ]
      },
      {
       "output_type": "stream",
       "stream": "stdout",
       "text": [
        " sbjv.1=>cond.3"
       ]
      },
      {
       "output_type": "stream",
       "stream": "stdout",
       "text": [
        " sbjv.1=>cond.4"
       ]
      },
      {
       "output_type": "stream",
       "stream": "stdout",
       "text": [
        " sbjv.1=>cond.5"
       ]
      },
      {
       "output_type": "stream",
       "stream": "stdout",
       "text": [
        " sbjv.1=>cond.6"
       ]
      },
      {
       "output_type": "stream",
       "stream": "stdout",
       "text": [
        " sbjv.1=>pst.1"
       ]
      },
      {
       "output_type": "stream",
       "stream": "stdout",
       "text": [
        " sbjv.1=>pst.2"
       ]
      },
      {
       "output_type": "stream",
       "stream": "stdout",
       "text": [
        " sbjv.1=>pst.3"
       ]
      },
      {
       "output_type": "stream",
       "stream": "stdout",
       "text": [
        " sbjv.1=>pst.4"
       ]
      },
      {
       "output_type": "stream",
       "stream": "stdout",
       "text": [
        " sbjv.1=>pst.5"
       ]
      },
      {
       "output_type": "stream",
       "stream": "stdout",
       "text": [
        " sbjv.1=>pst.6"
       ]
      },
      {
       "output_type": "stream",
       "stream": "stdout",
       "text": [
        " sbjv.1=>pst.sbj.1"
       ]
      },
      {
       "output_type": "stream",
       "stream": "stdout",
       "text": [
        " sbjv.1=>pst.sbj.2"
       ]
      },
      {
       "output_type": "stream",
       "stream": "stdout",
       "text": [
        " sbjv.1=>pst.sbj.3"
       ]
      },
      {
       "output_type": "stream",
       "stream": "stdout",
       "text": [
        " sbjv.1=>pst.sbj.4"
       ]
      },
      {
       "output_type": "stream",
       "stream": "stdout",
       "text": [
        " sbjv.1=>pst.sbj.5"
       ]
      },
      {
       "output_type": "stream",
       "stream": "stdout",
       "text": [
        " sbjv.1=>pst.sbj.6"
       ]
      },
      {
       "output_type": "stream",
       "stream": "stdout",
       "text": [
        " sbjv.1=>inf"
       ]
      },
      {
       "output_type": "stream",
       "stream": "stdout",
       "text": [
        " sbjv.1=>prs.pcp"
       ]
      },
      {
       "output_type": "stream",
       "stream": "stdout",
       "text": [
        " sbjv.1=>pst.pcp"
       ]
      },
      {
       "output_type": "stream",
       "stream": "stdout",
       "text": [
        " sbjv.2=>ipf.1"
       ]
      },
      {
       "output_type": "stream",
       "stream": "stdout",
       "text": [
        " sbjv.2=>ipf.2"
       ]
      },
      {
       "output_type": "stream",
       "stream": "stdout",
       "text": [
        " sbjv.2=>ipf.3"
       ]
      },
      {
       "output_type": "stream",
       "stream": "stdout",
       "text": [
        " sbjv.2=>ipf.4"
       ]
      },
      {
       "output_type": "stream",
       "stream": "stdout",
       "text": [
        " sbjv.2=>ipf.5"
       ]
      },
      {
       "output_type": "stream",
       "stream": "stdout",
       "text": [
        " sbjv.2=>ipf.6"
       ]
      },
      {
       "output_type": "stream",
       "stream": "stdout",
       "text": [
        " sbjv.2=>prs.1"
       ]
      },
      {
       "output_type": "stream",
       "stream": "stdout",
       "text": [
        " sbjv.2=>prs.2"
       ]
      },
      {
       "output_type": "stream",
       "stream": "stdout",
       "text": [
        " sbjv.2=>prs.3"
       ]
      },
      {
       "output_type": "stream",
       "stream": "stdout",
       "text": [
        " sbjv.2=>prs.4"
       ]
      },
      {
       "output_type": "stream",
       "stream": "stdout",
       "text": [
        " sbjv.2=>prs.5"
       ]
      },
      {
       "output_type": "stream",
       "stream": "stdout",
       "text": [
        " sbjv.2=>prs.6"
       ]
      },
      {
       "output_type": "stream",
       "stream": "stdout",
       "text": [
        " sbjv.2=>imp.2 sbjv.2=>imp.4"
       ]
      },
      {
       "output_type": "stream",
       "stream": "stdout",
       "text": [
        " sbjv.2=>imp.5"
       ]
      },
      {
       "output_type": "stream",
       "stream": "stdout",
       "text": [
        " sbjv.2=>sbjv.1"
       ]
      },
      {
       "output_type": "stream",
       "stream": "stdout",
       "text": [
        " sbjv.2=>sbjv.3 sbjv.2=>sbjv.4 sbjv.2=>sbjv.5"
       ]
      },
      {
       "output_type": "stream",
       "stream": "stdout",
       "text": [
        " sbjv.2=>sbjv.6"
       ]
      },
      {
       "output_type": "stream",
       "stream": "stdout",
       "text": [
        " sbjv.2=>fut.1 sbjv.2=>fut.2"
       ]
      },
      {
       "output_type": "stream",
       "stream": "stdout",
       "text": [
        " sbjv.2=>fut.3"
       ]
      },
      {
       "output_type": "stream",
       "stream": "stdout",
       "text": [
        " sbjv.2=>fut.4"
       ]
      },
      {
       "output_type": "stream",
       "stream": "stdout",
       "text": [
        " sbjv.2=>fut.5"
       ]
      },
      {
       "output_type": "stream",
       "stream": "stdout",
       "text": [
        " sbjv.2=>fut.6"
       ]
      },
      {
       "output_type": "stream",
       "stream": "stdout",
       "text": [
        " sbjv.2=>cond.1"
       ]
      },
      {
       "output_type": "stream",
       "stream": "stdout",
       "text": [
        " sbjv.2=>cond.2"
       ]
      },
      {
       "output_type": "stream",
       "stream": "stdout",
       "text": [
        " sbjv.2=>cond.3"
       ]
      },
      {
       "output_type": "stream",
       "stream": "stdout",
       "text": [
        " sbjv.2=>cond.4"
       ]
      },
      {
       "output_type": "stream",
       "stream": "stdout",
       "text": [
        " sbjv.2=>cond.5"
       ]
      },
      {
       "output_type": "stream",
       "stream": "stdout",
       "text": [
        " sbjv.2=>cond.6"
       ]
      },
      {
       "output_type": "stream",
       "stream": "stdout",
       "text": [
        " sbjv.2=>pst.1"
       ]
      },
      {
       "output_type": "stream",
       "stream": "stdout",
       "text": [
        " sbjv.2=>pst.2"
       ]
      },
      {
       "output_type": "stream",
       "stream": "stdout",
       "text": [
        " sbjv.2=>pst.3"
       ]
      },
      {
       "output_type": "stream",
       "stream": "stdout",
       "text": [
        " sbjv.2=>pst.4"
       ]
      },
      {
       "output_type": "stream",
       "stream": "stdout",
       "text": [
        " sbjv.2=>pst.5"
       ]
      },
      {
       "output_type": "stream",
       "stream": "stdout",
       "text": [
        " sbjv.2=>pst.6"
       ]
      },
      {
       "output_type": "stream",
       "stream": "stdout",
       "text": [
        " sbjv.2=>pst.sbj.1"
       ]
      },
      {
       "output_type": "stream",
       "stream": "stdout",
       "text": [
        " sbjv.2=>pst.sbj.2"
       ]
      },
      {
       "output_type": "stream",
       "stream": "stdout",
       "text": [
        " sbjv.2=>pst.sbj.3"
       ]
      },
      {
       "output_type": "stream",
       "stream": "stdout",
       "text": [
        " sbjv.2=>pst.sbj.4"
       ]
      },
      {
       "output_type": "stream",
       "stream": "stdout",
       "text": [
        " sbjv.2=>pst.sbj.5"
       ]
      },
      {
       "output_type": "stream",
       "stream": "stdout",
       "text": [
        " sbjv.2=>pst.sbj.6"
       ]
      },
      {
       "output_type": "stream",
       "stream": "stdout",
       "text": [
        " sbjv.2=>inf"
       ]
      },
      {
       "output_type": "stream",
       "stream": "stdout",
       "text": [
        " sbjv.2=>prs.pcp"
       ]
      },
      {
       "output_type": "stream",
       "stream": "stdout",
       "text": [
        " sbjv.2=>pst.pcp"
       ]
      },
      {
       "output_type": "stream",
       "stream": "stdout",
       "text": [
        " sbjv.3=>ipf.1"
       ]
      },
      {
       "output_type": "stream",
       "stream": "stdout",
       "text": [
        " sbjv.3=>ipf.2"
       ]
      },
      {
       "output_type": "stream",
       "stream": "stdout",
       "text": [
        " sbjv.3=>ipf.3"
       ]
      },
      {
       "output_type": "stream",
       "stream": "stdout",
       "text": [
        " sbjv.3=>ipf.4"
       ]
      },
      {
       "output_type": "stream",
       "stream": "stdout",
       "text": [
        " sbjv.3=>ipf.5"
       ]
      },
      {
       "output_type": "stream",
       "stream": "stdout",
       "text": [
        " sbjv.3=>ipf.6"
       ]
      },
      {
       "output_type": "stream",
       "stream": "stdout",
       "text": [
        " sbjv.3=>prs.1"
       ]
      },
      {
       "output_type": "stream",
       "stream": "stdout",
       "text": [
        " sbjv.3=>prs.2"
       ]
      },
      {
       "output_type": "stream",
       "stream": "stdout",
       "text": [
        " sbjv.3=>prs.3"
       ]
      },
      {
       "output_type": "stream",
       "stream": "stdout",
       "text": [
        " sbjv.3=>prs.4"
       ]
      },
      {
       "output_type": "stream",
       "stream": "stdout",
       "text": [
        " sbjv.3=>prs.5"
       ]
      },
      {
       "output_type": "stream",
       "stream": "stdout",
       "text": [
        " sbjv.3=>prs.6"
       ]
      },
      {
       "output_type": "stream",
       "stream": "stdout",
       "text": [
        " sbjv.3=>imp.2 sbjv.3=>imp.4"
       ]
      },
      {
       "output_type": "stream",
       "stream": "stdout",
       "text": [
        " sbjv.3=>imp.5"
       ]
      },
      {
       "output_type": "stream",
       "stream": "stdout",
       "text": [
        " sbjv.3=>sbjv.1"
       ]
      },
      {
       "output_type": "stream",
       "stream": "stdout",
       "text": [
        " sbjv.3=>sbjv.2 sbjv.3=>sbjv.4 sbjv.3=>sbjv.5"
       ]
      },
      {
       "output_type": "stream",
       "stream": "stdout",
       "text": [
        " sbjv.3=>sbjv.6"
       ]
      },
      {
       "output_type": "stream",
       "stream": "stdout",
       "text": [
        " sbjv.3=>fut.1 sbjv.3=>fut.2"
       ]
      },
      {
       "output_type": "stream",
       "stream": "stdout",
       "text": [
        " sbjv.3=>fut.3"
       ]
      },
      {
       "output_type": "stream",
       "stream": "stdout",
       "text": [
        " sbjv.3=>fut.4"
       ]
      },
      {
       "output_type": "stream",
       "stream": "stdout",
       "text": [
        " sbjv.3=>fut.5"
       ]
      },
      {
       "output_type": "stream",
       "stream": "stdout",
       "text": [
        " sbjv.3=>fut.6"
       ]
      },
      {
       "output_type": "stream",
       "stream": "stdout",
       "text": [
        " sbjv.3=>cond.1"
       ]
      },
      {
       "output_type": "stream",
       "stream": "stdout",
       "text": [
        " sbjv.3=>cond.2"
       ]
      },
      {
       "output_type": "stream",
       "stream": "stdout",
       "text": [
        " sbjv.3=>cond.3"
       ]
      },
      {
       "output_type": "stream",
       "stream": "stdout",
       "text": [
        " sbjv.3=>cond.4"
       ]
      },
      {
       "output_type": "stream",
       "stream": "stdout",
       "text": [
        " sbjv.3=>cond.5"
       ]
      },
      {
       "output_type": "stream",
       "stream": "stdout",
       "text": [
        " sbjv.3=>cond.6"
       ]
      },
      {
       "output_type": "stream",
       "stream": "stdout",
       "text": [
        " sbjv.3=>pst.1"
       ]
      },
      {
       "output_type": "stream",
       "stream": "stdout",
       "text": [
        " sbjv.3=>pst.2"
       ]
      },
      {
       "output_type": "stream",
       "stream": "stdout",
       "text": [
        " sbjv.3=>pst.3"
       ]
      },
      {
       "output_type": "stream",
       "stream": "stdout",
       "text": [
        " sbjv.3=>pst.4"
       ]
      },
      {
       "output_type": "stream",
       "stream": "stdout",
       "text": [
        " sbjv.3=>pst.5"
       ]
      },
      {
       "output_type": "stream",
       "stream": "stdout",
       "text": [
        " sbjv.3=>pst.6"
       ]
      },
      {
       "output_type": "stream",
       "stream": "stdout",
       "text": [
        " sbjv.3=>pst.sbj.1"
       ]
      },
      {
       "output_type": "stream",
       "stream": "stdout",
       "text": [
        " sbjv.3=>pst.sbj.2"
       ]
      },
      {
       "output_type": "stream",
       "stream": "stdout",
       "text": [
        " sbjv.3=>pst.sbj.3"
       ]
      },
      {
       "output_type": "stream",
       "stream": "stdout",
       "text": [
        " sbjv.3=>pst.sbj.4"
       ]
      },
      {
       "output_type": "stream",
       "stream": "stdout",
       "text": [
        " sbjv.3=>pst.sbj.5"
       ]
      },
      {
       "output_type": "stream",
       "stream": "stdout",
       "text": [
        " sbjv.3=>pst.sbj.6"
       ]
      },
      {
       "output_type": "stream",
       "stream": "stdout",
       "text": [
        " sbjv.3=>inf"
       ]
      },
      {
       "output_type": "stream",
       "stream": "stdout",
       "text": [
        " sbjv.3=>prs.pcp"
       ]
      },
      {
       "output_type": "stream",
       "stream": "stdout",
       "text": [
        " sbjv.3=>pst.pcp"
       ]
      },
      {
       "output_type": "stream",
       "stream": "stdout",
       "text": [
        " sbjv.4=>ipf.1"
       ]
      },
      {
       "output_type": "stream",
       "stream": "stdout",
       "text": [
        " sbjv.4=>ipf.2 sbjv.4=>ipf.3 sbjv.4=>ipf.4"
       ]
      },
      {
       "output_type": "stream",
       "stream": "stdout",
       "text": [
        " sbjv.4=>ipf.5 sbjv.4=>ipf.6"
       ]
      },
      {
       "output_type": "stream",
       "stream": "stdout",
       "text": [
        " sbjv.4=>prs.1 sbjv.4=>prs.2"
       ]
      },
      {
       "output_type": "stream",
       "stream": "stdout",
       "text": [
        " sbjv.4=>prs.3"
       ]
      },
      {
       "output_type": "stream",
       "stream": "stdout",
       "text": [
        " sbjv.4=>prs.4"
       ]
      },
      {
       "output_type": "stream",
       "stream": "stdout",
       "text": [
        " sbjv.4=>prs.5 sbjv.4=>prs.6"
       ]
      },
      {
       "output_type": "stream",
       "stream": "stdout",
       "text": [
        " sbjv.4=>imp.2"
       ]
      },
      {
       "output_type": "stream",
       "stream": "stdout",
       "text": [
        " sbjv.4=>imp.4"
       ]
      },
      {
       "output_type": "stream",
       "stream": "stdout",
       "text": [
        " sbjv.4=>imp.5 sbjv.4=>sbjv.1 sbjv.4=>sbjv.2"
       ]
      },
      {
       "output_type": "stream",
       "stream": "stdout",
       "text": [
        " sbjv.4=>sbjv.3 sbjv.4=>sbjv.5"
       ]
      },
      {
       "output_type": "stream",
       "stream": "stdout",
       "text": [
        " sbjv.4=>sbjv.6 sbjv.4=>fut.1 sbjv.4=>fut.2"
       ]
      },
      {
       "output_type": "stream",
       "stream": "stdout",
       "text": [
        " sbjv.4=>fut.3"
       ]
      },
      {
       "output_type": "stream",
       "stream": "stdout",
       "text": [
        " sbjv.4=>fut.4"
       ]
      },
      {
       "output_type": "stream",
       "stream": "stdout",
       "text": [
        " sbjv.4=>fut.5"
       ]
      },
      {
       "output_type": "stream",
       "stream": "stdout",
       "text": [
        " sbjv.4=>fut.6"
       ]
      },
      {
       "output_type": "stream",
       "stream": "stdout",
       "text": [
        " sbjv.4=>cond.1"
       ]
      },
      {
       "output_type": "stream",
       "stream": "stdout",
       "text": [
        " sbjv.4=>cond.2"
       ]
      },
      {
       "output_type": "stream",
       "stream": "stdout",
       "text": [
        " sbjv.4=>cond.3"
       ]
      },
      {
       "output_type": "stream",
       "stream": "stdout",
       "text": [
        " sbjv.4=>cond.4"
       ]
      },
      {
       "output_type": "stream",
       "stream": "stdout",
       "text": [
        " sbjv.4=>cond.5"
       ]
      },
      {
       "output_type": "stream",
       "stream": "stdout",
       "text": [
        " sbjv.4=>cond.6"
       ]
      },
      {
       "output_type": "stream",
       "stream": "stdout",
       "text": [
        " sbjv.4=>pst.1"
       ]
      },
      {
       "output_type": "stream",
       "stream": "stdout",
       "text": [
        " sbjv.4=>pst.2"
       ]
      },
      {
       "output_type": "stream",
       "stream": "stdout",
       "text": [
        " sbjv.4=>pst.3"
       ]
      },
      {
       "output_type": "stream",
       "stream": "stdout",
       "text": [
        " sbjv.4=>pst.4"
       ]
      },
      {
       "output_type": "stream",
       "stream": "stdout",
       "text": [
        " sbjv.4=>pst.5"
       ]
      },
      {
       "output_type": "stream",
       "stream": "stdout",
       "text": [
        " sbjv.4=>pst.6"
       ]
      },
      {
       "output_type": "stream",
       "stream": "stdout",
       "text": [
        " sbjv.4=>pst.sbj.1"
       ]
      },
      {
       "output_type": "stream",
       "stream": "stdout",
       "text": [
        " sbjv.4=>pst.sbj.2"
       ]
      },
      {
       "output_type": "stream",
       "stream": "stdout",
       "text": [
        " sbjv.4=>pst.sbj.3"
       ]
      },
      {
       "output_type": "stream",
       "stream": "stdout",
       "text": [
        " sbjv.4=>pst.sbj.4"
       ]
      },
      {
       "output_type": "stream",
       "stream": "stdout",
       "text": [
        " sbjv.4=>pst.sbj.5"
       ]
      },
      {
       "output_type": "stream",
       "stream": "stdout",
       "text": [
        " sbjv.4=>pst.sbj.6"
       ]
      },
      {
       "output_type": "stream",
       "stream": "stdout",
       "text": [
        " sbjv.4=>inf"
       ]
      },
      {
       "output_type": "stream",
       "stream": "stdout",
       "text": [
        " sbjv.4=>prs.pcp"
       ]
      },
      {
       "output_type": "stream",
       "stream": "stdout",
       "text": [
        " sbjv.4=>pst.pcp sbjv.5=>ipf.1"
       ]
      },
      {
       "output_type": "stream",
       "stream": "stdout",
       "text": [
        " sbjv.5=>ipf.2 sbjv.5=>ipf.3"
       ]
      },
      {
       "output_type": "stream",
       "stream": "stdout",
       "text": [
        " sbjv.5=>ipf.4 sbjv.5=>ipf.5"
       ]
      },
      {
       "output_type": "stream",
       "stream": "stdout",
       "text": [
        " sbjv.5=>ipf.6 sbjv.5=>prs.1"
       ]
      },
      {
       "output_type": "stream",
       "stream": "stdout",
       "text": [
        " sbjv.5=>prs.2"
       ]
      },
      {
       "output_type": "stream",
       "stream": "stdout",
       "text": [
        " sbjv.5=>prs.3"
       ]
      },
      {
       "output_type": "stream",
       "stream": "stdout",
       "text": [
        " sbjv.5=>prs.4"
       ]
      },
      {
       "output_type": "stream",
       "stream": "stdout",
       "text": [
        " sbjv.5=>prs.5 sbjv.5=>prs.6"
       ]
      },
      {
       "output_type": "stream",
       "stream": "stdout",
       "text": [
        " sbjv.5=>imp.2"
       ]
      },
      {
       "output_type": "stream",
       "stream": "stdout",
       "text": [
        " sbjv.5=>imp.4"
       ]
      },
      {
       "output_type": "stream",
       "stream": "stdout",
       "text": [
        " sbjv.5=>imp.5 sbjv.5=>sbjv.1 sbjv.5=>sbjv.2"
       ]
      },
      {
       "output_type": "stream",
       "stream": "stdout",
       "text": [
        " sbjv.5=>sbjv.3"
       ]
      },
      {
       "output_type": "stream",
       "stream": "stdout",
       "text": [
        " sbjv.5=>sbjv.4 sbjv.5=>sbjv.6 sbjv.5=>fut.1"
       ]
      },
      {
       "output_type": "stream",
       "stream": "stdout",
       "text": [
        " sbjv.5=>fut.2"
       ]
      },
      {
       "output_type": "stream",
       "stream": "stdout",
       "text": [
        " sbjv.5=>fut.3"
       ]
      },
      {
       "output_type": "stream",
       "stream": "stdout",
       "text": [
        " sbjv.5=>fut.4"
       ]
      },
      {
       "output_type": "stream",
       "stream": "stdout",
       "text": [
        " sbjv.5=>fut.5"
       ]
      },
      {
       "output_type": "stream",
       "stream": "stdout",
       "text": [
        " sbjv.5=>fut.6"
       ]
      },
      {
       "output_type": "stream",
       "stream": "stdout",
       "text": [
        " sbjv.5=>cond.1"
       ]
      },
      {
       "output_type": "stream",
       "stream": "stdout",
       "text": [
        " sbjv.5=>cond.2"
       ]
      },
      {
       "output_type": "stream",
       "stream": "stdout",
       "text": [
        " sbjv.5=>cond.3"
       ]
      },
      {
       "output_type": "stream",
       "stream": "stdout",
       "text": [
        " sbjv.5=>cond.4"
       ]
      },
      {
       "output_type": "stream",
       "stream": "stdout",
       "text": [
        " sbjv.5=>cond.5"
       ]
      },
      {
       "output_type": "stream",
       "stream": "stdout",
       "text": [
        " sbjv.5=>cond.6"
       ]
      },
      {
       "output_type": "stream",
       "stream": "stdout",
       "text": [
        " sbjv.5=>pst.1"
       ]
      },
      {
       "output_type": "stream",
       "stream": "stdout",
       "text": [
        " sbjv.5=>pst.2"
       ]
      },
      {
       "output_type": "stream",
       "stream": "stdout",
       "text": [
        " sbjv.5=>pst.3"
       ]
      },
      {
       "output_type": "stream",
       "stream": "stdout",
       "text": [
        " sbjv.5=>pst.4"
       ]
      },
      {
       "output_type": "stream",
       "stream": "stdout",
       "text": [
        " sbjv.5=>pst.5"
       ]
      },
      {
       "output_type": "stream",
       "stream": "stdout",
       "text": [
        " sbjv.5=>pst.6"
       ]
      },
      {
       "output_type": "stream",
       "stream": "stdout",
       "text": [
        " sbjv.5=>pst.sbj.1"
       ]
      },
      {
       "output_type": "stream",
       "stream": "stdout",
       "text": [
        " sbjv.5=>pst.sbj.2"
       ]
      },
      {
       "output_type": "stream",
       "stream": "stdout",
       "text": [
        " sbjv.5=>pst.sbj.3"
       ]
      },
      {
       "output_type": "stream",
       "stream": "stdout",
       "text": [
        " sbjv.5=>pst.sbj.4"
       ]
      },
      {
       "output_type": "stream",
       "stream": "stdout",
       "text": [
        " sbjv.5=>pst.sbj.5"
       ]
      },
      {
       "output_type": "stream",
       "stream": "stdout",
       "text": [
        " sbjv.5=>pst.sbj.6"
       ]
      },
      {
       "output_type": "stream",
       "stream": "stdout",
       "text": [
        " sbjv.5=>inf"
       ]
      },
      {
       "output_type": "stream",
       "stream": "stdout",
       "text": [
        " sbjv.5=>prs.pcp"
       ]
      },
      {
       "output_type": "stream",
       "stream": "stdout",
       "text": [
        " sbjv.5=>pst.pcp sbjv.6=>ipf.1"
       ]
      },
      {
       "output_type": "stream",
       "stream": "stdout",
       "text": [
        " sbjv.6=>ipf.2"
       ]
      },
      {
       "output_type": "stream",
       "stream": "stdout",
       "text": [
        " sbjv.6=>ipf.3"
       ]
      },
      {
       "output_type": "stream",
       "stream": "stdout",
       "text": [
        " sbjv.6=>ipf.4"
       ]
      },
      {
       "output_type": "stream",
       "stream": "stdout",
       "text": [
        " sbjv.6=>ipf.5"
       ]
      },
      {
       "output_type": "stream",
       "stream": "stdout",
       "text": [
        " sbjv.6=>ipf.6"
       ]
      },
      {
       "output_type": "stream",
       "stream": "stdout",
       "text": [
        " sbjv.6=>prs.1"
       ]
      },
      {
       "output_type": "stream",
       "stream": "stdout",
       "text": [
        " sbjv.6=>prs.2"
       ]
      },
      {
       "output_type": "stream",
       "stream": "stdout",
       "text": [
        " sbjv.6=>prs.3"
       ]
      },
      {
       "output_type": "stream",
       "stream": "stdout",
       "text": [
        " sbjv.6=>prs.4"
       ]
      },
      {
       "output_type": "stream",
       "stream": "stdout",
       "text": [
        " sbjv.6=>prs.5"
       ]
      },
      {
       "output_type": "stream",
       "stream": "stdout",
       "text": [
        " sbjv.6=>prs.6"
       ]
      },
      {
       "output_type": "stream",
       "stream": "stdout",
       "text": [
        " sbjv.6=>imp.2 sbjv.6=>imp.4"
       ]
      },
      {
       "output_type": "stream",
       "stream": "stdout",
       "text": [
        " sbjv.6=>imp.5"
       ]
      },
      {
       "output_type": "stream",
       "stream": "stdout",
       "text": [
        " sbjv.6=>sbjv.1"
       ]
      },
      {
       "output_type": "stream",
       "stream": "stdout",
       "text": [
        " sbjv.6=>sbjv.2 sbjv.6=>sbjv.3 sbjv.6=>sbjv.4 sbjv.6=>sbjv.5"
       ]
      },
      {
       "output_type": "stream",
       "stream": "stdout",
       "text": [
        " sbjv.6=>fut.1"
       ]
      },
      {
       "output_type": "stream",
       "stream": "stdout",
       "text": [
        " sbjv.6=>fut.2"
       ]
      },
      {
       "output_type": "stream",
       "stream": "stdout",
       "text": [
        " sbjv.6=>fut.3"
       ]
      },
      {
       "output_type": "stream",
       "stream": "stdout",
       "text": [
        " sbjv.6=>fut.4"
       ]
      },
      {
       "output_type": "stream",
       "stream": "stdout",
       "text": [
        " sbjv.6=>fut.5"
       ]
      },
      {
       "output_type": "stream",
       "stream": "stdout",
       "text": [
        " sbjv.6=>fut.6"
       ]
      },
      {
       "output_type": "stream",
       "stream": "stdout",
       "text": [
        " sbjv.6=>cond.1"
       ]
      },
      {
       "output_type": "stream",
       "stream": "stdout",
       "text": [
        " sbjv.6=>cond.2"
       ]
      },
      {
       "output_type": "stream",
       "stream": "stdout",
       "text": [
        " sbjv.6=>cond.3"
       ]
      },
      {
       "output_type": "stream",
       "stream": "stdout",
       "text": [
        " sbjv.6=>cond.4"
       ]
      },
      {
       "output_type": "stream",
       "stream": "stdout",
       "text": [
        " sbjv.6=>cond.5"
       ]
      },
      {
       "output_type": "stream",
       "stream": "stdout",
       "text": [
        " sbjv.6=>cond.6"
       ]
      },
      {
       "output_type": "stream",
       "stream": "stdout",
       "text": [
        " sbjv.6=>pst.1"
       ]
      },
      {
       "output_type": "stream",
       "stream": "stdout",
       "text": [
        " sbjv.6=>pst.2"
       ]
      },
      {
       "output_type": "stream",
       "stream": "stdout",
       "text": [
        " sbjv.6=>pst.3"
       ]
      },
      {
       "output_type": "stream",
       "stream": "stdout",
       "text": [
        " sbjv.6=>pst.4"
       ]
      },
      {
       "output_type": "stream",
       "stream": "stdout",
       "text": [
        " sbjv.6=>pst.5"
       ]
      },
      {
       "output_type": "stream",
       "stream": "stdout",
       "text": [
        " sbjv.6=>pst.6"
       ]
      },
      {
       "output_type": "stream",
       "stream": "stdout",
       "text": [
        " sbjv.6=>pst.sbj.1"
       ]
      },
      {
       "output_type": "stream",
       "stream": "stdout",
       "text": [
        " sbjv.6=>pst.sbj.2"
       ]
      },
      {
       "output_type": "stream",
       "stream": "stdout",
       "text": [
        " sbjv.6=>pst.sbj.3"
       ]
      },
      {
       "output_type": "stream",
       "stream": "stdout",
       "text": [
        " sbjv.6=>pst.sbj.4"
       ]
      },
      {
       "output_type": "stream",
       "stream": "stdout",
       "text": [
        " sbjv.6=>pst.sbj.5"
       ]
      },
      {
       "output_type": "stream",
       "stream": "stdout",
       "text": [
        " sbjv.6=>pst.sbj.6"
       ]
      },
      {
       "output_type": "stream",
       "stream": "stdout",
       "text": [
        " sbjv.6=>inf"
       ]
      },
      {
       "output_type": "stream",
       "stream": "stdout",
       "text": [
        " sbjv.6=>prs.pcp"
       ]
      },
      {
       "output_type": "stream",
       "stream": "stdout",
       "text": [
        " sbjv.6=>pst.pcp"
       ]
      },
      {
       "output_type": "stream",
       "stream": "stdout",
       "text": [
        " fut.1=>ipf.1"
       ]
      },
      {
       "output_type": "stream",
       "stream": "stdout",
       "text": [
        " fut.1=>ipf.2"
       ]
      },
      {
       "output_type": "stream",
       "stream": "stdout",
       "text": [
        " fut.1=>ipf.3"
       ]
      },
      {
       "output_type": "stream",
       "stream": "stdout",
       "text": [
        " fut.1=>ipf.4"
       ]
      },
      {
       "output_type": "stream",
       "stream": "stdout",
       "text": [
        " fut.1=>ipf.5"
       ]
      },
      {
       "output_type": "stream",
       "stream": "stdout",
       "text": [
        " fut.1=>ipf.6"
       ]
      },
      {
       "output_type": "stream",
       "stream": "stdout",
       "text": [
        " fut.1=>prs.1"
       ]
      },
      {
       "output_type": "stream",
       "stream": "stdout",
       "text": [
        " fut.1=>prs.2"
       ]
      },
      {
       "output_type": "stream",
       "stream": "stdout",
       "text": [
        " fut.1=>prs.3"
       ]
      },
      {
       "output_type": "stream",
       "stream": "stdout",
       "text": [
        " fut.1=>prs.4"
       ]
      },
      {
       "output_type": "stream",
       "stream": "stdout",
       "text": [
        " fut.1=>prs.5"
       ]
      },
      {
       "output_type": "stream",
       "stream": "stdout",
       "text": [
        " fut.1=>prs.6"
       ]
      },
      {
       "output_type": "stream",
       "stream": "stdout",
       "text": [
        " fut.1=>imp.2"
       ]
      },
      {
       "output_type": "stream",
       "stream": "stdout",
       "text": [
        " fut.1=>imp.4"
       ]
      },
      {
       "output_type": "stream",
       "stream": "stdout",
       "text": [
        " fut.1=>imp.5"
       ]
      },
      {
       "output_type": "stream",
       "stream": "stdout",
       "text": [
        " fut.1=>sbjv.1"
       ]
      },
      {
       "output_type": "stream",
       "stream": "stdout",
       "text": [
        " fut.1=>sbjv.2"
       ]
      },
      {
       "output_type": "stream",
       "stream": "stdout",
       "text": [
        " fut.1=>sbjv.3"
       ]
      },
      {
       "output_type": "stream",
       "stream": "stdout",
       "text": [
        " fut.1=>sbjv.4"
       ]
      },
      {
       "output_type": "stream",
       "stream": "stdout",
       "text": [
        " fut.1=>sbjv.5"
       ]
      },
      {
       "output_type": "stream",
       "stream": "stdout",
       "text": [
        " fut.1=>sbjv.6"
       ]
      },
      {
       "output_type": "stream",
       "stream": "stdout",
       "text": [
        " fut.1=>fut.2"
       ]
      },
      {
       "output_type": "stream",
       "stream": "stdout",
       "text": [
        " fut.1=>fut.3 fut.1=>fut.4 fut.1=>fut.5 fut.1=>fut.6 fut.1=>cond.1 fut.1=>cond.2 fut.1=>cond.3"
       ]
      },
      {
       "output_type": "stream",
       "stream": "stdout",
       "text": [
        " fut.1=>cond.4 fut.1=>cond.5 fut.1=>cond.6"
       ]
      },
      {
       "output_type": "stream",
       "stream": "stdout",
       "text": [
        " fut.1=>pst.1 fut.1=>pst.2"
       ]
      },
      {
       "output_type": "stream",
       "stream": "stdout",
       "text": [
        " fut.1=>pst.3"
       ]
      },
      {
       "output_type": "stream",
       "stream": "stdout",
       "text": [
        " fut.1=>pst.4"
       ]
      },
      {
       "output_type": "stream",
       "stream": "stdout",
       "text": [
        " fut.1=>pst.5"
       ]
      },
      {
       "output_type": "stream",
       "stream": "stdout",
       "text": [
        " fut.1=>pst.6"
       ]
      },
      {
       "output_type": "stream",
       "stream": "stdout",
       "text": [
        " fut.1=>pst.sbj.1"
       ]
      },
      {
       "output_type": "stream",
       "stream": "stdout",
       "text": [
        " fut.1=>pst.sbj.2"
       ]
      },
      {
       "output_type": "stream",
       "stream": "stdout",
       "text": [
        " fut.1=>pst.sbj.3"
       ]
      },
      {
       "output_type": "stream",
       "stream": "stdout",
       "text": [
        " fut.1=>pst.sbj.4"
       ]
      },
      {
       "output_type": "stream",
       "stream": "stdout",
       "text": [
        " fut.1=>pst.sbj.5"
       ]
      },
      {
       "output_type": "stream",
       "stream": "stdout",
       "text": [
        " fut.1=>pst.sbj.6"
       ]
      },
      {
       "output_type": "stream",
       "stream": "stdout",
       "text": [
        " fut.1=>inf"
       ]
      },
      {
       "output_type": "stream",
       "stream": "stdout",
       "text": [
        " fut.1=>prs.pcp"
       ]
      },
      {
       "output_type": "stream",
       "stream": "stdout",
       "text": [
        " fut.1=>pst.pcp"
       ]
      },
      {
       "output_type": "stream",
       "stream": "stdout",
       "text": [
        " fut.2=>ipf.1"
       ]
      },
      {
       "output_type": "stream",
       "stream": "stdout",
       "text": [
        " fut.2=>ipf.2"
       ]
      },
      {
       "output_type": "stream",
       "stream": "stdout",
       "text": [
        " fut.2=>ipf.3"
       ]
      },
      {
       "output_type": "stream",
       "stream": "stdout",
       "text": [
        " fut.2=>ipf.4"
       ]
      },
      {
       "output_type": "stream",
       "stream": "stdout",
       "text": [
        " fut.2=>ipf.5"
       ]
      },
      {
       "output_type": "stream",
       "stream": "stdout",
       "text": [
        " fut.2=>ipf.6"
       ]
      },
      {
       "output_type": "stream",
       "stream": "stdout",
       "text": [
        " fut.2=>prs.1"
       ]
      },
      {
       "output_type": "stream",
       "stream": "stdout",
       "text": [
        " fut.2=>prs.2"
       ]
      },
      {
       "output_type": "stream",
       "stream": "stdout",
       "text": [
        " fut.2=>prs.3"
       ]
      },
      {
       "output_type": "stream",
       "stream": "stdout",
       "text": [
        " fut.2=>prs.4"
       ]
      },
      {
       "output_type": "stream",
       "stream": "stdout",
       "text": [
        " fut.2=>prs.5"
       ]
      },
      {
       "output_type": "stream",
       "stream": "stdout",
       "text": [
        " fut.2=>prs.6"
       ]
      },
      {
       "output_type": "stream",
       "stream": "stdout",
       "text": [
        " fut.2=>imp.2"
       ]
      },
      {
       "output_type": "stream",
       "stream": "stdout",
       "text": [
        " fut.2=>imp.4"
       ]
      },
      {
       "output_type": "stream",
       "stream": "stdout",
       "text": [
        " fut.2=>imp.5"
       ]
      },
      {
       "output_type": "stream",
       "stream": "stdout",
       "text": [
        " fut.2=>sbjv.1"
       ]
      },
      {
       "output_type": "stream",
       "stream": "stdout",
       "text": [
        " fut.2=>sbjv.2"
       ]
      },
      {
       "output_type": "stream",
       "stream": "stdout",
       "text": [
        " fut.2=>sbjv.3"
       ]
      },
      {
       "output_type": "stream",
       "stream": "stdout",
       "text": [
        " fut.2=>sbjv.4"
       ]
      },
      {
       "output_type": "stream",
       "stream": "stdout",
       "text": [
        " fut.2=>sbjv.5"
       ]
      },
      {
       "output_type": "stream",
       "stream": "stdout",
       "text": [
        " fut.2=>sbjv.6"
       ]
      },
      {
       "output_type": "stream",
       "stream": "stdout",
       "text": [
        " fut.2=>fut.1"
       ]
      },
      {
       "output_type": "stream",
       "stream": "stdout",
       "text": [
        " fut.2=>fut.3 fut.2=>fut.4 fut.2=>fut.5 fut.2=>fut.6 fut.2=>cond.1 fut.2=>cond.2"
       ]
      },
      {
       "output_type": "stream",
       "stream": "stdout",
       "text": [
        " fut.2=>cond.3 fut.2=>cond.4 fut.2=>cond.5"
       ]
      },
      {
       "output_type": "stream",
       "stream": "stdout",
       "text": [
        " fut.2=>cond.6 fut.2=>pst.1 fut.2=>pst.2"
       ]
      },
      {
       "output_type": "stream",
       "stream": "stdout",
       "text": [
        " fut.2=>pst.3"
       ]
      },
      {
       "output_type": "stream",
       "stream": "stdout",
       "text": [
        " fut.2=>pst.4"
       ]
      },
      {
       "output_type": "stream",
       "stream": "stdout",
       "text": [
        " fut.2=>pst.5"
       ]
      },
      {
       "output_type": "stream",
       "stream": "stdout",
       "text": [
        " fut.2=>pst.6"
       ]
      },
      {
       "output_type": "stream",
       "stream": "stdout",
       "text": [
        " fut.2=>pst.sbj.1"
       ]
      },
      {
       "output_type": "stream",
       "stream": "stdout",
       "text": [
        " fut.2=>pst.sbj.2"
       ]
      },
      {
       "output_type": "stream",
       "stream": "stdout",
       "text": [
        " fut.2=>pst.sbj.3"
       ]
      },
      {
       "output_type": "stream",
       "stream": "stdout",
       "text": [
        " fut.2=>pst.sbj.4"
       ]
      },
      {
       "output_type": "stream",
       "stream": "stdout",
       "text": [
        " fut.2=>pst.sbj.5"
       ]
      },
      {
       "output_type": "stream",
       "stream": "stdout",
       "text": [
        " fut.2=>pst.sbj.6"
       ]
      },
      {
       "output_type": "stream",
       "stream": "stdout",
       "text": [
        " fut.2=>inf"
       ]
      },
      {
       "output_type": "stream",
       "stream": "stdout",
       "text": [
        " fut.2=>prs.pcp"
       ]
      },
      {
       "output_type": "stream",
       "stream": "stdout",
       "text": [
        " fut.2=>pst.pcp"
       ]
      },
      {
       "output_type": "stream",
       "stream": "stdout",
       "text": [
        " fut.3=>ipf.1"
       ]
      },
      {
       "output_type": "stream",
       "stream": "stdout",
       "text": [
        " fut.3=>ipf.2"
       ]
      },
      {
       "output_type": "stream",
       "stream": "stdout",
       "text": [
        " fut.3=>ipf.3"
       ]
      },
      {
       "output_type": "stream",
       "stream": "stdout",
       "text": [
        " fut.3=>ipf.4"
       ]
      },
      {
       "output_type": "stream",
       "stream": "stdout",
       "text": [
        " fut.3=>ipf.5"
       ]
      },
      {
       "output_type": "stream",
       "stream": "stdout",
       "text": [
        " fut.3=>ipf.6"
       ]
      },
      {
       "output_type": "stream",
       "stream": "stdout",
       "text": [
        " fut.3=>prs.1"
       ]
      },
      {
       "output_type": "stream",
       "stream": "stdout",
       "text": [
        " fut.3=>prs.2"
       ]
      },
      {
       "output_type": "stream",
       "stream": "stdout",
       "text": [
        " fut.3=>prs.3"
       ]
      },
      {
       "output_type": "stream",
       "stream": "stdout",
       "text": [
        " fut.3=>prs.4"
       ]
      },
      {
       "output_type": "stream",
       "stream": "stdout",
       "text": [
        " fut.3=>prs.5"
       ]
      },
      {
       "output_type": "stream",
       "stream": "stdout",
       "text": [
        " fut.3=>prs.6"
       ]
      },
      {
       "output_type": "stream",
       "stream": "stdout",
       "text": [
        " fut.3=>imp.2"
       ]
      },
      {
       "output_type": "stream",
       "stream": "stdout",
       "text": [
        " fut.3=>imp.4"
       ]
      },
      {
       "output_type": "stream",
       "stream": "stdout",
       "text": [
        " fut.3=>imp.5"
       ]
      },
      {
       "output_type": "stream",
       "stream": "stdout",
       "text": [
        " fut.3=>sbjv.1"
       ]
      },
      {
       "output_type": "stream",
       "stream": "stdout",
       "text": [
        " fut.3=>sbjv.2"
       ]
      },
      {
       "output_type": "stream",
       "stream": "stdout",
       "text": [
        " fut.3=>sbjv.3"
       ]
      },
      {
       "output_type": "stream",
       "stream": "stdout",
       "text": [
        " fut.3=>sbjv.4"
       ]
      },
      {
       "output_type": "stream",
       "stream": "stdout",
       "text": [
        " fut.3=>sbjv.5"
       ]
      },
      {
       "output_type": "stream",
       "stream": "stdout",
       "text": [
        " fut.3=>sbjv.6"
       ]
      },
      {
       "output_type": "stream",
       "stream": "stdout",
       "text": [
        " fut.3=>fut.1"
       ]
      },
      {
       "output_type": "stream",
       "stream": "stdout",
       "text": [
        " fut.3=>fut.2 fut.3=>fut.4 fut.3=>fut.5 fut.3=>fut.6 fut.3=>cond.1 fut.3=>cond.2"
       ]
      },
      {
       "output_type": "stream",
       "stream": "stdout",
       "text": [
        " fut.3=>cond.3 fut.3=>cond.4 fut.3=>cond.5"
       ]
      },
      {
       "output_type": "stream",
       "stream": "stdout",
       "text": [
        " fut.3=>cond.6 fut.3=>pst.1 fut.3=>pst.2"
       ]
      },
      {
       "output_type": "stream",
       "stream": "stdout",
       "text": [
        " fut.3=>pst.3"
       ]
      },
      {
       "output_type": "stream",
       "stream": "stdout",
       "text": [
        " fut.3=>pst.4"
       ]
      },
      {
       "output_type": "stream",
       "stream": "stdout",
       "text": [
        " fut.3=>pst.5"
       ]
      },
      {
       "output_type": "stream",
       "stream": "stdout",
       "text": [
        " fut.3=>pst.6"
       ]
      },
      {
       "output_type": "stream",
       "stream": "stdout",
       "text": [
        " fut.3=>pst.sbj.1"
       ]
      },
      {
       "output_type": "stream",
       "stream": "stdout",
       "text": [
        " fut.3=>pst.sbj.2"
       ]
      },
      {
       "output_type": "stream",
       "stream": "stdout",
       "text": [
        " fut.3=>pst.sbj.3"
       ]
      },
      {
       "output_type": "stream",
       "stream": "stdout",
       "text": [
        " fut.3=>pst.sbj.4"
       ]
      },
      {
       "output_type": "stream",
       "stream": "stdout",
       "text": [
        " fut.3=>pst.sbj.5"
       ]
      },
      {
       "output_type": "stream",
       "stream": "stdout",
       "text": [
        " fut.3=>pst.sbj.6"
       ]
      },
      {
       "output_type": "stream",
       "stream": "stdout",
       "text": [
        " fut.3=>inf"
       ]
      },
      {
       "output_type": "stream",
       "stream": "stdout",
       "text": [
        " fut.3=>prs.pcp"
       ]
      },
      {
       "output_type": "stream",
       "stream": "stdout",
       "text": [
        " fut.3=>pst.pcp"
       ]
      },
      {
       "output_type": "stream",
       "stream": "stdout",
       "text": [
        " fut.4=>ipf.1"
       ]
      },
      {
       "output_type": "stream",
       "stream": "stdout",
       "text": [
        " fut.4=>ipf.2"
       ]
      },
      {
       "output_type": "stream",
       "stream": "stdout",
       "text": [
        " fut.4=>ipf.3"
       ]
      },
      {
       "output_type": "stream",
       "stream": "stdout",
       "text": [
        " fut.4=>ipf.4"
       ]
      },
      {
       "output_type": "stream",
       "stream": "stdout",
       "text": [
        " fut.4=>ipf.5"
       ]
      },
      {
       "output_type": "stream",
       "stream": "stdout",
       "text": [
        " fut.4=>ipf.6"
       ]
      },
      {
       "output_type": "stream",
       "stream": "stdout",
       "text": [
        " fut.4=>prs.1"
       ]
      },
      {
       "output_type": "stream",
       "stream": "stdout",
       "text": [
        " fut.4=>prs.2"
       ]
      },
      {
       "output_type": "stream",
       "stream": "stdout",
       "text": [
        " fut.4=>prs.3"
       ]
      },
      {
       "output_type": "stream",
       "stream": "stdout",
       "text": [
        " fut.4=>prs.4"
       ]
      },
      {
       "output_type": "stream",
       "stream": "stdout",
       "text": [
        " fut.4=>prs.5"
       ]
      },
      {
       "output_type": "stream",
       "stream": "stdout",
       "text": [
        " fut.4=>prs.6"
       ]
      },
      {
       "output_type": "stream",
       "stream": "stdout",
       "text": [
        " fut.4=>imp.2"
       ]
      },
      {
       "output_type": "stream",
       "stream": "stdout",
       "text": [
        " fut.4=>imp.4"
       ]
      },
      {
       "output_type": "stream",
       "stream": "stdout",
       "text": [
        " fut.4=>imp.5"
       ]
      },
      {
       "output_type": "stream",
       "stream": "stdout",
       "text": [
        " fut.4=>sbjv.1"
       ]
      },
      {
       "output_type": "stream",
       "stream": "stdout",
       "text": [
        " fut.4=>sbjv.2"
       ]
      },
      {
       "output_type": "stream",
       "stream": "stdout",
       "text": [
        " fut.4=>sbjv.3"
       ]
      },
      {
       "output_type": "stream",
       "stream": "stdout",
       "text": [
        " fut.4=>sbjv.4"
       ]
      },
      {
       "output_type": "stream",
       "stream": "stdout",
       "text": [
        " fut.4=>sbjv.5"
       ]
      },
      {
       "output_type": "stream",
       "stream": "stdout",
       "text": [
        " fut.4=>sbjv.6"
       ]
      },
      {
       "output_type": "stream",
       "stream": "stdout",
       "text": [
        " fut.4=>fut.1"
       ]
      },
      {
       "output_type": "stream",
       "stream": "stdout",
       "text": [
        " fut.4=>fut.2 fut.4=>fut.3 fut.4=>fut.5 fut.4=>fut.6 fut.4=>cond.1"
       ]
      },
      {
       "output_type": "stream",
       "stream": "stdout",
       "text": [
        " fut.4=>cond.2 fut.4=>cond.3 fut.4=>cond.4"
       ]
      },
      {
       "output_type": "stream",
       "stream": "stdout",
       "text": [
        " fut.4=>cond.5 fut.4=>cond.6"
       ]
      },
      {
       "output_type": "stream",
       "stream": "stdout",
       "text": [
        " fut.4=>pst.1 fut.4=>pst.2"
       ]
      },
      {
       "output_type": "stream",
       "stream": "stdout",
       "text": [
        " fut.4=>pst.3"
       ]
      },
      {
       "output_type": "stream",
       "stream": "stdout",
       "text": [
        " fut.4=>pst.4"
       ]
      },
      {
       "output_type": "stream",
       "stream": "stdout",
       "text": [
        " fut.4=>pst.5"
       ]
      },
      {
       "output_type": "stream",
       "stream": "stdout",
       "text": [
        " fut.4=>pst.6"
       ]
      },
      {
       "output_type": "stream",
       "stream": "stdout",
       "text": [
        " fut.4=>pst.sbj.1"
       ]
      },
      {
       "output_type": "stream",
       "stream": "stdout",
       "text": [
        " fut.4=>pst.sbj.2"
       ]
      },
      {
       "output_type": "stream",
       "stream": "stdout",
       "text": [
        " fut.4=>pst.sbj.3"
       ]
      },
      {
       "output_type": "stream",
       "stream": "stdout",
       "text": [
        " fut.4=>pst.sbj.4"
       ]
      },
      {
       "output_type": "stream",
       "stream": "stdout",
       "text": [
        " fut.4=>pst.sbj.5"
       ]
      },
      {
       "output_type": "stream",
       "stream": "stdout",
       "text": [
        " fut.4=>pst.sbj.6"
       ]
      },
      {
       "output_type": "stream",
       "stream": "stdout",
       "text": [
        " fut.4=>inf"
       ]
      },
      {
       "output_type": "stream",
       "stream": "stdout",
       "text": [
        " fut.4=>prs.pcp"
       ]
      },
      {
       "output_type": "stream",
       "stream": "stdout",
       "text": [
        " fut.4=>pst.pcp"
       ]
      },
      {
       "output_type": "stream",
       "stream": "stdout",
       "text": [
        " fut.5=>ipf.1"
       ]
      },
      {
       "output_type": "stream",
       "stream": "stdout",
       "text": [
        " fut.5=>ipf.2"
       ]
      },
      {
       "output_type": "stream",
       "stream": "stdout",
       "text": [
        " fut.5=>ipf.3"
       ]
      },
      {
       "output_type": "stream",
       "stream": "stdout",
       "text": [
        " fut.5=>ipf.4"
       ]
      },
      {
       "output_type": "stream",
       "stream": "stdout",
       "text": [
        " fut.5=>ipf.5"
       ]
      },
      {
       "output_type": "stream",
       "stream": "stdout",
       "text": [
        " fut.5=>ipf.6"
       ]
      },
      {
       "output_type": "stream",
       "stream": "stdout",
       "text": [
        " fut.5=>prs.1"
       ]
      },
      {
       "output_type": "stream",
       "stream": "stdout",
       "text": [
        " fut.5=>prs.2"
       ]
      },
      {
       "output_type": "stream",
       "stream": "stdout",
       "text": [
        " fut.5=>prs.3"
       ]
      },
      {
       "output_type": "stream",
       "stream": "stdout",
       "text": [
        " fut.5=>prs.4"
       ]
      },
      {
       "output_type": "stream",
       "stream": "stdout",
       "text": [
        " fut.5=>prs.5"
       ]
      },
      {
       "output_type": "stream",
       "stream": "stdout",
       "text": [
        " fut.5=>prs.6"
       ]
      },
      {
       "output_type": "stream",
       "stream": "stdout",
       "text": [
        " fut.5=>imp.2"
       ]
      },
      {
       "output_type": "stream",
       "stream": "stdout",
       "text": [
        " fut.5=>imp.4"
       ]
      },
      {
       "output_type": "stream",
       "stream": "stdout",
       "text": [
        " fut.5=>imp.5"
       ]
      },
      {
       "output_type": "stream",
       "stream": "stdout",
       "text": [
        " fut.5=>sbjv.1"
       ]
      },
      {
       "output_type": "stream",
       "stream": "stdout",
       "text": [
        " fut.5=>sbjv.2"
       ]
      },
      {
       "output_type": "stream",
       "stream": "stdout",
       "text": [
        " fut.5=>sbjv.3"
       ]
      },
      {
       "output_type": "stream",
       "stream": "stdout",
       "text": [
        " fut.5=>sbjv.4"
       ]
      },
      {
       "output_type": "stream",
       "stream": "stdout",
       "text": [
        " fut.5=>sbjv.5"
       ]
      },
      {
       "output_type": "stream",
       "stream": "stdout",
       "text": [
        " fut.5=>sbjv.6"
       ]
      },
      {
       "output_type": "stream",
       "stream": "stdout",
       "text": [
        " fut.5=>fut.1"
       ]
      },
      {
       "output_type": "stream",
       "stream": "stdout",
       "text": [
        " fut.5=>fut.2 fut.5=>fut.3 fut.5=>fut.4 fut.5=>fut.6 fut.5=>cond.1 fut.5=>cond.2"
       ]
      },
      {
       "output_type": "stream",
       "stream": "stdout",
       "text": [
        " fut.5=>cond.3 fut.5=>cond.4 fut.5=>cond.5"
       ]
      },
      {
       "output_type": "stream",
       "stream": "stdout",
       "text": [
        " fut.5=>cond.6 fut.5=>pst.1 fut.5=>pst.2"
       ]
      },
      {
       "output_type": "stream",
       "stream": "stdout",
       "text": [
        " fut.5=>pst.3"
       ]
      },
      {
       "output_type": "stream",
       "stream": "stdout",
       "text": [
        " fut.5=>pst.4"
       ]
      },
      {
       "output_type": "stream",
       "stream": "stdout",
       "text": [
        " fut.5=>pst.5"
       ]
      },
      {
       "output_type": "stream",
       "stream": "stdout",
       "text": [
        " fut.5=>pst.6"
       ]
      },
      {
       "output_type": "stream",
       "stream": "stdout",
       "text": [
        " fut.5=>pst.sbj.1"
       ]
      },
      {
       "output_type": "stream",
       "stream": "stdout",
       "text": [
        " fut.5=>pst.sbj.2"
       ]
      },
      {
       "output_type": "stream",
       "stream": "stdout",
       "text": [
        " fut.5=>pst.sbj.3"
       ]
      },
      {
       "output_type": "stream",
       "stream": "stdout",
       "text": [
        " fut.5=>pst.sbj.4"
       ]
      },
      {
       "output_type": "stream",
       "stream": "stdout",
       "text": [
        " fut.5=>pst.sbj.5"
       ]
      },
      {
       "output_type": "stream",
       "stream": "stdout",
       "text": [
        " fut.5=>pst.sbj.6"
       ]
      },
      {
       "output_type": "stream",
       "stream": "stdout",
       "text": [
        " fut.5=>inf"
       ]
      },
      {
       "output_type": "stream",
       "stream": "stdout",
       "text": [
        " fut.5=>prs.pcp"
       ]
      },
      {
       "output_type": "stream",
       "stream": "stdout",
       "text": [
        " fut.5=>pst.pcp"
       ]
      },
      {
       "output_type": "stream",
       "stream": "stdout",
       "text": [
        " fut.6=>ipf.1"
       ]
      },
      {
       "output_type": "stream",
       "stream": "stdout",
       "text": [
        " fut.6=>ipf.2"
       ]
      },
      {
       "output_type": "stream",
       "stream": "stdout",
       "text": [
        " fut.6=>ipf.3"
       ]
      },
      {
       "output_type": "stream",
       "stream": "stdout",
       "text": [
        " fut.6=>ipf.4"
       ]
      },
      {
       "output_type": "stream",
       "stream": "stdout",
       "text": [
        " fut.6=>ipf.5"
       ]
      },
      {
       "output_type": "stream",
       "stream": "stdout",
       "text": [
        " fut.6=>ipf.6"
       ]
      },
      {
       "output_type": "stream",
       "stream": "stdout",
       "text": [
        " fut.6=>prs.1"
       ]
      },
      {
       "output_type": "stream",
       "stream": "stdout",
       "text": [
        " fut.6=>prs.2"
       ]
      },
      {
       "output_type": "stream",
       "stream": "stdout",
       "text": [
        " fut.6=>prs.3"
       ]
      },
      {
       "output_type": "stream",
       "stream": "stdout",
       "text": [
        " fut.6=>prs.4"
       ]
      },
      {
       "output_type": "stream",
       "stream": "stdout",
       "text": [
        " fut.6=>prs.5"
       ]
      },
      {
       "output_type": "stream",
       "stream": "stdout",
       "text": [
        " fut.6=>prs.6"
       ]
      },
      {
       "output_type": "stream",
       "stream": "stdout",
       "text": [
        " fut.6=>imp.2"
       ]
      },
      {
       "output_type": "stream",
       "stream": "stdout",
       "text": [
        " fut.6=>imp.4"
       ]
      },
      {
       "output_type": "stream",
       "stream": "stdout",
       "text": [
        " fut.6=>imp.5"
       ]
      },
      {
       "output_type": "stream",
       "stream": "stdout",
       "text": [
        " fut.6=>sbjv.1"
       ]
      },
      {
       "output_type": "stream",
       "stream": "stdout",
       "text": [
        " fut.6=>sbjv.2"
       ]
      },
      {
       "output_type": "stream",
       "stream": "stdout",
       "text": [
        " fut.6=>sbjv.3"
       ]
      },
      {
       "output_type": "stream",
       "stream": "stdout",
       "text": [
        " fut.6=>sbjv.4"
       ]
      },
      {
       "output_type": "stream",
       "stream": "stdout",
       "text": [
        " fut.6=>sbjv.5"
       ]
      },
      {
       "output_type": "stream",
       "stream": "stdout",
       "text": [
        " fut.6=>sbjv.6"
       ]
      },
      {
       "output_type": "stream",
       "stream": "stdout",
       "text": [
        " fut.6=>fut.1"
       ]
      },
      {
       "output_type": "stream",
       "stream": "stdout",
       "text": [
        " fut.6=>fut.2 fut.6=>fut.3 fut.6=>fut.4 fut.6=>fut.5 fut.6=>cond.1"
       ]
      },
      {
       "output_type": "stream",
       "stream": "stdout",
       "text": [
        " fut.6=>cond.2 fut.6=>cond.3"
       ]
      },
      {
       "output_type": "stream",
       "stream": "stdout",
       "text": [
        " fut.6=>cond.4 fut.6=>cond.5"
       ]
      },
      {
       "output_type": "stream",
       "stream": "stdout",
       "text": [
        " fut.6=>cond.6 fut.6=>pst.1"
       ]
      },
      {
       "output_type": "stream",
       "stream": "stdout",
       "text": [
        " fut.6=>pst.2"
       ]
      },
      {
       "output_type": "stream",
       "stream": "stdout",
       "text": [
        " fut.6=>pst.3"
       ]
      },
      {
       "output_type": "stream",
       "stream": "stdout",
       "text": [
        " fut.6=>pst.4"
       ]
      },
      {
       "output_type": "stream",
       "stream": "stdout",
       "text": [
        " fut.6=>pst.5"
       ]
      },
      {
       "output_type": "stream",
       "stream": "stdout",
       "text": [
        " fut.6=>pst.6"
       ]
      },
      {
       "output_type": "stream",
       "stream": "stdout",
       "text": [
        " fut.6=>pst.sbj.1"
       ]
      },
      {
       "output_type": "stream",
       "stream": "stdout",
       "text": [
        " fut.6=>pst.sbj.2"
       ]
      },
      {
       "output_type": "stream",
       "stream": "stdout",
       "text": [
        " fut.6=>pst.sbj.3"
       ]
      },
      {
       "output_type": "stream",
       "stream": "stdout",
       "text": [
        " fut.6=>pst.sbj.4"
       ]
      },
      {
       "output_type": "stream",
       "stream": "stdout",
       "text": [
        " fut.6=>pst.sbj.5"
       ]
      },
      {
       "output_type": "stream",
       "stream": "stdout",
       "text": [
        " fut.6=>pst.sbj.6"
       ]
      },
      {
       "output_type": "stream",
       "stream": "stdout",
       "text": [
        " fut.6=>inf"
       ]
      },
      {
       "output_type": "stream",
       "stream": "stdout",
       "text": [
        " fut.6=>prs.pcp"
       ]
      },
      {
       "output_type": "stream",
       "stream": "stdout",
       "text": [
        " fut.6=>pst.pcp"
       ]
      },
      {
       "output_type": "stream",
       "stream": "stdout",
       "text": [
        " cond.1=>ipf.1"
       ]
      },
      {
       "output_type": "stream",
       "stream": "stdout",
       "text": [
        " cond.1=>ipf.2"
       ]
      },
      {
       "output_type": "stream",
       "stream": "stdout",
       "text": [
        " cond.1=>ipf.3"
       ]
      },
      {
       "output_type": "stream",
       "stream": "stdout",
       "text": [
        " cond.1=>ipf.4"
       ]
      },
      {
       "output_type": "stream",
       "stream": "stdout",
       "text": [
        " cond.1=>ipf.5"
       ]
      },
      {
       "output_type": "stream",
       "stream": "stdout",
       "text": [
        " cond.1=>ipf.6"
       ]
      },
      {
       "output_type": "stream",
       "stream": "stdout",
       "text": [
        " cond.1=>prs.1"
       ]
      },
      {
       "output_type": "stream",
       "stream": "stdout",
       "text": [
        " cond.1=>prs.2"
       ]
      },
      {
       "output_type": "stream",
       "stream": "stdout",
       "text": [
        " cond.1=>prs.3"
       ]
      },
      {
       "output_type": "stream",
       "stream": "stdout",
       "text": [
        " cond.1=>prs.4"
       ]
      },
      {
       "output_type": "stream",
       "stream": "stdout",
       "text": [
        " cond.1=>prs.5"
       ]
      },
      {
       "output_type": "stream",
       "stream": "stdout",
       "text": [
        " cond.1=>prs.6"
       ]
      },
      {
       "output_type": "stream",
       "stream": "stdout",
       "text": [
        " cond.1=>imp.2"
       ]
      },
      {
       "output_type": "stream",
       "stream": "stdout",
       "text": [
        " cond.1=>imp.4"
       ]
      },
      {
       "output_type": "stream",
       "stream": "stdout",
       "text": [
        " cond.1=>imp.5"
       ]
      },
      {
       "output_type": "stream",
       "stream": "stdout",
       "text": [
        " cond.1=>sbjv.1"
       ]
      },
      {
       "output_type": "stream",
       "stream": "stdout",
       "text": [
        " cond.1=>sbjv.2"
       ]
      },
      {
       "output_type": "stream",
       "stream": "stdout",
       "text": [
        " cond.1=>sbjv.3"
       ]
      },
      {
       "output_type": "stream",
       "stream": "stdout",
       "text": [
        " cond.1=>sbjv.4"
       ]
      },
      {
       "output_type": "stream",
       "stream": "stdout",
       "text": [
        " cond.1=>sbjv.5"
       ]
      },
      {
       "output_type": "stream",
       "stream": "stdout",
       "text": [
        " cond.1=>sbjv.6"
       ]
      },
      {
       "output_type": "stream",
       "stream": "stdout",
       "text": [
        " cond.1=>fut.1"
       ]
      },
      {
       "output_type": "stream",
       "stream": "stdout",
       "text": [
        " cond.1=>fut.2 cond.1=>fut.3 cond.1=>fut.4"
       ]
      },
      {
       "output_type": "stream",
       "stream": "stdout",
       "text": [
        " cond.1=>fut.5 cond.1=>fut.6 cond.1=>cond.2"
       ]
      },
      {
       "output_type": "stream",
       "stream": "stdout",
       "text": [
        " cond.1=>cond.3 cond.1=>cond.4 cond.1=>cond.5 cond.1=>cond.6"
       ]
      },
      {
       "output_type": "stream",
       "stream": "stdout",
       "text": [
        " cond.1=>pst.1 cond.1=>pst.2"
       ]
      },
      {
       "output_type": "stream",
       "stream": "stdout",
       "text": [
        " cond.1=>pst.3"
       ]
      },
      {
       "output_type": "stream",
       "stream": "stdout",
       "text": [
        " cond.1=>pst.4"
       ]
      },
      {
       "output_type": "stream",
       "stream": "stdout",
       "text": [
        " cond.1=>pst.5"
       ]
      },
      {
       "output_type": "stream",
       "stream": "stdout",
       "text": [
        " cond.1=>pst.6"
       ]
      },
      {
       "output_type": "stream",
       "stream": "stdout",
       "text": [
        " cond.1=>pst.sbj.1"
       ]
      },
      {
       "output_type": "stream",
       "stream": "stdout",
       "text": [
        " cond.1=>pst.sbj.2"
       ]
      },
      {
       "output_type": "stream",
       "stream": "stdout",
       "text": [
        " cond.1=>pst.sbj.3"
       ]
      },
      {
       "output_type": "stream",
       "stream": "stdout",
       "text": [
        " cond.1=>pst.sbj.4"
       ]
      },
      {
       "output_type": "stream",
       "stream": "stdout",
       "text": [
        " cond.1=>pst.sbj.5"
       ]
      },
      {
       "output_type": "stream",
       "stream": "stdout",
       "text": [
        " cond.1=>pst.sbj.6"
       ]
      },
      {
       "output_type": "stream",
       "stream": "stdout",
       "text": [
        " cond.1=>inf"
       ]
      },
      {
       "output_type": "stream",
       "stream": "stdout",
       "text": [
        " cond.1=>prs.pcp"
       ]
      },
      {
       "output_type": "stream",
       "stream": "stdout",
       "text": [
        " cond.1=>pst.pcp"
       ]
      },
      {
       "output_type": "stream",
       "stream": "stdout",
       "text": [
        " cond.2=>ipf.1"
       ]
      },
      {
       "output_type": "stream",
       "stream": "stdout",
       "text": [
        " cond.2=>ipf.2"
       ]
      },
      {
       "output_type": "stream",
       "stream": "stdout",
       "text": [
        " cond.2=>ipf.3"
       ]
      },
      {
       "output_type": "stream",
       "stream": "stdout",
       "text": [
        " cond.2=>ipf.4"
       ]
      },
      {
       "output_type": "stream",
       "stream": "stdout",
       "text": [
        " cond.2=>ipf.5"
       ]
      },
      {
       "output_type": "stream",
       "stream": "stdout",
       "text": [
        " cond.2=>ipf.6"
       ]
      },
      {
       "output_type": "stream",
       "stream": "stdout",
       "text": [
        " cond.2=>prs.1"
       ]
      },
      {
       "output_type": "stream",
       "stream": "stdout",
       "text": [
        " cond.2=>prs.2"
       ]
      },
      {
       "output_type": "stream",
       "stream": "stdout",
       "text": [
        " cond.2=>prs.3"
       ]
      },
      {
       "output_type": "stream",
       "stream": "stdout",
       "text": [
        " cond.2=>prs.4"
       ]
      },
      {
       "output_type": "stream",
       "stream": "stdout",
       "text": [
        " cond.2=>prs.5"
       ]
      },
      {
       "output_type": "stream",
       "stream": "stdout",
       "text": [
        " cond.2=>prs.6"
       ]
      },
      {
       "output_type": "stream",
       "stream": "stdout",
       "text": [
        " cond.2=>imp.2"
       ]
      },
      {
       "output_type": "stream",
       "stream": "stdout",
       "text": [
        " cond.2=>imp.4"
       ]
      },
      {
       "output_type": "stream",
       "stream": "stdout",
       "text": [
        " cond.2=>imp.5"
       ]
      },
      {
       "output_type": "stream",
       "stream": "stdout",
       "text": [
        " cond.2=>sbjv.1"
       ]
      },
      {
       "output_type": "stream",
       "stream": "stdout",
       "text": [
        " cond.2=>sbjv.2"
       ]
      },
      {
       "output_type": "stream",
       "stream": "stdout",
       "text": [
        " cond.2=>sbjv.3"
       ]
      },
      {
       "output_type": "stream",
       "stream": "stdout",
       "text": [
        " cond.2=>sbjv.4"
       ]
      },
      {
       "output_type": "stream",
       "stream": "stdout",
       "text": [
        " cond.2=>sbjv.5"
       ]
      },
      {
       "output_type": "stream",
       "stream": "stdout",
       "text": [
        " cond.2=>sbjv.6"
       ]
      },
      {
       "output_type": "stream",
       "stream": "stdout",
       "text": [
        " cond.2=>fut.1"
       ]
      },
      {
       "output_type": "stream",
       "stream": "stdout",
       "text": [
        " cond.2=>fut.2 cond.2=>fut.3 cond.2=>fut.4"
       ]
      },
      {
       "output_type": "stream",
       "stream": "stdout",
       "text": [
        " cond.2=>fut.5 cond.2=>fut.6 cond.2=>cond.1"
       ]
      },
      {
       "output_type": "stream",
       "stream": "stdout",
       "text": [
        " cond.2=>cond.3 cond.2=>cond.4 cond.2=>cond.5 cond.2=>cond.6 cond.2=>pst.1 cond.2=>pst.2"
       ]
      },
      {
       "output_type": "stream",
       "stream": "stdout",
       "text": [
        " cond.2=>pst.3"
       ]
      },
      {
       "output_type": "stream",
       "stream": "stdout",
       "text": [
        " cond.2=>pst.4"
       ]
      },
      {
       "output_type": "stream",
       "stream": "stdout",
       "text": [
        " cond.2=>pst.5"
       ]
      },
      {
       "output_type": "stream",
       "stream": "stdout",
       "text": [
        " cond.2=>pst.6"
       ]
      },
      {
       "output_type": "stream",
       "stream": "stdout",
       "text": [
        " cond.2=>pst.sbj.1"
       ]
      },
      {
       "output_type": "stream",
       "stream": "stdout",
       "text": [
        " cond.2=>pst.sbj.2"
       ]
      },
      {
       "output_type": "stream",
       "stream": "stdout",
       "text": [
        " cond.2=>pst.sbj.3"
       ]
      },
      {
       "output_type": "stream",
       "stream": "stdout",
       "text": [
        " cond.2=>pst.sbj.4"
       ]
      },
      {
       "output_type": "stream",
       "stream": "stdout",
       "text": [
        " cond.2=>pst.sbj.5"
       ]
      },
      {
       "output_type": "stream",
       "stream": "stdout",
       "text": [
        " cond.2=>pst.sbj.6"
       ]
      },
      {
       "output_type": "stream",
       "stream": "stdout",
       "text": [
        " cond.2=>inf"
       ]
      },
      {
       "output_type": "stream",
       "stream": "stdout",
       "text": [
        " cond.2=>prs.pcp"
       ]
      },
      {
       "output_type": "stream",
       "stream": "stdout",
       "text": [
        " cond.2=>pst.pcp"
       ]
      },
      {
       "output_type": "stream",
       "stream": "stdout",
       "text": [
        " cond.3=>ipf.1"
       ]
      },
      {
       "output_type": "stream",
       "stream": "stdout",
       "text": [
        " cond.3=>ipf.2"
       ]
      },
      {
       "output_type": "stream",
       "stream": "stdout",
       "text": [
        " cond.3=>ipf.3"
       ]
      },
      {
       "output_type": "stream",
       "stream": "stdout",
       "text": [
        " cond.3=>ipf.4"
       ]
      },
      {
       "output_type": "stream",
       "stream": "stdout",
       "text": [
        " cond.3=>ipf.5"
       ]
      },
      {
       "output_type": "stream",
       "stream": "stdout",
       "text": [
        " cond.3=>ipf.6"
       ]
      },
      {
       "output_type": "stream",
       "stream": "stdout",
       "text": [
        " cond.3=>prs.1"
       ]
      },
      {
       "output_type": "stream",
       "stream": "stdout",
       "text": [
        " cond.3=>prs.2"
       ]
      },
      {
       "output_type": "stream",
       "stream": "stdout",
       "text": [
        " cond.3=>prs.3"
       ]
      },
      {
       "output_type": "stream",
       "stream": "stdout",
       "text": [
        " cond.3=>prs.4"
       ]
      },
      {
       "output_type": "stream",
       "stream": "stdout",
       "text": [
        " cond.3=>prs.5"
       ]
      },
      {
       "output_type": "stream",
       "stream": "stdout",
       "text": [
        " cond.3=>prs.6"
       ]
      },
      {
       "output_type": "stream",
       "stream": "stdout",
       "text": [
        " cond.3=>imp.2"
       ]
      },
      {
       "output_type": "stream",
       "stream": "stdout",
       "text": [
        " cond.3=>imp.4"
       ]
      },
      {
       "output_type": "stream",
       "stream": "stdout",
       "text": [
        " cond.3=>imp.5"
       ]
      },
      {
       "output_type": "stream",
       "stream": "stdout",
       "text": [
        " cond.3=>sbjv.1"
       ]
      },
      {
       "output_type": "stream",
       "stream": "stdout",
       "text": [
        " cond.3=>sbjv.2"
       ]
      },
      {
       "output_type": "stream",
       "stream": "stdout",
       "text": [
        " cond.3=>sbjv.3"
       ]
      },
      {
       "output_type": "stream",
       "stream": "stdout",
       "text": [
        " cond.3=>sbjv.4"
       ]
      },
      {
       "output_type": "stream",
       "stream": "stdout",
       "text": [
        " cond.3=>sbjv.5"
       ]
      },
      {
       "output_type": "stream",
       "stream": "stdout",
       "text": [
        " cond.3=>sbjv.6"
       ]
      },
      {
       "output_type": "stream",
       "stream": "stdout",
       "text": [
        " cond.3=>fut.1"
       ]
      },
      {
       "output_type": "stream",
       "stream": "stdout",
       "text": [
        " cond.3=>fut.2 cond.3=>fut.3 cond.3=>fut.4"
       ]
      },
      {
       "output_type": "stream",
       "stream": "stdout",
       "text": [
        " cond.3=>fut.5 cond.3=>fut.6 cond.3=>cond.1"
       ]
      },
      {
       "output_type": "stream",
       "stream": "stdout",
       "text": [
        " cond.3=>cond.2 cond.3=>cond.4 cond.3=>cond.5 cond.3=>cond.6 cond.3=>pst.1"
       ]
      },
      {
       "output_type": "stream",
       "stream": "stdout",
       "text": [
        " cond.3=>pst.2"
       ]
      },
      {
       "output_type": "stream",
       "stream": "stdout",
       "text": [
        " cond.3=>pst.3"
       ]
      },
      {
       "output_type": "stream",
       "stream": "stdout",
       "text": [
        " cond.3=>pst.4"
       ]
      },
      {
       "output_type": "stream",
       "stream": "stdout",
       "text": [
        " cond.3=>pst.5"
       ]
      },
      {
       "output_type": "stream",
       "stream": "stdout",
       "text": [
        " cond.3=>pst.6"
       ]
      },
      {
       "output_type": "stream",
       "stream": "stdout",
       "text": [
        " cond.3=>pst.sbj.1"
       ]
      },
      {
       "output_type": "stream",
       "stream": "stdout",
       "text": [
        " cond.3=>pst.sbj.2"
       ]
      },
      {
       "output_type": "stream",
       "stream": "stdout",
       "text": [
        " cond.3=>pst.sbj.3"
       ]
      },
      {
       "output_type": "stream",
       "stream": "stdout",
       "text": [
        " cond.3=>pst.sbj.4"
       ]
      },
      {
       "output_type": "stream",
       "stream": "stdout",
       "text": [
        " cond.3=>pst.sbj.5"
       ]
      },
      {
       "output_type": "stream",
       "stream": "stdout",
       "text": [
        " cond.3=>pst.sbj.6"
       ]
      },
      {
       "output_type": "stream",
       "stream": "stdout",
       "text": [
        " cond.3=>inf"
       ]
      },
      {
       "output_type": "stream",
       "stream": "stdout",
       "text": [
        " cond.3=>prs.pcp"
       ]
      },
      {
       "output_type": "stream",
       "stream": "stdout",
       "text": [
        " cond.3=>pst.pcp"
       ]
      },
      {
       "output_type": "stream",
       "stream": "stdout",
       "text": [
        " cond.4=>ipf.1"
       ]
      },
      {
       "output_type": "stream",
       "stream": "stdout",
       "text": [
        " cond.4=>ipf.2"
       ]
      },
      {
       "output_type": "stream",
       "stream": "stdout",
       "text": [
        " cond.4=>ipf.3"
       ]
      },
      {
       "output_type": "stream",
       "stream": "stdout",
       "text": [
        " cond.4=>ipf.4"
       ]
      },
      {
       "output_type": "stream",
       "stream": "stdout",
       "text": [
        " cond.4=>ipf.5"
       ]
      },
      {
       "output_type": "stream",
       "stream": "stdout",
       "text": [
        " cond.4=>ipf.6"
       ]
      },
      {
       "output_type": "stream",
       "stream": "stdout",
       "text": [
        " cond.4=>prs.1"
       ]
      },
      {
       "output_type": "stream",
       "stream": "stdout",
       "text": [
        " cond.4=>prs.2"
       ]
      },
      {
       "output_type": "stream",
       "stream": "stdout",
       "text": [
        " cond.4=>prs.3"
       ]
      },
      {
       "output_type": "stream",
       "stream": "stdout",
       "text": [
        " cond.4=>prs.4"
       ]
      },
      {
       "output_type": "stream",
       "stream": "stdout",
       "text": [
        " cond.4=>prs.5"
       ]
      },
      {
       "output_type": "stream",
       "stream": "stdout",
       "text": [
        " cond.4=>prs.6"
       ]
      },
      {
       "output_type": "stream",
       "stream": "stdout",
       "text": [
        " cond.4=>imp.2"
       ]
      },
      {
       "output_type": "stream",
       "stream": "stdout",
       "text": [
        " cond.4=>imp.4"
       ]
      },
      {
       "output_type": "stream",
       "stream": "stdout",
       "text": [
        " cond.4=>imp.5"
       ]
      },
      {
       "output_type": "stream",
       "stream": "stdout",
       "text": [
        " cond.4=>sbjv.1"
       ]
      },
      {
       "output_type": "stream",
       "stream": "stdout",
       "text": [
        " cond.4=>sbjv.2"
       ]
      },
      {
       "output_type": "stream",
       "stream": "stdout",
       "text": [
        " cond.4=>sbjv.3"
       ]
      },
      {
       "output_type": "stream",
       "stream": "stdout",
       "text": [
        " cond.4=>sbjv.4"
       ]
      },
      {
       "output_type": "stream",
       "stream": "stdout",
       "text": [
        " cond.4=>sbjv.5"
       ]
      },
      {
       "output_type": "stream",
       "stream": "stdout",
       "text": [
        " cond.4=>sbjv.6"
       ]
      },
      {
       "output_type": "stream",
       "stream": "stdout",
       "text": [
        " cond.4=>fut.1"
       ]
      },
      {
       "output_type": "stream",
       "stream": "stdout",
       "text": [
        " cond.4=>fut.2 cond.4=>fut.3"
       ]
      },
      {
       "output_type": "stream",
       "stream": "stdout",
       "text": [
        " cond.4=>fut.4 cond.4=>fut.5"
       ]
      },
      {
       "output_type": "stream",
       "stream": "stdout",
       "text": [
        " cond.4=>fut.6 cond.4=>cond.1"
       ]
      },
      {
       "output_type": "stream",
       "stream": "stdout",
       "text": [
        " cond.4=>cond.2 cond.4=>cond.3 cond.4=>cond.5"
       ]
      },
      {
       "output_type": "stream",
       "stream": "stdout",
       "text": [
        " cond.4=>cond.6 cond.4=>pst.1 cond.4=>pst.2"
       ]
      },
      {
       "output_type": "stream",
       "stream": "stdout",
       "text": [
        " cond.4=>pst.3"
       ]
      },
      {
       "output_type": "stream",
       "stream": "stdout",
       "text": [
        " cond.4=>pst.4"
       ]
      },
      {
       "output_type": "stream",
       "stream": "stdout",
       "text": [
        " cond.4=>pst.5"
       ]
      },
      {
       "output_type": "stream",
       "stream": "stdout",
       "text": [
        " cond.4=>pst.6"
       ]
      },
      {
       "output_type": "stream",
       "stream": "stdout",
       "text": [
        " cond.4=>pst.sbj.1"
       ]
      },
      {
       "output_type": "stream",
       "stream": "stdout",
       "text": [
        " cond.4=>pst.sbj.2"
       ]
      },
      {
       "output_type": "stream",
       "stream": "stdout",
       "text": [
        " cond.4=>pst.sbj.3"
       ]
      },
      {
       "output_type": "stream",
       "stream": "stdout",
       "text": [
        " cond.4=>pst.sbj.4"
       ]
      },
      {
       "output_type": "stream",
       "stream": "stdout",
       "text": [
        " cond.4=>pst.sbj.5"
       ]
      },
      {
       "output_type": "stream",
       "stream": "stdout",
       "text": [
        " cond.4=>pst.sbj.6"
       ]
      },
      {
       "output_type": "stream",
       "stream": "stdout",
       "text": [
        " cond.4=>inf"
       ]
      },
      {
       "output_type": "stream",
       "stream": "stdout",
       "text": [
        " cond.4=>prs.pcp"
       ]
      },
      {
       "output_type": "stream",
       "stream": "stdout",
       "text": [
        " cond.4=>pst.pcp"
       ]
      },
      {
       "output_type": "stream",
       "stream": "stdout",
       "text": [
        " cond.5=>ipf.1"
       ]
      },
      {
       "output_type": "stream",
       "stream": "stdout",
       "text": [
        " cond.5=>ipf.2"
       ]
      },
      {
       "output_type": "stream",
       "stream": "stdout",
       "text": [
        " cond.5=>ipf.3"
       ]
      },
      {
       "output_type": "stream",
       "stream": "stdout",
       "text": [
        " cond.5=>ipf.4"
       ]
      },
      {
       "output_type": "stream",
       "stream": "stdout",
       "text": [
        " cond.5=>ipf.5"
       ]
      },
      {
       "output_type": "stream",
       "stream": "stdout",
       "text": [
        " cond.5=>ipf.6"
       ]
      },
      {
       "output_type": "stream",
       "stream": "stdout",
       "text": [
        " cond.5=>prs.1"
       ]
      },
      {
       "output_type": "stream",
       "stream": "stdout",
       "text": [
        " cond.5=>prs.2"
       ]
      },
      {
       "output_type": "stream",
       "stream": "stdout",
       "text": [
        " cond.5=>prs.3"
       ]
      },
      {
       "output_type": "stream",
       "stream": "stdout",
       "text": [
        " cond.5=>prs.4"
       ]
      },
      {
       "output_type": "stream",
       "stream": "stdout",
       "text": [
        " cond.5=>prs.5"
       ]
      },
      {
       "output_type": "stream",
       "stream": "stdout",
       "text": [
        " cond.5=>prs.6"
       ]
      },
      {
       "output_type": "stream",
       "stream": "stdout",
       "text": [
        " cond.5=>imp.2"
       ]
      },
      {
       "output_type": "stream",
       "stream": "stdout",
       "text": [
        " cond.5=>imp.4"
       ]
      },
      {
       "output_type": "stream",
       "stream": "stdout",
       "text": [
        " cond.5=>imp.5"
       ]
      },
      {
       "output_type": "stream",
       "stream": "stdout",
       "text": [
        " cond.5=>sbjv.1"
       ]
      },
      {
       "output_type": "stream",
       "stream": "stdout",
       "text": [
        " cond.5=>sbjv.2"
       ]
      },
      {
       "output_type": "stream",
       "stream": "stdout",
       "text": [
        " cond.5=>sbjv.3"
       ]
      },
      {
       "output_type": "stream",
       "stream": "stdout",
       "text": [
        " cond.5=>sbjv.4"
       ]
      },
      {
       "output_type": "stream",
       "stream": "stdout",
       "text": [
        " cond.5=>sbjv.5"
       ]
      },
      {
       "output_type": "stream",
       "stream": "stdout",
       "text": [
        " cond.5=>sbjv.6"
       ]
      },
      {
       "output_type": "stream",
       "stream": "stdout",
       "text": [
        " cond.5=>fut.1"
       ]
      },
      {
       "output_type": "stream",
       "stream": "stdout",
       "text": [
        " cond.5=>fut.2"
       ]
      },
      {
       "output_type": "stream",
       "stream": "stdout",
       "text": [
        " cond.5=>fut.3 cond.5=>fut.4"
       ]
      },
      {
       "output_type": "stream",
       "stream": "stdout",
       "text": [
        " cond.5=>fut.5 cond.5=>fut.6"
       ]
      },
      {
       "output_type": "stream",
       "stream": "stdout",
       "text": [
        " cond.5=>cond.1"
       ]
      },
      {
       "output_type": "stream",
       "stream": "stdout",
       "text": [
        " cond.5=>cond.2 cond.5=>cond.3"
       ]
      },
      {
       "output_type": "stream",
       "stream": "stdout",
       "text": [
        " cond.5=>cond.4 cond.5=>cond.6 cond.5=>pst.1"
       ]
      },
      {
       "output_type": "stream",
       "stream": "stdout",
       "text": [
        " cond.5=>pst.2"
       ]
      },
      {
       "output_type": "stream",
       "stream": "stdout",
       "text": [
        " cond.5=>pst.3"
       ]
      },
      {
       "output_type": "stream",
       "stream": "stdout",
       "text": [
        " cond.5=>pst.4"
       ]
      },
      {
       "output_type": "stream",
       "stream": "stdout",
       "text": [
        " cond.5=>pst.5"
       ]
      },
      {
       "output_type": "stream",
       "stream": "stdout",
       "text": [
        " cond.5=>pst.6"
       ]
      },
      {
       "output_type": "stream",
       "stream": "stdout",
       "text": [
        " cond.5=>pst.sbj.1"
       ]
      },
      {
       "output_type": "stream",
       "stream": "stdout",
       "text": [
        " cond.5=>pst.sbj.2"
       ]
      },
      {
       "output_type": "stream",
       "stream": "stdout",
       "text": [
        " cond.5=>pst.sbj.3"
       ]
      },
      {
       "output_type": "stream",
       "stream": "stdout",
       "text": [
        " cond.5=>pst.sbj.4"
       ]
      },
      {
       "output_type": "stream",
       "stream": "stdout",
       "text": [
        " cond.5=>pst.sbj.5"
       ]
      },
      {
       "output_type": "stream",
       "stream": "stdout",
       "text": [
        " cond.5=>pst.sbj.6"
       ]
      },
      {
       "output_type": "stream",
       "stream": "stdout",
       "text": [
        " cond.5=>inf"
       ]
      },
      {
       "output_type": "stream",
       "stream": "stdout",
       "text": [
        " cond.5=>prs.pcp"
       ]
      },
      {
       "output_type": "stream",
       "stream": "stdout",
       "text": [
        " cond.5=>pst.pcp"
       ]
      },
      {
       "output_type": "stream",
       "stream": "stdout",
       "text": [
        " cond.6=>ipf.1"
       ]
      },
      {
       "output_type": "stream",
       "stream": "stdout",
       "text": [
        " cond.6=>ipf.2"
       ]
      },
      {
       "output_type": "stream",
       "stream": "stdout",
       "text": [
        " cond.6=>ipf.3"
       ]
      },
      {
       "output_type": "stream",
       "stream": "stdout",
       "text": [
        " cond.6=>ipf.4"
       ]
      },
      {
       "output_type": "stream",
       "stream": "stdout",
       "text": [
        " cond.6=>ipf.5"
       ]
      },
      {
       "output_type": "stream",
       "stream": "stdout",
       "text": [
        " cond.6=>ipf.6"
       ]
      },
      {
       "output_type": "stream",
       "stream": "stdout",
       "text": [
        " cond.6=>prs.1"
       ]
      },
      {
       "output_type": "stream",
       "stream": "stdout",
       "text": [
        " cond.6=>prs.2"
       ]
      },
      {
       "output_type": "stream",
       "stream": "stdout",
       "text": [
        " cond.6=>prs.3"
       ]
      },
      {
       "output_type": "stream",
       "stream": "stdout",
       "text": [
        " cond.6=>prs.4"
       ]
      },
      {
       "output_type": "stream",
       "stream": "stdout",
       "text": [
        " cond.6=>prs.5"
       ]
      },
      {
       "output_type": "stream",
       "stream": "stdout",
       "text": [
        " cond.6=>prs.6"
       ]
      },
      {
       "output_type": "stream",
       "stream": "stdout",
       "text": [
        " cond.6=>imp.2"
       ]
      },
      {
       "output_type": "stream",
       "stream": "stdout",
       "text": [
        " cond.6=>imp.4"
       ]
      },
      {
       "output_type": "stream",
       "stream": "stdout",
       "text": [
        " cond.6=>imp.5"
       ]
      },
      {
       "output_type": "stream",
       "stream": "stdout",
       "text": [
        " cond.6=>sbjv.1"
       ]
      },
      {
       "output_type": "stream",
       "stream": "stdout",
       "text": [
        " cond.6=>sbjv.2"
       ]
      },
      {
       "output_type": "stream",
       "stream": "stdout",
       "text": [
        " cond.6=>sbjv.3"
       ]
      },
      {
       "output_type": "stream",
       "stream": "stdout",
       "text": [
        " cond.6=>sbjv.4"
       ]
      },
      {
       "output_type": "stream",
       "stream": "stdout",
       "text": [
        " cond.6=>sbjv.5"
       ]
      },
      {
       "output_type": "stream",
       "stream": "stdout",
       "text": [
        " cond.6=>sbjv.6"
       ]
      },
      {
       "output_type": "stream",
       "stream": "stdout",
       "text": [
        " cond.6=>fut.1"
       ]
      },
      {
       "output_type": "stream",
       "stream": "stdout",
       "text": [
        " cond.6=>fut.2 cond.6=>fut.3 cond.6=>fut.4"
       ]
      },
      {
       "output_type": "stream",
       "stream": "stdout",
       "text": [
        " cond.6=>fut.5 cond.6=>fut.6 cond.6=>cond.1"
       ]
      },
      {
       "output_type": "stream",
       "stream": "stdout",
       "text": [
        " cond.6=>cond.2 cond.6=>cond.3 cond.6=>cond.4 cond.6=>cond.5 cond.6=>pst.1 cond.6=>pst.2"
       ]
      },
      {
       "output_type": "stream",
       "stream": "stdout",
       "text": [
        " cond.6=>pst.3"
       ]
      },
      {
       "output_type": "stream",
       "stream": "stdout",
       "text": [
        " cond.6=>pst.4"
       ]
      },
      {
       "output_type": "stream",
       "stream": "stdout",
       "text": [
        " cond.6=>pst.5"
       ]
      },
      {
       "output_type": "stream",
       "stream": "stdout",
       "text": [
        " cond.6=>pst.6"
       ]
      },
      {
       "output_type": "stream",
       "stream": "stdout",
       "text": [
        " cond.6=>pst.sbj.1"
       ]
      },
      {
       "output_type": "stream",
       "stream": "stdout",
       "text": [
        " cond.6=>pst.sbj.2"
       ]
      },
      {
       "output_type": "stream",
       "stream": "stdout",
       "text": [
        " cond.6=>pst.sbj.3"
       ]
      },
      {
       "output_type": "stream",
       "stream": "stdout",
       "text": [
        " cond.6=>pst.sbj.4"
       ]
      },
      {
       "output_type": "stream",
       "stream": "stdout",
       "text": [
        " cond.6=>pst.sbj.5"
       ]
      },
      {
       "output_type": "stream",
       "stream": "stdout",
       "text": [
        " cond.6=>pst.sbj.6"
       ]
      },
      {
       "output_type": "stream",
       "stream": "stdout",
       "text": [
        " cond.6=>inf"
       ]
      },
      {
       "output_type": "stream",
       "stream": "stdout",
       "text": [
        " cond.6=>prs.pcp"
       ]
      },
      {
       "output_type": "stream",
       "stream": "stdout",
       "text": [
        " cond.6=>pst.pcp"
       ]
      },
      {
       "output_type": "stream",
       "stream": "stdout",
       "text": [
        " pst.1=>ipf.1"
       ]
      },
      {
       "output_type": "stream",
       "stream": "stdout",
       "text": [
        " pst.1=>ipf.2"
       ]
      },
      {
       "output_type": "stream",
       "stream": "stdout",
       "text": [
        " pst.1=>ipf.3"
       ]
      },
      {
       "output_type": "stream",
       "stream": "stdout",
       "text": [
        " pst.1=>ipf.4"
       ]
      },
      {
       "output_type": "stream",
       "stream": "stdout",
       "text": [
        " pst.1=>ipf.5"
       ]
      },
      {
       "output_type": "stream",
       "stream": "stdout",
       "text": [
        " pst.1=>ipf.6"
       ]
      },
      {
       "output_type": "stream",
       "stream": "stdout",
       "text": [
        " pst.1=>prs.1"
       ]
      },
      {
       "output_type": "stream",
       "stream": "stdout",
       "text": [
        " pst.1=>prs.2"
       ]
      },
      {
       "output_type": "stream",
       "stream": "stdout",
       "text": [
        " pst.1=>prs.3"
       ]
      },
      {
       "output_type": "stream",
       "stream": "stdout",
       "text": [
        " pst.1=>prs.4"
       ]
      },
      {
       "output_type": "stream",
       "stream": "stdout",
       "text": [
        " pst.1=>prs.5"
       ]
      },
      {
       "output_type": "stream",
       "stream": "stdout",
       "text": [
        " pst.1=>prs.6"
       ]
      },
      {
       "output_type": "stream",
       "stream": "stdout",
       "text": [
        " pst.1=>imp.2"
       ]
      },
      {
       "output_type": "stream",
       "stream": "stdout",
       "text": [
        " pst.1=>imp.4"
       ]
      },
      {
       "output_type": "stream",
       "stream": "stdout",
       "text": [
        " pst.1=>imp.5"
       ]
      },
      {
       "output_type": "stream",
       "stream": "stdout",
       "text": [
        " pst.1=>sbjv.1"
       ]
      },
      {
       "output_type": "stream",
       "stream": "stdout",
       "text": [
        " pst.1=>sbjv.2"
       ]
      },
      {
       "output_type": "stream",
       "stream": "stdout",
       "text": [
        " pst.1=>sbjv.3"
       ]
      },
      {
       "output_type": "stream",
       "stream": "stdout",
       "text": [
        " pst.1=>sbjv.4"
       ]
      },
      {
       "output_type": "stream",
       "stream": "stdout",
       "text": [
        " pst.1=>sbjv.5"
       ]
      },
      {
       "output_type": "stream",
       "stream": "stdout",
       "text": [
        " pst.1=>sbjv.6"
       ]
      },
      {
       "output_type": "stream",
       "stream": "stdout",
       "text": [
        " pst.1=>fut.1"
       ]
      },
      {
       "output_type": "stream",
       "stream": "stdout",
       "text": [
        " pst.1=>fut.2"
       ]
      },
      {
       "output_type": "stream",
       "stream": "stdout",
       "text": [
        " pst.1=>fut.3"
       ]
      },
      {
       "output_type": "stream",
       "stream": "stdout",
       "text": [
        " pst.1=>fut.4"
       ]
      },
      {
       "output_type": "stream",
       "stream": "stdout",
       "text": [
        " pst.1=>fut.5"
       ]
      },
      {
       "output_type": "stream",
       "stream": "stdout",
       "text": [
        " pst.1=>fut.6"
       ]
      },
      {
       "output_type": "stream",
       "stream": "stdout",
       "text": [
        " pst.1=>cond.1"
       ]
      },
      {
       "output_type": "stream",
       "stream": "stdout",
       "text": [
        " pst.1=>cond.2"
       ]
      },
      {
       "output_type": "stream",
       "stream": "stdout",
       "text": [
        " pst.1=>cond.3"
       ]
      },
      {
       "output_type": "stream",
       "stream": "stdout",
       "text": [
        " pst.1=>cond.4"
       ]
      },
      {
       "output_type": "stream",
       "stream": "stdout",
       "text": [
        " pst.1=>cond.5"
       ]
      },
      {
       "output_type": "stream",
       "stream": "stdout",
       "text": [
        " pst.1=>cond.6"
       ]
      },
      {
       "output_type": "stream",
       "stream": "stdout",
       "text": [
        " pst.1=>pst.2"
       ]
      },
      {
       "output_type": "stream",
       "stream": "stdout",
       "text": [
        " pst.1=>pst.3 pst.1=>pst.4 pst.1=>pst.5 pst.1=>pst.6"
       ]
      },
      {
       "output_type": "stream",
       "stream": "stdout",
       "text": [
        " pst.1=>pst.sbj.1 pst.1=>pst.sbj.2 pst.1=>pst.sbj.3"
       ]
      },
      {
       "output_type": "stream",
       "stream": "stdout",
       "text": [
        " pst.1=>pst.sbj.4 pst.1=>pst.sbj.5 pst.1=>pst.sbj.6"
       ]
      },
      {
       "output_type": "stream",
       "stream": "stdout",
       "text": [
        " pst.1=>inf pst.1=>prs.pcp"
       ]
      },
      {
       "output_type": "stream",
       "stream": "stdout",
       "text": [
        " pst.1=>pst.pcp"
       ]
      },
      {
       "output_type": "stream",
       "stream": "stdout",
       "text": [
        " pst.2=>ipf.1"
       ]
      },
      {
       "output_type": "stream",
       "stream": "stdout",
       "text": [
        " pst.2=>ipf.2"
       ]
      },
      {
       "output_type": "stream",
       "stream": "stdout",
       "text": [
        " pst.2=>ipf.3"
       ]
      },
      {
       "output_type": "stream",
       "stream": "stdout",
       "text": [
        " pst.2=>ipf.4"
       ]
      },
      {
       "output_type": "stream",
       "stream": "stdout",
       "text": [
        " pst.2=>ipf.5"
       ]
      },
      {
       "output_type": "stream",
       "stream": "stdout",
       "text": [
        " pst.2=>ipf.6"
       ]
      },
      {
       "output_type": "stream",
       "stream": "stdout",
       "text": [
        " pst.2=>prs.1"
       ]
      },
      {
       "output_type": "stream",
       "stream": "stdout",
       "text": [
        " pst.2=>prs.2"
       ]
      },
      {
       "output_type": "stream",
       "stream": "stdout",
       "text": [
        " pst.2=>prs.3"
       ]
      },
      {
       "output_type": "stream",
       "stream": "stdout",
       "text": [
        " pst.2=>prs.4"
       ]
      },
      {
       "output_type": "stream",
       "stream": "stdout",
       "text": [
        " pst.2=>prs.5"
       ]
      },
      {
       "output_type": "stream",
       "stream": "stdout",
       "text": [
        " pst.2=>prs.6"
       ]
      },
      {
       "output_type": "stream",
       "stream": "stdout",
       "text": [
        " pst.2=>imp.2"
       ]
      },
      {
       "output_type": "stream",
       "stream": "stdout",
       "text": [
        " pst.2=>imp.4"
       ]
      },
      {
       "output_type": "stream",
       "stream": "stdout",
       "text": [
        " pst.2=>imp.5"
       ]
      },
      {
       "output_type": "stream",
       "stream": "stdout",
       "text": [
        " pst.2=>sbjv.1"
       ]
      },
      {
       "output_type": "stream",
       "stream": "stdout",
       "text": [
        " pst.2=>sbjv.2"
       ]
      },
      {
       "output_type": "stream",
       "stream": "stdout",
       "text": [
        " pst.2=>sbjv.3"
       ]
      },
      {
       "output_type": "stream",
       "stream": "stdout",
       "text": [
        " pst.2=>sbjv.4"
       ]
      },
      {
       "output_type": "stream",
       "stream": "stdout",
       "text": [
        " pst.2=>sbjv.5"
       ]
      },
      {
       "output_type": "stream",
       "stream": "stdout",
       "text": [
        " pst.2=>sbjv.6"
       ]
      },
      {
       "output_type": "stream",
       "stream": "stdout",
       "text": [
        " pst.2=>fut.1"
       ]
      },
      {
       "output_type": "stream",
       "stream": "stdout",
       "text": [
        " pst.2=>fut.2"
       ]
      },
      {
       "output_type": "stream",
       "stream": "stdout",
       "text": [
        " pst.2=>fut.3"
       ]
      },
      {
       "output_type": "stream",
       "stream": "stdout",
       "text": [
        " pst.2=>fut.4"
       ]
      },
      {
       "output_type": "stream",
       "stream": "stdout",
       "text": [
        " pst.2=>fut.5"
       ]
      },
      {
       "output_type": "stream",
       "stream": "stdout",
       "text": [
        " pst.2=>fut.6"
       ]
      },
      {
       "output_type": "stream",
       "stream": "stdout",
       "text": [
        " pst.2=>cond.1"
       ]
      },
      {
       "output_type": "stream",
       "stream": "stdout",
       "text": [
        " pst.2=>cond.2"
       ]
      },
      {
       "output_type": "stream",
       "stream": "stdout",
       "text": [
        " pst.2=>cond.3"
       ]
      },
      {
       "output_type": "stream",
       "stream": "stdout",
       "text": [
        " pst.2=>cond.4"
       ]
      },
      {
       "output_type": "stream",
       "stream": "stdout",
       "text": [
        " pst.2=>cond.5"
       ]
      },
      {
       "output_type": "stream",
       "stream": "stdout",
       "text": [
        " pst.2=>cond.6"
       ]
      },
      {
       "output_type": "stream",
       "stream": "stdout",
       "text": [
        " pst.2=>pst.1"
       ]
      },
      {
       "output_type": "stream",
       "stream": "stdout",
       "text": [
        " pst.2=>pst.3 pst.2=>pst.4 pst.2=>pst.5"
       ]
      },
      {
       "output_type": "stream",
       "stream": "stdout",
       "text": [
        " pst.2=>pst.6 pst.2=>pst.sbj.1"
       ]
      },
      {
       "output_type": "stream",
       "stream": "stdout",
       "text": [
        " pst.2=>pst.sbj.2 pst.2=>pst.sbj.3 pst.2=>pst.sbj.4"
       ]
      },
      {
       "output_type": "stream",
       "stream": "stdout",
       "text": [
        " pst.2=>pst.sbj.5 pst.2=>pst.sbj.6 pst.2=>inf"
       ]
      },
      {
       "output_type": "stream",
       "stream": "stdout",
       "text": [
        " pst.2=>prs.pcp"
       ]
      },
      {
       "output_type": "stream",
       "stream": "stdout",
       "text": [
        " pst.2=>pst.pcp"
       ]
      },
      {
       "output_type": "stream",
       "stream": "stdout",
       "text": [
        " pst.3=>ipf.1"
       ]
      },
      {
       "output_type": "stream",
       "stream": "stdout",
       "text": [
        " pst.3=>ipf.2"
       ]
      },
      {
       "output_type": "stream",
       "stream": "stdout",
       "text": [
        " pst.3=>ipf.3"
       ]
      },
      {
       "output_type": "stream",
       "stream": "stdout",
       "text": [
        " pst.3=>ipf.4"
       ]
      },
      {
       "output_type": "stream",
       "stream": "stdout",
       "text": [
        " pst.3=>ipf.5"
       ]
      },
      {
       "output_type": "stream",
       "stream": "stdout",
       "text": [
        " pst.3=>ipf.6"
       ]
      },
      {
       "output_type": "stream",
       "stream": "stdout",
       "text": [
        " pst.3=>prs.1"
       ]
      },
      {
       "output_type": "stream",
       "stream": "stdout",
       "text": [
        " pst.3=>prs.2"
       ]
      },
      {
       "output_type": "stream",
       "stream": "stdout",
       "text": [
        " pst.3=>prs.3"
       ]
      },
      {
       "output_type": "stream",
       "stream": "stdout",
       "text": [
        " pst.3=>prs.4"
       ]
      },
      {
       "output_type": "stream",
       "stream": "stdout",
       "text": [
        " pst.3=>prs.5"
       ]
      },
      {
       "output_type": "stream",
       "stream": "stdout",
       "text": [
        " pst.3=>prs.6"
       ]
      },
      {
       "output_type": "stream",
       "stream": "stdout",
       "text": [
        " pst.3=>imp.2"
       ]
      },
      {
       "output_type": "stream",
       "stream": "stdout",
       "text": [
        " pst.3=>imp.4"
       ]
      },
      {
       "output_type": "stream",
       "stream": "stdout",
       "text": [
        " pst.3=>imp.5"
       ]
      },
      {
       "output_type": "stream",
       "stream": "stdout",
       "text": [
        " pst.3=>sbjv.1"
       ]
      },
      {
       "output_type": "stream",
       "stream": "stdout",
       "text": [
        " pst.3=>sbjv.2"
       ]
      },
      {
       "output_type": "stream",
       "stream": "stdout",
       "text": [
        " pst.3=>sbjv.3"
       ]
      },
      {
       "output_type": "stream",
       "stream": "stdout",
       "text": [
        " pst.3=>sbjv.4"
       ]
      },
      {
       "output_type": "stream",
       "stream": "stdout",
       "text": [
        " pst.3=>sbjv.5"
       ]
      },
      {
       "output_type": "stream",
       "stream": "stdout",
       "text": [
        " pst.3=>sbjv.6"
       ]
      },
      {
       "output_type": "stream",
       "stream": "stdout",
       "text": [
        " pst.3=>fut.1"
       ]
      },
      {
       "output_type": "stream",
       "stream": "stdout",
       "text": [
        " pst.3=>fut.2"
       ]
      },
      {
       "output_type": "stream",
       "stream": "stdout",
       "text": [
        " pst.3=>fut.3"
       ]
      },
      {
       "output_type": "stream",
       "stream": "stdout",
       "text": [
        " pst.3=>fut.4"
       ]
      },
      {
       "output_type": "stream",
       "stream": "stdout",
       "text": [
        " pst.3=>fut.5"
       ]
      },
      {
       "output_type": "stream",
       "stream": "stdout",
       "text": [
        " pst.3=>fut.6"
       ]
      },
      {
       "output_type": "stream",
       "stream": "stdout",
       "text": [
        " pst.3=>cond.1"
       ]
      },
      {
       "output_type": "stream",
       "stream": "stdout",
       "text": [
        " pst.3=>cond.2"
       ]
      },
      {
       "output_type": "stream",
       "stream": "stdout",
       "text": [
        " pst.3=>cond.3"
       ]
      },
      {
       "output_type": "stream",
       "stream": "stdout",
       "text": [
        " pst.3=>cond.4"
       ]
      },
      {
       "output_type": "stream",
       "stream": "stdout",
       "text": [
        " pst.3=>cond.5"
       ]
      },
      {
       "output_type": "stream",
       "stream": "stdout",
       "text": [
        " pst.3=>cond.6"
       ]
      },
      {
       "output_type": "stream",
       "stream": "stdout",
       "text": [
        " pst.3=>pst.1"
       ]
      },
      {
       "output_type": "stream",
       "stream": "stdout",
       "text": [
        " pst.3=>pst.2 pst.3=>pst.4 pst.3=>pst.5 pst.3=>pst.6"
       ]
      },
      {
       "output_type": "stream",
       "stream": "stdout",
       "text": [
        " pst.3=>pst.sbj.1 pst.3=>pst.sbj.2"
       ]
      },
      {
       "output_type": "stream",
       "stream": "stdout",
       "text": [
        " pst.3=>pst.sbj.3 pst.3=>pst.sbj.4 pst.3=>pst.sbj.5"
       ]
      },
      {
       "output_type": "stream",
       "stream": "stdout",
       "text": [
        " pst.3=>pst.sbj.6 pst.3=>inf pst.3=>prs.pcp"
       ]
      },
      {
       "output_type": "stream",
       "stream": "stdout",
       "text": [
        " pst.3=>pst.pcp"
       ]
      },
      {
       "output_type": "stream",
       "stream": "stdout",
       "text": [
        " pst.4=>ipf.1"
       ]
      },
      {
       "output_type": "stream",
       "stream": "stdout",
       "text": [
        " pst.4=>ipf.2"
       ]
      },
      {
       "output_type": "stream",
       "stream": "stdout",
       "text": [
        " pst.4=>ipf.3"
       ]
      },
      {
       "output_type": "stream",
       "stream": "stdout",
       "text": [
        " pst.4=>ipf.4"
       ]
      },
      {
       "output_type": "stream",
       "stream": "stdout",
       "text": [
        " pst.4=>ipf.5"
       ]
      },
      {
       "output_type": "stream",
       "stream": "stdout",
       "text": [
        " pst.4=>ipf.6"
       ]
      },
      {
       "output_type": "stream",
       "stream": "stdout",
       "text": [
        " pst.4=>prs.1"
       ]
      },
      {
       "output_type": "stream",
       "stream": "stdout",
       "text": [
        " pst.4=>prs.2"
       ]
      },
      {
       "output_type": "stream",
       "stream": "stdout",
       "text": [
        " pst.4=>prs.3"
       ]
      },
      {
       "output_type": "stream",
       "stream": "stdout",
       "text": [
        " pst.4=>prs.4"
       ]
      },
      {
       "output_type": "stream",
       "stream": "stdout",
       "text": [
        " pst.4=>prs.5"
       ]
      },
      {
       "output_type": "stream",
       "stream": "stdout",
       "text": [
        " pst.4=>prs.6"
       ]
      },
      {
       "output_type": "stream",
       "stream": "stdout",
       "text": [
        " pst.4=>imp.2"
       ]
      },
      {
       "output_type": "stream",
       "stream": "stdout",
       "text": [
        " pst.4=>imp.4"
       ]
      },
      {
       "output_type": "stream",
       "stream": "stdout",
       "text": [
        " pst.4=>imp.5"
       ]
      },
      {
       "output_type": "stream",
       "stream": "stdout",
       "text": [
        " pst.4=>sbjv.1"
       ]
      },
      {
       "output_type": "stream",
       "stream": "stdout",
       "text": [
        " pst.4=>sbjv.2"
       ]
      },
      {
       "output_type": "stream",
       "stream": "stdout",
       "text": [
        " pst.4=>sbjv.3"
       ]
      },
      {
       "output_type": "stream",
       "stream": "stdout",
       "text": [
        " pst.4=>sbjv.4"
       ]
      },
      {
       "output_type": "stream",
       "stream": "stdout",
       "text": [
        " pst.4=>sbjv.5"
       ]
      },
      {
       "output_type": "stream",
       "stream": "stdout",
       "text": [
        " pst.4=>sbjv.6"
       ]
      },
      {
       "output_type": "stream",
       "stream": "stdout",
       "text": [
        " pst.4=>fut.1"
       ]
      },
      {
       "output_type": "stream",
       "stream": "stdout",
       "text": [
        " pst.4=>fut.2"
       ]
      },
      {
       "output_type": "stream",
       "stream": "stdout",
       "text": [
        " pst.4=>fut.3"
       ]
      },
      {
       "output_type": "stream",
       "stream": "stdout",
       "text": [
        " pst.4=>fut.4"
       ]
      },
      {
       "output_type": "stream",
       "stream": "stdout",
       "text": [
        " pst.4=>fut.5"
       ]
      },
      {
       "output_type": "stream",
       "stream": "stdout",
       "text": [
        " pst.4=>fut.6"
       ]
      },
      {
       "output_type": "stream",
       "stream": "stdout",
       "text": [
        " pst.4=>cond.1"
       ]
      },
      {
       "output_type": "stream",
       "stream": "stdout",
       "text": [
        " pst.4=>cond.2"
       ]
      },
      {
       "output_type": "stream",
       "stream": "stdout",
       "text": [
        " pst.4=>cond.3"
       ]
      },
      {
       "output_type": "stream",
       "stream": "stdout",
       "text": [
        " pst.4=>cond.4"
       ]
      },
      {
       "output_type": "stream",
       "stream": "stdout",
       "text": [
        " pst.4=>cond.5"
       ]
      },
      {
       "output_type": "stream",
       "stream": "stdout",
       "text": [
        " pst.4=>cond.6"
       ]
      },
      {
       "output_type": "stream",
       "stream": "stdout",
       "text": [
        " pst.4=>pst.1"
       ]
      },
      {
       "output_type": "stream",
       "stream": "stdout",
       "text": [
        " pst.4=>pst.2 pst.4=>pst.3"
       ]
      },
      {
       "output_type": "stream",
       "stream": "stdout",
       "text": [
        " pst.4=>pst.5 pst.4=>pst.6 pst.4=>pst.sbj.1"
       ]
      },
      {
       "output_type": "stream",
       "stream": "stdout",
       "text": [
        " pst.4=>pst.sbj.2 pst.4=>pst.sbj.3 pst.4=>pst.sbj.4"
       ]
      },
      {
       "output_type": "stream",
       "stream": "stdout",
       "text": [
        " pst.4=>pst.sbj.5 pst.4=>pst.sbj.6 pst.4=>inf"
       ]
      },
      {
       "output_type": "stream",
       "stream": "stdout",
       "text": [
        " pst.4=>prs.pcp"
       ]
      },
      {
       "output_type": "stream",
       "stream": "stdout",
       "text": [
        " pst.4=>pst.pcp"
       ]
      },
      {
       "output_type": "stream",
       "stream": "stdout",
       "text": [
        " pst.5=>ipf.1"
       ]
      },
      {
       "output_type": "stream",
       "stream": "stdout",
       "text": [
        " pst.5=>ipf.2"
       ]
      },
      {
       "output_type": "stream",
       "stream": "stdout",
       "text": [
        " pst.5=>ipf.3"
       ]
      },
      {
       "output_type": "stream",
       "stream": "stdout",
       "text": [
        " pst.5=>ipf.4"
       ]
      },
      {
       "output_type": "stream",
       "stream": "stdout",
       "text": [
        " pst.5=>ipf.5"
       ]
      },
      {
       "output_type": "stream",
       "stream": "stdout",
       "text": [
        " pst.5=>ipf.6"
       ]
      },
      {
       "output_type": "stream",
       "stream": "stdout",
       "text": [
        " pst.5=>prs.1"
       ]
      },
      {
       "output_type": "stream",
       "stream": "stdout",
       "text": [
        " pst.5=>prs.2"
       ]
      },
      {
       "output_type": "stream",
       "stream": "stdout",
       "text": [
        " pst.5=>prs.3"
       ]
      },
      {
       "output_type": "stream",
       "stream": "stdout",
       "text": [
        " pst.5=>prs.4"
       ]
      },
      {
       "output_type": "stream",
       "stream": "stdout",
       "text": [
        " pst.5=>prs.5"
       ]
      },
      {
       "output_type": "stream",
       "stream": "stdout",
       "text": [
        " pst.5=>prs.6"
       ]
      },
      {
       "output_type": "stream",
       "stream": "stdout",
       "text": [
        " pst.5=>imp.2"
       ]
      },
      {
       "output_type": "stream",
       "stream": "stdout",
       "text": [
        " pst.5=>imp.4"
       ]
      },
      {
       "output_type": "stream",
       "stream": "stdout",
       "text": [
        " pst.5=>imp.5"
       ]
      },
      {
       "output_type": "stream",
       "stream": "stdout",
       "text": [
        " pst.5=>sbjv.1"
       ]
      },
      {
       "output_type": "stream",
       "stream": "stdout",
       "text": [
        " pst.5=>sbjv.2"
       ]
      },
      {
       "output_type": "stream",
       "stream": "stdout",
       "text": [
        " pst.5=>sbjv.3"
       ]
      },
      {
       "output_type": "stream",
       "stream": "stdout",
       "text": [
        " pst.5=>sbjv.4"
       ]
      },
      {
       "output_type": "stream",
       "stream": "stdout",
       "text": [
        " pst.5=>sbjv.5"
       ]
      },
      {
       "output_type": "stream",
       "stream": "stdout",
       "text": [
        " pst.5=>sbjv.6"
       ]
      },
      {
       "output_type": "stream",
       "stream": "stdout",
       "text": [
        " pst.5=>fut.1"
       ]
      },
      {
       "output_type": "stream",
       "stream": "stdout",
       "text": [
        " pst.5=>fut.2"
       ]
      },
      {
       "output_type": "stream",
       "stream": "stdout",
       "text": [
        " pst.5=>fut.3"
       ]
      },
      {
       "output_type": "stream",
       "stream": "stdout",
       "text": [
        " pst.5=>fut.4"
       ]
      },
      {
       "output_type": "stream",
       "stream": "stdout",
       "text": [
        " pst.5=>fut.5"
       ]
      },
      {
       "output_type": "stream",
       "stream": "stdout",
       "text": [
        " pst.5=>fut.6"
       ]
      },
      {
       "output_type": "stream",
       "stream": "stdout",
       "text": [
        " pst.5=>cond.1"
       ]
      },
      {
       "output_type": "stream",
       "stream": "stdout",
       "text": [
        " pst.5=>cond.2"
       ]
      },
      {
       "output_type": "stream",
       "stream": "stdout",
       "text": [
        " pst.5=>cond.3"
       ]
      },
      {
       "output_type": "stream",
       "stream": "stdout",
       "text": [
        " pst.5=>cond.4"
       ]
      },
      {
       "output_type": "stream",
       "stream": "stdout",
       "text": [
        " pst.5=>cond.5"
       ]
      },
      {
       "output_type": "stream",
       "stream": "stdout",
       "text": [
        " pst.5=>cond.6"
       ]
      },
      {
       "output_type": "stream",
       "stream": "stdout",
       "text": [
        " pst.5=>pst.1"
       ]
      },
      {
       "output_type": "stream",
       "stream": "stdout",
       "text": [
        " pst.5=>pst.2 pst.5=>pst.3"
       ]
      },
      {
       "output_type": "stream",
       "stream": "stdout",
       "text": [
        " pst.5=>pst.4 pst.5=>pst.6 pst.5=>pst.sbj.1"
       ]
      },
      {
       "output_type": "stream",
       "stream": "stdout",
       "text": [
        " pst.5=>pst.sbj.2 pst.5=>pst.sbj.3 pst.5=>pst.sbj.4"
       ]
      },
      {
       "output_type": "stream",
       "stream": "stdout",
       "text": [
        " pst.5=>pst.sbj.5 pst.5=>pst.sbj.6 pst.5=>inf"
       ]
      },
      {
       "output_type": "stream",
       "stream": "stdout",
       "text": [
        " pst.5=>prs.pcp"
       ]
      },
      {
       "output_type": "stream",
       "stream": "stdout",
       "text": [
        " pst.5=>pst.pcp"
       ]
      },
      {
       "output_type": "stream",
       "stream": "stdout",
       "text": [
        " pst.6=>ipf.1"
       ]
      },
      {
       "output_type": "stream",
       "stream": "stdout",
       "text": [
        " pst.6=>ipf.2"
       ]
      },
      {
       "output_type": "stream",
       "stream": "stdout",
       "text": [
        " pst.6=>ipf.3"
       ]
      },
      {
       "output_type": "stream",
       "stream": "stdout",
       "text": [
        " pst.6=>ipf.4"
       ]
      },
      {
       "output_type": "stream",
       "stream": "stdout",
       "text": [
        " pst.6=>ipf.5"
       ]
      },
      {
       "output_type": "stream",
       "stream": "stdout",
       "text": [
        " pst.6=>ipf.6"
       ]
      },
      {
       "output_type": "stream",
       "stream": "stdout",
       "text": [
        " pst.6=>prs.1"
       ]
      },
      {
       "output_type": "stream",
       "stream": "stdout",
       "text": [
        " pst.6=>prs.2"
       ]
      },
      {
       "output_type": "stream",
       "stream": "stdout",
       "text": [
        " pst.6=>prs.3"
       ]
      },
      {
       "output_type": "stream",
       "stream": "stdout",
       "text": [
        " pst.6=>prs.4"
       ]
      },
      {
       "output_type": "stream",
       "stream": "stdout",
       "text": [
        " pst.6=>prs.5"
       ]
      },
      {
       "output_type": "stream",
       "stream": "stdout",
       "text": [
        " pst.6=>prs.6"
       ]
      },
      {
       "output_type": "stream",
       "stream": "stdout",
       "text": [
        " pst.6=>imp.2"
       ]
      },
      {
       "output_type": "stream",
       "stream": "stdout",
       "text": [
        " pst.6=>imp.4"
       ]
      },
      {
       "output_type": "stream",
       "stream": "stdout",
       "text": [
        " pst.6=>imp.5"
       ]
      },
      {
       "output_type": "stream",
       "stream": "stdout",
       "text": [
        " pst.6=>sbjv.1"
       ]
      },
      {
       "output_type": "stream",
       "stream": "stdout",
       "text": [
        " pst.6=>sbjv.2"
       ]
      },
      {
       "output_type": "stream",
       "stream": "stdout",
       "text": [
        " pst.6=>sbjv.3"
       ]
      },
      {
       "output_type": "stream",
       "stream": "stdout",
       "text": [
        " pst.6=>sbjv.4"
       ]
      },
      {
       "output_type": "stream",
       "stream": "stdout",
       "text": [
        " pst.6=>sbjv.5"
       ]
      },
      {
       "output_type": "stream",
       "stream": "stdout",
       "text": [
        " pst.6=>sbjv.6"
       ]
      },
      {
       "output_type": "stream",
       "stream": "stdout",
       "text": [
        " pst.6=>fut.1"
       ]
      },
      {
       "output_type": "stream",
       "stream": "stdout",
       "text": [
        " pst.6=>fut.2"
       ]
      },
      {
       "output_type": "stream",
       "stream": "stdout",
       "text": [
        " pst.6=>fut.3"
       ]
      },
      {
       "output_type": "stream",
       "stream": "stdout",
       "text": [
        " pst.6=>fut.4"
       ]
      },
      {
       "output_type": "stream",
       "stream": "stdout",
       "text": [
        " pst.6=>fut.5"
       ]
      },
      {
       "output_type": "stream",
       "stream": "stdout",
       "text": [
        " pst.6=>fut.6"
       ]
      },
      {
       "output_type": "stream",
       "stream": "stdout",
       "text": [
        " pst.6=>cond.1"
       ]
      },
      {
       "output_type": "stream",
       "stream": "stdout",
       "text": [
        " pst.6=>cond.2"
       ]
      },
      {
       "output_type": "stream",
       "stream": "stdout",
       "text": [
        " pst.6=>cond.3"
       ]
      },
      {
       "output_type": "stream",
       "stream": "stdout",
       "text": [
        " pst.6=>cond.4"
       ]
      },
      {
       "output_type": "stream",
       "stream": "stdout",
       "text": [
        " pst.6=>cond.5"
       ]
      },
      {
       "output_type": "stream",
       "stream": "stdout",
       "text": [
        " pst.6=>cond.6"
       ]
      },
      {
       "output_type": "stream",
       "stream": "stdout",
       "text": [
        " pst.6=>pst.1"
       ]
      },
      {
       "output_type": "stream",
       "stream": "stdout",
       "text": [
        " pst.6=>pst.2 pst.6=>pst.3"
       ]
      },
      {
       "output_type": "stream",
       "stream": "stdout",
       "text": [
        " pst.6=>pst.4"
       ]
      },
      {
       "output_type": "stream",
       "stream": "stdout",
       "text": [
        " pst.6=>pst.5"
       ]
      },
      {
       "output_type": "stream",
       "stream": "stdout",
       "text": [
        " pst.6=>pst.sbj.1"
       ]
      },
      {
       "output_type": "stream",
       "stream": "stdout",
       "text": [
        " pst.6=>pst.sbj.2 pst.6=>pst.sbj.3"
       ]
      },
      {
       "output_type": "stream",
       "stream": "stdout",
       "text": [
        " pst.6=>pst.sbj.4"
       ]
      },
      {
       "output_type": "stream",
       "stream": "stdout",
       "text": [
        " pst.6=>pst.sbj.5"
       ]
      },
      {
       "output_type": "stream",
       "stream": "stdout",
       "text": [
        " pst.6=>pst.sbj.6"
       ]
      },
      {
       "output_type": "stream",
       "stream": "stdout",
       "text": [
        " pst.6=>inf"
       ]
      },
      {
       "output_type": "stream",
       "stream": "stdout",
       "text": [
        " pst.6=>prs.pcp"
       ]
      },
      {
       "output_type": "stream",
       "stream": "stdout",
       "text": [
        " pst.6=>pst.pcp"
       ]
      },
      {
       "output_type": "stream",
       "stream": "stdout",
       "text": [
        " pst.sbj.1=>ipf.1"
       ]
      },
      {
       "output_type": "stream",
       "stream": "stdout",
       "text": [
        " pst.sbj.1=>ipf.2"
       ]
      },
      {
       "output_type": "stream",
       "stream": "stdout",
       "text": [
        " pst.sbj.1=>ipf.3"
       ]
      },
      {
       "output_type": "stream",
       "stream": "stdout",
       "text": [
        " pst.sbj.1=>ipf.4"
       ]
      },
      {
       "output_type": "stream",
       "stream": "stdout",
       "text": [
        " pst.sbj.1=>ipf.5"
       ]
      },
      {
       "output_type": "stream",
       "stream": "stdout",
       "text": [
        " pst.sbj.1=>ipf.6"
       ]
      },
      {
       "output_type": "stream",
       "stream": "stdout",
       "text": [
        " pst.sbj.1=>prs.1"
       ]
      },
      {
       "output_type": "stream",
       "stream": "stdout",
       "text": [
        " pst.sbj.1=>prs.2"
       ]
      },
      {
       "output_type": "stream",
       "stream": "stdout",
       "text": [
        " pst.sbj.1=>prs.3"
       ]
      },
      {
       "output_type": "stream",
       "stream": "stdout",
       "text": [
        " pst.sbj.1=>prs.4"
       ]
      },
      {
       "output_type": "stream",
       "stream": "stdout",
       "text": [
        " pst.sbj.1=>prs.5"
       ]
      },
      {
       "output_type": "stream",
       "stream": "stdout",
       "text": [
        " pst.sbj.1=>prs.6"
       ]
      },
      {
       "output_type": "stream",
       "stream": "stdout",
       "text": [
        " pst.sbj.1=>imp.2"
       ]
      },
      {
       "output_type": "stream",
       "stream": "stdout",
       "text": [
        " pst.sbj.1=>imp.4"
       ]
      },
      {
       "output_type": "stream",
       "stream": "stdout",
       "text": [
        " pst.sbj.1=>imp.5"
       ]
      },
      {
       "output_type": "stream",
       "stream": "stdout",
       "text": [
        " pst.sbj.1=>sbjv.1"
       ]
      },
      {
       "output_type": "stream",
       "stream": "stdout",
       "text": [
        " pst.sbj.1=>sbjv.2"
       ]
      },
      {
       "output_type": "stream",
       "stream": "stdout",
       "text": [
        " pst.sbj.1=>sbjv.3"
       ]
      },
      {
       "output_type": "stream",
       "stream": "stdout",
       "text": [
        " pst.sbj.1=>sbjv.4"
       ]
      },
      {
       "output_type": "stream",
       "stream": "stdout",
       "text": [
        " pst.sbj.1=>sbjv.5"
       ]
      },
      {
       "output_type": "stream",
       "stream": "stdout",
       "text": [
        " pst.sbj.1=>sbjv.6"
       ]
      },
      {
       "output_type": "stream",
       "stream": "stdout",
       "text": [
        " pst.sbj.1=>fut.1"
       ]
      },
      {
       "output_type": "stream",
       "stream": "stdout",
       "text": [
        " pst.sbj.1=>fut.2"
       ]
      },
      {
       "output_type": "stream",
       "stream": "stdout",
       "text": [
        " pst.sbj.1=>fut.3"
       ]
      },
      {
       "output_type": "stream",
       "stream": "stdout",
       "text": [
        " pst.sbj.1=>fut.4"
       ]
      },
      {
       "output_type": "stream",
       "stream": "stdout",
       "text": [
        " pst.sbj.1=>fut.5"
       ]
      },
      {
       "output_type": "stream",
       "stream": "stdout",
       "text": [
        " pst.sbj.1=>fut.6"
       ]
      },
      {
       "output_type": "stream",
       "stream": "stdout",
       "text": [
        " pst.sbj.1=>cond.1"
       ]
      },
      {
       "output_type": "stream",
       "stream": "stdout",
       "text": [
        " pst.sbj.1=>cond.2"
       ]
      },
      {
       "output_type": "stream",
       "stream": "stdout",
       "text": [
        " pst.sbj.1=>cond.3"
       ]
      },
      {
       "output_type": "stream",
       "stream": "stdout",
       "text": [
        " pst.sbj.1=>cond.4"
       ]
      },
      {
       "output_type": "stream",
       "stream": "stdout",
       "text": [
        " pst.sbj.1=>cond.5"
       ]
      },
      {
       "output_type": "stream",
       "stream": "stdout",
       "text": [
        " pst.sbj.1=>cond.6"
       ]
      },
      {
       "output_type": "stream",
       "stream": "stdout",
       "text": [
        " pst.sbj.1=>pst.1"
       ]
      },
      {
       "output_type": "stream",
       "stream": "stdout",
       "text": [
        " pst.sbj.1=>pst.2 pst.sbj.1=>pst.3"
       ]
      },
      {
       "output_type": "stream",
       "stream": "stdout",
       "text": [
        " pst.sbj.1=>pst.4 pst.sbj.1=>pst.5 pst.sbj.1=>pst.6"
       ]
      },
      {
       "output_type": "stream",
       "stream": "stdout",
       "text": [
        " pst.sbj.1=>pst.sbj.2 pst.sbj.1=>pst.sbj.3"
       ]
      },
      {
       "output_type": "stream",
       "stream": "stdout",
       "text": [
        " pst.sbj.1=>pst.sbj.4 pst.sbj.1=>pst.sbj.5 pst.sbj.1=>pst.sbj.6"
       ]
      },
      {
       "output_type": "stream",
       "stream": "stdout",
       "text": [
        " pst.sbj.1=>inf pst.sbj.1=>prs.pcp"
       ]
      },
      {
       "output_type": "stream",
       "stream": "stdout",
       "text": [
        " pst.sbj.1=>pst.pcp"
       ]
      },
      {
       "output_type": "stream",
       "stream": "stdout",
       "text": [
        " pst.sbj.2=>ipf.1"
       ]
      },
      {
       "output_type": "stream",
       "stream": "stdout",
       "text": [
        " pst.sbj.2=>ipf.2"
       ]
      },
      {
       "output_type": "stream",
       "stream": "stdout",
       "text": [
        " pst.sbj.2=>ipf.3"
       ]
      },
      {
       "output_type": "stream",
       "stream": "stdout",
       "text": [
        " pst.sbj.2=>ipf.4"
       ]
      },
      {
       "output_type": "stream",
       "stream": "stdout",
       "text": [
        " pst.sbj.2=>ipf.5"
       ]
      },
      {
       "output_type": "stream",
       "stream": "stdout",
       "text": [
        " pst.sbj.2=>ipf.6"
       ]
      },
      {
       "output_type": "stream",
       "stream": "stdout",
       "text": [
        " pst.sbj.2=>prs.1"
       ]
      },
      {
       "output_type": "stream",
       "stream": "stdout",
       "text": [
        " pst.sbj.2=>prs.2"
       ]
      },
      {
       "output_type": "stream",
       "stream": "stdout",
       "text": [
        " pst.sbj.2=>prs.3"
       ]
      },
      {
       "output_type": "stream",
       "stream": "stdout",
       "text": [
        " pst.sbj.2=>prs.4"
       ]
      },
      {
       "output_type": "stream",
       "stream": "stdout",
       "text": [
        " pst.sbj.2=>prs.5"
       ]
      },
      {
       "output_type": "stream",
       "stream": "stdout",
       "text": [
        " pst.sbj.2=>prs.6"
       ]
      },
      {
       "output_type": "stream",
       "stream": "stdout",
       "text": [
        " pst.sbj.2=>imp.2"
       ]
      },
      {
       "output_type": "stream",
       "stream": "stdout",
       "text": [
        " pst.sbj.2=>imp.4"
       ]
      },
      {
       "output_type": "stream",
       "stream": "stdout",
       "text": [
        " pst.sbj.2=>imp.5"
       ]
      },
      {
       "output_type": "stream",
       "stream": "stdout",
       "text": [
        " pst.sbj.2=>sbjv.1"
       ]
      },
      {
       "output_type": "stream",
       "stream": "stdout",
       "text": [
        " pst.sbj.2=>sbjv.2"
       ]
      },
      {
       "output_type": "stream",
       "stream": "stdout",
       "text": [
        " pst.sbj.2=>sbjv.3"
       ]
      },
      {
       "output_type": "stream",
       "stream": "stdout",
       "text": [
        " pst.sbj.2=>sbjv.4"
       ]
      },
      {
       "output_type": "stream",
       "stream": "stdout",
       "text": [
        " pst.sbj.2=>sbjv.5"
       ]
      },
      {
       "output_type": "stream",
       "stream": "stdout",
       "text": [
        " pst.sbj.2=>sbjv.6"
       ]
      },
      {
       "output_type": "stream",
       "stream": "stdout",
       "text": [
        " pst.sbj.2=>fut.1"
       ]
      },
      {
       "output_type": "stream",
       "stream": "stdout",
       "text": [
        " pst.sbj.2=>fut.2"
       ]
      },
      {
       "output_type": "stream",
       "stream": "stdout",
       "text": [
        " pst.sbj.2=>fut.3"
       ]
      },
      {
       "output_type": "stream",
       "stream": "stdout",
       "text": [
        " pst.sbj.2=>fut.4"
       ]
      },
      {
       "output_type": "stream",
       "stream": "stdout",
       "text": [
        " pst.sbj.2=>fut.5"
       ]
      },
      {
       "output_type": "stream",
       "stream": "stdout",
       "text": [
        " pst.sbj.2=>fut.6"
       ]
      },
      {
       "output_type": "stream",
       "stream": "stdout",
       "text": [
        " pst.sbj.2=>cond.1"
       ]
      },
      {
       "output_type": "stream",
       "stream": "stdout",
       "text": [
        " pst.sbj.2=>cond.2"
       ]
      },
      {
       "output_type": "stream",
       "stream": "stdout",
       "text": [
        " pst.sbj.2=>cond.3"
       ]
      },
      {
       "output_type": "stream",
       "stream": "stdout",
       "text": [
        " pst.sbj.2=>cond.4"
       ]
      },
      {
       "output_type": "stream",
       "stream": "stdout",
       "text": [
        " pst.sbj.2=>cond.5"
       ]
      },
      {
       "output_type": "stream",
       "stream": "stdout",
       "text": [
        " pst.sbj.2=>cond.6"
       ]
      },
      {
       "output_type": "stream",
       "stream": "stdout",
       "text": [
        " pst.sbj.2=>pst.1"
       ]
      },
      {
       "output_type": "stream",
       "stream": "stdout",
       "text": [
        " pst.sbj.2=>pst.2 pst.sbj.2=>pst.3"
       ]
      },
      {
       "output_type": "stream",
       "stream": "stdout",
       "text": [
        " pst.sbj.2=>pst.4 pst.sbj.2=>pst.5 pst.sbj.2=>pst.6"
       ]
      },
      {
       "output_type": "stream",
       "stream": "stdout",
       "text": [
        " pst.sbj.2=>pst.sbj.1"
       ]
      },
      {
       "output_type": "stream",
       "stream": "stdout",
       "text": [
        " pst.sbj.2=>pst.sbj.3 pst.sbj.2=>pst.sbj.4"
       ]
      },
      {
       "output_type": "stream",
       "stream": "stdout",
       "text": [
        " pst.sbj.2=>pst.sbj.5 pst.sbj.2=>pst.sbj.6"
       ]
      },
      {
       "output_type": "stream",
       "stream": "stdout",
       "text": [
        " pst.sbj.2=>inf pst.sbj.2=>prs.pcp"
       ]
      },
      {
       "output_type": "stream",
       "stream": "stdout",
       "text": [
        " pst.sbj.2=>pst.pcp"
       ]
      },
      {
       "output_type": "stream",
       "stream": "stdout",
       "text": [
        " pst.sbj.3=>ipf.1"
       ]
      },
      {
       "output_type": "stream",
       "stream": "stdout",
       "text": [
        " pst.sbj.3=>ipf.2"
       ]
      },
      {
       "output_type": "stream",
       "stream": "stdout",
       "text": [
        " pst.sbj.3=>ipf.3"
       ]
      },
      {
       "output_type": "stream",
       "stream": "stdout",
       "text": [
        " pst.sbj.3=>ipf.4"
       ]
      },
      {
       "output_type": "stream",
       "stream": "stdout",
       "text": [
        " pst.sbj.3=>ipf.5"
       ]
      },
      {
       "output_type": "stream",
       "stream": "stdout",
       "text": [
        " pst.sbj.3=>ipf.6"
       ]
      },
      {
       "output_type": "stream",
       "stream": "stdout",
       "text": [
        " pst.sbj.3=>prs.1"
       ]
      },
      {
       "output_type": "stream",
       "stream": "stdout",
       "text": [
        " pst.sbj.3=>prs.2"
       ]
      },
      {
       "output_type": "stream",
       "stream": "stdout",
       "text": [
        " pst.sbj.3=>prs.3"
       ]
      },
      {
       "output_type": "stream",
       "stream": "stdout",
       "text": [
        " pst.sbj.3=>prs.4"
       ]
      },
      {
       "output_type": "stream",
       "stream": "stdout",
       "text": [
        " pst.sbj.3=>prs.5"
       ]
      },
      {
       "output_type": "stream",
       "stream": "stdout",
       "text": [
        " pst.sbj.3=>prs.6"
       ]
      },
      {
       "output_type": "stream",
       "stream": "stdout",
       "text": [
        " pst.sbj.3=>imp.2"
       ]
      },
      {
       "output_type": "stream",
       "stream": "stdout",
       "text": [
        " pst.sbj.3=>imp.4"
       ]
      },
      {
       "output_type": "stream",
       "stream": "stdout",
       "text": [
        " pst.sbj.3=>imp.5"
       ]
      },
      {
       "output_type": "stream",
       "stream": "stdout",
       "text": [
        " pst.sbj.3=>sbjv.1"
       ]
      },
      {
       "output_type": "stream",
       "stream": "stdout",
       "text": [
        " pst.sbj.3=>sbjv.2"
       ]
      },
      {
       "output_type": "stream",
       "stream": "stdout",
       "text": [
        " pst.sbj.3=>sbjv.3"
       ]
      },
      {
       "output_type": "stream",
       "stream": "stdout",
       "text": [
        " pst.sbj.3=>sbjv.4"
       ]
      },
      {
       "output_type": "stream",
       "stream": "stdout",
       "text": [
        " pst.sbj.3=>sbjv.5"
       ]
      },
      {
       "output_type": "stream",
       "stream": "stdout",
       "text": [
        " pst.sbj.3=>sbjv.6"
       ]
      },
      {
       "output_type": "stream",
       "stream": "stdout",
       "text": [
        " pst.sbj.3=>fut.1"
       ]
      },
      {
       "output_type": "stream",
       "stream": "stdout",
       "text": [
        " pst.sbj.3=>fut.2"
       ]
      },
      {
       "output_type": "stream",
       "stream": "stdout",
       "text": [
        " pst.sbj.3=>fut.3"
       ]
      },
      {
       "output_type": "stream",
       "stream": "stdout",
       "text": [
        " pst.sbj.3=>fut.4"
       ]
      },
      {
       "output_type": "stream",
       "stream": "stdout",
       "text": [
        " pst.sbj.3=>fut.5"
       ]
      },
      {
       "output_type": "stream",
       "stream": "stdout",
       "text": [
        " pst.sbj.3=>fut.6"
       ]
      },
      {
       "output_type": "stream",
       "stream": "stdout",
       "text": [
        " pst.sbj.3=>cond.1"
       ]
      },
      {
       "output_type": "stream",
       "stream": "stdout",
       "text": [
        " pst.sbj.3=>cond.2"
       ]
      },
      {
       "output_type": "stream",
       "stream": "stdout",
       "text": [
        " pst.sbj.3=>cond.3"
       ]
      },
      {
       "output_type": "stream",
       "stream": "stdout",
       "text": [
        " pst.sbj.3=>cond.4"
       ]
      },
      {
       "output_type": "stream",
       "stream": "stdout",
       "text": [
        " pst.sbj.3=>cond.5"
       ]
      },
      {
       "output_type": "stream",
       "stream": "stdout",
       "text": [
        " pst.sbj.3=>cond.6"
       ]
      },
      {
       "output_type": "stream",
       "stream": "stdout",
       "text": [
        " pst.sbj.3=>pst.1"
       ]
      },
      {
       "output_type": "stream",
       "stream": "stdout",
       "text": [
        " pst.sbj.3=>pst.2 pst.sbj.3=>pst.3 pst.sbj.3=>pst.4"
       ]
      },
      {
       "output_type": "stream",
       "stream": "stdout",
       "text": [
        " pst.sbj.3=>pst.5 pst.sbj.3=>pst.6 pst.sbj.3=>pst.sbj.1"
       ]
      },
      {
       "output_type": "stream",
       "stream": "stdout",
       "text": [
        " pst.sbj.3=>pst.sbj.2 pst.sbj.3=>pst.sbj.4 pst.sbj.3=>pst.sbj.5"
       ]
      },
      {
       "output_type": "stream",
       "stream": "stdout",
       "text": [
        " pst.sbj.3=>pst.sbj.6 pst.sbj.3=>inf pst.sbj.3=>prs.pcp"
       ]
      },
      {
       "output_type": "stream",
       "stream": "stdout",
       "text": [
        " pst.sbj.3=>pst.pcp"
       ]
      },
      {
       "output_type": "stream",
       "stream": "stdout",
       "text": [
        " pst.sbj.4=>ipf.1"
       ]
      },
      {
       "output_type": "stream",
       "stream": "stdout",
       "text": [
        " pst.sbj.4=>ipf.2"
       ]
      },
      {
       "output_type": "stream",
       "stream": "stdout",
       "text": [
        " pst.sbj.4=>ipf.3"
       ]
      },
      {
       "output_type": "stream",
       "stream": "stdout",
       "text": [
        " pst.sbj.4=>ipf.4"
       ]
      },
      {
       "output_type": "stream",
       "stream": "stdout",
       "text": [
        " pst.sbj.4=>ipf.5"
       ]
      },
      {
       "output_type": "stream",
       "stream": "stdout",
       "text": [
        " pst.sbj.4=>ipf.6"
       ]
      },
      {
       "output_type": "stream",
       "stream": "stdout",
       "text": [
        " pst.sbj.4=>prs.1"
       ]
      },
      {
       "output_type": "stream",
       "stream": "stdout",
       "text": [
        " pst.sbj.4=>prs.2"
       ]
      },
      {
       "output_type": "stream",
       "stream": "stdout",
       "text": [
        " pst.sbj.4=>prs.3"
       ]
      },
      {
       "output_type": "stream",
       "stream": "stdout",
       "text": [
        " pst.sbj.4=>prs.4"
       ]
      },
      {
       "output_type": "stream",
       "stream": "stdout",
       "text": [
        " pst.sbj.4=>prs.5"
       ]
      },
      {
       "output_type": "stream",
       "stream": "stdout",
       "text": [
        " pst.sbj.4=>prs.6"
       ]
      },
      {
       "output_type": "stream",
       "stream": "stdout",
       "text": [
        " pst.sbj.4=>imp.2"
       ]
      },
      {
       "output_type": "stream",
       "stream": "stdout",
       "text": [
        " pst.sbj.4=>imp.4"
       ]
      },
      {
       "output_type": "stream",
       "stream": "stdout",
       "text": [
        " pst.sbj.4=>imp.5"
       ]
      },
      {
       "output_type": "stream",
       "stream": "stdout",
       "text": [
        " pst.sbj.4=>sbjv.1"
       ]
      },
      {
       "output_type": "stream",
       "stream": "stdout",
       "text": [
        " pst.sbj.4=>sbjv.2"
       ]
      },
      {
       "output_type": "stream",
       "stream": "stdout",
       "text": [
        " pst.sbj.4=>sbjv.3"
       ]
      },
      {
       "output_type": "stream",
       "stream": "stdout",
       "text": [
        " pst.sbj.4=>sbjv.4"
       ]
      },
      {
       "output_type": "stream",
       "stream": "stdout",
       "text": [
        " pst.sbj.4=>sbjv.5"
       ]
      },
      {
       "output_type": "stream",
       "stream": "stdout",
       "text": [
        " pst.sbj.4=>sbjv.6"
       ]
      },
      {
       "output_type": "stream",
       "stream": "stdout",
       "text": [
        " pst.sbj.4=>fut.1"
       ]
      },
      {
       "output_type": "stream",
       "stream": "stdout",
       "text": [
        " pst.sbj.4=>fut.2"
       ]
      },
      {
       "output_type": "stream",
       "stream": "stdout",
       "text": [
        " pst.sbj.4=>fut.3"
       ]
      },
      {
       "output_type": "stream",
       "stream": "stdout",
       "text": [
        " pst.sbj.4=>fut.4"
       ]
      },
      {
       "output_type": "stream",
       "stream": "stdout",
       "text": [
        " pst.sbj.4=>fut.5"
       ]
      },
      {
       "output_type": "stream",
       "stream": "stdout",
       "text": [
        " pst.sbj.4=>fut.6"
       ]
      },
      {
       "output_type": "stream",
       "stream": "stdout",
       "text": [
        " pst.sbj.4=>cond.1"
       ]
      },
      {
       "output_type": "stream",
       "stream": "stdout",
       "text": [
        " pst.sbj.4=>cond.2"
       ]
      },
      {
       "output_type": "stream",
       "stream": "stdout",
       "text": [
        " pst.sbj.4=>cond.3"
       ]
      },
      {
       "output_type": "stream",
       "stream": "stdout",
       "text": [
        " pst.sbj.4=>cond.4"
       ]
      },
      {
       "output_type": "stream",
       "stream": "stdout",
       "text": [
        " pst.sbj.4=>cond.5"
       ]
      },
      {
       "output_type": "stream",
       "stream": "stdout",
       "text": [
        " pst.sbj.4=>cond.6"
       ]
      },
      {
       "output_type": "stream",
       "stream": "stdout",
       "text": [
        " pst.sbj.4=>pst.1"
       ]
      },
      {
       "output_type": "stream",
       "stream": "stdout",
       "text": [
        " pst.sbj.4=>pst.2"
       ]
      },
      {
       "output_type": "stream",
       "stream": "stdout",
       "text": [
        " pst.sbj.4=>pst.3 pst.sbj.4=>pst.4"
       ]
      },
      {
       "output_type": "stream",
       "stream": "stdout",
       "text": [
        " pst.sbj.4=>pst.5 pst.sbj.4=>pst.6"
       ]
      },
      {
       "output_type": "stream",
       "stream": "stdout",
       "text": [
        " pst.sbj.4=>pst.sbj.1"
       ]
      },
      {
       "output_type": "stream",
       "stream": "stdout",
       "text": [
        " pst.sbj.4=>pst.sbj.2 pst.sbj.4=>pst.sbj.3"
       ]
      },
      {
       "output_type": "stream",
       "stream": "stdout",
       "text": [
        " pst.sbj.4=>pst.sbj.5 pst.sbj.4=>pst.sbj.6"
       ]
      },
      {
       "output_type": "stream",
       "stream": "stdout",
       "text": [
        " pst.sbj.4=>inf pst.sbj.4=>prs.pcp"
       ]
      },
      {
       "output_type": "stream",
       "stream": "stdout",
       "text": [
        " pst.sbj.4=>pst.pcp"
       ]
      },
      {
       "output_type": "stream",
       "stream": "stdout",
       "text": [
        " pst.sbj.5=>ipf.1"
       ]
      },
      {
       "output_type": "stream",
       "stream": "stdout",
       "text": [
        " pst.sbj.5=>ipf.2"
       ]
      },
      {
       "output_type": "stream",
       "stream": "stdout",
       "text": [
        " pst.sbj.5=>ipf.3"
       ]
      },
      {
       "output_type": "stream",
       "stream": "stdout",
       "text": [
        " pst.sbj.5=>ipf.4"
       ]
      },
      {
       "output_type": "stream",
       "stream": "stdout",
       "text": [
        " pst.sbj.5=>ipf.5"
       ]
      },
      {
       "output_type": "stream",
       "stream": "stdout",
       "text": [
        " pst.sbj.5=>ipf.6"
       ]
      },
      {
       "output_type": "stream",
       "stream": "stdout",
       "text": [
        " pst.sbj.5=>prs.1"
       ]
      },
      {
       "output_type": "stream",
       "stream": "stdout",
       "text": [
        " pst.sbj.5=>prs.2"
       ]
      },
      {
       "output_type": "stream",
       "stream": "stdout",
       "text": [
        " pst.sbj.5=>prs.3"
       ]
      },
      {
       "output_type": "stream",
       "stream": "stdout",
       "text": [
        " pst.sbj.5=>prs.4"
       ]
      },
      {
       "output_type": "stream",
       "stream": "stdout",
       "text": [
        " pst.sbj.5=>prs.5"
       ]
      },
      {
       "output_type": "stream",
       "stream": "stdout",
       "text": [
        " pst.sbj.5=>prs.6"
       ]
      },
      {
       "output_type": "stream",
       "stream": "stdout",
       "text": [
        " pst.sbj.5=>imp.2"
       ]
      },
      {
       "output_type": "stream",
       "stream": "stdout",
       "text": [
        " pst.sbj.5=>imp.4"
       ]
      },
      {
       "output_type": "stream",
       "stream": "stdout",
       "text": [
        " pst.sbj.5=>imp.5"
       ]
      },
      {
       "output_type": "stream",
       "stream": "stdout",
       "text": [
        " pst.sbj.5=>sbjv.1"
       ]
      },
      {
       "output_type": "stream",
       "stream": "stdout",
       "text": [
        " pst.sbj.5=>sbjv.2"
       ]
      },
      {
       "output_type": "stream",
       "stream": "stdout",
       "text": [
        " pst.sbj.5=>sbjv.3"
       ]
      },
      {
       "output_type": "stream",
       "stream": "stdout",
       "text": [
        " pst.sbj.5=>sbjv.4"
       ]
      },
      {
       "output_type": "stream",
       "stream": "stdout",
       "text": [
        " pst.sbj.5=>sbjv.5"
       ]
      },
      {
       "output_type": "stream",
       "stream": "stdout",
       "text": [
        " pst.sbj.5=>sbjv.6"
       ]
      },
      {
       "output_type": "stream",
       "stream": "stdout",
       "text": [
        " pst.sbj.5=>fut.1"
       ]
      },
      {
       "output_type": "stream",
       "stream": "stdout",
       "text": [
        " pst.sbj.5=>fut.2"
       ]
      },
      {
       "output_type": "stream",
       "stream": "stdout",
       "text": [
        " pst.sbj.5=>fut.3"
       ]
      },
      {
       "output_type": "stream",
       "stream": "stdout",
       "text": [
        " pst.sbj.5=>fut.4"
       ]
      },
      {
       "output_type": "stream",
       "stream": "stdout",
       "text": [
        " pst.sbj.5=>fut.5"
       ]
      },
      {
       "output_type": "stream",
       "stream": "stdout",
       "text": [
        " pst.sbj.5=>fut.6"
       ]
      },
      {
       "output_type": "stream",
       "stream": "stdout",
       "text": [
        " pst.sbj.5=>cond.1"
       ]
      },
      {
       "output_type": "stream",
       "stream": "stdout",
       "text": [
        " pst.sbj.5=>cond.2"
       ]
      },
      {
       "output_type": "stream",
       "stream": "stdout",
       "text": [
        " pst.sbj.5=>cond.3"
       ]
      },
      {
       "output_type": "stream",
       "stream": "stdout",
       "text": [
        " pst.sbj.5=>cond.4"
       ]
      },
      {
       "output_type": "stream",
       "stream": "stdout",
       "text": [
        " pst.sbj.5=>cond.5"
       ]
      },
      {
       "output_type": "stream",
       "stream": "stdout",
       "text": [
        " pst.sbj.5=>cond.6"
       ]
      },
      {
       "output_type": "stream",
       "stream": "stdout",
       "text": [
        " pst.sbj.5=>pst.1"
       ]
      },
      {
       "output_type": "stream",
       "stream": "stdout",
       "text": [
        " pst.sbj.5=>pst.2"
       ]
      },
      {
       "output_type": "stream",
       "stream": "stdout",
       "text": [
        " pst.sbj.5=>pst.3 pst.sbj.5=>pst.4"
       ]
      },
      {
       "output_type": "stream",
       "stream": "stdout",
       "text": [
        " pst.sbj.5=>pst.5 pst.sbj.5=>pst.6"
       ]
      },
      {
       "output_type": "stream",
       "stream": "stdout",
       "text": [
        " pst.sbj.5=>pst.sbj.1"
       ]
      },
      {
       "output_type": "stream",
       "stream": "stdout",
       "text": [
        " pst.sbj.5=>pst.sbj.2 pst.sbj.5=>pst.sbj.3"
       ]
      },
      {
       "output_type": "stream",
       "stream": "stdout",
       "text": [
        " pst.sbj.5=>pst.sbj.4 pst.sbj.5=>pst.sbj.6"
       ]
      },
      {
       "output_type": "stream",
       "stream": "stdout",
       "text": [
        " pst.sbj.5=>inf pst.sbj.5=>prs.pcp"
       ]
      },
      {
       "output_type": "stream",
       "stream": "stdout",
       "text": [
        " pst.sbj.5=>pst.pcp"
       ]
      },
      {
       "output_type": "stream",
       "stream": "stdout",
       "text": [
        " pst.sbj.6=>ipf.1"
       ]
      },
      {
       "output_type": "stream",
       "stream": "stdout",
       "text": [
        " pst.sbj.6=>ipf.2"
       ]
      },
      {
       "output_type": "stream",
       "stream": "stdout",
       "text": [
        " pst.sbj.6=>ipf.3"
       ]
      },
      {
       "output_type": "stream",
       "stream": "stdout",
       "text": [
        " pst.sbj.6=>ipf.4"
       ]
      },
      {
       "output_type": "stream",
       "stream": "stdout",
       "text": [
        " pst.sbj.6=>ipf.5"
       ]
      },
      {
       "output_type": "stream",
       "stream": "stdout",
       "text": [
        " pst.sbj.6=>ipf.6"
       ]
      },
      {
       "output_type": "stream",
       "stream": "stdout",
       "text": [
        " pst.sbj.6=>prs.1"
       ]
      },
      {
       "output_type": "stream",
       "stream": "stdout",
       "text": [
        " pst.sbj.6=>prs.2"
       ]
      },
      {
       "output_type": "stream",
       "stream": "stdout",
       "text": [
        " pst.sbj.6=>prs.3"
       ]
      },
      {
       "output_type": "stream",
       "stream": "stdout",
       "text": [
        " pst.sbj.6=>prs.4"
       ]
      },
      {
       "output_type": "stream",
       "stream": "stdout",
       "text": [
        " pst.sbj.6=>prs.5"
       ]
      },
      {
       "output_type": "stream",
       "stream": "stdout",
       "text": [
        " pst.sbj.6=>prs.6"
       ]
      },
      {
       "output_type": "stream",
       "stream": "stdout",
       "text": [
        " pst.sbj.6=>imp.2"
       ]
      },
      {
       "output_type": "stream",
       "stream": "stdout",
       "text": [
        " pst.sbj.6=>imp.4"
       ]
      },
      {
       "output_type": "stream",
       "stream": "stdout",
       "text": [
        " pst.sbj.6=>imp.5"
       ]
      },
      {
       "output_type": "stream",
       "stream": "stdout",
       "text": [
        " pst.sbj.6=>sbjv.1"
       ]
      },
      {
       "output_type": "stream",
       "stream": "stdout",
       "text": [
        " pst.sbj.6=>sbjv.2"
       ]
      },
      {
       "output_type": "stream",
       "stream": "stdout",
       "text": [
        " pst.sbj.6=>sbjv.3"
       ]
      },
      {
       "output_type": "stream",
       "stream": "stdout",
       "text": [
        " pst.sbj.6=>sbjv.4"
       ]
      },
      {
       "output_type": "stream",
       "stream": "stdout",
       "text": [
        " pst.sbj.6=>sbjv.5"
       ]
      },
      {
       "output_type": "stream",
       "stream": "stdout",
       "text": [
        " pst.sbj.6=>sbjv.6"
       ]
      },
      {
       "output_type": "stream",
       "stream": "stdout",
       "text": [
        " pst.sbj.6=>fut.1"
       ]
      },
      {
       "output_type": "stream",
       "stream": "stdout",
       "text": [
        " pst.sbj.6=>fut.2"
       ]
      },
      {
       "output_type": "stream",
       "stream": "stdout",
       "text": [
        " pst.sbj.6=>fut.3"
       ]
      },
      {
       "output_type": "stream",
       "stream": "stdout",
       "text": [
        " pst.sbj.6=>fut.4"
       ]
      },
      {
       "output_type": "stream",
       "stream": "stdout",
       "text": [
        " pst.sbj.6=>fut.5"
       ]
      },
      {
       "output_type": "stream",
       "stream": "stdout",
       "text": [
        " pst.sbj.6=>fut.6"
       ]
      },
      {
       "output_type": "stream",
       "stream": "stdout",
       "text": [
        " pst.sbj.6=>cond.1"
       ]
      },
      {
       "output_type": "stream",
       "stream": "stdout",
       "text": [
        " pst.sbj.6=>cond.2"
       ]
      },
      {
       "output_type": "stream",
       "stream": "stdout",
       "text": [
        " pst.sbj.6=>cond.3"
       ]
      },
      {
       "output_type": "stream",
       "stream": "stdout",
       "text": [
        " pst.sbj.6=>cond.4"
       ]
      },
      {
       "output_type": "stream",
       "stream": "stdout",
       "text": [
        " pst.sbj.6=>cond.5"
       ]
      },
      {
       "output_type": "stream",
       "stream": "stdout",
       "text": [
        " pst.sbj.6=>cond.6"
       ]
      },
      {
       "output_type": "stream",
       "stream": "stdout",
       "text": [
        " pst.sbj.6=>pst.1"
       ]
      },
      {
       "output_type": "stream",
       "stream": "stdout",
       "text": [
        " pst.sbj.6=>pst.2"
       ]
      },
      {
       "output_type": "stream",
       "stream": "stdout",
       "text": [
        " pst.sbj.6=>pst.3 pst.sbj.6=>pst.4"
       ]
      },
      {
       "output_type": "stream",
       "stream": "stdout",
       "text": [
        " pst.sbj.6=>pst.5"
       ]
      },
      {
       "output_type": "stream",
       "stream": "stdout",
       "text": [
        " pst.sbj.6=>pst.6 pst.sbj.6=>pst.sbj.1"
       ]
      },
      {
       "output_type": "stream",
       "stream": "stdout",
       "text": [
        " pst.sbj.6=>pst.sbj.2 pst.sbj.6=>pst.sbj.3"
       ]
      },
      {
       "output_type": "stream",
       "stream": "stdout",
       "text": [
        " pst.sbj.6=>pst.sbj.4 pst.sbj.6=>pst.sbj.5"
       ]
      },
      {
       "output_type": "stream",
       "stream": "stdout",
       "text": [
        " pst.sbj.6=>inf"
       ]
      },
      {
       "output_type": "stream",
       "stream": "stdout",
       "text": [
        " pst.sbj.6=>prs.pcp"
       ]
      },
      {
       "output_type": "stream",
       "stream": "stdout",
       "text": [
        " pst.sbj.6=>pst.pcp"
       ]
      },
      {
       "output_type": "stream",
       "stream": "stdout",
       "text": [
        " inf=>ipf.1"
       ]
      },
      {
       "output_type": "stream",
       "stream": "stdout",
       "text": [
        " inf=>ipf.2"
       ]
      },
      {
       "output_type": "stream",
       "stream": "stdout",
       "text": [
        " inf=>ipf.3"
       ]
      },
      {
       "output_type": "stream",
       "stream": "stdout",
       "text": [
        " inf=>ipf.4"
       ]
      },
      {
       "output_type": "stream",
       "stream": "stdout",
       "text": [
        " inf=>ipf.5"
       ]
      },
      {
       "output_type": "stream",
       "stream": "stdout",
       "text": [
        " inf=>ipf.6"
       ]
      },
      {
       "output_type": "stream",
       "stream": "stdout",
       "text": [
        " inf=>prs.1"
       ]
      },
      {
       "output_type": "stream",
       "stream": "stdout",
       "text": [
        " inf=>prs.2"
       ]
      },
      {
       "output_type": "stream",
       "stream": "stdout",
       "text": [
        " inf=>prs.3"
       ]
      },
      {
       "output_type": "stream",
       "stream": "stdout",
       "text": [
        " inf=>prs.4"
       ]
      },
      {
       "output_type": "stream",
       "stream": "stdout",
       "text": [
        " inf=>prs.5"
       ]
      },
      {
       "output_type": "stream",
       "stream": "stdout",
       "text": [
        " inf=>prs.6"
       ]
      },
      {
       "output_type": "stream",
       "stream": "stdout",
       "text": [
        " inf=>imp.2"
       ]
      },
      {
       "output_type": "stream",
       "stream": "stdout",
       "text": [
        " inf=>imp.4"
       ]
      },
      {
       "output_type": "stream",
       "stream": "stdout",
       "text": [
        " inf=>imp.5"
       ]
      },
      {
       "output_type": "stream",
       "stream": "stdout",
       "text": [
        " inf=>sbjv.1"
       ]
      },
      {
       "output_type": "stream",
       "stream": "stdout",
       "text": [
        " inf=>sbjv.2"
       ]
      },
      {
       "output_type": "stream",
       "stream": "stdout",
       "text": [
        " inf=>sbjv.3"
       ]
      },
      {
       "output_type": "stream",
       "stream": "stdout",
       "text": [
        " inf=>sbjv.4"
       ]
      },
      {
       "output_type": "stream",
       "stream": "stdout",
       "text": [
        " inf=>sbjv.5"
       ]
      },
      {
       "output_type": "stream",
       "stream": "stdout",
       "text": [
        " inf=>sbjv.6"
       ]
      },
      {
       "output_type": "stream",
       "stream": "stdout",
       "text": [
        " inf=>fut.1"
       ]
      },
      {
       "output_type": "stream",
       "stream": "stdout",
       "text": [
        " inf=>fut.2"
       ]
      },
      {
       "output_type": "stream",
       "stream": "stdout",
       "text": [
        " inf=>fut.3"
       ]
      },
      {
       "output_type": "stream",
       "stream": "stdout",
       "text": [
        " inf=>fut.4"
       ]
      },
      {
       "output_type": "stream",
       "stream": "stdout",
       "text": [
        " inf=>fut.5"
       ]
      },
      {
       "output_type": "stream",
       "stream": "stdout",
       "text": [
        " inf=>fut.6"
       ]
      },
      {
       "output_type": "stream",
       "stream": "stdout",
       "text": [
        " inf=>cond.1"
       ]
      },
      {
       "output_type": "stream",
       "stream": "stdout",
       "text": [
        " inf=>cond.2"
       ]
      },
      {
       "output_type": "stream",
       "stream": "stdout",
       "text": [
        " inf=>cond.3"
       ]
      },
      {
       "output_type": "stream",
       "stream": "stdout",
       "text": [
        " inf=>cond.4"
       ]
      },
      {
       "output_type": "stream",
       "stream": "stdout",
       "text": [
        " inf=>cond.5"
       ]
      },
      {
       "output_type": "stream",
       "stream": "stdout",
       "text": [
        " inf=>cond.6"
       ]
      },
      {
       "output_type": "stream",
       "stream": "stdout",
       "text": [
        " inf=>pst.1"
       ]
      },
      {
       "output_type": "stream",
       "stream": "stdout",
       "text": [
        " inf=>pst.2"
       ]
      },
      {
       "output_type": "stream",
       "stream": "stdout",
       "text": [
        " inf=>pst.3"
       ]
      },
      {
       "output_type": "stream",
       "stream": "stdout",
       "text": [
        " inf=>pst.4"
       ]
      },
      {
       "output_type": "stream",
       "stream": "stdout",
       "text": [
        " inf=>pst.5"
       ]
      },
      {
       "output_type": "stream",
       "stream": "stdout",
       "text": [
        " inf=>pst.6"
       ]
      },
      {
       "output_type": "stream",
       "stream": "stdout",
       "text": [
        " inf=>pst.sbj.1"
       ]
      },
      {
       "output_type": "stream",
       "stream": "stdout",
       "text": [
        " inf=>pst.sbj.2"
       ]
      },
      {
       "output_type": "stream",
       "stream": "stdout",
       "text": [
        " inf=>pst.sbj.3"
       ]
      },
      {
       "output_type": "stream",
       "stream": "stdout",
       "text": [
        " inf=>pst.sbj.4"
       ]
      },
      {
       "output_type": "stream",
       "stream": "stdout",
       "text": [
        " inf=>pst.sbj.5"
       ]
      },
      {
       "output_type": "stream",
       "stream": "stdout",
       "text": [
        " inf=>pst.sbj.6"
       ]
      },
      {
       "output_type": "stream",
       "stream": "stdout",
       "text": [
        " inf=>prs.pcp"
       ]
      },
      {
       "output_type": "stream",
       "stream": "stdout",
       "text": [
        " inf=>pst.pcp"
       ]
      },
      {
       "output_type": "stream",
       "stream": "stdout",
       "text": [
        " prs.pcp=>ipf.1"
       ]
      },
      {
       "output_type": "stream",
       "stream": "stdout",
       "text": [
        " prs.pcp=>ipf.2"
       ]
      },
      {
       "output_type": "stream",
       "stream": "stdout",
       "text": [
        " prs.pcp=>ipf.3"
       ]
      },
      {
       "output_type": "stream",
       "stream": "stdout",
       "text": [
        " prs.pcp=>ipf.4"
       ]
      },
      {
       "output_type": "stream",
       "stream": "stdout",
       "text": [
        " prs.pcp=>ipf.5"
       ]
      },
      {
       "output_type": "stream",
       "stream": "stdout",
       "text": [
        " prs.pcp=>ipf.6"
       ]
      },
      {
       "output_type": "stream",
       "stream": "stdout",
       "text": [
        " prs.pcp=>prs.1"
       ]
      },
      {
       "output_type": "stream",
       "stream": "stdout",
       "text": [
        " prs.pcp=>prs.2"
       ]
      },
      {
       "output_type": "stream",
       "stream": "stdout",
       "text": [
        " prs.pcp=>prs.3"
       ]
      },
      {
       "output_type": "stream",
       "stream": "stdout",
       "text": [
        " prs.pcp=>prs.4"
       ]
      },
      {
       "output_type": "stream",
       "stream": "stdout",
       "text": [
        " prs.pcp=>prs.5"
       ]
      },
      {
       "output_type": "stream",
       "stream": "stdout",
       "text": [
        " prs.pcp=>prs.6"
       ]
      },
      {
       "output_type": "stream",
       "stream": "stdout",
       "text": [
        " prs.pcp=>imp.2"
       ]
      },
      {
       "output_type": "stream",
       "stream": "stdout",
       "text": [
        " prs.pcp=>imp.4"
       ]
      },
      {
       "output_type": "stream",
       "stream": "stdout",
       "text": [
        " prs.pcp=>imp.5"
       ]
      },
      {
       "output_type": "stream",
       "stream": "stdout",
       "text": [
        " prs.pcp=>sbjv.1"
       ]
      },
      {
       "output_type": "stream",
       "stream": "stdout",
       "text": [
        " prs.pcp=>sbjv.2"
       ]
      },
      {
       "output_type": "stream",
       "stream": "stdout",
       "text": [
        " prs.pcp=>sbjv.3"
       ]
      },
      {
       "output_type": "stream",
       "stream": "stdout",
       "text": [
        " prs.pcp=>sbjv.4"
       ]
      },
      {
       "output_type": "stream",
       "stream": "stdout",
       "text": [
        " prs.pcp=>sbjv.5"
       ]
      },
      {
       "output_type": "stream",
       "stream": "stdout",
       "text": [
        " prs.pcp=>sbjv.6"
       ]
      },
      {
       "output_type": "stream",
       "stream": "stdout",
       "text": [
        " prs.pcp=>fut.1"
       ]
      },
      {
       "output_type": "stream",
       "stream": "stdout",
       "text": [
        " prs.pcp=>fut.2"
       ]
      },
      {
       "output_type": "stream",
       "stream": "stdout",
       "text": [
        " prs.pcp=>fut.3"
       ]
      },
      {
       "output_type": "stream",
       "stream": "stdout",
       "text": [
        " prs.pcp=>fut.4"
       ]
      },
      {
       "output_type": "stream",
       "stream": "stdout",
       "text": [
        " prs.pcp=>fut.5"
       ]
      },
      {
       "output_type": "stream",
       "stream": "stdout",
       "text": [
        " prs.pcp=>fut.6"
       ]
      },
      {
       "output_type": "stream",
       "stream": "stdout",
       "text": [
        " prs.pcp=>cond.1"
       ]
      },
      {
       "output_type": "stream",
       "stream": "stdout",
       "text": [
        " prs.pcp=>cond.2"
       ]
      },
      {
       "output_type": "stream",
       "stream": "stdout",
       "text": [
        " prs.pcp=>cond.3"
       ]
      },
      {
       "output_type": "stream",
       "stream": "stdout",
       "text": [
        " prs.pcp=>cond.4"
       ]
      },
      {
       "output_type": "stream",
       "stream": "stdout",
       "text": [
        " prs.pcp=>cond.5"
       ]
      },
      {
       "output_type": "stream",
       "stream": "stdout",
       "text": [
        " prs.pcp=>cond.6"
       ]
      },
      {
       "output_type": "stream",
       "stream": "stdout",
       "text": [
        " prs.pcp=>pst.1"
       ]
      },
      {
       "output_type": "stream",
       "stream": "stdout",
       "text": [
        " prs.pcp=>pst.2"
       ]
      },
      {
       "output_type": "stream",
       "stream": "stdout",
       "text": [
        " prs.pcp=>pst.3"
       ]
      },
      {
       "output_type": "stream",
       "stream": "stdout",
       "text": [
        " prs.pcp=>pst.4"
       ]
      },
      {
       "output_type": "stream",
       "stream": "stdout",
       "text": [
        " prs.pcp=>pst.5"
       ]
      },
      {
       "output_type": "stream",
       "stream": "stdout",
       "text": [
        " prs.pcp=>pst.6"
       ]
      },
      {
       "output_type": "stream",
       "stream": "stdout",
       "text": [
        " prs.pcp=>pst.sbj.1"
       ]
      },
      {
       "output_type": "stream",
       "stream": "stdout",
       "text": [
        " prs.pcp=>pst.sbj.2"
       ]
      },
      {
       "output_type": "stream",
       "stream": "stdout",
       "text": [
        " prs.pcp=>pst.sbj.3"
       ]
      },
      {
       "output_type": "stream",
       "stream": "stdout",
       "text": [
        " prs.pcp=>pst.sbj.4"
       ]
      },
      {
       "output_type": "stream",
       "stream": "stdout",
       "text": [
        " prs.pcp=>pst.sbj.5"
       ]
      },
      {
       "output_type": "stream",
       "stream": "stdout",
       "text": [
        " prs.pcp=>pst.sbj.6"
       ]
      },
      {
       "output_type": "stream",
       "stream": "stdout",
       "text": [
        " prs.pcp=>inf"
       ]
      },
      {
       "output_type": "stream",
       "stream": "stdout",
       "text": [
        " prs.pcp=>pst.pcp"
       ]
      },
      {
       "output_type": "stream",
       "stream": "stdout",
       "text": [
        " pst.pcp=>ipf.1"
       ]
      },
      {
       "output_type": "stream",
       "stream": "stdout",
       "text": [
        " pst.pcp=>ipf.2"
       ]
      },
      {
       "output_type": "stream",
       "stream": "stdout",
       "text": [
        " pst.pcp=>ipf.3"
       ]
      },
      {
       "output_type": "stream",
       "stream": "stdout",
       "text": [
        " pst.pcp=>ipf.4"
       ]
      },
      {
       "output_type": "stream",
       "stream": "stdout",
       "text": [
        " pst.pcp=>ipf.5"
       ]
      },
      {
       "output_type": "stream",
       "stream": "stdout",
       "text": [
        " pst.pcp=>ipf.6"
       ]
      },
      {
       "output_type": "stream",
       "stream": "stdout",
       "text": [
        " pst.pcp=>prs.1"
       ]
      },
      {
       "output_type": "stream",
       "stream": "stdout",
       "text": [
        " pst.pcp=>prs.2"
       ]
      },
      {
       "output_type": "stream",
       "stream": "stdout",
       "text": [
        " pst.pcp=>prs.3"
       ]
      },
      {
       "output_type": "stream",
       "stream": "stdout",
       "text": [
        " pst.pcp=>prs.4"
       ]
      },
      {
       "output_type": "stream",
       "stream": "stdout",
       "text": [
        " pst.pcp=>prs.5"
       ]
      },
      {
       "output_type": "stream",
       "stream": "stdout",
       "text": [
        " pst.pcp=>prs.6"
       ]
      },
      {
       "output_type": "stream",
       "stream": "stdout",
       "text": [
        " pst.pcp=>imp.2"
       ]
      },
      {
       "output_type": "stream",
       "stream": "stdout",
       "text": [
        " pst.pcp=>imp.4"
       ]
      },
      {
       "output_type": "stream",
       "stream": "stdout",
       "text": [
        " pst.pcp=>imp.5"
       ]
      },
      {
       "output_type": "stream",
       "stream": "stdout",
       "text": [
        " pst.pcp=>sbjv.1"
       ]
      },
      {
       "output_type": "stream",
       "stream": "stdout",
       "text": [
        " pst.pcp=>sbjv.2"
       ]
      },
      {
       "output_type": "stream",
       "stream": "stdout",
       "text": [
        " pst.pcp=>sbjv.3"
       ]
      },
      {
       "output_type": "stream",
       "stream": "stdout",
       "text": [
        " pst.pcp=>sbjv.4"
       ]
      },
      {
       "output_type": "stream",
       "stream": "stdout",
       "text": [
        " pst.pcp=>sbjv.5"
       ]
      },
      {
       "output_type": "stream",
       "stream": "stdout",
       "text": [
        " pst.pcp=>sbjv.6"
       ]
      },
      {
       "output_type": "stream",
       "stream": "stdout",
       "text": [
        " pst.pcp=>fut.1"
       ]
      },
      {
       "output_type": "stream",
       "stream": "stdout",
       "text": [
        " pst.pcp=>fut.2"
       ]
      },
      {
       "output_type": "stream",
       "stream": "stdout",
       "text": [
        " pst.pcp=>fut.3"
       ]
      },
      {
       "output_type": "stream",
       "stream": "stdout",
       "text": [
        " pst.pcp=>fut.4"
       ]
      },
      {
       "output_type": "stream",
       "stream": "stdout",
       "text": [
        " pst.pcp=>fut.5"
       ]
      },
      {
       "output_type": "stream",
       "stream": "stdout",
       "text": [
        " pst.pcp=>fut.6"
       ]
      },
      {
       "output_type": "stream",
       "stream": "stdout",
       "text": [
        " pst.pcp=>cond.1"
       ]
      },
      {
       "output_type": "stream",
       "stream": "stdout",
       "text": [
        " pst.pcp=>cond.2"
       ]
      },
      {
       "output_type": "stream",
       "stream": "stdout",
       "text": [
        " pst.pcp=>cond.3"
       ]
      },
      {
       "output_type": "stream",
       "stream": "stdout",
       "text": [
        " pst.pcp=>cond.4"
       ]
      },
      {
       "output_type": "stream",
       "stream": "stdout",
       "text": [
        " pst.pcp=>cond.5"
       ]
      },
      {
       "output_type": "stream",
       "stream": "stdout",
       "text": [
        " pst.pcp=>cond.6"
       ]
      },
      {
       "output_type": "stream",
       "stream": "stdout",
       "text": [
        " pst.pcp=>pst.1"
       ]
      },
      {
       "output_type": "stream",
       "stream": "stdout",
       "text": [
        " pst.pcp=>pst.2"
       ]
      },
      {
       "output_type": "stream",
       "stream": "stdout",
       "text": [
        " pst.pcp=>pst.3"
       ]
      },
      {
       "output_type": "stream",
       "stream": "stdout",
       "text": [
        " pst.pcp=>pst.4"
       ]
      },
      {
       "output_type": "stream",
       "stream": "stdout",
       "text": [
        " pst.pcp=>pst.5"
       ]
      },
      {
       "output_type": "stream",
       "stream": "stdout",
       "text": [
        " pst.pcp=>pst.6"
       ]
      },
      {
       "output_type": "stream",
       "stream": "stdout",
       "text": [
        " pst.pcp=>pst.sbj.1"
       ]
      },
      {
       "output_type": "stream",
       "stream": "stdout",
       "text": [
        " pst.pcp=>pst.sbj.2"
       ]
      },
      {
       "output_type": "stream",
       "stream": "stdout",
       "text": [
        " pst.pcp=>pst.sbj.3"
       ]
      },
      {
       "output_type": "stream",
       "stream": "stdout",
       "text": [
        " pst.pcp=>pst.sbj.4"
       ]
      },
      {
       "output_type": "stream",
       "stream": "stdout",
       "text": [
        " pst.pcp=>pst.sbj.5"
       ]
      },
      {
       "output_type": "stream",
       "stream": "stdout",
       "text": [
        " pst.pcp=>pst.sbj.6"
       ]
      },
      {
       "output_type": "stream",
       "stream": "stdout",
       "text": [
        " pst.pcp=>inf"
       ]
      },
      {
       "output_type": "stream",
       "stream": "stdout",
       "text": [
        " pst.pcp=>prs.pcp"
       ]
      },
      {
       "output_type": "stream",
       "stream": "stdout",
       "text": [
        " CPU times: user 12min 57s, sys: 5.07 s, total: 13min 2s"
       ]
      },
      {
       "output_type": "stream",
       "stream": "stdout",
       "text": [
        "\n",
        "Wall time: 13min 7s\n"
       ]
      }
     ],
     "prompt_number": 6
    },
    {
     "cell_type": "markdown",
     "metadata": {},
     "source": [
      "###Sauver les r\u00e8gles et les classes\n",
      "Pickle permet de sauver un objet dans un fichier\n",
      "\n",
      "- Regles.pkl pour les r\u00e8gles\n",
      "- Classes.pkl pour les classes"
     ]
    },
    {
     "cell_type": "code",
     "collapsed": false,
     "input": [
      "with open('Regles.pkl', 'wb') as output:\n",
      "   pickle.dump(analyse, output, pickle.HIGHEST_PROTOCOL)\n"
     ],
     "language": "python",
     "metadata": {},
     "outputs": [],
     "prompt_number": 7
    },
    {
     "cell_type": "code",
     "collapsed": false,
     "input": [
      "with open('Classes.pkl', 'wb') as output:\n",
      "    pickle.dump(classification, output, pickle.HIGHEST_PROTOCOL)\n"
     ],
     "language": "python",
     "metadata": {},
     "outputs": [],
     "prompt_number": 8
    },
    {
     "cell_type": "code",
     "collapsed": false,
     "input": [
      "analyse=Regles()\n",
      "classification=Classes()"
     ],
     "language": "python",
     "metadata": {},
     "outputs": [],
     "prompt_number": 9
    },
    {
     "cell_type": "code",
     "collapsed": false,
     "input": [
      "with open('Regles.pkl', 'rb') as input:\n",
      "    analyse = pickle.load(input)\n",
      "with open('Classes.pkl', 'rb') as input:\n",
      "    classification = pickle.load(input)\n"
     ],
     "language": "python",
     "metadata": {},
     "outputs": [],
     "prompt_number": 10
    },
    {
     "cell_type": "code",
     "collapsed": false,
     "input": [
      "analyse.regles[:10]"
     ],
     "language": "python",
     "metadata": {},
     "outputs": [
      {
       "metadata": {},
       "output_type": "pyout",
       "prompt_number": 11,
       "text": [
        "[[] --> [] / X[p,t,k,b,d,g,f,s,S,v,z,Z,m,n,J,j,l,r,w,H,i,y,E,6,u,o,\u00ea,\u00fb,\u00f4]E ___ #\t,\n",
        " E --> ij\u00f4 / X[p,t,k,b,d,g,f,s,S,v,z,Z][l,r] ___ #\t,\n",
        " E --> j\u00f4 / X[p,t,k,b,d,g,f,s,S,v,z,Z,m,n,J,j,l,r,w,H,i,y,E,6,u,o,\u00ea,\u00fb,\u00f4] ___ #\t,\n",
        " E --> \u00f4 / X[J,j] ___ #\t,\n",
        " E --> ijE / X[p,t,k,b,d,g,f,s,S,v,z,Z][l,r] ___ #\t,\n",
        " E --> jE / X[p,t,k,b,d,g,f,s,S,v,z,Z,m,n,J,j,l,r,w,H,i,y,E,6,u,o,\u00ea,\u00fb,\u00f4] ___ #\t,\n",
        " [] --> [] / X[J,j]E ___ #\t,\n",
        " E --> [] / X[p,t,k,b,d,g,f,s,S,v,z,Z,m,n,J,j,l,r,w,H,i,y,E,6,u,o,\u00ea,\u00fb,\u00f4] ___ #\t,\n",
        " 6zE --> Ez / Xp ___ #\t,\n",
        " 6nE --> En / X[p,t,b,d,f,s,v,z,m,n,l,r] ___ #\t]"
       ]
      }
     ],
     "prompt_number": 11
    },
    {
     "cell_type": "code",
     "collapsed": false,
     "input": [
      "classification.classes[Paire(\"prs.3\",\"ipf.3\")]"
     ],
     "language": "python",
     "metadata": {},
     "outputs": [
      {
       "metadata": {},
       "output_type": "pyout",
       "prompt_number": 12,
       "text": [
        "[1494-1497-1498-1502-1529-2269-2270 : [1502 (0), 1494 (0), 1497 (0), 1529 (1 rasseoir_2), 1498 (0), 2269 (0), 2270 (0)],\n",
        " 1494-1497-1500-1502-1525 : [1497 (0), 1500 (0), 1494 (0), 1502 (0), 1525 (1 valoir)],\n",
        " 1494-1497-1498-1502-2269 : [1497 (0.66 r\u00e9duire), 1498 (0.13 jaillir), 1494 (0), 1502 (0.17 ennuyer), 2269 (0.04 poursuivre)],\n",
        " 1494-1528 : [1528 (1 mouvoir), 1494 (0)],\n",
        " 1494-1498-2269-2270 : [1494 (0.05 d\u00e9lin\u00e9er), 1498 (0.23 conna\u00eetre), 2269 (0), 2270 (0.73 admettre)],\n",
        " 1500-1503-2270 : [1500 (0), 2270 (0), 1503 (1 reprendre)],\n",
        " 1498-1502-1522-2269-2270 : [1502 (0.69 jointoyer), 1522 (0.31 redevoir), 1498 (0), 2270 (0), 2269 (0)],\n",
        " 1498-1502-1516-2269-2270 : [1502 (0), 1498 (0), 1516 (1 boire), 2269 (0), 2270 (0)],\n",
        " 1494-1506-2270 : [1506 (1 \u00e9treindre), 1494 (0), 2270 (0)],\n",
        " 1494-1496 : [1496 (0.41 d\u00e9sengrener), 1494 (0.59 emp\u00eaner)],\n",
        " 1494-1506-1534-2270 : [1494 (0), 1506 (0), 2270 (0), 1534 (1 convaincre)],\n",
        " 1494-1497-1502 : [1497 (0.03 coudre), 1494 (0.94 \u00e9cobuer), 1502 (0.03 rebouillir)],\n",
        " 1494-1500-1509-2269-2270 : [1494 (0), 1500 (0), 2269 (0), 2270 (0), 1509 (1 sevrer)],\n",
        " 1498-1502-2269-2270-2271 : [1502 (0), 1498 (0), 2269 (0), 2270 (0), 2271 (1 aller)],\n",
        " 1494-1512 : [1512 (0.93 enlever), 1494 (0.07 r\u00eaver)],\n",
        " 1494-1497-1498-1502-1505-2269-2270 : [1505 (1 d\u00e9faire), 1502 (0), 1494 (0), 1497 (0), 1498 (0), 2269 (0), 2270 (0)],\n",
        " 1494-1500-1519-2269-2270 : [1494 (0), 1500 (0), 2269 (0), 2270 (0), 1519 (1 requ\u00e9rir)],\n",
        " 1494-1523 : [1523 (0.5 receper), 1494 (0.5 rec\u00e9per)],\n",
        " 1494-1495 : [1494 (0.2 apaiser), 1495 (0.8 soupeser)],\n",
        " 1494-1497-1502-1535 : [1497 (0), 1494 (0), 1502 (0), 1535 (1 r\u00e9soudre)],\n",
        " 1494-1500 : [1500 (1 pondre), 1494 (0)],\n",
        " 1494-1500-2269-2270 : [1494 (0.97 terrer), 1500 (0.02 remordre), 2269 (0.01 desservir), 2270 (0)],\n",
        " 1494-1504 : [1504 (0.56 racheter), 1494 (0.44 secr\u00e9ter)],\n",
        " 1494-1500-1517-2269-2270 : [1494 (0), 1500 (0), 2269 (0), 2270 (0), 1517 (1 mourir)],\n",
        " 1494-1497-1498-1502-2269-2270 : [1502 (0), 1494 (0.54 gr\u00e9er), 1497 (0.11 plaire), 1498 (0.26 compara\u00eetre), 2269 (0), 2270 (0.09 v\u00eatir)],\n",
        " 1494-1498-2269 : [1498 (1 rouir), 2269 (0), 1494 (0)],\n",
        " 1498-1502-1536-2269-2270 : [1536 (1 ou\u00efr), 1498 (0), 1502 (0), 2269 (0), 2270 (0)],\n",
        " 1498-1502-2269-2270 : [1502 (0.75 \u00e9ployer), 1498 (0.07 accro\u00eetre), 2269 (0), 2270 (0.18 combattre)],\n",
        " 1494-1500-1518-2269-2270 : [1494 (0.69 abhorrer), 1500 (0.11 retordre), 1518 (0.14 endormir), 2270 (0.06 sortir), 2269 (0)],\n",
        " 1494-2269 : [2269 (0), 1494 (1 toussailler)],\n",
        " 1494-1500-1527-2269-2270 : [1494 (0.5 lis\u00e9rer), 1500 (0), 2269 (0), 2270 (0), 1527 (0.5 liserer)],\n",
        " 1494-1526 : [1494 (0.2 essaimer), 1526 (0.8 ressemer)],\n",
        " 1494-1500-1520 : [1520 (1 corrompre), 1500 (0), 1494 (0)],\n",
        " 1494-2269-2270 : [1494 (0.99 \u00e9purer), 2269 (0), 2270 (0.01 partir)],\n",
        " 1494-1513 : [1513 (1 moudre), 1494 (0)],\n",
        " 1498-2269-2270 : [1498 (0), 2269 (1 avoir), 2270 (0)],\n",
        " 1494-1497-1498-1502-1530-2269-2270 : [1502 (0), 1494 (0), 1497 (0), 1498 (0), 1530 (1 savoir), 2270 (0), 2269 (0)],\n",
        " 1494-1515-2270 : [1515 (1 enjoindre), 1494 (0), 2270 (0)],\n",
        " 1494-1497-1498-1499-1502-2269 : [1494 (0), 1497 (0.03 suffire), 1498 (0.47 d\u00e9semplir), 1499 (0.44 scarifier), 2269 (0.03 proscrire), 1502 (0.04 rire)],\n",
        " 1494-1498-1521-2269-2270 : [1494 (0), 1521 (1 entre-ha\u00efr), 1498 (0), 2269 (0), 2270 (0)],\n",
        " 1494-1498-1499-2269 : [1498 (0.8 raffermir), 1499 (0.2 excommunier), 2269 (0), 1494 (0)],\n",
        " 1494-1498-1531-2269-2270 : [1494 (0), 1498 (0), 1531 (0.5 ha\u00efr), 2269 (0), 2270 (0.5 \u00eatre)],\n",
        " 1494-1501 : [1501 (0.75 ficeler), 1494 (0.25 v\u00ealer)],\n",
        " 1494-1497-1502-1510 : [1497 (0), 1494 (0), 1502 (0), 1510 (1 revouloir)],\n",
        " 1494-1524 : [1524 (1 clamecer), 1494 (0)],\n",
        " 1494 : [1494 (1 frusquer)],\n",
        " 2270 : [2270 (1 d\u00e9mentir)],\n",
        " 1494-1507-2270 : [1507 (1 entretenir), 1494 (0), 2270 (0)],\n",
        " 1500-2270 : [1500 (0.85 pendre), 2270 (0.15 ressentir)],\n",
        " 1494-1532 : [1532 (1 dompter), 1494 (0)]]"
       ]
      }
     ],
     "prompt_number": 12
    },
    {
     "cell_type": "code",
     "collapsed": false,
     "input": [],
     "language": "python",
     "metadata": {},
     "outputs": [],
     "prompt_number": 12
    }
   ],
   "metadata": {}
  }
 ]
}