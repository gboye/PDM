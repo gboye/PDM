{
 "metadata": {
  "name": "",
  "signature": "sha256:069a728361dfece9ad7a8769abf656ded89be6d96c1cce34a634fc5aa7eb3802"
 },
 "nbformat": 3,
 "nbformat_minor": 0,
 "worksheets": [
  {
   "cells": [
    {
     "cell_type": "code",
     "collapsed": false,
     "input": [
      "from PDM import *\n",
      "import re\n",
      "import pickle\n",
      "from __future__ import print_function"
     ],
     "language": "python",
     "metadata": {},
     "outputs": [],
     "prompt_number": 1
    },
    {
     "cell_type": "markdown",
     "metadata": {},
     "source": [
      "Le format PredSPE8 demande une adaptation pour les r\u00e8gles et pour la transformation des formes."
     ]
    },
    {
     "cell_type": "code",
     "collapsed": false,
     "input": [
      "filePrefix=\"/Users/gilles/Copy/Python/workspace/PDM/\"\n",
      "classFormat=\"^.*\u2014(.+)%(?:\\s\\(([^,]*),.*|)$\"\n",
      "#classFormat=\"^\\s*:\\s*(\\d+)\\s*(\\(([^,]*),.*\\)|)$\""
     ],
     "language": "python",
     "metadata": {},
     "outputs": [],
     "prompt_number": 2
    },
    {
     "cell_type": "markdown",
     "metadata": {},
     "source": [
      "##Interface avec la sortie de PredSPE\n",
      "\n",
      "###Lecture des r\u00e8gles\n",
      "- On ouvre le fichier de r\u00e8gles PredSPE\n",
      "- On initialise les drapeaux *zoneRegles*, *zoneClasses* et *zoneClasse*\n",
      " - *zoneRegles* est vrai quand la ligne courante est une r\u00e8gle\n",
      "  - True apr\u00e8s *debutRegles* (\"Inferring rules\")\n",
      "- Les r\u00e8gles sont transform\u00e9es en expression r\u00e9guli\u00e8res.\n",
      "- *analyse* contient la liste des r\u00e8gles\n",
      " - c'est un objet du type Regles\n",
      "- *classification* contient les num\u00e9ros des r\u00e8gles utilis\u00e9es pour chaque paire de cases\n",
      " - c'est un objet du type Classes"
     ]
    },
    {
     "cell_type": "code",
     "collapsed": false,
     "input": [
      "analyse=Regles()\n",
      "classification=Classes()\n",
      "\n",
      "debutRegles=\"Inferring rules\"\n",
      "debutBloc=\"*****\"\n",
      "finRegles=\"done.\" # aussi \u00e0 la fin de la phonologie\n",
      "finClasses=\"conditional entropy for\"\n",
      "debutClasse=\"class\"\n",
      "finClasse=\"local conditional entropy\"\n",
      "\n",
      "def lirePredSPE(nomFichier):\n",
      "    try:\n",
      "        fichierPredSPE=open(nomFichier,\"r\")\n",
      "    except IOError:\n",
      "        print ('I could not open the file', nomFichier)\n",
      "        sys.exit()\n",
      "        \n",
      "    zoneRegles=False\n",
      "    zoneClasses=False\n",
      "    zoneClasse=False\n",
      "    \n",
      "    inCase=\"\"\n",
      "    outCase=\"\"\n",
      "    \n",
      "    for line in fichierPredSPE:\n",
      "        line=line.strip()\n",
      "        try:\n",
      "            (inCase,outCase)=parserPaire(line)\n",
      "            print (Paire(inCase,outCase),end=\" \")\n",
      "        except:\n",
      "            pass\n",
      "        if debutBloc in line:\n",
      "            zoneRegles=False\n",
      "            zoneClasses=False\n",
      "        if finRegles in line:\n",
      "            zoneRegles=False\n",
      "        if finClasses in line:\n",
      "            zoneClasses=False        \n",
      "            paireCase=\"\"\n",
      "            classification.addPaireClasses(Paire(inCase,outCase),paireClasses)\n",
      "        if zoneRegles:\n",
      "            analyse.addRegle(Paire(inCase,outCase),line)\n",
      "            paireClasses=PaireClasses(Paire(inCase,outCase))\n",
      "        if zoneClasses:\n",
      "            if finClasse in line:\n",
      "                zoneClasse=False\n",
      "                formeClasse.nom=formeClasse.getRules()\n",
      "                paireClasses.addFormeClasse(formeClasse)\n",
      "            if zoneClasse:\n",
      "                (inPatron, mod, reste)=parserRegle(line)\n",
      "                n=re.search(classFormat,reste)\n",
      "                if n:\n",
      "                    if n.group(2):\n",
      "                        exemple=n.group(2)\n",
      "                    else:\n",
      "                        exemple=\"\"\n",
      "                    formeClasse.addRule(RegleDist(analyse.getNumRegle(inPatron,mod),float(n.group(1)),\"\",exemple,True))\n",
      "                else:\n",
      "                    warnings.warn(\"%s : NO DISTRIBUTION IN %s\"%(line,reste))\n",
      "            if debutClasse in line:\n",
      "                zoneClasse=True\n",
      "                formeClasse=FormeClasse()\n",
      "        if debutRegles in line:\n",
      "            zoneRegles=True\n",
      "        if finRegles in line:\n",
      "            zoneClasses=True"
     ],
     "language": "python",
     "metadata": {},
     "outputs": [],
     "prompt_number": 3
    },
    {
     "cell_type": "markdown",
     "metadata": {},
     "source": [
      "###Boucle principale\n",
      "On lit le fichier de r\u00e8gles PredSPE et on remplit les r\u00e8gles dans *analyse* et les classes dans *classification*"
     ]
    },
    {
     "cell_type": "code",
     "collapsed": false,
     "input": [
      "%time lirePredSPE(filePrefix+\"PDM-AllRules-140821.txt\")\n",
      "#lirePredSPE(\"./PDM-Rules.txt\")"
     ],
     "language": "python",
     "metadata": {},
     "outputs": [
      {
       "output_type": "stream",
       "stream": "stdout",
       "text": [
        "ipf.1=>ipf.2 ipf.1=>ipf.3 ipf.1=>ipf.4 ipf.1=>ipf.5 ipf.1=>ipf.6 ipf.1=>prs.1 ipf.1=>prs.2 ipf.1=>prs.3 ipf.1=>prs.4 ipf.1=>prs.5 ipf.1=>prs.6 ipf.1=>imp.2 ipf.1=>imp.4"
       ]
      },
      {
       "output_type": "stream",
       "stream": "stdout",
       "text": [
        " ipf.1=>imp.5 ipf.1=>sbjv.1 ipf.1=>sbjv.2 ipf.1=>sbjv.3 ipf.1=>sbjv.4 ipf.1=>sbjv.5 ipf.1=>sbjv.6 ipf.1=>fut.1 ipf.1=>fut.2 ipf.1=>fut.3"
       ]
      },
      {
       "output_type": "stream",
       "stream": "stdout",
       "text": [
        " ipf.1=>fut.4 ipf.1=>fut.5"
       ]
      },
      {
       "output_type": "stream",
       "stream": "stdout",
       "text": [
        " ipf.1=>fut.6 ipf.1=>cond.1 ipf.1=>cond.2"
       ]
      },
      {
       "output_type": "stream",
       "stream": "stdout",
       "text": [
        " ipf.1=>cond.3 ipf.1=>cond.4 ipf.1=>cond.5"
       ]
      },
      {
       "output_type": "stream",
       "stream": "stdout",
       "text": [
        " ipf.1=>cond.6 ipf.1=>pst.1"
       ]
      },
      {
       "output_type": "stream",
       "stream": "stdout",
       "text": [
        " ipf.1=>pst.2 ipf.1=>pst.3"
       ]
      },
      {
       "output_type": "stream",
       "stream": "stdout",
       "text": [
        " ipf.1=>pst.4 ipf.1=>pst.5 ipf.1=>pst.6"
       ]
      },
      {
       "output_type": "stream",
       "stream": "stdout",
       "text": [
        " ipf.1=>pst.sbj.1 ipf.1=>pst.sbj.2"
       ]
      },
      {
       "output_type": "stream",
       "stream": "stdout",
       "text": [
        " ipf.1=>pst.sbj.3 ipf.1=>pst.sbj.4 ipf.1=>pst.sbj.5"
       ]
      },
      {
       "output_type": "stream",
       "stream": "stdout",
       "text": [
        " ipf.1=>pst.sbj.6 ipf.1=>inf"
       ]
      },
      {
       "output_type": "stream",
       "stream": "stdout",
       "text": [
        " ipf.1=>prs.pcp ipf.1=>pst.pcp ipf.2=>ipf.1"
       ]
      },
      {
       "output_type": "stream",
       "stream": "stdout",
       "text": [
        " ipf.2=>ipf.3 ipf.2=>ipf.4 ipf.2=>ipf.5 ipf.2=>ipf.6 ipf.2=>prs.1 ipf.2=>prs.2 ipf.2=>prs.3 ipf.2=>prs.4 ipf.2=>prs.5 ipf.2=>prs.6 ipf.2=>imp.2 ipf.2=>imp.4 ipf.2=>imp.5 ipf.2=>sbjv.1 ipf.2=>sbjv.2 ipf.2=>sbjv.3 ipf.2=>sbjv.4 ipf.2=>sbjv.5"
       ]
      },
      {
       "output_type": "stream",
       "stream": "stdout",
       "text": [
        " ipf.2=>sbjv.6 ipf.2=>fut.1 ipf.2=>fut.2 ipf.2=>fut.3 ipf.2=>fut.4"
       ]
      },
      {
       "output_type": "stream",
       "stream": "stdout",
       "text": [
        " ipf.2=>fut.5 ipf.2=>fut.6 ipf.2=>cond.1"
       ]
      },
      {
       "output_type": "stream",
       "stream": "stdout",
       "text": [
        " ipf.2=>cond.2 ipf.2=>cond.3 ipf.2=>cond.4 ipf.2=>cond.5"
       ]
      },
      {
       "output_type": "stream",
       "stream": "stdout",
       "text": [
        " ipf.2=>cond.6 ipf.2=>pst.1 ipf.2=>pst.2"
       ]
      },
      {
       "output_type": "stream",
       "stream": "stdout",
       "text": [
        " ipf.2=>pst.3 ipf.2=>pst.4"
       ]
      },
      {
       "output_type": "stream",
       "stream": "stdout",
       "text": [
        " ipf.2=>pst.5 ipf.2=>pst.6 ipf.2=>pst.sbj.1"
       ]
      },
      {
       "output_type": "stream",
       "stream": "stdout",
       "text": [
        " ipf.2=>pst.sbj.2 ipf.2=>pst.sbj.3"
       ]
      },
      {
       "output_type": "stream",
       "stream": "stdout",
       "text": [
        " ipf.2=>pst.sbj.4 ipf.2=>pst.sbj.5"
       ]
      },
      {
       "output_type": "stream",
       "stream": "stdout",
       "text": [
        " ipf.2=>pst.sbj.6 ipf.2=>inf"
       ]
      },
      {
       "output_type": "stream",
       "stream": "stdout",
       "text": [
        " ipf.2=>prs.pcp ipf.2=>pst.pcp ipf.3=>ipf.1"
       ]
      },
      {
       "output_type": "stream",
       "stream": "stdout",
       "text": [
        " ipf.3=>ipf.2 ipf.3=>ipf.4 ipf.3=>ipf.5 ipf.3=>ipf.6 ipf.3=>prs.1 ipf.3=>prs.2 ipf.3=>prs.3 ipf.3=>prs.4 ipf.3=>prs.5 ipf.3=>prs.6 ipf.3=>imp.2 ipf.3=>imp.4 ipf.3=>imp.5 ipf.3=>sbjv.1 ipf.3=>sbjv.2 ipf.3=>sbjv.3 ipf.3=>sbjv.4 ipf.3=>sbjv.5 ipf.3=>sbjv.6 ipf.3=>fut.1"
       ]
      },
      {
       "output_type": "stream",
       "stream": "stdout",
       "text": [
        " ipf.3=>fut.2 ipf.3=>fut.3 ipf.3=>fut.4"
       ]
      },
      {
       "output_type": "stream",
       "stream": "stdout",
       "text": [
        " ipf.3=>fut.5 ipf.3=>fut.6"
       ]
      },
      {
       "output_type": "stream",
       "stream": "stdout",
       "text": [
        " ipf.3=>cond.1 ipf.3=>cond.2 ipf.3=>cond.3"
       ]
      },
      {
       "output_type": "stream",
       "stream": "stdout",
       "text": [
        " ipf.3=>cond.4 ipf.3=>cond.5 ipf.3=>cond.6"
       ]
      },
      {
       "output_type": "stream",
       "stream": "stdout",
       "text": [
        " ipf.3=>pst.1 ipf.3=>pst.2 ipf.3=>pst.3"
       ]
      },
      {
       "output_type": "stream",
       "stream": "stdout",
       "text": [
        " ipf.3=>pst.4 ipf.3=>pst.5"
       ]
      },
      {
       "output_type": "stream",
       "stream": "stdout",
       "text": [
        " ipf.3=>pst.6 ipf.3=>pst.sbj.1"
       ]
      },
      {
       "output_type": "stream",
       "stream": "stdout",
       "text": [
        " ipf.3=>pst.sbj.2 ipf.3=>pst.sbj.3"
       ]
      },
      {
       "output_type": "stream",
       "stream": "stdout",
       "text": [
        " ipf.3=>pst.sbj.4 ipf.3=>pst.sbj.5"
       ]
      },
      {
       "output_type": "stream",
       "stream": "stdout",
       "text": [
        " ipf.3=>pst.sbj.6 ipf.3=>inf"
       ]
      },
      {
       "output_type": "stream",
       "stream": "stdout",
       "text": [
        " ipf.3=>prs.pcp ipf.3=>pst.pcp ipf.4=>ipf.1"
       ]
      },
      {
       "output_type": "stream",
       "stream": "stdout",
       "text": [
        " ipf.4=>ipf.2 ipf.4=>ipf.3 ipf.4=>ipf.5 ipf.4=>ipf.6 ipf.4=>prs.1 ipf.4=>prs.2"
       ]
      },
      {
       "output_type": "stream",
       "stream": "stdout",
       "text": [
        " ipf.4=>prs.3"
       ]
      },
      {
       "output_type": "stream",
       "stream": "stdout",
       "text": [
        " ipf.4=>prs.4"
       ]
      },
      {
       "output_type": "stream",
       "stream": "stdout",
       "text": [
        " ipf.4=>prs.5 ipf.4=>prs.6 ipf.4=>imp.2"
       ]
      },
      {
       "output_type": "stream",
       "stream": "stdout",
       "text": [
        " ipf.4=>imp.4"
       ]
      },
      {
       "output_type": "stream",
       "stream": "stdout",
       "text": [
        " ipf.4=>imp.5 ipf.4=>sbjv.1 ipf.4=>sbjv.2"
       ]
      },
      {
       "output_type": "stream",
       "stream": "stdout",
       "text": [
        " ipf.4=>sbjv.3 ipf.4=>sbjv.4"
       ]
      },
      {
       "output_type": "stream",
       "stream": "stdout",
       "text": [
        " ipf.4=>sbjv.5 ipf.4=>sbjv.6 ipf.4=>fut.1"
       ]
      },
      {
       "output_type": "stream",
       "stream": "stdout",
       "text": [
        " ipf.4=>fut.2"
       ]
      },
      {
       "output_type": "stream",
       "stream": "stdout",
       "text": [
        " ipf.4=>fut.3"
       ]
      },
      {
       "output_type": "stream",
       "stream": "stdout",
       "text": [
        " ipf.4=>fut.4"
       ]
      },
      {
       "output_type": "stream",
       "stream": "stdout",
       "text": [
        " ipf.4=>fut.5"
       ]
      },
      {
       "output_type": "stream",
       "stream": "stdout",
       "text": [
        " ipf.4=>fut.6"
       ]
      },
      {
       "output_type": "stream",
       "stream": "stdout",
       "text": [
        " ipf.4=>cond.1"
       ]
      },
      {
       "output_type": "stream",
       "stream": "stdout",
       "text": [
        " ipf.4=>cond.2"
       ]
      },
      {
       "output_type": "stream",
       "stream": "stdout",
       "text": [
        " ipf.4=>cond.3"
       ]
      },
      {
       "output_type": "stream",
       "stream": "stdout",
       "text": [
        " ipf.4=>cond.4"
       ]
      },
      {
       "output_type": "stream",
       "stream": "stdout",
       "text": [
        " ipf.4=>cond.5"
       ]
      },
      {
       "output_type": "stream",
       "stream": "stdout",
       "text": [
        " ipf.4=>cond.6"
       ]
      },
      {
       "output_type": "stream",
       "stream": "stdout",
       "text": [
        " ipf.4=>pst.1"
       ]
      },
      {
       "output_type": "stream",
       "stream": "stdout",
       "text": [
        " ipf.4=>pst.2"
       ]
      },
      {
       "output_type": "stream",
       "stream": "stdout",
       "text": [
        " ipf.4=>pst.3"
       ]
      },
      {
       "output_type": "stream",
       "stream": "stdout",
       "text": [
        " ipf.4=>pst.4"
       ]
      },
      {
       "output_type": "stream",
       "stream": "stdout",
       "text": [
        " ipf.4=>pst.5"
       ]
      },
      {
       "output_type": "stream",
       "stream": "stdout",
       "text": [
        " ipf.4=>pst.6"
       ]
      },
      {
       "output_type": "stream",
       "stream": "stdout",
       "text": [
        " ipf.4=>pst.sbj.1"
       ]
      },
      {
       "output_type": "stream",
       "stream": "stdout",
       "text": [
        " ipf.4=>pst.sbj.2"
       ]
      },
      {
       "output_type": "stream",
       "stream": "stdout",
       "text": [
        " ipf.4=>pst.sbj.3"
       ]
      },
      {
       "output_type": "stream",
       "stream": "stdout",
       "text": [
        " ipf.4=>pst.sbj.4"
       ]
      },
      {
       "output_type": "stream",
       "stream": "stdout",
       "text": [
        " ipf.4=>pst.sbj.5"
       ]
      },
      {
       "output_type": "stream",
       "stream": "stdout",
       "text": [
        " ipf.4=>pst.sbj.6"
       ]
      },
      {
       "output_type": "stream",
       "stream": "stdout",
       "text": [
        " ipf.4=>inf"
       ]
      },
      {
       "output_type": "stream",
       "stream": "stdout",
       "text": [
        " ipf.4=>prs.pcp"
       ]
      },
      {
       "output_type": "stream",
       "stream": "stdout",
       "text": [
        " ipf.4=>pst.pcp ipf.5=>ipf.1"
       ]
      },
      {
       "output_type": "stream",
       "stream": "stdout",
       "text": [
        " ipf.5=>ipf.2 ipf.5=>ipf.3 ipf.5=>ipf.4 ipf.5=>ipf.6 ipf.5=>prs.1 ipf.5=>prs.2"
       ]
      },
      {
       "output_type": "stream",
       "stream": "stdout",
       "text": [
        " ipf.5=>prs.3"
       ]
      },
      {
       "output_type": "stream",
       "stream": "stdout",
       "text": [
        " ipf.5=>prs.4"
       ]
      },
      {
       "output_type": "stream",
       "stream": "stdout",
       "text": [
        " ipf.5=>prs.5 ipf.5=>prs.6 ipf.5=>imp.2"
       ]
      },
      {
       "output_type": "stream",
       "stream": "stdout",
       "text": [
        " ipf.5=>imp.4"
       ]
      },
      {
       "output_type": "stream",
       "stream": "stdout",
       "text": [
        " ipf.5=>imp.5 ipf.5=>sbjv.1 ipf.5=>sbjv.2"
       ]
      },
      {
       "output_type": "stream",
       "stream": "stdout",
       "text": [
        " ipf.5=>sbjv.3"
       ]
      },
      {
       "output_type": "stream",
       "stream": "stdout",
       "text": [
        " ipf.5=>sbjv.4"
       ]
      },
      {
       "output_type": "stream",
       "stream": "stdout",
       "text": [
        " ipf.5=>sbjv.5 ipf.5=>sbjv.6 ipf.5=>fut.1"
       ]
      },
      {
       "output_type": "stream",
       "stream": "stdout",
       "text": [
        " ipf.5=>fut.2"
       ]
      },
      {
       "output_type": "stream",
       "stream": "stdout",
       "text": [
        " ipf.5=>fut.3"
       ]
      },
      {
       "output_type": "stream",
       "stream": "stdout",
       "text": [
        " ipf.5=>fut.4"
       ]
      },
      {
       "output_type": "stream",
       "stream": "stdout",
       "text": [
        " ipf.5=>fut.5"
       ]
      },
      {
       "output_type": "stream",
       "stream": "stdout",
       "text": [
        " ipf.5=>fut.6"
       ]
      },
      {
       "output_type": "stream",
       "stream": "stdout",
       "text": [
        " ipf.5=>cond.1"
       ]
      },
      {
       "output_type": "stream",
       "stream": "stdout",
       "text": [
        " ipf.5=>cond.2"
       ]
      },
      {
       "output_type": "stream",
       "stream": "stdout",
       "text": [
        " ipf.5=>cond.3"
       ]
      },
      {
       "output_type": "stream",
       "stream": "stdout",
       "text": [
        " ipf.5=>cond.4"
       ]
      },
      {
       "output_type": "stream",
       "stream": "stdout",
       "text": [
        " ipf.5=>cond.5"
       ]
      },
      {
       "output_type": "stream",
       "stream": "stdout",
       "text": [
        " ipf.5=>cond.6"
       ]
      },
      {
       "output_type": "stream",
       "stream": "stdout",
       "text": [
        " ipf.5=>pst.1"
       ]
      },
      {
       "output_type": "stream",
       "stream": "stdout",
       "text": [
        " ipf.5=>pst.2"
       ]
      },
      {
       "output_type": "stream",
       "stream": "stdout",
       "text": [
        " ipf.5=>pst.3"
       ]
      },
      {
       "output_type": "stream",
       "stream": "stdout",
       "text": [
        " ipf.5=>pst.4"
       ]
      },
      {
       "output_type": "stream",
       "stream": "stdout",
       "text": [
        " ipf.5=>pst.5"
       ]
      },
      {
       "output_type": "stream",
       "stream": "stdout",
       "text": [
        " ipf.5=>pst.6"
       ]
      },
      {
       "output_type": "stream",
       "stream": "stdout",
       "text": [
        " ipf.5=>pst.sbj.1"
       ]
      },
      {
       "output_type": "stream",
       "stream": "stdout",
       "text": [
        " ipf.5=>pst.sbj.2"
       ]
      },
      {
       "output_type": "stream",
       "stream": "stdout",
       "text": [
        " ipf.5=>pst.sbj.3"
       ]
      },
      {
       "output_type": "stream",
       "stream": "stdout",
       "text": [
        " ipf.5=>pst.sbj.4"
       ]
      },
      {
       "output_type": "stream",
       "stream": "stdout",
       "text": [
        " ipf.5=>pst.sbj.5"
       ]
      },
      {
       "output_type": "stream",
       "stream": "stdout",
       "text": [
        " ipf.5=>pst.sbj.6"
       ]
      },
      {
       "output_type": "stream",
       "stream": "stdout",
       "text": [
        " ipf.5=>inf"
       ]
      },
      {
       "output_type": "stream",
       "stream": "stdout",
       "text": [
        " ipf.5=>prs.pcp"
       ]
      },
      {
       "output_type": "stream",
       "stream": "stdout",
       "text": [
        " ipf.5=>pst.pcp ipf.6=>ipf.1"
       ]
      },
      {
       "output_type": "stream",
       "stream": "stdout",
       "text": [
        " ipf.6=>ipf.2 ipf.6=>ipf.3 ipf.6=>ipf.4 ipf.6=>ipf.5 ipf.6=>prs.1 ipf.6=>prs.2 ipf.6=>prs.3 ipf.6=>prs.4 ipf.6=>prs.5 ipf.6=>prs.6 ipf.6=>imp.2 ipf.6=>imp.4 ipf.6=>imp.5 ipf.6=>sbjv.1 ipf.6=>sbjv.2 ipf.6=>sbjv.3 ipf.6=>sbjv.4 ipf.6=>sbjv.5"
       ]
      },
      {
       "output_type": "stream",
       "stream": "stdout",
       "text": [
        " ipf.6=>sbjv.6 ipf.6=>fut.1 ipf.6=>fut.2 ipf.6=>fut.3 ipf.6=>fut.4"
       ]
      },
      {
       "output_type": "stream",
       "stream": "stdout",
       "text": [
        " ipf.6=>fut.5 ipf.6=>fut.6 ipf.6=>cond.1"
       ]
      },
      {
       "output_type": "stream",
       "stream": "stdout",
       "text": [
        " ipf.6=>cond.2 ipf.6=>cond.3 ipf.6=>cond.4 ipf.6=>cond.5"
       ]
      },
      {
       "output_type": "stream",
       "stream": "stdout",
       "text": [
        " ipf.6=>cond.6 ipf.6=>pst.1"
       ]
      },
      {
       "output_type": "stream",
       "stream": "stdout",
       "text": [
        " ipf.6=>pst.2 ipf.6=>pst.3 ipf.6=>pst.4"
       ]
      },
      {
       "output_type": "stream",
       "stream": "stdout",
       "text": [
        " ipf.6=>pst.5 ipf.6=>pst.6"
       ]
      },
      {
       "output_type": "stream",
       "stream": "stdout",
       "text": [
        " ipf.6=>pst.sbj.1 ipf.6=>pst.sbj.2"
       ]
      },
      {
       "output_type": "stream",
       "stream": "stdout",
       "text": [
        " ipf.6=>pst.sbj.3 ipf.6=>pst.sbj.4 ipf.6=>pst.sbj.5"
       ]
      },
      {
       "output_type": "stream",
       "stream": "stdout",
       "text": [
        " ipf.6=>pst.sbj.6 ipf.6=>inf"
       ]
      },
      {
       "output_type": "stream",
       "stream": "stdout",
       "text": [
        " ipf.6=>prs.pcp ipf.6=>pst.pcp prs.1=>ipf.1"
       ]
      },
      {
       "output_type": "stream",
       "stream": "stdout",
       "text": [
        " prs.1=>ipf.2"
       ]
      },
      {
       "output_type": "stream",
       "stream": "stdout",
       "text": [
        " prs.1=>ipf.3"
       ]
      },
      {
       "output_type": "stream",
       "stream": "stdout",
       "text": [
        " prs.1=>ipf.4"
       ]
      },
      {
       "output_type": "stream",
       "stream": "stdout",
       "text": [
        " prs.1=>ipf.5"
       ]
      },
      {
       "output_type": "stream",
       "stream": "stdout",
       "text": [
        " prs.1=>ipf.6"
       ]
      },
      {
       "output_type": "stream",
       "stream": "stdout",
       "text": [
        " prs.1=>prs.2"
       ]
      },
      {
       "output_type": "stream",
       "stream": "stdout",
       "text": [
        " prs.1=>prs.3 prs.1=>prs.4 prs.1=>prs.5"
       ]
      },
      {
       "output_type": "stream",
       "stream": "stdout",
       "text": [
        " prs.1=>prs.6"
       ]
      },
      {
       "output_type": "stream",
       "stream": "stdout",
       "text": [
        " prs.1=>imp.2"
       ]
      },
      {
       "output_type": "stream",
       "stream": "stdout",
       "text": [
        " prs.1=>imp.4 prs.1=>imp.5"
       ]
      },
      {
       "output_type": "stream",
       "stream": "stdout",
       "text": [
        " prs.1=>sbjv.1"
       ]
      },
      {
       "output_type": "stream",
       "stream": "stdout",
       "text": [
        " prs.1=>sbjv.2"
       ]
      },
      {
       "output_type": "stream",
       "stream": "stdout",
       "text": [
        " prs.1=>sbjv.3"
       ]
      },
      {
       "output_type": "stream",
       "stream": "stdout",
       "text": [
        " prs.1=>sbjv.4"
       ]
      },
      {
       "output_type": "stream",
       "stream": "stdout",
       "text": [
        " prs.1=>sbjv.5"
       ]
      },
      {
       "output_type": "stream",
       "stream": "stdout",
       "text": [
        " prs.1=>sbjv.6"
       ]
      },
      {
       "output_type": "stream",
       "stream": "stdout",
       "text": [
        " prs.1=>fut.1"
       ]
      },
      {
       "output_type": "stream",
       "stream": "stdout",
       "text": [
        " prs.1=>fut.2"
       ]
      },
      {
       "output_type": "stream",
       "stream": "stdout",
       "text": [
        " prs.1=>fut.3"
       ]
      },
      {
       "output_type": "stream",
       "stream": "stdout",
       "text": [
        " prs.1=>fut.4"
       ]
      },
      {
       "output_type": "stream",
       "stream": "stdout",
       "text": [
        " prs.1=>fut.5"
       ]
      },
      {
       "output_type": "stream",
       "stream": "stdout",
       "text": [
        " prs.1=>fut.6"
       ]
      },
      {
       "output_type": "stream",
       "stream": "stdout",
       "text": [
        " prs.1=>cond.1"
       ]
      },
      {
       "output_type": "stream",
       "stream": "stdout",
       "text": [
        " prs.1=>cond.2"
       ]
      },
      {
       "output_type": "stream",
       "stream": "stdout",
       "text": [
        " prs.1=>cond.3"
       ]
      },
      {
       "output_type": "stream",
       "stream": "stdout",
       "text": [
        " prs.1=>cond.4"
       ]
      },
      {
       "output_type": "stream",
       "stream": "stdout",
       "text": [
        " prs.1=>cond.5"
       ]
      },
      {
       "output_type": "stream",
       "stream": "stdout",
       "text": [
        " prs.1=>cond.6"
       ]
      },
      {
       "output_type": "stream",
       "stream": "stdout",
       "text": [
        " prs.1=>pst.1"
       ]
      },
      {
       "output_type": "stream",
       "stream": "stdout",
       "text": [
        " prs.1=>pst.2"
       ]
      },
      {
       "output_type": "stream",
       "stream": "stdout",
       "text": [
        " prs.1=>pst.3"
       ]
      },
      {
       "output_type": "stream",
       "stream": "stdout",
       "text": [
        " prs.1=>pst.4"
       ]
      },
      {
       "output_type": "stream",
       "stream": "stdout",
       "text": [
        " prs.1=>pst.5"
       ]
      },
      {
       "output_type": "stream",
       "stream": "stdout",
       "text": [
        " prs.1=>pst.6"
       ]
      },
      {
       "output_type": "stream",
       "stream": "stdout",
       "text": [
        " prs.1=>pst.sbj.1"
       ]
      },
      {
       "output_type": "stream",
       "stream": "stdout",
       "text": [
        " prs.1=>pst.sbj.2"
       ]
      },
      {
       "output_type": "stream",
       "stream": "stdout",
       "text": [
        " prs.1=>pst.sbj.3"
       ]
      },
      {
       "output_type": "stream",
       "stream": "stdout",
       "text": [
        " prs.1=>pst.sbj.4"
       ]
      },
      {
       "output_type": "stream",
       "stream": "stdout",
       "text": [
        " prs.1=>pst.sbj.5"
       ]
      },
      {
       "output_type": "stream",
       "stream": "stdout",
       "text": [
        " prs.1=>pst.sbj.6"
       ]
      },
      {
       "output_type": "stream",
       "stream": "stdout",
       "text": [
        " prs.1=>inf"
       ]
      },
      {
       "output_type": "stream",
       "stream": "stdout",
       "text": [
        " prs.1=>prs.pcp"
       ]
      },
      {
       "output_type": "stream",
       "stream": "stdout",
       "text": [
        " prs.1=>pst.pcp"
       ]
      },
      {
       "output_type": "stream",
       "stream": "stdout",
       "text": [
        " prs.2=>ipf.1"
       ]
      },
      {
       "output_type": "stream",
       "stream": "stdout",
       "text": [
        " prs.2=>ipf.2"
       ]
      },
      {
       "output_type": "stream",
       "stream": "stdout",
       "text": [
        " prs.2=>ipf.3"
       ]
      },
      {
       "output_type": "stream",
       "stream": "stdout",
       "text": [
        " prs.2=>ipf.4"
       ]
      },
      {
       "output_type": "stream",
       "stream": "stdout",
       "text": [
        " prs.2=>ipf.5"
       ]
      },
      {
       "output_type": "stream",
       "stream": "stdout",
       "text": [
        " prs.2=>ipf.6"
       ]
      },
      {
       "output_type": "stream",
       "stream": "stdout",
       "text": [
        " prs.2=>prs.1"
       ]
      },
      {
       "output_type": "stream",
       "stream": "stdout",
       "text": [
        " prs.2=>prs.3 prs.2=>prs.4 prs.2=>prs.5"
       ]
      },
      {
       "output_type": "stream",
       "stream": "stdout",
       "text": [
        " prs.2=>prs.6"
       ]
      },
      {
       "output_type": "stream",
       "stream": "stdout",
       "text": [
        " prs.2=>imp.2"
       ]
      },
      {
       "output_type": "stream",
       "stream": "stdout",
       "text": [
        " prs.2=>imp.4 prs.2=>imp.5"
       ]
      },
      {
       "output_type": "stream",
       "stream": "stdout",
       "text": [
        " prs.2=>sbjv.1"
       ]
      },
      {
       "output_type": "stream",
       "stream": "stdout",
       "text": [
        " prs.2=>sbjv.2"
       ]
      },
      {
       "output_type": "stream",
       "stream": "stdout",
       "text": [
        " prs.2=>sbjv.3"
       ]
      },
      {
       "output_type": "stream",
       "stream": "stdout",
       "text": [
        " prs.2=>sbjv.4"
       ]
      },
      {
       "output_type": "stream",
       "stream": "stdout",
       "text": [
        " prs.2=>sbjv.5"
       ]
      },
      {
       "output_type": "stream",
       "stream": "stdout",
       "text": [
        " prs.2=>sbjv.6"
       ]
      },
      {
       "output_type": "stream",
       "stream": "stdout",
       "text": [
        " prs.2=>fut.1"
       ]
      },
      {
       "output_type": "stream",
       "stream": "stdout",
       "text": [
        " prs.2=>fut.2"
       ]
      },
      {
       "output_type": "stream",
       "stream": "stdout",
       "text": [
        " prs.2=>fut.3"
       ]
      },
      {
       "output_type": "stream",
       "stream": "stdout",
       "text": [
        " prs.2=>fut.4"
       ]
      },
      {
       "output_type": "stream",
       "stream": "stdout",
       "text": [
        " prs.2=>fut.5"
       ]
      },
      {
       "output_type": "stream",
       "stream": "stdout",
       "text": [
        " prs.2=>fut.6"
       ]
      },
      {
       "output_type": "stream",
       "stream": "stdout",
       "text": [
        " prs.2=>cond.1"
       ]
      },
      {
       "output_type": "stream",
       "stream": "stdout",
       "text": [
        " prs.2=>cond.2"
       ]
      },
      {
       "output_type": "stream",
       "stream": "stdout",
       "text": [
        " prs.2=>cond.3"
       ]
      },
      {
       "output_type": "stream",
       "stream": "stdout",
       "text": [
        " prs.2=>cond.4"
       ]
      },
      {
       "output_type": "stream",
       "stream": "stdout",
       "text": [
        " prs.2=>cond.5"
       ]
      },
      {
       "output_type": "stream",
       "stream": "stdout",
       "text": [
        " prs.2=>cond.6"
       ]
      },
      {
       "output_type": "stream",
       "stream": "stdout",
       "text": [
        " prs.2=>pst.1"
       ]
      },
      {
       "output_type": "stream",
       "stream": "stdout",
       "text": [
        " prs.2=>pst.2"
       ]
      },
      {
       "output_type": "stream",
       "stream": "stdout",
       "text": [
        " prs.2=>pst.3"
       ]
      },
      {
       "output_type": "stream",
       "stream": "stdout",
       "text": [
        " prs.2=>pst.4"
       ]
      },
      {
       "output_type": "stream",
       "stream": "stdout",
       "text": [
        " prs.2=>pst.5"
       ]
      },
      {
       "output_type": "stream",
       "stream": "stdout",
       "text": [
        " prs.2=>pst.6"
       ]
      },
      {
       "output_type": "stream",
       "stream": "stdout",
       "text": [
        " prs.2=>pst.sbj.1"
       ]
      },
      {
       "output_type": "stream",
       "stream": "stdout",
       "text": [
        " prs.2=>pst.sbj.2"
       ]
      },
      {
       "output_type": "stream",
       "stream": "stdout",
       "text": [
        " prs.2=>pst.sbj.3"
       ]
      },
      {
       "output_type": "stream",
       "stream": "stdout",
       "text": [
        " prs.2=>pst.sbj.4"
       ]
      },
      {
       "output_type": "stream",
       "stream": "stdout",
       "text": [
        " prs.2=>pst.sbj.5"
       ]
      },
      {
       "output_type": "stream",
       "stream": "stdout",
       "text": [
        " prs.2=>pst.sbj.6"
       ]
      },
      {
       "output_type": "stream",
       "stream": "stdout",
       "text": [
        " prs.2=>inf"
       ]
      },
      {
       "output_type": "stream",
       "stream": "stdout",
       "text": [
        " prs.2=>prs.pcp"
       ]
      },
      {
       "output_type": "stream",
       "stream": "stdout",
       "text": [
        " prs.2=>pst.pcp"
       ]
      },
      {
       "output_type": "stream",
       "stream": "stdout",
       "text": [
        " prs.3=>ipf.1"
       ]
      },
      {
       "output_type": "stream",
       "stream": "stdout",
       "text": [
        " prs.3=>ipf.2"
       ]
      },
      {
       "output_type": "stream",
       "stream": "stdout",
       "text": [
        " prs.3=>ipf.3"
       ]
      },
      {
       "output_type": "stream",
       "stream": "stdout",
       "text": [
        " prs.3=>ipf.4"
       ]
      },
      {
       "output_type": "stream",
       "stream": "stdout",
       "text": [
        " prs.3=>ipf.5"
       ]
      },
      {
       "output_type": "stream",
       "stream": "stdout",
       "text": [
        " prs.3=>ipf.6"
       ]
      },
      {
       "output_type": "stream",
       "stream": "stdout",
       "text": [
        " prs.3=>prs.1"
       ]
      },
      {
       "output_type": "stream",
       "stream": "stdout",
       "text": [
        " prs.3=>prs.2 prs.3=>prs.4 prs.3=>prs.5"
       ]
      },
      {
       "output_type": "stream",
       "stream": "stdout",
       "text": [
        " prs.3=>prs.6"
       ]
      },
      {
       "output_type": "stream",
       "stream": "stdout",
       "text": [
        " prs.3=>imp.2"
       ]
      },
      {
       "output_type": "stream",
       "stream": "stdout",
       "text": [
        " prs.3=>imp.4 prs.3=>imp.5"
       ]
      },
      {
       "output_type": "stream",
       "stream": "stdout",
       "text": [
        " prs.3=>sbjv.1"
       ]
      },
      {
       "output_type": "stream",
       "stream": "stdout",
       "text": [
        " prs.3=>sbjv.2"
       ]
      },
      {
       "output_type": "stream",
       "stream": "stdout",
       "text": [
        " prs.3=>sbjv.3"
       ]
      },
      {
       "output_type": "stream",
       "stream": "stdout",
       "text": [
        " prs.3=>sbjv.4"
       ]
      },
      {
       "output_type": "stream",
       "stream": "stdout",
       "text": [
        " prs.3=>sbjv.5"
       ]
      },
      {
       "output_type": "stream",
       "stream": "stdout",
       "text": [
        " prs.3=>sbjv.6"
       ]
      },
      {
       "output_type": "stream",
       "stream": "stdout",
       "text": [
        " prs.3=>fut.1"
       ]
      },
      {
       "output_type": "stream",
       "stream": "stdout",
       "text": [
        " prs.3=>fut.2"
       ]
      },
      {
       "output_type": "stream",
       "stream": "stdout",
       "text": [
        " prs.3=>fut.3"
       ]
      },
      {
       "output_type": "stream",
       "stream": "stdout",
       "text": [
        " prs.3=>fut.4"
       ]
      },
      {
       "output_type": "stream",
       "stream": "stdout",
       "text": [
        " prs.3=>fut.5"
       ]
      },
      {
       "output_type": "stream",
       "stream": "stdout",
       "text": [
        " prs.3=>fut.6"
       ]
      },
      {
       "output_type": "stream",
       "stream": "stdout",
       "text": [
        " prs.3=>cond.1"
       ]
      },
      {
       "output_type": "stream",
       "stream": "stdout",
       "text": [
        " prs.3=>cond.2"
       ]
      },
      {
       "output_type": "stream",
       "stream": "stdout",
       "text": [
        " prs.3=>cond.3"
       ]
      },
      {
       "output_type": "stream",
       "stream": "stdout",
       "text": [
        " prs.3=>cond.4"
       ]
      },
      {
       "output_type": "stream",
       "stream": "stdout",
       "text": [
        " prs.3=>cond.5"
       ]
      },
      {
       "output_type": "stream",
       "stream": "stdout",
       "text": [
        " prs.3=>cond.6"
       ]
      },
      {
       "output_type": "stream",
       "stream": "stdout",
       "text": [
        " prs.3=>pst.1"
       ]
      },
      {
       "output_type": "stream",
       "stream": "stdout",
       "text": [
        " prs.3=>pst.2"
       ]
      },
      {
       "output_type": "stream",
       "stream": "stdout",
       "text": [
        " prs.3=>pst.3"
       ]
      },
      {
       "output_type": "stream",
       "stream": "stdout",
       "text": [
        " prs.3=>pst.4"
       ]
      },
      {
       "output_type": "stream",
       "stream": "stdout",
       "text": [
        " prs.3=>pst.5"
       ]
      },
      {
       "output_type": "stream",
       "stream": "stdout",
       "text": [
        " prs.3=>pst.6"
       ]
      },
      {
       "output_type": "stream",
       "stream": "stdout",
       "text": [
        " prs.3=>pst.sbj.1"
       ]
      },
      {
       "output_type": "stream",
       "stream": "stdout",
       "text": [
        " prs.3=>pst.sbj.2"
       ]
      },
      {
       "output_type": "stream",
       "stream": "stdout",
       "text": [
        " prs.3=>pst.sbj.3"
       ]
      },
      {
       "output_type": "stream",
       "stream": "stdout",
       "text": [
        " prs.3=>pst.sbj.4"
       ]
      },
      {
       "output_type": "stream",
       "stream": "stdout",
       "text": [
        " prs.3=>pst.sbj.5"
       ]
      },
      {
       "output_type": "stream",
       "stream": "stdout",
       "text": [
        " prs.3=>pst.sbj.6"
       ]
      },
      {
       "output_type": "stream",
       "stream": "stdout",
       "text": [
        " prs.3=>inf"
       ]
      },
      {
       "output_type": "stream",
       "stream": "stdout",
       "text": [
        " prs.3=>prs.pcp"
       ]
      },
      {
       "output_type": "stream",
       "stream": "stdout",
       "text": [
        " prs.3=>pst.pcp"
       ]
      },
      {
       "output_type": "stream",
       "stream": "stdout",
       "text": [
        " prs.4=>ipf.1"
       ]
      },
      {
       "output_type": "stream",
       "stream": "stdout",
       "text": [
        " prs.4=>ipf.2 prs.4=>ipf.3 prs.4=>ipf.4 prs.4=>ipf.5 prs.4=>ipf.6 prs.4=>prs.1"
       ]
      },
      {
       "output_type": "stream",
       "stream": "stdout",
       "text": [
        " prs.4=>prs.2"
       ]
      },
      {
       "output_type": "stream",
       "stream": "stdout",
       "text": [
        " prs.4=>prs.3"
       ]
      },
      {
       "output_type": "stream",
       "stream": "stdout",
       "text": [
        " prs.4=>prs.5"
       ]
      },
      {
       "output_type": "stream",
       "stream": "stdout",
       "text": [
        " prs.4=>prs.6 prs.4=>imp.2"
       ]
      },
      {
       "output_type": "stream",
       "stream": "stdout",
       "text": [
        " prs.4=>imp.4"
       ]
      },
      {
       "output_type": "stream",
       "stream": "stdout",
       "text": [
        " prs.4=>imp.5 prs.4=>sbjv.1"
       ]
      },
      {
       "output_type": "stream",
       "stream": "stdout",
       "text": [
        " prs.4=>sbjv.2"
       ]
      },
      {
       "output_type": "stream",
       "stream": "stdout",
       "text": [
        " prs.4=>sbjv.3"
       ]
      },
      {
       "output_type": "stream",
       "stream": "stdout",
       "text": [
        " prs.4=>sbjv.4"
       ]
      },
      {
       "output_type": "stream",
       "stream": "stdout",
       "text": [
        " prs.4=>sbjv.5 prs.4=>sbjv.6"
       ]
      },
      {
       "output_type": "stream",
       "stream": "stdout",
       "text": [
        " prs.4=>fut.1"
       ]
      },
      {
       "output_type": "stream",
       "stream": "stdout",
       "text": [
        " prs.4=>fut.2"
       ]
      },
      {
       "output_type": "stream",
       "stream": "stdout",
       "text": [
        " prs.4=>fut.3"
       ]
      },
      {
       "output_type": "stream",
       "stream": "stdout",
       "text": [
        " prs.4=>fut.4"
       ]
      },
      {
       "output_type": "stream",
       "stream": "stdout",
       "text": [
        " prs.4=>fut.5"
       ]
      },
      {
       "output_type": "stream",
       "stream": "stdout",
       "text": [
        " prs.4=>fut.6"
       ]
      },
      {
       "output_type": "stream",
       "stream": "stdout",
       "text": [
        " prs.4=>cond.1"
       ]
      },
      {
       "output_type": "stream",
       "stream": "stdout",
       "text": [
        " prs.4=>cond.2"
       ]
      },
      {
       "output_type": "stream",
       "stream": "stdout",
       "text": [
        " prs.4=>cond.3"
       ]
      },
      {
       "output_type": "stream",
       "stream": "stdout",
       "text": [
        " prs.4=>cond.4"
       ]
      },
      {
       "output_type": "stream",
       "stream": "stdout",
       "text": [
        " prs.4=>cond.5"
       ]
      },
      {
       "output_type": "stream",
       "stream": "stdout",
       "text": [
        " prs.4=>cond.6"
       ]
      },
      {
       "output_type": "stream",
       "stream": "stdout",
       "text": [
        " prs.4=>pst.1"
       ]
      },
      {
       "output_type": "stream",
       "stream": "stdout",
       "text": [
        " prs.4=>pst.2"
       ]
      },
      {
       "output_type": "stream",
       "stream": "stdout",
       "text": [
        " prs.4=>pst.3"
       ]
      },
      {
       "output_type": "stream",
       "stream": "stdout",
       "text": [
        " prs.4=>pst.4"
       ]
      },
      {
       "output_type": "stream",
       "stream": "stdout",
       "text": [
        " prs.4=>pst.5"
       ]
      },
      {
       "output_type": "stream",
       "stream": "stdout",
       "text": [
        " prs.4=>pst.6"
       ]
      },
      {
       "output_type": "stream",
       "stream": "stdout",
       "text": [
        " prs.4=>pst.sbj.1"
       ]
      },
      {
       "output_type": "stream",
       "stream": "stdout",
       "text": [
        " prs.4=>pst.sbj.2"
       ]
      },
      {
       "output_type": "stream",
       "stream": "stdout",
       "text": [
        " prs.4=>pst.sbj.3"
       ]
      },
      {
       "output_type": "stream",
       "stream": "stdout",
       "text": [
        " prs.4=>pst.sbj.4"
       ]
      },
      {
       "output_type": "stream",
       "stream": "stdout",
       "text": [
        " prs.4=>pst.sbj.5"
       ]
      },
      {
       "output_type": "stream",
       "stream": "stdout",
       "text": [
        " prs.4=>pst.sbj.6"
       ]
      },
      {
       "output_type": "stream",
       "stream": "stdout",
       "text": [
        " prs.4=>inf"
       ]
      },
      {
       "output_type": "stream",
       "stream": "stdout",
       "text": [
        " prs.4=>prs.pcp"
       ]
      },
      {
       "output_type": "stream",
       "stream": "stdout",
       "text": [
        " prs.4=>pst.pcp prs.5=>ipf.1"
       ]
      },
      {
       "output_type": "stream",
       "stream": "stdout",
       "text": [
        " prs.5=>ipf.2 prs.5=>ipf.3 prs.5=>ipf.4 prs.5=>ipf.5"
       ]
      },
      {
       "output_type": "stream",
       "stream": "stdout",
       "text": [
        " prs.5=>ipf.6 prs.5=>prs.1 prs.5=>prs.2 prs.5=>prs.3"
       ]
      },
      {
       "output_type": "stream",
       "stream": "stdout",
       "text": [
        " prs.5=>prs.4 prs.5=>prs.6 prs.5=>imp.2 prs.5=>imp.4"
       ]
      },
      {
       "output_type": "stream",
       "stream": "stdout",
       "text": [
        " prs.5=>imp.5 prs.5=>sbjv.1 prs.5=>sbjv.2 prs.5=>sbjv.3"
       ]
      },
      {
       "output_type": "stream",
       "stream": "stdout",
       "text": [
        " prs.5=>sbjv.4 prs.5=>sbjv.5 prs.5=>sbjv.6 prs.5=>fut.1"
       ]
      },
      {
       "output_type": "stream",
       "stream": "stdout",
       "text": [
        " prs.5=>fut.2 prs.5=>fut.3"
       ]
      },
      {
       "output_type": "stream",
       "stream": "stdout",
       "text": [
        " prs.5=>fut.4 prs.5=>fut.5"
       ]
      },
      {
       "output_type": "stream",
       "stream": "stdout",
       "text": [
        " prs.5=>fut.6 prs.5=>cond.1"
       ]
      },
      {
       "output_type": "stream",
       "stream": "stdout",
       "text": [
        " prs.5=>cond.2 prs.5=>cond.3"
       ]
      },
      {
       "output_type": "stream",
       "stream": "stdout",
       "text": [
        " prs.5=>cond.4 prs.5=>cond.5"
       ]
      },
      {
       "output_type": "stream",
       "stream": "stdout",
       "text": [
        " prs.5=>cond.6"
       ]
      },
      {
       "output_type": "stream",
       "stream": "stdout",
       "text": [
        " prs.5=>pst.1"
       ]
      },
      {
       "output_type": "stream",
       "stream": "stdout",
       "text": [
        " prs.5=>pst.2 prs.5=>pst.3"
       ]
      },
      {
       "output_type": "stream",
       "stream": "stdout",
       "text": [
        " prs.5=>pst.4 prs.5=>pst.5"
       ]
      },
      {
       "output_type": "stream",
       "stream": "stdout",
       "text": [
        " prs.5=>pst.6"
       ]
      },
      {
       "output_type": "stream",
       "stream": "stdout",
       "text": [
        " prs.5=>pst.sbj.1 prs.5=>pst.sbj.2"
       ]
      },
      {
       "output_type": "stream",
       "stream": "stdout",
       "text": [
        " prs.5=>pst.sbj.3"
       ]
      },
      {
       "output_type": "stream",
       "stream": "stdout",
       "text": [
        " prs.5=>pst.sbj.4 prs.5=>pst.sbj.5"
       ]
      },
      {
       "output_type": "stream",
       "stream": "stdout",
       "text": [
        " prs.5=>pst.sbj.6 prs.5=>inf"
       ]
      },
      {
       "output_type": "stream",
       "stream": "stdout",
       "text": [
        " prs.5=>prs.pcp prs.5=>pst.pcp"
       ]
      },
      {
       "output_type": "stream",
       "stream": "stdout",
       "text": [
        " prs.6=>ipf.1"
       ]
      },
      {
       "output_type": "stream",
       "stream": "stdout",
       "text": [
        " prs.6=>ipf.2"
       ]
      },
      {
       "output_type": "stream",
       "stream": "stdout",
       "text": [
        " prs.6=>ipf.3"
       ]
      },
      {
       "output_type": "stream",
       "stream": "stdout",
       "text": [
        " prs.6=>ipf.4"
       ]
      },
      {
       "output_type": "stream",
       "stream": "stdout",
       "text": [
        " prs.6=>ipf.5"
       ]
      },
      {
       "output_type": "stream",
       "stream": "stdout",
       "text": [
        " prs.6=>ipf.6"
       ]
      },
      {
       "output_type": "stream",
       "stream": "stdout",
       "text": [
        " prs.6=>prs.1"
       ]
      },
      {
       "output_type": "stream",
       "stream": "stdout",
       "text": [
        " prs.6=>prs.2"
       ]
      },
      {
       "output_type": "stream",
       "stream": "stdout",
       "text": [
        " prs.6=>prs.3"
       ]
      },
      {
       "output_type": "stream",
       "stream": "stdout",
       "text": [
        " prs.6=>prs.4"
       ]
      },
      {
       "output_type": "stream",
       "stream": "stdout",
       "text": [
        " prs.6=>prs.5"
       ]
      },
      {
       "output_type": "stream",
       "stream": "stdout",
       "text": [
        " prs.6=>imp.2"
       ]
      },
      {
       "output_type": "stream",
       "stream": "stdout",
       "text": [
        " prs.6=>imp.4"
       ]
      },
      {
       "output_type": "stream",
       "stream": "stdout",
       "text": [
        " prs.6=>imp.5"
       ]
      },
      {
       "output_type": "stream",
       "stream": "stdout",
       "text": [
        " prs.6=>sbjv.1"
       ]
      },
      {
       "output_type": "stream",
       "stream": "stdout",
       "text": [
        " prs.6=>sbjv.2 prs.6=>sbjv.3"
       ]
      },
      {
       "output_type": "stream",
       "stream": "stdout",
       "text": [
        " prs.6=>sbjv.4"
       ]
      },
      {
       "output_type": "stream",
       "stream": "stdout",
       "text": [
        " prs.6=>sbjv.5"
       ]
      },
      {
       "output_type": "stream",
       "stream": "stdout",
       "text": [
        " prs.6=>sbjv.6"
       ]
      },
      {
       "output_type": "stream",
       "stream": "stdout",
       "text": [
        " prs.6=>fut.1 prs.6=>fut.2"
       ]
      },
      {
       "output_type": "stream",
       "stream": "stdout",
       "text": [
        " prs.6=>fut.3"
       ]
      },
      {
       "output_type": "stream",
       "stream": "stdout",
       "text": [
        " prs.6=>fut.4"
       ]
      },
      {
       "output_type": "stream",
       "stream": "stdout",
       "text": [
        " prs.6=>fut.5"
       ]
      },
      {
       "output_type": "stream",
       "stream": "stdout",
       "text": [
        " prs.6=>fut.6"
       ]
      },
      {
       "output_type": "stream",
       "stream": "stdout",
       "text": [
        " prs.6=>cond.1"
       ]
      },
      {
       "output_type": "stream",
       "stream": "stdout",
       "text": [
        " prs.6=>cond.2"
       ]
      },
      {
       "output_type": "stream",
       "stream": "stdout",
       "text": [
        " prs.6=>cond.3"
       ]
      },
      {
       "output_type": "stream",
       "stream": "stdout",
       "text": [
        " prs.6=>cond.4"
       ]
      },
      {
       "output_type": "stream",
       "stream": "stdout",
       "text": [
        " prs.6=>cond.5"
       ]
      },
      {
       "output_type": "stream",
       "stream": "stdout",
       "text": [
        " prs.6=>cond.6"
       ]
      },
      {
       "output_type": "stream",
       "stream": "stdout",
       "text": [
        " prs.6=>pst.1"
       ]
      },
      {
       "output_type": "stream",
       "stream": "stdout",
       "text": [
        " prs.6=>pst.2"
       ]
      },
      {
       "output_type": "stream",
       "stream": "stdout",
       "text": [
        " prs.6=>pst.3"
       ]
      },
      {
       "output_type": "stream",
       "stream": "stdout",
       "text": [
        " prs.6=>pst.4"
       ]
      },
      {
       "output_type": "stream",
       "stream": "stdout",
       "text": [
        " prs.6=>pst.5"
       ]
      },
      {
       "output_type": "stream",
       "stream": "stdout",
       "text": [
        " prs.6=>pst.6"
       ]
      },
      {
       "output_type": "stream",
       "stream": "stdout",
       "text": [
        " prs.6=>pst.sbj.1"
       ]
      },
      {
       "output_type": "stream",
       "stream": "stdout",
       "text": [
        " prs.6=>pst.sbj.2"
       ]
      },
      {
       "output_type": "stream",
       "stream": "stdout",
       "text": [
        " prs.6=>pst.sbj.3"
       ]
      },
      {
       "output_type": "stream",
       "stream": "stdout",
       "text": [
        " prs.6=>pst.sbj.4"
       ]
      },
      {
       "output_type": "stream",
       "stream": "stdout",
       "text": [
        " prs.6=>pst.sbj.5"
       ]
      },
      {
       "output_type": "stream",
       "stream": "stdout",
       "text": [
        " prs.6=>pst.sbj.6"
       ]
      },
      {
       "output_type": "stream",
       "stream": "stdout",
       "text": [
        " prs.6=>inf"
       ]
      },
      {
       "output_type": "stream",
       "stream": "stdout",
       "text": [
        " prs.6=>prs.pcp"
       ]
      },
      {
       "output_type": "stream",
       "stream": "stdout",
       "text": [
        " prs.6=>pst.pcp"
       ]
      },
      {
       "output_type": "stream",
       "stream": "stdout",
       "text": [
        " imp.2=>ipf.1"
       ]
      },
      {
       "output_type": "stream",
       "stream": "stdout",
       "text": [
        " imp.2=>ipf.2"
       ]
      },
      {
       "output_type": "stream",
       "stream": "stdout",
       "text": [
        " imp.2=>ipf.3"
       ]
      },
      {
       "output_type": "stream",
       "stream": "stdout",
       "text": [
        " imp.2=>ipf.4"
       ]
      },
      {
       "output_type": "stream",
       "stream": "stdout",
       "text": [
        " imp.2=>ipf.5"
       ]
      },
      {
       "output_type": "stream",
       "stream": "stdout",
       "text": [
        " imp.2=>ipf.6"
       ]
      },
      {
       "output_type": "stream",
       "stream": "stdout",
       "text": [
        " imp.2=>prs.1"
       ]
      },
      {
       "output_type": "stream",
       "stream": "stdout",
       "text": [
        " imp.2=>prs.2 imp.2=>prs.3 imp.2=>prs.4"
       ]
      },
      {
       "output_type": "stream",
       "stream": "stdout",
       "text": [
        " imp.2=>prs.5"
       ]
      },
      {
       "output_type": "stream",
       "stream": "stdout",
       "text": [
        " imp.2=>prs.6"
       ]
      },
      {
       "output_type": "stream",
       "stream": "stdout",
       "text": [
        " imp.2=>imp.4"
       ]
      },
      {
       "output_type": "stream",
       "stream": "stdout",
       "text": [
        " imp.2=>imp.5"
       ]
      },
      {
       "output_type": "stream",
       "stream": "stdout",
       "text": [
        " imp.2=>sbjv.1"
       ]
      },
      {
       "output_type": "stream",
       "stream": "stdout",
       "text": [
        " imp.2=>sbjv.2"
       ]
      },
      {
       "output_type": "stream",
       "stream": "stdout",
       "text": [
        " imp.2=>sbjv.3"
       ]
      },
      {
       "output_type": "stream",
       "stream": "stdout",
       "text": [
        " imp.2=>sbjv.4"
       ]
      },
      {
       "output_type": "stream",
       "stream": "stdout",
       "text": [
        " imp.2=>sbjv.5"
       ]
      },
      {
       "output_type": "stream",
       "stream": "stdout",
       "text": [
        " imp.2=>sbjv.6"
       ]
      },
      {
       "output_type": "stream",
       "stream": "stdout",
       "text": [
        " imp.2=>fut.1"
       ]
      },
      {
       "output_type": "stream",
       "stream": "stdout",
       "text": [
        " imp.2=>fut.2"
       ]
      },
      {
       "output_type": "stream",
       "stream": "stdout",
       "text": [
        " imp.2=>fut.3"
       ]
      },
      {
       "output_type": "stream",
       "stream": "stdout",
       "text": [
        " imp.2=>fut.4"
       ]
      },
      {
       "output_type": "stream",
       "stream": "stdout",
       "text": [
        " imp.2=>fut.5"
       ]
      },
      {
       "output_type": "stream",
       "stream": "stdout",
       "text": [
        " imp.2=>fut.6"
       ]
      },
      {
       "output_type": "stream",
       "stream": "stdout",
       "text": [
        " imp.2=>cond.1"
       ]
      },
      {
       "output_type": "stream",
       "stream": "stdout",
       "text": [
        " imp.2=>cond.2"
       ]
      },
      {
       "output_type": "stream",
       "stream": "stdout",
       "text": [
        " imp.2=>cond.3"
       ]
      },
      {
       "output_type": "stream",
       "stream": "stdout",
       "text": [
        " imp.2=>cond.4"
       ]
      },
      {
       "output_type": "stream",
       "stream": "stdout",
       "text": [
        " imp.2=>cond.5"
       ]
      },
      {
       "output_type": "stream",
       "stream": "stdout",
       "text": [
        " imp.2=>cond.6"
       ]
      },
      {
       "output_type": "stream",
       "stream": "stdout",
       "text": [
        " imp.2=>pst.1"
       ]
      },
      {
       "output_type": "stream",
       "stream": "stdout",
       "text": [
        " imp.2=>pst.2"
       ]
      },
      {
       "output_type": "stream",
       "stream": "stdout",
       "text": [
        " imp.2=>pst.3"
       ]
      },
      {
       "output_type": "stream",
       "stream": "stdout",
       "text": [
        " imp.2=>pst.4"
       ]
      },
      {
       "output_type": "stream",
       "stream": "stdout",
       "text": [
        " imp.2=>pst.5"
       ]
      },
      {
       "output_type": "stream",
       "stream": "stdout",
       "text": [
        " imp.2=>pst.6"
       ]
      },
      {
       "output_type": "stream",
       "stream": "stdout",
       "text": [
        " imp.2=>pst.sbj.1"
       ]
      },
      {
       "output_type": "stream",
       "stream": "stdout",
       "text": [
        " imp.2=>pst.sbj.2"
       ]
      },
      {
       "output_type": "stream",
       "stream": "stdout",
       "text": [
        " imp.2=>pst.sbj.3"
       ]
      },
      {
       "output_type": "stream",
       "stream": "stdout",
       "text": [
        " imp.2=>pst.sbj.4"
       ]
      },
      {
       "output_type": "stream",
       "stream": "stdout",
       "text": [
        " imp.2=>pst.sbj.5"
       ]
      },
      {
       "output_type": "stream",
       "stream": "stdout",
       "text": [
        " imp.2=>pst.sbj.6"
       ]
      },
      {
       "output_type": "stream",
       "stream": "stdout",
       "text": [
        " imp.2=>inf"
       ]
      },
      {
       "output_type": "stream",
       "stream": "stdout",
       "text": [
        " imp.2=>prs.pcp"
       ]
      },
      {
       "output_type": "stream",
       "stream": "stdout",
       "text": [
        " imp.2=>pst.pcp"
       ]
      },
      {
       "output_type": "stream",
       "stream": "stdout",
       "text": [
        " imp.4=>ipf.1"
       ]
      },
      {
       "output_type": "stream",
       "stream": "stdout",
       "text": [
        " imp.4=>ipf.2 imp.4=>ipf.3 imp.4=>ipf.4"
       ]
      },
      {
       "output_type": "stream",
       "stream": "stdout",
       "text": [
        " imp.4=>ipf.5 imp.4=>ipf.6"
       ]
      },
      {
       "output_type": "stream",
       "stream": "stdout",
       "text": [
        " imp.4=>prs.1 imp.4=>prs.2"
       ]
      },
      {
       "output_type": "stream",
       "stream": "stdout",
       "text": [
        " imp.4=>prs.3"
       ]
      },
      {
       "output_type": "stream",
       "stream": "stdout",
       "text": [
        " imp.4=>prs.4"
       ]
      },
      {
       "output_type": "stream",
       "stream": "stdout",
       "text": [
        " imp.4=>prs.5 imp.4=>prs.6 imp.4=>imp.2"
       ]
      },
      {
       "output_type": "stream",
       "stream": "stdout",
       "text": [
        " imp.4=>imp.5"
       ]
      },
      {
       "output_type": "stream",
       "stream": "stdout",
       "text": [
        " imp.4=>sbjv.1 imp.4=>sbjv.2"
       ]
      },
      {
       "output_type": "stream",
       "stream": "stdout",
       "text": [
        " imp.4=>sbjv.3"
       ]
      },
      {
       "output_type": "stream",
       "stream": "stdout",
       "text": [
        " imp.4=>sbjv.4"
       ]
      },
      {
       "output_type": "stream",
       "stream": "stdout",
       "text": [
        " imp.4=>sbjv.5 imp.4=>sbjv.6"
       ]
      },
      {
       "output_type": "stream",
       "stream": "stdout",
       "text": [
        " imp.4=>fut.1"
       ]
      },
      {
       "output_type": "stream",
       "stream": "stdout",
       "text": [
        " imp.4=>fut.2"
       ]
      },
      {
       "output_type": "stream",
       "stream": "stdout",
       "text": [
        " imp.4=>fut.3"
       ]
      },
      {
       "output_type": "stream",
       "stream": "stdout",
       "text": [
        " imp.4=>fut.4"
       ]
      },
      {
       "output_type": "stream",
       "stream": "stdout",
       "text": [
        " imp.4=>fut.5"
       ]
      },
      {
       "output_type": "stream",
       "stream": "stdout",
       "text": [
        " imp.4=>fut.6"
       ]
      },
      {
       "output_type": "stream",
       "stream": "stdout",
       "text": [
        " imp.4=>cond.1"
       ]
      },
      {
       "output_type": "stream",
       "stream": "stdout",
       "text": [
        " imp.4=>cond.2"
       ]
      },
      {
       "output_type": "stream",
       "stream": "stdout",
       "text": [
        " imp.4=>cond.3"
       ]
      },
      {
       "output_type": "stream",
       "stream": "stdout",
       "text": [
        " imp.4=>cond.4"
       ]
      },
      {
       "output_type": "stream",
       "stream": "stdout",
       "text": [
        " imp.4=>cond.5"
       ]
      },
      {
       "output_type": "stream",
       "stream": "stdout",
       "text": [
        " imp.4=>cond.6"
       ]
      },
      {
       "output_type": "stream",
       "stream": "stdout",
       "text": [
        " imp.4=>pst.1"
       ]
      },
      {
       "output_type": "stream",
       "stream": "stdout",
       "text": [
        " imp.4=>pst.2"
       ]
      },
      {
       "output_type": "stream",
       "stream": "stdout",
       "text": [
        " imp.4=>pst.3"
       ]
      },
      {
       "output_type": "stream",
       "stream": "stdout",
       "text": [
        " imp.4=>pst.4"
       ]
      },
      {
       "output_type": "stream",
       "stream": "stdout",
       "text": [
        " imp.4=>pst.5"
       ]
      },
      {
       "output_type": "stream",
       "stream": "stdout",
       "text": [
        " imp.4=>pst.6"
       ]
      },
      {
       "output_type": "stream",
       "stream": "stdout",
       "text": [
        " imp.4=>pst.sbj.1"
       ]
      },
      {
       "output_type": "stream",
       "stream": "stdout",
       "text": [
        " imp.4=>pst.sbj.2"
       ]
      },
      {
       "output_type": "stream",
       "stream": "stdout",
       "text": [
        " imp.4=>pst.sbj.3"
       ]
      },
      {
       "output_type": "stream",
       "stream": "stdout",
       "text": [
        " imp.4=>pst.sbj.4"
       ]
      },
      {
       "output_type": "stream",
       "stream": "stdout",
       "text": [
        " imp.4=>pst.sbj.5"
       ]
      },
      {
       "output_type": "stream",
       "stream": "stdout",
       "text": [
        " imp.4=>pst.sbj.6"
       ]
      },
      {
       "output_type": "stream",
       "stream": "stdout",
       "text": [
        " imp.4=>inf"
       ]
      },
      {
       "output_type": "stream",
       "stream": "stdout",
       "text": [
        " imp.4=>prs.pcp"
       ]
      },
      {
       "output_type": "stream",
       "stream": "stdout",
       "text": [
        " imp.4=>pst.pcp imp.5=>ipf.1"
       ]
      },
      {
       "output_type": "stream",
       "stream": "stdout",
       "text": [
        " imp.5=>ipf.2 imp.5=>ipf.3"
       ]
      },
      {
       "output_type": "stream",
       "stream": "stdout",
       "text": [
        " imp.5=>ipf.4 imp.5=>ipf.5"
       ]
      },
      {
       "output_type": "stream",
       "stream": "stdout",
       "text": [
        " imp.5=>ipf.6 imp.5=>prs.1"
       ]
      },
      {
       "output_type": "stream",
       "stream": "stdout",
       "text": [
        " imp.5=>prs.2 imp.5=>prs.3"
       ]
      },
      {
       "output_type": "stream",
       "stream": "stdout",
       "text": [
        " imp.5=>prs.4 imp.5=>prs.5"
       ]
      },
      {
       "output_type": "stream",
       "stream": "stdout",
       "text": [
        " imp.5=>prs.6 imp.5=>imp.2"
       ]
      },
      {
       "output_type": "stream",
       "stream": "stdout",
       "text": [
        " imp.5=>imp.4 imp.5=>sbjv.1 imp.5=>sbjv.2"
       ]
      },
      {
       "output_type": "stream",
       "stream": "stdout",
       "text": [
        " imp.5=>sbjv.3 imp.5=>sbjv.4"
       ]
      },
      {
       "output_type": "stream",
       "stream": "stdout",
       "text": [
        " imp.5=>sbjv.5 imp.5=>sbjv.6 imp.5=>fut.1 imp.5=>fut.2"
       ]
      },
      {
       "output_type": "stream",
       "stream": "stdout",
       "text": [
        " imp.5=>fut.3 imp.5=>fut.4"
       ]
      },
      {
       "output_type": "stream",
       "stream": "stdout",
       "text": [
        " imp.5=>fut.5"
       ]
      },
      {
       "output_type": "stream",
       "stream": "stdout",
       "text": [
        " imp.5=>fut.6"
       ]
      },
      {
       "output_type": "stream",
       "stream": "stdout",
       "text": [
        " imp.5=>cond.1"
       ]
      },
      {
       "output_type": "stream",
       "stream": "stdout",
       "text": [
        " imp.5=>cond.2"
       ]
      },
      {
       "output_type": "stream",
       "stream": "stdout",
       "text": [
        " imp.5=>cond.3"
       ]
      },
      {
       "output_type": "stream",
       "stream": "stdout",
       "text": [
        " imp.5=>cond.4"
       ]
      },
      {
       "output_type": "stream",
       "stream": "stdout",
       "text": [
        " imp.5=>cond.5"
       ]
      },
      {
       "output_type": "stream",
       "stream": "stdout",
       "text": [
        " imp.5=>cond.6"
       ]
      },
      {
       "output_type": "stream",
       "stream": "stdout",
       "text": [
        " imp.5=>pst.1"
       ]
      },
      {
       "output_type": "stream",
       "stream": "stdout",
       "text": [
        " imp.5=>pst.2"
       ]
      },
      {
       "output_type": "stream",
       "stream": "stdout",
       "text": [
        " imp.5=>pst.3"
       ]
      },
      {
       "output_type": "stream",
       "stream": "stdout",
       "text": [
        " imp.5=>pst.4"
       ]
      },
      {
       "output_type": "stream",
       "stream": "stdout",
       "text": [
        " imp.5=>pst.5"
       ]
      },
      {
       "output_type": "stream",
       "stream": "stdout",
       "text": [
        " imp.5=>pst.6"
       ]
      },
      {
       "output_type": "stream",
       "stream": "stdout",
       "text": [
        " imp.5=>pst.sbj.1"
       ]
      },
      {
       "output_type": "stream",
       "stream": "stdout",
       "text": [
        " imp.5=>pst.sbj.2"
       ]
      },
      {
       "output_type": "stream",
       "stream": "stdout",
       "text": [
        " imp.5=>pst.sbj.3"
       ]
      },
      {
       "output_type": "stream",
       "stream": "stdout",
       "text": [
        " imp.5=>pst.sbj.4"
       ]
      },
      {
       "output_type": "stream",
       "stream": "stdout",
       "text": [
        " imp.5=>pst.sbj.5"
       ]
      },
      {
       "output_type": "stream",
       "stream": "stdout",
       "text": [
        " imp.5=>pst.sbj.6"
       ]
      },
      {
       "output_type": "stream",
       "stream": "stdout",
       "text": [
        " imp.5=>inf"
       ]
      },
      {
       "output_type": "stream",
       "stream": "stdout",
       "text": [
        " imp.5=>prs.pcp"
       ]
      },
      {
       "output_type": "stream",
       "stream": "stdout",
       "text": [
        " imp.5=>pst.pcp sbjv.1=>ipf.1"
       ]
      },
      {
       "output_type": "stream",
       "stream": "stdout",
       "text": [
        " sbjv.1=>ipf.2"
       ]
      },
      {
       "output_type": "stream",
       "stream": "stdout",
       "text": [
        " sbjv.1=>ipf.3"
       ]
      },
      {
       "output_type": "stream",
       "stream": "stdout",
       "text": [
        " sbjv.1=>ipf.4"
       ]
      },
      {
       "output_type": "stream",
       "stream": "stdout",
       "text": [
        " sbjv.1=>ipf.5"
       ]
      },
      {
       "output_type": "stream",
       "stream": "stdout",
       "text": [
        " sbjv.1=>ipf.6"
       ]
      },
      {
       "output_type": "stream",
       "stream": "stdout",
       "text": [
        " sbjv.1=>prs.1"
       ]
      },
      {
       "output_type": "stream",
       "stream": "stdout",
       "text": [
        " sbjv.1=>prs.2"
       ]
      },
      {
       "output_type": "stream",
       "stream": "stdout",
       "text": [
        " sbjv.1=>prs.3"
       ]
      },
      {
       "output_type": "stream",
       "stream": "stdout",
       "text": [
        " sbjv.1=>prs.4"
       ]
      },
      {
       "output_type": "stream",
       "stream": "stdout",
       "text": [
        " sbjv.1=>prs.5"
       ]
      },
      {
       "output_type": "stream",
       "stream": "stdout",
       "text": [
        " sbjv.1=>prs.6"
       ]
      },
      {
       "output_type": "stream",
       "stream": "stdout",
       "text": [
        " sbjv.1=>imp.2 sbjv.1=>imp.4"
       ]
      },
      {
       "output_type": "stream",
       "stream": "stdout",
       "text": [
        " sbjv.1=>imp.5"
       ]
      },
      {
       "output_type": "stream",
       "stream": "stdout",
       "text": [
        " sbjv.1=>sbjv.2"
       ]
      },
      {
       "output_type": "stream",
       "stream": "stdout",
       "text": [
        " sbjv.1=>sbjv.3 sbjv.1=>sbjv.4 sbjv.1=>sbjv.5"
       ]
      },
      {
       "output_type": "stream",
       "stream": "stdout",
       "text": [
        " sbjv.1=>sbjv.6"
       ]
      },
      {
       "output_type": "stream",
       "stream": "stdout",
       "text": [
        " sbjv.1=>fut.1 sbjv.1=>fut.2"
       ]
      },
      {
       "output_type": "stream",
       "stream": "stdout",
       "text": [
        " sbjv.1=>fut.3"
       ]
      },
      {
       "output_type": "stream",
       "stream": "stdout",
       "text": [
        " sbjv.1=>fut.4"
       ]
      },
      {
       "output_type": "stream",
       "stream": "stdout",
       "text": [
        " sbjv.1=>fut.5"
       ]
      },
      {
       "output_type": "stream",
       "stream": "stdout",
       "text": [
        " sbjv.1=>fut.6"
       ]
      },
      {
       "output_type": "stream",
       "stream": "stdout",
       "text": [
        " sbjv.1=>cond.1"
       ]
      },
      {
       "output_type": "stream",
       "stream": "stdout",
       "text": [
        " sbjv.1=>cond.2"
       ]
      },
      {
       "output_type": "stream",
       "stream": "stdout",
       "text": [
        " sbjv.1=>cond.3"
       ]
      },
      {
       "output_type": "stream",
       "stream": "stdout",
       "text": [
        " sbjv.1=>cond.4"
       ]
      },
      {
       "output_type": "stream",
       "stream": "stdout",
       "text": [
        " sbjv.1=>cond.5"
       ]
      },
      {
       "output_type": "stream",
       "stream": "stdout",
       "text": [
        " sbjv.1=>cond.6"
       ]
      },
      {
       "output_type": "stream",
       "stream": "stdout",
       "text": [
        " sbjv.1=>pst.1"
       ]
      },
      {
       "output_type": "stream",
       "stream": "stdout",
       "text": [
        " sbjv.1=>pst.2"
       ]
      },
      {
       "output_type": "stream",
       "stream": "stdout",
       "text": [
        " sbjv.1=>pst.3"
       ]
      },
      {
       "output_type": "stream",
       "stream": "stdout",
       "text": [
        " sbjv.1=>pst.4"
       ]
      },
      {
       "output_type": "stream",
       "stream": "stdout",
       "text": [
        " sbjv.1=>pst.5"
       ]
      },
      {
       "output_type": "stream",
       "stream": "stdout",
       "text": [
        " sbjv.1=>pst.6"
       ]
      },
      {
       "output_type": "stream",
       "stream": "stdout",
       "text": [
        " sbjv.1=>pst.sbj.1"
       ]
      },
      {
       "output_type": "stream",
       "stream": "stdout",
       "text": [
        " sbjv.1=>pst.sbj.2"
       ]
      },
      {
       "output_type": "stream",
       "stream": "stdout",
       "text": [
        " sbjv.1=>pst.sbj.3"
       ]
      },
      {
       "output_type": "stream",
       "stream": "stdout",
       "text": [
        " sbjv.1=>pst.sbj.4"
       ]
      },
      {
       "output_type": "stream",
       "stream": "stdout",
       "text": [
        " sbjv.1=>pst.sbj.5"
       ]
      },
      {
       "output_type": "stream",
       "stream": "stdout",
       "text": [
        " sbjv.1=>pst.sbj.6"
       ]
      },
      {
       "output_type": "stream",
       "stream": "stdout",
       "text": [
        " sbjv.1=>inf"
       ]
      },
      {
       "output_type": "stream",
       "stream": "stdout",
       "text": [
        " sbjv.1=>prs.pcp"
       ]
      },
      {
       "output_type": "stream",
       "stream": "stdout",
       "text": [
        " sbjv.1=>pst.pcp"
       ]
      },
      {
       "output_type": "stream",
       "stream": "stdout",
       "text": [
        " sbjv.2=>ipf.1"
       ]
      },
      {
       "output_type": "stream",
       "stream": "stdout",
       "text": [
        " sbjv.2=>ipf.2"
       ]
      },
      {
       "output_type": "stream",
       "stream": "stdout",
       "text": [
        " sbjv.2=>ipf.3"
       ]
      },
      {
       "output_type": "stream",
       "stream": "stdout",
       "text": [
        " sbjv.2=>ipf.4"
       ]
      },
      {
       "output_type": "stream",
       "stream": "stdout",
       "text": [
        " sbjv.2=>ipf.5"
       ]
      },
      {
       "output_type": "stream",
       "stream": "stdout",
       "text": [
        " sbjv.2=>ipf.6"
       ]
      },
      {
       "output_type": "stream",
       "stream": "stdout",
       "text": [
        " sbjv.2=>prs.1"
       ]
      },
      {
       "output_type": "stream",
       "stream": "stdout",
       "text": [
        " sbjv.2=>prs.2"
       ]
      },
      {
       "output_type": "stream",
       "stream": "stdout",
       "text": [
        " sbjv.2=>prs.3"
       ]
      },
      {
       "output_type": "stream",
       "stream": "stdout",
       "text": [
        " sbjv.2=>prs.4"
       ]
      },
      {
       "output_type": "stream",
       "stream": "stdout",
       "text": [
        " sbjv.2=>prs.5"
       ]
      },
      {
       "output_type": "stream",
       "stream": "stdout",
       "text": [
        " sbjv.2=>prs.6"
       ]
      },
      {
       "output_type": "stream",
       "stream": "stdout",
       "text": [
        " sbjv.2=>imp.2"
       ]
      },
      {
       "output_type": "stream",
       "stream": "stdout",
       "text": [
        " sbjv.2=>imp.4"
       ]
      },
      {
       "output_type": "stream",
       "stream": "stdout",
       "text": [
        " sbjv.2=>imp.5"
       ]
      },
      {
       "output_type": "stream",
       "stream": "stdout",
       "text": [
        " sbjv.2=>sbjv.1"
       ]
      },
      {
       "output_type": "stream",
       "stream": "stdout",
       "text": [
        " sbjv.2=>sbjv.3 sbjv.2=>sbjv.4 sbjv.2=>sbjv.5"
       ]
      },
      {
       "output_type": "stream",
       "stream": "stdout",
       "text": [
        " sbjv.2=>sbjv.6"
       ]
      },
      {
       "output_type": "stream",
       "stream": "stdout",
       "text": [
        " sbjv.2=>fut.1 sbjv.2=>fut.2"
       ]
      },
      {
       "output_type": "stream",
       "stream": "stdout",
       "text": [
        " sbjv.2=>fut.3"
       ]
      },
      {
       "output_type": "stream",
       "stream": "stdout",
       "text": [
        " sbjv.2=>fut.4"
       ]
      },
      {
       "output_type": "stream",
       "stream": "stdout",
       "text": [
        " sbjv.2=>fut.5"
       ]
      },
      {
       "output_type": "stream",
       "stream": "stdout",
       "text": [
        " sbjv.2=>fut.6"
       ]
      },
      {
       "output_type": "stream",
       "stream": "stdout",
       "text": [
        " sbjv.2=>cond.1"
       ]
      },
      {
       "output_type": "stream",
       "stream": "stdout",
       "text": [
        " sbjv.2=>cond.2"
       ]
      },
      {
       "output_type": "stream",
       "stream": "stdout",
       "text": [
        " sbjv.2=>cond.3"
       ]
      },
      {
       "output_type": "stream",
       "stream": "stdout",
       "text": [
        " sbjv.2=>cond.4"
       ]
      },
      {
       "output_type": "stream",
       "stream": "stdout",
       "text": [
        " sbjv.2=>cond.5"
       ]
      },
      {
       "output_type": "stream",
       "stream": "stdout",
       "text": [
        " sbjv.2=>cond.6"
       ]
      },
      {
       "output_type": "stream",
       "stream": "stdout",
       "text": [
        " sbjv.2=>pst.1"
       ]
      },
      {
       "output_type": "stream",
       "stream": "stdout",
       "text": [
        " sbjv.2=>pst.2"
       ]
      },
      {
       "output_type": "stream",
       "stream": "stdout",
       "text": [
        " sbjv.2=>pst.3"
       ]
      },
      {
       "output_type": "stream",
       "stream": "stdout",
       "text": [
        " sbjv.2=>pst.4"
       ]
      },
      {
       "output_type": "stream",
       "stream": "stdout",
       "text": [
        " sbjv.2=>pst.5"
       ]
      },
      {
       "output_type": "stream",
       "stream": "stdout",
       "text": [
        " sbjv.2=>pst.6"
       ]
      },
      {
       "output_type": "stream",
       "stream": "stdout",
       "text": [
        " sbjv.2=>pst.sbj.1"
       ]
      },
      {
       "output_type": "stream",
       "stream": "stdout",
       "text": [
        " sbjv.2=>pst.sbj.2"
       ]
      },
      {
       "output_type": "stream",
       "stream": "stdout",
       "text": [
        " sbjv.2=>pst.sbj.3"
       ]
      },
      {
       "output_type": "stream",
       "stream": "stdout",
       "text": [
        " sbjv.2=>pst.sbj.4"
       ]
      },
      {
       "output_type": "stream",
       "stream": "stdout",
       "text": [
        " sbjv.2=>pst.sbj.5"
       ]
      },
      {
       "output_type": "stream",
       "stream": "stdout",
       "text": [
        " sbjv.2=>pst.sbj.6"
       ]
      },
      {
       "output_type": "stream",
       "stream": "stdout",
       "text": [
        " sbjv.2=>inf"
       ]
      },
      {
       "output_type": "stream",
       "stream": "stdout",
       "text": [
        " sbjv.2=>prs.pcp"
       ]
      },
      {
       "output_type": "stream",
       "stream": "stdout",
       "text": [
        " sbjv.2=>pst.pcp"
       ]
      },
      {
       "output_type": "stream",
       "stream": "stdout",
       "text": [
        " sbjv.3=>ipf.1"
       ]
      },
      {
       "output_type": "stream",
       "stream": "stdout",
       "text": [
        " sbjv.3=>ipf.2"
       ]
      },
      {
       "output_type": "stream",
       "stream": "stdout",
       "text": [
        " sbjv.3=>ipf.3"
       ]
      },
      {
       "output_type": "stream",
       "stream": "stdout",
       "text": [
        " sbjv.3=>ipf.4"
       ]
      },
      {
       "output_type": "stream",
       "stream": "stdout",
       "text": [
        " sbjv.3=>ipf.5"
       ]
      },
      {
       "output_type": "stream",
       "stream": "stdout",
       "text": [
        " sbjv.3=>ipf.6"
       ]
      },
      {
       "output_type": "stream",
       "stream": "stdout",
       "text": [
        " sbjv.3=>prs.1"
       ]
      },
      {
       "output_type": "stream",
       "stream": "stdout",
       "text": [
        " sbjv.3=>prs.2"
       ]
      },
      {
       "output_type": "stream",
       "stream": "stdout",
       "text": [
        " sbjv.3=>prs.3"
       ]
      },
      {
       "output_type": "stream",
       "stream": "stdout",
       "text": [
        " sbjv.3=>prs.4"
       ]
      },
      {
       "output_type": "stream",
       "stream": "stdout",
       "text": [
        " sbjv.3=>prs.5"
       ]
      },
      {
       "output_type": "stream",
       "stream": "stdout",
       "text": [
        " sbjv.3=>prs.6"
       ]
      },
      {
       "output_type": "stream",
       "stream": "stdout",
       "text": [
        " sbjv.3=>imp.2 sbjv.3=>imp.4"
       ]
      },
      {
       "output_type": "stream",
       "stream": "stdout",
       "text": [
        " sbjv.3=>imp.5"
       ]
      },
      {
       "output_type": "stream",
       "stream": "stdout",
       "text": [
        " sbjv.3=>sbjv.1"
       ]
      },
      {
       "output_type": "stream",
       "stream": "stdout",
       "text": [
        " sbjv.3=>sbjv.2 sbjv.3=>sbjv.4 sbjv.3=>sbjv.5"
       ]
      },
      {
       "output_type": "stream",
       "stream": "stdout",
       "text": [
        " sbjv.3=>sbjv.6"
       ]
      },
      {
       "output_type": "stream",
       "stream": "stdout",
       "text": [
        " sbjv.3=>fut.1 sbjv.3=>fut.2"
       ]
      },
      {
       "output_type": "stream",
       "stream": "stdout",
       "text": [
        " sbjv.3=>fut.3"
       ]
      },
      {
       "output_type": "stream",
       "stream": "stdout",
       "text": [
        " sbjv.3=>fut.4"
       ]
      },
      {
       "output_type": "stream",
       "stream": "stdout",
       "text": [
        " sbjv.3=>fut.5"
       ]
      },
      {
       "output_type": "stream",
       "stream": "stdout",
       "text": [
        " sbjv.3=>fut.6"
       ]
      },
      {
       "output_type": "stream",
       "stream": "stdout",
       "text": [
        " sbjv.3=>cond.1"
       ]
      },
      {
       "output_type": "stream",
       "stream": "stdout",
       "text": [
        " sbjv.3=>cond.2"
       ]
      },
      {
       "output_type": "stream",
       "stream": "stdout",
       "text": [
        " sbjv.3=>cond.3"
       ]
      },
      {
       "output_type": "stream",
       "stream": "stdout",
       "text": [
        " sbjv.3=>cond.4"
       ]
      },
      {
       "output_type": "stream",
       "stream": "stdout",
       "text": [
        " sbjv.3=>cond.5"
       ]
      },
      {
       "output_type": "stream",
       "stream": "stdout",
       "text": [
        " sbjv.3=>cond.6"
       ]
      },
      {
       "output_type": "stream",
       "stream": "stdout",
       "text": [
        " sbjv.3=>pst.1"
       ]
      },
      {
       "output_type": "stream",
       "stream": "stdout",
       "text": [
        " sbjv.3=>pst.2"
       ]
      },
      {
       "output_type": "stream",
       "stream": "stdout",
       "text": [
        " sbjv.3=>pst.3"
       ]
      },
      {
       "output_type": "stream",
       "stream": "stdout",
       "text": [
        " sbjv.3=>pst.4"
       ]
      },
      {
       "output_type": "stream",
       "stream": "stdout",
       "text": [
        " sbjv.3=>pst.5"
       ]
      },
      {
       "output_type": "stream",
       "stream": "stdout",
       "text": [
        " sbjv.3=>pst.6"
       ]
      },
      {
       "output_type": "stream",
       "stream": "stdout",
       "text": [
        " sbjv.3=>pst.sbj.1"
       ]
      },
      {
       "output_type": "stream",
       "stream": "stdout",
       "text": [
        " sbjv.3=>pst.sbj.2"
       ]
      },
      {
       "output_type": "stream",
       "stream": "stdout",
       "text": [
        " sbjv.3=>pst.sbj.3"
       ]
      },
      {
       "output_type": "stream",
       "stream": "stdout",
       "text": [
        " sbjv.3=>pst.sbj.4"
       ]
      },
      {
       "output_type": "stream",
       "stream": "stdout",
       "text": [
        " sbjv.3=>pst.sbj.5"
       ]
      },
      {
       "output_type": "stream",
       "stream": "stdout",
       "text": [
        " sbjv.3=>pst.sbj.6"
       ]
      },
      {
       "output_type": "stream",
       "stream": "stdout",
       "text": [
        " sbjv.3=>inf"
       ]
      },
      {
       "output_type": "stream",
       "stream": "stdout",
       "text": [
        " sbjv.3=>prs.pcp"
       ]
      },
      {
       "output_type": "stream",
       "stream": "stdout",
       "text": [
        " sbjv.3=>pst.pcp"
       ]
      },
      {
       "output_type": "stream",
       "stream": "stdout",
       "text": [
        " sbjv.4=>ipf.1"
       ]
      },
      {
       "output_type": "stream",
       "stream": "stdout",
       "text": [
        " sbjv.4=>ipf.2 sbjv.4=>ipf.3"
       ]
      },
      {
       "output_type": "stream",
       "stream": "stdout",
       "text": [
        " sbjv.4=>ipf.4 sbjv.4=>ipf.5"
       ]
      },
      {
       "output_type": "stream",
       "stream": "stdout",
       "text": [
        " sbjv.4=>ipf.6 sbjv.4=>prs.1"
       ]
      },
      {
       "output_type": "stream",
       "stream": "stdout",
       "text": [
        " sbjv.4=>prs.2"
       ]
      },
      {
       "output_type": "stream",
       "stream": "stdout",
       "text": [
        " sbjv.4=>prs.3"
       ]
      },
      {
       "output_type": "stream",
       "stream": "stdout",
       "text": [
        " sbjv.4=>prs.4"
       ]
      },
      {
       "output_type": "stream",
       "stream": "stdout",
       "text": [
        " sbjv.4=>prs.5 sbjv.4=>prs.6"
       ]
      },
      {
       "output_type": "stream",
       "stream": "stdout",
       "text": [
        " sbjv.4=>imp.2"
       ]
      },
      {
       "output_type": "stream",
       "stream": "stdout",
       "text": [
        " sbjv.4=>imp.4"
       ]
      },
      {
       "output_type": "stream",
       "stream": "stdout",
       "text": [
        " sbjv.4=>imp.5 sbjv.4=>sbjv.1 sbjv.4=>sbjv.2"
       ]
      },
      {
       "output_type": "stream",
       "stream": "stdout",
       "text": [
        " sbjv.4=>sbjv.3 sbjv.4=>sbjv.5"
       ]
      },
      {
       "output_type": "stream",
       "stream": "stdout",
       "text": [
        " sbjv.4=>sbjv.6 sbjv.4=>fut.1 sbjv.4=>fut.2"
       ]
      },
      {
       "output_type": "stream",
       "stream": "stdout",
       "text": [
        " sbjv.4=>fut.3"
       ]
      },
      {
       "output_type": "stream",
       "stream": "stdout",
       "text": [
        " sbjv.4=>fut.4"
       ]
      },
      {
       "output_type": "stream",
       "stream": "stdout",
       "text": [
        " sbjv.4=>fut.5"
       ]
      },
      {
       "output_type": "stream",
       "stream": "stdout",
       "text": [
        " sbjv.4=>fut.6"
       ]
      },
      {
       "output_type": "stream",
       "stream": "stdout",
       "text": [
        " sbjv.4=>cond.1"
       ]
      },
      {
       "output_type": "stream",
       "stream": "stdout",
       "text": [
        " sbjv.4=>cond.2"
       ]
      },
      {
       "output_type": "stream",
       "stream": "stdout",
       "text": [
        " sbjv.4=>cond.3"
       ]
      },
      {
       "output_type": "stream",
       "stream": "stdout",
       "text": [
        " sbjv.4=>cond.4"
       ]
      },
      {
       "output_type": "stream",
       "stream": "stdout",
       "text": [
        " sbjv.4=>cond.5"
       ]
      },
      {
       "output_type": "stream",
       "stream": "stdout",
       "text": [
        " sbjv.4=>cond.6"
       ]
      },
      {
       "output_type": "stream",
       "stream": "stdout",
       "text": [
        " sbjv.4=>pst.1"
       ]
      },
      {
       "output_type": "stream",
       "stream": "stdout",
       "text": [
        " sbjv.4=>pst.2"
       ]
      },
      {
       "output_type": "stream",
       "stream": "stdout",
       "text": [
        " sbjv.4=>pst.3"
       ]
      },
      {
       "output_type": "stream",
       "stream": "stdout",
       "text": [
        " sbjv.4=>pst.4"
       ]
      },
      {
       "output_type": "stream",
       "stream": "stdout",
       "text": [
        " sbjv.4=>pst.5"
       ]
      },
      {
       "output_type": "stream",
       "stream": "stdout",
       "text": [
        " sbjv.4=>pst.6"
       ]
      },
      {
       "output_type": "stream",
       "stream": "stdout",
       "text": [
        " sbjv.4=>pst.sbj.1"
       ]
      },
      {
       "output_type": "stream",
       "stream": "stdout",
       "text": [
        " sbjv.4=>pst.sbj.2"
       ]
      },
      {
       "output_type": "stream",
       "stream": "stdout",
       "text": [
        " sbjv.4=>pst.sbj.3"
       ]
      },
      {
       "output_type": "stream",
       "stream": "stdout",
       "text": [
        " sbjv.4=>pst.sbj.4"
       ]
      },
      {
       "output_type": "stream",
       "stream": "stdout",
       "text": [
        " sbjv.4=>pst.sbj.5"
       ]
      },
      {
       "output_type": "stream",
       "stream": "stdout",
       "text": [
        " sbjv.4=>pst.sbj.6"
       ]
      },
      {
       "output_type": "stream",
       "stream": "stdout",
       "text": [
        " sbjv.4=>inf"
       ]
      },
      {
       "output_type": "stream",
       "stream": "stdout",
       "text": [
        " sbjv.4=>prs.pcp"
       ]
      },
      {
       "output_type": "stream",
       "stream": "stdout",
       "text": [
        " sbjv.4=>pst.pcp sbjv.5=>ipf.1"
       ]
      },
      {
       "output_type": "stream",
       "stream": "stdout",
       "text": [
        " sbjv.5=>ipf.2 sbjv.5=>ipf.3"
       ]
      },
      {
       "output_type": "stream",
       "stream": "stdout",
       "text": [
        " sbjv.5=>ipf.4 sbjv.5=>ipf.5"
       ]
      },
      {
       "output_type": "stream",
       "stream": "stdout",
       "text": [
        " sbjv.5=>ipf.6 sbjv.5=>prs.1"
       ]
      },
      {
       "output_type": "stream",
       "stream": "stdout",
       "text": [
        " sbjv.5=>prs.2"
       ]
      },
      {
       "output_type": "stream",
       "stream": "stdout",
       "text": [
        " sbjv.5=>prs.3"
       ]
      },
      {
       "output_type": "stream",
       "stream": "stdout",
       "text": [
        " sbjv.5=>prs.4"
       ]
      },
      {
       "output_type": "stream",
       "stream": "stdout",
       "text": [
        " sbjv.5=>prs.5 sbjv.5=>prs.6"
       ]
      },
      {
       "output_type": "stream",
       "stream": "stdout",
       "text": [
        " sbjv.5=>imp.2"
       ]
      },
      {
       "output_type": "stream",
       "stream": "stdout",
       "text": [
        " sbjv.5=>imp.4"
       ]
      },
      {
       "output_type": "stream",
       "stream": "stdout",
       "text": [
        " sbjv.5=>imp.5 sbjv.5=>sbjv.1 sbjv.5=>sbjv.2"
       ]
      },
      {
       "output_type": "stream",
       "stream": "stdout",
       "text": [
        " sbjv.5=>sbjv.3"
       ]
      },
      {
       "output_type": "stream",
       "stream": "stdout",
       "text": [
        " sbjv.5=>sbjv.4"
       ]
      },
      {
       "output_type": "stream",
       "stream": "stdout",
       "text": [
        " sbjv.5=>sbjv.6 sbjv.5=>fut.1"
       ]
      },
      {
       "output_type": "stream",
       "stream": "stdout",
       "text": [
        " sbjv.5=>fut.2"
       ]
      },
      {
       "output_type": "stream",
       "stream": "stdout",
       "text": [
        " sbjv.5=>fut.3"
       ]
      },
      {
       "output_type": "stream",
       "stream": "stdout",
       "text": [
        " sbjv.5=>fut.4"
       ]
      },
      {
       "output_type": "stream",
       "stream": "stdout",
       "text": [
        " sbjv.5=>fut.5"
       ]
      },
      {
       "output_type": "stream",
       "stream": "stdout",
       "text": [
        " sbjv.5=>fut.6"
       ]
      },
      {
       "output_type": "stream",
       "stream": "stdout",
       "text": [
        " sbjv.5=>cond.1"
       ]
      },
      {
       "output_type": "stream",
       "stream": "stdout",
       "text": [
        " sbjv.5=>cond.2"
       ]
      },
      {
       "output_type": "stream",
       "stream": "stdout",
       "text": [
        " sbjv.5=>cond.3"
       ]
      },
      {
       "output_type": "stream",
       "stream": "stdout",
       "text": [
        " sbjv.5=>cond.4"
       ]
      },
      {
       "output_type": "stream",
       "stream": "stdout",
       "text": [
        " sbjv.5=>cond.5"
       ]
      },
      {
       "output_type": "stream",
       "stream": "stdout",
       "text": [
        " sbjv.5=>cond.6"
       ]
      },
      {
       "output_type": "stream",
       "stream": "stdout",
       "text": [
        " sbjv.5=>pst.1"
       ]
      },
      {
       "output_type": "stream",
       "stream": "stdout",
       "text": [
        " sbjv.5=>pst.2"
       ]
      },
      {
       "output_type": "stream",
       "stream": "stdout",
       "text": [
        " sbjv.5=>pst.3"
       ]
      },
      {
       "output_type": "stream",
       "stream": "stdout",
       "text": [
        " sbjv.5=>pst.4"
       ]
      },
      {
       "output_type": "stream",
       "stream": "stdout",
       "text": [
        " sbjv.5=>pst.5"
       ]
      },
      {
       "output_type": "stream",
       "stream": "stdout",
       "text": [
        " sbjv.5=>pst.6"
       ]
      },
      {
       "output_type": "stream",
       "stream": "stdout",
       "text": [
        " sbjv.5=>pst.sbj.1"
       ]
      },
      {
       "output_type": "stream",
       "stream": "stdout",
       "text": [
        " sbjv.5=>pst.sbj.2"
       ]
      },
      {
       "output_type": "stream",
       "stream": "stdout",
       "text": [
        " sbjv.5=>pst.sbj.3"
       ]
      },
      {
       "output_type": "stream",
       "stream": "stdout",
       "text": [
        " sbjv.5=>pst.sbj.4"
       ]
      },
      {
       "output_type": "stream",
       "stream": "stdout",
       "text": [
        " sbjv.5=>pst.sbj.5"
       ]
      },
      {
       "output_type": "stream",
       "stream": "stdout",
       "text": [
        " sbjv.5=>pst.sbj.6"
       ]
      },
      {
       "output_type": "stream",
       "stream": "stdout",
       "text": [
        " sbjv.5=>inf"
       ]
      },
      {
       "output_type": "stream",
       "stream": "stdout",
       "text": [
        " sbjv.5=>prs.pcp"
       ]
      },
      {
       "output_type": "stream",
       "stream": "stdout",
       "text": [
        " sbjv.5=>pst.pcp sbjv.6=>ipf.1"
       ]
      },
      {
       "output_type": "stream",
       "stream": "stdout",
       "text": [
        " sbjv.6=>ipf.2"
       ]
      },
      {
       "output_type": "stream",
       "stream": "stdout",
       "text": [
        " sbjv.6=>ipf.3"
       ]
      },
      {
       "output_type": "stream",
       "stream": "stdout",
       "text": [
        " sbjv.6=>ipf.4"
       ]
      },
      {
       "output_type": "stream",
       "stream": "stdout",
       "text": [
        " sbjv.6=>ipf.5"
       ]
      },
      {
       "output_type": "stream",
       "stream": "stdout",
       "text": [
        " sbjv.6=>ipf.6"
       ]
      },
      {
       "output_type": "stream",
       "stream": "stdout",
       "text": [
        " sbjv.6=>prs.1"
       ]
      },
      {
       "output_type": "stream",
       "stream": "stdout",
       "text": [
        " sbjv.6=>prs.2"
       ]
      },
      {
       "output_type": "stream",
       "stream": "stdout",
       "text": [
        " sbjv.6=>prs.3"
       ]
      },
      {
       "output_type": "stream",
       "stream": "stdout",
       "text": [
        " sbjv.6=>prs.4"
       ]
      },
      {
       "output_type": "stream",
       "stream": "stdout",
       "text": [
        " sbjv.6=>prs.5"
       ]
      },
      {
       "output_type": "stream",
       "stream": "stdout",
       "text": [
        " sbjv.6=>prs.6"
       ]
      },
      {
       "output_type": "stream",
       "stream": "stdout",
       "text": [
        " sbjv.6=>imp.2 sbjv.6=>imp.4"
       ]
      },
      {
       "output_type": "stream",
       "stream": "stdout",
       "text": [
        " sbjv.6=>imp.5"
       ]
      },
      {
       "output_type": "stream",
       "stream": "stdout",
       "text": [
        " sbjv.6=>sbjv.1"
       ]
      },
      {
       "output_type": "stream",
       "stream": "stdout",
       "text": [
        " sbjv.6=>sbjv.2 sbjv.6=>sbjv.3 sbjv.6=>sbjv.4 sbjv.6=>sbjv.5"
       ]
      },
      {
       "output_type": "stream",
       "stream": "stdout",
       "text": [
        " sbjv.6=>fut.1"
       ]
      },
      {
       "output_type": "stream",
       "stream": "stdout",
       "text": [
        " sbjv.6=>fut.2"
       ]
      },
      {
       "output_type": "stream",
       "stream": "stdout",
       "text": [
        " sbjv.6=>fut.3"
       ]
      },
      {
       "output_type": "stream",
       "stream": "stdout",
       "text": [
        " sbjv.6=>fut.4"
       ]
      },
      {
       "output_type": "stream",
       "stream": "stdout",
       "text": [
        " sbjv.6=>fut.5"
       ]
      },
      {
       "output_type": "stream",
       "stream": "stdout",
       "text": [
        " sbjv.6=>fut.6"
       ]
      },
      {
       "output_type": "stream",
       "stream": "stdout",
       "text": [
        " sbjv.6=>cond.1"
       ]
      },
      {
       "output_type": "stream",
       "stream": "stdout",
       "text": [
        " sbjv.6=>cond.2"
       ]
      },
      {
       "output_type": "stream",
       "stream": "stdout",
       "text": [
        " sbjv.6=>cond.3"
       ]
      },
      {
       "output_type": "stream",
       "stream": "stdout",
       "text": [
        " sbjv.6=>cond.4"
       ]
      },
      {
       "output_type": "stream",
       "stream": "stdout",
       "text": [
        " sbjv.6=>cond.5"
       ]
      },
      {
       "output_type": "stream",
       "stream": "stdout",
       "text": [
        " sbjv.6=>cond.6"
       ]
      },
      {
       "output_type": "stream",
       "stream": "stdout",
       "text": [
        " sbjv.6=>pst.1"
       ]
      },
      {
       "output_type": "stream",
       "stream": "stdout",
       "text": [
        " sbjv.6=>pst.2"
       ]
      },
      {
       "output_type": "stream",
       "stream": "stdout",
       "text": [
        " sbjv.6=>pst.3"
       ]
      },
      {
       "output_type": "stream",
       "stream": "stdout",
       "text": [
        " sbjv.6=>pst.4"
       ]
      },
      {
       "output_type": "stream",
       "stream": "stdout",
       "text": [
        " sbjv.6=>pst.5"
       ]
      },
      {
       "output_type": "stream",
       "stream": "stdout",
       "text": [
        " sbjv.6=>pst.6"
       ]
      },
      {
       "output_type": "stream",
       "stream": "stdout",
       "text": [
        " sbjv.6=>pst.sbj.1"
       ]
      },
      {
       "output_type": "stream",
       "stream": "stdout",
       "text": [
        " sbjv.6=>pst.sbj.2"
       ]
      },
      {
       "output_type": "stream",
       "stream": "stdout",
       "text": [
        " sbjv.6=>pst.sbj.3"
       ]
      },
      {
       "output_type": "stream",
       "stream": "stdout",
       "text": [
        " sbjv.6=>pst.sbj.4"
       ]
      },
      {
       "output_type": "stream",
       "stream": "stdout",
       "text": [
        " sbjv.6=>pst.sbj.5"
       ]
      },
      {
       "output_type": "stream",
       "stream": "stdout",
       "text": [
        " sbjv.6=>pst.sbj.6"
       ]
      },
      {
       "output_type": "stream",
       "stream": "stdout",
       "text": [
        " sbjv.6=>inf"
       ]
      },
      {
       "output_type": "stream",
       "stream": "stdout",
       "text": [
        " sbjv.6=>prs.pcp"
       ]
      },
      {
       "output_type": "stream",
       "stream": "stdout",
       "text": [
        " sbjv.6=>pst.pcp"
       ]
      },
      {
       "output_type": "stream",
       "stream": "stdout",
       "text": [
        " fut.1=>ipf.1"
       ]
      },
      {
       "output_type": "stream",
       "stream": "stdout",
       "text": [
        " fut.1=>ipf.2"
       ]
      },
      {
       "output_type": "stream",
       "stream": "stdout",
       "text": [
        " fut.1=>ipf.3"
       ]
      },
      {
       "output_type": "stream",
       "stream": "stdout",
       "text": [
        " fut.1=>ipf.4"
       ]
      },
      {
       "output_type": "stream",
       "stream": "stdout",
       "text": [
        " fut.1=>ipf.5"
       ]
      },
      {
       "output_type": "stream",
       "stream": "stdout",
       "text": [
        " fut.1=>ipf.6"
       ]
      },
      {
       "output_type": "stream",
       "stream": "stdout",
       "text": [
        " fut.1=>prs.1"
       ]
      },
      {
       "output_type": "stream",
       "stream": "stdout",
       "text": [
        " fut.1=>prs.2"
       ]
      },
      {
       "output_type": "stream",
       "stream": "stdout",
       "text": [
        " fut.1=>prs.3"
       ]
      },
      {
       "output_type": "stream",
       "stream": "stdout",
       "text": [
        " fut.1=>prs.4"
       ]
      },
      {
       "output_type": "stream",
       "stream": "stdout",
       "text": [
        " fut.1=>prs.5"
       ]
      },
      {
       "output_type": "stream",
       "stream": "stdout",
       "text": [
        " fut.1=>prs.6"
       ]
      },
      {
       "output_type": "stream",
       "stream": "stdout",
       "text": [
        " fut.1=>imp.2"
       ]
      },
      {
       "output_type": "stream",
       "stream": "stdout",
       "text": [
        " fut.1=>imp.4"
       ]
      },
      {
       "output_type": "stream",
       "stream": "stdout",
       "text": [
        " fut.1=>imp.5"
       ]
      },
      {
       "output_type": "stream",
       "stream": "stdout",
       "text": [
        " fut.1=>sbjv.1"
       ]
      },
      {
       "output_type": "stream",
       "stream": "stdout",
       "text": [
        " fut.1=>sbjv.2"
       ]
      },
      {
       "output_type": "stream",
       "stream": "stdout",
       "text": [
        " fut.1=>sbjv.3"
       ]
      },
      {
       "output_type": "stream",
       "stream": "stdout",
       "text": [
        " fut.1=>sbjv.4"
       ]
      },
      {
       "output_type": "stream",
       "stream": "stdout",
       "text": [
        " fut.1=>sbjv.5"
       ]
      },
      {
       "output_type": "stream",
       "stream": "stdout",
       "text": [
        " fut.1=>sbjv.6"
       ]
      },
      {
       "output_type": "stream",
       "stream": "stdout",
       "text": [
        " fut.1=>fut.2"
       ]
      },
      {
       "output_type": "stream",
       "stream": "stdout",
       "text": [
        " fut.1=>fut.3 fut.1=>fut.4 fut.1=>fut.5 fut.1=>fut.6 fut.1=>cond.1 fut.1=>cond.2 fut.1=>cond.3"
       ]
      },
      {
       "output_type": "stream",
       "stream": "stdout",
       "text": [
        " fut.1=>cond.4 fut.1=>cond.5 fut.1=>cond.6"
       ]
      },
      {
       "output_type": "stream",
       "stream": "stdout",
       "text": [
        " fut.1=>pst.1 fut.1=>pst.2"
       ]
      },
      {
       "output_type": "stream",
       "stream": "stdout",
       "text": [
        " fut.1=>pst.3"
       ]
      },
      {
       "output_type": "stream",
       "stream": "stdout",
       "text": [
        " fut.1=>pst.4"
       ]
      },
      {
       "output_type": "stream",
       "stream": "stdout",
       "text": [
        " fut.1=>pst.5"
       ]
      },
      {
       "output_type": "stream",
       "stream": "stdout",
       "text": [
        " fut.1=>pst.6"
       ]
      },
      {
       "output_type": "stream",
       "stream": "stdout",
       "text": [
        " fut.1=>pst.sbj.1"
       ]
      },
      {
       "output_type": "stream",
       "stream": "stdout",
       "text": [
        " fut.1=>pst.sbj.2"
       ]
      },
      {
       "output_type": "stream",
       "stream": "stdout",
       "text": [
        " fut.1=>pst.sbj.3"
       ]
      },
      {
       "output_type": "stream",
       "stream": "stdout",
       "text": [
        " fut.1=>pst.sbj.4"
       ]
      },
      {
       "output_type": "stream",
       "stream": "stdout",
       "text": [
        " fut.1=>pst.sbj.5"
       ]
      },
      {
       "output_type": "stream",
       "stream": "stdout",
       "text": [
        " fut.1=>pst.sbj.6"
       ]
      },
      {
       "output_type": "stream",
       "stream": "stdout",
       "text": [
        " fut.1=>inf"
       ]
      },
      {
       "output_type": "stream",
       "stream": "stdout",
       "text": [
        " fut.1=>prs.pcp"
       ]
      },
      {
       "output_type": "stream",
       "stream": "stdout",
       "text": [
        " fut.1=>pst.pcp"
       ]
      },
      {
       "output_type": "stream",
       "stream": "stdout",
       "text": [
        " fut.2=>ipf.1"
       ]
      },
      {
       "output_type": "stream",
       "stream": "stdout",
       "text": [
        " fut.2=>ipf.2"
       ]
      },
      {
       "output_type": "stream",
       "stream": "stdout",
       "text": [
        " fut.2=>ipf.3"
       ]
      },
      {
       "output_type": "stream",
       "stream": "stdout",
       "text": [
        " fut.2=>ipf.4"
       ]
      },
      {
       "output_type": "stream",
       "stream": "stdout",
       "text": [
        " fut.2=>ipf.5"
       ]
      },
      {
       "output_type": "stream",
       "stream": "stdout",
       "text": [
        " fut.2=>ipf.6"
       ]
      },
      {
       "output_type": "stream",
       "stream": "stdout",
       "text": [
        " fut.2=>prs.1"
       ]
      },
      {
       "output_type": "stream",
       "stream": "stdout",
       "text": [
        " fut.2=>prs.2"
       ]
      },
      {
       "output_type": "stream",
       "stream": "stdout",
       "text": [
        " fut.2=>prs.3"
       ]
      },
      {
       "output_type": "stream",
       "stream": "stdout",
       "text": [
        " fut.2=>prs.4"
       ]
      },
      {
       "output_type": "stream",
       "stream": "stdout",
       "text": [
        " fut.2=>prs.5"
       ]
      },
      {
       "output_type": "stream",
       "stream": "stdout",
       "text": [
        " fut.2=>prs.6"
       ]
      },
      {
       "output_type": "stream",
       "stream": "stdout",
       "text": [
        " fut.2=>imp.2"
       ]
      },
      {
       "output_type": "stream",
       "stream": "stdout",
       "text": [
        " fut.2=>imp.4"
       ]
      },
      {
       "output_type": "stream",
       "stream": "stdout",
       "text": [
        " fut.2=>imp.5"
       ]
      },
      {
       "output_type": "stream",
       "stream": "stdout",
       "text": [
        " fut.2=>sbjv.1"
       ]
      },
      {
       "output_type": "stream",
       "stream": "stdout",
       "text": [
        " fut.2=>sbjv.2"
       ]
      },
      {
       "output_type": "stream",
       "stream": "stdout",
       "text": [
        " fut.2=>sbjv.3"
       ]
      },
      {
       "output_type": "stream",
       "stream": "stdout",
       "text": [
        " fut.2=>sbjv.4"
       ]
      },
      {
       "output_type": "stream",
       "stream": "stdout",
       "text": [
        " fut.2=>sbjv.5"
       ]
      },
      {
       "output_type": "stream",
       "stream": "stdout",
       "text": [
        " fut.2=>sbjv.6"
       ]
      },
      {
       "output_type": "stream",
       "stream": "stdout",
       "text": [
        " fut.2=>fut.1"
       ]
      },
      {
       "output_type": "stream",
       "stream": "stdout",
       "text": [
        " fut.2=>fut.3 fut.2=>fut.4 fut.2=>fut.5 fut.2=>fut.6 fut.2=>cond.1 fut.2=>cond.2 fut.2=>cond.3"
       ]
      },
      {
       "output_type": "stream",
       "stream": "stdout",
       "text": [
        " fut.2=>cond.4 fut.2=>cond.5 fut.2=>cond.6"
       ]
      },
      {
       "output_type": "stream",
       "stream": "stdout",
       "text": [
        " fut.2=>pst.1 fut.2=>pst.2"
       ]
      },
      {
       "output_type": "stream",
       "stream": "stdout",
       "text": [
        " fut.2=>pst.3"
       ]
      },
      {
       "output_type": "stream",
       "stream": "stdout",
       "text": [
        " fut.2=>pst.4"
       ]
      },
      {
       "output_type": "stream",
       "stream": "stdout",
       "text": [
        " fut.2=>pst.5"
       ]
      },
      {
       "output_type": "stream",
       "stream": "stdout",
       "text": [
        " fut.2=>pst.6"
       ]
      },
      {
       "output_type": "stream",
       "stream": "stdout",
       "text": [
        " fut.2=>pst.sbj.1"
       ]
      },
      {
       "output_type": "stream",
       "stream": "stdout",
       "text": [
        " fut.2=>pst.sbj.2"
       ]
      },
      {
       "output_type": "stream",
       "stream": "stdout",
       "text": [
        " fut.2=>pst.sbj.3"
       ]
      },
      {
       "output_type": "stream",
       "stream": "stdout",
       "text": [
        " fut.2=>pst.sbj.4"
       ]
      },
      {
       "output_type": "stream",
       "stream": "stdout",
       "text": [
        " fut.2=>pst.sbj.5"
       ]
      },
      {
       "output_type": "stream",
       "stream": "stdout",
       "text": [
        " fut.2=>pst.sbj.6"
       ]
      },
      {
       "output_type": "stream",
       "stream": "stdout",
       "text": [
        " fut.2=>inf"
       ]
      },
      {
       "output_type": "stream",
       "stream": "stdout",
       "text": [
        " fut.2=>prs.pcp"
       ]
      },
      {
       "output_type": "stream",
       "stream": "stdout",
       "text": [
        " fut.2=>pst.pcp"
       ]
      },
      {
       "output_type": "stream",
       "stream": "stdout",
       "text": [
        " fut.3=>ipf.1"
       ]
      },
      {
       "output_type": "stream",
       "stream": "stdout",
       "text": [
        " fut.3=>ipf.2"
       ]
      },
      {
       "output_type": "stream",
       "stream": "stdout",
       "text": [
        " fut.3=>ipf.3"
       ]
      },
      {
       "output_type": "stream",
       "stream": "stdout",
       "text": [
        " fut.3=>ipf.4"
       ]
      },
      {
       "output_type": "stream",
       "stream": "stdout",
       "text": [
        " fut.3=>ipf.5"
       ]
      },
      {
       "output_type": "stream",
       "stream": "stdout",
       "text": [
        " fut.3=>ipf.6"
       ]
      },
      {
       "output_type": "stream",
       "stream": "stdout",
       "text": [
        " fut.3=>prs.1"
       ]
      },
      {
       "output_type": "stream",
       "stream": "stdout",
       "text": [
        " fut.3=>prs.2"
       ]
      },
      {
       "output_type": "stream",
       "stream": "stdout",
       "text": [
        " fut.3=>prs.3"
       ]
      },
      {
       "output_type": "stream",
       "stream": "stdout",
       "text": [
        " fut.3=>prs.4"
       ]
      },
      {
       "output_type": "stream",
       "stream": "stdout",
       "text": [
        " fut.3=>prs.5"
       ]
      },
      {
       "output_type": "stream",
       "stream": "stdout",
       "text": [
        " fut.3=>prs.6"
       ]
      },
      {
       "output_type": "stream",
       "stream": "stdout",
       "text": [
        " fut.3=>imp.2"
       ]
      },
      {
       "output_type": "stream",
       "stream": "stdout",
       "text": [
        " fut.3=>imp.4"
       ]
      },
      {
       "output_type": "stream",
       "stream": "stdout",
       "text": [
        " fut.3=>imp.5"
       ]
      },
      {
       "output_type": "stream",
       "stream": "stdout",
       "text": [
        " fut.3=>sbjv.1"
       ]
      },
      {
       "output_type": "stream",
       "stream": "stdout",
       "text": [
        " fut.3=>sbjv.2"
       ]
      },
      {
       "output_type": "stream",
       "stream": "stdout",
       "text": [
        " fut.3=>sbjv.3"
       ]
      },
      {
       "output_type": "stream",
       "stream": "stdout",
       "text": [
        " fut.3=>sbjv.4"
       ]
      },
      {
       "output_type": "stream",
       "stream": "stdout",
       "text": [
        " fut.3=>sbjv.5"
       ]
      },
      {
       "output_type": "stream",
       "stream": "stdout",
       "text": [
        " fut.3=>sbjv.6"
       ]
      },
      {
       "output_type": "stream",
       "stream": "stdout",
       "text": [
        " fut.3=>fut.1"
       ]
      },
      {
       "output_type": "stream",
       "stream": "stdout",
       "text": [
        " fut.3=>fut.2 fut.3=>fut.4 fut.3=>fut.5 fut.3=>fut.6 fut.3=>cond.1 fut.3=>cond.2"
       ]
      },
      {
       "output_type": "stream",
       "stream": "stdout",
       "text": [
        " fut.3=>cond.3 fut.3=>cond.4 fut.3=>cond.5"
       ]
      },
      {
       "output_type": "stream",
       "stream": "stdout",
       "text": [
        " fut.3=>cond.6 fut.3=>pst.1"
       ]
      },
      {
       "output_type": "stream",
       "stream": "stdout",
       "text": [
        " fut.3=>pst.2"
       ]
      },
      {
       "output_type": "stream",
       "stream": "stdout",
       "text": [
        " fut.3=>pst.3"
       ]
      },
      {
       "output_type": "stream",
       "stream": "stdout",
       "text": [
        " fut.3=>pst.4"
       ]
      },
      {
       "output_type": "stream",
       "stream": "stdout",
       "text": [
        " fut.3=>pst.5"
       ]
      },
      {
       "output_type": "stream",
       "stream": "stdout",
       "text": [
        " fut.3=>pst.6"
       ]
      },
      {
       "output_type": "stream",
       "stream": "stdout",
       "text": [
        " fut.3=>pst.sbj.1"
       ]
      },
      {
       "output_type": "stream",
       "stream": "stdout",
       "text": [
        " fut.3=>pst.sbj.2"
       ]
      },
      {
       "output_type": "stream",
       "stream": "stdout",
       "text": [
        " fut.3=>pst.sbj.3"
       ]
      },
      {
       "output_type": "stream",
       "stream": "stdout",
       "text": [
        " fut.3=>pst.sbj.4"
       ]
      },
      {
       "output_type": "stream",
       "stream": "stdout",
       "text": [
        " fut.3=>pst.sbj.5"
       ]
      },
      {
       "output_type": "stream",
       "stream": "stdout",
       "text": [
        " fut.3=>pst.sbj.6"
       ]
      },
      {
       "output_type": "stream",
       "stream": "stdout",
       "text": [
        " fut.3=>inf"
       ]
      },
      {
       "output_type": "stream",
       "stream": "stdout",
       "text": [
        " fut.3=>prs.pcp"
       ]
      },
      {
       "output_type": "stream",
       "stream": "stdout",
       "text": [
        " fut.3=>pst.pcp"
       ]
      },
      {
       "output_type": "stream",
       "stream": "stdout",
       "text": [
        " fut.4=>ipf.1"
       ]
      },
      {
       "output_type": "stream",
       "stream": "stdout",
       "text": [
        " fut.4=>ipf.2"
       ]
      },
      {
       "output_type": "stream",
       "stream": "stdout",
       "text": [
        " fut.4=>ipf.3"
       ]
      },
      {
       "output_type": "stream",
       "stream": "stdout",
       "text": [
        " fut.4=>ipf.4"
       ]
      },
      {
       "output_type": "stream",
       "stream": "stdout",
       "text": [
        " fut.4=>ipf.5"
       ]
      },
      {
       "output_type": "stream",
       "stream": "stdout",
       "text": [
        " fut.4=>ipf.6"
       ]
      },
      {
       "output_type": "stream",
       "stream": "stdout",
       "text": [
        " fut.4=>prs.1"
       ]
      },
      {
       "output_type": "stream",
       "stream": "stdout",
       "text": [
        " fut.4=>prs.2"
       ]
      },
      {
       "output_type": "stream",
       "stream": "stdout",
       "text": [
        " fut.4=>prs.3"
       ]
      },
      {
       "output_type": "stream",
       "stream": "stdout",
       "text": [
        " fut.4=>prs.4"
       ]
      },
      {
       "output_type": "stream",
       "stream": "stdout",
       "text": [
        " fut.4=>prs.5"
       ]
      },
      {
       "output_type": "stream",
       "stream": "stdout",
       "text": [
        " fut.4=>prs.6"
       ]
      },
      {
       "output_type": "stream",
       "stream": "stdout",
       "text": [
        " fut.4=>imp.2"
       ]
      },
      {
       "output_type": "stream",
       "stream": "stdout",
       "text": [
        " fut.4=>imp.4"
       ]
      },
      {
       "output_type": "stream",
       "stream": "stdout",
       "text": [
        " fut.4=>imp.5"
       ]
      },
      {
       "output_type": "stream",
       "stream": "stdout",
       "text": [
        " fut.4=>sbjv.1"
       ]
      },
      {
       "output_type": "stream",
       "stream": "stdout",
       "text": [
        " fut.4=>sbjv.2"
       ]
      },
      {
       "output_type": "stream",
       "stream": "stdout",
       "text": [
        " fut.4=>sbjv.3"
       ]
      },
      {
       "output_type": "stream",
       "stream": "stdout",
       "text": [
        " fut.4=>sbjv.4"
       ]
      },
      {
       "output_type": "stream",
       "stream": "stdout",
       "text": [
        " fut.4=>sbjv.5"
       ]
      },
      {
       "output_type": "stream",
       "stream": "stdout",
       "text": [
        " fut.4=>sbjv.6"
       ]
      },
      {
       "output_type": "stream",
       "stream": "stdout",
       "text": [
        " fut.4=>fut.1"
       ]
      },
      {
       "output_type": "stream",
       "stream": "stdout",
       "text": [
        " fut.4=>fut.2 fut.4=>fut.3 fut.4=>fut.5 fut.4=>fut.6 fut.4=>cond.1 fut.4=>cond.2"
       ]
      },
      {
       "output_type": "stream",
       "stream": "stdout",
       "text": [
        " fut.4=>cond.3 fut.4=>cond.4 fut.4=>cond.5"
       ]
      },
      {
       "output_type": "stream",
       "stream": "stdout",
       "text": [
        " fut.4=>cond.6 fut.4=>pst.1"
       ]
      },
      {
       "output_type": "stream",
       "stream": "stdout",
       "text": [
        " fut.4=>pst.2"
       ]
      },
      {
       "output_type": "stream",
       "stream": "stdout",
       "text": [
        " fut.4=>pst.3"
       ]
      },
      {
       "output_type": "stream",
       "stream": "stdout",
       "text": [
        " fut.4=>pst.4"
       ]
      },
      {
       "output_type": "stream",
       "stream": "stdout",
       "text": [
        " fut.4=>pst.5"
       ]
      },
      {
       "output_type": "stream",
       "stream": "stdout",
       "text": [
        " fut.4=>pst.6"
       ]
      },
      {
       "output_type": "stream",
       "stream": "stdout",
       "text": [
        " fut.4=>pst.sbj.1"
       ]
      },
      {
       "output_type": "stream",
       "stream": "stdout",
       "text": [
        " fut.4=>pst.sbj.2"
       ]
      },
      {
       "output_type": "stream",
       "stream": "stdout",
       "text": [
        " fut.4=>pst.sbj.3"
       ]
      },
      {
       "output_type": "stream",
       "stream": "stdout",
       "text": [
        " fut.4=>pst.sbj.4"
       ]
      },
      {
       "output_type": "stream",
       "stream": "stdout",
       "text": [
        " fut.4=>pst.sbj.5"
       ]
      },
      {
       "output_type": "stream",
       "stream": "stdout",
       "text": [
        " fut.4=>pst.sbj.6"
       ]
      },
      {
       "output_type": "stream",
       "stream": "stdout",
       "text": [
        " fut.4=>inf"
       ]
      },
      {
       "output_type": "stream",
       "stream": "stdout",
       "text": [
        " fut.4=>prs.pcp"
       ]
      },
      {
       "output_type": "stream",
       "stream": "stdout",
       "text": [
        " fut.4=>pst.pcp"
       ]
      },
      {
       "output_type": "stream",
       "stream": "stdout",
       "text": [
        " fut.5=>ipf.1"
       ]
      },
      {
       "output_type": "stream",
       "stream": "stdout",
       "text": [
        " fut.5=>ipf.2"
       ]
      },
      {
       "output_type": "stream",
       "stream": "stdout",
       "text": [
        " fut.5=>ipf.3"
       ]
      },
      {
       "output_type": "stream",
       "stream": "stdout",
       "text": [
        " fut.5=>ipf.4"
       ]
      },
      {
       "output_type": "stream",
       "stream": "stdout",
       "text": [
        " fut.5=>ipf.5"
       ]
      },
      {
       "output_type": "stream",
       "stream": "stdout",
       "text": [
        " fut.5=>ipf.6"
       ]
      },
      {
       "output_type": "stream",
       "stream": "stdout",
       "text": [
        " fut.5=>prs.1"
       ]
      },
      {
       "output_type": "stream",
       "stream": "stdout",
       "text": [
        " fut.5=>prs.2"
       ]
      },
      {
       "output_type": "stream",
       "stream": "stdout",
       "text": [
        " fut.5=>prs.3"
       ]
      },
      {
       "output_type": "stream",
       "stream": "stdout",
       "text": [
        " fut.5=>prs.4"
       ]
      },
      {
       "output_type": "stream",
       "stream": "stdout",
       "text": [
        " fut.5=>prs.5"
       ]
      },
      {
       "output_type": "stream",
       "stream": "stdout",
       "text": [
        " fut.5=>prs.6"
       ]
      },
      {
       "output_type": "stream",
       "stream": "stdout",
       "text": [
        " fut.5=>imp.2"
       ]
      },
      {
       "output_type": "stream",
       "stream": "stdout",
       "text": [
        " fut.5=>imp.4"
       ]
      },
      {
       "output_type": "stream",
       "stream": "stdout",
       "text": [
        " fut.5=>imp.5"
       ]
      },
      {
       "output_type": "stream",
       "stream": "stdout",
       "text": [
        " fut.5=>sbjv.1"
       ]
      },
      {
       "output_type": "stream",
       "stream": "stdout",
       "text": [
        " fut.5=>sbjv.2"
       ]
      },
      {
       "output_type": "stream",
       "stream": "stdout",
       "text": [
        " fut.5=>sbjv.3"
       ]
      },
      {
       "output_type": "stream",
       "stream": "stdout",
       "text": [
        " fut.5=>sbjv.4"
       ]
      },
      {
       "output_type": "stream",
       "stream": "stdout",
       "text": [
        " fut.5=>sbjv.5"
       ]
      },
      {
       "output_type": "stream",
       "stream": "stdout",
       "text": [
        " fut.5=>sbjv.6"
       ]
      },
      {
       "output_type": "stream",
       "stream": "stdout",
       "text": [
        " fut.5=>fut.1"
       ]
      },
      {
       "output_type": "stream",
       "stream": "stdout",
       "text": [
        " fut.5=>fut.2 fut.5=>fut.3 fut.5=>fut.4 fut.5=>fut.6 fut.5=>cond.1 fut.5=>cond.2"
       ]
      },
      {
       "output_type": "stream",
       "stream": "stdout",
       "text": [
        " fut.5=>cond.3 fut.5=>cond.4 fut.5=>cond.5"
       ]
      },
      {
       "output_type": "stream",
       "stream": "stdout",
       "text": [
        " fut.5=>cond.6 fut.5=>pst.1 fut.5=>pst.2"
       ]
      },
      {
       "output_type": "stream",
       "stream": "stdout",
       "text": [
        " fut.5=>pst.3"
       ]
      },
      {
       "output_type": "stream",
       "stream": "stdout",
       "text": [
        " fut.5=>pst.4"
       ]
      },
      {
       "output_type": "stream",
       "stream": "stdout",
       "text": [
        " fut.5=>pst.5"
       ]
      },
      {
       "output_type": "stream",
       "stream": "stdout",
       "text": [
        " fut.5=>pst.6"
       ]
      },
      {
       "output_type": "stream",
       "stream": "stdout",
       "text": [
        " fut.5=>pst.sbj.1"
       ]
      },
      {
       "output_type": "stream",
       "stream": "stdout",
       "text": [
        " fut.5=>pst.sbj.2"
       ]
      },
      {
       "output_type": "stream",
       "stream": "stdout",
       "text": [
        " fut.5=>pst.sbj.3"
       ]
      },
      {
       "output_type": "stream",
       "stream": "stdout",
       "text": [
        " fut.5=>pst.sbj.4"
       ]
      },
      {
       "output_type": "stream",
       "stream": "stdout",
       "text": [
        " fut.5=>pst.sbj.5"
       ]
      },
      {
       "output_type": "stream",
       "stream": "stdout",
       "text": [
        " fut.5=>pst.sbj.6"
       ]
      },
      {
       "output_type": "stream",
       "stream": "stdout",
       "text": [
        " fut.5=>inf"
       ]
      },
      {
       "output_type": "stream",
       "stream": "stdout",
       "text": [
        " fut.5=>prs.pcp"
       ]
      },
      {
       "output_type": "stream",
       "stream": "stdout",
       "text": [
        " fut.5=>pst.pcp"
       ]
      },
      {
       "output_type": "stream",
       "stream": "stdout",
       "text": [
        " fut.6=>ipf.1"
       ]
      },
      {
       "output_type": "stream",
       "stream": "stdout",
       "text": [
        " fut.6=>ipf.2"
       ]
      },
      {
       "output_type": "stream",
       "stream": "stdout",
       "text": [
        " fut.6=>ipf.3"
       ]
      },
      {
       "output_type": "stream",
       "stream": "stdout",
       "text": [
        " fut.6=>ipf.4"
       ]
      },
      {
       "output_type": "stream",
       "stream": "stdout",
       "text": [
        " fut.6=>ipf.5"
       ]
      },
      {
       "output_type": "stream",
       "stream": "stdout",
       "text": [
        " fut.6=>ipf.6"
       ]
      },
      {
       "output_type": "stream",
       "stream": "stdout",
       "text": [
        " fut.6=>prs.1"
       ]
      },
      {
       "output_type": "stream",
       "stream": "stdout",
       "text": [
        " fut.6=>prs.2"
       ]
      },
      {
       "output_type": "stream",
       "stream": "stdout",
       "text": [
        " fut.6=>prs.3"
       ]
      },
      {
       "output_type": "stream",
       "stream": "stdout",
       "text": [
        " fut.6=>prs.4"
       ]
      },
      {
       "output_type": "stream",
       "stream": "stdout",
       "text": [
        " fut.6=>prs.5"
       ]
      },
      {
       "output_type": "stream",
       "stream": "stdout",
       "text": [
        " fut.6=>prs.6"
       ]
      },
      {
       "output_type": "stream",
       "stream": "stdout",
       "text": [
        " fut.6=>imp.2"
       ]
      },
      {
       "output_type": "stream",
       "stream": "stdout",
       "text": [
        " fut.6=>imp.4"
       ]
      },
      {
       "output_type": "stream",
       "stream": "stdout",
       "text": [
        " fut.6=>imp.5"
       ]
      },
      {
       "output_type": "stream",
       "stream": "stdout",
       "text": [
        " fut.6=>sbjv.1"
       ]
      },
      {
       "output_type": "stream",
       "stream": "stdout",
       "text": [
        " fut.6=>sbjv.2"
       ]
      },
      {
       "output_type": "stream",
       "stream": "stdout",
       "text": [
        " fut.6=>sbjv.3"
       ]
      },
      {
       "output_type": "stream",
       "stream": "stdout",
       "text": [
        " fut.6=>sbjv.4"
       ]
      },
      {
       "output_type": "stream",
       "stream": "stdout",
       "text": [
        " fut.6=>sbjv.5"
       ]
      },
      {
       "output_type": "stream",
       "stream": "stdout",
       "text": [
        " fut.6=>sbjv.6"
       ]
      },
      {
       "output_type": "stream",
       "stream": "stdout",
       "text": [
        " fut.6=>fut.1"
       ]
      },
      {
       "output_type": "stream",
       "stream": "stdout",
       "text": [
        " fut.6=>fut.2 fut.6=>fut.3 fut.6=>fut.4 fut.6=>fut.5"
       ]
      },
      {
       "output_type": "stream",
       "stream": "stdout",
       "text": [
        " fut.6=>cond.1 fut.6=>cond.2 fut.6=>cond.3"
       ]
      },
      {
       "output_type": "stream",
       "stream": "stdout",
       "text": [
        " fut.6=>cond.4 fut.6=>cond.5"
       ]
      },
      {
       "output_type": "stream",
       "stream": "stdout",
       "text": [
        " fut.6=>cond.6 fut.6=>pst.1"
       ]
      },
      {
       "output_type": "stream",
       "stream": "stdout",
       "text": [
        " fut.6=>pst.2"
       ]
      },
      {
       "output_type": "stream",
       "stream": "stdout",
       "text": [
        " fut.6=>pst.3"
       ]
      },
      {
       "output_type": "stream",
       "stream": "stdout",
       "text": [
        " fut.6=>pst.4"
       ]
      },
      {
       "output_type": "stream",
       "stream": "stdout",
       "text": [
        " fut.6=>pst.5"
       ]
      },
      {
       "output_type": "stream",
       "stream": "stdout",
       "text": [
        " fut.6=>pst.6"
       ]
      },
      {
       "output_type": "stream",
       "stream": "stdout",
       "text": [
        " fut.6=>pst.sbj.1"
       ]
      },
      {
       "output_type": "stream",
       "stream": "stdout",
       "text": [
        " fut.6=>pst.sbj.2"
       ]
      },
      {
       "output_type": "stream",
       "stream": "stdout",
       "text": [
        " fut.6=>pst.sbj.3"
       ]
      },
      {
       "output_type": "stream",
       "stream": "stdout",
       "text": [
        " fut.6=>pst.sbj.4"
       ]
      },
      {
       "output_type": "stream",
       "stream": "stdout",
       "text": [
        " fut.6=>pst.sbj.5"
       ]
      },
      {
       "output_type": "stream",
       "stream": "stdout",
       "text": [
        " fut.6=>pst.sbj.6"
       ]
      },
      {
       "output_type": "stream",
       "stream": "stdout",
       "text": [
        " fut.6=>inf"
       ]
      },
      {
       "output_type": "stream",
       "stream": "stdout",
       "text": [
        " fut.6=>prs.pcp"
       ]
      },
      {
       "output_type": "stream",
       "stream": "stdout",
       "text": [
        " fut.6=>pst.pcp"
       ]
      },
      {
       "output_type": "stream",
       "stream": "stdout",
       "text": [
        " cond.1=>ipf.1"
       ]
      },
      {
       "output_type": "stream",
       "stream": "stdout",
       "text": [
        " cond.1=>ipf.2"
       ]
      },
      {
       "output_type": "stream",
       "stream": "stdout",
       "text": [
        " cond.1=>ipf.3"
       ]
      },
      {
       "output_type": "stream",
       "stream": "stdout",
       "text": [
        " cond.1=>ipf.4"
       ]
      },
      {
       "output_type": "stream",
       "stream": "stdout",
       "text": [
        " cond.1=>ipf.5"
       ]
      },
      {
       "output_type": "stream",
       "stream": "stdout",
       "text": [
        " cond.1=>ipf.6"
       ]
      },
      {
       "output_type": "stream",
       "stream": "stdout",
       "text": [
        " cond.1=>prs.1"
       ]
      },
      {
       "output_type": "stream",
       "stream": "stdout",
       "text": [
        " cond.1=>prs.2"
       ]
      },
      {
       "output_type": "stream",
       "stream": "stdout",
       "text": [
        " cond.1=>prs.3"
       ]
      },
      {
       "output_type": "stream",
       "stream": "stdout",
       "text": [
        " cond.1=>prs.4"
       ]
      },
      {
       "output_type": "stream",
       "stream": "stdout",
       "text": [
        " cond.1=>prs.5"
       ]
      },
      {
       "output_type": "stream",
       "stream": "stdout",
       "text": [
        " cond.1=>prs.6"
       ]
      },
      {
       "output_type": "stream",
       "stream": "stdout",
       "text": [
        " cond.1=>imp.2"
       ]
      },
      {
       "output_type": "stream",
       "stream": "stdout",
       "text": [
        " cond.1=>imp.4"
       ]
      },
      {
       "output_type": "stream",
       "stream": "stdout",
       "text": [
        " cond.1=>imp.5"
       ]
      },
      {
       "output_type": "stream",
       "stream": "stdout",
       "text": [
        " cond.1=>sbjv.1"
       ]
      },
      {
       "output_type": "stream",
       "stream": "stdout",
       "text": [
        " cond.1=>sbjv.2"
       ]
      },
      {
       "output_type": "stream",
       "stream": "stdout",
       "text": [
        " cond.1=>sbjv.3"
       ]
      },
      {
       "output_type": "stream",
       "stream": "stdout",
       "text": [
        " cond.1=>sbjv.4"
       ]
      },
      {
       "output_type": "stream",
       "stream": "stdout",
       "text": [
        " cond.1=>sbjv.5"
       ]
      },
      {
       "output_type": "stream",
       "stream": "stdout",
       "text": [
        " cond.1=>sbjv.6"
       ]
      },
      {
       "output_type": "stream",
       "stream": "stdout",
       "text": [
        " cond.1=>fut.1"
       ]
      },
      {
       "output_type": "stream",
       "stream": "stdout",
       "text": [
        " cond.1=>fut.2 cond.1=>fut.3 cond.1=>fut.4"
       ]
      },
      {
       "output_type": "stream",
       "stream": "stdout",
       "text": [
        " cond.1=>fut.5 cond.1=>fut.6 cond.1=>cond.2"
       ]
      },
      {
       "output_type": "stream",
       "stream": "stdout",
       "text": [
        " cond.1=>cond.3 cond.1=>cond.4 cond.1=>cond.5 cond.1=>cond.6 cond.1=>pst.1"
       ]
      },
      {
       "output_type": "stream",
       "stream": "stdout",
       "text": [
        " cond.1=>pst.2"
       ]
      },
      {
       "output_type": "stream",
       "stream": "stdout",
       "text": [
        " cond.1=>pst.3"
       ]
      },
      {
       "output_type": "stream",
       "stream": "stdout",
       "text": [
        " cond.1=>pst.4"
       ]
      },
      {
       "output_type": "stream",
       "stream": "stdout",
       "text": [
        " cond.1=>pst.5"
       ]
      },
      {
       "output_type": "stream",
       "stream": "stdout",
       "text": [
        " cond.1=>pst.6"
       ]
      },
      {
       "output_type": "stream",
       "stream": "stdout",
       "text": [
        " cond.1=>pst.sbj.1"
       ]
      },
      {
       "output_type": "stream",
       "stream": "stdout",
       "text": [
        " cond.1=>pst.sbj.2"
       ]
      },
      {
       "output_type": "stream",
       "stream": "stdout",
       "text": [
        " cond.1=>pst.sbj.3"
       ]
      },
      {
       "output_type": "stream",
       "stream": "stdout",
       "text": [
        " cond.1=>pst.sbj.4"
       ]
      },
      {
       "output_type": "stream",
       "stream": "stdout",
       "text": [
        " cond.1=>pst.sbj.5"
       ]
      },
      {
       "output_type": "stream",
       "stream": "stdout",
       "text": [
        " cond.1=>pst.sbj.6"
       ]
      },
      {
       "output_type": "stream",
       "stream": "stdout",
       "text": [
        " cond.1=>inf"
       ]
      },
      {
       "output_type": "stream",
       "stream": "stdout",
       "text": [
        " cond.1=>prs.pcp"
       ]
      },
      {
       "output_type": "stream",
       "stream": "stdout",
       "text": [
        " cond.1=>pst.pcp"
       ]
      },
      {
       "output_type": "stream",
       "stream": "stdout",
       "text": [
        " cond.2=>ipf.1"
       ]
      },
      {
       "output_type": "stream",
       "stream": "stdout",
       "text": [
        " cond.2=>ipf.2"
       ]
      },
      {
       "output_type": "stream",
       "stream": "stdout",
       "text": [
        " cond.2=>ipf.3"
       ]
      },
      {
       "output_type": "stream",
       "stream": "stdout",
       "text": [
        " cond.2=>ipf.4"
       ]
      },
      {
       "output_type": "stream",
       "stream": "stdout",
       "text": [
        " cond.2=>ipf.5"
       ]
      },
      {
       "output_type": "stream",
       "stream": "stdout",
       "text": [
        " cond.2=>ipf.6"
       ]
      },
      {
       "output_type": "stream",
       "stream": "stdout",
       "text": [
        " cond.2=>prs.1"
       ]
      },
      {
       "output_type": "stream",
       "stream": "stdout",
       "text": [
        " cond.2=>prs.2"
       ]
      },
      {
       "output_type": "stream",
       "stream": "stdout",
       "text": [
        " cond.2=>prs.3"
       ]
      },
      {
       "output_type": "stream",
       "stream": "stdout",
       "text": [
        " cond.2=>prs.4"
       ]
      },
      {
       "output_type": "stream",
       "stream": "stdout",
       "text": [
        " cond.2=>prs.5"
       ]
      },
      {
       "output_type": "stream",
       "stream": "stdout",
       "text": [
        " cond.2=>prs.6"
       ]
      },
      {
       "output_type": "stream",
       "stream": "stdout",
       "text": [
        " cond.2=>imp.2"
       ]
      },
      {
       "output_type": "stream",
       "stream": "stdout",
       "text": [
        " cond.2=>imp.4"
       ]
      },
      {
       "output_type": "stream",
       "stream": "stdout",
       "text": [
        " cond.2=>imp.5"
       ]
      },
      {
       "output_type": "stream",
       "stream": "stdout",
       "text": [
        " cond.2=>sbjv.1"
       ]
      },
      {
       "output_type": "stream",
       "stream": "stdout",
       "text": [
        " cond.2=>sbjv.2"
       ]
      },
      {
       "output_type": "stream",
       "stream": "stdout",
       "text": [
        " cond.2=>sbjv.3"
       ]
      },
      {
       "output_type": "stream",
       "stream": "stdout",
       "text": [
        " cond.2=>sbjv.4"
       ]
      },
      {
       "output_type": "stream",
       "stream": "stdout",
       "text": [
        " cond.2=>sbjv.5"
       ]
      },
      {
       "output_type": "stream",
       "stream": "stdout",
       "text": [
        " cond.2=>sbjv.6"
       ]
      },
      {
       "output_type": "stream",
       "stream": "stdout",
       "text": [
        " cond.2=>fut.1"
       ]
      },
      {
       "output_type": "stream",
       "stream": "stdout",
       "text": [
        " cond.2=>fut.2 cond.2=>fut.3 cond.2=>fut.4"
       ]
      },
      {
       "output_type": "stream",
       "stream": "stdout",
       "text": [
        " cond.2=>fut.5 cond.2=>fut.6 cond.2=>cond.1"
       ]
      },
      {
       "output_type": "stream",
       "stream": "stdout",
       "text": [
        " cond.2=>cond.3 cond.2=>cond.4 cond.2=>cond.5 cond.2=>cond.6 cond.2=>pst.1 cond.2=>pst.2"
       ]
      },
      {
       "output_type": "stream",
       "stream": "stdout",
       "text": [
        " cond.2=>pst.3"
       ]
      },
      {
       "output_type": "stream",
       "stream": "stdout",
       "text": [
        " cond.2=>pst.4"
       ]
      },
      {
       "output_type": "stream",
       "stream": "stdout",
       "text": [
        " cond.2=>pst.5"
       ]
      },
      {
       "output_type": "stream",
       "stream": "stdout",
       "text": [
        " cond.2=>pst.6"
       ]
      },
      {
       "output_type": "stream",
       "stream": "stdout",
       "text": [
        " cond.2=>pst.sbj.1"
       ]
      },
      {
       "output_type": "stream",
       "stream": "stdout",
       "text": [
        " cond.2=>pst.sbj.2"
       ]
      },
      {
       "output_type": "stream",
       "stream": "stdout",
       "text": [
        " cond.2=>pst.sbj.3"
       ]
      },
      {
       "output_type": "stream",
       "stream": "stdout",
       "text": [
        " cond.2=>pst.sbj.4"
       ]
      },
      {
       "output_type": "stream",
       "stream": "stdout",
       "text": [
        " cond.2=>pst.sbj.5"
       ]
      },
      {
       "output_type": "stream",
       "stream": "stdout",
       "text": [
        " cond.2=>pst.sbj.6"
       ]
      },
      {
       "output_type": "stream",
       "stream": "stdout",
       "text": [
        " cond.2=>inf"
       ]
      },
      {
       "output_type": "stream",
       "stream": "stdout",
       "text": [
        " cond.2=>prs.pcp"
       ]
      },
      {
       "output_type": "stream",
       "stream": "stdout",
       "text": [
        " cond.2=>pst.pcp"
       ]
      },
      {
       "output_type": "stream",
       "stream": "stdout",
       "text": [
        " cond.3=>ipf.1"
       ]
      },
      {
       "output_type": "stream",
       "stream": "stdout",
       "text": [
        " cond.3=>ipf.2"
       ]
      },
      {
       "output_type": "stream",
       "stream": "stdout",
       "text": [
        " cond.3=>ipf.3"
       ]
      },
      {
       "output_type": "stream",
       "stream": "stdout",
       "text": [
        " cond.3=>ipf.4"
       ]
      },
      {
       "output_type": "stream",
       "stream": "stdout",
       "text": [
        " cond.3=>ipf.5"
       ]
      },
      {
       "output_type": "stream",
       "stream": "stdout",
       "text": [
        " cond.3=>ipf.6"
       ]
      },
      {
       "output_type": "stream",
       "stream": "stdout",
       "text": [
        " cond.3=>prs.1"
       ]
      },
      {
       "output_type": "stream",
       "stream": "stdout",
       "text": [
        " cond.3=>prs.2"
       ]
      },
      {
       "output_type": "stream",
       "stream": "stdout",
       "text": [
        " cond.3=>prs.3"
       ]
      },
      {
       "output_type": "stream",
       "stream": "stdout",
       "text": [
        " cond.3=>prs.4"
       ]
      },
      {
       "output_type": "stream",
       "stream": "stdout",
       "text": [
        " cond.3=>prs.5"
       ]
      },
      {
       "output_type": "stream",
       "stream": "stdout",
       "text": [
        " cond.3=>prs.6"
       ]
      },
      {
       "output_type": "stream",
       "stream": "stdout",
       "text": [
        " cond.3=>imp.2"
       ]
      },
      {
       "output_type": "stream",
       "stream": "stdout",
       "text": [
        " cond.3=>imp.4"
       ]
      },
      {
       "output_type": "stream",
       "stream": "stdout",
       "text": [
        " cond.3=>imp.5"
       ]
      },
      {
       "output_type": "stream",
       "stream": "stdout",
       "text": [
        " cond.3=>sbjv.1"
       ]
      },
      {
       "output_type": "stream",
       "stream": "stdout",
       "text": [
        " cond.3=>sbjv.2"
       ]
      },
      {
       "output_type": "stream",
       "stream": "stdout",
       "text": [
        " cond.3=>sbjv.3"
       ]
      },
      {
       "output_type": "stream",
       "stream": "stdout",
       "text": [
        " cond.3=>sbjv.4"
       ]
      },
      {
       "output_type": "stream",
       "stream": "stdout",
       "text": [
        " cond.3=>sbjv.5"
       ]
      },
      {
       "output_type": "stream",
       "stream": "stdout",
       "text": [
        " cond.3=>sbjv.6"
       ]
      },
      {
       "output_type": "stream",
       "stream": "stdout",
       "text": [
        " cond.3=>fut.1"
       ]
      },
      {
       "output_type": "stream",
       "stream": "stdout",
       "text": [
        " cond.3=>fut.2 cond.3=>fut.3 cond.3=>fut.4 cond.3=>fut.5"
       ]
      },
      {
       "output_type": "stream",
       "stream": "stdout",
       "text": [
        " cond.3=>fut.6 cond.3=>cond.1 cond.3=>cond.2 cond.3=>cond.4"
       ]
      },
      {
       "output_type": "stream",
       "stream": "stdout",
       "text": [
        " cond.3=>cond.5 cond.3=>cond.6 cond.3=>pst.1"
       ]
      },
      {
       "output_type": "stream",
       "stream": "stdout",
       "text": [
        " cond.3=>pst.2"
       ]
      },
      {
       "output_type": "stream",
       "stream": "stdout",
       "text": [
        " cond.3=>pst.3"
       ]
      },
      {
       "output_type": "stream",
       "stream": "stdout",
       "text": [
        " cond.3=>pst.4"
       ]
      },
      {
       "output_type": "stream",
       "stream": "stdout",
       "text": [
        " cond.3=>pst.5"
       ]
      },
      {
       "output_type": "stream",
       "stream": "stdout",
       "text": [
        " cond.3=>pst.6"
       ]
      },
      {
       "output_type": "stream",
       "stream": "stdout",
       "text": [
        " cond.3=>pst.sbj.1"
       ]
      },
      {
       "output_type": "stream",
       "stream": "stdout",
       "text": [
        " cond.3=>pst.sbj.2"
       ]
      },
      {
       "output_type": "stream",
       "stream": "stdout",
       "text": [
        " cond.3=>pst.sbj.3"
       ]
      },
      {
       "output_type": "stream",
       "stream": "stdout",
       "text": [
        " cond.3=>pst.sbj.4"
       ]
      },
      {
       "output_type": "stream",
       "stream": "stdout",
       "text": [
        " cond.3=>pst.sbj.5"
       ]
      },
      {
       "output_type": "stream",
       "stream": "stdout",
       "text": [
        " cond.3=>pst.sbj.6"
       ]
      },
      {
       "output_type": "stream",
       "stream": "stdout",
       "text": [
        " cond.3=>inf"
       ]
      },
      {
       "output_type": "stream",
       "stream": "stdout",
       "text": [
        " cond.3=>prs.pcp"
       ]
      },
      {
       "output_type": "stream",
       "stream": "stdout",
       "text": [
        " cond.3=>pst.pcp"
       ]
      },
      {
       "output_type": "stream",
       "stream": "stdout",
       "text": [
        " cond.4=>ipf.1"
       ]
      },
      {
       "output_type": "stream",
       "stream": "stdout",
       "text": [
        " cond.4=>ipf.2"
       ]
      },
      {
       "output_type": "stream",
       "stream": "stdout",
       "text": [
        " cond.4=>ipf.3"
       ]
      },
      {
       "output_type": "stream",
       "stream": "stdout",
       "text": [
        " cond.4=>ipf.4"
       ]
      },
      {
       "output_type": "stream",
       "stream": "stdout",
       "text": [
        " cond.4=>ipf.5"
       ]
      },
      {
       "output_type": "stream",
       "stream": "stdout",
       "text": [
        " cond.4=>ipf.6"
       ]
      },
      {
       "output_type": "stream",
       "stream": "stdout",
       "text": [
        " cond.4=>prs.1"
       ]
      },
      {
       "output_type": "stream",
       "stream": "stdout",
       "text": [
        " cond.4=>prs.2"
       ]
      },
      {
       "output_type": "stream",
       "stream": "stdout",
       "text": [
        " cond.4=>prs.3"
       ]
      },
      {
       "output_type": "stream",
       "stream": "stdout",
       "text": [
        " cond.4=>prs.4"
       ]
      },
      {
       "output_type": "stream",
       "stream": "stdout",
       "text": [
        " cond.4=>prs.5"
       ]
      },
      {
       "output_type": "stream",
       "stream": "stdout",
       "text": [
        " cond.4=>prs.6"
       ]
      },
      {
       "output_type": "stream",
       "stream": "stdout",
       "text": [
        " cond.4=>imp.2"
       ]
      },
      {
       "output_type": "stream",
       "stream": "stdout",
       "text": [
        " cond.4=>imp.4"
       ]
      },
      {
       "output_type": "stream",
       "stream": "stdout",
       "text": [
        " cond.4=>imp.5"
       ]
      },
      {
       "output_type": "stream",
       "stream": "stdout",
       "text": [
        " cond.4=>sbjv.1"
       ]
      },
      {
       "output_type": "stream",
       "stream": "stdout",
       "text": [
        " cond.4=>sbjv.2"
       ]
      },
      {
       "output_type": "stream",
       "stream": "stdout",
       "text": [
        " cond.4=>sbjv.3"
       ]
      },
      {
       "output_type": "stream",
       "stream": "stdout",
       "text": [
        " cond.4=>sbjv.4"
       ]
      },
      {
       "output_type": "stream",
       "stream": "stdout",
       "text": [
        " cond.4=>sbjv.5"
       ]
      },
      {
       "output_type": "stream",
       "stream": "stdout",
       "text": [
        " cond.4=>sbjv.6"
       ]
      },
      {
       "output_type": "stream",
       "stream": "stdout",
       "text": [
        " cond.4=>fut.1"
       ]
      },
      {
       "output_type": "stream",
       "stream": "stdout",
       "text": [
        " cond.4=>fut.2 cond.4=>fut.3"
       ]
      },
      {
       "output_type": "stream",
       "stream": "stdout",
       "text": [
        " cond.4=>fut.4 cond.4=>fut.5"
       ]
      },
      {
       "output_type": "stream",
       "stream": "stdout",
       "text": [
        " cond.4=>fut.6 cond.4=>cond.1"
       ]
      },
      {
       "output_type": "stream",
       "stream": "stdout",
       "text": [
        " cond.4=>cond.2 cond.4=>cond.3 cond.4=>cond.5"
       ]
      },
      {
       "output_type": "stream",
       "stream": "stdout",
       "text": [
        " cond.4=>cond.6 cond.4=>pst.1 cond.4=>pst.2"
       ]
      },
      {
       "output_type": "stream",
       "stream": "stdout",
       "text": [
        " cond.4=>pst.3"
       ]
      },
      {
       "output_type": "stream",
       "stream": "stdout",
       "text": [
        " cond.4=>pst.4"
       ]
      },
      {
       "output_type": "stream",
       "stream": "stdout",
       "text": [
        " cond.4=>pst.5"
       ]
      },
      {
       "output_type": "stream",
       "stream": "stdout",
       "text": [
        " cond.4=>pst.6"
       ]
      },
      {
       "output_type": "stream",
       "stream": "stdout",
       "text": [
        " cond.4=>pst.sbj.1"
       ]
      },
      {
       "output_type": "stream",
       "stream": "stdout",
       "text": [
        " cond.4=>pst.sbj.2"
       ]
      },
      {
       "output_type": "stream",
       "stream": "stdout",
       "text": [
        " cond.4=>pst.sbj.3"
       ]
      },
      {
       "output_type": "stream",
       "stream": "stdout",
       "text": [
        " cond.4=>pst.sbj.4"
       ]
      },
      {
       "output_type": "stream",
       "stream": "stdout",
       "text": [
        " cond.4=>pst.sbj.5"
       ]
      },
      {
       "output_type": "stream",
       "stream": "stdout",
       "text": [
        " cond.4=>pst.sbj.6"
       ]
      },
      {
       "output_type": "stream",
       "stream": "stdout",
       "text": [
        " cond.4=>inf"
       ]
      },
      {
       "output_type": "stream",
       "stream": "stdout",
       "text": [
        " cond.4=>prs.pcp"
       ]
      },
      {
       "output_type": "stream",
       "stream": "stdout",
       "text": [
        " cond.4=>pst.pcp"
       ]
      },
      {
       "output_type": "stream",
       "stream": "stdout",
       "text": [
        " cond.5=>ipf.1"
       ]
      },
      {
       "output_type": "stream",
       "stream": "stdout",
       "text": [
        " cond.5=>ipf.2"
       ]
      },
      {
       "output_type": "stream",
       "stream": "stdout",
       "text": [
        " cond.5=>ipf.3"
       ]
      },
      {
       "output_type": "stream",
       "stream": "stdout",
       "text": [
        " cond.5=>ipf.4"
       ]
      },
      {
       "output_type": "stream",
       "stream": "stdout",
       "text": [
        " cond.5=>ipf.5"
       ]
      },
      {
       "output_type": "stream",
       "stream": "stdout",
       "text": [
        " cond.5=>ipf.6"
       ]
      },
      {
       "output_type": "stream",
       "stream": "stdout",
       "text": [
        " cond.5=>prs.1"
       ]
      },
      {
       "output_type": "stream",
       "stream": "stdout",
       "text": [
        " cond.5=>prs.2"
       ]
      },
      {
       "output_type": "stream",
       "stream": "stdout",
       "text": [
        " cond.5=>prs.3"
       ]
      },
      {
       "output_type": "stream",
       "stream": "stdout",
       "text": [
        " cond.5=>prs.4"
       ]
      },
      {
       "output_type": "stream",
       "stream": "stdout",
       "text": [
        " cond.5=>prs.5"
       ]
      },
      {
       "output_type": "stream",
       "stream": "stdout",
       "text": [
        " cond.5=>prs.6"
       ]
      },
      {
       "output_type": "stream",
       "stream": "stdout",
       "text": [
        " cond.5=>imp.2"
       ]
      },
      {
       "output_type": "stream",
       "stream": "stdout",
       "text": [
        " cond.5=>imp.4"
       ]
      },
      {
       "output_type": "stream",
       "stream": "stdout",
       "text": [
        " cond.5=>imp.5"
       ]
      },
      {
       "output_type": "stream",
       "stream": "stdout",
       "text": [
        " cond.5=>sbjv.1"
       ]
      },
      {
       "output_type": "stream",
       "stream": "stdout",
       "text": [
        " cond.5=>sbjv.2"
       ]
      },
      {
       "output_type": "stream",
       "stream": "stdout",
       "text": [
        " cond.5=>sbjv.3"
       ]
      },
      {
       "output_type": "stream",
       "stream": "stdout",
       "text": [
        " cond.5=>sbjv.4"
       ]
      },
      {
       "output_type": "stream",
       "stream": "stdout",
       "text": [
        " cond.5=>sbjv.5"
       ]
      },
      {
       "output_type": "stream",
       "stream": "stdout",
       "text": [
        " cond.5=>sbjv.6"
       ]
      },
      {
       "output_type": "stream",
       "stream": "stdout",
       "text": [
        " cond.5=>fut.1"
       ]
      },
      {
       "output_type": "stream",
       "stream": "stdout",
       "text": [
        " cond.5=>fut.2 cond.5=>fut.3"
       ]
      },
      {
       "output_type": "stream",
       "stream": "stdout",
       "text": [
        " cond.5=>fut.4 cond.5=>fut.5"
       ]
      },
      {
       "output_type": "stream",
       "stream": "stdout",
       "text": [
        " cond.5=>fut.6"
       ]
      },
      {
       "output_type": "stream",
       "stream": "stdout",
       "text": [
        " cond.5=>cond.1"
       ]
      },
      {
       "output_type": "stream",
       "stream": "stdout",
       "text": [
        " cond.5=>cond.2 cond.5=>cond.3"
       ]
      },
      {
       "output_type": "stream",
       "stream": "stdout",
       "text": [
        " cond.5=>cond.4 cond.5=>cond.6"
       ]
      },
      {
       "output_type": "stream",
       "stream": "stdout",
       "text": [
        " cond.5=>pst.1 cond.5=>pst.2"
       ]
      },
      {
       "output_type": "stream",
       "stream": "stdout",
       "text": [
        " cond.5=>pst.3"
       ]
      },
      {
       "output_type": "stream",
       "stream": "stdout",
       "text": [
        " cond.5=>pst.4"
       ]
      },
      {
       "output_type": "stream",
       "stream": "stdout",
       "text": [
        " cond.5=>pst.5"
       ]
      },
      {
       "output_type": "stream",
       "stream": "stdout",
       "text": [
        " cond.5=>pst.6"
       ]
      },
      {
       "output_type": "stream",
       "stream": "stdout",
       "text": [
        " cond.5=>pst.sbj.1"
       ]
      },
      {
       "output_type": "stream",
       "stream": "stdout",
       "text": [
        " cond.5=>pst.sbj.2"
       ]
      },
      {
       "output_type": "stream",
       "stream": "stdout",
       "text": [
        " cond.5=>pst.sbj.3"
       ]
      },
      {
       "output_type": "stream",
       "stream": "stdout",
       "text": [
        " cond.5=>pst.sbj.4"
       ]
      },
      {
       "output_type": "stream",
       "stream": "stdout",
       "text": [
        " cond.5=>pst.sbj.5"
       ]
      },
      {
       "output_type": "stream",
       "stream": "stdout",
       "text": [
        " cond.5=>pst.sbj.6"
       ]
      },
      {
       "output_type": "stream",
       "stream": "stdout",
       "text": [
        " cond.5=>inf"
       ]
      },
      {
       "output_type": "stream",
       "stream": "stdout",
       "text": [
        " cond.5=>prs.pcp"
       ]
      },
      {
       "output_type": "stream",
       "stream": "stdout",
       "text": [
        " cond.5=>pst.pcp"
       ]
      },
      {
       "output_type": "stream",
       "stream": "stdout",
       "text": [
        " cond.6=>ipf.1"
       ]
      },
      {
       "output_type": "stream",
       "stream": "stdout",
       "text": [
        " cond.6=>ipf.2"
       ]
      },
      {
       "output_type": "stream",
       "stream": "stdout",
       "text": [
        " cond.6=>ipf.3"
       ]
      },
      {
       "output_type": "stream",
       "stream": "stdout",
       "text": [
        " cond.6=>ipf.4"
       ]
      },
      {
       "output_type": "stream",
       "stream": "stdout",
       "text": [
        " cond.6=>ipf.5"
       ]
      },
      {
       "output_type": "stream",
       "stream": "stdout",
       "text": [
        " cond.6=>ipf.6"
       ]
      },
      {
       "output_type": "stream",
       "stream": "stdout",
       "text": [
        " cond.6=>prs.1"
       ]
      },
      {
       "output_type": "stream",
       "stream": "stdout",
       "text": [
        " cond.6=>prs.2"
       ]
      },
      {
       "output_type": "stream",
       "stream": "stdout",
       "text": [
        " cond.6=>prs.3"
       ]
      },
      {
       "output_type": "stream",
       "stream": "stdout",
       "text": [
        " cond.6=>prs.4"
       ]
      },
      {
       "output_type": "stream",
       "stream": "stdout",
       "text": [
        " cond.6=>prs.5"
       ]
      },
      {
       "output_type": "stream",
       "stream": "stdout",
       "text": [
        " cond.6=>prs.6"
       ]
      },
      {
       "output_type": "stream",
       "stream": "stdout",
       "text": [
        " cond.6=>imp.2"
       ]
      },
      {
       "output_type": "stream",
       "stream": "stdout",
       "text": [
        " cond.6=>imp.4"
       ]
      },
      {
       "output_type": "stream",
       "stream": "stdout",
       "text": [
        " cond.6=>imp.5"
       ]
      },
      {
       "output_type": "stream",
       "stream": "stdout",
       "text": [
        " cond.6=>sbjv.1"
       ]
      },
      {
       "output_type": "stream",
       "stream": "stdout",
       "text": [
        " cond.6=>sbjv.2"
       ]
      },
      {
       "output_type": "stream",
       "stream": "stdout",
       "text": [
        " cond.6=>sbjv.3"
       ]
      },
      {
       "output_type": "stream",
       "stream": "stdout",
       "text": [
        " cond.6=>sbjv.4"
       ]
      },
      {
       "output_type": "stream",
       "stream": "stdout",
       "text": [
        " cond.6=>sbjv.5"
       ]
      },
      {
       "output_type": "stream",
       "stream": "stdout",
       "text": [
        " cond.6=>sbjv.6"
       ]
      },
      {
       "output_type": "stream",
       "stream": "stdout",
       "text": [
        " cond.6=>fut.1"
       ]
      },
      {
       "output_type": "stream",
       "stream": "stdout",
       "text": [
        " cond.6=>fut.2 cond.6=>fut.3 cond.6=>fut.4"
       ]
      },
      {
       "output_type": "stream",
       "stream": "stdout",
       "text": [
        " cond.6=>fut.5 cond.6=>fut.6"
       ]
      },
      {
       "output_type": "stream",
       "stream": "stdout",
       "text": [
        " cond.6=>cond.1 cond.6=>cond.2 cond.6=>cond.3 cond.6=>cond.4"
       ]
      },
      {
       "output_type": "stream",
       "stream": "stdout",
       "text": [
        " cond.6=>cond.5 cond.6=>pst.1 cond.6=>pst.2"
       ]
      },
      {
       "output_type": "stream",
       "stream": "stdout",
       "text": [
        " cond.6=>pst.3"
       ]
      },
      {
       "output_type": "stream",
       "stream": "stdout",
       "text": [
        " cond.6=>pst.4"
       ]
      },
      {
       "output_type": "stream",
       "stream": "stdout",
       "text": [
        " cond.6=>pst.5"
       ]
      },
      {
       "output_type": "stream",
       "stream": "stdout",
       "text": [
        " cond.6=>pst.6"
       ]
      },
      {
       "output_type": "stream",
       "stream": "stdout",
       "text": [
        " cond.6=>pst.sbj.1"
       ]
      },
      {
       "output_type": "stream",
       "stream": "stdout",
       "text": [
        " cond.6=>pst.sbj.2"
       ]
      },
      {
       "output_type": "stream",
       "stream": "stdout",
       "text": [
        " cond.6=>pst.sbj.3"
       ]
      },
      {
       "output_type": "stream",
       "stream": "stdout",
       "text": [
        " cond.6=>pst.sbj.4"
       ]
      },
      {
       "output_type": "stream",
       "stream": "stdout",
       "text": [
        " cond.6=>pst.sbj.5"
       ]
      },
      {
       "output_type": "stream",
       "stream": "stdout",
       "text": [
        " cond.6=>pst.sbj.6"
       ]
      },
      {
       "output_type": "stream",
       "stream": "stdout",
       "text": [
        " cond.6=>inf"
       ]
      },
      {
       "output_type": "stream",
       "stream": "stdout",
       "text": [
        " cond.6=>prs.pcp"
       ]
      },
      {
       "output_type": "stream",
       "stream": "stdout",
       "text": [
        " cond.6=>pst.pcp"
       ]
      },
      {
       "output_type": "stream",
       "stream": "stdout",
       "text": [
        " pst.1=>ipf.1"
       ]
      },
      {
       "output_type": "stream",
       "stream": "stdout",
       "text": [
        " pst.1=>ipf.2"
       ]
      },
      {
       "output_type": "stream",
       "stream": "stdout",
       "text": [
        " pst.1=>ipf.3"
       ]
      },
      {
       "output_type": "stream",
       "stream": "stdout",
       "text": [
        " pst.1=>ipf.4"
       ]
      },
      {
       "output_type": "stream",
       "stream": "stdout",
       "text": [
        " pst.1=>ipf.5"
       ]
      },
      {
       "output_type": "stream",
       "stream": "stdout",
       "text": [
        " pst.1=>ipf.6"
       ]
      },
      {
       "output_type": "stream",
       "stream": "stdout",
       "text": [
        " pst.1=>prs.1"
       ]
      },
      {
       "output_type": "stream",
       "stream": "stdout",
       "text": [
        " pst.1=>prs.2"
       ]
      },
      {
       "output_type": "stream",
       "stream": "stdout",
       "text": [
        " pst.1=>prs.3"
       ]
      },
      {
       "output_type": "stream",
       "stream": "stdout",
       "text": [
        " pst.1=>prs.4"
       ]
      },
      {
       "output_type": "stream",
       "stream": "stdout",
       "text": [
        " pst.1=>prs.5"
       ]
      },
      {
       "output_type": "stream",
       "stream": "stdout",
       "text": [
        " pst.1=>prs.6"
       ]
      },
      {
       "output_type": "stream",
       "stream": "stdout",
       "text": [
        " pst.1=>imp.2"
       ]
      },
      {
       "output_type": "stream",
       "stream": "stdout",
       "text": [
        " pst.1=>imp.4"
       ]
      },
      {
       "output_type": "stream",
       "stream": "stdout",
       "text": [
        " pst.1=>imp.5"
       ]
      },
      {
       "output_type": "stream",
       "stream": "stdout",
       "text": [
        " pst.1=>sbjv.1"
       ]
      },
      {
       "output_type": "stream",
       "stream": "stdout",
       "text": [
        " pst.1=>sbjv.2"
       ]
      },
      {
       "output_type": "stream",
       "stream": "stdout",
       "text": [
        " pst.1=>sbjv.3"
       ]
      },
      {
       "output_type": "stream",
       "stream": "stdout",
       "text": [
        " pst.1=>sbjv.4"
       ]
      },
      {
       "output_type": "stream",
       "stream": "stdout",
       "text": [
        " pst.1=>sbjv.5"
       ]
      },
      {
       "output_type": "stream",
       "stream": "stdout",
       "text": [
        " pst.1=>sbjv.6"
       ]
      },
      {
       "output_type": "stream",
       "stream": "stdout",
       "text": [
        " pst.1=>fut.1"
       ]
      },
      {
       "output_type": "stream",
       "stream": "stdout",
       "text": [
        " pst.1=>fut.2"
       ]
      },
      {
       "output_type": "stream",
       "stream": "stdout",
       "text": [
        " pst.1=>fut.3"
       ]
      },
      {
       "output_type": "stream",
       "stream": "stdout",
       "text": [
        " pst.1=>fut.4"
       ]
      },
      {
       "output_type": "stream",
       "stream": "stdout",
       "text": [
        " pst.1=>fut.5"
       ]
      },
      {
       "output_type": "stream",
       "stream": "stdout",
       "text": [
        " pst.1=>fut.6"
       ]
      },
      {
       "output_type": "stream",
       "stream": "stdout",
       "text": [
        " pst.1=>cond.1"
       ]
      },
      {
       "output_type": "stream",
       "stream": "stdout",
       "text": [
        " pst.1=>cond.2"
       ]
      },
      {
       "output_type": "stream",
       "stream": "stdout",
       "text": [
        " pst.1=>cond.3"
       ]
      },
      {
       "output_type": "stream",
       "stream": "stdout",
       "text": [
        " pst.1=>cond.4"
       ]
      },
      {
       "output_type": "stream",
       "stream": "stdout",
       "text": [
        " pst.1=>cond.5"
       ]
      },
      {
       "output_type": "stream",
       "stream": "stdout",
       "text": [
        " pst.1=>cond.6"
       ]
      },
      {
       "output_type": "stream",
       "stream": "stdout",
       "text": [
        " pst.1=>pst.2"
       ]
      },
      {
       "output_type": "stream",
       "stream": "stdout",
       "text": [
        " pst.1=>pst.3 pst.1=>pst.4 pst.1=>pst.5 pst.1=>pst.6 pst.1=>pst.sbj.1"
       ]
      },
      {
       "output_type": "stream",
       "stream": "stdout",
       "text": [
        " pst.1=>pst.sbj.2 pst.1=>pst.sbj.3 pst.1=>pst.sbj.4"
       ]
      },
      {
       "output_type": "stream",
       "stream": "stdout",
       "text": [
        " pst.1=>pst.sbj.5 pst.1=>pst.sbj.6"
       ]
      },
      {
       "output_type": "stream",
       "stream": "stdout",
       "text": [
        " pst.1=>inf pst.1=>prs.pcp"
       ]
      },
      {
       "output_type": "stream",
       "stream": "stdout",
       "text": [
        " pst.1=>pst.pcp"
       ]
      },
      {
       "output_type": "stream",
       "stream": "stdout",
       "text": [
        " pst.2=>ipf.1"
       ]
      },
      {
       "output_type": "stream",
       "stream": "stdout",
       "text": [
        " pst.2=>ipf.2"
       ]
      },
      {
       "output_type": "stream",
       "stream": "stdout",
       "text": [
        " pst.2=>ipf.3"
       ]
      },
      {
       "output_type": "stream",
       "stream": "stdout",
       "text": [
        " pst.2=>ipf.4"
       ]
      },
      {
       "output_type": "stream",
       "stream": "stdout",
       "text": [
        " pst.2=>ipf.5"
       ]
      },
      {
       "output_type": "stream",
       "stream": "stdout",
       "text": [
        " pst.2=>ipf.6"
       ]
      },
      {
       "output_type": "stream",
       "stream": "stdout",
       "text": [
        " pst.2=>prs.1"
       ]
      },
      {
       "output_type": "stream",
       "stream": "stdout",
       "text": [
        " pst.2=>prs.2"
       ]
      },
      {
       "output_type": "stream",
       "stream": "stdout",
       "text": [
        " pst.2=>prs.3"
       ]
      },
      {
       "output_type": "stream",
       "stream": "stdout",
       "text": [
        " pst.2=>prs.4"
       ]
      },
      {
       "output_type": "stream",
       "stream": "stdout",
       "text": [
        " pst.2=>prs.5"
       ]
      },
      {
       "output_type": "stream",
       "stream": "stdout",
       "text": [
        " pst.2=>prs.6"
       ]
      },
      {
       "output_type": "stream",
       "stream": "stdout",
       "text": [
        " pst.2=>imp.2"
       ]
      },
      {
       "output_type": "stream",
       "stream": "stdout",
       "text": [
        " pst.2=>imp.4"
       ]
      },
      {
       "output_type": "stream",
       "stream": "stdout",
       "text": [
        " pst.2=>imp.5"
       ]
      },
      {
       "output_type": "stream",
       "stream": "stdout",
       "text": [
        " pst.2=>sbjv.1"
       ]
      },
      {
       "output_type": "stream",
       "stream": "stdout",
       "text": [
        " pst.2=>sbjv.2"
       ]
      },
      {
       "output_type": "stream",
       "stream": "stdout",
       "text": [
        " pst.2=>sbjv.3"
       ]
      },
      {
       "output_type": "stream",
       "stream": "stdout",
       "text": [
        " pst.2=>sbjv.4"
       ]
      },
      {
       "output_type": "stream",
       "stream": "stdout",
       "text": [
        " pst.2=>sbjv.5"
       ]
      },
      {
       "output_type": "stream",
       "stream": "stdout",
       "text": [
        " pst.2=>sbjv.6"
       ]
      },
      {
       "output_type": "stream",
       "stream": "stdout",
       "text": [
        " pst.2=>fut.1"
       ]
      },
      {
       "output_type": "stream",
       "stream": "stdout",
       "text": [
        " pst.2=>fut.2"
       ]
      },
      {
       "output_type": "stream",
       "stream": "stdout",
       "text": [
        " pst.2=>fut.3"
       ]
      },
      {
       "output_type": "stream",
       "stream": "stdout",
       "text": [
        " pst.2=>fut.4"
       ]
      },
      {
       "output_type": "stream",
       "stream": "stdout",
       "text": [
        " pst.2=>fut.5"
       ]
      },
      {
       "output_type": "stream",
       "stream": "stdout",
       "text": [
        " pst.2=>fut.6"
       ]
      },
      {
       "output_type": "stream",
       "stream": "stdout",
       "text": [
        " pst.2=>cond.1"
       ]
      },
      {
       "output_type": "stream",
       "stream": "stdout",
       "text": [
        " pst.2=>cond.2"
       ]
      },
      {
       "output_type": "stream",
       "stream": "stdout",
       "text": [
        " pst.2=>cond.3"
       ]
      },
      {
       "output_type": "stream",
       "stream": "stdout",
       "text": [
        " pst.2=>cond.4"
       ]
      },
      {
       "output_type": "stream",
       "stream": "stdout",
       "text": [
        " pst.2=>cond.5"
       ]
      },
      {
       "output_type": "stream",
       "stream": "stdout",
       "text": [
        " pst.2=>cond.6"
       ]
      },
      {
       "output_type": "stream",
       "stream": "stdout",
       "text": [
        " pst.2=>pst.1"
       ]
      },
      {
       "output_type": "stream",
       "stream": "stdout",
       "text": [
        " pst.2=>pst.3 pst.2=>pst.4 pst.2=>pst.5 pst.2=>pst.6"
       ]
      },
      {
       "output_type": "stream",
       "stream": "stdout",
       "text": [
        " pst.2=>pst.sbj.1 pst.2=>pst.sbj.2 pst.2=>pst.sbj.3"
       ]
      },
      {
       "output_type": "stream",
       "stream": "stdout",
       "text": [
        " pst.2=>pst.sbj.4 pst.2=>pst.sbj.5 pst.2=>pst.sbj.6"
       ]
      },
      {
       "output_type": "stream",
       "stream": "stdout",
       "text": [
        " pst.2=>inf pst.2=>prs.pcp"
       ]
      },
      {
       "output_type": "stream",
       "stream": "stdout",
       "text": [
        " pst.2=>pst.pcp"
       ]
      },
      {
       "output_type": "stream",
       "stream": "stdout",
       "text": [
        " pst.3=>ipf.1"
       ]
      },
      {
       "output_type": "stream",
       "stream": "stdout",
       "text": [
        " pst.3=>ipf.2"
       ]
      },
      {
       "output_type": "stream",
       "stream": "stdout",
       "text": [
        " pst.3=>ipf.3"
       ]
      },
      {
       "output_type": "stream",
       "stream": "stdout",
       "text": [
        " pst.3=>ipf.4"
       ]
      },
      {
       "output_type": "stream",
       "stream": "stdout",
       "text": [
        " pst.3=>ipf.5"
       ]
      },
      {
       "output_type": "stream",
       "stream": "stdout",
       "text": [
        " pst.3=>ipf.6"
       ]
      },
      {
       "output_type": "stream",
       "stream": "stdout",
       "text": [
        " pst.3=>prs.1"
       ]
      },
      {
       "output_type": "stream",
       "stream": "stdout",
       "text": [
        " pst.3=>prs.2"
       ]
      },
      {
       "output_type": "stream",
       "stream": "stdout",
       "text": [
        " pst.3=>prs.3"
       ]
      },
      {
       "output_type": "stream",
       "stream": "stdout",
       "text": [
        " pst.3=>prs.4"
       ]
      },
      {
       "output_type": "stream",
       "stream": "stdout",
       "text": [
        " pst.3=>prs.5"
       ]
      },
      {
       "output_type": "stream",
       "stream": "stdout",
       "text": [
        " pst.3=>prs.6"
       ]
      },
      {
       "output_type": "stream",
       "stream": "stdout",
       "text": [
        " pst.3=>imp.2"
       ]
      },
      {
       "output_type": "stream",
       "stream": "stdout",
       "text": [
        " pst.3=>imp.4"
       ]
      },
      {
       "output_type": "stream",
       "stream": "stdout",
       "text": [
        " pst.3=>imp.5"
       ]
      },
      {
       "output_type": "stream",
       "stream": "stdout",
       "text": [
        " pst.3=>sbjv.1"
       ]
      },
      {
       "output_type": "stream",
       "stream": "stdout",
       "text": [
        " pst.3=>sbjv.2"
       ]
      },
      {
       "output_type": "stream",
       "stream": "stdout",
       "text": [
        " pst.3=>sbjv.3"
       ]
      },
      {
       "output_type": "stream",
       "stream": "stdout",
       "text": [
        " pst.3=>sbjv.4"
       ]
      },
      {
       "output_type": "stream",
       "stream": "stdout",
       "text": [
        " pst.3=>sbjv.5"
       ]
      },
      {
       "output_type": "stream",
       "stream": "stdout",
       "text": [
        " pst.3=>sbjv.6"
       ]
      },
      {
       "output_type": "stream",
       "stream": "stdout",
       "text": [
        " pst.3=>fut.1"
       ]
      },
      {
       "output_type": "stream",
       "stream": "stdout",
       "text": [
        " pst.3=>fut.2"
       ]
      },
      {
       "output_type": "stream",
       "stream": "stdout",
       "text": [
        " pst.3=>fut.3"
       ]
      },
      {
       "output_type": "stream",
       "stream": "stdout",
       "text": [
        " pst.3=>fut.4"
       ]
      },
      {
       "output_type": "stream",
       "stream": "stdout",
       "text": [
        " pst.3=>fut.5"
       ]
      },
      {
       "output_type": "stream",
       "stream": "stdout",
       "text": [
        " pst.3=>fut.6"
       ]
      },
      {
       "output_type": "stream",
       "stream": "stdout",
       "text": [
        " pst.3=>cond.1"
       ]
      },
      {
       "output_type": "stream",
       "stream": "stdout",
       "text": [
        " pst.3=>cond.2"
       ]
      },
      {
       "output_type": "stream",
       "stream": "stdout",
       "text": [
        " pst.3=>cond.3"
       ]
      },
      {
       "output_type": "stream",
       "stream": "stdout",
       "text": [
        " pst.3=>cond.4"
       ]
      },
      {
       "output_type": "stream",
       "stream": "stdout",
       "text": [
        " pst.3=>cond.5"
       ]
      },
      {
       "output_type": "stream",
       "stream": "stdout",
       "text": [
        " pst.3=>cond.6"
       ]
      },
      {
       "output_type": "stream",
       "stream": "stdout",
       "text": [
        " pst.3=>pst.1"
       ]
      },
      {
       "output_type": "stream",
       "stream": "stdout",
       "text": [
        " pst.3=>pst.2 pst.3=>pst.4 pst.3=>pst.5 pst.3=>pst.6"
       ]
      },
      {
       "output_type": "stream",
       "stream": "stdout",
       "text": [
        " pst.3=>pst.sbj.1 pst.3=>pst.sbj.2 pst.3=>pst.sbj.3"
       ]
      },
      {
       "output_type": "stream",
       "stream": "stdout",
       "text": [
        " pst.3=>pst.sbj.4 pst.3=>pst.sbj.5 pst.3=>pst.sbj.6 pst.3=>inf"
       ]
      },
      {
       "output_type": "stream",
       "stream": "stdout",
       "text": [
        " pst.3=>prs.pcp"
       ]
      },
      {
       "output_type": "stream",
       "stream": "stdout",
       "text": [
        " pst.3=>pst.pcp"
       ]
      },
      {
       "output_type": "stream",
       "stream": "stdout",
       "text": [
        " pst.4=>ipf.1"
       ]
      },
      {
       "output_type": "stream",
       "stream": "stdout",
       "text": [
        " pst.4=>ipf.2"
       ]
      },
      {
       "output_type": "stream",
       "stream": "stdout",
       "text": [
        " pst.4=>ipf.3"
       ]
      },
      {
       "output_type": "stream",
       "stream": "stdout",
       "text": [
        " pst.4=>ipf.4"
       ]
      },
      {
       "output_type": "stream",
       "stream": "stdout",
       "text": [
        " pst.4=>ipf.5"
       ]
      },
      {
       "output_type": "stream",
       "stream": "stdout",
       "text": [
        " pst.4=>ipf.6"
       ]
      },
      {
       "output_type": "stream",
       "stream": "stdout",
       "text": [
        " pst.4=>prs.1"
       ]
      },
      {
       "output_type": "stream",
       "stream": "stdout",
       "text": [
        " pst.4=>prs.2"
       ]
      },
      {
       "output_type": "stream",
       "stream": "stdout",
       "text": [
        " pst.4=>prs.3"
       ]
      },
      {
       "output_type": "stream",
       "stream": "stdout",
       "text": [
        " pst.4=>prs.4"
       ]
      },
      {
       "output_type": "stream",
       "stream": "stdout",
       "text": [
        " pst.4=>prs.5"
       ]
      },
      {
       "output_type": "stream",
       "stream": "stdout",
       "text": [
        " pst.4=>prs.6"
       ]
      },
      {
       "output_type": "stream",
       "stream": "stdout",
       "text": [
        " pst.4=>imp.2"
       ]
      },
      {
       "output_type": "stream",
       "stream": "stdout",
       "text": [
        " pst.4=>imp.4"
       ]
      },
      {
       "output_type": "stream",
       "stream": "stdout",
       "text": [
        " pst.4=>imp.5"
       ]
      },
      {
       "output_type": "stream",
       "stream": "stdout",
       "text": [
        " pst.4=>sbjv.1"
       ]
      },
      {
       "output_type": "stream",
       "stream": "stdout",
       "text": [
        " pst.4=>sbjv.2"
       ]
      },
      {
       "output_type": "stream",
       "stream": "stdout",
       "text": [
        " pst.4=>sbjv.3"
       ]
      },
      {
       "output_type": "stream",
       "stream": "stdout",
       "text": [
        " pst.4=>sbjv.4"
       ]
      },
      {
       "output_type": "stream",
       "stream": "stdout",
       "text": [
        " pst.4=>sbjv.5"
       ]
      },
      {
       "output_type": "stream",
       "stream": "stdout",
       "text": [
        " pst.4=>sbjv.6"
       ]
      },
      {
       "output_type": "stream",
       "stream": "stdout",
       "text": [
        " pst.4=>fut.1"
       ]
      },
      {
       "output_type": "stream",
       "stream": "stdout",
       "text": [
        " pst.4=>fut.2"
       ]
      },
      {
       "output_type": "stream",
       "stream": "stdout",
       "text": [
        " pst.4=>fut.3"
       ]
      },
      {
       "output_type": "stream",
       "stream": "stdout",
       "text": [
        " pst.4=>fut.4"
       ]
      },
      {
       "output_type": "stream",
       "stream": "stdout",
       "text": [
        " pst.4=>fut.5"
       ]
      },
      {
       "output_type": "stream",
       "stream": "stdout",
       "text": [
        " pst.4=>fut.6"
       ]
      },
      {
       "output_type": "stream",
       "stream": "stdout",
       "text": [
        " pst.4=>cond.1"
       ]
      },
      {
       "output_type": "stream",
       "stream": "stdout",
       "text": [
        " pst.4=>cond.2"
       ]
      },
      {
       "output_type": "stream",
       "stream": "stdout",
       "text": [
        " pst.4=>cond.3"
       ]
      },
      {
       "output_type": "stream",
       "stream": "stdout",
       "text": [
        " pst.4=>cond.4"
       ]
      },
      {
       "output_type": "stream",
       "stream": "stdout",
       "text": [
        " pst.4=>cond.5"
       ]
      },
      {
       "output_type": "stream",
       "stream": "stdout",
       "text": [
        " pst.4=>cond.6"
       ]
      },
      {
       "output_type": "stream",
       "stream": "stdout",
       "text": [
        " pst.4=>pst.1"
       ]
      },
      {
       "output_type": "stream",
       "stream": "stdout",
       "text": [
        " pst.4=>pst.2 pst.4=>pst.3 pst.4=>pst.5"
       ]
      },
      {
       "output_type": "stream",
       "stream": "stdout",
       "text": [
        " pst.4=>pst.6 pst.4=>pst.sbj.1"
       ]
      },
      {
       "output_type": "stream",
       "stream": "stdout",
       "text": [
        " pst.4=>pst.sbj.2 pst.4=>pst.sbj.3 pst.4=>pst.sbj.4"
       ]
      },
      {
       "output_type": "stream",
       "stream": "stdout",
       "text": [
        " pst.4=>pst.sbj.5 pst.4=>pst.sbj.6 pst.4=>inf"
       ]
      },
      {
       "output_type": "stream",
       "stream": "stdout",
       "text": [
        " pst.4=>prs.pcp"
       ]
      },
      {
       "output_type": "stream",
       "stream": "stdout",
       "text": [
        " pst.4=>pst.pcp"
       ]
      },
      {
       "output_type": "stream",
       "stream": "stdout",
       "text": [
        " pst.5=>ipf.1"
       ]
      },
      {
       "output_type": "stream",
       "stream": "stdout",
       "text": [
        " pst.5=>ipf.2"
       ]
      },
      {
       "output_type": "stream",
       "stream": "stdout",
       "text": [
        " pst.5=>ipf.3"
       ]
      },
      {
       "output_type": "stream",
       "stream": "stdout",
       "text": [
        " pst.5=>ipf.4"
       ]
      },
      {
       "output_type": "stream",
       "stream": "stdout",
       "text": [
        " pst.5=>ipf.5"
       ]
      },
      {
       "output_type": "stream",
       "stream": "stdout",
       "text": [
        " pst.5=>ipf.6"
       ]
      },
      {
       "output_type": "stream",
       "stream": "stdout",
       "text": [
        " pst.5=>prs.1"
       ]
      },
      {
       "output_type": "stream",
       "stream": "stdout",
       "text": [
        " pst.5=>prs.2"
       ]
      },
      {
       "output_type": "stream",
       "stream": "stdout",
       "text": [
        " pst.5=>prs.3"
       ]
      },
      {
       "output_type": "stream",
       "stream": "stdout",
       "text": [
        " pst.5=>prs.4"
       ]
      },
      {
       "output_type": "stream",
       "stream": "stdout",
       "text": [
        " pst.5=>prs.5"
       ]
      },
      {
       "output_type": "stream",
       "stream": "stdout",
       "text": [
        " pst.5=>prs.6"
       ]
      },
      {
       "output_type": "stream",
       "stream": "stdout",
       "text": [
        " pst.5=>imp.2"
       ]
      },
      {
       "output_type": "stream",
       "stream": "stdout",
       "text": [
        " pst.5=>imp.4"
       ]
      },
      {
       "output_type": "stream",
       "stream": "stdout",
       "text": [
        " pst.5=>imp.5"
       ]
      },
      {
       "output_type": "stream",
       "stream": "stdout",
       "text": [
        " pst.5=>sbjv.1"
       ]
      },
      {
       "output_type": "stream",
       "stream": "stdout",
       "text": [
        " pst.5=>sbjv.2"
       ]
      },
      {
       "output_type": "stream",
       "stream": "stdout",
       "text": [
        " pst.5=>sbjv.3"
       ]
      },
      {
       "output_type": "stream",
       "stream": "stdout",
       "text": [
        " pst.5=>sbjv.4"
       ]
      },
      {
       "output_type": "stream",
       "stream": "stdout",
       "text": [
        " pst.5=>sbjv.5"
       ]
      },
      {
       "output_type": "stream",
       "stream": "stdout",
       "text": [
        " pst.5=>sbjv.6"
       ]
      },
      {
       "output_type": "stream",
       "stream": "stdout",
       "text": [
        " pst.5=>fut.1"
       ]
      },
      {
       "output_type": "stream",
       "stream": "stdout",
       "text": [
        " pst.5=>fut.2"
       ]
      },
      {
       "output_type": "stream",
       "stream": "stdout",
       "text": [
        " pst.5=>fut.3"
       ]
      },
      {
       "output_type": "stream",
       "stream": "stdout",
       "text": [
        " pst.5=>fut.4"
       ]
      },
      {
       "output_type": "stream",
       "stream": "stdout",
       "text": [
        " pst.5=>fut.5"
       ]
      },
      {
       "output_type": "stream",
       "stream": "stdout",
       "text": [
        " pst.5=>fut.6"
       ]
      },
      {
       "output_type": "stream",
       "stream": "stdout",
       "text": [
        " pst.5=>cond.1"
       ]
      },
      {
       "output_type": "stream",
       "stream": "stdout",
       "text": [
        " pst.5=>cond.2"
       ]
      },
      {
       "output_type": "stream",
       "stream": "stdout",
       "text": [
        " pst.5=>cond.3"
       ]
      },
      {
       "output_type": "stream",
       "stream": "stdout",
       "text": [
        " pst.5=>cond.4"
       ]
      },
      {
       "output_type": "stream",
       "stream": "stdout",
       "text": [
        " pst.5=>cond.5"
       ]
      },
      {
       "output_type": "stream",
       "stream": "stdout",
       "text": [
        " pst.5=>cond.6"
       ]
      },
      {
       "output_type": "stream",
       "stream": "stdout",
       "text": [
        " pst.5=>pst.1"
       ]
      },
      {
       "output_type": "stream",
       "stream": "stdout",
       "text": [
        " pst.5=>pst.2 pst.5=>pst.3"
       ]
      },
      {
       "output_type": "stream",
       "stream": "stdout",
       "text": [
        " pst.5=>pst.4 pst.5=>pst.6 pst.5=>pst.sbj.1"
       ]
      },
      {
       "output_type": "stream",
       "stream": "stdout",
       "text": [
        " pst.5=>pst.sbj.2 pst.5=>pst.sbj.3 pst.5=>pst.sbj.4"
       ]
      },
      {
       "output_type": "stream",
       "stream": "stdout",
       "text": [
        " pst.5=>pst.sbj.5 pst.5=>pst.sbj.6 pst.5=>inf"
       ]
      },
      {
       "output_type": "stream",
       "stream": "stdout",
       "text": [
        " pst.5=>prs.pcp"
       ]
      },
      {
       "output_type": "stream",
       "stream": "stdout",
       "text": [
        " pst.5=>pst.pcp"
       ]
      },
      {
       "output_type": "stream",
       "stream": "stdout",
       "text": [
        " pst.6=>ipf.1"
       ]
      },
      {
       "output_type": "stream",
       "stream": "stdout",
       "text": [
        " pst.6=>ipf.2"
       ]
      },
      {
       "output_type": "stream",
       "stream": "stdout",
       "text": [
        " pst.6=>ipf.3"
       ]
      },
      {
       "output_type": "stream",
       "stream": "stdout",
       "text": [
        " pst.6=>ipf.4"
       ]
      },
      {
       "output_type": "stream",
       "stream": "stdout",
       "text": [
        " pst.6=>ipf.5"
       ]
      },
      {
       "output_type": "stream",
       "stream": "stdout",
       "text": [
        " pst.6=>ipf.6"
       ]
      },
      {
       "output_type": "stream",
       "stream": "stdout",
       "text": [
        " pst.6=>prs.1"
       ]
      },
      {
       "output_type": "stream",
       "stream": "stdout",
       "text": [
        " pst.6=>prs.2"
       ]
      },
      {
       "output_type": "stream",
       "stream": "stdout",
       "text": [
        " pst.6=>prs.3"
       ]
      },
      {
       "output_type": "stream",
       "stream": "stdout",
       "text": [
        " pst.6=>prs.4"
       ]
      },
      {
       "output_type": "stream",
       "stream": "stdout",
       "text": [
        " pst.6=>prs.5"
       ]
      },
      {
       "output_type": "stream",
       "stream": "stdout",
       "text": [
        " pst.6=>prs.6"
       ]
      },
      {
       "output_type": "stream",
       "stream": "stdout",
       "text": [
        " pst.6=>imp.2"
       ]
      },
      {
       "output_type": "stream",
       "stream": "stdout",
       "text": [
        " pst.6=>imp.4"
       ]
      },
      {
       "output_type": "stream",
       "stream": "stdout",
       "text": [
        " pst.6=>imp.5"
       ]
      },
      {
       "output_type": "stream",
       "stream": "stdout",
       "text": [
        " pst.6=>sbjv.1"
       ]
      },
      {
       "output_type": "stream",
       "stream": "stdout",
       "text": [
        " pst.6=>sbjv.2"
       ]
      },
      {
       "output_type": "stream",
       "stream": "stdout",
       "text": [
        " pst.6=>sbjv.3"
       ]
      },
      {
       "output_type": "stream",
       "stream": "stdout",
       "text": [
        " pst.6=>sbjv.4"
       ]
      },
      {
       "output_type": "stream",
       "stream": "stdout",
       "text": [
        " pst.6=>sbjv.5"
       ]
      },
      {
       "output_type": "stream",
       "stream": "stdout",
       "text": [
        " pst.6=>sbjv.6"
       ]
      },
      {
       "output_type": "stream",
       "stream": "stdout",
       "text": [
        " pst.6=>fut.1"
       ]
      },
      {
       "output_type": "stream",
       "stream": "stdout",
       "text": [
        " pst.6=>fut.2"
       ]
      },
      {
       "output_type": "stream",
       "stream": "stdout",
       "text": [
        " pst.6=>fut.3"
       ]
      },
      {
       "output_type": "stream",
       "stream": "stdout",
       "text": [
        " pst.6=>fut.4"
       ]
      },
      {
       "output_type": "stream",
       "stream": "stdout",
       "text": [
        " pst.6=>fut.5"
       ]
      },
      {
       "output_type": "stream",
       "stream": "stdout",
       "text": [
        " pst.6=>fut.6"
       ]
      },
      {
       "output_type": "stream",
       "stream": "stdout",
       "text": [
        " pst.6=>cond.1"
       ]
      },
      {
       "output_type": "stream",
       "stream": "stdout",
       "text": [
        " pst.6=>cond.2"
       ]
      },
      {
       "output_type": "stream",
       "stream": "stdout",
       "text": [
        " pst.6=>cond.3"
       ]
      },
      {
       "output_type": "stream",
       "stream": "stdout",
       "text": [
        " pst.6=>cond.4"
       ]
      },
      {
       "output_type": "stream",
       "stream": "stdout",
       "text": [
        " pst.6=>cond.5"
       ]
      },
      {
       "output_type": "stream",
       "stream": "stdout",
       "text": [
        " pst.6=>cond.6"
       ]
      },
      {
       "output_type": "stream",
       "stream": "stdout",
       "text": [
        " pst.6=>pst.1"
       ]
      },
      {
       "output_type": "stream",
       "stream": "stdout",
       "text": [
        " pst.6=>pst.2 pst.6=>pst.3"
       ]
      },
      {
       "output_type": "stream",
       "stream": "stdout",
       "text": [
        " pst.6=>pst.4 pst.6=>pst.5"
       ]
      },
      {
       "output_type": "stream",
       "stream": "stdout",
       "text": [
        " pst.6=>pst.sbj.1 pst.6=>pst.sbj.2"
       ]
      },
      {
       "output_type": "stream",
       "stream": "stdout",
       "text": [
        " pst.6=>pst.sbj.3 pst.6=>pst.sbj.4"
       ]
      },
      {
       "output_type": "stream",
       "stream": "stdout",
       "text": [
        " pst.6=>pst.sbj.5 pst.6=>pst.sbj.6"
       ]
      },
      {
       "output_type": "stream",
       "stream": "stdout",
       "text": [
        " pst.6=>inf pst.6=>prs.pcp"
       ]
      },
      {
       "output_type": "stream",
       "stream": "stdout",
       "text": [
        " pst.6=>pst.pcp"
       ]
      },
      {
       "output_type": "stream",
       "stream": "stdout",
       "text": [
        " pst.sbj.1=>ipf.1"
       ]
      },
      {
       "output_type": "stream",
       "stream": "stdout",
       "text": [
        " pst.sbj.1=>ipf.2"
       ]
      },
      {
       "output_type": "stream",
       "stream": "stdout",
       "text": [
        " pst.sbj.1=>ipf.3"
       ]
      },
      {
       "output_type": "stream",
       "stream": "stdout",
       "text": [
        " pst.sbj.1=>ipf.4"
       ]
      },
      {
       "output_type": "stream",
       "stream": "stdout",
       "text": [
        " pst.sbj.1=>ipf.5"
       ]
      },
      {
       "output_type": "stream",
       "stream": "stdout",
       "text": [
        " pst.sbj.1=>ipf.6"
       ]
      },
      {
       "output_type": "stream",
       "stream": "stdout",
       "text": [
        " pst.sbj.1=>prs.1"
       ]
      },
      {
       "output_type": "stream",
       "stream": "stdout",
       "text": [
        " pst.sbj.1=>prs.2"
       ]
      },
      {
       "output_type": "stream",
       "stream": "stdout",
       "text": [
        " pst.sbj.1=>prs.3"
       ]
      },
      {
       "output_type": "stream",
       "stream": "stdout",
       "text": [
        " pst.sbj.1=>prs.4"
       ]
      },
      {
       "output_type": "stream",
       "stream": "stdout",
       "text": [
        " pst.sbj.1=>prs.5"
       ]
      },
      {
       "output_type": "stream",
       "stream": "stdout",
       "text": [
        " pst.sbj.1=>prs.6"
       ]
      },
      {
       "output_type": "stream",
       "stream": "stdout",
       "text": [
        " pst.sbj.1=>imp.2"
       ]
      },
      {
       "output_type": "stream",
       "stream": "stdout",
       "text": [
        " pst.sbj.1=>imp.4"
       ]
      },
      {
       "output_type": "stream",
       "stream": "stdout",
       "text": [
        " pst.sbj.1=>imp.5"
       ]
      },
      {
       "output_type": "stream",
       "stream": "stdout",
       "text": [
        " pst.sbj.1=>sbjv.1"
       ]
      },
      {
       "output_type": "stream",
       "stream": "stdout",
       "text": [
        " pst.sbj.1=>sbjv.2"
       ]
      },
      {
       "output_type": "stream",
       "stream": "stdout",
       "text": [
        " pst.sbj.1=>sbjv.3"
       ]
      },
      {
       "output_type": "stream",
       "stream": "stdout",
       "text": [
        " pst.sbj.1=>sbjv.4"
       ]
      },
      {
       "output_type": "stream",
       "stream": "stdout",
       "text": [
        " pst.sbj.1=>sbjv.5"
       ]
      },
      {
       "output_type": "stream",
       "stream": "stdout",
       "text": [
        " pst.sbj.1=>sbjv.6"
       ]
      },
      {
       "output_type": "stream",
       "stream": "stdout",
       "text": [
        " pst.sbj.1=>fut.1"
       ]
      },
      {
       "output_type": "stream",
       "stream": "stdout",
       "text": [
        " pst.sbj.1=>fut.2"
       ]
      },
      {
       "output_type": "stream",
       "stream": "stdout",
       "text": [
        " pst.sbj.1=>fut.3"
       ]
      },
      {
       "output_type": "stream",
       "stream": "stdout",
       "text": [
        " pst.sbj.1=>fut.4"
       ]
      },
      {
       "output_type": "stream",
       "stream": "stdout",
       "text": [
        " pst.sbj.1=>fut.5"
       ]
      },
      {
       "output_type": "stream",
       "stream": "stdout",
       "text": [
        " pst.sbj.1=>fut.6"
       ]
      },
      {
       "output_type": "stream",
       "stream": "stdout",
       "text": [
        " pst.sbj.1=>cond.1"
       ]
      },
      {
       "output_type": "stream",
       "stream": "stdout",
       "text": [
        " pst.sbj.1=>cond.2"
       ]
      },
      {
       "output_type": "stream",
       "stream": "stdout",
       "text": [
        " pst.sbj.1=>cond.3"
       ]
      },
      {
       "output_type": "stream",
       "stream": "stdout",
       "text": [
        " pst.sbj.1=>cond.4"
       ]
      },
      {
       "output_type": "stream",
       "stream": "stdout",
       "text": [
        " pst.sbj.1=>cond.5"
       ]
      },
      {
       "output_type": "stream",
       "stream": "stdout",
       "text": [
        " pst.sbj.1=>cond.6"
       ]
      },
      {
       "output_type": "stream",
       "stream": "stdout",
       "text": [
        " pst.sbj.1=>pst.1"
       ]
      },
      {
       "output_type": "stream",
       "stream": "stdout",
       "text": [
        " pst.sbj.1=>pst.2 pst.sbj.1=>pst.3"
       ]
      },
      {
       "output_type": "stream",
       "stream": "stdout",
       "text": [
        " pst.sbj.1=>pst.4 pst.sbj.1=>pst.5 pst.sbj.1=>pst.6"
       ]
      },
      {
       "output_type": "stream",
       "stream": "stdout",
       "text": [
        " pst.sbj.1=>pst.sbj.2 pst.sbj.1=>pst.sbj.3"
       ]
      },
      {
       "output_type": "stream",
       "stream": "stdout",
       "text": [
        " pst.sbj.1=>pst.sbj.4 pst.sbj.1=>pst.sbj.5 pst.sbj.1=>pst.sbj.6"
       ]
      },
      {
       "output_type": "stream",
       "stream": "stdout",
       "text": [
        " pst.sbj.1=>inf pst.sbj.1=>prs.pcp"
       ]
      },
      {
       "output_type": "stream",
       "stream": "stdout",
       "text": [
        " pst.sbj.1=>pst.pcp"
       ]
      },
      {
       "output_type": "stream",
       "stream": "stdout",
       "text": [
        " pst.sbj.2=>ipf.1"
       ]
      },
      {
       "output_type": "stream",
       "stream": "stdout",
       "text": [
        " pst.sbj.2=>ipf.2"
       ]
      },
      {
       "output_type": "stream",
       "stream": "stdout",
       "text": [
        " pst.sbj.2=>ipf.3"
       ]
      },
      {
       "output_type": "stream",
       "stream": "stdout",
       "text": [
        " pst.sbj.2=>ipf.4"
       ]
      },
      {
       "output_type": "stream",
       "stream": "stdout",
       "text": [
        " pst.sbj.2=>ipf.5"
       ]
      },
      {
       "output_type": "stream",
       "stream": "stdout",
       "text": [
        " pst.sbj.2=>ipf.6"
       ]
      },
      {
       "output_type": "stream",
       "stream": "stdout",
       "text": [
        " pst.sbj.2=>prs.1"
       ]
      },
      {
       "output_type": "stream",
       "stream": "stdout",
       "text": [
        " pst.sbj.2=>prs.2"
       ]
      },
      {
       "output_type": "stream",
       "stream": "stdout",
       "text": [
        " pst.sbj.2=>prs.3"
       ]
      },
      {
       "output_type": "stream",
       "stream": "stdout",
       "text": [
        " pst.sbj.2=>prs.4"
       ]
      },
      {
       "output_type": "stream",
       "stream": "stdout",
       "text": [
        " pst.sbj.2=>prs.5"
       ]
      },
      {
       "output_type": "stream",
       "stream": "stdout",
       "text": [
        " pst.sbj.2=>prs.6"
       ]
      },
      {
       "output_type": "stream",
       "stream": "stdout",
       "text": [
        " pst.sbj.2=>imp.2"
       ]
      },
      {
       "output_type": "stream",
       "stream": "stdout",
       "text": [
        " pst.sbj.2=>imp.4"
       ]
      },
      {
       "output_type": "stream",
       "stream": "stdout",
       "text": [
        " pst.sbj.2=>imp.5"
       ]
      },
      {
       "output_type": "stream",
       "stream": "stdout",
       "text": [
        " pst.sbj.2=>sbjv.1"
       ]
      },
      {
       "output_type": "stream",
       "stream": "stdout",
       "text": [
        " pst.sbj.2=>sbjv.2"
       ]
      },
      {
       "output_type": "stream",
       "stream": "stdout",
       "text": [
        " pst.sbj.2=>sbjv.3"
       ]
      },
      {
       "output_type": "stream",
       "stream": "stdout",
       "text": [
        " pst.sbj.2=>sbjv.4"
       ]
      },
      {
       "output_type": "stream",
       "stream": "stdout",
       "text": [
        " pst.sbj.2=>sbjv.5"
       ]
      },
      {
       "output_type": "stream",
       "stream": "stdout",
       "text": [
        " pst.sbj.2=>sbjv.6"
       ]
      },
      {
       "output_type": "stream",
       "stream": "stdout",
       "text": [
        " pst.sbj.2=>fut.1"
       ]
      },
      {
       "output_type": "stream",
       "stream": "stdout",
       "text": [
        " pst.sbj.2=>fut.2"
       ]
      },
      {
       "output_type": "stream",
       "stream": "stdout",
       "text": [
        " pst.sbj.2=>fut.3"
       ]
      },
      {
       "output_type": "stream",
       "stream": "stdout",
       "text": [
        " pst.sbj.2=>fut.4"
       ]
      },
      {
       "output_type": "stream",
       "stream": "stdout",
       "text": [
        " pst.sbj.2=>fut.5"
       ]
      },
      {
       "output_type": "stream",
       "stream": "stdout",
       "text": [
        " pst.sbj.2=>fut.6"
       ]
      },
      {
       "output_type": "stream",
       "stream": "stdout",
       "text": [
        " pst.sbj.2=>cond.1"
       ]
      },
      {
       "output_type": "stream",
       "stream": "stdout",
       "text": [
        " pst.sbj.2=>cond.2"
       ]
      },
      {
       "output_type": "stream",
       "stream": "stdout",
       "text": [
        " pst.sbj.2=>cond.3"
       ]
      },
      {
       "output_type": "stream",
       "stream": "stdout",
       "text": [
        " pst.sbj.2=>cond.4"
       ]
      },
      {
       "output_type": "stream",
       "stream": "stdout",
       "text": [
        " pst.sbj.2=>cond.5"
       ]
      },
      {
       "output_type": "stream",
       "stream": "stdout",
       "text": [
        " pst.sbj.2=>cond.6"
       ]
      },
      {
       "output_type": "stream",
       "stream": "stdout",
       "text": [
        " pst.sbj.2=>pst.1"
       ]
      },
      {
       "output_type": "stream",
       "stream": "stdout",
       "text": [
        " pst.sbj.2=>pst.2 pst.sbj.2=>pst.3"
       ]
      },
      {
       "output_type": "stream",
       "stream": "stdout",
       "text": [
        " pst.sbj.2=>pst.4 pst.sbj.2=>pst.5 pst.sbj.2=>pst.6"
       ]
      },
      {
       "output_type": "stream",
       "stream": "stdout",
       "text": [
        " pst.sbj.2=>pst.sbj.1 pst.sbj.2=>pst.sbj.3"
       ]
      },
      {
       "output_type": "stream",
       "stream": "stdout",
       "text": [
        " pst.sbj.2=>pst.sbj.4 pst.sbj.2=>pst.sbj.5"
       ]
      },
      {
       "output_type": "stream",
       "stream": "stdout",
       "text": [
        " pst.sbj.2=>pst.sbj.6 pst.sbj.2=>inf pst.sbj.2=>prs.pcp"
       ]
      },
      {
       "output_type": "stream",
       "stream": "stdout",
       "text": [
        " pst.sbj.2=>pst.pcp"
       ]
      },
      {
       "output_type": "stream",
       "stream": "stdout",
       "text": [
        " pst.sbj.3=>ipf.1"
       ]
      },
      {
       "output_type": "stream",
       "stream": "stdout",
       "text": [
        " pst.sbj.3=>ipf.2"
       ]
      },
      {
       "output_type": "stream",
       "stream": "stdout",
       "text": [
        " pst.sbj.3=>ipf.3"
       ]
      },
      {
       "output_type": "stream",
       "stream": "stdout",
       "text": [
        " pst.sbj.3=>ipf.4"
       ]
      },
      {
       "output_type": "stream",
       "stream": "stdout",
       "text": [
        " pst.sbj.3=>ipf.5"
       ]
      },
      {
       "output_type": "stream",
       "stream": "stdout",
       "text": [
        " pst.sbj.3=>ipf.6"
       ]
      },
      {
       "output_type": "stream",
       "stream": "stdout",
       "text": [
        " pst.sbj.3=>prs.1"
       ]
      },
      {
       "output_type": "stream",
       "stream": "stdout",
       "text": [
        " pst.sbj.3=>prs.2"
       ]
      },
      {
       "output_type": "stream",
       "stream": "stdout",
       "text": [
        " pst.sbj.3=>prs.3"
       ]
      },
      {
       "output_type": "stream",
       "stream": "stdout",
       "text": [
        " pst.sbj.3=>prs.4"
       ]
      },
      {
       "output_type": "stream",
       "stream": "stdout",
       "text": [
        " pst.sbj.3=>prs.5"
       ]
      },
      {
       "output_type": "stream",
       "stream": "stdout",
       "text": [
        " pst.sbj.3=>prs.6"
       ]
      },
      {
       "output_type": "stream",
       "stream": "stdout",
       "text": [
        " pst.sbj.3=>imp.2"
       ]
      },
      {
       "output_type": "stream",
       "stream": "stdout",
       "text": [
        " pst.sbj.3=>imp.4"
       ]
      },
      {
       "output_type": "stream",
       "stream": "stdout",
       "text": [
        " pst.sbj.3=>imp.5"
       ]
      },
      {
       "output_type": "stream",
       "stream": "stdout",
       "text": [
        " pst.sbj.3=>sbjv.1"
       ]
      },
      {
       "output_type": "stream",
       "stream": "stdout",
       "text": [
        " pst.sbj.3=>sbjv.2"
       ]
      },
      {
       "output_type": "stream",
       "stream": "stdout",
       "text": [
        " pst.sbj.3=>sbjv.3"
       ]
      },
      {
       "output_type": "stream",
       "stream": "stdout",
       "text": [
        " pst.sbj.3=>sbjv.4"
       ]
      },
      {
       "output_type": "stream",
       "stream": "stdout",
       "text": [
        " pst.sbj.3=>sbjv.5"
       ]
      },
      {
       "output_type": "stream",
       "stream": "stdout",
       "text": [
        " pst.sbj.3=>sbjv.6"
       ]
      },
      {
       "output_type": "stream",
       "stream": "stdout",
       "text": [
        " pst.sbj.3=>fut.1"
       ]
      },
      {
       "output_type": "stream",
       "stream": "stdout",
       "text": [
        " pst.sbj.3=>fut.2"
       ]
      },
      {
       "output_type": "stream",
       "stream": "stdout",
       "text": [
        " pst.sbj.3=>fut.3"
       ]
      },
      {
       "output_type": "stream",
       "stream": "stdout",
       "text": [
        " pst.sbj.3=>fut.4"
       ]
      },
      {
       "output_type": "stream",
       "stream": "stdout",
       "text": [
        " pst.sbj.3=>fut.5"
       ]
      },
      {
       "output_type": "stream",
       "stream": "stdout",
       "text": [
        " pst.sbj.3=>fut.6"
       ]
      },
      {
       "output_type": "stream",
       "stream": "stdout",
       "text": [
        " pst.sbj.3=>cond.1"
       ]
      },
      {
       "output_type": "stream",
       "stream": "stdout",
       "text": [
        " pst.sbj.3=>cond.2"
       ]
      },
      {
       "output_type": "stream",
       "stream": "stdout",
       "text": [
        " pst.sbj.3=>cond.3"
       ]
      },
      {
       "output_type": "stream",
       "stream": "stdout",
       "text": [
        " pst.sbj.3=>cond.4"
       ]
      },
      {
       "output_type": "stream",
       "stream": "stdout",
       "text": [
        " pst.sbj.3=>cond.5"
       ]
      },
      {
       "output_type": "stream",
       "stream": "stdout",
       "text": [
        " pst.sbj.3=>cond.6"
       ]
      },
      {
       "output_type": "stream",
       "stream": "stdout",
       "text": [
        " pst.sbj.3=>pst.1"
       ]
      },
      {
       "output_type": "stream",
       "stream": "stdout",
       "text": [
        " pst.sbj.3=>pst.2 pst.sbj.3=>pst.3 pst.sbj.3=>pst.4 pst.sbj.3=>pst.5"
       ]
      },
      {
       "output_type": "stream",
       "stream": "stdout",
       "text": [
        " pst.sbj.3=>pst.6 pst.sbj.3=>pst.sbj.1 pst.sbj.3=>pst.sbj.2"
       ]
      },
      {
       "output_type": "stream",
       "stream": "stdout",
       "text": [
        " pst.sbj.3=>pst.sbj.4 pst.sbj.3=>pst.sbj.5 pst.sbj.3=>pst.sbj.6"
       ]
      },
      {
       "output_type": "stream",
       "stream": "stdout",
       "text": [
        " pst.sbj.3=>inf pst.sbj.3=>prs.pcp"
       ]
      },
      {
       "output_type": "stream",
       "stream": "stdout",
       "text": [
        " pst.sbj.3=>pst.pcp"
       ]
      },
      {
       "output_type": "stream",
       "stream": "stdout",
       "text": [
        " pst.sbj.4=>ipf.1"
       ]
      },
      {
       "output_type": "stream",
       "stream": "stdout",
       "text": [
        " pst.sbj.4=>ipf.2"
       ]
      },
      {
       "output_type": "stream",
       "stream": "stdout",
       "text": [
        " pst.sbj.4=>ipf.3"
       ]
      },
      {
       "output_type": "stream",
       "stream": "stdout",
       "text": [
        " pst.sbj.4=>ipf.4"
       ]
      },
      {
       "output_type": "stream",
       "stream": "stdout",
       "text": [
        " pst.sbj.4=>ipf.5"
       ]
      },
      {
       "output_type": "stream",
       "stream": "stdout",
       "text": [
        " pst.sbj.4=>ipf.6"
       ]
      },
      {
       "output_type": "stream",
       "stream": "stdout",
       "text": [
        " pst.sbj.4=>prs.1"
       ]
      },
      {
       "output_type": "stream",
       "stream": "stdout",
       "text": [
        " pst.sbj.4=>prs.2"
       ]
      },
      {
       "output_type": "stream",
       "stream": "stdout",
       "text": [
        " pst.sbj.4=>prs.3"
       ]
      },
      {
       "output_type": "stream",
       "stream": "stdout",
       "text": [
        " pst.sbj.4=>prs.4"
       ]
      },
      {
       "output_type": "stream",
       "stream": "stdout",
       "text": [
        " pst.sbj.4=>prs.5"
       ]
      },
      {
       "output_type": "stream",
       "stream": "stdout",
       "text": [
        " pst.sbj.4=>prs.6"
       ]
      },
      {
       "output_type": "stream",
       "stream": "stdout",
       "text": [
        " pst.sbj.4=>imp.2"
       ]
      },
      {
       "output_type": "stream",
       "stream": "stdout",
       "text": [
        " pst.sbj.4=>imp.4"
       ]
      },
      {
       "output_type": "stream",
       "stream": "stdout",
       "text": [
        " pst.sbj.4=>imp.5"
       ]
      },
      {
       "output_type": "stream",
       "stream": "stdout",
       "text": [
        " pst.sbj.4=>sbjv.1"
       ]
      },
      {
       "output_type": "stream",
       "stream": "stdout",
       "text": [
        " pst.sbj.4=>sbjv.2"
       ]
      },
      {
       "output_type": "stream",
       "stream": "stdout",
       "text": [
        " pst.sbj.4=>sbjv.3"
       ]
      },
      {
       "output_type": "stream",
       "stream": "stdout",
       "text": [
        " pst.sbj.4=>sbjv.4"
       ]
      },
      {
       "output_type": "stream",
       "stream": "stdout",
       "text": [
        " pst.sbj.4=>sbjv.5"
       ]
      },
      {
       "output_type": "stream",
       "stream": "stdout",
       "text": [
        " pst.sbj.4=>sbjv.6"
       ]
      },
      {
       "output_type": "stream",
       "stream": "stdout",
       "text": [
        " pst.sbj.4=>fut.1"
       ]
      },
      {
       "output_type": "stream",
       "stream": "stdout",
       "text": [
        " pst.sbj.4=>fut.2"
       ]
      },
      {
       "output_type": "stream",
       "stream": "stdout",
       "text": [
        " pst.sbj.4=>fut.3"
       ]
      },
      {
       "output_type": "stream",
       "stream": "stdout",
       "text": [
        " pst.sbj.4=>fut.4"
       ]
      },
      {
       "output_type": "stream",
       "stream": "stdout",
       "text": [
        " pst.sbj.4=>fut.5"
       ]
      },
      {
       "output_type": "stream",
       "stream": "stdout",
       "text": [
        " pst.sbj.4=>fut.6"
       ]
      },
      {
       "output_type": "stream",
       "stream": "stdout",
       "text": [
        " pst.sbj.4=>cond.1"
       ]
      },
      {
       "output_type": "stream",
       "stream": "stdout",
       "text": [
        " pst.sbj.4=>cond.2"
       ]
      },
      {
       "output_type": "stream",
       "stream": "stdout",
       "text": [
        " pst.sbj.4=>cond.3"
       ]
      },
      {
       "output_type": "stream",
       "stream": "stdout",
       "text": [
        " pst.sbj.4=>cond.4"
       ]
      },
      {
       "output_type": "stream",
       "stream": "stdout",
       "text": [
        " pst.sbj.4=>cond.5"
       ]
      },
      {
       "output_type": "stream",
       "stream": "stdout",
       "text": [
        " pst.sbj.4=>cond.6"
       ]
      },
      {
       "output_type": "stream",
       "stream": "stdout",
       "text": [
        " pst.sbj.4=>pst.1"
       ]
      },
      {
       "output_type": "stream",
       "stream": "stdout",
       "text": [
        " pst.sbj.4=>pst.2 pst.sbj.4=>pst.3"
       ]
      },
      {
       "output_type": "stream",
       "stream": "stdout",
       "text": [
        " pst.sbj.4=>pst.4 pst.sbj.4=>pst.5 pst.sbj.4=>pst.6"
       ]
      },
      {
       "output_type": "stream",
       "stream": "stdout",
       "text": [
        " pst.sbj.4=>pst.sbj.1 pst.sbj.4=>pst.sbj.2"
       ]
      },
      {
       "output_type": "stream",
       "stream": "stdout",
       "text": [
        " pst.sbj.4=>pst.sbj.3 pst.sbj.4=>pst.sbj.5 pst.sbj.4=>pst.sbj.6"
       ]
      },
      {
       "output_type": "stream",
       "stream": "stdout",
       "text": [
        " pst.sbj.4=>inf pst.sbj.4=>prs.pcp"
       ]
      },
      {
       "output_type": "stream",
       "stream": "stdout",
       "text": [
        " pst.sbj.4=>pst.pcp"
       ]
      },
      {
       "output_type": "stream",
       "stream": "stdout",
       "text": [
        " pst.sbj.5=>ipf.1"
       ]
      },
      {
       "output_type": "stream",
       "stream": "stdout",
       "text": [
        " pst.sbj.5=>ipf.2"
       ]
      },
      {
       "output_type": "stream",
       "stream": "stdout",
       "text": [
        " pst.sbj.5=>ipf.3"
       ]
      },
      {
       "output_type": "stream",
       "stream": "stdout",
       "text": [
        " pst.sbj.5=>ipf.4"
       ]
      },
      {
       "output_type": "stream",
       "stream": "stdout",
       "text": [
        " pst.sbj.5=>ipf.5"
       ]
      },
      {
       "output_type": "stream",
       "stream": "stdout",
       "text": [
        " pst.sbj.5=>ipf.6"
       ]
      },
      {
       "output_type": "stream",
       "stream": "stdout",
       "text": [
        " pst.sbj.5=>prs.1"
       ]
      },
      {
       "output_type": "stream",
       "stream": "stdout",
       "text": [
        " pst.sbj.5=>prs.2"
       ]
      },
      {
       "output_type": "stream",
       "stream": "stdout",
       "text": [
        " pst.sbj.5=>prs.3"
       ]
      },
      {
       "output_type": "stream",
       "stream": "stdout",
       "text": [
        " pst.sbj.5=>prs.4"
       ]
      },
      {
       "output_type": "stream",
       "stream": "stdout",
       "text": [
        " pst.sbj.5=>prs.5"
       ]
      },
      {
       "output_type": "stream",
       "stream": "stdout",
       "text": [
        " pst.sbj.5=>prs.6"
       ]
      },
      {
       "output_type": "stream",
       "stream": "stdout",
       "text": [
        " pst.sbj.5=>imp.2"
       ]
      },
      {
       "output_type": "stream",
       "stream": "stdout",
       "text": [
        " pst.sbj.5=>imp.4"
       ]
      },
      {
       "output_type": "stream",
       "stream": "stdout",
       "text": [
        " pst.sbj.5=>imp.5"
       ]
      },
      {
       "output_type": "stream",
       "stream": "stdout",
       "text": [
        " pst.sbj.5=>sbjv.1"
       ]
      },
      {
       "output_type": "stream",
       "stream": "stdout",
       "text": [
        " pst.sbj.5=>sbjv.2"
       ]
      },
      {
       "output_type": "stream",
       "stream": "stdout",
       "text": [
        " pst.sbj.5=>sbjv.3"
       ]
      },
      {
       "output_type": "stream",
       "stream": "stdout",
       "text": [
        " pst.sbj.5=>sbjv.4"
       ]
      },
      {
       "output_type": "stream",
       "stream": "stdout",
       "text": [
        " pst.sbj.5=>sbjv.5"
       ]
      },
      {
       "output_type": "stream",
       "stream": "stdout",
       "text": [
        " pst.sbj.5=>sbjv.6"
       ]
      },
      {
       "output_type": "stream",
       "stream": "stdout",
       "text": [
        " pst.sbj.5=>fut.1"
       ]
      },
      {
       "output_type": "stream",
       "stream": "stdout",
       "text": [
        " pst.sbj.5=>fut.2"
       ]
      },
      {
       "output_type": "stream",
       "stream": "stdout",
       "text": [
        " pst.sbj.5=>fut.3"
       ]
      },
      {
       "output_type": "stream",
       "stream": "stdout",
       "text": [
        " pst.sbj.5=>fut.4"
       ]
      },
      {
       "output_type": "stream",
       "stream": "stdout",
       "text": [
        " pst.sbj.5=>fut.5"
       ]
      },
      {
       "output_type": "stream",
       "stream": "stdout",
       "text": [
        " pst.sbj.5=>fut.6"
       ]
      },
      {
       "output_type": "stream",
       "stream": "stdout",
       "text": [
        " pst.sbj.5=>cond.1"
       ]
      },
      {
       "output_type": "stream",
       "stream": "stdout",
       "text": [
        " pst.sbj.5=>cond.2"
       ]
      },
      {
       "output_type": "stream",
       "stream": "stdout",
       "text": [
        " pst.sbj.5=>cond.3"
       ]
      },
      {
       "output_type": "stream",
       "stream": "stdout",
       "text": [
        " pst.sbj.5=>cond.4"
       ]
      },
      {
       "output_type": "stream",
       "stream": "stdout",
       "text": [
        " pst.sbj.5=>cond.5"
       ]
      },
      {
       "output_type": "stream",
       "stream": "stdout",
       "text": [
        " pst.sbj.5=>cond.6"
       ]
      },
      {
       "output_type": "stream",
       "stream": "stdout",
       "text": [
        " pst.sbj.5=>pst.1"
       ]
      },
      {
       "output_type": "stream",
       "stream": "stdout",
       "text": [
        " pst.sbj.5=>pst.2 pst.sbj.5=>pst.3"
       ]
      },
      {
       "output_type": "stream",
       "stream": "stdout",
       "text": [
        " pst.sbj.5=>pst.4 pst.sbj.5=>pst.5"
       ]
      },
      {
       "output_type": "stream",
       "stream": "stdout",
       "text": [
        " pst.sbj.5=>pst.6 pst.sbj.5=>pst.sbj.1"
       ]
      },
      {
       "output_type": "stream",
       "stream": "stdout",
       "text": [
        " pst.sbj.5=>pst.sbj.2 pst.sbj.5=>pst.sbj.3 pst.sbj.5=>pst.sbj.4"
       ]
      },
      {
       "output_type": "stream",
       "stream": "stdout",
       "text": [
        " pst.sbj.5=>pst.sbj.6 pst.sbj.5=>inf"
       ]
      },
      {
       "output_type": "stream",
       "stream": "stdout",
       "text": [
        " pst.sbj.5=>prs.pcp"
       ]
      },
      {
       "output_type": "stream",
       "stream": "stdout",
       "text": [
        " pst.sbj.5=>pst.pcp"
       ]
      },
      {
       "output_type": "stream",
       "stream": "stdout",
       "text": [
        " pst.sbj.6=>ipf.1"
       ]
      },
      {
       "output_type": "stream",
       "stream": "stdout",
       "text": [
        " pst.sbj.6=>ipf.2"
       ]
      },
      {
       "output_type": "stream",
       "stream": "stdout",
       "text": [
        " pst.sbj.6=>ipf.3"
       ]
      },
      {
       "output_type": "stream",
       "stream": "stdout",
       "text": [
        " pst.sbj.6=>ipf.4"
       ]
      },
      {
       "output_type": "stream",
       "stream": "stdout",
       "text": [
        " pst.sbj.6=>ipf.5"
       ]
      },
      {
       "output_type": "stream",
       "stream": "stdout",
       "text": [
        " pst.sbj.6=>ipf.6"
       ]
      },
      {
       "output_type": "stream",
       "stream": "stdout",
       "text": [
        " pst.sbj.6=>prs.1"
       ]
      },
      {
       "output_type": "stream",
       "stream": "stdout",
       "text": [
        " pst.sbj.6=>prs.2"
       ]
      },
      {
       "output_type": "stream",
       "stream": "stdout",
       "text": [
        " pst.sbj.6=>prs.3"
       ]
      },
      {
       "output_type": "stream",
       "stream": "stdout",
       "text": [
        " pst.sbj.6=>prs.4"
       ]
      },
      {
       "output_type": "stream",
       "stream": "stdout",
       "text": [
        " pst.sbj.6=>prs.5"
       ]
      },
      {
       "output_type": "stream",
       "stream": "stdout",
       "text": [
        " pst.sbj.6=>prs.6"
       ]
      },
      {
       "output_type": "stream",
       "stream": "stdout",
       "text": [
        " pst.sbj.6=>imp.2"
       ]
      },
      {
       "output_type": "stream",
       "stream": "stdout",
       "text": [
        " pst.sbj.6=>imp.4"
       ]
      },
      {
       "output_type": "stream",
       "stream": "stdout",
       "text": [
        " pst.sbj.6=>imp.5"
       ]
      },
      {
       "output_type": "stream",
       "stream": "stdout",
       "text": [
        " pst.sbj.6=>sbjv.1"
       ]
      },
      {
       "output_type": "stream",
       "stream": "stdout",
       "text": [
        " pst.sbj.6=>sbjv.2"
       ]
      },
      {
       "output_type": "stream",
       "stream": "stdout",
       "text": [
        " pst.sbj.6=>sbjv.3"
       ]
      },
      {
       "output_type": "stream",
       "stream": "stdout",
       "text": [
        " pst.sbj.6=>sbjv.4"
       ]
      },
      {
       "output_type": "stream",
       "stream": "stdout",
       "text": [
        " pst.sbj.6=>sbjv.5"
       ]
      },
      {
       "output_type": "stream",
       "stream": "stdout",
       "text": [
        " pst.sbj.6=>sbjv.6"
       ]
      },
      {
       "output_type": "stream",
       "stream": "stdout",
       "text": [
        " pst.sbj.6=>fut.1"
       ]
      },
      {
       "output_type": "stream",
       "stream": "stdout",
       "text": [
        " pst.sbj.6=>fut.2"
       ]
      },
      {
       "output_type": "stream",
       "stream": "stdout",
       "text": [
        " pst.sbj.6=>fut.3"
       ]
      },
      {
       "output_type": "stream",
       "stream": "stdout",
       "text": [
        " pst.sbj.6=>fut.4"
       ]
      },
      {
       "output_type": "stream",
       "stream": "stdout",
       "text": [
        " pst.sbj.6=>fut.5"
       ]
      },
      {
       "output_type": "stream",
       "stream": "stdout",
       "text": [
        " pst.sbj.6=>fut.6"
       ]
      },
      {
       "output_type": "stream",
       "stream": "stdout",
       "text": [
        " pst.sbj.6=>cond.1"
       ]
      },
      {
       "output_type": "stream",
       "stream": "stdout",
       "text": [
        " pst.sbj.6=>cond.2"
       ]
      },
      {
       "output_type": "stream",
       "stream": "stdout",
       "text": [
        " pst.sbj.6=>cond.3"
       ]
      },
      {
       "output_type": "stream",
       "stream": "stdout",
       "text": [
        " pst.sbj.6=>cond.4"
       ]
      },
      {
       "output_type": "stream",
       "stream": "stdout",
       "text": [
        " pst.sbj.6=>cond.5"
       ]
      },
      {
       "output_type": "stream",
       "stream": "stdout",
       "text": [
        " pst.sbj.6=>cond.6"
       ]
      },
      {
       "output_type": "stream",
       "stream": "stdout",
       "text": [
        " pst.sbj.6=>pst.1"
       ]
      },
      {
       "output_type": "stream",
       "stream": "stdout",
       "text": [
        " pst.sbj.6=>pst.2 pst.sbj.6=>pst.3"
       ]
      },
      {
       "output_type": "stream",
       "stream": "stdout",
       "text": [
        " pst.sbj.6=>pst.4 pst.sbj.6=>pst.5 pst.sbj.6=>pst.6"
       ]
      },
      {
       "output_type": "stream",
       "stream": "stdout",
       "text": [
        " pst.sbj.6=>pst.sbj.1 pst.sbj.6=>pst.sbj.2"
       ]
      },
      {
       "output_type": "stream",
       "stream": "stdout",
       "text": [
        " pst.sbj.6=>pst.sbj.3 pst.sbj.6=>pst.sbj.4 pst.sbj.6=>pst.sbj.5"
       ]
      },
      {
       "output_type": "stream",
       "stream": "stdout",
       "text": [
        " pst.sbj.6=>inf pst.sbj.6=>prs.pcp"
       ]
      },
      {
       "output_type": "stream",
       "stream": "stdout",
       "text": [
        " pst.sbj.6=>pst.pcp"
       ]
      },
      {
       "output_type": "stream",
       "stream": "stdout",
       "text": [
        " inf=>ipf.1"
       ]
      },
      {
       "output_type": "stream",
       "stream": "stdout",
       "text": [
        " inf=>ipf.2"
       ]
      },
      {
       "output_type": "stream",
       "stream": "stdout",
       "text": [
        " inf=>ipf.3"
       ]
      },
      {
       "output_type": "stream",
       "stream": "stdout",
       "text": [
        " inf=>ipf.4"
       ]
      },
      {
       "output_type": "stream",
       "stream": "stdout",
       "text": [
        " inf=>ipf.5"
       ]
      },
      {
       "output_type": "stream",
       "stream": "stdout",
       "text": [
        " inf=>ipf.6"
       ]
      },
      {
       "output_type": "stream",
       "stream": "stdout",
       "text": [
        " inf=>prs.1"
       ]
      },
      {
       "output_type": "stream",
       "stream": "stdout",
       "text": [
        " inf=>prs.2"
       ]
      },
      {
       "output_type": "stream",
       "stream": "stdout",
       "text": [
        " inf=>prs.3"
       ]
      },
      {
       "output_type": "stream",
       "stream": "stdout",
       "text": [
        " inf=>prs.4"
       ]
      },
      {
       "output_type": "stream",
       "stream": "stdout",
       "text": [
        " inf=>prs.5"
       ]
      },
      {
       "output_type": "stream",
       "stream": "stdout",
       "text": [
        " inf=>prs.6"
       ]
      },
      {
       "output_type": "stream",
       "stream": "stdout",
       "text": [
        " inf=>imp.2"
       ]
      },
      {
       "output_type": "stream",
       "stream": "stdout",
       "text": [
        " inf=>imp.4"
       ]
      },
      {
       "output_type": "stream",
       "stream": "stdout",
       "text": [
        " inf=>imp.5"
       ]
      },
      {
       "output_type": "stream",
       "stream": "stdout",
       "text": [
        " inf=>sbjv.1"
       ]
      },
      {
       "output_type": "stream",
       "stream": "stdout",
       "text": [
        " inf=>sbjv.2"
       ]
      },
      {
       "output_type": "stream",
       "stream": "stdout",
       "text": [
        " inf=>sbjv.3"
       ]
      },
      {
       "output_type": "stream",
       "stream": "stdout",
       "text": [
        " inf=>sbjv.4"
       ]
      },
      {
       "output_type": "stream",
       "stream": "stdout",
       "text": [
        " inf=>sbjv.5"
       ]
      },
      {
       "output_type": "stream",
       "stream": "stdout",
       "text": [
        " inf=>sbjv.6"
       ]
      },
      {
       "output_type": "stream",
       "stream": "stdout",
       "text": [
        " inf=>fut.1"
       ]
      },
      {
       "output_type": "stream",
       "stream": "stdout",
       "text": [
        " inf=>fut.2"
       ]
      },
      {
       "output_type": "stream",
       "stream": "stdout",
       "text": [
        " inf=>fut.3"
       ]
      },
      {
       "output_type": "stream",
       "stream": "stdout",
       "text": [
        " inf=>fut.4"
       ]
      },
      {
       "output_type": "stream",
       "stream": "stdout",
       "text": [
        " inf=>fut.5"
       ]
      },
      {
       "output_type": "stream",
       "stream": "stdout",
       "text": [
        " inf=>fut.6"
       ]
      },
      {
       "output_type": "stream",
       "stream": "stdout",
       "text": [
        " inf=>cond.1"
       ]
      },
      {
       "output_type": "stream",
       "stream": "stdout",
       "text": [
        " inf=>cond.2"
       ]
      },
      {
       "output_type": "stream",
       "stream": "stdout",
       "text": [
        " inf=>cond.3"
       ]
      },
      {
       "output_type": "stream",
       "stream": "stdout",
       "text": [
        " inf=>cond.4"
       ]
      },
      {
       "output_type": "stream",
       "stream": "stdout",
       "text": [
        " inf=>cond.5"
       ]
      },
      {
       "output_type": "stream",
       "stream": "stdout",
       "text": [
        " inf=>cond.6"
       ]
      },
      {
       "output_type": "stream",
       "stream": "stdout",
       "text": [
        " inf=>pst.1"
       ]
      },
      {
       "output_type": "stream",
       "stream": "stdout",
       "text": [
        " inf=>pst.2"
       ]
      },
      {
       "output_type": "stream",
       "stream": "stdout",
       "text": [
        " inf=>pst.3"
       ]
      },
      {
       "output_type": "stream",
       "stream": "stdout",
       "text": [
        " inf=>pst.4"
       ]
      },
      {
       "output_type": "stream",
       "stream": "stdout",
       "text": [
        " inf=>pst.5"
       ]
      },
      {
       "output_type": "stream",
       "stream": "stdout",
       "text": [
        " inf=>pst.6"
       ]
      },
      {
       "output_type": "stream",
       "stream": "stdout",
       "text": [
        " inf=>pst.sbj.1"
       ]
      },
      {
       "output_type": "stream",
       "stream": "stdout",
       "text": [
        " inf=>pst.sbj.2"
       ]
      },
      {
       "output_type": "stream",
       "stream": "stdout",
       "text": [
        " inf=>pst.sbj.3"
       ]
      },
      {
       "output_type": "stream",
       "stream": "stdout",
       "text": [
        " inf=>pst.sbj.4"
       ]
      },
      {
       "output_type": "stream",
       "stream": "stdout",
       "text": [
        " inf=>pst.sbj.5"
       ]
      },
      {
       "output_type": "stream",
       "stream": "stdout",
       "text": [
        " inf=>pst.sbj.6"
       ]
      },
      {
       "output_type": "stream",
       "stream": "stdout",
       "text": [
        " inf=>prs.pcp"
       ]
      },
      {
       "output_type": "stream",
       "stream": "stdout",
       "text": [
        " inf=>pst.pcp"
       ]
      },
      {
       "output_type": "stream",
       "stream": "stdout",
       "text": [
        " prs.pcp=>ipf.1"
       ]
      },
      {
       "output_type": "stream",
       "stream": "stdout",
       "text": [
        " prs.pcp=>ipf.2"
       ]
      },
      {
       "output_type": "stream",
       "stream": "stdout",
       "text": [
        " prs.pcp=>ipf.3"
       ]
      },
      {
       "output_type": "stream",
       "stream": "stdout",
       "text": [
        " prs.pcp=>ipf.4"
       ]
      },
      {
       "output_type": "stream",
       "stream": "stdout",
       "text": [
        " prs.pcp=>ipf.5"
       ]
      },
      {
       "output_type": "stream",
       "stream": "stdout",
       "text": [
        " prs.pcp=>ipf.6"
       ]
      },
      {
       "output_type": "stream",
       "stream": "stdout",
       "text": [
        " prs.pcp=>prs.1"
       ]
      },
      {
       "output_type": "stream",
       "stream": "stdout",
       "text": [
        " prs.pcp=>prs.2"
       ]
      },
      {
       "output_type": "stream",
       "stream": "stdout",
       "text": [
        " prs.pcp=>prs.3"
       ]
      },
      {
       "output_type": "stream",
       "stream": "stdout",
       "text": [
        " prs.pcp=>prs.4"
       ]
      },
      {
       "output_type": "stream",
       "stream": "stdout",
       "text": [
        " prs.pcp=>prs.5"
       ]
      },
      {
       "output_type": "stream",
       "stream": "stdout",
       "text": [
        " prs.pcp=>prs.6"
       ]
      },
      {
       "output_type": "stream",
       "stream": "stdout",
       "text": [
        " prs.pcp=>imp.2"
       ]
      },
      {
       "output_type": "stream",
       "stream": "stdout",
       "text": [
        " prs.pcp=>imp.4"
       ]
      },
      {
       "output_type": "stream",
       "stream": "stdout",
       "text": [
        " prs.pcp=>imp.5"
       ]
      },
      {
       "output_type": "stream",
       "stream": "stdout",
       "text": [
        " prs.pcp=>sbjv.1"
       ]
      },
      {
       "output_type": "stream",
       "stream": "stdout",
       "text": [
        " prs.pcp=>sbjv.2"
       ]
      },
      {
       "output_type": "stream",
       "stream": "stdout",
       "text": [
        " prs.pcp=>sbjv.3"
       ]
      },
      {
       "output_type": "stream",
       "stream": "stdout",
       "text": [
        " prs.pcp=>sbjv.4"
       ]
      },
      {
       "output_type": "stream",
       "stream": "stdout",
       "text": [
        " prs.pcp=>sbjv.5"
       ]
      },
      {
       "output_type": "stream",
       "stream": "stdout",
       "text": [
        " prs.pcp=>sbjv.6"
       ]
      },
      {
       "output_type": "stream",
       "stream": "stdout",
       "text": [
        " prs.pcp=>fut.1"
       ]
      },
      {
       "output_type": "stream",
       "stream": "stdout",
       "text": [
        " prs.pcp=>fut.2"
       ]
      },
      {
       "output_type": "stream",
       "stream": "stdout",
       "text": [
        " prs.pcp=>fut.3"
       ]
      },
      {
       "output_type": "stream",
       "stream": "stdout",
       "text": [
        " prs.pcp=>fut.4"
       ]
      },
      {
       "output_type": "stream",
       "stream": "stdout",
       "text": [
        " prs.pcp=>fut.5"
       ]
      },
      {
       "output_type": "stream",
       "stream": "stdout",
       "text": [
        " prs.pcp=>fut.6"
       ]
      },
      {
       "output_type": "stream",
       "stream": "stdout",
       "text": [
        " prs.pcp=>cond.1"
       ]
      },
      {
       "output_type": "stream",
       "stream": "stdout",
       "text": [
        " prs.pcp=>cond.2"
       ]
      },
      {
       "output_type": "stream",
       "stream": "stdout",
       "text": [
        " prs.pcp=>cond.3"
       ]
      },
      {
       "output_type": "stream",
       "stream": "stdout",
       "text": [
        " prs.pcp=>cond.4"
       ]
      },
      {
       "output_type": "stream",
       "stream": "stdout",
       "text": [
        " prs.pcp=>cond.5"
       ]
      },
      {
       "output_type": "stream",
       "stream": "stdout",
       "text": [
        " prs.pcp=>cond.6"
       ]
      },
      {
       "output_type": "stream",
       "stream": "stdout",
       "text": [
        " prs.pcp=>pst.1"
       ]
      },
      {
       "output_type": "stream",
       "stream": "stdout",
       "text": [
        " prs.pcp=>pst.2"
       ]
      },
      {
       "output_type": "stream",
       "stream": "stdout",
       "text": [
        " prs.pcp=>pst.3"
       ]
      },
      {
       "output_type": "stream",
       "stream": "stdout",
       "text": [
        " prs.pcp=>pst.4"
       ]
      },
      {
       "output_type": "stream",
       "stream": "stdout",
       "text": [
        " prs.pcp=>pst.5"
       ]
      },
      {
       "output_type": "stream",
       "stream": "stdout",
       "text": [
        " prs.pcp=>pst.6"
       ]
      },
      {
       "output_type": "stream",
       "stream": "stdout",
       "text": [
        " prs.pcp=>pst.sbj.1"
       ]
      },
      {
       "output_type": "stream",
       "stream": "stdout",
       "text": [
        " prs.pcp=>pst.sbj.2"
       ]
      },
      {
       "output_type": "stream",
       "stream": "stdout",
       "text": [
        " prs.pcp=>pst.sbj.3"
       ]
      },
      {
       "output_type": "stream",
       "stream": "stdout",
       "text": [
        " prs.pcp=>pst.sbj.4"
       ]
      },
      {
       "output_type": "stream",
       "stream": "stdout",
       "text": [
        " prs.pcp=>pst.sbj.5"
       ]
      },
      {
       "output_type": "stream",
       "stream": "stdout",
       "text": [
        " prs.pcp=>pst.sbj.6"
       ]
      },
      {
       "output_type": "stream",
       "stream": "stdout",
       "text": [
        " prs.pcp=>inf"
       ]
      },
      {
       "output_type": "stream",
       "stream": "stdout",
       "text": [
        " prs.pcp=>pst.pcp"
       ]
      },
      {
       "output_type": "stream",
       "stream": "stdout",
       "text": [
        " pst.pcp=>ipf.1"
       ]
      },
      {
       "output_type": "stream",
       "stream": "stdout",
       "text": [
        " pst.pcp=>ipf.2"
       ]
      },
      {
       "output_type": "stream",
       "stream": "stdout",
       "text": [
        " pst.pcp=>ipf.3"
       ]
      },
      {
       "output_type": "stream",
       "stream": "stdout",
       "text": [
        " pst.pcp=>ipf.4"
       ]
      },
      {
       "output_type": "stream",
       "stream": "stdout",
       "text": [
        " pst.pcp=>ipf.5"
       ]
      },
      {
       "output_type": "stream",
       "stream": "stdout",
       "text": [
        " pst.pcp=>ipf.6"
       ]
      },
      {
       "output_type": "stream",
       "stream": "stdout",
       "text": [
        " pst.pcp=>prs.1"
       ]
      },
      {
       "output_type": "stream",
       "stream": "stdout",
       "text": [
        " pst.pcp=>prs.2"
       ]
      },
      {
       "output_type": "stream",
       "stream": "stdout",
       "text": [
        " pst.pcp=>prs.3"
       ]
      },
      {
       "output_type": "stream",
       "stream": "stdout",
       "text": [
        " pst.pcp=>prs.4"
       ]
      },
      {
       "output_type": "stream",
       "stream": "stdout",
       "text": [
        " pst.pcp=>prs.5"
       ]
      },
      {
       "output_type": "stream",
       "stream": "stdout",
       "text": [
        " pst.pcp=>prs.6"
       ]
      },
      {
       "output_type": "stream",
       "stream": "stdout",
       "text": [
        " pst.pcp=>imp.2"
       ]
      },
      {
       "output_type": "stream",
       "stream": "stdout",
       "text": [
        " pst.pcp=>imp.4"
       ]
      },
      {
       "output_type": "stream",
       "stream": "stdout",
       "text": [
        " pst.pcp=>imp.5"
       ]
      },
      {
       "output_type": "stream",
       "stream": "stdout",
       "text": [
        " pst.pcp=>sbjv.1"
       ]
      },
      {
       "output_type": "stream",
       "stream": "stdout",
       "text": [
        " pst.pcp=>sbjv.2"
       ]
      },
      {
       "output_type": "stream",
       "stream": "stdout",
       "text": [
        " pst.pcp=>sbjv.3"
       ]
      },
      {
       "output_type": "stream",
       "stream": "stdout",
       "text": [
        " pst.pcp=>sbjv.4"
       ]
      },
      {
       "output_type": "stream",
       "stream": "stdout",
       "text": [
        " pst.pcp=>sbjv.5"
       ]
      },
      {
       "output_type": "stream",
       "stream": "stdout",
       "text": [
        " pst.pcp=>sbjv.6"
       ]
      },
      {
       "output_type": "stream",
       "stream": "stdout",
       "text": [
        " pst.pcp=>fut.1"
       ]
      },
      {
       "output_type": "stream",
       "stream": "stdout",
       "text": [
        " pst.pcp=>fut.2"
       ]
      },
      {
       "output_type": "stream",
       "stream": "stdout",
       "text": [
        " pst.pcp=>fut.3"
       ]
      },
      {
       "output_type": "stream",
       "stream": "stdout",
       "text": [
        " pst.pcp=>fut.4"
       ]
      },
      {
       "output_type": "stream",
       "stream": "stdout",
       "text": [
        " pst.pcp=>fut.5"
       ]
      },
      {
       "output_type": "stream",
       "stream": "stdout",
       "text": [
        " pst.pcp=>fut.6"
       ]
      },
      {
       "output_type": "stream",
       "stream": "stdout",
       "text": [
        " pst.pcp=>cond.1"
       ]
      },
      {
       "output_type": "stream",
       "stream": "stdout",
       "text": [
        " pst.pcp=>cond.2"
       ]
      },
      {
       "output_type": "stream",
       "stream": "stdout",
       "text": [
        " pst.pcp=>cond.3"
       ]
      },
      {
       "output_type": "stream",
       "stream": "stdout",
       "text": [
        " pst.pcp=>cond.4"
       ]
      },
      {
       "output_type": "stream",
       "stream": "stdout",
       "text": [
        " pst.pcp=>cond.5"
       ]
      },
      {
       "output_type": "stream",
       "stream": "stdout",
       "text": [
        " pst.pcp=>cond.6"
       ]
      },
      {
       "output_type": "stream",
       "stream": "stdout",
       "text": [
        " pst.pcp=>pst.1"
       ]
      },
      {
       "output_type": "stream",
       "stream": "stdout",
       "text": [
        " pst.pcp=>pst.2"
       ]
      },
      {
       "output_type": "stream",
       "stream": "stdout",
       "text": [
        " pst.pcp=>pst.3"
       ]
      },
      {
       "output_type": "stream",
       "stream": "stdout",
       "text": [
        " pst.pcp=>pst.4"
       ]
      },
      {
       "output_type": "stream",
       "stream": "stdout",
       "text": [
        " pst.pcp=>pst.5"
       ]
      },
      {
       "output_type": "stream",
       "stream": "stdout",
       "text": [
        " pst.pcp=>pst.6"
       ]
      },
      {
       "output_type": "stream",
       "stream": "stdout",
       "text": [
        " pst.pcp=>pst.sbj.1"
       ]
      },
      {
       "output_type": "stream",
       "stream": "stdout",
       "text": [
        " pst.pcp=>pst.sbj.2"
       ]
      },
      {
       "output_type": "stream",
       "stream": "stdout",
       "text": [
        " pst.pcp=>pst.sbj.3"
       ]
      },
      {
       "output_type": "stream",
       "stream": "stdout",
       "text": [
        " pst.pcp=>pst.sbj.4"
       ]
      },
      {
       "output_type": "stream",
       "stream": "stdout",
       "text": [
        " pst.pcp=>pst.sbj.5"
       ]
      },
      {
       "output_type": "stream",
       "stream": "stdout",
       "text": [
        " pst.pcp=>pst.sbj.6"
       ]
      },
      {
       "output_type": "stream",
       "stream": "stdout",
       "text": [
        " pst.pcp=>inf"
       ]
      },
      {
       "output_type": "stream",
       "stream": "stdout",
       "text": [
        " pst.pcp=>prs.pcp"
       ]
      },
      {
       "output_type": "stream",
       "stream": "stdout",
       "text": [
        " CPU times: user 12min 44s, sys: 8.65 s, total: 12min 53s"
       ]
      },
      {
       "output_type": "stream",
       "stream": "stdout",
       "text": [
        "\n",
        "Wall time: 12min 49s\n"
       ]
      }
     ],
     "prompt_number": 4
    },
    {
     "cell_type": "markdown",
     "metadata": {},
     "source": [
      "###Sauver les r\u00e8gles et les classes\n",
      "Pickle permet de sauver un objet dans un fichier\n",
      "\n",
      "- Regles.pkl pour les r\u00e8gles\n",
      "- Classes.pkl pour les classes"
     ]
    },
    {
     "cell_type": "code",
     "collapsed": false,
     "input": [
      "with open(filePrefix+'Regles.pkl', 'wb') as output:\n",
      "   pickle.dump(analyse, output, pickle.HIGHEST_PROTOCOL)\n"
     ],
     "language": "python",
     "metadata": {},
     "outputs": [],
     "prompt_number": 5
    },
    {
     "cell_type": "code",
     "collapsed": false,
     "input": [
      "with open(filePrefix+'Classes.pkl', 'wb') as output:\n",
      "    pickle.dump(classification, output, pickle.HIGHEST_PROTOCOL)\n"
     ],
     "language": "python",
     "metadata": {},
     "outputs": [],
     "prompt_number": 6
    },
    {
     "cell_type": "code",
     "collapsed": false,
     "input": [
      "analyse=Regles()\n",
      "classification=Classes()"
     ],
     "language": "python",
     "metadata": {},
     "outputs": [],
     "prompt_number": 7
    },
    {
     "cell_type": "code",
     "collapsed": false,
     "input": [
      "with open(filePrefix+'Regles.pkl', 'rb') as input:\n",
      "    analyse = pickle.load(input)\n",
      "with open(filePrefix+'Classes.pkl', 'rb') as input:\n",
      "    classification = pickle.load(input)\n"
     ],
     "language": "python",
     "metadata": {},
     "outputs": [],
     "prompt_number": 8
    },
    {
     "cell_type": "code",
     "collapsed": false,
     "input": [
      "analyse.regles[:100]"
     ],
     "language": "python",
     "metadata": {},
     "outputs": [
      {
       "metadata": {},
       "output_type": "pyout",
       "prompt_number": 9,
       "text": [
        "[[] --> [] / X[p,t,k,b,d,g,f,s,S,v,z,Z,m,n,J,j,l,r,w,H,i,y,E,6,u,o,\u00ea,\u00fb,\u00f4]E ___ #\t,\n",
        " E --> ij\u00f4 / X[p,t,k,b,d,g,f,s,S,v,z,Z][l,r] ___ #\t,\n",
        " E --> j\u00f4 / X[p,t,k,b,d,g,f,s,S,v,z,Z,m,n,J,j,l,r,w,H,i,y,E,6,u,o,\u00ea,\u00fb,\u00f4] ___ #\t,\n",
        " E --> \u00f4 / X[J,j] ___ #\t,\n",
        " E --> ijE / X[p,t,k,b,d,g,f,s,S,v,z,Z][l,r] ___ #\t,\n",
        " E --> jE / X[p,t,k,b,d,g,f,s,S,v,z,Z,m,n,J,j,l,r,w,H,i,y,E,6,u,o,\u00ea,\u00fb,\u00f4] ___ #\t,\n",
        " [] --> [] / X[J,j]E ___ #\t,\n",
        " E --> [] / X[p,t,k,b,d,g,f,s,S,v,z,Z,m,n,J,j,l,r,w,H,i,y,E,6,u,o,\u00ea,\u00fb,\u00f4] ___ #\t,\n",
        " 6zE --> Ez / Xp ___ #\t,\n",
        " 6nE --> En / X[p,t,b,d,f,s,v,z,m,n,l,r] ___ #\t,\n",
        " zE --> [] / X[p,t,k,b,d,g,f,s,S,v,z,Z,j,l,r,w,H][i,y,E,6,u,o] ___ #\t,\n",
        " sE --> [] / X[i,E,a] ___ #\t,\n",
        " jE --> i / X[p,t,k,b,d,g,f,s,S,v,z,Z,m,n,J,l,r] ___ #\t,\n",
        " dE --> [] / X[p,t,b,d,f,s,v,z,r,E,6,o][r,o,\u00e2,\u00f4] ___ #\t,\n",
        " 6lE --> El / X[p,t,k,b,d,g,f,s,S,v,z,Z,m,n,J,r] ___ #\t,\n",
        " jE --> [] / X[p,t,k,b,d,g,f,s,S,v,z,Z,j,l,r,w,H][i,y,E,6,a,u,o] ___ #\t,\n",
        " 6nE --> \u00e2 / Xpr ___ #\t,\n",
        " 6tE --> Et / X[p,t,k,b,d,g,f,s,S,v,z,Z,m,n,J,j,l,r] ___ #\t,\n",
        " 6zE --> E / Xf ___ #\t,\n",
        " EJE --> \u00ea / X[p,t,k,b,d,g,f,s,S,v,z,Z,l,r] ___ #\t,\n",
        " 6nE --> j\u00ea / X[p,t,b,d,f,s,v,z] ___ #\t,\n",
        " vE --> [] / X[v,j,r,w,H,E,6,o][j,r,i,E] ___ #\t,\n",
        " 6vrE --> Evr / #s ___ #\t,\n",
        " ulE --> 6 / Xv ___ #\t,\n",
        " tE --> [] / X[p,t,b,d,f,s,v,z,m,n,r,E,6,a,o,\u00ea,\u00fb,\u00e2,\u00f4][r,E,a,\u00ea,\u00e2] ___ #\t,\n",
        " 6vE --> Ev / X[f,s,S,v,z,Z,l,r] ___ #\t,\n",
        " lE --> [] / Xmu ___ #\t,\n",
        " EtE --> sHi / # ___ #\t,\n",
        " aJE --> \u00ea / XZw ___ #\t,\n",
        " yvE --> wa / #b ___ #\t,\n",
        " urE --> 6r / #m ___ #\t,\n",
        " mE --> [] / X[p,t,b,d,f,s,v,z]or ___ #\t,\n",
        " ErE --> jEr / X[E,6,a,o,\u00ea,\u00fb,\u00e2,\u00f4]k ___ #\t,\n",
        " pE --> [] / Xr\u00f4 ___ #\t,\n",
        " aisE --> E / #\u00e2tr6 ___ #\t,\n",
        " 6vE --> wa / X[t,d,s,z] ___ #\t,\n",
        " 6pE --> Ep / #r6s ___ #\t,\n",
        " 6sE --> Es / X[d,l][E,a][p,b,m] ___ #\t,\n",
        " alE --> o / Xv ___ #\t,\n",
        " 6mE --> Em / Xs ___ #\t,\n",
        " 6rE --> Er / #liz ___ #\t,\n",
        " uvE --> 6 / Xm ___ #\t,\n",
        " EjE --> jE / Xas ___ #\t,\n",
        " avE --> E / #s ___ #\t,\n",
        " aisE --> E / # ___ #\t,\n",
        " tE --> pt / X[d,z][\u00e2,\u00f4] ___ #\t,\n",
        " alE --> vE / # ___ #\t,\n",
        " kE --> [] / Xv\u00ea ___ #\t,\n",
        " olvE --> u / #rEz ___ #\t,\n",
        " ojE --> wa / # ___ #\t,\n",
        " avE --> E / # ___ #\t,\n",
        " vE --> [] / X[j,r,i,E,a] ___ #\t,\n",
        " tE --> [] / X[r,E,a,\u00ea,\u00e2] ___ #\t,\n",
        " alE --> va / # ___ #\t,\n",
        " E --> \u00f4 / X[p,t,k,b,d,g,f,s,S,v,z,Z,m,n,J,j,l,r,w,H,i,y,E,6,u,o,\u00ea,\u00fb,\u00f4] ___ #\t,\n",
        " EtE --> som / # ___ #\t,\n",
        " 6zE --> Et / Xf ___ #\t,\n",
        " E --> [] / #Et ___ #\t,\n",
        " zE --> t / Xdi ___ #\t,\n",
        " jE --> i / X[p,t,k,b,d,g,f,s,S,v,z,Z,m,n,J,j,l,r,E,\u00ea] ___ #\t,\n",
        " jE --> [] / X[p,t,k,b,d,g,f,s,S,v,z,Z,j,l,r,w,H][i,E,a] ___ #\t,\n",
        " 6zE --> \u00f4 / Xf ___ #\t,\n",
        " 6nE --> jEn / X[p,t,b,d,f,s,v,z] ___ #\t,\n",
        " ulE --> 6l / Xv ___ #\t,\n",
        " EtE --> s\u00f4 / # ___ #\t,\n",
        " yvE --> wav / #b ___ #\t,\n",
        " 6vE --> wav / X[t,d,s,z] ___ #\t,\n",
        " uvE --> 6v / Xm ___ #\t,\n",
        " alE --> v\u00f4 / # ___ #\t,\n",
        " avE --> \u00f4 / # ___ #\t,\n",
        " EtE --> swa / # ___ #\t,\n",
        " vE --> S / #sa ___ #\t,\n",
        " EtE --> swaj\u00f4 / # ___ #\t,\n",
        " vE --> S\u00f4 / #sa ___ #\t,\n",
        " avE --> Ej\u00f4 / # ___ #\t,\n",
        " EtE --> swajE / # ___ #\t,\n",
        " vE --> SE / #sa ___ #\t,\n",
        " avE --> EjE / # ___ #\t,\n",
        " 6zE --> as / Xf ___ #\t,\n",
        " ulE --> 6j / Xv ___ #\t,\n",
        " lE --> j / Xa ___ #\t,\n",
        " 6zE --> asj\u00f4 / Xf ___ #\t,\n",
        " vE --> Sj\u00f4 / #sa ___ #\t,\n",
        " 6zE --> asjE / Xf ___ #\t,\n",
        " vE --> SjE / #sa ___ #\t,\n",
        " E --> 6rE / X[p,t,k,b,d,g,f,s,S,v,z,Z,m,n,J,j,l,r] ___ #\t,\n",
        " 6zE --> Ez6rE / Xp ___ #\t,\n",
        " 6nE --> En6rE / X[p,t,b,d,f,s,v,z,m,n,l,r] ___ #\t,\n",
        " zE --> drE / Xku ___ #\t,\n",
        " sE --> rE / Xi ___ #\t,\n",
        " jE --> irE / X[p,t,k,b,d,g,f,s,S,v,z,Z,m,n,J,l,r] ___ #\t,\n",
        " E --> rE / X[p,t,k,b,d,g,f,s,S,v,z,Z,j,r,w,H,i,y,E,6,u,o] ___ #\t,\n",
        " 6lE --> El6rE / X[p,t,k,b,d,g,f,s,S,v,z,Z,m,n,J,r] ___ #\t,\n",
        " jE --> rE / X[p,t,k,b,d,g,f,s,S,v,z,Z,j,l,r,w,H][i,E,a] ___ #\t,\n",
        " 6nE --> \u00e2drE / Xpr ___ #\t,\n",
        " zE --> rE / X[p,t,k,b,d,g,f,s,S,v,z,Z,j,l,r,w,H][i,y,E,6] ___ #\t,\n",
        " 6tE --> Et6rE / X[p,t,k,b,d,g,f,s,S,v,z,Z,m,n,J,j,l,r] ___ #\t,\n",
        " EJE --> \u00eadrE / X[p,t,k,b,d,g,f,s,S,v,z,Z,l,r] ___ #\t,\n",
        " 6nE --> j\u00eadrE / X[p,t,b,d,f,s,v,z] ___ #\t,\n",
        " vE --> rE / X[s,z,E]kri ___ #\t]"
       ]
      }
     ],
     "prompt_number": 9
    },
    {
     "cell_type": "code",
     "collapsed": false,
     "input": [
      "classification.classes[Paire(\"prs.3\",\"prs.4\")]"
     ],
     "language": "python",
     "metadata": {},
     "outputs": [
      {
       "metadata": {},
       "output_type": "pyout",
       "prompt_number": 12,
       "text": [
        "[1551-1627-1642 : [1642 (0), 1627 (0), 1551 (1 \u00e9treindre)],\n",
        " 1627-2281 : [2281 (0), 1627 (1 \u00e9purer)],\n",
        " 1551-1627-1642-1663 : [1551 (0), 1642 (0), 1627 (0), 1663 (1 convaincre)],\n",
        " 1627-1656 : [1656 (0.8 ressemer), 1627 (0.2 essaimer)],\n",
        " 1627-1632-1640-1642-2281 : [1632 (0), 2281 (0), 1642 (0), 1627 (0), 1640 (1 sevrer)],\n",
        " 1632-1642 : [1632 (0.85 pendre), 1642 (0.15 ressentir)],\n",
        " 1631-1634-1642-2281 : [2281 (0), 1634 (0), 1642 (1 combattre), 1631 (0)],\n",
        " 1627-1630-1631-1634-1637-1642-2281 : [1634 (0), 1637 (1 d\u00e9faire), 2281 (0), 1642 (0), 1627 (0), 1630 (0), 1631 (0)],\n",
        " 1627-1653 : [1627 (0.5 rec\u00e9per), 1653 (0.5 receper)],\n",
        " 1627-1631-1642-1651-2281 : [2281 (0), 1642 (0), 1627 (0), 1651 (1 entre-ha\u00efr), 1631 (0)],\n",
        " 1545-1627-1631-2281 : [1545 (0.2 excommunier), 1631 (0.8 raffermir), 1627 (0), 2281 (0)],\n",
        " 1627-1633 : [1633 (0.75 ficeler), 1627 (0.25 v\u00ealer)],\n",
        " 1627-1636 : [1627 (0.44 secr\u00e9ter), 1636 (0.56 racheter)],\n",
        " 1627-1654 : [1627 (0), 1654 (1 clamecer)],\n",
        " 1627-1632-1642-1648-2281 : [1632 (0.11 retordre), 2281 (0), 1642 (0.06 sortir), 1627 (0.69 abhorrer), 1648 (0.14 endormir)],\n",
        " 1631-1634-2281 : [2281 (0), 1634 (0.92 \u00e9ployer), 1631 (0.08 accro\u00eetre)],\n",
        " 1545-1627-1630-1631-1634-2281 : [1634 (0.04 rire), 2281 (0.03 proscrire), 1545 (0.44 scarifier), 1627 (0), 1630 (0.03 suffire), 1631 (0.47 d\u00e9semplir)],\n",
        " 1627-1630-1631-1634-1642-2281 : [1634 (0), 2281 (0), 1642 (0.11 v\u00eatir), 1627 (0.54 gr\u00e9er), 1630 (0.04 taire), 1631 (0.32 compara\u00eetre)],\n",
        " 1631-1634-1642-2281-2283 : [2281 (0), 1634 (0), 2283 (1 aller), 1642 (0), 1631 (0)],\n",
        " 1627-1661 : [1627 (0), 1661 (1 dompter)],\n",
        " 1627-1630-1634-1664 : [1664 (1 r\u00e9soudre), 1634 (0), 1627 (0), 1630 (0)],\n",
        " 1631-2281 : [2281 (1 avoir), 1631 (0)],\n",
        " 1627-1642-2281 : [2281 (0), 1642 (0.08 partir), 1627 (0.92 pr\u00e9parer)],\n",
        " 1627-1631-2281 : [2281 (0), 1627 (0), 1631 (1 rouir)],\n",
        " 1631-1634-1652-2281 : [2281 (0), 1634 (0.69 jointoyer), 1652 (0.31 redevoir), 1631 (0)],\n",
        " 1551-1627 : [1627 (0), 1551 (1 plaindre)],\n",
        " 1627-1632-1642-1657-2281 : [1632 (0), 2281 (0), 1642 (0), 1627 (0.5 lis\u00e9rer), 1657 (0.5 liserer)],\n",
        " 1627 : [1627 (1 frusquer)],\n",
        " 1574-1627-1630-1631-1634-2281 : [1634 (0), 1574 (1 rasseoir_2), 2281 (0), 1627 (0), 1630 (0), 1631 (0)],\n",
        " 1627-1630-1634-1641 : [1641 (1 revouloir), 1634 (0), 1627 (0), 1630 (0)],\n",
        " 1627-1638 : [1627 (0), 1638 (1 entretenir)],\n",
        " 1581-1631-1634-2281 : [2281 (0), 1634 (0), 1581 (1 ou\u00efr), 1631 (0)],\n",
        " 1627-1630-1634 : [1634 (0.03 rebouillir), 1627 (0.94 \u00e9cobuer), 1630 (0.03 coudre)],\n",
        " 1642 : [1642 (1 d\u00e9mentir)],\n",
        " 1627-1644 : [1627 (0), 1644 (1 moudre)],\n",
        " 1632-1635-1642 : [1632 (0), 1642 (0), 1635 (1 reprendre)],\n",
        " 1627-1630-1631-1634-1642-1659-2281 : [1634 (0), 1627 (0), 2281 (0), 1642 (0), 1659 (1 savoir), 1630 (0), 1631 (0)],\n",
        " 1627-1630-1631-1634-2281 : [2281 (0.04 poursuivre), 1634 (0.15 ennuyer), 1627 (0.07 \u00e9nucl\u00e9er), 1630 (0.63 plaire), 1631 (0.11 jaillir)],\n",
        " 1627-1631-1642-2281 : [2281 (0), 1642 (0.73 admettre), 1627 (0.05 d\u00e9lin\u00e9er), 1631 (0.23 conna\u00eetre)],\n",
        " 1627-1643 : [1627 (0.07 r\u00eaver), 1643 (0.93 enlever)],\n",
        " 1560-1627 : [1560 (1 enjoindre), 1627 (0)],\n",
        " 1627-1628 : [1627 (0.2 apaiser), 1628 (0.8 soupeser)],\n",
        " 1627-1632-1642-1647-2281 : [1632 (0), 2281 (0), 1642 (0), 1627 (0), 1647 (1 mourir)],\n",
        " 1627-1631-1660-2281-2282 : [2281 (0), 2282 (0.5 \u00eatre), 1627 (0), 1660 (0.5 ha\u00efr), 1631 (0)],\n",
        " 1627-1629 : [1627 (0.59 emp\u00eaner), 1629 (0.41 d\u00e9sengrener)],\n",
        " 1631-1634-1646-2281 : [2281 (0), 1634 (0), 1646 (1 boire), 1631 (0)],\n",
        " 1627-1632-1642-1649-2281 : [1632 (0), 2281 (0), 1642 (0), 1627 (0), 1649 (1 requ\u00e9rir)],\n",
        " 1627-1632 : [1632 (1 pondre), 1627 (0)],\n",
        " 1627-1630-1632-1634-1655 : [1632 (0), 1634 (0), 1627 (0), 1630 (0), 1655 (1 valoir)],\n",
        " 1627-1658 : [1658 (1 mouvoir), 1627 (0)],\n",
        " 1627-1632-1650 : [1632 (0), 1650 (1 corrompre), 1627 (0)],\n",
        " 1627-1632-1642-2281 : [1632 (0.02 remordre), 2281 (0.01 desservir), 1642 (0), 1627 (0.97 terrer)]]"
       ]
      }
     ],
     "prompt_number": 12
    },
    {
     "cell_type": "code",
     "collapsed": false,
     "input": [
      "classification."
     ],
     "language": "python",
     "metadata": {},
     "outputs": []
    }
   ],
   "metadata": {}
  }
 ]
}