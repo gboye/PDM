{
 "cells": [
  {
   "cell_type": "markdown",
   "metadata": {},
   "source": [
    "# Normalisation des tirages de Flexique\n",
    "- ajout d'une colonne phono au format BDLexique"
   ]
  },
  {
   "cell_type": "code",
   "execution_count": 1,
   "metadata": {
    "collapsed": true
   },
   "outputs": [],
   "source": [
    "import pandas as pd\n",
    "import pickle,unicodedata,re,glob"
   ]
  },
  {
   "cell_type": "markdown",
   "metadata": {},
   "source": [
    "### Sélection des tirages à normaliser\n",
    "- serie pour la taille des tirages"
   ]
  },
  {
   "cell_type": "code",
   "execution_count": 2,
   "metadata": {
    "collapsed": true
   },
   "outputs": [],
   "source": [
    "nomRep=\"/Users/gilles/Box Sync/2015-Data/FlexionAdjectifs/\"\n",
    "nomRep=\"/Users/gilles/Box Sync/2015-Data/Samples/Adjectifs/\"\n",
    "#nomRep=\"/Users/gilles/Box Sync/2015-Data/\"\n",
    "serie=\"100Ko\"\n",
    "listeTirages=glob.glob(nomRep+\"MGC-%s-*-*-Tirage.pkl\"%serie)\n",
    "listeTirages=glob.glob(nomRep+\"MGC-*Tirage.pkl\")\n",
    "#listeTirages=glob.glob(nomRep+\"MGC-*Adjectifs.pkl\")"
   ]
  },
  {
   "cell_type": "markdown",
   "metadata": {},
   "source": [
    "### Transformation de la notation API de Flexique vers celle de BDLexique\n",
    "- phonèmes codés sur un caractère => flexique1graphe\n",
    "- phonèmes codés sur deux caractères => flexique2, bdlexique2 "
   ]
  },
  {
   "cell_type": "code",
   "execution_count": 3,
   "metadata": {
    "collapsed": true
   },
   "outputs": [],
   "source": [
    "flexique1graphe=(u\"ʁʃŋɲœɥʒɔøØəɛɑ\",u\"rSNJ9HZO226èa\")\n",
    "flexique2=[u\"ɛ̃\",u\"œ̃\",u\"ɑ̃\",u\"ɔ̃\"]\n",
    "bdlexique2=u\"êûâô\"\n",
    "flexique2graphe={flex:bdlexique2[nf] for nf,flex in enumerate(flexique2)}\n",
    "flexiqueIn = unicode(flexique1graphe[0])\n",
    "flexiqueNum = [ord(char) for char in flexiqueIn]\n",
    "bdlexiqueOut = unicode(flexique1graphe[1])\n",
    "neutralise = dict(zip(flexiqueNum, bdlexiqueOut))"
   ]
  },
  {
   "cell_type": "code",
   "execution_count": 4,
   "metadata": {
    "collapsed": true
   },
   "outputs": [],
   "source": [
    "def recoder(chaine,table=neutralise):\n",
    "    if type(chaine)==str:\n",
    "        temp=unicode(chaine.decode('utf8'))\n",
    "        for bigramme in flexique2graphe:\n",
    "            temp=temp.replace(bigramme,flexique2graphe[bigramme])\n",
    "        temp.translate(table)\n",
    "        result=temp.encode('utf8')\n",
    "    elif type(chaine)==unicode:\n",
    "        for bigramme in flexique2graphe:\n",
    "            chaine=chaine.replace(bigramme,flexique2graphe[bigramme])\n",
    "        result=chaine.translate(table)\n",
    "    else:\n",
    "        result=chaine\n",
    "    return result"
   ]
  },
  {
   "cell_type": "markdown",
   "metadata": {},
   "source": [
    "### Vérification de la phonotactique des glides du français\n",
    "- ajout de diérèses dans les séquences mal-formées\n",
    "- vérification des séquences consonne+glide à la finale"
   ]
  },
  {
   "cell_type": "code",
   "execution_count": 5,
   "metadata": {
    "collapsed": true
   },
   "outputs": [],
   "source": [
    "dierese={\"j\":\"ij\", \"w\":\"uw\",\"H\":\"yH\",\"i\":\"ij\",\"u\":\"uw\",\"y\":\"yH\"}"
   ]
  },
  {
   "cell_type": "code",
   "execution_count": 6,
   "metadata": {
    "collapsed": true
   },
   "outputs": [],
   "source": [
    "def checkFrench(prononciation):\n",
    "    result=recoder(prononciation)\n",
    "    m=re.match(ur\"^.*([^ieèEaOouy926êôâ])[jwH]$\",result)\n",
    "    if m:\n",
    "        print \"pb avec un glide final\", prononciation\n",
    "    m=re.match(ur\"(.*[ptkbdgfsSvzZ][rl])([jwH])(.*)\",result)\n",
    "    if m:\n",
    "        n=re.search(ur\"[ptkbdgfsSvzZ][rl](wa|Hi|wê)\",result)\n",
    "        if not n:\n",
    "            glide=m.group(2)\n",
    "            result=m.group(1)+dierese[glide]+m.group(3)\n",
    "    m=re.match(ur\"(.*)([iuy])([ieEaOouy].*)\",result)\n",
    "    if m:\n",
    "        glide=m.group(2)\n",
    "        result=m.group(1)+dierese[glide]+m.group(3)\n",
    "    return result"
   ]
  },
  {
   "cell_type": "markdown",
   "metadata": {},
   "source": [
    "## Boucle principale\n",
    "- pour chaque échantillon sélectionner\n",
    " - ajouter la colonne *phono* normalisée BDLexique"
   ]
  },
  {
   "cell_type": "code",
   "execution_count": 7,
   "metadata": {
    "collapsed": true
   },
   "outputs": [],
   "source": [
    "for nomEchantillon in listeTirages:\n",
    "    with open(nomEchantillon,\"rb\") as input:\n",
    "        tirage=pickle.load(input)\n",
    "    tirage[\"phono\"]=tirage[\"forme\"].apply(checkFrench)\n",
    "    with open(nomEchantillon,\"wb\") as output:\n",
    "        pickle.dump(tirage, output, pickle.HIGHEST_PROTOCOL)"
   ]
  },
  {
   "cell_type": "code",
   "execution_count": 8,
   "metadata": {},
   "outputs": [
    {
     "data": {
      "text/html": [
       "<div>\n",
       "<table border=\"1\" class=\"dataframe\">\n",
       "  <thead>\n",
       "    <tr style=\"text-align: right;\">\n",
       "      <th></th>\n",
       "      <th>lexeme</th>\n",
       "      <th>case</th>\n",
       "      <th>forme</th>\n",
       "      <th>freq</th>\n",
       "      <th>phono</th>\n",
       "    </tr>\n",
       "  </thead>\n",
       "  <tbody>\n",
       "  </tbody>\n",
       "</table>\n",
       "</div>"
      ],
      "text/plain": [
       "Empty DataFrame\n",
       "Columns: [lexeme, case, forme, freq, phono]\n",
       "Index: []"
      ]
     },
     "execution_count": 8,
     "metadata": {},
     "output_type": "execute_result"
    }
   ],
   "source": [
    "tirage[tirage[\"phono\"].str.contains(u\"Ø\")]"
   ]
  },
  {
   "cell_type": "markdown",
   "metadata": {},
   "source": [
    "# TESTS"
   ]
  },
  {
   "cell_type": "code",
   "execution_count": 115,
   "metadata": {},
   "outputs": [
    {
     "data": {
      "text/plain": [
       "['/Users/gilles/Box Sync/2015-Data/Samples/Adjectifs/MGC-100Ko-00-T100000-F10047-Tirage.pkl',\n",
       " '/Users/gilles/Box Sync/2015-Data/Samples/Adjectifs/MGC-100Ko-01-T100000-F10028-Tirage.pkl',\n",
       " '/Users/gilles/Box Sync/2015-Data/Samples/Adjectifs/MGC-100Ko-02-T100000-F10053-Tirage.pkl',\n",
       " '/Users/gilles/Box Sync/2015-Data/Samples/Adjectifs/MGC-100Ko-03-T100000-F9950-Tirage.pkl',\n",
       " '/Users/gilles/Box Sync/2015-Data/Samples/Adjectifs/MGC-100Ko-04-T100000-F10012-Tirage.pkl',\n",
       " '/Users/gilles/Box Sync/2015-Data/Samples/Adjectifs/MGC-100Ko-05-T100000-F9989-Tirage.pkl',\n",
       " '/Users/gilles/Box Sync/2015-Data/Samples/Adjectifs/MGC-100Ko-06-T100000-F10073-Tirage.pkl',\n",
       " '/Users/gilles/Box Sync/2015-Data/Samples/Adjectifs/MGC-100Ko-07-T100000-F10095-Tirage.pkl',\n",
       " '/Users/gilles/Box Sync/2015-Data/Samples/Adjectifs/MGC-100Ko-08-T100000-F10028-Tirage.pkl',\n",
       " '/Users/gilles/Box Sync/2015-Data/Samples/Adjectifs/MGC-100Ko-09-T100000-F9958-Tirage.pkl',\n",
       " '/Users/gilles/Box Sync/2015-Data/Samples/Adjectifs/MGC-10Ko-00-T10000-F3068-Tirage.pkl',\n",
       " '/Users/gilles/Box Sync/2015-Data/Samples/Adjectifs/MGC-10Ko-01-T10000-F3102-Tirage.pkl',\n",
       " '/Users/gilles/Box Sync/2015-Data/Samples/Adjectifs/MGC-10Ko-02-T10000-F3019-Tirage.pkl',\n",
       " '/Users/gilles/Box Sync/2015-Data/Samples/Adjectifs/MGC-10Ko-03-T10000-F2991-Tirage.pkl',\n",
       " '/Users/gilles/Box Sync/2015-Data/Samples/Adjectifs/MGC-10Ko-04-T10000-F3107-Tirage.pkl',\n",
       " '/Users/gilles/Box Sync/2015-Data/Samples/Adjectifs/MGC-10Ko-05-T10000-F3044-Tirage.pkl',\n",
       " '/Users/gilles/Box Sync/2015-Data/Samples/Adjectifs/MGC-10Ko-06-T10000-F3013-Tirage.pkl',\n",
       " '/Users/gilles/Box Sync/2015-Data/Samples/Adjectifs/MGC-10Ko-07-T10000-F3000-Tirage.pkl',\n",
       " '/Users/gilles/Box Sync/2015-Data/Samples/Adjectifs/MGC-10Ko-08-T10000-F2985-Tirage.pkl',\n",
       " '/Users/gilles/Box Sync/2015-Data/Samples/Adjectifs/MGC-10Ko-09-T10000-F2994-Tirage.pkl',\n",
       " '/Users/gilles/Box Sync/2015-Data/Samples/Adjectifs/MGC-1Mo-00-T1000000-F18251-Tirage.pkl',\n",
       " '/Users/gilles/Box Sync/2015-Data/Samples/Adjectifs/MGC-1Mo-01-T1000000-F18266-Tirage.pkl',\n",
       " '/Users/gilles/Box Sync/2015-Data/Samples/Adjectifs/MGC-1Mo-02-T1000000-F18356-Tirage.pkl',\n",
       " '/Users/gilles/Box Sync/2015-Data/Samples/Adjectifs/MGC-1Mo-03-T1000000-F18299-Tirage.pkl',\n",
       " '/Users/gilles/Box Sync/2015-Data/Samples/Adjectifs/MGC-1Mo-04-T1000000-F18352-Tirage.pkl',\n",
       " '/Users/gilles/Box Sync/2015-Data/Samples/Adjectifs/MGC-1Mo-05-T1000000-F18224-Tirage.pkl',\n",
       " '/Users/gilles/Box Sync/2015-Data/Samples/Adjectifs/MGC-1Mo-06-T1000000-F18245-Tirage.pkl',\n",
       " '/Users/gilles/Box Sync/2015-Data/Samples/Adjectifs/MGC-1Mo-07-T1000000-F18214-Tirage.pkl',\n",
       " '/Users/gilles/Box Sync/2015-Data/Samples/Adjectifs/MGC-1Mo-08-T1000000-F18261-Tirage.pkl',\n",
       " '/Users/gilles/Box Sync/2015-Data/Samples/Adjectifs/MGC-1Mo-09-T1000000-F18291-Tirage.pkl',\n",
       " '/Users/gilles/Box Sync/2015-Data/Samples/Adjectifs/MGC-1Mo-10-T1000000-F18228-Tirage.pkl']"
      ]
     },
     "execution_count": 115,
     "metadata": {},
     "output_type": "execute_result"
    }
   ],
   "source": [
    "listeTirages"
   ]
  },
  {
   "cell_type": "code",
   "execution_count": 112,
   "metadata": {},
   "outputs": [
    {
     "data": {
      "text/plain": [
       "'/Users/gilles/Box Sync/2015-Data/FlexionAdjectifs/Longitudinal-27-T10000000-F20973-170718-1253.pkl'"
      ]
     },
     "execution_count": 112,
     "metadata": {},
     "output_type": "execute_result"
    }
   ],
   "source": [
    "nomEchantillon"
   ]
  },
  {
   "cell_type": "code",
   "execution_count": 35,
   "metadata": {
    "collapsed": true
   },
   "outputs": [],
   "source": [
    "tirage1=tirage[tirage[\"tir1\"]>0]"
   ]
  },
  {
   "cell_type": "code",
   "execution_count": 36,
   "metadata": {
    "collapsed": true
   },
   "outputs": [],
   "source": [
    "paradigme=pd.pivot_table(tirage1,index=\"lexeme\",values=\"forme\",columns=[\"case\"],aggfunc=sum)\n",
    "paradigme=paradigme[[\"ms\",\"mp\",\"fs\",\"fp\"]][:]"
   ]
  },
  {
   "cell_type": "code",
   "execution_count": 65,
   "metadata": {},
   "outputs": [
    {
     "name": "stdout",
     "output_type": "stream",
     "text": [
      "comp: 2457\n",
      "ms,mp,fs: 557\n",
      "ms,mp,fp: 75\n",
      "ms,fs,fp: 298\n",
      "mp,fs,fp: 48\n",
      "ms,mp: 365\n",
      "ms,fs: 388\n",
      "ms,fp: 99\n",
      "mp,fs: 71\n",
      "mp,fp: 36\n",
      "fs,fp: 456\n",
      "ms: 1174\n",
      "mp: 452\n",
      "fs: 710\n",
      "fp: 318\n",
      "\n",
      "full: 3089\n",
      "ms,mp: 365\n",
      "ms,fem: 785\n",
      "mp,fem: 155\n",
      "ms: 1174\n",
      "mp: 452\n",
      "fem: 1484\n"
     ]
    }
   ],
   "source": [
    "pFS=paradigme.fs.notnull()\n",
    "pFP=paradigme.fp.notnull()\n",
    "pFem=pFS | pFP\n",
    "pMS=paradigme.ms.notnull()\n",
    "pMP=paradigme.mp.notnull()\n",
    "pMsMp=pMS & pMP & ~pFem\n",
    "pMsFem=pMS & ~pMP & pFem\n",
    "pMpFem=~pMS & pMP & pFem\n",
    "pComp=pMS & pMP & pFS & pFP\n",
    "pFull= pMS & pMP & pFem\n",
    "print \"comp:\",len(paradigme[pComp])\n",
    "print \"ms,mp,fs:\", len(paradigme[pMS & pMP & pFS & ~pFP])\n",
    "print \"ms,mp,fp:\", len(paradigme[pMS & pMP & ~pFS & pFP])\n",
    "print \"ms,fs,fp:\", len(paradigme[pMS & ~pMP & pFS & pFP])\n",
    "print \"mp,fs,fp:\", len(paradigme[~pMS & pMP & pFS & pFP])\n",
    "print \"ms,mp:\", len(paradigme[pMsMp])\n",
    "print \"ms,fs:\", len(paradigme[pMS & ~pMP & pFS & ~pFP])\n",
    "print \"ms,fp:\", len(paradigme[pMS & ~pMP & ~pFS & pFP])\n",
    "print \"mp,fs:\", len(paradigme[~pMS & pMP & pFS & ~pFP])\n",
    "print \"mp,fp:\", len(paradigme[~pMS & pMP & ~pFS & pFP])\n",
    "print \"fs,fp:\", len(paradigme[~pMS & ~pMP & pFS & pFP])\n",
    "print \"ms:\",len(paradigme[pMS & ~pMP & ~pFem ])\n",
    "print \"mp:\",len(paradigme[~pMS & pMP & ~pFem ])\n",
    "print \"fs:\", len(paradigme[~pMS & ~pMP & pFS & ~pFP])\n",
    "print \"fp:\", len(paradigme[~pMS & ~pMP & ~pFS & pFP])\n",
    "print\n",
    "print \"full:\",len(paradigme[pFull])\n",
    "print \"ms,mp:\", len(paradigme[pMsMp])\n",
    "print \"ms,fem:\", len(paradigme[pMsFem])\n",
    "print \"mp,fem:\", len(paradigme[pMpFem])\n",
    "print \"ms:\",len(paradigme[pMS & ~pMP & ~pFem ])\n",
    "print \"mp:\",len(paradigme[~pMS & pMP & ~pFem ])\n",
    "print \"fem:\",len(paradigme[~pMS & ~pMP & pFem ])"
   ]
  }
 ],
 "metadata": {
  "kernelspec": {
   "display_name": "Python 2",
   "language": "python",
   "name": "python2"
  },
  "language_info": {
   "codemirror_mode": {
    "name": "ipython",
    "version": 2
   },
   "file_extension": ".py",
   "mimetype": "text/x-python",
   "name": "python",
   "nbconvert_exporter": "python",
   "pygments_lexer": "ipython2",
   "version": "2.7.11"
  }
 },
 "nbformat": 4,
 "nbformat_minor": 1
}
