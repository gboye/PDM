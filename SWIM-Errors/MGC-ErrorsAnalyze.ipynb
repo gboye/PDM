{
 "cells": [
  {
   "cell_type": "code",
   "execution_count": 356,
   "metadata": {
    "collapsed": true
   },
   "outputs": [],
   "source": [
    "import pandas as pd\n",
    "import numpy as np\n",
    "import yaml,re,pyperclip\n",
    "debug=False\n",
    "import datetime,glob\n",
    "def dateheure():\n",
    "    return datetime.datetime.utcnow().strftime('%y%m%d%H%M')"
   ]
  },
  {
   "cell_type": "raw",
   "metadata": {},
   "source": [
    "from IPython.html.widgets import FloatProgress\n",
    "from IPython.display import display\n"
   ]
  },
  {
   "cell_type": "code",
   "execution_count": 357,
   "metadata": {
    "collapsed": true
   },
   "outputs": [],
   "source": [
    "rep=\"/Users/gilles/Desktop/lexique3/\"\n",
    "fichiersOG=glob.glob(rep+\"*overGeneration*.csv\")\n",
    "fichiersFP=glob.glob(rep+\"*diffForms*.csv\")\n",
    "fichiersUG=glob.glob(rep+\"*underGeneration*.csv\")"
   ]
  },
  {
   "cell_type": "code",
   "execution_count": 358,
   "metadata": {},
   "outputs": [
    {
     "data": {
      "text/plain": [
       "(['/Users/gilles/Desktop/lexique3/Longitudinal-Lexique3-00-T150000000-F73539-X-overGeneration-Swim1.csv',\n",
       "  '/Users/gilles/Desktop/lexique3/Longitudinal-Lexique3-00-T150000000-F73539-X-Morphomes-overGeneration-Swim2.csv',\n",
       "  '/Users/gilles/Desktop/lexique3/Longitudinal-Lexique3-00-T150000000-F73539-X-overGeneration-Swim2.csv',\n",
       "  '/Users/gilles/Desktop/lexique3/Longitudinal-Lexique3-00-T150000000-F73539-X-Morphomes-overGeneration-Swim1.csv'],\n",
       " ['/Users/gilles/Desktop/lexique3/Longitudinal-Lexique3-00-T150000000-F73539-X-diffForms-Swim1.csv',\n",
       "  '/Users/gilles/Desktop/lexique3/Longitudinal-Lexique3-00-T150000000-F73539-X-diffForms-Swim2.csv',\n",
       "  '/Users/gilles/Desktop/lexique3/Longitudinal-Lexique3-00-T150000000-F73539-X-Morphomes-diffForms-Swim1.csv',\n",
       "  '/Users/gilles/Desktop/lexique3/Longitudinal-Lexique3-00-T150000000-F73539-X-Morphomes-diffForms-Swim2.csv'],\n",
       " ['/Users/gilles/Desktop/lexique3/Longitudinal-Lexique3-00-T150000000-F73539-X-Morphomes-underGeneration-Swim2.csv',\n",
       "  '/Users/gilles/Desktop/lexique3/Longitudinal-Lexique3-00-T150000000-F73539-X-Morphomes-underGeneration-Swim1.csv',\n",
       "  '/Users/gilles/Desktop/lexique3/Longitudinal-Lexique3-00-T150000000-F73539-X-underGeneration-Swim2.csv',\n",
       "  '/Users/gilles/Desktop/lexique3/Longitudinal-Lexique3-00-T150000000-F73539-X-underGeneration-Swim1.csv'])"
      ]
     },
     "execution_count": 358,
     "metadata": {},
     "output_type": "execute_result"
    }
   ],
   "source": [
    "fichiersOG,fichiersFP,fichiersUG"
   ]
  },
  {
   "cell_type": "code",
   "execution_count": 359,
   "metadata": {
    "collapsed": true
   },
   "outputs": [],
   "source": [
    "def findFichier(patron,fichiers):\n",
    "    candidats=[]\n",
    "    for sample in fichiers:\n",
    "        m=re.match(patron,sample)\n",
    "        if m:\n",
    "            candidats.append(m.group(1))\n",
    "    if len(candidats)==1:\n",
    "        return candidats[0]\n",
    "    else:\n",
    "        print \"PB pas de nom unique correspondant\",candidats"
   ]
  },
  {
   "cell_type": "code",
   "execution_count": 360,
   "metadata": {},
   "outputs": [],
   "source": [
    "numeroEchantillon=\"00\"\n",
    "sampleType=\"-X\"\n",
    "casesType=u\"-X-Morphomes\"\n",
    "casesType=u\"-X\"\n",
    "etapeSwim=\"-Swim2\"\n",
    "#etapeSwim=\"-Swim1\"\n",
    "patron=ur\"^.*/(.*-F\\d+%s-%s%s.*\\.csv)\"%(casesType,\"overGeneration\",etapeSwim)\n",
    "nomOG=findFichier(patron,fichiersOG)\n",
    "patron=ur\"^.*/(.*-F\\d+%s-%s%s.*\\.csv)\"%(casesType,\"diffForms\",etapeSwim)\n",
    "nomFP=findFichier(patron,fichiersFP)\n",
    "patron=ur\"^.*/(.*-F\\d+%s-%s%s.*\\.csv)\"%(casesType,\"underGeneration\",etapeSwim)\n",
    "nomUG=findFichier(patron,fichiersUG)"
   ]
  },
  {
   "cell_type": "code",
   "execution_count": 361,
   "metadata": {},
   "outputs": [],
   "source": [
    "dfOG=pd.read_csv(filepath_or_buffer=rep+nomOG)\n",
    "dfFP=pd.read_csv(filepath_or_buffer=rep+nomFP)\n",
    "dfUG=pd.read_csv(filepath_or_buffer=rep+nomUG)"
   ]
  },
  {
   "cell_type": "code",
   "execution_count": 362,
   "metadata": {},
   "outputs": [],
   "source": [
    "#dfOG"
   ]
  },
  {
   "cell_type": "code",
   "execution_count": 363,
   "metadata": {},
   "outputs": [],
   "source": [
    "#dfFP"
   ]
  },
  {
   "cell_type": "code",
   "execution_count": 364,
   "metadata": {},
   "outputs": [],
   "source": [
    "#dfUG"
   ]
  },
  {
   "cell_type": "code",
   "execution_count": 365,
   "metadata": {
    "collapsed": true
   },
   "outputs": [],
   "source": [
    "dfOG[\"lexeme\"]=dfOG[\"lexeme-case\"].str.rsplit(\"-\",1).str[0]\n",
    "dfOG[\"case\"]=dfOG[\"lexeme-case\"].str.rsplit(\"-\",1).str[1]\n",
    "dfFP[\"lexeme\"]=dfFP[\"lexeme-case\"].str.rsplit(\"-\",1).str[0]\n",
    "dfFP[\"case\"]=dfFP[\"lexeme-case\"].str.rsplit(\"-\",1).str[1]\n",
    "dfUG[\"lexeme\"]=dfUG[\"lexeme-case\"].str.rsplit(\"-\",1).str[0]\n",
    "dfUG[\"case\"]=dfUG[\"lexeme-case\"].str.rsplit(\"-\",1).str[1]\n"
   ]
  },
  {
   "cell_type": "markdown",
   "metadata": {},
   "source": [
    "# Liste des lexèmes dans OG en dehors des participes passés"
   ]
  },
  {
   "cell_type": "code",
   "execution_count": 366,
   "metadata": {},
   "outputs": [],
   "source": [
    "dfLexemesOG=dfOG[~dfOG[\"case\"].isin(\"ppMP ppFS ppFP\".split(\" \"))].groupby(\"lexeme\").count()[[\"case\"]]\n",
    "lexemesOG=dfLexemesOG.index.tolist()\n",
    "#dfLexemesOG"
   ]
  },
  {
   "cell_type": "code",
   "execution_count": 367,
   "metadata": {},
   "outputs": [
    {
     "name": "stdout",
     "output_type": "stream",
     "text": [
      "57 accroire, advenir, assavoir, bayer, braire, brouillasser, bruiner, bruire, choir, comparoir, contrefoutre, courre, crachiner, douer, déchoir, déchouer, démurger, ensuivre, ester, faillir, falloir, foutre, frire, férir, grêler, moufeter, neiger, occire, oindre, parfaire, paître, pleuviner, pleuvioter, pleuvoir, poindre, portraire, promouvoir, quérir, raller, rassir, ravoir, reclure, reneiger, résulter, saillir, seoir, sniffer, sourdre, tartir, urger, valeter, vaser, venter, verglacer, écher, échoir, éclore\n"
     ]
    }
   ],
   "source": [
    "print len(lexemesOG),\", \".join(lexemesOG)"
   ]
  },
  {
   "cell_type": "markdown",
   "metadata": {},
   "source": [
    "# Liste des lexèmes dans FP"
   ]
  },
  {
   "cell_type": "code",
   "execution_count": 368,
   "metadata": {},
   "outputs": [],
   "source": [
    "dfLexemesFP=dfFP.groupby(\"lexeme\").count()[[\"case\"]]\n",
    "lexemesFP=dfLexemesFP.index.tolist()\n",
    "#dfLexemesFP"
   ]
  },
  {
   "cell_type": "code",
   "execution_count": 369,
   "metadata": {},
   "outputs": [
    {
     "name": "stdout",
     "output_type": "stream",
     "text": [
      "135 ailler, ankyloser, appareiller, assaillir, atermoyer, avoyer, bailler, balayer, bauger, biseauter, boyauter, brayer, bruire, bégayer, chaumer, claustrer, confire, conseiller, convoyer, craqueter, cyanoser, dauber, dessertir, diplômer, déblayer, débrayer, déchaumer, déconfire, déconseiller, défaillir, défeuiller, défrayer, déjauger, délayer, démailler, démeubler, dénantir, dénoyauter, dépareiller, dépourvoir, dérayer, désassortir, dévoyer, effrayer, embouteiller, embrayer, encanailler, enrayer, ensoleiller, entôler, essayer, expatrier, faillir, faseyer, fleurir, frayer, frire, gobeter, grasseyer, griveler, guerroyer, gueuser, hâler, impartir, inclure, invertir, jointoyer, layer, liserer, louvoyer, luire, mailler, maquereauter, marivauder, maudire, monnayer, mugueter, occire, occlure, pagayer, pinailler, poudroyer, prévaloir, queuter, rapproprier, rasseoir, rassir, rassortir, rayer, rechausser, reclure, recuire, refeuilleter, rejointoyer, relayer, reluire, remailler, remblayer, remeubler, repayer, ressauter, ressayer, ressortir, ressuyer, revouloir, rimailler, réassortir, réessayer, réveiller, saillir, sonnailler, soubresauter, sous-payer, surpayer, surseoir, surveiller, teiller, tenailler, toaster, tournailler, traînailler, tressaillir, veiller, vouvoyer, zézayer, échauder, échoir, égayer, émailler, émerveiller, émoudre, épeurer, équeuter, étayer, éveiller\n"
     ]
    }
   ],
   "source": [
    "print len(lexemesFP),\", \".join(lexemesFP)"
   ]
  },
  {
   "cell_type": "markdown",
   "metadata": {},
   "source": [
    "# Faire un tableau de répartition des erreurs"
   ]
  },
  {
   "cell_type": "code",
   "execution_count": 370,
   "metadata": {
    "collapsed": true
   },
   "outputs": [],
   "source": [
    "dfErrorsOG=dfOG.groupby(\"case\").count()[[\"lexeme\"]].T\n",
    "dfErrorsFP=dfFP.groupby(\"case\").count()[[\"lexeme\"]].sort_values(\"lexeme\").T"
   ]
  },
  {
   "cell_type": "code",
   "execution_count": 371,
   "metadata": {
    "scrolled": true
   },
   "outputs": [
    {
     "data": {
      "text/plain": [
       "(lexeme    3676\n",
       " dtype: int64, lexeme    2041\n",
       " dtype: int64)"
      ]
     },
     "execution_count": 371,
     "metadata": {},
     "output_type": "execute_result"
    }
   ],
   "source": [
    "dfErrorsOG.T.sum(),dfErrorsOG.loc[:,\"ppFP\":\"ppMP\"].T.sum()"
   ]
  },
  {
   "cell_type": "code",
   "execution_count": 372,
   "metadata": {},
   "outputs": [
    {
     "data": {
      "text/html": [
       "<div>\n",
       "<style scoped>\n",
       "    .dataframe tbody tr th:only-of-type {\n",
       "        vertical-align: middle;\n",
       "    }\n",
       "\n",
       "    .dataframe tbody tr th {\n",
       "        vertical-align: top;\n",
       "    }\n",
       "\n",
       "    .dataframe thead th {\n",
       "        text-align: right;\n",
       "    }\n",
       "</style>\n",
       "<table border=\"1\" class=\"dataframe\">\n",
       "  <thead>\n",
       "    <tr style=\"text-align: right;\">\n",
       "      <th>case</th>\n",
       "      <th>is2S</th>\n",
       "      <th>is1S</th>\n",
       "      <th>ai2P</th>\n",
       "      <th>ps1P</th>\n",
       "      <th>ppMP</th>\n",
       "      <th>ai1S</th>\n",
       "      <th>ai2S</th>\n",
       "      <th>ai3P</th>\n",
       "      <th>ppMS</th>\n",
       "      <th>inf</th>\n",
       "      <th>...</th>\n",
       "      <th>fi2S</th>\n",
       "      <th>pc3S</th>\n",
       "      <th>pi1S</th>\n",
       "      <th>pI2S</th>\n",
       "      <th>pi2S</th>\n",
       "      <th>pc1P</th>\n",
       "      <th>pi3P</th>\n",
       "      <th>ps2S</th>\n",
       "      <th>ps1S</th>\n",
       "      <th>ps3S</th>\n",
       "    </tr>\n",
       "  </thead>\n",
       "  <tbody>\n",
       "    <tr>\n",
       "      <th>lexeme</th>\n",
       "      <td>1</td>\n",
       "      <td>1</td>\n",
       "      <td>4</td>\n",
       "      <td>5</td>\n",
       "      <td>5</td>\n",
       "      <td>6</td>\n",
       "      <td>6</td>\n",
       "      <td>6</td>\n",
       "      <td>6</td>\n",
       "      <td>6</td>\n",
       "      <td>...</td>\n",
       "      <td>44</td>\n",
       "      <td>46</td>\n",
       "      <td>50</td>\n",
       "      <td>53</td>\n",
       "      <td>56</td>\n",
       "      <td>56</td>\n",
       "      <td>57</td>\n",
       "      <td>63</td>\n",
       "      <td>68</td>\n",
       "      <td>69</td>\n",
       "    </tr>\n",
       "  </tbody>\n",
       "</table>\n",
       "<p>1 rows × 49 columns</p>\n",
       "</div>"
      ],
      "text/plain": [
       "case    is2S  is1S  ai2P  ps1P  ppMP  ai1S  ai2S  ai3P  ppMS  inf  ...  fi2S  \\\n",
       "lexeme     1     1     4     5     5     6     6     6     6    6  ...    44   \n",
       "\n",
       "case    pc3S  pi1S  pI2S  pi2S  pc1P  pi3P  ps2S  ps1S  ps3S  \n",
       "lexeme    46    50    53    56    56    57    63    68    69  \n",
       "\n",
       "[1 rows x 49 columns]"
      ]
     },
     "execution_count": 372,
     "metadata": {},
     "output_type": "execute_result"
    }
   ],
   "source": [
    "dfErrorsFP"
   ]
  },
  {
   "cell_type": "code",
   "execution_count": 373,
   "metadata": {
    "collapsed": true
   },
   "outputs": [],
   "source": [
    "etColours=[\"orange\",\n",
    "           \"brown!50\",\n",
    "           \"brown\",\n",
    "           \"blue!10\",\n",
    "           \"yellow!50\",\n",
    "           \"blue!25\",\n",
    "           \"teal!50\",\n",
    "           \"blue!50\",\n",
    "           \"cyan!50\",\n",
    "           \"lime\",\n",
    "           \"pink\",\n",
    "           \"magenta!50\",\n",
    "          ]\n",
    "etCells=[\n",
    "    [\"pi1P\",\"pi2P\"]+[\"ii\"+p+n for p in \"123\" for n in \"SP\"],\n",
    "    [\"pi3P\"],\n",
    "    [\"pi\"+p+\"S\" for p in \"123\"],\n",
    "    [\"pP\"],\n",
    "    [\"pI2S\"],\n",
    "    [\"pI1P\",\"pI2P\"],\n",
    "    [\"ps\"+p+\"S\" for p in \"123\"]+[\"ps3P\"],\n",
    "    [\"ps1P\",\"ps2P\"],\n",
    "    [\"inf\"],\n",
    "    [\"fi\"+p+n for p in \"123\" for n in \"SP\"]+[\"pc\"+p+n for p in \"123\" for n in \"SP\"],\n",
    "    [\"ai\"+p+n for p in \"123\" for n in \"SP\"]+[\"is\"+p+n for p in \"123\" for n in \"SP\"],\n",
    "    [\"pp\"+g+n for g in \"MF\" for n in \"SP\"],\n",
    "        ]\n",
    "tabTemps={\n",
    "    \"pi\":u\"ind. prs\",\n",
    "    \"ii\":u\"ind. ipf\",\n",
    "    \"ai\":u\"ind. ps\",\n",
    "    \"fi\":u\"ind. fut\",\n",
    "    \"ps\":u\"subj. prs\",\n",
    "    \"is\":u\"subj. ipf\",\n",
    "    \"pc\":u\"cond. prs\",\n",
    "    \"pI\":u\"imper. prs\",\n",
    "    \"inf\":u\"non-fini\"\n",
    "    }\n",
    "dictEtColours={}\n",
    "for nET,ET in enumerate(etCells):\n",
    "    for c in ET:\n",
    "        dictEtColours[c]=etColours[nET]\n",
    "#dictEtColours\n",
    "\n",
    "def makeTabularParadigme(row,dictColours,title=\"\",coulLim=False, cat=\"V\",dictMorphomes={},lexeme=\"\"):\n",
    "    tabular=[]\n",
    "    def makeValue(case):\n",
    "#        if len(row[case])>0 and len(row[case].values[0])>0:\n",
    "        if case in row and all(row[case].notnull()):\n",
    "            result=unicode(row[case].values[0])\n",
    "        elif dictMorphomes!={} and case in dictMorphomes:\n",
    "            altCase=dictMorphomes[case][0]\n",
    "            if len(row[altCase])>0 and len(row[altCase].values[0])>0:\n",
    "                result=unicode(row[altCase].values[0])\n",
    "            else:\n",
    "                result=\"?\"\n",
    "        else:\n",
    "            result=\"?\"\n",
    "        return result\n",
    "    \n",
    "    def makeLine6(tenseCode):\n",
    "        line=[tabTemps[tenseCode]]\n",
    "        for person in [per+nb for nb in [\"S\",\"P\"] for per in [\"1\",\"2\",\"3\"]]:\n",
    "            case=tenseCode+person\n",
    "            if case in dictColours:\n",
    "                line.append(r\"\\cellcolor{%s}%s\"%(dictColours[case],makeValue(case)))\n",
    "            else:\n",
    "                line.append(r\"\\cellcolor{%s}%s\"%(\"black\",makeValue(case)))\n",
    "        return r\" & \".join(line)+r\"\\\\\"\n",
    "\n",
    "    def makeLine3(tenseCode):\n",
    "        line=[tabTemps[tenseCode]]\n",
    "        for person in [per+nb for nb in [\"S\",\"P\"] for per in [\"1\",\"2\",\"3\"]]:\n",
    "            if person in [\"2S\",\"1P\",\"2P\"]:\n",
    "                case=tenseCode+person\n",
    "                if case in dictColours:\n",
    "                    line.append(r\"\\cellcolor{%s}%s\"%(dictColours[case],makeValue(case)))\n",
    "                else:\n",
    "                    line.append(r\"\\cellcolor{%s}%s\"%(\"black\",makeValue(case)))\n",
    "#                line.append(r\"\\cellcolor{%s}%s\"%(dictColours[case],case))\n",
    "            else:\n",
    "                line.append(r\"---\")\n",
    "        return r\" & \".join(line)+r\"\\\\\"\n",
    "    \n",
    "    def makeLineNF():\n",
    "        line=[\"non-fini\"]\n",
    "        for case in [\"inf\",\"pP\",\"ppMS\",\"ppMP\",\"ppFS\",\"ppFP\"]:\n",
    "            if case in dictColours:\n",
    "                line.append(r\"\\cellcolor{%s}%s\"%(dictColours[case],makeValue(case)))\n",
    "            else:\n",
    "                line.append(r\"\\cellcolor{%s}%s\"%(\"black\",makeValue(case)))\n",
    "#            line.append(r\"\\cellcolor{%s}%s\"%(dictColours[case],case))\n",
    "        return r\" & \".join(line)+r\"\\\\\"\n",
    "\n",
    "    def makeLineMF(nombre):\n",
    "        line=[]\n",
    "        for genre in \"mf\":\n",
    "            case=genre+nombre\n",
    "            if case in dictColours:\n",
    "                line.append(r\"\\cellcolor{%s}%s\"%(dictColours[case],makeValue(case)))\n",
    "            else:\n",
    "                line.append(r\"\\cellcolor{%s}%s\"%(\"black\",makeValue(case)))\n",
    "        return r\" & \".join(line)+r\"\\\\\"\n",
    "    \n",
    "    def makeLineCoulLim():\n",
    "        line=[]\n",
    "        for numLimite,limite in enumerate(listLimites):\n",
    "            line.append(r\"\\cellcolor{%s}%s\"%(listLimCoul[numLimite],\"$<$\"+str(limite)))\n",
    "        return r\"\\hline\\hline \"+r\" & \".join(line)+r\"\\\\\"\n",
    "        \n",
    "    if cat==\"V\":\n",
    "        top=[\n",
    "            r\"\\begin{center}\",\n",
    "            r\"\\begin{tabular}{ccccccc}\",\n",
    "            r\"\\toprule\",\n",
    "            \" & \".join([ur\"\\textsc{%s}\"%lexeme]+[p+n for n in [\"sg\",\"pl\"] for p in \"123\" ])+r\"\\\\\",\n",
    "            r\"\\midrule\"\n",
    "            ]\n",
    "        bottom=[\n",
    "            r\"\\bottomrule\",\n",
    "            r\"\\end{tabular}\\\\\",\n",
    "            title,\n",
    "            r\"\\end{center}\",\n",
    "            r\"\\bigskip\",\n",
    "            r\"\"\n",
    "            ]\n",
    "        tabular.append(\"\\n\".join(top))\n",
    "        for tenseCode in [\"pi\",\"ii\",\"fi\",\"pc\", \"ps\",\"ai\", \"is\"]:\n",
    "            tabular.append(makeLine6(tenseCode))\n",
    "        tabular.append(makeLine3(\"pI\"))\n",
    "        tabular.append(u\"\\midrule\\n\")\n",
    "        tabular.append(ur\"& inf. & part. prés. & \\multicolumn{4}{c}{part. passé}\\\\\")\n",
    "        tabular.append(makeLineNF())\n",
    "    elif cat==\"A\":\n",
    "        top=[\n",
    "            r\"\\begin{center}\",\n",
    "            r\"\\begin{tabular}{cc}\",\n",
    "            r\"\\toprule\"\n",
    "            ]\n",
    "        bottom=[\n",
    "            r\"\\bottomrule\",\n",
    "            r\"\\end{tabular}\\\\\",\n",
    "            title,\n",
    "            r\"\\end{center}\",\n",
    "#            r\"\\bigskip\",\n",
    "            r\"\"\n",
    "            ]\n",
    "        tabular.append(\"\\n\".join(top))\n",
    "        for number in \"sp\":\n",
    "            tabular.append(makeLineMF(number))\n",
    "    if coulLim:\n",
    "        tabular.append(makeLineCoulLim())\n",
    "    tabular.append(\"\\n\".join(bottom))\n",
    "    return \"\\n\".join(tabular)"
   ]
  },
  {
   "cell_type": "code",
   "execution_count": 374,
   "metadata": {},
   "outputs": [],
   "source": [
    "pyperclip.copy(makeTabularParadigme(dfErrorsOG,dictEtColours))"
   ]
  },
  {
   "cell_type": "code",
   "execution_count": 375,
   "metadata": {
    "collapsed": true
   },
   "outputs": [],
   "source": [
    "pyperclip.copy(makeTabularParadigme(dfErrorsFP,dictEtColours))"
   ]
  },
  {
   "cell_type": "markdown",
   "metadata": {},
   "source": [
    "# Analyse des UG"
   ]
  },
  {
   "cell_type": "code",
   "execution_count": 376,
   "metadata": {
    "scrolled": true
   },
   "outputs": [
    {
     "data": {
      "text/html": [
       "<div>\n",
       "<style scoped>\n",
       "    .dataframe tbody tr th:only-of-type {\n",
       "        vertical-align: middle;\n",
       "    }\n",
       "\n",
       "    .dataframe tbody tr th {\n",
       "        vertical-align: top;\n",
       "    }\n",
       "\n",
       "    .dataframe thead th {\n",
       "        text-align: right;\n",
       "    }\n",
       "</style>\n",
       "<table border=\"1\" class=\"dataframe\">\n",
       "  <thead>\n",
       "    <tr style=\"text-align: right;\">\n",
       "      <th></th>\n",
       "      <th>lexeme</th>\n",
       "    </tr>\n",
       "    <tr>\n",
       "      <th>case</th>\n",
       "      <th></th>\n",
       "    </tr>\n",
       "  </thead>\n",
       "  <tbody>\n",
       "    <tr>\n",
       "      <th>ppMS</th>\n",
       "      <td>8</td>\n",
       "    </tr>\n",
       "    <tr>\n",
       "      <th>ppFS</th>\n",
       "      <td>15</td>\n",
       "    </tr>\n",
       "    <tr>\n",
       "      <th>pi3S</th>\n",
       "      <td>16</td>\n",
       "    </tr>\n",
       "    <tr>\n",
       "      <th>ii3S</th>\n",
       "      <td>16</td>\n",
       "    </tr>\n",
       "    <tr>\n",
       "      <th>ai3S</th>\n",
       "      <td>16</td>\n",
       "    </tr>\n",
       "    <tr>\n",
       "      <th>pP</th>\n",
       "      <td>17</td>\n",
       "    </tr>\n",
       "    <tr>\n",
       "      <th>ppMP</th>\n",
       "      <td>18</td>\n",
       "    </tr>\n",
       "    <tr>\n",
       "      <th>inf</th>\n",
       "      <td>18</td>\n",
       "    </tr>\n",
       "    <tr>\n",
       "      <th>fi3S</th>\n",
       "      <td>22</td>\n",
       "    </tr>\n",
       "    <tr>\n",
       "      <th>ii3P</th>\n",
       "      <td>25</td>\n",
       "    </tr>\n",
       "    <tr>\n",
       "      <th>ppFP</th>\n",
       "      <td>27</td>\n",
       "    </tr>\n",
       "    <tr>\n",
       "      <th>pc3S</th>\n",
       "      <td>28</td>\n",
       "    </tr>\n",
       "    <tr>\n",
       "      <th>pI2P</th>\n",
       "      <td>31</td>\n",
       "    </tr>\n",
       "    <tr>\n",
       "      <th>pi3P</th>\n",
       "      <td>33</td>\n",
       "    </tr>\n",
       "    <tr>\n",
       "      <th>pi1S</th>\n",
       "      <td>33</td>\n",
       "    </tr>\n",
       "    <tr>\n",
       "      <th>ii1S</th>\n",
       "      <td>34</td>\n",
       "    </tr>\n",
       "    <tr>\n",
       "      <th>pi2P</th>\n",
       "      <td>40</td>\n",
       "    </tr>\n",
       "    <tr>\n",
       "      <th>pI2S</th>\n",
       "      <td>40</td>\n",
       "    </tr>\n",
       "    <tr>\n",
       "      <th>ai3P</th>\n",
       "      <td>44</td>\n",
       "    </tr>\n",
       "    <tr>\n",
       "      <th>fi1S</th>\n",
       "      <td>62</td>\n",
       "    </tr>\n",
       "    <tr>\n",
       "      <th>pi2S</th>\n",
       "      <td>63</td>\n",
       "    </tr>\n",
       "    <tr>\n",
       "      <th>pc1S</th>\n",
       "      <td>70</td>\n",
       "    </tr>\n",
       "    <tr>\n",
       "      <th>fi3P</th>\n",
       "      <td>71</td>\n",
       "    </tr>\n",
       "    <tr>\n",
       "      <th>pi1P</th>\n",
       "      <td>71</td>\n",
       "    </tr>\n",
       "    <tr>\n",
       "      <th>pI1P</th>\n",
       "      <td>72</td>\n",
       "    </tr>\n",
       "    <tr>\n",
       "      <th>is3S</th>\n",
       "      <td>95</td>\n",
       "    </tr>\n",
       "    <tr>\n",
       "      <th>fi2P</th>\n",
       "      <td>100</td>\n",
       "    </tr>\n",
       "    <tr>\n",
       "      <th>pc3P</th>\n",
       "      <td>101</td>\n",
       "    </tr>\n",
       "    <tr>\n",
       "      <th>fi2S</th>\n",
       "      <td>107</td>\n",
       "    </tr>\n",
       "    <tr>\n",
       "      <th>pc2S</th>\n",
       "      <td>123</td>\n",
       "    </tr>\n",
       "    <tr>\n",
       "      <th>fi1P</th>\n",
       "      <td>143</td>\n",
       "    </tr>\n",
       "    <tr>\n",
       "      <th>ii2S</th>\n",
       "      <td>149</td>\n",
       "    </tr>\n",
       "    <tr>\n",
       "      <th>ps3S</th>\n",
       "      <td>166</td>\n",
       "    </tr>\n",
       "    <tr>\n",
       "      <th>ii1P</th>\n",
       "      <td>264</td>\n",
       "    </tr>\n",
       "    <tr>\n",
       "      <th>ai1S</th>\n",
       "      <td>270</td>\n",
       "    </tr>\n",
       "    <tr>\n",
       "      <th>ps2S</th>\n",
       "      <td>359</td>\n",
       "    </tr>\n",
       "    <tr>\n",
       "      <th>ai1P</th>\n",
       "      <td>415</td>\n",
       "    </tr>\n",
       "    <tr>\n",
       "      <th>pc2P</th>\n",
       "      <td>509</td>\n",
       "    </tr>\n",
       "    <tr>\n",
       "      <th>ii2P</th>\n",
       "      <td>512</td>\n",
       "    </tr>\n",
       "    <tr>\n",
       "      <th>pc1P</th>\n",
       "      <td>726</td>\n",
       "    </tr>\n",
       "    <tr>\n",
       "      <th>ps1S</th>\n",
       "      <td>820</td>\n",
       "    </tr>\n",
       "    <tr>\n",
       "      <th>is3P</th>\n",
       "      <td>1178</td>\n",
       "    </tr>\n",
       "    <tr>\n",
       "      <th>ps3P</th>\n",
       "      <td>1388</td>\n",
       "    </tr>\n",
       "    <tr>\n",
       "      <th>ai2S</th>\n",
       "      <td>1587</td>\n",
       "    </tr>\n",
       "    <tr>\n",
       "      <th>ai2P</th>\n",
       "      <td>2102</td>\n",
       "    </tr>\n",
       "    <tr>\n",
       "      <th>ps2P</th>\n",
       "      <td>2579</td>\n",
       "    </tr>\n",
       "    <tr>\n",
       "      <th>ps1P</th>\n",
       "      <td>2917</td>\n",
       "    </tr>\n",
       "    <tr>\n",
       "      <th>is1P</th>\n",
       "      <td>3012</td>\n",
       "    </tr>\n",
       "    <tr>\n",
       "      <th>is1S</th>\n",
       "      <td>3688</td>\n",
       "    </tr>\n",
       "    <tr>\n",
       "      <th>is2S</th>\n",
       "      <td>4266</td>\n",
       "    </tr>\n",
       "    <tr>\n",
       "      <th>is2P</th>\n",
       "      <td>5237</td>\n",
       "    </tr>\n",
       "  </tbody>\n",
       "</table>\n",
       "</div>"
      ],
      "text/plain": [
       "      lexeme\n",
       "case        \n",
       "ppMS       8\n",
       "ppFS      15\n",
       "pi3S      16\n",
       "ii3S      16\n",
       "ai3S      16\n",
       "pP        17\n",
       "ppMP      18\n",
       "inf       18\n",
       "fi3S      22\n",
       "ii3P      25\n",
       "ppFP      27\n",
       "pc3S      28\n",
       "pI2P      31\n",
       "pi3P      33\n",
       "pi1S      33\n",
       "ii1S      34\n",
       "pi2P      40\n",
       "pI2S      40\n",
       "ai3P      44\n",
       "fi1S      62\n",
       "pi2S      63\n",
       "pc1S      70\n",
       "fi3P      71\n",
       "pi1P      71\n",
       "pI1P      72\n",
       "is3S      95\n",
       "fi2P     100\n",
       "pc3P     101\n",
       "fi2S     107\n",
       "pc2S     123\n",
       "fi1P     143\n",
       "ii2S     149\n",
       "ps3S     166\n",
       "ii1P     264\n",
       "ai1S     270\n",
       "ps2S     359\n",
       "ai1P     415\n",
       "pc2P     509\n",
       "ii2P     512\n",
       "pc1P     726\n",
       "ps1S     820\n",
       "is3P    1178\n",
       "ps3P    1388\n",
       "ai2S    1587\n",
       "ai2P    2102\n",
       "ps2P    2579\n",
       "ps1P    2917\n",
       "is1P    3012\n",
       "is1S    3688\n",
       "is2S    4266\n",
       "is2P    5237"
      ]
     },
     "execution_count": 376,
     "metadata": {},
     "output_type": "execute_result"
    }
   ],
   "source": [
    "dfUG.groupby(\"case\").count()[[\"lexeme\"]].sort_values(\"lexeme\")"
   ]
  },
  {
   "cell_type": "code",
   "execution_count": 377,
   "metadata": {
    "collapsed": true
   },
   "outputs": [],
   "source": [
    "dfLexemesUG=dfUG.groupby(\"lexeme\").count()[[\"case\"]]\n",
    "lexemesUG=dfLexemesUG.index.tolist()\n",
    "#dfLexemesUG"
   ]
  },
  {
   "cell_type": "code",
   "execution_count": 378,
   "metadata": {},
   "outputs": [
    {
     "name": "stdout",
     "output_type": "stream",
     "text": [
      "5338 abaisser, abandonner, abasourdir, abattre, abdiquer, aberrer, abhorrer, abjurer, abolir, abonder, abonner, aborder, aboucher, abouler, abouter, aboutir, aboyer, abraser, abreuver, abricoter, abriter, abroger, abrutir, abréger, absenter, absorber, absoudre, abstenir, abstraire, abuser, abâtardir, abêtir, abîmer, acagnarder, accabler, accaparer, accentuer, accepter, accidenter, acclamer, acclimater, accointer, accoler, accommoder, accompagner, accomplir, accorder, accoster, accoter, accoucher, accouder, accoupler, accourcir, accourir, accoutrer, accoutumer, accrocher, accroupir, accroître, accréditer, accueillir, acculer, accumuler, accuser, accéder, accélérer, achalander, acharner, acheminer, acheter, achever, achopper, aciduler, acoquiner, acquiescer, acquitter, acquérir, actionner, activer, actualiser, acérer, adapter, additionner, adhérer, adjoindre, adjuger, adjurer, admettre, administrer, admirer, admonester, adoniser, adonner, adopter, adorer, adosser, adouber, adoucir, adresser, aduler, adultérer, affabuler, affadir, affaiblir, affairer, affaisser, affaler, affamer, affecter, affectionner, affermir, afficher, affiler, affilier, affiner, affirmer, affleurer, affliger, affluer, affoler, affouiller, affranchir, affriander, affrioler, affronter, affréter, affubler, affûter, agacer, agencer, agenouiller, agglomérer, agglutiner, aggraver, agir, agiter, agneler, agonir, agoniser, agrafer, agrandir, agresser, agripper, agréer, agréger, agrémenter, aguerrir, aguicher, ahaner, ahurir, aider, aigrir, aiguiller, aiguillonner, aiguiser, ailler, aimanter, aimer, ajourer, ajourner, ajouter, ajuster, alanguir, alarmer, alcaliniser, alcooliser, alentir, alerter, aligner, alimenter, aliter, aliéner, allaiter, aller, allier, allonger, allouer, allumer, allécher, alléger, allégoriser, alléguer, alourdir, alpaguer, alphabétiser, alterner, altérer, alunir, aléser, amadouer, amaigrir, amalgamer, amarrer, amasser, amatir, ambitionner, ambler, ambrer, amender, amener, amenuiser, amerrir, ameuter, amidonner, amincir, amnistier, amocher, amoindrir, amollir, amonceler, amorcer, amortir, amouracher, amplifier, amputer, amurer, amuser, améliorer, aménager, américaniser, analyser, anathématiser, anatomiser, ancrer, anesthésier, angliciser, angoisser, anhéler, animaliser, animer, aniser, ankyloser, anneler, annexer, annihiler, annoncer, annoter, annuler, anoblir, anodiser, anticiper, antidater, anéantir, anémier, apaiser, apercevoir, apeurer, apitoyer, aplanir, aplatir, apostasier, aposter, apostiller, apostropher, apparaître, appareiller, apparenter, apparier, appartenir, appauvrir, appeler, appendre, appesantir, applaudir, appliquer, appointer, apponter, apporter, apposer, apprendre, apprivoiser, approcher, approfondir, approprier, approuver, approvisionner, apprécier, appréhender, apprêter, appuyer, appâter, apurer, arabiser, araser, arbitrer, arborer, arc-bouter, architecturer, archiver, argenter, arguer, argumenter, armer, armorier, arnaquer, aromatiser, arpenter, arpéger, arquebuser, arquer, arracher, arraisonner, arranger, arrimer, arriver, arriérer, arroger, arrondir, arroser, arrêter, articuler, ascensionner, aseptiser, asperger, asphalter, asphyxier, aspirer, assagir, assaillir, assainir, assaisonner, assassiner, assembler, assener, asseoir, assermenter, asservir, assigner, assimiler, assister, assiéger, associer, assoiffer, assombrir, assommer, assortir, assoupir, assouplir, assourdir, assouvir, assujettir, assumer, assurer, assécher, asséner, asticoter, astiquer, astreindre, atermoyer, atomiser, atrophier, attabler, attacher, attaquer, attarder, atteindre, atteler, attendre, attendrir, attenter, atterrer, atterrir, attester, attifer, attiger, attirer, attiser, attitrer, attiédir, attraper, attribuer, attrister, attrouper, atténuer, auditionner, augmenter, augurer, aurifier, auréoler, ausculter, authentifier, authentiquer, autographier, automatiser, autoproclamer, autopsier, autoriser, avachir, avaler, avaliser, avancer, avantager, avarier, aventurer, avertir, aveugler, aveulir, avilir, aviner, aviser, avitailler, aviver, avoir, avoisiner, avorter, avouer, avoyer, avérer, axer, azurer, aérer, babiller, bachoter, badauder, badigeonner, badiner, bafouer, bafouiller, bagarrer, baguenauder, baguer, baigner, bailler, baiser, baisoter, baisser, balader, balafrer, balancer, balayer, balbutier, baliser, balkaniser, ballonner, ballotter, bambocher, banaliser, bander, banner, bannir, banquer, banqueter, baptiser, baragouiner, baraquer, baratiner, baratter, barboter, barbouiller, barder, barguigner, barioler, barrer, barricader, barrir, basaner, basculer, baser, bassiner, batailler, batifoler, battre, bauger, bavarder, bavasser, baver, bavocher, bazarder, becqueter, becter, bedonner, bercer, berner, besogner, beugler, beurrer, biaiser, biberonner, bicher, bichonner, bidonner, biffer, bifurquer, bigarrer, bigler, bigorner, biler, biner, biseauter, biser, bisquer, bisser, bistrer, biter, biturer, bivouaquer, blablater, blackbouler, blaguer, blairer, blanchir, blaser, blasonner, blasphémer, blatérer, blesser, blettir, bleuir, blinder, blondir, bloquer, blottir, blouser, bluffer, bluter, blâmer, blêmir, bobiner, boire, boiser, boiter, boitiller, bombarder, bomber, bondir, bonifier, bonimenter, border, borner, bosseler, bosser, bossuer, bostonner, botteler, botter, boubouler, boucaner, boucharder, boucher, bouchonner, boucler, bouder, boudiner, bouffer, bouffir, bouffonner, bouger, bougonner, bouillir, bouillonner, bouillotter, boulanger, bouler, bouleverser, boulonner, boulotter, boumer, bourdonner, bourgeonner, bourlinguer, bourreler, bourrer, boursoufler, bousculer, bousiller, bouter, boutonner, boxer, boyauter, boycotter, braconner, brader, brailler, braiser, bramer, brancher, brandir, branler, braquer, braser, brasiller, brasser, braver, brayer, bredouiller, breveter, bricoler, brider, bridger, brifer, briffer, brigander, briguer, brillanter, briller, brimbaler, brimer, bringuebaler, brinquebaler, briquer, briser, brocanter, brocarder, brocher, broder, broncher, bronzer, brosser, brouetter, brouillasser, brouiller, brouter, broyer, bruire, bruisser, bruiter, brumasser, brunir, brusquer, brutaliser, brêler, brûler, buller, bureaucratiser, buriner, busquer, buter, butiner, butter, bâcher, bâcler, bâfrer, bâiller, bâillonner, bâter, bâtir, bâtonner, béatifier, bécoter, béer, bégayer, bémoliser, bénir, bénéficier, béquer, béquiller, bétonner, bêcher, bêler, bêtifier, bûcher, cabaner, cabosser, caboter, cabotiner, cabrer, cabrioler, cacher, cacheter, cadastrer, cadenasser, cadencer, cadmier, cadrer, cafarder, cafouiller, cafter, cahoter, cailler, caillouter, cajoler, calamistrer, calancher, calandrer, calciner, calculer, caler, calfater, calfeutrer, calibrer, calligraphier, calmer, calmir, calomnier, calotter, calquer, calter, cambrer, cambrioler, camionner, camoufler, camper, canaliser, canarder, cancaner, cancériser, candir, caner, canneler, canner, canoniser, canonner, canoter, cantiner, cantonner, canuler, caoutchouter, caparaçonner, capeler, capitaliser, capitonner, capituler, capoter, capter, captiver, capturer, capuchonner, caqueter, caracoler, caractériser, caramboler, caraméliser, carapater, carboniser, carburer, carder, caresser, carguer, caricaturer, carillonner, carminer, carotter, carreler, carrer, carrosser, cartonner, caréner, cascader, caser, caserner, casquer, casser, castagner, castrer, cataloguer, catalyser, catapulter, catastropher, catcher, catéchiser, cauchemarder, causer, cautionner, cautériser, cavaler, caver, caviarder, ceindre, ceinturer, celer, cendrer, censurer, centraliser, centrer, cercler, cerner, certifier, cesser, chabler, chagriner, chahuter, chalouper, chamailler, chamarrer, chambarder, chambouler, champagniser, chanceler, chancir, changer, chansonner, chanter, chantonner, chantourner, chaparder, chapeauter, chaperonner, chapitrer, charcuter, charger, charmer, charpenter, charrier, chasser, chatonner, chatouiller, chatoyer, chauffer, chauler, chaumer, chausser, chavirer, chaîner, cheminer, chemiser, chercher, cherrer, chevaler, chevaucher, cheviller, chevronner, chevroter, chiader, chialer, chicaner, chicoter, chier, chiffonner, chiffrer, chiner, chiper, chipoter, chiquer, chlinguer, chlorer, chloroformer, choir, choisir, choper, chopper, choquer, chosifier, choyer, christianiser, chromer, chroniquer, chronométrer, chuchoter, chuinter, chuter, châtier, châtrer, chérir, chômer, cibler, cicatriser, ciller, cimenter, cingler, cintrer, circoncire, circonscrire, circonvenir, circuler, cirer, cisailler, ciseler, citer, civiliser, clabauder, claboter, claironner, clamecer, clamer, clamser, claper, clapir, clapoter, clapper, claquemurer, claquer, claqueter, clarifier, classer, classifier, claudiquer, claustrer, clayonner, clicher, cligner, clignoter, climatiser, cliqueter, clisser, cliver, clocher, cloisonner, clopiner, cloquer, clore, clouer, clouter, cloîtrer, clôturer, coaguler, coaliser, coasser, cocher, cochonner, cocufier, coder, codifier, coexister, coffrer, cogiter, cogner, cohabiter, coiffer, coincer, collaborer, collationner, collecter, collectionner, coller, colleter, colmater, coloniser, colorer, colorier, coloriser, colporter, coltiner, combattre, combiner, combler, commander, commanditer, commencer, commenter, commercer, commercialiser, commettre, commissionner, commotionner, commuer, communier, communiquer, commuter, commémorer, commérer, comparaître, comparer, compartimenter, compasser, compatir, compenser, compiler, compisser, complaire, complexer, complimenter, compliquer, comploter, compléter, comporter, composer, composter, comprendre, compresser, comprimer, compromettre, comptabiliser, compter, compulser, concasser, concentrer, conceptualiser, concerner, concerter, concevoir, concilier, conclure, concocter, concorder, concourir, concréter, concrétiser, concurrencer, concéder, concélébrer, condamner, condenser, condescendre, conditionner, conduire, confectionner, confesser, confier, configurer, confiner, confire, confirmer, confisquer, confluer, confondre, conformer, conforter, confronter, confédérer, conférer, congeler, congestionner, conglomérer, congratuler, congédier, conjecturer, conjoindre, conjuguer, conjurer, connaître, connecter, conquérir, consacrer, conseiller, consentir, conserver, considérer, consigner, consister, consoler, consolider, consommer, conspirer, conspuer, constater, consteller, consterner, constiper, constituer, construire, consulter, consumer, contacter, contaminer, contempler, contenir, contenter, conter, contester, contingenter, continuer, contorsionner, contourner, contracter, contraindre, contrarier, contraster, contre-attaquer, contre-indiquer, contrebalancer, contrecarrer, contredire, contrefaire, contreficher, contrefoutre, contremander, contrer, contresigner, contrevenir, contribuer, contrôler, contusionner, convaincre, convenir, converger, converser, convertir, convier, convoiter, convoler, convoquer, convoyer, convulser, convulsionner, coopter, coopérer, coordonner, copier, copiner, coproduire, coqueter, corder, cordonner, corner, correctionnaliser, correspondre, corriger, corroborer, corroder, corrompre, corréler, corser, corseter, cosigner, cosser, costumer, coter, cotir, cotiser, cotonner, couchailler, coucher, couder, coudoyer, coudre, couillonner, couler, coulisser, coupailler, couper, coupler, courber, courir, couronner, courroucer, courser, court-circuiter, courtiser, cousiner, couver, couvrir, coïncider, coïter, coûter, cracher, crachoter, crachouiller, crailler, craindre, cramer, cramponner, cranter, crapahuter, craqueler, craquer, craqueter, cravacher, cravater, crayonner, creuser, crevasser, crever, criailler, cribler, crier, criminaliser, crisper, crisser, cristalliser, critiquer, croasser, crocheter, croire, croiser, croquer, crosser, crotter, crouler, croupir, croustiller, croître, croûter, crucifier, crypter, crâner, crécher, créditer, créer, crémer, créneler, crépir, crépiter, crétiniser, crêper, cuber, cueillir, cuirasser, cuire, cuisiner, cuiter, cuivrer, culbuter, culer, culminer, culotter, culpabiliser, cultiver, cumuler, curer, cureter, cuver, cyanoser, cylindrer, câbler, câliner, céder, célébrer, côtoyer, dactylographier, daguer, daigner, daller, damasser, damer, damner, dandiner, danser, dansotter, darder, dater, dauber, demander, demeurer, denteler, desceller, descendre, desquamer, dessaisir, dessaler, dessaouler, desseller, desserrer, dessertir, desservir, dessiller, dessiner, dessouder, dessouler, dessoûler, dessécher, destiner, destituer, devancer, devenir, deviner, deviser, devoir, diagnostiquer, dialoguer, dialyser, diamanter, diaphragmer, diaprer, dicter, diffamer, difformer, diffracter, diffuser, différencier, différer, digitaliser, digérer, dilapider, dilater, diligenter, diluer, diminuer, dinguer, diplômer, dire, diriger, discerner, discipliner, discontinuer, disconvenir, discorder, discourir, discriminer, discréditer, disculper, discutailler, discuter, disgracier, disjoindre, disloquer, disparaître, dispenser, disperser, disposer, disputer, disqualifier, disserter, dissimiler, dissimuler, dissiper, dissocier, dissoner, dissoudre, dissuader, disséminer, disséquer, distancer, distancier, distendre, distiller, distinguer, distordre, distraire, distribuer, divaguer, diverger, diversifier, divertir, diviniser, diviser, divorcer, divulguer, diéser, documenter, dodeliner, dodiner, doigter, domestiquer, domicilier, dominer, dompter, donner, doper, dorer, dorloter, dormir, doser, doter, doubler, doucher, doucir, douter, draguer, drainer, dramatiser, draper, dresser, dribbler, driver, droguer, droper, dropper, drosser, dulcifier, duper, dupliquer, durcir, durer, duveter, dynamiser, dynamiter, déambuler, débagouler, déballer, débander, débaptiser, débarbouiller, débarder, débarquer, débarrasser, débarrer, débattre, débaucher, débecqueter, débecter, débiliter, débiner, débiter, déblatérer, déblayer, débloquer, débobiner, déboiser, débonder, déborder, déboucher, déboucler, débouler, déboulonner, débouquer, débourrer, débourser, déboussoler, débouter, déboutonner, déboîter, débraguetter, débrailler, débrancher, débrayer, débrider, débrouiller, débroussailler, débusquer, débuter, débâter, décacheter, décaféiner, décaisser, décalaminer, décalcifier, décaler, décalotter, décalquer, décamper, décaniller, décanter, décaper, décapiter, décapoter, décapsuler, décapuchonner, décarcasser, décarrer, décatir, déceler, décentraliser, décentrer, décerner, décerveler, décesser, décevoir, déchanter, décharger, décharner, déchaumer, déchausser, déchaîner, déchiffrer, déchiqueter, déchirer, déchoir, déchristianiser, décider, décimer, déclamer, déclarer, déclasser, déclaveter, déclencher, décliner, décliqueter, décloisonner, déclore, déclouer, décocher, décoder, décoffrer, décoiffer, décoincer, décoller, décolleter, décoloniser, décolorer, décolérer, décommander, décompenser, décomposer, décompresser, décomprimer, décompter, déconcentrer, déconcerter, déconditionner, déconfire, décongeler, décongestionner, déconnecter, déconner, déconseiller, déconsidérer, déconsigner, déconstiper, décontenancer, décontracter, décorer, décorner, décortiquer, découcher, découdre, découler, découper, découpler, décourager, découronner, découvrir, décrasser, décrier, décriminaliser, décrire, décrisper, décrocher, décroiser, décrotter, décroître, décrypter, décrépir, décréter, décrêper, déculotter, déculpabiliser, décupler, décuver, décéder, décélérer, décérébrer, dédaigner, dédicacer, dédier, dédire, dédommager, dédorer, dédouaner, dédoubler, dédramatiser, déduire, défaillir, défaire, défalquer, défausser, défavoriser, défendre, défenestrer, déferler, déferrer, défeuiller, déficeler, défier, défiger, défigurer, défiler, définir, défiscaliser, défleurir, déflorer, défoncer, déformer, défouler, défrayer, défraîchir, défricher, défriper, défriser, défroisser, défroquer, déféquer, déférer, dégager, dégainer, déganter, dégarnir, dégauchir, dégazer, dégeler, dégermer, dégingander, dégivrer, déglacer, déglinguer, déglutir, dégobiller, dégoiser, dégommer, dégonfler, dégorger, dégoter, dégotter, dégouliner, dégoupiller, dégourdir, dégoutter, dégoûter, dégrader, dégrafer, dégraisser, dégringoler, dégriser, dégrossir, dégréer, déguerpir, dégueuler, déguiser, dégurgiter, déguster, dégénérer, déhancher, déharnacher, déifier, déjanter, déjauger, déjeter, déjeuner, déjouer, déjucher, déjuger, délabrer, délacer, délaisser, délarder, délasser, délaver, délayer, délecter, délester, délibérer, délier, délimiter, délirer, déliter, délivrer, délocaliser, déloger, délurer, délustrer, déléguer, démagnétiser, démailler, démailloter, démancher, démanger, démanteler, démantibuler, démaquiller, démarcher, démarier, démarquer, démarrer, démasquer, démembrer, démener, démentir, démerder, démettre, démeubler, démilitariser, déminer, démissionner, démobiliser, démocratiser, démoder, démolir, démonter, démontrer, démonétiser, démoraliser, démordre, démouler, démultiplier, démunir, démuseler, démystifier, démâter, déménager, démériter, démêler, dénantir, dénaturer, dénazifier, déneiger, dénerver, déniaiser, dénicher, dénier, dénigrer, déniveler, dénombrer, dénommer, dénoncer, dénoter, dénouer, dénoyauter, dénuder, dénuer, dépailler, dépanner, dépaqueter, dépareiller, déparer, déparier, déparler, départager, départir, dépasser, dépassionner, dépatouiller, dépaver, dépayser, dépecer, dépeigner, dépeindre, dépendre, dépenser, dépersonnaliser, dépeupler, déphaser, dépiauter, dépiler, dépiquer, dépister, dépiter, déplacer, déplaire, déplanter, déplier, déplisser, déplomber, déplorer, déployer, déplumer, déplâtrer, dépointer, dépolir, dépolitiser, dépolluer, déporter, déposer, déposséder, dépoter, dépoudrer, dépouiller, dépourvoir, dépoussiérer, dépoétiser, dépraver, déprendre, dépressuriser, déprimer, déprogrammer, déprécier, dépuceler, dépurer, députer, dépérir, dépêcher, dépêtrer, déquiller, déraciner, dérailler, déraisonner, déranger, déraper, dératiser, dérayer, dérider, dériver, dérober, déroger, dérouiller, dérouler, dérouter, dérégler, désabonner, désabuser, désaccorder, désaccoupler, désaccoutumer, désacraliser, désactiver, désadapter, désaffecter, désagréger, désaltérer, désamorcer, désappointer, désapprendre, désapprouver, désargenter, désarmer, désarrimer, désarticuler, désarçonner, désassembler, désassortir, désavantager, désavouer, désaxer, désembourber, désembuer, désemparer, désemplir, désenchanter, désenchaîner, désencombrer, désencrasser, désenfler, désengager, désengourdir, désennuyer, désensabler, désensibiliser, désensorceler, désentortiller, désentraver, déserter, désespérer, déshabiller, déshabituer, désherber, déshonorer, déshumaniser, déshydrater, déshériter, désigner, désillusionner, désincarner, désincruster, désinfecter, désinsectiser, désintoxiquer, désintégrer, désintéresser, désinviter, désirer, désister, désobliger, désobéir, désoccuper, désodoriser, désoler, désolidariser, désopiler, désorbiter, désordonner, désorganiser, désorienter, désosser, déstabiliser, déstocker, déstructurer, désunir, désynchroniser, déséchouer, désépaissir, déséquilibrer, déséquiper, détacher, détailler, détaler, détaxer, détecter, déteindre, dételer, détendre, détenir, déterger, déterminer, déterrer, détester, détisser, détoner, détonner, détordre, détourner, détraquer, détremper, détricoter, détromper, détrousser, détruire, détrôner, détériorer, dévaler, dévaliser, dévaloriser, dévaluer, dévaster, développer, déventer, dévergonder, dévernir, déverrouiller, déverser, dévider, dévier, dévirginiser, déviriliser, dévisager, dévisser, dévitaliser, dévoiler, dévorer, dévouer, dévoyer, dévêtir, dîner, effacer, effarer, effaroucher, effectuer, effeuiller, effiler, effilocher, effleurer, effondrer, efforcer, effranger, effrayer, effriter, efféminer, emballer, embarbouiller, embarquer, embarrasser, embarrer, embastiller, embattre, embaucher, embaumer, embellir, emberlificoter, emblaver, embobeliner, embobiner, embosser, emboucher, embouquer, embourber, embourgeoiser, embouteiller, emboutir, emboîter, embrancher, embraquer, embraser, embrasser, embrayer, embrigader, embringuer, embrocher, embrouiller, embrumer, embuer, embusquer, embéguiner, embêter, emmagasiner, emmailloter, emmancher, emmener, emmerder, emmitoufler, emmoufler, emmurer, emménager, emmêler, empailler, empaler, empalmer, empanacher, empanner, empaqueter, emparer, empaumer, empeigner, empenner, emperler, empeser, empester, empierrer, empiffrer, empiler, empirer, empiéter, emplir, employer, emplumer, emplâtrer, empocher, empoigner, empoisonner, empoissonner, emporter, empoter, empourprer, empoussiérer, empreindre, empresser, emprisonner, emprunter, empuantir, empâter, empêcher, empêtrer, enamourer, encabaner, encadrer, encager, encaisser, encanailler, encapuchonner, encaquer, encarter, encaserner, encasteler, encastrer, encaustiquer, encaver, enceindre, encelluler, encenser, encercler, enchanter, enchaîner, enchemiser, enchevêtrer, enchifrener, enchâsser, enchérir, enclaver, enclencher, encliqueter, enclore, enclouer, encoder, encoller, encombrer, encorder, encorner, encourager, encourir, encrasser, encrer, encroûter, enculer, endetter, endeuiller, endiabler, endiguer, endimancher, endivisionner, endoctriner, endolorir, endommager, endormir, endosser, enduire, endurcir, endurer, endêver, enfanter, enfariner, enfermer, enferrer, enficher, enfiler, enfiévrer, enflammer, enfler, enfoncer, enfouir, enfourcher, enfourner, enfreindre, enfuir, enfumer, engager, engazonner, engendrer, englacer, englober, engloutir, engluer, engoncer, engorger, engouer, engouffrer, engourdir, engraisser, engranger, engraver, engrener, engrosser, engueuler, enguirlander, enhardir, enivrer, enjamber, enjoindre, enjoliver, enjouer, enjuiver, enjôler, enkyster, enlacer, enlaidir, enlever, enliser, enluminer, enneiger, ennoblir, ennuager, ennuyer, enorgueillir, enquiquiner, enquérir, enquêter, enraciner, enrager, enrailler, enrayer, enregistrer, enrhumer, enrichir, enrober, enrouer, enrouler, enrubanner, enrégimenter, enrôler, ensabler, ensacher, ensanglanter, ensauvager, ensauver, enseigner, ensemencer, enserrer, ensevelir, ensoleiller, ensorceler, ensoutaner, entacher, entailler, entamer, entasser, entendre, enter, enterrer, enthousiasmer, enticher, entoiler, entonner, entortiller, entourer, entr'aimer, entr'apercevoir, entr'égorger, entraider, entrapercevoir, entraver, entraîner, entre-déchirer, entre-dévorer, entre-regarder, entre-tuer, entrebattre, entrebâiller, entrechoquer, entrecouper, entrecroiser, entrelacer, entrelarder, entremettre, entremêler, entreposer, entreprendre, entrer, entretenir, entrevoir, entrouvrir, entuber, enténébrer, entériner, entêter, entôler, envahir, envaser, envelopper, envenimer, enverguer, envier, environner, envisager, envoler, envoyer, envoûter, ergoter, errer, esbigner, esbroufer, escalader, escamoter, escher, esclaffer, esclavager, escompter, escorter, escrimer, escroquer, espacer, espionner, espérer, esquinter, esquisser, esquiver, essaimer, essanger, essarter, essayer, essorer, essoriller, essouffler, essuyer, estamper, estampiller, esthétiser, estimer, estomaquer, estomper, estoquer, estourbir, estrapasser, estropier, euphoriser, exacerber, exagérer, exalter, examiner, exaspérer, exaucer, excaver, exceller, excentrer, excepter, exciper, exciser, exciter, exclamer, exclure, excommunier, excorier, excréter, excursionner, excuser, excéder, exemplifier, exempter, exercer, exfolier, exhaler, exhausser, exhiber, exhorter, exhumer, exiger, exiler, exister, exonérer, exorciser, expatrier, expectorer, expertiser, expier, expirer, expliciter, expliquer, exploiter, explorer, exploser, exporter, exposer, exprimer, exproprier, expulser, expurger, expédier, expérimenter, exsuder, extasier, exterminer, extirper, extorquer, extrader, extraire, extrapoler, extravaguer, exténuer, extérioriser, exulter, exécrer, exécuter, fabriquer, fabuler, facetter, faciliter, facturer, fagoter, faiblir, faignanter, faillir, fainéanter, faire, faisander, falsifier, familiariser, fanatiser, faner, fanfaronner, fantasmer, farandoler, farcir, farder, farfouiller, fariner, farter, fasciner, fasciser, faseyer, fatiguer, faucarder, faucher, faufiler, fausser, fauter, favoriser, fayoter, fayotter, façonner, feindre, fendre, fermenter, fermer, ferrailler, ferrer, fertiliser, fesser, festonner, festoyer, feuilleter, feuler, feutrer, fiancer, ficeler, ficher, fidéliser, fienter, fier, figer, fignoler, figurer, filer, fileter, filigraner, filmer, filocher, filouter, filtrer, finaliser, financer, finasser, finir, fissurer, fixer, flageller, flageoler, flagorner, flairer, flamber, flamboyer, flancher, flanquer, flatter, flemmarder, fleurer, fleureter, fleurir, flinguer, flipper, flirter, floconner, floculer, flotter, flouer, fluctuer, fluer, fluidifier, fluxer, flâner, fléchir, flétrir, flûter, focaliser, foirer, foisonner, folichonner, folâtrer, fomenter, foncer, fonctionnariser, fonctionner, fonder, fondre, forcer, forcir, forer, forger, forlonger, formaliser, former, formuler, forniquer, fortifier, fossiliser, fouailler, foudroyer, fouetter, fouger, fouiller, fouiner, fouir, fouler, fourbir, fourcher, fourgonner, fourguer, fourmiller, fournir, fourrager, fourrer, fourvoyer, foutre, fracasser, fractionner, fracturer, fragiliser, fragmenter, fraiser, franchir, franchiser, franger, frapper, fraterniser, frauder, frayer, fraîchir, fredonner, freiner, frelater, fretter, fricasser, fricoter, frictionner, frigorifier, fringuer, friper, friser, frisotter, frissonner, froidir, froisser, froncer, fronder, frotter, froufrouter, fructifier, frusquer, frustrer, frémir, fréquenter, fréter, frétiller, frôler, fuguer, fuir, fulgurer, fulminer, fumer, fumeronner, fumiger, fureter, fuseler, fuser, fusiller, fusionner, fustiger, fâcher, féconder, fédérer, féliciter, féminiser, fêler, fêter, gaffer, gager, gagner, gainer, galber, galonner, galoper, galvaniser, galvauder, gambader, gamberger, gambiller, gaminer, gangrener, ganser, ganter, garantir, garder, garer, gargariser, garnir, garrotter, gaspiller, gauchir, gaufrer, gausser, gaver, gazer, gazouiller, gazéifier, geindre, geler, gerber, gercer, germer, gesticuler, gicler, gifler, gigoter, givrer, glacer, glander, glaner, glapir, glavioter, glaviotter, glisser, globaliser, glorifier, gloser, glouglouter, glousser, gober, goberger, gobeter, godailler, goder, godiller, godronner, goguenarder, goinfrer, gominer, gommer, gondoler, gonfler, gouailler, goudronner, goupiller, gourer, gourmander, gourmer, goutter, gouverner, goûter, gracier, graduer, grailler, graillonner, grainer, graisser, grandir, graniter, granuler, grappiller, grasseyer, gratifier, gratiner, gratter, graver, gravir, graviter, greffer, grelotter, grener, grenouiller, grever, gribouiller, griffer, griffonner, grignoter, grillager, griller, grimper, grincer, grincher, gripper, grisailler, griser, grisonner, griveler, grognasser, grogner, grognonner, grommeler, gronder, grossir, grouiller, grouper, gruger, gréer, grésiller, guerroyer, guetter, gueuler, gueuletonner, gueuser, guider, guigner, guillocher, guillotiner, guinder, guérir, guêtrer, gâcher, gâter, gélifier, gémir, généraliser, générer, gérer, gésir, gêner, gîter, habiliter, habiller, habiter, habituer, hacher, haler, haleter, halluciner, hameçonner, hancher, handicaper, hanter, happer, haranguer, harasser, harceler, harmoniser, harnacher, harper, harponner, hasarder, haubaner, hausser, haver, haïr, helléniser, hennir, herber, herboriser, hercher, herser, heurter, hiberner, hisser, historier, hiverner, hiérarchiser, hocher, homogénéiser, homologuer, honnir, honorer, hoqueter, horrifier, horripiler, hospitaliser, hotter, houblonner, houer, houspiller, huer, huiler, hululer, humaniser, humecter, humer, humidifier, humilier, hurler, hybrider, hydrater, hypertrophier, hypnotiser, hypothéquer, hâler, hâter, héberger, hébéter, héler, hérisser, hériter, hésiter, identifier, idolâtrer, idéaliser, ignifuger, ignorer, illuminer, illusionner, illustrer, imager, imaginer, imbiber, imbriquer, imiter, immatriculer, immerger, immigrer, immiscer, immobiliser, immoler, immortaliser, immuniser, impartir, impatienter, impatroniser, imperméabiliser, implanter, impliquer, implorer, imploser, implémenter, importer, importuner, imposer, impressionner, imprimer, improuver, improviser, imprégner, impulser, imputer, inaugurer, incarcérer, incarner, incendier, incinérer, inciser, inciter, incliner, inclure, incomber, incommoder, incorporer, incriminer, incruster, incuber, inculper, inculquer, incurver, indemniser, indexer, indifférer, indigner, indiquer, indisposer, individualiser, induire, indurer, industrialiser, infantiliser, infatuer, infecter, infester, infiltrer, infirmer, infliger, influencer, influer, infléchir, informatiser, informer, infuser, inféoder, inférer, inférioriser, ingurgiter, ingénier, ingérer, inhaler, inhiber, inhumer, initialiser, initier, injecter, injurier, innerver, innocenter, innover, inoculer, inonder, inquiéter, inscrire, insinuer, insister, insoler, insonoriser, inspecter, inspirer, installer, instaurer, instiller, instituer, institutionnaliser, instruire, instrumenter, insuffler, insulter, insupporter, insurger, inséminer, insérer, intellectualiser, intensifier, intenter, interagir, intercaler, intercepter, interconnecter, intercéder, interdire, interférer, interjeter, interligner, interloquer, internationaliser, interner, interpeller, interpoler, interposer, interpréter, interpénétrer, interroger, interrompre, intervenir, intervertir, interviewer, intimer, intimider, intituler, intoxiquer, intriguer, introduire, introniser, intégrer, intéresser, intérioriser, invalider, invectiver, inventer, inventorier, inverser, invertir, investir, inviter, invoquer, invétérer, iodler, ioniser, iriser, ironiser, irradier, irriguer, irriter, isoler, jacasser, jacter, jaillir, jalonner, jalouser, japper, jardiner, jargonner, jaser, jasper, jaspiner, jauger, jaunir, javelliser, jeter, jeûner, jodler, joindre, jointoyer, joncher, jongler, jouer, jouir, jouter, jouxter, jubiler, jucher, judaïser, juger, juguler, jumeler, juponner, jurer, justifier, juter, juxtaposer, kidnapper, klaxonner, labialiser, labourer, lacer, lacérer, laisser, lambiner, lambrisser, lamenter, laminer, lamper, lancer, lanciner, langer, languir, lanterner, laper, lapider, lapiner, laquer, larder, larguer, larmoyer, lasser, latiniser, latter, laver, layer, laïusser, lessiver, leurrer, lever, liarder, libeller, libérer, licencier, licher, lier, lifter, ligner, ligoter, liguer, limer, limiter, limoger, liquider, liquéfier, lire, liserer, lisser, lister, lisérer, liter, livrer, lober, localiser, lock-outer, lofer, loger, longer, loquer, lorgner, lotionner, lotir, louanger, loucher, louer, louper, lourder, lourer, louvoyer, lover, lubrifier, luire, luncher, lustrer, lutiner, lutter, luxer, lyncher, lyophiliser, lâcher, lécher, légaliser, légiférer, légitimer, léguer, lénifier, léser, lésiner, léviter, lézarder, machiner, maculer, macérer, magasiner, magner, magnifier, magnétiser, maigrir, mailler, maintenir, majorer, malaxer, malmener, malter, maltraiter, manager, mandater, mander, manger, manier, manifester, manigancer, manipuler, maniérer, mannequiner, manoeuvrer, manquer, mansarder, manucurer, manufacturer, manutentionner, maquer, maquereauter, maquignonner, maquiller, marauder, marbrer, marchander, marcher, marger, marginaliser, marginer, margoter, margotter, marier, mariner, marivauder, marmiter, marmonner, marmotter, marner, maronner, maroufler, marquer, marqueter, marrer, marronner, marteler, martiner, martyriser, masculiniser, masquer, massacrer, masser, massicoter, mastiquer, masturber, matelasser, mater, materner, materniser, matir, matraquer, matérialiser, maudire, maugréer, maximaliser, maximiser, mazer, mazouter, maçonner, maîtriser, menacer, mendier, mendigoter, mener, mentionner, mentir, menuiser, merceriser, merder, merdoyer, meringuer, mesurer, mettre, meubler, meugler, meuler, meurtrir, miauler, mignarder, migrer, mijoter, militariser, militer, millésimer, mimer, minauder, mincir, miner, minimiser, minuter, minéraliser, mirer, miroiter, miser, missionner, miter, mithridatiser, mitiger, mitonner, mitrailler, mixer, mobiliser, modeler, moderniser, modifier, moduler, modéliser, modérer, moirer, moisir, moissonner, moitir, molester, moleter, mollarder, molletonner, mollir, momifier, monder, monnayer, monologuer, monopoliser, monter, montrer, moquer, moquetter, moraliser, morceler, mordiller, mordorer, mordre, morfaler, morfler, morfondre, morigéner, mortaiser, mortifier, motiver, motoriser, moucharder, moucher, moucheter, moudre, moufter, mouiller, mouler, mouliner, moulurer, mourir, mouronner, mousser, moutonner, mouvoir, moyenner, muer, mugir, mugueter, multiplier, munir, murer, murmurer, musarder, muscler, museler, muser, musiquer, musser, muter, mutiler, mutiner, mystifier, mythifier, mâcher, mâchonner, mâchouiller, mâter, mâtiner, mécaniser, mécher, méconnaître, mécontenter, mécroire, médailler, médiatiser, médicaliser, médicamenter, médire, méditer, méduser, méfier, mégoter, méjuger, mélanger, mémoriser, ménager, méprendre, mépriser, mériter, mésallier, mésestimer, mésuser, métalliser, métamorphoser, métisser, métrer, mêler, nager, nantir, napper, narguer, narrer, nasiller, nationaliser, natter, naturaliser, naviguer, navrer, naître, nervurer, nettoyer, neutraliser, niaiser, nicher, nickeler, nicotiniser, nidifier, nier, nimber, nipper, nitrater, niveler, noircir, nomadiser, nommer, normaliser, noter, notifier, nouer, nourrir, noyauter, noyer, nuancer, nuer, nuire, numériser, numéroter, néantiser, nécessiter, négliger, négocier, objecter, obliger, obliquer, oblitérer, obnubiler, obscurcir, observer, obstiner, obstruer, obséder, obtempérer, obtenir, obturer, obvier, obéir, obérer, occasionner, occidentaliser, occlure, occulter, occuper, ocrer, octavier, octroyer, oeuvrer, offenser, officialiser, officier, offrir, offusquer, oiseler, ombrager, ombrer, omettre, ondoyer, onduler, opacifier, opiacer, opiner, opposer, oppresser, opprimer, opter, optimiser, opérer, oranger, orbiter, orchestrer, ordonnancer, ordonner, organiser, orienter, ornementer, orner, orthographier, osciller, oser, ossifier, ouater, ouatiner, oublier, ouiller, ourdir, ourler, outiller, outrager, outrepasser, outrer, ouvrager, ouvrer, ouvrir, ouïr, ovaliser, ovationner, oxyder, oxygéner, pacifier, pactiser, pagayer, pager, paginer, pagnoter, paillarder, pailleter, palabrer, palissader, palisser, pallier, palmer, palper, palpiter, panacher, paner, paniquer, panner, panoramiquer, panser, panteler, pantoufler, paperasser, papilloter, papoter, papouiller, parachever, parachuter, parader, parafer, paralyser, parapher, paraphraser, parasiter, paraître, parcheminer, parcourir, pardonner, parer, paresser, parfumer, parier, parjurer, parlementer, parler, parloter, parodier, parquer, parqueter, parrainer, parsemer, partager, participer, particulariser, partir, partouser, partouzer, parvenir, passer, passionner, passiver, pasteuriser, pasticher, pastiller, patafioler, patauger, patienter, patiner, patoiser, patouiller, patronner, patrouiller, paumer, paupériser, pauser, pavaner, paver, pavoiser, payer, paître, peaufiner, peigner, peindre, peiner, peinturer, peinturlurer, peler, pelleter, peloter, pelotonner, pencher, pendiller, pendouiller, pendre, penduler, penser, pensionner, percer, percevoir, percher, percuter, perdre, perdurer, perfectionner, perforer, perler, permanenter, permettre, permuter, peroxyder, perpétrer, perpétuer, perquisitionner, persifler, persiller, persister, personnaliser, personnifier, persuader, persécuter, persévérer, perturber, pervertir, peser, pester, peupler, philosopher, phosphorer, photocopier, photographier, phraser, piaffer, piailler, pianoter, piauler, picoler, picorer, picoter, pifer, piffer, piger, pignocher, piler, piller, pilonner, piloter, pimenter, pinailler, pincer, pinter, piocher, pioncer, pionner, piper, pique-niquer, piquer, piqueter, pirater, pirouetter, pisser, pister, pistonner, pitonner, pivoter, piéger, piéter, piétiner, placarder, placer, plafonner, plagier, plaider, plaindre, plaire, plaisanter, plancher, planer, planifier, planquer, planter, plaquer, plastifier, plastiquer, plastronner, platiner, pleurer, pleurnicher, pleuvoir, plier, plisser, plomber, plonger, ployer, plucher, plumer, plâtrer, plébisciter, pocher, poignarder, poiler, pointer, pointiller, poinçonner, poireauter, poisser, poivrer, polariser, policer, polir, polissonner, politiser, polluer, polycopier, polémiquer, pommader, pommeler, pommer, pomper, pomponner, poncer, ponctionner, ponctuer, pondre, pondérer, ponter, pontifier, populariser, poquer, porter, portraiturer, poser, positionner, posséder, postdater, poster, postillonner, postuler, potasser, potiner, poudrer, poudroyer, pouffer, pouponner, pourchasser, pourfendre, pourlécher, pourrir, poursuivre, pourvoir, pousser, pouvoir, poétiser, poêler, praliner, pratiquer, prendre, prescrire, pressentir, presser, pressurer, pressuriser, prier, primer, priser, privatiser, priver, privilégier, processionner, proclamer, procréer, procurer, procéder, prodiguer, produire, profaner, professer, profiler, profiter, proférer, programmer, progresser, prohiber, projeter, proliférer, prolonger, prolétariser, promener, promettre, promulguer, prononcer, pronostiquer, propager, prophétiser, proportionner, proposer, propulser, proroger, proscrire, prospecter, prospérer, prosterner, prostituer, protester, protéger, prouver, provenir, provisionner, provoquer, précipiter, préciser, préconiser, précéder, prédestiner, prédire, prédisposer, prédominer, prédéterminer, préexister, préfacer, préfigurer, préfixer, préformer, préférer, préjuger, prélasser, prélever, préluder, prémunir, préméditer, prénommer, préoccuper, préparer, préposer, prérégler, présager, présenter, préserver, présider, présumer, présupposer, prétendre, prétexter, prévaloir, prévenir, prévoir, préétablir, prêcher, prêter, prôner, psychanalyser, publier, puddler, puer, puiser, pulluler, pulser, pulvériser, punir, purger, purifier, putréfier, pyrograver, pâlir, pâmer, pâtir, pâtisser, pâturer, pécher, pédaler, pénaliser, pénétrer, pépier, pérenniser, péricliter, périmer, périr, pérorer, pérégriner, pétarader, pétarder, péter, pétiller, pétitionner, pétrifier, pétrir, pétuner, pêcher, quadriller, quadrupler, qualifier, quantifier, quarrer, quarter, quereller, questionner, queuter, quintessencier, quintupler, quitter, quémander, quêter, rabaisser, rabattre, rabibocher, rabonnir, raboter, rabougrir, rabouter, rabrouer, rabâcher, raccommoder, raccompagner, raccorder, raccourcir, raccrocher, racheter, raciner, racler, racoler, raconter, racornir, rader, radicaliser, radier, radiner, radiodiffuser, radiographier, radioguider, radoter, radouber, radoucir, raffermir, raffiner, raffoler, rafistoler, rafler, rafraîchir, ragaillardir, rager, ragoter, ragoûter, ragrafer, raidir, railler, rainer, rainurer, raire, raisonner, rajeunir, rajouter, rajuster, ralentir, rallier, rallonger, rallumer, ramager, ramasser, ramender, ramener, ramer, rameuter, ramifier, ramollir, ramoner, ramper, rancarder, rancir, randonner, ranger, ranimer, rançonner, rapatrier, rapetasser, rapetisser, rapiner, rapiécer, rapointir, rappeler, rappliquer, rapporter, rapprendre, rapprocher, rapproprier, raréfier, raser, rassasier, rassembler, rasseoir, rassortir, rassurer, rasséréner, ratatiner, rater, ratiboiser, ratifier, ratiociner, rationaliser, rationner, ratisser, rattacher, rattraper, rauquer, ravager, ravaler, ravauder, ravigoter, raviner, ravir, raviser, ravitailler, raviver, rayer, rayonner, razzier, rebaisser, rebander, rebaptiser, rebattre, rebeller, rebiffer, rebiquer, reblanchir, reboiser, rebondir, reborder, reboucher, rebouter, reboutonner, rebraguetter, rebroder, rebrousser, rebuter, rebâtir, recacheter, recaler, recarreler, recaser, recasser, receler, recenser, recentrer, recevoir, rechampir, rechanger, rechanter, rechaper, recharger, rechasser, rechausser, rechercher, rechigner, rechuter, reclasser, reclouer, recogner, recoiffer, recoller, recommander, recommencer, recomposer, recompter, reconduire, recongeler, reconnaître, reconnecter, reconquérir, reconsidérer, reconstituer, reconstruire, reconvertir, recopier, recorder, recoucher, recoudre, recouper, recourber, recourir, recouvrer, recouvrir, recracher, recreuser, recroiser, recroqueviller, recruter, recréer, recrépir, rectifier, recueillir, recuire, reculer, recycler, recéler, redemander, redescendre, redevenir, redevoir, rediffuser, redire, rediscuter, redistribuer, redonner, redorer, redormir, redoubler, redouter, redresser, redécouvrir, redéfinir, redémarrer, redémolir, refaire, refendre, refermer, refeuilleter, refiler, refleurir, refluer, refléter, refondre, reforger, reformer, reformuler, refouiller, refouler, refourrer, refroidir, refréner, refuser, regagner, regarder, regarnir, regeler, regimber, regonfler, regorger, regoûter, regreffer, regretter, regrimper, regrossir, regrouper, regréer, rehausser, rejaillir, rejeter, rejoindre, rejointoyer, rejouer, relaisser, relancer, relater, relativiser, relaver, relaxer, relayer, relever, relier, relire, reloger, reloquer, relouer, reluire, reluquer, relâcher, reléguer, remailler, remanger, remanier, remaquiller, remarcher, remarier, remarquer, remballer, rembarquer, rembarrer, remblayer, rembourrer, rembourser, remboîter, rembrunir, remembrer, remercier, remettre, remeubler, remiser, remmener, remodeler, remonter, remontrer, remordre, remorquer, remoucher, remouiller, rempailler, rempaqueter, rempiler, remplacer, remplier, remplir, remployer, remplumer, rempocher, remporter, rempoter, remprunter, remuer, remâcher, remédier, remémorer, renaître, renchérir, rencogner, rencontrer, rendormir, rendre, renfermer, renfiler, renfler, renflouer, renfoncer, renforcer, renfrogner, rengager, rengainer, rengorger, renier, renifler, renommer, renoncer, renouer, renouveler, renquiller, renseigner, rentabiliser, rentamer, renter, rentoiler, rentrer, renverser, renvoyer, renâcler, renégocier, reparaître, reparler, repartir, repasser, repaver, repayer, repaître, repeigner, repeindre, rependre, repenser, repentir, reperdre, repeupler, repincer, repiquer, replacer, replanter, replier, replonger, reployer, replâtrer, reporter, reposer, reposséder, repousser, reprendre, repriser, reprocher, reproduire, représenter, republier, repérer, repêcher, requinquer, requérir, resalir, respecter, respirer, resplendir, responsabiliser, resquiller, ressaisir, ressasser, ressauter, ressayer, ressembler, ressemeler, ressemer, ressentir, resserrer, resservir, ressortir, ressouder, ressourcer, ressouvenir, ressuer, ressurgir, ressusciter, ressuyer, restaurer, rester, restituer, restreindre, restructurer, resurgir, retailler, retaper, retapisser, retarder, reteindre, retendre, retenir, retenter, retentir, retirer, retisser, retomber, retordre, retoucher, retourner, retracer, retraduire, retraire, retraiter, retrancher, retranscrire, retransmettre, retravailler, retraverser, retremper, retrousser, retrouver, retuber, retâter, retéléphoner, revaloir, revaloriser, revancher, revendiquer, revendre, revenir, reverdir, revernir, reverser, revider, revigorer, revirer, revisiter, revisser, revitaliser, revivifier, revivre, revoir, revoler, revomir, revoter, revouloir, revêtir, rewriter, rhabiller, ribler, ribouler, ricaner, ricocher, rider, ridiculiser, rigoler, rimailler, rimer, rincer, ripailler, riper, ripoliner, riposter, rire, risquer, rissoler, ristourner, ritualiser, rivaliser, river, riveter, rober, robotiser, rocher, roder, rogner, roidir, romancer, rompre, ronchonner, ronfler, ronger, ronronner, ronéoter, ronéotyper, roquer, roser, rosir, rosser, roter, roucouler, rouer, rougeoyer, rougir, rouiller, rouir, rouler, roupiller, rouspéter, roussir, roustir, router, rouvrir, rucher, rudoyer, ruer, rugir, ruiner, ruisseler, ruminer, rupiner, ruser, russifier, rustiquer, rutiler, rythmer, râbler, râler, râper, râteler, réabonner, réaccoutumer, réactiver, réactualiser, réadapter, réadmettre, réaffirmer, réaffûter, réagir, réajuster, réaliser, réamorcer, réaménager, réanimer, réapparaître, réapprendre, réapprovisionner, réargenter, réarmer, réarranger, réassigner, réassortir, réassurer, récapituler, réceptionner, réchapper, réchauffer, récidiver, réciter, réclamer, récolter, récompenser, réconcilier, réconforter, récrier, récriminer, récrire, récréer, récupérer, récurer, récuser, rédiger, réduire, réembaucher, réemployer, réengager, réentendre, réer, réessayer, réexaminer, réexpédier, réfléchir, réformer, réfracter, réfrigérer, réfréner, réfugier, réfuter, référer, régaler, régenter, régionaliser, régir, réglementer, régler, régner, régresser, régulariser, réguler, régurgiter, régénérer, réhabiliter, réhabituer, réhydrater, réifier, réimplanter, réimprimer, réincarcérer, réincarner, réincorporer, réinfecter, réinscrire, réinstaller, réinsérer, réinterroger, réintroduire, réintégrer, réinventer, réinvestir, réinviter, réitérer, réjouir, rémunérer, rénover, réoccuper, réopérer, réordonner, réorganiser, réorienter, répandre, réparer, répartir, répercuter, répertorier, répliquer, répondre, réprimander, réprimer, réprouver, répudier, répugner, réputer, répéter, réquisitionner, réserver, résider, résigner, résilier, résiner, résister, résonner, résorber, résoudre, résumer, réséquer, rétablir, rétamer, rétorquer, rétracter, rétreindre, rétribuer, rétrocéder, rétrograder, rétrécir, réunifier, réunir, réussir, réveiller, réveillonner, réverbérer, réviser, révolter, révolutionner, révoquer, révulser, révéler, révérer, réécouter, réécrire, réédifier, rééditer, rééduquer, réélire, rééquilibrer, réévaluer, rêvasser, rêver, rôdailler, rôder, rôtir, sabler, saborder, saboter, sabouler, sabrer, saccader, saccager, sacquer, sacraliser, sacrer, sacrifier, saigner, saillir, saisir, salarier, saler, salir, saliver, saloper, saluer, sanctifier, sanctionner, sangler, sangloter, saouler, saper, saponifier, saquer, sarcler, sasser, satelliser, satiner, satiriser, satisfaire, saturer, saucer, saucissonner, saupoudrer, saurer, saurir, sauter, sautiller, sauvegarder, sauver, savoir, savonner, savourer, scalper, scandaliser, scander, scarifier, sceller, schlinguer, schématiser, scier, scinder, scintiller, scléroser, scolariser, scotcher, scotomiser, scratcher, scribouiller, scruter, sculpter, seconder, secouer, secourir, secréter, sectionner, segmenter, sembler, semer, semoncer, sensibiliser, sentir, seoir, seriner, seringuer, sermonner, serpenter, serrer, sertir, servir, sevrer, sexualiser, shampooiner, shampouiner, shooter, shunter, sidérer, siffler, siffloter, signaler, signaliser, signer, signifier, sillonner, simplifier, simuler, singer, singulariser, sinuer, siphonner, siroter, situer, siéger, skier, slalomer, slaviser, smasher, snober, socialiser, soigner, solder, solenniser, solidariser, solidifier, soliloquer, solliciter, solutionner, somatiser, sombrer, sommeiller, sommer, somnoler, sonder, songer, sonnailler, sonner, sonoriser, sophistiquer, sortir, soubresauter, soucier, souder, soudoyer, souffler, souffleter, souffrir, soufrer, souhaiter, souiller, soulager, soulever, souligner, soumettre, soumissionner, souper, soupeser, soupirer, soupçonner, souquer, sourciller, sourire, sous-alimenter, sous-entendre, sous-estimer, sous-exposer, sous-louer, sous-payer, sous-tendre, sous-titrer, sous-traiter, sous-évaluer, souscrire, soustraire, soutacher, soutenir, soutirer, souvenir, soûler, spiritualiser, splitter, spolier, sponsoriser, sprinter, spécialiser, spécifier, spéculer, squattériser, stabiliser, stagner, staliniser, standardiser, stationner, statuer, statufier, stigmatiser, stimuler, stipendier, stipuler, stocker, stopper, stratifier, stresser, striduler, strier, stripper, structurer, stupéfier, styliser, stériliser, stéréotyper, subdiviser, subir, subjuguer, sublimer, submerger, subodorer, subordonner, suborner, subroger, subsister, substituer, subtiliser, subvenir, subventionner, succomber, succéder, sucer, sucrer, suer, suffire, suffoquer, suggestionner, suggérer, suicider, suifer, suiffer, suinter, suivre, sulfater, sulfoner, superposer, superviser, supplanter, supplicier, supplier, suppléer, supplémenter, supporter, supposer, supprimer, suppurer, supputer, surabonder, surajouter, suralimenter, surbaisser, surcharger, surchauffer, surclasser, surcomprimer, surcouper, surdorer, surdéterminer, surenchérir, surentraîner, surestimer, surexciter, surexploiter, surexposer, surfaire, surfer, surgeler, surgeonner, surgir, suriner, surir, surmener, surmonter, surnager, surnommer, surpasser, surpayer, surplomber, surprendre, sursaturer, sursauter, surseoir, surtaxer, surveiller, survenir, survirer, survivre, survoler, survolter, surélever, suréquiper, surévaluer, susciter, suspecter, suspendre, sustenter, susurrer, suturer, suçoter, swinguer, symboliser, sympathiser, synchroniser, syncoper, syndicaliser, syndiquer, synthétiser, systématiser, sécher, sécréter, sécuriser, sédentariser, sédimenter, séduire, séjourner, sélecter, sélectionner, séparer, séquestrer, sévir, tabasser, tabler, tabuler, tacher, tacheter, tailler, taire, taler, taller, talocher, talonner, talquer, tambouriner, tamiser, tamponner, tancer, tanguer, tanner, tapager, taper, tapiner, tapir, tapisser, tapoter, taquiner, tarabiscoter, tarabuster, tarauder, tarder, tarer, targuer, tarifer, tarir, tartiner, tasser, tatillonner, tatouer, taveler, taxer, tayloriser, teiller, teindre, teinter, temporiser, tempérer, tempêter, tenailler, tendre, tenir, tenter, tercer, tergiverser, terminer, ternir, terrasser, terrer, terrifier, terrir, terroriser, tester, théoriser, thésauriser, tictaquer, tigrer, tiller, timbrer, tinter, tintinnabuler, tiquer, tirailler, tirer, tiser, tisonner, tisser, titiller, titrer, tituber, titulariser, tiédir, toaster, toiler, toiser, tolérer, tomber, tomer, tondre, tonifier, tonitruer, tonner, tonsurer, toper, toquer, torcher, torchonner, tordre, torpiller, torréfier, torsader, tortiller, torturer, toréer, totaliser, toucher, touer, touiller, tourbillonner, tourmenter, tournailler, tournebouler, tourner, tourniller, tourniquer, tournoyer, tousser, toussoter, tracasser, tracer, tracter, traduire, trafiquer, trahir, traire, traiter, tramer, trancher, tranquilliser, transbahuter, transborder, transcender, transcrire, transfigurer, transfiler, transformer, transfuser, transférer, transgresser, transhumer, transiger, transir, transistoriser, transiter, transmettre, transmigrer, transmuer, transmuter, transparaître, transpercer, transpirer, transplanter, transporter, transposer, transsuder, transvaser, traquer, traumatiser, travailler, traverser, travestir, traînailler, traîner, treillisser, trembler, tremper, tressaillir, tressauter, tresser, trianguler, tricher, tricoter, trier, trifouiller, triller, trimarder, trimbaler, trimballer, trimer, tringler, trinquer, triompher, tripatouiller, tripler, tripoter, triquer, trisser, triturer, tromper, trompeter, tronquer, tronçonner, troquer, trotter, trottiner, troubler, trouer, trousser, trouver, truander, trucider, truffer, truquer, truster, trébucher, tréfiler, trémousser, trémuler, trépaner, trépasser, trépider, trépigner, trôner, tuber, tuer, tuméfier, turbiner, turlupiner, tutoyer, tuyauter, twister, typer, tyranniser, tâcher, tâter, tâtonner, télescoper, télécommander, télédiffuser, télégraphier, téléguider, téléphoner, téléviser, témoigner, tétaniser, téter, ulcérer, ululer, unifier, uniformiser, unir, universaliser, urbaniser, uriner, user, usiner, usurper, utiliser, vacciner, vaciller, vadrouiller, vagabonder, vagir, vaguer, vaincre, valdinguer, valider, valoir, valoriser, valser, vamper, vanner, vanter, vaporiser, vaquer, varapper, varier, vasouiller, vaticiner, vautrer, veiller, veiner, velouter, vendanger, vendre, venger, venir, ventiler, ventouser, verbaliser, verdir, verdoyer, vermillonner, vernir, vernisser, verrouiller, verser, versifier, vexer, viander, vibrer, vibrionner, vicier, vidanger, vider, vieillir, vilipender, vinaigrer, viner, violacer, violer, violoner, virer, virevolter, viriliser, viser, visionner, visiter, visser, visualiser, vitrer, vitrifier, vitrioler, vitupérer, vivifier, vivoter, vivre, vocaliser, vociférer, voguer, voiler, voir, voisiner, voiturer, volatiliser, voler, voleter, volter, voltiger, vomir, voter, vouer, vouloir, voussoyer, vouvoyer, voyager, voûter, vriller, vrombir, vulcaniser, vulgariser, végéter, véhiculer, vénérer, vérifier, vêler, vêtir, yodler, zapper, zester, zieuter, zigouiller, zigzaguer, zinguer, zipper, zozoter, zyeuter, zébrer, zézayer, ânonner, ébahir, ébarber, ébattre, ébaubir, ébaucher, ébaudir, éberluer, éblouir, éborgner, ébouer, ébouillanter, ébouler, ébouriffer, ébrancher, ébranler, ébrouer, ébruiter, ébrécher, écailler, écaler, écarquiller, écarteler, écarter, échafauder, échancrer, échanger, échantillonner, échapper, écharner, écharper, échauder, échauffer, échelonner, écheveler, échiner, échouer, éclabousser, éclaircir, éclairer, éclater, éclipser, écloper, éclore, écluser, écoeurer, éconduire, économiser, écoper, écorcer, écorcher, écorner, écornifler, écosser, écouler, écourter, écouter, écouvillonner, écrabouiller, écraser, écrier, écrire, écrivailler, écrouer, écrouler, écrémer, écrêter, écuisser, éculer, écumer, écussonner, édenter, édicter, édifier, éditer, édulcorer, éduquer, égailler, égaler, égaliser, égarer, égayer, égorger, égosiller, égoutter, égrainer, égrapper, égratigner, égrener, éjaculer, éjecter, élaborer, élaguer, élancer, élargir, électrifier, électriser, électrocuter, électrolyser, élever, élimer, éliminer, élire, éloigner, élucider, élucubrer, éluder, émacier, émailler, émanciper, émaner, émarger, émasculer, émerger, émeriser, émerveiller, émettre, émietter, émigrer, émincer, émonder, émotionner, émoudre, émousser, émoustiller, émouvoir, émulsifier, émulsionner, émécher, énamourer, énerver, énoncer, énucléer, énumérer, épaissir, épancher, épandre, épanouir, épargner, éparpiller, épater, épauler, épeler, éperonner, épeurer, épicer, épier, épiler, épiloguer, épingler, éployer, éplucher, épointer, éponger, épouiller, époumoner, épouser, épousseter, époustoufler, épouvanter, éprendre, éprouver, épucer, épuiser, épurer, équarrir, équeuter, équilibrer, équiper, équivaloir, éradiquer, érafler, érailler, éreinter, ériger, éroder, érotiser, éructer, établir, étager, étaler, étalonner, étamer, étancher, étayer, éteindre, étendre, éterniser, éternuer, étinceler, étioler, étiqueter, étirer, étoffer, étoiler, étonner, étouffer, étourdir, étrangler, étreindre, étrenner, étriller, étriper, étriquer, étrécir, étudier, étuver, étêter, évacuer, évader, évaluer, évangéliser, évanouir, évaporer, évaser, éveiller, éventer, éventrer, évertuer, évider, évincer, éviscérer, éviter, évoluer, évoquer, ôter\n"
     ]
    }
   ],
   "source": [
    "print len(lexemesUG),\", \".join(lexemesUG)"
   ]
  },
  {
   "cell_type": "code",
   "execution_count": 379,
   "metadata": {},
   "outputs": [
    {
     "name": "stderr",
     "output_type": "stream",
     "text": [
      "/Users/gilles/anaconda/lib/python2.7/site-packages/ipykernel/__main__.py:1: UserWarning: This pattern has match groups. To actually get the groups, use str.extract.\n",
      "  if __name__ == '__main__':\n"
     ]
    }
   ],
   "source": [
    "dfMissing11=dfUG[dfUG[\"case\"].str.contains(\"(ai|is)[123][SP]\")].groupby(\"lexeme\").count()[[\"case\"]]"
   ]
  },
  {
   "cell_type": "code",
   "execution_count": 380,
   "metadata": {},
   "outputs": [
    {
     "name": "stdout",
     "output_type": "stream",
     "text": [
      "-X -Swim2\n"
     ]
    },
    {
     "data": {
      "text/plain": [
       "case    21826\n",
       "dtype: int64"
      ]
     },
     "execution_count": 380,
     "metadata": {},
     "output_type": "execute_result"
    }
   ],
   "source": [
    "print casesType,etapeSwim\n",
    "dfMissing11[dfMissing11[\"case\"]<12].sum()"
   ]
  }
 ],
 "metadata": {
  "kernelspec": {
   "display_name": "Python 2",
   "language": "python",
   "name": "python2"
  },
  "language_info": {
   "codemirror_mode": {
    "name": "ipython",
    "version": 2
   },
   "file_extension": ".py",
   "mimetype": "text/x-python",
   "name": "python",
   "nbconvert_exporter": "python",
   "pygments_lexer": "ipython2",
   "version": "2.7.11"
  }
 },
 "nbformat": 4,
 "nbformat_minor": 1
}
