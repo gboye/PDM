{
 "cells": [
  {
   "cell_type": "markdown",
   "metadata": {},
   "source": [
    "# Script pour manipuler un tirage et comparer des colonnes"
   ]
  },
  {
   "cell_type": "code",
   "execution_count": 65,
   "metadata": {
    "collapsed": true
   },
   "outputs": [],
   "source": [
    "# -*- coding: utf8 -*-\n",
    "import pandas as pd\n",
    "import pickle, glob\n",
    "import itertools as it\n",
    "import networkx as nx\n",
    "import numpy as np"
   ]
  },
  {
   "cell_type": "code",
   "execution_count": 2,
   "metadata": {
    "collapsed": true
   },
   "outputs": [],
   "source": [
    "def tiragesNom(nom):\n",
    "    result=[tirage for tirage in listeTirages if nom in tirage]\n",
    "    return result\n",
    "\n",
    "listeTirages=glob.glob(\"/Users/gilles/Box Sync/2015-Data/*-Tirage.pkl\")\n",
    "listeTirages200=tiragesNom(\"200Mo\")\n",
    "listeTirages20=tiragesNom(\"20Mo\")\n",
    "listeTirages1=tiragesNom(\"1Mo\")\n",
    "listeTirages50k=tiragesNom(\"50Ko\")\n",
    "listeTirages100k=tiragesNom(\"100Ko\")\n"
   ]
  },
  {
   "cell_type": "code",
   "execution_count": 3,
   "metadata": {
    "collapsed": true
   },
   "outputs": [],
   "source": [
    "def lireLexique(nomLexique):\n",
    "    with open(nomLexique, 'rb') as input:\n",
    "        lexique=pickle.load(input)\n",
    "    return lexique"
   ]
  },
  {
   "cell_type": "code",
   "execution_count": null,
   "metadata": {
    "collapsed": true
   },
   "outputs": [],
   "source": [
    "nomLexique=listeTirages100k[2]\n",
    "lexique=lireLexique(nomLexique)\n",
    "taille=lexique[lexique[\"tir1\"]>0][\"tir1\"].count()\n",
    "paradigmes=pd.pivot_table(lexique[lexique[\"tir1\"]>0], values='phono', index=['lexeme'], columns=['case'], aggfunc=lambda x: \",\".join(x)).reset_index().reindex()\n"
   ]
  },
  {
   "cell_type": "code",
   "execution_count": null,
   "metadata": {
    "collapsed": true
   },
   "outputs": [],
   "source": [
    "def compPaire(c1,c2):\n",
    "    syncretisms=[]\n",
    "    c1Val=paradigmes[c1].notnull()\n",
    "    c2Val=paradigmes[c2].notnull()\n",
    "    c1Sur=paradigmes[c1].str.contains(\",\")\n",
    "    c2Sur=paradigmes[c2].str.contains(\",\")\n",
    "    l1=len(paradigmes[paradigmes[c1].notnull()])\n",
    "    l2=len(paradigmes[paradigmes[c2].notnull()])\n",
    "    paire=paradigmes[c1Val & c2Val & (paradigmes[c1]!=paradigmes[c2])][[c1,c2]]\n",
    "    lenDiff=len(paire[~paire[c1].str.contains(\",\") & ~paire[c2].str.contains(\",\")])\n",
    "    if lenDiff>0:\n",
    "        if debug:\n",
    "            print u\"%s ≠ %s\"%(c1,c2)\n",
    "            print \"différence\",lenDiff\n",
    "            if lenDiff<12:\n",
    "                print paire\n",
    "    else:\n",
    "        surAbondant=paire[paire[c1].str.contains(\",\") | paire[c2].str.contains(\",\")]\n",
    "#            print \"--------------------------------\"\n",
    "        if len(surAbondant)==0:\n",
    "#                print u\"%s = %s\"%(c1,c2) \n",
    "            syncretisms.append(u\"%s = %s\"%(c1,c2))\n",
    "        else:\n",
    "            compatible=True\n",
    "            for index,row in surAbondant.iterrows():\n",
    "                if \",\" in row[c1]:\n",
    "                    if \",\" in row[c2]:\n",
    "                        if row[c1]!=row[c2]:\n",
    "                            compatible=False\n",
    "                    else:\n",
    "                        if not row[c2] in row[c1].split(\",\"):\n",
    "                            compatible=False\n",
    "                else:\n",
    "                    if not row[c1] in row[c2].split(\",\"):\n",
    "                        compatible=False\n",
    "            if compatible:\n",
    "#                    print u\"%s = %s\"%(c1,c2)\n",
    "                syncretisms.append(u\"%s = %s\"%(c1,c2))\n",
    "            else:\n",
    "                print u\"%s ≠ %s\"%(c1,c2)\n",
    "                print surAbondant"
   ]
  },
  {
   "cell_type": "code",
   "execution_count": null,
   "metadata": {
    "collapsed": true
   },
   "outputs": [],
   "source": [
    "def assignerTNS(row):\n",
    "    if row[-2:] in [p+n for p in [\"1\",\"2\",\"3\"] for n in [\"S\",\"P\"]]:\n",
    "        return row[:2]\n",
    "    else:\n",
    "        return \"NF\"\n",
    "\n",
    "def assignerPER(row):\n",
    "    if row[-2:] in [p+n for n in [\"S\",\"P\"] for p in [\"1\",\"2\",\"3\"] ]:\n",
    "        return row[-2:]\n",
    "    else:\n",
    "        if row==\"inf\":\n",
    "            return \"1S\"\n",
    "        elif row==\"pP\":\n",
    "            return \"2S\"\n",
    "        elif row==\"ppMS\":\n",
    "            return \"3S\"\n",
    "        elif row==\"ppMP\":\n",
    "            return \"1P\"\n",
    "        elif row==\"ppFS\":\n",
    "            return \"2P\"\n",
    "        elif row==\"ppFP\":\n",
    "            return \"3P\"\n",
    "\n",
    "lexique[\"TNS\"]=lexique[\"case\"].apply(assignerTNS)\n",
    "lexique[\"PER\"]=lexique[\"case\"].apply(assignerPER)"
   ]
  },
  {
   "cell_type": "code",
   "execution_count": null,
   "metadata": {
    "collapsed": true
   },
   "outputs": [],
   "source": [
    "lexeme=u\"être\"\n",
    "tableauTest=lexique[lexique[\"lexeme\"]==lexeme].pivot_table(values='phono', index=['lexeme','TNS'], columns=[\"PER\"], aggfunc=lambda x: \",\".join(x))\n",
    "tableauTest"
   ]
  },
  {
   "cell_type": "code",
   "execution_count": null,
   "metadata": {
    "collapsed": true
   },
   "outputs": [],
   "source": [
    "ligTable=['pi', 'ii', 'fi','pc','ps','ai','is','pI','NF']\n",
    "colTable=[p+n for n in [\"S\",\"P\"] for p in [\"1\",\"2\",\"3\"] ]\n",
    "colTuple=[(\"PER\",col) for col in colTable]\n",
    "ligTuple=[(\"TNS\",lig) for lig in ligTable]"
   ]
  },
  {
   "cell_type": "code",
   "execution_count": null,
   "metadata": {
    "collapsed": true
   },
   "outputs": [],
   "source": [
    "tableauTest=tableauTest.reindex(columns=colTable)"
   ]
  },
  {
   "cell_type": "code",
   "execution_count": null,
   "metadata": {
    "collapsed": true
   },
   "outputs": [],
   "source": [
    "idxTableau = tableauTest.sortlevel(level='TNS').index\n",
    "idxTableau=[idxTableau[i] for i in [7, 3, 2, 6, 1,4,5,0]]\n",
    "tableauTest=tableauTest.reindex(idxTableau)\n",
    "print tableauTest.to_latex().replace(\"None\",\"\")"
   ]
  },
  {
   "cell_type": "markdown",
   "metadata": {},
   "source": [
    "# Nombre de formes différentes par taille d'échantillon"
   ]
  },
  {
   "cell_type": "code",
   "execution_count": null,
   "metadata": {
    "collapsed": true
   },
   "outputs": [],
   "source": [
    "unsPoints=[]\n",
    "for tirage in listeTirages100k:\n",
    "    lexique=lireLexique(tirage)\n",
    "    tirs=lexique[lexique[\"tir1\"]>0][\"tir1\"].sum()\n",
    "    taille=lexique[lexique[\"tir1\"]>0][\"tir1\"].count()\n",
    "    unsPoints.append((tirs, taille)) "
   ]
  },
  {
   "cell_type": "code",
   "execution_count": 123,
   "metadata": {
    "collapsed": true
   },
   "outputs": [],
   "source": [
    "autresPoints=[(1000000,43563),\n",
    "              (2000000,52654),\n",
    "              (3000000,57648),\n",
    "              (4000000,60647),\n",
    "              (5000000,62926),\n",
    "              (6000000,64507),\n",
    "              (7000000,65694),\n",
    "              (8000000,66597),\n",
    "              (9000000,67395),\n",
    "              (10000000,68049),\n",
    "              (11000000,68590),\n",
    "              (12000000,69007),\n",
    "              (13000000,69382),\n",
    "              (14000000,69690),\n",
    "              (15000000,69959),\n",
    "              (16000000,70178),\n",
    "              (17000000,70379),\n",
    "              (18000000,70547),\n",
    "              (19000000,70704),\n",
    "              (20000000,70859),  \n",
    "              (200000000,74702),\n",
    "              (400000000,76076),\n",
    "              (600000000,77351),\n",
    "              (800000000,78517),\n",
    "              (1000000000,79565),\n",
    "              (1200000000,80618),\n",
    "              (1400000000,81578),\n",
    "              (1600000000,82505),\n",
    "             ]\n",
    "points=autresPoints"
   ]
  },
  {
   "cell_type": "code",
   "execution_count": 125,
   "metadata": {},
   "outputs": [
    {
     "data": {
      "text/html": [
       "<div>\n",
       "<table border=\"1\" class=\"dataframe\">\n",
       "  <thead>\n",
       "    <tr style=\"text-align: right;\">\n",
       "      <th></th>\n",
       "      <th>Number of Forms</th>\n",
       "    </tr>\n",
       "    <tr>\n",
       "      <th>Sample Size</th>\n",
       "      <th></th>\n",
       "    </tr>\n",
       "  </thead>\n",
       "  <tbody>\n",
       "    <tr>\n",
       "      <th>1000000</th>\n",
       "      <td>43563</td>\n",
       "    </tr>\n",
       "    <tr>\n",
       "      <th>2000000</th>\n",
       "      <td>52654</td>\n",
       "    </tr>\n",
       "    <tr>\n",
       "      <th>3000000</th>\n",
       "      <td>57648</td>\n",
       "    </tr>\n",
       "    <tr>\n",
       "      <th>4000000</th>\n",
       "      <td>60647</td>\n",
       "    </tr>\n",
       "    <tr>\n",
       "      <th>5000000</th>\n",
       "      <td>62926</td>\n",
       "    </tr>\n",
       "    <tr>\n",
       "      <th>6000000</th>\n",
       "      <td>64507</td>\n",
       "    </tr>\n",
       "    <tr>\n",
       "      <th>7000000</th>\n",
       "      <td>65694</td>\n",
       "    </tr>\n",
       "    <tr>\n",
       "      <th>8000000</th>\n",
       "      <td>66597</td>\n",
       "    </tr>\n",
       "    <tr>\n",
       "      <th>9000000</th>\n",
       "      <td>67395</td>\n",
       "    </tr>\n",
       "    <tr>\n",
       "      <th>10000000</th>\n",
       "      <td>68049</td>\n",
       "    </tr>\n",
       "    <tr>\n",
       "      <th>11000000</th>\n",
       "      <td>68590</td>\n",
       "    </tr>\n",
       "    <tr>\n",
       "      <th>12000000</th>\n",
       "      <td>69007</td>\n",
       "    </tr>\n",
       "    <tr>\n",
       "      <th>13000000</th>\n",
       "      <td>69382</td>\n",
       "    </tr>\n",
       "    <tr>\n",
       "      <th>14000000</th>\n",
       "      <td>69690</td>\n",
       "    </tr>\n",
       "    <tr>\n",
       "      <th>15000000</th>\n",
       "      <td>69959</td>\n",
       "    </tr>\n",
       "    <tr>\n",
       "      <th>16000000</th>\n",
       "      <td>70178</td>\n",
       "    </tr>\n",
       "    <tr>\n",
       "      <th>17000000</th>\n",
       "      <td>70379</td>\n",
       "    </tr>\n",
       "    <tr>\n",
       "      <th>18000000</th>\n",
       "      <td>70547</td>\n",
       "    </tr>\n",
       "    <tr>\n",
       "      <th>19000000</th>\n",
       "      <td>70704</td>\n",
       "    </tr>\n",
       "    <tr>\n",
       "      <th>20000000</th>\n",
       "      <td>70859</td>\n",
       "    </tr>\n",
       "    <tr>\n",
       "      <th>200000000</th>\n",
       "      <td>74702</td>\n",
       "    </tr>\n",
       "    <tr>\n",
       "      <th>400000000</th>\n",
       "      <td>76076</td>\n",
       "    </tr>\n",
       "    <tr>\n",
       "      <th>600000000</th>\n",
       "      <td>77351</td>\n",
       "    </tr>\n",
       "    <tr>\n",
       "      <th>800000000</th>\n",
       "      <td>78517</td>\n",
       "    </tr>\n",
       "    <tr>\n",
       "      <th>1000000000</th>\n",
       "      <td>79565</td>\n",
       "    </tr>\n",
       "    <tr>\n",
       "      <th>1200000000</th>\n",
       "      <td>80618</td>\n",
       "    </tr>\n",
       "    <tr>\n",
       "      <th>1400000000</th>\n",
       "      <td>81578</td>\n",
       "    </tr>\n",
       "    <tr>\n",
       "      <th>1600000000</th>\n",
       "      <td>82505</td>\n",
       "    </tr>\n",
       "  </tbody>\n",
       "</table>\n",
       "</div>"
      ],
      "text/plain": [
       "             Number of Forms\n",
       "Sample Size                 \n",
       "1000000                43563\n",
       "2000000                52654\n",
       "3000000                57648\n",
       "4000000                60647\n",
       "5000000                62926\n",
       "6000000                64507\n",
       "7000000                65694\n",
       "8000000                66597\n",
       "9000000                67395\n",
       "10000000               68049\n",
       "11000000               68590\n",
       "12000000               69007\n",
       "13000000               69382\n",
       "14000000               69690\n",
       "15000000               69959\n",
       "16000000               70178\n",
       "17000000               70379\n",
       "18000000               70547\n",
       "19000000               70704\n",
       "20000000               70859\n",
       "200000000              74702\n",
       "400000000              76076\n",
       "600000000              77351\n",
       "800000000              78517\n",
       "1000000000             79565\n",
       "1200000000             80618\n",
       "1400000000             81578\n",
       "1600000000             82505"
      ]
     },
     "execution_count": 125,
     "metadata": {},
     "output_type": "execute_result"
    }
   ],
   "source": [
    "pdPoints=pd.DataFrame(points)\n",
    "pdPoints.columns=[\"Sample Size\", \"Number of Forms\"]\n",
    "pdPoints.set_index(\"Sample Size\",inplace=True)\n",
    "xPoints=list(pdPoints.index)\n",
    "pdPoints"
   ]
  },
  {
   "cell_type": "code",
   "execution_count": 136,
   "metadata": {},
   "outputs": [
    {
     "name": "stdout",
     "output_type": "stream",
     "text": [
      "Using matplotlib backend: MacOSX\n"
     ]
    }
   ],
   "source": [
    "%matplotlib"
   ]
  },
  {
   "cell_type": "code",
   "execution_count": 49,
   "metadata": {},
   "outputs": [
    {
     "data": {
      "text/plain": [
       "<matplotlib.axes._subplots.AxesSubplot at 0x12eaa4750>"
      ]
     },
     "execution_count": 49,
     "metadata": {},
     "output_type": "execute_result"
    }
   ],
   "source": [
    "#pdPoints.plot(ylim=(0,300000))\n",
    "pdPoints.plot(linewidth=5,marker=\"o\",markersize=10,xlim=(0,2000e6))"
   ]
  },
  {
   "cell_type": "markdown",
   "metadata": {},
   "source": [
    "# Nombre de lexèmes par nombre de formes par taille d'échantillon"
   ]
  },
  {
   "cell_type": "code",
   "execution_count": 6,
   "metadata": {
    "collapsed": true
   },
   "outputs": [],
   "source": [
    "distributions=[]\n",
    "for nTirage,tirage in enumerate(listeTirages200):\n",
    "    lexique=lireLexique(tirage)\n",
    "    lexique1=lexique[lexique[\"tir1\"]>0]\n",
    "    nbFormes=lexique1.groupby(by=[\"lexeme\"])[[\"phono\"]].count()\n",
    "    nbFormes.columns=[\"Number of Forms\"]\n",
    "    distNbFormes=nbFormes.groupby(by=[\"Number of Forms\"])[[\"Number of Forms\"]].count()\n",
    "    distNbFormes.columns=[\"Number of lexemes\"]\n",
    "    distributions.append(distNbFormes)\n",
    "    if nTirage//5==0:\n",
    "        distNbFormes.plot(kind=\"bar\",figsize=(20,10),ylim=(0,1000))"
   ]
  },
  {
   "cell_type": "markdown",
   "metadata": {},
   "source": [
    "# Calculs sur les tirages de 200Mo cumulés"
   ]
  },
  {
   "cell_type": "code",
   "execution_count": 37,
   "metadata": {},
   "outputs": [
    {
     "name": "stdout",
     "output_type": "stream",
     "text": [
      "(200000000,74702),\n",
      "(400000000,76076),\n",
      "(600000000,77351),\n",
      "(800000000,78517),\n",
      "(1000000000,79565),\n",
      "(1200000000,80618),\n",
      "(1400000000,81578),\n",
      "(1600000000,82505),\n"
     ]
    }
   ],
   "source": [
    "listeLexiques=listeTirages200\n",
    "cumulLexique=lireLexique(listeLexiques[0])\n",
    "cumulLexique[\"tir1\"]=0\n",
    "for nTirage,tirage in enumerate(listeLexiques):\n",
    "#    print nTirage,\n",
    "    lexique=lireLexique(tirage)\n",
    "    cumulLexique[\"tir1\"]=cumulLexique[\"tir1\"]+lexique[\"tir1\"]\n",
    "    lexique1=cumulLexique[cumulLexique[\"tir1\"]>0]\n",
    "    nbTokens=lexique1[\"tir1\"].sum()\n",
    "    nbTypes=lexique1[\"tir1\"].count()\n",
    "    print \"(%d,%d),\"%(nbTokens,nbTypes)\n",
    "    nbCases=lexique1.groupby(by=[\"lexeme\",\"case\"],as_index=False).agg({\"tir1\":sum})\n",
    "    nbFormes=nbCases.groupby(by=[\"lexeme\"])[[\"case\"]].count()\n",
    "    nbFormes.columns=[\"Number of Forms\"]\n",
    "    distNbFormes=nbFormes.groupby(by=[\"Number of Forms\"])[[\"Number of Forms\"]].count()\n",
    "    distNbFormes.columns=[\"Number of lexemes\"]\n",
    "    distributions.append(distNbFormes)\n",
    "    if nTirage%1==5:\n",
    "        distNbFormes.plot(kind=\"bar\",figsize=(20,10),ylim=(0,1000))    "
   ]
  },
  {
   "cell_type": "code",
   "execution_count": 144,
   "metadata": {},
   "outputs": [],
   "source": [
    "for n in [int(1e6*k) for k in range(1,1600)]:\n",
    "    if not n in pdPoints.index:\n",
    "        pdPoints.loc[n]=np.NaN\n",
    "pdPoints.sort_index(inplace=True)\n",
    "pdPoints.interpolate(method=\"slinear\", order=4, inplace=True)\n",
    "derivativeNb=pdPoints.diff().reset_index()\n",
    "derivativeNb.set_index(\"Sample Size\",inplace=True)"
   ]
  },
  {
   "cell_type": "code",
   "execution_count": 130,
   "metadata": {},
   "outputs": [],
   "source": [
    "funcDerivativeNb=derivativeNb[derivativeNb[\"Sample Size\"].isin(xPoints)]\n",
    "funcDerivativeNb.set_index(\"Sample Size\",inplace=True)"
   ]
  },
  {
   "cell_type": "code",
   "execution_count": 149,
   "metadata": {},
   "outputs": [
    {
     "data": {
      "text/plain": [
       "<matplotlib.axes._subplots.AxesSubplot at 0x128ec3210>"
      ]
     },
     "execution_count": 149,
     "metadata": {},
     "output_type": "execute_result"
    }
   ],
   "source": [
    "funcDerivativeNb.ix[\"150000000\":].plot()"
   ]
  },
  {
   "cell_type": "code",
   "execution_count": 141,
   "metadata": {},
   "outputs": [
    {
     "data": {
      "text/html": [
       "<div>\n",
       "<table border=\"1\" class=\"dataframe\">\n",
       "  <thead>\n",
       "    <tr style=\"text-align: right;\">\n",
       "      <th></th>\n",
       "      <th>Number of Forms</th>\n",
       "    </tr>\n",
       "    <tr>\n",
       "      <th>Sample Size</th>\n",
       "      <th></th>\n",
       "    </tr>\n",
       "  </thead>\n",
       "  <tbody>\n",
       "    <tr>\n",
       "      <th>1000000</th>\n",
       "      <td>NaN</td>\n",
       "    </tr>\n",
       "    <tr>\n",
       "      <th>2000000</th>\n",
       "      <td>9091.000</td>\n",
       "    </tr>\n",
       "    <tr>\n",
       "      <th>3000000</th>\n",
       "      <td>4994.000</td>\n",
       "    </tr>\n",
       "    <tr>\n",
       "      <th>4000000</th>\n",
       "      <td>2999.000</td>\n",
       "    </tr>\n",
       "    <tr>\n",
       "      <th>5000000</th>\n",
       "      <td>2279.000</td>\n",
       "    </tr>\n",
       "    <tr>\n",
       "      <th>6000000</th>\n",
       "      <td>1581.000</td>\n",
       "    </tr>\n",
       "    <tr>\n",
       "      <th>7000000</th>\n",
       "      <td>1187.000</td>\n",
       "    </tr>\n",
       "    <tr>\n",
       "      <th>8000000</th>\n",
       "      <td>903.000</td>\n",
       "    </tr>\n",
       "    <tr>\n",
       "      <th>9000000</th>\n",
       "      <td>798.000</td>\n",
       "    </tr>\n",
       "    <tr>\n",
       "      <th>10000000</th>\n",
       "      <td>654.000</td>\n",
       "    </tr>\n",
       "    <tr>\n",
       "      <th>11000000</th>\n",
       "      <td>541.000</td>\n",
       "    </tr>\n",
       "    <tr>\n",
       "      <th>12000000</th>\n",
       "      <td>417.000</td>\n",
       "    </tr>\n",
       "    <tr>\n",
       "      <th>13000000</th>\n",
       "      <td>375.000</td>\n",
       "    </tr>\n",
       "    <tr>\n",
       "      <th>14000000</th>\n",
       "      <td>308.000</td>\n",
       "    </tr>\n",
       "    <tr>\n",
       "      <th>15000000</th>\n",
       "      <td>269.000</td>\n",
       "    </tr>\n",
       "    <tr>\n",
       "      <th>16000000</th>\n",
       "      <td>219.000</td>\n",
       "    </tr>\n",
       "    <tr>\n",
       "      <th>17000000</th>\n",
       "      <td>201.000</td>\n",
       "    </tr>\n",
       "    <tr>\n",
       "      <th>18000000</th>\n",
       "      <td>168.000</td>\n",
       "    </tr>\n",
       "    <tr>\n",
       "      <th>19000000</th>\n",
       "      <td>157.000</td>\n",
       "    </tr>\n",
       "    <tr>\n",
       "      <th>20000000</th>\n",
       "      <td>155.000</td>\n",
       "    </tr>\n",
       "    <tr>\n",
       "      <th>200000000</th>\n",
       "      <td>21.350</td>\n",
       "    </tr>\n",
       "    <tr>\n",
       "      <th>400000000</th>\n",
       "      <td>6.870</td>\n",
       "    </tr>\n",
       "    <tr>\n",
       "      <th>600000000</th>\n",
       "      <td>6.375</td>\n",
       "    </tr>\n",
       "    <tr>\n",
       "      <th>800000000</th>\n",
       "      <td>5.830</td>\n",
       "    </tr>\n",
       "    <tr>\n",
       "      <th>1000000000</th>\n",
       "      <td>5.240</td>\n",
       "    </tr>\n",
       "    <tr>\n",
       "      <th>1200000000</th>\n",
       "      <td>5.265</td>\n",
       "    </tr>\n",
       "    <tr>\n",
       "      <th>1400000000</th>\n",
       "      <td>4.800</td>\n",
       "    </tr>\n",
       "    <tr>\n",
       "      <th>1600000000</th>\n",
       "      <td>4.635</td>\n",
       "    </tr>\n",
       "  </tbody>\n",
       "</table>\n",
       "</div>"
      ],
      "text/plain": [
       "             Number of Forms\n",
       "Sample Size                 \n",
       "1000000                  NaN\n",
       "2000000             9091.000\n",
       "3000000             4994.000\n",
       "4000000             2999.000\n",
       "5000000             2279.000\n",
       "6000000             1581.000\n",
       "7000000             1187.000\n",
       "8000000              903.000\n",
       "9000000              798.000\n",
       "10000000             654.000\n",
       "11000000             541.000\n",
       "12000000             417.000\n",
       "13000000             375.000\n",
       "14000000             308.000\n",
       "15000000             269.000\n",
       "16000000             219.000\n",
       "17000000             201.000\n",
       "18000000             168.000\n",
       "19000000             157.000\n",
       "20000000             155.000\n",
       "200000000             21.350\n",
       "400000000              6.870\n",
       "600000000              6.375\n",
       "800000000              5.830\n",
       "1000000000             5.240\n",
       "1200000000             5.265\n",
       "1400000000             4.800\n",
       "1600000000             4.635"
      ]
     },
     "execution_count": 141,
     "metadata": {},
     "output_type": "execute_result"
    }
   ],
   "source": [
    "funcDerivativeNb"
   ]
  }
 ],
 "metadata": {
  "kernelspec": {
   "display_name": "Python 2",
   "language": "python",
   "name": "python2"
  },
  "language_info": {
   "codemirror_mode": {
    "name": "ipython",
    "version": 2
   },
   "file_extension": ".py",
   "mimetype": "text/x-python",
   "name": "python",
   "nbconvert_exporter": "python",
   "pygments_lexer": "ipython2",
   "version": "2.7.11"
  }
 },
 "nbformat": 4,
 "nbformat_minor": 1
}
