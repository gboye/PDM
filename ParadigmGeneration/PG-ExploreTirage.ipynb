{
 "cells": [
  {
   "cell_type": "markdown",
   "metadata": {},
   "source": [
    "# Script pour manipuler un tirage et comparer des colonnes"
   ]
  },
  {
   "cell_type": "code",
   "execution_count": 2,
   "metadata": {
    "collapsed": true
   },
   "outputs": [],
   "source": [
    "# -*- coding: utf8 -*-\n",
    "import pandas as pd\n",
    "import pickle, glob\n",
    "import itertools as it\n",
    "import networkx as nx\n",
    "import numpy as np"
   ]
  },
  {
   "cell_type": "code",
   "execution_count": 13,
   "metadata": {},
   "outputs": [
    {
     "name": "stdout",
     "output_type": "stream",
     "text": [
      "Using matplotlib backend: MacOSX\n"
     ]
    }
   ],
   "source": [
    "%matplotlib"
   ]
  },
  {
   "cell_type": "code",
   "execution_count": 3,
   "metadata": {
    "collapsed": true
   },
   "outputs": [],
   "source": [
    "phonologicalMap=\"-S\""
   ]
  },
  {
   "cell_type": "code",
   "execution_count": 57,
   "metadata": {},
   "outputs": [
    {
     "data": {
      "text/plain": [
       "['/Users/gilles/Box Sync/2015-Data/MGC-160628-0-200Mo-Tirage-Morphomes.pkl',\n",
       " '/Users/gilles/Box Sync/2015-Data/MGC-160628-0-200Mo-Tirage-S-170502-1511-Morphomes.pkl',\n",
       " '/Users/gilles/Box Sync/2015-Data/MGC-160716-0-200Mo-Tirage-Morphomes.pkl',\n",
       " '/Users/gilles/Box Sync/2015-Data/MGC-160716-1-200Mo-Tirage-Morphomes.pkl',\n",
       " '/Users/gilles/Box Sync/2015-Data/MGC-160716-2-200Mo-Tirage-Morphomes.pkl',\n",
       " '/Users/gilles/Box Sync/2015-Data/MGC-160717-0-200Mo-Tirage-Morphomes.pkl',\n",
       " '/Users/gilles/Box Sync/2015-Data/MGC-160718-0-200Mo-Tirage-Morphomes.pkl',\n",
       " '/Users/gilles/Box Sync/2015-Data/MGC-160719-0-200Mo-Tirage-Morphomes.pkl',\n",
       " '/Users/gilles/Box Sync/2015-Data/MGC-160720-0-200Mo-Tirage-Morphomes.pkl']"
      ]
     },
     "execution_count": 57,
     "metadata": {},
     "output_type": "execute_result"
    }
   ],
   "source": [
    "def tiragesNom(nom):\n",
    "    result=[tirage for tirage in listeTirages if \"-\"+nom in tirage]\n",
    "    return result\n",
    "\n",
    "def tiragesNomMorphomes(nom):\n",
    "    result=[tirage for tirage in listeTiragesMorphomes if \"-\"+nom in tirage]\n",
    "    return result\n",
    "    \n",
    "\n",
    "listeTirages=glob.glob(\"/Users/gilles/Box Sync/2015-Data/*-Tirage.pkl\")\n",
    "listeTirages200Mo=tiragesNom(\"200Mo\")\n",
    "listeTirages20=tiragesNom(\"20Mo\")\n",
    "listeTirages1=tiragesNom(\"1Mo\")\n",
    "listeTirages50k=tiragesNom(\"50Ko\")\n",
    "listeTirages100k=tiragesNom(\"100Ko\")\n",
    "listeTirages20000k=tiragesNom(\"20000Ko\")\n",
    "listeTiragesMorphomes=glob.glob(\"/Users/gilles/Box Sync/2015-Data/*-Tirage-*Morphomes.pkl\")\n",
    "listeTiragesMorphomes200Mo=tiragesNomMorphomes(\"200Mo\")\n",
    "listeTiragesMorphomes20=tiragesNomMorphomes(\"20Mo\")\n",
    "listeTiragesMorphomes1=tiragesNomMorphomes(\"1Mo\")\n",
    "listeTiragesMorphomes50k=tiragesNomMorphomes(\"50Ko\")\n",
    "listeTiragesMorphomes100k=tiragesNomMorphomes(\"100Ko\")\n",
    "listeTiragesMorphomes20000k=tiragesNomMorphomes(\"20000Ko\")\n",
    "listeTiragesMorphomes200Mo"
   ]
  },
  {
   "cell_type": "code",
   "execution_count": 5,
   "metadata": {
    "collapsed": true
   },
   "outputs": [],
   "source": [
    "def lireLexique(nomLexique):\n",
    "    try:\n",
    "        with open(nomLexique, 'rb') as input:\n",
    "            lexique=pickle.load(input)\n",
    "    except:\n",
    "        lexique=None\n",
    "    return lexique"
   ]
  },
  {
   "cell_type": "code",
   "execution_count": 6,
   "metadata": {
    "collapsed": true
   },
   "outputs": [],
   "source": [
    "nomLexique=listeTirages1[0]\n",
    "lexique=lireLexique(nomLexique)\n",
    "lexique1=lexique[lexique[\"tir1\"]>0]\n",
    "taille=lexique[lexique[\"tir1\"]>0][\"tir1\"].count()\n",
    "paradigmes=pd.pivot_table(lexique[lexique[\"tir1\"]>0], values='phono', index=['lexeme'], columns=['case'], aggfunc=lambda x: \",\".join(x)).reset_index().reindex()\n"
   ]
  },
  {
   "cell_type": "code",
   "execution_count": 7,
   "metadata": {
    "collapsed": true
   },
   "outputs": [],
   "source": [
    "def compPaire(c1,c2):\n",
    "    syncretisms=[]\n",
    "    c1Val=paradigmes[c1].notnull()\n",
    "    c2Val=paradigmes[c2].notnull()\n",
    "    c1Sur=paradigmes[c1].str.contains(\",\")\n",
    "    c2Sur=paradigmes[c2].str.contains(\",\")\n",
    "    l1=len(paradigmes[paradigmes[c1].notnull()])\n",
    "    l2=len(paradigmes[paradigmes[c2].notnull()])\n",
    "    paire=paradigmes[c1Val & c2Val & (paradigmes[c1]!=paradigmes[c2])][[c1,c2]]\n",
    "    lenDiff=len(paire[~paire[c1].str.contains(\",\") & ~paire[c2].str.contains(\",\")])\n",
    "    if lenDiff>0:\n",
    "        if debug:\n",
    "            print u\"%s ≠ %s\"%(c1,c2)\n",
    "            print \"différence\",lenDiff\n",
    "            if lenDiff<12:\n",
    "                print paire\n",
    "    else:\n",
    "        surAbondant=paire[paire[c1].str.contains(\",\") | paire[c2].str.contains(\",\")]\n",
    "#            print \"--------------------------------\"\n",
    "        if len(surAbondant)==0:\n",
    "#                print u\"%s = %s\"%(c1,c2) \n",
    "            syncretisms.append(u\"%s = %s\"%(c1,c2))\n",
    "        else:\n",
    "            compatible=True\n",
    "            for index,row in surAbondant.iterrows():\n",
    "                if \",\" in row[c1]:\n",
    "                    if \",\" in row[c2]:\n",
    "                        if row[c1]!=row[c2]:\n",
    "                            compatible=False\n",
    "                    else:\n",
    "                        if not row[c2] in row[c1].split(\",\"):\n",
    "                            compatible=False\n",
    "                else:\n",
    "                    if not row[c1] in row[c2].split(\",\"):\n",
    "                        compatible=False\n",
    "            if compatible:\n",
    "#                    print u\"%s = %s\"%(c1,c2)\n",
    "                syncretisms.append(u\"%s = %s\"%(c1,c2))\n",
    "            else:\n",
    "                print u\"%s ≠ %s\"%(c1,c2)\n",
    "                print surAbondant"
   ]
  },
  {
   "cell_type": "code",
   "execution_count": 8,
   "metadata": {
    "collapsed": true
   },
   "outputs": [],
   "source": [
    "def assignerTNS(row):\n",
    "    if row[-2:] in [p+n for p in [\"1\",\"2\",\"3\"] for n in [\"S\",\"P\"]]:\n",
    "        return row[:2]\n",
    "    else:\n",
    "        return \"NF\"\n",
    "\n",
    "def assignerPER(row):\n",
    "    if row[-2:] in [p+n for n in [\"S\",\"P\"] for p in [\"1\",\"2\",\"3\"] ]:\n",
    "        return row[-2:]\n",
    "    else:\n",
    "        if row==\"inf\":\n",
    "            return \"1S\"\n",
    "        elif row==\"pP\":\n",
    "            return \"2S\"\n",
    "        elif row==\"ppMS\":\n",
    "            return \"3S\"\n",
    "        elif row==\"ppMP\":\n",
    "            return \"1P\"\n",
    "        elif row==\"ppFS\":\n",
    "            return \"2P\"\n",
    "        elif row==\"ppFP\":\n",
    "            return \"3P\"\n",
    "\n",
    "lexique[\"TNS\"]=lexique[\"case\"].apply(assignerTNS)\n",
    "lexique[\"PER\"]=lexique[\"case\"].apply(assignerPER)"
   ]
  },
  {
   "cell_type": "code",
   "execution_count": 9,
   "metadata": {},
   "outputs": [
    {
     "data": {
      "text/html": [
       "<div>\n",
       "<table border=\"1\" class=\"dataframe\">\n",
       "  <thead>\n",
       "    <tr style=\"text-align: right;\">\n",
       "      <th></th>\n",
       "      <th>PER</th>\n",
       "      <th>1P</th>\n",
       "      <th>1S</th>\n",
       "      <th>2P</th>\n",
       "      <th>2S</th>\n",
       "      <th>3P</th>\n",
       "      <th>3S</th>\n",
       "    </tr>\n",
       "    <tr>\n",
       "      <th>lexeme</th>\n",
       "      <th>TNS</th>\n",
       "      <th></th>\n",
       "      <th></th>\n",
       "      <th></th>\n",
       "      <th></th>\n",
       "      <th></th>\n",
       "      <th></th>\n",
       "    </tr>\n",
       "  </thead>\n",
       "  <tbody>\n",
       "    <tr>\n",
       "      <th rowspan=\"9\" valign=\"top\">être</th>\n",
       "      <th>NF</th>\n",
       "      <td>None</td>\n",
       "      <td>Etr</td>\n",
       "      <td>None</td>\n",
       "      <td>Etâ</td>\n",
       "      <td>None</td>\n",
       "      <td>Ete</td>\n",
       "    </tr>\n",
       "    <tr>\n",
       "      <th>ai</th>\n",
       "      <td>fym</td>\n",
       "      <td>fy</td>\n",
       "      <td>fyt</td>\n",
       "      <td>fy</td>\n",
       "      <td>fyr</td>\n",
       "      <td>fy</td>\n",
       "    </tr>\n",
       "    <tr>\n",
       "      <th>fi</th>\n",
       "      <td>s6rô</td>\n",
       "      <td>s6rE</td>\n",
       "      <td>s6re</td>\n",
       "      <td>s6ra</td>\n",
       "      <td>s6rô</td>\n",
       "      <td>s6ra</td>\n",
       "    </tr>\n",
       "    <tr>\n",
       "      <th>ii</th>\n",
       "      <td>Etjô</td>\n",
       "      <td>EtE</td>\n",
       "      <td>Etje</td>\n",
       "      <td>EtE</td>\n",
       "      <td>EtE</td>\n",
       "      <td>EtE</td>\n",
       "    </tr>\n",
       "    <tr>\n",
       "      <th>is</th>\n",
       "      <td>fysjô</td>\n",
       "      <td>fys</td>\n",
       "      <td>fysje</td>\n",
       "      <td>fys</td>\n",
       "      <td>fys</td>\n",
       "      <td>fy</td>\n",
       "    </tr>\n",
       "    <tr>\n",
       "      <th>pI</th>\n",
       "      <td>swajô</td>\n",
       "      <td>None</td>\n",
       "      <td>swaje</td>\n",
       "      <td>swa</td>\n",
       "      <td>None</td>\n",
       "      <td>None</td>\n",
       "    </tr>\n",
       "    <tr>\n",
       "      <th>pc</th>\n",
       "      <td>s6rjô</td>\n",
       "      <td>s6rE</td>\n",
       "      <td>s6rje</td>\n",
       "      <td>s6rE</td>\n",
       "      <td>s6rE</td>\n",
       "      <td>s6rE</td>\n",
       "    </tr>\n",
       "    <tr>\n",
       "      <th>pi</th>\n",
       "      <td>sOm</td>\n",
       "      <td>sHi</td>\n",
       "      <td>Et</td>\n",
       "      <td>E</td>\n",
       "      <td>sô</td>\n",
       "      <td>E</td>\n",
       "    </tr>\n",
       "    <tr>\n",
       "      <th>ps</th>\n",
       "      <td>swajô</td>\n",
       "      <td>swa</td>\n",
       "      <td>swaje</td>\n",
       "      <td>swa</td>\n",
       "      <td>swa</td>\n",
       "      <td>swa</td>\n",
       "    </tr>\n",
       "  </tbody>\n",
       "</table>\n",
       "</div>"
      ],
      "text/plain": [
       "PER            1P    1S     2P    2S    3P    3S\n",
       "lexeme TNS                                      \n",
       "être   NF    None   Etr   None   Etâ  None   Ete\n",
       "       ai     fym    fy    fyt    fy   fyr    fy\n",
       "       fi    s6rô  s6rE   s6re  s6ra  s6rô  s6ra\n",
       "       ii    Etjô   EtE   Etje   EtE   EtE   EtE\n",
       "       is   fysjô   fys  fysje   fys   fys    fy\n",
       "       pI   swajô  None  swaje   swa  None  None\n",
       "       pc   s6rjô  s6rE  s6rje  s6rE  s6rE  s6rE\n",
       "       pi     sOm   sHi     Et     E    sô     E\n",
       "       ps   swajô   swa  swaje   swa   swa   swa"
      ]
     },
     "execution_count": 9,
     "metadata": {},
     "output_type": "execute_result"
    }
   ],
   "source": [
    "lexeme=u\"être\"\n",
    "tableauTest=lexique[lexique[\"lexeme\"]==lexeme].pivot_table(values='phono', index=['lexeme','TNS'], columns=[\"PER\"], aggfunc=lambda x: \",\".join(x))\n",
    "tableauTest"
   ]
  },
  {
   "cell_type": "code",
   "execution_count": 10,
   "metadata": {
    "collapsed": true
   },
   "outputs": [],
   "source": [
    "ligTable=['pi', 'ii', 'fi','pc','ps','ai','is','pI','NF']\n",
    "colTable=[p+n for n in [\"S\",\"P\"] for p in [\"1\",\"2\",\"3\"] ]\n",
    "colTuple=[(\"PER\",col) for col in colTable]\n",
    "ligTuple=[(\"TNS\",lig) for lig in ligTable]"
   ]
  },
  {
   "cell_type": "code",
   "execution_count": 11,
   "metadata": {
    "collapsed": true
   },
   "outputs": [],
   "source": [
    "tableauTest=tableauTest.reindex(columns=colTable)"
   ]
  },
  {
   "cell_type": "code",
   "execution_count": 12,
   "metadata": {},
   "outputs": [
    {
     "name": "stdout",
     "output_type": "stream",
     "text": [
      "\\begin{tabular}{llllllll}\n",
      "\\toprule\n",
      "     &    &    1S &    2S &    3S &     1P &     2P &    3P \\\\\n",
      "lexeme & TNS &       &       &       &        &        &       \\\\\n",
      "\\midrule\n",
      "être & pi &   sHi &     E &     E &    sOm &     Et &    sô \\\\\n",
      "     & ii &   EtE &   EtE &   EtE &   Etjô &   Etje &   EtE \\\\\n",
      "     & fi &  s6rE &  s6ra &  s6ra &   s6rô &   s6re &  s6rô \\\\\n",
      "     & pc &  s6rE &  s6rE &  s6rE &  s6rjô &  s6rje &  s6rE \\\\\n",
      "     & ai &    fy &    fy &    fy &    fym &    fyt &   fyr \\\\\n",
      "     & is &   fys &   fys &    fy &  fysjô &  fysje &   fys \\\\\n",
      "     & pI &   &   swa &   &  swajô &  swaje &   \\\\\n",
      "     & NF &   Etr &   Etâ &   Ete &    &    &   \\\\\n",
      "\\bottomrule\n",
      "\\end{tabular}\n",
      "\n"
     ]
    }
   ],
   "source": [
    "idxTableau = tableauTest.sortlevel(level='TNS').index\n",
    "idxTableau=[idxTableau[i] for i in [7, 3, 2, 6, 1,4,5,0]]\n",
    "tableauTest=tableauTest.reindex(idxTableau)\n",
    "print tableauTest.to_latex().replace(\"None\",\"\")"
   ]
  },
  {
   "cell_type": "markdown",
   "metadata": {},
   "source": [
    "# Nombre de formes différentes par taille d'échantillon"
   ]
  },
  {
   "cell_type": "code",
   "execution_count": null,
   "metadata": {
    "collapsed": true
   },
   "outputs": [],
   "source": [
    "unsPoints=[]\n",
    "for tirage in listeTirages100k:\n",
    "    lexique=lireLexique(tirage)\n",
    "    tirs=lexique[lexique[\"tir1\"]>0][\"tir1\"].sum()\n",
    "    taille=lexique[lexique[\"tir1\"]>0][\"tir1\"].count()\n",
    "    unsPoints.append((tirs, taille)) "
   ]
  },
  {
   "cell_type": "code",
   "execution_count": null,
   "metadata": {
    "collapsed": true
   },
   "outputs": [],
   "source": [
    "autresPoints=[(1000000,43563),\n",
    "              (2000000,52654),\n",
    "              (3000000,57648),\n",
    "              (4000000,60647),\n",
    "              (5000000,62926),\n",
    "              (6000000,64507),\n",
    "              (7000000,65694),\n",
    "              (8000000,66597),\n",
    "              (9000000,67395),\n",
    "              (10000000,68049),\n",
    "              (11000000,68590),\n",
    "              (12000000,69007),\n",
    "              (13000000,69382),\n",
    "              (14000000,69690),\n",
    "              (15000000,69959),\n",
    "              (16000000,70178),\n",
    "              (17000000,70379),\n",
    "              (18000000,70547),\n",
    "              (19000000,70704),\n",
    "              (20000000,70859),  \n",
    "              (200000000,74702),\n",
    "              (400000000,76076),\n",
    "              (600000000,77351),\n",
    "              (800000000,78517),\n",
    "              (1000000000,79565),\n",
    "              (1200000000,80618),\n",
    "              (1400000000,81578),\n",
    "              (1600000000,82505),\n",
    "             ]\n",
    "points=autresPoints"
   ]
  },
  {
   "cell_type": "code",
   "execution_count": null,
   "metadata": {
    "collapsed": true
   },
   "outputs": [],
   "source": [
    "pdPoints=pd.DataFrame(points)\n",
    "pdPoints.columns=[\"Sample Size\", \"Number of Forms\"]\n",
    "pdPoints.set_index(\"Sample Size\",inplace=True)\n",
    "xPoints=list(pdPoints.index)\n",
    "pdPoints"
   ]
  },
  {
   "cell_type": "code",
   "execution_count": null,
   "metadata": {
    "collapsed": true
   },
   "outputs": [],
   "source": [
    "#pdPoints.plot(ylim=(0,300000))\n",
    "pdPoints.plot(linewidth=5,marker=\"o\",markersize=10,xlim=(0,2000e6))"
   ]
  },
  {
   "cell_type": "markdown",
   "metadata": {},
   "source": [
    "# Nombre de lexèmes par nombre de formes par taille d'échantillon\n",
    "- nom du fichier échantillon => tirage\n",
    "- tirage de l'échantillon => lexique\n",
    "- formes tirées de l'échantillon => lexique1\n",
    "- cases tirées de l'échantillon => nbCases\n",
    "- nombre de token dans le tirage =>nbTokens\n",
    "- distribution du nombre de lexème par nombre de forme => distNbFormes\n",
    "- liste des distributions => distributions\n"
   ]
  },
  {
   "cell_type": "code",
   "execution_count": 14,
   "metadata": {
    "collapsed": true
   },
   "outputs": [],
   "source": [
    "lexiquePrefix=\"MGC-160104\"\n",
    "\n",
    "with open(\"/Users/gilles/Box Sync/2015-Data/MGC-Vienna/\"+lexiquePrefix+'-Verbes2-NbForms.pkl', 'rb') as input:\n",
    "    dictNbFormes = pickle.load(input)\n",
    "with open(\"/Users/gilles/Box Sync/2015-Data/MGC-Vienna/\"+lexiquePrefix+'-Verbes2%s-Morphomes-NbForms.pkl'%phonologicalMap, 'rb') as input:\n",
    "    dictNbFormesMorphomiques = pickle.load(input)"
   ]
  },
  {
   "cell_type": "code",
   "execution_count": 62,
   "metadata": {
    "collapsed": true
   },
   "outputs": [],
   "source": [
    "def nbMax(row):\n",
    "    \n",
    "    if brut:\n",
    "        dictNb=dictNbFormes\n",
    "    else:\n",
    "        dictNb=dictNbFormesMorphomiques\n",
    "        \n",
    "    if dictNb[row[\"lexeme\"]]==row[\"Number of Forms\"]:\n",
    "        return True\n",
    "    else:\n",
    "        return False\n",
    "\n",
    "def nbFull(row):\n",
    "    \n",
    "    if brut:\n",
    "        dictNb=dictNbFormes\n",
    "        if dictNb[row[\"lexeme\"]]==row[\"Number of Forms\"] and row[\"Number of Forms\"] in listeNbCasesMax:\n",
    "            return True\n",
    "        else:\n",
    "            return False\n",
    "    else:\n",
    "        dictNb=dictNbFormesMorphomiques\n",
    "        lexMax=dictNb[row[\"lexeme\"]]\n",
    "        if lexMax==31:\n",
    "            if row[\"Number of Forms\"]==min(listeNbCasesMax):\n",
    "                return True\n",
    "            elif row[\"Number of Forms\"]>min(listeNbCasesMax):\n",
    "                print row[\"lexeme\"],\"pb avec le nb de formes\",row[\"Number of Forms\"],\"lexMax =\",lexMax\n",
    "                return False\n",
    "            else:\n",
    "                return False\n",
    "        elif lexMax==32:\n",
    "            if row[\"Number of Forms\"]==max(listeNbCasesMax):\n",
    "                return True\n",
    "            elif row[\"Number of Forms\"]>max(listeNbCasesMax):\n",
    "                print row[\"lexeme\"],\"pb avec le nb de formes\",row[\"Number of Forms\"],\"lexMax =\",lexMax\n",
    "                return False\n",
    "            else:\n",
    "                return False\n",
    "        else:\n",
    "            return False"
   ]
  },
  {
   "cell_type": "code",
   "execution_count": 64,
   "metadata": {
    "scrolled": false
   },
   "outputs": [
    {
     "name": "stdout",
     "output_type": "stream",
     "text": [
      "[30, 30]\n",
      "/Users/gilles/Box Sync/2015-Data/MGC-170430-00-20000Ko-Tirage-S-170503-1907-Morphomes.pkl\n",
      "1,000,000\n",
      "0\n",
      "Empty DataFrame\n",
      "Columns: [lexeme, Number of Forms]\n",
      "Index: []\n",
      "Empty DataFrame\n",
      "Columns: [Number of lexemes]\n",
      "Index: []\n",
      "\n",
      "\n",
      "[30, 31]\n",
      "/Users/gilles/Box Sync/2015-Data/MGC-170430-01-20000Ko-Tirage-S-170503-1908-Morphomes.pkl\n",
      "2,000,000\n",
      "1\n",
      "     lexeme  Number of Forms\n",
      "2076  faire               31\n",
      "Empty DataFrame\n",
      "Columns: [Number of lexemes]\n",
      "Index: []\n",
      "\n",
      "\n",
      "[31, 32]\n",
      "/Users/gilles/Box Sync/2015-Data/MGC-170430-02-20000Ko-Tirage-S-170503-1909-Morphomes.pkl\n",
      "3,000,000\n",
      "1\n",
      "     lexeme  Number of Forms\n",
      "2134  faire               32\n",
      "                 Number of lexemes\n",
      "Number of Forms                   \n",
      "32                               1\n",
      "\n",
      "\n",
      "[32, 33]\n",
      "/Users/gilles/Box Sync/2015-Data/MGC-170430-03-20000Ko-Tirage-S-170503-1910-Morphomes.pkl\n",
      "4,000,000\n",
      "1\n",
      "     lexeme  Number of Forms\n",
      "2165  faire               33\n",
      "                 Number of lexemes\n",
      "Number of Forms                   \n",
      "31                               4\n",
      "33                               1\n",
      "\n",
      "\n",
      "[31, 32]\n",
      "/Users/gilles/Box Sync/2015-Data/MGC-170430-04-20000Ko-Tirage-S-170503-1911-Morphomes.pkl\n",
      "5,000,000\n",
      "1\n",
      "     lexeme  Number of Forms\n",
      "2191  faire               32\n",
      "                 Number of lexemes\n",
      "Number of Forms                   \n",
      "32                               1\n",
      "\n",
      "\n",
      "[31, 32]\n",
      "/Users/gilles/Box Sync/2015-Data/MGC-170430-05-20000Ko-Tirage-S-170503-1912-Morphomes.pkl\n",
      "6,000,000\n",
      "1\n",
      "     lexeme  Number of Forms\n",
      "2210  faire               32\n",
      "                 Number of lexemes\n",
      "Number of Forms                   \n",
      "32                               1\n",
      "\n",
      "\n",
      "[32, 33]\n",
      "/Users/gilles/Box Sync/2015-Data/MGC-170430-06-20000Ko-Tirage-S-170503-1913-Morphomes.pkl\n",
      "7,000,000\n",
      "1\n",
      "     lexeme  Number of Forms\n",
      "2226  faire               33\n",
      "                 Number of lexemes\n",
      "Number of Forms                   \n",
      "31                               6\n",
      "33                               1\n",
      "\n",
      "\n",
      "[32, 33]\n",
      "/Users/gilles/Box Sync/2015-Data/MGC-170430-07-20000Ko-Tirage-S-170503-1914-Morphomes.pkl\n",
      "8,000,000\n",
      "1\n",
      "     lexeme  Number of Forms\n",
      "2234  faire               33\n",
      "                 Number of lexemes\n",
      "Number of Forms                   \n",
      "31                               6\n",
      "33                               1\n",
      "\n",
      "\n",
      "[32, 33]\n",
      "/Users/gilles/Box Sync/2015-Data/MGC-170430-08-20000Ko-Tirage-S-170503-1915-Morphomes.pkl\n",
      "9,000,000\n",
      "1\n",
      "     lexeme  Number of Forms\n",
      "2243  faire               33\n",
      "                 Number of lexemes\n",
      "Number of Forms                   \n",
      "31                               7\n",
      "33                               1\n",
      "\n",
      "\n",
      "[32, 33]\n",
      "/Users/gilles/Box Sync/2015-Data/MGC-170430-09-20000Ko-Tirage-S-170503-1916-Morphomes.pkl\n",
      "10,000,000\n",
      "2\n",
      "     lexeme  Number of Forms\n",
      "2247  faire               33\n",
      "5258   être               32\n",
      "                 Number of lexemes\n",
      "Number of Forms                   \n",
      "31                               6\n",
      "32                               1\n",
      "33                               1\n",
      "\n",
      "\n",
      "[32, 33]\n",
      "/Users/gilles/Box Sync/2015-Data/MGC-170430-10-20000Ko-Tirage-S-170503-1917-Morphomes.pkl\n",
      "11,000,000\n",
      "2\n",
      "     lexeme  Number of Forms\n",
      "2249  faire               33\n",
      "5264   être               32\n",
      "                 Number of lexemes\n",
      "Number of Forms                   \n",
      "31                               7\n",
      "32                               1\n",
      "33                               1\n",
      "\n",
      "\n",
      "[32, 33]\n",
      "/Users/gilles/Box Sync/2015-Data/MGC-170430-11-20000Ko-Tirage-S-170503-1918-Morphomes.pkl\n",
      "12,000,000\n",
      "2\n",
      "     lexeme  Number of Forms\n",
      "2253  faire               33\n",
      "5276   être               32\n",
      "                 Number of lexemes\n",
      "Number of Forms                   \n",
      "31                               7\n",
      "32                               1\n",
      "33                               1\n",
      "\n",
      "\n",
      "[32, 33]\n",
      "/Users/gilles/Box Sync/2015-Data/MGC-170430-12-20000Ko-Tirage-S-170503-1919-Morphomes.pkl\n",
      "13,000,000\n",
      "2\n",
      "     lexeme  Number of Forms\n",
      "2255  faire               33\n",
      "5282   être               32\n",
      "                 Number of lexemes\n",
      "Number of Forms                   \n",
      "31                               8\n",
      "32                               1\n",
      "33                               1\n",
      "\n",
      "\n",
      "[32, 33]\n",
      "/Users/gilles/Box Sync/2015-Data/MGC-170430-13-20000Ko-Tirage-S-170503-1921-Morphomes.pkl\n",
      "14,000,000\n",
      "2\n",
      "     lexeme  Number of Forms\n",
      "2257  faire               33\n",
      "5287   être               32\n",
      "                 Number of lexemes\n",
      "Number of Forms                   \n",
      "31                               7\n",
      "32                               2\n",
      "33                               1\n",
      "\n",
      "\n",
      "[32, 33]\n",
      "/Users/gilles/Box Sync/2015-Data/MGC-170430-14-20000Ko-Tirage-S-170503-1922-Morphomes.pkl\n",
      "15,000,000\n",
      "2\n",
      "     lexeme  Number of Forms\n",
      "2259  faire               33\n",
      "5295   être               32\n",
      "                 Number of lexemes\n",
      "Number of Forms                   \n",
      "31                               6\n",
      "32                               3\n",
      "33                               1\n",
      "\n",
      "\n",
      "[32, 33]\n",
      "/Users/gilles/Box Sync/2015-Data/MGC-170430-15-20000Ko-Tirage-S-170503-1923-Morphomes.pkl\n",
      "16,000,000\n",
      "2\n",
      "     lexeme  Number of Forms\n",
      "2260  faire               33\n",
      "5298   être               32\n",
      "                 Number of lexemes\n",
      "Number of Forms                   \n",
      "31                               6\n",
      "32                               3\n",
      "33                               1\n",
      "\n",
      "\n",
      "[32, 33]\n",
      "/Users/gilles/Box Sync/2015-Data/MGC-170430-16-20000Ko-Tirage-S-170503-1924-Morphomes.pkl\n",
      "17,000,000\n",
      "2\n",
      "     lexeme  Number of Forms\n",
      "2262  faire               33\n",
      "5302   être               32\n",
      "                 Number of lexemes\n",
      "Number of Forms                   \n",
      "31                               6\n",
      "32                               3\n",
      "33                               1\n",
      "\n",
      "\n",
      "[32, 33]\n",
      "/Users/gilles/Box Sync/2015-Data/MGC-170430-17-20000Ko-Tirage-S-170503-1925-Morphomes.pkl\n",
      "18,000,000\n",
      "2\n",
      "     lexeme  Number of Forms\n",
      "2264  faire               33\n",
      "5304   être               32\n",
      "                 Number of lexemes\n",
      "Number of Forms                   \n",
      "31                               6\n",
      "32                               3\n",
      "33                               1\n",
      "\n",
      "\n",
      "[32, 33]\n",
      "/Users/gilles/Box Sync/2015-Data/MGC-170430-18-20000Ko-Tirage-S-170503-1926-Morphomes.pkl\n",
      "19,000,000\n",
      "2\n",
      "     lexeme  Number of Forms\n",
      "2265  faire               33\n",
      "5306   être               32\n",
      "                 Number of lexemes\n",
      "Number of Forms                   \n",
      "31                               5\n",
      "32                               4\n",
      "33                               1\n",
      "\n",
      "\n",
      "[32, 33]\n",
      "/Users/gilles/Box Sync/2015-Data/MGC-170430-19-20000Ko-Tirage-S-170503-1927-Morphomes.pkl\n",
      "20,000,000\n",
      "2\n",
      "     lexeme  Number of Forms\n",
      "2269  faire               33\n",
      "5310   être               32\n",
      "                 Number of lexemes\n",
      "Number of Forms                   \n",
      "31                               5\n",
      "32                               4\n",
      "33                               1\n",
      "\n",
      "\n"
     ]
    }
   ],
   "source": [
    "distributions=[]\n",
    "brut=False\n",
    "for nTirage,tirage in enumerate(listeTiragesMorphomes20000k):\n",
    "#    print tirage\n",
    "    lexique=lireLexique(tirage)\n",
    "    if isinstance(lexique, pd.DataFrame):\n",
    "        lexique1=lexique[lexique[\"tir1\"]>0]\n",
    "        nbTokens=lexique1[\"tir1\"].sum()\n",
    "        nbCases=lexique1.groupby(by=[\"lexeme\",\"case\"],as_index=False).agg({\"tir1\":sum})\n",
    "        listeMorphomes=lexique1.groupby([\"case\"],as_index=False)[\"lexeme\"].count()[\"case\"].tolist()\n",
    "        nbMorphomes=len(listeMorphomes)\n",
    "        listeMorphomesNoPP=[m for m in listeMorphomes if not \"pp\" in m]\n",
    "        nbMorphomesOnePP=len(listeMorphomesNoPP)+1\n",
    "        listeNbCasesMax=[nbMorphomesOnePP,nbMorphomes]\n",
    "        print listeNbCasesMax\n",
    "        nbFormes=nbCases.groupby(by=[\"lexeme\"])[[\"case\"]].count()\n",
    "#        nbFormes=lexique1.groupby(by=[\"lexeme\"])[[\"phono\"]].count()\n",
    "        nbFormes.columns=[\"Number of Forms\"]\n",
    "        distNbFormes=nbFormes.groupby(by=[\"Number of Forms\"])[[\"Number of Forms\"]].count()\n",
    "        distNbFormes.columns=[\"Number of lexemes\"]\n",
    "        nbFormes.reset_index(inplace=True)\n",
    "        lexemesMax=nbFormes[nbFormes.apply(nbMax,axis=1)]\n",
    "        lexemesFull=nbFormes[nbFormes.apply(nbFull,axis=1)]\n",
    "        distributions.append((nbTokens, distNbFormes,lexemesMax,lexemesFull))\n",
    "        print tirage\n",
    "        print \"{:,}\".format(nbTokens)\n",
    "        print len(lexemesFull)\n",
    "        print lexemesFull\n",
    "        print distNbFormes[30:]\n",
    "#        print lexemesMax\n",
    "        print\n",
    "        print\n",
    "        if nTirage%1==0 and True:\n",
    "            distNbFormes.plot(kind=\"bar\",figsize=(20,10),ylim=(0,1000))"
   ]
  },
  {
   "cell_type": "code",
   "execution_count": 48,
   "metadata": {
    "collapsed": true
   },
   "outputs": [],
   "source": [
    "#nbCases[nbCases[\"lexeme\"]==\"faire\"]\n",
    "#lexique[lexique[\"lexeme\"]==\"faire\"]\n",
    "listeMorphomes=lexique1.groupby([\"case\"],as_index=False)[\"lexeme\"].count()[\"case\"].tolist()\n",
    "nbMorphomes=len(listeMorphomes)\n",
    "listeMorphomesNoPP=[m for m in listeMorphomes if not \"pp\" in m]\n",
    "nbMorphomesOnePP=len(listeMorphomesNoPP)+1"
   ]
  },
  {
   "cell_type": "code",
   "execution_count": null,
   "metadata": {
    "collapsed": true,
    "scrolled": true
   },
   "outputs": [],
   "source": [
    "    \n",
    "nbFormes.reset_index(inplace=True)\n",
    "nbFormes[nbFormes.apply(nbMax,axis=1)]"
   ]
  },
  {
   "cell_type": "markdown",
   "metadata": {},
   "source": [
    "# Calculs sur les tirages de 200Mo cumulés"
   ]
  },
  {
   "cell_type": "code",
   "execution_count": null,
   "metadata": {
    "collapsed": true
   },
   "outputs": [],
   "source": [
    "listeLexiques=listeTirages200\n",
    "cumulLexique=lireLexique(listeLexiques[0])\n",
    "cumulLexique[\"tir1\"]=0\n",
    "for nTirage,tirage in enumerate(listeLexiques):\n",
    "#    print nTirage,\n",
    "    lexique=lireLexique(tirage)\n",
    "    cumulLexique[\"tir1\"]=cumulLexique[\"tir1\"]+lexique[\"tir1\"]\n",
    "    lexique1=cumulLexique[cumulLexique[\"tir1\"]>0]\n",
    "    nbTokens=lexique1[\"tir1\"].sum()\n",
    "    nbTypes=lexique1[\"tir1\"].count()\n",
    "    print \"(%d,%d),\"%(nbTokens,nbTypes)\n",
    "    nbCases=lexique1.groupby(by=[\"lexeme\",\"case\"],as_index=False).agg({\"tir1\":sum})\n",
    "    nbFormes=nbCases.groupby(by=[\"lexeme\"])[[\"case\"]].count()\n",
    "    nbFormes.columns=[\"Number of Forms\"]\n",
    "    distNbFormes=nbFormes.groupby(by=[\"Number of Forms\"])[[\"Number of Forms\"]].count()\n",
    "    distNbFormes.columns=[\"Number of lexemes\"]\n",
    "    distributions.append(distNbFormes)\n",
    "    if nTirage%1==5:\n",
    "        distNbFormes.plot(kind=\"bar\",figsize=(20,10),ylim=(0,1000))    "
   ]
  },
  {
   "cell_type": "code",
   "execution_count": null,
   "metadata": {
    "collapsed": true
   },
   "outputs": [],
   "source": [
    "for n in [int(1e6*k) for k in range(1,1600)]:\n",
    "    if not n in pdPoints.index:\n",
    "        pdPoints.loc[n]=np.NaN\n",
    "pdPoints.sort_index(inplace=True)\n",
    "pdPoints.interpolate(method=\"slinear\", order=4, inplace=True)\n",
    "derivativeNb=pdPoints.diff().reset_index()\n",
    "derivativeNb.set_index(\"Sample Size\",inplace=True)"
   ]
  },
  {
   "cell_type": "code",
   "execution_count": null,
   "metadata": {
    "collapsed": true
   },
   "outputs": [],
   "source": [
    "funcDerivativeNb=derivativeNb[derivativeNb[\"Sample Size\"].isin(xPoints)]\n",
    "funcDerivativeNb.set_index(\"Sample Size\",inplace=True)"
   ]
  },
  {
   "cell_type": "code",
   "execution_count": null,
   "metadata": {
    "collapsed": true
   },
   "outputs": [],
   "source": [
    "funcDerivativeNb.ix[\"150000000\":].plot()"
   ]
  },
  {
   "cell_type": "code",
   "execution_count": null,
   "metadata": {
    "collapsed": true
   },
   "outputs": [],
   "source": [
    "funcDerivativeNb"
   ]
  },
  {
   "cell_type": "code",
   "execution_count": null,
   "metadata": {
    "collapsed": true
   },
   "outputs": [],
   "source": [
    "for tirage in listeTirages:\n",
    "    lexique=lireLexique(tirage)\n",
    "    if isinstance(lexique, pd.DataFrame):\n",
    "        lexique1=lexique[lexique[\"tir1\"]>0]\n",
    "        tokens=lexique[lexique[\"tir1\"]>0][\"tir1\"].sum()\n",
    "        print tokens,tirage\n",
    "        print\n"
   ]
  },
  {
   "cell_type": "code",
   "execution_count": null,
   "metadata": {
    "collapsed": true
   },
   "outputs": [],
   "source": [
    "lexique1.groupby(by=[\"lexeme\"]).count()"
   ]
  },
  {
   "cell_type": "code",
   "execution_count": null,
   "metadata": {
    "collapsed": true
   },
   "outputs": [],
   "source": []
  }
 ],
 "metadata": {
  "kernelspec": {
   "display_name": "Python 2",
   "language": "python",
   "name": "python2"
  },
  "language_info": {
   "codemirror_mode": {
    "name": "ipython",
    "version": 2
   },
   "file_extension": ".py",
   "mimetype": "text/x-python",
   "name": "python",
   "nbconvert_exporter": "python",
   "pygments_lexer": "ipython2",
   "version": "2.7.11"
  }
 },
 "nbformat": 4,
 "nbformat_minor": 1
}
