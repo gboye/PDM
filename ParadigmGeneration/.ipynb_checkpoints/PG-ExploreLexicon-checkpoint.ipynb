{
 "cells": [
  {
   "cell_type": "markdown",
   "metadata": {},
   "source": [
    "# Script pour manipuler un tirage et comparer des colonnes"
   ]
  },
  {
   "cell_type": "code",
   "execution_count": 1,
   "metadata": {
    "collapsed": true
   },
   "outputs": [],
   "source": [
    "# -*- coding: utf8 -*-\n",
    "import pandas as pd\n",
    "import pickle, glob\n",
    "import itertools as it\n",
    "import networkx as nx"
   ]
  },
  {
   "cell_type": "code",
   "execution_count": 2,
   "metadata": {},
   "outputs": [],
   "source": [
    "def tiragesNom(nom):\n",
    "    result=[tirage for tirage in listeTirages if nom in tirage]\n",
    "    return result\n",
    "\n",
    "listeTirages=glob.glob(\"/Users/gilles/Box Sync/2015-Data/*-Tirage.pkl\")\n",
    "listeTirages200=tiragesNom(\"200Mo\")\n",
    "listeTirages20=tiragesNom(\"20Mo\")\n",
    "listeTirages1=tiragesNom(\"1Mo\")\n",
    "listeTirages50k=tiragesNom(\"50Ko\")\n",
    "listeTirages100k=tiragesNom(\"100Ko\")\n"
   ]
  },
  {
   "cell_type": "code",
   "execution_count": 3,
   "metadata": {
    "collapsed": true
   },
   "outputs": [],
   "source": [
    "def lireLexique(nomLexique):\n",
    "    with open(nomLexique, 'rb') as input:\n",
    "        lexique=pickle.load(input)\n",
    "    return lexique"
   ]
  },
  {
   "cell_type": "code",
   "execution_count": 4,
   "metadata": {},
   "outputs": [],
   "source": [
    "nomLexique=listeTirages100k[2]\n",
    "lexique=lireLexique(nomLexique)\n",
    "taille=lexique[lexique[\"tir1\"]>0][\"tir1\"].count()\n",
    "paradigmes=pd.pivot_table(lexique[lexique[\"tir1\"]>0], values='phono', index=['lexeme'], columns=['case'], aggfunc=lambda x: \",\".join(x)).reset_index().reindex()\n"
   ]
  },
  {
   "cell_type": "code",
   "execution_count": 5,
   "metadata": {
    "collapsed": true
   },
   "outputs": [],
   "source": [
    "def compPaire(c1,c2):\n",
    "    syncretisms=[]\n",
    "    c1Val=paradigmes[c1].notnull()\n",
    "    c2Val=paradigmes[c2].notnull()\n",
    "    c1Sur=paradigmes[c1].str.contains(\",\")\n",
    "    c2Sur=paradigmes[c2].str.contains(\",\")\n",
    "    l1=len(paradigmes[paradigmes[c1].notnull()])\n",
    "    l2=len(paradigmes[paradigmes[c2].notnull()])\n",
    "    paire=paradigmes[c1Val & c2Val & (paradigmes[c1]!=paradigmes[c2])][[c1,c2]]\n",
    "    lenDiff=len(paire[~paire[c1].str.contains(\",\") & ~paire[c2].str.contains(\",\")])\n",
    "    if lenDiff>0:\n",
    "        if debug:\n",
    "            print u\"%s ≠ %s\"%(c1,c2)\n",
    "            print \"différence\",lenDiff\n",
    "            if lenDiff<12:\n",
    "                print paire\n",
    "    else:\n",
    "        surAbondant=paire[paire[c1].str.contains(\",\") | paire[c2].str.contains(\",\")]\n",
    "#            print \"--------------------------------\"\n",
    "        if len(surAbondant)==0:\n",
    "#                print u\"%s = %s\"%(c1,c2) \n",
    "            syncretisms.append(u\"%s = %s\"%(c1,c2))\n",
    "        else:\n",
    "            compatible=True\n",
    "            for index,row in surAbondant.iterrows():\n",
    "                if \",\" in row[c1]:\n",
    "                    if \",\" in row[c2]:\n",
    "                        if row[c1]!=row[c2]:\n",
    "                            compatible=False\n",
    "                    else:\n",
    "                        if not row[c2] in row[c1].split(\",\"):\n",
    "                            compatible=False\n",
    "                else:\n",
    "                    if not row[c1] in row[c2].split(\",\"):\n",
    "                        compatible=False\n",
    "            if compatible:\n",
    "#                    print u\"%s = %s\"%(c1,c2)\n",
    "                syncretisms.append(u\"%s = %s\"%(c1,c2))\n",
    "            else:\n",
    "                print u\"%s ≠ %s\"%(c1,c2)\n",
    "                print surAbondant"
   ]
  },
  {
   "cell_type": "code",
   "execution_count": 15,
   "metadata": {},
   "outputs": [],
   "source": [
    "def assignerTNS(row):\n",
    "    if row[-2:] in [p+n for p in [\"1\",\"2\",\"3\"] for n in [\"S\",\"P\"]]:\n",
    "        return row[:2]\n",
    "    else:\n",
    "        return \"NF\"\n",
    "\n",
    "def assignerPER(row):\n",
    "    if row[-2:] in [p+n for n in [\"S\",\"P\"] for p in [\"1\",\"2\",\"3\"] ]:\n",
    "        return row[-2:]\n",
    "    else:\n",
    "        if row==\"inf\":\n",
    "            return \"1S\"\n",
    "        elif row==\"pP\":\n",
    "            return \"2S\"\n",
    "        elif row==\"ppMS\":\n",
    "            return \"3S\"\n",
    "        elif row==\"ppMP\":\n",
    "            return \"1P\"\n",
    "        elif row==\"ppFS\":\n",
    "            return \"2P\"\n",
    "        elif row==\"ppFP\":\n",
    "            return \"3P\"\n",
    "\n",
    "lexique[\"TNS\"]=lexique[\"case\"].apply(assignerTNS)\n",
    "lexique[\"PER\"]=lexique[\"case\"].apply(assignerPER)"
   ]
  },
  {
   "cell_type": "code",
   "execution_count": 59,
   "metadata": {},
   "outputs": [
    {
     "data": {
      "text/html": [
       "<div>\n",
       "<table border=\"1\" class=\"dataframe\">\n",
       "  <thead>\n",
       "    <tr style=\"text-align: right;\">\n",
       "      <th></th>\n",
       "      <th>PER</th>\n",
       "      <th>1P</th>\n",
       "      <th>1S</th>\n",
       "      <th>2P</th>\n",
       "      <th>2S</th>\n",
       "      <th>3P</th>\n",
       "      <th>3S</th>\n",
       "    </tr>\n",
       "    <tr>\n",
       "      <th>lexeme</th>\n",
       "      <th>TNS</th>\n",
       "      <th></th>\n",
       "      <th></th>\n",
       "      <th></th>\n",
       "      <th></th>\n",
       "      <th></th>\n",
       "      <th></th>\n",
       "    </tr>\n",
       "  </thead>\n",
       "  <tbody>\n",
       "    <tr>\n",
       "      <th rowspan=\"9\" valign=\"top\">être</th>\n",
       "      <th>NF</th>\n",
       "      <td>None</td>\n",
       "      <td>Etr</td>\n",
       "      <td>None</td>\n",
       "      <td>Etâ</td>\n",
       "      <td>None</td>\n",
       "      <td>Ete</td>\n",
       "    </tr>\n",
       "    <tr>\n",
       "      <th>ai</th>\n",
       "      <td>fym</td>\n",
       "      <td>fy</td>\n",
       "      <td>fyt</td>\n",
       "      <td>fy</td>\n",
       "      <td>fyr</td>\n",
       "      <td>fy</td>\n",
       "    </tr>\n",
       "    <tr>\n",
       "      <th>fi</th>\n",
       "      <td>s6rô</td>\n",
       "      <td>s6rE</td>\n",
       "      <td>s6re</td>\n",
       "      <td>s6ra</td>\n",
       "      <td>s6rô</td>\n",
       "      <td>s6ra</td>\n",
       "    </tr>\n",
       "    <tr>\n",
       "      <th>ii</th>\n",
       "      <td>Etjô</td>\n",
       "      <td>EtE</td>\n",
       "      <td>Etje</td>\n",
       "      <td>EtE</td>\n",
       "      <td>EtE</td>\n",
       "      <td>EtE</td>\n",
       "    </tr>\n",
       "    <tr>\n",
       "      <th>is</th>\n",
       "      <td>fysjô</td>\n",
       "      <td>fys</td>\n",
       "      <td>fysje</td>\n",
       "      <td>fys</td>\n",
       "      <td>fys</td>\n",
       "      <td>fy</td>\n",
       "    </tr>\n",
       "    <tr>\n",
       "      <th>pI</th>\n",
       "      <td>swajô</td>\n",
       "      <td>None</td>\n",
       "      <td>swaje</td>\n",
       "      <td>swa</td>\n",
       "      <td>None</td>\n",
       "      <td>None</td>\n",
       "    </tr>\n",
       "    <tr>\n",
       "      <th>pc</th>\n",
       "      <td>s6rjô</td>\n",
       "      <td>s6rE</td>\n",
       "      <td>s6rje</td>\n",
       "      <td>s6rE</td>\n",
       "      <td>s6rE</td>\n",
       "      <td>s6rE</td>\n",
       "    </tr>\n",
       "    <tr>\n",
       "      <th>pi</th>\n",
       "      <td>sOm</td>\n",
       "      <td>sHi</td>\n",
       "      <td>Et</td>\n",
       "      <td>E</td>\n",
       "      <td>sô</td>\n",
       "      <td>E</td>\n",
       "    </tr>\n",
       "    <tr>\n",
       "      <th>ps</th>\n",
       "      <td>swajô</td>\n",
       "      <td>swa</td>\n",
       "      <td>swaje</td>\n",
       "      <td>swa</td>\n",
       "      <td>swa</td>\n",
       "      <td>swa</td>\n",
       "    </tr>\n",
       "  </tbody>\n",
       "</table>\n",
       "</div>"
      ],
      "text/plain": [
       "PER            1P    1S     2P    2S    3P    3S\n",
       "lexeme TNS                                      \n",
       "être   NF    None   Etr   None   Etâ  None   Ete\n",
       "       ai     fym    fy    fyt    fy   fyr    fy\n",
       "       fi    s6rô  s6rE   s6re  s6ra  s6rô  s6ra\n",
       "       ii    Etjô   EtE   Etje   EtE   EtE   EtE\n",
       "       is   fysjô   fys  fysje   fys   fys    fy\n",
       "       pI   swajô  None  swaje   swa  None  None\n",
       "       pc   s6rjô  s6rE  s6rje  s6rE  s6rE  s6rE\n",
       "       pi     sOm   sHi     Et     E    sô     E\n",
       "       ps   swajô   swa  swaje   swa   swa   swa"
      ]
     },
     "execution_count": 59,
     "metadata": {},
     "output_type": "execute_result"
    }
   ],
   "source": [
    "lexeme=u\"être\"\n",
    "tableauTest=lexique[lexique[\"lexeme\"]==lexeme].pivot_table(values='phono', index=['lexeme','TNS'], columns=[\"PER\"], aggfunc=lambda x: \",\".join(x))\n",
    "tableauTest"
   ]
  },
  {
   "cell_type": "code",
   "execution_count": 60,
   "metadata": {
    "collapsed": true
   },
   "outputs": [],
   "source": [
    "ligTable=['pi', 'ii', 'fi','pc','ps','ai','is','pI','NF']\n",
    "colTable=[p+n for n in [\"S\",\"P\"] for p in [\"1\",\"2\",\"3\"] ]\n",
    "colTuple=[(\"PER\",col) for col in colTable]\n",
    "ligTuple=[(\"TNS\",lig) for lig in ligTable]"
   ]
  },
  {
   "cell_type": "code",
   "execution_count": 61,
   "metadata": {},
   "outputs": [],
   "source": [
    "tableauTest=tableauTest.reindex(columns=colTable)"
   ]
  },
  {
   "cell_type": "code",
   "execution_count": 65,
   "metadata": {},
   "outputs": [
    {
     "name": "stdout",
     "output_type": "stream",
     "text": [
      "\\begin{tabular}{llllllll}\n",
      "\\toprule\n",
      "     &    &    1S &    2S &    3S &     1P &     2P &    3P \\\\\n",
      "lexeme & TNS &       &       &       &        &        &       \\\\\n",
      "\\midrule\n",
      "être & pi &   sHi &     E &     E &    sOm &     Et &    sô \\\\\n",
      "     & ii &   EtE &   EtE &   EtE &   Etjô &   Etje &   EtE \\\\\n",
      "     & fi &  s6rE &  s6ra &  s6ra &   s6rô &   s6re &  s6rô \\\\\n",
      "     & pc &  s6rE &  s6rE &  s6rE &  s6rjô &  s6rje &  s6rE \\\\\n",
      "     & ai &    fy &    fy &    fy &    fym &    fyt &   fyr \\\\\n",
      "     & is &   fys &   fys &    fy &  fysjô &  fysje &   fys \\\\\n",
      "     & pI &   &   swa &   &  swajô &  swaje &   \\\\\n",
      "     & NF &   Etr &   Etâ &   Ete &    &    &   \\\\\n",
      "\\bottomrule\n",
      "\\end{tabular}\n",
      "\n"
     ]
    }
   ],
   "source": [
    "idxTableau = tableauTest.sortlevel(level='TNS').index\n",
    "idxTableau=[idxTableau[i] for i in [7, 3, 2, 6, 1,4,5,0]]\n",
    "tableauTest=tableauTest.reindex(idxTableau)\n",
    "print tableauTest.to_latex().replace(\"None\",\"\")"
   ]
  },
  {
   "cell_type": "code",
   "execution_count": 4,
   "metadata": {},
   "outputs": [
    {
     "data": {
      "text/plain": [
       "['/Users/gilles/Box Sync/2015-Data/MGC-170330-00-100Ko-Tirage.pkl',\n",
       " '/Users/gilles/Box Sync/2015-Data/MGC-170330-01-100Ko-Tirage.pkl',\n",
       " '/Users/gilles/Box Sync/2015-Data/MGC-170330-02-100Ko-Tirage.pkl',\n",
       " '/Users/gilles/Box Sync/2015-Data/MGC-170330-03-100Ko-Tirage.pkl',\n",
       " '/Users/gilles/Box Sync/2015-Data/MGC-170330-04-100Ko-Tirage.pkl',\n",
       " '/Users/gilles/Box Sync/2015-Data/MGC-170330-05-100Ko-Tirage.pkl',\n",
       " '/Users/gilles/Box Sync/2015-Data/MGC-170330-06-100Ko-Tirage.pkl',\n",
       " '/Users/gilles/Box Sync/2015-Data/MGC-170330-07-100Ko-Tirage.pkl',\n",
       " '/Users/gilles/Box Sync/2015-Data/MGC-170330-08-100Ko-Tirage.pkl',\n",
       " '/Users/gilles/Box Sync/2015-Data/MGC-170330-09-100Ko-Tirage.pkl',\n",
       " '/Users/gilles/Box Sync/2015-Data/MGC-170330-10-100Ko-Tirage.pkl',\n",
       " '/Users/gilles/Box Sync/2015-Data/MGC-170330-11-100Ko-Tirage.pkl',\n",
       " '/Users/gilles/Box Sync/2015-Data/MGC-170330-12-100Ko-Tirage.pkl',\n",
       " '/Users/gilles/Box Sync/2015-Data/MGC-170330-13-100Ko-Tirage.pkl',\n",
       " '/Users/gilles/Box Sync/2015-Data/MGC-170330-14-100Ko-Tirage.pkl',\n",
       " '/Users/gilles/Box Sync/2015-Data/MGC-170330-15-100Ko-Tirage.pkl',\n",
       " '/Users/gilles/Box Sync/2015-Data/MGC-170330-16-100Ko-Tirage.pkl',\n",
       " '/Users/gilles/Box Sync/2015-Data/MGC-170330-17-100Ko-Tirage.pkl',\n",
       " '/Users/gilles/Box Sync/2015-Data/MGC-170330-18-100Ko-Tirage.pkl',\n",
       " '/Users/gilles/Box Sync/2015-Data/MGC-170330-19-100Ko-Tirage.pkl']"
      ]
     },
     "execution_count": 4,
     "metadata": {},
     "output_type": "execute_result"
    }
   ],
   "source": [
    "for tirage in listeTirages100k:\n",
    "    lexique=lireLexique(tirage)\n",
    "    taille=lexique[lexique[\"tir1\"]>0][\"tir1\"].count()\n",
    "    print tirage, taile\n"
   ]
  }
 ],
 "metadata": {
  "kernelspec": {
   "display_name": "Python 2",
   "language": "python",
   "name": "python2"
  },
  "language_info": {
   "codemirror_mode": {
    "name": "ipython",
    "version": 2
   },
   "file_extension": ".py",
   "mimetype": "text/x-python",
   "name": "python",
   "nbconvert_exporter": "python",
   "pygments_lexer": "ipython2",
   "version": "2.7.11"
  }
 },
 "nbformat": 4,
 "nbformat_minor": 1
}
