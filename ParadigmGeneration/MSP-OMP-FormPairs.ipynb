{
 "cells": [
  {
   "cell_type": "code",
   "execution_count": 1,
   "metadata": {
    "collapsed": true
   },
   "outputs": [],
   "source": [
    "import pandas as pd\n",
    "import glob,re"
   ]
  },
  {
   "cell_type": "code",
   "execution_count": 2,
   "metadata": {},
   "outputs": [
    {
     "name": "stdout",
     "output_type": "stream",
     "text": [
      "Populating the interactive namespace from numpy and matplotlib\n"
     ]
    }
   ],
   "source": [
    "pylab inline"
   ]
  },
  {
   "cell_type": "code",
   "execution_count": 3,
   "metadata": {
    "collapsed": true
   },
   "outputs": [],
   "source": [
    "baseRepName=\"/Users/gilles/Box Sync/2015-Data/\"\n",
    "repName=baseRepName+\"DerivationParadigmes/\""
   ]
  },
  {
   "cell_type": "code",
   "execution_count": 4,
   "metadata": {
    "collapsed": true
   },
   "outputs": [],
   "source": [
    "def arrondi(n):\n",
    "   return int(round(n,0)) "
   ]
  },
  {
   "cell_type": "code",
   "execution_count": 47,
   "metadata": {
    "collapsed": true
   },
   "outputs": [],
   "source": [
    "def getPoint(df):\n",
    "    df.drop('None', axis=1, inplace=True)\n",
    "    df.drop(df.index[[0,1]],inplace=True)\n",
    "    s=df.apply(pd.to_numeric).stack()\n",
    "    mean=arrondi(s.mean())\n",
    "    median=arrondi(s.median())\n",
    "    q1=arrondi(s.quantile(0.25))\n",
    "    q3=arrondi(s.quantile(0.75))\n",
    "    return [mean, median, q1,q3]"
   ]
  },
  {
   "cell_type": "code",
   "execution_count": 48,
   "metadata": {},
   "outputs": [],
   "source": [
    "def getTokensForms(nomFichier):\n",
    "    m=re.search(ur\"-T(\\d+)-\",nomFichier)\n",
    "    if m:\n",
    "        nbTokens=int(m.group(1))\n",
    "    else:\n",
    "        print \"pas de nombre de Tokens dans le nom de fichier\"\n",
    "        nbTokens=pd.NaT\n",
    "    m=re.search(ur\"-F(\\d+)-\",nomFichier)\n",
    "    if m:\n",
    "        nbForms=int(m.group(1))\n",
    "    else:\n",
    "        print \"pas de nombre de Tokens dans le nom de fichier\"\n",
    "        nbForms=pd.NaT\n",
    "    return [nbTokens,nbForms]"
   ]
  },
  {
   "cell_type": "code",
   "execution_count": 49,
   "metadata": {
    "scrolled": true
   },
   "outputs": [],
   "source": [
    "def getData(serie,rep=repName):\n",
    "    data={}\n",
    "    for numMSP,msp in enumerate(glob.glob(rep+\"*%s.csv\"%serie)):\n",
    "        dataLine=getTokensForms(msp)\n",
    "        pdMSP=pd.read_csv(filepath_or_buffer=msp,sep=\";\")\n",
    "        dataLine.extend(getPoint(pdMSP))\n",
    "        data[int((numMSP+1))]=dataLine\n",
    "    return data"
   ]
  },
  {
   "cell_type": "code",
   "execution_count": 50,
   "metadata": {},
   "outputs": [],
   "source": [
    "def getSerie(serie):\n",
    "    serieInitial=serie[0]\n",
    "    parSerie=pd.DataFrame.from_dict(getData(serie),orient=\"index\",dtype=int).sort_index()\n",
    "    parSerie.columns=[\"tokens\",\"forms\"+serieInitial,\"mean\"+serieInitial,\"median\"+serieInitial,\"Q1\"+serieInitial,\"Q3\"+serieInitial]\n",
    "    parSerie.set_index(\"tokens\",inplace=True)\n",
    "    return parSerie"
   ]
  },
  {
   "cell_type": "code",
   "execution_count": 51,
   "metadata": {},
   "outputs": [],
   "source": [
    "parOMP=getSerie(\"Groupe\")\n",
    "parMSP=getSerie(\"Separe\")"
   ]
  },
  {
   "cell_type": "code",
   "execution_count": 52,
   "metadata": {},
   "outputs": [
    {
     "data": {
      "text/html": [
       "<div>\n",
       "<table border=\"1\" class=\"dataframe\">\n",
       "  <thead>\n",
       "    <tr style=\"text-align: right;\">\n",
       "      <th></th>\n",
       "      <th>formsS</th>\n",
       "      <th>meanS</th>\n",
       "      <th>medianS</th>\n",
       "      <th>Q1S</th>\n",
       "      <th>Q3S</th>\n",
       "    </tr>\n",
       "    <tr>\n",
       "      <th>tokens</th>\n",
       "      <th></th>\n",
       "      <th></th>\n",
       "      <th></th>\n",
       "      <th></th>\n",
       "      <th></th>\n",
       "    </tr>\n",
       "  </thead>\n",
       "  <tbody>\n",
       "    <tr>\n",
       "      <th>1000</th>\n",
       "      <td>677</td>\n",
       "      <td>2</td>\n",
       "      <td>1</td>\n",
       "      <td>0</td>\n",
       "      <td>2</td>\n",
       "    </tr>\n",
       "    <tr>\n",
       "      <th>2000</th>\n",
       "      <td>1193</td>\n",
       "      <td>3</td>\n",
       "      <td>1</td>\n",
       "      <td>0</td>\n",
       "      <td>3</td>\n",
       "    </tr>\n",
       "    <tr>\n",
       "      <th>3000</th>\n",
       "      <td>1642</td>\n",
       "      <td>5</td>\n",
       "      <td>2</td>\n",
       "      <td>1</td>\n",
       "      <td>5</td>\n",
       "    </tr>\n",
       "    <tr>\n",
       "      <th>4000</th>\n",
       "      <td>2060</td>\n",
       "      <td>7</td>\n",
       "      <td>3</td>\n",
       "      <td>1</td>\n",
       "      <td>7</td>\n",
       "    </tr>\n",
       "    <tr>\n",
       "      <th>5000</th>\n",
       "      <td>2447</td>\n",
       "      <td>8</td>\n",
       "      <td>4</td>\n",
       "      <td>1</td>\n",
       "      <td>8</td>\n",
       "    </tr>\n",
       "    <tr>\n",
       "      <th>6000</th>\n",
       "      <td>2805</td>\n",
       "      <td>9</td>\n",
       "      <td>4</td>\n",
       "      <td>1</td>\n",
       "      <td>10</td>\n",
       "    </tr>\n",
       "    <tr>\n",
       "      <th>7000</th>\n",
       "      <td>3152</td>\n",
       "      <td>11</td>\n",
       "      <td>5</td>\n",
       "      <td>2</td>\n",
       "      <td>11</td>\n",
       "    </tr>\n",
       "    <tr>\n",
       "      <th>8000</th>\n",
       "      <td>3464</td>\n",
       "      <td>13</td>\n",
       "      <td>6</td>\n",
       "      <td>2</td>\n",
       "      <td>13</td>\n",
       "    </tr>\n",
       "    <tr>\n",
       "      <th>9000</th>\n",
       "      <td>3781</td>\n",
       "      <td>14</td>\n",
       "      <td>6</td>\n",
       "      <td>3</td>\n",
       "      <td>15</td>\n",
       "    </tr>\n",
       "    <tr>\n",
       "      <th>10000</th>\n",
       "      <td>4085</td>\n",
       "      <td>16</td>\n",
       "      <td>7</td>\n",
       "      <td>3</td>\n",
       "      <td>17</td>\n",
       "    </tr>\n",
       "    <tr>\n",
       "      <th>20000</th>\n",
       "      <td>6453</td>\n",
       "      <td>27</td>\n",
       "      <td>12</td>\n",
       "      <td>4</td>\n",
       "      <td>30</td>\n",
       "    </tr>\n",
       "    <tr>\n",
       "      <th>30000</th>\n",
       "      <td>8384</td>\n",
       "      <td>38</td>\n",
       "      <td>18</td>\n",
       "      <td>7</td>\n",
       "      <td>43</td>\n",
       "    </tr>\n",
       "    <tr>\n",
       "      <th>40000</th>\n",
       "      <td>9924</td>\n",
       "      <td>46</td>\n",
       "      <td>22</td>\n",
       "      <td>7</td>\n",
       "      <td>53</td>\n",
       "    </tr>\n",
       "    <tr>\n",
       "      <th>50000</th>\n",
       "      <td>11300</td>\n",
       "      <td>54</td>\n",
       "      <td>26</td>\n",
       "      <td>8</td>\n",
       "      <td>62</td>\n",
       "    </tr>\n",
       "    <tr>\n",
       "      <th>60000</th>\n",
       "      <td>12501</td>\n",
       "      <td>63</td>\n",
       "      <td>32</td>\n",
       "      <td>10</td>\n",
       "      <td>70</td>\n",
       "    </tr>\n",
       "    <tr>\n",
       "      <th>70000</th>\n",
       "      <td>13609</td>\n",
       "      <td>70</td>\n",
       "      <td>36</td>\n",
       "      <td>11</td>\n",
       "      <td>80</td>\n",
       "    </tr>\n",
       "    <tr>\n",
       "      <th>80000</th>\n",
       "      <td>14642</td>\n",
       "      <td>77</td>\n",
       "      <td>39</td>\n",
       "      <td>12</td>\n",
       "      <td>88</td>\n",
       "    </tr>\n",
       "    <tr>\n",
       "      <th>90000</th>\n",
       "      <td>15606</td>\n",
       "      <td>84</td>\n",
       "      <td>44</td>\n",
       "      <td>13</td>\n",
       "      <td>96</td>\n",
       "    </tr>\n",
       "    <tr>\n",
       "      <th>100000</th>\n",
       "      <td>16484</td>\n",
       "      <td>90</td>\n",
       "      <td>47</td>\n",
       "      <td>15</td>\n",
       "      <td>104</td>\n",
       "    </tr>\n",
       "    <tr>\n",
       "      <th>200000</th>\n",
       "      <td>23246</td>\n",
       "      <td>137</td>\n",
       "      <td>75</td>\n",
       "      <td>18</td>\n",
       "      <td>161</td>\n",
       "    </tr>\n",
       "    <tr>\n",
       "      <th>300000</th>\n",
       "      <td>27805</td>\n",
       "      <td>167</td>\n",
       "      <td>93</td>\n",
       "      <td>18</td>\n",
       "      <td>199</td>\n",
       "    </tr>\n",
       "    <tr>\n",
       "      <th>400000</th>\n",
       "      <td>31271</td>\n",
       "      <td>196</td>\n",
       "      <td>113</td>\n",
       "      <td>22</td>\n",
       "      <td>233</td>\n",
       "    </tr>\n",
       "    <tr>\n",
       "      <th>500000</th>\n",
       "      <td>34140</td>\n",
       "      <td>221</td>\n",
       "      <td>132</td>\n",
       "      <td>24</td>\n",
       "      <td>270</td>\n",
       "    </tr>\n",
       "    <tr>\n",
       "      <th>600000</th>\n",
       "      <td>36552</td>\n",
       "      <td>242</td>\n",
       "      <td>147</td>\n",
       "      <td>27</td>\n",
       "      <td>300</td>\n",
       "    </tr>\n",
       "    <tr>\n",
       "      <th>700000</th>\n",
       "      <td>38603</td>\n",
       "      <td>261</td>\n",
       "      <td>162</td>\n",
       "      <td>31</td>\n",
       "      <td>329</td>\n",
       "    </tr>\n",
       "    <tr>\n",
       "      <th>800000</th>\n",
       "      <td>40336</td>\n",
       "      <td>277</td>\n",
       "      <td>174</td>\n",
       "      <td>33</td>\n",
       "      <td>350</td>\n",
       "    </tr>\n",
       "    <tr>\n",
       "      <th>900000</th>\n",
       "      <td>41880</td>\n",
       "      <td>291</td>\n",
       "      <td>183</td>\n",
       "      <td>35</td>\n",
       "      <td>368</td>\n",
       "    </tr>\n",
       "    <tr>\n",
       "      <th>1000000</th>\n",
       "      <td>43314</td>\n",
       "      <td>305</td>\n",
       "      <td>192</td>\n",
       "      <td>37</td>\n",
       "      <td>386</td>\n",
       "    </tr>\n",
       "    <tr>\n",
       "      <th>2000000</th>\n",
       "      <td>52592</td>\n",
       "      <td>399</td>\n",
       "      <td>261</td>\n",
       "      <td>48</td>\n",
       "      <td>520</td>\n",
       "    </tr>\n",
       "    <tr>\n",
       "      <th>3000000</th>\n",
       "      <td>57457</td>\n",
       "      <td>450</td>\n",
       "      <td>301</td>\n",
       "      <td>52</td>\n",
       "      <td>603</td>\n",
       "    </tr>\n",
       "    <tr>\n",
       "      <th>4000000</th>\n",
       "      <td>60582</td>\n",
       "      <td>484</td>\n",
       "      <td>325</td>\n",
       "      <td>55</td>\n",
       "      <td>660</td>\n",
       "    </tr>\n",
       "    <tr>\n",
       "      <th>5000000</th>\n",
       "      <td>62814</td>\n",
       "      <td>509</td>\n",
       "      <td>347</td>\n",
       "      <td>57</td>\n",
       "      <td>699</td>\n",
       "    </tr>\n",
       "    <tr>\n",
       "      <th>6000000</th>\n",
       "      <td>64443</td>\n",
       "      <td>527</td>\n",
       "      <td>356</td>\n",
       "      <td>59</td>\n",
       "      <td>727</td>\n",
       "    </tr>\n",
       "    <tr>\n",
       "      <th>7000000</th>\n",
       "      <td>65730</td>\n",
       "      <td>541</td>\n",
       "      <td>365</td>\n",
       "      <td>62</td>\n",
       "      <td>746</td>\n",
       "    </tr>\n",
       "    <tr>\n",
       "      <th>8000000</th>\n",
       "      <td>66613</td>\n",
       "      <td>551</td>\n",
       "      <td>372</td>\n",
       "      <td>63</td>\n",
       "      <td>760</td>\n",
       "    </tr>\n",
       "    <tr>\n",
       "      <th>9000000</th>\n",
       "      <td>67354</td>\n",
       "      <td>560</td>\n",
       "      <td>378</td>\n",
       "      <td>65</td>\n",
       "      <td>778</td>\n",
       "    </tr>\n",
       "    <tr>\n",
       "      <th>10000000</th>\n",
       "      <td>67965</td>\n",
       "      <td>567</td>\n",
       "      <td>382</td>\n",
       "      <td>66</td>\n",
       "      <td>788</td>\n",
       "    </tr>\n",
       "    <tr>\n",
       "      <th>11000000</th>\n",
       "      <td>68460</td>\n",
       "      <td>573</td>\n",
       "      <td>386</td>\n",
       "      <td>67</td>\n",
       "      <td>797</td>\n",
       "    </tr>\n",
       "    <tr>\n",
       "      <th>12000000</th>\n",
       "      <td>68887</td>\n",
       "      <td>578</td>\n",
       "      <td>387</td>\n",
       "      <td>67</td>\n",
       "      <td>807</td>\n",
       "    </tr>\n",
       "    <tr>\n",
       "      <th>13000000</th>\n",
       "      <td>69253</td>\n",
       "      <td>583</td>\n",
       "      <td>391</td>\n",
       "      <td>68</td>\n",
       "      <td>814</td>\n",
       "    </tr>\n",
       "    <tr>\n",
       "      <th>14000000</th>\n",
       "      <td>69598</td>\n",
       "      <td>587</td>\n",
       "      <td>392</td>\n",
       "      <td>69</td>\n",
       "      <td>821</td>\n",
       "    </tr>\n",
       "    <tr>\n",
       "      <th>15000000</th>\n",
       "      <td>69876</td>\n",
       "      <td>590</td>\n",
       "      <td>393</td>\n",
       "      <td>70</td>\n",
       "      <td>830</td>\n",
       "    </tr>\n",
       "    <tr>\n",
       "      <th>16000000</th>\n",
       "      <td>70140</td>\n",
       "      <td>594</td>\n",
       "      <td>395</td>\n",
       "      <td>71</td>\n",
       "      <td>835</td>\n",
       "    </tr>\n",
       "    <tr>\n",
       "      <th>17000000</th>\n",
       "      <td>70373</td>\n",
       "      <td>596</td>\n",
       "      <td>395</td>\n",
       "      <td>71</td>\n",
       "      <td>840</td>\n",
       "    </tr>\n",
       "    <tr>\n",
       "      <th>18000000</th>\n",
       "      <td>70555</td>\n",
       "      <td>599</td>\n",
       "      <td>396</td>\n",
       "      <td>72</td>\n",
       "      <td>845</td>\n",
       "    </tr>\n",
       "    <tr>\n",
       "      <th>19000000</th>\n",
       "      <td>70696</td>\n",
       "      <td>601</td>\n",
       "      <td>399</td>\n",
       "      <td>73</td>\n",
       "      <td>849</td>\n",
       "    </tr>\n",
       "    <tr>\n",
       "      <th>20000000</th>\n",
       "      <td>70836</td>\n",
       "      <td>602</td>\n",
       "      <td>399</td>\n",
       "      <td>74</td>\n",
       "      <td>851</td>\n",
       "    </tr>\n",
       "  </tbody>\n",
       "</table>\n",
       "</div>"
      ],
      "text/plain": [
       "          formsS  meanS  medianS  Q1S  Q3S\n",
       "tokens                                    \n",
       "1000         677      2        1    0    2\n",
       "2000        1193      3        1    0    3\n",
       "3000        1642      5        2    1    5\n",
       "4000        2060      7        3    1    7\n",
       "5000        2447      8        4    1    8\n",
       "6000        2805      9        4    1   10\n",
       "7000        3152     11        5    2   11\n",
       "8000        3464     13        6    2   13\n",
       "9000        3781     14        6    3   15\n",
       "10000       4085     16        7    3   17\n",
       "20000       6453     27       12    4   30\n",
       "30000       8384     38       18    7   43\n",
       "40000       9924     46       22    7   53\n",
       "50000      11300     54       26    8   62\n",
       "60000      12501     63       32   10   70\n",
       "70000      13609     70       36   11   80\n",
       "80000      14642     77       39   12   88\n",
       "90000      15606     84       44   13   96\n",
       "100000     16484     90       47   15  104\n",
       "200000     23246    137       75   18  161\n",
       "300000     27805    167       93   18  199\n",
       "400000     31271    196      113   22  233\n",
       "500000     34140    221      132   24  270\n",
       "600000     36552    242      147   27  300\n",
       "700000     38603    261      162   31  329\n",
       "800000     40336    277      174   33  350\n",
       "900000     41880    291      183   35  368\n",
       "1000000    43314    305      192   37  386\n",
       "2000000    52592    399      261   48  520\n",
       "3000000    57457    450      301   52  603\n",
       "4000000    60582    484      325   55  660\n",
       "5000000    62814    509      347   57  699\n",
       "6000000    64443    527      356   59  727\n",
       "7000000    65730    541      365   62  746\n",
       "8000000    66613    551      372   63  760\n",
       "9000000    67354    560      378   65  778\n",
       "10000000   67965    567      382   66  788\n",
       "11000000   68460    573      386   67  797\n",
       "12000000   68887    578      387   67  807\n",
       "13000000   69253    583      391   68  814\n",
       "14000000   69598    587      392   69  821\n",
       "15000000   69876    590      393   70  830\n",
       "16000000   70140    594      395   71  835\n",
       "17000000   70373    596      395   71  840\n",
       "18000000   70555    599      396   72  845\n",
       "19000000   70696    601      399   73  849\n",
       "20000000   70836    602      399   74  851"
      ]
     },
     "execution_count": 52,
     "metadata": {},
     "output_type": "execute_result"
    }
   ],
   "source": [
    "parMSP"
   ]
  },
  {
   "cell_type": "code",
   "execution_count": 62,
   "metadata": {},
   "outputs": [],
   "source": [
    "parCOMP=parMSP.join(parOMP)\n",
    "parCOMP.drop(\"formsG\",axis=1,inplace=True)\n",
    "parCOMP.columns=[\"Forms\",\"mean MSP\",\"median MSP\",\"Q1 MSP\",\"Q3 MSP\",\"mean OMP\",\"median OMP\",\"Q1 OMP\",\"Q3 OMP\"]"
   ]
  },
  {
   "cell_type": "code",
   "execution_count": 77,
   "metadata": {},
   "outputs": [
    {
     "data": {
      "text/plain": [
       "(<matplotlib.axes._subplots.AxesSubplot at 0x118843090>,\n",
       " <matplotlib.axes._subplots.AxesSubplot at 0x11e158850>)"
      ]
     },
     "execution_count": 77,
     "metadata": {},
     "output_type": "execute_result"
    },
    {
     "data": {
      "image/png": "[encoded data removed]",
      "text/plain": [
       "<matplotlib.figure.Figure at 0x11d798210>"
      ]
     },
     "metadata": {},
     "output_type": "display_data"
    },
    {
     "data": {
      "image/png": "[encoded data removed]",
      "text/plain": [
       "<matplotlib.figure.Figure at 0x11e106890>"
      ]
     },
     "metadata": {},
     "output_type": "display_data"
    }
   ],
   "source": [
    "parCOMP[0:28][[\"mean MSP\",\"mean OMP\"]].plot(figsize=(10,2),logx=False),parCOMP[0:28][[\"median MSP\",\"median OMP\"]].plot(figsize=(10,2))"
   ]
  },
  {
   "cell_type": "code",
   "execution_count": 67,
   "metadata": {},
   "outputs": [
    {
     "data": {
      "text/plain": [
       "(<matplotlib.axes._subplots.AxesSubplot at 0x119ddbed0>,\n",
       " <matplotlib.axes._subplots.AxesSubplot at 0x11a4818d0>)"
      ]
     },
     "execution_count": 67,
     "metadata": {},
     "output_type": "execute_result"
    },
    {
     "data": {
      "image/png": "[encoded data removed]",
      "text/plain": [
       "<matplotlib.figure.Figure at 0x119ddb0d0>"
      ]
     },
     "metadata": {},
     "output_type": "display_data"
    },
    {
     "data": {
      "image/png": "[encoded data removed]",
      "text/plain": [
       "<matplotlib.figure.Figure at 0x11a438410>"
      ]
     },
     "metadata": {},
     "output_type": "display_data"
    }
   ],
   "source": [
    "parCOMP[0:28][[\"Q1 MSP\",\"Q1 OMP\"]].plot(figsize=(10,2)),parCOMP[0:28][[\"Q3 MSP\",\"Q3 OMP\"]].plot(figsize=(10,2))"
   ]
  },
  {
   "cell_type": "code",
   "execution_count": 66,
   "metadata": {},
   "outputs": [
    {
     "data": {
      "text/plain": [
       "(<matplotlib.axes._subplots.AxesSubplot at 0x1187bdd10>,\n",
       " <matplotlib.axes._subplots.AxesSubplot at 0x11a230e90>)"
      ]
     },
     "execution_count": 66,
     "metadata": {},
     "output_type": "execute_result"
    },
    {
     "data": {
      "image/png": "[encoded data removed]",
      "text/plain": [
       "<matplotlib.figure.Figure at 0x1199e6390>"
      ]
     },
     "metadata": {},
     "output_type": "display_data"
    },
    {
     "data": {
      "image/png": "[encoded data removed]",
      "text/plain": [
       "<matplotlib.figure.Figure at 0x11a1fb090>"
      ]
     },
     "metadata": {},
     "output_type": "display_data"
    }
   ],
   "source": [
    "parCOMP[27:][[\"mean MSP\",\"mean OMP\"]].plot(figsize=(10,2)),parCOMP[27:][[\"median MSP\",\"median OMP\"]].plot(figsize=(10,2))"
   ]
  },
  {
   "cell_type": "code",
   "execution_count": 70,
   "metadata": {},
   "outputs": [
    {
     "data": {
      "text/plain": [
       "(<matplotlib.axes._subplots.AxesSubplot at 0x11a051310>,\n",
       " <matplotlib.axes._subplots.AxesSubplot at 0x11c606cd0>)"
      ]
     },
     "execution_count": 70,
     "metadata": {},
     "output_type": "execute_result"
    },
    {
     "data": {
      "image/png": "[encoded data removed]",
      "text/plain": [
       "<matplotlib.figure.Figure at 0x119df7f90>"
      ]
     },
     "metadata": {},
     "output_type": "display_data"
    },
    {
     "data": {
      "image/png": "[encoded data removed]",
      "text/plain": [
       "<matplotlib.figure.Figure at 0x11ac750d0>"
      ]
     },
     "metadata": {},
     "output_type": "display_data"
    }
   ],
   "source": [
    "parCOMP[[\"mean MSP\", \"mean OMP\"]].plot(logx=True),parCOMP[[\"median MSP\", \"median OMP\"]].plot(logx=True)"
   ]
  }
 ],
 "metadata": {
  "kernelspec": {
   "display_name": "Python 2",
   "language": "python",
   "name": "python2"
  },
  "language_info": {
   "codemirror_mode": {
    "name": "ipython",
    "version": 2
   },
   "file_extension": ".py",
   "mimetype": "text/x-python",
   "name": "python",
   "nbconvert_exporter": "python",
   "pygments_lexer": "ipython2",
   "version": "2.7.11"
  }
 },
 "nbformat": 4,
 "nbformat_minor": 2
}
