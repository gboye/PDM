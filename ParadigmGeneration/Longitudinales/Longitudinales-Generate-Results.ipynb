{
 "cells": [
  {
   "cell_type": "code",
   "execution_count": null,
   "metadata": {},
   "outputs": [],
   "source": [
    "import datetime\n",
    "for i in range(51,56):\n",
    "    for caseType in [\"\",\"-Morphomes\"]:   \n",
    "        cli=\"../MGC02-GenerateNetwork-ContextFree.py %02d -X %s\"%(i,caseType)\n",
    "        print \"début\",datetime.datetime.now()\n",
    "        print cli\n",
    "        %run $cli\n",
    "        print \"fin\",datetime.datetime.now()\n",
    "        print cli\n"
   ]
  },
  {
   "cell_type": "code",
   "execution_count": null,
   "metadata": {
    "collapsed": true
   },
   "outputs": [],
   "source": []
  }
 ],
 "metadata": {
  "kernelspec": {
   "display_name": "Python 2",
   "language": "python",
   "name": "python2"
  },
  "language_info": {
   "codemirror_mode": {
    "name": "ipython",
    "version": 2
   },
   "file_extension": ".py",
   "mimetype": "text/x-python",
   "name": "python",
   "nbconvert_exporter": "python",
   "pygments_lexer": "ipython2",
   "version": "2.7.11"
  }
 },
 "nbformat": 4,
 "nbformat_minor": 2
}
