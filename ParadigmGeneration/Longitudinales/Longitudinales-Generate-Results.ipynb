{
 "cells": [
  {
   "cell_type": "code",
   "execution_count": null,
   "metadata": {},
   "outputs": [
    {
     "name": "stdout",
     "output_type": "stream",
     "text": [
      "../MGC02-GenerateNetwork-ContextFree.py 10 -X \n",
      "\u0007\n",
      "10 -X \n",
      "-10-T110000-F15616\n",
      "/Volumes/gilles/Transfert/Copies-iMac-GB/2015-Data/Longitudinales/Longitudinal-10-T110000-F15616-X-paradigmes.csv\n",
      "2018-01-02 20:32:08.222858\n"
     ]
    },
    {
     "name": "stderr",
     "output_type": "stream",
     "text": [
      "/Users/gilles/anaconda/lib/python2.7/site-packages/pandas/core/indexing.py:284: SettingWithCopyWarning: \n",
      "A value is trying to be set on a copy of a slice from a DataFrame.\n",
      "Try using .loc[row_indexer,col_indexer] = value instead\n",
      "\n",
      "See the caveats in the documentation: http://pandas.pydata.org/pandas-docs/stable/indexing.html#indexing-view-versus-copy\n",
      "  self.obj[key] = _infer_fill_value(value)\n",
      "/Users/gilles/anaconda/lib/python2.7/site-packages/pandas/core/indexing.py:461: SettingWithCopyWarning: \n",
      "A value is trying to be set on a copy of a slice from a DataFrame.\n",
      "Try using .loc[row_indexer,col_indexer] = value instead\n",
      "\n",
      "See the caveats in the documentation: http://pandas.pydata.org/pandas-docs/stable/indexing.html#indexing-view-versus-copy\n",
      "  self.obj[item] = s\n",
      "/Users/gilles/anaconda/lib/python2.7/site-packages/pandas/core/indexing.py:545: SettingWithCopyWarning: \n",
      "A value is trying to be set on a copy of a slice from a DataFrame.\n",
      "Try using .loc[row_indexer,col_indexer] = value instead\n",
      "\n",
      "See the caveats in the documentation: http://pandas.pydata.org/pandas-docs/stable/indexing.html#indexing-view-versus-copy\n",
      "  self.obj[item_labels[indexer[info_axis]]] = value\n"
     ]
    },
    {
     "name": "stdout",
     "output_type": "stream",
     "text": [
      "UG 83988 OG 1049 TP 56747 FP 1189\n",
      "recall 0.399840759843 precision 0.962058150377\n",
      "0.564902518055\n",
      "\u0007\n",
      "2018-01-02 22:10:03.424062\n",
      "UG 66776 OG 1434 TP 73959 FP 2560\n",
      "recall 0.516131058306 precision 0.94876399882\n",
      "0.668561975701\n",
      "\u0007\n",
      "\u0007\n",
      "Sample 10-T110000-F15616\n",
      "Swim1 (83988, 1049, 56747, 1189) (0.9620581503772145, 0.3998407598432964, 0.564902518055438)\n",
      "Swim2 (66776, 1434, 73959, 2560) (0.9487639988198017, 0.5161310583062912, 0.6685619757014752)\n",
      "../MGC02-GenerateNetwork-ContextFree.py 11 -X \n",
      "\u0007\n",
      "11 -X \n",
      "-11-T120000-F16280\n",
      "/Volumes/gilles/Transfert/Copies-iMac-GB/2015-Data/Longitudinales/Longitudinal-11-T120000-F16280-X-paradigmes.csv\n",
      "2018-01-03 00:05:05.659134\n",
      "UG 84861 OG 1086 TP 58260 FP 1188\n",
      "recall 0.403717023886 precision 0.962434334424\n",
      "0.568825881285\n",
      "\u0007\n",
      "2018-01-03 01:51:20.335026\n",
      "UG 66094 OG 1473 TP 77027 FP 2512\n",
      "recall 0.528911716438 precision 0.950809756579\n",
      "0.679714972755\n",
      "\u0007\n",
      "\u0007\n",
      "Sample 11-T120000-F16280\n",
      "Swim1 (84861, 1086, 58260, 1188) (0.9624343344236297, 0.4037170238862441, 0.5688258812846912)\n",
      "Swim2 (66094, 1473, 77027, 2512) (0.9508097565792722, 0.5289117164378953, 0.6797149727547487)\n",
      "../MGC02-GenerateNetwork-ContextFree.py 12 -X \n",
      "\u0007\n",
      "12 -X \n",
      "-12-T130000-F16948\n",
      "/Volumes/gilles/Transfert/Copies-iMac-GB/2015-Data/Longitudinales/Longitudinal-12-T130000-F16948-X-paradigmes.csv\n",
      "2018-01-03 04:41:46.526567\n",
      "UG 83605 OG 1129 TP 61619 FP 1228\n",
      "recall 0.420745363669 precision 0.963158059272\n",
      "0.585654000418\n",
      "\u0007\n",
      "2018-01-03 06:29:47.725757\n",
      "UG 66314 OG 1524 TP 78910 FP 2626\n",
      "recall 0.533716604667 precision 0.950036118469\n",
      "0.683469750119\n",
      "\u0007\n",
      "\u0007\n",
      "Sample 12-T130000-F16948\n",
      "Swim1 (83605, 1129, 61619, 1228) (0.9631580592722271, 0.4207453636686423, 0.5856540004181953)\n",
      "Swim2 (66314, 1524, 78910, 2626) (0.9500361184685769, 0.5337166046668921, 0.683469750119094)\n",
      "../MGC02-GenerateNetwork-ContextFree.py 13 -X \n",
      "\u0007\n",
      "13 -X \n",
      "-13-T140000-F17587\n",
      "/Volumes/gilles/Transfert/Copies-iMac-GB/2015-Data/Longitudinales/Longitudinal-13-T140000-F17587-X-paradigmes.csv\n",
      "2018-01-03 10:25:42.825988\n"
     ]
    }
   ],
   "source": [
    "for i in range(10,14):\n",
    "    for caseType in [\"\"]:   #[\"\",\"-Morphomes\"]\n",
    "        cli=\"../MGC02-GenerateNetwork-ContextFree.py %02d -X %s\"%(i,caseType)\n",
    "        print cli\n",
    "        %run $cli"
   ]
  },
  {
   "cell_type": "code",
   "execution_count": null,
   "metadata": {
    "collapsed": true
   },
   "outputs": [],
   "source": [
    "for i in range(14,50):\n",
    "    for caseType in [\"\",\"-Morphomes\"]:   \n",
    "        cli=\"../MGC02-GenerateNetwork-ContextFree.py %02d -X %s\"%(i,caseType)\n",
    "        print cli\n",
    "        %run $cli"
   ]
  },
  {
   "cell_type": "code",
   "execution_count": null,
   "metadata": {
    "collapsed": true
   },
   "outputs": [],
   "source": []
  }
 ],
 "metadata": {
  "kernelspec": {
   "display_name": "Python 2",
   "language": "python",
   "name": "python2"
  },
  "language_info": {
   "codemirror_mode": {
    "name": "ipython",
    "version": 2
   },
   "file_extension": ".py",
   "mimetype": "text/x-python",
   "name": "python",
   "nbconvert_exporter": "python",
   "pygments_lexer": "ipython2",
   "version": "2.7.11"
  }
 },
 "nbformat": 4,
 "nbformat_minor": 2
}
