{
 "cells": [
  {
   "cell_type": "code",
   "execution_count": 83,
   "metadata": {
    "collapsed": true
   },
   "outputs": [],
   "source": [
    "import pickle,glob,re\n",
    "import pandas as pd\n",
    "import numpy as np\n",
    "import matplotlib.pyplot as plt\n",
    "import matplotlib.ticker as ticker\n"
   ]
  },
  {
   "cell_type": "code",
   "execution_count": 4,
   "metadata": {
    "collapsed": true
   },
   "outputs": [],
   "source": [
    "%matplotlib inline"
   ]
  },
  {
   "cell_type": "code",
   "execution_count": 144,
   "metadata": {
    "collapsed": true
   },
   "outputs": [],
   "source": [
    "listeMSP=sorted(glob.glob(\"/Volumes/gilles/Transfert/Copies-iMac-GB/2015-Data/Longitudinales/*X-paradigmes.csv\"))\n",
    "listeOMP=sorted(glob.glob(\"/Volumes/gilles/Transfert/Copies-iMac-GB/2015-Data/Longitudinales/*-Morphomes-paradigmes.csv\"))"
   ]
  },
  {
   "cell_type": "code",
   "execution_count": 3,
   "metadata": {
    "collapsed": true
   },
   "outputs": [],
   "source": [
    "def tiragesNom(nom,listeTirages):\n",
    "    result=[tirage for tirage in listeTirages if nom in tirage]\n",
    "    return sorted(result)"
   ]
  },
  {
   "cell_type": "code",
   "execution_count": 79,
   "metadata": {},
   "outputs": [],
   "source": [
    "import seaborn as sns\n",
    "sns.set_context(\"notebook\", font_scale=1.5, rc={\"lines.linewidth\": 2.5})\n",
    "sns.set_context(\"paper\")\n",
    "sns.set_palette(\"husl\")"
   ]
  },
  {
   "cell_type": "code",
   "execution_count": 6,
   "metadata": {},
   "outputs": [
    {
     "data": {
      "image/png": "[encoded data removed]",
      "text/plain": [
       "<matplotlib.figure.Figure at 0x1a09f89d10>"
      ]
     },
     "metadata": {},
     "output_type": "display_data"
    }
   ],
   "source": [
    "grayScalePalette=sns.cubehelix_palette(10, hue=0.05, rot=0, light=0.9, dark=0.5)\n",
    "sns.palplot(grayScalePalette)"
   ]
  },
  {
   "cell_type": "code",
   "execution_count": 32,
   "metadata": {
    "collapsed": true
   },
   "outputs": [],
   "source": [
    "def lireEchantillon(nom):\n",
    "    df=pd.read_csv(nom,sep=\";\",index_col=\"lexeme\")\n",
    "    df.drop(labels=\"Unnamed: 0\",axis=1,inplace=True)\n",
    "    return df"
   ]
  },
  {
   "cell_type": "code",
   "execution_count": 9,
   "metadata": {
    "collapsed": true
   },
   "outputs": [],
   "source": [
    "bounds = np.array([0, 1, 3, 10, 30, 100, 300, 1000])\n",
    "norm = plt.colors.BoundaryNorm(boundaries=bounds, ncolors=100)"
   ]
  },
  {
   "cell_type": "code",
   "execution_count": 10,
   "metadata": {
    "collapsed": true
   },
   "outputs": [],
   "source": [
    "freqSortedCases=[u'pi3S', u'inf', u'ppMS', u'pi1S', u'ii3S', u'pi2S', u'pi2P', u'ai3S', u'pi3P', u'ppFS', \n",
    "                 u'ii1S', u'pP', u'ii3P', u'ppMP', u'fi3S', u'pc3S', u'pi1P', u'ps3S', u'fi1S', u'pc1S', \n",
    "                 u'ppFP', u'pI2P', u'ai1S', u'pI2S', u'ai3P', u'fi2S', u'ii1P', u'fi2P', u'ii2P', u'fi3P', \n",
    "                 u'is3S', u'fi1P', u'pc3P', u'pc2P', u'ps2S', u'pI1P', u'ps3P', u'pc2S', u'pc1P', u'ai1P', \n",
    "                 u'ii2S', u'ps2P', u'is3P', u'ai2S', u'ps1P', u'is1S', u'ai2P', u'ps1S', u'is1P', u'is2S', \n",
    "                 u'is2P']"
   ]
  },
  {
   "cell_type": "code",
   "execution_count": 57,
   "metadata": {
    "collapsed": true
   },
   "outputs": [],
   "source": [
    "def getTokens(name):\n",
    "    m=re.search(ur\"\\d+-T(\\d+)-F\\d+\",name)\n",
    "    if m:\n",
    "        return int(m.group(1))\n",
    "    else:\n",
    "        print \"no Tokens\"\n",
    "        return None"
   ]
  },
  {
   "cell_type": "code",
   "execution_count": 73,
   "metadata": {
    "collapsed": true
   },
   "outputs": [],
   "source": [
    "def reFormatTicks(x,pos):\n",
    "    text=\"0\"\n",
    "    if x!=0:\n",
    "        magnitude=int(np.log10(x))\n",
    "        x=round(float(x)/(10**magnitude),1)*10**magnitude\n",
    "        if magnitude>=9:\n",
    "            unit=\"G\"\n",
    "            value=(\"%.1f\"%(float(x)/1e9)).strip(\"0\").strip(\".\")\n",
    "        elif magnitude>=6:\n",
    "            unit=\"M\"\n",
    "            value=(\"%.1f\"%(float(x)/1e6)).strip(\"0\").strip(\".\")\n",
    "        elif magnitude>=3:\n",
    "            unit=\"k\"\n",
    "            value=(\"%.1f\"%(float(x)/1e3)).strip(\"0\").strip(\".\")\n",
    "        else:\n",
    "            unit=\"\"\n",
    "            value=(\"%.1f\"%float(x)).strip(\"0\").strip(\".\")\n",
    "        text=\"%s%s\"%(value,unit)\n",
    "    return text"
   ]
  },
  {
   "cell_type": "code",
   "execution_count": 179,
   "metadata": {
    "collapsed": true
   },
   "outputs": [],
   "source": [
    "def setSeries(df):\n",
    "    for i in range(df.index.max()):\n",
    "        if not i+1 in df.index:\n",
    "            df[i+1]=0\n",
    "    return df.sort_index()"
   ]
  },
  {
   "cell_type": "code",
   "execution_count": 184,
   "metadata": {
    "collapsed": true
   },
   "outputs": [],
   "source": [
    "def getCoforms(df):\n",
    "    dfCoforms=df.apply(lambda x: x.count(), axis=1)\n",
    "    mean=dfCoforms.mean()\n",
    "    dist=setSeries(dfCoforms.groupby(dfCoforms).count())\n",
    "    return mean,dist"
   ]
  },
  {
   "cell_type": "code",
   "execution_count": 185,
   "metadata": {
    "scrolled": true
   },
   "outputs": [],
   "source": [
    "dictIsolatedCellForms={}\n",
    "dictCoforms={}\n",
    "dictDist={}\n",
    "for MSP in listeMSP[:]:\n",
    "    df=lireEchantillon(MSP)\n",
    "    tokens=getTokens(MSP)\n",
    "    dictIsolatedCellForms[tokens]=len(df)-len(df.dropna(thresh=2))\n",
    "    mean,dist=getCoforms(df)\n",
    "    dictCoforms[tokens]=mean\n",
    "    dictDist[tokens]=dist"
   ]
  },
  {
   "cell_type": "code",
   "execution_count": 186,
   "metadata": {},
   "outputs": [
    {
     "data": {
      "text/plain": [
       "1     465\n",
       "2     345\n",
       "3     279\n",
       "4     261\n",
       "5     247\n",
       "6     260\n",
       "7     224\n",
       "8     240\n",
       "9     232\n",
       "10    234\n",
       "11    210\n",
       "12    188\n",
       "13    187\n",
       "14    172\n",
       "15    137\n",
       "16    136\n",
       "17    125\n",
       "18     88\n",
       "19     94\n",
       "20     97\n",
       "21     76\n",
       "22     78\n",
       "23     70\n",
       "24     59\n",
       "25     54\n",
       "26     58\n",
       "27     51\n",
       "28     52\n",
       "29     55\n",
       "30     57\n",
       "31     47\n",
       "32     34\n",
       "33     48\n",
       "34     36\n",
       "35     33\n",
       "36     38\n",
       "37     38\n",
       "38     33\n",
       "39     16\n",
       "40     19\n",
       "41     18\n",
       "42     15\n",
       "43     12\n",
       "44      8\n",
       "45      8\n",
       "46      5\n",
       "47      0\n",
       "48      3\n",
       "49      0\n",
       "50      1\n",
       "dtype: int64"
      ]
     },
     "execution_count": 186,
     "metadata": {},
     "output_type": "execute_result"
    }
   ],
   "source": [
    "dist"
   ]
  },
  {
   "cell_type": "code",
   "execution_count": 165,
   "metadata": {},
   "outputs": [],
   "source": [
    "etapes=[2000000,8000000,30000000,130000000]"
   ]
  },
  {
   "cell_type": "code",
   "execution_count": 194,
   "metadata": {},
   "outputs": [
    {
     "data": {
      "image/png": "[encoded data removed]",
      "text/plain": [
       "<matplotlib.figure.Figure at 0x1a0ded1050>"
      ]
     },
     "metadata": {},
     "output_type": "display_data"
    },
    {
     "data": {
      "image/png": "[encoded data removed]",
      "text/plain": [
       "<matplotlib.figure.Figure at 0x1a0a9b9fd0>"
      ]
     },
     "metadata": {},
     "output_type": "display_data"
    },
    {
     "data": {
      "image/png": "[encoded data removed]",
      "text/plain": [
       "<matplotlib.figure.Figure at 0x1a0ded1e90>"
      ]
     },
     "metadata": {},
     "output_type": "display_data"
    },
    {
     "data": {
      "image/png": "[encoded data removed]",
      "text/plain": [
       "<matplotlib.figure.Figure at 0x1a0b5a97d0>"
      ]
     },
     "metadata": {},
     "output_type": "display_data"
    }
   ],
   "source": [
    "for etape in etapes:\n",
    "    ax=dictDist[etape].plot(kind=\"bar\",figsize=(10,3),label=\"Lexemes by number of co-forms\")\n",
    "    ax.set_ylim(0,600)\n",
    "    plt.show()"
   ]
  },
  {
   "cell_type": "code",
   "execution_count": 91,
   "metadata": {},
   "outputs": [
    {
     "data": {
      "text/plain": [
       "452"
      ]
     },
     "execution_count": 91,
     "metadata": {},
     "output_type": "execute_result"
    }
   ],
   "source": [
    "dfIsolatedCelleForms=pd.Series(data=dictIsolatedCellForms)\n",
    "dfIsolatedCelleForms.min()"
   ]
  },
  {
   "cell_type": "code",
   "execution_count": 102,
   "metadata": {},
   "outputs": [
    {
     "data": {
      "image/png": "[encoded data removed]",
      "text/plain": [
       "<matplotlib.figure.Figure at 0x1a0dce7510>"
      ]
     },
     "metadata": {},
     "output_type": "display_data"
    }
   ],
   "source": [
    "ax=dfIsolatedCelleForms.plot(figsize=(6,3),linewidth=3)\n",
    "ax.set_xlabel(\"Sample size in tokens\")#,fontsize=16)\n",
    "ax.set_ylabel(\"Number of cell-forms\")#,fontsize=16)\n",
    "ax.set_ylim(0,1000)\n",
    "ax.xaxis.set_major_formatter(ticker.FuncFormatter(reFormatTicks))\n",
    "ax.axhline(452,linestyle=\"--\",label=\"Minimum\")\n",
    "plt.yticks(list(plt.yticks()[0]) + [452])\n",
    "handles, labels = ax.get_legend_handles_labels()\n",
    "labels=[\"Isolated Cell-Forms\", \"Minimum\"]\n",
    "ax.legend(handles, labels)\n",
    "plt.grid()\n",
    "plt.savefig(\"Hapax.png\",dpi=300, bbox_inches=\"tight\")"
   ]
  },
  {
   "cell_type": "code",
   "execution_count": 96,
   "metadata": {
    "collapsed": true,
    "scrolled": true
   },
   "outputs": [],
   "source": [
    "dictIsolatedCellFormsOMP={}\n",
    "for OMP in listeOMP[:]:\n",
    "    df=lireEchantillon(OMP)\n",
    "    dictIsolatedCellFormsOMP[getTokens(OMP)]=len(df)-len(df.dropna(thresh=2))"
   ]
  },
  {
   "cell_type": "code",
   "execution_count": 97,
   "metadata": {},
   "outputs": [
    {
     "data": {
      "text/plain": [
       "474"
      ]
     },
     "execution_count": 97,
     "metadata": {},
     "output_type": "execute_result"
    }
   ],
   "source": [
    "dfIsolatedCelleFormsOMP=pd.Series(data=dictIsolatedCellFormsOMP)\n",
    "dfIsolatedCelleFormsOMP.min()"
   ]
  },
  {
   "cell_type": "code",
   "execution_count": 119,
   "metadata": {},
   "outputs": [
    {
     "data": {
      "image/png": "[encoded data removed]",
      "text/plain": [
       "<matplotlib.figure.Figure at 0x1a0a9d5b10>"
      ]
     },
     "metadata": {},
     "output_type": "display_data"
    }
   ],
   "source": [
    "ax=dfIsolatedCelleFormsOMP.plot(figsize=(6,3),linewidth=3)\n",
    "ax.set_xlabel(\"Sample size in tokens\")#,fontsize=16)\n",
    "ax.set_ylabel(\"Number of cell-forms\")#,fontsize=16)\n",
    "ax.set_ylim(0,1000)\n",
    "ax.xaxis.set_major_formatter(ticker.FuncFormatter(reFormatTicks))\n",
    "ax.axhline(474,linestyle=\"--\",label=\"Minimum\")\n",
    "plt.yticks(list(plt.yticks()[0]) + [474])\n",
    "handles, labels = ax.get_legend_handles_labels()\n",
    "labels=[\"Isolated OMP Cell-Forms\", \"Minimum\"]\n",
    "ax.legend(handles, labels)\n",
    "plt.grid()\n",
    "plt.savefig(\"HapaxOMP.png\",dpi=300, bbox_inches=\"tight\")"
   ]
  },
  {
   "cell_type": "code",
   "execution_count": 106,
   "metadata": {},
   "outputs": [
    {
     "data": {
      "text/plain": [
       "10000         2.840186\n",
       "20000         3.283051\n",
       "30000         3.666667\n",
       "40000         3.896582\n",
       "50000         4.115652\n",
       "60000         4.325635\n",
       "70000         4.494287\n",
       "80000         4.643110\n",
       "90000         4.794188\n",
       "100000        4.921088\n",
       "110000        5.028691\n",
       "120000        5.142948\n",
       "130000        5.262667\n",
       "140000        5.375765\n",
       "150000        5.463568\n",
       "160000        5.553751\n",
       "170000        5.652936\n",
       "180000        5.732143\n",
       "190000        5.816885\n",
       "200000        5.872994\n",
       "210000        5.954583\n",
       "220000        6.027295\n",
       "230000        6.086719\n",
       "240000        6.148568\n",
       "250000        6.205300\n",
       "260000        6.283665\n",
       "270000        6.335263\n",
       "280000        6.401047\n",
       "290000        6.461899\n",
       "300000        6.514205\n",
       "               ...    \n",
       "11000000     12.508658\n",
       "12000000     12.585978\n",
       "13000000     12.661352\n",
       "14000000     12.717643\n",
       "15000000     12.767702\n",
       "16000000     12.807147\n",
       "17000000     12.844381\n",
       "18000000     12.876958\n",
       "19000000     12.904807\n",
       "20000000     12.930522\n",
       "21000000     12.950339\n",
       "22000000     12.973298\n",
       "23000000     12.996992\n",
       "24000000     13.022556\n",
       "25000000     13.046223\n",
       "26000000     13.070060\n",
       "27000000     13.077486\n",
       "28000000     13.091710\n",
       "29000000     13.108549\n",
       "30000000     13.119355\n",
       "40000000     13.247895\n",
       "50000000     13.322316\n",
       "60000000     13.374860\n",
       "70000000     13.403241\n",
       "80000000     13.429023\n",
       "90000000     13.455289\n",
       "100000000    13.470829\n",
       "110000000    13.493497\n",
       "120000000    13.510405\n",
       "130000000    13.517741\n",
       "dtype: float64"
      ]
     },
     "execution_count": 106,
     "metadata": {},
     "output_type": "execute_result"
    }
   ],
   "source": [
    "dfCoforms=pd.Series(data=dictCoforms)\n",
    "dfCoforms"
   ]
  },
  {
   "cell_type": "code",
   "execution_count": 118,
   "metadata": {},
   "outputs": [
    {
     "data": {
      "image/png": "[encoded data removed]",
      "text/plain": [
       "<matplotlib.figure.Figure at 0x1a0b528990>"
      ]
     },
     "metadata": {},
     "output_type": "display_data"
    }
   ],
   "source": [
    "ax=dfCoforms.plot(figsize=(6,3),linewidth=3)\n",
    "ax.set_xlabel(\"Sample size in tokens\")#,fontsize=16)\n",
    "ax.set_ylabel(\"Number of co-forms\")#,fontsize=16)\n",
    "ax.set_ylim(0,19)\n",
    "ax.xaxis.set_major_formatter(ticker.FuncFormatter(reFormatTicks))\n",
    "ax.axhline(13.52,linestyle=\"--\",label=\"Minimum\")\n",
    "plt.yticks(list(plt.yticks()[0]) + [13.52])\n",
    "handles, labels = ax.get_legend_handles_labels()\n",
    "labels=[\"Average number of co-forms\", \"Maximum\"]\n",
    "ax.legend(handles, labels)\n",
    "plt.grid()\n",
    "plt.savefig(\"MeanNbForms.png\",dpi=300, bbox_inches=\"tight\")"
   ]
  }
 ],
 "metadata": {
  "kernelspec": {
   "display_name": "Python 2",
   "language": "python",
   "name": "python2"
  },
  "language_info": {
   "codemirror_mode": {
    "name": "ipython",
    "version": 2
   },
   "file_extension": ".py",
   "mimetype": "text/x-python",
   "name": "python",
   "nbconvert_exporter": "python",
   "pygments_lexer": "ipython2",
   "version": "2.7.11"
  }
 },
 "nbformat": 4,
 "nbformat_minor": 1
}
