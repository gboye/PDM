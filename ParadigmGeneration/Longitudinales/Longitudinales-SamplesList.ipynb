{
 "cells": [
  {
   "cell_type": "code",
   "execution_count": 24,
   "metadata": {
    "collapsed": true
   },
   "outputs": [],
   "source": [
    "import pandas as pd\n",
    "import glob,pickle"
   ]
  },
  {
   "cell_type": "code",
   "execution_count": 60,
   "metadata": {},
   "outputs": [
    {
     "data": {
      "text/plain": [
       "['/Volumes/gilles/Transfert/Copies-iMac-GB/2015-Data/Longitudinales/Longitudinal-00-T10000-F3663.pkl',\n",
       " '/Volumes/gilles/Transfert/Copies-iMac-GB/2015-Data/Longitudinales/Longitudinal-01-T20000-F5816.pkl',\n",
       " '/Volumes/gilles/Transfert/Copies-iMac-GB/2015-Data/Longitudinales/Longitudinal-02-T30000-F7497.pkl',\n",
       " '/Volumes/gilles/Transfert/Copies-iMac-GB/2015-Data/Longitudinales/Longitudinal-03-T40000-F8900.pkl',\n",
       " '/Volumes/gilles/Transfert/Copies-iMac-GB/2015-Data/Longitudinales/Longitudinal-04-T50000-F10082.pkl',\n",
       " '/Volumes/gilles/Transfert/Copies-iMac-GB/2015-Data/Longitudinales/Longitudinal-05-T60000-F11252.pkl',\n",
       " '/Volumes/gilles/Transfert/Copies-iMac-GB/2015-Data/Longitudinales/Longitudinal-06-T70000-F12207.pkl',\n",
       " '/Volumes/gilles/Transfert/Copies-iMac-GB/2015-Data/Longitudinales/Longitudinal-07-T80000-F13155.pkl',\n",
       " '/Volumes/gilles/Transfert/Copies-iMac-GB/2015-Data/Longitudinales/Longitudinal-08-T90000-F14038.pkl',\n",
       " '/Volumes/gilles/Transfert/Copies-iMac-GB/2015-Data/Longitudinales/Longitudinal-09-T100000-F14858.pkl',\n",
       " '/Volumes/gilles/Transfert/Copies-iMac-GB/2015-Data/Longitudinales/Longitudinal-10-T110000-F15616.pkl',\n",
       " '/Volumes/gilles/Transfert/Copies-iMac-GB/2015-Data/Longitudinales/Longitudinal-11-T120000-F16280.pkl',\n",
       " '/Volumes/gilles/Transfert/Copies-iMac-GB/2015-Data/Longitudinales/Longitudinal-12-T130000-F16948.pkl',\n",
       " '/Volumes/gilles/Transfert/Copies-iMac-GB/2015-Data/Longitudinales/Longitudinal-13-T140000-F17587.pkl',\n",
       " '/Volumes/gilles/Transfert/Copies-iMac-GB/2015-Data/Longitudinales/Longitudinal-14-T150000-F18240.pkl',\n",
       " '/Volumes/gilles/Transfert/Copies-iMac-GB/2015-Data/Longitudinales/Longitudinal-15-T160000-F18824.pkl',\n",
       " '/Volumes/gilles/Transfert/Copies-iMac-GB/2015-Data/Longitudinales/Longitudinal-16-T170000-F19369.pkl',\n",
       " '/Volumes/gilles/Transfert/Copies-iMac-GB/2015-Data/Longitudinales/Longitudinal-17-T180000-F19921.pkl',\n",
       " '/Volumes/gilles/Transfert/Copies-iMac-GB/2015-Data/Longitudinales/Longitudinal-18-T190000-F20415.pkl',\n",
       " '/Volumes/gilles/Transfert/Copies-iMac-GB/2015-Data/Longitudinales/Longitudinal-19-T200000-F20877.pkl',\n",
       " '/Volumes/gilles/Transfert/Copies-iMac-GB/2015-Data/Longitudinales/Longitudinal-20-T210000-F21393.pkl',\n",
       " '/Volumes/gilles/Transfert/Copies-iMac-GB/2015-Data/Longitudinales/Longitudinal-21-T220000-F21883.pkl',\n",
       " '/Volumes/gilles/Transfert/Copies-iMac-GB/2015-Data/Longitudinales/Longitudinal-22-T230000-F22343.pkl',\n",
       " '/Volumes/gilles/Transfert/Copies-iMac-GB/2015-Data/Longitudinales/Longitudinal-23-T240000-F22786.pkl',\n",
       " '/Volumes/gilles/Transfert/Copies-iMac-GB/2015-Data/Longitudinales/Longitudinal-24-T250000-F23208.pkl',\n",
       " '/Volumes/gilles/Transfert/Copies-iMac-GB/2015-Data/Longitudinales/Longitudinal-25-T260000-F23683.pkl',\n",
       " '/Volumes/gilles/Transfert/Copies-iMac-GB/2015-Data/Longitudinales/Longitudinal-26-T270000-F24099.pkl',\n",
       " '/Volumes/gilles/Transfert/Copies-iMac-GB/2015-Data/Longitudinales/Longitudinal-27-T280000-F24478.pkl',\n",
       " '/Volumes/gilles/Transfert/Copies-iMac-GB/2015-Data/Longitudinales/Longitudinal-28-T290000-F24873.pkl',\n",
       " '/Volumes/gilles/Transfert/Copies-iMac-GB/2015-Data/Longitudinales/Longitudinal-29-T300000-F25250.pkl',\n",
       " '/Volumes/gilles/Transfert/Copies-iMac-GB/2015-Data/Longitudinales/Longitudinal-30-T310000-F25601.pkl',\n",
       " '/Volumes/gilles/Transfert/Copies-iMac-GB/2015-Data/Longitudinales/Longitudinal-31-T320000-F25943.pkl',\n",
       " '/Volumes/gilles/Transfert/Copies-iMac-GB/2015-Data/Longitudinales/Longitudinal-32-T330000-F26307.pkl',\n",
       " '/Volumes/gilles/Transfert/Copies-iMac-GB/2015-Data/Longitudinales/Longitudinal-33-T340000-F26618.pkl',\n",
       " '/Volumes/gilles/Transfert/Copies-iMac-GB/2015-Data/Longitudinales/Longitudinal-34-T350000-F26970.pkl',\n",
       " '/Volumes/gilles/Transfert/Copies-iMac-GB/2015-Data/Longitudinales/Longitudinal-35-T360000-F27287.pkl',\n",
       " '/Volumes/gilles/Transfert/Copies-iMac-GB/2015-Data/Longitudinales/Longitudinal-36-T370000-F27613.pkl',\n",
       " '/Volumes/gilles/Transfert/Copies-iMac-GB/2015-Data/Longitudinales/Longitudinal-37-T380000-F27920.pkl',\n",
       " '/Volumes/gilles/Transfert/Copies-iMac-GB/2015-Data/Longitudinales/Longitudinal-38-T390000-F28222.pkl',\n",
       " '/Volumes/gilles/Transfert/Copies-iMac-GB/2015-Data/Longitudinales/Longitudinal-39-T400000-F28522.pkl',\n",
       " '/Volumes/gilles/Transfert/Copies-iMac-GB/2015-Data/Longitudinales/Longitudinal-40-T410000-F28780.pkl',\n",
       " '/Volumes/gilles/Transfert/Copies-iMac-GB/2015-Data/Longitudinales/Longitudinal-41-T420000-F29060.pkl',\n",
       " '/Volumes/gilles/Transfert/Copies-iMac-GB/2015-Data/Longitudinales/Longitudinal-42-T430000-F29345.pkl',\n",
       " '/Volumes/gilles/Transfert/Copies-iMac-GB/2015-Data/Longitudinales/Longitudinal-43-T440000-F29599.pkl',\n",
       " '/Volumes/gilles/Transfert/Copies-iMac-GB/2015-Data/Longitudinales/Longitudinal-44-T450000-F29888.pkl',\n",
       " '/Volumes/gilles/Transfert/Copies-iMac-GB/2015-Data/Longitudinales/Longitudinal-45-T460000-F30160.pkl',\n",
       " '/Volumes/gilles/Transfert/Copies-iMac-GB/2015-Data/Longitudinales/Longitudinal-46-T470000-F30425.pkl',\n",
       " '/Volumes/gilles/Transfert/Copies-iMac-GB/2015-Data/Longitudinales/Longitudinal-47-T480000-F30675.pkl',\n",
       " '/Volumes/gilles/Transfert/Copies-iMac-GB/2015-Data/Longitudinales/Longitudinal-48-T490000-F30909.pkl',\n",
       " '/Volumes/gilles/Transfert/Copies-iMac-GB/2015-Data/Longitudinales/Longitudinal-49-T500000-F31170.pkl',\n",
       " '/Volumes/gilles/Transfert/Copies-iMac-GB/2015-Data/Longitudinales/Longitudinal-50-T600000-F33424.pkl',\n",
       " '/Volumes/gilles/Transfert/Copies-iMac-GB/2015-Data/Longitudinales/Longitudinal-51-T700000-F35357.pkl',\n",
       " '/Volumes/gilles/Transfert/Copies-iMac-GB/2015-Data/Longitudinales/Longitudinal-52-T800000-F36975.pkl',\n",
       " '/Volumes/gilles/Transfert/Copies-iMac-GB/2015-Data/Longitudinales/Longitudinal-53-T900000-F38562.pkl',\n",
       " '/Volumes/gilles/Transfert/Copies-iMac-GB/2015-Data/Longitudinales/Longitudinal-54-T1000000-F39898.pkl',\n",
       " '/Volumes/gilles/Transfert/Copies-iMac-GB/2015-Data/Longitudinales/Longitudinal-55-T1100000-F41134.pkl']"
      ]
     },
     "execution_count": 60,
     "metadata": {},
     "output_type": "execute_result"
    }
   ],
   "source": [
    "longitudinalesRep=\"/Volumes/gilles/Transfert/Copies-iMac-GB/2015-Data/Longitudinales/\"\n",
    "longitudinaleNoms=sorted(glob.glob(longitudinalesRep+\"Longitudinal*[0-9].pkl\"))\n",
    "longitudinaleNoms"
   ]
  },
  {
   "cell_type": "code",
   "execution_count": 19,
   "metadata": {
    "collapsed": true
   },
   "outputs": [],
   "source": [
    "samplesRep=\"/Volumes/gilles/Transfert/Copies-iMac-GB/2015-Data/Samples/Verbes3/\"\n",
    "samplesNoms=glob.glob(samplesRep+\"*-Tirage.pkl\")"
   ]
  },
  {
   "cell_type": "code",
   "execution_count": 20,
   "metadata": {
    "collapsed": true
   },
   "outputs": [],
   "source": [
    "def tiragesNom(nom,listeTirages=samplesNoms):\n",
    "    result=[tirage for tirage in listeTirages if nom in tirage]\n",
    "    return sorted(result)"
   ]
  },
  {
   "cell_type": "code",
   "execution_count": null,
   "metadata": {
    "collapsed": true
   },
   "outputs": [],
   "source": [
    "samplesTailles=[\"10Ko\",\"100Ko\"]\n",
    "samples={t:tiragesNom(t) for t in samplesTailles}"
   ]
  },
  {
   "cell_type": "code",
   "execution_count": 22,
   "metadata": {
    "collapsed": true
   },
   "outputs": [],
   "source": [
    "def lireLexique(nomLexique):\n",
    "    with open(nomLexique, 'rb') as input:\n",
    "        lexique=pickle.load(input)\n",
    "    return lexique"
   ]
  },
  {
   "cell_type": "code",
   "execution_count": null,
   "metadata": {
    "collapsed": true
   },
   "outputs": [],
   "source": [
    "def diffDF(nom1,nom2):\n",
    "    sampleCourant=lireLexique(nom2)\n",
    "    df1,df2=lireLexique(nom1).align(sampleCourant)\n",
    "    df=df2[\"tir1\"].fillna(value=0)-df1[\"tir1\"].fillna(value=0)\n",
    "    return df"
   ]
  },
  {
   "cell_type": "markdown",
   "metadata": {},
   "source": [
    "Il y a un pb avec la détection qui ne marche pas la deuxième fois ?"
   ]
  },
  {
   "cell_type": "code",
   "execution_count": 120,
   "metadata": {},
   "outputs": [],
   "source": [
    "def identifierSample(nom1,nom2):\n",
    "    df=diffDF(nom1,nom2)\n",
    "    origineNoms=tiragesNom(\"T%d-F%d\"%(df.sum(),len(df.nonzero()[0])))\n",
    "    if len(origineNoms)!=1:\n",
    "        origines=[]\n",
    "        for nom in origineNoms:\n",
    "            dfNom=lireLexique(nom)[\"tir1\"]\n",
    "            if (df-dfNom).sum()==0:\n",
    "                origines.append(nom)\n",
    "            else:\n",
    "                print \"\\trejet\",nom.split(\"/\")[-1]\n",
    "        origineNoms=origines\n",
    "    origineNom=\", \".join([o.split(\"/\")[-1] for o in origineNoms])\n",
    "    return origineNom"
   ]
  },
  {
   "cell_type": "code",
   "execution_count": 121,
   "metadata": {},
   "outputs": [
    {
     "name": "stdout",
     "output_type": "stream",
     "text": [
      "MGC-10Ko-16-T10000-F3627-Tirage.pkl\n",
      "\trejet MGC-10Ko-38-T10000-F3614-Tirage.pkl\n",
      "MGC-10Ko-49-T10000-F3614-Tirage.pkl\n",
      "\trejet MGC-10Ko-13-T10000-F3592-Tirage.pkl\n",
      "MGC-10Ko-14-T10000-F3592-Tirage.pkl\n",
      "MGC-10Ko-09-T10000-F3598-Tirage.pkl\n",
      "MGC-10Ko-29-T10000-F3701-Tirage.pkl\n",
      "\trejet MGC-10Ko-26-T10000-F3590-Tirage.pkl\n",
      "MGC-10Ko-28-T10000-F3590-Tirage.pkl\n",
      "MGC-10Ko-40-T10000-F3672-Tirage.pkl\n",
      "\trejet MGC-10Ko-27-T10000-F3594-Tirage.pkl\n",
      "MGC-10Ko-32-T10000-F3594-Tirage.pkl\n",
      "\trejet MGC-10Ko-22-T10000-F3644-Tirage.pkl\n",
      "MGC-10Ko-37-T10000-F3644-Tirage.pkl\n",
      "MGC-10Ko-27-T10000-F3594-Tirage.pkl, MGC-10Ko-32-T10000-F3594-Tirage.pkl\n",
      "MGC-10Ko-42-T10000-F3557-Tirage.pkl\n",
      "MGC-10Ko-46-T10000-F3640-Tirage.pkl\n",
      "MGC-10Ko-17-T10000-F3613-Tirage.pkl\n",
      "MGC-10Ko-10-T10000-F3647-Tirage.pkl\n",
      "MGC-10Ko-08-T10000-F3612-Tirage.pkl\n",
      "MGC-10Ko-07-T10000-F3626-Tirage.pkl\n",
      "MGC-10Ko-34-T10000-F3633-Tirage.pkl\n",
      "MGC-10Ko-43-T10000-F3561-Tirage.pkl\n",
      "MGC-10Ko-21-T10000-F3619-Tirage.pkl\n",
      "MGC-10Ko-15-T10000-F3669-Tirage.pkl\n",
      "MGC-10Ko-18-T10000-F3664-Tirage.pkl\n",
      "MGC-10Ko-47-T10000-F3698-Tirage.pkl\n",
      "MGC-10Ko-11-T10000-F3558-Tirage.pkl\n",
      "MGC-10Ko-00-T10000-F3634-Tirage.pkl\n",
      "MGC-10Ko-31-T10000-F3712-Tirage.pkl\n",
      "MGC-10Ko-01-T10000-F3686-Tirage.pkl\n",
      "\trejet MGC-10Ko-41-T10000-F3659-Tirage.pkl\n",
      "MGC-10Ko-39-T10000-F3659-Tirage.pkl\n",
      "MGC-10Ko-26-T10000-F3590-Tirage.pkl, MGC-10Ko-28-T10000-F3590-Tirage.pkl\n",
      "MGC-10Ko-06-T10000-F3649-Tirage.pkl\n",
      "MGC-10Ko-20-T10000-F3569-Tirage.pkl\n",
      "MGC-10Ko-12-T10000-F3636-Tirage.pkl\n",
      "MGC-10Ko-19-T10000-F3696-Tirage.pkl\n",
      "MGC-10Ko-33-T10000-F3629-Tirage.pkl\n",
      "\trejet MGC-10Ko-25-T10000-F3618-Tirage.pkl\n",
      "MGC-10Ko-05-T10000-F3618-Tirage.pkl\n",
      "MGC-10Ko-39-T10000-F3659-Tirage.pkl, MGC-10Ko-41-T10000-F3659-Tirage.pkl\n",
      "MGC-10Ko-30-T10000-F3625-Tirage.pkl\n",
      "MGC-10Ko-22-T10000-F3644-Tirage.pkl, MGC-10Ko-37-T10000-F3644-Tirage.pkl\n",
      "MGC-10Ko-13-T10000-F3592-Tirage.pkl, MGC-10Ko-14-T10000-F3592-Tirage.pkl\n",
      "MGC-10Ko-04-T10000-F3676-Tirage.pkl\n",
      "MGC-10Ko-23-T10000-F3595-Tirage.pkl\n",
      "MGC-10Ko-48-T10000-F3602-Tirage.pkl\n",
      "MGC-10Ko-02-T10000-F3700-Tirage.pkl\n",
      "MGC-10Ko-05-T10000-F3618-Tirage.pkl, MGC-10Ko-25-T10000-F3618-Tirage.pkl\n",
      "MGC-10Ko-35-T10000-F3742-Tirage.pkl\n",
      "MGC-10Ko-38-T10000-F3614-Tirage.pkl, MGC-10Ko-49-T10000-F3614-Tirage.pkl\n",
      "MGC-10Ko-03-T10000-F3606-Tirage.pkl\n",
      "MGC-10Ko-44-T10000-F3531-Tirage.pkl\n",
      "MGC-10Ko-24-T10000-F3604-Tirage.pkl\n",
      "MGC-10Ko-45-T10000-F3652-Tirage.pkl\n",
      "MGC-100Ko-16-T100000-F14845-Tirage.pkl\n",
      "MGC-100Ko-26-T100000-F14857-Tirage.pkl\n",
      "MGC-100Ko-15-T100000-F14718-Tirage.pkl\n",
      "MGC-100Ko-29-T100000-F14954-Tirage.pkl\n",
      "\trejet MGC-100Ko-10-T100000-F14871-Tirage.pkl\n",
      "MGC-100Ko-38-T100000-F14871-Tirage.pkl\n",
      "\trejet MGC-100Ko-31-T100000-F14872-Tirage.pkl\n",
      "MGC-100Ko-05-T100000-F14872-Tirage.pkl\n"
     ]
    }
   ],
   "source": [
    "for num2,nom2 in enumerate(longitudinaleNoms[1:]):\n",
    "    nom1=longitudinaleNoms[num2]\n",
    "#    print nom1.split(\"/\")[-1],nom2.split(\"/\")[-1]\n",
    "#    print \"numéro longitudinal\",num2\n",
    "    print identifierSample(nom1,nom2)"
   ]
  }
 ],
 "metadata": {
  "kernelspec": {
   "display_name": "Python 2",
   "language": "python",
   "name": "python2"
  },
  "language_info": {
   "codemirror_mode": {
    "name": "ipython",
    "version": 2
   },
   "file_extension": ".py",
   "mimetype": "text/x-python",
   "name": "python",
   "nbconvert_exporter": "python",
   "pygments_lexer": "ipython2",
   "version": "2.7.11"
  }
 },
 "nbformat": 4,
 "nbformat_minor": 2
}
