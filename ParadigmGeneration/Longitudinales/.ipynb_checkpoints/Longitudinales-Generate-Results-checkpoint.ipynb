{
 "cells": [
  {
   "cell_type": "code",
   "execution_count": null,
   "metadata": {},
   "outputs": [
    {
     "name": "stdout",
     "output_type": "stream",
     "text": [
      "début 2018-01-03 19:54:59.808416\n",
      "../MGC02-GenerateNetwork-ContextFree.py 14 -X \n",
      "\u0007\n",
      "14 -X \n",
      "-14-T150000-F18240\n",
      "/Volumes/gilles/Transfert/Copies-iMac-GB/2015-Data/Longitudinales/Longitudinal-14-T150000-F18240-X-paradigmes.csv\n",
      "2018-01-03 19:55:25.102260\n"
     ]
    },
    {
     "name": "stderr",
     "output_type": "stream",
     "text": [
      "/Users/gilles/anaconda/lib/python2.7/site-packages/pandas/core/indexing.py:284: SettingWithCopyWarning: \n",
      "A value is trying to be set on a copy of a slice from a DataFrame.\n",
      "Try using .loc[row_indexer,col_indexer] = value instead\n",
      "\n",
      "See the caveats in the documentation: http://pandas.pydata.org/pandas-docs/stable/indexing.html#indexing-view-versus-copy\n",
      "  self.obj[key] = _infer_fill_value(value)\n",
      "/Users/gilles/anaconda/lib/python2.7/site-packages/pandas/core/indexing.py:461: SettingWithCopyWarning: \n",
      "A value is trying to be set on a copy of a slice from a DataFrame.\n",
      "Try using .loc[row_indexer,col_indexer] = value instead\n",
      "\n",
      "See the caveats in the documentation: http://pandas.pydata.org/pandas-docs/stable/indexing.html#indexing-view-versus-copy\n",
      "  self.obj[item] = s\n",
      "/Users/gilles/anaconda/lib/python2.7/site-packages/pandas/core/indexing.py:545: SettingWithCopyWarning: \n",
      "A value is trying to be set on a copy of a slice from a DataFrame.\n",
      "Try using .loc[row_indexer,col_indexer] = value instead\n",
      "\n",
      "See the caveats in the documentation: http://pandas.pydata.org/pandas-docs/stable/indexing.html#indexing-view-versus-copy\n",
      "  self.obj[item_labels[indexer[info_axis]]] = value\n"
     ]
    },
    {
     "name": "stdout",
     "output_type": "stream",
     "text": [
      "UG 84055 OG 1188 TP 65840 FP 1184\n",
      "recall 0.435798489532 precision 0.965226059931\n",
      "0.60048063988\n",
      "\u0007\n",
      "2018-01-03 21:54:21.101695\n",
      "UG 66830 OG 1569 TP 83065 FP 2679\n",
      "recall 0.544424344908 precision 0.951347451124\n",
      "0.692534401614\n",
      "\u0007\n",
      "\u0007\n",
      "Sample 14-T150000-F18240\n",
      "Swim1 (84055, 1188, 65840, 1184) (0.965226059930804, 0.4357984895319667, 0.6004806398803416)\n",
      "Swim2 (66830, 1569, 83065, 2679) (0.9513474511241167, 0.5444243449080446, 0.6925344016140933)\n",
      "fin 2018-01-04 00:23:27.044185\n",
      "../MGC02-GenerateNetwork-ContextFree.py 14 -X \n",
      "début 2018-01-04 00:23:27.044405\n",
      "../MGC02-GenerateNetwork-ContextFree.py 14 -X -Morphomes\n",
      "\u0007\n",
      "14 -X -Morphomes\n",
      "-14-T150000-F18240\n",
      "/Volumes/gilles/Transfert/Copies-iMac-GB/2015-Data/Longitudinales/Longitudinal-14-T150000-F18240-X-paradigmes.csv\n",
      "2018-01-04 00:24:50.085087\n",
      "UG 61013 OG 1482 TP 88882 FP 7762\n",
      "recall 0.56376818029 precision 0.905794590628\n",
      "0.694979728911\n",
      "\u0007\n",
      "2018-01-04 01:45:06.517653\n",
      "UG 49204 OG 1867 TP 100691 FP 9114\n",
      "recall 0.633240885736 precision 0.90166738305\n",
      "0.743982769385\n",
      "\u0007\n",
      "\u0007\n",
      "Sample 14-T150000-F18240\n",
      "Swim1 (61013, 1482, 88882, 7762) (0.9057945906283758, 0.5637681802901235, 0.6949797289108346)\n",
      "Swim2 (49204, 1867, 100691, 9114) (0.9016673830503618, 0.6332408857360275, 0.7439827693853651)\n",
      "fin 2018-01-04 03:08:30.496885\n",
      "../MGC02-GenerateNetwork-ContextFree.py 14 -X -Morphomes\n",
      "début 2018-01-04 03:08:30.497060\n",
      "../MGC02-GenerateNetwork-ContextFree.py 15 -X \n",
      "\u0007\n",
      "15 -X \n",
      "-15-T160000-F18824\n",
      "/Volumes/gilles/Transfert/Copies-iMac-GB/2015-Data/Longitudinales/Longitudinal-15-T160000-F18824-X-paradigmes.csv\n",
      "2018-01-04 03:09:07.900878\n",
      "UG 83295 OG 1220 TP 68626 FP 1172\n",
      "recall 0.448263473836 precision 0.966318398153\n",
      "0.612428662582\n",
      "\u0007\n",
      "2018-01-04 05:12:22.819415\n",
      "UG 65846 OG 1604 TP 86075 FP 2680\n",
      "recall 0.556755777776 precision 0.952589116745\n",
      "0.702767798824\n",
      "\u0007\n",
      "\u0007\n",
      "Sample 15-T160000-F18824\n",
      "Swim1 (83295, 1220, 68626, 1172) (0.966318398152581, 0.44826347383616494, 0.612428662582381)\n",
      "Swim2 (65846, 1604, 86075, 2680) (0.9525891167454266, 0.5567557777763403, 0.7027677988242979)\n",
      "fin 2018-01-04 07:59:00.988597\n",
      "../MGC02-GenerateNetwork-ContextFree.py 15 -X \n",
      "début 2018-01-04 07:59:00.992749\n",
      "../MGC02-GenerateNetwork-ContextFree.py 15 -X -Morphomes\n",
      "\u0007\n",
      "15 -X -Morphomes\n",
      "-15-T160000-F18824\n",
      "/Volumes/gilles/Transfert/Copies-iMac-GB/2015-Data/Longitudinales/Longitudinal-15-T160000-F18824-X-paradigmes.csv\n",
      "2018-01-04 08:00:58.763214\n",
      "UG 60753 OG 1485 TP 91168 FP 4844\n",
      "recall 0.581558383568 precision 0.935085182108\n",
      "0.717118562742\n",
      "\u0007\n",
      "2018-01-04 09:24:24.128976\n"
     ]
    }
   ],
   "source": [
    "import datetime\n",
    "for i in range(14,20):\n",
    "    for caseType in [\"\",\"-Morphomes\"]:   \n",
    "        cli=\"../MGC02-GenerateNetwork-ContextFree.py %02d -X %s\"%(i,caseType)\n",
    "        print \"début\",datetime.datetime.now()\n",
    "        print cli\n",
    "        %run $cli\n",
    "        print \"fin\",datetime.datetime.now()\n",
    "        print cli\n",
    "        %whos"
   ]
  },
  {
   "cell_type": "code",
   "execution_count": null,
   "metadata": {
    "collapsed": true
   },
   "outputs": [],
   "source": []
  }
 ],
 "metadata": {
  "kernelspec": {
   "display_name": "Python 2",
   "language": "python",
   "name": "python2"
  },
  "language_info": {
   "codemirror_mode": {
    "name": "ipython",
    "version": 2
   },
   "file_extension": ".py",
   "mimetype": "text/x-python",
   "name": "python",
   "nbconvert_exporter": "python",
   "pygments_lexer": "ipython2",
   "version": "2.7.11"
  }
 },
 "nbformat": 4,
 "nbformat_minor": 2
}
