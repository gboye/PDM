{
 "cells": [
  {
   "cell_type": "code",
   "execution_count": 258,
   "metadata": {
    "collapsed": true
   },
   "outputs": [],
   "source": [
    "import pandas as pd\n",
    "import glob,re,pickle,os,yaml,datetime"
   ]
  },
  {
   "cell_type": "code",
   "execution_count": 259,
   "metadata": {
    "collapsed": true
   },
   "outputs": [],
   "source": [
    "debut=datetime.datetime.now()\n",
    "filePrefix=\"/Volumes/gilles/Transfert/Copies-iMac-GB/2015-Data/Longitudinales/\"\n",
    "sampleFiles=glob.glob(filePrefix+\"Longitudinal*.csv\")"
   ]
  },
  {
   "cell_type": "code",
   "execution_count": 260,
   "metadata": {
    "collapsed": true
   },
   "outputs": [],
   "source": [
    "def prefixEchantillon(numero):\n",
    "    candidats=[]\n",
    "    for sample in sampleFiles:\n",
    "        m=re.match(ur\"^.*/(Longitudinal-%s-T\\d+-F\\d+)%s-paradigmes\\.csv\"%(numero,casesType),sample)\n",
    "        if m:\n",
    "            candidats.append(m.group(1))\n",
    "    if len(candidats)==1:\n",
    "        return candidats[0]\n",
    "    else:\n",
    "        print \"PB pas de nom unique correspondant\",candidats"
   ]
  },
  {
   "cell_type": "code",
   "execution_count": 261,
   "metadata": {},
   "outputs": [
    {
     "name": "stdout",
     "output_type": "stream",
     "text": [
      "/Volumes/gilles/Transfert/Copies-iMac-GB/2015-Data/Longitudinales/Longitudinal-00-T10000-F3663-X-Morphomes-paradigmes-Swim1.csv\n"
     ]
    }
   ],
   "source": [
    "numeroEchantillon=\"00\"\n",
    "sampleType=\"-X\"\n",
    "casesType=\"-X-Morphomes\"\n",
    "etapeSwim=\"-Swim1\"\n",
    "samplePrefix=prefixEchantillon(numeroEchantillon)\n",
    "initialFile=filePrefix+samplePrefix+\"-X-paradigmes.csv\"\n",
    "analysisPrefix=filePrefix+samplePrefix+casesType\n",
    "predictionsFile=analysisPrefix+\"-paradigmes%s.csv\"%etapeSwim\n",
    "print predictionsFile\n",
    "referenceFile=\"/Volumes/gilles/Transfert/Copies-iMac-GB/2015-Data/MGC-171229-Verbes3.pkl\""
   ]
  },
  {
   "cell_type": "markdown",
   "metadata": {},
   "source": [
    "## Réglages de la variante phonologique"
   ]
  },
  {
   "cell_type": "code",
   "execution_count": 262,
   "metadata": {},
   "outputs": [],
   "source": [
    "phonologicalMap=sampleType.strip(\"-\")\n",
    "neutralisationsNORD=(u\"6û\",u\"9ê\")\n",
    "neutralisationsSUD=(u\"e2o\",u\"E9O\")\n",
    "if phonologicalMap==\"N\":\n",
    "    neutralisations=neutralisationsNORD\n",
    "elif phonologicalMap==\"S\":\n",
    "    neutralisations=neutralisationsSUD\n",
    "else:\n",
    "    neutralisations=(u\"\",u\"\")\n",
    "    phonologicalMap=(\"X\")\n",
    "bdlexiqueIn = unicode(u\"èò\"+neutralisations[0])\n",
    "bdlexiqueNum = [ord(char) for char in bdlexiqueIn]\n",
    "neutreOut = unicode(u\"EO\"+neutralisations[1])\n",
    "neutralise = dict(zip(bdlexiqueNum, neutreOut))"
   ]
  },
  {
   "cell_type": "code",
   "execution_count": 263,
   "metadata": {
    "collapsed": true
   },
   "outputs": [],
   "source": [
    "def recoder(chaine,table=neutralise):\n",
    "    if type(chaine)==str:\n",
    "        temp=unicode(chaine.decode('utf8')).translate(table)\n",
    "        result=temp.encode('utf8')\n",
    "    elif type(chaine)==unicode:\n",
    "        result=chaine.translate(table)\n",
    "    else:\n",
    "        result=chaine\n",
    "    return result"
   ]
  },
  {
   "cell_type": "code",
   "execution_count": 264,
   "metadata": {
    "collapsed": true
   },
   "outputs": [],
   "source": [
    "dierese={\"j\":\"ij\", \"w\":\"uw\",\"H\":\"yH\",\"i\":\"ij\",\"u\":\"uw\",\"y\":\"yH\"}"
   ]
  },
  {
   "cell_type": "code",
   "execution_count": 265,
   "metadata": {
    "collapsed": true
   },
   "outputs": [],
   "source": [
    "def checkFrench(prononciation):\n",
    "    if prononciation:\n",
    "        result=recoder(prononciation)\n",
    "        m=re.match(ur\"^.*([^ieèEaOouy926êôâ])[jwH]$\",result)\n",
    "        if m:\n",
    "            print (\"pb avec un glide final\", prononciation)\n",
    "        m=re.match(ur\"(.*[ptkbdgfsSvzZ][rl])([jwH])(.*)\",result)\n",
    "        if m:\n",
    "            n=re.search(ur\"[ptkbdgfsSvzZ][rl](wa|Hi|wê)\",result)\n",
    "            if not n:\n",
    "                glide=m.group(2)\n",
    "                result=m.group(1)+dierese[glide]+m.group(3)\n",
    "        m=re.match(ur\"(.*)([iuy])([ieEaOouy].*)\",result)\n",
    "        if m:\n",
    "            glide=m.group(2)\n",
    "            result=m.group(1)+dierese[glide]+m.group(3)\n",
    "        result=result.replace(\"Jj\",\"J\")\n",
    "    else:\n",
    "        result=prononciation\n",
    "    return result"
   ]
  },
  {
   "cell_type": "markdown",
   "metadata": {},
   "source": [
    "## Formes de l'échantillon"
   ]
  },
  {
   "cell_type": "code",
   "execution_count": 286,
   "metadata": {},
   "outputs": [
    {
     "name": "stdout",
     "output_type": "stream",
     "text": [
      "\n"
     ]
    }
   ],
   "source": [
    "initialParadigmes=pd.read_csv(initialFile,sep=\";\",encoding=\"utf8\")\n",
    "del initialParadigmes[u\"Unnamed: 0\"]\n",
    "initialParadigmes=initialParadigmes.dropna(axis=1,how='all')\n",
    "initialParadigmesColumns=initialParadigmes.columns.tolist()\n",
    "listeLexemes=initialParadigmes[\"lexeme\"].tolist()\n",
    "nbLexemes=len(listeLexemes)"
   ]
  },
  {
   "cell_type": "code",
   "execution_count": 267,
   "metadata": {
    "collapsed": true
   },
   "outputs": [],
   "source": [
    "initialForms=pd.melt(initialParadigmes[initialParadigmes[\"lexeme\"].isin(listeLexemes)],id_vars=[\"lexeme\"]).dropna()\n",
    "initialForms[\"lexeme-case\"]=initialForms[\"lexeme\"]+\"-\"+initialForms[\"variable\"]\n",
    "initialForms.drop(labels=[\"lexeme\",\"variable\"],axis=1,inplace=True)\n",
    "initialForms.set_index([\"lexeme-case\"],inplace=True)\n",
    "initialFormsIndex=initialForms.index.tolist()"
   ]
  },
  {
   "cell_type": "markdown",
   "metadata": {},
   "source": [
    "## Formes de l'échantillon avec les prédictions"
   ]
  },
  {
   "cell_type": "code",
   "execution_count": 268,
   "metadata": {},
   "outputs": [],
   "source": [
    "predictedParadigmes=pd.read_csv(predictionsFile,sep=\";\",encoding=\"utf8\")\n",
    "del predictedParadigmes[u\"Unnamed: 0\"]\n",
    "predictedParadigmes=predictedParadigmes.loc[:,predictedParadigmes.columns.isin(initialParadigmesColumns)].dropna(axis=1,how='all')\n",
    "if listeLexemes!=predictedParadigmes[\"lexeme\"].tolist():\n",
    "    print \"PB avec la liste des lexèmes prédits\"\n",
    "if set(initialParadigmesColumns)!=set(predictedParadigmes.columns.tolist()):\n",
    "    print \"PB avec la liste des cases prédites\"\n",
    "    print predictedParadigmes.columns.tolist()\n",
    "    print initialParadigmesColumns"
   ]
  },
  {
   "cell_type": "code",
   "execution_count": 269,
   "metadata": {
    "collapsed": true
   },
   "outputs": [],
   "source": [
    "predictedForms=pd.melt(predictedParadigmes[predictedParadigmes[\"lexeme\"].isin(listeLexemes)],id_vars=[\"lexeme\"]).dropna()\n",
    "predictedForms[\"lexeme-case\"]=predictedForms[\"lexeme\"]+\"-\"+predictedForms[\"variable\"]\n",
    "predictedForms.drop(labels=[\"lexeme\",\"variable\"],axis=1,inplace=True)\n",
    "predictedForms.set_index([\"lexeme-case\"],inplace=True)\n",
    "predictedFormsIndex=predictedForms.index.tolist()"
   ]
  },
  {
   "cell_type": "markdown",
   "metadata": {},
   "source": [
    "## Formes de référence"
   ]
  },
  {
   "cell_type": "code",
   "execution_count": 270,
   "metadata": {},
   "outputs": [],
   "source": [
    "with open(referenceFile,\"rb\") as input:\n",
    "    lexiqueGold=pickle.load(input)\n",
    "\n",
    "'''Rectifications phonologiques'''\n",
    "lexiqueGold[\"phono\"]=lexiqueGold[\"phono\"].apply(lambda x: checkFrench(x))\n",
    "completeParadigmes=pd.pivot_table(lexiqueGold, values='phono', index=['lexeme'], columns=['case'], aggfunc=lambda x: \",\".join(x)).reset_index().reindex()\n",
    "\n",
    "'''Identification des cases présentes initialement'''\n",
    "completeParadigmes=completeParadigmes.loc[:,completeParadigmes.columns.isin(initialParadigmesColumns)]\n",
    "\n",
    "'''Mise en liste des formes de références'''\n",
    "goldTestForms=pd.melt(completeParadigmes[completeParadigmes[\"lexeme\"].isin(listeLexemes)],id_vars=[\"lexeme\"]).dropna()\n",
    "goldTestForms[\"lexeme-case\"]=goldTestForms[\"lexeme\"]+\"-\"+goldTestForms[\"case\"]\n",
    "goldTestForms.drop(labels=[\"lexeme\",\"case\"],axis=1,inplace=True)\n",
    "goldTestForms.set_index([\"lexeme-case\"],inplace=True)\n",
    "\n",
    "'''Extraction des formes de références pertinentes'''\n",
    "goldForms=goldTestForms.loc[~goldTestForms.index.isin(initialFormsIndex)]\n",
    "goldFormsIndex=goldForms.index.tolist()"
   ]
  },
  {
   "cell_type": "code",
   "execution_count": 271,
   "metadata": {
    "collapsed": true
   },
   "outputs": [],
   "source": [
    "def countSplits(dfForms):\n",
    "    dfForms.loc[:,\"split\"]=dfForms.loc[:,\"value\"].str.split(\",\")\n",
    "    return dfForms[\"split\"].str.len().sum()\n"
   ]
  },
  {
   "cell_type": "code",
   "execution_count": 272,
   "metadata": {},
   "outputs": [],
   "source": [
    "'''Soustraire les formes initiales des prédictions'''\n",
    "finalForms=predictedForms.loc[~predictedForms.index.isin(initialFormsIndex)]\n",
    "finalFormsIndex=finalForms.index.tolist()"
   ]
  },
  {
   "cell_type": "code",
   "execution_count": 287,
   "metadata": {},
   "outputs": [
    {
     "name": "stdout",
     "output_type": "stream",
     "text": [
      "53859 formes à prédire à partir de 3663 formes de 1289 lexèmes\n"
     ]
    }
   ],
   "source": [
    "nbInitialForms=countSplits(initialForms)\n",
    "nbGoldForms=countSplits(goldForms)\n",
    "print nbGoldForms, \"formes à prédire à partir de\",nbInitialForms,\"formes de\",nbLexemes,\"lexèmes\""
   ]
  },
  {
   "cell_type": "code",
   "execution_count": 274,
   "metadata": {},
   "outputs": [
    {
     "name": "stdout",
     "output_type": "stream",
     "text": [
      "(33450, 186)\n"
     ]
    }
   ],
   "source": [
    "'''Calculer les sur/sous-générations'''\n",
    "underGeneration=goldForms.loc[~goldForms.index.isin(finalFormsIndex)]\n",
    "overGeneration=finalForms.loc[~finalForms.index.isin(goldFormsIndex)]\n",
    "print (countSplits(underGeneration),countSplits(overGeneration))"
   ]
  },
  {
   "cell_type": "code",
   "execution_count": 275,
   "metadata": {},
   "outputs": [
    {
     "data": {
      "text/plain": [
       "(20390, 20390)"
      ]
     },
     "execution_count": 275,
     "metadata": {},
     "output_type": "execute_result"
    }
   ],
   "source": [
    "'''Réduire les prédictions et la référence aux cases communes'''\n",
    "compareForms=finalForms.loc[finalForms.index.isin(goldFormsIndex)].copy()\n",
    "actualForms=goldForms.loc[goldForms.index.isin(finalFormsIndex)]\n",
    "len(compareForms),len(actualForms)"
   ]
  },
  {
   "cell_type": "code",
   "execution_count": 276,
   "metadata": {},
   "outputs": [
    {
     "data": {
      "text/plain": [
       "20390"
      ]
     },
     "execution_count": 276,
     "metadata": {},
     "output_type": "execute_result"
    }
   ],
   "source": [
    "'''Créer un tableau pour les comparaisons'''\n",
    "compareForms.loc[:,\"right\"]=actualForms.loc[:,\"value\"]\n",
    "countSplits(compareForms)"
   ]
  },
  {
   "cell_type": "code",
   "execution_count": 277,
   "metadata": {
    "collapsed": true
   },
   "outputs": [],
   "source": [
    "'''Séparer les cases identiques des cases différentes'''\n",
    "sameForms=compareForms[compareForms[\"value\"]==compareForms[\"right\"]]\n",
    "diffForms=compareForms[compareForms[\"value\"]!=compareForms[\"right\"]]"
   ]
  },
  {
   "cell_type": "code",
   "execution_count": 278,
   "metadata": {},
   "outputs": [
    {
     "name": "stdout",
     "output_type": "stream",
     "text": [
      "15205\n",
      "5185\n"
     ]
    }
   ],
   "source": [
    "print (countSplits(sameForms))\n",
    "print (countSplits(diffForms))"
   ]
  },
  {
   "cell_type": "code",
   "execution_count": 279,
   "metadata": {},
   "outputs": [],
   "source": [
    "'''Sauvegarder les comparatifs'''\n",
    "overGeneration.to_csv(path_or_buf=analysisPrefix+\"-overGeneration%s.csv\"%etapeSwim,encoding=\"utf8\")\n",
    "underGeneration.to_csv(path_or_buf=analysisPrefix+\"-underGeneration%s.csv\"%etapeSwim,encoding=\"utf8\")\n",
    "sameForms.to_csv(path_or_buf=analysisPrefix+\"-sameForms%s.csv\"%etapeSwim,encoding=\"utf8\")\n",
    "diffForms.to_csv(path_or_buf=analysisPrefix+\"-diffForms%s.csv\"%etapeSwim,encoding=\"utf8\")\n",
    " "
   ]
  },
  {
   "cell_type": "code",
   "execution_count": 280,
   "metadata": {
    "collapsed": true
   },
   "outputs": [],
   "source": [
    "'''Transformer les surabondances en liste'''\n",
    "diffForms.loc[:,\"split-value\"]=diffForms.loc[:,\"value\"].str.split(\",\")\n",
    "diffForms.loc[:,\"split-right\"]=diffForms.loc[:,\"right\"].str.split(\",\")\n",
    "\n",
    "'''Transformer les surabondances en set()'''\n",
    "diffForms.loc[:,\"split-value\"]=diffForms.loc[:,\"split-value\"].apply(set)\n",
    "diffForms.loc[:,\"split-right\"]=diffForms.loc[:,\"split-right\"].apply(set)\n",
    "    \n",
    "'''Calculer le nombre de formes (y compris surabondances)'''\n",
    "nbValues=diffForms[\"split-value\"].str.len().sum()\n",
    "nbRights=diffForms[\"split-right\"].str.len().sum()\n",
    "\n",
    "'''Calculer les identités et les inclusions'''\n",
    "nbIdenticalSets=diffForms[diffForms[\"split-value\"]==diffForms[\"split-right\"]][\"split-value\"].str.len().sum()\n",
    "nbIncludedSets=diffForms[diffForms[\"split-value\"]<diffForms[\"split-right\"]][\"split-value\"].str.len().sum()\n",
    "nbWrongForms=(nbValues-nbIdenticalSets-nbIncludedSets)\n",
    "underBonus=(nbRights-nbIdenticalSets-nbIncludedSets)"
   ]
  },
  {
   "cell_type": "code",
   "execution_count": 281,
   "metadata": {},
   "outputs": [
    {
     "name": "stdout",
     "output_type": "stream",
     "text": [
      "('UG', 38644, 'OG', 186, 'TP', 15215, 'FP', 5175)\n",
      "53859\n",
      "('recall', 0.2824968900276648, 'precision', 0.739453732503888)\n",
      "0.408813058373\n"
     ]
    }
   ],
   "source": [
    "UG=countSplits(underGeneration)+underBonus\n",
    "OG=countSplits(overGeneration)\n",
    "TP=countSplits(sameForms)+nbIdenticalSets+nbIncludedSets\n",
    "FP=nbWrongForms\n",
    "resultCharacteristics=(UG,OG,TP,FP)\n",
    "recall=float(TP)/(UG+TP)\n",
    "precision=float(TP)/(OG+TP+FP)\n",
    "fMeasure=2*recall*precision/(recall+precision)\n",
    "resultMeasures=(precision,recall,fMeasure)\n",
    "print (\"UG\",UG ,\"OG\",OG,\"TP\",TP,\"FP\",FP)\n",
    "print UG+TP\n",
    "print (\"recall\", recall, \"precision\", precision)\n",
    "print (fMeasure)"
   ]
  },
  {
   "cell_type": "code",
   "execution_count": 282,
   "metadata": {},
   "outputs": [
    {
     "name": "stdout",
     "output_type": "stream",
     "text": [
      "{'00-T10000-F3663-X-Morphomes': {'Swim1': {'FP': 5175, 'F-Measure': 0.4088130583730772, 'OG': 186, 'Recall': 0.2824968900276648, 'UG': 38644, 'Precision': 0.739453732503888, 'TP': 15215}}, '01-T20000-F5816-X-Morphomes': {'Swim1': {'FP': 7630, 'F-Measure': 0.5503173164097914, 'OG': 482, 'Recall': 0.419795132772232, 'Precision': 0.7986247300350023, 'TP': 32171, 'nbGoldForms': 76635, 'UG': 44464}}}\n"
     ]
    }
   ],
   "source": [
    "nomFichierResultats=filePrefix+\"Longitudinal-X-Resultats-Recalcul.yaml\"\n",
    "if os.path.isfile(nomFichierResultats):\n",
    "    with open(nomFichierResultats, 'r') as stream:\n",
    "        resultats=yaml.load(stream)\n",
    "        if not resultats:\n",
    "            resultats={}\n",
    "else:\n",
    "    resultats={}\n",
    "    \n",
    "if casesType:\n",
    "    sampleExt=casesType\n",
    "else:\n",
    "    sampleExt=sampleType\n",
    "sampleId=samplePrefix.strip(\"Longitudinal\").strip(\"-\")+sampleExt\n",
    "print resultats"
   ]
  },
  {
   "cell_type": "code",
   "execution_count": 283,
   "metadata": {},
   "outputs": [],
   "source": [
    "if not sampleId in resultats:\n",
    "    resultats[sampleId]={}\n",
    "    \n",
    "etape=etapeSwim.strip(\"-\")\n",
    "resultats[sampleId][etape]={}\n",
    "resultats[sampleId][etape][\"nbGoldForms\"]=nbGoldForms\n",
    "resultats[sampleId][etape][\"nbInitialForms\"]=nbInitialForms\n",
    "resultats[sampleId][etape][\"nbLexemes\"]=nbLexemes\n",
    "resultats[sampleId][etape][\"UG\"]=UG\n",
    "resultats[sampleId][etape][\"OG\"]=OG\n",
    "resultats[sampleId][etape][\"TP\"]=TP\n",
    "resultats[sampleId][etape][\"FP\"]=FP\n",
    "resultats[sampleId][etape][\"Precision\"]=precision\n",
    "resultats[sampleId][etape][\"Recall\"]=recall\n",
    "resultats[sampleId][etape][\"F-Measure\"]=fMeasure\n",
    "\n",
    "yaml.safe_dump(resultats, file(nomFichierResultats, 'w'), encoding='utf-8', allow_unicode=True)"
   ]
  },
  {
   "cell_type": "code",
   "execution_count": 284,
   "metadata": {},
   "outputs": [
    {
     "name": "stdout",
     "output_type": "stream",
     "text": [
      "2018-01-02 18:17:08.273088\n",
      "2018-01-02 18:17:40.371529\n"
     ]
    }
   ],
   "source": [
    "fin=datetime.datetime.now()\n",
    "print debut\n",
    "print fin"
   ]
  }
 ],
 "metadata": {
  "kernelspec": {
   "display_name": "Python 2",
   "language": "python",
   "name": "python2"
  },
  "language_info": {
   "codemirror_mode": {
    "name": "ipython",
    "version": 2
   },
   "file_extension": ".py",
   "mimetype": "text/x-python",
   "name": "python",
   "nbconvert_exporter": "python",
   "pygments_lexer": "ipython2",
   "version": "2.7.11"
  }
 },
 "nbformat": 4,
 "nbformat_minor": 2
}
