{
 "cells": [
  {
   "cell_type": "code",
   "execution_count": null,
   "metadata": {},
   "outputs": [
    {
     "name": "stdout",
     "output_type": "stream",
     "text": [
      "../MGC02-GenerateNetwork-ContextFree.py 11\n",
      "\u0007\n",
      "11 -X -Morphomes\n",
      "-11-T120000-F16280\n",
      "/Volumes/gilles/Transfert/Copies-iMac-GB/2015-Data/Longitudinales/Longitudinal-11-T120000-F16280-X-paradigmes.csv\n",
      "2018-01-02 13:17:01.645539\n"
     ]
    },
    {
     "name": "stderr",
     "output_type": "stream",
     "text": [
      "/Users/gilles/anaconda/lib/python2.7/site-packages/pandas/core/indexing.py:284: SettingWithCopyWarning: \n",
      "A value is trying to be set on a copy of a slice from a DataFrame.\n",
      "Try using .loc[row_indexer,col_indexer] = value instead\n",
      "\n",
      "See the caveats in the documentation: http://pandas.pydata.org/pandas-docs/stable/indexing.html#indexing-view-versus-copy\n",
      "  self.obj[key] = _infer_fill_value(value)\n",
      "/Users/gilles/anaconda/lib/python2.7/site-packages/pandas/core/indexing.py:461: SettingWithCopyWarning: \n",
      "A value is trying to be set on a copy of a slice from a DataFrame.\n",
      "Try using .loc[row_indexer,col_indexer] = value instead\n",
      "\n",
      "See the caveats in the documentation: http://pandas.pydata.org/pandas-docs/stable/indexing.html#indexing-view-versus-copy\n",
      "  self.obj[item] = s\n",
      "/Users/gilles/anaconda/lib/python2.7/site-packages/pandas/core/indexing.py:545: SettingWithCopyWarning: \n",
      "A value is trying to be set on a copy of a slice from a DataFrame.\n",
      "Try using .loc[row_indexer,col_indexer] = value instead\n",
      "\n",
      "See the caveats in the documentation: http://pandas.pydata.org/pandas-docs/stable/indexing.html#indexing-view-versus-copy\n",
      "  self.obj[item_labels[indexer[info_axis]]] = value\n"
     ]
    },
    {
     "name": "stdout",
     "output_type": "stream",
     "text": [
      "UG 61814 OG 1325 TP 81307 FP 7249\n",
      "recall 0.54071290816 precision 0.904607202857\n",
      "0.67685046056\n",
      "\u0007\n",
      "2018-01-02 14:24:12.384112\n",
      "UG 48368 OG 1694 TP 94753 FP 8576\n",
      "recall 0.624620130919 precision 0.902211896442\n",
      "0.738181676535\n",
      "\u0007\n",
      "\u0007\n",
      "Sample 11-T120000-F16280\n",
      "Swim1 (61814, 1325, 81307, 7249) (0.904607202857111, 0.5407129081598723, 0.6768504605599976)\n",
      "Swim2 (48368, 1694, 94753, 8576) (0.9022118964417318, 0.6246201309188711, 0.7381816765347461)\n",
      "../MGC02-GenerateNetwork-ContextFree.py 12\n",
      "\u0007\n",
      "12 -X -Morphomes\n",
      "-12-T130000-F16948\n",
      "/Volumes/gilles/Transfert/Copies-iMac-GB/2015-Data/Longitudinales/Longitudinal-12-T130000-F16948-X-paradigmes.csv\n",
      "2018-01-02 15:25:48.140380\n",
      "UG 60397 OG 1426 TP 84827 FP 7654\n",
      "recall 0.554867279792 precision 0.903308592544\n",
      "0.687456693073\n",
      "\u0007\n",
      "2018-01-02 16:38:06.135451\n",
      "UG 48558 OG 1796 TP 96666 FP 8956\n",
      "recall 0.626968478402 precision 0.899905043847\n",
      "0.739042347419\n",
      "\u0007\n",
      "\u0007\n",
      "Sample 12-T130000-F16948\n",
      "Swim1 (60397, 1426, 84827, 7654) (0.9033085925436869, 0.5548672797917293, 0.6874566930729178)\n",
      "Swim2 (48558, 1796, 96666, 8956) (0.8999050438473999, 0.626968478401868, 0.7390423474185582)\n",
      "../MGC02-GenerateNetwork-ContextFree.py 13\n",
      "\u0007\n",
      "13 -X -Morphomes\n",
      "-13-T140000-F17587\n",
      "/Volumes/gilles/Transfert/Copies-iMac-GB/2015-Data/Longitudinales/Longitudinal-13-T140000-F17587-X-paradigmes.csv\n",
      "2018-01-02 17:46:42.212375\n",
      "UG 60296 OG 1463 TP 86845 FP 7693\n",
      "recall 0.560891018768 precision 0.904625993479\n",
      "0.692447226264\n",
      "\u0007\n",
      "2018-01-02 19:01:13.838422\n"
     ]
    }
   ],
   "source": [
    "for i in range(11,50):\n",
    "    cli=\"../MGC02-GenerateNetwork-ContextFree.py %02d\"%i\n",
    "    print cli\n",
    "    %run $cli"
   ]
  },
  {
   "cell_type": "code",
   "execution_count": null,
   "metadata": {
    "collapsed": true
   },
   "outputs": [],
   "source": []
  }
 ],
 "metadata": {
  "kernelspec": {
   "display_name": "Python 2",
   "language": "python",
   "name": "python2"
  },
  "language_info": {
   "codemirror_mode": {
    "name": "ipython",
    "version": 2
   },
   "file_extension": ".py",
   "mimetype": "text/x-python",
   "name": "python",
   "nbconvert_exporter": "python",
   "pygments_lexer": "ipython2",
   "version": "2.7.11"
  }
 },
 "nbformat": 4,
 "nbformat_minor": 2
}
