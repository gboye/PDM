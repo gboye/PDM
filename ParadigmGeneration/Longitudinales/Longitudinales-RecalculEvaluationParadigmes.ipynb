{
 "cells": [
  {
   "cell_type": "code",
   "execution_count": 13,
   "metadata": {},
   "outputs": [
    {
     "name": "stdout",
     "output_type": "stream",
     "text": [
      "./EvaluationParadigmes-Recalcul.py 10 -X -X-Morphomes -Swim1\n",
      "Nom du fichier prédictions /Volumes/gilles/Transfert/Copies-iMac-GB/2015-Data/Longitudinales/Longitudinal-10-T110000-F15616-X-Morphomes-paradigmes-Swim1.csv\n",
      "134608 formes à prédire à partir de 15616 formes de 3102 lexèmes\n",
      "Sous-générations : 53517 Sur-générations : 1271\n",
      "Formes identiques 76283\n",
      "Formes potentiellement différentes 4594\n",
      "UG : 58112 OG : 1271 TP : 76495 FP : 4382\n",
      "recall : 0.568283967401 precision : 0.931185177971\n",
      "fMeasure : 0.70581993495\n",
      "2018-01-02 19:57:17.702030\n",
      "2018-01-02 19:57:58.236170\n",
      "./EvaluationParadigmes-Recalcul.py 10 -X -X-Morphomes -Swim2\n",
      "Nom du fichier prédictions /Volumes/gilles/Transfert/Copies-iMac-GB/2015-Data/Longitudinales/Longitudinal-10-T110000-F15616-X-Morphomes-paradigmes-Swim2.csv\n",
      "134608 formes à prédire à partir de 15616 formes de 3102 lexèmes\n",
      "Sous-générations : 39340 Sur-générations : 1660\n",
      "Formes identiques 89032\n",
      "Formes potentiellement différentes 6033\n",
      "UG : 45326 OG : 1660 TP : 89281 FP : 5784\n",
      "recall : 0.66327159806 precision : 0.923039545102\n",
      "fMeasure : 0.771886293293\n",
      "2018-01-02 19:57:58.495993\n",
      "2018-01-02 19:58:38.424101\n",
      "./EvaluationParadigmes-Recalcul.py 11 -X -X-Morphomes -Swim1\n",
      "Nom du fichier prédictions /Volumes/gilles/Transfert/Copies-iMac-GB/2015-Data/Longitudinales/Longitudinal-11-T120000-F16280-X-Morphomes-paradigmes-Swim1.csv\n",
      "136874 formes à prédire à partir de 16280 formes de 3162 lexèmes\n",
      "Sous-générations : 48065 Sur-générations : 1325\n",
      "Formes identiques 81039\n",
      "Formes potentiellement différentes 7517\n",
      "UG : 55566 OG : 1325 TP : 81307 FP : 7249\n",
      "recall : 0.594032424218 precision : 0.904607202857\n",
      "fMeasure : 0.717138396677\n",
      "2018-01-02 19:58:38.459032\n",
      "2018-01-02 19:59:24.296129\n",
      "./EvaluationParadigmes-Recalcul.py 11 -X -X-Morphomes -Swim2\n",
      "Nom du fichier prédictions /Volumes/gilles/Transfert/Copies-iMac-GB/2015-Data/Longitudinales/Longitudinal-11-T120000-F16280-X-Morphomes-paradigmes-Swim2.csv\n",
      "136874 formes à prédire à partir de 16280 formes de 3162 lexèmes\n",
      "Sous-générations : 33298 Sur-générations : 1694\n",
      "Formes identiques 94448\n",
      "Formes potentiellement différentes 8881\n",
      "UG : 42120 OG : 1694 TP : 94753 FP : 8576\n",
      "recall : 0.692269476084 precision : 0.902211896442\n",
      "fMeasure : 0.7834193207\n",
      "2018-01-02 19:59:24.382640\n",
      "2018-01-02 20:00:12.676295\n"
     ]
    }
   ],
   "source": [
    "for i in range(10,12):\n",
    "    for caseType in [\"-X-Morphomes\"]: #[\"-X\",\"-X-Morphomes\"]\n",
    "        for etapeSwim in [\"-Swim1\",\"-Swim2\"]:\n",
    "            cli=\"./EvaluationParadigmes-Recalcul.py %02d -X %s %s\"%(i,caseType,etapeSwim)\n",
    "            print cli\n",
    "            %run $cli"
   ]
  },
  {
   "cell_type": "code",
   "execution_count": null,
   "metadata": {
    "collapsed": true
   },
   "outputs": [],
   "source": []
  }
 ],
 "metadata": {
  "kernelspec": {
   "display_name": "Python 2",
   "language": "python",
   "name": "python2"
  },
  "language_info": {
   "codemirror_mode": {
    "name": "ipython",
    "version": 2
   },
   "file_extension": ".py",
   "mimetype": "text/x-python",
   "name": "python",
   "nbconvert_exporter": "python",
   "pygments_lexer": "ipython2",
   "version": "2.7.11"
  }
 },
 "nbformat": 4,
 "nbformat_minor": 2
}
