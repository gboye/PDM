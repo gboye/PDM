{
 "cells": [
  {
   "cell_type": "markdown",
   "metadata": {},
   "source": [
    "#### Garbage Collection\n",
    "Les variables des scripts invoqués remontent dans le script principal. %xdel permet de désallouer une variable."
   ]
  },
  {
   "cell_type": "code",
   "execution_count": 1,
   "metadata": {
    "collapsed": true
   },
   "outputs": [],
   "source": [
    "def trashDataFrames():\n",
    "    %xdel actualForms\n",
    "    %xdel compareForms\n",
    "    %xdel completeParadigmes\n",
    "    %xdel diffForms\n",
    "    %xdel finalForms\n",
    "    %xdel goldForms\n",
    "    %xdel goldTestForms\n",
    "    %xdel initialForms\n",
    "    %xdel initialParadigmes\n",
    "    %xdel lexiqueGold\n",
    "    %xdel overGeneration\n",
    "    %xdel predictedForms\n",
    "    %xdel predictedParadigmes\n",
    "    %xdel sameForms\n",
    "    %xdel underGeneration\n",
    "    return"
   ]
  },
  {
   "cell_type": "markdown",
   "metadata": {},
   "source": [
    "#### Mesurer la mémoire utilisée"
   ]
  },
  {
   "cell_type": "code",
   "execution_count": 2,
   "metadata": {
    "collapsed": true
   },
   "outputs": [],
   "source": [
    "def memory_usage_psutil():\n",
    "    # return the memory usage in MB\n",
    "    import psutil\n",
    "    process = psutil.Process(os.getpid())\n",
    "    mem = process.memory_info()[0] / float(2 ** 20)\n",
    "    return mem"
   ]
  },
  {
   "cell_type": "markdown",
   "metadata": {},
   "source": [
    "# Recalcul de l'évaluation des paradigmes"
   ]
  },
  {
   "cell_type": "code",
   "execution_count": 1,
   "metadata": {},
   "outputs": [
    {
     "name": "stdout",
     "output_type": "stream",
     "text": [
      "./EvaluationParadigmes-Recalcul.py 42 -X -X -Swim1\n",
      "Nom du fichier prédictions /Volumes/gilles/Transfert/Copies-iMac-GB/2015-Data/Longitudinales/Longitudinal-42-T430000-F29345-X-paradigmes-Swim1.csv\n"
     ]
    },
    {
     "name": "stderr",
     "output_type": "stream",
     "text": [
      "/Users/gilles/anaconda/lib/python2.7/site-packages/pandas/core/indexing.py:284: SettingWithCopyWarning: \n",
      "A value is trying to be set on a copy of a slice from a DataFrame.\n",
      "Try using .loc[row_indexer,col_indexer] = value instead\n",
      "\n",
      "See the caveats in the documentation: http://pandas.pydata.org/pandas-docs/stable/indexing.html#indexing-view-versus-copy\n",
      "  self.obj[key] = _infer_fill_value(value)\n",
      "/Users/gilles/anaconda/lib/python2.7/site-packages/pandas/core/indexing.py:461: SettingWithCopyWarning: \n",
      "A value is trying to be set on a copy of a slice from a DataFrame.\n",
      "Try using .loc[row_indexer,col_indexer] = value instead\n",
      "\n",
      "See the caveats in the documentation: http://pandas.pydata.org/pandas-docs/stable/indexing.html#indexing-view-versus-copy\n",
      "  self.obj[item] = s\n"
     ]
    },
    {
     "name": "stdout",
     "output_type": "stream",
     "text": [
      "177001 formes à prédire à partir de 29345 formes de 4094 lexèmes\n"
     ]
    },
    {
     "name": "stderr",
     "output_type": "stream",
     "text": [
      "/Users/gilles/anaconda/lib/python2.7/site-packages/pandas/core/indexing.py:545: SettingWithCopyWarning: \n",
      "A value is trying to be set on a copy of a slice from a DataFrame.\n",
      "Try using .loc[row_indexer,col_indexer] = value instead\n",
      "\n",
      "See the caveats in the documentation: http://pandas.pydata.org/pandas-docs/stable/indexing.html#indexing-view-versus-copy\n",
      "  self.obj[item_labels[indexer[info_axis]]] = value\n"
     ]
    },
    {
     "name": "stdout",
     "output_type": "stream",
     "text": [
      "Sous-générations : 81379 Sur-générations : 1596\n",
      "Formes identiques 94191\n",
      "Formes potentiellement différentes 1277\n",
      "UG : 82621 OG : 1596 TP : 94379 FP : 1089\n",
      "recall : 0.533214689266 precision : 0.972337838952\n",
      "fMeasure : 0.688736937358\n",
      "2018-01-05 14:53:17.896812\n",
      "2018-01-05 14:53:58.645350\n",
      "./EvaluationParadigmes-Recalcul.py 42 -X -X -Swim2\n",
      "Nom du fichier prédictions /Volumes/gilles/Transfert/Copies-iMac-GB/2015-Data/Longitudinales/Longitudinal-42-T430000-F29345-X-paradigmes-Swim2.csv\n",
      "177001 formes à prédire à partir de 29345 formes de 4094 lexèmes\n",
      "Sous-générations : 60574 Sur-générations : 2110\n",
      "Formes identiques 113538\n",
      "Formes potentiellement différentes 2680\n",
      "UG : 63185 OG : 2110 TP : 113815 FP : 2403\n",
      "recall : 0.64302259887 precision : 0.961860252856\n",
      "fMeasure : 0.770770126774\n",
      "2018-01-05 14:53:58.648482\n",
      "2018-01-05 14:54:43.400707\n",
      "./EvaluationParadigmes-Recalcul.py 42 -X -X-Morphomes -Swim1\n",
      "Nom du fichier prédictions /Volumes/gilles/Transfert/Copies-iMac-GB/2015-Data/Longitudinales/Longitudinal-42-T430000-F29345-X-Morphomes-paradigmes-Swim1.csv\n",
      "177001 formes à prédire à partir de 29345 formes de 4094 lexèmes\n",
      "Sous-générations : 53182 Sur-générations : 1959\n",
      "Formes identiques 117999\n",
      "Formes potentiellement différentes 5568\n",
      "UG : 58684 OG : 1959 TP : 118316 FP : 5251\n",
      "recall : 0.668451977401 precision : 0.942561700365\n",
      "fMeasure : 0.782187316132\n",
      "2018-01-05 14:54:43.434252\n",
      "2018-01-05 14:55:30.094169\n",
      "./EvaluationParadigmes-Recalcul.py 42 -X -X-Morphomes -Swim2\n",
      "Nom du fichier prédictions /Volumes/gilles/Transfert/Copies-iMac-GB/2015-Data/Longitudinales/Longitudinal-42-T430000-F29345-X-Morphomes-paradigmes-Swim2.csv\n",
      "177001 formes à prédire à partir de 29345 formes de 4094 lexèmes\n",
      "Sous-générations : 38476 Sur-générations : 2374\n",
      "Formes identiques 131450\n",
      "Formes potentiellement différentes 6809\n",
      "UG : 45162 OG : 2374 TP : 131838 FP : 6421\n",
      "recall : 0.744847457627 precision : 0.937461335533\n",
      "fMeasure : 0.830127851955\n",
      "2018-01-05 14:55:30.112381\n",
      "2018-01-05 14:56:19.927181\n"
     ]
    }
   ],
   "source": [
    "debug=False\n",
    "for i in range(42,43):\n",
    "    for caseType in [\"-X\",\"-X-Morphomes\"]: #[\"-X\",\"-X-Morphomes\"]\n",
    "        for etapeSwim in [\"-Swim1\",\"-Swim2\"]:\n",
    "            cli=\"./EvaluationParadigmes-Recalcul.py %02d -X %s %s\"%(i,caseType,etapeSwim)\n",
    "            print cli\n",
    "            if debug: print memory_usage_psutil()\n",
    "            %run $cli\n",
    "            if debug: \n",
    "                print memory_usage_psutil()\n",
    "                trashDataFrames()\n",
    "                print memory_usage_psutil()\n",
    "                %whos\n"
   ]
  },
  {
   "cell_type": "code",
   "execution_count": null,
   "metadata": {
    "collapsed": true
   },
   "outputs": [],
   "source": []
  }
 ],
 "metadata": {
  "kernelspec": {
   "display_name": "Python 2",
   "language": "python",
   "name": "python2"
  },
  "language_info": {
   "codemirror_mode": {
    "name": "ipython",
    "version": 2
   },
   "file_extension": ".py",
   "mimetype": "text/x-python",
   "name": "python",
   "nbconvert_exporter": "python",
   "pygments_lexer": "ipython2",
   "version": "2.7.11"
  }
 },
 "nbformat": 4,
 "nbformat_minor": 2
}
