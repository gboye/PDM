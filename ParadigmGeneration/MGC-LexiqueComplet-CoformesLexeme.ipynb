{
 "cells": [
  {
   "cell_type": "markdown",
   "metadata": {},
   "source": [
    "# Script pour manipuler un tirage et comparer des colonnes"
   ]
  },
  {
   "cell_type": "code",
   "execution_count": 1,
   "metadata": {
    "collapsed": true
   },
   "outputs": [],
   "source": [
    "# -*- coding: utf8 -*-\n",
    "import pandas as pd\n",
    "import pickle, glob\n",
    "import itertools as it\n",
    "import networkx as nx\n",
    "import numpy as np"
   ]
  },
  {
   "cell_type": "code",
   "execution_count": 2,
   "metadata": {
    "collapsed": true
   },
   "outputs": [],
   "source": [
    "lexiquePrefix=\"MGC-160104\"\n",
    "\n",
    "with open(\"/Users/gilles/Box Sync/2015-Data/MGC-Vienna/\"+lexiquePrefix+'-Verbes2.pkl', 'rb') as input:\n",
    "    lexique = pickle.load(input)"
   ]
  },
  {
   "cell_type": "code",
   "execution_count": 49,
   "metadata": {},
   "outputs": [],
   "source": [
    "nbCases=lexique.groupby(by=[\"lexeme\",\"case\"],as_index=False)[\"phono\"].count()\n",
    "nbFormes=nbCases.groupby(by=[\"lexeme\"],as_index=True)[[\"case\"]].count()\n",
    "if len(nbFormes.columns)==2:\n",
    "    nbFormes.columns=[\"lexeme\",\"nbFormes\"]\n",
    "else:\n",
    "    nbFormes.columns=[\"nbFormes\"]"
   ]
  },
  {
   "cell_type": "code",
   "execution_count": 51,
   "metadata": {
    "scrolled": true
   },
   "outputs": [],
   "source": [
    "dictNbFormes=nbFormes.to_dict()[\"nbFormes\"]"
   ]
  },
  {
   "cell_type": "code",
   "execution_count": 52,
   "metadata": {},
   "outputs": [],
   "source": [
    "with open(\"/Users/gilles/Box Sync/2015-Data/MGC-Vienna/\"+lexiquePrefix+'-Verbes2-NbForms.pkl', 'wb') as output:\n",
    "    pickle.dump(dictNbFormes, output, pickle.HIGHEST_PROTOCOL)"
   ]
  }
 ],
 "metadata": {
  "kernelspec": {
   "display_name": "Python 2",
   "language": "python",
   "name": "python2"
  },
  "language_info": {
   "codemirror_mode": {
    "name": "ipython",
    "version": 2
   },
   "file_extension": ".py",
   "mimetype": "text/x-python",
   "name": "python",
   "nbconvert_exporter": "python",
   "pygments_lexer": "ipython2",
   "version": "2.7.11"
  }
 },
 "nbformat": 4,
 "nbformat_minor": 1
}
