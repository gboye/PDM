{
 "metadata": {
  "name": "",
  "signature": "sha256:826be2d7e49e3275024da3197b649589a1596879f0880f654eddeb47d459be96"
 },
 "nbformat": 3,
 "nbformat_minor": 0,
 "worksheets": [
  {
   "cells": [
    {
     "cell_type": "code",
     "collapsed": false,
     "input": [
      "import features, re"
     ],
     "language": "python",
     "metadata": {},
     "outputs": [],
     "prompt_number": 35
    },
    {
     "cell_type": "code",
     "collapsed": false,
     "input": [
      "features.add_config('bdlexique.ini')"
     ],
     "language": "python",
     "metadata": {},
     "outputs": [],
     "prompt_number": 3
    },
    {
     "cell_type": "code",
     "collapsed": false,
     "input": [
      "fs=features.FeatureSystem('phonemes')"
     ],
     "language": "python",
     "metadata": {},
     "outputs": [],
     "prompt_number": 4
    },
    {
     "cell_type": "code",
     "collapsed": false,
     "input": [
      "print fs.context.properties"
     ],
     "language": "python",
     "metadata": {},
     "outputs": [
      {
       "output_type": "stream",
       "stream": "stdout",
       "text": [
        "(u'+son', u'-son', u'+syl', u'-syl', u'+cons', u'-cons', u'+ant', u'-ant', u'+cor', u'-cor', u'+back', u'-back', u'+high', u'-high', u'+low', u'-low', u'+round', u'-round', u'+ATR', u'-ATR', u'+nas', u'-nas', u'+lat', u'-lat', u'+cont', u'-cont', u'+voice', u'-voice', u'+strid', u'-strid')\n"
       ]
      }
     ],
     "prompt_number": 5
    },
    {
     "cell_type": "code",
     "collapsed": false,
     "input": [
      "def classeNaturelle(liste):\n",
      "    return list(fs.context.extension(fs.context.intension(liste)))"
     ],
     "language": "python",
     "metadata": {},
     "outputs": [],
     "prompt_number": 7
    },
    {
     "cell_type": "code",
     "collapsed": false,
     "input": [
      "mot1=u\"sul6vj\u00f4\"\n",
      "mot2=u\"sulEv\""
     ],
     "language": "python",
     "metadata": {},
     "outputs": [],
     "prompt_number": 3
    },
    {
     "cell_type": "code",
     "collapsed": false,
     "input": [
      "for index, lettre in enumerate(mot1):\n",
      "    if index < len(mot2):\n",
      "        if lettre!=mot2[index]:\n",
      "            liste=[lettre,mot2[index]]\n",
      "            print fs.context.intension(liste)\n",
      "            print classeNaturelle(liste)\n",
      "        else:\n",
      "            print lettre\n",
      "    else:\n",
      "        print lettre"
     ],
     "language": "python",
     "metadata": {},
     "outputs": [
      {
       "output_type": "stream",
       "stream": "stdout",
       "text": [
        "s\n",
        "u\n",
        "l\n",
        "(u'+son', u'+syl', u'-cons', u'-ant', u'-cor', u'-high', u'-low', u'-round', u'-ATR', u'-nas', u'-lat', u'+cont', u'+voice', u'-strid')\n",
        "[u'E', u'6']\n",
        "v\n",
        "j\n",
        "\u00f4\n"
       ]
      }
     ],
     "prompt_number": 11
    },
    {
     "cell_type": "code",
     "collapsed": false,
     "input": [
      "fs(u'z') \n"
     ],
     "language": "python",
     "metadata": {},
     "outputs": [
      {
       "ename": "ValueError",
       "evalue": "unmatched feature splitting u'z', known features: (u'+son', u'-son', u'+syl', u'-syl', u'+cons', u'-cons', u'+ant', u'-ant', u'+cor', u'-cor', u'+back', u'-back', u'+high', u'-high', u'+low', u'-low', u'+round', u'-round', u'+ATR', u'-ATR', u'+nas', u'-nas', u'+lat', u'-lat', u'+cont', u'-cont', u'+voice', u'-voice', u'+strid', u'-strid')",
       "output_type": "pyerr",
       "traceback": [
        "\u001b[0;31m---------------------------------------------------------------------------\u001b[0m\n\u001b[0;31mValueError\u001b[0m                                Traceback (most recent call last)",
        "\u001b[0;32m<ipython-input-53-3aec4d3976c9>\u001b[0m in \u001b[0;36m<module>\u001b[0;34m()\u001b[0m\n\u001b[0;32m----> 1\u001b[0;31m \u001b[0mfs\u001b[0m\u001b[0;34m(\u001b[0m\u001b[0;34mu'z'\u001b[0m\u001b[0;34m)\u001b[0m\u001b[0;34m\u001b[0m\u001b[0m\n\u001b[0m",
        "\u001b[0;32m/Users/gilles/anaconda/lib/python2.7/site-packages/features/systems.pyc\u001b[0m in \u001b[0;36m__call__\u001b[0;34m(self, string)\u001b[0m\n\u001b[1;32m    122\u001b[0m         \u001b[0;34m\"\"\"Idempotently return featureset from parsed feature string.\"\"\"\u001b[0m\u001b[0;34m\u001b[0m\u001b[0m\n\u001b[1;32m    123\u001b[0m         \u001b[0;32mif\u001b[0m \u001b[0misinstance\u001b[0m\u001b[0;34m(\u001b[0m\u001b[0mstring\u001b[0m\u001b[0;34m,\u001b[0m \u001b[0mstring_types\u001b[0m\u001b[0;34m)\u001b[0m\u001b[0;34m:\u001b[0m\u001b[0;34m\u001b[0m\u001b[0m\n\u001b[0;32m--> 124\u001b[0;31m             \u001b[0mfeatures\u001b[0m \u001b[0;34m=\u001b[0m \u001b[0mself\u001b[0m\u001b[0;34m.\u001b[0m\u001b[0mparse\u001b[0m\u001b[0;34m(\u001b[0m\u001b[0mstring\u001b[0m\u001b[0;34m)\u001b[0m\u001b[0;34m\u001b[0m\u001b[0m\n\u001b[0m\u001b[1;32m    125\u001b[0m         \u001b[0;32melif\u001b[0m \u001b[0misinstance\u001b[0m\u001b[0;34m(\u001b[0m\u001b[0mstring\u001b[0m\u001b[0;34m,\u001b[0m \u001b[0mself\u001b[0m\u001b[0;34m.\u001b[0m\u001b[0mFeatureSet\u001b[0m\u001b[0;34m)\u001b[0m\u001b[0;34m:\u001b[0m\u001b[0;34m\u001b[0m\u001b[0m\n\u001b[1;32m    126\u001b[0m             \u001b[0;32mreturn\u001b[0m \u001b[0mstring\u001b[0m\u001b[0;34m\u001b[0m\u001b[0m\n",
        "\u001b[0;32m/Users/gilles/anaconda/lib/python2.7/site-packages/features/parsers.pyc\u001b[0m in \u001b[0;36m__call__\u001b[0;34m(self, string)\u001b[0m\n\u001b[1;32m    102\u001b[0m             len(remove_sign_sp(''.join(features)))):\n\u001b[1;32m    103\u001b[0m             raise ValueError('unmatched feature splitting %r, '\n\u001b[0;32m--> 104\u001b[0;31m                 'known features: %r' % (string, self.features))\n\u001b[0m\u001b[1;32m    105\u001b[0m \u001b[0;34m\u001b[0m\u001b[0m\n\u001b[1;32m    106\u001b[0m         \u001b[0;32mreturn\u001b[0m \u001b[0mfeatures\u001b[0m\u001b[0;34m\u001b[0m\u001b[0m\n",
        "\u001b[0;31mValueError\u001b[0m: unmatched feature splitting u'z', known features: (u'+son', u'-son', u'+syl', u'-syl', u'+cons', u'-cons', u'+ant', u'-ant', u'+cor', u'-cor', u'+back', u'-back', u'+high', u'-high', u'+low', u'-low', u'+round', u'-round', u'+ATR', u'-ATR', u'+nas', u'-nas', u'+lat', u'-lat', u'+cont', u'-cont', u'+voice', u'-voice', u'+strid', u'-strid')"
       ]
      }
     ],
     "prompt_number": 53
    },
    {
     "cell_type": "code",
     "collapsed": false,
     "input": [
      "fs(\"z\").string"
     ],
     "language": "python",
     "metadata": {},
     "outputs": [
      {
       "ename": "ValueError",
       "evalue": "unmatched feature splitting 'z', known features: (u'+son', u'-son', u'+syl', u'-syl', u'+cons', u'-cons', u'+ant', u'-ant', u'+cor', u'-cor', u'+back', u'-back', u'+high', u'-high', u'+low', u'-low', u'+round', u'-round', u'+ATR', u'-ATR', u'+nas', u'-nas', u'+lat', u'-lat', u'+cont', u'-cont', u'+voice', u'-voice', u'+strid', u'-strid')",
       "output_type": "pyerr",
       "traceback": [
        "\u001b[0;31m---------------------------------------------------------------------------\u001b[0m\n\u001b[0;31mValueError\u001b[0m                                Traceback (most recent call last)",
        "\u001b[0;32m<ipython-input-50-0e6ef38e051e>\u001b[0m in \u001b[0;36m<module>\u001b[0;34m()\u001b[0m\n\u001b[0;32m----> 1\u001b[0;31m \u001b[0mfs\u001b[0m\u001b[0;34m(\u001b[0m\u001b[0;34m\"z\"\u001b[0m\u001b[0;34m)\u001b[0m\u001b[0;34m.\u001b[0m\u001b[0mstring\u001b[0m\u001b[0;34m\u001b[0m\u001b[0m\n\u001b[0m",
        "\u001b[0;32m/Users/gilles/anaconda/lib/python2.7/site-packages/features/systems.pyc\u001b[0m in \u001b[0;36m__call__\u001b[0;34m(self, string)\u001b[0m\n\u001b[1;32m    122\u001b[0m         \u001b[0;34m\"\"\"Idempotently return featureset from parsed feature string.\"\"\"\u001b[0m\u001b[0;34m\u001b[0m\u001b[0m\n\u001b[1;32m    123\u001b[0m         \u001b[0;32mif\u001b[0m \u001b[0misinstance\u001b[0m\u001b[0;34m(\u001b[0m\u001b[0mstring\u001b[0m\u001b[0;34m,\u001b[0m \u001b[0mstring_types\u001b[0m\u001b[0;34m)\u001b[0m\u001b[0;34m:\u001b[0m\u001b[0;34m\u001b[0m\u001b[0m\n\u001b[0;32m--> 124\u001b[0;31m             \u001b[0mfeatures\u001b[0m \u001b[0;34m=\u001b[0m \u001b[0mself\u001b[0m\u001b[0;34m.\u001b[0m\u001b[0mparse\u001b[0m\u001b[0;34m(\u001b[0m\u001b[0mstring\u001b[0m\u001b[0;34m)\u001b[0m\u001b[0;34m\u001b[0m\u001b[0m\n\u001b[0m\u001b[1;32m    125\u001b[0m         \u001b[0;32melif\u001b[0m \u001b[0misinstance\u001b[0m\u001b[0;34m(\u001b[0m\u001b[0mstring\u001b[0m\u001b[0;34m,\u001b[0m \u001b[0mself\u001b[0m\u001b[0;34m.\u001b[0m\u001b[0mFeatureSet\u001b[0m\u001b[0;34m)\u001b[0m\u001b[0;34m:\u001b[0m\u001b[0;34m\u001b[0m\u001b[0m\n\u001b[1;32m    126\u001b[0m             \u001b[0;32mreturn\u001b[0m \u001b[0mstring\u001b[0m\u001b[0;34m\u001b[0m\u001b[0m\n",
        "\u001b[0;32m/Users/gilles/anaconda/lib/python2.7/site-packages/features/parsers.pyc\u001b[0m in \u001b[0;36m__call__\u001b[0;34m(self, string)\u001b[0m\n\u001b[1;32m    102\u001b[0m             len(remove_sign_sp(''.join(features)))):\n\u001b[1;32m    103\u001b[0m             raise ValueError('unmatched feature splitting %r, '\n\u001b[0;32m--> 104\u001b[0;31m                 'known features: %r' % (string, self.features))\n\u001b[0m\u001b[1;32m    105\u001b[0m \u001b[0;34m\u001b[0m\u001b[0m\n\u001b[1;32m    106\u001b[0m         \u001b[0;32mreturn\u001b[0m \u001b[0mfeatures\u001b[0m\u001b[0;34m\u001b[0m\u001b[0m\n",
        "\u001b[0;31mValueError\u001b[0m: unmatched feature splitting 'z', known features: (u'+son', u'-son', u'+syl', u'-syl', u'+cons', u'-cons', u'+ant', u'-ant', u'+cor', u'-cor', u'+back', u'-back', u'+high', u'-high', u'+low', u'-low', u'+round', u'-round', u'+ATR', u'-ATR', u'+nas', u'-nas', u'+lat', u'-lat', u'+cont', u'-cont', u'+voice', u'-voice', u'+strid', u'-strid')"
       ]
      }
     ],
     "prompt_number": 50
    },
    {
     "cell_type": "code",
     "collapsed": false,
     "input": [
      "stripDots=False\n",
      "def diff(mot1,mot2):\n",
      "    diff1=\"\"\n",
      "    diff2=\"\"\n",
      "    vide=\".\"\n",
      "    for index, lettre in enumerate(mot1):\n",
      "        if index < len(mot2):\n",
      "            if lettre!=mot2[index]:\n",
      "                diff1+=lettre\n",
      "                diff2+=mot2[index]\n",
      "            else:\n",
      "                diff1+=vide\n",
      "                diff2+=vide\n",
      "        else:\n",
      "            diff1+=lettre\n",
      "    if stripDots:\n",
      "        diff1=diff1.lstrip(\".\")\n",
      "        diff2=diff2.lstrip(\".\")\n",
      "    return (diff1,diff2)"
     ],
     "language": "python",
     "metadata": {},
     "outputs": [],
     "prompt_number": 77
    },
    {
     "cell_type": "code",
     "collapsed": false,
     "input": [
      "diff(mot1,mot2)"
     ],
     "language": "python",
     "metadata": {},
     "outputs": [
      {
       "output_type": "stream",
       "stream": "stdout",
       "text": [
        "100000 loops, best of 3: 2.4 \u00b5s per loop\n"
       ]
      }
     ],
     "prompt_number": 80
    },
    {
     "cell_type": "code",
     "collapsed": false,
     "input": [
      "diff(mot1,mot2)"
     ],
     "language": "python",
     "metadata": {},
     "outputs": [
      {
       "metadata": {},
       "output_type": "pyout",
       "prompt_number": 87,
       "text": [
        "(u'...6.j\\xf4', u'...E.')"
       ]
      }
     ],
     "prompt_number": 87
    },
    {
     "cell_type": "code",
     "collapsed": false,
     "input": [
      "remp(mot1,diff(mot1,mot2)[1])"
     ],
     "language": "python",
     "metadata": {},
     "outputs": [
      {
       "output_type": "stream",
       "stream": "stdout",
       "text": [
        "sul6vj\u00f4 ...6.j\u00f4 ...E...\n"
       ]
      }
     ],
     "prompt_number": 32
    },
    {
     "cell_type": "code",
     "collapsed": false,
     "input": [
      "def transform(patron):\n",
      "    result=\"\"\n",
      "    chunks=re.findall(ur\"(\\.+|[^.]+)\",patron)\n",
      "    if chunks:\n",
      "        print chunks\n",
      "    if chunks[0].startswith(\".\"):\n",
      "        chunks[0]=\".*\"\n",
      "    for chunk in chunks:\n",
      "        if chunk.startswith(\".\"):\n",
      "            result+=\"(\"+chunk+\")\"\n",
      "        else:\n",
      "            result+=chunk\n",
      "    return result"
     ],
     "language": "python",
     "metadata": {},
     "outputs": [],
     "prompt_number": 67
    },
    {
     "cell_type": "code",
     "collapsed": false,
     "input": [
      "transform(diff(mot1,mot2)[1][0])"
     ],
     "language": "python",
     "metadata": {},
     "outputs": [
      {
       "output_type": "stream",
       "stream": "stdout",
       "text": [
        "[u'...', u'6', u'.', u'j\\xf4']\n"
       ]
      },
      {
       "metadata": {},
       "output_type": "pyout",
       "prompt_number": 68,
       "text": [
        "u'(.*)6(.)j\\xf4'"
       ]
      }
     ],
     "prompt_number": 68
    },
    {
     "cell_type": "code",
     "collapsed": false,
     "input": [],
     "language": "python",
     "metadata": {},
     "outputs": []
    },
    {
     "cell_type": "code",
     "collapsed": false,
     "input": [],
     "language": "python",
     "metadata": {},
     "outputs": []
    },
    {
     "cell_type": "code",
     "collapsed": false,
     "input": [],
     "language": "python",
     "metadata": {},
     "outputs": []
    },
    {
     "cell_type": "code",
     "collapsed": false,
     "input": [],
     "language": "python",
     "metadata": {},
     "outputs": []
    },
    {
     "cell_type": "code",
     "collapsed": false,
     "input": [],
     "language": "python",
     "metadata": {},
     "outputs": []
    }
   ],
   "metadata": {}
  }
 ]
}