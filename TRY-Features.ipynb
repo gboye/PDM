{
 "metadata": {
  "name": "",
  "signature": "sha256:8838ea3676b4c93e48d4e177b00e36c1a48b2bf2d30ee273186ebe11d4f5eac0"
 },
 "nbformat": 3,
 "nbformat_minor": 0,
 "worksheets": [
  {
   "cells": [
    {
     "cell_type": "code",
     "collapsed": false,
     "input": [
      "import features, re"
     ],
     "language": "python",
     "metadata": {},
     "outputs": [],
     "prompt_number": 1
    },
    {
     "cell_type": "code",
     "collapsed": false,
     "input": [
      "features.add_config('bdlexique.ini')\n",
      "fs=features.FeatureSystem('phonemes')"
     ],
     "language": "python",
     "metadata": {},
     "outputs": [],
     "prompt_number": 2
    },
    {
     "cell_type": "code",
     "collapsed": false,
     "input": [
      "print fs.context.properties\n",
      "print fs.context.objects"
     ],
     "language": "python",
     "metadata": {},
     "outputs": [
      {
       "output_type": "stream",
       "stream": "stdout",
       "text": [
        "(u'+son', u'-son', u'+syl', u'-syl', u'+cons', u'-cons', u'+ant', u'-ant', u'+cor', u'-cor', u'+back', u'-back', u'+high', u'-high', u'+low', u'-low', u'+round', u'-round', u'+ATR', u'-ATR', u'+nas', u'-nas', u'+lat', u'-lat', u'+cont', u'-cont', u'+voice', u'-voice', u'+strid', u'-strid')\n",
        "(u'p', u't', u'k', u'b', u'd', u'g', u'f', u's', u'S', u'v', u'z', u'Z', u'm', u'n', u'J', u'j', u'l', u'r', u'w', u'H', u'i', u'y', u'E', u'e', u'9', u'2', u'6', u'a', u'u', u'O', u'o', u'\\xea', u'\\xe2', u'\\xf4')\n"
       ]
      }
     ],
     "prompt_number": 3
    },
    {
     "cell_type": "code",
     "collapsed": false,
     "input": [
      "def classeNaturelle(liste):\n",
      "    return list(fs.context.extension(fs.context.intension(liste)))"
     ],
     "language": "python",
     "metadata": {},
     "outputs": [],
     "prompt_number": 4
    },
    {
     "cell_type": "code",
     "collapsed": false,
     "input": [
      "paires=[(u\"sul6vj\u00f4\",u\"sulEv\"),(u\"s6mj\u00f4\",u\"sEm\"),(u\"dep6sj\u00f4\",u\"depEs\")]"
     ],
     "language": "python",
     "metadata": {},
     "outputs": [],
     "prompt_number": 5
    },
    {
     "cell_type": "code",
     "collapsed": false,
     "input": [
      "for index, lettre in enumerate(mot1):\n",
      "    if index < len(mot2):\n",
      "        if lettre!=mot2[index]:\n",
      "            liste=[lettre,mot2[index]]\n",
      "            print fs.context.intension(liste)\n",
      "            print classeNaturelle(liste)\n",
      "        else:\n",
      "            print lettre\n",
      "    else:\n",
      "        print lettre"
     ],
     "language": "python",
     "metadata": {},
     "outputs": [
      {
       "ename": "NameError",
       "evalue": "name 'mot1' is not defined",
       "output_type": "pyerr",
       "traceback": [
        "\u001b[0;31m---------------------------------------------------------------------------\u001b[0m\n\u001b[0;31mNameError\u001b[0m                                 Traceback (most recent call last)",
        "\u001b[0;32m<ipython-input-6-35df53e5837f>\u001b[0m in \u001b[0;36m<module>\u001b[0;34m()\u001b[0m\n\u001b[0;32m----> 1\u001b[0;31m \u001b[0;32mfor\u001b[0m \u001b[0mindex\u001b[0m\u001b[0;34m,\u001b[0m \u001b[0mlettre\u001b[0m \u001b[0;32min\u001b[0m \u001b[0menumerate\u001b[0m\u001b[0;34m(\u001b[0m\u001b[0mmot1\u001b[0m\u001b[0;34m)\u001b[0m\u001b[0;34m:\u001b[0m\u001b[0;34m\u001b[0m\u001b[0m\n\u001b[0m\u001b[1;32m      2\u001b[0m     \u001b[0;32mif\u001b[0m \u001b[0mindex\u001b[0m \u001b[0;34m<\u001b[0m \u001b[0mlen\u001b[0m\u001b[0;34m(\u001b[0m\u001b[0mmot2\u001b[0m\u001b[0;34m)\u001b[0m\u001b[0;34m:\u001b[0m\u001b[0;34m\u001b[0m\u001b[0m\n\u001b[1;32m      3\u001b[0m         \u001b[0;32mif\u001b[0m \u001b[0mlettre\u001b[0m\u001b[0;34m!=\u001b[0m\u001b[0mmot2\u001b[0m\u001b[0;34m[\u001b[0m\u001b[0mindex\u001b[0m\u001b[0;34m]\u001b[0m\u001b[0;34m:\u001b[0m\u001b[0;34m\u001b[0m\u001b[0m\n\u001b[1;32m      4\u001b[0m             \u001b[0mliste\u001b[0m\u001b[0;34m=\u001b[0m\u001b[0;34m[\u001b[0m\u001b[0mlettre\u001b[0m\u001b[0;34m,\u001b[0m\u001b[0mmot2\u001b[0m\u001b[0;34m[\u001b[0m\u001b[0mindex\u001b[0m\u001b[0;34m]\u001b[0m\u001b[0;34m]\u001b[0m\u001b[0;34m\u001b[0m\u001b[0m\n\u001b[1;32m      5\u001b[0m             \u001b[0;32mprint\u001b[0m \u001b[0mfs\u001b[0m\u001b[0;34m.\u001b[0m\u001b[0mcontext\u001b[0m\u001b[0;34m.\u001b[0m\u001b[0mintension\u001b[0m\u001b[0;34m(\u001b[0m\u001b[0mliste\u001b[0m\u001b[0;34m)\u001b[0m\u001b[0;34m\u001b[0m\u001b[0m\n",
        "\u001b[0;31mNameError\u001b[0m: name 'mot1' is not defined"
       ]
      }
     ],
     "prompt_number": 6
    },
    {
     "cell_type": "code",
     "collapsed": false,
     "input": [
      "def diff(mot1,mot2):\n",
      "    result=[]\n",
      "    diff1=\"\"\n",
      "    diff2=\"\"\n",
      "    same=\"\"\n",
      "    vide=\".\"\n",
      "    lmax=max(len(mot1),len(mot2))\n",
      "    lmin=min(len(mot1),len(mot2))\n",
      "    for index in range(lmax):\n",
      "        if index < lmin:\n",
      "            if mot1[index]!=mot2[index]:\n",
      "                diff1+=mot1[index]\n",
      "                diff2+=mot2[index]\n",
      "                same+=vide\n",
      "            else:\n",
      "                same+=mot1[index]\n",
      "                diff1+=vide\n",
      "                diff2+=vide\n",
      "        elif index < len(mot1):\n",
      "            diff1+=mot1[index]\n",
      "        elif index < len(mot2):\n",
      "            diff2+=mot2[index]\n",
      "    diff1=diff1.lstrip(\".\")\n",
      "    diff2=diff2.lstrip(\".\")\n",
      "    return (same,diff1,diff2,diff1+\"_\"+diff2)\n"
     ],
     "language": "python",
     "metadata": {},
     "outputs": [],
     "prompt_number": 7
    },
    {
     "cell_type": "code",
     "collapsed": false,
     "input": [
      "#%%timeit\n",
      "patrons={}\n",
      "for paire in paires:\n",
      "    (mot1,mot2)=paire\n",
      "    (same, diff1, diff2, patron)=diff(mot1,mot2)\n",
      "    if not patron in patrons:\n",
      "        patrons[patron]=[]\n",
      "    patrons[patron].append(same)"
     ],
     "language": "python",
     "metadata": {},
     "outputs": [],
     "prompt_number": 10
    },
    {
     "cell_type": "code",
     "collapsed": false,
     "input": [
      "sames=patrons[u'6.j\\xf4_E.']\n",
      "sames"
     ],
     "language": "python",
     "metadata": {},
     "outputs": [
      {
       "metadata": {},
       "output_type": "pyout",
       "prompt_number": 11,
       "text": [
        "[u'sul.v', u's.m', u'dep.s']"
       ]
      }
     ],
     "prompt_number": 11
    },
    {
     "cell_type": "code",
     "collapsed": false,
     "input": [
      "fs.lattice[[x[-1] for x in sames]].extent"
     ],
     "language": "python",
     "metadata": {},
     "outputs": [
      {
       "metadata": {},
       "output_type": "pyout",
       "prompt_number": 12,
       "text": [
        "(u'p', u't', u'b', u'd', u'f', u's', u'v', u'z', u'm', u'n')"
       ]
      }
     ],
     "prompt_number": 12
    },
    {
     "cell_type": "code",
     "collapsed": false,
     "input": [
      "fs.lattice[['m', 'v', 't','a']].intent"
     ],
     "language": "python",
     "metadata": {},
     "outputs": [
      {
       "metadata": {},
       "output_type": "pyout",
       "prompt_number": 13,
       "text": [
        "(u'-back', u'-high', u'-round', u'-ATR', u'-lat')"
       ]
      }
     ],
     "prompt_number": 13
    },
    {
     "cell_type": "markdown",
     "metadata": {},
     "source": [
      "###Embryon de classe pour calculer les patrons"
     ]
    },
    {
     "cell_type": "code",
     "collapsed": false,
     "input": [
      "class formesPatron:\n",
      "    '''\n",
      "    Accumulateur de formes correspondant \u00e0 un patron pour calcul de la G\u00e9n\u00e9ralisation Minimale (cf. MGL)\n",
      "    '''\n",
      "    def __init__(self):\n",
      "        self.formes=[]\n",
      "\n",
      "#    def __repr__(self):\n",
      "#        return ','.join(self.calculerGM())\n",
      "        \n",
      "    def ajouterFormes(self,formes):\n",
      "        self.formes.extend(formes)\n",
      "        \n",
      "    def calculerGM(self):\n",
      "        minLongueur=len(min(self.formes, key=len))\n",
      "        maxLongueur=len(max(self.formes, key=len))\n",
      "        print minLongueur, maxLongueur\n",
      "        positions=[]\n",
      "        if maxLongueur>minLongueur:\n",
      "            positions.append(\"*\")\n",
      "        for i in xrange(minLongueur, 0, -1):\n",
      "            phonemes=tuple(set([x[-i] for x in self.formes]))\n",
      "            print phonemes\n",
      "            if \".\" in phonemes:\n",
      "                positions.append(\".\")\n",
      "            else:\n",
      "                positions.append(\"\".join(fs.lattice[phonemes].extent))\n",
      "        return positions"
     ],
     "language": "python",
     "metadata": {},
     "outputs": [],
     "prompt_number": 14
    },
    {
     "cell_type": "code",
     "collapsed": false,
     "input": [
      "sames=[u'Ede', u'Eme', u'arive', u'arEte', u'atrape', u'S\\xe2te', u'k\\xf2m\\xe2se', u'k\\xf4te', u'd6m\\xe2de', u'd\\xf2ne', u'dEside', u'\\xe2pESe', u'EspEre', u'garde', u'Zue', u'm\\xe2Ze', u'marSe', u'ublie', u'parle', u'pase', u'pEje', u'p\\xe2se', u'r6garde', u'r6turne', u'tire', u'tuSe', u'truve', u'tye', u'Ekute', u'Epuze']\n",
      "test=formesPatron()\n",
      "test.ajouterFormes(sames)\n",
      "test.calculerGM()"
     ],
     "language": "python",
     "metadata": {},
     "outputs": [
      {
       "output_type": "stream",
       "stream": "stdout",
       "text": [
        "3 7\n",
        "(u'a', u'\\xe2', u'E', u'i', u'Z', u'l', u'\\xf2', u'u', u'\\xf4', u'r', u't')\n"
       ]
      },
      {
       "ename": "KeyError",
       "evalue": "u'a'",
       "output_type": "pyerr",
       "traceback": [
        "\u001b[0;31m---------------------------------------------------------------------------\u001b[0m\n\u001b[0;31mKeyError\u001b[0m                                  Traceback (most recent call last)",
        "\u001b[0;32m<ipython-input-15-74127da8082e>\u001b[0m in \u001b[0;36m<module>\u001b[0;34m()\u001b[0m\n\u001b[1;32m      2\u001b[0m \u001b[0mtest\u001b[0m\u001b[0;34m=\u001b[0m\u001b[0mformesPatron\u001b[0m\u001b[0;34m(\u001b[0m\u001b[0;34m)\u001b[0m\u001b[0;34m\u001b[0m\u001b[0m\n\u001b[1;32m      3\u001b[0m \u001b[0mtest\u001b[0m\u001b[0;34m.\u001b[0m\u001b[0majouterFormes\u001b[0m\u001b[0;34m(\u001b[0m\u001b[0msames\u001b[0m\u001b[0;34m)\u001b[0m\u001b[0;34m\u001b[0m\u001b[0m\n\u001b[0;32m----> 4\u001b[0;31m \u001b[0mtest\u001b[0m\u001b[0;34m.\u001b[0m\u001b[0mcalculerGM\u001b[0m\u001b[0;34m(\u001b[0m\u001b[0;34m)\u001b[0m\u001b[0;34m\u001b[0m\u001b[0m\n\u001b[0m",
        "\u001b[0;32m<ipython-input-14-c5e86cbf301b>\u001b[0m in \u001b[0;36mcalculerGM\u001b[0;34m(self)\u001b[0m\n\u001b[1;32m     25\u001b[0m                 \u001b[0mpositions\u001b[0m\u001b[0;34m.\u001b[0m\u001b[0mappend\u001b[0m\u001b[0;34m(\u001b[0m\u001b[0;34m\".\"\u001b[0m\u001b[0;34m)\u001b[0m\u001b[0;34m\u001b[0m\u001b[0m\n\u001b[1;32m     26\u001b[0m             \u001b[0;32melse\u001b[0m\u001b[0;34m:\u001b[0m\u001b[0;34m\u001b[0m\u001b[0m\n\u001b[0;32m---> 27\u001b[0;31m                 \u001b[0mpositions\u001b[0m\u001b[0;34m.\u001b[0m\u001b[0mappend\u001b[0m\u001b[0;34m(\u001b[0m\u001b[0;34m\"\"\u001b[0m\u001b[0;34m.\u001b[0m\u001b[0mjoin\u001b[0m\u001b[0;34m(\u001b[0m\u001b[0mfs\u001b[0m\u001b[0;34m.\u001b[0m\u001b[0mlattice\u001b[0m\u001b[0;34m[\u001b[0m\u001b[0mphonemes\u001b[0m\u001b[0;34m]\u001b[0m\u001b[0;34m.\u001b[0m\u001b[0mextent\u001b[0m\u001b[0;34m)\u001b[0m\u001b[0;34m)\u001b[0m\u001b[0;34m\u001b[0m\u001b[0m\n\u001b[0m\u001b[1;32m     28\u001b[0m         \u001b[0;32mreturn\u001b[0m \u001b[0mpositions\u001b[0m\u001b[0;34m\u001b[0m\u001b[0m\n",
        "\u001b[0;32m/Users/gilles/anaconda/lib/python2.7/site-packages/concepts/lattices.pyc\u001b[0m in \u001b[0;36m__getitem__\u001b[0;34m(self, key)\u001b[0m\n\u001b[1;32m    195\u001b[0m         \u001b[0;32mif\u001b[0m \u001b[0;32mnot\u001b[0m \u001b[0mkey\u001b[0m\u001b[0;34m:\u001b[0m\u001b[0;34m\u001b[0m\u001b[0m\n\u001b[1;32m    196\u001b[0m             \u001b[0;32mreturn\u001b[0m \u001b[0mself\u001b[0m\u001b[0;34m.\u001b[0m\u001b[0msupremum\u001b[0m\u001b[0;34m\u001b[0m\u001b[0m\n\u001b[0;32m--> 197\u001b[0;31m         \u001b[0mextent\u001b[0m\u001b[0;34m,\u001b[0m \u001b[0mintent\u001b[0m \u001b[0;34m=\u001b[0m \u001b[0mself\u001b[0m\u001b[0;34m.\u001b[0m\u001b[0m_context\u001b[0m\u001b[0;34m.\u001b[0m\u001b[0m__getitem__\u001b[0m\u001b[0;34m(\u001b[0m\u001b[0mkey\u001b[0m\u001b[0;34m,\u001b[0m \u001b[0mraw\u001b[0m\u001b[0;34m=\u001b[0m\u001b[0mTrue\u001b[0m\u001b[0;34m)\u001b[0m\u001b[0;34m\u001b[0m\u001b[0m\n\u001b[0m\u001b[1;32m    198\u001b[0m         \u001b[0;32mreturn\u001b[0m \u001b[0mself\u001b[0m\u001b[0;34m.\u001b[0m\u001b[0m_map\u001b[0m\u001b[0;34m[\u001b[0m\u001b[0mextent\u001b[0m\u001b[0;34m]\u001b[0m\u001b[0;34m\u001b[0m\u001b[0m\n\u001b[1;32m    199\u001b[0m \u001b[0;34m\u001b[0m\u001b[0m\n",
        "\u001b[0;32m/Users/gilles/anaconda/lib/python2.7/site-packages/concepts/contexts.pyc\u001b[0m in \u001b[0;36m__getitem__\u001b[0;34m(self, items, raw)\u001b[0m\n\u001b[1;32m    239\u001b[0m             \u001b[0mextent\u001b[0m \u001b[0;34m=\u001b[0m \u001b[0mself\u001b[0m\u001b[0;34m.\u001b[0m\u001b[0m_Extent\u001b[0m\u001b[0;34m.\u001b[0m\u001b[0mfrommembers\u001b[0m\u001b[0;34m(\u001b[0m\u001b[0mitems\u001b[0m\u001b[0;34m)\u001b[0m\u001b[0;34m\u001b[0m\u001b[0m\n\u001b[1;32m    240\u001b[0m         \u001b[0;32mexcept\u001b[0m \u001b[0mKeyError\u001b[0m\u001b[0;34m:\u001b[0m\u001b[0;34m\u001b[0m\u001b[0m\n\u001b[0;32m--> 241\u001b[0;31m             \u001b[0mintent\u001b[0m \u001b[0;34m=\u001b[0m \u001b[0mself\u001b[0m\u001b[0;34m.\u001b[0m\u001b[0m_Intent\u001b[0m\u001b[0;34m.\u001b[0m\u001b[0mfrommembers\u001b[0m\u001b[0;34m(\u001b[0m\u001b[0mitems\u001b[0m\u001b[0;34m)\u001b[0m\u001b[0;34m\u001b[0m\u001b[0m\n\u001b[0m\u001b[1;32m    242\u001b[0m             \u001b[0mintent\u001b[0m\u001b[0;34m,\u001b[0m \u001b[0mextent\u001b[0m \u001b[0;34m=\u001b[0m \u001b[0mintent\u001b[0m\u001b[0;34m.\u001b[0m\u001b[0mdoubleprime\u001b[0m\u001b[0;34m(\u001b[0m\u001b[0;34m)\u001b[0m\u001b[0;34m\u001b[0m\u001b[0m\n\u001b[1;32m    243\u001b[0m         \u001b[0;32melse\u001b[0m\u001b[0;34m:\u001b[0m\u001b[0;34m\u001b[0m\u001b[0m\n",
        "\u001b[0;32m/Users/gilles/anaconda/lib/python2.7/site-packages/bitsets/bases.pyc\u001b[0m in \u001b[0;36mfrommembers\u001b[0;34m(cls, members)\u001b[0m\n\u001b[1;32m    142\u001b[0m     \u001b[0;32mdef\u001b[0m \u001b[0mfrommembers\u001b[0m\u001b[0;34m(\u001b[0m\u001b[0mcls\u001b[0m\u001b[0;34m,\u001b[0m \u001b[0mmembers\u001b[0m\u001b[0;34m=\u001b[0m\u001b[0;34m(\u001b[0m\u001b[0;34m)\u001b[0m\u001b[0;34m)\u001b[0m\u001b[0;34m:\u001b[0m\u001b[0;34m\u001b[0m\u001b[0m\n\u001b[1;32m    143\u001b[0m         \u001b[0;34m\"\"\"Create a set from an iterable of members.\"\"\"\u001b[0m\u001b[0;34m\u001b[0m\u001b[0m\n\u001b[0;32m--> 144\u001b[0;31m         \u001b[0;32mreturn\u001b[0m \u001b[0mcls\u001b[0m\u001b[0;34m.\u001b[0m\u001b[0mfromint\u001b[0m\u001b[0;34m(\u001b[0m\u001b[0msum\u001b[0m\u001b[0;34m(\u001b[0m\u001b[0mmap\u001b[0m\u001b[0;34m(\u001b[0m\u001b[0mcls\u001b[0m\u001b[0;34m.\u001b[0m\u001b[0m_map\u001b[0m\u001b[0;34m.\u001b[0m\u001b[0m__getitem__\u001b[0m\u001b[0;34m,\u001b[0m \u001b[0mset\u001b[0m\u001b[0;34m(\u001b[0m\u001b[0mmembers\u001b[0m\u001b[0;34m)\u001b[0m\u001b[0;34m)\u001b[0m\u001b[0;34m)\u001b[0m\u001b[0;34m)\u001b[0m\u001b[0;34m\u001b[0m\u001b[0m\n\u001b[0m\u001b[1;32m    145\u001b[0m \u001b[0;34m\u001b[0m\u001b[0m\n\u001b[1;32m    146\u001b[0m     \u001b[0;34m@\u001b[0m\u001b[0mclassmethod\u001b[0m\u001b[0;34m\u001b[0m\u001b[0m\n",
        "\u001b[0;31mKeyError\u001b[0m: u'a'"
       ]
      }
     ],
     "prompt_number": 15
    },
    {
     "cell_type": "code",
     "collapsed": false,
     "input": [
      "fs.lattice[(u'\\xea',u'r',u't')].extent"
     ],
     "language": "python",
     "metadata": {},
     "outputs": [
      {
       "metadata": {},
       "output_type": "pyout",
       "prompt_number": 18,
       "text": [
        "(u'p',\n",
        " u't',\n",
        " u'b',\n",
        " u'd',\n",
        " u'f',\n",
        " u's',\n",
        " u'v',\n",
        " u'z',\n",
        " u'm',\n",
        " u'n',\n",
        " u'r',\n",
        " u'E',\n",
        " u'6',\n",
        " u'\\xea')"
       ]
      }
     ],
     "prompt_number": 18
    },
    {
     "cell_type": "code",
     "collapsed": false,
     "input": [
      "fs.context.objects"
     ],
     "language": "python",
     "metadata": {},
     "outputs": [
      {
       "metadata": {},
       "output_type": "pyout",
       "prompt_number": 202,
       "text": [
        "(u'p',\n",
        " u't',\n",
        " u'k',\n",
        " u'b',\n",
        " u'd',\n",
        " u'g',\n",
        " u'f',\n",
        " u's',\n",
        " u'S',\n",
        " u'v',\n",
        " u'z',\n",
        " u'Z',\n",
        " u'm',\n",
        " u'n',\n",
        " u'J',\n",
        " u'j',\n",
        " u'l',\n",
        " u'r',\n",
        " u'w',\n",
        " u'H',\n",
        " u'i',\n",
        " u'y',\n",
        " u'E',\n",
        " u'e',\n",
        " u'6',\n",
        " u'a',\n",
        " u'u',\n",
        " u'O',\n",
        " u'o',\n",
        " u'\\xea',\n",
        " u'\\xe2',\n",
        " u'\\xf4')"
       ]
      }
     ],
     "prompt_number": 202
    },
    {
     "cell_type": "code",
     "collapsed": false,
     "input": [],
     "language": "python",
     "metadata": {},
     "outputs": []
    }
   ],
   "metadata": {}
  }
 ]
}