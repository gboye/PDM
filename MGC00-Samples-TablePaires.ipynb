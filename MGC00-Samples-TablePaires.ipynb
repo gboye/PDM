{
 "cells": [
  {
   "cell_type": "code",
   "execution_count": 1,
   "metadata": {
    "collapsed": true
   },
   "outputs": [],
   "source": [
    "# -*- coding: utf8 -*-\n",
    "%matplotlib inline\n",
    "import codecs\n",
    "import features\n",
    "import re\n",
    "import pandas as pd\n",
    "import numpy as np\n",
    "import matplotlib.pyplot as plt\n",
    "import itertools as it\n",
    "import pickle\n",
    "import math"
   ]
  },
  {
   "cell_type": "code",
   "execution_count": 2,
   "metadata": {
    "collapsed": true
   },
   "outputs": [],
   "source": [
    "import datetime\n",
    "def dateheure():\n",
    "    return datetime.datetime.utcnow().strftime('%y%m%d%H%M')"
   ]
  },
  {
   "cell_type": "markdown",
   "metadata": {},
   "source": [
    "typeEchantillon : \n",
    "- fixe pour utiliser tailleEchantillon\n",
    "- variable pour utiliser nombre,increment\n",
    "- total pour utiliser tout le lexique"
   ]
  },
  {
   "cell_type": "code",
   "execution_count": 27,
   "metadata": {
    "collapsed": true
   },
   "outputs": [],
   "source": [
    "filePrefix=\"MGC-150815\"\n",
    "exportName=\"MGC-151208-TablesPaires.pkl\"\n",
    "repertoire=\"/Users/gilles/Copy/Recherche/Boye/CMLF2016/\"\n"
   ]
  },
  {
   "cell_type": "code",
   "execution_count": 4,
   "metadata": {
    "collapsed": false
   },
   "outputs": [],
   "source": [
    "rangsEchantillons=5\n",
    "nombreEchantillons=20\n",
    "echantillonPrefix=\"-extend\""
   ]
  },
  {
   "cell_type": "markdown",
   "metadata": {},
   "source": [
    "##Importations\n",
    "- codecs pour les encodages\n",
    "- pandas et numpy pour les calculs sur tableaux\n",
    "- matplotlib pour les graphiques\n",
    "- itertools pour les itérateurs sophistiqués (paires sur liste, ...)"
   ]
  },
  {
   "cell_type": "markdown",
   "metadata": {},
   "source": [
    "###Définition des cases\n",
    "- principales pour le paradigme courant\n",
    "- secondaires pour les cases rares\n",
    "- totales pour le tout"
   ]
  },
  {
   "cell_type": "code",
   "execution_count": 5,
   "metadata": {
    "collapsed": false
   },
   "outputs": [],
   "source": [
    "casesPrincipales= [\n",
    "        'inf', 'pi1S', 'pi2S', 'pi3S', 'pi1P', 'pi2P', 'pi3P', 'ii1S',\n",
    "        'ii2S', 'ii3S', 'ii1P', 'ii2P', 'ii3P', \n",
    "        'fi1S', 'fi2S', 'fi3S', 'fi1P', 'fi2P',\n",
    "        'fi3P', 'pI2S', 'pI1P', 'pI2P', 'ps1S', 'ps2S', 'ps3S', 'ps1P',\n",
    "        'ps2P', 'ps3P', \n",
    "        'pc1S', 'pc2S', 'pc3S', 'pc1P', 'pc2P', 'pc3P', 'pP',\n",
    "        'ppMS', 'ppMP', 'ppFS', 'ppFP'\n",
    "            ]\n",
    "casesSecondaires= [\n",
    "       'ai1S', 'ai2S', 'ai3S', 'ai1P', 'ai2P', 'ai3P', 'is1S', 'is2S', 'is3S', 'is1P', 'is2P', 'is3P'\n",
    "            ]\n",
    "casesTotales=casesPrincipales+casesSecondaires\n",
    "listeCases=casesTotales"
   ]
  },
  {
   "cell_type": "code",
   "execution_count": null,
   "metadata": {
    "collapsed": true
   },
   "outputs": [],
   "source": [
    "pdEchantillon=pd.read_csv(\"2015-Data/\"+filePrefix+echantillonPrefix+\"-01\"+\"-paradigmes.csv\",sep=\";\",encoding=\"utf8\")"
   ]
  },
  {
   "cell_type": "code",
   "execution_count": 15,
   "metadata": {
    "collapsed": true
   },
   "outputs": [
    {
     "data": {
      "text/plain": [
       "[u'ai1P',\n",
       " u'ai1S',\n",
       " u'ai2P',\n",
       " u'ai2S',\n",
       " u'ai3P',\n",
       " u'ai3S',\n",
       " u'fi1P',\n",
       " u'fi1S',\n",
       " u'fi2P',\n",
       " u'fi2S',\n",
       " u'fi3P',\n",
       " u'fi3S',\n",
       " u'ii1P',\n",
       " u'ii1S',\n",
       " u'ii2P',\n",
       " u'ii2S',\n",
       " u'ii3P',\n",
       " u'ii3S',\n",
       " u'inf',\n",
       " u'is1S',\n",
       " u'is3P',\n",
       " u'is3S',\n",
       " u'pI1P',\n",
       " u'pI2P',\n",
       " u'pI2S',\n",
       " u'pP',\n",
       " u'pc1P',\n",
       " u'pc1S',\n",
       " u'pc2P',\n",
       " u'pc2S',\n",
       " u'pc3P',\n",
       " u'pc3S',\n",
       " u'pi1P',\n",
       " u'pi1S',\n",
       " u'pi2P',\n",
       " u'pi2S',\n",
       " u'pi3P',\n",
       " u'pi3S',\n",
       " u'ppFP',\n",
       " u'ppFS',\n",
       " u'ppMP',\n",
       " u'ppMS',\n",
       " u'ps1P',\n",
       " u'ps1S',\n",
       " u'ps2P',\n",
       " u'ps2S',\n",
       " u'ps3P',\n",
       " u'ps3S']"
      ]
     },
     "execution_count": 15,
     "metadata": {},
     "output_type": "execute_result"
    },
    {
     "name": "stdout",
     "output_type": "stream",
     "text": [
      "\n"
     ]
    }
   ],
   "source": [
    "sampleCases=[]\n",
    "for element in pdEchantillon.columns:\n",
    "    if element in casesTotales:\n",
    "        sampleCases.append(element)\n",
    "#sampleCases"
   ]
  },
  {
   "cell_type": "code",
   "execution_count": 24,
   "metadata": {
    "collapsed": false
   },
   "outputs": [],
   "source": [
    "table=pd.DataFrame(columns=[\"ligne\",\"colonne\",\"nbPaires\"])\n",
    "for n,paire in enumerate(it.combinations_with_replacement(sampleCases,2)):\n",
    "    element=[paire[1],paire[0], len(pdEchantillon[[paire[0],paire[1]]].dropna())]\n",
    "    table.loc[n]=element"
   ]
  },
  {
   "cell_type": "code",
   "execution_count": 26,
   "metadata": {
    "collapsed": false
   },
   "outputs": [],
   "source": [
    "tableau=table.pivot_table(index=\"ligne\",columns=[\"colonne\"])"
   ]
  },
  {
   "cell_type": "code",
   "execution_count": 28,
   "metadata": {
    "collapsed": true
   },
   "outputs": [],
   "source": [
    "with codecs.open(repertoire+exportName,\"wb\") as output:\n",
    "    pickle.dump(tableau, output, pickle.HIGHEST_PROTOCOL)\n"
   ]
  },
  {
   "cell_type": "code",
   "execution_count": null,
   "metadata": {
    "collapsed": true
   },
   "outputs": [],
   "source": []
  },
  {
   "cell_type": "code",
   "execution_count": null,
   "metadata": {
    "collapsed": true
   },
   "outputs": [],
   "source": []
  }
 ],
 "metadata": {
  "kernelspec": {
   "display_name": "Python 2",
   "language": "python",
   "name": "python2"
  },
  "language_info": {
   "codemirror_mode": {
    "name": "ipython",
    "version": 2
   },
   "file_extension": ".py",
   "mimetype": "text/x-python",
   "name": "python",
   "nbconvert_exporter": "python",
   "pygments_lexer": "ipython2",
   "version": "2.7.10"
  }
 },
 "nbformat": 4,
 "nbformat_minor": 0
}
