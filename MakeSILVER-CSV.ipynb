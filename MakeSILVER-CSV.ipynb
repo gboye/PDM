{
 "cells": [
  {
   "cell_type": "code",
   "execution_count": 10,
   "metadata": {
    "collapsed": false
   },
   "outputs": [],
   "source": [
    "debug=False\n",
    "import pandas as pd\n",
    "import numpy as np\n",
    "import yaml\n",
    "import os.path\n",
    "import pickle\n",
    "from __future__ import print_function\n",
    "import datetime\n",
    "def dateheure():\n",
    "    return datetime.datetime.utcnow().strftime('%y%m%d%H%M')"
   ]
  },
  {
   "cell_type": "code",
   "execution_count": 13,
   "metadata": {
    "collapsed": false
   },
   "outputs": [],
   "source": [
    "def transformFile(fileName):\n",
    "    with open(fileName, 'rb') as input:\n",
    "        paradigme = pickle.load(input)\n",
    "    csvFileName=fileName.rsplit('.')[0]+\".csv\"\n",
    "    if os.path.exists(csvFileName):\n",
    "        print (csvFileName, \"existe déjà\")\n",
    "    else:\n",
    "        paradigme.to_csv(path_or_buf=csvFileName,encoding=\"utf8\",sep=\";\")\n",
    "\n",
    "def transform(sampleNumber):\n",
    "    samplePrefix=\"MGC-150815-extend-%s-paradigmes\"%sampleNumber\n",
    "    analysisPrefix=\"MGC-150815-extend-%s\"%sampleNumber\n",
    "    silverFileName=\"2015-Data/\"+analysisPrefix+'-Silver.pkl'\n",
    "    transformFile(silverFileName)\n",
    "    goldFileName=\"2015-Data/\"+analysisPrefix+'-Gold.pkl'\n",
    "    transformFile(goldFileName)\n"
   ]
  },
  {
   "cell_type": "code",
   "execution_count": 14,
   "metadata": {
    "collapsed": false
   },
   "outputs": [
    {
     "name": "stdout",
     "output_type": "stream",
     "text": [
      "2015-Data/MGC-150815-extend-04-X-Silver.csv existe déjà\n"
     ]
    }
   ],
   "source": [
    "sampleNumbers=[\"04-X\"]\n",
    "for sampleNumber in sampleNumbers:\n",
    "    transform(sampleNumber)\n"
   ]
  },
  {
   "cell_type": "code",
   "execution_count": null,
   "metadata": {
    "collapsed": true
   },
   "outputs": [],
   "source": []
  }
 ],
 "metadata": {
  "kernelspec": {
   "display_name": "Python 2",
   "language": "python",
   "name": "python2"
  },
  "language_info": {
   "codemirror_mode": {
    "name": "ipython",
    "version": 2
   },
   "file_extension": ".py",
   "mimetype": "text/x-python",
   "name": "python",
   "nbconvert_exporter": "python",
   "pygments_lexer": "ipython2",
   "version": "2.7.10"
  }
 },
 "nbformat": 4,
 "nbformat_minor": 0
}
