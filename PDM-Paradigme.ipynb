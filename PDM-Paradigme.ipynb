{
 "metadata": {
  "name": "",
  "signature": "sha256:1350e98ed48e876a397af5eb48ee54893c97110a069a4c1bc33d91a8112d3f51"
 },
 "nbformat": 3,
 "nbformat_minor": 0,
 "worksheets": [
  {
   "cells": [
    {
     "cell_type": "code",
     "collapsed": false,
     "input": [
      "from PDM import *\n",
      "import PDM \n",
      "import pickle"
     ],
     "language": "python",
     "metadata": {},
     "outputs": [],
     "prompt_number": 1
    },
    {
     "cell_type": "code",
     "collapsed": false,
     "input": [
      "PDM.seuilDistribution=0.1"
     ],
     "language": "python",
     "metadata": {},
     "outputs": [],
     "prompt_number": 2
    },
    {
     "cell_type": "code",
     "collapsed": false,
     "input": [
      "analyse=Regles()\n",
      "classification=Classes()"
     ],
     "language": "python",
     "metadata": {},
     "outputs": [],
     "prompt_number": 3
    },
    {
     "cell_type": "code",
     "collapsed": false,
     "input": [
      "with open('Regles.pkl', 'rb') as input:\n",
      "    analyse = pickle.load(input)\n",
      "with open('Classes.pkl', 'rb') as input:\n",
      "    classification = pickle.load(input)"
     ],
     "language": "python",
     "metadata": {},
     "outputs": [],
     "prompt_number": 4
    },
    {
     "cell_type": "markdown",
     "metadata": {},
     "source": [
      "#D\u00e9finition de la repr\u00e9sentation lexicale\n",
      "\n",
      "- Cr\u00e9ation des cases\n",
      " - Ajout des formes\n",
      "- Cr\u00e9ation du paradigme\n",
      " - Ajout des cases"
     ]
    },
    {
     "cell_type": "code",
     "collapsed": false,
     "input": [
      "inf=Case(\"inf\")\n",
      "inf.addForm(FormeCoef(\"finir\",1))\n",
      "prs1=Case(\"prs.1\")\n",
      "prs1.addForm(FormeCoef(\"fini\",1))\n",
      "pst1=Case(\"pst.1\")\n",
      "pst1.addForm(FormeCoef(\"fini\",1))"
     ],
     "language": "python",
     "metadata": {},
     "outputs": [],
     "prompt_number": 5
    },
    {
     "cell_type": "code",
     "collapsed": false,
     "input": [
      "verbe=Paradigme()\n",
      "verbe.addEntrees(inf,prs1,pst1)\n",
      "verbe"
     ],
     "language": "python",
     "metadata": {},
     "outputs": [
      {
       "metadata": {},
       "output_type": "pyout",
       "prompt_number": 6,
       "text": [
        "entrees : {prs.1 : [(\"fini\",1)], inf : [(\"finir\",1)], pst.1 : [(\"fini\",1)]} \n",
        "sorties : {}"
       ]
      }
     ],
     "prompt_number": 6
    },
    {
     "cell_type": "code",
     "collapsed": false,
     "input": [
      "def modifierForme(forme,numRegle):\n",
      "    patron=analyse.regles[numRegle].patron\n",
      "    mod=analyse.regles[numRegle].mod\n",
      "\n",
      "    m=re.search(patron,forme)\n",
      "    if m:\n",
      "        sortie=m.group(1)+mod+m.group(2)\n",
      "        return(forme,sortie)\n",
      "    else:\n",
      "        return (forme,\"\")"
     ],
     "language": "python",
     "metadata": {},
     "outputs": [],
     "prompt_number": 7
    },
    {
     "cell_type": "code",
     "collapsed": false,
     "input": [
      "for inCase in verbe.entrees:\n",
      "    for fc in verbe.entrees[inCase]:\n",
      "        forme=fc.forme\n",
      "        for outCase in analyse.pairesCase[inCase]:\n",
      "            paire=Paire(inCase,outCase)\n",
      "            formeSorties=FormeClasse(forme)\n",
      "            for numRegle in analyse.reglesPaire[paire]:\n",
      "                (entree,sortie)=modifierForme(forme,numRegle)\n",
      "                if sortie!=\"\":\n",
      "                    formeSorties.addRule(RegleDist(numRegle,1,sortie,entree))\n",
      "            if formeSorties in classification.classes[paire]:\n",
      "                numClasse=classification.classes[paire].index(formeSorties)\n",
      "                for numRegle in formeSorties.reglesDist:\n",
      "                    formeSorties.reglesDist[numRegle].dist=classification.classes[paire][numClasse].reglesDist[numRegle].dist\n",
      "                for rd in formeSorties.numRulesDist():\n",
      "                    if rd.dist!=0:\n",
      "                        verbe.addSupporter(paire,rd)\n",
      "            else:\n",
      "                print (\"pas de classe\")"
     ],
     "language": "python",
     "metadata": {},
     "outputs": [],
     "prompt_number": 8
    },
    {
     "cell_type": "code",
     "collapsed": false,
     "input": [
      "for outCase in verbe.supporters:\n",
      "    for forme in verbe.supporters[outCase]:\n",
      "        print (outCase,forme,verbe.supporters[outCase][forme])"
     ],
     "language": "python",
     "metadata": {},
     "outputs": [
      {
       "output_type": "stream",
       "stream": "stdout",
       "text": [
        "sbjv.6 fin [10498 (0.29 finir:inf), 6877 (0.71 fini:pst.1)]\n",
        "sbjv.6 finis [8489 (0.36 finir:inf), 1669 (0.35 fini:prs.1), 6878 (0.29 fini:pst.1)]\n",
        "sbjv.6 fini [1623 (1 fini:prs.1)]\n",
        "sbjv.4 finj\u00f4 [1545 (0.29 fini:prs.1), 10422 (0.71 finir:inf)]\n",
        "sbjv.4 finisj\u00f4 [1544 (0.34 fini:prs.1), 6760 (0.43 fini:pst.1), 8351 (0.22 finir:inf)]\n",
        "sbjv.5 finjE [1499 (0.29 fini:prs.1), 10439 (0.71 finir:inf)]\n",
        "sbjv.5 finisjE [6788 (0.43 fini:pst.1), 1589 (0.34 fini:prs.1), 8382 (0.22 finir:inf)]\n",
        "sbjv.2 fin [10498 (0.29 finir:inf), 6877 (0.71 fini:pst.1)]\n",
        "sbjv.2 finis [8489 (0.36 finir:inf), 1669 (0.35 fini:prs.1), 6878 (0.29 fini:pst.1)]\n",
        "sbjv.2 fini [1623 (1 fini:prs.1)]\n",
        "sbjv.3 fin [10498 (0.29 finir:inf), 6877 (0.71 fini:pst.1)]\n",
        "sbjv.3 finis [8489 (0.36 finir:inf), 1669 (0.35 fini:prs.1), 6878 (0.29 fini:pst.1)]\n",
        "sbjv.3 fini [1623 (1 fini:prs.1)]\n",
        "sbjv.1 fin [10498 (0.29 finir:inf), 6877 (0.71 fini:pst.1)]\n",
        "sbjv.1 finis [8489 (0.36 finir:inf), 1669 (0.35 fini:prs.1), 6878 (0.29 fini:pst.1)]\n",
        "sbjv.1 fini [1623 (1 fini:prs.1)]\n",
        "cond.5 finirjE [7052 (0.34 fini:pst.1), 1820 (0.33 fini:prs.1), 10597 (0.34 finir:inf)]\n",
        "cond.5 finidrijE [1819 (1 fini:prs.1)]\n",
        "cond.4 finirj\u00f4 [1794 (0.33 fini:prs.1), 7020 (0.34 fini:pst.1), 10581 (0.34 finir:inf)]\n",
        "cond.4 finidrij\u00f4 [1793 (1 fini:prs.1)]\n",
        "cond.6 finirE [1712 (0.33 fini:prs.1), 10531 (0.34 finir:inf), 6917 (0.34 fini:pst.1)]\n",
        "cond.6 finidrE [1711 (1 fini:prs.1)]\n",
        "cond.1 finirE [1712 (0.33 fini:prs.1), 10531 (0.34 finir:inf), 6917 (0.34 fini:pst.1)]\n",
        "cond.1 finidrE [1711 (1 fini:prs.1)]\n",
        "cond.3 finirE [1712 (0.33 fini:prs.1), 10531 (0.34 finir:inf), 6917 (0.34 fini:pst.1)]\n",
        "cond.3 finidrE [1711 (1 fini:prs.1)]\n",
        "cond.2 finirE [1712 (0.33 fini:prs.1), 10531 (0.34 finir:inf), 6917 (0.34 fini:pst.1)]\n",
        "cond.2 finidrE [1711 (1 fini:prs.1)]\n",
        "pst.pcp finjE [1499 (1 fini:prs.1)]\n",
        "pst.pcp fini [7145 (0.42 fini:pst.1), 8835 (0.37 finir:inf), 2254 (0.21 fini:prs.1)]\n",
        "pst.pcp finy [10831 (1 finir:inf)]\n",
        "prs.pcp finis\u00e2 [7117 (0.34 fini:pst.1), 2214 (0.4 fini:prs.1), 8807 (0.27 finir:inf)]\n",
        "prs.pcp finj\u00e2 [2215 (1 fini:prs.1)]\n",
        "prs.pcp fin\u00e2 [7116 (0.41 fini:pst.1), 10815 (0.59 finir:inf)]\n",
        "pst.sbj.4 finjasj\u00f4 [2098 (1 fini:prs.1)]\n",
        "pst.sbj.4 finisj\u00f4 [2097 (0.19 fini:prs.1), 7087 (0.4 fini:pst.1), 10753 (0.4 finir:inf)]\n",
        "pst.sbj.5 finjasjE [2146 (1 fini:prs.1)]\n",
        "pst.sbj.5 finisjE [7088 (0.4 fini:pst.1), 2145 (0.19 fini:prs.1), 10781 (0.4 finir:inf)]\n",
        "pst.sbj.6 finjas [2050 (1 fini:prs.1)]\n",
        "pst.sbj.6 finis [2049 (0.19 fini:prs.1), 10725 (0.4 finir:inf), 7086 (0.4 fini:pst.1)]\n",
        "pst.sbj.1 finjas [2050 (1 fini:prs.1)]\n",
        "pst.sbj.1 finis [2049 (0.19 fini:prs.1), 10725 (0.4 finir:inf), 7086 (0.4 fini:pst.1)]\n",
        "pst.sbj.2 finjas [2050 (1 fini:prs.1)]\n",
        "pst.sbj.2 finis [2049 (0.19 fini:prs.1), 10725 (0.4 finir:inf), 7086 (0.4 fini:pst.1)]\n",
        "pst.sbj.3 fini [8409 (0.4 finir:inf), 1845 (0.19 fini:prs.1), 2254 (0.4 fini:pst.1)]\n",
        "pst.sbj.3 finja [1883 (1 fini:prs.1)]\n",
        "ipf.6 finE [6730 (0.38 fini:pst.1), 10404 (0.62 finir:inf)]\n",
        "ipf.6 finjE [1499 (1 fini:prs.1)]\n",
        "ipf.6 finisE [1498 (0.39 fini:prs.1), 6731 (0.35 fini:pst.1), 8319 (0.26 finir:inf)]\n",
        "ipf.5 finjE [1499 (0.29 fini:prs.1), 10439 (0.71 finir:inf)]\n",
        "ipf.5 finisjE [6788 (0.43 fini:pst.1), 1589 (0.34 fini:prs.1), 8382 (0.22 finir:inf)]\n",
        "ipf.4 finj\u00f4 [1545 (0.29 fini:prs.1), 10422 (0.71 finir:inf)]\n",
        "ipf.4 finisj\u00f4 [1544 (0.34 fini:prs.1), 6760 (0.43 fini:pst.1), 8351 (0.22 finir:inf)]\n",
        "ipf.3 finE [6730 (0.38 fini:pst.1), 10404 (0.62 finir:inf)]\n",
        "ipf.3 finjE [1499 (1 fini:prs.1)]\n",
        "ipf.3 finisE [1498 (0.39 fini:prs.1), 6731 (0.35 fini:pst.1), 8319 (0.26 finir:inf)]\n",
        "ipf.2 finE [6730 (0.38 fini:pst.1), 10404 (0.62 finir:inf)]\n",
        "ipf.2 finjE [1499 (1 fini:prs.1)]\n",
        "ipf.2 finisE [1498 (0.39 fini:prs.1), 6731 (0.35 fini:pst.1), 8319 (0.26 finir:inf)]\n",
        "ipf.1 finE [6730 (0.38 fini:pst.1), 10404 (0.62 finir:inf)]\n",
        "ipf.1 finjE [1499 (1 fini:prs.1)]\n",
        "ipf.1 finisE [1498 (0.39 fini:prs.1), 6731 (0.35 fini:pst.1), 8319 (0.26 finir:inf)]\n",
        "inf finjE [1499 (1 fini:prs.1)]\n",
        "inf finir [1999 (0.68 fini:pst.1), 2191 (0.32 fini:prs.1)]\n",
        "imp.2 fini [10450 (0.33 finir:inf), 1845 (0.33 fini:pst.1), 1623 (0.33 fini:prs.1)]\n",
        "imp.4 fin\u00f4 [6848 (1 fini:pst.1)]\n",
        "imp.4 finj\u00f4 [1545 (1 fini:prs.1)]\n",
        "imp.4 finis\u00f4 [6849 (0.28 fini:pst.1), 8460 (0.4 finir:inf), 1631 (0.32 fini:prs.1)]\n",
        "imp.5 finE [6730 (1 fini:pst.1)]\n",
        "imp.5 finjE [1499 (1 fini:prs.1)]\n",
        "imp.5 finisE [1498 (0.32 fini:prs.1), 6731 (0.28 fini:pst.1), 8319 (0.4 finir:inf)]\n",
        "pst.5 finit [7084 (0.4 fini:pst.1), 10668 (0.4 finir:inf), 1949 (0.19 fini:prs.1)]\n",
        "pst.5 finjat [1950 (1 fini:prs.1)]\n",
        "pst.4 finjam [1900 (1 fini:prs.1)]\n",
        "pst.4 finim [1899 (0.19 fini:prs.1), 7083 (0.4 fini:pst.1), 10639 (0.4 finir:inf)]\n",
        "pst.6 finjEr [2000 (1 fini:prs.1)]\n",
        "pst.6 finir [8778 (0.4 finir:inf), 7085 (0.4 fini:pst.1), 1999 (0.19 fini:prs.1)]\n",
        "pst.1 finjE [1499 (1 fini:prs.1)]\n",
        "pst.1 fini [8409 (0.68 finir:inf), 1845 (0.32 fini:prs.1)]\n",
        "pst.3 fini [8409 (0.4 finir:inf), 1845 (0.19 fini:prs.1), 2254 (0.4 fini:pst.1)]\n",
        "pst.3 finja [1883 (1 fini:prs.1)]\n",
        "pst.2 fini [8409 (0.4 finir:inf), 1845 (0.19 fini:prs.1), 2254 (0.4 fini:pst.1)]\n",
        "pst.2 finja [1883 (1 fini:prs.1)]\n",
        "prs.1 fini [10450 (0.5 finir:inf), 1845 (0.5 fini:pst.1)]\n",
        "prs.3 fini [10450 (0.33 finir:inf), 1845 (0.33 fini:pst.1), 1623 (0.33 fini:prs.1)]\n",
        "prs.2 fini [10450 (0.33 finir:inf), 1845 (0.33 fini:pst.1), 1623 (0.33 fini:prs.1)]\n",
        "prs.5 finE [6730 (1 fini:pst.1)]\n",
        "prs.5 finjE [1499 (1 fini:prs.1)]\n",
        "prs.5 finisE [1498 (0.32 fini:prs.1), 6731 (0.28 fini:pst.1), 8319 (0.4 finir:inf)]\n",
        "prs.4 fin\u00f4 [6848 (1 fini:pst.1)]\n",
        "prs.4 finj\u00f4 [1545 (1 fini:prs.1)]\n",
        "prs.4 finis\u00f4 [6849 (0.28 fini:pst.1), 8460 (0.4 finir:inf), 1631 (0.32 fini:prs.1)]\n",
        "prs.6 fin [10498 (0.29 finir:inf), 6877 (0.71 fini:pst.1)]\n",
        "prs.6 finis [8489 (0.36 finir:inf), 1669 (0.35 fini:prs.1), 6878 (0.29 fini:pst.1)]\n",
        "prs.6 fini [1623 (1 fini:prs.1)]\n",
        "fut.5 finirE [1712 (0.33 fini:prs.1), 10531 (0.34 finir:inf), 6917 (0.34 fini:pst.1)]\n",
        "fut.5 finidrE [1711 (1 fini:prs.1)]\n",
        "fut.4 finir\u00f4 [6985 (0.34 fini:pst.1), 10563 (0.34 finir:inf), 1767 (0.33 fini:prs.1)]\n",
        "fut.4 finidr\u00f4 [1766 (1 fini:prs.1)]\n",
        "fut.6 finir\u00f4 [6985 (0.34 fini:pst.1), 10563 (0.34 finir:inf), 1767 (0.33 fini:prs.1)]\n",
        "fut.6 finidr\u00f4 [1766 (1 fini:prs.1)]\n",
        "fut.1 finirE [1712 (0.33 fini:prs.1), 10531 (0.34 finir:inf), 6917 (0.34 fini:pst.1)]\n",
        "fut.1 finidrE [1711 (1 fini:prs.1)]\n",
        "fut.3 finidra [1738 (1 fini:prs.1)]\n",
        "fut.3 finira [10547 (0.34 finir:inf), 1739 (0.33 fini:prs.1), 6951 (0.34 fini:pst.1)]\n",
        "fut.2 finidra [1738 (1 fini:prs.1)]\n",
        "fut.2 finira [10547 (0.34 finir:inf), 1739 (0.33 fini:prs.1), 6951 (0.34 fini:pst.1)]\n"
       ]
      }
     ],
     "prompt_number": 9
    },
    {
     "cell_type": "code",
     "collapsed": false,
     "input": [
      "verbe.sorties"
     ],
     "language": "python",
     "metadata": {},
     "outputs": [
      {
       "metadata": {},
       "output_type": "pyout",
       "prompt_number": 10,
       "text": [
        "{}"
       ]
      }
     ],
     "prompt_number": 10
    },
    {
     "cell_type": "code",
     "collapsed": false,
     "input": [],
     "language": "python",
     "metadata": {},
     "outputs": [],
     "prompt_number": 10
    }
   ],
   "metadata": {}
  }
 ]
}