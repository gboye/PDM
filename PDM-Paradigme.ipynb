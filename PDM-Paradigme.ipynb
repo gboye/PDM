{
 "metadata": {
  "name": "",
  "signature": "sha256:db3f533c15c71da3774206aac37375a4604c652e21bfb942d181b00fb3e84d92"
 },
 "nbformat": 3,
 "nbformat_minor": 0,
 "worksheets": [
  {
   "cells": [
    {
     "cell_type": "code",
     "collapsed": false,
     "input": [
      "from PDM import *\n",
      "import PDM \n",
      "import pickle"
     ],
     "language": "python",
     "metadata": {},
     "outputs": [],
     "prompt_number": 11
    },
    {
     "cell_type": "code",
     "collapsed": false,
     "input": [
      "PDM.seuilDistribution=0.1"
     ],
     "language": "python",
     "metadata": {},
     "outputs": [],
     "prompt_number": 12
    },
    {
     "cell_type": "code",
     "collapsed": false,
     "input": [
      "analyse=Regles()\n",
      "classification=Classes()"
     ],
     "language": "python",
     "metadata": {},
     "outputs": [],
     "prompt_number": 13
    },
    {
     "cell_type": "code",
     "collapsed": false,
     "input": [
      "with open('Regles.pkl', 'rb') as input:\n",
      "    analyse = pickle.load(input)\n",
      "with open('Classes.pkl', 'rb') as input:\n",
      "    classification = pickle.load(input)"
     ],
     "language": "python",
     "metadata": {},
     "outputs": [],
     "prompt_number": 14
    },
    {
     "cell_type": "markdown",
     "metadata": {},
     "source": [
      "#D\u00e9finition de la repr\u00e9sentation lexicale\n",
      "\n",
      "- Cr\u00e9ation des cases\n",
      " - Ajout des formes\n",
      "- Cr\u00e9ation du paradigme\n",
      " - Ajout des cases"
     ]
    },
    {
     "cell_type": "code",
     "collapsed": false,
     "input": [
      "inf=Case(\"inf\")\n",
      "inf.addForm(FormeCoef(\"finir\",1))"
     ],
     "language": "python",
     "metadata": {},
     "outputs": [],
     "prompt_number": 15
    },
    {
     "cell_type": "code",
     "collapsed": false,
     "input": [
      "verbe=Paradigme()\n",
      "verbe.addEntree(inf)\n",
      "verbe"
     ],
     "language": "python",
     "metadata": {},
     "outputs": [
      {
       "metadata": {},
       "output_type": "pyout",
       "prompt_number": 16,
       "text": [
        "entrees : {inf : [(\"finir\",1)]} \n",
        "sorties : {}"
       ]
      }
     ],
     "prompt_number": 16
    },
    {
     "cell_type": "code",
     "collapsed": false,
     "input": [
      "sorted([\"a\",\"c\",\"b\"])==sorted([\"c\",\"b\",\"a\"])"
     ],
     "language": "python",
     "metadata": {},
     "outputs": [
      {
       "metadata": {},
       "output_type": "pyout",
       "prompt_number": 17,
       "text": [
        "True"
       ]
      }
     ],
     "prompt_number": 17
    },
    {
     "cell_type": "code",
     "collapsed": false,
     "input": [
      "def modifierForme(forme,numRegle):\n",
      "    patron=analyse.regles[numRegle].patron\n",
      "    mod=analyse.regles[numRegle].mod\n",
      "\n",
      "    m=re.search(patron,forme)\n",
      "    if m:\n",
      "        sortie=m.group(1)+mod+m.group(2)\n",
      "        return(forme,sortie)\n",
      "    else:\n",
      "        return (forme,\"\")\n",
      "    \n",
      "for inCase in verbe.entrees:\n",
      "    for fc in verbe.entrees[inCase]:\n",
      "        forme=fc.forme\n",
      "        for outCase in analyse.pairesCase[inCase]:\n",
      "            paire=Paire(inCase,outCase)\n",
      "            print (paire)\n",
      "            formeSorties=FormeClasse(forme)\n",
      "            for numRegle in analyse.reglesPaire[paire]:\n",
      "                (entree,sortie)=modifierForme(forme,numRegle)\n",
      "                if sortie!=\"\":\n",
      "                    formeSorties.addRule(RegleDist(numRegle,1,sortie))\n",
      "            nomClasse=formeSorties.getRules()\n",
      "            if formeSorties in classification.classes[paire]:\n",
      "                numClasse=classification.classes[paire].index(formeSorties)\n",
      "                for element in classification.classes[paire][numClasse]:\n",
      "                    print (element.regle,element.dist)\n",
      "                for rd in formeSorties.reglesDist:\n",
      "                    numRegle=classification.classes[paire][numClasse].index(rd)\n",
      "                    formeSorties.reglesDist[rd].dist=classification.classes[paire][numClasse][rd.regle]\n",
      "                print (formeSorties)\n",
      "            else:\n",
      "                print (\"pas de classe\")\n",
      "            print ()\n",
      "            print ()"
     ],
     "language": "python",
     "metadata": {},
     "outputs": [
      {
       "output_type": "stream",
       "stream": "stdout",
       "text": [
        "inf=>ipf.1\n",
        "8319 52.94\n",
        "10398 0.0\n",
        "10404 47.06\n"
       ]
      },
      {
       "ename": "AttributeError",
       "evalue": "'FormeClasse' object has no attribute 'index'",
       "output_type": "pyerr",
       "traceback": [
        "\u001b[0;31m---------------------------------------------------------------------------\u001b[0m\n\u001b[0;31mAttributeError\u001b[0m                            Traceback (most recent call last)",
        "\u001b[0;32m<ipython-input-41-8bb0a0b781d2>\u001b[0m in \u001b[0;36m<module>\u001b[0;34m()\u001b[0m\n\u001b[1;32m     27\u001b[0m                     \u001b[0mprint\u001b[0m \u001b[0;34m(\u001b[0m\u001b[0melement\u001b[0m\u001b[0;34m.\u001b[0m\u001b[0mregle\u001b[0m\u001b[0;34m,\u001b[0m\u001b[0melement\u001b[0m\u001b[0;34m.\u001b[0m\u001b[0mdist\u001b[0m\u001b[0;34m)\u001b[0m\u001b[0;34m\u001b[0m\u001b[0m\n\u001b[1;32m     28\u001b[0m                 \u001b[0;32mfor\u001b[0m \u001b[0mrd\u001b[0m \u001b[0;32min\u001b[0m \u001b[0mformeSorties\u001b[0m\u001b[0;34m.\u001b[0m\u001b[0mreglesDist\u001b[0m\u001b[0;34m:\u001b[0m\u001b[0;34m\u001b[0m\u001b[0m\n\u001b[0;32m---> 29\u001b[0;31m                     \u001b[0mnumRegle\u001b[0m\u001b[0;34m=\u001b[0m\u001b[0mclassification\u001b[0m\u001b[0;34m.\u001b[0m\u001b[0mclasses\u001b[0m\u001b[0;34m[\u001b[0m\u001b[0mpaire\u001b[0m\u001b[0;34m]\u001b[0m\u001b[0;34m[\u001b[0m\u001b[0mnumClasse\u001b[0m\u001b[0;34m]\u001b[0m\u001b[0;34m.\u001b[0m\u001b[0mindex\u001b[0m\u001b[0;34m(\u001b[0m\u001b[0mrd\u001b[0m\u001b[0;34m)\u001b[0m\u001b[0;34m\u001b[0m\u001b[0m\n\u001b[0m\u001b[1;32m     30\u001b[0m                     \u001b[0mformeSorties\u001b[0m\u001b[0;34m.\u001b[0m\u001b[0mreglesDist\u001b[0m\u001b[0;34m[\u001b[0m\u001b[0mrd\u001b[0m\u001b[0;34m]\u001b[0m\u001b[0;34m.\u001b[0m\u001b[0mdist\u001b[0m\u001b[0;34m=\u001b[0m\u001b[0mclassification\u001b[0m\u001b[0;34m.\u001b[0m\u001b[0mclasses\u001b[0m\u001b[0;34m[\u001b[0m\u001b[0mpaire\u001b[0m\u001b[0;34m]\u001b[0m\u001b[0;34m[\u001b[0m\u001b[0mnumClasse\u001b[0m\u001b[0;34m]\u001b[0m\u001b[0;34m[\u001b[0m\u001b[0mrd\u001b[0m\u001b[0;34m.\u001b[0m\u001b[0mregle\u001b[0m\u001b[0;34m]\u001b[0m\u001b[0;34m\u001b[0m\u001b[0m\n\u001b[1;32m     31\u001b[0m                 \u001b[0mprint\u001b[0m \u001b[0;34m(\u001b[0m\u001b[0mformeSorties\u001b[0m\u001b[0;34m)\u001b[0m\u001b[0;34m\u001b[0m\u001b[0m\n",
        "\u001b[0;31mAttributeError\u001b[0m: 'FormeClasse' object has no attribute 'index'"
       ]
      }
     ],
     "prompt_number": 41
    },
    {
     "cell_type": "code",
     "collapsed": false,
     "input": [],
     "language": "python",
     "metadata": {},
     "outputs": [],
     "prompt_number": 12
    },
    {
     "cell_type": "code",
     "collapsed": false,
     "input": [],
     "language": "python",
     "metadata": {},
     "outputs": []
    }
   ],
   "metadata": {}
  }
 ]
}