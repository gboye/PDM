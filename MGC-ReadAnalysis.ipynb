{
 "cells": [
  {
   "cell_type": "markdown",
   "metadata": {},
   "source": [
    "##Importations\n",
    "- codecs pour les encodages\n",
    "- pandas et numpy pour les calculs sur tableaux\n",
    "- matplotlib pour les graphiques\n",
    "- itertools pour les itérateurs sophistiqués (paires sur liste, ...)"
   ]
  },
  {
   "cell_type": "code",
   "execution_count": 37,
   "metadata": {
    "collapsed": false
   },
   "outputs": [],
   "source": [
    "# -*- coding: utf8 -*-\n",
    "import codecs\n",
    "import features\n",
    "import re\n",
    "import pandas as pd\n",
    "import numpy as np\n",
    "import matplotlib.pyplot as plt\n",
    "import itertools as it\n",
    "import pickle\n",
    "#%pylab inline\n",
    "#pd.options.display.mpl_style = 'default'\n",
    "debug=False"
   ]
  },
  {
   "cell_type": "markdown",
   "metadata": {},
   "source": [
    "###Préparation des matrices de traits"
   ]
  },
  {
   "cell_type": "code",
   "execution_count": 38,
   "metadata": {
    "collapsed": true
   },
   "outputs": [],
   "source": [
    "features.add_config('bdlexique.ini')\n",
    "fs=features.FeatureSystem('phonemes')"
   ]
  },
  {
   "cell_type": "code",
   "execution_count": 74,
   "metadata": {
    "collapsed": false
   },
   "outputs": [],
   "source": [
    "paradigmFile=\"MGC-150805-paradigmes.csv\"\n",
    "analysisPrefix=\"MGC-150805-total\""
   ]
  },
  {
   "cell_type": "markdown",
   "metadata": {},
   "source": [
    "###Préparation des cases du paradigme"
   ]
  },
  {
   "cell_type": "code",
   "execution_count": 40,
   "metadata": {
    "collapsed": true
   },
   "outputs": [],
   "source": [
    "casesPrincipales= [\n",
    "        'inf', 'pi1S', 'pi2S', 'pi3S', 'pi1P', 'pi2P', 'pi3P', 'ii1S',\n",
    "        'ii2S', 'ii3S', 'ii1P', 'ii2P', 'ii3P', \n",
    "        'fi1S', 'fi2S', 'fi3S', 'fi1P', 'fi2P',\n",
    "        'fi3P', 'pI2S', 'pI1P', 'pI2P', 'ps1S', 'ps2S', 'ps3S', 'ps1P',\n",
    "        'ps2P', 'ps3P', \n",
    "        'pc1S', 'pc2S', 'pc3S', 'pc1P', 'pc2P', 'pc3P', 'pP',\n",
    "        'ppMS', 'ppMP', 'ppFS', 'ppFP'\n",
    "            ]\n",
    "casesSecondaires= [\n",
    "       'ai1S', 'ai2S', 'ai3S', 'ai1P', 'ai2P', 'ai3P', 'is1S', 'is2S', 'is3S', 'is1P', 'is2P', 'is3P'\n",
    "            ]\n",
    "casesTotales=casesPrincipales+casesSecondaires\n",
    "listeCases=casesTotales"
   ]
  },
  {
   "cell_type": "markdown",
   "metadata": {},
   "source": [
    "#Préparation du calcul des analogies"
   ]
  },
  {
   "cell_type": "markdown",
   "metadata": {},
   "source": [
    "###Calcul de la différence entre deux formes"
   ]
  },
  {
   "cell_type": "code",
   "execution_count": 41,
   "metadata": {
    "collapsed": true
   },
   "outputs": [],
   "source": [
    "def diff(mot1,mot2):\n",
    "    result=[]\n",
    "    diff1=\"\"\n",
    "    diff2=\"\"\n",
    "    same=\"\"\n",
    "    vide=\".\"\n",
    "    lmax=max(len(mot1),len(mot2))\n",
    "    lmin=min(len(mot1),len(mot2))\n",
    "    for index in range(lmax):\n",
    "        if index < lmin:\n",
    "            if mot1[index]!=mot2[index]:\n",
    "                diff1+=mot1[index]\n",
    "                diff2+=mot2[index]\n",
    "                same+=vide\n",
    "            else:\n",
    "                same+=mot1[index]\n",
    "                diff1+=vide\n",
    "                diff2+=vide\n",
    "        elif index < len(mot1):\n",
    "            diff1+=mot1[index]\n",
    "        elif index < len(mot2):\n",
    "            diff2+=mot2[index]\n",
    "    diff1=diff1.lstrip(\".\")\n",
    "    diff2=diff2.lstrip(\".\")\n",
    "#    return (same,diff1,diff2,diff1+\"_\"+diff2)\n",
    "    return (diff1+\"-\"+diff2)"
   ]
  },
  {
   "cell_type": "markdown",
   "metadata": {},
   "source": [
    "###Accumulation des paires appartenant à un patron"
   ]
  },
  {
   "cell_type": "code",
   "execution_count": 42,
   "metadata": {
    "collapsed": false
   },
   "outputs": [],
   "source": [
    "def rowDiff(row, patrons):\n",
    "    result=diff(row[0],row[1])\n",
    "    if not result in patrons:\n",
    "        patrons[result]=(formesPatron(),formesPatron())\n",
    "    patrons[result][0].ajouterFormes(row[0])\n",
    "    patrons[result][1].ajouterFormes(row[1])\n",
    "    return (result[0],result[1])"
   ]
  },
  {
   "cell_type": "markdown",
   "metadata": {},
   "source": [
    "###Transformation d'un patron en RegExp"
   ]
  },
  {
   "cell_type": "code",
   "execution_count": 43,
   "metadata": {
    "collapsed": false
   },
   "outputs": [],
   "source": [
    "def patron2regexp(morceaux):\n",
    "    result=\"^\"\n",
    "    for morceau in morceaux:\n",
    "        if morceau==\"*\":\n",
    "            result+=\"(.*)\"\n",
    "        elif len(morceau)>1:\n",
    "            result+=\"([\"+morceau+\"])\"\n",
    "        else:\n",
    "            result+=morceau\n",
    "    result+=\"$\"\n",
    "    result=result.replace(\")(\",\"\")\n",
    "    return result"
   ]
  },
  {
   "cell_type": "markdown",
   "metadata": {},
   "source": [
    "###Substitution de sortie \n",
    "???"
   ]
  },
  {
   "cell_type": "code",
   "execution_count": 44,
   "metadata": {
    "collapsed": false
   },
   "outputs": [],
   "source": [
    "def remplacementSortie(sortie):\n",
    "    n=1\n",
    "    nsortie=\"\"\n",
    "    for lettre in sortie:\n",
    "        if lettre==\".\":\n",
    "            nsortie+=\"\\g<%d>\"%n\n",
    "            n+=1\n",
    "        else:\n",
    "            nsortie+=lettre\n",
    "    return nsortie"
   ]
  },
  {
   "cell_type": "code",
   "execution_count": 45,
   "metadata": {
    "collapsed": false
   },
   "outputs": [],
   "source": [
    "class formesPatron:\n",
    "    '''\n",
    "    Accumulateur de formes correspondant à un patron pour calcul de la Généralisation Minimale (cf. MGL)\n",
    "    '''\n",
    "    def __init__(self):\n",
    "        self.formes=[]\n",
    "\n",
    "#    def __repr__(self):\n",
    "#        return ','.join(self.calculerGM())\n",
    "        \n",
    "    def ajouterForme(self,forme):\n",
    "        self.formes.append(forme)\n",
    "        \n",
    "    def calculerGM(self):\n",
    "        minLongueur=len(min(self.formes, key=len))\n",
    "        maxLongueur=len(max(self.formes, key=len))\n",
    "        if debug: print minLongueur, maxLongueur\n",
    "        positions=[]\n",
    "        if maxLongueur>minLongueur:\n",
    "            positions.append(\"*\")\n",
    "        for i in xrange(minLongueur, 0, -1):\n",
    "            phonemes=set([x[-i] for x in self.formes])\n",
    "            if debug: print phonemes\n",
    "            if \".\" in phonemes:\n",
    "                positions.append(\".\")\n",
    "            else:\n",
    "                positions.append(\"\".join(fs.lattice[phonemes].extent))\n",
    "        return patron2regexp(positions)\n",
    "\n",
    "class pairePatrons:\n",
    "    '''\n",
    "    Accumulateur de triplets (f1,f2,patron) correspondant à une paire pour calcul des Généralisations Minimales (cf. MGL)\n",
    "    '''\n",
    "    def __init__(self,case1,case2):\n",
    "        self.patrons1={}\n",
    "        self.patrons2={}\n",
    "        self.case1=case1\n",
    "        self.case2=case2\n",
    "\n",
    "#    def __repr__(self):\n",
    "#        return ','.join(self.calculerGM())\n",
    "        \n",
    "    def ajouterFormes(self,forme1,forme2,patron):\n",
    "#        print forme1,forme2,patron\n",
    "        patron12=patron\n",
    "        (pat1,pat2)=patron.split(\"-\")\n",
    "        patron21=pat2+\"-\"+pat1\n",
    "#        print patron12,patron21\n",
    "        if not patron12 in self.patrons1:\n",
    "            self.patrons1[patron12]=formesPatron()\n",
    "        self.patrons1[patron12].ajouterForme(forme1)\n",
    "        if not patron21 in self.patrons2:\n",
    "            self.patrons2[patron21]=formesPatron()\n",
    "        self.patrons2[patron21].ajouterForme(forme2)\n",
    "        \n",
    "        \n",
    "    def calculerGM(self):\n",
    "        resultat1={}\n",
    "        for patron in self.patrons1:\n",
    "            if debug: print \"patron1\", patron\n",
    "            resultat1[patron]=self.patrons1[patron].calculerGM()\n",
    "        resultat2={}\n",
    "        for patron in self.patrons2:\n",
    "            if debug: print \"patron2\", patron\n",
    "            resultat2[patron]=self.patrons2[patron].calculerGM()\n",
    "        return (resultat1,resultat2) "
   ]
  },
  {
   "cell_type": "markdown",
   "metadata": {},
   "source": [
    "#Classe pour la gestion des patrons, des classes et des transformations"
   ]
  },
  {
   "cell_type": "code",
   "execution_count": 46,
   "metadata": {
    "collapsed": false
   },
   "outputs": [],
   "source": [
    "class paireClasses:\n",
    "    def __init__(self,case1,case2):\n",
    "        self.case1=case1\n",
    "        self.case2=case2\n",
    "        self.nom=case1+\"-\"+case2\n",
    "        self.classes1=classesPaire(case1,case2)\n",
    "        self.classes2=classesPaire(case2,case1)\n",
    "\n",
    "    def ajouterPatron(self,n,patron,motif):\n",
    "        if n==1:\n",
    "            self.classes1.ajouterPatron(patron,motif)\n",
    "        elif n==2:\n",
    "            self.classes2.ajouterPatron(patron,motif)\n",
    "        else:\n",
    "            print \"le numéro de forme n'est pas dans [1,2]\",n\n",
    "\n",
    "    def ajouterPaire(self,forme1,forme2):\n",
    "        self.classes1.ajouterPaire(forme1,forme2)\n",
    "        self.classes2.ajouterPaire(forme2,forme1)\n",
    "        \n",
    "    def calculerClasses(self):\n",
    "        return(self.classes1,self.classes2)\n",
    "\n",
    "    \n",
    "class classesPaire:\n",
    "    '''\n",
    "    Gestion des patrons, des classes et des transformations\n",
    "    \n",
    "    ajouterPatron : ajoute un patron et son motif associé (MGL)\n",
    "    ajouterPaire : ajoute une paire de formes, calcule la classe de la forme1 et la règle sélectionnée\n",
    "    sortirForme : cacule les formes de sortie correspondant à la forme1 avec leurs coefficients respectifs\n",
    "    '''\n",
    "    def __init__(self,case1,case2):\n",
    "        self.case1=case1\n",
    "        self.case2=case2\n",
    "        self.nom=case1+\"-\"+case2\n",
    "        self.classe={}\n",
    "        self.nbClasse={}\n",
    "        self.patrons={}\n",
    "        self.entree={}\n",
    "        self.sortie={}\n",
    "    \n",
    "    def ajouterPatron(self,patron,motif):\n",
    "        self.patrons[patron]=motif\n",
    "        (entree,sortie)=patron.split(\"-\")\n",
    "        self.entree[patron]=entree.replace(u\".\",u\"(.)\")\n",
    "        self.sortie[patron]=remplacementSortie(sortie)\n",
    "    \n",
    "    def ajouterPaire(self,forme1,forme2):\n",
    "        '''\n",
    "        on calcule la classe de la paire idClasseForme et la règle sélectionnée\n",
    "        on incrémente le compteur de la classe et celui de la règle sélectionnée à l'intérieur de la classe\n",
    "        '''\n",
    "        classeForme=[]\n",
    "        regleForme=\"\"\n",
    "        for patron in self.patrons:\n",
    "            if re.match(self.patrons[patron],forme1):\n",
    "                classeForme.append(patron)\n",
    "                '''\n",
    "                le +\"$\" permet de forcer l'alignement à droite pour les transformations suffixales\n",
    "                '''\n",
    "                if forme2==re.sub(self.entree[patron]+\"$\",self.sortie[patron],forme1):\n",
    "                    regleForme=patron\n",
    "        idClasseForme=\", \".join(classeForme)\n",
    "        if not idClasseForme in self.classe:\n",
    "            self.classe[idClasseForme]={}\n",
    "            self.nbClasse[idClasseForme]=0\n",
    "        if not regleForme in self.classe[idClasseForme]:\n",
    "            self.classe[idClasseForme][regleForme]=0\n",
    "        self.nbClasse[idClasseForme]+=1\n",
    "        self.classe[idClasseForme][regleForme]+=1\n",
    "\n",
    "    def sortirForme(self,forme):\n",
    "        classeForme=[]\n",
    "        sortieForme={}\n",
    "        for patron in self.patrons:\n",
    "            if re.match(self.patrons[patron],forme):\n",
    "                classeForme.append(patron)\n",
    "        if classeForme:\n",
    "            idClasseForme=\", \".join(classeForme)\n",
    "            if idClasseForme in self.nbClasse:\n",
    "                nTotal=self.nbClasse[idClasseForme]\n",
    "                for patron in self.classe[idClasseForme]:\n",
    "                    sortie=re.sub(self.entree[patron]+\"$\",self.sortie[patron],forme)\n",
    "                    sortieForme[sortie]=float(self.classe[idClasseForme][patron])/nTotal\n",
    "            else:\n",
    "                print forme,\n",
    "                print \"pas de classe\",idClasseForme,\n",
    "                print \"%.2f par forme de sortie\" % (float(1)/len(classeForme))\n",
    "                nTotal=len(classeForme)\n",
    "                for patron in classeForme:\n",
    "                    sortie=re.sub(self.entree[patron]+\"$\",self.sortie[patron],forme)\n",
    "                    sortieForme[sortie]=float(1)/nTotal\n",
    "        else:\n",
    "            print forme, \n",
    "            print \"pas de patron\"\n",
    "        return sortieForme\n",
    "        "
   ]
  },
  {
   "cell_type": "markdown",
   "metadata": {},
   "source": [
    "##Appliquer la formule de calcul des différences entre chaines à chaque ligne\n",
    "\n",
    ">si il y a au moins une ligne\n",
    "\n",
    ">>on applique la différence à la ligne\n",
    "\n",
    ">>on calcule les deux patrons par suppression des points initiaux\n",
    "\n",
    ">>on renvoie le groupement par patrons (1&2)\n",
    "\n",
    ">sinon\n",
    "\n",
    ">>on renvoie le paradigme vide d'origine"
   ]
  },
  {
   "cell_type": "code",
   "execution_count": 47,
   "metadata": {
    "collapsed": false
   },
   "outputs": [],
   "source": [
    "def OLDrapports(paradigme):\n",
    "    (case1,case2,lexeme)= paradigme.columns.values.tolist()\n",
    "    patrons=pairePatrons(case1,case2)\n",
    "    if len(paradigme)>0:\n",
    "#        for index, row in paradigme.iterrows():\n",
    "#            patrons.ajouterFormes(row[0],row[1],diff(row[0],row[1]))\n",
    "        paradigme.apply(lambda x: patrons.ajouterFormes(x[case1],x[case2],diff(x[case1],x[case2])), axis=1)\n",
    "        (regles1,regles2)=patrons.calculerGM()\n",
    "    return patrons.calculerGM()"
   ]
  },
  {
   "cell_type": "code",
   "execution_count": 48,
   "metadata": {
    "collapsed": false
   },
   "outputs": [],
   "source": [
    "def rapports(paradigme):\n",
    "    if len(paradigme.columns.values.tolist())==2:\n",
    "        (case1,lexeme)= paradigme.columns.values.tolist()\n",
    "        case2=case1\n",
    "    else:\n",
    "        (case1,case2,lexeme)= paradigme.columns.values.tolist()\n",
    "    patrons=pairePatrons(case1,case2)\n",
    "    classes=paireClasses(case1,case2)\n",
    "    if len(paradigme)>0:\n",
    "        paradigme.apply(lambda x: patrons.ajouterFormes(x[case1],x[case2],diff(x[case1],x[case2])), axis=1)\n",
    "        (regles1,regles2)=patrons.calculerGM()\n",
    "        for regle in regles1:\n",
    "            classes.ajouterPatron(1,regle,regles1[regle])\n",
    "        for regle in regles2:\n",
    "            classes.ajouterPatron(2,regle,regles2[regle])\n",
    "        paradigme.apply(lambda x: classes.ajouterPaire(x[case1],x[case2]), axis=1)\n",
    "    (classes1,classes2)=classes.calculerClasses()\n",
    "    return (classes1,classes2)"
   ]
  },
  {
   "cell_type": "markdown",
   "metadata": {},
   "source": [
    "###Dédoubler les lignes avec des surabondances dans *colonne*\n",
    ">identifier une ligne avec surabondance\n",
    "\n",
    ">>ajouter les lignes correspondant à chaque valeur\n",
    "\n",
    ">>ajouter le numéro de la ligne initiale dans les lignes à supprimer\n",
    "\n",
    ">supprimer les lignes avec surabondance\n",
    "\n",
    "NB : il faut préparer le tableau pour avoir une indexation qui permette l'ajout des valeurs individuelles et la suppression des lignes de surabondances"
   ]
  },
  {
   "cell_type": "code",
   "execution_count": 49,
   "metadata": {
    "collapsed": false
   },
   "outputs": [],
   "source": [
    "def splitCellMates(df,colonne):\n",
    "    '''\n",
    "    Calcul d'une dataframe sans surabondance par dédoublement des valeurs\n",
    "    '''\n",
    "    test=df.reset_index()\n",
    "    del test[\"index\"]\n",
    "    splitIndexes=[]\n",
    "    for index,ligne in test.iterrows():\n",
    "        if \",\" in ligne[colonne]:\n",
    "            valeurs=set(ligne[colonne].split(\",\"))\n",
    "            nouvelleLigne=ligne\n",
    "            for valeur in valeurs:\n",
    "                nouvelleLigne[colonne]=valeur\n",
    "                test=test.append(nouvelleLigne,ignore_index=True)\n",
    "            splitIndexes.append(index)\n",
    "    if splitIndexes:\n",
    "        test=test.drop(test.index[splitIndexes])\n",
    "    return test\n"
   ]
  },
  {
   "cell_type": "code",
   "execution_count": 75,
   "metadata": {
    "collapsed": false
   },
   "outputs": [],
   "source": [
    "paradigmes=pd.read_csv(paradigmFile,sep=\";\",encoding=\"utf8\")\n",
    "del paradigmes[u\"Unnamed: 0\"]"
   ]
  },
  {
   "cell_type": "code",
   "execution_count": 76,
   "metadata": {
    "collapsed": false
   },
   "outputs": [],
   "source": [
    "with open(filePrefix+echantillonPrefix+'-Regles.pkl', 'rb') as input:\n",
    "    resultatsLecture = pickle.load(input)"
   ]
  },
  {
   "cell_type": "code",
   "execution_count": 79,
   "metadata": {
    "collapsed": false,
    "scrolled": true
   },
   "outputs": [
    {
     "name": "stdout",
     "output_type": "stream",
     "text": [
      "inf mâZe\n",
      "inf {u'm\\xe2Ze': 1.0} pi1S {u'm\\xe2Z': 1.0} pi2S {u'm\\xe2Z': 1.0} pi3S {u'm\\xe2Z': 1.0} pi1P {u'm\\xe2Z\\xf4': 1.0} pi2P {u'm\\xe2Ze': 1.0} pi3P {u'm\\xe2Z': 1.0} ii1S {u'm\\xe2ZE': 1.0} ii2S {u'm\\xe2ZE': 1.0} ii3S {u'm\\xe2ZE': 1.0} ii1P {u'm\\xe2Zj\\xf4': 1.0} ii2P {u'm\\xe2Zje': 1.0} ii3P {u'm\\xe2ZE': 1.0} fi1S {u'm\\xe2Z6rE': 1.0} fi2S {u'm\\xe2Z6ra': 1.0} fi3S {u'm\\xe2Z6ra': 1.0} fi1P {u'm\\xe2Z6r\\xf4': 1.0} fi2P {u'm\\xe2Z6re': 1.0} fi3P {u'm\\xe2Z6r\\xf4': 1.0} pI2S {u'm\\xe2Z': 1.0} pI1P {u'm\\xe2Z\\xf4': 1.0} pI2P {u'm\\xe2Ze': 1.0} ps1S {u'm\\xe2Z': 1.0} ps2S {u'm\\xe2Z': 1.0} ps3S {u'm\\xe2Z': 1.0} ps1P {u'm\\xe2Zj\\xf4': 1.0} ps2P {u'm\\xe2Zje': 1.0} ps3P {u'm\\xe2Z': 1.0} pc1S {u'm\\xe2Z6rE': 1.0} pc2S {u'm\\xe2Z6rE': 1.0} pc3S {u'm\\xe2Z6rE': 1.0} pc1P {u'm\\xe2Z6rj\\xf4': 1.0} pc2P {u'm\\xe2Z6rje': 1.0} pc3P {u'm\\xe2Z6rE': 1.0} pP {u'm\\xe2Z\\xe2': 1.0} ppMS {u'm\\xe2Ze': 1.0} ppMP {u'm\\xe2Ze': 1.0} ppFS {u'm\\xe2Ze': 1.0} ppFP {u'm\\xe2Ze': 1.0} ai1S {u'm\\xe2ZE': 1.0} ai2S {u'm\\xe2Za': 1.0} ai3S {u'm\\xe2Za': 1.0} ai1P {u'm\\xe2Zam': 1.0} ai2P {u'm\\xe2Zat': 1.0} ai3P {u'm\\xe2ZEr': 1.0} is1S {u'm\\xe2Zas': 1.0} is2S {u'm\\xe2Zas': 1.0} is3S {u'm\\xe2Za': 1.0} is1P {u'm\\xe2Zasj\\xf4': 1.0} is2P {u'm\\xe2Zasje': 1.0} is3P {u'm\\xe2Zas': 1.0}\n",
      "\n",
      "pi1S mâZ\n",
      "inf {u'm\\xe2Ze': 1.0} pi1S {u'm\\xe2Z': 1.0} pi2S {u'm\\xe2Z': 1.0} pi3S {u'm\\xe2Z': 1.0} pi1P {u'm\\xe2Z\\xf4': 1.0} pi2P {u'm\\xe2Ze': 1.0} pi3P {u'm\\xe2Z': 1.0} ii1S {u'm\\xe2ZE': 1.0} ii2S {u'm\\xe2ZE': 1.0} ii3S {u'm\\xe2ZE': 1.0} ii1P {u'm\\xe2Zj\\xf4': 1.0} ii2P {u'm\\xe2Zje': 1.0} ii3P {u'm\\xe2ZE': 1.0} fi1S {u'm\\xe2Z6rE': 1.0} fi2S {u'm\\xe2Z6ra': 1.0} fi3S {u'm\\xe2Z6ra': 1.0} fi1P {u'm\\xe2Z6r\\xf4': 1.0} fi2P {u'm\\xe2Z6re': 1.0} fi3P {u'm\\xe2Z6r\\xf4': 1.0} pI2S {u'm\\xe2Z': 1.0} pI1P {u'm\\xe2Z\\xf4': 1.0} pI2P {u'm\\xe2Ze': 1.0} ps1S {u'm\\xe2Z': 1.0} ps2S {u'm\\xe2Z': 1.0} ps3S {u'm\\xe2Z': 1.0} ps1P {u'm\\xe2Zj\\xf4': 1.0} ps2P {u'm\\xe2Zje': 1.0} ps3P {u'm\\xe2Z': 1.0} pc1S {u'm\\xe2Z6rE': 1.0} pc2S {u'm\\xe2Z6rE': 1.0} pc3S {u'm\\xe2Z6rE': 1.0} pc1P {u'm\\xe2Z6rj\\xf4': 1.0} pc2P {u'm\\xe2Z6rje': 1.0} pc3P {u'm\\xe2Z6rE': 1.0} pP {u'm\\xe2Z\\xe2': 1.0} ppMS {u'm\\xe2Ze': 1.0} ppMP {u'm\\xe2Ze': 1.0} ppFS {u'm\\xe2Ze': 1.0} ppFP {u'm\\xe2Ze': 1.0} ai1S {u'm\\xe2ZE': 1.0} ai2S {u'm\\xe2Za': 1.0} ai3S {u'm\\xe2Za': 1.0} ai1P {u'm\\xe2Zam': 1.0} ai2P {u'm\\xe2Zat': 1.0} ai3P {u'm\\xe2ZEr': 1.0} is1S {u'm\\xe2Zas': 1.0} is2S {u'm\\xe2Zas': 1.0} is3S {u'm\\xe2Za': 1.0} is1P {u'm\\xe2Zasj\\xf4': 1.0} is2P {u'm\\xe2Zasje': 1.0} is3P {u'm\\xe2Zas': 1.0}\n",
      "\n",
      "pi2S mâZ\n",
      "inf {u'm\\xe2Ze': 1.0} pi1S {u'm\\xe2Z': 1.0} pi2S {u'm\\xe2Z': 1.0} pi3S {u'm\\xe2Z': 1.0} pi1P {u'm\\xe2Z\\xf4': 1.0} pi2P {u'm\\xe2Ze': 1.0} pi3P {u'm\\xe2Z': 1.0} ii1S {u'm\\xe2ZE': 1.0} ii2S {u'm\\xe2ZE': 1.0} ii3S {u'm\\xe2ZE': 1.0} ii1P {u'm\\xe2Zj\\xf4': 1.0} ii2P {u'm\\xe2Zje': 1.0} ii3P {u'm\\xe2ZE': 1.0} fi1S {u'm\\xe2Z6rE': 1.0} fi2S {u'm\\xe2Z6ra': 1.0} fi3S {u'm\\xe2Z6ra': 1.0} fi1P {u'm\\xe2Z6r\\xf4': 1.0} fi2P {u'm\\xe2Z6re': 1.0} fi3P {u'm\\xe2Z6r\\xf4': 1.0} pI2S {u'm\\xe2Z': 1.0} pI1P {u'm\\xe2Z\\xf4': 1.0} pI2P {u'm\\xe2Ze': 1.0} ps1S {u'm\\xe2Z': 1.0} ps2S {u'm\\xe2Z': 1.0} ps3S {u'm\\xe2Z': 1.0} ps1P {u'm\\xe2Zj\\xf4': 1.0} ps2P {u'm\\xe2Zje': 1.0} ps3P {u'm\\xe2Z': 1.0} pc1S {u'm\\xe2Z6rE': 1.0} pc2S {u'm\\xe2Z6rE': 1.0} pc3S {u'm\\xe2Z6rE': 1.0} pc1P {u'm\\xe2Z6rj\\xf4': 1.0} pc2P {u'm\\xe2Z6rje': 1.0} pc3P {u'm\\xe2Z6rE': 1.0} pP {u'm\\xe2Z\\xe2': 1.0} ppMS {u'm\\xe2Ze': 1.0} ppMP {u'm\\xe2Ze': 1.0} ppFS {u'm\\xe2Ze': 1.0} ppFP {u'm\\xe2Ze': 1.0} ai1S {u'm\\xe2ZE': 1.0} ai2S {u'm\\xe2Za': 1.0} ai3S {u'm\\xe2Za': 1.0} ai1P {u'm\\xe2Zam': 1.0} ai2P {u'm\\xe2Zat': 1.0} ai3P {u'm\\xe2ZEr': 1.0} is1S {u'm\\xe2Zas': 1.0} is2S {u'm\\xe2Zas': 1.0} is3S {u'm\\xe2Za': 1.0} is1P {u'm\\xe2Zasj\\xf4': 1.0} is2P {u'm\\xe2Zasje': 1.0} is3P {u'm\\xe2Zas': 1.0}\n",
      "\n",
      "pi3S mâZ\n",
      "inf {u'm\\xe2Ze': 1.0} pi1S {u'm\\xe2Z': 1.0} pi2S {u'm\\xe2Z': 1.0} pi3S {u'm\\xe2Z': 1.0} pi1P {u'm\\xe2Z\\xf4': 1.0} pi2P {u'm\\xe2Ze': 1.0} pi3P {u'm\\xe2Z': 1.0} ii1S {u'm\\xe2ZE': 1.0} ii2S {u'm\\xe2ZE': 1.0} ii3S {u'm\\xe2ZE': 1.0} ii1P {u'm\\xe2Zj\\xf4': 1.0} ii2P {u'm\\xe2Zje': 1.0} ii3P {u'm\\xe2ZE': 1.0} fi1S {u'm\\xe2Z6rE': 1.0} fi2S {u'm\\xe2Z6ra': 1.0} fi3S {u'm\\xe2Z6ra': 1.0} fi1P {u'm\\xe2Z6r\\xf4': 1.0} fi2P {u'm\\xe2Z6re': 1.0} fi3P {u'm\\xe2Z6r\\xf4': 1.0} pI2S {u'm\\xe2Z': 1.0} pI1P {u'm\\xe2Z\\xf4': 1.0} pI2P {u'm\\xe2Ze': 1.0} ps1S {u'm\\xe2Z': 1.0} ps2S {u'm\\xe2Z': 1.0} ps3S {u'm\\xe2Z': 1.0} ps1P {u'm\\xe2Zj\\xf4': 1.0} ps2P {u'm\\xe2Zje': 1.0} ps3P {u'm\\xe2Z': 1.0} pc1S {u'm\\xe2Z6rE': 1.0} pc2S {u'm\\xe2Z6rE': 1.0} pc3S {u'm\\xe2Z6rE': 1.0} pc1P {u'm\\xe2Z6rj\\xf4': 1.0} pc2P {u'm\\xe2Z6rje': 1.0} pc3P {u'm\\xe2Z6rE': 1.0} pP {u'm\\xe2Z\\xe2': 1.0} ppMS {u'm\\xe2Ze': 1.0} ppMP {u'm\\xe2Ze': 1.0} ppFS {u'm\\xe2Ze': 1.0} ppFP {u'm\\xe2Ze': 1.0} ai1S {u'm\\xe2ZE': 1.0} ai2S {u'm\\xe2Za': 1.0} ai3S {u'm\\xe2Za': 1.0} ai1P {u'm\\xe2Zam': 1.0} ai2P {u'm\\xe2Zat': 1.0} ai3P {u'm\\xe2ZEr': 1.0} is1S {u'm\\xe2Zas': 1.0} is2S {u'm\\xe2Zas': 1.0} is3S {u'm\\xe2Za': 1.0} is1P {u'm\\xe2Zasj\\xf4': 1.0} is2P {u'm\\xe2Zasje': 1.0} is3P {u'm\\xe2Zas': 1.0}\n",
      "\n",
      "pi1P mâZô\n",
      "inf {u'm\\xe2Zr': 0.03677758318739054, u'm\\xe2Zir': 0.017075306479859893, u'm\\xe2Ze': 0.9461471103327496} pi1S {u'm\\xe2Z': 1.0} pi2S {u'm\\xe2Z': 1.0} pi3S {u'm\\xe2Z': 1.0} pi1P {u'm\\xe2Z\\xf4': 1.0} pi2P {u'm\\xe2Ze': 1.0} pi3P {u'm\\xe2Z': 1.0} ii1S {u'm\\xe2ZE': 1.0} ii2S {u'm\\xe2ZE': 1.0} ii3S {u'm\\xe2ZE': 1.0} ii1P {u'm\\xe2Zj\\xf4': 1.0} ii2P {u'm\\xe2Zje': 1.0} ii3P {u'm\\xe2ZE': 1.0} fi1S {u'm\\xe2Z6rE': 0.9482691559704395, u'm\\xe2ZirE': 0.012057565149747181, u'm\\xe2ZrE': 0.039673278879813305} fi2S {u'm\\xe2Zra': 0.039673278879813305, u'm\\xe2Z6ra': 0.9482691559704395, u'm\\xe2Zira': 0.012057565149747181} fi3S {u'm\\xe2Zra': 0.039673278879813305, u'm\\xe2Z6ra': 0.9482691559704395, u'm\\xe2Zira': 0.012057565149747181} fi1P {u'm\\xe2Z6r\\xf4': 0.9482691559704395, u'm\\xe2Zir\\xf4': 0.012057565149747181, u'm\\xe2Zr\\xf4': 0.039673278879813305} fi2P {u'm\\xe2Z6re': 0.9482691559704395, u'm\\xe2Zire': 0.012057565149747181, u'm\\xe2Zre': 0.039673278879813305} fi3P {u'm\\xe2Z6r\\xf4': 0.9482691559704395, u'm\\xe2Zir\\xf4': 0.012057565149747181, u'm\\xe2Zr\\xf4': 0.039673278879813305} pI2S {u'm\\xe2Z': 1.0} pI1P {u'm\\xe2Z\\xf4': 1.0} pI2P {u'm\\xe2Ze': 1.0} ps1S {u'm\\xe2Z': 1.0} ps2S {u'm\\xe2Z': 1.0} ps3S {u'm\\xe2Z': 1.0} ps1P {u'm\\xe2Zj\\xf4': 1.0} ps2P {u'm\\xe2Zje': 1.0} ps3P {u'm\\xe2Z': 1.0} pc1S {u'm\\xe2Z6rE': 0.9482691559704395, u'm\\xe2ZirE': 0.012057565149747181, u'm\\xe2ZrE': 0.039673278879813305} pc2S {u'm\\xe2Z6rE': 0.9482691559704395, u'm\\xe2ZirE': 0.012057565149747181, u'm\\xe2ZrE': 0.039673278879813305} pc3S {u'm\\xe2Z6rE': 0.9482691559704395, u'm\\xe2ZirE': 0.012057565149747181, u'm\\xe2ZrE': 0.039673278879813305} pc1P {u'm\\xe2Z6rj\\xf4': 0.9485257371314343, u'm\\xe2Zri\\xf4': 0.04397801099450275, u'm\\xe2Zirj\\xf4': 0.0074962518740629685} pc2P {u'm\\xe2Z6rje': 0.9485257371314343, u'm\\xe2Zirje': 0.0074962518740629685, u'm\\xe2Zrie': 0.04397801099450275} pc3P {u'm\\xe2Z6rE': 0.9482691559704395, u'm\\xe2ZirE': 0.012057565149747181, u'm\\xe2ZrE': 0.039673278879813305} pP {u'm\\xe2Z\\xe2': 1.0} ppMS {u'm\\xe2Zy': 0.016142050040355124, u'm\\xe2Ze': 0.9838579499596449} ppMP {u'm\\xe2Zy': 0.015682656826568265, u'm\\xe2Ze': 0.9843173431734318} ppFS {u'm\\xe2Zy': 0.015682656826568265, u'm\\xe2Ze': 0.9843173431734318} ppFP {u'm\\xe2Zy': 0.015682656826568265, u'm\\xe2Ze': 0.9843173431734318} ai1S {u'm\\xe2Zi': 0.03668413530252501, u'm\\xe2ZE': 0.963315864697475} ai2S {u'm\\xe2Za': 0.963315864697475, u'm\\xe2Zi': 0.03668413530252501} ai3S {u'm\\xe2Za': 0.963315864697475, u'm\\xe2Zi': 0.03668413530252501} ai1P {u'm\\xe2Zam': 0.963315864697475, u'm\\xe2Zim': 0.03668413530252501} ai2P {u'm\\xe2Zit': 0.03668413530252501, u'm\\xe2Zat': 0.963315864697475} ai3P {u'm\\xe2ZEr': 0.963315864697475, u'm\\xe2Zir': 0.03668413530252501} is1S {u'm\\xe2Zis': 0.04370422867942358, u'm\\xe2Zas': 0.9562957713205764} is2S {u'm\\xe2Zis': 0.04370422867942358, u'm\\xe2Zas': 0.9562957713205764} is3S {u'm\\xe2Za': 0.9562957713205764, u'm\\xe2Zi': 0.04370422867942358} is1P {u'm\\xe2Zasj\\xf4': 0.9562957713205764, u'm\\xe2Zisj\\xf4': 0.04370422867942358} is2P {u'm\\xe2Zasje': 0.9562957713205764, u'm\\xe2Zisje': 0.04370422867942358} is3P {u'm\\xe2Zis': 0.04370422867942358, u'm\\xe2Zas': 0.9562957713205764}\n",
      "\n",
      "pi2P mâZe\n",
      "inf mâZe pas de classe -, e-ir, e-r 0.33 par forme de sortie\n",
      "{u'm\\xe2Zr': 0.3333333333333333, u'm\\xe2Zir': 0.3333333333333333, u'm\\xe2Ze': 0.3333333333333333} pi1S {u'm\\xe2Z': 1.0} pi2S {u'm\\xe2Z': 1.0} pi3S {u'm\\xe2Z': 1.0} pi1P {u'm\\xe2Z\\xf4': 1.0} pi2P {u'm\\xe2Ze': 1.0} pi3P {u'm\\xe2Z': 1.0} ii1S {u'm\\xe2ZE': 1.0} ii2S {u'm\\xe2ZE': 1.0} ii3S {u'm\\xe2ZE': 1.0} ii1P {u'm\\xe2Zj\\xf4': 1.0} ii2P {u'm\\xe2Zje': 1.0} ii3P {u'm\\xe2ZE': 1.0} fi1S {u'm\\xe2Z6rE': 0.9482691559704395, u'm\\xe2ZirE': 0.012057565149747181, u'm\\xe2ZrE': 0.039673278879813305} fi2S {u'm\\xe2Zra': 0.039673278879813305, u'm\\xe2Z6ra': 0.9482691559704395, u'm\\xe2Zira': 0.012057565149747181} fi3S {u'm\\xe2Zra': 0.039673278879813305, u'm\\xe2Z6ra': 0.9482691559704395, u'm\\xe2Zira': 0.012057565149747181} fi1P {u'm\\xe2Z6r\\xf4': 0.9482691559704395, u'm\\xe2Zir\\xf4': 0.012057565149747181, u'm\\xe2Zr\\xf4': 0.039673278879813305} fi2P {u'm\\xe2Z6re': 0.9482691559704395, u'm\\xe2Zire': 0.012057565149747181, u'm\\xe2Zre': 0.039673278879813305} fi3P {u'm\\xe2Z6r\\xf4': 0.9482691559704395, u'm\\xe2Zir\\xf4': 0.012057565149747181, u'm\\xe2Zr\\xf4': 0.039673278879813305} pI2S {u'm\\xe2Z': 1.0} pI1P {u'm\\xe2Z\\xf4': 1.0} pI2P {u'm\\xe2Ze': 1.0} ps1S {u'm\\xe2Z': 1.0} ps2S {u'm\\xe2Z': 1.0} ps3S {u'm\\xe2Z': 1.0} ps1P {u'm\\xe2Zj\\xf4': 1.0} ps2P {u'm\\xe2Zje': 1.0} ps3P {u'm\\xe2Z': 1.0} pc1S {u'm\\xe2Z6rE': 0.9482691559704395, u'm\\xe2ZirE': 0.012057565149747181, u'm\\xe2ZrE': 0.039673278879813305} pc2S {u'm\\xe2Z6rE': 0.9482691559704395, u'm\\xe2ZirE': 0.012057565149747181, u'm\\xe2ZrE': 0.039673278879813305} pc3S {u'm\\xe2Z6rE': 0.9482691559704395, u'm\\xe2ZirE': 0.012057565149747181, u'm\\xe2ZrE': 0.039673278879813305} pc1P mâZe pas de classe e-riô, e-6rjô, e-irjô 0.33 par forme de sortie\n",
      "{u'm\\xe2Zri\\xf4': 0.3333333333333333, u'm\\xe2Z6rj\\xf4': 0.3333333333333333, u'm\\xe2Zirj\\xf4': 0.3333333333333333} pc2P {u'm\\xe2Zrie': 0.04397801099450275, u'm\\xe2Zirje': 0.0074962518740629685, u'm\\xe2Z6rje': 0.9485257371314343} pc3P {u'm\\xe2Z6rE': 0.9482691559704395, u'm\\xe2ZirE': 0.012057565149747181, u'm\\xe2ZrE': 0.039673278879813305} pP {u'm\\xe2Z\\xe2': 1.0} ppMS {u'm\\xe2Zy': 0.016142050040355124, u'm\\xe2Ze': 0.9838579499596449} ppMP {u'm\\xe2Zy': 0.015682656826568265, u'm\\xe2Ze': 0.9843173431734318} ppFS {u'm\\xe2Zy': 0.015682656826568265, u'm\\xe2Ze': 0.9843173431734318} ppFP {u'm\\xe2Zy': 0.015682656826568265, u'm\\xe2Ze': 0.9843173431734318} ai1S {u'm\\xe2Zi': 0.040964419475655434, u'm\\xe2ZE': 0.9590355805243446} ai2S {u'm\\xe2Za': 0.9590355805243446, u'm\\xe2Zi': 0.040964419475655434} ai3S {u'm\\xe2Za': 0.9590355805243446, u'm\\xe2Zi': 0.040964419475655434} ai1P {u'm\\xe2Zam': 0.9590355805243446, u'm\\xe2Zim': 0.040964419475655434} ai2P {u'm\\xe2Zit': 0.040964419475655434, u'm\\xe2Zat': 0.9590355805243446} ai3P {u'm\\xe2ZEr': 0.9590355805243446, u'm\\xe2Zir': 0.040964419475655434} is1S {u'm\\xe2Zis': 0.043043275942298745, u'm\\xe2Zas': 0.9569567240577013} is2S {u'm\\xe2Zis': 0.043043275942298745, u'm\\xe2Zas': 0.9569567240577013} is3S {u'm\\xe2Za': 0.9569567240577013, u'm\\xe2Zi': 0.043043275942298745} is1P {u'm\\xe2Zasj\\xf4': 0.9569567240577013, u'm\\xe2Zisj\\xf4': 0.043043275942298745} is2P {u'm\\xe2Zasje': 0.9569567240577013, u'm\\xe2Zisje': 0.043043275942298745} is3P {u'm\\xe2Zis': 0.043043275942298745, u'm\\xe2Zas': 0.9569567240577013}\n",
      "\n",
      "pi3P mâZ\n",
      "inf {u'm\\xe2Zr': 0.030978934324659233, u'm\\xe2Zir': 0.012804626187525816, u'm\\xe2Ze': 0.956216439487815} pi1S {u'm\\xe2Z': 1.0} pi2S {u'm\\xe2Z': 1.0} pi3S {u'm\\xe2Z': 1.0} pi1P {u'm\\xe2Z\\xf4': 1.0} pi2P {u'm\\xe2Ze': 1.0} pi3P {u'm\\xe2Z': 1.0} ii1S {u'm\\xe2ZE': 1.0} ii2S {u'm\\xe2ZE': 1.0} ii3S {u'm\\xe2ZE': 1.0} ii1P {u'm\\xe2Zj\\xf4': 1.0} ii2P {u'm\\xe2Zje': 1.0} ii3P {u'm\\xe2ZE': 1.0} fi1S {u'm\\xe2Z6rE': 0.9510567296996663, u'm\\xe2ZirE': 0.012977382276603633, u'm\\xe2ZrE': 0.03596588802373007} fi2S mâZ pas de classe -ira, -6ra, -ra 0.33 par forme de sortie\n",
      "{u'm\\xe2Zra': 0.3333333333333333, u'm\\xe2Z6ra': 0.3333333333333333, u'm\\xe2Zira': 0.3333333333333333} fi3S mâZ pas de classe -ira, -6ra, -ra 0.33 par forme de sortie\n",
      "{u'm\\xe2Zra': 0.3333333333333333, u'm\\xe2Z6ra': 0.3333333333333333, u'm\\xe2Zira': 0.3333333333333333} fi1P {u'm\\xe2Z6r\\xf4': 0.9510567296996663, u'm\\xe2Zir\\xf4': 0.012977382276603633, u'm\\xe2Zr\\xf4': 0.03596588802373007} fi2P {u'm\\xe2Z6re': 0.9510567296996663, u'm\\xe2Zire': 0.012977382276603633, u'm\\xe2Zre': 0.03596588802373007} fi3P {u'm\\xe2Z6r\\xf4': 0.9504254532001479, u'm\\xe2Zir\\xf4': 0.013318534961154272, u'm\\xe2Zr\\xf4': 0.03625601183869774} pI2S {u'm\\xe2Z': 1.0} pI1P {u'm\\xe2Z\\xf4': 1.0} pI2P {u'm\\xe2Ze': 1.0} ps1S {u'm\\xe2Z': 1.0} ps2S {u'm\\xe2Z': 1.0} ps3S {u'm\\xe2Z': 1.0} ps1P {u'm\\xe2Zj\\xf4': 1.0} ps2P {u'm\\xe2Zje': 1.0} ps3P {u'm\\xe2Z': 1.0} pc1S {u'm\\xe2Z6rE': 0.9510567296996663, u'm\\xe2ZirE': 0.012977382276603633, u'm\\xe2ZrE': 0.03596588802373007} pc2S {u'm\\xe2Z6rE': 0.9510567296996663, u'm\\xe2ZirE': 0.012977382276603633, u'm\\xe2ZrE': 0.03596588802373007} pc3S {u'm\\xe2Z6rE': 0.9504071058475203, u'm\\xe2ZirE': 0.013323464100666173, u'm\\xe2ZrE': 0.03626943005181347} pc1P {u'm\\xe2Zri\\xf4': 0.04501770359129995, u'm\\xe2Z6rj\\xf4': 0.947395042994436, u'm\\xe2Zirj\\xf4': 0.007587253414264037} pc2P {u'm\\xe2Zrie': 0.04501770359129995, u'm\\xe2Zirje': 0.007587253414264037, u'm\\xe2Z6rje': 0.947395042994436} pc3P {u'm\\xe2Z6rE': 0.9504071058475203, u'm\\xe2ZirE': 0.013323464100666173, u'm\\xe2ZrE': 0.03626943005181347} pP {u'm\\xe2Z\\xe2': 1.0} ppMS {u'm\\xe2Zy': 0.019128586609989374, u'm\\xe2Ze': 0.9808714133900106} ppMP {u'm\\xe2Zy': 0.01820388349514563, u'm\\xe2Ze': 0.9817961165048543} ppFS {u'm\\xe2Zy': 0.01820388349514563, u'm\\xe2Ze': 0.9817961165048543} ppFP {u'm\\xe2Zy': 0.01820388349514563, u'm\\xe2Ze': 0.9817961165048543} ai1S {u'm\\xe2Zi': 0.042321990277380615, u'm\\xe2ZE': 0.9576780097226194} ai2S mâZ pas de classe -i, -a 0.50 par forme de sortie\n",
      "{u'm\\xe2Zi': 0.5, u'm\\xe2Za': 0.5} ai3S mâZ pas de classe -i, -a 0.50 par forme de sortie\n",
      "{u'm\\xe2Zi': 0.5, u'm\\xe2Za': 0.5} ai1P {u'm\\xe2Zam': 0.9576780097226194, u'm\\xe2Zim': 0.042321990277380615} ai2P {u'm\\xe2Zit': 0.042321990277380615, u'm\\xe2Zat': 0.9576780097226194} ai3P {u'm\\xe2ZEr': 0.9572405929304447, u'm\\xe2Zir': 0.042759407069555305} is1S {u'm\\xe2Zis': 0.050679501698754244, u'm\\xe2Zas': 0.9493204983012458} is2S {u'm\\xe2Zis': 0.050679501698754244, u'm\\xe2Zas': 0.9493204983012458} is3S mâZ pas de classe -i, -a 0.50 par forme de sortie\n",
      "{u'm\\xe2Zi': 0.5, u'm\\xe2Za': 0.5} is1P {u'm\\xe2Zasj\\xf4': 0.9493204983012458, u'm\\xe2Zisj\\xf4': 0.050679501698754244} is2P {u'm\\xe2Zasje': 0.9493204983012458, u'm\\xe2Zisje': 0.050679501698754244} is3P {u'm\\xe2Zis': 0.05108664973186565, u'm\\xe2Zas': 0.9489133502681344}\n",
      "\n",
      "ii1S mâZE\n",
      "inf {u'm\\xe2Zr': 0.03459637561779242, u'm\\xe2Zir': 0.01729818780889621, u'm\\xe2Ze': 0.9481054365733114} pi1S {u'm\\xe2Z': 1.0} pi2S {u'm\\xe2Z': 1.0} pi3S {u'm\\xe2Z': 1.0} pi1P {u'm\\xe2Z\\xf4': 1.0} pi2P {u'm\\xe2Ze': 1.0} pi3P {u'm\\xe2Z': 1.0} ii1S {u'm\\xe2ZE': 1.0} ii2S {u'm\\xe2ZE': 1.0} ii3S {u'm\\xe2ZE': 1.0} ii1P {u'm\\xe2Zj\\xf4': 1.0} ii2P {u'm\\xe2Zje': 1.0} ii3P {u'm\\xe2ZE': 1.0} fi1S {u'm\\xe2Z6rE': 0.9482691559704395, u'm\\xe2ZirE': 0.012057565149747181, u'm\\xe2ZrE': 0.039673278879813305} fi2S mâZE pas de classe E-ira, E-ra, E-6ra 0.33 par forme de sortie\n",
      "{u'm\\xe2Zra': 0.3333333333333333, u'm\\xe2Z6ra': 0.3333333333333333, u'm\\xe2Zira': 0.3333333333333333} fi3S mâZE pas de classe E-ira, E-ra, E-6ra 0.33 par forme de sortie\n",
      "{u'm\\xe2Zra': 0.3333333333333333, u'm\\xe2Z6ra': 0.3333333333333333, u'm\\xe2Zira': 0.3333333333333333} fi1P mâZE pas de classe E-irô, E-rô, E-6rô 0.33 par forme de sortie\n",
      "{u'm\\xe2Z6r\\xf4': 0.3333333333333333, u'm\\xe2Zir\\xf4': 0.3333333333333333, u'm\\xe2Zr\\xf4': 0.3333333333333333} fi2P {u'm\\xe2Z6re': 0.9482691559704395, u'm\\xe2Zire': 0.012057565149747181, u'm\\xe2Zre': 0.039673278879813305} fi3P mâZE pas de classe E-irô, E-rô, E-6rô 0.33 par forme de sortie\n",
      "{u'm\\xe2Z6r\\xf4': 0.3333333333333333, u'm\\xe2Zir\\xf4': 0.3333333333333333, u'm\\xe2Zr\\xf4': 0.3333333333333333} pI2S {u'm\\xe2Z': 1.0} pI1P {u'm\\xe2Z\\xf4': 1.0} pI2P {u'm\\xe2Ze': 1.0} ps1S {u'm\\xe2Z': 1.0} ps2S {u'm\\xe2Z': 1.0} ps3S {u'm\\xe2Z': 1.0} ps1P {u'm\\xe2Zj\\xf4': 1.0} ps2P {u'm\\xe2Zje': 1.0} ps3P {u'm\\xe2Z': 1.0} pc1S {u'm\\xe2Z6rE': 0.9482691559704395, u'm\\xe2ZirE': 0.012057565149747181, u'm\\xe2ZrE': 0.039673278879813305} pc2S {u'm\\xe2Z6rE': 0.9482691559704395, u'm\\xe2ZirE': 0.012057565149747181, u'm\\xe2ZrE': 0.039673278879813305} pc3S {u'm\\xe2Z6rE': 0.9482691559704395, u'm\\xe2ZirE': 0.012057565149747181, u'm\\xe2ZrE': 0.039673278879813305} pc1P mâZE pas de classe E-irjô, E-6rjô, E-riô 0.33 par forme de sortie\n",
      "{u'm\\xe2Z6rj\\xf4': 0.3333333333333333, u'm\\xe2Zri\\xf4': 0.3333333333333333, u'm\\xe2Zirj\\xf4': 0.3333333333333333} pc2P mâZE pas de classe E-irje, E-6rje, E-rie 0.33 par forme de sortie\n",
      "{u'm\\xe2Z6rje': 0.3333333333333333, u'm\\xe2Zirje': 0.3333333333333333, u'm\\xe2Zrie': 0.3333333333333333} pc3P {u'm\\xe2Z6rE': 0.9482691559704395, u'm\\xe2ZirE': 0.012057565149747181, u'm\\xe2ZrE': 0.039673278879813305} pP {u'm\\xe2Z\\xe2': 1.0} ppMS {u'm\\xe2Zy': 0.016142050040355124, u'm\\xe2Ze': 0.9838579499596449} ppMP {u'm\\xe2Zy': 0.015682656826568265, u'm\\xe2Ze': 0.9843173431734318} ppFS {u'm\\xe2Zy': 0.015682656826568265, u'm\\xe2Ze': 0.9843173431734318} ppFP {u'm\\xe2Zy': 0.015682656826568265, u'm\\xe2Ze': 0.9843173431734318} ai1S {u'm\\xe2Zi': 0.03667539890450107, u'm\\xe2ZE': 0.9633246010954989} ai2S {u'm\\xe2Za': 0.9633246010954989, u'm\\xe2Zi': 0.03667539890450107} ai3S {u'm\\xe2Za': 0.9633246010954989, u'm\\xe2Zi': 0.03667539890450107} ai1P {u'm\\xe2Zam': 0.9633246010954989, u'm\\xe2Zim': 0.03667539890450107} ai2P {u'm\\xe2Zit': 0.03667539890450107, u'm\\xe2Zat': 0.9633246010954989} ai3P {u'm\\xe2ZEr': 0.9633246010954989, u'm\\xe2Zir': 0.03667539890450107} is1S {u'm\\xe2Zis': 0.04369390647142182, u'm\\xe2Zas': 0.9563060935285782} is2S {u'm\\xe2Zis': 0.04369390647142182, u'm\\xe2Zas': 0.9563060935285782} is3S {u'm\\xe2Za': 0.9563060935285782, u'm\\xe2Zi': 0.04369390647142182} is1P {u'm\\xe2Zasj\\xf4': 0.9563060935285782, u'm\\xe2Zisj\\xf4': 0.04369390647142182} is2P {u'm\\xe2Zasje': 0.9563060935285782, u'm\\xe2Zisje': 0.04369390647142182} is3P {u'm\\xe2Zis': 0.04369390647142182, u'm\\xe2Zas': 0.9563060935285782}\n",
      "\n",
      "ii2S mâZE\n",
      "inf {u'm\\xe2Zr': 0.03459637561779242, u'm\\xe2Zir': 0.01729818780889621, u'm\\xe2Ze': 0.9481054365733114} pi1S {u'm\\xe2Z': 1.0} pi2S {u'm\\xe2Z': 1.0} pi3S {u'm\\xe2Z': 1.0} pi1P {u'm\\xe2Z\\xf4': 1.0} pi2P {u'm\\xe2Ze': 1.0} pi3P {u'm\\xe2Z': 1.0} ii1S {u'm\\xe2ZE': 1.0} ii2S {u'm\\xe2ZE': 1.0} ii3S {u'm\\xe2ZE': 1.0} ii1P {u'm\\xe2Zj\\xf4': 1.0} ii2P {u'm\\xe2Zje': 1.0} ii3P {u'm\\xe2ZE': 1.0} fi1S {u'm\\xe2Z6rE': 0.9482691559704395, u'm\\xe2ZirE': 0.012057565149747181, u'm\\xe2ZrE': 0.039673278879813305} fi2S mâZE pas de classe E-ira, E-ra, E-6ra 0.33 par forme de sortie\n",
      "{u'm\\xe2Zra': 0.3333333333333333, u'm\\xe2Z6ra': 0.3333333333333333, u'm\\xe2Zira': 0.3333333333333333} fi3S mâZE pas de classe E-ira, E-ra, E-6ra 0.33 par forme de sortie\n",
      "{u'm\\xe2Zra': 0.3333333333333333, u'm\\xe2Z6ra': 0.3333333333333333, u'm\\xe2Zira': 0.3333333333333333} fi1P mâZE pas de classe E-irô, E-rô, E-6rô 0.33 par forme de sortie\n",
      "{u'm\\xe2Z6r\\xf4': 0.3333333333333333, u'm\\xe2Zir\\xf4': 0.3333333333333333, u'm\\xe2Zr\\xf4': 0.3333333333333333} fi2P {u'm\\xe2Z6re': 0.9482691559704395, u'm\\xe2Zire': 0.012057565149747181, u'm\\xe2Zre': 0.039673278879813305} fi3P mâZE pas de classe E-irô, E-rô, E-6rô 0.33 par forme de sortie\n",
      "{u'm\\xe2Z6r\\xf4': 0.3333333333333333, u'm\\xe2Zir\\xf4': 0.3333333333333333, u'm\\xe2Zr\\xf4': 0.3333333333333333} pI2S {u'm\\xe2Z': 1.0} pI1P {u'm\\xe2Z\\xf4': 1.0} pI2P {u'm\\xe2Ze': 1.0} ps1S {u'm\\xe2Z': 1.0} ps2S {u'm\\xe2Z': 1.0} ps3S {u'm\\xe2Z': 1.0} ps1P {u'm\\xe2Zj\\xf4': 1.0} ps2P {u'm\\xe2Zje': 1.0} ps3P {u'm\\xe2Z': 1.0} pc1S {u'm\\xe2Z6rE': 0.9482691559704395, u'm\\xe2ZirE': 0.012057565149747181, u'm\\xe2ZrE': 0.039673278879813305} pc2S {u'm\\xe2Z6rE': 0.9482691559704395, u'm\\xe2ZirE': 0.012057565149747181, u'm\\xe2ZrE': 0.039673278879813305} pc3S {u'm\\xe2Z6rE': 0.9482691559704395, u'm\\xe2ZirE': 0.012057565149747181, u'm\\xe2ZrE': 0.039673278879813305} pc1P mâZE pas de classe E-irjô, E-6rjô, E-riô 0.33 par forme de sortie\n",
      "{u'm\\xe2Z6rj\\xf4': 0.3333333333333333, u'm\\xe2Zri\\xf4': 0.3333333333333333, u'm\\xe2Zirj\\xf4': 0.3333333333333333} pc2P mâZE pas de classe E-irje, E-6rje, E-rie 0.33 par forme de sortie\n",
      "{u'm\\xe2Z6rje': 0.3333333333333333, u'm\\xe2Zirje': 0.3333333333333333, u'm\\xe2Zrie': 0.3333333333333333} pc3P {u'm\\xe2Z6rE': 0.9482691559704395, u'm\\xe2ZirE': 0.012057565149747181, u'm\\xe2ZrE': 0.039673278879813305} pP {u'm\\xe2Z\\xe2': 1.0} ppMS {u'm\\xe2Zy': 0.016142050040355124, u'm\\xe2Ze': 0.9838579499596449} ppMP {u'm\\xe2Zy': 0.015682656826568265, u'm\\xe2Ze': 0.9843173431734318} ppFS {u'm\\xe2Zy': 0.015682656826568265, u'm\\xe2Ze': 0.9843173431734318} ppFP {u'm\\xe2Zy': 0.015682656826568265, u'm\\xe2Ze': 0.9843173431734318} ai1S {u'm\\xe2Zi': 0.03667539890450107, u'm\\xe2ZE': 0.9633246010954989} ai2S {u'm\\xe2Za': 0.9633246010954989, u'm\\xe2Zi': 0.03667539890450107} ai3S {u'm\\xe2Za': 0.9633246010954989, u'm\\xe2Zi': 0.03667539890450107} ai1P {u'm\\xe2Zam': 0.9633246010954989, u'm\\xe2Zim': 0.03667539890450107} ai2P {u'm\\xe2Zit': 0.03667539890450107, u'm\\xe2Zat': 0.9633246010954989} ai3P {u'm\\xe2ZEr': 0.9633246010954989, u'm\\xe2Zir': 0.03667539890450107} is1S {u'm\\xe2Zis': 0.04369390647142182, u'm\\xe2Zas': 0.9563060935285782} is2S {u'm\\xe2Zis': 0.04369390647142182, u'm\\xe2Zas': 0.9563060935285782} is3S {u'm\\xe2Za': 0.9563060935285782, u'm\\xe2Zi': 0.04369390647142182} is1P {u'm\\xe2Zasj\\xf4': 0.9563060935285782, u'm\\xe2Zisj\\xf4': 0.04369390647142182} is2P {u'm\\xe2Zasje': 0.9563060935285782, u'm\\xe2Zisje': 0.04369390647142182} is3P {u'm\\xe2Zis': 0.04369390647142182, u'm\\xe2Zas': 0.9563060935285782}\n",
      "\n",
      "ii3S mâZE\n",
      "inf {u'm\\xe2Zr': 0.03496503496503497, u'm\\xe2Zir': 0.017688194158782394, u'm\\xe2Ze': 0.9473467708761827} pi1S {u'm\\xe2Z': 1.0} pi2S {u'm\\xe2Z': 1.0} pi3S {u'm\\xe2Z': 1.0} pi1P {u'm\\xe2Z\\xf4': 1.0} pi2P {u'm\\xe2Ze': 1.0} pi3P {u'm\\xe2Z': 1.0} ii1S {u'm\\xe2ZE': 1.0} ii2S {u'm\\xe2ZE': 1.0} ii3S {u'm\\xe2ZE': 1.0} ii1P {u'm\\xe2Zj\\xf4': 1.0} ii2P {u'm\\xe2Zje': 1.0} ii3P {u'm\\xe2ZE': 1.0} fi1S {u'm\\xe2Z6rE': 0.9482691559704395, u'm\\xe2ZirE': 0.012057565149747181, u'm\\xe2ZrE': 0.039673278879813305} fi2S mâZE pas de classe E-ira, E-ra, E-6ra 0.33 par forme de sortie\n",
      "{u'm\\xe2Zra': 0.3333333333333333, u'm\\xe2Z6ra': 0.3333333333333333, u'm\\xe2Zira': 0.3333333333333333} fi3S mâZE pas de classe E-ira, E-ra, E-6ra 0.33 par forme de sortie\n",
      "{u'm\\xe2Zra': 0.3333333333333333, u'm\\xe2Z6ra': 0.3333333333333333, u'm\\xe2Zira': 0.3333333333333333} fi1P mâZE pas de classe E-irô, E-rô, E-6rô 0.33 par forme de sortie\n",
      "{u'm\\xe2Z6r\\xf4': 0.3333333333333333, u'm\\xe2Zir\\xf4': 0.3333333333333333, u'm\\xe2Zr\\xf4': 0.3333333333333333} fi2P {u'm\\xe2Z6re': 0.9482691559704395, u'm\\xe2Zire': 0.012057565149747181, u'm\\xe2Zre': 0.039673278879813305} fi3P mâZE pas de classe E-irô, E-rô, E-6rô 0.33 par forme de sortie\n",
      "{u'm\\xe2Z6r\\xf4': 0.3333333333333333, u'm\\xe2Zir\\xf4': 0.3333333333333333, u'm\\xe2Zr\\xf4': 0.3333333333333333} pI2S {u'm\\xe2Z': 1.0} pI1P {u'm\\xe2Z\\xf4': 1.0} pI2P {u'm\\xe2Ze': 1.0} ps1S {u'm\\xe2Z': 1.0} ps2S {u'm\\xe2Z': 1.0} ps3S {u'm\\xe2Z': 1.0} ps1P {u'm\\xe2Zj\\xf4': 1.0} ps2P {u'm\\xe2Zje': 1.0} ps3P {u'm\\xe2Z': 1.0} pc1S {u'm\\xe2Z6rE': 0.9482691559704395, u'm\\xe2ZirE': 0.012057565149747181, u'm\\xe2ZrE': 0.039673278879813305} pc2S {u'm\\xe2Z6rE': 0.9482691559704395, u'm\\xe2ZirE': 0.012057565149747181, u'm\\xe2ZrE': 0.039673278879813305} pc3S {u'm\\xe2Z6rE': 0.948021722265322, u'm\\xe2ZirE': 0.012024825446082235, u'm\\xe2ZrE': 0.03995345228859581} pc1P mâZE pas de classe E-irjô, E-6rjô, E-riô 0.33 par forme de sortie\n",
      "{u'm\\xe2Z6rj\\xf4': 0.3333333333333333, u'm\\xe2Zri\\xf4': 0.3333333333333333, u'm\\xe2Zirj\\xf4': 0.3333333333333333} pc2P mâZE pas de classe E-irje, E-6rje, E-rie 0.33 par forme de sortie\n",
      "{u'm\\xe2Z6rje': 0.3333333333333333, u'm\\xe2Zirje': 0.3333333333333333, u'm\\xe2Zrie': 0.3333333333333333} pc3P {u'm\\xe2Z6rE': 0.9479611650485437, u'm\\xe2ZirE': 0.012038834951456311, u'm\\xe2ZrE': 0.04} pP {u'm\\xe2Z\\xe2': 1.0} ppMS {u'm\\xe2Zy': 0.016894609814963796, u'm\\xe2Ze': 0.9831053901850362} ppMP {u'm\\xe2Zy': 0.01566820276497696, u'm\\xe2Ze': 0.9843317972350231} ppFS {u'm\\xe2Zy': 0.015682656826568265, u'm\\xe2Ze': 0.9843173431734318} ppFP {u'm\\xe2Zy': 0.015682656826568265, u'm\\xe2Ze': 0.9843173431734318} ai1S {u'm\\xe2Zi': 0.03667539890450107, u'm\\xe2ZE': 0.9633246010954989} ai2S {u'm\\xe2Za': 0.9633246010954989, u'm\\xe2Zi': 0.03667539890450107} ai3S {u'm\\xe2Za': 0.962918944616116, u'm\\xe2Zi': 0.037081055383884} ai1P {u'm\\xe2Zam': 0.9633246010954989, u'm\\xe2Zim': 0.03667539890450107} ai2P {u'm\\xe2Zit': 0.03667539890450107, u'm\\xe2Zat': 0.9633246010954989} ai3P {u'm\\xe2ZEr': 0.962874821513565, u'm\\xe2Zir': 0.03712517848643503} is1S {u'm\\xe2Zis': 0.04369390647142182, u'm\\xe2Zas': 0.9563060935285782} is2S {u'm\\xe2Zis': 0.04369390647142182, u'm\\xe2Zas': 0.9563060935285782} is3S {u'm\\xe2Za': 0.9559170202734559, u'm\\xe2Zi': 0.04408297972654408} is1P {u'm\\xe2Zasj\\xf4': 0.9563060935285782, u'm\\xe2Zisj\\xf4': 0.04369390647142182} is2P {u'm\\xe2Zasje': 0.9563060935285782, u'm\\xe2Zisje': 0.04369390647142182} is3P {u'm\\xe2Zis': 0.04413500118008024, u'm\\xe2Zas': 0.9558649988199197}\n",
      "\n",
      "ii1P mâZjô\n",
      "inf mâZjô pas de classe jô-r, jô-e 0.50 par forme de sortie\n",
      "{u'm\\xe2Zr': 0.5, u'm\\xe2Ze': 0.5} pi1S {u'm\\xe2Z': 1.0} pi2S {u'm\\xe2Z': 1.0} pi3S {u'm\\xe2Z': 1.0} pi1P {u'm\\xe2Z\\xf4': 1.0} pi2P {u'm\\xe2Ze': 1.0} pi3P {u'm\\xe2Z': 1.0} ii1S {u'm\\xe2ZE': 1.0} ii2S {u'm\\xe2ZE': 1.0} ii3S {u'm\\xe2ZE': 1.0} ii1P {u'm\\xe2Zj\\xf4': 1.0} ii2P {u'm\\xe2Zje': 1.0} ii3P {u'm\\xe2ZE': 1.0} fi1S {u'm\\xe2Z6rE': 0.9886587771203156, u'm\\xe2ZrE': 0.011341222879684419} fi2S {u'm\\xe2Zra': 0.011341222879684419, u'm\\xe2Z6ra': 0.9886587771203156} fi3S {u'm\\xe2Zra': 0.011341222879684419, u'm\\xe2Z6ra': 0.9886587771203156} fi1P {u'm\\xe2Z6r\\xf4': 0.9886587771203156, u'm\\xe2Zr\\xf4': 0.011341222879684419} fi2P {u'm\\xe2Z6re': 0.9886587771203156, u'm\\xe2Zre': 0.011341222879684419} fi3P {u'm\\xe2Z6r\\xf4': 0.9886587771203156, u'm\\xe2Zr\\xf4': 0.011341222879684419} pI2S {u'm\\xe2Z': 1.0} pI1P {u'm\\xe2Z\\xf4': 1.0} pI2P {u'm\\xe2Ze': 1.0} ps1S {u'm\\xe2Z': 1.0} ps2S {u'm\\xe2Z': 1.0} ps3S {u'm\\xe2Z': 1.0} ps1P {u'm\\xe2Zj\\xf4': 1.0} ps2P {u'm\\xe2Zje': 1.0} ps3P {u'm\\xe2Z': 1.0} pc1S {u'm\\xe2Z6rE': 0.9886587771203156, u'm\\xe2ZrE': 0.011341222879684419} pc2S {u'm\\xe2Z6rE': 0.9886587771203156, u'm\\xe2ZrE': 0.011341222879684419} pc3S {u'm\\xe2Z6rE': 0.9886587771203156, u'm\\xe2ZrE': 0.011341222879684419} pc1P {u'm\\xe2Zri\\xf4': 0.015425888665325285, u'm\\xe2Z6rj\\xf4': 0.9845741113346748} pc2P {u'm\\xe2Zrie': 0.015425888665325285, u'm\\xe2Z6rje': 0.9845741113346748} pc3P {u'm\\xe2Z6rE': 0.9886587771203156, u'm\\xe2ZrE': 0.011341222879684419} pP {u'm\\xe2Z\\xe2': 1.0} ppMS mâZjô pas de classe jô-e, jô-y 0.50 par forme de sortie\n",
      "{u'm\\xe2Zy': 0.5, u'm\\xe2Ze': 0.5} ppMP mâZjô pas de classe jô-e, jô-y 0.50 par forme de sortie\n",
      "{u'm\\xe2Zy': 0.5, u'm\\xe2Ze': 0.5} ppFS mâZjô pas de classe jô-e, jô-y 0.50 par forme de sortie\n",
      "{u'm\\xe2Zy': 0.5, u'm\\xe2Ze': 0.5} ppFP mâZjô pas de classe jô-e, jô-y 0.50 par forme de sortie\n",
      "{u'm\\xe2Zy': 0.5, u'm\\xe2Ze': 0.5} ai1S {u'm\\xe2Zi': 0.03483404534998357, u'm\\xe2ZE': 0.9651659546500164} ai2S {u'm\\xe2Za': 0.9651659546500164, u'm\\xe2Zi': 0.03483404534998357} ai3S {u'm\\xe2Za': 0.9651659546500164, u'm\\xe2Zi': 0.03483404534998357} ai1P {u'm\\xe2Zam': 0.9651659546500164, u'm\\xe2Zim': 0.03483404534998357} ai2P {u'm\\xe2Zit': 0.03483404534998357, u'm\\xe2Zat': 0.9651659546500164} ai3P {u'm\\xe2ZEr': 0.9651659546500164, u'm\\xe2Zir': 0.03483404534998357} is1S {u'm\\xe2Zis': 0.044509421702404156, u'm\\xe2Zas': 0.9554905782975959} is2S {u'm\\xe2Zis': 0.044509421702404156, u'm\\xe2Zas': 0.9554905782975959} is3S {u'm\\xe2Za': 0.9554905782975959, u'm\\xe2Zi': 0.044509421702404156} is1P {u'm\\xe2Zasj\\xf4': 0.9554905782975959, u'm\\xe2Zisj\\xf4': 0.044509421702404156} is2P {u'm\\xe2Zasje': 0.9554905782975959, u'm\\xe2Zisje': 0.044509421702404156} is3P {u'm\\xe2Zis': 0.044509421702404156, u'm\\xe2Zas': 0.9554905782975959}\n",
      "\n",
      "ii2P mâZje\n",
      "inf {u'm\\xe2Zr': 0.0035671819262782403, u'm\\xe2Ze': 0.9964328180737217} pi1S {u'm\\xe2Z': 1.0} pi2S {u'm\\xe2Z': 1.0} pi3S {u'm\\xe2Z': 1.0} pi1P {u'm\\xe2Z\\xf4': 1.0} pi2P {u'm\\xe2Ze': 1.0} pi3P {u'm\\xe2Z': 1.0} ii1S {u'm\\xe2ZE': 1.0} ii2S {u'm\\xe2ZE': 1.0} ii3S {u'm\\xe2ZE': 1.0} ii1P {u'm\\xe2Zj\\xf4': 1.0} ii2P {u'm\\xe2Zje': 1.0} ii3P {u'm\\xe2ZE': 1.0} fi1S {u'm\\xe2Z6rE': 0.9886587771203156, u'm\\xe2ZrE': 0.011341222879684419} fi2S {u'm\\xe2Zra': 0.011341222879684419, u'm\\xe2Z6ra': 0.9886587771203156} fi3S {u'm\\xe2Zra': 0.011341222879684419, u'm\\xe2Z6ra': 0.9886587771203156} fi1P {u'm\\xe2Z6r\\xf4': 0.9886587771203156, u'm\\xe2Zr\\xf4': 0.011341222879684419} fi2P {u'm\\xe2Z6re': 0.9886587771203156, u'm\\xe2Zre': 0.011341222879684419} fi3P {u'm\\xe2Z6r\\xf4': 0.9886587771203156, u'm\\xe2Zr\\xf4': 0.011341222879684419} pI2S {u'm\\xe2Z': 1.0} pI1P {u'm\\xe2Z\\xf4': 1.0} pI2P {u'm\\xe2Ze': 1.0} ps1S {u'm\\xe2Z': 1.0} ps2S {u'm\\xe2Z': 1.0} ps3S {u'm\\xe2Z': 1.0} ps1P {u'm\\xe2Zj\\xf4': 1.0} ps2P {u'm\\xe2Zje': 1.0} ps3P {u'm\\xe2Z': 1.0} pc1S {u'm\\xe2Z6rE': 0.9886587771203156, u'm\\xe2ZrE': 0.011341222879684419} pc2S {u'm\\xe2Z6rE': 0.9886587771203156, u'm\\xe2ZrE': 0.011341222879684419} pc3S {u'm\\xe2Z6rE': 0.9886587771203156, u'm\\xe2ZrE': 0.011341222879684419} pc1P {u'm\\xe2Z6rj\\xf4': 0.9845741113346748, u'm\\xe2Zri\\xf4': 0.015425888665325285} pc2P {u'm\\xe2Z6rje': 0.9845741113346748, u'm\\xe2Zrie': 0.015425888665325285} pc3P {u'm\\xe2Z6rE': 0.9886587771203156, u'm\\xe2ZrE': 0.011341222879684419} pP {u'm\\xe2Z\\xe2': 1.0} ppMS {u'm\\xe2Zy': 0.018433179723502304, u'm\\xe2Ze': 0.9815668202764977} ppMP {u'm\\xe2Zy': 0.01967435549525102, u'm\\xe2Ze': 0.980325644504749} ppFS {u'm\\xe2Zy': 0.019876627827278958, u'm\\xe2Ze': 0.980123372172721} ppFP {u'm\\xe2Zy': 0.019876627827278958, u'm\\xe2Ze': 0.980123372172721} ai1S {u'm\\xe2Zi': 0.03483404534998357, u'm\\xe2ZE': 0.9651659546500164} ai2S {u'm\\xe2Za': 0.9651659546500164, u'm\\xe2Zi': 0.03483404534998357} ai3S {u'm\\xe2Za': 0.9651659546500164, u'm\\xe2Zi': 0.03483404534998357} ai1P {u'm\\xe2Zam': 0.9651659546500164, u'm\\xe2Zim': 0.03483404534998357} ai2P {u'm\\xe2Zit': 0.03483404534998357, u'm\\xe2Zat': 0.9651659546500164} ai3P {u'm\\xe2ZEr': 0.9651659546500164, u'm\\xe2Zir': 0.03483404534998357} is1S {u'm\\xe2Zis': 0.044509421702404156, u'm\\xe2Zas': 0.9554905782975959} is2S {u'm\\xe2Zis': 0.044509421702404156, u'm\\xe2Zas': 0.9554905782975959} is3S {u'm\\xe2Za': 0.9554905782975959, u'm\\xe2Zi': 0.044509421702404156} is1P {u'm\\xe2Zasj\\xf4': 0.9554905782975959, u'm\\xe2Zisj\\xf4': 0.044509421702404156} is2P {u'm\\xe2Zasje': 0.9554905782975959, u'm\\xe2Zisje': 0.044509421702404156} is3P {u'm\\xe2Zis': 0.044509421702404156, u'm\\xe2Zas': 0.9554905782975959}\n",
      "\n",
      "ii3P mâZE\n",
      "inf {u'm\\xe2Zr': 0.03500823723228995, u'm\\xe2Zir': 0.01771004942339374, u'm\\xe2Ze': 0.9472817133443163} pi1S {u'm\\xe2Z': 1.0} pi2S {u'm\\xe2Z': 1.0} pi3S {u'm\\xe2Z': 1.0} pi1P {u'm\\xe2Z\\xf4': 1.0} pi2P {u'm\\xe2Ze': 1.0} pi3P {u'm\\xe2Z': 1.0} ii1S {u'm\\xe2ZE': 1.0} ii2S {u'm\\xe2ZE': 1.0} ii3S {u'm\\xe2ZE': 1.0} ii1P {u'm\\xe2Zj\\xf4': 1.0} ii2P {u'm\\xe2Zje': 1.0} ii3P {u'm\\xe2ZE': 1.0} fi1S {u'm\\xe2Z6rE': 0.9482691559704395, u'm\\xe2ZirE': 0.012057565149747181, u'm\\xe2ZrE': 0.039673278879813305} fi2S mâZE pas de classe E-ira, E-ra, E-6ra 0.33 par forme de sortie\n",
      "{u'm\\xe2Zra': 0.3333333333333333, u'm\\xe2Z6ra': 0.3333333333333333, u'm\\xe2Zira': 0.3333333333333333} fi3S mâZE pas de classe E-ira, E-ra, E-6ra 0.33 par forme de sortie\n",
      "{u'm\\xe2Zra': 0.3333333333333333, u'm\\xe2Z6ra': 0.3333333333333333, u'm\\xe2Zira': 0.3333333333333333} fi1P mâZE pas de classe E-irô, E-rô, E-6rô 0.33 par forme de sortie\n",
      "{u'm\\xe2Z6r\\xf4': 0.3333333333333333, u'm\\xe2Zir\\xf4': 0.3333333333333333, u'm\\xe2Zr\\xf4': 0.3333333333333333} fi2P {u'm\\xe2Z6re': 0.9482691559704395, u'm\\xe2Zire': 0.012057565149747181, u'm\\xe2Zre': 0.039673278879813305} fi3P mâZE pas de classe E-irô, E-rô, E-6rô 0.33 par forme de sortie\n",
      "{u'm\\xe2Z6r\\xf4': 0.3333333333333333, u'm\\xe2Zir\\xf4': 0.3333333333333333, u'm\\xe2Zr\\xf4': 0.3333333333333333} pI2S {u'm\\xe2Z': 1.0} pI1P {u'm\\xe2Z\\xf4': 1.0} pI2P {u'm\\xe2Ze': 1.0} ps1S {u'm\\xe2Z': 1.0} ps2S {u'm\\xe2Z': 1.0} ps3S {u'm\\xe2Z': 1.0} ps1P {u'm\\xe2Zj\\xf4': 1.0} ps2P {u'm\\xe2Zje': 1.0} ps3P {u'm\\xe2Z': 1.0} pc1S {u'm\\xe2Z6rE': 0.9482691559704395, u'm\\xe2ZirE': 0.012057565149747181, u'm\\xe2ZrE': 0.039673278879813305} pc2S {u'm\\xe2Z6rE': 0.9482691559704395, u'm\\xe2ZirE': 0.012057565149747181, u'm\\xe2ZrE': 0.039673278879813305} pc3S {u'm\\xe2Z6rE': 0.9479611650485437, u'm\\xe2ZirE': 0.012038834951456311, u'm\\xe2ZrE': 0.04} pc1P mâZE pas de classe E-irjô, E-6rjô, E-riô 0.33 par forme de sortie\n",
      "{u'm\\xe2Z6rj\\xf4': 0.3333333333333333, u'm\\xe2Zri\\xf4': 0.3333333333333333, u'm\\xe2Zirj\\xf4': 0.3333333333333333} pc2P mâZE pas de classe E-irje, E-6rje, E-rie 0.33 par forme de sortie\n",
      "{u'm\\xe2Z6rje': 0.3333333333333333, u'm\\xe2Zirje': 0.3333333333333333, u'm\\xe2Zrie': 0.3333333333333333} pc3P {u'm\\xe2Z6rE': 0.9479611650485437, u'm\\xe2ZirE': 0.012038834951456311, u'm\\xe2ZrE': 0.04} pP {u'm\\xe2Z\\xe2': 1.0} ppMS {u'm\\xe2Zy': 0.016142050040355124, u'm\\xe2Ze': 0.9838579499596449} ppMP {u'm\\xe2Zy': 0.015682656826568265, u'm\\xe2Ze': 0.9843173431734318} ppFS {u'm\\xe2Zy': 0.015682656826568265, u'm\\xe2Ze': 0.9843173431734318} ppFP {u'm\\xe2Zy': 0.015682656826568265, u'm\\xe2Ze': 0.9843173431734318} ai1S {u'm\\xe2Zi': 0.03667539890450107, u'm\\xe2ZE': 0.9633246010954989} ai2S {u'm\\xe2Za': 0.9633246010954989, u'm\\xe2Zi': 0.03667539890450107} ai3S {u'm\\xe2Za': 0.962874821513565, u'm\\xe2Zi': 0.03712517848643503} ai1P {u'm\\xe2Zam': 0.9633246010954989, u'm\\xe2Zim': 0.03667539890450107} ai2P {u'm\\xe2Zit': 0.03667539890450107, u'm\\xe2Zat': 0.9633246010954989} ai3P {u'm\\xe2ZEr': 0.962874821513565, u'm\\xe2Zir': 0.03712517848643503} is1S {u'm\\xe2Zis': 0.04369390647142182, u'm\\xe2Zas': 0.9563060935285782} is2S {u'm\\xe2Zis': 0.04369390647142182, u'm\\xe2Zas': 0.9563060935285782} is3S {u'm\\xe2Za': 0.9558649988199197, u'm\\xe2Zi': 0.04413500118008024} is1P {u'm\\xe2Zasj\\xf4': 0.9563060935285782, u'm\\xe2Zisj\\xf4': 0.04369390647142182} is2P {u'm\\xe2Zasje': 0.9563060935285782, u'm\\xe2Zisje': 0.04369390647142182} is3P {u'm\\xe2Zis': 0.04413500118008024, u'm\\xe2Zas': 0.9558649988199197}\n",
      "\n",
      "fi1S mâZ6rE\n",
      "inf mâZ6rE pas de classe E-, rE-e, 6rE-e 0.33 par forme de sortie\n",
      "{u'm\\xe2Z6e': 0.3333333333333333, u'm\\xe2Z6r': 0.3333333333333333, u'm\\xe2Ze': 0.3333333333333333} pi1S {u'm\\xe2Z': 1.0} pi2S {u'm\\xe2Z': 1.0} pi3S {u'm\\xe2Z': 1.0} pi1P {u'm\\xe2Z\\xf4': 1.0} pi2P {u'm\\xe2Ze': 1.0} pi3P mâZ6rE pas de classe rE-, 6rE- 0.50 par forme de sortie\n",
      "{u'm\\xe2Z6': 0.5, u'm\\xe2Z': 0.5} ii1S {u'm\\xe2ZE': 1.0} ii2S {u'm\\xe2ZE': 1.0} ii3S {u'm\\xe2ZE': 1.0} ii1P {u'm\\xe2Zj\\xf4': 1.0} ii2P {u'm\\xe2Zje': 1.0} ii3P {u'm\\xe2ZE': 1.0} fi1S {u'm\\xe2Z6rE': 1.0} fi2S {u'm\\xe2Z6ra': 1.0} fi3S {u'm\\xe2Z6ra': 1.0} fi1P {u'm\\xe2Z6r\\xf4': 1.0} fi2P {u'm\\xe2Z6re': 1.0} fi3P {u'm\\xe2Z6r\\xf4': 1.0} pI2S {u'm\\xe2Z': 1.0} pI1P {u'm\\xe2Z\\xf4': 1.0} pI2P {u'm\\xe2Ze': 1.0} ps1S mâZ6rE pas de classe rE-, 6rE- 0.50 par forme de sortie\n",
      "{u'm\\xe2Z6': 0.5, u'm\\xe2Z': 0.5} ps2S mâZ6rE pas de classe rE-, 6rE- 0.50 par forme de sortie\n",
      "{u'm\\xe2Z6': 0.5, u'm\\xe2Z': 0.5} ps3S mâZ6rE pas de classe rE-, 6rE- 0.50 par forme de sortie\n",
      "{u'm\\xe2Z6': 0.5, u'm\\xe2Z': 0.5} ps1P {u'm\\xe2Zj\\xf4': 1.0} ps2P {u'm\\xe2Zje': 1.0} ps3P mâZ6rE pas de classe rE-, 6rE- 0.50 par forme de sortie\n",
      "{u'm\\xe2Z6': 0.5, u'm\\xe2Z': 0.5} pc1S {u'm\\xe2Z6rE': 1.0} pc2S {u'm\\xe2Z6rE': 1.0} pc3S {u'm\\xe2Z6rE': 1.0} pc1P {u'm\\xe2Z6rj\\xf4': 1.0} pc2P {u'm\\xe2Z6rje': 1.0} pc3P {u'm\\xe2Z6rE': 1.0} pP {u'm\\xe2Z\\xe2': 1.0} ppMS {u'm\\xe2Ze': 1.0} ppMP {u'm\\xe2Ze': 1.0} ppFS {u'm\\xe2Ze': 1.0} ppFP {u'm\\xe2Ze': 1.0} ai1S {u'm\\xe2ZE': 1.0} ai2S {u'm\\xe2Za': 1.0} ai3S {u'm\\xe2Za': 1.0} ai1P {u'm\\xe2Zam': 1.0} ai2P {u'm\\xe2Zat': 1.0} ai3P {u'm\\xe2ZEr': 1.0} is1S {u'm\\xe2Zas': 1.0} is2S {u'm\\xe2Zas': 1.0} is3S {u'm\\xe2Za': 1.0} is1P {u'm\\xe2Zasj\\xf4': 1.0} is2P {u'm\\xe2Zasje': 1.0} is3P {u'm\\xe2Zas': 1.0}\n",
      "\n",
      "fi2S mâZ6ra\n",
      "inf mâZ6ra pas de classe a-, ra-e, 6ra-e 0.33 par forme de sortie\n",
      "{u'm\\xe2Z6e': 0.3333333333333333, u'm\\xe2Z6r': 0.3333333333333333, u'm\\xe2Ze': 0.3333333333333333} pi1S {u'm\\xe2Z': 1.0} pi2S {u'm\\xe2Z': 1.0} pi3S {u'm\\xe2Z': 1.0} pi1P {u'm\\xe2Z\\xf4': 1.0} pi2P {u'm\\xe2Ze': 1.0} pi3P {u'm\\xe2Z': 1.0} ii1S {u'm\\xe2ZE': 1.0} ii2S {u'm\\xe2ZE': 1.0} ii3S {u'm\\xe2ZE': 1.0} ii1P {u'm\\xe2Zj\\xf4': 1.0} ii2P {u'm\\xe2Zje': 1.0} ii3P {u'm\\xe2ZE': 1.0} fi1S {u'm\\xe2Z6rE': 1.0} fi2S {u'm\\xe2Z6ra': 1.0} fi3S {u'm\\xe2Z6ra': 1.0} fi1P {u'm\\xe2Z6r\\xf4': 1.0} fi2P {u'm\\xe2Z6re': 1.0} fi3P {u'm\\xe2Z6r\\xf4': 1.0} pI2S {u'm\\xe2Z': 1.0} pI1P {u'm\\xe2Z\\xf4': 1.0} pI2P {u'm\\xe2Ze': 1.0} ps1S {u'm\\xe2Z': 1.0} ps2S {u'm\\xe2Z': 1.0} ps3S {u'm\\xe2Z': 1.0} ps1P {u'm\\xe2Zj\\xf4': 1.0} ps2P {u'm\\xe2Zje': 1.0} ps3P {u'm\\xe2Z': 1.0} pc1S {u'm\\xe2Z6rE': 1.0} pc2S {u'm\\xe2Z6rE': 1.0} pc3S {u'm\\xe2Z6rE': 1.0} pc1P {u'm\\xe2Z6rj\\xf4': 1.0} pc2P {u'm\\xe2Z6rje': 1.0} pc3P {u'm\\xe2Z6rE': 1.0} pP {u'm\\xe2Z\\xe2': 1.0} ppMS {u'm\\xe2Ze': 1.0} ppMP {u'm\\xe2Ze': 1.0} ppFS {u'm\\xe2Ze': 1.0} ppFP {u'm\\xe2Ze': 1.0} ai1S {u'm\\xe2ZE': 1.0} ai2S {u'm\\xe2Za': 1.0} ai3S {u'm\\xe2Za': 1.0} ai1P {u'm\\xe2Zam': 1.0} ai2P mâZ6ra pas de classe 6ra-at, ra-at 0.50 par forme de sortie\n",
      "{u'm\\xe2Zat': 0.5, u'm\\xe2Z6at': 0.5} ai3P {u'm\\xe2ZEr': 1.0} is1S {u'm\\xe2Zas': 1.0} is2S {u'm\\xe2Zas': 1.0} is3S {u'm\\xe2Za': 1.0} is1P {u'm\\xe2Zasj\\xf4': 1.0} is2P {u'm\\xe2Zasje': 1.0} is3P {u'm\\xe2Zas': 1.0}\n",
      "\n",
      "fi3S mâZ6ra\n",
      "inf mâZ6ra pas de classe a-, ra-e, 6ra-e 0.33 par forme de sortie\n",
      "{u'm\\xe2Z6e': 0.3333333333333333, u'm\\xe2Z6r': 0.3333333333333333, u'm\\xe2Ze': 0.3333333333333333} pi1S {u'm\\xe2Z': 1.0} pi2S {u'm\\xe2Z': 1.0} pi3S {u'm\\xe2Z': 1.0} pi1P {u'm\\xe2Z\\xf4': 1.0} pi2P {u'm\\xe2Ze': 1.0} pi3P {u'm\\xe2Z': 1.0} ii1S {u'm\\xe2ZE': 1.0} ii2S {u'm\\xe2ZE': 1.0} ii3S {u'm\\xe2ZE': 1.0} ii1P {u'm\\xe2Zj\\xf4': 1.0} ii2P {u'm\\xe2Zje': 1.0} ii3P {u'm\\xe2ZE': 1.0} fi1S {u'm\\xe2Z6rE': 1.0} fi2S {u'm\\xe2Z6ra': 1.0} fi3S {u'm\\xe2Z6ra': 1.0} fi1P {u'm\\xe2Z6r\\xf4': 1.0} fi2P {u'm\\xe2Z6re': 1.0} fi3P {u'm\\xe2Z6r\\xf4': 1.0} pI2S {u'm\\xe2Z': 1.0} pI1P {u'm\\xe2Z\\xf4': 1.0} pI2P {u'm\\xe2Ze': 1.0} ps1S {u'm\\xe2Z': 1.0} ps2S {u'm\\xe2Z': 1.0} ps3S {u'm\\xe2Z': 1.0} ps1P {u'm\\xe2Zj\\xf4': 1.0} ps2P {u'm\\xe2Zje': 1.0} ps3P {u'm\\xe2Z': 1.0} pc1S {u'm\\xe2Z6rE': 1.0} pc2S {u'm\\xe2Z6rE': 1.0} pc3S {u'm\\xe2Z6rE': 1.0} pc1P {u'm\\xe2Z6rj\\xf4': 1.0} pc2P {u'm\\xe2Z6rje': 1.0} pc3P {u'm\\xe2Z6rE': 1.0} pP {u'm\\xe2Z\\xe2': 1.0} ppMS {u'm\\xe2Ze': 1.0} ppMP {u'm\\xe2Ze': 1.0} ppFS {u'm\\xe2Ze': 1.0} ppFP {u'm\\xe2Ze': 1.0} ai1S {u'm\\xe2ZE': 1.0} ai2S {u'm\\xe2Za': 1.0} ai3S {u'm\\xe2Za': 1.0} ai1P {u'm\\xe2Zam': 1.0} ai2P mâZ6ra pas de classe 6ra-at, ra-at 0.50 par forme de sortie\n",
      "{u'm\\xe2Zat': 0.5, u'm\\xe2Z6at': 0.5} ai3P {u'm\\xe2ZEr': 1.0} is1S {u'm\\xe2Zas': 1.0} is2S {u'm\\xe2Zas': 1.0} is3S {u'm\\xe2Za': 1.0} is1P {u'm\\xe2Zasj\\xf4': 1.0} is2P {u'm\\xe2Zasje': 1.0} is3P {u'm\\xe2Zas': 1.0}\n",
      "\n",
      "fi1P mâZ6rô\n",
      "inf {u'm\\xe2Ze': 1.0} pi1S {u'm\\xe2Z': 1.0} pi2S {u'm\\xe2Z': 1.0} pi3S {u'm\\xe2Z': 1.0} pi1P {u'm\\xe2Z\\xf4': 1.0} pi2P {u'm\\xe2Ze': 1.0} pi3P {u'm\\xe2Z': 1.0} ii1S {u'm\\xe2ZE': 1.0} ii2S {u'm\\xe2ZE': 1.0} ii3S {u'm\\xe2ZE': 1.0} ii1P {u'm\\xe2Zj\\xf4': 1.0} ii2P {u'm\\xe2Zje': 1.0} ii3P {u'm\\xe2ZE': 1.0} fi1S {u'm\\xe2Z6rE': 1.0} fi2S {u'm\\xe2Z6ra': 1.0} fi3S {u'm\\xe2Z6ra': 1.0} fi1P {u'm\\xe2Z6r\\xf4': 1.0} fi2P {u'm\\xe2Z6re': 1.0} fi3P {u'm\\xe2Z6r\\xf4': 1.0} pI2S {u'm\\xe2Z': 1.0} pI1P mâZ6rô pas de classe rô-ô, 6rô-ô 0.50 par forme de sortie\n",
      "{u'm\\xe2Z6\\xf4': 0.5, u'm\\xe2Z\\xf4': 0.5} pI2P {u'm\\xe2Ze': 1.0} ps1S {u'm\\xe2Z': 1.0} ps2S {u'm\\xe2Z': 1.0} ps3S {u'm\\xe2Z': 1.0} ps1P {u'm\\xe2Zj\\xf4': 1.0} ps2P {u'm\\xe2Zje': 1.0} ps3P {u'm\\xe2Z': 1.0} pc1S {u'm\\xe2Z6rE': 1.0} pc2S {u'm\\xe2Z6rE': 1.0} pc3S {u'm\\xe2Z6rE': 1.0} pc1P {u'm\\xe2Z6rj\\xf4': 1.0} pc2P {u'm\\xe2Z6rje': 1.0} pc3P {u'm\\xe2Z6rE': 1.0} pP mâZ6rô pas de classe rô-â, 6rô-â 0.50 par forme de sortie\n",
      "{u'm\\xe2Z\\xe2': 0.5, u'm\\xe2Z6\\xe2': 0.5} ppMS mâZ6rô pas de classe 6rô-e, rô-e 0.50 par forme de sortie\n",
      "{u'm\\xe2Z6e': 0.5, u'm\\xe2Ze': 0.5} ppMP mâZ6rô pas de classe 6rô-e, rô-e 0.50 par forme de sortie\n",
      "{u'm\\xe2Z6e': 0.5, u'm\\xe2Ze': 0.5} ppFS {u'm\\xe2Ze': 1.0} ppFP {u'm\\xe2Ze': 1.0} ai1S {u'm\\xe2ZE': 1.0} ai2S mâZ6rô pas de classe 6rô-a, rô-a 0.50 par forme de sortie\n",
      "{u'm\\xe2Za': 0.5, u'm\\xe2Z6a': 0.5} ai3S mâZ6rô pas de classe 6rô-a, rô-a 0.50 par forme de sortie\n",
      "{u'm\\xe2Za': 0.5, u'm\\xe2Z6a': 0.5} ai1P {u'm\\xe2Zam': 1.0} ai2P {u'm\\xe2Zat': 1.0} ai3P {u'm\\xe2ZEr': 1.0} is1S {u'm\\xe2Zas': 1.0} is2S {u'm\\xe2Zas': 1.0} is3S mâZ6rô pas de classe 6rô-a, rô-a 0.50 par forme de sortie\n",
      "{u'm\\xe2Za': 0.5, u'm\\xe2Z6a': 0.5} is1P {u'm\\xe2Zasj\\xf4': 1.0} is2P {u'm\\xe2Zasje': 1.0} is3P {u'm\\xe2Zas': 1.0}\n",
      "\n",
      "fi2P mâZ6re\n",
      "inf mâZ6re pas de classe e-, re-e, 6re-e 0.33 par forme de sortie\n",
      "{u'm\\xe2Z6e': 0.3333333333333333, u'm\\xe2Z6r': 0.3333333333333333, u'm\\xe2Ze': 0.3333333333333333} pi1S {u'm\\xe2Z': 1.0} pi2S {u'm\\xe2Z': 1.0} pi3S {u'm\\xe2Z': 1.0} pi1P mâZ6re pas de classe re-ô, 6re-ô 0.50 par forme de sortie\n",
      "{u'm\\xe2Z6\\xf4': 0.5, u'm\\xe2Z\\xf4': 0.5} pi2P {u'm\\xe2Ze': 1.0} pi3P {u'm\\xe2Z': 1.0} ii1S {u'm\\xe2ZE': 1.0} ii2S {u'm\\xe2ZE': 1.0} ii3S {u'm\\xe2ZE': 1.0} ii1P {u'm\\xe2Zj\\xf4': 1.0} ii2P {u'm\\xe2Zje': 1.0} ii3P {u'm\\xe2ZE': 1.0} fi1S {u'm\\xe2Z6rE': 1.0} fi2S {u'm\\xe2Z6ra': 1.0} fi3S {u'm\\xe2Z6ra': 1.0} fi1P {u'm\\xe2Z6r\\xf4': 1.0} fi2P {u'm\\xe2Z6re': 1.0} fi3P {u'm\\xe2Z6r\\xf4': 1.0} pI2S {u'm\\xe2Z': 1.0} pI1P {u'm\\xe2Z\\xf4': 1.0} pI2P {u'm\\xe2Ze': 1.0} ps1S {u'm\\xe2Z': 1.0} ps2S {u'm\\xe2Z': 1.0} ps3S {u'm\\xe2Z': 1.0} ps1P {u'm\\xe2Zj\\xf4': 1.0} ps2P mâZ6re pas de classe r.-j., 6re-je 0.50 par forme de sortie\n",
      "{u'm\\xe2Z6je': 0.5, u'm\\xe2Zje': 0.5} ps3P {u'm\\xe2Z': 1.0} pc1S {u'm\\xe2Z6rE': 1.0} pc2S {u'm\\xe2Z6rE': 1.0} pc3S {u'm\\xe2Z6rE': 1.0} pc1P {u'm\\xe2Z6rj\\xf4': 1.0} pc2P {u'm\\xe2Z6rje': 1.0} pc3P {u'm\\xe2Z6rE': 1.0} pP {u'm\\xe2Z\\xe2': 1.0} ppMS {u'm\\xe2Ze': 1.0} ppMP {u'm\\xe2Ze': 1.0} ppFS {u'm\\xe2Ze': 1.0} ppFP {u'm\\xe2Ze': 1.0} ai1S {u'm\\xe2ZE': 1.0} ai2S {u'm\\xe2Za': 1.0} ai3S {u'm\\xe2Za': 1.0} ai1P mâZ6re pas de classe 6re-am, re-am 0.50 par forme de sortie\n",
      "{u'm\\xe2Zam': 0.5, u'm\\xe2Z6am': 0.5} ai2P {u'm\\xe2Zat': 1.0} ai3P {u'm\\xe2ZEr': 1.0} is1S {u'm\\xe2Zas': 1.0} is2S {u'm\\xe2Zas': 1.0} is3S {u'm\\xe2Za': 1.0} is1P {u'm\\xe2Zasj\\xf4': 1.0} is2P {u'm\\xe2Zasje': 1.0} is3P {u'm\\xe2Zas': 1.0}\n",
      "\n",
      "fi3P mâZ6rô\n",
      "inf {u'm\\xe2Ze': 1.0} pi1S {u'm\\xe2Z': 1.0} pi2S {u'm\\xe2Z': 1.0} pi3S {u'm\\xe2Z': 1.0} pi1P {u'm\\xe2Z\\xf4': 1.0} pi2P {u'm\\xe2Ze': 1.0} pi3P {u'm\\xe2Z': 1.0} ii1S {u'm\\xe2ZE': 1.0} ii2S {u'm\\xe2ZE': 1.0} ii3S {u'm\\xe2ZE': 1.0} ii1P {u'm\\xe2Zj\\xf4': 1.0} ii2P {u'm\\xe2Zje': 1.0} ii3P {u'm\\xe2ZE': 1.0} fi1S {u'm\\xe2Z6rE': 1.0} fi2S {u'm\\xe2Z6ra': 1.0} fi3S {u'm\\xe2Z6ra': 1.0} fi1P {u'm\\xe2Z6r\\xf4': 1.0} fi2P {u'm\\xe2Z6re': 1.0} fi3P {u'm\\xe2Z6r\\xf4': 1.0} pI2S {u'm\\xe2Z': 1.0} pI1P mâZ6rô pas de classe rô-ô, 6rô-ô 0.50 par forme de sortie\n",
      "{u'm\\xe2Z6\\xf4': 0.5, u'm\\xe2Z\\xf4': 0.5} pI2P {u'm\\xe2Ze': 1.0} ps1S {u'm\\xe2Z': 1.0} ps2S {u'm\\xe2Z': 1.0} ps3S {u'm\\xe2Z': 1.0} ps1P {u'm\\xe2Zj\\xf4': 1.0} ps2P {u'm\\xe2Zje': 1.0} ps3P {u'm\\xe2Z': 1.0} pc1S {u'm\\xe2Z6rE': 1.0} pc2S {u'm\\xe2Z6rE': 1.0} pc3S {u'm\\xe2Z6rE': 1.0} pc1P {u'm\\xe2Z6rj\\xf4': 1.0} pc2P {u'm\\xe2Z6rje': 1.0} pc3P {u'm\\xe2Z6rE': 1.0} pP mâZ6rô pas de classe rô-â, 6rô-â 0.50 par forme de sortie\n",
      "{u'm\\xe2Z\\xe2': 0.5, u'm\\xe2Z6\\xe2': 0.5} ppMS mâZ6rô pas de classe 6rô-e, rô-e 0.50 par forme de sortie\n",
      "{u'm\\xe2Z6e': 0.5, u'm\\xe2Ze': 0.5} ppMP mâZ6rô pas de classe 6rô-e, rô-e 0.50 par forme de sortie\n",
      "{u'm\\xe2Z6e': 0.5, u'm\\xe2Ze': 0.5} ppFS {u'm\\xe2Ze': 1.0} ppFP {u'm\\xe2Ze': 1.0} ai1S {u'm\\xe2ZE': 1.0} ai2S mâZ6rô pas de classe 6rô-a, rô-a 0.50 par forme de sortie\n",
      "{u'm\\xe2Za': 0.5, u'm\\xe2Z6a': 0.5} ai3S mâZ6rô pas de classe 6rô-a, rô-a 0.50 par forme de sortie\n",
      "{u'm\\xe2Za': 0.5, u'm\\xe2Z6a': 0.5} ai1P {u'm\\xe2Zam': 1.0} ai2P {u'm\\xe2Zat': 1.0} ai3P {u'm\\xe2ZEr': 1.0} is1S {u'm\\xe2Zas': 1.0} is2S {u'm\\xe2Zas': 1.0} is3S mâZ6rô pas de classe 6rô-a, rô-a 0.50 par forme de sortie\n",
      "{u'm\\xe2Za': 0.5, u'm\\xe2Z6a': 0.5} is1P {u'm\\xe2Zasj\\xf4': 1.0} is2P {u'm\\xe2Zasje': 1.0} is3P {u'm\\xe2Zas': 1.0}\n",
      "\n",
      "pI2S mâZ\n",
      "inf {u'm\\xe2Ze': 1.0} pi1S {u'm\\xe2Z': 1.0} pi2S {u'm\\xe2Z': 1.0} pi3S {u'm\\xe2Z': 1.0} pi1P {u'm\\xe2Z\\xf4': 1.0} pi2P {u'm\\xe2Ze': 1.0} pi3P {u'm\\xe2Z': 1.0} ii1S {u'm\\xe2ZE': 1.0} ii2S {u'm\\xe2ZE': 1.0} ii3S {u'm\\xe2ZE': 1.0} ii1P {u'm\\xe2Zj\\xf4': 1.0} ii2P {u'm\\xe2Zje': 1.0} ii3P {u'm\\xe2ZE': 1.0} fi1S {u'm\\xe2Z6rE': 1.0} fi2S {u'm\\xe2Z6ra': 1.0} fi3S {u'm\\xe2Z6ra': 1.0} fi1P {u'm\\xe2Z6r\\xf4': 1.0} fi2P {u'm\\xe2Z6re': 1.0} fi3P {u'm\\xe2Z6r\\xf4': 1.0} pI2S {u'm\\xe2Z': 1.0} pI1P {u'm\\xe2Z\\xf4': 1.0} pI2P {u'm\\xe2Ze': 1.0} ps1S {u'm\\xe2Z': 1.0} ps2S {u'm\\xe2Z': 1.0} ps3S {u'm\\xe2Z': 1.0} ps1P {u'm\\xe2Zj\\xf4': 1.0} ps2P {u'm\\xe2Zje': 1.0} ps3P {u'm\\xe2Z': 1.0} pc1S {u'm\\xe2Z6rE': 1.0} pc2S {u'm\\xe2Z6rE': 1.0} pc3S {u'm\\xe2Z6rE': 1.0} pc1P {u'm\\xe2Z6rj\\xf4': 1.0} pc2P {u'm\\xe2Z6rje': 1.0} pc3P {u'm\\xe2Z6rE': 1.0} pP {u'm\\xe2Z\\xe2': 1.0} ppMS {u'm\\xe2Ze': 1.0} ppMP {u'm\\xe2Ze': 1.0} ppFS {u'm\\xe2Ze': 1.0} ppFP {u'm\\xe2Ze': 1.0} ai1S {u'm\\xe2ZE': 1.0} ai2S {u'm\\xe2Za': 1.0} ai3S {u'm\\xe2Za': 1.0} ai1P {u'm\\xe2Zam': 1.0} ai2P {u'm\\xe2Zat': 1.0} ai3P {u'm\\xe2ZEr': 1.0} is1S {u'm\\xe2Zas': 1.0} is2S {u'm\\xe2Zas': 1.0} is3S {u'm\\xe2Za': 1.0} is1P {u'm\\xe2Zasj\\xf4': 1.0} is2P {u'm\\xe2Zasje': 1.0} is3P {u'm\\xe2Zas': 1.0}\n",
      "\n",
      "pI1P mâZô\n",
      "inf {u'm\\xe2Zr': 0.03445512820512821, u'm\\xe2Zir': 0.015224358974358974, u'm\\xe2Ze': 0.9503205128205128} pi1S {u'm\\xe2Z': 1.0} pi2S {u'm\\xe2Z': 1.0} pi3S {u'm\\xe2Z': 1.0} pi1P {u'm\\xe2Z\\xf4': 1.0} pi2P {u'm\\xe2Ze': 1.0} pi3P {u'm\\xe2Z': 1.0} ii1S {u'm\\xe2ZE': 1.0} ii2S {u'm\\xe2ZE': 1.0} ii3S {u'm\\xe2ZE': 1.0} ii1P {u'm\\xe2Zj\\xf4': 1.0} ii2P {u'm\\xe2Zje': 1.0} ii3P {u'm\\xe2ZE': 1.0} fi1S {u'm\\xe2Z6rE': 0.947872748179379, u'm\\xe2ZirE': 0.011881947106170947, u'm\\xe2ZrE': 0.04024530471444998} fi2S {u'm\\xe2Zra': 0.04024530471444998, u'm\\xe2Z6ra': 0.947872748179379, u'm\\xe2Zira': 0.011881947106170947} fi3S {u'm\\xe2Zra': 0.04024530471444998, u'm\\xe2Z6ra': 0.947872748179379, u'm\\xe2Zira': 0.011881947106170947} fi1P {u'm\\xe2Z6r\\xf4': 0.947872748179379, u'm\\xe2Zir\\xf4': 0.011881947106170947, u'm\\xe2Zr\\xf4': 0.04024530471444998} fi2P {u'm\\xe2Z6re': 0.947872748179379, u'm\\xe2Zire': 0.011881947106170947, u'm\\xe2Zre': 0.04024530471444998} fi3P {u'm\\xe2Z6r\\xf4': 0.947872748179379, u'm\\xe2Zir\\xf4': 0.011881947106170947, u'm\\xe2Zr\\xf4': 0.04024530471444998} pI2S {u'm\\xe2Z': 1.0} pI1P {u'm\\xe2Z\\xf4': 1.0} pI2P {u'm\\xe2Ze': 1.0} ps1S {u'm\\xe2Z': 1.0} ps2S {u'm\\xe2Z': 1.0} ps3S {u'm\\xe2Z': 1.0} ps1P {u'm\\xe2Zj\\xf4': 1.0} ps2P {u'm\\xe2Zje': 1.0} ps3P {u'm\\xe2Z': 1.0} pc1S {u'm\\xe2Z6rE': 0.947872748179379, u'm\\xe2ZirE': 0.011881947106170947, u'm\\xe2ZrE': 0.04024530471444998} pc2S {u'm\\xe2Z6rE': 0.947872748179379, u'm\\xe2ZirE': 0.011881947106170947, u'm\\xe2ZrE': 0.04024530471444998} pc3S {u'm\\xe2Z6rE': 0.947872748179379, u'm\\xe2ZirE': 0.011881947106170947, u'm\\xe2ZrE': 0.04024530471444998} pc1P {u'm\\xe2Z6rj\\xf4': 0.9480137322216773, u'm\\xe2Zri\\xf4': 0.04462972045120157, u'm\\xe2Zirj\\xf4': 0.007356547327121138} pc2P {u'm\\xe2Z6rje': 0.9480137322216773, u'm\\xe2Zirje': 0.007356547327121138, u'm\\xe2Zrie': 0.04462972045120157} pc3P {u'm\\xe2Z6rE': 0.947872748179379, u'm\\xe2ZirE': 0.011881947106170947, u'm\\xe2ZrE': 0.04024530471444998} pP {u'm\\xe2Z\\xe2': 1.0} ppMS {u'm\\xe2Zy': 0.016142050040355124, u'm\\xe2Ze': 0.9838579499596449} ppMP {u'm\\xe2Zy': 0.015682656826568265, u'm\\xe2Ze': 0.9843173431734318} ppFS {u'm\\xe2Zy': 0.015682656826568265, u'm\\xe2Ze': 0.9843173431734318} ppFP {u'm\\xe2Zy': 0.015682656826568265, u'm\\xe2Ze': 0.9843173431734318} ai1S {u'm\\xe2Zi': 0.03622159090909091, u'm\\xe2ZE': 0.9637784090909091} ai2S {u'm\\xe2Za': 0.9637784090909091, u'm\\xe2Zi': 0.03622159090909091} ai3S {u'm\\xe2Za': 0.9637784090909091, u'm\\xe2Zi': 0.03622159090909091} ai1P {u'm\\xe2Zam': 0.9637784090909091, u'm\\xe2Zim': 0.03622159090909091} ai2P {u'm\\xe2Zit': 0.03622159090909091, u'm\\xe2Zat': 0.9637784090909091} ai3P {u'm\\xe2ZEr': 0.9637784090909091, u'm\\xe2Zir': 0.03622159090909091} is1S {u'm\\xe2Zis': 0.04320262972528763, u'm\\xe2Zas': 0.9567973702747123} is2S {u'm\\xe2Zis': 0.04320262972528763, u'm\\xe2Zas': 0.9567973702747123} is3S {u'm\\xe2Za': 0.9567973702747123, u'm\\xe2Zi': 0.04320262972528763} is1P {u'm\\xe2Zasj\\xf4': 0.9567973702747123, u'm\\xe2Zisj\\xf4': 0.04320262972528763} is2P {u'm\\xe2Zasje': 0.9567973702747123, u'm\\xe2Zisje': 0.04320262972528763} is3P {u'm\\xe2Zis': 0.04320262972528763, u'm\\xe2Zas': 0.9567973702747123}\n",
      "\n",
      "pI2P mâZe\n",
      "inf {u'm\\xe2Zr': 0.03445512820512821, u'm\\xe2Zir': 0.015224358974358974, u'm\\xe2Ze': 0.9503205128205128} pi1S {u'm\\xe2Z': 1.0} pi2S {u'm\\xe2Z': 1.0} pi3S {u'm\\xe2Z': 1.0} pi1P {u'm\\xe2Z\\xf4': 1.0} pi2P {u'm\\xe2Ze': 1.0} pi3P {u'm\\xe2Z': 1.0} ii1S {u'm\\xe2ZE': 1.0} ii2S {u'm\\xe2ZE': 1.0} ii3S {u'm\\xe2ZE': 1.0} ii1P {u'm\\xe2Zj\\xf4': 1.0} ii2P {u'm\\xe2Zje': 1.0} ii3P {u'm\\xe2ZE': 1.0} fi1S {u'm\\xe2Z6rE': 0.947872748179379, u'm\\xe2ZirE': 0.011881947106170947, u'm\\xe2ZrE': 0.04024530471444998} fi2S {u'm\\xe2Zra': 0.04024530471444998, u'm\\xe2Z6ra': 0.947872748179379, u'm\\xe2Zira': 0.011881947106170947} fi3S {u'm\\xe2Zra': 0.04024530471444998, u'm\\xe2Z6ra': 0.947872748179379, u'm\\xe2Zira': 0.011881947106170947} fi1P {u'm\\xe2Z6r\\xf4': 0.947872748179379, u'm\\xe2Zir\\xf4': 0.011881947106170947, u'm\\xe2Zr\\xf4': 0.04024530471444998} fi2P {u'm\\xe2Z6re': 0.947872748179379, u'm\\xe2Zire': 0.011881947106170947, u'm\\xe2Zre': 0.04024530471444998} fi3P {u'm\\xe2Z6r\\xf4': 0.947872748179379, u'm\\xe2Zir\\xf4': 0.011881947106170947, u'm\\xe2Zr\\xf4': 0.04024530471444998} pI2S {u'm\\xe2Z': 1.0} pI1P {u'm\\xe2Z\\xf4': 1.0} pI2P {u'm\\xe2Ze': 1.0} ps1S {u'm\\xe2Z': 1.0} ps2S {u'm\\xe2Z': 1.0} ps3S {u'm\\xe2Z': 1.0} ps1P {u'm\\xe2Zj\\xf4': 1.0} ps2P {u'm\\xe2Zje': 1.0} ps3P {u'm\\xe2Z': 1.0} pc1S {u'm\\xe2Z6rE': 0.947872748179379, u'm\\xe2ZirE': 0.011881947106170947, u'm\\xe2ZrE': 0.04024530471444998} pc2S {u'm\\xe2Z6rE': 0.947872748179379, u'm\\xe2ZirE': 0.011881947106170947, u'm\\xe2ZrE': 0.04024530471444998} pc3S {u'm\\xe2Z6rE': 0.947872748179379, u'm\\xe2ZirE': 0.011881947106170947, u'm\\xe2ZrE': 0.04024530471444998} pc1P mâZe pas de classe e-riô, e-6rjô, e-irjô 0.33 par forme de sortie\n",
      "{u'm\\xe2Zri\\xf4': 0.3333333333333333, u'm\\xe2Z6rj\\xf4': 0.3333333333333333, u'm\\xe2Zirj\\xf4': 0.3333333333333333} pc2P {u'm\\xe2Zrie': 0.04462972045120157, u'm\\xe2Zirje': 0.007356547327121138, u'm\\xe2Z6rje': 0.9480137322216773} pc3P {u'm\\xe2Z6rE': 0.947872748179379, u'm\\xe2ZirE': 0.011881947106170947, u'm\\xe2ZrE': 0.04024530471444998} pP {u'm\\xe2Z\\xe2': 1.0} ppMS {u'm\\xe2Zy': 0.016142050040355124, u'm\\xe2Ze': 0.9838579499596449} ppMP {u'm\\xe2Zy': 0.015682656826568265, u'm\\xe2Ze': 0.9843173431734318} ppFS {u'm\\xe2Zy': 0.015682656826568265, u'm\\xe2Ze': 0.9843173431734318} ppFP {u'm\\xe2Zy': 0.015682656826568265, u'm\\xe2Ze': 0.9843173431734318} ai1S {u'm\\xe2Zi': 0.04048394602140531, u'm\\xe2ZE': 0.9595160539785947} ai2S {u'm\\xe2Za': 0.9595160539785947, u'm\\xe2Zi': 0.04048394602140531} ai3S {u'm\\xe2Za': 0.9595160539785947, u'm\\xe2Zi': 0.04048394602140531} ai1P {u'm\\xe2Zam': 0.9595160539785947, u'm\\xe2Zim': 0.04048394602140531} ai2P {u'm\\xe2Zit': 0.04048394602140531, u'm\\xe2Zat': 0.9595160539785947} ai3P {u'm\\xe2ZEr': 0.9595160539785947, u'm\\xe2Zir': 0.04048394602140531} is1S {u'm\\xe2Zis': 0.0425531914893617, u'm\\xe2Zas': 0.9574468085106383} is2S {u'm\\xe2Zis': 0.0425531914893617, u'm\\xe2Zas': 0.9574468085106383} is3S {u'm\\xe2Za': 0.9574468085106383, u'm\\xe2Zi': 0.0425531914893617} is1P {u'm\\xe2Zasj\\xf4': 0.9574468085106383, u'm\\xe2Zisj\\xf4': 0.0425531914893617} is2P {u'm\\xe2Zasje': 0.9574468085106383, u'm\\xe2Zisje': 0.0425531914893617} is3P {u'm\\xe2Zis': 0.0425531914893617, u'm\\xe2Zas': 0.9574468085106383}\n",
      "\n",
      "ps1S mâZ\n",
      "inf {u'm\\xe2Zr': 0.03110353642948445, u'm\\xe2Zir': 0.011077971878994461, u'm\\xe2Ze': 0.9578184916915211} pi1S {u'm\\xe2Z': 1.0} pi2S {u'm\\xe2Z': 1.0} pi3S {u'm\\xe2Z': 1.0} pi1P {u'm\\xe2Z\\xf4': 1.0} pi2P {u'm\\xe2Ze': 1.0} pi3P {u'm\\xe2Z': 1.0} ii1S {u'm\\xe2ZE': 1.0} ii2S {u'm\\xe2ZE': 1.0} ii3S {u'm\\xe2ZE': 1.0} ii1P {u'm\\xe2Zj\\xf4': 1.0} ii2P {u'm\\xe2Zje': 1.0} ii3P {u'm\\xe2ZE': 1.0} fi1S {u'm\\xe2Z6rE': 0.9512009149828441, u'm\\xe2ZirE': 0.01181852840259245, u'm\\xe2ZrE': 0.036980556614563474} fi2S mâZ pas de classe -6ra, -ira, -ra 0.33 par forme de sortie\n",
      "{u'm\\xe2Zra': 0.3333333333333333, u'm\\xe2Z6ra': 0.3333333333333333, u'm\\xe2Zira': 0.3333333333333333} fi3S mâZ pas de classe -6ra, -ira, -ra 0.33 par forme de sortie\n",
      "{u'm\\xe2Zra': 0.3333333333333333, u'm\\xe2Z6ra': 0.3333333333333333, u'm\\xe2Zira': 0.3333333333333333} fi1P {u'm\\xe2Z6r\\xf4': 0.9512009149828441, u'm\\xe2Zir\\xf4': 0.01181852840259245, u'm\\xe2Zr\\xf4': 0.036980556614563474} fi2P {u'm\\xe2Z6re': 0.9512009149828441, u'm\\xe2Zire': 0.01181852840259245, u'm\\xe2Zre': 0.036980556614563474} fi3P {u'm\\xe2Z6r\\xf4': 0.9512009149828441, u'm\\xe2Zir\\xf4': 0.01181852840259245, u'm\\xe2Zr\\xf4': 0.036980556614563474} pI2S {u'm\\xe2Z': 1.0} pI1P {u'm\\xe2Z\\xf4': 1.0} pI2P {u'm\\xe2Ze': 1.0} ps1S {u'm\\xe2Z': 1.0} ps2S {u'm\\xe2Z': 1.0} ps3S {u'm\\xe2Z': 1.0} ps1P {u'm\\xe2Zj\\xf4': 1.0} ps2P {u'm\\xe2Zje': 1.0} ps3P {u'm\\xe2Z': 1.0} pc1S {u'm\\xe2Z6rE': 0.9512009149828441, u'm\\xe2ZirE': 0.01181852840259245, u'm\\xe2ZrE': 0.036980556614563474} pc2S {u'm\\xe2Z6rE': 0.9512009149828441, u'm\\xe2ZirE': 0.01181852840259245, u'm\\xe2ZrE': 0.036980556614563474} pc3S {u'm\\xe2Z6rE': 0.9512009149828441, u'm\\xe2ZirE': 0.01181852840259245, u'm\\xe2ZrE': 0.036980556614563474} pc1P {u'm\\xe2Zri\\xf4': 0.04501770359129995, u'm\\xe2Z6rj\\xf4': 0.947395042994436, u'm\\xe2Zirj\\xf4': 0.007587253414264037} pc2P {u'm\\xe2Zrie': 0.04501770359129995, u'm\\xe2Zirje': 0.007587253414264037, u'm\\xe2Z6rje': 0.947395042994436} pc3P {u'm\\xe2Z6rE': 0.9512009149828441, u'm\\xe2ZirE': 0.01181852840259245, u'm\\xe2ZrE': 0.036980556614563474} pP {u'm\\xe2Z\\xe2': 1.0} ppMS {u'm\\xe2Zy': 0.015991471215351813, u'm\\xe2Ze': 0.9840085287846482} ppMP {u'm\\xe2Zy': 0.015815085158150853, u'm\\xe2Ze': 0.9841849148418491} ppFS {u'm\\xe2Zy': 0.015815085158150853, u'm\\xe2Ze': 0.9841849148418491} ppFP {u'm\\xe2Zy': 0.015815085158150853, u'm\\xe2Ze': 0.9841849148418491} ai1S {u'm\\xe2Zi': 0.04209295527623502, u'm\\xe2ZE': 0.957907044723765} ai2S mâZ pas de classe -i, -a 0.50 par forme de sortie\n",
      "{u'm\\xe2Zi': 0.5, u'm\\xe2Za': 0.5} ai3S mâZ pas de classe -i, -a 0.50 par forme de sortie\n",
      "{u'm\\xe2Zi': 0.5, u'm\\xe2Za': 0.5} ai1P {u'm\\xe2Zam': 0.957907044723765, u'm\\xe2Zim': 0.04209295527623502} ai2P {u'm\\xe2Zit': 0.04209295527623502, u'm\\xe2Zat': 0.957907044723765} ai3P {u'm\\xe2ZEr': 0.957907044723765, u'm\\xe2Zir': 0.04209295527623502} is1S {u'm\\xe2Zis': 0.05063657407407408, u'm\\xe2Zas': 0.9493634259259259} is2S {u'm\\xe2Zis': 0.05063657407407408, u'm\\xe2Zas': 0.9493634259259259} is3S mâZ pas de classe -i, -a 0.50 par forme de sortie\n",
      "{u'm\\xe2Zi': 0.5, u'm\\xe2Za': 0.5} is1P {u'm\\xe2Zasj\\xf4': 0.9493634259259259, u'm\\xe2Zisj\\xf4': 0.05063657407407408} is2P {u'm\\xe2Zasje': 0.9493634259259259, u'm\\xe2Zisje': 0.05063657407407408} is3P {u'm\\xe2Zis': 0.05063657407407408, u'm\\xe2Zas': 0.9493634259259259}\n",
      "\n",
      "ps2S mâZ\n",
      "inf {u'm\\xe2Zr': 0.03110353642948445, u'm\\xe2Zir': 0.011077971878994461, u'm\\xe2Ze': 0.9578184916915211} pi1S {u'm\\xe2Z': 1.0} pi2S {u'm\\xe2Z': 1.0} pi3S {u'm\\xe2Z': 1.0} pi1P {u'm\\xe2Z\\xf4': 1.0} pi2P {u'm\\xe2Ze': 1.0} pi3P {u'm\\xe2Z': 1.0} ii1S {u'm\\xe2ZE': 1.0} ii2S {u'm\\xe2ZE': 1.0} ii3S {u'm\\xe2ZE': 1.0} ii1P {u'm\\xe2Zj\\xf4': 1.0} ii2P {u'm\\xe2Zje': 1.0} ii3P {u'm\\xe2ZE': 1.0} fi1S {u'm\\xe2Z6rE': 0.9512009149828441, u'm\\xe2ZirE': 0.01181852840259245, u'm\\xe2ZrE': 0.036980556614563474} fi2S mâZ pas de classe -6ra, -ira, -ra 0.33 par forme de sortie\n",
      "{u'm\\xe2Zra': 0.3333333333333333, u'm\\xe2Z6ra': 0.3333333333333333, u'm\\xe2Zira': 0.3333333333333333} fi3S mâZ pas de classe -6ra, -ira, -ra 0.33 par forme de sortie\n",
      "{u'm\\xe2Zra': 0.3333333333333333, u'm\\xe2Z6ra': 0.3333333333333333, u'm\\xe2Zira': 0.3333333333333333} fi1P {u'm\\xe2Z6r\\xf4': 0.9512009149828441, u'm\\xe2Zir\\xf4': 0.01181852840259245, u'm\\xe2Zr\\xf4': 0.036980556614563474} fi2P {u'm\\xe2Z6re': 0.9512009149828441, u'm\\xe2Zire': 0.01181852840259245, u'm\\xe2Zre': 0.036980556614563474} fi3P {u'm\\xe2Z6r\\xf4': 0.9512009149828441, u'm\\xe2Zir\\xf4': 0.01181852840259245, u'm\\xe2Zr\\xf4': 0.036980556614563474} pI2S {u'm\\xe2Z': 1.0} pI1P {u'm\\xe2Z\\xf4': 1.0} pI2P {u'm\\xe2Ze': 1.0} ps1S {u'm\\xe2Z': 1.0} ps2S {u'm\\xe2Z': 1.0} ps3S {u'm\\xe2Z': 1.0} ps1P {u'm\\xe2Zj\\xf4': 1.0} ps2P {u'm\\xe2Zje': 1.0} ps3P {u'm\\xe2Z': 1.0} pc1S {u'm\\xe2Z6rE': 0.9512009149828441, u'm\\xe2ZirE': 0.01181852840259245, u'm\\xe2ZrE': 0.036980556614563474} pc2S {u'm\\xe2Z6rE': 0.9512009149828441, u'm\\xe2ZirE': 0.01181852840259245, u'm\\xe2ZrE': 0.036980556614563474} pc3S {u'm\\xe2Z6rE': 0.9512009149828441, u'm\\xe2ZirE': 0.01181852840259245, u'm\\xe2ZrE': 0.036980556614563474} pc1P {u'm\\xe2Zri\\xf4': 0.04501770359129995, u'm\\xe2Z6rj\\xf4': 0.947395042994436, u'm\\xe2Zirj\\xf4': 0.007587253414264037} pc2P {u'm\\xe2Zrie': 0.04501770359129995, u'm\\xe2Zirje': 0.007587253414264037, u'm\\xe2Z6rje': 0.947395042994436} pc3P {u'm\\xe2Z6rE': 0.9512009149828441, u'm\\xe2ZirE': 0.01181852840259245, u'm\\xe2ZrE': 0.036980556614563474} pP {u'm\\xe2Z\\xe2': 1.0} ppMS {u'm\\xe2Zy': 0.015991471215351813, u'm\\xe2Ze': 0.9840085287846482} ppMP {u'm\\xe2Zy': 0.015815085158150853, u'm\\xe2Ze': 0.9841849148418491} ppFS {u'm\\xe2Zy': 0.015815085158150853, u'm\\xe2Ze': 0.9841849148418491} ppFP {u'm\\xe2Zy': 0.015815085158150853, u'm\\xe2Ze': 0.9841849148418491} ai1S {u'm\\xe2Zi': 0.04209295527623502, u'm\\xe2ZE': 0.957907044723765} ai2S mâZ pas de classe -i, -a 0.50 par forme de sortie\n",
      "{u'm\\xe2Zi': 0.5, u'm\\xe2Za': 0.5} ai3S mâZ pas de classe -i, -a 0.50 par forme de sortie\n",
      "{u'm\\xe2Zi': 0.5, u'm\\xe2Za': 0.5} ai1P {u'm\\xe2Zam': 0.957907044723765, u'm\\xe2Zim': 0.04209295527623502} ai2P {u'm\\xe2Zit': 0.04209295527623502, u'm\\xe2Zat': 0.957907044723765} ai3P {u'm\\xe2ZEr': 0.957907044723765, u'm\\xe2Zir': 0.04209295527623502} is1S {u'm\\xe2Zis': 0.05063657407407408, u'm\\xe2Zas': 0.9493634259259259} is2S {u'm\\xe2Zis': 0.05063657407407408, u'm\\xe2Zas': 0.9493634259259259} is3S mâZ pas de classe -i, -a 0.50 par forme de sortie\n",
      "{u'm\\xe2Zi': 0.5, u'm\\xe2Za': 0.5} is1P {u'm\\xe2Zasj\\xf4': 0.9493634259259259, u'm\\xe2Zisj\\xf4': 0.05063657407407408} is2P {u'm\\xe2Zasje': 0.9493634259259259, u'm\\xe2Zisje': 0.05063657407407408} is3P {u'm\\xe2Zis': 0.05063657407407408, u'm\\xe2Zas': 0.9493634259259259}\n",
      "\n",
      "ps3S mâZ\n",
      "inf {u'm\\xe2Zr': 0.03143585386576041, u'm\\xe2Zir': 0.011045029736618521, u'm\\xe2Ze': 0.9575191163976211} pi1S {u'm\\xe2Z': 1.0} pi2S {u'm\\xe2Z': 1.0} pi3S {u'm\\xe2Z': 1.0} pi1P {u'm\\xe2Z\\xf4': 1.0} pi2P {u'm\\xe2Ze': 1.0} pi3P {u'm\\xe2Z': 1.0} ii1S {u'm\\xe2ZE': 1.0} ii2S {u'm\\xe2ZE': 1.0} ii3S {u'm\\xe2ZE': 1.0} ii1P {u'm\\xe2Zj\\xf4': 1.0} ii2P {u'm\\xe2Zje': 1.0} ii3P {u'm\\xe2ZE': 1.0} fi1S {u'm\\xe2Z6rE': 0.9512009149828441, u'm\\xe2ZirE': 0.01181852840259245, u'm\\xe2ZrE': 0.036980556614563474} fi2S mâZ pas de classe -6ra, -ira, -ra 0.33 par forme de sortie\n",
      "{u'm\\xe2Zra': 0.3333333333333333, u'm\\xe2Z6ra': 0.3333333333333333, u'm\\xe2Zira': 0.3333333333333333} fi3S mâZ pas de classe -6ra, -ira, -ra 0.33 par forme de sortie\n",
      "{u'm\\xe2Zra': 0.3333333333333333, u'm\\xe2Z6ra': 0.3333333333333333, u'm\\xe2Zira': 0.3333333333333333} fi1P {u'm\\xe2Z6r\\xf4': 0.9512009149828441, u'm\\xe2Zir\\xf4': 0.01181852840259245, u'm\\xe2Zr\\xf4': 0.036980556614563474} fi2P {u'm\\xe2Z6re': 0.9512009149828441, u'm\\xe2Zire': 0.01181852840259245, u'm\\xe2Zre': 0.036980556614563474} fi3P {u'm\\xe2Z6r\\xf4': 0.9508945565283593, u'm\\xe2Zir\\xf4': 0.011800532927293491, u'm\\xe2Zr\\xf4': 0.03730491054434716} pI2S {u'm\\xe2Z': 1.0} pI1P {u'm\\xe2Z\\xf4': 1.0} pI2P {u'm\\xe2Ze': 1.0} ps1S {u'm\\xe2Z': 1.0} ps2S {u'm\\xe2Z': 1.0} ps3S {u'm\\xe2Z': 1.0} ps1P {u'm\\xe2Zj\\xf4': 1.0} ps2P {u'm\\xe2Zje': 1.0} ps3P {u'm\\xe2Z': 1.0} pc1S {u'm\\xe2Z6rE': 0.9512009149828441, u'm\\xe2ZirE': 0.01181852840259245, u'm\\xe2ZrE': 0.036980556614563474} pc2S {u'm\\xe2Z6rE': 0.9512009149828441, u'm\\xe2ZirE': 0.01181852840259245, u'm\\xe2ZrE': 0.036980556614563474} pc3S {u'm\\xe2Z6rE': 0.9509505703422053, u'm\\xe2ZirE': 0.011787072243346007, u'm\\xe2ZrE': 0.037262357414448666} pc1P {u'm\\xe2Zri\\xf4': 0.04501770359129995, u'm\\xe2Z6rj\\xf4': 0.947395042994436, u'm\\xe2Zirj\\xf4': 0.007587253414264037} pc2P {u'm\\xe2Zrie': 0.04501770359129995, u'm\\xe2Zirje': 0.007587253414264037, u'm\\xe2Z6rje': 0.947395042994436} pc3P {u'm\\xe2Z6rE': 0.9508945565283593, u'm\\xe2ZirE': 0.011800532927293491, u'm\\xe2ZrE': 0.03730491054434716} pP {u'm\\xe2Z\\xe2': 1.0} ppMS {u'm\\xe2Zy': 0.015957446808510637, u'm\\xe2Ze': 0.9840425531914894} ppMP {u'm\\xe2Zy': 0.015815085158150853, u'm\\xe2Ze': 0.9841849148418491} ppFS {u'm\\xe2Zy': 0.015815085158150853, u'm\\xe2Ze': 0.9841849148418491} ppFP {u'm\\xe2Zy': 0.015815085158150853, u'm\\xe2Ze': 0.9841849148418491} ai1S {u'm\\xe2Zi': 0.04209295527623502, u'm\\xe2ZE': 0.957907044723765} ai2S mâZ pas de classe -i, -a 0.50 par forme de sortie\n",
      "{u'm\\xe2Zi': 0.5, u'm\\xe2Za': 0.5} ai3S mâZ pas de classe -i, -a 0.50 par forme de sortie\n",
      "{u'm\\xe2Zi': 0.5, u'm\\xe2Za': 0.5} ai1P {u'm\\xe2Zam': 0.957907044723765, u'm\\xe2Zim': 0.04209295527623502} ai2P {u'm\\xe2Zit': 0.04209295527623502, u'm\\xe2Zat': 0.957907044723765} ai3P {u'm\\xe2ZEr': 0.9577382687263188, u'm\\xe2Zir': 0.042261731273681144} is1S {u'm\\xe2Zis': 0.05063657407407408, u'm\\xe2Zas': 0.9493634259259259} is2S {u'm\\xe2Zis': 0.05063657407407408, u'm\\xe2Zas': 0.9493634259259259} is3S mâZ pas de classe -i, -a 0.50 par forme de sortie\n",
      "{u'm\\xe2Zi': 0.5, u'm\\xe2Za': 0.5} is1P {u'm\\xe2Zasj\\xf4': 0.9493634259259259, u'm\\xe2Zisj\\xf4': 0.05063657407407408} is2P {u'm\\xe2Zasje': 0.9493634259259259, u'm\\xe2Zisje': 0.05063657407407408} is3P {u'm\\xe2Zis': 0.050778995960761686, u'm\\xe2Zas': 0.9492210040392384}\n",
      "\n",
      "ps1P mâZjô\n",
      "inf mâZjô pas de classe jô-r, jô-e 0.50 par forme de sortie\n",
      "{u'm\\xe2Zr': 0.5, u'm\\xe2Ze': 0.5} pi1S {u'm\\xe2Z': 1.0} pi2S {u'm\\xe2Z': 1.0} pi3S {u'm\\xe2Z': 1.0} pi1P {u'm\\xe2Z\\xf4': 1.0} pi2P {u'm\\xe2Ze': 1.0} pi3P {u'm\\xe2Z': 1.0} ii1S {u'm\\xe2ZE': 1.0} ii2S {u'm\\xe2ZE': 1.0} ii3S {u'm\\xe2ZE': 1.0} ii1P {u'm\\xe2Zj\\xf4': 1.0} ii2P {u'm\\xe2Zje': 1.0} ii3P {u'm\\xe2ZE': 1.0} fi1S {u'm\\xe2Z6rE': 0.9870324189526185, u'm\\xe2ZrE': 0.012967581047381545} fi2S {u'm\\xe2Zra': 0.012967581047381545, u'm\\xe2Z6ra': 0.9870324189526185} fi3S {u'm\\xe2Zra': 0.012967581047381545, u'm\\xe2Z6ra': 0.9870324189526185} fi1P {u'm\\xe2Z6r\\xf4': 0.9870324189526185, u'm\\xe2Zr\\xf4': 0.012967581047381545} fi2P {u'm\\xe2Z6re': 0.9870324189526185, u'm\\xe2Zre': 0.012967581047381545} fi3P {u'm\\xe2Z6r\\xf4': 0.9870324189526185, u'm\\xe2Zr\\xf4': 0.012967581047381545} pI2S {u'm\\xe2Z': 1.0} pI1P {u'm\\xe2Z\\xf4': 1.0} pI2P {u'm\\xe2Ze': 1.0} ps1S {u'm\\xe2Z': 1.0} ps2S {u'm\\xe2Z': 1.0} ps3S {u'm\\xe2Z': 1.0} ps1P {u'm\\xe2Zj\\xf4': 1.0} ps2P {u'm\\xe2Zje': 1.0} ps3P {u'm\\xe2Z': 1.0} pc1S {u'm\\xe2Z6rE': 0.9870324189526185, u'm\\xe2ZrE': 0.012967581047381545} pc2S {u'm\\xe2Z6rE': 0.9870324189526185, u'm\\xe2ZrE': 0.012967581047381545} pc3S {u'm\\xe2Z6rE': 0.9870324189526185, u'm\\xe2ZrE': 0.012967581047381545} pc1P {u'm\\xe2Zri\\xf4': 0.01772324471710975, u'm\\xe2Z6rj\\xf4': 0.9822767552828903} pc2P {u'm\\xe2Zrie': 0.01772324471710975, u'm\\xe2Z6rje': 0.9822767552828903} pc3P {u'm\\xe2Z6rE': 0.9870324189526185, u'm\\xe2ZrE': 0.012967581047381545} pP {u'm\\xe2Z\\xe2': 1.0} ppMS mâZjô pas de classe jô-e, jô-y 0.50 par forme de sortie\n",
      "{u'm\\xe2Zy': 0.5, u'm\\xe2Ze': 0.5} ppMP mâZjô pas de classe jô-e, jô-y 0.50 par forme de sortie\n",
      "{u'm\\xe2Zy': 0.5, u'm\\xe2Ze': 0.5} ppFS mâZjô pas de classe jô-e, jô-y 0.50 par forme de sortie\n",
      "{u'm\\xe2Zy': 0.5, u'm\\xe2Ze': 0.5} ppFP mâZjô pas de classe jô-e, jô-y 0.50 par forme de sortie\n",
      "{u'm\\xe2Zy': 0.5, u'm\\xe2Ze': 0.5} ai1S {u'm\\xe2Zi': 0.034640522875816995, u'm\\xe2ZE': 0.965359477124183} ai2S {u'm\\xe2Za': 0.965359477124183, u'm\\xe2Zi': 0.034640522875816995} ai3S {u'm\\xe2Za': 0.965359477124183, u'm\\xe2Zi': 0.034640522875816995} ai1P {u'm\\xe2Zam': 0.965359477124183, u'm\\xe2Zim': 0.034640522875816995} ai2P {u'm\\xe2Zit': 0.034640522875816995, u'm\\xe2Zat': 0.965359477124183} ai3P {u'm\\xe2ZEr': 0.965359477124183, u'm\\xe2Zir': 0.034640522875816995} is1S {u'm\\xe2Zis': 0.04426494345718902, u'm\\xe2Zas': 0.955735056542811} is2S {u'm\\xe2Zis': 0.04426494345718902, u'm\\xe2Zas': 0.955735056542811} is3S {u'm\\xe2Za': 0.955735056542811, u'm\\xe2Zi': 0.04426494345718902} is1P {u'm\\xe2Zasj\\xf4': 0.955735056542811, u'm\\xe2Zisj\\xf4': 0.04426494345718902} is2P {u'm\\xe2Zasje': 0.955735056542811, u'm\\xe2Zisje': 0.04426494345718902} is3P {u'm\\xe2Zis': 0.04426494345718902, u'm\\xe2Zas': 0.955735056542811}\n",
      "\n",
      "ps2P mâZje\n",
      "inf {u'm\\xe2Zr': 0.0023094688221709007, u'm\\xe2Ze': 0.9976905311778291} pi1S {u'm\\xe2Z': 1.0} pi2S {u'm\\xe2Z': 1.0} pi3S {u'm\\xe2Z': 1.0} pi1P {u'm\\xe2Z\\xf4': 1.0} pi2P {u'm\\xe2Ze': 1.0} pi3P {u'm\\xe2Z': 1.0} ii1S {u'm\\xe2ZE': 1.0} ii2S {u'm\\xe2ZE': 1.0} ii3S {u'm\\xe2ZE': 1.0} ii1P {u'm\\xe2Zj\\xf4': 1.0} ii2P {u'm\\xe2Zje': 1.0} ii3P {u'm\\xe2ZE': 1.0} fi1S mâZje pas de classe je-6rE, je-rE 0.50 par forme de sortie\n",
      "{u'm\\xe2Z6rE': 0.5, u'm\\xe2ZrE': 0.5} fi2S {u'm\\xe2Zra': 0.012967581047381545, u'm\\xe2Z6ra': 0.9870324189526185} fi3S {u'm\\xe2Zra': 0.012967581047381545, u'm\\xe2Z6ra': 0.9870324189526185} fi1P {u'm\\xe2Z6r\\xf4': 0.9870324189526185, u'm\\xe2Zr\\xf4': 0.012967581047381545} fi2P {u'm\\xe2Z6re': 0.9870324189526185, u'm\\xe2Zre': 0.012967581047381545} fi3P {u'm\\xe2Z6r\\xf4': 0.9870324189526185, u'm\\xe2Zr\\xf4': 0.012967581047381545} pI2S {u'm\\xe2Z': 1.0} pI1P {u'm\\xe2Z\\xf4': 1.0} pI2P {u'm\\xe2Ze': 1.0} ps1S {u'm\\xe2Z': 1.0} ps2S {u'm\\xe2Z': 1.0} ps3S {u'm\\xe2Z': 1.0} ps1P {u'm\\xe2Zj\\xf4': 1.0} ps2P {u'm\\xe2Zje': 1.0} ps3P {u'm\\xe2Z': 1.0} pc1S mâZje pas de classe je-6rE, je-rE 0.50 par forme de sortie\n",
      "{u'm\\xe2Z6rE': 0.5, u'm\\xe2ZrE': 0.5} pc2S mâZje pas de classe je-6rE, je-rE 0.50 par forme de sortie\n",
      "{u'm\\xe2Z6rE': 0.5, u'm\\xe2ZrE': 0.5} pc3S mâZje pas de classe je-6rE, je-rE 0.50 par forme de sortie\n",
      "{u'm\\xe2Z6rE': 0.5, u'm\\xe2ZrE': 0.5} pc1P {u'm\\xe2Z6rj\\xf4': 0.9822767552828903, u'm\\xe2Zri\\xf4': 0.01772324471710975} pc2P {u'm\\xe2Z6rje': 0.9822767552828903, u'm\\xe2Zrie': 0.01772324471710975} pc3P mâZje pas de classe je-6rE, je-rE 0.50 par forme de sortie\n",
      "{u'm\\xe2Z6rE': 0.5, u'm\\xe2ZrE': 0.5} pP {u'm\\xe2Z\\xe2': 1.0} ppMS {u'm\\xe2Zy': 0.018433179723502304, u'm\\xe2Ze': 0.9815668202764977} ppMP {u'm\\xe2Zy': 0.01967435549525102, u'm\\xe2Ze': 0.980325644504749} ppFS {u'm\\xe2Zy': 0.019876627827278958, u'm\\xe2Ze': 0.980123372172721} ppFP {u'm\\xe2Zy': 0.019876627827278958, u'm\\xe2Ze': 0.980123372172721} ai1S {u'm\\xe2Zi': 0.034640522875816995, u'm\\xe2ZE': 0.965359477124183} ai2S {u'm\\xe2Za': 0.965359477124183, u'm\\xe2Zi': 0.034640522875816995} ai3S {u'm\\xe2Za': 0.965359477124183, u'm\\xe2Zi': 0.034640522875816995} ai1P {u'm\\xe2Zam': 0.965359477124183, u'm\\xe2Zim': 0.034640522875816995} ai2P {u'm\\xe2Zit': 0.034640522875816995, u'm\\xe2Zat': 0.965359477124183} ai3P {u'm\\xe2ZEr': 0.965359477124183, u'm\\xe2Zir': 0.034640522875816995} is1S {u'm\\xe2Zis': 0.04426494345718902, u'm\\xe2Zas': 0.955735056542811} is2S {u'm\\xe2Zis': 0.04426494345718902, u'm\\xe2Zas': 0.955735056542811} is3S {u'm\\xe2Za': 0.955735056542811, u'm\\xe2Zi': 0.04426494345718902} is1P {u'm\\xe2Zasj\\xf4': 0.955735056542811, u'm\\xe2Zisj\\xf4': 0.04426494345718902} is2P {u'm\\xe2Zasje': 0.955735056542811, u'm\\xe2Zisje': 0.04426494345718902} is3P {u'm\\xe2Zis': 0.04426494345718902, u'm\\xe2Zas': 0.955735056542811}\n",
      "\n",
      "ps3P mâZ\n",
      "inf {u'm\\xe2Zr': 0.031475967673330496, u'm\\xe2Zir': 0.01105912377711612, u'm\\xe2Ze': 0.9574649085495534} pi1S {u'm\\xe2Z': 1.0} pi2S {u'm\\xe2Z': 1.0} pi3S {u'm\\xe2Z': 1.0} pi1P {u'm\\xe2Z\\xf4': 1.0} pi2P {u'm\\xe2Ze': 1.0} pi3P {u'm\\xe2Z': 1.0} ii1S {u'm\\xe2ZE': 1.0} ii2S {u'm\\xe2ZE': 1.0} ii3S {u'm\\xe2ZE': 1.0} ii1P {u'm\\xe2Zj\\xf4': 1.0} ii2P {u'm\\xe2Zje': 1.0} ii3P {u'm\\xe2ZE': 1.0} fi1S {u'm\\xe2Z6rE': 0.9512009149828441, u'm\\xe2ZirE': 0.01181852840259245, u'm\\xe2ZrE': 0.036980556614563474} fi2S mâZ pas de classe -6ra, -ira, -ra 0.33 par forme de sortie\n",
      "{u'm\\xe2Zra': 0.3333333333333333, u'm\\xe2Z6ra': 0.3333333333333333, u'm\\xe2Zira': 0.3333333333333333} fi3S mâZ pas de classe -6ra, -ira, -ra 0.33 par forme de sortie\n",
      "{u'm\\xe2Zra': 0.3333333333333333, u'm\\xe2Z6ra': 0.3333333333333333, u'm\\xe2Zira': 0.3333333333333333} fi1P {u'm\\xe2Z6r\\xf4': 0.9512009149828441, u'm\\xe2Zir\\xf4': 0.01181852840259245, u'm\\xe2Zr\\xf4': 0.036980556614563474} fi2P {u'm\\xe2Z6re': 0.9512009149828441, u'm\\xe2Zire': 0.01181852840259245, u'm\\xe2Zre': 0.036980556614563474} fi3P {u'm\\xe2Z6r\\xf4': 0.9508945565283593, u'm\\xe2Zir\\xf4': 0.011800532927293491, u'm\\xe2Zr\\xf4': 0.03730491054434716} pI2S {u'm\\xe2Z': 1.0} pI1P {u'm\\xe2Z\\xf4': 1.0} pI2P {u'm\\xe2Ze': 1.0} ps1S {u'm\\xe2Z': 1.0} ps2S {u'm\\xe2Z': 1.0} ps3S {u'm\\xe2Z': 1.0} ps1P {u'm\\xe2Zj\\xf4': 1.0} ps2P {u'm\\xe2Zje': 1.0} ps3P {u'm\\xe2Z': 1.0} pc1S {u'm\\xe2Z6rE': 0.9512009149828441, u'm\\xe2ZirE': 0.01181852840259245, u'm\\xe2ZrE': 0.036980556614563474} pc2S {u'm\\xe2Z6rE': 0.9512009149828441, u'm\\xe2ZirE': 0.01181852840259245, u'm\\xe2ZrE': 0.036980556614563474} pc3S {u'm\\xe2Z6rE': 0.9508945565283593, u'm\\xe2ZirE': 0.011800532927293491, u'm\\xe2ZrE': 0.03730491054434716} pc1P {u'm\\xe2Zri\\xf4': 0.04501770359129995, u'm\\xe2Z6rj\\xf4': 0.947395042994436, u'm\\xe2Zirj\\xf4': 0.007587253414264037} pc2P {u'm\\xe2Zrie': 0.04501770359129995, u'm\\xe2Zirje': 0.007587253414264037, u'm\\xe2Z6rje': 0.947395042994436} pc3P {u'm\\xe2Z6rE': 0.9508945565283593, u'm\\xe2ZirE': 0.011800532927293491, u'm\\xe2ZrE': 0.03730491054434716} pP {u'm\\xe2Z\\xe2': 1.0} ppMS {u'm\\xe2Zy': 0.015991471215351813, u'm\\xe2Ze': 0.9840085287846482} ppMP {u'm\\xe2Zy': 0.015815085158150853, u'm\\xe2Ze': 0.9841849148418491} ppFS {u'm\\xe2Zy': 0.015815085158150853, u'm\\xe2Ze': 0.9841849148418491} ppFP {u'm\\xe2Zy': 0.015815085158150853, u'm\\xe2Ze': 0.9841849148418491} ai1S {u'm\\xe2Zi': 0.04209295527623502, u'm\\xe2ZE': 0.957907044723765} ai2S mâZ pas de classe -i, -a 0.50 par forme de sortie\n",
      "{u'm\\xe2Zi': 0.5, u'm\\xe2Za': 0.5} ai3S mâZ pas de classe -i, -a 0.50 par forme de sortie\n",
      "{u'm\\xe2Zi': 0.5, u'm\\xe2Za': 0.5} ai1P {u'm\\xe2Zam': 0.957907044723765, u'm\\xe2Zim': 0.04209295527623502} ai2P {u'm\\xe2Zit': 0.04209295527623502, u'm\\xe2Zat': 0.957907044723765} ai3P {u'm\\xe2ZEr': 0.9577382687263188, u'm\\xe2Zir': 0.042261731273681144} is1S {u'm\\xe2Zis': 0.05063657407407408, u'm\\xe2Zas': 0.9493634259259259} is2S {u'm\\xe2Zis': 0.05063657407407408, u'm\\xe2Zas': 0.9493634259259259} is3S mâZ pas de classe -i, -a 0.50 par forme de sortie\n",
      "{u'm\\xe2Zi': 0.5, u'm\\xe2Za': 0.5} is1P {u'm\\xe2Zasj\\xf4': 0.9493634259259259, u'm\\xe2Zisj\\xf4': 0.05063657407407408} is2P {u'm\\xe2Zasje': 0.9493634259259259, u'm\\xe2Zisje': 0.05063657407407408} is3P {u'm\\xe2Zis': 0.050778995960761686, u'm\\xe2Zas': 0.9492210040392384}\n",
      "\n",
      "pc1S mâZ6rE\n",
      "inf mâZ6rE pas de classe E-, rE-e, 6rE-e 0.33 par forme de sortie\n",
      "{u'm\\xe2Z6e': 0.3333333333333333, u'm\\xe2Z6r': 0.3333333333333333, u'm\\xe2Ze': 0.3333333333333333} pi1S {u'm\\xe2Z': 1.0} pi2S {u'm\\xe2Z': 1.0} pi3S {u'm\\xe2Z': 1.0} pi1P {u'm\\xe2Z\\xf4': 1.0} pi2P {u'm\\xe2Ze': 1.0} pi3P mâZ6rE pas de classe rE-, 6rE- 0.50 par forme de sortie\n",
      "{u'm\\xe2Z6': 0.5, u'm\\xe2Z': 0.5} ii1S {u'm\\xe2ZE': 1.0} ii2S {u'm\\xe2ZE': 1.0} ii3S {u'm\\xe2ZE': 1.0} ii1P {u'm\\xe2Zj\\xf4': 1.0} ii2P {u'm\\xe2Zje': 1.0} ii3P {u'm\\xe2ZE': 1.0} fi1S {u'm\\xe2Z6rE': 1.0} fi2S {u'm\\xe2Z6ra': 1.0} fi3S {u'm\\xe2Z6ra': 1.0} fi1P {u'm\\xe2Z6r\\xf4': 1.0} fi2P {u'm\\xe2Z6re': 1.0} fi3P {u'm\\xe2Z6r\\xf4': 1.0} pI2S {u'm\\xe2Z': 1.0} pI1P {u'm\\xe2Z\\xf4': 1.0} pI2P {u'm\\xe2Ze': 1.0} ps1S mâZ6rE pas de classe rE-, 6rE- 0.50 par forme de sortie\n",
      "{u'm\\xe2Z6': 0.5, u'm\\xe2Z': 0.5} ps2S mâZ6rE pas de classe rE-, 6rE- 0.50 par forme de sortie\n",
      "{u'm\\xe2Z6': 0.5, u'm\\xe2Z': 0.5} ps3S mâZ6rE pas de classe rE-, 6rE- 0.50 par forme de sortie\n",
      "{u'm\\xe2Z6': 0.5, u'm\\xe2Z': 0.5} ps1P {u'm\\xe2Zj\\xf4': 1.0} ps2P {u'm\\xe2Zje': 1.0} ps3P mâZ6rE pas de classe rE-, 6rE- 0.50 par forme de sortie\n",
      "{u'm\\xe2Z6': 0.5, u'm\\xe2Z': 0.5} pc1S {u'm\\xe2Z6rE': 1.0} pc2S {u'm\\xe2Z6rE': 1.0} pc3S {u'm\\xe2Z6rE': 1.0} pc1P {u'm\\xe2Z6rj\\xf4': 1.0} pc2P {u'm\\xe2Z6rje': 1.0} pc3P {u'm\\xe2Z6rE': 1.0} pP {u'm\\xe2Z\\xe2': 1.0} ppMS {u'm\\xe2Ze': 1.0} ppMP {u'm\\xe2Ze': 1.0} ppFS {u'm\\xe2Ze': 1.0} ppFP {u'm\\xe2Ze': 1.0} ai1S {u'm\\xe2ZE': 1.0} ai2S {u'm\\xe2Za': 1.0} ai3S {u'm\\xe2Za': 1.0} ai1P {u'm\\xe2Zam': 1.0} ai2P {u'm\\xe2Zat': 1.0} ai3P {u'm\\xe2ZEr': 1.0} is1S {u'm\\xe2Zas': 1.0} is2S {u'm\\xe2Zas': 1.0} is3S {u'm\\xe2Za': 1.0} is1P {u'm\\xe2Zasj\\xf4': 1.0} is2P {u'm\\xe2Zasje': 1.0} is3P {u'm\\xe2Zas': 1.0}\n",
      "\n",
      "pc2S mâZ6rE\n",
      "inf mâZ6rE pas de classe E-, rE-e, 6rE-e 0.33 par forme de sortie\n",
      "{u'm\\xe2Z6e': 0.3333333333333333, u'm\\xe2Z6r': 0.3333333333333333, u'm\\xe2Ze': 0.3333333333333333} pi1S {u'm\\xe2Z': 1.0} pi2S {u'm\\xe2Z': 1.0} pi3S {u'm\\xe2Z': 1.0} pi1P {u'm\\xe2Z\\xf4': 1.0} pi2P {u'm\\xe2Ze': 1.0} pi3P mâZ6rE pas de classe rE-, 6rE- 0.50 par forme de sortie\n",
      "{u'm\\xe2Z6': 0.5, u'm\\xe2Z': 0.5} ii1S {u'm\\xe2ZE': 1.0} ii2S {u'm\\xe2ZE': 1.0} ii3S {u'm\\xe2ZE': 1.0} ii1P {u'm\\xe2Zj\\xf4': 1.0} ii2P {u'm\\xe2Zje': 1.0} ii3P {u'm\\xe2ZE': 1.0} fi1S {u'm\\xe2Z6rE': 1.0} fi2S {u'm\\xe2Z6ra': 1.0} fi3S {u'm\\xe2Z6ra': 1.0} fi1P {u'm\\xe2Z6r\\xf4': 1.0} fi2P {u'm\\xe2Z6re': 1.0} fi3P {u'm\\xe2Z6r\\xf4': 1.0} pI2S {u'm\\xe2Z': 1.0} pI1P {u'm\\xe2Z\\xf4': 1.0} pI2P {u'm\\xe2Ze': 1.0} ps1S mâZ6rE pas de classe rE-, 6rE- 0.50 par forme de sortie\n",
      "{u'm\\xe2Z6': 0.5, u'm\\xe2Z': 0.5} ps2S mâZ6rE pas de classe rE-, 6rE- 0.50 par forme de sortie\n",
      "{u'm\\xe2Z6': 0.5, u'm\\xe2Z': 0.5} ps3S mâZ6rE pas de classe rE-, 6rE- 0.50 par forme de sortie\n",
      "{u'm\\xe2Z6': 0.5, u'm\\xe2Z': 0.5} ps1P {u'm\\xe2Zj\\xf4': 1.0} ps2P {u'm\\xe2Zje': 1.0} ps3P mâZ6rE pas de classe rE-, 6rE- 0.50 par forme de sortie\n",
      "{u'm\\xe2Z6': 0.5, u'm\\xe2Z': 0.5} pc1S {u'm\\xe2Z6rE': 1.0} pc2S {u'm\\xe2Z6rE': 1.0} pc3S {u'm\\xe2Z6rE': 1.0} pc1P {u'm\\xe2Z6rj\\xf4': 1.0} pc2P {u'm\\xe2Z6rje': 1.0} pc3P {u'm\\xe2Z6rE': 1.0} pP {u'm\\xe2Z\\xe2': 1.0} ppMS {u'm\\xe2Ze': 1.0} ppMP {u'm\\xe2Ze': 1.0} ppFS {u'm\\xe2Ze': 1.0} ppFP {u'm\\xe2Ze': 1.0} ai1S {u'm\\xe2ZE': 1.0} ai2S {u'm\\xe2Za': 1.0} ai3S {u'm\\xe2Za': 1.0} ai1P {u'm\\xe2Zam': 1.0} ai2P {u'm\\xe2Zat': 1.0} ai3P {u'm\\xe2ZEr': 1.0} is1S {u'm\\xe2Zas': 1.0} is2S {u'm\\xe2Zas': 1.0} is3S {u'm\\xe2Za': 1.0} is1P {u'm\\xe2Zasj\\xf4': 1.0} is2P {u'm\\xe2Zasje': 1.0} is3P {u'm\\xe2Zas': 1.0}\n",
      "\n",
      "pc3S mâZ6rE\n",
      "inf mâZ6rE pas de classe E-, rE-e, 6rE-e 0.33 par forme de sortie\n",
      "{u'm\\xe2Z6e': 0.3333333333333333, u'm\\xe2Z6r': 0.3333333333333333, u'm\\xe2Ze': 0.3333333333333333} pi1S {u'm\\xe2Z': 1.0} pi2S {u'm\\xe2Z': 1.0} pi3S {u'm\\xe2Z': 1.0} pi1P {u'm\\xe2Z\\xf4': 1.0} pi2P {u'm\\xe2Ze': 1.0} pi3P mâZ6rE pas de classe rE-, 6rE- 0.50 par forme de sortie\n",
      "{u'm\\xe2Z6': 0.5, u'm\\xe2Z': 0.5} ii1S {u'm\\xe2ZE': 1.0} ii2S {u'm\\xe2ZE': 1.0} ii3S {u'm\\xe2ZE': 1.0} ii1P {u'm\\xe2Zj\\xf4': 1.0} ii2P {u'm\\xe2Zje': 1.0} ii3P {u'm\\xe2ZE': 1.0} fi1S {u'm\\xe2Z6rE': 1.0} fi2S {u'm\\xe2Z6ra': 1.0} fi3S {u'm\\xe2Z6ra': 1.0} fi1P {u'm\\xe2Z6r\\xf4': 1.0} fi2P {u'm\\xe2Z6re': 1.0} fi3P {u'm\\xe2Z6r\\xf4': 1.0} pI2S {u'm\\xe2Z': 1.0} pI1P {u'm\\xe2Z\\xf4': 1.0} pI2P {u'm\\xe2Ze': 1.0} ps1S mâZ6rE pas de classe rE-, 6rE- 0.50 par forme de sortie\n",
      "{u'm\\xe2Z6': 0.5, u'm\\xe2Z': 0.5} ps2S mâZ6rE pas de classe rE-, 6rE- 0.50 par forme de sortie\n",
      "{u'm\\xe2Z6': 0.5, u'm\\xe2Z': 0.5} ps3S mâZ6rE pas de classe rE-, 6rE- 0.50 par forme de sortie\n",
      "{u'm\\xe2Z6': 0.5, u'm\\xe2Z': 0.5} ps1P {u'm\\xe2Zj\\xf4': 1.0} ps2P {u'm\\xe2Zje': 1.0} ps3P mâZ6rE pas de classe rE-, 6rE- 0.50 par forme de sortie\n",
      "{u'm\\xe2Z6': 0.5, u'm\\xe2Z': 0.5} pc1S {u'm\\xe2Z6rE': 1.0} pc2S {u'm\\xe2Z6rE': 1.0} pc3S {u'm\\xe2Z6rE': 1.0} pc1P {u'm\\xe2Z6rj\\xf4': 1.0} pc2P {u'm\\xe2Z6rje': 1.0} pc3P {u'm\\xe2Z6rE': 1.0} pP {u'm\\xe2Z\\xe2': 1.0} ppMS {u'm\\xe2Ze': 1.0} ppMP {u'm\\xe2Ze': 1.0} ppFS {u'm\\xe2Ze': 1.0} ppFP {u'm\\xe2Ze': 1.0} ai1S {u'm\\xe2ZE': 1.0} ai2S {u'm\\xe2Za': 1.0} ai3S {u'm\\xe2Za': 1.0} ai1P {u'm\\xe2Zam': 1.0} ai2P {u'm\\xe2Zat': 1.0} ai3P {u'm\\xe2ZEr': 1.0} is1S {u'm\\xe2Zas': 1.0} is2S {u'm\\xe2Zas': 1.0} is3S {u'm\\xe2Za': 1.0} is1P {u'm\\xe2Zasj\\xf4': 1.0} is2P {u'm\\xe2Zasje': 1.0} is3P {u'm\\xe2Zas': 1.0}\n",
      "\n",
      "pc1P mâZ6rjô\n",
      "inf {u'm\\xe2Ze': 1.0} pi1S {u'm\\xe2Z': 1.0} pi2S {u'm\\xe2Z': 1.0} pi3S {u'm\\xe2Z': 1.0} pi1P {u'm\\xe2Z\\xf4': 1.0} pi2P {u'm\\xe2Ze': 1.0} pi3P {u'm\\xe2Z': 1.0} ii1S {u'm\\xe2ZE': 1.0} ii2S {u'm\\xe2ZE': 1.0} ii3S {u'm\\xe2ZE': 1.0} ii1P mâZ6rjô pas de classe rjô-jô, 6rjô-jô 0.50 par forme de sortie\n",
      "{u'm\\xe2Z6j\\xf4': 0.5, u'm\\xe2Zj\\xf4': 0.5} ii2P {u'm\\xe2Zje': 1.0} ii3P {u'm\\xe2ZE': 1.0} fi1S {u'm\\xe2Z6rE': 1.0} fi2S {u'm\\xe2Z6ra': 1.0} fi3S {u'm\\xe2Z6ra': 1.0} fi1P {u'm\\xe2Z6r\\xf4': 1.0} fi2P {u'm\\xe2Z6re': 1.0} fi3P {u'm\\xe2Z6r\\xf4': 1.0} pI2S {u'm\\xe2Z': 1.0} pI1P mâZ6rjô pas de classe 6rjô-ô, rjô-ô 0.50 par forme de sortie\n",
      "{u'm\\xe2Z6\\xf4': 0.5, u'm\\xe2Z\\xf4': 0.5} pI2P {u'm\\xe2Ze': 1.0} ps1S {u'm\\xe2Z': 1.0} ps2S {u'm\\xe2Z': 1.0} ps3S {u'm\\xe2Z': 1.0} ps1P mâZ6rjô pas de classe rjô-jô, 6rjô-jô 0.50 par forme de sortie\n",
      "{u'm\\xe2Z6j\\xf4': 0.5, u'm\\xe2Zj\\xf4': 0.5} ps2P {u'm\\xe2Zje': 1.0} ps3P {u'm\\xe2Z': 1.0} pc1S {u'm\\xe2Z6rE': 1.0} pc2S {u'm\\xe2Z6rE': 1.0} pc3S {u'm\\xe2Z6rE': 1.0} pc1P {u'm\\xe2Z6rj\\xf4': 1.0} pc2P {u'm\\xe2Z6rje': 1.0} pc3P {u'm\\xe2Z6rE': 1.0} pP {u'm\\xe2Z\\xe2': 1.0} ppMS {u'm\\xe2Ze': 1.0} ppMP {u'm\\xe2Ze': 1.0} ppFS {u'm\\xe2Ze': 1.0} ppFP {u'm\\xe2Ze': 1.0} ai1S {u'm\\xe2ZE': 1.0} ai2S {u'm\\xe2Za': 1.0} ai3S {u'm\\xe2Za': 1.0} ai1P {u'm\\xe2Zam': 1.0} ai2P {u'm\\xe2Zat': 1.0} ai3P {u'm\\xe2ZEr': 1.0} is1S {u'm\\xe2Zas': 1.0} is2S {u'm\\xe2Zas': 1.0} is3S {u'm\\xe2Za': 1.0} is1P {u'm\\xe2Zasj\\xf4': 1.0} is2P {u'm\\xe2Zasje': 1.0} is3P {u'm\\xe2Zas': 1.0}\n",
      "\n",
      "pc2P mâZ6rje\n",
      "inf {u'm\\xe2Ze': 1.0} pi1S {u'm\\xe2Z': 1.0} pi2S {u'm\\xe2Z': 1.0} pi3S {u'm\\xe2Z': 1.0} pi1P {u'm\\xe2Z\\xf4': 1.0} pi2P {u'm\\xe2Ze': 1.0} pi3P {u'm\\xe2Z': 1.0} ii1S {u'm\\xe2ZE': 1.0} ii2S {u'm\\xe2ZE': 1.0} ii3S {u'm\\xe2ZE': 1.0} ii1P {u'm\\xe2Zj\\xf4': 1.0} ii2P {u'm\\xe2Zje': 1.0} ii3P {u'm\\xe2ZE': 1.0} fi1S {u'm\\xe2Z6rE': 1.0} fi2S {u'm\\xe2Z6ra': 1.0} fi3S {u'm\\xe2Z6ra': 1.0} fi1P {u'm\\xe2Z6r\\xf4': 1.0} fi2P {u'm\\xe2Z6re': 1.0} fi3P {u'm\\xe2Z6r\\xf4': 1.0} pI2S {u'm\\xe2Z': 1.0} pI1P {u'm\\xe2Z\\xf4': 1.0} pI2P {u'm\\xe2Ze': 1.0} ps1S {u'm\\xe2Z': 1.0} ps2S {u'm\\xe2Z': 1.0} ps3S {u'm\\xe2Z': 1.0} ps1P {u'm\\xe2Zj\\xf4': 1.0} ps2P {u'm\\xe2Zje': 1.0} ps3P {u'm\\xe2Z': 1.0} pc1S {u'm\\xe2Z6rE': 1.0} pc2S {u'm\\xe2Z6rE': 1.0} pc3S {u'm\\xe2Z6rE': 1.0} pc1P {u'm\\xe2Z6rj\\xf4': 1.0} pc2P {u'm\\xe2Z6rje': 1.0} pc3P {u'm\\xe2Z6rE': 1.0} pP {u'm\\xe2Z\\xe2': 1.0} ppMS {u'm\\xe2Ze': 1.0} ppMP {u'm\\xe2Ze': 1.0} ppFS {u'm\\xe2Ze': 1.0} ppFP {u'm\\xe2Ze': 1.0} ai1S {u'm\\xe2ZE': 1.0} ai2S {u'm\\xe2Za': 1.0} ai3S {u'm\\xe2Za': 1.0} ai1P {u'm\\xe2Zam': 1.0} ai2P {u'm\\xe2Zat': 1.0} ai3P {u'm\\xe2ZEr': 1.0} is1S {u'm\\xe2Zas': 1.0} is2S {u'm\\xe2Zas': 1.0} is3S {u'm\\xe2Za': 1.0} is1P {u'm\\xe2Zasj\\xf4': 1.0} is2P {u'm\\xe2Zasje': 1.0} is3P {u'm\\xe2Zas': 1.0}\n",
      "\n",
      "pc3P mâZ6rE\n",
      "inf mâZ6rE pas de classe E-, rE-e, 6rE-e 0.33 par forme de sortie\n",
      "{u'm\\xe2Z6e': 0.3333333333333333, u'm\\xe2Z6r': 0.3333333333333333, u'm\\xe2Ze': 0.3333333333333333} pi1S {u'm\\xe2Z': 1.0} pi2S {u'm\\xe2Z': 1.0} pi3S {u'm\\xe2Z': 1.0} pi1P {u'm\\xe2Z\\xf4': 1.0} pi2P {u'm\\xe2Ze': 1.0} pi3P mâZ6rE pas de classe rE-, 6rE- 0.50 par forme de sortie\n",
      "{u'm\\xe2Z6': 0.5, u'm\\xe2Z': 0.5} ii1S {u'm\\xe2ZE': 1.0} ii2S {u'm\\xe2ZE': 1.0} ii3S {u'm\\xe2ZE': 1.0} ii1P {u'm\\xe2Zj\\xf4': 1.0} ii2P {u'm\\xe2Zje': 1.0} ii3P {u'm\\xe2ZE': 1.0} fi1S {u'm\\xe2Z6rE': 1.0} fi2S {u'm\\xe2Z6ra': 1.0} fi3S {u'm\\xe2Z6ra': 1.0} fi1P {u'm\\xe2Z6r\\xf4': 1.0} fi2P {u'm\\xe2Z6re': 1.0} fi3P {u'm\\xe2Z6r\\xf4': 1.0} pI2S {u'm\\xe2Z': 1.0} pI1P {u'm\\xe2Z\\xf4': 1.0} pI2P {u'm\\xe2Ze': 1.0} ps1S mâZ6rE pas de classe rE-, 6rE- 0.50 par forme de sortie\n",
      "{u'm\\xe2Z6': 0.5, u'm\\xe2Z': 0.5} ps2S mâZ6rE pas de classe rE-, 6rE- 0.50 par forme de sortie\n",
      "{u'm\\xe2Z6': 0.5, u'm\\xe2Z': 0.5} ps3S mâZ6rE pas de classe rE-, 6rE- 0.50 par forme de sortie\n",
      "{u'm\\xe2Z6': 0.5, u'm\\xe2Z': 0.5} ps1P {u'm\\xe2Zj\\xf4': 1.0} ps2P {u'm\\xe2Zje': 1.0} ps3P mâZ6rE pas de classe rE-, 6rE- 0.50 par forme de sortie\n",
      "{u'm\\xe2Z6': 0.5, u'm\\xe2Z': 0.5} pc1S {u'm\\xe2Z6rE': 1.0} pc2S {u'm\\xe2Z6rE': 1.0} pc3S {u'm\\xe2Z6rE': 1.0} pc1P {u'm\\xe2Z6rj\\xf4': 1.0} pc2P {u'm\\xe2Z6rje': 1.0} pc3P {u'm\\xe2Z6rE': 1.0} pP {u'm\\xe2Z\\xe2': 1.0} ppMS {u'm\\xe2Ze': 1.0} ppMP {u'm\\xe2Ze': 1.0} ppFS {u'm\\xe2Ze': 1.0} ppFP {u'm\\xe2Ze': 1.0} ai1S {u'm\\xe2ZE': 1.0} ai2S {u'm\\xe2Za': 1.0} ai3S {u'm\\xe2Za': 1.0} ai1P {u'm\\xe2Zam': 1.0} ai2P {u'm\\xe2Zat': 1.0} ai3P {u'm\\xe2ZEr': 1.0} is1S {u'm\\xe2Zas': 1.0} is2S {u'm\\xe2Zas': 1.0} is3S {u'm\\xe2Za': 1.0} is1P {u'm\\xe2Zasj\\xf4': 1.0} is2P {u'm\\xe2Zasje': 1.0} is3P {u'm\\xe2Zas': 1.0}\n",
      "\n",
      "pP mâZâ\n",
      "inf {u'm\\xe2Zr': 0.03286739705326785, u'm\\xe2Zir': 0.016244805440120892, u'm\\xe2Ze': 0.9508877975066112} pi1S {u'm\\xe2Z': 1.0} pi2S {u'm\\xe2Z': 1.0} pi3S {u'm\\xe2Z': 1.0} pi1P {u'm\\xe2Z\\xf4': 1.0} pi2P {u'm\\xe2Ze': 1.0} pi3P {u'm\\xe2Z': 1.0} ii1S {u'm\\xe2ZE': 1.0} ii2S {u'm\\xe2ZE': 1.0} ii3S {u'm\\xe2ZE': 1.0} ii1P {u'm\\xe2Zj\\xf4': 1.0} ii2P {u'm\\xe2Zje': 1.0} ii3P {u'm\\xe2ZE': 1.0} fi1S {u'm\\xe2Z6rE': 0.9476584022038568, u'm\\xe2ZirE': 0.012199921290830381, u'm\\xe2ZrE': 0.04014167650531287} fi2S {u'm\\xe2Zra': 0.04014167650531287, u'm\\xe2Z6ra': 0.9476584022038568, u'm\\xe2Zira': 0.012199921290830381} fi3S {u'm\\xe2Zra': 0.04042386185243328, u'm\\xe2Z6ra': 0.9474097331240189, u'm\\xe2Zira': 0.01216640502354788} fi1P {u'm\\xe2Z6r\\xf4': 0.9476584022038568, u'm\\xe2Zir\\xf4': 0.012199921290830381, u'm\\xe2Zr\\xf4': 0.04014167650531287} fi2P {u'm\\xe2Z6re': 0.9476584022038568, u'm\\xe2Zire': 0.012199921290830381, u'm\\xe2Zre': 0.04014167650531287} fi3P {u'm\\xe2Z6r\\xf4': 0.9473477406679764, u'm\\xe2Zir\\xf4': 0.01218074656188605, u'm\\xe2Zr\\xf4': 0.040471512770137524} pI2S {u'm\\xe2Z': 1.0} pI1P {u'm\\xe2Z\\xf4': 1.0} pI2P {u'm\\xe2Ze': 1.0} ps1S {u'm\\xe2Z': 1.0} ps2S {u'm\\xe2Z': 1.0} ps3S {u'm\\xe2Z': 1.0} ps1P {u'm\\xe2Zj\\xf4': 1.0} ps2P {u'm\\xe2Zje': 1.0} ps3P {u'm\\xe2Z': 1.0} pc1S {u'm\\xe2Z6rE': 0.9476584022038568, u'm\\xe2ZirE': 0.012199921290830381, u'm\\xe2ZrE': 0.04014167650531287} pc2S {u'm\\xe2Z6rE': 0.9476584022038568, u'm\\xe2ZirE': 0.012199921290830381, u'm\\xe2ZrE': 0.04014167650531287} pc3S {u'm\\xe2Z6rE': 0.9474097331240189, u'm\\xe2ZirE': 0.01216640502354788, u'm\\xe2ZrE': 0.04042386185243328} pc1P mâZâ pas de classe â-riô, â-irjô, â-6rjô 0.33 par forme de sortie\n",
      "{u'm\\xe2Zri\\xf4': 0.3333333333333333, u'm\\xe2Z6rj\\xf4': 0.3333333333333333, u'm\\xe2Zirj\\xf4': 0.3333333333333333} pc2P {u'm\\xe2Zrie': 0.044647387113140535, u'm\\xe2Zirje': 0.0076103500761035, u'm\\xe2Z6rje': 0.9477422628107559} pc3P {u'm\\xe2Z6rE': 0.9473477406679764, u'm\\xe2ZirE': 0.01218074656188605, u'm\\xe2ZrE': 0.040471512770137524} pP {u'm\\xe2Z\\xe2': 1.0} ppMS {u'm\\xe2Zy': 0.01610305958132045, u'm\\xe2Ze': 0.9838969404186796} ppMP {u'm\\xe2Zy': 0.01566820276497696, u'm\\xe2Ze': 0.9843317972350231} ppFS {u'm\\xe2Zy': 0.015682656826568265, u'm\\xe2Ze': 0.9843173431734318} ppFP {u'm\\xe2Zy': 0.015682656826568265, u'm\\xe2Ze': 0.9843173431734318} ai1S {u'm\\xe2Zi': 0.03644970414201183, u'm\\xe2ZE': 0.9635502958579881} ai2S {u'm\\xe2Za': 0.9635502958579881, u'm\\xe2Zi': 0.03644970414201183} ai3S {u'm\\xe2Za': 0.9631467044649185, u'm\\xe2Zi': 0.0368532955350815} ai1P {u'm\\xe2Zam': 0.9635502958579881, u'm\\xe2Zim': 0.03644970414201183} ai2P {u'm\\xe2Zit': 0.03644970414201183, u'm\\xe2Zat': 0.9635502958579881} ai3P {u'm\\xe2ZEr': 0.9631031220435194, u'm\\xe2Zir': 0.036896877956480605} is1S {u'm\\xe2Zis': 0.04342723004694836, u'm\\xe2Zas': 0.9565727699530516} is2S {u'm\\xe2Zis': 0.04342723004694836, u'm\\xe2Zas': 0.9565727699530516} is3S {u'm\\xe2Za': 0.9561855670103093, u'm\\xe2Zi': 0.04381443298969072} is1P {u'm\\xe2Zasj\\xf4': 0.9565727699530516, u'm\\xe2Zisj\\xf4': 0.04342723004694836} is2P {u'm\\xe2Zasje': 0.9565727699530516, u'm\\xe2Zisje': 0.04342723004694836} is3P {u'm\\xe2Zis': 0.04386582219094534, u'm\\xe2Zas': 0.9561341778090546}\n",
      "\n",
      "ppMS mâZe\n",
      "inf {u'm\\xe2Ze': 1.0} pi1S {u'm\\xe2Z': 1.0} pi2S {u'm\\xe2Z': 1.0} pi3S {u'm\\xe2Z': 1.0} pi1P {u'm\\xe2Z\\xf4': 1.0} pi2P {u'm\\xe2Ze': 1.0} pi3P {u'm\\xe2Z': 1.0} ii1S {u'm\\xe2ZE': 1.0} ii2S {u'm\\xe2ZE': 1.0} ii3S {u'm\\xe2ZE': 1.0} ii1P {u'm\\xe2Zj\\xf4': 1.0} ii2P {u'm\\xe2Zje': 1.0} ii3P {u'm\\xe2ZE': 1.0} fi1S {u'm\\xe2Z6rE': 1.0} fi2S {u'm\\xe2Z6ra': 1.0} fi3S {u'm\\xe2Z6ra': 1.0} fi1P {u'm\\xe2Z6r\\xf4': 1.0} fi2P {u'm\\xe2Z6re': 1.0} fi3P {u'm\\xe2Z6r\\xf4': 1.0} pI2S {u'm\\xe2Z': 1.0} pI1P {u'm\\xe2Z\\xf4': 1.0} pI2P {u'm\\xe2Ze': 1.0} ps1S {u'm\\xe2Z': 1.0} ps2S {u'm\\xe2Z': 1.0} ps3S {u'm\\xe2Z': 1.0} ps1P {u'm\\xe2Zj\\xf4': 1.0} ps2P {u'm\\xe2Zje': 1.0} ps3P {u'm\\xe2Z': 1.0} pc1S {u'm\\xe2Z6rE': 1.0} pc2S {u'm\\xe2Z6rE': 1.0} pc3S {u'm\\xe2Z6rE': 1.0} pc1P mâZe pas de classe -rjô, e-6rjô, -driô 0.33 par forme de sortie\n",
      "{u'm\\xe2Z6rj\\xf4': 0.3333333333333333, u'm\\xe2Zerj\\xf4': 0.3333333333333333, u'm\\xe2Zedri\\xf4': 0.3333333333333333} pc2P {u'm\\xe2Z6rje': 1.0} pc3P {u'm\\xe2Z6rE': 1.0} pP {u'm\\xe2Z\\xe2': 1.0} ppMS {u'm\\xe2Ze': 1.0} ppMP {u'm\\xe2Ze': 1.0} ppFS {u'm\\xe2Zez': 0.006392918613228424, u'm\\xe2Ze': 0.9881976887140398, u'm\\xe2Zet': 0.005409392672731743} ppFP mâZe pas de classe -t, -, -z 0.33 par forme de sortie\n",
      "{u'm\\xe2Zez': 0.3333333333333333, u'm\\xe2Ze': 0.3333333333333333, u'm\\xe2Zet': 0.3333333333333333} ai1S {u'm\\xe2ZE': 1.0} ai2S {u'm\\xe2Za': 1.0} ai3S {u'm\\xe2Za': 1.0} ai1P {u'm\\xe2Zam': 1.0} ai2P {u'm\\xe2Zat': 1.0} ai3P {u'm\\xe2ZEr': 1.0} is1S {u'm\\xe2Zas': 1.0} is2S {u'm\\xe2Zas': 1.0} is3S {u'm\\xe2Za': 1.0} is1P {u'm\\xe2Zasj\\xf4': 1.0} is2P {u'm\\xe2Zasje': 1.0} is3P {u'm\\xe2Zas': 1.0}\n",
      "\n",
      "ppMP mâZe\n",
      "inf {u'm\\xe2Ze': 1.0} pi1S {u'm\\xe2Z': 1.0} pi2S {u'm\\xe2Z': 1.0} pi3S {u'm\\xe2Z': 1.0} pi1P {u'm\\xe2Z\\xf4': 1.0} pi2P {u'm\\xe2Ze': 1.0} pi3P {u'm\\xe2Z': 1.0} ii1S {u'm\\xe2ZE': 1.0} ii2S {u'm\\xe2ZE': 1.0} ii3S {u'm\\xe2ZE': 1.0} ii1P {u'm\\xe2Zj\\xf4': 1.0} ii2P {u'm\\xe2Zje': 1.0} ii3P {u'm\\xe2ZE': 1.0} fi1S {u'm\\xe2Z6rE': 1.0} fi2S {u'm\\xe2Z6ra': 1.0} fi3S {u'm\\xe2Z6ra': 1.0} fi1P {u'm\\xe2Z6r\\xf4': 1.0} fi2P {u'm\\xe2Z6re': 1.0} fi3P {u'm\\xe2Z6r\\xf4': 1.0} pI2S {u'm\\xe2Z': 1.0} pI1P {u'm\\xe2Z\\xf4': 1.0} pI2P {u'm\\xe2Ze': 1.0} ps1S {u'm\\xe2Z': 1.0} ps2S {u'm\\xe2Z': 1.0} ps3S {u'm\\xe2Z': 1.0} ps1P {u'm\\xe2Zj\\xf4': 1.0} ps2P {u'm\\xe2Zje': 1.0} ps3P {u'm\\xe2Z': 1.0} pc1S {u'm\\xe2Z6rE': 1.0} pc2S {u'm\\xe2Z6rE': 1.0} pc3S {u'm\\xe2Z6rE': 1.0} pc1P {u'm\\xe2Z6rj\\xf4': 1.0} pc2P {u'm\\xe2Z6rje': 1.0} pc3P {u'm\\xe2Z6rE': 1.0} pP {u'm\\xe2Z\\xe2': 1.0} ppMS {u'm\\xe2Ze': 1.0} ppMP {u'm\\xe2Ze': 1.0} ppFS {u'm\\xe2Zez': 0.006392918613228424, u'm\\xe2Ze': 0.9881976887140398, u'm\\xe2Zet': 0.005409392672731743} ppFP {u'm\\xe2Zez': 0.006392918613228424, u'm\\xe2Ze': 0.9881976887140398, u'm\\xe2Zet': 0.005409392672731743} ai1S {u'm\\xe2ZE': 1.0} ai2S {u'm\\xe2Za': 1.0} ai3S {u'm\\xe2Za': 1.0} ai1P {u'm\\xe2Zam': 1.0} ai2P {u'm\\xe2Zat': 1.0} ai3P mâZe pas de classe e-Er, -r 0.50 par forme de sortie\n",
      "{u'm\\xe2ZEr': 0.5, u'm\\xe2Zer': 0.5} is1S {u'm\\xe2Zas': 1.0} is2S {u'm\\xe2Zas': 1.0} is3S {u'm\\xe2Za': 1.0} is1P {u'm\\xe2Zasj\\xf4': 1.0} is2P {u'm\\xe2Zasje': 1.0} is3P {u'm\\xe2Zas': 1.0}\n",
      "\n",
      "ppFS mâZe\n",
      "inf {u'm\\xe2Ze': 1.0} pi1S {u'm\\xe2Z': 1.0} pi2S {u'm\\xe2Z': 1.0} pi3S {u'm\\xe2Z': 1.0} pi1P {u'm\\xe2Z\\xf4': 1.0} pi2P {u'm\\xe2Ze': 1.0} pi3P {u'm\\xe2Z': 1.0} ii1S {u'm\\xe2ZE': 1.0} ii2S {u'm\\xe2ZE': 1.0} ii3S {u'm\\xe2ZE': 1.0} ii1P {u'm\\xe2Zj\\xf4': 1.0} ii2P {u'm\\xe2Zje': 1.0} ii3P {u'm\\xe2ZE': 1.0} fi1S {u'm\\xe2Z6rE': 1.0} fi2S {u'm\\xe2Z6ra': 1.0} fi3S {u'm\\xe2Z6ra': 1.0} fi1P {u'm\\xe2Z6r\\xf4': 1.0} fi2P {u'm\\xe2Z6re': 1.0} fi3P {u'm\\xe2Z6r\\xf4': 1.0} pI2S {u'm\\xe2Z': 1.0} pI1P {u'm\\xe2Z\\xf4': 1.0} pI2P {u'm\\xe2Ze': 1.0} ps1S {u'm\\xe2Z': 1.0} ps2S {u'm\\xe2Z': 1.0} ps3S {u'm\\xe2Z': 1.0} ps1P {u'm\\xe2Zj\\xf4': 1.0} ps2P {u'm\\xe2Zje': 1.0} ps3P {u'm\\xe2Z': 1.0} pc1S {u'm\\xe2Z6rE': 1.0} pc2S {u'm\\xe2Z6rE': 1.0} pc3S {u'm\\xe2Z6rE': 1.0} pc1P {u'm\\xe2Z6rj\\xf4': 1.0} pc2P {u'm\\xe2Z6rje': 1.0} pc3P {u'm\\xe2Z6rE': 1.0} pP {u'm\\xe2Z\\xe2': 1.0} ppMS {u'm\\xe2Ze': 1.0} ppMP {u'm\\xe2Ze': 1.0} ppFS {u'm\\xe2Ze': 1.0} ppFP {u'm\\xe2Ze': 1.0} ai1S {u'm\\xe2ZE': 1.0} ai2S {u'm\\xe2Za': 1.0} ai3S {u'm\\xe2Za': 1.0} ai1P {u'm\\xe2Zam': 1.0} ai2P {u'm\\xe2Zat': 1.0} ai3P {u'm\\xe2ZEr': 1.0} is1S {u'm\\xe2Zas': 1.0} is2S {u'm\\xe2Zas': 1.0} is3S {u'm\\xe2Za': 1.0} is1P {u'm\\xe2Zasj\\xf4': 1.0} is2P {u'm\\xe2Zasje': 1.0} is3P {u'm\\xe2Zas': 1.0}\n",
      "\n",
      "ppFP mâZe\n",
      "inf {u'm\\xe2Ze': 1.0} pi1S {u'm\\xe2Z': 1.0} pi2S {u'm\\xe2Z': 1.0} pi3S {u'm\\xe2Z': 1.0} pi1P {u'm\\xe2Z\\xf4': 1.0} pi2P {u'm\\xe2Ze': 1.0} pi3P {u'm\\xe2Z': 1.0} ii1S {u'm\\xe2ZE': 1.0} ii2S {u'm\\xe2ZE': 1.0} ii3S {u'm\\xe2ZE': 1.0} ii1P {u'm\\xe2Zj\\xf4': 1.0} ii2P {u'm\\xe2Zje': 1.0} ii3P {u'm\\xe2ZE': 1.0} fi1S {u'm\\xe2Z6rE': 1.0} fi2S {u'm\\xe2Z6ra': 1.0} fi3S {u'm\\xe2Z6ra': 1.0} fi1P {u'm\\xe2Z6r\\xf4': 1.0} fi2P {u'm\\xe2Z6re': 1.0} fi3P {u'm\\xe2Z6r\\xf4': 1.0} pI2S {u'm\\xe2Z': 1.0} pI1P {u'm\\xe2Z\\xf4': 1.0} pI2P {u'm\\xe2Ze': 1.0} ps1S {u'm\\xe2Z': 1.0} ps2S {u'm\\xe2Z': 1.0} ps3S {u'm\\xe2Z': 1.0} ps1P {u'm\\xe2Zj\\xf4': 1.0} ps2P {u'm\\xe2Zje': 1.0} ps3P {u'm\\xe2Z': 1.0} pc1S {u'm\\xe2Z6rE': 1.0} pc2S {u'm\\xe2Z6rE': 1.0} pc3S {u'm\\xe2Z6rE': 1.0} pc1P {u'm\\xe2Z6rj\\xf4': 1.0} pc2P {u'm\\xe2Z6rje': 1.0} pc3P {u'm\\xe2Z6rE': 1.0} pP {u'm\\xe2Z\\xe2': 1.0} ppMS {u'm\\xe2Ze': 1.0} ppMP {u'm\\xe2Ze': 1.0} ppFS {u'm\\xe2Ze': 1.0} ppFP {u'm\\xe2Ze': 1.0} ai1S {u'm\\xe2ZE': 1.0} ai2S {u'm\\xe2Za': 1.0} ai3S {u'm\\xe2Za': 1.0} ai1P {u'm\\xe2Zam': 1.0} ai2P {u'm\\xe2Zat': 1.0} ai3P {u'm\\xe2ZEr': 1.0} is1S {u'm\\xe2Zas': 1.0} is2S {u'm\\xe2Zas': 1.0} is3S {u'm\\xe2Za': 1.0} is1P {u'm\\xe2Zasj\\xf4': 1.0} is2P {u'm\\xe2Zasje': 1.0} is3P {u'm\\xe2Zas': 1.0}\n",
      "\n",
      "ai1S mâZE\n",
      "inf {u'm\\xe2Ze': 1.0} pi1S {u'm\\xe2Z': 1.0} pi2S {u'm\\xe2Z': 1.0} pi3S {u'm\\xe2Z': 1.0} pi1P {u'm\\xe2Z\\xf4': 1.0} pi2P {u'm\\xe2Ze': 1.0} pi3P {u'm\\xe2Z': 1.0} ii1S {u'm\\xe2ZE': 1.0} ii2S {u'm\\xe2ZE': 1.0} ii3S {u'm\\xe2ZE': 1.0} ii1P {u'm\\xe2Zj\\xf4': 1.0} ii2P {u'm\\xe2Zje': 1.0} ii3P {u'm\\xe2ZE': 1.0} fi1S {u'm\\xe2Z6rE': 1.0} fi2S {u'm\\xe2Z6ra': 1.0} fi3S {u'm\\xe2Z6ra': 1.0} fi1P {u'm\\xe2Z6r\\xf4': 1.0} fi2P {u'm\\xe2Z6re': 1.0} fi3P {u'm\\xe2Z6r\\xf4': 1.0} pI2S {u'm\\xe2Z': 1.0} pI1P {u'm\\xe2Z\\xf4': 1.0} pI2P {u'm\\xe2Ze': 1.0} ps1S {u'm\\xe2Z': 1.0} ps2S {u'm\\xe2Z': 1.0} ps3S {u'm\\xe2Z': 1.0} ps1P {u'm\\xe2Zj\\xf4': 1.0} ps2P {u'm\\xe2Zje': 1.0} ps3P {u'm\\xe2Z': 1.0} pc1S {u'm\\xe2Z6rE': 1.0} pc2S {u'm\\xe2Z6rE': 1.0} pc3S {u'm\\xe2Z6rE': 1.0} pc1P {u'm\\xe2Z6rj\\xf4': 1.0} pc2P {u'm\\xe2Z6rje': 1.0} pc3P {u'm\\xe2Z6rE': 1.0} pP {u'm\\xe2Z\\xe2': 1.0} ppMS {u'm\\xe2Ze': 1.0} ppMP {u'm\\xe2ZE': 0.00019809825673534074, u'm\\xe2Ze': 0.9998019017432647} ppFS {u'm\\xe2ZE': 0.0001979414093428345, u'm\\xe2Ze': 0.9998020585906572} ppFP {u'm\\xe2ZE': 0.00019809825673534074, u'm\\xe2Ze': 0.9998019017432647} ai1S {u'm\\xe2ZE': 1.0} ai2S mâZE pas de classe E-a, - 0.50 par forme de sortie\n",
      "{u'm\\xe2Za': 0.5, u'm\\xe2ZE': 0.5} ai3S mâZE pas de classe E-a, - 0.50 par forme de sortie\n",
      "{u'm\\xe2Za': 0.5, u'm\\xe2ZE': 0.5} ai1P {u'm\\xe2Zam': 1.0} ai2P {u'm\\xe2Zat': 1.0} ai3P {u'm\\xe2ZEr': 1.0} is1S {u'm\\xe2Zas': 1.0} is2S {u'm\\xe2Zas': 1.0} is3S mâZE pas de classe E-a, - 0.50 par forme de sortie\n",
      "{u'm\\xe2Za': 0.5, u'm\\xe2ZE': 0.5} is1P {u'm\\xe2Zasj\\xf4': 1.0} is2P {u'm\\xe2Zasje': 1.0} is3P {u'm\\xe2Zas': 1.0}\n",
      "\n",
      "ai2S mâZa\n",
      "inf {u'm\\xe2Ze': 1.0} pi1S {u'm\\xe2Z': 1.0} pi2S {u'm\\xe2Z': 1.0} pi3S {u'm\\xe2Z': 1.0} pi1P {u'm\\xe2Z\\xf4': 1.0} pi2P {u'm\\xe2Ze': 1.0} pi3P {u'm\\xe2Z': 1.0} ii1S {u'm\\xe2ZE': 1.0} ii2S {u'm\\xe2ZE': 1.0} ii3S {u'm\\xe2ZE': 1.0} ii1P {u'm\\xe2Zj\\xf4': 1.0} ii2P {u'm\\xe2Zje': 1.0} ii3P {u'm\\xe2ZE': 1.0} fi1S {u'm\\xe2Z6rE': 1.0} fi2S {u'm\\xe2Z6ra': 1.0} fi3S {u'm\\xe2Z6ra': 1.0} fi1P {u'm\\xe2Z6r\\xf4': 1.0} fi2P {u'm\\xe2Z6re': 1.0} fi3P {u'm\\xe2Z6r\\xf4': 1.0} pI2S {u'm\\xe2Z': 1.0} pI1P {u'm\\xe2Z\\xf4': 1.0} pI2P {u'm\\xe2Ze': 1.0} ps1S {u'm\\xe2Z': 1.0} ps2S {u'm\\xe2Z': 1.0} ps3S {u'm\\xe2Z': 1.0} ps1P {u'm\\xe2Zj\\xf4': 1.0} ps2P {u'm\\xe2Zje': 1.0} ps3P {u'm\\xe2Z': 1.0} pc1S {u'm\\xe2Z6rE': 1.0} pc2S {u'm\\xe2Z6rE': 1.0} pc3S {u'm\\xe2Z6rE': 1.0} pc1P {u'm\\xe2Z6rj\\xf4': 1.0} pc2P {u'm\\xe2Z6rje': 1.0} pc3P {u'm\\xe2Z6rE': 1.0} pP {u'm\\xe2Z\\xe2': 1.0} ppMS {u'm\\xe2Ze': 1.0} ppMP {u'm\\xe2Ze': 1.0} ppFS {u'm\\xe2Ze': 1.0} ppFP {u'm\\xe2Ze': 1.0} ai1S {u'm\\xe2ZE': 1.0} ai2S {u'm\\xe2Za': 1.0} ai3S {u'm\\xe2Za': 1.0} ai1P {u'm\\xe2Zam': 1.0} ai2P {u'm\\xe2Zat': 1.0} ai3P {u'm\\xe2ZEr': 1.0} is1S {u'm\\xe2Zas': 1.0} is2S {u'm\\xe2Zas': 1.0} is3S {u'm\\xe2Za': 1.0} is1P {u'm\\xe2Zasj\\xf4': 1.0} is2P {u'm\\xe2Zasje': 1.0} is3P {u'm\\xe2Zas': 1.0}\n",
      "\n",
      "ai3S mâZa\n",
      "inf {u'm\\xe2Ze': 1.0} pi1S {u'm\\xe2Z': 1.0} pi2S {u'm\\xe2Z': 1.0} pi3S {u'm\\xe2Z': 1.0} pi1P {u'm\\xe2Z\\xf4': 1.0} pi2P {u'm\\xe2Ze': 1.0} pi3P {u'm\\xe2Z': 1.0} ii1S {u'm\\xe2ZE': 1.0} ii2S {u'm\\xe2ZE': 1.0} ii3S {u'm\\xe2ZE': 1.0} ii1P {u'm\\xe2Zj\\xf4': 1.0} ii2P {u'm\\xe2Zje': 1.0} ii3P {u'm\\xe2ZE': 1.0} fi1S {u'm\\xe2Z6rE': 1.0} fi2S {u'm\\xe2Z6ra': 1.0} fi3S {u'm\\xe2Z6ra': 1.0} fi1P {u'm\\xe2Z6r\\xf4': 1.0} fi2P {u'm\\xe2Z6re': 1.0} fi3P {u'm\\xe2Z6r\\xf4': 1.0} pI2S {u'm\\xe2Z': 1.0} pI1P {u'm\\xe2Z\\xf4': 1.0} pI2P {u'm\\xe2Ze': 1.0} ps1S {u'm\\xe2Z': 1.0} ps2S {u'm\\xe2Z': 1.0} ps3S {u'm\\xe2Z': 1.0} ps1P {u'm\\xe2Zj\\xf4': 1.0} ps2P {u'm\\xe2Zje': 1.0} ps3P {u'm\\xe2Z': 1.0} pc1S {u'm\\xe2Z6rE': 1.0} pc2S {u'm\\xe2Z6rE': 1.0} pc3S {u'm\\xe2Z6rE': 1.0} pc1P {u'm\\xe2Z6rj\\xf4': 1.0} pc2P {u'm\\xe2Z6rje': 1.0} pc3P {u'm\\xe2Z6rE': 1.0} pP {u'm\\xe2Z\\xe2': 1.0} ppMS {u'm\\xe2Ze': 1.0} ppMP {u'm\\xe2Ze': 1.0} ppFS {u'm\\xe2Ze': 1.0} ppFP {u'm\\xe2Ze': 1.0} ai1S {u'm\\xe2ZE': 1.0} ai2S {u'm\\xe2Za': 1.0} ai3S {u'm\\xe2Za': 1.0} ai1P {u'm\\xe2Zam': 1.0} ai2P {u'm\\xe2Zat': 1.0} ai3P {u'm\\xe2ZEr': 1.0} is1S {u'm\\xe2Zas': 1.0} is2S {u'm\\xe2Zas': 1.0} is3S {u'm\\xe2Za': 1.0} is1P {u'm\\xe2Zasj\\xf4': 1.0} is2P {u'm\\xe2Zasje': 1.0} is3P {u'm\\xe2Zas': 1.0}\n",
      "\n",
      "ai1P mâZam\n",
      "inf {u'm\\xe2Ze': 1.0} pi1S {u'm\\xe2Z': 1.0} pi2S {u'm\\xe2Z': 1.0} pi3S {u'm\\xe2Z': 1.0} pi1P {u'm\\xe2Z\\xf4': 1.0} pi2P {u'm\\xe2Ze': 1.0} pi3P {u'm\\xe2Z': 1.0} ii1S {u'm\\xe2ZE': 1.0} ii2S {u'm\\xe2ZE': 1.0} ii3S {u'm\\xe2ZE': 1.0} ii1P {u'm\\xe2Zj\\xf4': 1.0} ii2P {u'm\\xe2Zje': 1.0} ii3P {u'm\\xe2ZE': 1.0} fi1S {u'm\\xe2Z6rE': 1.0} fi2S {u'm\\xe2Z6ra': 1.0} fi3S {u'm\\xe2Z6ra': 1.0} fi1P {u'm\\xe2Z6r\\xf4': 1.0} fi2P {u'm\\xe2Z6re': 1.0} fi3P {u'm\\xe2Z6r\\xf4': 1.0} pI2S {u'm\\xe2Z': 1.0} pI1P {u'm\\xe2Z\\xf4': 1.0} pI2P {u'm\\xe2Ze': 1.0} ps1S {u'm\\xe2Z': 1.0} ps2S {u'm\\xe2Z': 1.0} ps3S {u'm\\xe2Z': 1.0} ps1P {u'm\\xe2Zj\\xf4': 1.0} ps2P {u'm\\xe2Zje': 1.0} ps3P {u'm\\xe2Z': 1.0} pc1S {u'm\\xe2Z6rE': 1.0} pc2S {u'm\\xe2Z6rE': 1.0} pc3S {u'm\\xe2Z6rE': 1.0} pc1P {u'm\\xe2Z6rj\\xf4': 1.0} pc2P {u'm\\xe2Z6rje': 1.0} pc3P {u'm\\xe2Z6rE': 1.0} pP {u'm\\xe2Z\\xe2': 1.0} ppMS {u'm\\xe2Ze': 1.0} ppMP {u'm\\xe2Ze': 1.0} ppFS {u'm\\xe2Ze': 1.0} ppFP {u'm\\xe2Ze': 1.0} ai1S {u'm\\xe2ZE': 1.0} ai2S {u'm\\xe2Za': 1.0} ai3S {u'm\\xe2Za': 1.0} ai1P {u'm\\xe2Zam': 1.0} ai2P {u'm\\xe2Zat': 1.0} ai3P {u'm\\xe2ZEr': 1.0} is1S {u'm\\xe2Zas': 1.0} is2S {u'm\\xe2Zas': 1.0} is3S {u'm\\xe2Za': 1.0} is1P {u'm\\xe2Zasj\\xf4': 1.0} is2P {u'm\\xe2Zasje': 1.0} is3P {u'm\\xe2Zas': 1.0}\n",
      "\n",
      "ai2P mâZat\n",
      "inf {u'm\\xe2Ze': 1.0} pi1S {u'm\\xe2Z': 1.0} pi2S {u'm\\xe2Z': 1.0} pi3S {u'm\\xe2Z': 1.0} pi1P {u'm\\xe2Z\\xf4': 1.0} pi2P {u'm\\xe2Ze': 1.0} pi3P {u'm\\xe2Z': 1.0} ii1S {u'm\\xe2ZE': 1.0} ii2S {u'm\\xe2ZE': 1.0} ii3S {u'm\\xe2ZE': 1.0} ii1P {u'm\\xe2Zj\\xf4': 1.0} ii2P {u'm\\xe2Zje': 1.0} ii3P {u'm\\xe2ZE': 1.0} fi1S {u'm\\xe2Z6rE': 1.0} fi2S {u'm\\xe2Z6ra': 1.0} fi3S {u'm\\xe2Z6ra': 1.0} fi1P {u'm\\xe2Z6r\\xf4': 1.0} fi2P {u'm\\xe2Z6re': 1.0} fi3P {u'm\\xe2Z6r\\xf4': 1.0} pI2S {u'm\\xe2Z': 1.0} pI1P {u'm\\xe2Z\\xf4': 1.0} pI2P {u'm\\xe2Ze': 1.0} ps1S {u'm\\xe2Z': 1.0} ps2S {u'm\\xe2Z': 1.0} ps3S {u'm\\xe2Z': 1.0} ps1P {u'm\\xe2Zj\\xf4': 1.0} ps2P {u'm\\xe2Zje': 1.0} ps3P {u'm\\xe2Z': 1.0} pc1S {u'm\\xe2Z6rE': 1.0} pc2S {u'm\\xe2Z6rE': 1.0} pc3S {u'm\\xe2Z6rE': 1.0} pc1P {u'm\\xe2Z6rj\\xf4': 1.0} pc2P {u'm\\xe2Z6rje': 1.0} pc3P {u'm\\xe2Z6rE': 1.0} pP {u'm\\xe2Z\\xe2': 1.0} ppMS {u'm\\xe2Ze': 1.0} ppMP {u'm\\xe2Ze': 1.0} ppFS {u'm\\xe2Ze': 1.0} ppFP {u'm\\xe2Ze': 1.0} ai1S {u'm\\xe2ZE': 1.0} ai2S {u'm\\xe2Za': 1.0} ai3S {u'm\\xe2Za': 1.0} ai1P {u'm\\xe2Zam': 1.0} ai2P {u'm\\xe2Zat': 1.0} ai3P {u'm\\xe2ZEr': 1.0} is1S {u'm\\xe2Zas': 1.0} is2S {u'm\\xe2Zas': 1.0} is3S {u'm\\xe2Za': 1.0} is1P {u'm\\xe2Zasj\\xf4': 1.0} is2P {u'm\\xe2Zasje': 1.0} is3P {u'm\\xe2Zas': 1.0}\n",
      "\n",
      "ai3P mâZEr\n",
      "inf {u'm\\xe2Ze': 1.0} pi1S {u'm\\xe2Z': 1.0} pi2S {u'm\\xe2Z': 1.0} pi3S {u'm\\xe2Z': 1.0} pi1P {u'm\\xe2Z\\xf4': 1.0} pi2P {u'm\\xe2Ze': 1.0} pi3P {u'm\\xe2Z': 1.0} ii1S {u'm\\xe2ZE': 1.0} ii2S {u'm\\xe2ZE': 1.0} ii3S {u'm\\xe2ZE': 1.0} ii1P {u'm\\xe2Zj\\xf4': 1.0} ii2P {u'm\\xe2Zje': 1.0} ii3P {u'm\\xe2ZE': 1.0} fi1S {u'm\\xe2Z6rE': 1.0} fi2S {u'm\\xe2Z6ra': 1.0} fi3S {u'm\\xe2Z6ra': 1.0} fi1P {u'm\\xe2Z6r\\xf4': 1.0} fi2P {u'm\\xe2Z6re': 1.0} fi3P {u'm\\xe2Z6r\\xf4': 1.0} pI2S {u'm\\xe2Z': 1.0} pI1P {u'm\\xe2Z\\xf4': 1.0} pI2P {u'm\\xe2Ze': 1.0} ps1S {u'm\\xe2Z': 1.0} ps2S {u'm\\xe2Z': 1.0} ps3S {u'm\\xe2Z': 1.0} ps1P {u'm\\xe2Zj\\xf4': 1.0} ps2P {u'm\\xe2Zje': 1.0} ps3P {u'm\\xe2Z': 1.0} pc1S {u'm\\xe2Z6rE': 1.0} pc2S {u'm\\xe2Z6rE': 1.0} pc3S {u'm\\xe2Z6rE': 1.0} pc1P {u'm\\xe2Z6rj\\xf4': 1.0} pc2P {u'm\\xe2Z6rje': 1.0} pc3P {u'm\\xe2Z6rE': 1.0} pP {u'm\\xe2Z\\xe2': 1.0} ppMS {u'm\\xe2Ze': 1.0} ppMP {u'm\\xe2Ze': 0.9998020585906572, u'm\\xe2ZE': 0.0001979414093428345} ppFS mâZEr pas de classe r-, Er-e 0.50 par forme de sortie\n",
      "{u'm\\xe2Ze': 0.5, u'm\\xe2ZE': 0.5} ppFP mâZEr pas de classe r-, Er-e 0.50 par forme de sortie\n",
      "{u'm\\xe2Ze': 0.5, u'm\\xe2ZE': 0.5} ai1S {u'm\\xe2ZE': 1.0} ai2S {u'm\\xe2Za': 1.0} ai3S {u'm\\xe2Za': 1.0} ai1P {u'm\\xe2Zam': 1.0} ai2P {u'm\\xe2Zat': 1.0} ai3P {u'm\\xe2ZEr': 1.0} is1S {u'm\\xe2Zas': 1.0} is2S {u'm\\xe2Zas': 1.0} is3S {u'm\\xe2Za': 1.0} is1P {u'm\\xe2Zasj\\xf4': 1.0} is2P {u'm\\xe2Zasje': 1.0} is3P {u'm\\xe2Zas': 1.0}\n",
      "\n",
      "is1S mâZas\n",
      "inf {u'm\\xe2Ze': 1.0} pi1S {u'm\\xe2Z': 1.0} pi2S {u'm\\xe2Z': 1.0} pi3S {u'm\\xe2Z': 1.0} pi1P {u'm\\xe2Z\\xf4': 1.0} pi2P {u'm\\xe2Ze': 1.0} pi3P {u'm\\xe2Z': 1.0} ii1S {u'm\\xe2ZE': 1.0} ii2S {u'm\\xe2ZE': 1.0} ii3S {u'm\\xe2ZE': 1.0} ii1P {u'm\\xe2Zj\\xf4': 1.0} ii2P {u'm\\xe2Zje': 1.0} ii3P {u'm\\xe2ZE': 1.0} fi1S {u'm\\xe2Z6rE': 1.0} fi2S {u'm\\xe2Z6ra': 1.0} fi3S {u'm\\xe2Z6ra': 1.0} fi1P {u'm\\xe2Z6r\\xf4': 1.0} fi2P {u'm\\xe2Z6re': 1.0} fi3P {u'm\\xe2Z6r\\xf4': 1.0} pI2S {u'm\\xe2Z': 1.0} pI1P {u'm\\xe2Z\\xf4': 1.0} pI2P {u'm\\xe2Ze': 1.0} ps1S {u'm\\xe2Z': 1.0} ps2S {u'm\\xe2Z': 1.0} ps3S {u'm\\xe2Z': 1.0} ps1P {u'm\\xe2Zj\\xf4': 1.0} ps2P {u'm\\xe2Zje': 1.0} ps3P {u'm\\xe2Z': 1.0} pc1S {u'm\\xe2Z6rE': 1.0} pc2S {u'm\\xe2Z6rE': 1.0} pc3S {u'm\\xe2Z6rE': 1.0} pc1P {u'm\\xe2Z6rj\\xf4': 1.0} pc2P {u'm\\xe2Z6rje': 1.0} pc3P {u'm\\xe2Z6rE': 1.0} pP {u'm\\xe2Z\\xe2': 1.0} ppMS {u'm\\xe2Ze': 1.0} ppMP {u'm\\xe2Ze': 1.0} ppFS {u'm\\xe2Ze': 1.0} ppFP {u'm\\xe2Ze': 1.0} ai1S {u'm\\xe2ZE': 1.0} ai2S {u'm\\xe2Za': 1.0} ai3S {u'm\\xe2Za': 1.0} ai1P {u'm\\xe2Zam': 1.0} ai2P {u'm\\xe2Zat': 1.0} ai3P {u'm\\xe2ZEr': 1.0} is1S {u'm\\xe2Zas': 1.0} is2S {u'm\\xe2Zas': 1.0} is3S {u'm\\xe2Za': 1.0} is1P {u'm\\xe2Zasj\\xf4': 1.0} is2P {u'm\\xe2Zasje': 1.0} is3P {u'm\\xe2Zas': 1.0}\n",
      "\n",
      "is2S mâZas\n",
      "inf {u'm\\xe2Ze': 1.0} pi1S {u'm\\xe2Z': 1.0} pi2S {u'm\\xe2Z': 1.0} pi3S {u'm\\xe2Z': 1.0} pi1P {u'm\\xe2Z\\xf4': 1.0} pi2P {u'm\\xe2Ze': 1.0} pi3P {u'm\\xe2Z': 1.0} ii1S {u'm\\xe2ZE': 1.0} ii2S {u'm\\xe2ZE': 1.0} ii3S {u'm\\xe2ZE': 1.0} ii1P {u'm\\xe2Zj\\xf4': 1.0} ii2P {u'm\\xe2Zje': 1.0} ii3P {u'm\\xe2ZE': 1.0} fi1S {u'm\\xe2Z6rE': 1.0} fi2S {u'm\\xe2Z6ra': 1.0} fi3S {u'm\\xe2Z6ra': 1.0} fi1P {u'm\\xe2Z6r\\xf4': 1.0} fi2P {u'm\\xe2Z6re': 1.0} fi3P {u'm\\xe2Z6r\\xf4': 1.0} pI2S {u'm\\xe2Z': 1.0} pI1P {u'm\\xe2Z\\xf4': 1.0} pI2P {u'm\\xe2Ze': 1.0} ps1S {u'm\\xe2Z': 1.0} ps2S {u'm\\xe2Z': 1.0} ps3S {u'm\\xe2Z': 1.0} ps1P {u'm\\xe2Zj\\xf4': 1.0} ps2P {u'm\\xe2Zje': 1.0} ps3P {u'm\\xe2Z': 1.0} pc1S {u'm\\xe2Z6rE': 1.0} pc2S {u'm\\xe2Z6rE': 1.0} pc3S {u'm\\xe2Z6rE': 1.0} pc1P {u'm\\xe2Z6rj\\xf4': 1.0} pc2P {u'm\\xe2Z6rje': 1.0} pc3P {u'm\\xe2Z6rE': 1.0} pP {u'm\\xe2Z\\xe2': 1.0} ppMS {u'm\\xe2Ze': 1.0} ppMP {u'm\\xe2Ze': 1.0} ppFS {u'm\\xe2Ze': 1.0} ppFP {u'm\\xe2Ze': 1.0} ai1S {u'm\\xe2ZE': 1.0} ai2S {u'm\\xe2Za': 1.0} ai3S {u'm\\xe2Za': 1.0} ai1P {u'm\\xe2Zam': 1.0} ai2P {u'm\\xe2Zat': 1.0} ai3P {u'm\\xe2ZEr': 1.0} is1S {u'm\\xe2Zas': 1.0} is2S {u'm\\xe2Zas': 1.0} is3S {u'm\\xe2Za': 1.0} is1P {u'm\\xe2Zasj\\xf4': 1.0} is2P {u'm\\xe2Zasje': 1.0} is3P {u'm\\xe2Zas': 1.0}\n",
      "\n",
      "is3S mâZa\n",
      "inf {u'm\\xe2Ze': 1.0} pi1S {u'm\\xe2Z': 1.0} pi2S {u'm\\xe2Z': 1.0} pi3S {u'm\\xe2Z': 1.0} pi1P {u'm\\xe2Z\\xf4': 1.0} pi2P {u'm\\xe2Ze': 1.0} pi3P {u'm\\xe2Z': 1.0} ii1S {u'm\\xe2ZE': 1.0} ii2S {u'm\\xe2ZE': 1.0} ii3S {u'm\\xe2ZE': 1.0} ii1P {u'm\\xe2Zj\\xf4': 1.0} ii2P {u'm\\xe2Zje': 1.0} ii3P {u'm\\xe2ZE': 1.0} fi1S {u'm\\xe2Z6rE': 1.0} fi2S {u'm\\xe2Z6ra': 1.0} fi3S {u'm\\xe2Z6ra': 1.0} fi1P {u'm\\xe2Z6r\\xf4': 1.0} fi2P {u'm\\xe2Z6re': 1.0} fi3P {u'm\\xe2Z6r\\xf4': 1.0} pI2S {u'm\\xe2Z': 1.0} pI1P {u'm\\xe2Z\\xf4': 1.0} pI2P {u'm\\xe2Ze': 1.0} ps1S {u'm\\xe2Z': 1.0} ps2S {u'm\\xe2Z': 1.0} ps3S {u'm\\xe2Z': 1.0} ps1P {u'm\\xe2Zj\\xf4': 1.0} ps2P {u'm\\xe2Zje': 1.0} ps3P {u'm\\xe2Z': 1.0} pc1S {u'm\\xe2Z6rE': 1.0} pc2S {u'm\\xe2Z6rE': 1.0} pc3S {u'm\\xe2Z6rE': 1.0} pc1P {u'm\\xe2Z6rj\\xf4': 1.0} pc2P {u'm\\xe2Z6rje': 1.0} pc3P {u'm\\xe2Z6rE': 1.0} pP {u'm\\xe2Z\\xe2': 1.0} ppMS {u'm\\xe2Ze': 1.0} ppMP {u'm\\xe2Ze': 1.0} ppFS {u'm\\xe2Ze': 1.0} ppFP {u'm\\xe2Ze': 1.0} ai1S {u'm\\xe2ZE': 1.0} ai2S {u'm\\xe2Za': 1.0} ai3S {u'm\\xe2Za': 1.0} ai1P {u'm\\xe2Zam': 1.0} ai2P {u'm\\xe2Zat': 1.0} ai3P {u'm\\xe2ZEr': 1.0} is1S {u'm\\xe2Zas': 1.0} is2S {u'm\\xe2Zas': 1.0} is3S {u'm\\xe2Za': 1.0} is1P {u'm\\xe2Zasj\\xf4': 1.0} is2P {u'm\\xe2Zasje': 1.0} is3P {u'm\\xe2Zas': 1.0}\n",
      "\n",
      "is1P mâZasjô\n",
      "inf {u'm\\xe2Ze': 1.0} pi1S {u'm\\xe2Z': 1.0} pi2S {u'm\\xe2Z': 1.0} pi3S {u'm\\xe2Z': 1.0} pi1P {u'm\\xe2Z\\xf4': 1.0} pi2P {u'm\\xe2Ze': 1.0} pi3P {u'm\\xe2Z': 1.0} ii1S {u'm\\xe2ZE': 1.0} ii2S {u'm\\xe2ZE': 1.0} ii3S {u'm\\xe2ZE': 1.0} ii1P {u'm\\xe2Zj\\xf4': 1.0} ii2P {u'm\\xe2Zje': 1.0} ii3P {u'm\\xe2ZE': 1.0} fi1S {u'm\\xe2Z6rE': 1.0} fi2S {u'm\\xe2Z6ra': 1.0} fi3S {u'm\\xe2Z6ra': 1.0} fi1P {u'm\\xe2Z6r\\xf4': 1.0} fi2P {u'm\\xe2Z6re': 1.0} fi3P {u'm\\xe2Z6r\\xf4': 1.0} pI2S {u'm\\xe2Z': 1.0} pI1P {u'm\\xe2Z\\xf4': 1.0} pI2P {u'm\\xe2Ze': 1.0} ps1S {u'm\\xe2Z': 1.0} ps2S {u'm\\xe2Z': 1.0} ps3S {u'm\\xe2Z': 1.0} ps1P {u'm\\xe2Zj\\xf4': 1.0} ps2P {u'm\\xe2Zje': 1.0} ps3P {u'm\\xe2Z': 1.0} pc1S {u'm\\xe2Z6rE': 1.0} pc2S {u'm\\xe2Z6rE': 1.0} pc3S {u'm\\xe2Z6rE': 1.0} pc1P {u'm\\xe2Z6rj\\xf4': 1.0} pc2P {u'm\\xe2Z6rje': 1.0} pc3P {u'm\\xe2Z6rE': 1.0} pP {u'm\\xe2Z\\xe2': 1.0} ppMS {u'm\\xe2Ze': 1.0} ppMP {u'm\\xe2Ze': 1.0} ppFS {u'm\\xe2Ze': 1.0} ppFP {u'm\\xe2Ze': 1.0} ai1S {u'm\\xe2ZE': 1.0} ai2S {u'm\\xe2Za': 1.0} ai3S {u'm\\xe2Za': 1.0} ai1P {u'm\\xe2Zam': 1.0} ai2P {u'm\\xe2Zat': 1.0} ai3P {u'm\\xe2ZEr': 1.0} is1S {u'm\\xe2Zas': 1.0} is2S {u'm\\xe2Zas': 1.0} is3S {u'm\\xe2Za': 1.0} is1P {u'm\\xe2Zasj\\xf4': 1.0} is2P {u'm\\xe2Zasje': 1.0} is3P {u'm\\xe2Zas': 1.0}\n",
      "\n",
      "is2P mâZasje\n",
      "inf {u'm\\xe2Ze': 1.0} pi1S {u'm\\xe2Z': 1.0} pi2S {u'm\\xe2Z': 1.0} pi3S {u'm\\xe2Z': 1.0} pi1P {u'm\\xe2Z\\xf4': 1.0} pi2P {u'm\\xe2Ze': 1.0} pi3P {u'm\\xe2Z': 1.0} ii1S {u'm\\xe2ZE': 1.0} ii2S {u'm\\xe2ZE': 1.0} ii3S {u'm\\xe2ZE': 1.0} ii1P {u'm\\xe2Zj\\xf4': 1.0} ii2P {u'm\\xe2Zje': 1.0} ii3P {u'm\\xe2ZE': 1.0} fi1S {u'm\\xe2Z6rE': 1.0} fi2S {u'm\\xe2Z6ra': 1.0} fi3S {u'm\\xe2Z6ra': 1.0} fi1P {u'm\\xe2Z6r\\xf4': 1.0} fi2P {u'm\\xe2Z6re': 1.0} fi3P {u'm\\xe2Z6r\\xf4': 1.0} pI2S {u'm\\xe2Z': 1.0} pI1P {u'm\\xe2Z\\xf4': 1.0} pI2P {u'm\\xe2Ze': 1.0} ps1S {u'm\\xe2Z': 1.0} ps2S {u'm\\xe2Z': 1.0} ps3S {u'm\\xe2Z': 1.0} ps1P {u'm\\xe2Zj\\xf4': 1.0} ps2P {u'm\\xe2Zje': 1.0} ps3P {u'm\\xe2Z': 1.0} pc1S {u'm\\xe2Z6rE': 1.0} pc2S {u'm\\xe2Z6rE': 1.0} pc3S {u'm\\xe2Z6rE': 1.0} pc1P {u'm\\xe2Z6rj\\xf4': 1.0} pc2P {u'm\\xe2Z6rje': 1.0} pc3P {u'm\\xe2Z6rE': 1.0} pP {u'm\\xe2Z\\xe2': 1.0} ppMS {u'm\\xe2Ze': 1.0} ppMP {u'm\\xe2Ze': 1.0} ppFS {u'm\\xe2Ze': 1.0} ppFP {u'm\\xe2Ze': 1.0} ai1S {u'm\\xe2ZE': 1.0} ai2S {u'm\\xe2Za': 1.0} ai3S {u'm\\xe2Za': 1.0} ai1P {u'm\\xe2Zam': 1.0} ai2P {u'm\\xe2Zat': 1.0} ai3P {u'm\\xe2ZEr': 1.0} is1S {u'm\\xe2Zas': 1.0} is2S {u'm\\xe2Zas': 1.0} is3S {u'm\\xe2Za': 1.0} is1P {u'm\\xe2Zasj\\xf4': 1.0} is2P {u'm\\xe2Zasje': 1.0} is3P {u'm\\xe2Zas': 1.0}\n",
      "\n",
      "is3P mâZas\n",
      "inf {u'm\\xe2Ze': 1.0} pi1S {u'm\\xe2Z': 1.0} pi2S {u'm\\xe2Z': 1.0} pi3S {u'm\\xe2Z': 1.0} pi1P {u'm\\xe2Z\\xf4': 1.0} pi2P {u'm\\xe2Ze': 1.0} pi3P {u'm\\xe2Z': 1.0} ii1S {u'm\\xe2ZE': 1.0} ii2S {u'm\\xe2ZE': 1.0} ii3S {u'm\\xe2ZE': 1.0} ii1P {u'm\\xe2Zj\\xf4': 1.0} ii2P {u'm\\xe2Zje': 1.0} ii3P {u'm\\xe2ZE': 1.0} fi1S {u'm\\xe2Z6rE': 1.0} fi2S {u'm\\xe2Z6ra': 1.0} fi3S {u'm\\xe2Z6ra': 1.0} fi1P {u'm\\xe2Z6r\\xf4': 1.0} fi2P {u'm\\xe2Z6re': 1.0} fi3P {u'm\\xe2Z6r\\xf4': 1.0} pI2S {u'm\\xe2Z': 1.0} pI1P {u'm\\xe2Z\\xf4': 1.0} pI2P {u'm\\xe2Ze': 1.0} ps1S {u'm\\xe2Z': 1.0} ps2S {u'm\\xe2Z': 1.0} ps3S {u'm\\xe2Z': 1.0} ps1P {u'm\\xe2Zj\\xf4': 1.0} ps2P {u'm\\xe2Zje': 1.0} ps3P {u'm\\xe2Z': 1.0} pc1S {u'm\\xe2Z6rE': 1.0} pc2S {u'm\\xe2Z6rE': 1.0} pc3S {u'm\\xe2Z6rE': 1.0} pc1P {u'm\\xe2Z6rj\\xf4': 1.0} pc2P {u'm\\xe2Z6rje': 1.0} pc3P {u'm\\xe2Z6rE': 1.0} pP {u'm\\xe2Z\\xe2': 1.0} ppMS {u'm\\xe2Ze': 1.0} ppMP {u'm\\xe2Ze': 1.0} ppFS {u'm\\xe2Ze': 1.0} ppFP {u'm\\xe2Ze': 1.0} ai1S {u'm\\xe2ZE': 1.0} ai2S {u'm\\xe2Za': 1.0} ai3S {u'm\\xe2Za': 1.0} ai1P {u'm\\xe2Zam': 1.0} ai2P {u'm\\xe2Zat': 1.0} ai3P {u'm\\xe2ZEr': 1.0} is1S {u'm\\xe2Zas': 1.0} is2S {u'm\\xe2Zas': 1.0} is3S {u'm\\xe2Za': 1.0} is1P {u'm\\xe2Zasj\\xf4': 1.0} is2P {u'm\\xe2Zasje': 1.0} is3P {u'm\\xe2Zas': 1.0}\n",
      "\n"
     ]
    }
   ],
   "source": [
    "#%%time\n",
    "for forme in listeCases:\n",
    "    if not pd.isnull(paradigmes[paradigmes[\"lexeme\"]==lexemeTest][forme].iloc[0]):\n",
    "        depart=paradigmes[paradigmes[\"lexeme\"]==lexemeTest][forme].iloc[0]\n",
    "        print forme,depart\n",
    "        if depart!=\"nan\":\n",
    "            for case in listeCases:\n",
    "                print case,\n",
    "                if not isinstance(resultatsLecture[(forme, case)],str):\n",
    "                    print resultatsLecture[(forme, case)].sortirForme(depart),\n",
    "            print\n",
    "            print"
   ]
  },
  {
   "cell_type": "code",
   "execution_count": 104,
   "metadata": {
    "collapsed": false
   },
   "outputs": [
    {
     "data": {
      "text/plain": [
       "{u'-a': u'^(.*[ptkbdgfsSvzZmnJjlrwHiyEe926auOo\\xea\\xfb\\xe2\\xf4][ptkbdgfsSvzZjrwHiyEe926auOo])r$',\n",
       " u'6..e-E..6ra': u'^s6vre$',\n",
       " u'6.e-E.6ra': u'^(.*[ptkbdgfsSvzZmnJjlr])6([ptbdfsvzmnlr])e$',\n",
       " u'6ni.-j\\xead.a': u'^(.*[ptbdfsvz])6nir$',\n",
       " u'E.-6.a': u'^(.*)fEr$',\n",
       " u'Et.-s6.a': u'^Etr$',\n",
       " u'ale-ira': u'^(.*)ale$',\n",
       " u'alw.r-Odr.': u'^(.*[fv])alwar$',\n",
       " u'avwar-Ora': u'^(.*)avwar$',\n",
       " u'e-6ra': u'^(.*[ptkbdgfsSvzZmnJjlrwHiyEe926auOo\\xea\\xfb\\xe2\\xf4][ptkbdgfsSvzZmnJjlr])e$',\n",
       " u'e-ra': u'^(.*[iyEe926uOo])e$',\n",
       " u'i.-6.a': u'^(.*[ptkfsS][E6a])jir$',\n",
       " u'ir-ra': u'^(.*[pkbgmJ][iyEe926uOo])rir$',\n",
       " u'je-ira': u'^(.*[ptkbdgfsSvzZmnJjlrE6\\xea])je$',\n",
       " u'je-ra': u'^(.*[ptkbdgfsSvzZmnJjlrwH][Ea])je$',\n",
       " u'lw.r-dr.': u'^(.*)vulwar$',\n",
       " u'vwar-ra': u'^puvwar$',\n",
       " u'w.r-r.': u'^(.*[ptbdfsvzmnl][6uOo])vwar$',\n",
       " u'wa.-jE.a': u'^(.*)swar$',\n",
       " u'waje-Era': u'^(.*)\\xe2vwaje$',\n",
       " u'war-Era': u'^(.*)vwar$'}"
      ]
     },
     "execution_count": 104,
     "metadata": {},
     "output_type": "execute_result"
    }
   ],
   "source": [
    "resultatsLecture[('inf','fi3S')].patrons"
   ]
  },
  {
   "cell_type": "code",
   "execution_count": 80,
   "metadata": {
    "collapsed": false
   },
   "outputs": [
    {
     "data": {
      "text/plain": [
       "333819"
      ]
     },
     "execution_count": 80,
     "metadata": {},
     "output_type": "execute_result"
    }
   ],
   "source": [
    "paradigmes.stack().value_counts(dropna=True).sum()"
   ]
  },
  {
   "cell_type": "code",
   "execution_count": null,
   "metadata": {
    "collapsed": false
   },
   "outputs": [],
   "source": [
    "#paradigmes[paradigmes[\"lexeme\"]==u\"cuire\"].stack().value_counts(dropna=True).sum()\n",
    "paradigmes[paradigmes[\"lexeme\"]==u\"dépendre\"].stack()"
   ]
  },
  {
   "cell_type": "code",
   "execution_count": null,
   "metadata": {
    "collapsed": true
   },
   "outputs": [],
   "source": []
  }
 ],
 "metadata": {
  "kernelspec": {
   "display_name": "Python 2",
   "language": "python",
   "name": "python2"
  },
  "language_info": {
   "codemirror_mode": {
    "name": "ipython",
    "version": 2
   },
   "file_extension": ".py",
   "mimetype": "text/x-python",
   "name": "python",
   "nbconvert_exporter": "python",
   "pygments_lexer": "ipython2",
   "version": "2.7.10"
  }
 },
 "nbformat": 4,
 "nbformat_minor": 0
}
