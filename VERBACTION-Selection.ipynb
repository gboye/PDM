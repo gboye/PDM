{
 "cells": [
  {
   "cell_type": "markdown",
   "metadata": {},
   "source": [
    "## Importations\n",
    "- codecs pour les encodages\n",
    "- pandas et numpy pour les calculs sur tableaux\n",
    "- matplotlib pour les graphiques\n",
    "- itertools pour les itérateurs sophistiqués (paires sur liste, ...)"
   ]
  },
  {
   "cell_type": "code",
   "execution_count": 2,
   "metadata": {
    "collapsed": false
   },
   "outputs": [],
   "source": [
    "# -*- coding: utf8 -*-\n",
    "import codecs\n",
    "import re\n",
    "import csv\n",
    "import numpy as np\n",
    "import matplotlib.pyplot as plt\n",
    "import itertools as it\n",
    "debug=0"
   ]
  },
  {
   "cell_type": "markdown",
   "metadata": {},
   "source": [
    "# Préparation du lexique"
   ]
  },
  {
   "cell_type": "code",
   "execution_count": 3,
   "metadata": {
    "collapsed": true
   },
   "outputs": [],
   "source": [
    "fichierVerbAction='/Users/gilles/Copy/Recherche/Boye/2015-Data/Verbaction-1.0/Verbaction-1.0.xml'"
   ]
  },
  {
   "cell_type": "code",
   "execution_count": 4,
   "metadata": {
    "collapsed": true
   },
   "outputs": [],
   "source": [
    "import xml.etree.ElementTree as etree\n",
    "verbAction = etree.parse(fichierVerbAction)"
   ]
  },
  {
   "cell_type": "code",
   "execution_count": 5,
   "metadata": {
    "collapsed": true
   },
   "outputs": [],
   "source": [
    "actions=verbAction.getroot()"
   ]
  },
  {
   "cell_type": "code",
   "execution_count": 6,
   "metadata": {
    "collapsed": true
   },
   "outputs": [],
   "source": [
    "nomLexique=\"/Users/gilles/Copy/Python/phonemisation/bdlexique-PDM-Resync2.txt\"\n",
    "with codecs.open(nomLexique, 'r',encoding='utf8') as infile:\n",
    "    bdlexique=infile.readlines()"
   ]
  },
  {
   "cell_type": "code",
   "execution_count": 7,
   "metadata": {
    "collapsed": true
   },
   "outputs": [],
   "source": [
    "#filtreParticipeFS = re.compile(\"^[^;]*;[^;]*;[^;]*;K;FS;pp;.*\")\n",
    "filtreParticipeFS = re.compile(\"^[^;]*;[^;]*;[^;]*;[^;]*;FS;pp;.*\")"
   ]
  },
  {
   "cell_type": "code",
   "execution_count": 8,
   "metadata": {
    "collapsed": false
   },
   "outputs": [],
   "source": [
    "participesFS=set(part.split(\";\")[0] for part in filter(filtreParticipeFS.match, bdlexique))"
   ]
  },
  {
   "cell_type": "code",
   "execution_count": null,
   "metadata": {
    "collapsed": true
   },
   "outputs": [],
   "source": [
    "partConversions={}\n",
    "#for entry in actions.iter('couple'):\n",
    "for entry in actions.findall('.//couple'):\n",
    "    nom=entry.find(\"noun\").find(\"lemma\").text\n",
    "    verbe=entry.find(\"verb\").find(\"lemma\").text\n",
    "#    if entry.find('noun[tag=\"Ncfs\"]') is not None and filtreNomFS.match(nom) is None:\n",
    "    if entry.find('noun[tag=\"Ncfs\"]') is not None and nom in participesFS:\n",
    "        if not nom in partConversions:\n",
    "            partConversions[nom]=verbe\n",
    "        else:\n",
    "            print \"choisissez entre (1) %s-%s\"%(nom,verbe), \"et (2) %s-%s\"%(nom, partConversions[nom])\n",
    "            choix=raw_input(\"votre choix : \")\n",
    "            if choix==\"1\":\n",
    "                partConversions[nom]=verbe\n",
    "            elif choix!=\"2\":\n",
    "                print \"mauvais choix\""
   ]
  },
  {
   "cell_type": "code",
   "execution_count": 19,
   "metadata": {
    "collapsed": false,
    "scrolled": true
   },
   "outputs": [
    {
     "name": "stdout",
     "output_type": "stream",
     "text": [
      "106\n"
     ]
    },
    {
     "data": {
      "text/plain": [
       "{'agonie': 'agoniser',\n",
       " u'all\\xe9e': 'aller',\n",
       " u'arriv\\xe9e': 'arriver',\n",
       " 'atteinte': 'atteindre',\n",
       " u'avanc\\xe9e': 'avancer',\n",
       " 'battue': 'battre',\n",
       " u'bram\\xe9e': 'bramer',\n",
       " u'branl\\xe9e': 'branler',\n",
       " u'bris\\xe9e': 'briser',\n",
       " 'conduite': 'conduire',\n",
       " 'contrainte': 'contraindre',\n",
       " u'coul\\xe9e': 'couler',\n",
       " u'couv\\xe9e': 'couver',\n",
       " u'cri\\xe9e': 'crier',\n",
       " 'cueillie': 'cueillir',\n",
       " 'cuite': 'cuire',\n",
       " u'dict\\xe9e': 'dicter',\n",
       " u'd\\xe9couverte': u'd\\xe9couvrir',\n",
       " u'd\\xe9faite': u'd\\xe9faire',\n",
       " u'd\\xe9partie': u'd\\xe9partir',\n",
       " u'd\\xe9prise': u'd\\xe9prendre',\n",
       " u'd\\xe9rouill\\xe9e': u'd\\xe9rouiller',\n",
       " u'embard\\xe9e': 'embarder',\n",
       " u'empil\\xe9e': 'empiler',\n",
       " 'entremise': 'entremettre',\n",
       " 'entreprise': 'entreprendre',\n",
       " u'entr\\xe9e': 'entrer',\n",
       " u'envol\\xe9e': 'envoler',\n",
       " u'fauch\\xe9e': 'faucher',\n",
       " 'feinte': 'feindre',\n",
       " u'fess\\xe9e': 'fesser',\n",
       " u'flamb\\xe9e': 'flamber',\n",
       " u'fray\\xe9e': 'frayer',\n",
       " u'frein\\xe9e': 'freiner',\n",
       " u'galop\\xe9e': 'galoper',\n",
       " 'garantie': 'garantir',\n",
       " u'grimp\\xe9e': 'grimper',\n",
       " u'gueul\\xe9e': 'gueuler',\n",
       " u'happ\\xe9e': 'happer',\n",
       " u'hu\\xe9e': 'huer',\n",
       " u'jet\\xe9e': 'jeter',\n",
       " u'lap\\xe9e': 'laper',\n",
       " u'lev\\xe9e': 'lever',\n",
       " 'mise': 'mettre',\n",
       " u'mont\\xe9e': 'monter',\n",
       " u'm\\xe9conduite': u'm\\xe9conduire',\n",
       " u'm\\xe9prise': u'm\\xe9prendre',\n",
       " u'm\\xeal\\xe9e': u'm\\xealer',\n",
       " u'nivel\\xe9e': 'niveler',\n",
       " u'pass\\xe9e': 'passer',\n",
       " u'pav\\xe9e': 'paver',\n",
       " u'pens\\xe9e': 'penser',\n",
       " u'perc\\xe9e': 'percer',\n",
       " u'pes\\xe9e': 'peser',\n",
       " u'pi\\xe9g\\xe9e': u'pi\\xe9ger',\n",
       " 'plainte': 'plaindre',\n",
       " u'plong\\xe9e': 'plonger',\n",
       " u'plum\\xe9e': 'plumer',\n",
       " u'port\\xe9e': 'porter',\n",
       " u'pouss\\xe9e': 'pousser',\n",
       " 'prise': 'prendre',\n",
       " u'pris\\xe9e': 'priser',\n",
       " 'reconduite': 'reconduire',\n",
       " 'redite': 'redire',\n",
       " u'red\\xe9couverte': u'red\\xe9couvrir',\n",
       " 'remise': 'remettre',\n",
       " u'remont\\xe9e': 'remonter',\n",
       " u'rentr\\xe9e': 'rentrer',\n",
       " 'repartie': 'repartir',\n",
       " u'replong\\xe9e': 'replonger',\n",
       " 'reprise': 'reprendre',\n",
       " 'retenue': 'retenir',\n",
       " u'retomb\\xe9e': 'retomber',\n",
       " 'retraite': 'retraire',\n",
       " 'revenue': 'revenir',\n",
       " 'revue': 'revoir',\n",
       " u'ross\\xe9e': 'rosser',\n",
       " u'ru\\xe9e': 'ruer',\n",
       " u'r\\xe9treinte': u'r\\xe9treindre',\n",
       " u'saboul\\xe9e': 'sabouler',\n",
       " u'saign\\xe9e': 'saigner',\n",
       " 'saillie': 'saillir',\n",
       " 'saisie': 'saisir',\n",
       " u'secou\\xe9e': 'secouer',\n",
       " u'seringu\\xe9e': 'seringuer',\n",
       " 'sortie': 'sortir',\n",
       " u'souqu\\xe9e': 'souquer',\n",
       " 'surprise': 'surprendre',\n",
       " 'survenue': 'survenir',\n",
       " u'su\\xe9e': 'suer',\n",
       " u'tabass\\xe9e': 'tabasser',\n",
       " 'tenue': 'tenir',\n",
       " u'tomb\\xe9e': 'tomber',\n",
       " u'torch\\xe9e': 'torcher',\n",
       " u'tourn\\xe9e': 'tourner',\n",
       " 'traite': 'traire',\n",
       " u'travers\\xe9e': 'traverser',\n",
       " u'tra\\xeen\\xe9e': u'tra\\xeener',\n",
       " u't\\xe9t\\xe9e': u't\\xe9ter',\n",
       " u'veill\\xe9e': 'veiller',\n",
       " 'venue': 'venir',\n",
       " u'vis\\xe9e': 'viser',\n",
       " u'vol\\xe9e': 'voler',\n",
       " 'vue': 'voir',\n",
       " u'\\xe9chapp\\xe9e': u'\\xe9chapper',\n",
       " u'\\xe9treinte': u'\\xe9treindre'}"
      ]
     },
     "execution_count": 19,
     "metadata": {},
     "output_type": "execute_result"
    }
   ],
   "source": [
    "print len(partConversions)\n",
    "partConversions"
   ]
  },
  {
   "cell_type": "code",
   "execution_count": 21,
   "metadata": {
    "collapsed": false
   },
   "outputs": [
    {
     "name": "stdout",
     "output_type": "stream",
     "text": [
      "1 montée monter\n",
      "2 couvée couver\n",
      "3 souquée souquer\n",
      "4 frayée frayer\n",
      "5 tombée tomber\n",
      "6 échappée échapper\n",
      "7 allée aller\n",
      "8 poussée pousser\n",
      "9 galopée galoper\n",
      "10 jetée jeter\n",
      "11 battue battre\n",
      "12 bramée bramer\n",
      "13 découverte découvrir\n",
      "14 prisée priser\n",
      "15 saillie saillir\n",
      "16 feinte feindre\n",
      "17 tabassée tabasser\n",
      "18 seringuée seringuer\n",
      "19 empilée empiler\n",
      "20 retraite retraire\n",
      "21 agonie agoniser\n",
      "22 secouée secouer\n",
      "23 rétreinte rétreindre\n",
      "24 défaite défaire\n",
      "25 remontée remonter\n",
      "26 retenue retenir\n",
      "27 dérouillée dérouiller\n",
      "28 cueillie cueillir\n",
      "29 pesée peser\n",
      "30 venue venir\n",
      "31 veillée veiller\n",
      "32 arrivée arriver\n",
      "33 saboulée sabouler\n",
      "34 lapée laper\n",
      "35 torchée torcher\n",
      "36 traite traire\n",
      "37 huée huer\n",
      "38 avancée avancer\n",
      "39 coulée couler\n",
      "40 ruée ruer\n",
      "41 criée crier\n",
      "42 reconduite reconduire\n",
      "43 remise remettre\n",
      "44 rossée rosser\n",
      "45 percée percer\n",
      "46 saisie saisir\n",
      "47 fauchée faucher\n",
      "48 surprise surprendre\n",
      "49 brisée briser\n",
      "50 tournée tourner\n",
      "51 plumée plumer\n",
      "52 tenue tenir\n",
      "53 traînée traîner\n",
      "54 vue voir\n",
      "55 saignée saigner\n",
      "56 envolée envoler\n",
      "57 volée voler\n",
      "58 revenue revenir\n",
      "59 mise mettre\n",
      "60 gueulée gueuler\n",
      "61 entreprise entreprendre\n",
      "62 branlée branler\n",
      "63 départie départir\n",
      "64 happée happer\n",
      "65 survenue survenir\n",
      "66 entrée entrer\n",
      "67 cuite cuire\n",
      "68 méprise méprendre\n",
      "69 étreinte étreindre\n",
      "70 conduite conduire\n",
      "71 portée porter\n",
      "72 revue revoir\n",
      "73 garantie garantir\n",
      "74 sortie sortir\n",
      "75 nivelée niveler\n",
      "76 méconduite méconduire\n",
      "77 plongée plonger\n",
      "78 atteinte atteindre\n",
      "79 redécouverte redécouvrir\n",
      "80 entremise entremettre\n",
      "81 fessée fesser\n",
      "82 flambée flamber\n",
      "83 contrainte contraindre\n",
      "84 repartie repartir\n",
      "85 retombée retomber\n",
      "86 tétée téter\n",
      "87 rentrée rentrer\n",
      "88 déprise déprendre\n",
      "89 suée suer\n",
      "90 grimpée grimper\n",
      "91 pavée paver\n",
      "92 freinée freiner\n",
      "93 pensée penser\n",
      "94 prise prendre\n",
      "95 visée viser\n",
      "96 embardée embarder\n",
      "97 dictée dicter\n",
      "98 reprise reprendre\n",
      "99 passée passer\n",
      "100 mêlée mêler\n",
      "101 levée lever\n",
      "102 replongée replonger\n",
      "103 redite redire\n",
      "104 plainte plaindre\n",
      "105 piégée piéger\n",
      "106 traversée traverser\n"
     ]
    }
   ],
   "source": [
    "w = csv.writer(open(\"/Users/gilles/Copy/Recherche/Boye/2015-Data/Verbaction-PartConv.csv\", \"w\"))\n",
    "n=0\n",
    "for key, val in partConversions.items():\n",
    "    w.writerow([key.encode(\"utf8\"), val.encode(\"utf8\")])\n",
    "    n+=1\n",
    "    print n,key, val"
   ]
  }
 ],
 "metadata": {
  "kernelspec": {
   "display_name": "Python 2",
   "language": "python",
   "name": "python2"
  },
  "language_info": {
   "codemirror_mode": {
    "name": "ipython",
    "version": 2
   },
   "file_extension": ".py",
   "mimetype": "text/x-python",
   "name": "python",
   "nbconvert_exporter": "python",
   "pygments_lexer": "ipython2",
   "version": "2.7.11"
  }
 },
 "nbformat": 4,
 "nbformat_minor": 0
}
