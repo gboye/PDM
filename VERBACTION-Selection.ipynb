{
 "cells": [
  {
   "cell_type": "markdown",
   "metadata": {},
   "source": [
    "##Importations\n",
    "- codecs pour les encodages\n",
    "- pandas et numpy pour les calculs sur tableaux\n",
    "- matplotlib pour les graphiques\n",
    "- itertools pour les itérateurs sophistiqués (paires sur liste, ...)"
   ]
  },
  {
   "cell_type": "code",
   "execution_count": 1,
   "metadata": {
    "collapsed": false
   },
   "outputs": [],
   "source": [
    "# -*- coding: utf8 -*-\n",
    "import codecs\n",
    "import re\n",
    "import csv\n",
    "import numpy as np\n",
    "import matplotlib.pyplot as plt\n",
    "import itertools as it\n",
    "debug=0"
   ]
  },
  {
   "cell_type": "markdown",
   "metadata": {},
   "source": [
    "#Préparation du lexique"
   ]
  },
  {
   "cell_type": "code",
   "execution_count": 2,
   "metadata": {
    "collapsed": true
   },
   "outputs": [],
   "source": [
    "fichierVerbAction='/Users/gilles/Copy/Recherche/Boye/2015-Data/Verbaction-1.0/Verbaction-1.0.xml'"
   ]
  },
  {
   "cell_type": "code",
   "execution_count": 3,
   "metadata": {
    "collapsed": true
   },
   "outputs": [],
   "source": [
    "import xml.etree.ElementTree as etree\n",
    "verbAction = etree.parse(fichierVerbAction)"
   ]
  },
  {
   "cell_type": "code",
   "execution_count": 75,
   "metadata": {
    "collapsed": true
   },
   "outputs": [],
   "source": [
    "actions=verbAction.getroot()"
   ]
  },
  {
   "cell_type": "code",
   "execution_count": 82,
   "metadata": {
    "collapsed": true
   },
   "outputs": [],
   "source": [
    "nomLexique=\"/Users/gilles/Copy/Python/phonemisation/bdlexique-PDM-Resync.txt\"\n",
    "with codecs.open(nomLexique, 'r',encoding='utf8') as infile:\n",
    "    bdlexique=infile.readlines()"
   ]
  },
  {
   "cell_type": "code",
   "execution_count": 89,
   "metadata": {
    "collapsed": true
   },
   "outputs": [],
   "source": [
    "#filtreParticipeFS = re.compile(\"^[^;]*;[^;]*;[^;]*;K;FS;pp;.*\")\n",
    "filtreParticipeFS = re.compile(\"^[^;]*;[^;]*;[^;]*;[^;]*;FS;pp;.*\")"
   ]
  },
  {
   "cell_type": "code",
   "execution_count": 87,
   "metadata": {
    "collapsed": false
   },
   "outputs": [],
   "source": [
    "participesFS=set(part.split(\";\")[0] for part in filter(filtreParticipeFS.match, bdlexique))"
   ]
  },
  {
   "cell_type": "code",
   "execution_count": 100,
   "metadata": {
    "collapsed": false,
    "scrolled": true
   },
   "outputs": [
    {
     "name": "stdout",
     "output_type": "stream",
     "text": [
      "choisissez entre (1) cuite-cuiter et (2) cuite-cuire\n",
      "votre choix : 2\n",
      "choisissez entre (1) feinte-feinter et (2) feinte-feindre\n",
      "votre choix : 2\n",
      "choisissez entre (1) mise-miser et (2) mise-mettre\n",
      "votre choix : 2\n",
      "choisissez entre (1) reprise-repriser et (2) reprise-reprendre\n",
      "votre choix : 2\n",
      "choisissez entre (1) retraite-retraire et (2) retraite-retirer\n",
      "votre choix : 1\n"
     ]
    }
   ],
   "source": [
    "partConversions={}\n",
    "#for entry in actions.iter('couple'):\n",
    "for entry in actions.findall('.//couple'):\n",
    "    nom=entry.find(\"noun\").find(\"lemma\").text\n",
    "    verbe=entry.find(\"verb\").find(\"lemma\").text\n",
    "#    if entry.find('noun[tag=\"Ncfs\"]') is not None and filtreNomFS.match(nom) is None:\n",
    "    if entry.find('noun[tag=\"Ncfs\"]') is not None and nom in participesFS:\n",
    "        if not nom in partConversions:\n",
    "            partConversions[nom]=verbe\n",
    "        else:\n",
    "            print \"choisissez entre (1) %s-%s\"%(nom,verbe), \"et (2) %s-%s\"%(nom, partConversions[nom])\n",
    "            choix=raw_input(\"votre choix : \")\n",
    "            if choix==\"1\":\n",
    "                partConversions[nom]=verbe\n",
    "            elif choix!=\"2\":\n",
    "                print \"mauvais choix\"\n",
    "#partConversions"
   ]
  }
 ],
 "metadata": {
  "kernelspec": {
   "display_name": "Python 2",
   "language": "python",
   "name": "python2"
  },
  "language_info": {
   "codemirror_mode": {
    "name": "ipython",
    "version": 2
   },
   "file_extension": ".py",
   "mimetype": "text/x-python",
   "name": "python",
   "nbconvert_exporter": "python",
   "pygments_lexer": "ipython2",
   "version": "2.7.10"
  }
 },
 "nbformat": 4,
 "nbformat_minor": 0
}
