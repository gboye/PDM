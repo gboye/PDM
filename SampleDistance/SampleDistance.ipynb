{
 "cells": [
  {
   "cell_type": "code",
   "execution_count": 38,
   "metadata": {
    "collapsed": true
   },
   "outputs": [],
   "source": [
    "import numpy as np\n",
    "import pandas as pd\n",
    "import random as rd\n",
    "import glob,pickle"
   ]
  },
  {
   "cell_type": "code",
   "execution_count": 25,
   "metadata": {},
   "outputs": [],
   "source": [
    "def distanceColonnes(c1,c2):\n",
    "    c1Norme=np.linalg.norm(c1)\n",
    "    c2Norme=np.linalg.norm(c2)\n",
    "    c1c2Dot=np.dot(c1,c2)\n",
    "    return 1-c1c2Dot/c1Norme/c2Norme"
   ]
  },
  {
   "cell_type": "markdown",
   "metadata": {},
   "source": [
    "# Tests hors lexique pour la distance"
   ]
  },
  {
   "cell_type": "code",
   "execution_count": 145,
   "metadata": {},
   "outputs": [
    {
     "data": {
      "text/plain": [
       "41.168861741872554"
      ]
     },
     "execution_count": 145,
     "metadata": {},
     "output_type": "execute_result"
    }
   ],
   "source": [
    "distances=[]\n",
    "angles=[]\n",
    "dimension=70000\n",
    "for x in range(200):\n",
    "    x1=[rd.randint(1,200) for i in range(dimension)]\n",
    "    x2=[rd.randint(1,100) for i in range(dimension)]\n",
    "    data={\"x1\":x1,\"x2\":x2}\n",
    "    df=pd.DataFrame(data)\n",
    "    distance=distanceColonnes(df[\"x1\"],df[\"x2\"])\n",
    "    distances.append(distance)\n",
    "    angles.append(np.degrees(np.arccos(1-distance)))\n",
    "np.mean(angles)"
   ]
  },
  {
   "cell_type": "code",
   "execution_count": 30,
   "metadata": {},
   "outputs": [],
   "source": [
    "listeTirages=glob.glob(\"/Users/gilles/Box Sync/2015-Data/*-Tirage.pkl\")"
   ]
  },
  {
   "cell_type": "code",
   "execution_count": 31,
   "metadata": {
    "collapsed": true
   },
   "outputs": [],
   "source": [
    "def tiragesNom(nom):\n",
    "    result=[tirage for tirage in listeTirages if nom in tirage]\n",
    "    return result"
   ]
  },
  {
   "cell_type": "code",
   "execution_count": 36,
   "metadata": {
    "collapsed": true
   },
   "outputs": [],
   "source": [
    "def lireLexique(nomLexique):\n",
    "    try:\n",
    "        with open(nomLexique, 'rb') as input:\n",
    "            lexique=pickle.load(input)\n",
    "    except:\n",
    "        lexique=None\n",
    "    return lexique"
   ]
  },
  {
   "cell_type": "code",
   "execution_count": 146,
   "metadata": {},
   "outputs": [
    {
     "name": "stdout",
     "output_type": "stream",
     "text": [
      "['/Users/gilles/Box Sync/2015-Data/MGC-170506-1Ko-33-Tirage.pkl', '/Users/gilles/Box Sync/2015-Data/MGC-170504-1Mo-03-Tirage.pkl']\n",
      "0.0555001426935 19.1784742334\n",
      "['/Users/gilles/Box Sync/2015-Data/MGC-170506-1Ko-40-Tirage.pkl', '/Users/gilles/Box Sync/2015-Data/MGC-170506-10Ko-30-Tirage.pkl']\n",
      "0.0613393400209 20.1721653607\n",
      "['/Users/gilles/Box Sync/2015-Data/MGC-170506-10Ko-23-Tirage.pkl', '/Users/gilles/Box Sync/2015-Data/MGC-170430-00-20Mo-Tirage.pkl']\n",
      "0.00518559666896 5.83747252193\n",
      "['/Users/gilles/Box Sync/2015-Data/MGC-170330-00-100Ko-Tirage.pkl', '/Users/gilles/Box Sync/2015-Data/MGC-170504-1Mo-03-Tirage.pkl']\n",
      "0.0105492478033 8.32972968228\n",
      "['/Users/gilles/Box Sync/2015-Data/MGC-170506-1Ko-46-Tirage.pkl', '/Users/gilles/Box Sync/2015-Data/MGC-170506-10Ko-06-Tirage.pkl']\n",
      "0.0601754068497 19.9778800395\n",
      "['/Users/gilles/Box Sync/2015-Data/MGC-170506-1Ko-32-Tirage.pkl', '/Users/gilles/Box Sync/2015-Data/MGC-170504-1Mo-05-Tirage.pkl']\n",
      "0.0407927072754 16.4216351485\n",
      "['/Users/gilles/Box Sync/2015-Data/MGC-170506-1Ko-33-Tirage.pkl', '/Users/gilles/Box Sync/2015-Data/MGC-170504-1Mo-44-Tirage.pkl']\n",
      "0.0555328173452 19.184172208\n",
      "['/Users/gilles/Box Sync/2015-Data/MGC-170506-10Ko-46-Tirage.pkl', '/Users/gilles/Box Sync/2015-Data/MGC-170430-00-20000Ko-Tirage.pkl']\n",
      "0.00555681658867 6.04299137738\n",
      "['/Users/gilles/Box Sync/2015-Data/MGC-170504-1Mo-41-Tirage.pkl', '/Users/gilles/Box Sync/2015-Data/MGC-170506-10Ko-46-Tirage.pkl']\n",
      "0.00552747352065 6.02700032092\n"
     ]
    },
    {
     "ename": "TypeError",
     "evalue": "'NoneType' object has no attribute '__getitem__'",
     "output_type": "error",
     "traceback": [
      "\u001b[0;31m---------------------------------------------------------------------------\u001b[0m",
      "\u001b[0;31mTypeError\u001b[0m                                 Traceback (most recent call last)",
      "\u001b[0;32m<ipython-input-146-a560d7a22aae>\u001b[0m in \u001b[0;36m<module>\u001b[0;34m()\u001b[0m\n\u001b[1;32m      4\u001b[0m     \u001b[0mlexiqueA\u001b[0m\u001b[0;34m=\u001b[0m\u001b[0mlireLexique\u001b[0m\u001b[0;34m(\u001b[0m\u001b[0mpaire\u001b[0m\u001b[0;34m[\u001b[0m\u001b[0;36m0\u001b[0m\u001b[0;34m]\u001b[0m\u001b[0;34m)\u001b[0m\u001b[0;34m\u001b[0m\u001b[0m\n\u001b[1;32m      5\u001b[0m     \u001b[0mlexiqueB\u001b[0m\u001b[0;34m=\u001b[0m\u001b[0mlireLexique\u001b[0m\u001b[0;34m(\u001b[0m\u001b[0mpaire\u001b[0m\u001b[0;34m[\u001b[0m\u001b[0;36m1\u001b[0m\u001b[0;34m]\u001b[0m\u001b[0;34m)\u001b[0m\u001b[0;34m\u001b[0m\u001b[0m\n\u001b[0;32m----> 6\u001b[0;31m     \u001b[0mdistance\u001b[0m\u001b[0;34m=\u001b[0m\u001b[0mdistanceColonnes\u001b[0m\u001b[0;34m(\u001b[0m\u001b[0mlexiqueA\u001b[0m\u001b[0;34m[\u001b[0m\u001b[0;34m\"tir1\"\u001b[0m\u001b[0;34m]\u001b[0m\u001b[0;34m,\u001b[0m\u001b[0mlexiqueB\u001b[0m\u001b[0;34m[\u001b[0m\u001b[0;34m\"tir1\"\u001b[0m\u001b[0;34m]\u001b[0m\u001b[0;34m)\u001b[0m\u001b[0;34m\u001b[0m\u001b[0m\n\u001b[0m\u001b[1;32m      7\u001b[0m     \u001b[0;32mprint\u001b[0m \u001b[0mpaire\u001b[0m\u001b[0;34m\u001b[0m\u001b[0m\n\u001b[1;32m      8\u001b[0m     \u001b[0;32mprint\u001b[0m \u001b[0mdistance\u001b[0m\u001b[0;34m,\u001b[0m \u001b[0mnp\u001b[0m\u001b[0;34m.\u001b[0m\u001b[0mdegrees\u001b[0m\u001b[0;34m(\u001b[0m\u001b[0mnp\u001b[0m\u001b[0;34m.\u001b[0m\u001b[0marccos\u001b[0m\u001b[0;34m(\u001b[0m\u001b[0;36m1\u001b[0m\u001b[0;34m-\u001b[0m\u001b[0mdistance\u001b[0m\u001b[0;34m)\u001b[0m\u001b[0;34m)\u001b[0m\u001b[0;34m\u001b[0m\u001b[0m\n",
      "\u001b[0;31mTypeError\u001b[0m: 'NoneType' object has no attribute '__getitem__'"
     ]
    }
   ],
   "source": [
    "for i in range(20):\n",
    "#    paire=rd.sample(tiragesNom(\"200Mo\"),2)\n",
    "    paire=rd.sample(listeTirages,2)\n",
    "    lexiqueA=lireLexique(paire[0])\n",
    "    lexiqueB=lireLexique(paire[1])\n",
    "    distance=distanceColonnes(lexiqueA[\"tir1\"],lexiqueB[\"tir1\"])\n",
    "    print paire\n",
    "    print distance, np.degrees(np.arccos(1-distance))\n",
    "    \n"
   ]
  }
 ],
 "metadata": {
  "kernelspec": {
   "display_name": "Python 2",
   "language": "python",
   "name": "python2"
  },
  "language_info": {
   "codemirror_mode": {
    "name": "ipython",
    "version": 2
   },
   "file_extension": ".py",
   "mimetype": "text/x-python",
   "name": "python",
   "nbconvert_exporter": "python",
   "pygments_lexer": "ipython2",
   "version": "2.7.11"
  }
 },
 "nbformat": 4,
 "nbformat_minor": 1
}
