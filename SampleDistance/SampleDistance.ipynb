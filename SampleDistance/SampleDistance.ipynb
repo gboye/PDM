{
 "cells": [
  {
   "cell_type": "code",
   "execution_count": 48,
   "metadata": {
    "collapsed": true
   },
   "outputs": [],
   "source": [
    "import numpy as np\n",
    "import pandas as pd\n",
    "import random as rd\n",
    "import glob,pickle"
   ]
  },
  {
   "cell_type": "code",
   "execution_count": 2,
   "metadata": {
    "collapsed": true
   },
   "outputs": [],
   "source": [
    "def distanceColonnes(c1,c2):\n",
    "    c1Norme=np.linalg.norm(c1)\n",
    "    c2Norme=np.linalg.norm(c2)\n",
    "    c1c2Dot=np.dot(c1,c2)\n",
    "    return 1-c1c2Dot/c1Norme/c2Norme"
   ]
  },
  {
   "cell_type": "code",
   "execution_count": 37,
   "metadata": {
    "collapsed": true
   },
   "outputs": [],
   "source": [
    "def differenceEchantillon(A,B):\n",
    "    zeroA=A[\"tir1\"]==0\n",
    "    zeroB=B[\"tir1\"]==0\n",
    "    nbFormesDiff=len(A[zeroB & ~zeroA])+len(B[zeroA & ~zeroB])\n",
    "    nbFormesComm=len(A[~zeroB & ~zeroA])\n",
    "    return nbFormesDiff,nbFormesComm"
   ]
  },
  {
   "cell_type": "markdown",
   "metadata": {},
   "source": [
    "# Tests hors lexique pour la distance"
   ]
  },
  {
   "cell_type": "raw",
   "metadata": {},
   "source": [
    "distances=[]\n",
    "angles=[]\n",
    "dimension=70000\n",
    "for x in range(200):\n",
    "    x1=[rd.randint(1,200) for i in range(dimension)]\n",
    "    x2=[rd.randint(1,100) for i in range(dimension)]\n",
    "    data={\"x1\":x1,\"x2\":x2}\n",
    "    df=pd.DataFrame(data)\n",
    "    distance=distanceColonnes(df[\"x1\"],df[\"x2\"])\n",
    "    distances.append(distance)\n",
    "    angles.append(np.degrees(np.arccos(1-distance)))\n",
    "np.mean(angles)"
   ]
  },
  {
   "cell_type": "code",
   "execution_count": 49,
   "metadata": {
    "collapsed": true
   },
   "outputs": [],
   "source": [
    "listeTirages=glob.glob(\"/Users/gilles/Box Sync/2015-Data/Samples/*-10Mo-*-Tirage.pkl\")"
   ]
  },
  {
   "cell_type": "code",
   "execution_count": 5,
   "metadata": {
    "collapsed": true
   },
   "outputs": [],
   "source": [
    "def tiragesNom(nom):\n",
    "    result=[tirage for tirage in listeTirages if nom in tirage]\n",
    "    return result"
   ]
  },
  {
   "cell_type": "code",
   "execution_count": 6,
   "metadata": {
    "collapsed": true
   },
   "outputs": [],
   "source": [
    "def lireLexique(nomLexique):\n",
    "    try:\n",
    "        with open(nomLexique, 'rb') as input:\n",
    "            lexique=pickle.load(input)\n",
    "    except:\n",
    "        lexique=None\n",
    "    return lexique"
   ]
  },
  {
   "cell_type": "code",
   "execution_count": 46,
   "metadata": {},
   "outputs": [
    {
     "name": "stdout",
     "output_type": "stream",
     "text": [
      "['MGC-170506-10Mo-33-Tirage.pkl', 'MGC-170506-10Mo-06-Tirage.pkl']\n",
      "1.12178949151e-05 0.271389924328\n",
      "5748 65080\n"
     ]
    }
   ],
   "source": [
    "for i in range(1):\n",
    "#    paire=rd.sample(tiragesNom(\"200Mo\"),2)\n",
    "    paire=rd.sample(listeTirages,2)\n",
    "    lexiqueA=lireLexique(paire[0])\n",
    "    lexiqueB=lireLexique(paire[1])\n",
    "    distance=distanceColonnes(lexiqueA[\"tir1\"],lexiqueB[\"tir1\"])\n",
    "    print [l.split(\"/\")[-1] for l in paire]\n",
    "    print distance, np.degrees(np.arccos(1-distance))\n",
    "    nbDiff,nbComm=differenceEchantillon(lexiqueA,lexiqueB)\n",
    "    print nbDiff,nbComm\n"
   ]
  },
  {
   "cell_type": "code",
   "execution_count": 50,
   "metadata": {},
   "outputs": [
    {
     "data": {
      "text/plain": [
       "['/Users/gilles/Box Sync/2015-Data/Samples/MGC-170506-10Mo-00-Tirage.pkl',\n",
       " '/Users/gilles/Box Sync/2015-Data/Samples/MGC-170506-10Mo-01-Tirage.pkl',\n",
       " '/Users/gilles/Box Sync/2015-Data/Samples/MGC-170506-10Mo-02-Tirage.pkl',\n",
       " '/Users/gilles/Box Sync/2015-Data/Samples/MGC-170506-10Mo-03-Tirage.pkl',\n",
       " '/Users/gilles/Box Sync/2015-Data/Samples/MGC-170506-10Mo-04-Tirage.pkl',\n",
       " '/Users/gilles/Box Sync/2015-Data/Samples/MGC-170506-10Mo-05-Tirage.pkl',\n",
       " '/Users/gilles/Box Sync/2015-Data/Samples/MGC-170506-10Mo-06-Tirage.pkl',\n",
       " '/Users/gilles/Box Sync/2015-Data/Samples/MGC-170506-10Mo-07-Tirage.pkl',\n",
       " '/Users/gilles/Box Sync/2015-Data/Samples/MGC-170506-10Mo-08-Tirage.pkl',\n",
       " '/Users/gilles/Box Sync/2015-Data/Samples/MGC-170506-10Mo-09-Tirage.pkl',\n",
       " '/Users/gilles/Box Sync/2015-Data/Samples/MGC-170506-10Mo-10-Tirage.pkl',\n",
       " '/Users/gilles/Box Sync/2015-Data/Samples/MGC-170506-10Mo-11-Tirage.pkl',\n",
       " '/Users/gilles/Box Sync/2015-Data/Samples/MGC-170506-10Mo-12-Tirage.pkl',\n",
       " '/Users/gilles/Box Sync/2015-Data/Samples/MGC-170506-10Mo-13-Tirage.pkl',\n",
       " '/Users/gilles/Box Sync/2015-Data/Samples/MGC-170506-10Mo-14-Tirage.pkl',\n",
       " '/Users/gilles/Box Sync/2015-Data/Samples/MGC-170506-10Mo-15-Tirage.pkl',\n",
       " '/Users/gilles/Box Sync/2015-Data/Samples/MGC-170506-10Mo-16-Tirage.pkl',\n",
       " '/Users/gilles/Box Sync/2015-Data/Samples/MGC-170506-10Mo-17-Tirage.pkl',\n",
       " '/Users/gilles/Box Sync/2015-Data/Samples/MGC-170506-10Mo-18-Tirage.pkl',\n",
       " '/Users/gilles/Box Sync/2015-Data/Samples/MGC-170506-10Mo-19-Tirage.pkl',\n",
       " '/Users/gilles/Box Sync/2015-Data/Samples/MGC-170506-10Mo-20-Tirage.pkl',\n",
       " '/Users/gilles/Box Sync/2015-Data/Samples/MGC-170506-10Mo-21-Tirage.pkl',\n",
       " '/Users/gilles/Box Sync/2015-Data/Samples/MGC-170506-10Mo-22-Tirage.pkl',\n",
       " '/Users/gilles/Box Sync/2015-Data/Samples/MGC-170506-10Mo-23-Tirage.pkl',\n",
       " '/Users/gilles/Box Sync/2015-Data/Samples/MGC-170506-10Mo-24-Tirage.pkl',\n",
       " '/Users/gilles/Box Sync/2015-Data/Samples/MGC-170506-10Mo-25-Tirage.pkl',\n",
       " '/Users/gilles/Box Sync/2015-Data/Samples/MGC-170506-10Mo-26-Tirage.pkl',\n",
       " '/Users/gilles/Box Sync/2015-Data/Samples/MGC-170506-10Mo-27-Tirage.pkl',\n",
       " '/Users/gilles/Box Sync/2015-Data/Samples/MGC-170506-10Mo-28-Tirage.pkl',\n",
       " '/Users/gilles/Box Sync/2015-Data/Samples/MGC-170506-10Mo-29-Tirage.pkl',\n",
       " '/Users/gilles/Box Sync/2015-Data/Samples/MGC-170506-10Mo-30-Tirage.pkl',\n",
       " '/Users/gilles/Box Sync/2015-Data/Samples/MGC-170506-10Mo-31-Tirage.pkl',\n",
       " '/Users/gilles/Box Sync/2015-Data/Samples/MGC-170506-10Mo-32-Tirage.pkl',\n",
       " '/Users/gilles/Box Sync/2015-Data/Samples/MGC-170506-10Mo-33-Tirage.pkl',\n",
       " '/Users/gilles/Box Sync/2015-Data/Samples/MGC-170506-10Mo-34-Tirage.pkl',\n",
       " '/Users/gilles/Box Sync/2015-Data/Samples/MGC-170506-10Mo-35-Tirage.pkl',\n",
       " '/Users/gilles/Box Sync/2015-Data/Samples/MGC-170506-10Mo-36-Tirage.pkl',\n",
       " '/Users/gilles/Box Sync/2015-Data/Samples/MGC-170506-10Mo-37-Tirage.pkl',\n",
       " '/Users/gilles/Box Sync/2015-Data/Samples/MGC-170506-10Mo-38-Tirage.pkl']"
      ]
     },
     "execution_count": 50,
     "metadata": {},
     "output_type": "execute_result"
    }
   ],
   "source": [
    "listeTirages"
   ]
  },
  {
   "cell_type": "code",
   "execution_count": null,
   "metadata": {
    "collapsed": true
   },
   "outputs": [],
   "source": []
  }
 ],
 "metadata": {
  "kernelspec": {
   "display_name": "Python 2",
   "language": "python",
   "name": "python2"
  },
  "language_info": {
   "codemirror_mode": {
    "name": "ipython",
    "version": 2
   },
   "file_extension": ".py",
   "mimetype": "text/x-python",
   "name": "python",
   "nbconvert_exporter": "python",
   "pygments_lexer": "ipython2",
   "version": "2.7.11"
  }
 },
 "nbformat": 4,
 "nbformat_minor": 1
}
