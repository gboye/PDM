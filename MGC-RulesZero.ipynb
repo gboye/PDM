{
 "cells": [
  {
   "cell_type": "markdown",
   "metadata": {},
   "source": [
    "# Trouver et appliquer les règles à entropie nulle\n"
   ]
  },
  {
   "cell_type": "markdown",
   "metadata": {},
   "source": [
    "## Importations\n",
    "- codecs pour les encodages\n",
    "- pandas et numpy pour les calculs sur tableaux\n",
    "- matplotlib pour les graphiques\n",
    "- itertools pour les itérateurs sophistiqués (paires sur liste, ...)"
   ]
  },
  {
   "cell_type": "code",
   "execution_count": 1,
   "metadata": {},
   "outputs": [],
   "source": [
    "# -*- coding: utf8 -*-\n",
    "import codecs,glob\n",
    "import features\n",
    "import re\n",
    "import pandas as pd\n",
    "import numpy as np\n",
    "import matplotlib.pyplot as plt\n",
    "import itertools as it\n",
    "import networkx as nx\n",
    "import pickle,yaml\n",
    "#%pylab inline\n",
    "#pd.options.display.mpl_style = 'default'\n",
    "debug=False"
   ]
  },
  {
   "cell_type": "markdown",
   "metadata": {},
   "source": [
    "### Préparation des matrices de traits"
   ]
  },
  {
   "cell_type": "code",
   "execution_count": 2,
   "metadata": {},
   "outputs": [],
   "source": [
    "features.add_config('bdlexique.ini')\n",
    "fs=features.FeatureSystem('phonemes')"
   ]
  },
  {
   "cell_type": "markdown",
   "metadata": {},
   "source": [
    "### Gestion du codage IPA"
   ]
  },
  {
   "cell_type": "code",
   "execution_count": 3,
   "metadata": {},
   "outputs": [],
   "source": [
    "import unicodedata\n",
    "def listerUnicode(chaine):\n",
    "    result=[]\n",
    "    comb=False\n",
    "    prec=u\"\"\n",
    "    for char in chaine:\n",
    "        print char,\n",
    "        if unicodedata.combining(char):\n",
    "            result.append(prec+char)\n",
    "            prec=\"\"\n",
    "        else:\n",
    "            result.append(prec)\n",
    "            prec=char\n",
    "    result.append(prec)\n",
    "    return [r for r in result if r!=\"\"]"
   ]
  },
  {
   "cell_type": "code",
   "execution_count": 4,
   "metadata": {},
   "outputs": [
    {
     "name": "stdout",
     "output_type": "stream",
     "text": [
      "S Z N ê ô â r E H O\n"
     ]
    }
   ],
   "source": [
    "ipaIn = listerUnicode(u\"SZNêôârEHO\")\n",
    "ipaOut= [u\"ʃ\",u\"ʒ\",u\"ŋ\",u\"ɛ̃\",u\"ɔ̃\",u\"ɑ̃\",u\"ʁ\",u\"ɛ\",u\"ɥ\",u\"ɔ\"]\n",
    "toipa = dict(zip(ipaIn, ipaOut))"
   ]
  },
  {
   "cell_type": "code",
   "execution_count": 5,
   "metadata": {},
   "outputs": [],
   "source": [
    "def coderIPA(chaine,table=toipa):\n",
    "    result=chaine\n",
    "    for k in table:\n",
    "        result=result.replace(k,table[k])\n",
    "    return result"
   ]
  },
  {
   "cell_type": "code",
   "execution_count": 6,
   "metadata": {},
   "outputs": [
    {
     "name": "stdout",
     "output_type": "stream",
     "text": [
      "ʃɑ̃ʒ piŋpɔ̃ŋ\n"
     ]
    }
   ],
   "source": [
    "print coderIPA(u\"SâZ piNpôN\")"
   ]
  },
  {
   "cell_type": "code",
   "execution_count": 8,
   "metadata": {},
   "outputs": [
    {
     "data": {
      "text/plain": [
       "{0: 'Longitudinal-Lexique3-00-T150000000-F73539-X-',\n",
       " 1: 'Longitudinal-Lexique3-01-T150000000-F254455-X-'}"
      ]
     },
     "execution_count": 8,
     "metadata": {},
     "output_type": "execute_result"
    }
   ],
   "source": [
    "rep=\"/Users/gilles/ownCloud/Recherche/Boye/HDR/Data/Longitudinales/\"\n",
    "rep=\"/Volumes/gilles/Transfert/Copies-iMac-GB/2015-Data/Longitudinales/\"\n",
    "rep=\"/Volumes/gilles/Transfert/Copies-iMac-GB/2015-Data/StemSpaces/LongitudinalesRnd/\"\n",
    "rep=\"/Volumes/gilles/Transfert/Copies-iMac-GB/2015-Data/StemSpaces/Longitudinales/\"\n",
    "rep=\"/Volumes/gilles/Transfert/Copies-iMac-GB/2015-Data/lexique3/\"\n",
    "#rep=\"/Users/gilles/Desktop/lexique3/\"\n",
    "fichiers=glob.glob(rep+\"*-X*-Regles.pkl\")\n",
    "samples=[f.rsplit(\"/\",1)[-1].split(\"Regles\")[0] for f in fichiers]\n",
    "# samples={int(s.split(\"-\")[1]):s for s in samples}\n",
    "samples={int(s.split(\"-\")[2]):s for s in samples}\n",
    "samples"
   ]
  },
  {
   "cell_type": "code",
   "execution_count": 9,
   "metadata": {},
   "outputs": [],
   "source": [
    "sample=samples[1]\n",
    "fRulesPMS=\"Regles.pkl\"\n",
    "fRulesPMO=\"Morphomes-Regles.pkl\""
   ]
  },
  {
   "cell_type": "markdown",
   "metadata": {},
   "source": [
    "# Classe pour la gestion des patrons, des classes et des transformations"
   ]
  },
  {
   "cell_type": "code",
   "execution_count": 10,
   "metadata": {},
   "outputs": [],
   "source": [
    "class paireClasses:\n",
    "    def __init__(self,case1,case2):\n",
    "        self.case1=case1\n",
    "        self.case2=case2\n",
    "        self.nom=case1+\"-\"+case2\n",
    "        self.classes1=classesPaire(case1,case2)\n",
    "        self.classes2=classesPaire(case2,case1)\n",
    "\n",
    "    def ajouterPatron(self,n,patron,motif):\n",
    "        if n==1:\n",
    "            self.classes1.ajouterPatron(patron,motif)\n",
    "        elif n==2:\n",
    "            self.classes2.ajouterPatron(patron,motif)\n",
    "        else:\n",
    "            print \"le numéro de forme n'est pas dans [1,2]\",n\n",
    "\n",
    "    def ajouterPaire(self,forme1,forme2):\n",
    "        self.classes1.ajouterPaire(forme1,forme2)\n",
    "        self.classes2.ajouterPaire(forme2,forme1)\n",
    "        \n",
    "    def calculerClasses(self):\n",
    "        return(self.classes1,self.classes2)\n",
    "\n",
    "    \n",
    "class classesPaire:\n",
    "    '''\n",
    "    Gestion des patrons, des classes et des transformations\n",
    "    \n",
    "    ajouterPatron : ajoute un patron et son motif associé (MGL)\n",
    "    ajouterPaire : ajoute une paire de formes, calcule la classe de la forme1 et la règle sélectionnée\n",
    "    sortirForme : cacule les formes de sortie correspondant à la forme1 avec leurs coefficients respectifs\n",
    "    '''\n",
    "    def __init__(self,case1,case2):\n",
    "        self.case1=case1\n",
    "        self.case2=case2\n",
    "        self.nom=case1+\"-\"+case2\n",
    "        self.classe={}\n",
    "        self.nbClasse={}\n",
    "        self.patrons={}\n",
    "        self.entree={}\n",
    "        self.sortie={}\n",
    "    \n",
    "    def ajouterPatron(self,patron,motif):\n",
    "        self.patrons[patron]=motif\n",
    "        (entree,sortie)=patron.split(\"-\")\n",
    "        self.entree[patron]=entree.replace(u\".\",u\"(.)\")\n",
    "        self.sortie[patron]=remplacementSortie(sortie)\n",
    "    \n",
    "    def ajouterPaire(self,forme1,forme2):\n",
    "        '''\n",
    "        on calcule la classe de la paire idClasseForme et la règle sélectionnée\n",
    "        on incrémente le compteur de la classe et celui de la règle sélectionnée à l'intérieur de la classe\n",
    "        '''\n",
    "        classeForme=[]\n",
    "        regleForme=\"\"\n",
    "        for patron in self.patrons:\n",
    "            if re.match(self.patrons[patron],forme1):\n",
    "                classeForme.append(patron)\n",
    "                '''\n",
    "                le +\"$\" permet de forcer l'alignement à droite pour les transformations suffixales\n",
    "                '''\n",
    "                if forme2==re.sub(self.entree[patron]+\"$\",self.sortie[patron],forme1):\n",
    "                    regleForme=patron\n",
    "        idClasseForme=\", \".join(classeForme)\n",
    "        if not idClasseForme in self.classe:\n",
    "            self.classe[idClasseForme]={}\n",
    "            self.nbClasse[idClasseForme]=0\n",
    "        if not regleForme in self.classe[idClasseForme]:\n",
    "            self.classe[idClasseForme][regleForme]=0\n",
    "        self.nbClasse[idClasseForme]+=1\n",
    "        self.classe[idClasseForme][regleForme]+=1\n",
    "\n",
    "    def sortirForme(self,forme,contextFree=False):\n",
    "        classeForme=[]\n",
    "        sortieForme={}\n",
    "        for patron in self.patrons:\n",
    "            if contextFree:\n",
    "                filterF1=\".*\"+patron.split(\"-\")[0]+\"$\"\n",
    "            else:\n",
    "                filterF1=self.patrons[patron]\n",
    "            if re.match(filterF1,forme):\n",
    "                classeForme.append(patron)\n",
    "        if classeForme:\n",
    "            idClasseForme=\", \".join(classeForme)\n",
    "            if contextFree:\n",
    "                nbClasse=self.nbClasseCF\n",
    "                classe=self.classeCF\n",
    "            else:\n",
    "                nbClasse=self.nbClasse\n",
    "                classe=self.classe\n",
    "            if idClasseForme in nbClasse:\n",
    "                nTotal=nbClasse[idClasseForme]\n",
    "                for patron in classe[idClasseForme]:\n",
    "                    sortie=re.sub(self.entree[patron]+\"$\",self.sortie[patron],forme)\n",
    "                    sortieForme[sortie]=float(classe[idClasseForme][patron])/nTotal\n",
    "            else:\n",
    "#                if debug: \n",
    "#                    print (forme, file=logfile)\n",
    "#                    print (\"pas de classe\",idClasseForme, file=logfile)\n",
    "#                    print (\"%.2f par forme de sortie\" % (float(1)/len(classeForme)), file=logfile)\n",
    "                nTotal=len(classeForme)\n",
    "                for patron in classeForme:\n",
    "                    sortie=re.sub(self.entree[patron]+\"$\",self.sortie[patron],forme)\n",
    "                    sortieForme[sortie]=float(1)/nTotal\n",
    "#        else:\n",
    "#            if debug:\n",
    "#                print (forme, file=logfile) \n",
    "#                print (\"pas de patron\", file=logfile)\n",
    "        return sortieForme\n",
    "        "
   ]
  },
  {
   "cell_type": "markdown",
   "metadata": {},
   "source": [
    "## Ouvrir les fichiers de règles"
   ]
  },
  {
   "cell_type": "code",
   "execution_count": 11,
   "metadata": {},
   "outputs": [],
   "source": [
    "def openRules(numero,typeRules=\"PMS\"):\n",
    "    rules=None\n",
    "    if typeRules==\"PMS\" and numero in samples:\n",
    "        with open(rep+samples[numero]+fRulesPMS, 'rb') as input:\n",
    "            rules = pickle.load(input)\n",
    "    elif typeRules==\"PMO\" and numero in samples:\n",
    "        with open(rep+samples[numero]+fRulesPMO, 'rb') as input:\n",
    "            rules = pickle.load(input)\n",
    "    return rules"
   ]
  },
  {
   "cell_type": "code",
   "execution_count": 12,
   "metadata": {},
   "outputs": [],
   "source": [
    "numero=1\n",
    "typeRules=\"PMO\"\n",
    "avecContexte=True"
   ]
  },
  {
   "cell_type": "code",
   "execution_count": 13,
   "metadata": {},
   "outputs": [
    {
     "data": {
      "text/plain": [
       "'Longitudinal-Lexique3-01-T150000000-F254455-X-'"
      ]
     },
     "execution_count": 13,
     "metadata": {},
     "output_type": "execute_result"
    }
   ],
   "source": [
    "sample"
   ]
  },
  {
   "cell_type": "code",
   "execution_count": 14,
   "metadata": {},
   "outputs": [],
   "source": [
    "#rules=openRules(numero,typeRules=typeRules)\n",
    "with open(rep+sample+\"Regles.pkl\", 'rb') as input:\n",
    "    rules = pickle.load(input)"
   ]
  },
  {
   "cell_type": "raw",
   "metadata": {},
   "source": [
    "def getPatronsConsideres(rules,avecContexte=False):\n",
    "    patronsConsideres={}\n",
    "    patronsAvecContexte={}\n",
    "    patronsSansContexte={}\n",
    "    for paire in rules.keys():\n",
    "        patronsAvecContexte[paire]=rules[paire].patrons\n",
    "        for r in patronsAvecContexte[paire]:\n",
    "            if paire not in patronsSansContexte:\n",
    "                patronsSansContexte[paire]={}\n",
    "            transformation=r.split(\"-\")[0]\n",
    "            patronsSansContexte[paire][r]=u\"^(.*)%s$\"%transformation\n",
    "    if not avecContexte:\n",
    "        patronsConsideres=patronsSansContexte\n",
    "    else:\n",
    "        patronsConsideres=patronsAvecContexte\n",
    "    return patronsConsideres"
   ]
  },
  {
   "cell_type": "code",
   "execution_count": null,
   "metadata": {},
   "outputs": [],
   "source": [
    "rules[(\"ii1S\",\"ii1P\")].patrons"
   ]
  },
  {
   "cell_type": "code",
   "execution_count": null,
   "metadata": {},
   "outputs": [],
   "source": [
    "zeroEntropie=[]\n",
    "for paire in rules:\n",
    "    classe=rules[paire].classe\n",
    "    c1,c2=paire\n",
    "    if c1!=c2:\n",
    "        zero=True\n",
    "        print paire\n",
    "        for transformation in classe:\n",
    "            choix=classe[transformation]\n",
    "            if len(choix)>1:\n",
    "                print choix\n",
    "                zero=False\n",
    "        if zero:\n",
    "            print \"zéro\",choix\n",
    "            zeroEntropie.append(paire)\n",
    "        print"
   ]
  },
  {
   "cell_type": "code",
   "execution_count": null,
   "metadata": {},
   "outputs": [],
   "source": [
    "zeroPop={}\n",
    "for paire in zeroEntropie:\n",
    "    for t in rules[paire].classe:\n",
    "        pop=0\n",
    "        for c in rules[paire].classe[t]:\n",
    "            pop+=rules[paire].classe[t][c]\n",
    "        zeroPop[paire]=pop\n",
    "    "
   ]
  },
  {
   "cell_type": "code",
   "execution_count": null,
   "metadata": {
    "scrolled": true
   },
   "outputs": [],
   "source": [
    "stemspaceThresh=100\n",
    "stemspaceRules=[]\n",
    "for k in sorted(zeroPop, key=zeroPop.get,reverse=True):\n",
    "    print k, zeroPop[k]\n",
    "    if zeroPop[k]>=stemspaceThresh:\n",
    "        stemspaceRules.append(k)"
   ]
  },
  {
   "cell_type": "code",
   "execution_count": null,
   "metadata": {},
   "outputs": [],
   "source": [
    "len(stemspaceRules)"
   ]
  },
  {
   "cell_type": "code",
   "execution_count": null,
   "metadata": {},
   "outputs": [],
   "source": [
    "stemSpace=nx.Graph()\n",
    "for c1,c2 in stemspaceRules:\n",
    "    if (c2,c1) in stemspaceRules:\n",
    "#        print c1,c2\n",
    "        stemSpace.add_edge(c1,c2)\n",
    "stemSpaceCliques=list(nx.find_cliques(stemSpace))\n",
    "len(stemSpaceCliques),sorted(stemSpaceCliques,key=len,reverse=True)"
   ]
  },
  {
   "cell_type": "code",
   "execution_count": null,
   "metadata": {},
   "outputs": [],
   "source": []
  },
  {
   "cell_type": "code",
   "execution_count": null,
   "metadata": {},
   "outputs": [],
   "source": [
    "fSamplePMS=\"paradigmes.csv\"\n",
    "fSamplePMO=\"Morphomes-paradigmes.csv\""
   ]
  },
  {
   "cell_type": "code",
   "execution_count": null,
   "metadata": {},
   "outputs": [],
   "source": [
    "def openSample(numero,typeSample=\"PMS\"):\n",
    "    result=None\n",
    "    fSample=\"\"\n",
    "    if typeSample==\"PMS\" and numero in samples:\n",
    "        fSample=rep+samples[numero]+fSamplePMS\n",
    "    elif typeSample==\"PMO\" and numero in samples:\n",
    "        fSample=rep+samples[numero]+fSamplePMO\n",
    "    if fSample:\n",
    "        result=pd.read_csv(rep+samples[numero]+fSamplePMS,sep=\";\",index_col=0,keep_default_na=False,encoding=\"utf8\")\n",
    "    return result    "
   ]
  },
  {
   "cell_type": "code",
   "execution_count": null,
   "metadata": {},
   "outputs": [],
   "source": [
    "df=openSample(2,typeRules)"
   ]
  },
  {
   "cell_type": "code",
   "execution_count": null,
   "metadata": {},
   "outputs": [],
   "source": [
    "def makeZeros(sampleFormes,inFormes=True,contextFree=True):\n",
    "    series=sampleFormes.copy()\n",
    "    series={k:v for k,v in series.iteritems() if v!=\"\"}\n",
    "\n",
    "    paires=rules.keys()\n",
    "    formesC={}\n",
    "    for c in series:\n",
    "        if not c in formesC:\n",
    "            formesC[c]=set()\n",
    "        formesC[c].add(series[c])\n",
    "        if debug: print c, series[c]\n",
    "        formeC=series[c]\n",
    "        pairesC=[(c1,c2) for (c1,c2) in paires if c1==c]\n",
    "        for p in pairesC:\n",
    "            formeP=rules[p].sortirForme(series[c],contextFree=contextFree)\n",
    "            if formeP and len(formeP)==1:\n",
    "                p1=p[1]\n",
    "                if debug: print p1,formeP\n",
    "                if p1 not in formesC:\n",
    "                    formesC[p1]=set()\n",
    "                formesC[p1].add(formeP.keys()[0])\n",
    "    if inFormes:\n",
    "        formesZero={k:list(v)[0] for k,v in formesC.iteritems() if len(v)==1}\n",
    "    else:\n",
    "        formesZero={k:list(v)[0] for k,v in formesC.iteritems() if len(v)==1 and k not in series}\n",
    "\n",
    "    return formesZero"
   ]
  },
  {
   "cell_type": "code",
   "execution_count": null,
   "metadata": {},
   "outputs": [],
   "source": [
    "def fillStemSpace(sampleFormes,inFormes=True,contextFree=True):\n",
    "    series=sampleFormes.copy()\n",
    "    series={k:v for k,v in series.iteritems() if v!=\"\"}\n",
    "\n",
    "    paires=stemspaceRules\n",
    "    formesC={}\n",
    "    for c in series:\n",
    "        if not c in formesC:\n",
    "            formesC[c]=set()\n",
    "        formesC[c].add(series[c])\n",
    "        if debug: print c, series[c]\n",
    "        formeC=series[c]\n",
    "        pairesC=[(c1,c2) for (c1,c2) in paires if c1==c]\n",
    "        for p in pairesC:\n",
    "            formeP=rules[p].sortirForme(series[c],contextFree=contextFree)\n",
    "            if formeP and len(formeP)==1:\n",
    "                p1=p[1]\n",
    "                if debug: print p1,formeP\n",
    "                if p1 not in formesC:\n",
    "                    formesC[p1]=set()\n",
    "                formesC[p1].add(formeP.keys()[0])\n",
    "    if inFormes:\n",
    "        formesZero={k:list(v)[0] for k,v in formesC.iteritems() if len(v)==1}\n",
    "    else:\n",
    "        formesZero={k:list(v)[0] for k,v in formesC.iteritems() if len(v)==1 and k not in series}\n",
    "\n",
    "    return formesZero"
   ]
  },
  {
   "cell_type": "code",
   "execution_count": null,
   "metadata": {
    "scrolled": true
   },
   "outputs": [],
   "source": [
    "cases=[c for c in df.columns.tolist() if c!=\"lexeme\"]\n",
    "cases=sorted(cases)"
   ]
  },
  {
   "cell_type": "code",
   "execution_count": null,
   "metadata": {},
   "outputs": [],
   "source": [
    "lexemes=u\"clore éclore falloir valoir\".split(\" \")\n",
    "lexemes=[l for l in df[\"lexeme\"].tolist() if not l.endswith(u\"er\")]\n",
    "lexemes"
   ]
  },
  {
   "cell_type": "code",
   "execution_count": null,
   "metadata": {
    "scrolled": true
   },
   "outputs": [],
   "source": [
    "dfNew=df.copy()\n",
    "for lexeme in lexemes:\n",
    "    index=df.loc[df['lexeme']==lexeme].index.values\n",
    "    if index:\n",
    "        i=index[0]\n",
    "        sampleFormes=df.iloc[i].to_dict()\n",
    "        sampleFormes={k:v for k,v in sampleFormes.iteritems() if v!=\"\"}\n",
    "        lexemeI=sampleFormes[\"lexeme\"]\n",
    "        print lexemeI,\n",
    "#        formesZero=makeZeros(sampleFormes,inFormes=False)\n",
    "        formesZero=fillStemSpace(sampleFormes,inFormes=False,contextFree=not avecContexte)\n",
    "        for case in cases:\n",
    "            if case in sampleFormes:\n",
    "#                print \"\\t\",case,\"\\t  \",sampleFormes[case]\n",
    "                continue\n",
    "            elif case in formesZero:\n",
    "#                print \"\\t\",case,\"\\t=>\",formesZero[case]\n",
    "                dfNew.iloc[i][case]=formesZero[case]\n",
    "            else:\n",
    "#                print \"\\t\",case\n",
    "                continue\n",
    "#        print"
   ]
  },
  {
   "cell_type": "markdown",
   "metadata": {},
   "source": [
    "## Ouvrir les fichiers de morphomes"
   ]
  },
  {
   "cell_type": "code",
   "execution_count": null,
   "metadata": {
    "scrolled": true
   },
   "outputs": [],
   "source": [
    "morphomeCases=pd.read_pickle(rep+samples[54]+\"Morphomes.pkl\")[[\"case\",\"morphome\"]].drop_duplicates().to_dict()\n",
    "casesMC=morphomeCases[\"case\"]\n",
    "morphomesMC=morphomeCases[\"morphome\"]\n",
    "listMorphomes=[]\n",
    "for element in casesMC:\n",
    "    listMorphomes.append(morphomesMC[element].split(\"/\"))\n",
    "cases"
   ]
  },
  {
   "cell_type": "code",
   "execution_count": null,
   "metadata": {},
   "outputs": [],
   "source": [
    "def makeTabularParadigme(lexeme,lDF,dictColours,title=\"\",coulLim=False, cat=\"V\",dictMorphomes={}):\n",
    "    row=lDF[lDF[\"lexeme\"]==lexeme]\n",
    "    tabular=[]\n",
    "    def makeValue(case):\n",
    "        print case,row[case],len(row[case]),row[case].values\n",
    "        if len(row[case])>0 and len(row[case].values[0])>0:\n",
    "            result=coderIPA(row[case].values[0])\n",
    "        elif dictMorphomes!={} and case in dictMorphomes:\n",
    "            altCase=dictMorphomes[case][0]\n",
    "            if len(row[altCase])>0 and len(row[altCase].values[0])>0:\n",
    "                result=coderIPA(row[altCase].values[0])\n",
    "            else:\n",
    "                result=\"---\"\n",
    "        else:\n",
    "            result=\"---\"\n",
    "    def makeLine6(tenseCode):\n",
    "        line=[tabTemps[tenseCode]]\n",
    "        for person in [per+nb for nb in [\"S\",\"P\"] for per in [\"1\",\"2\",\"3\"]]:\n",
    "            case=tenseCode+person\n",
    "            if case in dictColours:\n",
    "                line.append(r\"\\cellcolor{%s}%s\"%(dictColours[case],makeValue(case)))\n",
    "            else:\n",
    "                line.append(r\"\\cellcolor{%s}%s\"%(\"black\",makeValue(case)))\n",
    "        return r\" & \".join(line)+r\"\\\\\"\n",
    "\n",
    "    def makeLine3(tenseCode):\n",
    "        line=[tabTemps[tenseCode]]\n",
    "        for person in [per+nb for nb in [\"S\",\"P\"] for per in [\"1\",\"2\",\"3\"]]:\n",
    "            if person in [\"2S\",\"1P\",\"2P\"]:\n",
    "                case=tenseCode+person\n",
    "                if case in dictColours:\n",
    "                    line.append(r\"\\cellcolor{%s}%s\"%(dictColours[case],makeValue(case)))\n",
    "                else:\n",
    "                    line.append(r\"\\cellcolor{%s}%s\"%(\"black\",makeValue(case)))\n",
    "#                line.append(r\"\\cellcolor{%s}%s\"%(dictColours[case],case))\n",
    "            else:\n",
    "                line.append(r\"---\")\n",
    "        return r\" & \".join(line)+r\"\\\\\"\n",
    "    \n",
    "    def makeLineNF():\n",
    "        line=[\"non-fini\"]\n",
    "        for case in [\"inf\",\"pP\",\"ppMS\",\"ppMP\",\"ppFS\",\"ppFP\"]:\n",
    "            if case in dictColours:\n",
    "                line.append(r\"\\cellcolor{%s}%s\"%(dictColours[case],makeValue(case)))\n",
    "            else:\n",
    "                line.append(r\"\\cellcolor{%s}%s\"%(\"black\",makeValue(case)))\n",
    "#            line.append(r\"\\cellcolor{%s}%s\"%(dictColours[case],case))\n",
    "        return r\" & \".join(line)+r\"\\\\\"\n",
    "\n",
    "    def makeLineMF(nombre):\n",
    "        line=[]\n",
    "        for genre in \"mf\":\n",
    "            case=genre+nombre\n",
    "            if case in dictColours:\n",
    "                line.append(r\"\\cellcolor{%s}%s\"%(dictColours[case],makeValue(case)))\n",
    "            else:\n",
    "                line.append(r\"\\cellcolor{%s}%s\"%(\"black\",makeValue(case)))\n",
    "        return r\" & \".join(line)+r\"\\\\\"\n",
    "    \n",
    "    def makeLineCoulLim():\n",
    "        line=[]\n",
    "        for numLimite,limite in enumerate(listLimites):\n",
    "            line.append(r\"\\cellcolor{%s}%s\"%(listLimCoul[numLimite],\"$<$\"+str(limite)))\n",
    "        return r\"\\hline\\hline \"+r\" & \".join(line)+r\"\\\\\"\n",
    "        \n",
    "    if cat==\"V\":\n",
    "        top=[\n",
    "            r\"\\begin{center}\",\n",
    "            r\"\\begin{tabular}{ccccccc}\",\n",
    "            r\"\\toprule\",\n",
    "            \" & \".join([lexeme]+[p+n for n in [\"sg\",\"pl\"] for p in \"123\" ])+r\"\\\\\",\n",
    "            r\"\\midrule\"\n",
    "            ]\n",
    "        bottom=[\n",
    "            r\"\\bottomrule\",\n",
    "            r\"\\end{tabular}\\\\\",\n",
    "            title,\n",
    "            r\"\\end{center}\",\n",
    "            r\"\\bigskip\",\n",
    "            r\"\"\n",
    "            ]\n",
    "        tabular.append(\"\\n\".join(top))\n",
    "        for tenseCode in [\"pi\",\"ii\",\"fi\",\"pc\", \"ps\",\"ai\", \"is\"]:\n",
    "            tabular.append(makeLine6(tenseCode))\n",
    "        tabular.append(makeLine3(\"pI\"))\n",
    "        tabular.append(makeLineNF())\n",
    "    elif cat==\"A\":\n",
    "        top=[\n",
    "            r\"\\begin{center}\",\n",
    "            r\"\\begin{tabular}{cc}\",\n",
    "            r\"\\toprule\"\n",
    "            ]\n",
    "        bottom=[\n",
    "            r\"\\bottomrule\",\n",
    "            r\"\\end{tabular}\\\\\",\n",
    "            title,\n",
    "            r\"\\end{center}\",\n",
    "            r\"\\bigskip\",\n",
    "            r\"\"\n",
    "            ]\n",
    "        tabular.append(\"\\n\".join(top))\n",
    "        for number in \"sp\":\n",
    "            tabular.append(makeLineMF(number))\n",
    "    if coulLim:\n",
    "        tabular.append(makeLineCoulLim())\n",
    "    tabular.append(\"\\n\".join(bottom))\n",
    "    return \"\\n\".join(tabular)"
   ]
  },
  {
   "cell_type": "code",
   "execution_count": null,
   "metadata": {},
   "outputs": [],
   "source": [
    "etColours=[\"orange\",\n",
    "           \"brown!50\",\n",
    "           \"brown\",\n",
    "           \"blue!10\",\n",
    "           \"yellow!50\",\n",
    "           \"blue!25\",\n",
    "           \"teal!50\",\n",
    "           \"blue!50\",\n",
    "           \"cyan!50\",\n",
    "           \"lime\",\n",
    "           \"pink\",\n",
    "           \"magenta!50\",\n",
    "          ]\n",
    "etCells=[\n",
    "    [\"pi1P\",\"pi2P\"]+[\"ii\"+p+n for p in \"123\" for n in \"SP\"],\n",
    "    [\"pi3P\"],\n",
    "    [\"pi\"+p+\"S\" for p in \"123\"],\n",
    "    [\"pP\"],\n",
    "    [\"pI2S\"],\n",
    "    [\"pI1P\",\"pI2P\"],\n",
    "    [\"ps\"+p+\"S\" for p in \"123\"]+[\"ps3P\"],\n",
    "    [\"ps1P\",\"ps2P\"],\n",
    "    [\"inf\"],\n",
    "    [\"fi\"+p+n for p in \"123\" for n in \"SP\"]+[\"pc\"+p+n for p in \"123\" for n in \"SP\"],\n",
    "    [\"ai\"+p+n for p in \"123\" for n in \"SP\"]+[\"is\"+p+n for p in \"123\" for n in \"SP\"],\n",
    "    [\"pp\"+g+n for g in \"MF\" for n in \"SP\"],\n",
    "        ]\n",
    "tabTemps={\n",
    "    \"pi\":u\"ind. prs\",\n",
    "    \"ii\":u\"ind. ipf\",\n",
    "    \"ai\":u\"ind. ps\",\n",
    "    \"fi\":u\"ind. fut\",\n",
    "    \"ps\":u\"subj. prs\",\n",
    "    \"is\":u\"subj. ipf\",\n",
    "    \"pc\":u\"cond. prs\",\n",
    "    \"pI\":u\"imper. prs\",\n",
    "    \"inf\":u\"non-fini\"\n",
    "    }\n",
    "dictEtColours={}\n",
    "for nET,ET in enumerate(etCells):\n",
    "    for c in ET:\n",
    "        dictEtColours[c]=etColours[nET]\n",
    "dictEtColours"
   ]
  },
  {
   "cell_type": "code",
   "execution_count": null,
   "metadata": {},
   "outputs": [],
   "source": [
    "print makeTabularParadigme(u\"clore\",dfNew,dictEtColours,dictMorphomes=dictCaseMorphome)"
   ]
  },
  {
   "cell_type": "code",
   "execution_count": null,
   "metadata": {},
   "outputs": [],
   "source": [
    "lexeme=u\"extraire\"\n",
    "ix=df.loc[df.lexeme==lexeme,:].T.columns.values[0]\n",
    "pd.concat([df.loc[df.lexeme==lexeme,:].T.rename(columns={ix:'Old'}),\n",
    "dfNew.loc[dfNew.lexeme==lexeme,:].T.rename(columns={ix:'New'})],\n",
    "         axis=1)"
   ]
  },
  {
   "cell_type": "code",
   "execution_count": null,
   "metadata": {},
   "outputs": [],
   "source": [
    "dfNew.loc[dfNew.lexeme==u\"valoir\",:].T"
   ]
  },
  {
   "cell_type": "code",
   "execution_count": null,
   "metadata": {
    "scrolled": true
   },
   "outputs": [],
   "source": [
    "for i in range(500):\n",
    "    sampleFormes=df.loc[i].to_dict()\n",
    "    lexemeI=sampleFormes[\"lexeme\"]\n",
    "    if not lexemeI.endswith(\"er\"):\n",
    "        print lexemeI\n",
    "        numero=1\n",
    "        for k,v in sampleFormes.iteritems():\n",
    "            if k!=\"lexeme\" and v!=\"\":\n",
    "                print numero,k,v\n",
    "                numero+=1\n",
    "        print\n",
    "        formesZero=makeZeros(sampleFormes,inFormes=False)\n",
    "        for k,v in formesZero.iteritems():\n",
    "            if k!=\"lexeme\":\n",
    "                print numero,k,v\n",
    "                numero+=1\n",
    "        print"
   ]
  },
  {
   "cell_type": "code",
   "execution_count": null,
   "metadata": {},
   "outputs": [],
   "source": [
    "rules[(\"pi3S\",\"ii1S\")].sortirForme(\"Xi\",contextFree=True)"
   ]
  }
 ],
 "metadata": {
  "kernelspec": {
   "display_name": "Python 2",
   "language": "python",
   "name": "python2"
  },
  "language_info": {
   "codemirror_mode": {
    "name": "ipython",
    "version": 2
   },
   "file_extension": ".py",
   "mimetype": "text/x-python",
   "name": "python",
   "nbconvert_exporter": "python",
   "pygments_lexer": "ipython2",
   "version": "2.7.15"
  }
 },
 "nbformat": 4,
 "nbformat_minor": 1
}
