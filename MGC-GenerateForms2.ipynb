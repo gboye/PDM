{
 "cells": [
  {
   "cell_type": "markdown",
   "metadata": {},
   "source": [
    "##Importations\n",
    "- codecs pour les encodages\n",
    "- pandas et numpy pour les calculs sur tableaux\n",
    "- matplotlib pour les graphiques\n",
    "- itertools pour les itérateurs sophistiqués (paires sur liste, ...)"
   ]
  },
  {
   "cell_type": "code",
   "execution_count": 57,
   "metadata": {
    "collapsed": true
   },
   "outputs": [],
   "source": [
    "# -*- coding: utf8 -*-\n",
    "import codecs\n",
    "import features\n",
    "import re\n",
    "import pandas as pd\n",
    "import numpy as np\n",
    "import matplotlib.pyplot as plt\n",
    "import itertools as it\n",
    "import pickle\n",
    "import networkx as nx\n",
    "#%pylab inline\n",
    "#pd.options.display.mpl_style = 'default'\n",
    "debug=False\n",
    "from __future__ import print_function"
   ]
  },
  {
   "cell_type": "code",
   "execution_count": 58,
   "metadata": {
    "collapsed": true
   },
   "outputs": [],
   "source": [
    "import yaml"
   ]
  },
  {
   "cell_type": "code",
   "execution_count": 59,
   "metadata": {
    "collapsed": false
   },
   "outputs": [],
   "source": [
    "import datetime\n",
    "def dateheure():\n",
    "    return datetime.datetime.utcnow().strftime('%y%m%d%H%M')"
   ]
  },
  {
   "cell_type": "code",
   "execution_count": 60,
   "metadata": {
    "collapsed": true
   },
   "outputs": [],
   "source": [
    "saut=\"\\n\"\n"
   ]
  },
  {
   "cell_type": "markdown",
   "metadata": {},
   "source": [
    "###Préparation des matrices de traits"
   ]
  },
  {
   "cell_type": "code",
   "execution_count": 61,
   "metadata": {
    "collapsed": true
   },
   "outputs": [],
   "source": [
    "features.add_config('bdlexique.ini')\n",
    "fs=features.FeatureSystem('phonemes')"
   ]
  },
  {
   "cell_type": "code",
   "execution_count": 62,
   "metadata": {
    "collapsed": false
   },
   "outputs": [],
   "source": [
    "genDigraphe=False\n",
    "genGraphe=True\n",
    "samplePrefix=\"MGC-150815-extend-01-X-paradigmes\"\n",
    "sampleFile=samplePrefix+\".csv\"\n",
    "goldFile=\"MGC-150815-total-1508150555-paradigmes.csv\"\n",
    "analysisPrefix=\"MGC-150815-extend-01-X\"\n",
    "logfile_name=analysisPrefix+samplePrefix+\".log\"\n",
    "logfile = codecs.open(\"2015-Data/\"+logfile_name,mode='w',encoding=\"utf8\")"
   ]
  },
  {
   "cell_type": "markdown",
   "metadata": {},
   "source": [
    "###Préparation des cases du paradigme"
   ]
  },
  {
   "cell_type": "code",
   "execution_count": 63,
   "metadata": {
    "collapsed": true
   },
   "outputs": [],
   "source": [
    "casesPrincipales= [\n",
    "        'inf', 'pi1S', 'pi2S', 'pi3S', 'pi1P', 'pi2P', 'pi3P', 'ii1S',\n",
    "        'ii2S', 'ii3S', 'ii1P', 'ii2P', 'ii3P', \n",
    "        'fi1S', 'fi2S', 'fi3S', 'fi1P', 'fi2P',\n",
    "        'fi3P', 'pI2S', 'pI1P', 'pI2P', 'ps1S', 'ps2S', 'ps3S', 'ps1P',\n",
    "        'ps2P', 'ps3P', \n",
    "        'pc1S', 'pc2S', 'pc3S', 'pc1P', 'pc2P', 'pc3P', 'pP',\n",
    "        'ppMS', 'ppMP', 'ppFS', 'ppFP'\n",
    "            ]\n",
    "casesSecondaires= [\n",
    "       'ai1S', 'ai2S', 'ai3S', 'ai1P', 'ai2P', 'ai3P', 'is1S', 'is2S', 'is3S', 'is1P', 'is2P', 'is3P'\n",
    "            ]\n",
    "casesTotales=casesPrincipales+casesSecondaires"
   ]
  },
  {
   "cell_type": "markdown",
   "metadata": {},
   "source": [
    "#Préparation du calcul des analogies"
   ]
  },
  {
   "cell_type": "markdown",
   "metadata": {},
   "source": [
    "###Calcul de la différence entre deux formes"
   ]
  },
  {
   "cell_type": "code",
   "execution_count": 64,
   "metadata": {
    "collapsed": true
   },
   "outputs": [],
   "source": [
    "def diff(mot1,mot2):\n",
    "    result=[]\n",
    "    diff1=\"\"\n",
    "    diff2=\"\"\n",
    "    same=\"\"\n",
    "    vide=\".\"\n",
    "    lmax=max(len(mot1),len(mot2))\n",
    "    lmin=min(len(mot1),len(mot2))\n",
    "    for index in range(lmax):\n",
    "        if index < lmin:\n",
    "            if mot1[index]!=mot2[index]:\n",
    "                diff1+=mot1[index]\n",
    "                diff2+=mot2[index]\n",
    "                same+=vide\n",
    "            else:\n",
    "                same+=mot1[index]\n",
    "                diff1+=vide\n",
    "                diff2+=vide\n",
    "        elif index < len(mot1):\n",
    "            diff1+=mot1[index]\n",
    "        elif index < len(mot2):\n",
    "            diff2+=mot2[index]\n",
    "    diff1=diff1.lstrip(\".\")\n",
    "    diff2=diff2.lstrip(\".\")\n",
    "#    return (same,diff1,diff2,diff1+\"_\"+diff2)\n",
    "    return (diff1+\"-\"+diff2)"
   ]
  },
  {
   "cell_type": "markdown",
   "metadata": {},
   "source": [
    "###Accumulation des paires appartenant à un patron"
   ]
  },
  {
   "cell_type": "code",
   "execution_count": 65,
   "metadata": {
    "collapsed": false
   },
   "outputs": [],
   "source": [
    "def rowDiff(row, patrons):\n",
    "    result=diff(row[0],row[1])\n",
    "    if not result in patrons:\n",
    "        patrons[result]=(formesPatron(),formesPatron())\n",
    "    patrons[result][0].ajouterFormes(row[0])\n",
    "    patrons[result][1].ajouterFormes(row[1])\n",
    "    return (result[0],result[1])"
   ]
  },
  {
   "cell_type": "markdown",
   "metadata": {},
   "source": [
    "###Transformation d'un patron en RegExp"
   ]
  },
  {
   "cell_type": "code",
   "execution_count": 66,
   "metadata": {
    "collapsed": false
   },
   "outputs": [],
   "source": [
    "def patron2regexp(morceaux):\n",
    "    result=\"^\"\n",
    "    for morceau in morceaux:\n",
    "        if morceau==\"*\":\n",
    "            result+=\"(.*)\"\n",
    "        elif len(morceau)>1:\n",
    "            result+=\"([\"+morceau+\"])\"\n",
    "        else:\n",
    "            result+=morceau\n",
    "    result+=\"$\"\n",
    "    result=result.replace(\")(\",\"\")\n",
    "    return result"
   ]
  },
  {
   "cell_type": "markdown",
   "metadata": {},
   "source": [
    "###Substitution de sortie \n",
    "???"
   ]
  },
  {
   "cell_type": "code",
   "execution_count": 67,
   "metadata": {
    "collapsed": false
   },
   "outputs": [],
   "source": [
    "def remplacementSortie(sortie):\n",
    "    n=1\n",
    "    nsortie=\"\"\n",
    "    for lettre in sortie:\n",
    "        if lettre==\".\":\n",
    "            nsortie+=\"\\g<%d>\"%n\n",
    "            n+=1\n",
    "        else:\n",
    "            nsortie+=lettre\n",
    "    return nsortie"
   ]
  },
  {
   "cell_type": "markdown",
   "metadata": {},
   "source": [
    "#Classe pour la gestion des patrons, des classes et des transformations"
   ]
  },
  {
   "cell_type": "code",
   "execution_count": 68,
   "metadata": {
    "collapsed": false
   },
   "outputs": [],
   "source": [
    "class paireClasses:\n",
    "    def __init__(self,case1,case2):\n",
    "        self.case1=case1\n",
    "        self.case2=case2\n",
    "        self.nom=case1+\"-\"+case2\n",
    "        self.classes1=classesPaire(case1,case2)\n",
    "        self.classes2=classesPaire(case2,case1)\n",
    "\n",
    "    def ajouterPatron(self,n,patron,motif):\n",
    "        if n==1:\n",
    "            self.classes1.ajouterPatron(patron,motif)\n",
    "        elif n==2:\n",
    "            self.classes2.ajouterPatron(patron,motif)\n",
    "        else:\n",
    "            print (\"le numéro de forme n'est pas dans [1,2]\",n,file=logfile)\n",
    "\n",
    "    def ajouterPaire(self,forme1,forme2):\n",
    "        self.classes1.ajouterPaire(forme1,forme2)\n",
    "        self.classes2.ajouterPaire(forme2,forme1)\n",
    "        \n",
    "    def calculerClasses(self):\n",
    "        return(self.classes1,self.classes2)\n",
    "\n",
    "    \n",
    "class classesPaire:\n",
    "    '''\n",
    "    Gestion des patrons, des classes et des transformations\n",
    "    \n",
    "    ajouterPatron : ajoute un patron et son motif associé (MGL)\n",
    "    ajouterPaire : ajoute une paire de formes, calcule la classe de la forme1 et la règle sélectionnée\n",
    "    sortirForme : cacule les formes de sortie correspondant à la forme1 avec leurs coefficients respectifs\n",
    "    '''\n",
    "    def __init__(self,case1,case2):\n",
    "        self.case1=case1\n",
    "        self.case2=case2\n",
    "        self.nom=case1+\"-\"+case2\n",
    "        self.classe={}\n",
    "        self.nbClasse={}\n",
    "        self.patrons={}\n",
    "        self.entree={}\n",
    "        self.sortie={}\n",
    "    \n",
    "    def ajouterPatron(self,patron,motif):\n",
    "        self.patrons[patron]=motif\n",
    "        (entree,sortie)=patron.split(\"-\")\n",
    "        self.entree[patron]=entree.replace(u\".\",u\"(.)\")\n",
    "        self.sortie[patron]=remplacementSortie(sortie)\n",
    "    \n",
    "    def ajouterPaire(self,forme1,forme2):\n",
    "        '''\n",
    "        on calcule la classe de la paire idClasseForme et la règle sélectionnée\n",
    "        on incrémente le compteur de la classe et celui de la règle sélectionnée à l'intérieur de la classe\n",
    "        '''\n",
    "        classeForme=[]\n",
    "        regleForme=\"\"\n",
    "        for patron in self.patrons:\n",
    "            if re.match(self.patrons[patron],forme1):\n",
    "                classeForme.append(patron)\n",
    "                '''\n",
    "                le +\"$\" permet de forcer l'alignement à droite pour les transformations suffixales\n",
    "                '''\n",
    "                if forme2==re.sub(self.entree[patron]+\"$\",self.sortie[patron],forme1):\n",
    "                    regleForme=patron\n",
    "        idClasseForme=\", \".join(classeForme)\n",
    "        if not idClasseForme in self.classe:\n",
    "            self.classe[idClasseForme]={}\n",
    "            self.nbClasse[idClasseForme]=0\n",
    "        if not regleForme in self.classe[idClasseForme]:\n",
    "            self.classe[idClasseForme][regleForme]=0\n",
    "        self.nbClasse[idClasseForme]+=1\n",
    "        self.classe[idClasseForme][regleForme]+=1\n",
    "\n",
    "    def sortirForme(self,forme):\n",
    "        classeForme=[]\n",
    "        sortieForme={}\n",
    "        for patron in self.patrons:\n",
    "            if re.match(self.patrons[patron],forme):\n",
    "                classeForme.append(patron)\n",
    "        if classeForme:\n",
    "            idClasseForme=\", \".join(classeForme)\n",
    "            if idClasseForme in self.nbClasse:\n",
    "                nTotal=self.nbClasse[idClasseForme]\n",
    "                for patron in self.classe[idClasseForme]:\n",
    "                    sortie=re.sub(self.entree[patron]+\"$\",self.sortie[patron],forme)\n",
    "                    sortieForme[sortie]=float(self.classe[idClasseForme][patron])/nTotal\n",
    "            else:\n",
    "                if debug:\n",
    "                    print (forme, file=logfile)\n",
    "                    print (\"pas de classe\",idClasseForme, file=logfile)\n",
    "                    print (\"%.2f par forme de sortie\" % (float(1)/len(classeForme)), file=logfile)\n",
    "                nTotal=len(classeForme)\n",
    "                for patron in classeForme:\n",
    "                    sortie=re.sub(self.entree[patron]+\"$\",self.sortie[patron],forme)\n",
    "                    sortieForme[sortie]=float(1)/nTotal\n",
    "        else:\n",
    "            print (forme, file=logfile) \n",
    "            print (\"pas de patron\", file=logfile)\n",
    "        return sortieForme\n",
    "        "
   ]
  },
  {
   "cell_type": "markdown",
   "metadata": {},
   "source": [
    "##Appliquer la formule de calcul des différences entre chaines à chaque ligne\n",
    "\n",
    ">si il y a au moins une ligne\n",
    "\n",
    ">>on applique la différence à la ligne\n",
    "\n",
    ">>on calcule les deux patrons par suppression des points initiaux\n",
    "\n",
    ">>on renvoie le groupement par patrons (1&2)\n",
    "\n",
    ">sinon\n",
    "\n",
    ">>on renvoie le paradigme vide d'origine"
   ]
  },
  {
   "cell_type": "code",
   "execution_count": 69,
   "metadata": {
    "collapsed": false
   },
   "outputs": [],
   "source": [
    "def OLDrapports(paradigme):\n",
    "    (case1,case2,lexeme)= paradigme.columns.values.tolist()\n",
    "    patrons=pairePatrons(case1,case2)\n",
    "    if len(paradigme)>0:\n",
    "#        for index, row in paradigme.iterrows():\n",
    "#            patrons.ajouterFormes(row[0],row[1],diff(row[0],row[1]))\n",
    "        paradigme.apply(lambda x: patrons.ajouterFormes(x[case1],x[case2],diff(x[case1],x[case2])), axis=1)\n",
    "        (regles1,regles2)=patrons.calculerGM()\n",
    "    return patrons.calculerGM()"
   ]
  },
  {
   "cell_type": "code",
   "execution_count": 70,
   "metadata": {
    "collapsed": false
   },
   "outputs": [],
   "source": [
    "def rapports(paradigme):\n",
    "    if len(paradigme.columns.values.tolist())==2:\n",
    "        (case1,lexeme)= paradigme.columns.values.tolist()\n",
    "        case2=case1\n",
    "    else:\n",
    "        (case1,case2,lexeme)= paradigme.columns.values.tolist()\n",
    "    patrons=pairePatrons(case1,case2)\n",
    "    classes=paireClasses(case1,case2)\n",
    "    if len(paradigme)>0:\n",
    "        paradigme.apply(lambda x: patrons.ajouterFormes(x[case1],x[case2],diff(x[case1],x[case2])), axis=1)\n",
    "        (regles1,regles2)=patrons.calculerGM()\n",
    "        for regle in regles1:\n",
    "            classes.ajouterPatron(1,regle,regles1[regle])\n",
    "        for regle in regles2:\n",
    "            classes.ajouterPatron(2,regle,regles2[regle])\n",
    "        paradigme.apply(lambda x: classes.ajouterPaire(x[case1],x[case2]), axis=1)\n",
    "    (classes1,classes2)=classes.calculerClasses()\n",
    "    return (classes1,classes2)"
   ]
  },
  {
   "cell_type": "markdown",
   "metadata": {},
   "source": [
    "###Dédoubler les lignes avec des surabondances dans *colonne*\n",
    ">identifier une ligne avec surabondance\n",
    "\n",
    ">>ajouter les lignes correspondant à chaque valeur\n",
    "\n",
    ">>ajouter le numéro de la ligne initiale dans les lignes à supprimer\n",
    "\n",
    ">supprimer les lignes avec surabondance\n",
    "\n",
    "NB : il faut préparer le tableau pour avoir une indexation qui permette l'ajout des valeurs individuelles et la suppression des lignes de surabondances"
   ]
  },
  {
   "cell_type": "code",
   "execution_count": 71,
   "metadata": {
    "collapsed": false
   },
   "outputs": [],
   "source": [
    "def splitCellMates(df,colonne):\n",
    "    '''\n",
    "    Calcul d'une dataframe sans surabondance par dédoublement des valeurs\n",
    "    '''\n",
    "    test=df.reset_index()\n",
    "    del test[\"index\"]\n",
    "    splitIndexes=[]\n",
    "    for index,ligne in test.iterrows():\n",
    "        if \",\" in ligne[colonne]:\n",
    "            valeurs=set(ligne[colonne].split(\",\"))\n",
    "            nouvelleLigne=ligne\n",
    "            for valeur in valeurs:\n",
    "                nouvelleLigne[colonne]=valeur\n",
    "                test=test.append(nouvelleLigne,ignore_index=True)\n",
    "            splitIndexes.append(index)\n",
    "    if splitIndexes:\n",
    "        test=test.drop(test.index[splitIndexes])\n",
    "    return test\n"
   ]
  },
  {
   "cell_type": "code",
   "execution_count": 72,
   "metadata": {
    "collapsed": false
   },
   "outputs": [],
   "source": [
    "paradigmes=pd.read_csv(\"2015-Data/\"+sampleFile,sep=\";\",encoding=\"utf8\")\n",
    "del paradigmes[u\"Unnamed: 0\"]\n",
    "#paradigmes"
   ]
  },
  {
   "cell_type": "code",
   "execution_count": 73,
   "metadata": {
    "collapsed": false
   },
   "outputs": [],
   "source": [
    "phonologicalMap=analysisPrefix[-2:]\n",
    "if debug: print(phonologicalMap)\n",
    "neutralisationsNORD=(u\"6û\",u\"9ê\")\n",
    "neutralisationsSUD=(u\"e2o\",u\"E9O\")\n",
    "if phonologicalMap==\"-N\":\n",
    "    neutralisations=neutralisationsNORD\n",
    "elif phonologicalMap==\"-S\":\n",
    "    neutralisations=neutralisationsSUD\n",
    "else:\n",
    "    neutralisations=(u\"\",u\"\")\n",
    "    phonologicalMap=(\"-X\")\n",
    "bdlexiqueIn = unicode(u\"èò\"+neutralisations[0])\n",
    "bdlexiqueNum = [ord(char) for char in bdlexiqueIn]\n",
    "neutreOut = unicode(u\"EO\"+neutralisations[1])\n",
    "neutralise = dict(zip(bdlexiqueNum, neutreOut))"
   ]
  },
  {
   "cell_type": "code",
   "execution_count": 74,
   "metadata": {
    "collapsed": true
   },
   "outputs": [],
   "source": [
    "def recoder(chaine,table=neutralise):\n",
    "    if type(chaine)==str:\n",
    "        temp=unicode(chaine.decode('utf8')).translate(table)\n",
    "        result=temp.encode('utf8')\n",
    "    elif type(chaine)==unicode:\n",
    "        result=chaine.translate(table)\n",
    "    else:\n",
    "        result=chaine\n",
    "    return result"
   ]
  },
  {
   "cell_type": "code",
   "execution_count": 75,
   "metadata": {
    "collapsed": false,
    "scrolled": true
   },
   "outputs": [],
   "source": [
    "GOLD=pd.read_csv(\"2015-Data/\"+goldFile,sep=\";\",encoding=\"utf8\")\n",
    "del GOLD[u\"Unnamed: 0\"]\n",
    "goldCases=GOLD.columns.tolist()\n",
    "goldCases.remove(u\"lexeme\")\n",
    "for case in goldCases:\n",
    "    GOLD[case]=GOLD[case].apply(lambda x: recoder(x))\n",
    "    \n",
    "paradigmesGOLD=GOLD[paradigmes.columns.values.tolist()]\n",
    "#paradigmesGOLD"
   ]
  },
  {
   "cell_type": "markdown",
   "metadata": {},
   "source": [
    "- sampleCases pour la liste des cases effectivement représentées dans le corpus de départ "
   ]
  },
  {
   "cell_type": "code",
   "execution_count": 76,
   "metadata": {
    "collapsed": false
   },
   "outputs": [],
   "source": [
    "sampleCases=paradigmes.columns.values.tolist()\n",
    "sampleCases.remove(u\"lexeme\")"
   ]
  },
  {
   "cell_type": "code",
   "execution_count": 77,
   "metadata": {
    "collapsed": false,
    "scrolled": true
   },
   "outputs": [
    {
     "data": {
      "text/plain": [
       "17784"
      ]
     },
     "execution_count": 77,
     "metadata": {},
     "output_type": "execute_result"
    }
   ],
   "source": [
    "paradigmes.stack().value_counts(dropna=True).sum()"
   ]
  },
  {
   "cell_type": "code",
   "execution_count": 78,
   "metadata": {
    "collapsed": true
   },
   "outputs": [],
   "source": [
    "with open(\"2015-Data/\"+analysisPrefix+'-Regles.pkl', 'rb') as input:\n",
    "    resultatsLecture = pickle.load(input)"
   ]
  },
  {
   "cell_type": "markdown",
   "metadata": {},
   "source": [
    "###Comparer les cases analysées avec l'ensemble de toutes les cases"
   ]
  },
  {
   "cell_type": "code",
   "execution_count": 79,
   "metadata": {
    "collapsed": false
   },
   "outputs": [
    {
     "name": "stdout",
     "output_type": "stream",
     "text": [
      "Attention l'analyse ne comprend pas toutes les cases\n"
     ]
    }
   ],
   "source": [
    "analyseCases=list(set([case for (case,autre) in resultatsLecture.keys()]))\n",
    "if sorted(analyseCases)!=sorted(casesTotales):\n",
    "    print (\"Attention l'analyse ne comprend pas toutes les cases\")"
   ]
  },
  {
   "cell_type": "code",
   "execution_count": 80,
   "metadata": {
    "collapsed": false
   },
   "outputs": [],
   "source": [
    "class paradigmeDistribution:\n",
    "    '''\n",
    "    Gestion des distributions dans les cases du paradigme\n",
    "    '''\n",
    "\n",
    "    def __init__(self,lexeme):\n",
    "        self.lexeme=lexeme\n",
    "        self.formes={i:{} for i in analyseCases}\n",
    "\n",
    "    def ajouterFormes(self,case,formes,coef=1.0):\n",
    "        for forme in formes:\n",
    "            if not forme in self.formes[case]:\n",
    "                self.formes[case][forme]=0\n",
    "            self.formes[case][forme]+=formes[forme]*coef\n",
    "            \n",
    "    def normaliserDistributions(self,caseListe=analyseCases):\n",
    "        normalesDistributions={i:{} for i in caseListe}\n",
    "        for case in caseListe:\n",
    "            total=0\n",
    "            for element in self.formes[case]:\n",
    "                total+=self.formes[case][element]\n",
    "            for element in self.formes[case]:\n",
    "                normalesDistributions[case][element]=float(self.formes[case][element])/total\n",
    "        return normalesDistributions\n",
    "        "
   ]
  },
  {
   "cell_type": "code",
   "execution_count": 81,
   "metadata": {
    "collapsed": false,
    "scrolled": true
   },
   "outputs": [],
   "source": [
    "def generateForms(lexeme):\n",
    "    candidats=paradigmeDistribution(lexeme)\n",
    "    casesSamples=paradigmes[paradigmes[\"lexeme\"]==lexeme].columns[paradigmes[paradigmes[\"lexeme\"]==lexeme].notnull().iloc[0]].tolist()\n",
    "    casesSamples.remove(\"lexeme\")\n",
    "    for caseDepart in casesSamples:\n",
    "        formeDepart=paradigmes[paradigmes[\"lexeme\"]==lexeme][caseDepart].iloc[0]\n",
    "        if debug: print (caseDepart,formeDepart, file=logfile)\n",
    "#        if formeDepart!=\"nan\":\n",
    "        for case in analyseCases:\n",
    "            if debug: print (case, file=logfile)\n",
    "            if not isinstance(resultatsLecture[(caseDepart, case)],str):\n",
    "                if \",\" in formeDepart:\n",
    "                    formesDepart=formeDepart.split(\",\")\n",
    "                    coef=1.0/len(formesDepart)\n",
    "                    for element in formesDepart:\n",
    "                        candidats.ajouterFormes(case,resultatsLecture[(caseDepart, case)].sortirForme(element),coef)\n",
    "                else:\n",
    "                    candidats.ajouterFormes(case,resultatsLecture[(caseDepart, case)].sortirForme(formeDepart))\n",
    "            else: \n",
    "                if debug: print (\"str\", resultatsLecture[(caseDepart, case)], file=logfile)\n",
    "    return candidats"
   ]
  },
  {
   "cell_type": "code",
   "execution_count": 82,
   "metadata": {
    "collapsed": true
   },
   "outputs": [],
   "source": [
    "def ajouterPoint(lexeme,forme,case,digraphe,graphe):\n",
    "    pointName=\"%s-%s-%s\"%(lexeme,forme,case)\n",
    "#    if not pointName in digraphe.nodes():\n",
    "    tam=case[:2]\n",
    "    if tam==\"in\": tam=\"inf\"\n",
    "    digraphe.add_node(pointName, tam='\"%s\"'%tam)\n",
    "    graphe.add_node(pointName, tam='\"%s\"'%tam)\n",
    "    return pointName\n",
    "\n",
    "def ajouterFleche(pointDepart,pointSortie,coef,digraphe,graphe):\n",
    "    digraphe.add_edge(pointDepart,pointSortie,weight=float(coef))\n",
    "    if digraphe.has_edge(pointSortie,pointDepart):\n",
    "        coefGraphe=float(digraphe.edge[pointSortie][pointDepart][\"weight\"]+coef)/2\n",
    "        graphe.add_edge(pointDepart,pointSortie,weight=coefGraphe)"
   ]
  },
  {
   "cell_type": "code",
   "execution_count": 83,
   "metadata": {
    "collapsed": false
   },
   "outputs": [],
   "source": [
    "def generateParadigms(generation1,genDigraphe=True):\n",
    "    lexeme=generation1.lexeme\n",
    "    distributionInitiale=generation1.normaliserDistributions()\n",
    "    candidats=paradigmeDistribution(lexeme)\n",
    "    digraphe=nx.DiGraph()\n",
    "    graphe=nx.Graph()    \n",
    "    for caseDepart in analyseCases:\n",
    "        for formeDepart in distributionInitiale[caseDepart]:\n",
    "            if formeDepart:\n",
    "                pointDepart=ajouterPoint(lexeme,formeDepart,caseDepart,digraphe,graphe)\n",
    "                coefDepart=distributionInitiale[caseDepart][formeDepart]\n",
    "                if debug: print (caseDepart,formeDepart, file=logfile)\n",
    "                for caseSortie in analyseCases:\n",
    "                    distributionSortieBrute=resultatsLecture[(caseDepart, caseSortie)].sortirForme(formeDepart)\n",
    "                    if distributionSortieBrute:\n",
    "                        if not genDigraphe:\n",
    "#                            print (\"brute\",distributionSortieBrute)\n",
    "                            distributionSortie={f:distributionSortieBrute[f] for f in distributionSortieBrute if f in distributionInitiale[caseSortie]}\n",
    "                        else:\n",
    "                            distributionSortie=distributionSortieBrute\n",
    "#                        print (\"filtre\",distributionSortie)\n",
    "#                        print (distributionInitiale[caseSortie])\n",
    "                        if debug: print (caseSortie,distributionSortie,distributionInitiale[caseDepart], file=logfile)\n",
    "                        candidats.ajouterFormes(caseSortie,distributionSortie,distributionInitiale[caseDepart][formeDepart])\n",
    "                        for formeSortie in distributionSortie:\n",
    "                            pointSortie=ajouterPoint(lexeme,formeSortie,caseSortie,digraphe,graphe)\n",
    "                            coefSortie=distributionSortie[formeSortie]\n",
    "                            ajouterFleche(pointDepart,pointSortie,float(coefDepart*coefSortie),digraphe,graphe)\n",
    "    return (candidats,digraphe,graphe)"
   ]
  },
  {
   "cell_type": "code",
   "execution_count": 84,
   "metadata": {
    "collapsed": true
   },
   "outputs": [],
   "source": [
    "def generate(lexeme,genDigraphe=True):\n",
    "#    print (lexeme,end=\", \")\n",
    "    generation1=generateForms(lexeme)\n",
    "#    print (\"génération 2\",end=\", \")\n",
    "    (generation2,lexDigraphe,lexGraphe)=generateParadigms(generation1,genDigraphe)\n",
    "    lexCliques=list(nx.algorithms.clique.find_cliques(lexGraphe))\n",
    "#    print (lexCliques)\n",
    "#    print (\"génération 3\")\n",
    "    return (generation2,lexDigraphe,lexGraphe,lexCliques)"
   ]
  },
  {
   "cell_type": "code",
   "execution_count": 85,
   "metadata": {
    "collapsed": false
   },
   "outputs": [
    {
     "data": {
      "text/plain": [
       "2804"
      ]
     },
     "execution_count": 85,
     "metadata": {},
     "output_type": "execute_result"
    }
   ],
   "source": [
    "len(paradigmes.dropna(thresh=2)[\"lexeme\"])"
   ]
  },
  {
   "cell_type": "code",
   "execution_count": 86,
   "metadata": {
    "collapsed": false,
    "scrolled": true
   },
   "outputs": [
    {
     "name": "stdout",
     "output_type": "stream",
     "text": [
      "2804\n",
      "0 1509131241 0, 25 1509131242 0, 50 1509131243 1, 75 1509131244 2, 100 1509131244 3, 125 1509131245 4, 150 1509131246 5, 175 1509131247 6, 200 1509131248 7, 225 1509131249 8, 250 1509131250 8, 275 1509131251 9, 300 1509131252 10, 325 1509131253 11, 350 1509131254 12, 375 1509131255 13, 400 1509131256 14, 425 1509131257 15, 450 1509131258 16, 475 1509131259 16, 500 1509131300 17, 525 1509131301 18, 550 1509131303 19, 575 1509131304 20, 600 1509131306 21, 625 1509131307 22, 650 1509131309 23, 675 1509131310 24, 700 1509131312 24, 725 1509131314 25, 750 1509131315 26, 775 1509131317 27, 800 1509131319 28, 825 1509131320 29, 850 1509131322 30, 875 1509131324 31, 900 1509131326 32, 925 1509131328 32, 950 1509131329 33, 975 1509131331 34, 1000 1509131333 35, 1025 1509131335 36, 1050 1509131338 37, 1075 1509131340 38, 1100 1509131342 39, 1125 1509131344 40, 1150 1509131347 41, 1175 1509131349 41, 1200 1509131351 42, 1225 1509131354 43, 1250 1509131356 44, 1275 1509131359 45, 1300 1509131401 46, 1325 1509131404 47, 1350 1509131406 48, 1375 1509131409 49, 1400 1509131412 49, 1425 1509131414 50, 1450 1509131417 51, 1475 1509131420 52, 1500 1509131423 53, 1525 1509131426 54, 1550 1509131429 55, 1575 1509131432 56, 1600 1509131435 57, 1625 1509131438 57, 1650 1509131441 58, 1675 1509131444 59, 1700 1509131447 60, 1725 1509131450 61, 1750 1509131453 62, 1775 1509131457 63, 1800 1509131500 64, 1825 1509131504 65, 1850 1509131507 65, 1875 1509131511 66, 1900 1509131514 67, 1925 1509131518 68, 1950 1509131522 69, 1975 1509131526 70, 2000 1509131529 71, 2025 1509131533 72, 2050 1509131537 73, 2075 1509131541 74, 2100 1509131545 74, 2125 1509131549 75, 2150 1509131554 76, 2175 1509131558 77, 2200 1509131603 78, 2225 1509131608 79, 2250 1509131613 80, 2275 1509131618 81, 2300 1509131624 82, 2325 1509131629 82, 2350 1509131635 83, 2375 1509131640 84, 2400 1509131646 85, 2425 1509131652 86, 2450 1509131657 87, 2475 1509131702 88, 2500 1509131709 89, 2525 1509131714 90, 2550 1509131720 90, 2575 1509131725 91, 2600 1509131730 92, 2625 1509131736 93, 2650 1509131743 94, 2675 1509131749 95, 2700 1509131754 96, 2725 1509131800 97, 2750 1509131807 98, 2775 1509131812 98, 2800 1509131818 99, CPU times: user 5h 2min 7s, sys: 12min 23s, total: 5h 14min 30s\n",
      "Wall time: 6h 37min 52s\n"
     ]
    }
   ],
   "source": [
    "%%time\n",
    "debug=False\n",
    "#listeTest=[u\"manger\",u\"boire\",u\"dormir\",u\"aller\",u\"neiger\"]\n",
    "listeTest=paradigmes.dropna(thresh=2)[\"lexeme\"].values.tolist()\n",
    "#listeTest=[u\"abasourdir\",u\"évacuer\"]\n",
    "nbVerbes=len(listeTest)\n",
    "print (nbVerbes)\n",
    "globDigraphe=nx.DiGraph()\n",
    "globGraphe=nx.Graph()\n",
    "cliques=[]\n",
    "for i,element in enumerate(listeTest):\n",
    "    if (i%25)==0: print (i, dateheure(), int(100*float(i)/nbVerbes), end=\", \")\n",
    "    result=generate(element,genDigraphe)\n",
    "    (generation,lexDigraphe,lexGraphe,lexCliques)= result\n",
    "#    print (generation,lexDigraphe,lexGraphe,lexCliques)\n",
    "    if genDigraphe:\n",
    "        globDigraphe=nx.union(globDigraphe,lexDigraphe)\n",
    "    if genGraphe:\n",
    "        globGraphe=nx.union(globGraphe,lexGraphe)\n",
    "    cliques.extend(lexCliques)"
   ]
  },
  {
   "cell_type": "code",
   "execution_count": 87,
   "metadata": {
    "collapsed": false,
    "scrolled": true
   },
   "outputs": [
    {
     "ename": "ImportError",
     "evalue": "('requires pygraphviz ', 'http://networkx.lanl.gov/pygraphviz ', '(not available for Python3)')",
     "output_type": "error",
     "traceback": [
      "\u001b[0;31m---------------------------------------------------------------------------\u001b[0m",
      "\u001b[0;31mImportError\u001b[0m                               Traceback (most recent call last)",
      "\u001b[0;32m<ipython-input-87-d933fef24331>\u001b[0m in \u001b[0;36m<module>\u001b[0;34m()\u001b[0m\n\u001b[0;32m----> 1\u001b[0;31m \u001b[0mget_ipython\u001b[0m\u001b[0;34m(\u001b[0m\u001b[0;34m)\u001b[0m\u001b[0;34m.\u001b[0m\u001b[0mrun_cell_magic\u001b[0m\u001b[0;34m(\u001b[0m\u001b[0;34mu'time'\u001b[0m\u001b[0;34m,\u001b[0m \u001b[0;34mu''\u001b[0m\u001b[0;34m,\u001b[0m \u001b[0;34mu'versionStamp=dateheure()\\nif genDigraphe: \\n    nx.write_dot(globDigraphe,u\"2015-Data/digraphe-%s.dot\"%versionStamp)\\nif genGraphe:\\n    nx.write_dot(globGraphe,u\"2015-Data/graphe-%s.dot\"%versionStamp)'\u001b[0m\u001b[0;34m)\u001b[0m\u001b[0;34m\u001b[0m\u001b[0m\n\u001b[0m",
      "\u001b[0;32m/Users/gilles/anaconda/lib/python2.7/site-packages/IPython/core/interactiveshell.pyc\u001b[0m in \u001b[0;36mrun_cell_magic\u001b[0;34m(self, magic_name, line, cell)\u001b[0m\n\u001b[1;32m   2262\u001b[0m             \u001b[0mmagic_arg_s\u001b[0m \u001b[0;34m=\u001b[0m \u001b[0mself\u001b[0m\u001b[0;34m.\u001b[0m\u001b[0mvar_expand\u001b[0m\u001b[0;34m(\u001b[0m\u001b[0mline\u001b[0m\u001b[0;34m,\u001b[0m \u001b[0mstack_depth\u001b[0m\u001b[0;34m)\u001b[0m\u001b[0;34m\u001b[0m\u001b[0m\n\u001b[1;32m   2263\u001b[0m             \u001b[0;32mwith\u001b[0m \u001b[0mself\u001b[0m\u001b[0;34m.\u001b[0m\u001b[0mbuiltin_trap\u001b[0m\u001b[0;34m:\u001b[0m\u001b[0;34m\u001b[0m\u001b[0m\n\u001b[0;32m-> 2264\u001b[0;31m                 \u001b[0mresult\u001b[0m \u001b[0;34m=\u001b[0m \u001b[0mfn\u001b[0m\u001b[0;34m(\u001b[0m\u001b[0mmagic_arg_s\u001b[0m\u001b[0;34m,\u001b[0m \u001b[0mcell\u001b[0m\u001b[0;34m)\u001b[0m\u001b[0;34m\u001b[0m\u001b[0m\n\u001b[0m\u001b[1;32m   2265\u001b[0m             \u001b[0;32mreturn\u001b[0m \u001b[0mresult\u001b[0m\u001b[0;34m\u001b[0m\u001b[0m\n\u001b[1;32m   2266\u001b[0m \u001b[0;34m\u001b[0m\u001b[0m\n",
      "\u001b[0;32m/Users/gilles/anaconda/lib/python2.7/site-packages/IPython/core/magics/execution.pyc\u001b[0m in \u001b[0;36mtime\u001b[0;34m(self, line, cell, local_ns)\u001b[0m\n",
      "\u001b[0;32m/Users/gilles/anaconda/lib/python2.7/site-packages/IPython/core/magic.pyc\u001b[0m in \u001b[0;36m<lambda>\u001b[0;34m(f, *a, **k)\u001b[0m\n\u001b[1;32m    191\u001b[0m     \u001b[0;31m# but it's overkill for just that one bit of state.\u001b[0m\u001b[0;34m\u001b[0m\u001b[0;34m\u001b[0m\u001b[0m\n\u001b[1;32m    192\u001b[0m     \u001b[0;32mdef\u001b[0m \u001b[0mmagic_deco\u001b[0m\u001b[0;34m(\u001b[0m\u001b[0marg\u001b[0m\u001b[0;34m)\u001b[0m\u001b[0;34m:\u001b[0m\u001b[0;34m\u001b[0m\u001b[0m\n\u001b[0;32m--> 193\u001b[0;31m         \u001b[0mcall\u001b[0m \u001b[0;34m=\u001b[0m \u001b[0;32mlambda\u001b[0m \u001b[0mf\u001b[0m\u001b[0;34m,\u001b[0m \u001b[0;34m*\u001b[0m\u001b[0ma\u001b[0m\u001b[0;34m,\u001b[0m \u001b[0;34m**\u001b[0m\u001b[0mk\u001b[0m\u001b[0;34m:\u001b[0m \u001b[0mf\u001b[0m\u001b[0;34m(\u001b[0m\u001b[0;34m*\u001b[0m\u001b[0ma\u001b[0m\u001b[0;34m,\u001b[0m \u001b[0;34m**\u001b[0m\u001b[0mk\u001b[0m\u001b[0;34m)\u001b[0m\u001b[0;34m\u001b[0m\u001b[0m\n\u001b[0m\u001b[1;32m    194\u001b[0m \u001b[0;34m\u001b[0m\u001b[0m\n\u001b[1;32m    195\u001b[0m         \u001b[0;32mif\u001b[0m \u001b[0mcallable\u001b[0m\u001b[0;34m(\u001b[0m\u001b[0marg\u001b[0m\u001b[0;34m)\u001b[0m\u001b[0;34m:\u001b[0m\u001b[0;34m\u001b[0m\u001b[0m\n",
      "\u001b[0;32m/Users/gilles/anaconda/lib/python2.7/site-packages/IPython/core/magics/execution.pyc\u001b[0m in \u001b[0;36mtime\u001b[0;34m(self, line, cell, local_ns)\u001b[0m\n\u001b[1;32m   1164\u001b[0m         \u001b[0;32melse\u001b[0m\u001b[0;34m:\u001b[0m\u001b[0;34m\u001b[0m\u001b[0m\n\u001b[1;32m   1165\u001b[0m             \u001b[0mst\u001b[0m \u001b[0;34m=\u001b[0m \u001b[0mclock2\u001b[0m\u001b[0;34m(\u001b[0m\u001b[0;34m)\u001b[0m\u001b[0;34m\u001b[0m\u001b[0m\n\u001b[0;32m-> 1166\u001b[0;31m             \u001b[0;32mexec\u001b[0m\u001b[0;34m(\u001b[0m\u001b[0mcode\u001b[0m\u001b[0;34m,\u001b[0m \u001b[0mglob\u001b[0m\u001b[0;34m,\u001b[0m \u001b[0mlocal_ns\u001b[0m\u001b[0;34m)\u001b[0m\u001b[0;34m\u001b[0m\u001b[0m\n\u001b[0m\u001b[1;32m   1167\u001b[0m             \u001b[0mend\u001b[0m \u001b[0;34m=\u001b[0m \u001b[0mclock2\u001b[0m\u001b[0;34m(\u001b[0m\u001b[0;34m)\u001b[0m\u001b[0;34m\u001b[0m\u001b[0m\n\u001b[1;32m   1168\u001b[0m             \u001b[0mout\u001b[0m \u001b[0;34m=\u001b[0m \u001b[0mNone\u001b[0m\u001b[0;34m\u001b[0m\u001b[0m\n",
      "\u001b[0;32m<timed exec>\u001b[0m in \u001b[0;36m<module>\u001b[0;34m()\u001b[0m\n",
      "\u001b[0;32m/Users/gilles/anaconda/lib/python2.7/site-packages/networkx/drawing/nx_agraph.pyc\u001b[0m in \u001b[0;36mwrite_dot\u001b[0;34m(G, path)\u001b[0m\n\u001b[1;32m    175\u001b[0m         raise ImportError('requires pygraphviz ',\n\u001b[1;32m    176\u001b[0m                           \u001b[0;34m'http://networkx.lanl.gov/pygraphviz '\u001b[0m\u001b[0;34m,\u001b[0m\u001b[0;34m\u001b[0m\u001b[0m\n\u001b[0;32m--> 177\u001b[0;31m                           '(not available for Python3)')\n\u001b[0m\u001b[1;32m    178\u001b[0m     \u001b[0mA\u001b[0m\u001b[0;34m=\u001b[0m\u001b[0mto_agraph\u001b[0m\u001b[0;34m(\u001b[0m\u001b[0mG\u001b[0m\u001b[0;34m)\u001b[0m\u001b[0;34m\u001b[0m\u001b[0m\n\u001b[1;32m    179\u001b[0m     \u001b[0mA\u001b[0m\u001b[0;34m.\u001b[0m\u001b[0mwrite\u001b[0m\u001b[0;34m(\u001b[0m\u001b[0mpath\u001b[0m\u001b[0;34m)\u001b[0m\u001b[0;34m\u001b[0m\u001b[0m\n",
      "\u001b[0;31mImportError\u001b[0m: ('requires pygraphviz ', 'http://networkx.lanl.gov/pygraphviz ', '(not available for Python3)')"
     ]
    }
   ],
   "source": [
    "%%time\n",
    "versionStamp=dateheure()\n",
    "if genDigraphe: \n",
    "    nx.write_dot(globDigraphe,u\"2015-Data/digraphe-%s.dot\"%versionStamp)\n",
    "if genGraphe:\n",
    "    nx.write_dot(globGraphe,u\"2015-Data/graphe-%s.dot\"%versionStamp)"
   ]
  },
  {
   "cell_type": "code",
   "execution_count": null,
   "metadata": {
    "collapsed": false
   },
   "outputs": [],
   "source": [
    "#graphe=nx.Graph()\n",
    "#graphe=nx.read_dot(u\"graphe-1508180522.dot\")"
   ]
  },
  {
   "cell_type": "code",
   "execution_count": 88,
   "metadata": {
    "collapsed": false
   },
   "outputs": [],
   "source": [
    "#%%time\n",
    "#cliques=list(nx.algorithms.clique.find_cliques(graphe))"
   ]
  },
  {
   "cell_type": "code",
   "execution_count": 89,
   "metadata": {
    "collapsed": false
   },
   "outputs": [
    {
     "name": "stdout",
     "output_type": "stream",
     "text": [
      "291720\n"
     ]
    }
   ],
   "source": [
    "print (len(cliques))"
   ]
  },
  {
   "cell_type": "code",
   "execution_count": 90,
   "metadata": {
    "collapsed": false,
    "scrolled": true
   },
   "outputs": [
    {
     "data": {
      "text/plain": [
       "{1: 6,\n",
       " 2: 1221,\n",
       " 3: 1657,\n",
       " 4: 3891,\n",
       " 5: 4396,\n",
       " 6: 6122,\n",
       " 7: 8574,\n",
       " 8: 9981,\n",
       " 9: 12829,\n",
       " 10: 14966,\n",
       " 11: 14458,\n",
       " 12: 12803,\n",
       " 13: 12099,\n",
       " 14: 11859,\n",
       " 15: 10636,\n",
       " 16: 10424,\n",
       " 17: 10021,\n",
       " 18: 10679,\n",
       " 19: 11897,\n",
       " 20: 12614,\n",
       " 21: 13321,\n",
       " 22: 12080,\n",
       " 23: 11551,\n",
       " 24: 10876,\n",
       " 25: 11078,\n",
       " 26: 10667,\n",
       " 27: 9676,\n",
       " 28: 9970,\n",
       " 29: 8454,\n",
       " 30: 7048,\n",
       " 31: 2865,\n",
       " 32: 1651,\n",
       " 33: 510,\n",
       " 34: 400,\n",
       " 35: 298,\n",
       " 36: 80,\n",
       " 37: 51,\n",
       " 39: 2,\n",
       " 40: 1,\n",
       " 41: 5,\n",
       " 44: 2,\n",
       " 45: 1}"
      ]
     },
     "execution_count": 90,
     "metadata": {},
     "output_type": "execute_result"
    }
   ],
   "source": [
    "longueurCliques={}\n",
    "for clique in cliques:\n",
    "    longueur=len(clique)\n",
    "    if not longueur in longueurCliques:\n",
    "        longueurCliques[longueur]=1\n",
    "    else:\n",
    "        longueurCliques[longueur]+=1\n",
    "longueurCliques"
   ]
  },
  {
   "cell_type": "markdown",
   "metadata": {},
   "source": [
    "###Faire la liste des cases lexicalisées de l'échantillon"
   ]
  },
  {
   "cell_type": "code",
   "execution_count": 91,
   "metadata": {
    "collapsed": false
   },
   "outputs": [],
   "source": [
    "nbFormesLexicales={}\n",
    "casesLexicales={element:paradigmes[paradigmes[\"lexeme\"]==element].columns[paradigmes[paradigmes[\"lexeme\"]==element].notnull().iloc[0]].tolist() for element in listeTest}\n",
    "for element in casesLexicales:\n",
    "    casesLexicales[element].remove(\"lexeme\")\n",
    "    nbFormesLexicales[element]=len(casesLexicales[element])"
   ]
  },
  {
   "cell_type": "markdown",
   "metadata": {},
   "source": [
    "####Calculer le score de la clique"
   ]
  },
  {
   "cell_type": "code",
   "execution_count": 92,
   "metadata": {
    "collapsed": false
   },
   "outputs": [],
   "source": [
    "def cliqueScore(clique):\n",
    "    score=0\n",
    "    for (depart,arrivee) in it.combinations_with_replacement(clique,2):\n",
    "        score+=globGraphe[depart][arrivee][\"weight\"]\n",
    "    return score"
   ]
  },
  {
   "cell_type": "markdown",
   "metadata": {},
   "source": [
    "##Comparer la sortie des cliques avec le paradigme de départ"
   ]
  },
  {
   "cell_type": "code",
   "execution_count": 93,
   "metadata": {
    "collapsed": false
   },
   "outputs": [
    {
     "name": "stdout",
     "output_type": "stream",
     "text": [
      "0, point vouloir-v6je-pI2P\n",
      "gold 6227    v6je,vule\n",
      "Name: pI2P, dtype: object\n",
      "point vouloir-vule-pI2P\n",
      "gold 6227    v6je,vule\n",
      "Name: pI2P, dtype: object\n",
      "point essayer-EsErô-fi1P\n",
      "gold 2749    EsErô,EsEj6rô\n",
      "Name: fi1P, dtype: object\n",
      "point essayer-EsEj6rô-fi1P\n",
      "gold 2749    EsErô,EsEj6rô\n",
      "Name: fi1P, dtype: object\n",
      "point essayer-EsEra-fi3S\n",
      "gold 2749    EsEra,EsEj6ra\n",
      "Name: fi3S, dtype: object\n",
      "point essayer-EsEj6ra-fi3S\n",
      "gold 2749    EsEra,EsEj6ra\n",
      "Name: fi3S, dtype: object\n",
      "point essayer-EsE-pI2S\n",
      "gold 2749    EsE,EsEj\n",
      "Name: pI2S, dtype: object\n",
      "point essayer-EsEj-pI2S\n",
      "gold 2749    EsE,EsEj\n",
      "Name: pI2S, dtype: object\n",
      "point essayer-EsE-pi1S\n",
      "gold 2749    EsE,EsEj\n",
      "Name: pi1S, dtype: object\n",
      "point essayer-EsEj-pi1S\n",
      "gold 2749    EsE,EsEj\n",
      "Name: pi1S, dtype: object\n",
      "point essayer-EsE-pi2S\n",
      "gold 2749    EsE,EsEj\n",
      "Name: pi2S, dtype: object\n",
      "point essayer-EsEj-pi2S\n",
      "gold 2749    EsE,EsEj\n",
      "Name: pi2S, dtype: object\n",
      "point essayer-EsE-pi3S\n",
      "gold 2749    EsE,EsEj\n",
      "Name: pi3S, dtype: object\n",
      "point essayer-EsEj-pi3S\n",
      "gold 2749    EsE,EsEj\n",
      "Name: pi3S, dtype: object\n",
      "point essayer-EsE-ps2S\n",
      "gold 2749    EsE,EsEj\n",
      "Name: ps2S, dtype: object\n",
      "point essayer-EsEj-ps2S\n",
      "gold 2749    EsE,EsEj\n",
      "Name: ps2S, dtype: object\n",
      "250, 500, 750, 1000, 1250, 1500, 1750, 2000, 2250, 2500, 2750, 3000, 3250, 3500, 3750, 4000, 4250, 4500, 4750, 5000, 5250, 5500, 5750, 6000, 6250, 6500, 6750, 7000, 7250, 7500, 7750, 8000, 8250, 8500, 8750, 9000, 9250, 9500, 9750, 10000, 10250, 10500, 10750, 11000, 11250, 11500, 11750, 12000, 12250, 12500, 12750, 13000, 13250, 13500, 13750, 14000, 14250, 14500, 14750, 15000, 15250, 15500, 15750, 16000, 16250, 16500, 16750, 17000, 17250, 17500, 17750, 18000, 18250, 18500, 18750, 19000, 19250, 19500, 19750, 20000, 20250, 20500, 20750, 21000, 21250, 21500, 21750, 22000, 22250, 22500, 22750, 23000, 23250, 23500, 23750, 24000, 24250, 24500, 24750, 25000, 25250, 25500, 25750, 26000, 26250, 26500, 26750, 27000, 27250, 27500, 27750, point payer-pErE-fi1S\n",
      "gold 4229    pErE,pEj6rE\n",
      "Name: fi1S, dtype: object\n",
      "point payer-pEj6rE-fi1S\n",
      "gold 4229    pErE,pEj6rE\n",
      "Name: fi1S, dtype: object\n",
      "point payer-pE-pI2S\n",
      "gold 4229    pE,pEj\n",
      "Name: pI2S, dtype: object\n",
      "point payer-pEj-pI2S\n",
      "gold 4229    pE,pEj\n",
      "Name: pI2S, dtype: object\n",
      "point payer-pE-pi1S\n",
      "gold 4229    pE,pEj\n",
      "Name: pi1S, dtype: object\n",
      "point payer-pEj-pi1S\n",
      "gold 4229    pE,pEj\n",
      "Name: pi1S, dtype: object\n",
      "point payer-pE-pi2S\n",
      "gold 4229    pE,pEj\n",
      "Name: pi2S, dtype: object\n",
      "point payer-pEj-pi2S\n",
      "gold 4229    pE,pEj\n",
      "Name: pi2S, dtype: object\n",
      "point payer-pE-pi3S\n",
      "gold 4229    pE,pEj\n",
      "Name: pi3S, dtype: object\n",
      "point payer-pEj-pi3S\n",
      "gold 4229    pE,pEj\n",
      "Name: pi3S, dtype: object\n",
      "point payer-pE-ps1S\n",
      "gold 4229    pE,pEj\n",
      "Name: ps1S, dtype: object\n",
      "point payer-pEj-ps1S\n",
      "gold 4229    pE,pEj\n",
      "Name: ps1S, dtype: object\n",
      "point payer-pE-ps3S\n",
      "gold 4229    pE,pEj\n",
      "Name: ps3S, dtype: object\n",
      "point payer-pEj-ps3S\n",
      "gold 4229    pE,pEj\n",
      "Name: ps3S, dtype: object\n",
      "28000, 28250, 28500, 28750, 29000, 29250, 29500, 29750, 30000, 30250, 30500, 30750, 31000, 31250, 31500, 31750, 32000, 32250, 32500, 32750, 33000, 33250, 33500, 33750, 34000, 34250, 34500, 34750, 35000, 35250, 35500, 35750, 36000, 36250, 36500, 36750, 37000, 37250, 37500, 37750, 38000, 38250, 38500, 38750, 39000, 39250, 39500, 39750, 40000, 40250, 40500, 40750, 41000, 41250, 41500, 41750, point asseoir-asje-pI2S\n",
      "gold 398    asje,aswa\n",
      "Name: pI2S, dtype: object\n",
      "point asseoir-aswa-pI2S\n",
      "gold 398    asje,aswa\n",
      "Name: pI2S, dtype: object\n",
      "point asseoir-asje-pi1S\n",
      "gold 398    asje,aswa\n",
      "Name: pi1S, dtype: object\n",
      "point asseoir-aswa-pi1S\n",
      "gold 398    asje,aswa\n",
      "Name: pi1S, dtype: object\n",
      "point asseoir-asje-pi2S\n",
      "gold 398    asje,aswa\n",
      "Name: pi2S, dtype: object\n",
      "point asseoir-aswa-pi2S\n",
      "gold 398    asje,aswa\n",
      "Name: pi2S, dtype: object\n",
      "point asseoir-asje-pi3S\n",
      "gold 398    asje,aswa\n",
      "Name: pi3S, dtype: object\n",
      "point asseoir-aswa-pi3S\n",
      "gold 398    asje,aswa\n",
      "Name: pi3S, dtype: object\n",
      "42000, 42250, 42500, 42750, 43000, 43250, 43500, 43750, 44000, 44250, 44500, 44750, 45000, 45250, 45500, 45750, 46000, 46250, 46500, 46750, 47000, 47250, 47500, 47750, 48000, 48250, 48500, 48750, 49000, 49250, 49500, 49750, 50000, 50250, 50500, 50750, 51000, 51250, 51500, 51750, 52000, 52250, 52500, 52750, 53000, 53250, 53500, 53750, 54000, 54250, 54500, 54750, 55000, 55250, 55500, 55750, 56000, 56250, 56500, 56750, 57000, 57250, 57500, 57750, 58000, 58250, 58500, 58750, 59000, 59250, 59500, 59750, 60000, 60250, 60500, 60750, 61000, 61250, 61500, 61750, 62000, 62250, 62500, 62750, 63000, 63250, 63500, 63750, 64000, 64250, 64500, 64750, 65000, 65250, 65500, 65750, 66000, 66250, 66500, 66750, 67000, 67250, 67500, 67750, 68000, 68250, 68500, 68750, 69000, 69250, 69500, 69750, 70000, 70250, 70500, 70750, 71000, 71250, 71500, 71750, 72000, 72250, 72500, 72750, 73000, 73250, 73500, 73750, 74000, 74250, 74500, 74750, 75000, 75250, 75500, 75750, 76000, 76250, 76500, 76750, 77000, 77250, 77500, 77750, 78000, 78250, 78500, 78750, 79000, 79250, 79500, 79750, 80000, 80250, 80500, 80750, 81000, 81250, 81500, 81750, 82000, 82250, 82500, 82750, 83000, 83250, 83500, 83750, 84000, 84250, 84500, 84750, 85000, 85250, 85500, 85750, 86000, 86250, 86500, 86750, 87000, 87250, 87500, 87750, 88000, 88250, 88500, 88750, 89000, 89250, 89500, 89750, 90000, 90250, 90500, 90750, 91000, 91250, 91500, 91750, 92000, 92250, 92500, 92750, 93000, 93250, 93500, 93750, 94000, 94250, 94500, 94750, 95000, 95250, 95500, 95750, 96000, 96250, 96500, 96750, 97000, 97250, 97500, 97750, 98000, 98250, 98500, 98750, 99000, 99250, 99500, 99750, 100000, 100250, 100500, 100750, 101000, 101250, 101500, 101750, 102000, 102250, 102500, 102750, 103000, 103250, 103500, 103750, 104000, 104250, 104500, 104750, 105000, 105250, 105500, 105750, 106000, 106250, 106500, 106750, 107000, 107250, 107500, 107750, 108000, 108250, 108500, 108750, 109000, 109250, 109500, 109750, 110000, 110250, 110500, 110750, 111000, 111250, 111500, 111750, 112000, 112250, 112500, 112750, 113000, 113250, 113500, 113750, 114000, 114250, 114500, 114750, 115000, 115250, 115500, 115750, 116000, 116250, 116500, 116750, 117000, 117250, 117500, 117750, 118000, 118250, 118500, 118750, 119000, 119250, 119500, 119750, 120000, 120250, 120500, 120750, 121000, 121250, 121500, 121750, 122000, 122250, 122500, 122750, 123000, 123250, 123500, 123750, 124000, 124250, 124500, 124750, 125000, 125250, 125500, 125750, 126000, 126250, 126500, 126750, 127000, 127250, 127500, 127750, 128000, 128250, 128500, 128750, 129000, 129250, 129500, 129750, 130000, 130250, 130500, 130750, 131000, 131250, 131500, 131750, 132000, 132250, 132500, 132750, 133000, 133250, 133500, 133750, 134000, 134250, 134500, 134750, 135000, 135250, 135500, 135750, 136000, 136250, 136500, 136750, 137000, 137250, 137500, 137750, 138000, 138250, 138500, 138750, 139000, 139250, 139500, 139750, 140000, 140250, 140500, 140750, 141000, 141250, 141500, 141750, 142000, 142250, 142500, 142750, 143000, 143250, 143500, 143750, 144000, 144250, 144500, 144750, 145000, 145250, 145500, 145750, 146000, 146250, 146500, 146750, 147000, 147250, 147500, 147750, 148000, 148250, 148500, 148750, 149000, 149250, 149500, 149750, 150000, 150250, 150500, 150750, 151000, 151250, 151500, 151750, 152000, 152250, 152500, 152750, 153000, 153250, 153500, 153750, 154000, 154250, 154500, 154750, 155000, 155250, 155500, 155750, 156000, 156250, 156500, 156750, 157000, 157250, 157500, 157750, 158000, 158250, 158500, 158750, 159000, 159250, 159500, 159750, 160000, 160250, 160500, 160750, 161000, 161250, 161500, 161750, 162000, 162250, 162500, 162750, 163000, 163250, 163500, 163750, 164000, 164250, 164500, 164750, 165000, 165250, 165500, 165750, 166000, 166250, 166500, 166750, 167000, 167250, 167500, 167750, 168000, 168250, 168500, 168750, 169000, 169250, 169500, 169750, 170000, 170250, 170500, 170750, 171000, 171250, 171500, 171750, 172000, 172250, 172500, 172750, 173000, 173250, 173500, 173750, 174000, 174250, 174500, 174750, 175000, 175250, 175500, 175750, 176000, 176250, 176500, 176750, 177000, 177250, 177500, 177750, 178000, 178250, 178500, 178750, 179000, 179250, 179500, 179750, 180000, 180250, 180500, 180750, 181000, 181250, 181500, 181750, 182000, 182250, 182500, 182750, 183000, 183250, 183500, 183750, 184000, 184250, 184500, 184750, 185000, 185250, 185500, 185750, 186000, 186250, 186500, 186750, 187000, 187250, 187500, 187750, 188000, 188250, 188500, 188750, 189000, 189250, 189500, 189750, 190000, 190250, 190500, 190750, 191000, 191250, 191500, 191750, 192000, 192250, 192500, 192750, 193000, 193250, 193500, 193750, 194000, 194250, 194500, 194750, 195000, 195250, 195500, 195750, 196000, 196250, 196500, 196750, 197000, 197250, 197500, 197750, 198000, 198250, 198500, 198750, 199000, 199250, 199500, 199750, 200000, 200250, 200500, 200750, 201000, 201250, 201500, 201750, 202000, 202250, 202500, 202750, 203000, 203250, 203500, 203750, 204000, 204250, 204500, 204750, 205000, 205250, 205500, 205750, 206000, 206250, 206500, 206750, 207000, 207250, 207500, 207750, 208000, 208250, 208500, 208750, 209000, 209250, 209500, 209750, 210000, 210250, 210500, 210750, 211000, 211250, 211500, 211750, 212000, 212250, 212500, 212750, 213000, 213250, 213500, 213750, 214000, 214250, 214500, 214750, 215000, 215250, 215500, 215750, 216000, 216250, 216500, 216750, 217000, 217250, 217500, 217750, 218000, 218250, 218500, 218750, 219000, 219250, 219500, 219750, 220000, 220250, 220500, 220750, 221000, 221250, 221500, 221750, 222000, 222250, 222500, 222750, 223000, 223250, 223500, 223750, 224000, 224250, 224500, 224750, 225000, 225250, 225500, 225750, 226000, 226250, 226500, 226750, 227000, 227250, 227500, 227750, 228000, 228250, 228500, 228750, 229000, 229250, 229500, 229750, 230000, 230250, 230500, 230750, 231000, 231250, 231500, 231750, 232000, 232250, 232500, 232750, 233000, 233250, 233500, 233750, 234000, 234250, 234500, 234750, 235000, 235250, 235500, 235750, 236000, 236250, 236500, 236750, 237000, 237250, 237500, 237750, 238000, 238250, 238500, 238750, 239000, 239250, 239500, 239750, 240000, 240250, 240500, 240750, 241000, 241250, 241500, 241750, 242000, 242250, 242500, 242750, 243000, 243250, 243500, 243750, 244000, 244250, point balayer-balE-pi1S\n",
      "gold 515    balE,balEj\n",
      "Name: pi1S, dtype: object\n",
      "point balayer-balEj-pi1S\n",
      "gold 515    balE,balEj\n",
      "Name: pi1S, dtype: object\n",
      "244500, 244750, 245000, 245250, 245500, 245750, 246000, 246250, 246500, 246750, 247000, 247250, 247500, 247750, 248000, 248250, 248500, 248750, 249000, 249250, 249500, 249750, 250000, 250250, 250500, 250750, 251000, 251250, 251500, 251750, 252000, 252250, 252500, 252750, 253000, 253250, 253500, 253750, 254000, 254250, 254500, 254750, 255000, 255250, 255500, 255750, 256000, 256250, 256500, 256750, 257000, point balayer-balEj-pi1S\n",
      "gold 515    balE,balEj\n",
      "Name: pi1S, dtype: object\n",
      "257250, 257500, 257750, 258000, 258250, 258500, 258750, 259000, 259250, 259500, 259750, 260000, 260250, 260500, 260750, 261000, 261250, 261500, 261750, 262000, 262250, 262500, 262750, 263000, 263250, 263500, 263750, 264000, 264250, 264500, 264750, 265000, 265250, 265500, 265750, 266000, 266250, 266500, 266750, 267000, 267250, 267500, 267750, 268000, 268250, 268500, 268750, 269000, 269250, 269500, 269750, 270000, 270250, 270500, 270750, 271000, 271250, 271500, 271750, 272000, 272250, 272500, 272750, 273000, 273250, 273500, 273750, 274000, 274250, 274500, 274750, 275000, 275250, 275500, 275750, 276000, 276250, 276500, 276750, 277000, 277250, 277500, 277750, 278000, 278250, 278500, 278750, 279000, 279250, 279500, 279750, 280000, 280250, 280500, 280750, 281000, 281250, 281500, 281750, 282000, 282250, 282500, 282750, 283000, 283250, 283500, 283750, 284000, 284250, 284500, 284750, 285000, 285250, 285500, 285750, 286000, 286250, 286500, 286750, 287000, 287250, 287500, 287750, 288000, 288250, 288500, 288750, 289000, 289250, 289500, 289750, 290000, 290250, 290500, 290750, 291000, 291250, 291500, 1\n",
      "CPU times: user 4min 57s, sys: 412 ms, total: 4min 58s\n",
      "Wall time: 4min 59s\n"
     ]
    }
   ],
   "source": [
    "%%time\n",
    "seuilClique=1\n",
    "#paradigmesCLIQUES=pd.DataFrame(columns=paradigmes.columns.values.tolist())\n",
    "paradigmesListe=[]\n",
    "for n,clique in enumerate(sorted(cliques,key=lambda x: len(x),reverse=True)):\n",
    "#    if seuilClique==0:\n",
    "#        seuilClique=len(clique)-15\n",
    "    if len(clique)>seuilClique:\n",
    "        paradigmeClique={}\n",
    "        sampleOK=True\n",
    "#        print (n, len(clique))\n",
    "        point=clique[0].split(\"-\")\n",
    "        lPoint=len(point)\n",
    "#        print (point,\"-\".join(point[0:len(point)-2]))\n",
    "        if lPoint==3:\n",
    "            lexeme=point[0]\n",
    "        else:\n",
    "            lexeme=\"-\".join(point[0:len(point)-2])\n",
    "        paradigmeClique[\"lexeme\"]=lexeme\n",
    "        if n%250==0: print (n,end=\", \")\n",
    "#        casesLexeme=paradigmes[paradigmes[\"lexeme\"]==lexeme].notnull().columns.tolist()\n",
    "#        casesLexeme=paradigmes[paradigmes[\"lexeme\"]==lexeme].columns[paradigmes[paradigmes[\"lexeme\"]==lexeme].notnull().iloc[0]].tolist()\n",
    "#        casesLexeme.remove(\"lexeme\")\n",
    "        casesLexeme=casesLexicales[lexeme]\n",
    "        nbInitial=len(casesLexeme)\n",
    "        if casesLexeme and len(casesLexeme)<=len(clique):\n",
    "            for element in casesLexeme:\n",
    "#                print (lexeme,element, paradigmes[paradigmes[\"lexeme\"]==lexeme][element])\n",
    "                champForme=paradigmes[paradigmes[\"lexeme\"]==lexeme][element].iloc[0]\n",
    "                if \",\"  in champForme:\n",
    "                    formes=champForme.split(\",\")\n",
    "                    nbInitial+=len(formes)-1\n",
    "                    okFormes=False\n",
    "                    for forme in formes:\n",
    "                        pointCase=u\"%s-%s-%s\"% (lexeme,forme,element)\n",
    "#                        if debug: print (pointCase, clique)\n",
    "                        if pointCase in clique:\n",
    "                            okFormes=True\n",
    "                            print (\"point\",pointCase)\n",
    "#                            print (\"clique\",clique)\n",
    "                            print (\"gold\",GOLD[GOLD[\"lexeme\"]==lexeme][element])\n",
    "                    if okFormes:\n",
    "                        sampleOK=True\n",
    "                    else:\n",
    "                        sampleOK=False\n",
    "                        break\n",
    "                else:\n",
    "                    forme=champForme\n",
    "                    pointCase=u\"%s-%s-%s\"% (lexeme,forme,element)\n",
    "                    if debug: print (pointCase, clique)\n",
    "                    if not pointCase in clique:\n",
    "                        sampleOK=False\n",
    "#                        print (\"point\",pointCase)\n",
    "#                        print (\"clique\",clique)\n",
    "#                        print (\"gold\",GOLD[GOLD[\"lexeme\"]==lexeme][element])\n",
    "                        break\n",
    "        else:\n",
    "            sampleOK=False\n",
    "        if sampleOK:\n",
    "            for element in clique:\n",
    "                elements=element.split(\"-\")\n",
    "                forme=elements[-2]\n",
    "                taminfo=elements[-1]\n",
    "#                try:\n",
    "#                 (lexeme,forme,taminfo)=element.split(\"-\")\n",
    "#                except ValueError:\n",
    "#                    print (element)\n",
    "                paradigmeClique[taminfo]=forme\n",
    "#                if taminfo in paradigmes.columns:\n",
    "#                    if not paradigmes[(paradigmes[\"lexeme\"]==lexeme)][taminfo].isnull().item():\n",
    "#                        if paradigmes[(paradigmes[\"lexeme\"]==lexeme)][taminfo].item()!=forme:\n",
    "#                            sampleOK=False\n",
    "#                            print (paradigmes[(paradigmes[\"lexeme\"]==lexeme)][taminfo].item(),forme,taminfo,end=\", \")\n",
    "            paradigmeClique[\"score\"]=cliqueScore(clique)\n",
    "            paradigmeClique[\"ajouts\"]=len(clique)-nbInitial\n",
    "#            print (cliqueScore(clique),clique)\n",
    "            paradigmesListe.append(paradigmeClique)\n",
    "        else:\n",
    "            if debug:\n",
    "                print ()\n",
    "                print (lexeme,clique)\n",
    "                print ()\n",
    "    else:\n",
    "        break\n",
    "\n",
    "paradigmesCLIQUES=pd.DataFrame(paradigmesListe,columns=GOLD.columns.values.tolist()+[u\"score\",u\"ajouts\"])\n",
    "print (seuilClique)"
   ]
  },
  {
   "cell_type": "code",
   "execution_count": 94,
   "metadata": {
    "collapsed": false,
    "scrolled": true
   },
   "outputs": [],
   "source": [
    "paradigmeSILVER=paradigmesCLIQUES[paradigmesCLIQUES[\"score\"]==paradigmesCLIQUES.groupby([\"lexeme\"])[\"score\"].transform(max)]"
   ]
  },
  {
   "cell_type": "code",
   "execution_count": 95,
   "metadata": {
    "collapsed": false
   },
   "outputs": [],
   "source": [
    "def compareGOLD(row):\n",
    "    global n\n",
    "#    if row[\"lexeme\"]==\"dodo\": \n",
    "#        debug=True\n",
    "#    else:\n",
    "#        debug=False\n",
    "    if n%250==0: print (n,end=\", \")\n",
    "    n+=1\n",
    "    ligne={k:row[k] for k in row.keys() if not k in [\"lexeme\",\"score\",\"ajouts\"]}\n",
    "    lexeme=row[\"lexeme\"]\n",
    "    score=row[\"score\"]\n",
    "    ajouts=row[\"ajouts\"]\n",
    "    if not lexeme in conjugaisons:\n",
    "        conjugaisons[lexeme]={\"diff\":[],\"miss\":[],\"over\":[],\"overmiss\":[],\"ok\":[]}\n",
    "    if not lexeme in cliquesTypes:\n",
    "        cliquesTypes[lexeme]={\"diff\":[],\"miss\":[],\"over\":[],\"overmiss\":[],\"ok\":[]}\n",
    "    identiques=[]\n",
    "    differents=[]\n",
    "    missing=[]\n",
    "    over=[]\n",
    "    for case in analyseCases:\n",
    "        if debug:    \n",
    "            print (lexeme,case)\n",
    "            print (GOLD[GOLD[\"lexeme\"]==lexeme][case].item())\n",
    "            print ((GOLD[GOLD[\"lexeme\"]==lexeme][case].isnull().iloc[0]))\n",
    "        if not case in row:\n",
    "            if debug: print (\"not case\")\n",
    "            missing.append(u\"%s : Ø ≠ %s\" % (case,GOLD[GOLD[\"lexeme\"]==lexeme][case].item()))\n",
    "            lexical=False\n",
    "            if debug: print (\"absence\",case)\n",
    "        elif case in row[row.isnull()] and not GOLD[GOLD[\"lexeme\"]==lexeme][case].isnull().iloc[0]:\n",
    "            if debug: print (\"not case\")\n",
    "            missing.append(u\"%s : Ø ≠ %s\" % (case,GOLD[GOLD[\"lexeme\"]==lexeme][case].item()))\n",
    "            lexical=False\n",
    "            if debug: print (\"CLIQUES +NaN\",case)\n",
    "        elif not case in row[row.isnull()] and GOLD[GOLD[\"lexeme\"]==lexeme][case].isnull().iloc[0]:\n",
    "            if debug: print (\"not case\")\n",
    "            over.append(u\"%s : %s ≠ Ø\" % (case,row[case]))\n",
    "            lexical=False\n",
    "            if debug: print (\"GOLD -NaN\",case)            \n",
    "        elif (row[case]==GOLD[GOLD[\"lexeme\"]==lexeme][case].item()):\n",
    "            if debug: print (\"egal\")\n",
    "            identiques.append(u\"%s : %s\" % (case,row[case]))\n",
    "            if debug: print (\"valeurs id\")\n",
    "        elif (case in row[row.isnull()]) and (GOLD[GOLD[\"lexeme\"]==lexeme][case].isnull().iloc[0]):\n",
    "            if debug: print (\"NaNs\")\n",
    "            identiques.append(u\"%s : %s\" % (case,u\"ØØØ\"))\n",
    "            if debug: print (\"deux NaN\")\n",
    "        else:\n",
    "            if debug: print (\"else\")\n",
    "            differents.append(u\"%s : %s ≠ %s\" % (case, row[case],GOLD[GOLD[\"lexeme\"]==lexeme][case].item()))\n",
    "            lexical=False\n",
    "            if debug: print (u\"différence\",case)\n",
    "    if differents:\n",
    "        conjugaisons[lexeme][\"diff\"].append(differents)\n",
    "        cliquesTypes[lexeme][\"diff\"].append((ligne,score,ajouts))\n",
    "        if debug: print (\"DIFF\",len(differents),\"=>\", len(identiques), len(identiques)-nombreElements[lexeme], end=saut)\n",
    "        if debug1: print (\", \".join(differents))\n",
    "    if missing and over:\n",
    "        conjugaisons[lexeme][\"overmiss\"].append(over+missing)\n",
    "        cliquesTypes[lexeme][\"overmiss\"].append((ligne,score,ajouts))\n",
    "        if debug: print (\"OVERMISS\", len(over), len(missing),\"=>\", len(identiques), len(identiques)-nombreElements[lexeme], end=saut)\n",
    "        if debug1: \n",
    "            print (\", \".join(missing))\n",
    "            print (\", \".join(over))\n",
    "    elif missing:\n",
    "        conjugaisons[lexeme][\"miss\"].append(missing)\n",
    "        cliquesTypes[lexeme][\"miss\"].append((ligne,score,ajouts))\n",
    "        if debug: print (\"MISS\", len(missing),\"=>\", len(identiques), len(identiques)-nombreElements[lexeme], end=saut)\n",
    "        if debug1: \n",
    "            print (\", \".join(missing))\n",
    "    elif over:\n",
    "        conjugaisons[lexeme][\"over\"].append(over)\n",
    "        cliquesTypes[lexeme][\"over\"].append((ligne,score,ajouts))\n",
    "        if debug: print (\"OVER\", len(over),\"=>\", len(identiques), len(identiques)-nombreElements[lexeme], end=saut)\n",
    "        if debug1: \n",
    "            print (\", \".join(over))\n",
    "    if identiques:\n",
    "        conjugaisons[lexeme][\"ok\"].append(identiques)\n",
    "        cliquesTypes[lexeme][\"ok\"].append((ligne,score,ajouts))\n",
    "        if debug: print (\"OK\", len(identiques), len(identiques)-nombreElements[lexeme],end=saut)\n",
    "        if debug1: print (\", \".join(identiques))\n",
    "#    print ()\n",
    "    return lexical"
   ]
  },
  {
   "cell_type": "code",
   "execution_count": 96,
   "metadata": {
    "collapsed": false,
    "scrolled": true
   },
   "outputs": [
    {
     "name": "stdout",
     "output_type": "stream",
     "text": [
      "ai1P, ai1S, ai2P, ai2S, ai3P, ai3S, fi1P, fi1S, fi2P, fi2S, fi3P, fi3S, ii1P, ii1S, ii2P, ii2S, ii3P, ii3S, inf, is1S, is3P, is3S, pI1P, pI2P, pI2S, pP, pc1P, pc1S, pc2P, pc2S, pc3P, pc3S, pi1P, pi1S, pi2P, pi2S, pi3P, pi3S, ppFP, ppFS, ppMP, ppMS, ps1P, ps1S, ps2P, ps2S, ps3P, ps3S\n",
      "0, 250, 500, 750, 1000, 1250, 1500, 1750, 2000, 2250, 2500, 2750, 3000, CPU times: user 4min 49s, sys: 227 ms, total: 4min 50s\n",
      "Wall time: 4min 50s\n"
     ]
    }
   ],
   "source": [
    "%%time\n",
    "debug=False\n",
    "debug1=False\n",
    "saut=\"\\n\"\n",
    "n=0\n",
    "conjugaisons={}\n",
    "cliquesTypes={}\n",
    "print (\", \".join(sampleCases))\n",
    "#paradigmesCLIQUES.apply(compareGOLD,axis=1)\n",
    "paradigmeSILVER.apply(compareGOLD,axis=1)"
   ]
  },
  {
   "cell_type": "markdown",
   "metadata": {
    "collapsed": true
   },
   "source": [
    "with codecs.open(\"2015-Data/\"+samplePrefix+\".yaml\", 'w', encoding='utf8') as outfile:\n",
    "    outfile.write(yaml.dump(conjugaisons, default_flow_style=True, encoding='utf8'))"
   ]
  },
  {
   "cell_type": "code",
   "execution_count": 97,
   "metadata": {
    "collapsed": false
   },
   "outputs": [],
   "source": [
    "yaml.safe_dump(conjugaisons, file(\"2015-Data/\"+samplePrefix+dateheure()+\".yaml\",'w'), encoding='utf-8', allow_unicode=True)\n",
    "yaml.safe_dump(cliquesTypes, file(\"2015-Data/\"+samplePrefix+\"cliques-\"+dateheure()+\".yaml\",'w'), encoding='utf-8', allow_unicode=True)"
   ]
  },
  {
   "cell_type": "markdown",
   "metadata": {
    "collapsed": false
   },
   "source": [
    "pb=[i for i in conjugaisons if conjugaisons[i][\"diff\"]]\n",
    "print (len(pb))\n",
    "for element in pb:\n",
    "    print (element)\n",
    "    print (\"DIFF\",conjugaisons[element][\"diff\"])\n",
    "    print (\"MISS\",conjugaisons[element][\"miss\"],end=\"\\n\\n\")"
   ]
  },
  {
   "cell_type": "markdown",
   "metadata": {
    "collapsed": false
   },
   "source": [
    "good=[i for i in conjugaisons if not conjugaisons[i][\"diff\"]]\n",
    "for lexeme in good:\n",
    "    print (lexeme)\n",
    "    for ident in conjugaisons[lexeme]:\n",
    "        for element in conjugaisons[lexeme][ident]:\n",
    "            print (ident)\n",
    "            print (\", \".join(element))\n",
    "    print ()"
   ]
  },
  {
   "cell_type": "code",
   "execution_count": 98,
   "metadata": {
    "collapsed": false,
    "scrolled": true
   },
   "outputs": [
    {
     "data": {
      "text/plain": [
       "{'bon': 65989, 'mauvais': 6409}"
      ]
     },
     "execution_count": 98,
     "metadata": {},
     "output_type": "execute_result"
    }
   ],
   "source": [
    "precisions={\"bon\":0,\"mauvais\":0}\n",
    "for verbe in cliquesTypes:\n",
    "    if debug: print (verbe)\n",
    "    for cle in cliquesTypes[verbe]:\n",
    "        if debug: print (cle)\n",
    "        for element in cliquesTypes[verbe][cle]:\n",
    "            if debug: print (element[1],element[2])\n",
    "            if cle in [\"ok\"]:\n",
    "                precisions[\"bon\"]+=element[2]\n",
    "            elif cle in [\"diff\"]:\n",
    "                precisions[\"mauvais\"]+=element[2]\n",
    "precisions"
   ]
  },
  {
   "cell_type": "code",
   "execution_count": 99,
   "metadata": {
    "collapsed": false
   },
   "outputs": [
    {
     "data": {
      "text/plain": [
       "0.9114754551230697"
      ]
     },
     "execution_count": 99,
     "metadata": {},
     "output_type": "execute_result"
    }
   ],
   "source": [
    "float(precisions[\"bon\"])/(precisions[\"bon\"]+precisions[\"mauvais\"])"
   ]
  },
  {
   "cell_type": "code",
   "execution_count": 100,
   "metadata": {
    "collapsed": false
   },
   "outputs": [
    {
     "data": {
      "text/plain": [
       "{'bon': 70304, 'mauvais': 7202, 'total': 134561}"
      ]
     },
     "execution_count": 100,
     "metadata": {},
     "output_type": "execute_result"
    }
   ],
   "source": [
    "basesMesures={\"total\":0,\"bon\":0,\"mauvais\":0}\n",
    "for verbe in conjugaisons:\n",
    "    for cat in conjugaisons[verbe]:\n",
    "        if conjugaisons[verbe][cat]:\n",
    "#            print (verbe,cat,len(conjugaisons[verbe][cat][0]))\n",
    "            if cat==\"miss\":\n",
    "                basesMesures[\"total\"]+=len(conjugaisons[verbe][cat][0])\n",
    "            elif cat==\"ok\":\n",
    "                basesMesures[\"bon\"]+=len(conjugaisons[verbe][cat][0])\n",
    "                basesMesures[\"total\"]+=len(conjugaisons[verbe][cat][0])\n",
    "            elif cat==\"diff\":\n",
    "                basesMesures[\"mauvais\"]+=len(conjugaisons[verbe][cat][0])\n",
    "                basesMesures[\"total\"]+=len(conjugaisons[verbe][cat][0])\n",
    "            elif cat==\"overmiss\":\n",
    "                basesMesures[\"mauvais\"]+=len(conjugaisons[verbe][cat][0])\n",
    "                basesMesures[\"total\"]+=len(conjugaisons[verbe][cat][0])\n",
    "basesMesures"
   ]
  },
  {
   "cell_type": "code",
   "execution_count": 101,
   "metadata": {
    "collapsed": false
   },
   "outputs": [
    {
     "data": {
      "text/plain": [
       "0.9070781616907078"
      ]
     },
     "execution_count": 101,
     "metadata": {},
     "output_type": "execute_result"
    }
   ],
   "source": [
    "precisionManip=float(basesMesures[\"bon\"])/(basesMesures[\"bon\"]+basesMesures[\"mauvais\"])\n",
    "precisionManip"
   ]
  },
  {
   "cell_type": "code",
   "execution_count": 102,
   "metadata": {
    "collapsed": false
   },
   "outputs": [
    {
     "data": {
      "text/plain": [
       "0.5224693633370739"
      ]
     },
     "execution_count": 102,
     "metadata": {},
     "output_type": "execute_result"
    }
   ],
   "source": [
    "rappelManip=float(basesMesures[\"bon\"])/(basesMesures[\"total\"])\n",
    "rappelManip"
   ]
  }
 ],
 "metadata": {
  "kernelspec": {
   "display_name": "Python 2",
   "language": "python",
   "name": "python2"
  },
  "language_info": {
   "codemirror_mode": {
    "name": "ipython",
    "version": 2
   },
   "file_extension": ".py",
   "mimetype": "text/x-python",
   "name": "python",
   "nbconvert_exporter": "python",
   "pygments_lexer": "ipython2",
   "version": "2.7.10"
  }
 },
 "nbformat": 4,
 "nbformat_minor": 0
}
