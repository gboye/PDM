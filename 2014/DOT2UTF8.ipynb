{
 "cells": [
  {
   "cell_type": "code",
   "execution_count": 19,
   "metadata": {
    "collapsed": false
   },
   "outputs": [],
   "source": [
    "import glob,re,codecs\n",
    "fichiersDOT=glob.glob(\"*.dot\")\n",
    "#fichiersDOT"
   ]
  },
  {
   "cell_type": "code",
   "execution_count": 41,
   "metadata": {
    "collapsed": true
   },
   "outputs": [],
   "source": [
    "fichierDOT='aboyer-PRS3-graphe.dot'\n",
    "with open(fichierDOT,\"r\") as input:\n",
    "    contenuDOT=input.readlines()"
   ]
  },
  {
   "cell_type": "code",
   "execution_count": 42,
   "metadata": {
    "collapsed": true
   },
   "outputs": [],
   "source": [
    "bdlexIn=[u\"S\",u\"J\",u\"E\",u\"E~\",u\"A~\",u\"O~\",u\"6\"]\n",
    "ipaOut=[u\"ʃ\",u\"ɲ\",u\"e\",u\"ɛ̃\",u\"ɑ̃\",u\"ɔ̃\",u\"ə\"]\n",
    "def recoder(chaine):\n",
    "    if isinstance(chaine,str):\n",
    "        chaine=chaine.decode(\"utf8\")\n",
    "    for n,element in enumerate(bdlexIn):\n",
    "        chaine=chaine.replace(element,ipaOut[n])\n",
    "    return chaine"
   ]
  },
  {
   "cell_type": "code",
   "execution_count": 43,
   "metadata": {
    "collapsed": false
   },
   "outputs": [],
   "source": [
    "sortie=[]\n",
    "for line in contenuDOT:\n",
    "    line=line.strip()\n",
    "    m=re.match(r'^\"([^\"]+)-([^\"]+)\"(.*)$',line)\n",
    "    if m:\n",
    "        line='\"%s-%s\"%s'%(m.group(1),recoder(m.group(2)),m.group(3))\n",
    "    m=re.match(r'^(.+ label=\"[^\"]+)-([^\"]+)\"(.*)$',line)\n",
    "    if m:\n",
    "        line='%s-%s\"%s'%(m.group(1),recoder(m.group(2)),m.group(3))\n",
    "    m=re.match(r'^(.+ -- \"[^\"]+)-([^\"]+)\"(.*)$',line)\n",
    "    if m:\n",
    "        line='%s-%s\"%s'%(m.group(1),recoder(m.group(2)),m.group(3))\n",
    "    sortie.append(line)"
   ]
  },
  {
   "cell_type": "code",
   "execution_count": 44,
   "metadata": {
    "collapsed": false
   },
   "outputs": [],
   "source": [
    "with codecs.open(fichierDOT.replace(\".dot\",\"-utf8.dot\"),\"w\",encoding=\"utf8\") as output:\n",
    "    for line in sortie:\n",
    "        output.write(line+\"\\n\")"
   ]
  },
  {
   "cell_type": "code",
   "execution_count": null,
   "metadata": {
    "collapsed": true
   },
   "outputs": [],
   "source": []
  }
 ],
 "metadata": {
  "kernelspec": {
   "display_name": "Python 2",
   "language": "python",
   "name": "python2"
  },
  "language_info": {
   "codemirror_mode": {
    "name": "ipython",
    "version": 2
   },
   "file_extension": ".py",
   "mimetype": "text/x-python",
   "name": "python",
   "nbconvert_exporter": "python",
   "pygments_lexer": "ipython2",
   "version": "2.7.11"
  }
 },
 "nbformat": 4,
 "nbformat_minor": 0
}
