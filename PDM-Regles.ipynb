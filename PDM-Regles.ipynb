{
 "metadata": {
  "name": "",
  "signature": "sha256:8f4f86711a39238686c5362d90dcd26bd8ea2304eca2fe7cd7bbffdb3f2e2179"
 },
 "nbformat": 3,
 "nbformat_minor": 0,
 "worksheets": [
  {
   "cells": [
    {
     "cell_type": "code",
     "collapsed": false,
     "input": [
      "import re\n",
      "import sys\n",
      "import copy"
     ],
     "language": "python",
     "metadata": {},
     "outputs": [],
     "prompt_number": 1
    },
    {
     "cell_type": "code",
     "collapsed": false,
     "input": [
      "def strFloat(num):\n",
      "    return (\"%0.2f\"%num).rstrip(\"0\").rstrip(\".\")"
     ],
     "language": "python",
     "metadata": {},
     "outputs": [],
     "prompt_number": 1
    },
    {
     "cell_type": "code",
     "collapsed": false,
     "input": [
      "sepPaire=\"=>\"\n",
      "paireCase=\"\"\n",
      "pairesCases=[]\n",
      "pairesCasesRegles={}\n",
      "sortiesCases={}\n",
      "Classes={}\n",
      "classeDict={}\n",
      "classeListe=[]\n",
      "reglesSPE={}\n",
      "reglesPDM=[]"
     ],
     "language": "python",
     "metadata": {},
     "outputs": [],
     "prompt_number": 56
    },
    {
     "cell_type": "code",
     "collapsed": false,
     "input": [
      "def formaterRegle(line):\n",
      "    m=re.search(\"^(\\S+)\\s+-->\\s+(\\S+)\\s+/\\s+(\\S+)\\s+___\\s+(\\S+)\\s+(.*)$\",line)\n",
      "    if m:\n",
      "        a=m.group(1)\n",
      "        if a==\"[]\":\n",
      "            a=\"\"\n",
      "        b=m.group(2)\n",
      "        if b==\"[]\":\n",
      "            b=\"\"\n",
      "        c=\"\".join(m.group(3).split(\",\"))\n",
      "        if c[0]==\"X\":\n",
      "            c=\"^(.*\"+c[1:]+\")\"\n",
      "        if c[0]==\"#\":\n",
      "            c=\"^(\"+c[1:]+\")\"\n",
      "        d=m.group(4)\n",
      "        if d[-1]==\"X\":\n",
      "            d=\"(\"+d[:-1]+\".*)$\"\n",
      "        if d[-1]==\"#\":\n",
      "            d=\"(\"+d[:-1]+\")$\"\n",
      "        reste=m.group(5)\n",
      "        return (c+a+d,b,reste)\n",
      "    else:\n",
      "        print (\"NOT A RULE\")\n",
      "        return"
     ],
     "language": "python",
     "metadata": {},
     "outputs": [],
     "prompt_number": 57
    },
    {
     "cell_type": "code",
     "collapsed": false,
     "input": [
      "class Paire:\n",
      "    '''\n",
      "    Cette classe permet de d\u00e9finir une paire (entree,sortie)\n",
      "    '''\n",
      "    def __init__(self,entree,sortie):\n",
      "        self.entree=entree\n",
      "        self.sortie=sortie\n",
      "        \n",
      "    def __repr__(self):\n",
      "        return ('(\"%s\",%s)'%(self.entree,self.sortie))\n",
      "    \n",
      "    def __getitem__(self,index):\n",
      "        if index==0:\n",
      "            return self.entree\n",
      "        elif index==1:\n",
      "            return self.sortie\n",
      "        else:\n",
      "            raise ValueError(\"out of range [0,1]\")\n",
      "            \n",
      "    def __setitem__(self,index,value):\n",
      "        if index==0:\n",
      "            self.entree=value\n",
      "        elif index==1:\n",
      "            self.sortie=value\n",
      "        else:\n",
      "            raise ValueError(\"out of range [0,1]\")\n",
      "            \n",
      "    def val(self):\n",
      "        return (self.entree,self.sortie)        "
     ],
     "language": "python",
     "metadata": {},
     "outputs": [],
     "prompt_number": 59
    },
    {
     "cell_type": "code",
     "collapsed": false,
     "input": [
      "class Regles:\n",
      "    '''\n",
      "    Cette classe permet de stocker les r\u00e8gles de PredSPE dans les variables regles et reglesPaire\n",
      "     - regles contient toutes les transformations\n",
      "     - reglesPaire contient les num\u00e9ros des transformations utiles pour une paire (entree,sortie)\n",
      "    '''\n",
      "    def __init__(self):\n",
      "        self.regles=[]\n",
      "        self.reglesPaire={}\n",
      " "
     ],
     "language": "python",
     "metadata": {},
     "outputs": [],
     "prompt_number": 60
    },
    {
     "cell_type": "code",
     "collapsed": false,
     "input": [
      "class RegleDist:\n",
      "    '''\n",
      "    Cette classe permet de stocker une r\u00e8gle de transformation et sa proportion\n",
      "    '''\n",
      "    def __init__(self,regle,proportion):\n",
      "        self.regle=regle\n",
      "        self.proportion=proportion\n",
      "        \n",
      "    def __repr__(self):\n",
      "        return ('(%d,%s)'%(self.regle,strFloat(self.proportion)))\n",
      "    \n",
      "    def __getitem__(self,index):\n",
      "        if index==0:\n",
      "            return self.regle\n",
      "        elif index==1:\n",
      "            return self.proportion\n",
      "        else:\n",
      "            raise ValueError(\"out of range [0,1]\")\n",
      "            \n",
      "    def __setitem__(self,index,value):\n",
      "        if index==0:\n",
      "            self.regle=value\n",
      "        elif index==1:\n",
      "            self.proportion=value\n",
      "        else:\n",
      "            raise ValueError(\"out of range [0,1]\")\n",
      "\n",
      "    def r(self):\n",
      "        return self.regle\n",
      "    \n",
      "    def d(self):\n",
      "        return self.proportion\n",
      "\n",
      "    def val(self):\n",
      "        return (self.regle,self.proportion)        "
     ],
     "language": "python",
     "metadata": {},
     "outputs": [],
     "prompt_number": 2
    },
    {
     "cell_type": "code",
     "collapsed": false,
     "input": [
      "r1=RegleDist(1,.3)\n",
      "r2=RegleDist(12,.3)\n",
      "r3=RegleDist(14,.3)"
     ],
     "language": "python",
     "metadata": {},
     "outputs": [],
     "prompt_number": 3
    },
    {
     "cell_type": "code",
     "collapsed": false,
     "input": [
      "class FormeClasse:\n",
      "    '''\n",
      "    Cette classe permet de stocker une classe distributionnelle de formes\n",
      "    '''\n",
      "    \n",
      "    def __init__(self,nom=\"\",etiquette=True):\n",
      "        self.nom=str(nom)\n",
      "        self.etiquette=etiquette\n",
      "        self.reglesDist=[]\n",
      "        self.regles=[]\n",
      "        self.total=0\n",
      "        \n",
      "    def __repr__(self):\n",
      "        temp=[]\n",
      "        for element in self.numRulesDist():\n",
      "            temp.append(str(element))\n",
      "        if self.etiquette:\n",
      "            nomClasse=self.nom+\" : \"\n",
      "        else:\n",
      "            nomClasse=\"\"\n",
      "        return \"%s[%s]\"%(nomClasse,\", \".join(temp))\n",
      "            \n",
      "        \n",
      "    def addRule(self,regleDist):\n",
      "        if not regleDist.r() in self.regles:\n",
      "            self.reglesDist.append(regleDist)\n",
      "            self.regles.append(regleDist.r())\n",
      "            self.total+=regleDist.d()\n",
      "        else:\n",
      "            raise ValueError(\"La r\u00e8gle %d est d\u00e9j\u00e0 dans la distribution\"%regleDist.r())\n",
      "\n",
      "    def addRules(self,*reglesDist):\n",
      "        for regleDist in reglesDist:\n",
      "            self.addRule(regleDist)\n",
      "        \n",
      "    def numRulesDist(self):\n",
      "        normalReglesDist=[]\n",
      "        for dr in self.reglesDist:\n",
      "            normalReglesDist.append(RegleDist(dr.r(),float(strFloat(dr.d()/self.total))))\n",
      "        return normalReglesDist"
     ],
     "language": "python",
     "metadata": {},
     "outputs": [],
     "prompt_number": 4
    },
    {
     "cell_type": "code",
     "collapsed": false,
     "input": [
      "fc1=FormeClasse(1)\n",
      "fc1.addRules(r1,r2,r3)\n",
      "fc2=FormeClasse(2)\n",
      "fc2.addRules(r1,r2)\n",
      "fc1"
     ],
     "language": "python",
     "metadata": {},
     "outputs": [
      {
       "metadata": {},
       "output_type": "pyout",
       "prompt_number": 5,
       "text": [
        "1 : [(1,0.33), (12,0.33), (14,0.33)]"
       ]
      }
     ],
     "prompt_number": 5
    },
    {
     "cell_type": "code",
     "collapsed": false,
     "input": [
      "class PaireClasse:\n",
      "    '''\n",
      "    Cette classe permet de stocker les classes distributionnelles d'une paire\n",
      "     - distribution : un dict qui associe chaque r\u00e8gle \u00e0 sa proportion dans la distribution\n",
      "    '''\n",
      "    \n",
      "    def __init__(self,nom=\"Classes\",etiquette=True):\n",
      "        self.nom=nom\n",
      "        self.etiquette=etiquette\n",
      "        self.classes=[]\n",
      "    \n",
      "    def __repr__(self):\n",
      "        temp=[]\n",
      "        for element in self.classes:\n",
      "            temp.append(str(element))\n",
      "        classes=\",\".join(temp)\n",
      "        if self.etiquette and self.nom!=\"\":\n",
      "            nomClasse=self.nom+\" : \"\n",
      "        else:\n",
      "            nomClasse=\"\"\n",
      "        return \"%s[%s]\"%(nomClasse,classes)\n",
      "\n",
      "    def name(self):\n",
      "        return self.nom\n",
      "    \n",
      "    def label(self,etiquette):\n",
      "        self.etiquette=etiquette\n",
      "\n",
      "    def addFormeClasse(self,FormeClasse):\n",
      "        self.classes.append(FormeClasse)\n",
      "    \n",
      "    def addFormesClasses(self,*FormesClasses):\n",
      "        for FormeClasse in FormesClasses:\n",
      "            self.addFormeClasse(FormeClasse)\n",
      "    \n",
      "    def content(self,original=False):\n",
      "        return self.classes\n",
      "        \n"
     ],
     "language": "python",
     "metadata": {},
     "outputs": [],
     "prompt_number": 8
    },
    {
     "cell_type": "code",
     "collapsed": false,
     "input": [
      "ab=PaireClasse(\"prs=>inf\")\n",
      "ab.addFormesClasses(fc1,fc2)\n",
      "ab"
     ],
     "language": "python",
     "metadata": {},
     "outputs": [
      {
       "metadata": {},
       "output_type": "pyout",
       "prompt_number": 9,
       "text": [
        "prs=>inf : [1 : [(1,0.33), (12,0.33), (14,0.33)],2 : [(1,0.5), (12,0.5)]]"
       ]
      }
     ],
     "prompt_number": 9
    },
    {
     "cell_type": "code",
     "collapsed": false,
     "input": [
      "def paireEntree(paire):\n",
      "    return paire.split(\"=>\")[0]\n",
      "def paireSortie(paire):\n",
      "    return paire.split(\"=>\")[1]\n",
      "def fairePaire(entree,sortie):\n",
      "    return entree+sepPaire+sortie"
     ],
     "language": "python",
     "metadata": {},
     "outputs": [],
     "prompt_number": 3
    },
    {
     "cell_type": "markdown",
     "metadata": {},
     "source": [
      "###Ajouter une r\u00e8gle \u00e0 la liste et renvoyer le num\u00e9ro de la r\u00e8gle\n",
      "\n",
      "si la r\u00e8gle existe d\u00e9j\u00e0, on renvoie simplement le num\u00e9ro existant"
     ]
    },
    {
     "cell_type": "code",
     "collapsed": false,
     "input": [
      "def ajouterRegle(regle):\n",
      "    (regex,subst)=regle\n",
      "    if not regle in reglesPDM:\n",
      "        reglesPDM.append(regle)\n",
      "    return reglesPDM.index(regle)"
     ],
     "language": "python",
     "metadata": {},
     "outputs": [],
     "prompt_number": 5
    },
    {
     "cell_type": "markdown",
     "metadata": {},
     "source": [
      "###Interface avec la sortie de PredSPE"
     ]
    },
    {
     "cell_type": "code",
     "collapsed": false,
     "input": [
      "def lirePredSPE(nomFichier):\n",
      "    try:\n",
      "        fichierPredSPE=open(nomFichier,\"r\")\n",
      "    except IOError:\n",
      "        print ('I could not open the file', nomFichier)\n",
      "        sys.exit()\n",
      "    zoneRegles=False\n",
      "    zoneClasses=False\n",
      "    zoneClasse=False\n",
      "    for line in fichierPredSPE:\n",
      "        line=line.strip()\n",
      "        m=re.search(\"^\\s*(\\S+)\\s+==>\\s+(\\S+)\\s*$\",line)\n",
      "        if m:\n",
      "            paireCase=m.group(1)+sepPaire+m.group(2)\n",
      "#            print (paireCase)\n",
      "            reglesSPE[paireCase]=[]\n",
      "            pairesCases.append(paireCase)\n",
      "            case=paireSortie(paireCase)\n",
      "            if not case in sortiesCases:\n",
      "                sortiesCases[case]=[]\n",
      "            sortiesCases[case].append(paireEntree(paireCase))\n",
      "        if \"*****\" in line:\n",
      "            zoneRegles=False\n",
      "            zoneClasses=False\n",
      "        if \"done.\" in line:\n",
      "            zoneRegles=False\n",
      "        if \"conditional entropy for\" in line:\n",
      "            zoneClasses=False        \n",
      "            paireCase=\"\"\n",
      "        if zoneRegles:\n",
      "#            print (\"R\u00e8gle\",line)\n",
      "#            reglesSPE[paireCase].append(line)\n",
      "            (inPatron,mod,reste)=formaterRegle(line)\n",
      "            if not paireCase in pairesCasesRegles:\n",
      "                pairesCasesRegles[paireCase]=[]\n",
      "            pairesCasesRegles[paireCase].append((ajouterRegle((inPatron,mod))))\n",
      "        if zoneClasses:\n",
      "            if \"local conditional entropy\" in line:\n",
      "                zoneClasse=False\n",
      "                nomClasse=\"-\".join(sorted(classeListe,key=int))\n",
      "                if not paireCase in Classes:\n",
      "                    Classes[paireCase]={}\n",
      "                Classes[paireCase][nomClasse]=classeDict\n",
      "            if zoneClasse:\n",
      "                (inPatron, mod, reste)=formaterRegle(line)\n",
      "                n=re.search(\"^.*\u2014(.+)%.*$\",reste)\n",
      "                if n:\n",
      "                    classeDict[reglesPDM.index((inPatron,mod))]=float(n.group(1))\n",
      "                    classeListe.append(str(reglesPDM.index((inPatron,mod))))\n",
      "#                    print (reglesPDM.index((inPatron,mod)),float(n.group(1)))\n",
      "                else:\n",
      "                    print (\"NO DISTRIBUTION\")\n",
      "            if \"class\" in line:\n",
      "                zoneClasse=True\n",
      "                classeDict={}\n",
      "                classeListe=[]\n",
      "        if \"Inferring rules\" in line:\n",
      "            zoneRegles=True\n",
      "        if \"done.\" in line:\n",
      "            zoneClasses=True\n"
     ],
     "language": "python",
     "metadata": {},
     "outputs": [],
     "prompt_number": 6
    },
    {
     "cell_type": "code",
     "collapsed": false,
     "input": [
      "lirePredSPE(\"./PDM-AllRules-140821.txt\")\n"
     ],
     "language": "python",
     "metadata": {},
     "outputs": [],
     "prompt_number": 7
    },
    {
     "cell_type": "markdown",
     "metadata": {},
     "source": [
      "###Lecture des r\u00e8gles\n",
      "\n",
      "- Les r\u00e8gles sont transform\u00e9es en expression r\u00e9guli\u00e8res.\n",
      "- *reglesPDM* contient la liste des r\u00e8gles\n",
      "- *pairesCasesRegles* contient les num\u00e9ros des r\u00e8gles utilis\u00e9es pour chaque paire de cases"
     ]
    },
    {
     "cell_type": "code",
     "collapsed": false,
     "input": [
      "# reglesPDM=[]\n",
      "# pairesCasesRegles={}\n",
      "for paireCase in pairesCases:\n",
      "#    pairesCasesRegles[paireCase]=[]\n",
      "#    for regleSPE in reglesSPE[paireCase]:\n",
      "#        (inPatron,mod,reste)=formaterRegle(regleSPE)\n",
      "#        pairesCasesRegles[paireCase].append(ajouterRegle((inPatron,mod)))\n",
      "    pairesCasesRegles[paireCase]=sorted(pairesCasesRegles[paireCase])"
     ],
     "language": "python",
     "metadata": {},
     "outputs": [],
     "prompt_number": 8
    },
    {
     "cell_type": "code",
     "collapsed": false,
     "input": [],
     "language": "python",
     "metadata": {},
     "outputs": [],
     "prompt_number": 13
    }
   ],
   "metadata": {}
  }
 ]
}