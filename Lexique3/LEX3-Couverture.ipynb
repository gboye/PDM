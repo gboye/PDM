{
 "cells": [
  {
   "cell_type": "code",
   "execution_count": 1,
   "metadata": {},
   "outputs": [],
   "source": [
    "import codecs\n",
    "import pandas as pd"
   ]
  },
  {
   "cell_type": "code",
   "execution_count": 2,
   "metadata": {},
   "outputs": [],
   "source": [
    "nomLexique3=\"/Users/gilles/Dropbox/Travail/Recherche/BoKu/LingInfo/Lexique3/Lexique381/Lexique381.csv\""
   ]
  },
  {
   "cell_type": "code",
   "execution_count": 3,
   "metadata": {},
   "outputs": [],
   "source": [
    "dfLex3Brut=pd.read_csv(nomLexique3,sep=\"\\t\")"
   ]
  },
  {
   "cell_type": "code",
   "execution_count": 4,
   "metadata": {},
   "outputs": [
    {
     "name": "stdout",
     "output_type": "stream",
     "text": [
      "ADJ, ADJ:dem, ADJ:ind, ADJ:int, ADJ:num, ADJ:pos, ADV, ART:def, ART:ind, AUX, CON, LIA, NOM, ONO, PRE, PRO:dem, PRO:ind, PRO:int, PRO:per, PRO:pos, PRO:rel, VER\n"
     ]
    }
   ],
   "source": [
    "lex3Categories=[c for c in dfLex3Brut[\"4_cgram\"].unique().tolist() if isinstance(c,str)]\n",
    "print \", \".join(sorted(lex3Categories))"
   ]
  },
  {
   "cell_type": "code",
   "execution_count": 5,
   "metadata": {},
   "outputs": [
    {
     "data": {
      "text/plain": [
       "48286"
      ]
     },
     "execution_count": 5,
     "metadata": {},
     "output_type": "execute_result"
    }
   ],
   "source": [
    "dfNoms=dfLex3Brut[dfLex3Brut[\"4_cgram\"]==\"NOM\"].loc[:,\"1_ortho\":\"6_nombre\"]\n",
    "dfNoms.count()[\"1_ortho\"]"
   ]
  },
  {
   "cell_type": "code",
   "execution_count": 6,
   "metadata": {},
   "outputs": [
    {
     "data": {
      "text/plain": [
       "26806"
      ]
     },
     "execution_count": 6,
     "metadata": {},
     "output_type": "execute_result"
    }
   ],
   "source": [
    "dfAdjectifs=dfLex3Brut[dfLex3Brut[\"4_cgram\"]==\"ADJ\"].loc[:,\"1_ortho\":\"6_nombre\"]\n",
    "dfAdjectifs.count()[\"1_ortho\"]"
   ]
  },
  {
   "cell_type": "code",
   "execution_count": 7,
   "metadata": {},
   "outputs": [
    {
     "data": {
      "text/html": [
       "<div>\n",
       "<style scoped>\n",
       "    .dataframe tbody tr th:only-of-type {\n",
       "        vertical-align: middle;\n",
       "    }\n",
       "\n",
       "    .dataframe tbody tr th {\n",
       "        vertical-align: top;\n",
       "    }\n",
       "\n",
       "    .dataframe thead th {\n",
       "        text-align: right;\n",
       "    }\n",
       "</style>\n",
       "<table border=\"1\" class=\"dataframe\">\n",
       "  <thead>\n",
       "    <tr style=\"text-align: right;\">\n",
       "      <th></th>\n",
       "      <th></th>\n",
       "      <th>3_lemme</th>\n",
       "    </tr>\n",
       "    <tr>\n",
       "      <th>5_genre</th>\n",
       "      <th>6_nombre</th>\n",
       "      <th></th>\n",
       "    </tr>\n",
       "  </thead>\n",
       "  <tbody>\n",
       "    <tr>\n",
       "      <th rowspan=\"2\" valign=\"top\">f</th>\n",
       "      <th>p</th>\n",
       "      <td>7069</td>\n",
       "    </tr>\n",
       "    <tr>\n",
       "      <th>s</th>\n",
       "      <td>11787</td>\n",
       "    </tr>\n",
       "    <tr>\n",
       "      <th rowspan=\"2\" valign=\"top\">m</th>\n",
       "      <th>p</th>\n",
       "      <td>9673</td>\n",
       "    </tr>\n",
       "    <tr>\n",
       "      <th>s</th>\n",
       "      <td>15351</td>\n",
       "    </tr>\n",
       "  </tbody>\n",
       "</table>\n",
       "</div>"
      ],
      "text/plain": [
       "                  3_lemme\n",
       "5_genre 6_nombre         \n",
       "f       p            7069\n",
       "        s           11787\n",
       "m       p            9673\n",
       "        s           15351"
      ]
     },
     "execution_count": 7,
     "metadata": {},
     "output_type": "execute_result"
    }
   ],
   "source": [
    "dfNoms.groupby(\"5_genre\").count()\n",
    "dfNoms.groupby(\"6_nombre\").count()\n",
    "dfNoms.groupby([\"5_genre\",\"6_nombre\"]).count()[[\"3_lemme\"]]"
   ]
  },
  {
   "cell_type": "code",
   "execution_count": 9,
   "metadata": {},
   "outputs": [
    {
     "data": {
      "text/html": [
       "<div>\n",
       "<style scoped>\n",
       "    .dataframe tbody tr th:only-of-type {\n",
       "        vertical-align: middle;\n",
       "    }\n",
       "\n",
       "    .dataframe tbody tr th {\n",
       "        vertical-align: top;\n",
       "    }\n",
       "\n",
       "    .dataframe thead th {\n",
       "        text-align: right;\n",
       "    }\n",
       "</style>\n",
       "<table border=\"1\" class=\"dataframe\">\n",
       "  <thead>\n",
       "    <tr style=\"text-align: right;\">\n",
       "      <th></th>\n",
       "      <th>1_ortho</th>\n",
       "      <th>2_phon</th>\n",
       "      <th>3_lemme</th>\n",
       "      <th>4_cgram</th>\n",
       "      <th>5_genre</th>\n",
       "      <th>6_nombre</th>\n",
       "    </tr>\n",
       "  </thead>\n",
       "  <tbody>\n",
       "    <tr>\n",
       "      <th>271</th>\n",
       "      <td>abolitionniste</td>\n",
       "      <td>abolisjonist</td>\n",
       "      <td>abolitionniste</td>\n",
       "      <td>NOM</td>\n",
       "      <td>NaN</td>\n",
       "      <td>s</td>\n",
       "    </tr>\n",
       "    <tr>\n",
       "      <th>273</th>\n",
       "      <td>abolitionnistes</td>\n",
       "      <td>abolisjonist</td>\n",
       "      <td>abolitionniste</td>\n",
       "      <td>NOM</td>\n",
       "      <td>NaN</td>\n",
       "      <td>p</td>\n",
       "    </tr>\n",
       "    <tr>\n",
       "      <th>357</th>\n",
       "      <td>aborigène</td>\n",
       "      <td>aboRiZEn</td>\n",
       "      <td>aborigène</td>\n",
       "      <td>NOM</td>\n",
       "      <td>NaN</td>\n",
       "      <td>s</td>\n",
       "    </tr>\n",
       "    <tr>\n",
       "      <th>359</th>\n",
       "      <td>aborigènes</td>\n",
       "      <td>aboRiZEn</td>\n",
       "      <td>aborigène</td>\n",
       "      <td>NOM</td>\n",
       "      <td>NaN</td>\n",
       "      <td>p</td>\n",
       "    </tr>\n",
       "    <tr>\n",
       "      <th>378</th>\n",
       "      <td>aboulique</td>\n",
       "      <td>abulik</td>\n",
       "      <td>aboulique</td>\n",
       "      <td>NOM</td>\n",
       "      <td>NaN</td>\n",
       "      <td>s</td>\n",
       "    </tr>\n",
       "  </tbody>\n",
       "</table>\n",
       "</div>"
      ],
      "text/plain": [
       "             1_ortho        2_phon         3_lemme 4_cgram 5_genre 6_nombre\n",
       "271   abolitionniste  abolisjonist  abolitionniste     NOM     NaN        s\n",
       "273  abolitionnistes  abolisjonist  abolitionniste     NOM     NaN        p\n",
       "357        aborigène      aboRiZEn       aborigène     NOM     NaN        s\n",
       "359       aborigènes      aboRiZEn       aborigène     NOM     NaN        p\n",
       "378        aboulique        abulik       aboulique     NOM     NaN        s"
      ]
     },
     "execution_count": 9,
     "metadata": {},
     "output_type": "execute_result"
    }
   ],
   "source": [
    "dfNoms[dfNoms[\"5_genre\"].isnull()].head()"
   ]
  },
  {
   "cell_type": "code",
   "execution_count": 13,
   "metadata": {
    "scrolled": true
   },
   "outputs": [
    {
     "data": {
      "text/html": [
       "<div>\n",
       "<style scoped>\n",
       "    .dataframe tbody tr th:only-of-type {\n",
       "        vertical-align: middle;\n",
       "    }\n",
       "\n",
       "    .dataframe tbody tr th {\n",
       "        vertical-align: top;\n",
       "    }\n",
       "\n",
       "    .dataframe thead th {\n",
       "        text-align: right;\n",
       "    }\n",
       "</style>\n",
       "<table border=\"1\" class=\"dataframe\">\n",
       "  <thead>\n",
       "    <tr style=\"text-align: right;\">\n",
       "      <th></th>\n",
       "      <th>1_ortho</th>\n",
       "      <th>2_phon</th>\n",
       "      <th>3_lemme</th>\n",
       "      <th>4_cgram</th>\n",
       "      <th>5_genre</th>\n",
       "      <th>6_nombre</th>\n",
       "    </tr>\n",
       "  </thead>\n",
       "  <tbody>\n",
       "    <tr>\n",
       "      <th>0</th>\n",
       "      <td>a</td>\n",
       "      <td>a</td>\n",
       "      <td>a</td>\n",
       "      <td>NOM</td>\n",
       "      <td>m</td>\n",
       "      <td>NaN</td>\n",
       "    </tr>\n",
       "    <tr>\n",
       "      <th>12</th>\n",
       "      <td>a priori</td>\n",
       "      <td>apRijoRi</td>\n",
       "      <td>a priori</td>\n",
       "      <td>NOM</td>\n",
       "      <td>m</td>\n",
       "      <td>NaN</td>\n",
       "    </tr>\n",
       "    <tr>\n",
       "      <th>13</th>\n",
       "      <td>aa</td>\n",
       "      <td>aa</td>\n",
       "      <td>aa</td>\n",
       "      <td>NOM</td>\n",
       "      <td>m</td>\n",
       "      <td>s</td>\n",
       "    </tr>\n",
       "    <tr>\n",
       "      <th>17</th>\n",
       "      <td>abaca</td>\n",
       "      <td>abaka</td>\n",
       "      <td>abaca</td>\n",
       "      <td>NOM</td>\n",
       "      <td>m</td>\n",
       "      <td>s</td>\n",
       "    </tr>\n",
       "    <tr>\n",
       "      <th>27</th>\n",
       "      <td>abaisse-langue</td>\n",
       "      <td>abEsl@g</td>\n",
       "      <td>abaisse-langue</td>\n",
       "      <td>NOM</td>\n",
       "      <td>m</td>\n",
       "      <td>NaN</td>\n",
       "    </tr>\n",
       "  </tbody>\n",
       "</table>\n",
       "</div>"
      ],
      "text/plain": [
       "           1_ortho    2_phon         3_lemme 4_cgram 5_genre 6_nombre\n",
       "0                a         a               a     NOM       m      NaN\n",
       "12        a priori  apRijoRi        a priori     NOM       m      NaN\n",
       "13              aa        aa              aa     NOM       m        s\n",
       "17           abaca     abaka           abaca     NOM       m        s\n",
       "27  abaisse-langue   abEsl@g  abaisse-langue     NOM       m      NaN"
      ]
     },
     "execution_count": 13,
     "metadata": {},
     "output_type": "execute_result"
    }
   ],
   "source": [
    "dfNoms[dfNoms[\"5_genre\"]==\"m\"].head()"
   ]
  },
  {
   "cell_type": "markdown",
   "metadata": {},
   "source": [
    "# Combinaisons de traits"
   ]
  },
  {
   "cell_type": "code",
   "execution_count": 14,
   "metadata": {},
   "outputs": [],
   "source": [
    "def combinaisonsTraits(dfLocal):\n",
    "    genres={}\n",
    "    result={}\n",
    "    for g in \"mf\":\n",
    "        genres[g]=dfLocal[dfLocal[\"5_genre\"]==g]\n",
    "    genres[\"nan\"]=dfLocal[dfLocal[\"5_genre\"].isnull()]\n",
    "    for g in genres:\n",
    "        for n in \"sp\":\n",
    "            result[(g,n)]=genres[g][genres[g][\"6_nombre\"]==n]\n",
    "        result[(g,\"nan\")]=genres[g][genres[g][\"6_nombre\"].isnull()]\n",
    "    return result"
   ]
  },
  {
   "cell_type": "code",
   "execution_count": 55,
   "metadata": {},
   "outputs": [],
   "source": [
    "def calculerCouvertureNoms(dfLocal):\n",
    "    nbFormes=0\n",
    "    for k,v in combinaisonsTraits(dfLocal).iteritems():\n",
    "#        print k,v.count()[\"3_lemme\"]\n",
    "        if not \"nan\" in k:\n",
    "            nbFormes+=v.count()[\"3_lemme\"]\n",
    "        else:\n",
    "            if k==(\"nan\",\"nan\"):\n",
    "                nbFormes+=4*v.count()[\"3_lemme\"]\n",
    "            else:\n",
    "                nbFormes+=2*v.count()[\"3_lemme\"]\n",
    "#    len(pd.unique(dfNoms[[\"3_lemme\",\"5_genre\"]].values.ravel(\"K\")))\n",
    "\n",
    "    dfEpicenes=dfLocal[dfLocal[\"5_genre\"].isnull()]\n",
    "    dfGenres=dfLocal[~dfLocal[\"5_genre\"].isnull()]\n",
    "\n",
    "    nbEpicenes=len(pd.unique(dfEpicenes[[\"3_lemme\",\"5_genre\"]].values.ravel(\"K\")))\n",
    "    nbGenres=len(pd.unique(dfGenres[[\"3_lemme\",\"5_genre\"]].values.ravel(\"K\")))\n",
    "    nbTotal=nbEpicenes*2+nbGenres\n",
    "\n",
    "    print u\"épicènes\\t%d (x2)\"%nbEpicenes\n",
    "    print u\"genrés\\t\\t%d\"%nbGenres\n",
    "    print u\"nombre total\\t%d\"%nbTotal\n",
    "    print \n",
    "    print \"nombre de formes de noms\",nbFormes\n",
    "    print \"nb de cases de paradigme\",nbTotal*2\n",
    "    print u\"couverture %0.3g%%\"%(100*float(nbFormes)/(nbTotal*2))"
   ]
  },
  {
   "cell_type": "code",
   "execution_count": 56,
   "metadata": {},
   "outputs": [
    {
     "name": "stdout",
     "output_type": "stream",
     "text": [
      "épicènes\t1667 (x2)\n",
      "genrés\t\t28957\n",
      "nombre total\t32291\n",
      "\n",
      "nombre de formes de noms 52708\n",
      "nb de cases de paradigme 64582\n",
      "couverture 81.6%\n"
     ]
    }
   ],
   "source": [
    "calculerCouvertureNoms(dfNoms)"
   ]
  },
  {
   "cell_type": "code",
   "execution_count": 53,
   "metadata": {},
   "outputs": [],
   "source": [
    "def calculerCouvertureAdjectifs(dfLocal):\n",
    "    nbFormes=0\n",
    "    for k,v in combinaisonsTraits(dfLocal).iteritems():\n",
    "#        print k,v.count()[\"3_lemme\"]\n",
    "        if not \"nan\" in k:\n",
    "            nbFormes+=v.count()[\"3_lemme\"]\n",
    "        else:\n",
    "            if k==(\"nan\",\"nan\"):\n",
    "                nbFormes+=4*v.count()[\"3_lemme\"]\n",
    "            else:\n",
    "                nbFormes+=2*v.count()[\"3_lemme\"]\n",
    "    nbTotal=len(pd.unique(dfLocal[[\"3_lemme\"]].values.ravel(\"K\")))\n",
    "    print u\"nombre total d'adjectifs\",nbTotal\n",
    "    print\n",
    "    print \"nombre de formes d'ajectifs\",nbFormes\n",
    "    print \"nombre de cases de paradigme\",nbTotal*4\n",
    "    print u\"couverture %0.3g%%\"%(100*float(nbFormes)/(nbTotal*4))"
   ]
  },
  {
   "cell_type": "code",
   "execution_count": 54,
   "metadata": {},
   "outputs": [
    {
     "name": "stdout",
     "output_type": "stream",
     "text": [
      "nombre total d'adjectifs 11580\n",
      "\n",
      "nombre de formes d'ajectifs 32568\n",
      "nombre de cases de paradigme 46320\n",
      "couverture 70.3%\n"
     ]
    }
   ],
   "source": [
    "calculerCouvertureAdjectifs(dfAdjectifs)"
   ]
  },
  {
   "cell_type": "markdown",
   "metadata": {},
   "source": [
    "# Calculer le nombre de microclasses"
   ]
  }
 ],
 "metadata": {
  "kernelspec": {
   "display_name": "Python 2",
   "language": "python",
   "name": "python2"
  },
  "language_info": {
   "codemirror_mode": {
    "name": "ipython",
    "version": 2
   },
   "file_extension": ".py",
   "mimetype": "text/x-python",
   "name": "python",
   "nbconvert_exporter": "python",
   "pygments_lexer": "ipython2",
   "version": "2.7.15"
  }
 },
 "nbformat": 4,
 "nbformat_minor": 1
}
