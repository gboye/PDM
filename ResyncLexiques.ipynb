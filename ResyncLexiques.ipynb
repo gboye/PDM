{
 "metadata": {
  "name": "",
  "signature": "sha256:84bc65729cc25e4bb02ba31e81f98a58d43b5281b26e2268d2b3270ac0fd1396"
 },
 "nbformat": 3,
 "nbformat_minor": 0,
 "worksheets": [
  {
   "cells": [
    {
     "cell_type": "markdown",
     "metadata": {},
     "source": [
      "##Importations\n",
      "- codecs pour les encodages\n",
      "- pandas et numpy pour les calculs sur tableaux\n",
      "- matplotlib pour les graphiques\n",
      "- itertools pour les it\u00e9rateurs sophistiqu\u00e9s (paires sur liste, ...)"
     ]
    },
    {
     "cell_type": "code",
     "collapsed": false,
     "input": [
      "# -*- coding: utf8 -*-\n",
      "import codecs\n",
      "import re\n",
      "import csv\n",
      "import numpy as np\n",
      "import matplotlib.pyplot as plt\n",
      "import itertools as it"
     ],
     "language": "python",
     "metadata": {},
     "outputs": [],
     "prompt_number": 32
    },
    {
     "cell_type": "markdown",
     "metadata": {},
     "source": [
      "#Pr\u00e9paration du lexique"
     ]
    },
    {
     "cell_type": "markdown",
     "metadata": {},
     "source": [
      "###Lecture des lexiques"
     ]
    },
    {
     "cell_type": "code",
     "collapsed": false,
     "input": [
      "nomLexique=\"/Users/gilles/Copy/Python/phonemisation/bdlexique-PDM.txt\"\n",
      "with codecs.open(nomLexique, 'r',encoding='utf8') as infile:\n",
      "    bdlexique=infile.readlines()\n",
      "for ligne in bdlexique[:5]:\n",
      "    (ortho,phono,ext,cs,ms,vs,lexeme,L23,lemmeFrantext,lemmeFilms,formeFrantext,formeFilms)=ligne.strip().split(\";\")\n",
      "    print ortho,cs,ms,vs,lexeme,lemmeFrantext,lemmeFilms,formeFrantext,formeFilms"
     ],
     "language": "python",
     "metadata": {},
     "outputs": [
      {
       "output_type": "stream",
       "stream": "stdout",
       "text": [
        "a N Mj  a 8136 5865 8136 5865\n",
        "\u00e0 p   \u00e0 1219040 1920905 1219040 1920905\n",
        "abaca N MS  abaca 1 0 1 0\n",
        "abacas N MP  abaca *** *** *** ***\n",
        "abacule N MS  abacule *** *** *** ***\n"
       ]
      }
     ],
     "prompt_number": 153
    },
    {
     "cell_type": "code",
     "collapsed": false,
     "input": [
      "nomLexiqueOrg=\"/Users/gilles/Copy/Python/phonemisation/Lexique380-UTF8.txt\"\n",
      "verbes={}\n",
      "vlemmes={}\n",
      "noms={}\n",
      "nlemmes={}\n",
      "adjectifs={}\n",
      "alemmes={}\n",
      "with codecs.open(nomLexiqueOrg, 'r',encoding='utf8') as infile:\n",
      "    lexiqueorg=infile.readlines()\n",
      "for ligne in lexiqueorg[1:]:\n",
      "    morceaux=ligne.strip().split(\"\\t\")\n",
      "    (ortho,phon,lemme,cgram,genre,nombre,freqlemfilms2,freqlemlivres,freqfilms2,freqlivres,infover)=morceaux[:11]\n",
      "    freqlemfilms2=str(int(100*float(freqlemfilms2)))\n",
      "    freqlemlivres=str(int(100*float(freqlemlivres)))\n",
      "    freqfilms2=str(int(100*float(freqfilms2)))\n",
      "    freqlivres=str(int(100*float(freqlivres)))\n",
      "    if cgram==\"NOM\":\n",
      "        vs=genre.upper()+nombre.upper()\n",
      "        nom=\";\".join([ortho,lemme,vs])\n",
      "        noms[nom]=(freqlemfilms2,freqlemlivres,freqfilms2,freqlivres)\n",
      "        if not lemme in nlemmes:\n",
      "            nlemmes[lemme]=(freqlemfilms2,freqlemlivres)\n",
      "#        print nom, noms[nom]\n",
      "    elif cgram==\"ADJ\":\n",
      "        vs=genre.upper()+nombre.upper()\n",
      "        adjectif=\";\".join([ortho,lemme,vs])\n",
      "        adjectifs[adjectif]=(freqlemfilms2,freqlemlivres,freqfilms2,freqlivres)\n",
      "        if not lemme in alemmes:\n",
      "            alemmes[lemme]=(freqlemfilms2,freqlemlivres)\n",
      "#        print adjectif, adjectifs[adjectif]\n",
      "    elif cgram==\"VER\":\n",
      "        if infover==\"ind:pre:2p;inf;\":\n",
      "            infover=\"inf;\"\n",
      "        tams=infover.rstrip(\";\").split(\";\")\n",
      "        for tam in tams:\n",
      "            morceaux=tam.split(\":\")\n",
      "            if len(morceaux)==3:\n",
      "                if morceaux[0]==\"imp\":\n",
      "                    mode=\"I\"\n",
      "                else:\n",
      "                    mode=morceaux[0][0]\n",
      "                infotam=morceaux[1][0]+mode+morceaux[2].upper()\n",
      "            elif len(morceaux)==2:\n",
      "                if morceaux[1]==\"pre\":\n",
      "                    infotam=morceaux[0][0]+\"P\"\n",
      "                elif morceaux[1]==\"pas\":\n",
      "                    infotam=genre.upper()+nombre.upper()\n",
      "            elif len(morceaux)==1:\n",
      "                infotam=morceaux[0]\n",
      "            verbe=\";\".join([ortho,lemme,infotam])\n",
      "            verbes[verbe]=(freqlemfilms2,freqlemlivres,freqfilms2,freqlivres)\n",
      "            if not lemme in vlemmes:\n",
      "                vlemmes[lemme]=(freqlemfilms2,freqlemlivres)\n",
      "#            print verbe, verbes[verbe]\n"
     ],
     "language": "python",
     "metadata": {},
     "outputs": [],
     "prompt_number": 142
    },
    {
     "cell_type": "code",
     "collapsed": false,
     "input": [
      "resync=[]\n",
      "for ligne in bdlexique[:]:\n",
      "    nouvelleLigne=ligne\n",
      "    try :\n",
      "        (ortho,phono,ext,cs,ms,vs,lexeme,L23,lemmeFrantext,lemmeFilms,formeFrantext,formeFilms)=ligne.strip().split(\";\")\n",
      "    except ValueError:\n",
      "        print ligne\n",
      "#    print ortho, lexeme, lemmeFrantext,lemmeFilms,formeFrantext,formeFilms\n",
      "    if cs in [\"V\",\"K\"]:\n",
      "        verbe=\";\".join([ortho,lexeme,vs+ms])\n",
      "        if verbe in verbes:\n",
      "            if lemmeFrantext!=verbes[verbe][0] and lemmeFilms!=verbes[verbe][1] and formeFrantext!=verbes[verbe][2] and formeFilms!=verbes[verbe][3]:\n",
      "#                print \"different\"\n",
      "#                print verbe, verbes[verbe]\n",
      "                nouvelleLigne=\";\".join([ortho,phono,ext,cs,ms,vs,lexeme,L23,verbes[verbe][0],verbes[verbe][1],verbes[verbe][2],verbes[verbe][3]])\n",
      "        elif lexeme in vlemmes:\n",
      "#            print vlemmes[lexeme]\n",
      "            nouvelleLigne=\";\".join([ortho,phono,ext,cs,ms,vs,lexeme,L23,vlemmes[lexeme][0],vlemmes[lexeme][1],formeFrantext,formeFilms])\n",
      "    elif cs in [\"G\",\"H\",\"I\",\"J\"]:\n",
      "        adjectif=\";\".join([ortho,lexeme,ms])\n",
      "        if adjectif in adjectifs:\n",
      "#            print adjectifs[adjectif]\n",
      "            nouvelleLigne=\";\".join([ortho,phono,ext,cs,ms,vs,lexeme,L23,adjectifs[adjectif][0],adjectifs[adjectif][1],adjectifs[adjectif][2],adjectifs[adjectif][3]])\n",
      "        elif lexeme in alemmes:\n",
      "#            print alemmes[lexeme]\n",
      "            nouvelleLigne=\";\".join([ortho,phono,ext,cs,ms,vs,lexeme,L23,alemmes[lexeme][0],alemmes[lexeme][1],formeFrantext,formeFilms])\n",
      "    elif cs in [\"N\"]:\n",
      "        nom=\";\".join([ortho,lexeme,ms])\n",
      "        if nom in noms:\n",
      "#            print noms[nom]\n",
      "            nouvelleLigne=\";\".join([ortho,phono,ext,cs,ms,vs,lexeme,L23,noms[nom][0],noms[nom][1],noms[nom][2],noms[nom][3]])\n",
      "        elif lexeme in nlemmes:\n",
      "#            print nlemmes[lexeme]\n",
      "            nouvelleLigne=\";\".join([ortho,phono,ext,cs,ms,vs,lexeme,L23,nlemmes[lexeme][0],nlemmes[lexeme][1],formeFrantext,formeFilms])\n",
      "    resync.append(nouvelleLigne)\n",
      "    "
     ],
     "language": "python",
     "metadata": {},
     "outputs": [],
     "prompt_number": 154
    },
    {
     "cell_type": "code",
     "collapsed": false,
     "input": [
      "nomLexiqueResync=nomLexique.split(\".\")[0]+\"-Resync.txt\"\n",
      "resync=[x.rstrip(\"\\n\")+\"\\n\" for x in resync]\n",
      "with codecs.open(nomLexiqueResync, 'w',encoding='utf8') as outfile:\n",
      "    outfile.writelines(resync)\n"
     ],
     "language": "python",
     "metadata": {},
     "outputs": [],
     "prompt_number": 155
    }
   ],
   "metadata": {}
  }
 ]
}